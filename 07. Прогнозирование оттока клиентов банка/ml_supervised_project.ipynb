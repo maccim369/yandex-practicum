{
 "cells": [
  {
   "cell_type": "markdown",
   "metadata": {},
   "source": [
    "# План работы\n",
    "\n",
    "1. Подготовка данных\n",
    "2. Исследование задачи\n",
    "3. Обработка дисбаланса\n",
    "4. Тестирование модели\n",
    "5. Вывод"
   ]
  },
  {
   "cell_type": "markdown",
   "metadata": {},
   "source": [
    "## Подготовка данных"
   ]
  },
  {
   "cell_type": "markdown",
   "metadata": {},
   "source": [
    "<div style=\"border:solid blue 2px; padding: 20px\">\n",
    "\n",
    "Откроем и изучим файл\n",
    "</div>"
   ]
  },
  {
   "cell_type": "markdown",
   "metadata": {},
   "source": [
    "<div style=\"border:solid blue 2px; padding: 20px\">\n",
    "\n",
    "Импортируем библиотеки\n",
    "</div>"
   ]
  },
  {
   "cell_type": "code",
   "execution_count": 1,
   "metadata": {},
   "outputs": [],
   "source": [
    "import matplotlib.pyplot as plt\n",
    "import numpy as np\n",
    "import pandas as pd\n",
    "from sklearn.model_selection import train_test_split\n",
    "from sklearn.linear_model import LogisticRegression\n",
    "from sklearn.tree import DecisionTreeClassifier\n",
    "from sklearn.ensemble import RandomForestClassifier\n",
    "from sklearn.naive_bayes import GaussianNB\n",
    "from sklearn.metrics import f1_score, precision_score, recall_score, accuracy_score, roc_auc_score, roc_curve\n",
    "from sklearn.utils import shuffle\n",
    "import warnings\n",
    "warnings.filterwarnings('ignore')"
   ]
  },
  {
   "cell_type": "code",
   "execution_count": 2,
   "metadata": {},
   "outputs": [],
   "source": [
    "# чтение файла с данными и сохранение в data_users\n",
    "# метод try-except поможет загрузить данные локально или глобально\n",
    "try:\n",
    "    df = pd.read_csv('C:/Users/Churn.csv')  # Локальный путь\n",
    "except:\n",
    "    df = pd.read_csv('/datasets/Churn.csv')  # Серверный путь"
   ]
  },
  {
   "cell_type": "markdown",
   "metadata": {},
   "source": [
    "<div style=\"border:solid blue 2px; padding: 20px\">\n",
    "    \n",
    "`head()` выводим на экран первые пять строк таблицы:\n",
    "    </div>"
   ]
  },
  {
   "cell_type": "code",
   "execution_count": 3,
   "metadata": {},
   "outputs": [
    {
     "data": {
      "text/html": [
       "<div>\n",
       "<style scoped>\n",
       "    .dataframe tbody tr th:only-of-type {\n",
       "        vertical-align: middle;\n",
       "    }\n",
       "\n",
       "    .dataframe tbody tr th {\n",
       "        vertical-align: top;\n",
       "    }\n",
       "\n",
       "    .dataframe thead th {\n",
       "        text-align: right;\n",
       "    }\n",
       "</style>\n",
       "<table border=\"1\" class=\"dataframe\">\n",
       "  <thead>\n",
       "    <tr style=\"text-align: right;\">\n",
       "      <th></th>\n",
       "      <th>RowNumber</th>\n",
       "      <th>CustomerId</th>\n",
       "      <th>Surname</th>\n",
       "      <th>CreditScore</th>\n",
       "      <th>Geography</th>\n",
       "      <th>Gender</th>\n",
       "      <th>Age</th>\n",
       "      <th>Tenure</th>\n",
       "      <th>Balance</th>\n",
       "      <th>NumOfProducts</th>\n",
       "      <th>HasCrCard</th>\n",
       "      <th>IsActiveMember</th>\n",
       "      <th>EstimatedSalary</th>\n",
       "      <th>Exited</th>\n",
       "    </tr>\n",
       "  </thead>\n",
       "  <tbody>\n",
       "    <tr>\n",
       "      <td>0</td>\n",
       "      <td>1</td>\n",
       "      <td>15634602</td>\n",
       "      <td>Hargrave</td>\n",
       "      <td>619</td>\n",
       "      <td>France</td>\n",
       "      <td>Female</td>\n",
       "      <td>42</td>\n",
       "      <td>2.0</td>\n",
       "      <td>0.00</td>\n",
       "      <td>1</td>\n",
       "      <td>1</td>\n",
       "      <td>1</td>\n",
       "      <td>101348.88</td>\n",
       "      <td>1</td>\n",
       "    </tr>\n",
       "    <tr>\n",
       "      <td>1</td>\n",
       "      <td>2</td>\n",
       "      <td>15647311</td>\n",
       "      <td>Hill</td>\n",
       "      <td>608</td>\n",
       "      <td>Spain</td>\n",
       "      <td>Female</td>\n",
       "      <td>41</td>\n",
       "      <td>1.0</td>\n",
       "      <td>83807.86</td>\n",
       "      <td>1</td>\n",
       "      <td>0</td>\n",
       "      <td>1</td>\n",
       "      <td>112542.58</td>\n",
       "      <td>0</td>\n",
       "    </tr>\n",
       "    <tr>\n",
       "      <td>2</td>\n",
       "      <td>3</td>\n",
       "      <td>15619304</td>\n",
       "      <td>Onio</td>\n",
       "      <td>502</td>\n",
       "      <td>France</td>\n",
       "      <td>Female</td>\n",
       "      <td>42</td>\n",
       "      <td>8.0</td>\n",
       "      <td>159660.80</td>\n",
       "      <td>3</td>\n",
       "      <td>1</td>\n",
       "      <td>0</td>\n",
       "      <td>113931.57</td>\n",
       "      <td>1</td>\n",
       "    </tr>\n",
       "    <tr>\n",
       "      <td>3</td>\n",
       "      <td>4</td>\n",
       "      <td>15701354</td>\n",
       "      <td>Boni</td>\n",
       "      <td>699</td>\n",
       "      <td>France</td>\n",
       "      <td>Female</td>\n",
       "      <td>39</td>\n",
       "      <td>1.0</td>\n",
       "      <td>0.00</td>\n",
       "      <td>2</td>\n",
       "      <td>0</td>\n",
       "      <td>0</td>\n",
       "      <td>93826.63</td>\n",
       "      <td>0</td>\n",
       "    </tr>\n",
       "    <tr>\n",
       "      <td>4</td>\n",
       "      <td>5</td>\n",
       "      <td>15737888</td>\n",
       "      <td>Mitchell</td>\n",
       "      <td>850</td>\n",
       "      <td>Spain</td>\n",
       "      <td>Female</td>\n",
       "      <td>43</td>\n",
       "      <td>2.0</td>\n",
       "      <td>125510.82</td>\n",
       "      <td>1</td>\n",
       "      <td>1</td>\n",
       "      <td>1</td>\n",
       "      <td>79084.10</td>\n",
       "      <td>0</td>\n",
       "    </tr>\n",
       "  </tbody>\n",
       "</table>\n",
       "</div>"
      ],
      "text/plain": [
       "   RowNumber  CustomerId   Surname  CreditScore Geography  Gender  Age  \\\n",
       "0          1    15634602  Hargrave          619    France  Female   42   \n",
       "1          2    15647311      Hill          608     Spain  Female   41   \n",
       "2          3    15619304      Onio          502    France  Female   42   \n",
       "3          4    15701354      Boni          699    France  Female   39   \n",
       "4          5    15737888  Mitchell          850     Spain  Female   43   \n",
       "\n",
       "   Tenure    Balance  NumOfProducts  HasCrCard  IsActiveMember  \\\n",
       "0     2.0       0.00              1          1               1   \n",
       "1     1.0   83807.86              1          0               1   \n",
       "2     8.0  159660.80              3          1               0   \n",
       "3     1.0       0.00              2          0               0   \n",
       "4     2.0  125510.82              1          1               1   \n",
       "\n",
       "   EstimatedSalary  Exited  \n",
       "0        101348.88       1  \n",
       "1        112542.58       0  \n",
       "2        113931.57       1  \n",
       "3         93826.63       0  \n",
       "4         79084.10       0  "
      ]
     },
     "execution_count": 3,
     "metadata": {},
     "output_type": "execute_result"
    }
   ],
   "source": [
    "# получение первых 5 строк таблицы\n",
    "df.head()"
   ]
  },
  {
   "cell_type": "markdown",
   "metadata": {},
   "source": [
    "<div style=\"border:solid blue 2px; padding: 20px\">\n",
    "    \n",
    "`info()` получим общую информацию о таблице:\n",
    "    </div>"
   ]
  },
  {
   "cell_type": "code",
   "execution_count": 4,
   "metadata": {},
   "outputs": [
    {
     "name": "stdout",
     "output_type": "stream",
     "text": [
      "<class 'pandas.core.frame.DataFrame'>\n",
      "RangeIndex: 10000 entries, 0 to 9999\n",
      "Data columns (total 14 columns):\n",
      "RowNumber          10000 non-null int64\n",
      "CustomerId         10000 non-null int64\n",
      "Surname            10000 non-null object\n",
      "CreditScore        10000 non-null int64\n",
      "Geography          10000 non-null object\n",
      "Gender             10000 non-null object\n",
      "Age                10000 non-null int64\n",
      "Tenure             9091 non-null float64\n",
      "Balance            10000 non-null float64\n",
      "NumOfProducts      10000 non-null int64\n",
      "HasCrCard          10000 non-null int64\n",
      "IsActiveMember     10000 non-null int64\n",
      "EstimatedSalary    10000 non-null float64\n",
      "Exited             10000 non-null int64\n",
      "dtypes: float64(3), int64(8), object(3)\n",
      "memory usage: 1.1+ MB\n"
     ]
    }
   ],
   "source": [
    "# получение общей информации о данных в таблице\n",
    "df.info()"
   ]
  },
  {
   "cell_type": "markdown",
   "metadata": {},
   "source": [
    "<div style=\"border:solid blue 2px; padding: 20px\">\n",
    "    \n",
    " \n",
    "Методом `describe()` получим описание данных\n",
    "    \n",
    "    \n",
    "</div> "
   ]
  },
  {
   "cell_type": "code",
   "execution_count": 5,
   "metadata": {},
   "outputs": [
    {
     "data": {
      "text/html": [
       "<div>\n",
       "<style scoped>\n",
       "    .dataframe tbody tr th:only-of-type {\n",
       "        vertical-align: middle;\n",
       "    }\n",
       "\n",
       "    .dataframe tbody tr th {\n",
       "        vertical-align: top;\n",
       "    }\n",
       "\n",
       "    .dataframe thead th {\n",
       "        text-align: right;\n",
       "    }\n",
       "</style>\n",
       "<table border=\"1\" class=\"dataframe\">\n",
       "  <thead>\n",
       "    <tr style=\"text-align: right;\">\n",
       "      <th></th>\n",
       "      <th>RowNumber</th>\n",
       "      <th>CustomerId</th>\n",
       "      <th>CreditScore</th>\n",
       "      <th>Age</th>\n",
       "      <th>Tenure</th>\n",
       "      <th>Balance</th>\n",
       "      <th>NumOfProducts</th>\n",
       "      <th>HasCrCard</th>\n",
       "      <th>IsActiveMember</th>\n",
       "      <th>EstimatedSalary</th>\n",
       "      <th>Exited</th>\n",
       "    </tr>\n",
       "  </thead>\n",
       "  <tbody>\n",
       "    <tr>\n",
       "      <td>count</td>\n",
       "      <td>10000.00000</td>\n",
       "      <td>1.000000e+04</td>\n",
       "      <td>10000.000000</td>\n",
       "      <td>10000.000000</td>\n",
       "      <td>9091.000000</td>\n",
       "      <td>10000.000000</td>\n",
       "      <td>10000.000000</td>\n",
       "      <td>10000.00000</td>\n",
       "      <td>10000.000000</td>\n",
       "      <td>10000.000000</td>\n",
       "      <td>10000.000000</td>\n",
       "    </tr>\n",
       "    <tr>\n",
       "      <td>mean</td>\n",
       "      <td>5000.50000</td>\n",
       "      <td>1.569094e+07</td>\n",
       "      <td>650.528800</td>\n",
       "      <td>38.921800</td>\n",
       "      <td>4.997690</td>\n",
       "      <td>76485.889288</td>\n",
       "      <td>1.530200</td>\n",
       "      <td>0.70550</td>\n",
       "      <td>0.515100</td>\n",
       "      <td>100090.239881</td>\n",
       "      <td>0.203700</td>\n",
       "    </tr>\n",
       "    <tr>\n",
       "      <td>std</td>\n",
       "      <td>2886.89568</td>\n",
       "      <td>7.193619e+04</td>\n",
       "      <td>96.653299</td>\n",
       "      <td>10.487806</td>\n",
       "      <td>2.894723</td>\n",
       "      <td>62397.405202</td>\n",
       "      <td>0.581654</td>\n",
       "      <td>0.45584</td>\n",
       "      <td>0.499797</td>\n",
       "      <td>57510.492818</td>\n",
       "      <td>0.402769</td>\n",
       "    </tr>\n",
       "    <tr>\n",
       "      <td>min</td>\n",
       "      <td>1.00000</td>\n",
       "      <td>1.556570e+07</td>\n",
       "      <td>350.000000</td>\n",
       "      <td>18.000000</td>\n",
       "      <td>0.000000</td>\n",
       "      <td>0.000000</td>\n",
       "      <td>1.000000</td>\n",
       "      <td>0.00000</td>\n",
       "      <td>0.000000</td>\n",
       "      <td>11.580000</td>\n",
       "      <td>0.000000</td>\n",
       "    </tr>\n",
       "    <tr>\n",
       "      <td>25%</td>\n",
       "      <td>2500.75000</td>\n",
       "      <td>1.562853e+07</td>\n",
       "      <td>584.000000</td>\n",
       "      <td>32.000000</td>\n",
       "      <td>2.000000</td>\n",
       "      <td>0.000000</td>\n",
       "      <td>1.000000</td>\n",
       "      <td>0.00000</td>\n",
       "      <td>0.000000</td>\n",
       "      <td>51002.110000</td>\n",
       "      <td>0.000000</td>\n",
       "    </tr>\n",
       "    <tr>\n",
       "      <td>50%</td>\n",
       "      <td>5000.50000</td>\n",
       "      <td>1.569074e+07</td>\n",
       "      <td>652.000000</td>\n",
       "      <td>37.000000</td>\n",
       "      <td>5.000000</td>\n",
       "      <td>97198.540000</td>\n",
       "      <td>1.000000</td>\n",
       "      <td>1.00000</td>\n",
       "      <td>1.000000</td>\n",
       "      <td>100193.915000</td>\n",
       "      <td>0.000000</td>\n",
       "    </tr>\n",
       "    <tr>\n",
       "      <td>75%</td>\n",
       "      <td>7500.25000</td>\n",
       "      <td>1.575323e+07</td>\n",
       "      <td>718.000000</td>\n",
       "      <td>44.000000</td>\n",
       "      <td>7.000000</td>\n",
       "      <td>127644.240000</td>\n",
       "      <td>2.000000</td>\n",
       "      <td>1.00000</td>\n",
       "      <td>1.000000</td>\n",
       "      <td>149388.247500</td>\n",
       "      <td>0.000000</td>\n",
       "    </tr>\n",
       "    <tr>\n",
       "      <td>max</td>\n",
       "      <td>10000.00000</td>\n",
       "      <td>1.581569e+07</td>\n",
       "      <td>850.000000</td>\n",
       "      <td>92.000000</td>\n",
       "      <td>10.000000</td>\n",
       "      <td>250898.090000</td>\n",
       "      <td>4.000000</td>\n",
       "      <td>1.00000</td>\n",
       "      <td>1.000000</td>\n",
       "      <td>199992.480000</td>\n",
       "      <td>1.000000</td>\n",
       "    </tr>\n",
       "  </tbody>\n",
       "</table>\n",
       "</div>"
      ],
      "text/plain": [
       "         RowNumber    CustomerId   CreditScore           Age       Tenure  \\\n",
       "count  10000.00000  1.000000e+04  10000.000000  10000.000000  9091.000000   \n",
       "mean    5000.50000  1.569094e+07    650.528800     38.921800     4.997690   \n",
       "std     2886.89568  7.193619e+04     96.653299     10.487806     2.894723   \n",
       "min        1.00000  1.556570e+07    350.000000     18.000000     0.000000   \n",
       "25%     2500.75000  1.562853e+07    584.000000     32.000000     2.000000   \n",
       "50%     5000.50000  1.569074e+07    652.000000     37.000000     5.000000   \n",
       "75%     7500.25000  1.575323e+07    718.000000     44.000000     7.000000   \n",
       "max    10000.00000  1.581569e+07    850.000000     92.000000    10.000000   \n",
       "\n",
       "             Balance  NumOfProducts    HasCrCard  IsActiveMember  \\\n",
       "count   10000.000000   10000.000000  10000.00000    10000.000000   \n",
       "mean    76485.889288       1.530200      0.70550        0.515100   \n",
       "std     62397.405202       0.581654      0.45584        0.499797   \n",
       "min         0.000000       1.000000      0.00000        0.000000   \n",
       "25%         0.000000       1.000000      0.00000        0.000000   \n",
       "50%     97198.540000       1.000000      1.00000        1.000000   \n",
       "75%    127644.240000       2.000000      1.00000        1.000000   \n",
       "max    250898.090000       4.000000      1.00000        1.000000   \n",
       "\n",
       "       EstimatedSalary        Exited  \n",
       "count     10000.000000  10000.000000  \n",
       "mean     100090.239881      0.203700  \n",
       "std       57510.492818      0.402769  \n",
       "min          11.580000      0.000000  \n",
       "25%       51002.110000      0.000000  \n",
       "50%      100193.915000      0.000000  \n",
       "75%      149388.247500      0.000000  \n",
       "max      199992.480000      1.000000  "
      ]
     },
     "execution_count": 5,
     "metadata": {},
     "output_type": "execute_result"
    }
   ],
   "source": [
    "# описание данных\n",
    "df.describe()"
   ]
  },
  {
   "cell_type": "markdown",
   "metadata": {},
   "source": [
    "<div style=\"border:solid blue 2px; padding: 20px\">\n",
    "    \n",
    " \n",
    "Методом `unique()` получим уникальные значения\n",
    "    \n",
    "    \n",
    "</div> "
   ]
  },
  {
   "cell_type": "code",
   "execution_count": 6,
   "metadata": {},
   "outputs": [
    {
     "data": {
      "text/plain": [
       "array([ 0.,  1.,  2.,  3.,  4.,  5.,  6.,  7.,  8.,  9., 10., nan])"
      ]
     },
     "execution_count": 6,
     "metadata": {},
     "output_type": "execute_result"
    }
   ],
   "source": [
    "# просмотр уникальных Tenure\n",
    "df['Tenure'].sort_values().unique()"
   ]
  },
  {
   "cell_type": "markdown",
   "metadata": {},
   "source": [
    "<div style=\"border:solid blue 2px; padding: 20px\">\n",
    "    \n",
    "Пропуски `Tenure` обнаружены `NaN`\n",
    "    \n",
    "Причина появления: технологическая. \n",
    "    \n",
    "Возможно пропуски появились при выгрузке данных.\n",
    "    \n",
    "Проблему решим заполнением на `11`, принимая это значение у клиентов за `unknown`,\n",
    "    \n",
    "при этом сохраним все объеты не удаляя пропуски и не заменяя их на некорректные.\n",
    "    \n",
    "Хотя можно предположить что объекты с пропусками значений в признаке `Tenure`,\n",
    "    \n",
    "являются с неизвестной клиентской историей и их можно было бы причислить к новым клиентам,\n",
    "    \n",
    "со значением в признаке `Tenure` `0`, но лучше данные не искажать неподтверждёнными фактами!!!\n",
    "    \n",
    "Можно предложить сделать выбор `Tenure` с помощью выпадающего списка, чтобы устранить пропуски.\n",
    "    \n",
    "</div>"
   ]
  },
  {
   "cell_type": "markdown",
   "metadata": {},
   "source": [
    "<div style=\"border:solid blue 2px; padding: 20px\">\n",
    "    \n",
    "\n",
    "Методом `fillna()` заменим в `Tenure` пропуски `NaN` на `11`\n",
    "\n",
    "    \n",
    "    \n",
    "</div> "
   ]
  },
  {
   "cell_type": "code",
   "execution_count": 7,
   "metadata": {},
   "outputs": [],
   "source": [
    "# замена пропусков в Tenure\n",
    "df['Tenure'] = df['Tenure'].fillna(11)"
   ]
  },
  {
   "cell_type": "code",
   "execution_count": 8,
   "metadata": {},
   "outputs": [],
   "source": [
    "# замена вещественных типов на целые\n",
    "df['Tenure'] = df['Tenure'].astype('int')"
   ]
  },
  {
   "cell_type": "markdown",
   "metadata": {},
   "source": [
    "<div style=\"border:solid blue 2px; padding: 20px\">\n",
    "    \n",
    "\n",
    "Методом `str.lower()` приведём к лаконичному виду названия столбцов `columns`\n",
    "\n",
    "    \n",
    "    \n",
    "</div> "
   ]
  },
  {
   "cell_type": "code",
   "execution_count": 9,
   "metadata": {},
   "outputs": [
    {
     "data": {
      "text/plain": [
       "Index(['rownumber', 'customerid', 'surname', 'creditscore', 'geography',\n",
       "       'gender', 'age', 'tenure', 'balance', 'numofproducts', 'hascrcard',\n",
       "       'isactivemember', 'estimatedsalary', 'exited'],\n",
       "      dtype='object')"
      ]
     },
     "execution_count": 9,
     "metadata": {},
     "output_type": "execute_result"
    }
   ],
   "source": [
    "# пназвания столбцов к нижнему регистру\n",
    "df.columns = df.columns.str.lower()\n",
    "df.columns"
   ]
  },
  {
   "cell_type": "markdown",
   "metadata": {},
   "source": [
    "<div style=\"border:solid blue 2px; padding: 20px\">\n",
    "    \n",
    "Посчитаем сколько строк являются дубликатами.\n",
    "    \n",
    "    \n",
    "</div>"
   ]
  },
  {
   "cell_type": "code",
   "execution_count": 10,
   "metadata": {},
   "outputs": [
    {
     "name": "stdout",
     "output_type": "stream",
     "text": [
      "Всего строк дубликатов:  0\n"
     ]
    }
   ],
   "source": [
    "# подсчет явных дубликатов\n",
    "print('Всего строк дубликатов: ', df.duplicated().sum())"
   ]
  },
  {
   "cell_type": "markdown",
   "metadata": {},
   "source": [
    "<div style=\"border:solid blue 2px; padding: 20px\">\n",
    "\n",
    "    \n",
    "Рассмотрим зависимость между числовыми факторами\n",
    "    \n",
    "\n",
    "балансом на счёте `balance` и предполагаемой зарплатой `estimatedsalary`\n",
    " \n",
    "    \n",
    "Получим таблицу с коэффициентами корреляции методом `corr()`\n",
    "    \n",
    "    \n",
    "Потроим диаграммы рассеяния `.plotting.scatter_matrix`\n",
    "    \n",
    "\n",
    "\n",
    "</div> "
   ]
  },
  {
   "cell_type": "code",
   "execution_count": 11,
   "metadata": {},
   "outputs": [
    {
     "data": {
      "text/html": [
       "<div>\n",
       "<style scoped>\n",
       "    .dataframe tbody tr th:only-of-type {\n",
       "        vertical-align: middle;\n",
       "    }\n",
       "\n",
       "    .dataframe tbody tr th {\n",
       "        vertical-align: top;\n",
       "    }\n",
       "\n",
       "    .dataframe thead th {\n",
       "        text-align: right;\n",
       "    }\n",
       "</style>\n",
       "<table border=\"1\" class=\"dataframe\">\n",
       "  <thead>\n",
       "    <tr style=\"text-align: right;\">\n",
       "      <th></th>\n",
       "      <th>balance</th>\n",
       "      <th>estimatedsalary</th>\n",
       "    </tr>\n",
       "  </thead>\n",
       "  <tbody>\n",
       "    <tr>\n",
       "      <td>0</td>\n",
       "      <td>0.00</td>\n",
       "      <td>101348.88</td>\n",
       "    </tr>\n",
       "    <tr>\n",
       "      <td>1</td>\n",
       "      <td>83807.86</td>\n",
       "      <td>112542.58</td>\n",
       "    </tr>\n",
       "    <tr>\n",
       "      <td>2</td>\n",
       "      <td>159660.80</td>\n",
       "      <td>113931.57</td>\n",
       "    </tr>\n",
       "    <tr>\n",
       "      <td>3</td>\n",
       "      <td>0.00</td>\n",
       "      <td>93826.63</td>\n",
       "    </tr>\n",
       "    <tr>\n",
       "      <td>4</td>\n",
       "      <td>125510.82</td>\n",
       "      <td>79084.10</td>\n",
       "    </tr>\n",
       "  </tbody>\n",
       "</table>\n",
       "</div>"
      ],
      "text/plain": [
       "     balance  estimatedsalary\n",
       "0       0.00        101348.88\n",
       "1   83807.86        112542.58\n",
       "2  159660.80        113931.57\n",
       "3       0.00         93826.63\n",
       "4  125510.82         79084.10"
      ]
     },
     "execution_count": 11,
     "metadata": {},
     "output_type": "execute_result"
    }
   ],
   "source": [
    "# вывод строк для определения зависимости\n",
    "df_correlation = df.loc[:,['balance','estimatedsalary']]\n",
    "df_correlation.head()"
   ]
  },
  {
   "cell_type": "code",
   "execution_count": 12,
   "metadata": {},
   "outputs": [
    {
     "data": {
      "text/html": [
       "<div>\n",
       "<style scoped>\n",
       "    .dataframe tbody tr th:only-of-type {\n",
       "        vertical-align: middle;\n",
       "    }\n",
       "\n",
       "    .dataframe tbody tr th {\n",
       "        vertical-align: top;\n",
       "    }\n",
       "\n",
       "    .dataframe thead th {\n",
       "        text-align: right;\n",
       "    }\n",
       "</style>\n",
       "<table border=\"1\" class=\"dataframe\">\n",
       "  <thead>\n",
       "    <tr style=\"text-align: right;\">\n",
       "      <th></th>\n",
       "      <th>balance</th>\n",
       "      <th>estimatedsalary</th>\n",
       "    </tr>\n",
       "  </thead>\n",
       "  <tbody>\n",
       "    <tr>\n",
       "      <td>balance</td>\n",
       "      <td>1.000000</td>\n",
       "      <td>0.012797</td>\n",
       "    </tr>\n",
       "    <tr>\n",
       "      <td>estimatedsalary</td>\n",
       "      <td>0.012797</td>\n",
       "      <td>1.000000</td>\n",
       "    </tr>\n",
       "  </tbody>\n",
       "</table>\n",
       "</div>"
      ],
      "text/plain": [
       "                  balance  estimatedsalary\n",
       "balance          1.000000         0.012797\n",
       "estimatedsalary  0.012797         1.000000"
      ]
     },
     "execution_count": 12,
     "metadata": {},
     "output_type": "execute_result"
    }
   ],
   "source": [
    "# вывод матрицы корреляции\n",
    "df_correlation.corr()"
   ]
  },
  {
   "cell_type": "code",
   "execution_count": 13,
   "metadata": {},
   "outputs": [
    {
     "data": {
      "text/plain": [
       "array([[<matplotlib.axes._subplots.AxesSubplot object at 0x7fbc653bda50>,\n",
       "        <matplotlib.axes._subplots.AxesSubplot object at 0x7fbc5d343a90>],\n",
       "       [<matplotlib.axes._subplots.AxesSubplot object at 0x7fbc5d303d50>,\n",
       "        <matplotlib.axes._subplots.AxesSubplot object at 0x7fbc5d2bba10>]],\n",
       "      dtype=object)"
      ]
     },
     "execution_count": 13,
     "metadata": {},
     "output_type": "execute_result"
    },
    {
     "data": {
      "image/png": "[encoded data removed]",
      "text/plain": [
       "<Figure size 360x360 with 4 Axes>"
      ]
     },
     "metadata": {
      "needs_background": "light"
     },
     "output_type": "display_data"
    }
   ],
   "source": [
    "# построение диаграмм рассеяния\n",
    "pd.plotting.scatter_matrix(df_correlation, figsize=(5, 5))"
   ]
  },
  {
   "cell_type": "markdown",
   "metadata": {},
   "source": [
    "<div style=\"border:solid blue 2px; padding: 20px\">\n",
    "\n",
    "    \n",
    "Корреляция `0.01` между балансом на счёте `balance` и предполагаемой зарплатой `estimatedsalary`\n",
    "    \n",
    "Отсутствует мультиколлинеарность между балансом и зарплатой\n",
    "    \n",
    "В модель включаем числовые факторы\n",
    "    \n",
    "\n",
    "\n",
    "</div> "
   ]
  },
  {
   "cell_type": "markdown",
   "metadata": {},
   "source": [
    "<div style=\"border:solid blue 2px; padding: 20px\">\n",
    "    \n",
    "\n",
    "Признаки `rownumber` `customerid` `surname` исключим из данных\n",
    "    \n",
    "`индекс строки`, `уникальный идентификатор` и `фамилия` не показывают взаимосвязь признаков и объектов\n",
    "    \n",
    "\n",
    "\n",
    "    \n",
    "    \n",
    "</div> "
   ]
  },
  {
   "cell_type": "code",
   "execution_count": 14,
   "metadata": {},
   "outputs": [],
   "source": [
    "# удаление столбцов\n",
    "df = df.drop(['rownumber','customerid','surname'], axis=1)"
   ]
  },
  {
   "cell_type": "markdown",
   "metadata": {},
   "source": [
    "<div style=\"border:solid blue 2px; padding: 20px\">\n",
    "    \n",
    "   \n",
    "\n",
    "Преобразуем категориальные признаки прямым кодированием, чтобы обучить логистическую регрессию\n",
    "    \n",
    "    \n",
    "</div> "
   ]
  },
  {
   "cell_type": "markdown",
   "metadata": {},
   "source": [
    "<div style=\"border:solid blue 2px; padding: 20px\">\n",
    "    \n",
    "   \n",
    "\n",
    "Функцией `pd.get_dummies()` с аргументом `drop_first=True` исключим попадание \n",
    "    \n",
    "в ловушку фиктивных признаков\n",
    "    \n",
    "Посмотрим данные в случайном порядке, используя метод `sample()`\n",
    "    \n",
    "    \n",
    "</div> "
   ]
  },
  {
   "cell_type": "code",
   "execution_count": 15,
   "metadata": {},
   "outputs": [
    {
     "data": {
      "text/html": [
       "<div>\n",
       "<style scoped>\n",
       "    .dataframe tbody tr th:only-of-type {\n",
       "        vertical-align: middle;\n",
       "    }\n",
       "\n",
       "    .dataframe tbody tr th {\n",
       "        vertical-align: top;\n",
       "    }\n",
       "\n",
       "    .dataframe thead th {\n",
       "        text-align: right;\n",
       "    }\n",
       "</style>\n",
       "<table border=\"1\" class=\"dataframe\">\n",
       "  <thead>\n",
       "    <tr style=\"text-align: right;\">\n",
       "      <th></th>\n",
       "      <th>creditscore</th>\n",
       "      <th>age</th>\n",
       "      <th>tenure</th>\n",
       "      <th>balance</th>\n",
       "      <th>numofproducts</th>\n",
       "      <th>hascrcard</th>\n",
       "      <th>isactivemember</th>\n",
       "      <th>estimatedsalary</th>\n",
       "      <th>exited</th>\n",
       "      <th>geography_Germany</th>\n",
       "      <th>geography_Spain</th>\n",
       "      <th>gender_Male</th>\n",
       "    </tr>\n",
       "  </thead>\n",
       "  <tbody>\n",
       "    <tr>\n",
       "      <td>6524</td>\n",
       "      <td>651</td>\n",
       "      <td>35</td>\n",
       "      <td>1</td>\n",
       "      <td>163700.78</td>\n",
       "      <td>3</td>\n",
       "      <td>1</td>\n",
       "      <td>1</td>\n",
       "      <td>29583.48</td>\n",
       "      <td>1</td>\n",
       "      <td>1</td>\n",
       "      <td>0</td>\n",
       "      <td>0</td>\n",
       "    </tr>\n",
       "    <tr>\n",
       "      <td>2087</td>\n",
       "      <td>716</td>\n",
       "      <td>52</td>\n",
       "      <td>7</td>\n",
       "      <td>65971.61</td>\n",
       "      <td>2</td>\n",
       "      <td>1</td>\n",
       "      <td>0</td>\n",
       "      <td>14608.00</td>\n",
       "      <td>1</td>\n",
       "      <td>0</td>\n",
       "      <td>0</td>\n",
       "      <td>0</td>\n",
       "    </tr>\n",
       "    <tr>\n",
       "      <td>2233</td>\n",
       "      <td>565</td>\n",
       "      <td>38</td>\n",
       "      <td>0</td>\n",
       "      <td>122447.76</td>\n",
       "      <td>1</td>\n",
       "      <td>0</td>\n",
       "      <td>0</td>\n",
       "      <td>67339.34</td>\n",
       "      <td>0</td>\n",
       "      <td>0</td>\n",
       "      <td>1</td>\n",
       "      <td>1</td>\n",
       "    </tr>\n",
       "    <tr>\n",
       "      <td>2814</td>\n",
       "      <td>737</td>\n",
       "      <td>40</td>\n",
       "      <td>2</td>\n",
       "      <td>162485.80</td>\n",
       "      <td>2</td>\n",
       "      <td>1</td>\n",
       "      <td>0</td>\n",
       "      <td>149381.32</td>\n",
       "      <td>0</td>\n",
       "      <td>1</td>\n",
       "      <td>0</td>\n",
       "      <td>0</td>\n",
       "    </tr>\n",
       "    <tr>\n",
       "      <td>1898</td>\n",
       "      <td>850</td>\n",
       "      <td>45</td>\n",
       "      <td>5</td>\n",
       "      <td>127258.79</td>\n",
       "      <td>1</td>\n",
       "      <td>1</td>\n",
       "      <td>1</td>\n",
       "      <td>192744.23</td>\n",
       "      <td>1</td>\n",
       "      <td>1</td>\n",
       "      <td>0</td>\n",
       "      <td>0</td>\n",
       "    </tr>\n",
       "  </tbody>\n",
       "</table>\n",
       "</div>"
      ],
      "text/plain": [
       "      creditscore  age  tenure    balance  numofproducts  hascrcard  \\\n",
       "6524          651   35       1  163700.78              3          1   \n",
       "2087          716   52       7   65971.61              2          1   \n",
       "2233          565   38       0  122447.76              1          0   \n",
       "2814          737   40       2  162485.80              2          1   \n",
       "1898          850   45       5  127258.79              1          1   \n",
       "\n",
       "      isactivemember  estimatedsalary  exited  geography_Germany  \\\n",
       "6524               1         29583.48       1                  1   \n",
       "2087               0         14608.00       1                  0   \n",
       "2233               0         67339.34       0                  0   \n",
       "2814               0        149381.32       0                  1   \n",
       "1898               1        192744.23       1                  1   \n",
       "\n",
       "      geography_Spain  gender_Male  \n",
       "6524                0            0  \n",
       "2087                0            0  \n",
       "2233                1            1  \n",
       "2814                0            0  \n",
       "1898                0            0  "
      ]
     },
     "execution_count": 15,
     "metadata": {},
     "output_type": "execute_result"
    }
   ],
   "source": [
    "# вызов функций\n",
    "df = pd.get_dummies(df, drop_first=True)\n",
    "df.sample(5)"
   ]
  },
  {
   "cell_type": "markdown",
   "metadata": {},
   "source": [
    "<div style=\"border:solid blue 2px; padding: 20px\">\n",
    "    \n",
    " \n",
    "Сохраним в переменную `random_state` значение параметра, чтобы результаты получились одинаковыми\n",
    "    \n",
    "    \n",
    "</div> "
   ]
  },
  {
   "cell_type": "code",
   "execution_count": 16,
   "metadata": {},
   "outputs": [],
   "source": [
    "# сохранение параметра\n",
    "random_state = 1234"
   ]
  },
  {
   "cell_type": "markdown",
   "metadata": {},
   "source": [
    "<div style=\"border:solid blue 2px; padding: 20px\">\n",
    "\n",
    "### Вывод\n",
    "\n",
    "\n",
    "    \n",
    "    \n",
    "</div> "
   ]
  },
  {
   "cell_type": "markdown",
   "metadata": {},
   "source": [
    "<div style=\"border:solid blue 2px; padding: 20px\">\n",
    "    \n",
    "**Оценка полученных данных**\n",
    "\n",
    "Наблюдения, представленные в таблице описываются категориальными и количественными значениями.\n",
    "    \n",
    "Данные можно исследовать для дальнейшего анализа.\n",
    "    \n",
    "Данные содержат много категориальных признаков и проблемы (пропуски).\n",
    "    \n",
    "Пропущенные значения в числе количества лет `tenure` заполнили на `unknown` соответств `11`\n",
    "    \n",
    "Привели названия столбцов к нижнему регистру.\n",
    "    \n",
    "Применили технику прямого кодирования с защитой от дамми-ловушки `one-hot encoding`\n",
    "    \n",
    "\n",
    "    \n",
    "\n",
    "    \n",
    "    \n",
    "**Таблица `churn` (информация о клиентах)**:\n",
    "    \n",
    "`rownumber` — индекс строки в данных\n",
    "    \n",
    "`customerid` — уникальный идентификатор клиента\n",
    "    \n",
    "`surname` — фамилия\n",
    "    \n",
    "`creditscore` — кредитный рейтинг\n",
    "    \n",
    "`geography` — страна проживания\n",
    "    \n",
    "`gender` — пол\n",
    "    \n",
    "`age` — возраст\n",
    "    \n",
    "`tenure` — сколько лет человек является клиентом банка\n",
    "    \n",
    "`balance` — баланс на счёте\n",
    "    \n",
    "`numofproducts` — количество продуктов банка, используемых клиентом\n",
    "    \n",
    "`hascrcard` — наличие кредитной карты\n",
    "    \n",
    "`isactivemember` — активность клиента\n",
    "    \n",
    "`estimatedsalary` — предполагаемая зарплата\n",
    "    \n",
    "`exited` — факт ухода клиента\n",
    "    \n",
    "\n",
    "**Категориальный целевой признак** - `exited` - задача классификации\n",
    "    \n",
    "**Количественные** - `balance` , `estimatedsalary`\n",
    "    \n",
    "    \n",
    "</div>"
   ]
  },
  {
   "cell_type": "markdown",
   "metadata": {},
   "source": [
    "## Исследование задачи"
   ]
  },
  {
   "cell_type": "markdown",
   "metadata": {},
   "source": [
    "<div style=\"border:solid blue 2px; padding: 20px\">\n",
    " \n",
    "    \n",
    "Методом `value_counts()` посмотрим как часто в целевом признаке встречается класс `0` и `1`.\n",
    "    \n",
    "</div>"
   ]
  },
  {
   "cell_type": "code",
   "execution_count": 17,
   "metadata": {},
   "outputs": [
    {
     "name": "stdout",
     "output_type": "stream",
     "text": [
      "0    0.7963\n",
      "1    0.2037\n",
      "Name: exited, dtype: float64\n"
     ]
    },
    {
     "data": {
      "text/plain": [
       "<matplotlib.axes._subplots.AxesSubplot at 0x7fbc5cb0dc90>"
      ]
     },
     "execution_count": 17,
     "metadata": {},
     "output_type": "execute_result"
    },
    {
     "data": {
      "image/png": "[encoded data removed]",
      "text/plain": [
       "<Figure size 432x288 with 1 Axes>"
      ]
     },
     "metadata": {
      "needs_background": "light"
     },
     "output_type": "display_data"
    }
   ],
   "source": [
    "# подсчет значений\n",
    "class_frequency = df['exited'].value_counts(normalize=True)\n",
    "print(class_frequency)\n",
    "class_frequency.plot(kind='bar')"
   ]
  },
  {
   "cell_type": "markdown",
   "metadata": {},
   "source": [
    "<div style=\"border:solid blue 2px; padding: 20px\">\n",
    " \n",
    "    \n",
    "Около `20%` значений по факту ухода клиента. \n",
    "    \n",
    "Баланс классов `0/1` соостветсвует соотношению `4/1`    \n",
    "\n",
    "    \n",
    "    \n",
    "</div>"
   ]
  },
  {
   "cell_type": "markdown",
   "metadata": {},
   "source": [
    "<div style=\"border:solid blue 2px; padding: 20px\">\n",
    " \n",
    "    \n",
    "Изучим модели без учёта дисбаланса\n",
    "    \n",
    "    \n",
    "\n",
    "    \n",
    "    \n",
    "</div>"
   ]
  },
  {
   "cell_type": "markdown",
   "metadata": {},
   "source": [
    "<div style=\"border:solid blue 2px; padding: 20px\">\n",
    "    \n",
    " \n",
    "`df` разделим на обучающую `df_train` выборку `3-и части` и `df_part` оставшиеся `2-е части`\n",
    "    \n",
    "    \n",
    "</div> "
   ]
  },
  {
   "cell_type": "code",
   "execution_count": 18,
   "metadata": {},
   "outputs": [
    {
     "name": "stdout",
     "output_type": "stream",
     "text": [
      "Объектов обучающей выборки 6000\n"
     ]
    }
   ],
   "source": [
    "# получение обучающей выборки\n",
    "df_train, df_part = train_test_split(df, test_size=0.40, random_state=random_state)\n",
    "print('Объектов обучающей выборки', df_train.shape[0])"
   ]
  },
  {
   "cell_type": "markdown",
   "metadata": {},
   "source": [
    "<div style=\"border:solid blue 2px; padding: 20px\">\n",
    "    \n",
    " \n",
    "Признаки обучающей выборки сохраним в отдельных переменных \n",
    "    \n",
    "    \n",
    "- `features_train`\n",
    "    \n",
    "    \n",
    "- `target_train` - целевой признак\n",
    "    \n",
    "    \n",
    "</div> "
   ]
  },
  {
   "cell_type": "code",
   "execution_count": 19,
   "metadata": {},
   "outputs": [],
   "source": [
    "# сохранение признаков обучающей выбороки в отдельных переменных\n",
    "features_train = df_train.drop(columns=['exited'])\n",
    "target_train = df_train['exited']"
   ]
  },
  {
   "cell_type": "markdown",
   "metadata": {},
   "source": [
    "<div style=\"border:solid blue 2px; padding: 20px\">\n",
    "    \n",
    " \n",
    "`df_part` разделим на валидационную `df_valid` выборку `1 часть` и `df_test` тестовую  `1 часть`\n",
    "    \n",
    "    \n",
    "</div> "
   ]
  },
  {
   "cell_type": "code",
   "execution_count": 20,
   "metadata": {},
   "outputs": [
    {
     "name": "stdout",
     "output_type": "stream",
     "text": [
      "Объектов валидационной выборки 2000\n",
      "Объектов тестовой выборки 2000\n"
     ]
    }
   ],
   "source": [
    "# получение валидационной и тестовой выборки\n",
    "df_valid, df_test = train_test_split(df_part, test_size=0.50, random_state=random_state)\n",
    "print('Объектов валидационной выборки', df_valid.shape[0])\n",
    "print('Объектов тестовой выборки', df_test.shape[0])"
   ]
  },
  {
   "cell_type": "markdown",
   "metadata": {},
   "source": [
    "<div style=\"border:solid blue 2px; padding: 20px\">\n",
    "    \n",
    " \n",
    "Признаки валидационной выборки сохраним в отдельных переменных \n",
    "    \n",
    "    \n",
    "- `features_valid`\n",
    "    \n",
    "    \n",
    "- `target_valid` - целевой признак\n",
    "    \n",
    "    \n",
    "</div> "
   ]
  },
  {
   "cell_type": "code",
   "execution_count": 21,
   "metadata": {},
   "outputs": [],
   "source": [
    "# сохранение признаков валидационной выбороки в отдельных переменных\n",
    "features_valid = df_valid.drop(columns=['exited'])\n",
    "target_valid = df_valid['exited']"
   ]
  },
  {
   "cell_type": "markdown",
   "metadata": {},
   "source": [
    "<div style=\"border:solid blue 2px; padding: 20px\">\n",
    "    \n",
    " \n",
    "Признаки тестовой выборки сохраним в отдельных переменных \n",
    "    \n",
    "    \n",
    "- `features_test`\n",
    "    \n",
    "    \n",
    "- `target_test` - целевой признак\n",
    "    \n",
    "    \n",
    "</div> "
   ]
  },
  {
   "cell_type": "code",
   "execution_count": 22,
   "metadata": {},
   "outputs": [],
   "source": [
    "# сохранение признаков тестовой выбороки в отдельных переменных\n",
    "features_test = df_test.drop(columns=['exited'])\n",
    "target_test = df_test['exited']"
   ]
  },
  {
   "cell_type": "markdown",
   "metadata": {},
   "source": [
    "<div style=\"border:solid blue 2px; padding: 20px\">\n",
    "    \n",
    " \n",
    "Получили соотношение по выборкам `df_train : df_valid : df_test` соостветственно `3 : 1 : 1`\n",
    "    \n",
    "    \n",
    "</div> "
   ]
  },
  {
   "cell_type": "markdown",
   "metadata": {},
   "source": [
    "<div style=\"border:solid blue 2px; padding: 20px\">\n",
    "    \n",
    " \n",
    "Исследуем качество на модели — решающее дерево.\n",
    "    \n",
    "Перебирём циклом разные варианты глубины дерева `max_depth`.\n",
    "    \n",
    "    \n",
    "</div> "
   ]
  },
  {
   "cell_type": "code",
   "execution_count": 23,
   "metadata": {
    "scrolled": false
   },
   "outputs": [
    {
     "name": "stdout",
     "output_type": "stream",
     "text": [
      "Глубина дерева 1 Оценка 0.812 f1-мера 0.0\n",
      "Глубина дерева 2 Оценка 0.8405 f1-мера 0.5173978819969743\n",
      "Глубина дерева 3 Оценка 0.8535 f1-мера 0.4128256513026052\n",
      "Глубина дерева 4 Оценка 0.854 f1-мера 0.4785714285714286\n",
      "Глубина дерева 5 Оценка 0.858 f1-мера 0.4760147601476015\n",
      "Глубина дерева 6 Оценка 0.8575 f1-мера 0.514480408858603\n",
      "Глубина дерева 7 Оценка 0.8585 f1-мера 0.5612403100775193\n",
      "Глубина дерева 8 Оценка 0.8505 f1-мера 0.5449010654490106\n",
      "Глубина дерева 9 Оценка 0.837 f1-мера 0.49221183800623064\n",
      "Лучшая глубина дерева 7 Лучшая оценка 0.8585\n",
      "CPU times: user 126 ms, sys: 3.63 ms, total: 130 ms\n",
      "Wall time: 142 ms\n"
     ]
    }
   ],
   "source": [
    "%%time\n",
    "\n",
    "tree_model = None\n",
    "best_depth = 0\n",
    "best_accuracy = 0\n",
    "best_f1 = 0\n",
    "for depth in range(1,10):\n",
    "    model = DecisionTreeClassifier(random_state=random_state, max_depth=depth) # инициализируем модель\n",
    "    model.fit(features_train, target_train) # обучение модели\n",
    "    predictions_valid = model.predict(features_valid) # получение предсказания модели на валидационной выборке\n",
    "    accuracy = accuracy_score(target_valid, predictions_valid) # качество модели на валидационной выборке\n",
    "    f1 = f1_score(target_valid, predictions_valid)\n",
    "    print('Глубина дерева', depth,'Оценка',accuracy, 'f1-мера', f1)\n",
    "    if accuracy > best_accuracy:\n",
    "        tree_model = model\n",
    "        best_depth = depth\n",
    "        best_accuracy = accuracy\n",
    "        \n",
    "print('Лучшая глубина дерева', best_depth,'Лучшая оценка', best_accuracy)"
   ]
  },
  {
   "cell_type": "markdown",
   "metadata": {},
   "source": [
    "<div style=\"border:solid blue 2px; padding: 20px\">\n",
    "    \n",
    " \n",
    "`accuracy` на модели решающее дерево составляет `0.8585` при глубине дерева `7`.\n",
    "    \n",
    "`f1-мера` на модели решающее дерево составляет `0.5612`.\n",
    "    \n",
    "    \n",
    "</div> "
   ]
  },
  {
   "cell_type": "markdown",
   "metadata": {},
   "source": [
    "<div style=\"border:solid blue 2px; padding: 20px\">\n",
    "    \n",
    "     \n",
    "    \n",
    "Проверим адекватность модели    \n",
    "    \n",
    "    \n",
    "</div> "
   ]
  },
  {
   "cell_type": "code",
   "execution_count": 24,
   "metadata": {},
   "outputs": [
    {
     "name": "stdout",
     "output_type": "stream",
     "text": [
      "Оценка константной модели на валидационной выборке: 0.812\n"
     ]
    }
   ],
   "source": [
    "# замена дерева решений константной моделью\n",
    "target_pred_constant = pd.Series(0, index=target_valid.index)\n",
    "print(\"Оценка константной модели на валидационной выборке:\", accuracy_score(target_valid, target_pred_constant))"
   ]
  },
  {
   "cell_type": "markdown",
   "metadata": {},
   "source": [
    "<div style=\"border:solid blue 2px; padding: 20px\">\n",
    "    \n",
    "    \n",
    "Точность модели дерева решений на валидационной выборке `0.8585 > 0.812`\n",
    "    \n",
    "    \n",
    "</div> "
   ]
  },
  {
   "cell_type": "markdown",
   "metadata": {},
   "source": [
    "<div style=\"border:solid blue 2px; padding: 20px\">\n",
    "    \n",
    " \n",
    "Исследуем качество на модели — случайный лес.\n",
    "    \n",
    "Перебирём циклом разные варианты количества деревьев `n_estimators`.\n",
    "    \n",
    "    \n",
    "</div> "
   ]
  },
  {
   "cell_type": "code",
   "execution_count": 25,
   "metadata": {
    "scrolled": true
   },
   "outputs": [
    {
     "name": "stdout",
     "output_type": "stream",
     "text": [
      "Количество деревьев 1 Оценка 0.7835 f1-мера 0.4687116564417178\n",
      "Количество деревьев 2 Оценка 0.8375 f1-мера 0.4367417677642981\n",
      "Количество деревьев 3 Оценка 0.834 f1-мера 0.5350140056022409\n",
      "Количество деревьев 4 Оценка 0.847 f1-мера 0.4848484848484849\n",
      "Количество деревьев 5 Оценка 0.846 f1-мера 0.5523255813953488\n",
      "Количество деревьев 6 Оценка 0.8505 f1-мера 0.5169628432956381\n",
      "Количество деревьев 7 Оценка 0.8515 f1-мера 0.5533834586466165\n",
      "Количество деревьев 8 Оценка 0.8575 f1-мера 0.5468998410174881\n",
      "Количество деревьев 9 Оценка 0.8535 f1-мера 0.5580693815987934\n",
      "Количество деревьев 10 Оценка 0.859 f1-мера 0.5407166123778502\n",
      "Количество деревьев 11 Оценка 0.857 f1-мера 0.5640243902439024\n",
      "Количество деревьев 12 Оценка 0.8615 f1-мера 0.5510534846029175\n",
      "Количество деревьев 13 Оценка 0.8605 f1-мера 0.5687789799072643\n",
      "Количество деревьев 14 Оценка 0.8645 f1-мера 0.5593495934959349\n",
      "Количество деревьев 15 Оценка 0.8615 f1-мера 0.5665101721439749\n",
      "Количество деревьев 16 Оценка 0.863 f1-мера 0.5566343042071197\n",
      "Количество деревьев 17 Оценка 0.862 f1-мера 0.567398119122257\n",
      "Количество деревьев 18 Оценка 0.863 f1-мера 0.5580645161290323\n",
      "Количество деревьев 19 Оценка 0.8605 f1-мера 0.5620094191522764\n",
      "Количество деревьев 20 Оценка 0.861 f1-мера 0.5472312703583061\n",
      "Количество деревьев 21 Оценка 0.8585 f1-мера 0.555729984301413\n",
      "Количество деревьев 22 Оценка 0.8595 f1-мера 0.5475040257648952\n",
      "Количество деревьев 23 Оценка 0.857 f1-мера 0.5474683544303797\n",
      "Количество деревьев 24 Оценка 0.862 f1-мера 0.5475409836065573\n",
      "Количество деревьев 25 Оценка 0.86 f1-мера 0.554140127388535\n",
      "Количество деревьев 26 Оценка 0.864 f1-мера 0.5555555555555555\n",
      "Количество деревьев 27 Оценка 0.8605 f1-мера 0.5550239234449762\n",
      "Количество деревьев 28 Оценка 0.8625 f1-мера 0.5499181669394436\n",
      "Количество деревьев 29 Оценка 0.8605 f1-мера 0.5492730210016156\n",
      "Количество деревьев 30 Оценка 0.8625 f1-мера 0.5484400656814451\n",
      "Количество деревьев 31 Оценка 0.861 f1-мера 0.5487012987012988\n",
      "Количество деревьев 32 Оценка 0.862 f1-мера 0.5460526315789473\n",
      "Количество деревьев 33 Оценка 0.8615 f1-мера 0.5481239804241436\n",
      "Количество деревьев 34 Оценка 0.864 f1-мера 0.5451505016722408\n",
      "Количество деревьев 35 Оценка 0.8625 f1-мера 0.5469522240527183\n",
      "Количество деревьев 36 Оценка 0.864 f1-мера 0.5436241610738254\n",
      "Количество деревьев 37 Оценка 0.863 f1-мера 0.5478547854785479\n",
      "Количество деревьев 38 Оценка 0.8645 f1-мера 0.5460636515912898\n",
      "Количество деревьев 39 Оценка 0.8635 f1-мера 0.5517241379310345\n",
      "Количество деревьев 40 Оценка 0.864 f1-мера 0.5451505016722408\n",
      "Количество деревьев 41 Оценка 0.8625 f1-мера 0.5484400656814451\n",
      "Количество деревьев 42 Оценка 0.864 f1-мера 0.5451505016722408\n",
      "Количество деревьев 43 Оценка 0.8615 f1-мера 0.5451559934318555\n",
      "Количество деревьев 44 Оценка 0.865 f1-мера 0.5484949832775919\n",
      "Количество деревьев 45 Оценка 0.863 f1-мера 0.5448504983388704\n",
      "Количество деревьев 46 Оценка 0.8645 f1-мера 0.5475792988313857\n",
      "Количество деревьев 47 Оценка 0.8645 f1-мера 0.5520661157024794\n",
      "Количество деревьев 48 Оценка 0.865 f1-мера 0.5484949832775919\n",
      "Количество деревьев 49 Оценка 0.863 f1-мера 0.5493421052631579\n",
      "Количество деревьев 50 Оценка 0.865 f1-мера 0.55\n",
      "Количество деревьев 51 Оценка 0.863 f1-мера 0.5493421052631579\n",
      "Количество деревьев 52 Оценка 0.8645 f1-мера 0.5490848585690515\n",
      "Количество деревьев 53 Оценка 0.865 f1-мера 0.5529801324503312\n",
      "Количество деревьев 54 Оценка 0.8655 f1-мера 0.5494137353433836\n",
      "Количество деревьев 55 Оценка 0.865 f1-мера 0.5514950166112957\n",
      "Количество деревьев 56 Оценка 0.865 f1-мера 0.5484949832775919\n",
      "Количество деревьев 57 Оценка 0.864 f1-мера 0.5481727574750831\n",
      "Количество деревьев 58 Оценка 0.865 f1-мера 0.5484949832775919\n",
      "Количество деревьев 59 Оценка 0.8635 f1-мера 0.5472636815920398\n",
      "Лучшее количество деревьев 54 Лучшая оценка 0.8655\n",
      "CPU times: user 10.5 s, sys: 62.8 ms, total: 10.6 s\n",
      "Wall time: 11.3 s\n"
     ]
    }
   ],
   "source": [
    "%%time\n",
    "\n",
    "forest_model = None\n",
    "best_est = 0\n",
    "best_accuracy = 0\n",
    "best_f1 = 0\n",
    "for est in range(1,60):\n",
    "    model = RandomForestClassifier(random_state=random_state, n_estimators=est) # инициализируем модель\n",
    "    model.fit(features_train, target_train) # обучение модели с заданным количеством деревьев\n",
    "    predictions_valid = model.predict(features_valid) # получение предсказания модели на валидационной выборке\n",
    "    accuracy = accuracy_score(target_valid, predictions_valid) # качество модели на валидационной выборке\n",
    "    f1 = f1_score(target_valid, predictions_valid)\n",
    "    print('Количество деревьев', est,'Оценка',accuracy, 'f1-мера', f1)\n",
    "    if accuracy > best_accuracy:\n",
    "        forest_model = model\n",
    "        best_est = est\n",
    "        best_accuracy = accuracy\n",
    "        \n",
    "\n",
    "print('Лучшее количество деревьев', best_est,'Лучшая оценка', best_accuracy)"
   ]
  },
  {
   "cell_type": "markdown",
   "metadata": {},
   "source": [
    "<div style=\"border:solid blue 2px; padding: 20px\">\n",
    "    \n",
    " \n",
    "`accuracy` на модели случайный лес составляет `0.8655` при количестве деревьев `54`.\n",
    "    \n",
    "`f1-мера` на модели случайный лес составляет `0.5687`.\n",
    "    \n",
    "    \n",
    "</div> "
   ]
  },
  {
   "cell_type": "markdown",
   "metadata": {},
   "source": [
    "<div style=\"border:solid blue 2px; padding: 20px\">\n",
    "    \n",
    " \n",
    "Исследуем качество на модели — логистическая регрессия.\n",
    "\n",
    "    \n",
    "    \n",
    "</div> "
   ]
  },
  {
   "cell_type": "code",
   "execution_count": 26,
   "metadata": {
    "scrolled": true
   },
   "outputs": [
    {
     "name": "stdout",
     "output_type": "stream",
     "text": [
      "Оценка модели логистической регрессии на валидационной выборке: 0.81\n",
      "f1-мера модели логистической регрессии на валидационной выборке: 0.02564102564102564\n"
     ]
    }
   ],
   "source": [
    "logistic_model = LogisticRegression(random_state=random_state, solver='liblinear') # инициализируем модель логистической регрессии\n",
    "logistic_model.fit(features_train, target_train)  # обучение модели\n",
    "predictions_valid = logistic_model.predict(features_valid)\n",
    "result = logistic_model.score(features_valid, target_valid)\n",
    "f1 = f1_score(target_valid, predictions_valid)\n",
    "print(\"Оценка модели логистической регрессии на валидационной выборке:\", result)\n",
    "print(\"f1-мера модели логистической регрессии на валидационной выборке:\", f1)"
   ]
  },
  {
   "cell_type": "markdown",
   "metadata": {},
   "source": [
    "<div style=\"border:solid blue 2px; padding: 20px\">\n",
    "    \n",
    "    \n",
    "f1-мера на модели — решающее дерево `0.5612`\n",
    "    \n",
    "f1-мера на модели — случайный лес `0.5687`\n",
    "    \n",
    "f1-мера на модели — логистическая регрессия `0.0256`. \n",
    "\n",
    "    \n",
    "    \n",
    "</div> "
   ]
  },
  {
   "cell_type": "markdown",
   "metadata": {},
   "source": [
    "<div style=\"border:solid blue 2px; padding: 20px\">\n",
    "\n",
    "### Вывод\n",
    "\n",
    "\n",
    "    \n",
    "</div> "
   ]
  },
  {
   "cell_type": "markdown",
   "metadata": {},
   "source": [
    "<div style=\"border:solid blue 2px; padding: 20px\">\n",
    "    \n",
    "Лучшее качество модели `0.8655` на валидационной выборке получено при применении алгоритма \n",
    "    \n",
    "случайный лес при количестве деревьев `54`\n",
    "    \n",
    "</div> "
   ]
  },
  {
   "cell_type": "code",
   "execution_count": 27,
   "metadata": {
    "scrolled": true
   },
   "outputs": [
    {
     "name": "stdout",
     "output_type": "stream",
     "text": [
      "AUC-ROC RandomForestClassifier 0.8419690349544073\n"
     ]
    },
    {
     "data": {
      "image/png": "[encoded data removed]",
      "text/plain": [
       "<Figure size 432x288 with 1 Axes>"
      ]
     },
     "metadata": {
      "needs_background": "light"
     },
     "output_type": "display_data"
    }
   ],
   "source": [
    "rfc_model = RandomForestClassifier(random_state=random_state, n_estimators=54)\n",
    "rfc_model.fit(features_train, target_train)\n",
    "probabilities_valid = rfc_model.predict_proba(features_valid)\n",
    "probabilities_one_valid = probabilities_valid[:, 1]\n",
    "fpr, tpr, thresholds = roc_curve(target_valid, probabilities_one_valid)\n",
    "auc_roc = roc_auc_score(target_valid, probabilities_one_valid)\n",
    "print('AUC-ROC RandomForestClassifier',auc_roc)\n",
    "plt.plot(fpr, tpr, label='RandomForestClassifier')\n",
    "plt.plot([0, 1], [0, 1], linestyle='--', label='RandomModel')\n",
    "plt.xlim([0,1])\n",
    "plt.ylim([0,1])\n",
    "plt.xlabel(\"False Positive Rate\")\n",
    "plt.ylabel(\"True Positive Rate\")\n",
    "plt.legend(loc='lower right', fontsize='x-large')\n",
    "plt.title(\"ROC-кривая\")\n",
    "plt.show()"
   ]
  },
  {
   "cell_type": "markdown",
   "metadata": {},
   "source": [
    "## Борьба с дисбалансом"
   ]
  },
  {
   "cell_type": "markdown",
   "metadata": {},
   "source": [
    "<div style=\"border:solid blue 2px; padding: 20px\">\n",
    "    \n",
    " \n",
    "Аргументу `class_weight` присвоим значение `balanced`\n",
    "    \n",
    "    \n",
    "</div> "
   ]
  },
  {
   "cell_type": "markdown",
   "metadata": {},
   "source": [
    "<div style=\"border:solid blue 2px; padding: 20px\">\n",
    "    \n",
    " \n",
    "Исследуем качество на модели — решающее дерево.\n",
    "    \n",
    "    \n",
    "</div> "
   ]
  },
  {
   "cell_type": "code",
   "execution_count": 28,
   "metadata": {},
   "outputs": [
    {
     "name": "stdout",
     "output_type": "stream",
     "text": [
      "Оценка 0.7795\n",
      "Точность 0.4478330658105939\n",
      "Полнота 0.7420212765957447\n",
      "f1-мера 0.5585585585585585\n",
      "CPU times: user 22 ms, sys: 4.12 ms, total: 26.1 ms\n",
      "Wall time: 28.6 ms\n"
     ]
    }
   ],
   "source": [
    "%%time\n",
    "\n",
    "tree_model = DecisionTreeClassifier(max_depth=7, random_state=random_state, class_weight='balanced')\n",
    "tree_model.fit(features_train, target_train)\n",
    "predictions_valid = tree_model.predict(features_valid)\n",
    "print('Оценка', accuracy_score(target_valid, predictions_valid))\n",
    "print('Точность', precision_score(target_valid, predictions_valid))\n",
    "print('Полнота', recall_score(target_valid, predictions_valid))\n",
    "print('f1-мера', f1_score(target_valid, predictions_valid))"
   ]
  },
  {
   "cell_type": "markdown",
   "metadata": {},
   "source": [
    "<div style=\"border:solid blue 2px; padding: 20px\">\n",
    "    \n",
    " \n",
    "Исследуем качество на модели — случайный лес.\n",
    "    \n",
    "    \n",
    "</div> "
   ]
  },
  {
   "cell_type": "code",
   "execution_count": 29,
   "metadata": {},
   "outputs": [
    {
     "name": "stdout",
     "output_type": "stream",
     "text": [
      "Оценка 0.8655\n",
      "Точность 0.7442922374429224\n",
      "Полнота 0.43351063829787234\n",
      "f1-мера 0.5478991596638656\n",
      "CPU times: user 312 ms, sys: 0 ns, total: 312 ms\n",
      "Wall time: 319 ms\n"
     ]
    }
   ],
   "source": [
    "%%time\n",
    "\n",
    "forest_model = RandomForestClassifier(n_estimators=54, random_state=random_state, class_weight='balanced')\n",
    "forest_model.fit(features_train, target_train)\n",
    "predictions_valid = forest_model.predict(features_valid)\n",
    "print('Оценка', accuracy_score(target_valid, predictions_valid))\n",
    "print('Точность', precision_score(target_valid, predictions_valid))\n",
    "print('Полнота', recall_score(target_valid, predictions_valid))\n",
    "print('f1-мера', f1_score(target_valid, predictions_valid))"
   ]
  },
  {
   "cell_type": "markdown",
   "metadata": {},
   "source": [
    "<div style=\"border:solid blue 2px; padding: 20px\">\n",
    "    \n",
    " \n",
    "Исследуем качество на модели — логистическая регрессия.\n",
    "\n",
    "    \n",
    "    \n",
    "</div> "
   ]
  },
  {
   "cell_type": "code",
   "execution_count": 30,
   "metadata": {},
   "outputs": [
    {
     "name": "stdout",
     "output_type": "stream",
     "text": [
      "Оценка 0.6985\n",
      "Точность 0.3443072702331962\n",
      "Полнота 0.6675531914893617\n",
      "f1-мера 0.4542986425339366\n",
      "CPU times: user 46.3 ms, sys: 4.18 ms, total: 50.5 ms\n",
      "Wall time: 54.1 ms\n"
     ]
    }
   ],
   "source": [
    "%%time\n",
    "\n",
    "logistic_model = LogisticRegression(random_state=random_state, solver='liblinear', class_weight='balanced')\n",
    "logistic_model.fit(features_train, target_train)\n",
    "predictions_valid = logistic_model.predict(features_valid)\n",
    "print('Оценка', accuracy_score(target_valid, predictions_valid))\n",
    "print('Точность', precision_score(target_valid, predictions_valid))\n",
    "print('Полнота', recall_score(target_valid, predictions_valid))\n",
    "print('f1-мера', f1_score(target_valid, predictions_valid))"
   ]
  },
  {
   "cell_type": "markdown",
   "metadata": {},
   "source": [
    "<div style=\"border:solid blue 2px; padding: 20px\">\n",
    "    \n",
    "f1-мера техникой взвешивания классов на модели\n",
    "    \n",
    "— решающее дерево `0.5585 < 0.5612` уменьшилась\n",
    "    \n",
    "— случайный лес `0.5478 < 0.5687` уменьшилась\n",
    "    \n",
    "— логистическая регрессия `0.4542 > 0.0256` увеличилась. \n",
    "\n",
    "    \n",
    "    \n",
    "</div> "
   ]
  },
  {
   "cell_type": "markdown",
   "metadata": {},
   "source": [
    "<div style=\"border:solid blue 2px; padding: 20px\">\n",
    "    \n",
    " \n",
    "Создадим функцию с именем `upsample()` c параметрами `features` `target` `repeat`, в теле функции \n",
    "\n",
    "разделим обучающую выборку на отрицательные и положительные объекты\n",
    "    \n",
    "скопируем несколько раз положительные объекты\n",
    "    \n",
    "`shuffle()` перемешаем данные и с учётом полученных данных\n",
    "    \n",
    "`upsample()` создим новую обучающую выборку\n",
    "    \n",
    "</div> "
   ]
  },
  {
   "cell_type": "code",
   "execution_count": 31,
   "metadata": {},
   "outputs": [
    {
     "data": {
      "text/plain": [
       "1    4888\n",
       "0    4778\n",
       "Name: exited, dtype: int64"
      ]
     },
     "execution_count": 31,
     "metadata": {},
     "output_type": "execute_result"
    }
   ],
   "source": [
    "def upsample(features, target, repeat):\n",
    "    features_zeros = features[target == 0]\n",
    "    features_ones = features[target == 1]\n",
    "    target_zeros = target[target == 0]\n",
    "    target_ones = target[target == 1]\n",
    "    features_upsampled = pd.concat([features_zeros] + [features_ones] * repeat)\n",
    "    target_upsampled = pd.concat([target_zeros] + [target_ones] * repeat)\n",
    "    features_upsampled, target_upsampled = shuffle(features_upsampled, target_upsampled, random_state=random_state)\n",
    "    return features_upsampled, target_upsampled\n",
    "features_upsampled, target_upsampled = upsample(features_train, target_train, 4)\n",
    "target_upsampled.value_counts()"
   ]
  },
  {
   "cell_type": "markdown",
   "metadata": {},
   "source": [
    "<div style=\"border:solid blue 2px; padding: 20px\">\n",
    "    \n",
    " \n",
    "Исследуем качество на модели — решающее дерево.\n",
    "    \n",
    "    \n",
    "</div> "
   ]
  },
  {
   "cell_type": "code",
   "execution_count": 32,
   "metadata": {},
   "outputs": [
    {
     "name": "stdout",
     "output_type": "stream",
     "text": [
      "Оценка 0.779\n",
      "Точность 0.44711538461538464\n",
      "Полнота 0.7420212765957447\n",
      "f1-мера 0.5579999999999999\n",
      "CPU times: user 27.9 ms, sys: 0 ns, total: 27.9 ms\n",
      "Wall time: 26.4 ms\n"
     ]
    }
   ],
   "source": [
    "%%time\n",
    "\n",
    "tree_model = DecisionTreeClassifier(max_depth=7, random_state=random_state)\n",
    "tree_model.fit(features_upsampled, target_upsampled)\n",
    "predictions_valid = tree_model.predict(features_valid)\n",
    "print('Оценка', accuracy_score(target_valid, predictions_valid))\n",
    "print('Точность', precision_score(target_valid, predictions_valid))\n",
    "print('Полнота', recall_score(target_valid, predictions_valid))\n",
    "print('f1-мера', f1_score(target_valid, predictions_valid))"
   ]
  },
  {
   "cell_type": "markdown",
   "metadata": {},
   "source": [
    "<div style=\"border:solid blue 2px; padding: 20px\">\n",
    "    \n",
    " \n",
    "Исследуем качество на модели — случайный лес.\n",
    "    \n",
    "    \n",
    "</div> "
   ]
  },
  {
   "cell_type": "code",
   "execution_count": 33,
   "metadata": {},
   "outputs": [
    {
     "name": "stdout",
     "output_type": "stream",
     "text": [
      "Оценка 0.8575\n",
      "Точность 0.6491803278688525\n",
      "Полнота 0.526595744680851\n",
      "f1-мера 0.5814977973568282\n",
      "CPU times: user 455 ms, sys: 0 ns, total: 455 ms\n",
      "Wall time: 469 ms\n"
     ]
    }
   ],
   "source": [
    "%%time\n",
    "\n",
    "forest_model = RandomForestClassifier(n_estimators=54, random_state=random_state)\n",
    "forest_model.fit(features_upsampled, target_upsampled)\n",
    "predictions_valid = forest_model.predict(features_valid)\n",
    "print('Оценка', accuracy_score(target_valid, predictions_valid))\n",
    "print('Точность', precision_score(target_valid, predictions_valid))\n",
    "print('Полнота', recall_score(target_valid, predictions_valid))\n",
    "print('f1-мера', f1_score(target_valid, predictions_valid))"
   ]
  },
  {
   "cell_type": "markdown",
   "metadata": {},
   "source": [
    "<div style=\"border:solid blue 2px; padding: 20px\">\n",
    "    \n",
    " \n",
    "Исследуем качество на модели — логистическая регрессия.\n",
    "\n",
    "    \n",
    "    \n",
    "</div> "
   ]
  },
  {
   "cell_type": "code",
   "execution_count": 34,
   "metadata": {
    "scrolled": true
   },
   "outputs": [
    {
     "name": "stdout",
     "output_type": "stream",
     "text": [
      "Оценка 0.6445\n",
      "Точность 0.3013048635824436\n",
      "Полнота 0.675531914893617\n",
      "f1-мера 0.41673502871205903\n",
      "CPU times: user 48.3 ms, sys: 48.5 ms, total: 96.7 ms\n",
      "Wall time: 86.3 ms\n"
     ]
    }
   ],
   "source": [
    "%%time\n",
    "\n",
    "logistic_model = LogisticRegression(random_state=random_state, solver='liblinear')\n",
    "logistic_model.fit(features_upsampled, target_upsampled)\n",
    "predictions_valid = logistic_model.predict(features_valid)\n",
    "print('Оценка', accuracy_score(target_valid, predictions_valid))\n",
    "print('Точность', precision_score(target_valid, predictions_valid))\n",
    "print('Полнота', recall_score(target_valid, predictions_valid))\n",
    "print('f1-мера', f1_score(target_valid, predictions_valid))"
   ]
  },
  {
   "cell_type": "markdown",
   "metadata": {},
   "source": [
    "<div style=\"border:solid blue 2px; padding: 20px\">\n",
    "    \n",
    "\n",
    "f1-мера техникой увеличения выборки на модели\n",
    "    \n",
    "— решающее дерево `0.5579` < `0.5585 < 0.5612` ещё уменьшилась\n",
    "    \n",
    "— случайный лес `0.5478 < 0.5687` < `0.58149` наоборот увеличилась\n",
    "    \n",
    "— логистическая регрессия `0.4167` < `0.4542 > 0.0256` уменьшилась.     \n",
    "    \n",
    "</div> "
   ]
  },
  {
   "cell_type": "markdown",
   "metadata": {},
   "source": [
    "<div style=\"border:solid blue 2px; padding: 20px\">\n",
    "    \n",
    " \n",
    "Создадим функцию с именем `downsample()` c параметрами `features` `target` `fraction`, в теле функции \n",
    "\n",
    "разделим обучающую выборку на отрицательные и положительные объекты\n",
    "    \n",
    "`sample()` случайным образом отбросим часть `frac` из отрицательных объектов\n",
    "    \n",
    "`shuffle()` перемешаем данные и с учётом полученных данных\n",
    "    \n",
    "`downsample()` создим новую обучающую выборку\n",
    "    \n",
    "</div> "
   ]
  },
  {
   "cell_type": "code",
   "execution_count": 35,
   "metadata": {},
   "outputs": [
    {
     "data": {
      "text/plain": [
       "1    1222\n",
       "0    1194\n",
       "Name: exited, dtype: int64"
      ]
     },
     "execution_count": 35,
     "metadata": {},
     "output_type": "execute_result"
    }
   ],
   "source": [
    "def downsample(features, target, fraction):\n",
    "    features_zeros = features[target == 0]\n",
    "    features_ones = features[target == 1]\n",
    "    target_zeros = target[target == 0]\n",
    "    target_ones = target[target == 1]\n",
    "    features_downsampled = pd.concat([features_zeros.sample(frac=fraction, random_state=random_state)] + [features_ones])\n",
    "    target_downsampled = pd.concat([target_zeros.sample(frac=fraction, random_state=random_state)] + [target_ones])\n",
    "    features_downsampled, target_downsampled = shuffle(features_downsampled, target_downsampled, random_state=random_state)\n",
    "    return features_downsampled, target_downsampled\n",
    "features_downsampled, target_downsampled = downsample(features_train, target_train, 0.25)\n",
    "target_downsampled.value_counts()"
   ]
  },
  {
   "cell_type": "markdown",
   "metadata": {},
   "source": [
    "<div style=\"border:solid blue 2px; padding: 20px\">\n",
    "    \n",
    " \n",
    "Исследуем качество на модели — решающее дерево.\n",
    "    \n",
    "    \n",
    "</div> "
   ]
  },
  {
   "cell_type": "code",
   "execution_count": 36,
   "metadata": {},
   "outputs": [
    {
     "name": "stdout",
     "output_type": "stream",
     "text": [
      "Оценка 0.7545\n",
      "Точность 0.414050822122571\n",
      "Полнота 0.7367021276595744\n",
      "f1-мера 0.5301435406698565\n",
      "CPU times: user 19.1 ms, sys: 0 ns, total: 19.1 ms\n",
      "Wall time: 17.4 ms\n"
     ]
    }
   ],
   "source": [
    "%%time\n",
    "\n",
    "tree_model = DecisionTreeClassifier(max_depth=7, random_state=random_state)\n",
    "tree_model.fit(features_downsampled, target_downsampled)\n",
    "predictions_valid = tree_model.predict(features_valid)\n",
    "print('Оценка', accuracy_score(target_valid, predictions_valid))\n",
    "print('Точность', precision_score(target_valid, predictions_valid))\n",
    "print('Полнота', recall_score(target_valid, predictions_valid))\n",
    "print('f1-мера', f1_score(target_valid, predictions_valid))"
   ]
  },
  {
   "cell_type": "markdown",
   "metadata": {},
   "source": [
    "<div style=\"border:solid blue 2px; padding: 20px\">\n",
    "    \n",
    " \n",
    "Исследуем качество на модели — случайный лес.\n",
    "    \n",
    "    \n",
    "</div> "
   ]
  },
  {
   "cell_type": "code",
   "execution_count": 37,
   "metadata": {},
   "outputs": [
    {
     "name": "stdout",
     "output_type": "stream",
     "text": [
      "Оценка 0.7815\n",
      "Точность 0.4494195688225539\n",
      "Полнота 0.7207446808510638\n",
      "f1-мера 0.5536261491317671\n",
      "CPU times: user 164 ms, sys: 3.96 ms, total: 168 ms\n",
      "Wall time: 187 ms\n"
     ]
    }
   ],
   "source": [
    "%%time\n",
    "\n",
    "forest_model = RandomForestClassifier(n_estimators=54, random_state=random_state)\n",
    "forest_model.fit(features_downsampled, target_downsampled)\n",
    "predictions_valid = forest_model.predict(features_valid)\n",
    "print('Оценка', accuracy_score(target_valid, predictions_valid))\n",
    "print('Точность', precision_score(target_valid, predictions_valid))\n",
    "print('Полнота', recall_score(target_valid, predictions_valid))\n",
    "print('f1-мера', f1_score(target_valid, predictions_valid))"
   ]
  },
  {
   "cell_type": "markdown",
   "metadata": {},
   "source": [
    "<div style=\"border:solid blue 2px; padding: 20px\">\n",
    "    \n",
    " \n",
    "Исследуем качество на модели — логистическая регрессия.\n",
    "\n",
    "    \n",
    "    \n",
    "</div> "
   ]
  },
  {
   "cell_type": "code",
   "execution_count": 38,
   "metadata": {
    "scrolled": false
   },
   "outputs": [
    {
     "name": "stdout",
     "output_type": "stream",
     "text": [
      "Оценка 0.6505\n",
      "Точность 0.30932703659976385\n",
      "Полнота 0.6968085106382979\n",
      "f1-мера 0.42845461978740795\n",
      "CPU times: user 36.1 ms, sys: 28.6 ms, total: 64.6 ms\n",
      "Wall time: 70.2 ms\n"
     ]
    }
   ],
   "source": [
    "%%time\n",
    "\n",
    "logistic_model = LogisticRegression(random_state=random_state, solver='liblinear')\n",
    "logistic_model.fit(features_downsampled, target_downsampled)\n",
    "predictions_valid = logistic_model.predict(features_valid)\n",
    "print('Оценка', accuracy_score(target_valid, predictions_valid))\n",
    "print('Точность', precision_score(target_valid, predictions_valid))\n",
    "print('Полнота', recall_score(target_valid, predictions_valid))\n",
    "print('f1-мера', f1_score(target_valid, predictions_valid))"
   ]
  },
  {
   "cell_type": "markdown",
   "metadata": {},
   "source": [
    "<div style=\"border:solid blue 2px; padding: 20px\">\n",
    "    \n",
    "\n",
    "f1-мера техникой уменьшения выборки на модели\n",
    "    \n",
    "— решающее дерево `0.5301 < 0.5579` уменьшилась\n",
    "    \n",
    "— случайный лес `0.5536` < `0.58149` уменьшилась\n",
    "    \n",
    "— логистическая регрессия `0.4167` < `0.4284` увеличилась.     \n",
    "    \n",
    "</div> "
   ]
  },
  {
   "cell_type": "markdown",
   "metadata": {},
   "source": [
    "<div style=\"border:solid blue 2px; padding: 20px\">\n",
    "    \n",
    " \n",
    "Исследуем модель  — алгоритмом случайный лес техникой увеличения выборки.\n",
    "    \n",
    "    \n",
    "</div> "
   ]
  },
  {
   "cell_type": "code",
   "execution_count": 39,
   "metadata": {
    "scrolled": true
   },
   "outputs": [
    {
     "name": "stdout",
     "output_type": "stream",
     "text": [
      "Количество деревьев 1 f1-мера 0.48292682926829267\n",
      "Количество деревьев 2 f1-мера 0.45561139028475717\n",
      "Количество деревьев 3 f1-мера 0.5509933774834438\n",
      "Количество деревьев 4 f1-мера 0.5271317829457365\n",
      "Количество деревьев 5 f1-мера 0.5578231292517007\n",
      "Количество деревьев 6 f1-мера 0.5440729483282675\n",
      "Количество деревьев 7 f1-мера 0.5698324022346368\n",
      "Количество деревьев 8 f1-мера 0.5493171471927162\n",
      "Количество деревьев 9 f1-мера 0.5528913963328632\n",
      "Количество деревьев 10 f1-мера 0.545727136431784\n",
      "Количество деревьев 11 f1-мера 0.5609065155807366\n",
      "Количество деревьев 12 f1-мера 0.5697151424287856\n",
      "Количество деревьев 13 f1-мера 0.5775248933143671\n",
      "Количество деревьев 14 f1-мера 0.562406015037594\n",
      "Количество деревьев 15 f1-мера 0.5718349928876244\n",
      "Количество деревьев 16 f1-мера 0.5654761904761905\n",
      "Количество деревьев 17 f1-мера 0.5665236051502145\n",
      "Количество деревьев 18 f1-мера 0.5672082717872968\n",
      "Количество деревьев 19 f1-мера 0.5706134094151213\n",
      "Количество деревьев 20 f1-мера 0.5768667642752562\n",
      "Количество деревьев 21 f1-мера 0.5767045454545453\n",
      "Количество деревьев 22 f1-мера 0.5772594752186588\n",
      "Количество деревьев 23 f1-мера 0.579250720461095\n",
      "Количество деревьев 24 f1-мера 0.5802650957290132\n",
      "Количество деревьев 25 f1-мера 0.5845272206303724\n",
      "Количество деревьев 26 f1-мера 0.5894428152492669\n",
      "Количество деревьев 27 f1-мера 0.5870503597122302\n",
      "Количество деревьев 28 f1-мера 0.5852941176470589\n",
      "Количество деревьев 29 f1-мера 0.5853658536585366\n",
      "Количество деревьев 30 f1-мера 0.5865102639296188\n",
      "Количество деревьев 31 f1-мера 0.5841726618705035\n",
      "Количество деревьев 32 f1-мера 0.5832106038291605\n",
      "Количество деревьев 33 f1-мера 0.5863570391872278\n",
      "Количество деревьев 34 f1-мера 0.5840707964601769\n",
      "Количество деревьев 35 f1-мера 0.5817655571635311\n",
      "Количество деревьев 36 f1-мера 0.5794117647058824\n",
      "Количество деревьев 37 f1-мера 0.5776487663280117\n",
      "Количество деревьев 38 f1-мера 0.5840707964601769\n",
      "Количество деревьев 39 f1-мера 0.5738880918220947\n",
      "Количество деревьев 40 f1-мера 0.5797950219619326\n",
      "Количество деревьев 41 f1-мера 0.5787965616045845\n",
      "Количество деревьев 42 f1-мера 0.5760709010339735\n",
      "Количество деревьев 43 f1-мера 0.5747460087082729\n",
      "Количество деревьев 44 f1-мера 0.5735294117647058\n",
      "Количество деревьев 45 f1-мера 0.5784883720930233\n",
      "Количество деревьев 46 f1-мера 0.5769230769230769\n",
      "Количество деревьев 47 f1-мера 0.5743145743145742\n",
      "Количество деревьев 48 f1-мера 0.5781021897810219\n",
      "Количество деревьев 49 f1-мера 0.5776487663280117\n",
      "Количество деревьев 50 f1-мера 0.5806451612903226\n",
      "Количество деревьев 51 f1-мера 0.5784883720930233\n",
      "Количество деревьев 52 f1-мера 0.5823529411764705\n",
      "Количество деревьев 53 f1-мера 0.5826086956521739\n",
      "Количество деревьев 54 f1-мера 0.5814977973568282\n",
      "Количество деревьев 55 f1-мера 0.5813953488372093\n",
      "Количество деревьев 56 f1-мера 0.5790251107828657\n",
      "Количество деревьев 57 f1-мера 0.5830903790087464\n",
      "Количество деревьев 58 f1-мера 0.5816023738872403\n",
      "Количество деревьев 59 f1-мера 0.587719298245614\n",
      "CPU times: user 14.8 s, sys: 67.3 ms, total: 14.8 s\n",
      "Wall time: 15 s\n"
     ]
    }
   ],
   "source": [
    "%%time\n",
    "\n",
    "for est in range(1,60):\n",
    "    forest_model = RandomForestClassifier(random_state=random_state, n_estimators=est)\n",
    "    forest_model.fit(features_upsampled, target_upsampled)\n",
    "    predictions_valid = forest_model.predict(features_valid)\n",
    "    print('Количество деревьев', est,'f1-мера', f1_score(target_valid, predictions_valid))"
   ]
  },
  {
   "cell_type": "code",
   "execution_count": 40,
   "metadata": {},
   "outputs": [
    {
     "name": "stdout",
     "output_type": "stream",
     "text": [
      "f1-мера 0.5894428152492669\n",
      "CPU times: user 221 ms, sys: 109 µs, total: 221 ms\n",
      "Wall time: 228 ms\n"
     ]
    }
   ],
   "source": [
    "%%time\n",
    "\n",
    "forest_model = RandomForestClassifier(random_state=random_state, n_estimators=26)\n",
    "forest_model.fit(features_upsampled, target_upsampled)\n",
    "predictions_valid = forest_model.predict(features_valid)\n",
    "print('f1-мера', f1_score(target_valid, predictions_valid))"
   ]
  },
  {
   "cell_type": "markdown",
   "metadata": {},
   "source": [
    "<div style=\"border:solid blue 2px; padding: 20px\">\n",
    "    \n",
    " \n",
    "`f1-мера` на модели случайный лес составляет `0.5894` при количестве деревьев `26`.\n",
    "    \n",
    "    \n",
    "    \n",
    "</div> "
   ]
  },
  {
   "cell_type": "markdown",
   "metadata": {},
   "source": [
    "<div style=\"border:solid blue 2px; padding: 20px\">\n",
    "    \n",
    " \n",
    "Изменим гиперпараметры и доведём `f1-меру` модели до `0.59`.\n",
    "    \n",
    "    \n",
    "</div> "
   ]
  },
  {
   "cell_type": "code",
   "execution_count": 41,
   "metadata": {
    "scrolled": true
   },
   "outputs": [
    {
     "data": {
      "text/plain": [
       "RandomForestClassifier(bootstrap=True, class_weight=None, criterion='gini',\n",
       "                       max_depth=None, max_features='auto', max_leaf_nodes=None,\n",
       "                       min_impurity_decrease=0.0, min_impurity_split=None,\n",
       "                       min_samples_leaf=1, min_samples_split=2,\n",
       "                       min_weight_fraction_leaf=0.0, n_estimators=26,\n",
       "                       n_jobs=None, oob_score=False, random_state=1234,\n",
       "                       verbose=0, warm_start=False)"
      ]
     },
     "execution_count": 41,
     "metadata": {},
     "output_type": "execute_result"
    }
   ],
   "source": [
    "# просмотр модели\n",
    "forest_model"
   ]
  },
  {
   "cell_type": "markdown",
   "metadata": {},
   "source": [
    "<div style=\"border:solid blue 2px; padding: 20px\">\n",
    "    \n",
    " \n",
    "Изменим гиперпараметр модели `min_samples_split`\n",
    "    \n",
    "    \n",
    "    \n",
    "</div> "
   ]
  },
  {
   "cell_type": "code",
   "execution_count": 42,
   "metadata": {},
   "outputs": [
    {
     "name": "stdout",
     "output_type": "stream",
     "text": [
      "samples_split 2 f1-мера 0.5894428152492669\n",
      "samples_split 3 f1-мера 0.569364161849711\n",
      "samples_split 4 f1-мера 0.593886462882096\n",
      "samples_split 5 f1-мера 0.5902578796561604\n",
      "samples_split 6 f1-мера 0.5916666666666668\n",
      "samples_split 7 f1-мера 0.5730027548209367\n",
      "samples_split 8 f1-мера 0.5737704918032788\n",
      "samples_split 9 f1-мера 0.5834464043419267\n",
      "samples_split 10 f1-мера 0.5805592543275632\n",
      "CPU times: user 1.98 s, sys: 7.71 ms, total: 1.99 s\n",
      "Wall time: 2.07 s\n"
     ]
    }
   ],
   "source": [
    "%%time\n",
    "\n",
    "for samples_split in range(2, 11):\n",
    "    forest_model =  RandomForestClassifier(random_state=random_state, n_estimators=26, min_samples_split=samples_split)\n",
    "    forest_model.fit(features_upsampled, target_upsampled)\n",
    "    predictions_valid = forest_model.predict(features_valid)\n",
    "    print('samples_split', samples_split,'f1-мера', f1_score(target_valid, predictions_valid))"
   ]
  },
  {
   "cell_type": "markdown",
   "metadata": {},
   "source": [
    "<div style=\"border:solid blue 2px; padding: 20px\">\n",
    "    \n",
    " \n",
    "Изменим гиперпараметр модели `min_samples_leaf`\n",
    "    \n",
    "    \n",
    "    \n",
    "</div> "
   ]
  },
  {
   "cell_type": "code",
   "execution_count": 43,
   "metadata": {
    "scrolled": true
   },
   "outputs": [
    {
     "name": "stdout",
     "output_type": "stream",
     "text": [
      "samples_leaf 1 f1-мера 0.5916666666666668\n",
      "samples_leaf 2 f1-мера 0.5847797062750334\n",
      "samples_leaf 3 f1-мера 0.5966277561608301\n",
      "samples_leaf 4 f1-мера 0.5920398009950248\n",
      "samples_leaf 5 f1-мера 0.5815950920245399\n",
      "samples_leaf 6 f1-мера 0.5879518072289157\n",
      "samples_leaf 7 f1-мера 0.5940119760479041\n",
      "samples_leaf 8 f1-мера 0.5988304093567252\n",
      "samples_leaf 9 f1-мера 0.5774155995343423\n",
      "samples_leaf 10 f1-мера 0.5889281507656065\n",
      "CPU times: user 2.01 s, sys: 0 ns, total: 2.01 s\n",
      "Wall time: 2.04 s\n"
     ]
    }
   ],
   "source": [
    "%%time\n",
    "\n",
    "for samples_leaf in range(1, 11):\n",
    "    forest_model =  RandomForestClassifier(random_state=random_state, n_estimators=26, min_samples_split=6, min_samples_leaf=samples_leaf)\n",
    "    forest_model.fit(features_upsampled, target_upsampled)\n",
    "    predictions_valid = forest_model.predict(features_valid)\n",
    "    print('samples_leaf', samples_leaf,'f1-мера', f1_score(target_valid, predictions_valid))"
   ]
  },
  {
   "cell_type": "markdown",
   "metadata": {},
   "source": [
    "<div style=\"border:solid blue 2px; padding: 20px\">\n",
    "\n",
    "### Вывод\n",
    "\n",
    "\n",
    "    \n",
    "</div> "
   ]
  },
  {
   "cell_type": "markdown",
   "metadata": {},
   "source": [
    "<div style=\"border:solid blue 2px; padding: 20px\">\n",
    "    \n",
    "Лучшая `f1-мера` модели `0.5988` на валидационной выборке получена техникой увеличения выборки\n",
    "    \n",
    "алгоритмом случайный лес при `n_estimators=26` `min_samples_split=6` `min_samples_leaf=8`\n",
    "    \n",
    "\n",
    "\n",
    "    \n",
    "</div> "
   ]
  },
  {
   "cell_type": "code",
   "execution_count": 44,
   "metadata": {
    "scrolled": true
   },
   "outputs": [
    {
     "name": "stdout",
     "output_type": "stream",
     "text": [
      "AUC-ROC RandomForestClassifier 0.8550712058484435\n"
     ]
    },
    {
     "data": {
      "image/png": "[encoded data removed]",
      "text/plain": [
       "<Figure size 432x288 with 1 Axes>"
      ]
     },
     "metadata": {
      "needs_background": "light"
     },
     "output_type": "display_data"
    }
   ],
   "source": [
    "rfc_model = RandomForestClassifier(random_state=random_state, n_estimators=26, min_samples_split=6, min_samples_leaf=8)\n",
    "rfc_model.fit(features_upsampled, target_upsampled)\n",
    "probabilities_valid = rfc_model.predict_proba(features_valid)\n",
    "probabilities_one_valid = probabilities_valid[:, 1]\n",
    "fpr, tpr, thresholds = roc_curve(target_valid, probabilities_one_valid)\n",
    "auc_roc = roc_auc_score(target_valid, probabilities_one_valid)\n",
    "print('AUC-ROC RandomForestClassifier',auc_roc)\n",
    "plt.plot(fpr, tpr, label='RandomForestClassifier')\n",
    "plt.plot([0, 1], [0, 1], linestyle='--', label='RandomModel')\n",
    "plt.xlim([0,1])\n",
    "plt.ylim([0,1])\n",
    "plt.xlabel(\"False Positive Rate\")\n",
    "plt.ylabel(\"True Positive Rate\")\n",
    "plt.legend(loc='lower right', fontsize='x-large')\n",
    "plt.title(\"ROC-кривая\")\n",
    "plt.show()"
   ]
  },
  {
   "cell_type": "markdown",
   "metadata": {},
   "source": [
    "## Тестирование модели"
   ]
  },
  {
   "cell_type": "markdown",
   "metadata": {},
   "source": [
    "<div style=\"border:solid blue 2px; padding: 20px\">\n",
    "    \n",
    " \n",
    "Исследуем модель на тестовой выборке — алгоритмом случайный лес техникой увеличения выборки.\n",
    "    \n",
    "    \n",
    "</div> "
   ]
  },
  {
   "cell_type": "code",
   "execution_count": 45,
   "metadata": {},
   "outputs": [
    {
     "name": "stdout",
     "output_type": "stream",
     "text": [
      "Оценка 0.8165\n",
      "Точность 0.5708661417322834\n",
      "Полнота 0.6605922551252847\n",
      "f1-мера 0.6124604012671595\n",
      "CPU times: user 197 ms, sys: 3.64 ms, total: 200 ms\n",
      "Wall time: 207 ms\n"
     ]
    }
   ],
   "source": [
    "%%time\n",
    "\n",
    "test_forest_model = RandomForestClassifier(random_state=random_state, n_estimators=26, min_samples_split=6, min_samples_leaf=8)\n",
    "test_forest_model.fit(features_upsampled, target_upsampled)\n",
    "predictions_test = test_forest_model.predict(features_test)\n",
    "print('Оценка', accuracy_score(target_test, predictions_test))\n",
    "print('Точность', precision_score(target_test, predictions_test))\n",
    "print('Полнота', recall_score(target_test, predictions_test))\n",
    "print('f1-мера', f1_score(target_test, predictions_test))"
   ]
  },
  {
   "cell_type": "markdown",
   "metadata": {},
   "source": [
    "<div style=\"border:solid blue 2px; padding: 20px\">\n",
    "    \n",
    "`f1-мера` модели `0.6124` на тестовой выборке получена техникой увеличения выборки\n",
    "    \n",
    "алгоритмом случайный лес при `n_estimators=26` `min_samples_split=6` `min_samples_leaf=8`\n",
    "    \n",
    "\n",
    "\n",
    "    \n",
    "</div> "
   ]
  },
  {
   "cell_type": "code",
   "execution_count": 46,
   "metadata": {
    "scrolled": false
   },
   "outputs": [
    {
     "name": "stdout",
     "output_type": "stream",
     "text": [
      "AUC-ROC RandomForestClassifier 0.8450704019822584\n"
     ]
    },
    {
     "data": {
      "image/png": "[encoded data removed]",
      "text/plain": [
       "<Figure size 432x288 with 1 Axes>"
      ]
     },
     "metadata": {
      "needs_background": "light"
     },
     "output_type": "display_data"
    }
   ],
   "source": [
    "probabilities_test = test_forest_model.predict_proba(features_test)\n",
    "probabilities_one_test = probabilities_test[:, 1]\n",
    "fpr, tpr, thresholds = roc_curve(target_test, probabilities_one_test)\n",
    "auc_roc = roc_auc_score(target_test, probabilities_one_test)\n",
    "print('AUC-ROC RandomForestClassifier',auc_roc)\n",
    "plt.plot(fpr, tpr, label='RandomForestClassifier')\n",
    "plt.plot([0, 1], [0, 1], linestyle='--', label='RandomModel')\n",
    "plt.xlim([0,1])\n",
    "plt.ylim([0,1])\n",
    "plt.xlabel(\"False Positive Rate\")\n",
    "plt.ylabel(\"True Positive Rate\")\n",
    "plt.legend(loc='lower right', fontsize='x-large')\n",
    "plt.title(\"ROC-кривая\")\n",
    "plt.show()"
   ]
  },
  {
   "cell_type": "markdown",
   "metadata": {},
   "source": [
    "<div style=\"border:solid blue 2px; padding: 20px\">\n",
    "    \n",
    "Метрика `AUC-ROC` модели `0.845` на тестовой выборке\n",
    "\n",
    "\n",
    "    \n",
    "</div> "
   ]
  },
  {
   "cell_type": "markdown",
   "metadata": {},
   "source": [
    "<div style=\"border:solid blue 2px; padding: 20px\">\n",
    "\n",
    "### Вывод\n",
    "\n",
    "\n",
    "    \n",
    "</div> "
   ]
  },
  {
   "cell_type": "markdown",
   "metadata": {},
   "source": [
    "<div style=\"border:solid blue 2px; padding: 20px\">\n",
    "    \n",
    "Метрика `AUC-ROC` на тестовой выборке для полученной модели составляет `0.845`\n",
    "    \n",
    "Исходя из идеального показателя `AUC-ROC = 1`, можно оценить модель как `удовлетворителную`.\n",
    "    \n",
    "Метрика конечно лучше, чем у случайной модели `0.845 > 0.5`, но до идеального далеко.\n",
    "    \n",
    "Метрика `f1-мера` на тестовой выборке для полученной модели составляет `0.61`\n",
    "    \n",
    "Следовательно с такими показателями метрик `f1-мера` и `AUC-ROC` модель будет выполнять работу.\n",
    "    \n",
    "Полученную модель можно рекомендовать для прогнозирования оттока клиентов.\n",
    "    \n",
    "    \n",
    "</div> "
   ]
  },
  {
   "cell_type": "code",
   "execution_count": 54,
   "metadata": {
    "scrolled": false
   },
   "outputs": [
    {
     "name": "stdout",
     "output_type": "stream",
     "text": [
      "Признак: 0 Важность: 0.08821991425762053\n",
      "Признак: 1 Важность: 0.3199584413677694\n",
      "Признак: 2 Важность: 0.04842987334054337\n",
      "Признак: 3 Важность: 0.13132950721913664\n",
      "Признак: 4 Важность: 0.18876009300540264\n",
      "Признак: 5 Важность: 0.00986881024040773\n",
      "Признак: 6 Важность: 0.047331205895216916\n",
      "Признак: 7 Важность: 0.08316671295601902\n",
      "Признак: 8 Важность: 0.04743185028445765\n",
      "Признак: 9 Важность: 0.011603111227681437\n",
      "Признак: 10 Важность: 0.02390048020574472\n"
     ]
    },
    {
     "data": {
      "text/plain": [
       "Text(0.5, 1.0, 'Важность признаков')"
      ]
     },
     "execution_count": 54,
     "metadata": {},
     "output_type": "execute_result"
    },
    {
     "data": {
      "image/png": "[encoded data removed]",
      "text/plain": [
       "<Figure size 432x288 with 1 Axes>"
      ]
     },
     "metadata": {
      "needs_background": "light"
     },
     "output_type": "display_data"
    }
   ],
   "source": [
    "importances = test_forest_model.feature_importances_\n",
    "for i,v in enumerate(importances):\n",
    "    print('Признак:',i, 'Важность:',v)\n",
    "# plot feature importances\n",
    "plt.bar([x for x in range(len(importances))], importances)\n",
    "plt.title(\"Важность признаков\")\n",
    "plt.show()"
   ]
  },
  {
   "cell_type": "code",
   "execution_count": 53,
   "metadata": {
    "scrolled": false
   },
   "outputs": [
    {
     "data": {
      "image/png": "[encoded data removed]",
      "text/plain": [
       "<Figure size 432x288 with 1 Axes>"
      ]
     },
     "metadata": {
      "needs_background": "light"
     },
     "output_type": "display_data"
    }
   ],
   "source": [
    "feature_names = [f\"feature {i}\" for i in range(features_train.shape[1])]\n",
    "forest_importances = pd.Series(importances, index=feature_names)\n",
    "\n",
    "\n",
    "forest_importances.plot.bar()\n",
    "plt.title(\"Важность признаков\")\n"
   ]
  }
 ],
 "metadata": {
  "ExecuteTimeLog": [
   {
    "duration": 1095,
    "start_time": "2022-02-04T09:29:14.765Z"
   },
   {
    "duration": 169,
    "start_time": "2022-02-04T09:45:42.754Z"
   },
   {
    "duration": 16,
    "start_time": "2022-02-04T09:46:35.977Z"
   },
   {
    "duration": 9,
    "start_time": "2022-02-04T09:47:09.948Z"
   },
   {
    "duration": 45,
    "start_time": "2022-02-04T09:57:18.978Z"
   },
   {
    "duration": 2,
    "start_time": "2022-02-04T09:57:52.469Z"
   },
   {
    "duration": 6,
    "start_time": "2022-02-04T10:34:51.167Z"
   },
   {
    "duration": 4,
    "start_time": "2022-02-04T11:00:21.383Z"
   },
   {
    "duration": 17,
    "start_time": "2022-02-04T11:01:59.750Z"
   },
   {
    "duration": 28,
    "start_time": "2022-02-04T11:02:20.689Z"
   },
   {
    "duration": 8,
    "start_time": "2022-02-04T11:04:40.096Z"
   },
   {
    "duration": 7,
    "start_time": "2022-02-04T11:06:47.157Z"
   },
   {
    "duration": 1061,
    "start_time": "2022-02-04T11:07:41.236Z"
   },
   {
    "duration": 195,
    "start_time": "2022-02-04T11:07:42.298Z"
   },
   {
    "duration": 15,
    "start_time": "2022-02-04T11:07:42.495Z"
   },
   {
    "duration": 9,
    "start_time": "2022-02-04T11:07:42.511Z"
   },
   {
    "duration": 39,
    "start_time": "2022-02-04T11:07:42.521Z"
   },
   {
    "duration": 5,
    "start_time": "2022-02-04T11:07:42.562Z"
   },
   {
    "duration": 6,
    "start_time": "2022-02-04T11:07:42.569Z"
   },
   {
    "duration": 3,
    "start_time": "2022-02-04T11:07:42.576Z"
   },
   {
    "duration": 6,
    "start_time": "2022-02-04T11:07:42.581Z"
   },
   {
    "duration": 2,
    "start_time": "2022-02-04T11:07:42.589Z"
   },
   {
    "duration": 1105,
    "start_time": "2022-02-04T11:46:00.438Z"
   },
   {
    "duration": 597,
    "start_time": "2022-02-04T11:46:01.545Z"
   },
   {
    "duration": 15,
    "start_time": "2022-02-04T11:46:02.144Z"
   },
   {
    "duration": 13,
    "start_time": "2022-02-04T11:46:02.161Z"
   },
   {
    "duration": 49,
    "start_time": "2022-02-04T11:46:02.176Z"
   },
   {
    "duration": 5,
    "start_time": "2022-02-04T11:46:02.227Z"
   },
   {
    "duration": 8,
    "start_time": "2022-02-04T11:46:02.234Z"
   },
   {
    "duration": 5,
    "start_time": "2022-02-04T11:46:02.244Z"
   },
   {
    "duration": 5,
    "start_time": "2022-02-04T11:46:02.251Z"
   },
   {
    "duration": 10,
    "start_time": "2022-02-04T11:46:02.258Z"
   },
   {
    "duration": 1086,
    "start_time": "2022-02-04T13:57:23.458Z"
   },
   {
    "duration": 159,
    "start_time": "2022-02-04T13:57:24.546Z"
   },
   {
    "duration": 15,
    "start_time": "2022-02-04T13:57:24.707Z"
   },
   {
    "duration": 8,
    "start_time": "2022-02-04T13:57:24.724Z"
   },
   {
    "duration": 39,
    "start_time": "2022-02-04T13:57:24.734Z"
   },
   {
    "duration": 5,
    "start_time": "2022-02-04T13:57:24.774Z"
   },
   {
    "duration": 31,
    "start_time": "2022-02-04T13:57:24.781Z"
   },
   {
    "duration": 3,
    "start_time": "2022-02-04T13:57:24.814Z"
   },
   {
    "duration": 5,
    "start_time": "2022-02-04T13:57:24.819Z"
   },
   {
    "duration": 5,
    "start_time": "2022-02-04T13:57:24.825Z"
   },
   {
    "duration": 1125,
    "start_time": "2022-02-04T14:20:29.520Z"
   },
   {
    "duration": 159,
    "start_time": "2022-02-04T14:20:30.647Z"
   },
   {
    "duration": 15,
    "start_time": "2022-02-04T14:20:30.808Z"
   },
   {
    "duration": 12,
    "start_time": "2022-02-04T14:20:30.825Z"
   },
   {
    "duration": 47,
    "start_time": "2022-02-04T14:20:30.839Z"
   },
   {
    "duration": 25,
    "start_time": "2022-02-04T14:20:30.888Z"
   },
   {
    "duration": 3,
    "start_time": "2022-02-04T14:20:30.915Z"
   },
   {
    "duration": 6,
    "start_time": "2022-02-04T14:20:30.920Z"
   },
   {
    "duration": 5,
    "start_time": "2022-02-04T14:20:30.928Z"
   },
   {
    "duration": 8,
    "start_time": "2022-02-04T14:20:30.935Z"
   },
   {
    "duration": 8,
    "start_time": "2022-02-04T14:22:51.770Z"
   },
   {
    "duration": 8,
    "start_time": "2022-02-04T14:23:13.151Z"
   },
   {
    "duration": 814,
    "start_time": "2022-02-04T14:23:34.410Z"
   },
   {
    "duration": 5,
    "start_time": "2022-02-04T15:01:56.359Z"
   },
   {
    "duration": 14,
    "start_time": "2022-02-04T15:51:18.880Z"
   },
   {
    "duration": 11,
    "start_time": "2022-02-04T15:51:34.120Z"
   },
   {
    "duration": 309,
    "start_time": "2022-02-04T15:52:41.550Z"
   },
   {
    "duration": 19,
    "start_time": "2022-02-04T15:55:16.499Z"
   },
   {
    "duration": 30,
    "start_time": "2022-02-04T15:55:21.151Z"
   },
   {
    "duration": 1074,
    "start_time": "2022-02-04T15:59:11.971Z"
   },
   {
    "duration": 155,
    "start_time": "2022-02-04T15:59:13.047Z"
   },
   {
    "duration": 15,
    "start_time": "2022-02-04T15:59:13.204Z"
   },
   {
    "duration": 10,
    "start_time": "2022-02-04T15:59:13.220Z"
   },
   {
    "duration": 41,
    "start_time": "2022-02-04T15:59:13.232Z"
   },
   {
    "duration": 5,
    "start_time": "2022-02-04T15:59:13.275Z"
   },
   {
    "duration": 3,
    "start_time": "2022-02-04T15:59:13.281Z"
   },
   {
    "duration": 2,
    "start_time": "2022-02-04T15:59:13.312Z"
   },
   {
    "duration": 3,
    "start_time": "2022-02-04T15:59:13.317Z"
   },
   {
    "duration": 10,
    "start_time": "2022-02-04T15:59:13.322Z"
   },
   {
    "duration": 8,
    "start_time": "2022-02-04T15:59:13.334Z"
   },
   {
    "duration": 861,
    "start_time": "2022-02-04T15:59:13.344Z"
   },
   {
    "duration": 4,
    "start_time": "2022-02-04T15:59:14.212Z"
   },
   {
    "duration": 24,
    "start_time": "2022-02-04T15:59:14.218Z"
   },
   {
    "duration": 2,
    "start_time": "2022-02-04T15:59:14.244Z"
   },
   {
    "duration": 1131,
    "start_time": "2022-02-04T17:43:25.537Z"
   },
   {
    "duration": 165,
    "start_time": "2022-02-04T17:43:26.670Z"
   },
   {
    "duration": 17,
    "start_time": "2022-02-04T17:43:26.837Z"
   },
   {
    "duration": 10,
    "start_time": "2022-02-04T17:43:26.856Z"
   },
   {
    "duration": 63,
    "start_time": "2022-02-04T17:43:26.867Z"
   },
   {
    "duration": 5,
    "start_time": "2022-02-04T17:43:26.932Z"
   },
   {
    "duration": 3,
    "start_time": "2022-02-04T17:43:26.938Z"
   },
   {
    "duration": 4,
    "start_time": "2022-02-04T17:43:26.943Z"
   },
   {
    "duration": 4,
    "start_time": "2022-02-04T17:43:26.949Z"
   },
   {
    "duration": 10,
    "start_time": "2022-02-04T17:43:26.955Z"
   },
   {
    "duration": 8,
    "start_time": "2022-02-04T17:43:26.966Z"
   },
   {
    "duration": 880,
    "start_time": "2022-02-04T17:43:26.975Z"
   },
   {
    "duration": 6,
    "start_time": "2022-02-04T17:43:27.857Z"
   },
   {
    "duration": 25,
    "start_time": "2022-02-04T17:43:27.865Z"
   },
   {
    "duration": 26,
    "start_time": "2022-02-04T17:43:27.892Z"
   },
   {
    "duration": 298,
    "start_time": "2022-02-06T13:16:41.775Z"
   },
   {
    "duration": 1258,
    "start_time": "2022-02-06T13:16:48.491Z"
   },
   {
    "duration": 202,
    "start_time": "2022-02-06T13:16:49.752Z"
   },
   {
    "duration": 18,
    "start_time": "2022-02-06T13:16:49.957Z"
   },
   {
    "duration": 12,
    "start_time": "2022-02-06T13:16:49.978Z"
   },
   {
    "duration": 47,
    "start_time": "2022-02-06T13:16:49.993Z"
   },
   {
    "duration": 8,
    "start_time": "2022-02-06T13:16:50.042Z"
   },
   {
    "duration": 14,
    "start_time": "2022-02-06T13:16:50.052Z"
   },
   {
    "duration": 18,
    "start_time": "2022-02-06T13:16:50.069Z"
   },
   {
    "duration": 52,
    "start_time": "2022-02-06T13:16:50.089Z"
   },
   {
    "duration": 23,
    "start_time": "2022-02-06T13:16:50.143Z"
   },
   {
    "duration": 372,
    "start_time": "2022-02-06T13:16:50.169Z"
   },
   {
    "duration": -80,
    "start_time": "2022-02-06T13:16:50.623Z"
   },
   {
    "duration": -83,
    "start_time": "2022-02-06T13:16:50.627Z"
   },
   {
    "duration": -85,
    "start_time": "2022-02-06T13:16:50.630Z"
   },
   {
    "duration": -143,
    "start_time": "2022-02-06T13:16:50.689Z"
   },
   {
    "duration": -146,
    "start_time": "2022-02-06T13:16:50.693Z"
   },
   {
    "duration": 5,
    "start_time": "2022-02-06T13:17:15.949Z"
   },
   {
    "duration": 5,
    "start_time": "2022-02-06T13:17:22.988Z"
   },
   {
    "duration": 316,
    "start_time": "2022-02-06T13:17:42.627Z"
   },
   {
    "duration": 465,
    "start_time": "2022-02-06T13:17:55.515Z"
   },
   {
    "duration": 296,
    "start_time": "2022-02-06T13:18:09.388Z"
   },
   {
    "duration": 289,
    "start_time": "2022-02-06T13:18:29.668Z"
   },
   {
    "duration": 5,
    "start_time": "2022-02-06T13:18:36.857Z"
   },
   {
    "duration": 9,
    "start_time": "2022-02-06T13:19:08.789Z"
   },
   {
    "duration": 8,
    "start_time": "2022-02-06T13:19:14.672Z"
   },
   {
    "duration": 918,
    "start_time": "2022-02-06T13:19:18.338Z"
   },
   {
    "duration": 4,
    "start_time": "2022-02-06T13:20:43.708Z"
   },
   {
    "duration": 26,
    "start_time": "2022-02-06T13:20:52.106Z"
   },
   {
    "duration": 2,
    "start_time": "2022-02-06T13:20:57.728Z"
   },
   {
    "duration": 11,
    "start_time": "2022-02-06T13:51:03.329Z"
   },
   {
    "duration": 300,
    "start_time": "2022-02-06T13:58:35.331Z"
   },
   {
    "duration": 1238,
    "start_time": "2022-02-06T14:17:54.338Z"
   },
   {
    "duration": 363,
    "start_time": "2022-02-06T14:17:55.579Z"
   },
   {
    "duration": 18,
    "start_time": "2022-02-06T14:17:55.945Z"
   },
   {
    "duration": 29,
    "start_time": "2022-02-06T14:17:55.966Z"
   },
   {
    "duration": 64,
    "start_time": "2022-02-06T14:17:55.998Z"
   },
   {
    "duration": 7,
    "start_time": "2022-02-06T14:17:56.064Z"
   },
   {
    "duration": 20,
    "start_time": "2022-02-06T14:17:56.073Z"
   },
   {
    "duration": 13,
    "start_time": "2022-02-06T14:17:56.096Z"
   },
   {
    "duration": 24,
    "start_time": "2022-02-06T14:17:56.114Z"
   },
   {
    "duration": 23,
    "start_time": "2022-02-06T14:17:56.140Z"
   },
   {
    "duration": 26,
    "start_time": "2022-02-06T14:17:56.165Z"
   },
   {
    "duration": 28,
    "start_time": "2022-02-06T14:17:56.193Z"
   },
   {
    "duration": 22,
    "start_time": "2022-02-06T14:17:56.224Z"
   },
   {
    "duration": 17,
    "start_time": "2022-02-06T14:17:56.248Z"
   },
   {
    "duration": 927,
    "start_time": "2022-02-06T14:17:56.268Z"
   },
   {
    "duration": 10,
    "start_time": "2022-02-06T14:17:57.197Z"
   },
   {
    "duration": 40,
    "start_time": "2022-02-06T14:17:57.209Z"
   },
   {
    "duration": 2,
    "start_time": "2022-02-06T14:17:57.251Z"
   },
   {
    "duration": 8408,
    "start_time": "2022-02-06T14:54:58.616Z"
   },
   {
    "duration": 1212,
    "start_time": "2022-02-06T14:55:14.676Z"
   },
   {
    "duration": 223,
    "start_time": "2022-02-06T14:55:15.890Z"
   },
   {
    "duration": 18,
    "start_time": "2022-02-06T14:55:16.115Z"
   },
   {
    "duration": 11,
    "start_time": "2022-02-06T14:55:16.135Z"
   },
   {
    "duration": 70,
    "start_time": "2022-02-06T14:55:16.148Z"
   },
   {
    "duration": 8,
    "start_time": "2022-02-06T14:55:16.221Z"
   },
   {
    "duration": 15,
    "start_time": "2022-02-06T14:55:16.230Z"
   },
   {
    "duration": 10,
    "start_time": "2022-02-06T14:55:16.247Z"
   },
   {
    "duration": 8,
    "start_time": "2022-02-06T14:55:16.260Z"
   },
   {
    "duration": 10,
    "start_time": "2022-02-06T14:55:16.270Z"
   },
   {
    "duration": 28,
    "start_time": "2022-02-06T14:55:16.281Z"
   },
   {
    "duration": 11,
    "start_time": "2022-02-06T14:55:16.315Z"
   },
   {
    "duration": 9,
    "start_time": "2022-02-06T14:55:16.328Z"
   },
   {
    "duration": 838,
    "start_time": "2022-02-06T14:55:16.339Z"
   },
   {
    "duration": 7,
    "start_time": "2022-02-06T14:55:17.179Z"
   },
   {
    "duration": 61,
    "start_time": "2022-02-06T14:55:17.188Z"
   },
   {
    "duration": 3,
    "start_time": "2022-02-06T14:55:17.251Z"
   },
   {
    "duration": 445,
    "start_time": "2022-02-06T15:01:57.861Z"
   },
   {
    "duration": 1260,
    "start_time": "2022-02-06T15:02:03.211Z"
   },
   {
    "duration": 295,
    "start_time": "2022-02-06T15:02:04.474Z"
   },
   {
    "duration": 17,
    "start_time": "2022-02-06T15:02:04.771Z"
   },
   {
    "duration": 10,
    "start_time": "2022-02-06T15:02:04.791Z"
   },
   {
    "duration": 46,
    "start_time": "2022-02-06T15:02:04.804Z"
   },
   {
    "duration": 7,
    "start_time": "2022-02-06T15:02:04.852Z"
   },
   {
    "duration": 447,
    "start_time": "2022-02-06T15:02:04.861Z"
   },
   {
    "duration": -146,
    "start_time": "2022-02-06T15:02:05.457Z"
   },
   {
    "duration": -146,
    "start_time": "2022-02-06T15:02:05.458Z"
   },
   {
    "duration": -147,
    "start_time": "2022-02-06T15:02:05.460Z"
   },
   {
    "duration": -149,
    "start_time": "2022-02-06T15:02:05.463Z"
   },
   {
    "duration": -149,
    "start_time": "2022-02-06T15:02:05.464Z"
   },
   {
    "duration": -154,
    "start_time": "2022-02-06T15:02:05.470Z"
   },
   {
    "duration": -154,
    "start_time": "2022-02-06T15:02:05.472Z"
   },
   {
    "duration": -155,
    "start_time": "2022-02-06T15:02:05.474Z"
   },
   {
    "duration": -156,
    "start_time": "2022-02-06T15:02:05.476Z"
   },
   {
    "duration": -157,
    "start_time": "2022-02-06T15:02:05.478Z"
   },
   {
    "duration": -158,
    "start_time": "2022-02-06T15:02:05.480Z"
   },
   {
    "duration": 25,
    "start_time": "2022-02-06T15:02:33.733Z"
   },
   {
    "duration": 25,
    "start_time": "2022-02-06T15:03:16.224Z"
   },
   {
    "duration": 248,
    "start_time": "2022-02-06T15:26:49.223Z"
   },
   {
    "duration": 1227,
    "start_time": "2022-02-06T15:28:02.245Z"
   },
   {
    "duration": 229,
    "start_time": "2022-02-06T15:28:03.474Z"
   },
   {
    "duration": 17,
    "start_time": "2022-02-06T15:28:03.706Z"
   },
   {
    "duration": 16,
    "start_time": "2022-02-06T15:28:03.726Z"
   },
   {
    "duration": 43,
    "start_time": "2022-02-06T15:28:03.744Z"
   },
   {
    "duration": 22,
    "start_time": "2022-02-06T15:28:03.789Z"
   },
   {
    "duration": 6,
    "start_time": "2022-02-06T15:28:03.814Z"
   },
   {
    "duration": 6,
    "start_time": "2022-02-06T15:28:03.822Z"
   },
   {
    "duration": 6,
    "start_time": "2022-02-06T15:28:03.831Z"
   },
   {
    "duration": 17,
    "start_time": "2022-02-06T15:28:03.839Z"
   },
   {
    "duration": 9,
    "start_time": "2022-02-06T15:28:03.857Z"
   },
   {
    "duration": 43,
    "start_time": "2022-02-06T15:28:03.868Z"
   },
   {
    "duration": 919,
    "start_time": "2022-02-06T15:28:03.913Z"
   },
   {
    "duration": 6,
    "start_time": "2022-02-06T15:28:04.834Z"
   },
   {
    "duration": 31,
    "start_time": "2022-02-06T15:28:04.841Z"
   },
   {
    "duration": 3,
    "start_time": "2022-02-06T15:28:04.874Z"
   },
   {
    "duration": 6530,
    "start_time": "2022-02-06T15:28:04.880Z"
   },
   {
    "duration": -39,
    "start_time": "2022-02-06T15:28:11.451Z"
   },
   {
    "duration": 1176,
    "start_time": "2022-02-06T15:28:25.393Z"
   },
   {
    "duration": 196,
    "start_time": "2022-02-06T15:28:26.571Z"
   },
   {
    "duration": 17,
    "start_time": "2022-02-06T15:28:26.770Z"
   },
   {
    "duration": 15,
    "start_time": "2022-02-06T15:28:26.789Z"
   },
   {
    "duration": 43,
    "start_time": "2022-02-06T15:28:26.806Z"
   },
   {
    "duration": 6,
    "start_time": "2022-02-06T15:28:26.851Z"
   },
   {
    "duration": 5,
    "start_time": "2022-02-06T15:28:26.860Z"
   },
   {
    "duration": 9,
    "start_time": "2022-02-06T15:28:26.867Z"
   },
   {
    "duration": 31,
    "start_time": "2022-02-06T15:28:26.880Z"
   },
   {
    "duration": 19,
    "start_time": "2022-02-06T15:28:26.913Z"
   },
   {
    "duration": 10,
    "start_time": "2022-02-06T15:28:26.934Z"
   },
   {
    "duration": 21,
    "start_time": "2022-02-06T15:28:26.946Z"
   },
   {
    "duration": 1025,
    "start_time": "2022-02-06T15:28:26.969Z"
   },
   {
    "duration": 12,
    "start_time": "2022-02-06T15:28:27.996Z"
   },
   {
    "duration": 30,
    "start_time": "2022-02-06T15:28:28.010Z"
   },
   {
    "duration": 3,
    "start_time": "2022-02-06T15:28:28.042Z"
   },
   {
    "duration": 7775,
    "start_time": "2022-02-06T15:28:28.047Z"
   },
   {
    "duration": 57,
    "start_time": "2022-02-06T15:28:35.768Z"
   },
   {
    "duration": 1283,
    "start_time": "2022-02-06T15:28:51.885Z"
   },
   {
    "duration": 208,
    "start_time": "2022-02-06T15:28:53.171Z"
   },
   {
    "duration": 18,
    "start_time": "2022-02-06T15:28:53.381Z"
   },
   {
    "duration": 14,
    "start_time": "2022-02-06T15:28:53.401Z"
   },
   {
    "duration": 62,
    "start_time": "2022-02-06T15:28:53.418Z"
   },
   {
    "duration": 7,
    "start_time": "2022-02-06T15:28:53.482Z"
   },
   {
    "duration": 19,
    "start_time": "2022-02-06T15:28:53.491Z"
   },
   {
    "duration": 12,
    "start_time": "2022-02-06T15:28:53.514Z"
   },
   {
    "duration": 13,
    "start_time": "2022-02-06T15:28:53.528Z"
   },
   {
    "duration": 17,
    "start_time": "2022-02-06T15:28:53.543Z"
   },
   {
    "duration": 9,
    "start_time": "2022-02-06T15:28:53.562Z"
   },
   {
    "duration": 35,
    "start_time": "2022-02-06T15:28:53.573Z"
   },
   {
    "duration": 861,
    "start_time": "2022-02-06T15:28:53.610Z"
   },
   {
    "duration": 5,
    "start_time": "2022-02-06T15:28:54.473Z"
   },
   {
    "duration": 47,
    "start_time": "2022-02-06T15:28:54.481Z"
   },
   {
    "duration": 3,
    "start_time": "2022-02-06T15:28:54.531Z"
   },
   {
    "duration": 12,
    "start_time": "2022-02-06T15:28:54.536Z"
   },
   {
    "duration": 12,
    "start_time": "2022-02-06T15:28:54.550Z"
   },
   {
    "duration": 6,
    "start_time": "2022-02-06T15:30:09.014Z"
   },
   {
    "duration": 7,
    "start_time": "2022-02-06T15:31:58.851Z"
   },
   {
    "duration": 5,
    "start_time": "2022-02-06T15:32:38.080Z"
   },
   {
    "duration": 440,
    "start_time": "2022-02-06T15:38:25.473Z"
   },
   {
    "duration": 1129,
    "start_time": "2022-02-06T15:40:29.349Z"
   },
   {
    "duration": 194,
    "start_time": "2022-02-06T15:40:30.480Z"
   },
   {
    "duration": 17,
    "start_time": "2022-02-06T15:40:30.676Z"
   },
   {
    "duration": 11,
    "start_time": "2022-02-06T15:40:30.695Z"
   },
   {
    "duration": 44,
    "start_time": "2022-02-06T15:40:30.708Z"
   },
   {
    "duration": 6,
    "start_time": "2022-02-06T15:40:30.754Z"
   },
   {
    "duration": 9,
    "start_time": "2022-02-06T15:40:30.762Z"
   },
   {
    "duration": 15,
    "start_time": "2022-02-06T15:40:30.773Z"
   },
   {
    "duration": 23,
    "start_time": "2022-02-06T15:40:30.791Z"
   },
   {
    "duration": 27,
    "start_time": "2022-02-06T15:40:30.817Z"
   },
   {
    "duration": 13,
    "start_time": "2022-02-06T15:40:30.846Z"
   },
   {
    "duration": 21,
    "start_time": "2022-02-06T15:40:30.861Z"
   },
   {
    "duration": 828,
    "start_time": "2022-02-06T15:40:30.884Z"
   },
   {
    "duration": 5,
    "start_time": "2022-02-06T15:40:31.715Z"
   },
   {
    "duration": 33,
    "start_time": "2022-02-06T15:40:31.722Z"
   },
   {
    "duration": 3,
    "start_time": "2022-02-06T15:40:31.757Z"
   },
   {
    "duration": 16,
    "start_time": "2022-02-06T15:40:31.762Z"
   },
   {
    "duration": 28,
    "start_time": "2022-02-06T15:40:31.780Z"
   },
   {
    "duration": 5,
    "start_time": "2022-02-06T15:40:31.810Z"
   },
   {
    "duration": 10,
    "start_time": "2022-02-06T15:40:31.818Z"
   },
   {
    "duration": 20,
    "start_time": "2022-02-06T15:40:31.830Z"
   },
   {
    "duration": 11,
    "start_time": "2022-02-06T15:40:31.852Z"
   },
   {
    "duration": 168,
    "start_time": "2022-02-06T15:40:31.866Z"
   },
   {
    "duration": 1131,
    "start_time": "2022-02-06T15:43:02.652Z"
   },
   {
    "duration": 228,
    "start_time": "2022-02-06T15:43:03.786Z"
   },
   {
    "duration": 18,
    "start_time": "2022-02-06T15:43:04.016Z"
   },
   {
    "duration": 61,
    "start_time": "2022-02-06T15:43:04.036Z"
   },
   {
    "duration": 55,
    "start_time": "2022-02-06T15:43:04.099Z"
   },
   {
    "duration": 6,
    "start_time": "2022-02-06T15:43:04.156Z"
   },
   {
    "duration": 63,
    "start_time": "2022-02-06T15:43:04.163Z"
   },
   {
    "duration": 32,
    "start_time": "2022-02-06T15:43:04.228Z"
   },
   {
    "duration": 69,
    "start_time": "2022-02-06T15:43:04.263Z"
   },
   {
    "duration": 18,
    "start_time": "2022-02-06T15:43:04.335Z"
   },
   {
    "duration": 10,
    "start_time": "2022-02-06T15:43:04.355Z"
   },
   {
    "duration": 7,
    "start_time": "2022-02-06T15:43:04.367Z"
   },
   {
    "duration": 872,
    "start_time": "2022-02-06T15:43:04.376Z"
   },
   {
    "duration": 5,
    "start_time": "2022-02-06T15:43:05.250Z"
   },
   {
    "duration": 39,
    "start_time": "2022-02-06T15:43:05.256Z"
   },
   {
    "duration": 11,
    "start_time": "2022-02-06T15:43:05.297Z"
   },
   {
    "duration": 20,
    "start_time": "2022-02-06T15:43:05.310Z"
   },
   {
    "duration": 16,
    "start_time": "2022-02-06T15:43:05.332Z"
   },
   {
    "duration": 5,
    "start_time": "2022-02-06T15:43:05.350Z"
   },
   {
    "duration": 14,
    "start_time": "2022-02-06T15:43:05.357Z"
   },
   {
    "duration": 6,
    "start_time": "2022-02-06T15:43:05.372Z"
   },
   {
    "duration": 9,
    "start_time": "2022-02-06T15:43:05.380Z"
   },
   {
    "duration": 157,
    "start_time": "2022-02-06T15:43:05.391Z"
   },
   {
    "duration": 1474,
    "start_time": "2022-02-06T15:45:37.709Z"
   },
   {
    "duration": 14800,
    "start_time": "2022-02-06T15:55:03.009Z"
   },
   {
    "duration": 1269,
    "start_time": "2022-02-06T16:06:35.142Z"
   },
   {
    "duration": 189,
    "start_time": "2022-02-06T16:06:36.413Z"
   },
   {
    "duration": 17,
    "start_time": "2022-02-06T16:06:36.604Z"
   },
   {
    "duration": 11,
    "start_time": "2022-02-06T16:06:36.623Z"
   },
   {
    "duration": 44,
    "start_time": "2022-02-06T16:06:36.635Z"
   },
   {
    "duration": 29,
    "start_time": "2022-02-06T16:06:36.681Z"
   },
   {
    "duration": 4,
    "start_time": "2022-02-06T16:06:36.712Z"
   },
   {
    "duration": 11,
    "start_time": "2022-02-06T16:06:36.719Z"
   },
   {
    "duration": 9,
    "start_time": "2022-02-06T16:06:36.732Z"
   },
   {
    "duration": 18,
    "start_time": "2022-02-06T16:06:36.744Z"
   },
   {
    "duration": 9,
    "start_time": "2022-02-06T16:06:36.764Z"
   },
   {
    "duration": 39,
    "start_time": "2022-02-06T16:06:36.775Z"
   },
   {
    "duration": 827,
    "start_time": "2022-02-06T16:06:36.816Z"
   },
   {
    "duration": 5,
    "start_time": "2022-02-06T16:06:37.645Z"
   },
   {
    "duration": 33,
    "start_time": "2022-02-06T16:06:37.652Z"
   },
   {
    "duration": 2,
    "start_time": "2022-02-06T16:06:37.687Z"
   },
   {
    "duration": 18,
    "start_time": "2022-02-06T16:06:37.691Z"
   },
   {
    "duration": 10,
    "start_time": "2022-02-06T16:06:37.711Z"
   },
   {
    "duration": 5,
    "start_time": "2022-02-06T16:06:37.723Z"
   },
   {
    "duration": 12,
    "start_time": "2022-02-06T16:06:37.729Z"
   },
   {
    "duration": 7,
    "start_time": "2022-02-06T16:06:37.743Z"
   },
   {
    "duration": 8,
    "start_time": "2022-02-06T16:06:37.752Z"
   },
   {
    "duration": 209,
    "start_time": "2022-02-06T16:06:37.763Z"
   },
   {
    "duration": 14098,
    "start_time": "2022-02-06T16:06:37.974Z"
   },
   {
    "duration": 1240,
    "start_time": "2022-02-06T16:10:46.332Z"
   },
   {
    "duration": 203,
    "start_time": "2022-02-06T16:10:47.574Z"
   },
   {
    "duration": 16,
    "start_time": "2022-02-06T16:10:47.780Z"
   },
   {
    "duration": 11,
    "start_time": "2022-02-06T16:10:47.799Z"
   },
   {
    "duration": 45,
    "start_time": "2022-02-06T16:10:47.813Z"
   },
   {
    "duration": 7,
    "start_time": "2022-02-06T16:10:47.860Z"
   },
   {
    "duration": 4,
    "start_time": "2022-02-06T16:10:47.868Z"
   },
   {
    "duration": 7,
    "start_time": "2022-02-06T16:10:47.874Z"
   },
   {
    "duration": 28,
    "start_time": "2022-02-06T16:10:47.884Z"
   },
   {
    "duration": 14,
    "start_time": "2022-02-06T16:10:47.915Z"
   },
   {
    "duration": 10,
    "start_time": "2022-02-06T16:10:47.932Z"
   },
   {
    "duration": 10,
    "start_time": "2022-02-06T16:10:47.944Z"
   },
   {
    "duration": 916,
    "start_time": "2022-02-06T16:10:47.956Z"
   },
   {
    "duration": 5,
    "start_time": "2022-02-06T16:10:48.874Z"
   },
   {
    "duration": 43,
    "start_time": "2022-02-06T16:10:48.881Z"
   },
   {
    "duration": 2,
    "start_time": "2022-02-06T16:10:48.926Z"
   },
   {
    "duration": 11,
    "start_time": "2022-02-06T16:10:48.930Z"
   },
   {
    "duration": 7,
    "start_time": "2022-02-06T16:10:48.943Z"
   },
   {
    "duration": 8,
    "start_time": "2022-02-06T16:10:48.952Z"
   },
   {
    "duration": 11,
    "start_time": "2022-02-06T16:10:48.962Z"
   },
   {
    "duration": 33,
    "start_time": "2022-02-06T16:10:48.975Z"
   },
   {
    "duration": 5,
    "start_time": "2022-02-06T16:10:49.011Z"
   },
   {
    "duration": 183,
    "start_time": "2022-02-06T16:10:49.017Z"
   },
   {
    "duration": 14318,
    "start_time": "2022-02-06T16:10:49.208Z"
   },
   {
    "duration": 39,
    "start_time": "2022-02-06T16:15:50.771Z"
   },
   {
    "duration": 37,
    "start_time": "2022-02-06T16:23:35.649Z"
   },
   {
    "duration": 89,
    "start_time": "2022-02-06T16:24:35.320Z"
   },
   {
    "duration": 365,
    "start_time": "2022-02-06T16:37:09.825Z"
   },
   {
    "duration": 159,
    "start_time": "2022-02-06T16:37:20.769Z"
   },
   {
    "duration": 156,
    "start_time": "2022-02-06T16:40:52.929Z"
   },
   {
    "duration": 168,
    "start_time": "2022-02-06T16:41:46.509Z"
   },
   {
    "duration": 1144,
    "start_time": "2022-02-06T16:50:26.828Z"
   },
   {
    "duration": 183,
    "start_time": "2022-02-06T16:50:27.975Z"
   },
   {
    "duration": 16,
    "start_time": "2022-02-06T16:50:28.161Z"
   },
   {
    "duration": 15,
    "start_time": "2022-02-06T16:50:28.179Z"
   },
   {
    "duration": 44,
    "start_time": "2022-02-06T16:50:28.196Z"
   },
   {
    "duration": 5,
    "start_time": "2022-02-06T16:50:28.242Z"
   },
   {
    "duration": 7,
    "start_time": "2022-02-06T16:50:28.249Z"
   },
   {
    "duration": 7,
    "start_time": "2022-02-06T16:50:28.258Z"
   },
   {
    "duration": 10,
    "start_time": "2022-02-06T16:50:28.270Z"
   },
   {
    "duration": 38,
    "start_time": "2022-02-06T16:50:28.283Z"
   },
   {
    "duration": 9,
    "start_time": "2022-02-06T16:50:28.323Z"
   },
   {
    "duration": 10,
    "start_time": "2022-02-06T16:50:28.335Z"
   },
   {
    "duration": 998,
    "start_time": "2022-02-06T16:50:28.347Z"
   },
   {
    "duration": 4,
    "start_time": "2022-02-06T16:50:29.348Z"
   },
   {
    "duration": 34,
    "start_time": "2022-02-06T16:50:29.354Z"
   },
   {
    "duration": 3,
    "start_time": "2022-02-06T16:50:29.390Z"
   },
   {
    "duration": 173,
    "start_time": "2022-02-06T16:50:29.394Z"
   },
   {
    "duration": 7,
    "start_time": "2022-02-06T16:50:29.569Z"
   },
   {
    "duration": 4,
    "start_time": "2022-02-06T16:50:29.578Z"
   },
   {
    "duration": 27,
    "start_time": "2022-02-06T16:50:29.584Z"
   },
   {
    "duration": 4,
    "start_time": "2022-02-06T16:50:29.613Z"
   },
   {
    "duration": 8,
    "start_time": "2022-02-06T16:50:29.619Z"
   },
   {
    "duration": 187,
    "start_time": "2022-02-06T16:50:29.629Z"
   },
   {
    "duration": 149,
    "start_time": "2022-02-06T16:50:29.818Z"
   },
   {
    "duration": 5,
    "start_time": "2022-02-06T16:50:29.969Z"
   },
   {
    "duration": 13666,
    "start_time": "2022-02-06T16:50:29.976Z"
   },
   {
    "duration": 72,
    "start_time": "2022-02-06T16:50:43.645Z"
   },
   {
    "duration": 242,
    "start_time": "2022-02-06T16:50:43.810Z"
   },
   {
    "duration": 7,
    "start_time": "2022-02-06T18:04:17.149Z"
   },
   {
    "duration": 9,
    "start_time": "2022-02-06T18:06:07.239Z"
   },
   {
    "duration": 6,
    "start_time": "2022-02-06T18:15:51.968Z"
   },
   {
    "duration": 98,
    "start_time": "2022-02-06T18:16:31.810Z"
   },
   {
    "duration": 1260,
    "start_time": "2022-02-06T18:17:03.416Z"
   },
   {
    "duration": 197,
    "start_time": "2022-02-06T18:17:04.678Z"
   },
   {
    "duration": 18,
    "start_time": "2022-02-06T18:17:04.877Z"
   },
   {
    "duration": 12,
    "start_time": "2022-02-06T18:17:04.897Z"
   },
   {
    "duration": 58,
    "start_time": "2022-02-06T18:17:04.911Z"
   },
   {
    "duration": 6,
    "start_time": "2022-02-06T18:17:04.971Z"
   },
   {
    "duration": 5,
    "start_time": "2022-02-06T18:17:04.979Z"
   },
   {
    "duration": 22,
    "start_time": "2022-02-06T18:17:04.988Z"
   },
   {
    "duration": 9,
    "start_time": "2022-02-06T18:17:05.013Z"
   },
   {
    "duration": 18,
    "start_time": "2022-02-06T18:17:05.024Z"
   },
   {
    "duration": 10,
    "start_time": "2022-02-06T18:17:05.044Z"
   },
   {
    "duration": 14,
    "start_time": "2022-02-06T18:17:05.056Z"
   },
   {
    "duration": 873,
    "start_time": "2022-02-06T18:17:05.071Z"
   },
   {
    "duration": 6,
    "start_time": "2022-02-06T18:17:05.945Z"
   },
   {
    "duration": 32,
    "start_time": "2022-02-06T18:17:05.952Z"
   },
   {
    "duration": 21,
    "start_time": "2022-02-06T18:17:05.987Z"
   },
   {
    "duration": 199,
    "start_time": "2022-02-06T18:17:06.011Z"
   },
   {
    "duration": 10,
    "start_time": "2022-02-06T18:17:06.212Z"
   },
   {
    "duration": 14,
    "start_time": "2022-02-06T18:17:06.224Z"
   },
   {
    "duration": 17,
    "start_time": "2022-02-06T18:17:06.241Z"
   },
   {
    "duration": 34,
    "start_time": "2022-02-06T18:17:06.260Z"
   },
   {
    "duration": 16,
    "start_time": "2022-02-06T18:17:06.297Z"
   },
   {
    "duration": 184,
    "start_time": "2022-02-06T18:17:06.317Z"
   },
   {
    "duration": 5,
    "start_time": "2022-02-06T18:17:06.508Z"
   },
   {
    "duration": 15260,
    "start_time": "2022-02-06T18:17:06.516Z"
   },
   {
    "duration": 53,
    "start_time": "2022-02-06T18:17:21.779Z"
   },
   {
    "duration": 604,
    "start_time": "2022-02-06T18:33:23.249Z"
   },
   {
    "duration": 49,
    "start_time": "2022-02-06T18:55:30.468Z"
   },
   {
    "duration": 380,
    "start_time": "2022-02-06T18:58:17.417Z"
   },
   {
    "duration": 388,
    "start_time": "2022-02-06T19:00:54.129Z"
   },
   {
    "duration": 83,
    "start_time": "2022-02-06T19:01:10.428Z"
   },
   {
    "duration": 1213,
    "start_time": "2022-02-07T11:37:41.962Z"
   },
   {
    "duration": 236,
    "start_time": "2022-02-07T11:37:43.177Z"
   },
   {
    "duration": 15,
    "start_time": "2022-02-07T11:37:43.415Z"
   },
   {
    "duration": 13,
    "start_time": "2022-02-07T11:37:43.432Z"
   },
   {
    "duration": 40,
    "start_time": "2022-02-07T11:37:43.447Z"
   },
   {
    "duration": 5,
    "start_time": "2022-02-07T11:37:43.489Z"
   },
   {
    "duration": 25,
    "start_time": "2022-02-07T11:37:43.496Z"
   },
   {
    "duration": 11,
    "start_time": "2022-02-07T11:37:43.524Z"
   },
   {
    "duration": 25,
    "start_time": "2022-02-07T11:37:43.537Z"
   },
   {
    "duration": 17,
    "start_time": "2022-02-07T11:37:43.564Z"
   },
   {
    "duration": 8,
    "start_time": "2022-02-07T11:37:43.583Z"
   },
   {
    "duration": 9,
    "start_time": "2022-02-07T11:37:43.593Z"
   },
   {
    "duration": 827,
    "start_time": "2022-02-07T11:37:43.603Z"
   },
   {
    "duration": 5,
    "start_time": "2022-02-07T11:37:44.431Z"
   },
   {
    "duration": 29,
    "start_time": "2022-02-07T11:37:44.438Z"
   },
   {
    "duration": 2,
    "start_time": "2022-02-07T11:37:44.469Z"
   },
   {
    "duration": 176,
    "start_time": "2022-02-07T11:37:44.473Z"
   },
   {
    "duration": 7,
    "start_time": "2022-02-07T11:37:44.650Z"
   },
   {
    "duration": 5,
    "start_time": "2022-02-07T11:37:44.659Z"
   },
   {
    "duration": 8,
    "start_time": "2022-02-07T11:37:44.666Z"
   },
   {
    "duration": 6,
    "start_time": "2022-02-07T11:37:44.676Z"
   },
   {
    "duration": 36,
    "start_time": "2022-02-07T11:37:44.683Z"
   },
   {
    "duration": 174,
    "start_time": "2022-02-07T11:37:44.722Z"
   },
   {
    "duration": 5,
    "start_time": "2022-02-07T11:37:44.898Z"
   },
   {
    "duration": 13270,
    "start_time": "2022-02-07T11:37:44.918Z"
   },
   {
    "duration": 48,
    "start_time": "2022-02-07T11:37:58.190Z"
   },
   {
    "duration": 665,
    "start_time": "2022-02-07T11:37:58.319Z"
   },
   {
    "duration": 42,
    "start_time": "2022-02-07T11:37:58.985Z"
   },
   {
    "duration": 378,
    "start_time": "2022-02-07T11:37:59.029Z"
   },
   {
    "duration": 115,
    "start_time": "2022-02-07T11:37:59.409Z"
   },
   {
    "duration": 18,
    "start_time": "2022-02-07T12:02:52.405Z"
   },
   {
    "duration": 37,
    "start_time": "2022-02-07T12:06:24.089Z"
   },
   {
    "duration": 600,
    "start_time": "2022-02-07T12:06:58.427Z"
   },
   {
    "duration": 232,
    "start_time": "2022-02-07T12:07:16.793Z"
   },
   {
    "duration": 17,
    "start_time": "2022-02-07T12:47:03.544Z"
   },
   {
    "duration": 21,
    "start_time": "2022-02-07T12:48:54.899Z"
   },
   {
    "duration": 198,
    "start_time": "2022-02-07T12:49:35.543Z"
   },
   {
    "duration": 119,
    "start_time": "2022-02-07T12:51:15.601Z"
   },
   {
    "duration": 676,
    "start_time": "2022-02-07T13:05:18.562Z"
   },
   {
    "duration": 495,
    "start_time": "2022-02-07T13:14:17.749Z"
   },
   {
    "duration": 123332,
    "start_time": "2022-02-07T13:18:49.273Z"
   },
   {
    "duration": 18390,
    "start_time": "2022-02-07T13:28:37.547Z"
   },
   {
    "duration": 417,
    "start_time": "2022-02-07T13:36:40.860Z"
   },
   {
    "duration": 264,
    "start_time": "2022-02-07T13:36:49.631Z"
   },
   {
    "duration": 354,
    "start_time": "2022-02-07T13:44:23.930Z"
   },
   {
    "duration": 5,
    "start_time": "2022-02-07T13:44:27.314Z"
   },
   {
    "duration": 2357,
    "start_time": "2022-02-07T13:50:39.210Z"
   },
   {
    "duration": 2568,
    "start_time": "2022-02-07T14:35:05.552Z"
   },
   {
    "duration": 1306,
    "start_time": "2022-02-07T15:05:44.215Z"
   },
   {
    "duration": 760,
    "start_time": "2022-02-07T15:05:45.524Z"
   },
   {
    "duration": 26,
    "start_time": "2022-02-07T15:05:46.286Z"
   },
   {
    "duration": 11,
    "start_time": "2022-02-07T15:05:46.314Z"
   },
   {
    "duration": 39,
    "start_time": "2022-02-07T15:05:46.327Z"
   },
   {
    "duration": 6,
    "start_time": "2022-02-07T15:05:46.367Z"
   },
   {
    "duration": 3,
    "start_time": "2022-02-07T15:05:46.375Z"
   },
   {
    "duration": 11,
    "start_time": "2022-02-07T15:05:46.381Z"
   },
   {
    "duration": 11,
    "start_time": "2022-02-07T15:05:46.394Z"
   },
   {
    "duration": 16,
    "start_time": "2022-02-07T15:05:46.407Z"
   },
   {
    "duration": 8,
    "start_time": "2022-02-07T15:05:46.425Z"
   },
   {
    "duration": 13,
    "start_time": "2022-02-07T15:05:46.435Z"
   },
   {
    "duration": 906,
    "start_time": "2022-02-07T15:05:46.450Z"
   },
   {
    "duration": 5,
    "start_time": "2022-02-07T15:05:47.358Z"
   },
   {
    "duration": 28,
    "start_time": "2022-02-07T15:05:47.365Z"
   },
   {
    "duration": 3,
    "start_time": "2022-02-07T15:05:47.395Z"
   },
   {
    "duration": 168,
    "start_time": "2022-02-07T15:05:47.399Z"
   },
   {
    "duration": 7,
    "start_time": "2022-02-07T15:05:47.569Z"
   },
   {
    "duration": 6,
    "start_time": "2022-02-07T15:05:47.577Z"
   },
   {
    "duration": 14,
    "start_time": "2022-02-07T15:05:47.585Z"
   },
   {
    "duration": 21,
    "start_time": "2022-02-07T15:05:47.601Z"
   },
   {
    "duration": 16,
    "start_time": "2022-02-07T15:05:47.624Z"
   },
   {
    "duration": 159,
    "start_time": "2022-02-07T15:05:47.644Z"
   },
   {
    "duration": 15,
    "start_time": "2022-02-07T15:05:47.805Z"
   },
   {
    "duration": 15324,
    "start_time": "2022-02-07T15:05:47.822Z"
   },
   {
    "duration": 75,
    "start_time": "2022-02-07T15:06:03.148Z"
   },
   {
    "duration": 649,
    "start_time": "2022-02-07T15:06:03.225Z"
   },
   {
    "duration": 44,
    "start_time": "2022-02-07T15:06:03.876Z"
   },
   {
    "duration": 376,
    "start_time": "2022-02-07T15:06:03.922Z"
   },
   {
    "duration": 124,
    "start_time": "2022-02-07T15:06:04.300Z"
   },
   {
    "duration": 101,
    "start_time": "2022-02-07T15:06:04.426Z"
   },
   {
    "duration": 52,
    "start_time": "2022-02-07T15:06:04.529Z"
   },
   {
    "duration": 586,
    "start_time": "2022-02-07T15:06:04.583Z"
   },
   {
    "duration": 150,
    "start_time": "2022-02-07T15:06:05.170Z"
   },
   {
    "duration": 105,
    "start_time": "2022-02-07T15:06:05.324Z"
   },
   {
    "duration": 20,
    "start_time": "2022-02-07T15:06:05.431Z"
   },
   {
    "duration": 218,
    "start_time": "2022-02-07T15:06:05.452Z"
   },
   {
    "duration": 56,
    "start_time": "2022-02-07T15:06:05.672Z"
   },
   {
    "duration": 18128,
    "start_time": "2022-02-07T15:06:05.731Z"
   },
   {
    "duration": 273,
    "start_time": "2022-02-07T15:06:23.861Z"
   },
   {
    "duration": 5,
    "start_time": "2022-02-07T15:06:24.136Z"
   },
   {
    "duration": 2451,
    "start_time": "2022-02-07T15:06:24.143Z"
   },
   {
    "duration": 2529,
    "start_time": "2022-02-07T15:06:26.596Z"
   },
   {
    "duration": 706,
    "start_time": "2022-02-07T15:06:29.127Z"
   },
   {
    "duration": 497,
    "start_time": "2022-02-07T15:26:41.673Z"
   },
   {
    "duration": 462,
    "start_time": "2022-02-07T15:35:15.008Z"
   },
   {
    "duration": 91,
    "start_time": "2022-02-07T15:35:22.835Z"
   },
   {
    "duration": 1157,
    "start_time": "2022-02-07T15:38:52.044Z"
   },
   {
    "duration": 326,
    "start_time": "2022-02-07T15:38:53.203Z"
   },
   {
    "duration": 17,
    "start_time": "2022-02-07T15:38:53.532Z"
   },
   {
    "duration": 12,
    "start_time": "2022-02-07T15:38:53.551Z"
   },
   {
    "duration": 57,
    "start_time": "2022-02-07T15:38:53.565Z"
   },
   {
    "duration": 6,
    "start_time": "2022-02-07T15:38:53.624Z"
   },
   {
    "duration": 4,
    "start_time": "2022-02-07T15:38:53.632Z"
   },
   {
    "duration": 15,
    "start_time": "2022-02-07T15:38:53.638Z"
   },
   {
    "duration": 5,
    "start_time": "2022-02-07T15:38:53.656Z"
   },
   {
    "duration": 18,
    "start_time": "2022-02-07T15:38:53.664Z"
   },
   {
    "duration": 10,
    "start_time": "2022-02-07T15:38:53.685Z"
   },
   {
    "duration": 8,
    "start_time": "2022-02-07T15:38:53.719Z"
   },
   {
    "duration": 820,
    "start_time": "2022-02-07T15:38:53.729Z"
   },
   {
    "duration": 5,
    "start_time": "2022-02-07T15:38:54.551Z"
   },
   {
    "duration": 30,
    "start_time": "2022-02-07T15:38:54.558Z"
   },
   {
    "duration": 3,
    "start_time": "2022-02-07T15:38:54.590Z"
   },
   {
    "duration": 166,
    "start_time": "2022-02-07T15:38:54.594Z"
   },
   {
    "duration": 6,
    "start_time": "2022-02-07T15:38:54.762Z"
   },
   {
    "duration": 4,
    "start_time": "2022-02-07T15:38:54.770Z"
   },
   {
    "duration": 8,
    "start_time": "2022-02-07T15:38:54.776Z"
   },
   {
    "duration": 8,
    "start_time": "2022-02-07T15:38:54.785Z"
   },
   {
    "duration": 25,
    "start_time": "2022-02-07T15:38:54.795Z"
   },
   {
    "duration": 181,
    "start_time": "2022-02-07T15:38:54.822Z"
   },
   {
    "duration": 16,
    "start_time": "2022-02-07T15:38:55.005Z"
   },
   {
    "duration": 12870,
    "start_time": "2022-02-07T15:38:55.023Z"
   },
   {
    "duration": 124,
    "start_time": "2022-02-07T15:39:07.895Z"
   },
   {
    "duration": 653,
    "start_time": "2022-02-07T15:39:08.024Z"
   },
   {
    "duration": 45,
    "start_time": "2022-02-07T15:39:08.680Z"
   },
   {
    "duration": 399,
    "start_time": "2022-02-07T15:39:08.727Z"
   },
   {
    "duration": 104,
    "start_time": "2022-02-07T15:39:09.128Z"
   },
   {
    "duration": 19,
    "start_time": "2022-02-07T15:39:09.319Z"
   },
   {
    "duration": 37,
    "start_time": "2022-02-07T15:39:09.340Z"
   },
   {
    "duration": 577,
    "start_time": "2022-02-07T15:39:09.379Z"
   },
   {
    "duration": 65,
    "start_time": "2022-02-07T15:39:09.958Z"
   },
   {
    "duration": 117,
    "start_time": "2022-02-07T15:39:10.025Z"
   },
   {
    "duration": 23,
    "start_time": "2022-02-07T15:39:10.219Z"
   },
   {
    "duration": 229,
    "start_time": "2022-02-07T15:39:10.244Z"
   },
   {
    "duration": 51,
    "start_time": "2022-02-07T15:39:10.476Z"
   },
   {
    "duration": 18689,
    "start_time": "2022-02-07T15:39:10.530Z"
   },
   {
    "duration": 266,
    "start_time": "2022-02-07T15:39:29.221Z"
   },
   {
    "duration": 4,
    "start_time": "2022-02-07T15:39:29.489Z"
   },
   {
    "duration": 2556,
    "start_time": "2022-02-07T15:39:29.495Z"
   },
   {
    "duration": 2491,
    "start_time": "2022-02-07T15:39:32.053Z"
   },
   {
    "duration": 453,
    "start_time": "2022-02-07T15:39:34.546Z"
   },
   {
    "duration": 106,
    "start_time": "2022-02-07T15:39:35.001Z"
   },
   {
    "duration": 240,
    "start_time": "2022-02-07T15:40:07.690Z"
   },
   {
    "duration": 301,
    "start_time": "2022-02-07T15:44:10.491Z"
   },
   {
    "duration": 275,
    "start_time": "2022-02-07T15:47:41.833Z"
   },
   {
    "duration": 1252,
    "start_time": "2022-02-07T17:10:22.618Z"
   },
   {
    "duration": 193,
    "start_time": "2022-02-07T17:10:23.871Z"
   },
   {
    "duration": 16,
    "start_time": "2022-02-07T17:10:24.066Z"
   },
   {
    "duration": 21,
    "start_time": "2022-02-07T17:10:24.085Z"
   },
   {
    "duration": 56,
    "start_time": "2022-02-07T17:10:24.108Z"
   },
   {
    "duration": 6,
    "start_time": "2022-02-07T17:10:24.165Z"
   },
   {
    "duration": 10,
    "start_time": "2022-02-07T17:10:24.173Z"
   },
   {
    "duration": 6,
    "start_time": "2022-02-07T17:10:24.186Z"
   },
   {
    "duration": 10,
    "start_time": "2022-02-07T17:10:24.194Z"
   },
   {
    "duration": 21,
    "start_time": "2022-02-07T17:10:24.205Z"
   },
   {
    "duration": 9,
    "start_time": "2022-02-07T17:10:24.228Z"
   },
   {
    "duration": 7,
    "start_time": "2022-02-07T17:10:24.239Z"
   },
   {
    "duration": 1061,
    "start_time": "2022-02-07T17:10:24.247Z"
   },
   {
    "duration": 10,
    "start_time": "2022-02-07T17:10:25.311Z"
   },
   {
    "duration": 37,
    "start_time": "2022-02-07T17:10:25.323Z"
   },
   {
    "duration": 3,
    "start_time": "2022-02-07T17:10:25.362Z"
   },
   {
    "duration": 212,
    "start_time": "2022-02-07T17:10:25.367Z"
   },
   {
    "duration": 8,
    "start_time": "2022-02-07T17:10:25.581Z"
   },
   {
    "duration": 6,
    "start_time": "2022-02-07T17:10:25.590Z"
   },
   {
    "duration": 22,
    "start_time": "2022-02-07T17:10:25.598Z"
   },
   {
    "duration": 8,
    "start_time": "2022-02-07T17:10:25.621Z"
   },
   {
    "duration": 9,
    "start_time": "2022-02-07T17:10:25.631Z"
   },
   {
    "duration": 177,
    "start_time": "2022-02-07T17:10:25.643Z"
   },
   {
    "duration": 5,
    "start_time": "2022-02-07T17:10:25.822Z"
   },
   {
    "duration": 12722,
    "start_time": "2022-02-07T17:10:25.829Z"
   },
   {
    "duration": 77,
    "start_time": "2022-02-07T17:10:38.553Z"
   },
   {
    "duration": 639,
    "start_time": "2022-02-07T17:10:38.720Z"
   },
   {
    "duration": 33,
    "start_time": "2022-02-07T17:10:39.361Z"
   },
   {
    "duration": 377,
    "start_time": "2022-02-07T17:10:39.396Z"
   },
   {
    "duration": 145,
    "start_time": "2022-02-07T17:10:39.775Z"
   },
   {
    "duration": 111,
    "start_time": "2022-02-07T17:10:39.922Z"
   },
   {
    "duration": 41,
    "start_time": "2022-02-07T17:10:40.035Z"
   },
   {
    "duration": 568,
    "start_time": "2022-02-07T17:10:40.078Z"
   },
   {
    "duration": 172,
    "start_time": "2022-02-07T17:10:40.649Z"
   },
   {
    "duration": 16,
    "start_time": "2022-02-07T17:10:40.824Z"
   },
   {
    "duration": 79,
    "start_time": "2022-02-07T17:10:40.842Z"
   },
   {
    "duration": 224,
    "start_time": "2022-02-07T17:10:40.923Z"
   },
   {
    "duration": 72,
    "start_time": "2022-02-07T17:10:41.149Z"
   },
   {
    "duration": 17950,
    "start_time": "2022-02-07T17:10:41.223Z"
   },
   {
    "duration": 279,
    "start_time": "2022-02-07T17:10:59.175Z"
   },
   {
    "duration": 6,
    "start_time": "2022-02-07T17:10:59.456Z"
   },
   {
    "duration": 2403,
    "start_time": "2022-02-07T17:10:59.464Z"
   },
   {
    "duration": 2439,
    "start_time": "2022-02-07T17:11:01.869Z"
   },
   {
    "duration": 428,
    "start_time": "2022-02-07T17:11:04.310Z"
   },
   {
    "duration": 250,
    "start_time": "2022-02-07T17:11:04.740Z"
   },
   {
    "duration": 287,
    "start_time": "2022-02-07T17:11:04.992Z"
   },
   {
    "duration": 349,
    "start_time": "2022-02-08T19:33:57.913Z"
   },
   {
    "duration": 1122,
    "start_time": "2022-02-08T19:34:07.723Z"
   },
   {
    "duration": 238,
    "start_time": "2022-02-08T19:34:08.846Z"
   },
   {
    "duration": 17,
    "start_time": "2022-02-08T19:34:09.087Z"
   },
   {
    "duration": 11,
    "start_time": "2022-02-08T19:34:09.106Z"
   },
   {
    "duration": 47,
    "start_time": "2022-02-08T19:34:09.118Z"
   },
   {
    "duration": 5,
    "start_time": "2022-02-08T19:34:09.167Z"
   },
   {
    "duration": 4,
    "start_time": "2022-02-08T19:34:09.174Z"
   },
   {
    "duration": 4,
    "start_time": "2022-02-08T19:34:09.181Z"
   },
   {
    "duration": 7,
    "start_time": "2022-02-08T19:34:09.187Z"
   },
   {
    "duration": 33,
    "start_time": "2022-02-08T19:34:09.195Z"
   },
   {
    "duration": 8,
    "start_time": "2022-02-08T19:34:09.229Z"
   },
   {
    "duration": 6,
    "start_time": "2022-02-08T19:34:09.238Z"
   },
   {
    "duration": 800,
    "start_time": "2022-02-08T19:34:09.245Z"
   },
   {
    "duration": 3,
    "start_time": "2022-02-08T19:34:10.047Z"
   },
   {
    "duration": 22,
    "start_time": "2022-02-08T19:34:10.052Z"
   },
   {
    "duration": 2,
    "start_time": "2022-02-08T19:34:10.075Z"
   },
   {
    "duration": 137,
    "start_time": "2022-02-08T19:34:10.079Z"
   },
   {
    "duration": 10,
    "start_time": "2022-02-08T19:34:10.218Z"
   },
   {
    "duration": 6,
    "start_time": "2022-02-08T19:34:10.229Z"
   },
   {
    "duration": 17,
    "start_time": "2022-02-08T19:34:10.237Z"
   },
   {
    "duration": 17,
    "start_time": "2022-02-08T19:34:10.256Z"
   },
   {
    "duration": 12,
    "start_time": "2022-02-08T19:34:10.274Z"
   },
   {
    "duration": 139,
    "start_time": "2022-02-08T19:34:10.289Z"
   },
   {
    "duration": 3,
    "start_time": "2022-02-08T19:34:10.430Z"
   },
   {
    "duration": 10641,
    "start_time": "2022-02-08T19:34:10.435Z"
   },
   {
    "duration": 51,
    "start_time": "2022-02-08T19:34:21.077Z"
   },
   {
    "duration": 611,
    "start_time": "2022-02-08T19:34:21.131Z"
   },
   {
    "duration": 25,
    "start_time": "2022-02-08T19:34:21.744Z"
   },
   {
    "duration": 321,
    "start_time": "2022-02-08T19:34:21.771Z"
   },
   {
    "duration": 52,
    "start_time": "2022-02-08T19:34:22.093Z"
   },
   {
    "duration": 108,
    "start_time": "2022-02-08T19:34:22.228Z"
   },
   {
    "duration": 30,
    "start_time": "2022-02-08T19:34:22.337Z"
   },
   {
    "duration": 472,
    "start_time": "2022-02-08T19:34:22.368Z"
   },
   {
    "duration": 89,
    "start_time": "2022-02-08T19:34:22.842Z"
   },
   {
    "duration": 106,
    "start_time": "2022-02-08T19:34:22.933Z"
   },
   {
    "duration": 20,
    "start_time": "2022-02-08T19:34:23.040Z"
   },
   {
    "duration": 186,
    "start_time": "2022-02-08T19:34:23.061Z"
   },
   {
    "duration": 80,
    "start_time": "2022-02-08T19:34:23.248Z"
   },
   {
    "duration": 15227,
    "start_time": "2022-02-08T19:34:23.330Z"
   },
   {
    "duration": 224,
    "start_time": "2022-02-08T19:34:38.558Z"
   },
   {
    "duration": 4,
    "start_time": "2022-02-08T19:34:38.783Z"
   },
   {
    "duration": 1966,
    "start_time": "2022-02-08T19:34:38.788Z"
   },
   {
    "duration": 2038,
    "start_time": "2022-02-08T19:34:40.756Z"
   },
   {
    "duration": 348,
    "start_time": "2022-02-08T19:34:42.796Z"
   },
   {
    "duration": 208,
    "start_time": "2022-02-08T19:34:43.146Z"
   },
   {
    "duration": 217,
    "start_time": "2022-02-08T19:34:43.355Z"
   },
   {
    "duration": 444,
    "start_time": "2022-02-08T19:34:43.574Z"
   },
   {
    "duration": 150,
    "start_time": "2022-02-08T19:35:23.734Z"
   },
   {
    "duration": 151,
    "start_time": "2022-02-08T19:50:50.601Z"
   },
   {
    "duration": 336,
    "start_time": "2022-02-08T19:51:18.788Z"
   },
   {
    "duration": 506,
    "start_time": "2022-02-08T19:53:51.152Z"
   },
   {
    "duration": 284,
    "start_time": "2022-02-08T19:55:09.623Z"
   },
   {
    "duration": 318,
    "start_time": "2022-02-08T19:55:34.775Z"
   },
   {
    "duration": 310,
    "start_time": "2022-02-08T19:55:40.074Z"
   },
   {
    "duration": 267,
    "start_time": "2022-02-08T19:55:46.532Z"
   },
   {
    "duration": 160,
    "start_time": "2022-02-08T19:56:10.275Z"
   },
   {
    "duration": 591,
    "start_time": "2022-02-08T19:56:32.802Z"
   },
   {
    "duration": 469,
    "start_time": "2022-02-08T19:58:29.450Z"
   },
   {
    "duration": 553,
    "start_time": "2022-02-08T19:59:50.505Z"
   },
   {
    "duration": 163,
    "start_time": "2022-02-08T20:00:33.636Z"
   },
   {
    "duration": 159,
    "start_time": "2022-02-08T20:04:56.043Z"
   },
   {
    "duration": 169,
    "start_time": "2022-02-08T20:05:30.464Z"
   },
   {
    "duration": 1061,
    "start_time": "2022-02-08T20:18:19.073Z"
   },
   {
    "duration": 243,
    "start_time": "2022-02-08T20:18:20.138Z"
   },
   {
    "duration": 12,
    "start_time": "2022-02-08T20:18:20.383Z"
   },
   {
    "duration": 11,
    "start_time": "2022-02-08T20:18:20.396Z"
   },
   {
    "duration": 33,
    "start_time": "2022-02-08T20:18:20.409Z"
   },
   {
    "duration": 5,
    "start_time": "2022-02-08T20:18:20.443Z"
   },
   {
    "duration": 3,
    "start_time": "2022-02-08T20:18:20.450Z"
   },
   {
    "duration": 3,
    "start_time": "2022-02-08T20:18:20.455Z"
   },
   {
    "duration": 5,
    "start_time": "2022-02-08T20:18:20.460Z"
   },
   {
    "duration": 13,
    "start_time": "2022-02-08T20:18:20.466Z"
   },
   {
    "duration": 6,
    "start_time": "2022-02-08T20:18:20.481Z"
   },
   {
    "duration": 7,
    "start_time": "2022-02-08T20:18:20.489Z"
   },
   {
    "duration": 733,
    "start_time": "2022-02-08T20:18:20.497Z"
   },
   {
    "duration": 4,
    "start_time": "2022-02-08T20:18:21.232Z"
   },
   {
    "duration": 21,
    "start_time": "2022-02-08T20:18:21.237Z"
   },
   {
    "duration": 2,
    "start_time": "2022-02-08T20:18:21.259Z"
   },
   {
    "duration": 134,
    "start_time": "2022-02-08T20:18:21.262Z"
   },
   {
    "duration": 5,
    "start_time": "2022-02-08T20:18:21.398Z"
   },
   {
    "duration": 4,
    "start_time": "2022-02-08T20:18:21.404Z"
   },
   {
    "duration": 19,
    "start_time": "2022-02-08T20:18:21.409Z"
   },
   {
    "duration": 5,
    "start_time": "2022-02-08T20:18:21.429Z"
   },
   {
    "duration": 3,
    "start_time": "2022-02-08T20:18:21.437Z"
   },
   {
    "duration": 143,
    "start_time": "2022-02-08T20:18:21.442Z"
   },
   {
    "duration": 4,
    "start_time": "2022-02-08T20:18:21.587Z"
   },
   {
    "duration": 10895,
    "start_time": "2022-02-08T20:18:21.592Z"
   },
   {
    "duration": 45,
    "start_time": "2022-02-08T20:18:32.488Z"
   },
   {
    "duration": 667,
    "start_time": "2022-02-08T20:18:32.535Z"
   },
   {
    "duration": 34,
    "start_time": "2022-02-08T20:18:33.203Z"
   },
   {
    "duration": 320,
    "start_time": "2022-02-08T20:18:33.239Z"
   },
   {
    "duration": 69,
    "start_time": "2022-02-08T20:18:33.560Z"
   },
   {
    "duration": 107,
    "start_time": "2022-02-08T20:18:33.632Z"
   },
   {
    "duration": 31,
    "start_time": "2022-02-08T20:18:33.741Z"
   },
   {
    "duration": 486,
    "start_time": "2022-02-08T20:18:33.774Z"
   },
   {
    "duration": 77,
    "start_time": "2022-02-08T20:18:34.261Z"
   },
   {
    "duration": 100,
    "start_time": "2022-02-08T20:18:34.340Z"
   },
   {
    "duration": 18,
    "start_time": "2022-02-08T20:18:34.441Z"
   },
   {
    "duration": 229,
    "start_time": "2022-02-08T20:18:34.461Z"
   },
   {
    "duration": 137,
    "start_time": "2022-02-08T20:18:34.692Z"
   },
   {
    "duration": 15189,
    "start_time": "2022-02-08T20:18:34.831Z"
   },
   {
    "duration": 232,
    "start_time": "2022-02-08T20:18:50.021Z"
   },
   {
    "duration": 4,
    "start_time": "2022-02-08T20:18:50.255Z"
   },
   {
    "duration": 1954,
    "start_time": "2022-02-08T20:18:50.260Z"
   },
   {
    "duration": 2051,
    "start_time": "2022-02-08T20:18:52.216Z"
   },
   {
    "duration": 359,
    "start_time": "2022-02-08T20:18:54.269Z"
   },
   {
    "duration": 209,
    "start_time": "2022-02-08T20:18:54.630Z"
   },
   {
    "duration": 227,
    "start_time": "2022-02-08T20:18:54.841Z"
   },
   {
    "duration": 397,
    "start_time": "2022-02-08T20:18:55.069Z"
   },
   {
    "duration": 695,
    "start_time": "2022-02-08T20:18:54.772Z"
   },
   {
    "duration": 151,
    "start_time": "2022-02-08T20:19:39.286Z"
   },
   {
    "duration": 1075,
    "start_time": "2022-02-08T20:19:47.226Z"
   },
   {
    "duration": 247,
    "start_time": "2022-02-08T20:19:48.303Z"
   },
   {
    "duration": 14,
    "start_time": "2022-02-08T20:19:48.551Z"
   },
   {
    "duration": 10,
    "start_time": "2022-02-08T20:19:48.567Z"
   },
   {
    "duration": 35,
    "start_time": "2022-02-08T20:19:48.578Z"
   },
   {
    "duration": 16,
    "start_time": "2022-02-08T20:19:48.614Z"
   },
   {
    "duration": 3,
    "start_time": "2022-02-08T20:19:48.632Z"
   },
   {
    "duration": 3,
    "start_time": "2022-02-08T20:19:48.638Z"
   },
   {
    "duration": 5,
    "start_time": "2022-02-08T20:19:48.643Z"
   },
   {
    "duration": 10,
    "start_time": "2022-02-08T20:19:48.650Z"
   },
   {
    "duration": 8,
    "start_time": "2022-02-08T20:19:48.662Z"
   },
   {
    "duration": 6,
    "start_time": "2022-02-08T20:19:48.672Z"
   },
   {
    "duration": 750,
    "start_time": "2022-02-08T20:19:48.680Z"
   },
   {
    "duration": 4,
    "start_time": "2022-02-08T20:19:49.432Z"
   },
   {
    "duration": 47,
    "start_time": "2022-02-08T20:19:49.437Z"
   },
   {
    "duration": 3,
    "start_time": "2022-02-08T20:19:49.485Z"
   },
   {
    "duration": 118,
    "start_time": "2022-02-08T20:19:49.489Z"
   },
   {
    "duration": 5,
    "start_time": "2022-02-08T20:19:49.608Z"
   },
   {
    "duration": 3,
    "start_time": "2022-02-08T20:19:49.615Z"
   },
   {
    "duration": 5,
    "start_time": "2022-02-08T20:19:49.627Z"
   },
   {
    "duration": 3,
    "start_time": "2022-02-08T20:19:49.633Z"
   },
   {
    "duration": 4,
    "start_time": "2022-02-08T20:19:49.638Z"
   },
   {
    "duration": 148,
    "start_time": "2022-02-08T20:19:49.645Z"
   },
   {
    "duration": 14,
    "start_time": "2022-02-08T20:19:49.795Z"
   },
   {
    "duration": 11290,
    "start_time": "2022-02-08T20:19:49.811Z"
   },
   {
    "duration": 47,
    "start_time": "2022-02-08T20:20:01.103Z"
   },
   {
    "duration": 581,
    "start_time": "2022-02-08T20:20:01.229Z"
   },
   {
    "duration": 32,
    "start_time": "2022-02-08T20:20:01.812Z"
   },
   {
    "duration": 323,
    "start_time": "2022-02-08T20:20:01.845Z"
   },
   {
    "duration": 60,
    "start_time": "2022-02-08T20:20:02.170Z"
   },
   {
    "duration": 201,
    "start_time": "2022-02-08T20:20:02.232Z"
   },
   {
    "duration": 29,
    "start_time": "2022-02-08T20:20:02.435Z"
   },
   {
    "duration": 472,
    "start_time": "2022-02-08T20:20:02.466Z"
   },
   {
    "duration": 93,
    "start_time": "2022-02-08T20:20:02.940Z"
   },
   {
    "duration": 104,
    "start_time": "2022-02-08T20:20:03.035Z"
   },
   {
    "duration": 21,
    "start_time": "2022-02-08T20:20:03.140Z"
   },
   {
    "duration": 190,
    "start_time": "2022-02-08T20:20:03.163Z"
   },
   {
    "duration": 75,
    "start_time": "2022-02-08T20:20:03.354Z"
   },
   {
    "duration": 15013,
    "start_time": "2022-02-08T20:20:03.431Z"
   },
   {
    "duration": 231,
    "start_time": "2022-02-08T20:20:18.446Z"
   },
   {
    "duration": 4,
    "start_time": "2022-02-08T20:20:18.678Z"
   },
   {
    "duration": 2076,
    "start_time": "2022-02-08T20:20:18.684Z"
   },
   {
    "duration": 2043,
    "start_time": "2022-02-08T20:20:20.762Z"
   },
   {
    "duration": 356,
    "start_time": "2022-02-08T20:20:22.806Z"
   },
   {
    "duration": 211,
    "start_time": "2022-02-08T20:20:23.163Z"
   },
   {
    "duration": 227,
    "start_time": "2022-02-08T20:20:23.376Z"
   },
   {
    "duration": 160,
    "start_time": "2022-02-08T20:20:23.605Z"
   },
   {
    "duration": 175,
    "start_time": "2022-02-08T20:20:23.766Z"
   },
   {
    "duration": 155,
    "start_time": "2022-02-08T20:23:02.249Z"
   },
   {
    "duration": 417,
    "start_time": "2022-02-08T20:24:14.746Z"
   },
   {
    "duration": 153,
    "start_time": "2022-02-08T20:24:22.432Z"
   },
   {
    "duration": 153,
    "start_time": "2022-02-08T20:24:43.598Z"
   },
   {
    "duration": 172,
    "start_time": "2022-02-08T20:24:55.668Z"
   },
   {
    "duration": 156,
    "start_time": "2022-02-08T20:25:06.072Z"
   }
  ],
  "kernelspec": {
   "display_name": "Python 3 (ipykernel)",
   "language": "python",
   "name": "python3"
  },
  "language_info": {
   "codemirror_mode": {
    "name": "ipython",
    "version": 3
   },
   "file_extension": ".py",
   "mimetype": "text/x-python",
   "name": "python",
   "nbconvert_exporter": "python",
   "pygments_lexer": "ipython3",
   "version": "3.9.5"
  },
  "toc": {
   "base_numbering": 1,
   "nav_menu": {},
   "number_sections": true,
   "sideBar": true,
   "skip_h1_title": true,
   "title_cell": "Содержание",
   "title_sidebar": "Contents",
   "toc_cell": true,
   "toc_position": {
    "height": "calc(100% - 180px)",
    "left": "10px",
    "top": "150px",
    "width": "258.594px"
   },
   "toc_section_display": true,
   "toc_window_display": true
  }
 },
 "nbformat": 4,
 "nbformat_minor": 2
}
