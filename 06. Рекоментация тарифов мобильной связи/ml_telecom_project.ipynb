{
 "cells": [
  {
   "cell_type": "markdown",
   "metadata": {},
   "source": [
    "# План работы\n",
    "\n",
    "1. Изучение файла\n",
    "2. Разделение данных на выборки\n",
    "3. Исследование моделей\n",
    "4. Проверка модели на тестовой выборке\n",
    "5. Выводы"
   ]
  },
  {
   "cell_type": "markdown",
   "metadata": {},
   "source": [
    "## Изучение файла"
   ]
  },
  {
   "cell_type": "markdown",
   "metadata": {},
   "source": [
    "<div style=\"border:solid blue 2px; padding: 20px\">\n",
    "\n",
    "Импортируем библиотеки\n",
    "</div>"
   ]
  },
  {
   "cell_type": "code",
   "execution_count": 1,
   "metadata": {},
   "outputs": [],
   "source": [
    "import pandas as pd\n",
    "from sklearn.model_selection import train_test_split\n",
    "from sklearn.tree import DecisionTreeClassifier \n",
    "from sklearn.ensemble import RandomForestClassifier\n",
    "from sklearn.linear_model import LogisticRegression\n",
    "from sklearn.metrics import accuracy_score\n",
    "import warnings\n",
    "warnings.filterwarnings('ignore')"
   ]
  },
  {
   "cell_type": "code",
   "execution_count": 2,
   "metadata": {},
   "outputs": [],
   "source": [
    "# чтение файла с данными и сохранение в data_users\n",
    "# метод try-except поможет загрузить данные локально или глобально\n",
    "try:\n",
    "    df = pd.read_csv('C:/Users/users_behavior.csv')  # Локальный путь\n",
    "except:\n",
    "    df = pd.read_csv('/datasets/users_behavior.csv')  # Серверный путь"
   ]
  },
  {
   "cell_type": "markdown",
   "metadata": {},
   "source": [
    "<div style=\"border:solid blue 2px; padding: 20px\">\n",
    "    \n",
    "`head()` выводим на экран первые пять строк таблицы:\n",
    "    </div>"
   ]
  },
  {
   "cell_type": "code",
   "execution_count": 3,
   "metadata": {},
   "outputs": [
    {
     "data": {
      "text/html": [
       "<div>\n",
       "<style scoped>\n",
       "    .dataframe tbody tr th:only-of-type {\n",
       "        vertical-align: middle;\n",
       "    }\n",
       "\n",
       "    .dataframe tbody tr th {\n",
       "        vertical-align: top;\n",
       "    }\n",
       "\n",
       "    .dataframe thead th {\n",
       "        text-align: right;\n",
       "    }\n",
       "</style>\n",
       "<table border=\"1\" class=\"dataframe\">\n",
       "  <thead>\n",
       "    <tr style=\"text-align: right;\">\n",
       "      <th></th>\n",
       "      <th>calls</th>\n",
       "      <th>minutes</th>\n",
       "      <th>messages</th>\n",
       "      <th>mb_used</th>\n",
       "      <th>is_ultra</th>\n",
       "    </tr>\n",
       "  </thead>\n",
       "  <tbody>\n",
       "    <tr>\n",
       "      <td>0</td>\n",
       "      <td>40.0</td>\n",
       "      <td>311.90</td>\n",
       "      <td>83.0</td>\n",
       "      <td>19915.42</td>\n",
       "      <td>0</td>\n",
       "    </tr>\n",
       "    <tr>\n",
       "      <td>1</td>\n",
       "      <td>85.0</td>\n",
       "      <td>516.75</td>\n",
       "      <td>56.0</td>\n",
       "      <td>22696.96</td>\n",
       "      <td>0</td>\n",
       "    </tr>\n",
       "    <tr>\n",
       "      <td>2</td>\n",
       "      <td>77.0</td>\n",
       "      <td>467.66</td>\n",
       "      <td>86.0</td>\n",
       "      <td>21060.45</td>\n",
       "      <td>0</td>\n",
       "    </tr>\n",
       "    <tr>\n",
       "      <td>3</td>\n",
       "      <td>106.0</td>\n",
       "      <td>745.53</td>\n",
       "      <td>81.0</td>\n",
       "      <td>8437.39</td>\n",
       "      <td>1</td>\n",
       "    </tr>\n",
       "    <tr>\n",
       "      <td>4</td>\n",
       "      <td>66.0</td>\n",
       "      <td>418.74</td>\n",
       "      <td>1.0</td>\n",
       "      <td>14502.75</td>\n",
       "      <td>0</td>\n",
       "    </tr>\n",
       "  </tbody>\n",
       "</table>\n",
       "</div>"
      ],
      "text/plain": [
       "   calls  minutes  messages   mb_used  is_ultra\n",
       "0   40.0   311.90      83.0  19915.42         0\n",
       "1   85.0   516.75      56.0  22696.96         0\n",
       "2   77.0   467.66      86.0  21060.45         0\n",
       "3  106.0   745.53      81.0   8437.39         1\n",
       "4   66.0   418.74       1.0  14502.75         0"
      ]
     },
     "execution_count": 3,
     "metadata": {},
     "output_type": "execute_result"
    }
   ],
   "source": [
    "# получение первых 5 строк таблицы\n",
    "df.head()"
   ]
  },
  {
   "cell_type": "markdown",
   "metadata": {},
   "source": [
    "<div style=\"border:solid blue 2px; padding: 20px\">\n",
    "    \n",
    "`info()` получим общую информацию о таблице:\n",
    "    </div>"
   ]
  },
  {
   "cell_type": "code",
   "execution_count": 4,
   "metadata": {},
   "outputs": [
    {
     "name": "stdout",
     "output_type": "stream",
     "text": [
      "<class 'pandas.core.frame.DataFrame'>\n",
      "RangeIndex: 3214 entries, 0 to 3213\n",
      "Data columns (total 5 columns):\n",
      "calls       3214 non-null float64\n",
      "minutes     3214 non-null float64\n",
      "messages    3214 non-null float64\n",
      "mb_used     3214 non-null float64\n",
      "is_ultra    3214 non-null int64\n",
      "dtypes: float64(4), int64(1)\n",
      "memory usage: 125.7 KB\n"
     ]
    }
   ],
   "source": [
    "# получение общей информации о данных в таблице\n",
    "df.info()"
   ]
  },
  {
   "cell_type": "markdown",
   "metadata": {},
   "source": [
    "<div style=\"border:solid blue 2px; padding: 20px\">\n",
    "    \n",
    " \n",
    "Методом `describe()` получим описание данных\n",
    "    \n",
    "    \n",
    "</div> "
   ]
  },
  {
   "cell_type": "code",
   "execution_count": 5,
   "metadata": {},
   "outputs": [
    {
     "data": {
      "text/html": [
       "<div>\n",
       "<style scoped>\n",
       "    .dataframe tbody tr th:only-of-type {\n",
       "        vertical-align: middle;\n",
       "    }\n",
       "\n",
       "    .dataframe tbody tr th {\n",
       "        vertical-align: top;\n",
       "    }\n",
       "\n",
       "    .dataframe thead th {\n",
       "        text-align: right;\n",
       "    }\n",
       "</style>\n",
       "<table border=\"1\" class=\"dataframe\">\n",
       "  <thead>\n",
       "    <tr style=\"text-align: right;\">\n",
       "      <th></th>\n",
       "      <th>calls</th>\n",
       "      <th>minutes</th>\n",
       "      <th>messages</th>\n",
       "      <th>mb_used</th>\n",
       "      <th>is_ultra</th>\n",
       "    </tr>\n",
       "  </thead>\n",
       "  <tbody>\n",
       "    <tr>\n",
       "      <td>count</td>\n",
       "      <td>3214.000000</td>\n",
       "      <td>3214.000000</td>\n",
       "      <td>3214.000000</td>\n",
       "      <td>3214.000000</td>\n",
       "      <td>3214.000000</td>\n",
       "    </tr>\n",
       "    <tr>\n",
       "      <td>mean</td>\n",
       "      <td>63.038892</td>\n",
       "      <td>438.208787</td>\n",
       "      <td>38.281269</td>\n",
       "      <td>17207.673836</td>\n",
       "      <td>0.306472</td>\n",
       "    </tr>\n",
       "    <tr>\n",
       "      <td>std</td>\n",
       "      <td>33.236368</td>\n",
       "      <td>234.569872</td>\n",
       "      <td>36.148326</td>\n",
       "      <td>7570.968246</td>\n",
       "      <td>0.461100</td>\n",
       "    </tr>\n",
       "    <tr>\n",
       "      <td>min</td>\n",
       "      <td>0.000000</td>\n",
       "      <td>0.000000</td>\n",
       "      <td>0.000000</td>\n",
       "      <td>0.000000</td>\n",
       "      <td>0.000000</td>\n",
       "    </tr>\n",
       "    <tr>\n",
       "      <td>25%</td>\n",
       "      <td>40.000000</td>\n",
       "      <td>274.575000</td>\n",
       "      <td>9.000000</td>\n",
       "      <td>12491.902500</td>\n",
       "      <td>0.000000</td>\n",
       "    </tr>\n",
       "    <tr>\n",
       "      <td>50%</td>\n",
       "      <td>62.000000</td>\n",
       "      <td>430.600000</td>\n",
       "      <td>30.000000</td>\n",
       "      <td>16943.235000</td>\n",
       "      <td>0.000000</td>\n",
       "    </tr>\n",
       "    <tr>\n",
       "      <td>75%</td>\n",
       "      <td>82.000000</td>\n",
       "      <td>571.927500</td>\n",
       "      <td>57.000000</td>\n",
       "      <td>21424.700000</td>\n",
       "      <td>1.000000</td>\n",
       "    </tr>\n",
       "    <tr>\n",
       "      <td>max</td>\n",
       "      <td>244.000000</td>\n",
       "      <td>1632.060000</td>\n",
       "      <td>224.000000</td>\n",
       "      <td>49745.730000</td>\n",
       "      <td>1.000000</td>\n",
       "    </tr>\n",
       "  </tbody>\n",
       "</table>\n",
       "</div>"
      ],
      "text/plain": [
       "             calls      minutes     messages       mb_used     is_ultra\n",
       "count  3214.000000  3214.000000  3214.000000   3214.000000  3214.000000\n",
       "mean     63.038892   438.208787    38.281269  17207.673836     0.306472\n",
       "std      33.236368   234.569872    36.148326   7570.968246     0.461100\n",
       "min       0.000000     0.000000     0.000000      0.000000     0.000000\n",
       "25%      40.000000   274.575000     9.000000  12491.902500     0.000000\n",
       "50%      62.000000   430.600000    30.000000  16943.235000     0.000000\n",
       "75%      82.000000   571.927500    57.000000  21424.700000     1.000000\n",
       "max     244.000000  1632.060000   224.000000  49745.730000     1.000000"
      ]
     },
     "execution_count": 5,
     "metadata": {},
     "output_type": "execute_result"
    }
   ],
   "source": [
    "# описание данных\n",
    "df.describe()"
   ]
  },
  {
   "cell_type": "markdown",
   "metadata": {},
   "source": [
    "<div style=\"border:solid blue 2px; padding: 20px\">\n",
    "    \n",
    " \n",
    "Сохраним в переменную `random_state` значение параметра, чтобы результаты получились одинаковыми\n",
    "    \n",
    "    \n",
    "</div> "
   ]
  },
  {
   "cell_type": "code",
   "execution_count": 6,
   "metadata": {},
   "outputs": [],
   "source": [
    "# сохранение параметра\n",
    "random_state = 1234"
   ]
  },
  {
   "cell_type": "markdown",
   "metadata": {},
   "source": [
    "<div style=\"border:solid blue 2px; padding: 20px\">\n",
    "\n",
    "    \n",
    "Рассмотрим зависимость между числовыми факторами\n",
    "    \n",
    "\n",
    "количества звонков `сalls` и длительности звонков в минутах `minutes`\n",
    " \n",
    "    \n",
    "Получим таблицу с коэффициентами корреляции методом `corr()`\n",
    "    \n",
    "    \n",
    "Потроим диаграммы рассеяния `.plotting.scatter_matrix`\n",
    "    \n",
    "\n",
    "\n",
    "</div> "
   ]
  },
  {
   "cell_type": "code",
   "execution_count": 7,
   "metadata": {},
   "outputs": [
    {
     "data": {
      "text/html": [
       "<div>\n",
       "<style scoped>\n",
       "    .dataframe tbody tr th:only-of-type {\n",
       "        vertical-align: middle;\n",
       "    }\n",
       "\n",
       "    .dataframe tbody tr th {\n",
       "        vertical-align: top;\n",
       "    }\n",
       "\n",
       "    .dataframe thead th {\n",
       "        text-align: right;\n",
       "    }\n",
       "</style>\n",
       "<table border=\"1\" class=\"dataframe\">\n",
       "  <thead>\n",
       "    <tr style=\"text-align: right;\">\n",
       "      <th></th>\n",
       "      <th>calls</th>\n",
       "      <th>minutes</th>\n",
       "    </tr>\n",
       "  </thead>\n",
       "  <tbody>\n",
       "    <tr>\n",
       "      <td>0</td>\n",
       "      <td>40.0</td>\n",
       "      <td>311.90</td>\n",
       "    </tr>\n",
       "    <tr>\n",
       "      <td>1</td>\n",
       "      <td>85.0</td>\n",
       "      <td>516.75</td>\n",
       "    </tr>\n",
       "    <tr>\n",
       "      <td>2</td>\n",
       "      <td>77.0</td>\n",
       "      <td>467.66</td>\n",
       "    </tr>\n",
       "    <tr>\n",
       "      <td>3</td>\n",
       "      <td>106.0</td>\n",
       "      <td>745.53</td>\n",
       "    </tr>\n",
       "    <tr>\n",
       "      <td>4</td>\n",
       "      <td>66.0</td>\n",
       "      <td>418.74</td>\n",
       "    </tr>\n",
       "  </tbody>\n",
       "</table>\n",
       "</div>"
      ],
      "text/plain": [
       "   calls  minutes\n",
       "0   40.0   311.90\n",
       "1   85.0   516.75\n",
       "2   77.0   467.66\n",
       "3  106.0   745.53\n",
       "4   66.0   418.74"
      ]
     },
     "execution_count": 7,
     "metadata": {},
     "output_type": "execute_result"
    }
   ],
   "source": [
    "# вывод строк для определения зависимости\n",
    "df_correlation = df.loc[:,['calls','minutes']]\n",
    "df_correlation.head()"
   ]
  },
  {
   "cell_type": "code",
   "execution_count": 8,
   "metadata": {},
   "outputs": [
    {
     "data": {
      "text/html": [
       "<div>\n",
       "<style scoped>\n",
       "    .dataframe tbody tr th:only-of-type {\n",
       "        vertical-align: middle;\n",
       "    }\n",
       "\n",
       "    .dataframe tbody tr th {\n",
       "        vertical-align: top;\n",
       "    }\n",
       "\n",
       "    .dataframe thead th {\n",
       "        text-align: right;\n",
       "    }\n",
       "</style>\n",
       "<table border=\"1\" class=\"dataframe\">\n",
       "  <thead>\n",
       "    <tr style=\"text-align: right;\">\n",
       "      <th></th>\n",
       "      <th>calls</th>\n",
       "      <th>minutes</th>\n",
       "    </tr>\n",
       "  </thead>\n",
       "  <tbody>\n",
       "    <tr>\n",
       "      <td>calls</td>\n",
       "      <td>1.000000</td>\n",
       "      <td>0.982083</td>\n",
       "    </tr>\n",
       "    <tr>\n",
       "      <td>minutes</td>\n",
       "      <td>0.982083</td>\n",
       "      <td>1.000000</td>\n",
       "    </tr>\n",
       "  </tbody>\n",
       "</table>\n",
       "</div>"
      ],
      "text/plain": [
       "            calls   minutes\n",
       "calls    1.000000  0.982083\n",
       "minutes  0.982083  1.000000"
      ]
     },
     "execution_count": 8,
     "metadata": {},
     "output_type": "execute_result"
    }
   ],
   "source": [
    "# вывод матрицы корреляции\n",
    "df_correlation.corr()"
   ]
  },
  {
   "cell_type": "code",
   "execution_count": 9,
   "metadata": {},
   "outputs": [
    {
     "data": {
      "text/plain": [
       "array([[<matplotlib.axes._subplots.AxesSubplot object at 0x7fd8ac024910>,\n",
       "        <matplotlib.axes._subplots.AxesSubplot object at 0x7fd8a3d2dad0>],\n",
       "       [<matplotlib.axes._subplots.AxesSubplot object at 0x7fd8a3cf0d10>,\n",
       "        <matplotlib.axes._subplots.AxesSubplot object at 0x7fd8a3ca79d0>]],\n",
       "      dtype=object)"
      ]
     },
     "execution_count": 9,
     "metadata": {},
     "output_type": "execute_result"
    },
    {
     "data": {
      "image/png": "[encoded data removed]",
      "text/plain": [
       "<Figure size 360x360 with 4 Axes>"
      ]
     },
     "metadata": {
      "needs_background": "light"
     },
     "output_type": "display_data"
    }
   ],
   "source": [
    "# построение диаграмм рассеяния\n",
    "pd.plotting.scatter_matrix(df_correlation, figsize=(5, 5))"
   ]
  },
  {
   "cell_type": "markdown",
   "metadata": {},
   "source": [
    "<div style=\"border:solid blue 2px; padding: 20px\">\n",
    "\n",
    "    \n",
    "Наличие сильной корреляции `0.98` между количеством звонков `сalls` и длительностью `minutes`\n",
    "    \n",
    "Минуты и зывонки - мультиколлинеарны\n",
    "    \n",
    "В модель можно включить один из факторов\n",
    "    \n",
    "\n",
    "\n",
    "</div> "
   ]
  },
  {
   "cell_type": "markdown",
   "metadata": {},
   "source": [
    "<div style=\"border:solid blue 2px; padding: 20px\">\n",
    "\n",
    "### Вывод\n",
    "\n",
    "\n",
    "    \n",
    "    \n",
    "</div> "
   ]
  },
  {
   "cell_type": "markdown",
   "metadata": {},
   "source": [
    "<div style=\"border:solid blue 2px; padding: 20px\">\n",
    "    \n",
    "**Оценка полученных данных**\n",
    "\n",
    "Наблюдения, представленные в таблице описываются категориальными и количественными значениями.\n",
    "    \n",
    "Данные можно исследовать для дальнейшего анализа.\n",
    "    \n",
    "    \n",
    "**Таблица `users_behavior` (информация о пользователях)**:\n",
    "    \n",
    "`сalls` — количество звонков\n",
    "    \n",
    "`minutes` — суммарная длительность звонков в минутах\n",
    "    \n",
    "`messages` — количество sms-сообщений\n",
    "    \n",
    "`mb_used` — израсходованный интернет-трафик в Мб  \n",
    "    \n",
    "`is_ultra` — каким тарифом пользовался в течение месяца («Ультра» — 1, «Смарт» — 0)\n",
    "    \n",
    "\n",
    "**Категориальные** - `is_ultra` - целевой признак\n",
    "    \n",
    "**Количественные** - `сalls` , `minutes` , `messages` , `mb_used`\n",
    "    \n",
    "</div>"
   ]
  },
  {
   "cell_type": "markdown",
   "metadata": {},
   "source": [
    "## Разделение данных на выборки"
   ]
  },
  {
   "cell_type": "markdown",
   "metadata": {},
   "source": [
    "<div style=\"border:solid blue 2px; padding: 20px\">\n",
    "    \n",
    " \n",
    "`train_test_split()` разделим исходные данные на обучающую, валидационную и тестовую выборки\n",
    "    \n",
    "    \n",
    "</div> "
   ]
  },
  {
   "cell_type": "markdown",
   "metadata": {},
   "source": [
    "<div style=\"border:solid blue 2px; padding: 20px\">\n",
    "    \n",
    " \n",
    "`df` разделим на обучающую `df_train` выборку `3-и части` и `df_part` оставшиеся `2-е части`\n",
    "    \n",
    "    \n",
    "</div> "
   ]
  },
  {
   "cell_type": "code",
   "execution_count": 10,
   "metadata": {},
   "outputs": [
    {
     "name": "stdout",
     "output_type": "stream",
     "text": [
      "Объектов обучающей выборки 1928\n"
     ]
    }
   ],
   "source": [
    "# получение обучающей выборки\n",
    "df_train, df_part = train_test_split(df, test_size=0.40, random_state=random_state)\n",
    "print('Объектов обучающей выборки', df_train.shape[0])"
   ]
  },
  {
   "cell_type": "markdown",
   "metadata": {},
   "source": [
    "<div style=\"border:solid blue 2px; padding: 20px\">\n",
    "    \n",
    " \n",
    "Признаки обучающей выборки сохраним в отдельных переменных \n",
    "    \n",
    "    \n",
    "- `features_train`\n",
    "    \n",
    "    \n",
    "- `target_train` - целевой признак\n",
    "    \n",
    "    \n",
    "</div> "
   ]
  },
  {
   "cell_type": "code",
   "execution_count": 11,
   "metadata": {},
   "outputs": [],
   "source": [
    "# сохранение признаков обучающей выбороки в отдельных переменных\n",
    "features_train = df_train.drop(columns=['is_ultra'])\n",
    "target_train = df_train['is_ultra']"
   ]
  },
  {
   "cell_type": "markdown",
   "metadata": {},
   "source": [
    "<div style=\"border:solid blue 2px; padding: 20px\">\n",
    "    \n",
    " \n",
    "`df_part` разделим на валидационную `df_valid` выборку `1 часть` и `df_test` тестовую  `1 часть`\n",
    "    \n",
    "    \n",
    "</div> "
   ]
  },
  {
   "cell_type": "code",
   "execution_count": 12,
   "metadata": {},
   "outputs": [
    {
     "name": "stdout",
     "output_type": "stream",
     "text": [
      "Объектов валидационной выборки 643\n",
      "Объектов тестовой выборки 643\n"
     ]
    }
   ],
   "source": [
    "# получение валидационной и тестовой выборки\n",
    "df_valid, df_test = train_test_split(df_part, test_size=0.50, random_state=random_state)\n",
    "print('Объектов валидационной выборки', df_valid.shape[0])\n",
    "print('Объектов тестовой выборки', df_test.shape[0])"
   ]
  },
  {
   "cell_type": "markdown",
   "metadata": {},
   "source": [
    "<div style=\"border:solid blue 2px; padding: 20px\">\n",
    "    \n",
    " \n",
    "Признаки валидационной выборки сохраним в отдельных переменных \n",
    "    \n",
    "    \n",
    "- `features_valid`\n",
    "    \n",
    "    \n",
    "- `target_valid` - целевой признак\n",
    "    \n",
    "    \n",
    "</div> "
   ]
  },
  {
   "cell_type": "code",
   "execution_count": 13,
   "metadata": {},
   "outputs": [],
   "source": [
    "# сохранение признаков валидационной выбороки в отдельных переменных\n",
    "features_valid = df_valid.drop(columns=['is_ultra'])\n",
    "target_valid = df_valid['is_ultra']"
   ]
  },
  {
   "cell_type": "markdown",
   "metadata": {},
   "source": [
    "<div style=\"border:solid blue 2px; padding: 20px\">\n",
    "    \n",
    " \n",
    "Признаки тестовой выборки сохраним в отдельных переменных \n",
    "    \n",
    "    \n",
    "- `features_test`\n",
    "    \n",
    "    \n",
    "- `target_test` - целевой признак\n",
    "    \n",
    "    \n",
    "</div> "
   ]
  },
  {
   "cell_type": "code",
   "execution_count": 14,
   "metadata": {},
   "outputs": [],
   "source": [
    "# сохранение признаков тестовой выбороки в отдельных переменных\n",
    "features_test = df_test.drop(columns=['is_ultra'])\n",
    "target_test = df_test['is_ultra']"
   ]
  },
  {
   "cell_type": "markdown",
   "metadata": {},
   "source": [
    "<div style=\"border:solid blue 2px; padding: 20px\">\n",
    "\n",
    "### Вывод\n",
    "\n",
    "\n",
    "    \n",
    "    \n",
    "</div> "
   ]
  },
  {
   "cell_type": "markdown",
   "metadata": {},
   "source": [
    "<div style=\"border:solid blue 2px; padding: 20px\">\n",
    "    \n",
    " \n",
    "Получили соотношение по выборкам `df_train : df_valid : df_test` соостветственно `3 : 1 : 1`\n",
    "    \n",
    "    \n",
    "</div> "
   ]
  },
  {
   "cell_type": "markdown",
   "metadata": {},
   "source": [
    "## Исследование моделей"
   ]
  },
  {
   "cell_type": "markdown",
   "metadata": {},
   "source": [
    "<div style=\"border:solid blue 2px; padding: 20px\">\n",
    "    \n",
    " \n",
    "Исследуем качество на модели — решающее дерево.\n",
    "    \n",
    "Перебирём циклом разные варианты глубины дерева `max_depth`.\n",
    "    \n",
    "    \n",
    "</div> "
   ]
  },
  {
   "cell_type": "code",
   "execution_count": 15,
   "metadata": {},
   "outputs": [
    {
     "name": "stdout",
     "output_type": "stream",
     "text": [
      "Глубина дерева 1 Оценка 0.776049766718507\n",
      "Глубина дерева 2 Оценка 0.8009331259720062\n",
      "Глубина дерева 3 Оценка 0.8118195956454122\n",
      "Глубина дерева 4 Оценка 0.8009331259720062\n",
      "Глубина дерева 5 Оценка 0.8087091757387247\n",
      "Глубина дерева 6 Оценка 0.8180404354587869\n",
      "Глубина дерева 7 Оценка 0.8320373250388803\n",
      "Глубина дерева 8 Оценка 0.8242612752721618\n",
      "Глубина дерева 9 Оценка 0.8180404354587869\n",
      "Лучшая глубина дерева 7 Лучшая оценка 0.8320373250388803\n"
     ]
    }
   ],
   "source": [
    "tree_model = None\n",
    "best_depth = 0\n",
    "best_accuracy = 0\n",
    "for depth in range(1,10):\n",
    "    model = DecisionTreeClassifier(random_state=random_state, max_depth=depth) # инициализируем модель\n",
    "    model.fit(features_train, target_train) # обучение модели\n",
    "    predictions_valid = model.predict(features_valid) # получение предсказания модели на валидационной выборке\n",
    "    accuracy = accuracy_score(target_valid, predictions_valid) # качество модели на валидационной выборке\n",
    "    print('Глубина дерева', depth,'Оценка',accuracy)\n",
    "    if accuracy > best_accuracy:\n",
    "        tree_model = model\n",
    "        best_depth = depth\n",
    "        best_accuracy = accuracy\n",
    "\n",
    "print('Лучшая глубина дерева', best_depth,'Лучшая оценка', best_accuracy)"
   ]
  },
  {
   "cell_type": "markdown",
   "metadata": {},
   "source": [
    "<div style=\"border:solid blue 2px; padding: 20px\">\n",
    "    \n",
    " \n",
    "`accuracy` на модели решающее дерево составляет `0.8320` при глубине дерева `7`.\n",
    "    \n",
    "    \n",
    "</div> "
   ]
  },
  {
   "cell_type": "markdown",
   "metadata": {},
   "source": [
    "<div style=\"border:solid blue 2px; padding: 20px\">\n",
    "    \n",
    " \n",
    "Исследуем качество на модели — случайный лес.\n",
    "    \n",
    "Перебирём циклом разные варианты количества деревьев `n_estimators`.\n",
    "    \n",
    "    \n",
    "</div> "
   ]
  },
  {
   "cell_type": "code",
   "execution_count": 16,
   "metadata": {},
   "outputs": [
    {
     "name": "stdout",
     "output_type": "stream",
     "text": [
      "Количество деревьев 1 Оценка 0.7418351477449455\n",
      "Количество деревьев 2 Оценка 0.7636080870917574\n",
      "Количество деревьев 3 Оценка 0.7729393468118196\n",
      "Количество деревьев 4 Оценка 0.7962674961119751\n",
      "Количество деревьев 5 Оценка 0.7900466562986003\n",
      "Количество деревьев 6 Оценка 0.80248833592535\n",
      "Количество деревьев 7 Оценка 0.7900466562986003\n",
      "Количество деревьев 8 Оценка 0.8009331259720062\n",
      "Количество деревьев 9 Оценка 0.7822706065318819\n",
      "Количество деревьев 10 Оценка 0.80248833592535\n",
      "Количество деревьев 11 Оценка 0.7900466562986003\n",
      "Количество деревьев 12 Оценка 0.8055987558320373\n",
      "Количество деревьев 13 Оценка 0.7900466562986003\n",
      "Количество деревьев 14 Оценка 0.8040435458786936\n",
      "Количество деревьев 15 Оценка 0.7962674961119751\n",
      "Количество деревьев 16 Оценка 0.8055987558320373\n",
      "Количество деревьев 17 Оценка 0.8087091757387247\n",
      "Количество деревьев 18 Оценка 0.8118195956454122\n",
      "Количество деревьев 19 Оценка 0.8087091757387247\n",
      "Лучшее количество деревьев 18 Лучшая оценка 0.8118195956454122\n"
     ]
    }
   ],
   "source": [
    "forest_model = None\n",
    "best_est = 0\n",
    "best_accuracy = 0\n",
    "for est in range(1,20):\n",
    "    model = RandomForestClassifier(random_state=random_state, n_estimators=est) # инициализируем модель\n",
    "    model.fit(features_train, target_train) # обучение модели с заданным количеством деревьев\n",
    "    predictions_valid = model.predict(features_valid) # получение предсказания модели на валидационной выборке\n",
    "    accuracy = accuracy_score(target_valid, predictions_valid) # качество модели на валидационной выборке\n",
    "    print('Количество деревьев', est,'Оценка',accuracy)\n",
    "    if accuracy > best_accuracy:\n",
    "        forest_model = model\n",
    "        best_est = est\n",
    "        best_accuracy = accuracy\n",
    "\n",
    "print('Лучшее количество деревьев', best_est,'Лучшая оценка', best_accuracy)"
   ]
  },
  {
   "cell_type": "markdown",
   "metadata": {},
   "source": [
    "<div style=\"border:solid blue 2px; padding: 20px\">\n",
    "    \n",
    " \n",
    "`accuracy` на модели случайный лес составляет `0.8118` при количестве деревьев `18`.\n",
    "    \n",
    "    \n",
    "</div> "
   ]
  },
  {
   "cell_type": "markdown",
   "metadata": {},
   "source": [
    "<div style=\"border:solid blue 2px; padding: 20px\">\n",
    "    \n",
    " \n",
    "Исследуем качество на модели — логистическая регрессия.\n",
    "\n",
    "    \n",
    "    \n",
    "</div> "
   ]
  },
  {
   "cell_type": "code",
   "execution_count": 17,
   "metadata": {},
   "outputs": [
    {
     "name": "stdout",
     "output_type": "stream",
     "text": [
      "Accuracy модели логистической регрессии на валидационной выборке: 0.7216174183514774\n"
     ]
    }
   ],
   "source": [
    "logistic_model = LogisticRegression(random_state=random_state) # инициализируем модель логистической регрессии\n",
    "logistic_model.fit(features_train, target_train)  # обучение модели\n",
    "result = logistic_model.score(features_valid, target_valid)\n",
    "print(\"Accuracy модели логистической регрессии на валидационной выборке:\", result)"
   ]
  },
  {
   "cell_type": "markdown",
   "metadata": {},
   "source": [
    "<div style=\"border:solid blue 2px; padding: 20px\">\n",
    "    \n",
    " \n",
    "Изменим другой гиперпараметр `solver`\n",
    "    \n",
    "    \n",
    "</div> "
   ]
  },
  {
   "cell_type": "code",
   "execution_count": 18,
   "metadata": {
    "scrolled": true
   },
   "outputs": [
    {
     "data": {
      "text/plain": [
       "LogisticRegression(C=1.0, class_weight=None, dual=False, fit_intercept=True,\n",
       "                   intercept_scaling=1, l1_ratio=None, max_iter=100,\n",
       "                   multi_class='warn', n_jobs=None, penalty='l2',\n",
       "                   random_state=1234, solver='warn', tol=0.0001, verbose=0,\n",
       "                   warm_start=False)"
      ]
     },
     "execution_count": 18,
     "metadata": {},
     "output_type": "execute_result"
    }
   ],
   "source": [
    "# просмотр модели\n",
    "logistic_model"
   ]
  },
  {
   "cell_type": "code",
   "execution_count": 19,
   "metadata": {
    "scrolled": true
   },
   "outputs": [
    {
     "name": "stdout",
     "output_type": "stream",
     "text": [
      "Accuracy модели логистической регрессии на валидационной выборке: 0.7589424572317263\n"
     ]
    }
   ],
   "source": [
    "# замена гиперпараметра solver\n",
    "logistic_model = LogisticRegression(random_state=random_state, solver='lbfgs') # инициализируем модель логистической регрессии\n",
    "logistic_model.fit(features_train, target_train)  # обучение модели\n",
    "result = logistic_model.score(features_valid, target_valid)\n",
    "print(\"Accuracy модели логистической регрессии на валидационной выборке:\", result)"
   ]
  },
  {
   "cell_type": "markdown",
   "metadata": {},
   "source": [
    "<div style=\"border:solid blue 2px; padding: 20px\">\n",
    "    \n",
    " \n",
    "Изменим другой гиперпараметр `С`\n",
    "    \n",
    "    \n",
    "</div> "
   ]
  },
  {
   "cell_type": "code",
   "execution_count": 20,
   "metadata": {},
   "outputs": [
    {
     "name": "stdout",
     "output_type": "stream",
     "text": [
      "C= 0.1 Оценка 0.8087091757387247\n",
      "C= 0.2 Оценка 0.8087091757387247\n",
      "C= 0.3 Оценка 0.8087091757387247\n",
      "C= 0.4 Оценка 0.8087091757387247\n",
      "C= 0.5 Оценка 0.8087091757387247\n",
      "C= 0.6 Оценка 0.8087091757387247\n",
      "C= 0.7 Оценка 0.8087091757387247\n",
      "C= 0.8 Оценка 0.8087091757387247\n",
      "C= 0.9 Оценка 0.8087091757387247\n",
      "C= 1.0 Оценка 0.8087091757387247\n",
      "C= 1.1 Оценка 0.8087091757387247\n",
      "C= 1.2 Оценка 0.8087091757387247\n",
      "C= 1.3 Оценка 0.8087091757387247\n",
      "C= 1.4 Оценка 0.8087091757387247\n",
      "C= 1.5 Оценка 0.8087091757387247\n",
      "C= 1.6 Оценка 0.8087091757387247\n",
      "C= 1.7 Оценка 0.8087091757387247\n",
      "C= 1.8 Оценка 0.8087091757387247\n",
      "C= 1.9 Оценка 0.8087091757387247\n",
      "C= 2.0 Оценка 0.8087091757387247\n",
      "Лучший C 0.1 Лучшая оценка 0.8087091757387247\n"
     ]
    }
   ],
   "source": [
    "# замена гиперпараметра С\n",
    "logistic_model = None\n",
    "best_C = 0.0\n",
    "best_accuracy = 0\n",
    "\n",
    "for float_c in [x/10 for x in range(1,21)]:\n",
    "    model = LogisticRegression(random_state=random_state, C=float_c)\n",
    "    model.fit(features_train, target_train)\n",
    "    valid_predictions_valid = model.predict(features_valid)\n",
    "    accuracy = accuracy_score(target_valid, predictions_valid)\n",
    "    print('C=', float_c,'Оценка',accuracy)\n",
    "    if accuracy > best_accuracy:\n",
    "        logistic_model = model\n",
    "        best_C= float_c\n",
    "        best_accuracy = accuracy\n",
    "\n",
    "print('Лучший C', best_C,'Лучшая оценка', best_accuracy)"
   ]
  },
  {
   "cell_type": "markdown",
   "metadata": {},
   "source": [
    "<div style=\"border:solid blue 2px; padding: 20px\">\n",
    "    \n",
    " \n",
    "`accuracy` модели логистической регрессии на валидационной выборке составляет `0.8087`\n",
    "    \n",
    "    \n",
    "</div> "
   ]
  },
  {
   "cell_type": "markdown",
   "metadata": {},
   "source": [
    "<div style=\"border:solid blue 2px; padding: 20px\">\n",
    "\n",
    "### Вывод\n",
    "\n",
    "\n",
    "    \n",
    "</div> "
   ]
  },
  {
   "cell_type": "markdown",
   "metadata": {},
   "source": [
    "<div style=\"border:solid blue 2px; padding: 20px\">\n",
    "    \n",
    "Лучшее качество модели `0.8320` на валидационной выборке получено при применении алгоритма \n",
    "    \n",
    "решающее дерево с гиперпараметром `max_depth=7`\n",
    "    \n",
    "</div> "
   ]
  },
  {
   "cell_type": "markdown",
   "metadata": {},
   "source": [
    "## Проверка модели на тестовой выборке"
   ]
  },
  {
   "cell_type": "markdown",
   "metadata": {},
   "source": [
    "<div style=\"border:solid blue 2px; padding: 20px\">\n",
    "    \n",
    "Проверим качество лучшей модели на тестовой выборке\n",
    "    \n",
    "</div> "
   ]
  },
  {
   "cell_type": "code",
   "execution_count": 21,
   "metadata": {},
   "outputs": [
    {
     "name": "stdout",
     "output_type": "stream",
     "text": [
      "Оценка модели решающего леса на тестовой выборке 0.7916018662519441\n"
     ]
    }
   ],
   "source": [
    "tree_model = DecisionTreeClassifier(random_state=random_state, max_depth=7)\n",
    "tree_model.fit(features_train, target_train) # обучение модели\n",
    "predictions_test = tree_model.predict(features_test)\n",
    "accuracy_tree_model = accuracy_score(target_test, predictions_test)\n",
    "print('Оценка модели решающего леса на тестовой выборке',accuracy_tree_model)"
   ]
  },
  {
   "cell_type": "markdown",
   "metadata": {},
   "source": [
    "<div style=\"border:solid blue 2px; padding: 20px\">\n",
    "\n",
    "### Вывод\n",
    "\n",
    "\n",
    "    \n",
    "</div> "
   ]
  },
  {
   "cell_type": "markdown",
   "metadata": {},
   "source": [
    "<div style=\"border:solid blue 2px; padding: 20px\">\n",
    "    \n",
    "Можно рекомендовать модель решающего леса для построения системы анализа клиентов\n",
    "    \n",
    "</div> "
   ]
  }
 ],
 "metadata": {
  "ExecuteTimeLog": [
   {
    "duration": 1251,
    "start_time": "2022-01-23T17:53:26.879Z"
   },
   {
    "duration": 223,
    "start_time": "2022-01-23T17:56:39.098Z"
   },
   {
    "duration": 1266,
    "start_time": "2022-01-23T17:58:32.992Z"
   },
   {
    "duration": 237,
    "start_time": "2022-01-23T17:58:34.261Z"
   },
   {
    "duration": 1331,
    "start_time": "2022-01-23T17:59:24.319Z"
   },
   {
    "duration": 459,
    "start_time": "2022-01-23T17:59:25.652Z"
   },
   {
    "duration": 22,
    "start_time": "2022-01-23T18:02:58.864Z"
   },
   {
    "duration": 8,
    "start_time": "2022-01-23T18:03:30.427Z"
   },
   {
    "duration": 31,
    "start_time": "2022-01-23T18:06:47.396Z"
   },
   {
    "duration": 7,
    "start_time": "2022-01-23T19:30:06.201Z"
   },
   {
    "duration": 6,
    "start_time": "2022-01-23T19:30:11.700Z"
   },
   {
    "duration": 9,
    "start_time": "2022-01-23T19:34:27.655Z"
   },
   {
    "duration": 12,
    "start_time": "2022-01-23T19:35:01.888Z"
   },
   {
    "duration": 10,
    "start_time": "2022-01-23T19:35:14.521Z"
   },
   {
    "duration": 6,
    "start_time": "2022-01-23T19:50:20.451Z"
   },
   {
    "duration": 6,
    "start_time": "2022-01-23T19:50:56.842Z"
   },
   {
    "duration": 1261,
    "start_time": "2022-01-23T19:51:24.878Z"
   },
   {
    "duration": 209,
    "start_time": "2022-01-23T19:51:26.142Z"
   },
   {
    "duration": 21,
    "start_time": "2022-01-23T19:51:26.354Z"
   },
   {
    "duration": 17,
    "start_time": "2022-01-23T19:51:26.377Z"
   },
   {
    "duration": 40,
    "start_time": "2022-01-23T19:51:26.396Z"
   },
   {
    "duration": 8,
    "start_time": "2022-01-23T19:51:26.438Z"
   },
   {
    "duration": 8,
    "start_time": "2022-01-23T19:51:26.448Z"
   },
   {
    "duration": 21,
    "start_time": "2022-01-23T19:51:26.458Z"
   },
   {
    "duration": 18,
    "start_time": "2022-01-23T19:51:26.483Z"
   },
   {
    "duration": 19,
    "start_time": "2022-01-23T19:51:26.504Z"
   },
   {
    "duration": 5,
    "start_time": "2022-01-23T19:52:29.988Z"
   },
   {
    "duration": 1252,
    "start_time": "2022-01-23T19:52:49.274Z"
   },
   {
    "duration": 198,
    "start_time": "2022-01-23T19:52:50.529Z"
   },
   {
    "duration": 21,
    "start_time": "2022-01-23T19:52:50.730Z"
   },
   {
    "duration": 11,
    "start_time": "2022-01-23T19:52:50.754Z"
   },
   {
    "duration": 63,
    "start_time": "2022-01-23T19:52:50.767Z"
   },
   {
    "duration": 8,
    "start_time": "2022-01-23T19:52:50.832Z"
   },
   {
    "duration": 8,
    "start_time": "2022-01-23T19:52:50.842Z"
   },
   {
    "duration": 8,
    "start_time": "2022-01-23T19:52:50.852Z"
   },
   {
    "duration": 5,
    "start_time": "2022-01-23T19:52:50.863Z"
   },
   {
    "duration": 53,
    "start_time": "2022-01-23T19:52:50.871Z"
   },
   {
    "duration": 3,
    "start_time": "2022-01-23T20:24:44.316Z"
   },
   {
    "duration": 1247,
    "start_time": "2022-01-23T20:27:40.372Z"
   },
   {
    "duration": 216,
    "start_time": "2022-01-23T20:27:41.621Z"
   },
   {
    "duration": 22,
    "start_time": "2022-01-23T20:27:41.840Z"
   },
   {
    "duration": 9,
    "start_time": "2022-01-23T20:27:41.865Z"
   },
   {
    "duration": 51,
    "start_time": "2022-01-23T20:27:41.876Z"
   },
   {
    "duration": 3,
    "start_time": "2022-01-23T20:27:41.929Z"
   },
   {
    "duration": 8,
    "start_time": "2022-01-23T20:27:41.935Z"
   },
   {
    "duration": 4,
    "start_time": "2022-01-23T20:27:41.947Z"
   },
   {
    "duration": 9,
    "start_time": "2022-01-23T20:27:41.954Z"
   },
   {
    "duration": 4,
    "start_time": "2022-01-23T20:27:41.966Z"
   },
   {
    "duration": 7,
    "start_time": "2022-01-23T20:27:41.972Z"
   },
   {
    "duration": 69,
    "start_time": "2022-01-23T21:05:44.433Z"
   },
   {
    "duration": 1250,
    "start_time": "2022-01-23T21:06:50.466Z"
   },
   {
    "duration": 201,
    "start_time": "2022-01-23T21:06:51.720Z"
   },
   {
    "duration": 21,
    "start_time": "2022-01-23T21:06:51.924Z"
   },
   {
    "duration": 10,
    "start_time": "2022-01-23T21:06:51.948Z"
   },
   {
    "duration": 68,
    "start_time": "2022-01-23T21:06:51.961Z"
   },
   {
    "duration": 4,
    "start_time": "2022-01-23T21:06:52.032Z"
   },
   {
    "duration": 10,
    "start_time": "2022-01-23T21:06:52.039Z"
   },
   {
    "duration": 5,
    "start_time": "2022-01-23T21:06:52.053Z"
   },
   {
    "duration": 9,
    "start_time": "2022-01-23T21:06:52.061Z"
   },
   {
    "duration": 51,
    "start_time": "2022-01-23T21:06:52.073Z"
   },
   {
    "duration": 6,
    "start_time": "2022-01-23T21:06:52.126Z"
   },
   {
    "duration": 89,
    "start_time": "2022-01-23T21:06:52.134Z"
   },
   {
    "duration": 1276,
    "start_time": "2022-01-23T21:08:00.202Z"
   },
   {
    "duration": 218,
    "start_time": "2022-01-23T21:08:01.481Z"
   },
   {
    "duration": 21,
    "start_time": "2022-01-23T21:08:01.702Z"
   },
   {
    "duration": 9,
    "start_time": "2022-01-23T21:08:01.726Z"
   },
   {
    "duration": 34,
    "start_time": "2022-01-23T21:08:01.737Z"
   },
   {
    "duration": 4,
    "start_time": "2022-01-23T21:08:01.773Z"
   },
   {
    "duration": 45,
    "start_time": "2022-01-23T21:08:01.779Z"
   },
   {
    "duration": 5,
    "start_time": "2022-01-23T21:08:01.828Z"
   },
   {
    "duration": 8,
    "start_time": "2022-01-23T21:08:01.836Z"
   },
   {
    "duration": 6,
    "start_time": "2022-01-23T21:08:01.847Z"
   },
   {
    "duration": 9,
    "start_time": "2022-01-23T21:08:01.855Z"
   },
   {
    "duration": 110,
    "start_time": "2022-01-23T21:08:01.866Z"
   },
   {
    "duration": 1243,
    "start_time": "2022-01-23T21:08:13.821Z"
   },
   {
    "duration": 232,
    "start_time": "2022-01-23T21:08:15.067Z"
   },
   {
    "duration": 21,
    "start_time": "2022-01-23T21:08:15.301Z"
   },
   {
    "duration": 11,
    "start_time": "2022-01-23T21:08:15.325Z"
   },
   {
    "duration": 31,
    "start_time": "2022-01-23T21:08:15.339Z"
   },
   {
    "duration": 3,
    "start_time": "2022-01-23T21:08:15.373Z"
   },
   {
    "duration": 8,
    "start_time": "2022-01-23T21:08:15.378Z"
   },
   {
    "duration": 37,
    "start_time": "2022-01-23T21:08:15.389Z"
   },
   {
    "duration": 8,
    "start_time": "2022-01-23T21:08:15.429Z"
   },
   {
    "duration": 5,
    "start_time": "2022-01-23T21:08:15.440Z"
   },
   {
    "duration": 5,
    "start_time": "2022-01-23T21:08:15.447Z"
   },
   {
    "duration": 117,
    "start_time": "2022-01-23T21:08:15.454Z"
   },
   {
    "duration": 1284,
    "start_time": "2022-01-23T21:08:39.721Z"
   },
   {
    "duration": 185,
    "start_time": "2022-01-23T21:08:41.008Z"
   },
   {
    "duration": 20,
    "start_time": "2022-01-23T21:08:41.196Z"
   },
   {
    "duration": 10,
    "start_time": "2022-01-23T21:08:41.218Z"
   },
   {
    "duration": 31,
    "start_time": "2022-01-23T21:08:41.230Z"
   },
   {
    "duration": 3,
    "start_time": "2022-01-23T21:08:41.264Z"
   },
   {
    "duration": 8,
    "start_time": "2022-01-23T21:08:41.269Z"
   },
   {
    "duration": 8,
    "start_time": "2022-01-23T21:08:41.280Z"
   },
   {
    "duration": 7,
    "start_time": "2022-01-23T21:08:41.323Z"
   },
   {
    "duration": 4,
    "start_time": "2022-01-23T21:08:41.333Z"
   },
   {
    "duration": 5,
    "start_time": "2022-01-23T21:08:41.340Z"
   },
   {
    "duration": 105,
    "start_time": "2022-01-23T21:08:41.347Z"
   },
   {
    "duration": 1221,
    "start_time": "2022-01-23T21:08:55.804Z"
   },
   {
    "duration": 198,
    "start_time": "2022-01-23T21:08:57.028Z"
   },
   {
    "duration": 19,
    "start_time": "2022-01-23T21:08:57.229Z"
   },
   {
    "duration": 11,
    "start_time": "2022-01-23T21:08:57.251Z"
   },
   {
    "duration": 59,
    "start_time": "2022-01-23T21:08:57.264Z"
   },
   {
    "duration": 3,
    "start_time": "2022-01-23T21:08:57.325Z"
   },
   {
    "duration": 9,
    "start_time": "2022-01-23T21:08:57.331Z"
   },
   {
    "duration": 5,
    "start_time": "2022-01-23T21:08:57.343Z"
   },
   {
    "duration": 9,
    "start_time": "2022-01-23T21:08:57.350Z"
   },
   {
    "duration": 5,
    "start_time": "2022-01-23T21:08:57.361Z"
   },
   {
    "duration": 9,
    "start_time": "2022-01-23T21:08:57.368Z"
   },
   {
    "duration": 106,
    "start_time": "2022-01-23T21:08:57.379Z"
   },
   {
    "duration": 1310,
    "start_time": "2022-01-23T21:09:08.913Z"
   },
   {
    "duration": 204,
    "start_time": "2022-01-23T21:09:10.226Z"
   },
   {
    "duration": 21,
    "start_time": "2022-01-23T21:09:10.432Z"
   },
   {
    "duration": 15,
    "start_time": "2022-01-23T21:09:10.455Z"
   },
   {
    "duration": 51,
    "start_time": "2022-01-23T21:09:10.472Z"
   },
   {
    "duration": 3,
    "start_time": "2022-01-23T21:09:10.525Z"
   },
   {
    "duration": 8,
    "start_time": "2022-01-23T21:09:10.531Z"
   },
   {
    "duration": 6,
    "start_time": "2022-01-23T21:09:10.541Z"
   },
   {
    "duration": 9,
    "start_time": "2022-01-23T21:09:10.550Z"
   },
   {
    "duration": 4,
    "start_time": "2022-01-23T21:09:10.562Z"
   },
   {
    "duration": 6,
    "start_time": "2022-01-23T21:09:10.568Z"
   },
   {
    "duration": 69,
    "start_time": "2022-01-23T21:09:10.624Z"
   },
   {
    "duration": 1312,
    "start_time": "2022-01-23T21:09:31.130Z"
   },
   {
    "duration": 196,
    "start_time": "2022-01-23T21:09:32.446Z"
   },
   {
    "duration": 21,
    "start_time": "2022-01-23T21:09:32.646Z"
   },
   {
    "duration": 9,
    "start_time": "2022-01-23T21:09:32.669Z"
   },
   {
    "duration": 45,
    "start_time": "2022-01-23T21:09:32.680Z"
   },
   {
    "duration": 3,
    "start_time": "2022-01-23T21:09:32.728Z"
   },
   {
    "duration": 17,
    "start_time": "2022-01-23T21:09:32.733Z"
   },
   {
    "duration": 7,
    "start_time": "2022-01-23T21:09:32.753Z"
   },
   {
    "duration": 10,
    "start_time": "2022-01-23T21:09:32.764Z"
   },
   {
    "duration": 6,
    "start_time": "2022-01-23T21:09:32.776Z"
   },
   {
    "duration": 39,
    "start_time": "2022-01-23T21:09:32.784Z"
   },
   {
    "duration": 75,
    "start_time": "2022-01-23T21:09:32.826Z"
   },
   {
    "duration": 1345,
    "start_time": "2022-01-23T21:09:50.490Z"
   },
   {
    "duration": 228,
    "start_time": "2022-01-23T21:09:51.838Z"
   },
   {
    "duration": 22,
    "start_time": "2022-01-23T21:09:52.070Z"
   },
   {
    "duration": 16,
    "start_time": "2022-01-23T21:09:52.094Z"
   },
   {
    "duration": 102,
    "start_time": "2022-01-23T21:09:52.113Z"
   },
   {
    "duration": 3,
    "start_time": "2022-01-23T21:09:52.217Z"
   },
   {
    "duration": 13,
    "start_time": "2022-01-23T21:09:52.223Z"
   },
   {
    "duration": 6,
    "start_time": "2022-01-23T21:09:52.238Z"
   },
   {
    "duration": 8,
    "start_time": "2022-01-23T21:09:52.247Z"
   },
   {
    "duration": 6,
    "start_time": "2022-01-23T21:09:52.257Z"
   },
   {
    "duration": 12,
    "start_time": "2022-01-23T21:09:52.265Z"
   },
   {
    "duration": 107,
    "start_time": "2022-01-23T21:09:52.279Z"
   },
   {
    "duration": 1222,
    "start_time": "2022-01-23T21:10:13.113Z"
   },
   {
    "duration": 217,
    "start_time": "2022-01-23T21:10:14.338Z"
   },
   {
    "duration": 21,
    "start_time": "2022-01-23T21:10:14.557Z"
   },
   {
    "duration": 9,
    "start_time": "2022-01-23T21:10:14.581Z"
   },
   {
    "duration": 32,
    "start_time": "2022-01-23T21:10:14.593Z"
   },
   {
    "duration": 4,
    "start_time": "2022-01-23T21:10:14.628Z"
   },
   {
    "duration": 9,
    "start_time": "2022-01-23T21:10:14.635Z"
   },
   {
    "duration": 5,
    "start_time": "2022-01-23T21:10:14.649Z"
   },
   {
    "duration": 10,
    "start_time": "2022-01-23T21:10:14.657Z"
   },
   {
    "duration": 54,
    "start_time": "2022-01-23T21:10:14.670Z"
   },
   {
    "duration": 6,
    "start_time": "2022-01-23T21:10:14.727Z"
   },
   {
    "duration": 103,
    "start_time": "2022-01-23T21:10:14.736Z"
   },
   {
    "duration": 1266,
    "start_time": "2022-01-23T21:10:36.452Z"
   },
   {
    "duration": 197,
    "start_time": "2022-01-23T21:10:37.720Z"
   },
   {
    "duration": 21,
    "start_time": "2022-01-23T21:10:37.919Z"
   },
   {
    "duration": 16,
    "start_time": "2022-01-23T21:10:37.942Z"
   },
   {
    "duration": 48,
    "start_time": "2022-01-23T21:10:37.960Z"
   },
   {
    "duration": 3,
    "start_time": "2022-01-23T21:10:38.010Z"
   },
   {
    "duration": 23,
    "start_time": "2022-01-23T21:10:38.015Z"
   },
   {
    "duration": 26,
    "start_time": "2022-01-23T21:10:38.041Z"
   },
   {
    "duration": 15,
    "start_time": "2022-01-23T21:10:38.069Z"
   },
   {
    "duration": 14,
    "start_time": "2022-01-23T21:10:38.086Z"
   },
   {
    "duration": 11,
    "start_time": "2022-01-23T21:10:38.102Z"
   },
   {
    "duration": 80,
    "start_time": "2022-01-23T21:10:38.115Z"
   },
   {
    "duration": 1169,
    "start_time": "2022-01-23T21:10:48.950Z"
   },
   {
    "duration": 198,
    "start_time": "2022-01-23T21:10:50.124Z"
   },
   {
    "duration": 21,
    "start_time": "2022-01-23T21:10:50.325Z"
   },
   {
    "duration": 8,
    "start_time": "2022-01-23T21:10:50.350Z"
   },
   {
    "duration": 32,
    "start_time": "2022-01-23T21:10:50.361Z"
   },
   {
    "duration": 3,
    "start_time": "2022-01-23T21:10:50.423Z"
   },
   {
    "duration": 12,
    "start_time": "2022-01-23T21:10:50.428Z"
   },
   {
    "duration": 5,
    "start_time": "2022-01-23T21:10:50.442Z"
   },
   {
    "duration": 8,
    "start_time": "2022-01-23T21:10:50.450Z"
   },
   {
    "duration": 6,
    "start_time": "2022-01-23T21:10:50.461Z"
   },
   {
    "duration": 11,
    "start_time": "2022-01-23T21:10:50.470Z"
   },
   {
    "duration": 104,
    "start_time": "2022-01-23T21:10:50.483Z"
   },
   {
    "duration": 3,
    "start_time": "2022-01-23T21:11:01.629Z"
   },
   {
    "duration": 1335,
    "start_time": "2022-01-23T21:11:07.191Z"
   },
   {
    "duration": 207,
    "start_time": "2022-01-23T21:11:08.529Z"
   },
   {
    "duration": 22,
    "start_time": "2022-01-23T21:11:08.738Z"
   },
   {
    "duration": 9,
    "start_time": "2022-01-23T21:11:08.762Z"
   },
   {
    "duration": 53,
    "start_time": "2022-01-23T21:11:08.774Z"
   },
   {
    "duration": 3,
    "start_time": "2022-01-23T21:11:08.830Z"
   },
   {
    "duration": 12,
    "start_time": "2022-01-23T21:11:08.836Z"
   },
   {
    "duration": 5,
    "start_time": "2022-01-23T21:11:08.851Z"
   },
   {
    "duration": 8,
    "start_time": "2022-01-23T21:11:08.859Z"
   },
   {
    "duration": 4,
    "start_time": "2022-01-23T21:11:08.870Z"
   },
   {
    "duration": 5,
    "start_time": "2022-01-23T21:11:08.877Z"
   },
   {
    "duration": 76,
    "start_time": "2022-01-23T21:11:08.924Z"
   },
   {
    "duration": 1380,
    "start_time": "2022-01-23T21:11:21.644Z"
   },
   {
    "duration": 200,
    "start_time": "2022-01-23T21:11:23.027Z"
   },
   {
    "duration": 29,
    "start_time": "2022-01-23T21:11:23.231Z"
   },
   {
    "duration": 10,
    "start_time": "2022-01-23T21:11:23.263Z"
   },
   {
    "duration": 53,
    "start_time": "2022-01-23T21:11:23.275Z"
   },
   {
    "duration": 3,
    "start_time": "2022-01-23T21:11:23.331Z"
   },
   {
    "duration": 10,
    "start_time": "2022-01-23T21:11:23.336Z"
   },
   {
    "duration": 8,
    "start_time": "2022-01-23T21:11:23.349Z"
   },
   {
    "duration": 8,
    "start_time": "2022-01-23T21:11:23.361Z"
   },
   {
    "duration": 5,
    "start_time": "2022-01-23T21:11:23.371Z"
   },
   {
    "duration": 6,
    "start_time": "2022-01-23T21:11:23.378Z"
   },
   {
    "duration": 70,
    "start_time": "2022-01-23T21:11:23.423Z"
   },
   {
    "duration": 65,
    "start_time": "2022-01-23T21:13:15.345Z"
   },
   {
    "duration": 72,
    "start_time": "2022-01-23T21:13:23.212Z"
   },
   {
    "duration": 277,
    "start_time": "2022-01-23T21:34:20.651Z"
   },
   {
    "duration": 983,
    "start_time": "2022-01-23T21:34:46.433Z"
   },
   {
    "duration": 1341,
    "start_time": "2022-01-23T22:04:42.292Z"
   },
   {
    "duration": 188,
    "start_time": "2022-01-23T22:04:43.636Z"
   },
   {
    "duration": 22,
    "start_time": "2022-01-23T22:04:43.828Z"
   },
   {
    "duration": 8,
    "start_time": "2022-01-23T22:04:43.853Z"
   },
   {
    "duration": 60,
    "start_time": "2022-01-23T22:04:43.864Z"
   },
   {
    "duration": 4,
    "start_time": "2022-01-23T22:04:43.927Z"
   },
   {
    "duration": 10,
    "start_time": "2022-01-23T22:04:43.934Z"
   },
   {
    "duration": 5,
    "start_time": "2022-01-23T22:04:43.947Z"
   },
   {
    "duration": 8,
    "start_time": "2022-01-23T22:04:43.954Z"
   },
   {
    "duration": 4,
    "start_time": "2022-01-23T22:04:43.965Z"
   },
   {
    "duration": 53,
    "start_time": "2022-01-23T22:04:43.971Z"
   },
   {
    "duration": 74,
    "start_time": "2022-01-23T22:04:44.027Z"
   },
   {
    "duration": 1058,
    "start_time": "2022-01-23T22:04:44.124Z"
   },
   {
    "duration": 8,
    "start_time": "2022-01-23T22:05:03.948Z"
   },
   {
    "duration": 6,
    "start_time": "2022-01-23T22:10:54.348Z"
   },
   {
    "duration": 388,
    "start_time": "2022-01-23T22:30:00.509Z"
   },
   {
    "duration": 265,
    "start_time": "2022-01-23T22:30:24.990Z"
   },
   {
    "duration": 2893,
    "start_time": "2022-01-23T22:30:34.109Z"
   },
   {
    "duration": 102,
    "start_time": "2022-01-23T22:33:17.668Z"
   },
   {
    "duration": 92,
    "start_time": "2022-01-23T22:33:24.540Z"
   },
   {
    "duration": 91,
    "start_time": "2022-01-23T22:33:29.137Z"
   },
   {
    "duration": 98,
    "start_time": "2022-01-23T22:33:37.309Z"
   },
   {
    "duration": 110,
    "start_time": "2022-01-23T22:33:45.168Z"
   },
   {
    "duration": 112,
    "start_time": "2022-01-23T22:33:51.299Z"
   },
   {
    "duration": 1318,
    "start_time": "2022-01-23T22:34:23.396Z"
   },
   {
    "duration": 210,
    "start_time": "2022-01-23T22:34:24.717Z"
   },
   {
    "duration": 21,
    "start_time": "2022-01-23T22:34:24.931Z"
   },
   {
    "duration": 9,
    "start_time": "2022-01-23T22:34:24.955Z"
   },
   {
    "duration": 31,
    "start_time": "2022-01-23T22:34:24.966Z"
   },
   {
    "duration": 25,
    "start_time": "2022-01-23T22:34:24.999Z"
   },
   {
    "duration": 11,
    "start_time": "2022-01-23T22:34:25.027Z"
   },
   {
    "duration": 5,
    "start_time": "2022-01-23T22:34:25.042Z"
   },
   {
    "duration": 9,
    "start_time": "2022-01-23T22:34:25.049Z"
   },
   {
    "duration": 4,
    "start_time": "2022-01-23T22:34:25.061Z"
   },
   {
    "duration": 8,
    "start_time": "2022-01-23T22:34:25.068Z"
   },
   {
    "duration": 70,
    "start_time": "2022-01-23T22:34:25.124Z"
   },
   {
    "duration": 1068,
    "start_time": "2022-01-23T22:34:25.196Z"
   },
   {
    "duration": 3,
    "start_time": "2022-01-23T22:34:26.267Z"
   },
   {
    "duration": 512,
    "start_time": "2022-01-23T22:36:23.312Z"
   },
   {
    "duration": 2093,
    "start_time": "2022-01-23T22:36:28.944Z"
   },
   {
    "duration": 199,
    "start_time": "2022-01-23T22:36:31.040Z"
   },
   {
    "duration": 20,
    "start_time": "2022-01-23T22:36:31.242Z"
   },
   {
    "duration": 19,
    "start_time": "2022-01-23T22:36:31.265Z"
   },
   {
    "duration": 38,
    "start_time": "2022-01-23T22:36:31.286Z"
   },
   {
    "duration": 3,
    "start_time": "2022-01-23T22:36:31.326Z"
   },
   {
    "duration": 10,
    "start_time": "2022-01-23T22:36:31.332Z"
   },
   {
    "duration": 11,
    "start_time": "2022-01-23T22:36:31.344Z"
   },
   {
    "duration": 9,
    "start_time": "2022-01-23T22:36:31.360Z"
   },
   {
    "duration": 13,
    "start_time": "2022-01-23T22:36:31.372Z"
   },
   {
    "duration": 42,
    "start_time": "2022-01-23T22:36:31.387Z"
   },
   {
    "duration": 93,
    "start_time": "2022-01-23T22:36:31.432Z"
   },
   {
    "duration": 1075,
    "start_time": "2022-01-23T22:36:31.527Z"
   },
   {
    "duration": 3,
    "start_time": "2022-01-23T22:36:32.605Z"
   },
   {
    "duration": 422,
    "start_time": "2022-01-23T22:36:32.610Z"
   },
   {
    "duration": 1789,
    "start_time": "2022-01-23T22:41:08.046Z"
   },
   {
    "duration": 205,
    "start_time": "2022-01-23T22:41:09.838Z"
   },
   {
    "duration": 35,
    "start_time": "2022-01-23T22:41:10.047Z"
   },
   {
    "duration": 13,
    "start_time": "2022-01-23T22:41:10.085Z"
   },
   {
    "duration": 51,
    "start_time": "2022-01-23T22:41:10.101Z"
   },
   {
    "duration": 4,
    "start_time": "2022-01-23T22:41:10.155Z"
   },
   {
    "duration": 10,
    "start_time": "2022-01-23T22:41:10.162Z"
   },
   {
    "duration": 4,
    "start_time": "2022-01-23T22:41:10.176Z"
   },
   {
    "duration": 46,
    "start_time": "2022-01-23T22:41:10.183Z"
   },
   {
    "duration": 6,
    "start_time": "2022-01-23T22:41:10.232Z"
   },
   {
    "duration": 6,
    "start_time": "2022-01-23T22:41:10.240Z"
   },
   {
    "duration": 101,
    "start_time": "2022-01-23T22:41:10.249Z"
   },
   {
    "duration": 1087,
    "start_time": "2022-01-23T22:41:10.352Z"
   },
   {
    "duration": 3,
    "start_time": "2022-01-23T22:41:11.441Z"
   },
   {
    "duration": 23,
    "start_time": "2022-01-23T22:41:11.446Z"
   },
   {
    "duration": 497,
    "start_time": "2022-01-23T23:07:21.591Z"
   },
   {
    "duration": 1304,
    "start_time": "2022-01-23T23:07:36.613Z"
   },
   {
    "duration": 201,
    "start_time": "2022-01-23T23:07:37.920Z"
   },
   {
    "duration": 21,
    "start_time": "2022-01-23T23:07:38.123Z"
   },
   {
    "duration": 11,
    "start_time": "2022-01-23T23:07:38.147Z"
   },
   {
    "duration": 62,
    "start_time": "2022-01-23T23:07:38.161Z"
   },
   {
    "duration": 4,
    "start_time": "2022-01-23T23:07:38.225Z"
   },
   {
    "duration": 13,
    "start_time": "2022-01-23T23:07:38.231Z"
   },
   {
    "duration": 9,
    "start_time": "2022-01-23T23:07:38.247Z"
   },
   {
    "duration": 9,
    "start_time": "2022-01-23T23:07:38.258Z"
   },
   {
    "duration": 5,
    "start_time": "2022-01-23T23:07:38.269Z"
   },
   {
    "duration": 47,
    "start_time": "2022-01-23T23:07:38.276Z"
   },
   {
    "duration": 71,
    "start_time": "2022-01-23T23:07:38.325Z"
   },
   {
    "duration": 1035,
    "start_time": "2022-01-23T23:07:38.398Z"
   },
   {
    "duration": 20,
    "start_time": "2022-01-23T23:07:39.435Z"
   },
   {
    "duration": 13,
    "start_time": "2022-01-23T23:07:39.457Z"
   },
   {
    "duration": 1200,
    "start_time": "2022-01-23T23:37:24.431Z"
   },
   {
    "duration": 196,
    "start_time": "2022-01-23T23:37:25.634Z"
   },
   {
    "duration": 22,
    "start_time": "2022-01-23T23:37:25.833Z"
   },
   {
    "duration": 11,
    "start_time": "2022-01-23T23:37:25.857Z"
   },
   {
    "duration": 55,
    "start_time": "2022-01-23T23:37:25.870Z"
   },
   {
    "duration": 3,
    "start_time": "2022-01-23T23:37:25.927Z"
   },
   {
    "duration": 9,
    "start_time": "2022-01-23T23:37:25.933Z"
   },
   {
    "duration": 4,
    "start_time": "2022-01-23T23:37:25.946Z"
   },
   {
    "duration": 12,
    "start_time": "2022-01-23T23:37:25.953Z"
   },
   {
    "duration": 7,
    "start_time": "2022-01-23T23:37:25.967Z"
   },
   {
    "duration": 47,
    "start_time": "2022-01-23T23:37:25.976Z"
   },
   {
    "duration": 71,
    "start_time": "2022-01-23T23:37:26.026Z"
   },
   {
    "duration": 1057,
    "start_time": "2022-01-23T23:37:26.099Z"
   },
   {
    "duration": 15,
    "start_time": "2022-01-23T23:37:27.158Z"
   },
   {
    "duration": 14,
    "start_time": "2022-01-23T23:37:27.175Z"
   },
   {
    "duration": 8,
    "start_time": "2022-01-23T23:40:09.232Z"
   },
   {
    "duration": 37,
    "start_time": "2022-01-23T23:45:37.072Z"
   },
   {
    "duration": 404,
    "start_time": "2022-01-23T23:50:01.072Z"
   },
   {
    "duration": 281,
    "start_time": "2022-01-23T23:50:47.131Z"
   },
   {
    "duration": 38,
    "start_time": "2022-01-23T23:51:17.084Z"
   },
   {
    "duration": 39,
    "start_time": "2022-01-23T23:51:21.473Z"
   },
   {
    "duration": 1249,
    "start_time": "2022-01-23T23:56:13.605Z"
   },
   {
    "duration": 203,
    "start_time": "2022-01-23T23:56:14.857Z"
   },
   {
    "duration": 21,
    "start_time": "2022-01-23T23:56:15.062Z"
   },
   {
    "duration": 10,
    "start_time": "2022-01-23T23:56:15.085Z"
   },
   {
    "duration": 32,
    "start_time": "2022-01-23T23:56:15.097Z"
   },
   {
    "duration": 3,
    "start_time": "2022-01-23T23:56:15.131Z"
   },
   {
    "duration": 8,
    "start_time": "2022-01-23T23:56:15.137Z"
   },
   {
    "duration": 5,
    "start_time": "2022-01-23T23:56:15.147Z"
   },
   {
    "duration": 8,
    "start_time": "2022-01-23T23:56:15.154Z"
   },
   {
    "duration": 4,
    "start_time": "2022-01-23T23:56:15.164Z"
   },
   {
    "duration": 55,
    "start_time": "2022-01-23T23:56:15.170Z"
   },
   {
    "duration": 70,
    "start_time": "2022-01-23T23:56:15.227Z"
   },
   {
    "duration": 1066,
    "start_time": "2022-01-23T23:56:15.300Z"
   },
   {
    "duration": 15,
    "start_time": "2022-01-23T23:56:16.368Z"
   },
   {
    "duration": 6,
    "start_time": "2022-01-23T23:56:16.385Z"
   },
   {
    "duration": 61,
    "start_time": "2022-01-23T23:56:16.393Z"
   },
   {
    "duration": 228,
    "start_time": "2022-01-23T23:56:16.457Z"
   },
   {
    "duration": 37,
    "start_time": "2022-01-23T23:56:16.688Z"
   },
   {
    "duration": 1193,
    "start_time": "2022-01-23T23:59:32.930Z"
   },
   {
    "duration": 177,
    "start_time": "2022-01-23T23:59:34.126Z"
   },
   {
    "duration": 19,
    "start_time": "2022-01-23T23:59:34.306Z"
   },
   {
    "duration": 11,
    "start_time": "2022-01-23T23:59:34.328Z"
   },
   {
    "duration": 31,
    "start_time": "2022-01-23T23:59:34.341Z"
   },
   {
    "duration": 3,
    "start_time": "2022-01-23T23:59:34.374Z"
   },
   {
    "duration": 44,
    "start_time": "2022-01-23T23:59:34.379Z"
   },
   {
    "duration": 5,
    "start_time": "2022-01-23T23:59:34.425Z"
   },
   {
    "duration": 8,
    "start_time": "2022-01-23T23:59:34.433Z"
   },
   {
    "duration": 5,
    "start_time": "2022-01-23T23:59:34.444Z"
   },
   {
    "duration": 12,
    "start_time": "2022-01-23T23:59:34.451Z"
   },
   {
    "duration": 96,
    "start_time": "2022-01-23T23:59:34.465Z"
   },
   {
    "duration": 1027,
    "start_time": "2022-01-23T23:59:34.563Z"
   },
   {
    "duration": 30,
    "start_time": "2022-01-23T23:59:35.593Z"
   },
   {
    "duration": 5,
    "start_time": "2022-01-23T23:59:35.626Z"
   },
   {
    "duration": 32,
    "start_time": "2022-01-23T23:59:35.633Z"
   },
   {
    "duration": 3,
    "start_time": "2022-01-23T23:59:35.667Z"
   },
   {
    "duration": 15,
    "start_time": "2022-01-23T23:59:35.673Z"
   },
   {
    "duration": 14,
    "start_time": "2022-01-23T23:59:35.724Z"
   },
   {
    "duration": 16,
    "start_time": "2022-01-24T00:00:06.433Z"
   },
   {
    "duration": 1255,
    "start_time": "2022-01-24T00:01:03.393Z"
   },
   {
    "duration": 197,
    "start_time": "2022-01-24T00:01:04.651Z"
   },
   {
    "duration": 20,
    "start_time": "2022-01-24T00:01:04.851Z"
   },
   {
    "duration": 9,
    "start_time": "2022-01-24T00:01:04.874Z"
   },
   {
    "duration": 40,
    "start_time": "2022-01-24T00:01:04.885Z"
   },
   {
    "duration": 3,
    "start_time": "2022-01-24T00:01:04.928Z"
   },
   {
    "duration": 9,
    "start_time": "2022-01-24T00:01:04.933Z"
   },
   {
    "duration": 5,
    "start_time": "2022-01-24T00:01:04.944Z"
   },
   {
    "duration": 9,
    "start_time": "2022-01-24T00:01:04.952Z"
   },
   {
    "duration": 5,
    "start_time": "2022-01-24T00:01:04.963Z"
   },
   {
    "duration": 53,
    "start_time": "2022-01-24T00:01:04.970Z"
   },
   {
    "duration": 72,
    "start_time": "2022-01-24T00:01:05.026Z"
   },
   {
    "duration": 1057,
    "start_time": "2022-01-24T00:01:05.100Z"
   },
   {
    "duration": 16,
    "start_time": "2022-01-24T00:01:06.159Z"
   },
   {
    "duration": 6,
    "start_time": "2022-01-24T00:01:06.177Z"
   },
   {
    "duration": 60,
    "start_time": "2022-01-24T00:01:06.186Z"
   },
   {
    "duration": 3,
    "start_time": "2022-01-24T00:01:06.248Z"
   },
   {
    "duration": 18,
    "start_time": "2022-01-24T00:01:06.253Z"
   },
   {
    "duration": 13,
    "start_time": "2022-01-24T00:01:06.273Z"
   },
   {
    "duration": 1296,
    "start_time": "2022-01-24T00:02:02.327Z"
   },
   {
    "duration": 256,
    "start_time": "2022-01-24T00:02:03.626Z"
   },
   {
    "duration": 21,
    "start_time": "2022-01-24T00:02:03.885Z"
   },
   {
    "duration": 15,
    "start_time": "2022-01-24T00:02:03.908Z"
   },
   {
    "duration": 34,
    "start_time": "2022-01-24T00:02:03.925Z"
   },
   {
    "duration": 3,
    "start_time": "2022-01-24T00:02:03.961Z"
   },
   {
    "duration": 16,
    "start_time": "2022-01-24T00:02:03.966Z"
   },
   {
    "duration": 8,
    "start_time": "2022-01-24T00:02:03.985Z"
   },
   {
    "duration": 9,
    "start_time": "2022-01-24T00:02:03.995Z"
   },
   {
    "duration": 5,
    "start_time": "2022-01-24T00:02:04.006Z"
   },
   {
    "duration": 12,
    "start_time": "2022-01-24T00:02:04.013Z"
   },
   {
    "duration": 73,
    "start_time": "2022-01-24T00:02:04.027Z"
   },
   {
    "duration": 1166,
    "start_time": "2022-01-24T00:02:04.102Z"
   },
   {
    "duration": 15,
    "start_time": "2022-01-24T00:02:05.270Z"
   },
   {
    "duration": 6,
    "start_time": "2022-01-24T00:02:05.288Z"
   },
   {
    "duration": 36,
    "start_time": "2022-01-24T00:02:05.324Z"
   },
   {
    "duration": 3,
    "start_time": "2022-01-24T00:02:05.363Z"
   },
   {
    "duration": 30,
    "start_time": "2022-01-24T00:02:05.368Z"
   },
   {
    "duration": 31,
    "start_time": "2022-01-24T00:02:05.401Z"
   },
   {
    "duration": 1192,
    "start_time": "2022-01-24T00:04:01.859Z"
   },
   {
    "duration": 189,
    "start_time": "2022-01-24T00:04:03.053Z"
   },
   {
    "duration": 20,
    "start_time": "2022-01-24T00:04:03.244Z"
   },
   {
    "duration": 9,
    "start_time": "2022-01-24T00:04:03.266Z"
   },
   {
    "duration": 30,
    "start_time": "2022-01-24T00:04:03.277Z"
   },
   {
    "duration": 3,
    "start_time": "2022-01-24T00:04:03.309Z"
   },
   {
    "duration": 7,
    "start_time": "2022-01-24T00:04:03.314Z"
   },
   {
    "duration": 5,
    "start_time": "2022-01-24T00:04:03.325Z"
   },
   {
    "duration": 7,
    "start_time": "2022-01-24T00:04:03.332Z"
   },
   {
    "duration": 4,
    "start_time": "2022-01-24T00:04:03.342Z"
   },
   {
    "duration": 6,
    "start_time": "2022-01-24T00:04:03.348Z"
   },
   {
    "duration": 80,
    "start_time": "2022-01-24T00:04:03.356Z"
   },
   {
    "duration": 1197,
    "start_time": "2022-01-24T00:04:03.438Z"
   },
   {
    "duration": 15,
    "start_time": "2022-01-24T00:04:04.637Z"
   },
   {
    "duration": 6,
    "start_time": "2022-01-24T00:04:04.654Z"
   },
   {
    "duration": 66,
    "start_time": "2022-01-24T00:04:04.662Z"
   },
   {
    "duration": 3,
    "start_time": "2022-01-24T00:04:04.730Z"
   },
   {
    "duration": 18,
    "start_time": "2022-01-24T00:04:04.735Z"
   },
   {
    "duration": 14,
    "start_time": "2022-01-24T00:04:04.755Z"
   },
   {
    "duration": 1189,
    "start_time": "2022-01-24T00:06:55.853Z"
   },
   {
    "duration": 208,
    "start_time": "2022-01-24T00:06:57.045Z"
   },
   {
    "duration": 22,
    "start_time": "2022-01-24T00:06:57.257Z"
   },
   {
    "duration": 11,
    "start_time": "2022-01-24T00:06:57.282Z"
   },
   {
    "duration": 40,
    "start_time": "2022-01-24T00:06:57.296Z"
   },
   {
    "duration": 4,
    "start_time": "2022-01-24T00:06:57.338Z"
   },
   {
    "duration": 8,
    "start_time": "2022-01-24T00:06:57.344Z"
   },
   {
    "duration": 10,
    "start_time": "2022-01-24T00:06:57.354Z"
   },
   {
    "duration": 8,
    "start_time": "2022-01-24T00:06:57.368Z"
   },
   {
    "duration": 5,
    "start_time": "2022-01-24T00:06:57.378Z"
   },
   {
    "duration": 4,
    "start_time": "2022-01-24T00:06:57.424Z"
   },
   {
    "duration": 69,
    "start_time": "2022-01-24T00:06:57.431Z"
   },
   {
    "duration": 1040,
    "start_time": "2022-01-24T00:06:57.524Z"
   },
   {
    "duration": 15,
    "start_time": "2022-01-24T00:06:58.566Z"
   },
   {
    "duration": 6,
    "start_time": "2022-01-24T00:06:58.583Z"
   },
   {
    "duration": 55,
    "start_time": "2022-01-24T00:06:58.591Z"
   },
   {
    "duration": 209,
    "start_time": "2022-01-24T00:06:58.648Z"
   },
   {
    "duration": 14,
    "start_time": "2022-01-24T00:06:58.859Z"
   },
   {
    "duration": 1185,
    "start_time": "2022-01-24T00:10:45.743Z"
   },
   {
    "duration": 199,
    "start_time": "2022-01-24T00:10:46.930Z"
   },
   {
    "duration": 22,
    "start_time": "2022-01-24T00:10:47.133Z"
   },
   {
    "duration": 8,
    "start_time": "2022-01-24T00:10:47.159Z"
   },
   {
    "duration": 68,
    "start_time": "2022-01-24T00:10:47.170Z"
   },
   {
    "duration": 4,
    "start_time": "2022-01-24T00:10:47.241Z"
   },
   {
    "duration": 10,
    "start_time": "2022-01-24T00:10:47.248Z"
   },
   {
    "duration": 6,
    "start_time": "2022-01-24T00:10:47.261Z"
   },
   {
    "duration": 8,
    "start_time": "2022-01-24T00:10:47.273Z"
   },
   {
    "duration": 6,
    "start_time": "2022-01-24T00:10:47.324Z"
   },
   {
    "duration": 8,
    "start_time": "2022-01-24T00:10:47.333Z"
   },
   {
    "duration": 108,
    "start_time": "2022-01-24T00:10:47.343Z"
   },
   {
    "duration": 1023,
    "start_time": "2022-01-24T00:10:47.453Z"
   },
   {
    "duration": 15,
    "start_time": "2022-01-24T00:10:48.479Z"
   },
   {
    "duration": 6,
    "start_time": "2022-01-24T00:10:48.496Z"
   },
   {
    "duration": 48,
    "start_time": "2022-01-24T00:10:48.504Z"
   },
   {
    "duration": 221,
    "start_time": "2022-01-24T00:10:48.555Z"
   },
   {
    "duration": 14,
    "start_time": "2022-01-24T00:10:48.778Z"
   },
   {
    "duration": 1232,
    "start_time": "2022-01-24T00:11:24.555Z"
   },
   {
    "duration": 202,
    "start_time": "2022-01-24T00:11:25.791Z"
   },
   {
    "duration": 25,
    "start_time": "2022-01-24T00:11:25.996Z"
   },
   {
    "duration": 11,
    "start_time": "2022-01-24T00:11:26.024Z"
   },
   {
    "duration": 34,
    "start_time": "2022-01-24T00:11:26.038Z"
   },
   {
    "duration": 4,
    "start_time": "2022-01-24T00:11:26.075Z"
   },
   {
    "duration": 44,
    "start_time": "2022-01-24T00:11:26.085Z"
   },
   {
    "duration": 5,
    "start_time": "2022-01-24T00:11:26.132Z"
   },
   {
    "duration": 10,
    "start_time": "2022-01-24T00:11:26.139Z"
   },
   {
    "duration": 5,
    "start_time": "2022-01-24T00:11:26.152Z"
   },
   {
    "duration": 6,
    "start_time": "2022-01-24T00:11:26.159Z"
   },
   {
    "duration": 110,
    "start_time": "2022-01-24T00:11:26.167Z"
   },
   {
    "duration": 1061,
    "start_time": "2022-01-24T00:11:26.279Z"
   },
   {
    "duration": 15,
    "start_time": "2022-01-24T00:11:27.342Z"
   },
   {
    "duration": 6,
    "start_time": "2022-01-24T00:11:27.359Z"
   },
   {
    "duration": 63,
    "start_time": "2022-01-24T00:11:27.367Z"
   },
   {
    "duration": 223,
    "start_time": "2022-01-24T00:11:27.432Z"
   },
   {
    "duration": 14,
    "start_time": "2022-01-24T00:11:27.657Z"
   },
   {
    "duration": 1155,
    "start_time": "2022-01-24T00:11:45.572Z"
   },
   {
    "duration": 198,
    "start_time": "2022-01-24T00:11:46.730Z"
   },
   {
    "duration": 19,
    "start_time": "2022-01-24T00:11:46.931Z"
   },
   {
    "duration": 9,
    "start_time": "2022-01-24T00:11:46.953Z"
   },
   {
    "duration": 30,
    "start_time": "2022-01-24T00:11:46.964Z"
   },
   {
    "duration": 28,
    "start_time": "2022-01-24T00:11:46.996Z"
   },
   {
    "duration": 10,
    "start_time": "2022-01-24T00:11:47.026Z"
   },
   {
    "duration": 4,
    "start_time": "2022-01-24T00:11:47.038Z"
   },
   {
    "duration": 7,
    "start_time": "2022-01-24T00:11:47.046Z"
   },
   {
    "duration": 4,
    "start_time": "2022-01-24T00:11:47.056Z"
   },
   {
    "duration": 5,
    "start_time": "2022-01-24T00:11:47.062Z"
   },
   {
    "duration": 114,
    "start_time": "2022-01-24T00:11:47.070Z"
   },
   {
    "duration": 1013,
    "start_time": "2022-01-24T00:11:47.186Z"
   },
   {
    "duration": 27,
    "start_time": "2022-01-24T00:11:48.202Z"
   },
   {
    "duration": 6,
    "start_time": "2022-01-24T00:11:48.232Z"
   },
   {
    "duration": 33,
    "start_time": "2022-01-24T00:11:48.241Z"
   },
   {
    "duration": 228,
    "start_time": "2022-01-24T00:11:48.276Z"
   },
   {
    "duration": 27,
    "start_time": "2022-01-24T00:11:48.506Z"
   },
   {
    "duration": 1048,
    "start_time": "2022-01-24T05:17:28.796Z"
   },
   {
    "duration": 135,
    "start_time": "2022-01-24T05:17:30.802Z"
   },
   {
    "duration": 16,
    "start_time": "2022-01-24T05:17:34.461Z"
   },
   {
    "duration": 7,
    "start_time": "2022-01-24T05:17:36.514Z"
   },
   {
    "duration": 23,
    "start_time": "2022-01-24T05:17:37.962Z"
   },
   {
    "duration": 3,
    "start_time": "2022-01-24T05:17:39.148Z"
   },
   {
    "duration": 7,
    "start_time": "2022-01-24T05:18:42.295Z"
   },
   {
    "duration": 4,
    "start_time": "2022-01-24T05:18:43.656Z"
   },
   {
    "duration": 6,
    "start_time": "2022-01-24T05:18:50.922Z"
   },
   {
    "duration": 4,
    "start_time": "2022-01-24T05:18:57.334Z"
   },
   {
    "duration": 3,
    "start_time": "2022-01-24T05:19:00.515Z"
   },
   {
    "duration": 56,
    "start_time": "2022-01-24T05:21:50.317Z"
   },
   {
    "duration": 759,
    "start_time": "2022-01-24T05:22:38.205Z"
   },
   {
    "duration": 10,
    "start_time": "2022-01-24T05:22:43.989Z"
   },
   {
    "duration": 4,
    "start_time": "2022-01-24T05:22:46.080Z"
   },
   {
    "duration": 26,
    "start_time": "2022-01-24T05:22:46.514Z"
   },
   {
    "duration": 115,
    "start_time": "2022-01-24T05:22:47.661Z"
   },
   {
    "duration": 11,
    "start_time": "2022-01-24T05:24:42.978Z"
   },
   {
    "duration": 376,
    "start_time": "2022-01-24T19:29:07.477Z"
   },
   {
    "duration": 1723,
    "start_time": "2022-01-24T19:29:14.522Z"
   },
   {
    "duration": 255,
    "start_time": "2022-01-24T19:29:16.248Z"
   },
   {
    "duration": 501,
    "start_time": "2022-01-24T19:29:16.508Z"
   },
   {
    "duration": 700,
    "start_time": "2022-01-24T19:29:17.012Z"
   },
   {
    "duration": 701,
    "start_time": "2022-01-24T19:29:17.715Z"
   },
   {
    "duration": 476,
    "start_time": "2022-01-24T19:29:18.418Z"
   },
   {
    "duration": 554,
    "start_time": "2022-01-24T19:29:18.897Z"
   },
   {
    "duration": 512,
    "start_time": "2022-01-24T19:29:19.454Z"
   },
   {
    "duration": 565,
    "start_time": "2022-01-24T19:29:19.970Z"
   },
   {
    "duration": 345,
    "start_time": "2022-01-24T19:29:20.538Z"
   },
   {
    "duration": 470,
    "start_time": "2022-01-24T19:29:20.886Z"
   },
   {
    "duration": 971,
    "start_time": "2022-01-24T19:29:21.358Z"
   },
   {
    "duration": 444,
    "start_time": "2022-01-24T19:29:22.332Z"
   },
   {
    "duration": 1623,
    "start_time": "2022-01-24T19:29:22.780Z"
   },
   {
    "duration": 30,
    "start_time": "2022-01-24T19:29:24.406Z"
   },
   {
    "duration": 576,
    "start_time": "2022-01-24T19:29:24.439Z"
   },
   {
    "duration": 845,
    "start_time": "2022-01-24T19:29:25.019Z"
   },
   {
    "duration": 904,
    "start_time": "2022-01-24T19:29:25.866Z"
   },
   {
    "duration": 151,
    "start_time": "2022-01-24T19:29:26.772Z"
   },
   {
    "duration": 5461,
    "start_time": "2022-01-24T20:15:08.986Z"
   },
   {
    "duration": 13,
    "start_time": "2022-01-24T20:18:39.069Z"
   },
   {
    "duration": 13,
    "start_time": "2022-01-24T20:18:47.308Z"
   },
   {
    "duration": 2916,
    "start_time": "2022-01-24T20:18:53.409Z"
   },
   {
    "duration": 1495,
    "start_time": "2022-01-24T20:19:08.432Z"
   },
   {
    "duration": 178,
    "start_time": "2022-01-24T20:19:09.930Z"
   },
   {
    "duration": 859,
    "start_time": "2022-01-24T20:19:10.111Z"
   },
   {
    "duration": 853,
    "start_time": "2022-01-24T20:19:10.973Z"
   },
   {
    "duration": 540,
    "start_time": "2022-01-24T20:19:11.828Z"
   },
   {
    "duration": 1152,
    "start_time": "2022-01-24T20:19:12.371Z"
   },
   {
    "duration": 1147,
    "start_time": "2022-01-24T20:19:13.526Z"
   },
   {
    "duration": 1111,
    "start_time": "2022-01-24T20:19:14.676Z"
   },
   {
    "duration": 4475,
    "start_time": "2022-01-24T20:19:15.792Z"
   },
   {
    "duration": 10,
    "start_time": "2022-01-24T20:19:20.270Z"
   },
   {
    "duration": 328,
    "start_time": "2022-01-24T20:19:20.282Z"
   },
   {
    "duration": 564,
    "start_time": "2022-01-24T20:19:20.613Z"
   },
   {
    "duration": 450,
    "start_time": "2022-01-24T20:19:21.180Z"
   },
   {
    "duration": 835,
    "start_time": "2022-01-24T20:19:21.633Z"
   },
   {
    "duration": 492,
    "start_time": "2022-01-24T20:19:22.471Z"
   },
   {
    "duration": 2041,
    "start_time": "2022-01-24T20:19:22.966Z"
   },
   {
    "duration": 31,
    "start_time": "2022-01-24T20:19:25.010Z"
   },
   {
    "duration": 807,
    "start_time": "2022-01-24T20:19:25.045Z"
   },
   {
    "duration": 502,
    "start_time": "2022-01-24T20:19:25.855Z"
   },
   {
    "duration": 453,
    "start_time": "2022-01-24T20:19:26.360Z"
   },
   {
    "duration": 238,
    "start_time": "2022-01-24T20:19:26.815Z"
   },
   {
    "duration": 1963,
    "start_time": "2022-01-24T20:25:39.523Z"
   },
   {
    "duration": 184,
    "start_time": "2022-01-24T20:25:41.489Z"
   },
   {
    "duration": 432,
    "start_time": "2022-01-24T20:25:41.676Z"
   },
   {
    "duration": 580,
    "start_time": "2022-01-24T20:25:42.111Z"
   },
   {
    "duration": 1129,
    "start_time": "2022-01-24T20:25:42.694Z"
   },
   {
    "duration": 924,
    "start_time": "2022-01-24T20:25:43.826Z"
   },
   {
    "duration": 1257,
    "start_time": "2022-01-24T20:25:44.755Z"
   },
   {
    "duration": 1433,
    "start_time": "2022-01-24T20:25:46.017Z"
   },
   {
    "duration": 2817,
    "start_time": "2022-01-24T20:25:47.453Z"
   },
   {
    "duration": 12,
    "start_time": "2022-01-24T20:25:50.273Z"
   },
   {
    "duration": 743,
    "start_time": "2022-01-24T20:25:50.289Z"
   },
   {
    "duration": 977,
    "start_time": "2022-01-24T20:25:51.040Z"
   },
   {
    "duration": 594,
    "start_time": "2022-01-24T20:25:52.020Z"
   },
   {
    "duration": 689,
    "start_time": "2022-01-24T20:25:52.617Z"
   },
   {
    "duration": 669,
    "start_time": "2022-01-24T20:25:53.310Z"
   },
   {
    "duration": 2348,
    "start_time": "2022-01-24T20:25:53.984Z"
   },
   {
    "duration": 32,
    "start_time": "2022-01-24T20:25:56.335Z"
   },
   {
    "duration": 486,
    "start_time": "2022-01-24T20:25:56.371Z"
   },
   {
    "duration": 299,
    "start_time": "2022-01-24T20:25:56.860Z"
   },
   {
    "duration": 514,
    "start_time": "2022-01-24T20:25:57.162Z"
   },
   {
    "duration": 148,
    "start_time": "2022-01-24T20:25:57.680Z"
   },
   {
    "duration": 1267,
    "start_time": "2022-01-24T20:26:00.057Z"
   },
   {
    "duration": 1510,
    "start_time": "2022-01-24T20:26:08.907Z"
   },
   {
    "duration": 1392,
    "start_time": "2022-01-24T20:26:21.606Z"
   },
   {
    "duration": 520,
    "start_time": "2022-01-24T20:45:55.656Z"
   },
   {
    "duration": 77,
    "start_time": "2022-01-24T20:46:05.345Z"
   },
   {
    "duration": 1341,
    "start_time": "2022-01-24T20:46:25.645Z"
   },
   {
    "duration": 196,
    "start_time": "2022-01-24T20:46:26.989Z"
   },
   {
    "duration": 24,
    "start_time": "2022-01-24T20:46:27.189Z"
   },
   {
    "duration": 9,
    "start_time": "2022-01-24T20:46:27.216Z"
   },
   {
    "duration": 34,
    "start_time": "2022-01-24T20:46:27.227Z"
   },
   {
    "duration": 3,
    "start_time": "2022-01-24T20:46:27.264Z"
   },
   {
    "duration": 20,
    "start_time": "2022-01-24T20:46:27.270Z"
   },
   {
    "duration": 15,
    "start_time": "2022-01-24T20:46:27.292Z"
   },
   {
    "duration": 1163,
    "start_time": "2022-01-24T20:46:27.312Z"
   },
   {
    "duration": 391,
    "start_time": "2022-01-24T20:46:28.478Z"
   },
   {
    "duration": 61,
    "start_time": "2022-01-24T20:46:28.811Z"
   },
   {
    "duration": -27,
    "start_time": "2022-01-24T20:46:28.900Z"
   },
   {
    "duration": -27,
    "start_time": "2022-01-24T20:46:28.902Z"
   },
   {
    "duration": -27,
    "start_time": "2022-01-24T20:46:28.904Z"
   },
   {
    "duration": -27,
    "start_time": "2022-01-24T20:46:28.905Z"
   },
   {
    "duration": -29,
    "start_time": "2022-01-24T20:46:28.908Z"
   },
   {
    "duration": -28,
    "start_time": "2022-01-24T20:46:28.909Z"
   },
   {
    "duration": -28,
    "start_time": "2022-01-24T20:46:28.911Z"
   },
   {
    "duration": -29,
    "start_time": "2022-01-24T20:46:28.913Z"
   },
   {
    "duration": -29,
    "start_time": "2022-01-24T20:46:28.915Z"
   },
   {
    "duration": -29,
    "start_time": "2022-01-24T20:46:28.917Z"
   },
   {
    "duration": -30,
    "start_time": "2022-01-24T20:46:28.919Z"
   },
   {
    "duration": 1468,
    "start_time": "2022-01-24T20:47:38.451Z"
   },
   {
    "duration": 193,
    "start_time": "2022-01-24T20:47:39.922Z"
   },
   {
    "duration": 23,
    "start_time": "2022-01-24T20:47:40.119Z"
   },
   {
    "duration": 12,
    "start_time": "2022-01-24T20:47:40.147Z"
   },
   {
    "duration": 53,
    "start_time": "2022-01-24T20:47:40.162Z"
   },
   {
    "duration": 14,
    "start_time": "2022-01-24T20:47:40.218Z"
   },
   {
    "duration": 12,
    "start_time": "2022-01-24T20:47:40.234Z"
   },
   {
    "duration": 11,
    "start_time": "2022-01-24T20:47:40.248Z"
   },
   {
    "duration": 1211,
    "start_time": "2022-01-24T20:47:40.263Z"
   },
   {
    "duration": 129,
    "start_time": "2022-01-24T20:47:41.478Z"
   },
   {
    "duration": 22,
    "start_time": "2022-01-24T20:47:41.610Z"
   },
   {
    "duration": 6,
    "start_time": "2022-01-24T20:47:41.635Z"
   },
   {
    "duration": 11,
    "start_time": "2022-01-24T20:47:41.644Z"
   },
   {
    "duration": 9,
    "start_time": "2022-01-24T20:47:41.658Z"
   },
   {
    "duration": 7,
    "start_time": "2022-01-24T20:47:41.670Z"
   },
   {
    "duration": 163,
    "start_time": "2022-01-24T20:47:41.680Z"
   },
   {
    "duration": 1200,
    "start_time": "2022-01-24T20:47:41.846Z"
   },
   {
    "duration": 19,
    "start_time": "2022-01-24T20:47:43.048Z"
   },
   {
    "duration": 8,
    "start_time": "2022-01-24T20:47:43.070Z"
   },
   {
    "duration": 74,
    "start_time": "2022-01-24T20:47:43.081Z"
   },
   {
    "duration": 245,
    "start_time": "2022-01-24T20:47:43.158Z"
   },
   {
    "duration": 32,
    "start_time": "2022-01-24T20:47:43.405Z"
   },
   {
    "duration": 12,
    "start_time": "2022-01-24T20:56:52.357Z"
   },
   {
    "duration": 420,
    "start_time": "2022-01-24T20:57:15.817Z"
   },
   {
    "duration": 8,
    "start_time": "2022-01-24T20:57:27.598Z"
   },
   {
    "duration": 9,
    "start_time": "2022-01-24T20:57:32.167Z"
   },
   {
    "duration": 1423,
    "start_time": "2022-01-24T21:09:45.452Z"
   },
   {
    "duration": 157,
    "start_time": "2022-01-24T21:09:46.878Z"
   },
   {
    "duration": 23,
    "start_time": "2022-01-24T21:09:47.039Z"
   },
   {
    "duration": 17,
    "start_time": "2022-01-24T21:09:47.065Z"
   },
   {
    "duration": 50,
    "start_time": "2022-01-24T21:09:47.086Z"
   },
   {
    "duration": 4,
    "start_time": "2022-01-24T21:09:47.139Z"
   },
   {
    "duration": 19,
    "start_time": "2022-01-24T21:09:47.145Z"
   },
   {
    "duration": 17,
    "start_time": "2022-01-24T21:09:47.167Z"
   },
   {
    "duration": 983,
    "start_time": "2022-01-24T21:09:47.189Z"
   },
   {
    "duration": 10,
    "start_time": "2022-01-24T21:09:48.175Z"
   },
   {
    "duration": 13,
    "start_time": "2022-01-24T21:09:48.187Z"
   },
   {
    "duration": 30,
    "start_time": "2022-01-24T21:09:48.202Z"
   },
   {
    "duration": 8,
    "start_time": "2022-01-24T21:09:48.234Z"
   },
   {
    "duration": 19,
    "start_time": "2022-01-24T21:09:48.244Z"
   },
   {
    "duration": 101,
    "start_time": "2022-01-24T21:09:48.265Z"
   },
   {
    "duration": 1396,
    "start_time": "2022-01-24T21:09:48.368Z"
   },
   {
    "duration": 17,
    "start_time": "2022-01-24T21:09:49.766Z"
   },
   {
    "duration": 17,
    "start_time": "2022-01-24T21:09:49.787Z"
   },
   {
    "duration": 87,
    "start_time": "2022-01-24T21:09:49.808Z"
   },
   {
    "duration": 372,
    "start_time": "2022-01-24T21:09:49.898Z"
   },
   {
    "duration": 18,
    "start_time": "2022-01-24T21:09:50.273Z"
   }
  ],
  "kernelspec": {
   "display_name": "Python 3 (ipykernel)",
   "language": "python",
   "name": "python3"
  },
  "language_info": {
   "codemirror_mode": {
    "name": "ipython",
    "version": 3
   },
   "file_extension": ".py",
   "mimetype": "text/x-python",
   "name": "python",
   "nbconvert_exporter": "python",
   "pygments_lexer": "ipython3",
   "version": "3.9.5"
  },
  "toc": {
   "base_numbering": 1,
   "nav_menu": {},
   "number_sections": true,
   "sideBar": true,
   "skip_h1_title": true,
   "title_cell": "Table of Contents",
   "title_sidebar": "Contents",
   "toc_cell": false,
   "toc_position": {
    "height": "calc(100% - 180px)",
    "left": "10px",
    "top": "150px",
    "width": "245.594px"
   },
   "toc_section_display": true,
   "toc_window_display": true
  }
 },
 "nbformat": 4,
 "nbformat_minor": 2
}
