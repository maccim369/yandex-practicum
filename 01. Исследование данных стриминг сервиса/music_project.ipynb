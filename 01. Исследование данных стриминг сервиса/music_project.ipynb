{
 "cells": [
  {
   "cell_type": "markdown",
   "metadata": {
    "id": "VUC88oWjTJw2"
   },
   "source": [
    "# План работы\n",
    "\n",
    " 1. Обзор данных.\n",
    " 2. Предобработка данных.\n",
    " 3. Проверка гипотез.\n",
    " 4. Итоги исследования\n",
    "\n",
    "\n"
   ]
  },
  {
   "cell_type": "markdown",
   "metadata": {
    "id": "Ml1hmfXC_Zcs"
   },
   "source": [
    "## Обзор данных\n",
    "\n",
    "\n",
    "\n"
   ]
  },
  {
   "cell_type": "code",
   "execution_count": 1,
   "metadata": {
    "id": "AXN7PHPN_Zcs"
   },
   "outputs": [],
   "source": [
    "# импорт библиотеки pandas\n",
    "import pandas as pd"
   ]
  },
  {
   "cell_type": "code",
   "execution_count": 2,
   "metadata": {
    "id": "fFVu7vqh_Zct"
   },
   "outputs": [],
   "source": [
    "# чтение файла с данными и сохранение в df\n",
    "try:\n",
    "    df = pd.read_csv('C:/Users/datasets/yandex_music_project.csv')  # Локальный путь\n",
    "except:\n",
    "    df = pd.read_csv('/datasets/yandex_music_project.csv')  # Серверный путь"
   ]
  },
  {
   "cell_type": "code",
   "execution_count": 3,
   "metadata": {
    "id": "oWTVX3gW_Zct",
    "scrolled": true
   },
   "outputs": [
    {
     "data": {
      "text/html": [
       "<div>\n",
       "<style scoped>\n",
       "    .dataframe tbody tr th:only-of-type {\n",
       "        vertical-align: middle;\n",
       "    }\n",
       "\n",
       "    .dataframe tbody tr th {\n",
       "        vertical-align: top;\n",
       "    }\n",
       "\n",
       "    .dataframe thead th {\n",
       "        text-align: right;\n",
       "    }\n",
       "</style>\n",
       "<table border=\"1\" class=\"dataframe\">\n",
       "  <thead>\n",
       "    <tr style=\"text-align: right;\">\n",
       "      <th></th>\n",
       "      <th>userID</th>\n",
       "      <th>Track</th>\n",
       "      <th>artist</th>\n",
       "      <th>genre</th>\n",
       "      <th>City</th>\n",
       "      <th>time</th>\n",
       "      <th>Day</th>\n",
       "    </tr>\n",
       "  </thead>\n",
       "  <tbody>\n",
       "    <tr>\n",
       "      <th>0</th>\n",
       "      <td>FFB692EC</td>\n",
       "      <td>Kamigata To Boots</td>\n",
       "      <td>The Mass Missile</td>\n",
       "      <td>rock</td>\n",
       "      <td>Saint-Petersburg</td>\n",
       "      <td>20:28:33</td>\n",
       "      <td>Wednesday</td>\n",
       "    </tr>\n",
       "    <tr>\n",
       "      <th>1</th>\n",
       "      <td>55204538</td>\n",
       "      <td>Delayed Because of Accident</td>\n",
       "      <td>Andreas Rönnberg</td>\n",
       "      <td>rock</td>\n",
       "      <td>Moscow</td>\n",
       "      <td>14:07:09</td>\n",
       "      <td>Friday</td>\n",
       "    </tr>\n",
       "    <tr>\n",
       "      <th>2</th>\n",
       "      <td>20EC38</td>\n",
       "      <td>Funiculì funiculà</td>\n",
       "      <td>Mario Lanza</td>\n",
       "      <td>pop</td>\n",
       "      <td>Saint-Petersburg</td>\n",
       "      <td>20:58:07</td>\n",
       "      <td>Wednesday</td>\n",
       "    </tr>\n",
       "    <tr>\n",
       "      <th>3</th>\n",
       "      <td>A3DD03C9</td>\n",
       "      <td>Dragons in the Sunset</td>\n",
       "      <td>Fire + Ice</td>\n",
       "      <td>folk</td>\n",
       "      <td>Saint-Petersburg</td>\n",
       "      <td>08:37:09</td>\n",
       "      <td>Monday</td>\n",
       "    </tr>\n",
       "    <tr>\n",
       "      <th>4</th>\n",
       "      <td>E2DC1FAE</td>\n",
       "      <td>Soul People</td>\n",
       "      <td>Space Echo</td>\n",
       "      <td>dance</td>\n",
       "      <td>Moscow</td>\n",
       "      <td>08:34:34</td>\n",
       "      <td>Monday</td>\n",
       "    </tr>\n",
       "    <tr>\n",
       "      <th>5</th>\n",
       "      <td>842029A1</td>\n",
       "      <td>Преданная</td>\n",
       "      <td>IMPERVTOR</td>\n",
       "      <td>rusrap</td>\n",
       "      <td>Saint-Petersburg</td>\n",
       "      <td>13:09:41</td>\n",
       "      <td>Friday</td>\n",
       "    </tr>\n",
       "    <tr>\n",
       "      <th>6</th>\n",
       "      <td>4CB90AA5</td>\n",
       "      <td>True</td>\n",
       "      <td>Roman Messer</td>\n",
       "      <td>dance</td>\n",
       "      <td>Moscow</td>\n",
       "      <td>13:00:07</td>\n",
       "      <td>Wednesday</td>\n",
       "    </tr>\n",
       "    <tr>\n",
       "      <th>7</th>\n",
       "      <td>F03E1C1F</td>\n",
       "      <td>Feeling This Way</td>\n",
       "      <td>Polina Griffith</td>\n",
       "      <td>dance</td>\n",
       "      <td>Moscow</td>\n",
       "      <td>20:47:49</td>\n",
       "      <td>Wednesday</td>\n",
       "    </tr>\n",
       "    <tr>\n",
       "      <th>8</th>\n",
       "      <td>8FA1D3BE</td>\n",
       "      <td>И вновь продолжается бой</td>\n",
       "      <td>NaN</td>\n",
       "      <td>ruspop</td>\n",
       "      <td>Moscow</td>\n",
       "      <td>09:17:40</td>\n",
       "      <td>Friday</td>\n",
       "    </tr>\n",
       "    <tr>\n",
       "      <th>9</th>\n",
       "      <td>E772D5C0</td>\n",
       "      <td>Pessimist</td>\n",
       "      <td>NaN</td>\n",
       "      <td>dance</td>\n",
       "      <td>Saint-Petersburg</td>\n",
       "      <td>21:20:49</td>\n",
       "      <td>Wednesday</td>\n",
       "    </tr>\n",
       "  </tbody>\n",
       "</table>\n",
       "</div>"
      ],
      "text/plain": [
       "     userID                        Track            artist   genre  \\\n",
       "0  FFB692EC            Kamigata To Boots  The Mass Missile    rock   \n",
       "1  55204538  Delayed Because of Accident  Andreas Rönnberg    rock   \n",
       "2    20EC38            Funiculì funiculà       Mario Lanza     pop   \n",
       "3  A3DD03C9        Dragons in the Sunset        Fire + Ice    folk   \n",
       "4  E2DC1FAE                  Soul People        Space Echo   dance   \n",
       "5  842029A1                    Преданная         IMPERVTOR  rusrap   \n",
       "6  4CB90AA5                         True      Roman Messer   dance   \n",
       "7  F03E1C1F             Feeling This Way   Polina Griffith   dance   \n",
       "8  8FA1D3BE     И вновь продолжается бой               NaN  ruspop   \n",
       "9  E772D5C0                    Pessimist               NaN   dance   \n",
       "\n",
       "             City        time        Day  \n",
       "0  Saint-Petersburg  20:28:33  Wednesday  \n",
       "1            Moscow  14:07:09     Friday  \n",
       "2  Saint-Petersburg  20:58:07  Wednesday  \n",
       "3  Saint-Petersburg  08:37:09     Monday  \n",
       "4            Moscow  08:34:34     Monday  \n",
       "5  Saint-Petersburg  13:09:41     Friday  \n",
       "6            Moscow  13:00:07  Wednesday  \n",
       "7            Moscow  20:47:49  Wednesday  \n",
       "8            Moscow  09:17:40     Friday  \n",
       "9  Saint-Petersburg  21:20:49  Wednesday  "
      ]
     },
     "execution_count": 3,
     "metadata": {},
     "output_type": "execute_result"
    }
   ],
   "source": [
    "# получение первых 10 строк таблицы df\n",
    "df.head(10)"
   ]
  },
  {
   "cell_type": "code",
   "execution_count": 4,
   "metadata": {
    "id": "DSf2kIb-_Zct",
    "scrolled": true
   },
   "outputs": [
    {
     "name": "stdout",
     "output_type": "stream",
     "text": [
      "<class 'pandas.core.frame.DataFrame'>\n",
      "RangeIndex: 65079 entries, 0 to 65078\n",
      "Data columns (total 7 columns):\n",
      " #   Column    Non-Null Count  Dtype \n",
      "---  ------    --------------  ----- \n",
      " 0     userID  65079 non-null  object\n",
      " 1   Track     63848 non-null  object\n",
      " 2   artist    57876 non-null  object\n",
      " 3   genre     63881 non-null  object\n",
      " 4     City    65079 non-null  object\n",
      " 5   time      65079 non-null  object\n",
      " 6   Day       65079 non-null  object\n",
      "dtypes: object(7)\n",
      "memory usage: 3.5+ MB\n"
     ]
    }
   ],
   "source": [
    "# получение общей информации о данных в таблице df\n",
    "df.info()"
   ]
  },
  {
   "cell_type": "markdown",
   "metadata": {
    "id": "MCB6-dXG_Zct"
   },
   "source": [
    "**Выводы**\n",
    "\n",
    "В таблице семь столбцов. Тип данных во всех столбцах — `object`.\n",
    "\n",
    "Согласно документации к данным:\n",
    "* `userID` — идентификатор пользователя;\n",
    "* `Track` — название трека;  \n",
    "* `artist` — имя исполнителя;\n",
    "* `genre` — название жанра;\n",
    "* `City` — город пользователя;\n",
    "* `time` — время начала прослушивания;\n",
    "* `Day` — день недели.\n",
    "\n",
    "В названиях колонок видны три нарушения стиля:\n",
    "1. Строчные буквы сочетаются с прописными.\n",
    "2. Встречаются пробелы.\n",
    "3. Названия приведем к единому стилю, используя строчные буквы с подчеркиванием.\n",
    "\n",
    "\n",
    "В каждой строке таблицы — данные о прослушанном треке. Часть колонок описывает саму композицию: название, исполнителя и жанр. Остальные данные рассказывают о пользователе: из какого он города, когда он слушал музыку. \n",
    "\n",
    "Предварительно можно утверждать, что, данных достаточно для проверки гипотез. Но встречаются пропуски в данных, а в названиях колонок — расхождения с хорошим стилем."
   ]
  },
  {
   "cell_type": "markdown",
   "metadata": {
    "id": "SjYF6Ub9_Zct"
   },
   "source": [
    "## Предобработка данных"
   ]
  },
  {
   "cell_type": "markdown",
   "metadata": {
    "id": "dIaKXr29_Zct"
   },
   "source": [
    "### Стиль заголовков\n"
   ]
  },
  {
   "cell_type": "code",
   "execution_count": 5,
   "metadata": {
    "id": "oKOTdF_Q_Zct"
   },
   "outputs": [
    {
     "data": {
      "text/plain": [
       "Index(['  userID', 'Track', 'artist', 'genre', '  City  ', 'time', 'Day'], dtype='object')"
      ]
     },
     "execution_count": 5,
     "metadata": {},
     "output_type": "execute_result"
    }
   ],
   "source": [
    "# перечень названий столбцов таблицы df\n",
    "df.columns"
   ]
  },
  {
   "cell_type": "code",
   "execution_count": 6,
   "metadata": {
    "id": "ISlFqs5y_Zct"
   },
   "outputs": [],
   "source": [
    "# переименование столбцов\n",
    "df = df.rename(columns={'  userID':'user_id','Track':'track','  City  ':'city','Day':'day'})"
   ]
  },
  {
   "cell_type": "code",
   "execution_count": 7,
   "metadata": {
    "id": "d4NOAmTW_Zct"
   },
   "outputs": [
    {
     "data": {
      "text/plain": [
       "Index(['user_id', 'track', 'artist', 'genre', 'city', 'time', 'day'], dtype='object')"
      ]
     },
     "execution_count": 7,
     "metadata": {},
     "output_type": "execute_result"
    }
   ],
   "source": [
    "# проверка результатов - перечень названий столбцов\n",
    "df.columns"
   ]
  },
  {
   "cell_type": "markdown",
   "metadata": {
    "id": "5ISfbcfY_Zct"
   },
   "source": [
    "### Пропуски значений"
   ]
  },
  {
   "cell_type": "code",
   "execution_count": 8,
   "metadata": {
    "id": "RskX29qr_Zct"
   },
   "outputs": [
    {
     "data": {
      "text/plain": [
       "user_id       0\n",
       "track      1231\n",
       "artist     7203\n",
       "genre      1198\n",
       "city          0\n",
       "time          0\n",
       "day           0\n",
       "dtype: int64"
      ]
     },
     "execution_count": 8,
     "metadata": {},
     "output_type": "execute_result"
    }
   ],
   "source": [
    "# подсчёт пропусков\n",
    "df.isna().sum()"
   ]
  },
  {
   "cell_type": "code",
   "execution_count": 9,
   "metadata": {
    "id": "KplB5qWs_Zct"
   },
   "outputs": [],
   "source": [
    "# перебор названий столбцов в цикле и замена пропущенных значений на 'unknown'\n",
    "columns_to_replace = []                           #создаю список названий колонок df\n",
    "for columns in columns_to_replace:                #перебираю циклом for список columns_to_replace\n",
    "    df[columns] = df[columns].fillna('unknown')   #в теле: заполняю пропуски на строку 'unknown'\n",
    "                                      "
   ]
  },
  {
   "cell_type": "code",
   "execution_count": 10,
   "metadata": {
    "id": "Tq4nYRX4_Zct"
   },
   "outputs": [
    {
     "data": {
      "text/plain": [
       "user_id       0\n",
       "track      1231\n",
       "artist     7203\n",
       "genre      1198\n",
       "city          0\n",
       "time          0\n",
       "day           0\n",
       "dtype: int64"
      ]
     },
     "execution_count": 10,
     "metadata": {},
     "output_type": "execute_result"
    }
   ],
   "source": [
    "# подсчёт пропусков\n",
    "df.isna().sum()"
   ]
  },
  {
   "cell_type": "markdown",
   "metadata": {
    "id": "BWKRtBJ3_Zct"
   },
   "source": [
    "### Дубликаты"
   ]
  },
  {
   "cell_type": "code",
   "execution_count": 11,
   "metadata": {
    "id": "36eES_S0_Zct"
   },
   "outputs": [
    {
     "name": "stdout",
     "output_type": "stream",
     "text": [
      "Количество строк явных дубликатов: 3826\n"
     ]
    }
   ],
   "source": [
    "# подсчёт явных дубликатов\n",
    "print('Количество строк явных дубликатов:',df.duplicated().sum())"
   ]
  },
  {
   "cell_type": "code",
   "execution_count": 12,
   "metadata": {
    "id": "exFHq6tt_Zct"
   },
   "outputs": [],
   "source": [
    "# удаление явных дубликатов (с удалением старых индексов и формированием новых)\n",
    "df = df.drop_duplicates().reset_index(drop=True)"
   ]
  },
  {
   "cell_type": "code",
   "execution_count": 13,
   "metadata": {
    "id": "-8PuNWQ0_Zct"
   },
   "outputs": [
    {
     "name": "stdout",
     "output_type": "stream",
     "text": [
      "Количество строк явных дубликатов: 0\n"
     ]
    }
   ],
   "source": [
    "# проверка на отсутствие дубликатов\n",
    "print('Количество строк явных дубликатов:',(df.duplicated().sum()))"
   ]
  },
  {
   "cell_type": "code",
   "execution_count": 14,
   "metadata": {
    "id": "JIUcqzZN_Zct",
    "scrolled": false
   },
   "outputs": [
    {
     "data": {
      "text/plain": [
       "array(['acid', 'acoustic', 'action', 'adult', 'africa', 'afrikaans',\n",
       "       'alternative', 'alternativepunk', 'ambient', 'americana',\n",
       "       'animated', 'anime', 'arabesk', 'arabic', 'arena',\n",
       "       'argentinetango', 'art', 'audiobook', 'author', 'avantgarde',\n",
       "       'axé', 'baile', 'balkan', 'beats', 'bigroom', 'black', 'bluegrass',\n",
       "       'blues', 'bollywood', 'bossa', 'brazilian', 'breakbeat', 'breaks',\n",
       "       'broadway', 'cantautori', 'cantopop', 'canzone', 'caribbean',\n",
       "       'caucasian', 'celtic', 'chamber', 'chanson', 'children', 'chill',\n",
       "       'chinese', 'choral', 'christian', 'christmas', 'classical',\n",
       "       'classicmetal', 'club', 'colombian', 'comedy', 'conjazz',\n",
       "       'contemporary', 'country', 'cuban', 'dance', 'dancehall',\n",
       "       'dancepop', 'dark', 'death', 'deep', 'deutschrock', 'deutschspr',\n",
       "       'dirty', 'disco', 'dnb', 'documentary', 'downbeat', 'downtempo',\n",
       "       'drum', 'dub', 'dubstep', 'eastern', 'easy', 'electronic',\n",
       "       'electropop', 'emo', 'entehno', 'epicmetal', 'estrada', 'ethnic',\n",
       "       'eurofolk', 'european', 'experimental', 'extrememetal', 'fado',\n",
       "       'fairytail', 'film', 'fitness', 'flamenco', 'folk', 'folklore',\n",
       "       'folkmetal', 'folkrock', 'folktronica', 'forró', 'frankreich',\n",
       "       'französisch', 'french', 'funk', 'future', 'gangsta', 'garage',\n",
       "       'german', 'ghazal', 'gitarre', 'glitch', 'gospel', 'gothic',\n",
       "       'grime', 'grunge', 'gypsy', 'handsup', \"hard'n'heavy\", 'hardcore',\n",
       "       'hardstyle', 'hardtechno', 'hip', 'hip-hop', 'hiphop',\n",
       "       'historisch', 'holiday', 'hop', 'horror', 'house', 'hymn', 'idm',\n",
       "       'independent', 'indian', 'indie', 'indipop', 'industrial',\n",
       "       'inspirational', 'instrumental', 'international', 'irish', 'jam',\n",
       "       'japanese', 'jazz', 'jewish', 'jpop', 'jungle', 'k-pop',\n",
       "       'karadeniz', 'karaoke', 'kayokyoku', 'korean', 'laiko', 'latin',\n",
       "       'latino', 'leftfield', 'local', 'lounge', 'loungeelectronic',\n",
       "       'lovers', 'malaysian', 'mandopop', 'marschmusik', 'meditative',\n",
       "       'mediterranean', 'melodic', 'metal', 'metalcore', 'mexican',\n",
       "       'middle', 'minimal', 'miscellaneous', 'modern', 'mood', 'mpb',\n",
       "       'muslim', 'native', 'neoklassik', 'neue', 'new', 'newage',\n",
       "       'newwave', 'nu', 'nujazz', 'numetal', 'oceania', 'old', 'opera',\n",
       "       'orchestral', 'other', 'piano', 'podcasts', 'pop', 'popdance',\n",
       "       'popelectronic', 'popeurodance', 'poprussian', 'post',\n",
       "       'posthardcore', 'postrock', 'power', 'progmetal', 'progressive',\n",
       "       'psychedelic', 'punjabi', 'punk', 'quebecois', 'ragga', 'ram',\n",
       "       'rancheras', 'rap', 'rave', 'reggae', 'reggaeton', 'regional',\n",
       "       'relax', 'religious', 'retro', 'rhythm', 'rnb', 'rnr', 'rock',\n",
       "       'rockabilly', 'rockalternative', 'rockindie', 'rockother',\n",
       "       'romance', 'roots', 'ruspop', 'rusrap', 'rusrock', 'russian',\n",
       "       'salsa', 'samba', 'scenic', 'schlager', 'self', 'sertanejo',\n",
       "       'shanson', 'shoegazing', 'showtunes', 'singer', 'ska', 'skarock',\n",
       "       'slow', 'smooth', 'soft', 'soul', 'soulful', 'sound', 'soundtrack',\n",
       "       'southern', 'specialty', 'speech', 'spiritual', 'sport',\n",
       "       'stonerrock', 'surf', 'swing', 'synthpop', 'synthrock',\n",
       "       'sängerportrait', 'tango', 'tanzorchester', 'taraftar', 'tatar',\n",
       "       'tech', 'techno', 'teen', 'thrash', 'top', 'traditional',\n",
       "       'tradjazz', 'trance', 'tribal', 'trip', 'triphop', 'tropical',\n",
       "       'türk', 'türkçe', 'ukrrock', 'urban', 'uzbek', 'variété', 'vi',\n",
       "       'videogame', 'vocal', 'western', 'world', 'worldbeat', 'ïîï',\n",
       "       'электроника', nan], dtype=object)"
      ]
     },
     "execution_count": 14,
     "metadata": {},
     "output_type": "execute_result"
    }
   ],
   "source": [
    "# Просмотр уникальных названий жанров\n",
    "df['genre'].sort_values().unique()"
   ]
  },
  {
   "cell_type": "markdown",
   "metadata": {},
   "source": [
    "**Оценка полученых результатов** \n",
    "\n",
    "Всего около 140-150 жанров по данным сайта [Яндекс.Музыка/genre](https://music.yandex.ru/genre)\n",
    "\n",
    "\n",
    "**Неявные дубликаты**\n",
    "\n",
    "\n",
    " - 'hip', 'hip-hop', 'hiphop' - 'hop' еще можно к ним отнести.\n",
    " \n",
    " \n",
    " - 'new', 'newage', - возможно что-то из 'одной оперы'))) , в смысле дубликатов.\n",
    " \n",
    " \n",
    " - 'nu', 'nujazz', 'numetal' - вероятно **'nu'** дубликат скорее **'numetal'** чем **'nujazz'**.\n",
    " \n",
    " \n",
    " - 'other' - **ДРУГОЙ, ПРОСТО ДРУГОЙ ЖАНР** ;)\n",
    " \n",
    " \n",
    " - 'punjabi' - **это точно не дубликат!!! Его трек «Mundiah To Bach Ke» ЛЕГЕНДА - 10000000 копий.**\n",
    " \n",
    "\n",
    " - 'rock','rockother' - очень похоже на неявный дубликат. Серьезно дубликат 100%.\n",
    " \n",
    "\n",
    " \n",
    "**Альтернативные названия того же жанра**\n",
    "\n",
    "\n",
    " - 'tech', 'techno' - и таких очень много в списке - в основном одни альтернативные названия\n",
    " \n",
    " \n",
    " - 'türk', 'türkçe' - альтернативные названия\n",
    " \n",
    " \n",
    " - 'electronic', 'электроника' - здесь просто на Русском языке написано. Вероятно разные жанры.\n",
    " \n",
    "\n",
    "**Названия с ошибками**\n",
    "\n",
    " \n",
    " - 'ïîï' - такого жанра нет [Яндекс.Музыка](https://music.yandex.ru/genre/%C3%AF%C3%AE%C3%AF)\n",
    " \n",
    "вероятно это 'ïîï' = '***' \n",
    "   \n",
    "и если проанализировать колонку по этому **object** ,\n",
    "   \n",
    "то подсчитав количество их в **`df['genre']`**\n",
    "   \n",
    "и долю 'ïîï'-жанра от всех жанров\n",
    "   \n",
    "можно будет предположить, что это какой-нибудь спец символ,\n",
    "   \n",
    "и более вероятно отнести его к пропускам и тоже выполнить замену на **'unknown'**\n",
    "\n",
    "\n",
    "**Вывод по визуальному анализу жанров:**\n",
    "\n",
    "- Во первых: к жанрам музыки относят\n",
    "\n",
    "  \n",
    "  названия групп ('leftfield') и фамилии исполнителей ('deutschspr')\n",
    "  \n",
    "  \n",
    "- Во вторых: лучше \n",
    "  \n",
    "  \n",
    "  **неявные дубликаты** (нашел **5 вариантов**), \n",
    "  \n",
    "  \n",
    "  **альтернативные названия** (нашел **3 варианта**) и \n",
    "  \n",
    "  \n",
    "  конечно **названия с ошибками** (нашел **1 вариант**)\n",
    "\n",
    "\n",
    "  искать вместе с командой Яндекс.Музыка\n",
    "\n"
   ]
  },
  {
   "cell_type": "code",
   "execution_count": 15,
   "metadata": {
    "id": "ErNDkmns_Zct"
   },
   "outputs": [],
   "source": [
    "# Функция для замены неявных дубликатов\n",
    "def replace_wrong_genres(wrong_genres,correct_genre):                 #передаю список дубликатов и строку с правильным значением\n",
    "    for wrong_genre in wrong_genres:                                  # перебираем неправильные имена\n",
    "        df['genre'] = df['genre'].replace(wrong_genre,correct_genre)  #для каждого неправильного имени вызываем метод replace()"
   ]
  },
  {
   "cell_type": "code",
   "execution_count": 16,
   "metadata": {
    "id": "YN5i2hpmSo09"
   },
   "outputs": [],
   "source": [
    "# Устранение неявных дубликатов\n",
    "duplicates_genre = ['hip', 'hop', 'hip-hop']                # список неправильных имён\n",
    "correct_genre_name = 'hiphop'                               # правильное имя\n",
    "replace_wrong_genres(duplicates_genre,correct_genre_name)   # вызов функции, replace() внутри будет вызван 3 раза"
   ]
  },
  {
   "cell_type": "code",
   "execution_count": 17,
   "metadata": {
    "id": "wvixALnFG15m"
   },
   "outputs": [
    {
     "data": {
      "text/plain": [
       "array(['acid', 'acoustic', 'action', 'adult', 'africa', 'afrikaans',\n",
       "       'alternative', 'alternativepunk', 'ambient', 'americana',\n",
       "       'animated', 'anime', 'arabesk', 'arabic', 'arena',\n",
       "       'argentinetango', 'art', 'audiobook', 'author', 'avantgarde',\n",
       "       'axé', 'baile', 'balkan', 'beats', 'bigroom', 'black', 'bluegrass',\n",
       "       'blues', 'bollywood', 'bossa', 'brazilian', 'breakbeat', 'breaks',\n",
       "       'broadway', 'cantautori', 'cantopop', 'canzone', 'caribbean',\n",
       "       'caucasian', 'celtic', 'chamber', 'chanson', 'children', 'chill',\n",
       "       'chinese', 'choral', 'christian', 'christmas', 'classical',\n",
       "       'classicmetal', 'club', 'colombian', 'comedy', 'conjazz',\n",
       "       'contemporary', 'country', 'cuban', 'dance', 'dancehall',\n",
       "       'dancepop', 'dark', 'death', 'deep', 'deutschrock', 'deutschspr',\n",
       "       'dirty', 'disco', 'dnb', 'documentary', 'downbeat', 'downtempo',\n",
       "       'drum', 'dub', 'dubstep', 'eastern', 'easy', 'electronic',\n",
       "       'electropop', 'emo', 'entehno', 'epicmetal', 'estrada', 'ethnic',\n",
       "       'eurofolk', 'european', 'experimental', 'extrememetal', 'fado',\n",
       "       'fairytail', 'film', 'fitness', 'flamenco', 'folk', 'folklore',\n",
       "       'folkmetal', 'folkrock', 'folktronica', 'forró', 'frankreich',\n",
       "       'französisch', 'french', 'funk', 'future', 'gangsta', 'garage',\n",
       "       'german', 'ghazal', 'gitarre', 'glitch', 'gospel', 'gothic',\n",
       "       'grime', 'grunge', 'gypsy', 'handsup', \"hard'n'heavy\", 'hardcore',\n",
       "       'hardstyle', 'hardtechno', 'hiphop', 'historisch', 'holiday',\n",
       "       'horror', 'house', 'hymn', 'idm', 'independent', 'indian', 'indie',\n",
       "       'indipop', 'industrial', 'inspirational', 'instrumental',\n",
       "       'international', 'irish', 'jam', 'japanese', 'jazz', 'jewish',\n",
       "       'jpop', 'jungle', 'k-pop', 'karadeniz', 'karaoke', 'kayokyoku',\n",
       "       'korean', 'laiko', 'latin', 'latino', 'leftfield', 'local',\n",
       "       'lounge', 'loungeelectronic', 'lovers', 'malaysian', 'mandopop',\n",
       "       'marschmusik', 'meditative', 'mediterranean', 'melodic', 'metal',\n",
       "       'metalcore', 'mexican', 'middle', 'minimal', 'miscellaneous',\n",
       "       'modern', 'mood', 'mpb', 'muslim', 'native', 'neoklassik', 'neue',\n",
       "       'new', 'newage', 'newwave', 'nu', 'nujazz', 'numetal', 'oceania',\n",
       "       'old', 'opera', 'orchestral', 'other', 'piano', 'podcasts', 'pop',\n",
       "       'popdance', 'popelectronic', 'popeurodance', 'poprussian', 'post',\n",
       "       'posthardcore', 'postrock', 'power', 'progmetal', 'progressive',\n",
       "       'psychedelic', 'punjabi', 'punk', 'quebecois', 'ragga', 'ram',\n",
       "       'rancheras', 'rap', 'rave', 'reggae', 'reggaeton', 'regional',\n",
       "       'relax', 'religious', 'retro', 'rhythm', 'rnb', 'rnr', 'rock',\n",
       "       'rockabilly', 'rockalternative', 'rockindie', 'rockother',\n",
       "       'romance', 'roots', 'ruspop', 'rusrap', 'rusrock', 'russian',\n",
       "       'salsa', 'samba', 'scenic', 'schlager', 'self', 'sertanejo',\n",
       "       'shanson', 'shoegazing', 'showtunes', 'singer', 'ska', 'skarock',\n",
       "       'slow', 'smooth', 'soft', 'soul', 'soulful', 'sound', 'soundtrack',\n",
       "       'southern', 'specialty', 'speech', 'spiritual', 'sport',\n",
       "       'stonerrock', 'surf', 'swing', 'synthpop', 'synthrock',\n",
       "       'sängerportrait', 'tango', 'tanzorchester', 'taraftar', 'tatar',\n",
       "       'tech', 'techno', 'teen', 'thrash', 'top', 'traditional',\n",
       "       'tradjazz', 'trance', 'tribal', 'trip', 'triphop', 'tropical',\n",
       "       'türk', 'türkçe', 'ukrrock', 'urban', 'uzbek', 'variété', 'vi',\n",
       "       'videogame', 'vocal', 'western', 'world', 'worldbeat', 'ïîï',\n",
       "       'электроника', nan], dtype=object)"
      ]
     },
     "execution_count": 17,
     "metadata": {},
     "output_type": "execute_result"
    }
   ],
   "source": [
    "# Проверка на неявные дубликаты\n",
    "df['genre'].sort_values().unique()"
   ]
  },
  {
   "cell_type": "markdown",
   "metadata": {
    "id": "jz6a9-7HQUDd"
   },
   "source": [
    "**Выводы**\n",
    "\n",
    "Предобработка обнаружила три проблемы в данных:\n",
    "\n",
    "- нарушения в стиле заголовков,\n",
    "- пропущенные значения,\n",
    "- дубликаты — явные и неявные.\n",
    "\n",
    "Пропущенные значения вы заменили на `'unknown'`. "
   ]
  },
  {
   "cell_type": "markdown",
   "metadata": {
    "id": "WttZHXH0SqKk"
   },
   "source": [
    "## Проверка гипотез"
   ]
  },
  {
   "cell_type": "markdown",
   "metadata": {
    "id": "Im936VVi_Zcu"
   },
   "source": [
    "### Сравнение поведения пользователей двух столиц"
   ]
  },
  {
   "cell_type": "markdown",
   "metadata": {
    "id": "nwt_MuaL_Zcu"
   },
   "source": [
    "Первая гипотеза утверждает, что пользователи по-разному слушают музыку в Москве и Санкт-Петербурге. Проверим это предположение по данным о трёх днях недели — понедельнике, среде и пятнице. Для этого:\n",
    "\n",
    "* Разделите пользователей Москвы и Санкт-Петербурга\n",
    "* Сравните, сколько треков послушала каждая группа пользователей в понедельник, среду и пятницу.\n"
   ]
  },
  {
   "cell_type": "code",
   "execution_count": 18,
   "metadata": {
    "id": "0_Qs96oh_Zcu"
   },
   "outputs": [
    {
     "data": {
      "text/plain": [
       "city\n",
       "Moscow              41952\n",
       "Saint-Petersburg    18146\n",
       "Name: track, dtype: int64"
      ]
     },
     "execution_count": 18,
     "metadata": {},
     "output_type": "execute_result"
    }
   ],
   "source": [
    "# Подсчёт прослушиваний в каждом городе\n",
    "df.groupby('city')['track'].count()"
   ]
  },
  {
   "cell_type": "code",
   "execution_count": 19,
   "metadata": {
    "id": "uZMKjiJz_Zcu"
   },
   "outputs": [
    {
     "data": {
      "text/plain": [
       "day\n",
       "Friday       21512\n",
       "Monday       20828\n",
       "Wednesday    17758\n",
       "Name: track, dtype: int64"
      ]
     },
     "execution_count": 19,
     "metadata": {},
     "output_type": "execute_result"
    }
   ],
   "source": [
    "# Подсчёт прослушиваний в каждый из трёх дней\n",
    "df.groupby('day')['track'].count()"
   ]
  },
  {
   "cell_type": "markdown",
   "metadata": {
    "id": "cC2tNrlL_Zcu"
   },
   "source": [
    "В среднем пользователи из двух городов менее активны по средам. Но картина может измениться, если рассмотреть каждый город в отдельности."
   ]
  },
  {
   "cell_type": "code",
   "execution_count": 20,
   "metadata": {
    "id": "Nz3GdQB1_Zcu"
   },
   "outputs": [],
   "source": [
    "# <создание функции number_tracks()>\n",
    "# Объявляется функция с двумя параметрами: day, city.\n",
    "def number_tracks(day,city):\n",
    "    # В переменной track_list сохраняются те строки таблицы df, для которых\n",
    "    # значение в столбце 'day' равно параметру day и одновременно значение\n",
    "    track_list = df[df['day'] == day]\n",
    "    # в столбце 'city' равно параметру city (используйте последовательную фильтраци\n",
    "    # с помощью логической индексации).\n",
    "    track_list = track_list[track_list['city'] == city]            \n",
    "    # В переменной track_list_count сохраняется число значений столбца 'user_id',\n",
    "    # рассчитанное методом count() для таблицы track_list.\n",
    "    track_list_count = track_list['user_id'].count()\n",
    "    # Функция возвращает число - значение track_list_count.\n",
    "    return track_list_count                                    \n",
    "\n",
    "# Функция для подсчёта прослушиваний для конкретного города и дня.\n",
    "# С помощью последовательной фильтрации с логической индексацией она \n",
    "# сначала получит из исходной таблицы строки с нужным днём,\n",
    "# затем из результата отфильтрует строки с нужным городом,\n",
    "# методом count() посчитает количество значений в колонке user_id. \n",
    "# Это количество функция вернёт в качестве результата"
   ]
  },
  {
   "cell_type": "code",
   "execution_count": 21,
   "metadata": {
    "id": "rJcRATNQ_Zcu"
   },
   "outputs": [
    {
     "name": "stdout",
     "output_type": "stream",
     "text": [
      "Количество прослушиваний в Москве в понедельник: 15740\n"
     ]
    }
   ],
   "source": [
    "# количество прослушиваний в Москве по понедельникам\n",
    "print('Количество прослушиваний в Москве в понедельник:',number_tracks('Monday','Moscow'))"
   ]
  },
  {
   "cell_type": "code",
   "execution_count": 22,
   "metadata": {
    "id": "hq_ncZ5T_Zcu"
   },
   "outputs": [
    {
     "name": "stdout",
     "output_type": "stream",
     "text": [
      "Количество прослушиваний в Санкт-Петербурге в понедельник: 5614\n"
     ]
    }
   ],
   "source": [
    "# количество прослушиваний в Санкт-Петербурге по понедельникам\n",
    "print('Количество прослушиваний в Санкт-Петербурге в понедельник:',number_tracks('Monday','Saint-Petersburg'))"
   ]
  },
  {
   "cell_type": "code",
   "execution_count": 23,
   "metadata": {
    "id": "_NTy2VPU_Zcu"
   },
   "outputs": [
    {
     "name": "stdout",
     "output_type": "stream",
     "text": [
      "Количество прослушиваний в Москве в среду: 11056\n"
     ]
    }
   ],
   "source": [
    "# количество прослушиваний в Москве по средам\n",
    "print('Количество прослушиваний в Москве в среду:',number_tracks('Wednesday','Moscow'))"
   ]
  },
  {
   "cell_type": "code",
   "execution_count": 24,
   "metadata": {
    "id": "j2y3TAwo_Zcu"
   },
   "outputs": [
    {
     "name": "stdout",
     "output_type": "stream",
     "text": [
      "Количество прослушиваний в Санкт-Петербурге в среду: 7003\n"
     ]
    }
   ],
   "source": [
    "# количество прослушиваний в Санкт-Петербурге по средам\n",
    "print('Количество прослушиваний в Санкт-Петербурге в среду:',number_tracks('Wednesday', 'Saint-Petersburg'))"
   ]
  },
  {
   "cell_type": "code",
   "execution_count": 25,
   "metadata": {
    "id": "vYDw5u_K_Zcu"
   },
   "outputs": [
    {
     "name": "stdout",
     "output_type": "stream",
     "text": [
      "Количество прослушиваний в Москве в пятницу: 15945\n"
     ]
    }
   ],
   "source": [
    "# количество прослушиваний в Москве по пятницам\n",
    "print('Количество прослушиваний в Москве в пятницу:',number_tracks('Friday', 'Moscow'))"
   ]
  },
  {
   "cell_type": "code",
   "execution_count": 26,
   "metadata": {
    "id": "8_yzFtW3_Zcu"
   },
   "outputs": [
    {
     "name": "stdout",
     "output_type": "stream",
     "text": [
      "Количество прослушиваний в Санкт-Петербурге в пятницу: 5895\n"
     ]
    }
   ],
   "source": [
    "# количество прослушиваний в Санкт-Петербурге по пятницам\n",
    "print('Количество прослушиваний в Санкт-Петербурге в пятницу:',number_tracks('Friday', 'Saint-Petersburg'))"
   ]
  },
  {
   "cell_type": "code",
   "execution_count": 27,
   "metadata": {
    "id": "APAcLpOr_Zcu"
   },
   "outputs": [
    {
     "data": {
      "text/html": [
       "<div>\n",
       "<style scoped>\n",
       "    .dataframe tbody tr th:only-of-type {\n",
       "        vertical-align: middle;\n",
       "    }\n",
       "\n",
       "    .dataframe tbody tr th {\n",
       "        vertical-align: top;\n",
       "    }\n",
       "\n",
       "    .dataframe thead th {\n",
       "        text-align: right;\n",
       "    }\n",
       "</style>\n",
       "<table border=\"1\" class=\"dataframe\">\n",
       "  <thead>\n",
       "    <tr style=\"text-align: right;\">\n",
       "      <th></th>\n",
       "      <th>city</th>\n",
       "      <th>monday</th>\n",
       "      <th>wednesday</th>\n",
       "      <th>friday</th>\n",
       "    </tr>\n",
       "  </thead>\n",
       "  <tbody>\n",
       "    <tr>\n",
       "      <th>0</th>\n",
       "      <td>Moscow</td>\n",
       "      <td>15740</td>\n",
       "      <td>11056</td>\n",
       "      <td>15945</td>\n",
       "    </tr>\n",
       "    <tr>\n",
       "      <th>1</th>\n",
       "      <td>Saint-Petersburg</td>\n",
       "      <td>5614</td>\n",
       "      <td>7003</td>\n",
       "      <td>5895</td>\n",
       "    </tr>\n",
       "  </tbody>\n",
       "</table>\n",
       "</div>"
      ],
      "text/plain": [
       "               city  monday  wednesday  friday\n",
       "0            Moscow   15740      11056   15945\n",
       "1  Saint-Petersburg    5614       7003    5895"
      ]
     },
     "execution_count": 27,
     "metadata": {},
     "output_type": "execute_result"
    }
   ],
   "source": [
    "# Таблица с результатами\n",
    "data = [\n",
    "    ['Moscow', \n",
    "     number_tracks('Monday','Moscow'), \n",
    "     number_tracks('Wednesday','Moscow'), \n",
    "     number_tracks('Friday', 'Moscow')],\n",
    "    ['Saint-Petersburg',\n",
    "     number_tracks('Monday','Saint-Petersburg'),\n",
    "     number_tracks('Wednesday', 'Saint-Petersburg'),\n",
    "     number_tracks('Friday', 'Saint-Petersburg')]\n",
    "]\n",
    "\n",
    "columns = ['city', 'monday', 'wednesday', 'friday']\n",
    "table = pd.DataFrame(data = data, columns = columns)\n",
    "table"
   ]
  },
  {
   "cell_type": "markdown",
   "metadata": {
    "id": "-EgPIHYu_Zcu"
   },
   "source": [
    "**Выводы**\n",
    "\n",
    "Данные показывают разницу поведения пользователей:\n",
    "\n",
    "- В Москве пик прослушиваний приходится на понедельник и пятницу, а в среду заметен спад.\n",
    "- В Петербурге, наоборот, больше слушают музыку по средам. Активность в понедельник и пятницу здесь почти в равной мере уступает среде.\n",
    "\n",
    "Значит, данные говорят в пользу первой гипотезы."
   ]
  },
  {
   "cell_type": "markdown",
   "metadata": {
    "id": "atZAxtq4_Zcu"
   },
   "source": [
    "### Музыка в начале и в конце недели"
   ]
  },
  {
   "cell_type": "markdown",
   "metadata": {
    "id": "eXrQqXFH_Zcu"
   },
   "source": [
    "Согласно второй гипотезе, утром в понедельник в Москве преобладают одни жанры, а в Петербурге — другие. Так же и вечером пятницы преобладают разные жанры — в зависимости от города."
   ]
  },
  {
   "cell_type": "code",
   "execution_count": 28,
   "metadata": {
    "id": "qeaFfM_P_Zcu"
   },
   "outputs": [],
   "source": [
    "# получение таблицы moscow_general из тех строк таблицы df, \n",
    "# для которых значение в столбце 'city' равно 'Moscow'\n",
    "moscow_general = df[df['city'] == 'Moscow']"
   ]
  },
  {
   "cell_type": "code",
   "execution_count": 29,
   "metadata": {
    "id": "ORaVRKto_Zcu"
   },
   "outputs": [],
   "source": [
    "# получение таблицы spb_general из тех строк таблицы df,\n",
    "# для которых значение в столбце 'city' равно 'Saint-Petersburg'\n",
    "spb_general = df[df['city'] == 'Saint-Petersburg']"
   ]
  },
  {
   "cell_type": "code",
   "execution_count": 30,
   "metadata": {
    "id": "laJT9BYl_Zcu"
   },
   "outputs": [],
   "source": [
    "# Объявление функции genre_weekday() с параметрами table, day, time1, time2,\n",
    "# которая возвращает информацию о самых популярных жанрах в указанный день в\n",
    "# заданное время:\n",
    "def genre_weekday(table, day, time1, time2):\n",
    "# 1) в переменную genre_df сохраняются те строки переданного датафрейма table, для\n",
    "#    которых одновременно:\n",
    "#    - значение в столбце day равно значению аргумента day\n",
    "#    - значение в столбце time больше значения аргумента time1\n",
    "#    - значение в столбце time меньше значения аргумента time2\n",
    "#    Используйте последовательную фильтрацию с помощью логической индексации.\n",
    "    genre_df =table[table['day'] == day]\n",
    "    genre_df = genre_df[genre_df['time'] > time1]\n",
    "    genre_df = genre_df[genre_df['time'] < time2]\n",
    "# 2) сгруппировать датафрейм genre_df по столбцу genre, взять один из его\n",
    "#    столбцов и посчитать методом count() количество записей для каждого из\n",
    "#    присутствующих жанров, получившийся Series записать в переменную\n",
    "#    genre_df_count\n",
    "    genre_df_count = genre_df.groupby('genre')['track'].count()\n",
    "# 3) отсортировать genre_df_count по убыванию встречаемости и сохранить\n",
    "#    в переменную genre_df_sorted\n",
    "    genre_df_sorted = genre_df_count.sort_values(ascending=False)    \n",
    "# 4) вернуть Series из 10 первых значений genre_df_sorted, это будут топ-10\n",
    "#    популярных жанров (в указанный день, в заданное время)\n",
    "    return genre_df_sorted.head(10)"
   ]
  },
  {
   "cell_type": "code",
   "execution_count": 31,
   "metadata": {
    "id": "yz7itPUQ_Zcu"
   },
   "outputs": [
    {
     "data": {
      "text/plain": [
       "genre\n",
       "pop            773\n",
       "dance          544\n",
       "electronic     480\n",
       "rock           468\n",
       "hiphop         285\n",
       "ruspop         186\n",
       "world          180\n",
       "rusrap         175\n",
       "alternative    163\n",
       "classical      156\n",
       "Name: track, dtype: int64"
      ]
     },
     "execution_count": 31,
     "metadata": {},
     "output_type": "execute_result"
    }
   ],
   "source": [
    "# вызов функции для утра понедельника в Москве (вместо df — таблица moscow_general)\n",
    "# объекты, хранящие время, являются строками и сравниваются как строки\n",
    "# пример вызова: genre_weekday(moscow_general, 'Monday', '07:00', '11:00')\n",
    "genre_weekday(moscow_general, 'Monday', '07:00', '11:00')"
   ]
  },
  {
   "cell_type": "code",
   "execution_count": 32,
   "metadata": {
    "id": "kwUcHPdy_Zcu"
   },
   "outputs": [
    {
     "data": {
      "text/plain": [
       "genre\n",
       "pop            208\n",
       "dance          179\n",
       "rock           158\n",
       "electronic     147\n",
       "hiphop          80\n",
       "ruspop          64\n",
       "alternative     56\n",
       "rusrap          55\n",
       "classical       39\n",
       "jazz            38\n",
       "Name: track, dtype: int64"
      ]
     },
     "execution_count": 32,
     "metadata": {},
     "output_type": "execute_result"
    }
   ],
   "source": [
    "# вызов функции для утра понедельника в Петербурге (вместо df — таблица spb_general)\n",
    "genre_weekday(spb_general, 'Monday', '07:00', '11:00')"
   ]
  },
  {
   "cell_type": "code",
   "execution_count": 33,
   "metadata": {
    "id": "EzXVRE1o_Zcu"
   },
   "outputs": [
    {
     "data": {
      "text/plain": [
       "genre\n",
       "pop            704\n",
       "rock           512\n",
       "dance          493\n",
       "electronic     482\n",
       "hiphop         269\n",
       "world          208\n",
       "ruspop         170\n",
       "classical      163\n",
       "alternative    161\n",
       "rusrap         142\n",
       "Name: track, dtype: int64"
      ]
     },
     "execution_count": 33,
     "metadata": {},
     "output_type": "execute_result"
    }
   ],
   "source": [
    "# вызов функции для вечера пятницы в Москве\n",
    "genre_weekday(moscow_general, 'Friday', '17:00', '23:00')"
   ]
  },
  {
   "cell_type": "code",
   "execution_count": 34,
   "metadata": {
    "id": "JZaEKu5v_Zcu"
   },
   "outputs": [
    {
     "data": {
      "text/plain": [
       "genre\n",
       "pop            254\n",
       "electronic     216\n",
       "rock           215\n",
       "dance          210\n",
       "hiphop          96\n",
       "alternative     63\n",
       "classical       60\n",
       "rusrap          59\n",
       "jazz            59\n",
       "world           54\n",
       "Name: track, dtype: int64"
      ]
     },
     "execution_count": 34,
     "metadata": {},
     "output_type": "execute_result"
    }
   ],
   "source": [
    "# вызов функции для вечера пятницы в Петербурге\n",
    "genre_weekday(spb_general, 'Friday', '17:00', '23:00')"
   ]
  },
  {
   "cell_type": "markdown",
   "metadata": {
    "id": "wrCe4MNX_Zcu"
   },
   "source": [
    "**Выводы**\n",
    "\n",
    "Если сравнить топ-10 жанров в понедельник утром, можно сделать такие выводы:\n",
    "\n",
    "1. В Москве и Петербурге слушают похожую музыку. Единственное отличие — в московский рейтинг вошёл жанр “world”, а в петербургский — джаз и классика.\n",
    "\n",
    "2. В Москве пропущенных значений оказалось так много, что значение `'unknown'` заняло десятое место среди самых популярных жанров. Значит, пропущенные значения занимают существенную долю в данных и угрожают достоверности исследования.\n",
    "\n",
    "Вечер пятницы не меняет эту картину. Некоторые жанры поднимаются немного выше, другие спускаются, но в целом топ-10 остаётся тем же самым.\n",
    "\n",
    "Таким образом, вторая гипотеза подтвердилась лишь частично:\n",
    "* Пользователи слушают похожую музыку в начале недели и в конце.\n",
    "* Разница между Москвой и Петербургом не слишком выражена. В Москве чаще слушают русскую популярную музыку, в Петербурге — джаз.\n",
    "\n",
    "Однако пропуски в данных ставят под сомнение этот результат. В Москве их так много, что рейтинг топ-10 мог бы выглядеть иначе, если бы не утерянные  данные о жанрах."
   ]
  },
  {
   "cell_type": "markdown",
   "metadata": {
    "id": "JolODAqr_Zcu"
   },
   "source": [
    "### Жанровые предпочтения в Москве и Петербурге\n",
    "\n",
    "Гипотеза: Петербург — столица рэпа, музыку этого жанра там слушают чаще, чем в Москве.  А Москва — город контрастов, в котором, тем не менее, преобладает поп-музыка."
   ]
  },
  {
   "cell_type": "code",
   "execution_count": 35,
   "metadata": {
    "id": "r19lIPke_Zcu"
   },
   "outputs": [],
   "source": [
    "# одной строкой: группировка таблицы moscow_general по столбцу 'genre', \n",
    "# подсчёт числа значений 'genre' в этой группировке методом count(), \n",
    "# сортировка получившегося Series в порядке убывания и сохранение в moscow_genres\n",
    "moscow_genres = moscow_general.groupby('genre')['genre'].count().sort_values(ascending=False)"
   ]
  },
  {
   "cell_type": "code",
   "execution_count": 36,
   "metadata": {
    "id": "WhCSooF8_Zcv"
   },
   "outputs": [
    {
     "data": {
      "text/plain": [
       "genre\n",
       "pop            5892\n",
       "dance          4435\n",
       "rock           3965\n",
       "electronic     3786\n",
       "hiphop         2096\n",
       "classical      1616\n",
       "world          1432\n",
       "alternative    1379\n",
       "ruspop         1372\n",
       "rusrap         1161\n",
       "Name: genre, dtype: int64"
      ]
     },
     "execution_count": 36,
     "metadata": {},
     "output_type": "execute_result"
    }
   ],
   "source": [
    "# просмотр первых 10 строк moscow_genres\n",
    "moscow_genres.head(10)"
   ]
  },
  {
   "cell_type": "code",
   "execution_count": 37,
   "metadata": {
    "id": "gluLIpE7_Zcv"
   },
   "outputs": [],
   "source": [
    "# одной строкой: группировка таблицы spb_general по столбцу 'genre', \n",
    "# подсчёт числа значений 'genre' в этой группировке методом count(), \n",
    "# сортировка получившегося Series в порядке убывания и сохранение в spb_genres\n",
    "spb_genres = spb_general.groupby('genre')['genre'].count().sort_values(ascending=False)"
   ]
  },
  {
   "cell_type": "code",
   "execution_count": 38,
   "metadata": {
    "id": "uaGJHjVU_Zcv"
   },
   "outputs": [
    {
     "data": {
      "text/plain": [
       "genre\n",
       "pop            2431\n",
       "dance          1932\n",
       "rock           1879\n",
       "electronic     1736\n",
       "hiphop          960\n",
       "alternative     649\n",
       "classical       646\n",
       "rusrap          564\n",
       "ruspop          538\n",
       "world           515\n",
       "Name: genre, dtype: int64"
      ]
     },
     "execution_count": 38,
     "metadata": {},
     "output_type": "execute_result"
    }
   ],
   "source": [
    "# просмотр первых 10 строк spb_genres\n",
    "spb_genres.head(10)"
   ]
  },
  {
   "cell_type": "markdown",
   "metadata": {
    "id": "RY51YJYu_Zcv"
   },
   "source": [
    "**Выводы**"
   ]
  },
  {
   "cell_type": "markdown",
   "metadata": {
    "id": "nVhnJEm__Zcv"
   },
   "source": [
    "Гипотеза частично подтвердилась:\n",
    "* Поп-музыка — самый популярный жанр в Москве, как и предполагала гипотеза. Более того, в топ-10 жанров встречается близкий жанр — русская популярная музыка.\n",
    "* Вопреки ожиданиям, рэп одинаково популярен в Москве и Петербурге. \n"
   ]
  },
  {
   "cell_type": "markdown",
   "metadata": {
    "id": "ykKQ0N65_Zcv"
   },
   "source": [
    "## Итоги исследования"
   ]
  },
  {
   "cell_type": "markdown",
   "metadata": {
    "id": "tjUwbHb3_Zcv"
   },
   "source": [
    "Проверили три гипотезы и установили:\n",
    "\n",
    "1. День недели по-разному влияет на активность пользователей в Москве и Петербурге. \n",
    "\n",
    "Первая гипотеза полностью подтвердилась.\n",
    "\n",
    "2. Музыкальные предпочтения не сильно меняются в течение недели — будь то Москва или Петербург. Небольшие различия заметны в начале недели, по понедельникам:\n",
    "* в Москве слушают музыку жанра “world”,\n",
    "* в Петербурге — джаз и классику.\n",
    "\n",
    "Таким образом, вторая гипотеза подтвердилась лишь отчасти. Этот результат мог оказаться иным, если бы не пропуски в данных.\n",
    "\n",
    "3. Во вкусах пользователей Москвы и Петербурга больше общего чем различий. Вопреки ожиданиям, предпочтения жанров в Петербурге напоминают московские.\n",
    "\n",
    "Третья гипотеза не подтвердилась. Если различия в предпочтениях и существуют, на основной массе пользователей они незаметны."
   ]
  }
 ],
 "metadata": {
  "ExecuteTimeLog": [
   {
    "duration": 632,
    "start_time": "2021-11-06T18:11:50.651Z"
   },
   {
    "duration": 286,
    "start_time": "2021-11-06T18:13:13.502Z"
   },
   {
    "duration": 3,
    "start_time": "2021-11-06T18:13:37.216Z"
   },
   {
    "duration": 89,
    "start_time": "2021-11-06T18:13:45.109Z"
   },
   {
    "duration": 145,
    "start_time": "2021-11-06T18:15:40.344Z"
   },
   {
    "duration": 16,
    "start_time": "2021-11-06T18:15:55.816Z"
   },
   {
    "duration": 25,
    "start_time": "2021-11-06T18:21:52.923Z"
   },
   {
    "duration": 5,
    "start_time": "2021-11-06T18:55:20.935Z"
   },
   {
    "duration": 31,
    "start_time": "2021-11-06T19:01:52.915Z"
   },
   {
    "duration": 4,
    "start_time": "2021-11-06T19:02:08.495Z"
   },
   {
    "duration": 39,
    "start_time": "2021-11-06T19:05:04.492Z"
   },
   {
    "duration": 35,
    "start_time": "2021-11-06T19:40:19.858Z"
   },
   {
    "duration": 25,
    "start_time": "2021-11-06T19:40:36.675Z"
   },
   {
    "duration": 72,
    "start_time": "2021-11-06T19:48:29.632Z"
   },
   {
    "duration": 188,
    "start_time": "2021-11-06T19:48:35.386Z"
   },
   {
    "duration": 34,
    "start_time": "2021-11-06T19:48:38.357Z"
   },
   {
    "duration": 57,
    "start_time": "2021-11-06T20:36:36.151Z"
   },
   {
    "duration": 73,
    "start_time": "2021-11-06T20:38:52.281Z"
   },
   {
    "duration": 49,
    "start_time": "2021-11-06T20:39:21.139Z"
   },
   {
    "duration": 42,
    "start_time": "2021-11-06T20:50:50.061Z"
   },
   {
    "duration": 3,
    "start_time": "2021-11-06T23:46:27.507Z"
   },
   {
    "duration": 10,
    "start_time": "2021-11-06T23:47:59.456Z"
   },
   {
    "duration": 68,
    "start_time": "2021-11-06T23:49:24.754Z"
   },
   {
    "duration": 2235,
    "start_time": "2021-11-07T00:02:05.635Z"
   },
   {
    "duration": 11,
    "start_time": "2021-11-07T00:03:16.495Z"
   },
   {
    "duration": 11,
    "start_time": "2021-11-07T00:06:08.788Z"
   },
   {
    "duration": 4,
    "start_time": "2021-11-07T00:34:47.484Z"
   },
   {
    "duration": 24,
    "start_time": "2021-11-07T00:37:44.432Z"
   },
   {
    "duration": 18,
    "start_time": "2021-11-07T00:41:10.086Z"
   },
   {
    "duration": 18,
    "start_time": "2021-11-07T00:41:19.933Z"
   },
   {
    "duration": 16,
    "start_time": "2021-11-07T00:41:24.650Z"
   },
   {
    "duration": 20,
    "start_time": "2021-11-07T00:41:29.948Z"
   },
   {
    "duration": 16,
    "start_time": "2021-11-07T00:41:46.718Z"
   },
   {
    "duration": 5,
    "start_time": "2021-11-07T00:47:33.812Z"
   },
   {
    "duration": 13,
    "start_time": "2021-11-07T00:54:07.253Z"
   },
   {
    "duration": 11,
    "start_time": "2021-11-07T00:54:46.369Z"
   },
   {
    "duration": 4,
    "start_time": "2021-11-07T01:09:47.112Z"
   },
   {
    "duration": 15,
    "start_time": "2021-11-07T01:09:55.095Z"
   },
   {
    "duration": 11,
    "start_time": "2021-11-07T01:09:56.288Z"
   },
   {
    "duration": 4,
    "start_time": "2021-11-07T01:14:27.168Z"
   },
   {
    "duration": 14,
    "start_time": "2021-11-07T01:14:31.976Z"
   },
   {
    "duration": 11,
    "start_time": "2021-11-07T01:14:34.229Z"
   },
   {
    "duration": 250,
    "start_time": "2021-11-07T01:16:33.505Z"
   },
   {
    "duration": 4,
    "start_time": "2021-11-07T01:17:21.789Z"
   },
   {
    "duration": 6553,
    "start_time": "2021-11-07T01:17:26.550Z"
   },
   {
    "duration": 4,
    "start_time": "2021-11-07T01:21:24.821Z"
   },
   {
    "duration": 6372,
    "start_time": "2021-11-07T01:21:29.298Z"
   },
   {
    "duration": 4,
    "start_time": "2021-11-07T01:24:29.583Z"
   },
   {
    "duration": 6222,
    "start_time": "2021-11-07T01:24:33.189Z"
   },
   {
    "duration": 4,
    "start_time": "2021-11-07T01:24:58.129Z"
   },
   {
    "duration": 8687,
    "start_time": "2021-11-07T01:25:01.470Z"
   },
   {
    "duration": 5,
    "start_time": "2021-11-07T01:27:11.907Z"
   },
   {
    "duration": 4,
    "start_time": "2021-11-07T01:28:52.253Z"
   },
   {
    "duration": 3,
    "start_time": "2021-11-07T01:30:42.642Z"
   },
   {
    "duration": 6116,
    "start_time": "2021-11-07T01:30:45.656Z"
   },
   {
    "duration": 4,
    "start_time": "2021-11-07T01:32:51.620Z"
   },
   {
    "duration": 7383,
    "start_time": "2021-11-07T01:32:56.270Z"
   },
   {
    "duration": 3,
    "start_time": "2021-11-07T01:36:22.894Z"
   },
   {
    "duration": 3,
    "start_time": "2021-11-07T01:36:57.838Z"
   },
   {
    "duration": 6212,
    "start_time": "2021-11-07T01:37:17.515Z"
   },
   {
    "duration": 8,
    "start_time": "2021-11-07T01:41:27.859Z"
   },
   {
    "duration": 8,
    "start_time": "2021-11-07T01:41:41.341Z"
   },
   {
    "duration": 4,
    "start_time": "2021-11-07T01:46:36.289Z"
   },
   {
    "duration": 6206,
    "start_time": "2021-11-07T01:46:40.420Z"
   },
   {
    "duration": 9,
    "start_time": "2021-11-07T01:54:55.816Z"
   },
   {
    "duration": 5,
    "start_time": "2021-11-07T01:55:21.329Z"
   },
   {
    "duration": 9,
    "start_time": "2021-11-07T01:55:27.427Z"
   },
   {
    "duration": 12,
    "start_time": "2021-11-07T01:55:31.170Z"
   },
   {
    "duration": 11,
    "start_time": "2021-11-07T01:55:33.126Z"
   },
   {
    "duration": 4,
    "start_time": "2021-11-07T01:56:23.189Z"
   },
   {
    "duration": 6510,
    "start_time": "2021-11-07T01:56:25.700Z"
   },
   {
    "duration": 9,
    "start_time": "2021-11-07T01:59:37.422Z"
   },
   {
    "duration": 14,
    "start_time": "2021-11-07T01:59:44.125Z"
   },
   {
    "duration": 11,
    "start_time": "2021-11-07T01:59:45.836Z"
   },
   {
    "duration": 5,
    "start_time": "2021-11-07T01:59:50.134Z"
   },
   {
    "duration": 6047,
    "start_time": "2021-11-07T01:59:52.342Z"
   },
   {
    "duration": 4,
    "start_time": "2021-11-07T02:01:00.861Z"
   },
   {
    "duration": 6338,
    "start_time": "2021-11-07T02:01:03.710Z"
   },
   {
    "duration": 5,
    "start_time": "2021-11-07T02:01:39.935Z"
   },
   {
    "duration": 482,
    "start_time": "2021-11-07T02:01:50.342Z"
   },
   {
    "duration": 4,
    "start_time": "2021-11-07T02:06:41.505Z"
   },
   {
    "duration": 6367,
    "start_time": "2021-11-07T02:06:45.157Z"
   },
   {
    "duration": 4,
    "start_time": "2021-11-07T02:10:44.434Z"
   },
   {
    "duration": 20,
    "start_time": "2021-11-07T02:10:47.169Z"
   },
   {
    "duration": 15,
    "start_time": "2021-11-07T02:11:55.893Z"
   },
   {
    "duration": 20,
    "start_time": "2021-11-07T02:12:53.258Z"
   },
   {
    "duration": 16,
    "start_time": "2021-11-07T02:13:19.256Z"
   },
   {
    "duration": 9,
    "start_time": "2021-11-07T02:18:42.026Z"
   },
   {
    "duration": 4,
    "start_time": "2021-11-07T02:19:11.445Z"
   },
   {
    "duration": 6,
    "start_time": "2021-11-07T02:20:03.598Z"
   },
   {
    "duration": 4,
    "start_time": "2021-11-07T02:20:19.349Z"
   },
   {
    "duration": 399,
    "start_time": "2021-11-07T09:35:48.608Z"
   },
   {
    "duration": 337,
    "start_time": "2021-11-07T09:38:40.814Z"
   },
   {
    "duration": 357,
    "start_time": "2021-11-07T09:39:53.562Z"
   },
   {
    "duration": 3,
    "start_time": "2021-11-07T09:42:43.507Z"
   },
   {
    "duration": 2,
    "start_time": "2021-11-07T09:42:51.507Z"
   },
   {
    "duration": 386,
    "start_time": "2021-11-07T09:45:28.304Z"
   },
   {
    "duration": 346,
    "start_time": "2021-11-07T09:45:51.422Z"
   },
   {
    "duration": 340,
    "start_time": "2021-11-07T09:46:26.680Z"
   },
   {
    "duration": 620,
    "start_time": "2021-11-07T09:46:48.843Z"
   },
   {
    "duration": 147,
    "start_time": "2021-11-07T09:46:52.416Z"
   },
   {
    "duration": 19,
    "start_time": "2021-11-07T09:46:56.835Z"
   },
   {
    "duration": 26,
    "start_time": "2021-11-07T09:47:03.745Z"
   },
   {
    "duration": 4,
    "start_time": "2021-11-07T09:47:09.922Z"
   },
   {
    "duration": 21,
    "start_time": "2021-11-07T09:47:16.526Z"
   },
   {
    "duration": 3,
    "start_time": "2021-11-07T09:47:41.514Z"
   },
   {
    "duration": 170,
    "start_time": "2021-11-07T09:47:41.519Z"
   },
   {
    "duration": 21,
    "start_time": "2021-11-07T09:47:41.692Z"
   },
   {
    "duration": 27,
    "start_time": "2021-11-07T09:47:41.715Z"
   },
   {
    "duration": 5,
    "start_time": "2021-11-07T09:47:41.744Z"
   },
   {
    "duration": 20,
    "start_time": "2021-11-07T09:47:41.750Z"
   },
   {
    "duration": 35,
    "start_time": "2021-11-07T09:47:41.772Z"
   },
   {
    "duration": 24,
    "start_time": "2021-11-07T09:47:41.810Z"
   },
   {
    "duration": 3,
    "start_time": "2021-11-07T09:47:41.836Z"
   },
   {
    "duration": 25,
    "start_time": "2021-11-07T09:47:41.841Z"
   },
   {
    "duration": 83,
    "start_time": "2021-11-07T09:47:41.868Z"
   },
   {
    "duration": 70,
    "start_time": "2021-11-07T09:47:41.953Z"
   },
   {
    "duration": 53,
    "start_time": "2021-11-07T09:47:42.025Z"
   },
   {
    "duration": 54,
    "start_time": "2021-11-07T09:47:42.079Z"
   },
   {
    "duration": 7,
    "start_time": "2021-11-07T09:47:42.135Z"
   },
   {
    "duration": 15,
    "start_time": "2021-11-07T09:47:42.143Z"
   },
   {
    "duration": 56,
    "start_time": "2021-11-07T09:47:42.160Z"
   },
   {
    "duration": 11,
    "start_time": "2021-11-07T09:47:42.218Z"
   },
   {
    "duration": 12,
    "start_time": "2021-11-07T09:47:42.230Z"
   },
   {
    "duration": 7,
    "start_time": "2021-11-07T09:47:42.243Z"
   },
   {
    "duration": 28,
    "start_time": "2021-11-07T09:47:42.251Z"
   },
   {
    "duration": 31,
    "start_time": "2021-11-07T09:47:42.281Z"
   },
   {
    "duration": 26,
    "start_time": "2021-11-07T09:47:42.315Z"
   },
   {
    "duration": 14,
    "start_time": "2021-11-07T09:47:42.344Z"
   },
   {
    "duration": 18,
    "start_time": "2021-11-07T09:47:42.359Z"
   },
   {
    "duration": 37,
    "start_time": "2021-11-07T09:47:42.379Z"
   },
   {
    "duration": 16,
    "start_time": "2021-11-07T09:47:42.418Z"
   },
   {
    "duration": 17,
    "start_time": "2021-11-07T09:47:42.435Z"
   },
   {
    "duration": 9,
    "start_time": "2021-11-07T09:47:42.454Z"
   },
   {
    "duration": 14,
    "start_time": "2021-11-07T09:47:42.465Z"
   },
   {
    "duration": 33,
    "start_time": "2021-11-07T09:47:42.481Z"
   },
   {
    "duration": 14,
    "start_time": "2021-11-07T09:47:42.516Z"
   },
   {
    "duration": 20,
    "start_time": "2021-11-07T09:47:42.533Z"
   },
   {
    "duration": 13,
    "start_time": "2021-11-07T09:47:42.555Z"
   },
   {
    "duration": 41,
    "start_time": "2021-11-07T09:47:42.570Z"
   },
   {
    "duration": 7,
    "start_time": "2021-11-07T09:47:42.613Z"
   },
   {
    "duration": 18,
    "start_time": "2021-11-07T09:47:42.622Z"
   },
   {
    "duration": 6,
    "start_time": "2021-11-07T09:47:42.641Z"
   },
   {
    "duration": 59,
    "start_time": "2021-11-07T09:49:51.008Z"
   },
   {
    "duration": 53,
    "start_time": "2021-11-07T09:50:07.741Z"
   },
   {
    "duration": 54,
    "start_time": "2021-11-07T09:50:50.886Z"
   },
   {
    "duration": 55,
    "start_time": "2021-11-07T09:50:55.330Z"
   },
   {
    "duration": 660,
    "start_time": "2021-11-07T09:51:13.180Z"
   },
   {
    "duration": 148,
    "start_time": "2021-11-07T09:51:13.841Z"
   },
   {
    "duration": 22,
    "start_time": "2021-11-07T09:51:13.991Z"
   },
   {
    "duration": 27,
    "start_time": "2021-11-07T09:51:14.014Z"
   },
   {
    "duration": 3,
    "start_time": "2021-11-07T09:51:14.043Z"
   },
   {
    "duration": 22,
    "start_time": "2021-11-07T09:51:14.048Z"
   },
   {
    "duration": 4,
    "start_time": "2021-11-07T09:51:14.072Z"
   },
   {
    "duration": 50,
    "start_time": "2021-11-07T09:51:14.079Z"
   },
   {
    "duration": 2,
    "start_time": "2021-11-07T09:51:14.132Z"
   },
   {
    "duration": 25,
    "start_time": "2021-11-07T09:51:14.136Z"
   },
   {
    "duration": 85,
    "start_time": "2021-11-07T09:51:14.163Z"
   },
   {
    "duration": 79,
    "start_time": "2021-11-07T09:51:14.249Z"
   },
   {
    "duration": 54,
    "start_time": "2021-11-07T09:51:14.329Z"
   },
   {
    "duration": 55,
    "start_time": "2021-11-07T09:51:14.384Z"
   },
   {
    "duration": 3,
    "start_time": "2021-11-07T09:51:14.441Z"
   },
   {
    "duration": 17,
    "start_time": "2021-11-07T09:51:14.445Z"
   },
   {
    "duration": 54,
    "start_time": "2021-11-07T09:51:14.463Z"
   },
   {
    "duration": 11,
    "start_time": "2021-11-07T09:51:14.519Z"
   },
   {
    "duration": 12,
    "start_time": "2021-11-07T09:51:14.532Z"
   },
   {
    "duration": 4,
    "start_time": "2021-11-07T09:51:14.545Z"
   },
   {
    "duration": 22,
    "start_time": "2021-11-07T09:51:14.551Z"
   },
   {
    "duration": 42,
    "start_time": "2021-11-07T09:51:14.575Z"
   },
   {
    "duration": 17,
    "start_time": "2021-11-07T09:51:14.620Z"
   },
   {
    "duration": 14,
    "start_time": "2021-11-07T09:51:14.639Z"
   },
   {
    "duration": 16,
    "start_time": "2021-11-07T09:51:14.654Z"
   },
   {
    "duration": 39,
    "start_time": "2021-11-07T09:51:14.672Z"
   },
   {
    "duration": 9,
    "start_time": "2021-11-07T09:51:14.713Z"
   },
   {
    "duration": 13,
    "start_time": "2021-11-07T09:51:14.723Z"
   },
   {
    "duration": 9,
    "start_time": "2021-11-07T09:51:14.738Z"
   },
   {
    "duration": 5,
    "start_time": "2021-11-07T09:51:14.749Z"
   },
   {
    "duration": 55,
    "start_time": "2021-11-07T09:51:14.756Z"
   },
   {
    "duration": 14,
    "start_time": "2021-11-07T09:51:14.813Z"
   },
   {
    "duration": 18,
    "start_time": "2021-11-07T09:51:14.828Z"
   },
   {
    "duration": 13,
    "start_time": "2021-11-07T09:51:14.848Z"
   },
   {
    "duration": 9,
    "start_time": "2021-11-07T09:51:14.862Z"
   },
   {
    "duration": 37,
    "start_time": "2021-11-07T09:51:14.873Z"
   },
   {
    "duration": 8,
    "start_time": "2021-11-07T09:51:14.912Z"
   },
   {
    "duration": 8,
    "start_time": "2021-11-07T09:51:14.921Z"
   },
   {
    "duration": 2,
    "start_time": "2021-11-07T09:53:11.777Z"
   },
   {
    "duration": 164,
    "start_time": "2021-11-07T09:53:11.782Z"
   },
   {
    "duration": 12,
    "start_time": "2021-11-07T09:53:11.948Z"
   },
   {
    "duration": 28,
    "start_time": "2021-11-07T09:53:11.962Z"
   },
   {
    "duration": 17,
    "start_time": "2021-11-07T09:53:11.992Z"
   },
   {
    "duration": 15,
    "start_time": "2021-11-07T09:53:12.011Z"
   },
   {
    "duration": 4,
    "start_time": "2021-11-07T09:53:12.029Z"
   },
   {
    "duration": 26,
    "start_time": "2021-11-07T09:53:12.036Z"
   },
   {
    "duration": 3,
    "start_time": "2021-11-07T09:53:12.064Z"
   },
   {
    "duration": 58,
    "start_time": "2021-11-07T09:53:12.069Z"
   },
   {
    "duration": 77,
    "start_time": "2021-11-07T09:53:12.130Z"
   },
   {
    "duration": 64,
    "start_time": "2021-11-07T09:53:12.209Z"
   },
   {
    "duration": 70,
    "start_time": "2021-11-07T09:53:12.275Z"
   },
   {
    "duration": 59,
    "start_time": "2021-11-07T09:53:12.348Z"
   },
   {
    "duration": 3,
    "start_time": "2021-11-07T09:53:12.410Z"
   },
   {
    "duration": 772,
    "start_time": "2021-11-07T09:53:12.415Z"
   },
   {
    "duration": 127,
    "start_time": "2021-11-07T09:53:13.063Z"
   },
   {
    "duration": 129,
    "start_time": "2021-11-07T09:53:13.063Z"
   },
   {
    "duration": 130,
    "start_time": "2021-11-07T09:53:13.063Z"
   },
   {
    "duration": 132,
    "start_time": "2021-11-07T09:53:13.063Z"
   },
   {
    "duration": 123,
    "start_time": "2021-11-07T09:53:13.073Z"
   },
   {
    "duration": 123,
    "start_time": "2021-11-07T09:53:13.075Z"
   },
   {
    "duration": 123,
    "start_time": "2021-11-07T09:53:13.077Z"
   },
   {
    "duration": 122,
    "start_time": "2021-11-07T09:53:13.079Z"
   },
   {
    "duration": 122,
    "start_time": "2021-11-07T09:53:13.081Z"
   },
   {
    "duration": 123,
    "start_time": "2021-11-07T09:53:13.081Z"
   },
   {
    "duration": 125,
    "start_time": "2021-11-07T09:53:13.081Z"
   },
   {
    "duration": 126,
    "start_time": "2021-11-07T09:53:13.081Z"
   },
   {
    "duration": 128,
    "start_time": "2021-11-07T09:53:13.081Z"
   },
   {
    "duration": 120,
    "start_time": "2021-11-07T09:53:13.090Z"
   },
   {
    "duration": 116,
    "start_time": "2021-11-07T09:53:13.096Z"
   },
   {
    "duration": 117,
    "start_time": "2021-11-07T09:53:13.096Z"
   },
   {
    "duration": 119,
    "start_time": "2021-11-07T09:53:13.096Z"
   },
   {
    "duration": 120,
    "start_time": "2021-11-07T09:53:13.096Z"
   },
   {
    "duration": 122,
    "start_time": "2021-11-07T09:53:13.096Z"
   },
   {
    "duration": 124,
    "start_time": "2021-11-07T09:53:13.096Z"
   },
   {
    "duration": 125,
    "start_time": "2021-11-07T09:53:13.096Z"
   },
   {
    "duration": 112,
    "start_time": "2021-11-07T09:53:13.110Z"
   },
   {
    "duration": 3,
    "start_time": "2021-11-07T09:54:35.578Z"
   },
   {
    "duration": 174,
    "start_time": "2021-11-07T09:54:35.583Z"
   },
   {
    "duration": 11,
    "start_time": "2021-11-07T09:54:35.760Z"
   },
   {
    "duration": 38,
    "start_time": "2021-11-07T09:54:35.773Z"
   },
   {
    "duration": 12,
    "start_time": "2021-11-07T09:54:35.812Z"
   },
   {
    "duration": 18,
    "start_time": "2021-11-07T09:54:35.826Z"
   },
   {
    "duration": 7,
    "start_time": "2021-11-07T09:54:35.846Z"
   },
   {
    "duration": 35,
    "start_time": "2021-11-07T09:54:35.855Z"
   },
   {
    "duration": 10,
    "start_time": "2021-11-07T09:54:35.893Z"
   },
   {
    "duration": 41,
    "start_time": "2021-11-07T09:54:35.905Z"
   },
   {
    "duration": 71,
    "start_time": "2021-11-07T09:54:35.948Z"
   },
   {
    "duration": 68,
    "start_time": "2021-11-07T09:54:36.020Z"
   },
   {
    "duration": 66,
    "start_time": "2021-11-07T09:54:36.091Z"
   },
   {
    "duration": 52,
    "start_time": "2021-11-07T09:54:36.159Z"
   },
   {
    "duration": 17,
    "start_time": "2021-11-07T09:54:36.213Z"
   },
   {
    "duration": 729,
    "start_time": "2021-11-07T09:54:36.232Z"
   },
   {
    "duration": 140,
    "start_time": "2021-11-07T09:54:36.823Z"
   },
   {
    "duration": 128,
    "start_time": "2021-11-07T09:54:36.836Z"
   },
   {
    "duration": 129,
    "start_time": "2021-11-07T09:54:36.836Z"
   },
   {
    "duration": 130,
    "start_time": "2021-11-07T09:54:36.836Z"
   },
   {
    "duration": 131,
    "start_time": "2021-11-07T09:54:36.836Z"
   },
   {
    "duration": 132,
    "start_time": "2021-11-07T09:54:36.836Z"
   },
   {
    "duration": 121,
    "start_time": "2021-11-07T09:54:36.848Z"
   },
   {
    "duration": 120,
    "start_time": "2021-11-07T09:54:36.850Z"
   },
   {
    "duration": 117,
    "start_time": "2021-11-07T09:54:36.853Z"
   },
   {
    "duration": 118,
    "start_time": "2021-11-07T09:54:36.853Z"
   },
   {
    "duration": 119,
    "start_time": "2021-11-07T09:54:36.853Z"
   },
   {
    "duration": 120,
    "start_time": "2021-11-07T09:54:36.853Z"
   },
   {
    "duration": 121,
    "start_time": "2021-11-07T09:54:36.853Z"
   },
   {
    "duration": 112,
    "start_time": "2021-11-07T09:54:36.863Z"
   },
   {
    "duration": 111,
    "start_time": "2021-11-07T09:54:36.865Z"
   },
   {
    "duration": 110,
    "start_time": "2021-11-07T09:54:36.867Z"
   },
   {
    "duration": 110,
    "start_time": "2021-11-07T09:54:36.868Z"
   },
   {
    "duration": 108,
    "start_time": "2021-11-07T09:54:36.870Z"
   },
   {
    "duration": 109,
    "start_time": "2021-11-07T09:54:36.870Z"
   },
   {
    "duration": 110,
    "start_time": "2021-11-07T09:54:36.870Z"
   },
   {
    "duration": 111,
    "start_time": "2021-11-07T09:54:36.870Z"
   },
   {
    "duration": 112,
    "start_time": "2021-11-07T09:54:36.870Z"
   },
   {
    "duration": 664,
    "start_time": "2021-11-07T09:55:51.177Z"
   },
   {
    "duration": 142,
    "start_time": "2021-11-07T09:55:51.843Z"
   },
   {
    "duration": 16,
    "start_time": "2021-11-07T09:55:51.987Z"
   },
   {
    "duration": 27,
    "start_time": "2021-11-07T09:55:52.005Z"
   },
   {
    "duration": 4,
    "start_time": "2021-11-07T09:55:52.034Z"
   },
   {
    "duration": 21,
    "start_time": "2021-11-07T09:55:52.039Z"
   },
   {
    "duration": 4,
    "start_time": "2021-11-07T09:55:52.062Z"
   },
   {
    "duration": 48,
    "start_time": "2021-11-07T09:55:52.069Z"
   },
   {
    "duration": 4,
    "start_time": "2021-11-07T09:55:52.119Z"
   },
   {
    "duration": 30,
    "start_time": "2021-11-07T09:55:52.125Z"
   },
   {
    "duration": 72,
    "start_time": "2021-11-07T09:55:52.157Z"
   },
   {
    "duration": 84,
    "start_time": "2021-11-07T09:55:52.231Z"
   },
   {
    "duration": 58,
    "start_time": "2021-11-07T09:55:52.317Z"
   },
   {
    "duration": 57,
    "start_time": "2021-11-07T09:55:52.376Z"
   },
   {
    "duration": 3,
    "start_time": "2021-11-07T09:55:52.435Z"
   },
   {
    "duration": 23,
    "start_time": "2021-11-07T09:55:52.440Z"
   },
   {
    "duration": 52,
    "start_time": "2021-11-07T09:55:52.465Z"
   },
   {
    "duration": 12,
    "start_time": "2021-11-07T09:55:52.519Z"
   },
   {
    "duration": 15,
    "start_time": "2021-11-07T09:55:52.532Z"
   },
   {
    "duration": 10,
    "start_time": "2021-11-07T09:55:52.549Z"
   },
   {
    "duration": 37,
    "start_time": "2021-11-07T09:55:52.560Z"
   },
   {
    "duration": 25,
    "start_time": "2021-11-07T09:55:52.599Z"
   },
   {
    "duration": 26,
    "start_time": "2021-11-07T09:55:52.628Z"
   },
   {
    "duration": 19,
    "start_time": "2021-11-07T09:55:52.656Z"
   },
   {
    "duration": 32,
    "start_time": "2021-11-07T09:55:52.677Z"
   },
   {
    "duration": 18,
    "start_time": "2021-11-07T09:55:52.711Z"
   },
   {
    "duration": 9,
    "start_time": "2021-11-07T09:55:52.730Z"
   },
   {
    "duration": 17,
    "start_time": "2021-11-07T09:55:52.740Z"
   },
   {
    "duration": 11,
    "start_time": "2021-11-07T09:55:52.758Z"
   },
   {
    "duration": 4,
    "start_time": "2021-11-07T09:55:52.771Z"
   },
   {
    "duration": 22,
    "start_time": "2021-11-07T09:55:52.807Z"
   },
   {
    "duration": 14,
    "start_time": "2021-11-07T09:55:52.831Z"
   },
   {
    "duration": 19,
    "start_time": "2021-11-07T09:55:52.847Z"
   },
   {
    "duration": 41,
    "start_time": "2021-11-07T09:55:52.868Z"
   },
   {
    "duration": 9,
    "start_time": "2021-11-07T09:55:52.911Z"
   },
   {
    "duration": 7,
    "start_time": "2021-11-07T09:55:52.922Z"
   },
   {
    "duration": 8,
    "start_time": "2021-11-07T09:55:52.931Z"
   },
   {
    "duration": 8,
    "start_time": "2021-11-07T09:55:52.940Z"
   },
   {
    "duration": 417,
    "start_time": "2021-11-07T10:07:11.402Z"
   },
   {
    "duration": 9,
    "start_time": "2021-11-07T10:08:12.234Z"
   },
   {
    "duration": 79,
    "start_time": "2021-11-07T10:23:48.011Z"
   },
   {
    "duration": 658,
    "start_time": "2021-11-07T10:25:32.874Z"
   },
   {
    "duration": 143,
    "start_time": "2021-11-07T10:25:33.534Z"
   },
   {
    "duration": 17,
    "start_time": "2021-11-07T10:25:33.680Z"
   },
   {
    "duration": 35,
    "start_time": "2021-11-07T10:25:33.699Z"
   },
   {
    "duration": 5,
    "start_time": "2021-11-07T10:25:33.736Z"
   },
   {
    "duration": 30,
    "start_time": "2021-11-07T10:25:33.742Z"
   },
   {
    "duration": 7,
    "start_time": "2021-11-07T10:25:33.774Z"
   },
   {
    "duration": 31,
    "start_time": "2021-11-07T10:25:33.783Z"
   },
   {
    "duration": 8,
    "start_time": "2021-11-07T10:25:33.816Z"
   },
   {
    "duration": 27,
    "start_time": "2021-11-07T10:25:33.826Z"
   },
   {
    "duration": 73,
    "start_time": "2021-11-07T10:25:33.855Z"
   },
   {
    "duration": 82,
    "start_time": "2021-11-07T10:25:33.929Z"
   },
   {
    "duration": 56,
    "start_time": "2021-11-07T10:25:34.012Z"
   },
   {
    "duration": 55,
    "start_time": "2021-11-07T10:25:34.069Z"
   },
   {
    "duration": 3,
    "start_time": "2021-11-07T10:25:34.126Z"
   },
   {
    "duration": 14,
    "start_time": "2021-11-07T10:25:34.131Z"
   },
   {
    "duration": 63,
    "start_time": "2021-11-07T10:25:34.147Z"
   },
   {
    "duration": 13,
    "start_time": "2021-11-07T10:25:34.213Z"
   },
   {
    "duration": 12,
    "start_time": "2021-11-07T10:25:34.227Z"
   },
   {
    "duration": 4,
    "start_time": "2021-11-07T10:25:34.240Z"
   },
   {
    "duration": 27,
    "start_time": "2021-11-07T10:25:34.245Z"
   },
   {
    "duration": 39,
    "start_time": "2021-11-07T10:25:34.274Z"
   },
   {
    "duration": 14,
    "start_time": "2021-11-07T10:25:34.317Z"
   },
   {
    "duration": 14,
    "start_time": "2021-11-07T10:25:34.333Z"
   },
   {
    "duration": 15,
    "start_time": "2021-11-07T10:25:34.348Z"
   },
   {
    "duration": 44,
    "start_time": "2021-11-07T10:25:34.365Z"
   },
   {
    "duration": 72,
    "start_time": "2021-11-07T10:25:34.411Z"
   },
   {
    "duration": 25,
    "start_time": "2021-11-07T10:25:34.485Z"
   },
   {
    "duration": 11,
    "start_time": "2021-11-07T10:25:34.512Z"
   },
   {
    "duration": 4,
    "start_time": "2021-11-07T10:25:34.525Z"
   },
   {
    "duration": 25,
    "start_time": "2021-11-07T10:25:34.531Z"
   },
   {
    "duration": 14,
    "start_time": "2021-11-07T10:25:34.558Z"
   },
   {
    "duration": 47,
    "start_time": "2021-11-07T10:25:34.574Z"
   },
   {
    "duration": 13,
    "start_time": "2021-11-07T10:25:34.623Z"
   },
   {
    "duration": 9,
    "start_time": "2021-11-07T10:25:34.638Z"
   },
   {
    "duration": 8,
    "start_time": "2021-11-07T10:25:34.648Z"
   },
   {
    "duration": 7,
    "start_time": "2021-11-07T10:25:34.658Z"
   },
   {
    "duration": 41,
    "start_time": "2021-11-07T10:25:34.667Z"
   },
   {
    "duration": 431,
    "start_time": "2022-07-10T05:51:19.067Z"
   },
   {
    "duration": 549,
    "start_time": "2022-07-10T05:51:19.500Z"
   },
   {
    "duration": 19,
    "start_time": "2022-07-10T05:51:20.051Z"
   },
   {
    "duration": 31,
    "start_time": "2022-07-10T05:51:20.072Z"
   },
   {
    "duration": 13,
    "start_time": "2022-07-10T05:51:20.105Z"
   },
   {
    "duration": 13,
    "start_time": "2022-07-10T05:51:20.119Z"
   },
   {
    "duration": 10,
    "start_time": "2022-07-10T05:51:20.134Z"
   },
   {
    "duration": 27,
    "start_time": "2022-07-10T05:51:20.145Z"
   },
   {
    "duration": 5,
    "start_time": "2022-07-10T05:51:20.197Z"
   },
   {
    "duration": 39,
    "start_time": "2022-07-10T05:51:20.206Z"
   },
   {
    "duration": 95,
    "start_time": "2022-07-10T05:51:20.247Z"
   },
   {
    "duration": 101,
    "start_time": "2022-07-10T05:51:20.344Z"
   },
   {
    "duration": 82,
    "start_time": "2022-07-10T05:51:20.447Z"
   },
   {
    "duration": 41,
    "start_time": "2022-07-10T05:51:20.531Z"
   },
   {
    "duration": 3,
    "start_time": "2022-07-10T05:51:20.574Z"
   },
   {
    "duration": 16,
    "start_time": "2022-07-10T05:51:20.598Z"
   },
   {
    "duration": 77,
    "start_time": "2022-07-10T05:51:20.616Z"
   },
   {
    "duration": 25,
    "start_time": "2022-07-10T05:51:20.695Z"
   },
   {
    "duration": 16,
    "start_time": "2022-07-10T05:51:20.722Z"
   },
   {
    "duration": 4,
    "start_time": "2022-07-10T05:51:20.739Z"
   },
   {
    "duration": 25,
    "start_time": "2022-07-10T05:51:20.745Z"
   },
   {
    "duration": 29,
    "start_time": "2022-07-10T05:51:20.772Z"
   },
   {
    "duration": 26,
    "start_time": "2022-07-10T05:51:20.804Z"
   },
   {
    "duration": 21,
    "start_time": "2022-07-10T05:51:20.832Z"
   },
   {
    "duration": 62,
    "start_time": "2022-07-10T05:51:20.855Z"
   },
   {
    "duration": 19,
    "start_time": "2022-07-10T05:51:20.920Z"
   },
   {
    "duration": 92,
    "start_time": "2022-07-10T05:51:20.940Z"
   },
   {
    "duration": 15,
    "start_time": "2022-07-10T05:51:21.036Z"
   },
   {
    "duration": 17,
    "start_time": "2022-07-10T05:51:21.054Z"
   },
   {
    "duration": 6,
    "start_time": "2022-07-10T05:51:21.074Z"
   },
   {
    "duration": 25,
    "start_time": "2022-07-10T05:51:21.099Z"
   },
   {
    "duration": 14,
    "start_time": "2022-07-10T05:51:21.126Z"
   },
   {
    "duration": 19,
    "start_time": "2022-07-10T05:51:21.142Z"
   },
   {
    "duration": 43,
    "start_time": "2022-07-10T05:51:21.162Z"
   },
   {
    "duration": 16,
    "start_time": "2022-07-10T05:51:21.207Z"
   },
   {
    "duration": 8,
    "start_time": "2022-07-10T05:51:21.225Z"
   },
   {
    "duration": 7,
    "start_time": "2022-07-10T05:51:21.235Z"
   },
   {
    "duration": 6,
    "start_time": "2022-07-10T05:51:21.244Z"
   }
  ],
  "colab": {
   "collapsed_sections": [
    "E0vqbgi9ay0H",
    "VUC88oWjTJw2"
   ],
   "name": "yandex_music_project_2021.2.ipynb",
   "provenance": []
  },
  "kernelspec": {
   "display_name": "Python 3 (ipykernel)",
   "language": "python",
   "name": "python3"
  },
  "language_info": {
   "codemirror_mode": {
    "name": "ipython",
    "version": 3
   },
   "file_extension": ".py",
   "mimetype": "text/x-python",
   "name": "python",
   "nbconvert_exporter": "python",
   "pygments_lexer": "ipython3",
   "version": "3.9.5"
  },
  "toc": {
   "base_numbering": 1,
   "nav_menu": {},
   "number_sections": true,
   "sideBar": true,
   "skip_h1_title": true,
   "title_cell": "Table of Contents",
   "title_sidebar": "Contents",
   "toc_cell": false,
   "toc_position": {
    "height": "calc(100% - 180px)",
    "left": "10px",
    "top": "150px",
    "width": "245.195px"
   },
   "toc_section_display": true,
   "toc_window_display": true
  }
 },
 "nbformat": 4,
 "nbformat_minor": 1
}
