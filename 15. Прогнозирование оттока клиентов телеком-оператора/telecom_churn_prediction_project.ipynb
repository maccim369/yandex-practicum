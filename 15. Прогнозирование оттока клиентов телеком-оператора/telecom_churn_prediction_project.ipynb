{
 "cells": [
  {
   "cell_type": "markdown",
   "metadata": {},
   "source": [
    "# План работы\n",
    "\n",
    "1. Постановка задачи\n",
    "2. Получение данных\n",
    "3. Предобработка данных\n",
    "4. Исследовательский анализ данных\n",
    "5. Подготовка прототипа решения\n",
    "6. Доработка решения\n",
    "7. Оформление результатов\n",
    "8. Проверка реальностью\n",
    "9. Вывод"
   ]
  },
  {
   "cell_type": "markdown",
   "metadata": {},
   "source": [
    "## Подготовка данных"
   ]
  },
  {
   "cell_type": "markdown",
   "metadata": {},
   "source": [
    "<div style=\"border:solid blue 2px; padding: 20px\">\n",
    "\n",
    "Импортируем библиотеки\n",
    "</div>"
   ]
  },
  {
   "cell_type": "code",
   "execution_count": 1,
   "metadata": {},
   "outputs": [],
   "source": [
    "#pip install sweetviz"
   ]
  },
  {
   "cell_type": "code",
   "execution_count": 2,
   "metadata": {},
   "outputs": [],
   "source": [
    "# импорт библиотек\n",
    "import pandas as pd\n",
    "import numpy as np\n",
    "import matplotlib.pyplot as plt\n",
    "import seaborn as sns\n",
    "#import sweetviz as sv\n",
    "from sklearn.model_selection import train_test_split\n",
    "from sklearn.metrics import f1_score\n",
    "from sklearn.metrics import accuracy_score\n",
    "from sklearn.metrics import roc_auc_score, roc_curve\n",
    "from sklearn.metrics import confusion_matrix, ConfusionMatrixDisplay\n",
    "from catboost import CatBoostClassifier\n",
    "from tqdm.notebook import tqdm\n",
    "import warnings\n",
    "warnings.filterwarnings('ignore')"
   ]
  },
  {
   "cell_type": "markdown",
   "metadata": {},
   "source": [
    "<div style=\"border:solid blue 2px; padding: 20px\">\n",
    "    \n",
    "Методом `read_csv()` прочитаем файлы и сохраним в переменные:\n",
    "    \n",
    "</div>"
   ]
  },
  {
   "cell_type": "code",
   "execution_count": 3,
   "metadata": {},
   "outputs": [],
   "source": [
    "# чтение файла с данными и сохранение в df\n",
    "# метод try-except поможет загрузить данные локально или глобально\n",
    "try:\n",
    "    df1 = pd.read_csv('C:/Users/contract.csv')  # Локальный путь\n",
    "    df2 = pd.read_csv('C:/Users/personal.csv')\n",
    "    df3 = pd.read_csv('C:/Users/internet.csv')\n",
    "    df4 = pd.read_csv('C:/Users/phone.csv')\n",
    "except:\n",
    "    df1 = pd.read_csv('/datasets/final_provider/contract.csv')  # Серверный путь\n",
    "    df2 = pd.read_csv('/datasets/final_provider/personal.csv')\n",
    "    df3 = pd.read_csv('/datasets/final_provider/internet.csv')\n",
    "    df4 = pd.read_csv('/datasets/final_provider/phone.csv')"
   ]
  },
  {
   "cell_type": "markdown",
   "metadata": {},
   "source": [
    "<div style=\"border:solid blue 2px; padding: 20px\">\n",
    "    \n",
    "`head()` выводим на экран первые пять строк таблицы:\n",
    "    </div>"
   ]
  },
  {
   "cell_type": "code",
   "execution_count": 4,
   "metadata": {},
   "outputs": [
    {
     "data": {
      "text/html": [
       "<div>\n",
       "<style scoped>\n",
       "    .dataframe tbody tr th:only-of-type {\n",
       "        vertical-align: middle;\n",
       "    }\n",
       "\n",
       "    .dataframe tbody tr th {\n",
       "        vertical-align: top;\n",
       "    }\n",
       "\n",
       "    .dataframe thead th {\n",
       "        text-align: right;\n",
       "    }\n",
       "</style>\n",
       "<table border=\"1\" class=\"dataframe\">\n",
       "  <thead>\n",
       "    <tr style=\"text-align: right;\">\n",
       "      <th></th>\n",
       "      <th>customerID</th>\n",
       "      <th>BeginDate</th>\n",
       "      <th>EndDate</th>\n",
       "      <th>Type</th>\n",
       "      <th>PaperlessBilling</th>\n",
       "      <th>PaymentMethod</th>\n",
       "      <th>MonthlyCharges</th>\n",
       "      <th>TotalCharges</th>\n",
       "    </tr>\n",
       "  </thead>\n",
       "  <tbody>\n",
       "    <tr>\n",
       "      <th>0</th>\n",
       "      <td>7590-VHVEG</td>\n",
       "      <td>2020-01-01</td>\n",
       "      <td>No</td>\n",
       "      <td>Month-to-month</td>\n",
       "      <td>Yes</td>\n",
       "      <td>Electronic check</td>\n",
       "      <td>29.85</td>\n",
       "      <td>29.85</td>\n",
       "    </tr>\n",
       "    <tr>\n",
       "      <th>1</th>\n",
       "      <td>5575-GNVDE</td>\n",
       "      <td>2017-04-01</td>\n",
       "      <td>No</td>\n",
       "      <td>One year</td>\n",
       "      <td>No</td>\n",
       "      <td>Mailed check</td>\n",
       "      <td>56.95</td>\n",
       "      <td>1889.5</td>\n",
       "    </tr>\n",
       "    <tr>\n",
       "      <th>2</th>\n",
       "      <td>3668-QPYBK</td>\n",
       "      <td>2019-10-01</td>\n",
       "      <td>2019-12-01 00:00:00</td>\n",
       "      <td>Month-to-month</td>\n",
       "      <td>Yes</td>\n",
       "      <td>Mailed check</td>\n",
       "      <td>53.85</td>\n",
       "      <td>108.15</td>\n",
       "    </tr>\n",
       "    <tr>\n",
       "      <th>3</th>\n",
       "      <td>7795-CFOCW</td>\n",
       "      <td>2016-05-01</td>\n",
       "      <td>No</td>\n",
       "      <td>One year</td>\n",
       "      <td>No</td>\n",
       "      <td>Bank transfer (automatic)</td>\n",
       "      <td>42.30</td>\n",
       "      <td>1840.75</td>\n",
       "    </tr>\n",
       "    <tr>\n",
       "      <th>4</th>\n",
       "      <td>9237-HQITU</td>\n",
       "      <td>2019-09-01</td>\n",
       "      <td>2019-11-01 00:00:00</td>\n",
       "      <td>Month-to-month</td>\n",
       "      <td>Yes</td>\n",
       "      <td>Electronic check</td>\n",
       "      <td>70.70</td>\n",
       "      <td>151.65</td>\n",
       "    </tr>\n",
       "  </tbody>\n",
       "</table>\n",
       "</div>"
      ],
      "text/plain": [
       "   customerID   BeginDate              EndDate            Type  \\\n",
       "0  7590-VHVEG  2020-01-01                   No  Month-to-month   \n",
       "1  5575-GNVDE  2017-04-01                   No        One year   \n",
       "2  3668-QPYBK  2019-10-01  2019-12-01 00:00:00  Month-to-month   \n",
       "3  7795-CFOCW  2016-05-01                   No        One year   \n",
       "4  9237-HQITU  2019-09-01  2019-11-01 00:00:00  Month-to-month   \n",
       "\n",
       "  PaperlessBilling              PaymentMethod  MonthlyCharges TotalCharges  \n",
       "0              Yes           Electronic check           29.85        29.85  \n",
       "1               No               Mailed check           56.95       1889.5  \n",
       "2              Yes               Mailed check           53.85       108.15  \n",
       "3               No  Bank transfer (automatic)           42.30      1840.75  \n",
       "4              Yes           Electronic check           70.70       151.65  "
      ]
     },
     "execution_count": 4,
     "metadata": {},
     "output_type": "execute_result"
    }
   ],
   "source": [
    "# получение первых 5 строк таблицы contract\n",
    "df1.head()"
   ]
  },
  {
   "cell_type": "code",
   "execution_count": 5,
   "metadata": {},
   "outputs": [
    {
     "data": {
      "text/html": [
       "<div>\n",
       "<style scoped>\n",
       "    .dataframe tbody tr th:only-of-type {\n",
       "        vertical-align: middle;\n",
       "    }\n",
       "\n",
       "    .dataframe tbody tr th {\n",
       "        vertical-align: top;\n",
       "    }\n",
       "\n",
       "    .dataframe thead th {\n",
       "        text-align: right;\n",
       "    }\n",
       "</style>\n",
       "<table border=\"1\" class=\"dataframe\">\n",
       "  <thead>\n",
       "    <tr style=\"text-align: right;\">\n",
       "      <th></th>\n",
       "      <th>customerID</th>\n",
       "      <th>gender</th>\n",
       "      <th>SeniorCitizen</th>\n",
       "      <th>Partner</th>\n",
       "      <th>Dependents</th>\n",
       "    </tr>\n",
       "  </thead>\n",
       "  <tbody>\n",
       "    <tr>\n",
       "      <th>0</th>\n",
       "      <td>7590-VHVEG</td>\n",
       "      <td>Female</td>\n",
       "      <td>0</td>\n",
       "      <td>Yes</td>\n",
       "      <td>No</td>\n",
       "    </tr>\n",
       "    <tr>\n",
       "      <th>1</th>\n",
       "      <td>5575-GNVDE</td>\n",
       "      <td>Male</td>\n",
       "      <td>0</td>\n",
       "      <td>No</td>\n",
       "      <td>No</td>\n",
       "    </tr>\n",
       "    <tr>\n",
       "      <th>2</th>\n",
       "      <td>3668-QPYBK</td>\n",
       "      <td>Male</td>\n",
       "      <td>0</td>\n",
       "      <td>No</td>\n",
       "      <td>No</td>\n",
       "    </tr>\n",
       "    <tr>\n",
       "      <th>3</th>\n",
       "      <td>7795-CFOCW</td>\n",
       "      <td>Male</td>\n",
       "      <td>0</td>\n",
       "      <td>No</td>\n",
       "      <td>No</td>\n",
       "    </tr>\n",
       "    <tr>\n",
       "      <th>4</th>\n",
       "      <td>9237-HQITU</td>\n",
       "      <td>Female</td>\n",
       "      <td>0</td>\n",
       "      <td>No</td>\n",
       "      <td>No</td>\n",
       "    </tr>\n",
       "  </tbody>\n",
       "</table>\n",
       "</div>"
      ],
      "text/plain": [
       "   customerID  gender  SeniorCitizen Partner Dependents\n",
       "0  7590-VHVEG  Female              0     Yes         No\n",
       "1  5575-GNVDE    Male              0      No         No\n",
       "2  3668-QPYBK    Male              0      No         No\n",
       "3  7795-CFOCW    Male              0      No         No\n",
       "4  9237-HQITU  Female              0      No         No"
      ]
     },
     "execution_count": 5,
     "metadata": {},
     "output_type": "execute_result"
    }
   ],
   "source": [
    "# получение первых 5 строк таблицы personal\n",
    "df2.head()"
   ]
  },
  {
   "cell_type": "code",
   "execution_count": 6,
   "metadata": {},
   "outputs": [
    {
     "data": {
      "text/html": [
       "<div>\n",
       "<style scoped>\n",
       "    .dataframe tbody tr th:only-of-type {\n",
       "        vertical-align: middle;\n",
       "    }\n",
       "\n",
       "    .dataframe tbody tr th {\n",
       "        vertical-align: top;\n",
       "    }\n",
       "\n",
       "    .dataframe thead th {\n",
       "        text-align: right;\n",
       "    }\n",
       "</style>\n",
       "<table border=\"1\" class=\"dataframe\">\n",
       "  <thead>\n",
       "    <tr style=\"text-align: right;\">\n",
       "      <th></th>\n",
       "      <th>customerID</th>\n",
       "      <th>InternetService</th>\n",
       "      <th>OnlineSecurity</th>\n",
       "      <th>OnlineBackup</th>\n",
       "      <th>DeviceProtection</th>\n",
       "      <th>TechSupport</th>\n",
       "      <th>StreamingTV</th>\n",
       "      <th>StreamingMovies</th>\n",
       "    </tr>\n",
       "  </thead>\n",
       "  <tbody>\n",
       "    <tr>\n",
       "      <th>0</th>\n",
       "      <td>7590-VHVEG</td>\n",
       "      <td>DSL</td>\n",
       "      <td>No</td>\n",
       "      <td>Yes</td>\n",
       "      <td>No</td>\n",
       "      <td>No</td>\n",
       "      <td>No</td>\n",
       "      <td>No</td>\n",
       "    </tr>\n",
       "    <tr>\n",
       "      <th>1</th>\n",
       "      <td>5575-GNVDE</td>\n",
       "      <td>DSL</td>\n",
       "      <td>Yes</td>\n",
       "      <td>No</td>\n",
       "      <td>Yes</td>\n",
       "      <td>No</td>\n",
       "      <td>No</td>\n",
       "      <td>No</td>\n",
       "    </tr>\n",
       "    <tr>\n",
       "      <th>2</th>\n",
       "      <td>3668-QPYBK</td>\n",
       "      <td>DSL</td>\n",
       "      <td>Yes</td>\n",
       "      <td>Yes</td>\n",
       "      <td>No</td>\n",
       "      <td>No</td>\n",
       "      <td>No</td>\n",
       "      <td>No</td>\n",
       "    </tr>\n",
       "    <tr>\n",
       "      <th>3</th>\n",
       "      <td>7795-CFOCW</td>\n",
       "      <td>DSL</td>\n",
       "      <td>Yes</td>\n",
       "      <td>No</td>\n",
       "      <td>Yes</td>\n",
       "      <td>Yes</td>\n",
       "      <td>No</td>\n",
       "      <td>No</td>\n",
       "    </tr>\n",
       "    <tr>\n",
       "      <th>4</th>\n",
       "      <td>9237-HQITU</td>\n",
       "      <td>Fiber optic</td>\n",
       "      <td>No</td>\n",
       "      <td>No</td>\n",
       "      <td>No</td>\n",
       "      <td>No</td>\n",
       "      <td>No</td>\n",
       "      <td>No</td>\n",
       "    </tr>\n",
       "  </tbody>\n",
       "</table>\n",
       "</div>"
      ],
      "text/plain": [
       "   customerID InternetService OnlineSecurity OnlineBackup DeviceProtection  \\\n",
       "0  7590-VHVEG             DSL             No          Yes               No   \n",
       "1  5575-GNVDE             DSL            Yes           No              Yes   \n",
       "2  3668-QPYBK             DSL            Yes          Yes               No   \n",
       "3  7795-CFOCW             DSL            Yes           No              Yes   \n",
       "4  9237-HQITU     Fiber optic             No           No               No   \n",
       "\n",
       "  TechSupport StreamingTV StreamingMovies  \n",
       "0          No          No              No  \n",
       "1          No          No              No  \n",
       "2          No          No              No  \n",
       "3         Yes          No              No  \n",
       "4          No          No              No  "
      ]
     },
     "execution_count": 6,
     "metadata": {},
     "output_type": "execute_result"
    }
   ],
   "source": [
    "# получение первых 5 строк таблицы internet\n",
    "df3.head()"
   ]
  },
  {
   "cell_type": "code",
   "execution_count": 7,
   "metadata": {},
   "outputs": [
    {
     "data": {
      "text/html": [
       "<div>\n",
       "<style scoped>\n",
       "    .dataframe tbody tr th:only-of-type {\n",
       "        vertical-align: middle;\n",
       "    }\n",
       "\n",
       "    .dataframe tbody tr th {\n",
       "        vertical-align: top;\n",
       "    }\n",
       "\n",
       "    .dataframe thead th {\n",
       "        text-align: right;\n",
       "    }\n",
       "</style>\n",
       "<table border=\"1\" class=\"dataframe\">\n",
       "  <thead>\n",
       "    <tr style=\"text-align: right;\">\n",
       "      <th></th>\n",
       "      <th>customerID</th>\n",
       "      <th>MultipleLines</th>\n",
       "    </tr>\n",
       "  </thead>\n",
       "  <tbody>\n",
       "    <tr>\n",
       "      <th>0</th>\n",
       "      <td>5575-GNVDE</td>\n",
       "      <td>No</td>\n",
       "    </tr>\n",
       "    <tr>\n",
       "      <th>1</th>\n",
       "      <td>3668-QPYBK</td>\n",
       "      <td>No</td>\n",
       "    </tr>\n",
       "    <tr>\n",
       "      <th>2</th>\n",
       "      <td>9237-HQITU</td>\n",
       "      <td>No</td>\n",
       "    </tr>\n",
       "    <tr>\n",
       "      <th>3</th>\n",
       "      <td>9305-CDSKC</td>\n",
       "      <td>Yes</td>\n",
       "    </tr>\n",
       "    <tr>\n",
       "      <th>4</th>\n",
       "      <td>1452-KIOVK</td>\n",
       "      <td>Yes</td>\n",
       "    </tr>\n",
       "  </tbody>\n",
       "</table>\n",
       "</div>"
      ],
      "text/plain": [
       "   customerID MultipleLines\n",
       "0  5575-GNVDE            No\n",
       "1  3668-QPYBK            No\n",
       "2  9237-HQITU            No\n",
       "3  9305-CDSKC           Yes\n",
       "4  1452-KIOVK           Yes"
      ]
     },
     "execution_count": 7,
     "metadata": {},
     "output_type": "execute_result"
    }
   ],
   "source": [
    "# получение первых 5 строк таблицы phone\n",
    "df4.head()"
   ]
  },
  {
   "cell_type": "markdown",
   "metadata": {},
   "source": [
    "<div style=\"border:solid blue 2px; padding: 20px\">\n",
    "    \n",
    "\n",
    "`merge(how=outer)` объединим все таблицы  в одну `df` чтобы не потерять ни одного пользователя\n",
    "    \n",
    "</div> "
   ]
  },
  {
   "cell_type": "code",
   "execution_count": 8,
   "metadata": {},
   "outputs": [],
   "source": [
    "# объединение таблиц в одну df по customerID\n",
    "df = df1.merge(df2, how='outer', on='customerID').merge(df3, how='outer', on='customerID').merge(df4, how='outer', on='customerID')"
   ]
  },
  {
   "cell_type": "code",
   "execution_count": 9,
   "metadata": {
    "scrolled": true
   },
   "outputs": [
    {
     "data": {
      "text/html": [
       "<div>\n",
       "<style scoped>\n",
       "    .dataframe tbody tr th:only-of-type {\n",
       "        vertical-align: middle;\n",
       "    }\n",
       "\n",
       "    .dataframe tbody tr th {\n",
       "        vertical-align: top;\n",
       "    }\n",
       "\n",
       "    .dataframe thead th {\n",
       "        text-align: right;\n",
       "    }\n",
       "</style>\n",
       "<table border=\"1\" class=\"dataframe\">\n",
       "  <thead>\n",
       "    <tr style=\"text-align: right;\">\n",
       "      <th></th>\n",
       "      <th>customerID</th>\n",
       "      <th>BeginDate</th>\n",
       "      <th>EndDate</th>\n",
       "      <th>Type</th>\n",
       "      <th>PaperlessBilling</th>\n",
       "      <th>PaymentMethod</th>\n",
       "      <th>MonthlyCharges</th>\n",
       "      <th>TotalCharges</th>\n",
       "      <th>gender</th>\n",
       "      <th>SeniorCitizen</th>\n",
       "      <th>Partner</th>\n",
       "      <th>Dependents</th>\n",
       "      <th>InternetService</th>\n",
       "      <th>OnlineSecurity</th>\n",
       "      <th>OnlineBackup</th>\n",
       "      <th>DeviceProtection</th>\n",
       "      <th>TechSupport</th>\n",
       "      <th>StreamingTV</th>\n",
       "      <th>StreamingMovies</th>\n",
       "      <th>MultipleLines</th>\n",
       "    </tr>\n",
       "  </thead>\n",
       "  <tbody>\n",
       "    <tr>\n",
       "      <th>0</th>\n",
       "      <td>7590-VHVEG</td>\n",
       "      <td>2020-01-01</td>\n",
       "      <td>No</td>\n",
       "      <td>Month-to-month</td>\n",
       "      <td>Yes</td>\n",
       "      <td>Electronic check</td>\n",
       "      <td>29.85</td>\n",
       "      <td>29.85</td>\n",
       "      <td>Female</td>\n",
       "      <td>0</td>\n",
       "      <td>Yes</td>\n",
       "      <td>No</td>\n",
       "      <td>DSL</td>\n",
       "      <td>No</td>\n",
       "      <td>Yes</td>\n",
       "      <td>No</td>\n",
       "      <td>No</td>\n",
       "      <td>No</td>\n",
       "      <td>No</td>\n",
       "      <td>NaN</td>\n",
       "    </tr>\n",
       "    <tr>\n",
       "      <th>1</th>\n",
       "      <td>5575-GNVDE</td>\n",
       "      <td>2017-04-01</td>\n",
       "      <td>No</td>\n",
       "      <td>One year</td>\n",
       "      <td>No</td>\n",
       "      <td>Mailed check</td>\n",
       "      <td>56.95</td>\n",
       "      <td>1889.5</td>\n",
       "      <td>Male</td>\n",
       "      <td>0</td>\n",
       "      <td>No</td>\n",
       "      <td>No</td>\n",
       "      <td>DSL</td>\n",
       "      <td>Yes</td>\n",
       "      <td>No</td>\n",
       "      <td>Yes</td>\n",
       "      <td>No</td>\n",
       "      <td>No</td>\n",
       "      <td>No</td>\n",
       "      <td>No</td>\n",
       "    </tr>\n",
       "    <tr>\n",
       "      <th>2</th>\n",
       "      <td>3668-QPYBK</td>\n",
       "      <td>2019-10-01</td>\n",
       "      <td>2019-12-01 00:00:00</td>\n",
       "      <td>Month-to-month</td>\n",
       "      <td>Yes</td>\n",
       "      <td>Mailed check</td>\n",
       "      <td>53.85</td>\n",
       "      <td>108.15</td>\n",
       "      <td>Male</td>\n",
       "      <td>0</td>\n",
       "      <td>No</td>\n",
       "      <td>No</td>\n",
       "      <td>DSL</td>\n",
       "      <td>Yes</td>\n",
       "      <td>Yes</td>\n",
       "      <td>No</td>\n",
       "      <td>No</td>\n",
       "      <td>No</td>\n",
       "      <td>No</td>\n",
       "      <td>No</td>\n",
       "    </tr>\n",
       "    <tr>\n",
       "      <th>3</th>\n",
       "      <td>7795-CFOCW</td>\n",
       "      <td>2016-05-01</td>\n",
       "      <td>No</td>\n",
       "      <td>One year</td>\n",
       "      <td>No</td>\n",
       "      <td>Bank transfer (automatic)</td>\n",
       "      <td>42.30</td>\n",
       "      <td>1840.75</td>\n",
       "      <td>Male</td>\n",
       "      <td>0</td>\n",
       "      <td>No</td>\n",
       "      <td>No</td>\n",
       "      <td>DSL</td>\n",
       "      <td>Yes</td>\n",
       "      <td>No</td>\n",
       "      <td>Yes</td>\n",
       "      <td>Yes</td>\n",
       "      <td>No</td>\n",
       "      <td>No</td>\n",
       "      <td>NaN</td>\n",
       "    </tr>\n",
       "    <tr>\n",
       "      <th>4</th>\n",
       "      <td>9237-HQITU</td>\n",
       "      <td>2019-09-01</td>\n",
       "      <td>2019-11-01 00:00:00</td>\n",
       "      <td>Month-to-month</td>\n",
       "      <td>Yes</td>\n",
       "      <td>Electronic check</td>\n",
       "      <td>70.70</td>\n",
       "      <td>151.65</td>\n",
       "      <td>Female</td>\n",
       "      <td>0</td>\n",
       "      <td>No</td>\n",
       "      <td>No</td>\n",
       "      <td>Fiber optic</td>\n",
       "      <td>No</td>\n",
       "      <td>No</td>\n",
       "      <td>No</td>\n",
       "      <td>No</td>\n",
       "      <td>No</td>\n",
       "      <td>No</td>\n",
       "      <td>No</td>\n",
       "    </tr>\n",
       "  </tbody>\n",
       "</table>\n",
       "</div>"
      ],
      "text/plain": [
       "   customerID   BeginDate              EndDate            Type  \\\n",
       "0  7590-VHVEG  2020-01-01                   No  Month-to-month   \n",
       "1  5575-GNVDE  2017-04-01                   No        One year   \n",
       "2  3668-QPYBK  2019-10-01  2019-12-01 00:00:00  Month-to-month   \n",
       "3  7795-CFOCW  2016-05-01                   No        One year   \n",
       "4  9237-HQITU  2019-09-01  2019-11-01 00:00:00  Month-to-month   \n",
       "\n",
       "  PaperlessBilling              PaymentMethod  MonthlyCharges TotalCharges  \\\n",
       "0              Yes           Electronic check           29.85        29.85   \n",
       "1               No               Mailed check           56.95       1889.5   \n",
       "2              Yes               Mailed check           53.85       108.15   \n",
       "3               No  Bank transfer (automatic)           42.30      1840.75   \n",
       "4              Yes           Electronic check           70.70       151.65   \n",
       "\n",
       "   gender  SeniorCitizen Partner Dependents InternetService OnlineSecurity  \\\n",
       "0  Female              0     Yes         No             DSL             No   \n",
       "1    Male              0      No         No             DSL            Yes   \n",
       "2    Male              0      No         No             DSL            Yes   \n",
       "3    Male              0      No         No             DSL            Yes   \n",
       "4  Female              0      No         No     Fiber optic             No   \n",
       "\n",
       "  OnlineBackup DeviceProtection TechSupport StreamingTV StreamingMovies  \\\n",
       "0          Yes               No          No          No              No   \n",
       "1           No              Yes          No          No              No   \n",
       "2          Yes               No          No          No              No   \n",
       "3           No              Yes         Yes          No              No   \n",
       "4           No               No          No          No              No   \n",
       "\n",
       "  MultipleLines  \n",
       "0           NaN  \n",
       "1            No  \n",
       "2            No  \n",
       "3           NaN  \n",
       "4            No  "
      ]
     },
     "execution_count": 9,
     "metadata": {},
     "output_type": "execute_result"
    }
   ],
   "source": [
    "# получение первых 5 строк таблицы df\n",
    "df.head()"
   ]
  },
  {
   "cell_type": "markdown",
   "metadata": {},
   "source": [
    "<div style=\"border:solid blue 2px; padding: 20px\">\n",
    "    \n",
    "`info()` получим общую информацию о таблице:\n",
    "    </div>"
   ]
  },
  {
   "cell_type": "code",
   "execution_count": 10,
   "metadata": {},
   "outputs": [
    {
     "name": "stdout",
     "output_type": "stream",
     "text": [
      "<class 'pandas.core.frame.DataFrame'>\n",
      "Int64Index: 7043 entries, 0 to 7042\n",
      "Data columns (total 20 columns):\n",
      " #   Column            Non-Null Count  Dtype  \n",
      "---  ------            --------------  -----  \n",
      " 0   customerID        7043 non-null   object \n",
      " 1   BeginDate         7043 non-null   object \n",
      " 2   EndDate           7043 non-null   object \n",
      " 3   Type              7043 non-null   object \n",
      " 4   PaperlessBilling  7043 non-null   object \n",
      " 5   PaymentMethod     7043 non-null   object \n",
      " 6   MonthlyCharges    7043 non-null   float64\n",
      " 7   TotalCharges      7043 non-null   object \n",
      " 8   gender            7043 non-null   object \n",
      " 9   SeniorCitizen     7043 non-null   int64  \n",
      " 10  Partner           7043 non-null   object \n",
      " 11  Dependents        7043 non-null   object \n",
      " 12  InternetService   5517 non-null   object \n",
      " 13  OnlineSecurity    5517 non-null   object \n",
      " 14  OnlineBackup      5517 non-null   object \n",
      " 15  DeviceProtection  5517 non-null   object \n",
      " 16  TechSupport       5517 non-null   object \n",
      " 17  StreamingTV       5517 non-null   object \n",
      " 18  StreamingMovies   5517 non-null   object \n",
      " 19  MultipleLines     6361 non-null   object \n",
      "dtypes: float64(1), int64(1), object(18)\n",
      "memory usage: 1.1+ MB\n"
     ]
    }
   ],
   "source": [
    "# получение общей информации о данных в таблице df\n",
    "df.info()"
   ]
  },
  {
   "cell_type": "markdown",
   "metadata": {},
   "source": [
    "## Вывод"
   ]
  },
  {
   "cell_type": "markdown",
   "metadata": {},
   "source": [
    "<div style=\"border:solid blue 2px; padding: 20px\">\n",
    "    \n",
    "**Оценка полученных данных**\n",
    "\n",
    "Наблюдения, представленные в таблице описываются категориальными и количественными значениями.\n",
    " \n",
    "    \n",
    "**Категориальные признаки**\n",
    "\n",
    "    \n",
    "    \n",
    "* `customerid` — идентификатор пользователя  \n",
    "* `begindate` — начальная дата договора    \n",
    "* `enddate` — конечная дата договора\n",
    "* `type` — срок действия договора\n",
    "* `paperlessbilling` — метод выставление счёта \n",
    "* `paymentmethod` — метод оплаты клиента\n",
    "* `gender` — пол\n",
    "* `seniorcitizen` — статус пожилого пользователя\n",
    "* `partner` — семейное положение   \n",
    "* `dependents` — наличие детей\n",
    "* `internetservice` — тип кабельного подключения\n",
    "* `onlinesecurity` — наличие услуги блокировки небезопасных сайтов\n",
    "* `onlinebackup` — наличие услуги облачного хранилища файлов для резервного копирования данных   \n",
    "* `deviceprotection` — наличие услуги антивируса\n",
    "* `techsupport` — наличие услуги выделенной линии технической поддержки   \n",
    "* `streamingtv` — наличие услуги стримингового телевидения\n",
    "* `streamingmovies` — наличие услуги каталог фильмов\n",
    "* `multiplelines` — наличие услуги многоканальной телефонии\n",
    "\n",
    "    \n",
    "    \n",
    "**Количественные признаки**    \n",
    "    \n",
    "    \n",
    "    \n",
    "* `monthlycharges` — сумма ежемесячного платежа\n",
    "* `totalcharges` — общая сумма платежей\n",
    "   \n",
    "    \n",
    "    \n",
    "Данные можно исследовать для прогнозирования отток клиентов:\n",
    "    \n",
    "Данные содержат проблемы (ошибки), которые могут привести написанный алгоритм работы к искаженным результатам.\n",
    "    \n",
    "Проведём предобработку данных на дубликаты, пропуски, выбросы.\n",
    "    \n",
    "\n",
    "</div>"
   ]
  },
  {
   "cell_type": "markdown",
   "metadata": {},
   "source": [
    "## Предобработка данных"
   ]
  },
  {
   "cell_type": "markdown",
   "metadata": {},
   "source": [
    "<div style=\"border:solid blue 2px; padding: 20px\">\n",
    "    \n",
    "Приведём названия столбцов к нижнему регистру `snake_case`\n",
    "    \n",
    "</div> "
   ]
  },
  {
   "cell_type": "code",
   "execution_count": 11,
   "metadata": {},
   "outputs": [
    {
     "data": {
      "text/plain": [
       "Index(['customerid', 'begindate', 'enddate', 'type', 'paperlessbilling',\n",
       "       'paymentmethod', 'monthlycharges', 'totalcharges', 'gender',\n",
       "       'seniorcitizen', 'partner', 'dependents', 'internetservice',\n",
       "       'onlinesecurity', 'onlinebackup', 'deviceprotection', 'techsupport',\n",
       "       'streamingtv', 'streamingmovies', 'multiplelines'],\n",
       "      dtype='object')"
      ]
     },
     "execution_count": 11,
     "metadata": {},
     "output_type": "execute_result"
    }
   ],
   "source": [
    "# названия столбцов к нижему регистру\n",
    "df.columns = df.columns.str.lower()\n",
    "df.columns"
   ]
  },
  {
   "cell_type": "markdown",
   "metadata": {},
   "source": [
    "<div style=\"border:solid blue 2px; padding: 20px\">\n",
    "    \n",
    "Методом `duplicated()` проверим данные на наличие дубликатов и посчитаем их `sum()`\n",
    "    \n",
    "</div>"
   ]
  },
  {
   "cell_type": "code",
   "execution_count": 12,
   "metadata": {},
   "outputs": [
    {
     "name": "stdout",
     "output_type": "stream",
     "text": [
      "Всего строк дубликатов:  0\n"
     ]
    }
   ],
   "source": [
    "# подсчет явных дубликатов\n",
    "print('Всего строк дубликатов: ',df.duplicated().sum())"
   ]
  },
  {
   "cell_type": "markdown",
   "metadata": {},
   "source": [
    "<div style=\"border:solid blue 2px; padding: 20px\">\n",
    "    \n",
    "Проведём предобработку данных на пропуски\n",
    "\n",
    "    \n",
    "</div> "
   ]
  },
  {
   "cell_type": "code",
   "execution_count": 13,
   "metadata": {},
   "outputs": [
    {
     "data": {
      "text/plain": [
       "streamingmovies     1526\n",
       "streamingtv         1526\n",
       "techsupport         1526\n",
       "deviceprotection    1526\n",
       "onlinebackup        1526\n",
       "onlinesecurity      1526\n",
       "internetservice     1526\n",
       "multiplelines        682\n",
       "begindate              0\n",
       "dependents             0\n",
       "customerid             0\n",
       "seniorcitizen          0\n",
       "gender                 0\n",
       "totalcharges           0\n",
       "monthlycharges         0\n",
       "paymentmethod          0\n",
       "paperlessbilling       0\n",
       "type                   0\n",
       "enddate                0\n",
       "partner                0\n",
       "dtype: int64"
      ]
     },
     "execution_count": 13,
     "metadata": {},
     "output_type": "execute_result"
    }
   ],
   "source": [
    "# получение пропусков\n",
    "df.isna().sum().sort_values(ascending=False)"
   ]
  },
  {
   "cell_type": "markdown",
   "metadata": {},
   "source": [
    "<div style=\"border:solid blue 2px; padding: 20px\">\n",
    "    \n",
    "Заменим пропуски в категориальных признаках на `unknown`\n",
    "    \n",
    "</div>"
   ]
  },
  {
   "cell_type": "code",
   "execution_count": 14,
   "metadata": {},
   "outputs": [],
   "source": [
    "# замена пропусков\n",
    "df = df.fillna(value='unknown')"
   ]
  },
  {
   "cell_type": "code",
   "execution_count": 15,
   "metadata": {},
   "outputs": [
    {
     "data": {
      "text/plain": [
       "customerid          0\n",
       "begindate           0\n",
       "enddate             0\n",
       "type                0\n",
       "paperlessbilling    0\n",
       "paymentmethod       0\n",
       "monthlycharges      0\n",
       "totalcharges        0\n",
       "gender              0\n",
       "seniorcitizen       0\n",
       "partner             0\n",
       "dependents          0\n",
       "internetservice     0\n",
       "onlinesecurity      0\n",
       "onlinebackup        0\n",
       "deviceprotection    0\n",
       "techsupport         0\n",
       "streamingtv         0\n",
       "streamingmovies     0\n",
       "multiplelines       0\n",
       "dtype: int64"
      ]
     },
     "execution_count": 15,
     "metadata": {},
     "output_type": "execute_result"
    }
   ],
   "source": [
    "# получение пропусков\n",
    "df.isna().sum()"
   ]
  },
  {
   "cell_type": "markdown",
   "metadata": {},
   "source": [
    "<div style=\"border:solid blue 2px; padding: 20px\">\n",
    "    \n",
    "\n",
    "Заменим типы данных в следующих признаках:\n",
    "    \n",
    "`df['totalcharges']` `object` на `float64`    \n",
    "    \n",
    "`df['enddate']` `object` на `datatime`\n",
    "    \n",
    "    \n",
    "</div> "
   ]
  },
  {
   "cell_type": "code",
   "execution_count": 16,
   "metadata": {},
   "outputs": [
    {
     "data": {
      "text/plain": [
       "customerid           object\n",
       "begindate            object\n",
       "enddate              object\n",
       "type                 object\n",
       "paperlessbilling     object\n",
       "paymentmethod        object\n",
       "monthlycharges      float64\n",
       "totalcharges         object\n",
       "gender               object\n",
       "seniorcitizen         int64\n",
       "partner              object\n",
       "dependents           object\n",
       "internetservice      object\n",
       "onlinesecurity       object\n",
       "onlinebackup         object\n",
       "deviceprotection     object\n",
       "techsupport          object\n",
       "streamingtv          object\n",
       "streamingmovies      object\n",
       "multiplelines        object\n",
       "dtype: object"
      ]
     },
     "execution_count": 16,
     "metadata": {},
     "output_type": "execute_result"
    }
   ],
   "source": [
    "# получение информации по типам данных в df\n",
    "df.dtypes"
   ]
  },
  {
   "cell_type": "markdown",
   "metadata": {},
   "source": [
    "<div style=\"border:solid blue 2px; padding: 20px\">\n",
    "    \n",
    "Методом `unique()` получаем уникальные значения всех признаков\n",
    "    </div>"
   ]
  },
  {
   "cell_type": "code",
   "execution_count": 17,
   "metadata": {},
   "outputs": [
    {
     "data": {
      "text/plain": [
       "array([' ', '100.2', '100.25', ..., '999.45', '999.8', '999.9'],\n",
       "      dtype=object)"
      ]
     },
     "execution_count": 17,
     "metadata": {},
     "output_type": "execute_result"
    }
   ],
   "source": [
    "# просмотр уникальных customerid\n",
    "df['totalcharges'].sort_values().unique()"
   ]
  },
  {
   "cell_type": "code",
   "execution_count": 18,
   "metadata": {},
   "outputs": [
    {
     "data": {
      "text/html": [
       "<div>\n",
       "<style scoped>\n",
       "    .dataframe tbody tr th:only-of-type {\n",
       "        vertical-align: middle;\n",
       "    }\n",
       "\n",
       "    .dataframe tbody tr th {\n",
       "        vertical-align: top;\n",
       "    }\n",
       "\n",
       "    .dataframe thead th {\n",
       "        text-align: right;\n",
       "    }\n",
       "</style>\n",
       "<table border=\"1\" class=\"dataframe\">\n",
       "  <thead>\n",
       "    <tr style=\"text-align: right;\">\n",
       "      <th></th>\n",
       "      <th>customerid</th>\n",
       "      <th>begindate</th>\n",
       "      <th>enddate</th>\n",
       "      <th>type</th>\n",
       "      <th>paperlessbilling</th>\n",
       "      <th>paymentmethod</th>\n",
       "      <th>monthlycharges</th>\n",
       "      <th>totalcharges</th>\n",
       "      <th>gender</th>\n",
       "      <th>seniorcitizen</th>\n",
       "      <th>partner</th>\n",
       "      <th>dependents</th>\n",
       "      <th>internetservice</th>\n",
       "      <th>onlinesecurity</th>\n",
       "      <th>onlinebackup</th>\n",
       "      <th>deviceprotection</th>\n",
       "      <th>techsupport</th>\n",
       "      <th>streamingtv</th>\n",
       "      <th>streamingmovies</th>\n",
       "      <th>multiplelines</th>\n",
       "    </tr>\n",
       "  </thead>\n",
       "  <tbody>\n",
       "    <tr>\n",
       "      <th>488</th>\n",
       "      <td>4472-LVYGI</td>\n",
       "      <td>2020-02-01</td>\n",
       "      <td>No</td>\n",
       "      <td>Two year</td>\n",
       "      <td>Yes</td>\n",
       "      <td>Bank transfer (automatic)</td>\n",
       "      <td>52.55</td>\n",
       "      <td></td>\n",
       "      <td>Female</td>\n",
       "      <td>0</td>\n",
       "      <td>Yes</td>\n",
       "      <td>Yes</td>\n",
       "      <td>DSL</td>\n",
       "      <td>Yes</td>\n",
       "      <td>No</td>\n",
       "      <td>Yes</td>\n",
       "      <td>Yes</td>\n",
       "      <td>Yes</td>\n",
       "      <td>No</td>\n",
       "      <td>unknown</td>\n",
       "    </tr>\n",
       "    <tr>\n",
       "      <th>753</th>\n",
       "      <td>3115-CZMZD</td>\n",
       "      <td>2020-02-01</td>\n",
       "      <td>No</td>\n",
       "      <td>Two year</td>\n",
       "      <td>No</td>\n",
       "      <td>Mailed check</td>\n",
       "      <td>20.25</td>\n",
       "      <td></td>\n",
       "      <td>Male</td>\n",
       "      <td>0</td>\n",
       "      <td>No</td>\n",
       "      <td>Yes</td>\n",
       "      <td>unknown</td>\n",
       "      <td>unknown</td>\n",
       "      <td>unknown</td>\n",
       "      <td>unknown</td>\n",
       "      <td>unknown</td>\n",
       "      <td>unknown</td>\n",
       "      <td>unknown</td>\n",
       "      <td>No</td>\n",
       "    </tr>\n",
       "    <tr>\n",
       "      <th>936</th>\n",
       "      <td>5709-LVOEQ</td>\n",
       "      <td>2020-02-01</td>\n",
       "      <td>No</td>\n",
       "      <td>Two year</td>\n",
       "      <td>No</td>\n",
       "      <td>Mailed check</td>\n",
       "      <td>80.85</td>\n",
       "      <td></td>\n",
       "      <td>Female</td>\n",
       "      <td>0</td>\n",
       "      <td>Yes</td>\n",
       "      <td>Yes</td>\n",
       "      <td>DSL</td>\n",
       "      <td>Yes</td>\n",
       "      <td>Yes</td>\n",
       "      <td>Yes</td>\n",
       "      <td>No</td>\n",
       "      <td>Yes</td>\n",
       "      <td>Yes</td>\n",
       "      <td>No</td>\n",
       "    </tr>\n",
       "    <tr>\n",
       "      <th>1082</th>\n",
       "      <td>4367-NUYAO</td>\n",
       "      <td>2020-02-01</td>\n",
       "      <td>No</td>\n",
       "      <td>Two year</td>\n",
       "      <td>No</td>\n",
       "      <td>Mailed check</td>\n",
       "      <td>25.75</td>\n",
       "      <td></td>\n",
       "      <td>Male</td>\n",
       "      <td>0</td>\n",
       "      <td>Yes</td>\n",
       "      <td>Yes</td>\n",
       "      <td>unknown</td>\n",
       "      <td>unknown</td>\n",
       "      <td>unknown</td>\n",
       "      <td>unknown</td>\n",
       "      <td>unknown</td>\n",
       "      <td>unknown</td>\n",
       "      <td>unknown</td>\n",
       "      <td>Yes</td>\n",
       "    </tr>\n",
       "    <tr>\n",
       "      <th>1340</th>\n",
       "      <td>1371-DWPAZ</td>\n",
       "      <td>2020-02-01</td>\n",
       "      <td>No</td>\n",
       "      <td>Two year</td>\n",
       "      <td>No</td>\n",
       "      <td>Credit card (automatic)</td>\n",
       "      <td>56.05</td>\n",
       "      <td></td>\n",
       "      <td>Female</td>\n",
       "      <td>0</td>\n",
       "      <td>Yes</td>\n",
       "      <td>Yes</td>\n",
       "      <td>DSL</td>\n",
       "      <td>Yes</td>\n",
       "      <td>Yes</td>\n",
       "      <td>Yes</td>\n",
       "      <td>Yes</td>\n",
       "      <td>Yes</td>\n",
       "      <td>No</td>\n",
       "      <td>unknown</td>\n",
       "    </tr>\n",
       "    <tr>\n",
       "      <th>3331</th>\n",
       "      <td>7644-OMVMY</td>\n",
       "      <td>2020-02-01</td>\n",
       "      <td>No</td>\n",
       "      <td>Two year</td>\n",
       "      <td>No</td>\n",
       "      <td>Mailed check</td>\n",
       "      <td>19.85</td>\n",
       "      <td></td>\n",
       "      <td>Male</td>\n",
       "      <td>0</td>\n",
       "      <td>Yes</td>\n",
       "      <td>Yes</td>\n",
       "      <td>unknown</td>\n",
       "      <td>unknown</td>\n",
       "      <td>unknown</td>\n",
       "      <td>unknown</td>\n",
       "      <td>unknown</td>\n",
       "      <td>unknown</td>\n",
       "      <td>unknown</td>\n",
       "      <td>No</td>\n",
       "    </tr>\n",
       "    <tr>\n",
       "      <th>3826</th>\n",
       "      <td>3213-VVOLG</td>\n",
       "      <td>2020-02-01</td>\n",
       "      <td>No</td>\n",
       "      <td>Two year</td>\n",
       "      <td>No</td>\n",
       "      <td>Mailed check</td>\n",
       "      <td>25.35</td>\n",
       "      <td></td>\n",
       "      <td>Male</td>\n",
       "      <td>0</td>\n",
       "      <td>Yes</td>\n",
       "      <td>Yes</td>\n",
       "      <td>unknown</td>\n",
       "      <td>unknown</td>\n",
       "      <td>unknown</td>\n",
       "      <td>unknown</td>\n",
       "      <td>unknown</td>\n",
       "      <td>unknown</td>\n",
       "      <td>unknown</td>\n",
       "      <td>Yes</td>\n",
       "    </tr>\n",
       "    <tr>\n",
       "      <th>4380</th>\n",
       "      <td>2520-SGTTA</td>\n",
       "      <td>2020-02-01</td>\n",
       "      <td>No</td>\n",
       "      <td>Two year</td>\n",
       "      <td>No</td>\n",
       "      <td>Mailed check</td>\n",
       "      <td>20.00</td>\n",
       "      <td></td>\n",
       "      <td>Female</td>\n",
       "      <td>0</td>\n",
       "      <td>Yes</td>\n",
       "      <td>Yes</td>\n",
       "      <td>unknown</td>\n",
       "      <td>unknown</td>\n",
       "      <td>unknown</td>\n",
       "      <td>unknown</td>\n",
       "      <td>unknown</td>\n",
       "      <td>unknown</td>\n",
       "      <td>unknown</td>\n",
       "      <td>No</td>\n",
       "    </tr>\n",
       "    <tr>\n",
       "      <th>5218</th>\n",
       "      <td>2923-ARZLG</td>\n",
       "      <td>2020-02-01</td>\n",
       "      <td>No</td>\n",
       "      <td>One year</td>\n",
       "      <td>Yes</td>\n",
       "      <td>Mailed check</td>\n",
       "      <td>19.70</td>\n",
       "      <td></td>\n",
       "      <td>Male</td>\n",
       "      <td>0</td>\n",
       "      <td>Yes</td>\n",
       "      <td>Yes</td>\n",
       "      <td>unknown</td>\n",
       "      <td>unknown</td>\n",
       "      <td>unknown</td>\n",
       "      <td>unknown</td>\n",
       "      <td>unknown</td>\n",
       "      <td>unknown</td>\n",
       "      <td>unknown</td>\n",
       "      <td>No</td>\n",
       "    </tr>\n",
       "    <tr>\n",
       "      <th>6670</th>\n",
       "      <td>4075-WKNIU</td>\n",
       "      <td>2020-02-01</td>\n",
       "      <td>No</td>\n",
       "      <td>Two year</td>\n",
       "      <td>No</td>\n",
       "      <td>Mailed check</td>\n",
       "      <td>73.35</td>\n",
       "      <td></td>\n",
       "      <td>Female</td>\n",
       "      <td>0</td>\n",
       "      <td>Yes</td>\n",
       "      <td>Yes</td>\n",
       "      <td>DSL</td>\n",
       "      <td>No</td>\n",
       "      <td>Yes</td>\n",
       "      <td>Yes</td>\n",
       "      <td>Yes</td>\n",
       "      <td>Yes</td>\n",
       "      <td>No</td>\n",
       "      <td>Yes</td>\n",
       "    </tr>\n",
       "    <tr>\n",
       "      <th>6754</th>\n",
       "      <td>2775-SEFEE</td>\n",
       "      <td>2020-02-01</td>\n",
       "      <td>No</td>\n",
       "      <td>Two year</td>\n",
       "      <td>Yes</td>\n",
       "      <td>Bank transfer (automatic)</td>\n",
       "      <td>61.90</td>\n",
       "      <td></td>\n",
       "      <td>Male</td>\n",
       "      <td>0</td>\n",
       "      <td>No</td>\n",
       "      <td>Yes</td>\n",
       "      <td>DSL</td>\n",
       "      <td>Yes</td>\n",
       "      <td>Yes</td>\n",
       "      <td>No</td>\n",
       "      <td>Yes</td>\n",
       "      <td>No</td>\n",
       "      <td>No</td>\n",
       "      <td>Yes</td>\n",
       "    </tr>\n",
       "  </tbody>\n",
       "</table>\n",
       "</div>"
      ],
      "text/plain": [
       "      customerid   begindate enddate      type paperlessbilling  \\\n",
       "488   4472-LVYGI  2020-02-01      No  Two year              Yes   \n",
       "753   3115-CZMZD  2020-02-01      No  Two year               No   \n",
       "936   5709-LVOEQ  2020-02-01      No  Two year               No   \n",
       "1082  4367-NUYAO  2020-02-01      No  Two year               No   \n",
       "1340  1371-DWPAZ  2020-02-01      No  Two year               No   \n",
       "3331  7644-OMVMY  2020-02-01      No  Two year               No   \n",
       "3826  3213-VVOLG  2020-02-01      No  Two year               No   \n",
       "4380  2520-SGTTA  2020-02-01      No  Two year               No   \n",
       "5218  2923-ARZLG  2020-02-01      No  One year              Yes   \n",
       "6670  4075-WKNIU  2020-02-01      No  Two year               No   \n",
       "6754  2775-SEFEE  2020-02-01      No  Two year              Yes   \n",
       "\n",
       "                  paymentmethod  monthlycharges totalcharges  gender  \\\n",
       "488   Bank transfer (automatic)           52.55               Female   \n",
       "753                Mailed check           20.25                 Male   \n",
       "936                Mailed check           80.85               Female   \n",
       "1082               Mailed check           25.75                 Male   \n",
       "1340    Credit card (automatic)           56.05               Female   \n",
       "3331               Mailed check           19.85                 Male   \n",
       "3826               Mailed check           25.35                 Male   \n",
       "4380               Mailed check           20.00               Female   \n",
       "5218               Mailed check           19.70                 Male   \n",
       "6670               Mailed check           73.35               Female   \n",
       "6754  Bank transfer (automatic)           61.90                 Male   \n",
       "\n",
       "      seniorcitizen partner dependents internetservice onlinesecurity  \\\n",
       "488               0     Yes        Yes             DSL            Yes   \n",
       "753               0      No        Yes         unknown        unknown   \n",
       "936               0     Yes        Yes             DSL            Yes   \n",
       "1082              0     Yes        Yes         unknown        unknown   \n",
       "1340              0     Yes        Yes             DSL            Yes   \n",
       "3331              0     Yes        Yes         unknown        unknown   \n",
       "3826              0     Yes        Yes         unknown        unknown   \n",
       "4380              0     Yes        Yes         unknown        unknown   \n",
       "5218              0     Yes        Yes         unknown        unknown   \n",
       "6670              0     Yes        Yes             DSL             No   \n",
       "6754              0      No        Yes             DSL            Yes   \n",
       "\n",
       "     onlinebackup deviceprotection techsupport streamingtv streamingmovies  \\\n",
       "488            No              Yes         Yes         Yes              No   \n",
       "753       unknown          unknown     unknown     unknown         unknown   \n",
       "936           Yes              Yes          No         Yes             Yes   \n",
       "1082      unknown          unknown     unknown     unknown         unknown   \n",
       "1340          Yes              Yes         Yes         Yes              No   \n",
       "3331      unknown          unknown     unknown     unknown         unknown   \n",
       "3826      unknown          unknown     unknown     unknown         unknown   \n",
       "4380      unknown          unknown     unknown     unknown         unknown   \n",
       "5218      unknown          unknown     unknown     unknown         unknown   \n",
       "6670          Yes              Yes         Yes         Yes              No   \n",
       "6754          Yes               No         Yes          No              No   \n",
       "\n",
       "     multiplelines  \n",
       "488        unknown  \n",
       "753             No  \n",
       "936             No  \n",
       "1082           Yes  \n",
       "1340       unknown  \n",
       "3331            No  \n",
       "3826           Yes  \n",
       "4380            No  \n",
       "5218            No  \n",
       "6670           Yes  \n",
       "6754           Yes  "
      ]
     },
     "execution_count": 18,
     "metadata": {},
     "output_type": "execute_result"
    }
   ],
   "source": [
    "# получение строк с пробелами в totalcharges\n",
    "df.query('totalcharges == \" \"')"
   ]
  },
  {
   "cell_type": "markdown",
   "metadata": {},
   "source": [
    "<div style=\"border:solid blue 2px; padding: 20px\">\n",
    "    \n",
    "Пользователи с начальной датой договора `2020-02-01` в признаке `totalcharges` \n",
    "    \n",
    "пока ещё не имеют данных по общей сумме платежей, поэтому заменим пробелы на `0`\n",
    "    \n",
    "\n",
    "</div>"
   ]
  },
  {
   "cell_type": "code",
   "execution_count": 19,
   "metadata": {},
   "outputs": [],
   "source": [
    "# замена значения\n",
    "df.loc[df['totalcharges'] == \" \", 'totalcharges'] = '0'"
   ]
  },
  {
   "cell_type": "markdown",
   "metadata": {},
   "source": [
    "<div style=\"border:solid blue 2px; padding: 20px\">\n",
    "    \n",
    "Методом `astype()` заменим тип данных в `totalcharges` на вещественные `float`\n",
    "\n",
    "</div> "
   ]
  },
  {
   "cell_type": "code",
   "execution_count": 20,
   "metadata": {},
   "outputs": [],
   "source": [
    "# замена на вещественные тип данных\n",
    "df['totalcharges'] = df['totalcharges'].astype('float')"
   ]
  },
  {
   "cell_type": "markdown",
   "metadata": {},
   "source": [
    "<div style=\"border:solid blue 2px; padding: 20px\">\n",
    "    \n",
    "Рассмотрим `enddate` на интервал наблюдений\n",
    "\n",
    "</div>"
   ]
  },
  {
   "cell_type": "code",
   "execution_count": 21,
   "metadata": {},
   "outputs": [
    {
     "data": {
      "text/plain": [
       "array(['2019-10-01 00:00:00', '2019-11-01 00:00:00',\n",
       "       '2019-12-01 00:00:00', '2020-01-01 00:00:00', 'No'], dtype=object)"
      ]
     },
     "execution_count": 21,
     "metadata": {},
     "output_type": "execute_result"
    }
   ],
   "source": [
    "# просмотр уникальных enddate\n",
    "df['enddate'].sort_values().unique()"
   ]
  },
  {
   "cell_type": "markdown",
   "metadata": {},
   "source": [
    "<div style=\"border:solid blue 2px; padding: 20px\">\n",
    "    \n",
    "Конечная дата договора `enddate` соответствует началу календарного месяца\n",
    "    \n",
    "Наблюдения в интервале между `2019-10-01` и  `2020-01-01` датами\n",
    "    \n",
    "Уникальные `No` - соответствует `активности` пользователя\n",
    "    \n",
    "\n",
    "    \n",
    "\n",
    "</div>"
   ]
  },
  {
   "cell_type": "code",
   "execution_count": 22,
   "metadata": {},
   "outputs": [
    {
     "data": {
      "text/html": [
       "<div>\n",
       "<style scoped>\n",
       "    .dataframe tbody tr th:only-of-type {\n",
       "        vertical-align: middle;\n",
       "    }\n",
       "\n",
       "    .dataframe tbody tr th {\n",
       "        vertical-align: top;\n",
       "    }\n",
       "\n",
       "    .dataframe thead th {\n",
       "        text-align: right;\n",
       "    }\n",
       "</style>\n",
       "<table border=\"1\" class=\"dataframe\">\n",
       "  <thead>\n",
       "    <tr style=\"text-align: right;\">\n",
       "      <th></th>\n",
       "      <th>customerid</th>\n",
       "      <th>begindate</th>\n",
       "      <th>enddate</th>\n",
       "      <th>type</th>\n",
       "      <th>paperlessbilling</th>\n",
       "      <th>paymentmethod</th>\n",
       "      <th>monthlycharges</th>\n",
       "      <th>totalcharges</th>\n",
       "      <th>gender</th>\n",
       "      <th>seniorcitizen</th>\n",
       "      <th>partner</th>\n",
       "      <th>dependents</th>\n",
       "      <th>internetservice</th>\n",
       "      <th>onlinesecurity</th>\n",
       "      <th>onlinebackup</th>\n",
       "      <th>deviceprotection</th>\n",
       "      <th>techsupport</th>\n",
       "      <th>streamingtv</th>\n",
       "      <th>streamingmovies</th>\n",
       "      <th>multiplelines</th>\n",
       "    </tr>\n",
       "  </thead>\n",
       "  <tbody>\n",
       "    <tr>\n",
       "      <th>0</th>\n",
       "      <td>7590-VHVEG</td>\n",
       "      <td>2020-01-01</td>\n",
       "      <td>No</td>\n",
       "      <td>Month-to-month</td>\n",
       "      <td>Yes</td>\n",
       "      <td>Electronic check</td>\n",
       "      <td>29.85</td>\n",
       "      <td>29.85</td>\n",
       "      <td>Female</td>\n",
       "      <td>0</td>\n",
       "      <td>Yes</td>\n",
       "      <td>No</td>\n",
       "      <td>DSL</td>\n",
       "      <td>No</td>\n",
       "      <td>Yes</td>\n",
       "      <td>No</td>\n",
       "      <td>No</td>\n",
       "      <td>No</td>\n",
       "      <td>No</td>\n",
       "      <td>unknown</td>\n",
       "    </tr>\n",
       "    <tr>\n",
       "      <th>1</th>\n",
       "      <td>5575-GNVDE</td>\n",
       "      <td>2017-04-01</td>\n",
       "      <td>No</td>\n",
       "      <td>One year</td>\n",
       "      <td>No</td>\n",
       "      <td>Mailed check</td>\n",
       "      <td>56.95</td>\n",
       "      <td>1889.50</td>\n",
       "      <td>Male</td>\n",
       "      <td>0</td>\n",
       "      <td>No</td>\n",
       "      <td>No</td>\n",
       "      <td>DSL</td>\n",
       "      <td>Yes</td>\n",
       "      <td>No</td>\n",
       "      <td>Yes</td>\n",
       "      <td>No</td>\n",
       "      <td>No</td>\n",
       "      <td>No</td>\n",
       "      <td>No</td>\n",
       "    </tr>\n",
       "    <tr>\n",
       "      <th>3</th>\n",
       "      <td>7795-CFOCW</td>\n",
       "      <td>2016-05-01</td>\n",
       "      <td>No</td>\n",
       "      <td>One year</td>\n",
       "      <td>No</td>\n",
       "      <td>Bank transfer (automatic)</td>\n",
       "      <td>42.30</td>\n",
       "      <td>1840.75</td>\n",
       "      <td>Male</td>\n",
       "      <td>0</td>\n",
       "      <td>No</td>\n",
       "      <td>No</td>\n",
       "      <td>DSL</td>\n",
       "      <td>Yes</td>\n",
       "      <td>No</td>\n",
       "      <td>Yes</td>\n",
       "      <td>Yes</td>\n",
       "      <td>No</td>\n",
       "      <td>No</td>\n",
       "      <td>unknown</td>\n",
       "    </tr>\n",
       "    <tr>\n",
       "      <th>6</th>\n",
       "      <td>1452-KIOVK</td>\n",
       "      <td>2018-04-01</td>\n",
       "      <td>No</td>\n",
       "      <td>Month-to-month</td>\n",
       "      <td>Yes</td>\n",
       "      <td>Credit card (automatic)</td>\n",
       "      <td>89.10</td>\n",
       "      <td>1949.40</td>\n",
       "      <td>Male</td>\n",
       "      <td>0</td>\n",
       "      <td>No</td>\n",
       "      <td>Yes</td>\n",
       "      <td>Fiber optic</td>\n",
       "      <td>No</td>\n",
       "      <td>Yes</td>\n",
       "      <td>No</td>\n",
       "      <td>No</td>\n",
       "      <td>Yes</td>\n",
       "      <td>No</td>\n",
       "      <td>Yes</td>\n",
       "    </tr>\n",
       "    <tr>\n",
       "      <th>7</th>\n",
       "      <td>6713-OKOMC</td>\n",
       "      <td>2019-04-01</td>\n",
       "      <td>No</td>\n",
       "      <td>Month-to-month</td>\n",
       "      <td>No</td>\n",
       "      <td>Mailed check</td>\n",
       "      <td>29.75</td>\n",
       "      <td>301.90</td>\n",
       "      <td>Female</td>\n",
       "      <td>0</td>\n",
       "      <td>No</td>\n",
       "      <td>No</td>\n",
       "      <td>DSL</td>\n",
       "      <td>Yes</td>\n",
       "      <td>No</td>\n",
       "      <td>No</td>\n",
       "      <td>No</td>\n",
       "      <td>No</td>\n",
       "      <td>No</td>\n",
       "      <td>unknown</td>\n",
       "    </tr>\n",
       "    <tr>\n",
       "      <th>...</th>\n",
       "      <td>...</td>\n",
       "      <td>...</td>\n",
       "      <td>...</td>\n",
       "      <td>...</td>\n",
       "      <td>...</td>\n",
       "      <td>...</td>\n",
       "      <td>...</td>\n",
       "      <td>...</td>\n",
       "      <td>...</td>\n",
       "      <td>...</td>\n",
       "      <td>...</td>\n",
       "      <td>...</td>\n",
       "      <td>...</td>\n",
       "      <td>...</td>\n",
       "      <td>...</td>\n",
       "      <td>...</td>\n",
       "      <td>...</td>\n",
       "      <td>...</td>\n",
       "      <td>...</td>\n",
       "      <td>...</td>\n",
       "    </tr>\n",
       "    <tr>\n",
       "      <th>7037</th>\n",
       "      <td>2569-WGERO</td>\n",
       "      <td>2014-02-01</td>\n",
       "      <td>No</td>\n",
       "      <td>Two year</td>\n",
       "      <td>Yes</td>\n",
       "      <td>Bank transfer (automatic)</td>\n",
       "      <td>21.15</td>\n",
       "      <td>1419.40</td>\n",
       "      <td>Female</td>\n",
       "      <td>0</td>\n",
       "      <td>No</td>\n",
       "      <td>No</td>\n",
       "      <td>unknown</td>\n",
       "      <td>unknown</td>\n",
       "      <td>unknown</td>\n",
       "      <td>unknown</td>\n",
       "      <td>unknown</td>\n",
       "      <td>unknown</td>\n",
       "      <td>unknown</td>\n",
       "      <td>No</td>\n",
       "    </tr>\n",
       "    <tr>\n",
       "      <th>7038</th>\n",
       "      <td>6840-RESVB</td>\n",
       "      <td>2018-02-01</td>\n",
       "      <td>No</td>\n",
       "      <td>One year</td>\n",
       "      <td>Yes</td>\n",
       "      <td>Mailed check</td>\n",
       "      <td>84.80</td>\n",
       "      <td>1990.50</td>\n",
       "      <td>Male</td>\n",
       "      <td>0</td>\n",
       "      <td>Yes</td>\n",
       "      <td>Yes</td>\n",
       "      <td>DSL</td>\n",
       "      <td>Yes</td>\n",
       "      <td>No</td>\n",
       "      <td>Yes</td>\n",
       "      <td>Yes</td>\n",
       "      <td>Yes</td>\n",
       "      <td>Yes</td>\n",
       "      <td>Yes</td>\n",
       "    </tr>\n",
       "    <tr>\n",
       "      <th>7039</th>\n",
       "      <td>2234-XADUH</td>\n",
       "      <td>2014-02-01</td>\n",
       "      <td>No</td>\n",
       "      <td>One year</td>\n",
       "      <td>Yes</td>\n",
       "      <td>Credit card (automatic)</td>\n",
       "      <td>103.20</td>\n",
       "      <td>7362.90</td>\n",
       "      <td>Female</td>\n",
       "      <td>0</td>\n",
       "      <td>Yes</td>\n",
       "      <td>Yes</td>\n",
       "      <td>Fiber optic</td>\n",
       "      <td>No</td>\n",
       "      <td>Yes</td>\n",
       "      <td>Yes</td>\n",
       "      <td>No</td>\n",
       "      <td>Yes</td>\n",
       "      <td>Yes</td>\n",
       "      <td>Yes</td>\n",
       "    </tr>\n",
       "    <tr>\n",
       "      <th>7040</th>\n",
       "      <td>4801-JZAZL</td>\n",
       "      <td>2019-03-01</td>\n",
       "      <td>No</td>\n",
       "      <td>Month-to-month</td>\n",
       "      <td>Yes</td>\n",
       "      <td>Electronic check</td>\n",
       "      <td>29.60</td>\n",
       "      <td>346.45</td>\n",
       "      <td>Female</td>\n",
       "      <td>0</td>\n",
       "      <td>Yes</td>\n",
       "      <td>Yes</td>\n",
       "      <td>DSL</td>\n",
       "      <td>Yes</td>\n",
       "      <td>No</td>\n",
       "      <td>No</td>\n",
       "      <td>No</td>\n",
       "      <td>No</td>\n",
       "      <td>No</td>\n",
       "      <td>unknown</td>\n",
       "    </tr>\n",
       "    <tr>\n",
       "      <th>7042</th>\n",
       "      <td>3186-AJIEK</td>\n",
       "      <td>2014-08-01</td>\n",
       "      <td>No</td>\n",
       "      <td>Two year</td>\n",
       "      <td>Yes</td>\n",
       "      <td>Bank transfer (automatic)</td>\n",
       "      <td>105.65</td>\n",
       "      <td>6844.50</td>\n",
       "      <td>Male</td>\n",
       "      <td>0</td>\n",
       "      <td>No</td>\n",
       "      <td>No</td>\n",
       "      <td>Fiber optic</td>\n",
       "      <td>Yes</td>\n",
       "      <td>No</td>\n",
       "      <td>Yes</td>\n",
       "      <td>Yes</td>\n",
       "      <td>Yes</td>\n",
       "      <td>Yes</td>\n",
       "      <td>No</td>\n",
       "    </tr>\n",
       "  </tbody>\n",
       "</table>\n",
       "<p>5174 rows × 20 columns</p>\n",
       "</div>"
      ],
      "text/plain": [
       "      customerid   begindate enddate            type paperlessbilling  \\\n",
       "0     7590-VHVEG  2020-01-01      No  Month-to-month              Yes   \n",
       "1     5575-GNVDE  2017-04-01      No        One year               No   \n",
       "3     7795-CFOCW  2016-05-01      No        One year               No   \n",
       "6     1452-KIOVK  2018-04-01      No  Month-to-month              Yes   \n",
       "7     6713-OKOMC  2019-04-01      No  Month-to-month               No   \n",
       "...          ...         ...     ...             ...              ...   \n",
       "7037  2569-WGERO  2014-02-01      No        Two year              Yes   \n",
       "7038  6840-RESVB  2018-02-01      No        One year              Yes   \n",
       "7039  2234-XADUH  2014-02-01      No        One year              Yes   \n",
       "7040  4801-JZAZL  2019-03-01      No  Month-to-month              Yes   \n",
       "7042  3186-AJIEK  2014-08-01      No        Two year              Yes   \n",
       "\n",
       "                  paymentmethod  monthlycharges  totalcharges  gender  \\\n",
       "0              Electronic check           29.85         29.85  Female   \n",
       "1                  Mailed check           56.95       1889.50    Male   \n",
       "3     Bank transfer (automatic)           42.30       1840.75    Male   \n",
       "6       Credit card (automatic)           89.10       1949.40    Male   \n",
       "7                  Mailed check           29.75        301.90  Female   \n",
       "...                         ...             ...           ...     ...   \n",
       "7037  Bank transfer (automatic)           21.15       1419.40  Female   \n",
       "7038               Mailed check           84.80       1990.50    Male   \n",
       "7039    Credit card (automatic)          103.20       7362.90  Female   \n",
       "7040           Electronic check           29.60        346.45  Female   \n",
       "7042  Bank transfer (automatic)          105.65       6844.50    Male   \n",
       "\n",
       "      seniorcitizen partner dependents internetservice onlinesecurity  \\\n",
       "0                 0     Yes         No             DSL             No   \n",
       "1                 0      No         No             DSL            Yes   \n",
       "3                 0      No         No             DSL            Yes   \n",
       "6                 0      No        Yes     Fiber optic             No   \n",
       "7                 0      No         No             DSL            Yes   \n",
       "...             ...     ...        ...             ...            ...   \n",
       "7037              0      No         No         unknown        unknown   \n",
       "7038              0     Yes        Yes             DSL            Yes   \n",
       "7039              0     Yes        Yes     Fiber optic             No   \n",
       "7040              0     Yes        Yes             DSL            Yes   \n",
       "7042              0      No         No     Fiber optic            Yes   \n",
       "\n",
       "     onlinebackup deviceprotection techsupport streamingtv streamingmovies  \\\n",
       "0             Yes               No          No          No              No   \n",
       "1              No              Yes          No          No              No   \n",
       "3              No              Yes         Yes          No              No   \n",
       "6             Yes               No          No         Yes              No   \n",
       "7              No               No          No          No              No   \n",
       "...           ...              ...         ...         ...             ...   \n",
       "7037      unknown          unknown     unknown     unknown         unknown   \n",
       "7038           No              Yes         Yes         Yes             Yes   \n",
       "7039          Yes              Yes          No         Yes             Yes   \n",
       "7040           No               No          No          No              No   \n",
       "7042           No              Yes         Yes         Yes             Yes   \n",
       "\n",
       "     multiplelines  \n",
       "0          unknown  \n",
       "1               No  \n",
       "3          unknown  \n",
       "6              Yes  \n",
       "7          unknown  \n",
       "...            ...  \n",
       "7037            No  \n",
       "7038           Yes  \n",
       "7039           Yes  \n",
       "7040       unknown  \n",
       "7042            No  \n",
       "\n",
       "[5174 rows x 20 columns]"
      ]
     },
     "execution_count": 22,
     "metadata": {},
     "output_type": "execute_result"
    }
   ],
   "source": [
    "# получение строк с активными пользователями\n",
    "df.query('enddate == \"No\"')"
   ]
  },
  {
   "cell_type": "markdown",
   "metadata": {},
   "source": [
    "<div style=\"border:solid blue 2px; padding: 20px\">\n",
    "    \n",
    "Получим признак `active` по условию что `enddate != \"No\"`\n",
    "    \n",
    "</div>"
   ]
  },
  {
   "cell_type": "code",
   "execution_count": 23,
   "metadata": {},
   "outputs": [],
   "source": [
    "# получение признака active по условию\n",
    "df['active'] = (df['enddate'] != 'No')*1"
   ]
  },
  {
   "cell_type": "markdown",
   "metadata": {},
   "source": [
    "<div style=\"border:solid blue 2px; padding: 20px\">\n",
    "    \n",
    "Получили  **категориальный целевой признак** - `active` - задача классификации\n",
    "    \n",
    "</div>"
   ]
  },
  {
   "cell_type": "markdown",
   "metadata": {},
   "source": [
    "<div style=\"border:solid blue 2px; padding: 20px\">\n",
    "    \n",
    "Посмотрим как часто в целевом признаке встречается класс `0` и `1`\n",
    "</div>"
   ]
  },
  {
   "cell_type": "code",
   "execution_count": 24,
   "metadata": {
    "scrolled": true
   },
   "outputs": [
    {
     "name": "stdout",
     "output_type": "stream",
     "text": [
      "0    0.73463\n",
      "1    0.26537\n",
      "Name: active, dtype: float64\n"
     ]
    },
    {
     "data": {
      "text/plain": [
       "<AxesSubplot:>"
      ]
     },
     "execution_count": 24,
     "metadata": {},
     "output_type": "execute_result"
    },
    {
     "data": {
      "image/png": "[encoded data removed]",
      "text/plain": [
       "<Figure size 432x288 with 1 Axes>"
      ]
     },
     "metadata": {
      "needs_background": "light"
     },
     "output_type": "display_data"
    }
   ],
   "source": [
    "# вывод доли активых пользователей\n",
    "class_frequency = df['active'].value_counts(normalize=True)\n",
    "print(class_frequency)\n",
    "class_frequency.plot(kind='bar')"
   ]
  },
  {
   "cell_type": "markdown",
   "metadata": {},
   "source": [
    "<div style=\"border:solid blue 2px; padding: 20px\">\n",
    " \n",
    "    \n",
    "Около `26%` значений по факту ухода клиента. \n",
    "    \n",
    "Баланс классов `0/1` соостветсвует соотношению `4/1`    \n",
    "\n",
    "    \n",
    "    \n",
    "</div>"
   ]
  },
  {
   "cell_type": "markdown",
   "metadata": {},
   "source": [
    "<div style=\"border:solid blue 2px; padding: 20px\">\n",
    "    \n",
    "Заменим в `enddate` значения `No` на  `2020-02-01`\n",
    "</div>"
   ]
  },
  {
   "cell_type": "code",
   "execution_count": 25,
   "metadata": {},
   "outputs": [],
   "source": [
    "#замена значений в enddate\n",
    "df.loc[df['enddate'] == 'No', 'enddate'] = '2020-02-01'"
   ]
  },
  {
   "cell_type": "markdown",
   "metadata": {},
   "source": [
    "<div style=\"border:solid blue 2px; padding: 20px\">\n",
    "    \n",
    "Методом `to_datetime()` заменим тип данных в `enddate` на вещественные `datetime`\n",
    "\n",
    "</div>"
   ]
  },
  {
   "cell_type": "code",
   "execution_count": 26,
   "metadata": {},
   "outputs": [],
   "source": [
    "# приведение в типу datetime\n",
    "df['enddate'] = pd.to_datetime(df['enddate'], format = '%Y-%m-%d')"
   ]
  },
  {
   "cell_type": "markdown",
   "metadata": {},
   "source": [
    "## Вывод"
   ]
  },
  {
   "cell_type": "markdown",
   "metadata": {},
   "source": [
    "<div style=\"border:solid blue 2px; padding: 20px\">\n",
    "    \n",
    "    \n",
    "**Оценка предобработки данных**\n",
    "    \n",
    "    \n",
    "Привели названия столбцов к нижнему регистру `snake_case`\n",
    "    \n",
    "Проверили данные на наличие дубликатов: отсутствуют\n",
    "    \n",
    "Полученные при объединении таблиц пропуски заменим по умолчанию на `unknown`\n",
    "    \n",
    "Заменили типы данных в следующих признаках: `totalcharges` `begindate` `enddate`\n",
    "    \n",
    "Получили  **категориальный целевой признак** - `active` - задача классификации     \n",
    "    \n",
    "Баланс классов `0/1` соостветсвует соотношению `4/1`. Около `26%` наблюдений по факту ухода клиента.  \n",
    "    \n",
    "    \n",
    "    \n",
    "**Проблемы и их возможные причины появления:**\n",
    "    \n",
    "    \n",
    "    \n",
    "Пропуски в **Категориальных** переменных.\n",
    "    \n",
    "- Пропуски `NaN` появились в результате объединения таблиц\n",
    "    \n",
    "  Заменили на значение `unknown`\n",
    "    \n",
    "    \n",
    "Уникальные значения в **Количественных** переменных.  \n",
    "    \n",
    "    \n",
    "- Артефакт обнаружены пробелы в `totalcharges` соответствующие новому контракту, \n",
    "    \n",
    "  Причина появления технологическая.\n",
    "    \n",
    "  Возможно при оформлении контракта с пользователем внутренняя программа заносит\n",
    "    \n",
    "  соответствующую информацию по общим платежам по истечению месяца после первой оплаты в `monthlycharges`.\n",
    "    \n",
    "   `Проблемы с преобразованием данных о фиксации общих платежей` - вопрос к разработчикам\n",
    "    \n",
    "\n",
    "\n",
    "    \n",
    "    \n",
    "**ОТСУТСТВИЕ ИЗНАЧАЛЬНО ПРОПУЩЕННЫХ ЗНАЧЕНИЙ ОБЛЕГЧАЕТ ПРЕДОБРАБОТКУ И АНАЛИЗ ДАННЫХ**\n",
    "    \n",
    "\n",
    "    \n",
    "    \n",
    "</div>"
   ]
  },
  {
   "cell_type": "markdown",
   "metadata": {},
   "source": [
    "## Исследовательский анализ данных"
   ]
  },
  {
   "cell_type": "markdown",
   "metadata": {},
   "source": [
    "<div style=\"border:solid blue 2px; padding: 20px\">\n",
    "    \n",
    " \n",
    "`Sweetviz` применим для исследовательского анализа данных\n",
    "    \n",
    "- `show_html` для просмотра в браузере\n",
    "    \n",
    "- `show_notebook()` в нотбуке\n",
    "    \n",
    "    \n",
    "</div> "
   ]
  },
  {
   "cell_type": "code",
   "execution_count": 27,
   "metadata": {},
   "outputs": [],
   "source": [
    "#report_df = sv.analyze(df)\n",
    "#report_df.show_notebook()"
   ]
  },
  {
   "cell_type": "code",
   "execution_count": 28,
   "metadata": {},
   "outputs": [],
   "source": [
    "#report_df.show_html(filepath='SWEETVIZ_REPORT.html',open_browser=True,layout='widescreen',scale=None)"
   ]
  },
  {
   "cell_type": "markdown",
   "metadata": {},
   "source": [
    "<div style=\"border:solid blue 2px; padding: 20px\">\n",
    "\n",
    "    \n",
    "Рассмотрим зависимость между факторами модели\n",
    "    \n",
    "* Association (закономерности и связи между признаками)\n",
    "\n",
    " `Квадраты` - это категориальные ассоциации (коэффициент корреляции) от 0 до 1.   \n",
    "    \n",
    " `Круги` - это симметричные числовые корреляции (Пирсона) от -1 до 1. \n",
    "    \n",
    "  Тривиальная диагональ намеренно оставлена пустой для ясности\n",
    "    \n",
    "**Числовые корреляции**\n",
    "    \n",
    "- `0.65` между `monthlycharges` и  `totalcharges`: в модель включаем оба фактора.\n",
    "    \n",
    "**Категориальные корреляции**   \n",
    "    \n",
    "    \n",
    "- `customerid` исключим: зависимости с другими признаками не показывает.\n",
    "    \n",
    "    \n",
    "- `begindate` оставляем: `0.16` с `active` , `0.30` с `type` , `0.17` с `enddate` ,  `0.12` с `partner`.\n",
    "    \n",
    "    \n",
    "- `enddate` исключим: из данных, потому что это на нём получили целевой признак `active`.\n",
    "    \n",
    "    \n",
    "- `type` оставляем: `0.17` с `active` , `0.11` с `techsupport.\n",
    "    \n",
    " \n",
    "- `paperlessbilling` оставляем: `0.03` с `active` ,  `0.07` с `internetservice`.\n",
    "    \n",
    "    \n",
    "- `paymentmethod` оставляем: `0.08` с `active` , `0.1` с `internetservice`.\n",
    "    \n",
    "    \n",
    "- `gender` исключим: зависимости с другими признаками не показывает.\n",
    "    \n",
    "    \n",
    "- `seniorcitizen` оставляем: `0.02` с `active`.  \n",
    "    \n",
    "    \n",
    "- `partner` оставляем: `0.02` с `active`.\n",
    "    \n",
    "    \n",
    "- `dependents` оставляем: `0.03` с `active` , `0.16` с `partner`.\n",
    "    \n",
    "    \n",
    "</div> "
   ]
  },
  {
   "cell_type": "markdown",
   "metadata": {},
   "source": [
    "<div style=\"border:solid blue 2px; padding: 20px\">\n",
    "    \n",
    "\n",
    "В данных представленны две важные характеристики пользователя `monthlycharges` — сумма ежемесячного платежа,\n",
    "    \n",
    "которая по сути в себе уже заложила информацию о подключённых услугах в `internet` и `phone`:\n",
    "\n",
    "- internetservice `0.91`\n",
    "- streamingtv `0.84`\n",
    "- streamingmovies `0.84`\n",
    "- deviceprotection `0.79`\n",
    "- onlinebackup `0.78`\n",
    "- techsupport `0.77`\n",
    "- onlinesecurity `0.76`\n",
    "- multiplelines `0.50`\n",
    "- paymentmethod `0.40`\n",
    "- paperlessbilling `0.35`\n",
    "- begindate `0.30`\n",
    "- seniorcitizen `0.22`\n",
    "- enddate `0.19`\n",
    "- active `0.19`\n",
    "\n",
    "    \n",
    "и `totalcharges` — общая сумма платежа, которая отражает `длительность жизни пользователя`\n",
    "    \n",
    "- begindate `0.83`\n",
    "- deviceprotection `0.56`\n",
    "- streamingmovies `0.55`\n",
    "- onlinebackup `0.55`\n",
    "- streamingtv `0.54`\n",
    "- techsupport `0.50`\n",
    "- onlinesecurity `0.48`\n",
    "- multiplelines `0.47`\n",
    "- type `0.46`\n",
    "- internetservice `0.43`\n",
    "- paymentmethod `0.35`\n",
    "- partner `0.32`\n",
    "- enddate `0.20`\n",
    "- active `0.20`\n",
    "    \n",
    "\n",
    " \n",
    "Поэтому решили оставить признаки `monthlycharges` и `totalcharges` как основные и\n",
    "    \n",
    "исключить второстепенные из модели:\n",
    "  \n",
    "`'internetservice','onlinesecurity', 'onlinebackup', 'deviceprotection', 'techsupport','streamingtv', 'streamingmovies', 'multiplelines'`\n",
    "\n",
    "</div>"
   ]
  },
  {
   "cell_type": "markdown",
   "metadata": {},
   "source": [
    "<div style=\"border:solid blue 2px; padding: 20px\">\n",
    "\n",
    "    \n",
    "Рассмотрим зависимость между числовыми факторами\n",
    "    \n",
    "\n",
    "суммой ежемесячных платежей `monthlycharges` и общими платежами `totalcharges`\n",
    " \n",
    "    \n",
    "Получим таблицу с коэффициентами корреляции методом `corr()`\n",
    "    \n",
    "    \n",
    "Потроим диаграммы рассеяния `.plotting.scatter_matrix`\n",
    "    \n",
    "\n",
    "\n",
    "</div> "
   ]
  },
  {
   "cell_type": "code",
   "execution_count": 29,
   "metadata": {},
   "outputs": [
    {
     "data": {
      "text/html": [
       "<div>\n",
       "<style scoped>\n",
       "    .dataframe tbody tr th:only-of-type {\n",
       "        vertical-align: middle;\n",
       "    }\n",
       "\n",
       "    .dataframe tbody tr th {\n",
       "        vertical-align: top;\n",
       "    }\n",
       "\n",
       "    .dataframe thead th {\n",
       "        text-align: right;\n",
       "    }\n",
       "</style>\n",
       "<table border=\"1\" class=\"dataframe\">\n",
       "  <thead>\n",
       "    <tr style=\"text-align: right;\">\n",
       "      <th></th>\n",
       "      <th>monthlycharges</th>\n",
       "      <th>totalcharges</th>\n",
       "    </tr>\n",
       "  </thead>\n",
       "  <tbody>\n",
       "    <tr>\n",
       "      <th>0</th>\n",
       "      <td>29.85</td>\n",
       "      <td>29.85</td>\n",
       "    </tr>\n",
       "    <tr>\n",
       "      <th>1</th>\n",
       "      <td>56.95</td>\n",
       "      <td>1889.50</td>\n",
       "    </tr>\n",
       "    <tr>\n",
       "      <th>2</th>\n",
       "      <td>53.85</td>\n",
       "      <td>108.15</td>\n",
       "    </tr>\n",
       "    <tr>\n",
       "      <th>3</th>\n",
       "      <td>42.30</td>\n",
       "      <td>1840.75</td>\n",
       "    </tr>\n",
       "    <tr>\n",
       "      <th>4</th>\n",
       "      <td>70.70</td>\n",
       "      <td>151.65</td>\n",
       "    </tr>\n",
       "  </tbody>\n",
       "</table>\n",
       "</div>"
      ],
      "text/plain": [
       "   monthlycharges  totalcharges\n",
       "0           29.85         29.85\n",
       "1           56.95       1889.50\n",
       "2           53.85        108.15\n",
       "3           42.30       1840.75\n",
       "4           70.70        151.65"
      ]
     },
     "execution_count": 29,
     "metadata": {},
     "output_type": "execute_result"
    }
   ],
   "source": [
    "# вывод строк для определения зависимости\n",
    "df_correlation = df.loc[:,['monthlycharges','totalcharges']]\n",
    "df_correlation.head()"
   ]
  },
  {
   "cell_type": "code",
   "execution_count": 30,
   "metadata": {
    "scrolled": true
   },
   "outputs": [
    {
     "data": {
      "text/html": [
       "<div>\n",
       "<style scoped>\n",
       "    .dataframe tbody tr th:only-of-type {\n",
       "        vertical-align: middle;\n",
       "    }\n",
       "\n",
       "    .dataframe tbody tr th {\n",
       "        vertical-align: top;\n",
       "    }\n",
       "\n",
       "    .dataframe thead th {\n",
       "        text-align: right;\n",
       "    }\n",
       "</style>\n",
       "<table border=\"1\" class=\"dataframe\">\n",
       "  <thead>\n",
       "    <tr style=\"text-align: right;\">\n",
       "      <th></th>\n",
       "      <th>monthlycharges</th>\n",
       "      <th>totalcharges</th>\n",
       "    </tr>\n",
       "  </thead>\n",
       "  <tbody>\n",
       "    <tr>\n",
       "      <th>monthlycharges</th>\n",
       "      <td>1.000000</td>\n",
       "      <td>0.651174</td>\n",
       "    </tr>\n",
       "    <tr>\n",
       "      <th>totalcharges</th>\n",
       "      <td>0.651174</td>\n",
       "      <td>1.000000</td>\n",
       "    </tr>\n",
       "  </tbody>\n",
       "</table>\n",
       "</div>"
      ],
      "text/plain": [
       "                monthlycharges  totalcharges\n",
       "monthlycharges        1.000000      0.651174\n",
       "totalcharges          0.651174      1.000000"
      ]
     },
     "execution_count": 30,
     "metadata": {},
     "output_type": "execute_result"
    }
   ],
   "source": [
    "# вывод матрицы корреляции\n",
    "df_correlation.corr()"
   ]
  },
  {
   "cell_type": "code",
   "execution_count": 31,
   "metadata": {},
   "outputs": [
    {
     "data": {
      "text/plain": [
       "array([[<AxesSubplot:xlabel='monthlycharges', ylabel='monthlycharges'>,\n",
       "        <AxesSubplot:xlabel='totalcharges', ylabel='monthlycharges'>],\n",
       "       [<AxesSubplot:xlabel='monthlycharges', ylabel='totalcharges'>,\n",
       "        <AxesSubplot:xlabel='totalcharges', ylabel='totalcharges'>]],\n",
       "      dtype=object)"
      ]
     },
     "execution_count": 31,
     "metadata": {},
     "output_type": "execute_result"
    },
    {
     "data": {
      "image/png": "[encoded data removed]",
      "text/plain": [
       "<Figure size 360x360 with 4 Axes>"
      ]
     },
     "metadata": {
      "needs_background": "light"
     },
     "output_type": "display_data"
    }
   ],
   "source": [
    "# построение диаграмм рассеяния\n",
    "pd.plotting.scatter_matrix(df_correlation, figsize=(5, 5))"
   ]
  },
  {
   "cell_type": "markdown",
   "metadata": {},
   "source": [
    "<div style=\"border:solid blue 2px; padding: 20px\">\n",
    "\n",
    "    \n",
    "Наличие умеренной положительной корреляции `0.65` между\n",
    "    \n",
    "суммой ежемесячных платежей `monthlycharges` и общими платежами `totalcharges` \n",
    "    \n",
    "Принимаем решение включить в модель оба фактора\n",
    "    \n",
    "\n",
    "\n",
    "</div> "
   ]
  },
  {
   "cell_type": "markdown",
   "metadata": {},
   "source": [
    "<div style=\"border:solid blue 2px; padding: 20px\">\n",
    "    \n",
    "Сравним распределения ежемесячных платежей `monthlycharges`:\n",
    "    \n",
    "- для всех пользователей\n",
    "    \n",
    "- не активных пользователей\n",
    "\n",
    "</div>"
   ]
  },
  {
   "cell_type": "code",
   "execution_count": 32,
   "metadata": {},
   "outputs": [
    {
     "data": {
      "text/plain": [
       "count    1869.000000\n",
       "mean       74.441332\n",
       "std        24.666053\n",
       "min        18.850000\n",
       "25%        56.150000\n",
       "50%        79.650000\n",
       "75%        94.200000\n",
       "max       118.350000\n",
       "Name: monthlycharges, dtype: float64"
      ]
     },
     "execution_count": 32,
     "metadata": {},
     "output_type": "execute_result"
    }
   ],
   "source": [
    "# описание данных по не активным пользователям\n",
    "df.query('active == 1')['monthlycharges'].describe()"
   ]
  },
  {
   "cell_type": "markdown",
   "metadata": {},
   "source": [
    "<div style=\"border:solid blue 2px; padding: 20px\">\n",
    "    \n",
    "Статистика `monthlycharges` по не активным пользователям:\n",
    "    \n",
    "- среднее `74.44`\n",
    "    \n",
    "- минимальное `18.85`\n",
    "    \n",
    "- максимальное `118.35`\n",
    "    \n",
    "- медиана (50-й процентиль или Q2 квартиль) `74.44`\n",
    "    \n",
    "- 25-й процентиль или Q1 квартиль `56.15`\n",
    "    \n",
    "- 75-й процентиль или Q3 квартиль `94.20`\n",
    "\n",
    "</div>"
   ]
  },
  {
   "cell_type": "code",
   "execution_count": 33,
   "metadata": {},
   "outputs": [
    {
     "data": {
      "text/plain": [
       "<AxesSubplot:title={'center':'гистограмма по неактивным пользователям'}, ylabel='Frequency'>"
      ]
     },
     "execution_count": 33,
     "metadata": {},
     "output_type": "execute_result"
    },
    {
     "data": {
      "image/png": "[encoded data removed]",
      "text/plain": [
       "<Figure size 432x288 with 1 Axes>"
      ]
     },
     "metadata": {
      "needs_background": "light"
     },
     "output_type": "display_data"
    }
   ],
   "source": [
    "# построение гистограммы по не активным пользователям\n",
    "df.query('active == 1')['monthlycharges'].plot.hist(bins=10, grid=True, legend=True, title='гистограмма по неактивным пользователям')"
   ]
  },
  {
   "cell_type": "code",
   "execution_count": 34,
   "metadata": {},
   "outputs": [
    {
     "data": {
      "text/plain": [
       "count    7043.000000\n",
       "mean       64.761692\n",
       "std        30.090047\n",
       "min        18.250000\n",
       "25%        35.500000\n",
       "50%        70.350000\n",
       "75%        89.850000\n",
       "max       118.750000\n",
       "Name: monthlycharges, dtype: float64"
      ]
     },
     "execution_count": 34,
     "metadata": {},
     "output_type": "execute_result"
    }
   ],
   "source": [
    "# описание данных по всем пользователям\n",
    "df['monthlycharges'].describe()"
   ]
  },
  {
   "cell_type": "markdown",
   "metadata": {},
   "source": [
    "<div style=\"border:solid blue 2px; padding: 20px\">\n",
    "    \n",
    "Статистика `monthlycharges` по всем пользователям:\n",
    "    \n",
    "- среднее `64.76`\n",
    "    \n",
    "- минимальное `18.25`\n",
    "    \n",
    "- максимальное `118.75`\n",
    "    \n",
    "- медиана (50-й процентиль или Q2 квартиль) `70.35`\n",
    "    \n",
    "- 25-й процентиль или Q1 квартиль `35.50`\n",
    "    \n",
    "- 75-й процентиль или Q3 квартиль `89.85`\n",
    "\n",
    "</div>"
   ]
  },
  {
   "cell_type": "code",
   "execution_count": 35,
   "metadata": {},
   "outputs": [
    {
     "data": {
      "text/plain": [
       "<AxesSubplot:title={'center':'гистограмма по всем пользователям'}, ylabel='Frequency'>"
      ]
     },
     "execution_count": 35,
     "metadata": {},
     "output_type": "execute_result"
    },
    {
     "data": {
      "image/png": "[encoded data removed]",
      "text/plain": [
       "<Figure size 432x288 with 1 Axes>"
      ]
     },
     "metadata": {
      "needs_background": "light"
     },
     "output_type": "display_data"
    }
   ],
   "source": [
    "# построение гистограммы по всем пользователям\n",
    "df['monthlycharges'].plot.hist(bins=10, grid=True, legend=True, title='гистограмма по всем пользователям')"
   ]
  },
  {
   "cell_type": "markdown",
   "metadata": {},
   "source": [
    "<div style=\"border:solid blue 2px; padding: 20px\">\n",
    "    \n",
    "Сгруппируем клиентов по `monthlycharges` на десять диапазонов платежей\n",
    "    \n",
    "</div>"
   ]
  },
  {
   "cell_type": "code",
   "execution_count": 36,
   "metadata": {},
   "outputs": [
    {
     "data": {
      "text/plain": [
       "0        (28.3, 38.35]\n",
       "1        (48.4, 58.45]\n",
       "2        (48.4, 58.45]\n",
       "3        (38.35, 48.4]\n",
       "4        (68.5, 78.55]\n",
       "             ...      \n",
       "7038     (78.55, 88.6]\n",
       "7039    (98.65, 108.7]\n",
       "7040     (28.3, 38.35]\n",
       "7041     (68.5, 78.55]\n",
       "7042    (98.65, 108.7]\n",
       "Name: monthlycharges, Length: 7043, dtype: category\n",
       "Categories (10, interval[float64]): [(18.15, 28.3] < (28.3, 38.35] < (38.35, 48.4] < (48.4, 58.45] ... (78.55, 88.6] < (88.6, 98.65] < (98.65, 108.7] < (108.7, 118.75]]"
      ]
     },
     "execution_count": 36,
     "metadata": {},
     "output_type": "execute_result"
    }
   ],
   "source": [
    "# получение десяти групп по ежемесячным платежам\n",
    "pd.cut(df['monthlycharges'], 10)"
   ]
  },
  {
   "cell_type": "markdown",
   "metadata": {},
   "source": [
    "<div style=\"border:solid blue 2px; padding: 20px\">\n",
    "    \n",
    "Сравним поведение клиентов по `monthlycharges` между не активными и всеми пользователями\n",
    "\n",
    "</div>"
   ]
  },
  {
   "cell_type": "code",
   "execution_count": 37,
   "metadata": {},
   "outputs": [
    {
     "data": {
      "text/html": [
       "<div>\n",
       "<style scoped>\n",
       "    .dataframe tbody tr th:only-of-type {\n",
       "        vertical-align: middle;\n",
       "    }\n",
       "\n",
       "    .dataframe tbody tr th {\n",
       "        vertical-align: top;\n",
       "    }\n",
       "\n",
       "    .dataframe thead th {\n",
       "        text-align: right;\n",
       "    }\n",
       "</style>\n",
       "<table border=\"1\" class=\"dataframe\">\n",
       "  <thead>\n",
       "    <tr style=\"text-align: right;\">\n",
       "      <th></th>\n",
       "      <th>monthlycharges</th>\n",
       "      <th>count</th>\n",
       "      <th>sum</th>\n",
       "      <th>mean</th>\n",
       "    </tr>\n",
       "  </thead>\n",
       "  <tbody>\n",
       "    <tr>\n",
       "      <th>0</th>\n",
       "      <td>(18.15, 28.3]</td>\n",
       "      <td>1606</td>\n",
       "      <td>148</td>\n",
       "      <td>0.092154</td>\n",
       "    </tr>\n",
       "    <tr>\n",
       "      <th>1</th>\n",
       "      <td>(28.3, 38.35]</td>\n",
       "      <td>191</td>\n",
       "      <td>57</td>\n",
       "      <td>0.298429</td>\n",
       "    </tr>\n",
       "    <tr>\n",
       "      <th>2</th>\n",
       "      <td>(38.35, 48.4]</td>\n",
       "      <td>365</td>\n",
       "      <td>119</td>\n",
       "      <td>0.326027</td>\n",
       "    </tr>\n",
       "    <tr>\n",
       "      <th>3</th>\n",
       "      <td>(48.4, 58.45]</td>\n",
       "      <td>640</td>\n",
       "      <td>152</td>\n",
       "      <td>0.237500</td>\n",
       "    </tr>\n",
       "    <tr>\n",
       "      <th>4</th>\n",
       "      <td>(58.45, 68.5]</td>\n",
       "      <td>474</td>\n",
       "      <td>54</td>\n",
       "      <td>0.113924</td>\n",
       "    </tr>\n",
       "    <tr>\n",
       "      <th>5</th>\n",
       "      <td>(68.5, 78.55]</td>\n",
       "      <td>893</td>\n",
       "      <td>349</td>\n",
       "      <td>0.390817</td>\n",
       "    </tr>\n",
       "    <tr>\n",
       "      <th>6</th>\n",
       "      <td>(78.55, 88.6]</td>\n",
       "      <td>953</td>\n",
       "      <td>355</td>\n",
       "      <td>0.372508</td>\n",
       "    </tr>\n",
       "    <tr>\n",
       "      <th>7</th>\n",
       "      <td>(88.6, 98.65]</td>\n",
       "      <td>873</td>\n",
       "      <td>320</td>\n",
       "      <td>0.366552</td>\n",
       "    </tr>\n",
       "    <tr>\n",
       "      <th>8</th>\n",
       "      <td>(98.65, 108.7]</td>\n",
       "      <td>754</td>\n",
       "      <td>272</td>\n",
       "      <td>0.360743</td>\n",
       "    </tr>\n",
       "    <tr>\n",
       "      <th>9</th>\n",
       "      <td>(108.7, 118.75]</td>\n",
       "      <td>294</td>\n",
       "      <td>43</td>\n",
       "      <td>0.146259</td>\n",
       "    </tr>\n",
       "  </tbody>\n",
       "</table>\n",
       "</div>"
      ],
      "text/plain": [
       "    monthlycharges  count  sum      mean\n",
       "0    (18.15, 28.3]   1606  148  0.092154\n",
       "1    (28.3, 38.35]    191   57  0.298429\n",
       "2    (38.35, 48.4]    365  119  0.326027\n",
       "3    (48.4, 58.45]    640  152  0.237500\n",
       "4    (58.45, 68.5]    474   54  0.113924\n",
       "5    (68.5, 78.55]    893  349  0.390817\n",
       "6    (78.55, 88.6]    953  355  0.372508\n",
       "7    (88.6, 98.65]    873  320  0.366552\n",
       "8   (98.65, 108.7]    754  272  0.360743\n",
       "9  (108.7, 118.75]    294   43  0.146259"
      ]
     },
     "execution_count": 37,
     "metadata": {},
     "output_type": "execute_result"
    }
   ],
   "source": [
    "# сгруппируем данные по monthlycharges и посмортим на их активность\n",
    "t = df.groupby(pd.cut(df['monthlycharges'], 10))['active'].agg(['count','sum']).reset_index()\n",
    "t['mean'] = t['sum']/t['count']\n",
    "t"
   ]
  },
  {
   "cell_type": "markdown",
   "metadata": {},
   "source": [
    "<div style=\"border:solid blue 2px; padding: 20px\">\n",
    "    \n",
    "Платежи не активных пользователей в основном находились в:\n",
    "    \n",
    "- `28.3, 38.35` это 29% от всех пользователей в этом диапазоне\n",
    "    \n",
    "- `38.35, 48.4` это 32% от всех пользователей в этом диапазоне\n",
    "    \n",
    "- `48.4, 58.45` это 23% от всех пользователей в этом диапазоне    \n",
    "\n",
    "- `68.5, 78.55` это 39% от всех пользователей в этом диапазоне\n",
    "    \n",
    "- `78.55, 88.6` это 37% от всех пользователей в этом диапазоне\n",
    "    \n",
    "- `88.6, 98.65` это 36% от всех пользователей в этом диапазоне\n",
    "    \n",
    "- `98.65, 108.7` это 36% от всех пользователей в этом диапазоне\n",
    "    \n",
    "\n",
    "\n",
    "</div>"
   ]
  },
  {
   "cell_type": "markdown",
   "metadata": {},
   "source": [
    "<div style=\"border:solid blue 2px; padding: 20px\">\n",
    "    \n",
    "Диапазон `18.15, 28.3` по `monthlycharges` составляет наиболее часто встречающиеся пользователей `1606`\n",
    "   \n",
    "В нём всего 9% не активных ползователей\n",
    "\n",
    "</div>"
   ]
  },
  {
   "cell_type": "markdown",
   "metadata": {},
   "source": [
    "<div style=\"border:solid blue 2px; padding: 20px\">\n",
    "    \n",
    " \n",
    "Методом `boxplot()` поcтроим диаграмму размаха `monthlycharges` по типам контрактов\n",
    "    \n",
    "    \n",
    "</div> "
   ]
  },
  {
   "cell_type": "code",
   "execution_count": 38,
   "metadata": {},
   "outputs": [
    {
     "data": {
      "text/plain": [
       "Text(0, 0.5, 'Сумма ежемесячного платежа')"
      ]
     },
     "execution_count": 38,
     "metadata": {},
     "output_type": "execute_result"
    },
    {
     "data": {
      "image/png": "[encoded data removed]",
      "text/plain": [
       "<Figure size 360x360 with 1 Axes>"
      ]
     },
     "metadata": {
      "needs_background": "light"
     },
     "output_type": "display_data"
    }
   ],
   "source": [
    "# диаграмма размаха для monthlycharges по типам контрактов\n",
    "df.boxplot(column=['monthlycharges'], by='type', figsize=(5,5), grid=True)\n",
    "plt.title('диаграмма ежемесячных платежей по типам контрактов')\n",
    "plt.xlabel('Тип контракта')  \n",
    "plt.ylabel('Сумма ежемесячного платежа')"
   ]
  },
  {
   "cell_type": "markdown",
   "metadata": {},
   "source": [
    "<div style=\"border:solid blue 2px; padding: 20px\">\n",
    "    \n",
    "  \n",
    "`monthlycharges` по типам контрактов находятся в диапазоне `20 - 120` в зависимости от подключённых услуг\n",
    "    \n",
    "    \n",
    "</div> "
   ]
  },
  {
   "cell_type": "markdown",
   "metadata": {},
   "source": [
    "<div style=\"border:solid blue 2px; padding: 20px\">\n",
    "    \n",
    " \n",
    "Методом `boxplot()` поcтроим диаграмму размаха `monthlycharges` по типам контрактов\n",
    "    \n",
    "    \n",
    "</div> "
   ]
  },
  {
   "cell_type": "code",
   "execution_count": 39,
   "metadata": {},
   "outputs": [
    {
     "data": {
      "text/plain": [
       "Text(0, 0.5, 'Сумма общего платежа')"
      ]
     },
     "execution_count": 39,
     "metadata": {},
     "output_type": "execute_result"
    },
    {
     "data": {
      "image/png": "[encoded data removed]",
      "text/plain": [
       "<Figure size 360x360 with 1 Axes>"
      ]
     },
     "metadata": {
      "needs_background": "light"
     },
     "output_type": "display_data"
    }
   ],
   "source": [
    "# диаграмма размаха totalcharges по типам контрактов\n",
    "df.boxplot(column=['totalcharges'], by='type', figsize=(5,5), grid=True)\n",
    "plt.title('диаграмма общих платежей по типам контрактов')\n",
    "plt.xlabel('Тип контракта');    \n",
    "plt.ylabel('Сумма общего платежа')"
   ]
  },
  {
   "cell_type": "code",
   "execution_count": 40,
   "metadata": {},
   "outputs": [
    {
     "name": "stdout",
     "output_type": "stream",
     "text": [
      "Выбросы: [5036.3, 5450.7, 7107.0, 5238.9, 6519.75, 6126.15, 5624.85, 5138.1, 6603.0, 7007.6, 5070.4, 6396.45, 6300.15, 5916.95, 5029.05, 6786.4, 6985.65, 5589.3, 6751.35, 5774.55, 6215.35, 5017.9, 5645.8, 5580.8, 4997.5, 5475.9, 6127.6, 5124.55, 7133.25, 5315.1, 6373.1, 5985.75, 7227.45, 4993.4, 6081.4, 7002.95, 6710.5, 5341.8, 7082.45, 5125.5, 6669.05, 5044.8, 5832.0, 6669.45, 5931.0, 4931.8, 5124.6, 5118.95, 5099.15, 5940.85, 5885.4, 5869.4, 4946.05, 4964.7, 5594.0, 7554.05, 5893.95, 5427.05, 7111.3, 6690.75, 6941.2, 6822.15, 5029.2, 5068.05, 6223.3, 5969.95, 5149.5, 5574.75, 5742.9, 5935.1, 5611.7, 6281.45, 6713.2, 6780.1, 5294.6, 5135.35, 4959.6, 6017.9, 6841.05, 6010.05, 7101.5, 6236.75, 5038.15, 6283.3, 6143.15, 5073.1, 5278.15, 5913.95, 5586.45, 5327.25, 5549.4, 6118.95, 5841.35, 5688.45, 6019.35, 4949.1, 5497.05, 5921.35, 6572.85, 6936.85, 5817.7, 8061.5, 5405.8, 7132.15, 5647.95, 5127.95, 6079.0, 5839.3, 5683.6, 5780.7, 5812.6, 6851.65, 6171.2, 5623.7, 5581.05, 5676.65, 5496.9, 6164.7, 6871.7, 5116.6, 5025.0, 6871.9, 6951.15, 5960.5, 7446.9, 6595.0, 4972.1, 7320.9, 5500.6, 5283.95, 6487.2, 5432.2, 6411.25, 6496.15, 6382.0, 5538.8, 6470.1, 5688.05, 6747.35, 5219.65, 5511.65, 6812.95, 5438.9, 5597.65, 6953.4, 5794.45, 5925.75, 6382.55, 7713.55, 5953.0, 5431.9, 6401.25, 4952.95, 5222.35, 5083.55, 6252.9, 5731.85, 5749.8, 5629.55, 7548.1, 6444.05, 6914.95, 5060.85, 5618.3, 5567.45, 5485.5, 7299.65, 7031.45, 5943.65, 6039.9, 5588.8, 5568.35, 5348.65, 5088.4, 5976.9, 5295.7, 5135.15, 5071.05, 6578.55, 5785.65, 5364.8, 5435.6, 5669.5, 6375.2, 6548.65, 6503.2, 5746.15, 5440.9, 5438.95, 5617.75, 5386.5, 5224.35, 6014.85, 5305.05, 5025.8, 4981.15, 5121.3, 5895.45, 6479.4, 6886.25]\n"
     ]
    }
   ],
   "source": [
    "outliers=[]\n",
    "def iqr_outliers(df):\n",
    "    q1 = df.quantile(0.25)\n",
    "    q3 = df.quantile(0.75)\n",
    "    iqr = q3-q1\n",
    "    lower_tail = q1 - 1.5 * iqr\n",
    "    upper_tail = q3 + 1.5 * iqr\n",
    "    for i in df:\n",
    "        if i > upper_tail or i < lower_tail:\n",
    "            outliers.append(i)\n",
    "    print(\"Выбросы:\",outliers)\n",
    "iqr_outliers(df.query('type == \"Month-to-month\"')['totalcharges'])"
   ]
  },
  {
   "cell_type": "code",
   "execution_count": 41,
   "metadata": {},
   "outputs": [
    {
     "data": {
      "text/html": [
       "<div>\n",
       "<style scoped>\n",
       "    .dataframe tbody tr th:only-of-type {\n",
       "        vertical-align: middle;\n",
       "    }\n",
       "\n",
       "    .dataframe tbody tr th {\n",
       "        vertical-align: top;\n",
       "    }\n",
       "\n",
       "    .dataframe thead th {\n",
       "        text-align: right;\n",
       "    }\n",
       "</style>\n",
       "<table border=\"1\" class=\"dataframe\">\n",
       "  <thead>\n",
       "    <tr style=\"text-align: right;\">\n",
       "      <th></th>\n",
       "      <th>count</th>\n",
       "      <th>mean</th>\n",
       "    </tr>\n",
       "    <tr>\n",
       "      <th>active</th>\n",
       "      <th></th>\n",
       "      <th></th>\n",
       "    </tr>\n",
       "  </thead>\n",
       "  <tbody>\n",
       "    <tr>\n",
       "      <th>0</th>\n",
       "      <td>143</td>\n",
       "      <td>0.715</td>\n",
       "    </tr>\n",
       "    <tr>\n",
       "      <th>1</th>\n",
       "      <td>57</td>\n",
       "      <td>0.285</td>\n",
       "    </tr>\n",
       "  </tbody>\n",
       "</table>\n",
       "</div>"
      ],
      "text/plain": [
       "        count   mean\n",
       "active              \n",
       "0         143  0.715\n",
       "1          57  0.285"
      ]
     },
     "execution_count": 41,
     "metadata": {},
     "output_type": "execute_result"
    }
   ],
   "source": [
    "# получение доли в выбросах всех пользователей по типу Month-to-month\n",
    "o = df.query('type == \"Month-to-month\" and totalcharges ==@outliers ').groupby('active')['active'].agg(['count'])\n",
    "o['mean'] = o['count']/df.query('type == \"Month-to-month\" and totalcharges ==@outliers ').shape[0]\n",
    "o"
   ]
  },
  {
   "cell_type": "code",
   "execution_count": 42,
   "metadata": {},
   "outputs": [
    {
     "data": {
      "text/plain": [
       "<AxesSubplot:xlabel='active'>"
      ]
     },
     "execution_count": 42,
     "metadata": {},
     "output_type": "execute_result"
    },
    {
     "data": {
      "image/png": "[encoded data removed]",
      "text/plain": [
       "<Figure size 432x288 with 1 Axes>"
      ]
     },
     "metadata": {
      "needs_background": "light"
     },
     "output_type": "display_data"
    }
   ],
   "source": [
    "# график долей в выбросах всех пользователей по типу Month-to-month\n",
    "o['mean'].plot(kind='bar')"
   ]
  },
  {
   "cell_type": "markdown",
   "metadata": {},
   "source": [
    "<div style=\"border:solid blue 2px; padding: 20px\">\n",
    "    \n",
    "В выбросах всех пользователей по типу `Month-to-month` в `totalcharges` активных `71%` и не активных `29%`\n",
    "\n",
    "</div>"
   ]
  },
  {
   "cell_type": "markdown",
   "metadata": {},
   "source": [
    "<div style=\"border:solid blue 2px; padding: 20px\">\n",
    "    \n",
    "  \n",
    "`totalcharges` по типам контрактов `One/Two year `находятся в диапазоне `20 - 8500` \n",
    "    \n",
    " по типам контрактов `Month-to-month `находятся в диапазоне `20 - 5000` большим количством выбросов\n",
    "    \n",
    "    \n",
    "</div> "
   ]
  },
  {
   "cell_type": "markdown",
   "metadata": {},
   "source": [
    "<div style=\"border:solid blue 2px; padding: 20px\">\n",
    "    \n",
    "Для не активных и всех пользователей долю в `multiplelines`\n",
    "\n",
    "</div>"
   ]
  },
  {
   "cell_type": "code",
   "execution_count": 43,
   "metadata": {},
   "outputs": [
    {
     "data": {
      "text/html": [
       "<div>\n",
       "<style scoped>\n",
       "    .dataframe tbody tr th:only-of-type {\n",
       "        vertical-align: middle;\n",
       "    }\n",
       "\n",
       "    .dataframe tbody tr th {\n",
       "        vertical-align: top;\n",
       "    }\n",
       "\n",
       "    .dataframe thead th {\n",
       "        text-align: right;\n",
       "    }\n",
       "</style>\n",
       "<table border=\"1\" class=\"dataframe\">\n",
       "  <thead>\n",
       "    <tr style=\"text-align: right;\">\n",
       "      <th></th>\n",
       "      <th>count</th>\n",
       "      <th>mean</th>\n",
       "    </tr>\n",
       "    <tr>\n",
       "      <th>multiplelines</th>\n",
       "      <th></th>\n",
       "      <th></th>\n",
       "    </tr>\n",
       "  </thead>\n",
       "  <tbody>\n",
       "    <tr>\n",
       "      <th>No</th>\n",
       "      <td>3390</td>\n",
       "      <td>0.481329</td>\n",
       "    </tr>\n",
       "    <tr>\n",
       "      <th>Yes</th>\n",
       "      <td>2971</td>\n",
       "      <td>0.421837</td>\n",
       "    </tr>\n",
       "    <tr>\n",
       "      <th>unknown</th>\n",
       "      <td>682</td>\n",
       "      <td>0.096834</td>\n",
       "    </tr>\n",
       "  </tbody>\n",
       "</table>\n",
       "</div>"
      ],
      "text/plain": [
       "               count      mean\n",
       "multiplelines                 \n",
       "No              3390  0.481329\n",
       "Yes             2971  0.421837\n",
       "unknown          682  0.096834"
      ]
     },
     "execution_count": 43,
     "metadata": {},
     "output_type": "execute_result"
    }
   ],
   "source": [
    "# получение доли всех пользователей multiplelines\n",
    "g = df.groupby('multiplelines')['multiplelines'].agg(['count'])\n",
    "g['mean'] = g['count']/df.shape[0]\n",
    "g"
   ]
  },
  {
   "cell_type": "code",
   "execution_count": 44,
   "metadata": {},
   "outputs": [
    {
     "data": {
      "text/plain": [
       "<AxesSubplot:xlabel='multiplelines'>"
      ]
     },
     "execution_count": 44,
     "metadata": {},
     "output_type": "execute_result"
    },
    {
     "data": {
      "image/png": "[encoded data removed]",
      "text/plain": [
       "<Figure size 432x288 with 1 Axes>"
      ]
     },
     "metadata": {
      "needs_background": "light"
     },
     "output_type": "display_data"
    }
   ],
   "source": [
    "# график долей всех пользователей multiplelines\n",
    "g['mean'].plot(kind='bar')"
   ]
  },
  {
   "cell_type": "code",
   "execution_count": 45,
   "metadata": {},
   "outputs": [
    {
     "data": {
      "text/html": [
       "<div>\n",
       "<style scoped>\n",
       "    .dataframe tbody tr th:only-of-type {\n",
       "        vertical-align: middle;\n",
       "    }\n",
       "\n",
       "    .dataframe tbody tr th {\n",
       "        vertical-align: top;\n",
       "    }\n",
       "\n",
       "    .dataframe thead th {\n",
       "        text-align: right;\n",
       "    }\n",
       "</style>\n",
       "<table border=\"1\" class=\"dataframe\">\n",
       "  <thead>\n",
       "    <tr style=\"text-align: right;\">\n",
       "      <th></th>\n",
       "      <th>count</th>\n",
       "      <th>mean</th>\n",
       "    </tr>\n",
       "    <tr>\n",
       "      <th>multiplelines</th>\n",
       "      <th></th>\n",
       "      <th></th>\n",
       "    </tr>\n",
       "  </thead>\n",
       "  <tbody>\n",
       "    <tr>\n",
       "      <th>No</th>\n",
       "      <td>849</td>\n",
       "      <td>0.454254</td>\n",
       "    </tr>\n",
       "    <tr>\n",
       "      <th>Yes</th>\n",
       "      <td>850</td>\n",
       "      <td>0.454789</td>\n",
       "    </tr>\n",
       "    <tr>\n",
       "      <th>unknown</th>\n",
       "      <td>170</td>\n",
       "      <td>0.090958</td>\n",
       "    </tr>\n",
       "  </tbody>\n",
       "</table>\n",
       "</div>"
      ],
      "text/plain": [
       "               count      mean\n",
       "multiplelines                 \n",
       "No               849  0.454254\n",
       "Yes              850  0.454789\n",
       "unknown          170  0.090958"
      ]
     },
     "execution_count": 45,
     "metadata": {},
     "output_type": "execute_result"
    }
   ],
   "source": [
    "# получение доли не активных пользователей multiplelines\n",
    "b = df.query('active == 1').groupby('multiplelines')['multiplelines'].agg(['count'])\n",
    "b['mean'] = b['count']/df.query('active == 1').shape[0]\n",
    "b"
   ]
  },
  {
   "cell_type": "code",
   "execution_count": 46,
   "metadata": {},
   "outputs": [
    {
     "data": {
      "text/plain": [
       "<AxesSubplot:xlabel='multiplelines'>"
      ]
     },
     "execution_count": 46,
     "metadata": {},
     "output_type": "execute_result"
    },
    {
     "data": {
      "image/png": "[encoded data removed]",
      "text/plain": [
       "<Figure size 432x288 with 1 Axes>"
      ]
     },
     "metadata": {
      "needs_background": "light"
     },
     "output_type": "display_data"
    }
   ],
   "source": [
    "# график долей всех пользователей multiplelines\n",
    "b['mean'].plot(kind='bar')"
   ]
  },
  {
   "cell_type": "markdown",
   "metadata": {},
   "source": [
    "<div style=\"border:solid blue 2px; padding: 20px\">\n",
    "    \n",
    "Для не активных пользователей доля в `multiplelines` `45% - Yes` `45% - No` `10% - unknown`\n",
    "    \n",
    "и всех пользователей доля в `multiplelines` `42% - Yes` `48% - No` `10% - unknown`\n",
    "\n",
    "</div>"
   ]
  },
  {
   "cell_type": "markdown",
   "metadata": {},
   "source": [
    "<div style=\"border:solid blue 2px; padding: 20px\">\n",
    "    \n",
    "Для не активных и всех пользователей долю в `internetservice`\n",
    "\n",
    "</div>"
   ]
  },
  {
   "cell_type": "code",
   "execution_count": 47,
   "metadata": {},
   "outputs": [
    {
     "data": {
      "text/html": [
       "<div>\n",
       "<style scoped>\n",
       "    .dataframe tbody tr th:only-of-type {\n",
       "        vertical-align: middle;\n",
       "    }\n",
       "\n",
       "    .dataframe tbody tr th {\n",
       "        vertical-align: top;\n",
       "    }\n",
       "\n",
       "    .dataframe thead th {\n",
       "        text-align: right;\n",
       "    }\n",
       "</style>\n",
       "<table border=\"1\" class=\"dataframe\">\n",
       "  <thead>\n",
       "    <tr style=\"text-align: right;\">\n",
       "      <th></th>\n",
       "      <th>count</th>\n",
       "      <th>mean</th>\n",
       "    </tr>\n",
       "    <tr>\n",
       "      <th>internetservice</th>\n",
       "      <th></th>\n",
       "      <th></th>\n",
       "    </tr>\n",
       "  </thead>\n",
       "  <tbody>\n",
       "    <tr>\n",
       "      <th>DSL</th>\n",
       "      <td>2421</td>\n",
       "      <td>0.343746</td>\n",
       "    </tr>\n",
       "    <tr>\n",
       "      <th>Fiber optic</th>\n",
       "      <td>3096</td>\n",
       "      <td>0.439585</td>\n",
       "    </tr>\n",
       "    <tr>\n",
       "      <th>unknown</th>\n",
       "      <td>1526</td>\n",
       "      <td>0.216669</td>\n",
       "    </tr>\n",
       "  </tbody>\n",
       "</table>\n",
       "</div>"
      ],
      "text/plain": [
       "                 count      mean\n",
       "internetservice                 \n",
       "DSL               2421  0.343746\n",
       "Fiber optic       3096  0.439585\n",
       "unknown           1526  0.216669"
      ]
     },
     "execution_count": 47,
     "metadata": {},
     "output_type": "execute_result"
    }
   ],
   "source": [
    "# получение доли всех пользователей internetservice\n",
    "m = df.groupby('internetservice')['internetservice'].agg(['count'])\n",
    "m['mean'] = m['count']/df.shape[0]\n",
    "m"
   ]
  },
  {
   "cell_type": "code",
   "execution_count": 48,
   "metadata": {},
   "outputs": [
    {
     "data": {
      "text/plain": [
       "<AxesSubplot:xlabel='internetservice'>"
      ]
     },
     "execution_count": 48,
     "metadata": {},
     "output_type": "execute_result"
    },
    {
     "data": {
      "image/png": "[encoded data removed]",
      "text/plain": [
       "<Figure size 432x288 with 1 Axes>"
      ]
     },
     "metadata": {
      "needs_background": "light"
     },
     "output_type": "display_data"
    }
   ],
   "source": [
    "# график долей всех пользователей internetservice\n",
    "m['mean'].plot(kind='bar')"
   ]
  },
  {
   "cell_type": "code",
   "execution_count": 49,
   "metadata": {},
   "outputs": [
    {
     "data": {
      "text/html": [
       "<div>\n",
       "<style scoped>\n",
       "    .dataframe tbody tr th:only-of-type {\n",
       "        vertical-align: middle;\n",
       "    }\n",
       "\n",
       "    .dataframe tbody tr th {\n",
       "        vertical-align: top;\n",
       "    }\n",
       "\n",
       "    .dataframe thead th {\n",
       "        text-align: right;\n",
       "    }\n",
       "</style>\n",
       "<table border=\"1\" class=\"dataframe\">\n",
       "  <thead>\n",
       "    <tr style=\"text-align: right;\">\n",
       "      <th></th>\n",
       "      <th>count</th>\n",
       "      <th>mean</th>\n",
       "    </tr>\n",
       "    <tr>\n",
       "      <th>internetservice</th>\n",
       "      <th></th>\n",
       "      <th></th>\n",
       "    </tr>\n",
       "  </thead>\n",
       "  <tbody>\n",
       "    <tr>\n",
       "      <th>DSL</th>\n",
       "      <td>459</td>\n",
       "      <td>0.245586</td>\n",
       "    </tr>\n",
       "    <tr>\n",
       "      <th>Fiber optic</th>\n",
       "      <td>1297</td>\n",
       "      <td>0.693954</td>\n",
       "    </tr>\n",
       "    <tr>\n",
       "      <th>unknown</th>\n",
       "      <td>113</td>\n",
       "      <td>0.060460</td>\n",
       "    </tr>\n",
       "  </tbody>\n",
       "</table>\n",
       "</div>"
      ],
      "text/plain": [
       "                 count      mean\n",
       "internetservice                 \n",
       "DSL                459  0.245586\n",
       "Fiber optic       1297  0.693954\n",
       "unknown            113  0.060460"
      ]
     },
     "execution_count": 49,
     "metadata": {},
     "output_type": "execute_result"
    }
   ],
   "source": [
    "# получение доли не активных пользователей internetservice\n",
    "n = df.query('active == 1').groupby('internetservice')['internetservice'].agg(['count'])\n",
    "n['mean'] = n['count']/df.query('active == 1').shape[0]\n",
    "n"
   ]
  },
  {
   "cell_type": "code",
   "execution_count": 50,
   "metadata": {},
   "outputs": [
    {
     "data": {
      "text/plain": [
       "<AxesSubplot:xlabel='internetservice'>"
      ]
     },
     "execution_count": 50,
     "metadata": {},
     "output_type": "execute_result"
    },
    {
     "data": {
      "image/png": "[encoded data removed]",
      "text/plain": [
       "<Figure size 432x288 with 1 Axes>"
      ]
     },
     "metadata": {
      "needs_background": "light"
     },
     "output_type": "display_data"
    }
   ],
   "source": [
    "# график долей не активных пользователей internetservice\n",
    "n['mean'].plot(kind='bar')"
   ]
  },
  {
   "cell_type": "markdown",
   "metadata": {},
   "source": [
    "<div style=\"border:solid blue 2px; padding: 20px\">\n",
    "    \n",
    "Для не активных пользователей доля в `internetservice` `25% - DSL` `69% - Fiber optic` `6% - unknown`\n",
    "    \n",
    "и всех пользователей доля в `internetservice` `34% - DSL` `44% - Fiber optic` `22% - unknown`\n",
    "\n",
    "</div>"
   ]
  },
  {
   "cell_type": "markdown",
   "metadata": {},
   "source": [
    "## Вывод"
   ]
  },
  {
   "cell_type": "markdown",
   "metadata": {},
   "source": [
    "<div style=\"border:solid blue 2px; padding: 20px\">\n",
    "    \n",
    "    \n",
    "**Оценка исследовательского анализа данных**\n",
    "    \n",
    "    \n",
    "- `Sweetviz` применили для предварительного рассмотрения feature importance \n",
    "    \n",
    "    \n",
    "- Выявили зависимости и связи в категориальных и количественных признаках\n",
    "    \n",
    "    \n",
    "- Приняли решение исключить второстепенные признаки:\n",
    "  \n",
    "`'internetservice','onlinesecurity', 'onlinebackup', 'deviceprotection', 'techsupport','streamingtv', 'streamingmovies', 'multiplelines'`\n",
    "    \n",
    "    \n",
    "- Приняли решение исключить признаки не показывающие зависимости: `'customerid', 'gender'`\n",
    "    \n",
    "    \n",
    "- Приняли решение исключить признак, на основе которого получен целевой признак: `'enddate'`\n",
    "    \n",
    "    \n",
    "- Сравнили распределения ежемесячных платежей `monthlycharges`: для всех и не активных пользователей\n",
    "    \n",
    "  Выявили диапазон ежемесячных платежей `70 - 110` соответствующий для не активных пользователей\n",
    "    \n",
    "    \n",
    "- Обнаружили выбросы в `totalcharges` по типу `Month-to-month`,где доля активных `71%`, не активных `29%`\n",
    "    \n",
    "    \n",
    "- Получили доли пользователей телефонной связи `multiplelines`:\n",
    "    \n",
    "  для всех пользователей `42% - Yes` `48% - No` `10% - unknown`\n",
    "    \n",
    "  для неактивных пользователей `45% - Yes` `45% - No` `10% - unknown`\n",
    "    \n",
    "    \n",
    "- Получили доли интернет пользователей `internetservice`:\n",
    "    \n",
    "  для всех пользователей `34% - DSL` `44% - Fiber optic` `22% - unknown`\n",
    "    \n",
    "  для неактивных пользователей `25% - DSL` `69% - Fiber optic` `6% - unknown`\n",
    "    \n",
    "Далее подготовка прототипа решения - рабочего варианта решения задачи\n",
    "    \n",
    "\n",
    "</div>"
   ]
  },
  {
   "cell_type": "markdown",
   "metadata": {},
   "source": [
    "## Построение модели"
   ]
  },
  {
   "cell_type": "markdown",
   "metadata": {},
   "source": [
    "<div style=\"border:solid blue 2px; padding: 20px\">\n",
    "    \n",
    "Методом `dt.days` получим длительность контракта в днях `duration_days`\n",
    "\n",
    "</div> "
   ]
  },
  {
   "cell_type": "code",
   "execution_count": 51,
   "metadata": {
    "scrolled": true
   },
   "outputs": [],
   "source": [
    "# получение столбца с числом дней длительности контракта\n",
    "df['duration_days'] = (pd.to_datetime(df['enddate'], errors='coerce') - pd.to_datetime(df['begindate'], errors='coerce')).dt.days"
   ]
  },
  {
   "cell_type": "markdown",
   "metadata": {},
   "source": [
    "<div style=\"border:solid blue 2px; padding: 20px\">\n",
    "    \n",
    " \n",
    "`drop()` удалим столбцы на основе исследовательского анализа\n",
    "    \n",
    "    \n",
    "</div> "
   ]
  },
  {
   "cell_type": "code",
   "execution_count": 52,
   "metadata": {},
   "outputs": [],
   "source": [
    "# удаление столбцов\n",
    "df = df.drop(['customerid','begindate','enddate','gender','internetservice','onlinesecurity', 'onlinebackup', 'deviceprotection', 'techsupport','streamingtv', 'streamingmovies', 'multiplelines'],axis = 1)"
   ]
  },
  {
   "cell_type": "code",
   "execution_count": 53,
   "metadata": {},
   "outputs": [
    {
     "data": {
      "text/html": [
       "<div>\n",
       "<style scoped>\n",
       "    .dataframe tbody tr th:only-of-type {\n",
       "        vertical-align: middle;\n",
       "    }\n",
       "\n",
       "    .dataframe tbody tr th {\n",
       "        vertical-align: top;\n",
       "    }\n",
       "\n",
       "    .dataframe thead th {\n",
       "        text-align: right;\n",
       "    }\n",
       "</style>\n",
       "<table border=\"1\" class=\"dataframe\">\n",
       "  <thead>\n",
       "    <tr style=\"text-align: right;\">\n",
       "      <th></th>\n",
       "      <th>type</th>\n",
       "      <th>paperlessbilling</th>\n",
       "      <th>paymentmethod</th>\n",
       "      <th>monthlycharges</th>\n",
       "      <th>totalcharges</th>\n",
       "      <th>seniorcitizen</th>\n",
       "      <th>partner</th>\n",
       "      <th>dependents</th>\n",
       "      <th>active</th>\n",
       "      <th>duration_days</th>\n",
       "    </tr>\n",
       "  </thead>\n",
       "  <tbody>\n",
       "    <tr>\n",
       "      <th>0</th>\n",
       "      <td>Month-to-month</td>\n",
       "      <td>Yes</td>\n",
       "      <td>Electronic check</td>\n",
       "      <td>29.85</td>\n",
       "      <td>29.85</td>\n",
       "      <td>0</td>\n",
       "      <td>Yes</td>\n",
       "      <td>No</td>\n",
       "      <td>0</td>\n",
       "      <td>31</td>\n",
       "    </tr>\n",
       "    <tr>\n",
       "      <th>1</th>\n",
       "      <td>One year</td>\n",
       "      <td>No</td>\n",
       "      <td>Mailed check</td>\n",
       "      <td>56.95</td>\n",
       "      <td>1889.50</td>\n",
       "      <td>0</td>\n",
       "      <td>No</td>\n",
       "      <td>No</td>\n",
       "      <td>0</td>\n",
       "      <td>1036</td>\n",
       "    </tr>\n",
       "    <tr>\n",
       "      <th>2</th>\n",
       "      <td>Month-to-month</td>\n",
       "      <td>Yes</td>\n",
       "      <td>Mailed check</td>\n",
       "      <td>53.85</td>\n",
       "      <td>108.15</td>\n",
       "      <td>0</td>\n",
       "      <td>No</td>\n",
       "      <td>No</td>\n",
       "      <td>1</td>\n",
       "      <td>61</td>\n",
       "    </tr>\n",
       "    <tr>\n",
       "      <th>3</th>\n",
       "      <td>One year</td>\n",
       "      <td>No</td>\n",
       "      <td>Bank transfer (automatic)</td>\n",
       "      <td>42.30</td>\n",
       "      <td>1840.75</td>\n",
       "      <td>0</td>\n",
       "      <td>No</td>\n",
       "      <td>No</td>\n",
       "      <td>0</td>\n",
       "      <td>1371</td>\n",
       "    </tr>\n",
       "    <tr>\n",
       "      <th>4</th>\n",
       "      <td>Month-to-month</td>\n",
       "      <td>Yes</td>\n",
       "      <td>Electronic check</td>\n",
       "      <td>70.70</td>\n",
       "      <td>151.65</td>\n",
       "      <td>0</td>\n",
       "      <td>No</td>\n",
       "      <td>No</td>\n",
       "      <td>1</td>\n",
       "      <td>61</td>\n",
       "    </tr>\n",
       "  </tbody>\n",
       "</table>\n",
       "</div>"
      ],
      "text/plain": [
       "             type paperlessbilling              paymentmethod  monthlycharges  \\\n",
       "0  Month-to-month              Yes           Electronic check           29.85   \n",
       "1        One year               No               Mailed check           56.95   \n",
       "2  Month-to-month              Yes               Mailed check           53.85   \n",
       "3        One year               No  Bank transfer (automatic)           42.30   \n",
       "4  Month-to-month              Yes           Electronic check           70.70   \n",
       "\n",
       "   totalcharges  seniorcitizen partner dependents  active  duration_days  \n",
       "0         29.85              0     Yes         No       0             31  \n",
       "1       1889.50              0      No         No       0           1036  \n",
       "2        108.15              0      No         No       1             61  \n",
       "3       1840.75              0      No         No       0           1371  \n",
       "4        151.65              0      No         No       1             61  "
      ]
     },
     "execution_count": 53,
     "metadata": {},
     "output_type": "execute_result"
    }
   ],
   "source": [
    "# получение первых 5 строк таблицы df\n",
    "df.head()"
   ]
  },
  {
   "cell_type": "code",
   "execution_count": 54,
   "metadata": {},
   "outputs": [
    {
     "data": {
      "text/plain": [
       "type                 object\n",
       "paperlessbilling     object\n",
       "paymentmethod        object\n",
       "monthlycharges      float64\n",
       "totalcharges        float64\n",
       "seniorcitizen         int64\n",
       "partner              object\n",
       "dependents           object\n",
       "active                int64\n",
       "duration_days         int64\n",
       "dtype: object"
      ]
     },
     "execution_count": 54,
     "metadata": {},
     "output_type": "execute_result"
    }
   ],
   "source": [
    "# получение информации по типам данных в df\n",
    "df.dtypes"
   ]
  },
  {
   "cell_type": "code",
   "execution_count": 55,
   "metadata": {},
   "outputs": [
    {
     "data": {
      "text/plain": [
       "Index(['type', 'paperlessbilling', 'paymentmethod', 'monthlycharges',\n",
       "       'totalcharges', 'seniorcitizen', 'partner', 'dependents', 'active',\n",
       "       'duration_days'],\n",
       "      dtype='object')"
      ]
     },
     "execution_count": 55,
     "metadata": {},
     "output_type": "execute_result"
    }
   ],
   "source": [
    "# названия столбцов\n",
    "df.columns"
   ]
  },
  {
   "cell_type": "markdown",
   "metadata": {},
   "source": [
    "<div style=\"border:solid blue 2px; padding: 20px\">\n",
    "    \n",
    "Методом `astype()` заменим тип данных в `totalcharges` `monthlycharges` на целый `int`\n",
    "\n",
    "</div> "
   ]
  },
  {
   "cell_type": "code",
   "execution_count": 56,
   "metadata": {},
   "outputs": [],
   "source": [
    "# замена вещественных типов на целые\n",
    "df['totalcharges'] = df['totalcharges'].astype(np.int)\n",
    "df['monthlycharges'] = df['monthlycharges'].astype(np.int)"
   ]
  },
  {
   "cell_type": "markdown",
   "metadata": {},
   "source": [
    "<div style=\"border:solid blue 2px; padding: 20px\">\n",
    "    \n",
    " \n",
    "`train_test_split()` разделим исходные данные на обучающую, валидационную и тестовую выборки\n",
    "    \n",
    "    \n",
    "</div> "
   ]
  },
  {
   "cell_type": "code",
   "execution_count": 57,
   "metadata": {},
   "outputs": [
    {
     "name": "stdout",
     "output_type": "stream",
     "text": [
      "Объектов обучающей выборки 0.5998864120403238\n"
     ]
    }
   ],
   "source": [
    "# получение обучающей выборки\n",
    "df_train, df_part = train_test_split(df, test_size=0.4,shuffle=True, random_state=42)\n",
    "print('Объектов обучающей выборки', len(df_train) / len(df))"
   ]
  },
  {
   "cell_type": "code",
   "execution_count": 58,
   "metadata": {},
   "outputs": [
    {
     "name": "stdout",
     "output_type": "stream",
     "text": [
      "Объектов валидационной выборки 0.20005679397983814\n",
      "Объектов тестовой выборки 0.20005679397983814\n"
     ]
    }
   ],
   "source": [
    "# получение валидационной и тестовой выборки\n",
    "df_valid, df_test = train_test_split(df_part, test_size=0.5, random_state=42)\n",
    "print('Объектов валидационной выборки', len(df_valid) / len(df))\n",
    "print('Объектов тестовой выборки', len(df_test) / len(df))"
   ]
  },
  {
   "cell_type": "markdown",
   "metadata": {},
   "source": [
    "<div style=\"border:solid blue 2px; padding: 20px\">\n",
    "    \n",
    " \n",
    "`select_dtypes()` выделим категориальные признаки\n",
    "    \n",
    "    \n",
    "</div> "
   ]
  },
  {
   "cell_type": "code",
   "execution_count": 59,
   "metadata": {},
   "outputs": [
    {
     "data": {
      "text/plain": [
       "['type', 'paperlessbilling', 'paymentmethod', 'partner', 'dependents']"
      ]
     },
     "execution_count": 59,
     "metadata": {},
     "output_type": "execute_result"
    }
   ],
   "source": [
    "# категориальные признаки\n",
    "cols_cat = df.select_dtypes(exclude='int64').columns\n",
    "cat_features = list(cols_cat)\n",
    "cat_features"
   ]
  },
  {
   "cell_type": "markdown",
   "metadata": {},
   "source": [
    "<div style=\"border:solid blue 2px; padding: 20px\">\n",
    "    \n",
    " \n",
    "Признаки сохраним в отдельных переменных \n",
    "    \n",
    "    \n",
    "- X - `features`\n",
    "    \n",
    "    \n",
    "- y - `target` - целевой признак\n",
    "    \n",
    "    \n",
    "</div> "
   ]
  },
  {
   "cell_type": "code",
   "execution_count": 60,
   "metadata": {},
   "outputs": [
    {
     "data": {
      "text/plain": [
       "Index(['type', 'paperlessbilling', 'paymentmethod', 'monthlycharges',\n",
       "       'totalcharges', 'seniorcitizen', 'partner', 'dependents', 'active',\n",
       "       'duration_days'],\n",
       "      dtype='object')"
      ]
     },
     "execution_count": 60,
     "metadata": {},
     "output_type": "execute_result"
    }
   ],
   "source": [
    "# названия столбцов\n",
    "df.columns"
   ]
  },
  {
   "cell_type": "code",
   "execution_count": 61,
   "metadata": {},
   "outputs": [],
   "source": [
    "# сохранение признаков в отдельных переменных\n",
    "X = ['duration_days', 'type', 'paperlessbilling', 'paymentmethod',\n",
    "       'monthlycharges', 'totalcharges', 'seniorcitizen', 'partner',\n",
    "       'dependents']\n",
    "y = ['active']"
   ]
  },
  {
   "cell_type": "markdown",
   "metadata": {},
   "source": [
    "<div style=\"border:solid blue 2px; padding: 20px\">\n",
    "    \n",
    " \n",
    "Исследуем качество на модели — бустинг для категориальных признаков.\n",
    "\n",
    "    \n",
    "    \n",
    "</div> "
   ]
  },
  {
   "cell_type": "code",
   "execution_count": 62,
   "metadata": {},
   "outputs": [],
   "source": [
    "# параметры модели\n",
    "params = {'cat_features':cat_features,\n",
    "          'eval_metric':'AUC',\n",
    "          'random_state': 42,\n",
    "          'learning_rate':0.1,\n",
    "          'verbose':100}"
   ]
  },
  {
   "cell_type": "code",
   "execution_count": 63,
   "metadata": {},
   "outputs": [],
   "source": [
    "# передаём пареметры модели CatBoostClassifier\n",
    "cbc = CatBoostClassifier(**params)"
   ]
  },
  {
   "cell_type": "code",
   "execution_count": 64,
   "metadata": {
    "scrolled": false
   },
   "outputs": [
    {
     "name": "stdout",
     "output_type": "stream",
     "text": [
      "0:\ttest: 0.8363971\tbest: 0.8363971 (0)\ttotal: 53.2ms\tremaining: 53.2s\n",
      "100:\ttest: 0.8909635\tbest: 0.8910969 (98)\ttotal: 441ms\tremaining: 3.92s\n",
      "200:\ttest: 0.9125996\tbest: 0.9128152 (195)\ttotal: 894ms\tremaining: 3.55s\n",
      "300:\ttest: 0.9238270\tbest: 0.9238270 (300)\ttotal: 1.35s\tremaining: 3.15s\n",
      "400:\ttest: 0.9297325\tbest: 0.9302701 (387)\ttotal: 1.81s\tremaining: 2.7s\n",
      "500:\ttest: 0.9325884\tbest: 0.9325884 (500)\ttotal: 2.27s\tremaining: 2.26s\n",
      "600:\ttest: 0.9336097\tbest: 0.9336097 (600)\ttotal: 2.72s\tremaining: 1.8s\n",
      "700:\ttest: 0.9349671\tbest: 0.9352827 (699)\ttotal: 3.18s\tremaining: 1.35s\n",
      "800:\ttest: 0.9355598\tbest: 0.9357984 (791)\ttotal: 3.63s\tremaining: 902ms\n",
      "900:\ttest: 0.9346617\tbest: 0.9357984 (791)\ttotal: 4.13s\tremaining: 454ms\n",
      "999:\ttest: 0.9351005\tbest: 0.9357984 (791)\ttotal: 4.65s\tremaining: 0us\n",
      "\n",
      "bestTest = 0.9357984491\n",
      "bestIteration = 791\n",
      "\n",
      "Shrink model to first 792 iterations.\n"
     ]
    },
    {
     "data": {
      "text/plain": [
       "<catboost.core.CatBoostClassifier at 0x7f5ab0c271f0>"
      ]
     },
     "execution_count": 64,
     "metadata": {},
     "output_type": "execute_result"
    }
   ],
   "source": [
    "# обучение модели CatBoostClassifier\n",
    "cbc.fit(df_train[X], df_train[y], eval_set=(df_valid[X], df_valid[y]))"
   ]
  },
  {
   "cell_type": "code",
   "execution_count": 65,
   "metadata": {},
   "outputs": [
    {
     "name": "stdout",
     "output_type": "stream",
     "text": [
      "AUC-ROC CatBoostClassifier 0.9357984491350156\n"
     ]
    },
    {
     "data": {
      "image/png": "[encoded data removed]",
      "text/plain": [
       "<Figure size 432x288 with 1 Axes>"
      ]
     },
     "metadata": {
      "needs_background": "light"
     },
     "output_type": "display_data"
    }
   ],
   "source": [
    "# получение predict_proba и fpr, tpr, thresholds и auc_roc\n",
    "probabilities_one_valid = cbc.predict_proba(df_valid[X])[:, 1]\n",
    "fpr, tpr, thresholds = roc_curve(df_valid[y], probabilities_one_valid)\n",
    "auc_roc = roc_auc_score(df_valid[y], probabilities_one_valid)\n",
    "print('AUC-ROC CatBoostClassifier',auc_roc)\n",
    "plt.plot(fpr, tpr, label='CatBoostClassifier')\n",
    "plt.plot([0, 1], [0, 1], linestyle='--', label='RandomModel')\n",
    "plt.xlim([0,1])\n",
    "plt.ylim([0,1])\n",
    "plt.xlabel(\"False Positive Rate\")\n",
    "plt.ylabel(\"True Positive Rate\")\n",
    "plt.legend(loc='lower right', fontsize='x-large')\n",
    "plt.title(\"ROC-кривая\")\n",
    "plt.show()"
   ]
  },
  {
   "cell_type": "markdown",
   "metadata": {},
   "source": [
    "<div style=\"border:solid blue 2px; padding: 20px\">\n",
    "    \n",
    "Метрика `AUC-ROC` модели `0.935` на валидационной выборке\n",
    "\n",
    "\n",
    "    \n",
    "</div> "
   ]
  },
  {
   "cell_type": "markdown",
   "metadata": {},
   "source": [
    "<div style=\"border:solid blue 2px; padding: 20px\">\n",
    "    \n",
    "Подберём оптимальный порог\n",
    "\n",
    "\n",
    "    \n",
    "</div> "
   ]
  },
  {
   "cell_type": "code",
   "execution_count": 66,
   "metadata": {},
   "outputs": [
    {
     "data": {
      "application/vnd.jupyter.widget-view+json": {
       "model_id": "4cd32aaf981f46a0a6a4ec98cde97bb8",
       "version_major": 2,
       "version_minor": 0
      },
      "text/plain": [
       "  0%|          | 0/248 [00:00<?, ?it/s]"
      ]
     },
     "metadata": {},
     "output_type": "display_data"
    }
   ],
   "source": [
    "# перебор циклом порогов c поиском максимальной f1\n",
    "result = []\n",
    "for threshold in tqdm(thresholds):\n",
    "    predicted_valid = (probabilities_one_valid > threshold) * 1\n",
    "    result.append((threshold, f1_score(df_valid[y],predicted_valid)))"
   ]
  },
  {
   "cell_type": "code",
   "execution_count": 67,
   "metadata": {},
   "outputs": [],
   "source": [
    "# сохранение полученных результатов в data_f1\n",
    "data_f1 = pd.DataFrame(result,columns=['threshold','f1'])"
   ]
  },
  {
   "cell_type": "code",
   "execution_count": 68,
   "metadata": {
    "scrolled": true
   },
   "outputs": [
    {
     "data": {
      "text/html": [
       "<div>\n",
       "<style scoped>\n",
       "    .dataframe tbody tr th:only-of-type {\n",
       "        vertical-align: middle;\n",
       "    }\n",
       "\n",
       "    .dataframe tbody tr th {\n",
       "        vertical-align: top;\n",
       "    }\n",
       "\n",
       "    .dataframe thead th {\n",
       "        text-align: right;\n",
       "    }\n",
       "</style>\n",
       "<table border=\"1\" class=\"dataframe\">\n",
       "  <thead>\n",
       "    <tr style=\"text-align: right;\">\n",
       "      <th></th>\n",
       "      <th>threshold</th>\n",
       "      <th>f1</th>\n",
       "    </tr>\n",
       "  </thead>\n",
       "  <tbody>\n",
       "    <tr>\n",
       "      <th>127</th>\n",
       "      <td>0.339493</td>\n",
       "      <td>0.793409</td>\n",
       "    </tr>\n",
       "  </tbody>\n",
       "</table>\n",
       "</div>"
      ],
      "text/plain": [
       "     threshold        f1\n",
       "127   0.339493  0.793409"
      ]
     },
     "execution_count": 68,
     "metadata": {},
     "output_type": "execute_result"
    }
   ],
   "source": [
    "# вывод неободимого порога по условию \n",
    "data_f1[data_f1['f1'] == data_f1['f1'].max()]"
   ]
  },
  {
   "cell_type": "code",
   "execution_count": 69,
   "metadata": {},
   "outputs": [
    {
     "data": {
      "text/plain": [
       "0.33949252543282804"
      ]
     },
     "execution_count": 69,
     "metadata": {},
     "output_type": "execute_result"
    }
   ],
   "source": [
    "# сохранение значения порога\n",
    "threshold = float(data_f1.query('f1 == f1.max()')['threshold'])\n",
    "threshold"
   ]
  },
  {
   "cell_type": "markdown",
   "metadata": {},
   "source": [
    "<div style=\"border:solid blue 2px; padding: 20px\">\n",
    "    \n",
    " \n",
    "Исследуем модель на тестовой выборке — с учётом порога.\n",
    "    \n",
    "    \n",
    "</div> "
   ]
  },
  {
   "cell_type": "code",
   "execution_count": 70,
   "metadata": {},
   "outputs": [
    {
     "name": "stdout",
     "output_type": "stream",
     "text": [
      "метрика AUC-ROC на тестовой выборке 0.9346153446655138\n"
     ]
    }
   ],
   "source": [
    "# значением метрики качества AUC-ROC\n",
    "print('метрика AUC-ROC на тестовой выборке', roc_auc_score(df_test[y], cbc.predict_proba(df_test[X])[:, 1]))"
   ]
  },
  {
   "cell_type": "code",
   "execution_count": 71,
   "metadata": {},
   "outputs": [],
   "source": [
    "# предсказания на тестовой выборке\n",
    "predicted_test = (cbc.predict_proba(df_test[X])[:, 1] > threshold) * 1"
   ]
  },
  {
   "cell_type": "code",
   "execution_count": 72,
   "metadata": {},
   "outputs": [
    {
     "name": "stdout",
     "output_type": "stream",
     "text": [
      "метрика F1 на тестовой выборке 0.7764705882352941\n"
     ]
    }
   ],
   "source": [
    "# значением метрики качества F1\n",
    "print('метрика F1 на тестовой выборке', f1_score(df_test[y],predicted_test))"
   ]
  },
  {
   "cell_type": "markdown",
   "metadata": {},
   "source": [
    "<div style=\"border:solid blue 2px; padding: 20px\">\n",
    "    \n",
    "Метрика `AUC-ROC` модели `0.935` на тестовой выборке\n",
    "\n",
    "\n",
    "    \n",
    "</div> "
   ]
  },
  {
   "cell_type": "markdown",
   "metadata": {},
   "source": [
    "## Выводы"
   ]
  },
  {
   "cell_type": "code",
   "execution_count": 73,
   "metadata": {
    "scrolled": false
   },
   "outputs": [
    {
     "data": {
      "image/png": "[encoded data removed]",
      "text/plain": [
       "<Figure size 432x288 with 2 Axes>"
      ]
     },
     "metadata": {
      "needs_background": "light"
     },
     "output_type": "display_data"
    }
   ],
   "source": [
    "# получение матрицы ошибок\n",
    "cm = confusion_matrix(df_test[y], predicted_test, labels=cbc.classes_)\n",
    "display = ConfusionMatrixDisplay(confusion_matrix=cm, display_labels=cbc.classes_)\n",
    "display.plot()\n",
    "plt.title('Матрица ошибок')\n",
    "plt.show()"
   ]
  },
  {
   "cell_type": "markdown",
   "metadata": {},
   "source": [
    "<div style=\"border:solid blue 2px; padding: 20px\">\n",
    "    \n",
    "Метрика `AUC-ROC` на тестовой выборке для полученной модели составляет `0.935`\n",
    "    \n",
    "Исходя из идеального показателя `AUC-ROC = 1`, можно оценить модель как `хорошую`.\n",
    "    \n",
    "Метрика `F1` на тестовой выборке для полученной модели составляет `0.77`\n",
    "    \n",
    "Следовательно с такими показателями метрик `f1-мера` и `AUC-ROC` модель будет выполнять работу.\n",
    "    \n",
    "По матрице ошибок можно рекомендовать полученную модель для прогнозирования оттока клиентов.\n",
    "    \n",
    "    \n",
    "</div> "
   ]
  },
  {
   "cell_type": "markdown",
   "metadata": {},
   "source": [
    "<div style=\"border:solid blue 2px; padding: 20px\">\n",
    "    \n",
    "Рассмотрим важность признаков при построении модели\n",
    "    \n",
    "    \n",
    "</div> "
   ]
  },
  {
   "cell_type": "code",
   "execution_count": 74,
   "metadata": {
    "scrolled": false
   },
   "outputs": [
    {
     "data": {
      "text/plain": [
       "Text(0, 0.5, 'feature names')"
      ]
     },
     "execution_count": 74,
     "metadata": {},
     "output_type": "execute_result"
    },
    {
     "data": {
      "image/png": "[encoded data removed]",
      "text/plain": [
       "<Figure size 360x360 with 1 Axes>"
      ]
     },
     "metadata": {
      "needs_background": "light"
     },
     "output_type": "display_data"
    }
   ],
   "source": [
    "# получение важности признаков для модели CatBoostClassifier\n",
    "df_fi = pd.DataFrame({'feature_names':df_train[X].columns,'feature_importance':cbc.get_feature_importance()})\n",
    "df_fi.sort_values(by=['feature_importance'], ascending=False,inplace=True)\n",
    "plt.figure(figsize=(5,5))\n",
    "sns.barplot(x=df_fi['feature_importance'], y=df_fi['feature_names'])\n",
    "plt.title('CatBoost feature importance')\n",
    "plt.xlabel('feature importance')\n",
    "plt.ylabel('feature names')"
   ]
  },
  {
   "cell_type": "code",
   "execution_count": 75,
   "metadata": {},
   "outputs": [
    {
     "data": {
      "text/html": [
       "<div>\n",
       "<style scoped>\n",
       "    .dataframe tbody tr th:only-of-type {\n",
       "        vertical-align: middle;\n",
       "    }\n",
       "\n",
       "    .dataframe tbody tr th {\n",
       "        vertical-align: top;\n",
       "    }\n",
       "\n",
       "    .dataframe thead th {\n",
       "        text-align: right;\n",
       "    }\n",
       "</style>\n",
       "<table border=\"1\" class=\"dataframe\">\n",
       "  <thead>\n",
       "    <tr style=\"text-align: right;\">\n",
       "      <th></th>\n",
       "      <th>feature_names</th>\n",
       "      <th>feature_importance</th>\n",
       "    </tr>\n",
       "  </thead>\n",
       "  <tbody>\n",
       "    <tr>\n",
       "      <th>0</th>\n",
       "      <td>duration_days</td>\n",
       "      <td>47.359529</td>\n",
       "    </tr>\n",
       "    <tr>\n",
       "      <th>4</th>\n",
       "      <td>monthlycharges</td>\n",
       "      <td>14.677238</td>\n",
       "    </tr>\n",
       "    <tr>\n",
       "      <th>5</th>\n",
       "      <td>totalcharges</td>\n",
       "      <td>12.462448</td>\n",
       "    </tr>\n",
       "    <tr>\n",
       "      <th>1</th>\n",
       "      <td>type</td>\n",
       "      <td>11.567920</td>\n",
       "    </tr>\n",
       "    <tr>\n",
       "      <th>3</th>\n",
       "      <td>paymentmethod</td>\n",
       "      <td>6.357749</td>\n",
       "    </tr>\n",
       "    <tr>\n",
       "      <th>2</th>\n",
       "      <td>paperlessbilling</td>\n",
       "      <td>2.244046</td>\n",
       "    </tr>\n",
       "    <tr>\n",
       "      <th>8</th>\n",
       "      <td>dependents</td>\n",
       "      <td>1.901804</td>\n",
       "    </tr>\n",
       "    <tr>\n",
       "      <th>7</th>\n",
       "      <td>partner</td>\n",
       "      <td>1.832866</td>\n",
       "    </tr>\n",
       "    <tr>\n",
       "      <th>6</th>\n",
       "      <td>seniorcitizen</td>\n",
       "      <td>1.596400</td>\n",
       "    </tr>\n",
       "  </tbody>\n",
       "</table>\n",
       "</div>"
      ],
      "text/plain": [
       "      feature_names  feature_importance\n",
       "0     duration_days           47.359529\n",
       "4    monthlycharges           14.677238\n",
       "5      totalcharges           12.462448\n",
       "1              type           11.567920\n",
       "3     paymentmethod            6.357749\n",
       "2  paperlessbilling            2.244046\n",
       "8        dependents            1.901804\n",
       "7           partner            1.832866\n",
       "6     seniorcitizen            1.596400"
      ]
     },
     "execution_count": 75,
     "metadata": {},
     "output_type": "execute_result"
    }
   ],
   "source": [
    "# вывод признаков и их важности для обучения модели\n",
    "df_fi"
   ]
  },
  {
   "cell_type": "markdown",
   "metadata": {},
   "source": [
    "## Отчёт по решению"
   ]
  },
  {
   "cell_type": "markdown",
   "metadata": {},
   "source": [
    "<div style=\"border:solid blue 2px; padding: 20px\">\n",
    "    \n",
    "**Выполнение плана работы по шагам**\n",
    "    \n",
    "- Постановка задачи: успех\n",
    "    \n",
    "- Получение данных: успех\n",
    "    \n",
    "- Предобработка данных: успех\n",
    "    \n",
    "Получили дополнительный признак `duration_days` cо значение важности в обучении `47.35`\n",
    "    \n",
    "- Исследовательский анализ данных: успех\n",
    "    \n",
    "Увидели особенности и закономерности в данных, и дополнительно подготовили информацию для отдела маркетинга.\n",
    "    \n",
    "- Подготовка прототипа решения и его доработка: успех\n",
    "    \n",
    "Получили рабочую модель с хорошей точностью прогнозирования.\n",
    "    \n",
    "- Оформление результатов: успех\n",
    "    \n",
    "Для бизнеса представили важность факторов.\n",
    "    \n",
    "- Проверка реальностью: успех\n",
    "       \n",
    "Получили требуемое значение метрики `AUC-ROC` на тестовой выборке.\n",
    "    \n",
    "**Трудности в задаче и пути решения**\n",
    "    \n",
    "Выявление закономерностей и связей между признаками: решили применить библиотеку `Sweetviz`,\n",
    "    \n",
    "по которой предварительно выбрали важные для обучения модели числовые и категориальные признаки.\n",
    "    \n",
    "**Ключевые шаги в решении задачи**\n",
    "    \n",
    "Расчитали длительность взаимодействия клиента и банка, которая в итоге оказалась ключевым фактором в модели.\n",
    "    \n",
    "**Итоговая модель и её качество**\n",
    "    \n",
    "Метрика `AUC-ROC` на тестовой выборке для полученной модели составляет `0.935`    \n",
    "    \n",
    "</div> "
   ]
  }
 ],
 "metadata": {
  "ExecuteTimeLog": [
   {
    "duration": 3793,
    "start_time": "2022-07-01T16:54:33.919Z"
   },
   {
    "duration": 2001,
    "start_time": "2022-07-01T16:54:52.308Z"
   },
   {
    "duration": 1428,
    "start_time": "2022-07-01T16:54:54.312Z"
   },
   {
    "duration": 433,
    "start_time": "2022-07-01T16:55:23.346Z"
   },
   {
    "duration": 91,
    "start_time": "2022-07-01T16:55:32.739Z"
   },
   {
    "duration": 13,
    "start_time": "2022-07-01T16:55:57.919Z"
   },
   {
    "duration": 8,
    "start_time": "2022-07-01T16:56:05.461Z"
   },
   {
    "duration": 9,
    "start_time": "2022-07-01T16:56:14.415Z"
   },
   {
    "duration": 6,
    "start_time": "2022-07-01T16:56:22.798Z"
   },
   {
    "duration": 91,
    "start_time": "2022-07-01T16:58:38.199Z"
   },
   {
    "duration": 26,
    "start_time": "2022-07-01T16:58:52.599Z"
   },
   {
    "duration": 19,
    "start_time": "2022-07-01T16:59:06.859Z"
   },
   {
    "duration": 16,
    "start_time": "2022-07-01T16:59:50.572Z"
   },
   {
    "duration": 5,
    "start_time": "2022-07-01T17:01:43.299Z"
   },
   {
    "duration": 18,
    "start_time": "2022-07-01T17:02:07.359Z"
   },
   {
    "duration": 192,
    "start_time": "2022-07-01T17:02:17.226Z"
   },
   {
    "duration": 11,
    "start_time": "2022-07-01T17:02:35.918Z"
   },
   {
    "duration": 16,
    "start_time": "2022-07-01T17:03:08.099Z"
   },
   {
    "duration": 20,
    "start_time": "2022-07-01T17:03:16.435Z"
   },
   {
    "duration": 7,
    "start_time": "2022-07-01T17:03:52.696Z"
   },
   {
    "duration": 108,
    "start_time": "2022-07-01T17:04:03.880Z"
   },
   {
    "duration": 14,
    "start_time": "2022-07-01T17:04:15.416Z"
   },
   {
    "duration": 26,
    "start_time": "2022-07-01T17:05:30.955Z"
   },
   {
    "duration": 5,
    "start_time": "2022-07-01T17:05:58.498Z"
   },
   {
    "duration": 6,
    "start_time": "2022-07-01T17:06:16.159Z"
   },
   {
    "duration": 11,
    "start_time": "2022-07-01T17:06:39.458Z"
   },
   {
    "duration": 9,
    "start_time": "2022-07-01T17:07:23.505Z"
   },
   {
    "duration": 49,
    "start_time": "2022-07-01T17:08:05.920Z"
   },
   {
    "duration": 6,
    "start_time": "2022-07-01T17:09:05.328Z"
   },
   {
    "duration": 113,
    "start_time": "2022-07-01T17:09:37.458Z"
   },
   {
    "duration": 76,
    "start_time": "2022-07-01T17:09:48.679Z"
   },
   {
    "duration": 4,
    "start_time": "2022-07-01T17:10:10.256Z"
   },
   {
    "duration": 6,
    "start_time": "2022-07-01T17:10:27.318Z"
   },
   {
    "duration": 93,
    "start_time": "2022-07-01T17:11:29.355Z"
   },
   {
    "duration": 12192,
    "start_time": "2022-07-01T17:11:40.739Z"
   },
   {
    "duration": 3,
    "start_time": "2022-07-01T17:12:02.000Z"
   },
   {
    "duration": 13,
    "start_time": "2022-07-01T17:13:07.420Z"
   },
   {
    "duration": 164,
    "start_time": "2022-07-01T17:13:30.898Z"
   },
   {
    "duration": 7,
    "start_time": "2022-07-01T17:13:40.266Z"
   },
   {
    "duration": 179,
    "start_time": "2022-07-01T17:14:06.360Z"
   },
   {
    "duration": 12,
    "start_time": "2022-07-01T17:14:25.638Z"
   },
   {
    "duration": 99,
    "start_time": "2022-07-01T17:14:35.999Z"
   },
   {
    "duration": 20,
    "start_time": "2022-07-01T17:14:51.219Z"
   },
   {
    "duration": 155,
    "start_time": "2022-07-01T17:15:52.978Z"
   },
   {
    "duration": 139,
    "start_time": "2022-07-01T17:16:29.539Z"
   },
   {
    "duration": 10,
    "start_time": "2022-07-01T17:16:51.899Z"
   },
   {
    "duration": 18,
    "start_time": "2022-07-01T17:17:08.479Z"
   },
   {
    "duration": 108,
    "start_time": "2022-07-01T17:17:16.287Z"
   },
   {
    "duration": 12,
    "start_time": "2022-07-01T17:17:55.199Z"
   },
   {
    "duration": 101,
    "start_time": "2022-07-01T17:18:04.019Z"
   },
   {
    "duration": 18,
    "start_time": "2022-07-01T17:18:13.521Z"
   },
   {
    "duration": 100,
    "start_time": "2022-07-01T17:18:20.935Z"
   },
   {
    "duration": 13,
    "start_time": "2022-07-01T17:19:06.219Z"
   },
   {
    "duration": 96,
    "start_time": "2022-07-01T17:19:14.645Z"
   },
   {
    "duration": 14,
    "start_time": "2022-07-01T17:19:23.079Z"
   },
   {
    "duration": 111,
    "start_time": "2022-07-01T17:19:31.419Z"
   },
   {
    "duration": 3,
    "start_time": "2022-07-01T17:22:24.639Z"
   },
   {
    "duration": 1367,
    "start_time": "2022-07-01T17:22:24.644Z"
   },
   {
    "duration": 150,
    "start_time": "2022-07-01T17:22:26.012Z"
   },
   {
    "duration": 15,
    "start_time": "2022-07-01T17:22:26.164Z"
   },
   {
    "duration": 7,
    "start_time": "2022-07-01T17:22:26.181Z"
   },
   {
    "duration": 11,
    "start_time": "2022-07-01T17:22:26.189Z"
   },
   {
    "duration": 9,
    "start_time": "2022-07-01T17:22:26.202Z"
   },
   {
    "duration": 24,
    "start_time": "2022-07-01T17:22:26.212Z"
   },
   {
    "duration": 16,
    "start_time": "2022-07-01T17:22:26.238Z"
   },
   {
    "duration": 15,
    "start_time": "2022-07-01T17:22:26.256Z"
   },
   {
    "duration": 4,
    "start_time": "2022-07-01T17:22:26.273Z"
   },
   {
    "duration": 21,
    "start_time": "2022-07-01T17:22:26.279Z"
   },
   {
    "duration": 33,
    "start_time": "2022-07-01T17:22:26.301Z"
   },
   {
    "duration": 10,
    "start_time": "2022-07-01T17:22:26.337Z"
   },
   {
    "duration": 11,
    "start_time": "2022-07-01T17:22:26.348Z"
   },
   {
    "duration": 5,
    "start_time": "2022-07-01T17:22:26.361Z"
   },
   {
    "duration": 9,
    "start_time": "2022-07-01T17:22:26.367Z"
   },
   {
    "duration": 55,
    "start_time": "2022-07-01T17:22:26.377Z"
   },
   {
    "duration": 4,
    "start_time": "2022-07-01T17:22:26.433Z"
   },
   {
    "duration": 22,
    "start_time": "2022-07-01T17:22:26.438Z"
   },
   {
    "duration": 8,
    "start_time": "2022-07-01T17:22:26.462Z"
   },
   {
    "duration": 6,
    "start_time": "2022-07-01T17:22:26.471Z"
   },
   {
    "duration": 30,
    "start_time": "2022-07-01T17:22:26.478Z"
   },
   {
    "duration": 5,
    "start_time": "2022-07-01T17:22:26.509Z"
   },
   {
    "duration": 115,
    "start_time": "2022-07-01T17:22:26.528Z"
   },
   {
    "duration": 4,
    "start_time": "2022-07-01T17:22:26.644Z"
   },
   {
    "duration": 14,
    "start_time": "2022-07-01T17:22:26.649Z"
   },
   {
    "duration": 12022,
    "start_time": "2022-07-01T17:22:26.665Z"
   },
   {
    "duration": 2,
    "start_time": "2022-07-01T17:22:38.690Z"
   },
   {
    "duration": 20,
    "start_time": "2022-07-01T17:22:38.694Z"
   },
   {
    "duration": 175,
    "start_time": "2022-07-01T17:22:38.716Z"
   },
   {
    "duration": 8,
    "start_time": "2022-07-01T17:22:38.893Z"
   },
   {
    "duration": 194,
    "start_time": "2022-07-01T17:22:38.902Z"
   },
   {
    "duration": 14,
    "start_time": "2022-07-01T17:22:39.098Z"
   },
   {
    "duration": 31,
    "start_time": "2022-07-01T17:22:39.113Z"
   },
   {
    "duration": 184,
    "start_time": "2022-07-01T17:22:39.147Z"
   },
   {
    "duration": 158,
    "start_time": "2022-07-01T17:22:39.332Z"
   },
   {
    "duration": 10,
    "start_time": "2022-07-01T17:22:39.492Z"
   },
   {
    "duration": 29,
    "start_time": "2022-07-01T17:22:39.504Z"
   },
   {
    "duration": 108,
    "start_time": "2022-07-01T17:22:39.534Z"
   },
   {
    "duration": 12,
    "start_time": "2022-07-01T17:22:39.645Z"
   },
   {
    "duration": 115,
    "start_time": "2022-07-01T17:22:39.659Z"
   },
   {
    "duration": 15,
    "start_time": "2022-07-01T17:22:39.776Z"
   },
   {
    "duration": 125,
    "start_time": "2022-07-01T17:22:39.793Z"
   },
   {
    "duration": 16,
    "start_time": "2022-07-01T17:22:39.920Z"
   },
   {
    "duration": 108,
    "start_time": "2022-07-01T17:22:39.937Z"
   },
   {
    "duration": 14,
    "start_time": "2022-07-01T17:22:40.047Z"
   },
   {
    "duration": 115,
    "start_time": "2022-07-01T17:22:40.062Z"
   },
   {
    "duration": 7,
    "start_time": "2022-07-01T17:25:49.928Z"
   },
   {
    "duration": 4,
    "start_time": "2022-07-01T17:26:11.524Z"
   },
   {
    "duration": 1291,
    "start_time": "2022-07-01T17:26:11.530Z"
   },
   {
    "duration": 138,
    "start_time": "2022-07-01T17:26:12.822Z"
   },
   {
    "duration": 13,
    "start_time": "2022-07-01T17:26:12.962Z"
   },
   {
    "duration": 7,
    "start_time": "2022-07-01T17:26:12.977Z"
   },
   {
    "duration": 13,
    "start_time": "2022-07-01T17:26:12.985Z"
   },
   {
    "duration": 9,
    "start_time": "2022-07-01T17:26:12.999Z"
   },
   {
    "duration": 28,
    "start_time": "2022-07-01T17:26:13.010Z"
   },
   {
    "duration": 16,
    "start_time": "2022-07-01T17:26:13.039Z"
   },
   {
    "duration": 17,
    "start_time": "2022-07-01T17:26:13.056Z"
   },
   {
    "duration": 4,
    "start_time": "2022-07-01T17:26:13.075Z"
   },
   {
    "duration": 17,
    "start_time": "2022-07-01T17:26:13.080Z"
   },
   {
    "duration": 11,
    "start_time": "2022-07-01T17:26:13.098Z"
   },
   {
    "duration": 10,
    "start_time": "2022-07-01T17:26:13.130Z"
   },
   {
    "duration": 10,
    "start_time": "2022-07-01T17:26:13.141Z"
   },
   {
    "duration": 6,
    "start_time": "2022-07-01T17:26:13.153Z"
   },
   {
    "duration": 16,
    "start_time": "2022-07-01T17:26:13.161Z"
   },
   {
    "duration": 53,
    "start_time": "2022-07-01T17:26:13.179Z"
   },
   {
    "duration": 4,
    "start_time": "2022-07-01T17:26:13.233Z"
   },
   {
    "duration": 7,
    "start_time": "2022-07-01T17:26:13.238Z"
   },
   {
    "duration": 11,
    "start_time": "2022-07-01T17:26:13.246Z"
   },
   {
    "duration": 6,
    "start_time": "2022-07-01T17:26:13.258Z"
   },
   {
    "duration": 12,
    "start_time": "2022-07-01T17:26:13.266Z"
   },
   {
    "duration": 50,
    "start_time": "2022-07-01T17:26:13.280Z"
   },
   {
    "duration": 4,
    "start_time": "2022-07-01T17:26:13.332Z"
   },
   {
    "duration": 123,
    "start_time": "2022-07-01T17:26:13.338Z"
   },
   {
    "duration": 5,
    "start_time": "2022-07-01T17:26:13.462Z"
   },
   {
    "duration": 8,
    "start_time": "2022-07-01T17:26:13.468Z"
   },
   {
    "duration": 12055,
    "start_time": "2022-07-01T17:26:13.477Z"
   },
   {
    "duration": 3,
    "start_time": "2022-07-01T17:26:25.533Z"
   },
   {
    "duration": 19,
    "start_time": "2022-07-01T17:26:25.537Z"
   },
   {
    "duration": 201,
    "start_time": "2022-07-01T17:26:25.558Z"
   },
   {
    "duration": 8,
    "start_time": "2022-07-01T17:26:25.761Z"
   },
   {
    "duration": 169,
    "start_time": "2022-07-01T17:26:25.771Z"
   },
   {
    "duration": 12,
    "start_time": "2022-07-01T17:26:25.941Z"
   },
   {
    "duration": 22,
    "start_time": "2022-07-01T17:26:25.954Z"
   },
   {
    "duration": 203,
    "start_time": "2022-07-01T17:26:25.977Z"
   },
   {
    "duration": 163,
    "start_time": "2022-07-01T17:26:26.182Z"
   },
   {
    "duration": 11,
    "start_time": "2022-07-01T17:26:26.346Z"
   },
   {
    "duration": 17,
    "start_time": "2022-07-01T17:26:26.359Z"
   },
   {
    "duration": 122,
    "start_time": "2022-07-01T17:26:26.380Z"
   },
   {
    "duration": 26,
    "start_time": "2022-07-01T17:26:26.504Z"
   },
   {
    "duration": 111,
    "start_time": "2022-07-01T17:26:26.532Z"
   },
   {
    "duration": 15,
    "start_time": "2022-07-01T17:26:26.646Z"
   },
   {
    "duration": 115,
    "start_time": "2022-07-01T17:26:26.662Z"
   },
   {
    "duration": 11,
    "start_time": "2022-07-01T17:26:26.778Z"
   },
   {
    "duration": 117,
    "start_time": "2022-07-01T17:26:26.791Z"
   },
   {
    "duration": 30,
    "start_time": "2022-07-01T17:26:26.910Z"
   },
   {
    "duration": 129,
    "start_time": "2022-07-01T17:26:26.942Z"
   },
   {
    "duration": 22,
    "start_time": "2022-07-01T17:38:27.172Z"
   },
   {
    "duration": 5,
    "start_time": "2022-07-01T17:39:05.641Z"
   },
   {
    "duration": 5,
    "start_time": "2022-07-01T17:39:37.704Z"
   },
   {
    "duration": 99,
    "start_time": "2022-07-01T17:45:34.504Z"
   },
   {
    "duration": 5,
    "start_time": "2022-07-01T17:45:55.983Z"
   },
   {
    "duration": 11,
    "start_time": "2022-07-01T17:46:19.865Z"
   },
   {
    "duration": 4,
    "start_time": "2022-07-01T17:46:25.724Z"
   },
   {
    "duration": 4,
    "start_time": "2022-07-01T17:46:27.803Z"
   },
   {
    "duration": 9,
    "start_time": "2022-07-01T17:57:54.125Z"
   },
   {
    "duration": 49,
    "start_time": "2022-07-01T17:58:13.344Z"
   },
   {
    "duration": 6,
    "start_time": "2022-07-01T17:58:17.463Z"
   },
   {
    "duration": 16,
    "start_time": "2022-07-01T18:00:28.166Z"
   },
   {
    "duration": 7,
    "start_time": "2022-07-01T18:00:49.711Z"
   },
   {
    "duration": 7,
    "start_time": "2022-07-01T18:01:44.544Z"
   },
   {
    "duration": 4,
    "start_time": "2022-07-01T18:02:54.464Z"
   },
   {
    "duration": 5,
    "start_time": "2022-07-01T18:03:17.158Z"
   },
   {
    "duration": 4,
    "start_time": "2022-07-01T18:03:41.264Z"
   },
   {
    "duration": 2,
    "start_time": "2022-07-01T18:06:19.205Z"
   },
   {
    "duration": 36,
    "start_time": "2022-07-01T18:10:14.742Z"
   },
   {
    "duration": 3,
    "start_time": "2022-07-01T18:11:32.103Z"
   },
   {
    "duration": 4,
    "start_time": "2022-07-01T18:14:25.103Z"
   },
   {
    "duration": 3,
    "start_time": "2022-07-01T18:14:40.442Z"
   },
   {
    "duration": 4,
    "start_time": "2022-07-01T18:15:49.490Z"
   },
   {
    "duration": 1367,
    "start_time": "2022-07-01T18:15:49.496Z"
   },
   {
    "duration": 143,
    "start_time": "2022-07-01T18:15:50.865Z"
   },
   {
    "duration": 13,
    "start_time": "2022-07-01T18:15:51.010Z"
   },
   {
    "duration": 8,
    "start_time": "2022-07-01T18:15:51.025Z"
   },
   {
    "duration": 14,
    "start_time": "2022-07-01T18:15:51.034Z"
   },
   {
    "duration": 6,
    "start_time": "2022-07-01T18:15:51.050Z"
   },
   {
    "duration": 25,
    "start_time": "2022-07-01T18:15:51.058Z"
   },
   {
    "duration": 16,
    "start_time": "2022-07-01T18:15:51.084Z"
   },
   {
    "duration": 31,
    "start_time": "2022-07-01T18:15:51.101Z"
   },
   {
    "duration": 4,
    "start_time": "2022-07-01T18:15:51.134Z"
   },
   {
    "duration": 20,
    "start_time": "2022-07-01T18:15:51.139Z"
   },
   {
    "duration": 11,
    "start_time": "2022-07-01T18:15:51.160Z"
   },
   {
    "duration": 16,
    "start_time": "2022-07-01T18:15:51.174Z"
   },
   {
    "duration": 11,
    "start_time": "2022-07-01T18:15:51.192Z"
   },
   {
    "duration": 5,
    "start_time": "2022-07-01T18:15:51.230Z"
   },
   {
    "duration": 13,
    "start_time": "2022-07-01T18:15:51.236Z"
   },
   {
    "duration": 35,
    "start_time": "2022-07-01T18:15:51.251Z"
   },
   {
    "duration": 4,
    "start_time": "2022-07-01T18:15:51.288Z"
   },
   {
    "duration": 10,
    "start_time": "2022-07-01T18:15:51.294Z"
   },
   {
    "duration": 25,
    "start_time": "2022-07-01T18:15:51.305Z"
   },
   {
    "duration": 7,
    "start_time": "2022-07-01T18:15:51.331Z"
   },
   {
    "duration": 11,
    "start_time": "2022-07-01T18:15:51.340Z"
   },
   {
    "duration": 29,
    "start_time": "2022-07-01T18:15:51.353Z"
   },
   {
    "duration": 5,
    "start_time": "2022-07-01T18:15:51.384Z"
   },
   {
    "duration": 140,
    "start_time": "2022-07-01T18:15:51.390Z"
   },
   {
    "duration": 4,
    "start_time": "2022-07-01T18:15:51.532Z"
   },
   {
    "duration": 26,
    "start_time": "2022-07-01T18:15:51.538Z"
   },
   {
    "duration": 11494,
    "start_time": "2022-07-01T18:15:51.566Z"
   },
   {
    "duration": 2,
    "start_time": "2022-07-01T18:16:03.062Z"
   },
   {
    "duration": 19,
    "start_time": "2022-07-01T18:16:03.066Z"
   },
   {
    "duration": 184,
    "start_time": "2022-07-01T18:16:03.088Z"
   },
   {
    "duration": 8,
    "start_time": "2022-07-01T18:16:03.274Z"
   },
   {
    "duration": 171,
    "start_time": "2022-07-01T18:16:03.284Z"
   },
   {
    "duration": 14,
    "start_time": "2022-07-01T18:16:03.457Z"
   },
   {
    "duration": 23,
    "start_time": "2022-07-01T18:16:03.473Z"
   },
   {
    "duration": 200,
    "start_time": "2022-07-01T18:16:03.498Z"
   },
   {
    "duration": 359,
    "start_time": "2022-07-01T18:16:03.699Z"
   },
   {
    "duration": 11,
    "start_time": "2022-07-01T18:16:04.059Z"
   },
   {
    "duration": 15,
    "start_time": "2022-07-01T18:16:04.071Z"
   },
   {
    "duration": 124,
    "start_time": "2022-07-01T18:16:04.089Z"
   },
   {
    "duration": 17,
    "start_time": "2022-07-01T18:16:04.214Z"
   },
   {
    "duration": 103,
    "start_time": "2022-07-01T18:16:04.233Z"
   },
   {
    "duration": 14,
    "start_time": "2022-07-01T18:16:04.337Z"
   },
   {
    "duration": 116,
    "start_time": "2022-07-01T18:16:04.352Z"
   },
   {
    "duration": 10,
    "start_time": "2022-07-01T18:16:04.470Z"
   },
   {
    "duration": 113,
    "start_time": "2022-07-01T18:16:04.481Z"
   },
   {
    "duration": 15,
    "start_time": "2022-07-01T18:16:04.596Z"
   },
   {
    "duration": 138,
    "start_time": "2022-07-01T18:16:04.613Z"
   },
   {
    "duration": 5,
    "start_time": "2022-07-01T18:16:04.752Z"
   },
   {
    "duration": 16,
    "start_time": "2022-07-01T18:16:04.759Z"
   },
   {
    "duration": 14,
    "start_time": "2022-07-01T18:16:04.777Z"
   },
   {
    "duration": 7,
    "start_time": "2022-07-01T18:16:04.793Z"
   },
   {
    "duration": 7,
    "start_time": "2022-07-01T18:16:04.802Z"
   },
   {
    "duration": 10,
    "start_time": "2022-07-01T18:16:04.810Z"
   },
   {
    "duration": 2,
    "start_time": "2022-07-01T18:16:04.829Z"
   },
   {
    "duration": 6,
    "start_time": "2022-07-01T18:16:04.833Z"
   },
   {
    "duration": 6,
    "start_time": "2022-07-01T18:16:04.841Z"
   },
   {
    "duration": 4,
    "start_time": "2022-07-01T18:16:04.849Z"
   },
   {
    "duration": 6,
    "start_time": "2022-07-01T18:16:04.854Z"
   },
   {
    "duration": 10,
    "start_time": "2022-07-01T18:16:04.861Z"
   },
   {
    "duration": 6,
    "start_time": "2022-07-01T18:16:25.222Z"
   },
   {
    "duration": 7,
    "start_time": "2022-07-01T18:23:53.057Z"
   },
   {
    "duration": 3,
    "start_time": "2022-07-01T18:30:10.278Z"
   },
   {
    "duration": 106,
    "start_time": "2022-07-01T18:30:17.305Z"
   },
   {
    "duration": 11,
    "start_time": "2022-07-01T18:31:41.837Z"
   },
   {
    "duration": 9,
    "start_time": "2022-07-01T18:32:24.258Z"
   },
   {
    "duration": 3,
    "start_time": "2022-07-01T18:32:41.984Z"
   },
   {
    "duration": 3,
    "start_time": "2022-07-01T18:33:23.417Z"
   },
   {
    "duration": 23,
    "start_time": "2022-07-01T18:33:50.223Z"
   },
   {
    "duration": 6,
    "start_time": "2022-07-01T18:34:12.182Z"
   },
   {
    "duration": 3,
    "start_time": "2022-07-01T18:34:18.661Z"
   },
   {
    "duration": 3,
    "start_time": "2022-07-01T18:34:24.042Z"
   },
   {
    "duration": 2746,
    "start_time": "2022-07-01T18:34:26.782Z"
   },
   {
    "duration": 3,
    "start_time": "2022-07-01T18:36:05.000Z"
   },
   {
    "duration": 1590,
    "start_time": "2022-07-01T18:36:05.011Z"
   },
   {
    "duration": 149,
    "start_time": "2022-07-01T18:36:06.603Z"
   },
   {
    "duration": 17,
    "start_time": "2022-07-01T18:36:06.754Z"
   },
   {
    "duration": 9,
    "start_time": "2022-07-01T18:36:06.773Z"
   },
   {
    "duration": 16,
    "start_time": "2022-07-01T18:36:06.783Z"
   },
   {
    "duration": 22,
    "start_time": "2022-07-01T18:36:06.801Z"
   },
   {
    "duration": 33,
    "start_time": "2022-07-01T18:36:06.825Z"
   },
   {
    "duration": 20,
    "start_time": "2022-07-01T18:36:06.860Z"
   },
   {
    "duration": 28,
    "start_time": "2022-07-01T18:36:06.881Z"
   },
   {
    "duration": 19,
    "start_time": "2022-07-01T18:36:06.912Z"
   },
   {
    "duration": 18,
    "start_time": "2022-07-01T18:36:06.933Z"
   },
   {
    "duration": 12,
    "start_time": "2022-07-01T18:36:06.953Z"
   },
   {
    "duration": 11,
    "start_time": "2022-07-01T18:36:06.967Z"
   },
   {
    "duration": 13,
    "start_time": "2022-07-01T18:36:06.980Z"
   },
   {
    "duration": 38,
    "start_time": "2022-07-01T18:36:06.994Z"
   },
   {
    "duration": 11,
    "start_time": "2022-07-01T18:36:07.033Z"
   },
   {
    "duration": 26,
    "start_time": "2022-07-01T18:36:07.046Z"
   },
   {
    "duration": 5,
    "start_time": "2022-07-01T18:36:07.074Z"
   },
   {
    "duration": 11,
    "start_time": "2022-07-01T18:36:07.081Z"
   },
   {
    "duration": 45,
    "start_time": "2022-07-01T18:36:07.093Z"
   },
   {
    "duration": 2,
    "start_time": "2022-07-01T18:36:07.140Z"
   },
   {
    "duration": 10,
    "start_time": "2022-07-01T18:36:07.144Z"
   },
   {
    "duration": 29,
    "start_time": "2022-07-01T18:36:07.156Z"
   },
   {
    "duration": 6,
    "start_time": "2022-07-01T18:36:07.186Z"
   },
   {
    "duration": 200,
    "start_time": "2022-07-01T18:36:07.194Z"
   },
   {
    "duration": 7,
    "start_time": "2022-07-01T18:36:07.396Z"
   },
   {
    "duration": 19,
    "start_time": "2022-07-01T18:36:07.404Z"
   },
   {
    "duration": 3,
    "start_time": "2022-07-01T18:36:07.433Z"
   },
   {
    "duration": 10,
    "start_time": "2022-07-01T18:36:07.438Z"
   },
   {
    "duration": 16,
    "start_time": "2022-07-01T18:36:07.450Z"
   },
   {
    "duration": 193,
    "start_time": "2022-07-01T18:36:07.468Z"
   },
   {
    "duration": 10,
    "start_time": "2022-07-01T18:36:07.662Z"
   },
   {
    "duration": 215,
    "start_time": "2022-07-01T18:36:07.674Z"
   },
   {
    "duration": 11,
    "start_time": "2022-07-01T18:36:07.891Z"
   },
   {
    "duration": 102,
    "start_time": "2022-07-01T18:36:07.904Z"
   },
   {
    "duration": 152,
    "start_time": "2022-07-01T18:36:08.007Z"
   },
   {
    "duration": 157,
    "start_time": "2022-07-01T18:36:08.161Z"
   },
   {
    "duration": 12,
    "start_time": "2022-07-01T18:36:08.320Z"
   },
   {
    "duration": 16,
    "start_time": "2022-07-01T18:36:08.334Z"
   },
   {
    "duration": 131,
    "start_time": "2022-07-01T18:36:08.351Z"
   },
   {
    "duration": 11,
    "start_time": "2022-07-01T18:36:08.483Z"
   },
   {
    "duration": 126,
    "start_time": "2022-07-01T18:36:08.496Z"
   },
   {
    "duration": 20,
    "start_time": "2022-07-01T18:36:08.628Z"
   },
   {
    "duration": 124,
    "start_time": "2022-07-01T18:36:08.650Z"
   },
   {
    "duration": 13,
    "start_time": "2022-07-01T18:36:08.775Z"
   },
   {
    "duration": 120,
    "start_time": "2022-07-01T18:36:08.790Z"
   },
   {
    "duration": 28,
    "start_time": "2022-07-01T18:36:08.912Z"
   },
   {
    "duration": 164,
    "start_time": "2022-07-01T18:36:08.941Z"
   },
   {
    "duration": 5,
    "start_time": "2022-07-01T18:36:09.107Z"
   },
   {
    "duration": 26,
    "start_time": "2022-07-01T18:36:09.114Z"
   },
   {
    "duration": 7,
    "start_time": "2022-07-01T18:36:09.142Z"
   },
   {
    "duration": 8,
    "start_time": "2022-07-01T18:36:09.151Z"
   },
   {
    "duration": 15,
    "start_time": "2022-07-01T18:36:09.161Z"
   },
   {
    "duration": 4,
    "start_time": "2022-07-01T18:36:09.178Z"
   },
   {
    "duration": 11,
    "start_time": "2022-07-01T18:36:09.184Z"
   },
   {
    "duration": 4,
    "start_time": "2022-07-01T18:36:09.196Z"
   },
   {
    "duration": 33,
    "start_time": "2022-07-01T18:36:09.201Z"
   },
   {
    "duration": 10,
    "start_time": "2022-07-01T18:36:09.235Z"
   },
   {
    "duration": 6,
    "start_time": "2022-07-01T18:36:09.246Z"
   },
   {
    "duration": 5,
    "start_time": "2022-07-01T18:36:09.253Z"
   },
   {
    "duration": 4,
    "start_time": "2022-07-01T18:36:09.260Z"
   },
   {
    "duration": 5,
    "start_time": "2022-07-01T18:36:09.266Z"
   },
   {
    "duration": 7,
    "start_time": "2022-07-01T18:36:09.272Z"
   },
   {
    "duration": 5,
    "start_time": "2022-07-01T18:36:09.282Z"
   },
   {
    "duration": 2994,
    "start_time": "2022-07-01T18:36:09.289Z"
   },
   {
    "duration": 19,
    "start_time": "2022-07-01T18:38:07.421Z"
   },
   {
    "duration": 3,
    "start_time": "2022-07-01T18:39:33.021Z"
   },
   {
    "duration": 7,
    "start_time": "2022-07-01T18:39:50.701Z"
   },
   {
    "duration": 4,
    "start_time": "2022-07-01T18:40:06.701Z"
   },
   {
    "duration": 2,
    "start_time": "2022-07-01T18:40:11.681Z"
   },
   {
    "duration": 3,
    "start_time": "2022-07-01T18:40:14.460Z"
   },
   {
    "duration": 10286,
    "start_time": "2022-07-01T18:40:17.540Z"
   },
   {
    "duration": 13,
    "start_time": "2022-07-01T18:45:10.721Z"
   },
   {
    "duration": 4,
    "start_time": "2022-07-01T18:45:28.788Z"
   },
   {
    "duration": 3,
    "start_time": "2022-07-01T18:45:36.920Z"
   },
   {
    "duration": 1464,
    "start_time": "2022-07-01T18:45:36.925Z"
   },
   {
    "duration": 132,
    "start_time": "2022-07-01T18:45:38.391Z"
   },
   {
    "duration": 15,
    "start_time": "2022-07-01T18:45:38.525Z"
   },
   {
    "duration": 7,
    "start_time": "2022-07-01T18:45:38.542Z"
   },
   {
    "duration": 11,
    "start_time": "2022-07-01T18:45:38.551Z"
   },
   {
    "duration": 9,
    "start_time": "2022-07-01T18:45:38.563Z"
   },
   {
    "duration": 26,
    "start_time": "2022-07-01T18:45:38.574Z"
   },
   {
    "duration": 46,
    "start_time": "2022-07-01T18:45:38.602Z"
   },
   {
    "duration": 23,
    "start_time": "2022-07-01T18:45:38.650Z"
   },
   {
    "duration": 5,
    "start_time": "2022-07-01T18:45:38.676Z"
   },
   {
    "duration": 63,
    "start_time": "2022-07-01T18:45:38.683Z"
   },
   {
    "duration": 16,
    "start_time": "2022-07-01T18:45:38.748Z"
   },
   {
    "duration": 15,
    "start_time": "2022-07-01T18:45:38.766Z"
   },
   {
    "duration": 16,
    "start_time": "2022-07-01T18:45:38.783Z"
   },
   {
    "duration": 6,
    "start_time": "2022-07-01T18:45:38.801Z"
   },
   {
    "duration": 13,
    "start_time": "2022-07-01T18:45:38.828Z"
   },
   {
    "duration": 36,
    "start_time": "2022-07-01T18:45:38.844Z"
   },
   {
    "duration": 5,
    "start_time": "2022-07-01T18:45:38.882Z"
   },
   {
    "duration": 7,
    "start_time": "2022-07-01T18:45:38.889Z"
   },
   {
    "duration": 31,
    "start_time": "2022-07-01T18:45:38.898Z"
   },
   {
    "duration": 8,
    "start_time": "2022-07-01T18:45:38.931Z"
   },
   {
    "duration": 6,
    "start_time": "2022-07-01T18:45:38.940Z"
   },
   {
    "duration": 10,
    "start_time": "2022-07-01T18:45:38.947Z"
   },
   {
    "duration": 25,
    "start_time": "2022-07-01T18:45:38.958Z"
   },
   {
    "duration": 4,
    "start_time": "2022-07-01T18:45:38.985Z"
   },
   {
    "duration": 143,
    "start_time": "2022-07-01T18:45:38.990Z"
   },
   {
    "duration": 4,
    "start_time": "2022-07-01T18:45:39.134Z"
   },
   {
    "duration": 7,
    "start_time": "2022-07-01T18:45:39.141Z"
   },
   {
    "duration": 2,
    "start_time": "2022-07-01T18:45:39.150Z"
   },
   {
    "duration": 11,
    "start_time": "2022-07-01T18:45:39.153Z"
   },
   {
    "duration": 22,
    "start_time": "2022-07-01T18:45:39.166Z"
   },
   {
    "duration": 191,
    "start_time": "2022-07-01T18:45:39.190Z"
   },
   {
    "duration": 7,
    "start_time": "2022-07-01T18:45:39.382Z"
   },
   {
    "duration": 182,
    "start_time": "2022-07-01T18:45:39.391Z"
   },
   {
    "duration": 11,
    "start_time": "2022-07-01T18:45:39.575Z"
   },
   {
    "duration": 105,
    "start_time": "2022-07-01T18:45:39.587Z"
   },
   {
    "duration": 168,
    "start_time": "2022-07-01T18:45:39.694Z"
   },
   {
    "duration": 151,
    "start_time": "2022-07-01T18:45:39.864Z"
   },
   {
    "duration": 17,
    "start_time": "2022-07-01T18:45:40.017Z"
   },
   {
    "duration": 17,
    "start_time": "2022-07-01T18:45:40.036Z"
   },
   {
    "duration": 123,
    "start_time": "2022-07-01T18:45:40.054Z"
   },
   {
    "duration": 11,
    "start_time": "2022-07-01T18:45:40.178Z"
   },
   {
    "duration": 113,
    "start_time": "2022-07-01T18:45:40.191Z"
   },
   {
    "duration": 31,
    "start_time": "2022-07-01T18:45:40.305Z"
   },
   {
    "duration": 128,
    "start_time": "2022-07-01T18:45:40.338Z"
   },
   {
    "duration": 10,
    "start_time": "2022-07-01T18:45:40.468Z"
   },
   {
    "duration": 113,
    "start_time": "2022-07-01T18:45:40.479Z"
   },
   {
    "duration": 17,
    "start_time": "2022-07-01T18:45:40.594Z"
   },
   {
    "duration": 131,
    "start_time": "2022-07-01T18:45:40.612Z"
   },
   {
    "duration": 5,
    "start_time": "2022-07-01T18:45:40.744Z"
   },
   {
    "duration": 14,
    "start_time": "2022-07-01T18:45:40.751Z"
   },
   {
    "duration": 10,
    "start_time": "2022-07-01T18:45:40.766Z"
   },
   {
    "duration": 7,
    "start_time": "2022-07-01T18:45:40.777Z"
   },
   {
    "duration": 9,
    "start_time": "2022-07-01T18:45:40.785Z"
   },
   {
    "duration": 4,
    "start_time": "2022-07-01T18:45:40.795Z"
   },
   {
    "duration": 30,
    "start_time": "2022-07-01T18:45:40.800Z"
   },
   {
    "duration": 2,
    "start_time": "2022-07-01T18:45:40.832Z"
   },
   {
    "duration": 9,
    "start_time": "2022-07-01T18:45:40.836Z"
   },
   {
    "duration": 5,
    "start_time": "2022-07-01T18:45:40.846Z"
   },
   {
    "duration": 8,
    "start_time": "2022-07-01T18:45:40.852Z"
   },
   {
    "duration": 4,
    "start_time": "2022-07-01T18:45:40.862Z"
   },
   {
    "duration": 5,
    "start_time": "2022-07-01T18:45:40.867Z"
   },
   {
    "duration": 7,
    "start_time": "2022-07-01T18:45:40.874Z"
   },
   {
    "duration": 7,
    "start_time": "2022-07-01T18:45:40.883Z"
   },
   {
    "duration": 5,
    "start_time": "2022-07-01T18:45:40.892Z"
   },
   {
    "duration": 2369,
    "start_time": "2022-07-01T18:45:40.899Z"
   },
   {
    "duration": 0,
    "start_time": "2022-07-01T18:45:43.270Z"
   },
   {
    "duration": 2,
    "start_time": "2022-07-01T18:46:21.982Z"
   },
   {
    "duration": 3,
    "start_time": "2022-07-01T18:46:24.589Z"
   },
   {
    "duration": 3,
    "start_time": "2022-07-01T18:46:30.220Z"
   },
   {
    "duration": 2955,
    "start_time": "2022-07-01T18:46:34.631Z"
   },
   {
    "duration": 4,
    "start_time": "2022-07-01T18:48:15.221Z"
   },
   {
    "duration": 4,
    "start_time": "2022-07-01T18:48:23.940Z"
   },
   {
    "duration": 1385,
    "start_time": "2022-07-01T18:48:23.946Z"
   },
   {
    "duration": 149,
    "start_time": "2022-07-01T18:48:25.333Z"
   },
   {
    "duration": 17,
    "start_time": "2022-07-01T18:48:25.484Z"
   },
   {
    "duration": 9,
    "start_time": "2022-07-01T18:48:25.503Z"
   },
   {
    "duration": 12,
    "start_time": "2022-07-01T18:48:25.513Z"
   },
   {
    "duration": 8,
    "start_time": "2022-07-01T18:48:25.527Z"
   },
   {
    "duration": 28,
    "start_time": "2022-07-01T18:48:25.537Z"
   },
   {
    "duration": 17,
    "start_time": "2022-07-01T18:48:25.567Z"
   },
   {
    "duration": 16,
    "start_time": "2022-07-01T18:48:25.586Z"
   },
   {
    "duration": 26,
    "start_time": "2022-07-01T18:48:25.603Z"
   },
   {
    "duration": 15,
    "start_time": "2022-07-01T18:48:25.631Z"
   },
   {
    "duration": 11,
    "start_time": "2022-07-01T18:48:25.648Z"
   },
   {
    "duration": 11,
    "start_time": "2022-07-01T18:48:25.663Z"
   },
   {
    "duration": 13,
    "start_time": "2022-07-01T18:48:25.675Z"
   },
   {
    "duration": 5,
    "start_time": "2022-07-01T18:48:25.690Z"
   },
   {
    "duration": 13,
    "start_time": "2022-07-01T18:48:25.729Z"
   },
   {
    "duration": 27,
    "start_time": "2022-07-01T18:48:25.743Z"
   },
   {
    "duration": 5,
    "start_time": "2022-07-01T18:48:25.772Z"
   },
   {
    "duration": 7,
    "start_time": "2022-07-01T18:48:25.778Z"
   },
   {
    "duration": 5,
    "start_time": "2022-07-01T18:48:25.787Z"
   },
   {
    "duration": 37,
    "start_time": "2022-07-01T18:48:25.793Z"
   },
   {
    "duration": 2,
    "start_time": "2022-07-01T18:48:25.831Z"
   },
   {
    "duration": 11,
    "start_time": "2022-07-01T18:48:25.835Z"
   },
   {
    "duration": 25,
    "start_time": "2022-07-01T18:48:25.847Z"
   },
   {
    "duration": 5,
    "start_time": "2022-07-01T18:48:25.874Z"
   },
   {
    "duration": 135,
    "start_time": "2022-07-01T18:48:25.880Z"
   },
   {
    "duration": 13,
    "start_time": "2022-07-01T18:48:26.017Z"
   },
   {
    "duration": 14,
    "start_time": "2022-07-01T18:48:26.033Z"
   },
   {
    "duration": 11,
    "start_time": "2022-07-01T18:48:26.049Z"
   },
   {
    "duration": 19,
    "start_time": "2022-07-01T18:48:26.062Z"
   },
   {
    "duration": 36,
    "start_time": "2022-07-01T18:48:26.082Z"
   },
   {
    "duration": 203,
    "start_time": "2022-07-01T18:48:26.120Z"
   },
   {
    "duration": 12,
    "start_time": "2022-07-01T18:48:26.325Z"
   },
   {
    "duration": 236,
    "start_time": "2022-07-01T18:48:26.339Z"
   },
   {
    "duration": 12,
    "start_time": "2022-07-01T18:48:26.577Z"
   },
   {
    "duration": 100,
    "start_time": "2022-07-01T18:48:26.591Z"
   },
   {
    "duration": 163,
    "start_time": "2022-07-01T18:48:26.693Z"
   },
   {
    "duration": 154,
    "start_time": "2022-07-01T18:48:26.858Z"
   },
   {
    "duration": 19,
    "start_time": "2022-07-01T18:48:27.013Z"
   },
   {
    "duration": 15,
    "start_time": "2022-07-01T18:48:27.036Z"
   },
   {
    "duration": 126,
    "start_time": "2022-07-01T18:48:27.053Z"
   },
   {
    "duration": 12,
    "start_time": "2022-07-01T18:48:27.182Z"
   },
   {
    "duration": 135,
    "start_time": "2022-07-01T18:48:27.195Z"
   },
   {
    "duration": 16,
    "start_time": "2022-07-01T18:48:27.332Z"
   },
   {
    "duration": 111,
    "start_time": "2022-07-01T18:48:27.349Z"
   },
   {
    "duration": 12,
    "start_time": "2022-07-01T18:48:27.461Z"
   },
   {
    "duration": 117,
    "start_time": "2022-07-01T18:48:27.475Z"
   },
   {
    "duration": 16,
    "start_time": "2022-07-01T18:48:27.593Z"
   },
   {
    "duration": 122,
    "start_time": "2022-07-01T18:48:27.611Z"
   },
   {
    "duration": 6,
    "start_time": "2022-07-01T18:48:27.735Z"
   },
   {
    "duration": 17,
    "start_time": "2022-07-01T18:48:27.742Z"
   },
   {
    "duration": 9,
    "start_time": "2022-07-01T18:48:27.760Z"
   },
   {
    "duration": 13,
    "start_time": "2022-07-01T18:48:27.770Z"
   },
   {
    "duration": 11,
    "start_time": "2022-07-01T18:48:27.785Z"
   },
   {
    "duration": 3,
    "start_time": "2022-07-01T18:48:27.797Z"
   },
   {
    "duration": 34,
    "start_time": "2022-07-01T18:48:27.802Z"
   },
   {
    "duration": 3,
    "start_time": "2022-07-01T18:48:27.839Z"
   },
   {
    "duration": 9,
    "start_time": "2022-07-01T18:48:27.844Z"
   },
   {
    "duration": 6,
    "start_time": "2022-07-01T18:48:27.854Z"
   },
   {
    "duration": 5,
    "start_time": "2022-07-01T18:48:27.861Z"
   },
   {
    "duration": 7,
    "start_time": "2022-07-01T18:48:27.867Z"
   },
   {
    "duration": 7,
    "start_time": "2022-07-01T18:48:27.875Z"
   },
   {
    "duration": 7,
    "start_time": "2022-07-01T18:48:27.883Z"
   },
   {
    "duration": 6,
    "start_time": "2022-07-01T18:48:27.891Z"
   },
   {
    "duration": 8,
    "start_time": "2022-07-01T18:48:27.898Z"
   },
   {
    "duration": 2605,
    "start_time": "2022-07-01T18:48:27.908Z"
   },
   {
    "duration": 0,
    "start_time": "2022-07-01T18:48:30.515Z"
   },
   {
    "duration": 6,
    "start_time": "2022-07-01T18:50:25.658Z"
   },
   {
    "duration": 13,
    "start_time": "2022-07-01T18:50:45.419Z"
   },
   {
    "duration": 128,
    "start_time": "2022-07-01T18:50:52.000Z"
   },
   {
    "duration": 17,
    "start_time": "2022-07-01T18:50:58.618Z"
   },
   {
    "duration": 4,
    "start_time": "2022-07-01T18:51:09.325Z"
   },
   {
    "duration": 1461,
    "start_time": "2022-07-01T18:51:09.332Z"
   },
   {
    "duration": 141,
    "start_time": "2022-07-01T18:51:10.794Z"
   },
   {
    "duration": 16,
    "start_time": "2022-07-01T18:51:10.937Z"
   },
   {
    "duration": 8,
    "start_time": "2022-07-01T18:51:10.955Z"
   },
   {
    "duration": 12,
    "start_time": "2022-07-01T18:51:10.965Z"
   },
   {
    "duration": 8,
    "start_time": "2022-07-01T18:51:10.979Z"
   },
   {
    "duration": 48,
    "start_time": "2022-07-01T18:51:10.989Z"
   },
   {
    "duration": 24,
    "start_time": "2022-07-01T18:51:11.039Z"
   },
   {
    "duration": 23,
    "start_time": "2022-07-01T18:51:11.064Z"
   },
   {
    "duration": 5,
    "start_time": "2022-07-01T18:51:11.089Z"
   },
   {
    "duration": 42,
    "start_time": "2022-07-01T18:51:11.095Z"
   },
   {
    "duration": 17,
    "start_time": "2022-07-01T18:51:11.139Z"
   },
   {
    "duration": 14,
    "start_time": "2022-07-01T18:51:11.161Z"
   },
   {
    "duration": 18,
    "start_time": "2022-07-01T18:51:11.177Z"
   },
   {
    "duration": 34,
    "start_time": "2022-07-01T18:51:11.196Z"
   },
   {
    "duration": 14,
    "start_time": "2022-07-01T18:51:11.232Z"
   },
   {
    "duration": 41,
    "start_time": "2022-07-01T18:51:11.248Z"
   },
   {
    "duration": 5,
    "start_time": "2022-07-01T18:51:11.291Z"
   },
   {
    "duration": 31,
    "start_time": "2022-07-01T18:51:11.298Z"
   },
   {
    "duration": 3,
    "start_time": "2022-07-01T18:51:11.331Z"
   },
   {
    "duration": 10,
    "start_time": "2022-07-01T18:51:11.336Z"
   },
   {
    "duration": 10,
    "start_time": "2022-07-01T18:51:11.347Z"
   },
   {
    "duration": 3,
    "start_time": "2022-07-01T18:51:11.358Z"
   },
   {
    "duration": 8,
    "start_time": "2022-07-01T18:51:11.363Z"
   },
   {
    "duration": 26,
    "start_time": "2022-07-01T18:51:11.373Z"
   },
   {
    "duration": 5,
    "start_time": "2022-07-01T18:51:11.429Z"
   },
   {
    "duration": 138,
    "start_time": "2022-07-01T18:51:11.436Z"
   },
   {
    "duration": 5,
    "start_time": "2022-07-01T18:51:11.575Z"
   },
   {
    "duration": 11,
    "start_time": "2022-07-01T18:51:11.581Z"
   },
   {
    "duration": 5,
    "start_time": "2022-07-01T18:51:11.593Z"
   },
   {
    "duration": 5,
    "start_time": "2022-07-01T18:51:11.599Z"
   },
   {
    "duration": 27,
    "start_time": "2022-07-01T18:51:11.607Z"
   },
   {
    "duration": 153,
    "start_time": "2022-07-01T18:51:11.636Z"
   },
   {
    "duration": 0,
    "start_time": "2022-07-01T18:51:11.792Z"
   },
   {
    "duration": 0,
    "start_time": "2022-07-01T18:51:11.793Z"
   },
   {
    "duration": 0,
    "start_time": "2022-07-01T18:51:11.794Z"
   },
   {
    "duration": 0,
    "start_time": "2022-07-01T18:51:11.796Z"
   },
   {
    "duration": 0,
    "start_time": "2022-07-01T18:51:11.797Z"
   },
   {
    "duration": 0,
    "start_time": "2022-07-01T18:51:11.798Z"
   },
   {
    "duration": 0,
    "start_time": "2022-07-01T18:51:11.800Z"
   },
   {
    "duration": 0,
    "start_time": "2022-07-01T18:51:11.801Z"
   },
   {
    "duration": 0,
    "start_time": "2022-07-01T18:51:11.802Z"
   },
   {
    "duration": 0,
    "start_time": "2022-07-01T18:51:11.803Z"
   },
   {
    "duration": 0,
    "start_time": "2022-07-01T18:51:11.804Z"
   },
   {
    "duration": 0,
    "start_time": "2022-07-01T18:51:11.805Z"
   },
   {
    "duration": 0,
    "start_time": "2022-07-01T18:51:11.806Z"
   },
   {
    "duration": 0,
    "start_time": "2022-07-01T18:51:11.831Z"
   },
   {
    "duration": 0,
    "start_time": "2022-07-01T18:51:11.832Z"
   },
   {
    "duration": 0,
    "start_time": "2022-07-01T18:51:11.833Z"
   },
   {
    "duration": 0,
    "start_time": "2022-07-01T18:51:11.834Z"
   },
   {
    "duration": 0,
    "start_time": "2022-07-01T18:51:11.835Z"
   },
   {
    "duration": 0,
    "start_time": "2022-07-01T18:51:11.836Z"
   },
   {
    "duration": 1,
    "start_time": "2022-07-01T18:51:11.837Z"
   },
   {
    "duration": 0,
    "start_time": "2022-07-01T18:51:11.839Z"
   },
   {
    "duration": 0,
    "start_time": "2022-07-01T18:51:11.840Z"
   },
   {
    "duration": 0,
    "start_time": "2022-07-01T18:51:11.842Z"
   },
   {
    "duration": 0,
    "start_time": "2022-07-01T18:51:11.843Z"
   },
   {
    "duration": 0,
    "start_time": "2022-07-01T18:51:11.844Z"
   },
   {
    "duration": 0,
    "start_time": "2022-07-01T18:51:11.844Z"
   },
   {
    "duration": 0,
    "start_time": "2022-07-01T18:51:11.845Z"
   },
   {
    "duration": 0,
    "start_time": "2022-07-01T18:51:11.846Z"
   },
   {
    "duration": 0,
    "start_time": "2022-07-01T18:51:11.847Z"
   },
   {
    "duration": 0,
    "start_time": "2022-07-01T18:51:11.848Z"
   },
   {
    "duration": 0,
    "start_time": "2022-07-01T18:51:11.849Z"
   },
   {
    "duration": 0,
    "start_time": "2022-07-01T18:51:11.850Z"
   },
   {
    "duration": 0,
    "start_time": "2022-07-01T18:51:11.851Z"
   },
   {
    "duration": 0,
    "start_time": "2022-07-01T18:51:11.852Z"
   },
   {
    "duration": 0,
    "start_time": "2022-07-01T18:51:11.853Z"
   },
   {
    "duration": 3,
    "start_time": "2022-07-01T18:52:04.239Z"
   },
   {
    "duration": 1493,
    "start_time": "2022-07-01T18:52:04.244Z"
   },
   {
    "duration": 140,
    "start_time": "2022-07-01T18:52:05.739Z"
   },
   {
    "duration": 19,
    "start_time": "2022-07-01T18:52:05.880Z"
   },
   {
    "duration": 15,
    "start_time": "2022-07-01T18:52:05.902Z"
   },
   {
    "duration": 38,
    "start_time": "2022-07-01T18:52:05.919Z"
   },
   {
    "duration": 10,
    "start_time": "2022-07-01T18:52:05.959Z"
   },
   {
    "duration": 40,
    "start_time": "2022-07-01T18:52:05.971Z"
   },
   {
    "duration": 20,
    "start_time": "2022-07-01T18:52:06.014Z"
   },
   {
    "duration": 43,
    "start_time": "2022-07-01T18:52:06.036Z"
   },
   {
    "duration": 11,
    "start_time": "2022-07-01T18:52:06.082Z"
   },
   {
    "duration": 43,
    "start_time": "2022-07-01T18:52:06.096Z"
   },
   {
    "duration": 16,
    "start_time": "2022-07-01T18:52:06.142Z"
   },
   {
    "duration": 33,
    "start_time": "2022-07-01T18:52:06.162Z"
   },
   {
    "duration": 31,
    "start_time": "2022-07-01T18:52:06.198Z"
   },
   {
    "duration": 23,
    "start_time": "2022-07-01T18:52:06.232Z"
   },
   {
    "duration": 23,
    "start_time": "2022-07-01T18:52:06.257Z"
   },
   {
    "duration": 51,
    "start_time": "2022-07-01T18:52:06.282Z"
   },
   {
    "duration": 5,
    "start_time": "2022-07-01T18:52:06.335Z"
   },
   {
    "duration": 14,
    "start_time": "2022-07-01T18:52:06.342Z"
   },
   {
    "duration": 6,
    "start_time": "2022-07-01T18:52:06.358Z"
   },
   {
    "duration": 12,
    "start_time": "2022-07-01T18:52:06.366Z"
   },
   {
    "duration": 12,
    "start_time": "2022-07-01T18:52:06.379Z"
   },
   {
    "duration": 4,
    "start_time": "2022-07-01T18:52:06.393Z"
   },
   {
    "duration": 13,
    "start_time": "2022-07-01T18:52:06.398Z"
   },
   {
    "duration": 39,
    "start_time": "2022-07-01T18:52:06.412Z"
   },
   {
    "duration": 5,
    "start_time": "2022-07-01T18:52:06.452Z"
   },
   {
    "duration": 150,
    "start_time": "2022-07-01T18:52:06.459Z"
   },
   {
    "duration": 4,
    "start_time": "2022-07-01T18:52:06.611Z"
   },
   {
    "duration": 17,
    "start_time": "2022-07-01T18:52:06.617Z"
   },
   {
    "duration": 4,
    "start_time": "2022-07-01T18:52:06.636Z"
   },
   {
    "duration": 6,
    "start_time": "2022-07-01T18:52:06.642Z"
   },
   {
    "duration": 14,
    "start_time": "2022-07-01T18:52:06.651Z"
   },
   {
    "duration": 221,
    "start_time": "2022-07-01T18:52:06.667Z"
   },
   {
    "duration": 12,
    "start_time": "2022-07-01T18:52:06.890Z"
   },
   {
    "duration": 212,
    "start_time": "2022-07-01T18:52:06.904Z"
   },
   {
    "duration": 22,
    "start_time": "2022-07-01T18:52:07.118Z"
   },
   {
    "duration": 138,
    "start_time": "2022-07-01T18:52:07.142Z"
   },
   {
    "duration": 203,
    "start_time": "2022-07-01T18:52:07.282Z"
   },
   {
    "duration": 198,
    "start_time": "2022-07-01T18:52:07.488Z"
   },
   {
    "duration": 12,
    "start_time": "2022-07-01T18:52:07.690Z"
   },
   {
    "duration": 34,
    "start_time": "2022-07-01T18:52:07.704Z"
   },
   {
    "duration": 117,
    "start_time": "2022-07-01T18:52:07.739Z"
   },
   {
    "duration": 12,
    "start_time": "2022-07-01T18:52:07.858Z"
   },
   {
    "duration": 114,
    "start_time": "2022-07-01T18:52:07.871Z"
   },
   {
    "duration": 16,
    "start_time": "2022-07-01T18:52:07.987Z"
   },
   {
    "duration": 115,
    "start_time": "2022-07-01T18:52:08.005Z"
   },
   {
    "duration": 11,
    "start_time": "2022-07-01T18:52:08.131Z"
   },
   {
    "duration": 110,
    "start_time": "2022-07-01T18:52:08.143Z"
   },
   {
    "duration": 16,
    "start_time": "2022-07-01T18:52:08.255Z"
   },
   {
    "duration": 127,
    "start_time": "2022-07-01T18:52:08.273Z"
   },
   {
    "duration": 4,
    "start_time": "2022-07-01T18:52:08.402Z"
   },
   {
    "duration": 33,
    "start_time": "2022-07-01T18:52:08.407Z"
   },
   {
    "duration": 8,
    "start_time": "2022-07-01T18:52:08.442Z"
   },
   {
    "duration": 6,
    "start_time": "2022-07-01T18:52:08.452Z"
   },
   {
    "duration": 7,
    "start_time": "2022-07-01T18:52:08.460Z"
   },
   {
    "duration": 4,
    "start_time": "2022-07-01T18:52:08.469Z"
   },
   {
    "duration": 8,
    "start_time": "2022-07-01T18:52:08.474Z"
   },
   {
    "duration": 4,
    "start_time": "2022-07-01T18:52:08.484Z"
   },
   {
    "duration": 44,
    "start_time": "2022-07-01T18:52:08.490Z"
   },
   {
    "duration": 7,
    "start_time": "2022-07-01T18:52:08.536Z"
   },
   {
    "duration": 4,
    "start_time": "2022-07-01T18:52:08.545Z"
   },
   {
    "duration": 7,
    "start_time": "2022-07-01T18:52:08.552Z"
   },
   {
    "duration": 5,
    "start_time": "2022-07-01T18:52:08.560Z"
   },
   {
    "duration": 5,
    "start_time": "2022-07-01T18:52:08.566Z"
   },
   {
    "duration": 4,
    "start_time": "2022-07-01T18:52:08.572Z"
   },
   {
    "duration": 7,
    "start_time": "2022-07-01T18:52:08.578Z"
   },
   {
    "duration": 2806,
    "start_time": "2022-07-01T18:52:08.587Z"
   },
   {
    "duration": 0,
    "start_time": "2022-07-01T18:52:11.396Z"
   },
   {
    "duration": 21,
    "start_time": "2022-07-01T18:55:02.206Z"
   },
   {
    "duration": 4,
    "start_time": "2022-07-01T18:58:21.384Z"
   },
   {
    "duration": 1411,
    "start_time": "2022-07-01T18:58:21.391Z"
   },
   {
    "duration": 155,
    "start_time": "2022-07-01T18:58:22.804Z"
   },
   {
    "duration": 15,
    "start_time": "2022-07-01T18:58:22.961Z"
   },
   {
    "duration": 8,
    "start_time": "2022-07-01T18:58:22.977Z"
   },
   {
    "duration": 13,
    "start_time": "2022-07-01T18:58:22.987Z"
   },
   {
    "duration": 8,
    "start_time": "2022-07-01T18:58:23.002Z"
   },
   {
    "duration": 34,
    "start_time": "2022-07-01T18:58:23.011Z"
   },
   {
    "duration": 17,
    "start_time": "2022-07-01T18:58:23.047Z"
   },
   {
    "duration": 19,
    "start_time": "2022-07-01T18:58:23.065Z"
   },
   {
    "duration": 5,
    "start_time": "2022-07-01T18:58:23.085Z"
   },
   {
    "duration": 45,
    "start_time": "2022-07-01T18:58:23.092Z"
   },
   {
    "duration": 11,
    "start_time": "2022-07-01T18:58:23.139Z"
   },
   {
    "duration": 12,
    "start_time": "2022-07-01T18:58:23.154Z"
   },
   {
    "duration": 13,
    "start_time": "2022-07-01T18:58:23.168Z"
   },
   {
    "duration": 9,
    "start_time": "2022-07-01T18:58:23.183Z"
   },
   {
    "duration": 40,
    "start_time": "2022-07-01T18:58:23.194Z"
   },
   {
    "duration": 27,
    "start_time": "2022-07-01T18:58:23.236Z"
   },
   {
    "duration": 6,
    "start_time": "2022-07-01T18:58:23.265Z"
   },
   {
    "duration": 10,
    "start_time": "2022-07-01T18:58:23.272Z"
   },
   {
    "duration": 5,
    "start_time": "2022-07-01T18:58:23.283Z"
   },
   {
    "duration": 76,
    "start_time": "2022-07-01T18:58:23.290Z"
   },
   {
    "duration": 0,
    "start_time": "2022-07-01T18:58:23.369Z"
   },
   {
    "duration": 0,
    "start_time": "2022-07-01T18:58:23.370Z"
   },
   {
    "duration": 0,
    "start_time": "2022-07-01T18:58:23.372Z"
   },
   {
    "duration": 0,
    "start_time": "2022-07-01T18:58:23.374Z"
   },
   {
    "duration": 0,
    "start_time": "2022-07-01T18:58:23.375Z"
   },
   {
    "duration": 0,
    "start_time": "2022-07-01T18:58:23.376Z"
   },
   {
    "duration": 0,
    "start_time": "2022-07-01T18:58:23.377Z"
   },
   {
    "duration": 0,
    "start_time": "2022-07-01T18:58:23.379Z"
   },
   {
    "duration": 0,
    "start_time": "2022-07-01T18:58:23.380Z"
   },
   {
    "duration": 0,
    "start_time": "2022-07-01T18:58:23.381Z"
   },
   {
    "duration": 0,
    "start_time": "2022-07-01T18:58:23.383Z"
   },
   {
    "duration": 0,
    "start_time": "2022-07-01T18:58:23.384Z"
   },
   {
    "duration": 0,
    "start_time": "2022-07-01T18:58:23.386Z"
   },
   {
    "duration": 0,
    "start_time": "2022-07-01T18:58:23.387Z"
   },
   {
    "duration": 0,
    "start_time": "2022-07-01T18:58:23.388Z"
   },
   {
    "duration": 0,
    "start_time": "2022-07-01T18:58:23.389Z"
   },
   {
    "duration": 0,
    "start_time": "2022-07-01T18:58:23.390Z"
   },
   {
    "duration": 0,
    "start_time": "2022-07-01T18:58:23.391Z"
   },
   {
    "duration": 0,
    "start_time": "2022-07-01T18:58:23.392Z"
   },
   {
    "duration": 0,
    "start_time": "2022-07-01T18:58:23.393Z"
   },
   {
    "duration": 0,
    "start_time": "2022-07-01T18:58:23.394Z"
   },
   {
    "duration": 0,
    "start_time": "2022-07-01T18:58:23.395Z"
   },
   {
    "duration": 0,
    "start_time": "2022-07-01T18:58:23.396Z"
   },
   {
    "duration": 0,
    "start_time": "2022-07-01T18:58:23.397Z"
   },
   {
    "duration": 0,
    "start_time": "2022-07-01T18:58:23.398Z"
   },
   {
    "duration": 0,
    "start_time": "2022-07-01T18:58:23.399Z"
   },
   {
    "duration": 0,
    "start_time": "2022-07-01T18:58:23.400Z"
   },
   {
    "duration": 0,
    "start_time": "2022-07-01T18:58:23.401Z"
   },
   {
    "duration": 0,
    "start_time": "2022-07-01T18:58:23.402Z"
   },
   {
    "duration": 0,
    "start_time": "2022-07-01T18:58:23.403Z"
   },
   {
    "duration": 0,
    "start_time": "2022-07-01T18:58:23.404Z"
   },
   {
    "duration": 0,
    "start_time": "2022-07-01T18:58:23.405Z"
   },
   {
    "duration": 0,
    "start_time": "2022-07-01T18:58:23.428Z"
   },
   {
    "duration": 0,
    "start_time": "2022-07-01T18:58:23.429Z"
   },
   {
    "duration": 0,
    "start_time": "2022-07-01T18:58:23.430Z"
   },
   {
    "duration": 0,
    "start_time": "2022-07-01T18:58:23.431Z"
   },
   {
    "duration": 0,
    "start_time": "2022-07-01T18:58:23.432Z"
   },
   {
    "duration": 0,
    "start_time": "2022-07-01T18:58:23.433Z"
   },
   {
    "duration": 0,
    "start_time": "2022-07-01T18:58:23.434Z"
   },
   {
    "duration": 0,
    "start_time": "2022-07-01T18:58:23.435Z"
   },
   {
    "duration": 0,
    "start_time": "2022-07-01T18:58:23.437Z"
   },
   {
    "duration": 0,
    "start_time": "2022-07-01T18:58:23.437Z"
   },
   {
    "duration": 0,
    "start_time": "2022-07-01T18:58:23.439Z"
   },
   {
    "duration": 0,
    "start_time": "2022-07-01T18:58:23.440Z"
   },
   {
    "duration": 0,
    "start_time": "2022-07-01T18:58:23.441Z"
   },
   {
    "duration": 0,
    "start_time": "2022-07-01T18:58:23.443Z"
   },
   {
    "duration": 0,
    "start_time": "2022-07-01T18:58:23.444Z"
   },
   {
    "duration": 0,
    "start_time": "2022-07-01T18:58:23.446Z"
   },
   {
    "duration": 5,
    "start_time": "2022-07-01T18:58:45.284Z"
   },
   {
    "duration": 1528,
    "start_time": "2022-07-01T18:58:45.291Z"
   },
   {
    "duration": 159,
    "start_time": "2022-07-01T18:58:46.822Z"
   },
   {
    "duration": 23,
    "start_time": "2022-07-01T18:58:46.984Z"
   },
   {
    "duration": 12,
    "start_time": "2022-07-01T18:58:47.009Z"
   },
   {
    "duration": 19,
    "start_time": "2022-07-01T18:58:47.023Z"
   },
   {
    "duration": 12,
    "start_time": "2022-07-01T18:58:47.044Z"
   },
   {
    "duration": 41,
    "start_time": "2022-07-01T18:58:47.058Z"
   },
   {
    "duration": 34,
    "start_time": "2022-07-01T18:58:47.101Z"
   },
   {
    "duration": 19,
    "start_time": "2022-07-01T18:58:47.137Z"
   },
   {
    "duration": 5,
    "start_time": "2022-07-01T18:58:47.158Z"
   },
   {
    "duration": 22,
    "start_time": "2022-07-01T18:58:47.164Z"
   },
   {
    "duration": 46,
    "start_time": "2022-07-01T18:58:47.188Z"
   },
   {
    "duration": 12,
    "start_time": "2022-07-01T18:58:47.236Z"
   },
   {
    "duration": 14,
    "start_time": "2022-07-01T18:58:47.249Z"
   },
   {
    "duration": 7,
    "start_time": "2022-07-01T18:58:47.265Z"
   },
   {
    "duration": 17,
    "start_time": "2022-07-01T18:58:47.274Z"
   },
   {
    "duration": 73,
    "start_time": "2022-07-01T18:58:47.293Z"
   },
   {
    "duration": 4,
    "start_time": "2022-07-01T18:58:47.368Z"
   },
   {
    "duration": 8,
    "start_time": "2022-07-01T18:58:47.374Z"
   },
   {
    "duration": 6,
    "start_time": "2022-07-01T18:58:47.384Z"
   },
   {
    "duration": 4,
    "start_time": "2022-07-01T18:58:47.392Z"
   },
   {
    "duration": 4,
    "start_time": "2022-07-01T18:58:47.398Z"
   },
   {
    "duration": 12,
    "start_time": "2022-07-01T18:58:47.431Z"
   },
   {
    "duration": 3,
    "start_time": "2022-07-01T18:58:47.445Z"
   },
   {
    "duration": 10,
    "start_time": "2022-07-01T18:58:47.450Z"
   },
   {
    "duration": 32,
    "start_time": "2022-07-01T18:58:47.461Z"
   },
   {
    "duration": 34,
    "start_time": "2022-07-01T18:58:47.495Z"
   },
   {
    "duration": 144,
    "start_time": "2022-07-01T18:58:47.534Z"
   },
   {
    "duration": 5,
    "start_time": "2022-07-01T18:58:47.680Z"
   },
   {
    "duration": 17,
    "start_time": "2022-07-01T18:58:47.687Z"
   },
   {
    "duration": 9,
    "start_time": "2022-07-01T18:58:47.706Z"
   },
   {
    "duration": 13,
    "start_time": "2022-07-01T18:58:47.716Z"
   },
   {
    "duration": 19,
    "start_time": "2022-07-01T18:58:47.732Z"
   },
   {
    "duration": 203,
    "start_time": "2022-07-01T18:58:47.753Z"
   },
   {
    "duration": 10,
    "start_time": "2022-07-01T18:58:47.957Z"
   },
   {
    "duration": 197,
    "start_time": "2022-07-01T18:58:47.969Z"
   },
   {
    "duration": 13,
    "start_time": "2022-07-01T18:58:48.168Z"
   },
   {
    "duration": 111,
    "start_time": "2022-07-01T18:58:48.183Z"
   },
   {
    "duration": 195,
    "start_time": "2022-07-01T18:58:48.295Z"
   },
   {
    "duration": 166,
    "start_time": "2022-07-01T18:58:48.491Z"
   },
   {
    "duration": 11,
    "start_time": "2022-07-01T18:58:48.659Z"
   },
   {
    "duration": 19,
    "start_time": "2022-07-01T18:58:48.672Z"
   },
   {
    "duration": 142,
    "start_time": "2022-07-01T18:58:48.693Z"
   },
   {
    "duration": 11,
    "start_time": "2022-07-01T18:58:48.837Z"
   },
   {
    "duration": 172,
    "start_time": "2022-07-01T18:58:48.850Z"
   },
   {
    "duration": 16,
    "start_time": "2022-07-01T18:58:49.028Z"
   },
   {
    "duration": 115,
    "start_time": "2022-07-01T18:58:49.045Z"
   },
   {
    "duration": 13,
    "start_time": "2022-07-01T18:58:49.162Z"
   },
   {
    "duration": 108,
    "start_time": "2022-07-01T18:58:49.176Z"
   },
   {
    "duration": 17,
    "start_time": "2022-07-01T18:58:49.286Z"
   },
   {
    "duration": 136,
    "start_time": "2022-07-01T18:58:49.305Z"
   },
   {
    "duration": 5,
    "start_time": "2022-07-01T18:58:49.443Z"
   },
   {
    "duration": 17,
    "start_time": "2022-07-01T18:58:49.449Z"
   },
   {
    "duration": 8,
    "start_time": "2022-07-01T18:58:49.467Z"
   },
   {
    "duration": 8,
    "start_time": "2022-07-01T18:58:49.476Z"
   },
   {
    "duration": 12,
    "start_time": "2022-07-01T18:58:49.486Z"
   },
   {
    "duration": 6,
    "start_time": "2022-07-01T18:58:49.500Z"
   },
   {
    "duration": 25,
    "start_time": "2022-07-01T18:58:49.507Z"
   },
   {
    "duration": 2,
    "start_time": "2022-07-01T18:58:49.534Z"
   },
   {
    "duration": 8,
    "start_time": "2022-07-01T18:58:49.538Z"
   },
   {
    "duration": 6,
    "start_time": "2022-07-01T18:58:49.547Z"
   },
   {
    "duration": 5,
    "start_time": "2022-07-01T18:58:49.555Z"
   },
   {
    "duration": 5,
    "start_time": "2022-07-01T18:58:49.562Z"
   },
   {
    "duration": 4,
    "start_time": "2022-07-01T18:58:49.568Z"
   },
   {
    "duration": 6,
    "start_time": "2022-07-01T18:58:49.574Z"
   },
   {
    "duration": 6,
    "start_time": "2022-07-01T18:58:49.582Z"
   },
   {
    "duration": 4,
    "start_time": "2022-07-01T18:58:49.590Z"
   },
   {
    "duration": 2516,
    "start_time": "2022-07-01T18:58:49.596Z"
   },
   {
    "duration": 0,
    "start_time": "2022-07-01T18:58:52.114Z"
   },
   {
    "duration": 5,
    "start_time": "2022-07-01T18:59:24.631Z"
   },
   {
    "duration": 1585,
    "start_time": "2022-07-01T18:59:24.639Z"
   },
   {
    "duration": 176,
    "start_time": "2022-07-01T18:59:26.227Z"
   },
   {
    "duration": 18,
    "start_time": "2022-07-01T18:59:26.405Z"
   },
   {
    "duration": 45,
    "start_time": "2022-07-01T18:59:26.426Z"
   },
   {
    "duration": 15,
    "start_time": "2022-07-01T18:59:26.473Z"
   },
   {
    "duration": 15,
    "start_time": "2022-07-01T18:59:26.490Z"
   },
   {
    "duration": 38,
    "start_time": "2022-07-01T18:59:26.508Z"
   },
   {
    "duration": 25,
    "start_time": "2022-07-01T18:59:26.548Z"
   },
   {
    "duration": 32,
    "start_time": "2022-07-01T18:59:26.576Z"
   },
   {
    "duration": 6,
    "start_time": "2022-07-01T18:59:26.610Z"
   },
   {
    "duration": 35,
    "start_time": "2022-07-01T18:59:26.617Z"
   },
   {
    "duration": 14,
    "start_time": "2022-07-01T18:59:26.654Z"
   },
   {
    "duration": 23,
    "start_time": "2022-07-01T18:59:26.669Z"
   },
   {
    "duration": 39,
    "start_time": "2022-07-01T18:59:26.694Z"
   },
   {
    "duration": 11,
    "start_time": "2022-07-01T18:59:26.735Z"
   },
   {
    "duration": 23,
    "start_time": "2022-07-01T18:59:26.747Z"
   },
   {
    "duration": 36,
    "start_time": "2022-07-01T18:59:26.772Z"
   },
   {
    "duration": 27,
    "start_time": "2022-07-01T18:59:26.810Z"
   },
   {
    "duration": 24,
    "start_time": "2022-07-01T18:59:26.839Z"
   },
   {
    "duration": 4,
    "start_time": "2022-07-01T18:59:26.865Z"
   },
   {
    "duration": 6,
    "start_time": "2022-07-01T18:59:26.871Z"
   },
   {
    "duration": 6,
    "start_time": "2022-07-01T18:59:26.879Z"
   },
   {
    "duration": 13,
    "start_time": "2022-07-01T18:59:26.887Z"
   },
   {
    "duration": 11,
    "start_time": "2022-07-01T18:59:26.903Z"
   },
   {
    "duration": 14,
    "start_time": "2022-07-01T18:59:26.915Z"
   },
   {
    "duration": 44,
    "start_time": "2022-07-01T18:59:26.931Z"
   },
   {
    "duration": 6,
    "start_time": "2022-07-01T18:59:26.976Z"
   },
   {
    "duration": 122,
    "start_time": "2022-07-01T18:59:26.985Z"
   },
   {
    "duration": 5,
    "start_time": "2022-07-01T18:59:27.109Z"
   },
   {
    "duration": 20,
    "start_time": "2022-07-01T18:59:27.115Z"
   },
   {
    "duration": 5,
    "start_time": "2022-07-01T18:59:27.136Z"
   },
   {
    "duration": 24,
    "start_time": "2022-07-01T18:59:27.143Z"
   },
   {
    "duration": 14,
    "start_time": "2022-07-01T18:59:27.169Z"
   },
   {
    "duration": 188,
    "start_time": "2022-07-01T18:59:27.185Z"
   },
   {
    "duration": 9,
    "start_time": "2022-07-01T18:59:27.375Z"
   },
   {
    "duration": 213,
    "start_time": "2022-07-01T18:59:27.386Z"
   },
   {
    "duration": 13,
    "start_time": "2022-07-01T18:59:27.601Z"
   },
   {
    "duration": 120,
    "start_time": "2022-07-01T18:59:27.616Z"
   },
   {
    "duration": 174,
    "start_time": "2022-07-01T18:59:27.739Z"
   },
   {
    "duration": 157,
    "start_time": "2022-07-01T18:59:27.915Z"
   },
   {
    "duration": 11,
    "start_time": "2022-07-01T18:59:28.074Z"
   },
   {
    "duration": 15,
    "start_time": "2022-07-01T18:59:28.087Z"
   },
   {
    "duration": 128,
    "start_time": "2022-07-01T18:59:28.103Z"
   },
   {
    "duration": 14,
    "start_time": "2022-07-01T18:59:28.233Z"
   },
   {
    "duration": 136,
    "start_time": "2022-07-01T18:59:28.249Z"
   },
   {
    "duration": 16,
    "start_time": "2022-07-01T18:59:28.387Z"
   },
   {
    "duration": 135,
    "start_time": "2022-07-01T18:59:28.404Z"
   },
   {
    "duration": 23,
    "start_time": "2022-07-01T18:59:28.541Z"
   },
   {
    "duration": 128,
    "start_time": "2022-07-01T18:59:28.566Z"
   },
   {
    "duration": 35,
    "start_time": "2022-07-01T18:59:28.695Z"
   },
   {
    "duration": 128,
    "start_time": "2022-07-01T18:59:28.732Z"
   },
   {
    "duration": 4,
    "start_time": "2022-07-01T18:59:28.862Z"
   },
   {
    "duration": 21,
    "start_time": "2022-07-01T18:59:28.868Z"
   },
   {
    "duration": 13,
    "start_time": "2022-07-01T18:59:28.891Z"
   },
   {
    "duration": 8,
    "start_time": "2022-07-01T18:59:28.906Z"
   },
   {
    "duration": 26,
    "start_time": "2022-07-01T18:59:28.916Z"
   },
   {
    "duration": 15,
    "start_time": "2022-07-01T18:59:28.944Z"
   },
   {
    "duration": 7,
    "start_time": "2022-07-01T18:59:28.961Z"
   },
   {
    "duration": 4,
    "start_time": "2022-07-01T18:59:28.970Z"
   },
   {
    "duration": 12,
    "start_time": "2022-07-01T18:59:28.976Z"
   },
   {
    "duration": 5,
    "start_time": "2022-07-01T18:59:28.990Z"
   },
   {
    "duration": 6,
    "start_time": "2022-07-01T18:59:28.997Z"
   },
   {
    "duration": 6,
    "start_time": "2022-07-01T18:59:29.005Z"
   },
   {
    "duration": 5,
    "start_time": "2022-07-01T18:59:29.013Z"
   },
   {
    "duration": 15,
    "start_time": "2022-07-01T18:59:29.030Z"
   },
   {
    "duration": 11,
    "start_time": "2022-07-01T18:59:29.047Z"
   },
   {
    "duration": 8,
    "start_time": "2022-07-01T18:59:29.060Z"
   },
   {
    "duration": 2505,
    "start_time": "2022-07-01T18:59:29.069Z"
   },
   {
    "duration": 0,
    "start_time": "2022-07-01T18:59:31.577Z"
   },
   {
    "duration": 13,
    "start_time": "2022-07-01T18:59:49.943Z"
   },
   {
    "duration": 19,
    "start_time": "2022-07-01T18:59:57.561Z"
   },
   {
    "duration": 4,
    "start_time": "2022-07-01T19:00:39.616Z"
   },
   {
    "duration": 1468,
    "start_time": "2022-07-01T19:00:39.622Z"
   },
   {
    "duration": 171,
    "start_time": "2022-07-01T19:00:41.092Z"
   },
   {
    "duration": 17,
    "start_time": "2022-07-01T19:00:41.265Z"
   },
   {
    "duration": 9,
    "start_time": "2022-07-01T19:00:41.284Z"
   },
   {
    "duration": 12,
    "start_time": "2022-07-01T19:00:41.295Z"
   },
   {
    "duration": 9,
    "start_time": "2022-07-01T19:00:41.309Z"
   },
   {
    "duration": 44,
    "start_time": "2022-07-01T19:00:41.320Z"
   },
   {
    "duration": 28,
    "start_time": "2022-07-01T19:00:41.366Z"
   },
   {
    "duration": 44,
    "start_time": "2022-07-01T19:00:41.396Z"
   },
   {
    "duration": 9,
    "start_time": "2022-07-01T19:00:41.445Z"
   },
   {
    "duration": 20,
    "start_time": "2022-07-01T19:00:41.456Z"
   },
   {
    "duration": 12,
    "start_time": "2022-07-01T19:00:41.479Z"
   },
   {
    "duration": 39,
    "start_time": "2022-07-01T19:00:41.494Z"
   },
   {
    "duration": 25,
    "start_time": "2022-07-01T19:00:41.535Z"
   },
   {
    "duration": 7,
    "start_time": "2022-07-01T19:00:41.562Z"
   },
   {
    "duration": 12,
    "start_time": "2022-07-01T19:00:41.571Z"
   },
   {
    "duration": 68,
    "start_time": "2022-07-01T19:00:41.584Z"
   },
   {
    "duration": 4,
    "start_time": "2022-07-01T19:00:41.654Z"
   },
   {
    "duration": 752,
    "start_time": "2022-07-01T19:00:41.660Z"
   },
   {
    "duration": 0,
    "start_time": "2022-07-01T19:00:42.414Z"
   },
   {
    "duration": 0,
    "start_time": "2022-07-01T19:00:42.416Z"
   },
   {
    "duration": 0,
    "start_time": "2022-07-01T19:00:42.417Z"
   },
   {
    "duration": 0,
    "start_time": "2022-07-01T19:00:42.419Z"
   },
   {
    "duration": 0,
    "start_time": "2022-07-01T19:00:42.420Z"
   },
   {
    "duration": 0,
    "start_time": "2022-07-01T19:00:42.421Z"
   },
   {
    "duration": 0,
    "start_time": "2022-07-01T19:00:42.422Z"
   },
   {
    "duration": 0,
    "start_time": "2022-07-01T19:00:42.423Z"
   },
   {
    "duration": 0,
    "start_time": "2022-07-01T19:00:42.425Z"
   },
   {
    "duration": 0,
    "start_time": "2022-07-01T19:00:42.426Z"
   },
   {
    "duration": 0,
    "start_time": "2022-07-01T19:00:42.427Z"
   },
   {
    "duration": 0,
    "start_time": "2022-07-01T19:00:42.428Z"
   },
   {
    "duration": 0,
    "start_time": "2022-07-01T19:00:42.429Z"
   },
   {
    "duration": 0,
    "start_time": "2022-07-01T19:00:42.430Z"
   },
   {
    "duration": 0,
    "start_time": "2022-07-01T19:00:42.432Z"
   },
   {
    "duration": 0,
    "start_time": "2022-07-01T19:00:42.433Z"
   },
   {
    "duration": 0,
    "start_time": "2022-07-01T19:00:42.439Z"
   },
   {
    "duration": 0,
    "start_time": "2022-07-01T19:00:42.440Z"
   },
   {
    "duration": 0,
    "start_time": "2022-07-01T19:00:42.442Z"
   },
   {
    "duration": 0,
    "start_time": "2022-07-01T19:00:42.444Z"
   },
   {
    "duration": 0,
    "start_time": "2022-07-01T19:00:42.446Z"
   },
   {
    "duration": 0,
    "start_time": "2022-07-01T19:00:42.447Z"
   },
   {
    "duration": 0,
    "start_time": "2022-07-01T19:00:42.449Z"
   },
   {
    "duration": 0,
    "start_time": "2022-07-01T19:00:42.450Z"
   },
   {
    "duration": 0,
    "start_time": "2022-07-01T19:00:42.451Z"
   },
   {
    "duration": 0,
    "start_time": "2022-07-01T19:00:42.452Z"
   },
   {
    "duration": 0,
    "start_time": "2022-07-01T19:00:42.454Z"
   },
   {
    "duration": 0,
    "start_time": "2022-07-01T19:00:42.455Z"
   },
   {
    "duration": 0,
    "start_time": "2022-07-01T19:00:42.458Z"
   },
   {
    "duration": 0,
    "start_time": "2022-07-01T19:00:42.459Z"
   },
   {
    "duration": 0,
    "start_time": "2022-07-01T19:00:42.460Z"
   },
   {
    "duration": 0,
    "start_time": "2022-07-01T19:00:42.462Z"
   },
   {
    "duration": 0,
    "start_time": "2022-07-01T19:00:42.463Z"
   },
   {
    "duration": 0,
    "start_time": "2022-07-01T19:00:42.464Z"
   },
   {
    "duration": 0,
    "start_time": "2022-07-01T19:00:42.465Z"
   },
   {
    "duration": 0,
    "start_time": "2022-07-01T19:00:42.466Z"
   },
   {
    "duration": 0,
    "start_time": "2022-07-01T19:00:42.467Z"
   },
   {
    "duration": 0,
    "start_time": "2022-07-01T19:00:42.468Z"
   },
   {
    "duration": 0,
    "start_time": "2022-07-01T19:00:42.469Z"
   },
   {
    "duration": 0,
    "start_time": "2022-07-01T19:00:42.470Z"
   },
   {
    "duration": 0,
    "start_time": "2022-07-01T19:00:42.471Z"
   },
   {
    "duration": 0,
    "start_time": "2022-07-01T19:00:42.473Z"
   },
   {
    "duration": 0,
    "start_time": "2022-07-01T19:00:42.475Z"
   },
   {
    "duration": 0,
    "start_time": "2022-07-01T19:00:42.476Z"
   },
   {
    "duration": 0,
    "start_time": "2022-07-01T19:00:42.531Z"
   },
   {
    "duration": 0,
    "start_time": "2022-07-01T19:00:42.532Z"
   },
   {
    "duration": 0,
    "start_time": "2022-07-01T19:00:42.533Z"
   },
   {
    "duration": 0,
    "start_time": "2022-07-01T19:00:42.533Z"
   },
   {
    "duration": 0,
    "start_time": "2022-07-01T19:00:42.534Z"
   },
   {
    "duration": 0,
    "start_time": "2022-07-01T19:00:42.535Z"
   },
   {
    "duration": 17,
    "start_time": "2022-07-01T19:03:01.403Z"
   },
   {
    "duration": 17,
    "start_time": "2022-07-01T19:03:07.607Z"
   },
   {
    "duration": 11,
    "start_time": "2022-07-01T19:04:09.802Z"
   },
   {
    "duration": 16,
    "start_time": "2022-07-01T19:04:17.744Z"
   },
   {
    "duration": 16,
    "start_time": "2022-07-01T19:04:20.581Z"
   },
   {
    "duration": 4,
    "start_time": "2022-07-01T19:05:21.668Z"
   },
   {
    "duration": 1493,
    "start_time": "2022-07-01T19:05:21.684Z"
   },
   {
    "duration": 184,
    "start_time": "2022-07-01T19:05:23.179Z"
   },
   {
    "duration": 17,
    "start_time": "2022-07-01T19:05:23.364Z"
   },
   {
    "duration": 10,
    "start_time": "2022-07-01T19:05:23.383Z"
   },
   {
    "duration": 12,
    "start_time": "2022-07-01T19:05:23.396Z"
   },
   {
    "duration": 11,
    "start_time": "2022-07-01T19:05:23.410Z"
   },
   {
    "duration": 39,
    "start_time": "2022-07-01T19:05:23.423Z"
   },
   {
    "duration": 17,
    "start_time": "2022-07-01T19:05:23.463Z"
   },
   {
    "duration": 18,
    "start_time": "2022-07-01T19:05:23.482Z"
   },
   {
    "duration": 5,
    "start_time": "2022-07-01T19:05:23.502Z"
   },
   {
    "duration": 21,
    "start_time": "2022-07-01T19:05:23.530Z"
   },
   {
    "duration": 13,
    "start_time": "2022-07-01T19:05:23.553Z"
   },
   {
    "duration": 13,
    "start_time": "2022-07-01T19:05:23.568Z"
   },
   {
    "duration": 15,
    "start_time": "2022-07-01T19:05:23.585Z"
   },
   {
    "duration": 6,
    "start_time": "2022-07-01T19:05:23.636Z"
   },
   {
    "duration": 22,
    "start_time": "2022-07-01T19:05:23.647Z"
   },
   {
    "duration": 38,
    "start_time": "2022-07-01T19:05:23.671Z"
   },
   {
    "duration": 5,
    "start_time": "2022-07-01T19:05:23.711Z"
   },
   {
    "duration": 13,
    "start_time": "2022-07-01T19:05:23.718Z"
   },
   {
    "duration": 10,
    "start_time": "2022-07-01T19:05:23.733Z"
   },
   {
    "duration": 15,
    "start_time": "2022-07-01T19:05:23.746Z"
   },
   {
    "duration": 6,
    "start_time": "2022-07-01T19:05:23.763Z"
   },
   {
    "duration": 13,
    "start_time": "2022-07-01T19:05:23.771Z"
   },
   {
    "duration": 4,
    "start_time": "2022-07-01T19:05:23.786Z"
   },
   {
    "duration": 10,
    "start_time": "2022-07-01T19:05:23.792Z"
   },
   {
    "duration": 42,
    "start_time": "2022-07-01T19:05:23.803Z"
   },
   {
    "duration": 6,
    "start_time": "2022-07-01T19:05:23.846Z"
   },
   {
    "duration": 140,
    "start_time": "2022-07-01T19:05:23.854Z"
   },
   {
    "duration": 4,
    "start_time": "2022-07-01T19:05:23.996Z"
   },
   {
    "duration": 12,
    "start_time": "2022-07-01T19:05:24.002Z"
   },
   {
    "duration": 15,
    "start_time": "2022-07-01T19:05:24.015Z"
   },
   {
    "duration": 6,
    "start_time": "2022-07-01T19:05:24.032Z"
   },
   {
    "duration": 16,
    "start_time": "2022-07-01T19:05:24.041Z"
   },
   {
    "duration": 193,
    "start_time": "2022-07-01T19:05:24.058Z"
   },
   {
    "duration": 12,
    "start_time": "2022-07-01T19:05:24.253Z"
   },
   {
    "duration": 189,
    "start_time": "2022-07-01T19:05:24.267Z"
   },
   {
    "duration": 12,
    "start_time": "2022-07-01T19:05:24.458Z"
   },
   {
    "duration": 109,
    "start_time": "2022-07-01T19:05:24.471Z"
   },
   {
    "duration": 181,
    "start_time": "2022-07-01T19:05:24.582Z"
   },
   {
    "duration": 161,
    "start_time": "2022-07-01T19:05:24.765Z"
   },
   {
    "duration": 23,
    "start_time": "2022-07-01T19:05:24.934Z"
   },
   {
    "duration": 35,
    "start_time": "2022-07-01T19:05:24.959Z"
   },
   {
    "duration": 168,
    "start_time": "2022-07-01T19:05:24.996Z"
   },
   {
    "duration": 15,
    "start_time": "2022-07-01T19:05:25.166Z"
   },
   {
    "duration": 143,
    "start_time": "2022-07-01T19:05:25.183Z"
   },
   {
    "duration": 27,
    "start_time": "2022-07-01T19:05:25.328Z"
   },
   {
    "duration": 138,
    "start_time": "2022-07-01T19:05:25.357Z"
   },
   {
    "duration": 13,
    "start_time": "2022-07-01T19:05:25.497Z"
   },
   {
    "duration": 126,
    "start_time": "2022-07-01T19:05:25.512Z"
   },
   {
    "duration": 19,
    "start_time": "2022-07-01T19:05:25.640Z"
   },
   {
    "duration": 118,
    "start_time": "2022-07-01T19:05:25.660Z"
   },
   {
    "duration": 4,
    "start_time": "2022-07-01T19:05:25.780Z"
   },
   {
    "duration": 15,
    "start_time": "2022-07-01T19:05:25.785Z"
   },
   {
    "duration": 7,
    "start_time": "2022-07-01T19:05:25.802Z"
   },
   {
    "duration": 22,
    "start_time": "2022-07-01T19:05:25.810Z"
   },
   {
    "duration": 14,
    "start_time": "2022-07-01T19:05:25.837Z"
   },
   {
    "duration": 5,
    "start_time": "2022-07-01T19:05:25.852Z"
   },
   {
    "duration": 9,
    "start_time": "2022-07-01T19:05:25.859Z"
   },
   {
    "duration": 3,
    "start_time": "2022-07-01T19:05:25.869Z"
   },
   {
    "duration": 9,
    "start_time": "2022-07-01T19:05:25.873Z"
   },
   {
    "duration": 6,
    "start_time": "2022-07-01T19:05:25.884Z"
   },
   {
    "duration": 5,
    "start_time": "2022-07-01T19:05:25.891Z"
   },
   {
    "duration": 6,
    "start_time": "2022-07-01T19:05:25.898Z"
   },
   {
    "duration": 4,
    "start_time": "2022-07-01T19:05:25.929Z"
   },
   {
    "duration": 15,
    "start_time": "2022-07-01T19:05:25.936Z"
   },
   {
    "duration": 5,
    "start_time": "2022-07-01T19:05:25.954Z"
   },
   {
    "duration": 4,
    "start_time": "2022-07-01T19:05:25.961Z"
   },
   {
    "duration": 2471,
    "start_time": "2022-07-01T19:05:25.967Z"
   },
   {
    "duration": 0,
    "start_time": "2022-07-01T19:05:28.442Z"
   },
   {
    "duration": 0,
    "start_time": "2022-07-01T19:05:28.443Z"
   },
   {
    "duration": 6,
    "start_time": "2022-07-01T19:13:08.643Z"
   },
   {
    "duration": 1520,
    "start_time": "2022-07-01T19:13:08.652Z"
   },
   {
    "duration": 170,
    "start_time": "2022-07-01T19:13:10.173Z"
   },
   {
    "duration": 18,
    "start_time": "2022-07-01T19:13:10.346Z"
   },
   {
    "duration": 7,
    "start_time": "2022-07-01T19:13:10.367Z"
   },
   {
    "duration": 12,
    "start_time": "2022-07-01T19:13:10.376Z"
   },
   {
    "duration": 12,
    "start_time": "2022-07-01T19:13:10.389Z"
   },
   {
    "duration": 46,
    "start_time": "2022-07-01T19:13:10.402Z"
   },
   {
    "duration": 19,
    "start_time": "2022-07-01T19:13:10.450Z"
   },
   {
    "duration": 19,
    "start_time": "2022-07-01T19:13:10.470Z"
   },
   {
    "duration": 5,
    "start_time": "2022-07-01T19:13:10.491Z"
   },
   {
    "duration": 43,
    "start_time": "2022-07-01T19:13:10.498Z"
   },
   {
    "duration": 15,
    "start_time": "2022-07-01T19:13:10.543Z"
   },
   {
    "duration": 14,
    "start_time": "2022-07-01T19:13:10.561Z"
   },
   {
    "duration": 11,
    "start_time": "2022-07-01T19:13:10.576Z"
   },
   {
    "duration": 4,
    "start_time": "2022-07-01T19:13:10.588Z"
   },
   {
    "duration": 43,
    "start_time": "2022-07-01T19:13:10.593Z"
   },
   {
    "duration": 31,
    "start_time": "2022-07-01T19:13:10.638Z"
   },
   {
    "duration": 3,
    "start_time": "2022-07-01T19:13:10.671Z"
   },
   {
    "duration": 8,
    "start_time": "2022-07-01T19:13:10.676Z"
   },
   {
    "duration": 13,
    "start_time": "2022-07-01T19:13:10.685Z"
   },
   {
    "duration": 13,
    "start_time": "2022-07-01T19:13:10.699Z"
   },
   {
    "duration": 9,
    "start_time": "2022-07-01T19:13:10.713Z"
   },
   {
    "duration": 20,
    "start_time": "2022-07-01T19:13:10.723Z"
   },
   {
    "duration": 28,
    "start_time": "2022-07-01T19:13:10.746Z"
   },
   {
    "duration": 11,
    "start_time": "2022-07-01T19:13:10.776Z"
   },
   {
    "duration": 22,
    "start_time": "2022-07-01T19:13:10.789Z"
   },
   {
    "duration": 40,
    "start_time": "2022-07-01T19:13:10.812Z"
   },
   {
    "duration": 5,
    "start_time": "2022-07-01T19:13:10.855Z"
   },
   {
    "duration": 135,
    "start_time": "2022-07-01T19:13:10.862Z"
   },
   {
    "duration": 4,
    "start_time": "2022-07-01T19:13:10.999Z"
   },
   {
    "duration": 15,
    "start_time": "2022-07-01T19:13:11.005Z"
   },
   {
    "duration": 17,
    "start_time": "2022-07-01T19:13:11.021Z"
   },
   {
    "duration": 19,
    "start_time": "2022-07-01T19:13:11.040Z"
   },
   {
    "duration": 16,
    "start_time": "2022-07-01T19:13:11.061Z"
   },
   {
    "duration": 201,
    "start_time": "2022-07-01T19:13:11.079Z"
   },
   {
    "duration": 12,
    "start_time": "2022-07-01T19:13:11.283Z"
   },
   {
    "duration": 211,
    "start_time": "2022-07-01T19:13:11.297Z"
   },
   {
    "duration": 27,
    "start_time": "2022-07-01T19:13:11.509Z"
   },
   {
    "duration": 96,
    "start_time": "2022-07-01T19:13:11.539Z"
   },
   {
    "duration": 164,
    "start_time": "2022-07-01T19:13:11.640Z"
   },
   {
    "duration": 170,
    "start_time": "2022-07-01T19:13:11.806Z"
   },
   {
    "duration": 11,
    "start_time": "2022-07-01T19:13:11.978Z"
   },
   {
    "duration": 19,
    "start_time": "2022-07-01T19:13:11.990Z"
   },
   {
    "duration": 149,
    "start_time": "2022-07-01T19:13:12.010Z"
   },
   {
    "duration": 10,
    "start_time": "2022-07-01T19:13:12.161Z"
   },
   {
    "duration": 123,
    "start_time": "2022-07-01T19:13:12.173Z"
   },
   {
    "duration": 14,
    "start_time": "2022-07-01T19:13:12.298Z"
   },
   {
    "duration": 124,
    "start_time": "2022-07-01T19:13:12.314Z"
   },
   {
    "duration": 16,
    "start_time": "2022-07-01T19:13:12.440Z"
   },
   {
    "duration": 124,
    "start_time": "2022-07-01T19:13:12.462Z"
   },
   {
    "duration": 17,
    "start_time": "2022-07-01T19:13:12.588Z"
   },
   {
    "duration": 157,
    "start_time": "2022-07-01T19:13:12.607Z"
   },
   {
    "duration": 6,
    "start_time": "2022-07-01T19:13:12.767Z"
   },
   {
    "duration": 18,
    "start_time": "2022-07-01T19:13:12.775Z"
   },
   {
    "duration": 12,
    "start_time": "2022-07-01T19:13:12.795Z"
   },
   {
    "duration": 11,
    "start_time": "2022-07-01T19:13:12.809Z"
   },
   {
    "duration": 26,
    "start_time": "2022-07-01T19:13:12.821Z"
   },
   {
    "duration": 7,
    "start_time": "2022-07-01T19:13:12.849Z"
   },
   {
    "duration": 7,
    "start_time": "2022-07-01T19:13:12.858Z"
   },
   {
    "duration": 4,
    "start_time": "2022-07-01T19:13:12.867Z"
   },
   {
    "duration": 13,
    "start_time": "2022-07-01T19:13:12.873Z"
   },
   {
    "duration": 8,
    "start_time": "2022-07-01T19:13:12.888Z"
   },
   {
    "duration": 6,
    "start_time": "2022-07-01T19:13:12.897Z"
   },
   {
    "duration": 30,
    "start_time": "2022-07-01T19:13:12.904Z"
   },
   {
    "duration": 19,
    "start_time": "2022-07-01T19:13:12.937Z"
   },
   {
    "duration": 5,
    "start_time": "2022-07-01T19:13:12.958Z"
   },
   {
    "duration": 7,
    "start_time": "2022-07-01T19:13:12.965Z"
   },
   {
    "duration": 8,
    "start_time": "2022-07-01T19:13:12.973Z"
   },
   {
    "duration": 2695,
    "start_time": "2022-07-01T19:13:12.982Z"
   },
   {
    "duration": 0,
    "start_time": "2022-07-01T19:13:15.679Z"
   },
   {
    "duration": 0,
    "start_time": "2022-07-01T19:13:15.681Z"
   },
   {
    "duration": 24,
    "start_time": "2022-07-01T19:15:12.302Z"
   },
   {
    "duration": 4,
    "start_time": "2022-07-01T19:16:32.586Z"
   },
   {
    "duration": 4,
    "start_time": "2022-07-01T19:17:20.998Z"
   },
   {
    "duration": 4,
    "start_time": "2022-07-01T19:17:25.496Z"
   },
   {
    "duration": 1570,
    "start_time": "2022-07-01T19:17:25.501Z"
   },
   {
    "duration": 141,
    "start_time": "2022-07-01T19:17:27.073Z"
   },
   {
    "duration": 16,
    "start_time": "2022-07-01T19:17:27.215Z"
   },
   {
    "duration": 15,
    "start_time": "2022-07-01T19:17:27.234Z"
   },
   {
    "duration": 13,
    "start_time": "2022-07-01T19:17:27.252Z"
   },
   {
    "duration": 8,
    "start_time": "2022-07-01T19:17:27.266Z"
   },
   {
    "duration": 26,
    "start_time": "2022-07-01T19:17:27.275Z"
   },
   {
    "duration": 42,
    "start_time": "2022-07-01T19:17:27.303Z"
   },
   {
    "duration": 23,
    "start_time": "2022-07-01T19:17:27.347Z"
   },
   {
    "duration": 5,
    "start_time": "2022-07-01T19:17:27.372Z"
   },
   {
    "duration": 18,
    "start_time": "2022-07-01T19:17:27.379Z"
   },
   {
    "duration": 39,
    "start_time": "2022-07-01T19:17:27.398Z"
   },
   {
    "duration": 17,
    "start_time": "2022-07-01T19:17:27.440Z"
   },
   {
    "duration": 20,
    "start_time": "2022-07-01T19:17:27.458Z"
   },
   {
    "duration": 6,
    "start_time": "2022-07-01T19:17:27.480Z"
   },
   {
    "duration": 16,
    "start_time": "2022-07-01T19:17:27.488Z"
   },
   {
    "duration": 58,
    "start_time": "2022-07-01T19:17:27.506Z"
   },
   {
    "duration": 5,
    "start_time": "2022-07-01T19:17:27.567Z"
   },
   {
    "duration": 10,
    "start_time": "2022-07-01T19:17:27.573Z"
   },
   {
    "duration": 5,
    "start_time": "2022-07-01T19:17:27.584Z"
   },
   {
    "duration": 8,
    "start_time": "2022-07-01T19:17:27.590Z"
   },
   {
    "duration": 4,
    "start_time": "2022-07-01T19:17:27.600Z"
   },
   {
    "duration": 8,
    "start_time": "2022-07-01T19:17:27.605Z"
   },
   {
    "duration": 23,
    "start_time": "2022-07-01T19:17:27.614Z"
   },
   {
    "duration": 13,
    "start_time": "2022-07-01T19:17:27.639Z"
   },
   {
    "duration": 6,
    "start_time": "2022-07-01T19:17:27.654Z"
   },
   {
    "duration": 15,
    "start_time": "2022-07-01T19:17:27.662Z"
   },
   {
    "duration": 31,
    "start_time": "2022-07-01T19:17:27.678Z"
   },
   {
    "duration": 4,
    "start_time": "2022-07-01T19:17:27.711Z"
   },
   {
    "duration": 137,
    "start_time": "2022-07-01T19:17:27.716Z"
   },
   {
    "duration": 4,
    "start_time": "2022-07-01T19:17:27.855Z"
   },
   {
    "duration": 7,
    "start_time": "2022-07-01T19:17:27.861Z"
   },
   {
    "duration": 3,
    "start_time": "2022-07-01T19:17:27.869Z"
   },
   {
    "duration": 4,
    "start_time": "2022-07-01T19:17:27.874Z"
   },
   {
    "duration": 13,
    "start_time": "2022-07-01T19:17:27.880Z"
   },
   {
    "duration": 188,
    "start_time": "2022-07-01T19:17:27.894Z"
   },
   {
    "duration": 8,
    "start_time": "2022-07-01T19:17:28.084Z"
   },
   {
    "duration": 185,
    "start_time": "2022-07-01T19:17:28.093Z"
   },
   {
    "duration": 14,
    "start_time": "2022-07-01T19:17:28.280Z"
   },
   {
    "duration": 18,
    "start_time": "2022-07-01T19:17:28.298Z"
   },
   {
    "duration": 245,
    "start_time": "2022-07-01T19:17:28.330Z"
   },
   {
    "duration": 160,
    "start_time": "2022-07-01T19:17:28.577Z"
   },
   {
    "duration": 12,
    "start_time": "2022-07-01T19:17:28.739Z"
   },
   {
    "duration": 21,
    "start_time": "2022-07-01T19:17:28.752Z"
   },
   {
    "duration": 139,
    "start_time": "2022-07-01T19:17:28.775Z"
   },
   {
    "duration": 27,
    "start_time": "2022-07-01T19:17:28.915Z"
   },
   {
    "duration": 129,
    "start_time": "2022-07-01T19:17:28.945Z"
   },
   {
    "duration": 16,
    "start_time": "2022-07-01T19:17:29.076Z"
   },
   {
    "duration": 118,
    "start_time": "2022-07-01T19:17:29.093Z"
   },
   {
    "duration": 34,
    "start_time": "2022-07-01T19:17:29.213Z"
   },
   {
    "duration": 126,
    "start_time": "2022-07-01T19:17:29.249Z"
   },
   {
    "duration": 20,
    "start_time": "2022-07-01T19:17:29.376Z"
   },
   {
    "duration": 160,
    "start_time": "2022-07-01T19:17:29.398Z"
   },
   {
    "duration": 4,
    "start_time": "2022-07-01T19:17:29.560Z"
   },
   {
    "duration": 16,
    "start_time": "2022-07-01T19:17:29.567Z"
   },
   {
    "duration": 6,
    "start_time": "2022-07-01T19:17:29.585Z"
   },
   {
    "duration": 6,
    "start_time": "2022-07-01T19:17:29.593Z"
   },
   {
    "duration": 7,
    "start_time": "2022-07-01T19:17:29.601Z"
   },
   {
    "duration": 3,
    "start_time": "2022-07-01T19:17:29.629Z"
   },
   {
    "duration": 17,
    "start_time": "2022-07-01T19:17:29.635Z"
   },
   {
    "duration": 10,
    "start_time": "2022-07-01T19:17:29.654Z"
   },
   {
    "duration": 10,
    "start_time": "2022-07-01T19:17:29.665Z"
   },
   {
    "duration": 3,
    "start_time": "2022-07-01T19:17:29.677Z"
   },
   {
    "duration": 7,
    "start_time": "2022-07-01T19:17:29.681Z"
   },
   {
    "duration": 9,
    "start_time": "2022-07-01T19:17:29.690Z"
   },
   {
    "duration": 13,
    "start_time": "2022-07-01T19:17:29.701Z"
   },
   {
    "duration": 22,
    "start_time": "2022-07-01T19:17:29.715Z"
   },
   {
    "duration": 18,
    "start_time": "2022-07-01T19:17:29.739Z"
   },
   {
    "duration": 12,
    "start_time": "2022-07-01T19:17:29.759Z"
   },
   {
    "duration": 2731,
    "start_time": "2022-07-01T19:17:29.773Z"
   },
   {
    "duration": 0,
    "start_time": "2022-07-01T19:17:32.506Z"
   },
   {
    "duration": 0,
    "start_time": "2022-07-01T19:17:32.507Z"
   },
   {
    "duration": 5,
    "start_time": "2022-07-01T19:18:58.236Z"
   },
   {
    "duration": 1646,
    "start_time": "2022-07-01T19:18:58.243Z"
   },
   {
    "duration": 137,
    "start_time": "2022-07-01T19:18:59.890Z"
   },
   {
    "duration": 24,
    "start_time": "2022-07-01T19:19:00.028Z"
   },
   {
    "duration": 17,
    "start_time": "2022-07-01T19:19:00.054Z"
   },
   {
    "duration": 30,
    "start_time": "2022-07-01T19:19:00.072Z"
   },
   {
    "duration": 26,
    "start_time": "2022-07-01T19:19:00.103Z"
   },
   {
    "duration": 47,
    "start_time": "2022-07-01T19:19:00.130Z"
   },
   {
    "duration": 23,
    "start_time": "2022-07-01T19:19:00.178Z"
   },
   {
    "duration": 51,
    "start_time": "2022-07-01T19:19:00.203Z"
   },
   {
    "duration": 25,
    "start_time": "2022-07-01T19:19:00.256Z"
   },
   {
    "duration": 68,
    "start_time": "2022-07-01T19:19:00.283Z"
   },
   {
    "duration": 18,
    "start_time": "2022-07-01T19:19:00.354Z"
   },
   {
    "duration": 19,
    "start_time": "2022-07-01T19:19:00.375Z"
   },
   {
    "duration": 32,
    "start_time": "2022-07-01T19:19:00.396Z"
   },
   {
    "duration": 22,
    "start_time": "2022-07-01T19:19:00.430Z"
   },
   {
    "duration": 38,
    "start_time": "2022-07-01T19:19:00.453Z"
   },
   {
    "duration": 40,
    "start_time": "2022-07-01T19:19:00.492Z"
   },
   {
    "duration": 34,
    "start_time": "2022-07-01T19:19:00.536Z"
   },
   {
    "duration": 44,
    "start_time": "2022-07-01T19:19:00.571Z"
   },
   {
    "duration": 32,
    "start_time": "2022-07-01T19:19:00.617Z"
   },
   {
    "duration": 39,
    "start_time": "2022-07-01T19:19:00.651Z"
   },
   {
    "duration": 36,
    "start_time": "2022-07-01T19:19:00.691Z"
   },
   {
    "duration": 39,
    "start_time": "2022-07-01T19:19:00.729Z"
   },
   {
    "duration": 17,
    "start_time": "2022-07-01T19:19:00.770Z"
   },
   {
    "duration": 44,
    "start_time": "2022-07-01T19:19:00.789Z"
   },
   {
    "duration": 17,
    "start_time": "2022-07-01T19:19:00.834Z"
   },
   {
    "duration": 28,
    "start_time": "2022-07-01T19:19:00.854Z"
   },
   {
    "duration": 55,
    "start_time": "2022-07-01T19:19:00.884Z"
   },
   {
    "duration": 36,
    "start_time": "2022-07-01T19:19:00.941Z"
   },
   {
    "duration": 136,
    "start_time": "2022-07-01T19:19:00.978Z"
   },
   {
    "duration": 16,
    "start_time": "2022-07-01T19:19:01.116Z"
   },
   {
    "duration": 33,
    "start_time": "2022-07-01T19:19:01.134Z"
   },
   {
    "duration": 24,
    "start_time": "2022-07-01T19:19:01.168Z"
   },
   {
    "duration": 32,
    "start_time": "2022-07-01T19:19:01.194Z"
   },
   {
    "duration": 41,
    "start_time": "2022-07-01T19:19:01.228Z"
   },
   {
    "duration": 202,
    "start_time": "2022-07-01T19:19:01.270Z"
   },
   {
    "duration": 8,
    "start_time": "2022-07-01T19:19:01.473Z"
   },
   {
    "duration": 174,
    "start_time": "2022-07-01T19:19:01.482Z"
   },
   {
    "duration": 12,
    "start_time": "2022-07-01T19:19:01.657Z"
   },
   {
    "duration": 34,
    "start_time": "2022-07-01T19:19:01.673Z"
   },
   {
    "duration": 222,
    "start_time": "2022-07-01T19:19:01.709Z"
   },
   {
    "duration": 177,
    "start_time": "2022-07-01T19:19:01.932Z"
   },
   {
    "duration": 19,
    "start_time": "2022-07-01T19:19:02.111Z"
   },
   {
    "duration": 17,
    "start_time": "2022-07-01T19:19:02.131Z"
   },
   {
    "duration": 122,
    "start_time": "2022-07-01T19:19:02.150Z"
   },
   {
    "duration": 13,
    "start_time": "2022-07-01T19:19:02.274Z"
   },
   {
    "duration": 120,
    "start_time": "2022-07-01T19:19:02.288Z"
   },
   {
    "duration": 21,
    "start_time": "2022-07-01T19:19:02.410Z"
   },
   {
    "duration": 114,
    "start_time": "2022-07-01T19:19:02.432Z"
   },
   {
    "duration": 11,
    "start_time": "2022-07-01T19:19:02.548Z"
   },
   {
    "duration": 114,
    "start_time": "2022-07-01T19:19:02.561Z"
   },
   {
    "duration": 14,
    "start_time": "2022-07-01T19:19:02.677Z"
   },
   {
    "duration": 139,
    "start_time": "2022-07-01T19:19:02.692Z"
   },
   {
    "duration": 9,
    "start_time": "2022-07-01T19:19:02.834Z"
   },
   {
    "duration": 20,
    "start_time": "2022-07-01T19:19:02.846Z"
   },
   {
    "duration": 9,
    "start_time": "2022-07-01T19:19:02.867Z"
   },
   {
    "duration": 9,
    "start_time": "2022-07-01T19:19:02.877Z"
   },
   {
    "duration": 18,
    "start_time": "2022-07-01T19:19:02.887Z"
   },
   {
    "duration": 13,
    "start_time": "2022-07-01T19:19:02.906Z"
   },
   {
    "duration": 14,
    "start_time": "2022-07-01T19:19:02.921Z"
   },
   {
    "duration": 21,
    "start_time": "2022-07-01T19:19:02.938Z"
   },
   {
    "duration": 14,
    "start_time": "2022-07-01T19:19:02.961Z"
   },
   {
    "duration": 19,
    "start_time": "2022-07-01T19:19:02.976Z"
   },
   {
    "duration": 18,
    "start_time": "2022-07-01T19:19:02.996Z"
   },
   {
    "duration": 18,
    "start_time": "2022-07-01T19:19:03.016Z"
   },
   {
    "duration": 23,
    "start_time": "2022-07-01T19:19:03.037Z"
   },
   {
    "duration": 23,
    "start_time": "2022-07-01T19:19:03.061Z"
   },
   {
    "duration": 13,
    "start_time": "2022-07-01T19:19:03.085Z"
   },
   {
    "duration": 15,
    "start_time": "2022-07-01T19:19:03.100Z"
   },
   {
    "duration": 8028,
    "start_time": "2022-07-01T19:19:03.116Z"
   },
   {
    "duration": 11,
    "start_time": "2022-07-01T19:19:11.146Z"
   },
   {
    "duration": 21,
    "start_time": "2022-07-01T19:19:11.159Z"
   },
   {
    "duration": 163,
    "start_time": "2022-07-01T19:22:54.061Z"
   },
   {
    "duration": 602,
    "start_time": "2022-07-01T19:24:06.779Z"
   },
   {
    "duration": 4,
    "start_time": "2022-07-01T19:24:23.319Z"
   },
   {
    "duration": 9,
    "start_time": "2022-07-01T19:24:30.879Z"
   },
   {
    "duration": 16,
    "start_time": "2022-07-01T19:25:50.568Z"
   },
   {
    "duration": 12,
    "start_time": "2022-07-01T19:26:12.072Z"
   },
   {
    "duration": 7,
    "start_time": "2022-07-01T19:26:19.100Z"
   },
   {
    "duration": 4,
    "start_time": "2022-07-01T19:27:13.883Z"
   },
   {
    "duration": 205,
    "start_time": "2022-07-01T19:27:37.346Z"
   },
   {
    "duration": 38,
    "start_time": "2022-07-01T19:32:37.143Z"
   },
   {
    "duration": 3,
    "start_time": "2022-07-01T19:39:38.071Z"
   },
   {
    "duration": 1391,
    "start_time": "2022-07-01T19:39:38.077Z"
   },
   {
    "duration": 140,
    "start_time": "2022-07-01T19:39:39.470Z"
   },
   {
    "duration": 22,
    "start_time": "2022-07-01T19:39:39.612Z"
   },
   {
    "duration": 8,
    "start_time": "2022-07-01T19:39:39.636Z"
   },
   {
    "duration": 12,
    "start_time": "2022-07-01T19:39:39.646Z"
   },
   {
    "duration": 10,
    "start_time": "2022-07-01T19:39:39.660Z"
   },
   {
    "duration": 65,
    "start_time": "2022-07-01T19:39:39.671Z"
   },
   {
    "duration": 28,
    "start_time": "2022-07-01T19:39:39.738Z"
   },
   {
    "duration": 31,
    "start_time": "2022-07-01T19:39:39.769Z"
   },
   {
    "duration": 6,
    "start_time": "2022-07-01T19:39:39.803Z"
   },
   {
    "duration": 18,
    "start_time": "2022-07-01T19:39:39.830Z"
   },
   {
    "duration": 16,
    "start_time": "2022-07-01T19:39:39.850Z"
   },
   {
    "duration": 15,
    "start_time": "2022-07-01T19:39:39.868Z"
   },
   {
    "duration": 48,
    "start_time": "2022-07-01T19:39:39.885Z"
   },
   {
    "duration": 7,
    "start_time": "2022-07-01T19:39:39.935Z"
   },
   {
    "duration": 11,
    "start_time": "2022-07-01T19:39:39.944Z"
   },
   {
    "duration": 34,
    "start_time": "2022-07-01T19:39:39.956Z"
   },
   {
    "duration": 4,
    "start_time": "2022-07-01T19:39:39.991Z"
   },
   {
    "duration": 35,
    "start_time": "2022-07-01T19:39:39.997Z"
   },
   {
    "duration": 7,
    "start_time": "2022-07-01T19:39:40.034Z"
   },
   {
    "duration": 5,
    "start_time": "2022-07-01T19:39:40.043Z"
   },
   {
    "duration": 10,
    "start_time": "2022-07-01T19:39:40.050Z"
   },
   {
    "duration": 9,
    "start_time": "2022-07-01T19:39:40.062Z"
   },
   {
    "duration": 8,
    "start_time": "2022-07-01T19:39:40.073Z"
   },
   {
    "duration": 18,
    "start_time": "2022-07-01T19:39:40.083Z"
   },
   {
    "duration": 3,
    "start_time": "2022-07-01T19:39:40.103Z"
   },
   {
    "duration": 30,
    "start_time": "2022-07-01T19:39:40.107Z"
   },
   {
    "duration": 38,
    "start_time": "2022-07-01T19:39:40.143Z"
   },
   {
    "duration": 5,
    "start_time": "2022-07-01T19:39:40.183Z"
   },
   {
    "duration": 140,
    "start_time": "2022-07-01T19:39:40.189Z"
   },
   {
    "duration": 5,
    "start_time": "2022-07-01T19:39:40.331Z"
   },
   {
    "duration": 25,
    "start_time": "2022-07-01T19:39:40.338Z"
   },
   {
    "duration": 5,
    "start_time": "2022-07-01T19:39:40.365Z"
   },
   {
    "duration": 6,
    "start_time": "2022-07-01T19:39:40.372Z"
   },
   {
    "duration": 17,
    "start_time": "2022-07-01T19:39:40.380Z"
   },
   {
    "duration": 255,
    "start_time": "2022-07-01T19:39:40.398Z"
   },
   {
    "duration": 9,
    "start_time": "2022-07-01T19:39:40.655Z"
   },
   {
    "duration": 180,
    "start_time": "2022-07-01T19:39:40.666Z"
   },
   {
    "duration": 17,
    "start_time": "2022-07-01T19:39:40.848Z"
   },
   {
    "duration": 130,
    "start_time": "2022-07-01T19:39:40.867Z"
   },
   {
    "duration": 235,
    "start_time": "2022-07-01T19:39:40.999Z"
   },
   {
    "duration": 154,
    "start_time": "2022-07-01T19:39:41.236Z"
   },
   {
    "duration": 16,
    "start_time": "2022-07-01T19:39:41.392Z"
   },
   {
    "duration": 31,
    "start_time": "2022-07-01T19:39:41.410Z"
   },
   {
    "duration": 158,
    "start_time": "2022-07-01T19:39:41.442Z"
   },
   {
    "duration": 15,
    "start_time": "2022-07-01T19:39:41.602Z"
   },
   {
    "duration": 105,
    "start_time": "2022-07-01T19:39:41.629Z"
   },
   {
    "duration": 16,
    "start_time": "2022-07-01T19:39:41.735Z"
   },
   {
    "duration": 171,
    "start_time": "2022-07-01T19:39:41.752Z"
   },
   {
    "duration": 15,
    "start_time": "2022-07-01T19:39:41.924Z"
   },
   {
    "duration": 105,
    "start_time": "2022-07-01T19:39:41.941Z"
   },
   {
    "duration": 20,
    "start_time": "2022-07-01T19:39:42.048Z"
   },
   {
    "duration": 155,
    "start_time": "2022-07-01T19:39:42.070Z"
   },
   {
    "duration": 5,
    "start_time": "2022-07-01T19:39:42.227Z"
   },
   {
    "duration": 18,
    "start_time": "2022-07-01T19:39:42.234Z"
   },
   {
    "duration": 8,
    "start_time": "2022-07-01T19:39:42.255Z"
   },
   {
    "duration": 11,
    "start_time": "2022-07-01T19:39:42.264Z"
   },
   {
    "duration": 11,
    "start_time": "2022-07-01T19:39:42.277Z"
   },
   {
    "duration": 4,
    "start_time": "2022-07-01T19:39:42.290Z"
   },
   {
    "duration": 127,
    "start_time": "2022-07-01T19:39:42.296Z"
   },
   {
    "duration": 0,
    "start_time": "2022-07-01T19:39:42.425Z"
   },
   {
    "duration": 0,
    "start_time": "2022-07-01T19:39:42.426Z"
   },
   {
    "duration": 0,
    "start_time": "2022-07-01T19:39:42.429Z"
   },
   {
    "duration": 0,
    "start_time": "2022-07-01T19:39:42.430Z"
   },
   {
    "duration": 0,
    "start_time": "2022-07-01T19:39:42.431Z"
   },
   {
    "duration": 0,
    "start_time": "2022-07-01T19:39:42.433Z"
   },
   {
    "duration": 0,
    "start_time": "2022-07-01T19:39:42.434Z"
   },
   {
    "duration": 0,
    "start_time": "2022-07-01T19:39:42.435Z"
   },
   {
    "duration": 0,
    "start_time": "2022-07-01T19:39:42.436Z"
   },
   {
    "duration": 0,
    "start_time": "2022-07-01T19:39:42.437Z"
   },
   {
    "duration": 0,
    "start_time": "2022-07-01T19:39:42.438Z"
   },
   {
    "duration": 0,
    "start_time": "2022-07-01T19:39:42.440Z"
   },
   {
    "duration": 0,
    "start_time": "2022-07-01T19:39:42.441Z"
   },
   {
    "duration": 0,
    "start_time": "2022-07-01T19:39:42.442Z"
   },
   {
    "duration": 0,
    "start_time": "2022-07-01T19:39:42.443Z"
   },
   {
    "duration": 0,
    "start_time": "2022-07-01T19:39:42.444Z"
   },
   {
    "duration": 0,
    "start_time": "2022-07-01T19:39:42.445Z"
   },
   {
    "duration": 0,
    "start_time": "2022-07-01T19:39:42.446Z"
   },
   {
    "duration": 0,
    "start_time": "2022-07-01T19:39:42.447Z"
   },
   {
    "duration": 0,
    "start_time": "2022-07-01T19:39:42.448Z"
   },
   {
    "duration": 3,
    "start_time": "2022-07-01T19:40:56.927Z"
   },
   {
    "duration": 1463,
    "start_time": "2022-07-01T19:40:56.932Z"
   },
   {
    "duration": 145,
    "start_time": "2022-07-01T19:40:58.397Z"
   },
   {
    "duration": 15,
    "start_time": "2022-07-01T19:40:58.544Z"
   },
   {
    "duration": 10,
    "start_time": "2022-07-01T19:40:58.561Z"
   },
   {
    "duration": 14,
    "start_time": "2022-07-01T19:40:58.573Z"
   },
   {
    "duration": 16,
    "start_time": "2022-07-01T19:40:58.589Z"
   },
   {
    "duration": 34,
    "start_time": "2022-07-01T19:40:58.606Z"
   },
   {
    "duration": 17,
    "start_time": "2022-07-01T19:40:58.642Z"
   },
   {
    "duration": 19,
    "start_time": "2022-07-01T19:40:58.660Z"
   },
   {
    "duration": 5,
    "start_time": "2022-07-01T19:40:58.681Z"
   },
   {
    "duration": 44,
    "start_time": "2022-07-01T19:40:58.688Z"
   },
   {
    "duration": 13,
    "start_time": "2022-07-01T19:40:58.734Z"
   },
   {
    "duration": 15,
    "start_time": "2022-07-01T19:40:58.749Z"
   },
   {
    "duration": 13,
    "start_time": "2022-07-01T19:40:58.766Z"
   },
   {
    "duration": 9,
    "start_time": "2022-07-01T19:40:58.781Z"
   },
   {
    "duration": 37,
    "start_time": "2022-07-01T19:40:58.792Z"
   },
   {
    "duration": 27,
    "start_time": "2022-07-01T19:40:58.831Z"
   },
   {
    "duration": 4,
    "start_time": "2022-07-01T19:40:58.860Z"
   },
   {
    "duration": 12,
    "start_time": "2022-07-01T19:40:58.865Z"
   },
   {
    "duration": 10,
    "start_time": "2022-07-01T19:40:58.878Z"
   },
   {
    "duration": 5,
    "start_time": "2022-07-01T19:40:58.889Z"
   },
   {
    "duration": 9,
    "start_time": "2022-07-01T19:40:58.896Z"
   },
   {
    "duration": 11,
    "start_time": "2022-07-01T19:40:58.906Z"
   },
   {
    "duration": 10,
    "start_time": "2022-07-01T19:40:58.919Z"
   },
   {
    "duration": 11,
    "start_time": "2022-07-01T19:40:58.931Z"
   },
   {
    "duration": 9,
    "start_time": "2022-07-01T19:40:58.943Z"
   },
   {
    "duration": 15,
    "start_time": "2022-07-01T19:40:58.953Z"
   },
   {
    "duration": 27,
    "start_time": "2022-07-01T19:40:58.972Z"
   },
   {
    "duration": 4,
    "start_time": "2022-07-01T19:40:59.001Z"
   },
   {
    "duration": 129,
    "start_time": "2022-07-01T19:40:59.007Z"
   },
   {
    "duration": 6,
    "start_time": "2022-07-01T19:40:59.138Z"
   },
   {
    "duration": 14,
    "start_time": "2022-07-01T19:40:59.146Z"
   },
   {
    "duration": 4,
    "start_time": "2022-07-01T19:40:59.162Z"
   },
   {
    "duration": 7,
    "start_time": "2022-07-01T19:40:59.167Z"
   },
   {
    "duration": 16,
    "start_time": "2022-07-01T19:40:59.175Z"
   },
   {
    "duration": 180,
    "start_time": "2022-07-01T19:40:59.192Z"
   },
   {
    "duration": 9,
    "start_time": "2022-07-01T19:40:59.373Z"
   },
   {
    "duration": 186,
    "start_time": "2022-07-01T19:40:59.383Z"
   },
   {
    "duration": 16,
    "start_time": "2022-07-01T19:40:59.571Z"
   },
   {
    "duration": 126,
    "start_time": "2022-07-01T19:40:59.590Z"
   },
   {
    "duration": 166,
    "start_time": "2022-07-01T19:40:59.718Z"
   },
   {
    "duration": 145,
    "start_time": "2022-07-01T19:40:59.886Z"
   },
   {
    "duration": 12,
    "start_time": "2022-07-01T19:41:00.033Z"
   },
   {
    "duration": 16,
    "start_time": "2022-07-01T19:41:00.047Z"
   },
   {
    "duration": 129,
    "start_time": "2022-07-01T19:41:00.065Z"
   },
   {
    "duration": 11,
    "start_time": "2022-07-01T19:41:00.195Z"
   },
   {
    "duration": 123,
    "start_time": "2022-07-01T19:41:00.208Z"
   },
   {
    "duration": 15,
    "start_time": "2022-07-01T19:41:00.333Z"
   },
   {
    "duration": 119,
    "start_time": "2022-07-01T19:41:00.350Z"
   },
   {
    "duration": 11,
    "start_time": "2022-07-01T19:41:00.470Z"
   },
   {
    "duration": 110,
    "start_time": "2022-07-01T19:41:00.483Z"
   },
   {
    "duration": 17,
    "start_time": "2022-07-01T19:41:00.595Z"
   },
   {
    "duration": 123,
    "start_time": "2022-07-01T19:41:00.629Z"
   },
   {
    "duration": 5,
    "start_time": "2022-07-01T19:41:00.754Z"
   },
   {
    "duration": 17,
    "start_time": "2022-07-01T19:41:00.761Z"
   },
   {
    "duration": 17,
    "start_time": "2022-07-01T19:41:00.780Z"
   },
   {
    "duration": 9,
    "start_time": "2022-07-01T19:41:00.799Z"
   },
   {
    "duration": 23,
    "start_time": "2022-07-01T19:41:00.810Z"
   },
   {
    "duration": 8,
    "start_time": "2022-07-01T19:41:00.835Z"
   },
   {
    "duration": 16,
    "start_time": "2022-07-01T19:41:00.845Z"
   },
   {
    "duration": 7,
    "start_time": "2022-07-01T19:41:00.863Z"
   },
   {
    "duration": 11,
    "start_time": "2022-07-01T19:41:00.871Z"
   },
   {
    "duration": 24,
    "start_time": "2022-07-01T19:41:00.883Z"
   },
   {
    "duration": 7,
    "start_time": "2022-07-01T19:41:00.909Z"
   },
   {
    "duration": 7,
    "start_time": "2022-07-01T19:41:00.917Z"
   },
   {
    "duration": 10,
    "start_time": "2022-07-01T19:41:00.926Z"
   },
   {
    "duration": 8,
    "start_time": "2022-07-01T19:41:00.937Z"
   },
   {
    "duration": 8,
    "start_time": "2022-07-01T19:41:00.946Z"
   },
   {
    "duration": 8,
    "start_time": "2022-07-01T19:41:00.956Z"
   },
   {
    "duration": 8032,
    "start_time": "2022-07-01T19:41:00.965Z"
   },
   {
    "duration": 11,
    "start_time": "2022-07-01T19:41:08.998Z"
   },
   {
    "duration": 16,
    "start_time": "2022-07-01T19:41:09.010Z"
   },
   {
    "duration": 160,
    "start_time": "2022-07-01T19:41:09.027Z"
   },
   {
    "duration": 518,
    "start_time": "2022-07-01T19:41:09.189Z"
   },
   {
    "duration": 4,
    "start_time": "2022-07-01T19:41:09.709Z"
   },
   {
    "duration": 10,
    "start_time": "2022-07-01T19:41:09.730Z"
   },
   {
    "duration": 28,
    "start_time": "2022-07-01T19:41:09.742Z"
   },
   {
    "duration": 17,
    "start_time": "2022-07-01T19:41:09.772Z"
   },
   {
    "duration": 12,
    "start_time": "2022-07-01T19:41:09.791Z"
   },
   {
    "duration": 161,
    "start_time": "2022-07-01T19:41:09.805Z"
   },
   {
    "duration": 3,
    "start_time": "2022-07-01T19:48:09.899Z"
   },
   {
    "duration": 1384,
    "start_time": "2022-07-01T19:48:09.904Z"
   },
   {
    "duration": 146,
    "start_time": "2022-07-01T19:48:11.290Z"
   },
   {
    "duration": 18,
    "start_time": "2022-07-01T19:48:11.438Z"
   },
   {
    "duration": 9,
    "start_time": "2022-07-01T19:48:11.459Z"
   },
   {
    "duration": 11,
    "start_time": "2022-07-01T19:48:11.469Z"
   },
   {
    "duration": 11,
    "start_time": "2022-07-01T19:48:11.482Z"
   },
   {
    "duration": 54,
    "start_time": "2022-07-01T19:48:11.495Z"
   },
   {
    "duration": 18,
    "start_time": "2022-07-01T19:48:11.551Z"
   },
   {
    "duration": 20,
    "start_time": "2022-07-01T19:48:11.570Z"
   },
   {
    "duration": 5,
    "start_time": "2022-07-01T19:48:11.591Z"
   },
   {
    "duration": 44,
    "start_time": "2022-07-01T19:48:11.597Z"
   },
   {
    "duration": 15,
    "start_time": "2022-07-01T19:48:11.644Z"
   },
   {
    "duration": 11,
    "start_time": "2022-07-01T19:48:11.663Z"
   },
   {
    "duration": 13,
    "start_time": "2022-07-01T19:48:11.676Z"
   },
   {
    "duration": 39,
    "start_time": "2022-07-01T19:48:11.691Z"
   },
   {
    "duration": 9,
    "start_time": "2022-07-01T19:48:11.732Z"
   },
   {
    "duration": 27,
    "start_time": "2022-07-01T19:48:11.743Z"
   },
   {
    "duration": 5,
    "start_time": "2022-07-01T19:48:11.771Z"
   },
   {
    "duration": 9,
    "start_time": "2022-07-01T19:48:11.777Z"
   },
   {
    "duration": 8,
    "start_time": "2022-07-01T19:48:11.787Z"
   },
   {
    "duration": 5,
    "start_time": "2022-07-01T19:48:11.797Z"
   },
   {
    "duration": 25,
    "start_time": "2022-07-01T19:48:11.804Z"
   },
   {
    "duration": 2,
    "start_time": "2022-07-01T19:48:11.831Z"
   },
   {
    "duration": 6,
    "start_time": "2022-07-01T19:48:11.835Z"
   },
   {
    "duration": 9,
    "start_time": "2022-07-01T19:48:11.843Z"
   },
   {
    "duration": 7,
    "start_time": "2022-07-01T19:48:11.854Z"
   },
   {
    "duration": 8,
    "start_time": "2022-07-01T19:48:11.862Z"
   },
   {
    "duration": 29,
    "start_time": "2022-07-01T19:48:11.871Z"
   },
   {
    "duration": 32,
    "start_time": "2022-07-01T19:48:11.901Z"
   },
   {
    "duration": 124,
    "start_time": "2022-07-01T19:48:11.934Z"
   },
   {
    "duration": 3,
    "start_time": "2022-07-01T19:48:12.060Z"
   },
   {
    "duration": 9,
    "start_time": "2022-07-01T19:48:12.065Z"
   },
   {
    "duration": 5,
    "start_time": "2022-07-01T19:48:12.076Z"
   },
   {
    "duration": 5,
    "start_time": "2022-07-01T19:48:12.083Z"
   },
   {
    "duration": 17,
    "start_time": "2022-07-01T19:48:12.090Z"
   },
   {
    "duration": 180,
    "start_time": "2022-07-01T19:48:12.109Z"
   },
   {
    "duration": 9,
    "start_time": "2022-07-01T19:48:12.291Z"
   },
   {
    "duration": 200,
    "start_time": "2022-07-01T19:48:12.301Z"
   },
   {
    "duration": 14,
    "start_time": "2022-07-01T19:48:12.503Z"
   },
   {
    "duration": 99,
    "start_time": "2022-07-01T19:48:12.538Z"
   },
   {
    "duration": 156,
    "start_time": "2022-07-01T19:48:12.639Z"
   },
   {
    "duration": 150,
    "start_time": "2022-07-01T19:48:12.796Z"
   },
   {
    "duration": 11,
    "start_time": "2022-07-01T19:48:12.948Z"
   },
   {
    "duration": 18,
    "start_time": "2022-07-01T19:48:12.960Z"
   },
   {
    "duration": 120,
    "start_time": "2022-07-01T19:48:12.980Z"
   },
   {
    "duration": 11,
    "start_time": "2022-07-01T19:48:13.101Z"
   },
   {
    "duration": 139,
    "start_time": "2022-07-01T19:48:13.114Z"
   },
   {
    "duration": 18,
    "start_time": "2022-07-01T19:48:13.255Z"
   },
   {
    "duration": 129,
    "start_time": "2022-07-01T19:48:13.275Z"
   },
   {
    "duration": 25,
    "start_time": "2022-07-01T19:48:13.405Z"
   },
   {
    "duration": 148,
    "start_time": "2022-07-01T19:48:13.431Z"
   },
   {
    "duration": 19,
    "start_time": "2022-07-01T19:48:13.581Z"
   },
   {
    "duration": 158,
    "start_time": "2022-07-01T19:48:13.602Z"
   },
   {
    "duration": 4,
    "start_time": "2022-07-01T19:48:13.761Z"
   },
   {
    "duration": 15,
    "start_time": "2022-07-01T19:48:13.767Z"
   },
   {
    "duration": 10,
    "start_time": "2022-07-01T19:48:13.784Z"
   },
   {
    "duration": 8,
    "start_time": "2022-07-01T19:48:13.795Z"
   },
   {
    "duration": 7,
    "start_time": "2022-07-01T19:48:13.804Z"
   },
   {
    "duration": 3,
    "start_time": "2022-07-01T19:48:13.829Z"
   },
   {
    "duration": 32,
    "start_time": "2022-07-01T19:48:13.834Z"
   },
   {
    "duration": 7,
    "start_time": "2022-07-01T19:48:13.868Z"
   },
   {
    "duration": 3,
    "start_time": "2022-07-01T19:48:13.877Z"
   },
   {
    "duration": 9,
    "start_time": "2022-07-01T19:48:13.881Z"
   },
   {
    "duration": 5,
    "start_time": "2022-07-01T19:48:13.892Z"
   },
   {
    "duration": 31,
    "start_time": "2022-07-01T19:48:13.899Z"
   },
   {
    "duration": 4,
    "start_time": "2022-07-01T19:48:13.932Z"
   },
   {
    "duration": 6,
    "start_time": "2022-07-01T19:48:13.938Z"
   },
   {
    "duration": 9,
    "start_time": "2022-07-01T19:48:13.946Z"
   },
   {
    "duration": 7,
    "start_time": "2022-07-01T19:48:13.956Z"
   },
   {
    "duration": 6,
    "start_time": "2022-07-01T19:48:13.965Z"
   },
   {
    "duration": 5,
    "start_time": "2022-07-01T19:48:13.972Z"
   },
   {
    "duration": 8,
    "start_time": "2022-07-01T19:48:13.979Z"
   },
   {
    "duration": 3768,
    "start_time": "2022-07-01T19:48:13.989Z"
   },
   {
    "duration": 0,
    "start_time": "2022-07-01T19:48:17.759Z"
   },
   {
    "duration": 0,
    "start_time": "2022-07-01T19:48:17.761Z"
   },
   {
    "duration": 0,
    "start_time": "2022-07-01T19:48:17.761Z"
   },
   {
    "duration": 0,
    "start_time": "2022-07-01T19:48:17.763Z"
   },
   {
    "duration": 0,
    "start_time": "2022-07-01T19:48:17.764Z"
   },
   {
    "duration": 0,
    "start_time": "2022-07-01T19:48:17.765Z"
   },
   {
    "duration": 0,
    "start_time": "2022-07-01T19:48:17.766Z"
   },
   {
    "duration": 1,
    "start_time": "2022-07-01T19:48:17.767Z"
   },
   {
    "duration": 0,
    "start_time": "2022-07-01T19:48:17.769Z"
   },
   {
    "duration": 0,
    "start_time": "2022-07-01T19:48:17.770Z"
   },
   {
    "duration": 4,
    "start_time": "2022-07-01T19:49:03.320Z"
   },
   {
    "duration": 1471,
    "start_time": "2022-07-01T19:49:03.326Z"
   },
   {
    "duration": 148,
    "start_time": "2022-07-01T19:49:04.799Z"
   },
   {
    "duration": 21,
    "start_time": "2022-07-01T19:49:04.950Z"
   },
   {
    "duration": 11,
    "start_time": "2022-07-01T19:49:04.973Z"
   },
   {
    "duration": 12,
    "start_time": "2022-07-01T19:49:04.986Z"
   },
   {
    "duration": 11,
    "start_time": "2022-07-01T19:49:05.000Z"
   },
   {
    "duration": 38,
    "start_time": "2022-07-01T19:49:05.013Z"
   },
   {
    "duration": 19,
    "start_time": "2022-07-01T19:49:05.053Z"
   },
   {
    "duration": 30,
    "start_time": "2022-07-01T19:49:05.073Z"
   },
   {
    "duration": 7,
    "start_time": "2022-07-01T19:49:05.104Z"
   },
   {
    "duration": 31,
    "start_time": "2022-07-01T19:49:05.112Z"
   },
   {
    "duration": 15,
    "start_time": "2022-07-01T19:49:05.144Z"
   },
   {
    "duration": 15,
    "start_time": "2022-07-01T19:49:05.162Z"
   },
   {
    "duration": 17,
    "start_time": "2022-07-01T19:49:05.179Z"
   },
   {
    "duration": 41,
    "start_time": "2022-07-01T19:49:05.198Z"
   },
   {
    "duration": 17,
    "start_time": "2022-07-01T19:49:05.241Z"
   },
   {
    "duration": 29,
    "start_time": "2022-07-01T19:49:05.260Z"
   },
   {
    "duration": 5,
    "start_time": "2022-07-01T19:49:05.292Z"
   },
   {
    "duration": 12,
    "start_time": "2022-07-01T19:49:05.299Z"
   },
   {
    "duration": 2,
    "start_time": "2022-07-01T19:49:05.329Z"
   },
   {
    "duration": 8,
    "start_time": "2022-07-01T19:49:05.333Z"
   },
   {
    "duration": 8,
    "start_time": "2022-07-01T19:49:05.343Z"
   },
   {
    "duration": 7,
    "start_time": "2022-07-01T19:49:05.354Z"
   },
   {
    "duration": 6,
    "start_time": "2022-07-01T19:49:05.363Z"
   },
   {
    "duration": 14,
    "start_time": "2022-07-01T19:49:05.371Z"
   },
   {
    "duration": 6,
    "start_time": "2022-07-01T19:49:05.387Z"
   },
   {
    "duration": 14,
    "start_time": "2022-07-01T19:49:05.395Z"
   },
   {
    "duration": 37,
    "start_time": "2022-07-01T19:49:05.430Z"
   },
   {
    "duration": 6,
    "start_time": "2022-07-01T19:49:05.468Z"
   },
   {
    "duration": 140,
    "start_time": "2022-07-01T19:49:05.476Z"
   },
   {
    "duration": 11,
    "start_time": "2022-07-01T19:49:05.618Z"
   },
   {
    "duration": 13,
    "start_time": "2022-07-01T19:49:05.631Z"
   },
   {
    "duration": 7,
    "start_time": "2022-07-01T19:49:05.645Z"
   },
   {
    "duration": 7,
    "start_time": "2022-07-01T19:49:05.653Z"
   },
   {
    "duration": 15,
    "start_time": "2022-07-01T19:49:05.661Z"
   },
   {
    "duration": 189,
    "start_time": "2022-07-01T19:49:05.678Z"
   },
   {
    "duration": 10,
    "start_time": "2022-07-01T19:49:05.869Z"
   },
   {
    "duration": 220,
    "start_time": "2022-07-01T19:49:05.881Z"
   },
   {
    "duration": 26,
    "start_time": "2022-07-01T19:49:06.103Z"
   },
   {
    "duration": 137,
    "start_time": "2022-07-01T19:49:06.131Z"
   },
   {
    "duration": 176,
    "start_time": "2022-07-01T19:49:06.270Z"
   },
   {
    "duration": 168,
    "start_time": "2022-07-01T19:49:06.448Z"
   },
   {
    "duration": 21,
    "start_time": "2022-07-01T19:49:06.618Z"
   },
   {
    "duration": 28,
    "start_time": "2022-07-01T19:49:06.641Z"
   },
   {
    "duration": 124,
    "start_time": "2022-07-01T19:49:06.671Z"
   },
   {
    "duration": 13,
    "start_time": "2022-07-01T19:49:06.796Z"
   },
   {
    "duration": 137,
    "start_time": "2022-07-01T19:49:06.811Z"
   },
   {
    "duration": 15,
    "start_time": "2022-07-01T19:49:06.950Z"
   },
   {
    "duration": 124,
    "start_time": "2022-07-01T19:49:06.967Z"
   },
   {
    "duration": 11,
    "start_time": "2022-07-01T19:49:07.093Z"
   },
   {
    "duration": 138,
    "start_time": "2022-07-01T19:49:07.106Z"
   },
   {
    "duration": 17,
    "start_time": "2022-07-01T19:49:07.247Z"
   },
   {
    "duration": 156,
    "start_time": "2022-07-01T19:49:07.265Z"
   },
   {
    "duration": 9,
    "start_time": "2022-07-01T19:49:07.423Z"
   },
   {
    "duration": 17,
    "start_time": "2022-07-01T19:49:07.434Z"
   },
   {
    "duration": 10,
    "start_time": "2022-07-01T19:49:07.453Z"
   },
   {
    "duration": 7,
    "start_time": "2022-07-01T19:49:07.464Z"
   },
   {
    "duration": 5,
    "start_time": "2022-07-01T19:49:07.473Z"
   },
   {
    "duration": 7,
    "start_time": "2022-07-01T19:49:07.480Z"
   },
   {
    "duration": 52,
    "start_time": "2022-07-01T19:49:07.488Z"
   },
   {
    "duration": 7,
    "start_time": "2022-07-01T19:49:07.542Z"
   },
   {
    "duration": 16,
    "start_time": "2022-07-01T19:49:07.551Z"
   },
   {
    "duration": 8,
    "start_time": "2022-07-01T19:49:07.571Z"
   },
   {
    "duration": 14,
    "start_time": "2022-07-01T19:49:07.581Z"
   },
   {
    "duration": 15,
    "start_time": "2022-07-01T19:49:07.597Z"
   },
   {
    "duration": 7,
    "start_time": "2022-07-01T19:49:07.616Z"
   },
   {
    "duration": 14,
    "start_time": "2022-07-01T19:49:07.624Z"
   },
   {
    "duration": 3,
    "start_time": "2022-07-01T19:49:07.643Z"
   },
   {
    "duration": 8,
    "start_time": "2022-07-01T19:49:07.648Z"
   },
   {
    "duration": 14,
    "start_time": "2022-07-01T19:49:07.658Z"
   },
   {
    "duration": 11,
    "start_time": "2022-07-01T19:49:07.674Z"
   },
   {
    "duration": 10,
    "start_time": "2022-07-01T19:49:07.687Z"
   },
   {
    "duration": 164,
    "start_time": "2022-07-01T19:49:07.699Z"
   },
   {
    "duration": 0,
    "start_time": "2022-07-01T19:49:07.864Z"
   },
   {
    "duration": 0,
    "start_time": "2022-07-01T19:49:07.866Z"
   },
   {
    "duration": 0,
    "start_time": "2022-07-01T19:49:07.867Z"
   },
   {
    "duration": 0,
    "start_time": "2022-07-01T19:49:07.868Z"
   },
   {
    "duration": 0,
    "start_time": "2022-07-01T19:49:07.869Z"
   },
   {
    "duration": 0,
    "start_time": "2022-07-01T19:49:07.870Z"
   },
   {
    "duration": 0,
    "start_time": "2022-07-01T19:49:07.871Z"
   },
   {
    "duration": 0,
    "start_time": "2022-07-01T19:49:07.872Z"
   },
   {
    "duration": 0,
    "start_time": "2022-07-01T19:49:07.873Z"
   },
   {
    "duration": 0,
    "start_time": "2022-07-01T19:49:07.874Z"
   },
   {
    "duration": 3,
    "start_time": "2022-07-01T19:51:43.884Z"
   },
   {
    "duration": 1481,
    "start_time": "2022-07-01T19:51:43.889Z"
   },
   {
    "duration": 148,
    "start_time": "2022-07-01T19:51:45.372Z"
   },
   {
    "duration": 17,
    "start_time": "2022-07-01T19:51:45.521Z"
   },
   {
    "duration": 9,
    "start_time": "2022-07-01T19:51:45.540Z"
   },
   {
    "duration": 13,
    "start_time": "2022-07-01T19:51:45.551Z"
   },
   {
    "duration": 11,
    "start_time": "2022-07-01T19:51:45.566Z"
   },
   {
    "duration": 57,
    "start_time": "2022-07-01T19:51:45.579Z"
   },
   {
    "duration": 18,
    "start_time": "2022-07-01T19:51:45.638Z"
   },
   {
    "duration": 26,
    "start_time": "2022-07-01T19:51:45.658Z"
   },
   {
    "duration": 7,
    "start_time": "2022-07-01T19:51:45.686Z"
   },
   {
    "duration": 51,
    "start_time": "2022-07-01T19:51:45.695Z"
   },
   {
    "duration": 17,
    "start_time": "2022-07-01T19:51:45.749Z"
   },
   {
    "duration": 15,
    "start_time": "2022-07-01T19:51:45.770Z"
   },
   {
    "duration": 13,
    "start_time": "2022-07-01T19:51:45.787Z"
   },
   {
    "duration": 29,
    "start_time": "2022-07-01T19:51:45.801Z"
   },
   {
    "duration": 11,
    "start_time": "2022-07-01T19:51:45.832Z"
   },
   {
    "duration": 28,
    "start_time": "2022-07-01T19:51:45.845Z"
   },
   {
    "duration": 5,
    "start_time": "2022-07-01T19:51:45.876Z"
   },
   {
    "duration": 46,
    "start_time": "2022-07-01T19:51:45.883Z"
   },
   {
    "duration": 2,
    "start_time": "2022-07-01T19:51:45.932Z"
   },
   {
    "duration": 5,
    "start_time": "2022-07-01T19:51:45.936Z"
   },
   {
    "duration": 3,
    "start_time": "2022-07-01T19:51:45.944Z"
   },
   {
    "duration": 6,
    "start_time": "2022-07-01T19:51:45.949Z"
   },
   {
    "duration": 9,
    "start_time": "2022-07-01T19:51:45.957Z"
   },
   {
    "duration": 18,
    "start_time": "2022-07-01T19:51:45.968Z"
   },
   {
    "duration": 8,
    "start_time": "2022-07-01T19:51:45.988Z"
   },
   {
    "duration": 37,
    "start_time": "2022-07-01T19:51:45.997Z"
   },
   {
    "duration": 47,
    "start_time": "2022-07-01T19:51:46.036Z"
   },
   {
    "duration": 12,
    "start_time": "2022-07-01T19:51:46.095Z"
   },
   {
    "duration": 174,
    "start_time": "2022-07-01T19:51:46.108Z"
   },
   {
    "duration": 7,
    "start_time": "2022-07-01T19:51:46.284Z"
   },
   {
    "duration": 20,
    "start_time": "2022-07-01T19:51:46.293Z"
   },
   {
    "duration": 29,
    "start_time": "2022-07-01T19:51:46.315Z"
   },
   {
    "duration": 5,
    "start_time": "2022-07-01T19:51:46.347Z"
   },
   {
    "duration": 30,
    "start_time": "2022-07-01T19:51:46.354Z"
   },
   {
    "duration": 171,
    "start_time": "2022-07-01T19:51:46.387Z"
   },
   {
    "duration": 10,
    "start_time": "2022-07-01T19:51:46.560Z"
   },
   {
    "duration": 198,
    "start_time": "2022-07-01T19:51:46.573Z"
   },
   {
    "duration": 13,
    "start_time": "2022-07-01T19:51:46.772Z"
   },
   {
    "duration": 137,
    "start_time": "2022-07-01T19:51:46.792Z"
   },
   {
    "duration": 159,
    "start_time": "2022-07-01T19:51:46.931Z"
   },
   {
    "duration": 182,
    "start_time": "2022-07-01T19:51:47.092Z"
   },
   {
    "duration": 16,
    "start_time": "2022-07-01T19:51:47.276Z"
   },
   {
    "duration": 37,
    "start_time": "2022-07-01T19:51:47.293Z"
   },
   {
    "duration": 130,
    "start_time": "2022-07-01T19:51:47.332Z"
   },
   {
    "duration": 12,
    "start_time": "2022-07-01T19:51:47.464Z"
   },
   {
    "duration": 132,
    "start_time": "2022-07-01T19:51:47.478Z"
   },
   {
    "duration": 28,
    "start_time": "2022-07-01T19:51:47.611Z"
   },
   {
    "duration": 112,
    "start_time": "2022-07-01T19:51:47.641Z"
   },
   {
    "duration": 13,
    "start_time": "2022-07-01T19:51:47.754Z"
   },
   {
    "duration": 128,
    "start_time": "2022-07-01T19:51:47.769Z"
   },
   {
    "duration": 31,
    "start_time": "2022-07-01T19:51:47.898Z"
   },
   {
    "duration": 129,
    "start_time": "2022-07-01T19:51:47.931Z"
   },
   {
    "duration": 4,
    "start_time": "2022-07-01T19:51:48.062Z"
   },
   {
    "duration": 14,
    "start_time": "2022-07-01T19:51:48.068Z"
   },
   {
    "duration": 7,
    "start_time": "2022-07-01T19:51:48.084Z"
   },
   {
    "duration": 6,
    "start_time": "2022-07-01T19:51:48.092Z"
   },
   {
    "duration": 30,
    "start_time": "2022-07-01T19:51:48.099Z"
   },
   {
    "duration": 5,
    "start_time": "2022-07-01T19:51:48.131Z"
   },
   {
    "duration": 36,
    "start_time": "2022-07-01T19:51:48.138Z"
   },
   {
    "duration": 7,
    "start_time": "2022-07-01T19:51:48.176Z"
   },
   {
    "duration": 7,
    "start_time": "2022-07-01T19:51:48.185Z"
   },
   {
    "duration": 34,
    "start_time": "2022-07-01T19:51:48.195Z"
   },
   {
    "duration": 2,
    "start_time": "2022-07-01T19:51:48.231Z"
   },
   {
    "duration": 9,
    "start_time": "2022-07-01T19:51:48.235Z"
   },
   {
    "duration": 5,
    "start_time": "2022-07-01T19:51:48.245Z"
   },
   {
    "duration": 5,
    "start_time": "2022-07-01T19:51:48.251Z"
   },
   {
    "duration": 3,
    "start_time": "2022-07-01T19:51:48.258Z"
   },
   {
    "duration": 6,
    "start_time": "2022-07-01T19:51:48.263Z"
   },
   {
    "duration": 7,
    "start_time": "2022-07-01T19:51:48.270Z"
   },
   {
    "duration": 5,
    "start_time": "2022-07-01T19:51:48.278Z"
   },
   {
    "duration": 4,
    "start_time": "2022-07-01T19:51:48.284Z"
   },
   {
    "duration": 2848,
    "start_time": "2022-07-01T19:51:48.290Z"
   },
   {
    "duration": 0,
    "start_time": "2022-07-01T19:51:51.140Z"
   },
   {
    "duration": 1,
    "start_time": "2022-07-01T19:51:51.141Z"
   },
   {
    "duration": 0,
    "start_time": "2022-07-01T19:51:51.143Z"
   },
   {
    "duration": 0,
    "start_time": "2022-07-01T19:51:51.145Z"
   },
   {
    "duration": 0,
    "start_time": "2022-07-01T19:51:51.146Z"
   },
   {
    "duration": 0,
    "start_time": "2022-07-01T19:51:51.148Z"
   },
   {
    "duration": 0,
    "start_time": "2022-07-01T19:51:51.149Z"
   },
   {
    "duration": 0,
    "start_time": "2022-07-01T19:51:51.150Z"
   },
   {
    "duration": 0,
    "start_time": "2022-07-01T19:51:51.151Z"
   },
   {
    "duration": 0,
    "start_time": "2022-07-01T19:51:51.153Z"
   },
   {
    "duration": 17,
    "start_time": "2022-07-01T19:51:57.889Z"
   },
   {
    "duration": 6,
    "start_time": "2022-07-01T19:53:31.023Z"
   },
   {
    "duration": 5,
    "start_time": "2022-07-01T19:53:38.315Z"
   },
   {
    "duration": 1375,
    "start_time": "2022-07-01T19:53:38.322Z"
   },
   {
    "duration": 139,
    "start_time": "2022-07-01T19:53:39.699Z"
   },
   {
    "duration": 14,
    "start_time": "2022-07-01T19:53:39.839Z"
   },
   {
    "duration": 8,
    "start_time": "2022-07-01T19:53:39.855Z"
   },
   {
    "duration": 15,
    "start_time": "2022-07-01T19:53:39.864Z"
   },
   {
    "duration": 8,
    "start_time": "2022-07-01T19:53:39.880Z"
   },
   {
    "duration": 51,
    "start_time": "2022-07-01T19:53:39.889Z"
   },
   {
    "duration": 18,
    "start_time": "2022-07-01T19:53:39.943Z"
   },
   {
    "duration": 17,
    "start_time": "2022-07-01T19:53:39.962Z"
   },
   {
    "duration": 5,
    "start_time": "2022-07-01T19:53:39.980Z"
   },
   {
    "duration": 45,
    "start_time": "2022-07-01T19:53:39.987Z"
   },
   {
    "duration": 14,
    "start_time": "2022-07-01T19:53:40.034Z"
   },
   {
    "duration": 18,
    "start_time": "2022-07-01T19:53:40.052Z"
   },
   {
    "duration": 18,
    "start_time": "2022-07-01T19:53:40.072Z"
   },
   {
    "duration": 7,
    "start_time": "2022-07-01T19:53:40.092Z"
   },
   {
    "duration": 34,
    "start_time": "2022-07-01T19:53:40.101Z"
   },
   {
    "duration": 37,
    "start_time": "2022-07-01T19:53:40.137Z"
   },
   {
    "duration": 5,
    "start_time": "2022-07-01T19:53:40.176Z"
   },
   {
    "duration": 8,
    "start_time": "2022-07-01T19:53:40.183Z"
   },
   {
    "duration": 5,
    "start_time": "2022-07-01T19:53:40.192Z"
   },
   {
    "duration": 6,
    "start_time": "2022-07-01T19:53:40.199Z"
   },
   {
    "duration": 25,
    "start_time": "2022-07-01T19:53:40.207Z"
   },
   {
    "duration": 12,
    "start_time": "2022-07-01T19:53:40.234Z"
   },
   {
    "duration": 5,
    "start_time": "2022-07-01T19:53:40.248Z"
   },
   {
    "duration": 10,
    "start_time": "2022-07-01T19:53:40.255Z"
   },
   {
    "duration": 7,
    "start_time": "2022-07-01T19:53:40.267Z"
   },
   {
    "duration": 8,
    "start_time": "2022-07-01T19:53:40.276Z"
   },
   {
    "duration": 45,
    "start_time": "2022-07-01T19:53:40.285Z"
   },
   {
    "duration": 5,
    "start_time": "2022-07-01T19:53:40.331Z"
   },
   {
    "duration": 125,
    "start_time": "2022-07-01T19:53:40.337Z"
   },
   {
    "duration": 6,
    "start_time": "2022-07-01T19:53:40.464Z"
   },
   {
    "duration": 9,
    "start_time": "2022-07-01T19:53:40.472Z"
   },
   {
    "duration": 7,
    "start_time": "2022-07-01T19:53:40.483Z"
   },
   {
    "duration": 8,
    "start_time": "2022-07-01T19:53:40.492Z"
   },
   {
    "duration": 32,
    "start_time": "2022-07-01T19:53:40.502Z"
   },
   {
    "duration": 170,
    "start_time": "2022-07-01T19:53:40.536Z"
   },
   {
    "duration": 9,
    "start_time": "2022-07-01T19:53:40.708Z"
   },
   {
    "duration": 163,
    "start_time": "2022-07-01T19:53:40.730Z"
   },
   {
    "duration": 12,
    "start_time": "2022-07-01T19:53:40.895Z"
   },
   {
    "duration": 110,
    "start_time": "2022-07-01T19:53:40.912Z"
   },
   {
    "duration": 174,
    "start_time": "2022-07-01T19:53:41.028Z"
   },
   {
    "duration": 147,
    "start_time": "2022-07-01T19:53:41.204Z"
   },
   {
    "duration": 14,
    "start_time": "2022-07-01T19:53:41.353Z"
   },
   {
    "duration": 22,
    "start_time": "2022-07-01T19:53:41.369Z"
   },
   {
    "duration": 182,
    "start_time": "2022-07-01T19:53:41.393Z"
   },
   {
    "duration": 15,
    "start_time": "2022-07-01T19:53:41.577Z"
   },
   {
    "duration": 109,
    "start_time": "2022-07-01T19:53:41.594Z"
   },
   {
    "duration": 25,
    "start_time": "2022-07-01T19:53:41.705Z"
   },
   {
    "duration": 116,
    "start_time": "2022-07-01T19:53:41.731Z"
   },
   {
    "duration": 16,
    "start_time": "2022-07-01T19:53:41.850Z"
   },
   {
    "duration": 140,
    "start_time": "2022-07-01T19:53:41.868Z"
   },
   {
    "duration": 25,
    "start_time": "2022-07-01T19:53:42.010Z"
   },
   {
    "duration": 127,
    "start_time": "2022-07-01T19:53:42.036Z"
   },
   {
    "duration": 6,
    "start_time": "2022-07-01T19:53:42.165Z"
   },
   {
    "duration": 23,
    "start_time": "2022-07-01T19:53:42.173Z"
   },
   {
    "duration": 10,
    "start_time": "2022-07-01T19:53:42.199Z"
   },
   {
    "duration": 20,
    "start_time": "2022-07-01T19:53:42.210Z"
   },
   {
    "duration": 4,
    "start_time": "2022-07-01T19:53:42.232Z"
   },
   {
    "duration": 6,
    "start_time": "2022-07-01T19:53:42.238Z"
   },
   {
    "duration": 23,
    "start_time": "2022-07-01T19:53:42.246Z"
   },
   {
    "duration": 5,
    "start_time": "2022-07-01T19:53:42.271Z"
   },
   {
    "duration": 9,
    "start_time": "2022-07-01T19:53:42.278Z"
   },
   {
    "duration": 16,
    "start_time": "2022-07-01T19:53:42.288Z"
   },
   {
    "duration": 29,
    "start_time": "2022-07-01T19:53:42.306Z"
   },
   {
    "duration": 3,
    "start_time": "2022-07-01T19:53:42.337Z"
   },
   {
    "duration": 13,
    "start_time": "2022-07-01T19:53:42.341Z"
   },
   {
    "duration": 4,
    "start_time": "2022-07-01T19:53:42.357Z"
   },
   {
    "duration": 9,
    "start_time": "2022-07-01T19:53:42.363Z"
   },
   {
    "duration": 5,
    "start_time": "2022-07-01T19:53:42.374Z"
   },
   {
    "duration": 4,
    "start_time": "2022-07-01T19:53:42.381Z"
   },
   {
    "duration": 5,
    "start_time": "2022-07-01T19:53:42.387Z"
   },
   {
    "duration": 6,
    "start_time": "2022-07-01T19:53:42.394Z"
   },
   {
    "duration": 4,
    "start_time": "2022-07-01T19:53:42.430Z"
   },
   {
    "duration": 2505,
    "start_time": "2022-07-01T19:53:42.435Z"
   },
   {
    "duration": 0,
    "start_time": "2022-07-01T19:53:44.942Z"
   },
   {
    "duration": 0,
    "start_time": "2022-07-01T19:53:44.943Z"
   },
   {
    "duration": 0,
    "start_time": "2022-07-01T19:53:44.945Z"
   },
   {
    "duration": 0,
    "start_time": "2022-07-01T19:53:44.946Z"
   },
   {
    "duration": 0,
    "start_time": "2022-07-01T19:53:44.947Z"
   },
   {
    "duration": 0,
    "start_time": "2022-07-01T19:53:44.948Z"
   },
   {
    "duration": 0,
    "start_time": "2022-07-01T19:53:44.949Z"
   },
   {
    "duration": 0,
    "start_time": "2022-07-01T19:53:44.951Z"
   },
   {
    "duration": 0,
    "start_time": "2022-07-01T19:53:44.952Z"
   },
   {
    "duration": 0,
    "start_time": "2022-07-01T19:53:44.953Z"
   },
   {
    "duration": 21,
    "start_time": "2022-07-01T19:54:00.508Z"
   },
   {
    "duration": 22,
    "start_time": "2022-07-01T20:00:58.239Z"
   },
   {
    "duration": 4,
    "start_time": "2022-07-01T20:01:05.345Z"
   },
   {
    "duration": 1613,
    "start_time": "2022-07-01T20:01:05.351Z"
   },
   {
    "duration": 167,
    "start_time": "2022-07-01T20:01:06.965Z"
   },
   {
    "duration": 23,
    "start_time": "2022-07-01T20:01:07.135Z"
   },
   {
    "duration": 17,
    "start_time": "2022-07-01T20:01:07.162Z"
   },
   {
    "duration": 20,
    "start_time": "2022-07-01T20:01:07.181Z"
   },
   {
    "duration": 20,
    "start_time": "2022-07-01T20:01:07.203Z"
   },
   {
    "duration": 31,
    "start_time": "2022-07-01T20:01:07.229Z"
   },
   {
    "duration": 20,
    "start_time": "2022-07-01T20:01:07.261Z"
   },
   {
    "duration": 47,
    "start_time": "2022-07-01T20:01:07.283Z"
   },
   {
    "duration": 6,
    "start_time": "2022-07-01T20:01:07.332Z"
   },
   {
    "duration": 21,
    "start_time": "2022-07-01T20:01:07.340Z"
   },
   {
    "duration": 19,
    "start_time": "2022-07-01T20:01:07.363Z"
   },
   {
    "duration": 19,
    "start_time": "2022-07-01T20:01:07.387Z"
   },
   {
    "duration": 34,
    "start_time": "2022-07-01T20:01:07.408Z"
   },
   {
    "duration": 17,
    "start_time": "2022-07-01T20:01:07.444Z"
   },
   {
    "duration": 19,
    "start_time": "2022-07-01T20:01:07.463Z"
   },
   {
    "duration": 59,
    "start_time": "2022-07-01T20:01:07.484Z"
   },
   {
    "duration": 7,
    "start_time": "2022-07-01T20:01:07.546Z"
   },
   {
    "duration": 6,
    "start_time": "2022-07-01T20:01:07.556Z"
   },
   {
    "duration": 12,
    "start_time": "2022-07-01T20:01:07.564Z"
   },
   {
    "duration": 8,
    "start_time": "2022-07-01T20:01:07.578Z"
   },
   {
    "duration": 7,
    "start_time": "2022-07-01T20:01:07.587Z"
   },
   {
    "duration": 8,
    "start_time": "2022-07-01T20:01:07.596Z"
   },
   {
    "duration": 6,
    "start_time": "2022-07-01T20:01:07.606Z"
   },
   {
    "duration": 22,
    "start_time": "2022-07-01T20:01:07.614Z"
   },
   {
    "duration": 8,
    "start_time": "2022-07-01T20:01:07.638Z"
   },
   {
    "duration": 7,
    "start_time": "2022-07-01T20:01:07.648Z"
   },
   {
    "duration": 28,
    "start_time": "2022-07-01T20:01:07.657Z"
   },
   {
    "duration": 5,
    "start_time": "2022-07-01T20:01:07.686Z"
   },
   {
    "duration": 158,
    "start_time": "2022-07-01T20:01:07.693Z"
   },
   {
    "duration": 4,
    "start_time": "2022-07-01T20:01:07.853Z"
   },
   {
    "duration": 9,
    "start_time": "2022-07-01T20:01:07.859Z"
   },
   {
    "duration": 2,
    "start_time": "2022-07-01T20:01:07.871Z"
   },
   {
    "duration": 6,
    "start_time": "2022-07-01T20:01:07.875Z"
   },
   {
    "duration": 12,
    "start_time": "2022-07-01T20:01:07.883Z"
   },
   {
    "duration": 263,
    "start_time": "2022-07-01T20:01:07.897Z"
   },
   {
    "duration": 10,
    "start_time": "2022-07-01T20:01:08.163Z"
   },
   {
    "duration": 189,
    "start_time": "2022-07-01T20:01:08.175Z"
   },
   {
    "duration": 11,
    "start_time": "2022-07-01T20:01:08.366Z"
   },
   {
    "duration": 104,
    "start_time": "2022-07-01T20:01:08.381Z"
   },
   {
    "duration": 154,
    "start_time": "2022-07-01T20:01:08.487Z"
   },
   {
    "duration": 159,
    "start_time": "2022-07-01T20:01:08.643Z"
   },
   {
    "duration": 11,
    "start_time": "2022-07-01T20:01:08.804Z"
   },
   {
    "duration": 26,
    "start_time": "2022-07-01T20:01:08.817Z"
   },
   {
    "duration": 137,
    "start_time": "2022-07-01T20:01:08.844Z"
   },
   {
    "duration": 12,
    "start_time": "2022-07-01T20:01:08.984Z"
   },
   {
    "duration": 116,
    "start_time": "2022-07-01T20:01:08.998Z"
   },
   {
    "duration": 24,
    "start_time": "2022-07-01T20:01:09.116Z"
   },
   {
    "duration": 143,
    "start_time": "2022-07-01T20:01:09.141Z"
   },
   {
    "duration": 16,
    "start_time": "2022-07-01T20:01:09.286Z"
   },
   {
    "duration": 127,
    "start_time": "2022-07-01T20:01:09.304Z"
   },
   {
    "duration": 21,
    "start_time": "2022-07-01T20:01:09.433Z"
   },
   {
    "duration": 126,
    "start_time": "2022-07-01T20:01:09.456Z"
   },
   {
    "duration": 5,
    "start_time": "2022-07-01T20:01:09.584Z"
   },
   {
    "duration": 16,
    "start_time": "2022-07-01T20:01:09.592Z"
   },
   {
    "duration": 22,
    "start_time": "2022-07-01T20:01:09.610Z"
   },
   {
    "duration": 6,
    "start_time": "2022-07-01T20:01:09.634Z"
   },
   {
    "duration": 23,
    "start_time": "2022-07-01T20:01:09.642Z"
   },
   {
    "duration": 5,
    "start_time": "2022-07-01T20:01:09.667Z"
   },
   {
    "duration": 9,
    "start_time": "2022-07-01T20:01:09.673Z"
   },
   {
    "duration": 6,
    "start_time": "2022-07-01T20:01:09.684Z"
   },
   {
    "duration": 3,
    "start_time": "2022-07-01T20:01:09.692Z"
   },
   {
    "duration": 33,
    "start_time": "2022-07-01T20:01:09.697Z"
   },
   {
    "duration": 3,
    "start_time": "2022-07-01T20:01:09.731Z"
   },
   {
    "duration": 9,
    "start_time": "2022-07-01T20:01:09.735Z"
   },
   {
    "duration": 3,
    "start_time": "2022-07-01T20:01:09.746Z"
   },
   {
    "duration": 5,
    "start_time": "2022-07-01T20:01:09.751Z"
   },
   {
    "duration": 5,
    "start_time": "2022-07-01T20:01:09.757Z"
   },
   {
    "duration": 7,
    "start_time": "2022-07-01T20:01:09.764Z"
   },
   {
    "duration": 6,
    "start_time": "2022-07-01T20:01:09.773Z"
   },
   {
    "duration": 7,
    "start_time": "2022-07-01T20:01:09.780Z"
   },
   {
    "duration": 6,
    "start_time": "2022-07-01T20:01:09.789Z"
   },
   {
    "duration": 148,
    "start_time": "2022-07-01T20:01:09.797Z"
   },
   {
    "duration": 0,
    "start_time": "2022-07-01T20:01:09.947Z"
   },
   {
    "duration": 0,
    "start_time": "2022-07-01T20:01:09.948Z"
   },
   {
    "duration": 0,
    "start_time": "2022-07-01T20:01:09.949Z"
   },
   {
    "duration": 0,
    "start_time": "2022-07-01T20:01:09.950Z"
   },
   {
    "duration": 0,
    "start_time": "2022-07-01T20:01:09.951Z"
   },
   {
    "duration": 0,
    "start_time": "2022-07-01T20:01:09.953Z"
   },
   {
    "duration": 0,
    "start_time": "2022-07-01T20:01:09.954Z"
   },
   {
    "duration": 0,
    "start_time": "2022-07-01T20:01:09.956Z"
   },
   {
    "duration": 0,
    "start_time": "2022-07-01T20:01:09.957Z"
   },
   {
    "duration": 0,
    "start_time": "2022-07-01T20:01:09.959Z"
   },
   {
    "duration": 7,
    "start_time": "2022-07-01T20:01:43.374Z"
   },
   {
    "duration": 4,
    "start_time": "2022-07-01T20:02:42.074Z"
   },
   {
    "duration": 3,
    "start_time": "2022-07-01T20:03:24.823Z"
   },
   {
    "duration": 1600,
    "start_time": "2022-07-01T20:03:24.828Z"
   },
   {
    "duration": 160,
    "start_time": "2022-07-01T20:03:26.431Z"
   },
   {
    "duration": 19,
    "start_time": "2022-07-01T20:03:26.594Z"
   },
   {
    "duration": 10,
    "start_time": "2022-07-01T20:03:26.615Z"
   },
   {
    "duration": 14,
    "start_time": "2022-07-01T20:03:26.627Z"
   },
   {
    "duration": 11,
    "start_time": "2022-07-01T20:03:26.643Z"
   },
   {
    "duration": 33,
    "start_time": "2022-07-01T20:03:26.656Z"
   },
   {
    "duration": 16,
    "start_time": "2022-07-01T20:03:26.692Z"
   },
   {
    "duration": 27,
    "start_time": "2022-07-01T20:03:26.710Z"
   },
   {
    "duration": 8,
    "start_time": "2022-07-01T20:03:26.738Z"
   },
   {
    "duration": 18,
    "start_time": "2022-07-01T20:03:26.748Z"
   },
   {
    "duration": 12,
    "start_time": "2022-07-01T20:03:26.768Z"
   },
   {
    "duration": 14,
    "start_time": "2022-07-01T20:03:26.783Z"
   },
   {
    "duration": 40,
    "start_time": "2022-07-01T20:03:26.800Z"
   },
   {
    "duration": 14,
    "start_time": "2022-07-01T20:03:26.841Z"
   },
   {
    "duration": 10,
    "start_time": "2022-07-01T20:03:26.857Z"
   },
   {
    "duration": 31,
    "start_time": "2022-07-01T20:03:26.869Z"
   },
   {
    "duration": 27,
    "start_time": "2022-07-01T20:03:26.902Z"
   },
   {
    "duration": 7,
    "start_time": "2022-07-01T20:03:26.931Z"
   },
   {
    "duration": 5,
    "start_time": "2022-07-01T20:03:26.939Z"
   },
   {
    "duration": 5,
    "start_time": "2022-07-01T20:03:26.945Z"
   },
   {
    "duration": 5,
    "start_time": "2022-07-01T20:03:26.951Z"
   },
   {
    "duration": 3,
    "start_time": "2022-07-01T20:03:26.959Z"
   },
   {
    "duration": 6,
    "start_time": "2022-07-01T20:03:26.963Z"
   },
   {
    "duration": 11,
    "start_time": "2022-07-01T20:03:26.970Z"
   },
   {
    "duration": 8,
    "start_time": "2022-07-01T20:03:26.982Z"
   },
   {
    "duration": 38,
    "start_time": "2022-07-01T20:03:26.992Z"
   },
   {
    "duration": 27,
    "start_time": "2022-07-01T20:03:27.031Z"
   },
   {
    "duration": 4,
    "start_time": "2022-07-01T20:03:27.060Z"
   },
   {
    "duration": 132,
    "start_time": "2022-07-01T20:03:27.066Z"
   },
   {
    "duration": 4,
    "start_time": "2022-07-01T20:03:27.199Z"
   },
   {
    "duration": 26,
    "start_time": "2022-07-01T20:03:27.205Z"
   },
   {
    "duration": 3,
    "start_time": "2022-07-01T20:03:27.232Z"
   },
   {
    "duration": 5,
    "start_time": "2022-07-01T20:03:27.236Z"
   },
   {
    "duration": 14,
    "start_time": "2022-07-01T20:03:27.242Z"
   },
   {
    "duration": 198,
    "start_time": "2022-07-01T20:03:27.258Z"
   },
   {
    "duration": 9,
    "start_time": "2022-07-01T20:03:27.459Z"
   },
   {
    "duration": 188,
    "start_time": "2022-07-01T20:03:27.469Z"
   },
   {
    "duration": 14,
    "start_time": "2022-07-01T20:03:27.659Z"
   },
   {
    "duration": 112,
    "start_time": "2022-07-01T20:03:27.675Z"
   },
   {
    "duration": 159,
    "start_time": "2022-07-01T20:03:27.789Z"
   },
   {
    "duration": 156,
    "start_time": "2022-07-01T20:03:27.950Z"
   },
   {
    "duration": 20,
    "start_time": "2022-07-01T20:03:28.109Z"
   },
   {
    "duration": 16,
    "start_time": "2022-07-01T20:03:28.131Z"
   },
   {
    "duration": 123,
    "start_time": "2022-07-01T20:03:28.148Z"
   },
   {
    "duration": 13,
    "start_time": "2022-07-01T20:03:28.273Z"
   },
   {
    "duration": 120,
    "start_time": "2022-07-01T20:03:28.288Z"
   },
   {
    "duration": 30,
    "start_time": "2022-07-01T20:03:28.410Z"
   },
   {
    "duration": 114,
    "start_time": "2022-07-01T20:03:28.442Z"
   },
   {
    "duration": 11,
    "start_time": "2022-07-01T20:03:28.558Z"
   },
   {
    "duration": 110,
    "start_time": "2022-07-01T20:03:28.570Z"
   },
   {
    "duration": 20,
    "start_time": "2022-07-01T20:03:28.682Z"
   },
   {
    "duration": 138,
    "start_time": "2022-07-01T20:03:28.704Z"
   },
   {
    "duration": 5,
    "start_time": "2022-07-01T20:03:28.844Z"
   },
   {
    "duration": 17,
    "start_time": "2022-07-01T20:03:28.850Z"
   },
   {
    "duration": 8,
    "start_time": "2022-07-01T20:03:28.869Z"
   },
   {
    "duration": 7,
    "start_time": "2022-07-01T20:03:28.878Z"
   },
   {
    "duration": 43,
    "start_time": "2022-07-01T20:03:28.887Z"
   },
   {
    "duration": 5,
    "start_time": "2022-07-01T20:03:28.932Z"
   },
   {
    "duration": 14,
    "start_time": "2022-07-01T20:03:28.939Z"
   },
   {
    "duration": 7,
    "start_time": "2022-07-01T20:03:28.955Z"
   },
   {
    "duration": 3,
    "start_time": "2022-07-01T20:03:28.964Z"
   },
   {
    "duration": 13,
    "start_time": "2022-07-01T20:03:28.969Z"
   },
   {
    "duration": 6,
    "start_time": "2022-07-01T20:03:28.984Z"
   },
   {
    "duration": 8,
    "start_time": "2022-07-01T20:03:28.992Z"
   },
   {
    "duration": 11,
    "start_time": "2022-07-01T20:03:29.002Z"
   },
   {
    "duration": 5,
    "start_time": "2022-07-01T20:03:29.029Z"
   },
   {
    "duration": 5,
    "start_time": "2022-07-01T20:03:29.038Z"
   },
   {
    "duration": 6,
    "start_time": "2022-07-01T20:03:29.044Z"
   },
   {
    "duration": 5,
    "start_time": "2022-07-01T20:03:29.052Z"
   },
   {
    "duration": 6,
    "start_time": "2022-07-01T20:03:29.059Z"
   },
   {
    "duration": 6,
    "start_time": "2022-07-01T20:03:29.067Z"
   },
   {
    "duration": 8,
    "start_time": "2022-07-01T20:03:29.076Z"
   },
   {
    "duration": 8,
    "start_time": "2022-07-01T20:03:29.086Z"
   },
   {
    "duration": 3757,
    "start_time": "2022-07-01T20:03:29.096Z"
   },
   {
    "duration": 9,
    "start_time": "2022-07-01T20:03:32.855Z"
   },
   {
    "duration": 13,
    "start_time": "2022-07-01T20:03:32.866Z"
   },
   {
    "duration": 148,
    "start_time": "2022-07-01T20:03:32.881Z"
   },
   {
    "duration": 430,
    "start_time": "2022-07-01T20:03:33.030Z"
   },
   {
    "duration": 5,
    "start_time": "2022-07-01T20:03:33.463Z"
   },
   {
    "duration": 15,
    "start_time": "2022-07-01T20:03:33.469Z"
   },
   {
    "duration": 17,
    "start_time": "2022-07-01T20:03:33.486Z"
   },
   {
    "duration": 26,
    "start_time": "2022-07-01T20:03:33.505Z"
   },
   {
    "duration": 11,
    "start_time": "2022-07-01T20:03:33.533Z"
   },
   {
    "duration": 174,
    "start_time": "2022-07-01T20:03:33.546Z"
   },
   {
    "duration": 10,
    "start_time": "2022-07-01T20:05:46.444Z"
   },
   {
    "duration": 9,
    "start_time": "2022-07-01T20:05:50.151Z"
   },
   {
    "duration": 146,
    "start_time": "2022-07-01T20:05:59.383Z"
   },
   {
    "duration": 4,
    "start_time": "2022-07-01T20:08:43.021Z"
   },
   {
    "duration": 1575,
    "start_time": "2022-07-01T20:08:43.027Z"
   },
   {
    "duration": 191,
    "start_time": "2022-07-01T20:08:44.604Z"
   },
   {
    "duration": 21,
    "start_time": "2022-07-01T20:08:44.797Z"
   },
   {
    "duration": 16,
    "start_time": "2022-07-01T20:08:44.820Z"
   },
   {
    "duration": 28,
    "start_time": "2022-07-01T20:08:44.837Z"
   },
   {
    "duration": 13,
    "start_time": "2022-07-01T20:08:44.867Z"
   },
   {
    "duration": 36,
    "start_time": "2022-07-01T20:08:44.882Z"
   },
   {
    "duration": 31,
    "start_time": "2022-07-01T20:08:44.920Z"
   },
   {
    "duration": 21,
    "start_time": "2022-07-01T20:08:44.953Z"
   },
   {
    "duration": 5,
    "start_time": "2022-07-01T20:08:44.976Z"
   },
   {
    "duration": 18,
    "start_time": "2022-07-01T20:08:44.983Z"
   },
   {
    "duration": 37,
    "start_time": "2022-07-01T20:08:45.004Z"
   },
   {
    "duration": 18,
    "start_time": "2022-07-01T20:08:45.047Z"
   },
   {
    "duration": 14,
    "start_time": "2022-07-01T20:08:45.067Z"
   },
   {
    "duration": 8,
    "start_time": "2022-07-01T20:08:45.083Z"
   },
   {
    "duration": 37,
    "start_time": "2022-07-01T20:08:45.094Z"
   },
   {
    "duration": 38,
    "start_time": "2022-07-01T20:08:45.133Z"
   },
   {
    "duration": 5,
    "start_time": "2022-07-01T20:08:45.173Z"
   },
   {
    "duration": 10,
    "start_time": "2022-07-01T20:08:45.180Z"
   },
   {
    "duration": 6,
    "start_time": "2022-07-01T20:08:45.192Z"
   },
   {
    "duration": 9,
    "start_time": "2022-07-01T20:08:45.200Z"
   },
   {
    "duration": 39,
    "start_time": "2022-07-01T20:08:45.211Z"
   },
   {
    "duration": 6,
    "start_time": "2022-07-01T20:08:45.252Z"
   },
   {
    "duration": 5,
    "start_time": "2022-07-01T20:08:45.259Z"
   },
   {
    "duration": 15,
    "start_time": "2022-07-01T20:08:45.266Z"
   },
   {
    "duration": 7,
    "start_time": "2022-07-01T20:08:45.283Z"
   },
   {
    "duration": 10,
    "start_time": "2022-07-01T20:08:45.292Z"
   },
   {
    "duration": 43,
    "start_time": "2022-07-01T20:08:45.304Z"
   },
   {
    "duration": 8,
    "start_time": "2022-07-01T20:08:45.349Z"
   },
   {
    "duration": 154,
    "start_time": "2022-07-01T20:08:45.358Z"
   },
   {
    "duration": 5,
    "start_time": "2022-07-01T20:08:45.514Z"
   },
   {
    "duration": 38,
    "start_time": "2022-07-01T20:08:45.534Z"
   },
   {
    "duration": 6,
    "start_time": "2022-07-01T20:08:45.574Z"
   },
   {
    "duration": 6,
    "start_time": "2022-07-01T20:08:45.581Z"
   },
   {
    "duration": 15,
    "start_time": "2022-07-01T20:08:45.588Z"
   },
   {
    "duration": 182,
    "start_time": "2022-07-01T20:08:45.605Z"
   },
   {
    "duration": 8,
    "start_time": "2022-07-01T20:08:45.789Z"
   },
   {
    "duration": 215,
    "start_time": "2022-07-01T20:08:45.800Z"
   },
   {
    "duration": 22,
    "start_time": "2022-07-01T20:08:46.017Z"
   },
   {
    "duration": 152,
    "start_time": "2022-07-01T20:08:46.045Z"
   },
   {
    "duration": 203,
    "start_time": "2022-07-01T20:08:46.199Z"
   },
   {
    "duration": 191,
    "start_time": "2022-07-01T20:08:46.405Z"
   },
   {
    "duration": 15,
    "start_time": "2022-07-01T20:08:46.598Z"
   },
   {
    "duration": 36,
    "start_time": "2022-07-01T20:08:46.615Z"
   },
   {
    "duration": 139,
    "start_time": "2022-07-01T20:08:46.653Z"
   },
   {
    "duration": 16,
    "start_time": "2022-07-01T20:08:46.794Z"
   },
   {
    "duration": 191,
    "start_time": "2022-07-01T20:08:46.812Z"
   },
   {
    "duration": 25,
    "start_time": "2022-07-01T20:08:47.005Z"
   },
   {
    "duration": 148,
    "start_time": "2022-07-01T20:08:47.031Z"
   },
   {
    "duration": 14,
    "start_time": "2022-07-01T20:08:47.182Z"
   },
   {
    "duration": 129,
    "start_time": "2022-07-01T20:08:47.200Z"
   },
   {
    "duration": 22,
    "start_time": "2022-07-01T20:08:47.331Z"
   },
   {
    "duration": 149,
    "start_time": "2022-07-01T20:08:47.354Z"
   },
   {
    "duration": 5,
    "start_time": "2022-07-01T20:08:47.505Z"
   },
   {
    "duration": 29,
    "start_time": "2022-07-01T20:08:47.511Z"
   },
   {
    "duration": 17,
    "start_time": "2022-07-01T20:08:47.542Z"
   },
   {
    "duration": 5,
    "start_time": "2022-07-01T20:08:47.561Z"
   },
   {
    "duration": 26,
    "start_time": "2022-07-01T20:08:47.567Z"
   },
   {
    "duration": 4,
    "start_time": "2022-07-01T20:08:47.595Z"
   },
   {
    "duration": 9,
    "start_time": "2022-07-01T20:08:47.601Z"
   },
   {
    "duration": 46,
    "start_time": "2022-07-01T20:08:47.612Z"
   },
   {
    "duration": 3,
    "start_time": "2022-07-01T20:08:47.660Z"
   },
   {
    "duration": 8,
    "start_time": "2022-07-01T20:08:47.665Z"
   },
   {
    "duration": 2,
    "start_time": "2022-07-01T20:08:47.675Z"
   },
   {
    "duration": 8,
    "start_time": "2022-07-01T20:08:47.679Z"
   },
   {
    "duration": 10,
    "start_time": "2022-07-01T20:08:47.689Z"
   },
   {
    "duration": 6,
    "start_time": "2022-07-01T20:08:47.700Z"
   },
   {
    "duration": 23,
    "start_time": "2022-07-01T20:08:47.708Z"
   },
   {
    "duration": 23,
    "start_time": "2022-07-01T20:08:47.733Z"
   },
   {
    "duration": 5,
    "start_time": "2022-07-01T20:08:47.759Z"
   },
   {
    "duration": 7,
    "start_time": "2022-07-01T20:08:47.766Z"
   },
   {
    "duration": 7,
    "start_time": "2022-07-01T20:08:47.775Z"
   },
   {
    "duration": 4,
    "start_time": "2022-07-01T20:08:47.784Z"
   },
   {
    "duration": 6,
    "start_time": "2022-07-01T20:08:47.790Z"
   },
   {
    "duration": 3307,
    "start_time": "2022-07-01T20:08:47.798Z"
   },
   {
    "duration": 0,
    "start_time": "2022-07-01T20:08:51.108Z"
   },
   {
    "duration": 0,
    "start_time": "2022-07-01T20:08:51.109Z"
   },
   {
    "duration": 0,
    "start_time": "2022-07-01T20:08:51.111Z"
   },
   {
    "duration": 0,
    "start_time": "2022-07-01T20:08:51.112Z"
   },
   {
    "duration": 0,
    "start_time": "2022-07-01T20:08:51.114Z"
   },
   {
    "duration": 0,
    "start_time": "2022-07-01T20:08:51.115Z"
   },
   {
    "duration": 0,
    "start_time": "2022-07-01T20:08:51.116Z"
   },
   {
    "duration": 0,
    "start_time": "2022-07-01T20:08:51.118Z"
   },
   {
    "duration": 0,
    "start_time": "2022-07-01T20:08:51.119Z"
   },
   {
    "duration": 0,
    "start_time": "2022-07-01T20:08:51.121Z"
   },
   {
    "duration": 100,
    "start_time": "2022-07-01T20:21:13.819Z"
   },
   {
    "duration": 101,
    "start_time": "2022-07-01T20:21:40.640Z"
   },
   {
    "duration": 107,
    "start_time": "2022-07-01T20:22:10.240Z"
   },
   {
    "duration": 5,
    "start_time": "2022-07-01T20:23:28.742Z"
   },
   {
    "duration": 1428,
    "start_time": "2022-07-01T20:23:28.749Z"
   },
   {
    "duration": 148,
    "start_time": "2022-07-01T20:23:30.179Z"
   },
   {
    "duration": 15,
    "start_time": "2022-07-01T20:23:30.329Z"
   },
   {
    "duration": 15,
    "start_time": "2022-07-01T20:23:30.346Z"
   },
   {
    "duration": 27,
    "start_time": "2022-07-01T20:23:30.363Z"
   },
   {
    "duration": 13,
    "start_time": "2022-07-01T20:23:30.392Z"
   },
   {
    "duration": 66,
    "start_time": "2022-07-01T20:23:30.407Z"
   },
   {
    "duration": 22,
    "start_time": "2022-07-01T20:23:30.474Z"
   },
   {
    "duration": 27,
    "start_time": "2022-07-01T20:23:30.498Z"
   },
   {
    "duration": 11,
    "start_time": "2022-07-01T20:23:30.527Z"
   },
   {
    "duration": 22,
    "start_time": "2022-07-01T20:23:30.539Z"
   },
   {
    "duration": 13,
    "start_time": "2022-07-01T20:23:30.563Z"
   },
   {
    "duration": 18,
    "start_time": "2022-07-01T20:23:30.579Z"
   },
   {
    "duration": 31,
    "start_time": "2022-07-01T20:23:30.599Z"
   },
   {
    "duration": 14,
    "start_time": "2022-07-01T20:23:30.633Z"
   },
   {
    "duration": 26,
    "start_time": "2022-07-01T20:23:30.649Z"
   },
   {
    "duration": 33,
    "start_time": "2022-07-01T20:23:30.677Z"
   },
   {
    "duration": 6,
    "start_time": "2022-07-01T20:23:30.712Z"
   },
   {
    "duration": 12,
    "start_time": "2022-07-01T20:23:30.720Z"
   },
   {
    "duration": 12,
    "start_time": "2022-07-01T20:23:30.734Z"
   },
   {
    "duration": 7,
    "start_time": "2022-07-01T20:23:30.748Z"
   },
   {
    "duration": 5,
    "start_time": "2022-07-01T20:23:30.757Z"
   },
   {
    "duration": 9,
    "start_time": "2022-07-01T20:23:30.764Z"
   },
   {
    "duration": 13,
    "start_time": "2022-07-01T20:23:30.774Z"
   },
   {
    "duration": 18,
    "start_time": "2022-07-01T20:23:30.789Z"
   },
   {
    "duration": 27,
    "start_time": "2022-07-01T20:23:30.808Z"
   },
   {
    "duration": 17,
    "start_time": "2022-07-01T20:23:30.837Z"
   },
   {
    "duration": 48,
    "start_time": "2022-07-01T20:23:30.855Z"
   },
   {
    "duration": 5,
    "start_time": "2022-07-01T20:23:30.905Z"
   },
   {
    "duration": 133,
    "start_time": "2022-07-01T20:23:30.912Z"
   },
   {
    "duration": 5,
    "start_time": "2022-07-01T20:23:31.047Z"
   },
   {
    "duration": 12,
    "start_time": "2022-07-01T20:23:31.054Z"
   },
   {
    "duration": 7,
    "start_time": "2022-07-01T20:23:31.067Z"
   },
   {
    "duration": 7,
    "start_time": "2022-07-01T20:23:31.076Z"
   },
   {
    "duration": 16,
    "start_time": "2022-07-01T20:23:31.085Z"
   },
   {
    "duration": 175,
    "start_time": "2022-07-01T20:23:31.103Z"
   },
   {
    "duration": 8,
    "start_time": "2022-07-01T20:23:31.281Z"
   },
   {
    "duration": 200,
    "start_time": "2022-07-01T20:23:31.291Z"
   },
   {
    "duration": 11,
    "start_time": "2022-07-01T20:23:31.493Z"
   },
   {
    "duration": 120,
    "start_time": "2022-07-01T20:23:31.508Z"
   },
   {
    "duration": 155,
    "start_time": "2022-07-01T20:23:31.630Z"
   },
   {
    "duration": 166,
    "start_time": "2022-07-01T20:23:31.787Z"
   },
   {
    "duration": 12,
    "start_time": "2022-07-01T20:23:31.954Z"
   },
   {
    "duration": 16,
    "start_time": "2022-07-01T20:23:31.967Z"
   },
   {
    "duration": 122,
    "start_time": "2022-07-01T20:23:31.984Z"
   },
   {
    "duration": 20,
    "start_time": "2022-07-01T20:23:32.108Z"
   },
   {
    "duration": 110,
    "start_time": "2022-07-01T20:23:32.130Z"
   },
   {
    "duration": 14,
    "start_time": "2022-07-01T20:23:32.241Z"
   },
   {
    "duration": 115,
    "start_time": "2022-07-01T20:23:32.257Z"
   },
   {
    "duration": 13,
    "start_time": "2022-07-01T20:23:32.373Z"
   },
   {
    "duration": 110,
    "start_time": "2022-07-01T20:23:32.387Z"
   },
   {
    "duration": 15,
    "start_time": "2022-07-01T20:23:32.499Z"
   },
   {
    "duration": 127,
    "start_time": "2022-07-01T20:23:32.515Z"
   },
   {
    "duration": 5,
    "start_time": "2022-07-01T20:23:32.643Z"
   },
   {
    "duration": 14,
    "start_time": "2022-07-01T20:23:32.649Z"
   },
   {
    "duration": 7,
    "start_time": "2022-07-01T20:23:32.664Z"
   },
   {
    "duration": 6,
    "start_time": "2022-07-01T20:23:32.672Z"
   },
   {
    "duration": 20,
    "start_time": "2022-07-01T20:23:32.679Z"
   },
   {
    "duration": 4,
    "start_time": "2022-07-01T20:23:32.730Z"
   },
   {
    "duration": 7,
    "start_time": "2022-07-01T20:23:32.735Z"
   },
   {
    "duration": 10,
    "start_time": "2022-07-01T20:23:32.743Z"
   },
   {
    "duration": 120,
    "start_time": "2022-07-01T20:23:32.754Z"
   },
   {
    "duration": 104,
    "start_time": "2022-07-01T20:23:32.875Z"
   },
   {
    "duration": 0,
    "start_time": "2022-07-01T20:23:32.981Z"
   },
   {
    "duration": 0,
    "start_time": "2022-07-01T20:23:32.982Z"
   },
   {
    "duration": 0,
    "start_time": "2022-07-01T20:23:32.983Z"
   },
   {
    "duration": 0,
    "start_time": "2022-07-01T20:23:32.984Z"
   },
   {
    "duration": 0,
    "start_time": "2022-07-01T20:23:32.985Z"
   },
   {
    "duration": 0,
    "start_time": "2022-07-01T20:23:32.986Z"
   },
   {
    "duration": 0,
    "start_time": "2022-07-01T20:23:32.987Z"
   },
   {
    "duration": 0,
    "start_time": "2022-07-01T20:23:32.988Z"
   },
   {
    "duration": 0,
    "start_time": "2022-07-01T20:23:32.990Z"
   },
   {
    "duration": 0,
    "start_time": "2022-07-01T20:23:32.991Z"
   },
   {
    "duration": 0,
    "start_time": "2022-07-01T20:23:32.992Z"
   },
   {
    "duration": 0,
    "start_time": "2022-07-01T20:23:32.993Z"
   },
   {
    "duration": 0,
    "start_time": "2022-07-01T20:23:32.995Z"
   },
   {
    "duration": 0,
    "start_time": "2022-07-01T20:23:32.996Z"
   },
   {
    "duration": 0,
    "start_time": "2022-07-01T20:23:32.998Z"
   },
   {
    "duration": 0,
    "start_time": "2022-07-01T20:23:33.029Z"
   },
   {
    "duration": 0,
    "start_time": "2022-07-01T20:23:33.030Z"
   },
   {
    "duration": 0,
    "start_time": "2022-07-01T20:23:33.031Z"
   },
   {
    "duration": 0,
    "start_time": "2022-07-01T20:23:33.033Z"
   },
   {
    "duration": 0,
    "start_time": "2022-07-01T20:23:33.034Z"
   },
   {
    "duration": 0,
    "start_time": "2022-07-01T20:23:33.035Z"
   },
   {
    "duration": 0,
    "start_time": "2022-07-01T20:23:33.037Z"
   },
   {
    "duration": 0,
    "start_time": "2022-07-01T20:23:33.038Z"
   },
   {
    "duration": 0,
    "start_time": "2022-07-01T20:23:33.040Z"
   },
   {
    "duration": 0,
    "start_time": "2022-07-01T20:23:33.041Z"
   },
   {
    "duration": 0,
    "start_time": "2022-07-01T20:23:33.043Z"
   },
   {
    "duration": 3,
    "start_time": "2022-07-01T20:24:24.576Z"
   },
   {
    "duration": 1462,
    "start_time": "2022-07-01T20:24:24.582Z"
   },
   {
    "duration": 166,
    "start_time": "2022-07-01T20:24:26.048Z"
   },
   {
    "duration": 20,
    "start_time": "2022-07-01T20:24:26.216Z"
   },
   {
    "duration": 12,
    "start_time": "2022-07-01T20:24:26.239Z"
   },
   {
    "duration": 31,
    "start_time": "2022-07-01T20:24:26.252Z"
   },
   {
    "duration": 9,
    "start_time": "2022-07-01T20:24:26.284Z"
   },
   {
    "duration": 25,
    "start_time": "2022-07-01T20:24:26.294Z"
   },
   {
    "duration": 23,
    "start_time": "2022-07-01T20:24:26.320Z"
   },
   {
    "duration": 17,
    "start_time": "2022-07-01T20:24:26.345Z"
   },
   {
    "duration": 5,
    "start_time": "2022-07-01T20:24:26.363Z"
   },
   {
    "duration": 18,
    "start_time": "2022-07-01T20:24:26.369Z"
   },
   {
    "duration": 42,
    "start_time": "2022-07-01T20:24:26.388Z"
   },
   {
    "duration": 11,
    "start_time": "2022-07-01T20:24:26.435Z"
   },
   {
    "duration": 13,
    "start_time": "2022-07-01T20:24:26.447Z"
   },
   {
    "duration": 6,
    "start_time": "2022-07-01T20:24:26.462Z"
   },
   {
    "duration": 10,
    "start_time": "2022-07-01T20:24:26.469Z"
   },
   {
    "duration": 57,
    "start_time": "2022-07-01T20:24:26.480Z"
   },
   {
    "duration": 4,
    "start_time": "2022-07-01T20:24:26.538Z"
   },
   {
    "duration": 8,
    "start_time": "2022-07-01T20:24:26.544Z"
   },
   {
    "duration": 4,
    "start_time": "2022-07-01T20:24:26.553Z"
   },
   {
    "duration": 7,
    "start_time": "2022-07-01T20:24:26.558Z"
   },
   {
    "duration": 5,
    "start_time": "2022-07-01T20:24:26.566Z"
   },
   {
    "duration": 8,
    "start_time": "2022-07-01T20:24:26.572Z"
   },
   {
    "duration": 12,
    "start_time": "2022-07-01T20:24:26.582Z"
   },
   {
    "duration": 18,
    "start_time": "2022-07-01T20:24:26.595Z"
   },
   {
    "duration": 16,
    "start_time": "2022-07-01T20:24:26.615Z"
   },
   {
    "duration": 8,
    "start_time": "2022-07-01T20:24:26.633Z"
   },
   {
    "duration": 33,
    "start_time": "2022-07-01T20:24:26.643Z"
   },
   {
    "duration": 4,
    "start_time": "2022-07-01T20:24:26.678Z"
   },
   {
    "duration": 162,
    "start_time": "2022-07-01T20:24:26.684Z"
   },
   {
    "duration": 5,
    "start_time": "2022-07-01T20:24:26.848Z"
   },
   {
    "duration": 17,
    "start_time": "2022-07-01T20:24:26.855Z"
   },
   {
    "duration": 5,
    "start_time": "2022-07-01T20:24:26.874Z"
   },
   {
    "duration": 10,
    "start_time": "2022-07-01T20:24:26.881Z"
   },
   {
    "duration": 22,
    "start_time": "2022-07-01T20:24:26.893Z"
   },
   {
    "duration": 183,
    "start_time": "2022-07-01T20:24:26.917Z"
   },
   {
    "duration": 9,
    "start_time": "2022-07-01T20:24:27.101Z"
   },
   {
    "duration": 225,
    "start_time": "2022-07-01T20:24:27.111Z"
   },
   {
    "duration": 13,
    "start_time": "2022-07-01T20:24:27.337Z"
   },
   {
    "duration": 124,
    "start_time": "2022-07-01T20:24:27.354Z"
   },
   {
    "duration": 165,
    "start_time": "2022-07-01T20:24:27.480Z"
   },
   {
    "duration": 153,
    "start_time": "2022-07-01T20:24:27.647Z"
   },
   {
    "duration": 10,
    "start_time": "2022-07-01T20:24:27.802Z"
   },
   {
    "duration": 31,
    "start_time": "2022-07-01T20:24:27.814Z"
   },
   {
    "duration": 149,
    "start_time": "2022-07-01T20:24:27.846Z"
   },
   {
    "duration": 10,
    "start_time": "2022-07-01T20:24:27.997Z"
   },
   {
    "duration": 133,
    "start_time": "2022-07-01T20:24:28.009Z"
   },
   {
    "duration": 15,
    "start_time": "2022-07-01T20:24:28.143Z"
   },
   {
    "duration": 136,
    "start_time": "2022-07-01T20:24:28.159Z"
   },
   {
    "duration": 11,
    "start_time": "2022-07-01T20:24:28.297Z"
   },
   {
    "duration": 130,
    "start_time": "2022-07-01T20:24:28.309Z"
   },
   {
    "duration": 19,
    "start_time": "2022-07-01T20:24:28.441Z"
   },
   {
    "duration": 131,
    "start_time": "2022-07-01T20:24:28.462Z"
   },
   {
    "duration": 5,
    "start_time": "2022-07-01T20:24:28.595Z"
   },
   {
    "duration": 15,
    "start_time": "2022-07-01T20:24:28.601Z"
   },
   {
    "duration": 15,
    "start_time": "2022-07-01T20:24:28.618Z"
   },
   {
    "duration": 6,
    "start_time": "2022-07-01T20:24:28.635Z"
   },
   {
    "duration": 27,
    "start_time": "2022-07-01T20:24:28.643Z"
   },
   {
    "duration": 3,
    "start_time": "2022-07-01T20:24:28.672Z"
   },
   {
    "duration": 9,
    "start_time": "2022-07-01T20:24:28.676Z"
   },
   {
    "duration": 16,
    "start_time": "2022-07-01T20:24:28.686Z"
   },
   {
    "duration": 127,
    "start_time": "2022-07-01T20:24:28.704Z"
   },
   {
    "duration": 110,
    "start_time": "2022-07-01T20:24:28.832Z"
   },
   {
    "duration": 0,
    "start_time": "2022-07-01T20:24:28.944Z"
   },
   {
    "duration": 0,
    "start_time": "2022-07-01T20:24:28.945Z"
   },
   {
    "duration": 1,
    "start_time": "2022-07-01T20:24:28.945Z"
   },
   {
    "duration": 0,
    "start_time": "2022-07-01T20:24:28.947Z"
   },
   {
    "duration": 0,
    "start_time": "2022-07-01T20:24:28.948Z"
   },
   {
    "duration": 0,
    "start_time": "2022-07-01T20:24:28.949Z"
   },
   {
    "duration": 0,
    "start_time": "2022-07-01T20:24:28.950Z"
   },
   {
    "duration": 0,
    "start_time": "2022-07-01T20:24:28.951Z"
   },
   {
    "duration": 0,
    "start_time": "2022-07-01T20:24:28.952Z"
   },
   {
    "duration": 0,
    "start_time": "2022-07-01T20:24:28.953Z"
   },
   {
    "duration": 0,
    "start_time": "2022-07-01T20:24:28.954Z"
   },
   {
    "duration": 0,
    "start_time": "2022-07-01T20:24:28.955Z"
   },
   {
    "duration": 0,
    "start_time": "2022-07-01T20:24:28.956Z"
   },
   {
    "duration": 0,
    "start_time": "2022-07-01T20:24:28.957Z"
   },
   {
    "duration": 0,
    "start_time": "2022-07-01T20:24:28.958Z"
   },
   {
    "duration": 0,
    "start_time": "2022-07-01T20:24:28.959Z"
   },
   {
    "duration": 0,
    "start_time": "2022-07-01T20:24:28.960Z"
   },
   {
    "duration": 0,
    "start_time": "2022-07-01T20:24:28.961Z"
   },
   {
    "duration": 0,
    "start_time": "2022-07-01T20:24:28.962Z"
   },
   {
    "duration": 0,
    "start_time": "2022-07-01T20:24:28.963Z"
   },
   {
    "duration": 0,
    "start_time": "2022-07-01T20:24:28.964Z"
   },
   {
    "duration": 0,
    "start_time": "2022-07-01T20:24:28.965Z"
   },
   {
    "duration": 0,
    "start_time": "2022-07-01T20:24:28.966Z"
   },
   {
    "duration": 0,
    "start_time": "2022-07-01T20:24:28.967Z"
   },
   {
    "duration": 0,
    "start_time": "2022-07-01T20:24:28.968Z"
   },
   {
    "duration": 0,
    "start_time": "2022-07-01T20:24:28.969Z"
   },
   {
    "duration": 5,
    "start_time": "2022-07-01T20:30:47.804Z"
   },
   {
    "duration": 9,
    "start_time": "2022-07-01T20:32:04.303Z"
   },
   {
    "duration": 4,
    "start_time": "2022-07-01T20:32:08.386Z"
   },
   {
    "duration": 7,
    "start_time": "2022-07-01T20:32:10.583Z"
   },
   {
    "duration": 134,
    "start_time": "2022-07-01T20:32:13.423Z"
   },
   {
    "duration": 3,
    "start_time": "2022-07-01T20:33:07.781Z"
   },
   {
    "duration": 1335,
    "start_time": "2022-07-01T20:33:07.786Z"
   },
   {
    "duration": 152,
    "start_time": "2022-07-01T20:33:09.122Z"
   },
   {
    "duration": 15,
    "start_time": "2022-07-01T20:33:09.276Z"
   },
   {
    "duration": 9,
    "start_time": "2022-07-01T20:33:09.292Z"
   },
   {
    "duration": 11,
    "start_time": "2022-07-01T20:33:09.303Z"
   },
   {
    "duration": 6,
    "start_time": "2022-07-01T20:33:09.316Z"
   },
   {
    "duration": 23,
    "start_time": "2022-07-01T20:33:09.324Z"
   },
   {
    "duration": 16,
    "start_time": "2022-07-01T20:33:09.349Z"
   },
   {
    "duration": 18,
    "start_time": "2022-07-01T20:33:09.368Z"
   },
   {
    "duration": 5,
    "start_time": "2022-07-01T20:33:09.387Z"
   },
   {
    "duration": 16,
    "start_time": "2022-07-01T20:33:09.393Z"
   },
   {
    "duration": 11,
    "start_time": "2022-07-01T20:33:09.429Z"
   },
   {
    "duration": 11,
    "start_time": "2022-07-01T20:33:09.441Z"
   },
   {
    "duration": 12,
    "start_time": "2022-07-01T20:33:09.453Z"
   },
   {
    "duration": 5,
    "start_time": "2022-07-01T20:33:09.466Z"
   },
   {
    "duration": 11,
    "start_time": "2022-07-01T20:33:09.472Z"
   },
   {
    "duration": 62,
    "start_time": "2022-07-01T20:33:09.485Z"
   },
   {
    "duration": 5,
    "start_time": "2022-07-01T20:33:09.548Z"
   },
   {
    "duration": 8,
    "start_time": "2022-07-01T20:33:09.555Z"
   },
   {
    "duration": 6,
    "start_time": "2022-07-01T20:33:09.565Z"
   },
   {
    "duration": 9,
    "start_time": "2022-07-01T20:33:09.573Z"
   },
   {
    "duration": 9,
    "start_time": "2022-07-01T20:33:09.583Z"
   },
   {
    "duration": 4,
    "start_time": "2022-07-01T20:33:09.594Z"
   },
   {
    "duration": 9,
    "start_time": "2022-07-01T20:33:09.599Z"
   },
   {
    "duration": 20,
    "start_time": "2022-07-01T20:33:09.610Z"
   },
   {
    "duration": 6,
    "start_time": "2022-07-01T20:33:09.631Z"
   },
   {
    "duration": 17,
    "start_time": "2022-07-01T20:33:09.642Z"
   },
   {
    "duration": 40,
    "start_time": "2022-07-01T20:33:09.661Z"
   },
   {
    "duration": 6,
    "start_time": "2022-07-01T20:33:09.703Z"
   },
   {
    "duration": 127,
    "start_time": "2022-07-01T20:33:09.711Z"
   },
   {
    "duration": 5,
    "start_time": "2022-07-01T20:33:09.840Z"
   },
   {
    "duration": 6,
    "start_time": "2022-07-01T20:33:09.847Z"
   },
   {
    "duration": 7,
    "start_time": "2022-07-01T20:33:09.854Z"
   },
   {
    "duration": 4,
    "start_time": "2022-07-01T20:33:09.863Z"
   },
   {
    "duration": 18,
    "start_time": "2022-07-01T20:33:09.869Z"
   },
   {
    "duration": 152,
    "start_time": "2022-07-01T20:33:09.888Z"
   },
   {
    "duration": 7,
    "start_time": "2022-07-01T20:33:10.042Z"
   },
   {
    "duration": 162,
    "start_time": "2022-07-01T20:33:10.051Z"
   },
   {
    "duration": 15,
    "start_time": "2022-07-01T20:33:10.215Z"
   },
   {
    "duration": 85,
    "start_time": "2022-07-01T20:33:10.231Z"
   },
   {
    "duration": 151,
    "start_time": "2022-07-01T20:33:10.329Z"
   },
   {
    "duration": 140,
    "start_time": "2022-07-01T20:33:10.481Z"
   },
   {
    "duration": 13,
    "start_time": "2022-07-01T20:33:10.622Z"
   },
   {
    "duration": 16,
    "start_time": "2022-07-01T20:33:10.637Z"
   },
   {
    "duration": 121,
    "start_time": "2022-07-01T20:33:10.655Z"
   },
   {
    "duration": 11,
    "start_time": "2022-07-01T20:33:10.777Z"
   },
   {
    "duration": 113,
    "start_time": "2022-07-01T20:33:10.790Z"
   },
   {
    "duration": 26,
    "start_time": "2022-07-01T20:33:10.905Z"
   },
   {
    "duration": 106,
    "start_time": "2022-07-01T20:33:10.932Z"
   },
   {
    "duration": 11,
    "start_time": "2022-07-01T20:33:11.040Z"
   },
   {
    "duration": 119,
    "start_time": "2022-07-01T20:33:11.053Z"
   },
   {
    "duration": 19,
    "start_time": "2022-07-01T20:33:11.173Z"
   },
   {
    "duration": 125,
    "start_time": "2022-07-01T20:33:11.193Z"
   },
   {
    "duration": 11,
    "start_time": "2022-07-01T20:33:11.319Z"
   },
   {
    "duration": 14,
    "start_time": "2022-07-01T20:33:11.331Z"
   },
   {
    "duration": 6,
    "start_time": "2022-07-01T20:33:11.346Z"
   },
   {
    "duration": 6,
    "start_time": "2022-07-01T20:33:11.353Z"
   },
   {
    "duration": 21,
    "start_time": "2022-07-01T20:33:11.360Z"
   },
   {
    "duration": 4,
    "start_time": "2022-07-01T20:33:11.382Z"
   },
   {
    "duration": 42,
    "start_time": "2022-07-01T20:33:11.387Z"
   },
   {
    "duration": 9,
    "start_time": "2022-07-01T20:33:11.431Z"
   },
   {
    "duration": 3,
    "start_time": "2022-07-01T20:33:11.442Z"
   },
   {
    "duration": 9,
    "start_time": "2022-07-01T20:33:11.447Z"
   },
   {
    "duration": 120,
    "start_time": "2022-07-01T20:33:11.457Z"
   },
   {
    "duration": 107,
    "start_time": "2022-07-01T20:33:11.579Z"
   },
   {
    "duration": 0,
    "start_time": "2022-07-01T20:33:11.687Z"
   },
   {
    "duration": 0,
    "start_time": "2022-07-01T20:33:11.688Z"
   },
   {
    "duration": 0,
    "start_time": "2022-07-01T20:33:11.689Z"
   },
   {
    "duration": 0,
    "start_time": "2022-07-01T20:33:11.690Z"
   },
   {
    "duration": 0,
    "start_time": "2022-07-01T20:33:11.691Z"
   },
   {
    "duration": 0,
    "start_time": "2022-07-01T20:33:11.692Z"
   },
   {
    "duration": 0,
    "start_time": "2022-07-01T20:33:11.693Z"
   },
   {
    "duration": 0,
    "start_time": "2022-07-01T20:33:11.694Z"
   },
   {
    "duration": 0,
    "start_time": "2022-07-01T20:33:11.695Z"
   },
   {
    "duration": 0,
    "start_time": "2022-07-01T20:33:11.696Z"
   },
   {
    "duration": 0,
    "start_time": "2022-07-01T20:33:11.697Z"
   },
   {
    "duration": 0,
    "start_time": "2022-07-01T20:33:11.698Z"
   },
   {
    "duration": 0,
    "start_time": "2022-07-01T20:33:11.699Z"
   },
   {
    "duration": 0,
    "start_time": "2022-07-01T20:33:11.700Z"
   },
   {
    "duration": 0,
    "start_time": "2022-07-01T20:33:11.701Z"
   },
   {
    "duration": 0,
    "start_time": "2022-07-01T20:33:11.702Z"
   },
   {
    "duration": 0,
    "start_time": "2022-07-01T20:33:11.729Z"
   },
   {
    "duration": 0,
    "start_time": "2022-07-01T20:33:11.730Z"
   },
   {
    "duration": 0,
    "start_time": "2022-07-01T20:33:11.731Z"
   },
   {
    "duration": 0,
    "start_time": "2022-07-01T20:33:11.732Z"
   },
   {
    "duration": 0,
    "start_time": "2022-07-01T20:33:11.733Z"
   },
   {
    "duration": 0,
    "start_time": "2022-07-01T20:33:11.734Z"
   },
   {
    "duration": 0,
    "start_time": "2022-07-01T20:33:11.735Z"
   },
   {
    "duration": 0,
    "start_time": "2022-07-01T20:33:11.736Z"
   },
   {
    "duration": 0,
    "start_time": "2022-07-01T20:33:11.736Z"
   },
   {
    "duration": 0,
    "start_time": "2022-07-01T20:33:11.737Z"
   },
   {
    "duration": 5,
    "start_time": "2022-07-03T10:42:56.810Z"
   },
   {
    "duration": 1963,
    "start_time": "2022-07-03T10:42:56.826Z"
   },
   {
    "duration": 0,
    "start_time": "2022-07-03T10:42:58.799Z"
   },
   {
    "duration": 0,
    "start_time": "2022-07-03T10:42:58.800Z"
   },
   {
    "duration": 0,
    "start_time": "2022-07-03T10:42:58.801Z"
   },
   {
    "duration": 0,
    "start_time": "2022-07-03T10:42:58.801Z"
   },
   {
    "duration": 0,
    "start_time": "2022-07-03T10:42:58.803Z"
   },
   {
    "duration": 0,
    "start_time": "2022-07-03T10:42:58.806Z"
   },
   {
    "duration": 0,
    "start_time": "2022-07-03T10:42:58.807Z"
   },
   {
    "duration": 0,
    "start_time": "2022-07-03T10:42:58.808Z"
   },
   {
    "duration": 0,
    "start_time": "2022-07-03T10:42:58.809Z"
   },
   {
    "duration": 0,
    "start_time": "2022-07-03T10:42:58.810Z"
   },
   {
    "duration": 1,
    "start_time": "2022-07-03T10:42:58.815Z"
   },
   {
    "duration": 0,
    "start_time": "2022-07-03T10:42:58.816Z"
   },
   {
    "duration": 0,
    "start_time": "2022-07-03T10:42:58.817Z"
   },
   {
    "duration": 0,
    "start_time": "2022-07-03T10:42:58.818Z"
   },
   {
    "duration": 0,
    "start_time": "2022-07-03T10:42:58.819Z"
   },
   {
    "duration": 0,
    "start_time": "2022-07-03T10:42:58.820Z"
   },
   {
    "duration": 0,
    "start_time": "2022-07-03T10:42:58.821Z"
   },
   {
    "duration": 0,
    "start_time": "2022-07-03T10:42:58.824Z"
   },
   {
    "duration": 0,
    "start_time": "2022-07-03T10:42:58.825Z"
   },
   {
    "duration": 0,
    "start_time": "2022-07-03T10:42:58.827Z"
   },
   {
    "duration": 0,
    "start_time": "2022-07-03T10:42:58.828Z"
   },
   {
    "duration": 0,
    "start_time": "2022-07-03T10:42:58.829Z"
   },
   {
    "duration": 0,
    "start_time": "2022-07-03T10:42:58.830Z"
   },
   {
    "duration": 0,
    "start_time": "2022-07-03T10:42:58.831Z"
   },
   {
    "duration": 0,
    "start_time": "2022-07-03T10:42:58.832Z"
   },
   {
    "duration": 0,
    "start_time": "2022-07-03T10:42:58.834Z"
   },
   {
    "duration": 0,
    "start_time": "2022-07-03T10:42:58.835Z"
   },
   {
    "duration": 0,
    "start_time": "2022-07-03T10:42:58.836Z"
   },
   {
    "duration": 0,
    "start_time": "2022-07-03T10:42:58.837Z"
   },
   {
    "duration": 0,
    "start_time": "2022-07-03T10:42:58.838Z"
   },
   {
    "duration": 0,
    "start_time": "2022-07-03T10:42:58.852Z"
   },
   {
    "duration": 0,
    "start_time": "2022-07-03T10:42:58.853Z"
   },
   {
    "duration": 0,
    "start_time": "2022-07-03T10:42:58.854Z"
   },
   {
    "duration": 0,
    "start_time": "2022-07-03T10:42:58.855Z"
   },
   {
    "duration": 0,
    "start_time": "2022-07-03T10:42:58.857Z"
   },
   {
    "duration": 0,
    "start_time": "2022-07-03T10:42:58.858Z"
   },
   {
    "duration": 0,
    "start_time": "2022-07-03T10:42:58.859Z"
   },
   {
    "duration": 0,
    "start_time": "2022-07-03T10:42:58.860Z"
   },
   {
    "duration": 0,
    "start_time": "2022-07-03T10:42:58.861Z"
   },
   {
    "duration": 0,
    "start_time": "2022-07-03T10:42:58.863Z"
   },
   {
    "duration": 0,
    "start_time": "2022-07-03T10:42:58.864Z"
   },
   {
    "duration": 0,
    "start_time": "2022-07-03T10:42:58.866Z"
   },
   {
    "duration": 0,
    "start_time": "2022-07-03T10:42:58.868Z"
   },
   {
    "duration": 1,
    "start_time": "2022-07-03T10:42:58.869Z"
   },
   {
    "duration": 0,
    "start_time": "2022-07-03T10:42:58.871Z"
   },
   {
    "duration": 0,
    "start_time": "2022-07-03T10:42:58.873Z"
   },
   {
    "duration": 0,
    "start_time": "2022-07-03T10:42:58.873Z"
   },
   {
    "duration": 0,
    "start_time": "2022-07-03T10:42:58.874Z"
   },
   {
    "duration": 0,
    "start_time": "2022-07-03T10:42:58.875Z"
   },
   {
    "duration": 0,
    "start_time": "2022-07-03T10:42:58.877Z"
   },
   {
    "duration": 0,
    "start_time": "2022-07-03T10:42:58.878Z"
   },
   {
    "duration": 0,
    "start_time": "2022-07-03T10:42:58.880Z"
   },
   {
    "duration": 0,
    "start_time": "2022-07-03T10:42:58.881Z"
   },
   {
    "duration": 0,
    "start_time": "2022-07-03T10:42:58.882Z"
   },
   {
    "duration": 0,
    "start_time": "2022-07-03T10:42:58.884Z"
   },
   {
    "duration": 0,
    "start_time": "2022-07-03T10:42:58.885Z"
   },
   {
    "duration": 0,
    "start_time": "2022-07-03T10:42:58.886Z"
   },
   {
    "duration": 0,
    "start_time": "2022-07-03T10:42:58.887Z"
   },
   {
    "duration": 0,
    "start_time": "2022-07-03T10:42:58.888Z"
   },
   {
    "duration": 0,
    "start_time": "2022-07-03T10:42:58.889Z"
   },
   {
    "duration": 0,
    "start_time": "2022-07-03T10:42:58.891Z"
   },
   {
    "duration": 0,
    "start_time": "2022-07-03T10:42:58.892Z"
   },
   {
    "duration": 0,
    "start_time": "2022-07-03T10:42:58.894Z"
   },
   {
    "duration": 0,
    "start_time": "2022-07-03T10:42:58.896Z"
   },
   {
    "duration": 0,
    "start_time": "2022-07-03T10:42:58.897Z"
   },
   {
    "duration": 0,
    "start_time": "2022-07-03T10:42:58.898Z"
   },
   {
    "duration": 0,
    "start_time": "2022-07-03T10:42:58.899Z"
   },
   {
    "duration": 0,
    "start_time": "2022-07-03T10:42:58.900Z"
   },
   {
    "duration": 0,
    "start_time": "2022-07-03T10:42:58.902Z"
   },
   {
    "duration": 0,
    "start_time": "2022-07-03T10:42:58.903Z"
   },
   {
    "duration": 0,
    "start_time": "2022-07-03T10:42:58.904Z"
   },
   {
    "duration": 0,
    "start_time": "2022-07-03T10:42:58.906Z"
   },
   {
    "duration": 0,
    "start_time": "2022-07-03T10:42:58.908Z"
   },
   {
    "duration": 0,
    "start_time": "2022-07-03T10:42:58.909Z"
   },
   {
    "duration": 0,
    "start_time": "2022-07-03T10:42:58.911Z"
   },
   {
    "duration": 0,
    "start_time": "2022-07-03T10:42:58.913Z"
   },
   {
    "duration": 0,
    "start_time": "2022-07-03T10:42:58.914Z"
   },
   {
    "duration": 0,
    "start_time": "2022-07-03T10:42:58.915Z"
   },
   {
    "duration": 0,
    "start_time": "2022-07-03T10:42:58.951Z"
   },
   {
    "duration": 0,
    "start_time": "2022-07-03T10:42:58.953Z"
   },
   {
    "duration": 0,
    "start_time": "2022-07-03T10:42:58.954Z"
   },
   {
    "duration": 1,
    "start_time": "2022-07-03T10:42:58.959Z"
   },
   {
    "duration": 0,
    "start_time": "2022-07-03T10:42:58.962Z"
   },
   {
    "duration": 0,
    "start_time": "2022-07-03T10:42:58.965Z"
   },
   {
    "duration": 0,
    "start_time": "2022-07-03T10:42:58.967Z"
   },
   {
    "duration": 0,
    "start_time": "2022-07-03T10:42:58.969Z"
   },
   {
    "duration": 0,
    "start_time": "2022-07-03T10:42:58.971Z"
   },
   {
    "duration": 0,
    "start_time": "2022-07-03T10:42:58.972Z"
   },
   {
    "duration": 0,
    "start_time": "2022-07-03T10:42:58.983Z"
   },
   {
    "duration": 0,
    "start_time": "2022-07-03T10:42:58.985Z"
   },
   {
    "duration": 7678,
    "start_time": "2022-07-03T10:43:19.692Z"
   },
   {
    "duration": 1833,
    "start_time": "2022-07-03T10:43:27.372Z"
   },
   {
    "duration": 419,
    "start_time": "2022-07-03T10:43:29.207Z"
   },
   {
    "duration": 19,
    "start_time": "2022-07-03T10:43:29.632Z"
   },
   {
    "duration": 15,
    "start_time": "2022-07-03T10:43:29.665Z"
   },
   {
    "duration": 55,
    "start_time": "2022-07-03T10:43:29.681Z"
   },
   {
    "duration": 19,
    "start_time": "2022-07-03T10:43:29.739Z"
   },
   {
    "duration": 99,
    "start_time": "2022-07-03T10:43:29.760Z"
   },
   {
    "duration": 42,
    "start_time": "2022-07-03T10:43:29.862Z"
   },
   {
    "duration": 35,
    "start_time": "2022-07-03T10:43:29.911Z"
   },
   {
    "duration": 18,
    "start_time": "2022-07-03T10:43:29.948Z"
   },
   {
    "duration": 58,
    "start_time": "2022-07-03T10:43:29.979Z"
   },
   {
    "duration": 12,
    "start_time": "2022-07-03T10:43:30.041Z"
   },
   {
    "duration": 90,
    "start_time": "2022-07-03T10:43:30.057Z"
   },
   {
    "duration": 124,
    "start_time": "2022-07-03T10:43:30.150Z"
   },
   {
    "duration": 61,
    "start_time": "2022-07-03T10:43:30.277Z"
   },
   {
    "duration": 39,
    "start_time": "2022-07-03T10:43:30.340Z"
   },
   {
    "duration": 85,
    "start_time": "2022-07-03T10:43:30.384Z"
   },
   {
    "duration": 7,
    "start_time": "2022-07-03T10:43:30.471Z"
   },
   {
    "duration": 70,
    "start_time": "2022-07-03T10:43:30.480Z"
   },
   {
    "duration": 84,
    "start_time": "2022-07-03T10:43:30.552Z"
   },
   {
    "duration": 84,
    "start_time": "2022-07-03T10:43:30.638Z"
   },
   {
    "duration": 12,
    "start_time": "2022-07-03T10:43:30.725Z"
   },
   {
    "duration": 84,
    "start_time": "2022-07-03T10:43:30.739Z"
   },
   {
    "duration": 16,
    "start_time": "2022-07-03T10:43:30.825Z"
   },
   {
    "duration": 52,
    "start_time": "2022-07-03T10:43:30.842Z"
   },
   {
    "duration": 54,
    "start_time": "2022-07-03T10:43:30.896Z"
   },
   {
    "duration": 99,
    "start_time": "2022-07-03T10:43:30.964Z"
   },
   {
    "duration": 124,
    "start_time": "2022-07-03T10:43:31.069Z"
   },
   {
    "duration": 44,
    "start_time": "2022-07-03T10:43:31.204Z"
   },
   {
    "duration": 256,
    "start_time": "2022-07-03T10:43:31.250Z"
   },
   {
    "duration": 10,
    "start_time": "2022-07-03T10:43:31.508Z"
   },
   {
    "duration": 19,
    "start_time": "2022-07-03T10:43:31.520Z"
   },
   {
    "duration": 6,
    "start_time": "2022-07-03T10:43:31.540Z"
   },
   {
    "duration": 57,
    "start_time": "2022-07-03T10:43:31.548Z"
   },
   {
    "duration": 34,
    "start_time": "2022-07-03T10:43:31.607Z"
   },
   {
    "duration": 238,
    "start_time": "2022-07-03T10:43:31.642Z"
   },
   {
    "duration": 25,
    "start_time": "2022-07-03T10:43:31.881Z"
   },
   {
    "duration": 303,
    "start_time": "2022-07-03T10:43:31.923Z"
   },
   {
    "duration": 117,
    "start_time": "2022-07-03T10:43:32.230Z"
   },
   {
    "duration": 173,
    "start_time": "2022-07-03T10:43:32.349Z"
   },
   {
    "duration": 224,
    "start_time": "2022-07-03T10:43:32.527Z"
   },
   {
    "duration": 284,
    "start_time": "2022-07-03T10:43:32.756Z"
   },
   {
    "duration": 24,
    "start_time": "2022-07-03T10:43:33.042Z"
   },
   {
    "duration": 71,
    "start_time": "2022-07-03T10:43:33.072Z"
   },
   {
    "duration": 221,
    "start_time": "2022-07-03T10:43:33.145Z"
   },
   {
    "duration": 26,
    "start_time": "2022-07-03T10:43:33.376Z"
   },
   {
    "duration": 169,
    "start_time": "2022-07-03T10:43:33.410Z"
   },
   {
    "duration": 28,
    "start_time": "2022-07-03T10:43:33.584Z"
   },
   {
    "duration": 188,
    "start_time": "2022-07-03T10:43:33.618Z"
   },
   {
    "duration": 16,
    "start_time": "2022-07-03T10:43:33.812Z"
   },
   {
    "duration": 175,
    "start_time": "2022-07-03T10:43:33.830Z"
   },
   {
    "duration": 22,
    "start_time": "2022-07-03T10:43:34.007Z"
   },
   {
    "duration": 152,
    "start_time": "2022-07-03T10:43:34.032Z"
   },
   {
    "duration": 4,
    "start_time": "2022-07-03T10:43:34.186Z"
   },
   {
    "duration": 29,
    "start_time": "2022-07-03T10:43:34.192Z"
   },
   {
    "duration": 38,
    "start_time": "2022-07-03T10:43:34.224Z"
   },
   {
    "duration": 166,
    "start_time": "2022-07-03T10:43:34.265Z"
   },
   {
    "duration": 35,
    "start_time": "2022-07-03T10:43:34.433Z"
   },
   {
    "duration": 52,
    "start_time": "2022-07-03T10:43:34.470Z"
   },
   {
    "duration": 10,
    "start_time": "2022-07-03T10:43:34.525Z"
   },
   {
    "duration": 20,
    "start_time": "2022-07-03T10:43:34.536Z"
   },
   {
    "duration": 53,
    "start_time": "2022-07-03T10:43:34.562Z"
   },
   {
    "duration": 15,
    "start_time": "2022-07-03T10:43:34.619Z"
   },
   {
    "duration": 195,
    "start_time": "2022-07-03T10:43:34.636Z"
   },
   {
    "duration": 170,
    "start_time": "2022-07-03T10:43:34.833Z"
   },
   {
    "duration": 0,
    "start_time": "2022-07-03T10:43:35.008Z"
   },
   {
    "duration": 0,
    "start_time": "2022-07-03T10:43:35.009Z"
   },
   {
    "duration": 0,
    "start_time": "2022-07-03T10:43:35.010Z"
   },
   {
    "duration": 0,
    "start_time": "2022-07-03T10:43:35.012Z"
   },
   {
    "duration": 0,
    "start_time": "2022-07-03T10:43:35.013Z"
   },
   {
    "duration": 0,
    "start_time": "2022-07-03T10:43:35.015Z"
   },
   {
    "duration": 0,
    "start_time": "2022-07-03T10:43:35.016Z"
   },
   {
    "duration": 0,
    "start_time": "2022-07-03T10:43:35.017Z"
   },
   {
    "duration": 0,
    "start_time": "2022-07-03T10:43:35.019Z"
   },
   {
    "duration": 0,
    "start_time": "2022-07-03T10:43:35.020Z"
   },
   {
    "duration": 0,
    "start_time": "2022-07-03T10:43:35.021Z"
   },
   {
    "duration": 0,
    "start_time": "2022-07-03T10:43:35.023Z"
   },
   {
    "duration": 0,
    "start_time": "2022-07-03T10:43:35.024Z"
   },
   {
    "duration": 0,
    "start_time": "2022-07-03T10:43:35.026Z"
   },
   {
    "duration": 0,
    "start_time": "2022-07-03T10:43:35.029Z"
   },
   {
    "duration": 0,
    "start_time": "2022-07-03T10:43:35.030Z"
   },
   {
    "duration": 0,
    "start_time": "2022-07-03T10:43:35.032Z"
   },
   {
    "duration": 0,
    "start_time": "2022-07-03T10:43:35.033Z"
   },
   {
    "duration": 0,
    "start_time": "2022-07-03T10:43:35.034Z"
   },
   {
    "duration": 0,
    "start_time": "2022-07-03T10:43:35.036Z"
   },
   {
    "duration": 0,
    "start_time": "2022-07-03T10:43:35.037Z"
   },
   {
    "duration": 0,
    "start_time": "2022-07-03T10:43:35.038Z"
   },
   {
    "duration": 0,
    "start_time": "2022-07-03T10:43:35.062Z"
   },
   {
    "duration": 0,
    "start_time": "2022-07-03T10:43:35.063Z"
   },
   {
    "duration": 0,
    "start_time": "2022-07-03T10:43:35.064Z"
   },
   {
    "duration": 0,
    "start_time": "2022-07-03T10:43:35.064Z"
   },
   {
    "duration": 6,
    "start_time": "2022-07-03T10:46:13.411Z"
   },
   {
    "duration": 2308,
    "start_time": "2022-07-03T10:46:13.425Z"
   },
   {
    "duration": 297,
    "start_time": "2022-07-03T10:46:15.740Z"
   },
   {
    "duration": 50,
    "start_time": "2022-07-03T10:46:16.044Z"
   },
   {
    "duration": 47,
    "start_time": "2022-07-03T10:46:16.110Z"
   },
   {
    "duration": 218,
    "start_time": "2022-07-03T10:46:16.160Z"
   },
   {
    "duration": 144,
    "start_time": "2022-07-03T10:46:16.383Z"
   },
   {
    "duration": 151,
    "start_time": "2022-07-03T10:46:16.537Z"
   },
   {
    "duration": 141,
    "start_time": "2022-07-03T10:46:16.695Z"
   },
   {
    "duration": 170,
    "start_time": "2022-07-03T10:46:16.838Z"
   },
   {
    "duration": 122,
    "start_time": "2022-07-03T10:46:17.011Z"
   },
   {
    "duration": 127,
    "start_time": "2022-07-03T10:46:17.136Z"
   },
   {
    "duration": 72,
    "start_time": "2022-07-03T10:46:17.265Z"
   },
   {
    "duration": 31,
    "start_time": "2022-07-03T10:46:17.339Z"
   },
   {
    "duration": 72,
    "start_time": "2022-07-03T10:46:17.374Z"
   },
   {
    "duration": 12,
    "start_time": "2022-07-03T10:46:17.448Z"
   },
   {
    "duration": 109,
    "start_time": "2022-07-03T10:46:17.462Z"
   },
   {
    "duration": 108,
    "start_time": "2022-07-03T10:46:17.574Z"
   },
   {
    "duration": 44,
    "start_time": "2022-07-03T10:46:17.686Z"
   },
   {
    "duration": 96,
    "start_time": "2022-07-03T10:46:17.732Z"
   },
   {
    "duration": 75,
    "start_time": "2022-07-03T10:46:17.830Z"
   },
   {
    "duration": 47,
    "start_time": "2022-07-03T10:46:17.907Z"
   },
   {
    "duration": 71,
    "start_time": "2022-07-03T10:46:17.967Z"
   },
   {
    "duration": 94,
    "start_time": "2022-07-03T10:46:18.041Z"
   },
   {
    "duration": 103,
    "start_time": "2022-07-03T10:46:18.137Z"
   },
   {
    "duration": 103,
    "start_time": "2022-07-03T10:46:18.242Z"
   },
   {
    "duration": 85,
    "start_time": "2022-07-03T10:46:18.348Z"
   },
   {
    "duration": 93,
    "start_time": "2022-07-03T10:46:18.435Z"
   },
   {
    "duration": 70,
    "start_time": "2022-07-03T10:46:18.535Z"
   },
   {
    "duration": 17,
    "start_time": "2022-07-03T10:46:18.622Z"
   },
   {
    "duration": 307,
    "start_time": "2022-07-03T10:46:18.641Z"
   },
   {
    "duration": 13,
    "start_time": "2022-07-03T10:46:18.951Z"
   },
   {
    "duration": 116,
    "start_time": "2022-07-03T10:46:18.972Z"
   },
   {
    "duration": 189,
    "start_time": "2022-07-03T10:46:19.093Z"
   },
   {
    "duration": 67,
    "start_time": "2022-07-03T10:46:19.284Z"
   },
   {
    "duration": 123,
    "start_time": "2022-07-03T10:46:19.356Z"
   },
   {
    "duration": 417,
    "start_time": "2022-07-03T10:46:19.481Z"
   },
   {
    "duration": 10,
    "start_time": "2022-07-03T10:46:19.900Z"
   },
   {
    "duration": 400,
    "start_time": "2022-07-03T10:46:19.912Z"
   },
   {
    "duration": 17,
    "start_time": "2022-07-03T10:46:20.317Z"
   },
   {
    "duration": 300,
    "start_time": "2022-07-03T10:46:20.339Z"
   },
   {
    "duration": 270,
    "start_time": "2022-07-03T10:46:20.641Z"
   },
   {
    "duration": 292,
    "start_time": "2022-07-03T10:46:20.914Z"
   },
   {
    "duration": 20,
    "start_time": "2022-07-03T10:46:21.212Z"
   },
   {
    "duration": 28,
    "start_time": "2022-07-03T10:46:21.238Z"
   },
   {
    "duration": 284,
    "start_time": "2022-07-03T10:46:21.268Z"
   },
   {
    "duration": 15,
    "start_time": "2022-07-03T10:46:21.554Z"
   },
   {
    "duration": 251,
    "start_time": "2022-07-03T10:46:21.571Z"
   },
   {
    "duration": 21,
    "start_time": "2022-07-03T10:46:21.826Z"
   },
   {
    "duration": 223,
    "start_time": "2022-07-03T10:46:21.849Z"
   },
   {
    "duration": 17,
    "start_time": "2022-07-03T10:46:22.074Z"
   },
   {
    "duration": 280,
    "start_time": "2022-07-03T10:46:22.093Z"
   },
   {
    "duration": 30,
    "start_time": "2022-07-03T10:46:22.378Z"
   },
   {
    "duration": 243,
    "start_time": "2022-07-03T10:46:22.409Z"
   },
   {
    "duration": 26,
    "start_time": "2022-07-03T10:46:22.658Z"
   },
   {
    "duration": 111,
    "start_time": "2022-07-03T10:46:22.691Z"
   },
   {
    "duration": 29,
    "start_time": "2022-07-03T10:46:22.815Z"
   },
   {
    "duration": 93,
    "start_time": "2022-07-03T10:46:22.847Z"
   },
   {
    "duration": 11,
    "start_time": "2022-07-03T10:46:22.951Z"
   },
   {
    "duration": 54,
    "start_time": "2022-07-03T10:46:22.964Z"
   },
   {
    "duration": 31,
    "start_time": "2022-07-03T10:46:23.023Z"
   },
   {
    "duration": 74,
    "start_time": "2022-07-03T10:46:23.056Z"
   },
   {
    "duration": 15,
    "start_time": "2022-07-03T10:46:23.137Z"
   },
   {
    "duration": 88,
    "start_time": "2022-07-03T10:46:23.156Z"
   },
   {
    "duration": 174,
    "start_time": "2022-07-03T10:46:23.247Z"
   },
   {
    "duration": 20,
    "start_time": "2022-07-03T10:46:23.427Z"
   },
   {
    "duration": 94,
    "start_time": "2022-07-03T10:46:23.449Z"
   },
   {
    "duration": 178,
    "start_time": "2022-07-03T10:46:23.545Z"
   },
   {
    "duration": 198,
    "start_time": "2022-07-03T10:46:23.725Z"
   },
   {
    "duration": 9,
    "start_time": "2022-07-03T10:46:23.925Z"
   },
   {
    "duration": 98,
    "start_time": "2022-07-03T10:46:23.938Z"
   },
   {
    "duration": 27,
    "start_time": "2022-07-03T10:46:24.039Z"
   },
   {
    "duration": 75,
    "start_time": "2022-07-03T10:46:24.069Z"
   },
   {
    "duration": 88,
    "start_time": "2022-07-03T10:46:24.146Z"
   },
   {
    "duration": 110,
    "start_time": "2022-07-03T10:46:24.237Z"
   },
   {
    "duration": 35,
    "start_time": "2022-07-03T10:46:24.349Z"
   },
   {
    "duration": 41,
    "start_time": "2022-07-03T10:46:24.386Z"
   },
   {
    "duration": 6,
    "start_time": "2022-07-03T10:46:24.428Z"
   },
   {
    "duration": 6,
    "start_time": "2022-07-03T10:46:24.435Z"
   },
   {
    "duration": 6,
    "start_time": "2022-07-03T10:46:24.443Z"
   },
   {
    "duration": 260,
    "start_time": "2022-07-03T10:46:24.451Z"
   },
   {
    "duration": 0,
    "start_time": "2022-07-03T10:46:24.714Z"
   },
   {
    "duration": 0,
    "start_time": "2022-07-03T10:46:24.715Z"
   },
   {
    "duration": 0,
    "start_time": "2022-07-03T10:46:24.716Z"
   },
   {
    "duration": 0,
    "start_time": "2022-07-03T10:46:24.717Z"
   },
   {
    "duration": 0,
    "start_time": "2022-07-03T10:46:24.718Z"
   },
   {
    "duration": 0,
    "start_time": "2022-07-03T10:46:24.719Z"
   },
   {
    "duration": 0,
    "start_time": "2022-07-03T10:46:24.720Z"
   },
   {
    "duration": 0,
    "start_time": "2022-07-03T10:46:24.720Z"
   },
   {
    "duration": 0,
    "start_time": "2022-07-03T10:46:24.721Z"
   },
   {
    "duration": 0,
    "start_time": "2022-07-03T10:46:24.722Z"
   },
   {
    "duration": 12,
    "start_time": "2022-07-03T10:50:11.201Z"
   },
   {
    "duration": 2149,
    "start_time": "2022-07-03T10:50:11.225Z"
   },
   {
    "duration": 241,
    "start_time": "2022-07-03T10:50:13.381Z"
   },
   {
    "duration": 25,
    "start_time": "2022-07-03T10:50:13.623Z"
   },
   {
    "duration": 45,
    "start_time": "2022-07-03T10:50:13.650Z"
   },
   {
    "duration": 30,
    "start_time": "2022-07-03T10:50:13.711Z"
   },
   {
    "duration": 15,
    "start_time": "2022-07-03T10:50:13.743Z"
   },
   {
    "duration": 91,
    "start_time": "2022-07-03T10:50:13.761Z"
   },
   {
    "duration": 28,
    "start_time": "2022-07-03T10:50:13.855Z"
   },
   {
    "duration": 82,
    "start_time": "2022-07-03T10:50:13.885Z"
   },
   {
    "duration": 45,
    "start_time": "2022-07-03T10:50:13.975Z"
   },
   {
    "duration": 39,
    "start_time": "2022-07-03T10:50:14.023Z"
   },
   {
    "duration": 53,
    "start_time": "2022-07-03T10:50:14.064Z"
   },
   {
    "duration": 28,
    "start_time": "2022-07-03T10:50:14.121Z"
   },
   {
    "duration": 68,
    "start_time": "2022-07-03T10:50:14.180Z"
   },
   {
    "duration": 71,
    "start_time": "2022-07-03T10:50:14.250Z"
   },
   {
    "duration": 23,
    "start_time": "2022-07-03T10:50:14.326Z"
   },
   {
    "duration": 151,
    "start_time": "2022-07-03T10:50:14.351Z"
   },
   {
    "duration": 24,
    "start_time": "2022-07-03T10:50:14.504Z"
   },
   {
    "duration": 6,
    "start_time": "2022-07-03T10:50:14.536Z"
   },
   {
    "duration": 86,
    "start_time": "2022-07-03T10:50:14.543Z"
   },
   {
    "duration": 10,
    "start_time": "2022-07-03T10:50:14.631Z"
   },
   {
    "duration": 40,
    "start_time": "2022-07-03T10:50:14.643Z"
   },
   {
    "duration": 52,
    "start_time": "2022-07-03T10:50:14.685Z"
   },
   {
    "duration": 43,
    "start_time": "2022-07-03T10:50:14.740Z"
   },
   {
    "duration": 50,
    "start_time": "2022-07-03T10:50:14.785Z"
   },
   {
    "duration": 7,
    "start_time": "2022-07-03T10:50:14.837Z"
   },
   {
    "duration": 39,
    "start_time": "2022-07-03T10:50:14.847Z"
   },
   {
    "duration": 83,
    "start_time": "2022-07-03T10:50:14.888Z"
   },
   {
    "duration": 60,
    "start_time": "2022-07-03T10:50:14.973Z"
   },
   {
    "duration": 247,
    "start_time": "2022-07-03T10:50:15.036Z"
   },
   {
    "duration": 14,
    "start_time": "2022-07-03T10:50:15.292Z"
   },
   {
    "duration": 127,
    "start_time": "2022-07-03T10:50:15.314Z"
   },
   {
    "duration": 38,
    "start_time": "2022-07-03T10:50:15.444Z"
   },
   {
    "duration": 67,
    "start_time": "2022-07-03T10:50:15.484Z"
   },
   {
    "duration": 114,
    "start_time": "2022-07-03T10:50:15.559Z"
   },
   {
    "duration": 332,
    "start_time": "2022-07-03T10:50:15.675Z"
   },
   {
    "duration": 13,
    "start_time": "2022-07-03T10:50:16.012Z"
   },
   {
    "duration": 308,
    "start_time": "2022-07-03T10:50:16.032Z"
   },
   {
    "duration": 29,
    "start_time": "2022-07-03T10:50:16.343Z"
   },
   {
    "duration": 132,
    "start_time": "2022-07-03T10:50:16.374Z"
   },
   {
    "duration": 276,
    "start_time": "2022-07-03T10:50:16.511Z"
   },
   {
    "duration": 222,
    "start_time": "2022-07-03T10:50:16.789Z"
   },
   {
    "duration": 16,
    "start_time": "2022-07-03T10:50:17.015Z"
   },
   {
    "duration": 27,
    "start_time": "2022-07-03T10:50:17.033Z"
   },
   {
    "duration": 260,
    "start_time": "2022-07-03T10:50:17.062Z"
   },
   {
    "duration": 15,
    "start_time": "2022-07-03T10:50:17.325Z"
   },
   {
    "duration": 250,
    "start_time": "2022-07-03T10:50:17.342Z"
   },
   {
    "duration": 23,
    "start_time": "2022-07-03T10:50:17.610Z"
   },
   {
    "duration": 262,
    "start_time": "2022-07-03T10:50:17.636Z"
   },
   {
    "duration": 29,
    "start_time": "2022-07-03T10:50:17.900Z"
   },
   {
    "duration": 136,
    "start_time": "2022-07-03T10:50:17.931Z"
   },
   {
    "duration": 37,
    "start_time": "2022-07-03T10:50:18.069Z"
   },
   {
    "duration": 309,
    "start_time": "2022-07-03T10:50:18.108Z"
   },
   {
    "duration": 8,
    "start_time": "2022-07-03T10:50:18.420Z"
   },
   {
    "duration": 119,
    "start_time": "2022-07-03T10:50:18.430Z"
   },
   {
    "duration": 100,
    "start_time": "2022-07-03T10:50:18.557Z"
   },
   {
    "duration": 94,
    "start_time": "2022-07-03T10:50:18.660Z"
   },
   {
    "duration": 81,
    "start_time": "2022-07-03T10:50:18.757Z"
   },
   {
    "duration": 69,
    "start_time": "2022-07-03T10:50:18.843Z"
   },
   {
    "duration": 20,
    "start_time": "2022-07-03T10:50:18.916Z"
   },
   {
    "duration": 57,
    "start_time": "2022-07-03T10:50:18.938Z"
   },
   {
    "duration": 39,
    "start_time": "2022-07-03T10:50:19.004Z"
   },
   {
    "duration": 71,
    "start_time": "2022-07-03T10:50:19.046Z"
   },
   {
    "duration": 22,
    "start_time": "2022-07-03T10:50:19.121Z"
   },
   {
    "duration": 14,
    "start_time": "2022-07-03T10:50:19.147Z"
   },
   {
    "duration": 68,
    "start_time": "2022-07-03T10:50:19.168Z"
   },
   {
    "duration": 240,
    "start_time": "2022-07-03T10:50:19.238Z"
   },
   {
    "duration": 156,
    "start_time": "2022-07-03T10:50:19.486Z"
   },
   {
    "duration": 4,
    "start_time": "2022-07-03T10:50:19.645Z"
   },
   {
    "duration": 68,
    "start_time": "2022-07-03T10:50:19.652Z"
   },
   {
    "duration": 13,
    "start_time": "2022-07-03T10:50:19.723Z"
   },
   {
    "duration": 7,
    "start_time": "2022-07-03T10:50:19.739Z"
   },
   {
    "duration": 61,
    "start_time": "2022-07-03T10:50:19.749Z"
   },
   {
    "duration": 18,
    "start_time": "2022-07-03T10:50:19.812Z"
   },
   {
    "duration": 8,
    "start_time": "2022-07-03T10:50:19.832Z"
   },
   {
    "duration": 48,
    "start_time": "2022-07-03T10:50:19.842Z"
   },
   {
    "duration": 35,
    "start_time": "2022-07-03T10:50:19.892Z"
   },
   {
    "duration": 9,
    "start_time": "2022-07-03T10:50:19.929Z"
   },
   {
    "duration": 8,
    "start_time": "2022-07-03T10:50:19.940Z"
   },
   {
    "duration": 220,
    "start_time": "2022-07-03T10:50:19.950Z"
   },
   {
    "duration": 0,
    "start_time": "2022-07-03T10:50:20.177Z"
   },
   {
    "duration": 0,
    "start_time": "2022-07-03T10:50:20.178Z"
   },
   {
    "duration": 0,
    "start_time": "2022-07-03T10:50:20.179Z"
   },
   {
    "duration": 0,
    "start_time": "2022-07-03T10:50:20.180Z"
   },
   {
    "duration": 0,
    "start_time": "2022-07-03T10:50:20.181Z"
   },
   {
    "duration": 0,
    "start_time": "2022-07-03T10:50:20.183Z"
   },
   {
    "duration": 0,
    "start_time": "2022-07-03T10:50:20.185Z"
   },
   {
    "duration": 0,
    "start_time": "2022-07-03T10:50:20.192Z"
   },
   {
    "duration": 0,
    "start_time": "2022-07-03T10:50:20.193Z"
   },
   {
    "duration": 0,
    "start_time": "2022-07-03T10:50:20.195Z"
   },
   {
    "duration": 5,
    "start_time": "2022-07-03T10:51:26.001Z"
   },
   {
    "duration": 7,
    "start_time": "2022-07-03T10:51:31.109Z"
   },
   {
    "duration": 4,
    "start_time": "2022-07-03T10:51:35.239Z"
   },
   {
    "duration": 15941,
    "start_time": "2022-07-03T10:51:39.180Z"
   },
   {
    "duration": 321,
    "start_time": "2022-07-03T10:52:05.610Z"
   },
   {
    "duration": 1041,
    "start_time": "2022-07-03T10:52:10.345Z"
   },
   {
    "duration": 5,
    "start_time": "2022-07-03T10:52:13.240Z"
   },
   {
    "duration": 20,
    "start_time": "2022-07-03T10:52:14.586Z"
   },
   {
    "duration": 37,
    "start_time": "2022-07-03T10:53:36.125Z"
   },
   {
    "duration": 21,
    "start_time": "2022-07-03T10:53:49.120Z"
   },
   {
    "duration": 22,
    "start_time": "2022-07-03T10:54:35.689Z"
   },
   {
    "duration": 1698,
    "start_time": "2022-07-03T10:55:18.939Z"
   },
   {
    "duration": 15,
    "start_time": "2022-07-03T10:55:27.717Z"
   },
   {
    "duration": 28,
    "start_time": "2022-07-03T10:57:14.038Z"
   },
   {
    "duration": 12,
    "start_time": "2022-07-03T10:57:47.223Z"
   },
   {
    "duration": 8,
    "start_time": "2022-07-03T10:58:03.540Z"
   },
   {
    "duration": 62,
    "start_time": "2022-07-03T10:58:26.285Z"
   },
   {
    "duration": 22,
    "start_time": "2022-07-03T10:58:32.916Z"
   },
   {
    "duration": 60,
    "start_time": "2022-07-03T10:59:18.510Z"
   },
   {
    "duration": 5,
    "start_time": "2022-07-03T10:59:23.121Z"
   },
   {
    "duration": 11,
    "start_time": "2022-07-03T10:59:28.821Z"
   },
   {
    "duration": 14,
    "start_time": "2022-07-03T10:59:41.729Z"
   },
   {
    "duration": 26,
    "start_time": "2022-07-03T11:00:09.003Z"
   },
   {
    "duration": 26,
    "start_time": "2022-07-03T11:00:11.740Z"
   },
   {
    "duration": 8,
    "start_time": "2022-07-03T11:00:14.541Z"
   },
   {
    "duration": 220,
    "start_time": "2022-07-03T11:00:19.397Z"
   },
   {
    "duration": 22,
    "start_time": "2022-07-03T11:01:58.721Z"
   },
   {
    "duration": 4,
    "start_time": "2022-07-03T11:11:55.013Z"
   },
   {
    "duration": 1409,
    "start_time": "2022-07-03T11:14:10.732Z"
   },
   {
    "duration": 3,
    "start_time": "2022-07-03T11:14:44.306Z"
   },
   {
    "duration": 60,
    "start_time": "2022-07-03T11:15:59.111Z"
   },
   {
    "duration": 51,
    "start_time": "2022-07-03T11:16:20.554Z"
   },
   {
    "duration": 44,
    "start_time": "2022-07-03T11:16:26.793Z"
   },
   {
    "duration": 29,
    "start_time": "2022-07-03T11:20:04.747Z"
   },
   {
    "duration": 17,
    "start_time": "2022-07-03T11:22:51.130Z"
   },
   {
    "duration": 6,
    "start_time": "2022-07-03T11:47:52.022Z"
   },
   {
    "duration": 31,
    "start_time": "2022-07-03T11:48:05.482Z"
   },
   {
    "duration": 17,
    "start_time": "2022-07-03T11:48:50.493Z"
   },
   {
    "duration": 1412,
    "start_time": "2022-07-03T11:49:26.720Z"
   },
   {
    "duration": 1647,
    "start_time": "2022-07-03T11:49:51.443Z"
   },
   {
    "duration": 16,
    "start_time": "2022-07-03T12:00:51.875Z"
   },
   {
    "duration": 26,
    "start_time": "2022-07-03T12:01:37.476Z"
   },
   {
    "duration": 21,
    "start_time": "2022-07-03T12:02:55.319Z"
   },
   {
    "duration": 58,
    "start_time": "2022-07-03T12:03:06.009Z"
   },
   {
    "duration": 4089,
    "start_time": "2022-07-03T12:19:23.096Z"
   },
   {
    "duration": 3043,
    "start_time": "2022-07-03T12:19:27.187Z"
   },
   {
    "duration": 190,
    "start_time": "2022-07-03T12:19:30.233Z"
   },
   {
    "duration": 19,
    "start_time": "2022-07-03T12:19:30.427Z"
   },
   {
    "duration": 13,
    "start_time": "2022-07-03T12:19:30.448Z"
   },
   {
    "duration": 21,
    "start_time": "2022-07-03T12:19:30.463Z"
   },
   {
    "duration": 29,
    "start_time": "2022-07-03T12:19:30.486Z"
   },
   {
    "duration": 65,
    "start_time": "2022-07-03T12:19:30.521Z"
   },
   {
    "duration": 45,
    "start_time": "2022-07-03T12:19:30.588Z"
   },
   {
    "duration": 105,
    "start_time": "2022-07-03T12:19:30.637Z"
   },
   {
    "duration": 18,
    "start_time": "2022-07-03T12:19:30.744Z"
   },
   {
    "duration": 74,
    "start_time": "2022-07-03T12:19:30.775Z"
   },
   {
    "duration": 79,
    "start_time": "2022-07-03T12:19:30.851Z"
   },
   {
    "duration": 50,
    "start_time": "2022-07-03T12:19:30.932Z"
   },
   {
    "duration": 45,
    "start_time": "2022-07-03T12:19:31.000Z"
   },
   {
    "duration": 52,
    "start_time": "2022-07-03T12:19:31.047Z"
   },
   {
    "duration": 44,
    "start_time": "2022-07-03T12:19:31.105Z"
   },
   {
    "duration": 134,
    "start_time": "2022-07-03T12:19:31.151Z"
   },
   {
    "duration": 7,
    "start_time": "2022-07-03T12:19:31.288Z"
   },
   {
    "duration": 48,
    "start_time": "2022-07-03T12:19:31.297Z"
   },
   {
    "duration": 95,
    "start_time": "2022-07-03T12:19:31.348Z"
   },
   {
    "duration": 88,
    "start_time": "2022-07-03T12:19:31.445Z"
   },
   {
    "duration": 6,
    "start_time": "2022-07-03T12:19:31.535Z"
   },
   {
    "duration": 174,
    "start_time": "2022-07-03T12:19:31.543Z"
   },
   {
    "duration": 7,
    "start_time": "2022-07-03T12:19:31.723Z"
   },
   {
    "duration": 88,
    "start_time": "2022-07-03T12:19:31.732Z"
   },
   {
    "duration": 14748,
    "start_time": "2022-07-03T12:19:31.822Z"
   },
   {
    "duration": 8,
    "start_time": "2022-07-03T12:19:46.577Z"
   },
   {
    "duration": 58,
    "start_time": "2022-07-03T12:19:46.587Z"
   },
   {
    "duration": 386,
    "start_time": "2022-07-03T12:19:46.648Z"
   },
   {
    "duration": 12,
    "start_time": "2022-07-03T12:19:47.036Z"
   },
   {
    "duration": 288,
    "start_time": "2022-07-03T12:19:47.059Z"
   },
   {
    "duration": 21,
    "start_time": "2022-07-03T12:19:47.349Z"
   },
   {
    "duration": 55,
    "start_time": "2022-07-03T12:19:47.373Z"
   },
   {
    "duration": 240,
    "start_time": "2022-07-03T12:19:47.431Z"
   },
   {
    "duration": 244,
    "start_time": "2022-07-03T12:19:47.673Z"
   },
   {
    "duration": 22,
    "start_time": "2022-07-03T12:19:47.925Z"
   },
   {
    "duration": 31,
    "start_time": "2022-07-03T12:19:47.950Z"
   },
   {
    "duration": 269,
    "start_time": "2022-07-03T12:19:47.992Z"
   },
   {
    "duration": 36,
    "start_time": "2022-07-03T12:19:48.266Z"
   },
   {
    "duration": 238,
    "start_time": "2022-07-03T12:19:48.307Z"
   },
   {
    "duration": 58,
    "start_time": "2022-07-03T12:19:48.547Z"
   },
   {
    "duration": 182,
    "start_time": "2022-07-03T12:19:48.615Z"
   },
   {
    "duration": 22,
    "start_time": "2022-07-03T12:19:48.814Z"
   },
   {
    "duration": 271,
    "start_time": "2022-07-03T12:19:48.838Z"
   },
   {
    "duration": 20,
    "start_time": "2022-07-03T12:19:49.117Z"
   },
   {
    "duration": 227,
    "start_time": "2022-07-03T12:19:49.139Z"
   },
   {
    "duration": 10,
    "start_time": "2022-07-03T12:19:49.368Z"
   },
   {
    "duration": 54,
    "start_time": "2022-07-03T12:19:49.380Z"
   },
   {
    "duration": 10,
    "start_time": "2022-07-03T12:19:49.437Z"
   },
   {
    "duration": 52,
    "start_time": "2022-07-03T12:19:49.449Z"
   },
   {
    "duration": 29,
    "start_time": "2022-07-03T12:19:49.503Z"
   },
   {
    "duration": 11,
    "start_time": "2022-07-03T12:19:49.534Z"
   },
   {
    "duration": 36,
    "start_time": "2022-07-03T12:19:49.548Z"
   },
   {
    "duration": 54,
    "start_time": "2022-07-03T12:19:49.587Z"
   },
   {
    "duration": 41,
    "start_time": "2022-07-03T12:19:49.643Z"
   },
   {
    "duration": 138,
    "start_time": "2022-07-03T12:19:49.686Z"
   },
   {
    "duration": 0,
    "start_time": "2022-07-03T12:19:49.826Z"
   },
   {
    "duration": 0,
    "start_time": "2022-07-03T12:19:49.828Z"
   },
   {
    "duration": 0,
    "start_time": "2022-07-03T12:19:49.830Z"
   },
   {
    "duration": 0,
    "start_time": "2022-07-03T12:19:49.832Z"
   },
   {
    "duration": 0,
    "start_time": "2022-07-03T12:19:49.833Z"
   },
   {
    "duration": 0,
    "start_time": "2022-07-03T12:19:49.835Z"
   },
   {
    "duration": 0,
    "start_time": "2022-07-03T12:19:49.837Z"
   },
   {
    "duration": 0,
    "start_time": "2022-07-03T12:19:49.839Z"
   },
   {
    "duration": 0,
    "start_time": "2022-07-03T12:19:49.840Z"
   },
   {
    "duration": 0,
    "start_time": "2022-07-03T12:19:49.844Z"
   },
   {
    "duration": 0,
    "start_time": "2022-07-03T12:19:49.846Z"
   },
   {
    "duration": 0,
    "start_time": "2022-07-03T12:19:49.847Z"
   },
   {
    "duration": 2741,
    "start_time": "2022-07-03T12:21:39.216Z"
   },
   {
    "duration": 2042,
    "start_time": "2022-07-03T12:21:41.960Z"
   },
   {
    "duration": 215,
    "start_time": "2022-07-03T12:21:44.005Z"
   },
   {
    "duration": 23,
    "start_time": "2022-07-03T12:21:44.223Z"
   },
   {
    "duration": 78,
    "start_time": "2022-07-03T12:21:44.248Z"
   },
   {
    "duration": 33,
    "start_time": "2022-07-03T12:21:44.328Z"
   },
   {
    "duration": 92,
    "start_time": "2022-07-03T12:21:44.363Z"
   },
   {
    "duration": 93,
    "start_time": "2022-07-03T12:21:44.462Z"
   },
   {
    "duration": 38,
    "start_time": "2022-07-03T12:21:44.559Z"
   },
   {
    "duration": 41,
    "start_time": "2022-07-03T12:21:44.604Z"
   },
   {
    "duration": 18,
    "start_time": "2022-07-03T12:21:44.648Z"
   },
   {
    "duration": 86,
    "start_time": "2022-07-03T12:21:44.669Z"
   },
   {
    "duration": 46,
    "start_time": "2022-07-03T12:21:44.760Z"
   },
   {
    "duration": 37,
    "start_time": "2022-07-03T12:21:44.809Z"
   },
   {
    "duration": 57,
    "start_time": "2022-07-03T12:21:44.849Z"
   },
   {
    "duration": 22,
    "start_time": "2022-07-03T12:21:44.908Z"
   },
   {
    "duration": 16,
    "start_time": "2022-07-03T12:21:44.934Z"
   },
   {
    "duration": 80,
    "start_time": "2022-07-03T12:21:44.960Z"
   },
   {
    "duration": 7,
    "start_time": "2022-07-03T12:21:45.043Z"
   },
   {
    "duration": 47,
    "start_time": "2022-07-03T12:21:45.052Z"
   },
   {
    "duration": 36,
    "start_time": "2022-07-03T12:21:45.103Z"
   },
   {
    "duration": 102,
    "start_time": "2022-07-03T12:21:45.141Z"
   },
   {
    "duration": 18,
    "start_time": "2022-07-03T12:21:45.246Z"
   },
   {
    "duration": 240,
    "start_time": "2022-07-03T12:21:45.274Z"
   },
   {
    "duration": 7,
    "start_time": "2022-07-03T12:21:45.516Z"
   },
   {
    "duration": 26,
    "start_time": "2022-07-03T12:21:45.525Z"
   },
   {
    "duration": 14667,
    "start_time": "2022-07-03T12:21:45.567Z"
   },
   {
    "duration": 3,
    "start_time": "2022-07-03T12:22:00.245Z"
   },
   {
    "duration": 85,
    "start_time": "2022-07-03T12:22:00.250Z"
   },
   {
    "duration": 284,
    "start_time": "2022-07-03T12:22:00.337Z"
   },
   {
    "duration": 11,
    "start_time": "2022-07-03T12:22:00.623Z"
   },
   {
    "duration": 298,
    "start_time": "2022-07-03T12:22:00.636Z"
   },
   {
    "duration": 49,
    "start_time": "2022-07-03T12:22:00.937Z"
   },
   {
    "duration": 89,
    "start_time": "2022-07-03T12:22:00.989Z"
   },
   {
    "duration": 271,
    "start_time": "2022-07-03T12:22:01.094Z"
   },
   {
    "duration": 270,
    "start_time": "2022-07-03T12:22:01.367Z"
   },
   {
    "duration": 32,
    "start_time": "2022-07-03T12:22:01.642Z"
   },
   {
    "duration": 87,
    "start_time": "2022-07-03T12:22:01.679Z"
   },
   {
    "duration": 263,
    "start_time": "2022-07-03T12:22:01.773Z"
   },
   {
    "duration": 14,
    "start_time": "2022-07-03T12:22:02.045Z"
   },
   {
    "duration": 222,
    "start_time": "2022-07-03T12:22:02.061Z"
   },
   {
    "duration": 39,
    "start_time": "2022-07-03T12:22:02.290Z"
   },
   {
    "duration": 191,
    "start_time": "2022-07-03T12:22:02.335Z"
   },
   {
    "duration": 16,
    "start_time": "2022-07-03T12:22:02.528Z"
   },
   {
    "duration": 232,
    "start_time": "2022-07-03T12:22:02.546Z"
   },
   {
    "duration": 25,
    "start_time": "2022-07-03T12:22:02.786Z"
   },
   {
    "duration": 245,
    "start_time": "2022-07-03T12:22:02.825Z"
   },
   {
    "duration": 13,
    "start_time": "2022-07-03T12:22:03.073Z"
   },
   {
    "duration": 48,
    "start_time": "2022-07-03T12:22:03.094Z"
   },
   {
    "duration": 81,
    "start_time": "2022-07-03T12:22:03.145Z"
   },
   {
    "duration": 18,
    "start_time": "2022-07-03T12:22:03.228Z"
   },
   {
    "duration": 84,
    "start_time": "2022-07-03T12:22:03.248Z"
   },
   {
    "duration": 12,
    "start_time": "2022-07-03T12:22:03.335Z"
   },
   {
    "duration": 65,
    "start_time": "2022-07-03T12:22:03.350Z"
   },
   {
    "duration": 13,
    "start_time": "2022-07-03T12:22:03.418Z"
   },
   {
    "duration": 13,
    "start_time": "2022-07-03T12:22:03.433Z"
   },
   {
    "duration": 64,
    "start_time": "2022-07-03T12:22:03.448Z"
   },
   {
    "duration": 12,
    "start_time": "2022-07-03T12:22:03.515Z"
   },
   {
    "duration": 11,
    "start_time": "2022-07-03T12:22:03.529Z"
   },
   {
    "duration": 12996,
    "start_time": "2022-07-03T12:22:03.543Z"
   },
   {
    "duration": 354,
    "start_time": "2022-07-03T12:22:16.541Z"
   },
   {
    "duration": 826,
    "start_time": "2022-07-03T12:22:16.905Z"
   },
   {
    "duration": 6,
    "start_time": "2022-07-03T12:22:17.736Z"
   },
   {
    "duration": 72,
    "start_time": "2022-07-03T12:22:17.744Z"
   },
   {
    "duration": 29,
    "start_time": "2022-07-03T12:22:17.818Z"
   },
   {
    "duration": 80,
    "start_time": "2022-07-03T12:22:17.849Z"
   },
   {
    "duration": 699,
    "start_time": "2022-07-03T12:22:17.932Z"
   },
   {
    "duration": 0,
    "start_time": "2022-07-03T12:22:18.633Z"
   },
   {
    "duration": 1,
    "start_time": "2022-07-03T12:22:18.634Z"
   },
   {
    "duration": 16,
    "start_time": "2022-07-03T12:24:21.345Z"
   },
   {
    "duration": 8,
    "start_time": "2022-07-03T12:24:27.515Z"
   },
   {
    "duration": 26,
    "start_time": "2022-07-03T12:24:50.474Z"
   },
   {
    "duration": 3216,
    "start_time": "2022-07-03T12:25:04.817Z"
   },
   {
    "duration": 5658,
    "start_time": "2022-07-03T12:25:08.036Z"
   },
   {
    "duration": 232,
    "start_time": "2022-07-03T12:25:13.696Z"
   },
   {
    "duration": 51,
    "start_time": "2022-07-03T12:25:13.931Z"
   },
   {
    "duration": 29,
    "start_time": "2022-07-03T12:25:13.985Z"
   },
   {
    "duration": 54,
    "start_time": "2022-07-03T12:25:14.023Z"
   },
   {
    "duration": 45,
    "start_time": "2022-07-03T12:25:14.089Z"
   },
   {
    "duration": 36,
    "start_time": "2022-07-03T12:25:14.136Z"
   },
   {
    "duration": 72,
    "start_time": "2022-07-03T12:25:14.174Z"
   },
   {
    "duration": 42,
    "start_time": "2022-07-03T12:25:14.248Z"
   },
   {
    "duration": 30,
    "start_time": "2022-07-03T12:25:14.301Z"
   },
   {
    "duration": 59,
    "start_time": "2022-07-03T12:25:14.333Z"
   },
   {
    "duration": 37,
    "start_time": "2022-07-03T12:25:14.394Z"
   },
   {
    "duration": 21,
    "start_time": "2022-07-03T12:25:14.434Z"
   },
   {
    "duration": 46,
    "start_time": "2022-07-03T12:25:14.460Z"
   },
   {
    "duration": 23,
    "start_time": "2022-07-03T12:25:14.508Z"
   },
   {
    "duration": 16,
    "start_time": "2022-07-03T12:25:14.534Z"
   },
   {
    "duration": 93,
    "start_time": "2022-07-03T12:25:14.556Z"
   },
   {
    "duration": 25,
    "start_time": "2022-07-03T12:25:14.650Z"
   },
   {
    "duration": 42,
    "start_time": "2022-07-03T12:25:14.684Z"
   },
   {
    "duration": 15,
    "start_time": "2022-07-03T12:25:14.728Z"
   },
   {
    "duration": 71,
    "start_time": "2022-07-03T12:25:14.745Z"
   },
   {
    "duration": 13,
    "start_time": "2022-07-03T12:25:14.821Z"
   },
   {
    "duration": 170,
    "start_time": "2022-07-03T12:25:14.835Z"
   },
   {
    "duration": 9,
    "start_time": "2022-07-03T12:25:15.007Z"
   },
   {
    "duration": 31,
    "start_time": "2022-07-03T12:25:15.018Z"
   },
   {
    "duration": 14529,
    "start_time": "2022-07-03T12:25:15.051Z"
   },
   {
    "duration": 14,
    "start_time": "2022-07-03T12:25:29.592Z"
   },
   {
    "duration": 19,
    "start_time": "2022-07-03T12:25:29.614Z"
   },
   {
    "duration": 280,
    "start_time": "2022-07-03T12:25:29.635Z"
   },
   {
    "duration": 12,
    "start_time": "2022-07-03T12:25:29.925Z"
   },
   {
    "duration": 259,
    "start_time": "2022-07-03T12:25:29.939Z"
   },
   {
    "duration": 48,
    "start_time": "2022-07-03T12:25:30.203Z"
   },
   {
    "duration": 61,
    "start_time": "2022-07-03T12:25:30.271Z"
   },
   {
    "duration": 351,
    "start_time": "2022-07-03T12:25:30.339Z"
   },
   {
    "duration": 265,
    "start_time": "2022-07-03T12:25:30.702Z"
   },
   {
    "duration": 19,
    "start_time": "2022-07-03T12:25:30.977Z"
   },
   {
    "duration": 85,
    "start_time": "2022-07-03T12:25:31.003Z"
   },
   {
    "duration": 168,
    "start_time": "2022-07-03T12:25:31.096Z"
   },
   {
    "duration": 18,
    "start_time": "2022-07-03T12:25:31.270Z"
   },
   {
    "duration": 214,
    "start_time": "2022-07-03T12:25:31.300Z"
   },
   {
    "duration": 17,
    "start_time": "2022-07-03T12:25:31.516Z"
   },
   {
    "duration": 171,
    "start_time": "2022-07-03T12:25:31.536Z"
   },
   {
    "duration": 13,
    "start_time": "2022-07-03T12:25:31.711Z"
   },
   {
    "duration": 200,
    "start_time": "2022-07-03T12:25:31.726Z"
   },
   {
    "duration": 32,
    "start_time": "2022-07-03T12:25:31.928Z"
   },
   {
    "duration": 284,
    "start_time": "2022-07-03T12:25:31.962Z"
   },
   {
    "duration": 17,
    "start_time": "2022-07-03T12:25:32.248Z"
   },
   {
    "duration": 38,
    "start_time": "2022-07-03T12:25:32.277Z"
   },
   {
    "duration": 30,
    "start_time": "2022-07-03T12:25:32.317Z"
   },
   {
    "duration": 76,
    "start_time": "2022-07-03T12:25:32.358Z"
   },
   {
    "duration": 22,
    "start_time": "2022-07-03T12:25:32.436Z"
   },
   {
    "duration": 88,
    "start_time": "2022-07-03T12:25:32.460Z"
   },
   {
    "duration": 74,
    "start_time": "2022-07-03T12:25:32.551Z"
   },
   {
    "duration": 13,
    "start_time": "2022-07-03T12:25:32.628Z"
   },
   {
    "duration": 75,
    "start_time": "2022-07-03T12:25:32.643Z"
   },
   {
    "duration": 15,
    "start_time": "2022-07-03T12:25:32.720Z"
   },
   {
    "duration": 18,
    "start_time": "2022-07-03T12:25:32.738Z"
   },
   {
    "duration": 73,
    "start_time": "2022-07-03T12:25:32.758Z"
   },
   {
    "duration": 11611,
    "start_time": "2022-07-03T12:25:32.833Z"
   },
   {
    "duration": 275,
    "start_time": "2022-07-03T12:25:44.446Z"
   },
   {
    "duration": 775,
    "start_time": "2022-07-03T12:25:44.723Z"
   },
   {
    "duration": 7,
    "start_time": "2022-07-03T12:25:45.507Z"
   },
   {
    "duration": 16,
    "start_time": "2022-07-03T12:25:45.519Z"
   },
   {
    "duration": 18,
    "start_time": "2022-07-03T12:25:45.537Z"
   },
   {
    "duration": 67,
    "start_time": "2022-07-03T12:25:45.560Z"
   },
   {
    "duration": 13,
    "start_time": "2022-07-03T12:25:45.629Z"
   },
   {
    "duration": 11,
    "start_time": "2022-07-03T12:25:45.644Z"
   },
   {
    "duration": 297,
    "start_time": "2022-07-03T12:25:45.667Z"
   },
   {
    "duration": 3216,
    "start_time": "2022-07-04T17:15:36.292Z"
   },
   {
    "duration": 139,
    "start_time": "2022-07-04T17:15:43.869Z"
   },
   {
    "duration": 22,
    "start_time": "2022-07-04T17:15:47.670Z"
   },
   {
    "duration": 11,
    "start_time": "2022-07-04T17:15:48.955Z"
   },
   {
    "duration": 10,
    "start_time": "2022-07-04T17:15:49.525Z"
   },
   {
    "duration": 7,
    "start_time": "2022-07-04T17:15:49.788Z"
   },
   {
    "duration": 35,
    "start_time": "2022-07-04T17:15:50.735Z"
   },
   {
    "duration": 28,
    "start_time": "2022-07-04T17:15:51.347Z"
   },
   {
    "duration": 46,
    "start_time": "2022-07-04T20:15:44.959Z"
   },
   {
    "duration": 4,
    "start_time": "2022-07-04T20:16:00.516Z"
   },
   {
    "duration": 1522,
    "start_time": "2022-07-04T20:16:00.522Z"
   },
   {
    "duration": 205,
    "start_time": "2022-07-04T20:16:02.046Z"
   },
   {
    "duration": 14,
    "start_time": "2022-07-04T20:16:02.253Z"
   },
   {
    "duration": 8,
    "start_time": "2022-07-04T20:16:02.269Z"
   },
   {
    "duration": 16,
    "start_time": "2022-07-04T20:16:02.279Z"
   },
   {
    "duration": 10,
    "start_time": "2022-07-04T20:16:02.297Z"
   },
   {
    "duration": 41,
    "start_time": "2022-07-04T20:16:02.309Z"
   },
   {
    "duration": 21,
    "start_time": "2022-07-04T20:16:02.352Z"
   },
   {
    "duration": 24,
    "start_time": "2022-07-04T20:16:02.375Z"
   },
   {
    "duration": 5,
    "start_time": "2022-07-04T20:16:02.401Z"
   },
   {
    "duration": 28,
    "start_time": "2022-07-04T20:16:02.408Z"
   },
   {
    "duration": 11,
    "start_time": "2022-07-04T20:16:02.438Z"
   },
   {
    "duration": 11,
    "start_time": "2022-07-04T20:16:02.452Z"
   },
   {
    "duration": 11,
    "start_time": "2022-07-04T20:16:02.465Z"
   },
   {
    "duration": 7,
    "start_time": "2022-07-04T20:16:02.478Z"
   },
   {
    "duration": 38,
    "start_time": "2022-07-04T20:16:02.486Z"
   },
   {
    "duration": 36,
    "start_time": "2022-07-04T20:16:02.526Z"
   },
   {
    "duration": 4,
    "start_time": "2022-07-04T20:16:02.564Z"
   },
   {
    "duration": 10,
    "start_time": "2022-07-04T20:16:02.570Z"
   },
   {
    "duration": 7,
    "start_time": "2022-07-04T20:16:02.582Z"
   },
   {
    "duration": 62,
    "start_time": "2022-07-04T20:16:02.591Z"
   },
   {
    "duration": 6,
    "start_time": "2022-07-04T20:16:02.655Z"
   },
   {
    "duration": 137,
    "start_time": "2022-07-04T20:16:02.664Z"
   },
   {
    "duration": 5,
    "start_time": "2022-07-04T20:16:02.803Z"
   },
   {
    "duration": 7,
    "start_time": "2022-07-04T20:16:02.822Z"
   },
   {
    "duration": 7,
    "start_time": "2022-07-04T20:16:02.830Z"
   },
   {
    "duration": 9,
    "start_time": "2022-07-04T20:16:02.839Z"
   },
   {
    "duration": 22,
    "start_time": "2022-07-04T20:16:02.850Z"
   },
   {
    "duration": 13,
    "start_time": "2022-07-04T20:16:02.874Z"
   },
   {
    "duration": 188,
    "start_time": "2022-07-04T20:16:02.889Z"
   },
   {
    "duration": 8,
    "start_time": "2022-07-04T20:16:03.079Z"
   },
   {
    "duration": 197,
    "start_time": "2022-07-04T20:16:03.089Z"
   },
   {
    "duration": 29,
    "start_time": "2022-07-04T20:16:03.288Z"
   },
   {
    "duration": 24,
    "start_time": "2022-07-04T20:16:03.319Z"
   },
   {
    "duration": 187,
    "start_time": "2022-07-04T20:16:03.345Z"
   },
   {
    "duration": 244,
    "start_time": "2022-07-04T20:16:03.534Z"
   },
   {
    "duration": 11,
    "start_time": "2022-07-04T20:16:03.779Z"
   },
   {
    "duration": 24,
    "start_time": "2022-07-04T20:16:03.791Z"
   },
   {
    "duration": 115,
    "start_time": "2022-07-04T20:16:03.823Z"
   },
   {
    "duration": 12,
    "start_time": "2022-07-04T20:16:03.943Z"
   },
   {
    "duration": 138,
    "start_time": "2022-07-04T20:16:03.957Z"
   },
   {
    "duration": 14,
    "start_time": "2022-07-04T20:16:04.097Z"
   },
   {
    "duration": 119,
    "start_time": "2022-07-04T20:16:04.113Z"
   },
   {
    "duration": 12,
    "start_time": "2022-07-04T20:16:04.233Z"
   },
   {
    "duration": 120,
    "start_time": "2022-07-04T20:16:04.246Z"
   },
   {
    "duration": 16,
    "start_time": "2022-07-04T20:16:04.368Z"
   },
   {
    "duration": 141,
    "start_time": "2022-07-04T20:16:04.385Z"
   },
   {
    "duration": 5,
    "start_time": "2022-07-04T20:16:04.528Z"
   },
   {
    "duration": 17,
    "start_time": "2022-07-04T20:16:04.534Z"
   },
   {
    "duration": 8,
    "start_time": "2022-07-04T20:16:04.553Z"
   },
   {
    "duration": 17,
    "start_time": "2022-07-04T20:16:04.563Z"
   },
   {
    "duration": 10,
    "start_time": "2022-07-04T20:16:04.581Z"
   },
   {
    "duration": 7,
    "start_time": "2022-07-04T20:16:04.593Z"
   },
   {
    "duration": 25,
    "start_time": "2022-07-04T20:16:04.602Z"
   },
   {
    "duration": 8,
    "start_time": "2022-07-04T20:16:04.628Z"
   },
   {
    "duration": 16,
    "start_time": "2022-07-04T20:16:04.637Z"
   },
   {
    "duration": 8,
    "start_time": "2022-07-04T20:16:04.655Z"
   },
   {
    "duration": 4,
    "start_time": "2022-07-04T20:16:04.665Z"
   },
   {
    "duration": 5,
    "start_time": "2022-07-04T20:16:04.671Z"
   },
   {
    "duration": 7037,
    "start_time": "2022-07-04T20:16:04.678Z"
   },
   {
    "duration": 138,
    "start_time": "2022-07-04T20:16:11.718Z"
   },
   {
    "duration": 485,
    "start_time": "2022-07-04T20:16:11.858Z"
   },
   {
    "duration": 3,
    "start_time": "2022-07-04T20:16:12.345Z"
   },
   {
    "duration": 14,
    "start_time": "2022-07-04T20:16:12.350Z"
   },
   {
    "duration": 12,
    "start_time": "2022-07-04T20:16:12.366Z"
   },
   {
    "duration": 20,
    "start_time": "2022-07-04T20:16:12.379Z"
   },
   {
    "duration": 22,
    "start_time": "2022-07-04T20:16:12.401Z"
   },
   {
    "duration": 17,
    "start_time": "2022-07-04T20:16:12.425Z"
   },
   {
    "duration": 175,
    "start_time": "2022-07-04T20:16:12.443Z"
   },
   {
    "duration": 4,
    "start_time": "2022-07-04T20:17:07.456Z"
   },
   {
    "duration": 1362,
    "start_time": "2022-07-04T20:17:07.465Z"
   },
   {
    "duration": 97,
    "start_time": "2022-07-04T20:17:08.829Z"
   },
   {
    "duration": 17,
    "start_time": "2022-07-04T20:17:08.928Z"
   },
   {
    "duration": 18,
    "start_time": "2022-07-04T20:17:08.947Z"
   },
   {
    "duration": 28,
    "start_time": "2022-07-04T20:17:08.968Z"
   },
   {
    "duration": 20,
    "start_time": "2022-07-04T20:17:08.998Z"
   },
   {
    "duration": 38,
    "start_time": "2022-07-04T20:17:09.023Z"
   },
   {
    "duration": 27,
    "start_time": "2022-07-04T20:17:09.063Z"
   },
   {
    "duration": 41,
    "start_time": "2022-07-04T20:17:09.092Z"
   },
   {
    "duration": 8,
    "start_time": "2022-07-04T20:17:09.135Z"
   },
   {
    "duration": 27,
    "start_time": "2022-07-04T20:17:09.145Z"
   },
   {
    "duration": 19,
    "start_time": "2022-07-04T20:17:09.174Z"
   },
   {
    "duration": 42,
    "start_time": "2022-07-04T20:17:09.195Z"
   },
   {
    "duration": 28,
    "start_time": "2022-07-04T20:17:09.241Z"
   },
   {
    "duration": 10,
    "start_time": "2022-07-04T20:17:09.270Z"
   },
   {
    "duration": 22,
    "start_time": "2022-07-04T20:17:09.282Z"
   },
   {
    "duration": 36,
    "start_time": "2022-07-04T20:17:09.306Z"
   },
   {
    "duration": 5,
    "start_time": "2022-07-04T20:17:09.344Z"
   },
   {
    "duration": 8,
    "start_time": "2022-07-04T20:17:09.352Z"
   },
   {
    "duration": 23,
    "start_time": "2022-07-04T20:17:09.362Z"
   },
   {
    "duration": 37,
    "start_time": "2022-07-04T20:17:09.387Z"
   },
   {
    "duration": 5,
    "start_time": "2022-07-04T20:17:09.426Z"
   },
   {
    "duration": 127,
    "start_time": "2022-07-04T20:17:09.432Z"
   },
   {
    "duration": 4,
    "start_time": "2022-07-04T20:17:09.560Z"
   },
   {
    "duration": 8,
    "start_time": "2022-07-04T20:17:09.566Z"
   },
   {
    "duration": 4,
    "start_time": "2022-07-04T20:17:09.576Z"
   },
   {
    "duration": 6,
    "start_time": "2022-07-04T20:17:09.581Z"
   },
   {
    "duration": 35,
    "start_time": "2022-07-04T20:17:09.589Z"
   },
   {
    "duration": 105,
    "start_time": "2022-07-04T20:17:09.626Z"
   },
   {
    "duration": 0,
    "start_time": "2022-07-04T20:17:09.734Z"
   },
   {
    "duration": 0,
    "start_time": "2022-07-04T20:17:09.737Z"
   },
   {
    "duration": 0,
    "start_time": "2022-07-04T20:17:09.738Z"
   },
   {
    "duration": 0,
    "start_time": "2022-07-04T20:17:09.743Z"
   },
   {
    "duration": 0,
    "start_time": "2022-07-04T20:17:09.744Z"
   },
   {
    "duration": 1,
    "start_time": "2022-07-04T20:17:09.745Z"
   },
   {
    "duration": 0,
    "start_time": "2022-07-04T20:17:09.748Z"
   },
   {
    "duration": 0,
    "start_time": "2022-07-04T20:17:09.749Z"
   },
   {
    "duration": 0,
    "start_time": "2022-07-04T20:17:09.750Z"
   },
   {
    "duration": 0,
    "start_time": "2022-07-04T20:17:09.751Z"
   },
   {
    "duration": 0,
    "start_time": "2022-07-04T20:17:09.753Z"
   },
   {
    "duration": 0,
    "start_time": "2022-07-04T20:17:09.754Z"
   },
   {
    "duration": 0,
    "start_time": "2022-07-04T20:17:09.755Z"
   },
   {
    "duration": 0,
    "start_time": "2022-07-04T20:17:09.756Z"
   },
   {
    "duration": 0,
    "start_time": "2022-07-04T20:17:09.757Z"
   },
   {
    "duration": 0,
    "start_time": "2022-07-04T20:17:09.758Z"
   },
   {
    "duration": 0,
    "start_time": "2022-07-04T20:17:09.759Z"
   },
   {
    "duration": 0,
    "start_time": "2022-07-04T20:17:09.761Z"
   },
   {
    "duration": 0,
    "start_time": "2022-07-04T20:17:09.762Z"
   },
   {
    "duration": 0,
    "start_time": "2022-07-04T20:17:09.763Z"
   },
   {
    "duration": 0,
    "start_time": "2022-07-04T20:17:09.764Z"
   },
   {
    "duration": 0,
    "start_time": "2022-07-04T20:17:09.765Z"
   },
   {
    "duration": 0,
    "start_time": "2022-07-04T20:17:09.766Z"
   },
   {
    "duration": 0,
    "start_time": "2022-07-04T20:17:09.767Z"
   },
   {
    "duration": 0,
    "start_time": "2022-07-04T20:17:09.769Z"
   },
   {
    "duration": 0,
    "start_time": "2022-07-04T20:17:09.770Z"
   },
   {
    "duration": 0,
    "start_time": "2022-07-04T20:17:09.771Z"
   },
   {
    "duration": 0,
    "start_time": "2022-07-04T20:17:09.772Z"
   },
   {
    "duration": 0,
    "start_time": "2022-07-04T20:17:09.823Z"
   },
   {
    "duration": 0,
    "start_time": "2022-07-04T20:17:09.824Z"
   },
   {
    "duration": 0,
    "start_time": "2022-07-04T20:17:09.826Z"
   },
   {
    "duration": 0,
    "start_time": "2022-07-04T20:17:09.827Z"
   },
   {
    "duration": 0,
    "start_time": "2022-07-04T20:17:09.828Z"
   },
   {
    "duration": 0,
    "start_time": "2022-07-04T20:17:09.829Z"
   },
   {
    "duration": 0,
    "start_time": "2022-07-04T20:17:09.830Z"
   },
   {
    "duration": 0,
    "start_time": "2022-07-04T20:17:09.831Z"
   },
   {
    "duration": 0,
    "start_time": "2022-07-04T20:17:09.832Z"
   },
   {
    "duration": 0,
    "start_time": "2022-07-04T20:17:09.833Z"
   },
   {
    "duration": 0,
    "start_time": "2022-07-04T20:17:09.834Z"
   },
   {
    "duration": 0,
    "start_time": "2022-07-04T20:17:09.835Z"
   },
   {
    "duration": 0,
    "start_time": "2022-07-04T20:17:09.836Z"
   },
   {
    "duration": 8,
    "start_time": "2022-07-04T20:17:24.395Z"
   },
   {
    "duration": 447,
    "start_time": "2022-07-04T20:17:38.835Z"
   },
   {
    "duration": 73,
    "start_time": "2022-07-04T20:33:33.554Z"
   },
   {
    "duration": 20,
    "start_time": "2022-07-04T20:33:49.276Z"
   },
   {
    "duration": 141,
    "start_time": "2022-07-04T20:36:40.828Z"
   },
   {
    "duration": 206,
    "start_time": "2022-07-04T20:40:04.277Z"
   },
   {
    "duration": 131,
    "start_time": "2022-07-04T20:40:39.856Z"
   },
   {
    "duration": 17,
    "start_time": "2022-07-04T20:45:31.465Z"
   },
   {
    "duration": 172,
    "start_time": "2022-07-04T20:45:36.544Z"
   },
   {
    "duration": 3,
    "start_time": "2022-07-04T20:47:47.484Z"
   },
   {
    "duration": 1324,
    "start_time": "2022-07-04T20:47:47.489Z"
   },
   {
    "duration": 98,
    "start_time": "2022-07-04T20:47:48.815Z"
   },
   {
    "duration": 16,
    "start_time": "2022-07-04T20:47:48.915Z"
   },
   {
    "duration": 15,
    "start_time": "2022-07-04T20:47:48.934Z"
   },
   {
    "duration": 21,
    "start_time": "2022-07-04T20:47:48.952Z"
   },
   {
    "duration": 16,
    "start_time": "2022-07-04T20:47:48.974Z"
   },
   {
    "duration": 44,
    "start_time": "2022-07-04T20:47:48.992Z"
   },
   {
    "duration": 20,
    "start_time": "2022-07-04T20:47:49.038Z"
   },
   {
    "duration": 28,
    "start_time": "2022-07-04T20:47:49.060Z"
   },
   {
    "duration": 12,
    "start_time": "2022-07-04T20:47:49.091Z"
   },
   {
    "duration": 32,
    "start_time": "2022-07-04T20:47:49.105Z"
   },
   {
    "duration": 16,
    "start_time": "2022-07-04T20:47:49.140Z"
   },
   {
    "duration": 14,
    "start_time": "2022-07-04T20:47:49.158Z"
   },
   {
    "duration": 14,
    "start_time": "2022-07-04T20:47:49.174Z"
   },
   {
    "duration": 6,
    "start_time": "2022-07-04T20:47:49.189Z"
   },
   {
    "duration": 12,
    "start_time": "2022-07-04T20:47:49.222Z"
   },
   {
    "duration": 25,
    "start_time": "2022-07-04T20:47:49.236Z"
   },
   {
    "duration": 4,
    "start_time": "2022-07-04T20:47:49.263Z"
   },
   {
    "duration": 7,
    "start_time": "2022-07-04T20:47:49.268Z"
   },
   {
    "duration": 7,
    "start_time": "2022-07-04T20:47:49.277Z"
   },
   {
    "duration": 49,
    "start_time": "2022-07-04T20:47:49.286Z"
   },
   {
    "duration": 5,
    "start_time": "2022-07-04T20:47:49.337Z"
   },
   {
    "duration": 131,
    "start_time": "2022-07-04T20:47:49.343Z"
   },
   {
    "duration": 4,
    "start_time": "2022-07-04T20:47:49.476Z"
   },
   {
    "duration": 11,
    "start_time": "2022-07-04T20:47:49.482Z"
   },
   {
    "duration": 5,
    "start_time": "2022-07-04T20:47:49.494Z"
   },
   {
    "duration": 5,
    "start_time": "2022-07-04T20:47:49.501Z"
   },
   {
    "duration": 21,
    "start_time": "2022-07-04T20:47:49.511Z"
   },
   {
    "duration": 9,
    "start_time": "2022-07-04T20:47:49.533Z"
   },
   {
    "duration": 377,
    "start_time": "2022-07-04T20:47:49.544Z"
   },
   {
    "duration": 11,
    "start_time": "2022-07-04T20:47:49.924Z"
   },
   {
    "duration": 174,
    "start_time": "2022-07-04T20:47:49.937Z"
   },
   {
    "duration": 15,
    "start_time": "2022-07-04T20:47:50.113Z"
   },
   {
    "duration": 244,
    "start_time": "2022-07-04T20:47:50.129Z"
   },
   {
    "duration": 11,
    "start_time": "2022-07-04T20:47:50.374Z"
   },
   {
    "duration": 19,
    "start_time": "2022-07-04T20:47:50.387Z"
   },
   {
    "duration": 171,
    "start_time": "2022-07-04T20:47:50.407Z"
   },
   {
    "duration": 145,
    "start_time": "2022-07-04T20:47:50.580Z"
   },
   {
    "duration": 10,
    "start_time": "2022-07-04T20:47:50.727Z"
   },
   {
    "duration": 16,
    "start_time": "2022-07-04T20:47:50.739Z"
   },
   {
    "duration": 120,
    "start_time": "2022-07-04T20:47:50.757Z"
   },
   {
    "duration": 12,
    "start_time": "2022-07-04T20:47:50.879Z"
   },
   {
    "duration": 137,
    "start_time": "2022-07-04T20:47:50.893Z"
   },
   {
    "duration": 16,
    "start_time": "2022-07-04T20:47:51.031Z"
   },
   {
    "duration": 130,
    "start_time": "2022-07-04T20:47:51.049Z"
   },
   {
    "duration": 12,
    "start_time": "2022-07-04T20:47:51.180Z"
   },
   {
    "duration": 113,
    "start_time": "2022-07-04T20:47:51.193Z"
   },
   {
    "duration": 26,
    "start_time": "2022-07-04T20:47:51.307Z"
   },
   {
    "duration": 119,
    "start_time": "2022-07-04T20:47:51.335Z"
   },
   {
    "duration": 5,
    "start_time": "2022-07-04T20:47:51.456Z"
   },
   {
    "duration": 15,
    "start_time": "2022-07-04T20:47:51.463Z"
   },
   {
    "duration": 6,
    "start_time": "2022-07-04T20:47:51.480Z"
   },
   {
    "duration": 5,
    "start_time": "2022-07-04T20:47:51.487Z"
   },
   {
    "duration": 6,
    "start_time": "2022-07-04T20:47:51.494Z"
   },
   {
    "duration": 8,
    "start_time": "2022-07-04T20:47:51.524Z"
   },
   {
    "duration": 6,
    "start_time": "2022-07-04T20:47:51.533Z"
   },
   {
    "duration": 45,
    "start_time": "2022-07-04T20:47:51.541Z"
   },
   {
    "duration": 0,
    "start_time": "2022-07-04T20:47:51.587Z"
   },
   {
    "duration": 0,
    "start_time": "2022-07-04T20:47:51.589Z"
   },
   {
    "duration": 0,
    "start_time": "2022-07-04T20:47:51.590Z"
   },
   {
    "duration": 0,
    "start_time": "2022-07-04T20:47:51.591Z"
   },
   {
    "duration": 0,
    "start_time": "2022-07-04T20:47:51.592Z"
   },
   {
    "duration": 0,
    "start_time": "2022-07-04T20:47:51.593Z"
   },
   {
    "duration": 0,
    "start_time": "2022-07-04T20:47:51.594Z"
   },
   {
    "duration": 0,
    "start_time": "2022-07-04T20:47:51.595Z"
   },
   {
    "duration": 0,
    "start_time": "2022-07-04T20:47:51.595Z"
   },
   {
    "duration": 0,
    "start_time": "2022-07-04T20:47:51.596Z"
   },
   {
    "duration": 0,
    "start_time": "2022-07-04T20:47:51.597Z"
   },
   {
    "duration": 0,
    "start_time": "2022-07-04T20:47:51.598Z"
   },
   {
    "duration": 0,
    "start_time": "2022-07-04T20:47:51.599Z"
   },
   {
    "duration": 0,
    "start_time": "2022-07-04T20:47:51.600Z"
   },
   {
    "duration": 0,
    "start_time": "2022-07-04T20:47:51.601Z"
   },
   {
    "duration": 6,
    "start_time": "2022-07-04T20:48:28.236Z"
   },
   {
    "duration": 4,
    "start_time": "2022-07-04T20:48:34.296Z"
   },
   {
    "duration": 2,
    "start_time": "2022-07-04T20:48:44.559Z"
   },
   {
    "duration": 2,
    "start_time": "2022-07-04T20:48:46.398Z"
   },
   {
    "duration": 3,
    "start_time": "2022-07-04T20:48:48.897Z"
   },
   {
    "duration": 6494,
    "start_time": "2022-07-04T20:48:49.757Z"
   },
   {
    "duration": 5,
    "start_time": "2022-07-04T21:11:18.035Z"
   },
   {
    "duration": 1359,
    "start_time": "2022-07-04T21:11:18.042Z"
   },
   {
    "duration": 90,
    "start_time": "2022-07-04T21:11:19.402Z"
   },
   {
    "duration": 15,
    "start_time": "2022-07-04T21:11:19.493Z"
   },
   {
    "duration": 8,
    "start_time": "2022-07-04T21:11:19.511Z"
   },
   {
    "duration": 13,
    "start_time": "2022-07-04T21:11:19.521Z"
   },
   {
    "duration": 8,
    "start_time": "2022-07-04T21:11:19.536Z"
   },
   {
    "duration": 25,
    "start_time": "2022-07-04T21:11:19.546Z"
   },
   {
    "duration": 16,
    "start_time": "2022-07-04T21:11:19.573Z"
   },
   {
    "duration": 35,
    "start_time": "2022-07-04T21:11:19.591Z"
   },
   {
    "duration": 5,
    "start_time": "2022-07-04T21:11:19.628Z"
   },
   {
    "duration": 18,
    "start_time": "2022-07-04T21:11:19.634Z"
   },
   {
    "duration": 11,
    "start_time": "2022-07-04T21:11:19.654Z"
   },
   {
    "duration": 11,
    "start_time": "2022-07-04T21:11:19.668Z"
   },
   {
    "duration": 12,
    "start_time": "2022-07-04T21:11:19.681Z"
   },
   {
    "duration": 33,
    "start_time": "2022-07-04T21:11:19.694Z"
   },
   {
    "duration": 15,
    "start_time": "2022-07-04T21:11:19.729Z"
   },
   {
    "duration": 31,
    "start_time": "2022-07-04T21:11:19.746Z"
   },
   {
    "duration": 4,
    "start_time": "2022-07-04T21:11:19.779Z"
   },
   {
    "duration": 13,
    "start_time": "2022-07-04T21:11:19.785Z"
   },
   {
    "duration": 27,
    "start_time": "2022-07-04T21:11:19.799Z"
   },
   {
    "duration": 29,
    "start_time": "2022-07-04T21:11:19.828Z"
   },
   {
    "duration": 7,
    "start_time": "2022-07-04T21:11:19.859Z"
   },
   {
    "duration": 163,
    "start_time": "2022-07-04T21:11:19.868Z"
   },
   {
    "duration": 4,
    "start_time": "2022-07-04T21:11:20.033Z"
   },
   {
    "duration": 19,
    "start_time": "2022-07-04T21:11:20.039Z"
   },
   {
    "duration": 6,
    "start_time": "2022-07-04T21:11:20.060Z"
   },
   {
    "duration": 10,
    "start_time": "2022-07-04T21:11:20.067Z"
   },
   {
    "duration": 11,
    "start_time": "2022-07-04T21:11:20.079Z"
   },
   {
    "duration": 10,
    "start_time": "2022-07-04T21:11:20.092Z"
   },
   {
    "duration": 354,
    "start_time": "2022-07-04T21:11:20.103Z"
   },
   {
    "duration": 12,
    "start_time": "2022-07-04T21:11:20.459Z"
   },
   {
    "duration": 156,
    "start_time": "2022-07-04T21:11:20.472Z"
   },
   {
    "duration": 11,
    "start_time": "2022-07-04T21:11:20.629Z"
   },
   {
    "duration": 252,
    "start_time": "2022-07-04T21:11:20.643Z"
   },
   {
    "duration": 12,
    "start_time": "2022-07-04T21:11:20.897Z"
   },
   {
    "duration": 33,
    "start_time": "2022-07-04T21:11:20.910Z"
   },
   {
    "duration": 167,
    "start_time": "2022-07-04T21:11:20.945Z"
   },
   {
    "duration": 154,
    "start_time": "2022-07-04T21:11:21.114Z"
   },
   {
    "duration": 12,
    "start_time": "2022-07-04T21:11:21.270Z"
   },
   {
    "duration": 17,
    "start_time": "2022-07-04T21:11:21.287Z"
   },
   {
    "duration": 113,
    "start_time": "2022-07-04T21:11:21.324Z"
   },
   {
    "duration": 13,
    "start_time": "2022-07-04T21:11:21.439Z"
   },
   {
    "duration": 120,
    "start_time": "2022-07-04T21:11:21.454Z"
   },
   {
    "duration": 16,
    "start_time": "2022-07-04T21:11:21.576Z"
   },
   {
    "duration": 110,
    "start_time": "2022-07-04T21:11:21.593Z"
   },
   {
    "duration": 23,
    "start_time": "2022-07-04T21:11:21.705Z"
   },
   {
    "duration": 108,
    "start_time": "2022-07-04T21:11:21.730Z"
   },
   {
    "duration": 17,
    "start_time": "2022-07-04T21:11:21.840Z"
   },
   {
    "duration": 133,
    "start_time": "2022-07-04T21:11:21.859Z"
   },
   {
    "duration": 4,
    "start_time": "2022-07-04T21:11:21.994Z"
   },
   {
    "duration": 18,
    "start_time": "2022-07-04T21:11:21.999Z"
   },
   {
    "duration": 5,
    "start_time": "2022-07-04T21:11:22.023Z"
   },
   {
    "duration": 6,
    "start_time": "2022-07-04T21:11:22.030Z"
   },
   {
    "duration": 8,
    "start_time": "2022-07-04T21:11:22.037Z"
   },
   {
    "duration": 10,
    "start_time": "2022-07-04T21:11:22.046Z"
   },
   {
    "duration": 8,
    "start_time": "2022-07-04T21:11:22.057Z"
   },
   {
    "duration": 11,
    "start_time": "2022-07-04T21:11:22.067Z"
   },
   {
    "duration": 6,
    "start_time": "2022-07-04T21:11:22.079Z"
   },
   {
    "duration": 6,
    "start_time": "2022-07-04T21:11:22.087Z"
   },
   {
    "duration": 7,
    "start_time": "2022-07-04T21:11:22.094Z"
   },
   {
    "duration": 2,
    "start_time": "2022-07-04T21:11:22.124Z"
   },
   {
    "duration": 6975,
    "start_time": "2022-07-04T21:11:22.128Z"
   },
   {
    "duration": 149,
    "start_time": "2022-07-04T21:11:29.105Z"
   },
   {
    "duration": 519,
    "start_time": "2022-07-04T21:11:29.255Z"
   },
   {
    "duration": 4,
    "start_time": "2022-07-04T21:11:29.776Z"
   },
   {
    "duration": 15,
    "start_time": "2022-07-04T21:11:29.782Z"
   },
   {
    "duration": 27,
    "start_time": "2022-07-04T21:11:29.799Z"
   },
   {
    "duration": 23,
    "start_time": "2022-07-04T21:11:29.828Z"
   },
   {
    "duration": 12,
    "start_time": "2022-07-04T21:11:29.853Z"
   },
   {
    "duration": 7,
    "start_time": "2022-07-04T21:11:29.867Z"
   },
   {
    "duration": 198,
    "start_time": "2022-07-04T21:11:29.877Z"
   },
   {
    "duration": 100,
    "start_time": "2022-07-04T21:13:34.795Z"
   },
   {
    "duration": 173,
    "start_time": "2022-07-04T21:14:45.328Z"
   },
   {
    "duration": 5,
    "start_time": "2022-07-04T21:17:31.144Z"
   },
   {
    "duration": 5,
    "start_time": "2022-07-04T21:17:45.124Z"
   },
   {
    "duration": 194,
    "start_time": "2022-07-04T21:18:37.278Z"
   },
   {
    "duration": 253,
    "start_time": "2022-07-04T21:18:58.296Z"
   },
   {
    "duration": 180,
    "start_time": "2022-07-04T21:19:14.955Z"
   },
   {
    "duration": 165,
    "start_time": "2022-07-04T21:23:44.960Z"
   },
   {
    "duration": 160,
    "start_time": "2022-07-04T21:27:13.098Z"
   },
   {
    "duration": 1290,
    "start_time": "2022-07-04T21:36:51.758Z"
   },
   {
    "duration": 3,
    "start_time": "2022-07-04T21:37:13.019Z"
   },
   {
    "duration": 1370,
    "start_time": "2022-07-04T21:37:13.024Z"
   },
   {
    "duration": 106,
    "start_time": "2022-07-04T21:37:14.395Z"
   },
   {
    "duration": 16,
    "start_time": "2022-07-04T21:37:14.503Z"
   },
   {
    "duration": 8,
    "start_time": "2022-07-04T21:37:14.520Z"
   },
   {
    "duration": 13,
    "start_time": "2022-07-04T21:37:14.529Z"
   },
   {
    "duration": 18,
    "start_time": "2022-07-04T21:37:14.543Z"
   },
   {
    "duration": 25,
    "start_time": "2022-07-04T21:37:14.563Z"
   },
   {
    "duration": 16,
    "start_time": "2022-07-04T21:37:14.590Z"
   },
   {
    "duration": 17,
    "start_time": "2022-07-04T21:37:14.624Z"
   },
   {
    "duration": 5,
    "start_time": "2022-07-04T21:37:14.642Z"
   },
   {
    "duration": 16,
    "start_time": "2022-07-04T21:37:14.649Z"
   },
   {
    "duration": 10,
    "start_time": "2022-07-04T21:37:14.667Z"
   },
   {
    "duration": 46,
    "start_time": "2022-07-04T21:37:14.678Z"
   },
   {
    "duration": 11,
    "start_time": "2022-07-04T21:37:14.726Z"
   },
   {
    "duration": 5,
    "start_time": "2022-07-04T21:37:14.739Z"
   },
   {
    "duration": 10,
    "start_time": "2022-07-04T21:37:14.746Z"
   },
   {
    "duration": 24,
    "start_time": "2022-07-04T21:37:14.758Z"
   },
   {
    "duration": 4,
    "start_time": "2022-07-04T21:37:14.784Z"
   },
   {
    "duration": 34,
    "start_time": "2022-07-04T21:37:14.789Z"
   },
   {
    "duration": 7,
    "start_time": "2022-07-04T21:37:14.825Z"
   },
   {
    "duration": 27,
    "start_time": "2022-07-04T21:37:14.834Z"
   },
   {
    "duration": 6,
    "start_time": "2022-07-04T21:37:14.863Z"
   },
   {
    "duration": 143,
    "start_time": "2022-07-04T21:37:14.870Z"
   },
   {
    "duration": 5,
    "start_time": "2022-07-04T21:37:15.023Z"
   },
   {
    "duration": 12,
    "start_time": "2022-07-04T21:37:15.029Z"
   },
   {
    "duration": 4,
    "start_time": "2022-07-04T21:37:15.043Z"
   },
   {
    "duration": 3,
    "start_time": "2022-07-04T21:37:15.052Z"
   },
   {
    "duration": 14,
    "start_time": "2022-07-04T21:37:15.057Z"
   },
   {
    "duration": 8,
    "start_time": "2022-07-04T21:37:15.073Z"
   },
   {
    "duration": 371,
    "start_time": "2022-07-04T21:37:15.083Z"
   },
   {
    "duration": 12,
    "start_time": "2022-07-04T21:37:15.455Z"
   },
   {
    "duration": 162,
    "start_time": "2022-07-04T21:37:15.469Z"
   },
   {
    "duration": 9,
    "start_time": "2022-07-04T21:37:15.632Z"
   },
   {
    "duration": 243,
    "start_time": "2022-07-04T21:37:15.642Z"
   },
   {
    "duration": 13,
    "start_time": "2022-07-04T21:37:15.886Z"
   },
   {
    "duration": 34,
    "start_time": "2022-07-04T21:37:15.901Z"
   },
   {
    "duration": 170,
    "start_time": "2022-07-04T21:37:15.937Z"
   },
   {
    "duration": 149,
    "start_time": "2022-07-04T21:37:16.108Z"
   },
   {
    "duration": 11,
    "start_time": "2022-07-04T21:37:16.258Z"
   },
   {
    "duration": 16,
    "start_time": "2022-07-04T21:37:16.270Z"
   },
   {
    "duration": 137,
    "start_time": "2022-07-04T21:37:16.288Z"
   },
   {
    "duration": 13,
    "start_time": "2022-07-04T21:37:16.426Z"
   },
   {
    "duration": 121,
    "start_time": "2022-07-04T21:37:16.441Z"
   },
   {
    "duration": 17,
    "start_time": "2022-07-04T21:37:16.564Z"
   },
   {
    "duration": 115,
    "start_time": "2022-07-04T21:37:16.583Z"
   },
   {
    "duration": 12,
    "start_time": "2022-07-04T21:37:16.700Z"
   },
   {
    "duration": 111,
    "start_time": "2022-07-04T21:37:16.724Z"
   },
   {
    "duration": 16,
    "start_time": "2022-07-04T21:37:16.837Z"
   },
   {
    "duration": 140,
    "start_time": "2022-07-04T21:37:16.855Z"
   },
   {
    "duration": 14,
    "start_time": "2022-07-04T21:37:16.997Z"
   },
   {
    "duration": 50,
    "start_time": "2022-07-04T21:37:17.013Z"
   },
   {
    "duration": 0,
    "start_time": "2022-07-04T21:37:17.065Z"
   },
   {
    "duration": 0,
    "start_time": "2022-07-04T21:37:17.066Z"
   },
   {
    "duration": 0,
    "start_time": "2022-07-04T21:37:17.067Z"
   },
   {
    "duration": 0,
    "start_time": "2022-07-04T21:37:17.068Z"
   },
   {
    "duration": 0,
    "start_time": "2022-07-04T21:37:17.069Z"
   },
   {
    "duration": 0,
    "start_time": "2022-07-04T21:37:17.070Z"
   },
   {
    "duration": 0,
    "start_time": "2022-07-04T21:37:17.071Z"
   },
   {
    "duration": 0,
    "start_time": "2022-07-04T21:37:17.071Z"
   },
   {
    "duration": 0,
    "start_time": "2022-07-04T21:37:17.072Z"
   },
   {
    "duration": 0,
    "start_time": "2022-07-04T21:37:17.073Z"
   },
   {
    "duration": 0,
    "start_time": "2022-07-04T21:37:17.074Z"
   },
   {
    "duration": 0,
    "start_time": "2022-07-04T21:37:17.074Z"
   },
   {
    "duration": 0,
    "start_time": "2022-07-04T21:37:17.075Z"
   },
   {
    "duration": 0,
    "start_time": "2022-07-04T21:37:17.076Z"
   },
   {
    "duration": 0,
    "start_time": "2022-07-04T21:37:17.077Z"
   },
   {
    "duration": 0,
    "start_time": "2022-07-04T21:37:17.078Z"
   },
   {
    "duration": 0,
    "start_time": "2022-07-04T21:37:17.079Z"
   },
   {
    "duration": 0,
    "start_time": "2022-07-04T21:37:17.079Z"
   },
   {
    "duration": 0,
    "start_time": "2022-07-04T21:37:17.080Z"
   },
   {
    "duration": 0,
    "start_time": "2022-07-04T21:37:17.081Z"
   },
   {
    "duration": 0,
    "start_time": "2022-07-04T21:37:17.082Z"
   },
   {
    "duration": 0,
    "start_time": "2022-07-04T21:37:17.083Z"
   },
   {
    "duration": 0,
    "start_time": "2022-07-04T21:37:17.084Z"
   },
   {
    "duration": 13,
    "start_time": "2022-07-04T21:37:53.748Z"
   },
   {
    "duration": 125,
    "start_time": "2022-07-04T21:38:04.316Z"
   },
   {
    "duration": 32,
    "start_time": "2022-07-04T21:38:35.197Z"
   },
   {
    "duration": 15,
    "start_time": "2022-07-04T21:38:44.597Z"
   },
   {
    "duration": 102,
    "start_time": "2022-07-04T21:39:03.076Z"
   },
   {
    "duration": 10,
    "start_time": "2022-07-04T21:45:36.637Z"
   },
   {
    "duration": 38,
    "start_time": "2022-07-04T21:45:44.752Z"
   },
   {
    "duration": 16,
    "start_time": "2022-07-04T21:46:42.516Z"
   },
   {
    "duration": 12,
    "start_time": "2022-07-04T21:49:44.686Z"
   },
   {
    "duration": 3,
    "start_time": "2022-07-04T21:51:08.606Z"
   },
   {
    "duration": 1392,
    "start_time": "2022-07-04T21:51:08.616Z"
   },
   {
    "duration": 95,
    "start_time": "2022-07-04T21:51:10.010Z"
   },
   {
    "duration": 13,
    "start_time": "2022-07-04T21:51:10.106Z"
   },
   {
    "duration": 8,
    "start_time": "2022-07-04T21:51:10.120Z"
   },
   {
    "duration": 11,
    "start_time": "2022-07-04T21:51:10.129Z"
   },
   {
    "duration": 10,
    "start_time": "2022-07-04T21:51:10.141Z"
   },
   {
    "duration": 25,
    "start_time": "2022-07-04T21:51:10.152Z"
   },
   {
    "duration": 16,
    "start_time": "2022-07-04T21:51:10.178Z"
   },
   {
    "duration": 35,
    "start_time": "2022-07-04T21:51:10.196Z"
   },
   {
    "duration": 3,
    "start_time": "2022-07-04T21:51:10.234Z"
   },
   {
    "duration": 19,
    "start_time": "2022-07-04T21:51:10.239Z"
   },
   {
    "duration": 10,
    "start_time": "2022-07-04T21:51:10.260Z"
   },
   {
    "duration": 11,
    "start_time": "2022-07-04T21:51:10.271Z"
   },
   {
    "duration": 10,
    "start_time": "2022-07-04T21:51:10.284Z"
   },
   {
    "duration": 31,
    "start_time": "2022-07-04T21:51:10.296Z"
   },
   {
    "duration": 8,
    "start_time": "2022-07-04T21:51:10.329Z"
   },
   {
    "duration": 23,
    "start_time": "2022-07-04T21:51:10.339Z"
   },
   {
    "duration": 3,
    "start_time": "2022-07-04T21:51:10.364Z"
   },
   {
    "duration": 8,
    "start_time": "2022-07-04T21:51:10.369Z"
   },
   {
    "duration": 11,
    "start_time": "2022-07-04T21:51:10.379Z"
   },
   {
    "duration": 48,
    "start_time": "2022-07-04T21:51:10.391Z"
   },
   {
    "duration": 5,
    "start_time": "2022-07-04T21:51:10.441Z"
   },
   {
    "duration": 129,
    "start_time": "2022-07-04T21:51:10.447Z"
   },
   {
    "duration": 3,
    "start_time": "2022-07-04T21:51:10.578Z"
   },
   {
    "duration": 7,
    "start_time": "2022-07-04T21:51:10.583Z"
   },
   {
    "duration": 4,
    "start_time": "2022-07-04T21:51:10.591Z"
   },
   {
    "duration": 5,
    "start_time": "2022-07-04T21:51:10.596Z"
   },
   {
    "duration": 22,
    "start_time": "2022-07-04T21:51:10.605Z"
   },
   {
    "duration": 9,
    "start_time": "2022-07-04T21:51:10.629Z"
   },
   {
    "duration": 330,
    "start_time": "2022-07-04T21:51:10.639Z"
   },
   {
    "duration": 11,
    "start_time": "2022-07-04T21:51:10.971Z"
   },
   {
    "duration": 153,
    "start_time": "2022-07-04T21:51:10.984Z"
   },
   {
    "duration": 7,
    "start_time": "2022-07-04T21:51:11.139Z"
   },
   {
    "duration": 237,
    "start_time": "2022-07-04T21:51:11.147Z"
   },
   {
    "duration": 12,
    "start_time": "2022-07-04T21:51:11.386Z"
   },
   {
    "duration": 30,
    "start_time": "2022-07-04T21:51:11.399Z"
   },
   {
    "duration": 152,
    "start_time": "2022-07-04T21:51:11.430Z"
   },
   {
    "duration": 152,
    "start_time": "2022-07-04T21:51:11.584Z"
   },
   {
    "duration": 11,
    "start_time": "2022-07-04T21:51:11.738Z"
   },
   {
    "duration": 17,
    "start_time": "2022-07-04T21:51:11.751Z"
   },
   {
    "duration": 125,
    "start_time": "2022-07-04T21:51:11.769Z"
   },
   {
    "duration": 11,
    "start_time": "2022-07-04T21:51:11.896Z"
   },
   {
    "duration": 118,
    "start_time": "2022-07-04T21:51:11.909Z"
   },
   {
    "duration": 16,
    "start_time": "2022-07-04T21:51:12.029Z"
   },
   {
    "duration": 116,
    "start_time": "2022-07-04T21:51:12.047Z"
   },
   {
    "duration": 12,
    "start_time": "2022-07-04T21:51:12.165Z"
   },
   {
    "duration": 112,
    "start_time": "2022-07-04T21:51:12.179Z"
   },
   {
    "duration": 16,
    "start_time": "2022-07-04T21:51:12.293Z"
   },
   {
    "duration": 131,
    "start_time": "2022-07-04T21:51:12.310Z"
   },
   {
    "duration": 13,
    "start_time": "2022-07-04T21:51:12.443Z"
   },
   {
    "duration": 6,
    "start_time": "2022-07-04T21:51:12.458Z"
   },
   {
    "duration": 19,
    "start_time": "2022-07-04T21:51:12.465Z"
   },
   {
    "duration": 6,
    "start_time": "2022-07-04T21:51:12.486Z"
   },
   {
    "duration": 7,
    "start_time": "2022-07-04T21:51:12.494Z"
   },
   {
    "duration": 5,
    "start_time": "2022-07-04T21:51:12.523Z"
   },
   {
    "duration": 10,
    "start_time": "2022-07-04T21:51:12.529Z"
   },
   {
    "duration": 7,
    "start_time": "2022-07-04T21:51:12.541Z"
   },
   {
    "duration": 12,
    "start_time": "2022-07-04T21:51:12.549Z"
   },
   {
    "duration": 8,
    "start_time": "2022-07-04T21:51:12.563Z"
   },
   {
    "duration": 11,
    "start_time": "2022-07-04T21:51:12.573Z"
   },
   {
    "duration": 5,
    "start_time": "2022-07-04T21:51:12.586Z"
   },
   {
    "duration": 6,
    "start_time": "2022-07-04T21:51:12.593Z"
   },
   {
    "duration": 5810,
    "start_time": "2022-07-04T21:51:12.600Z"
   },
   {
    "duration": 150,
    "start_time": "2022-07-04T21:51:18.412Z"
   },
   {
    "duration": 506,
    "start_time": "2022-07-04T21:51:18.564Z"
   },
   {
    "duration": 5,
    "start_time": "2022-07-04T21:51:19.072Z"
   },
   {
    "duration": 12,
    "start_time": "2022-07-04T21:51:19.079Z"
   },
   {
    "duration": 18,
    "start_time": "2022-07-04T21:51:19.093Z"
   },
   {
    "duration": 24,
    "start_time": "2022-07-04T21:51:19.112Z"
   },
   {
    "duration": 10,
    "start_time": "2022-07-04T21:51:19.137Z"
   },
   {
    "duration": 6,
    "start_time": "2022-07-04T21:51:19.149Z"
   },
   {
    "duration": 190,
    "start_time": "2022-07-04T21:51:19.157Z"
   },
   {
    "duration": 172,
    "start_time": "2022-07-04T21:51:19.349Z"
   },
   {
    "duration": 10,
    "start_time": "2022-07-04T21:53:53.714Z"
   },
   {
    "duration": 11,
    "start_time": "2022-07-04T22:00:02.709Z"
   },
   {
    "duration": 8,
    "start_time": "2022-07-04T22:08:24.675Z"
   },
   {
    "duration": 10,
    "start_time": "2022-07-04T22:08:27.534Z"
   },
   {
    "duration": 651,
    "start_time": "2022-07-04T22:08:31.234Z"
   },
   {
    "duration": 8,
    "start_time": "2022-07-04T22:08:52.281Z"
   },
   {
    "duration": 8,
    "start_time": "2022-07-04T22:08:53.443Z"
   },
   {
    "duration": 309,
    "start_time": "2022-07-04T22:08:54.314Z"
   },
   {
    "duration": 4,
    "start_time": "2022-07-04T22:24:27.163Z"
   },
   {
    "duration": 1251,
    "start_time": "2022-07-04T22:24:27.169Z"
   },
   {
    "duration": 90,
    "start_time": "2022-07-04T22:24:28.421Z"
   },
   {
    "duration": 13,
    "start_time": "2022-07-04T22:24:28.513Z"
   },
   {
    "duration": 8,
    "start_time": "2022-07-04T22:24:28.529Z"
   },
   {
    "duration": 12,
    "start_time": "2022-07-04T22:24:28.539Z"
   },
   {
    "duration": 9,
    "start_time": "2022-07-04T22:24:28.553Z"
   },
   {
    "duration": 25,
    "start_time": "2022-07-04T22:24:28.564Z"
   },
   {
    "duration": 40,
    "start_time": "2022-07-04T22:24:28.590Z"
   },
   {
    "duration": 18,
    "start_time": "2022-07-04T22:24:28.632Z"
   },
   {
    "duration": 8,
    "start_time": "2022-07-04T22:24:28.652Z"
   },
   {
    "duration": 18,
    "start_time": "2022-07-04T22:24:28.662Z"
   },
   {
    "duration": 11,
    "start_time": "2022-07-04T22:24:28.682Z"
   },
   {
    "duration": 11,
    "start_time": "2022-07-04T22:24:28.722Z"
   },
   {
    "duration": 12,
    "start_time": "2022-07-04T22:24:28.734Z"
   },
   {
    "duration": 5,
    "start_time": "2022-07-04T22:24:28.747Z"
   },
   {
    "duration": 9,
    "start_time": "2022-07-04T22:24:28.754Z"
   },
   {
    "duration": 26,
    "start_time": "2022-07-04T22:24:28.765Z"
   },
   {
    "duration": 32,
    "start_time": "2022-07-04T22:24:28.793Z"
   },
   {
    "duration": 7,
    "start_time": "2022-07-04T22:24:28.826Z"
   },
   {
    "duration": 9,
    "start_time": "2022-07-04T22:24:28.834Z"
   },
   {
    "duration": 34,
    "start_time": "2022-07-04T22:24:28.844Z"
   },
   {
    "duration": 5,
    "start_time": "2022-07-04T22:24:28.881Z"
   },
   {
    "duration": 167,
    "start_time": "2022-07-04T22:24:28.888Z"
   },
   {
    "duration": 5,
    "start_time": "2022-07-04T22:24:29.056Z"
   },
   {
    "duration": 8,
    "start_time": "2022-07-04T22:24:29.062Z"
   },
   {
    "duration": 3,
    "start_time": "2022-07-04T22:24:29.071Z"
   },
   {
    "duration": 6,
    "start_time": "2022-07-04T22:24:29.075Z"
   },
   {
    "duration": 13,
    "start_time": "2022-07-04T22:24:29.082Z"
   },
   {
    "duration": 27,
    "start_time": "2022-07-04T22:24:29.096Z"
   },
   {
    "duration": 347,
    "start_time": "2022-07-04T22:24:29.126Z"
   },
   {
    "duration": 12,
    "start_time": "2022-07-04T22:24:29.475Z"
   },
   {
    "duration": 163,
    "start_time": "2022-07-04T22:24:29.489Z"
   },
   {
    "duration": 9,
    "start_time": "2022-07-04T22:24:29.653Z"
   },
   {
    "duration": 280,
    "start_time": "2022-07-04T22:24:29.664Z"
   },
   {
    "duration": 12,
    "start_time": "2022-07-04T22:24:29.945Z"
   },
   {
    "duration": 19,
    "start_time": "2022-07-04T22:24:29.958Z"
   },
   {
    "duration": 169,
    "start_time": "2022-07-04T22:24:29.978Z"
   },
   {
    "duration": 197,
    "start_time": "2022-07-04T22:24:30.149Z"
   },
   {
    "duration": 10,
    "start_time": "2022-07-04T22:24:30.348Z"
   },
   {
    "duration": 29,
    "start_time": "2022-07-04T22:24:30.362Z"
   },
   {
    "duration": 102,
    "start_time": "2022-07-04T22:24:30.392Z"
   },
   {
    "duration": 11,
    "start_time": "2022-07-04T22:24:30.495Z"
   },
   {
    "duration": 103,
    "start_time": "2022-07-04T22:24:30.507Z"
   },
   {
    "duration": 23,
    "start_time": "2022-07-04T22:24:30.612Z"
   },
   {
    "duration": 105,
    "start_time": "2022-07-04T22:24:30.637Z"
   },
   {
    "duration": 11,
    "start_time": "2022-07-04T22:24:30.744Z"
   },
   {
    "duration": 211,
    "start_time": "2022-07-04T22:24:30.757Z"
   },
   {
    "duration": 59,
    "start_time": "2022-07-04T22:24:30.970Z"
   },
   {
    "duration": 156,
    "start_time": "2022-07-04T22:24:31.030Z"
   },
   {
    "duration": 11,
    "start_time": "2022-07-04T22:24:31.223Z"
   },
   {
    "duration": 13,
    "start_time": "2022-07-04T22:24:31.236Z"
   },
   {
    "duration": 16,
    "start_time": "2022-07-04T22:24:31.250Z"
   },
   {
    "duration": 16,
    "start_time": "2022-07-04T22:24:31.268Z"
   },
   {
    "duration": 18,
    "start_time": "2022-07-04T22:24:31.285Z"
   },
   {
    "duration": 23,
    "start_time": "2022-07-04T22:24:31.304Z"
   },
   {
    "duration": 8,
    "start_time": "2022-07-04T22:24:31.328Z"
   },
   {
    "duration": 17,
    "start_time": "2022-07-04T22:24:31.338Z"
   },
   {
    "duration": 12,
    "start_time": "2022-07-04T22:24:31.357Z"
   },
   {
    "duration": 13,
    "start_time": "2022-07-04T22:24:31.370Z"
   },
   {
    "duration": 7,
    "start_time": "2022-07-04T22:24:31.385Z"
   },
   {
    "duration": 12,
    "start_time": "2022-07-04T22:24:31.394Z"
   },
   {
    "duration": 18,
    "start_time": "2022-07-04T22:24:31.408Z"
   },
   {
    "duration": 5795,
    "start_time": "2022-07-04T22:24:31.428Z"
   },
   {
    "duration": 165,
    "start_time": "2022-07-04T22:24:37.225Z"
   },
   {
    "duration": 534,
    "start_time": "2022-07-04T22:24:37.392Z"
   },
   {
    "duration": 4,
    "start_time": "2022-07-04T22:24:37.928Z"
   },
   {
    "duration": 11,
    "start_time": "2022-07-04T22:24:37.934Z"
   },
   {
    "duration": 7,
    "start_time": "2022-07-04T22:24:37.947Z"
   },
   {
    "duration": 15,
    "start_time": "2022-07-04T22:24:37.956Z"
   },
   {
    "duration": 11,
    "start_time": "2022-07-04T22:24:37.973Z"
   },
   {
    "duration": 42,
    "start_time": "2022-07-04T22:24:37.985Z"
   },
   {
    "duration": 178,
    "start_time": "2022-07-04T22:24:38.029Z"
   },
   {
    "duration": 178,
    "start_time": "2022-07-04T22:24:38.209Z"
   },
   {
    "duration": 7,
    "start_time": "2022-07-04T22:24:38.389Z"
   }
  ],
  "kernelspec": {
   "display_name": "Python 3 (ipykernel)",
   "language": "python",
   "name": "python3"
  },
  "language_info": {
   "codemirror_mode": {
    "name": "ipython",
    "version": 3
   },
   "file_extension": ".py",
   "mimetype": "text/x-python",
   "name": "python",
   "nbconvert_exporter": "python",
   "pygments_lexer": "ipython3",
   "version": "3.9.5"
  },
  "toc": {
   "base_numbering": 1,
   "nav_menu": {},
   "number_sections": true,
   "sideBar": true,
   "skip_h1_title": true,
   "title_cell": "Table of Contents",
   "title_sidebar": "Contents",
   "toc_cell": false,
   "toc_position": {
    "height": "calc(100% - 180px)",
    "left": "10px",
    "top": "150px",
    "width": "245px"
   },
   "toc_section_display": true,
   "toc_window_display": true
  }
 },
 "nbformat": 4,
 "nbformat_minor": 2
}
