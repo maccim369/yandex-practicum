{
 "cells": [
  {
   "cell_type": "markdown",
   "metadata": {},
   "source": [
    "# План работы\n",
    "\n",
    "1. Загрузка и подготовка данных.\n",
    "2. Обучение моделей. \n",
    "3. Выводы."
   ]
  },
  {
   "cell_type": "markdown",
   "metadata": {},
   "source": [
    "## Подготовка"
   ]
  },
  {
   "cell_type": "markdown",
   "metadata": {},
   "source": [
    "<div style=\"border:solid blue 2px; padding: 20px\">\n",
    "\n",
    "Импортируем библиотеки\n",
    "</div>"
   ]
  },
  {
   "cell_type": "code",
   "execution_count": 1,
   "metadata": {},
   "outputs": [],
   "source": [
    "#!pip install catboost"
   ]
  },
  {
   "cell_type": "code",
   "execution_count": 2,
   "metadata": {},
   "outputs": [],
   "source": [
    "import matplotlib.pyplot as plt\n",
    "import pandas as pd\n",
    "import re\n",
    "import string\n",
    "from catboost import CatBoostClassifier\n",
    "from sklearn.model_selection import train_test_split\n",
    "from sklearn.metrics import f1_score\n",
    "from sklearn.metrics import accuracy_score\n",
    "from sklearn.metrics import roc_auc_score, roc_curve\n",
    "from sklearn.metrics import confusion_matrix, ConfusionMatrixDisplay\n",
    "from tqdm.notebook import tqdm"
   ]
  },
  {
   "cell_type": "markdown",
   "metadata": {},
   "source": [
    "<div style=\"border:solid blue 2px; padding: 20px\">\n",
    "\n",
    "Откроем и изучим файл\n",
    "    \n",
    "    \n",
    "</div>"
   ]
  },
  {
   "cell_type": "code",
   "execution_count": 3,
   "metadata": {},
   "outputs": [],
   "source": [
    "# чтение файла с данными и сохранение в data_users\n",
    "# метод try-except поможет загрузить данные локально или глобально\n",
    "try:\n",
    "    df = pd.read_csv('C:/Users/toxic_comments.csv')  # Локальный путь\n",
    "except:\n",
    "    df = pd.read_csv('/datasets/toxic_comments.csv')  # Серверный путь"
   ]
  },
  {
   "cell_type": "markdown",
   "metadata": {},
   "source": [
    "<div style=\"border:solid blue 2px; padding: 20px\">\n",
    "    \n",
    "`head()` выводим на экран первые пять строк таблицы:\n",
    "    </div>"
   ]
  },
  {
   "cell_type": "code",
   "execution_count": 4,
   "metadata": {},
   "outputs": [
    {
     "data": {
      "text/html": [
       "<div>\n",
       "<style scoped>\n",
       "    .dataframe tbody tr th:only-of-type {\n",
       "        vertical-align: middle;\n",
       "    }\n",
       "\n",
       "    .dataframe tbody tr th {\n",
       "        vertical-align: top;\n",
       "    }\n",
       "\n",
       "    .dataframe thead th {\n",
       "        text-align: right;\n",
       "    }\n",
       "</style>\n",
       "<table border=\"1\" class=\"dataframe\">\n",
       "  <thead>\n",
       "    <tr style=\"text-align: right;\">\n",
       "      <th></th>\n",
       "      <th>text</th>\n",
       "      <th>toxic</th>\n",
       "    </tr>\n",
       "  </thead>\n",
       "  <tbody>\n",
       "    <tr>\n",
       "      <th>0</th>\n",
       "      <td>Explanation\\nWhy the edits made under my usern...</td>\n",
       "      <td>0</td>\n",
       "    </tr>\n",
       "    <tr>\n",
       "      <th>1</th>\n",
       "      <td>D'aww! He matches this background colour I'm s...</td>\n",
       "      <td>0</td>\n",
       "    </tr>\n",
       "    <tr>\n",
       "      <th>2</th>\n",
       "      <td>Hey man, I'm really not trying to edit war. It...</td>\n",
       "      <td>0</td>\n",
       "    </tr>\n",
       "    <tr>\n",
       "      <th>3</th>\n",
       "      <td>\"\\nMore\\nI can't make any real suggestions on ...</td>\n",
       "      <td>0</td>\n",
       "    </tr>\n",
       "    <tr>\n",
       "      <th>4</th>\n",
       "      <td>You, sir, are my hero. Any chance you remember...</td>\n",
       "      <td>0</td>\n",
       "    </tr>\n",
       "  </tbody>\n",
       "</table>\n",
       "</div>"
      ],
      "text/plain": [
       "                                                text  toxic\n",
       "0  Explanation\\nWhy the edits made under my usern...      0\n",
       "1  D'aww! He matches this background colour I'm s...      0\n",
       "2  Hey man, I'm really not trying to edit war. It...      0\n",
       "3  \"\\nMore\\nI can't make any real suggestions on ...      0\n",
       "4  You, sir, are my hero. Any chance you remember...      0"
      ]
     },
     "execution_count": 4,
     "metadata": {},
     "output_type": "execute_result"
    }
   ],
   "source": [
    "# получение первых 5 строк таблицы\n",
    "df.head()"
   ]
  },
  {
   "cell_type": "markdown",
   "metadata": {},
   "source": [
    "<div style=\"border:solid blue 2px; padding: 20px\">\n",
    "    \n",
    "`info()` получим общую информацию о таблице:\n",
    "    </div>"
   ]
  },
  {
   "cell_type": "code",
   "execution_count": 5,
   "metadata": {},
   "outputs": [
    {
     "name": "stdout",
     "output_type": "stream",
     "text": [
      "<class 'pandas.core.frame.DataFrame'>\n",
      "RangeIndex: 159571 entries, 0 to 159570\n",
      "Data columns (total 2 columns):\n",
      " #   Column  Non-Null Count   Dtype \n",
      "---  ------  --------------   ----- \n",
      " 0   text    159571 non-null  object\n",
      " 1   toxic   159571 non-null  int64 \n",
      "dtypes: int64(1), object(1)\n",
      "memory usage: 2.4+ MB\n"
     ]
    }
   ],
   "source": [
    "# получение общей информации о данных в таблице\n",
    "df.info()"
   ]
  },
  {
   "cell_type": "markdown",
   "metadata": {},
   "source": [
    "<div style=\"border:solid blue 2px; padding: 20px\">\n",
    "    \n",
    " \n",
    "Методом `describe()` получим описание данных \n",
    "    \n",
    "    \n",
    "</div> "
   ]
  },
  {
   "cell_type": "code",
   "execution_count": 6,
   "metadata": {
    "scrolled": true
   },
   "outputs": [
    {
     "data": {
      "text/html": [
       "<div>\n",
       "<style scoped>\n",
       "    .dataframe tbody tr th:only-of-type {\n",
       "        vertical-align: middle;\n",
       "    }\n",
       "\n",
       "    .dataframe tbody tr th {\n",
       "        vertical-align: top;\n",
       "    }\n",
       "\n",
       "    .dataframe thead th {\n",
       "        text-align: right;\n",
       "    }\n",
       "</style>\n",
       "<table border=\"1\" class=\"dataframe\">\n",
       "  <thead>\n",
       "    <tr style=\"text-align: right;\">\n",
       "      <th></th>\n",
       "      <th>toxic</th>\n",
       "    </tr>\n",
       "  </thead>\n",
       "  <tbody>\n",
       "    <tr>\n",
       "      <th>count</th>\n",
       "      <td>159571.000000</td>\n",
       "    </tr>\n",
       "    <tr>\n",
       "      <th>mean</th>\n",
       "      <td>0.101679</td>\n",
       "    </tr>\n",
       "    <tr>\n",
       "      <th>std</th>\n",
       "      <td>0.302226</td>\n",
       "    </tr>\n",
       "    <tr>\n",
       "      <th>min</th>\n",
       "      <td>0.000000</td>\n",
       "    </tr>\n",
       "    <tr>\n",
       "      <th>25%</th>\n",
       "      <td>0.000000</td>\n",
       "    </tr>\n",
       "    <tr>\n",
       "      <th>50%</th>\n",
       "      <td>0.000000</td>\n",
       "    </tr>\n",
       "    <tr>\n",
       "      <th>75%</th>\n",
       "      <td>0.000000</td>\n",
       "    </tr>\n",
       "    <tr>\n",
       "      <th>max</th>\n",
       "      <td>1.000000</td>\n",
       "    </tr>\n",
       "  </tbody>\n",
       "</table>\n",
       "</div>"
      ],
      "text/plain": [
       "               toxic\n",
       "count  159571.000000\n",
       "mean        0.101679\n",
       "std         0.302226\n",
       "min         0.000000\n",
       "25%         0.000000\n",
       "50%         0.000000\n",
       "75%         0.000000\n",
       "max         1.000000"
      ]
     },
     "execution_count": 6,
     "metadata": {},
     "output_type": "execute_result"
    }
   ],
   "source": [
    "# описание данных\n",
    "df.describe()"
   ]
  },
  {
   "cell_type": "markdown",
   "metadata": {},
   "source": [
    "<div style=\"border:solid blue 2px; padding: 20px\">\n",
    " \n",
    "    \n",
    "Методом `value_counts()` посмотрим как часто в целевом признаке встречается класс `0` и `1`.\n",
    "    \n",
    "</div>"
   ]
  },
  {
   "cell_type": "code",
   "execution_count": 7,
   "metadata": {},
   "outputs": [
    {
     "name": "stdout",
     "output_type": "stream",
     "text": [
      "0    0.898321\n",
      "1    0.101679\n",
      "Name: toxic, dtype: float64\n"
     ]
    },
    {
     "data": {
      "text/plain": [
       "<AxesSubplot:>"
      ]
     },
     "execution_count": 7,
     "metadata": {},
     "output_type": "execute_result"
    },
    {
     "data": {
      "image/png": "[encoded data removed]",
      "text/plain": [
       "<Figure size 432x288 with 1 Axes>"
      ]
     },
     "metadata": {
      "needs_background": "light"
     },
     "output_type": "display_data"
    }
   ],
   "source": [
    "# подсчет значений\n",
    "class_frequency = df['toxic'].value_counts(normalize=True)\n",
    "print(class_frequency)\n",
    "class_frequency.plot(kind='bar')"
   ]
  },
  {
   "cell_type": "markdown",
   "metadata": {},
   "source": [
    "<div style=\"border:solid blue 2px; padding: 20px\">\n",
    " \n",
    "    \n",
    "Около `10%` значений по факту токсичных комментариев. \n",
    "    \n",
    "Баланс классов `0/1` соостветсвует соотношению `9/1`    \n",
    "\n",
    "    \n",
    "    \n",
    "</div>"
   ]
  },
  {
   "cell_type": "markdown",
   "metadata": {},
   "source": [
    "<div style=\"border:solid blue 2px; padding: 20px\">\n",
    " \n",
    "    \n",
    "Обучим модель без учёта дисбаланса\n",
    "    \n",
    "    \n",
    "\n",
    "    \n",
    "    \n",
    "</div>"
   ]
  },
  {
   "cell_type": "markdown",
   "metadata": {},
   "source": [
    "<div style=\"border:solid blue 2px; padding: 20px\">\n",
    "    \n",
    "Посчитаем сколько строк являются дубликатами.\n",
    "    \n",
    "    \n",
    "</div>"
   ]
  },
  {
   "cell_type": "code",
   "execution_count": 8,
   "metadata": {},
   "outputs": [
    {
     "name": "stdout",
     "output_type": "stream",
     "text": [
      "Всего строк дубликатов:  0\n"
     ]
    }
   ],
   "source": [
    "# подсчет явных дубликатов\n",
    "print('Всего строк дубликатов: ', df.duplicated().sum())"
   ]
  },
  {
   "cell_type": "markdown",
   "metadata": {},
   "source": [
    "<div style=\"border:solid blue 2px; padding: 20px\">\n",
    "    \n",
    "**Основные метасимволы**\n",
    "    \n",
    "`[]` - используются для указания набора или диапазона символов\n",
    "    \n",
    "`\\` - указывает на начало последовательности или экранирует служебные символы\n",
    "    \n",
    "`.` -  выбирает любой символ, кроме новой строки `\\n`\n",
    "    \n",
    "`^` -  проверяет, начинается ли строка с определенного символа / слова / набора символов\n",
    "    \n",
    "`^` - в наборе c `[]` - проверяет, отсутствуют ли в строке определенные символы\n",
    "    \n",
    "`$` - проверяет, заканчивается ли строка в соответствии с шаблоном\n",
    "\n",
    "`*` - ноль или больше совпадений с шаблоном\n",
    "\n",
    "`+` - одно или больше совпадений с шаблоном\n",
    "\n",
    "`?` - ноль или одно совпадение с шаблоном. Кроме того, нейтрализует «жадность» выражений, которые используют `.`, `*`, `+` для выбора любых символов\n",
    "\n",
    "`{}`– точное число совпадений\n",
    "\n",
    "`|` - любой из двух вариантов\n",
    "\n",
    "`<>` - создают именованную группу\n",
    "\n",
    "**Основные последовательности**\n",
    "\n",
    "`\\W` - возвращает совпадение по каждому «несловесному» символу\n",
    "\n",
    "`\\w` - проверяет, есть ли в строке «словесные» символы – знак нижнего подчеркивания, цифры и буквы  - `[a-zA-Z0-9_]`\n",
    "\n",
    "`\\S` - возвращает совпадение, если в строке есть любые символы, кроме пробелов\n",
    "\n",
    "`\\s` - проверяет наличие пробелов в строке\n",
    "\n",
    "`\\n` - соответствует символу новой строки\n",
    "\n",
    "`\\d` - проверяет, что в строке есть цифры от 0 до 9\n",
    "\n",
    "    \n",
    "</div> "
   ]
  },
  {
   "cell_type": "markdown",
   "metadata": {},
   "source": [
    "<div style=\"border:solid blue 2px; padding: 20px\">\n",
    "    \n",
    "\n",
    "Создадим функцию с именем `clear_text()` c параметрами `text`, в теле функции    \n",
    "    \n",
    "регулярными выражениями очистим текст от лишних символов\n",
    "    \n",
    "Методом `lower()` преобразуем все символы верхнего регистра в строке в символы нижнего\n",
    "    \n",
    "Применим шаблоны `pattern` для составления регуляного выражения из \n",
    "    \n",
    "онлайн-конструктора регулярных выражений [regex101.com/](https://regex101.com/)\n",
    "    \n",
    "`\\[.*?\\]` - соответствует как можно меньшему количеству символов\n",
    "    \n",
    "`\\\\W` - соотв чему угодно, кроме буквы, цифры или символа подчеркивания - `[^a-zA-Z0-9_]`\n",
    "    \n",
    "`https?://\\S+|www\\.\\S+` - cоответствует либо тому, что находится перед `|`, либо тому, \n",
    "    \n",
    "что находится после него - в данном случае `https?://\\S+` или `www\\.\\S+`\n",
    "    \n",
    "`<.*?>+` - использование будет соответствовать только `<a>`\n",
    "    \n",
    "Cодержание модуля `escape()` `string.punctuation` - это предварительно инициализированная \n",
    "    \n",
    "строка, используемая как строковая константа даст все наборы знаков препинания\n",
    "    \n",
    "    \n",
    "!\"#$%&'()*+, -./:;<=>?@[ \\ ]^_`{|}~\n",
    "\n",
    "`\\n` - использование будет соответствовать оответствует символу новой строки\n",
    "\n",
    "`\\w*\\d\\w*` - использование будет соответствовать `[a-zA-Z0-9_]*[0-9][a-zA-Z0-9_]*`\n",
    "    \n",
    "</div> "
   ]
  },
  {
   "cell_type": "code",
   "execution_count": 9,
   "metadata": {},
   "outputs": [],
   "source": [
    "def clear_text(text):\n",
    "    text = text.lower()\n",
    "    text = re.sub('\\[.*?\\]', '', text)\n",
    "    text = re.sub('\\\\W',' ',text)\n",
    "    text = re.sub('https?://\\S+|www\\.\\S+', '', text)\n",
    "    text = re.sub('<.*?>+', '', text)\n",
    "    text = re.sub('[%s]' % re.escape(string.punctuation), '', text)\n",
    "    text = re.sub('\\n', '', text)\n",
    "    text = re.sub('\\w*\\d\\w*', '', text)\n",
    "    return text"
   ]
  },
  {
   "cell_type": "code",
   "execution_count": 10,
   "metadata": {},
   "outputs": [],
   "source": [
    "# применение функции\n",
    "df['text'] = df['text'].apply(clear_text)"
   ]
  },
  {
   "cell_type": "markdown",
   "metadata": {},
   "source": [
    "<div style=\"border:solid blue 2px; padding: 20px\">\n",
    "\n",
    "### Вывод\n",
    "\n",
    "\n",
    "    \n",
    "    \n",
    "</div>"
   ]
  },
  {
   "cell_type": "markdown",
   "metadata": {},
   "source": [
    "<div style=\"border:solid blue 2px; padding: 20px\">\n",
    "    \n",
    "**Оценка полученных данных**\n",
    "\n",
    "Наблюдения, представленные в таблице описываются категориальными значениями.\n",
    "    \n",
    "Данные можно исследовать для дальнейшего анализа.\n",
    "    \n",
    "    \n",
    "**Таблица `toxic_comments` (данные с разметкой о токсичности)**:\n",
    "    \n",
    "`text` — текст коментария\n",
    "    \n",
    "`toxics` — целевой признак — (коментарии «позитивные» — 0, «негативные» — 1)\n",
    "    \n",
    "Таблица содержит в среднем `0.101679` коментариев для модерации: оценили баланс классов\n",
    "    \n",
    "Проверили на наличие явных дубликатов\n",
    "    \n",
    "От лишних символов текст очистили регулярными выражениями\n",
    "    \n",
    "</div>"
   ]
  },
  {
   "cell_type": "markdown",
   "metadata": {},
   "source": [
    "## Обучение"
   ]
  },
  {
   "cell_type": "markdown",
   "metadata": {},
   "source": [
    "<div style=\"border:solid blue 2px; padding: 20px\">\n",
    "    \n",
    " \n",
    "Исследуем качество на модели — CatBoostClassifier().\n",
    "\n",
    "    \n",
    "    \n",
    "</div> "
   ]
  },
  {
   "cell_type": "markdown",
   "metadata": {},
   "source": [
    "<div style=\"border:solid blue 2px; padding: 20px\">\n",
    "    \n",
    " \n",
    "`train_test_split()` разделим исходные данные на обучающую, валидационную и тестовую выборки\n",
    "    \n",
    "    \n",
    "</div> "
   ]
  },
  {
   "cell_type": "code",
   "execution_count": 11,
   "metadata": {},
   "outputs": [
    {
     "name": "stdout",
     "output_type": "stream",
     "text": [
      "Объектов обучающей выборки 0.5999962399182809\n"
     ]
    }
   ],
   "source": [
    "# получение обучающей выборки\n",
    "df_train, df_part = train_test_split(df, test_size=0.4, random_state=42)\n",
    "print('Объектов обучающей выборки', len(df_train) / len(df))"
   ]
  },
  {
   "cell_type": "code",
   "execution_count": 12,
   "metadata": {},
   "outputs": [
    {
     "name": "stdout",
     "output_type": "stream",
     "text": [
      "Объектов валидационной выборки 0.19999874663942696\n",
      "Объектов тестовой выборки 0.20000501344229216\n"
     ]
    }
   ],
   "source": [
    "# получение валидационной и тестовой выборки\n",
    "df_valid, df_test = train_test_split(df_part, test_size=0.5, random_state=42)\n",
    "print('Объектов валидационной выборки', len(df_valid) / len(df))\n",
    "print('Объектов тестовой выборки', len(df_test) / len(df))"
   ]
  },
  {
   "cell_type": "markdown",
   "metadata": {},
   "source": [
    "<div style=\"border:solid blue 2px; padding: 20px\">\n",
    "    \n",
    " \n",
    "Признаки сохраним в отдельных переменных \n",
    "    \n",
    "    \n",
    "- X - `features`\n",
    "    \n",
    "    \n",
    "- y - `target` - целевой признак\n",
    "    \n",
    "    \n",
    "</div> "
   ]
  },
  {
   "cell_type": "code",
   "execution_count": 13,
   "metadata": {},
   "outputs": [],
   "source": [
    "# сохранение признаков в отдельных переменных\n",
    "X = ['text']\n",
    "y = ['toxic']\n",
    "text_features = ['text']"
   ]
  },
  {
   "cell_type": "code",
   "execution_count": 14,
   "metadata": {},
   "outputs": [],
   "source": [
    "params = {'eval_metric':'AUC',\n",
    "          'text_features':text_features,\n",
    "          'random_state': 42,\n",
    "          'learning_rate':0.1,\n",
    "          'verbose':100}"
   ]
  },
  {
   "cell_type": "code",
   "execution_count": 15,
   "metadata": {},
   "outputs": [],
   "source": [
    "cbc = CatBoostClassifier(**params)"
   ]
  },
  {
   "cell_type": "code",
   "execution_count": 16,
   "metadata": {},
   "outputs": [
    {
     "name": "stdout",
     "output_type": "stream",
     "text": [
      "0:\ttest: 0.8361802\tbest: 0.8361802 (0)\ttotal: 739ms\tremaining: 12m 17s\n",
      "100:\ttest: 0.9606429\tbest: 0.9606554 (99)\ttotal: 1m 13s\tremaining: 10m 57s\n",
      "200:\ttest: 0.9643188\tbest: 0.9643188 (200)\ttotal: 2m 29s\tremaining: 9m 55s\n",
      "300:\ttest: 0.9659732\tbest: 0.9659732 (300)\ttotal: 3m 50s\tremaining: 8m 56s\n",
      "400:\ttest: 0.9670393\tbest: 0.9670393 (400)\ttotal: 5m 4s\tremaining: 7m 34s\n",
      "500:\ttest: 0.9674967\tbest: 0.9675134 (496)\ttotal: 6m 22s\tremaining: 6m 20s\n",
      "600:\ttest: 0.9678071\tbest: 0.9678071 (600)\ttotal: 7m 35s\tremaining: 5m 2s\n",
      "700:\ttest: 0.9679079\tbest: 0.9679210 (696)\ttotal: 8m 50s\tremaining: 3m 46s\n",
      "800:\ttest: 0.9679335\tbest: 0.9680189 (762)\ttotal: 10m 14s\tremaining: 2m 32s\n",
      "900:\ttest: 0.9678770\tbest: 0.9680189 (762)\ttotal: 11m 25s\tremaining: 1m 15s\n",
      "999:\ttest: 0.9677742\tbest: 0.9680189 (762)\ttotal: 12m 39s\tremaining: 0us\n",
      "\n",
      "bestTest = 0.9680188791\n",
      "bestIteration = 762\n",
      "\n",
      "Shrink model to first 763 iterations.\n"
     ]
    },
    {
     "data": {
      "text/plain": [
       "<catboost.core.CatBoostClassifier at 0x7f5789e96340>"
      ]
     },
     "execution_count": 16,
     "metadata": {},
     "output_type": "execute_result"
    }
   ],
   "source": [
    "cbc.fit(df_train[X], df_train[y], eval_set=(df_valid[X], df_valid[y]))"
   ]
  },
  {
   "cell_type": "code",
   "execution_count": 17,
   "metadata": {},
   "outputs": [
    {
     "name": "stdout",
     "output_type": "stream",
     "text": [
      "AUC-ROC CatBoostClassifier 0.9680188791026076\n"
     ]
    },
    {
     "data": {
      "image/png": "[encoded data removed]",
      "text/plain": [
       "<Figure size 432x288 with 1 Axes>"
      ]
     },
     "metadata": {
      "needs_background": "light"
     },
     "output_type": "display_data"
    }
   ],
   "source": [
    "probabilities_one_valid = cbc.predict_proba(df_valid[X])[:, 1]\n",
    "fpr, tpr, thresholds = roc_curve(df_valid[y], probabilities_one_valid)\n",
    "auc_roc = roc_auc_score(df_valid[y], probabilities_one_valid)\n",
    "print('AUC-ROC CatBoostClassifier',auc_roc)\n",
    "plt.plot(fpr, tpr, label='CatBoostClassifier')\n",
    "plt.plot([0, 1], [0, 1], linestyle='--', label='RandomModel')\n",
    "plt.xlim([0,1])\n",
    "plt.ylim([0,1])\n",
    "plt.xlabel(\"False Positive Rate\")\n",
    "plt.ylabel(\"True Positive Rate\")\n",
    "plt.legend(loc='lower right', fontsize='x-large')\n",
    "plt.title(\"ROC-кривая\")\n",
    "plt.show()"
   ]
  },
  {
   "cell_type": "markdown",
   "metadata": {},
   "source": [
    "<div style=\"border:solid blue 2px; padding: 20px\">\n",
    "    \n",
    "Метрика `AUC-ROC` модели `0.968` на валидационной выборке\n",
    "\n",
    "\n",
    "    \n",
    "</div> "
   ]
  },
  {
   "cell_type": "markdown",
   "metadata": {},
   "source": [
    "<div style=\"border:solid blue 2px; padding: 20px\">\n",
    "    \n",
    "Подберём оптимальный порог\n",
    "\n",
    "    \n",
    "</div> "
   ]
  },
  {
   "cell_type": "code",
   "execution_count": 18,
   "metadata": {},
   "outputs": [
    {
     "data": {
      "application/vnd.jupyter.widget-view+json": {
       "model_id": "2f4721e8de524a55a6d5b12b238e86ec",
       "version_major": 2,
       "version_minor": 0
      },
      "text/plain": [
       "  0%|          | 0/2547 [00:00<?, ?it/s]"
      ]
     },
     "metadata": {},
     "output_type": "display_data"
    }
   ],
   "source": [
    "result = []\n",
    "for threshold in tqdm(thresholds):\n",
    "    predicted_valid = (probabilities_one_valid > threshold) * 1\n",
    "    result.append((threshold, f1_score(df_valid[y],predicted_valid)))"
   ]
  },
  {
   "cell_type": "code",
   "execution_count": 19,
   "metadata": {},
   "outputs": [],
   "source": [
    "data_f1 = pd.DataFrame(result,columns=['threshold','f1'])"
   ]
  },
  {
   "cell_type": "code",
   "execution_count": 20,
   "metadata": {},
   "outputs": [
    {
     "data": {
      "text/html": [
       "<div>\n",
       "<style scoped>\n",
       "    .dataframe tbody tr th:only-of-type {\n",
       "        vertical-align: middle;\n",
       "    }\n",
       "\n",
       "    .dataframe tbody tr th {\n",
       "        vertical-align: top;\n",
       "    }\n",
       "\n",
       "    .dataframe thead th {\n",
       "        text-align: right;\n",
       "    }\n",
       "</style>\n",
       "<table border=\"1\" class=\"dataframe\">\n",
       "  <thead>\n",
       "    <tr style=\"text-align: right;\">\n",
       "      <th></th>\n",
       "      <th>threshold</th>\n",
       "      <th>f1</th>\n",
       "    </tr>\n",
       "  </thead>\n",
       "  <tbody>\n",
       "    <tr>\n",
       "      <th>678</th>\n",
       "      <td>0.382562</td>\n",
       "      <td>0.797064</td>\n",
       "    </tr>\n",
       "  </tbody>\n",
       "</table>\n",
       "</div>"
      ],
      "text/plain": [
       "     threshold        f1\n",
       "678   0.382562  0.797064"
      ]
     },
     "execution_count": 20,
     "metadata": {},
     "output_type": "execute_result"
    }
   ],
   "source": [
    "data_f1[data_f1['f1'] == data_f1['f1'].max()]"
   ]
  },
  {
   "cell_type": "markdown",
   "metadata": {},
   "source": [
    "<div style=\"border:solid blue 2px; padding: 20px\">\n",
    "    \n",
    " \n",
    "Исследуем модель на тестовой выборке — с учётом порога `0.418`.\n",
    "    \n",
    "    \n",
    "</div> "
   ]
  },
  {
   "cell_type": "code",
   "execution_count": 21,
   "metadata": {},
   "outputs": [
    {
     "name": "stdout",
     "output_type": "stream",
     "text": [
      "метрика AUC-ROC на тестовой выборке 0.9714754508265581\n"
     ]
    }
   ],
   "source": [
    "# значением метрики качества AUC-ROC\n",
    "print('метрика AUC-ROC на тестовой выборке', roc_auc_score(df_test[y], cbc.predict_proba(df_test[X])[:, 1]))"
   ]
  },
  {
   "cell_type": "code",
   "execution_count": 24,
   "metadata": {},
   "outputs": [],
   "source": [
    "# предсказания на тестовой выборке\n",
    "predicted_test = (cbc.predict_proba(df_test[X])[:, 1] > 0.382562) * 1"
   ]
  },
  {
   "cell_type": "code",
   "execution_count": 25,
   "metadata": {},
   "outputs": [
    {
     "name": "stdout",
     "output_type": "stream",
     "text": [
      "метрика F1 на тестовой выборке 0.7858490566037736\n"
     ]
    }
   ],
   "source": [
    "# значением метрики качества F1\n",
    "print('метрика F1 на тестовой выборке', f1_score(df_test[y],predicted_test))"
   ]
  },
  {
   "cell_type": "markdown",
   "metadata": {},
   "source": [
    "## Выводы"
   ]
  },
  {
   "cell_type": "code",
   "execution_count": 47,
   "metadata": {},
   "outputs": [
    {
     "data": {
      "image/png": "[encoded data removed]",
      "text/plain": [
       "<Figure size 432x288 with 2 Axes>"
      ]
     },
     "metadata": {
      "needs_background": "light"
     },
     "output_type": "display_data"
    }
   ],
   "source": [
    "cm = confusion_matrix(df_test[y], predicted_test, labels=cbc.classes_)\n",
    "display = ConfusionMatrixDisplay(confusion_matrix=cm, display_labels=cbc.classes_)\n",
    "display.plot()\n",
    "plt.title('Матрица ошибок')\n",
    "plt.show()"
   ]
  },
  {
   "cell_type": "markdown",
   "metadata": {},
   "source": [
    "<div style=\"border:solid blue 2px; padding: 20px\">\n",
    "    \n",
    "Метрика `AUC-ROC` на тестовой выборке для полученной модели составляет `0.971`\n",
    "    \n",
    "Исходя из идеального показателя `AUC-ROC = 1`, можно оценить модель как `хорошую`.\n",
    "    \n",
    "Метрика `F1` на тестовой выборке для полученной модели составляет `0.78`\n",
    "    \n",
    "Следовательно с такими показателями метрик `f1-мера` и `AUC-ROC` модель будет выполнять работу.\n",
    "    \n",
    "По матрице ошибок можно рекомендовать полученную модель для поиска токсичных комментариев.\n",
    "    \n",
    "    \n",
    "</div> "
   ]
  }
 ],
 "metadata": {
  "ExecuteTimeLog": [
   {
    "duration": 46,
    "start_time": "2022-05-03T18:20:19.588Z"
   },
   {
    "duration": 1103,
    "start_time": "2022-05-03T18:20:23.364Z"
   },
   {
    "duration": 757,
    "start_time": "2022-05-03T18:20:26.814Z"
   },
   {
    "duration": 12,
    "start_time": "2022-05-03T18:20:29.484Z"
   },
   {
    "duration": 10,
    "start_time": "2022-05-03T18:20:36.214Z"
   },
   {
    "duration": 7,
    "start_time": "2022-05-03T18:21:09.364Z"
   },
   {
    "duration": 30,
    "start_time": "2022-05-03T18:21:53.185Z"
   },
   {
    "duration": 56,
    "start_time": "2022-05-03T18:22:18.234Z"
   },
   {
    "duration": 15,
    "start_time": "2022-05-03T18:22:22.024Z"
   },
   {
    "duration": 1621,
    "start_time": "2022-05-04T17:09:19.812Z"
   },
   {
    "duration": 1061,
    "start_time": "2022-05-04T17:09:21.436Z"
   },
   {
    "duration": 27,
    "start_time": "2022-05-04T17:09:22.499Z"
   },
   {
    "duration": 40,
    "start_time": "2022-05-04T17:09:22.528Z"
   },
   {
    "duration": 19,
    "start_time": "2022-05-04T17:09:22.572Z"
   },
   {
    "duration": 149,
    "start_time": "2022-05-04T17:09:45.579Z"
   },
   {
    "duration": 312,
    "start_time": "2022-05-04T17:09:49.939Z"
   },
   {
    "duration": 14,
    "start_time": "2022-05-04T17:23:28.838Z"
   },
   {
    "duration": 207,
    "start_time": "2022-05-04T17:24:33.587Z"
   },
   {
    "duration": 1596,
    "start_time": "2022-05-04T17:25:21.128Z"
   },
   {
    "duration": 2111,
    "start_time": "2022-05-04T17:25:39.179Z"
   },
   {
    "duration": 2767,
    "start_time": "2022-05-04T17:25:46.874Z"
   },
   {
    "duration": 1744,
    "start_time": "2022-05-04T17:26:18.757Z"
   },
   {
    "duration": 2099,
    "start_time": "2022-05-04T17:26:28.499Z"
   },
   {
    "duration": 2397,
    "start_time": "2022-05-04T17:26:33.698Z"
   },
   {
    "duration": 1924,
    "start_time": "2022-05-04T17:26:38.909Z"
   },
   {
    "duration": 114,
    "start_time": "2022-05-04T17:26:51.599Z"
   },
   {
    "duration": 14,
    "start_time": "2022-05-04T17:26:56.459Z"
   },
   {
    "duration": 5,
    "start_time": "2022-05-04T17:27:06.818Z"
   },
   {
    "duration": 6,
    "start_time": "2022-05-04T17:27:18.870Z"
   },
   {
    "duration": 5,
    "start_time": "2022-05-04T17:27:22.588Z"
   },
   {
    "duration": 8,
    "start_time": "2022-05-04T17:27:30.093Z"
   },
   {
    "duration": 107,
    "start_time": "2022-05-04T17:27:48.151Z"
   },
   {
    "duration": 110,
    "start_time": "2022-05-04T17:28:02.928Z"
   },
   {
    "duration": 18,
    "start_time": "2022-05-04T17:28:24.799Z"
   },
   {
    "duration": 6,
    "start_time": "2022-05-04T17:28:28.559Z"
   },
   {
    "duration": 6,
    "start_time": "2022-05-04T17:28:34.429Z"
   },
   {
    "duration": 11,
    "start_time": "2022-05-04T17:28:42.890Z"
   },
   {
    "duration": 6,
    "start_time": "2022-05-04T17:28:45.888Z"
   },
   {
    "duration": 6,
    "start_time": "2022-05-04T17:28:51.367Z"
   },
   {
    "duration": 6,
    "start_time": "2022-05-04T17:28:53.939Z"
   },
   {
    "duration": 6,
    "start_time": "2022-05-04T17:28:56.099Z"
   },
   {
    "duration": 6,
    "start_time": "2022-05-04T17:29:00.122Z"
   },
   {
    "duration": 5,
    "start_time": "2022-05-04T17:29:04.649Z"
   },
   {
    "duration": 5,
    "start_time": "2022-05-04T17:29:08.539Z"
   },
   {
    "duration": 5,
    "start_time": "2022-05-04T17:29:48.107Z"
   },
   {
    "duration": 13,
    "start_time": "2022-05-04T17:30:54.760Z"
   },
   {
    "duration": 20,
    "start_time": "2022-05-04T17:31:03.410Z"
   },
   {
    "duration": 254,
    "start_time": "2022-05-04T17:32:08.398Z"
   },
   {
    "duration": 3,
    "start_time": "2022-05-04T17:32:26.740Z"
   },
   {
    "duration": 4,
    "start_time": "2022-05-04T17:32:30.319Z"
   },
   {
    "duration": 4,
    "start_time": "2022-05-04T17:32:50.579Z"
   },
   {
    "duration": 4,
    "start_time": "2022-05-04T17:32:59.819Z"
   },
   {
    "duration": 13,
    "start_time": "2022-05-04T17:33:22.260Z"
   },
   {
    "duration": 1595,
    "start_time": "2022-05-04T17:35:30.217Z"
   },
   {
    "duration": 1096,
    "start_time": "2022-05-04T17:35:31.815Z"
   },
   {
    "duration": 29,
    "start_time": "2022-05-04T17:35:32.914Z"
   },
   {
    "duration": 39,
    "start_time": "2022-05-04T17:35:32.945Z"
   },
   {
    "duration": 58,
    "start_time": "2022-05-04T17:35:32.987Z"
   },
   {
    "duration": 9,
    "start_time": "2022-05-04T17:35:33.048Z"
   },
   {
    "duration": 24,
    "start_time": "2022-05-04T17:35:33.059Z"
   },
   {
    "duration": 4,
    "start_time": "2022-05-04T17:36:11.070Z"
   },
   {
    "duration": 320,
    "start_time": "2022-05-04T17:37:50.456Z"
   },
   {
    "duration": 20,
    "start_time": "2022-05-04T17:37:59.745Z"
   },
   {
    "duration": 63,
    "start_time": "2022-05-04T17:40:26.144Z"
   },
   {
    "duration": 145,
    "start_time": "2022-05-04T17:40:32.665Z"
   },
   {
    "duration": 79,
    "start_time": "2022-05-04T17:40:39.506Z"
   },
   {
    "duration": 25,
    "start_time": "2022-05-04T17:46:48.745Z"
   },
   {
    "duration": 6,
    "start_time": "2022-05-04T17:46:53.933Z"
   },
   {
    "duration": 1165,
    "start_time": "2022-05-05T13:23:12.240Z"
   },
   {
    "duration": 924,
    "start_time": "2022-05-05T13:23:13.407Z"
   },
   {
    "duration": 15,
    "start_time": "2022-05-05T13:23:14.332Z"
   },
   {
    "duration": 50,
    "start_time": "2022-05-05T13:23:14.349Z"
   },
   {
    "duration": 14,
    "start_time": "2022-05-05T13:23:14.400Z"
   },
   {
    "duration": 8,
    "start_time": "2022-05-05T13:23:14.416Z"
   },
   {
    "duration": 5,
    "start_time": "2022-05-05T13:23:14.425Z"
   },
   {
    "duration": 5,
    "start_time": "2022-05-05T13:23:14.432Z"
   },
   {
    "duration": 5,
    "start_time": "2022-05-05T13:23:14.438Z"
   },
   {
    "duration": 4,
    "start_time": "2022-05-05T13:23:14.445Z"
   },
   {
    "duration": 7,
    "start_time": "2022-05-05T13:25:10.569Z"
   },
   {
    "duration": 7,
    "start_time": "2022-05-05T13:25:16.250Z"
   },
   {
    "duration": 2,
    "start_time": "2022-05-05T13:28:23.250Z"
   },
   {
    "duration": 4,
    "start_time": "2022-05-05T13:30:18.274Z"
   },
   {
    "duration": 7,
    "start_time": "2022-05-05T13:30:22.224Z"
   },
   {
    "duration": 2,
    "start_time": "2022-05-05T13:31:24.128Z"
   },
   {
    "duration": 1303,
    "start_time": "2022-05-05T13:31:30.960Z"
   },
   {
    "duration": 859,
    "start_time": "2022-05-05T13:31:32.266Z"
   },
   {
    "duration": 13,
    "start_time": "2022-05-05T13:31:33.127Z"
   },
   {
    "duration": 31,
    "start_time": "2022-05-05T13:31:33.142Z"
   },
   {
    "duration": 16,
    "start_time": "2022-05-05T13:31:33.193Z"
   },
   {
    "duration": 4,
    "start_time": "2022-05-05T13:31:33.211Z"
   },
   {
    "duration": 9,
    "start_time": "2022-05-05T13:31:33.217Z"
   },
   {
    "duration": 6,
    "start_time": "2022-05-05T13:31:33.228Z"
   },
   {
    "duration": 8,
    "start_time": "2022-05-05T13:31:33.236Z"
   },
   {
    "duration": 16,
    "start_time": "2022-05-05T13:31:33.246Z"
   },
   {
    "duration": 6,
    "start_time": "2022-05-05T13:31:33.264Z"
   },
   {
    "duration": 3,
    "start_time": "2022-05-05T13:31:33.293Z"
   },
   {
    "duration": 13,
    "start_time": "2022-05-05T13:31:33.298Z"
   },
   {
    "duration": 7,
    "start_time": "2022-05-05T13:31:33.314Z"
   },
   {
    "duration": 4,
    "start_time": "2022-05-05T13:32:23.089Z"
   },
   {
    "duration": 4,
    "start_time": "2022-05-05T13:32:44.836Z"
   },
   {
    "duration": 4,
    "start_time": "2022-05-05T13:32:54.676Z"
   },
   {
    "duration": 4,
    "start_time": "2022-05-05T13:33:05.636Z"
   },
   {
    "duration": 4,
    "start_time": "2022-05-05T13:33:15.976Z"
   },
   {
    "duration": 4,
    "start_time": "2022-05-05T13:33:26.681Z"
   },
   {
    "duration": 3,
    "start_time": "2022-05-05T13:33:40.525Z"
   },
   {
    "duration": 3,
    "start_time": "2022-05-05T13:33:52.744Z"
   },
   {
    "duration": 2,
    "start_time": "2022-05-05T13:34:08.317Z"
   },
   {
    "duration": 1901,
    "start_time": "2022-05-05T13:34:17.028Z"
   },
   {
    "duration": 3019,
    "start_time": "2022-05-05T13:36:38.875Z"
   },
   {
    "duration": 1382,
    "start_time": "2022-05-05T13:36:41.897Z"
   },
   {
    "duration": 962,
    "start_time": "2022-05-05T13:36:43.281Z"
   },
   {
    "duration": 14,
    "start_time": "2022-05-05T13:36:44.245Z"
   },
   {
    "duration": 42,
    "start_time": "2022-05-05T13:36:44.260Z"
   },
   {
    "duration": 15,
    "start_time": "2022-05-05T13:36:44.304Z"
   },
   {
    "duration": 4,
    "start_time": "2022-05-05T13:36:44.320Z"
   },
   {
    "duration": 9,
    "start_time": "2022-05-05T13:36:44.326Z"
   },
   {
    "duration": 4,
    "start_time": "2022-05-05T13:36:44.337Z"
   },
   {
    "duration": 6,
    "start_time": "2022-05-05T13:36:44.343Z"
   },
   {
    "duration": 6,
    "start_time": "2022-05-05T13:36:44.350Z"
   },
   {
    "duration": 5,
    "start_time": "2022-05-05T13:36:44.393Z"
   },
   {
    "duration": 6,
    "start_time": "2022-05-05T13:36:44.399Z"
   },
   {
    "duration": 6,
    "start_time": "2022-05-05T13:36:44.407Z"
   },
   {
    "duration": 11,
    "start_time": "2022-05-05T13:36:44.415Z"
   },
   {
    "duration": 9,
    "start_time": "2022-05-05T13:36:44.428Z"
   },
   {
    "duration": 9,
    "start_time": "2022-05-05T13:36:44.439Z"
   },
   {
    "duration": 10,
    "start_time": "2022-05-05T13:36:44.450Z"
   },
   {
    "duration": 15,
    "start_time": "2022-05-05T13:36:44.462Z"
   },
   {
    "duration": 2044,
    "start_time": "2022-05-05T13:36:44.478Z"
   },
   {
    "duration": 0,
    "start_time": "2022-05-05T13:36:46.523Z"
   },
   {
    "duration": 0,
    "start_time": "2022-05-05T13:36:46.525Z"
   },
   {
    "duration": 0,
    "start_time": "2022-05-05T13:36:46.526Z"
   },
   {
    "duration": 0,
    "start_time": "2022-05-05T13:36:46.527Z"
   },
   {
    "duration": 2245,
    "start_time": "2022-05-05T13:37:48.723Z"
   },
   {
    "duration": 1290,
    "start_time": "2022-05-05T13:37:50.971Z"
   },
   {
    "duration": 852,
    "start_time": "2022-05-05T13:37:52.263Z"
   },
   {
    "duration": 12,
    "start_time": "2022-05-05T13:37:53.117Z"
   },
   {
    "duration": 27,
    "start_time": "2022-05-05T13:37:53.132Z"
   },
   {
    "duration": 38,
    "start_time": "2022-05-05T13:37:53.161Z"
   },
   {
    "duration": 4,
    "start_time": "2022-05-05T13:37:53.200Z"
   },
   {
    "duration": 12,
    "start_time": "2022-05-05T13:37:53.206Z"
   },
   {
    "duration": 6,
    "start_time": "2022-05-05T13:37:53.220Z"
   },
   {
    "duration": 9,
    "start_time": "2022-05-05T13:37:53.228Z"
   },
   {
    "duration": 10,
    "start_time": "2022-05-05T13:37:53.238Z"
   },
   {
    "duration": 8,
    "start_time": "2022-05-05T13:37:53.250Z"
   },
   {
    "duration": 17,
    "start_time": "2022-05-05T13:37:53.260Z"
   },
   {
    "duration": 7,
    "start_time": "2022-05-05T13:37:53.280Z"
   },
   {
    "duration": 5,
    "start_time": "2022-05-05T13:37:53.292Z"
   },
   {
    "duration": 9,
    "start_time": "2022-05-05T13:37:53.298Z"
   },
   {
    "duration": 9,
    "start_time": "2022-05-05T13:37:53.309Z"
   },
   {
    "duration": 17,
    "start_time": "2022-05-05T13:37:53.320Z"
   },
   {
    "duration": 10,
    "start_time": "2022-05-05T13:37:53.339Z"
   },
   {
    "duration": 1599,
    "start_time": "2022-05-05T13:37:53.350Z"
   },
   {
    "duration": 0,
    "start_time": "2022-05-05T13:37:54.951Z"
   },
   {
    "duration": 0,
    "start_time": "2022-05-05T13:37:54.952Z"
   },
   {
    "duration": 0,
    "start_time": "2022-05-05T13:37:54.954Z"
   },
   {
    "duration": 0,
    "start_time": "2022-05-05T13:37:54.955Z"
   },
   {
    "duration": 2725,
    "start_time": "2022-05-05T16:27:11.842Z"
   },
   {
    "duration": 1677,
    "start_time": "2022-05-05T16:27:14.570Z"
   },
   {
    "duration": 1152,
    "start_time": "2022-05-05T16:27:16.250Z"
   },
   {
    "duration": 17,
    "start_time": "2022-05-05T16:27:17.404Z"
   },
   {
    "duration": 53,
    "start_time": "2022-05-05T16:27:17.424Z"
   },
   {
    "duration": 40,
    "start_time": "2022-05-05T16:27:17.479Z"
   },
   {
    "duration": 5,
    "start_time": "2022-05-05T16:27:17.521Z"
   },
   {
    "duration": 24,
    "start_time": "2022-05-05T16:27:17.527Z"
   },
   {
    "duration": 38,
    "start_time": "2022-05-05T16:27:17.552Z"
   },
   {
    "duration": 17,
    "start_time": "2022-05-05T16:27:17.591Z"
   },
   {
    "duration": 24,
    "start_time": "2022-05-05T16:27:17.610Z"
   },
   {
    "duration": 21,
    "start_time": "2022-05-05T16:27:17.636Z"
   },
   {
    "duration": 25,
    "start_time": "2022-05-05T16:27:17.659Z"
   },
   {
    "duration": 17,
    "start_time": "2022-05-05T16:27:17.687Z"
   },
   {
    "duration": 25,
    "start_time": "2022-05-05T16:27:17.706Z"
   },
   {
    "duration": 20,
    "start_time": "2022-05-05T16:27:17.732Z"
   },
   {
    "duration": 20,
    "start_time": "2022-05-05T16:27:17.753Z"
   },
   {
    "duration": 34,
    "start_time": "2022-05-05T16:27:17.775Z"
   },
   {
    "duration": 17,
    "start_time": "2022-05-05T16:27:17.811Z"
   },
   {
    "duration": 1972,
    "start_time": "2022-05-05T16:27:17.830Z"
   },
   {
    "duration": 0,
    "start_time": "2022-05-05T16:27:19.804Z"
   },
   {
    "duration": 0,
    "start_time": "2022-05-05T16:27:19.805Z"
   },
   {
    "duration": 0,
    "start_time": "2022-05-05T16:27:19.806Z"
   },
   {
    "duration": 0,
    "start_time": "2022-05-05T16:27:19.807Z"
   },
   {
    "duration": 3385,
    "start_time": "2022-05-05T16:29:59.459Z"
   },
   {
    "duration": 1557,
    "start_time": "2022-05-05T16:30:02.847Z"
   },
   {
    "duration": 1232,
    "start_time": "2022-05-05T16:30:04.406Z"
   },
   {
    "duration": 18,
    "start_time": "2022-05-05T16:30:05.641Z"
   },
   {
    "duration": 35,
    "start_time": "2022-05-05T16:30:05.661Z"
   },
   {
    "duration": 18,
    "start_time": "2022-05-05T16:30:05.698Z"
   },
   {
    "duration": 5,
    "start_time": "2022-05-05T16:30:05.717Z"
   },
   {
    "duration": 8,
    "start_time": "2022-05-05T16:30:05.754Z"
   },
   {
    "duration": 5,
    "start_time": "2022-05-05T16:30:05.764Z"
   },
   {
    "duration": 16,
    "start_time": "2022-05-05T16:30:05.772Z"
   },
   {
    "duration": 8,
    "start_time": "2022-05-05T16:30:05.790Z"
   },
   {
    "duration": 7,
    "start_time": "2022-05-05T16:30:05.800Z"
   },
   {
    "duration": 7,
    "start_time": "2022-05-05T16:30:05.809Z"
   },
   {
    "duration": 12,
    "start_time": "2022-05-05T16:30:05.818Z"
   },
   {
    "duration": 29,
    "start_time": "2022-05-05T16:30:05.832Z"
   },
   {
    "duration": 10,
    "start_time": "2022-05-05T16:30:05.863Z"
   },
   {
    "duration": 9,
    "start_time": "2022-05-05T16:30:05.875Z"
   },
   {
    "duration": 7,
    "start_time": "2022-05-05T16:30:05.886Z"
   },
   {
    "duration": 13,
    "start_time": "2022-05-05T16:30:05.895Z"
   },
   {
    "duration": 1710,
    "start_time": "2022-05-05T16:30:05.910Z"
   },
   {
    "duration": 0,
    "start_time": "2022-05-05T16:30:07.622Z"
   },
   {
    "duration": 0,
    "start_time": "2022-05-05T16:30:07.624Z"
   },
   {
    "duration": 0,
    "start_time": "2022-05-05T16:30:07.626Z"
   },
   {
    "duration": 0,
    "start_time": "2022-05-05T16:30:07.627Z"
   },
   {
    "duration": 179,
    "start_time": "2022-05-05T16:49:15.930Z"
   },
   {
    "duration": 8756,
    "start_time": "2022-05-05T16:50:27.612Z"
   },
   {
    "duration": 2469,
    "start_time": "2022-05-05T17:01:01.270Z"
   },
   {
    "duration": 1765,
    "start_time": "2022-05-05T17:01:03.742Z"
   },
   {
    "duration": 1304,
    "start_time": "2022-05-05T17:01:05.510Z"
   },
   {
    "duration": 21,
    "start_time": "2022-05-05T17:01:06.817Z"
   },
   {
    "duration": 47,
    "start_time": "2022-05-05T17:01:06.854Z"
   },
   {
    "duration": 24,
    "start_time": "2022-05-05T17:01:06.903Z"
   },
   {
    "duration": 27,
    "start_time": "2022-05-05T17:01:06.930Z"
   },
   {
    "duration": 14,
    "start_time": "2022-05-05T17:01:06.959Z"
   },
   {
    "duration": 11,
    "start_time": "2022-05-05T17:01:06.976Z"
   },
   {
    "duration": 16,
    "start_time": "2022-05-05T17:01:06.992Z"
   },
   {
    "duration": 12,
    "start_time": "2022-05-05T17:01:07.010Z"
   },
   {
    "duration": 30,
    "start_time": "2022-05-05T17:01:07.025Z"
   },
   {
    "duration": 7,
    "start_time": "2022-05-05T17:01:07.057Z"
   },
   {
    "duration": 13,
    "start_time": "2022-05-05T17:01:07.068Z"
   },
   {
    "duration": 15,
    "start_time": "2022-05-05T17:01:07.083Z"
   },
   {
    "duration": 21,
    "start_time": "2022-05-05T17:01:07.100Z"
   },
   {
    "duration": 22,
    "start_time": "2022-05-05T17:01:07.124Z"
   },
   {
    "duration": 9,
    "start_time": "2022-05-05T17:01:07.150Z"
   },
   {
    "duration": 8,
    "start_time": "2022-05-05T17:01:07.162Z"
   },
   {
    "duration": 16409,
    "start_time": "2022-05-05T17:01:07.173Z"
   },
   {
    "duration": 7818,
    "start_time": "2022-05-05T17:01:23.584Z"
   },
   {
    "duration": 3,
    "start_time": "2022-05-05T17:01:31.406Z"
   },
   {
    "duration": 41,
    "start_time": "2022-05-05T17:01:31.411Z"
   },
   {
    "duration": 57,
    "start_time": "2022-05-05T17:01:31.455Z"
   },
   {
    "duration": 32,
    "start_time": "2022-05-05T17:01:31.514Z"
   },
   {
    "duration": 17,
    "start_time": "2022-05-05T17:59:39.117Z"
   },
   {
    "duration": 6,
    "start_time": "2022-05-05T18:20:08.797Z"
   },
   {
    "duration": 10,
    "start_time": "2022-05-05T18:20:21.597Z"
   },
   {
    "duration": 8,
    "start_time": "2022-05-05T18:20:32.466Z"
   },
   {
    "duration": 5,
    "start_time": "2022-05-05T18:20:45.436Z"
   },
   {
    "duration": 4,
    "start_time": "2022-05-05T18:20:57.976Z"
   },
   {
    "duration": 10,
    "start_time": "2022-05-05T18:21:07.918Z"
   },
   {
    "duration": 65,
    "start_time": "2022-05-05T18:21:26.239Z"
   },
   {
    "duration": 5,
    "start_time": "2022-05-05T18:21:53.372Z"
   },
   {
    "duration": 10,
    "start_time": "2022-05-05T18:22:01.924Z"
   },
   {
    "duration": 8,
    "start_time": "2022-05-05T18:22:24.266Z"
   },
   {
    "duration": 7,
    "start_time": "2022-05-05T18:22:32.697Z"
   },
   {
    "duration": 8,
    "start_time": "2022-05-05T18:22:45.320Z"
   },
   {
    "duration": 5,
    "start_time": "2022-05-05T18:26:10.795Z"
   },
   {
    "duration": 9,
    "start_time": "2022-05-05T18:26:13.317Z"
   },
   {
    "duration": 11,
    "start_time": "2022-05-05T18:26:15.229Z"
   },
   {
    "duration": 3845,
    "start_time": "2022-05-06T08:44:47.532Z"
   },
   {
    "duration": 1602,
    "start_time": "2022-05-06T08:44:51.380Z"
   },
   {
    "duration": 1083,
    "start_time": "2022-05-06T08:44:52.984Z"
   },
   {
    "duration": 25,
    "start_time": "2022-05-06T08:44:54.069Z"
   },
   {
    "duration": 40,
    "start_time": "2022-05-06T08:44:54.098Z"
   },
   {
    "duration": 46,
    "start_time": "2022-05-06T08:44:54.140Z"
   },
   {
    "duration": 6,
    "start_time": "2022-05-06T08:44:54.189Z"
   },
   {
    "duration": 11,
    "start_time": "2022-05-06T08:44:54.197Z"
   },
   {
    "duration": 4,
    "start_time": "2022-05-06T08:44:54.210Z"
   },
   {
    "duration": 8,
    "start_time": "2022-05-06T08:44:54.216Z"
   },
   {
    "duration": 9,
    "start_time": "2022-05-06T08:44:54.226Z"
   },
   {
    "duration": 5,
    "start_time": "2022-05-06T08:44:54.237Z"
   },
   {
    "duration": 38,
    "start_time": "2022-05-06T08:44:54.244Z"
   },
   {
    "duration": 3,
    "start_time": "2022-05-06T08:44:54.287Z"
   },
   {
    "duration": 6,
    "start_time": "2022-05-06T08:44:54.292Z"
   },
   {
    "duration": 8,
    "start_time": "2022-05-06T08:44:54.300Z"
   },
   {
    "duration": 7,
    "start_time": "2022-05-06T08:44:54.310Z"
   },
   {
    "duration": 124,
    "start_time": "2022-05-06T08:44:54.319Z"
   },
   {
    "duration": 0,
    "start_time": "2022-05-06T08:44:54.445Z"
   },
   {
    "duration": 0,
    "start_time": "2022-05-06T08:44:54.447Z"
   },
   {
    "duration": 0,
    "start_time": "2022-05-06T08:44:54.448Z"
   },
   {
    "duration": 0,
    "start_time": "2022-05-06T08:44:54.449Z"
   },
   {
    "duration": 0,
    "start_time": "2022-05-06T08:44:54.451Z"
   },
   {
    "duration": 0,
    "start_time": "2022-05-06T08:44:54.452Z"
   },
   {
    "duration": 0,
    "start_time": "2022-05-06T08:44:54.454Z"
   },
   {
    "duration": 0,
    "start_time": "2022-05-06T08:44:54.455Z"
   },
   {
    "duration": 0,
    "start_time": "2022-05-06T08:44:54.456Z"
   },
   {
    "duration": 0,
    "start_time": "2022-05-06T08:44:54.458Z"
   },
   {
    "duration": 0,
    "start_time": "2022-05-06T08:44:54.459Z"
   },
   {
    "duration": 0,
    "start_time": "2022-05-06T08:44:54.460Z"
   },
   {
    "duration": 0,
    "start_time": "2022-05-06T08:44:54.462Z"
   },
   {
    "duration": 0,
    "start_time": "2022-05-06T08:44:54.463Z"
   },
   {
    "duration": 0,
    "start_time": "2022-05-06T08:44:54.465Z"
   },
   {
    "duration": 0,
    "start_time": "2022-05-06T08:44:54.467Z"
   },
   {
    "duration": 0,
    "start_time": "2022-05-06T08:44:54.468Z"
   },
   {
    "duration": 1,
    "start_time": "2022-05-06T08:44:54.469Z"
   },
   {
    "duration": 0,
    "start_time": "2022-05-06T08:44:54.471Z"
   },
   {
    "duration": 33,
    "start_time": "2022-05-06T08:49:45.372Z"
   },
   {
    "duration": 14,
    "start_time": "2022-05-06T08:49:55.773Z"
   },
   {
    "duration": 3397,
    "start_time": "2022-05-06T08:50:08.319Z"
   },
   {
    "duration": 1636,
    "start_time": "2022-05-06T08:50:11.719Z"
   },
   {
    "duration": 1076,
    "start_time": "2022-05-06T08:50:13.357Z"
   },
   {
    "duration": 20,
    "start_time": "2022-05-06T08:50:14.436Z"
   },
   {
    "duration": 56,
    "start_time": "2022-05-06T08:50:14.458Z"
   },
   {
    "duration": 21,
    "start_time": "2022-05-06T08:50:14.516Z"
   },
   {
    "duration": 6,
    "start_time": "2022-05-06T08:50:14.539Z"
   },
   {
    "duration": 59,
    "start_time": "2022-05-06T08:50:14.548Z"
   },
   {
    "duration": 5,
    "start_time": "2022-05-06T08:50:14.609Z"
   },
   {
    "duration": 3,
    "start_time": "2022-05-06T08:50:14.618Z"
   },
   {
    "duration": 5,
    "start_time": "2022-05-06T08:50:14.623Z"
   },
   {
    "duration": 6,
    "start_time": "2022-05-06T08:50:14.630Z"
   },
   {
    "duration": 6,
    "start_time": "2022-05-06T08:50:14.638Z"
   },
   {
    "duration": 4,
    "start_time": "2022-05-06T08:50:14.682Z"
   },
   {
    "duration": 9,
    "start_time": "2022-05-06T08:50:14.688Z"
   },
   {
    "duration": 5,
    "start_time": "2022-05-06T08:50:14.699Z"
   },
   {
    "duration": 5,
    "start_time": "2022-05-06T08:50:14.706Z"
   },
   {
    "duration": 7,
    "start_time": "2022-05-06T08:50:14.713Z"
   },
   {
    "duration": 7,
    "start_time": "2022-05-06T08:50:14.722Z"
   },
   {
    "duration": 9,
    "start_time": "2022-05-06T08:50:14.731Z"
   },
   {
    "duration": 8,
    "start_time": "2022-05-06T08:50:14.742Z"
   },
   {
    "duration": 31,
    "start_time": "2022-05-06T08:50:14.752Z"
   },
   {
    "duration": 7,
    "start_time": "2022-05-06T08:50:14.785Z"
   },
   {
    "duration": 6,
    "start_time": "2022-05-06T08:50:14.794Z"
   },
   {
    "duration": 7,
    "start_time": "2022-05-06T08:50:14.802Z"
   },
   {
    "duration": 7,
    "start_time": "2022-05-06T08:50:14.810Z"
   },
   {
    "duration": 5,
    "start_time": "2022-05-06T08:50:14.819Z"
   },
   {
    "duration": 3,
    "start_time": "2022-05-06T08:50:14.828Z"
   },
   {
    "duration": 5,
    "start_time": "2022-05-06T08:50:14.834Z"
   },
   {
    "duration": 42,
    "start_time": "2022-05-06T08:50:14.841Z"
   },
   {
    "duration": 5,
    "start_time": "2022-05-06T08:50:14.886Z"
   },
   {
    "duration": 6,
    "start_time": "2022-05-06T08:50:14.894Z"
   },
   {
    "duration": 6,
    "start_time": "2022-05-06T08:50:14.902Z"
   },
   {
    "duration": 13,
    "start_time": "2022-05-06T08:50:14.909Z"
   },
   {
    "duration": 13,
    "start_time": "2022-05-06T08:50:14.924Z"
   },
   {
    "duration": 12,
    "start_time": "2022-05-06T08:50:14.939Z"
   },
   {
    "duration": 18,
    "start_time": "2022-05-06T08:50:14.953Z"
   },
   {
    "duration": 14,
    "start_time": "2022-05-06T09:43:20.161Z"
   },
   {
    "duration": 1826,
    "start_time": "2022-05-06T09:43:28.673Z"
   },
   {
    "duration": 7,
    "start_time": "2022-05-06T09:43:40.731Z"
   },
   {
    "duration": 7,
    "start_time": "2022-05-06T09:43:55.810Z"
   },
   {
    "duration": 111,
    "start_time": "2022-05-06T09:44:57.001Z"
   },
   {
    "duration": 4,
    "start_time": "2022-05-06T09:45:03.105Z"
   },
   {
    "duration": 5,
    "start_time": "2022-05-06T09:45:08.081Z"
   },
   {
    "duration": 6,
    "start_time": "2022-05-06T09:45:56.086Z"
   },
   {
    "duration": 5,
    "start_time": "2022-05-06T09:46:43.751Z"
   },
   {
    "duration": 5,
    "start_time": "2022-05-06T09:47:55.921Z"
   },
   {
    "duration": 3312,
    "start_time": "2022-05-06T09:48:34.409Z"
   },
   {
    "duration": 1498,
    "start_time": "2022-05-06T09:48:37.724Z"
   },
   {
    "duration": 1049,
    "start_time": "2022-05-06T09:48:39.224Z"
   },
   {
    "duration": 19,
    "start_time": "2022-05-06T09:48:40.276Z"
   },
   {
    "duration": 39,
    "start_time": "2022-05-06T09:48:40.298Z"
   },
   {
    "duration": 52,
    "start_time": "2022-05-06T09:48:40.339Z"
   },
   {
    "duration": 6,
    "start_time": "2022-05-06T09:48:40.394Z"
   },
   {
    "duration": 32,
    "start_time": "2022-05-06T09:48:40.402Z"
   },
   {
    "duration": 4,
    "start_time": "2022-05-06T09:48:40.436Z"
   },
   {
    "duration": 9,
    "start_time": "2022-05-06T09:48:40.442Z"
   },
   {
    "duration": 6,
    "start_time": "2022-05-06T09:48:40.482Z"
   },
   {
    "duration": 12,
    "start_time": "2022-05-06T09:48:40.491Z"
   },
   {
    "duration": 11,
    "start_time": "2022-05-06T09:48:40.506Z"
   },
   {
    "duration": 4,
    "start_time": "2022-05-06T09:48:40.523Z"
   },
   {
    "duration": 7,
    "start_time": "2022-05-06T09:48:40.529Z"
   },
   {
    "duration": 11,
    "start_time": "2022-05-06T09:48:40.538Z"
   },
   {
    "duration": 40,
    "start_time": "2022-05-06T09:48:40.551Z"
   },
   {
    "duration": 9,
    "start_time": "2022-05-06T09:48:40.593Z"
   },
   {
    "duration": 7,
    "start_time": "2022-05-06T09:48:40.604Z"
   },
   {
    "duration": 4,
    "start_time": "2022-05-06T09:48:40.613Z"
   },
   {
    "duration": 12,
    "start_time": "2022-05-06T09:48:40.620Z"
   },
   {
    "duration": 5,
    "start_time": "2022-05-06T09:48:40.635Z"
   },
   {
    "duration": 9,
    "start_time": "2022-05-06T09:48:40.642Z"
   },
   {
    "duration": 5,
    "start_time": "2022-05-06T09:48:40.654Z"
   },
   {
    "duration": 21,
    "start_time": "2022-05-06T09:48:40.662Z"
   },
   {
    "duration": 7,
    "start_time": "2022-05-06T09:48:40.686Z"
   },
   {
    "duration": 10,
    "start_time": "2022-05-06T09:48:40.696Z"
   },
   {
    "duration": 6,
    "start_time": "2022-05-06T09:48:40.708Z"
   },
   {
    "duration": 6,
    "start_time": "2022-05-06T09:48:40.716Z"
   },
   {
    "duration": 9,
    "start_time": "2022-05-06T09:48:40.725Z"
   },
   {
    "duration": 5,
    "start_time": "2022-05-06T09:48:40.737Z"
   },
   {
    "duration": 8,
    "start_time": "2022-05-06T09:48:40.744Z"
   },
   {
    "duration": 4,
    "start_time": "2022-05-06T09:48:40.781Z"
   },
   {
    "duration": 5,
    "start_time": "2022-05-06T09:48:40.788Z"
   },
   {
    "duration": 7,
    "start_time": "2022-05-06T09:48:40.795Z"
   },
   {
    "duration": 5,
    "start_time": "2022-05-06T09:48:40.804Z"
   },
   {
    "duration": 5,
    "start_time": "2022-05-06T09:48:40.812Z"
   },
   {
    "duration": 7,
    "start_time": "2022-05-06T09:48:40.819Z"
   },
   {
    "duration": 7,
    "start_time": "2022-05-06T09:48:40.828Z"
   },
   {
    "duration": 6,
    "start_time": "2022-05-06T09:48:40.838Z"
   },
   {
    "duration": 4,
    "start_time": "2022-05-06T09:48:40.884Z"
   },
   {
    "duration": 8,
    "start_time": "2022-05-06T09:53:50.121Z"
   },
   {
    "duration": 1621,
    "start_time": "2022-05-06T09:53:50.132Z"
   },
   {
    "duration": 1062,
    "start_time": "2022-05-06T09:53:51.756Z"
   },
   {
    "duration": 19,
    "start_time": "2022-05-06T09:53:52.821Z"
   },
   {
    "duration": 56,
    "start_time": "2022-05-06T09:53:52.844Z"
   },
   {
    "duration": 21,
    "start_time": "2022-05-06T09:53:52.902Z"
   },
   {
    "duration": 6,
    "start_time": "2022-05-06T09:53:52.925Z"
   },
   {
    "duration": 61,
    "start_time": "2022-05-06T09:53:52.933Z"
   },
   {
    "duration": 4,
    "start_time": "2022-05-06T09:53:52.996Z"
   },
   {
    "duration": 11,
    "start_time": "2022-05-06T09:53:53.002Z"
   },
   {
    "duration": 8,
    "start_time": "2022-05-06T09:53:53.015Z"
   },
   {
    "duration": 7,
    "start_time": "2022-05-06T09:53:53.025Z"
   },
   {
    "duration": 8,
    "start_time": "2022-05-06T09:53:53.034Z"
   },
   {
    "duration": 3,
    "start_time": "2022-05-06T09:53:53.083Z"
   },
   {
    "duration": 6,
    "start_time": "2022-05-06T09:53:53.088Z"
   },
   {
    "duration": 7,
    "start_time": "2022-05-06T09:53:53.096Z"
   },
   {
    "duration": 6,
    "start_time": "2022-05-06T09:53:53.105Z"
   },
   {
    "duration": 6,
    "start_time": "2022-05-06T09:53:53.113Z"
   },
   {
    "duration": 7,
    "start_time": "2022-05-06T09:53:53.121Z"
   },
   {
    "duration": 6,
    "start_time": "2022-05-06T09:53:53.130Z"
   },
   {
    "duration": 7,
    "start_time": "2022-05-06T09:53:53.137Z"
   },
   {
    "duration": 36,
    "start_time": "2022-05-06T09:53:53.146Z"
   },
   {
    "duration": 7,
    "start_time": "2022-05-06T09:53:53.184Z"
   },
   {
    "duration": 11,
    "start_time": "2022-05-06T09:53:53.193Z"
   },
   {
    "duration": 7,
    "start_time": "2022-05-06T09:53:53.206Z"
   },
   {
    "duration": 6,
    "start_time": "2022-05-06T09:53:53.215Z"
   },
   {
    "duration": 7,
    "start_time": "2022-05-06T09:53:53.223Z"
   },
   {
    "duration": 6,
    "start_time": "2022-05-06T09:53:53.232Z"
   },
   {
    "duration": 9,
    "start_time": "2022-05-06T09:53:53.240Z"
   },
   {
    "duration": 31,
    "start_time": "2022-05-06T09:53:53.251Z"
   },
   {
    "duration": 3,
    "start_time": "2022-05-06T09:53:53.284Z"
   },
   {
    "duration": 11,
    "start_time": "2022-05-06T09:53:53.289Z"
   },
   {
    "duration": 6,
    "start_time": "2022-05-06T09:53:53.303Z"
   },
   {
    "duration": 5,
    "start_time": "2022-05-06T09:53:53.311Z"
   },
   {
    "duration": 6,
    "start_time": "2022-05-06T09:53:53.318Z"
   },
   {
    "duration": 7,
    "start_time": "2022-05-06T09:53:53.326Z"
   },
   {
    "duration": 7,
    "start_time": "2022-05-06T09:53:53.335Z"
   },
   {
    "duration": 38,
    "start_time": "2022-05-06T09:53:53.344Z"
   },
   {
    "duration": 6,
    "start_time": "2022-05-06T09:53:53.384Z"
   },
   {
    "duration": 7,
    "start_time": "2022-05-06T09:53:53.393Z"
   },
   {
    "duration": 8,
    "start_time": "2022-05-06T09:53:53.405Z"
   },
   {
    "duration": 6,
    "start_time": "2022-05-06T09:54:16.013Z"
   },
   {
    "duration": 1567,
    "start_time": "2022-05-06T09:54:16.028Z"
   },
   {
    "duration": 1091,
    "start_time": "2022-05-06T09:54:17.597Z"
   },
   {
    "duration": 20,
    "start_time": "2022-05-06T09:54:18.690Z"
   },
   {
    "duration": 38,
    "start_time": "2022-05-06T09:54:18.712Z"
   },
   {
    "duration": 21,
    "start_time": "2022-05-06T09:54:18.781Z"
   },
   {
    "duration": 6,
    "start_time": "2022-05-06T09:54:18.804Z"
   },
   {
    "duration": 32,
    "start_time": "2022-05-06T09:54:18.812Z"
   },
   {
    "duration": 36,
    "start_time": "2022-05-06T09:54:18.846Z"
   },
   {
    "duration": 10,
    "start_time": "2022-05-06T09:54:18.884Z"
   },
   {
    "duration": 6,
    "start_time": "2022-05-06T09:54:18.897Z"
   },
   {
    "duration": 7,
    "start_time": "2022-05-06T09:54:18.905Z"
   },
   {
    "duration": 7,
    "start_time": "2022-05-06T09:54:18.914Z"
   },
   {
    "duration": 59,
    "start_time": "2022-05-06T09:54:18.923Z"
   },
   {
    "duration": 4,
    "start_time": "2022-05-06T09:54:18.984Z"
   },
   {
    "duration": 10,
    "start_time": "2022-05-06T09:54:18.990Z"
   },
   {
    "duration": 7,
    "start_time": "2022-05-06T09:54:19.003Z"
   },
   {
    "duration": 9,
    "start_time": "2022-05-06T09:54:19.012Z"
   },
   {
    "duration": 6,
    "start_time": "2022-05-06T09:54:19.023Z"
   },
   {
    "duration": 7,
    "start_time": "2022-05-06T09:54:19.031Z"
   },
   {
    "duration": 6,
    "start_time": "2022-05-06T09:54:19.041Z"
   },
   {
    "duration": 32,
    "start_time": "2022-05-06T09:54:19.050Z"
   },
   {
    "duration": 3,
    "start_time": "2022-05-06T09:54:19.084Z"
   },
   {
    "duration": 9,
    "start_time": "2022-05-06T09:54:19.089Z"
   },
   {
    "duration": 6,
    "start_time": "2022-05-06T09:54:19.101Z"
   },
   {
    "duration": 4,
    "start_time": "2022-05-06T09:54:19.110Z"
   },
   {
    "duration": 5,
    "start_time": "2022-05-06T09:54:19.117Z"
   },
   {
    "duration": 6,
    "start_time": "2022-05-06T09:54:19.125Z"
   },
   {
    "duration": 3,
    "start_time": "2022-05-06T09:54:19.138Z"
   },
   {
    "duration": 6,
    "start_time": "2022-05-06T09:54:19.183Z"
   },
   {
    "duration": 6,
    "start_time": "2022-05-06T09:54:19.191Z"
   },
   {
    "duration": 6,
    "start_time": "2022-05-06T09:54:19.199Z"
   },
   {
    "duration": 7,
    "start_time": "2022-05-06T09:54:19.207Z"
   },
   {
    "duration": 6,
    "start_time": "2022-05-06T09:54:19.217Z"
   },
   {
    "duration": 10,
    "start_time": "2022-05-06T09:54:19.225Z"
   },
   {
    "duration": 5,
    "start_time": "2022-05-06T09:54:19.237Z"
   },
   {
    "duration": 6,
    "start_time": "2022-05-06T09:54:19.244Z"
   },
   {
    "duration": 32,
    "start_time": "2022-05-06T09:54:19.252Z"
   },
   {
    "duration": 7,
    "start_time": "2022-05-06T09:54:19.287Z"
   },
   {
    "duration": 13,
    "start_time": "2022-05-06T09:54:19.295Z"
   },
   {
    "duration": 5,
    "start_time": "2022-05-06T09:54:19.310Z"
   },
   {
    "duration": 5,
    "start_time": "2022-05-06T09:54:36.826Z"
   },
   {
    "duration": 3152,
    "start_time": "2022-05-06T09:54:36.833Z"
   },
   {
    "duration": 1068,
    "start_time": "2022-05-06T09:54:39.988Z"
   },
   {
    "duration": 30,
    "start_time": "2022-05-06T09:54:41.058Z"
   },
   {
    "duration": 39,
    "start_time": "2022-05-06T09:54:41.092Z"
   },
   {
    "duration": 49,
    "start_time": "2022-05-06T09:54:41.134Z"
   },
   {
    "duration": 8,
    "start_time": "2022-05-06T09:54:41.186Z"
   },
   {
    "duration": 36,
    "start_time": "2022-05-06T09:54:41.196Z"
   },
   {
    "duration": 4,
    "start_time": "2022-05-06T09:54:41.234Z"
   },
   {
    "duration": 9,
    "start_time": "2022-05-06T09:54:41.240Z"
   },
   {
    "duration": 6,
    "start_time": "2022-05-06T09:54:41.281Z"
   },
   {
    "duration": 8,
    "start_time": "2022-05-06T09:54:41.289Z"
   },
   {
    "duration": 7,
    "start_time": "2022-05-06T09:54:41.300Z"
   },
   {
    "duration": 4,
    "start_time": "2022-05-06T09:54:41.309Z"
   },
   {
    "duration": 6,
    "start_time": "2022-05-06T09:54:41.314Z"
   },
   {
    "duration": 6,
    "start_time": "2022-05-06T09:54:41.322Z"
   },
   {
    "duration": 9,
    "start_time": "2022-05-06T09:54:41.330Z"
   },
   {
    "duration": 41,
    "start_time": "2022-05-06T09:54:41.341Z"
   },
   {
    "duration": 6,
    "start_time": "2022-05-06T09:54:41.384Z"
   },
   {
    "duration": 7,
    "start_time": "2022-05-06T09:54:41.392Z"
   },
   {
    "duration": 6,
    "start_time": "2022-05-06T09:54:41.401Z"
   },
   {
    "duration": 8,
    "start_time": "2022-05-06T09:54:41.409Z"
   },
   {
    "duration": 8,
    "start_time": "2022-05-06T09:54:41.419Z"
   },
   {
    "duration": 19,
    "start_time": "2022-05-06T09:54:41.430Z"
   },
   {
    "duration": 6,
    "start_time": "2022-05-06T09:54:41.451Z"
   },
   {
    "duration": 8,
    "start_time": "2022-05-06T09:54:41.460Z"
   },
   {
    "duration": 5,
    "start_time": "2022-05-06T09:54:41.483Z"
   },
   {
    "duration": 5,
    "start_time": "2022-05-06T09:54:41.491Z"
   },
   {
    "duration": 3,
    "start_time": "2022-05-06T09:54:41.501Z"
   },
   {
    "duration": 4,
    "start_time": "2022-05-06T09:54:41.507Z"
   },
   {
    "duration": 6,
    "start_time": "2022-05-06T09:54:41.513Z"
   },
   {
    "duration": 5,
    "start_time": "2022-05-06T09:54:41.521Z"
   },
   {
    "duration": 5,
    "start_time": "2022-05-06T09:54:41.529Z"
   },
   {
    "duration": 4,
    "start_time": "2022-05-06T09:54:41.536Z"
   },
   {
    "duration": 3,
    "start_time": "2022-05-06T09:54:41.582Z"
   },
   {
    "duration": 8,
    "start_time": "2022-05-06T09:54:41.587Z"
   },
   {
    "duration": 7,
    "start_time": "2022-05-06T09:54:41.596Z"
   },
   {
    "duration": 8,
    "start_time": "2022-05-06T09:54:41.606Z"
   },
   {
    "duration": 9,
    "start_time": "2022-05-06T09:54:41.616Z"
   },
   {
    "duration": 6,
    "start_time": "2022-05-06T09:54:41.627Z"
   },
   {
    "duration": 7,
    "start_time": "2022-05-06T09:54:41.635Z"
   },
   {
    "duration": 5,
    "start_time": "2022-05-06T09:54:47.760Z"
   },
   {
    "duration": 1651,
    "start_time": "2022-05-06T09:54:47.768Z"
   },
   {
    "duration": 1096,
    "start_time": "2022-05-06T09:54:49.421Z"
   },
   {
    "duration": 20,
    "start_time": "2022-05-06T09:54:50.519Z"
   },
   {
    "duration": 77,
    "start_time": "2022-05-06T09:54:50.543Z"
   },
   {
    "duration": 29,
    "start_time": "2022-05-06T09:54:50.623Z"
   },
   {
    "duration": 8,
    "start_time": "2022-05-06T09:54:50.655Z"
   },
   {
    "duration": 57,
    "start_time": "2022-05-06T09:54:50.681Z"
   },
   {
    "duration": 5,
    "start_time": "2022-05-06T09:54:50.741Z"
   },
   {
    "duration": 26,
    "start_time": "2022-05-06T09:54:50.749Z"
   },
   {
    "duration": 10,
    "start_time": "2022-05-06T09:54:50.778Z"
   },
   {
    "duration": 10,
    "start_time": "2022-05-06T09:54:50.791Z"
   },
   {
    "duration": 9,
    "start_time": "2022-05-06T09:54:50.803Z"
   },
   {
    "duration": 8,
    "start_time": "2022-05-06T09:54:50.819Z"
   },
   {
    "duration": 20,
    "start_time": "2022-05-06T09:54:50.829Z"
   },
   {
    "duration": 14,
    "start_time": "2022-05-06T09:54:50.852Z"
   },
   {
    "duration": 17,
    "start_time": "2022-05-06T09:54:50.868Z"
   },
   {
    "duration": 7,
    "start_time": "2022-05-06T09:54:50.888Z"
   },
   {
    "duration": 9,
    "start_time": "2022-05-06T09:54:50.898Z"
   },
   {
    "duration": 14,
    "start_time": "2022-05-06T09:54:50.909Z"
   },
   {
    "duration": 17,
    "start_time": "2022-05-06T09:54:50.926Z"
   },
   {
    "duration": 9,
    "start_time": "2022-05-06T09:54:50.945Z"
   },
   {
    "duration": 14,
    "start_time": "2022-05-06T09:54:50.956Z"
   },
   {
    "duration": 16,
    "start_time": "2022-05-06T09:54:50.972Z"
   },
   {
    "duration": 13,
    "start_time": "2022-05-06T09:54:50.991Z"
   },
   {
    "duration": 10,
    "start_time": "2022-05-06T09:54:51.007Z"
   },
   {
    "duration": 9,
    "start_time": "2022-05-06T09:54:51.019Z"
   },
   {
    "duration": 6,
    "start_time": "2022-05-06T09:54:51.030Z"
   },
   {
    "duration": 32,
    "start_time": "2022-05-06T09:54:51.038Z"
   },
   {
    "duration": 23,
    "start_time": "2022-05-06T09:54:51.072Z"
   },
   {
    "duration": 10,
    "start_time": "2022-05-06T09:54:51.097Z"
   },
   {
    "duration": 8,
    "start_time": "2022-05-06T09:54:51.109Z"
   },
   {
    "duration": 10,
    "start_time": "2022-05-06T09:54:51.119Z"
   },
   {
    "duration": 23,
    "start_time": "2022-05-06T09:54:51.132Z"
   },
   {
    "duration": 16,
    "start_time": "2022-05-06T09:54:51.158Z"
   },
   {
    "duration": 20,
    "start_time": "2022-05-06T09:54:51.177Z"
   },
   {
    "duration": 10,
    "start_time": "2022-05-06T09:54:51.200Z"
   },
   {
    "duration": 14,
    "start_time": "2022-05-06T09:54:51.213Z"
   },
   {
    "duration": 7,
    "start_time": "2022-05-06T09:54:51.231Z"
   },
   {
    "duration": 7,
    "start_time": "2022-05-06T09:54:51.241Z"
   },
   {
    "duration": 4,
    "start_time": "2022-05-06T09:54:51.256Z"
   },
   {
    "duration": 6,
    "start_time": "2022-05-06T09:55:19.506Z"
   },
   {
    "duration": 1545,
    "start_time": "2022-05-06T09:55:19.514Z"
   },
   {
    "duration": 1068,
    "start_time": "2022-05-06T09:55:21.061Z"
   },
   {
    "duration": 19,
    "start_time": "2022-05-06T09:55:22.132Z"
   },
   {
    "duration": 58,
    "start_time": "2022-05-06T09:55:22.153Z"
   },
   {
    "duration": 19,
    "start_time": "2022-05-06T09:55:22.213Z"
   },
   {
    "duration": 5,
    "start_time": "2022-05-06T09:55:22.235Z"
   },
   {
    "duration": 52,
    "start_time": "2022-05-06T09:55:22.242Z"
   },
   {
    "duration": 4,
    "start_time": "2022-05-06T09:55:22.296Z"
   },
   {
    "duration": 7,
    "start_time": "2022-05-06T09:55:22.304Z"
   },
   {
    "duration": 9,
    "start_time": "2022-05-06T09:55:22.313Z"
   },
   {
    "duration": 7,
    "start_time": "2022-05-06T09:55:22.324Z"
   },
   {
    "duration": 14,
    "start_time": "2022-05-06T09:55:22.333Z"
   },
   {
    "duration": 28,
    "start_time": "2022-05-06T09:55:22.348Z"
   },
   {
    "duration": 11,
    "start_time": "2022-05-06T09:55:22.383Z"
   },
   {
    "duration": 22,
    "start_time": "2022-05-06T09:55:22.396Z"
   },
   {
    "duration": 6,
    "start_time": "2022-05-06T09:55:22.421Z"
   },
   {
    "duration": 14,
    "start_time": "2022-05-06T09:55:22.429Z"
   },
   {
    "duration": 6,
    "start_time": "2022-05-06T09:55:22.445Z"
   },
   {
    "duration": 6,
    "start_time": "2022-05-06T09:55:22.453Z"
   },
   {
    "duration": 5,
    "start_time": "2022-05-06T09:55:22.461Z"
   },
   {
    "duration": 3,
    "start_time": "2022-05-06T09:55:22.481Z"
   },
   {
    "duration": 5,
    "start_time": "2022-05-06T09:55:22.486Z"
   },
   {
    "duration": 5,
    "start_time": "2022-05-06T09:55:22.493Z"
   },
   {
    "duration": 6,
    "start_time": "2022-05-06T09:55:22.500Z"
   },
   {
    "duration": 7,
    "start_time": "2022-05-06T09:55:22.508Z"
   },
   {
    "duration": 8,
    "start_time": "2022-05-06T09:55:22.517Z"
   },
   {
    "duration": 5,
    "start_time": "2022-05-06T09:55:22.529Z"
   },
   {
    "duration": 5,
    "start_time": "2022-05-06T09:55:22.536Z"
   },
   {
    "duration": 5,
    "start_time": "2022-05-06T09:55:22.543Z"
   },
   {
    "duration": 4,
    "start_time": "2022-05-06T09:55:22.582Z"
   },
   {
    "duration": 4,
    "start_time": "2022-05-06T09:55:22.588Z"
   },
   {
    "duration": 8,
    "start_time": "2022-05-06T09:55:22.594Z"
   },
   {
    "duration": 6,
    "start_time": "2022-05-06T09:55:22.604Z"
   },
   {
    "duration": 6,
    "start_time": "2022-05-06T09:55:22.612Z"
   },
   {
    "duration": 5,
    "start_time": "2022-05-06T09:55:22.620Z"
   },
   {
    "duration": 6,
    "start_time": "2022-05-06T09:55:22.627Z"
   },
   {
    "duration": 6,
    "start_time": "2022-05-06T09:55:22.634Z"
   },
   {
    "duration": 42,
    "start_time": "2022-05-06T09:55:22.641Z"
   },
   {
    "duration": 6,
    "start_time": "2022-05-06T09:55:22.685Z"
   },
   {
    "duration": 8,
    "start_time": "2022-05-06T09:55:22.693Z"
   },
   {
    "duration": 5,
    "start_time": "2022-05-06T09:55:42.864Z"
   },
   {
    "duration": 1641,
    "start_time": "2022-05-06T09:55:42.872Z"
   },
   {
    "duration": 1116,
    "start_time": "2022-05-06T09:55:44.516Z"
   },
   {
    "duration": 20,
    "start_time": "2022-05-06T09:55:45.635Z"
   },
   {
    "duration": 62,
    "start_time": "2022-05-06T09:55:45.659Z"
   },
   {
    "duration": 21,
    "start_time": "2022-05-06T09:55:45.723Z"
   },
   {
    "duration": 6,
    "start_time": "2022-05-06T09:55:45.746Z"
   },
   {
    "duration": 37,
    "start_time": "2022-05-06T09:55:45.782Z"
   },
   {
    "duration": 5,
    "start_time": "2022-05-06T09:55:45.822Z"
   },
   {
    "duration": 10,
    "start_time": "2022-05-06T09:55:45.830Z"
   },
   {
    "duration": 7,
    "start_time": "2022-05-06T09:55:45.842Z"
   },
   {
    "duration": 35,
    "start_time": "2022-05-06T09:55:45.851Z"
   },
   {
    "duration": 20,
    "start_time": "2022-05-06T09:55:45.889Z"
   },
   {
    "duration": 3,
    "start_time": "2022-05-06T09:55:45.914Z"
   },
   {
    "duration": 5,
    "start_time": "2022-05-06T09:55:45.919Z"
   },
   {
    "duration": 5,
    "start_time": "2022-05-06T09:55:45.926Z"
   },
   {
    "duration": 5,
    "start_time": "2022-05-06T09:55:45.933Z"
   },
   {
    "duration": 5,
    "start_time": "2022-05-06T09:55:45.940Z"
   },
   {
    "duration": 6,
    "start_time": "2022-05-06T09:55:45.947Z"
   },
   {
    "duration": 4,
    "start_time": "2022-05-06T09:55:45.983Z"
   },
   {
    "duration": 5,
    "start_time": "2022-05-06T09:55:45.989Z"
   },
   {
    "duration": 18,
    "start_time": "2022-05-06T09:55:45.996Z"
   },
   {
    "duration": 6,
    "start_time": "2022-05-06T09:55:46.016Z"
   },
   {
    "duration": 6,
    "start_time": "2022-05-06T09:55:46.024Z"
   },
   {
    "duration": 6,
    "start_time": "2022-05-06T09:55:46.032Z"
   },
   {
    "duration": 42,
    "start_time": "2022-05-06T09:55:46.040Z"
   },
   {
    "duration": 19,
    "start_time": "2022-05-06T09:55:46.085Z"
   },
   {
    "duration": 7,
    "start_time": "2022-05-06T09:55:46.106Z"
   },
   {
    "duration": 6,
    "start_time": "2022-05-06T09:55:46.115Z"
   },
   {
    "duration": 6,
    "start_time": "2022-05-06T09:55:46.123Z"
   },
   {
    "duration": 5,
    "start_time": "2022-05-06T09:55:46.131Z"
   },
   {
    "duration": 6,
    "start_time": "2022-05-06T09:55:46.138Z"
   },
   {
    "duration": 7,
    "start_time": "2022-05-06T09:55:46.146Z"
   },
   {
    "duration": 27,
    "start_time": "2022-05-06T09:55:46.155Z"
   },
   {
    "duration": 4,
    "start_time": "2022-05-06T09:55:46.184Z"
   },
   {
    "duration": 8,
    "start_time": "2022-05-06T09:55:46.190Z"
   },
   {
    "duration": 19,
    "start_time": "2022-05-06T09:55:46.201Z"
   },
   {
    "duration": 6,
    "start_time": "2022-05-06T09:55:46.222Z"
   },
   {
    "duration": 5,
    "start_time": "2022-05-06T09:55:46.231Z"
   },
   {
    "duration": 5,
    "start_time": "2022-05-06T09:55:46.238Z"
   },
   {
    "duration": 3,
    "start_time": "2022-05-06T09:55:46.248Z"
   },
   {
    "duration": 5,
    "start_time": "2022-05-06T09:56:03.395Z"
   },
   {
    "duration": 1591,
    "start_time": "2022-05-06T09:56:03.402Z"
   },
   {
    "duration": 1195,
    "start_time": "2022-05-06T09:56:04.997Z"
   },
   {
    "duration": 27,
    "start_time": "2022-05-06T09:56:06.196Z"
   },
   {
    "duration": 59,
    "start_time": "2022-05-06T09:56:06.225Z"
   },
   {
    "duration": 26,
    "start_time": "2022-05-06T09:56:06.287Z"
   },
   {
    "duration": 23,
    "start_time": "2022-05-06T09:56:06.316Z"
   },
   {
    "duration": 56,
    "start_time": "2022-05-06T09:56:06.341Z"
   },
   {
    "duration": 4,
    "start_time": "2022-05-06T09:56:06.400Z"
   },
   {
    "duration": 9,
    "start_time": "2022-05-06T09:56:06.408Z"
   },
   {
    "duration": 7,
    "start_time": "2022-05-06T09:56:06.419Z"
   },
   {
    "duration": 6,
    "start_time": "2022-05-06T09:56:06.428Z"
   },
   {
    "duration": 48,
    "start_time": "2022-05-06T09:56:06.436Z"
   },
   {
    "duration": 18,
    "start_time": "2022-05-06T09:56:06.488Z"
   },
   {
    "duration": 5,
    "start_time": "2022-05-06T09:56:06.509Z"
   },
   {
    "duration": 6,
    "start_time": "2022-05-06T09:56:06.516Z"
   },
   {
    "duration": 9,
    "start_time": "2022-05-06T09:56:06.524Z"
   },
   {
    "duration": 9,
    "start_time": "2022-05-06T09:56:06.535Z"
   },
   {
    "duration": 7,
    "start_time": "2022-05-06T09:56:06.546Z"
   },
   {
    "duration": 30,
    "start_time": "2022-05-06T09:56:06.555Z"
   },
   {
    "duration": 15,
    "start_time": "2022-05-06T09:56:06.589Z"
   },
   {
    "duration": 7,
    "start_time": "2022-05-06T09:56:06.606Z"
   },
   {
    "duration": 10,
    "start_time": "2022-05-06T09:56:06.615Z"
   },
   {
    "duration": 5,
    "start_time": "2022-05-06T09:56:06.627Z"
   },
   {
    "duration": 7,
    "start_time": "2022-05-06T09:56:06.634Z"
   },
   {
    "duration": 8,
    "start_time": "2022-05-06T09:56:06.642Z"
   },
   {
    "duration": 6,
    "start_time": "2022-05-06T09:56:06.653Z"
   },
   {
    "duration": 5,
    "start_time": "2022-05-06T09:56:06.685Z"
   },
   {
    "duration": 10,
    "start_time": "2022-05-06T09:56:06.696Z"
   },
   {
    "duration": 6,
    "start_time": "2022-05-06T09:56:06.708Z"
   },
   {
    "duration": 8,
    "start_time": "2022-05-06T09:56:06.716Z"
   },
   {
    "duration": 9,
    "start_time": "2022-05-06T09:56:06.726Z"
   },
   {
    "duration": 8,
    "start_time": "2022-05-06T09:56:06.737Z"
   },
   {
    "duration": 7,
    "start_time": "2022-05-06T09:56:06.747Z"
   },
   {
    "duration": 29,
    "start_time": "2022-05-06T09:56:06.756Z"
   },
   {
    "duration": 12,
    "start_time": "2022-05-06T09:56:06.788Z"
   },
   {
    "duration": 11,
    "start_time": "2022-05-06T09:56:06.803Z"
   },
   {
    "duration": 7,
    "start_time": "2022-05-06T09:56:06.817Z"
   },
   {
    "duration": 7,
    "start_time": "2022-05-06T09:56:06.826Z"
   },
   {
    "duration": 7,
    "start_time": "2022-05-06T09:56:06.835Z"
   },
   {
    "duration": 7,
    "start_time": "2022-05-06T09:56:06.844Z"
   },
   {
    "duration": 5,
    "start_time": "2022-05-06T09:57:00.880Z"
   },
   {
    "duration": 1695,
    "start_time": "2022-05-06T09:57:00.888Z"
   },
   {
    "duration": 1320,
    "start_time": "2022-05-06T09:57:02.585Z"
   },
   {
    "duration": 20,
    "start_time": "2022-05-06T09:57:03.908Z"
   },
   {
    "duration": 56,
    "start_time": "2022-05-06T09:57:03.931Z"
   },
   {
    "duration": 21,
    "start_time": "2022-05-06T09:57:03.989Z"
   },
   {
    "duration": 6,
    "start_time": "2022-05-06T09:57:04.012Z"
   },
   {
    "duration": 10,
    "start_time": "2022-05-06T09:57:04.020Z"
   },
   {
    "duration": 5,
    "start_time": "2022-05-06T09:57:04.035Z"
   },
   {
    "duration": 42,
    "start_time": "2022-05-06T09:57:04.042Z"
   },
   {
    "duration": 7,
    "start_time": "2022-05-06T09:57:04.087Z"
   },
   {
    "duration": 8,
    "start_time": "2022-05-06T09:57:04.096Z"
   },
   {
    "duration": 18,
    "start_time": "2022-05-06T09:57:04.106Z"
   },
   {
    "duration": 7,
    "start_time": "2022-05-06T09:57:04.127Z"
   },
   {
    "duration": 13,
    "start_time": "2022-05-06T09:57:04.137Z"
   },
   {
    "duration": 29,
    "start_time": "2022-05-06T09:57:04.152Z"
   },
   {
    "duration": 6,
    "start_time": "2022-05-06T09:57:04.184Z"
   },
   {
    "duration": 6,
    "start_time": "2022-05-06T09:57:04.193Z"
   },
   {
    "duration": 6,
    "start_time": "2022-05-06T09:57:04.201Z"
   },
   {
    "duration": 8,
    "start_time": "2022-05-06T09:57:04.209Z"
   },
   {
    "duration": 6,
    "start_time": "2022-05-06T09:57:04.220Z"
   },
   {
    "duration": 7,
    "start_time": "2022-05-06T09:57:04.228Z"
   },
   {
    "duration": 8,
    "start_time": "2022-05-06T09:57:04.237Z"
   },
   {
    "duration": 34,
    "start_time": "2022-05-06T09:57:04.250Z"
   },
   {
    "duration": 5,
    "start_time": "2022-05-06T09:57:04.287Z"
   },
   {
    "duration": 5,
    "start_time": "2022-05-06T09:57:04.295Z"
   },
   {
    "duration": 6,
    "start_time": "2022-05-06T09:57:04.302Z"
   },
   {
    "duration": 5,
    "start_time": "2022-05-06T09:57:04.311Z"
   },
   {
    "duration": 7,
    "start_time": "2022-05-06T09:57:04.318Z"
   },
   {
    "duration": 6,
    "start_time": "2022-05-06T09:57:04.327Z"
   },
   {
    "duration": 48,
    "start_time": "2022-05-06T09:57:04.335Z"
   },
   {
    "duration": 7,
    "start_time": "2022-05-06T09:57:04.385Z"
   },
   {
    "duration": 5,
    "start_time": "2022-05-06T09:57:04.394Z"
   },
   {
    "duration": 7,
    "start_time": "2022-05-06T09:57:04.401Z"
   },
   {
    "duration": 5,
    "start_time": "2022-05-06T09:57:04.411Z"
   },
   {
    "duration": 7,
    "start_time": "2022-05-06T09:57:04.418Z"
   },
   {
    "duration": 7,
    "start_time": "2022-05-06T09:57:04.427Z"
   },
   {
    "duration": 6,
    "start_time": "2022-05-06T09:57:04.436Z"
   },
   {
    "duration": 38,
    "start_time": "2022-05-06T09:57:04.444Z"
   },
   {
    "duration": 3,
    "start_time": "2022-05-06T09:57:04.484Z"
   },
   {
    "duration": 6,
    "start_time": "2022-05-06T09:57:04.489Z"
   },
   {
    "duration": 287,
    "start_time": "2022-05-06T10:18:49.128Z"
   },
   {
    "duration": 147,
    "start_time": "2022-05-06T12:05:40.083Z"
   },
   {
    "duration": 6,
    "start_time": "2022-05-06T12:06:03.171Z"
   },
   {
    "duration": 5,
    "start_time": "2022-05-06T13:24:54.777Z"
   },
   {
    "duration": 1866,
    "start_time": "2022-05-06T13:24:54.793Z"
   },
   {
    "duration": 1580,
    "start_time": "2022-05-06T13:24:56.662Z"
   },
   {
    "duration": 20,
    "start_time": "2022-05-06T13:24:58.245Z"
   },
   {
    "duration": 52,
    "start_time": "2022-05-06T13:24:58.267Z"
   },
   {
    "duration": 21,
    "start_time": "2022-05-06T13:24:58.322Z"
   },
   {
    "duration": 325,
    "start_time": "2022-05-06T13:24:58.345Z"
   },
   {
    "duration": 10,
    "start_time": "2022-05-06T13:24:58.672Z"
   },
   {
    "duration": 7,
    "start_time": "2022-05-06T13:24:58.684Z"
   },
   {
    "duration": 5,
    "start_time": "2022-05-06T13:24:58.694Z"
   },
   {
    "duration": 9,
    "start_time": "2022-05-06T13:24:58.701Z"
   },
   {
    "duration": 8,
    "start_time": "2022-05-06T13:24:58.712Z"
   },
   {
    "duration": 7,
    "start_time": "2022-05-06T13:24:58.722Z"
   },
   {
    "duration": 7,
    "start_time": "2022-05-06T13:24:58.782Z"
   },
   {
    "duration": 9,
    "start_time": "2022-05-06T13:24:58.796Z"
   },
   {
    "duration": 5,
    "start_time": "2022-05-06T13:24:58.807Z"
   },
   {
    "duration": 6,
    "start_time": "2022-05-06T13:24:58.814Z"
   },
   {
    "duration": 13,
    "start_time": "2022-05-06T13:24:58.822Z"
   },
   {
    "duration": 47,
    "start_time": "2022-05-06T13:24:58.838Z"
   },
   {
    "duration": 7,
    "start_time": "2022-05-06T13:24:58.887Z"
   },
   {
    "duration": 5,
    "start_time": "2022-05-06T13:24:58.897Z"
   },
   {
    "duration": 4,
    "start_time": "2022-05-06T13:24:58.905Z"
   },
   {
    "duration": 6,
    "start_time": "2022-05-06T13:24:58.912Z"
   },
   {
    "duration": 5,
    "start_time": "2022-05-06T13:24:58.921Z"
   },
   {
    "duration": 5,
    "start_time": "2022-05-06T13:24:58.929Z"
   },
   {
    "duration": 5,
    "start_time": "2022-05-06T13:24:58.936Z"
   },
   {
    "duration": 10,
    "start_time": "2022-05-06T13:24:58.983Z"
   },
   {
    "duration": 6,
    "start_time": "2022-05-06T13:24:58.996Z"
   },
   {
    "duration": 8,
    "start_time": "2022-05-06T13:24:59.005Z"
   },
   {
    "duration": 4,
    "start_time": "2022-05-06T13:24:59.016Z"
   },
   {
    "duration": 6,
    "start_time": "2022-05-06T13:24:59.023Z"
   },
   {
    "duration": 7,
    "start_time": "2022-05-06T13:24:59.031Z"
   },
   {
    "duration": 7,
    "start_time": "2022-05-06T13:24:59.041Z"
   },
   {
    "duration": 4,
    "start_time": "2022-05-06T13:24:59.083Z"
   },
   {
    "duration": 6,
    "start_time": "2022-05-06T13:24:59.089Z"
   },
   {
    "duration": 7,
    "start_time": "2022-05-06T13:24:59.098Z"
   },
   {
    "duration": 5,
    "start_time": "2022-05-06T13:24:59.107Z"
   },
   {
    "duration": 6,
    "start_time": "2022-05-06T13:24:59.115Z"
   },
   {
    "duration": 5,
    "start_time": "2022-05-06T13:24:59.123Z"
   },
   {
    "duration": 51,
    "start_time": "2022-05-06T13:24:59.131Z"
   },
   {
    "duration": 4,
    "start_time": "2022-05-06T13:24:59.184Z"
   },
   {
    "duration": 4,
    "start_time": "2022-05-06T13:24:59.193Z"
   },
   {
    "duration": 8,
    "start_time": "2022-05-06T13:24:59.200Z"
   },
   {
    "duration": 5,
    "start_time": "2022-05-06T13:25:03.129Z"
   },
   {
    "duration": 4,
    "start_time": "2022-05-06T13:27:15.726Z"
   },
   {
    "duration": 7,
    "start_time": "2022-05-06T13:27:21.240Z"
   },
   {
    "duration": 1863,
    "start_time": "2022-05-06T13:27:21.251Z"
   },
   {
    "duration": 1076,
    "start_time": "2022-05-06T13:27:23.116Z"
   },
   {
    "duration": 21,
    "start_time": "2022-05-06T13:27:24.194Z"
   },
   {
    "duration": 63,
    "start_time": "2022-05-06T13:27:24.219Z"
   },
   {
    "duration": 21,
    "start_time": "2022-05-06T13:27:24.285Z"
   },
   {
    "duration": 317,
    "start_time": "2022-05-06T13:27:24.308Z"
   },
   {
    "duration": 6,
    "start_time": "2022-05-06T13:27:24.627Z"
   },
   {
    "duration": 12,
    "start_time": "2022-05-06T13:27:24.635Z"
   },
   {
    "duration": 9,
    "start_time": "2022-05-06T13:27:24.649Z"
   },
   {
    "duration": 27,
    "start_time": "2022-05-06T13:27:24.660Z"
   },
   {
    "duration": 7,
    "start_time": "2022-05-06T13:27:24.690Z"
   },
   {
    "duration": 9,
    "start_time": "2022-05-06T13:27:24.699Z"
   },
   {
    "duration": 3,
    "start_time": "2022-05-06T13:27:24.714Z"
   },
   {
    "duration": 7,
    "start_time": "2022-05-06T13:27:24.719Z"
   },
   {
    "duration": 5,
    "start_time": "2022-05-06T13:27:24.729Z"
   },
   {
    "duration": 16,
    "start_time": "2022-05-06T13:27:24.736Z"
   },
   {
    "duration": 29,
    "start_time": "2022-05-06T13:27:24.754Z"
   },
   {
    "duration": 7,
    "start_time": "2022-05-06T13:27:24.786Z"
   },
   {
    "duration": 6,
    "start_time": "2022-05-06T13:27:24.795Z"
   },
   {
    "duration": 6,
    "start_time": "2022-05-06T13:27:24.803Z"
   },
   {
    "duration": 7,
    "start_time": "2022-05-06T13:27:24.811Z"
   },
   {
    "duration": 13,
    "start_time": "2022-05-06T13:27:24.820Z"
   },
   {
    "duration": 11,
    "start_time": "2022-05-06T13:27:24.835Z"
   },
   {
    "duration": 40,
    "start_time": "2022-05-06T13:27:24.848Z"
   },
   {
    "duration": 5,
    "start_time": "2022-05-06T13:27:24.891Z"
   },
   {
    "duration": 6,
    "start_time": "2022-05-06T13:27:24.899Z"
   },
   {
    "duration": 7,
    "start_time": "2022-05-06T13:27:24.907Z"
   },
   {
    "duration": 11,
    "start_time": "2022-05-06T13:27:24.916Z"
   },
   {
    "duration": 6,
    "start_time": "2022-05-06T13:27:24.930Z"
   },
   {
    "duration": 14,
    "start_time": "2022-05-06T13:27:24.939Z"
   },
   {
    "duration": 10,
    "start_time": "2022-05-06T13:27:24.956Z"
   },
   {
    "duration": 6,
    "start_time": "2022-05-06T13:27:24.982Z"
   },
   {
    "duration": 10,
    "start_time": "2022-05-06T13:27:24.991Z"
   },
   {
    "duration": 18,
    "start_time": "2022-05-06T13:27:25.003Z"
   },
   {
    "duration": 13,
    "start_time": "2022-05-06T13:27:25.024Z"
   },
   {
    "duration": 30,
    "start_time": "2022-05-06T13:27:25.039Z"
   },
   {
    "duration": 24,
    "start_time": "2022-05-06T13:27:25.072Z"
   },
   {
    "duration": 12,
    "start_time": "2022-05-06T13:27:25.099Z"
   },
   {
    "duration": 29,
    "start_time": "2022-05-06T13:27:25.113Z"
   },
   {
    "duration": 15,
    "start_time": "2022-05-06T13:27:25.147Z"
   },
   {
    "duration": 28,
    "start_time": "2022-05-06T13:27:25.164Z"
   },
   {
    "duration": 5,
    "start_time": "2022-05-06T13:27:36.177Z"
   },
   {
    "duration": 6,
    "start_time": "2022-05-06T13:27:41.686Z"
   },
   {
    "duration": 6,
    "start_time": "2022-05-06T13:28:49.920Z"
   },
   {
    "duration": 6,
    "start_time": "2022-05-06T13:28:56.307Z"
   },
   {
    "duration": 5,
    "start_time": "2022-05-06T13:29:29.539Z"
   },
   {
    "duration": 1999,
    "start_time": "2022-05-06T13:29:29.547Z"
   },
   {
    "duration": 1089,
    "start_time": "2022-05-06T13:29:31.548Z"
   },
   {
    "duration": 21,
    "start_time": "2022-05-06T13:29:32.640Z"
   },
   {
    "duration": 51,
    "start_time": "2022-05-06T13:29:32.664Z"
   },
   {
    "duration": 28,
    "start_time": "2022-05-06T13:29:32.718Z"
   },
   {
    "duration": 387,
    "start_time": "2022-05-06T13:29:32.748Z"
   },
   {
    "duration": 9,
    "start_time": "2022-05-06T13:29:33.138Z"
   },
   {
    "duration": 32,
    "start_time": "2022-05-06T13:29:33.150Z"
   },
   {
    "duration": 5,
    "start_time": "2022-05-06T13:29:33.184Z"
   },
   {
    "duration": 15,
    "start_time": "2022-05-06T13:29:33.191Z"
   },
   {
    "duration": 8,
    "start_time": "2022-05-06T13:29:33.209Z"
   },
   {
    "duration": 6,
    "start_time": "2022-05-06T13:29:33.220Z"
   },
   {
    "duration": 6,
    "start_time": "2022-05-06T13:29:33.232Z"
   },
   {
    "duration": 46,
    "start_time": "2022-05-06T13:29:33.241Z"
   },
   {
    "duration": 11,
    "start_time": "2022-05-06T13:29:33.289Z"
   },
   {
    "duration": 9,
    "start_time": "2022-05-06T13:29:33.303Z"
   },
   {
    "duration": 5,
    "start_time": "2022-05-06T13:29:33.315Z"
   },
   {
    "duration": 7,
    "start_time": "2022-05-06T13:29:33.322Z"
   },
   {
    "duration": 7,
    "start_time": "2022-05-06T13:29:33.332Z"
   },
   {
    "duration": 41,
    "start_time": "2022-05-06T13:29:33.341Z"
   },
   {
    "duration": 6,
    "start_time": "2022-05-06T13:29:33.384Z"
   },
   {
    "duration": 7,
    "start_time": "2022-05-06T13:29:33.393Z"
   },
   {
    "duration": 13,
    "start_time": "2022-05-06T13:29:33.402Z"
   },
   {
    "duration": 8,
    "start_time": "2022-05-06T13:29:33.417Z"
   },
   {
    "duration": 7,
    "start_time": "2022-05-06T13:29:33.427Z"
   },
   {
    "duration": 10,
    "start_time": "2022-05-06T13:29:33.436Z"
   },
   {
    "duration": 33,
    "start_time": "2022-05-06T13:29:33.449Z"
   },
   {
    "duration": 8,
    "start_time": "2022-05-06T13:29:33.484Z"
   },
   {
    "duration": 6,
    "start_time": "2022-05-06T13:29:33.495Z"
   },
   {
    "duration": 11,
    "start_time": "2022-05-06T13:29:33.503Z"
   },
   {
    "duration": 7,
    "start_time": "2022-05-06T13:29:33.517Z"
   },
   {
    "duration": 5,
    "start_time": "2022-05-06T13:29:33.527Z"
   },
   {
    "duration": 8,
    "start_time": "2022-05-06T13:29:33.535Z"
   },
   {
    "duration": 37,
    "start_time": "2022-05-06T13:29:33.545Z"
   },
   {
    "duration": 6,
    "start_time": "2022-05-06T13:29:33.585Z"
   },
   {
    "duration": 7,
    "start_time": "2022-05-06T13:29:33.594Z"
   },
   {
    "duration": 12,
    "start_time": "2022-05-06T13:29:33.603Z"
   },
   {
    "duration": 7,
    "start_time": "2022-05-06T13:29:33.617Z"
   },
   {
    "duration": 6,
    "start_time": "2022-05-06T13:29:33.626Z"
   },
   {
    "duration": 9,
    "start_time": "2022-05-06T13:29:33.637Z"
   },
   {
    "duration": 35,
    "start_time": "2022-05-06T13:29:33.648Z"
   },
   {
    "duration": 6,
    "start_time": "2022-05-06T13:29:47.021Z"
   },
   {
    "duration": 6,
    "start_time": "2022-05-06T13:29:52.032Z"
   },
   {
    "duration": 7,
    "start_time": "2022-05-06T13:29:58.423Z"
   },
   {
    "duration": 12,
    "start_time": "2022-05-06T13:30:09.032Z"
   },
   {
    "duration": 7,
    "start_time": "2022-05-06T13:30:53.712Z"
   },
   {
    "duration": 5,
    "start_time": "2022-05-06T13:31:30.851Z"
   },
   {
    "duration": 11,
    "start_time": "2022-05-06T13:31:35.942Z"
   },
   {
    "duration": 6,
    "start_time": "2022-05-06T13:32:34.239Z"
   },
   {
    "duration": 7,
    "start_time": "2022-05-06T13:32:38.381Z"
   },
   {
    "duration": 6,
    "start_time": "2022-05-06T13:32:50.951Z"
   },
   {
    "duration": 5,
    "start_time": "2022-05-06T13:32:54.352Z"
   },
   {
    "duration": 6,
    "start_time": "2022-05-06T13:33:35.142Z"
   },
   {
    "duration": 6,
    "start_time": "2022-05-06T13:33:41.352Z"
   },
   {
    "duration": 5,
    "start_time": "2022-05-06T13:33:58.102Z"
   },
   {
    "duration": 6,
    "start_time": "2022-05-06T13:34:02.072Z"
   },
   {
    "duration": 4,
    "start_time": "2022-05-06T13:55:12.980Z"
   },
   {
    "duration": 6,
    "start_time": "2022-05-06T13:55:18.037Z"
   },
   {
    "duration": 5,
    "start_time": "2022-05-06T17:32:07.917Z"
   },
   {
    "duration": 1607,
    "start_time": "2022-05-06T17:32:07.925Z"
   },
   {
    "duration": 1079,
    "start_time": "2022-05-06T17:32:09.534Z"
   },
   {
    "duration": 22,
    "start_time": "2022-05-06T17:32:10.616Z"
   },
   {
    "duration": 62,
    "start_time": "2022-05-06T17:32:10.643Z"
   },
   {
    "duration": 23,
    "start_time": "2022-05-06T17:32:10.708Z"
   },
   {
    "duration": 333,
    "start_time": "2022-05-06T17:32:10.733Z"
   },
   {
    "duration": 15,
    "start_time": "2022-05-06T17:32:11.069Z"
   },
   {
    "duration": 9,
    "start_time": "2022-05-06T17:32:11.088Z"
   },
   {
    "duration": 5,
    "start_time": "2022-05-06T17:32:11.100Z"
   },
   {
    "duration": 8,
    "start_time": "2022-05-06T17:32:11.108Z"
   },
   {
    "duration": 6,
    "start_time": "2022-05-06T17:32:11.119Z"
   },
   {
    "duration": 54,
    "start_time": "2022-05-06T17:32:11.127Z"
   },
   {
    "duration": 3,
    "start_time": "2022-05-06T17:32:11.186Z"
   },
   {
    "duration": 9,
    "start_time": "2022-05-06T17:32:11.191Z"
   },
   {
    "duration": 25,
    "start_time": "2022-05-06T17:32:11.202Z"
   },
   {
    "duration": 7,
    "start_time": "2022-05-06T17:32:11.230Z"
   },
   {
    "duration": 10,
    "start_time": "2022-05-06T17:32:11.240Z"
   },
   {
    "duration": 5,
    "start_time": "2022-05-06T17:32:11.253Z"
   },
   {
    "duration": 23,
    "start_time": "2022-05-06T17:32:11.260Z"
   },
   {
    "duration": 9,
    "start_time": "2022-05-06T17:32:11.285Z"
   },
   {
    "duration": 9,
    "start_time": "2022-05-06T17:32:11.296Z"
   },
   {
    "duration": 5,
    "start_time": "2022-05-06T17:32:11.308Z"
   },
   {
    "duration": 5,
    "start_time": "2022-05-06T17:32:11.315Z"
   },
   {
    "duration": 7,
    "start_time": "2022-05-06T17:32:11.323Z"
   },
   {
    "duration": 5,
    "start_time": "2022-05-06T17:32:11.333Z"
   },
   {
    "duration": 6,
    "start_time": "2022-05-06T17:32:11.340Z"
   },
   {
    "duration": 4,
    "start_time": "2022-05-06T17:32:11.381Z"
   },
   {
    "duration": 7,
    "start_time": "2022-05-06T17:32:11.387Z"
   },
   {
    "duration": 6,
    "start_time": "2022-05-06T17:32:11.396Z"
   },
   {
    "duration": 6,
    "start_time": "2022-05-06T17:32:11.405Z"
   },
   {
    "duration": 5,
    "start_time": "2022-05-06T17:32:11.415Z"
   },
   {
    "duration": 15,
    "start_time": "2022-05-06T17:32:11.422Z"
   },
   {
    "duration": 12,
    "start_time": "2022-05-06T17:32:11.439Z"
   },
   {
    "duration": 29,
    "start_time": "2022-05-06T17:32:11.453Z"
   },
   {
    "duration": 7,
    "start_time": "2022-05-06T17:32:11.484Z"
   },
   {
    "duration": 7,
    "start_time": "2022-05-06T17:32:11.493Z"
   },
   {
    "duration": 6,
    "start_time": "2022-05-06T17:32:11.502Z"
   },
   {
    "duration": 6,
    "start_time": "2022-05-06T17:32:11.510Z"
   },
   {
    "duration": 6,
    "start_time": "2022-05-06T17:32:11.518Z"
   },
   {
    "duration": 6,
    "start_time": "2022-05-06T17:32:11.528Z"
   },
   {
    "duration": 1611,
    "start_time": "2022-05-06T19:37:23.754Z"
   },
   {
    "duration": 787,
    "start_time": "2022-05-06T19:37:43.854Z"
   },
   {
    "duration": 6,
    "start_time": "2022-05-06T19:45:33.616Z"
   },
   {
    "duration": 1521,
    "start_time": "2022-05-06T19:45:33.624Z"
   },
   {
    "duration": 1106,
    "start_time": "2022-05-06T19:45:35.148Z"
   },
   {
    "duration": 30,
    "start_time": "2022-05-06T19:45:36.257Z"
   },
   {
    "duration": 42,
    "start_time": "2022-05-06T19:45:36.290Z"
   },
   {
    "duration": 52,
    "start_time": "2022-05-06T19:45:36.334Z"
   },
   {
    "duration": 505,
    "start_time": "2022-05-06T19:45:36.388Z"
   },
   {
    "duration": 418,
    "start_time": "2022-05-06T19:45:36.896Z"
   },
   {
    "duration": 8,
    "start_time": "2022-05-06T19:45:37.317Z"
   },
   {
    "duration": 20058,
    "start_time": "2022-05-06T19:45:37.328Z"
   },
   {
    "duration": 30,
    "start_time": "2022-05-06T19:45:57.390Z"
   },
   {
    "duration": 3,
    "start_time": "2022-05-06T19:45:57.422Z"
   },
   {
    "duration": 11,
    "start_time": "2022-05-06T19:45:57.427Z"
   },
   {
    "duration": 42,
    "start_time": "2022-05-06T19:45:57.440Z"
   },
   {
    "duration": 7,
    "start_time": "2022-05-06T19:45:57.484Z"
   },
   {
    "duration": 6,
    "start_time": "2022-05-06T19:45:57.493Z"
   },
   {
    "duration": 7,
    "start_time": "2022-05-06T19:45:57.501Z"
   },
   {
    "duration": 7,
    "start_time": "2022-05-06T19:45:57.511Z"
   },
   {
    "duration": 11,
    "start_time": "2022-05-06T19:45:57.520Z"
   },
   {
    "duration": 8,
    "start_time": "2022-05-06T19:45:57.533Z"
   },
   {
    "duration": 39,
    "start_time": "2022-05-06T19:45:57.543Z"
   },
   {
    "duration": 4,
    "start_time": "2022-05-06T19:45:57.585Z"
   },
   {
    "duration": 6,
    "start_time": "2022-05-06T19:45:57.592Z"
   },
   {
    "duration": 6,
    "start_time": "2022-05-06T19:45:57.600Z"
   },
   {
    "duration": 7,
    "start_time": "2022-05-06T19:45:57.609Z"
   },
   {
    "duration": 6,
    "start_time": "2022-05-06T19:45:57.618Z"
   },
   {
    "duration": 5,
    "start_time": "2022-05-06T19:45:57.627Z"
   },
   {
    "duration": 8,
    "start_time": "2022-05-06T19:45:57.634Z"
   },
   {
    "duration": 5,
    "start_time": "2022-05-06T19:45:57.681Z"
   },
   {
    "duration": 9,
    "start_time": "2022-05-06T19:45:57.689Z"
   },
   {
    "duration": 9,
    "start_time": "2022-05-06T19:45:57.700Z"
   },
   {
    "duration": 5,
    "start_time": "2022-05-06T19:45:57.711Z"
   },
   {
    "duration": 11,
    "start_time": "2022-05-06T19:45:57.718Z"
   },
   {
    "duration": 8,
    "start_time": "2022-05-06T19:45:57.731Z"
   },
   {
    "duration": 7,
    "start_time": "2022-05-06T19:45:57.741Z"
   },
   {
    "duration": 33,
    "start_time": "2022-05-06T19:45:57.750Z"
   },
   {
    "duration": 17,
    "start_time": "2022-05-06T19:47:43.065Z"
   },
   {
    "duration": 5,
    "start_time": "2022-05-06T19:48:45.845Z"
   },
   {
    "duration": 35,
    "start_time": "2022-05-06T19:48:55.065Z"
   },
   {
    "duration": 27,
    "start_time": "2022-05-06T19:49:32.336Z"
   },
   {
    "duration": 4,
    "start_time": "2022-05-06T19:56:14.244Z"
   },
   {
    "duration": 3,
    "start_time": "2022-05-06T19:56:16.335Z"
   },
   {
    "duration": 4,
    "start_time": "2022-05-06T19:56:19.335Z"
   },
   {
    "duration": 750240,
    "start_time": "2022-05-06T19:58:23.005Z"
   },
   {
    "duration": 14,
    "start_time": "2022-05-06T20:29:44.876Z"
   },
   {
    "duration": 5,
    "start_time": "2022-05-06T21:02:34.918Z"
   },
   {
    "duration": 4142,
    "start_time": "2022-05-06T21:03:23.253Z"
   },
   {
    "duration": 3975,
    "start_time": "2022-05-06T21:03:43.573Z"
   },
   {
    "duration": 5,
    "start_time": "2022-05-06T21:04:23.962Z"
   },
   {
    "duration": 4208,
    "start_time": "2022-05-06T21:04:31.294Z"
   },
   {
    "duration": 6,
    "start_time": "2022-05-06T21:05:31.701Z"
   },
   {
    "duration": 6,
    "start_time": "2022-05-06T21:20:54.804Z"
   },
   {
    "duration": 33887,
    "start_time": "2022-05-06T21:24:25.495Z"
   },
   {
    "duration": 5,
    "start_time": "2022-05-06T21:25:44.175Z"
   },
   {
    "duration": 11,
    "start_time": "2022-05-06T21:26:14.686Z"
   },
   {
    "duration": 3967,
    "start_time": "2022-05-06T21:29:04.673Z"
   },
   {
    "duration": 18,
    "start_time": "2022-05-06T21:30:34.197Z"
   },
   {
    "duration": 13,
    "start_time": "2022-05-06T21:30:40.294Z"
   },
   {
    "duration": 4169,
    "start_time": "2022-05-06T21:30:49.504Z"
   },
   {
    "duration": 227,
    "start_time": "2022-05-06T21:46:45.616Z"
   },
   {
    "duration": 1869,
    "start_time": "2022-05-06T21:47:10.896Z"
   },
   {
    "duration": 224,
    "start_time": "2022-05-06T21:47:37.284Z"
   },
   {
    "duration": 14,
    "start_time": "2022-05-06T21:47:53.256Z"
   },
   {
    "duration": 174,
    "start_time": "2022-05-06T21:50:16.532Z"
   },
   {
    "duration": 695,
    "start_time": "2022-05-06T21:50:24.255Z"
   },
   {
    "duration": 10,
    "start_time": "2022-05-06T21:50:37.615Z"
   },
   {
    "duration": 6,
    "start_time": "2022-05-06T21:50:50.336Z"
   },
   {
    "duration": 5,
    "start_time": "2022-05-06T21:51:48.696Z"
   },
   {
    "duration": 15,
    "start_time": "2022-05-06T21:52:52.306Z"
   },
   {
    "duration": 596,
    "start_time": "2022-05-06T21:53:14.465Z"
   },
   {
    "duration": 246,
    "start_time": "2022-05-06T21:59:34.431Z"
   },
   {
    "duration": 297,
    "start_time": "2022-05-06T22:00:01.176Z"
   },
   {
    "duration": 248,
    "start_time": "2022-05-06T22:00:17.935Z"
   },
   {
    "duration": 3972,
    "start_time": "2022-05-06T22:03:45.903Z"
   },
   {
    "duration": 6,
    "start_time": "2022-05-06T22:07:31.137Z"
   },
   {
    "duration": 2541,
    "start_time": "2022-05-06T22:07:31.147Z"
   },
   {
    "duration": 1127,
    "start_time": "2022-05-06T22:07:33.690Z"
   },
   {
    "duration": 17,
    "start_time": "2022-05-06T22:07:34.821Z"
   },
   {
    "duration": 65,
    "start_time": "2022-05-06T22:07:34.841Z"
   },
   {
    "duration": 21,
    "start_time": "2022-05-06T22:07:34.909Z"
   },
   {
    "duration": 209,
    "start_time": "2022-05-06T22:07:34.932Z"
   },
   {
    "duration": 326,
    "start_time": "2022-05-06T22:07:35.143Z"
   },
   {
    "duration": 11,
    "start_time": "2022-05-06T22:07:35.473Z"
   },
   {
    "duration": 18900,
    "start_time": "2022-05-06T22:07:35.486Z"
   },
   {
    "duration": 31,
    "start_time": "2022-05-06T22:07:54.389Z"
   },
   {
    "duration": 19,
    "start_time": "2022-05-06T22:07:54.423Z"
   },
   {
    "duration": 37,
    "start_time": "2022-05-06T22:07:54.445Z"
   },
   {
    "duration": 14,
    "start_time": "2022-05-06T22:07:54.485Z"
   },
   {
    "duration": 7,
    "start_time": "2022-05-06T22:07:54.501Z"
   },
   {
    "duration": 773764,
    "start_time": "2022-05-06T22:07:54.510Z"
   },
   {
    "duration": 4083,
    "start_time": "2022-05-06T22:20:48.276Z"
   },
   {
    "duration": 33973,
    "start_time": "2022-05-06T22:20:52.362Z"
   },
   {
    "duration": 5,
    "start_time": "2022-05-06T22:21:26.338Z"
   },
   {
    "duration": 37,
    "start_time": "2022-05-06T22:21:26.346Z"
   },
   {
    "duration": 3717,
    "start_time": "2022-05-06T22:21:26.387Z"
   },
   {
    "duration": 3710,
    "start_time": "2022-05-06T22:21:30.107Z"
   },
   {
    "duration": 17,
    "start_time": "2022-05-06T22:21:33.819Z"
   },
   {
    "duration": 3646,
    "start_time": "2022-05-06T22:21:55.473Z"
   },
   {
    "duration": 19,
    "start_time": "2022-05-06T22:22:03.885Z"
   },
   {
    "duration": 161,
    "start_time": "2022-05-06T22:22:57.455Z"
   },
   {
    "duration": 105,
    "start_time": "2022-05-06T22:24:04.674Z"
   },
   {
    "duration": 12,
    "start_time": "2022-05-06T22:24:09.624Z"
   },
   {
    "duration": 36,
    "start_time": "2022-05-06T22:24:48.935Z"
   },
   {
    "duration": 33,
    "start_time": "2022-05-06T22:29:20.335Z"
   },
   {
    "duration": 118,
    "start_time": "2022-05-06T22:29:31.926Z"
   },
   {
    "duration": 34,
    "start_time": "2022-05-06T22:29:36.095Z"
   },
   {
    "duration": 17,
    "start_time": "2022-05-06T22:35:17.485Z"
   },
   {
    "duration": 438,
    "start_time": "2022-05-06T22:40:36.075Z"
   },
   {
    "duration": 4923,
    "start_time": "2022-05-06T22:42:02.564Z"
   },
   {
    "duration": 317,
    "start_time": "2022-05-06T22:43:08.903Z"
   },
   {
    "duration": 4,
    "start_time": "2022-05-06T23:02:52.605Z"
   },
   {
    "duration": 18,
    "start_time": "2022-05-06T23:04:23.391Z"
   },
   {
    "duration": 17,
    "start_time": "2022-05-06T23:07:45.175Z"
   },
   {
    "duration": 273,
    "start_time": "2022-05-06T23:08:49.296Z"
   },
   {
    "duration": 69,
    "start_time": "2022-05-06T23:10:01.824Z"
   },
   {
    "duration": 373,
    "start_time": "2022-05-06T23:10:09.935Z"
   },
   {
    "duration": 396,
    "start_time": "2022-05-06T23:10:27.136Z"
   },
   {
    "duration": 362,
    "start_time": "2022-05-06T23:10:36.058Z"
   },
   {
    "duration": 47,
    "start_time": "2022-05-06T23:14:44.609Z"
   },
   {
    "duration": 262,
    "start_time": "2022-05-06T23:14:56.085Z"
   },
   {
    "duration": 250,
    "start_time": "2022-05-06T23:15:45.372Z"
   }
  ],
  "kernelspec": {
   "display_name": "Python 3 (ipykernel)",
   "language": "python",
   "name": "python3"
  },
  "language_info": {
   "codemirror_mode": {
    "name": "ipython",
    "version": 3
   },
   "file_extension": ".py",
   "mimetype": "text/x-python",
   "name": "python",
   "nbconvert_exporter": "python",
   "pygments_lexer": "ipython3",
   "version": "3.9.5"
  },
  "toc": {
   "base_numbering": 1,
   "nav_menu": {},
   "number_sections": true,
   "sideBar": true,
   "skip_h1_title": true,
   "title_cell": "Содержание",
   "title_sidebar": "Contents",
   "toc_cell": true,
   "toc_position": {
    "height": "calc(100% - 180px)",
    "left": "10px",
    "top": "150px",
    "width": "302.391px"
   },
   "toc_section_display": true,
   "toc_window_display": true
  }
 },
 "nbformat": 4,
 "nbformat_minor": 2
}
