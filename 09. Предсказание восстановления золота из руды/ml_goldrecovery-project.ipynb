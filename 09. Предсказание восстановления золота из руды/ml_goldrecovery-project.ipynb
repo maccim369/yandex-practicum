{
 "cells": [
  {
   "cell_type": "markdown",
   "metadata": {},
   "source": [
    "# План работы\n",
    "\n",
    "1. Подготовить данные\n",
    "2. Провести исследовательский анализ данных\n",
    "3. Построить и обучить модель\n",
    "4. Выводы\n"
   ]
  },
  {
   "cell_type": "markdown",
   "metadata": {},
   "source": [
    "## Подготовка данных"
   ]
  },
  {
   "cell_type": "markdown",
   "metadata": {},
   "source": [
    "<div style=\"border:solid blue 2px; padding: 20px\">\n",
    "\n",
    "Откроем и изучим файл\n",
    "</div>"
   ]
  },
  {
   "cell_type": "markdown",
   "metadata": {},
   "source": [
    "<div style=\"border:solid blue 2px; padding: 20px\">\n",
    "\n",
    "Импортируем библиотеки\n",
    "</div>"
   ]
  },
  {
   "cell_type": "code",
   "execution_count": 1,
   "metadata": {},
   "outputs": [],
   "source": [
    "#pip install -U pandas-profiling[notebook]"
   ]
  },
  {
   "cell_type": "code",
   "execution_count": 2,
   "metadata": {},
   "outputs": [],
   "source": [
    "#pip install sweetviz"
   ]
  },
  {
   "cell_type": "code",
   "execution_count": 3,
   "metadata": {},
   "outputs": [],
   "source": [
    "import matplotlib.pyplot as plt\n",
    "import numpy as np\n",
    "import pandas as pd\n",
    "import warnings\n",
    "#import sweetviz as sv\n",
    "#from pandas_profiling import ProfileReport\n",
    "from sklearn.model_selection import train_test_split\n",
    "from sklearn.metrics import mean_absolute_error, make_scorer\n",
    "from sklearn.tree import DecisionTreeRegressor\n",
    "from sklearn.ensemble import RandomForestRegressor\n",
    "from sklearn.linear_model import LinearRegression\n",
    "from sklearn.model_selection import cross_val_score\n",
    "warnings.filterwarnings('ignore')"
   ]
  },
  {
   "cell_type": "markdown",
   "metadata": {},
   "source": [
    "<div style=\"border:solid blue 2px; padding: 20px\">\n",
    "\n",
    "Откроем и изучим файлы\n",
    "</div>"
   ]
  },
  {
   "cell_type": "code",
   "execution_count": 4,
   "metadata": {},
   "outputs": [],
   "source": [
    "# чтение файла с данными и сохранение\n",
    "# метод try-except поможет загрузить данные локально или глобально\n",
    "try:\n",
    "    gold_recovery_train = pd.read_csv('C:/Users/gold_recovery_train_new.csv')  # Локальный путь\n",
    "    gold_recovery_test = pd.read_csv('C:/Users/gold_recovery_test_new.csv')\n",
    "    gold_recovery_full = pd.read_csv('C:/Users/gold_recovery_full_new.csv')\n",
    "except:\n",
    "    gold_recovery_train = pd.read_csv('/datasets/gold_recovery_train_new.csv')  # Серверный путь\n",
    "    gold_recovery_test = pd.read_csv('/datasets/gold_recovery_test_new.csv')\n",
    "    gold_recovery_full = pd.read_csv('/datasets/gold_recovery_full_new.csv')"
   ]
  },
  {
   "cell_type": "markdown",
   "metadata": {},
   "source": [
    "<div style=\"border:solid blue 2px; padding: 20px\">\n",
    "    \n",
    "`head()` выводим на экран первые пять строк таблицы:\n",
    "    </div>"
   ]
  },
  {
   "cell_type": "code",
   "execution_count": 5,
   "metadata": {
    "scrolled": false
   },
   "outputs": [
    {
     "data": {
      "text/html": [
       "<div>\n",
       "<style scoped>\n",
       "    .dataframe tbody tr th:only-of-type {\n",
       "        vertical-align: middle;\n",
       "    }\n",
       "\n",
       "    .dataframe tbody tr th {\n",
       "        vertical-align: top;\n",
       "    }\n",
       "\n",
       "    .dataframe thead th {\n",
       "        text-align: right;\n",
       "    }\n",
       "</style>\n",
       "<table border=\"1\" class=\"dataframe\">\n",
       "  <thead>\n",
       "    <tr style=\"text-align: right;\">\n",
       "      <th></th>\n",
       "      <th>date</th>\n",
       "      <th>final.output.concentrate_ag</th>\n",
       "      <th>final.output.concentrate_pb</th>\n",
       "      <th>final.output.concentrate_sol</th>\n",
       "      <th>final.output.concentrate_au</th>\n",
       "      <th>final.output.recovery</th>\n",
       "      <th>final.output.tail_ag</th>\n",
       "      <th>final.output.tail_pb</th>\n",
       "      <th>final.output.tail_sol</th>\n",
       "      <th>final.output.tail_au</th>\n",
       "      <th>...</th>\n",
       "      <th>secondary_cleaner.state.floatbank4_a_air</th>\n",
       "      <th>secondary_cleaner.state.floatbank4_a_level</th>\n",
       "      <th>secondary_cleaner.state.floatbank4_b_air</th>\n",
       "      <th>secondary_cleaner.state.floatbank4_b_level</th>\n",
       "      <th>secondary_cleaner.state.floatbank5_a_air</th>\n",
       "      <th>secondary_cleaner.state.floatbank5_a_level</th>\n",
       "      <th>secondary_cleaner.state.floatbank5_b_air</th>\n",
       "      <th>secondary_cleaner.state.floatbank5_b_level</th>\n",
       "      <th>secondary_cleaner.state.floatbank6_a_air</th>\n",
       "      <th>secondary_cleaner.state.floatbank6_a_level</th>\n",
       "    </tr>\n",
       "  </thead>\n",
       "  <tbody>\n",
       "    <tr>\n",
       "      <th>0</th>\n",
       "      <td>2016-01-15 00:00:00</td>\n",
       "      <td>6.055403</td>\n",
       "      <td>9.889648</td>\n",
       "      <td>5.507324</td>\n",
       "      <td>42.192020</td>\n",
       "      <td>70.541216</td>\n",
       "      <td>10.411962</td>\n",
       "      <td>0.895447</td>\n",
       "      <td>16.904297</td>\n",
       "      <td>2.143149</td>\n",
       "      <td>...</td>\n",
       "      <td>14.016835</td>\n",
       "      <td>-502.488007</td>\n",
       "      <td>12.099931</td>\n",
       "      <td>-504.715942</td>\n",
       "      <td>9.925633</td>\n",
       "      <td>-498.310211</td>\n",
       "      <td>8.079666</td>\n",
       "      <td>-500.470978</td>\n",
       "      <td>14.151341</td>\n",
       "      <td>-605.841980</td>\n",
       "    </tr>\n",
       "    <tr>\n",
       "      <th>1</th>\n",
       "      <td>2016-01-15 01:00:00</td>\n",
       "      <td>6.029369</td>\n",
       "      <td>9.968944</td>\n",
       "      <td>5.257781</td>\n",
       "      <td>42.701629</td>\n",
       "      <td>69.266198</td>\n",
       "      <td>10.462676</td>\n",
       "      <td>0.927452</td>\n",
       "      <td>16.634514</td>\n",
       "      <td>2.224930</td>\n",
       "      <td>...</td>\n",
       "      <td>13.992281</td>\n",
       "      <td>-505.503262</td>\n",
       "      <td>11.950531</td>\n",
       "      <td>-501.331529</td>\n",
       "      <td>10.039245</td>\n",
       "      <td>-500.169983</td>\n",
       "      <td>7.984757</td>\n",
       "      <td>-500.582168</td>\n",
       "      <td>13.998353</td>\n",
       "      <td>-599.787184</td>\n",
       "    </tr>\n",
       "    <tr>\n",
       "      <th>2</th>\n",
       "      <td>2016-01-15 02:00:00</td>\n",
       "      <td>6.055926</td>\n",
       "      <td>10.213995</td>\n",
       "      <td>5.383759</td>\n",
       "      <td>42.657501</td>\n",
       "      <td>68.116445</td>\n",
       "      <td>10.507046</td>\n",
       "      <td>0.953716</td>\n",
       "      <td>16.208849</td>\n",
       "      <td>2.257889</td>\n",
       "      <td>...</td>\n",
       "      <td>14.015015</td>\n",
       "      <td>-502.520901</td>\n",
       "      <td>11.912783</td>\n",
       "      <td>-501.133383</td>\n",
       "      <td>10.070913</td>\n",
       "      <td>-500.129135</td>\n",
       "      <td>8.013877</td>\n",
       "      <td>-500.517572</td>\n",
       "      <td>14.028663</td>\n",
       "      <td>-601.427363</td>\n",
       "    </tr>\n",
       "    <tr>\n",
       "      <th>3</th>\n",
       "      <td>2016-01-15 03:00:00</td>\n",
       "      <td>6.047977</td>\n",
       "      <td>9.977019</td>\n",
       "      <td>4.858634</td>\n",
       "      <td>42.689819</td>\n",
       "      <td>68.347543</td>\n",
       "      <td>10.422762</td>\n",
       "      <td>0.883763</td>\n",
       "      <td>16.532835</td>\n",
       "      <td>2.146849</td>\n",
       "      <td>...</td>\n",
       "      <td>14.036510</td>\n",
       "      <td>-500.857308</td>\n",
       "      <td>11.999550</td>\n",
       "      <td>-501.193686</td>\n",
       "      <td>9.970366</td>\n",
       "      <td>-499.201640</td>\n",
       "      <td>7.977324</td>\n",
       "      <td>-500.255908</td>\n",
       "      <td>14.005551</td>\n",
       "      <td>-599.996129</td>\n",
       "    </tr>\n",
       "    <tr>\n",
       "      <th>4</th>\n",
       "      <td>2016-01-15 04:00:00</td>\n",
       "      <td>6.148599</td>\n",
       "      <td>10.142511</td>\n",
       "      <td>4.939416</td>\n",
       "      <td>42.774141</td>\n",
       "      <td>66.927016</td>\n",
       "      <td>10.360302</td>\n",
       "      <td>0.792826</td>\n",
       "      <td>16.525686</td>\n",
       "      <td>2.055292</td>\n",
       "      <td>...</td>\n",
       "      <td>14.027298</td>\n",
       "      <td>-499.838632</td>\n",
       "      <td>11.953070</td>\n",
       "      <td>-501.053894</td>\n",
       "      <td>9.925709</td>\n",
       "      <td>-501.686727</td>\n",
       "      <td>7.894242</td>\n",
       "      <td>-500.356035</td>\n",
       "      <td>13.996647</td>\n",
       "      <td>-601.496691</td>\n",
       "    </tr>\n",
       "  </tbody>\n",
       "</table>\n",
       "<p>5 rows × 87 columns</p>\n",
       "</div>"
      ],
      "text/plain": [
       "                  date  final.output.concentrate_ag  \\\n",
       "0  2016-01-15 00:00:00                     6.055403   \n",
       "1  2016-01-15 01:00:00                     6.029369   \n",
       "2  2016-01-15 02:00:00                     6.055926   \n",
       "3  2016-01-15 03:00:00                     6.047977   \n",
       "4  2016-01-15 04:00:00                     6.148599   \n",
       "\n",
       "   final.output.concentrate_pb  final.output.concentrate_sol  \\\n",
       "0                     9.889648                      5.507324   \n",
       "1                     9.968944                      5.257781   \n",
       "2                    10.213995                      5.383759   \n",
       "3                     9.977019                      4.858634   \n",
       "4                    10.142511                      4.939416   \n",
       "\n",
       "   final.output.concentrate_au  final.output.recovery  final.output.tail_ag  \\\n",
       "0                    42.192020              70.541216             10.411962   \n",
       "1                    42.701629              69.266198             10.462676   \n",
       "2                    42.657501              68.116445             10.507046   \n",
       "3                    42.689819              68.347543             10.422762   \n",
       "4                    42.774141              66.927016             10.360302   \n",
       "\n",
       "   final.output.tail_pb  final.output.tail_sol  final.output.tail_au  ...  \\\n",
       "0              0.895447              16.904297              2.143149  ...   \n",
       "1              0.927452              16.634514              2.224930  ...   \n",
       "2              0.953716              16.208849              2.257889  ...   \n",
       "3              0.883763              16.532835              2.146849  ...   \n",
       "4              0.792826              16.525686              2.055292  ...   \n",
       "\n",
       "   secondary_cleaner.state.floatbank4_a_air  \\\n",
       "0                                 14.016835   \n",
       "1                                 13.992281   \n",
       "2                                 14.015015   \n",
       "3                                 14.036510   \n",
       "4                                 14.027298   \n",
       "\n",
       "   secondary_cleaner.state.floatbank4_a_level  \\\n",
       "0                                 -502.488007   \n",
       "1                                 -505.503262   \n",
       "2                                 -502.520901   \n",
       "3                                 -500.857308   \n",
       "4                                 -499.838632   \n",
       "\n",
       "   secondary_cleaner.state.floatbank4_b_air  \\\n",
       "0                                 12.099931   \n",
       "1                                 11.950531   \n",
       "2                                 11.912783   \n",
       "3                                 11.999550   \n",
       "4                                 11.953070   \n",
       "\n",
       "   secondary_cleaner.state.floatbank4_b_level  \\\n",
       "0                                 -504.715942   \n",
       "1                                 -501.331529   \n",
       "2                                 -501.133383   \n",
       "3                                 -501.193686   \n",
       "4                                 -501.053894   \n",
       "\n",
       "   secondary_cleaner.state.floatbank5_a_air  \\\n",
       "0                                  9.925633   \n",
       "1                                 10.039245   \n",
       "2                                 10.070913   \n",
       "3                                  9.970366   \n",
       "4                                  9.925709   \n",
       "\n",
       "   secondary_cleaner.state.floatbank5_a_level  \\\n",
       "0                                 -498.310211   \n",
       "1                                 -500.169983   \n",
       "2                                 -500.129135   \n",
       "3                                 -499.201640   \n",
       "4                                 -501.686727   \n",
       "\n",
       "   secondary_cleaner.state.floatbank5_b_air  \\\n",
       "0                                  8.079666   \n",
       "1                                  7.984757   \n",
       "2                                  8.013877   \n",
       "3                                  7.977324   \n",
       "4                                  7.894242   \n",
       "\n",
       "   secondary_cleaner.state.floatbank5_b_level  \\\n",
       "0                                 -500.470978   \n",
       "1                                 -500.582168   \n",
       "2                                 -500.517572   \n",
       "3                                 -500.255908   \n",
       "4                                 -500.356035   \n",
       "\n",
       "   secondary_cleaner.state.floatbank6_a_air  \\\n",
       "0                                 14.151341   \n",
       "1                                 13.998353   \n",
       "2                                 14.028663   \n",
       "3                                 14.005551   \n",
       "4                                 13.996647   \n",
       "\n",
       "   secondary_cleaner.state.floatbank6_a_level  \n",
       "0                                 -605.841980  \n",
       "1                                 -599.787184  \n",
       "2                                 -601.427363  \n",
       "3                                 -599.996129  \n",
       "4                                 -601.496691  \n",
       "\n",
       "[5 rows x 87 columns]"
      ]
     },
     "execution_count": 5,
     "metadata": {},
     "output_type": "execute_result"
    }
   ],
   "source": [
    "# получение первых 5 строк таблицы gold_recovery_full\n",
    "gold_recovery_full.head()"
   ]
  },
  {
   "cell_type": "code",
   "execution_count": 6,
   "metadata": {
    "scrolled": false
   },
   "outputs": [
    {
     "data": {
      "text/html": [
       "<div>\n",
       "<style scoped>\n",
       "    .dataframe tbody tr th:only-of-type {\n",
       "        vertical-align: middle;\n",
       "    }\n",
       "\n",
       "    .dataframe tbody tr th {\n",
       "        vertical-align: top;\n",
       "    }\n",
       "\n",
       "    .dataframe thead th {\n",
       "        text-align: right;\n",
       "    }\n",
       "</style>\n",
       "<table border=\"1\" class=\"dataframe\">\n",
       "  <thead>\n",
       "    <tr style=\"text-align: right;\">\n",
       "      <th></th>\n",
       "      <th>date</th>\n",
       "      <th>final.output.concentrate_ag</th>\n",
       "      <th>final.output.concentrate_pb</th>\n",
       "      <th>final.output.concentrate_sol</th>\n",
       "      <th>final.output.concentrate_au</th>\n",
       "      <th>final.output.recovery</th>\n",
       "      <th>final.output.tail_ag</th>\n",
       "      <th>final.output.tail_pb</th>\n",
       "      <th>final.output.tail_sol</th>\n",
       "      <th>final.output.tail_au</th>\n",
       "      <th>...</th>\n",
       "      <th>secondary_cleaner.state.floatbank4_a_air</th>\n",
       "      <th>secondary_cleaner.state.floatbank4_a_level</th>\n",
       "      <th>secondary_cleaner.state.floatbank4_b_air</th>\n",
       "      <th>secondary_cleaner.state.floatbank4_b_level</th>\n",
       "      <th>secondary_cleaner.state.floatbank5_a_air</th>\n",
       "      <th>secondary_cleaner.state.floatbank5_a_level</th>\n",
       "      <th>secondary_cleaner.state.floatbank5_b_air</th>\n",
       "      <th>secondary_cleaner.state.floatbank5_b_level</th>\n",
       "      <th>secondary_cleaner.state.floatbank6_a_air</th>\n",
       "      <th>secondary_cleaner.state.floatbank6_a_level</th>\n",
       "    </tr>\n",
       "  </thead>\n",
       "  <tbody>\n",
       "    <tr>\n",
       "      <th>0</th>\n",
       "      <td>2016-01-15 00:00:00</td>\n",
       "      <td>6.055403</td>\n",
       "      <td>9.889648</td>\n",
       "      <td>5.507324</td>\n",
       "      <td>42.192020</td>\n",
       "      <td>70.541216</td>\n",
       "      <td>10.411962</td>\n",
       "      <td>0.895447</td>\n",
       "      <td>16.904297</td>\n",
       "      <td>2.143149</td>\n",
       "      <td>...</td>\n",
       "      <td>14.016835</td>\n",
       "      <td>-502.488007</td>\n",
       "      <td>12.099931</td>\n",
       "      <td>-504.715942</td>\n",
       "      <td>9.925633</td>\n",
       "      <td>-498.310211</td>\n",
       "      <td>8.079666</td>\n",
       "      <td>-500.470978</td>\n",
       "      <td>14.151341</td>\n",
       "      <td>-605.841980</td>\n",
       "    </tr>\n",
       "    <tr>\n",
       "      <th>1</th>\n",
       "      <td>2016-01-15 01:00:00</td>\n",
       "      <td>6.029369</td>\n",
       "      <td>9.968944</td>\n",
       "      <td>5.257781</td>\n",
       "      <td>42.701629</td>\n",
       "      <td>69.266198</td>\n",
       "      <td>10.462676</td>\n",
       "      <td>0.927452</td>\n",
       "      <td>16.634514</td>\n",
       "      <td>2.224930</td>\n",
       "      <td>...</td>\n",
       "      <td>13.992281</td>\n",
       "      <td>-505.503262</td>\n",
       "      <td>11.950531</td>\n",
       "      <td>-501.331529</td>\n",
       "      <td>10.039245</td>\n",
       "      <td>-500.169983</td>\n",
       "      <td>7.984757</td>\n",
       "      <td>-500.582168</td>\n",
       "      <td>13.998353</td>\n",
       "      <td>-599.787184</td>\n",
       "    </tr>\n",
       "    <tr>\n",
       "      <th>2</th>\n",
       "      <td>2016-01-15 02:00:00</td>\n",
       "      <td>6.055926</td>\n",
       "      <td>10.213995</td>\n",
       "      <td>5.383759</td>\n",
       "      <td>42.657501</td>\n",
       "      <td>68.116445</td>\n",
       "      <td>10.507046</td>\n",
       "      <td>0.953716</td>\n",
       "      <td>16.208849</td>\n",
       "      <td>2.257889</td>\n",
       "      <td>...</td>\n",
       "      <td>14.015015</td>\n",
       "      <td>-502.520901</td>\n",
       "      <td>11.912783</td>\n",
       "      <td>-501.133383</td>\n",
       "      <td>10.070913</td>\n",
       "      <td>-500.129135</td>\n",
       "      <td>8.013877</td>\n",
       "      <td>-500.517572</td>\n",
       "      <td>14.028663</td>\n",
       "      <td>-601.427363</td>\n",
       "    </tr>\n",
       "    <tr>\n",
       "      <th>3</th>\n",
       "      <td>2016-01-15 03:00:00</td>\n",
       "      <td>6.047977</td>\n",
       "      <td>9.977019</td>\n",
       "      <td>4.858634</td>\n",
       "      <td>42.689819</td>\n",
       "      <td>68.347543</td>\n",
       "      <td>10.422762</td>\n",
       "      <td>0.883763</td>\n",
       "      <td>16.532835</td>\n",
       "      <td>2.146849</td>\n",
       "      <td>...</td>\n",
       "      <td>14.036510</td>\n",
       "      <td>-500.857308</td>\n",
       "      <td>11.999550</td>\n",
       "      <td>-501.193686</td>\n",
       "      <td>9.970366</td>\n",
       "      <td>-499.201640</td>\n",
       "      <td>7.977324</td>\n",
       "      <td>-500.255908</td>\n",
       "      <td>14.005551</td>\n",
       "      <td>-599.996129</td>\n",
       "    </tr>\n",
       "    <tr>\n",
       "      <th>4</th>\n",
       "      <td>2016-01-15 04:00:00</td>\n",
       "      <td>6.148599</td>\n",
       "      <td>10.142511</td>\n",
       "      <td>4.939416</td>\n",
       "      <td>42.774141</td>\n",
       "      <td>66.927016</td>\n",
       "      <td>10.360302</td>\n",
       "      <td>0.792826</td>\n",
       "      <td>16.525686</td>\n",
       "      <td>2.055292</td>\n",
       "      <td>...</td>\n",
       "      <td>14.027298</td>\n",
       "      <td>-499.838632</td>\n",
       "      <td>11.953070</td>\n",
       "      <td>-501.053894</td>\n",
       "      <td>9.925709</td>\n",
       "      <td>-501.686727</td>\n",
       "      <td>7.894242</td>\n",
       "      <td>-500.356035</td>\n",
       "      <td>13.996647</td>\n",
       "      <td>-601.496691</td>\n",
       "    </tr>\n",
       "  </tbody>\n",
       "</table>\n",
       "<p>5 rows × 87 columns</p>\n",
       "</div>"
      ],
      "text/plain": [
       "                  date  final.output.concentrate_ag  \\\n",
       "0  2016-01-15 00:00:00                     6.055403   \n",
       "1  2016-01-15 01:00:00                     6.029369   \n",
       "2  2016-01-15 02:00:00                     6.055926   \n",
       "3  2016-01-15 03:00:00                     6.047977   \n",
       "4  2016-01-15 04:00:00                     6.148599   \n",
       "\n",
       "   final.output.concentrate_pb  final.output.concentrate_sol  \\\n",
       "0                     9.889648                      5.507324   \n",
       "1                     9.968944                      5.257781   \n",
       "2                    10.213995                      5.383759   \n",
       "3                     9.977019                      4.858634   \n",
       "4                    10.142511                      4.939416   \n",
       "\n",
       "   final.output.concentrate_au  final.output.recovery  final.output.tail_ag  \\\n",
       "0                    42.192020              70.541216             10.411962   \n",
       "1                    42.701629              69.266198             10.462676   \n",
       "2                    42.657501              68.116445             10.507046   \n",
       "3                    42.689819              68.347543             10.422762   \n",
       "4                    42.774141              66.927016             10.360302   \n",
       "\n",
       "   final.output.tail_pb  final.output.tail_sol  final.output.tail_au  ...  \\\n",
       "0              0.895447              16.904297              2.143149  ...   \n",
       "1              0.927452              16.634514              2.224930  ...   \n",
       "2              0.953716              16.208849              2.257889  ...   \n",
       "3              0.883763              16.532835              2.146849  ...   \n",
       "4              0.792826              16.525686              2.055292  ...   \n",
       "\n",
       "   secondary_cleaner.state.floatbank4_a_air  \\\n",
       "0                                 14.016835   \n",
       "1                                 13.992281   \n",
       "2                                 14.015015   \n",
       "3                                 14.036510   \n",
       "4                                 14.027298   \n",
       "\n",
       "   secondary_cleaner.state.floatbank4_a_level  \\\n",
       "0                                 -502.488007   \n",
       "1                                 -505.503262   \n",
       "2                                 -502.520901   \n",
       "3                                 -500.857308   \n",
       "4                                 -499.838632   \n",
       "\n",
       "   secondary_cleaner.state.floatbank4_b_air  \\\n",
       "0                                 12.099931   \n",
       "1                                 11.950531   \n",
       "2                                 11.912783   \n",
       "3                                 11.999550   \n",
       "4                                 11.953070   \n",
       "\n",
       "   secondary_cleaner.state.floatbank4_b_level  \\\n",
       "0                                 -504.715942   \n",
       "1                                 -501.331529   \n",
       "2                                 -501.133383   \n",
       "3                                 -501.193686   \n",
       "4                                 -501.053894   \n",
       "\n",
       "   secondary_cleaner.state.floatbank5_a_air  \\\n",
       "0                                  9.925633   \n",
       "1                                 10.039245   \n",
       "2                                 10.070913   \n",
       "3                                  9.970366   \n",
       "4                                  9.925709   \n",
       "\n",
       "   secondary_cleaner.state.floatbank5_a_level  \\\n",
       "0                                 -498.310211   \n",
       "1                                 -500.169983   \n",
       "2                                 -500.129135   \n",
       "3                                 -499.201640   \n",
       "4                                 -501.686727   \n",
       "\n",
       "   secondary_cleaner.state.floatbank5_b_air  \\\n",
       "0                                  8.079666   \n",
       "1                                  7.984757   \n",
       "2                                  8.013877   \n",
       "3                                  7.977324   \n",
       "4                                  7.894242   \n",
       "\n",
       "   secondary_cleaner.state.floatbank5_b_level  \\\n",
       "0                                 -500.470978   \n",
       "1                                 -500.582168   \n",
       "2                                 -500.517572   \n",
       "3                                 -500.255908   \n",
       "4                                 -500.356035   \n",
       "\n",
       "   secondary_cleaner.state.floatbank6_a_air  \\\n",
       "0                                 14.151341   \n",
       "1                                 13.998353   \n",
       "2                                 14.028663   \n",
       "3                                 14.005551   \n",
       "4                                 13.996647   \n",
       "\n",
       "   secondary_cleaner.state.floatbank6_a_level  \n",
       "0                                 -605.841980  \n",
       "1                                 -599.787184  \n",
       "2                                 -601.427363  \n",
       "3                                 -599.996129  \n",
       "4                                 -601.496691  \n",
       "\n",
       "[5 rows x 87 columns]"
      ]
     },
     "execution_count": 6,
     "metadata": {},
     "output_type": "execute_result"
    }
   ],
   "source": [
    "# получение первых 5 строк таблицы gold_recovery_train\n",
    "gold_recovery_train.head()"
   ]
  },
  {
   "cell_type": "code",
   "execution_count": 7,
   "metadata": {
    "scrolled": false
   },
   "outputs": [
    {
     "data": {
      "text/html": [
       "<div>\n",
       "<style scoped>\n",
       "    .dataframe tbody tr th:only-of-type {\n",
       "        vertical-align: middle;\n",
       "    }\n",
       "\n",
       "    .dataframe tbody tr th {\n",
       "        vertical-align: top;\n",
       "    }\n",
       "\n",
       "    .dataframe thead th {\n",
       "        text-align: right;\n",
       "    }\n",
       "</style>\n",
       "<table border=\"1\" class=\"dataframe\">\n",
       "  <thead>\n",
       "    <tr style=\"text-align: right;\">\n",
       "      <th></th>\n",
       "      <th>date</th>\n",
       "      <th>primary_cleaner.input.sulfate</th>\n",
       "      <th>primary_cleaner.input.depressant</th>\n",
       "      <th>primary_cleaner.input.feed_size</th>\n",
       "      <th>primary_cleaner.input.xanthate</th>\n",
       "      <th>primary_cleaner.state.floatbank8_a_air</th>\n",
       "      <th>primary_cleaner.state.floatbank8_a_level</th>\n",
       "      <th>primary_cleaner.state.floatbank8_b_air</th>\n",
       "      <th>primary_cleaner.state.floatbank8_b_level</th>\n",
       "      <th>primary_cleaner.state.floatbank8_c_air</th>\n",
       "      <th>...</th>\n",
       "      <th>secondary_cleaner.state.floatbank4_a_air</th>\n",
       "      <th>secondary_cleaner.state.floatbank4_a_level</th>\n",
       "      <th>secondary_cleaner.state.floatbank4_b_air</th>\n",
       "      <th>secondary_cleaner.state.floatbank4_b_level</th>\n",
       "      <th>secondary_cleaner.state.floatbank5_a_air</th>\n",
       "      <th>secondary_cleaner.state.floatbank5_a_level</th>\n",
       "      <th>secondary_cleaner.state.floatbank5_b_air</th>\n",
       "      <th>secondary_cleaner.state.floatbank5_b_level</th>\n",
       "      <th>secondary_cleaner.state.floatbank6_a_air</th>\n",
       "      <th>secondary_cleaner.state.floatbank6_a_level</th>\n",
       "    </tr>\n",
       "  </thead>\n",
       "  <tbody>\n",
       "    <tr>\n",
       "      <th>0</th>\n",
       "      <td>2016-09-01 00:59:59</td>\n",
       "      <td>210.800909</td>\n",
       "      <td>14.993118</td>\n",
       "      <td>8.080000</td>\n",
       "      <td>1.005021</td>\n",
       "      <td>1398.981301</td>\n",
       "      <td>-500.225577</td>\n",
       "      <td>1399.144926</td>\n",
       "      <td>-499.919735</td>\n",
       "      <td>1400.102998</td>\n",
       "      <td>...</td>\n",
       "      <td>12.023554</td>\n",
       "      <td>-497.795834</td>\n",
       "      <td>8.016656</td>\n",
       "      <td>-501.289139</td>\n",
       "      <td>7.946562</td>\n",
       "      <td>-432.317850</td>\n",
       "      <td>4.872511</td>\n",
       "      <td>-500.037437</td>\n",
       "      <td>26.705889</td>\n",
       "      <td>-499.709414</td>\n",
       "    </tr>\n",
       "    <tr>\n",
       "      <th>1</th>\n",
       "      <td>2016-09-01 01:59:59</td>\n",
       "      <td>215.392455</td>\n",
       "      <td>14.987471</td>\n",
       "      <td>8.080000</td>\n",
       "      <td>0.990469</td>\n",
       "      <td>1398.777912</td>\n",
       "      <td>-500.057435</td>\n",
       "      <td>1398.055362</td>\n",
       "      <td>-499.778182</td>\n",
       "      <td>1396.151033</td>\n",
       "      <td>...</td>\n",
       "      <td>12.058140</td>\n",
       "      <td>-498.695773</td>\n",
       "      <td>8.130979</td>\n",
       "      <td>-499.634209</td>\n",
       "      <td>7.958270</td>\n",
       "      <td>-525.839648</td>\n",
       "      <td>4.878850</td>\n",
       "      <td>-500.162375</td>\n",
       "      <td>25.019940</td>\n",
       "      <td>-499.819438</td>\n",
       "    </tr>\n",
       "    <tr>\n",
       "      <th>2</th>\n",
       "      <td>2016-09-01 02:59:59</td>\n",
       "      <td>215.259946</td>\n",
       "      <td>12.884934</td>\n",
       "      <td>7.786667</td>\n",
       "      <td>0.996043</td>\n",
       "      <td>1398.493666</td>\n",
       "      <td>-500.868360</td>\n",
       "      <td>1398.860436</td>\n",
       "      <td>-499.764529</td>\n",
       "      <td>1398.075709</td>\n",
       "      <td>...</td>\n",
       "      <td>11.962366</td>\n",
       "      <td>-498.767484</td>\n",
       "      <td>8.096893</td>\n",
       "      <td>-500.827423</td>\n",
       "      <td>8.071056</td>\n",
       "      <td>-500.801673</td>\n",
       "      <td>4.905125</td>\n",
       "      <td>-499.828510</td>\n",
       "      <td>24.994862</td>\n",
       "      <td>-500.622559</td>\n",
       "    </tr>\n",
       "    <tr>\n",
       "      <th>3</th>\n",
       "      <td>2016-09-01 03:59:59</td>\n",
       "      <td>215.336236</td>\n",
       "      <td>12.006805</td>\n",
       "      <td>7.640000</td>\n",
       "      <td>0.863514</td>\n",
       "      <td>1399.618111</td>\n",
       "      <td>-498.863574</td>\n",
       "      <td>1397.440120</td>\n",
       "      <td>-499.211024</td>\n",
       "      <td>1400.129303</td>\n",
       "      <td>...</td>\n",
       "      <td>12.033091</td>\n",
       "      <td>-498.350935</td>\n",
       "      <td>8.074946</td>\n",
       "      <td>-499.474407</td>\n",
       "      <td>7.897085</td>\n",
       "      <td>-500.868509</td>\n",
       "      <td>4.931400</td>\n",
       "      <td>-499.963623</td>\n",
       "      <td>24.948919</td>\n",
       "      <td>-498.709987</td>\n",
       "    </tr>\n",
       "    <tr>\n",
       "      <th>4</th>\n",
       "      <td>2016-09-01 04:59:59</td>\n",
       "      <td>199.099327</td>\n",
       "      <td>10.682530</td>\n",
       "      <td>7.530000</td>\n",
       "      <td>0.805575</td>\n",
       "      <td>1401.268123</td>\n",
       "      <td>-500.808305</td>\n",
       "      <td>1398.128818</td>\n",
       "      <td>-499.504543</td>\n",
       "      <td>1402.172226</td>\n",
       "      <td>...</td>\n",
       "      <td>12.025367</td>\n",
       "      <td>-500.786497</td>\n",
       "      <td>8.054678</td>\n",
       "      <td>-500.397500</td>\n",
       "      <td>8.107890</td>\n",
       "      <td>-509.526725</td>\n",
       "      <td>4.957674</td>\n",
       "      <td>-500.360026</td>\n",
       "      <td>25.003331</td>\n",
       "      <td>-500.856333</td>\n",
       "    </tr>\n",
       "  </tbody>\n",
       "</table>\n",
       "<p>5 rows × 53 columns</p>\n",
       "</div>"
      ],
      "text/plain": [
       "                  date  primary_cleaner.input.sulfate  \\\n",
       "0  2016-09-01 00:59:59                     210.800909   \n",
       "1  2016-09-01 01:59:59                     215.392455   \n",
       "2  2016-09-01 02:59:59                     215.259946   \n",
       "3  2016-09-01 03:59:59                     215.336236   \n",
       "4  2016-09-01 04:59:59                     199.099327   \n",
       "\n",
       "   primary_cleaner.input.depressant  primary_cleaner.input.feed_size  \\\n",
       "0                         14.993118                         8.080000   \n",
       "1                         14.987471                         8.080000   \n",
       "2                         12.884934                         7.786667   \n",
       "3                         12.006805                         7.640000   \n",
       "4                         10.682530                         7.530000   \n",
       "\n",
       "   primary_cleaner.input.xanthate  primary_cleaner.state.floatbank8_a_air  \\\n",
       "0                        1.005021                             1398.981301   \n",
       "1                        0.990469                             1398.777912   \n",
       "2                        0.996043                             1398.493666   \n",
       "3                        0.863514                             1399.618111   \n",
       "4                        0.805575                             1401.268123   \n",
       "\n",
       "   primary_cleaner.state.floatbank8_a_level  \\\n",
       "0                               -500.225577   \n",
       "1                               -500.057435   \n",
       "2                               -500.868360   \n",
       "3                               -498.863574   \n",
       "4                               -500.808305   \n",
       "\n",
       "   primary_cleaner.state.floatbank8_b_air  \\\n",
       "0                             1399.144926   \n",
       "1                             1398.055362   \n",
       "2                             1398.860436   \n",
       "3                             1397.440120   \n",
       "4                             1398.128818   \n",
       "\n",
       "   primary_cleaner.state.floatbank8_b_level  \\\n",
       "0                               -499.919735   \n",
       "1                               -499.778182   \n",
       "2                               -499.764529   \n",
       "3                               -499.211024   \n",
       "4                               -499.504543   \n",
       "\n",
       "   primary_cleaner.state.floatbank8_c_air  ...  \\\n",
       "0                             1400.102998  ...   \n",
       "1                             1396.151033  ...   \n",
       "2                             1398.075709  ...   \n",
       "3                             1400.129303  ...   \n",
       "4                             1402.172226  ...   \n",
       "\n",
       "   secondary_cleaner.state.floatbank4_a_air  \\\n",
       "0                                 12.023554   \n",
       "1                                 12.058140   \n",
       "2                                 11.962366   \n",
       "3                                 12.033091   \n",
       "4                                 12.025367   \n",
       "\n",
       "   secondary_cleaner.state.floatbank4_a_level  \\\n",
       "0                                 -497.795834   \n",
       "1                                 -498.695773   \n",
       "2                                 -498.767484   \n",
       "3                                 -498.350935   \n",
       "4                                 -500.786497   \n",
       "\n",
       "   secondary_cleaner.state.floatbank4_b_air  \\\n",
       "0                                  8.016656   \n",
       "1                                  8.130979   \n",
       "2                                  8.096893   \n",
       "3                                  8.074946   \n",
       "4                                  8.054678   \n",
       "\n",
       "   secondary_cleaner.state.floatbank4_b_level  \\\n",
       "0                                 -501.289139   \n",
       "1                                 -499.634209   \n",
       "2                                 -500.827423   \n",
       "3                                 -499.474407   \n",
       "4                                 -500.397500   \n",
       "\n",
       "   secondary_cleaner.state.floatbank5_a_air  \\\n",
       "0                                  7.946562   \n",
       "1                                  7.958270   \n",
       "2                                  8.071056   \n",
       "3                                  7.897085   \n",
       "4                                  8.107890   \n",
       "\n",
       "   secondary_cleaner.state.floatbank5_a_level  \\\n",
       "0                                 -432.317850   \n",
       "1                                 -525.839648   \n",
       "2                                 -500.801673   \n",
       "3                                 -500.868509   \n",
       "4                                 -509.526725   \n",
       "\n",
       "   secondary_cleaner.state.floatbank5_b_air  \\\n",
       "0                                  4.872511   \n",
       "1                                  4.878850   \n",
       "2                                  4.905125   \n",
       "3                                  4.931400   \n",
       "4                                  4.957674   \n",
       "\n",
       "   secondary_cleaner.state.floatbank5_b_level  \\\n",
       "0                                 -500.037437   \n",
       "1                                 -500.162375   \n",
       "2                                 -499.828510   \n",
       "3                                 -499.963623   \n",
       "4                                 -500.360026   \n",
       "\n",
       "   secondary_cleaner.state.floatbank6_a_air  \\\n",
       "0                                 26.705889   \n",
       "1                                 25.019940   \n",
       "2                                 24.994862   \n",
       "3                                 24.948919   \n",
       "4                                 25.003331   \n",
       "\n",
       "   secondary_cleaner.state.floatbank6_a_level  \n",
       "0                                 -499.709414  \n",
       "1                                 -499.819438  \n",
       "2                                 -500.622559  \n",
       "3                                 -498.709987  \n",
       "4                                 -500.856333  \n",
       "\n",
       "[5 rows x 53 columns]"
      ]
     },
     "execution_count": 7,
     "metadata": {},
     "output_type": "execute_result"
    }
   ],
   "source": [
    "# получение первых 5 строк таблицы gold_recovery_test\n",
    "gold_recovery_test.head()"
   ]
  },
  {
   "cell_type": "markdown",
   "metadata": {},
   "source": [
    "<div style=\"border:solid blue 2px; padding: 20px\">\n",
    "    \n",
    "`test` содержит меньше признаков, чем `full` и `train`\n",
    "    </div>"
   ]
  },
  {
   "cell_type": "markdown",
   "metadata": {},
   "source": [
    "<div style=\"border:solid blue 2px; padding: 20px\">\n",
    "    \n",
    "`info()` получим общую информацию о таблице:\n",
    "    </div>"
   ]
  },
  {
   "cell_type": "code",
   "execution_count": 8,
   "metadata": {
    "scrolled": false
   },
   "outputs": [
    {
     "name": "stdout",
     "output_type": "stream",
     "text": [
      "<class 'pandas.core.frame.DataFrame'>\n",
      "RangeIndex: 19439 entries, 0 to 19438\n",
      "Data columns (total 87 columns):\n",
      " #   Column                                              Non-Null Count  Dtype  \n",
      "---  ------                                              --------------  -----  \n",
      " 0   date                                                19439 non-null  object \n",
      " 1   final.output.concentrate_ag                         19438 non-null  float64\n",
      " 2   final.output.concentrate_pb                         19438 non-null  float64\n",
      " 3   final.output.concentrate_sol                        19228 non-null  float64\n",
      " 4   final.output.concentrate_au                         19439 non-null  float64\n",
      " 5   final.output.recovery                               19439 non-null  float64\n",
      " 6   final.output.tail_ag                                19438 non-null  float64\n",
      " 7   final.output.tail_pb                                19338 non-null  float64\n",
      " 8   final.output.tail_sol                               19433 non-null  float64\n",
      " 9   final.output.tail_au                                19439 non-null  float64\n",
      " 10  primary_cleaner.input.sulfate                       19415 non-null  float64\n",
      " 11  primary_cleaner.input.depressant                    19402 non-null  float64\n",
      " 12  primary_cleaner.input.feed_size                     19439 non-null  float64\n",
      " 13  primary_cleaner.input.xanthate                      19335 non-null  float64\n",
      " 14  primary_cleaner.output.concentrate_ag               19439 non-null  float64\n",
      " 15  primary_cleaner.output.concentrate_pb               19323 non-null  float64\n",
      " 16  primary_cleaner.output.concentrate_sol              19069 non-null  float64\n",
      " 17  primary_cleaner.output.concentrate_au               19439 non-null  float64\n",
      " 18  primary_cleaner.output.tail_ag                      19435 non-null  float64\n",
      " 19  primary_cleaner.output.tail_pb                      19418 non-null  float64\n",
      " 20  primary_cleaner.output.tail_sol                     19377 non-null  float64\n",
      " 21  primary_cleaner.output.tail_au                      19439 non-null  float64\n",
      " 22  primary_cleaner.state.floatbank8_a_air              19435 non-null  float64\n",
      " 23  primary_cleaner.state.floatbank8_a_level            19438 non-null  float64\n",
      " 24  primary_cleaner.state.floatbank8_b_air              19435 non-null  float64\n",
      " 25  primary_cleaner.state.floatbank8_b_level            19438 non-null  float64\n",
      " 26  primary_cleaner.state.floatbank8_c_air              19437 non-null  float64\n",
      " 27  primary_cleaner.state.floatbank8_c_level            19438 non-null  float64\n",
      " 28  primary_cleaner.state.floatbank8_d_air              19436 non-null  float64\n",
      " 29  primary_cleaner.state.floatbank8_d_level            19438 non-null  float64\n",
      " 30  rougher.calculation.sulfate_to_au_concentrate       19437 non-null  float64\n",
      " 31  rougher.calculation.floatbank10_sulfate_to_au_feed  19437 non-null  float64\n",
      " 32  rougher.calculation.floatbank11_sulfate_to_au_feed  19437 non-null  float64\n",
      " 33  rougher.calculation.au_pb_ratio                     19439 non-null  float64\n",
      " 34  rougher.input.feed_ag                               19439 non-null  float64\n",
      " 35  rougher.input.feed_pb                               19339 non-null  float64\n",
      " 36  rougher.input.feed_rate                             19428 non-null  float64\n",
      " 37  rougher.input.feed_size                             19294 non-null  float64\n",
      " 38  rougher.input.feed_sol                              19340 non-null  float64\n",
      " 39  rougher.input.feed_au                               19439 non-null  float64\n",
      " 40  rougher.input.floatbank10_sulfate                   19405 non-null  float64\n",
      " 41  rougher.input.floatbank10_xanthate                  19431 non-null  float64\n",
      " 42  rougher.input.floatbank11_sulfate                   19395 non-null  float64\n",
      " 43  rougher.input.floatbank11_xanthate                  18986 non-null  float64\n",
      " 44  rougher.output.concentrate_ag                       19439 non-null  float64\n",
      " 45  rougher.output.concentrate_pb                       19439 non-null  float64\n",
      " 46  rougher.output.concentrate_sol                      19416 non-null  float64\n",
      " 47  rougher.output.concentrate_au                       19439 non-null  float64\n",
      " 48  rougher.output.recovery                             19439 non-null  float64\n",
      " 49  rougher.output.tail_ag                              19438 non-null  float64\n",
      " 50  rougher.output.tail_pb                              19439 non-null  float64\n",
      " 51  rougher.output.tail_sol                             19439 non-null  float64\n",
      " 52  rougher.output.tail_au                              19439 non-null  float64\n",
      " 53  rougher.state.floatbank10_a_air                     19438 non-null  float64\n",
      " 54  rougher.state.floatbank10_a_level                   19438 non-null  float64\n",
      " 55  rougher.state.floatbank10_b_air                     19438 non-null  float64\n",
      " 56  rougher.state.floatbank10_b_level                   19438 non-null  float64\n",
      " 57  rougher.state.floatbank10_c_air                     19438 non-null  float64\n",
      " 58  rougher.state.floatbank10_c_level                   19438 non-null  float64\n",
      " 59  rougher.state.floatbank10_d_air                     19439 non-null  float64\n",
      " 60  rougher.state.floatbank10_d_level                   19439 non-null  float64\n",
      " 61  rougher.state.floatbank10_e_air                     19003 non-null  float64\n",
      " 62  rougher.state.floatbank10_e_level                   19439 non-null  float64\n",
      " 63  rougher.state.floatbank10_f_air                     19439 non-null  float64\n",
      " 64  rougher.state.floatbank10_f_level                   19439 non-null  float64\n",
      " 65  secondary_cleaner.output.tail_ag                    19437 non-null  float64\n",
      " 66  secondary_cleaner.output.tail_pb                    19427 non-null  float64\n",
      " 67  secondary_cleaner.output.tail_sol                   17691 non-null  float64\n",
      " 68  secondary_cleaner.output.tail_au                    19439 non-null  float64\n",
      " 69  secondary_cleaner.state.floatbank2_a_air            19219 non-null  float64\n",
      " 70  secondary_cleaner.state.floatbank2_a_level          19438 non-null  float64\n",
      " 71  secondary_cleaner.state.floatbank2_b_air            19416 non-null  float64\n",
      " 72  secondary_cleaner.state.floatbank2_b_level          19438 non-null  float64\n",
      " 73  secondary_cleaner.state.floatbank3_a_air            19426 non-null  float64\n",
      " 74  secondary_cleaner.state.floatbank3_a_level          19438 non-null  float64\n",
      " 75  secondary_cleaner.state.floatbank3_b_air            19438 non-null  float64\n",
      " 76  secondary_cleaner.state.floatbank3_b_level          19438 non-null  float64\n",
      " 77  secondary_cleaner.state.floatbank4_a_air            19433 non-null  float64\n",
      " 78  secondary_cleaner.state.floatbank4_a_level          19438 non-null  float64\n",
      " 79  secondary_cleaner.state.floatbank4_b_air            19438 non-null  float64\n",
      " 80  secondary_cleaner.state.floatbank4_b_level          19438 non-null  float64\n",
      " 81  secondary_cleaner.state.floatbank5_a_air            19438 non-null  float64\n",
      " 82  secondary_cleaner.state.floatbank5_a_level          19438 non-null  float64\n",
      " 83  secondary_cleaner.state.floatbank5_b_air            19438 non-null  float64\n",
      " 84  secondary_cleaner.state.floatbank5_b_level          19438 non-null  float64\n",
      " 85  secondary_cleaner.state.floatbank6_a_air            19437 non-null  float64\n",
      " 86  secondary_cleaner.state.floatbank6_a_level          19438 non-null  float64\n",
      "dtypes: float64(86), object(1)\n",
      "memory usage: 12.9+ MB\n"
     ]
    }
   ],
   "source": [
    "# получение общей информации о данных в таблице gold_recovery_full\n",
    "gold_recovery_full.info()"
   ]
  },
  {
   "cell_type": "code",
   "execution_count": 9,
   "metadata": {
    "scrolled": false
   },
   "outputs": [
    {
     "name": "stdout",
     "output_type": "stream",
     "text": [
      "<class 'pandas.core.frame.DataFrame'>\n",
      "RangeIndex: 14149 entries, 0 to 14148\n",
      "Data columns (total 87 columns):\n",
      " #   Column                                              Non-Null Count  Dtype  \n",
      "---  ------                                              --------------  -----  \n",
      " 0   date                                                14149 non-null  object \n",
      " 1   final.output.concentrate_ag                         14148 non-null  float64\n",
      " 2   final.output.concentrate_pb                         14148 non-null  float64\n",
      " 3   final.output.concentrate_sol                        13938 non-null  float64\n",
      " 4   final.output.concentrate_au                         14149 non-null  float64\n",
      " 5   final.output.recovery                               14149 non-null  float64\n",
      " 6   final.output.tail_ag                                14149 non-null  float64\n",
      " 7   final.output.tail_pb                                14049 non-null  float64\n",
      " 8   final.output.tail_sol                               14144 non-null  float64\n",
      " 9   final.output.tail_au                                14149 non-null  float64\n",
      " 10  primary_cleaner.input.sulfate                       14129 non-null  float64\n",
      " 11  primary_cleaner.input.depressant                    14117 non-null  float64\n",
      " 12  primary_cleaner.input.feed_size                     14149 non-null  float64\n",
      " 13  primary_cleaner.input.xanthate                      14049 non-null  float64\n",
      " 14  primary_cleaner.output.concentrate_ag               14149 non-null  float64\n",
      " 15  primary_cleaner.output.concentrate_pb               14063 non-null  float64\n",
      " 16  primary_cleaner.output.concentrate_sol              13863 non-null  float64\n",
      " 17  primary_cleaner.output.concentrate_au               14149 non-null  float64\n",
      " 18  primary_cleaner.output.tail_ag                      14148 non-null  float64\n",
      " 19  primary_cleaner.output.tail_pb                      14134 non-null  float64\n",
      " 20  primary_cleaner.output.tail_sol                     14103 non-null  float64\n",
      " 21  primary_cleaner.output.tail_au                      14149 non-null  float64\n",
      " 22  primary_cleaner.state.floatbank8_a_air              14145 non-null  float64\n",
      " 23  primary_cleaner.state.floatbank8_a_level            14148 non-null  float64\n",
      " 24  primary_cleaner.state.floatbank8_b_air              14145 non-null  float64\n",
      " 25  primary_cleaner.state.floatbank8_b_level            14148 non-null  float64\n",
      " 26  primary_cleaner.state.floatbank8_c_air              14147 non-null  float64\n",
      " 27  primary_cleaner.state.floatbank8_c_level            14148 non-null  float64\n",
      " 28  primary_cleaner.state.floatbank8_d_air              14146 non-null  float64\n",
      " 29  primary_cleaner.state.floatbank8_d_level            14148 non-null  float64\n",
      " 30  rougher.calculation.sulfate_to_au_concentrate       14148 non-null  float64\n",
      " 31  rougher.calculation.floatbank10_sulfate_to_au_feed  14148 non-null  float64\n",
      " 32  rougher.calculation.floatbank11_sulfate_to_au_feed  14148 non-null  float64\n",
      " 33  rougher.calculation.au_pb_ratio                     14149 non-null  float64\n",
      " 34  rougher.input.feed_ag                               14149 non-null  float64\n",
      " 35  rougher.input.feed_pb                               14049 non-null  float64\n",
      " 36  rougher.input.feed_rate                             14141 non-null  float64\n",
      " 37  rougher.input.feed_size                             14005 non-null  float64\n",
      " 38  rougher.input.feed_sol                              14071 non-null  float64\n",
      " 39  rougher.input.feed_au                               14149 non-null  float64\n",
      " 40  rougher.input.floatbank10_sulfate                   14120 non-null  float64\n",
      " 41  rougher.input.floatbank10_xanthate                  14141 non-null  float64\n",
      " 42  rougher.input.floatbank11_sulfate                   14113 non-null  float64\n",
      " 43  rougher.input.floatbank11_xanthate                  13721 non-null  float64\n",
      " 44  rougher.output.concentrate_ag                       14149 non-null  float64\n",
      " 45  rougher.output.concentrate_pb                       14149 non-null  float64\n",
      " 46  rougher.output.concentrate_sol                      14127 non-null  float64\n",
      " 47  rougher.output.concentrate_au                       14149 non-null  float64\n",
      " 48  rougher.output.recovery                             14149 non-null  float64\n",
      " 49  rougher.output.tail_ag                              14148 non-null  float64\n",
      " 50  rougher.output.tail_pb                              14149 non-null  float64\n",
      " 51  rougher.output.tail_sol                             14149 non-null  float64\n",
      " 52  rougher.output.tail_au                              14149 non-null  float64\n",
      " 53  rougher.state.floatbank10_a_air                     14148 non-null  float64\n",
      " 54  rougher.state.floatbank10_a_level                   14148 non-null  float64\n",
      " 55  rougher.state.floatbank10_b_air                     14148 non-null  float64\n",
      " 56  rougher.state.floatbank10_b_level                   14148 non-null  float64\n",
      " 57  rougher.state.floatbank10_c_air                     14148 non-null  float64\n",
      " 58  rougher.state.floatbank10_c_level                   14148 non-null  float64\n",
      " 59  rougher.state.floatbank10_d_air                     14149 non-null  float64\n",
      " 60  rougher.state.floatbank10_d_level                   14149 non-null  float64\n",
      " 61  rougher.state.floatbank10_e_air                     13713 non-null  float64\n",
      " 62  rougher.state.floatbank10_e_level                   14149 non-null  float64\n",
      " 63  rougher.state.floatbank10_f_air                     14149 non-null  float64\n",
      " 64  rougher.state.floatbank10_f_level                   14149 non-null  float64\n",
      " 65  secondary_cleaner.output.tail_ag                    14147 non-null  float64\n",
      " 66  secondary_cleaner.output.tail_pb                    14139 non-null  float64\n",
      " 67  secondary_cleaner.output.tail_sol                   12544 non-null  float64\n",
      " 68  secondary_cleaner.output.tail_au                    14149 non-null  float64\n",
      " 69  secondary_cleaner.state.floatbank2_a_air            13932 non-null  float64\n",
      " 70  secondary_cleaner.state.floatbank2_a_level          14148 non-null  float64\n",
      " 71  secondary_cleaner.state.floatbank2_b_air            14128 non-null  float64\n",
      " 72  secondary_cleaner.state.floatbank2_b_level          14148 non-null  float64\n",
      " 73  secondary_cleaner.state.floatbank3_a_air            14145 non-null  float64\n",
      " 74  secondary_cleaner.state.floatbank3_a_level          14148 non-null  float64\n",
      " 75  secondary_cleaner.state.floatbank3_b_air            14148 non-null  float64\n",
      " 76  secondary_cleaner.state.floatbank3_b_level          14148 non-null  float64\n",
      " 77  secondary_cleaner.state.floatbank4_a_air            14143 non-null  float64\n",
      " 78  secondary_cleaner.state.floatbank4_a_level          14148 non-null  float64\n",
      " 79  secondary_cleaner.state.floatbank4_b_air            14148 non-null  float64\n",
      " 80  secondary_cleaner.state.floatbank4_b_level          14148 non-null  float64\n",
      " 81  secondary_cleaner.state.floatbank5_a_air            14148 non-null  float64\n",
      " 82  secondary_cleaner.state.floatbank5_a_level          14148 non-null  float64\n",
      " 83  secondary_cleaner.state.floatbank5_b_air            14148 non-null  float64\n",
      " 84  secondary_cleaner.state.floatbank5_b_level          14148 non-null  float64\n",
      " 85  secondary_cleaner.state.floatbank6_a_air            14147 non-null  float64\n",
      " 86  secondary_cleaner.state.floatbank6_a_level          14148 non-null  float64\n",
      "dtypes: float64(86), object(1)\n",
      "memory usage: 9.4+ MB\n"
     ]
    }
   ],
   "source": [
    "# получение общей информации о данных в таблице gold_recovery_train\n",
    "gold_recovery_train.info()"
   ]
  },
  {
   "cell_type": "code",
   "execution_count": 10,
   "metadata": {
    "scrolled": false
   },
   "outputs": [
    {
     "name": "stdout",
     "output_type": "stream",
     "text": [
      "<class 'pandas.core.frame.DataFrame'>\n",
      "RangeIndex: 5290 entries, 0 to 5289\n",
      "Data columns (total 53 columns):\n",
      " #   Column                                      Non-Null Count  Dtype  \n",
      "---  ------                                      --------------  -----  \n",
      " 0   date                                        5290 non-null   object \n",
      " 1   primary_cleaner.input.sulfate               5286 non-null   float64\n",
      " 2   primary_cleaner.input.depressant            5285 non-null   float64\n",
      " 3   primary_cleaner.input.feed_size             5290 non-null   float64\n",
      " 4   primary_cleaner.input.xanthate              5286 non-null   float64\n",
      " 5   primary_cleaner.state.floatbank8_a_air      5290 non-null   float64\n",
      " 6   primary_cleaner.state.floatbank8_a_level    5290 non-null   float64\n",
      " 7   primary_cleaner.state.floatbank8_b_air      5290 non-null   float64\n",
      " 8   primary_cleaner.state.floatbank8_b_level    5290 non-null   float64\n",
      " 9   primary_cleaner.state.floatbank8_c_air      5290 non-null   float64\n",
      " 10  primary_cleaner.state.floatbank8_c_level    5290 non-null   float64\n",
      " 11  primary_cleaner.state.floatbank8_d_air      5290 non-null   float64\n",
      " 12  primary_cleaner.state.floatbank8_d_level    5290 non-null   float64\n",
      " 13  rougher.input.feed_ag                       5290 non-null   float64\n",
      " 14  rougher.input.feed_pb                       5290 non-null   float64\n",
      " 15  rougher.input.feed_rate                     5287 non-null   float64\n",
      " 16  rougher.input.feed_size                     5289 non-null   float64\n",
      " 17  rougher.input.feed_sol                      5269 non-null   float64\n",
      " 18  rougher.input.feed_au                       5290 non-null   float64\n",
      " 19  rougher.input.floatbank10_sulfate           5285 non-null   float64\n",
      " 20  rougher.input.floatbank10_xanthate          5290 non-null   float64\n",
      " 21  rougher.input.floatbank11_sulfate           5282 non-null   float64\n",
      " 22  rougher.input.floatbank11_xanthate          5265 non-null   float64\n",
      " 23  rougher.state.floatbank10_a_air             5290 non-null   float64\n",
      " 24  rougher.state.floatbank10_a_level           5290 non-null   float64\n",
      " 25  rougher.state.floatbank10_b_air             5290 non-null   float64\n",
      " 26  rougher.state.floatbank10_b_level           5290 non-null   float64\n",
      " 27  rougher.state.floatbank10_c_air             5290 non-null   float64\n",
      " 28  rougher.state.floatbank10_c_level           5290 non-null   float64\n",
      " 29  rougher.state.floatbank10_d_air             5290 non-null   float64\n",
      " 30  rougher.state.floatbank10_d_level           5290 non-null   float64\n",
      " 31  rougher.state.floatbank10_e_air             5290 non-null   float64\n",
      " 32  rougher.state.floatbank10_e_level           5290 non-null   float64\n",
      " 33  rougher.state.floatbank10_f_air             5290 non-null   float64\n",
      " 34  rougher.state.floatbank10_f_level           5290 non-null   float64\n",
      " 35  secondary_cleaner.state.floatbank2_a_air    5287 non-null   float64\n",
      " 36  secondary_cleaner.state.floatbank2_a_level  5290 non-null   float64\n",
      " 37  secondary_cleaner.state.floatbank2_b_air    5288 non-null   float64\n",
      " 38  secondary_cleaner.state.floatbank2_b_level  5290 non-null   float64\n",
      " 39  secondary_cleaner.state.floatbank3_a_air    5281 non-null   float64\n",
      " 40  secondary_cleaner.state.floatbank3_a_level  5290 non-null   float64\n",
      " 41  secondary_cleaner.state.floatbank3_b_air    5290 non-null   float64\n",
      " 42  secondary_cleaner.state.floatbank3_b_level  5290 non-null   float64\n",
      " 43  secondary_cleaner.state.floatbank4_a_air    5290 non-null   float64\n",
      " 44  secondary_cleaner.state.floatbank4_a_level  5290 non-null   float64\n",
      " 45  secondary_cleaner.state.floatbank4_b_air    5290 non-null   float64\n",
      " 46  secondary_cleaner.state.floatbank4_b_level  5290 non-null   float64\n",
      " 47  secondary_cleaner.state.floatbank5_a_air    5290 non-null   float64\n",
      " 48  secondary_cleaner.state.floatbank5_a_level  5290 non-null   float64\n",
      " 49  secondary_cleaner.state.floatbank5_b_air    5290 non-null   float64\n",
      " 50  secondary_cleaner.state.floatbank5_b_level  5290 non-null   float64\n",
      " 51  secondary_cleaner.state.floatbank6_a_air    5290 non-null   float64\n",
      " 52  secondary_cleaner.state.floatbank6_a_level  5290 non-null   float64\n",
      "dtypes: float64(52), object(1)\n",
      "memory usage: 2.1+ MB\n"
     ]
    }
   ],
   "source": [
    "# получение общей информации о данных в таблице gold_recovery_test\n",
    "gold_recovery_test.info()"
   ]
  },
  {
   "cell_type": "markdown",
   "metadata": {},
   "source": [
    "<div style=\"border:solid blue 2px; padding: 20px\">\n",
    "    \n",
    "# Расшифруем этапы техпроцесса\n",
    "   \n",
    "`rougher` - флотация - **1-й целевой этап**\n",
    "    \n",
    "`primary_cleaner` - первая очистка\n",
    "    \n",
    "`secondary_cleaner` - вторая очистка    \n",
    "    \n",
    "`final` - итог процесса - **итоговый целевой этап**\n",
    "    \n",
    "</div> "
   ]
  },
  {
   "cell_type": "markdown",
   "metadata": {},
   "source": [
    "<div style=\"border:solid blue 2px; padding: 20px\">\n",
    "    \n",
    "# Расшифруем тип_параметра техпроцесса\n",
    "    \n",
    "`input` - на входе сырья\n",
    "    \n",
    "`output` - на выходе продукта - **целевой параметр**\n",
    "    \n",
    "`state` - характика текущего состояние этапа   \n",
    "    \n",
    "`calculation` - расчётные характеристики\n",
    "    \n",
    "</div> "
   ]
  },
  {
   "cell_type": "markdown",
   "metadata": {},
   "source": [
    "<div style=\"border:solid blue 2px; padding: 20px\">\n",
    "    \n",
    "# Расшифруем название_параметра техпроцесса\n",
    "    \n",
    "`recovery` - обогащение (восстановление) - **целевой параметр**\n",
    "    \n",
    "`feed_au` - сырьё_золото\n",
    "    \n",
    "`feed_pb` - сырьё_свинец\n",
    "    \n",
    "`feed_sol` - сырьё_сульфиды\n",
    "    \n",
    "`feed_rate` - сырьё_скорость\n",
    "    \n",
    "`feed_size` - сырьё_размер\n",
    "    \n",
    "`feed_ag` - сырьё_серебро\n",
    "        \n",
    "`state` - характика текущего состояние этапа   \n",
    "    \n",
    "`calculation` - расчётные характеристики\n",
    "    \n",
    "`floatbank` - характеристики флотационной установки  \n",
    "    \n",
    "`concentrate` - экспериментальные характеристики\n",
    "\n",
    "`tail` - отвальные хвосты (отходы и потери сырья)     \n",
    "    \n",
    "</div> "
   ]
  },
  {
   "cell_type": "markdown",
   "metadata": {},
   "source": [
    "<div style=\"border:solid blue 2px; padding: 20px\">\n",
    "    \n",
    " \n",
    "Методом `describe()` получим описание данных \n",
    "    \n",
    "    \n",
    "</div> "
   ]
  },
  {
   "cell_type": "code",
   "execution_count": 11,
   "metadata": {
    "scrolled": true
   },
   "outputs": [
    {
     "data": {
      "text/plain": [
       "count    19439.000000\n",
       "mean         8.266097\n",
       "std          1.955092\n",
       "min          0.010000\n",
       "25%          6.854384\n",
       "50%          8.125839\n",
       "75%          9.769917\n",
       "max         13.731330\n",
       "Name: rougher.input.feed_au, dtype: float64"
      ]
     },
     "execution_count": 11,
     "metadata": {},
     "output_type": "execute_result"
    }
   ],
   "source": [
    "# описание данных gold_recovery_full\n",
    "gold_recovery_full['rougher.input.feed_au'].describe()"
   ]
  },
  {
   "cell_type": "markdown",
   "metadata": {},
   "source": [
    "<a id='90%'></a>"
   ]
  },
  {
   "cell_type": "code",
   "execution_count": 12,
   "metadata": {},
   "outputs": [
    {
     "data": {
      "text/plain": [
       "count    19439.000000\n",
       "mean        83.328587\n",
       "std         14.148086\n",
       "min          0.000000\n",
       "25%         81.037957\n",
       "50%         86.188892\n",
       "75%         90.010670\n",
       "max        100.000000\n",
       "Name: rougher.output.recovery, dtype: float64"
      ]
     },
     "execution_count": 12,
     "metadata": {},
     "output_type": "execute_result"
    }
   ],
   "source": [
    "# описание данных gold_recovery_full\n",
    "gold_recovery_full['rougher.output.recovery'].describe()"
   ]
  },
  {
   "cell_type": "code",
   "execution_count": 13,
   "metadata": {},
   "outputs": [
    {
     "data": {
      "text/plain": [
       "count    19439.000000\n",
       "mean        67.050208\n",
       "std         10.125840\n",
       "min          0.000000\n",
       "25%         63.299712\n",
       "50%         68.172738\n",
       "75%         72.686642\n",
       "max        100.000000\n",
       "Name: final.output.recovery, dtype: float64"
      ]
     },
     "execution_count": 13,
     "metadata": {},
     "output_type": "execute_result"
    }
   ],
   "source": [
    "# описание данных gold_recovery_full\n",
    "gold_recovery_full['final.output.recovery'].describe()"
   ]
  },
  {
   "cell_type": "code",
   "execution_count": 14,
   "metadata": {},
   "outputs": [
    {
     "data": {
      "text/plain": [
       "count    14149.000000\n",
       "mean        82.704502\n",
       "std         14.479156\n",
       "min          0.000000\n",
       "25%         79.993067\n",
       "50%         85.299462\n",
       "75%         90.165021\n",
       "max        100.000000\n",
       "Name: rougher.output.recovery, dtype: float64"
      ]
     },
     "execution_count": 14,
     "metadata": {},
     "output_type": "execute_result"
    }
   ],
   "source": [
    "# описание данных gold_recovery_train\n",
    "gold_recovery_train['rougher.output.recovery'].describe()"
   ]
  },
  {
   "cell_type": "code",
   "execution_count": 15,
   "metadata": {},
   "outputs": [
    {
     "data": {
      "text/plain": [
       "count    14149.000000\n",
       "mean        66.518832\n",
       "std         10.295402\n",
       "min          0.000000\n",
       "25%         62.545817\n",
       "50%         67.432775\n",
       "75%         72.346428\n",
       "max        100.000000\n",
       "Name: final.output.recovery, dtype: float64"
      ]
     },
     "execution_count": 15,
     "metadata": {},
     "output_type": "execute_result"
    }
   ],
   "source": [
    "# описание данных gold_recovery_train\n",
    "gold_recovery_train['final.output.recovery'].describe()"
   ]
  },
  {
   "cell_type": "code",
   "execution_count": 16,
   "metadata": {},
   "outputs": [
    {
     "data": {
      "text/html": [
       "<div>\n",
       "<style scoped>\n",
       "    .dataframe tbody tr th:only-of-type {\n",
       "        vertical-align: middle;\n",
       "    }\n",
       "\n",
       "    .dataframe tbody tr th {\n",
       "        vertical-align: top;\n",
       "    }\n",
       "\n",
       "    .dataframe thead th {\n",
       "        text-align: right;\n",
       "    }\n",
       "</style>\n",
       "<table border=\"1\" class=\"dataframe\">\n",
       "  <thead>\n",
       "    <tr style=\"text-align: right;\">\n",
       "      <th></th>\n",
       "      <th>primary_cleaner.input.sulfate</th>\n",
       "      <th>primary_cleaner.input.depressant</th>\n",
       "      <th>primary_cleaner.input.feed_size</th>\n",
       "      <th>primary_cleaner.input.xanthate</th>\n",
       "      <th>primary_cleaner.state.floatbank8_a_air</th>\n",
       "      <th>primary_cleaner.state.floatbank8_a_level</th>\n",
       "      <th>primary_cleaner.state.floatbank8_b_air</th>\n",
       "      <th>primary_cleaner.state.floatbank8_b_level</th>\n",
       "      <th>primary_cleaner.state.floatbank8_c_air</th>\n",
       "      <th>primary_cleaner.state.floatbank8_c_level</th>\n",
       "      <th>...</th>\n",
       "      <th>secondary_cleaner.state.floatbank4_a_air</th>\n",
       "      <th>secondary_cleaner.state.floatbank4_a_level</th>\n",
       "      <th>secondary_cleaner.state.floatbank4_b_air</th>\n",
       "      <th>secondary_cleaner.state.floatbank4_b_level</th>\n",
       "      <th>secondary_cleaner.state.floatbank5_a_air</th>\n",
       "      <th>secondary_cleaner.state.floatbank5_a_level</th>\n",
       "      <th>secondary_cleaner.state.floatbank5_b_air</th>\n",
       "      <th>secondary_cleaner.state.floatbank5_b_level</th>\n",
       "      <th>secondary_cleaner.state.floatbank6_a_air</th>\n",
       "      <th>secondary_cleaner.state.floatbank6_a_level</th>\n",
       "    </tr>\n",
       "  </thead>\n",
       "  <tbody>\n",
       "    <tr>\n",
       "      <th>count</th>\n",
       "      <td>5286.000000</td>\n",
       "      <td>5285.000000</td>\n",
       "      <td>5290.000000</td>\n",
       "      <td>5286.000000</td>\n",
       "      <td>5.290000e+03</td>\n",
       "      <td>5290.000000</td>\n",
       "      <td>5.290000e+03</td>\n",
       "      <td>5290.000000</td>\n",
       "      <td>5.290000e+03</td>\n",
       "      <td>5290.000000</td>\n",
       "      <td>...</td>\n",
       "      <td>5.290000e+03</td>\n",
       "      <td>5290.000000</td>\n",
       "      <td>5.290000e+03</td>\n",
       "      <td>5290.000000</td>\n",
       "      <td>5290.000000</td>\n",
       "      <td>5290.000000</td>\n",
       "      <td>5290.000000</td>\n",
       "      <td>5290.000000</td>\n",
       "      <td>5290.000000</td>\n",
       "      <td>5290.000000</td>\n",
       "    </tr>\n",
       "    <tr>\n",
       "      <th>mean</th>\n",
       "      <td>174.839652</td>\n",
       "      <td>8.683596</td>\n",
       "      <td>7.266339</td>\n",
       "      <td>1.383803</td>\n",
       "      <td>1.539494e+03</td>\n",
       "      <td>-497.665883</td>\n",
       "      <td>1.545174e+03</td>\n",
       "      <td>-500.273098</td>\n",
       "      <td>1.527272e+03</td>\n",
       "      <td>-498.330680</td>\n",
       "      <td>...</td>\n",
       "      <td>1.632007e+01</td>\n",
       "      <td>-505.144570</td>\n",
       "      <td>1.373544e+01</td>\n",
       "      <td>-463.349858</td>\n",
       "      <td>12.804186</td>\n",
       "      <td>-501.329122</td>\n",
       "      <td>9.881145</td>\n",
       "      <td>-495.663398</td>\n",
       "      <td>17.304935</td>\n",
       "      <td>-501.793193</td>\n",
       "    </tr>\n",
       "    <tr>\n",
       "      <th>std</th>\n",
       "      <td>43.027080</td>\n",
       "      <td>3.072050</td>\n",
       "      <td>0.610219</td>\n",
       "      <td>0.643474</td>\n",
       "      <td>1.167979e+02</td>\n",
       "      <td>19.952431</td>\n",
       "      <td>1.222246e+02</td>\n",
       "      <td>32.968307</td>\n",
       "      <td>1.225380e+02</td>\n",
       "      <td>21.964876</td>\n",
       "      <td>...</td>\n",
       "      <td>3.493583e+00</td>\n",
       "      <td>31.427337</td>\n",
       "      <td>3.430484e+00</td>\n",
       "      <td>86.189107</td>\n",
       "      <td>3.026591</td>\n",
       "      <td>17.951495</td>\n",
       "      <td>2.868205</td>\n",
       "      <td>34.535007</td>\n",
       "      <td>4.536544</td>\n",
       "      <td>39.044215</td>\n",
       "    </tr>\n",
       "    <tr>\n",
       "      <th>min</th>\n",
       "      <td>2.566156</td>\n",
       "      <td>0.003839</td>\n",
       "      <td>5.650000</td>\n",
       "      <td>0.004984</td>\n",
       "      <td>5.445860e-32</td>\n",
       "      <td>-795.316337</td>\n",
       "      <td>6.647490e-32</td>\n",
       "      <td>-799.997015</td>\n",
       "      <td>4.033736e-32</td>\n",
       "      <td>-799.960571</td>\n",
       "      <td>...</td>\n",
       "      <td>1.079872e-16</td>\n",
       "      <td>-799.798523</td>\n",
       "      <td>2.489718e-17</td>\n",
       "      <td>-800.836914</td>\n",
       "      <td>0.069227</td>\n",
       "      <td>-797.323986</td>\n",
       "      <td>0.528083</td>\n",
       "      <td>-800.220337</td>\n",
       "      <td>-0.079426</td>\n",
       "      <td>-809.741464</td>\n",
       "    </tr>\n",
       "    <tr>\n",
       "      <th>25%</th>\n",
       "      <td>147.121401</td>\n",
       "      <td>6.489555</td>\n",
       "      <td>6.890000</td>\n",
       "      <td>0.907623</td>\n",
       "      <td>1.498936e+03</td>\n",
       "      <td>-500.357298</td>\n",
       "      <td>1.498971e+03</td>\n",
       "      <td>-500.703002</td>\n",
       "      <td>1.473230e+03</td>\n",
       "      <td>-501.018117</td>\n",
       "      <td>...</td>\n",
       "      <td>1.403618e+01</td>\n",
       "      <td>-500.868258</td>\n",
       "      <td>1.202862e+01</td>\n",
       "      <td>-500.323028</td>\n",
       "      <td>10.914838</td>\n",
       "      <td>-500.726841</td>\n",
       "      <td>8.036719</td>\n",
       "      <td>-500.194668</td>\n",
       "      <td>13.997317</td>\n",
       "      <td>-500.690984</td>\n",
       "    </tr>\n",
       "    <tr>\n",
       "      <th>50%</th>\n",
       "      <td>177.828489</td>\n",
       "      <td>8.052207</td>\n",
       "      <td>7.250000</td>\n",
       "      <td>1.197610</td>\n",
       "      <td>1.585129e+03</td>\n",
       "      <td>-499.969164</td>\n",
       "      <td>1.595622e+03</td>\n",
       "      <td>-500.028514</td>\n",
       "      <td>1.549595e+03</td>\n",
       "      <td>-500.017711</td>\n",
       "      <td>...</td>\n",
       "      <td>1.700847e+01</td>\n",
       "      <td>-500.115727</td>\n",
       "      <td>1.496486e+01</td>\n",
       "      <td>-499.576513</td>\n",
       "      <td>12.954182</td>\n",
       "      <td>-499.990332</td>\n",
       "      <td>10.004301</td>\n",
       "      <td>-499.990535</td>\n",
       "      <td>16.014935</td>\n",
       "      <td>-500.007126</td>\n",
       "    </tr>\n",
       "    <tr>\n",
       "      <th>75%</th>\n",
       "      <td>208.125438</td>\n",
       "      <td>10.027764</td>\n",
       "      <td>7.600000</td>\n",
       "      <td>1.797819</td>\n",
       "      <td>1.602077e+03</td>\n",
       "      <td>-499.568951</td>\n",
       "      <td>1.602324e+03</td>\n",
       "      <td>-499.293257</td>\n",
       "      <td>1.601144e+03</td>\n",
       "      <td>-498.994130</td>\n",
       "      <td>...</td>\n",
       "      <td>1.803862e+01</td>\n",
       "      <td>-499.404224</td>\n",
       "      <td>1.596213e+01</td>\n",
       "      <td>-400.933805</td>\n",
       "      <td>15.097528</td>\n",
       "      <td>-499.283191</td>\n",
       "      <td>11.997467</td>\n",
       "      <td>-499.719913</td>\n",
       "      <td>21.020013</td>\n",
       "      <td>-499.373018</td>\n",
       "    </tr>\n",
       "    <tr>\n",
       "      <th>max</th>\n",
       "      <td>265.983123</td>\n",
       "      <td>40.000000</td>\n",
       "      <td>15.500000</td>\n",
       "      <td>4.102454</td>\n",
       "      <td>2.103104e+03</td>\n",
       "      <td>-57.195404</td>\n",
       "      <td>1.813084e+03</td>\n",
       "      <td>-142.527229</td>\n",
       "      <td>1.715054e+03</td>\n",
       "      <td>-150.937035</td>\n",
       "      <td>...</td>\n",
       "      <td>3.005180e+01</td>\n",
       "      <td>-401.565212</td>\n",
       "      <td>3.126971e+01</td>\n",
       "      <td>-6.506986</td>\n",
       "      <td>25.258848</td>\n",
       "      <td>-244.483566</td>\n",
       "      <td>14.086866</td>\n",
       "      <td>-137.740004</td>\n",
       "      <td>26.705889</td>\n",
       "      <td>-123.307487</td>\n",
       "    </tr>\n",
       "  </tbody>\n",
       "</table>\n",
       "<p>8 rows × 52 columns</p>\n",
       "</div>"
      ],
      "text/plain": [
       "       primary_cleaner.input.sulfate  primary_cleaner.input.depressant  \\\n",
       "count                    5286.000000                       5285.000000   \n",
       "mean                      174.839652                          8.683596   \n",
       "std                        43.027080                          3.072050   \n",
       "min                         2.566156                          0.003839   \n",
       "25%                       147.121401                          6.489555   \n",
       "50%                       177.828489                          8.052207   \n",
       "75%                       208.125438                         10.027764   \n",
       "max                       265.983123                         40.000000   \n",
       "\n",
       "       primary_cleaner.input.feed_size  primary_cleaner.input.xanthate  \\\n",
       "count                      5290.000000                     5286.000000   \n",
       "mean                          7.266339                        1.383803   \n",
       "std                           0.610219                        0.643474   \n",
       "min                           5.650000                        0.004984   \n",
       "25%                           6.890000                        0.907623   \n",
       "50%                           7.250000                        1.197610   \n",
       "75%                           7.600000                        1.797819   \n",
       "max                          15.500000                        4.102454   \n",
       "\n",
       "       primary_cleaner.state.floatbank8_a_air  \\\n",
       "count                            5.290000e+03   \n",
       "mean                             1.539494e+03   \n",
       "std                              1.167979e+02   \n",
       "min                              5.445860e-32   \n",
       "25%                              1.498936e+03   \n",
       "50%                              1.585129e+03   \n",
       "75%                              1.602077e+03   \n",
       "max                              2.103104e+03   \n",
       "\n",
       "       primary_cleaner.state.floatbank8_a_level  \\\n",
       "count                               5290.000000   \n",
       "mean                                -497.665883   \n",
       "std                                   19.952431   \n",
       "min                                 -795.316337   \n",
       "25%                                 -500.357298   \n",
       "50%                                 -499.969164   \n",
       "75%                                 -499.568951   \n",
       "max                                  -57.195404   \n",
       "\n",
       "       primary_cleaner.state.floatbank8_b_air  \\\n",
       "count                            5.290000e+03   \n",
       "mean                             1.545174e+03   \n",
       "std                              1.222246e+02   \n",
       "min                              6.647490e-32   \n",
       "25%                              1.498971e+03   \n",
       "50%                              1.595622e+03   \n",
       "75%                              1.602324e+03   \n",
       "max                              1.813084e+03   \n",
       "\n",
       "       primary_cleaner.state.floatbank8_b_level  \\\n",
       "count                               5290.000000   \n",
       "mean                                -500.273098   \n",
       "std                                   32.968307   \n",
       "min                                 -799.997015   \n",
       "25%                                 -500.703002   \n",
       "50%                                 -500.028514   \n",
       "75%                                 -499.293257   \n",
       "max                                 -142.527229   \n",
       "\n",
       "       primary_cleaner.state.floatbank8_c_air  \\\n",
       "count                            5.290000e+03   \n",
       "mean                             1.527272e+03   \n",
       "std                              1.225380e+02   \n",
       "min                              4.033736e-32   \n",
       "25%                              1.473230e+03   \n",
       "50%                              1.549595e+03   \n",
       "75%                              1.601144e+03   \n",
       "max                              1.715054e+03   \n",
       "\n",
       "       primary_cleaner.state.floatbank8_c_level  ...  \\\n",
       "count                               5290.000000  ...   \n",
       "mean                                -498.330680  ...   \n",
       "std                                   21.964876  ...   \n",
       "min                                 -799.960571  ...   \n",
       "25%                                 -501.018117  ...   \n",
       "50%                                 -500.017711  ...   \n",
       "75%                                 -498.994130  ...   \n",
       "max                                 -150.937035  ...   \n",
       "\n",
       "       secondary_cleaner.state.floatbank4_a_air  \\\n",
       "count                              5.290000e+03   \n",
       "mean                               1.632007e+01   \n",
       "std                                3.493583e+00   \n",
       "min                                1.079872e-16   \n",
       "25%                                1.403618e+01   \n",
       "50%                                1.700847e+01   \n",
       "75%                                1.803862e+01   \n",
       "max                                3.005180e+01   \n",
       "\n",
       "       secondary_cleaner.state.floatbank4_a_level  \\\n",
       "count                                 5290.000000   \n",
       "mean                                  -505.144570   \n",
       "std                                     31.427337   \n",
       "min                                   -799.798523   \n",
       "25%                                   -500.868258   \n",
       "50%                                   -500.115727   \n",
       "75%                                   -499.404224   \n",
       "max                                   -401.565212   \n",
       "\n",
       "       secondary_cleaner.state.floatbank4_b_air  \\\n",
       "count                              5.290000e+03   \n",
       "mean                               1.373544e+01   \n",
       "std                                3.430484e+00   \n",
       "min                                2.489718e-17   \n",
       "25%                                1.202862e+01   \n",
       "50%                                1.496486e+01   \n",
       "75%                                1.596213e+01   \n",
       "max                                3.126971e+01   \n",
       "\n",
       "       secondary_cleaner.state.floatbank4_b_level  \\\n",
       "count                                 5290.000000   \n",
       "mean                                  -463.349858   \n",
       "std                                     86.189107   \n",
       "min                                   -800.836914   \n",
       "25%                                   -500.323028   \n",
       "50%                                   -499.576513   \n",
       "75%                                   -400.933805   \n",
       "max                                     -6.506986   \n",
       "\n",
       "       secondary_cleaner.state.floatbank5_a_air  \\\n",
       "count                               5290.000000   \n",
       "mean                                  12.804186   \n",
       "std                                    3.026591   \n",
       "min                                    0.069227   \n",
       "25%                                   10.914838   \n",
       "50%                                   12.954182   \n",
       "75%                                   15.097528   \n",
       "max                                   25.258848   \n",
       "\n",
       "       secondary_cleaner.state.floatbank5_a_level  \\\n",
       "count                                 5290.000000   \n",
       "mean                                  -501.329122   \n",
       "std                                     17.951495   \n",
       "min                                   -797.323986   \n",
       "25%                                   -500.726841   \n",
       "50%                                   -499.990332   \n",
       "75%                                   -499.283191   \n",
       "max                                   -244.483566   \n",
       "\n",
       "       secondary_cleaner.state.floatbank5_b_air  \\\n",
       "count                               5290.000000   \n",
       "mean                                   9.881145   \n",
       "std                                    2.868205   \n",
       "min                                    0.528083   \n",
       "25%                                    8.036719   \n",
       "50%                                   10.004301   \n",
       "75%                                   11.997467   \n",
       "max                                   14.086866   \n",
       "\n",
       "       secondary_cleaner.state.floatbank5_b_level  \\\n",
       "count                                 5290.000000   \n",
       "mean                                  -495.663398   \n",
       "std                                     34.535007   \n",
       "min                                   -800.220337   \n",
       "25%                                   -500.194668   \n",
       "50%                                   -499.990535   \n",
       "75%                                   -499.719913   \n",
       "max                                   -137.740004   \n",
       "\n",
       "       secondary_cleaner.state.floatbank6_a_air  \\\n",
       "count                               5290.000000   \n",
       "mean                                  17.304935   \n",
       "std                                    4.536544   \n",
       "min                                   -0.079426   \n",
       "25%                                   13.997317   \n",
       "50%                                   16.014935   \n",
       "75%                                   21.020013   \n",
       "max                                   26.705889   \n",
       "\n",
       "       secondary_cleaner.state.floatbank6_a_level  \n",
       "count                                 5290.000000  \n",
       "mean                                  -501.793193  \n",
       "std                                     39.044215  \n",
       "min                                   -809.741464  \n",
       "25%                                   -500.690984  \n",
       "50%                                   -500.007126  \n",
       "75%                                   -499.373018  \n",
       "max                                   -123.307487  \n",
       "\n",
       "[8 rows x 52 columns]"
      ]
     },
     "execution_count": 16,
     "metadata": {},
     "output_type": "execute_result"
    }
   ],
   "source": [
    "# описание данных gold_recovery_test\n",
    "gold_recovery_test.describe()"
   ]
  },
  {
   "cell_type": "markdown",
   "metadata": {},
   "source": [
    "<div style=\"border:solid blue 2px; padding: 20px\">\n",
    "    \n",
    " \n",
    "`ProfileReport()` применим для исследовательского анализа данных\n",
    "    \n",
    "    \n",
    "</div> "
   ]
  },
  {
   "cell_type": "code",
   "execution_count": 17,
   "metadata": {},
   "outputs": [],
   "source": [
    "# презентация результатов анализа gold_recovery_full\n",
    "#profile_full = ProfileReport(gold_recovery_full, title='gold_recovery_full Pandas Profiling Report', explorative = True)\n",
    "#profile_full"
   ]
  },
  {
   "cell_type": "code",
   "execution_count": 18,
   "metadata": {},
   "outputs": [],
   "source": [
    "# презентация результатов анализа gold_recovery_train\n",
    "#profile_train = ProfileReport(gold_recovery_train, title='gold_recovery_train Pandas Profiling Report', explorative = True)\n",
    "#profile_train"
   ]
  },
  {
   "cell_type": "code",
   "execution_count": 19,
   "metadata": {},
   "outputs": [],
   "source": [
    "# презентация результатов анализа gold_recovery_test\n",
    "#profile_test = ProfileReport(gold_recovery_test, title='gold_recovery_test Pandas Profiling Report', explorative = True)\n",
    "#profile_test"
   ]
  },
  {
   "cell_type": "markdown",
   "metadata": {},
   "source": [
    "<div style=\"border:solid blue 2px; padding: 20px\">\n",
    "    \n",
    " \n",
    "`Sweetviz` применим для исследовательского анализа данных\n",
    "    \n",
    "    \n",
    "</div> "
   ]
  },
  {
   "cell_type": "code",
   "execution_count": 20,
   "metadata": {},
   "outputs": [],
   "source": [
    "#report_full = sv.analyze(gold_recovery_full)\n",
    "#report_full.show_html(filepath='SWEETVIZ_REPORT.html',open_browser=True,layout='widescreen',scale=None)"
   ]
  },
  {
   "cell_type": "code",
   "execution_count": 21,
   "metadata": {},
   "outputs": [],
   "source": [
    "#report_full.show_notebook()"
   ]
  },
  {
   "cell_type": "markdown",
   "metadata": {},
   "source": [
    "<div style=\"border:solid blue 2px; padding: 20px\">\n",
    "\n",
    "### Вывод\n",
    "\n",
    "\n",
    "    \n",
    "    \n",
    "</div> "
   ]
  },
  {
   "cell_type": "markdown",
   "metadata": {},
   "source": [
    "<div style=\"border:solid blue 2px; padding: 20px\">\n",
    "\n",
    "Данные технологический процесса находятся в трёх файлах\n",
    "    \n",
    "- `gold_recovery_full` исходные данные\n",
    "    \n",
    "- `gold_recovery_train` обучающая выборка\n",
    "    \n",
    "- `gold_recovery_test` тестовая выборка\n",
    "    \n",
    "    \n",
    "**Этапы техпроцесса**\n",
    "   \n",
    "`rougher` - флотация - **1-й целевой этап**\n",
    "    \n",
    "`primary_cleaner` - первая очистка\n",
    "    \n",
    "`secondary_cleaner` - вторая очистка    \n",
    "    \n",
    "`final` - итог процесса - **итоговый целевой этап**\n",
    "    \n",
    "    \n",
    "**Тип_параметра техпроцесса**\n",
    "    \n",
    "`input` - на входе сырья\n",
    "    \n",
    "`output` - на выходе продукта - **целевой параметр**\n",
    "    \n",
    "`state` - характика текущего состояние этапа   \n",
    "    \n",
    "`calculation` - расчётные характеристики\n",
    "    \n",
    "    \n",
    "**Названия_параметра техпроцесса**\n",
    "    \n",
    "`recovery` - обогащение (восстановление) - **целевой параметр**\n",
    "    \n",
    "`feed_au` - сырьё_золото\n",
    "    \n",
    "`feed_pb` - сырьё_свинец\n",
    "    \n",
    "`feed_sol` - сырьё_сульфиды\n",
    "    \n",
    "`feed_rate` - сырьё_скорость\n",
    "    \n",
    "`feed_size` - сырьё_размер\n",
    "    \n",
    "`feed_ag` - сырьё_серебро\n",
    "        \n",
    "`state` - характика текущего состояние этапа   \n",
    "    \n",
    "`calculation` - расчётные характеристики\n",
    "    \n",
    "`floatbank` - характеристики флотационной установки  \n",
    "    \n",
    "`concentrate` - экспериментальные характеристики\n",
    "\n",
    "`tail` - отвальные хвосты (отходы и потери сырья)\n",
    "\n",
    "\n",
    "Аномалии обнаружены `0` в целевых признаках\n",
    "    \n",
    "    \n",
    "`ProfileReport` или `Sweetviz`применили для исследовательского анализа данных\n",
    "    \n",
    "Много признаков с сильной корреляцией и наблюдаем утечку целевого признака в `gold_recovery_train`\n",
    "    \n",
    "Отделим признаки необходимые для обучения моделей на этапах `rougher_recovery``final_recovery`\n",
    "    \n",
    "`gold_recovery_test` отсутствуют целевые признаки. Добавим из `gold_recovery_full`\n",
    "    \n",
    "\n",
    "    \n",
    "\n",
    "    \n",
    "</div> "
   ]
  },
  {
   "cell_type": "markdown",
   "metadata": {},
   "source": [
    "<div style=\"border:solid blue 2px; padding: 20px\">\n",
    "    \n",
    " \n",
    "`MAE` расчитаем на обучающей выборке: согласно описанию техпроцесса\n",
    "    \n",
    "- `rougher.output.recovery` значение целевого признака `флотация.на выходе.обогащение`\n",
    "    \n",
    "- значение предсказания целевого признака рассчитывается по формуле из условия задачи:\n",
    "    \n",
    "  `recovery = (c * (f - t) / f * (c - t)) * 100` \n",
    "    \n",
    "    `c` доля золота в концентрате после флотации/очистки `rougher.output.concentrate_au`\n",
    "    \n",
    "    `f` доля золота в сырье/концентрате до флотации/очистки `rougher.input.feed_au`\n",
    "    \n",
    "    `t` доля золота в отвальных хвостах после флотации/очистки `rougher.output.tail_au`\n",
    "    \n",
    "\n",
    "    \n",
    "    \n",
    "</div> "
   ]
  },
  {
   "cell_type": "code",
   "execution_count": 22,
   "metadata": {},
   "outputs": [
    {
     "name": "stdout",
     "output_type": "stream",
     "text": [
      "Среднее абсолютное отклонение: 1.1131451184435918e-14\n"
     ]
    }
   ],
   "source": [
    "# MAE между расчётами и значением признака\n",
    "recovery = ((gold_recovery_train['rougher.output.concentrate_au'] * (gold_recovery_train['rougher.input.feed_au'] - gold_recovery_train['rougher.output.tail_au']))*100)/(gold_recovery_train['rougher.input.feed_au']*(gold_recovery_train['rougher.output.concentrate_au'] - gold_recovery_train['rougher.output.tail_au']))\n",
    "print('Среднее абсолютное отклонение:', mean_absolute_error(gold_recovery_train['rougher.output.recovery'], recovery))"
   ]
  },
  {
   "cell_type": "markdown",
   "metadata": {},
   "source": [
    "<div style=\"border:solid blue 2px; padding: 20px\">\n",
    "    \n",
    " \n",
    "`MAE` между расчётами `recovery` и `rougher.output.recovery` очень маленькое отклонение `1.11e-14`\n",
    "    \n",
    "Это подтверждает, что эффективность обогащения рассчитана правильно\n",
    "    \n",
    "\n",
    "    \n",
    "    \n",
    "</div> "
   ]
  },
  {
   "cell_type": "markdown",
   "metadata": {},
   "source": [
    "<div style=\"border:solid blue 2px; padding: 20px\">\n",
    "    \n",
    " \n",
    "Проанализируем признаки, недоступные в тестовой выборке `gold_recovery_test`<a id='п1.7'></a>\n",
    "    \n",
    "Рассмотрим параметры и  к какому типу относятся\n",
    "    \n",
    "\n",
    "    \n",
    "    \n",
    "</div> "
   ]
  },
  {
   "cell_type": "markdown",
   "metadata": {},
   "source": [
    "<div style=\"border:solid blue 2px; padding: 20px\">\n",
    "    \n",
    " \n",
    "`set()` получим множество с названиями признаков в `gold_recovery_full` и `gold_recovery_test`\n",
    "    \n",
    "Разница между ними это множество со всеми элементами, которые содержатся в уменьшаемом\n",
    "    \n",
    "    \n",
    "</div> "
   ]
  },
  {
   "cell_type": "code",
   "execution_count": 23,
   "metadata": {},
   "outputs": [
    {
     "data": {
      "text/plain": [
       "['final.output.concentrate_ag',\n",
       " 'final.output.concentrate_au',\n",
       " 'final.output.concentrate_pb',\n",
       " 'final.output.concentrate_sol',\n",
       " 'final.output.recovery',\n",
       " 'final.output.tail_ag',\n",
       " 'final.output.tail_au',\n",
       " 'final.output.tail_pb',\n",
       " 'final.output.tail_sol',\n",
       " 'primary_cleaner.output.concentrate_ag',\n",
       " 'primary_cleaner.output.concentrate_au',\n",
       " 'primary_cleaner.output.concentrate_pb',\n",
       " 'primary_cleaner.output.concentrate_sol',\n",
       " 'primary_cleaner.output.tail_ag',\n",
       " 'primary_cleaner.output.tail_au',\n",
       " 'primary_cleaner.output.tail_pb',\n",
       " 'primary_cleaner.output.tail_sol',\n",
       " 'rougher.calculation.au_pb_ratio',\n",
       " 'rougher.calculation.floatbank10_sulfate_to_au_feed',\n",
       " 'rougher.calculation.floatbank11_sulfate_to_au_feed',\n",
       " 'rougher.calculation.sulfate_to_au_concentrate',\n",
       " 'rougher.output.concentrate_ag',\n",
       " 'rougher.output.concentrate_au',\n",
       " 'rougher.output.concentrate_pb',\n",
       " 'rougher.output.concentrate_sol',\n",
       " 'rougher.output.recovery',\n",
       " 'rougher.output.tail_ag',\n",
       " 'rougher.output.tail_au',\n",
       " 'rougher.output.tail_pb',\n",
       " 'rougher.output.tail_sol',\n",
       " 'secondary_cleaner.output.tail_ag',\n",
       " 'secondary_cleaner.output.tail_au',\n",
       " 'secondary_cleaner.output.tail_pb',\n",
       " 'secondary_cleaner.output.tail_sol']"
      ]
     },
     "execution_count": 23,
     "metadata": {},
     "output_type": "execute_result"
    }
   ],
   "source": [
    "# получение отсутствующих признаков в gold_recovery_test\n",
    "columns = set(gold_recovery_full.columns) - set(gold_recovery_test.columns)\n",
    "sorted(columns)"
   ]
  },
  {
   "cell_type": "markdown",
   "metadata": {},
   "source": [
    "<div style=\"border:solid blue 2px; padding: 20px\">\n",
    "    \n",
    "В тестовой выборке `gold_recovery_test` \n",
    "    \n",
    "- недоступны признаки онлайн метрик экспериментальных данных\n",
    "   \n",
    "`rougher.output.concentrate` `rougher.output.tail` `rougher.output.recovery` - на выходе флотации\n",
    "    \n",
    "`primary_cleaner.output.concentrate` `primary_cleaner.output.tail` - на выходе 1-й очистки\n",
    "\n",
    "`secondary_cleaner.output.tail` - на выходе 2-й очистки    \n",
    "    \n",
    "`final.output.concentrate` `final.output.tail` `final.output.recovery` - итоги процесса\n",
    "    \n",
    "\n",
    "- содержатся признаки оффлайн метрики исторических данных\n",
    "    \n",
    "`state.floatbank`характеризующие текущее состояние этапа\n",
    "    \n",
    "`rougher.input.feed`характеризующие сырьё на вход флотации \n",
    "    \n",
    "`primary_cleaner.input.feed_size` характеризующие сырьё на вход 1-й очистки\n",
    "    \n",
    "    \n",
    "</div> "
   ]
  },
  {
   "cell_type": "markdown",
   "metadata": {},
   "source": [
    "<div style=\"border:solid blue 2px; padding: 20px\">\n",
    "    \n",
    "Проведём предобработку данных на пропуски\n",
    "\n",
    "    \n",
    "</div> "
   ]
  },
  {
   "cell_type": "code",
   "execution_count": 24,
   "metadata": {
    "scrolled": false
   },
   "outputs": [
    {
     "data": {
      "text/plain": [
       "secondary_cleaner.output.tail_sol                     1748\n",
       "rougher.input.floatbank11_xanthate                     453\n",
       "rougher.state.floatbank10_e_air                        436\n",
       "primary_cleaner.output.concentrate_sol                 370\n",
       "secondary_cleaner.state.floatbank2_a_air               220\n",
       "final.output.concentrate_sol                           211\n",
       "rougher.input.feed_size                                145\n",
       "primary_cleaner.output.concentrate_pb                  116\n",
       "primary_cleaner.input.xanthate                         104\n",
       "final.output.tail_pb                                   101\n",
       "rougher.input.feed_pb                                  100\n",
       "rougher.input.feed_sol                                  99\n",
       "primary_cleaner.output.tail_sol                         62\n",
       "rougher.input.floatbank11_sulfate                       44\n",
       "primary_cleaner.input.depressant                        37\n",
       "rougher.input.floatbank10_sulfate                       34\n",
       "primary_cleaner.input.sulfate                           24\n",
       "rougher.output.concentrate_sol                          23\n",
       "secondary_cleaner.state.floatbank2_b_air                23\n",
       "primary_cleaner.output.tail_pb                          21\n",
       "secondary_cleaner.state.floatbank3_a_air                13\n",
       "secondary_cleaner.output.tail_pb                        12\n",
       "rougher.input.feed_rate                                 11\n",
       "rougher.input.floatbank10_xanthate                       8\n",
       "final.output.tail_sol                                    6\n",
       "secondary_cleaner.state.floatbank4_a_air                 6\n",
       "primary_cleaner.output.tail_ag                           4\n",
       "primary_cleaner.state.floatbank8_b_air                   4\n",
       "primary_cleaner.state.floatbank8_a_air                   4\n",
       "primary_cleaner.state.floatbank8_d_air                   3\n",
       "rougher.calculation.floatbank11_sulfate_to_au_feed       2\n",
       "secondary_cleaner.output.tail_ag                         2\n",
       "primary_cleaner.state.floatbank8_c_air                   2\n",
       "rougher.calculation.sulfate_to_au_concentrate            2\n",
       "secondary_cleaner.state.floatbank6_a_air                 2\n",
       "rougher.calculation.floatbank10_sulfate_to_au_feed       2\n",
       "secondary_cleaner.state.floatbank2_b_level               1\n",
       "secondary_cleaner.state.floatbank5_a_air                 1\n",
       "rougher.state.floatbank10_b_level                        1\n",
       "rougher.state.floatbank10_c_air                          1\n",
       "rougher.state.floatbank10_c_level                        1\n",
       "secondary_cleaner.state.floatbank5_b_level               1\n",
       "secondary_cleaner.state.floatbank5_b_air                 1\n",
       "secondary_cleaner.state.floatbank5_a_level               1\n",
       "secondary_cleaner.state.floatbank4_b_level               1\n",
       "secondary_cleaner.state.floatbank4_b_air                 1\n",
       "secondary_cleaner.state.floatbank4_a_level               1\n",
       "secondary_cleaner.state.floatbank3_b_level               1\n",
       "secondary_cleaner.state.floatbank2_a_level               1\n",
       "secondary_cleaner.state.floatbank3_b_air                 1\n",
       "dtype: int64"
      ]
     },
     "execution_count": 24,
     "metadata": {},
     "output_type": "execute_result"
    }
   ],
   "source": [
    "gold_recovery_full.isna().sum().sort_values(ascending=False).head(50)"
   ]
  },
  {
   "cell_type": "code",
   "execution_count": 25,
   "metadata": {
    "scrolled": false
   },
   "outputs": [
    {
     "data": {
      "text/plain": [
       "secondary_cleaner.output.tail_sol             1605\n",
       "rougher.state.floatbank10_e_air                436\n",
       "rougher.input.floatbank11_xanthate             428\n",
       "primary_cleaner.output.concentrate_sol         286\n",
       "secondary_cleaner.state.floatbank2_a_air       217\n",
       "final.output.concentrate_sol                   211\n",
       "rougher.input.feed_size                        144\n",
       "primary_cleaner.input.xanthate                 100\n",
       "rougher.input.feed_pb                          100\n",
       "final.output.tail_pb                           100\n",
       "primary_cleaner.output.concentrate_pb           86\n",
       "rougher.input.feed_sol                          78\n",
       "primary_cleaner.output.tail_sol                 46\n",
       "rougher.input.floatbank11_sulfate               36\n",
       "primary_cleaner.input.depressant                32\n",
       "rougher.input.floatbank10_sulfate               29\n",
       "rougher.output.concentrate_sol                  22\n",
       "secondary_cleaner.state.floatbank2_b_air        21\n",
       "primary_cleaner.input.sulfate                   20\n",
       "primary_cleaner.output.tail_pb                  15\n",
       "secondary_cleaner.output.tail_pb                10\n",
       "rougher.input.feed_rate                          8\n",
       "rougher.input.floatbank10_xanthate               8\n",
       "secondary_cleaner.state.floatbank4_a_air         6\n",
       "final.output.tail_sol                            5\n",
       "secondary_cleaner.state.floatbank3_a_air         4\n",
       "primary_cleaner.state.floatbank8_a_air           4\n",
       "primary_cleaner.state.floatbank8_b_air           4\n",
       "primary_cleaner.state.floatbank8_d_air           3\n",
       "primary_cleaner.state.floatbank8_c_air           2\n",
       "secondary_cleaner.output.tail_ag                 2\n",
       "secondary_cleaner.state.floatbank6_a_air         2\n",
       "rougher.state.floatbank10_b_level                1\n",
       "rougher.state.floatbank10_b_air                  1\n",
       "rougher.state.floatbank10_c_level                1\n",
       "rougher.state.floatbank10_c_air                  1\n",
       "secondary_cleaner.state.floatbank3_a_level       1\n",
       "secondary_cleaner.state.floatbank2_a_level       1\n",
       "secondary_cleaner.state.floatbank2_b_level       1\n",
       "rougher.state.floatbank10_a_air                  1\n",
       "secondary_cleaner.state.floatbank3_b_air         1\n",
       "secondary_cleaner.state.floatbank3_b_level       1\n",
       "secondary_cleaner.state.floatbank4_a_level       1\n",
       "secondary_cleaner.state.floatbank4_b_air         1\n",
       "secondary_cleaner.state.floatbank4_b_level       1\n",
       "secondary_cleaner.state.floatbank5_a_air         1\n",
       "secondary_cleaner.state.floatbank5_a_level       1\n",
       "secondary_cleaner.state.floatbank5_b_air         1\n",
       "secondary_cleaner.state.floatbank5_b_level       1\n",
       "rougher.state.floatbank10_a_level                1\n",
       "dtype: int64"
      ]
     },
     "execution_count": 25,
     "metadata": {},
     "output_type": "execute_result"
    }
   ],
   "source": [
    "gold_recovery_train.isna().sum().sort_values(ascending=False).head(50)"
   ]
  },
  {
   "cell_type": "code",
   "execution_count": 26,
   "metadata": {
    "scrolled": false
   },
   "outputs": [
    {
     "data": {
      "text/plain": [
       "rougher.input.floatbank11_xanthate          25\n",
       "rougher.input.feed_sol                      21\n",
       "secondary_cleaner.state.floatbank3_a_air     9\n",
       "rougher.input.floatbank11_sulfate            8\n",
       "primary_cleaner.input.depressant             5\n",
       "rougher.input.floatbank10_sulfate            5\n",
       "primary_cleaner.input.xanthate               4\n",
       "primary_cleaner.input.sulfate                4\n",
       "rougher.input.feed_rate                      3\n",
       "secondary_cleaner.state.floatbank2_a_air     3\n",
       "secondary_cleaner.state.floatbank2_b_air     2\n",
       "rougher.input.feed_size                      1\n",
       "dtype: int64"
      ]
     },
     "execution_count": 26,
     "metadata": {},
     "output_type": "execute_result"
    }
   ],
   "source": [
    "gold_recovery_test.isna().sum().sort_values(ascending=False).head(12)"
   ]
  },
  {
   "cell_type": "markdown",
   "metadata": {},
   "source": [
    "<div style=\"border:solid blue 2px; padding: 20px\">\n",
    "    \n",
    "По условию соседние по времени параметры часто похожи\n",
    "\n",
    "    \n",
    "</div> "
   ]
  },
  {
   "cell_type": "markdown",
   "metadata": {},
   "source": [
    "<div style=\"border:solid blue 2px; padding: 20px\">\n",
    "    \n",
    "`ffill()` заменим пропуски на впереди стоящие по времени значения\n",
    "\n",
    "    \n",
    "</div> "
   ]
  },
  {
   "cell_type": "code",
   "execution_count": 27,
   "metadata": {
    "scrolled": true
   },
   "outputs": [
    {
     "data": {
      "text/plain": [
       "date                                          0\n",
       "final.output.concentrate_ag                   0\n",
       "final.output.concentrate_pb                   0\n",
       "final.output.concentrate_sol                  0\n",
       "final.output.concentrate_au                   0\n",
       "                                             ..\n",
       "secondary_cleaner.state.floatbank5_a_level    0\n",
       "secondary_cleaner.state.floatbank5_b_air      0\n",
       "secondary_cleaner.state.floatbank5_b_level    0\n",
       "secondary_cleaner.state.floatbank6_a_air      0\n",
       "secondary_cleaner.state.floatbank6_a_level    0\n",
       "Length: 87, dtype: int64"
      ]
     },
     "execution_count": 27,
     "metadata": {},
     "output_type": "execute_result"
    }
   ],
   "source": [
    "# заполнение пропусков предыдущими значениями gold_recovery_train\n",
    "good_gold_recovery_full = gold_recovery_full.ffill()\n",
    "good_gold_recovery_full.isna().sum()"
   ]
  },
  {
   "cell_type": "code",
   "execution_count": 28,
   "metadata": {
    "scrolled": true
   },
   "outputs": [
    {
     "data": {
      "text/plain": [
       "date                                          0\n",
       "final.output.concentrate_ag                   0\n",
       "final.output.concentrate_pb                   0\n",
       "final.output.concentrate_sol                  0\n",
       "final.output.concentrate_au                   0\n",
       "                                             ..\n",
       "secondary_cleaner.state.floatbank5_a_level    0\n",
       "secondary_cleaner.state.floatbank5_b_air      0\n",
       "secondary_cleaner.state.floatbank5_b_level    0\n",
       "secondary_cleaner.state.floatbank6_a_air      0\n",
       "secondary_cleaner.state.floatbank6_a_level    0\n",
       "Length: 87, dtype: int64"
      ]
     },
     "execution_count": 28,
     "metadata": {},
     "output_type": "execute_result"
    }
   ],
   "source": [
    "# заполнение пропусков предыдущими значениями gold_recovery_train\n",
    "good_gold_recovery_train = gold_recovery_train.ffill()\n",
    "good_gold_recovery_train.isna().sum()"
   ]
  },
  {
   "cell_type": "code",
   "execution_count": 29,
   "metadata": {
    "scrolled": true
   },
   "outputs": [
    {
     "data": {
      "text/plain": [
       "date                                          0\n",
       "primary_cleaner.input.sulfate                 0\n",
       "primary_cleaner.input.depressant              0\n",
       "primary_cleaner.input.feed_size               0\n",
       "primary_cleaner.input.xanthate                0\n",
       "primary_cleaner.state.floatbank8_a_air        0\n",
       "primary_cleaner.state.floatbank8_a_level      0\n",
       "primary_cleaner.state.floatbank8_b_air        0\n",
       "primary_cleaner.state.floatbank8_b_level      0\n",
       "primary_cleaner.state.floatbank8_c_air        0\n",
       "primary_cleaner.state.floatbank8_c_level      0\n",
       "primary_cleaner.state.floatbank8_d_air        0\n",
       "primary_cleaner.state.floatbank8_d_level      0\n",
       "rougher.input.feed_ag                         0\n",
       "rougher.input.feed_pb                         0\n",
       "rougher.input.feed_rate                       0\n",
       "rougher.input.feed_size                       0\n",
       "rougher.input.feed_sol                        0\n",
       "rougher.input.feed_au                         0\n",
       "rougher.input.floatbank10_sulfate             0\n",
       "rougher.input.floatbank10_xanthate            0\n",
       "rougher.input.floatbank11_sulfate             0\n",
       "rougher.input.floatbank11_xanthate            0\n",
       "rougher.state.floatbank10_a_air               0\n",
       "rougher.state.floatbank10_a_level             0\n",
       "rougher.state.floatbank10_b_air               0\n",
       "rougher.state.floatbank10_b_level             0\n",
       "rougher.state.floatbank10_c_air               0\n",
       "rougher.state.floatbank10_c_level             0\n",
       "rougher.state.floatbank10_d_air               0\n",
       "rougher.state.floatbank10_d_level             0\n",
       "rougher.state.floatbank10_e_air               0\n",
       "rougher.state.floatbank10_e_level             0\n",
       "rougher.state.floatbank10_f_air               0\n",
       "rougher.state.floatbank10_f_level             0\n",
       "secondary_cleaner.state.floatbank2_a_air      0\n",
       "secondary_cleaner.state.floatbank2_a_level    0\n",
       "secondary_cleaner.state.floatbank2_b_air      0\n",
       "secondary_cleaner.state.floatbank2_b_level    0\n",
       "secondary_cleaner.state.floatbank3_a_air      0\n",
       "secondary_cleaner.state.floatbank3_a_level    0\n",
       "secondary_cleaner.state.floatbank3_b_air      0\n",
       "secondary_cleaner.state.floatbank3_b_level    0\n",
       "secondary_cleaner.state.floatbank4_a_air      0\n",
       "secondary_cleaner.state.floatbank4_a_level    0\n",
       "secondary_cleaner.state.floatbank4_b_air      0\n",
       "secondary_cleaner.state.floatbank4_b_level    0\n",
       "secondary_cleaner.state.floatbank5_a_air      0\n",
       "secondary_cleaner.state.floatbank5_a_level    0\n",
       "secondary_cleaner.state.floatbank5_b_air      0\n",
       "secondary_cleaner.state.floatbank5_b_level    0\n",
       "secondary_cleaner.state.floatbank6_a_air      0\n",
       "secondary_cleaner.state.floatbank6_a_level    0\n",
       "dtype: int64"
      ]
     },
     "execution_count": 29,
     "metadata": {},
     "output_type": "execute_result"
    }
   ],
   "source": [
    "# заполнение пропусков предыдущими значениями в gold_recovery_test\n",
    "good_gold_recovery_test = gold_recovery_test.ffill()\n",
    "good_gold_recovery_test.isna().sum()"
   ]
  },
  {
   "cell_type": "markdown",
   "metadata": {},
   "source": [
    "<div style=\"border:solid blue 2px; padding: 20px\">\n",
    "    \n",
    "Пропуски заполнили на `forward` впереди стоящие по времени значения\n",
    "\n",
    "    \n",
    "</div> "
   ]
  },
  {
   "cell_type": "markdown",
   "metadata": {},
   "source": [
    "<div style=\"border:solid blue 2px; padding: 20px\">\n",
    "    \n",
    " \n",
    "Сохраним в переменную `random_state` значение параметра, чтобы результаты получились одинаковыми\n",
    "    \n",
    "    \n",
    "</div> "
   ]
  },
  {
   "cell_type": "code",
   "execution_count": 30,
   "metadata": {},
   "outputs": [],
   "source": [
    "# сохранение параметра\n",
    "random_state = 1234"
   ]
  },
  {
   "cell_type": "markdown",
   "metadata": {},
   "source": [
    "<div style=\"border:solid blue 2px; padding: 20px\">\n",
    "    \n",
    "**Оценка полученных данных**\n",
    "\n",
    "Наблюдения, представленные в таблице описываются категориальными и количественными значениями.\n",
    "    \n",
    "Данные можно исследовать для дальнейшего анализа.\n",
    "    \n",
    "Данные индексируются датой и временем получения информации `date`.\n",
    "    \n",
    "Соседние по времени параметры часто похожи.\n",
    "    \n",
    "**Категориальный признак** `date`, который по условию задачи \n",
    "    \n",
    "не используются для обучения модели и соответственно будет удалён.\n",
    "    \n",
    "Проверили, что эффективность обогащения рассчитана верно\n",
    "    \n",
    "Проанализировали признаки, недоступные в тестовой выборке `gold_recovery_test`\n",
    "\n",
    "**Количественный целевой признак** - `recovery` - задача регрессии\n",
    "    \n",
    "Провели предобработку данных на пропуски `ffill()`\n",
    "\n",
    "\n",
    "</div>"
   ]
  },
  {
   "cell_type": "markdown",
   "metadata": {},
   "source": [
    "## Анализ данных"
   ]
  },
  {
   "cell_type": "markdown",
   "metadata": {},
   "source": [
    "<div style=\"border:solid blue 2px; padding: 20px\">\n",
    "    \n",
    "Посмотрим, как меняется концентрация металлов `_au`, `_ag`, `_pb` на различных этапах очистки\n",
    "    \n",
    "- `rougher.output.concentrate`\n",
    "\n",
    "- `primary_cleaner.output.concentrate`  \n",
    "    \n",
    "- `final.output.concentrate`\n",
    "    \n",
    "    \n",
    "</div> "
   ]
  },
  {
   "cell_type": "markdown",
   "metadata": {},
   "source": [
    "<div style=\"border:solid blue 2px; padding: 20px\">\n",
    "    \n",
    "Создадим функцию `hist_concentrat()` c параметрами `rougher`, `primary_cleaner`, `final`\n",
    "    \n",
    "в теле функции методом `hist()` построим гистограмму для концентрации металла на различных этапах\n",
    "    \n",
    "    \n",
    "</div> "
   ]
  },
  {
   "cell_type": "code",
   "execution_count": 31,
   "metadata": {},
   "outputs": [],
   "source": [
    "# функция получения гистограммы изменения концентрации металла\n",
    "def hist_concentrat(rougher, primary_cleaner, final):\n",
    "    plt.figure(figsize=[5,5])\n",
    "    plt.hist(rougher, bins=100, label = 'rougher.output', alpha=.5)\n",
    "    plt.hist(primary_cleaner, bins=100, label = 'primary_cleaner.output', alpha=.5)\n",
    "    plt.hist(final, bins=100, label = 'final.output', alpha=.5)\n",
    "    plt.title('Гистограмма распределения концентрации металла')\n",
    "    plt.xlabel('Концентрация металла на выходе этапа')\n",
    "    plt.ylabel('Наблюдения')\n",
    "    plt.legend(loc='upper left')\n",
    "    plt.xlim([0, 60])\n",
    "    plt.ylim([0, 2000])\n",
    "    plt.show()"
   ]
  },
  {
   "cell_type": "markdown",
   "metadata": {},
   "source": [
    "<div style=\"border:solid blue 2px; padding: 20px\">\n",
    "    \n",
    "\n",
    "    \n",
    "`_au` построим гистограмму для концентрации металла на различных этапах\n",
    "    \n",
    "    \n",
    "</div> "
   ]
  },
  {
   "cell_type": "code",
   "execution_count": 32,
   "metadata": {
    "scrolled": false
   },
   "outputs": [
    {
     "data": {
      "image/png": "[encoded data removed]",
      "text/plain": [
       "<Figure size 360x360 with 1 Axes>"
      ]
     },
     "metadata": {
      "needs_background": "light"
     },
     "output_type": "display_data"
    }
   ],
   "source": [
    "# построение гистограммы для _au\n",
    "hist_concentrat(good_gold_recovery_train['rougher.output.concentrate_au'], good_gold_recovery_train['primary_cleaner.output.concentrate_au'], good_gold_recovery_train['final.output.concentrate_au'])"
   ]
  },
  {
   "cell_type": "markdown",
   "metadata": {},
   "source": [
    "<div style=\"border:solid blue 2px; padding: 20px\">\n",
    "    \n",
    "\n",
    "    \n",
    "`_au` концентрации металла **увеличивается** в техпроцессе флотация-очистка-финал\n",
    "    \n",
    "Аномалии обнаружены `0` концентрации веществ\n",
    "    \n",
    "    \n",
    "</div> "
   ]
  },
  {
   "cell_type": "markdown",
   "metadata": {},
   "source": [
    "<div style=\"border:solid blue 2px; padding: 20px\">\n",
    "    \n",
    "\n",
    "    \n",
    "`_ag` построим гистограмму для концентрации металла на различных этапах\n",
    "    \n",
    "    \n",
    "</div> "
   ]
  },
  {
   "cell_type": "code",
   "execution_count": 33,
   "metadata": {
    "scrolled": false
   },
   "outputs": [
    {
     "data": {
      "image/png": "[encoded data removed]",
      "text/plain": [
       "<Figure size 360x360 with 1 Axes>"
      ]
     },
     "metadata": {
      "needs_background": "light"
     },
     "output_type": "display_data"
    }
   ],
   "source": [
    "# построение гистограммы для _ag\n",
    "hist_concentrat(good_gold_recovery_train['rougher.output.concentrate_ag'], good_gold_recovery_train['primary_cleaner.output.concentrate_ag'], good_gold_recovery_train['final.output.concentrate_ag'])"
   ]
  },
  {
   "cell_type": "markdown",
   "metadata": {},
   "source": [
    "<div style=\"border:solid blue 2px; padding: 20px\">\n",
    "    \n",
    "\n",
    "    \n",
    "`_ag` концентрации металла **уменьшается** в техпроцессе флотация-очистка-финал\n",
    "    \n",
    "    \n",
    "</div> "
   ]
  },
  {
   "cell_type": "markdown",
   "metadata": {},
   "source": [
    "<div style=\"border:solid blue 2px; padding: 20px\">\n",
    "    \n",
    "\n",
    "    \n",
    "`_pb` построим гистограмму для концентрации металла на различных этапах\n",
    "    \n",
    "    \n",
    "</div> "
   ]
  },
  {
   "cell_type": "code",
   "execution_count": 34,
   "metadata": {
    "scrolled": true
   },
   "outputs": [
    {
     "data": {
      "image/png": "[encoded data removed]",
      "text/plain": [
       "<Figure size 360x360 with 1 Axes>"
      ]
     },
     "metadata": {
      "needs_background": "light"
     },
     "output_type": "display_data"
    }
   ],
   "source": [
    "# построение гистограммы для _pb\n",
    "hist_concentrat(good_gold_recovery_train['rougher.output.concentrate_pb'], good_gold_recovery_train['primary_cleaner.output.concentrate_pb'], good_gold_recovery_train['final.output.concentrate_pb'])"
   ]
  },
  {
   "cell_type": "markdown",
   "metadata": {},
   "source": [
    "<div style=\"border:solid blue 2px; padding: 20px\">\n",
    "    \n",
    "\n",
    "    \n",
    "`_pb` концентрации металла **увеличивается** в техпроцессе флотация-очистка-финал\n",
    "    \n",
    "флотационные реагенты: Xanthate, Sulphate, Depressant связываются с `_pb`\n",
    "    \n",
    "    \n",
    "</div> "
   ]
  },
  {
   "cell_type": "markdown",
   "metadata": {},
   "source": [
    "<div style=\"border:solid blue 2px; padding: 20px\">\n",
    "    \n",
    "Сравним распределения размеров гранул сырья на обучающей и тестовой выборках \n",
    "    \n",
    "Если распределения сильно отличаются друг от друга, оценка модели будет неправильной\n",
    "    \n",
    "- `rougher.input.feed_size`\n",
    "    \n",
    "- `primary_cleaner.input.feed_size`\n",
    "    \n",
    "</div> "
   ]
  },
  {
   "cell_type": "markdown",
   "metadata": {},
   "source": [
    "<div style=\"border:solid blue 2px; padding: 20px\">\n",
    "    \n",
    "`hist()` построим гистограмму для размеров гранул сырья \n",
    "    \n",
    "    \n",
    "</div> "
   ]
  },
  {
   "cell_type": "code",
   "execution_count": 35,
   "metadata": {},
   "outputs": [
    {
     "data": {
      "image/png": "[encoded data removed]",
      "text/plain": [
       "<Figure size 360x360 with 1 Axes>"
      ]
     },
     "metadata": {
      "needs_background": "light"
     },
     "output_type": "display_data"
    }
   ],
   "source": [
    "# построение гистограммы для этапа rougher.input\n",
    "plt.figure(figsize=[5,5])\n",
    "plt.hist(good_gold_recovery_train['rougher.input.feed_size'], bins=200, label = 'train', alpha=.5)\n",
    "plt.hist(good_gold_recovery_test['rougher.input.feed_size'], bins=200, label = 'test', alpha=.5)\n",
    "plt.title('Гистограмма распределения размеров гранул сырья')\n",
    "plt.xlabel('Размер гранул сырья')\n",
    "plt.ylabel('Наблюдения')\n",
    "plt.legend(loc='upper left')\n",
    "plt.xlim([0, 300])\n",
    "plt.ylim([0, 2000])\n",
    "plt.show()"
   ]
  },
  {
   "cell_type": "markdown",
   "metadata": {},
   "source": [
    "<div style=\"border:solid blue 2px; padding: 20px\">\n",
    "    \n",
    "Для этапа `rougher.input` размеров гранул сырья составляет `40 - 60` в большом количестве\n",
    "    \n",
    "Наблюдается смещение влево у распределения на обучающей и тестовой выборках\n",
    "    \n",
    "    \n",
    "</div> "
   ]
  },
  {
   "cell_type": "code",
   "execution_count": 36,
   "metadata": {},
   "outputs": [
    {
     "data": {
      "image/png": "[encoded data removed]",
      "text/plain": [
       "<Figure size 360x360 with 1 Axes>"
      ]
     },
     "metadata": {
      "needs_background": "light"
     },
     "output_type": "display_data"
    }
   ],
   "source": [
    "# построение гистограммы для этапа primary_cleaner.input\n",
    "plt.figure(figsize=[5,5])\n",
    "plt.hist(good_gold_recovery_train['primary_cleaner.input.feed_size'], bins=200, label = 'train', alpha=.5)\n",
    "plt.hist(good_gold_recovery_test['primary_cleaner.input.feed_size'], bins=200, label = 'test', alpha=.5)\n",
    "plt.title('Гистограмма распределения размеров гранул сырья')\n",
    "plt.xlabel('Размер гранул сырья')\n",
    "plt.ylabel('Наблюдения')\n",
    "plt.legend(loc='upper left')\n",
    "plt.xlim([0, 15])\n",
    "plt.ylim([0, 1000])\n",
    "plt.show()"
   ]
  },
  {
   "cell_type": "markdown",
   "metadata": {},
   "source": [
    "<div style=\"border:solid blue 2px; padding: 20px\">\n",
    "    \n",
    "Для этапа `primary_cleaner.input` размеров гранул сырья составляет `7 - 8` в небольшом количестве\n",
    "    \n",
    "Наблюдается нормальное распределения на обучающей и тестовой выборках\n",
    "    \n",
    "    \n",
    "</div> "
   ]
  },
  {
   "cell_type": "code",
   "execution_count": 37,
   "metadata": {},
   "outputs": [
    {
     "data": {
      "image/png": "[encoded data removed]",
      "text/plain": [
       "<Figure size 360x360 with 1 Axes>"
      ]
     },
     "metadata": {
      "needs_background": "light"
     },
     "output_type": "display_data"
    }
   ],
   "source": [
    "plt.figure(figsize=[5,5])\n",
    "plt.hist(good_gold_recovery_train['primary_cleaner.input.feed_size'], alpha=.5, bins=50, label='train', density=True)\n",
    "plt.hist(good_gold_recovery_test['primary_cleaner.input.feed_size'], alpha=.5, bins=50, label='test', density=True)\n",
    "plt.legend(loc='upper left')\n",
    "plt.xlabel('Размер гранул сырья') \n",
    "plt.show()"
   ]
  },
  {
   "cell_type": "markdown",
   "metadata": {},
   "source": [
    "<div style=\"border:solid blue 2px; padding: 20px\">\n",
    "    \n",
    "Исследуем суммарную концентрацию `_au`, `_ag`, `_pb`, `_sol` на различных этапах очистки\n",
    "    \n",
    "- `rougher.output.concentrate`\n",
    "\n",
    "- `primary_cleaner.output.concentrate`  \n",
    "    \n",
    "- `final.output.concentrate`\n",
    "    \n",
    "    \n",
    "</div> "
   ]
  },
  {
   "cell_type": "code",
   "execution_count": 38,
   "metadata": {},
   "outputs": [],
   "source": [
    "# получение суммарной концентрации по этапам rougher, primary_cleaner, final\n",
    "rougher_output_concentrate_sum_train = (good_gold_recovery_train['rougher.output.concentrate_au'] + good_gold_recovery_train['rougher.output.concentrate_ag'] + good_gold_recovery_train['rougher.output.concentrate_pb'] +good_gold_recovery_train['rougher.output.concentrate_sol'])\n",
    "primary_cleaner_output_concentrate_sum_train = (good_gold_recovery_train['primary_cleaner.output.concentrate_au'] + good_gold_recovery_train['primary_cleaner.output.concentrate_ag'] + good_gold_recovery_train['primary_cleaner.output.concentrate_pb'] +good_gold_recovery_train['primary_cleaner.output.concentrate_sol'])\n",
    "final_output_concentrate_sum_train = (good_gold_recovery_train['final.output.concentrate_au'] + good_gold_recovery_train['final.output.concentrate_ag'] + good_gold_recovery_train['final.output.concentrate_pb'] + good_gold_recovery_train['final.output.concentrate_sol'])"
   ]
  },
  {
   "cell_type": "markdown",
   "metadata": {},
   "source": [
    "<div style=\"border:solid blue 2px; padding: 20px\">\n",
    "    \n",
    "`hist()` построим гистограмму концентраций\n",
    "    \n",
    "    \n",
    "</div> "
   ]
  },
  {
   "cell_type": "code",
   "execution_count": 39,
   "metadata": {},
   "outputs": [
    {
     "data": {
      "image/png": "[encoded data removed]",
      "text/plain": [
       "<Figure size 360x360 with 1 Axes>"
      ]
     },
     "metadata": {
      "needs_background": "light"
     },
     "output_type": "display_data"
    }
   ],
   "source": [
    "# построение гистограмм\n",
    "plt.figure(figsize=[5,5])\n",
    "plt.hist(rougher_output_concentrate_sum_train, bins=100, label = 'rougher', alpha=.5)\n",
    "plt.hist(primary_cleaner_output_concentrate_sum_train, bins=100, label = 'primary_cleaner', alpha=.5)\n",
    "plt.hist(final_output_concentrate_sum_train, bins=100, label = 'final', alpha=.5)\n",
    "plt.xlim([0, 100])\n",
    "plt.ylim([0, 2000])\n",
    "plt.xlabel('Суммарная концентраця')\n",
    "plt.ylabel('Наблюдения')\n",
    "plt.legend(loc='upper left')\n",
    "plt.title('Гистограмма суммарных концентраций по этапам rougher, primary_cleaner, final')\n",
    "plt.show()"
   ]
  },
  {
   "cell_type": "markdown",
   "metadata": {},
   "source": [
    "<div style=\"border:solid blue 2px; padding: 20px\">\n",
    "    \n",
    "`describe()` построим описание данных\n",
    "    \n",
    "    \n",
    "</div> "
   ]
  },
  {
   "cell_type": "code",
   "execution_count": 40,
   "metadata": {},
   "outputs": [
    {
     "data": {
      "text/plain": [
       "count    14149.000000\n",
       "mean        67.173145\n",
       "std         12.713129\n",
       "min          0.000000\n",
       "25%         64.914390\n",
       "50%         69.175663\n",
       "75%         73.429261\n",
       "max         88.140119\n",
       "dtype: float64"
      ]
     },
     "execution_count": 40,
     "metadata": {},
     "output_type": "execute_result"
    }
   ],
   "source": [
    "# описание данных rougher_output_concentrate_sum_train\n",
    "rougher_output_concentrate_sum_train.describe()"
   ]
  },
  {
   "cell_type": "code",
   "execution_count": 41,
   "metadata": {},
   "outputs": [
    {
     "data": {
      "text/plain": [
       "count    14149.000000\n",
       "mean        60.172546\n",
       "std         10.448165\n",
       "min          0.000000\n",
       "25%         58.046816\n",
       "50%         61.786946\n",
       "75%         65.355951\n",
       "max         76.918076\n",
       "dtype: float64"
      ]
     },
     "execution_count": 41,
     "metadata": {},
     "output_type": "execute_result"
    }
   ],
   "source": [
    "# описание данных primary_cleaner_output_concentrate_sum_train\n",
    "primary_cleaner_output_concentrate_sum_train.describe()"
   ]
  },
  {
   "cell_type": "code",
   "execution_count": 42,
   "metadata": {},
   "outputs": [
    {
     "data": {
      "text/plain": [
       "count    14149.000000\n",
       "mean        68.387872\n",
       "std          7.023723\n",
       "min          0.000000\n",
       "25%         67.559819\n",
       "50%         69.141502\n",
       "75%         70.974661\n",
       "max         80.210644\n",
       "dtype: float64"
      ]
     },
     "execution_count": 42,
     "metadata": {},
     "output_type": "execute_result"
    }
   ],
   "source": [
    "# описание данных final_output_concentrate_sum_train\n",
    "final_output_concentrate_sum_train.describe()"
   ]
  },
  {
   "cell_type": "markdown",
   "metadata": {},
   "source": [
    "<div style=\"border:solid blue 2px; padding: 20px\">\n",
    "\n",
    "    \n",
    "Аномалии обнаружены `0` концентрации веществ\n",
    "    \n",
    "Построим гистограммы для суммарной концентрации в этом масштабе\n",
    "    \n",
    "    \n",
    "</div> "
   ]
  },
  {
   "cell_type": "code",
   "execution_count": 43,
   "metadata": {},
   "outputs": [
    {
     "data": {
      "image/png": "[encoded data removed]",
      "text/plain": [
       "<Figure size 360x360 with 1 Axes>"
      ]
     },
     "metadata": {
      "needs_background": "light"
     },
     "output_type": "display_data"
    }
   ],
   "source": [
    "# построение гистограмм\n",
    "plt.figure(figsize=[5,5])\n",
    "plt.hist(rougher_output_concentrate_sum_train, bins=100, label = 'rougher', alpha=.5)\n",
    "plt.hist(primary_cleaner_output_concentrate_sum_train, bins=100, label = 'primary_cleaner', alpha=.5)\n",
    "plt.hist(final_output_concentrate_sum_train, bins=100, label = 'final', alpha=.5)\n",
    "plt.xlim([0, 10])\n",
    "plt.ylim([0, 500])\n",
    "plt.xlabel('Суммарная концентраця')\n",
    "plt.ylabel('Наблюдения')\n",
    "plt.legend(loc='upper left')\n",
    "plt.title('Гистограмма суммарных концентраций по этапам rougher, primary_cleaner, final')\n",
    "plt.show()"
   ]
  },
  {
   "cell_type": "code",
   "execution_count": 44,
   "metadata": {
    "scrolled": true
   },
   "outputs": [
    {
     "data": {
      "text/html": [
       "<div>\n",
       "<style scoped>\n",
       "    .dataframe tbody tr th:only-of-type {\n",
       "        vertical-align: middle;\n",
       "    }\n",
       "\n",
       "    .dataframe tbody tr th {\n",
       "        vertical-align: top;\n",
       "    }\n",
       "\n",
       "    .dataframe thead th {\n",
       "        text-align: right;\n",
       "    }\n",
       "</style>\n",
       "<table border=\"1\" class=\"dataframe\">\n",
       "  <thead>\n",
       "    <tr style=\"text-align: right;\">\n",
       "      <th></th>\n",
       "      <th>date</th>\n",
       "      <th>final.output.concentrate_ag</th>\n",
       "      <th>final.output.concentrate_pb</th>\n",
       "      <th>final.output.concentrate_sol</th>\n",
       "      <th>final.output.concentrate_au</th>\n",
       "      <th>final.output.recovery</th>\n",
       "      <th>final.output.tail_ag</th>\n",
       "      <th>final.output.tail_pb</th>\n",
       "      <th>final.output.tail_sol</th>\n",
       "      <th>final.output.tail_au</th>\n",
       "      <th>...</th>\n",
       "      <th>secondary_cleaner.state.floatbank4_a_air</th>\n",
       "      <th>secondary_cleaner.state.floatbank4_a_level</th>\n",
       "      <th>secondary_cleaner.state.floatbank4_b_air</th>\n",
       "      <th>secondary_cleaner.state.floatbank4_b_level</th>\n",
       "      <th>secondary_cleaner.state.floatbank5_a_air</th>\n",
       "      <th>secondary_cleaner.state.floatbank5_a_level</th>\n",
       "      <th>secondary_cleaner.state.floatbank5_b_air</th>\n",
       "      <th>secondary_cleaner.state.floatbank5_b_level</th>\n",
       "      <th>secondary_cleaner.state.floatbank6_a_air</th>\n",
       "      <th>secondary_cleaner.state.floatbank6_a_level</th>\n",
       "    </tr>\n",
       "  </thead>\n",
       "  <tbody>\n",
       "    <tr>\n",
       "      <th>45</th>\n",
       "      <td>2016-01-16 21:00:00</td>\n",
       "      <td>4.566664</td>\n",
       "      <td>10.406178</td>\n",
       "      <td>4.588698</td>\n",
       "      <td>46.614456</td>\n",
       "      <td>68.403877</td>\n",
       "      <td>10.705777</td>\n",
       "      <td>1.509070</td>\n",
       "      <td>17.875134</td>\n",
       "      <td>2.509776</td>\n",
       "      <td>...</td>\n",
       "      <td>14.025588</td>\n",
       "      <td>-550.404242</td>\n",
       "      <td>12.028925</td>\n",
       "      <td>-550.570104</td>\n",
       "      <td>10.052072</td>\n",
       "      <td>-500.797905</td>\n",
       "      <td>7.984500</td>\n",
       "      <td>-499.581046</td>\n",
       "      <td>11.982025</td>\n",
       "      <td>-599.161228</td>\n",
       "    </tr>\n",
       "    <tr>\n",
       "      <th>46</th>\n",
       "      <td>2016-01-16 22:00:00</td>\n",
       "      <td>4.577832</td>\n",
       "      <td>10.691605</td>\n",
       "      <td>5.274175</td>\n",
       "      <td>46.250638</td>\n",
       "      <td>70.675633</td>\n",
       "      <td>10.728531</td>\n",
       "      <td>1.641216</td>\n",
       "      <td>18.349339</td>\n",
       "      <td>2.540843</td>\n",
       "      <td>...</td>\n",
       "      <td>14.094808</td>\n",
       "      <td>-550.676337</td>\n",
       "      <td>12.004728</td>\n",
       "      <td>-550.496522</td>\n",
       "      <td>9.953139</td>\n",
       "      <td>-500.330920</td>\n",
       "      <td>8.012074</td>\n",
       "      <td>-500.133530</td>\n",
       "      <td>11.975316</td>\n",
       "      <td>-598.839683</td>\n",
       "    </tr>\n",
       "    <tr>\n",
       "      <th>47</th>\n",
       "      <td>2016-01-16 23:00:00</td>\n",
       "      <td>4.591462</td>\n",
       "      <td>10.628846</td>\n",
       "      <td>5.688961</td>\n",
       "      <td>46.663335</td>\n",
       "      <td>55.088448</td>\n",
       "      <td>10.694584</td>\n",
       "      <td>1.671644</td>\n",
       "      <td>17.910312</td>\n",
       "      <td>2.686782</td>\n",
       "      <td>...</td>\n",
       "      <td>13.997488</td>\n",
       "      <td>-551.224653</td>\n",
       "      <td>11.971272</td>\n",
       "      <td>-550.095619</td>\n",
       "      <td>9.981163</td>\n",
       "      <td>-502.869109</td>\n",
       "      <td>7.941184</td>\n",
       "      <td>-500.623610</td>\n",
       "      <td>12.018837</td>\n",
       "      <td>-600.916665</td>\n",
       "    </tr>\n",
       "    <tr>\n",
       "      <th>48</th>\n",
       "      <td>2016-01-17 00:00:00</td>\n",
       "      <td>5.296830</td>\n",
       "      <td>10.597469</td>\n",
       "      <td>5.688961</td>\n",
       "      <td>44.015642</td>\n",
       "      <td>41.962008</td>\n",
       "      <td>11.975654</td>\n",
       "      <td>1.846558</td>\n",
       "      <td>8.138408</td>\n",
       "      <td>2.889469</td>\n",
       "      <td>...</td>\n",
       "      <td>14.006476</td>\n",
       "      <td>-549.388727</td>\n",
       "      <td>11.975967</td>\n",
       "      <td>-550.778624</td>\n",
       "      <td>9.989726</td>\n",
       "      <td>-499.607365</td>\n",
       "      <td>7.958252</td>\n",
       "      <td>-498.882560</td>\n",
       "      <td>11.967977</td>\n",
       "      <td>-599.440603</td>\n",
       "    </tr>\n",
       "    <tr>\n",
       "      <th>49</th>\n",
       "      <td>2016-01-17 02:00:00</td>\n",
       "      <td>8.162896</td>\n",
       "      <td>8.877528</td>\n",
       "      <td>5.688961</td>\n",
       "      <td>40.715973</td>\n",
       "      <td>49.884856</td>\n",
       "      <td>10.381465</td>\n",
       "      <td>1.024030</td>\n",
       "      <td>12.974257</td>\n",
       "      <td>2.739224</td>\n",
       "      <td>...</td>\n",
       "      <td>13.984906</td>\n",
       "      <td>-550.563329</td>\n",
       "      <td>11.999730</td>\n",
       "      <td>-550.549773</td>\n",
       "      <td>9.941869</td>\n",
       "      <td>-503.282068</td>\n",
       "      <td>8.018850</td>\n",
       "      <td>-500.970716</td>\n",
       "      <td>11.991078</td>\n",
       "      <td>-598.475929</td>\n",
       "    </tr>\n",
       "    <tr>\n",
       "      <th>...</th>\n",
       "      <td>...</td>\n",
       "      <td>...</td>\n",
       "      <td>...</td>\n",
       "      <td>...</td>\n",
       "      <td>...</td>\n",
       "      <td>...</td>\n",
       "      <td>...</td>\n",
       "      <td>...</td>\n",
       "      <td>...</td>\n",
       "      <td>...</td>\n",
       "      <td>...</td>\n",
       "      <td>...</td>\n",
       "      <td>...</td>\n",
       "      <td>...</td>\n",
       "      <td>...</td>\n",
       "      <td>...</td>\n",
       "      <td>...</td>\n",
       "      <td>...</td>\n",
       "      <td>...</td>\n",
       "      <td>...</td>\n",
       "      <td>...</td>\n",
       "    </tr>\n",
       "    <tr>\n",
       "      <th>10936</th>\n",
       "      <td>2018-03-12 02:59:59</td>\n",
       "      <td>5.413548</td>\n",
       "      <td>9.389648</td>\n",
       "      <td>8.731319</td>\n",
       "      <td>45.270618</td>\n",
       "      <td>100.000000</td>\n",
       "      <td>0.000000</td>\n",
       "      <td>0.000000</td>\n",
       "      <td>0.000000</td>\n",
       "      <td>0.000000</td>\n",
       "      <td>...</td>\n",
       "      <td>22.999183</td>\n",
       "      <td>-503.125579</td>\n",
       "      <td>14.941823</td>\n",
       "      <td>-500.352978</td>\n",
       "      <td>17.987796</td>\n",
       "      <td>-500.438815</td>\n",
       "      <td>11.963555</td>\n",
       "      <td>-499.982857</td>\n",
       "      <td>12.015338</td>\n",
       "      <td>-500.051956</td>\n",
       "    </tr>\n",
       "    <tr>\n",
       "      <th>10937</th>\n",
       "      <td>2018-03-12 03:59:59</td>\n",
       "      <td>5.413548</td>\n",
       "      <td>9.389648</td>\n",
       "      <td>8.731319</td>\n",
       "      <td>45.270618</td>\n",
       "      <td>100.000000</td>\n",
       "      <td>0.000000</td>\n",
       "      <td>0.000000</td>\n",
       "      <td>0.000000</td>\n",
       "      <td>0.000000</td>\n",
       "      <td>...</td>\n",
       "      <td>22.985096</td>\n",
       "      <td>-498.720702</td>\n",
       "      <td>14.934058</td>\n",
       "      <td>-499.661417</td>\n",
       "      <td>17.998973</td>\n",
       "      <td>-500.156797</td>\n",
       "      <td>12.035195</td>\n",
       "      <td>-500.141814</td>\n",
       "      <td>11.988525</td>\n",
       "      <td>-500.526074</td>\n",
       "    </tr>\n",
       "    <tr>\n",
       "      <th>10938</th>\n",
       "      <td>2018-03-12 04:59:59</td>\n",
       "      <td>5.413548</td>\n",
       "      <td>9.389648</td>\n",
       "      <td>8.731319</td>\n",
       "      <td>45.270618</td>\n",
       "      <td>100.000000</td>\n",
       "      <td>0.000000</td>\n",
       "      <td>0.000000</td>\n",
       "      <td>0.000000</td>\n",
       "      <td>0.000000</td>\n",
       "      <td>...</td>\n",
       "      <td>22.953466</td>\n",
       "      <td>-499.747605</td>\n",
       "      <td>14.926294</td>\n",
       "      <td>-500.058041</td>\n",
       "      <td>18.055831</td>\n",
       "      <td>-500.061594</td>\n",
       "      <td>12.014652</td>\n",
       "      <td>-500.253440</td>\n",
       "      <td>12.003849</td>\n",
       "      <td>-499.838564</td>\n",
       "    </tr>\n",
       "    <tr>\n",
       "      <th>10939</th>\n",
       "      <td>2018-03-12 05:59:59</td>\n",
       "      <td>5.413548</td>\n",
       "      <td>9.389648</td>\n",
       "      <td>8.731319</td>\n",
       "      <td>45.270618</td>\n",
       "      <td>100.000000</td>\n",
       "      <td>0.000000</td>\n",
       "      <td>0.000000</td>\n",
       "      <td>0.000000</td>\n",
       "      <td>0.000000</td>\n",
       "      <td>...</td>\n",
       "      <td>22.953502</td>\n",
       "      <td>-502.064254</td>\n",
       "      <td>14.918529</td>\n",
       "      <td>-500.135286</td>\n",
       "      <td>17.995171</td>\n",
       "      <td>-500.481962</td>\n",
       "      <td>11.988193</td>\n",
       "      <td>-500.208854</td>\n",
       "      <td>12.004454</td>\n",
       "      <td>-500.074096</td>\n",
       "    </tr>\n",
       "    <tr>\n",
       "      <th>10940</th>\n",
       "      <td>2018-03-12 06:59:59</td>\n",
       "      <td>4.238007</td>\n",
       "      <td>7.349108</td>\n",
       "      <td>6.833999</td>\n",
       "      <td>35.424183</td>\n",
       "      <td>100.000000</td>\n",
       "      <td>0.000000</td>\n",
       "      <td>0.000000</td>\n",
       "      <td>0.000000</td>\n",
       "      <td>0.000000</td>\n",
       "      <td>...</td>\n",
       "      <td>22.951054</td>\n",
       "      <td>-498.925902</td>\n",
       "      <td>14.910765</td>\n",
       "      <td>-499.608297</td>\n",
       "      <td>17.954160</td>\n",
       "      <td>-499.576610</td>\n",
       "      <td>12.017173</td>\n",
       "      <td>-500.017529</td>\n",
       "      <td>11.984735</td>\n",
       "      <td>-500.399155</td>\n",
       "    </tr>\n",
       "  </tbody>\n",
       "</table>\n",
       "<p>303 rows × 87 columns</p>\n",
       "</div>"
      ],
      "text/plain": [
       "                      date  final.output.concentrate_ag  \\\n",
       "45     2016-01-16 21:00:00                     4.566664   \n",
       "46     2016-01-16 22:00:00                     4.577832   \n",
       "47     2016-01-16 23:00:00                     4.591462   \n",
       "48     2016-01-17 00:00:00                     5.296830   \n",
       "49     2016-01-17 02:00:00                     8.162896   \n",
       "...                    ...                          ...   \n",
       "10936  2018-03-12 02:59:59                     5.413548   \n",
       "10937  2018-03-12 03:59:59                     5.413548   \n",
       "10938  2018-03-12 04:59:59                     5.413548   \n",
       "10939  2018-03-12 05:59:59                     5.413548   \n",
       "10940  2018-03-12 06:59:59                     4.238007   \n",
       "\n",
       "       final.output.concentrate_pb  final.output.concentrate_sol  \\\n",
       "45                       10.406178                      4.588698   \n",
       "46                       10.691605                      5.274175   \n",
       "47                       10.628846                      5.688961   \n",
       "48                       10.597469                      5.688961   \n",
       "49                        8.877528                      5.688961   \n",
       "...                            ...                           ...   \n",
       "10936                     9.389648                      8.731319   \n",
       "10937                     9.389648                      8.731319   \n",
       "10938                     9.389648                      8.731319   \n",
       "10939                     9.389648                      8.731319   \n",
       "10940                     7.349108                      6.833999   \n",
       "\n",
       "       final.output.concentrate_au  final.output.recovery  \\\n",
       "45                       46.614456              68.403877   \n",
       "46                       46.250638              70.675633   \n",
       "47                       46.663335              55.088448   \n",
       "48                       44.015642              41.962008   \n",
       "49                       40.715973              49.884856   \n",
       "...                            ...                    ...   \n",
       "10936                    45.270618             100.000000   \n",
       "10937                    45.270618             100.000000   \n",
       "10938                    45.270618             100.000000   \n",
       "10939                    45.270618             100.000000   \n",
       "10940                    35.424183             100.000000   \n",
       "\n",
       "       final.output.tail_ag  final.output.tail_pb  final.output.tail_sol  \\\n",
       "45                10.705777              1.509070              17.875134   \n",
       "46                10.728531              1.641216              18.349339   \n",
       "47                10.694584              1.671644              17.910312   \n",
       "48                11.975654              1.846558               8.138408   \n",
       "49                10.381465              1.024030              12.974257   \n",
       "...                     ...                   ...                    ...   \n",
       "10936              0.000000              0.000000               0.000000   \n",
       "10937              0.000000              0.000000               0.000000   \n",
       "10938              0.000000              0.000000               0.000000   \n",
       "10939              0.000000              0.000000               0.000000   \n",
       "10940              0.000000              0.000000               0.000000   \n",
       "\n",
       "       final.output.tail_au  ...  secondary_cleaner.state.floatbank4_a_air  \\\n",
       "45                 2.509776  ...                                 14.025588   \n",
       "46                 2.540843  ...                                 14.094808   \n",
       "47                 2.686782  ...                                 13.997488   \n",
       "48                 2.889469  ...                                 14.006476   \n",
       "49                 2.739224  ...                                 13.984906   \n",
       "...                     ...  ...                                       ...   \n",
       "10936              0.000000  ...                                 22.999183   \n",
       "10937              0.000000  ...                                 22.985096   \n",
       "10938              0.000000  ...                                 22.953466   \n",
       "10939              0.000000  ...                                 22.953502   \n",
       "10940              0.000000  ...                                 22.951054   \n",
       "\n",
       "       secondary_cleaner.state.floatbank4_a_level  \\\n",
       "45                                    -550.404242   \n",
       "46                                    -550.676337   \n",
       "47                                    -551.224653   \n",
       "48                                    -549.388727   \n",
       "49                                    -550.563329   \n",
       "...                                           ...   \n",
       "10936                                 -503.125579   \n",
       "10937                                 -498.720702   \n",
       "10938                                 -499.747605   \n",
       "10939                                 -502.064254   \n",
       "10940                                 -498.925902   \n",
       "\n",
       "       secondary_cleaner.state.floatbank4_b_air  \\\n",
       "45                                    12.028925   \n",
       "46                                    12.004728   \n",
       "47                                    11.971272   \n",
       "48                                    11.975967   \n",
       "49                                    11.999730   \n",
       "...                                         ...   \n",
       "10936                                 14.941823   \n",
       "10937                                 14.934058   \n",
       "10938                                 14.926294   \n",
       "10939                                 14.918529   \n",
       "10940                                 14.910765   \n",
       "\n",
       "       secondary_cleaner.state.floatbank4_b_level  \\\n",
       "45                                    -550.570104   \n",
       "46                                    -550.496522   \n",
       "47                                    -550.095619   \n",
       "48                                    -550.778624   \n",
       "49                                    -550.549773   \n",
       "...                                           ...   \n",
       "10936                                 -500.352978   \n",
       "10937                                 -499.661417   \n",
       "10938                                 -500.058041   \n",
       "10939                                 -500.135286   \n",
       "10940                                 -499.608297   \n",
       "\n",
       "       secondary_cleaner.state.floatbank5_a_air  \\\n",
       "45                                    10.052072   \n",
       "46                                     9.953139   \n",
       "47                                     9.981163   \n",
       "48                                     9.989726   \n",
       "49                                     9.941869   \n",
       "...                                         ...   \n",
       "10936                                 17.987796   \n",
       "10937                                 17.998973   \n",
       "10938                                 18.055831   \n",
       "10939                                 17.995171   \n",
       "10940                                 17.954160   \n",
       "\n",
       "       secondary_cleaner.state.floatbank5_a_level  \\\n",
       "45                                    -500.797905   \n",
       "46                                    -500.330920   \n",
       "47                                    -502.869109   \n",
       "48                                    -499.607365   \n",
       "49                                    -503.282068   \n",
       "...                                           ...   \n",
       "10936                                 -500.438815   \n",
       "10937                                 -500.156797   \n",
       "10938                                 -500.061594   \n",
       "10939                                 -500.481962   \n",
       "10940                                 -499.576610   \n",
       "\n",
       "       secondary_cleaner.state.floatbank5_b_air  \\\n",
       "45                                     7.984500   \n",
       "46                                     8.012074   \n",
       "47                                     7.941184   \n",
       "48                                     7.958252   \n",
       "49                                     8.018850   \n",
       "...                                         ...   \n",
       "10936                                 11.963555   \n",
       "10937                                 12.035195   \n",
       "10938                                 12.014652   \n",
       "10939                                 11.988193   \n",
       "10940                                 12.017173   \n",
       "\n",
       "       secondary_cleaner.state.floatbank5_b_level  \\\n",
       "45                                    -499.581046   \n",
       "46                                    -500.133530   \n",
       "47                                    -500.623610   \n",
       "48                                    -498.882560   \n",
       "49                                    -500.970716   \n",
       "...                                           ...   \n",
       "10936                                 -499.982857   \n",
       "10937                                 -500.141814   \n",
       "10938                                 -500.253440   \n",
       "10939                                 -500.208854   \n",
       "10940                                 -500.017529   \n",
       "\n",
       "       secondary_cleaner.state.floatbank6_a_air  \\\n",
       "45                                    11.982025   \n",
       "46                                    11.975316   \n",
       "47                                    12.018837   \n",
       "48                                    11.967977   \n",
       "49                                    11.991078   \n",
       "...                                         ...   \n",
       "10936                                 12.015338   \n",
       "10937                                 11.988525   \n",
       "10938                                 12.003849   \n",
       "10939                                 12.004454   \n",
       "10940                                 11.984735   \n",
       "\n",
       "       secondary_cleaner.state.floatbank6_a_level  \n",
       "45                                    -599.161228  \n",
       "46                                    -598.839683  \n",
       "47                                    -600.916665  \n",
       "48                                    -599.440603  \n",
       "49                                    -598.475929  \n",
       "...                                           ...  \n",
       "10936                                 -500.051956  \n",
       "10937                                 -500.526074  \n",
       "10938                                 -499.838564  \n",
       "10939                                 -500.074096  \n",
       "10940                                 -500.399155  \n",
       "\n",
       "[303 rows x 87 columns]"
      ]
     },
     "execution_count": 44,
     "metadata": {},
     "output_type": "execute_result"
    }
   ],
   "source": [
    "# получение строк с аномальными значениями на этапе rougher\n",
    "good_gold_recovery_train.loc[good_gold_recovery_train['rougher.output.concentrate_au'] < 1]"
   ]
  },
  {
   "cell_type": "code",
   "execution_count": 45,
   "metadata": {
    "scrolled": true
   },
   "outputs": [
    {
     "data": {
      "text/html": [
       "<div>\n",
       "<style scoped>\n",
       "    .dataframe tbody tr th:only-of-type {\n",
       "        vertical-align: middle;\n",
       "    }\n",
       "\n",
       "    .dataframe tbody tr th {\n",
       "        vertical-align: top;\n",
       "    }\n",
       "\n",
       "    .dataframe thead th {\n",
       "        text-align: right;\n",
       "    }\n",
       "</style>\n",
       "<table border=\"1\" class=\"dataframe\">\n",
       "  <thead>\n",
       "    <tr style=\"text-align: right;\">\n",
       "      <th></th>\n",
       "      <th>date</th>\n",
       "      <th>final.output.concentrate_ag</th>\n",
       "      <th>final.output.concentrate_pb</th>\n",
       "      <th>final.output.concentrate_sol</th>\n",
       "      <th>final.output.concentrate_au</th>\n",
       "      <th>final.output.recovery</th>\n",
       "      <th>final.output.tail_ag</th>\n",
       "      <th>final.output.tail_pb</th>\n",
       "      <th>final.output.tail_sol</th>\n",
       "      <th>final.output.tail_au</th>\n",
       "      <th>...</th>\n",
       "      <th>secondary_cleaner.state.floatbank4_a_air</th>\n",
       "      <th>secondary_cleaner.state.floatbank4_a_level</th>\n",
       "      <th>secondary_cleaner.state.floatbank4_b_air</th>\n",
       "      <th>secondary_cleaner.state.floatbank4_b_level</th>\n",
       "      <th>secondary_cleaner.state.floatbank5_a_air</th>\n",
       "      <th>secondary_cleaner.state.floatbank5_a_level</th>\n",
       "      <th>secondary_cleaner.state.floatbank5_b_air</th>\n",
       "      <th>secondary_cleaner.state.floatbank5_b_level</th>\n",
       "      <th>secondary_cleaner.state.floatbank6_a_air</th>\n",
       "      <th>secondary_cleaner.state.floatbank6_a_level</th>\n",
       "    </tr>\n",
       "  </thead>\n",
       "  <tbody>\n",
       "    <tr>\n",
       "      <th>19</th>\n",
       "      <td>2016-01-15 19:00:00</td>\n",
       "      <td>5.658943</td>\n",
       "      <td>10.436002</td>\n",
       "      <td>5.942418</td>\n",
       "      <td>42.509402</td>\n",
       "      <td>70.348300</td>\n",
       "      <td>10.232392</td>\n",
       "      <td>1.174845</td>\n",
       "      <td>19.498566</td>\n",
       "      <td>2.272460</td>\n",
       "      <td>...</td>\n",
       "      <td>14.001632</td>\n",
       "      <td>-509.808331</td>\n",
       "      <td>12.087669</td>\n",
       "      <td>-510.782166</td>\n",
       "      <td>10.032043</td>\n",
       "      <td>-499.128183</td>\n",
       "      <td>8.016140</td>\n",
       "      <td>-499.806844</td>\n",
       "      <td>13.949790</td>\n",
       "      <td>-600.140776</td>\n",
       "    </tr>\n",
       "    <tr>\n",
       "      <th>22</th>\n",
       "      <td>2016-01-15 22:00:00</td>\n",
       "      <td>6.118749</td>\n",
       "      <td>10.483007</td>\n",
       "      <td>6.546983</td>\n",
       "      <td>41.406172</td>\n",
       "      <td>69.823900</td>\n",
       "      <td>10.322077</td>\n",
       "      <td>1.270956</td>\n",
       "      <td>19.384247</td>\n",
       "      <td>2.245145</td>\n",
       "      <td>...</td>\n",
       "      <td>13.943970</td>\n",
       "      <td>-541.642068</td>\n",
       "      <td>11.993920</td>\n",
       "      <td>-550.493894</td>\n",
       "      <td>9.985232</td>\n",
       "      <td>-499.796583</td>\n",
       "      <td>7.985524</td>\n",
       "      <td>-499.872153</td>\n",
       "      <td>13.973257</td>\n",
       "      <td>-600.054998</td>\n",
       "    </tr>\n",
       "    <tr>\n",
       "      <th>30</th>\n",
       "      <td>2016-01-16 06:00:00</td>\n",
       "      <td>5.322681</td>\n",
       "      <td>9.577672</td>\n",
       "      <td>4.805490</td>\n",
       "      <td>44.059908</td>\n",
       "      <td>69.193840</td>\n",
       "      <td>10.334312</td>\n",
       "      <td>1.406355</td>\n",
       "      <td>19.923319</td>\n",
       "      <td>2.239310</td>\n",
       "      <td>...</td>\n",
       "      <td>13.981220</td>\n",
       "      <td>-551.189582</td>\n",
       "      <td>12.004777</td>\n",
       "      <td>-549.974630</td>\n",
       "      <td>9.969535</td>\n",
       "      <td>-499.350934</td>\n",
       "      <td>8.017975</td>\n",
       "      <td>-500.620850</td>\n",
       "      <td>11.999969</td>\n",
       "      <td>-600.315548</td>\n",
       "    </tr>\n",
       "    <tr>\n",
       "      <th>71</th>\n",
       "      <td>2016-01-18 01:00:00</td>\n",
       "      <td>4.677499</td>\n",
       "      <td>11.304745</td>\n",
       "      <td>4.655438</td>\n",
       "      <td>45.135616</td>\n",
       "      <td>72.437752</td>\n",
       "      <td>10.525415</td>\n",
       "      <td>1.479372</td>\n",
       "      <td>19.364956</td>\n",
       "      <td>2.215637</td>\n",
       "      <td>...</td>\n",
       "      <td>14.051080</td>\n",
       "      <td>-549.947124</td>\n",
       "      <td>12.071173</td>\n",
       "      <td>-549.799781</td>\n",
       "      <td>10.025142</td>\n",
       "      <td>-499.554142</td>\n",
       "      <td>8.130711</td>\n",
       "      <td>-499.758800</td>\n",
       "      <td>11.951659</td>\n",
       "      <td>-600.726946</td>\n",
       "    </tr>\n",
       "    <tr>\n",
       "      <th>74</th>\n",
       "      <td>2016-01-18 04:00:00</td>\n",
       "      <td>4.821388</td>\n",
       "      <td>10.235502</td>\n",
       "      <td>1.581066</td>\n",
       "      <td>43.264258</td>\n",
       "      <td>84.687443</td>\n",
       "      <td>5.520487</td>\n",
       "      <td>0.821232</td>\n",
       "      <td>9.264695</td>\n",
       "      <td>1.263480</td>\n",
       "      <td>...</td>\n",
       "      <td>14.016798</td>\n",
       "      <td>-548.935696</td>\n",
       "      <td>12.029818</td>\n",
       "      <td>-550.966916</td>\n",
       "      <td>10.012719</td>\n",
       "      <td>-501.020322</td>\n",
       "      <td>8.020406</td>\n",
       "      <td>-500.395112</td>\n",
       "      <td>11.995851</td>\n",
       "      <td>-598.774893</td>\n",
       "    </tr>\n",
       "    <tr>\n",
       "      <th>...</th>\n",
       "      <td>...</td>\n",
       "      <td>...</td>\n",
       "      <td>...</td>\n",
       "      <td>...</td>\n",
       "      <td>...</td>\n",
       "      <td>...</td>\n",
       "      <td>...</td>\n",
       "      <td>...</td>\n",
       "      <td>...</td>\n",
       "      <td>...</td>\n",
       "      <td>...</td>\n",
       "      <td>...</td>\n",
       "      <td>...</td>\n",
       "      <td>...</td>\n",
       "      <td>...</td>\n",
       "      <td>...</td>\n",
       "      <td>...</td>\n",
       "      <td>...</td>\n",
       "      <td>...</td>\n",
       "      <td>...</td>\n",
       "      <td>...</td>\n",
       "    </tr>\n",
       "    <tr>\n",
       "      <th>13963</th>\n",
       "      <td>2018-08-10 03:59:59</td>\n",
       "      <td>4.442023</td>\n",
       "      <td>9.238301</td>\n",
       "      <td>8.544080</td>\n",
       "      <td>46.335757</td>\n",
       "      <td>70.786883</td>\n",
       "      <td>15.481737</td>\n",
       "      <td>4.182762</td>\n",
       "      <td>10.009065</td>\n",
       "      <td>3.699811</td>\n",
       "      <td>...</td>\n",
       "      <td>26.932349</td>\n",
       "      <td>-501.069584</td>\n",
       "      <td>23.036534</td>\n",
       "      <td>-499.490454</td>\n",
       "      <td>22.953779</td>\n",
       "      <td>-498.555444</td>\n",
       "      <td>17.997955</td>\n",
       "      <td>-500.101945</td>\n",
       "      <td>23.010025</td>\n",
       "      <td>-517.763087</td>\n",
       "    </tr>\n",
       "    <tr>\n",
       "      <th>13964</th>\n",
       "      <td>2018-08-10 04:59:59</td>\n",
       "      <td>4.916341</td>\n",
       "      <td>9.644849</td>\n",
       "      <td>8.945859</td>\n",
       "      <td>44.961086</td>\n",
       "      <td>67.943045</td>\n",
       "      <td>16.154268</td>\n",
       "      <td>4.374716</td>\n",
       "      <td>10.503920</td>\n",
       "      <td>4.018436</td>\n",
       "      <td>...</td>\n",
       "      <td>26.999371</td>\n",
       "      <td>-500.703290</td>\n",
       "      <td>22.944209</td>\n",
       "      <td>-500.369741</td>\n",
       "      <td>23.018333</td>\n",
       "      <td>-499.900014</td>\n",
       "      <td>17.966376</td>\n",
       "      <td>-500.193360</td>\n",
       "      <td>23.000951</td>\n",
       "      <td>-511.958802</td>\n",
       "    </tr>\n",
       "    <tr>\n",
       "      <th>13965</th>\n",
       "      <td>2018-08-10 05:59:59</td>\n",
       "      <td>5.134035</td>\n",
       "      <td>9.683889</td>\n",
       "      <td>9.203260</td>\n",
       "      <td>44.519141</td>\n",
       "      <td>72.002510</td>\n",
       "      <td>15.955848</td>\n",
       "      <td>4.365837</td>\n",
       "      <td>10.190798</td>\n",
       "      <td>3.492422</td>\n",
       "      <td>...</td>\n",
       "      <td>27.024196</td>\n",
       "      <td>-500.457349</td>\n",
       "      <td>23.074248</td>\n",
       "      <td>-500.214741</td>\n",
       "      <td>22.885700</td>\n",
       "      <td>-499.773159</td>\n",
       "      <td>17.931386</td>\n",
       "      <td>-500.026603</td>\n",
       "      <td>23.009269</td>\n",
       "      <td>-521.406956</td>\n",
       "    </tr>\n",
       "    <tr>\n",
       "      <th>13966</th>\n",
       "      <td>2018-08-10 06:59:59</td>\n",
       "      <td>4.503756</td>\n",
       "      <td>8.387537</td>\n",
       "      <td>7.408152</td>\n",
       "      <td>35.313266</td>\n",
       "      <td>81.349671</td>\n",
       "      <td>9.262237</td>\n",
       "      <td>2.541834</td>\n",
       "      <td>5.580436</td>\n",
       "      <td>1.704367</td>\n",
       "      <td>...</td>\n",
       "      <td>26.972326</td>\n",
       "      <td>-493.765307</td>\n",
       "      <td>22.998882</td>\n",
       "      <td>-499.387153</td>\n",
       "      <td>19.961717</td>\n",
       "      <td>-484.411358</td>\n",
       "      <td>14.988112</td>\n",
       "      <td>-498.198420</td>\n",
       "      <td>22.974569</td>\n",
       "      <td>-504.838074</td>\n",
       "    </tr>\n",
       "    <tr>\n",
       "      <th>13967</th>\n",
       "      <td>2018-08-10 07:59:59</td>\n",
       "      <td>3.334243</td>\n",
       "      <td>4.064308</td>\n",
       "      <td>4.256205</td>\n",
       "      <td>15.685009</td>\n",
       "      <td>89.814441</td>\n",
       "      <td>14.821953</td>\n",
       "      <td>4.318960</td>\n",
       "      <td>9.476084</td>\n",
       "      <td>2.994602</td>\n",
       "      <td>...</td>\n",
       "      <td>27.029471</td>\n",
       "      <td>-400.287745</td>\n",
       "      <td>22.945097</td>\n",
       "      <td>-247.140002</td>\n",
       "      <td>19.981797</td>\n",
       "      <td>-482.675453</td>\n",
       "      <td>14.973194</td>\n",
       "      <td>-501.071018</td>\n",
       "      <td>23.063541</td>\n",
       "      <td>-725.975321</td>\n",
       "    </tr>\n",
       "  </tbody>\n",
       "</table>\n",
       "<p>199 rows × 87 columns</p>\n",
       "</div>"
      ],
      "text/plain": [
       "                      date  final.output.concentrate_ag  \\\n",
       "19     2016-01-15 19:00:00                     5.658943   \n",
       "22     2016-01-15 22:00:00                     6.118749   \n",
       "30     2016-01-16 06:00:00                     5.322681   \n",
       "71     2016-01-18 01:00:00                     4.677499   \n",
       "74     2016-01-18 04:00:00                     4.821388   \n",
       "...                    ...                          ...   \n",
       "13963  2018-08-10 03:59:59                     4.442023   \n",
       "13964  2018-08-10 04:59:59                     4.916341   \n",
       "13965  2018-08-10 05:59:59                     5.134035   \n",
       "13966  2018-08-10 06:59:59                     4.503756   \n",
       "13967  2018-08-10 07:59:59                     3.334243   \n",
       "\n",
       "       final.output.concentrate_pb  final.output.concentrate_sol  \\\n",
       "19                       10.436002                      5.942418   \n",
       "22                       10.483007                      6.546983   \n",
       "30                        9.577672                      4.805490   \n",
       "71                       11.304745                      4.655438   \n",
       "74                       10.235502                      1.581066   \n",
       "...                            ...                           ...   \n",
       "13963                     9.238301                      8.544080   \n",
       "13964                     9.644849                      8.945859   \n",
       "13965                     9.683889                      9.203260   \n",
       "13966                     8.387537                      7.408152   \n",
       "13967                     4.064308                      4.256205   \n",
       "\n",
       "       final.output.concentrate_au  final.output.recovery  \\\n",
       "19                       42.509402              70.348300   \n",
       "22                       41.406172              69.823900   \n",
       "30                       44.059908              69.193840   \n",
       "71                       45.135616              72.437752   \n",
       "74                       43.264258              84.687443   \n",
       "...                            ...                    ...   \n",
       "13963                    46.335757              70.786883   \n",
       "13964                    44.961086              67.943045   \n",
       "13965                    44.519141              72.002510   \n",
       "13966                    35.313266              81.349671   \n",
       "13967                    15.685009              89.814441   \n",
       "\n",
       "       final.output.tail_ag  final.output.tail_pb  final.output.tail_sol  \\\n",
       "19                10.232392              1.174845              19.498566   \n",
       "22                10.322077              1.270956              19.384247   \n",
       "30                10.334312              1.406355              19.923319   \n",
       "71                10.525415              1.479372              19.364956   \n",
       "74                 5.520487              0.821232               9.264695   \n",
       "...                     ...                   ...                    ...   \n",
       "13963             15.481737              4.182762              10.009065   \n",
       "13964             16.154268              4.374716              10.503920   \n",
       "13965             15.955848              4.365837              10.190798   \n",
       "13966              9.262237              2.541834               5.580436   \n",
       "13967             14.821953              4.318960               9.476084   \n",
       "\n",
       "       final.output.tail_au  ...  secondary_cleaner.state.floatbank4_a_air  \\\n",
       "19                 2.272460  ...                                 14.001632   \n",
       "22                 2.245145  ...                                 13.943970   \n",
       "30                 2.239310  ...                                 13.981220   \n",
       "71                 2.215637  ...                                 14.051080   \n",
       "74                 1.263480  ...                                 14.016798   \n",
       "...                     ...  ...                                       ...   \n",
       "13963              3.699811  ...                                 26.932349   \n",
       "13964              4.018436  ...                                 26.999371   \n",
       "13965              3.492422  ...                                 27.024196   \n",
       "13966              1.704367  ...                                 26.972326   \n",
       "13967              2.994602  ...                                 27.029471   \n",
       "\n",
       "       secondary_cleaner.state.floatbank4_a_level  \\\n",
       "19                                    -509.808331   \n",
       "22                                    -541.642068   \n",
       "30                                    -551.189582   \n",
       "71                                    -549.947124   \n",
       "74                                    -548.935696   \n",
       "...                                           ...   \n",
       "13963                                 -501.069584   \n",
       "13964                                 -500.703290   \n",
       "13965                                 -500.457349   \n",
       "13966                                 -493.765307   \n",
       "13967                                 -400.287745   \n",
       "\n",
       "       secondary_cleaner.state.floatbank4_b_air  \\\n",
       "19                                    12.087669   \n",
       "22                                    11.993920   \n",
       "30                                    12.004777   \n",
       "71                                    12.071173   \n",
       "74                                    12.029818   \n",
       "...                                         ...   \n",
       "13963                                 23.036534   \n",
       "13964                                 22.944209   \n",
       "13965                                 23.074248   \n",
       "13966                                 22.998882   \n",
       "13967                                 22.945097   \n",
       "\n",
       "       secondary_cleaner.state.floatbank4_b_level  \\\n",
       "19                                    -510.782166   \n",
       "22                                    -550.493894   \n",
       "30                                    -549.974630   \n",
       "71                                    -549.799781   \n",
       "74                                    -550.966916   \n",
       "...                                           ...   \n",
       "13963                                 -499.490454   \n",
       "13964                                 -500.369741   \n",
       "13965                                 -500.214741   \n",
       "13966                                 -499.387153   \n",
       "13967                                 -247.140002   \n",
       "\n",
       "       secondary_cleaner.state.floatbank5_a_air  \\\n",
       "19                                    10.032043   \n",
       "22                                     9.985232   \n",
       "30                                     9.969535   \n",
       "71                                    10.025142   \n",
       "74                                    10.012719   \n",
       "...                                         ...   \n",
       "13963                                 22.953779   \n",
       "13964                                 23.018333   \n",
       "13965                                 22.885700   \n",
       "13966                                 19.961717   \n",
       "13967                                 19.981797   \n",
       "\n",
       "       secondary_cleaner.state.floatbank5_a_level  \\\n",
       "19                                    -499.128183   \n",
       "22                                    -499.796583   \n",
       "30                                    -499.350934   \n",
       "71                                    -499.554142   \n",
       "74                                    -501.020322   \n",
       "...                                           ...   \n",
       "13963                                 -498.555444   \n",
       "13964                                 -499.900014   \n",
       "13965                                 -499.773159   \n",
       "13966                                 -484.411358   \n",
       "13967                                 -482.675453   \n",
       "\n",
       "       secondary_cleaner.state.floatbank5_b_air  \\\n",
       "19                                     8.016140   \n",
       "22                                     7.985524   \n",
       "30                                     8.017975   \n",
       "71                                     8.130711   \n",
       "74                                     8.020406   \n",
       "...                                         ...   \n",
       "13963                                 17.997955   \n",
       "13964                                 17.966376   \n",
       "13965                                 17.931386   \n",
       "13966                                 14.988112   \n",
       "13967                                 14.973194   \n",
       "\n",
       "       secondary_cleaner.state.floatbank5_b_level  \\\n",
       "19                                    -499.806844   \n",
       "22                                    -499.872153   \n",
       "30                                    -500.620850   \n",
       "71                                    -499.758800   \n",
       "74                                    -500.395112   \n",
       "...                                           ...   \n",
       "13963                                 -500.101945   \n",
       "13964                                 -500.193360   \n",
       "13965                                 -500.026603   \n",
       "13966                                 -498.198420   \n",
       "13967                                 -501.071018   \n",
       "\n",
       "       secondary_cleaner.state.floatbank6_a_air  \\\n",
       "19                                    13.949790   \n",
       "22                                    13.973257   \n",
       "30                                    11.999969   \n",
       "71                                    11.951659   \n",
       "74                                    11.995851   \n",
       "...                                         ...   \n",
       "13963                                 23.010025   \n",
       "13964                                 23.000951   \n",
       "13965                                 23.009269   \n",
       "13966                                 22.974569   \n",
       "13967                                 23.063541   \n",
       "\n",
       "       secondary_cleaner.state.floatbank6_a_level  \n",
       "19                                    -600.140776  \n",
       "22                                    -600.054998  \n",
       "30                                    -600.315548  \n",
       "71                                    -600.726946  \n",
       "74                                    -598.774893  \n",
       "...                                           ...  \n",
       "13963                                 -517.763087  \n",
       "13964                                 -511.958802  \n",
       "13965                                 -521.406956  \n",
       "13966                                 -504.838074  \n",
       "13967                                 -725.975321  \n",
       "\n",
       "[199 rows x 87 columns]"
      ]
     },
     "execution_count": 45,
     "metadata": {},
     "output_type": "execute_result"
    }
   ],
   "source": [
    "# получение строк с аномальными значениями на этапе primary_cleaner\n",
    "good_gold_recovery_train.loc[good_gold_recovery_train['primary_cleaner.output.concentrate_au'] <= 1]"
   ]
  },
  {
   "cell_type": "code",
   "execution_count": 46,
   "metadata": {
    "scrolled": true
   },
   "outputs": [
    {
     "data": {
      "text/html": [
       "<div>\n",
       "<style scoped>\n",
       "    .dataframe tbody tr th:only-of-type {\n",
       "        vertical-align: middle;\n",
       "    }\n",
       "\n",
       "    .dataframe tbody tr th {\n",
       "        vertical-align: top;\n",
       "    }\n",
       "\n",
       "    .dataframe thead th {\n",
       "        text-align: right;\n",
       "    }\n",
       "</style>\n",
       "<table border=\"1\" class=\"dataframe\">\n",
       "  <thead>\n",
       "    <tr style=\"text-align: right;\">\n",
       "      <th></th>\n",
       "      <th>date</th>\n",
       "      <th>final.output.concentrate_ag</th>\n",
       "      <th>final.output.concentrate_pb</th>\n",
       "      <th>final.output.concentrate_sol</th>\n",
       "      <th>final.output.concentrate_au</th>\n",
       "      <th>final.output.recovery</th>\n",
       "      <th>final.output.tail_ag</th>\n",
       "      <th>final.output.tail_pb</th>\n",
       "      <th>final.output.tail_sol</th>\n",
       "      <th>final.output.tail_au</th>\n",
       "      <th>...</th>\n",
       "      <th>secondary_cleaner.state.floatbank4_a_air</th>\n",
       "      <th>secondary_cleaner.state.floatbank4_a_level</th>\n",
       "      <th>secondary_cleaner.state.floatbank4_b_air</th>\n",
       "      <th>secondary_cleaner.state.floatbank4_b_level</th>\n",
       "      <th>secondary_cleaner.state.floatbank5_a_air</th>\n",
       "      <th>secondary_cleaner.state.floatbank5_a_level</th>\n",
       "      <th>secondary_cleaner.state.floatbank5_b_air</th>\n",
       "      <th>secondary_cleaner.state.floatbank5_b_level</th>\n",
       "      <th>secondary_cleaner.state.floatbank6_a_air</th>\n",
       "      <th>secondary_cleaner.state.floatbank6_a_level</th>\n",
       "    </tr>\n",
       "  </thead>\n",
       "  <tbody>\n",
       "    <tr>\n",
       "      <th>644</th>\n",
       "      <td>2016-02-13 11:00:00</td>\n",
       "      <td>0.00</td>\n",
       "      <td>0.00</td>\n",
       "      <td>0.00</td>\n",
       "      <td>0.00</td>\n",
       "      <td>0.000000</td>\n",
       "      <td>8.894029</td>\n",
       "      <td>0.843584</td>\n",
       "      <td>15.417342</td>\n",
       "      <td>1.779052</td>\n",
       "      <td>...</td>\n",
       "      <td>21.991762</td>\n",
       "      <td>-399.587122</td>\n",
       "      <td>21.988937</td>\n",
       "      <td>-401.366408</td>\n",
       "      <td>22.995012</td>\n",
       "      <td>-399.370680</td>\n",
       "      <td>20.966863</td>\n",
       "      <td>-399.308354</td>\n",
       "      <td>24.987274</td>\n",
       "      <td>-399.619808</td>\n",
       "    </tr>\n",
       "    <tr>\n",
       "      <th>1193</th>\n",
       "      <td>2016-03-11 10:00:00</td>\n",
       "      <td>0.00</td>\n",
       "      <td>0.00</td>\n",
       "      <td>0.00</td>\n",
       "      <td>0.00</td>\n",
       "      <td>0.000000</td>\n",
       "      <td>10.817313</td>\n",
       "      <td>1.462800</td>\n",
       "      <td>16.407607</td>\n",
       "      <td>2.984504</td>\n",
       "      <td>...</td>\n",
       "      <td>11.979352</td>\n",
       "      <td>-453.431061</td>\n",
       "      <td>12.003445</td>\n",
       "      <td>-450.179844</td>\n",
       "      <td>11.982937</td>\n",
       "      <td>-449.856468</td>\n",
       "      <td>9.927727</td>\n",
       "      <td>-450.521700</td>\n",
       "      <td>19.971682</td>\n",
       "      <td>-500.685521</td>\n",
       "    </tr>\n",
       "    <tr>\n",
       "      <th>1194</th>\n",
       "      <td>2016-03-11 11:00:00</td>\n",
       "      <td>0.00</td>\n",
       "      <td>0.00</td>\n",
       "      <td>0.00</td>\n",
       "      <td>0.00</td>\n",
       "      <td>0.000000</td>\n",
       "      <td>10.436792</td>\n",
       "      <td>1.207636</td>\n",
       "      <td>17.800392</td>\n",
       "      <td>2.747294</td>\n",
       "      <td>...</td>\n",
       "      <td>12.034636</td>\n",
       "      <td>-446.590944</td>\n",
       "      <td>12.130405</td>\n",
       "      <td>-449.684812</td>\n",
       "      <td>11.844983</td>\n",
       "      <td>-450.881424</td>\n",
       "      <td>9.916784</td>\n",
       "      <td>-449.542871</td>\n",
       "      <td>20.004767</td>\n",
       "      <td>-500.137068</td>\n",
       "    </tr>\n",
       "    <tr>\n",
       "      <th>1195</th>\n",
       "      <td>2016-03-11 12:00:00</td>\n",
       "      <td>0.00</td>\n",
       "      <td>0.00</td>\n",
       "      <td>0.00</td>\n",
       "      <td>0.00</td>\n",
       "      <td>0.000000</td>\n",
       "      <td>10.637073</td>\n",
       "      <td>1.405778</td>\n",
       "      <td>17.195897</td>\n",
       "      <td>2.791440</td>\n",
       "      <td>...</td>\n",
       "      <td>12.016716</td>\n",
       "      <td>-496.613149</td>\n",
       "      <td>12.055535</td>\n",
       "      <td>-496.908551</td>\n",
       "      <td>12.091144</td>\n",
       "      <td>-496.404140</td>\n",
       "      <td>9.976074</td>\n",
       "      <td>-496.783155</td>\n",
       "      <td>19.921634</td>\n",
       "      <td>-500.769011</td>\n",
       "    </tr>\n",
       "    <tr>\n",
       "      <th>1196</th>\n",
       "      <td>2016-03-11 13:00:00</td>\n",
       "      <td>0.00</td>\n",
       "      <td>0.00</td>\n",
       "      <td>0.00</td>\n",
       "      <td>0.00</td>\n",
       "      <td>0.000000</td>\n",
       "      <td>10.530320</td>\n",
       "      <td>1.461550</td>\n",
       "      <td>17.556860</td>\n",
       "      <td>2.682127</td>\n",
       "      <td>...</td>\n",
       "      <td>11.993898</td>\n",
       "      <td>-500.427824</td>\n",
       "      <td>12.083824</td>\n",
       "      <td>-500.162537</td>\n",
       "      <td>12.078809</td>\n",
       "      <td>-499.903743</td>\n",
       "      <td>10.075259</td>\n",
       "      <td>-499.540325</td>\n",
       "      <td>20.039788</td>\n",
       "      <td>-499.932405</td>\n",
       "    </tr>\n",
       "    <tr>\n",
       "      <th>1682</th>\n",
       "      <td>2016-04-09 17:00:00</td>\n",
       "      <td>0.00</td>\n",
       "      <td>0.00</td>\n",
       "      <td>0.00</td>\n",
       "      <td>0.00</td>\n",
       "      <td>0.000000</td>\n",
       "      <td>2.943613</td>\n",
       "      <td>1.089791</td>\n",
       "      <td>4.050067</td>\n",
       "      <td>2.443084</td>\n",
       "      <td>...</td>\n",
       "      <td>15.982774</td>\n",
       "      <td>-498.453731</td>\n",
       "      <td>13.963050</td>\n",
       "      <td>-472.304428</td>\n",
       "      <td>12.012947</td>\n",
       "      <td>-498.936345</td>\n",
       "      <td>9.989854</td>\n",
       "      <td>-800.001639</td>\n",
       "      <td>19.960963</td>\n",
       "      <td>-500.498255</td>\n",
       "    </tr>\n",
       "    <tr>\n",
       "      <th>2019</th>\n",
       "      <td>2016-05-01 23:59:59</td>\n",
       "      <td>0.00</td>\n",
       "      <td>0.00</td>\n",
       "      <td>0.00</td>\n",
       "      <td>0.00</td>\n",
       "      <td>0.000000</td>\n",
       "      <td>2.229996</td>\n",
       "      <td>0.439314</td>\n",
       "      <td>2.996147</td>\n",
       "      <td>1.049438</td>\n",
       "      <td>...</td>\n",
       "      <td>14.957055</td>\n",
       "      <td>-522.627263</td>\n",
       "      <td>13.060565</td>\n",
       "      <td>-502.673001</td>\n",
       "      <td>8.851882</td>\n",
       "      <td>-503.279765</td>\n",
       "      <td>9.037939</td>\n",
       "      <td>-500.400661</td>\n",
       "      <td>15.999356</td>\n",
       "      <td>-509.449510</td>\n",
       "    </tr>\n",
       "    <tr>\n",
       "      <th>2020</th>\n",
       "      <td>2016-05-02 00:59:59</td>\n",
       "      <td>0.00</td>\n",
       "      <td>0.00</td>\n",
       "      <td>0.00</td>\n",
       "      <td>0.00</td>\n",
       "      <td>0.000000</td>\n",
       "      <td>8.816376</td>\n",
       "      <td>1.692314</td>\n",
       "      <td>12.001629</td>\n",
       "      <td>3.949153</td>\n",
       "      <td>...</td>\n",
       "      <td>15.032195</td>\n",
       "      <td>-498.930340</td>\n",
       "      <td>13.051205</td>\n",
       "      <td>-502.405376</td>\n",
       "      <td>8.972976</td>\n",
       "      <td>-498.876974</td>\n",
       "      <td>9.070907</td>\n",
       "      <td>-499.455708</td>\n",
       "      <td>16.026009</td>\n",
       "      <td>-492.939580</td>\n",
       "    </tr>\n",
       "    <tr>\n",
       "      <th>2236</th>\n",
       "      <td>2016-05-11 01:59:59</td>\n",
       "      <td>0.00</td>\n",
       "      <td>0.00</td>\n",
       "      <td>0.00</td>\n",
       "      <td>0.00</td>\n",
       "      <td>0.000000</td>\n",
       "      <td>7.567252</td>\n",
       "      <td>1.991327</td>\n",
       "      <td>12.977099</td>\n",
       "      <td>3.170143</td>\n",
       "      <td>...</td>\n",
       "      <td>14.005274</td>\n",
       "      <td>-500.345401</td>\n",
       "      <td>12.087124</td>\n",
       "      <td>-500.180957</td>\n",
       "      <td>11.025995</td>\n",
       "      <td>-501.002632</td>\n",
       "      <td>6.093285</td>\n",
       "      <td>-500.452445</td>\n",
       "      <td>20.023462</td>\n",
       "      <td>-500.365653</td>\n",
       "    </tr>\n",
       "    <tr>\n",
       "      <th>3394</th>\n",
       "      <td>2016-07-06 04:59:59</td>\n",
       "      <td>0.00</td>\n",
       "      <td>0.00</td>\n",
       "      <td>0.00</td>\n",
       "      <td>0.00</td>\n",
       "      <td>0.000000</td>\n",
       "      <td>6.266939</td>\n",
       "      <td>2.146631</td>\n",
       "      <td>7.240419</td>\n",
       "      <td>3.552111</td>\n",
       "      <td>...</td>\n",
       "      <td>16.995498</td>\n",
       "      <td>-500.641429</td>\n",
       "      <td>15.009792</td>\n",
       "      <td>-499.990413</td>\n",
       "      <td>16.993432</td>\n",
       "      <td>-501.022669</td>\n",
       "      <td>14.951274</td>\n",
       "      <td>-499.908216</td>\n",
       "      <td>24.984095</td>\n",
       "      <td>-499.000500</td>\n",
       "    </tr>\n",
       "    <tr>\n",
       "      <th>3395</th>\n",
       "      <td>2016-07-06 05:59:59</td>\n",
       "      <td>0.00</td>\n",
       "      <td>0.00</td>\n",
       "      <td>0.00</td>\n",
       "      <td>0.00</td>\n",
       "      <td>0.000000</td>\n",
       "      <td>6.156921</td>\n",
       "      <td>2.036552</td>\n",
       "      <td>8.240251</td>\n",
       "      <td>3.398861</td>\n",
       "      <td>...</td>\n",
       "      <td>17.144549</td>\n",
       "      <td>-500.142478</td>\n",
       "      <td>14.944936</td>\n",
       "      <td>-499.379420</td>\n",
       "      <td>16.938729</td>\n",
       "      <td>-500.901347</td>\n",
       "      <td>15.060903</td>\n",
       "      <td>-500.161562</td>\n",
       "      <td>24.958637</td>\n",
       "      <td>-499.600205</td>\n",
       "    </tr>\n",
       "    <tr>\n",
       "      <th>3396</th>\n",
       "      <td>2016-07-06 06:59:59</td>\n",
       "      <td>0.00</td>\n",
       "      <td>0.00</td>\n",
       "      <td>0.00</td>\n",
       "      <td>0.00</td>\n",
       "      <td>0.000000</td>\n",
       "      <td>2.537365</td>\n",
       "      <td>0.939253</td>\n",
       "      <td>5.531964</td>\n",
       "      <td>2.174925</td>\n",
       "      <td>...</td>\n",
       "      <td>16.546451</td>\n",
       "      <td>-502.174994</td>\n",
       "      <td>11.474000</td>\n",
       "      <td>-513.284934</td>\n",
       "      <td>16.607490</td>\n",
       "      <td>-498.514638</td>\n",
       "      <td>11.109718</td>\n",
       "      <td>-499.611735</td>\n",
       "      <td>25.025326</td>\n",
       "      <td>-499.049808</td>\n",
       "    </tr>\n",
       "    <tr>\n",
       "      <th>3397</th>\n",
       "      <td>2016-07-06 08:59:59</td>\n",
       "      <td>0.00</td>\n",
       "      <td>0.00</td>\n",
       "      <td>0.00</td>\n",
       "      <td>0.00</td>\n",
       "      <td>0.000000</td>\n",
       "      <td>3.096506</td>\n",
       "      <td>1.131179</td>\n",
       "      <td>4.534668</td>\n",
       "      <td>1.889405</td>\n",
       "      <td>...</td>\n",
       "      <td>15.980554</td>\n",
       "      <td>-499.758183</td>\n",
       "      <td>7.983881</td>\n",
       "      <td>-500.221549</td>\n",
       "      <td>16.108189</td>\n",
       "      <td>-499.633768</td>\n",
       "      <td>7.118001</td>\n",
       "      <td>-498.021312</td>\n",
       "      <td>24.972537</td>\n",
       "      <td>-499.106327</td>\n",
       "    </tr>\n",
       "    <tr>\n",
       "      <th>3400</th>\n",
       "      <td>2016-07-06 12:59:59</td>\n",
       "      <td>0.00</td>\n",
       "      <td>0.00</td>\n",
       "      <td>0.00</td>\n",
       "      <td>0.00</td>\n",
       "      <td>0.000000</td>\n",
       "      <td>6.478243</td>\n",
       "      <td>2.473995</td>\n",
       "      <td>12.423850</td>\n",
       "      <td>4.054269</td>\n",
       "      <td>...</td>\n",
       "      <td>15.998673</td>\n",
       "      <td>-502.746678</td>\n",
       "      <td>8.026739</td>\n",
       "      <td>-508.499701</td>\n",
       "      <td>16.074222</td>\n",
       "      <td>-495.402269</td>\n",
       "      <td>7.103943</td>\n",
       "      <td>-494.064445</td>\n",
       "      <td>25.024849</td>\n",
       "      <td>-495.267385</td>\n",
       "    </tr>\n",
       "    <tr>\n",
       "      <th>4215</th>\n",
       "      <td>2016-08-11 20:59:59</td>\n",
       "      <td>0.00</td>\n",
       "      <td>0.00</td>\n",
       "      <td>0.00</td>\n",
       "      <td>0.00</td>\n",
       "      <td>0.000000</td>\n",
       "      <td>1.353362</td>\n",
       "      <td>0.470696</td>\n",
       "      <td>1.235183</td>\n",
       "      <td>1.021143</td>\n",
       "      <td>...</td>\n",
       "      <td>19.952152</td>\n",
       "      <td>-401.728030</td>\n",
       "      <td>9.882757</td>\n",
       "      <td>-402.711177</td>\n",
       "      <td>9.137868</td>\n",
       "      <td>-419.643823</td>\n",
       "      <td>4.933871</td>\n",
       "      <td>-402.132394</td>\n",
       "      <td>23.005263</td>\n",
       "      <td>-502.319385</td>\n",
       "    </tr>\n",
       "    <tr>\n",
       "      <th>4314</th>\n",
       "      <td>2016-08-15 23:59:59</td>\n",
       "      <td>0.00</td>\n",
       "      <td>0.00</td>\n",
       "      <td>0.00</td>\n",
       "      <td>0.00</td>\n",
       "      <td>0.000000</td>\n",
       "      <td>10.796039</td>\n",
       "      <td>2.582106</td>\n",
       "      <td>11.105074</td>\n",
       "      <td>3.231677</td>\n",
       "      <td>...</td>\n",
       "      <td>17.879648</td>\n",
       "      <td>-399.935545</td>\n",
       "      <td>10.012001</td>\n",
       "      <td>-399.585744</td>\n",
       "      <td>15.086155</td>\n",
       "      <td>-396.783371</td>\n",
       "      <td>4.961631</td>\n",
       "      <td>-400.638627</td>\n",
       "      <td>23.037383</td>\n",
       "      <td>-498.990216</td>\n",
       "    </tr>\n",
       "    <tr>\n",
       "      <th>4564</th>\n",
       "      <td>2016-08-26 20:59:59</td>\n",
       "      <td>0.00</td>\n",
       "      <td>0.00</td>\n",
       "      <td>0.00</td>\n",
       "      <td>0.00</td>\n",
       "      <td>0.000000</td>\n",
       "      <td>3.697301</td>\n",
       "      <td>1.378608</td>\n",
       "      <td>3.952049</td>\n",
       "      <td>2.579844</td>\n",
       "      <td>...</td>\n",
       "      <td>15.969769</td>\n",
       "      <td>-499.841050</td>\n",
       "      <td>9.972046</td>\n",
       "      <td>-499.963654</td>\n",
       "      <td>9.913467</td>\n",
       "      <td>-501.698056</td>\n",
       "      <td>5.011314</td>\n",
       "      <td>-500.390274</td>\n",
       "      <td>24.919704</td>\n",
       "      <td>-502.454004</td>\n",
       "    </tr>\n",
       "    <tr>\n",
       "      <th>4652</th>\n",
       "      <td>2016-08-30 18:59:59</td>\n",
       "      <td>0.00</td>\n",
       "      <td>0.00</td>\n",
       "      <td>0.00</td>\n",
       "      <td>0.00</td>\n",
       "      <td>0.000000</td>\n",
       "      <td>7.904183</td>\n",
       "      <td>3.193653</td>\n",
       "      <td>3.656295</td>\n",
       "      <td>4.823467</td>\n",
       "      <td>...</td>\n",
       "      <td>12.037163</td>\n",
       "      <td>-500.062985</td>\n",
       "      <td>7.975512</td>\n",
       "      <td>-500.760128</td>\n",
       "      <td>8.043159</td>\n",
       "      <td>-500.391386</td>\n",
       "      <td>4.878516</td>\n",
       "      <td>-499.922582</td>\n",
       "      <td>31.480460</td>\n",
       "      <td>-501.107878</td>\n",
       "    </tr>\n",
       "    <tr>\n",
       "      <th>4653</th>\n",
       "      <td>2016-08-30 19:59:59</td>\n",
       "      <td>0.00</td>\n",
       "      <td>0.00</td>\n",
       "      <td>0.00</td>\n",
       "      <td>0.00</td>\n",
       "      <td>0.000000</td>\n",
       "      <td>7.950315</td>\n",
       "      <td>3.216058</td>\n",
       "      <td>3.705181</td>\n",
       "      <td>4.844750</td>\n",
       "      <td>...</td>\n",
       "      <td>11.990196</td>\n",
       "      <td>-500.130124</td>\n",
       "      <td>7.976535</td>\n",
       "      <td>-500.107624</td>\n",
       "      <td>8.075202</td>\n",
       "      <td>-499.957983</td>\n",
       "      <td>4.897192</td>\n",
       "      <td>-500.423686</td>\n",
       "      <td>30.958862</td>\n",
       "      <td>-498.808359</td>\n",
       "    </tr>\n",
       "    <tr>\n",
       "      <th>4722</th>\n",
       "      <td>2017-01-02 16:59:59</td>\n",
       "      <td>0.00</td>\n",
       "      <td>0.00</td>\n",
       "      <td>0.00</td>\n",
       "      <td>0.00</td>\n",
       "      <td>0.000000</td>\n",
       "      <td>10.512889</td>\n",
       "      <td>1.950646</td>\n",
       "      <td>11.188996</td>\n",
       "      <td>2.508362</td>\n",
       "      <td>...</td>\n",
       "      <td>17.012398</td>\n",
       "      <td>-498.615208</td>\n",
       "      <td>14.961553</td>\n",
       "      <td>-473.509616</td>\n",
       "      <td>17.395327</td>\n",
       "      <td>-499.938041</td>\n",
       "      <td>8.054456</td>\n",
       "      <td>-500.574345</td>\n",
       "      <td>19.972880</td>\n",
       "      <td>-601.259265</td>\n",
       "    </tr>\n",
       "    <tr>\n",
       "      <th>4723</th>\n",
       "      <td>2017-01-02 17:59:59</td>\n",
       "      <td>0.00</td>\n",
       "      <td>0.00</td>\n",
       "      <td>0.00</td>\n",
       "      <td>0.00</td>\n",
       "      <td>0.000000</td>\n",
       "      <td>9.955941</td>\n",
       "      <td>1.935196</td>\n",
       "      <td>11.133852</td>\n",
       "      <td>2.797546</td>\n",
       "      <td>...</td>\n",
       "      <td>16.983206</td>\n",
       "      <td>-501.381053</td>\n",
       "      <td>14.910639</td>\n",
       "      <td>-497.866523</td>\n",
       "      <td>17.070479</td>\n",
       "      <td>-496.127166</td>\n",
       "      <td>8.045207</td>\n",
       "      <td>-470.953271</td>\n",
       "      <td>20.014482</td>\n",
       "      <td>-591.060032</td>\n",
       "    </tr>\n",
       "    <tr>\n",
       "      <th>4724</th>\n",
       "      <td>2017-01-02 18:59:59</td>\n",
       "      <td>0.00</td>\n",
       "      <td>0.00</td>\n",
       "      <td>0.00</td>\n",
       "      <td>0.00</td>\n",
       "      <td>0.000000</td>\n",
       "      <td>10.106171</td>\n",
       "      <td>1.712132</td>\n",
       "      <td>11.092376</td>\n",
       "      <td>2.385774</td>\n",
       "      <td>...</td>\n",
       "      <td>16.980482</td>\n",
       "      <td>-500.861399</td>\n",
       "      <td>14.999956</td>\n",
       "      <td>-499.649898</td>\n",
       "      <td>17.173301</td>\n",
       "      <td>-504.678878</td>\n",
       "      <td>8.077081</td>\n",
       "      <td>-484.275794</td>\n",
       "      <td>19.991623</td>\n",
       "      <td>-609.490127</td>\n",
       "    </tr>\n",
       "    <tr>\n",
       "      <th>4965</th>\n",
       "      <td>2017-01-18 13:59:59</td>\n",
       "      <td>0.00</td>\n",
       "      <td>0.00</td>\n",
       "      <td>0.00</td>\n",
       "      <td>0.00</td>\n",
       "      <td>0.000000</td>\n",
       "      <td>0.135709</td>\n",
       "      <td>0.248237</td>\n",
       "      <td>10.817715</td>\n",
       "      <td>0.541934</td>\n",
       "      <td>...</td>\n",
       "      <td>14.015494</td>\n",
       "      <td>-496.764289</td>\n",
       "      <td>13.981879</td>\n",
       "      <td>-499.244981</td>\n",
       "      <td>-0.176485</td>\n",
       "      <td>-500.816086</td>\n",
       "      <td>8.093619</td>\n",
       "      <td>-500.197658</td>\n",
       "      <td>19.986522</td>\n",
       "      <td>-602.355855</td>\n",
       "    </tr>\n",
       "    <tr>\n",
       "      <th>4966</th>\n",
       "      <td>2017-01-18 14:59:59</td>\n",
       "      <td>0.00</td>\n",
       "      <td>0.00</td>\n",
       "      <td>0.00</td>\n",
       "      <td>0.00</td>\n",
       "      <td>0.000000</td>\n",
       "      <td>7.804423</td>\n",
       "      <td>3.130217</td>\n",
       "      <td>5.586386</td>\n",
       "      <td>3.420555</td>\n",
       "      <td>...</td>\n",
       "      <td>13.987760</td>\n",
       "      <td>-501.555110</td>\n",
       "      <td>13.876556</td>\n",
       "      <td>-500.025438</td>\n",
       "      <td>-0.178880</td>\n",
       "      <td>-491.880038</td>\n",
       "      <td>8.035219</td>\n",
       "      <td>-481.808531</td>\n",
       "      <td>19.941542</td>\n",
       "      <td>-595.360820</td>\n",
       "    </tr>\n",
       "    <tr>\n",
       "      <th>4967</th>\n",
       "      <td>2017-01-18 15:59:59</td>\n",
       "      <td>0.00</td>\n",
       "      <td>0.00</td>\n",
       "      <td>0.00</td>\n",
       "      <td>0.00</td>\n",
       "      <td>0.000000</td>\n",
       "      <td>4.990116</td>\n",
       "      <td>2.905931</td>\n",
       "      <td>5.256589</td>\n",
       "      <td>4.213483</td>\n",
       "      <td>...</td>\n",
       "      <td>14.002255</td>\n",
       "      <td>-500.944994</td>\n",
       "      <td>13.993990</td>\n",
       "      <td>-499.556599</td>\n",
       "      <td>-0.173919</td>\n",
       "      <td>-446.036106</td>\n",
       "      <td>3.145675</td>\n",
       "      <td>-240.872031</td>\n",
       "      <td>2.319944</td>\n",
       "      <td>-642.122184</td>\n",
       "    </tr>\n",
       "    <tr>\n",
       "      <th>4968</th>\n",
       "      <td>2017-01-18 16:59:59</td>\n",
       "      <td>0.00</td>\n",
       "      <td>0.00</td>\n",
       "      <td>0.00</td>\n",
       "      <td>0.00</td>\n",
       "      <td>0.000000</td>\n",
       "      <td>3.166338</td>\n",
       "      <td>2.024801</td>\n",
       "      <td>4.348096</td>\n",
       "      <td>3.584731</td>\n",
       "      <td>...</td>\n",
       "      <td>13.981977</td>\n",
       "      <td>-497.410626</td>\n",
       "      <td>14.031867</td>\n",
       "      <td>-500.120965</td>\n",
       "      <td>-0.173552</td>\n",
       "      <td>-563.737693</td>\n",
       "      <td>0.679409</td>\n",
       "      <td>-746.432635</td>\n",
       "      <td>0.259505</td>\n",
       "      <td>-809.057864</td>\n",
       "    </tr>\n",
       "    <tr>\n",
       "      <th>4969</th>\n",
       "      <td>2017-01-18 20:59:59</td>\n",
       "      <td>0.00</td>\n",
       "      <td>0.00</td>\n",
       "      <td>0.00</td>\n",
       "      <td>0.00</td>\n",
       "      <td>0.000000</td>\n",
       "      <td>2.750531</td>\n",
       "      <td>1.193930</td>\n",
       "      <td>2.370671</td>\n",
       "      <td>1.714487</td>\n",
       "      <td>...</td>\n",
       "      <td>14.063067</td>\n",
       "      <td>-499.127338</td>\n",
       "      <td>13.999699</td>\n",
       "      <td>-499.286761</td>\n",
       "      <td>-0.187038</td>\n",
       "      <td>-507.170200</td>\n",
       "      <td>0.692224</td>\n",
       "      <td>-500.585885</td>\n",
       "      <td>19.998121</td>\n",
       "      <td>-808.143270</td>\n",
       "    </tr>\n",
       "    <tr>\n",
       "      <th>5139</th>\n",
       "      <td>2017-01-26 09:59:59</td>\n",
       "      <td>0.00</td>\n",
       "      <td>0.00</td>\n",
       "      <td>0.00</td>\n",
       "      <td>0.00</td>\n",
       "      <td>0.000000</td>\n",
       "      <td>10.617218</td>\n",
       "      <td>2.747829</td>\n",
       "      <td>9.417774</td>\n",
       "      <td>2.990722</td>\n",
       "      <td>...</td>\n",
       "      <td>20.996782</td>\n",
       "      <td>-501.414482</td>\n",
       "      <td>21.072661</td>\n",
       "      <td>-499.762327</td>\n",
       "      <td>22.977603</td>\n",
       "      <td>-499.840145</td>\n",
       "      <td>20.017758</td>\n",
       "      <td>-499.845860</td>\n",
       "      <td>25.001965</td>\n",
       "      <td>-599.982239</td>\n",
       "    </tr>\n",
       "    <tr>\n",
       "      <th>5140</th>\n",
       "      <td>2017-01-26 10:59:59</td>\n",
       "      <td>0.00</td>\n",
       "      <td>0.00</td>\n",
       "      <td>0.00</td>\n",
       "      <td>0.00</td>\n",
       "      <td>0.000000</td>\n",
       "      <td>10.864712</td>\n",
       "      <td>2.841514</td>\n",
       "      <td>9.153641</td>\n",
       "      <td>3.115444</td>\n",
       "      <td>...</td>\n",
       "      <td>21.011390</td>\n",
       "      <td>-499.502514</td>\n",
       "      <td>21.026886</td>\n",
       "      <td>-499.684250</td>\n",
       "      <td>23.013882</td>\n",
       "      <td>-499.773163</td>\n",
       "      <td>19.981647</td>\n",
       "      <td>-500.137454</td>\n",
       "      <td>25.006088</td>\n",
       "      <td>-600.019283</td>\n",
       "    </tr>\n",
       "    <tr>\n",
       "      <th>5784</th>\n",
       "      <td>2017-02-24 03:59:59</td>\n",
       "      <td>0.00</td>\n",
       "      <td>0.00</td>\n",
       "      <td>0.00</td>\n",
       "      <td>0.00</td>\n",
       "      <td>0.000000</td>\n",
       "      <td>1.764912</td>\n",
       "      <td>0.620707</td>\n",
       "      <td>1.132730</td>\n",
       "      <td>0.619892</td>\n",
       "      <td>...</td>\n",
       "      <td>25.023822</td>\n",
       "      <td>-401.065646</td>\n",
       "      <td>23.026662</td>\n",
       "      <td>-400.510308</td>\n",
       "      <td>23.023228</td>\n",
       "      <td>-451.347752</td>\n",
       "      <td>20.007511</td>\n",
       "      <td>-450.038643</td>\n",
       "      <td>25.008392</td>\n",
       "      <td>-500.220216</td>\n",
       "    </tr>\n",
       "    <tr>\n",
       "      <th>5871</th>\n",
       "      <td>2017-02-28 14:59:59</td>\n",
       "      <td>0.00</td>\n",
       "      <td>0.00</td>\n",
       "      <td>0.00</td>\n",
       "      <td>0.00</td>\n",
       "      <td>0.000000</td>\n",
       "      <td>6.289242</td>\n",
       "      <td>2.166043</td>\n",
       "      <td>1.634677</td>\n",
       "      <td>3.043306</td>\n",
       "      <td>...</td>\n",
       "      <td>24.970388</td>\n",
       "      <td>-399.654209</td>\n",
       "      <td>23.008466</td>\n",
       "      <td>-399.508585</td>\n",
       "      <td>20.682065</td>\n",
       "      <td>-443.596068</td>\n",
       "      <td>18.017448</td>\n",
       "      <td>-386.843550</td>\n",
       "      <td>25.021448</td>\n",
       "      <td>-499.457263</td>\n",
       "    </tr>\n",
       "    <tr>\n",
       "      <th>5872</th>\n",
       "      <td>2017-02-28 15:59:59</td>\n",
       "      <td>0.00</td>\n",
       "      <td>0.00</td>\n",
       "      <td>0.00</td>\n",
       "      <td>0.00</td>\n",
       "      <td>0.000000</td>\n",
       "      <td>9.824167</td>\n",
       "      <td>3.652339</td>\n",
       "      <td>4.377406</td>\n",
       "      <td>5.599697</td>\n",
       "      <td>...</td>\n",
       "      <td>24.988576</td>\n",
       "      <td>-400.944119</td>\n",
       "      <td>23.020085</td>\n",
       "      <td>-400.374134</td>\n",
       "      <td>20.176891</td>\n",
       "      <td>-454.657471</td>\n",
       "      <td>19.257933</td>\n",
       "      <td>-449.820792</td>\n",
       "      <td>24.979159</td>\n",
       "      <td>-501.400800</td>\n",
       "    </tr>\n",
       "    <tr>\n",
       "      <th>6016</th>\n",
       "      <td>2017-03-06 17:59:59</td>\n",
       "      <td>0.00</td>\n",
       "      <td>0.00</td>\n",
       "      <td>0.00</td>\n",
       "      <td>0.00</td>\n",
       "      <td>0.000000</td>\n",
       "      <td>8.788438</td>\n",
       "      <td>2.970928</td>\n",
       "      <td>7.091474</td>\n",
       "      <td>3.440660</td>\n",
       "      <td>...</td>\n",
       "      <td>25.008081</td>\n",
       "      <td>-399.200196</td>\n",
       "      <td>23.015470</td>\n",
       "      <td>-399.946201</td>\n",
       "      <td>23.636238</td>\n",
       "      <td>-450.648239</td>\n",
       "      <td>19.957525</td>\n",
       "      <td>-449.878949</td>\n",
       "      <td>24.999677</td>\n",
       "      <td>-500.240701</td>\n",
       "    </tr>\n",
       "    <tr>\n",
       "      <th>6017</th>\n",
       "      <td>2017-03-06 18:59:59</td>\n",
       "      <td>0.00</td>\n",
       "      <td>0.00</td>\n",
       "      <td>0.00</td>\n",
       "      <td>0.00</td>\n",
       "      <td>0.000000</td>\n",
       "      <td>8.865775</td>\n",
       "      <td>2.954853</td>\n",
       "      <td>7.439434</td>\n",
       "      <td>3.476479</td>\n",
       "      <td>...</td>\n",
       "      <td>24.947721</td>\n",
       "      <td>-398.180904</td>\n",
       "      <td>23.071941</td>\n",
       "      <td>-399.595670</td>\n",
       "      <td>23.654748</td>\n",
       "      <td>-449.556038</td>\n",
       "      <td>20.001880</td>\n",
       "      <td>-449.899258</td>\n",
       "      <td>24.992970</td>\n",
       "      <td>-499.427043</td>\n",
       "    </tr>\n",
       "    <tr>\n",
       "      <th>6018</th>\n",
       "      <td>2017-03-06 19:59:59</td>\n",
       "      <td>0.00</td>\n",
       "      <td>0.00</td>\n",
       "      <td>0.00</td>\n",
       "      <td>0.00</td>\n",
       "      <td>0.000000</td>\n",
       "      <td>8.499353</td>\n",
       "      <td>2.827313</td>\n",
       "      <td>8.296913</td>\n",
       "      <td>3.443548</td>\n",
       "      <td>...</td>\n",
       "      <td>25.008663</td>\n",
       "      <td>-402.048689</td>\n",
       "      <td>23.096647</td>\n",
       "      <td>-400.448353</td>\n",
       "      <td>23.673025</td>\n",
       "      <td>-449.945883</td>\n",
       "      <td>20.014044</td>\n",
       "      <td>-449.745174</td>\n",
       "      <td>24.990666</td>\n",
       "      <td>-500.726526</td>\n",
       "    </tr>\n",
       "    <tr>\n",
       "      <th>6019</th>\n",
       "      <td>2017-03-06 20:59:59</td>\n",
       "      <td>0.00</td>\n",
       "      <td>0.00</td>\n",
       "      <td>0.00</td>\n",
       "      <td>0.00</td>\n",
       "      <td>0.000000</td>\n",
       "      <td>8.168545</td>\n",
       "      <td>2.779809</td>\n",
       "      <td>8.939608</td>\n",
       "      <td>3.451607</td>\n",
       "      <td>...</td>\n",
       "      <td>24.967627</td>\n",
       "      <td>-399.228838</td>\n",
       "      <td>23.100567</td>\n",
       "      <td>-399.882444</td>\n",
       "      <td>23.734240</td>\n",
       "      <td>-450.039391</td>\n",
       "      <td>20.002802</td>\n",
       "      <td>-450.185386</td>\n",
       "      <td>24.999566</td>\n",
       "      <td>-500.059471</td>\n",
       "    </tr>\n",
       "    <tr>\n",
       "      <th>6254</th>\n",
       "      <td>2017-03-17 10:59:59</td>\n",
       "      <td>0.00</td>\n",
       "      <td>0.00</td>\n",
       "      <td>0.00</td>\n",
       "      <td>0.00</td>\n",
       "      <td>0.000000</td>\n",
       "      <td>9.365576</td>\n",
       "      <td>3.180765</td>\n",
       "      <td>4.904181</td>\n",
       "      <td>4.489633</td>\n",
       "      <td>...</td>\n",
       "      <td>25.017218</td>\n",
       "      <td>-396.271406</td>\n",
       "      <td>22.993867</td>\n",
       "      <td>-399.308497</td>\n",
       "      <td>20.696742</td>\n",
       "      <td>-446.237788</td>\n",
       "      <td>19.952652</td>\n",
       "      <td>-445.274527</td>\n",
       "      <td>25.009526</td>\n",
       "      <td>-499.299024</td>\n",
       "    </tr>\n",
       "    <tr>\n",
       "      <th>6430</th>\n",
       "      <td>2017-03-28 02:59:59</td>\n",
       "      <td>0.00</td>\n",
       "      <td>0.00</td>\n",
       "      <td>0.00</td>\n",
       "      <td>0.00</td>\n",
       "      <td>0.000000</td>\n",
       "      <td>6.052901</td>\n",
       "      <td>1.855451</td>\n",
       "      <td>6.201678</td>\n",
       "      <td>2.423505</td>\n",
       "      <td>...</td>\n",
       "      <td>25.031117</td>\n",
       "      <td>-397.385023</td>\n",
       "      <td>23.047137</td>\n",
       "      <td>-399.868919</td>\n",
       "      <td>29.144954</td>\n",
       "      <td>-449.497572</td>\n",
       "      <td>24.036333</td>\n",
       "      <td>-450.062637</td>\n",
       "      <td>25.004345</td>\n",
       "      <td>-497.467197</td>\n",
       "    </tr>\n",
       "    <tr>\n",
       "      <th>7050</th>\n",
       "      <td>2017-04-23 15:59:59</td>\n",
       "      <td>0.00</td>\n",
       "      <td>0.00</td>\n",
       "      <td>0.00</td>\n",
       "      <td>0.00</td>\n",
       "      <td>0.000000</td>\n",
       "      <td>8.156377</td>\n",
       "      <td>2.846728</td>\n",
       "      <td>11.214544</td>\n",
       "      <td>2.668218</td>\n",
       "      <td>...</td>\n",
       "      <td>25.022417</td>\n",
       "      <td>-401.038000</td>\n",
       "      <td>23.022316</td>\n",
       "      <td>-400.035835</td>\n",
       "      <td>26.034525</td>\n",
       "      <td>-450.185761</td>\n",
       "      <td>24.013252</td>\n",
       "      <td>-450.093931</td>\n",
       "      <td>29.985963</td>\n",
       "      <td>-500.076336</td>\n",
       "    </tr>\n",
       "    <tr>\n",
       "      <th>7051</th>\n",
       "      <td>2017-04-23 16:59:59</td>\n",
       "      <td>0.00</td>\n",
       "      <td>0.00</td>\n",
       "      <td>0.00</td>\n",
       "      <td>0.00</td>\n",
       "      <td>0.000000</td>\n",
       "      <td>8.128279</td>\n",
       "      <td>2.836579</td>\n",
       "      <td>10.817374</td>\n",
       "      <td>2.557334</td>\n",
       "      <td>...</td>\n",
       "      <td>25.003407</td>\n",
       "      <td>-400.114296</td>\n",
       "      <td>22.976075</td>\n",
       "      <td>-399.401191</td>\n",
       "      <td>26.003582</td>\n",
       "      <td>-449.323595</td>\n",
       "      <td>24.009039</td>\n",
       "      <td>-449.969615</td>\n",
       "      <td>30.007134</td>\n",
       "      <td>-499.524684</td>\n",
       "    </tr>\n",
       "    <tr>\n",
       "      <th>7052</th>\n",
       "      <td>2017-04-23 17:59:59</td>\n",
       "      <td>0.00</td>\n",
       "      <td>0.00</td>\n",
       "      <td>0.00</td>\n",
       "      <td>0.00</td>\n",
       "      <td>0.000000</td>\n",
       "      <td>8.103931</td>\n",
       "      <td>2.747705</td>\n",
       "      <td>10.788530</td>\n",
       "      <td>2.550075</td>\n",
       "      <td>...</td>\n",
       "      <td>25.014879</td>\n",
       "      <td>-399.528536</td>\n",
       "      <td>23.021336</td>\n",
       "      <td>-400.788116</td>\n",
       "      <td>25.986338</td>\n",
       "      <td>-451.070811</td>\n",
       "      <td>23.997589</td>\n",
       "      <td>-449.992990</td>\n",
       "      <td>30.014246</td>\n",
       "      <td>-500.261487</td>\n",
       "    </tr>\n",
       "    <tr>\n",
       "      <th>7053</th>\n",
       "      <td>2017-04-23 18:59:59</td>\n",
       "      <td>0.00</td>\n",
       "      <td>0.00</td>\n",
       "      <td>0.00</td>\n",
       "      <td>0.00</td>\n",
       "      <td>0.000000</td>\n",
       "      <td>8.304655</td>\n",
       "      <td>2.890794</td>\n",
       "      <td>11.387238</td>\n",
       "      <td>2.746293</td>\n",
       "      <td>...</td>\n",
       "      <td>25.006433</td>\n",
       "      <td>-402.214224</td>\n",
       "      <td>22.972691</td>\n",
       "      <td>-399.623048</td>\n",
       "      <td>25.985947</td>\n",
       "      <td>-450.184325</td>\n",
       "      <td>24.023299</td>\n",
       "      <td>-450.107963</td>\n",
       "      <td>29.989302</td>\n",
       "      <td>-499.837103</td>\n",
       "    </tr>\n",
       "    <tr>\n",
       "      <th>7054</th>\n",
       "      <td>2017-04-23 19:59:59</td>\n",
       "      <td>0.00</td>\n",
       "      <td>0.00</td>\n",
       "      <td>0.00</td>\n",
       "      <td>0.00</td>\n",
       "      <td>0.000000</td>\n",
       "      <td>8.326885</td>\n",
       "      <td>3.056401</td>\n",
       "      <td>10.965152</td>\n",
       "      <td>2.801452</td>\n",
       "      <td>...</td>\n",
       "      <td>24.981659</td>\n",
       "      <td>-399.351624</td>\n",
       "      <td>22.992010</td>\n",
       "      <td>-399.950198</td>\n",
       "      <td>26.026115</td>\n",
       "      <td>-449.768130</td>\n",
       "      <td>24.007241</td>\n",
       "      <td>-450.263454</td>\n",
       "      <td>30.004095</td>\n",
       "      <td>-499.921109</td>\n",
       "    </tr>\n",
       "    <tr>\n",
       "      <th>7406</th>\n",
       "      <td>2017-05-09 04:59:59</td>\n",
       "      <td>0.00</td>\n",
       "      <td>0.00</td>\n",
       "      <td>0.00</td>\n",
       "      <td>0.00</td>\n",
       "      <td>0.000000</td>\n",
       "      <td>9.862797</td>\n",
       "      <td>3.133213</td>\n",
       "      <td>5.304168</td>\n",
       "      <td>3.668582</td>\n",
       "      <td>...</td>\n",
       "      <td>25.021423</td>\n",
       "      <td>-397.200119</td>\n",
       "      <td>23.008844</td>\n",
       "      <td>-399.632589</td>\n",
       "      <td>25.983521</td>\n",
       "      <td>-449.556130</td>\n",
       "      <td>23.994969</td>\n",
       "      <td>-449.810833</td>\n",
       "      <td>29.998974</td>\n",
       "      <td>-499.541003</td>\n",
       "    </tr>\n",
       "    <tr>\n",
       "      <th>7518</th>\n",
       "      <td>2017-05-20 22:59:59</td>\n",
       "      <td>0.00</td>\n",
       "      <td>0.00</td>\n",
       "      <td>0.00</td>\n",
       "      <td>0.00</td>\n",
       "      <td>0.000000</td>\n",
       "      <td>8.498030</td>\n",
       "      <td>3.997512</td>\n",
       "      <td>7.064919</td>\n",
       "      <td>6.578668</td>\n",
       "      <td>...</td>\n",
       "      <td>14.039718</td>\n",
       "      <td>-502.819287</td>\n",
       "      <td>11.851174</td>\n",
       "      <td>-500.978538</td>\n",
       "      <td>11.005697</td>\n",
       "      <td>-499.659386</td>\n",
       "      <td>9.986170</td>\n",
       "      <td>-500.117621</td>\n",
       "      <td>19.990086</td>\n",
       "      <td>-500.215013</td>\n",
       "    </tr>\n",
       "    <tr>\n",
       "      <th>7519</th>\n",
       "      <td>2017-05-20 23:59:59</td>\n",
       "      <td>0.00</td>\n",
       "      <td>0.00</td>\n",
       "      <td>0.00</td>\n",
       "      <td>0.00</td>\n",
       "      <td>0.000000</td>\n",
       "      <td>5.853507</td>\n",
       "      <td>2.566240</td>\n",
       "      <td>5.372024</td>\n",
       "      <td>4.083495</td>\n",
       "      <td>...</td>\n",
       "      <td>13.909458</td>\n",
       "      <td>-499.262050</td>\n",
       "      <td>11.852180</td>\n",
       "      <td>-499.643782</td>\n",
       "      <td>10.933236</td>\n",
       "      <td>-501.259343</td>\n",
       "      <td>9.964885</td>\n",
       "      <td>-499.773254</td>\n",
       "      <td>19.981354</td>\n",
       "      <td>-499.611812</td>\n",
       "    </tr>\n",
       "    <tr>\n",
       "      <th>7556</th>\n",
       "      <td>2017-05-23 19:59:59</td>\n",
       "      <td>0.00</td>\n",
       "      <td>0.00</td>\n",
       "      <td>0.00</td>\n",
       "      <td>0.00</td>\n",
       "      <td>0.000000</td>\n",
       "      <td>6.045862</td>\n",
       "      <td>2.572548</td>\n",
       "      <td>5.979258</td>\n",
       "      <td>3.673219</td>\n",
       "      <td>...</td>\n",
       "      <td>24.973358</td>\n",
       "      <td>-498.408784</td>\n",
       "      <td>23.015481</td>\n",
       "      <td>-503.847471</td>\n",
       "      <td>26.000855</td>\n",
       "      <td>-499.736015</td>\n",
       "      <td>23.934192</td>\n",
       "      <td>-499.760094</td>\n",
       "      <td>17.989344</td>\n",
       "      <td>-502.178010</td>\n",
       "    </tr>\n",
       "    <tr>\n",
       "      <th>8665</th>\n",
       "      <td>2017-07-14 09:59:59</td>\n",
       "      <td>0.00</td>\n",
       "      <td>0.00</td>\n",
       "      <td>0.00</td>\n",
       "      <td>0.00</td>\n",
       "      <td>0.000000</td>\n",
       "      <td>7.599488</td>\n",
       "      <td>2.743608</td>\n",
       "      <td>5.500996</td>\n",
       "      <td>4.079079</td>\n",
       "      <td>...</td>\n",
       "      <td>21.963694</td>\n",
       "      <td>-497.681776</td>\n",
       "      <td>14.996808</td>\n",
       "      <td>-379.234257</td>\n",
       "      <td>17.943597</td>\n",
       "      <td>-500.869351</td>\n",
       "      <td>12.996144</td>\n",
       "      <td>-500.096848</td>\n",
       "      <td>14.996873</td>\n",
       "      <td>-499.676482</td>\n",
       "    </tr>\n",
       "    <tr>\n",
       "      <th>8884</th>\n",
       "      <td>2017-07-23 23:59:59</td>\n",
       "      <td>0.00</td>\n",
       "      <td>0.00</td>\n",
       "      <td>0.00</td>\n",
       "      <td>0.00</td>\n",
       "      <td>0.000000</td>\n",
       "      <td>3.735853</td>\n",
       "      <td>1.375197</td>\n",
       "      <td>4.186355</td>\n",
       "      <td>2.076641</td>\n",
       "      <td>...</td>\n",
       "      <td>5.021380</td>\n",
       "      <td>-799.676748</td>\n",
       "      <td>5.104790</td>\n",
       "      <td>-799.528222</td>\n",
       "      <td>15.962232</td>\n",
       "      <td>-500.225250</td>\n",
       "      <td>10.062110</td>\n",
       "      <td>-499.793051</td>\n",
       "      <td>14.953517</td>\n",
       "      <td>-499.842959</td>\n",
       "    </tr>\n",
       "    <tr>\n",
       "      <th>8898</th>\n",
       "      <td>2017-07-24 13:59:59</td>\n",
       "      <td>0.00</td>\n",
       "      <td>0.00</td>\n",
       "      <td>0.00</td>\n",
       "      <td>0.00</td>\n",
       "      <td>0.000000</td>\n",
       "      <td>7.685263</td>\n",
       "      <td>2.708151</td>\n",
       "      <td>10.191240</td>\n",
       "      <td>2.301790</td>\n",
       "      <td>...</td>\n",
       "      <td>5.157853</td>\n",
       "      <td>-799.709069</td>\n",
       "      <td>4.904193</td>\n",
       "      <td>-799.889113</td>\n",
       "      <td>12.027372</td>\n",
       "      <td>-493.246532</td>\n",
       "      <td>7.672037</td>\n",
       "      <td>-497.898119</td>\n",
       "      <td>12.381912</td>\n",
       "      <td>-504.537397</td>\n",
       "    </tr>\n",
       "    <tr>\n",
       "      <th>8899</th>\n",
       "      <td>2017-07-25 07:59:59</td>\n",
       "      <td>0.00</td>\n",
       "      <td>0.00</td>\n",
       "      <td>0.00</td>\n",
       "      <td>0.00</td>\n",
       "      <td>0.000000</td>\n",
       "      <td>8.068584</td>\n",
       "      <td>2.539054</td>\n",
       "      <td>5.926178</td>\n",
       "      <td>3.010061</td>\n",
       "      <td>...</td>\n",
       "      <td>5.157853</td>\n",
       "      <td>-799.634040</td>\n",
       "      <td>5.014348</td>\n",
       "      <td>-799.864719</td>\n",
       "      <td>16.017481</td>\n",
       "      <td>-502.033957</td>\n",
       "      <td>9.997870</td>\n",
       "      <td>-500.032109</td>\n",
       "      <td>15.012719</td>\n",
       "      <td>-500.166375</td>\n",
       "    </tr>\n",
       "    <tr>\n",
       "      <th>8900</th>\n",
       "      <td>2017-07-25 08:59:59</td>\n",
       "      <td>0.00</td>\n",
       "      <td>0.00</td>\n",
       "      <td>0.00</td>\n",
       "      <td>0.00</td>\n",
       "      <td>0.000000</td>\n",
       "      <td>8.768794</td>\n",
       "      <td>2.922438</td>\n",
       "      <td>4.864586</td>\n",
       "      <td>3.216211</td>\n",
       "      <td>...</td>\n",
       "      <td>5.157853</td>\n",
       "      <td>-799.501062</td>\n",
       "      <td>5.034026</td>\n",
       "      <td>-799.861981</td>\n",
       "      <td>16.015712</td>\n",
       "      <td>-500.333611</td>\n",
       "      <td>9.996034</td>\n",
       "      <td>-499.903756</td>\n",
       "      <td>15.005399</td>\n",
       "      <td>-499.665857</td>\n",
       "    </tr>\n",
       "    <tr>\n",
       "      <th>8919</th>\n",
       "      <td>2017-07-26 03:59:59</td>\n",
       "      <td>0.00</td>\n",
       "      <td>0.00</td>\n",
       "      <td>0.00</td>\n",
       "      <td>0.00</td>\n",
       "      <td>0.000000</td>\n",
       "      <td>7.074876</td>\n",
       "      <td>3.211672</td>\n",
       "      <td>11.439958</td>\n",
       "      <td>3.660732</td>\n",
       "      <td>...</td>\n",
       "      <td>12.961509</td>\n",
       "      <td>-500.559617</td>\n",
       "      <td>9.933130</td>\n",
       "      <td>-380.153762</td>\n",
       "      <td>16.030213</td>\n",
       "      <td>-500.482032</td>\n",
       "      <td>10.001274</td>\n",
       "      <td>-500.142881</td>\n",
       "      <td>14.996052</td>\n",
       "      <td>-500.206741</td>\n",
       "    </tr>\n",
       "    <tr>\n",
       "      <th>8920</th>\n",
       "      <td>2017-07-26 04:59:59</td>\n",
       "      <td>0.00</td>\n",
       "      <td>0.00</td>\n",
       "      <td>0.00</td>\n",
       "      <td>0.00</td>\n",
       "      <td>0.000000</td>\n",
       "      <td>6.928070</td>\n",
       "      <td>3.158062</td>\n",
       "      <td>11.352802</td>\n",
       "      <td>3.485946</td>\n",
       "      <td>...</td>\n",
       "      <td>12.945183</td>\n",
       "      <td>-498.694819</td>\n",
       "      <td>9.916742</td>\n",
       "      <td>-379.989325</td>\n",
       "      <td>15.965493</td>\n",
       "      <td>-500.537624</td>\n",
       "      <td>10.004768</td>\n",
       "      <td>-500.178703</td>\n",
       "      <td>14.985647</td>\n",
       "      <td>-499.120826</td>\n",
       "    </tr>\n",
       "    <tr>\n",
       "      <th>9320</th>\n",
       "      <td>2017-08-12 03:59:59</td>\n",
       "      <td>0.00</td>\n",
       "      <td>0.00</td>\n",
       "      <td>0.00</td>\n",
       "      <td>0.00</td>\n",
       "      <td>0.000000</td>\n",
       "      <td>6.296368</td>\n",
       "      <td>2.933790</td>\n",
       "      <td>9.373527</td>\n",
       "      <td>4.489584</td>\n",
       "      <td>...</td>\n",
       "      <td>13.019003</td>\n",
       "      <td>-501.104446</td>\n",
       "      <td>9.983029</td>\n",
       "      <td>-400.065716</td>\n",
       "      <td>11.974298</td>\n",
       "      <td>-499.083691</td>\n",
       "      <td>9.970505</td>\n",
       "      <td>-499.761608</td>\n",
       "      <td>15.009898</td>\n",
       "      <td>-499.872109</td>\n",
       "    </tr>\n",
       "    <tr>\n",
       "      <th>9893</th>\n",
       "      <td>2018-01-15 20:59:59</td>\n",
       "      <td>0.00</td>\n",
       "      <td>0.00</td>\n",
       "      <td>0.00</td>\n",
       "      <td>0.00</td>\n",
       "      <td>0.000000</td>\n",
       "      <td>11.408594</td>\n",
       "      <td>2.205271</td>\n",
       "      <td>3.469389</td>\n",
       "      <td>5.819537</td>\n",
       "      <td>...</td>\n",
       "      <td>19.969900</td>\n",
       "      <td>-500.232817</td>\n",
       "      <td>14.889429</td>\n",
       "      <td>-499.657967</td>\n",
       "      <td>11.002853</td>\n",
       "      <td>-500.029477</td>\n",
       "      <td>9.006599</td>\n",
       "      <td>-499.812437</td>\n",
       "      <td>10.981683</td>\n",
       "      <td>-499.607997</td>\n",
       "    </tr>\n",
       "    <tr>\n",
       "      <th>9894</th>\n",
       "      <td>2018-01-15 21:59:59</td>\n",
       "      <td>0.00</td>\n",
       "      <td>0.00</td>\n",
       "      <td>0.00</td>\n",
       "      <td>0.00</td>\n",
       "      <td>0.000000</td>\n",
       "      <td>10.738721</td>\n",
       "      <td>1.426022</td>\n",
       "      <td>6.409904</td>\n",
       "      <td>3.837274</td>\n",
       "      <td>...</td>\n",
       "      <td>19.957672</td>\n",
       "      <td>-503.157196</td>\n",
       "      <td>14.927148</td>\n",
       "      <td>-499.997780</td>\n",
       "      <td>11.033133</td>\n",
       "      <td>-500.405550</td>\n",
       "      <td>9.025031</td>\n",
       "      <td>-500.224485</td>\n",
       "      <td>10.997373</td>\n",
       "      <td>-500.277262</td>\n",
       "    </tr>\n",
       "    <tr>\n",
       "      <th>10020</th>\n",
       "      <td>2018-01-25 10:59:59</td>\n",
       "      <td>0.00</td>\n",
       "      <td>0.00</td>\n",
       "      <td>0.00</td>\n",
       "      <td>0.00</td>\n",
       "      <td>0.000000</td>\n",
       "      <td>2.444457</td>\n",
       "      <td>0.612787</td>\n",
       "      <td>1.751687</td>\n",
       "      <td>1.210944</td>\n",
       "      <td>...</td>\n",
       "      <td>20.008402</td>\n",
       "      <td>-501.877128</td>\n",
       "      <td>15.091040</td>\n",
       "      <td>-500.207051</td>\n",
       "      <td>10.929622</td>\n",
       "      <td>-499.380783</td>\n",
       "      <td>9.016132</td>\n",
       "      <td>-500.127563</td>\n",
       "      <td>10.996343</td>\n",
       "      <td>-500.089294</td>\n",
       "    </tr>\n",
       "    <tr>\n",
       "      <th>12277</th>\n",
       "      <td>2018-05-15 04:59:59</td>\n",
       "      <td>0.01</td>\n",
       "      <td>0.01</td>\n",
       "      <td>0.01</td>\n",
       "      <td>0.01</td>\n",
       "      <td>0.168611</td>\n",
       "      <td>8.069722</td>\n",
       "      <td>1.734258</td>\n",
       "      <td>5.262840</td>\n",
       "      <td>2.452356</td>\n",
       "      <td>...</td>\n",
       "      <td>30.028409</td>\n",
       "      <td>-507.406186</td>\n",
       "      <td>22.008754</td>\n",
       "      <td>-501.816732</td>\n",
       "      <td>24.992438</td>\n",
       "      <td>-503.865882</td>\n",
       "      <td>23.019383</td>\n",
       "      <td>-500.472409</td>\n",
       "      <td>25.002424</td>\n",
       "      <td>-503.326766</td>\n",
       "    </tr>\n",
       "  </tbody>\n",
       "</table>\n",
       "<p>59 rows × 87 columns</p>\n",
       "</div>"
      ],
      "text/plain": [
       "                      date  final.output.concentrate_ag  \\\n",
       "644    2016-02-13 11:00:00                         0.00   \n",
       "1193   2016-03-11 10:00:00                         0.00   \n",
       "1194   2016-03-11 11:00:00                         0.00   \n",
       "1195   2016-03-11 12:00:00                         0.00   \n",
       "1196   2016-03-11 13:00:00                         0.00   \n",
       "1682   2016-04-09 17:00:00                         0.00   \n",
       "2019   2016-05-01 23:59:59                         0.00   \n",
       "2020   2016-05-02 00:59:59                         0.00   \n",
       "2236   2016-05-11 01:59:59                         0.00   \n",
       "3394   2016-07-06 04:59:59                         0.00   \n",
       "3395   2016-07-06 05:59:59                         0.00   \n",
       "3396   2016-07-06 06:59:59                         0.00   \n",
       "3397   2016-07-06 08:59:59                         0.00   \n",
       "3400   2016-07-06 12:59:59                         0.00   \n",
       "4215   2016-08-11 20:59:59                         0.00   \n",
       "4314   2016-08-15 23:59:59                         0.00   \n",
       "4564   2016-08-26 20:59:59                         0.00   \n",
       "4652   2016-08-30 18:59:59                         0.00   \n",
       "4653   2016-08-30 19:59:59                         0.00   \n",
       "4722   2017-01-02 16:59:59                         0.00   \n",
       "4723   2017-01-02 17:59:59                         0.00   \n",
       "4724   2017-01-02 18:59:59                         0.00   \n",
       "4965   2017-01-18 13:59:59                         0.00   \n",
       "4966   2017-01-18 14:59:59                         0.00   \n",
       "4967   2017-01-18 15:59:59                         0.00   \n",
       "4968   2017-01-18 16:59:59                         0.00   \n",
       "4969   2017-01-18 20:59:59                         0.00   \n",
       "5139   2017-01-26 09:59:59                         0.00   \n",
       "5140   2017-01-26 10:59:59                         0.00   \n",
       "5784   2017-02-24 03:59:59                         0.00   \n",
       "5871   2017-02-28 14:59:59                         0.00   \n",
       "5872   2017-02-28 15:59:59                         0.00   \n",
       "6016   2017-03-06 17:59:59                         0.00   \n",
       "6017   2017-03-06 18:59:59                         0.00   \n",
       "6018   2017-03-06 19:59:59                         0.00   \n",
       "6019   2017-03-06 20:59:59                         0.00   \n",
       "6254   2017-03-17 10:59:59                         0.00   \n",
       "6430   2017-03-28 02:59:59                         0.00   \n",
       "7050   2017-04-23 15:59:59                         0.00   \n",
       "7051   2017-04-23 16:59:59                         0.00   \n",
       "7052   2017-04-23 17:59:59                         0.00   \n",
       "7053   2017-04-23 18:59:59                         0.00   \n",
       "7054   2017-04-23 19:59:59                         0.00   \n",
       "7406   2017-05-09 04:59:59                         0.00   \n",
       "7518   2017-05-20 22:59:59                         0.00   \n",
       "7519   2017-05-20 23:59:59                         0.00   \n",
       "7556   2017-05-23 19:59:59                         0.00   \n",
       "8665   2017-07-14 09:59:59                         0.00   \n",
       "8884   2017-07-23 23:59:59                         0.00   \n",
       "8898   2017-07-24 13:59:59                         0.00   \n",
       "8899   2017-07-25 07:59:59                         0.00   \n",
       "8900   2017-07-25 08:59:59                         0.00   \n",
       "8919   2017-07-26 03:59:59                         0.00   \n",
       "8920   2017-07-26 04:59:59                         0.00   \n",
       "9320   2017-08-12 03:59:59                         0.00   \n",
       "9893   2018-01-15 20:59:59                         0.00   \n",
       "9894   2018-01-15 21:59:59                         0.00   \n",
       "10020  2018-01-25 10:59:59                         0.00   \n",
       "12277  2018-05-15 04:59:59                         0.01   \n",
       "\n",
       "       final.output.concentrate_pb  final.output.concentrate_sol  \\\n",
       "644                           0.00                          0.00   \n",
       "1193                          0.00                          0.00   \n",
       "1194                          0.00                          0.00   \n",
       "1195                          0.00                          0.00   \n",
       "1196                          0.00                          0.00   \n",
       "1682                          0.00                          0.00   \n",
       "2019                          0.00                          0.00   \n",
       "2020                          0.00                          0.00   \n",
       "2236                          0.00                          0.00   \n",
       "3394                          0.00                          0.00   \n",
       "3395                          0.00                          0.00   \n",
       "3396                          0.00                          0.00   \n",
       "3397                          0.00                          0.00   \n",
       "3400                          0.00                          0.00   \n",
       "4215                          0.00                          0.00   \n",
       "4314                          0.00                          0.00   \n",
       "4564                          0.00                          0.00   \n",
       "4652                          0.00                          0.00   \n",
       "4653                          0.00                          0.00   \n",
       "4722                          0.00                          0.00   \n",
       "4723                          0.00                          0.00   \n",
       "4724                          0.00                          0.00   \n",
       "4965                          0.00                          0.00   \n",
       "4966                          0.00                          0.00   \n",
       "4967                          0.00                          0.00   \n",
       "4968                          0.00                          0.00   \n",
       "4969                          0.00                          0.00   \n",
       "5139                          0.00                          0.00   \n",
       "5140                          0.00                          0.00   \n",
       "5784                          0.00                          0.00   \n",
       "5871                          0.00                          0.00   \n",
       "5872                          0.00                          0.00   \n",
       "6016                          0.00                          0.00   \n",
       "6017                          0.00                          0.00   \n",
       "6018                          0.00                          0.00   \n",
       "6019                          0.00                          0.00   \n",
       "6254                          0.00                          0.00   \n",
       "6430                          0.00                          0.00   \n",
       "7050                          0.00                          0.00   \n",
       "7051                          0.00                          0.00   \n",
       "7052                          0.00                          0.00   \n",
       "7053                          0.00                          0.00   \n",
       "7054                          0.00                          0.00   \n",
       "7406                          0.00                          0.00   \n",
       "7518                          0.00                          0.00   \n",
       "7519                          0.00                          0.00   \n",
       "7556                          0.00                          0.00   \n",
       "8665                          0.00                          0.00   \n",
       "8884                          0.00                          0.00   \n",
       "8898                          0.00                          0.00   \n",
       "8899                          0.00                          0.00   \n",
       "8900                          0.00                          0.00   \n",
       "8919                          0.00                          0.00   \n",
       "8920                          0.00                          0.00   \n",
       "9320                          0.00                          0.00   \n",
       "9893                          0.00                          0.00   \n",
       "9894                          0.00                          0.00   \n",
       "10020                         0.00                          0.00   \n",
       "12277                         0.01                          0.01   \n",
       "\n",
       "       final.output.concentrate_au  final.output.recovery  \\\n",
       "644                           0.00               0.000000   \n",
       "1193                          0.00               0.000000   \n",
       "1194                          0.00               0.000000   \n",
       "1195                          0.00               0.000000   \n",
       "1196                          0.00               0.000000   \n",
       "1682                          0.00               0.000000   \n",
       "2019                          0.00               0.000000   \n",
       "2020                          0.00               0.000000   \n",
       "2236                          0.00               0.000000   \n",
       "3394                          0.00               0.000000   \n",
       "3395                          0.00               0.000000   \n",
       "3396                          0.00               0.000000   \n",
       "3397                          0.00               0.000000   \n",
       "3400                          0.00               0.000000   \n",
       "4215                          0.00               0.000000   \n",
       "4314                          0.00               0.000000   \n",
       "4564                          0.00               0.000000   \n",
       "4652                          0.00               0.000000   \n",
       "4653                          0.00               0.000000   \n",
       "4722                          0.00               0.000000   \n",
       "4723                          0.00               0.000000   \n",
       "4724                          0.00               0.000000   \n",
       "4965                          0.00               0.000000   \n",
       "4966                          0.00               0.000000   \n",
       "4967                          0.00               0.000000   \n",
       "4968                          0.00               0.000000   \n",
       "4969                          0.00               0.000000   \n",
       "5139                          0.00               0.000000   \n",
       "5140                          0.00               0.000000   \n",
       "5784                          0.00               0.000000   \n",
       "5871                          0.00               0.000000   \n",
       "5872                          0.00               0.000000   \n",
       "6016                          0.00               0.000000   \n",
       "6017                          0.00               0.000000   \n",
       "6018                          0.00               0.000000   \n",
       "6019                          0.00               0.000000   \n",
       "6254                          0.00               0.000000   \n",
       "6430                          0.00               0.000000   \n",
       "7050                          0.00               0.000000   \n",
       "7051                          0.00               0.000000   \n",
       "7052                          0.00               0.000000   \n",
       "7053                          0.00               0.000000   \n",
       "7054                          0.00               0.000000   \n",
       "7406                          0.00               0.000000   \n",
       "7518                          0.00               0.000000   \n",
       "7519                          0.00               0.000000   \n",
       "7556                          0.00               0.000000   \n",
       "8665                          0.00               0.000000   \n",
       "8884                          0.00               0.000000   \n",
       "8898                          0.00               0.000000   \n",
       "8899                          0.00               0.000000   \n",
       "8900                          0.00               0.000000   \n",
       "8919                          0.00               0.000000   \n",
       "8920                          0.00               0.000000   \n",
       "9320                          0.00               0.000000   \n",
       "9893                          0.00               0.000000   \n",
       "9894                          0.00               0.000000   \n",
       "10020                         0.00               0.000000   \n",
       "12277                         0.01               0.168611   \n",
       "\n",
       "       final.output.tail_ag  final.output.tail_pb  final.output.tail_sol  \\\n",
       "644                8.894029              0.843584              15.417342   \n",
       "1193              10.817313              1.462800              16.407607   \n",
       "1194              10.436792              1.207636              17.800392   \n",
       "1195              10.637073              1.405778              17.195897   \n",
       "1196              10.530320              1.461550              17.556860   \n",
       "1682               2.943613              1.089791               4.050067   \n",
       "2019               2.229996              0.439314               2.996147   \n",
       "2020               8.816376              1.692314              12.001629   \n",
       "2236               7.567252              1.991327              12.977099   \n",
       "3394               6.266939              2.146631               7.240419   \n",
       "3395               6.156921              2.036552               8.240251   \n",
       "3396               2.537365              0.939253               5.531964   \n",
       "3397               3.096506              1.131179               4.534668   \n",
       "3400               6.478243              2.473995              12.423850   \n",
       "4215               1.353362              0.470696               1.235183   \n",
       "4314              10.796039              2.582106              11.105074   \n",
       "4564               3.697301              1.378608               3.952049   \n",
       "4652               7.904183              3.193653               3.656295   \n",
       "4653               7.950315              3.216058               3.705181   \n",
       "4722              10.512889              1.950646              11.188996   \n",
       "4723               9.955941              1.935196              11.133852   \n",
       "4724              10.106171              1.712132              11.092376   \n",
       "4965               0.135709              0.248237              10.817715   \n",
       "4966               7.804423              3.130217               5.586386   \n",
       "4967               4.990116              2.905931               5.256589   \n",
       "4968               3.166338              2.024801               4.348096   \n",
       "4969               2.750531              1.193930               2.370671   \n",
       "5139              10.617218              2.747829               9.417774   \n",
       "5140              10.864712              2.841514               9.153641   \n",
       "5784               1.764912              0.620707               1.132730   \n",
       "5871               6.289242              2.166043               1.634677   \n",
       "5872               9.824167              3.652339               4.377406   \n",
       "6016               8.788438              2.970928               7.091474   \n",
       "6017               8.865775              2.954853               7.439434   \n",
       "6018               8.499353              2.827313               8.296913   \n",
       "6019               8.168545              2.779809               8.939608   \n",
       "6254               9.365576              3.180765               4.904181   \n",
       "6430               6.052901              1.855451               6.201678   \n",
       "7050               8.156377              2.846728              11.214544   \n",
       "7051               8.128279              2.836579              10.817374   \n",
       "7052               8.103931              2.747705              10.788530   \n",
       "7053               8.304655              2.890794              11.387238   \n",
       "7054               8.326885              3.056401              10.965152   \n",
       "7406               9.862797              3.133213               5.304168   \n",
       "7518               8.498030              3.997512               7.064919   \n",
       "7519               5.853507              2.566240               5.372024   \n",
       "7556               6.045862              2.572548               5.979258   \n",
       "8665               7.599488              2.743608               5.500996   \n",
       "8884               3.735853              1.375197               4.186355   \n",
       "8898               7.685263              2.708151              10.191240   \n",
       "8899               8.068584              2.539054               5.926178   \n",
       "8900               8.768794              2.922438               4.864586   \n",
       "8919               7.074876              3.211672              11.439958   \n",
       "8920               6.928070              3.158062              11.352802   \n",
       "9320               6.296368              2.933790               9.373527   \n",
       "9893              11.408594              2.205271               3.469389   \n",
       "9894              10.738721              1.426022               6.409904   \n",
       "10020              2.444457              0.612787               1.751687   \n",
       "12277              8.069722              1.734258               5.262840   \n",
       "\n",
       "       final.output.tail_au  ...  secondary_cleaner.state.floatbank4_a_air  \\\n",
       "644                1.779052  ...                                 21.991762   \n",
       "1193               2.984504  ...                                 11.979352   \n",
       "1194               2.747294  ...                                 12.034636   \n",
       "1195               2.791440  ...                                 12.016716   \n",
       "1196               2.682127  ...                                 11.993898   \n",
       "1682               2.443084  ...                                 15.982774   \n",
       "2019               1.049438  ...                                 14.957055   \n",
       "2020               3.949153  ...                                 15.032195   \n",
       "2236               3.170143  ...                                 14.005274   \n",
       "3394               3.552111  ...                                 16.995498   \n",
       "3395               3.398861  ...                                 17.144549   \n",
       "3396               2.174925  ...                                 16.546451   \n",
       "3397               1.889405  ...                                 15.980554   \n",
       "3400               4.054269  ...                                 15.998673   \n",
       "4215               1.021143  ...                                 19.952152   \n",
       "4314               3.231677  ...                                 17.879648   \n",
       "4564               2.579844  ...                                 15.969769   \n",
       "4652               4.823467  ...                                 12.037163   \n",
       "4653               4.844750  ...                                 11.990196   \n",
       "4722               2.508362  ...                                 17.012398   \n",
       "4723               2.797546  ...                                 16.983206   \n",
       "4724               2.385774  ...                                 16.980482   \n",
       "4965               0.541934  ...                                 14.015494   \n",
       "4966               3.420555  ...                                 13.987760   \n",
       "4967               4.213483  ...                                 14.002255   \n",
       "4968               3.584731  ...                                 13.981977   \n",
       "4969               1.714487  ...                                 14.063067   \n",
       "5139               2.990722  ...                                 20.996782   \n",
       "5140               3.115444  ...                                 21.011390   \n",
       "5784               0.619892  ...                                 25.023822   \n",
       "5871               3.043306  ...                                 24.970388   \n",
       "5872               5.599697  ...                                 24.988576   \n",
       "6016               3.440660  ...                                 25.008081   \n",
       "6017               3.476479  ...                                 24.947721   \n",
       "6018               3.443548  ...                                 25.008663   \n",
       "6019               3.451607  ...                                 24.967627   \n",
       "6254               4.489633  ...                                 25.017218   \n",
       "6430               2.423505  ...                                 25.031117   \n",
       "7050               2.668218  ...                                 25.022417   \n",
       "7051               2.557334  ...                                 25.003407   \n",
       "7052               2.550075  ...                                 25.014879   \n",
       "7053               2.746293  ...                                 25.006433   \n",
       "7054               2.801452  ...                                 24.981659   \n",
       "7406               3.668582  ...                                 25.021423   \n",
       "7518               6.578668  ...                                 14.039718   \n",
       "7519               4.083495  ...                                 13.909458   \n",
       "7556               3.673219  ...                                 24.973358   \n",
       "8665               4.079079  ...                                 21.963694   \n",
       "8884               2.076641  ...                                  5.021380   \n",
       "8898               2.301790  ...                                  5.157853   \n",
       "8899               3.010061  ...                                  5.157853   \n",
       "8900               3.216211  ...                                  5.157853   \n",
       "8919               3.660732  ...                                 12.961509   \n",
       "8920               3.485946  ...                                 12.945183   \n",
       "9320               4.489584  ...                                 13.019003   \n",
       "9893               5.819537  ...                                 19.969900   \n",
       "9894               3.837274  ...                                 19.957672   \n",
       "10020              1.210944  ...                                 20.008402   \n",
       "12277              2.452356  ...                                 30.028409   \n",
       "\n",
       "       secondary_cleaner.state.floatbank4_a_level  \\\n",
       "644                                   -399.587122   \n",
       "1193                                  -453.431061   \n",
       "1194                                  -446.590944   \n",
       "1195                                  -496.613149   \n",
       "1196                                  -500.427824   \n",
       "1682                                  -498.453731   \n",
       "2019                                  -522.627263   \n",
       "2020                                  -498.930340   \n",
       "2236                                  -500.345401   \n",
       "3394                                  -500.641429   \n",
       "3395                                  -500.142478   \n",
       "3396                                  -502.174994   \n",
       "3397                                  -499.758183   \n",
       "3400                                  -502.746678   \n",
       "4215                                  -401.728030   \n",
       "4314                                  -399.935545   \n",
       "4564                                  -499.841050   \n",
       "4652                                  -500.062985   \n",
       "4653                                  -500.130124   \n",
       "4722                                  -498.615208   \n",
       "4723                                  -501.381053   \n",
       "4724                                  -500.861399   \n",
       "4965                                  -496.764289   \n",
       "4966                                  -501.555110   \n",
       "4967                                  -500.944994   \n",
       "4968                                  -497.410626   \n",
       "4969                                  -499.127338   \n",
       "5139                                  -501.414482   \n",
       "5140                                  -499.502514   \n",
       "5784                                  -401.065646   \n",
       "5871                                  -399.654209   \n",
       "5872                                  -400.944119   \n",
       "6016                                  -399.200196   \n",
       "6017                                  -398.180904   \n",
       "6018                                  -402.048689   \n",
       "6019                                  -399.228838   \n",
       "6254                                  -396.271406   \n",
       "6430                                  -397.385023   \n",
       "7050                                  -401.038000   \n",
       "7051                                  -400.114296   \n",
       "7052                                  -399.528536   \n",
       "7053                                  -402.214224   \n",
       "7054                                  -399.351624   \n",
       "7406                                  -397.200119   \n",
       "7518                                  -502.819287   \n",
       "7519                                  -499.262050   \n",
       "7556                                  -498.408784   \n",
       "8665                                  -497.681776   \n",
       "8884                                  -799.676748   \n",
       "8898                                  -799.709069   \n",
       "8899                                  -799.634040   \n",
       "8900                                  -799.501062   \n",
       "8919                                  -500.559617   \n",
       "8920                                  -498.694819   \n",
       "9320                                  -501.104446   \n",
       "9893                                  -500.232817   \n",
       "9894                                  -503.157196   \n",
       "10020                                 -501.877128   \n",
       "12277                                 -507.406186   \n",
       "\n",
       "       secondary_cleaner.state.floatbank4_b_air  \\\n",
       "644                                   21.988937   \n",
       "1193                                  12.003445   \n",
       "1194                                  12.130405   \n",
       "1195                                  12.055535   \n",
       "1196                                  12.083824   \n",
       "1682                                  13.963050   \n",
       "2019                                  13.060565   \n",
       "2020                                  13.051205   \n",
       "2236                                  12.087124   \n",
       "3394                                  15.009792   \n",
       "3395                                  14.944936   \n",
       "3396                                  11.474000   \n",
       "3397                                   7.983881   \n",
       "3400                                   8.026739   \n",
       "4215                                   9.882757   \n",
       "4314                                  10.012001   \n",
       "4564                                   9.972046   \n",
       "4652                                   7.975512   \n",
       "4653                                   7.976535   \n",
       "4722                                  14.961553   \n",
       "4723                                  14.910639   \n",
       "4724                                  14.999956   \n",
       "4965                                  13.981879   \n",
       "4966                                  13.876556   \n",
       "4967                                  13.993990   \n",
       "4968                                  14.031867   \n",
       "4969                                  13.999699   \n",
       "5139                                  21.072661   \n",
       "5140                                  21.026886   \n",
       "5784                                  23.026662   \n",
       "5871                                  23.008466   \n",
       "5872                                  23.020085   \n",
       "6016                                  23.015470   \n",
       "6017                                  23.071941   \n",
       "6018                                  23.096647   \n",
       "6019                                  23.100567   \n",
       "6254                                  22.993867   \n",
       "6430                                  23.047137   \n",
       "7050                                  23.022316   \n",
       "7051                                  22.976075   \n",
       "7052                                  23.021336   \n",
       "7053                                  22.972691   \n",
       "7054                                  22.992010   \n",
       "7406                                  23.008844   \n",
       "7518                                  11.851174   \n",
       "7519                                  11.852180   \n",
       "7556                                  23.015481   \n",
       "8665                                  14.996808   \n",
       "8884                                   5.104790   \n",
       "8898                                   4.904193   \n",
       "8899                                   5.014348   \n",
       "8900                                   5.034026   \n",
       "8919                                   9.933130   \n",
       "8920                                   9.916742   \n",
       "9320                                   9.983029   \n",
       "9893                                  14.889429   \n",
       "9894                                  14.927148   \n",
       "10020                                 15.091040   \n",
       "12277                                 22.008754   \n",
       "\n",
       "       secondary_cleaner.state.floatbank4_b_level  \\\n",
       "644                                   -401.366408   \n",
       "1193                                  -450.179844   \n",
       "1194                                  -449.684812   \n",
       "1195                                  -496.908551   \n",
       "1196                                  -500.162537   \n",
       "1682                                  -472.304428   \n",
       "2019                                  -502.673001   \n",
       "2020                                  -502.405376   \n",
       "2236                                  -500.180957   \n",
       "3394                                  -499.990413   \n",
       "3395                                  -499.379420   \n",
       "3396                                  -513.284934   \n",
       "3397                                  -500.221549   \n",
       "3400                                  -508.499701   \n",
       "4215                                  -402.711177   \n",
       "4314                                  -399.585744   \n",
       "4564                                  -499.963654   \n",
       "4652                                  -500.760128   \n",
       "4653                                  -500.107624   \n",
       "4722                                  -473.509616   \n",
       "4723                                  -497.866523   \n",
       "4724                                  -499.649898   \n",
       "4965                                  -499.244981   \n",
       "4966                                  -500.025438   \n",
       "4967                                  -499.556599   \n",
       "4968                                  -500.120965   \n",
       "4969                                  -499.286761   \n",
       "5139                                  -499.762327   \n",
       "5140                                  -499.684250   \n",
       "5784                                  -400.510308   \n",
       "5871                                  -399.508585   \n",
       "5872                                  -400.374134   \n",
       "6016                                  -399.946201   \n",
       "6017                                  -399.595670   \n",
       "6018                                  -400.448353   \n",
       "6019                                  -399.882444   \n",
       "6254                                  -399.308497   \n",
       "6430                                  -399.868919   \n",
       "7050                                  -400.035835   \n",
       "7051                                  -399.401191   \n",
       "7052                                  -400.788116   \n",
       "7053                                  -399.623048   \n",
       "7054                                  -399.950198   \n",
       "7406                                  -399.632589   \n",
       "7518                                  -500.978538   \n",
       "7519                                  -499.643782   \n",
       "7556                                  -503.847471   \n",
       "8665                                  -379.234257   \n",
       "8884                                  -799.528222   \n",
       "8898                                  -799.889113   \n",
       "8899                                  -799.864719   \n",
       "8900                                  -799.861981   \n",
       "8919                                  -380.153762   \n",
       "8920                                  -379.989325   \n",
       "9320                                  -400.065716   \n",
       "9893                                  -499.657967   \n",
       "9894                                  -499.997780   \n",
       "10020                                 -500.207051   \n",
       "12277                                 -501.816732   \n",
       "\n",
       "       secondary_cleaner.state.floatbank5_a_air  \\\n",
       "644                                   22.995012   \n",
       "1193                                  11.982937   \n",
       "1194                                  11.844983   \n",
       "1195                                  12.091144   \n",
       "1196                                  12.078809   \n",
       "1682                                  12.012947   \n",
       "2019                                   8.851882   \n",
       "2020                                   8.972976   \n",
       "2236                                  11.025995   \n",
       "3394                                  16.993432   \n",
       "3395                                  16.938729   \n",
       "3396                                  16.607490   \n",
       "3397                                  16.108189   \n",
       "3400                                  16.074222   \n",
       "4215                                   9.137868   \n",
       "4314                                  15.086155   \n",
       "4564                                   9.913467   \n",
       "4652                                   8.043159   \n",
       "4653                                   8.075202   \n",
       "4722                                  17.395327   \n",
       "4723                                  17.070479   \n",
       "4724                                  17.173301   \n",
       "4965                                  -0.176485   \n",
       "4966                                  -0.178880   \n",
       "4967                                  -0.173919   \n",
       "4968                                  -0.173552   \n",
       "4969                                  -0.187038   \n",
       "5139                                  22.977603   \n",
       "5140                                  23.013882   \n",
       "5784                                  23.023228   \n",
       "5871                                  20.682065   \n",
       "5872                                  20.176891   \n",
       "6016                                  23.636238   \n",
       "6017                                  23.654748   \n",
       "6018                                  23.673025   \n",
       "6019                                  23.734240   \n",
       "6254                                  20.696742   \n",
       "6430                                  29.144954   \n",
       "7050                                  26.034525   \n",
       "7051                                  26.003582   \n",
       "7052                                  25.986338   \n",
       "7053                                  25.985947   \n",
       "7054                                  26.026115   \n",
       "7406                                  25.983521   \n",
       "7518                                  11.005697   \n",
       "7519                                  10.933236   \n",
       "7556                                  26.000855   \n",
       "8665                                  17.943597   \n",
       "8884                                  15.962232   \n",
       "8898                                  12.027372   \n",
       "8899                                  16.017481   \n",
       "8900                                  16.015712   \n",
       "8919                                  16.030213   \n",
       "8920                                  15.965493   \n",
       "9320                                  11.974298   \n",
       "9893                                  11.002853   \n",
       "9894                                  11.033133   \n",
       "10020                                 10.929622   \n",
       "12277                                 24.992438   \n",
       "\n",
       "       secondary_cleaner.state.floatbank5_a_level  \\\n",
       "644                                   -399.370680   \n",
       "1193                                  -449.856468   \n",
       "1194                                  -450.881424   \n",
       "1195                                  -496.404140   \n",
       "1196                                  -499.903743   \n",
       "1682                                  -498.936345   \n",
       "2019                                  -503.279765   \n",
       "2020                                  -498.876974   \n",
       "2236                                  -501.002632   \n",
       "3394                                  -501.022669   \n",
       "3395                                  -500.901347   \n",
       "3396                                  -498.514638   \n",
       "3397                                  -499.633768   \n",
       "3400                                  -495.402269   \n",
       "4215                                  -419.643823   \n",
       "4314                                  -396.783371   \n",
       "4564                                  -501.698056   \n",
       "4652                                  -500.391386   \n",
       "4653                                  -499.957983   \n",
       "4722                                  -499.938041   \n",
       "4723                                  -496.127166   \n",
       "4724                                  -504.678878   \n",
       "4965                                  -500.816086   \n",
       "4966                                  -491.880038   \n",
       "4967                                  -446.036106   \n",
       "4968                                  -563.737693   \n",
       "4969                                  -507.170200   \n",
       "5139                                  -499.840145   \n",
       "5140                                  -499.773163   \n",
       "5784                                  -451.347752   \n",
       "5871                                  -443.596068   \n",
       "5872                                  -454.657471   \n",
       "6016                                  -450.648239   \n",
       "6017                                  -449.556038   \n",
       "6018                                  -449.945883   \n",
       "6019                                  -450.039391   \n",
       "6254                                  -446.237788   \n",
       "6430                                  -449.497572   \n",
       "7050                                  -450.185761   \n",
       "7051                                  -449.323595   \n",
       "7052                                  -451.070811   \n",
       "7053                                  -450.184325   \n",
       "7054                                  -449.768130   \n",
       "7406                                  -449.556130   \n",
       "7518                                  -499.659386   \n",
       "7519                                  -501.259343   \n",
       "7556                                  -499.736015   \n",
       "8665                                  -500.869351   \n",
       "8884                                  -500.225250   \n",
       "8898                                  -493.246532   \n",
       "8899                                  -502.033957   \n",
       "8900                                  -500.333611   \n",
       "8919                                  -500.482032   \n",
       "8920                                  -500.537624   \n",
       "9320                                  -499.083691   \n",
       "9893                                  -500.029477   \n",
       "9894                                  -500.405550   \n",
       "10020                                 -499.380783   \n",
       "12277                                 -503.865882   \n",
       "\n",
       "       secondary_cleaner.state.floatbank5_b_air  \\\n",
       "644                                   20.966863   \n",
       "1193                                   9.927727   \n",
       "1194                                   9.916784   \n",
       "1195                                   9.976074   \n",
       "1196                                  10.075259   \n",
       "1682                                   9.989854   \n",
       "2019                                   9.037939   \n",
       "2020                                   9.070907   \n",
       "2236                                   6.093285   \n",
       "3394                                  14.951274   \n",
       "3395                                  15.060903   \n",
       "3396                                  11.109718   \n",
       "3397                                   7.118001   \n",
       "3400                                   7.103943   \n",
       "4215                                   4.933871   \n",
       "4314                                   4.961631   \n",
       "4564                                   5.011314   \n",
       "4652                                   4.878516   \n",
       "4653                                   4.897192   \n",
       "4722                                   8.054456   \n",
       "4723                                   8.045207   \n",
       "4724                                   8.077081   \n",
       "4965                                   8.093619   \n",
       "4966                                   8.035219   \n",
       "4967                                   3.145675   \n",
       "4968                                   0.679409   \n",
       "4969                                   0.692224   \n",
       "5139                                  20.017758   \n",
       "5140                                  19.981647   \n",
       "5784                                  20.007511   \n",
       "5871                                  18.017448   \n",
       "5872                                  19.257933   \n",
       "6016                                  19.957525   \n",
       "6017                                  20.001880   \n",
       "6018                                  20.014044   \n",
       "6019                                  20.002802   \n",
       "6254                                  19.952652   \n",
       "6430                                  24.036333   \n",
       "7050                                  24.013252   \n",
       "7051                                  24.009039   \n",
       "7052                                  23.997589   \n",
       "7053                                  24.023299   \n",
       "7054                                  24.007241   \n",
       "7406                                  23.994969   \n",
       "7518                                   9.986170   \n",
       "7519                                   9.964885   \n",
       "7556                                  23.934192   \n",
       "8665                                  12.996144   \n",
       "8884                                  10.062110   \n",
       "8898                                   7.672037   \n",
       "8899                                   9.997870   \n",
       "8900                                   9.996034   \n",
       "8919                                  10.001274   \n",
       "8920                                  10.004768   \n",
       "9320                                   9.970505   \n",
       "9893                                   9.006599   \n",
       "9894                                   9.025031   \n",
       "10020                                  9.016132   \n",
       "12277                                 23.019383   \n",
       "\n",
       "       secondary_cleaner.state.floatbank5_b_level  \\\n",
       "644                                   -399.308354   \n",
       "1193                                  -450.521700   \n",
       "1194                                  -449.542871   \n",
       "1195                                  -496.783155   \n",
       "1196                                  -499.540325   \n",
       "1682                                  -800.001639   \n",
       "2019                                  -500.400661   \n",
       "2020                                  -499.455708   \n",
       "2236                                  -500.452445   \n",
       "3394                                  -499.908216   \n",
       "3395                                  -500.161562   \n",
       "3396                                  -499.611735   \n",
       "3397                                  -498.021312   \n",
       "3400                                  -494.064445   \n",
       "4215                                  -402.132394   \n",
       "4314                                  -400.638627   \n",
       "4564                                  -500.390274   \n",
       "4652                                  -499.922582   \n",
       "4653                                  -500.423686   \n",
       "4722                                  -500.574345   \n",
       "4723                                  -470.953271   \n",
       "4724                                  -484.275794   \n",
       "4965                                  -500.197658   \n",
       "4966                                  -481.808531   \n",
       "4967                                  -240.872031   \n",
       "4968                                  -746.432635   \n",
       "4969                                  -500.585885   \n",
       "5139                                  -499.845860   \n",
       "5140                                  -500.137454   \n",
       "5784                                  -450.038643   \n",
       "5871                                  -386.843550   \n",
       "5872                                  -449.820792   \n",
       "6016                                  -449.878949   \n",
       "6017                                  -449.899258   \n",
       "6018                                  -449.745174   \n",
       "6019                                  -450.185386   \n",
       "6254                                  -445.274527   \n",
       "6430                                  -450.062637   \n",
       "7050                                  -450.093931   \n",
       "7051                                  -449.969615   \n",
       "7052                                  -449.992990   \n",
       "7053                                  -450.107963   \n",
       "7054                                  -450.263454   \n",
       "7406                                  -449.810833   \n",
       "7518                                  -500.117621   \n",
       "7519                                  -499.773254   \n",
       "7556                                  -499.760094   \n",
       "8665                                  -500.096848   \n",
       "8884                                  -499.793051   \n",
       "8898                                  -497.898119   \n",
       "8899                                  -500.032109   \n",
       "8900                                  -499.903756   \n",
       "8919                                  -500.142881   \n",
       "8920                                  -500.178703   \n",
       "9320                                  -499.761608   \n",
       "9893                                  -499.812437   \n",
       "9894                                  -500.224485   \n",
       "10020                                 -500.127563   \n",
       "12277                                 -500.472409   \n",
       "\n",
       "       secondary_cleaner.state.floatbank6_a_air  \\\n",
       "644                                   24.987274   \n",
       "1193                                  19.971682   \n",
       "1194                                  20.004767   \n",
       "1195                                  19.921634   \n",
       "1196                                  20.039788   \n",
       "1682                                  19.960963   \n",
       "2019                                  15.999356   \n",
       "2020                                  16.026009   \n",
       "2236                                  20.023462   \n",
       "3394                                  24.984095   \n",
       "3395                                  24.958637   \n",
       "3396                                  25.025326   \n",
       "3397                                  24.972537   \n",
       "3400                                  25.024849   \n",
       "4215                                  23.005263   \n",
       "4314                                  23.037383   \n",
       "4564                                  24.919704   \n",
       "4652                                  31.480460   \n",
       "4653                                  30.958862   \n",
       "4722                                  19.972880   \n",
       "4723                                  20.014482   \n",
       "4724                                  19.991623   \n",
       "4965                                  19.986522   \n",
       "4966                                  19.941542   \n",
       "4967                                   2.319944   \n",
       "4968                                   0.259505   \n",
       "4969                                  19.998121   \n",
       "5139                                  25.001965   \n",
       "5140                                  25.006088   \n",
       "5784                                  25.008392   \n",
       "5871                                  25.021448   \n",
       "5872                                  24.979159   \n",
       "6016                                  24.999677   \n",
       "6017                                  24.992970   \n",
       "6018                                  24.990666   \n",
       "6019                                  24.999566   \n",
       "6254                                  25.009526   \n",
       "6430                                  25.004345   \n",
       "7050                                  29.985963   \n",
       "7051                                  30.007134   \n",
       "7052                                  30.014246   \n",
       "7053                                  29.989302   \n",
       "7054                                  30.004095   \n",
       "7406                                  29.998974   \n",
       "7518                                  19.990086   \n",
       "7519                                  19.981354   \n",
       "7556                                  17.989344   \n",
       "8665                                  14.996873   \n",
       "8884                                  14.953517   \n",
       "8898                                  12.381912   \n",
       "8899                                  15.012719   \n",
       "8900                                  15.005399   \n",
       "8919                                  14.996052   \n",
       "8920                                  14.985647   \n",
       "9320                                  15.009898   \n",
       "9893                                  10.981683   \n",
       "9894                                  10.997373   \n",
       "10020                                 10.996343   \n",
       "12277                                 25.002424   \n",
       "\n",
       "       secondary_cleaner.state.floatbank6_a_level  \n",
       "644                                   -399.619808  \n",
       "1193                                  -500.685521  \n",
       "1194                                  -500.137068  \n",
       "1195                                  -500.769011  \n",
       "1196                                  -499.932405  \n",
       "1682                                  -500.498255  \n",
       "2019                                  -509.449510  \n",
       "2020                                  -492.939580  \n",
       "2236                                  -500.365653  \n",
       "3394                                  -499.000500  \n",
       "3395                                  -499.600205  \n",
       "3396                                  -499.049808  \n",
       "3397                                  -499.106327  \n",
       "3400                                  -495.267385  \n",
       "4215                                  -502.319385  \n",
       "4314                                  -498.990216  \n",
       "4564                                  -502.454004  \n",
       "4652                                  -501.107878  \n",
       "4653                                  -498.808359  \n",
       "4722                                  -601.259265  \n",
       "4723                                  -591.060032  \n",
       "4724                                  -609.490127  \n",
       "4965                                  -602.355855  \n",
       "4966                                  -595.360820  \n",
       "4967                                  -642.122184  \n",
       "4968                                  -809.057864  \n",
       "4969                                  -808.143270  \n",
       "5139                                  -599.982239  \n",
       "5140                                  -600.019283  \n",
       "5784                                  -500.220216  \n",
       "5871                                  -499.457263  \n",
       "5872                                  -501.400800  \n",
       "6016                                  -500.240701  \n",
       "6017                                  -499.427043  \n",
       "6018                                  -500.726526  \n",
       "6019                                  -500.059471  \n",
       "6254                                  -499.299024  \n",
       "6430                                  -497.467197  \n",
       "7050                                  -500.076336  \n",
       "7051                                  -499.524684  \n",
       "7052                                  -500.261487  \n",
       "7053                                  -499.837103  \n",
       "7054                                  -499.921109  \n",
       "7406                                  -499.541003  \n",
       "7518                                  -500.215013  \n",
       "7519                                  -499.611812  \n",
       "7556                                  -502.178010  \n",
       "8665                                  -499.676482  \n",
       "8884                                  -499.842959  \n",
       "8898                                  -504.537397  \n",
       "8899                                  -500.166375  \n",
       "8900                                  -499.665857  \n",
       "8919                                  -500.206741  \n",
       "8920                                  -499.120826  \n",
       "9320                                  -499.872109  \n",
       "9893                                  -499.607997  \n",
       "9894                                  -500.277262  \n",
       "10020                                 -500.089294  \n",
       "12277                                 -503.326766  \n",
       "\n",
       "[59 rows x 87 columns]"
      ]
     },
     "execution_count": 46,
     "metadata": {},
     "output_type": "execute_result"
    }
   ],
   "source": [
    "# получение строк с аномальными значениями на этапе final\n",
    "good_gold_recovery_train.loc[good_gold_recovery_train['final.output.concentrate_au'] < 1]"
   ]
  },
  {
   "cell_type": "markdown",
   "metadata": {},
   "source": [
    "<div style=\"border:solid blue 2px; padding: 20px\">\n",
    "    \n",
    "`drop()` удалим аномальные значения по одному признаку в этапе, потому что все остальные аномалии\n",
    "    \n",
    "находятся в тех же индексах\n",
    "    \n",
    " \n",
    "    \n",
    "</div> "
   ]
  },
  {
   "cell_type": "code",
   "execution_count": 47,
   "metadata": {},
   "outputs": [],
   "source": [
    "# удаление аномальных значений\n",
    "good_gold_recovery_train.drop(index = good_gold_recovery_train[good_gold_recovery_train['rougher.output.concentrate_au'] < 1].index, axis=0, inplace=True)\n",
    "good_gold_recovery_train.drop(index = good_gold_recovery_train[good_gold_recovery_train['primary_cleaner.output.concentrate_au'] < 1].index, axis=0, inplace=True)\n",
    "good_gold_recovery_train.drop(index = good_gold_recovery_train[good_gold_recovery_train['final.output.concentrate_au'] < 1].index, axis=0, inplace=True)"
   ]
  },
  {
   "cell_type": "markdown",
   "metadata": {},
   "source": [
    "<div style=\"border:solid blue 2px; padding: 20px\">\n",
    "\n",
    "### Вывод\n",
    "\n",
    "\n",
    "    \n",
    "    \n",
    "</div> "
   ]
  },
  {
   "cell_type": "markdown",
   "metadata": {},
   "source": [
    "<div style=\"border:solid blue 2px; padding: 20px\">\n",
    "    \n",
    "Концентрация металлов `_au`, `_ag`, `_pb` на этапах очистки меняется в соответствие с техпроцессом\n",
    "    \n",
    "- `rougher.output.concentrate`\n",
    "\n",
    "- `primary_cleaner.output.concentrate`  \n",
    "    \n",
    "- `final.output.concentrate`\n",
    "    \n",
    "Размеры гранул сырья на обучающей и тестовой выборках не имеют значительных отличий\n",
    "    \n",
    "Обнаружены аномальные значения в суммарных концентрациях всех веществ на разных стадиях\n",
    "    \n",
    "Наблюдения близкие или равные `0` нулю, скорее всего это связано \n",
    "    \n",
    "со сбоем измерительного оборудования, `0` нулевые значения исключили из данных.\n",
    "    \n",
    "\n",
    "    \n",
    "</div> "
   ]
  },
  {
   "cell_type": "markdown",
   "metadata": {},
   "source": [
    "## Модель"
   ]
  },
  {
   "cell_type": "markdown",
   "metadata": {},
   "source": [
    "<div style=\"border:solid blue 2px; padding: 20px\">\n",
    "    \n",
    "По условию прототип модели ML должен предсказать восстановление золота из руды\n",
    "    \n",
    "- `rougher.output.recovery` \n",
    "    \n",
    "- `final.output.recovery`\n",
    "    \n",
    "</div> "
   ]
  },
  {
   "cell_type": "markdown",
   "metadata": {},
   "source": [
    "<div style=\"border:solid blue 2px; padding: 20px\">\n",
    "    \n",
    "`rougher_recovery` отберём актуальные признаки по которым будет обучаться модель предсказания\n",
    "    \n",
    "`rougher.output.recovery`\n",
    "    \n",
    "    \n",
    "    \n",
    "</div> "
   ]
  },
  {
   "cell_type": "code",
   "execution_count": 48,
   "metadata": {},
   "outputs": [],
   "source": [
    "# признаки rougher из good_gold_recovery_train\n",
    "rougher_recovery = good_gold_recovery_train.loc[ :,good_gold_recovery_train.columns.str.startswith('rougher')]"
   ]
  },
  {
   "cell_type": "markdown",
   "metadata": {},
   "source": [
    "<div style=\"border:solid blue 2px; padding: 20px\">\n",
    "    \n",
    "    \n",
    "Проверим нет ли в них утечки целевого признака `target leakage`\n",
    "\n",
    "</div> "
   ]
  },
  {
   "cell_type": "code",
   "execution_count": 49,
   "metadata": {},
   "outputs": [
    {
     "data": {
      "text/plain": [
       "['rougher.calculation.au_pb_ratio',\n",
       " 'rougher.calculation.floatbank10_sulfate_to_au_feed',\n",
       " 'rougher.calculation.floatbank11_sulfate_to_au_feed',\n",
       " 'rougher.calculation.sulfate_to_au_concentrate',\n",
       " 'rougher.output.concentrate_ag',\n",
       " 'rougher.output.concentrate_au',\n",
       " 'rougher.output.concentrate_pb',\n",
       " 'rougher.output.concentrate_sol',\n",
       " 'rougher.output.tail_ag',\n",
       " 'rougher.output.tail_au',\n",
       " 'rougher.output.tail_pb',\n",
       " 'rougher.output.tail_sol']"
      ]
     },
     "execution_count": 49,
     "metadata": {},
     "output_type": "execute_result"
    }
   ],
   "source": [
    "# получение признаков\n",
    "rougher_target_leakage = set(rougher_recovery.columns) - set(good_gold_recovery_test.columns)\n",
    "rougher_target_leakage.remove('rougher.output.recovery')\n",
    "sorted(rougher_target_leakage)"
   ]
  },
  {
   "cell_type": "markdown",
   "metadata": {},
   "source": [
    "<div style=\"border:solid blue 2px; padding: 20px\">\n",
    "    \n",
    "    \n",
    "В данном случае использовать отсутствующие в тесте признаки нецелесообразно, \n",
    "\n",
    "потому что будет утечка целевого признака, т.к. в них содержаться сами целевые признаки \n",
    "\n",
    "и признаки которые могут сильно на них влиять. \n",
    "\n",
    "Но эти признаки не доступны на этапе прогнозирования, то есть в начале процесса. \n",
    "\n",
    "Если при предсказании подать модели набор признаков отличающийся от тех что были на обучении,\n",
    "\n",
    "то будет ошибка.\n",
    "\n",
    "</div> "
   ]
  },
  {
   "cell_type": "code",
   "execution_count": 50,
   "metadata": {},
   "outputs": [
    {
     "name": "stdout",
     "output_type": "stream",
     "text": [
      "<class 'pandas.core.frame.DataFrame'>\n",
      "Int64Index: 13595 entries, 0 to 14148\n",
      "Data columns (total 23 columns):\n",
      " #   Column                              Non-Null Count  Dtype  \n",
      "---  ------                              --------------  -----  \n",
      " 0   rougher.input.feed_ag               13595 non-null  float64\n",
      " 1   rougher.input.feed_pb               13595 non-null  float64\n",
      " 2   rougher.input.feed_rate             13595 non-null  float64\n",
      " 3   rougher.input.feed_size             13595 non-null  float64\n",
      " 4   rougher.input.feed_sol              13595 non-null  float64\n",
      " 5   rougher.input.feed_au               13595 non-null  float64\n",
      " 6   rougher.input.floatbank10_sulfate   13595 non-null  float64\n",
      " 7   rougher.input.floatbank10_xanthate  13595 non-null  float64\n",
      " 8   rougher.input.floatbank11_sulfate   13595 non-null  float64\n",
      " 9   rougher.input.floatbank11_xanthate  13595 non-null  float64\n",
      " 10  rougher.output.recovery             13595 non-null  float64\n",
      " 11  rougher.state.floatbank10_a_air     13595 non-null  float64\n",
      " 12  rougher.state.floatbank10_a_level   13595 non-null  float64\n",
      " 13  rougher.state.floatbank10_b_air     13595 non-null  float64\n",
      " 14  rougher.state.floatbank10_b_level   13595 non-null  float64\n",
      " 15  rougher.state.floatbank10_c_air     13595 non-null  float64\n",
      " 16  rougher.state.floatbank10_c_level   13595 non-null  float64\n",
      " 17  rougher.state.floatbank10_d_air     13595 non-null  float64\n",
      " 18  rougher.state.floatbank10_d_level   13595 non-null  float64\n",
      " 19  rougher.state.floatbank10_e_air     13595 non-null  float64\n",
      " 20  rougher.state.floatbank10_e_level   13595 non-null  float64\n",
      " 21  rougher.state.floatbank10_f_air     13595 non-null  float64\n",
      " 22  rougher.state.floatbank10_f_level   13595 non-null  float64\n",
      "dtypes: float64(23)\n",
      "memory usage: 2.5 MB\n"
     ]
    }
   ],
   "source": [
    "# удаление признаков из обучающей выбороки\n",
    "rougher_recovery = rougher_recovery.drop(columns=rougher_target_leakage)\n",
    "rougher_recovery.info()"
   ]
  },
  {
   "cell_type": "markdown",
   "metadata": {},
   "source": [
    "<div style=\"border:solid blue 2px; padding: 20px\">\n",
    "    \n",
    "    \n",
    "Признаки `rougher_recovery` сохраним в отдельных переменных \n",
    "    \n",
    "    \n",
    "- `features_rougher_recovery`\n",
    "    \n",
    "    \n",
    "- `target_rougher_recovery` - целевой признак\n",
    "\n",
    "</div> "
   ]
  },
  {
   "cell_type": "code",
   "execution_count": 51,
   "metadata": {},
   "outputs": [],
   "source": [
    "# сохранение признаков rougher_recovery в отдельных переменных\n",
    "features_rougher_recovery = rougher_recovery.drop(columns=['rougher.output.recovery'])\n",
    "target_rougher_recovery = rougher_recovery['rougher.output.recovery']"
   ]
  },
  {
   "cell_type": "markdown",
   "metadata": {},
   "source": [
    "<div style=\"border:solid blue 2px; padding: 20px\">\n",
    "    \n",
    "`final_recovery` отберём актуальные признаки по которым будет обучаться модель предсказания\n",
    "    \n",
    "`final.output.recovery`, т.е. берём все признаки обучающей выборки\n",
    "    \n",
    "    \n",
    "    \n",
    "</div> "
   ]
  },
  {
   "cell_type": "code",
   "execution_count": 52,
   "metadata": {},
   "outputs": [],
   "source": [
    "# признаки final из good_gold_recovery_train\n",
    "final_recovery = good_gold_recovery_train"
   ]
  },
  {
   "cell_type": "markdown",
   "metadata": {},
   "source": [
    "<div style=\"border:solid blue 2px; padding: 20px\">\n",
    "    \n",
    "    \n",
    "Утечку целевого признака `target leakage` [находили выше п1.7](#п1.7)\n",
    "\n",
    "</div> "
   ]
  },
  {
   "cell_type": "code",
   "execution_count": 53,
   "metadata": {},
   "outputs": [
    {
     "data": {
      "text/plain": [
       "['final.output.concentrate_ag',\n",
       " 'final.output.concentrate_au',\n",
       " 'final.output.concentrate_pb',\n",
       " 'final.output.concentrate_sol',\n",
       " 'final.output.tail_ag',\n",
       " 'final.output.tail_au',\n",
       " 'final.output.tail_pb',\n",
       " 'final.output.tail_sol',\n",
       " 'primary_cleaner.output.concentrate_ag',\n",
       " 'primary_cleaner.output.concentrate_au',\n",
       " 'primary_cleaner.output.concentrate_pb',\n",
       " 'primary_cleaner.output.concentrate_sol',\n",
       " 'primary_cleaner.output.tail_ag',\n",
       " 'primary_cleaner.output.tail_au',\n",
       " 'primary_cleaner.output.tail_pb',\n",
       " 'primary_cleaner.output.tail_sol',\n",
       " 'rougher.calculation.au_pb_ratio',\n",
       " 'rougher.calculation.floatbank10_sulfate_to_au_feed',\n",
       " 'rougher.calculation.floatbank11_sulfate_to_au_feed',\n",
       " 'rougher.calculation.sulfate_to_au_concentrate',\n",
       " 'rougher.output.concentrate_ag',\n",
       " 'rougher.output.concentrate_au',\n",
       " 'rougher.output.concentrate_pb',\n",
       " 'rougher.output.concentrate_sol',\n",
       " 'rougher.output.recovery',\n",
       " 'rougher.output.tail_ag',\n",
       " 'rougher.output.tail_au',\n",
       " 'rougher.output.tail_pb',\n",
       " 'rougher.output.tail_sol',\n",
       " 'secondary_cleaner.output.tail_ag',\n",
       " 'secondary_cleaner.output.tail_au',\n",
       " 'secondary_cleaner.output.tail_pb',\n",
       " 'secondary_cleaner.output.tail_sol']"
      ]
     },
     "execution_count": 53,
     "metadata": {},
     "output_type": "execute_result"
    }
   ],
   "source": [
    "# получение признаков\n",
    "final_target_leakage = set(final_recovery.columns) - set(good_gold_recovery_test.columns)\n",
    "final_target_leakage.remove('final.output.recovery')\n",
    "sorted(final_target_leakage)"
   ]
  },
  {
   "cell_type": "code",
   "execution_count": 54,
   "metadata": {},
   "outputs": [
    {
     "name": "stdout",
     "output_type": "stream",
     "text": [
      "<class 'pandas.core.frame.DataFrame'>\n",
      "Int64Index: 13595 entries, 0 to 14148\n",
      "Data columns (total 53 columns):\n",
      " #   Column                                      Non-Null Count  Dtype  \n",
      "---  ------                                      --------------  -----  \n",
      " 0   final.output.recovery                       13595 non-null  float64\n",
      " 1   primary_cleaner.input.sulfate               13595 non-null  float64\n",
      " 2   primary_cleaner.input.depressant            13595 non-null  float64\n",
      " 3   primary_cleaner.input.feed_size             13595 non-null  float64\n",
      " 4   primary_cleaner.input.xanthate              13595 non-null  float64\n",
      " 5   primary_cleaner.state.floatbank8_a_air      13595 non-null  float64\n",
      " 6   primary_cleaner.state.floatbank8_a_level    13595 non-null  float64\n",
      " 7   primary_cleaner.state.floatbank8_b_air      13595 non-null  float64\n",
      " 8   primary_cleaner.state.floatbank8_b_level    13595 non-null  float64\n",
      " 9   primary_cleaner.state.floatbank8_c_air      13595 non-null  float64\n",
      " 10  primary_cleaner.state.floatbank8_c_level    13595 non-null  float64\n",
      " 11  primary_cleaner.state.floatbank8_d_air      13595 non-null  float64\n",
      " 12  primary_cleaner.state.floatbank8_d_level    13595 non-null  float64\n",
      " 13  rougher.input.feed_ag                       13595 non-null  float64\n",
      " 14  rougher.input.feed_pb                       13595 non-null  float64\n",
      " 15  rougher.input.feed_rate                     13595 non-null  float64\n",
      " 16  rougher.input.feed_size                     13595 non-null  float64\n",
      " 17  rougher.input.feed_sol                      13595 non-null  float64\n",
      " 18  rougher.input.feed_au                       13595 non-null  float64\n",
      " 19  rougher.input.floatbank10_sulfate           13595 non-null  float64\n",
      " 20  rougher.input.floatbank10_xanthate          13595 non-null  float64\n",
      " 21  rougher.input.floatbank11_sulfate           13595 non-null  float64\n",
      " 22  rougher.input.floatbank11_xanthate          13595 non-null  float64\n",
      " 23  rougher.state.floatbank10_a_air             13595 non-null  float64\n",
      " 24  rougher.state.floatbank10_a_level           13595 non-null  float64\n",
      " 25  rougher.state.floatbank10_b_air             13595 non-null  float64\n",
      " 26  rougher.state.floatbank10_b_level           13595 non-null  float64\n",
      " 27  rougher.state.floatbank10_c_air             13595 non-null  float64\n",
      " 28  rougher.state.floatbank10_c_level           13595 non-null  float64\n",
      " 29  rougher.state.floatbank10_d_air             13595 non-null  float64\n",
      " 30  rougher.state.floatbank10_d_level           13595 non-null  float64\n",
      " 31  rougher.state.floatbank10_e_air             13595 non-null  float64\n",
      " 32  rougher.state.floatbank10_e_level           13595 non-null  float64\n",
      " 33  rougher.state.floatbank10_f_air             13595 non-null  float64\n",
      " 34  rougher.state.floatbank10_f_level           13595 non-null  float64\n",
      " 35  secondary_cleaner.state.floatbank2_a_air    13595 non-null  float64\n",
      " 36  secondary_cleaner.state.floatbank2_a_level  13595 non-null  float64\n",
      " 37  secondary_cleaner.state.floatbank2_b_air    13595 non-null  float64\n",
      " 38  secondary_cleaner.state.floatbank2_b_level  13595 non-null  float64\n",
      " 39  secondary_cleaner.state.floatbank3_a_air    13595 non-null  float64\n",
      " 40  secondary_cleaner.state.floatbank3_a_level  13595 non-null  float64\n",
      " 41  secondary_cleaner.state.floatbank3_b_air    13595 non-null  float64\n",
      " 42  secondary_cleaner.state.floatbank3_b_level  13595 non-null  float64\n",
      " 43  secondary_cleaner.state.floatbank4_a_air    13595 non-null  float64\n",
      " 44  secondary_cleaner.state.floatbank4_a_level  13595 non-null  float64\n",
      " 45  secondary_cleaner.state.floatbank4_b_air    13595 non-null  float64\n",
      " 46  secondary_cleaner.state.floatbank4_b_level  13595 non-null  float64\n",
      " 47  secondary_cleaner.state.floatbank5_a_air    13595 non-null  float64\n",
      " 48  secondary_cleaner.state.floatbank5_a_level  13595 non-null  float64\n",
      " 49  secondary_cleaner.state.floatbank5_b_air    13595 non-null  float64\n",
      " 50  secondary_cleaner.state.floatbank5_b_level  13595 non-null  float64\n",
      " 51  secondary_cleaner.state.floatbank6_a_air    13595 non-null  float64\n",
      " 52  secondary_cleaner.state.floatbank6_a_level  13595 non-null  float64\n",
      "dtypes: float64(53)\n",
      "memory usage: 5.6 MB\n"
     ]
    }
   ],
   "source": [
    "# удаление признаков из обучающей выбороки\n",
    "final_recovery = final_recovery.drop(columns=final_target_leakage)\n",
    "final_recovery = final_recovery.drop(columns='date')\n",
    "final_recovery.info()"
   ]
  },
  {
   "cell_type": "markdown",
   "metadata": {},
   "source": [
    "<div style=\"border:solid blue 2px; padding: 20px\">\n",
    "    \n",
    "    \n",
    "Признаки `final_recovery` сохраним в отдельных переменных \n",
    "    \n",
    "    \n",
    "- `features_final_recovery`\n",
    "    \n",
    "    \n",
    "- `target_final_recovery` - целевой признак\n",
    "\n",
    "</div> "
   ]
  },
  {
   "cell_type": "code",
   "execution_count": 55,
   "metadata": {},
   "outputs": [],
   "source": [
    "# сохранение признаков final_recovery в отдельных переменных\n",
    "features_final_recovery = final_recovery.drop(columns=['final.output.recovery'])\n",
    "target_final_recovery = final_recovery['final.output.recovery']"
   ]
  },
  {
   "cell_type": "markdown",
   "metadata": {},
   "source": [
    "<div style=\"border:solid blue 2px; padding: 20px\">\n",
    "    \n",
    "`rougher_output_recovery` `final_output_recovery` добавим целевые признаки из `gold_recovery_full`\n",
    "    \n",
    "    \n",
    "</div> "
   ]
  },
  {
   "cell_type": "code",
   "execution_count": 56,
   "metadata": {},
   "outputs": [],
   "source": [
    "# добавляем в test целеыве признаки из gold_recovery_full\n",
    "good_gold_recovery_test = good_gold_recovery_test.set_index([good_gold_recovery_test['date']]) \n",
    "good_gold_recovery_test['rougher.output.recovery'] = gold_recovery_full.set_index([gold_recovery_full['date']])['rougher.output.recovery']\n",
    "good_gold_recovery_test['final.output.recovery'] = gold_recovery_full.set_index([gold_recovery_full['date']])['final.output.recovery']"
   ]
  },
  {
   "cell_type": "code",
   "execution_count": 57,
   "metadata": {},
   "outputs": [
    {
     "data": {
      "text/plain": [
       "(5290,)"
      ]
     },
     "execution_count": 57,
     "metadata": {},
     "output_type": "execute_result"
    }
   ],
   "source": [
    "# признаки final из good_gold_recovery_test\n",
    "test_target_final_recovery = good_gold_recovery_test['final.output.recovery']\n",
    "test_target_final_recovery.shape"
   ]
  },
  {
   "cell_type": "code",
   "execution_count": 58,
   "metadata": {},
   "outputs": [
    {
     "data": {
      "text/plain": [
       "(5290, 52)"
      ]
     },
     "execution_count": 58,
     "metadata": {},
     "output_type": "execute_result"
    }
   ],
   "source": [
    "# признаки final из good_gold_recovery_test\n",
    "test_features_final_recovery = good_gold_recovery_test.drop(columns=['date','final.output.recovery','rougher.output.recovery'])\n",
    "test_features_final_recovery.shape"
   ]
  },
  {
   "cell_type": "code",
   "execution_count": 59,
   "metadata": {},
   "outputs": [],
   "source": [
    "# признаки этапа final_recovery\n",
    "columns_final_recovery = set(test_features_final_recovery.columns) - set(features_rougher_recovery.columns)"
   ]
  },
  {
   "cell_type": "code",
   "execution_count": 60,
   "metadata": {},
   "outputs": [
    {
     "data": {
      "text/plain": [
       "(5290, 22)"
      ]
     },
     "execution_count": 60,
     "metadata": {},
     "output_type": "execute_result"
    }
   ],
   "source": [
    "# признаки rougher из good_gold_recovery_test\n",
    "test_features_rougher_recovery = test_features_final_recovery.drop(columns=columns_final_recovery)\n",
    "test_features_rougher_recovery.shape"
   ]
  },
  {
   "cell_type": "code",
   "execution_count": 61,
   "metadata": {},
   "outputs": [
    {
     "data": {
      "text/plain": [
       "(5290,)"
      ]
     },
     "execution_count": 61,
     "metadata": {},
     "output_type": "execute_result"
    }
   ],
   "source": [
    "# признаки rougher из good_gold_recovery_test\n",
    "test_target_rougher_recovery = good_gold_recovery_test['rougher.output.recovery']\n",
    "test_target_rougher_recovery.shape"
   ]
  },
  {
   "cell_type": "markdown",
   "metadata": {},
   "source": [
    "<div style=\"border:solid blue 2px; padding: 20px\">\n",
    "    \n",
    "Введём новую метрику качества — `Symmetric Mean Absolute Percentage Error` \n",
    "    \n",
    "симметричное среднее абсолютное процентное отклонение\n",
    "    \n",
    "Она похожа на `MAE`, но выражается не в абсолютных величинах, а в относительных. \n",
    "    \n",
    "Cимметричная, т.к. она одинаково учитывает масштаб и целевого признака, и предсказания\n",
    "    \n",
    "    \n",
    "</div> "
   ]
  },
  {
   "cell_type": "markdown",
   "metadata": {},
   "source": [
    "<div style=\"border:solid blue 2px; padding: 20px\">\n",
    "    \n",
    "Создадим функцию `sMAPE()` c параметрами\n",
    "    \n",
    "- `_answer` значение целевого признака для объекта в выборке, на которой измеряется качество \n",
    "    \n",
    "- `_prediction` значение предсказания для объекта в выборке, на которой измеряется качество\n",
    "    \n",
    "в теле функции рассчитываем количество объектов в выборке `n` и \n",
    "    \n",
    "эффективность обогащения чернового `25%`\n",
    "    \n",
    "и финального концентрата `75%`\n",
    "    \n",
    "\n",
    "    \n",
    "</div> "
   ]
  },
  {
   "cell_type": "markdown",
   "metadata": {},
   "source": [
    "<a id='бейзлайн'></a>"
   ]
  },
  {
   "cell_type": "code",
   "execution_count": 64,
   "metadata": {},
   "outputs": [],
   "source": [
    "from sklearn.model_selection import GridSearchCV"
   ]
  },
  {
   "cell_type": "code",
   "execution_count": 65,
   "metadata": {},
   "outputs": [],
   "source": [
    "def sMAPE(y_test, y_pred):\n",
    "    n = y_test.shape[0]\n",
    "    return ((2*abs(y_test - y_pred)/(abs(y_test) + abs(y_pred))).sum() * 100 / n)"
   ]
  },
  {
   "cell_type": "code",
   "execution_count": 66,
   "metadata": {},
   "outputs": [],
   "source": [
    "def total_sMAPE(rougher_sMAPE,final_sMAPE):\n",
    "    return rougher_sMAPE * 0.25 + final_sMAPE * 0.75"
   ]
  },
  {
   "cell_type": "markdown",
   "metadata": {},
   "source": [
    "<div style=\"border:solid blue 2px; padding: 20px\">\n",
    "    \n",
    "    \n",
    "Посчитаем `sMAPE()` для константной модели на медианных значениях \n",
    "    \n",
    "`rougher.output.recovery` `final.output.recovery`\n",
    "    \n",
    "</div> "
   ]
  },
  {
   "cell_type": "code",
   "execution_count": 67,
   "metadata": {},
   "outputs": [
    {
     "name": "stdout",
     "output_type": "stream",
     "text": [
      "total_sMAPE константной модели: 9.338500682781637\n"
     ]
    }
   ],
   "source": [
    "# подсчёт sMAPE константной модели\n",
    "constant_rougher_sMAPE = sMAPE(rougher_recovery['rougher.output.recovery'], rougher_recovery['rougher.output.recovery'].median())\n",
    "constant_final_sMAPE = sMAPE(final_recovery['final.output.recovery'], final_recovery['final.output.recovery'].median())\n",
    "print('total_sMAPE константной модели:', total_sMAPE(constant_rougher_sMAPE,constant_final_sMAPE))"
   ]
  },
  {
   "cell_type": "code",
   "execution_count": 68,
   "metadata": {},
   "outputs": [],
   "source": [
    "scorer = make_scorer(sMAPE,greater_is_better=False)"
   ]
  },
  {
   "cell_type": "markdown",
   "metadata": {},
   "source": [
    "<div style=\"border:solid blue 2px; padding: 20px\">\n",
    "    \n",
    "    \n",
    "Обучим разные модели для **количественного целевого признака** - `recovery` - задача регрессии\n",
    "\n",
    "</div> "
   ]
  },
  {
   "cell_type": "markdown",
   "metadata": {},
   "source": [
    "<div style=\"border:solid blue 2px; padding: 20px\">\n",
    "    \n",
    " \n",
    "`total_sMAPE()` расчёт для модели `DecisionTreeRegressor`\n",
    "\n",
    "    \n",
    "    \n",
    "</div> "
   ]
  },
  {
   "cell_type": "code",
   "execution_count": 69,
   "metadata": {},
   "outputs": [],
   "source": [
    "tree = DecisionTreeRegressor()"
   ]
  },
  {
   "cell_type": "code",
   "execution_count": 70,
   "metadata": {},
   "outputs": [],
   "source": [
    "parametrs_dtr = {'max_depth': range(1,10)}"
   ]
  },
  {
   "cell_type": "code",
   "execution_count": 71,
   "metadata": {},
   "outputs": [
    {
     "name": "stdout",
     "output_type": "stream",
     "text": [
      "Модель DecisionTreeRegressor(max_depth=6)\n",
      "Оценка \"rougher_sMAPE\" -6.943420038330563\n",
      "CPU times: user 7.04 s, sys: 0 ns, total: 7.04 s\n",
      "Wall time: 7.04 s\n"
     ]
    }
   ],
   "source": [
    "%%time\n",
    "\n",
    "rougher = GridSearchCV(tree, parametrs_dtr,scoring=scorer, cv=5)\n",
    "rougher.fit(features_rougher_recovery, target_rougher_recovery)\n",
    "print('Модель', rougher.best_estimator_)\n",
    "print('Оценка \"rougher_sMAPE\"', rougher.best_score_)"
   ]
  },
  {
   "cell_type": "code",
   "execution_count": 72,
   "metadata": {},
   "outputs": [
    {
     "name": "stdout",
     "output_type": "stream",
     "text": [
      "Модель DecisionTreeRegressor(max_depth=3)\n",
      "Оценка \"final_sMAPE\" -9.237034491615805\n",
      "CPU times: user 11.3 s, sys: 0 ns, total: 11.3 s\n",
      "Wall time: 11.3 s\n"
     ]
    }
   ],
   "source": [
    "%%time\n",
    "\n",
    "final = GridSearchCV(tree, parametrs_dtr,scoring=scorer, cv=5)\n",
    "final.fit(features_final_recovery, target_final_recovery)\n",
    "print('Модель', final.best_estimator_)\n",
    "print('Оценка \"final_sMAPE\"', final.best_score_)"
   ]
  },
  {
   "cell_type": "code",
   "execution_count": 73,
   "metadata": {},
   "outputs": [
    {
     "data": {
      "text/plain": [
       "-8.663630878294494"
      ]
     },
     "execution_count": 73,
     "metadata": {},
     "output_type": "execute_result"
    }
   ],
   "source": [
    "total_sMAPE(rougher.best_score_,final.best_score_)"
   ]
  },
  {
   "cell_type": "markdown",
   "metadata": {},
   "source": [
    "<div style=\"border:solid blue 2px; padding: 20px\">\n",
    "    \n",
    " \n",
    "`total_sMAPE()` расчёт для модели `RandomForestRegressor`\n",
    "\n",
    "    \n",
    "    \n",
    "</div> "
   ]
  },
  {
   "cell_type": "code",
   "execution_count": 74,
   "metadata": {},
   "outputs": [],
   "source": [
    "forest = RandomForestRegressor()"
   ]
  },
  {
   "cell_type": "code",
   "execution_count": 75,
   "metadata": {},
   "outputs": [],
   "source": [
    "parametrs_rfr = {'n_estimators': range (10,15),'max_depth': range (1,10, 2)}#,'min_samples_leaf': range (1,10),'min_samples_split': range (2,10,2)}"
   ]
  },
  {
   "cell_type": "code",
   "execution_count": 76,
   "metadata": {},
   "outputs": [
    {
     "name": "stdout",
     "output_type": "stream",
     "text": [
      "Модель RandomForestRegressor(max_depth=5, n_estimators=11)\n",
      "Оценка \"rougher_sMAPE\" -6.5093855055529435\n",
      "CPU times: user 1min 37s, sys: 115 ms, total: 1min 37s\n",
      "Wall time: 1min 39s\n"
     ]
    }
   ],
   "source": [
    "%%time\n",
    "\n",
    "rougher = GridSearchCV(forest, parametrs_rfr,scoring=scorer, cv=5)\n",
    "rougher.fit(features_rougher_recovery, target_rougher_recovery)\n",
    "print('Модель', rougher.best_estimator_)\n",
    "print('Оценка \"rougher_sMAPE\"', rougher.best_score_)"
   ]
  },
  {
   "cell_type": "code",
   "execution_count": 77,
   "metadata": {},
   "outputs": [
    {
     "name": "stdout",
     "output_type": "stream",
     "text": [
      "Модель RandomForestRegressor(max_depth=3, n_estimators=11)\n",
      "Оценка \"rougher_sMAPE\" -8.938002300071208\n",
      "CPU times: user 3min 41s, sys: 123 ms, total: 3min 41s\n",
      "Wall time: 3min 45s\n"
     ]
    }
   ],
   "source": [
    "%%time\n",
    "\n",
    "final = GridSearchCV(forest, parametrs_rfr,scoring=scorer, cv=5)\n",
    "final.fit(features_final_recovery, target_final_recovery)\n",
    "print('Модель', final.best_estimator_)\n",
    "print('Оценка \"rougher_sMAPE\"', final.best_score_)"
   ]
  },
  {
   "cell_type": "code",
   "execution_count": 78,
   "metadata": {},
   "outputs": [
    {
     "data": {
      "text/plain": [
       "-8.330848101441642"
      ]
     },
     "execution_count": 78,
     "metadata": {},
     "output_type": "execute_result"
    }
   ],
   "source": [
    "total_sMAPE(rougher.best_score_,final.best_score_)"
   ]
  },
  {
   "cell_type": "markdown",
   "metadata": {},
   "source": [
    "<div style=\"border:solid blue 2px; padding: 20px\">\n",
    "    \n",
    " \n",
    "`total_sMAPE()` расчёт для модели `LinearRegression`\n",
    "\n",
    "    \n",
    "    \n",
    "</div> "
   ]
  },
  {
   "cell_type": "code",
   "execution_count": 79,
   "metadata": {},
   "outputs": [],
   "source": [
    "model_lr = LinearRegression()"
   ]
  },
  {
   "cell_type": "code",
   "execution_count": 80,
   "metadata": {},
   "outputs": [],
   "source": [
    "parametrs_lr = {}"
   ]
  },
  {
   "cell_type": "code",
   "execution_count": 81,
   "metadata": {},
   "outputs": [
    {
     "name": "stdout",
     "output_type": "stream",
     "text": [
      "Модель LinearRegression()\n",
      "Оценка \"rougher_sMAPE\" -6.671099589842845\n",
      "CPU times: user 483 ms, sys: 537 ms, total: 1.02 s\n",
      "Wall time: 1e+03 ms\n"
     ]
    }
   ],
   "source": [
    "%%time\n",
    "\n",
    "rougher = GridSearchCV(model_lr, parametrs_lr,scoring=scorer, cv=5)\n",
    "rougher.fit(features_rougher_recovery, target_rougher_recovery)\n",
    "print('Модель', rougher.best_estimator_)\n",
    "print('Оценка \"rougher_sMAPE\"', rougher.best_score_)"
   ]
  },
  {
   "cell_type": "code",
   "execution_count": 82,
   "metadata": {},
   "outputs": [
    {
     "name": "stdout",
     "output_type": "stream",
     "text": [
      "Модель LinearRegression()\n",
      "Оценка \"rougher_sMAPE\" -11.015430018445096\n",
      "CPU times: user 1.07 s, sys: 994 ms, total: 2.06 s\n",
      "Wall time: 2.09 s\n"
     ]
    }
   ],
   "source": [
    "%%time\n",
    "\n",
    "final = GridSearchCV(model_lr, parametrs_lr,scoring=scorer, cv=5)\n",
    "final.fit(features_final_recovery, target_final_recovery)\n",
    "print('Модель', final.best_estimator_)\n",
    "print('Оценка \"rougher_sMAPE\"', final.best_score_)"
   ]
  },
  {
   "cell_type": "code",
   "execution_count": 83,
   "metadata": {},
   "outputs": [
    {
     "data": {
      "text/plain": [
       "-9.929347411294534"
      ]
     },
     "execution_count": 83,
     "metadata": {},
     "output_type": "execute_result"
    }
   ],
   "source": [
    "total_sMAPE(rougher.best_score_,final.best_score_)"
   ]
  },
  {
   "cell_type": "markdown",
   "metadata": {},
   "source": [
    "<div style=\"border:solid blue 2px; padding: 20px\">\n",
    "\n",
    "### Вывод\n",
    "\n",
    "\n",
    "    \n",
    "    \n",
    "</div> "
   ]
  },
  {
   "cell_type": "markdown",
   "metadata": {},
   "source": [
    "<div style=\"border:solid blue 2px; padding: 20px\">\n",
    "    \n",
    " \n",
    "`sMAPE()` для модели `RandomForestRegressor` на обучающей выборке немного лучше чем у константной \n",
    "    \n",
    "    \n",
    "- `train_constant_model` - `9.338`\n",
    "    \n",
    "    \n",
    "- `DecisionTreeRegressor` - `8.666`\n",
    "    \n",
    "    \n",
    "- `RandomForestRegressor` - `8.362`\n",
    "    \n",
    "    \n",
    "- `LinearRegression` - `9.929`\n",
    "\n",
    "    \n",
    "    \n",
    "</div> "
   ]
  },
  {
   "cell_type": "code",
   "execution_count": 102,
   "metadata": {},
   "outputs": [],
   "source": [
    "from sklearn.dummy import DummyRegressor"
   ]
  },
  {
   "cell_type": "code",
   "execution_count": 103,
   "metadata": {},
   "outputs": [
    {
     "data": {
      "text/plain": [
       "9.450411787424988"
      ]
     },
     "execution_count": 103,
     "metadata": {},
     "output_type": "execute_result"
    }
   ],
   "source": [
    "dummy_rougher = DummyRegressor(strategy=\"median\")\n",
    "dummy_rougher.fit(features_rougher_recovery, target_rougher_recovery)\n",
    "dummy_rougher_prediction = dummy_rougher.predict(test_features_rougher_recovery)\n",
    "dummy_final = DummyRegressor(strategy=\"median\")\n",
    "dummy_final.fit(features_final_recovery, target_final_recovery)\n",
    "dummy_final_prediction = dummy_final.predict(test_features_final_recovery)\n",
    "total_sMAPE(sMAPE(test_target_rougher_recovery,dummy_rougher_prediction),sMAPE(test_target_final_recovery,dummy_final_prediction))"
   ]
  },
  {
   "cell_type": "code",
   "execution_count": 104,
   "metadata": {},
   "outputs": [
    {
     "name": "stdout",
     "output_type": "stream",
     "text": [
      "test_sMAPE модели DecisionTreeRegressor: 10.15290081521923\n"
     ]
    }
   ],
   "source": [
    "# подсчёт test_sMAPE модели DecisionTreeRegressor\n",
    "model_dtr = DecisionTreeRegressor(max_depth=6, random_state=random_state)\n",
    "model_dtr.fit(features_rougher_recovery, target_rougher_recovery)\n",
    "test_rougher_recovery_prediction = model_dtr.predict(test_features_rougher_recovery)\n",
    "model_dtr.fit(features_final_recovery, target_final_recovery)\n",
    "test_final_recovery_prediction = model_dtr.predict(test_features_final_recovery)\n",
    "test_smape_model_dtr = total_sMAPE(sMAPE(test_target_rougher_recovery, test_rougher_recovery_prediction),sMAPE(test_target_final_recovery,test_final_recovery_prediction))\n",
    "print('test_sMAPE модели DecisionTreeRegressor:', test_smape_model_dtr)"
   ]
  },
  {
   "cell_type": "code",
   "execution_count": 105,
   "metadata": {},
   "outputs": [
    {
     "name": "stdout",
     "output_type": "stream",
     "text": [
      "test_sMAPE модели RandomForestRegressor: 9.640739690405976\n"
     ]
    }
   ],
   "source": [
    "# подсчёт test_sMAPE модели RandomForestRegressor\n",
    "model_rfr = RandomForestRegressor(max_depth=5, n_estimators=13, random_state=random_state)\n",
    "model_rfr.fit(features_rougher_recovery, target_rougher_recovery)\n",
    "test_rougher_recovery_prediction = model_rfr.predict(test_features_rougher_recovery)\n",
    "model_rfr.fit(features_final_recovery, target_final_recovery)\n",
    "test_final_recovery_prediction = model_rfr.predict(test_features_final_recovery)\n",
    "test_smape_model_rfr = total_sMAPE(sMAPE(test_target_rougher_recovery, test_rougher_recovery_prediction),sMAPE(test_target_final_recovery,test_final_recovery_prediction))\n",
    "print('test_sMAPE модели RandomForestRegressor:', test_smape_model_rfr)"
   ]
  },
  {
   "cell_type": "code",
   "execution_count": 106,
   "metadata": {},
   "outputs": [
    {
     "name": "stdout",
     "output_type": "stream",
     "text": [
      "test_sMAPE модели LinearRegression: 9.256679043877455\n"
     ]
    }
   ],
   "source": [
    "# подсчёт test_sMAPE модели LinearRegression\n",
    "model_lr = LinearRegression()\n",
    "model_lr.fit(features_rougher_recovery, target_rougher_recovery)\n",
    "test_rougher_recovery_prediction = model_lr.predict(test_features_rougher_recovery)\n",
    "model_lr.fit(features_final_recovery, target_final_recovery)\n",
    "test_final_recovery_prediction = model_lr.predict(test_features_final_recovery)\n",
    "test_smape_model_lr = total_sMAPE(sMAPE(test_target_rougher_recovery, test_rougher_recovery_prediction),sMAPE(test_target_final_recovery,test_final_recovery_prediction))\n",
    "print('test_sMAPE модели LinearRegression:', test_smape_model_lr)"
   ]
  },
  {
   "cell_type": "markdown",
   "metadata": {},
   "source": [
    "<div style=\"border:solid blue 2px; padding: 20px\">\n",
    "\n",
    "### Вывод\n",
    "\n",
    "\n",
    "    \n",
    "    \n",
    "</div> "
   ]
  },
  {
   "cell_type": "markdown",
   "metadata": {},
   "source": [
    "<div style=\"border:solid blue 2px; padding: 20px\">\n",
    "    \n",
    " \n",
    "`sMAPE()` для моделей на тестовой выборке не сильно отличаются от константной модели\n",
    "    \n",
    "    \n",
    "- `DummyRegressor` - `9.450`\n",
    "    \n",
    "    \n",
    "- `DecisionTreeRegressor` - `10.152`\n",
    "    \n",
    "    \n",
    "- `RandomForestRegressor` - `9.640`\n",
    "    \n",
    "    \n",
    "- `LinearRegression` - `9.256` - лучшая модель на тестовой выборке\n",
    "\n",
    "    \n",
    "    \n",
    "</div> "
   ]
  },
  {
   "cell_type": "markdown",
   "metadata": {},
   "source": [
    "<div style=\"border:solid blue 2px; padding: 20px\">\n",
    "\n",
    "## Итоговый вывод\n",
    "\n",
    "\n",
    "    \n",
    "    \n",
    "</div> "
   ]
  },
  {
   "cell_type": "markdown",
   "metadata": {},
   "source": [
    "<div style=\"border:solid blue 2px; padding: 20px\">\n",
    "    \n",
    "Золото в природе чаще всего встречается в виде самородного металла и минералов, содержащих золото.\n",
    "    \n",
    "Большая часть добываемых в настоящее время золотосодержащих руд относится к сульфидному типу руд.\n",
    "    \n",
    "Сульфидные руды и извлечение мелкого золота в настоящее время успешно обогащаются флотацией.\n",
    "    \n",
    "Флотация обеспечивает извлечение золота [не менее 80-90 %](#90%)\n",
    "    \n",
    "Компании разрабатывают решения для повышения эффективности работы предприятия и разрабатывают \n",
    "    \n",
    "модели, которые предсказывают коэффициент восстановления золота из золотосодержащей руды\n",
    "    \n",
    "Модель оптимизирует производство, чтобы не запускать предприятие с убыточными характеристиками\n",
    "    \n",
    "\n",
    "**Предлагаемый нами прототип модели** \n",
    "    \n",
    "предсказывает коэффициент восстановления золота из руды на параметрах добычи и очистки\n",
    "    \n",
    "    \n",
    "`sMAPE` для модели `LinearRegression` - `9.256` на тестовой выборке\n",
    "    \n",
    "\n",
    "\n",
    "    \n",
    "    \n",
    "</div> "
   ]
  }
 ],
 "metadata": {
  "ExecuteTimeLog": [
   {
    "duration": 1123,
    "start_time": "2022-02-25T09:07:53.119Z"
   },
   {
    "duration": 36585,
    "start_time": "2022-02-25T09:08:50.728Z"
   },
   {
    "duration": 5542,
    "start_time": "2022-02-25T09:11:20.159Z"
   },
   {
    "duration": 13878,
    "start_time": "2022-02-25T09:16:34.520Z"
   },
   {
    "duration": 21,
    "start_time": "2022-02-25T09:18:19.710Z"
   },
   {
    "duration": 17,
    "start_time": "2022-02-25T09:19:05.483Z"
   },
   {
    "duration": 455,
    "start_time": "2022-02-25T09:19:33.099Z"
   },
   {
    "duration": 18,
    "start_time": "2022-02-25T09:19:49.968Z"
   },
   {
    "duration": 16,
    "start_time": "2022-02-25T10:12:27.588Z"
   },
   {
    "duration": 14,
    "start_time": "2022-02-25T10:12:52.758Z"
   },
   {
    "duration": 10,
    "start_time": "2022-02-25T10:12:57.058Z"
   },
   {
    "duration": 226,
    "start_time": "2022-02-25T10:28:51.069Z"
   },
   {
    "duration": 195,
    "start_time": "2022-02-25T10:28:55.232Z"
   },
   {
    "duration": 107,
    "start_time": "2022-02-25T10:28:58.289Z"
   },
   {
    "duration": 3466,
    "start_time": "2022-02-25T10:57:55.701Z"
   },
   {
    "duration": 14995,
    "start_time": "2022-02-25T10:57:59.169Z"
   },
   {
    "duration": 13058,
    "start_time": "2022-02-25T10:58:14.167Z"
   },
   {
    "duration": 57,
    "start_time": "2022-02-25T10:58:27.226Z"
   },
   {
    "duration": 16,
    "start_time": "2022-02-25T10:58:27.285Z"
   },
   {
    "duration": 31,
    "start_time": "2022-02-25T10:58:27.303Z"
   },
   {
    "duration": 90,
    "start_time": "2022-02-25T10:58:27.335Z"
   },
   {
    "duration": 15,
    "start_time": "2022-02-25T10:58:27.428Z"
   },
   {
    "duration": 12,
    "start_time": "2022-02-25T10:58:27.444Z"
   },
   {
    "duration": 10,
    "start_time": "2022-02-25T10:58:27.457Z"
   },
   {
    "duration": 20,
    "start_time": "2022-02-25T10:58:27.468Z"
   },
   {
    "duration": 14,
    "start_time": "2022-02-25T10:58:27.489Z"
   },
   {
    "duration": 21,
    "start_time": "2022-02-25T10:58:27.504Z"
   },
   {
    "duration": 20,
    "start_time": "2022-02-25T10:58:27.526Z"
   },
   {
    "duration": 20,
    "start_time": "2022-02-25T10:58:27.548Z"
   },
   {
    "duration": 6427,
    "start_time": "2022-02-25T10:59:47.920Z"
   },
   {
    "duration": 75,
    "start_time": "2022-02-25T11:01:02.536Z"
   },
   {
    "duration": 3,
    "start_time": "2022-02-25T11:01:10.111Z"
   },
   {
    "duration": 2325,
    "start_time": "2022-02-25T11:01:10.116Z"
   },
   {
    "duration": 2134,
    "start_time": "2022-02-25T11:01:12.443Z"
   },
   {
    "duration": 838,
    "start_time": "2022-02-25T11:01:14.579Z"
   },
   {
    "duration": 25,
    "start_time": "2022-02-25T11:01:15.419Z"
   },
   {
    "duration": 16,
    "start_time": "2022-02-25T11:01:15.446Z"
   },
   {
    "duration": 18,
    "start_time": "2022-02-25T11:01:15.464Z"
   },
   {
    "duration": 17,
    "start_time": "2022-02-25T11:01:15.483Z"
   },
   {
    "duration": 14,
    "start_time": "2022-02-25T11:01:15.531Z"
   },
   {
    "duration": 10,
    "start_time": "2022-02-25T11:01:15.547Z"
   },
   {
    "duration": 2,
    "start_time": "2022-02-25T11:01:15.558Z"
   },
   {
    "duration": 7,
    "start_time": "2022-02-25T11:01:15.562Z"
   },
   {
    "duration": 4,
    "start_time": "2022-02-25T11:01:15.570Z"
   },
   {
    "duration": 4,
    "start_time": "2022-02-25T11:01:15.575Z"
   },
   {
    "duration": 7,
    "start_time": "2022-02-25T11:01:15.581Z"
   },
   {
    "duration": 11,
    "start_time": "2022-02-25T11:01:15.590Z"
   },
   {
    "duration": 98083,
    "start_time": "2022-02-25T11:03:20.974Z"
   },
   {
    "duration": 729,
    "start_time": "2022-02-25T11:08:33.196Z"
   },
   {
    "duration": 432,
    "start_time": "2022-02-25T11:11:54.546Z"
   },
   {
    "duration": 101032,
    "start_time": "2022-02-25T11:12:36.859Z"
   },
   {
    "duration": 299,
    "start_time": "2022-02-25T11:44:19.078Z"
   },
   {
    "duration": 229,
    "start_time": "2022-02-25T11:44:25.016Z"
   },
   {
    "duration": 234,
    "start_time": "2022-02-25T11:44:36.243Z"
   },
   {
    "duration": 3,
    "start_time": "2022-02-25T15:13:30.288Z"
   },
   {
    "duration": 3,
    "start_time": "2022-02-25T15:13:51.068Z"
   },
   {
    "duration": 8,
    "start_time": "2022-02-25T15:13:51.072Z"
   },
   {
    "duration": 930,
    "start_time": "2022-02-25T15:13:51.082Z"
   },
   {
    "duration": 837,
    "start_time": "2022-02-25T15:13:51.178Z"
   },
   {
    "duration": 838,
    "start_time": "2022-02-25T15:13:51.178Z"
   },
   {
    "duration": 839,
    "start_time": "2022-02-25T15:13:51.178Z"
   },
   {
    "duration": 840,
    "start_time": "2022-02-25T15:13:51.178Z"
   },
   {
    "duration": 841,
    "start_time": "2022-02-25T15:13:51.178Z"
   },
   {
    "duration": 842,
    "start_time": "2022-02-25T15:13:51.178Z"
   },
   {
    "duration": 826,
    "start_time": "2022-02-25T15:13:51.196Z"
   },
   {
    "duration": 826,
    "start_time": "2022-02-25T15:13:51.197Z"
   },
   {
    "duration": 824,
    "start_time": "2022-02-25T15:13:51.199Z"
   },
   {
    "duration": 824,
    "start_time": "2022-02-25T15:13:51.200Z"
   },
   {
    "duration": 825,
    "start_time": "2022-02-25T15:13:51.200Z"
   },
   {
    "duration": 827,
    "start_time": "2022-02-25T15:13:51.200Z"
   },
   {
    "duration": 828,
    "start_time": "2022-02-25T15:13:51.200Z"
   },
   {
    "duration": 816,
    "start_time": "2022-02-25T15:13:51.212Z"
   },
   {
    "duration": 816,
    "start_time": "2022-02-25T15:13:51.213Z"
   },
   {
    "duration": 3,
    "start_time": "2022-02-25T15:14:01.857Z"
   },
   {
    "duration": 7,
    "start_time": "2022-02-25T15:14:01.862Z"
   },
   {
    "duration": 1088,
    "start_time": "2022-02-25T15:14:01.872Z"
   },
   {
    "duration": 833,
    "start_time": "2022-02-25T15:14:02.962Z"
   },
   {
    "duration": 34,
    "start_time": "2022-02-25T15:14:03.797Z"
   },
   {
    "duration": 20,
    "start_time": "2022-02-25T15:14:03.833Z"
   },
   {
    "duration": 20,
    "start_time": "2022-02-25T15:14:03.855Z"
   },
   {
    "duration": 20,
    "start_time": "2022-02-25T15:14:03.877Z"
   },
   {
    "duration": 14,
    "start_time": "2022-02-25T15:14:03.919Z"
   },
   {
    "duration": 9,
    "start_time": "2022-02-25T15:14:03.935Z"
   },
   {
    "duration": 2,
    "start_time": "2022-02-25T15:14:03.946Z"
   },
   {
    "duration": 4,
    "start_time": "2022-02-25T15:14:03.949Z"
   },
   {
    "duration": 5,
    "start_time": "2022-02-25T15:14:03.955Z"
   },
   {
    "duration": 4,
    "start_time": "2022-02-25T15:14:03.961Z"
   },
   {
    "duration": 6,
    "start_time": "2022-02-25T15:14:03.967Z"
   },
   {
    "duration": 10,
    "start_time": "2022-02-25T15:14:03.974Z"
   },
   {
    "duration": 7,
    "start_time": "2022-02-25T15:14:03.985Z"
   },
   {
    "duration": 26,
    "start_time": "2022-02-25T15:14:03.993Z"
   },
   {
    "duration": 333,
    "start_time": "2022-02-25T15:18:45.352Z"
   },
   {
    "duration": 5057,
    "start_time": "2022-02-25T15:18:49.654Z"
   },
   {
    "duration": 5778,
    "start_time": "2022-02-25T15:19:02.408Z"
   },
   {
    "duration": 201,
    "start_time": "2022-02-25T15:19:17.404Z"
   },
   {
    "duration": 193,
    "start_time": "2022-02-25T15:19:24.698Z"
   },
   {
    "duration": 24,
    "start_time": "2022-02-25T15:26:19.956Z"
   },
   {
    "duration": 24,
    "start_time": "2022-02-25T15:26:28.490Z"
   },
   {
    "duration": 23,
    "start_time": "2022-02-25T15:26:33.698Z"
   },
   {
    "duration": 205,
    "start_time": "2022-02-25T15:26:45.444Z"
   },
   {
    "duration": 5195,
    "start_time": "2022-02-25T15:26:58.575Z"
   },
   {
    "duration": 5144,
    "start_time": "2022-02-25T15:27:04.704Z"
   },
   {
    "duration": 5532,
    "start_time": "2022-02-25T15:27:19.641Z"
   },
   {
    "duration": 154,
    "start_time": "2022-02-25T15:27:34.577Z"
   },
   {
    "duration": 4,
    "start_time": "2022-02-25T16:28:32.374Z"
   },
   {
    "duration": 284,
    "start_time": "2022-02-25T16:28:46.094Z"
   },
   {
    "duration": 211,
    "start_time": "2022-02-25T16:28:56.614Z"
   },
   {
    "duration": 183,
    "start_time": "2022-02-25T16:29:07.794Z"
   },
   {
    "duration": 4,
    "start_time": "2022-02-25T16:29:14.008Z"
   },
   {
    "duration": 8,
    "start_time": "2022-02-25T16:34:00.512Z"
   },
   {
    "duration": 16,
    "start_time": "2022-02-25T16:34:09.212Z"
   },
   {
    "duration": 5,
    "start_time": "2022-02-25T16:34:50.633Z"
   },
   {
    "duration": 13,
    "start_time": "2022-02-25T16:34:52.801Z"
   },
   {
    "duration": 29,
    "start_time": "2022-02-25T16:35:10.151Z"
   },
   {
    "duration": 19,
    "start_time": "2022-02-25T16:35:11.882Z"
   },
   {
    "duration": 28,
    "start_time": "2022-02-25T16:35:22.004Z"
   },
   {
    "duration": 196,
    "start_time": "2022-02-25T16:37:09.588Z"
   },
   {
    "duration": 11,
    "start_time": "2022-02-25T16:37:28.719Z"
   },
   {
    "duration": 11,
    "start_time": "2022-02-25T16:39:41.892Z"
   },
   {
    "duration": 11,
    "start_time": "2022-02-25T16:40:01.182Z"
   },
   {
    "duration": 11,
    "start_time": "2022-02-25T16:40:24.902Z"
   },
   {
    "duration": 11,
    "start_time": "2022-02-25T16:40:29.352Z"
   },
   {
    "duration": 11,
    "start_time": "2022-02-25T16:40:36.802Z"
   },
   {
    "duration": 14,
    "start_time": "2022-02-25T17:30:59.428Z"
   },
   {
    "duration": 10,
    "start_time": "2022-02-25T17:31:40.193Z"
   },
   {
    "duration": 8,
    "start_time": "2022-02-25T17:32:07.039Z"
   },
   {
    "duration": 7,
    "start_time": "2022-02-25T17:32:19.908Z"
   },
   {
    "duration": 7,
    "start_time": "2022-02-25T17:32:29.241Z"
   },
   {
    "duration": 7,
    "start_time": "2022-02-25T17:32:32.677Z"
   },
   {
    "duration": 5,
    "start_time": "2022-02-25T18:10:38.251Z"
   },
   {
    "duration": 8,
    "start_time": "2022-02-25T18:10:51.361Z"
   },
   {
    "duration": 7,
    "start_time": "2022-02-25T18:11:23.611Z"
   },
   {
    "duration": 9,
    "start_time": "2022-02-25T18:11:35.552Z"
   },
   {
    "duration": 8,
    "start_time": "2022-02-25T18:11:57.642Z"
   },
   {
    "duration": 5776,
    "start_time": "2022-02-25T18:12:21.203Z"
   },
   {
    "duration": 5196,
    "start_time": "2022-02-25T18:13:11.202Z"
   },
   {
    "duration": 6,
    "start_time": "2022-02-25T18:13:20.232Z"
   },
   {
    "duration": 18,
    "start_time": "2022-02-25T18:13:39.136Z"
   },
   {
    "duration": 4692,
    "start_time": "2022-02-25T18:14:57.023Z"
   },
   {
    "duration": 20,
    "start_time": "2022-02-25T18:15:14.822Z"
   },
   {
    "duration": 23,
    "start_time": "2022-02-25T18:15:37.552Z"
   },
   {
    "duration": 6,
    "start_time": "2022-02-25T18:53:36.319Z"
   },
   {
    "duration": 59,
    "start_time": "2022-02-25T18:53:47.294Z"
   },
   {
    "duration": 10,
    "start_time": "2022-02-25T18:53:52.246Z"
   },
   {
    "duration": 269,
    "start_time": "2022-02-25T18:55:15.999Z"
   },
   {
    "duration": 205,
    "start_time": "2022-02-25T18:55:25.049Z"
   },
   {
    "duration": 208,
    "start_time": "2022-02-25T18:55:36.652Z"
   },
   {
    "duration": 10,
    "start_time": "2022-02-25T18:56:20.540Z"
   },
   {
    "duration": 64,
    "start_time": "2022-02-25T18:58:13.099Z"
   },
   {
    "duration": 225,
    "start_time": "2022-02-25T18:58:25.719Z"
   },
   {
    "duration": 65,
    "start_time": "2022-02-25T18:58:52.289Z"
   },
   {
    "duration": 15,
    "start_time": "2022-02-25T18:59:38.549Z"
   },
   {
    "duration": 22,
    "start_time": "2022-02-25T19:00:11.434Z"
   },
   {
    "duration": 69,
    "start_time": "2022-02-25T19:06:07.990Z"
   },
   {
    "duration": 1607,
    "start_time": "2022-02-25T19:06:36.129Z"
   },
   {
    "duration": 5,
    "start_time": "2022-02-25T19:07:58.161Z"
   },
   {
    "duration": 1436,
    "start_time": "2022-02-25T19:08:32.670Z"
   },
   {
    "duration": 2849,
    "start_time": "2022-02-25T19:09:08.769Z"
   },
   {
    "duration": 2821,
    "start_time": "2022-02-25T19:09:16.041Z"
   },
   {
    "duration": 2528,
    "start_time": "2022-02-25T19:09:37.369Z"
   },
   {
    "duration": 113,
    "start_time": "2022-02-25T19:09:53.559Z"
   },
   {
    "duration": 70,
    "start_time": "2022-02-25T19:10:12.959Z"
   },
   {
    "duration": 60,
    "start_time": "2022-02-25T19:10:20.648Z"
   },
   {
    "duration": 13,
    "start_time": "2022-02-25T19:10:29.558Z"
   },
   {
    "duration": 2724,
    "start_time": "2022-02-25T19:11:05.669Z"
   },
   {
    "duration": 14,
    "start_time": "2022-02-25T19:11:28.569Z"
   },
   {
    "duration": 15,
    "start_time": "2022-02-25T19:19:18.270Z"
   },
   {
    "duration": 9,
    "start_time": "2022-02-25T19:47:34.588Z"
   },
   {
    "duration": 370,
    "start_time": "2022-02-25T20:30:48.729Z"
   },
   {
    "duration": 443,
    "start_time": "2022-02-25T20:31:09.730Z"
   },
   {
    "duration": 87,
    "start_time": "2022-02-25T20:31:49.440Z"
   },
   {
    "duration": 400,
    "start_time": "2022-02-25T20:31:59.189Z"
   },
   {
    "duration": 192,
    "start_time": "2022-02-25T20:36:38.510Z"
   },
   {
    "duration": 271,
    "start_time": "2022-02-25T20:36:48.369Z"
   },
   {
    "duration": 403,
    "start_time": "2022-02-25T20:37:11.449Z"
   },
   {
    "duration": 205,
    "start_time": "2022-02-25T20:37:23.739Z"
   },
   {
    "duration": 11,
    "start_time": "2022-02-25T20:41:03.531Z"
   },
   {
    "duration": 8,
    "start_time": "2022-02-25T20:41:41.719Z"
   },
   {
    "duration": 84,
    "start_time": "2022-02-25T20:48:53.700Z"
   },
   {
    "duration": 14,
    "start_time": "2022-02-25T20:50:02.481Z"
   },
   {
    "duration": 12,
    "start_time": "2022-02-25T20:50:29.460Z"
   },
   {
    "duration": 65,
    "start_time": "2022-02-25T20:56:00.409Z"
   },
   {
    "duration": 206,
    "start_time": "2022-02-25T20:56:06.579Z"
   },
   {
    "duration": 62,
    "start_time": "2022-02-25T20:57:50.349Z"
   },
   {
    "duration": 470,
    "start_time": "2022-02-25T20:57:56.319Z"
   },
   {
    "duration": 203,
    "start_time": "2022-02-25T20:58:24.599Z"
   },
   {
    "duration": 407,
    "start_time": "2022-02-25T20:59:32.775Z"
   },
   {
    "duration": 206,
    "start_time": "2022-02-25T21:00:27.399Z"
   },
   {
    "duration": 3,
    "start_time": "2022-02-26T07:13:03.665Z"
   },
   {
    "duration": 2,
    "start_time": "2022-02-26T07:13:03.674Z"
   },
   {
    "duration": 1155,
    "start_time": "2022-02-26T07:13:03.678Z"
   },
   {
    "duration": 838,
    "start_time": "2022-02-26T07:13:04.836Z"
   },
   {
    "duration": 24,
    "start_time": "2022-02-26T07:13:05.676Z"
   },
   {
    "duration": 26,
    "start_time": "2022-02-26T07:13:05.702Z"
   },
   {
    "duration": 19,
    "start_time": "2022-02-26T07:13:05.730Z"
   },
   {
    "duration": 20,
    "start_time": "2022-02-26T07:13:05.751Z"
   },
   {
    "duration": 39,
    "start_time": "2022-02-26T07:13:05.773Z"
   },
   {
    "duration": 9,
    "start_time": "2022-02-26T07:13:05.814Z"
   },
   {
    "duration": 8,
    "start_time": "2022-02-26T07:13:05.825Z"
   },
   {
    "duration": 21,
    "start_time": "2022-02-26T07:13:05.834Z"
   },
   {
    "duration": 5,
    "start_time": "2022-02-26T07:13:05.856Z"
   },
   {
    "duration": 50,
    "start_time": "2022-02-26T07:13:05.863Z"
   },
   {
    "duration": 3,
    "start_time": "2022-02-26T07:13:05.915Z"
   },
   {
    "duration": 6,
    "start_time": "2022-02-26T07:13:05.920Z"
   },
   {
    "duration": 9,
    "start_time": "2022-02-26T07:13:05.927Z"
   },
   {
    "duration": 5,
    "start_time": "2022-02-26T07:13:05.938Z"
   },
   {
    "duration": 8,
    "start_time": "2022-02-26T07:13:05.945Z"
   },
   {
    "duration": 5,
    "start_time": "2022-02-26T07:13:05.955Z"
   },
   {
    "duration": 10,
    "start_time": "2022-02-26T07:13:05.962Z"
   },
   {
    "duration": 23,
    "start_time": "2022-02-26T07:13:05.974Z"
   },
   {
    "duration": 16,
    "start_time": "2022-02-26T07:13:05.999Z"
   },
   {
    "duration": 11,
    "start_time": "2022-02-26T07:13:06.019Z"
   },
   {
    "duration": 22,
    "start_time": "2022-02-26T07:13:06.032Z"
   },
   {
    "duration": 17,
    "start_time": "2022-02-26T07:13:06.056Z"
   },
   {
    "duration": 5,
    "start_time": "2022-02-26T07:13:06.075Z"
   },
   {
    "duration": 30,
    "start_time": "2022-02-26T07:13:06.082Z"
   },
   {
    "duration": 14,
    "start_time": "2022-02-26T07:13:06.114Z"
   },
   {
    "duration": 194,
    "start_time": "2022-02-26T07:13:06.129Z"
   },
   {
    "duration": 7,
    "start_time": "2022-02-26T07:18:09.448Z"
   },
   {
    "duration": 843,
    "start_time": "2022-02-26T07:19:46.037Z"
   },
   {
    "duration": 187,
    "start_time": "2022-02-26T07:20:18.526Z"
   },
   {
    "duration": 4,
    "start_time": "2022-02-26T07:20:23.883Z"
   },
   {
    "duration": 3,
    "start_time": "2022-02-26T07:20:23.891Z"
   },
   {
    "duration": 1136,
    "start_time": "2022-02-26T07:20:23.921Z"
   },
   {
    "duration": 877,
    "start_time": "2022-02-26T07:20:25.059Z"
   },
   {
    "duration": 25,
    "start_time": "2022-02-26T07:20:25.938Z"
   },
   {
    "duration": 19,
    "start_time": "2022-02-26T07:20:25.965Z"
   },
   {
    "duration": 41,
    "start_time": "2022-02-26T07:20:25.986Z"
   },
   {
    "duration": 21,
    "start_time": "2022-02-26T07:20:26.029Z"
   },
   {
    "duration": 17,
    "start_time": "2022-02-26T07:20:26.052Z"
   },
   {
    "duration": 11,
    "start_time": "2022-02-26T07:20:26.070Z"
   },
   {
    "duration": 34,
    "start_time": "2022-02-26T07:20:26.084Z"
   },
   {
    "duration": 21,
    "start_time": "2022-02-26T07:20:26.120Z"
   },
   {
    "duration": 5,
    "start_time": "2022-02-26T07:20:26.143Z"
   },
   {
    "duration": 23,
    "start_time": "2022-02-26T07:20:26.149Z"
   },
   {
    "duration": 6,
    "start_time": "2022-02-26T07:20:26.174Z"
   },
   {
    "duration": 30,
    "start_time": "2022-02-26T07:20:26.182Z"
   },
   {
    "duration": 4,
    "start_time": "2022-02-26T07:20:26.214Z"
   },
   {
    "duration": 5,
    "start_time": "2022-02-26T07:20:26.219Z"
   },
   {
    "duration": 4,
    "start_time": "2022-02-26T07:20:26.226Z"
   },
   {
    "duration": 8,
    "start_time": "2022-02-26T07:20:26.232Z"
   },
   {
    "duration": 6,
    "start_time": "2022-02-26T07:20:26.242Z"
   },
   {
    "duration": 8,
    "start_time": "2022-02-26T07:20:26.250Z"
   },
   {
    "duration": 17,
    "start_time": "2022-02-26T07:20:26.260Z"
   },
   {
    "duration": 10,
    "start_time": "2022-02-26T07:20:26.278Z"
   },
   {
    "duration": 7,
    "start_time": "2022-02-26T07:20:26.312Z"
   },
   {
    "duration": 16,
    "start_time": "2022-02-26T07:20:26.321Z"
   },
   {
    "duration": 4,
    "start_time": "2022-02-26T07:20:26.339Z"
   },
   {
    "duration": 15,
    "start_time": "2022-02-26T07:20:26.344Z"
   },
   {
    "duration": 7,
    "start_time": "2022-02-26T07:20:26.362Z"
   },
   {
    "duration": 213,
    "start_time": "2022-02-26T07:20:26.371Z"
   },
   {
    "duration": 465,
    "start_time": "2022-02-26T07:20:26.585Z"
   },
   {
    "duration": 3,
    "start_time": "2022-02-26T07:22:35.011Z"
   },
   {
    "duration": 6,
    "start_time": "2022-02-26T07:22:35.017Z"
   },
   {
    "duration": 1142,
    "start_time": "2022-02-26T07:22:35.025Z"
   },
   {
    "duration": 843,
    "start_time": "2022-02-26T07:22:36.169Z"
   },
   {
    "duration": 27,
    "start_time": "2022-02-26T07:22:37.014Z"
   },
   {
    "duration": 20,
    "start_time": "2022-02-26T07:22:37.043Z"
   },
   {
    "duration": 22,
    "start_time": "2022-02-26T07:22:37.066Z"
   },
   {
    "duration": 44,
    "start_time": "2022-02-26T07:22:37.090Z"
   },
   {
    "duration": 16,
    "start_time": "2022-02-26T07:22:37.136Z"
   },
   {
    "duration": 9,
    "start_time": "2022-02-26T07:22:37.154Z"
   },
   {
    "duration": 8,
    "start_time": "2022-02-26T07:22:37.165Z"
   },
   {
    "duration": 50,
    "start_time": "2022-02-26T07:22:37.175Z"
   },
   {
    "duration": 4,
    "start_time": "2022-02-26T07:22:37.228Z"
   },
   {
    "duration": 22,
    "start_time": "2022-02-26T07:22:37.234Z"
   },
   {
    "duration": 6,
    "start_time": "2022-02-26T07:22:37.258Z"
   },
   {
    "duration": 8,
    "start_time": "2022-02-26T07:22:37.266Z"
   },
   {
    "duration": 5,
    "start_time": "2022-02-26T07:22:37.275Z"
   },
   {
    "duration": 7,
    "start_time": "2022-02-26T07:22:37.282Z"
   },
   {
    "duration": 21,
    "start_time": "2022-02-26T07:22:37.291Z"
   },
   {
    "duration": 5,
    "start_time": "2022-02-26T07:22:37.314Z"
   },
   {
    "duration": 6,
    "start_time": "2022-02-26T07:22:37.320Z"
   },
   {
    "duration": 8,
    "start_time": "2022-02-26T07:22:37.328Z"
   },
   {
    "duration": 20,
    "start_time": "2022-02-26T07:22:37.337Z"
   },
   {
    "duration": 11,
    "start_time": "2022-02-26T07:22:37.358Z"
   },
   {
    "duration": 7,
    "start_time": "2022-02-26T07:22:37.370Z"
   },
   {
    "duration": 43,
    "start_time": "2022-02-26T07:22:37.379Z"
   },
   {
    "duration": 11,
    "start_time": "2022-02-26T07:22:37.424Z"
   },
   {
    "duration": 26,
    "start_time": "2022-02-26T07:22:37.437Z"
   },
   {
    "duration": 14,
    "start_time": "2022-02-26T07:22:37.466Z"
   },
   {
    "duration": 194,
    "start_time": "2022-02-26T07:22:37.482Z"
   },
   {
    "duration": 292,
    "start_time": "2022-02-26T07:22:37.678Z"
   },
   {
    "duration": 3,
    "start_time": "2022-02-26T07:24:09.252Z"
   },
   {
    "duration": 6,
    "start_time": "2022-02-26T07:24:09.257Z"
   },
   {
    "duration": 1105,
    "start_time": "2022-02-26T07:24:09.264Z"
   },
   {
    "duration": 1195,
    "start_time": "2022-02-26T07:24:10.372Z"
   },
   {
    "duration": 25,
    "start_time": "2022-02-26T07:24:11.569Z"
   },
   {
    "duration": 32,
    "start_time": "2022-02-26T07:24:11.596Z"
   },
   {
    "duration": 21,
    "start_time": "2022-02-26T07:24:11.630Z"
   },
   {
    "duration": 20,
    "start_time": "2022-02-26T07:24:11.654Z"
   },
   {
    "duration": 40,
    "start_time": "2022-02-26T07:24:11.677Z"
   },
   {
    "duration": 10,
    "start_time": "2022-02-26T07:24:11.719Z"
   },
   {
    "duration": 12,
    "start_time": "2022-02-26T07:24:11.730Z"
   },
   {
    "duration": 21,
    "start_time": "2022-02-26T07:24:11.744Z"
   },
   {
    "duration": 5,
    "start_time": "2022-02-26T07:24:11.767Z"
   },
   {
    "duration": 49,
    "start_time": "2022-02-26T07:24:11.774Z"
   },
   {
    "duration": 2,
    "start_time": "2022-02-26T07:24:11.825Z"
   },
   {
    "duration": 9,
    "start_time": "2022-02-26T07:24:11.829Z"
   },
   {
    "duration": 10,
    "start_time": "2022-02-26T07:24:11.840Z"
   },
   {
    "duration": 10,
    "start_time": "2022-02-26T07:24:11.852Z"
   },
   {
    "duration": 5,
    "start_time": "2022-02-26T07:24:11.864Z"
   },
   {
    "duration": 6,
    "start_time": "2022-02-26T07:24:11.870Z"
   },
   {
    "duration": 5,
    "start_time": "2022-02-26T07:24:11.877Z"
   },
   {
    "duration": 8,
    "start_time": "2022-02-26T07:24:11.884Z"
   },
   {
    "duration": 27,
    "start_time": "2022-02-26T07:24:11.895Z"
   },
   {
    "duration": 11,
    "start_time": "2022-02-26T07:24:11.923Z"
   },
   {
    "duration": 8,
    "start_time": "2022-02-26T07:24:11.936Z"
   },
   {
    "duration": 25,
    "start_time": "2022-02-26T07:24:11.946Z"
   },
   {
    "duration": 5,
    "start_time": "2022-02-26T07:24:11.973Z"
   },
   {
    "duration": 12,
    "start_time": "2022-02-26T07:24:12.012Z"
   },
   {
    "duration": 7,
    "start_time": "2022-02-26T07:24:12.026Z"
   },
   {
    "duration": 4,
    "start_time": "2022-02-26T07:24:12.034Z"
   },
   {
    "duration": 4,
    "start_time": "2022-02-26T07:24:12.040Z"
   },
   {
    "duration": 272,
    "start_time": "2022-02-26T07:24:46.188Z"
   },
   {
    "duration": 46,
    "start_time": "2022-02-26T07:24:55.199Z"
   },
   {
    "duration": 3,
    "start_time": "2022-02-26T07:25:10.082Z"
   },
   {
    "duration": 28,
    "start_time": "2022-02-26T07:25:10.093Z"
   },
   {
    "duration": 1143,
    "start_time": "2022-02-26T07:25:10.123Z"
   },
   {
    "duration": 851,
    "start_time": "2022-02-26T07:25:11.268Z"
   },
   {
    "duration": 26,
    "start_time": "2022-02-26T07:25:12.121Z"
   },
   {
    "duration": 20,
    "start_time": "2022-02-26T07:25:12.149Z"
   },
   {
    "duration": 43,
    "start_time": "2022-02-26T07:25:12.171Z"
   },
   {
    "duration": 25,
    "start_time": "2022-02-26T07:25:12.216Z"
   },
   {
    "duration": 15,
    "start_time": "2022-02-26T07:25:12.243Z"
   },
   {
    "duration": 10,
    "start_time": "2022-02-26T07:25:12.260Z"
   },
   {
    "duration": 9,
    "start_time": "2022-02-26T07:25:12.271Z"
   },
   {
    "duration": 48,
    "start_time": "2022-02-26T07:25:12.282Z"
   },
   {
    "duration": 10,
    "start_time": "2022-02-26T07:25:12.332Z"
   },
   {
    "duration": 19,
    "start_time": "2022-02-26T07:25:12.344Z"
   },
   {
    "duration": 8,
    "start_time": "2022-02-26T07:25:12.364Z"
   },
   {
    "duration": 6,
    "start_time": "2022-02-26T07:25:12.374Z"
   },
   {
    "duration": 5,
    "start_time": "2022-02-26T07:25:12.382Z"
   },
   {
    "duration": 8,
    "start_time": "2022-02-26T07:25:12.389Z"
   },
   {
    "duration": 3,
    "start_time": "2022-02-26T07:25:12.412Z"
   },
   {
    "duration": 10,
    "start_time": "2022-02-26T07:25:12.417Z"
   },
   {
    "duration": 12,
    "start_time": "2022-02-26T07:25:12.429Z"
   },
   {
    "duration": 12,
    "start_time": "2022-02-26T07:25:12.443Z"
   },
   {
    "duration": 20,
    "start_time": "2022-02-26T07:25:12.456Z"
   },
   {
    "duration": 11,
    "start_time": "2022-02-26T07:25:12.479Z"
   },
   {
    "duration": 6,
    "start_time": "2022-02-26T07:25:12.492Z"
   },
   {
    "duration": 2,
    "start_time": "2022-02-26T07:25:12.511Z"
   },
   {
    "duration": 11,
    "start_time": "2022-02-26T07:25:12.515Z"
   },
   {
    "duration": 16,
    "start_time": "2022-02-26T07:25:12.528Z"
   },
   {
    "duration": 3,
    "start_time": "2022-02-26T07:25:12.546Z"
   },
   {
    "duration": 9,
    "start_time": "2022-02-26T07:25:12.551Z"
   },
   {
    "duration": 6,
    "start_time": "2022-02-26T07:25:12.561Z"
   },
   {
    "duration": 10,
    "start_time": "2022-02-26T07:29:23.463Z"
   },
   {
    "duration": 9,
    "start_time": "2022-02-26T07:30:38.698Z"
   },
   {
    "duration": 14,
    "start_time": "2022-02-26T07:34:24.013Z"
   },
   {
    "duration": 10,
    "start_time": "2022-02-26T07:34:32.475Z"
   },
   {
    "duration": 10,
    "start_time": "2022-02-26T07:34:37.503Z"
   },
   {
    "duration": 9,
    "start_time": "2022-02-26T07:35:45.704Z"
   },
   {
    "duration": 6,
    "start_time": "2022-02-26T07:38:28.849Z"
   },
   {
    "duration": 3,
    "start_time": "2022-02-26T07:39:31.175Z"
   },
   {
    "duration": 14,
    "start_time": "2022-02-26T07:39:31.181Z"
   },
   {
    "duration": 1207,
    "start_time": "2022-02-26T07:39:31.197Z"
   },
   {
    "duration": 900,
    "start_time": "2022-02-26T07:39:32.406Z"
   },
   {
    "duration": 31,
    "start_time": "2022-02-26T07:39:33.308Z"
   },
   {
    "duration": 19,
    "start_time": "2022-02-26T07:39:33.341Z"
   },
   {
    "duration": 22,
    "start_time": "2022-02-26T07:39:33.362Z"
   },
   {
    "duration": 45,
    "start_time": "2022-02-26T07:39:33.387Z"
   },
   {
    "duration": 14,
    "start_time": "2022-02-26T07:39:33.434Z"
   },
   {
    "duration": 9,
    "start_time": "2022-02-26T07:39:33.450Z"
   },
   {
    "duration": 8,
    "start_time": "2022-02-26T07:39:33.461Z"
   },
   {
    "duration": 57,
    "start_time": "2022-02-26T07:39:33.471Z"
   },
   {
    "duration": 5,
    "start_time": "2022-02-26T07:39:33.529Z"
   },
   {
    "duration": 19,
    "start_time": "2022-02-26T07:39:33.536Z"
   },
   {
    "duration": 5,
    "start_time": "2022-02-26T07:39:33.556Z"
   },
   {
    "duration": 5,
    "start_time": "2022-02-26T07:39:33.562Z"
   },
   {
    "duration": 5,
    "start_time": "2022-02-26T07:39:33.568Z"
   },
   {
    "duration": 5,
    "start_time": "2022-02-26T07:39:33.574Z"
   },
   {
    "duration": 6,
    "start_time": "2022-02-26T07:39:33.580Z"
   },
   {
    "duration": 5,
    "start_time": "2022-02-26T07:39:33.587Z"
   },
   {
    "duration": 20,
    "start_time": "2022-02-26T07:39:33.612Z"
   },
   {
    "duration": 4,
    "start_time": "2022-02-26T07:39:33.633Z"
   },
   {
    "duration": 4,
    "start_time": "2022-02-26T07:39:33.639Z"
   },
   {
    "duration": 8,
    "start_time": "2022-02-26T07:39:33.645Z"
   },
   {
    "duration": 4,
    "start_time": "2022-02-26T07:39:33.655Z"
   },
   {
    "duration": 4,
    "start_time": "2022-02-26T07:39:33.662Z"
   },
   {
    "duration": 4,
    "start_time": "2022-02-26T07:39:33.667Z"
   },
   {
    "duration": 12,
    "start_time": "2022-02-26T07:39:33.672Z"
   },
   {
    "duration": 3,
    "start_time": "2022-02-26T07:41:06.333Z"
   },
   {
    "duration": 6,
    "start_time": "2022-02-26T07:41:06.339Z"
   },
   {
    "duration": 1527,
    "start_time": "2022-02-26T07:41:06.348Z"
   },
   {
    "duration": 962,
    "start_time": "2022-02-26T07:41:07.877Z"
   },
   {
    "duration": 25,
    "start_time": "2022-02-26T07:41:08.841Z"
   },
   {
    "duration": 23,
    "start_time": "2022-02-26T07:41:08.868Z"
   },
   {
    "duration": 46,
    "start_time": "2022-02-26T07:41:08.894Z"
   },
   {
    "duration": 19,
    "start_time": "2022-02-26T07:41:08.943Z"
   },
   {
    "duration": 16,
    "start_time": "2022-02-26T07:41:08.964Z"
   },
   {
    "duration": 41,
    "start_time": "2022-02-26T07:41:08.981Z"
   },
   {
    "duration": 17,
    "start_time": "2022-02-26T07:41:09.024Z"
   },
   {
    "duration": 9,
    "start_time": "2022-02-26T07:41:09.042Z"
   },
   {
    "duration": 8,
    "start_time": "2022-02-26T07:41:09.052Z"
   },
   {
    "duration": 13,
    "start_time": "2022-02-26T07:41:09.062Z"
   },
   {
    "duration": 9,
    "start_time": "2022-02-26T07:41:09.076Z"
   },
   {
    "duration": 7,
    "start_time": "2022-02-26T07:41:09.087Z"
   },
   {
    "duration": 10,
    "start_time": "2022-02-26T07:41:09.096Z"
   },
   {
    "duration": 11,
    "start_time": "2022-02-26T07:41:09.107Z"
   },
   {
    "duration": 10,
    "start_time": "2022-02-26T07:41:09.123Z"
   },
   {
    "duration": 5,
    "start_time": "2022-02-26T07:41:09.135Z"
   },
   {
    "duration": 8,
    "start_time": "2022-02-26T07:41:09.142Z"
   },
   {
    "duration": 8,
    "start_time": "2022-02-26T07:41:09.152Z"
   },
   {
    "duration": 9,
    "start_time": "2022-02-26T07:41:09.161Z"
   },
   {
    "duration": 7,
    "start_time": "2022-02-26T07:41:09.172Z"
   },
   {
    "duration": 7,
    "start_time": "2022-02-26T07:41:09.180Z"
   },
   {
    "duration": 9,
    "start_time": "2022-02-26T07:41:09.188Z"
   },
   {
    "duration": 12,
    "start_time": "2022-02-26T07:41:09.198Z"
   },
   {
    "duration": 295,
    "start_time": "2022-02-26T08:04:13.140Z"
   },
   {
    "duration": 190,
    "start_time": "2022-02-26T08:04:37.230Z"
   },
   {
    "duration": 5,
    "start_time": "2022-02-26T08:04:57.380Z"
   },
   {
    "duration": 6,
    "start_time": "2022-02-26T08:05:28.020Z"
   },
   {
    "duration": 6,
    "start_time": "2022-02-26T08:08:38.421Z"
   },
   {
    "duration": 184,
    "start_time": "2022-02-26T08:15:10.581Z"
   },
   {
    "duration": 3,
    "start_time": "2022-02-26T08:15:24.599Z"
   },
   {
    "duration": 6,
    "start_time": "2022-02-26T08:15:30.740Z"
   },
   {
    "duration": 174,
    "start_time": "2022-02-26T08:15:45.779Z"
   },
   {
    "duration": 5,
    "start_time": "2022-02-26T08:15:49.218Z"
   },
   {
    "duration": 5,
    "start_time": "2022-02-26T08:16:28.263Z"
   },
   {
    "duration": 3,
    "start_time": "2022-02-26T09:12:44.574Z"
   },
   {
    "duration": 4,
    "start_time": "2022-02-26T09:12:44.579Z"
   },
   {
    "duration": 1156,
    "start_time": "2022-02-26T09:12:44.588Z"
   },
   {
    "duration": 815,
    "start_time": "2022-02-26T09:12:45.747Z"
   },
   {
    "duration": 23,
    "start_time": "2022-02-26T09:12:46.564Z"
   },
   {
    "duration": 31,
    "start_time": "2022-02-26T09:12:46.588Z"
   },
   {
    "duration": 19,
    "start_time": "2022-02-26T09:12:46.621Z"
   },
   {
    "duration": 20,
    "start_time": "2022-02-26T09:12:46.642Z"
   },
   {
    "duration": 14,
    "start_time": "2022-02-26T09:12:46.663Z"
   },
   {
    "duration": 33,
    "start_time": "2022-02-26T09:12:46.679Z"
   },
   {
    "duration": 2,
    "start_time": "2022-02-26T09:12:46.715Z"
   },
   {
    "duration": 5,
    "start_time": "2022-02-26T09:12:46.719Z"
   },
   {
    "duration": 5,
    "start_time": "2022-02-26T09:12:46.726Z"
   },
   {
    "duration": 10,
    "start_time": "2022-02-26T09:12:46.732Z"
   },
   {
    "duration": 12,
    "start_time": "2022-02-26T09:12:46.744Z"
   },
   {
    "duration": 9,
    "start_time": "2022-02-26T09:12:46.758Z"
   },
   {
    "duration": 6,
    "start_time": "2022-02-26T09:12:46.769Z"
   },
   {
    "duration": 6,
    "start_time": "2022-02-26T09:12:46.777Z"
   },
   {
    "duration": 5,
    "start_time": "2022-02-26T09:12:46.784Z"
   },
   {
    "duration": 5,
    "start_time": "2022-02-26T09:12:46.790Z"
   },
   {
    "duration": 5,
    "start_time": "2022-02-26T09:12:46.797Z"
   },
   {
    "duration": 5,
    "start_time": "2022-02-26T09:12:46.803Z"
   },
   {
    "duration": 7,
    "start_time": "2022-02-26T09:12:46.809Z"
   },
   {
    "duration": 4,
    "start_time": "2022-02-26T09:12:46.818Z"
   },
   {
    "duration": 5,
    "start_time": "2022-02-26T09:12:46.824Z"
   },
   {
    "duration": 5,
    "start_time": "2022-02-26T09:12:46.830Z"
   },
   {
    "duration": 13,
    "start_time": "2022-02-26T09:12:46.836Z"
   },
   {
    "duration": 6,
    "start_time": "2022-02-26T09:12:46.851Z"
   },
   {
    "duration": 11,
    "start_time": "2022-02-26T09:16:48.582Z"
   },
   {
    "duration": 11,
    "start_time": "2022-02-26T09:17:18.472Z"
   },
   {
    "duration": 8,
    "start_time": "2022-02-26T09:17:22.912Z"
   },
   {
    "duration": 6,
    "start_time": "2022-02-26T09:29:56.122Z"
   },
   {
    "duration": 4,
    "start_time": "2022-02-26T09:30:28.063Z"
   },
   {
    "duration": 2,
    "start_time": "2022-02-26T09:30:28.077Z"
   },
   {
    "duration": 1170,
    "start_time": "2022-02-26T09:30:28.081Z"
   },
   {
    "duration": 852,
    "start_time": "2022-02-26T09:30:29.253Z"
   },
   {
    "duration": 29,
    "start_time": "2022-02-26T09:30:30.107Z"
   },
   {
    "duration": 21,
    "start_time": "2022-02-26T09:30:30.138Z"
   },
   {
    "duration": 31,
    "start_time": "2022-02-26T09:30:30.162Z"
   },
   {
    "duration": 36,
    "start_time": "2022-02-26T09:30:30.194Z"
   },
   {
    "duration": 15,
    "start_time": "2022-02-26T09:30:30.232Z"
   },
   {
    "duration": 10,
    "start_time": "2022-02-26T09:30:30.250Z"
   },
   {
    "duration": 2,
    "start_time": "2022-02-26T09:30:30.262Z"
   },
   {
    "duration": 7,
    "start_time": "2022-02-26T09:30:30.265Z"
   },
   {
    "duration": 8,
    "start_time": "2022-02-26T09:30:30.273Z"
   },
   {
    "duration": 40,
    "start_time": "2022-02-26T09:30:30.282Z"
   },
   {
    "duration": 5,
    "start_time": "2022-02-26T09:30:30.324Z"
   },
   {
    "duration": 6,
    "start_time": "2022-02-26T09:30:30.331Z"
   },
   {
    "duration": 6,
    "start_time": "2022-02-26T09:30:30.339Z"
   },
   {
    "duration": 6,
    "start_time": "2022-02-26T09:30:30.347Z"
   },
   {
    "duration": 15,
    "start_time": "2022-02-26T09:30:30.354Z"
   },
   {
    "duration": 11,
    "start_time": "2022-02-26T09:30:30.370Z"
   },
   {
    "duration": 17,
    "start_time": "2022-02-26T09:30:30.383Z"
   },
   {
    "duration": 14,
    "start_time": "2022-02-26T09:30:30.402Z"
   },
   {
    "duration": 8,
    "start_time": "2022-02-26T09:30:30.417Z"
   },
   {
    "duration": 5,
    "start_time": "2022-02-26T09:30:30.427Z"
   },
   {
    "duration": 8,
    "start_time": "2022-02-26T09:30:30.433Z"
   },
   {
    "duration": 8,
    "start_time": "2022-02-26T09:30:30.443Z"
   },
   {
    "duration": 18,
    "start_time": "2022-02-26T09:30:30.453Z"
   },
   {
    "duration": 4,
    "start_time": "2022-02-26T09:30:30.475Z"
   },
   {
    "duration": 15,
    "start_time": "2022-02-26T09:30:30.481Z"
   },
   {
    "duration": 14,
    "start_time": "2022-02-26T09:30:30.498Z"
   },
   {
    "duration": 7,
    "start_time": "2022-02-26T09:30:30.514Z"
   },
   {
    "duration": 68,
    "start_time": "2022-02-26T09:30:30.522Z"
   },
   {
    "duration": 14,
    "start_time": "2022-02-26T09:36:10.865Z"
   },
   {
    "duration": 10,
    "start_time": "2022-02-26T09:37:14.314Z"
   },
   {
    "duration": 18,
    "start_time": "2022-02-26T09:37:40.984Z"
   },
   {
    "duration": 10,
    "start_time": "2022-02-26T09:37:46.875Z"
   },
   {
    "duration": 13,
    "start_time": "2022-02-26T09:46:18.948Z"
   },
   {
    "duration": 9,
    "start_time": "2022-02-26T09:46:59.352Z"
   },
   {
    "duration": 32,
    "start_time": "2022-02-26T09:49:36.521Z"
   },
   {
    "duration": 32,
    "start_time": "2022-02-26T09:50:53.632Z"
   },
   {
    "duration": 12,
    "start_time": "2022-02-26T09:51:18.604Z"
   },
   {
    "duration": 25,
    "start_time": "2022-02-26T09:54:23.622Z"
   },
   {
    "duration": 23,
    "start_time": "2022-02-26T09:54:43.391Z"
   },
   {
    "duration": 20,
    "start_time": "2022-02-26T09:55:34.573Z"
   },
   {
    "duration": 19,
    "start_time": "2022-02-26T09:59:25.684Z"
   },
   {
    "duration": 19,
    "start_time": "2022-02-26T09:59:47.865Z"
   },
   {
    "duration": 21,
    "start_time": "2022-02-26T09:59:55.862Z"
   },
   {
    "duration": 18,
    "start_time": "2022-02-26T10:00:39.833Z"
   },
   {
    "duration": 21,
    "start_time": "2022-02-26T10:01:05.453Z"
   },
   {
    "duration": 27,
    "start_time": "2022-02-26T10:01:30.341Z"
   },
   {
    "duration": 3,
    "start_time": "2022-02-26T10:02:07.223Z"
   },
   {
    "duration": 11,
    "start_time": "2022-02-26T10:02:07.227Z"
   },
   {
    "duration": 1129,
    "start_time": "2022-02-26T10:02:07.241Z"
   },
   {
    "duration": 886,
    "start_time": "2022-02-26T10:02:08.373Z"
   },
   {
    "duration": 25,
    "start_time": "2022-02-26T10:02:09.261Z"
   },
   {
    "duration": 35,
    "start_time": "2022-02-26T10:02:09.287Z"
   },
   {
    "duration": 21,
    "start_time": "2022-02-26T10:02:09.323Z"
   },
   {
    "duration": 30,
    "start_time": "2022-02-26T10:02:09.345Z"
   },
   {
    "duration": 16,
    "start_time": "2022-02-26T10:02:09.378Z"
   },
   {
    "duration": 10,
    "start_time": "2022-02-26T10:02:09.413Z"
   },
   {
    "duration": 2,
    "start_time": "2022-02-26T10:02:09.425Z"
   },
   {
    "duration": 6,
    "start_time": "2022-02-26T10:02:09.428Z"
   },
   {
    "duration": 10,
    "start_time": "2022-02-26T10:02:09.436Z"
   },
   {
    "duration": 5,
    "start_time": "2022-02-26T10:02:09.448Z"
   },
   {
    "duration": 7,
    "start_time": "2022-02-26T10:02:09.454Z"
   },
   {
    "duration": 5,
    "start_time": "2022-02-26T10:02:09.462Z"
   },
   {
    "duration": 5,
    "start_time": "2022-02-26T10:02:09.469Z"
   },
   {
    "duration": 7,
    "start_time": "2022-02-26T10:02:09.476Z"
   },
   {
    "duration": 7,
    "start_time": "2022-02-26T10:02:09.485Z"
   },
   {
    "duration": 18,
    "start_time": "2022-02-26T10:02:09.493Z"
   },
   {
    "duration": 7,
    "start_time": "2022-02-26T10:02:09.513Z"
   },
   {
    "duration": 9,
    "start_time": "2022-02-26T10:02:09.522Z"
   },
   {
    "duration": 6,
    "start_time": "2022-02-26T10:02:09.533Z"
   },
   {
    "duration": 4,
    "start_time": "2022-02-26T10:02:09.543Z"
   },
   {
    "duration": 4,
    "start_time": "2022-02-26T10:02:09.549Z"
   },
   {
    "duration": 5,
    "start_time": "2022-02-26T10:02:09.555Z"
   },
   {
    "duration": 9,
    "start_time": "2022-02-26T10:02:09.562Z"
   },
   {
    "duration": 5,
    "start_time": "2022-02-26T10:02:09.573Z"
   },
   {
    "duration": 37,
    "start_time": "2022-02-26T10:02:09.580Z"
   },
   {
    "duration": 9,
    "start_time": "2022-02-26T10:02:09.619Z"
   },
   {
    "duration": 6,
    "start_time": "2022-02-26T10:02:09.629Z"
   },
   {
    "duration": 22,
    "start_time": "2022-02-26T10:02:09.637Z"
   },
   {
    "duration": 19,
    "start_time": "2022-02-26T10:02:09.661Z"
   },
   {
    "duration": 37,
    "start_time": "2022-02-26T10:02:09.681Z"
   },
   {
    "duration": 3,
    "start_time": "2022-02-26T10:05:44.317Z"
   },
   {
    "duration": 11,
    "start_time": "2022-02-26T10:05:44.322Z"
   },
   {
    "duration": 1133,
    "start_time": "2022-02-26T10:05:44.335Z"
   },
   {
    "duration": 940,
    "start_time": "2022-02-26T10:05:45.471Z"
   },
   {
    "duration": 25,
    "start_time": "2022-02-26T10:05:46.413Z"
   },
   {
    "duration": 19,
    "start_time": "2022-02-26T10:05:46.439Z"
   },
   {
    "duration": 20,
    "start_time": "2022-02-26T10:05:46.460Z"
   },
   {
    "duration": 41,
    "start_time": "2022-02-26T10:05:46.482Z"
   },
   {
    "duration": 16,
    "start_time": "2022-02-26T10:05:46.526Z"
   },
   {
    "duration": 11,
    "start_time": "2022-02-26T10:05:46.545Z"
   },
   {
    "duration": 2,
    "start_time": "2022-02-26T10:05:46.558Z"
   },
   {
    "duration": 8,
    "start_time": "2022-02-26T10:05:46.561Z"
   },
   {
    "duration": 7,
    "start_time": "2022-02-26T10:05:46.571Z"
   },
   {
    "duration": 5,
    "start_time": "2022-02-26T10:05:46.580Z"
   },
   {
    "duration": 27,
    "start_time": "2022-02-26T10:05:46.587Z"
   },
   {
    "duration": 7,
    "start_time": "2022-02-26T10:05:46.616Z"
   },
   {
    "duration": 7,
    "start_time": "2022-02-26T10:05:46.625Z"
   },
   {
    "duration": 7,
    "start_time": "2022-02-26T10:05:46.633Z"
   },
   {
    "duration": 7,
    "start_time": "2022-02-26T10:05:46.642Z"
   },
   {
    "duration": 9,
    "start_time": "2022-02-26T10:05:46.651Z"
   },
   {
    "duration": 10,
    "start_time": "2022-02-26T10:05:46.663Z"
   },
   {
    "duration": 12,
    "start_time": "2022-02-26T10:05:46.675Z"
   },
   {
    "duration": 10,
    "start_time": "2022-02-26T10:05:46.688Z"
   },
   {
    "duration": 18,
    "start_time": "2022-02-26T10:05:46.700Z"
   },
   {
    "duration": 10,
    "start_time": "2022-02-26T10:05:46.720Z"
   },
   {
    "duration": 7,
    "start_time": "2022-02-26T10:05:46.732Z"
   },
   {
    "duration": 23,
    "start_time": "2022-02-26T10:05:46.742Z"
   },
   {
    "duration": 53,
    "start_time": "2022-02-26T10:05:46.767Z"
   },
   {
    "duration": 11,
    "start_time": "2022-02-26T10:05:46.822Z"
   },
   {
    "duration": 13,
    "start_time": "2022-02-26T10:40:20.902Z"
   },
   {
    "duration": 18,
    "start_time": "2022-02-26T10:41:02.019Z"
   },
   {
    "duration": 4,
    "start_time": "2022-02-26T10:41:14.099Z"
   },
   {
    "duration": 3,
    "start_time": "2022-02-26T11:06:53.545Z"
   },
   {
    "duration": 5,
    "start_time": "2022-02-26T11:06:53.550Z"
   },
   {
    "duration": 1156,
    "start_time": "2022-02-26T11:06:53.557Z"
   },
   {
    "duration": 909,
    "start_time": "2022-02-26T11:06:54.715Z"
   },
   {
    "duration": 27,
    "start_time": "2022-02-26T11:06:55.626Z"
   },
   {
    "duration": 27,
    "start_time": "2022-02-26T11:06:55.655Z"
   },
   {
    "duration": 40,
    "start_time": "2022-02-26T11:06:55.684Z"
   },
   {
    "duration": 33,
    "start_time": "2022-02-26T11:06:55.727Z"
   },
   {
    "duration": 16,
    "start_time": "2022-02-26T11:06:55.762Z"
   },
   {
    "duration": 45,
    "start_time": "2022-02-26T11:06:55.781Z"
   },
   {
    "duration": 264,
    "start_time": "2022-02-26T11:06:55.828Z"
   },
   {
    "duration": 270,
    "start_time": "2022-02-26T11:06:56.094Z"
   },
   {
    "duration": 161,
    "start_time": "2022-02-26T11:06:56.366Z"
   },
   {
    "duration": 2,
    "start_time": "2022-02-26T11:06:56.529Z"
   },
   {
    "duration": 18,
    "start_time": "2022-02-26T11:06:56.533Z"
   },
   {
    "duration": 33,
    "start_time": "2022-02-26T11:06:56.554Z"
   },
   {
    "duration": 15,
    "start_time": "2022-02-26T11:06:56.591Z"
   },
   {
    "duration": 21,
    "start_time": "2022-02-26T11:06:56.608Z"
   },
   {
    "duration": 24,
    "start_time": "2022-02-26T11:06:56.631Z"
   },
   {
    "duration": 11,
    "start_time": "2022-02-26T11:06:56.657Z"
   },
   {
    "duration": 18,
    "start_time": "2022-02-26T11:06:56.670Z"
   },
   {
    "duration": 15,
    "start_time": "2022-02-26T11:06:56.691Z"
   },
   {
    "duration": 23,
    "start_time": "2022-02-26T11:06:56.708Z"
   },
   {
    "duration": 31,
    "start_time": "2022-02-26T11:06:56.733Z"
   },
   {
    "duration": 19,
    "start_time": "2022-02-26T11:06:56.765Z"
   },
   {
    "duration": 8,
    "start_time": "2022-02-26T11:06:56.786Z"
   },
   {
    "duration": 27,
    "start_time": "2022-02-26T11:06:56.797Z"
   },
   {
    "duration": 41,
    "start_time": "2022-02-26T11:06:56.826Z"
   },
   {
    "duration": 9,
    "start_time": "2022-02-26T11:06:56.868Z"
   },
   {
    "duration": 9,
    "start_time": "2022-02-26T11:07:40.127Z"
   },
   {
    "duration": 8,
    "start_time": "2022-02-26T11:08:14.327Z"
   },
   {
    "duration": 8,
    "start_time": "2022-02-26T11:09:17.678Z"
   },
   {
    "duration": 9,
    "start_time": "2022-02-26T11:09:37.288Z"
   },
   {
    "duration": 104,
    "start_time": "2022-02-26T11:40:56.997Z"
   },
   {
    "duration": 4,
    "start_time": "2022-02-26T11:41:03.077Z"
   },
   {
    "duration": 3,
    "start_time": "2022-02-26T11:41:14.341Z"
   },
   {
    "duration": 3,
    "start_time": "2022-02-26T11:41:14.349Z"
   },
   {
    "duration": 1109,
    "start_time": "2022-02-26T11:41:14.354Z"
   },
   {
    "duration": 11530,
    "start_time": "2022-02-26T11:41:15.465Z"
   },
   {
    "duration": 22,
    "start_time": "2022-02-26T11:41:26.997Z"
   },
   {
    "duration": 21,
    "start_time": "2022-02-26T11:41:27.021Z"
   },
   {
    "duration": 18,
    "start_time": "2022-02-26T11:41:27.043Z"
   },
   {
    "duration": 18,
    "start_time": "2022-02-26T11:41:27.063Z"
   },
   {
    "duration": 12,
    "start_time": "2022-02-26T11:41:27.083Z"
   },
   {
    "duration": 35,
    "start_time": "2022-02-26T11:41:27.097Z"
   },
   {
    "duration": 6,
    "start_time": "2022-02-26T11:41:27.134Z"
   },
   {
    "duration": 6,
    "start_time": "2022-02-26T11:41:27.141Z"
   },
   {
    "duration": 5,
    "start_time": "2022-02-26T11:41:27.149Z"
   },
   {
    "duration": 5,
    "start_time": "2022-02-26T11:41:27.156Z"
   },
   {
    "duration": 135,
    "start_time": "2022-02-26T11:41:27.163Z"
   },
   {
    "duration": 2,
    "start_time": "2022-02-26T11:41:27.299Z"
   },
   {
    "duration": 5,
    "start_time": "2022-02-26T11:41:27.303Z"
   },
   {
    "duration": 5,
    "start_time": "2022-02-26T11:41:27.310Z"
   },
   {
    "duration": 4,
    "start_time": "2022-02-26T11:41:27.316Z"
   },
   {
    "duration": 10,
    "start_time": "2022-02-26T11:41:27.322Z"
   },
   {
    "duration": 4,
    "start_time": "2022-02-26T11:41:27.334Z"
   },
   {
    "duration": 8,
    "start_time": "2022-02-26T11:41:27.340Z"
   },
   {
    "duration": 8,
    "start_time": "2022-02-26T11:41:27.349Z"
   },
   {
    "duration": 14,
    "start_time": "2022-02-26T11:41:27.358Z"
   },
   {
    "duration": 5,
    "start_time": "2022-02-26T11:41:27.373Z"
   },
   {
    "duration": 16,
    "start_time": "2022-02-26T11:41:27.379Z"
   },
   {
    "duration": 7,
    "start_time": "2022-02-26T11:41:27.397Z"
   },
   {
    "duration": 7,
    "start_time": "2022-02-26T11:41:27.405Z"
   },
   {
    "duration": 31,
    "start_time": "2022-02-26T11:41:27.413Z"
   },
   {
    "duration": 18,
    "start_time": "2022-02-26T11:41:27.445Z"
   },
   {
    "duration": 7,
    "start_time": "2022-02-26T11:41:27.464Z"
   },
   {
    "duration": 4,
    "start_time": "2022-02-26T11:41:27.472Z"
   },
   {
    "duration": 589,
    "start_time": "2022-02-26T11:42:41.460Z"
   },
   {
    "duration": 4,
    "start_time": "2022-02-26T11:43:03.717Z"
   },
   {
    "duration": 937,
    "start_time": "2022-02-26T11:43:07.198Z"
   },
   {
    "duration": 4,
    "start_time": "2022-02-26T11:43:38.248Z"
   },
   {
    "duration": 607,
    "start_time": "2022-02-26T11:43:40.779Z"
   },
   {
    "duration": 5,
    "start_time": "2022-02-26T11:43:55.659Z"
   },
   {
    "duration": 600,
    "start_time": "2022-02-26T11:43:58.970Z"
   },
   {
    "duration": 4,
    "start_time": "2022-02-26T11:44:16.548Z"
   },
   {
    "duration": 808,
    "start_time": "2022-02-26T11:44:18.906Z"
   },
   {
    "duration": 4,
    "start_time": "2022-02-26T11:44:32.370Z"
   },
   {
    "duration": 594,
    "start_time": "2022-02-26T11:44:34.854Z"
   },
   {
    "duration": 4,
    "start_time": "2022-02-26T11:45:24.318Z"
   },
   {
    "duration": 644,
    "start_time": "2022-02-26T11:45:27.157Z"
   },
   {
    "duration": 8,
    "start_time": "2022-02-26T11:46:25.700Z"
   },
   {
    "duration": 4,
    "start_time": "2022-02-26T11:47:02.803Z"
   },
   {
    "duration": 691,
    "start_time": "2022-02-26T11:47:06.704Z"
   },
   {
    "duration": 4,
    "start_time": "2022-02-26T11:47:35.081Z"
   },
   {
    "duration": 598,
    "start_time": "2022-02-26T11:47:37.592Z"
   },
   {
    "duration": 5,
    "start_time": "2022-02-26T11:47:46.043Z"
   },
   {
    "duration": 668,
    "start_time": "2022-02-26T11:47:48.402Z"
   },
   {
    "duration": 4,
    "start_time": "2022-02-26T11:48:01.783Z"
   },
   {
    "duration": 592,
    "start_time": "2022-02-26T11:48:04.122Z"
   },
   {
    "duration": 3,
    "start_time": "2022-02-26T11:48:14.754Z"
   },
   {
    "duration": 4,
    "start_time": "2022-02-26T11:48:16.647Z"
   },
   {
    "duration": 608,
    "start_time": "2022-02-26T11:48:19.526Z"
   },
   {
    "duration": 4,
    "start_time": "2022-02-26T11:51:36.223Z"
   },
   {
    "duration": 744,
    "start_time": "2022-02-26T11:51:40.694Z"
   },
   {
    "duration": 633,
    "start_time": "2022-02-26T11:57:10.971Z"
   },
   {
    "duration": 607,
    "start_time": "2022-02-26T11:58:05.066Z"
   },
   {
    "duration": 4,
    "start_time": "2022-02-26T12:07:38.953Z"
   },
   {
    "duration": 2,
    "start_time": "2022-02-26T12:07:38.966Z"
   },
   {
    "duration": 1960,
    "start_time": "2022-02-26T12:07:38.971Z"
   },
   {
    "duration": 1116,
    "start_time": "2022-02-26T12:07:40.934Z"
   },
   {
    "duration": 34,
    "start_time": "2022-02-26T12:07:42.053Z"
   },
   {
    "duration": 43,
    "start_time": "2022-02-26T12:07:42.090Z"
   },
   {
    "duration": 29,
    "start_time": "2022-02-26T12:07:42.136Z"
   },
   {
    "duration": 26,
    "start_time": "2022-02-26T12:07:42.167Z"
   },
   {
    "duration": 50,
    "start_time": "2022-02-26T12:07:42.197Z"
   },
   {
    "duration": 15,
    "start_time": "2022-02-26T12:07:42.250Z"
   },
   {
    "duration": 11,
    "start_time": "2022-02-26T12:07:42.267Z"
   },
   {
    "duration": 10,
    "start_time": "2022-02-26T12:07:42.280Z"
   },
   {
    "duration": 48,
    "start_time": "2022-02-26T12:07:42.292Z"
   },
   {
    "duration": 10,
    "start_time": "2022-02-26T12:07:42.342Z"
   },
   {
    "duration": 232,
    "start_time": "2022-02-26T12:07:42.354Z"
   },
   {
    "duration": 3,
    "start_time": "2022-02-26T12:07:42.588Z"
   },
   {
    "duration": 7,
    "start_time": "2022-02-26T12:07:42.594Z"
   },
   {
    "duration": 8,
    "start_time": "2022-02-26T12:07:42.603Z"
   },
   {
    "duration": 4,
    "start_time": "2022-02-26T12:07:42.613Z"
   },
   {
    "duration": 3,
    "start_time": "2022-02-26T12:07:42.633Z"
   },
   {
    "duration": 6,
    "start_time": "2022-02-26T12:07:42.638Z"
   },
   {
    "duration": 5,
    "start_time": "2022-02-26T12:07:42.646Z"
   },
   {
    "duration": 7,
    "start_time": "2022-02-26T12:07:42.653Z"
   },
   {
    "duration": 10,
    "start_time": "2022-02-26T12:07:42.664Z"
   },
   {
    "duration": 6,
    "start_time": "2022-02-26T12:07:42.676Z"
   },
   {
    "duration": 63,
    "start_time": "2022-02-26T12:07:42.684Z"
   },
   {
    "duration": 13,
    "start_time": "2022-02-26T12:07:42.749Z"
   },
   {
    "duration": 9,
    "start_time": "2022-02-26T12:07:42.765Z"
   },
   {
    "duration": 71,
    "start_time": "2022-02-26T12:07:42.776Z"
   },
   {
    "duration": 31,
    "start_time": "2022-02-26T12:07:42.851Z"
   },
   {
    "duration": 14,
    "start_time": "2022-02-26T12:07:42.885Z"
   },
   {
    "duration": 33,
    "start_time": "2022-02-26T12:07:42.902Z"
   },
   {
    "duration": 1334,
    "start_time": "2022-02-26T12:07:42.937Z"
   },
   {
    "duration": 1432,
    "start_time": "2022-02-26T12:07:44.273Z"
   },
   {
    "duration": 1362,
    "start_time": "2022-02-26T12:07:45.707Z"
   },
   {
    "duration": 6,
    "start_time": "2022-02-26T12:49:01.723Z"
   },
   {
    "duration": 1436,
    "start_time": "2022-02-26T12:49:35.953Z"
   },
   {
    "duration": 6,
    "start_time": "2022-02-26T12:50:09.891Z"
   },
   {
    "duration": 1543,
    "start_time": "2022-02-26T12:50:11.573Z"
   },
   {
    "duration": 6,
    "start_time": "2022-02-26T12:51:06.713Z"
   },
   {
    "duration": 1484,
    "start_time": "2022-02-26T12:51:09.184Z"
   },
   {
    "duration": 6,
    "start_time": "2022-02-26T12:51:39.447Z"
   },
   {
    "duration": 1773,
    "start_time": "2022-02-26T12:51:41.414Z"
   },
   {
    "duration": 6,
    "start_time": "2022-02-26T12:52:01.984Z"
   },
   {
    "duration": 1429,
    "start_time": "2022-02-26T12:52:07.065Z"
   },
   {
    "duration": 1662,
    "start_time": "2022-02-26T12:55:23.723Z"
   },
   {
    "duration": 1509,
    "start_time": "2022-02-26T12:58:02.646Z"
   },
   {
    "duration": 1530,
    "start_time": "2022-02-26T12:58:14.246Z"
   },
   {
    "duration": 1840,
    "start_time": "2022-02-26T12:58:34.483Z"
   },
   {
    "duration": 1618,
    "start_time": "2022-02-26T12:58:43.514Z"
   },
   {
    "duration": 1758,
    "start_time": "2022-02-26T12:58:58.763Z"
   },
   {
    "duration": 6,
    "start_time": "2022-02-26T12:59:33.884Z"
   },
   {
    "duration": 1417,
    "start_time": "2022-02-26T12:59:36.073Z"
   },
   {
    "duration": 7,
    "start_time": "2022-02-26T12:59:47.553Z"
   },
   {
    "duration": 1328,
    "start_time": "2022-02-26T12:59:51.484Z"
   },
   {
    "duration": 1310,
    "start_time": "2022-02-26T12:59:57.084Z"
   },
   {
    "duration": 1306,
    "start_time": "2022-02-26T13:00:02.094Z"
   },
   {
    "duration": 1648,
    "start_time": "2022-02-26T13:05:34.446Z"
   },
   {
    "duration": 1513,
    "start_time": "2022-02-26T13:06:16.245Z"
   },
   {
    "duration": 1630,
    "start_time": "2022-02-26T13:06:28.865Z"
   },
   {
    "duration": 1702,
    "start_time": "2022-02-26T13:10:29.853Z"
   },
   {
    "duration": 1656,
    "start_time": "2022-02-26T13:11:00.846Z"
   },
   {
    "duration": 8,
    "start_time": "2022-02-26T13:45:31.713Z"
   },
   {
    "duration": 1371,
    "start_time": "2022-02-26T13:49:45.394Z"
   },
   {
    "duration": 1379,
    "start_time": "2022-02-26T13:50:07.223Z"
   },
   {
    "duration": 1508,
    "start_time": "2022-02-26T13:50:48.953Z"
   },
   {
    "duration": 17,
    "start_time": "2022-02-26T13:54:01.424Z"
   },
   {
    "duration": 12,
    "start_time": "2022-02-26T13:57:06.064Z"
   },
   {
    "duration": 12,
    "start_time": "2022-02-26T13:57:35.851Z"
   },
   {
    "duration": 1227,
    "start_time": "2022-02-26T14:00:39.614Z"
   },
   {
    "duration": 1156,
    "start_time": "2022-02-26T14:00:47.306Z"
   },
   {
    "duration": 1295,
    "start_time": "2022-02-26T14:00:58.874Z"
   },
   {
    "duration": 1193,
    "start_time": "2022-02-26T14:02:20.092Z"
   },
   {
    "duration": 1390,
    "start_time": "2022-02-26T14:02:30.723Z"
   },
   {
    "duration": 1173,
    "start_time": "2022-02-26T14:02:37.464Z"
   },
   {
    "duration": 1152,
    "start_time": "2022-02-26T14:02:47.185Z"
   },
   {
    "duration": 488,
    "start_time": "2022-02-26T14:05:35.445Z"
   },
   {
    "duration": 328,
    "start_time": "2022-02-26T14:05:43.923Z"
   },
   {
    "duration": 333,
    "start_time": "2022-02-26T14:06:27.545Z"
   },
   {
    "duration": 91,
    "start_time": "2022-02-26T14:12:46.811Z"
   },
   {
    "duration": 40,
    "start_time": "2022-02-26T14:14:19.984Z"
   },
   {
    "duration": 41,
    "start_time": "2022-02-26T14:14:51.884Z"
   },
   {
    "duration": 12,
    "start_time": "2022-02-26T14:15:37.234Z"
   },
   {
    "duration": 77,
    "start_time": "2022-02-26T14:17:13.114Z"
   },
   {
    "duration": 19,
    "start_time": "2022-02-26T14:18:13.553Z"
   },
   {
    "duration": 299,
    "start_time": "2022-02-26T14:18:52.451Z"
   },
   {
    "duration": 98,
    "start_time": "2022-02-26T14:26:15.993Z"
   },
   {
    "duration": 361,
    "start_time": "2022-02-26T14:26:19.764Z"
   },
   {
    "duration": 300,
    "start_time": "2022-02-26T14:26:36.903Z"
   },
   {
    "duration": 112,
    "start_time": "2022-02-26T14:26:52.273Z"
   },
   {
    "duration": 84,
    "start_time": "2022-02-26T14:27:12.103Z"
   },
   {
    "duration": 77,
    "start_time": "2022-02-26T14:27:27.003Z"
   },
   {
    "duration": 75,
    "start_time": "2022-02-26T14:27:30.662Z"
   },
   {
    "duration": 40,
    "start_time": "2022-02-26T14:27:41.665Z"
   },
   {
    "duration": 82,
    "start_time": "2022-02-26T14:28:00.414Z"
   },
   {
    "duration": 50,
    "start_time": "2022-02-26T14:29:31.024Z"
   },
   {
    "duration": 1964,
    "start_time": "2022-02-26T14:31:01.433Z"
   },
   {
    "duration": 40,
    "start_time": "2022-02-26T14:42:47.945Z"
   },
   {
    "duration": 2157,
    "start_time": "2022-02-26T14:50:02.693Z"
   },
   {
    "duration": 2037,
    "start_time": "2022-02-26T14:50:30.121Z"
   },
   {
    "duration": 94,
    "start_time": "2022-02-26T14:50:55.744Z"
   },
   {
    "duration": 2051,
    "start_time": "2022-02-26T14:51:01.308Z"
   },
   {
    "duration": 2230,
    "start_time": "2022-02-26T14:51:39.883Z"
   },
   {
    "duration": 25,
    "start_time": "2022-02-26T14:52:05.450Z"
   },
   {
    "duration": 20,
    "start_time": "2022-02-26T14:53:17.914Z"
   },
   {
    "duration": 19,
    "start_time": "2022-02-26T14:53:34.354Z"
   },
   {
    "duration": 25,
    "start_time": "2022-02-26T14:54:31.004Z"
   },
   {
    "duration": 25,
    "start_time": "2022-02-26T14:54:42.616Z"
   },
   {
    "duration": 18,
    "start_time": "2022-02-26T14:55:02.540Z"
   },
   {
    "duration": 26,
    "start_time": "2022-02-26T14:55:19.173Z"
   },
   {
    "duration": 1318,
    "start_time": "2022-02-26T14:55:42.334Z"
   },
   {
    "duration": 1148,
    "start_time": "2022-02-26T14:56:11.733Z"
   },
   {
    "duration": 43,
    "start_time": "2022-02-26T14:56:51.304Z"
   },
   {
    "duration": 74,
    "start_time": "2022-02-26T14:57:41.123Z"
   },
   {
    "duration": 19,
    "start_time": "2022-02-26T14:58:04.643Z"
   },
   {
    "duration": 73,
    "start_time": "2022-02-26T14:59:44.283Z"
   },
   {
    "duration": 359,
    "start_time": "2022-02-26T15:04:44.538Z"
   },
   {
    "duration": 283,
    "start_time": "2022-02-26T15:05:56.893Z"
   },
   {
    "duration": 284,
    "start_time": "2022-02-26T15:08:20.223Z"
   },
   {
    "duration": 286,
    "start_time": "2022-02-26T15:08:53.043Z"
   },
   {
    "duration": 293,
    "start_time": "2022-02-26T15:09:01.997Z"
   },
   {
    "duration": 29,
    "start_time": "2022-02-26T15:16:39.223Z"
   },
   {
    "duration": 139,
    "start_time": "2022-02-26T15:17:21.237Z"
   },
   {
    "duration": 11,
    "start_time": "2022-02-26T15:17:34.422Z"
   },
   {
    "duration": 19,
    "start_time": "2022-02-26T15:17:56.332Z"
   },
   {
    "duration": 18,
    "start_time": "2022-02-26T15:18:10.493Z"
   },
   {
    "duration": 18,
    "start_time": "2022-02-26T15:18:18.020Z"
   },
   {
    "duration": 4,
    "start_time": "2022-02-26T15:19:50.028Z"
   },
   {
    "duration": 5,
    "start_time": "2022-02-26T15:19:50.035Z"
   },
   {
    "duration": 1488,
    "start_time": "2022-02-26T15:19:50.044Z"
   },
   {
    "duration": 1265,
    "start_time": "2022-02-26T15:19:51.537Z"
   },
   {
    "duration": 40,
    "start_time": "2022-02-26T15:19:52.804Z"
   },
   {
    "duration": 29,
    "start_time": "2022-02-26T15:19:52.847Z"
   },
   {
    "duration": 56,
    "start_time": "2022-02-26T15:19:52.878Z"
   },
   {
    "duration": 28,
    "start_time": "2022-02-26T15:19:52.937Z"
   },
   {
    "duration": 23,
    "start_time": "2022-02-26T15:19:52.968Z"
   },
   {
    "duration": 43,
    "start_time": "2022-02-26T15:19:52.994Z"
   },
   {
    "duration": 10,
    "start_time": "2022-02-26T15:19:53.040Z"
   },
   {
    "duration": 10,
    "start_time": "2022-02-26T15:19:53.053Z"
   },
   {
    "duration": 14,
    "start_time": "2022-02-26T15:19:53.065Z"
   },
   {
    "duration": 9,
    "start_time": "2022-02-26T15:19:53.081Z"
   },
   {
    "duration": 250,
    "start_time": "2022-02-26T15:19:53.092Z"
   },
   {
    "duration": 3,
    "start_time": "2022-02-26T15:19:53.344Z"
   },
   {
    "duration": 5,
    "start_time": "2022-02-26T15:19:53.349Z"
   },
   {
    "duration": 5,
    "start_time": "2022-02-26T15:19:53.356Z"
   },
   {
    "duration": 5,
    "start_time": "2022-02-26T15:19:53.363Z"
   },
   {
    "duration": 5,
    "start_time": "2022-02-26T15:19:53.370Z"
   },
   {
    "duration": 4,
    "start_time": "2022-02-26T15:19:53.378Z"
   },
   {
    "duration": 49,
    "start_time": "2022-02-26T15:19:53.384Z"
   },
   {
    "duration": 6,
    "start_time": "2022-02-26T15:19:53.436Z"
   },
   {
    "duration": 10,
    "start_time": "2022-02-26T15:19:53.445Z"
   },
   {
    "duration": 8,
    "start_time": "2022-02-26T15:19:53.457Z"
   },
   {
    "duration": 20,
    "start_time": "2022-02-26T15:19:53.467Z"
   },
   {
    "duration": 15,
    "start_time": "2022-02-26T15:19:53.535Z"
   },
   {
    "duration": 9,
    "start_time": "2022-02-26T15:19:53.553Z"
   },
   {
    "duration": 78,
    "start_time": "2022-02-26T15:19:53.565Z"
   },
   {
    "duration": 21,
    "start_time": "2022-02-26T15:19:53.646Z"
   },
   {
    "duration": 10,
    "start_time": "2022-02-26T15:19:53.669Z"
   },
   {
    "duration": 8,
    "start_time": "2022-02-26T15:19:53.681Z"
   },
   {
    "duration": 1166,
    "start_time": "2022-02-26T15:19:53.691Z"
   },
   {
    "duration": 1180,
    "start_time": "2022-02-26T15:19:54.859Z"
   },
   {
    "duration": 1146,
    "start_time": "2022-02-26T15:19:56.041Z"
   },
   {
    "duration": 1347,
    "start_time": "2022-02-26T15:19:57.189Z"
   },
   {
    "duration": 1474,
    "start_time": "2022-02-26T15:19:58.538Z"
   },
   {
    "duration": 20,
    "start_time": "2022-02-26T15:20:00.014Z"
   },
   {
    "duration": 1152,
    "start_time": "2022-02-26T15:20:00.037Z"
   },
   {
    "duration": 10,
    "start_time": "2022-02-26T15:20:01.192Z"
   },
   {
    "duration": 30,
    "start_time": "2022-02-26T15:20:01.205Z"
   },
   {
    "duration": 12,
    "start_time": "2022-02-26T15:20:01.238Z"
   },
   {
    "duration": 1596,
    "start_time": "2022-02-26T15:20:01.253Z"
   },
   {
    "duration": 42,
    "start_time": "2022-02-26T15:20:02.852Z"
   },
   {
    "duration": 65,
    "start_time": "2022-02-26T15:20:02.896Z"
   },
   {
    "duration": 86,
    "start_time": "2022-02-26T15:20:02.963Z"
   },
   {
    "duration": 30,
    "start_time": "2022-02-26T15:20:03.051Z"
   },
   {
    "duration": 19,
    "start_time": "2022-02-26T15:20:15.961Z"
   },
   {
    "duration": 36,
    "start_time": "2022-02-26T15:25:11.717Z"
   },
   {
    "duration": 19,
    "start_time": "2022-02-26T15:25:26.218Z"
   },
   {
    "duration": 36,
    "start_time": "2022-02-26T15:25:38.228Z"
   },
   {
    "duration": 3,
    "start_time": "2022-02-27T07:29:54.630Z"
   },
   {
    "duration": 2,
    "start_time": "2022-02-27T07:29:54.640Z"
   },
   {
    "duration": 1046,
    "start_time": "2022-02-27T07:29:54.644Z"
   },
   {
    "duration": 782,
    "start_time": "2022-02-27T07:29:55.692Z"
   },
   {
    "duration": 23,
    "start_time": "2022-02-27T07:29:56.475Z"
   },
   {
    "duration": 17,
    "start_time": "2022-02-27T07:29:56.499Z"
   },
   {
    "duration": 18,
    "start_time": "2022-02-27T07:29:56.517Z"
   },
   {
    "duration": 16,
    "start_time": "2022-02-27T07:29:56.558Z"
   },
   {
    "duration": 14,
    "start_time": "2022-02-27T07:29:56.576Z"
   },
   {
    "duration": 9,
    "start_time": "2022-02-27T07:29:56.592Z"
   },
   {
    "duration": 8,
    "start_time": "2022-02-27T07:29:56.602Z"
   },
   {
    "duration": 7,
    "start_time": "2022-02-27T07:29:56.611Z"
   },
   {
    "duration": 40,
    "start_time": "2022-02-27T07:29:56.620Z"
   },
   {
    "duration": 7,
    "start_time": "2022-02-27T07:29:56.662Z"
   },
   {
    "duration": 140,
    "start_time": "2022-02-27T07:29:56.670Z"
   },
   {
    "duration": 2,
    "start_time": "2022-02-27T07:29:56.812Z"
   },
   {
    "duration": 6,
    "start_time": "2022-02-27T07:29:56.815Z"
   },
   {
    "duration": 7,
    "start_time": "2022-02-27T07:29:56.822Z"
   },
   {
    "duration": 5,
    "start_time": "2022-02-27T07:29:56.830Z"
   },
   {
    "duration": 3,
    "start_time": "2022-02-27T07:29:56.838Z"
   },
   {
    "duration": 17,
    "start_time": "2022-02-27T07:29:56.843Z"
   },
   {
    "duration": 6,
    "start_time": "2022-02-27T07:29:56.861Z"
   },
   {
    "duration": 4,
    "start_time": "2022-02-27T07:29:56.868Z"
   },
   {
    "duration": 7,
    "start_time": "2022-02-27T07:29:56.874Z"
   },
   {
    "duration": 4,
    "start_time": "2022-02-27T07:29:56.882Z"
   },
   {
    "duration": 14,
    "start_time": "2022-02-27T07:29:56.888Z"
   },
   {
    "duration": 8,
    "start_time": "2022-02-27T07:29:56.903Z"
   },
   {
    "duration": 6,
    "start_time": "2022-02-27T07:29:56.913Z"
   },
   {
    "duration": 50,
    "start_time": "2022-02-27T07:29:56.921Z"
   },
   {
    "duration": 15,
    "start_time": "2022-02-27T07:29:56.973Z"
   },
   {
    "duration": 8,
    "start_time": "2022-02-27T07:29:56.989Z"
   },
   {
    "duration": 4,
    "start_time": "2022-02-27T07:29:56.998Z"
   },
   {
    "duration": 727,
    "start_time": "2022-02-27T07:29:57.004Z"
   },
   {
    "duration": 768,
    "start_time": "2022-02-27T07:29:57.732Z"
   },
   {
    "duration": 704,
    "start_time": "2022-02-27T07:29:58.501Z"
   },
   {
    "duration": 847,
    "start_time": "2022-02-27T07:29:59.206Z"
   },
   {
    "duration": 941,
    "start_time": "2022-02-27T07:30:00.058Z"
   },
   {
    "duration": 5,
    "start_time": "2022-02-27T07:30:01.000Z"
   },
   {
    "duration": 710,
    "start_time": "2022-02-27T07:30:01.007Z"
   },
   {
    "duration": 7,
    "start_time": "2022-02-27T07:30:01.719Z"
   },
   {
    "duration": 13,
    "start_time": "2022-02-27T07:30:01.728Z"
   },
   {
    "duration": 20,
    "start_time": "2022-02-27T07:30:01.742Z"
   },
   {
    "duration": 745,
    "start_time": "2022-02-27T07:30:01.764Z"
   },
   {
    "duration": 24,
    "start_time": "2022-02-27T07:30:02.511Z"
   },
   {
    "duration": 35,
    "start_time": "2022-02-27T07:30:02.536Z"
   },
   {
    "duration": 43,
    "start_time": "2022-02-27T07:30:02.573Z"
   },
   {
    "duration": 42,
    "start_time": "2022-02-27T07:30:02.617Z"
   },
   {
    "duration": 40,
    "start_time": "2022-02-27T09:08:31.605Z"
   },
   {
    "duration": 41,
    "start_time": "2022-02-27T09:08:51.642Z"
   },
   {
    "duration": 5,
    "start_time": "2022-03-01T12:07:01.039Z"
   },
   {
    "duration": 10,
    "start_time": "2022-03-01T12:07:01.051Z"
   },
   {
    "duration": 1481,
    "start_time": "2022-03-01T12:07:01.064Z"
   },
   {
    "duration": 1001,
    "start_time": "2022-03-01T12:07:02.548Z"
   },
   {
    "duration": 42,
    "start_time": "2022-03-01T12:07:03.551Z"
   },
   {
    "duration": 56,
    "start_time": "2022-03-01T12:07:03.596Z"
   },
   {
    "duration": 32,
    "start_time": "2022-03-01T12:07:03.654Z"
   },
   {
    "duration": 28,
    "start_time": "2022-03-01T12:07:03.689Z"
   },
   {
    "duration": 24,
    "start_time": "2022-03-01T12:07:03.719Z"
   },
   {
    "duration": 40,
    "start_time": "2022-03-01T12:07:03.746Z"
   },
   {
    "duration": 11,
    "start_time": "2022-03-01T12:07:03.789Z"
   },
   {
    "duration": 15,
    "start_time": "2022-03-01T12:07:03.802Z"
   },
   {
    "duration": 10,
    "start_time": "2022-03-01T12:07:03.820Z"
   },
   {
    "duration": 51,
    "start_time": "2022-03-01T12:07:03.833Z"
   },
   {
    "duration": 236,
    "start_time": "2022-03-01T12:07:03.887Z"
   },
   {
    "duration": 3,
    "start_time": "2022-03-01T12:07:04.127Z"
   },
   {
    "duration": 5,
    "start_time": "2022-03-01T12:07:04.133Z"
   },
   {
    "duration": 6,
    "start_time": "2022-03-01T12:07:04.140Z"
   },
   {
    "duration": 26,
    "start_time": "2022-03-01T12:07:04.148Z"
   },
   {
    "duration": 9,
    "start_time": "2022-03-01T12:07:04.176Z"
   },
   {
    "duration": 14,
    "start_time": "2022-03-01T12:07:04.187Z"
   },
   {
    "duration": 8,
    "start_time": "2022-03-01T12:07:04.203Z"
   },
   {
    "duration": 7,
    "start_time": "2022-03-01T12:07:04.214Z"
   },
   {
    "duration": 15,
    "start_time": "2022-03-01T12:07:04.223Z"
   },
   {
    "duration": 32,
    "start_time": "2022-03-01T12:07:04.241Z"
   },
   {
    "duration": 17,
    "start_time": "2022-03-01T12:07:04.276Z"
   },
   {
    "duration": 14,
    "start_time": "2022-03-01T12:07:04.296Z"
   },
   {
    "duration": 11,
    "start_time": "2022-03-01T12:07:04.315Z"
   },
   {
    "duration": 69,
    "start_time": "2022-03-01T12:07:04.329Z"
   },
   {
    "duration": 23,
    "start_time": "2022-03-01T12:07:04.401Z"
   },
   {
    "duration": 12,
    "start_time": "2022-03-01T12:07:04.426Z"
   },
   {
    "duration": 35,
    "start_time": "2022-03-01T12:07:04.440Z"
   },
   {
    "duration": 1205,
    "start_time": "2022-03-01T12:07:04.478Z"
   },
   {
    "duration": 1291,
    "start_time": "2022-03-01T12:07:05.686Z"
   },
   {
    "duration": 1203,
    "start_time": "2022-03-01T12:07:06.979Z"
   },
   {
    "duration": 1396,
    "start_time": "2022-03-01T12:07:08.184Z"
   },
   {
    "duration": 1553,
    "start_time": "2022-03-01T12:07:09.582Z"
   },
   {
    "duration": 8,
    "start_time": "2022-03-01T12:07:11.138Z"
   },
   {
    "duration": 1444,
    "start_time": "2022-03-01T12:07:11.148Z"
   },
   {
    "duration": 11,
    "start_time": "2022-03-01T12:07:12.594Z"
   },
   {
    "duration": 13,
    "start_time": "2022-03-01T12:07:12.607Z"
   },
   {
    "duration": 15,
    "start_time": "2022-03-01T12:07:12.623Z"
   },
   {
    "duration": 1219,
    "start_time": "2022-03-01T12:07:12.674Z"
   },
   {
    "duration": 40,
    "start_time": "2022-03-01T12:07:13.896Z"
   },
   {
    "duration": 61,
    "start_time": "2022-03-01T12:07:13.938Z"
   },
   {
    "duration": 85,
    "start_time": "2022-03-01T12:07:14.001Z"
   },
   {
    "duration": 33,
    "start_time": "2022-03-01T12:07:14.089Z"
   },
   {
    "duration": 92,
    "start_time": "2022-03-01T12:07:14.124Z"
   },
   {
    "duration": 2,
    "start_time": "2022-03-01T12:07:14.219Z"
   },
   {
    "duration": 14,
    "start_time": "2022-03-01T12:07:14.223Z"
   },
   {
    "duration": 11,
    "start_time": "2022-03-01T12:07:14.239Z"
   },
   {
    "duration": 14,
    "start_time": "2022-03-01T12:07:14.252Z"
   },
   {
    "duration": 5,
    "start_time": "2022-03-01T13:10:24.674Z"
   },
   {
    "duration": 7,
    "start_time": "2022-03-01T13:10:24.681Z"
   },
   {
    "duration": 1501,
    "start_time": "2022-03-01T13:10:24.708Z"
   },
   {
    "duration": 1036,
    "start_time": "2022-03-01T13:10:26.211Z"
   },
   {
    "duration": 41,
    "start_time": "2022-03-01T13:10:27.250Z"
   },
   {
    "duration": 31,
    "start_time": "2022-03-01T13:10:27.295Z"
   },
   {
    "duration": 64,
    "start_time": "2022-03-01T13:10:27.329Z"
   },
   {
    "duration": 28,
    "start_time": "2022-03-01T13:10:27.395Z"
   },
   {
    "duration": 53,
    "start_time": "2022-03-01T13:10:27.426Z"
   },
   {
    "duration": 18,
    "start_time": "2022-03-01T13:10:27.481Z"
   },
   {
    "duration": 13,
    "start_time": "2022-03-01T13:10:27.502Z"
   },
   {
    "duration": 55,
    "start_time": "2022-03-01T13:10:27.518Z"
   },
   {
    "duration": 15,
    "start_time": "2022-03-01T13:10:27.577Z"
   },
   {
    "duration": 15,
    "start_time": "2022-03-01T13:10:27.595Z"
   },
   {
    "duration": 367,
    "start_time": "2022-03-01T13:10:27.613Z"
   },
   {
    "duration": 3,
    "start_time": "2022-03-01T13:10:27.983Z"
   },
   {
    "duration": 14,
    "start_time": "2022-03-01T13:10:27.990Z"
   },
   {
    "duration": 10,
    "start_time": "2022-03-01T13:10:28.007Z"
   },
   {
    "duration": 25,
    "start_time": "2022-03-01T13:10:28.019Z"
   },
   {
    "duration": 11,
    "start_time": "2022-03-01T13:10:28.047Z"
   },
   {
    "duration": 13,
    "start_time": "2022-03-01T13:10:28.061Z"
   },
   {
    "duration": 9,
    "start_time": "2022-03-01T13:10:28.078Z"
   },
   {
    "duration": 11,
    "start_time": "2022-03-01T13:10:28.089Z"
   },
   {
    "duration": 18,
    "start_time": "2022-03-01T13:10:28.102Z"
   },
   {
    "duration": 9,
    "start_time": "2022-03-01T13:10:28.123Z"
   },
   {
    "duration": 43,
    "start_time": "2022-03-01T13:10:28.134Z"
   },
   {
    "duration": 13,
    "start_time": "2022-03-01T13:10:28.180Z"
   },
   {
    "duration": 11,
    "start_time": "2022-03-01T13:10:28.196Z"
   },
   {
    "duration": 73,
    "start_time": "2022-03-01T13:10:28.214Z"
   },
   {
    "duration": 21,
    "start_time": "2022-03-01T13:10:28.290Z"
   },
   {
    "duration": 13,
    "start_time": "2022-03-01T13:10:28.313Z"
   },
   {
    "duration": 45,
    "start_time": "2022-03-01T13:10:28.329Z"
   },
   {
    "duration": 1184,
    "start_time": "2022-03-01T13:10:28.377Z"
   },
   {
    "duration": 1265,
    "start_time": "2022-03-01T13:10:29.564Z"
   },
   {
    "duration": 1194,
    "start_time": "2022-03-01T13:10:30.833Z"
   },
   {
    "duration": 1439,
    "start_time": "2022-03-01T13:10:32.029Z"
   },
   {
    "duration": 1558,
    "start_time": "2022-03-01T13:10:33.474Z"
   },
   {
    "duration": 9,
    "start_time": "2022-03-01T13:10:35.035Z"
   },
   {
    "duration": 1193,
    "start_time": "2022-03-01T13:10:35.047Z"
   },
   {
    "duration": 31,
    "start_time": "2022-03-01T13:10:36.243Z"
   },
   {
    "duration": 13,
    "start_time": "2022-03-01T13:10:36.277Z"
   },
   {
    "duration": 13,
    "start_time": "2022-03-01T13:10:36.293Z"
   },
   {
    "duration": 1304,
    "start_time": "2022-03-01T13:10:36.309Z"
   },
   {
    "duration": 58,
    "start_time": "2022-03-01T13:10:37.615Z"
   },
   {
    "duration": 44,
    "start_time": "2022-03-01T13:10:37.676Z"
   },
   {
    "duration": 106,
    "start_time": "2022-03-01T13:10:37.723Z"
   },
   {
    "duration": 62,
    "start_time": "2022-03-01T13:10:37.832Z"
   },
   {
    "duration": 80,
    "start_time": "2022-03-01T13:10:37.896Z"
   },
   {
    "duration": 3,
    "start_time": "2022-03-01T13:10:37.978Z"
   },
   {
    "duration": 19,
    "start_time": "2022-03-01T13:10:37.983Z"
   },
   {
    "duration": 20,
    "start_time": "2022-03-01T13:10:38.004Z"
   },
   {
    "duration": 6,
    "start_time": "2022-03-01T13:10:38.026Z"
   },
   {
    "duration": 13,
    "start_time": "2022-03-01T14:04:11.790Z"
   },
   {
    "duration": 40,
    "start_time": "2022-03-01T14:56:26.170Z"
   },
   {
    "duration": 33,
    "start_time": "2022-03-01T14:57:29.401Z"
   },
   {
    "duration": 23,
    "start_time": "2022-03-01T14:59:36.360Z"
   },
   {
    "duration": 6,
    "start_time": "2022-03-01T16:56:21.146Z"
   },
   {
    "duration": 3,
    "start_time": "2022-03-01T16:56:43.499Z"
   },
   {
    "duration": 6,
    "start_time": "2022-03-01T16:56:53.532Z"
   },
   {
    "duration": 6,
    "start_time": "2022-03-01T17:16:38.288Z"
   },
   {
    "duration": 5,
    "start_time": "2022-03-01T17:32:16.226Z"
   },
   {
    "duration": 400,
    "start_time": "2022-03-01T17:32:54.512Z"
   },
   {
    "duration": 5,
    "start_time": "2022-03-01T17:33:12.936Z"
   },
   {
    "duration": 27,
    "start_time": "2022-03-01T17:58:43.257Z"
   },
   {
    "duration": 220,
    "start_time": "2022-03-01T18:10:21.582Z"
   },
   {
    "duration": 242,
    "start_time": "2022-03-01T18:10:36.856Z"
   },
   {
    "duration": 24,
    "start_time": "2022-03-01T18:11:39.464Z"
   },
   {
    "duration": 47,
    "start_time": "2022-03-01T18:11:55.597Z"
   },
   {
    "duration": 16,
    "start_time": "2022-03-01T18:12:09.697Z"
   },
   {
    "duration": 11,
    "start_time": "2022-03-01T18:12:22.828Z"
   },
   {
    "duration": 10,
    "start_time": "2022-03-01T18:17:18.017Z"
   },
   {
    "duration": 8,
    "start_time": "2022-03-01T18:21:40.556Z"
   },
   {
    "duration": 9,
    "start_time": "2022-03-01T18:21:46.363Z"
   },
   {
    "duration": 7,
    "start_time": "2022-03-01T18:32:06.494Z"
   },
   {
    "duration": 6,
    "start_time": "2022-03-01T18:38:04.624Z"
   },
   {
    "duration": 7,
    "start_time": "2022-03-01T18:42:17.084Z"
   },
   {
    "duration": 7,
    "start_time": "2022-03-01T18:50:33.836Z"
   },
   {
    "duration": 6,
    "start_time": "2022-03-01T18:50:47.173Z"
   },
   {
    "duration": 7,
    "start_time": "2022-03-01T18:50:54.595Z"
   },
   {
    "duration": 6,
    "start_time": "2022-03-01T18:51:19.165Z"
   },
   {
    "duration": 8,
    "start_time": "2022-03-01T18:51:27.202Z"
   },
   {
    "duration": 6,
    "start_time": "2022-03-01T19:01:05.301Z"
   },
   {
    "duration": 259,
    "start_time": "2022-03-01T19:14:32.272Z"
   },
   {
    "duration": 414,
    "start_time": "2022-03-01T19:14:49.312Z"
   },
   {
    "duration": 4,
    "start_time": "2022-03-01T19:15:21.083Z"
   },
   {
    "duration": 7,
    "start_time": "2022-03-01T19:15:30.753Z"
   },
   {
    "duration": 9,
    "start_time": "2022-03-01T19:15:50.422Z"
   },
   {
    "duration": 12,
    "start_time": "2022-03-01T19:16:40.332Z"
   },
   {
    "duration": 6,
    "start_time": "2022-03-01T19:19:17.441Z"
   },
   {
    "duration": 7,
    "start_time": "2022-03-01T19:19:20.942Z"
   },
   {
    "duration": 43,
    "start_time": "2022-03-01T19:19:33.062Z"
   },
   {
    "duration": 17,
    "start_time": "2022-03-01T19:19:40.850Z"
   },
   {
    "duration": 5,
    "start_time": "2022-03-01T19:21:05.096Z"
   },
   {
    "duration": 24,
    "start_time": "2022-03-01T19:21:05.104Z"
   },
   {
    "duration": 1557,
    "start_time": "2022-03-01T19:21:05.131Z"
   },
   {
    "duration": 1078,
    "start_time": "2022-03-01T19:21:06.691Z"
   },
   {
    "duration": 38,
    "start_time": "2022-03-01T19:21:07.771Z"
   },
   {
    "duration": 29,
    "start_time": "2022-03-01T19:21:07.812Z"
   },
   {
    "duration": 57,
    "start_time": "2022-03-01T19:21:07.844Z"
   },
   {
    "duration": 28,
    "start_time": "2022-03-01T19:21:07.903Z"
   },
   {
    "duration": 53,
    "start_time": "2022-03-01T19:21:07.935Z"
   },
   {
    "duration": 16,
    "start_time": "2022-03-01T19:21:07.991Z"
   },
   {
    "duration": 11,
    "start_time": "2022-03-01T19:21:08.010Z"
   },
   {
    "duration": 10,
    "start_time": "2022-03-01T19:21:08.024Z"
   },
   {
    "duration": 11,
    "start_time": "2022-03-01T19:21:08.073Z"
   },
   {
    "duration": 10,
    "start_time": "2022-03-01T19:21:08.087Z"
   },
   {
    "duration": 10,
    "start_time": "2022-03-01T19:21:08.100Z"
   },
   {
    "duration": 248,
    "start_time": "2022-03-01T19:21:08.112Z"
   },
   {
    "duration": 3,
    "start_time": "2022-03-01T19:21:08.362Z"
   },
   {
    "duration": 3,
    "start_time": "2022-03-01T19:21:08.374Z"
   },
   {
    "duration": 4,
    "start_time": "2022-03-01T19:21:08.380Z"
   },
   {
    "duration": 5,
    "start_time": "2022-03-01T19:21:08.387Z"
   },
   {
    "duration": 6,
    "start_time": "2022-03-01T19:21:08.394Z"
   },
   {
    "duration": 5,
    "start_time": "2022-03-01T19:21:08.402Z"
   },
   {
    "duration": 7,
    "start_time": "2022-03-01T19:21:08.410Z"
   },
   {
    "duration": 6,
    "start_time": "2022-03-01T19:21:08.419Z"
   },
   {
    "duration": 64,
    "start_time": "2022-03-01T19:21:08.427Z"
   },
   {
    "duration": 10,
    "start_time": "2022-03-01T19:21:08.495Z"
   },
   {
    "duration": 19,
    "start_time": "2022-03-01T19:21:08.513Z"
   },
   {
    "duration": 43,
    "start_time": "2022-03-01T19:21:08.536Z"
   },
   {
    "duration": 10,
    "start_time": "2022-03-01T19:21:08.582Z"
   },
   {
    "duration": 30,
    "start_time": "2022-03-01T19:21:08.595Z"
   },
   {
    "duration": 60,
    "start_time": "2022-03-01T19:21:08.627Z"
   },
   {
    "duration": 11,
    "start_time": "2022-03-01T19:21:08.689Z"
   },
   {
    "duration": 6,
    "start_time": "2022-03-01T19:21:08.703Z"
   },
   {
    "duration": 1193,
    "start_time": "2022-03-01T19:21:08.712Z"
   },
   {
    "duration": 1297,
    "start_time": "2022-03-01T19:21:09.908Z"
   },
   {
    "duration": 1301,
    "start_time": "2022-03-01T19:21:11.208Z"
   },
   {
    "duration": 1444,
    "start_time": "2022-03-01T19:21:12.512Z"
   },
   {
    "duration": 1534,
    "start_time": "2022-03-01T19:21:13.959Z"
   },
   {
    "duration": 9,
    "start_time": "2022-03-01T19:21:15.496Z"
   },
   {
    "duration": 1192,
    "start_time": "2022-03-01T19:21:15.507Z"
   },
   {
    "duration": 10,
    "start_time": "2022-03-01T19:21:16.701Z"
   },
   {
    "duration": 17,
    "start_time": "2022-03-01T19:21:16.713Z"
   },
   {
    "duration": 10,
    "start_time": "2022-03-01T19:21:16.732Z"
   },
   {
    "duration": 1233,
    "start_time": "2022-03-01T19:21:16.744Z"
   },
   {
    "duration": 44,
    "start_time": "2022-03-01T19:21:17.979Z"
   },
   {
    "duration": 70,
    "start_time": "2022-03-01T19:21:18.026Z"
   },
   {
    "duration": 94,
    "start_time": "2022-03-01T19:21:18.100Z"
   },
   {
    "duration": 41,
    "start_time": "2022-03-01T19:21:18.197Z"
   },
   {
    "duration": 3,
    "start_time": "2022-03-01T19:21:18.241Z"
   },
   {
    "duration": 28,
    "start_time": "2022-03-01T19:21:18.246Z"
   },
   {
    "duration": 13,
    "start_time": "2022-03-01T19:21:18.276Z"
   },
   {
    "duration": 15,
    "start_time": "2022-03-01T19:21:18.291Z"
   },
   {
    "duration": 13,
    "start_time": "2022-03-01T19:21:18.309Z"
   },
   {
    "duration": 8,
    "start_time": "2022-03-01T19:21:18.325Z"
   },
   {
    "duration": 10,
    "start_time": "2022-03-01T19:21:18.336Z"
   },
   {
    "duration": 24,
    "start_time": "2022-03-01T19:21:18.349Z"
   },
   {
    "duration": 9,
    "start_time": "2022-03-01T19:21:18.375Z"
   },
   {
    "duration": 19,
    "start_time": "2022-03-01T19:21:18.386Z"
   },
   {
    "duration": 15,
    "start_time": "2022-03-01T19:21:18.407Z"
   },
   {
    "duration": 14,
    "start_time": "2022-03-01T19:21:18.425Z"
   },
   {
    "duration": 22,
    "start_time": "2022-03-01T19:21:18.442Z"
   },
   {
    "duration": 6,
    "start_time": "2022-03-02T10:44:43.256Z"
   },
   {
    "duration": 7,
    "start_time": "2022-03-02T10:44:43.264Z"
   },
   {
    "duration": 1437,
    "start_time": "2022-03-02T10:44:43.274Z"
   },
   {
    "duration": 984,
    "start_time": "2022-03-02T10:44:44.714Z"
   },
   {
    "duration": 35,
    "start_time": "2022-03-02T10:44:45.700Z"
   },
   {
    "duration": 49,
    "start_time": "2022-03-02T10:44:45.739Z"
   },
   {
    "duration": 34,
    "start_time": "2022-03-02T10:44:45.791Z"
   },
   {
    "duration": 27,
    "start_time": "2022-03-02T10:44:45.828Z"
   },
   {
    "duration": 47,
    "start_time": "2022-03-02T10:44:45.857Z"
   },
   {
    "duration": 15,
    "start_time": "2022-03-02T10:44:45.907Z"
   },
   {
    "duration": 10,
    "start_time": "2022-03-02T10:44:45.925Z"
   },
   {
    "duration": 50,
    "start_time": "2022-03-02T10:44:45.937Z"
   },
   {
    "duration": 11,
    "start_time": "2022-03-02T10:44:45.989Z"
   },
   {
    "duration": 10,
    "start_time": "2022-03-02T10:44:46.004Z"
   },
   {
    "duration": 9,
    "start_time": "2022-03-02T10:44:46.017Z"
   },
   {
    "duration": 248,
    "start_time": "2022-03-02T10:44:46.029Z"
   },
   {
    "duration": 8,
    "start_time": "2022-03-02T10:44:46.279Z"
   },
   {
    "duration": 8,
    "start_time": "2022-03-02T10:44:46.290Z"
   },
   {
    "duration": 5,
    "start_time": "2022-03-02T10:44:46.300Z"
   },
   {
    "duration": 6,
    "start_time": "2022-03-02T10:44:46.307Z"
   },
   {
    "duration": 5,
    "start_time": "2022-03-02T10:44:46.316Z"
   },
   {
    "duration": 6,
    "start_time": "2022-03-02T10:44:46.323Z"
   },
   {
    "duration": 6,
    "start_time": "2022-03-02T10:44:46.331Z"
   },
   {
    "duration": 6,
    "start_time": "2022-03-02T10:44:46.340Z"
   },
   {
    "duration": 41,
    "start_time": "2022-03-02T10:44:46.348Z"
   },
   {
    "duration": 6,
    "start_time": "2022-03-02T10:44:46.392Z"
   },
   {
    "duration": 20,
    "start_time": "2022-03-02T10:44:46.400Z"
   },
   {
    "duration": 13,
    "start_time": "2022-03-02T10:44:46.423Z"
   },
   {
    "duration": 52,
    "start_time": "2022-03-02T10:44:46.438Z"
   },
   {
    "duration": 30,
    "start_time": "2022-03-02T10:44:46.494Z"
   },
   {
    "duration": 21,
    "start_time": "2022-03-02T10:44:46.527Z"
   },
   {
    "duration": 11,
    "start_time": "2022-03-02T10:44:46.586Z"
   },
   {
    "duration": 6,
    "start_time": "2022-03-02T10:44:46.600Z"
   },
   {
    "duration": 1177,
    "start_time": "2022-03-02T10:44:46.609Z"
   },
   {
    "duration": 1266,
    "start_time": "2022-03-02T10:44:47.789Z"
   },
   {
    "duration": 1206,
    "start_time": "2022-03-02T10:44:49.058Z"
   },
   {
    "duration": 1413,
    "start_time": "2022-03-02T10:44:50.266Z"
   },
   {
    "duration": 1518,
    "start_time": "2022-03-02T10:44:51.689Z"
   },
   {
    "duration": 8,
    "start_time": "2022-03-02T10:44:53.210Z"
   },
   {
    "duration": 1305,
    "start_time": "2022-03-02T10:44:53.220Z"
   },
   {
    "duration": 11,
    "start_time": "2022-03-02T10:44:54.527Z"
   },
   {
    "duration": 11,
    "start_time": "2022-03-02T10:44:54.540Z"
   },
   {
    "duration": 39,
    "start_time": "2022-03-02T10:44:54.554Z"
   },
   {
    "duration": 1218,
    "start_time": "2022-03-02T10:44:54.596Z"
   },
   {
    "duration": 40,
    "start_time": "2022-03-02T10:44:55.816Z"
   },
   {
    "duration": 62,
    "start_time": "2022-03-02T10:44:55.858Z"
   },
   {
    "duration": 90,
    "start_time": "2022-03-02T10:44:55.922Z"
   },
   {
    "duration": 32,
    "start_time": "2022-03-02T10:44:56.014Z"
   },
   {
    "duration": 4,
    "start_time": "2022-03-02T10:44:56.048Z"
   },
   {
    "duration": 31,
    "start_time": "2022-03-02T10:44:56.056Z"
   },
   {
    "duration": 4,
    "start_time": "2022-03-02T10:44:56.090Z"
   },
   {
    "duration": 7,
    "start_time": "2022-03-02T10:44:56.096Z"
   },
   {
    "duration": 12,
    "start_time": "2022-03-02T10:44:56.105Z"
   },
   {
    "duration": 7,
    "start_time": "2022-03-02T10:44:56.119Z"
   },
   {
    "duration": 6,
    "start_time": "2022-03-02T10:44:56.128Z"
   },
   {
    "duration": 5,
    "start_time": "2022-03-02T10:44:56.137Z"
   },
   {
    "duration": 6,
    "start_time": "2022-03-02T10:44:56.188Z"
   },
   {
    "duration": 15,
    "start_time": "2022-03-02T10:44:56.196Z"
   },
   {
    "duration": 4,
    "start_time": "2022-03-02T10:44:56.214Z"
   },
   {
    "duration": 6,
    "start_time": "2022-03-02T10:44:56.220Z"
   },
   {
    "duration": 5,
    "start_time": "2022-03-02T10:44:56.228Z"
   },
   {
    "duration": 7,
    "start_time": "2022-03-02T13:00:42.073Z"
   },
   {
    "duration": 39667,
    "start_time": "2022-03-02T13:58:53.027Z"
   },
   {
    "duration": 6594,
    "start_time": "2022-03-02T13:59:32.698Z"
   },
   {
    "duration": 3971,
    "start_time": "2022-03-02T13:59:39.295Z"
   },
   {
    "duration": 885,
    "start_time": "2022-03-02T13:59:43.269Z"
   },
   {
    "duration": 44,
    "start_time": "2022-03-02T13:59:44.156Z"
   },
   {
    "duration": 30,
    "start_time": "2022-03-02T13:59:44.202Z"
   },
   {
    "duration": 53,
    "start_time": "2022-03-02T13:59:44.235Z"
   },
   {
    "duration": 26,
    "start_time": "2022-03-02T13:59:44.294Z"
   },
   {
    "duration": 23,
    "start_time": "2022-03-02T13:59:44.323Z"
   },
   {
    "duration": 49,
    "start_time": "2022-03-02T13:59:44.348Z"
   },
   {
    "duration": 10,
    "start_time": "2022-03-02T13:59:44.399Z"
   },
   {
    "duration": 9,
    "start_time": "2022-03-02T13:59:44.411Z"
   },
   {
    "duration": 9,
    "start_time": "2022-03-02T13:59:44.423Z"
   },
   {
    "duration": 61,
    "start_time": "2022-03-02T13:59:44.434Z"
   },
   {
    "duration": 9,
    "start_time": "2022-03-02T13:59:44.498Z"
   },
   {
    "duration": 223,
    "start_time": "2022-03-02T13:59:44.509Z"
   },
   {
    "duration": 4,
    "start_time": "2022-03-02T13:59:44.735Z"
   },
   {
    "duration": 7,
    "start_time": "2022-03-02T13:59:44.742Z"
   },
   {
    "duration": 5,
    "start_time": "2022-03-02T13:59:44.751Z"
   },
   {
    "duration": 6,
    "start_time": "2022-03-02T13:59:44.758Z"
   },
   {
    "duration": 3,
    "start_time": "2022-03-02T13:59:44.788Z"
   },
   {
    "duration": 7,
    "start_time": "2022-03-02T13:59:44.793Z"
   },
   {
    "duration": 6,
    "start_time": "2022-03-02T13:59:44.803Z"
   },
   {
    "duration": 11,
    "start_time": "2022-03-02T13:59:44.812Z"
   },
   {
    "duration": 8,
    "start_time": "2022-03-02T13:59:44.826Z"
   },
   {
    "duration": 6,
    "start_time": "2022-03-02T13:59:44.841Z"
   },
   {
    "duration": 51,
    "start_time": "2022-03-02T13:59:44.850Z"
   },
   {
    "duration": 12,
    "start_time": "2022-03-02T13:59:44.903Z"
   },
   {
    "duration": 9,
    "start_time": "2022-03-02T13:59:44.917Z"
   },
   {
    "duration": 64,
    "start_time": "2022-03-02T13:59:44.928Z"
   },
   {
    "duration": 20,
    "start_time": "2022-03-02T13:59:44.994Z"
   },
   {
    "duration": 11,
    "start_time": "2022-03-02T13:59:45.016Z"
   },
   {
    "duration": 7,
    "start_time": "2022-03-02T13:59:45.030Z"
   },
   {
    "duration": 706,
    "start_time": "2022-03-02T13:59:45.040Z"
   },
   {
    "duration": 987,
    "start_time": "2022-03-02T13:59:45.749Z"
   },
   {
    "duration": 903,
    "start_time": "2022-03-02T13:59:46.739Z"
   },
   {
    "duration": 1284,
    "start_time": "2022-03-02T13:59:47.646Z"
   },
   {
    "duration": 1195,
    "start_time": "2022-03-02T13:59:48.933Z"
   },
   {
    "duration": 169,
    "start_time": "2022-03-02T13:59:50.131Z"
   },
   {
    "duration": 710,
    "start_time": "2022-03-02T13:59:50.302Z"
   },
   {
    "duration": 11,
    "start_time": "2022-03-02T13:59:51.014Z"
   },
   {
    "duration": 60,
    "start_time": "2022-03-02T13:59:51.027Z"
   },
   {
    "duration": 13,
    "start_time": "2022-03-02T13:59:51.090Z"
   },
   {
    "duration": 696,
    "start_time": "2022-03-02T13:59:51.105Z"
   },
   {
    "duration": 41,
    "start_time": "2022-03-02T13:59:51.804Z"
   },
   {
    "duration": 72,
    "start_time": "2022-03-02T13:59:51.847Z"
   },
   {
    "duration": 97,
    "start_time": "2022-03-02T13:59:51.921Z"
   },
   {
    "duration": 31,
    "start_time": "2022-03-02T13:59:52.021Z"
   },
   {
    "duration": 32,
    "start_time": "2022-03-02T13:59:52.055Z"
   },
   {
    "duration": 4,
    "start_time": "2022-03-02T13:59:52.089Z"
   },
   {
    "duration": 21,
    "start_time": "2022-03-02T13:59:52.095Z"
   },
   {
    "duration": 17,
    "start_time": "2022-03-02T13:59:52.119Z"
   },
   {
    "duration": 21,
    "start_time": "2022-03-02T13:59:52.139Z"
   },
   {
    "duration": 13,
    "start_time": "2022-03-02T13:59:52.163Z"
   },
   {
    "duration": 13,
    "start_time": "2022-03-02T13:59:52.179Z"
   },
   {
    "duration": 17,
    "start_time": "2022-03-02T13:59:52.194Z"
   },
   {
    "duration": 13,
    "start_time": "2022-03-02T13:59:52.214Z"
   },
   {
    "duration": 8,
    "start_time": "2022-03-02T13:59:52.230Z"
   },
   {
    "duration": 8,
    "start_time": "2022-03-02T13:59:52.241Z"
   },
   {
    "duration": 6,
    "start_time": "2022-03-02T13:59:52.252Z"
   },
   {
    "duration": 11,
    "start_time": "2022-03-02T13:59:52.260Z"
   },
   {
    "duration": 8,
    "start_time": "2022-03-02T13:59:52.273Z"
   },
   {
    "duration": 7,
    "start_time": "2022-03-02T13:59:52.288Z"
   },
   {
    "duration": 9,
    "start_time": "2022-03-02T13:59:52.298Z"
   },
   {
    "duration": 566175,
    "start_time": "2022-03-02T14:24:33.812Z"
   },
   {
    "duration": 4009,
    "start_time": "2022-03-02T14:34:18.119Z"
   },
   {
    "duration": 4,
    "start_time": "2022-03-02T14:38:00.054Z"
   },
   {
    "duration": 5,
    "start_time": "2022-03-02T14:38:00.064Z"
   },
   {
    "duration": 2286,
    "start_time": "2022-03-02T14:38:00.092Z"
   },
   {
    "duration": 955,
    "start_time": "2022-03-02T14:38:02.380Z"
   },
   {
    "duration": 34,
    "start_time": "2022-03-02T14:38:03.338Z"
   },
   {
    "duration": 38,
    "start_time": "2022-03-02T14:38:03.375Z"
   },
   {
    "duration": 41,
    "start_time": "2022-03-02T14:38:03.415Z"
   },
   {
    "duration": 63,
    "start_time": "2022-03-02T14:38:03.459Z"
   },
   {
    "duration": 31,
    "start_time": "2022-03-02T14:38:03.525Z"
   },
   {
    "duration": 47,
    "start_time": "2022-03-02T14:38:03.561Z"
   },
   {
    "duration": 12,
    "start_time": "2022-03-02T14:38:03.611Z"
   },
   {
    "duration": 12,
    "start_time": "2022-03-02T14:38:03.625Z"
   },
   {
    "duration": 47,
    "start_time": "2022-03-02T14:38:03.640Z"
   },
   {
    "duration": 14,
    "start_time": "2022-03-02T14:38:03.690Z"
   },
   {
    "duration": 19,
    "start_time": "2022-03-02T14:38:03.707Z"
   },
   {
    "duration": 212,
    "start_time": "2022-03-02T14:38:03.729Z"
   },
   {
    "duration": 3,
    "start_time": "2022-03-02T14:38:03.943Z"
   },
   {
    "duration": 12,
    "start_time": "2022-03-02T14:38:03.948Z"
   },
   {
    "duration": 13,
    "start_time": "2022-03-02T14:38:03.962Z"
   },
   {
    "duration": 11,
    "start_time": "2022-03-02T14:38:03.977Z"
   },
   {
    "duration": 18,
    "start_time": "2022-03-02T14:38:03.990Z"
   },
   {
    "duration": 10,
    "start_time": "2022-03-02T14:38:04.010Z"
   },
   {
    "duration": 10,
    "start_time": "2022-03-02T14:38:04.022Z"
   },
   {
    "duration": 8,
    "start_time": "2022-03-02T14:38:04.035Z"
   },
   {
    "duration": 13,
    "start_time": "2022-03-02T14:38:04.052Z"
   },
   {
    "duration": 20,
    "start_time": "2022-03-02T14:38:04.069Z"
   },
   {
    "duration": 21,
    "start_time": "2022-03-02T14:38:04.091Z"
   },
   {
    "duration": 15,
    "start_time": "2022-03-02T14:38:04.115Z"
   },
   {
    "duration": 11,
    "start_time": "2022-03-02T14:38:04.133Z"
   },
   {
    "duration": 75,
    "start_time": "2022-03-02T14:38:04.147Z"
   },
   {
    "duration": 25,
    "start_time": "2022-03-02T14:38:04.225Z"
   },
   {
    "duration": 35,
    "start_time": "2022-03-02T14:38:04.253Z"
   },
   {
    "duration": 6,
    "start_time": "2022-03-02T14:38:04.291Z"
   },
   {
    "duration": 1151,
    "start_time": "2022-03-02T14:38:04.299Z"
   },
   {
    "duration": 1087,
    "start_time": "2022-03-02T14:38:05.453Z"
   },
   {
    "duration": 1080,
    "start_time": "2022-03-02T14:38:06.542Z"
   },
   {
    "duration": 1389,
    "start_time": "2022-03-02T14:38:07.624Z"
   },
   {
    "duration": 1349,
    "start_time": "2022-03-02T14:38:09.016Z"
   },
   {
    "duration": 19,
    "start_time": "2022-03-02T14:38:10.368Z"
   },
   {
    "duration": 1603,
    "start_time": "2022-03-02T14:38:10.389Z"
   },
   {
    "duration": 13,
    "start_time": "2022-03-02T14:38:11.995Z"
   },
   {
    "duration": 10,
    "start_time": "2022-03-02T14:38:12.011Z"
   },
   {
    "duration": 9,
    "start_time": "2022-03-02T14:38:12.024Z"
   },
   {
    "duration": 1086,
    "start_time": "2022-03-02T14:38:12.036Z"
   },
   {
    "duration": 43,
    "start_time": "2022-03-02T14:38:13.124Z"
   },
   {
    "duration": 40,
    "start_time": "2022-03-02T14:38:13.188Z"
   },
   {
    "duration": 245,
    "start_time": "2022-03-02T14:38:13.231Z"
   },
   {
    "duration": 34,
    "start_time": "2022-03-02T14:38:13.478Z"
   },
   {
    "duration": 3,
    "start_time": "2022-03-02T14:38:13.515Z"
   },
   {
    "duration": 9,
    "start_time": "2022-03-02T14:38:13.520Z"
   },
   {
    "duration": 5,
    "start_time": "2022-03-02T14:38:13.531Z"
   },
   {
    "duration": 5,
    "start_time": "2022-03-02T14:38:13.538Z"
   },
   {
    "duration": 41,
    "start_time": "2022-03-02T14:38:13.546Z"
   },
   {
    "duration": 6,
    "start_time": "2022-03-02T14:38:13.589Z"
   },
   {
    "duration": 8,
    "start_time": "2022-03-02T14:38:13.597Z"
   },
   {
    "duration": 5,
    "start_time": "2022-03-02T14:38:13.608Z"
   },
   {
    "duration": 7,
    "start_time": "2022-03-02T14:38:13.615Z"
   },
   {
    "duration": 3,
    "start_time": "2022-03-02T14:38:13.625Z"
   },
   {
    "duration": 6,
    "start_time": "2022-03-02T14:38:13.630Z"
   },
   {
    "duration": 5,
    "start_time": "2022-03-02T14:38:13.638Z"
   },
   {
    "duration": 4,
    "start_time": "2022-03-02T14:38:13.689Z"
   },
   {
    "duration": 8,
    "start_time": "2022-03-02T14:38:13.696Z"
   },
   {
    "duration": 7,
    "start_time": "2022-03-02T14:38:13.707Z"
   },
   {
    "duration": 7,
    "start_time": "2022-03-02T14:38:13.716Z"
   },
   {
    "duration": 7,
    "start_time": "2022-03-02T14:40:12.752Z"
   },
   {
    "duration": 64,
    "start_time": "2022-03-02T14:42:28.663Z"
   },
   {
    "duration": 101,
    "start_time": "2022-03-02T14:43:49.362Z"
   },
   {
    "duration": 154820,
    "start_time": "2022-03-02T14:44:38.027Z"
   },
   {
    "duration": 378,
    "start_time": "2022-03-02T14:47:33.080Z"
   },
   {
    "duration": 347,
    "start_time": "2022-03-02T14:48:37.022Z"
   },
   {
    "duration": 155,
    "start_time": "2022-03-02T14:58:06.633Z"
   },
   {
    "duration": 73,
    "start_time": "2022-03-02T15:03:43.324Z"
   },
   {
    "duration": 240,
    "start_time": "2022-03-02T15:04:57.953Z"
   },
   {
    "duration": 7,
    "start_time": "2022-03-02T15:05:28.178Z"
   },
   {
    "duration": 78,
    "start_time": "2022-03-02T15:32:06.332Z"
   },
   {
    "duration": 441,
    "start_time": "2022-03-02T15:32:39.221Z"
   },
   {
    "duration": 5,
    "start_time": "2022-03-02T15:35:47.594Z"
   },
   {
    "duration": 590,
    "start_time": "2022-03-02T15:35:50.496Z"
   },
   {
    "duration": 6,
    "start_time": "2022-03-02T15:36:11.342Z"
   },
   {
    "duration": 9,
    "start_time": "2022-03-02T15:36:13.839Z"
   },
   {
    "duration": 5,
    "start_time": "2022-03-02T15:36:44.053Z"
   },
   {
    "duration": 8,
    "start_time": "2022-03-02T15:36:44.061Z"
   },
   {
    "duration": 2714,
    "start_time": "2022-03-02T15:36:44.073Z"
   },
   {
    "duration": 983,
    "start_time": "2022-03-02T15:36:46.790Z"
   },
   {
    "duration": 40,
    "start_time": "2022-03-02T15:36:47.775Z"
   },
   {
    "duration": 31,
    "start_time": "2022-03-02T15:36:47.817Z"
   },
   {
    "duration": 52,
    "start_time": "2022-03-02T15:36:47.850Z"
   },
   {
    "duration": 25,
    "start_time": "2022-03-02T15:36:47.905Z"
   },
   {
    "duration": 62,
    "start_time": "2022-03-02T15:36:47.934Z"
   },
   {
    "duration": 17,
    "start_time": "2022-03-02T15:36:48.001Z"
   },
   {
    "duration": 11,
    "start_time": "2022-03-02T15:36:48.020Z"
   },
   {
    "duration": 9,
    "start_time": "2022-03-02T15:36:48.033Z"
   },
   {
    "duration": 51,
    "start_time": "2022-03-02T15:36:48.045Z"
   },
   {
    "duration": 13,
    "start_time": "2022-03-02T15:36:48.099Z"
   },
   {
    "duration": 9,
    "start_time": "2022-03-02T15:36:48.115Z"
   },
   {
    "duration": 218,
    "start_time": "2022-03-02T15:36:48.126Z"
   },
   {
    "duration": 3,
    "start_time": "2022-03-02T15:36:48.346Z"
   },
   {
    "duration": 6,
    "start_time": "2022-03-02T15:36:48.352Z"
   },
   {
    "duration": 26,
    "start_time": "2022-03-02T15:36:48.362Z"
   },
   {
    "duration": 16,
    "start_time": "2022-03-02T15:36:48.391Z"
   },
   {
    "duration": 5,
    "start_time": "2022-03-02T15:36:48.409Z"
   },
   {
    "duration": 8,
    "start_time": "2022-03-02T15:36:48.417Z"
   },
   {
    "duration": 7,
    "start_time": "2022-03-02T15:36:48.427Z"
   },
   {
    "duration": 6,
    "start_time": "2022-03-02T15:36:48.436Z"
   },
   {
    "duration": 10,
    "start_time": "2022-03-02T15:36:48.445Z"
   },
   {
    "duration": 30,
    "start_time": "2022-03-02T15:36:48.457Z"
   },
   {
    "duration": 13,
    "start_time": "2022-03-02T15:36:48.496Z"
   },
   {
    "duration": 11,
    "start_time": "2022-03-02T15:36:48.512Z"
   },
   {
    "duration": 9,
    "start_time": "2022-03-02T15:36:48.525Z"
   },
   {
    "duration": 74,
    "start_time": "2022-03-02T15:36:48.536Z"
   },
   {
    "duration": 22,
    "start_time": "2022-03-02T15:36:48.613Z"
   },
   {
    "duration": 14,
    "start_time": "2022-03-02T15:36:48.639Z"
   },
   {
    "duration": 37,
    "start_time": "2022-03-02T15:36:48.656Z"
   },
   {
    "duration": 1149,
    "start_time": "2022-03-02T15:36:48.696Z"
   },
   {
    "duration": 1056,
    "start_time": "2022-03-02T15:36:49.847Z"
   },
   {
    "duration": 1027,
    "start_time": "2022-03-02T15:36:50.905Z"
   },
   {
    "duration": 1357,
    "start_time": "2022-03-02T15:36:51.935Z"
   },
   {
    "duration": 1253,
    "start_time": "2022-03-02T15:36:53.294Z"
   },
   {
    "duration": 7,
    "start_time": "2022-03-02T15:36:54.550Z"
   },
   {
    "duration": 1055,
    "start_time": "2022-03-02T15:36:54.560Z"
   },
   {
    "duration": 9,
    "start_time": "2022-03-02T15:36:55.618Z"
   },
   {
    "duration": 8,
    "start_time": "2022-03-02T15:36:55.630Z"
   },
   {
    "duration": 10,
    "start_time": "2022-03-02T15:36:55.640Z"
   },
   {
    "duration": 1048,
    "start_time": "2022-03-02T15:36:55.652Z"
   },
   {
    "duration": 38,
    "start_time": "2022-03-02T15:36:56.702Z"
   },
   {
    "duration": 60,
    "start_time": "2022-03-02T15:36:56.742Z"
   },
   {
    "duration": 229,
    "start_time": "2022-03-02T15:36:56.804Z"
   },
   {
    "duration": 29,
    "start_time": "2022-03-02T15:36:57.036Z"
   },
   {
    "duration": 19,
    "start_time": "2022-03-02T15:36:57.068Z"
   },
   {
    "duration": 7,
    "start_time": "2022-03-02T15:36:57.089Z"
   },
   {
    "duration": 7,
    "start_time": "2022-03-02T15:36:57.098Z"
   },
   {
    "duration": 8,
    "start_time": "2022-03-02T15:36:57.107Z"
   },
   {
    "duration": 13,
    "start_time": "2022-03-02T15:36:57.117Z"
   },
   {
    "duration": 13,
    "start_time": "2022-03-02T15:36:57.132Z"
   },
   {
    "duration": 5,
    "start_time": "2022-03-02T15:36:57.148Z"
   },
   {
    "duration": 3,
    "start_time": "2022-03-02T15:36:57.187Z"
   },
   {
    "duration": 11,
    "start_time": "2022-03-02T15:36:57.192Z"
   },
   {
    "duration": 7,
    "start_time": "2022-03-02T15:36:57.206Z"
   },
   {
    "duration": 10,
    "start_time": "2022-03-02T15:36:57.215Z"
   },
   {
    "duration": 13,
    "start_time": "2022-03-02T15:36:57.227Z"
   },
   {
    "duration": 22,
    "start_time": "2022-03-02T15:36:57.242Z"
   },
   {
    "duration": 81,
    "start_time": "2022-03-02T15:36:57.267Z"
   },
   {
    "duration": 238,
    "start_time": "2022-03-02T15:36:57.351Z"
   },
   {
    "duration": 9,
    "start_time": "2022-03-02T15:36:57.591Z"
   },
   {
    "duration": 84,
    "start_time": "2022-03-02T15:36:57.603Z"
   },
   {
    "duration": 7,
    "start_time": "2022-03-02T15:36:57.690Z"
   },
   {
    "duration": 9,
    "start_time": "2022-03-02T15:36:57.699Z"
   },
   {
    "duration": 8,
    "start_time": "2022-03-02T15:36:57.710Z"
   },
   {
    "duration": 6,
    "start_time": "2022-03-02T15:36:57.720Z"
   },
   {
    "duration": 703,
    "start_time": "2022-03-02T15:42:37.061Z"
   },
   {
    "duration": 5,
    "start_time": "2022-03-02T15:47:07.690Z"
   },
   {
    "duration": 8,
    "start_time": "2022-03-02T15:47:07.698Z"
   },
   {
    "duration": 2267,
    "start_time": "2022-03-02T15:47:07.710Z"
   },
   {
    "duration": 937,
    "start_time": "2022-03-02T15:47:09.980Z"
   },
   {
    "duration": 35,
    "start_time": "2022-03-02T15:47:10.919Z"
   },
   {
    "duration": 48,
    "start_time": "2022-03-02T15:47:10.957Z"
   },
   {
    "duration": 32,
    "start_time": "2022-03-02T15:47:11.011Z"
   },
   {
    "duration": 56,
    "start_time": "2022-03-02T15:47:11.046Z"
   },
   {
    "duration": 24,
    "start_time": "2022-03-02T15:47:11.104Z"
   },
   {
    "duration": 17,
    "start_time": "2022-03-02T15:47:11.130Z"
   },
   {
    "duration": 46,
    "start_time": "2022-03-02T15:47:11.149Z"
   },
   {
    "duration": 9,
    "start_time": "2022-03-02T15:47:11.197Z"
   },
   {
    "duration": 9,
    "start_time": "2022-03-02T15:47:11.209Z"
   },
   {
    "duration": 9,
    "start_time": "2022-03-02T15:47:11.221Z"
   },
   {
    "duration": 58,
    "start_time": "2022-03-02T15:47:11.232Z"
   },
   {
    "duration": 214,
    "start_time": "2022-03-02T15:47:11.293Z"
   },
   {
    "duration": 3,
    "start_time": "2022-03-02T15:47:11.509Z"
   },
   {
    "duration": 16,
    "start_time": "2022-03-02T15:47:11.514Z"
   },
   {
    "duration": 4,
    "start_time": "2022-03-02T15:47:11.535Z"
   },
   {
    "duration": 6,
    "start_time": "2022-03-02T15:47:11.542Z"
   },
   {
    "duration": 5,
    "start_time": "2022-03-02T15:47:11.550Z"
   },
   {
    "duration": 5,
    "start_time": "2022-03-02T15:47:11.557Z"
   },
   {
    "duration": 4,
    "start_time": "2022-03-02T15:47:11.587Z"
   },
   {
    "duration": 5,
    "start_time": "2022-03-02T15:47:11.593Z"
   },
   {
    "duration": 10,
    "start_time": "2022-03-02T15:47:11.600Z"
   },
   {
    "duration": 11,
    "start_time": "2022-03-02T15:47:11.612Z"
   },
   {
    "duration": 16,
    "start_time": "2022-03-02T15:47:11.625Z"
   },
   {
    "duration": 44,
    "start_time": "2022-03-02T15:47:11.644Z"
   },
   {
    "duration": 10,
    "start_time": "2022-03-02T15:47:11.691Z"
   },
   {
    "duration": 30,
    "start_time": "2022-03-02T15:47:11.703Z"
   },
   {
    "duration": 66,
    "start_time": "2022-03-02T15:47:11.736Z"
   },
   {
    "duration": 13,
    "start_time": "2022-03-02T15:47:11.806Z"
   },
   {
    "duration": 8,
    "start_time": "2022-03-02T15:47:11.821Z"
   },
   {
    "duration": 1194,
    "start_time": "2022-03-02T15:47:11.832Z"
   },
   {
    "duration": 1119,
    "start_time": "2022-03-02T15:47:13.028Z"
   },
   {
    "duration": 1126,
    "start_time": "2022-03-02T15:47:14.150Z"
   },
   {
    "duration": 1411,
    "start_time": "2022-03-02T15:47:15.279Z"
   },
   {
    "duration": 1310,
    "start_time": "2022-03-02T15:47:16.693Z"
   },
   {
    "duration": 10,
    "start_time": "2022-03-02T15:47:18.006Z"
   },
   {
    "duration": 1226,
    "start_time": "2022-03-02T15:47:18.019Z"
   },
   {
    "duration": 10,
    "start_time": "2022-03-02T15:47:19.248Z"
   },
   {
    "duration": 33,
    "start_time": "2022-03-02T15:47:19.260Z"
   },
   {
    "duration": 9,
    "start_time": "2022-03-02T15:47:19.295Z"
   },
   {
    "duration": 1072,
    "start_time": "2022-03-02T15:47:19.307Z"
   },
   {
    "duration": 43,
    "start_time": "2022-03-02T15:47:20.382Z"
   },
   {
    "duration": 64,
    "start_time": "2022-03-02T15:47:20.428Z"
   },
   {
    "duration": 227,
    "start_time": "2022-03-02T15:47:20.496Z"
   },
   {
    "duration": 28,
    "start_time": "2022-03-02T15:47:20.725Z"
   },
   {
    "duration": 3,
    "start_time": "2022-03-02T15:47:20.755Z"
   },
   {
    "duration": 3,
    "start_time": "2022-03-02T15:47:20.787Z"
   },
   {
    "duration": 11,
    "start_time": "2022-03-02T15:47:20.792Z"
   },
   {
    "duration": 15,
    "start_time": "2022-03-02T15:47:20.805Z"
   },
   {
    "duration": 27,
    "start_time": "2022-03-02T15:47:20.822Z"
   },
   {
    "duration": 14,
    "start_time": "2022-03-02T15:47:20.851Z"
   },
   {
    "duration": 18,
    "start_time": "2022-03-02T15:47:20.872Z"
   },
   {
    "duration": 6,
    "start_time": "2022-03-02T15:47:20.893Z"
   },
   {
    "duration": 25,
    "start_time": "2022-03-02T15:47:20.901Z"
   },
   {
    "duration": 32,
    "start_time": "2022-03-02T15:47:20.929Z"
   },
   {
    "duration": 6,
    "start_time": "2022-03-02T15:47:20.963Z"
   },
   {
    "duration": 2997,
    "start_time": "2022-03-02T15:47:20.971Z"
   },
   {
    "duration": 303,
    "start_time": "2022-03-02T15:47:23.668Z"
   },
   {
    "duration": 288,
    "start_time": "2022-03-02T15:47:23.684Z"
   },
   {
    "duration": 290,
    "start_time": "2022-03-02T15:47:23.684Z"
   },
   {
    "duration": 281,
    "start_time": "2022-03-02T15:47:23.694Z"
   },
   {
    "duration": 279,
    "start_time": "2022-03-02T15:47:23.698Z"
   },
   {
    "duration": 277,
    "start_time": "2022-03-02T15:47:23.701Z"
   },
   {
    "duration": 267,
    "start_time": "2022-03-02T15:47:23.713Z"
   },
   {
    "duration": 264,
    "start_time": "2022-03-02T15:47:23.717Z"
   },
   {
    "duration": 255,
    "start_time": "2022-03-02T15:47:23.728Z"
   },
   {
    "duration": 2780,
    "start_time": "2022-03-02T15:59:20.682Z"
   },
   {
    "duration": 231,
    "start_time": "2022-03-02T16:04:06.673Z"
   },
   {
    "duration": 5,
    "start_time": "2022-03-02T16:04:40.218Z"
   },
   {
    "duration": 7,
    "start_time": "2022-03-02T16:04:40.225Z"
   },
   {
    "duration": 2221,
    "start_time": "2022-03-02T16:04:40.234Z"
   },
   {
    "duration": 950,
    "start_time": "2022-03-02T16:04:42.458Z"
   },
   {
    "duration": 35,
    "start_time": "2022-03-02T16:04:43.410Z"
   },
   {
    "duration": 49,
    "start_time": "2022-03-02T16:04:43.447Z"
   },
   {
    "duration": 30,
    "start_time": "2022-03-02T16:04:43.499Z"
   },
   {
    "duration": 58,
    "start_time": "2022-03-02T16:04:43.532Z"
   },
   {
    "duration": 24,
    "start_time": "2022-03-02T16:04:43.594Z"
   },
   {
    "duration": 17,
    "start_time": "2022-03-02T16:04:43.621Z"
   },
   {
    "duration": 10,
    "start_time": "2022-03-02T16:04:43.640Z"
   },
   {
    "duration": 10,
    "start_time": "2022-03-02T16:04:43.687Z"
   },
   {
    "duration": 10,
    "start_time": "2022-03-02T16:04:43.699Z"
   },
   {
    "duration": 9,
    "start_time": "2022-03-02T16:04:43.711Z"
   },
   {
    "duration": 9,
    "start_time": "2022-03-02T16:04:43.722Z"
   },
   {
    "duration": 230,
    "start_time": "2022-03-02T16:04:43.734Z"
   },
   {
    "duration": 3,
    "start_time": "2022-03-02T16:04:43.966Z"
   },
   {
    "duration": 16,
    "start_time": "2022-03-02T16:04:43.971Z"
   },
   {
    "duration": 4,
    "start_time": "2022-03-02T16:04:43.989Z"
   },
   {
    "duration": 8,
    "start_time": "2022-03-02T16:04:43.995Z"
   },
   {
    "duration": 5,
    "start_time": "2022-03-02T16:04:44.006Z"
   },
   {
    "duration": 20,
    "start_time": "2022-03-02T16:04:44.013Z"
   },
   {
    "duration": 6,
    "start_time": "2022-03-02T16:04:44.036Z"
   },
   {
    "duration": 6,
    "start_time": "2022-03-02T16:04:44.044Z"
   },
   {
    "duration": 34,
    "start_time": "2022-03-02T16:04:44.053Z"
   },
   {
    "duration": 7,
    "start_time": "2022-03-02T16:04:44.096Z"
   },
   {
    "duration": 16,
    "start_time": "2022-03-02T16:04:44.108Z"
   },
   {
    "duration": 60,
    "start_time": "2022-03-02T16:04:44.127Z"
   },
   {
    "duration": 11,
    "start_time": "2022-03-02T16:04:44.190Z"
   },
   {
    "duration": 29,
    "start_time": "2022-03-02T16:04:44.204Z"
   },
   {
    "duration": 62,
    "start_time": "2022-03-02T16:04:44.236Z"
   },
   {
    "duration": 12,
    "start_time": "2022-03-02T16:04:44.301Z"
   },
   {
    "duration": 7,
    "start_time": "2022-03-02T16:04:44.316Z"
   },
   {
    "duration": 1180,
    "start_time": "2022-03-02T16:04:44.326Z"
   },
   {
    "duration": 1241,
    "start_time": "2022-03-02T16:04:45.509Z"
   },
   {
    "duration": 1117,
    "start_time": "2022-03-02T16:04:46.752Z"
   },
   {
    "duration": 1410,
    "start_time": "2022-03-02T16:04:47.871Z"
   },
   {
    "duration": 1290,
    "start_time": "2022-03-02T16:04:49.286Z"
   },
   {
    "duration": 13,
    "start_time": "2022-03-02T16:04:50.578Z"
   },
   {
    "duration": 1045,
    "start_time": "2022-03-02T16:04:50.594Z"
   },
   {
    "duration": 11,
    "start_time": "2022-03-02T16:04:51.641Z"
   },
   {
    "duration": 9,
    "start_time": "2022-03-02T16:04:51.654Z"
   },
   {
    "duration": 12,
    "start_time": "2022-03-02T16:04:51.687Z"
   },
   {
    "duration": 1006,
    "start_time": "2022-03-02T16:04:51.702Z"
   },
   {
    "duration": 39,
    "start_time": "2022-03-02T16:04:52.710Z"
   },
   {
    "duration": 59,
    "start_time": "2022-03-02T16:04:52.751Z"
   },
   {
    "duration": 224,
    "start_time": "2022-03-02T16:04:52.812Z"
   },
   {
    "duration": 48,
    "start_time": "2022-03-02T16:04:53.039Z"
   },
   {
    "duration": 3,
    "start_time": "2022-03-02T16:04:53.089Z"
   },
   {
    "duration": 19,
    "start_time": "2022-03-02T16:04:53.094Z"
   },
   {
    "duration": 7,
    "start_time": "2022-03-02T16:04:53.115Z"
   },
   {
    "duration": 6,
    "start_time": "2022-03-02T16:04:53.124Z"
   },
   {
    "duration": 10,
    "start_time": "2022-03-02T16:04:53.132Z"
   },
   {
    "duration": 10,
    "start_time": "2022-03-02T16:04:53.144Z"
   },
   {
    "duration": 34,
    "start_time": "2022-03-02T16:04:53.156Z"
   },
   {
    "duration": 3,
    "start_time": "2022-03-02T16:04:53.192Z"
   },
   {
    "duration": 10,
    "start_time": "2022-03-02T16:04:53.197Z"
   },
   {
    "duration": 27,
    "start_time": "2022-03-02T16:04:53.210Z"
   },
   {
    "duration": 5,
    "start_time": "2022-03-02T16:04:53.239Z"
   },
   {
    "duration": 2994,
    "start_time": "2022-03-02T16:04:53.247Z"
   },
   {
    "duration": 388,
    "start_time": "2022-03-02T16:04:55.856Z"
   },
   {
    "duration": 389,
    "start_time": "2022-03-02T16:04:55.856Z"
   },
   {
    "duration": 375,
    "start_time": "2022-03-02T16:04:55.872Z"
   },
   {
    "duration": 376,
    "start_time": "2022-03-02T16:04:55.872Z"
   },
   {
    "duration": 361,
    "start_time": "2022-03-02T16:04:55.888Z"
   },
   {
    "duration": 362,
    "start_time": "2022-03-02T16:04:55.889Z"
   },
   {
    "duration": 351,
    "start_time": "2022-03-02T16:04:55.902Z"
   },
   {
    "duration": 342,
    "start_time": "2022-03-02T16:04:55.912Z"
   },
   {
    "duration": 340,
    "start_time": "2022-03-02T16:04:55.916Z"
   },
   {
    "duration": 238,
    "start_time": "2022-03-02T16:06:04.855Z"
   },
   {
    "duration": 7,
    "start_time": "2022-03-02T16:06:16.075Z"
   },
   {
    "duration": 5,
    "start_time": "2022-03-02T16:06:30.159Z"
   },
   {
    "duration": 12,
    "start_time": "2022-03-02T16:06:30.169Z"
   },
   {
    "duration": 2252,
    "start_time": "2022-03-02T16:06:30.191Z"
   },
   {
    "duration": 925,
    "start_time": "2022-03-02T16:06:32.446Z"
   },
   {
    "duration": 43,
    "start_time": "2022-03-02T16:06:33.375Z"
   },
   {
    "duration": 32,
    "start_time": "2022-03-02T16:06:33.421Z"
   },
   {
    "duration": 55,
    "start_time": "2022-03-02T16:06:33.456Z"
   },
   {
    "duration": 25,
    "start_time": "2022-03-02T16:06:33.514Z"
   },
   {
    "duration": 52,
    "start_time": "2022-03-02T16:06:33.541Z"
   },
   {
    "duration": 18,
    "start_time": "2022-03-02T16:06:33.596Z"
   },
   {
    "duration": 10,
    "start_time": "2022-03-02T16:06:33.617Z"
   },
   {
    "duration": 13,
    "start_time": "2022-03-02T16:06:33.630Z"
   },
   {
    "duration": 44,
    "start_time": "2022-03-02T16:06:33.646Z"
   },
   {
    "duration": 13,
    "start_time": "2022-03-02T16:06:33.693Z"
   },
   {
    "duration": 10,
    "start_time": "2022-03-02T16:06:33.709Z"
   },
   {
    "duration": 282,
    "start_time": "2022-03-02T16:06:33.722Z"
   },
   {
    "duration": 3,
    "start_time": "2022-03-02T16:06:34.007Z"
   },
   {
    "duration": 6,
    "start_time": "2022-03-02T16:06:34.013Z"
   },
   {
    "duration": 6,
    "start_time": "2022-03-02T16:06:34.022Z"
   },
   {
    "duration": 8,
    "start_time": "2022-03-02T16:06:34.030Z"
   },
   {
    "duration": 7,
    "start_time": "2022-03-02T16:06:34.040Z"
   },
   {
    "duration": 6,
    "start_time": "2022-03-02T16:06:34.049Z"
   },
   {
    "duration": 7,
    "start_time": "2022-03-02T16:06:34.088Z"
   },
   {
    "duration": 6,
    "start_time": "2022-03-02T16:06:34.097Z"
   },
   {
    "duration": 7,
    "start_time": "2022-03-02T16:06:34.109Z"
   },
   {
    "duration": 6,
    "start_time": "2022-03-02T16:06:34.120Z"
   },
   {
    "duration": 59,
    "start_time": "2022-03-02T16:06:34.128Z"
   },
   {
    "duration": 13,
    "start_time": "2022-03-02T16:06:34.189Z"
   },
   {
    "duration": 8,
    "start_time": "2022-03-02T16:06:34.205Z"
   },
   {
    "duration": 28,
    "start_time": "2022-03-02T16:06:34.216Z"
   },
   {
    "duration": 57,
    "start_time": "2022-03-02T16:06:34.246Z"
   },
   {
    "duration": 9,
    "start_time": "2022-03-02T16:06:34.306Z"
   },
   {
    "duration": 6,
    "start_time": "2022-03-02T16:06:34.317Z"
   },
   {
    "duration": 1257,
    "start_time": "2022-03-02T16:06:34.325Z"
   },
   {
    "duration": 1108,
    "start_time": "2022-03-02T16:06:35.584Z"
   },
   {
    "duration": 1097,
    "start_time": "2022-03-02T16:06:36.695Z"
   },
   {
    "duration": 1901,
    "start_time": "2022-03-02T16:06:37.795Z"
   },
   {
    "duration": 1312,
    "start_time": "2022-03-02T16:06:39.698Z"
   },
   {
    "duration": 8,
    "start_time": "2022-03-02T16:06:41.012Z"
   },
   {
    "duration": 1905,
    "start_time": "2022-03-02T16:06:41.022Z"
   },
   {
    "duration": 65,
    "start_time": "2022-03-02T16:06:42.930Z"
   },
   {
    "duration": 11,
    "start_time": "2022-03-02T16:06:42.998Z"
   },
   {
    "duration": 12,
    "start_time": "2022-03-02T16:06:43.011Z"
   },
   {
    "duration": 1136,
    "start_time": "2022-03-02T16:06:43.025Z"
   },
   {
    "duration": 49,
    "start_time": "2022-03-02T16:06:44.163Z"
   },
   {
    "duration": 38,
    "start_time": "2022-03-02T16:06:44.214Z"
   },
   {
    "duration": 235,
    "start_time": "2022-03-02T16:06:44.254Z"
   },
   {
    "duration": 30,
    "start_time": "2022-03-02T16:06:44.492Z"
   },
   {
    "duration": 3,
    "start_time": "2022-03-02T16:06:44.524Z"
   },
   {
    "duration": 6,
    "start_time": "2022-03-02T16:06:44.529Z"
   },
   {
    "duration": 7,
    "start_time": "2022-03-02T16:06:44.537Z"
   },
   {
    "duration": 6,
    "start_time": "2022-03-02T16:06:44.546Z"
   },
   {
    "duration": 12,
    "start_time": "2022-03-02T16:06:44.588Z"
   },
   {
    "duration": 8,
    "start_time": "2022-03-02T16:06:44.603Z"
   },
   {
    "duration": 18,
    "start_time": "2022-03-02T16:06:44.613Z"
   },
   {
    "duration": 3,
    "start_time": "2022-03-02T16:06:44.633Z"
   },
   {
    "duration": 12,
    "start_time": "2022-03-02T16:06:44.638Z"
   },
   {
    "duration": 55,
    "start_time": "2022-03-02T16:06:44.652Z"
   },
   {
    "duration": 7,
    "start_time": "2022-03-02T16:06:44.710Z"
   },
   {
    "duration": 2982,
    "start_time": "2022-03-02T16:06:44.720Z"
   },
   {
    "duration": 381,
    "start_time": "2022-03-02T16:06:47.324Z"
   },
   {
    "duration": 371,
    "start_time": "2022-03-02T16:06:47.336Z"
   },
   {
    "duration": 367,
    "start_time": "2022-03-02T16:06:47.342Z"
   },
   {
    "duration": 368,
    "start_time": "2022-03-02T16:06:47.342Z"
   },
   {
    "duration": 370,
    "start_time": "2022-03-02T16:06:47.342Z"
   },
   {
    "duration": 357,
    "start_time": "2022-03-02T16:06:47.357Z"
   },
   {
    "duration": 359,
    "start_time": "2022-03-02T16:06:47.357Z"
   },
   {
    "duration": 78,
    "start_time": "2022-03-02T16:06:47.640Z"
   },
   {
    "duration": 80,
    "start_time": "2022-03-02T16:06:47.640Z"
   },
   {
    "duration": 4,
    "start_time": "2022-03-02T16:09:36.340Z"
   },
   {
    "duration": 11,
    "start_time": "2022-03-02T16:09:36.346Z"
   },
   {
    "duration": 2213,
    "start_time": "2022-03-02T16:09:36.359Z"
   },
   {
    "duration": 943,
    "start_time": "2022-03-02T16:09:38.575Z"
   },
   {
    "duration": 36,
    "start_time": "2022-03-02T16:09:39.521Z"
   },
   {
    "duration": 44,
    "start_time": "2022-03-02T16:09:39.559Z"
   },
   {
    "duration": 31,
    "start_time": "2022-03-02T16:09:39.605Z"
   },
   {
    "duration": 53,
    "start_time": "2022-03-02T16:09:39.638Z"
   },
   {
    "duration": 23,
    "start_time": "2022-03-02T16:09:39.693Z"
   },
   {
    "duration": 19,
    "start_time": "2022-03-02T16:09:39.722Z"
   },
   {
    "duration": 49,
    "start_time": "2022-03-02T16:09:39.744Z"
   },
   {
    "duration": 12,
    "start_time": "2022-03-02T16:09:39.796Z"
   },
   {
    "duration": 12,
    "start_time": "2022-03-02T16:09:39.811Z"
   },
   {
    "duration": 12,
    "start_time": "2022-03-02T16:09:39.825Z"
   },
   {
    "duration": 13,
    "start_time": "2022-03-02T16:09:39.888Z"
   },
   {
    "duration": 205,
    "start_time": "2022-03-02T16:09:39.903Z"
   },
   {
    "duration": 2,
    "start_time": "2022-03-02T16:09:40.111Z"
   },
   {
    "duration": 6,
    "start_time": "2022-03-02T16:09:40.115Z"
   },
   {
    "duration": 7,
    "start_time": "2022-03-02T16:09:40.123Z"
   },
   {
    "duration": 7,
    "start_time": "2022-03-02T16:09:40.132Z"
   },
   {
    "duration": 6,
    "start_time": "2022-03-02T16:09:40.141Z"
   },
   {
    "duration": 5,
    "start_time": "2022-03-02T16:09:40.149Z"
   },
   {
    "duration": 31,
    "start_time": "2022-03-02T16:09:40.157Z"
   },
   {
    "duration": 7,
    "start_time": "2022-03-02T16:09:40.191Z"
   },
   {
    "duration": 9,
    "start_time": "2022-03-02T16:09:40.204Z"
   },
   {
    "duration": 7,
    "start_time": "2022-03-02T16:09:40.216Z"
   },
   {
    "duration": 17,
    "start_time": "2022-03-02T16:09:40.225Z"
   },
   {
    "duration": 49,
    "start_time": "2022-03-02T16:09:40.244Z"
   },
   {
    "duration": 9,
    "start_time": "2022-03-02T16:09:40.295Z"
   },
   {
    "duration": 29,
    "start_time": "2022-03-02T16:09:40.306Z"
   },
   {
    "duration": 60,
    "start_time": "2022-03-02T16:09:40.337Z"
   },
   {
    "duration": 10,
    "start_time": "2022-03-02T16:09:40.400Z"
   },
   {
    "duration": 6,
    "start_time": "2022-03-02T16:09:40.412Z"
   },
   {
    "duration": 1135,
    "start_time": "2022-03-02T16:09:40.420Z"
   },
   {
    "duration": 1063,
    "start_time": "2022-03-02T16:09:41.558Z"
   },
   {
    "duration": 1043,
    "start_time": "2022-03-02T16:09:42.623Z"
   },
   {
    "duration": 1381,
    "start_time": "2022-03-02T16:09:43.669Z"
   },
   {
    "duration": 1319,
    "start_time": "2022-03-02T16:09:45.054Z"
   },
   {
    "duration": 13,
    "start_time": "2022-03-02T16:09:46.377Z"
   },
   {
    "duration": 1045,
    "start_time": "2022-03-02T16:09:46.393Z"
   },
   {
    "duration": 11,
    "start_time": "2022-03-02T16:09:47.441Z"
   },
   {
    "duration": 36,
    "start_time": "2022-03-02T16:09:47.455Z"
   },
   {
    "duration": 11,
    "start_time": "2022-03-02T16:09:47.494Z"
   },
   {
    "duration": 1030,
    "start_time": "2022-03-02T16:09:47.507Z"
   },
   {
    "duration": 52,
    "start_time": "2022-03-02T16:09:48.539Z"
   },
   {
    "duration": 42,
    "start_time": "2022-03-02T16:09:48.593Z"
   },
   {
    "duration": 274,
    "start_time": "2022-03-02T16:09:48.638Z"
   },
   {
    "duration": 30,
    "start_time": "2022-03-02T16:09:48.914Z"
   },
   {
    "duration": 4,
    "start_time": "2022-03-02T16:09:48.947Z"
   },
   {
    "duration": 34,
    "start_time": "2022-03-02T16:09:48.953Z"
   },
   {
    "duration": 6,
    "start_time": "2022-03-02T16:09:48.989Z"
   },
   {
    "duration": 5,
    "start_time": "2022-03-02T16:09:48.998Z"
   },
   {
    "duration": 11,
    "start_time": "2022-03-02T16:09:49.005Z"
   },
   {
    "duration": 9,
    "start_time": "2022-03-02T16:09:49.018Z"
   },
   {
    "duration": 16,
    "start_time": "2022-03-02T16:09:49.029Z"
   },
   {
    "duration": 3,
    "start_time": "2022-03-02T16:09:49.047Z"
   },
   {
    "duration": 6,
    "start_time": "2022-03-02T16:09:49.088Z"
   },
   {
    "duration": 29,
    "start_time": "2022-03-02T16:09:49.096Z"
   },
   {
    "duration": 10,
    "start_time": "2022-03-02T16:09:49.128Z"
   },
   {
    "duration": 21,
    "start_time": "2022-03-02T16:09:49.141Z"
   },
   {
    "duration": 28,
    "start_time": "2022-03-02T16:09:49.164Z"
   },
   {
    "duration": 54,
    "start_time": "2022-03-02T16:09:49.195Z"
   },
   {
    "duration": 98,
    "start_time": "2022-03-02T16:09:49.251Z"
   },
   {
    "duration": 141,
    "start_time": "2022-03-02T16:09:49.352Z"
   },
   {
    "duration": 91,
    "start_time": "2022-03-02T16:09:49.497Z"
   },
   {
    "duration": 10,
    "start_time": "2022-03-02T16:09:49.590Z"
   },
   {
    "duration": 7,
    "start_time": "2022-03-02T16:09:49.602Z"
   },
   {
    "duration": 7,
    "start_time": "2022-03-02T16:09:49.611Z"
   },
   {
    "duration": 7,
    "start_time": "2022-03-02T16:09:49.620Z"
   },
   {
    "duration": 204,
    "start_time": "2022-03-02T16:19:33.592Z"
   },
   {
    "duration": 4,
    "start_time": "2022-03-02T16:27:47.345Z"
   },
   {
    "duration": 3,
    "start_time": "2022-03-02T16:27:47.494Z"
   },
   {
    "duration": 2152,
    "start_time": "2022-03-02T16:27:47.714Z"
   },
   {
    "duration": 892,
    "start_time": "2022-03-02T16:27:49.869Z"
   },
   {
    "duration": 42,
    "start_time": "2022-03-02T16:27:50.764Z"
   },
   {
    "duration": 29,
    "start_time": "2022-03-02T16:27:50.809Z"
   },
   {
    "duration": 53,
    "start_time": "2022-03-02T16:27:50.841Z"
   },
   {
    "duration": 48,
    "start_time": "2022-03-02T16:27:50.897Z"
   },
   {
    "duration": 23,
    "start_time": "2022-03-02T16:27:50.948Z"
   },
   {
    "duration": 26,
    "start_time": "2022-03-02T16:27:50.975Z"
   },
   {
    "duration": 12,
    "start_time": "2022-03-02T16:27:51.004Z"
   },
   {
    "duration": 10,
    "start_time": "2022-03-02T16:27:51.019Z"
   },
   {
    "duration": 11,
    "start_time": "2022-03-02T16:27:51.032Z"
   },
   {
    "duration": 50,
    "start_time": "2022-03-02T16:27:51.046Z"
   },
   {
    "duration": 11,
    "start_time": "2022-03-02T16:27:51.098Z"
   },
   {
    "duration": 218,
    "start_time": "2022-03-02T16:27:51.112Z"
   },
   {
    "duration": 3,
    "start_time": "2022-03-02T16:27:51.332Z"
   },
   {
    "duration": 5,
    "start_time": "2022-03-02T16:27:51.337Z"
   },
   {
    "duration": 6,
    "start_time": "2022-03-02T16:27:51.344Z"
   },
   {
    "duration": 9,
    "start_time": "2022-03-02T16:27:51.352Z"
   },
   {
    "duration": 23,
    "start_time": "2022-03-02T16:27:51.364Z"
   },
   {
    "duration": 4,
    "start_time": "2022-03-02T16:27:51.390Z"
   },
   {
    "duration": 8,
    "start_time": "2022-03-02T16:27:51.397Z"
   },
   {
    "duration": 6,
    "start_time": "2022-03-02T16:27:51.407Z"
   },
   {
    "duration": 8,
    "start_time": "2022-03-02T16:27:51.419Z"
   },
   {
    "duration": 8,
    "start_time": "2022-03-02T16:27:51.431Z"
   },
   {
    "duration": 60,
    "start_time": "2022-03-02T16:27:51.441Z"
   },
   {
    "duration": 12,
    "start_time": "2022-03-02T16:27:51.504Z"
   },
   {
    "duration": 9,
    "start_time": "2022-03-02T16:27:51.518Z"
   },
   {
    "duration": 62,
    "start_time": "2022-03-02T16:27:51.530Z"
   },
   {
    "duration": 19,
    "start_time": "2022-03-02T16:27:51.594Z"
   },
   {
    "duration": 10,
    "start_time": "2022-03-02T16:27:51.615Z"
   },
   {
    "duration": 7,
    "start_time": "2022-03-02T16:27:51.628Z"
   },
   {
    "duration": 1190,
    "start_time": "2022-03-02T16:27:51.637Z"
   },
   {
    "duration": 1044,
    "start_time": "2022-03-02T16:27:52.829Z"
   },
   {
    "duration": 1147,
    "start_time": "2022-03-02T16:27:53.875Z"
   },
   {
    "duration": 1412,
    "start_time": "2022-03-02T16:27:55.025Z"
   },
   {
    "duration": 1272,
    "start_time": "2022-03-02T16:27:56.439Z"
   },
   {
    "duration": 8,
    "start_time": "2022-03-02T16:27:57.713Z"
   },
   {
    "duration": 1068,
    "start_time": "2022-03-02T16:27:57.723Z"
   },
   {
    "duration": 10,
    "start_time": "2022-03-02T16:27:58.793Z"
   },
   {
    "duration": 8,
    "start_time": "2022-03-02T16:27:58.805Z"
   },
   {
    "duration": 10,
    "start_time": "2022-03-02T16:27:58.815Z"
   },
   {
    "duration": 1091,
    "start_time": "2022-03-02T16:27:58.827Z"
   },
   {
    "duration": 38,
    "start_time": "2022-03-02T16:27:59.921Z"
   },
   {
    "duration": 59,
    "start_time": "2022-03-02T16:27:59.962Z"
   },
   {
    "duration": 230,
    "start_time": "2022-03-02T16:28:00.024Z"
   },
   {
    "duration": 49,
    "start_time": "2022-03-02T16:28:00.257Z"
   },
   {
    "duration": 26,
    "start_time": "2022-03-02T16:28:00.308Z"
   },
   {
    "duration": 24,
    "start_time": "2022-03-02T16:28:00.336Z"
   },
   {
    "duration": 33,
    "start_time": "2022-03-02T16:28:00.362Z"
   },
   {
    "duration": 16,
    "start_time": "2022-03-02T16:28:00.398Z"
   },
   {
    "duration": 25,
    "start_time": "2022-03-02T16:28:00.417Z"
   },
   {
    "duration": 14,
    "start_time": "2022-03-02T16:28:00.445Z"
   },
   {
    "duration": 29,
    "start_time": "2022-03-02T16:28:00.461Z"
   },
   {
    "duration": 5,
    "start_time": "2022-03-02T16:28:00.492Z"
   },
   {
    "duration": 27,
    "start_time": "2022-03-02T16:28:00.500Z"
   },
   {
    "duration": 19,
    "start_time": "2022-03-02T16:28:00.530Z"
   },
   {
    "duration": 37,
    "start_time": "2022-03-02T16:28:00.551Z"
   },
   {
    "duration": 6,
    "start_time": "2022-03-02T16:28:00.591Z"
   },
   {
    "duration": 19,
    "start_time": "2022-03-02T16:28:00.599Z"
   },
   {
    "duration": 35,
    "start_time": "2022-03-02T16:28:00.620Z"
   },
   {
    "duration": 11,
    "start_time": "2022-03-02T16:28:00.657Z"
   },
   {
    "duration": 58,
    "start_time": "2022-03-02T16:28:00.671Z"
   },
   {
    "duration": 92,
    "start_time": "2022-03-02T16:28:00.731Z"
   },
   {
    "duration": 4,
    "start_time": "2022-03-02T16:28:00.825Z"
   },
   {
    "duration": 17,
    "start_time": "2022-03-02T16:28:00.831Z"
   },
   {
    "duration": 17,
    "start_time": "2022-03-02T16:28:00.850Z"
   },
   {
    "duration": 15,
    "start_time": "2022-03-02T16:28:00.869Z"
   },
   {
    "duration": 8,
    "start_time": "2022-03-02T16:28:00.891Z"
   },
   {
    "duration": 15,
    "start_time": "2022-03-02T16:28:00.901Z"
   },
   {
    "duration": 22,
    "start_time": "2022-03-02T16:28:00.919Z"
   },
   {
    "duration": 12,
    "start_time": "2022-03-02T16:28:00.944Z"
   },
   {
    "duration": 71,
    "start_time": "2022-03-02T16:59:55.627Z"
   },
   {
    "duration": 3,
    "start_time": "2022-03-02T17:00:30.127Z"
   },
   {
    "duration": 6,
    "start_time": "2022-03-02T17:34:13.916Z"
   },
   {
    "duration": 8,
    "start_time": "2022-03-02T17:34:13.924Z"
   },
   {
    "duration": 2322,
    "start_time": "2022-03-02T17:34:13.949Z"
   },
   {
    "duration": 897,
    "start_time": "2022-03-02T17:34:16.274Z"
   },
   {
    "duration": 43,
    "start_time": "2022-03-02T17:34:17.174Z"
   },
   {
    "duration": 31,
    "start_time": "2022-03-02T17:34:17.221Z"
   },
   {
    "duration": 62,
    "start_time": "2022-03-02T17:34:17.254Z"
   },
   {
    "duration": 27,
    "start_time": "2022-03-02T17:34:17.318Z"
   },
   {
    "duration": 51,
    "start_time": "2022-03-02T17:34:17.347Z"
   },
   {
    "duration": 18,
    "start_time": "2022-03-02T17:34:17.401Z"
   },
   {
    "duration": 10,
    "start_time": "2022-03-02T17:34:17.422Z"
   },
   {
    "duration": 55,
    "start_time": "2022-03-02T17:34:17.434Z"
   },
   {
    "duration": 10,
    "start_time": "2022-03-02T17:34:17.492Z"
   },
   {
    "duration": 12,
    "start_time": "2022-03-02T17:34:17.504Z"
   },
   {
    "duration": 9,
    "start_time": "2022-03-02T17:34:17.518Z"
   },
   {
    "duration": 257,
    "start_time": "2022-03-02T17:34:17.531Z"
   },
   {
    "duration": 3,
    "start_time": "2022-03-02T17:34:17.791Z"
   },
   {
    "duration": 8,
    "start_time": "2022-03-02T17:34:17.796Z"
   },
   {
    "duration": 6,
    "start_time": "2022-03-02T17:34:17.806Z"
   },
   {
    "duration": 9,
    "start_time": "2022-03-02T17:34:17.815Z"
   },
   {
    "duration": 9,
    "start_time": "2022-03-02T17:34:17.826Z"
   },
   {
    "duration": 9,
    "start_time": "2022-03-02T17:34:17.837Z"
   },
   {
    "duration": 6,
    "start_time": "2022-03-02T17:34:17.848Z"
   },
   {
    "duration": 30,
    "start_time": "2022-03-02T17:34:17.857Z"
   },
   {
    "duration": 9,
    "start_time": "2022-03-02T17:34:17.893Z"
   },
   {
    "duration": 13,
    "start_time": "2022-03-02T17:34:17.906Z"
   },
   {
    "duration": 19,
    "start_time": "2022-03-02T17:34:17.922Z"
   },
   {
    "duration": 51,
    "start_time": "2022-03-02T17:34:17.944Z"
   },
   {
    "duration": 13,
    "start_time": "2022-03-02T17:34:17.999Z"
   },
   {
    "duration": 33,
    "start_time": "2022-03-02T17:34:18.014Z"
   },
   {
    "duration": 50,
    "start_time": "2022-03-02T17:34:18.049Z"
   },
   {
    "duration": 11,
    "start_time": "2022-03-02T17:34:18.102Z"
   },
   {
    "duration": 4,
    "start_time": "2022-03-02T17:34:18.116Z"
   },
   {
    "duration": 9,
    "start_time": "2022-03-02T17:34:18.123Z"
   },
   {
    "duration": 1244,
    "start_time": "2022-03-02T17:34:18.134Z"
   },
   {
    "duration": 1091,
    "start_time": "2022-03-02T17:34:19.381Z"
   },
   {
    "duration": 1073,
    "start_time": "2022-03-02T17:34:20.475Z"
   },
   {
    "duration": 1414,
    "start_time": "2022-03-02T17:34:21.550Z"
   },
   {
    "duration": 1300,
    "start_time": "2022-03-02T17:34:22.966Z"
   },
   {
    "duration": 7,
    "start_time": "2022-03-02T17:34:24.269Z"
   },
   {
    "duration": 1069,
    "start_time": "2022-03-02T17:34:24.279Z"
   },
   {
    "duration": 10,
    "start_time": "2022-03-02T17:34:25.350Z"
   },
   {
    "duration": 26,
    "start_time": "2022-03-02T17:34:25.363Z"
   },
   {
    "duration": 10,
    "start_time": "2022-03-02T17:34:25.391Z"
   },
   {
    "duration": 1083,
    "start_time": "2022-03-02T17:34:25.404Z"
   },
   {
    "duration": 40,
    "start_time": "2022-03-02T17:34:26.490Z"
   },
   {
    "duration": 69,
    "start_time": "2022-03-02T17:34:26.533Z"
   },
   {
    "duration": 221,
    "start_time": "2022-03-02T17:34:26.606Z"
   },
   {
    "duration": 27,
    "start_time": "2022-03-02T17:34:26.830Z"
   },
   {
    "duration": 2,
    "start_time": "2022-03-02T17:34:26.860Z"
   },
   {
    "duration": 3,
    "start_time": "2022-03-02T17:34:26.887Z"
   },
   {
    "duration": 9,
    "start_time": "2022-03-02T17:34:26.892Z"
   },
   {
    "duration": 8,
    "start_time": "2022-03-02T17:34:26.903Z"
   },
   {
    "duration": 20,
    "start_time": "2022-03-02T17:34:26.913Z"
   },
   {
    "duration": 22,
    "start_time": "2022-03-02T17:34:26.935Z"
   },
   {
    "duration": 20,
    "start_time": "2022-03-02T17:34:26.959Z"
   },
   {
    "duration": 9,
    "start_time": "2022-03-02T17:34:26.981Z"
   },
   {
    "duration": 9,
    "start_time": "2022-03-02T17:34:26.992Z"
   },
   {
    "duration": 10,
    "start_time": "2022-03-02T17:34:27.004Z"
   },
   {
    "duration": 29,
    "start_time": "2022-03-02T17:34:27.016Z"
   },
   {
    "duration": 5,
    "start_time": "2022-03-02T17:34:27.048Z"
   },
   {
    "duration": 5,
    "start_time": "2022-03-02T17:34:27.087Z"
   },
   {
    "duration": 20,
    "start_time": "2022-03-02T17:34:27.094Z"
   },
   {
    "duration": 4,
    "start_time": "2022-03-02T17:34:27.117Z"
   },
   {
    "duration": 20,
    "start_time": "2022-03-02T17:34:27.123Z"
   },
   {
    "duration": 11,
    "start_time": "2022-03-02T17:34:27.145Z"
   },
   {
    "duration": 24,
    "start_time": "2022-03-02T17:34:27.158Z"
   },
   {
    "duration": 18,
    "start_time": "2022-03-02T17:34:27.185Z"
   },
   {
    "duration": 16,
    "start_time": "2022-03-02T17:34:27.205Z"
   },
   {
    "duration": 8,
    "start_time": "2022-03-02T17:34:27.228Z"
   },
   {
    "duration": 16,
    "start_time": "2022-03-02T17:34:27.238Z"
   },
   {
    "duration": 12,
    "start_time": "2022-03-02T17:34:27.258Z"
   },
   {
    "duration": 11,
    "start_time": "2022-03-02T17:34:27.272Z"
   },
   {
    "duration": 18,
    "start_time": "2022-03-02T17:34:27.286Z"
   },
   {
    "duration": 4,
    "start_time": "2022-03-02T17:47:05.846Z"
   },
   {
    "duration": 37,
    "start_time": "2022-03-02T18:11:35.487Z"
   },
   {
    "duration": 23,
    "start_time": "2022-03-02T18:12:00.877Z"
   },
   {
    "duration": 16,
    "start_time": "2022-03-02T18:12:19.240Z"
   },
   {
    "duration": 19,
    "start_time": "2022-03-02T18:13:43.578Z"
   },
   {
    "duration": 15,
    "start_time": "2022-03-02T18:14:04.691Z"
   },
   {
    "duration": 31,
    "start_time": "2022-03-02T18:14:28.605Z"
   },
   {
    "duration": 19,
    "start_time": "2022-03-02T18:14:49.014Z"
   },
   {
    "duration": 18,
    "start_time": "2022-03-02T18:18:16.648Z"
   },
   {
    "duration": 2991,
    "start_time": "2022-03-02T18:18:43.463Z"
   },
   {
    "duration": 40,
    "start_time": "2022-03-02T18:18:49.553Z"
   },
   {
    "duration": 38,
    "start_time": "2022-03-02T18:19:54.576Z"
   },
   {
    "duration": 43,
    "start_time": "2022-03-02T18:20:13.505Z"
   },
   {
    "duration": 16,
    "start_time": "2022-03-02T18:22:37.560Z"
   },
   {
    "duration": 40,
    "start_time": "2022-03-02T18:22:55.226Z"
   },
   {
    "duration": 18,
    "start_time": "2022-03-02T18:23:03.992Z"
   },
   {
    "duration": 5,
    "start_time": "2022-03-02T18:23:33.356Z"
   },
   {
    "duration": 7,
    "start_time": "2022-03-02T18:23:33.363Z"
   },
   {
    "duration": 2184,
    "start_time": "2022-03-02T18:23:33.373Z"
   },
   {
    "duration": 881,
    "start_time": "2022-03-02T18:23:35.560Z"
   },
   {
    "duration": 34,
    "start_time": "2022-03-02T18:23:36.444Z"
   },
   {
    "duration": 29,
    "start_time": "2022-03-02T18:23:36.488Z"
   },
   {
    "duration": 28,
    "start_time": "2022-03-02T18:23:36.522Z"
   },
   {
    "duration": 56,
    "start_time": "2022-03-02T18:23:36.553Z"
   },
   {
    "duration": 24,
    "start_time": "2022-03-02T18:23:36.612Z"
   },
   {
    "duration": 52,
    "start_time": "2022-03-02T18:23:36.639Z"
   },
   {
    "duration": 12,
    "start_time": "2022-03-02T18:23:36.694Z"
   },
   {
    "duration": 11,
    "start_time": "2022-03-02T18:23:36.709Z"
   },
   {
    "duration": 12,
    "start_time": "2022-03-02T18:23:36.723Z"
   },
   {
    "duration": 59,
    "start_time": "2022-03-02T18:23:36.737Z"
   },
   {
    "duration": 9,
    "start_time": "2022-03-02T18:23:36.798Z"
   },
   {
    "duration": 199,
    "start_time": "2022-03-02T18:23:36.809Z"
   },
   {
    "duration": 3,
    "start_time": "2022-03-02T18:23:37.010Z"
   },
   {
    "duration": 7,
    "start_time": "2022-03-02T18:23:37.015Z"
   },
   {
    "duration": 4,
    "start_time": "2022-03-02T18:23:37.028Z"
   },
   {
    "duration": 8,
    "start_time": "2022-03-02T18:23:37.035Z"
   },
   {
    "duration": 6,
    "start_time": "2022-03-02T18:23:37.046Z"
   },
   {
    "duration": 33,
    "start_time": "2022-03-02T18:23:37.054Z"
   },
   {
    "duration": 5,
    "start_time": "2022-03-02T18:23:37.089Z"
   },
   {
    "duration": 6,
    "start_time": "2022-03-02T18:23:37.097Z"
   },
   {
    "duration": 8,
    "start_time": "2022-03-02T18:23:37.106Z"
   },
   {
    "duration": 7,
    "start_time": "2022-03-02T18:23:37.117Z"
   },
   {
    "duration": 17,
    "start_time": "2022-03-02T18:23:37.126Z"
   },
   {
    "duration": 44,
    "start_time": "2022-03-02T18:23:37.146Z"
   },
   {
    "duration": 9,
    "start_time": "2022-03-02T18:23:37.192Z"
   },
   {
    "duration": 29,
    "start_time": "2022-03-02T18:23:37.203Z"
   },
   {
    "duration": 56,
    "start_time": "2022-03-02T18:23:37.234Z"
   },
   {
    "duration": 10,
    "start_time": "2022-03-02T18:23:37.292Z"
   },
   {
    "duration": 2,
    "start_time": "2022-03-02T18:23:37.305Z"
   },
   {
    "duration": 8,
    "start_time": "2022-03-02T18:23:37.310Z"
   },
   {
    "duration": 1122,
    "start_time": "2022-03-02T18:23:37.321Z"
   },
   {
    "duration": 988,
    "start_time": "2022-03-02T18:23:38.445Z"
   },
   {
    "duration": 989,
    "start_time": "2022-03-02T18:23:39.435Z"
   },
   {
    "duration": 1311,
    "start_time": "2022-03-02T18:23:40.427Z"
   },
   {
    "duration": 1191,
    "start_time": "2022-03-02T18:23:41.740Z"
   },
   {
    "duration": 8,
    "start_time": "2022-03-02T18:23:42.933Z"
   },
   {
    "duration": 1023,
    "start_time": "2022-03-02T18:23:42.944Z"
   },
   {
    "duration": 18,
    "start_time": "2022-03-02T18:23:43.970Z"
   },
   {
    "duration": 10,
    "start_time": "2022-03-02T18:23:43.990Z"
   },
   {
    "duration": 11,
    "start_time": "2022-03-02T18:23:44.002Z"
   },
   {
    "duration": 1086,
    "start_time": "2022-03-02T18:23:44.015Z"
   },
   {
    "duration": 39,
    "start_time": "2022-03-02T18:23:45.103Z"
   },
   {
    "duration": 62,
    "start_time": "2022-03-02T18:23:45.144Z"
   },
   {
    "duration": 213,
    "start_time": "2022-03-02T18:23:45.208Z"
   },
   {
    "duration": 30,
    "start_time": "2022-03-02T18:23:45.423Z"
   },
   {
    "duration": 3,
    "start_time": "2022-03-02T18:23:45.457Z"
   },
   {
    "duration": 3,
    "start_time": "2022-03-02T18:23:45.487Z"
   },
   {
    "duration": 8,
    "start_time": "2022-03-02T18:23:45.492Z"
   },
   {
    "duration": 11,
    "start_time": "2022-03-02T18:23:45.502Z"
   },
   {
    "duration": 9,
    "start_time": "2022-03-02T18:23:45.516Z"
   },
   {
    "duration": 16,
    "start_time": "2022-03-02T18:23:45.533Z"
   },
   {
    "duration": 38,
    "start_time": "2022-03-02T18:23:45.552Z"
   },
   {
    "duration": 4,
    "start_time": "2022-03-02T18:23:45.593Z"
   },
   {
    "duration": 9,
    "start_time": "2022-03-02T18:23:45.600Z"
   },
   {
    "duration": 27,
    "start_time": "2022-03-02T18:23:45.612Z"
   },
   {
    "duration": 6,
    "start_time": "2022-03-02T18:23:45.641Z"
   },
   {
    "duration": 40,
    "start_time": "2022-03-02T18:23:45.649Z"
   },
   {
    "duration": 9,
    "start_time": "2022-03-02T18:23:45.692Z"
   },
   {
    "duration": 9,
    "start_time": "2022-03-02T18:23:45.703Z"
   },
   {
    "duration": 11,
    "start_time": "2022-03-02T18:23:45.714Z"
   },
   {
    "duration": 5,
    "start_time": "2022-03-02T18:23:45.728Z"
   },
   {
    "duration": 9,
    "start_time": "2022-03-02T18:23:45.736Z"
   },
   {
    "duration": 40,
    "start_time": "2022-03-02T18:23:45.747Z"
   },
   {
    "duration": 4,
    "start_time": "2022-03-02T18:23:45.790Z"
   },
   {
    "duration": 14,
    "start_time": "2022-03-02T18:23:45.797Z"
   },
   {
    "duration": 8,
    "start_time": "2022-03-02T18:23:45.813Z"
   },
   {
    "duration": 6,
    "start_time": "2022-03-02T18:23:45.824Z"
   },
   {
    "duration": 6,
    "start_time": "2022-03-02T18:23:45.833Z"
   },
   {
    "duration": 5,
    "start_time": "2022-03-02T18:23:45.842Z"
   },
   {
    "duration": 471,
    "start_time": "2022-03-02T18:23:45.849Z"
   },
   {
    "duration": 732,
    "start_time": "2022-03-02T18:23:45.590Z"
   },
   {
    "duration": 727,
    "start_time": "2022-03-02T18:23:45.597Z"
   },
   {
    "duration": 723,
    "start_time": "2022-03-02T18:23:45.602Z"
   },
   {
    "duration": 719,
    "start_time": "2022-03-02T18:23:45.607Z"
   },
   {
    "duration": 709,
    "start_time": "2022-03-02T18:23:45.619Z"
   },
   {
    "duration": 707,
    "start_time": "2022-03-02T18:23:45.622Z"
   },
   {
    "duration": 5,
    "start_time": "2022-03-02T18:25:46.461Z"
   },
   {
    "duration": 271,
    "start_time": "2022-03-02T18:36:48.129Z"
   },
   {
    "duration": 522,
    "start_time": "2022-03-02T18:56:10.424Z"
   },
   {
    "duration": 458,
    "start_time": "2022-03-02T18:57:27.648Z"
   },
   {
    "duration": 6,
    "start_time": "2022-03-02T18:59:45.916Z"
   },
   {
    "duration": 5,
    "start_time": "2022-03-02T19:00:21.475Z"
   },
   {
    "duration": 7,
    "start_time": "2022-03-02T19:00:32.872Z"
   },
   {
    "duration": 5,
    "start_time": "2022-03-02T19:00:53.456Z"
   },
   {
    "duration": 5,
    "start_time": "2022-03-02T19:01:24.612Z"
   },
   {
    "duration": 7,
    "start_time": "2022-03-02T19:01:38.128Z"
   },
   {
    "duration": 6,
    "start_time": "2022-03-02T19:03:43.542Z"
   },
   {
    "duration": 18,
    "start_time": "2022-03-02T19:11:40.418Z"
   },
   {
    "duration": 15,
    "start_time": "2022-03-02T19:12:04.782Z"
   },
   {
    "duration": 4,
    "start_time": "2022-03-02T19:12:43.328Z"
   },
   {
    "duration": 9,
    "start_time": "2022-03-02T19:12:51.404Z"
   },
   {
    "duration": 4,
    "start_time": "2022-03-02T19:14:12.989Z"
   },
   {
    "duration": 5,
    "start_time": "2022-03-02T19:15:40.449Z"
   },
   {
    "duration": 4,
    "start_time": "2022-03-02T19:15:44.024Z"
   },
   {
    "duration": 7,
    "start_time": "2022-03-02T19:17:15.254Z"
   },
   {
    "duration": 3,
    "start_time": "2022-03-02T19:17:18.713Z"
   },
   {
    "duration": 251,
    "start_time": "2022-03-02T19:19:43.323Z"
   },
   {
    "duration": 5,
    "start_time": "2022-03-02T19:20:28.097Z"
   },
   {
    "duration": 8,
    "start_time": "2022-03-02T19:20:47.619Z"
   },
   {
    "duration": 7,
    "start_time": "2022-03-02T19:21:02.859Z"
   },
   {
    "duration": 484,
    "start_time": "2022-03-02T19:22:08.203Z"
   },
   {
    "duration": 448,
    "start_time": "2022-03-02T19:24:22.709Z"
   },
   {
    "duration": 4,
    "start_time": "2022-03-02T19:25:26.723Z"
   },
   {
    "duration": 463,
    "start_time": "2022-03-02T19:27:05.229Z"
   },
   {
    "duration": 10,
    "start_time": "2022-03-02T19:27:10.915Z"
   },
   {
    "duration": 3,
    "start_time": "2022-03-03T08:20:48.399Z"
   },
   {
    "duration": 8,
    "start_time": "2022-03-03T08:20:48.404Z"
   },
   {
    "duration": 1174,
    "start_time": "2022-03-03T08:20:48.417Z"
   },
   {
    "duration": 842,
    "start_time": "2022-03-03T08:20:49.593Z"
   },
   {
    "duration": 25,
    "start_time": "2022-03-03T08:20:50.437Z"
   },
   {
    "duration": 28,
    "start_time": "2022-03-03T08:20:50.465Z"
   },
   {
    "duration": 20,
    "start_time": "2022-03-03T08:20:50.495Z"
   },
   {
    "duration": 36,
    "start_time": "2022-03-03T08:20:50.517Z"
   },
   {
    "duration": 14,
    "start_time": "2022-03-03T08:20:50.555Z"
   },
   {
    "duration": 9,
    "start_time": "2022-03-03T08:20:50.571Z"
   },
   {
    "duration": 8,
    "start_time": "2022-03-03T08:20:50.583Z"
   },
   {
    "duration": 7,
    "start_time": "2022-03-03T08:20:50.594Z"
   },
   {
    "duration": 39,
    "start_time": "2022-03-03T08:20:50.603Z"
   },
   {
    "duration": 8,
    "start_time": "2022-03-03T08:20:50.643Z"
   },
   {
    "duration": 8,
    "start_time": "2022-03-03T08:20:50.653Z"
   },
   {
    "duration": 169,
    "start_time": "2022-03-03T08:20:50.662Z"
   },
   {
    "duration": 5,
    "start_time": "2022-03-03T08:20:50.833Z"
   },
   {
    "duration": 17,
    "start_time": "2022-03-03T08:20:50.841Z"
   },
   {
    "duration": 7,
    "start_time": "2022-03-03T08:20:50.859Z"
   },
   {
    "duration": 7,
    "start_time": "2022-03-03T08:20:50.868Z"
   },
   {
    "duration": 5,
    "start_time": "2022-03-03T08:20:50.877Z"
   },
   {
    "duration": 8,
    "start_time": "2022-03-03T08:20:50.884Z"
   },
   {
    "duration": 10,
    "start_time": "2022-03-03T08:20:50.894Z"
   },
   {
    "duration": 6,
    "start_time": "2022-03-03T08:20:50.906Z"
   },
   {
    "duration": 13,
    "start_time": "2022-03-03T08:20:50.914Z"
   },
   {
    "duration": 9,
    "start_time": "2022-03-03T08:20:50.929Z"
   },
   {
    "duration": 21,
    "start_time": "2022-03-03T08:20:50.941Z"
   },
   {
    "duration": 10,
    "start_time": "2022-03-03T08:20:50.964Z"
   },
   {
    "duration": 8,
    "start_time": "2022-03-03T08:20:50.979Z"
   },
   {
    "duration": 19,
    "start_time": "2022-03-03T08:20:50.990Z"
   },
   {
    "duration": 23,
    "start_time": "2022-03-03T08:20:51.039Z"
   },
   {
    "duration": 8,
    "start_time": "2022-03-03T08:20:51.064Z"
   },
   {
    "duration": 13,
    "start_time": "2022-03-03T08:20:51.074Z"
   },
   {
    "duration": 10,
    "start_time": "2022-03-03T08:20:51.088Z"
   },
   {
    "duration": 787,
    "start_time": "2022-03-03T08:20:51.100Z"
   },
   {
    "duration": 831,
    "start_time": "2022-03-03T08:20:51.889Z"
   },
   {
    "duration": 768,
    "start_time": "2022-03-03T08:20:52.721Z"
   },
   {
    "duration": 936,
    "start_time": "2022-03-03T08:20:53.491Z"
   },
   {
    "duration": 1142,
    "start_time": "2022-03-03T08:20:54.429Z"
   },
   {
    "duration": 7,
    "start_time": "2022-03-03T08:20:55.574Z"
   },
   {
    "duration": 783,
    "start_time": "2022-03-03T08:20:55.583Z"
   },
   {
    "duration": 8,
    "start_time": "2022-03-03T08:20:56.368Z"
   },
   {
    "duration": 8,
    "start_time": "2022-03-03T08:20:56.378Z"
   },
   {
    "duration": 8,
    "start_time": "2022-03-03T08:20:56.387Z"
   },
   {
    "duration": 863,
    "start_time": "2022-03-03T08:20:56.397Z"
   },
   {
    "duration": 28,
    "start_time": "2022-03-03T08:20:57.261Z"
   },
   {
    "duration": 34,
    "start_time": "2022-03-03T08:20:57.297Z"
   },
   {
    "duration": 49,
    "start_time": "2022-03-03T08:20:57.338Z"
   },
   {
    "duration": 45,
    "start_time": "2022-03-03T08:20:57.389Z"
   },
   {
    "duration": 2,
    "start_time": "2022-03-03T08:20:57.437Z"
   },
   {
    "duration": 22,
    "start_time": "2022-03-03T08:20:57.440Z"
   },
   {
    "duration": 12,
    "start_time": "2022-03-03T08:20:57.464Z"
   },
   {
    "duration": 11,
    "start_time": "2022-03-03T08:20:57.478Z"
   },
   {
    "duration": 12,
    "start_time": "2022-03-03T08:20:57.491Z"
   },
   {
    "duration": 27,
    "start_time": "2022-03-03T08:20:57.504Z"
   },
   {
    "duration": 11,
    "start_time": "2022-03-03T08:20:57.532Z"
   },
   {
    "duration": 21,
    "start_time": "2022-03-03T08:20:57.545Z"
   },
   {
    "duration": 7,
    "start_time": "2022-03-03T08:20:57.568Z"
   },
   {
    "duration": 24,
    "start_time": "2022-03-03T08:20:57.577Z"
   },
   {
    "duration": 5,
    "start_time": "2022-03-03T08:20:57.602Z"
   },
   {
    "duration": 9,
    "start_time": "2022-03-03T08:20:57.609Z"
   },
   {
    "duration": 15,
    "start_time": "2022-03-03T08:20:57.619Z"
   },
   {
    "duration": 14,
    "start_time": "2022-03-03T08:20:57.636Z"
   },
   {
    "duration": 9,
    "start_time": "2022-03-03T08:20:57.651Z"
   },
   {
    "duration": 4,
    "start_time": "2022-03-03T08:20:57.662Z"
   },
   {
    "duration": 8,
    "start_time": "2022-03-03T08:20:57.668Z"
   },
   {
    "duration": 6,
    "start_time": "2022-03-03T08:20:57.678Z"
   },
   {
    "duration": 10,
    "start_time": "2022-03-03T08:20:57.685Z"
   },
   {
    "duration": 4,
    "start_time": "2022-03-03T08:20:57.697Z"
   },
   {
    "duration": 21,
    "start_time": "2022-03-03T08:20:57.703Z"
   },
   {
    "duration": 6,
    "start_time": "2022-03-03T08:20:57.726Z"
   },
   {
    "duration": 43,
    "start_time": "2022-03-03T08:20:57.737Z"
   },
   {
    "duration": 76,
    "start_time": "2022-03-03T08:20:57.781Z"
   },
   {
    "duration": 2,
    "start_time": "2022-03-03T08:20:57.859Z"
   },
   {
    "duration": 6,
    "start_time": "2022-03-03T08:20:57.863Z"
   },
   {
    "duration": 9,
    "start_time": "2022-03-03T08:20:57.871Z"
   },
   {
    "duration": 7,
    "start_time": "2022-03-03T08:20:57.882Z"
   },
   {
    "duration": 7,
    "start_time": "2022-03-03T08:20:57.890Z"
   },
   {
    "duration": 7,
    "start_time": "2022-03-03T08:20:57.898Z"
   },
   {
    "duration": 261,
    "start_time": "2022-03-03T08:20:57.906Z"
   },
   {
    "duration": -214,
    "start_time": "2022-03-03T08:20:58.383Z"
   },
   {
    "duration": -217,
    "start_time": "2022-03-03T08:20:58.387Z"
   },
   {
    "duration": -223,
    "start_time": "2022-03-03T08:20:58.394Z"
   },
   {
    "duration": -226,
    "start_time": "2022-03-03T08:20:58.398Z"
   },
   {
    "duration": -229,
    "start_time": "2022-03-03T08:20:58.402Z"
   },
   {
    "duration": -233,
    "start_time": "2022-03-03T08:20:58.407Z"
   },
   {
    "duration": -236,
    "start_time": "2022-03-03T08:20:58.411Z"
   },
   {
    "duration": -240,
    "start_time": "2022-03-03T08:20:58.416Z"
   },
   {
    "duration": 4,
    "start_time": "2022-03-03T08:22:22.720Z"
   },
   {
    "duration": 3,
    "start_time": "2022-03-03T08:22:29.419Z"
   },
   {
    "duration": 3,
    "start_time": "2022-03-03T08:26:37.028Z"
   },
   {
    "duration": 12,
    "start_time": "2022-03-03T08:26:37.035Z"
   },
   {
    "duration": 1139,
    "start_time": "2022-03-03T08:26:37.048Z"
   },
   {
    "duration": 802,
    "start_time": "2022-03-03T08:26:38.189Z"
   },
   {
    "duration": 26,
    "start_time": "2022-03-03T08:26:38.993Z"
   },
   {
    "duration": 30,
    "start_time": "2022-03-03T08:26:39.020Z"
   },
   {
    "duration": 19,
    "start_time": "2022-03-03T08:26:39.051Z"
   },
   {
    "duration": 18,
    "start_time": "2022-03-03T08:26:39.071Z"
   },
   {
    "duration": 14,
    "start_time": "2022-03-03T08:26:39.092Z"
   },
   {
    "duration": 10,
    "start_time": "2022-03-03T08:26:39.138Z"
   },
   {
    "duration": 14,
    "start_time": "2022-03-03T08:26:39.150Z"
   },
   {
    "duration": 17,
    "start_time": "2022-03-03T08:26:39.166Z"
   },
   {
    "duration": 11,
    "start_time": "2022-03-03T08:26:39.185Z"
   },
   {
    "duration": 18,
    "start_time": "2022-03-03T08:26:39.197Z"
   },
   {
    "duration": 21,
    "start_time": "2022-03-03T08:26:39.217Z"
   },
   {
    "duration": 141,
    "start_time": "2022-03-03T08:26:39.239Z"
   },
   {
    "duration": 2,
    "start_time": "2022-03-03T08:26:39.382Z"
   },
   {
    "duration": 12,
    "start_time": "2022-03-03T08:26:39.386Z"
   },
   {
    "duration": 13,
    "start_time": "2022-03-03T08:26:39.399Z"
   },
   {
    "duration": 10,
    "start_time": "2022-03-03T08:26:39.414Z"
   },
   {
    "duration": 12,
    "start_time": "2022-03-03T08:26:39.426Z"
   },
   {
    "duration": 10,
    "start_time": "2022-03-03T08:26:39.440Z"
   },
   {
    "duration": 16,
    "start_time": "2022-03-03T08:26:39.451Z"
   },
   {
    "duration": 9,
    "start_time": "2022-03-03T08:26:39.471Z"
   },
   {
    "duration": 22,
    "start_time": "2022-03-03T08:26:39.483Z"
   },
   {
    "duration": 8,
    "start_time": "2022-03-03T08:26:39.507Z"
   },
   {
    "duration": 20,
    "start_time": "2022-03-03T08:26:39.517Z"
   },
   {
    "duration": 11,
    "start_time": "2022-03-03T08:26:39.539Z"
   },
   {
    "duration": 8,
    "start_time": "2022-03-03T08:26:39.552Z"
   },
   {
    "duration": 20,
    "start_time": "2022-03-03T08:26:39.562Z"
   },
   {
    "duration": 19,
    "start_time": "2022-03-03T08:26:39.584Z"
   },
   {
    "duration": 11,
    "start_time": "2022-03-03T08:26:39.638Z"
   },
   {
    "duration": 10,
    "start_time": "2022-03-03T08:26:39.651Z"
   },
   {
    "duration": 9,
    "start_time": "2022-03-03T08:26:39.663Z"
   },
   {
    "duration": 757,
    "start_time": "2022-03-03T08:26:39.674Z"
   },
   {
    "duration": 840,
    "start_time": "2022-03-03T08:26:40.433Z"
   },
   {
    "duration": 743,
    "start_time": "2022-03-03T08:26:41.275Z"
   },
   {
    "duration": 864,
    "start_time": "2022-03-03T08:26:42.020Z"
   },
   {
    "duration": 1000,
    "start_time": "2022-03-03T08:26:42.886Z"
   },
   {
    "duration": 5,
    "start_time": "2022-03-03T08:26:43.888Z"
   },
   {
    "duration": 727,
    "start_time": "2022-03-03T08:26:43.895Z"
   },
   {
    "duration": 18,
    "start_time": "2022-03-03T08:26:44.624Z"
   },
   {
    "duration": 8,
    "start_time": "2022-03-03T08:26:44.643Z"
   },
   {
    "duration": 7,
    "start_time": "2022-03-03T08:26:44.653Z"
   },
   {
    "duration": 868,
    "start_time": "2022-03-03T08:26:44.662Z"
   },
   {
    "duration": 30,
    "start_time": "2022-03-03T08:26:45.531Z"
   },
   {
    "duration": 26,
    "start_time": "2022-03-03T08:26:45.562Z"
   },
   {
    "duration": 70,
    "start_time": "2022-03-03T08:26:45.590Z"
   },
   {
    "duration": 29,
    "start_time": "2022-03-03T08:26:45.661Z"
   },
   {
    "duration": 2,
    "start_time": "2022-03-03T08:26:45.692Z"
   },
   {
    "duration": 8,
    "start_time": "2022-03-03T08:26:45.695Z"
   },
   {
    "duration": 9,
    "start_time": "2022-03-03T08:26:45.705Z"
   },
   {
    "duration": 9,
    "start_time": "2022-03-03T08:26:45.715Z"
   },
   {
    "duration": 5,
    "start_time": "2022-03-03T08:26:45.737Z"
   },
   {
    "duration": 10,
    "start_time": "2022-03-03T08:26:45.744Z"
   },
   {
    "duration": 5,
    "start_time": "2022-03-03T08:26:45.755Z"
   },
   {
    "duration": 5,
    "start_time": "2022-03-03T08:26:45.761Z"
   },
   {
    "duration": 6,
    "start_time": "2022-03-03T08:26:45.767Z"
   },
   {
    "duration": 24,
    "start_time": "2022-03-03T08:26:45.775Z"
   },
   {
    "duration": 5,
    "start_time": "2022-03-03T08:26:45.800Z"
   },
   {
    "duration": 7,
    "start_time": "2022-03-03T08:26:45.806Z"
   },
   {
    "duration": 2,
    "start_time": "2022-03-03T08:26:45.838Z"
   },
   {
    "duration": 5,
    "start_time": "2022-03-03T08:26:45.842Z"
   },
   {
    "duration": 9,
    "start_time": "2022-03-03T08:26:45.849Z"
   },
   {
    "duration": 4,
    "start_time": "2022-03-03T08:26:45.860Z"
   },
   {
    "duration": 7,
    "start_time": "2022-03-03T08:26:45.866Z"
   },
   {
    "duration": 5,
    "start_time": "2022-03-03T08:26:45.875Z"
   },
   {
    "duration": 10,
    "start_time": "2022-03-03T08:26:45.881Z"
   },
   {
    "duration": 3,
    "start_time": "2022-03-03T08:26:45.897Z"
   },
   {
    "duration": 4,
    "start_time": "2022-03-03T08:26:45.902Z"
   },
   {
    "duration": 34,
    "start_time": "2022-03-03T08:26:45.908Z"
   },
   {
    "duration": 42,
    "start_time": "2022-03-03T08:26:45.944Z"
   },
   {
    "duration": 78,
    "start_time": "2022-03-03T08:26:45.987Z"
   },
   {
    "duration": 2,
    "start_time": "2022-03-03T08:26:46.067Z"
   },
   {
    "duration": 14,
    "start_time": "2022-03-03T08:26:46.071Z"
   },
   {
    "duration": 15,
    "start_time": "2022-03-03T08:26:46.087Z"
   },
   {
    "duration": 9,
    "start_time": "2022-03-03T08:26:46.103Z"
   },
   {
    "duration": 10,
    "start_time": "2022-03-03T08:26:46.113Z"
   },
   {
    "duration": 7,
    "start_time": "2022-03-03T08:26:46.124Z"
   },
   {
    "duration": 7,
    "start_time": "2022-03-03T08:26:46.137Z"
   },
   {
    "duration": 5,
    "start_time": "2022-03-03T08:26:46.146Z"
   },
   {
    "duration": 385,
    "start_time": "2022-03-03T08:26:46.153Z"
   },
   {
    "duration": 98,
    "start_time": "2022-03-03T08:26:46.541Z"
   },
   {
    "duration": 2,
    "start_time": "2022-03-03T08:26:46.641Z"
   },
   {
    "duration": 6,
    "start_time": "2022-03-03T08:26:46.645Z"
   },
   {
    "duration": 7,
    "start_time": "2022-03-03T08:26:46.653Z"
   },
   {
    "duration": 8,
    "start_time": "2022-03-03T08:26:46.661Z"
   },
   {
    "duration": 5,
    "start_time": "2022-03-03T08:26:46.671Z"
   },
   {
    "duration": 5,
    "start_time": "2022-03-03T08:26:46.677Z"
   },
   {
    "duration": 9,
    "start_time": "2022-03-03T08:31:02.256Z"
   },
   {
    "duration": 260,
    "start_time": "2022-03-03T08:43:33.189Z"
   },
   {
    "duration": 212,
    "start_time": "2022-03-03T08:43:39.605Z"
   },
   {
    "duration": 6,
    "start_time": "2022-03-03T08:43:59.696Z"
   },
   {
    "duration": 325,
    "start_time": "2022-03-03T09:25:07.519Z"
   },
   {
    "duration": 761,
    "start_time": "2022-03-03T09:27:15.246Z"
   },
   {
    "duration": 4,
    "start_time": "2022-03-03T09:30:35.255Z"
   },
   {
    "duration": 4,
    "start_time": "2022-03-03T09:31:03.084Z"
   },
   {
    "duration": 4,
    "start_time": "2022-03-03T09:31:29.158Z"
   },
   {
    "duration": 3,
    "start_time": "2022-03-03T09:31:31.170Z"
   },
   {
    "duration": 758,
    "start_time": "2022-03-03T09:35:33.047Z"
   },
   {
    "duration": 5,
    "start_time": "2022-03-03T09:40:19.933Z"
   },
   {
    "duration": 571,
    "start_time": "2022-03-03T09:40:28.921Z"
   },
   {
    "duration": 575,
    "start_time": "2022-03-03T09:40:48.082Z"
   },
   {
    "duration": 1934,
    "start_time": "2022-03-03T09:42:13.847Z"
   },
   {
    "duration": 585,
    "start_time": "2022-03-03T09:42:55.974Z"
   },
   {
    "duration": 1696,
    "start_time": "2022-03-03T09:57:46.982Z"
   },
   {
    "duration": 1720,
    "start_time": "2022-03-03T09:57:57.878Z"
   },
   {
    "duration": 1705,
    "start_time": "2022-03-03T09:58:05.026Z"
   },
   {
    "duration": 351,
    "start_time": "2022-03-03T10:02:16.123Z"
   },
   {
    "duration": 455,
    "start_time": "2022-03-03T10:02:26.718Z"
   },
   {
    "duration": 1689,
    "start_time": "2022-03-03T10:02:52.509Z"
   },
   {
    "duration": 456,
    "start_time": "2022-03-03T10:02:57.649Z"
   },
   {
    "duration": 7,
    "start_time": "2022-03-03T10:04:38.458Z"
   },
   {
    "duration": 3,
    "start_time": "2022-03-03T10:05:50.137Z"
   },
   {
    "duration": 99450,
    "start_time": "2022-03-03T10:10:08.569Z"
   },
   {
    "duration": 2,
    "start_time": "2022-03-03T10:12:18.418Z"
   },
   {
    "duration": 2,
    "start_time": "2022-03-03T10:12:18.427Z"
   },
   {
    "duration": 1167,
    "start_time": "2022-03-03T10:12:18.431Z"
   },
   {
    "duration": 819,
    "start_time": "2022-03-03T10:12:19.600Z"
   },
   {
    "duration": 29,
    "start_time": "2022-03-03T10:12:20.421Z"
   },
   {
    "duration": 21,
    "start_time": "2022-03-03T10:12:20.452Z"
   },
   {
    "duration": 41,
    "start_time": "2022-03-03T10:12:20.475Z"
   },
   {
    "duration": 27,
    "start_time": "2022-03-03T10:12:20.517Z"
   },
   {
    "duration": 15,
    "start_time": "2022-03-03T10:12:20.546Z"
   },
   {
    "duration": 10,
    "start_time": "2022-03-03T10:12:20.563Z"
   },
   {
    "duration": 8,
    "start_time": "2022-03-03T10:12:20.575Z"
   },
   {
    "duration": 8,
    "start_time": "2022-03-03T10:12:20.585Z"
   },
   {
    "duration": 44,
    "start_time": "2022-03-03T10:12:20.594Z"
   },
   {
    "duration": 8,
    "start_time": "2022-03-03T10:12:20.640Z"
   },
   {
    "duration": 8,
    "start_time": "2022-03-03T10:12:20.650Z"
   },
   {
    "duration": 153,
    "start_time": "2022-03-03T10:12:20.660Z"
   },
   {
    "duration": 2,
    "start_time": "2022-03-03T10:12:20.814Z"
   },
   {
    "duration": 6,
    "start_time": "2022-03-03T10:12:20.818Z"
   },
   {
    "duration": 5,
    "start_time": "2022-03-03T10:12:20.825Z"
   },
   {
    "duration": 2,
    "start_time": "2022-03-03T10:12:20.838Z"
   },
   {
    "duration": 5,
    "start_time": "2022-03-03T10:12:20.841Z"
   },
   {
    "duration": 5,
    "start_time": "2022-03-03T10:12:20.847Z"
   },
   {
    "duration": 4,
    "start_time": "2022-03-03T10:12:20.853Z"
   },
   {
    "duration": 6,
    "start_time": "2022-03-03T10:12:20.858Z"
   },
   {
    "duration": 8,
    "start_time": "2022-03-03T10:12:20.865Z"
   },
   {
    "duration": 4,
    "start_time": "2022-03-03T10:12:20.875Z"
   },
   {
    "duration": 15,
    "start_time": "2022-03-03T10:12:20.881Z"
   },
   {
    "duration": 9,
    "start_time": "2022-03-03T10:12:20.897Z"
   },
   {
    "duration": 7,
    "start_time": "2022-03-03T10:12:20.941Z"
   },
   {
    "duration": 19,
    "start_time": "2022-03-03T10:12:20.951Z"
   },
   {
    "duration": 21,
    "start_time": "2022-03-03T10:12:20.971Z"
   },
   {
    "duration": 7,
    "start_time": "2022-03-03T10:12:20.994Z"
   },
   {
    "duration": 35,
    "start_time": "2022-03-03T10:12:21.003Z"
   },
   {
    "duration": 7,
    "start_time": "2022-03-03T10:12:21.040Z"
   },
   {
    "duration": 747,
    "start_time": "2022-03-03T10:12:21.048Z"
   },
   {
    "duration": 828,
    "start_time": "2022-03-03T10:12:21.797Z"
   },
   {
    "duration": 739,
    "start_time": "2022-03-03T10:12:22.628Z"
   },
   {
    "duration": 882,
    "start_time": "2022-03-03T10:12:23.369Z"
   },
   {
    "duration": 1038,
    "start_time": "2022-03-03T10:12:24.253Z"
   },
   {
    "duration": 7,
    "start_time": "2022-03-03T10:12:25.293Z"
   },
   {
    "duration": 722,
    "start_time": "2022-03-03T10:12:25.302Z"
   },
   {
    "duration": 18,
    "start_time": "2022-03-03T10:12:26.026Z"
   },
   {
    "duration": 7,
    "start_time": "2022-03-03T10:12:26.046Z"
   },
   {
    "duration": 16,
    "start_time": "2022-03-03T10:12:26.055Z"
   },
   {
    "duration": 890,
    "start_time": "2022-03-03T10:12:26.073Z"
   },
   {
    "duration": 32,
    "start_time": "2022-03-03T10:12:26.965Z"
   },
   {
    "duration": 47,
    "start_time": "2022-03-03T10:12:26.999Z"
   },
   {
    "duration": 63,
    "start_time": "2022-03-03T10:12:27.047Z"
   },
   {
    "duration": 49,
    "start_time": "2022-03-03T10:12:27.112Z"
   },
   {
    "duration": 2,
    "start_time": "2022-03-03T10:12:27.163Z"
   },
   {
    "duration": 8,
    "start_time": "2022-03-03T10:12:27.166Z"
   },
   {
    "duration": 12,
    "start_time": "2022-03-03T10:12:27.175Z"
   },
   {
    "duration": 12,
    "start_time": "2022-03-03T10:12:27.189Z"
   },
   {
    "duration": 7,
    "start_time": "2022-03-03T10:12:27.204Z"
   },
   {
    "duration": 26,
    "start_time": "2022-03-03T10:12:27.213Z"
   },
   {
    "duration": 10,
    "start_time": "2022-03-03T10:12:27.241Z"
   },
   {
    "duration": 16,
    "start_time": "2022-03-03T10:12:27.253Z"
   },
   {
    "duration": 35,
    "start_time": "2022-03-03T10:12:27.271Z"
   },
   {
    "duration": 40,
    "start_time": "2022-03-03T10:12:27.309Z"
   },
   {
    "duration": 5,
    "start_time": "2022-03-03T10:12:27.350Z"
   },
   {
    "duration": 10,
    "start_time": "2022-03-03T10:12:27.357Z"
   },
   {
    "duration": 7,
    "start_time": "2022-03-03T10:12:27.369Z"
   },
   {
    "duration": 7,
    "start_time": "2022-03-03T10:12:27.378Z"
   },
   {
    "duration": 7,
    "start_time": "2022-03-03T10:12:27.387Z"
   },
   {
    "duration": 4,
    "start_time": "2022-03-03T10:12:27.396Z"
   },
   {
    "duration": 7,
    "start_time": "2022-03-03T10:12:27.402Z"
   },
   {
    "duration": 5,
    "start_time": "2022-03-03T10:12:27.411Z"
   },
   {
    "duration": 25,
    "start_time": "2022-03-03T10:12:27.418Z"
   },
   {
    "duration": 6,
    "start_time": "2022-03-03T10:12:27.444Z"
   },
   {
    "duration": 6,
    "start_time": "2022-03-03T10:12:27.452Z"
   },
   {
    "duration": 5,
    "start_time": "2022-03-03T10:12:27.460Z"
   },
   {
    "duration": 43,
    "start_time": "2022-03-03T10:12:27.467Z"
   },
   {
    "duration": 76,
    "start_time": "2022-03-03T10:12:27.511Z"
   },
   {
    "duration": 2,
    "start_time": "2022-03-03T10:12:27.589Z"
   },
   {
    "duration": 4,
    "start_time": "2022-03-03T10:12:27.593Z"
   },
   {
    "duration": 3213,
    "start_time": "2022-03-03T10:12:27.599Z"
   },
   {
    "duration": 4,
    "start_time": "2022-03-03T10:12:30.814Z"
   },
   {
    "duration": 18,
    "start_time": "2022-03-03T10:12:30.820Z"
   },
   {
    "duration": 8017,
    "start_time": "2022-03-03T10:12:30.839Z"
   },
   {
    "duration": 4,
    "start_time": "2022-03-03T10:12:38.857Z"
   },
   {
    "duration": 7,
    "start_time": "2022-03-03T10:12:38.862Z"
   },
   {
    "duration": 3814,
    "start_time": "2022-03-03T10:12:38.870Z"
   },
   {
    "duration": 787,
    "start_time": "2022-03-03T10:12:42.690Z"
   },
   {
    "duration": 7,
    "start_time": "2022-03-03T10:12:43.479Z"
   },
   {
    "duration": 3,
    "start_time": "2022-03-03T10:12:43.488Z"
   },
   {
    "duration": 99971,
    "start_time": "2022-03-03T10:12:43.493Z"
   },
   {
    "duration": 2,
    "start_time": "2022-03-03T10:14:23.466Z"
   },
   {
    "duration": 7,
    "start_time": "2022-03-03T10:14:23.470Z"
   },
   {
    "duration": 7,
    "start_time": "2022-03-03T10:14:23.478Z"
   },
   {
    "duration": 5,
    "start_time": "2022-03-03T10:14:23.487Z"
   },
   {
    "duration": 7,
    "start_time": "2022-03-03T10:14:23.494Z"
   },
   {
    "duration": 6,
    "start_time": "2022-03-03T10:14:23.502Z"
   },
   {
    "duration": 29,
    "start_time": "2022-03-03T10:14:23.510Z"
   },
   {
    "duration": 7,
    "start_time": "2022-03-03T10:14:23.541Z"
   },
   {
    "duration": 394,
    "start_time": "2022-03-03T10:14:23.550Z"
   },
   {
    "duration": 8,
    "start_time": "2022-03-03T10:14:24.037Z"
   },
   {
    "duration": 6,
    "start_time": "2022-03-03T10:14:24.047Z"
   },
   {
    "duration": 6,
    "start_time": "2022-03-03T10:14:24.055Z"
   },
   {
    "duration": 7,
    "start_time": "2022-03-03T10:14:24.063Z"
   },
   {
    "duration": 7,
    "start_time": "2022-03-03T10:14:24.072Z"
   },
   {
    "duration": 5,
    "start_time": "2022-03-03T10:14:24.081Z"
   },
   {
    "duration": 51,
    "start_time": "2022-03-03T10:14:24.088Z"
   },
   {
    "duration": 3,
    "start_time": "2022-03-03T10:53:29.541Z"
   },
   {
    "duration": 12,
    "start_time": "2022-03-03T10:53:29.546Z"
   },
   {
    "duration": 1221,
    "start_time": "2022-03-03T10:53:29.560Z"
   },
   {
    "duration": 1251,
    "start_time": "2022-03-03T10:53:30.783Z"
   },
   {
    "duration": 26,
    "start_time": "2022-03-03T10:53:32.035Z"
   },
   {
    "duration": 19,
    "start_time": "2022-03-03T10:53:32.063Z"
   },
   {
    "duration": 30,
    "start_time": "2022-03-03T10:53:32.084Z"
   },
   {
    "duration": 35,
    "start_time": "2022-03-03T10:53:32.117Z"
   },
   {
    "duration": 14,
    "start_time": "2022-03-03T10:53:32.154Z"
   },
   {
    "duration": 10,
    "start_time": "2022-03-03T10:53:32.170Z"
   },
   {
    "duration": 9,
    "start_time": "2022-03-03T10:53:32.181Z"
   },
   {
    "duration": 8,
    "start_time": "2022-03-03T10:53:32.192Z"
   },
   {
    "duration": 42,
    "start_time": "2022-03-03T10:53:32.201Z"
   },
   {
    "duration": 12,
    "start_time": "2022-03-03T10:53:32.245Z"
   },
   {
    "duration": 20,
    "start_time": "2022-03-03T10:53:32.258Z"
   },
   {
    "duration": 139,
    "start_time": "2022-03-03T10:53:32.280Z"
   },
   {
    "duration": 2,
    "start_time": "2022-03-03T10:53:32.421Z"
   },
   {
    "duration": 17,
    "start_time": "2022-03-03T10:53:32.425Z"
   },
   {
    "duration": 5,
    "start_time": "2022-03-03T10:53:32.445Z"
   },
   {
    "duration": 6,
    "start_time": "2022-03-03T10:53:32.452Z"
   },
   {
    "duration": 8,
    "start_time": "2022-03-03T10:53:32.460Z"
   },
   {
    "duration": 22,
    "start_time": "2022-03-03T10:53:32.469Z"
   },
   {
    "duration": 13,
    "start_time": "2022-03-03T10:53:32.493Z"
   },
   {
    "duration": 11,
    "start_time": "2022-03-03T10:53:32.508Z"
   },
   {
    "duration": 15,
    "start_time": "2022-03-03T10:53:32.520Z"
   },
   {
    "duration": 15,
    "start_time": "2022-03-03T10:53:32.537Z"
   },
   {
    "duration": 26,
    "start_time": "2022-03-03T10:53:32.554Z"
   },
   {
    "duration": 10,
    "start_time": "2022-03-03T10:53:32.582Z"
   },
   {
    "duration": 7,
    "start_time": "2022-03-03T10:53:32.594Z"
   },
   {
    "duration": 27,
    "start_time": "2022-03-03T10:53:32.602Z"
   },
   {
    "duration": 23,
    "start_time": "2022-03-03T10:53:32.631Z"
   },
   {
    "duration": 8,
    "start_time": "2022-03-03T10:53:32.656Z"
   },
   {
    "duration": 8,
    "start_time": "2022-03-03T10:53:32.666Z"
   },
   {
    "duration": 14,
    "start_time": "2022-03-03T10:53:32.675Z"
   },
   {
    "duration": 750,
    "start_time": "2022-03-03T10:53:32.691Z"
   },
   {
    "duration": 814,
    "start_time": "2022-03-03T10:53:33.442Z"
   },
   {
    "duration": 722,
    "start_time": "2022-03-03T10:53:34.258Z"
   },
   {
    "duration": 870,
    "start_time": "2022-03-03T10:53:34.982Z"
   },
   {
    "duration": 980,
    "start_time": "2022-03-03T10:53:35.853Z"
   },
   {
    "duration": 6,
    "start_time": "2022-03-03T10:53:36.835Z"
   },
   {
    "duration": 713,
    "start_time": "2022-03-03T10:53:36.843Z"
   },
   {
    "duration": 7,
    "start_time": "2022-03-03T10:53:37.558Z"
   },
   {
    "duration": 13,
    "start_time": "2022-03-03T10:53:37.566Z"
   },
   {
    "duration": 11,
    "start_time": "2022-03-03T10:53:37.580Z"
   },
   {
    "duration": 773,
    "start_time": "2022-03-03T10:53:37.592Z"
   },
   {
    "duration": 27,
    "start_time": "2022-03-03T10:53:38.367Z"
   },
   {
    "duration": 43,
    "start_time": "2022-03-03T10:53:38.396Z"
   },
   {
    "duration": 47,
    "start_time": "2022-03-03T10:53:38.441Z"
   },
   {
    "duration": 49,
    "start_time": "2022-03-03T10:53:38.490Z"
   },
   {
    "duration": 2,
    "start_time": "2022-03-03T10:53:38.540Z"
   },
   {
    "duration": 7,
    "start_time": "2022-03-03T10:53:38.544Z"
   },
   {
    "duration": 5,
    "start_time": "2022-03-03T10:53:38.552Z"
   },
   {
    "duration": 7,
    "start_time": "2022-03-03T10:53:38.559Z"
   },
   {
    "duration": 6,
    "start_time": "2022-03-03T10:53:38.568Z"
   },
   {
    "duration": 9,
    "start_time": "2022-03-03T10:53:38.579Z"
   },
   {
    "duration": 4,
    "start_time": "2022-03-03T10:53:38.590Z"
   },
   {
    "duration": 5,
    "start_time": "2022-03-03T10:53:38.595Z"
   },
   {
    "duration": 7,
    "start_time": "2022-03-03T10:53:38.601Z"
   },
   {
    "duration": 44,
    "start_time": "2022-03-03T10:53:38.610Z"
   },
   {
    "duration": 5,
    "start_time": "2022-03-03T10:53:38.655Z"
   },
   {
    "duration": 10,
    "start_time": "2022-03-03T10:53:38.661Z"
   },
   {
    "duration": 5,
    "start_time": "2022-03-03T10:53:38.672Z"
   },
   {
    "duration": 5,
    "start_time": "2022-03-03T10:53:38.679Z"
   },
   {
    "duration": 8,
    "start_time": "2022-03-03T10:53:38.686Z"
   },
   {
    "duration": 8,
    "start_time": "2022-03-03T10:53:38.695Z"
   },
   {
    "duration": 8,
    "start_time": "2022-03-03T10:53:38.705Z"
   },
   {
    "duration": 24,
    "start_time": "2022-03-03T10:53:38.714Z"
   },
   {
    "duration": 8,
    "start_time": "2022-03-03T10:53:38.739Z"
   },
   {
    "duration": 6,
    "start_time": "2022-03-03T10:53:38.748Z"
   },
   {
    "duration": 6,
    "start_time": "2022-03-03T10:53:38.756Z"
   },
   {
    "duration": 5,
    "start_time": "2022-03-03T10:53:38.763Z"
   },
   {
    "duration": 43,
    "start_time": "2022-03-03T10:53:38.769Z"
   },
   {
    "duration": 72,
    "start_time": "2022-03-03T10:53:38.814Z"
   },
   {
    "duration": 2,
    "start_time": "2022-03-03T10:53:38.888Z"
   },
   {
    "duration": 6,
    "start_time": "2022-03-03T10:53:38.892Z"
   },
   {
    "duration": 3159,
    "start_time": "2022-03-03T10:53:38.900Z"
   },
   {
    "duration": 4,
    "start_time": "2022-03-03T10:53:42.061Z"
   },
   {
    "duration": 17,
    "start_time": "2022-03-03T10:53:42.066Z"
   },
   {
    "duration": 902,
    "start_time": "2022-03-03T10:53:42.085Z"
   },
   {
    "duration": 4,
    "start_time": "2022-03-03T10:53:42.989Z"
   },
   {
    "duration": 37,
    "start_time": "2022-03-03T10:53:42.994Z"
   },
   {
    "duration": 1695,
    "start_time": "2022-03-03T10:53:43.033Z"
   },
   {
    "duration": 482,
    "start_time": "2022-03-03T10:53:44.730Z"
   },
   {
    "duration": 6,
    "start_time": "2022-03-03T10:53:45.213Z"
   },
   {
    "duration": 18,
    "start_time": "2022-03-03T10:53:45.220Z"
   },
   {
    "duration": 3,
    "start_time": "2022-03-03T11:14:16.195Z"
   },
   {
    "duration": 11,
    "start_time": "2022-03-03T11:14:16.200Z"
   },
   {
    "duration": 1157,
    "start_time": "2022-03-03T11:14:16.213Z"
   },
   {
    "duration": 835,
    "start_time": "2022-03-03T11:14:17.372Z"
   },
   {
    "duration": 30,
    "start_time": "2022-03-03T11:14:18.209Z"
   },
   {
    "duration": 21,
    "start_time": "2022-03-03T11:14:18.240Z"
   },
   {
    "duration": 22,
    "start_time": "2022-03-03T11:14:18.263Z"
   },
   {
    "duration": 23,
    "start_time": "2022-03-03T11:14:18.287Z"
   },
   {
    "duration": 40,
    "start_time": "2022-03-03T11:14:18.312Z"
   },
   {
    "duration": 10,
    "start_time": "2022-03-03T11:14:18.354Z"
   },
   {
    "duration": 8,
    "start_time": "2022-03-03T11:14:18.366Z"
   },
   {
    "duration": 8,
    "start_time": "2022-03-03T11:14:18.375Z"
   },
   {
    "duration": 8,
    "start_time": "2022-03-03T11:14:18.385Z"
   },
   {
    "duration": 45,
    "start_time": "2022-03-03T11:14:18.395Z"
   },
   {
    "duration": 8,
    "start_time": "2022-03-03T11:14:18.442Z"
   },
   {
    "duration": 146,
    "start_time": "2022-03-03T11:14:18.451Z"
   },
   {
    "duration": 2,
    "start_time": "2022-03-03T11:14:18.599Z"
   },
   {
    "duration": 6,
    "start_time": "2022-03-03T11:14:18.602Z"
   },
   {
    "duration": 4,
    "start_time": "2022-03-03T11:14:18.611Z"
   },
   {
    "duration": 10,
    "start_time": "2022-03-03T11:14:18.617Z"
   },
   {
    "duration": 9,
    "start_time": "2022-03-03T11:14:18.628Z"
   },
   {
    "duration": 8,
    "start_time": "2022-03-03T11:14:18.639Z"
   },
   {
    "duration": 13,
    "start_time": "2022-03-03T11:14:18.648Z"
   },
   {
    "duration": 7,
    "start_time": "2022-03-03T11:14:18.663Z"
   },
   {
    "duration": 10,
    "start_time": "2022-03-03T11:14:18.672Z"
   },
   {
    "duration": 6,
    "start_time": "2022-03-03T11:14:18.683Z"
   },
   {
    "duration": 18,
    "start_time": "2022-03-03T11:14:18.690Z"
   },
   {
    "duration": 10,
    "start_time": "2022-03-03T11:14:18.709Z"
   },
   {
    "duration": 19,
    "start_time": "2022-03-03T11:14:18.720Z"
   },
   {
    "duration": 17,
    "start_time": "2022-03-03T11:14:18.741Z"
   },
   {
    "duration": 20,
    "start_time": "2022-03-03T11:14:18.760Z"
   },
   {
    "duration": 7,
    "start_time": "2022-03-03T11:14:18.782Z"
   },
   {
    "duration": 3,
    "start_time": "2022-03-03T11:14:18.791Z"
   },
   {
    "duration": 7,
    "start_time": "2022-03-03T11:14:18.795Z"
   },
   {
    "duration": 748,
    "start_time": "2022-03-03T11:14:18.803Z"
   },
   {
    "duration": 784,
    "start_time": "2022-03-03T11:14:19.553Z"
   },
   {
    "duration": 697,
    "start_time": "2022-03-03T11:14:20.339Z"
   },
   {
    "duration": 878,
    "start_time": "2022-03-03T11:14:21.038Z"
   },
   {
    "duration": 970,
    "start_time": "2022-03-03T11:14:21.918Z"
   },
   {
    "duration": 6,
    "start_time": "2022-03-03T11:14:22.889Z"
   },
   {
    "duration": 711,
    "start_time": "2022-03-03T11:14:22.896Z"
   },
   {
    "duration": 7,
    "start_time": "2022-03-03T11:14:23.608Z"
   },
   {
    "duration": 25,
    "start_time": "2022-03-03T11:14:23.617Z"
   },
   {
    "duration": 7,
    "start_time": "2022-03-03T11:14:23.643Z"
   },
   {
    "duration": 781,
    "start_time": "2022-03-03T11:14:23.652Z"
   },
   {
    "duration": 24,
    "start_time": "2022-03-03T11:14:24.435Z"
   },
   {
    "duration": 23,
    "start_time": "2022-03-03T11:14:24.461Z"
   },
   {
    "duration": 67,
    "start_time": "2022-03-03T11:14:24.486Z"
   },
   {
    "duration": 27,
    "start_time": "2022-03-03T11:14:24.554Z"
   },
   {
    "duration": 3,
    "start_time": "2022-03-03T11:14:24.582Z"
   },
   {
    "duration": 9,
    "start_time": "2022-03-03T11:14:24.586Z"
   },
   {
    "duration": 5,
    "start_time": "2022-03-03T11:14:24.596Z"
   },
   {
    "duration": 7,
    "start_time": "2022-03-03T11:14:24.603Z"
   },
   {
    "duration": 8,
    "start_time": "2022-03-03T11:14:24.611Z"
   },
   {
    "duration": 9,
    "start_time": "2022-03-03T11:14:24.641Z"
   },
   {
    "duration": 4,
    "start_time": "2022-03-03T11:14:24.652Z"
   },
   {
    "duration": 8,
    "start_time": "2022-03-03T11:14:24.657Z"
   },
   {
    "duration": 8,
    "start_time": "2022-03-03T11:14:24.666Z"
   },
   {
    "duration": 34,
    "start_time": "2022-03-03T11:14:24.675Z"
   },
   {
    "duration": 7,
    "start_time": "2022-03-03T11:14:24.711Z"
   },
   {
    "duration": 17,
    "start_time": "2022-03-03T11:14:24.720Z"
   },
   {
    "duration": 2,
    "start_time": "2022-03-03T11:14:24.739Z"
   },
   {
    "duration": 5,
    "start_time": "2022-03-03T11:14:24.743Z"
   },
   {
    "duration": 8,
    "start_time": "2022-03-03T11:14:24.750Z"
   },
   {
    "duration": 5,
    "start_time": "2022-03-03T11:14:24.759Z"
   },
   {
    "duration": 10,
    "start_time": "2022-03-03T11:14:24.766Z"
   },
   {
    "duration": 6,
    "start_time": "2022-03-03T11:14:24.778Z"
   },
   {
    "duration": 8,
    "start_time": "2022-03-03T11:14:24.786Z"
   },
   {
    "duration": 5,
    "start_time": "2022-03-03T11:14:24.796Z"
   },
   {
    "duration": 11,
    "start_time": "2022-03-03T11:14:24.802Z"
   },
   {
    "duration": 4,
    "start_time": "2022-03-03T11:14:24.815Z"
   },
   {
    "duration": 41,
    "start_time": "2022-03-03T11:14:24.838Z"
   },
   {
    "duration": 76,
    "start_time": "2022-03-03T11:14:24.880Z"
   },
   {
    "duration": 2,
    "start_time": "2022-03-03T11:14:24.958Z"
   },
   {
    "duration": 10,
    "start_time": "2022-03-03T11:14:24.962Z"
   },
   {
    "duration": 342,
    "start_time": "2022-03-03T11:14:24.973Z"
   },
   {
    "duration": 751,
    "start_time": "2022-03-03T11:14:25.317Z"
   },
   {
    "duration": 1654,
    "start_time": "2022-03-03T11:14:26.070Z"
   },
   {
    "duration": 474,
    "start_time": "2022-03-03T11:14:27.726Z"
   },
   {
    "duration": 6,
    "start_time": "2022-03-03T11:14:28.202Z"
   },
   {
    "duration": 6,
    "start_time": "2022-03-03T11:14:28.210Z"
   },
   {
    "duration": 3,
    "start_time": "2022-03-03T11:15:42.556Z"
   },
   {
    "duration": 25,
    "start_time": "2022-03-03T11:15:42.563Z"
   },
   {
    "duration": 1161,
    "start_time": "2022-03-03T11:15:42.590Z"
   },
   {
    "duration": 744,
    "start_time": "2022-03-03T11:15:43.753Z"
   },
   {
    "duration": 24,
    "start_time": "2022-03-03T11:15:44.499Z"
   },
   {
    "duration": 30,
    "start_time": "2022-03-03T11:15:44.525Z"
   },
   {
    "duration": 24,
    "start_time": "2022-03-03T11:15:44.557Z"
   },
   {
    "duration": 21,
    "start_time": "2022-03-03T11:15:44.583Z"
   },
   {
    "duration": 36,
    "start_time": "2022-03-03T11:15:44.607Z"
   },
   {
    "duration": 10,
    "start_time": "2022-03-03T11:15:44.645Z"
   },
   {
    "duration": 9,
    "start_time": "2022-03-03T11:15:44.657Z"
   },
   {
    "duration": 9,
    "start_time": "2022-03-03T11:15:44.667Z"
   },
   {
    "duration": 13,
    "start_time": "2022-03-03T11:15:44.677Z"
   },
   {
    "duration": 47,
    "start_time": "2022-03-03T11:15:44.692Z"
   },
   {
    "duration": 8,
    "start_time": "2022-03-03T11:15:44.740Z"
   },
   {
    "duration": 140,
    "start_time": "2022-03-03T11:15:44.750Z"
   },
   {
    "duration": 3,
    "start_time": "2022-03-03T11:15:44.891Z"
   },
   {
    "duration": 7,
    "start_time": "2022-03-03T11:15:44.895Z"
   },
   {
    "duration": 8,
    "start_time": "2022-03-03T11:15:44.904Z"
   },
   {
    "duration": 12,
    "start_time": "2022-03-03T11:15:44.913Z"
   },
   {
    "duration": 14,
    "start_time": "2022-03-03T11:15:44.927Z"
   },
   {
    "duration": 10,
    "start_time": "2022-03-03T11:15:44.943Z"
   },
   {
    "duration": 9,
    "start_time": "2022-03-03T11:15:44.955Z"
   },
   {
    "duration": 6,
    "start_time": "2022-03-03T11:15:44.970Z"
   },
   {
    "duration": 17,
    "start_time": "2022-03-03T11:15:44.979Z"
   },
   {
    "duration": 10,
    "start_time": "2022-03-03T11:15:44.998Z"
   },
   {
    "duration": 36,
    "start_time": "2022-03-03T11:15:45.011Z"
   },
   {
    "duration": 14,
    "start_time": "2022-03-03T11:15:45.049Z"
   },
   {
    "duration": 9,
    "start_time": "2022-03-03T11:15:45.064Z"
   },
   {
    "duration": 36,
    "start_time": "2022-03-03T11:15:45.075Z"
   },
   {
    "duration": 25,
    "start_time": "2022-03-03T11:15:45.113Z"
   },
   {
    "duration": 8,
    "start_time": "2022-03-03T11:15:45.140Z"
   },
   {
    "duration": 2,
    "start_time": "2022-03-03T11:15:45.150Z"
   },
   {
    "duration": 8,
    "start_time": "2022-03-03T11:15:45.154Z"
   },
   {
    "duration": 755,
    "start_time": "2022-03-03T11:15:45.163Z"
   },
   {
    "duration": 797,
    "start_time": "2022-03-03T11:15:45.919Z"
   },
   {
    "duration": 716,
    "start_time": "2022-03-03T11:15:46.719Z"
   },
   {
    "duration": 871,
    "start_time": "2022-03-03T11:15:47.438Z"
   },
   {
    "duration": 973,
    "start_time": "2022-03-03T11:15:48.311Z"
   },
   {
    "duration": 7,
    "start_time": "2022-03-03T11:15:49.287Z"
   },
   {
    "duration": 721,
    "start_time": "2022-03-03T11:15:49.295Z"
   },
   {
    "duration": 23,
    "start_time": "2022-03-03T11:15:50.019Z"
   },
   {
    "duration": 9,
    "start_time": "2022-03-03T11:15:50.044Z"
   },
   {
    "duration": 9,
    "start_time": "2022-03-03T11:15:50.054Z"
   },
   {
    "duration": 811,
    "start_time": "2022-03-03T11:15:50.065Z"
   },
   {
    "duration": 26,
    "start_time": "2022-03-03T11:15:50.878Z"
   },
   {
    "duration": 44,
    "start_time": "2022-03-03T11:15:50.906Z"
   },
   {
    "duration": 47,
    "start_time": "2022-03-03T11:15:50.952Z"
   },
   {
    "duration": 55,
    "start_time": "2022-03-03T11:15:51.001Z"
   },
   {
    "duration": 3,
    "start_time": "2022-03-03T11:15:51.057Z"
   },
   {
    "duration": 16,
    "start_time": "2022-03-03T11:15:51.062Z"
   },
   {
    "duration": 11,
    "start_time": "2022-03-03T11:15:51.080Z"
   },
   {
    "duration": 31,
    "start_time": "2022-03-03T11:15:51.092Z"
   },
   {
    "duration": 12,
    "start_time": "2022-03-03T11:15:51.125Z"
   },
   {
    "duration": 14,
    "start_time": "2022-03-03T11:15:51.138Z"
   },
   {
    "duration": 6,
    "start_time": "2022-03-03T11:15:51.154Z"
   },
   {
    "duration": 14,
    "start_time": "2022-03-03T11:15:51.161Z"
   },
   {
    "duration": 15,
    "start_time": "2022-03-03T11:15:51.177Z"
   },
   {
    "duration": 25,
    "start_time": "2022-03-03T11:15:51.194Z"
   },
   {
    "duration": 5,
    "start_time": "2022-03-03T11:15:51.221Z"
   },
   {
    "duration": 3,
    "start_time": "2022-03-03T11:15:51.237Z"
   },
   {
    "duration": 16,
    "start_time": "2022-03-03T11:15:51.242Z"
   },
   {
    "duration": 8,
    "start_time": "2022-03-03T11:15:51.259Z"
   },
   {
    "duration": 10,
    "start_time": "2022-03-03T11:15:51.269Z"
   },
   {
    "duration": 5,
    "start_time": "2022-03-03T11:15:51.281Z"
   },
   {
    "duration": 12,
    "start_time": "2022-03-03T11:15:51.287Z"
   },
   {
    "duration": 9,
    "start_time": "2022-03-03T11:15:51.301Z"
   },
   {
    "duration": 11,
    "start_time": "2022-03-03T11:15:51.311Z"
   },
   {
    "duration": 4,
    "start_time": "2022-03-03T11:15:51.341Z"
   },
   {
    "duration": 6,
    "start_time": "2022-03-03T11:15:51.348Z"
   },
   {
    "duration": 7,
    "start_time": "2022-03-03T11:15:51.356Z"
   },
   {
    "duration": 42,
    "start_time": "2022-03-03T11:15:51.365Z"
   },
   {
    "duration": 81,
    "start_time": "2022-03-03T11:15:51.408Z"
   },
   {
    "duration": 2,
    "start_time": "2022-03-03T11:15:51.491Z"
   },
   {
    "duration": 5,
    "start_time": "2022-03-03T11:15:51.495Z"
   },
   {
    "duration": 340,
    "start_time": "2022-03-03T11:15:51.502Z"
   },
   {
    "duration": 766,
    "start_time": "2022-03-03T11:15:51.844Z"
   },
   {
    "duration": 1676,
    "start_time": "2022-03-03T11:15:52.612Z"
   },
   {
    "duration": 470,
    "start_time": "2022-03-03T11:15:54.290Z"
   },
   {
    "duration": 8,
    "start_time": "2022-03-03T11:15:54.762Z"
   },
   {
    "duration": 3,
    "start_time": "2022-03-03T11:15:54.771Z"
   },
   {
    "duration": 14684,
    "start_time": "2022-03-03T11:15:54.776Z"
   },
   {
    "duration": 3,
    "start_time": "2022-03-03T11:16:09.462Z"
   },
   {
    "duration": 10,
    "start_time": "2022-03-03T11:16:09.466Z"
   },
   {
    "duration": 8,
    "start_time": "2022-03-03T11:16:09.478Z"
   },
   {
    "duration": 6,
    "start_time": "2022-03-03T11:16:09.488Z"
   },
   {
    "duration": 7,
    "start_time": "2022-03-03T11:16:09.496Z"
   },
   {
    "duration": 7,
    "start_time": "2022-03-03T11:16:09.504Z"
   },
   {
    "duration": 27,
    "start_time": "2022-03-03T11:16:09.512Z"
   },
   {
    "duration": 4,
    "start_time": "2022-03-03T11:16:09.540Z"
   },
   {
    "duration": 396,
    "start_time": "2022-03-03T11:16:09.546Z"
   },
   {
    "duration": 97,
    "start_time": "2022-03-03T11:16:09.944Z"
   },
   {
    "duration": 97,
    "start_time": "2022-03-03T11:16:10.044Z"
   },
   {
    "duration": 5,
    "start_time": "2022-03-03T11:16:10.143Z"
   },
   {
    "duration": 8,
    "start_time": "2022-03-03T11:16:10.149Z"
   },
   {
    "duration": 5,
    "start_time": "2022-03-03T11:16:10.158Z"
   },
   {
    "duration": 4,
    "start_time": "2022-03-03T11:16:10.165Z"
   },
   {
    "duration": 5,
    "start_time": "2022-03-03T11:16:10.170Z"
   },
   {
    "duration": 569,
    "start_time": "2022-03-03T11:17:12.636Z"
   },
   {
    "duration": 35117,
    "start_time": "2022-03-03T11:17:33.467Z"
   },
   {
    "duration": 15352,
    "start_time": "2022-03-03T11:19:49.658Z"
   },
   {
    "duration": 14485,
    "start_time": "2022-03-03T11:20:32.094Z"
   },
   {
    "duration": 3412,
    "start_time": "2022-03-03T11:21:20.686Z"
   },
   {
    "duration": 8,
    "start_time": "2022-03-03T11:22:19.446Z"
   },
   {
    "duration": 329,
    "start_time": "2022-03-03T11:31:08.010Z"
   },
   {
    "duration": 2395,
    "start_time": "2022-03-03T11:32:30.649Z"
   },
   {
    "duration": 6,
    "start_time": "2022-03-03T11:36:25.637Z"
   },
   {
    "duration": 3,
    "start_time": "2022-03-03T11:37:00.944Z"
   },
   {
    "duration": 23,
    "start_time": "2022-03-03T11:37:00.949Z"
   },
   {
    "duration": 1119,
    "start_time": "2022-03-03T11:37:00.974Z"
   },
   {
    "duration": 806,
    "start_time": "2022-03-03T11:37:02.096Z"
   },
   {
    "duration": 24,
    "start_time": "2022-03-03T11:37:02.904Z"
   },
   {
    "duration": 26,
    "start_time": "2022-03-03T11:37:02.930Z"
   },
   {
    "duration": 22,
    "start_time": "2022-03-03T11:37:02.958Z"
   },
   {
    "duration": 25,
    "start_time": "2022-03-03T11:37:02.982Z"
   },
   {
    "duration": 40,
    "start_time": "2022-03-03T11:37:03.009Z"
   },
   {
    "duration": 10,
    "start_time": "2022-03-03T11:37:03.050Z"
   },
   {
    "duration": 8,
    "start_time": "2022-03-03T11:37:03.062Z"
   },
   {
    "duration": 8,
    "start_time": "2022-03-03T11:37:03.071Z"
   },
   {
    "duration": 9,
    "start_time": "2022-03-03T11:37:03.081Z"
   },
   {
    "duration": 8,
    "start_time": "2022-03-03T11:37:03.092Z"
   },
   {
    "duration": 43,
    "start_time": "2022-03-03T11:37:03.102Z"
   },
   {
    "duration": 135,
    "start_time": "2022-03-03T11:37:03.147Z"
   },
   {
    "duration": 3,
    "start_time": "2022-03-03T11:37:03.284Z"
   },
   {
    "duration": 10,
    "start_time": "2022-03-03T11:37:03.288Z"
   },
   {
    "duration": 4,
    "start_time": "2022-03-03T11:37:03.302Z"
   },
   {
    "duration": 8,
    "start_time": "2022-03-03T11:37:03.308Z"
   },
   {
    "duration": 5,
    "start_time": "2022-03-03T11:37:03.318Z"
   },
   {
    "duration": 14,
    "start_time": "2022-03-03T11:37:03.324Z"
   },
   {
    "duration": 11,
    "start_time": "2022-03-03T11:37:03.340Z"
   },
   {
    "duration": 6,
    "start_time": "2022-03-03T11:37:03.353Z"
   },
   {
    "duration": 12,
    "start_time": "2022-03-03T11:37:03.361Z"
   },
   {
    "duration": 6,
    "start_time": "2022-03-03T11:37:03.375Z"
   },
   {
    "duration": 17,
    "start_time": "2022-03-03T11:37:03.382Z"
   },
   {
    "duration": 10,
    "start_time": "2022-03-03T11:37:03.401Z"
   },
   {
    "duration": 29,
    "start_time": "2022-03-03T11:37:03.413Z"
   },
   {
    "duration": 18,
    "start_time": "2022-03-03T11:37:03.444Z"
   },
   {
    "duration": 19,
    "start_time": "2022-03-03T11:37:03.464Z"
   },
   {
    "duration": 8,
    "start_time": "2022-03-03T11:37:03.484Z"
   },
   {
    "duration": 3,
    "start_time": "2022-03-03T11:37:03.494Z"
   },
   {
    "duration": 40,
    "start_time": "2022-03-03T11:37:03.498Z"
   },
   {
    "duration": 731,
    "start_time": "2022-03-03T11:37:03.540Z"
   },
   {
    "duration": 832,
    "start_time": "2022-03-03T11:37:04.273Z"
   },
   {
    "duration": 722,
    "start_time": "2022-03-03T11:37:05.107Z"
   },
   {
    "duration": 888,
    "start_time": "2022-03-03T11:37:05.831Z"
   },
   {
    "duration": 1023,
    "start_time": "2022-03-03T11:37:06.722Z"
   },
   {
    "duration": 7,
    "start_time": "2022-03-03T11:37:07.748Z"
   },
   {
    "duration": 733,
    "start_time": "2022-03-03T11:37:07.757Z"
   },
   {
    "duration": 9,
    "start_time": "2022-03-03T11:37:08.493Z"
   },
   {
    "duration": 9,
    "start_time": "2022-03-03T11:37:08.504Z"
   },
   {
    "duration": 30,
    "start_time": "2022-03-03T11:37:08.515Z"
   },
   {
    "duration": 799,
    "start_time": "2022-03-03T11:37:08.547Z"
   },
   {
    "duration": 27,
    "start_time": "2022-03-03T11:37:09.347Z"
   },
   {
    "duration": 24,
    "start_time": "2022-03-03T11:37:09.376Z"
   },
   {
    "duration": 67,
    "start_time": "2022-03-03T11:37:09.402Z"
   },
   {
    "duration": 35,
    "start_time": "2022-03-03T11:37:09.471Z"
   },
   {
    "duration": 2,
    "start_time": "2022-03-03T11:37:09.508Z"
   },
   {
    "duration": 7,
    "start_time": "2022-03-03T11:37:09.512Z"
   },
   {
    "duration": 17,
    "start_time": "2022-03-03T11:37:09.521Z"
   },
   {
    "duration": 5,
    "start_time": "2022-03-03T11:37:09.539Z"
   },
   {
    "duration": 9,
    "start_time": "2022-03-03T11:37:09.546Z"
   },
   {
    "duration": 10,
    "start_time": "2022-03-03T11:37:09.560Z"
   },
   {
    "duration": 4,
    "start_time": "2022-03-03T11:37:09.573Z"
   },
   {
    "duration": 9,
    "start_time": "2022-03-03T11:37:09.579Z"
   },
   {
    "duration": 7,
    "start_time": "2022-03-03T11:37:09.590Z"
   },
   {
    "duration": 46,
    "start_time": "2022-03-03T11:37:09.598Z"
   },
   {
    "duration": 5,
    "start_time": "2022-03-03T11:37:09.646Z"
   },
   {
    "duration": 8,
    "start_time": "2022-03-03T11:37:09.653Z"
   },
   {
    "duration": 6,
    "start_time": "2022-03-03T11:37:09.662Z"
   },
   {
    "duration": 6,
    "start_time": "2022-03-03T11:37:09.670Z"
   },
   {
    "duration": 9,
    "start_time": "2022-03-03T11:37:09.677Z"
   },
   {
    "duration": 6,
    "start_time": "2022-03-03T11:37:09.687Z"
   },
   {
    "duration": 9,
    "start_time": "2022-03-03T11:37:09.695Z"
   },
   {
    "duration": 6,
    "start_time": "2022-03-03T11:37:09.706Z"
   },
   {
    "duration": 26,
    "start_time": "2022-03-03T11:37:09.714Z"
   },
   {
    "duration": 4,
    "start_time": "2022-03-03T11:37:09.741Z"
   },
   {
    "duration": 9,
    "start_time": "2022-03-03T11:37:09.746Z"
   },
   {
    "duration": 6,
    "start_time": "2022-03-03T11:37:09.757Z"
   },
   {
    "duration": 44,
    "start_time": "2022-03-03T11:37:09.764Z"
   },
   {
    "duration": 76,
    "start_time": "2022-03-03T11:37:09.809Z"
   },
   {
    "duration": 2,
    "start_time": "2022-03-03T11:37:09.887Z"
   },
   {
    "duration": 5,
    "start_time": "2022-03-03T11:37:09.891Z"
   },
   {
    "duration": 360,
    "start_time": "2022-03-03T11:37:09.898Z"
   },
   {
    "duration": 784,
    "start_time": "2022-03-03T11:37:10.259Z"
   },
   {
    "duration": 1752,
    "start_time": "2022-03-03T11:37:11.045Z"
   },
   {
    "duration": 487,
    "start_time": "2022-03-03T11:37:12.799Z"
   },
   {
    "duration": 8,
    "start_time": "2022-03-03T11:37:13.288Z"
   },
   {
    "duration": 3,
    "start_time": "2022-03-03T11:37:13.298Z"
   },
   {
    "duration": 14937,
    "start_time": "2022-03-03T11:37:13.303Z"
   },
   {
    "duration": 34426,
    "start_time": "2022-03-03T11:37:28.242Z"
   },
   {
    "duration": 14891,
    "start_time": "2022-03-03T11:38:02.670Z"
   },
   {
    "duration": 4213,
    "start_time": "2022-03-03T11:38:17.562Z"
   },
   {
    "duration": 6,
    "start_time": "2022-03-03T11:38:21.777Z"
   },
   {
    "duration": 356,
    "start_time": "2022-03-03T11:38:21.785Z"
   },
   {
    "duration": 1999,
    "start_time": "2022-03-03T11:38:22.143Z"
   },
   {
    "duration": 594,
    "start_time": "2022-03-03T11:38:24.144Z"
   },
   {
    "duration": 8,
    "start_time": "2022-03-03T11:38:24.741Z"
   },
   {
    "duration": 90,
    "start_time": "2022-03-03T11:38:24.751Z"
   },
   {
    "duration": 3,
    "start_time": "2022-03-03T11:38:24.843Z"
   },
   {
    "duration": 7,
    "start_time": "2022-03-03T11:38:24.848Z"
   },
   {
    "duration": 6,
    "start_time": "2022-03-03T11:38:24.857Z"
   },
   {
    "duration": 6,
    "start_time": "2022-03-03T11:38:24.864Z"
   },
   {
    "duration": 6,
    "start_time": "2022-03-03T11:38:24.871Z"
   },
   {
    "duration": 6,
    "start_time": "2022-03-03T11:38:24.879Z"
   },
   {
    "duration": 6,
    "start_time": "2022-03-03T11:38:24.886Z"
   },
   {
    "duration": 7,
    "start_time": "2022-03-03T11:38:24.893Z"
   },
   {
    "duration": 4,
    "start_time": "2022-03-03T11:38:24.901Z"
   },
   {
    "duration": 4,
    "start_time": "2022-03-03T11:38:24.907Z"
   },
   {
    "duration": 3,
    "start_time": "2022-03-03T11:38:24.937Z"
   },
   {
    "duration": 6,
    "start_time": "2022-03-03T11:38:24.942Z"
   },
   {
    "duration": 3,
    "start_time": "2022-03-03T11:38:24.952Z"
   },
   {
    "duration": 5,
    "start_time": "2022-03-03T11:38:24.957Z"
   },
   {
    "duration": 5,
    "start_time": "2022-03-03T11:52:50.102Z"
   },
   {
    "duration": 4,
    "start_time": "2022-03-03T11:54:09.033Z"
   },
   {
    "duration": 5,
    "start_time": "2022-03-03T11:54:09.039Z"
   },
   {
    "duration": 1132,
    "start_time": "2022-03-03T11:54:09.046Z"
   },
   {
    "duration": 825,
    "start_time": "2022-03-03T11:54:10.180Z"
   },
   {
    "duration": 33,
    "start_time": "2022-03-03T11:54:11.006Z"
   },
   {
    "duration": 23,
    "start_time": "2022-03-03T11:54:11.040Z"
   },
   {
    "duration": 25,
    "start_time": "2022-03-03T11:54:11.065Z"
   },
   {
    "duration": 19,
    "start_time": "2022-03-03T11:54:11.093Z"
   },
   {
    "duration": 36,
    "start_time": "2022-03-03T11:54:11.114Z"
   },
   {
    "duration": 9,
    "start_time": "2022-03-03T11:54:11.152Z"
   },
   {
    "duration": 8,
    "start_time": "2022-03-03T11:54:11.163Z"
   },
   {
    "duration": 7,
    "start_time": "2022-03-03T11:54:11.172Z"
   },
   {
    "duration": 7,
    "start_time": "2022-03-03T11:54:11.181Z"
   },
   {
    "duration": 49,
    "start_time": "2022-03-03T11:54:11.189Z"
   },
   {
    "duration": 8,
    "start_time": "2022-03-03T11:54:11.240Z"
   },
   {
    "duration": 139,
    "start_time": "2022-03-03T11:54:11.250Z"
   },
   {
    "duration": 1,
    "start_time": "2022-03-03T11:54:11.391Z"
   },
   {
    "duration": 7,
    "start_time": "2022-03-03T11:54:11.394Z"
   },
   {
    "duration": 5,
    "start_time": "2022-03-03T11:54:11.403Z"
   },
   {
    "duration": 6,
    "start_time": "2022-03-03T11:54:11.409Z"
   },
   {
    "duration": 11,
    "start_time": "2022-03-03T11:54:11.417Z"
   },
   {
    "duration": 12,
    "start_time": "2022-03-03T11:54:11.430Z"
   },
   {
    "duration": 4,
    "start_time": "2022-03-03T11:54:11.445Z"
   },
   {
    "duration": 8,
    "start_time": "2022-03-03T11:54:11.451Z"
   },
   {
    "duration": 8,
    "start_time": "2022-03-03T11:54:11.460Z"
   },
   {
    "duration": 4,
    "start_time": "2022-03-03T11:54:11.470Z"
   },
   {
    "duration": 14,
    "start_time": "2022-03-03T11:54:11.476Z"
   },
   {
    "duration": 9,
    "start_time": "2022-03-03T11:54:11.491Z"
   },
   {
    "duration": 6,
    "start_time": "2022-03-03T11:54:11.502Z"
   },
   {
    "duration": 42,
    "start_time": "2022-03-03T11:54:11.510Z"
   },
   {
    "duration": 18,
    "start_time": "2022-03-03T11:54:11.554Z"
   },
   {
    "duration": 8,
    "start_time": "2022-03-03T11:54:11.574Z"
   },
   {
    "duration": 3,
    "start_time": "2022-03-03T11:54:11.583Z"
   },
   {
    "duration": 5,
    "start_time": "2022-03-03T11:54:11.587Z"
   },
   {
    "duration": 750,
    "start_time": "2022-03-03T11:54:11.594Z"
   },
   {
    "duration": 798,
    "start_time": "2022-03-03T11:54:12.347Z"
   },
   {
    "duration": 696,
    "start_time": "2022-03-03T11:54:13.147Z"
   },
   {
    "duration": 843,
    "start_time": "2022-03-03T11:54:13.845Z"
   },
   {
    "duration": 997,
    "start_time": "2022-03-03T11:54:14.690Z"
   },
   {
    "duration": 6,
    "start_time": "2022-03-03T11:54:15.688Z"
   },
   {
    "duration": 690,
    "start_time": "2022-03-03T11:54:15.695Z"
   },
   {
    "duration": 7,
    "start_time": "2022-03-03T11:54:16.387Z"
   },
   {
    "duration": 25,
    "start_time": "2022-03-03T11:54:16.396Z"
   },
   {
    "duration": 21,
    "start_time": "2022-03-03T11:54:16.423Z"
   },
   {
    "duration": 774,
    "start_time": "2022-03-03T11:54:16.445Z"
   },
   {
    "duration": 31,
    "start_time": "2022-03-03T11:54:17.221Z"
   },
   {
    "duration": 25,
    "start_time": "2022-03-03T11:54:17.254Z"
   },
   {
    "duration": 61,
    "start_time": "2022-03-03T11:54:17.280Z"
   },
   {
    "duration": 26,
    "start_time": "2022-03-03T11:54:17.343Z"
   },
   {
    "duration": 2,
    "start_time": "2022-03-03T11:54:17.371Z"
   },
   {
    "duration": 9,
    "start_time": "2022-03-03T11:54:17.375Z"
   },
   {
    "duration": 5,
    "start_time": "2022-03-03T11:54:17.385Z"
   },
   {
    "duration": 7,
    "start_time": "2022-03-03T11:54:17.391Z"
   },
   {
    "duration": 7,
    "start_time": "2022-03-03T11:54:17.400Z"
   },
   {
    "duration": 36,
    "start_time": "2022-03-03T11:54:17.409Z"
   },
   {
    "duration": 5,
    "start_time": "2022-03-03T11:54:17.447Z"
   },
   {
    "duration": 6,
    "start_time": "2022-03-03T11:54:17.454Z"
   },
   {
    "duration": 8,
    "start_time": "2022-03-03T11:54:17.461Z"
   },
   {
    "duration": 20,
    "start_time": "2022-03-03T11:54:17.470Z"
   },
   {
    "duration": 6,
    "start_time": "2022-03-03T11:54:17.492Z"
   },
   {
    "duration": 38,
    "start_time": "2022-03-03T11:54:17.500Z"
   },
   {
    "duration": 3,
    "start_time": "2022-03-03T11:54:17.540Z"
   },
   {
    "duration": 4,
    "start_time": "2022-03-03T11:54:17.545Z"
   },
   {
    "duration": 13,
    "start_time": "2022-03-03T11:54:17.551Z"
   },
   {
    "duration": 4,
    "start_time": "2022-03-03T11:54:17.566Z"
   },
   {
    "duration": 7,
    "start_time": "2022-03-03T11:54:17.572Z"
   },
   {
    "duration": 5,
    "start_time": "2022-03-03T11:54:17.581Z"
   },
   {
    "duration": 8,
    "start_time": "2022-03-03T11:54:17.592Z"
   },
   {
    "duration": 38,
    "start_time": "2022-03-03T11:54:17.603Z"
   },
   {
    "duration": 5,
    "start_time": "2022-03-03T11:54:17.643Z"
   },
   {
    "duration": 5,
    "start_time": "2022-03-03T11:54:17.649Z"
   },
   {
    "duration": 28,
    "start_time": "2022-03-03T11:54:17.656Z"
   },
   {
    "duration": 61,
    "start_time": "2022-03-03T11:54:17.686Z"
   },
   {
    "duration": 2,
    "start_time": "2022-03-03T11:54:17.749Z"
   },
   {
    "duration": 5,
    "start_time": "2022-03-03T11:54:17.752Z"
   },
   {
    "duration": 336,
    "start_time": "2022-03-03T11:54:17.759Z"
   },
   {
    "duration": 750,
    "start_time": "2022-03-03T11:54:18.096Z"
   },
   {
    "duration": 2024,
    "start_time": "2022-03-03T11:54:18.848Z"
   },
   {
    "duration": 470,
    "start_time": "2022-03-03T11:54:20.874Z"
   },
   {
    "duration": 6,
    "start_time": "2022-03-03T11:54:21.346Z"
   },
   {
    "duration": 4,
    "start_time": "2022-03-03T11:54:21.354Z"
   },
   {
    "duration": 14806,
    "start_time": "2022-03-03T11:54:21.359Z"
   },
   {
    "duration": 34441,
    "start_time": "2022-03-03T11:54:36.167Z"
   },
   {
    "duration": 14901,
    "start_time": "2022-03-03T11:55:10.610Z"
   },
   {
    "duration": 4187,
    "start_time": "2022-03-03T11:55:25.513Z"
   },
   {
    "duration": 6,
    "start_time": "2022-03-03T11:55:29.701Z"
   },
   {
    "duration": 442,
    "start_time": "2022-03-03T11:55:29.709Z"
   },
   {
    "duration": 2885,
    "start_time": "2022-03-03T11:55:30.153Z"
   },
   {
    "duration": 499,
    "start_time": "2022-03-03T11:55:33.040Z"
   },
   {
    "duration": 99,
    "start_time": "2022-03-03T11:55:33.541Z"
   },
   {
    "duration": 8,
    "start_time": "2022-03-03T11:55:33.642Z"
   },
   {
    "duration": 86,
    "start_time": "2022-03-03T11:55:33.652Z"
   },
   {
    "duration": 5,
    "start_time": "2022-03-03T11:55:33.740Z"
   },
   {
    "duration": 8,
    "start_time": "2022-03-03T11:55:33.746Z"
   },
   {
    "duration": 10,
    "start_time": "2022-03-03T11:55:33.755Z"
   },
   {
    "duration": 6,
    "start_time": "2022-03-03T11:55:33.767Z"
   },
   {
    "duration": 10,
    "start_time": "2022-03-03T11:55:33.774Z"
   },
   {
    "duration": 8,
    "start_time": "2022-03-03T11:55:33.786Z"
   },
   {
    "duration": 7,
    "start_time": "2022-03-03T11:55:33.795Z"
   },
   {
    "duration": 3,
    "start_time": "2022-03-03T11:55:33.804Z"
   },
   {
    "duration": 5,
    "start_time": "2022-03-03T11:55:33.809Z"
   },
   {
    "duration": 22,
    "start_time": "2022-03-03T11:55:33.816Z"
   },
   {
    "duration": 3,
    "start_time": "2022-03-03T11:55:33.839Z"
   },
   {
    "duration": 4,
    "start_time": "2022-03-03T11:55:33.844Z"
   },
   {
    "duration": 7,
    "start_time": "2022-03-03T11:55:33.850Z"
   },
   {
    "duration": 346,
    "start_time": "2022-03-03T12:10:19.584Z"
   },
   {
    "duration": 4,
    "start_time": "2022-03-03T12:10:52.109Z"
   },
   {
    "duration": 4,
    "start_time": "2022-03-03T12:10:54.150Z"
   },
   {
    "duration": 4,
    "start_time": "2022-03-03T12:11:34.803Z"
   },
   {
    "duration": 849,
    "start_time": "2022-03-03T12:12:21.846Z"
   },
   {
    "duration": 4,
    "start_time": "2022-03-03T12:19:08.198Z"
   },
   {
    "duration": 3,
    "start_time": "2022-03-03T12:22:45.255Z"
   },
   {
    "duration": 5,
    "start_time": "2022-03-03T12:22:45.261Z"
   },
   {
    "duration": 1116,
    "start_time": "2022-03-03T12:22:45.268Z"
   },
   {
    "duration": 818,
    "start_time": "2022-03-03T12:22:46.386Z"
   },
   {
    "duration": 32,
    "start_time": "2022-03-03T12:22:47.206Z"
   },
   {
    "duration": 21,
    "start_time": "2022-03-03T12:22:47.240Z"
   },
   {
    "duration": 19,
    "start_time": "2022-03-03T12:22:47.263Z"
   },
   {
    "duration": 22,
    "start_time": "2022-03-03T12:22:47.284Z"
   },
   {
    "duration": 36,
    "start_time": "2022-03-03T12:22:47.308Z"
   },
   {
    "duration": 9,
    "start_time": "2022-03-03T12:22:47.347Z"
   },
   {
    "duration": 8,
    "start_time": "2022-03-03T12:22:47.358Z"
   },
   {
    "duration": 13,
    "start_time": "2022-03-03T12:22:47.367Z"
   },
   {
    "duration": 7,
    "start_time": "2022-03-03T12:22:47.381Z"
   },
   {
    "duration": 48,
    "start_time": "2022-03-03T12:22:47.390Z"
   },
   {
    "duration": 8,
    "start_time": "2022-03-03T12:22:47.440Z"
   },
   {
    "duration": 147,
    "start_time": "2022-03-03T12:22:47.450Z"
   },
   {
    "duration": 2,
    "start_time": "2022-03-03T12:22:47.599Z"
   },
   {
    "duration": 5,
    "start_time": "2022-03-03T12:22:47.603Z"
   },
   {
    "duration": 7,
    "start_time": "2022-03-03T12:22:47.610Z"
   },
   {
    "duration": 18,
    "start_time": "2022-03-03T12:22:47.619Z"
   },
   {
    "duration": 4,
    "start_time": "2022-03-03T12:22:47.639Z"
   },
   {
    "duration": 4,
    "start_time": "2022-03-03T12:22:47.645Z"
   },
   {
    "duration": 5,
    "start_time": "2022-03-03T12:22:47.651Z"
   },
   {
    "duration": 5,
    "start_time": "2022-03-03T12:22:47.658Z"
   },
   {
    "duration": 7,
    "start_time": "2022-03-03T12:22:47.668Z"
   },
   {
    "duration": 4,
    "start_time": "2022-03-03T12:22:47.678Z"
   },
   {
    "duration": 55,
    "start_time": "2022-03-03T12:22:47.684Z"
   },
   {
    "duration": 10,
    "start_time": "2022-03-03T12:22:47.741Z"
   },
   {
    "duration": 7,
    "start_time": "2022-03-03T12:22:47.752Z"
   },
   {
    "duration": 19,
    "start_time": "2022-03-03T12:22:47.761Z"
   },
   {
    "duration": 19,
    "start_time": "2022-03-03T12:22:47.782Z"
   },
   {
    "duration": 36,
    "start_time": "2022-03-03T12:22:47.803Z"
   },
   {
    "duration": 4,
    "start_time": "2022-03-03T12:22:47.841Z"
   },
   {
    "duration": 12,
    "start_time": "2022-03-03T12:22:47.846Z"
   },
   {
    "duration": 774,
    "start_time": "2022-03-03T12:22:47.860Z"
   },
   {
    "duration": 826,
    "start_time": "2022-03-03T12:22:48.636Z"
   },
   {
    "duration": 769,
    "start_time": "2022-03-03T12:22:49.463Z"
   },
   {
    "duration": 918,
    "start_time": "2022-03-03T12:22:50.239Z"
   },
   {
    "duration": 1067,
    "start_time": "2022-03-03T12:22:51.158Z"
   },
   {
    "duration": 11,
    "start_time": "2022-03-03T12:22:52.227Z"
   },
   {
    "duration": 758,
    "start_time": "2022-03-03T12:22:52.239Z"
   },
   {
    "duration": 9,
    "start_time": "2022-03-03T12:22:52.998Z"
   },
   {
    "duration": 8,
    "start_time": "2022-03-03T12:22:53.009Z"
   },
   {
    "duration": 24,
    "start_time": "2022-03-03T12:22:53.019Z"
   },
   {
    "duration": 830,
    "start_time": "2022-03-03T12:22:53.045Z"
   },
   {
    "duration": 26,
    "start_time": "2022-03-03T12:22:53.877Z"
   },
   {
    "duration": 48,
    "start_time": "2022-03-03T12:22:53.905Z"
   },
   {
    "duration": 46,
    "start_time": "2022-03-03T12:22:53.955Z"
   },
   {
    "duration": 52,
    "start_time": "2022-03-03T12:22:54.004Z"
   },
   {
    "duration": 3,
    "start_time": "2022-03-03T12:22:54.058Z"
   },
   {
    "duration": 8,
    "start_time": "2022-03-03T12:22:54.063Z"
   },
   {
    "duration": 7,
    "start_time": "2022-03-03T12:22:54.073Z"
   },
   {
    "duration": 8,
    "start_time": "2022-03-03T12:22:54.082Z"
   },
   {
    "duration": 10,
    "start_time": "2022-03-03T12:22:54.091Z"
   },
   {
    "duration": 13,
    "start_time": "2022-03-03T12:22:54.103Z"
   },
   {
    "duration": 21,
    "start_time": "2022-03-03T12:22:54.117Z"
   },
   {
    "duration": 6,
    "start_time": "2022-03-03T12:22:54.140Z"
   },
   {
    "duration": 7,
    "start_time": "2022-03-03T12:22:54.148Z"
   },
   {
    "duration": 22,
    "start_time": "2022-03-03T12:22:54.157Z"
   },
   {
    "duration": 5,
    "start_time": "2022-03-03T12:22:54.181Z"
   },
   {
    "duration": 10,
    "start_time": "2022-03-03T12:22:54.187Z"
   },
   {
    "duration": 20,
    "start_time": "2022-03-03T12:22:54.198Z"
   },
   {
    "duration": 26,
    "start_time": "2022-03-03T12:22:54.220Z"
   },
   {
    "duration": 5,
    "start_time": "2022-03-03T12:22:54.247Z"
   },
   {
    "duration": 9,
    "start_time": "2022-03-03T12:22:54.254Z"
   },
   {
    "duration": 7,
    "start_time": "2022-03-03T12:22:54.265Z"
   },
   {
    "duration": 5,
    "start_time": "2022-03-03T12:22:54.274Z"
   },
   {
    "duration": 11,
    "start_time": "2022-03-03T12:22:54.280Z"
   },
   {
    "duration": 5,
    "start_time": "2022-03-03T12:22:54.292Z"
   },
   {
    "duration": 3,
    "start_time": "2022-03-03T12:22:54.303Z"
   },
   {
    "duration": 38,
    "start_time": "2022-03-03T12:22:54.308Z"
   },
   {
    "duration": 39,
    "start_time": "2022-03-03T12:22:54.348Z"
   },
   {
    "duration": 32,
    "start_time": "2022-03-03T12:22:54.389Z"
   },
   {
    "duration": 15,
    "start_time": "2022-03-03T12:22:54.423Z"
   },
   {
    "duration": 7,
    "start_time": "2022-03-03T12:22:54.439Z"
   },
   {
    "duration": 344,
    "start_time": "2022-03-03T12:22:54.448Z"
   },
   {
    "duration": 784,
    "start_time": "2022-03-03T12:22:54.793Z"
   },
   {
    "duration": 1741,
    "start_time": "2022-03-03T12:22:55.578Z"
   },
   {
    "duration": 489,
    "start_time": "2022-03-03T12:22:57.321Z"
   },
   {
    "duration": 9,
    "start_time": "2022-03-03T12:22:57.811Z"
   },
   {
    "duration": 16,
    "start_time": "2022-03-03T12:22:57.822Z"
   },
   {
    "duration": 15342,
    "start_time": "2022-03-03T12:22:57.840Z"
   },
   {
    "duration": 36185,
    "start_time": "2022-03-03T12:23:13.184Z"
   },
   {
    "duration": 15604,
    "start_time": "2022-03-03T12:23:49.371Z"
   },
   {
    "duration": 4328,
    "start_time": "2022-03-03T12:24:04.977Z"
   },
   {
    "duration": 7,
    "start_time": "2022-03-03T12:24:09.306Z"
   },
   {
    "duration": 435,
    "start_time": "2022-03-03T12:24:09.315Z"
   },
   {
    "duration": 2805,
    "start_time": "2022-03-03T12:24:09.839Z"
   },
   {
    "duration": 591,
    "start_time": "2022-03-03T12:24:12.648Z"
   },
   {
    "duration": 99,
    "start_time": "2022-03-03T12:24:13.242Z"
   },
   {
    "duration": 5,
    "start_time": "2022-03-03T12:24:13.344Z"
   },
   {
    "duration": 8,
    "start_time": "2022-03-03T12:24:13.437Z"
   },
   {
    "duration": 5,
    "start_time": "2022-03-03T12:24:13.447Z"
   },
   {
    "duration": 7,
    "start_time": "2022-03-03T12:24:13.454Z"
   },
   {
    "duration": 759,
    "start_time": "2022-03-03T12:24:13.463Z"
   },
   {
    "duration": 615,
    "start_time": "2022-03-03T12:24:13.609Z"
   },
   {
    "duration": 607,
    "start_time": "2022-03-03T12:24:13.618Z"
   },
   {
    "duration": 609,
    "start_time": "2022-03-03T12:24:13.618Z"
   },
   {
    "duration": 610,
    "start_time": "2022-03-03T12:24:13.618Z"
   },
   {
    "duration": 595,
    "start_time": "2022-03-03T12:24:13.634Z"
   },
   {
    "duration": 581,
    "start_time": "2022-03-03T12:24:13.649Z"
   },
   {
    "duration": 581,
    "start_time": "2022-03-03T12:24:13.650Z"
   },
   {
    "duration": 582,
    "start_time": "2022-03-03T12:24:13.650Z"
   },
   {
    "duration": 584,
    "start_time": "2022-03-03T12:24:13.650Z"
   },
   {
    "duration": 572,
    "start_time": "2022-03-03T12:24:13.663Z"
   },
   {
    "duration": 572,
    "start_time": "2022-03-03T12:24:13.663Z"
   },
   {
    "duration": 574,
    "start_time": "2022-03-03T12:24:13.663Z"
   },
   {
    "duration": 575,
    "start_time": "2022-03-03T12:24:13.663Z"
   },
   {
    "duration": 559,
    "start_time": "2022-03-03T12:24:13.680Z"
   },
   {
    "duration": 560,
    "start_time": "2022-03-03T12:24:13.680Z"
   },
   {
    "duration": 561,
    "start_time": "2022-03-03T12:24:13.680Z"
   },
   {
    "duration": 20,
    "start_time": "2022-03-03T12:24:57.267Z"
   },
   {
    "duration": 11,
    "start_time": "2022-03-03T12:25:01.038Z"
   },
   {
    "duration": 4,
    "start_time": "2022-03-03T12:27:54.576Z"
   },
   {
    "duration": 5,
    "start_time": "2022-03-03T12:28:10.446Z"
   },
   {
    "duration": 4,
    "start_time": "2022-03-03T12:28:14.265Z"
   },
   {
    "duration": 5,
    "start_time": "2022-03-03T12:29:05.523Z"
   },
   {
    "duration": 3,
    "start_time": "2022-03-03T12:30:09.545Z"
   },
   {
    "duration": 4,
    "start_time": "2022-03-03T12:30:39.996Z"
   },
   {
    "duration": 4,
    "start_time": "2022-03-03T12:30:49.728Z"
   },
   {
    "duration": 4,
    "start_time": "2022-03-03T12:30:54.984Z"
   },
   {
    "duration": 4,
    "start_time": "2022-03-03T12:30:56.785Z"
   },
   {
    "duration": 5,
    "start_time": "2022-03-03T12:30:58.785Z"
   },
   {
    "duration": 4,
    "start_time": "2022-03-03T12:31:00.626Z"
   },
   {
    "duration": 4,
    "start_time": "2022-03-03T12:31:04.493Z"
   },
   {
    "duration": 4,
    "start_time": "2022-03-03T12:31:06.128Z"
   },
   {
    "duration": 3,
    "start_time": "2022-03-03T12:35:13.878Z"
   },
   {
    "duration": 7,
    "start_time": "2022-03-03T12:35:13.883Z"
   },
   {
    "duration": 1195,
    "start_time": "2022-03-03T12:35:13.906Z"
   },
   {
    "duration": 838,
    "start_time": "2022-03-03T12:35:15.104Z"
   },
   {
    "duration": 24,
    "start_time": "2022-03-03T12:35:15.944Z"
   },
   {
    "duration": 19,
    "start_time": "2022-03-03T12:35:15.970Z"
   },
   {
    "duration": 22,
    "start_time": "2022-03-03T12:35:15.991Z"
   },
   {
    "duration": 36,
    "start_time": "2022-03-03T12:35:16.015Z"
   },
   {
    "duration": 16,
    "start_time": "2022-03-03T12:35:16.053Z"
   },
   {
    "duration": 10,
    "start_time": "2022-03-03T12:35:16.072Z"
   },
   {
    "duration": 10,
    "start_time": "2022-03-03T12:35:16.084Z"
   },
   {
    "duration": 45,
    "start_time": "2022-03-03T12:35:16.096Z"
   },
   {
    "duration": 8,
    "start_time": "2022-03-03T12:35:16.143Z"
   },
   {
    "duration": 10,
    "start_time": "2022-03-03T12:35:16.153Z"
   },
   {
    "duration": 10,
    "start_time": "2022-03-03T12:35:16.165Z"
   },
   {
    "duration": 193,
    "start_time": "2022-03-03T12:35:16.177Z"
   },
   {
    "duration": 3,
    "start_time": "2022-03-03T12:35:16.372Z"
   },
   {
    "duration": 5,
    "start_time": "2022-03-03T12:35:16.377Z"
   },
   {
    "duration": 6,
    "start_time": "2022-03-03T12:35:16.384Z"
   },
   {
    "duration": 5,
    "start_time": "2022-03-03T12:35:16.392Z"
   },
   {
    "duration": 4,
    "start_time": "2022-03-03T12:35:16.399Z"
   },
   {
    "duration": 4,
    "start_time": "2022-03-03T12:35:16.405Z"
   },
   {
    "duration": 30,
    "start_time": "2022-03-03T12:35:16.411Z"
   },
   {
    "duration": 5,
    "start_time": "2022-03-03T12:35:16.442Z"
   },
   {
    "duration": 7,
    "start_time": "2022-03-03T12:35:16.452Z"
   },
   {
    "duration": 8,
    "start_time": "2022-03-03T12:35:16.461Z"
   },
   {
    "duration": 16,
    "start_time": "2022-03-03T12:35:16.471Z"
   },
   {
    "duration": 11,
    "start_time": "2022-03-03T12:35:16.489Z"
   },
   {
    "duration": 37,
    "start_time": "2022-03-03T12:35:16.502Z"
   },
   {
    "duration": 21,
    "start_time": "2022-03-03T12:35:16.541Z"
   },
   {
    "duration": 22,
    "start_time": "2022-03-03T12:35:16.564Z"
   },
   {
    "duration": 9,
    "start_time": "2022-03-03T12:35:16.589Z"
   },
   {
    "duration": 3,
    "start_time": "2022-03-03T12:35:16.600Z"
   },
   {
    "duration": 36,
    "start_time": "2022-03-03T12:35:16.605Z"
   },
   {
    "duration": 758,
    "start_time": "2022-03-03T12:35:16.643Z"
   },
   {
    "duration": 848,
    "start_time": "2022-03-03T12:35:17.403Z"
   },
   {
    "duration": 728,
    "start_time": "2022-03-03T12:35:18.253Z"
   },
   {
    "duration": 908,
    "start_time": "2022-03-03T12:35:18.983Z"
   },
   {
    "duration": 1064,
    "start_time": "2022-03-03T12:35:19.893Z"
   },
   {
    "duration": 6,
    "start_time": "2022-03-03T12:35:20.959Z"
   },
   {
    "duration": 770,
    "start_time": "2022-03-03T12:35:20.967Z"
   },
   {
    "duration": 8,
    "start_time": "2022-03-03T12:35:21.739Z"
   },
   {
    "duration": 7,
    "start_time": "2022-03-03T12:35:21.749Z"
   },
   {
    "duration": 8,
    "start_time": "2022-03-03T12:35:21.758Z"
   },
   {
    "duration": 895,
    "start_time": "2022-03-03T12:35:21.768Z"
   },
   {
    "duration": 32,
    "start_time": "2022-03-03T12:35:22.666Z"
   },
   {
    "duration": 43,
    "start_time": "2022-03-03T12:35:22.701Z"
   },
   {
    "duration": 60,
    "start_time": "2022-03-03T12:35:22.746Z"
   },
   {
    "duration": 54,
    "start_time": "2022-03-03T12:35:22.808Z"
   },
   {
    "duration": 2,
    "start_time": "2022-03-03T12:35:22.864Z"
   },
   {
    "duration": 12,
    "start_time": "2022-03-03T12:35:22.868Z"
   },
   {
    "duration": 8,
    "start_time": "2022-03-03T12:35:22.882Z"
   },
   {
    "duration": 12,
    "start_time": "2022-03-03T12:35:22.892Z"
   },
   {
    "duration": 16,
    "start_time": "2022-03-03T12:35:22.906Z"
   },
   {
    "duration": 21,
    "start_time": "2022-03-03T12:35:22.924Z"
   },
   {
    "duration": 5,
    "start_time": "2022-03-03T12:35:22.947Z"
   },
   {
    "duration": 8,
    "start_time": "2022-03-03T12:35:22.954Z"
   },
   {
    "duration": 11,
    "start_time": "2022-03-03T12:35:22.964Z"
   },
   {
    "duration": 24,
    "start_time": "2022-03-03T12:35:22.976Z"
   },
   {
    "duration": 6,
    "start_time": "2022-03-03T12:35:23.002Z"
   },
   {
    "duration": 28,
    "start_time": "2022-03-03T12:35:23.010Z"
   },
   {
    "duration": 35,
    "start_time": "2022-03-03T12:35:23.040Z"
   },
   {
    "duration": 12,
    "start_time": "2022-03-03T12:35:23.077Z"
   },
   {
    "duration": 6,
    "start_time": "2022-03-03T12:35:23.091Z"
   },
   {
    "duration": 7,
    "start_time": "2022-03-03T12:35:23.099Z"
   },
   {
    "duration": 30,
    "start_time": "2022-03-03T12:35:23.107Z"
   },
   {
    "duration": 6,
    "start_time": "2022-03-03T12:35:23.139Z"
   },
   {
    "duration": 7,
    "start_time": "2022-03-03T12:35:23.146Z"
   },
   {
    "duration": 6,
    "start_time": "2022-03-03T12:35:23.154Z"
   },
   {
    "duration": 8,
    "start_time": "2022-03-03T12:35:23.166Z"
   },
   {
    "duration": 3,
    "start_time": "2022-03-03T12:35:23.177Z"
   },
   {
    "duration": 5,
    "start_time": "2022-03-03T12:35:23.182Z"
   },
   {
    "duration": 5,
    "start_time": "2022-03-03T12:35:23.189Z"
   },
   {
    "duration": 63,
    "start_time": "2022-03-03T12:35:23.195Z"
   },
   {
    "duration": 30,
    "start_time": "2022-03-03T12:35:23.260Z"
   },
   {
    "duration": 3,
    "start_time": "2022-03-03T12:35:23.291Z"
   },
   {
    "duration": 6,
    "start_time": "2022-03-03T12:35:23.295Z"
   },
   {
    "duration": 372,
    "start_time": "2022-03-03T12:35:23.303Z"
   },
   {
    "duration": 801,
    "start_time": "2022-03-03T12:35:23.676Z"
   },
   {
    "duration": 1760,
    "start_time": "2022-03-03T12:35:24.479Z"
   },
   {
    "duration": 500,
    "start_time": "2022-03-03T12:35:26.240Z"
   },
   {
    "duration": 7,
    "start_time": "2022-03-03T12:35:26.741Z"
   },
   {
    "duration": 6,
    "start_time": "2022-03-03T12:35:26.750Z"
   },
   {
    "duration": 15222,
    "start_time": "2022-03-03T12:35:26.757Z"
   },
   {
    "duration": 35445,
    "start_time": "2022-03-03T12:35:41.981Z"
   },
   {
    "duration": 14693,
    "start_time": "2022-03-03T12:36:17.428Z"
   },
   {
    "duration": 3538,
    "start_time": "2022-03-03T12:36:32.123Z"
   },
   {
    "duration": 8,
    "start_time": "2022-03-03T12:36:35.662Z"
   },
   {
    "duration": 571,
    "start_time": "2022-03-03T12:36:35.672Z"
   },
   {
    "duration": 3196,
    "start_time": "2022-03-03T12:36:36.245Z"
   },
   {
    "duration": 603,
    "start_time": "2022-03-03T12:36:39.443Z"
   },
   {
    "duration": 91,
    "start_time": "2022-03-03T12:36:40.048Z"
   },
   {
    "duration": 8,
    "start_time": "2022-03-03T12:36:40.141Z"
   },
   {
    "duration": 5,
    "start_time": "2022-03-03T12:36:40.151Z"
   },
   {
    "duration": 4,
    "start_time": "2022-03-03T12:36:40.238Z"
   },
   {
    "duration": 5,
    "start_time": "2022-03-03T12:36:40.244Z"
   },
   {
    "duration": 10,
    "start_time": "2022-03-03T12:36:40.251Z"
   },
   {
    "duration": 4,
    "start_time": "2022-03-03T12:36:40.263Z"
   },
   {
    "duration": 336,
    "start_time": "2022-03-03T12:36:40.269Z"
   },
   {
    "duration": 501,
    "start_time": "2022-03-03T12:36:40.106Z"
   },
   {
    "duration": 499,
    "start_time": "2022-03-03T12:36:40.109Z"
   },
   {
    "duration": 499,
    "start_time": "2022-03-03T12:36:40.110Z"
   },
   {
    "duration": 500,
    "start_time": "2022-03-03T12:36:40.110Z"
   },
   {
    "duration": 491,
    "start_time": "2022-03-03T12:36:40.120Z"
   },
   {
    "duration": 489,
    "start_time": "2022-03-03T12:36:40.123Z"
   },
   {
    "duration": 487,
    "start_time": "2022-03-03T12:36:40.126Z"
   },
   {
    "duration": 488,
    "start_time": "2022-03-03T12:36:40.126Z"
   },
   {
    "duration": 490,
    "start_time": "2022-03-03T12:36:40.126Z"
   },
   {
    "duration": 480,
    "start_time": "2022-03-03T12:36:40.137Z"
   },
   {
    "duration": 477,
    "start_time": "2022-03-03T12:36:40.141Z"
   },
   {
    "duration": 475,
    "start_time": "2022-03-03T12:36:40.144Z"
   },
   {
    "duration": 476,
    "start_time": "2022-03-03T12:36:40.144Z"
   },
   {
    "duration": 470,
    "start_time": "2022-03-03T12:36:40.151Z"
   },
   {
    "duration": 468,
    "start_time": "2022-03-03T12:36:40.155Z"
   },
   {
    "duration": 481,
    "start_time": "2022-03-03T12:41:24.628Z"
   },
   {
    "duration": 7,
    "start_time": "2022-03-03T12:41:29.072Z"
   },
   {
    "duration": 3443,
    "start_time": "2022-03-03T12:47:58.202Z"
   },
   {
    "duration": 322,
    "start_time": "2022-03-03T12:48:48.316Z"
   },
   {
    "duration": 10,
    "start_time": "2022-03-03T12:52:01.016Z"
   },
   {
    "duration": 26,
    "start_time": "2022-03-03T13:06:23.043Z"
   },
   {
    "duration": 10,
    "start_time": "2022-03-03T13:06:30.642Z"
   },
   {
    "duration": 3,
    "start_time": "2022-03-03T13:07:39.918Z"
   },
   {
    "duration": 22,
    "start_time": "2022-03-03T13:07:39.924Z"
   },
   {
    "duration": 1130,
    "start_time": "2022-03-03T13:07:39.948Z"
   },
   {
    "duration": 840,
    "start_time": "2022-03-03T13:07:41.080Z"
   },
   {
    "duration": 33,
    "start_time": "2022-03-03T13:07:41.923Z"
   },
   {
    "duration": 20,
    "start_time": "2022-03-03T13:07:41.958Z"
   },
   {
    "duration": 30,
    "start_time": "2022-03-03T13:07:41.980Z"
   },
   {
    "duration": 32,
    "start_time": "2022-03-03T13:07:42.012Z"
   },
   {
    "duration": 15,
    "start_time": "2022-03-03T13:07:42.046Z"
   },
   {
    "duration": 9,
    "start_time": "2022-03-03T13:07:42.062Z"
   },
   {
    "duration": 18,
    "start_time": "2022-03-03T13:07:42.072Z"
   },
   {
    "duration": 7,
    "start_time": "2022-03-03T13:07:42.092Z"
   },
   {
    "duration": 11,
    "start_time": "2022-03-03T13:07:42.100Z"
   },
   {
    "duration": 28,
    "start_time": "2022-03-03T13:07:42.114Z"
   },
   {
    "duration": 16,
    "start_time": "2022-03-03T13:07:42.145Z"
   },
   {
    "duration": 136,
    "start_time": "2022-03-03T13:07:42.163Z"
   },
   {
    "duration": 3,
    "start_time": "2022-03-03T13:07:42.301Z"
   },
   {
    "duration": 15,
    "start_time": "2022-03-03T13:07:42.306Z"
   },
   {
    "duration": 21,
    "start_time": "2022-03-03T13:07:42.323Z"
   },
   {
    "duration": 15,
    "start_time": "2022-03-03T13:07:42.346Z"
   },
   {
    "duration": 15,
    "start_time": "2022-03-03T13:07:42.362Z"
   },
   {
    "duration": 11,
    "start_time": "2022-03-03T13:07:42.379Z"
   },
   {
    "duration": 13,
    "start_time": "2022-03-03T13:07:42.392Z"
   },
   {
    "duration": 27,
    "start_time": "2022-03-03T13:07:42.406Z"
   },
   {
    "duration": 20,
    "start_time": "2022-03-03T13:07:42.435Z"
   },
   {
    "duration": 13,
    "start_time": "2022-03-03T13:07:42.456Z"
   },
   {
    "duration": 28,
    "start_time": "2022-03-03T13:07:42.471Z"
   },
   {
    "duration": 12,
    "start_time": "2022-03-03T13:07:42.501Z"
   },
   {
    "duration": 16,
    "start_time": "2022-03-03T13:07:42.515Z"
   },
   {
    "duration": 22,
    "start_time": "2022-03-03T13:07:42.532Z"
   },
   {
    "duration": 20,
    "start_time": "2022-03-03T13:07:42.556Z"
   },
   {
    "duration": 7,
    "start_time": "2022-03-03T13:07:42.578Z"
   },
   {
    "duration": 4,
    "start_time": "2022-03-03T13:07:42.587Z"
   },
   {
    "duration": 6,
    "start_time": "2022-03-03T13:07:42.593Z"
   },
   {
    "duration": 728,
    "start_time": "2022-03-03T13:07:42.601Z"
   },
   {
    "duration": 799,
    "start_time": "2022-03-03T13:07:43.331Z"
   },
   {
    "duration": 719,
    "start_time": "2022-03-03T13:07:44.132Z"
   },
   {
    "duration": 893,
    "start_time": "2022-03-03T13:07:44.856Z"
   },
   {
    "duration": 1004,
    "start_time": "2022-03-03T13:07:45.751Z"
   },
   {
    "duration": 6,
    "start_time": "2022-03-03T13:07:46.757Z"
   },
   {
    "duration": 714,
    "start_time": "2022-03-03T13:07:46.764Z"
   },
   {
    "duration": 7,
    "start_time": "2022-03-03T13:07:47.480Z"
   },
   {
    "duration": 9,
    "start_time": "2022-03-03T13:07:47.489Z"
   },
   {
    "duration": 7,
    "start_time": "2022-03-03T13:07:47.500Z"
   },
   {
    "duration": 799,
    "start_time": "2022-03-03T13:07:47.509Z"
   },
   {
    "duration": 40,
    "start_time": "2022-03-03T13:07:48.310Z"
   },
   {
    "duration": 26,
    "start_time": "2022-03-03T13:07:48.352Z"
   },
   {
    "duration": 58,
    "start_time": "2022-03-03T13:07:48.380Z"
   },
   {
    "duration": 25,
    "start_time": "2022-03-03T13:07:48.440Z"
   },
   {
    "duration": 2,
    "start_time": "2022-03-03T13:07:48.467Z"
   },
   {
    "duration": 24,
    "start_time": "2022-03-03T13:07:48.471Z"
   },
   {
    "duration": 8,
    "start_time": "2022-03-03T13:07:48.496Z"
   },
   {
    "duration": 7,
    "start_time": "2022-03-03T13:07:48.505Z"
   },
   {
    "duration": 6,
    "start_time": "2022-03-03T13:07:48.514Z"
   },
   {
    "duration": 16,
    "start_time": "2022-03-03T13:07:48.521Z"
   },
   {
    "duration": 3,
    "start_time": "2022-03-03T13:07:48.539Z"
   },
   {
    "duration": 6,
    "start_time": "2022-03-03T13:07:48.544Z"
   },
   {
    "duration": 8,
    "start_time": "2022-03-03T13:07:48.551Z"
   },
   {
    "duration": 20,
    "start_time": "2022-03-03T13:07:48.561Z"
   },
   {
    "duration": 4,
    "start_time": "2022-03-03T13:07:48.582Z"
   },
   {
    "duration": 51,
    "start_time": "2022-03-03T13:07:48.588Z"
   },
   {
    "duration": 7,
    "start_time": "2022-03-03T13:07:48.640Z"
   },
   {
    "duration": 7,
    "start_time": "2022-03-03T13:07:48.648Z"
   },
   {
    "duration": 5,
    "start_time": "2022-03-03T13:07:48.657Z"
   },
   {
    "duration": 13,
    "start_time": "2022-03-03T13:07:48.664Z"
   },
   {
    "duration": 8,
    "start_time": "2022-03-03T13:07:48.678Z"
   },
   {
    "duration": 11,
    "start_time": "2022-03-03T13:07:48.687Z"
   },
   {
    "duration": 19,
    "start_time": "2022-03-03T13:07:48.700Z"
   },
   {
    "duration": 3,
    "start_time": "2022-03-03T13:07:48.721Z"
   },
   {
    "duration": 40,
    "start_time": "2022-03-03T13:07:48.726Z"
   },
   {
    "duration": 31,
    "start_time": "2022-03-03T13:07:48.767Z"
   },
   {
    "duration": 3,
    "start_time": "2022-03-03T13:07:48.799Z"
   },
   {
    "duration": 356,
    "start_time": "2022-03-03T13:07:48.804Z"
   },
   {
    "duration": 762,
    "start_time": "2022-03-03T13:07:49.162Z"
   },
   {
    "duration": 1722,
    "start_time": "2022-03-03T13:07:49.926Z"
   },
   {
    "duration": 480,
    "start_time": "2022-03-03T13:07:51.649Z"
   },
   {
    "duration": 9,
    "start_time": "2022-03-03T13:07:52.131Z"
   },
   {
    "duration": 2,
    "start_time": "2022-03-03T13:07:52.142Z"
   },
   {
    "duration": 15265,
    "start_time": "2022-03-03T13:07:52.146Z"
   },
   {
    "duration": 35295,
    "start_time": "2022-03-03T13:08:07.412Z"
   },
   {
    "duration": 14136,
    "start_time": "2022-03-03T13:08:42.709Z"
   },
   {
    "duration": 3429,
    "start_time": "2022-03-03T13:08:56.847Z"
   },
   {
    "duration": 7,
    "start_time": "2022-03-03T13:09:00.277Z"
   },
   {
    "duration": 356,
    "start_time": "2022-03-03T13:09:00.285Z"
   },
   {
    "duration": 2895,
    "start_time": "2022-03-03T13:09:00.644Z"
   },
   {
    "duration": 597,
    "start_time": "2022-03-03T13:09:03.541Z"
   },
   {
    "duration": 98,
    "start_time": "2022-03-03T13:09:04.141Z"
   },
   {
    "duration": 7,
    "start_time": "2022-03-03T13:09:04.241Z"
   },
   {
    "duration": 489,
    "start_time": "2022-03-03T13:09:04.250Z"
   },
   {
    "duration": 3396,
    "start_time": "2022-03-03T13:09:04.741Z"
   },
   {
    "duration": 504,
    "start_time": "2022-03-03T13:09:08.139Z"
   },
   {
    "duration": 25,
    "start_time": "2022-03-03T14:07:50.787Z"
   },
   {
    "duration": 53429,
    "start_time": "2022-03-03T14:29:21.550Z"
   },
   {
    "duration": 54415,
    "start_time": "2022-03-03T14:31:08.499Z"
   },
   {
    "duration": 104317,
    "start_time": "2022-03-03T14:32:02.917Z"
   },
   {
    "duration": 1535,
    "start_time": "2022-03-03T14:33:47.237Z"
   },
   {
    "duration": 822,
    "start_time": "2022-03-03T14:33:47.954Z"
   },
   {
    "duration": 823,
    "start_time": "2022-03-03T14:33:47.954Z"
   },
   {
    "duration": 824,
    "start_time": "2022-03-03T14:33:47.954Z"
   },
   {
    "duration": 564,
    "start_time": "2022-03-03T14:33:48.215Z"
   },
   {
    "duration": 565,
    "start_time": "2022-03-03T14:33:48.215Z"
   },
   {
    "duration": 565,
    "start_time": "2022-03-03T14:33:48.215Z"
   },
   {
    "duration": 551,
    "start_time": "2022-03-03T14:33:48.230Z"
   },
   {
    "duration": 552,
    "start_time": "2022-03-03T14:33:48.230Z"
   },
   {
    "duration": 553,
    "start_time": "2022-03-03T14:33:48.230Z"
   },
   {
    "duration": 538,
    "start_time": "2022-03-03T14:33:48.245Z"
   },
   {
    "duration": 536,
    "start_time": "2022-03-03T14:33:48.248Z"
   },
   {
    "duration": 537,
    "start_time": "2022-03-03T14:33:48.248Z"
   },
   {
    "duration": 538,
    "start_time": "2022-03-03T14:33:48.248Z"
   },
   {
    "duration": 523,
    "start_time": "2022-03-03T14:33:48.264Z"
   },
   {
    "duration": 521,
    "start_time": "2022-03-03T14:33:48.267Z"
   },
   {
    "duration": 519,
    "start_time": "2022-03-03T14:33:48.269Z"
   },
   {
    "duration": 512,
    "start_time": "2022-03-03T14:33:48.277Z"
   },
   {
    "duration": 510,
    "start_time": "2022-03-03T14:33:48.280Z"
   },
   {
    "duration": 507,
    "start_time": "2022-03-03T14:33:48.284Z"
   },
   {
    "duration": 506,
    "start_time": "2022-03-03T14:33:48.286Z"
   },
   {
    "duration": 507,
    "start_time": "2022-03-03T14:33:48.286Z"
   },
   {
    "duration": 498,
    "start_time": "2022-03-03T14:33:48.296Z"
   },
   {
    "duration": 495,
    "start_time": "2022-03-03T14:33:48.300Z"
   },
   {
    "duration": 494,
    "start_time": "2022-03-03T14:33:48.302Z"
   },
   {
    "duration": 495,
    "start_time": "2022-03-03T14:33:48.302Z"
   },
   {
    "duration": 486,
    "start_time": "2022-03-03T14:33:48.312Z"
   },
   {
    "duration": 483,
    "start_time": "2022-03-03T14:33:48.316Z"
   },
   {
    "duration": 482,
    "start_time": "2022-03-03T14:33:48.318Z"
   },
   {
    "duration": 467,
    "start_time": "2022-03-03T14:33:48.334Z"
   },
   {
    "duration": 468,
    "start_time": "2022-03-03T14:33:48.334Z"
   },
   {
    "duration": 470,
    "start_time": "2022-03-03T14:33:48.334Z"
   },
   {
    "duration": 460,
    "start_time": "2022-03-03T14:33:48.345Z"
   },
   {
    "duration": 456,
    "start_time": "2022-03-03T14:33:48.350Z"
   },
   {
    "duration": 456,
    "start_time": "2022-03-03T14:33:48.351Z"
   },
   {
    "duration": 457,
    "start_time": "2022-03-03T14:33:48.351Z"
   },
   {
    "duration": 447,
    "start_time": "2022-03-03T14:33:48.362Z"
   },
   {
    "duration": 444,
    "start_time": "2022-03-03T14:33:48.366Z"
   },
   {
    "duration": 443,
    "start_time": "2022-03-03T14:33:48.368Z"
   },
   {
    "duration": 444,
    "start_time": "2022-03-03T14:33:48.368Z"
   },
   {
    "duration": 460,
    "start_time": "2022-03-03T14:33:48.377Z"
   },
   {
    "duration": 458,
    "start_time": "2022-03-03T14:33:48.381Z"
   },
   {
    "duration": 458,
    "start_time": "2022-03-03T14:33:48.381Z"
   },
   {
    "duration": 459,
    "start_time": "2022-03-03T14:33:48.381Z"
   },
   {
    "duration": 460,
    "start_time": "2022-03-03T14:33:48.381Z"
   },
   {
    "duration": 445,
    "start_time": "2022-03-03T14:33:48.397Z"
   },
   {
    "duration": 443,
    "start_time": "2022-03-03T14:33:48.400Z"
   },
   {
    "duration": 443,
    "start_time": "2022-03-03T14:33:48.401Z"
   },
   {
    "duration": 444,
    "start_time": "2022-03-03T14:33:48.401Z"
   },
   {
    "duration": 433,
    "start_time": "2022-03-03T14:33:48.413Z"
   },
   {
    "duration": 428,
    "start_time": "2022-03-03T14:33:48.418Z"
   },
   {
    "duration": 418,
    "start_time": "2022-03-03T14:33:48.429Z"
   },
   {
    "duration": 415,
    "start_time": "2022-03-03T14:33:48.433Z"
   },
   {
    "duration": 416,
    "start_time": "2022-03-03T14:33:48.433Z"
   },
   {
    "duration": 417,
    "start_time": "2022-03-03T14:33:48.433Z"
   },
   {
    "duration": 405,
    "start_time": "2022-03-03T14:33:48.446Z"
   },
   {
    "duration": 402,
    "start_time": "2022-03-03T14:33:48.450Z"
   },
   {
    "duration": 403,
    "start_time": "2022-03-03T14:33:48.450Z"
   },
   {
    "duration": 404,
    "start_time": "2022-03-03T14:33:48.450Z"
   },
   {
    "duration": 393,
    "start_time": "2022-03-03T14:33:48.462Z"
   },
   {
    "duration": 390,
    "start_time": "2022-03-03T14:33:48.465Z"
   },
   {
    "duration": 388,
    "start_time": "2022-03-03T14:33:48.469Z"
   },
   {
    "duration": 389,
    "start_time": "2022-03-03T14:33:48.469Z"
   },
   {
    "duration": 382,
    "start_time": "2022-03-03T14:33:48.477Z"
   },
   {
    "duration": 378,
    "start_time": "2022-03-03T14:33:48.481Z"
   },
   {
    "duration": 376,
    "start_time": "2022-03-03T14:33:48.484Z"
   },
   {
    "duration": 375,
    "start_time": "2022-03-03T14:33:48.486Z"
   },
   {
    "duration": 375,
    "start_time": "2022-03-03T14:33:48.486Z"
   },
   {
    "duration": 366,
    "start_time": "2022-03-03T14:33:48.496Z"
   },
   {
    "duration": 364,
    "start_time": "2022-03-03T14:33:48.499Z"
   },
   {
    "duration": 361,
    "start_time": "2022-03-03T14:33:48.502Z"
   },
   {
    "duration": 362,
    "start_time": "2022-03-03T14:33:48.502Z"
   },
   {
    "duration": 355,
    "start_time": "2022-03-03T14:33:48.510Z"
   },
   {
    "duration": 352,
    "start_time": "2022-03-03T14:33:48.514Z"
   },
   {
    "duration": 349,
    "start_time": "2022-03-03T14:33:48.517Z"
   },
   {
    "duration": 348,
    "start_time": "2022-03-03T14:33:48.519Z"
   },
   {
    "duration": 349,
    "start_time": "2022-03-03T14:33:48.519Z"
   },
   {
    "duration": 335,
    "start_time": "2022-03-03T14:33:48.533Z"
   },
   {
    "duration": 336,
    "start_time": "2022-03-03T14:33:48.533Z"
   },
   {
    "duration": 4,
    "start_time": "2022-03-03T14:35:15.268Z"
   },
   {
    "duration": 7,
    "start_time": "2022-03-03T14:35:15.274Z"
   },
   {
    "duration": 1319,
    "start_time": "2022-03-03T14:35:15.292Z"
   },
   {
    "duration": -120,
    "start_time": "2022-03-03T14:35:16.735Z"
   },
   {
    "duration": -119,
    "start_time": "2022-03-03T14:35:16.735Z"
   },
   {
    "duration": -179,
    "start_time": "2022-03-03T14:35:16.796Z"
   },
   {
    "duration": -189,
    "start_time": "2022-03-03T14:35:16.806Z"
   },
   {
    "duration": -195,
    "start_time": "2022-03-03T14:35:16.813Z"
   },
   {
    "duration": -198,
    "start_time": "2022-03-03T14:35:16.817Z"
   },
   {
    "duration": -200,
    "start_time": "2022-03-03T14:35:16.820Z"
   },
   {
    "duration": -202,
    "start_time": "2022-03-03T14:35:16.822Z"
   },
   {
    "duration": -201,
    "start_time": "2022-03-03T14:35:16.822Z"
   },
   {
    "duration": -209,
    "start_time": "2022-03-03T14:35:16.831Z"
   },
   {
    "duration": -212,
    "start_time": "2022-03-03T14:35:16.835Z"
   },
   {
    "duration": -215,
    "start_time": "2022-03-03T14:35:16.839Z"
   },
   {
    "duration": -214,
    "start_time": "2022-03-03T14:35:16.839Z"
   },
   {
    "duration": -214,
    "start_time": "2022-03-03T14:35:16.839Z"
   },
   {
    "duration": -223,
    "start_time": "2022-03-03T14:35:16.849Z"
   },
   {
    "duration": -228,
    "start_time": "2022-03-03T14:35:16.855Z"
   },
   {
    "duration": -227,
    "start_time": "2022-03-03T14:35:16.855Z"
   },
   {
    "duration": -227,
    "start_time": "2022-03-03T14:35:16.855Z"
   },
   {
    "duration": -226,
    "start_time": "2022-03-03T14:35:16.855Z"
   },
   {
    "duration": -241,
    "start_time": "2022-03-03T14:35:16.871Z"
   },
   {
    "duration": -240,
    "start_time": "2022-03-03T14:35:16.871Z"
   },
   {
    "duration": -249,
    "start_time": "2022-03-03T14:35:16.881Z"
   },
   {
    "duration": -341,
    "start_time": "2022-03-03T14:35:16.974Z"
   },
   {
    "duration": -341,
    "start_time": "2022-03-03T14:35:16.974Z"
   },
   {
    "duration": -686,
    "start_time": "2022-03-03T14:35:17.320Z"
   },
   {
    "duration": -923,
    "start_time": "2022-03-03T14:35:17.558Z"
   },
   {
    "duration": -955,
    "start_time": "2022-03-03T14:35:17.590Z"
   },
   {
    "duration": -954,
    "start_time": "2022-03-03T14:35:17.590Z"
   },
   {
    "duration": -969,
    "start_time": "2022-03-03T14:35:17.606Z"
   },
   {
    "duration": -968,
    "start_time": "2022-03-03T14:35:17.606Z"
   },
   {
    "duration": -968,
    "start_time": "2022-03-03T14:35:17.606Z"
   },
   {
    "duration": -978,
    "start_time": "2022-03-03T14:35:17.617Z"
   },
   {
    "duration": -980,
    "start_time": "2022-03-03T14:35:17.620Z"
   },
   {
    "duration": -982,
    "start_time": "2022-03-03T14:35:17.623Z"
   },
   {
    "duration": -981,
    "start_time": "2022-03-03T14:35:17.623Z"
   },
   {
    "duration": -988,
    "start_time": "2022-03-03T14:35:17.631Z"
   },
   {
    "duration": -990,
    "start_time": "2022-03-03T14:35:17.634Z"
   },
   {
    "duration": -993,
    "start_time": "2022-03-03T14:35:17.637Z"
   },
   {
    "duration": -995,
    "start_time": "2022-03-03T14:35:17.640Z"
   },
   {
    "duration": -994,
    "start_time": "2022-03-03T14:35:17.640Z"
   },
   {
    "duration": -1001,
    "start_time": "2022-03-03T14:35:17.648Z"
   },
   {
    "duration": -1004,
    "start_time": "2022-03-03T14:35:17.652Z"
   },
   {
    "duration": -1005,
    "start_time": "2022-03-03T14:35:17.654Z"
   },
   {
    "duration": -1009,
    "start_time": "2022-03-03T14:35:17.658Z"
   },
   {
    "duration": -1008,
    "start_time": "2022-03-03T14:35:17.658Z"
   },
   {
    "duration": -1014,
    "start_time": "2022-03-03T14:35:17.665Z"
   },
   {
    "duration": -1016,
    "start_time": "2022-03-03T14:35:17.668Z"
   },
   {
    "duration": -1020,
    "start_time": "2022-03-03T14:35:17.672Z"
   },
   {
    "duration": -1020,
    "start_time": "2022-03-03T14:35:17.673Z"
   },
   {
    "duration": -1019,
    "start_time": "2022-03-03T14:35:17.673Z"
   },
   {
    "duration": -1027,
    "start_time": "2022-03-03T14:35:17.682Z"
   },
   {
    "duration": -1030,
    "start_time": "2022-03-03T14:35:17.685Z"
   },
   {
    "duration": -1033,
    "start_time": "2022-03-03T14:35:17.689Z"
   },
   {
    "duration": -1032,
    "start_time": "2022-03-03T14:35:17.689Z"
   },
   {
    "duration": -1031,
    "start_time": "2022-03-03T14:35:17.689Z"
   },
   {
    "duration": -1046,
    "start_time": "2022-03-03T14:35:17.704Z"
   },
   {
    "duration": -1045,
    "start_time": "2022-03-03T14:35:17.704Z"
   },
   {
    "duration": -1044,
    "start_time": "2022-03-03T14:35:17.704Z"
   },
   {
    "duration": -1043,
    "start_time": "2022-03-03T14:35:17.704Z"
   },
   {
    "duration": -1059,
    "start_time": "2022-03-03T14:35:17.720Z"
   },
   {
    "duration": -1058,
    "start_time": "2022-03-03T14:35:17.720Z"
   },
   {
    "duration": -1057,
    "start_time": "2022-03-03T14:35:17.720Z"
   },
   {
    "duration": -1068,
    "start_time": "2022-03-03T14:35:17.731Z"
   },
   {
    "duration": -1072,
    "start_time": "2022-03-03T14:35:17.736Z"
   },
   {
    "duration": -1073,
    "start_time": "2022-03-03T14:35:17.738Z"
   },
   {
    "duration": -1073,
    "start_time": "2022-03-03T14:35:17.738Z"
   },
   {
    "duration": -1072,
    "start_time": "2022-03-03T14:35:17.738Z"
   },
   {
    "duration": -1084,
    "start_time": "2022-03-03T14:35:17.751Z"
   },
   {
    "duration": -1088,
    "start_time": "2022-03-03T14:35:17.755Z"
   },
   {
    "duration": -1088,
    "start_time": "2022-03-03T14:35:17.756Z"
   },
   {
    "duration": -1087,
    "start_time": "2022-03-03T14:35:17.756Z"
   },
   {
    "duration": -1094,
    "start_time": "2022-03-03T14:35:17.764Z"
   },
   {
    "duration": -1098,
    "start_time": "2022-03-03T14:35:17.768Z"
   },
   {
    "duration": -1101,
    "start_time": "2022-03-03T14:35:17.772Z"
   },
   {
    "duration": -1100,
    "start_time": "2022-03-03T14:35:17.772Z"
   },
   {
    "duration": -1112,
    "start_time": "2022-03-03T14:35:17.785Z"
   },
   {
    "duration": -1116,
    "start_time": "2022-03-03T14:35:17.789Z"
   },
   {
    "duration": -1116,
    "start_time": "2022-03-03T14:35:17.790Z"
   },
   {
    "duration": 38411,
    "start_time": "2022-03-03T14:35:35.143Z"
   },
   {
    "duration": 104363,
    "start_time": "2022-03-03T14:36:13.556Z"
   },
   {
    "duration": 1347,
    "start_time": "2022-03-03T14:37:57.922Z"
   },
   {
    "duration": -43,
    "start_time": "2022-03-03T14:37:59.316Z"
   },
   {
    "duration": -52,
    "start_time": "2022-03-03T14:37:59.327Z"
   },
   {
    "duration": -72,
    "start_time": "2022-03-03T14:37:59.347Z"
   },
   {
    "duration": -216,
    "start_time": "2022-03-03T14:37:59.492Z"
   },
   {
    "duration": -298,
    "start_time": "2022-03-03T14:37:59.575Z"
   },
   {
    "duration": -297,
    "start_time": "2022-03-03T14:37:59.575Z"
   },
   {
    "duration": -296,
    "start_time": "2022-03-03T14:37:59.575Z"
   },
   {
    "duration": -296,
    "start_time": "2022-03-03T14:37:59.575Z"
   },
   {
    "duration": -308,
    "start_time": "2022-03-03T14:37:59.588Z"
   },
   {
    "duration": -307,
    "start_time": "2022-03-03T14:37:59.588Z"
   },
   {
    "duration": -306,
    "start_time": "2022-03-03T14:37:59.588Z"
   },
   {
    "duration": -306,
    "start_time": "2022-03-03T14:37:59.588Z"
   },
   {
    "duration": -318,
    "start_time": "2022-03-03T14:37:59.601Z"
   },
   {
    "duration": -317,
    "start_time": "2022-03-03T14:37:59.601Z"
   },
   {
    "duration": -324,
    "start_time": "2022-03-03T14:37:59.609Z"
   },
   {
    "duration": -326,
    "start_time": "2022-03-03T14:37:59.612Z"
   },
   {
    "duration": -329,
    "start_time": "2022-03-03T14:37:59.615Z"
   },
   {
    "duration": -331,
    "start_time": "2022-03-03T14:37:59.618Z"
   },
   {
    "duration": -331,
    "start_time": "2022-03-03T14:37:59.619Z"
   },
   {
    "duration": -337,
    "start_time": "2022-03-03T14:37:59.626Z"
   },
   {
    "duration": -339,
    "start_time": "2022-03-03T14:37:59.629Z"
   },
   {
    "duration": -342,
    "start_time": "2022-03-03T14:37:59.632Z"
   },
   {
    "duration": -343,
    "start_time": "2022-03-03T14:37:59.634Z"
   },
   {
    "duration": -342,
    "start_time": "2022-03-03T14:37:59.634Z"
   },
   {
    "duration": -349,
    "start_time": "2022-03-03T14:37:59.642Z"
   },
   {
    "duration": -353,
    "start_time": "2022-03-03T14:37:59.646Z"
   },
   {
    "duration": -354,
    "start_time": "2022-03-03T14:37:59.648Z"
   },
   {
    "duration": -355,
    "start_time": "2022-03-03T14:37:59.650Z"
   },
   {
    "duration": -354,
    "start_time": "2022-03-03T14:37:59.650Z"
   },
   {
    "duration": -353,
    "start_time": "2022-03-03T14:37:59.650Z"
   },
   {
    "duration": -364,
    "start_time": "2022-03-03T14:37:59.661Z"
   },
   {
    "duration": -365,
    "start_time": "2022-03-03T14:37:59.663Z"
   },
   {
    "duration": -367,
    "start_time": "2022-03-03T14:37:59.666Z"
   },
   {
    "duration": -367,
    "start_time": "2022-03-03T14:37:59.667Z"
   },
   {
    "duration": -367,
    "start_time": "2022-03-03T14:37:59.667Z"
   },
   {
    "duration": -382,
    "start_time": "2022-03-03T14:37:59.683Z"
   },
   {
    "duration": -381,
    "start_time": "2022-03-03T14:37:59.683Z"
   },
   {
    "duration": -380,
    "start_time": "2022-03-03T14:37:59.683Z"
   },
   {
    "duration": -390,
    "start_time": "2022-03-03T14:37:59.694Z"
   },
   {
    "duration": -392,
    "start_time": "2022-03-03T14:37:59.696Z"
   },
   {
    "duration": -394,
    "start_time": "2022-03-03T14:37:59.699Z"
   },
   {
    "duration": -395,
    "start_time": "2022-03-03T14:37:59.701Z"
   },
   {
    "duration": -394,
    "start_time": "2022-03-03T14:37:59.701Z"
   },
   {
    "duration": -393,
    "start_time": "2022-03-03T14:37:59.701Z"
   },
   {
    "duration": -404,
    "start_time": "2022-03-03T14:37:59.712Z"
   },
   {
    "duration": -406,
    "start_time": "2022-03-03T14:37:59.715Z"
   },
   {
    "duration": -407,
    "start_time": "2022-03-03T14:37:59.717Z"
   },
   {
    "duration": -407,
    "start_time": "2022-03-03T14:37:59.718Z"
   },
   {
    "duration": -407,
    "start_time": "2022-03-03T14:37:59.718Z"
   },
   {
    "duration": -414,
    "start_time": "2022-03-03T14:37:59.726Z"
   },
   {
    "duration": -417,
    "start_time": "2022-03-03T14:37:59.730Z"
   },
   {
    "duration": -394,
    "start_time": "2022-03-03T14:37:59.731Z"
   },
   {
    "duration": -396,
    "start_time": "2022-03-03T14:37:59.734Z"
   },
   {
    "duration": -395,
    "start_time": "2022-03-03T14:37:59.734Z"
   },
   {
    "duration": -394,
    "start_time": "2022-03-03T14:37:59.734Z"
   },
   {
    "duration": -402,
    "start_time": "2022-03-03T14:37:59.743Z"
   },
   {
    "duration": -405,
    "start_time": "2022-03-03T14:37:59.747Z"
   },
   {
    "duration": -406,
    "start_time": "2022-03-03T14:37:59.749Z"
   },
   {
    "duration": -408,
    "start_time": "2022-03-03T14:37:59.752Z"
   },
   {
    "duration": -407,
    "start_time": "2022-03-03T14:37:59.752Z"
   },
   {
    "duration": -406,
    "start_time": "2022-03-03T14:37:59.752Z"
   },
   {
    "duration": -415,
    "start_time": "2022-03-03T14:37:59.761Z"
   },
   {
    "duration": -417,
    "start_time": "2022-03-03T14:37:59.764Z"
   },
   {
    "duration": -435,
    "start_time": "2022-03-03T14:37:59.783Z"
   },
   {
    "duration": -434,
    "start_time": "2022-03-03T14:37:59.783Z"
   },
   {
    "duration": -434,
    "start_time": "2022-03-03T14:37:59.783Z"
   },
   {
    "duration": -433,
    "start_time": "2022-03-03T14:37:59.783Z"
   },
   {
    "duration": -447,
    "start_time": "2022-03-03T14:37:59.798Z"
   },
   {
    "duration": -446,
    "start_time": "2022-03-03T14:37:59.798Z"
   },
   {
    "duration": -445,
    "start_time": "2022-03-03T14:37:59.798Z"
   },
   {
    "duration": -445,
    "start_time": "2022-03-03T14:37:59.798Z"
   },
   {
    "duration": -456,
    "start_time": "2022-03-03T14:37:59.810Z"
   },
   {
    "duration": -459,
    "start_time": "2022-03-03T14:37:59.814Z"
   },
   {
    "duration": -460,
    "start_time": "2022-03-03T14:37:59.816Z"
   },
   {
    "duration": -462,
    "start_time": "2022-03-03T14:37:59.819Z"
   },
   {
    "duration": -462,
    "start_time": "2022-03-03T14:37:59.819Z"
   },
   {
    "duration": -467,
    "start_time": "2022-03-03T14:37:59.825Z"
   },
   {
    "duration": -469,
    "start_time": "2022-03-03T14:37:59.828Z"
   },
   {
    "duration": 3,
    "start_time": "2022-03-03T14:38:27.767Z"
   },
   {
    "duration": 5,
    "start_time": "2022-03-03T14:38:27.772Z"
   },
   {
    "duration": 1545,
    "start_time": "2022-03-03T14:38:27.782Z"
   },
   {
    "duration": 725,
    "start_time": "2022-03-03T14:38:29.329Z"
   },
   {
    "duration": 25,
    "start_time": "2022-03-03T14:38:30.063Z"
   },
   {
    "duration": 20,
    "start_time": "2022-03-03T14:38:30.090Z"
   },
   {
    "duration": 36,
    "start_time": "2022-03-03T14:38:30.112Z"
   },
   {
    "duration": 19,
    "start_time": "2022-03-03T14:38:30.150Z"
   },
   {
    "duration": 16,
    "start_time": "2022-03-03T14:38:30.171Z"
   },
   {
    "duration": 13,
    "start_time": "2022-03-03T14:38:30.188Z"
   },
   {
    "duration": 41,
    "start_time": "2022-03-03T14:38:30.203Z"
   },
   {
    "duration": 8,
    "start_time": "2022-03-03T14:38:30.247Z"
   },
   {
    "duration": 8,
    "start_time": "2022-03-03T14:38:30.256Z"
   },
   {
    "duration": 7,
    "start_time": "2022-03-03T14:38:30.266Z"
   },
   {
    "duration": 8,
    "start_time": "2022-03-03T14:38:30.275Z"
   },
   {
    "duration": 161,
    "start_time": "2022-03-03T14:38:30.284Z"
   },
   {
    "duration": 2,
    "start_time": "2022-03-03T14:38:30.447Z"
   },
   {
    "duration": 10,
    "start_time": "2022-03-03T14:38:30.451Z"
   },
   {
    "duration": 9,
    "start_time": "2022-03-03T14:38:30.463Z"
   },
   {
    "duration": 7,
    "start_time": "2022-03-03T14:38:30.473Z"
   },
   {
    "duration": 7,
    "start_time": "2022-03-03T14:38:30.482Z"
   },
   {
    "duration": 303,
    "start_time": "2022-03-03T14:38:30.491Z"
   },
   {
    "duration": -160,
    "start_time": "2022-03-03T14:38:30.958Z"
   },
   {
    "duration": -162,
    "start_time": "2022-03-03T14:38:30.961Z"
   },
   {
    "duration": -161,
    "start_time": "2022-03-03T14:38:30.961Z"
   },
   {
    "duration": -172,
    "start_time": "2022-03-03T14:38:30.973Z"
   },
   {
    "duration": -189,
    "start_time": "2022-03-03T14:38:30.990Z"
   },
   {
    "duration": -188,
    "start_time": "2022-03-03T14:38:30.990Z"
   },
   {
    "duration": -202,
    "start_time": "2022-03-03T14:38:31.005Z"
   },
   {
    "duration": -201,
    "start_time": "2022-03-03T14:38:31.005Z"
   },
   {
    "duration": -216,
    "start_time": "2022-03-03T14:38:31.021Z"
   },
   {
    "duration": -221,
    "start_time": "2022-03-03T14:38:31.027Z"
   },
   {
    "duration": -221,
    "start_time": "2022-03-03T14:38:31.027Z"
   },
   {
    "duration": -229,
    "start_time": "2022-03-03T14:38:31.036Z"
   },
   {
    "duration": -233,
    "start_time": "2022-03-03T14:38:31.041Z"
   },
   {
    "duration": -234,
    "start_time": "2022-03-03T14:38:31.043Z"
   },
   {
    "duration": -252,
    "start_time": "2022-03-03T14:38:31.061Z"
   },
   {
    "duration": -262,
    "start_time": "2022-03-03T14:38:31.072Z"
   },
   {
    "duration": -282,
    "start_time": "2022-03-03T14:38:31.093Z"
   },
   {
    "duration": -289,
    "start_time": "2022-03-03T14:38:31.101Z"
   },
   {
    "duration": -289,
    "start_time": "2022-03-03T14:38:31.101Z"
   },
   {
    "duration": -288,
    "start_time": "2022-03-03T14:38:31.101Z"
   },
   {
    "duration": -299,
    "start_time": "2022-03-03T14:38:31.113Z"
   },
   {
    "duration": -299,
    "start_time": "2022-03-03T14:38:31.113Z"
   },
   {
    "duration": -298,
    "start_time": "2022-03-03T14:38:31.113Z"
   },
   {
    "duration": -310,
    "start_time": "2022-03-03T14:38:31.126Z"
   },
   {
    "duration": -310,
    "start_time": "2022-03-03T14:38:31.126Z"
   },
   {
    "duration": -318,
    "start_time": "2022-03-03T14:38:31.135Z"
   },
   {
    "duration": -325,
    "start_time": "2022-03-03T14:38:31.143Z"
   },
   {
    "duration": -324,
    "start_time": "2022-03-03T14:38:31.143Z"
   },
   {
    "duration": -323,
    "start_time": "2022-03-03T14:38:31.143Z"
   },
   {
    "duration": -334,
    "start_time": "2022-03-03T14:38:31.154Z"
   },
   {
    "duration": -336,
    "start_time": "2022-03-03T14:38:31.157Z"
   },
   {
    "duration": -338,
    "start_time": "2022-03-03T14:38:31.160Z"
   },
   {
    "duration": -337,
    "start_time": "2022-03-03T14:38:31.160Z"
   },
   {
    "duration": -337,
    "start_time": "2022-03-03T14:38:31.160Z"
   },
   {
    "duration": -344,
    "start_time": "2022-03-03T14:38:31.168Z"
   },
   {
    "duration": -347,
    "start_time": "2022-03-03T14:38:31.172Z"
   },
   {
    "duration": -350,
    "start_time": "2022-03-03T14:38:31.175Z"
   },
   {
    "duration": -351,
    "start_time": "2022-03-03T14:38:31.177Z"
   },
   {
    "duration": -351,
    "start_time": "2022-03-03T14:38:31.178Z"
   },
   {
    "duration": -350,
    "start_time": "2022-03-03T14:38:31.178Z"
   },
   {
    "duration": -359,
    "start_time": "2022-03-03T14:38:31.188Z"
   },
   {
    "duration": -360,
    "start_time": "2022-03-03T14:38:31.190Z"
   },
   {
    "duration": -363,
    "start_time": "2022-03-03T14:38:31.193Z"
   },
   {
    "duration": -364,
    "start_time": "2022-03-03T14:38:31.195Z"
   },
   {
    "duration": -363,
    "start_time": "2022-03-03T14:38:31.195Z"
   },
   {
    "duration": -377,
    "start_time": "2022-03-03T14:38:31.210Z"
   },
   {
    "duration": -376,
    "start_time": "2022-03-03T14:38:31.210Z"
   },
   {
    "duration": -376,
    "start_time": "2022-03-03T14:38:31.210Z"
   },
   {
    "duration": -386,
    "start_time": "2022-03-03T14:38:31.221Z"
   },
   {
    "duration": -388,
    "start_time": "2022-03-03T14:38:31.224Z"
   },
   {
    "duration": -390,
    "start_time": "2022-03-03T14:38:31.227Z"
   },
   {
    "duration": -390,
    "start_time": "2022-03-03T14:38:31.228Z"
   },
   {
    "duration": -390,
    "start_time": "2022-03-03T14:38:31.228Z"
   },
   {
    "duration": -397,
    "start_time": "2022-03-03T14:38:31.236Z"
   },
   {
    "duration": -399,
    "start_time": "2022-03-03T14:38:31.239Z"
   },
   {
    "duration": -401,
    "start_time": "2022-03-03T14:38:31.242Z"
   },
   {
    "duration": -403,
    "start_time": "2022-03-03T14:38:31.245Z"
   },
   {
    "duration": -403,
    "start_time": "2022-03-03T14:38:31.245Z"
   },
   {
    "duration": -402,
    "start_time": "2022-03-03T14:38:31.245Z"
   },
   {
    "duration": 3,
    "start_time": "2022-03-03T14:40:09.427Z"
   },
   {
    "duration": 4,
    "start_time": "2022-03-03T14:40:09.436Z"
   },
   {
    "duration": 1594,
    "start_time": "2022-03-03T14:40:09.446Z"
   },
   {
    "duration": 822,
    "start_time": "2022-03-03T14:40:11.042Z"
   },
   {
    "duration": 23,
    "start_time": "2022-03-03T14:40:11.866Z"
   },
   {
    "duration": 19,
    "start_time": "2022-03-03T14:40:11.891Z"
   },
   {
    "duration": 40,
    "start_time": "2022-03-03T14:40:11.912Z"
   },
   {
    "duration": 20,
    "start_time": "2022-03-03T14:40:11.954Z"
   },
   {
    "duration": 17,
    "start_time": "2022-03-03T14:40:11.976Z"
   },
   {
    "duration": 14,
    "start_time": "2022-03-03T14:40:11.996Z"
   },
   {
    "duration": 33,
    "start_time": "2022-03-03T14:40:12.012Z"
   },
   {
    "duration": 10,
    "start_time": "2022-03-03T14:40:12.047Z"
   },
   {
    "duration": 10,
    "start_time": "2022-03-03T14:40:12.059Z"
   },
   {
    "duration": 8,
    "start_time": "2022-03-03T14:40:12.071Z"
   },
   {
    "duration": 12,
    "start_time": "2022-03-03T14:40:12.080Z"
   },
   {
    "duration": 164,
    "start_time": "2022-03-03T14:40:12.093Z"
   },
   {
    "duration": 2,
    "start_time": "2022-03-03T14:40:12.260Z"
   },
   {
    "duration": 6,
    "start_time": "2022-03-03T14:40:12.263Z"
   },
   {
    "duration": 5,
    "start_time": "2022-03-03T14:40:12.271Z"
   },
   {
    "duration": 7,
    "start_time": "2022-03-03T14:40:12.277Z"
   },
   {
    "duration": 8,
    "start_time": "2022-03-03T14:40:12.285Z"
   },
   {
    "duration": 10,
    "start_time": "2022-03-03T14:40:12.294Z"
   },
   {
    "duration": 4,
    "start_time": "2022-03-03T14:40:12.306Z"
   },
   {
    "duration": 27,
    "start_time": "2022-03-03T14:40:12.312Z"
   },
   {
    "duration": 7,
    "start_time": "2022-03-03T14:40:12.343Z"
   },
   {
    "duration": 17,
    "start_time": "2022-03-03T14:40:12.353Z"
   },
   {
    "duration": 8,
    "start_time": "2022-03-03T14:40:12.372Z"
   },
   {
    "duration": 3,
    "start_time": "2022-03-03T14:40:12.381Z"
   },
   {
    "duration": 6,
    "start_time": "2022-03-03T14:40:12.385Z"
   },
   {
    "duration": 844,
    "start_time": "2022-03-03T14:40:12.393Z"
   },
   {
    "duration": 710,
    "start_time": "2022-03-03T14:40:13.239Z"
   },
   {
    "duration": 931,
    "start_time": "2022-03-03T14:40:13.950Z"
   },
   {
    "duration": 991,
    "start_time": "2022-03-03T14:40:14.883Z"
   },
   {
    "duration": 849,
    "start_time": "2022-03-03T14:40:15.876Z"
   },
   {
    "duration": 5,
    "start_time": "2022-03-03T14:40:16.727Z"
   },
   {
    "duration": 709,
    "start_time": "2022-03-03T14:40:16.738Z"
   },
   {
    "duration": 7,
    "start_time": "2022-03-03T14:40:17.449Z"
   },
   {
    "duration": 9,
    "start_time": "2022-03-03T14:40:17.458Z"
   },
   {
    "duration": 6,
    "start_time": "2022-03-03T14:40:17.469Z"
   },
   {
    "duration": 703,
    "start_time": "2022-03-03T14:40:17.477Z"
   },
   {
    "duration": 27,
    "start_time": "2022-03-03T14:40:18.181Z"
   },
   {
    "duration": 31,
    "start_time": "2022-03-03T14:40:18.209Z"
   },
   {
    "duration": 196,
    "start_time": "2022-03-03T14:40:18.242Z"
   },
   {
    "duration": 24,
    "start_time": "2022-03-03T14:40:18.440Z"
   },
   {
    "duration": 4,
    "start_time": "2022-03-03T14:40:18.466Z"
   },
   {
    "duration": 11,
    "start_time": "2022-03-03T14:40:18.471Z"
   },
   {
    "duration": 18,
    "start_time": "2022-03-03T14:40:18.484Z"
   },
   {
    "duration": 4,
    "start_time": "2022-03-03T14:40:18.503Z"
   },
   {
    "duration": 9,
    "start_time": "2022-03-03T14:40:18.508Z"
   },
   {
    "duration": 5,
    "start_time": "2022-03-03T14:40:18.537Z"
   },
   {
    "duration": 25,
    "start_time": "2022-03-03T14:40:18.543Z"
   },
   {
    "duration": 4,
    "start_time": "2022-03-03T14:40:18.570Z"
   },
   {
    "duration": 30,
    "start_time": "2022-03-03T14:40:18.576Z"
   },
   {
    "duration": 6,
    "start_time": "2022-03-03T14:40:18.607Z"
   },
   {
    "duration": 4,
    "start_time": "2022-03-03T14:40:18.638Z"
   },
   {
    "duration": 5,
    "start_time": "2022-03-03T14:40:18.643Z"
   },
   {
    "duration": 7,
    "start_time": "2022-03-03T14:40:18.650Z"
   },
   {
    "duration": 8,
    "start_time": "2022-03-03T14:40:18.658Z"
   },
   {
    "duration": 5,
    "start_time": "2022-03-03T14:40:18.668Z"
   },
   {
    "duration": 10,
    "start_time": "2022-03-03T14:40:18.674Z"
   },
   {
    "duration": 4,
    "start_time": "2022-03-03T14:40:18.686Z"
   },
   {
    "duration": 51,
    "start_time": "2022-03-03T14:40:18.691Z"
   },
   {
    "duration": 27,
    "start_time": "2022-03-03T14:40:18.743Z"
   },
   {
    "duration": 353,
    "start_time": "2022-03-03T14:40:18.772Z"
   },
   {
    "duration": 775,
    "start_time": "2022-03-03T14:40:19.127Z"
   },
   {
    "duration": 1731,
    "start_time": "2022-03-03T14:40:19.904Z"
   },
   {
    "duration": 479,
    "start_time": "2022-03-03T14:40:21.637Z"
   },
   {
    "duration": 6,
    "start_time": "2022-03-03T14:40:22.118Z"
   },
   {
    "duration": 15149,
    "start_time": "2022-03-03T14:40:22.126Z"
   },
   {
    "duration": 35927,
    "start_time": "2022-03-03T14:40:37.280Z"
   },
   {
    "duration": 14116,
    "start_time": "2022-03-03T14:41:13.209Z"
   },
   {
    "duration": 3441,
    "start_time": "2022-03-03T14:41:27.327Z"
   },
   {
    "duration": 7,
    "start_time": "2022-03-03T14:41:30.770Z"
   },
   {
    "duration": 465,
    "start_time": "2022-03-03T14:41:30.778Z"
   },
   {
    "duration": 1898,
    "start_time": "2022-03-03T14:41:31.247Z"
   },
   {
    "duration": 397,
    "start_time": "2022-03-03T14:41:33.147Z"
   },
   {
    "duration": 10,
    "start_time": "2022-03-03T14:41:33.638Z"
   },
   {
    "duration": 91,
    "start_time": "2022-03-03T14:41:33.650Z"
   },
   {
    "duration": 478,
    "start_time": "2022-03-03T14:41:33.743Z"
   },
   {
    "duration": 3415,
    "start_time": "2022-03-03T14:41:34.223Z"
   },
   {
    "duration": 399,
    "start_time": "2022-03-03T14:41:37.640Z"
   },
   {
    "duration": 63,
    "start_time": "2022-03-03T15:17:28.110Z"
   },
   {
    "duration": 9,
    "start_time": "2022-03-03T15:17:34.210Z"
   },
   {
    "duration": 3,
    "start_time": "2022-03-03T15:29:21.804Z"
   },
   {
    "duration": 5,
    "start_time": "2022-03-03T15:29:21.808Z"
   },
   {
    "duration": 1540,
    "start_time": "2022-03-03T15:29:21.815Z"
   },
   {
    "duration": 740,
    "start_time": "2022-03-03T15:29:23.357Z"
   },
   {
    "duration": 25,
    "start_time": "2022-03-03T15:29:24.100Z"
   },
   {
    "duration": 28,
    "start_time": "2022-03-03T15:29:24.127Z"
   },
   {
    "duration": 20,
    "start_time": "2022-03-03T15:29:24.156Z"
   },
   {
    "duration": 23,
    "start_time": "2022-03-03T15:29:24.178Z"
   },
   {
    "duration": 14,
    "start_time": "2022-03-03T15:29:24.203Z"
   },
   {
    "duration": 11,
    "start_time": "2022-03-03T15:29:24.239Z"
   },
   {
    "duration": 7,
    "start_time": "2022-03-03T15:29:24.252Z"
   },
   {
    "duration": 9,
    "start_time": "2022-03-03T15:29:24.261Z"
   },
   {
    "duration": 6,
    "start_time": "2022-03-03T15:29:24.272Z"
   },
   {
    "duration": 7,
    "start_time": "2022-03-03T15:29:24.280Z"
   },
   {
    "duration": 9,
    "start_time": "2022-03-03T15:29:24.289Z"
   },
   {
    "duration": 149,
    "start_time": "2022-03-03T15:29:24.300Z"
   },
   {
    "duration": 2,
    "start_time": "2022-03-03T15:29:24.450Z"
   },
   {
    "duration": 6,
    "start_time": "2022-03-03T15:29:24.454Z"
   },
   {
    "duration": 11,
    "start_time": "2022-03-03T15:29:24.462Z"
   },
   {
    "duration": 6,
    "start_time": "2022-03-03T15:29:24.474Z"
   },
   {
    "duration": 8,
    "start_time": "2022-03-03T15:29:24.481Z"
   },
   {
    "duration": 11,
    "start_time": "2022-03-03T15:29:24.491Z"
   },
   {
    "duration": 5,
    "start_time": "2022-03-03T15:29:24.504Z"
   },
   {
    "duration": 18,
    "start_time": "2022-03-03T15:29:24.511Z"
   },
   {
    "duration": 6,
    "start_time": "2022-03-03T15:29:24.537Z"
   },
   {
    "duration": 29,
    "start_time": "2022-03-03T15:29:24.546Z"
   },
   {
    "duration": 7,
    "start_time": "2022-03-03T15:29:24.577Z"
   },
   {
    "duration": 2,
    "start_time": "2022-03-03T15:29:24.586Z"
   },
   {
    "duration": 8,
    "start_time": "2022-03-03T15:29:24.589Z"
   },
   {
    "duration": 774,
    "start_time": "2022-03-03T15:29:24.599Z"
   },
   {
    "duration": 677,
    "start_time": "2022-03-03T15:29:25.374Z"
   },
   {
    "duration": 690,
    "start_time": "2022-03-03T15:29:26.052Z"
   },
   {
    "duration": 895,
    "start_time": "2022-03-03T15:29:26.744Z"
   },
   {
    "duration": 783,
    "start_time": "2022-03-03T15:29:27.641Z"
   },
   {
    "duration": 16,
    "start_time": "2022-03-03T15:29:28.426Z"
   },
   {
    "duration": 685,
    "start_time": "2022-03-03T15:29:28.444Z"
   },
   {
    "duration": 8,
    "start_time": "2022-03-03T15:29:29.131Z"
   },
   {
    "duration": 8,
    "start_time": "2022-03-03T15:29:29.141Z"
   },
   {
    "duration": 8,
    "start_time": "2022-03-03T15:29:29.150Z"
   },
   {
    "duration": 659,
    "start_time": "2022-03-03T15:29:29.159Z"
   },
   {
    "duration": 30,
    "start_time": "2022-03-03T15:29:29.820Z"
   },
   {
    "duration": 24,
    "start_time": "2022-03-03T15:29:29.852Z"
   },
   {
    "duration": 233,
    "start_time": "2022-03-03T15:29:29.877Z"
   },
   {
    "duration": 35,
    "start_time": "2022-03-03T15:29:30.111Z"
   },
   {
    "duration": 4,
    "start_time": "2022-03-03T15:29:30.148Z"
   },
   {
    "duration": 8,
    "start_time": "2022-03-03T15:29:30.154Z"
   },
   {
    "duration": 28,
    "start_time": "2022-03-03T15:29:30.163Z"
   },
   {
    "duration": 8,
    "start_time": "2022-03-03T15:29:30.193Z"
   },
   {
    "duration": 8,
    "start_time": "2022-03-03T15:29:30.202Z"
   },
   {
    "duration": 12,
    "start_time": "2022-03-03T15:29:30.211Z"
   },
   {
    "duration": 28,
    "start_time": "2022-03-03T15:29:30.224Z"
   },
   {
    "duration": 5,
    "start_time": "2022-03-03T15:29:30.254Z"
   },
   {
    "duration": 34,
    "start_time": "2022-03-03T15:29:30.260Z"
   },
   {
    "duration": 5,
    "start_time": "2022-03-03T15:29:30.296Z"
   },
   {
    "duration": 34,
    "start_time": "2022-03-03T15:29:30.303Z"
   },
   {
    "duration": 16,
    "start_time": "2022-03-03T15:29:30.339Z"
   },
   {
    "duration": 14,
    "start_time": "2022-03-03T15:29:30.356Z"
   },
   {
    "duration": 11,
    "start_time": "2022-03-03T15:29:30.372Z"
   },
   {
    "duration": 9,
    "start_time": "2022-03-03T15:29:30.385Z"
   },
   {
    "duration": 11,
    "start_time": "2022-03-03T15:29:30.396Z"
   },
   {
    "duration": 4,
    "start_time": "2022-03-03T15:29:30.409Z"
   },
   {
    "duration": 41,
    "start_time": "2022-03-03T15:29:30.414Z"
   },
   {
    "duration": 28,
    "start_time": "2022-03-03T15:29:30.456Z"
   },
   {
    "duration": 335,
    "start_time": "2022-03-03T15:29:30.486Z"
   },
   {
    "duration": 758,
    "start_time": "2022-03-03T15:29:30.823Z"
   },
   {
    "duration": 1656,
    "start_time": "2022-03-03T15:29:31.583Z"
   },
   {
    "duration": 469,
    "start_time": "2022-03-03T15:29:33.241Z"
   },
   {
    "duration": 6,
    "start_time": "2022-03-03T15:29:33.711Z"
   },
   {
    "duration": 14493,
    "start_time": "2022-03-03T15:29:33.719Z"
   },
   {
    "duration": 34699,
    "start_time": "2022-03-03T15:29:48.216Z"
   },
   {
    "duration": 14067,
    "start_time": "2022-03-03T15:30:22.917Z"
   },
   {
    "duration": 3378,
    "start_time": "2022-03-03T15:30:36.986Z"
   },
   {
    "duration": 6,
    "start_time": "2022-03-03T15:30:40.366Z"
   },
   {
    "duration": 466,
    "start_time": "2022-03-03T15:30:40.373Z"
   },
   {
    "duration": 1503,
    "start_time": "2022-03-03T15:30:40.841Z"
   },
   {
    "duration": 491,
    "start_time": "2022-03-03T15:30:42.347Z"
   },
   {
    "duration": 99,
    "start_time": "2022-03-03T15:30:42.841Z"
   },
   {
    "duration": 7,
    "start_time": "2022-03-03T15:30:42.941Z"
   },
   {
    "duration": 496,
    "start_time": "2022-03-03T15:30:42.949Z"
   },
   {
    "duration": 3376,
    "start_time": "2022-03-03T15:30:43.447Z"
   },
   {
    "duration": 514,
    "start_time": "2022-03-03T15:30:46.825Z"
   },
   {
    "duration": 2188,
    "start_time": "2022-03-04T14:40:37.509Z"
   },
   {
    "duration": 2449,
    "start_time": "2022-03-04T14:40:42.942Z"
   },
   {
    "duration": 27,
    "start_time": "2022-03-04T14:41:09.860Z"
   },
   {
    "duration": 534,
    "start_time": "2022-03-04T14:41:34.814Z"
   },
   {
    "duration": 23,
    "start_time": "2022-03-04T14:41:48.502Z"
   },
   {
    "duration": 22,
    "start_time": "2022-03-04T14:41:54.282Z"
   },
   {
    "duration": 10,
    "start_time": "2022-03-04T14:42:13.655Z"
   },
   {
    "duration": 23,
    "start_time": "2022-03-04T14:42:25.517Z"
   },
   {
    "duration": 314,
    "start_time": "2022-03-04T14:42:55.273Z"
   },
   {
    "duration": 13,
    "start_time": "2022-03-04T14:43:01.347Z"
   },
   {
    "duration": 4,
    "start_time": "2022-03-09T11:40:40.885Z"
   },
   {
    "duration": 6,
    "start_time": "2022-03-09T11:40:40.892Z"
   },
   {
    "duration": 1553,
    "start_time": "2022-03-09T11:40:40.901Z"
   },
   {
    "duration": 1091,
    "start_time": "2022-03-09T11:40:42.456Z"
   },
   {
    "duration": 33,
    "start_time": "2022-03-09T11:40:43.550Z"
   },
   {
    "duration": 49,
    "start_time": "2022-03-09T11:40:43.586Z"
   },
   {
    "duration": 31,
    "start_time": "2022-03-09T11:40:43.637Z"
   },
   {
    "duration": 25,
    "start_time": "2022-03-09T11:40:43.671Z"
   },
   {
    "duration": 55,
    "start_time": "2022-03-09T11:40:43.698Z"
   },
   {
    "duration": 16,
    "start_time": "2022-03-09T11:40:43.756Z"
   },
   {
    "duration": 11,
    "start_time": "2022-03-09T11:40:43.774Z"
   },
   {
    "duration": 44,
    "start_time": "2022-03-09T11:40:43.788Z"
   },
   {
    "duration": 10,
    "start_time": "2022-03-09T11:40:43.835Z"
   },
   {
    "duration": 10,
    "start_time": "2022-03-09T11:40:43.847Z"
   },
   {
    "duration": 9,
    "start_time": "2022-03-09T11:40:43.859Z"
   },
   {
    "duration": 243,
    "start_time": "2022-03-09T11:40:43.870Z"
   },
   {
    "duration": 3,
    "start_time": "2022-03-09T11:40:44.115Z"
   },
   {
    "duration": 6,
    "start_time": "2022-03-09T11:40:44.120Z"
   },
   {
    "duration": 3,
    "start_time": "2022-03-09T11:40:44.133Z"
   },
   {
    "duration": 4,
    "start_time": "2022-03-09T11:40:44.138Z"
   },
   {
    "duration": 6,
    "start_time": "2022-03-09T11:40:44.144Z"
   },
   {
    "duration": 4,
    "start_time": "2022-03-09T11:58:19.991Z"
   },
   {
    "duration": 3,
    "start_time": "2022-03-09T11:58:20.008Z"
   },
   {
    "duration": 1458,
    "start_time": "2022-03-09T11:58:20.013Z"
   },
   {
    "duration": 1097,
    "start_time": "2022-03-09T11:58:21.474Z"
   },
   {
    "duration": 36,
    "start_time": "2022-03-09T11:58:22.574Z"
   },
   {
    "duration": 49,
    "start_time": "2022-03-09T11:58:22.612Z"
   },
   {
    "duration": 32,
    "start_time": "2022-03-09T11:58:22.664Z"
   },
   {
    "duration": 54,
    "start_time": "2022-03-09T11:58:22.702Z"
   },
   {
    "duration": 22,
    "start_time": "2022-03-09T11:58:22.759Z"
   },
   {
    "duration": 15,
    "start_time": "2022-03-09T11:58:22.784Z"
   },
   {
    "duration": 39,
    "start_time": "2022-03-09T11:58:22.801Z"
   },
   {
    "duration": 9,
    "start_time": "2022-03-09T11:58:22.843Z"
   },
   {
    "duration": 11,
    "start_time": "2022-03-09T11:58:22.854Z"
   },
   {
    "duration": 9,
    "start_time": "2022-03-09T11:58:22.867Z"
   },
   {
    "duration": 58,
    "start_time": "2022-03-09T11:58:22.879Z"
   },
   {
    "duration": 222,
    "start_time": "2022-03-09T11:58:22.940Z"
   },
   {
    "duration": 2,
    "start_time": "2022-03-09T11:58:23.165Z"
   },
   {
    "duration": 6,
    "start_time": "2022-03-09T11:58:23.170Z"
   },
   {
    "duration": 7,
    "start_time": "2022-03-09T11:58:23.178Z"
   },
   {
    "duration": 3,
    "start_time": "2022-03-09T11:58:23.191Z"
   },
   {
    "duration": 4,
    "start_time": "2022-03-09T12:24:22.720Z"
   },
   {
    "duration": 3,
    "start_time": "2022-03-09T12:24:22.734Z"
   },
   {
    "duration": 1536,
    "start_time": "2022-03-09T12:24:22.739Z"
   },
   {
    "duration": 1275,
    "start_time": "2022-03-09T12:24:24.278Z"
   },
   {
    "duration": 39,
    "start_time": "2022-03-09T12:24:25.556Z"
   },
   {
    "duration": 59,
    "start_time": "2022-03-09T12:24:25.597Z"
   },
   {
    "duration": 33,
    "start_time": "2022-03-09T12:24:25.659Z"
   },
   {
    "duration": 52,
    "start_time": "2022-03-09T12:24:25.698Z"
   },
   {
    "duration": 23,
    "start_time": "2022-03-09T12:24:25.753Z"
   },
   {
    "duration": 16,
    "start_time": "2022-03-09T12:24:25.779Z"
   },
   {
    "duration": 13,
    "start_time": "2022-03-09T12:24:25.833Z"
   },
   {
    "duration": 11,
    "start_time": "2022-03-09T12:24:25.849Z"
   },
   {
    "duration": 11,
    "start_time": "2022-03-09T12:24:25.863Z"
   },
   {
    "duration": 57,
    "start_time": "2022-03-09T12:24:25.877Z"
   },
   {
    "duration": 12,
    "start_time": "2022-03-09T12:24:25.937Z"
   },
   {
    "duration": 252,
    "start_time": "2022-03-09T12:24:25.952Z"
   },
   {
    "duration": 3,
    "start_time": "2022-03-09T12:24:26.206Z"
   },
   {
    "duration": 10,
    "start_time": "2022-03-09T12:24:26.212Z"
   },
   {
    "duration": 4,
    "start_time": "2022-03-09T12:24:26.236Z"
   },
   {
    "duration": 5,
    "start_time": "2022-03-09T13:17:50.069Z"
   },
   {
    "duration": 9,
    "start_time": "2022-03-09T13:17:50.077Z"
   },
   {
    "duration": 1485,
    "start_time": "2022-03-09T13:17:50.089Z"
   },
   {
    "duration": 1156,
    "start_time": "2022-03-09T13:17:51.576Z"
   },
   {
    "duration": 34,
    "start_time": "2022-03-09T13:17:52.735Z"
   },
   {
    "duration": 31,
    "start_time": "2022-03-09T13:17:52.772Z"
   },
   {
    "duration": 55,
    "start_time": "2022-03-09T13:17:52.805Z"
   },
   {
    "duration": 26,
    "start_time": "2022-03-09T13:17:52.862Z"
   },
   {
    "duration": 53,
    "start_time": "2022-03-09T13:17:52.890Z"
   },
   {
    "duration": 18,
    "start_time": "2022-03-09T13:17:52.948Z"
   },
   {
    "duration": 13,
    "start_time": "2022-03-09T13:17:52.969Z"
   },
   {
    "duration": 49,
    "start_time": "2022-03-09T13:17:52.984Z"
   },
   {
    "duration": 14,
    "start_time": "2022-03-09T13:17:53.036Z"
   },
   {
    "duration": 12,
    "start_time": "2022-03-09T13:17:53.053Z"
   },
   {
    "duration": 16,
    "start_time": "2022-03-09T13:17:53.068Z"
   },
   {
    "duration": 252,
    "start_time": "2022-03-09T13:17:53.088Z"
   },
   {
    "duration": 2,
    "start_time": "2022-03-09T13:17:53.343Z"
   },
   {
    "duration": 5,
    "start_time": "2022-03-09T13:17:53.348Z"
   },
   {
    "duration": 5,
    "start_time": "2022-03-09T13:17:53.356Z"
   },
   {
    "duration": 5,
    "start_time": "2022-03-09T13:17:53.363Z"
   },
   {
    "duration": 8,
    "start_time": "2022-03-09T13:17:53.370Z"
   },
   {
    "duration": 5,
    "start_time": "2022-03-09T14:56:24.336Z"
   },
   {
    "duration": 12,
    "start_time": "2022-03-09T14:56:24.345Z"
   },
   {
    "duration": 1561,
    "start_time": "2022-03-09T14:56:24.360Z"
   },
   {
    "duration": 1069,
    "start_time": "2022-03-09T14:56:25.924Z"
   },
   {
    "duration": 54,
    "start_time": "2022-03-09T14:56:26.996Z"
   },
   {
    "duration": 41,
    "start_time": "2022-03-09T14:56:27.054Z"
   },
   {
    "duration": 59,
    "start_time": "2022-03-09T14:56:27.098Z"
   },
   {
    "duration": 48,
    "start_time": "2022-03-09T14:56:27.160Z"
   },
   {
    "duration": 40,
    "start_time": "2022-03-09T14:56:27.213Z"
   },
   {
    "duration": 17,
    "start_time": "2022-03-09T14:56:27.257Z"
   },
   {
    "duration": 15,
    "start_time": "2022-03-09T14:56:27.276Z"
   },
   {
    "duration": 12,
    "start_time": "2022-03-09T14:56:27.333Z"
   },
   {
    "duration": 13,
    "start_time": "2022-03-09T14:56:27.348Z"
   },
   {
    "duration": 12,
    "start_time": "2022-03-09T14:56:27.364Z"
   },
   {
    "duration": 54,
    "start_time": "2022-03-09T14:56:27.379Z"
   },
   {
    "duration": 341,
    "start_time": "2022-03-09T14:56:27.437Z"
   },
   {
    "duration": 3,
    "start_time": "2022-03-09T14:56:27.781Z"
   },
   {
    "duration": 7,
    "start_time": "2022-03-09T14:56:27.787Z"
   },
   {
    "duration": 5,
    "start_time": "2022-03-09T14:56:27.797Z"
   },
   {
    "duration": 26,
    "start_time": "2022-03-09T14:56:27.806Z"
   },
   {
    "duration": 6,
    "start_time": "2022-03-09T14:56:27.835Z"
   },
   {
    "duration": 16,
    "start_time": "2022-03-09T14:56:27.844Z"
   },
   {
    "duration": 7,
    "start_time": "2022-03-09T14:56:27.862Z"
   },
   {
    "duration": 62,
    "start_time": "2022-03-09T14:56:27.871Z"
   },
   {
    "duration": 11,
    "start_time": "2022-03-09T14:56:27.935Z"
   },
   {
    "duration": 23,
    "start_time": "2022-03-09T14:56:27.949Z"
   },
   {
    "duration": 11,
    "start_time": "2022-03-09T14:56:27.979Z"
   },
   {
    "duration": 38,
    "start_time": "2022-03-09T14:56:27.994Z"
   },
   {
    "duration": 7,
    "start_time": "2022-03-09T14:56:28.035Z"
   },
   {
    "duration": 1431,
    "start_time": "2022-03-09T14:56:28.045Z"
   },
   {
    "duration": 1623,
    "start_time": "2022-03-09T14:56:29.479Z"
   },
   {
    "duration": 1345,
    "start_time": "2022-03-09T14:56:31.133Z"
   },
   {
    "duration": 1490,
    "start_time": "2022-03-09T14:56:32.481Z"
   },
   {
    "duration": 1609,
    "start_time": "2022-03-09T14:56:33.974Z"
   },
   {
    "duration": 7,
    "start_time": "2022-03-09T14:56:35.585Z"
   },
   {
    "duration": 1210,
    "start_time": "2022-03-09T14:56:35.594Z"
   },
   {
    "duration": 27,
    "start_time": "2022-03-09T14:56:36.807Z"
   },
   {
    "duration": 11,
    "start_time": "2022-03-09T14:56:36.837Z"
   },
   {
    "duration": 9,
    "start_time": "2022-03-09T14:56:36.850Z"
   },
   {
    "duration": 1321,
    "start_time": "2022-03-09T14:56:36.862Z"
   },
   {
    "duration": 63,
    "start_time": "2022-03-09T14:56:38.185Z"
   },
   {
    "duration": 42,
    "start_time": "2022-03-09T14:56:38.251Z"
   },
   {
    "duration": 103,
    "start_time": "2022-03-09T14:56:38.295Z"
   },
   {
    "duration": 52,
    "start_time": "2022-03-09T14:56:38.400Z"
   },
   {
    "duration": 5,
    "start_time": "2022-03-09T14:56:38.455Z"
   },
   {
    "duration": 8,
    "start_time": "2022-03-09T14:56:38.464Z"
   },
   {
    "duration": 16,
    "start_time": "2022-03-09T14:56:38.475Z"
   },
   {
    "duration": 42,
    "start_time": "2022-03-09T14:56:38.494Z"
   },
   {
    "duration": 5,
    "start_time": "2022-03-09T14:56:38.539Z"
   },
   {
    "duration": 9,
    "start_time": "2022-03-09T14:56:38.546Z"
   },
   {
    "duration": 25,
    "start_time": "2022-03-09T14:56:38.558Z"
   },
   {
    "duration": 6,
    "start_time": "2022-03-09T14:56:38.585Z"
   },
   {
    "duration": 32,
    "start_time": "2022-03-09T14:56:38.634Z"
   },
   {
    "duration": 32,
    "start_time": "2022-03-09T14:56:38.669Z"
   },
   {
    "duration": 5,
    "start_time": "2022-03-09T14:56:38.704Z"
   },
   {
    "duration": 27,
    "start_time": "2022-03-09T14:56:38.712Z"
   },
   {
    "duration": 4,
    "start_time": "2022-03-09T14:56:38.741Z"
   },
   {
    "duration": 9,
    "start_time": "2022-03-09T14:56:38.747Z"
   },
   {
    "duration": 8,
    "start_time": "2022-03-09T14:56:38.758Z"
   },
   {
    "duration": 9,
    "start_time": "2022-03-09T14:56:38.769Z"
   },
   {
    "duration": 52,
    "start_time": "2022-03-09T14:56:38.780Z"
   },
   {
    "duration": 6,
    "start_time": "2022-03-09T14:56:38.835Z"
   },
   {
    "duration": 43,
    "start_time": "2022-03-09T14:56:38.844Z"
   },
   {
    "duration": 89,
    "start_time": "2022-03-09T14:56:38.890Z"
   },
   {
    "duration": 461,
    "start_time": "2022-03-09T14:56:38.981Z"
   },
   {
    "duration": 1045,
    "start_time": "2022-03-09T14:56:39.444Z"
   },
   {
    "duration": 2417,
    "start_time": "2022-03-09T14:56:40.492Z"
   },
   {
    "duration": 664,
    "start_time": "2022-03-09T14:56:42.911Z"
   },
   {
    "duration": 9,
    "start_time": "2022-03-09T14:56:43.577Z"
   },
   {
    "duration": 20069,
    "start_time": "2022-03-09T14:56:43.589Z"
   },
   {
    "duration": 45450,
    "start_time": "2022-03-09T14:57:03.660Z"
   },
   {
    "duration": 18292,
    "start_time": "2022-03-09T14:57:49.114Z"
   },
   {
    "duration": 4560,
    "start_time": "2022-03-09T14:58:07.409Z"
   },
   {
    "duration": 10,
    "start_time": "2022-03-09T14:58:11.971Z"
   },
   {
    "duration": 654,
    "start_time": "2022-03-09T14:58:11.984Z"
   },
   {
    "duration": 3186,
    "start_time": "2022-03-09T14:58:12.647Z"
   },
   {
    "duration": 698,
    "start_time": "2022-03-09T14:58:15.839Z"
   },
   {
    "duration": 97,
    "start_time": "2022-03-09T14:58:16.541Z"
   },
   {
    "duration": 98,
    "start_time": "2022-03-09T14:58:16.641Z"
   },
   {
    "duration": 769,
    "start_time": "2022-03-09T14:58:16.741Z"
   },
   {
    "duration": 68,
    "start_time": "2022-03-09T14:58:17.445Z"
   },
   {
    "duration": -5,
    "start_time": "2022-03-09T14:58:17.519Z"
   },
   {
    "duration": 4,
    "start_time": "2022-03-09T16:48:57.468Z"
   },
   {
    "duration": 6,
    "start_time": "2022-03-09T16:48:57.475Z"
   },
   {
    "duration": 1466,
    "start_time": "2022-03-09T16:48:57.483Z"
   },
   {
    "duration": 1075,
    "start_time": "2022-03-09T16:48:58.952Z"
   },
   {
    "duration": 37,
    "start_time": "2022-03-09T16:49:00.030Z"
   },
   {
    "duration": 62,
    "start_time": "2022-03-09T16:49:00.072Z"
   },
   {
    "duration": 33,
    "start_time": "2022-03-09T16:49:00.138Z"
   },
   {
    "duration": 58,
    "start_time": "2022-03-09T16:49:00.175Z"
   },
   {
    "duration": 25,
    "start_time": "2022-03-09T16:49:00.236Z"
   },
   {
    "duration": 18,
    "start_time": "2022-03-09T16:49:00.264Z"
   },
   {
    "duration": 53,
    "start_time": "2022-03-09T16:49:00.285Z"
   },
   {
    "duration": 13,
    "start_time": "2022-03-09T16:49:00.341Z"
   },
   {
    "duration": 12,
    "start_time": "2022-03-09T16:49:00.357Z"
   },
   {
    "duration": 10,
    "start_time": "2022-03-09T16:49:00.376Z"
   },
   {
    "duration": 11,
    "start_time": "2022-03-09T16:49:00.433Z"
   },
   {
    "duration": 231,
    "start_time": "2022-03-09T16:49:00.447Z"
   },
   {
    "duration": 3,
    "start_time": "2022-03-09T16:49:00.682Z"
   },
   {
    "duration": 7,
    "start_time": "2022-03-09T16:49:00.688Z"
   },
   {
    "duration": 11,
    "start_time": "2022-03-09T16:49:00.697Z"
   },
   {
    "duration": 21,
    "start_time": "2022-03-09T16:49:00.711Z"
   },
   {
    "duration": 4,
    "start_time": "2022-03-09T16:49:00.735Z"
   },
   {
    "duration": 20,
    "start_time": "2022-03-09T16:49:00.742Z"
   },
   {
    "duration": 6,
    "start_time": "2022-03-09T16:49:00.764Z"
   },
   {
    "duration": 18,
    "start_time": "2022-03-09T16:49:00.773Z"
   },
   {
    "duration": 10,
    "start_time": "2022-03-09T16:49:00.833Z"
   },
   {
    "duration": 27,
    "start_time": "2022-03-09T16:49:00.846Z"
   },
   {
    "duration": 10,
    "start_time": "2022-03-09T16:49:00.876Z"
   },
   {
    "duration": 3,
    "start_time": "2022-03-09T16:49:00.889Z"
   },
   {
    "duration": 38,
    "start_time": "2022-03-09T16:49:00.895Z"
   },
   {
    "duration": 1297,
    "start_time": "2022-03-09T16:49:00.935Z"
   },
   {
    "duration": 1266,
    "start_time": "2022-03-09T16:49:02.235Z"
   },
   {
    "duration": 1152,
    "start_time": "2022-03-09T16:49:03.504Z"
   },
   {
    "duration": 1417,
    "start_time": "2022-03-09T16:49:04.659Z"
   },
   {
    "duration": 1531,
    "start_time": "2022-03-09T16:49:06.079Z"
   },
   {
    "duration": 20,
    "start_time": "2022-03-09T16:49:07.612Z"
   },
   {
    "duration": 1192,
    "start_time": "2022-03-09T16:49:07.635Z"
   },
   {
    "duration": 10,
    "start_time": "2022-03-09T16:49:08.832Z"
   },
   {
    "duration": 12,
    "start_time": "2022-03-09T16:49:08.849Z"
   },
   {
    "duration": 13,
    "start_time": "2022-03-09T16:49:08.864Z"
   },
   {
    "duration": 1512,
    "start_time": "2022-03-09T16:49:08.880Z"
   },
   {
    "duration": 46,
    "start_time": "2022-03-09T16:49:10.394Z"
   },
   {
    "duration": 42,
    "start_time": "2022-03-09T16:49:10.442Z"
   },
   {
    "duration": 84,
    "start_time": "2022-03-09T16:49:10.486Z"
   },
   {
    "duration": 31,
    "start_time": "2022-03-09T16:49:10.573Z"
   },
   {
    "duration": 6,
    "start_time": "2022-03-09T16:49:10.607Z"
   },
   {
    "duration": 18,
    "start_time": "2022-03-09T16:49:10.616Z"
   },
   {
    "duration": 29,
    "start_time": "2022-03-09T16:49:10.636Z"
   },
   {
    "duration": 6,
    "start_time": "2022-03-09T16:49:10.667Z"
   },
   {
    "duration": 18,
    "start_time": "2022-03-09T16:49:10.675Z"
   },
   {
    "duration": 23,
    "start_time": "2022-03-09T16:49:10.695Z"
   },
   {
    "duration": 26,
    "start_time": "2022-03-09T16:49:10.721Z"
   },
   {
    "duration": 6,
    "start_time": "2022-03-09T16:49:10.750Z"
   },
   {
    "duration": 38,
    "start_time": "2022-03-09T16:49:10.758Z"
   },
   {
    "duration": 19,
    "start_time": "2022-03-09T16:49:10.798Z"
   },
   {
    "duration": 5,
    "start_time": "2022-03-09T16:49:10.820Z"
   },
   {
    "duration": 17,
    "start_time": "2022-03-09T16:49:10.827Z"
   },
   {
    "duration": 16,
    "start_time": "2022-03-09T16:49:10.846Z"
   },
   {
    "duration": 15,
    "start_time": "2022-03-09T16:49:10.864Z"
   },
   {
    "duration": 11,
    "start_time": "2022-03-09T16:49:10.882Z"
   },
   {
    "duration": 6,
    "start_time": "2022-03-09T16:49:10.896Z"
   },
   {
    "duration": 13,
    "start_time": "2022-03-09T16:49:10.904Z"
   },
   {
    "duration": 5,
    "start_time": "2022-03-09T16:49:10.919Z"
   },
   {
    "duration": 42,
    "start_time": "2022-03-09T16:49:10.926Z"
   },
   {
    "duration": 42,
    "start_time": "2022-03-09T16:49:10.970Z"
   },
   {
    "duration": 435,
    "start_time": "2022-03-09T16:49:11.014Z"
   },
   {
    "duration": 1481,
    "start_time": "2022-03-09T16:49:11.452Z"
   },
   {
    "duration": 2170,
    "start_time": "2022-03-09T16:49:12.936Z"
   },
   {
    "duration": 617,
    "start_time": "2022-03-09T16:49:15.108Z"
   },
   {
    "duration": 9,
    "start_time": "2022-03-09T16:49:15.727Z"
   },
   {
    "duration": 19406,
    "start_time": "2022-03-09T16:49:15.739Z"
   },
   {
    "duration": 47462,
    "start_time": "2022-03-09T16:49:35.148Z"
   },
   {
    "duration": 18436,
    "start_time": "2022-03-09T16:50:22.612Z"
   },
   {
    "duration": 4420,
    "start_time": "2022-03-09T16:50:41.051Z"
   },
   {
    "duration": 9,
    "start_time": "2022-03-09T16:50:45.474Z"
   },
   {
    "duration": 547,
    "start_time": "2022-03-09T16:50:45.485Z"
   },
   {
    "duration": 2796,
    "start_time": "2022-03-09T16:50:46.036Z"
   },
   {
    "duration": 498,
    "start_time": "2022-03-09T16:50:48.835Z"
   },
   {
    "duration": 100,
    "start_time": "2022-03-09T16:50:49.336Z"
   },
   {
    "duration": 9,
    "start_time": "2022-03-09T16:50:49.439Z"
   },
   {
    "duration": 687,
    "start_time": "2022-03-09T16:50:49.451Z"
   },
   {
    "duration": 4,
    "start_time": "2022-03-09T16:50:50.138Z"
   },
   {
    "duration": 0,
    "start_time": "2022-03-09T16:50:50.144Z"
   },
   {
    "duration": 9,
    "start_time": "2022-03-09T17:36:40.648Z"
   },
   {
    "duration": 9,
    "start_time": "2022-03-09T17:39:11.802Z"
   },
   {
    "duration": 11,
    "start_time": "2022-03-09T17:48:44.257Z"
   },
   {
    "duration": 16,
    "start_time": "2022-03-09T17:50:29.139Z"
   },
   {
    "duration": 4,
    "start_time": "2022-03-09T17:53:58.608Z"
   },
   {
    "duration": 6,
    "start_time": "2022-03-09T17:53:58.615Z"
   },
   {
    "duration": 1554,
    "start_time": "2022-03-09T17:53:58.623Z"
   },
   {
    "duration": 1201,
    "start_time": "2022-03-09T17:54:00.180Z"
   },
   {
    "duration": 54,
    "start_time": "2022-03-09T17:54:01.383Z"
   },
   {
    "duration": 34,
    "start_time": "2022-03-09T17:54:01.439Z"
   },
   {
    "duration": 34,
    "start_time": "2022-03-09T17:54:01.477Z"
   },
   {
    "duration": 29,
    "start_time": "2022-03-09T17:54:01.535Z"
   },
   {
    "duration": 24,
    "start_time": "2022-03-09T17:54:01.567Z"
   },
   {
    "duration": 51,
    "start_time": "2022-03-09T17:54:01.594Z"
   },
   {
    "duration": 12,
    "start_time": "2022-03-09T17:54:01.648Z"
   },
   {
    "duration": 22,
    "start_time": "2022-03-09T17:54:01.663Z"
   },
   {
    "duration": 20,
    "start_time": "2022-03-09T17:54:01.687Z"
   },
   {
    "duration": 33,
    "start_time": "2022-03-09T17:54:01.710Z"
   },
   {
    "duration": 21,
    "start_time": "2022-03-09T17:54:01.746Z"
   },
   {
    "duration": 236,
    "start_time": "2022-03-09T17:54:01.769Z"
   },
   {
    "duration": 2,
    "start_time": "2022-03-09T17:54:02.008Z"
   },
   {
    "duration": 18,
    "start_time": "2022-03-09T17:54:02.015Z"
   },
   {
    "duration": 16,
    "start_time": "2022-03-09T17:54:02.037Z"
   },
   {
    "duration": 11,
    "start_time": "2022-03-09T17:54:02.056Z"
   },
   {
    "duration": 7,
    "start_time": "2022-03-09T17:54:02.070Z"
   },
   {
    "duration": 17,
    "start_time": "2022-03-09T17:54:02.080Z"
   },
   {
    "duration": 31,
    "start_time": "2022-03-09T17:54:02.101Z"
   },
   {
    "duration": 23,
    "start_time": "2022-03-09T17:54:02.135Z"
   },
   {
    "duration": 14,
    "start_time": "2022-03-09T17:54:02.161Z"
   },
   {
    "duration": 10,
    "start_time": "2022-03-09T17:54:02.177Z"
   },
   {
    "duration": 67,
    "start_time": "2022-03-09T17:54:02.189Z"
   },
   {
    "duration": 21,
    "start_time": "2022-03-09T17:54:02.260Z"
   },
   {
    "duration": 11,
    "start_time": "2022-03-09T17:54:02.283Z"
   },
   {
    "duration": 35,
    "start_time": "2022-03-09T17:54:02.296Z"
   },
   {
    "duration": 14,
    "start_time": "2022-03-09T17:54:02.335Z"
   },
   {
    "duration": 1287,
    "start_time": "2022-03-09T17:54:02.352Z"
   },
   {
    "duration": 1495,
    "start_time": "2022-03-09T17:54:03.643Z"
   },
   {
    "duration": 1241,
    "start_time": "2022-03-09T17:54:05.141Z"
   },
   {
    "duration": 1527,
    "start_time": "2022-03-09T17:54:06.385Z"
   },
   {
    "duration": 1664,
    "start_time": "2022-03-09T17:54:07.915Z"
   },
   {
    "duration": 11,
    "start_time": "2022-03-09T17:54:09.582Z"
   },
   {
    "duration": 1276,
    "start_time": "2022-03-09T17:54:09.596Z"
   },
   {
    "duration": 12,
    "start_time": "2022-03-09T17:54:10.875Z"
   },
   {
    "duration": 14,
    "start_time": "2022-03-09T17:54:10.890Z"
   },
   {
    "duration": 12,
    "start_time": "2022-03-09T17:54:10.934Z"
   },
   {
    "duration": 1332,
    "start_time": "2022-03-09T17:54:10.948Z"
   },
   {
    "duration": 61,
    "start_time": "2022-03-09T17:54:12.283Z"
   },
   {
    "duration": 42,
    "start_time": "2022-03-09T17:54:12.346Z"
   },
   {
    "duration": 98,
    "start_time": "2022-03-09T17:54:12.391Z"
   },
   {
    "duration": 57,
    "start_time": "2022-03-09T17:54:12.493Z"
   },
   {
    "duration": 6,
    "start_time": "2022-03-09T17:54:12.553Z"
   },
   {
    "duration": 9,
    "start_time": "2022-03-09T17:54:12.561Z"
   },
   {
    "duration": 17,
    "start_time": "2022-03-09T17:54:12.572Z"
   },
   {
    "duration": 5,
    "start_time": "2022-03-09T17:54:12.591Z"
   },
   {
    "duration": 5,
    "start_time": "2022-03-09T17:54:12.632Z"
   },
   {
    "duration": 13,
    "start_time": "2022-03-09T17:54:12.641Z"
   },
   {
    "duration": 36,
    "start_time": "2022-03-09T17:54:12.656Z"
   },
   {
    "duration": 7,
    "start_time": "2022-03-09T17:54:12.695Z"
   },
   {
    "duration": 59,
    "start_time": "2022-03-09T17:54:12.705Z"
   },
   {
    "duration": 3,
    "start_time": "2022-03-09T17:54:12.766Z"
   },
   {
    "duration": 13,
    "start_time": "2022-03-09T17:54:12.771Z"
   },
   {
    "duration": 11,
    "start_time": "2022-03-09T17:54:12.786Z"
   },
   {
    "duration": 4,
    "start_time": "2022-03-09T17:54:12.800Z"
   },
   {
    "duration": 11,
    "start_time": "2022-03-09T17:54:12.833Z"
   },
   {
    "duration": 12,
    "start_time": "2022-03-09T17:54:12.846Z"
   },
   {
    "duration": 6,
    "start_time": "2022-03-09T17:54:12.861Z"
   },
   {
    "duration": 509,
    "start_time": "2022-03-09T17:54:12.869Z"
   },
   {
    "duration": 305,
    "start_time": "2022-03-09T17:54:13.075Z"
   },
   {
    "duration": 300,
    "start_time": "2022-03-09T17:54:13.082Z"
   },
   {
    "duration": 298,
    "start_time": "2022-03-09T17:54:13.086Z"
   },
   {
    "duration": 295,
    "start_time": "2022-03-09T17:54:13.090Z"
   },
   {
    "duration": 293,
    "start_time": "2022-03-09T17:54:13.094Z"
   },
   {
    "duration": 290,
    "start_time": "2022-03-09T17:54:13.098Z"
   },
   {
    "duration": 288,
    "start_time": "2022-03-09T17:54:13.101Z"
   },
   {
    "duration": 286,
    "start_time": "2022-03-09T17:54:13.105Z"
   },
   {
    "duration": 255,
    "start_time": "2022-03-09T17:54:13.137Z"
   },
   {
    "duration": 252,
    "start_time": "2022-03-09T17:54:13.142Z"
   },
   {
    "duration": 249,
    "start_time": "2022-03-09T17:54:13.146Z"
   },
   {
    "duration": 248,
    "start_time": "2022-03-09T17:54:13.149Z"
   },
   {
    "duration": 245,
    "start_time": "2022-03-09T17:54:13.153Z"
   },
   {
    "duration": 242,
    "start_time": "2022-03-09T17:54:13.157Z"
   },
   {
    "duration": 240,
    "start_time": "2022-03-09T17:54:13.160Z"
   },
   {
    "duration": 237,
    "start_time": "2022-03-09T17:54:13.164Z"
   },
   {
    "duration": 234,
    "start_time": "2022-03-09T17:54:13.168Z"
   },
   {
    "duration": 232,
    "start_time": "2022-03-09T17:54:13.172Z"
   },
   {
    "duration": 229,
    "start_time": "2022-03-09T17:54:13.176Z"
   },
   {
    "duration": 227,
    "start_time": "2022-03-09T17:54:13.180Z"
   },
   {
    "duration": 225,
    "start_time": "2022-03-09T17:54:13.183Z"
   },
   {
    "duration": 222,
    "start_time": "2022-03-09T17:54:13.187Z"
   },
   {
    "duration": 221,
    "start_time": "2022-03-09T17:54:13.190Z"
   },
   {
    "duration": 383,
    "start_time": "2022-03-09T17:55:03.767Z"
   },
   {
    "duration": 6,
    "start_time": "2022-03-09T17:55:12.512Z"
   },
   {
    "duration": 5,
    "start_time": "2022-03-09T17:59:38.408Z"
   },
   {
    "duration": 4,
    "start_time": "2022-03-09T17:59:38.417Z"
   },
   {
    "duration": 1658,
    "start_time": "2022-03-09T17:59:38.425Z"
   },
   {
    "duration": 1205,
    "start_time": "2022-03-09T17:59:40.086Z"
   },
   {
    "duration": 52,
    "start_time": "2022-03-09T17:59:41.294Z"
   },
   {
    "duration": 32,
    "start_time": "2022-03-09T17:59:41.349Z"
   },
   {
    "duration": 53,
    "start_time": "2022-03-09T17:59:41.383Z"
   },
   {
    "duration": 32,
    "start_time": "2022-03-09T17:59:41.440Z"
   },
   {
    "duration": 25,
    "start_time": "2022-03-09T17:59:41.474Z"
   },
   {
    "duration": 21,
    "start_time": "2022-03-09T17:59:41.533Z"
   },
   {
    "duration": 17,
    "start_time": "2022-03-09T17:59:41.556Z"
   },
   {
    "duration": 10,
    "start_time": "2022-03-09T17:59:41.576Z"
   },
   {
    "duration": 48,
    "start_time": "2022-03-09T17:59:41.589Z"
   },
   {
    "duration": 12,
    "start_time": "2022-03-09T17:59:41.639Z"
   },
   {
    "duration": 27,
    "start_time": "2022-03-09T17:59:41.654Z"
   },
   {
    "duration": 237,
    "start_time": "2022-03-09T17:59:41.684Z"
   },
   {
    "duration": 10,
    "start_time": "2022-03-09T17:59:41.923Z"
   },
   {
    "duration": 11,
    "start_time": "2022-03-09T17:59:41.935Z"
   },
   {
    "duration": 14,
    "start_time": "2022-03-09T17:59:41.948Z"
   },
   {
    "duration": 10,
    "start_time": "2022-03-09T17:59:41.965Z"
   },
   {
    "duration": 8,
    "start_time": "2022-03-09T17:59:41.978Z"
   },
   {
    "duration": 21,
    "start_time": "2022-03-09T17:59:41.991Z"
   },
   {
    "duration": 18,
    "start_time": "2022-03-09T17:59:42.016Z"
   },
   {
    "duration": 22,
    "start_time": "2022-03-09T17:59:42.038Z"
   },
   {
    "duration": 15,
    "start_time": "2022-03-09T17:59:42.063Z"
   },
   {
    "duration": 9,
    "start_time": "2022-03-09T17:59:42.080Z"
   },
   {
    "duration": 57,
    "start_time": "2022-03-09T17:59:42.092Z"
   },
   {
    "duration": 21,
    "start_time": "2022-03-09T17:59:42.151Z"
   },
   {
    "duration": 9,
    "start_time": "2022-03-09T17:59:42.175Z"
   },
   {
    "duration": 3,
    "start_time": "2022-03-09T17:59:42.187Z"
   },
   {
    "duration": 41,
    "start_time": "2022-03-09T17:59:42.192Z"
   },
   {
    "duration": 1228,
    "start_time": "2022-03-09T17:59:42.236Z"
   },
   {
    "duration": 1297,
    "start_time": "2022-03-09T17:59:43.466Z"
   },
   {
    "duration": 1229,
    "start_time": "2022-03-09T17:59:44.766Z"
   },
   {
    "duration": 1569,
    "start_time": "2022-03-09T17:59:45.998Z"
   },
   {
    "duration": 1753,
    "start_time": "2022-03-09T17:59:47.570Z"
   },
   {
    "duration": 10,
    "start_time": "2022-03-09T17:59:49.333Z"
   },
   {
    "duration": 1353,
    "start_time": "2022-03-09T17:59:49.346Z"
   },
   {
    "duration": 11,
    "start_time": "2022-03-09T17:59:50.702Z"
   },
   {
    "duration": 22,
    "start_time": "2022-03-09T17:59:50.731Z"
   },
   {
    "duration": 12,
    "start_time": "2022-03-09T17:59:50.756Z"
   },
   {
    "duration": 1296,
    "start_time": "2022-03-09T17:59:50.771Z"
   },
   {
    "duration": 40,
    "start_time": "2022-03-09T17:59:52.069Z"
   },
   {
    "duration": 63,
    "start_time": "2022-03-09T17:59:52.112Z"
   },
   {
    "duration": 100,
    "start_time": "2022-03-09T17:59:52.178Z"
   },
   {
    "duration": 30,
    "start_time": "2022-03-09T17:59:52.280Z"
   },
   {
    "duration": 22,
    "start_time": "2022-03-09T17:59:52.312Z"
   },
   {
    "duration": 21,
    "start_time": "2022-03-09T17:59:52.336Z"
   },
   {
    "duration": 18,
    "start_time": "2022-03-09T17:59:52.360Z"
   },
   {
    "duration": 6,
    "start_time": "2022-03-09T17:59:52.381Z"
   },
   {
    "duration": 5,
    "start_time": "2022-03-09T17:59:52.389Z"
   },
   {
    "duration": 42,
    "start_time": "2022-03-09T17:59:52.397Z"
   },
   {
    "duration": 29,
    "start_time": "2022-03-09T17:59:52.442Z"
   },
   {
    "duration": 6,
    "start_time": "2022-03-09T17:59:52.473Z"
   },
   {
    "duration": 60,
    "start_time": "2022-03-09T17:59:52.481Z"
   },
   {
    "duration": 3,
    "start_time": "2022-03-09T17:59:52.544Z"
   },
   {
    "duration": 13,
    "start_time": "2022-03-09T17:59:52.549Z"
   },
   {
    "duration": 10,
    "start_time": "2022-03-09T17:59:52.564Z"
   },
   {
    "duration": 3,
    "start_time": "2022-03-09T17:59:52.577Z"
   },
   {
    "duration": 8,
    "start_time": "2022-03-09T17:59:52.583Z"
   },
   {
    "duration": 47,
    "start_time": "2022-03-09T17:59:52.593Z"
   },
   {
    "duration": 7,
    "start_time": "2022-03-09T17:59:52.642Z"
   },
   {
    "duration": 13,
    "start_time": "2022-03-09T17:59:52.652Z"
   },
   {
    "duration": 4,
    "start_time": "2022-03-09T17:59:52.673Z"
   },
   {
    "duration": 12,
    "start_time": "2022-03-09T17:59:52.680Z"
   },
   {
    "duration": 42,
    "start_time": "2022-03-09T17:59:52.695Z"
   },
   {
    "duration": 46,
    "start_time": "2022-03-09T17:59:52.740Z"
   },
   {
    "duration": 70,
    "start_time": "2022-03-09T17:59:52.789Z"
   },
   {
    "duration": 505,
    "start_time": "2022-03-09T17:59:52.862Z"
   },
   {
    "duration": 1048,
    "start_time": "2022-03-09T17:59:53.370Z"
   },
   {
    "duration": 2351,
    "start_time": "2022-03-09T17:59:54.420Z"
   },
   {
    "duration": 644,
    "start_time": "2022-03-09T17:59:56.774Z"
   },
   {
    "duration": 16,
    "start_time": "2022-03-09T17:59:57.421Z"
   },
   {
    "duration": 21929,
    "start_time": "2022-03-09T17:59:57.440Z"
   },
   {
    "duration": 49318,
    "start_time": "2022-03-09T18:00:19.373Z"
   },
   {
    "duration": 20290,
    "start_time": "2022-03-09T18:01:08.694Z"
   },
   {
    "duration": 4587,
    "start_time": "2022-03-09T18:01:28.987Z"
   },
   {
    "duration": 9,
    "start_time": "2022-03-09T18:01:33.576Z"
   },
   {
    "duration": 460,
    "start_time": "2022-03-09T18:01:33.587Z"
   },
   {
    "duration": 2395,
    "start_time": "2022-03-09T18:01:34.050Z"
   },
   {
    "duration": 786,
    "start_time": "2022-03-09T18:01:36.447Z"
   },
   {
    "duration": 12,
    "start_time": "2022-03-09T18:01:37.236Z"
   },
   {
    "duration": 19,
    "start_time": "2022-03-09T18:01:37.251Z"
   },
   {
    "duration": 715,
    "start_time": "2022-03-09T18:01:37.272Z"
   },
   {
    "duration": 4561,
    "start_time": "2022-03-09T18:01:37.990Z"
   },
   {
    "duration": 579,
    "start_time": "2022-03-09T18:01:42.554Z"
   },
   {
    "duration": 498,
    "start_time": "2022-03-09T18:07:04.273Z"
   },
   {
    "duration": 11,
    "start_time": "2022-03-09T18:07:29.013Z"
   },
   {
    "duration": 1620,
    "start_time": "2022-03-09T18:10:50.003Z"
   },
   {
    "duration": 1631,
    "start_time": "2022-03-09T18:15:21.613Z"
   },
   {
    "duration": 1369,
    "start_time": "2022-03-09T18:16:31.503Z"
   },
   {
    "duration": 1379,
    "start_time": "2022-03-09T18:16:42.417Z"
   },
   {
    "duration": 922,
    "start_time": "2022-03-09T18:23:18.756Z"
   },
   {
    "duration": 1364,
    "start_time": "2022-03-09T18:23:39.292Z"
   },
   {
    "duration": 542,
    "start_time": "2022-03-09T18:25:15.159Z"
   },
   {
    "duration": 303,
    "start_time": "2022-03-09T18:25:42.301Z"
   },
   {
    "duration": 360,
    "start_time": "2022-03-09T18:26:45.593Z"
   },
   {
    "duration": 270,
    "start_time": "2022-03-09T18:26:52.714Z"
   },
   {
    "duration": 405,
    "start_time": "2022-03-09T18:29:52.313Z"
   },
   {
    "duration": 287,
    "start_time": "2022-03-09T18:31:42.283Z"
   },
   {
    "duration": 510,
    "start_time": "2022-03-09T18:31:57.783Z"
   },
   {
    "duration": 271,
    "start_time": "2022-03-09T18:32:19.395Z"
   },
   {
    "duration": 311,
    "start_time": "2022-03-09T18:34:16.375Z"
   },
   {
    "duration": 318,
    "start_time": "2022-03-09T18:34:44.873Z"
   },
   {
    "duration": 312,
    "start_time": "2022-03-09T18:35:59.551Z"
   },
   {
    "duration": 748,
    "start_time": "2022-03-09T18:36:43.175Z"
   },
   {
    "duration": 1434,
    "start_time": "2022-03-09T18:36:59.673Z"
   },
   {
    "duration": 714,
    "start_time": "2022-03-09T18:37:09.452Z"
   },
   {
    "duration": 544,
    "start_time": "2022-03-09T18:37:43.153Z"
   },
   {
    "duration": 666,
    "start_time": "2022-03-09T18:38:39.037Z"
   },
   {
    "duration": 589,
    "start_time": "2022-03-09T18:49:03.327Z"
   },
   {
    "duration": 114,
    "start_time": "2022-03-09T18:57:53.795Z"
   },
   {
    "duration": 6,
    "start_time": "2022-03-09T20:13:38.765Z"
   },
   {
    "duration": 162,
    "start_time": "2022-03-09T20:13:53.457Z"
   },
   {
    "duration": 5,
    "start_time": "2022-03-09T20:14:05.101Z"
   },
   {
    "duration": 3,
    "start_time": "2022-03-09T20:14:30.693Z"
   },
   {
    "duration": 4,
    "start_time": "2022-03-10T06:40:37.501Z"
   },
   {
    "duration": 6,
    "start_time": "2022-03-10T06:40:37.508Z"
   },
   {
    "duration": 1547,
    "start_time": "2022-03-10T06:40:37.517Z"
   },
   {
    "duration": 1118,
    "start_time": "2022-03-10T06:40:39.067Z"
   },
   {
    "duration": 35,
    "start_time": "2022-03-10T06:40:40.188Z"
   },
   {
    "duration": 54,
    "start_time": "2022-03-10T06:40:40.226Z"
   },
   {
    "duration": 33,
    "start_time": "2022-03-10T06:40:40.284Z"
   },
   {
    "duration": 53,
    "start_time": "2022-03-10T06:40:40.320Z"
   },
   {
    "duration": 27,
    "start_time": "2022-03-10T06:40:40.376Z"
   },
   {
    "duration": 23,
    "start_time": "2022-03-10T06:40:40.405Z"
   },
   {
    "duration": 42,
    "start_time": "2022-03-10T06:40:40.431Z"
   },
   {
    "duration": 15,
    "start_time": "2022-03-10T06:40:40.476Z"
   },
   {
    "duration": 23,
    "start_time": "2022-03-10T06:40:40.494Z"
   },
   {
    "duration": 21,
    "start_time": "2022-03-10T06:40:40.519Z"
   },
   {
    "duration": 32,
    "start_time": "2022-03-10T06:40:40.542Z"
   },
   {
    "duration": 226,
    "start_time": "2022-03-10T06:40:40.577Z"
   },
   {
    "duration": 3,
    "start_time": "2022-03-10T06:40:40.806Z"
   },
   {
    "duration": 11,
    "start_time": "2022-03-10T06:40:40.811Z"
   },
   {
    "duration": 13,
    "start_time": "2022-03-10T06:40:40.827Z"
   },
   {
    "duration": 16,
    "start_time": "2022-03-10T06:40:40.843Z"
   },
   {
    "duration": 17,
    "start_time": "2022-03-10T06:40:40.861Z"
   },
   {
    "duration": 27,
    "start_time": "2022-03-10T06:40:40.881Z"
   },
   {
    "duration": 8,
    "start_time": "2022-03-10T06:40:40.911Z"
   },
   {
    "duration": 19,
    "start_time": "2022-03-10T06:40:40.921Z"
   },
   {
    "duration": 14,
    "start_time": "2022-03-10T06:40:40.942Z"
   },
   {
    "duration": 16,
    "start_time": "2022-03-10T06:40:40.973Z"
   },
   {
    "duration": 31,
    "start_time": "2022-03-10T06:40:40.992Z"
   },
   {
    "duration": 63,
    "start_time": "2022-03-10T06:40:41.026Z"
   },
   {
    "duration": 10,
    "start_time": "2022-03-10T06:40:41.093Z"
   },
   {
    "duration": 3,
    "start_time": "2022-03-10T06:40:41.107Z"
   },
   {
    "duration": 9,
    "start_time": "2022-03-10T06:40:41.113Z"
   },
   {
    "duration": 1302,
    "start_time": "2022-03-10T06:40:41.124Z"
   },
   {
    "duration": 1447,
    "start_time": "2022-03-10T06:40:42.429Z"
   },
   {
    "duration": 1292,
    "start_time": "2022-03-10T06:40:43.879Z"
   },
   {
    "duration": 1699,
    "start_time": "2022-03-10T06:40:45.174Z"
   },
   {
    "duration": 1985,
    "start_time": "2022-03-10T06:40:46.875Z"
   },
   {
    "duration": 629,
    "start_time": "2022-03-10T06:40:48.863Z"
   },
   {
    "duration": 8,
    "start_time": "2022-03-10T06:40:49.495Z"
   },
   {
    "duration": 1237,
    "start_time": "2022-03-10T06:40:49.506Z"
   },
   {
    "duration": 12,
    "start_time": "2022-03-10T06:40:50.746Z"
   },
   {
    "duration": 18,
    "start_time": "2022-03-10T06:40:50.775Z"
   },
   {
    "duration": 13,
    "start_time": "2022-03-10T06:40:50.796Z"
   },
   {
    "duration": 1406,
    "start_time": "2022-03-10T06:40:50.811Z"
   },
   {
    "duration": 56,
    "start_time": "2022-03-10T06:40:52.220Z"
   },
   {
    "duration": 42,
    "start_time": "2022-03-10T06:40:52.279Z"
   },
   {
    "duration": 105,
    "start_time": "2022-03-10T06:40:52.324Z"
   },
   {
    "duration": 57,
    "start_time": "2022-03-10T06:40:52.431Z"
   },
   {
    "duration": 6,
    "start_time": "2022-03-10T06:40:52.490Z"
   },
   {
    "duration": 11,
    "start_time": "2022-03-10T06:40:52.499Z"
   },
   {
    "duration": 17,
    "start_time": "2022-03-10T06:40:52.513Z"
   },
   {
    "duration": 6,
    "start_time": "2022-03-10T06:40:52.532Z"
   },
   {
    "duration": 40,
    "start_time": "2022-03-10T06:40:52.540Z"
   },
   {
    "duration": 12,
    "start_time": "2022-03-10T06:40:52.583Z"
   },
   {
    "duration": 32,
    "start_time": "2022-03-10T06:40:52.598Z"
   },
   {
    "duration": 6,
    "start_time": "2022-03-10T06:40:52.637Z"
   },
   {
    "duration": 63,
    "start_time": "2022-03-10T06:40:52.646Z"
   },
   {
    "duration": 6,
    "start_time": "2022-03-10T06:40:52.711Z"
   },
   {
    "duration": 19,
    "start_time": "2022-03-10T06:40:52.719Z"
   },
   {
    "duration": 5,
    "start_time": "2022-03-10T06:40:52.741Z"
   },
   {
    "duration": 27,
    "start_time": "2022-03-10T06:40:52.748Z"
   },
   {
    "duration": 6,
    "start_time": "2022-03-10T06:40:52.779Z"
   },
   {
    "duration": 7,
    "start_time": "2022-03-10T06:40:52.788Z"
   },
   {
    "duration": 16,
    "start_time": "2022-03-10T06:40:52.798Z"
   },
   {
    "duration": 4,
    "start_time": "2022-03-10T06:40:52.817Z"
   },
   {
    "duration": 9,
    "start_time": "2022-03-10T06:40:52.823Z"
   },
   {
    "duration": 4,
    "start_time": "2022-03-10T06:40:52.875Z"
   },
   {
    "duration": 10,
    "start_time": "2022-03-10T06:40:52.883Z"
   },
   {
    "duration": 6,
    "start_time": "2022-03-10T06:40:52.896Z"
   },
   {
    "duration": 1309,
    "start_time": "2022-03-10T06:40:52.904Z"
   },
   {
    "duration": 732,
    "start_time": "2022-03-10T06:40:54.217Z"
   },
   {
    "duration": 11,
    "start_time": "2022-03-10T06:40:54.953Z"
   },
   {
    "duration": 5,
    "start_time": "2022-03-10T06:40:54.974Z"
   },
   {
    "duration": 20,
    "start_time": "2022-03-10T06:40:54.982Z"
   },
   {
    "duration": 5775,
    "start_time": "2022-03-10T06:40:55.005Z"
   },
   {
    "duration": 5044,
    "start_time": "2022-03-10T06:41:00.783Z"
   },
   {
    "duration": 11,
    "start_time": "2022-03-10T06:41:05.830Z"
   },
   {
    "duration": 30,
    "start_time": "2022-03-10T06:41:05.844Z"
   },
   {
    "duration": 1004,
    "start_time": "2022-03-10T06:41:05.877Z"
   },
   {
    "duration": 596,
    "start_time": "2022-03-10T06:41:06.887Z"
   },
   {
    "duration": 14,
    "start_time": "2022-03-10T06:41:07.575Z"
   },
   {
    "duration": 5,
    "start_time": "2022-03-10T06:41:07.593Z"
   },
   {
    "duration": 747,
    "start_time": "2022-03-10T06:41:07.601Z"
   },
   {
    "duration": 4749,
    "start_time": "2022-03-10T06:41:08.350Z"
   },
   {
    "duration": 472,
    "start_time": "2022-03-10T06:41:13.101Z"
   },
   {
    "duration": 4,
    "start_time": "2022-03-10T07:51:20.078Z"
   },
   {
    "duration": 2086,
    "start_time": "2022-03-10T07:51:23.657Z"
   },
   {
    "duration": 6,
    "start_time": "2022-03-10T07:51:34.737Z"
   },
   {
    "duration": 2103,
    "start_time": "2022-03-10T07:52:16.995Z"
   },
   {
    "duration": 5,
    "start_time": "2022-03-10T07:52:21.348Z"
   },
   {
    "duration": 2085,
    "start_time": "2022-03-10T07:52:52.507Z"
   },
   {
    "duration": 2295,
    "start_time": "2022-03-10T07:53:20.377Z"
   },
   {
    "duration": 5,
    "start_time": "2022-03-10T08:05:27.625Z"
   },
   {
    "duration": 14,
    "start_time": "2022-03-10T08:05:27.633Z"
   },
   {
    "duration": 1578,
    "start_time": "2022-03-10T08:05:27.651Z"
   },
   {
    "duration": 1156,
    "start_time": "2022-03-10T08:05:29.232Z"
   },
   {
    "duration": 38,
    "start_time": "2022-03-10T08:05:30.392Z"
   },
   {
    "duration": 56,
    "start_time": "2022-03-10T08:05:30.433Z"
   },
   {
    "duration": 31,
    "start_time": "2022-03-10T08:05:30.492Z"
   },
   {
    "duration": 47,
    "start_time": "2022-03-10T08:05:30.526Z"
   },
   {
    "duration": 26,
    "start_time": "2022-03-10T08:05:30.576Z"
   },
   {
    "duration": 25,
    "start_time": "2022-03-10T08:05:30.605Z"
   },
   {
    "duration": 15,
    "start_time": "2022-03-10T08:05:30.633Z"
   },
   {
    "duration": 40,
    "start_time": "2022-03-10T08:05:30.650Z"
   },
   {
    "duration": 31,
    "start_time": "2022-03-10T08:05:30.692Z"
   },
   {
    "duration": 38,
    "start_time": "2022-03-10T08:05:30.726Z"
   },
   {
    "duration": 37,
    "start_time": "2022-03-10T08:05:30.767Z"
   },
   {
    "duration": 246,
    "start_time": "2022-03-10T08:05:30.806Z"
   },
   {
    "duration": 3,
    "start_time": "2022-03-10T08:05:31.054Z"
   },
   {
    "duration": 26,
    "start_time": "2022-03-10T08:05:31.059Z"
   },
   {
    "duration": 36,
    "start_time": "2022-03-10T08:05:31.091Z"
   },
   {
    "duration": 42,
    "start_time": "2022-03-10T08:05:31.131Z"
   },
   {
    "duration": 15,
    "start_time": "2022-03-10T08:05:31.175Z"
   },
   {
    "duration": 26,
    "start_time": "2022-03-10T08:05:31.193Z"
   },
   {
    "duration": 9,
    "start_time": "2022-03-10T08:05:31.222Z"
   },
   {
    "duration": 24,
    "start_time": "2022-03-10T08:05:31.233Z"
   },
   {
    "duration": 18,
    "start_time": "2022-03-10T08:05:31.260Z"
   },
   {
    "duration": 10,
    "start_time": "2022-03-10T08:05:31.280Z"
   },
   {
    "duration": 37,
    "start_time": "2022-03-10T08:05:31.292Z"
   },
   {
    "duration": 46,
    "start_time": "2022-03-10T08:05:31.332Z"
   },
   {
    "duration": 12,
    "start_time": "2022-03-10T08:05:31.380Z"
   },
   {
    "duration": 18,
    "start_time": "2022-03-10T08:05:31.395Z"
   },
   {
    "duration": 23,
    "start_time": "2022-03-10T08:05:31.416Z"
   },
   {
    "duration": 1218,
    "start_time": "2022-03-10T08:05:31.441Z"
   },
   {
    "duration": 1280,
    "start_time": "2022-03-10T08:05:32.662Z"
   },
   {
    "duration": 1296,
    "start_time": "2022-03-10T08:05:33.945Z"
   },
   {
    "duration": 1429,
    "start_time": "2022-03-10T08:05:35.244Z"
   },
   {
    "duration": 1559,
    "start_time": "2022-03-10T08:05:36.675Z"
   },
   {
    "duration": 591,
    "start_time": "2022-03-10T08:05:38.237Z"
   },
   {
    "duration": 8,
    "start_time": "2022-03-10T08:05:38.831Z"
   },
   {
    "duration": 1169,
    "start_time": "2022-03-10T08:05:38.841Z"
   },
   {
    "duration": 11,
    "start_time": "2022-03-10T08:05:40.013Z"
   },
   {
    "duration": 11,
    "start_time": "2022-03-10T08:05:40.027Z"
   },
   {
    "duration": 41,
    "start_time": "2022-03-10T08:05:40.040Z"
   },
   {
    "duration": 1284,
    "start_time": "2022-03-10T08:05:40.083Z"
   },
   {
    "duration": 47,
    "start_time": "2022-03-10T08:05:41.369Z"
   },
   {
    "duration": 78,
    "start_time": "2022-03-10T08:05:41.418Z"
   },
   {
    "duration": 97,
    "start_time": "2022-03-10T08:05:41.499Z"
   },
   {
    "duration": 33,
    "start_time": "2022-03-10T08:05:41.600Z"
   },
   {
    "duration": 7,
    "start_time": "2022-03-10T08:05:41.636Z"
   },
   {
    "duration": 31,
    "start_time": "2022-03-10T08:05:41.646Z"
   },
   {
    "duration": 22,
    "start_time": "2022-03-10T08:05:41.680Z"
   },
   {
    "duration": 6,
    "start_time": "2022-03-10T08:05:41.704Z"
   },
   {
    "duration": 7,
    "start_time": "2022-03-10T08:05:41.712Z"
   },
   {
    "duration": 13,
    "start_time": "2022-03-10T08:05:41.722Z"
   },
   {
    "duration": 70,
    "start_time": "2022-03-10T08:05:41.738Z"
   },
   {
    "duration": 7,
    "start_time": "2022-03-10T08:05:41.816Z"
   },
   {
    "duration": 62,
    "start_time": "2022-03-10T08:05:41.827Z"
   },
   {
    "duration": 7,
    "start_time": "2022-03-10T08:05:41.892Z"
   },
   {
    "duration": 14,
    "start_time": "2022-03-10T08:05:41.902Z"
   },
   {
    "duration": 4,
    "start_time": "2022-03-10T08:05:41.918Z"
   },
   {
    "duration": 14,
    "start_time": "2022-03-10T08:05:41.924Z"
   },
   {
    "duration": 6,
    "start_time": "2022-03-10T08:05:41.974Z"
   },
   {
    "duration": 12,
    "start_time": "2022-03-10T08:05:41.983Z"
   },
   {
    "duration": 12,
    "start_time": "2022-03-10T08:05:41.998Z"
   },
   {
    "duration": 10,
    "start_time": "2022-03-10T08:05:42.012Z"
   },
   {
    "duration": 15,
    "start_time": "2022-03-10T08:05:42.025Z"
   },
   {
    "duration": 30,
    "start_time": "2022-03-10T08:05:42.043Z"
   },
   {
    "duration": 8,
    "start_time": "2022-03-10T08:05:42.076Z"
   },
   {
    "duration": 9,
    "start_time": "2022-03-10T08:05:42.087Z"
   },
   {
    "duration": 2149,
    "start_time": "2022-03-10T08:05:42.099Z"
   },
   {
    "duration": 3,
    "start_time": "2022-03-10T08:05:44.250Z"
   },
   {
    "duration": 8,
    "start_time": "2022-03-10T08:05:44.255Z"
   },
   {
    "duration": 1077,
    "start_time": "2022-03-10T08:05:44.265Z"
   },
   {
    "duration": 601,
    "start_time": "2022-03-10T08:05:45.345Z"
   },
   {
    "duration": 8,
    "start_time": "2022-03-10T08:05:45.949Z"
   },
   {
    "duration": 4,
    "start_time": "2022-03-10T08:05:45.959Z"
   },
   {
    "duration": 3,
    "start_time": "2022-03-10T08:05:45.974Z"
   },
   {
    "duration": 5567,
    "start_time": "2022-03-10T08:05:45.979Z"
   },
   {
    "duration": 4516,
    "start_time": "2022-03-10T08:05:51.549Z"
   },
   {
    "duration": 10,
    "start_time": "2022-03-10T08:05:56.067Z"
   },
   {
    "duration": 3,
    "start_time": "2022-03-10T08:05:56.080Z"
   },
   {
    "duration": 905,
    "start_time": "2022-03-10T08:05:56.085Z"
   },
   {
    "duration": 287,
    "start_time": "2022-03-10T08:05:56.993Z"
   },
   {
    "duration": 101,
    "start_time": "2022-03-10T08:05:57.374Z"
   },
   {
    "duration": 5,
    "start_time": "2022-03-10T08:05:57.477Z"
   },
   {
    "duration": 746,
    "start_time": "2022-03-10T08:05:57.484Z"
   },
   {
    "duration": 4686,
    "start_time": "2022-03-10T08:05:58.232Z"
   },
   {
    "duration": 456,
    "start_time": "2022-03-10T08:06:02.921Z"
   },
   {
    "duration": 1439,
    "start_time": "2022-03-10T08:09:48.284Z"
   },
   {
    "duration": 5510,
    "start_time": "2022-03-10T08:10:00.879Z"
   },
   {
    "duration": 4,
    "start_time": "2022-03-10T08:10:14.761Z"
   },
   {
    "duration": 8,
    "start_time": "2022-03-10T08:10:14.767Z"
   },
   {
    "duration": 1635,
    "start_time": "2022-03-10T08:10:14.777Z"
   },
   {
    "duration": 1074,
    "start_time": "2022-03-10T08:10:16.415Z"
   },
   {
    "duration": 35,
    "start_time": "2022-03-10T08:10:17.492Z"
   },
   {
    "duration": 51,
    "start_time": "2022-03-10T08:10:17.530Z"
   },
   {
    "duration": 31,
    "start_time": "2022-03-10T08:10:17.583Z"
   },
   {
    "duration": 25,
    "start_time": "2022-03-10T08:10:17.617Z"
   },
   {
    "duration": 23,
    "start_time": "2022-03-10T08:10:17.674Z"
   },
   {
    "duration": 17,
    "start_time": "2022-03-10T08:10:17.701Z"
   },
   {
    "duration": 11,
    "start_time": "2022-03-10T08:10:17.721Z"
   },
   {
    "duration": 47,
    "start_time": "2022-03-10T08:10:17.735Z"
   },
   {
    "duration": 11,
    "start_time": "2022-03-10T08:10:17.784Z"
   },
   {
    "duration": 10,
    "start_time": "2022-03-10T08:10:17.798Z"
   },
   {
    "duration": 10,
    "start_time": "2022-03-10T08:10:17.811Z"
   },
   {
    "duration": 252,
    "start_time": "2022-03-10T08:10:17.823Z"
   },
   {
    "duration": 3,
    "start_time": "2022-03-10T08:10:18.077Z"
   },
   {
    "duration": 7,
    "start_time": "2022-03-10T08:10:18.082Z"
   },
   {
    "duration": 15,
    "start_time": "2022-03-10T08:10:18.091Z"
   },
   {
    "duration": 14,
    "start_time": "2022-03-10T08:10:18.109Z"
   },
   {
    "duration": 6,
    "start_time": "2022-03-10T08:10:18.126Z"
   },
   {
    "duration": 24,
    "start_time": "2022-03-10T08:10:18.134Z"
   },
   {
    "duration": 16,
    "start_time": "2022-03-10T08:10:18.161Z"
   },
   {
    "duration": 21,
    "start_time": "2022-03-10T08:10:18.179Z"
   },
   {
    "duration": 13,
    "start_time": "2022-03-10T08:10:18.206Z"
   },
   {
    "duration": 10,
    "start_time": "2022-03-10T08:10:18.223Z"
   },
   {
    "duration": 62,
    "start_time": "2022-03-10T08:10:18.236Z"
   },
   {
    "duration": 23,
    "start_time": "2022-03-10T08:10:18.300Z"
   },
   {
    "duration": 11,
    "start_time": "2022-03-10T08:10:18.325Z"
   },
   {
    "duration": 36,
    "start_time": "2022-03-10T08:10:18.338Z"
   },
   {
    "duration": 12,
    "start_time": "2022-03-10T08:10:18.376Z"
   },
   {
    "duration": 1197,
    "start_time": "2022-03-10T08:10:18.390Z"
   },
   {
    "duration": 1375,
    "start_time": "2022-03-10T08:10:19.590Z"
   },
   {
    "duration": 1168,
    "start_time": "2022-03-10T08:10:20.967Z"
   },
   {
    "duration": 1439,
    "start_time": "2022-03-10T08:10:22.137Z"
   },
   {
    "duration": 1545,
    "start_time": "2022-03-10T08:10:23.579Z"
   },
   {
    "duration": 593,
    "start_time": "2022-03-10T08:10:25.126Z"
   },
   {
    "duration": 8,
    "start_time": "2022-03-10T08:10:25.721Z"
   },
   {
    "duration": 1174,
    "start_time": "2022-03-10T08:10:25.731Z"
   },
   {
    "duration": 13,
    "start_time": "2022-03-10T08:10:26.907Z"
   },
   {
    "duration": 13,
    "start_time": "2022-03-10T08:10:26.923Z"
   },
   {
    "duration": 43,
    "start_time": "2022-03-10T08:10:26.938Z"
   },
   {
    "duration": 1227,
    "start_time": "2022-03-10T08:10:26.984Z"
   },
   {
    "duration": 40,
    "start_time": "2022-03-10T08:10:28.214Z"
   },
   {
    "duration": 55,
    "start_time": "2022-03-10T08:10:28.257Z"
   },
   {
    "duration": 95,
    "start_time": "2022-03-10T08:10:28.314Z"
   },
   {
    "duration": 33,
    "start_time": "2022-03-10T08:10:28.411Z"
   },
   {
    "duration": 32,
    "start_time": "2022-03-10T08:10:28.446Z"
   },
   {
    "duration": 11,
    "start_time": "2022-03-10T08:10:28.480Z"
   },
   {
    "duration": 28,
    "start_time": "2022-03-10T08:10:28.494Z"
   },
   {
    "duration": 6,
    "start_time": "2022-03-10T08:10:28.525Z"
   },
   {
    "duration": 6,
    "start_time": "2022-03-10T08:10:28.533Z"
   },
   {
    "duration": 32,
    "start_time": "2022-03-10T08:10:28.542Z"
   },
   {
    "duration": 22,
    "start_time": "2022-03-10T08:10:28.577Z"
   },
   {
    "duration": 6,
    "start_time": "2022-03-10T08:10:28.602Z"
   },
   {
    "duration": 38,
    "start_time": "2022-03-10T08:10:28.610Z"
   },
   {
    "duration": 5,
    "start_time": "2022-03-10T08:10:28.674Z"
   },
   {
    "duration": 13,
    "start_time": "2022-03-10T08:10:28.682Z"
   },
   {
    "duration": 4,
    "start_time": "2022-03-10T08:10:28.697Z"
   },
   {
    "duration": 13,
    "start_time": "2022-03-10T08:10:28.704Z"
   },
   {
    "duration": 8,
    "start_time": "2022-03-10T08:10:28.719Z"
   },
   {
    "duration": 44,
    "start_time": "2022-03-10T08:10:28.729Z"
   },
   {
    "duration": 13,
    "start_time": "2022-03-10T08:10:28.776Z"
   },
   {
    "duration": 3,
    "start_time": "2022-03-10T08:10:28.791Z"
   },
   {
    "duration": 13,
    "start_time": "2022-03-10T08:10:28.796Z"
   },
   {
    "duration": 6,
    "start_time": "2022-03-10T08:10:28.812Z"
   },
   {
    "duration": 7,
    "start_time": "2022-03-10T08:10:28.821Z"
   },
   {
    "duration": 6,
    "start_time": "2022-03-10T08:10:28.830Z"
   },
   {
    "duration": 5272,
    "start_time": "2022-03-10T08:10:28.838Z"
   },
   {
    "duration": 16,
    "start_time": "2022-03-10T08:10:34.097Z"
   },
   {
    "duration": 13,
    "start_time": "2022-03-10T08:10:34.102Z"
   },
   {
    "duration": 10,
    "start_time": "2022-03-10T08:10:34.106Z"
   },
   {
    "duration": 8,
    "start_time": "2022-03-10T08:10:34.109Z"
   },
   {
    "duration": 6,
    "start_time": "2022-03-10T08:10:34.113Z"
   },
   {
    "duration": 4,
    "start_time": "2022-03-10T08:10:34.116Z"
   },
   {
    "duration": 2,
    "start_time": "2022-03-10T08:10:34.120Z"
   },
   {
    "duration": -1,
    "start_time": "2022-03-10T08:10:34.124Z"
   },
   {
    "duration": -4,
    "start_time": "2022-03-10T08:10:34.128Z"
   },
   {
    "duration": -14,
    "start_time": "2022-03-10T08:10:34.139Z"
   },
   {
    "duration": -17,
    "start_time": "2022-03-10T08:10:34.144Z"
   },
   {
    "duration": -20,
    "start_time": "2022-03-10T08:10:34.148Z"
   },
   {
    "duration": -22,
    "start_time": "2022-03-10T08:10:34.151Z"
   },
   {
    "duration": -26,
    "start_time": "2022-03-10T08:10:34.156Z"
   },
   {
    "duration": -35,
    "start_time": "2022-03-10T08:10:34.167Z"
   },
   {
    "duration": -38,
    "start_time": "2022-03-10T08:10:34.171Z"
   },
   {
    "duration": -41,
    "start_time": "2022-03-10T08:10:34.175Z"
   },
   {
    "duration": -46,
    "start_time": "2022-03-10T08:10:34.181Z"
   },
   {
    "duration": 2050,
    "start_time": "2022-03-10T08:10:55.605Z"
   },
   {
    "duration": 4,
    "start_time": "2022-03-10T08:17:13.372Z"
   },
   {
    "duration": 9,
    "start_time": "2022-03-10T08:17:13.379Z"
   },
   {
    "duration": 1543,
    "start_time": "2022-03-10T08:17:13.391Z"
   },
   {
    "duration": 1084,
    "start_time": "2022-03-10T08:17:14.937Z"
   },
   {
    "duration": 36,
    "start_time": "2022-03-10T08:17:16.024Z"
   },
   {
    "duration": 41,
    "start_time": "2022-03-10T08:17:16.062Z"
   },
   {
    "duration": 31,
    "start_time": "2022-03-10T08:17:16.105Z"
   },
   {
    "duration": 51,
    "start_time": "2022-03-10T08:17:16.140Z"
   },
   {
    "duration": 23,
    "start_time": "2022-03-10T08:17:16.194Z"
   },
   {
    "duration": 17,
    "start_time": "2022-03-10T08:17:16.219Z"
   },
   {
    "duration": 11,
    "start_time": "2022-03-10T08:17:16.274Z"
   },
   {
    "duration": 12,
    "start_time": "2022-03-10T08:17:16.287Z"
   },
   {
    "duration": 11,
    "start_time": "2022-03-10T08:17:16.301Z"
   },
   {
    "duration": 10,
    "start_time": "2022-03-10T08:17:16.315Z"
   },
   {
    "duration": 54,
    "start_time": "2022-03-10T08:17:16.328Z"
   },
   {
    "duration": 233,
    "start_time": "2022-03-10T08:17:16.385Z"
   },
   {
    "duration": 3,
    "start_time": "2022-03-10T08:17:16.620Z"
   },
   {
    "duration": 6,
    "start_time": "2022-03-10T08:17:16.625Z"
   },
   {
    "duration": 8,
    "start_time": "2022-03-10T08:17:16.633Z"
   },
   {
    "duration": 6,
    "start_time": "2022-03-10T08:17:16.643Z"
   },
   {
    "duration": 5,
    "start_time": "2022-03-10T08:17:16.651Z"
   },
   {
    "duration": 14,
    "start_time": "2022-03-10T08:17:16.678Z"
   },
   {
    "duration": 6,
    "start_time": "2022-03-10T08:17:16.696Z"
   },
   {
    "duration": 16,
    "start_time": "2022-03-10T08:17:16.705Z"
   },
   {
    "duration": 51,
    "start_time": "2022-03-10T08:17:16.724Z"
   },
   {
    "duration": 12,
    "start_time": "2022-03-10T08:17:16.777Z"
   },
   {
    "duration": 29,
    "start_time": "2022-03-10T08:17:16.791Z"
   },
   {
    "duration": 62,
    "start_time": "2022-03-10T08:17:16.823Z"
   },
   {
    "duration": 10,
    "start_time": "2022-03-10T08:17:16.888Z"
   },
   {
    "duration": 5,
    "start_time": "2022-03-10T08:17:16.901Z"
   },
   {
    "duration": 7,
    "start_time": "2022-03-10T08:17:16.908Z"
   },
   {
    "duration": 1410,
    "start_time": "2022-03-10T08:17:16.917Z"
   },
   {
    "duration": 1368,
    "start_time": "2022-03-10T08:17:18.329Z"
   },
   {
    "duration": 1427,
    "start_time": "2022-03-10T08:17:19.699Z"
   },
   {
    "duration": 1647,
    "start_time": "2022-03-10T08:17:21.130Z"
   },
   {
    "duration": 1751,
    "start_time": "2022-03-10T08:17:22.781Z"
   },
   {
    "duration": 721,
    "start_time": "2022-03-10T08:17:24.535Z"
   },
   {
    "duration": 9,
    "start_time": "2022-03-10T08:17:25.258Z"
   },
   {
    "duration": 1328,
    "start_time": "2022-03-10T08:17:25.274Z"
   },
   {
    "duration": 10,
    "start_time": "2022-03-10T08:17:26.605Z"
   },
   {
    "duration": 10,
    "start_time": "2022-03-10T08:17:26.617Z"
   },
   {
    "duration": 44,
    "start_time": "2022-03-10T08:17:26.629Z"
   },
   {
    "duration": 1247,
    "start_time": "2022-03-10T08:17:26.676Z"
   },
   {
    "duration": 53,
    "start_time": "2022-03-10T08:17:27.926Z"
   },
   {
    "duration": 43,
    "start_time": "2022-03-10T08:17:27.982Z"
   },
   {
    "duration": 98,
    "start_time": "2022-03-10T08:17:28.027Z"
   },
   {
    "duration": 58,
    "start_time": "2022-03-10T08:17:28.127Z"
   },
   {
    "duration": 6,
    "start_time": "2022-03-10T08:17:28.187Z"
   },
   {
    "duration": 10,
    "start_time": "2022-03-10T08:17:28.195Z"
   },
   {
    "duration": 17,
    "start_time": "2022-03-10T08:17:28.207Z"
   },
   {
    "duration": 5,
    "start_time": "2022-03-10T08:17:28.226Z"
   },
   {
    "duration": 8,
    "start_time": "2022-03-10T08:17:28.233Z"
   },
   {
    "duration": 7,
    "start_time": "2022-03-10T08:17:28.273Z"
   },
   {
    "duration": 27,
    "start_time": "2022-03-10T08:17:28.282Z"
   },
   {
    "duration": 7,
    "start_time": "2022-03-10T08:17:28.311Z"
   },
   {
    "duration": 67,
    "start_time": "2022-03-10T08:17:28.320Z"
   },
   {
    "duration": 5,
    "start_time": "2022-03-10T08:17:28.390Z"
   },
   {
    "duration": 18,
    "start_time": "2022-03-10T08:17:28.397Z"
   },
   {
    "duration": 4,
    "start_time": "2022-03-10T08:17:28.418Z"
   },
   {
    "duration": 11,
    "start_time": "2022-03-10T08:17:28.425Z"
   },
   {
    "duration": 36,
    "start_time": "2022-03-10T08:17:28.439Z"
   },
   {
    "duration": 6,
    "start_time": "2022-03-10T08:17:28.478Z"
   },
   {
    "duration": 11,
    "start_time": "2022-03-10T08:17:28.487Z"
   },
   {
    "duration": 3,
    "start_time": "2022-03-10T08:17:28.507Z"
   },
   {
    "duration": 8,
    "start_time": "2022-03-10T08:17:28.513Z"
   },
   {
    "duration": 5,
    "start_time": "2022-03-10T08:17:28.523Z"
   },
   {
    "duration": 4,
    "start_time": "2022-03-10T08:17:28.531Z"
   },
   {
    "duration": 3,
    "start_time": "2022-03-10T08:17:28.574Z"
   },
   {
    "duration": 10,
    "start_time": "2022-03-10T08:17:28.579Z"
   },
   {
    "duration": 7,
    "start_time": "2022-03-10T08:17:28.593Z"
   },
   {
    "duration": 5,
    "start_time": "2022-03-10T08:17:28.602Z"
   },
   {
    "duration": 1134,
    "start_time": "2022-03-10T08:17:28.609Z"
   },
   {
    "duration": 617,
    "start_time": "2022-03-10T08:17:29.745Z"
   },
   {
    "duration": 11,
    "start_time": "2022-03-10T08:17:30.365Z"
   },
   {
    "duration": 4,
    "start_time": "2022-03-10T08:17:30.378Z"
   },
   {
    "duration": 20,
    "start_time": "2022-03-10T08:17:30.384Z"
   },
   {
    "duration": 5684,
    "start_time": "2022-03-10T08:17:30.407Z"
   },
   {
    "duration": 4453,
    "start_time": "2022-03-10T08:17:36.093Z"
   },
   {
    "duration": 8,
    "start_time": "2022-03-10T08:17:40.549Z"
   },
   {
    "duration": 3,
    "start_time": "2022-03-10T08:17:40.573Z"
   },
   {
    "duration": 991,
    "start_time": "2022-03-10T08:17:40.578Z"
   },
   {
    "duration": 407,
    "start_time": "2022-03-10T08:17:41.571Z"
   },
   {
    "duration": 13,
    "start_time": "2022-03-10T08:17:42.072Z"
   },
   {
    "duration": 85,
    "start_time": "2022-03-10T08:17:42.088Z"
   },
   {
    "duration": 627,
    "start_time": "2022-03-10T08:17:42.176Z"
   },
   {
    "duration": 4568,
    "start_time": "2022-03-10T08:17:42.805Z"
   },
   {
    "duration": 606,
    "start_time": "2022-03-10T08:17:47.375Z"
   },
   {
    "duration": 5,
    "start_time": "2022-03-10T09:55:00.306Z"
   },
   {
    "duration": 496,
    "start_time": "2022-03-10T09:55:06.590Z"
   },
   {
    "duration": 5,
    "start_time": "2022-03-10T09:56:01.966Z"
   },
   {
    "duration": 3,
    "start_time": "2022-03-10T09:56:16.297Z"
   },
   {
    "duration": 5,
    "start_time": "2022-03-10T09:56:23.528Z"
   },
   {
    "duration": 4,
    "start_time": "2022-03-10T09:56:34.474Z"
   },
   {
    "duration": 4,
    "start_time": "2022-03-10T10:10:29.251Z"
   },
   {
    "duration": 2239,
    "start_time": "2022-03-10T10:11:38.591Z"
   },
   {
    "duration": 2300,
    "start_time": "2022-03-10T10:11:58.037Z"
   },
   {
    "duration": 5,
    "start_time": "2022-03-10T10:20:17.051Z"
   },
   {
    "duration": 17,
    "start_time": "2022-03-10T10:20:17.060Z"
   },
   {
    "duration": 1959,
    "start_time": "2022-03-10T10:20:17.081Z"
   },
   {
    "duration": 1366,
    "start_time": "2022-03-10T10:20:19.043Z"
   },
   {
    "duration": 46,
    "start_time": "2022-03-10T10:20:20.412Z"
   },
   {
    "duration": 41,
    "start_time": "2022-03-10T10:20:20.461Z"
   },
   {
    "duration": 32,
    "start_time": "2022-03-10T10:20:20.508Z"
   },
   {
    "duration": 28,
    "start_time": "2022-03-10T10:20:20.578Z"
   },
   {
    "duration": 26,
    "start_time": "2022-03-10T10:20:20.609Z"
   },
   {
    "duration": 38,
    "start_time": "2022-03-10T10:20:20.674Z"
   },
   {
    "duration": 16,
    "start_time": "2022-03-10T10:20:20.716Z"
   },
   {
    "duration": 13,
    "start_time": "2022-03-10T10:20:20.735Z"
   },
   {
    "duration": 15,
    "start_time": "2022-03-10T10:20:20.774Z"
   },
   {
    "duration": 11,
    "start_time": "2022-03-10T10:20:20.792Z"
   },
   {
    "duration": 14,
    "start_time": "2022-03-10T10:20:20.806Z"
   },
   {
    "duration": 337,
    "start_time": "2022-03-10T10:20:20.823Z"
   },
   {
    "duration": 10,
    "start_time": "2022-03-10T10:20:21.163Z"
   },
   {
    "duration": 3,
    "start_time": "2022-03-10T10:20:21.176Z"
   },
   {
    "duration": 13,
    "start_time": "2022-03-10T10:20:21.184Z"
   },
   {
    "duration": 4,
    "start_time": "2022-03-10T10:20:21.202Z"
   },
   {
    "duration": 6,
    "start_time": "2022-03-10T10:20:21.209Z"
   },
   {
    "duration": 18,
    "start_time": "2022-03-10T10:20:21.218Z"
   },
   {
    "duration": 41,
    "start_time": "2022-03-10T10:20:21.239Z"
   },
   {
    "duration": 26,
    "start_time": "2022-03-10T10:20:21.283Z"
   },
   {
    "duration": 19,
    "start_time": "2022-03-10T10:20:21.312Z"
   },
   {
    "duration": 53,
    "start_time": "2022-03-10T10:20:21.334Z"
   },
   {
    "duration": 28,
    "start_time": "2022-03-10T10:20:21.391Z"
   },
   {
    "duration": 62,
    "start_time": "2022-03-10T10:20:21.423Z"
   },
   {
    "duration": 15,
    "start_time": "2022-03-10T10:20:21.488Z"
   },
   {
    "duration": 4,
    "start_time": "2022-03-10T10:20:21.507Z"
   },
   {
    "duration": 9,
    "start_time": "2022-03-10T10:20:21.514Z"
   },
   {
    "duration": 1777,
    "start_time": "2022-03-10T10:20:21.526Z"
   },
   {
    "duration": 1430,
    "start_time": "2022-03-10T10:20:23.306Z"
   },
   {
    "duration": 1184,
    "start_time": "2022-03-10T10:20:24.739Z"
   },
   {
    "duration": 1634,
    "start_time": "2022-03-10T10:20:25.926Z"
   },
   {
    "duration": 1576,
    "start_time": "2022-03-10T10:20:27.563Z"
   },
   {
    "duration": 709,
    "start_time": "2022-03-10T10:20:29.143Z"
   },
   {
    "duration": 21,
    "start_time": "2022-03-10T10:20:29.855Z"
   },
   {
    "duration": 1226,
    "start_time": "2022-03-10T10:20:29.879Z"
   },
   {
    "duration": 12,
    "start_time": "2022-03-10T10:20:31.109Z"
   },
   {
    "duration": 14,
    "start_time": "2022-03-10T10:20:31.123Z"
   },
   {
    "duration": 44,
    "start_time": "2022-03-10T10:20:31.140Z"
   },
   {
    "duration": 1891,
    "start_time": "2022-03-10T10:20:31.187Z"
   },
   {
    "duration": 50,
    "start_time": "2022-03-10T10:20:33.082Z"
   },
   {
    "duration": 73,
    "start_time": "2022-03-10T10:20:33.135Z"
   },
   {
    "duration": 90,
    "start_time": "2022-03-10T10:20:33.211Z"
   },
   {
    "duration": 36,
    "start_time": "2022-03-10T10:20:33.305Z"
   },
   {
    "duration": 32,
    "start_time": "2022-03-10T10:20:33.344Z"
   },
   {
    "duration": 17,
    "start_time": "2022-03-10T10:20:33.378Z"
   },
   {
    "duration": 31,
    "start_time": "2022-03-10T10:20:33.398Z"
   },
   {
    "duration": 5,
    "start_time": "2022-03-10T10:20:33.432Z"
   },
   {
    "duration": 34,
    "start_time": "2022-03-10T10:20:33.440Z"
   },
   {
    "duration": 21,
    "start_time": "2022-03-10T10:20:33.477Z"
   },
   {
    "duration": 31,
    "start_time": "2022-03-10T10:20:33.501Z"
   },
   {
    "duration": 7,
    "start_time": "2022-03-10T10:20:33.540Z"
   },
   {
    "duration": 39,
    "start_time": "2022-03-10T10:20:33.575Z"
   },
   {
    "duration": 5,
    "start_time": "2022-03-10T10:20:33.617Z"
   },
   {
    "duration": 50,
    "start_time": "2022-03-10T10:20:33.625Z"
   },
   {
    "duration": 4,
    "start_time": "2022-03-10T10:20:33.678Z"
   },
   {
    "duration": 30,
    "start_time": "2022-03-10T10:20:33.685Z"
   },
   {
    "duration": 8,
    "start_time": "2022-03-10T10:20:33.718Z"
   },
   {
    "duration": 13,
    "start_time": "2022-03-10T10:20:33.728Z"
   },
   {
    "duration": 8,
    "start_time": "2022-03-10T10:20:33.744Z"
   },
   {
    "duration": 22,
    "start_time": "2022-03-10T10:20:33.774Z"
   },
   {
    "duration": 2074,
    "start_time": "2022-03-10T10:20:33.799Z"
   },
   {
    "duration": 4,
    "start_time": "2022-03-10T10:20:35.876Z"
   },
   {
    "duration": 15,
    "start_time": "2022-03-10T10:20:35.883Z"
   },
   {
    "duration": 7,
    "start_time": "2022-03-10T10:20:35.901Z"
   },
   {
    "duration": 14,
    "start_time": "2022-03-10T10:20:35.911Z"
   },
   {
    "duration": 8,
    "start_time": "2022-03-10T10:20:35.927Z"
   },
   {
    "duration": 29,
    "start_time": "2022-03-10T10:20:35.937Z"
   },
   {
    "duration": 15,
    "start_time": "2022-03-10T10:20:35.974Z"
   },
   {
    "duration": 10,
    "start_time": "2022-03-10T10:20:35.992Z"
   },
   {
    "duration": 8,
    "start_time": "2022-03-10T10:20:36.005Z"
   },
   {
    "duration": 11,
    "start_time": "2022-03-10T10:20:36.016Z"
   },
   {
    "duration": 8,
    "start_time": "2022-03-10T10:20:36.029Z"
   },
   {
    "duration": 6,
    "start_time": "2022-03-10T10:20:36.040Z"
   },
   {
    "duration": 25,
    "start_time": "2022-03-10T10:20:36.048Z"
   },
   {
    "duration": 39,
    "start_time": "2022-03-10T10:20:36.076Z"
   },
   {
    "duration": 16,
    "start_time": "2022-03-10T10:20:36.119Z"
   },
   {
    "duration": 37,
    "start_time": "2022-03-10T10:20:36.138Z"
   },
   {
    "duration": 27,
    "start_time": "2022-03-10T10:20:36.178Z"
   },
   {
    "duration": 19,
    "start_time": "2022-03-10T10:20:36.209Z"
   },
   {
    "duration": 14,
    "start_time": "2022-03-10T10:20:36.231Z"
   },
   {
    "duration": 30,
    "start_time": "2022-03-10T10:20:36.248Z"
   },
   {
    "duration": 13,
    "start_time": "2022-03-10T10:20:36.281Z"
   },
   {
    "duration": 7,
    "start_time": "2022-03-10T10:20:36.297Z"
   },
   {
    "duration": 27,
    "start_time": "2022-03-10T10:20:36.307Z"
   },
   {
    "duration": 23,
    "start_time": "2022-03-10T10:20:36.337Z"
   },
   {
    "duration": 29,
    "start_time": "2022-03-10T10:20:36.364Z"
   },
   {
    "duration": 5979,
    "start_time": "2022-03-10T10:23:39.622Z"
   },
   {
    "duration": 2970,
    "start_time": "2022-03-10T10:35:30.413Z"
   },
   {
    "duration": 6463,
    "start_time": "2022-03-10T10:35:47.712Z"
   },
   {
    "duration": 2268,
    "start_time": "2022-03-10T10:36:42.775Z"
   },
   {
    "duration": 880,
    "start_time": "2022-03-10T10:38:26.597Z"
   },
   {
    "duration": 505,
    "start_time": "2022-03-10T10:38:30.761Z"
   },
   {
    "duration": 5,
    "start_time": "2022-03-10T10:39:11.146Z"
   },
   {
    "duration": 15,
    "start_time": "2022-03-10T10:39:15.461Z"
   },
   {
    "duration": 2230,
    "start_time": "2022-03-10T10:39:24.150Z"
   },
   {
    "duration": 607,
    "start_time": "2022-03-10T10:39:31.392Z"
   },
   {
    "duration": 10,
    "start_time": "2022-03-10T10:39:34.513Z"
   },
   {
    "duration": 12498,
    "start_time": "2022-03-10T10:42:19.965Z"
   },
   {
    "duration": 1495,
    "start_time": "2022-03-10T10:43:29.231Z"
   },
   {
    "duration": 24088,
    "start_time": "2022-03-10T10:43:55.231Z"
   },
   {
    "duration": 11376,
    "start_time": "2022-03-10T10:44:34.472Z"
   },
   {
    "duration": 12,
    "start_time": "2022-03-10T10:44:52.472Z"
   },
   {
    "duration": 4446,
    "start_time": "2022-03-10T10:45:09.629Z"
   },
   {
    "duration": 3064,
    "start_time": "2022-03-10T10:45:16.913Z"
   },
   {
    "duration": 10,
    "start_time": "2022-03-10T10:45:22.082Z"
   },
   {
    "duration": 1671,
    "start_time": "2022-03-10T10:45:41.115Z"
   },
   {
    "duration": 647,
    "start_time": "2022-03-10T10:45:45.008Z"
   },
   {
    "duration": 10,
    "start_time": "2022-03-10T10:45:51.419Z"
   },
   {
    "duration": 2072,
    "start_time": "2022-03-10T10:46:50.103Z"
   },
   {
    "duration": 734,
    "start_time": "2022-03-10T10:46:59.352Z"
   },
   {
    "duration": 9,
    "start_time": "2022-03-10T10:47:05.432Z"
   },
   {
    "duration": 5,
    "start_time": "2022-03-10T11:10:17.594Z"
   },
   {
    "duration": 7,
    "start_time": "2022-03-10T11:10:17.602Z"
   },
   {
    "duration": 1525,
    "start_time": "2022-03-10T11:10:17.611Z"
   },
   {
    "duration": 1051,
    "start_time": "2022-03-10T11:10:19.139Z"
   },
   {
    "duration": 36,
    "start_time": "2022-03-10T11:10:20.193Z"
   },
   {
    "duration": 55,
    "start_time": "2022-03-10T11:10:20.232Z"
   },
   {
    "duration": 41,
    "start_time": "2022-03-10T11:10:20.289Z"
   },
   {
    "duration": 44,
    "start_time": "2022-03-10T11:10:20.333Z"
   },
   {
    "duration": 23,
    "start_time": "2022-03-10T11:10:20.380Z"
   },
   {
    "duration": 15,
    "start_time": "2022-03-10T11:10:20.407Z"
   },
   {
    "duration": 11,
    "start_time": "2022-03-10T11:10:20.426Z"
   },
   {
    "duration": 12,
    "start_time": "2022-03-10T11:10:20.474Z"
   },
   {
    "duration": 11,
    "start_time": "2022-03-10T11:10:20.488Z"
   },
   {
    "duration": 15,
    "start_time": "2022-03-10T11:10:20.501Z"
   },
   {
    "duration": 11,
    "start_time": "2022-03-10T11:10:20.518Z"
   },
   {
    "duration": 276,
    "start_time": "2022-03-10T11:10:20.531Z"
   },
   {
    "duration": 2,
    "start_time": "2022-03-10T11:10:20.810Z"
   },
   {
    "duration": 9,
    "start_time": "2022-03-10T11:10:20.814Z"
   },
   {
    "duration": 13,
    "start_time": "2022-03-10T11:10:20.826Z"
   },
   {
    "duration": 6,
    "start_time": "2022-03-10T11:10:20.841Z"
   },
   {
    "duration": 24,
    "start_time": "2022-03-10T11:10:20.849Z"
   },
   {
    "duration": 14,
    "start_time": "2022-03-10T11:10:20.876Z"
   },
   {
    "duration": 6,
    "start_time": "2022-03-10T11:10:20.893Z"
   },
   {
    "duration": 21,
    "start_time": "2022-03-10T11:10:20.901Z"
   },
   {
    "duration": 47,
    "start_time": "2022-03-10T11:10:20.928Z"
   },
   {
    "duration": 12,
    "start_time": "2022-03-10T11:10:20.978Z"
   },
   {
    "duration": 36,
    "start_time": "2022-03-10T11:10:20.993Z"
   },
   {
    "duration": 54,
    "start_time": "2022-03-10T11:10:21.032Z"
   },
   {
    "duration": 11,
    "start_time": "2022-03-10T11:10:21.089Z"
   },
   {
    "duration": 2,
    "start_time": "2022-03-10T11:10:21.103Z"
   },
   {
    "duration": 8,
    "start_time": "2022-03-10T11:10:21.108Z"
   },
   {
    "duration": 1221,
    "start_time": "2022-03-10T11:10:21.118Z"
   },
   {
    "duration": 1298,
    "start_time": "2022-03-10T11:10:22.341Z"
   },
   {
    "duration": 1305,
    "start_time": "2022-03-10T11:10:23.641Z"
   },
   {
    "duration": 1559,
    "start_time": "2022-03-10T11:10:24.948Z"
   },
   {
    "duration": 1545,
    "start_time": "2022-03-10T11:10:26.510Z"
   },
   {
    "duration": 594,
    "start_time": "2022-03-10T11:10:28.058Z"
   },
   {
    "duration": 20,
    "start_time": "2022-03-10T11:10:28.654Z"
   },
   {
    "duration": 1258,
    "start_time": "2022-03-10T11:10:28.677Z"
   },
   {
    "duration": 13,
    "start_time": "2022-03-10T11:10:29.938Z"
   },
   {
    "duration": 13,
    "start_time": "2022-03-10T11:10:29.975Z"
   },
   {
    "duration": 30,
    "start_time": "2022-03-10T11:10:29.990Z"
   },
   {
    "duration": 1512,
    "start_time": "2022-03-10T11:10:30.023Z"
   },
   {
    "duration": 61,
    "start_time": "2022-03-10T11:10:31.538Z"
   },
   {
    "duration": 43,
    "start_time": "2022-03-10T11:10:31.602Z"
   },
   {
    "duration": 99,
    "start_time": "2022-03-10T11:10:31.648Z"
   },
   {
    "duration": 53,
    "start_time": "2022-03-10T11:10:31.750Z"
   },
   {
    "duration": 6,
    "start_time": "2022-03-10T11:10:31.805Z"
   },
   {
    "duration": 21,
    "start_time": "2022-03-10T11:10:31.813Z"
   },
   {
    "duration": 41,
    "start_time": "2022-03-10T11:10:31.836Z"
   },
   {
    "duration": 9,
    "start_time": "2022-03-10T11:10:31.880Z"
   },
   {
    "duration": 7,
    "start_time": "2022-03-10T11:10:31.891Z"
   },
   {
    "duration": 13,
    "start_time": "2022-03-10T11:10:31.901Z"
   },
   {
    "duration": 35,
    "start_time": "2022-03-10T11:10:31.916Z"
   },
   {
    "duration": 7,
    "start_time": "2022-03-10T11:10:31.973Z"
   },
   {
    "duration": 45,
    "start_time": "2022-03-10T11:10:31.982Z"
   },
   {
    "duration": 6,
    "start_time": "2022-03-10T11:10:32.030Z"
   },
   {
    "duration": 34,
    "start_time": "2022-03-10T11:10:32.039Z"
   },
   {
    "duration": 4,
    "start_time": "2022-03-10T11:10:32.076Z"
   },
   {
    "duration": 14,
    "start_time": "2022-03-10T11:10:32.084Z"
   },
   {
    "duration": 12,
    "start_time": "2022-03-10T11:10:32.101Z"
   },
   {
    "duration": 8,
    "start_time": "2022-03-10T11:10:32.115Z"
   },
   {
    "duration": 50,
    "start_time": "2022-03-10T11:10:32.126Z"
   },
   {
    "duration": 1478,
    "start_time": "2022-03-10T11:10:32.178Z"
   },
   {
    "duration": 24899,
    "start_time": "2022-03-10T11:10:33.658Z"
   },
   {
    "duration": 2013,
    "start_time": "2022-03-10T11:10:58.560Z"
   },
   {
    "duration": 616,
    "start_time": "2022-03-10T11:11:00.576Z"
   },
   {
    "duration": 9,
    "start_time": "2022-03-10T11:11:01.194Z"
   },
   {
    "duration": 12146,
    "start_time": "2022-03-10T11:11:01.206Z"
   },
   {
    "duration": 16,
    "start_time": "2022-03-10T11:11:13.360Z"
   },
   {
    "duration": 495,
    "start_time": "2022-03-10T11:11:13.380Z"
   },
   {
    "duration": 96,
    "start_time": "2022-03-10T11:11:13.879Z"
   },
   {
    "duration": 4,
    "start_time": "2022-03-10T11:11:13.978Z"
   },
   {
    "duration": 9,
    "start_time": "2022-03-10T11:11:13.984Z"
   },
   {
    "duration": 6,
    "start_time": "2022-03-10T11:11:13.996Z"
   },
   {
    "duration": 4,
    "start_time": "2022-03-10T11:11:14.073Z"
   },
   {
    "duration": 8,
    "start_time": "2022-03-10T11:11:14.079Z"
   },
   {
    "duration": 14,
    "start_time": "2022-03-10T11:11:14.090Z"
   },
   {
    "duration": 14,
    "start_time": "2022-03-10T11:11:14.106Z"
   },
   {
    "duration": 11,
    "start_time": "2022-03-10T11:11:14.122Z"
   },
   {
    "duration": 13,
    "start_time": "2022-03-10T11:11:14.135Z"
   },
   {
    "duration": 6,
    "start_time": "2022-03-10T11:11:14.150Z"
   },
   {
    "duration": 15,
    "start_time": "2022-03-10T11:11:14.158Z"
   },
   {
    "duration": 12,
    "start_time": "2022-03-10T11:11:14.175Z"
   },
   {
    "duration": 610,
    "start_time": "2022-03-10T11:15:12.596Z"
   },
   {
    "duration": 11698,
    "start_time": "2022-03-10T11:15:16.523Z"
   },
   {
    "duration": 728,
    "start_time": "2022-03-10T11:15:39.145Z"
   },
   {
    "duration": 4,
    "start_time": "2022-03-10T11:20:22.063Z"
   },
   {
    "duration": 9,
    "start_time": "2022-03-10T11:20:22.070Z"
   },
   {
    "duration": 1612,
    "start_time": "2022-03-10T11:20:22.083Z"
   },
   {
    "duration": 1043,
    "start_time": "2022-03-10T11:20:23.698Z"
   },
   {
    "duration": 41,
    "start_time": "2022-03-10T11:20:24.743Z"
   },
   {
    "duration": 33,
    "start_time": "2022-03-10T11:20:24.787Z"
   },
   {
    "duration": 61,
    "start_time": "2022-03-10T11:20:24.822Z"
   },
   {
    "duration": 25,
    "start_time": "2022-03-10T11:20:24.887Z"
   },
   {
    "duration": 23,
    "start_time": "2022-03-10T11:20:24.915Z"
   },
   {
    "duration": 46,
    "start_time": "2022-03-10T11:20:24.941Z"
   },
   {
    "duration": 12,
    "start_time": "2022-03-10T11:20:24.989Z"
   },
   {
    "duration": 13,
    "start_time": "2022-03-10T11:20:25.003Z"
   },
   {
    "duration": 54,
    "start_time": "2022-03-10T11:20:25.019Z"
   },
   {
    "duration": 11,
    "start_time": "2022-03-10T11:20:25.076Z"
   },
   {
    "duration": 13,
    "start_time": "2022-03-10T11:20:25.090Z"
   },
   {
    "duration": 241,
    "start_time": "2022-03-10T11:20:25.105Z"
   },
   {
    "duration": 3,
    "start_time": "2022-03-10T11:20:25.348Z"
   },
   {
    "duration": 20,
    "start_time": "2022-03-10T11:20:25.354Z"
   },
   {
    "duration": 3,
    "start_time": "2022-03-10T11:20:25.377Z"
   },
   {
    "duration": 7,
    "start_time": "2022-03-10T11:20:25.383Z"
   },
   {
    "duration": 7,
    "start_time": "2022-03-10T11:20:25.393Z"
   },
   {
    "duration": 16,
    "start_time": "2022-03-10T11:20:25.403Z"
   },
   {
    "duration": 46,
    "start_time": "2022-03-10T11:20:25.429Z"
   },
   {
    "duration": 19,
    "start_time": "2022-03-10T11:20:25.481Z"
   },
   {
    "duration": 15,
    "start_time": "2022-03-10T11:20:25.502Z"
   },
   {
    "duration": 10,
    "start_time": "2022-03-10T11:20:25.519Z"
   },
   {
    "duration": 66,
    "start_time": "2022-03-10T11:20:25.532Z"
   },
   {
    "duration": 23,
    "start_time": "2022-03-10T11:20:25.601Z"
   },
   {
    "duration": 47,
    "start_time": "2022-03-10T11:20:25.626Z"
   },
   {
    "duration": 4,
    "start_time": "2022-03-10T11:20:25.675Z"
   },
   {
    "duration": 12,
    "start_time": "2022-03-10T11:20:25.681Z"
   },
   {
    "duration": 1357,
    "start_time": "2022-03-10T11:20:25.696Z"
   },
   {
    "duration": 2003,
    "start_time": "2022-03-10T11:20:27.057Z"
   },
   {
    "duration": 1311,
    "start_time": "2022-03-10T11:20:29.062Z"
   },
   {
    "duration": 2215,
    "start_time": "2022-03-10T11:20:30.375Z"
   },
   {
    "duration": 1797,
    "start_time": "2022-03-10T11:20:32.594Z"
   },
   {
    "duration": 603,
    "start_time": "2022-03-10T11:20:34.394Z"
   },
   {
    "duration": 8,
    "start_time": "2022-03-10T11:20:35.000Z"
   },
   {
    "duration": 1189,
    "start_time": "2022-03-10T11:20:35.011Z"
   },
   {
    "duration": 14,
    "start_time": "2022-03-10T11:20:36.202Z"
   },
   {
    "duration": 13,
    "start_time": "2022-03-10T11:20:36.219Z"
   },
   {
    "duration": 48,
    "start_time": "2022-03-10T11:20:36.235Z"
   },
   {
    "duration": 1882,
    "start_time": "2022-03-10T11:20:36.286Z"
   },
   {
    "duration": 62,
    "start_time": "2022-03-10T11:20:38.175Z"
   },
   {
    "duration": 82,
    "start_time": "2022-03-10T11:20:38.241Z"
   },
   {
    "duration": 140,
    "start_time": "2022-03-10T11:20:38.326Z"
   },
   {
    "duration": 45,
    "start_time": "2022-03-10T11:20:38.474Z"
   },
   {
    "duration": 7,
    "start_time": "2022-03-10T11:20:38.522Z"
   },
   {
    "duration": 42,
    "start_time": "2022-03-10T11:20:38.533Z"
   },
   {
    "duration": 29,
    "start_time": "2022-03-10T11:20:38.578Z"
   },
   {
    "duration": 7,
    "start_time": "2022-03-10T11:20:38.610Z"
   },
   {
    "duration": 7,
    "start_time": "2022-03-10T11:20:38.619Z"
   },
   {
    "duration": 12,
    "start_time": "2022-03-10T11:20:38.629Z"
   },
   {
    "duration": 51,
    "start_time": "2022-03-10T11:20:38.644Z"
   },
   {
    "duration": 7,
    "start_time": "2022-03-10T11:20:38.698Z"
   },
   {
    "duration": 40,
    "start_time": "2022-03-10T11:20:38.708Z"
   },
   {
    "duration": 27,
    "start_time": "2022-03-10T11:20:38.750Z"
   },
   {
    "duration": 42,
    "start_time": "2022-03-10T11:20:38.779Z"
   },
   {
    "duration": 14,
    "start_time": "2022-03-10T11:20:38.823Z"
   },
   {
    "duration": 20,
    "start_time": "2022-03-10T11:20:38.841Z"
   },
   {
    "duration": 14,
    "start_time": "2022-03-10T11:20:38.864Z"
   },
   {
    "duration": 11,
    "start_time": "2022-03-10T11:20:38.881Z"
   },
   {
    "duration": 19,
    "start_time": "2022-03-10T11:20:38.895Z"
   },
   {
    "duration": 1495,
    "start_time": "2022-03-10T11:20:38.917Z"
   },
   {
    "duration": 10909,
    "start_time": "2022-03-10T11:20:40.414Z"
   },
   {
    "duration": 1852,
    "start_time": "2022-03-10T11:20:51.326Z"
   },
   {
    "duration": 857,
    "start_time": "2022-03-10T11:20:53.182Z"
   },
   {
    "duration": 22,
    "start_time": "2022-03-10T11:20:54.051Z"
   },
   {
    "duration": 5623,
    "start_time": "2022-03-10T11:20:54.078Z"
   },
   {
    "duration": 11,
    "start_time": "2022-03-10T11:20:59.704Z"
   },
   {
    "duration": 357,
    "start_time": "2022-03-10T11:20:59.718Z"
   },
   {
    "duration": 99,
    "start_time": "2022-03-10T11:21:00.078Z"
   },
   {
    "duration": 21,
    "start_time": "2022-03-10T11:21:00.180Z"
   },
   {
    "duration": 9,
    "start_time": "2022-03-10T11:21:00.272Z"
   },
   {
    "duration": 16,
    "start_time": "2022-03-10T11:21:00.283Z"
   },
   {
    "duration": 37,
    "start_time": "2022-03-10T11:21:00.302Z"
   },
   {
    "duration": 15,
    "start_time": "2022-03-10T11:21:00.342Z"
   },
   {
    "duration": 25,
    "start_time": "2022-03-10T11:21:00.359Z"
   },
   {
    "duration": 37,
    "start_time": "2022-03-10T11:21:00.386Z"
   },
   {
    "duration": 26,
    "start_time": "2022-03-10T11:21:00.426Z"
   },
   {
    "duration": 35,
    "start_time": "2022-03-10T11:21:00.455Z"
   },
   {
    "duration": 636,
    "start_time": "2022-03-10T11:21:00.493Z"
   },
   {
    "duration": 5458,
    "start_time": "2022-03-10T11:21:01.132Z"
   },
   {
    "duration": 589,
    "start_time": "2022-03-10T11:21:06.593Z"
   },
   {
    "duration": 5,
    "start_time": "2022-03-15T20:08:23.263Z"
   },
   {
    "duration": 8,
    "start_time": "2022-03-15T20:08:23.271Z"
   },
   {
    "duration": 1622,
    "start_time": "2022-03-15T20:08:23.283Z"
   },
   {
    "duration": 1241,
    "start_time": "2022-03-15T20:08:24.908Z"
   },
   {
    "duration": 56,
    "start_time": "2022-03-15T20:08:26.152Z"
   },
   {
    "duration": 37,
    "start_time": "2022-03-15T20:08:26.211Z"
   },
   {
    "duration": 56,
    "start_time": "2022-03-15T20:08:26.251Z"
   },
   {
    "duration": 27,
    "start_time": "2022-03-15T20:08:26.311Z"
   },
   {
    "duration": 62,
    "start_time": "2022-03-15T20:08:26.341Z"
   },
   {
    "duration": 16,
    "start_time": "2022-03-15T20:08:26.407Z"
   },
   {
    "duration": 19,
    "start_time": "2022-03-15T20:08:26.426Z"
   },
   {
    "duration": 11,
    "start_time": "2022-03-15T20:08:26.447Z"
   },
   {
    "duration": 33,
    "start_time": "2022-03-15T20:08:26.460Z"
   },
   {
    "duration": 11,
    "start_time": "2022-03-15T20:08:26.495Z"
   },
   {
    "duration": 11,
    "start_time": "2022-03-15T20:08:26.508Z"
   },
   {
    "duration": 261,
    "start_time": "2022-03-15T20:08:26.521Z"
   },
   {
    "duration": 3,
    "start_time": "2022-03-15T20:08:26.785Z"
   },
   {
    "duration": 9,
    "start_time": "2022-03-15T20:08:26.790Z"
   },
   {
    "duration": 6,
    "start_time": "2022-03-15T20:08:26.801Z"
   },
   {
    "duration": 6,
    "start_time": "2022-03-15T20:08:26.809Z"
   },
   {
    "duration": 11,
    "start_time": "2022-03-15T20:08:26.818Z"
   },
   {
    "duration": 15,
    "start_time": "2022-03-15T20:08:26.835Z"
   },
   {
    "duration": 7,
    "start_time": "2022-03-15T20:08:26.886Z"
   },
   {
    "duration": 19,
    "start_time": "2022-03-15T20:08:26.895Z"
   },
   {
    "duration": 17,
    "start_time": "2022-03-15T20:08:26.916Z"
   },
   {
    "duration": 51,
    "start_time": "2022-03-15T20:08:26.935Z"
   },
   {
    "duration": 26,
    "start_time": "2022-03-15T20:08:26.988Z"
   },
   {
    "duration": 25,
    "start_time": "2022-03-15T20:08:27.017Z"
   },
   {
    "duration": 40,
    "start_time": "2022-03-15T20:08:27.044Z"
   },
   {
    "duration": 3,
    "start_time": "2022-03-15T20:08:27.086Z"
   },
   {
    "duration": 9,
    "start_time": "2022-03-15T20:08:27.092Z"
   },
   {
    "duration": 1470,
    "start_time": "2022-03-15T20:08:27.103Z"
   },
   {
    "duration": 1266,
    "start_time": "2022-03-15T20:08:28.576Z"
   },
   {
    "duration": 1185,
    "start_time": "2022-03-15T20:08:29.845Z"
   },
   {
    "duration": 1454,
    "start_time": "2022-03-15T20:08:31.034Z"
   },
   {
    "duration": 1734,
    "start_time": "2022-03-15T20:08:32.491Z"
   },
   {
    "duration": 643,
    "start_time": "2022-03-15T20:08:34.228Z"
   },
   {
    "duration": 13,
    "start_time": "2022-03-15T20:08:34.874Z"
   },
   {
    "duration": 1232,
    "start_time": "2022-03-15T20:08:34.889Z"
   },
   {
    "duration": 13,
    "start_time": "2022-03-15T20:08:36.123Z"
   },
   {
    "duration": 13,
    "start_time": "2022-03-15T20:08:36.139Z"
   },
   {
    "duration": 13,
    "start_time": "2022-03-15T20:08:36.181Z"
   },
   {
    "duration": 1746,
    "start_time": "2022-03-15T20:08:36.197Z"
   },
   {
    "duration": 66,
    "start_time": "2022-03-15T20:08:37.946Z"
   },
   {
    "duration": 41,
    "start_time": "2022-03-15T20:08:38.015Z"
   },
   {
    "duration": 95,
    "start_time": "2022-03-15T20:08:38.059Z"
   },
   {
    "duration": 47,
    "start_time": "2022-03-15T20:08:38.156Z"
   },
   {
    "duration": 6,
    "start_time": "2022-03-15T20:08:38.206Z"
   },
   {
    "duration": 13,
    "start_time": "2022-03-15T20:08:38.214Z"
   },
   {
    "duration": 22,
    "start_time": "2022-03-15T20:08:38.230Z"
   },
   {
    "duration": 5,
    "start_time": "2022-03-15T20:08:38.282Z"
   },
   {
    "duration": 6,
    "start_time": "2022-03-15T20:08:38.290Z"
   },
   {
    "duration": 12,
    "start_time": "2022-03-15T20:08:38.299Z"
   },
   {
    "duration": 28,
    "start_time": "2022-03-15T20:08:38.313Z"
   },
   {
    "duration": 5,
    "start_time": "2022-03-15T20:08:38.344Z"
   },
   {
    "duration": 37,
    "start_time": "2022-03-15T20:08:38.383Z"
   },
   {
    "duration": 5,
    "start_time": "2022-03-15T20:08:38.423Z"
   },
   {
    "duration": 15,
    "start_time": "2022-03-15T20:08:38.430Z"
   },
   {
    "duration": 34,
    "start_time": "2022-03-15T20:08:38.448Z"
   },
   {
    "duration": 7,
    "start_time": "2022-03-15T20:08:38.485Z"
   },
   {
    "duration": 8,
    "start_time": "2022-03-15T20:08:38.495Z"
   },
   {
    "duration": 6,
    "start_time": "2022-03-15T20:08:38.506Z"
   },
   {
    "duration": 14,
    "start_time": "2022-03-15T20:08:38.514Z"
   },
   {
    "duration": 2054,
    "start_time": "2022-03-15T20:08:38.586Z"
   },
   {
    "duration": 14824,
    "start_time": "2022-03-15T20:08:40.644Z"
   },
   {
    "duration": 2313,
    "start_time": "2022-03-15T20:08:55.470Z"
   },
   {
    "duration": 769,
    "start_time": "2022-03-15T20:08:57.788Z"
   },
   {
    "duration": 9,
    "start_time": "2022-03-15T20:08:58.560Z"
   },
   {
    "duration": 4679,
    "start_time": "2022-03-15T20:08:58.582Z"
   },
   {
    "duration": 9,
    "start_time": "2022-03-15T20:09:03.263Z"
   },
   {
    "duration": 500,
    "start_time": "2022-03-15T20:09:03.283Z"
   },
   {
    "duration": 99,
    "start_time": "2022-03-15T20:09:03.787Z"
   },
   {
    "duration": 3,
    "start_time": "2022-03-15T20:09:03.890Z"
   },
   {
    "duration": 7,
    "start_time": "2022-03-15T20:09:03.897Z"
   },
   {
    "duration": 7,
    "start_time": "2022-03-15T20:09:03.906Z"
   },
   {
    "duration": 68,
    "start_time": "2022-03-15T20:09:03.915Z"
   },
   {
    "duration": 8,
    "start_time": "2022-03-15T20:09:03.985Z"
   },
   {
    "duration": 7,
    "start_time": "2022-03-15T20:09:03.995Z"
   },
   {
    "duration": 9,
    "start_time": "2022-03-15T20:09:04.004Z"
   },
   {
    "duration": 6,
    "start_time": "2022-03-15T20:09:04.015Z"
   },
   {
    "duration": 9,
    "start_time": "2022-03-15T20:09:04.024Z"
   },
   {
    "duration": 625,
    "start_time": "2022-03-15T20:09:04.036Z"
   },
   {
    "duration": 4448,
    "start_time": "2022-03-15T20:09:04.663Z"
   },
   {
    "duration": 572,
    "start_time": "2022-03-15T20:09:09.114Z"
   },
   {
    "duration": 4,
    "start_time": "2022-03-17T07:48:11.960Z"
   },
   {
    "duration": 7,
    "start_time": "2022-03-17T07:48:11.966Z"
   },
   {
    "duration": 1603,
    "start_time": "2022-03-17T07:48:11.975Z"
   },
   {
    "duration": 765,
    "start_time": "2022-03-17T07:48:13.580Z"
   },
   {
    "duration": 24,
    "start_time": "2022-03-17T07:48:14.347Z"
   },
   {
    "duration": 21,
    "start_time": "2022-03-17T07:48:14.373Z"
   },
   {
    "duration": 23,
    "start_time": "2022-03-17T07:48:14.396Z"
   },
   {
    "duration": 19,
    "start_time": "2022-03-17T07:48:14.438Z"
   },
   {
    "duration": 18,
    "start_time": "2022-03-17T07:48:14.460Z"
   },
   {
    "duration": 12,
    "start_time": "2022-03-17T07:48:14.480Z"
   },
   {
    "duration": 8,
    "start_time": "2022-03-17T07:48:14.494Z"
   },
   {
    "duration": 9,
    "start_time": "2022-03-17T07:48:14.538Z"
   },
   {
    "duration": 9,
    "start_time": "2022-03-17T07:48:14.549Z"
   },
   {
    "duration": 8,
    "start_time": "2022-03-17T07:48:14.560Z"
   },
   {
    "duration": 8,
    "start_time": "2022-03-17T07:48:14.570Z"
   },
   {
    "duration": 157,
    "start_time": "2022-03-17T07:48:14.580Z"
   },
   {
    "duration": 3,
    "start_time": "2022-03-17T07:48:14.739Z"
   },
   {
    "duration": 7,
    "start_time": "2022-03-17T07:48:14.744Z"
   },
   {
    "duration": 8,
    "start_time": "2022-03-17T07:48:14.752Z"
   },
   {
    "duration": 6,
    "start_time": "2022-03-17T07:48:14.761Z"
   },
   {
    "duration": 7,
    "start_time": "2022-03-17T07:48:14.769Z"
   },
   {
    "duration": 11,
    "start_time": "2022-03-17T07:48:14.778Z"
   },
   {
    "duration": 7,
    "start_time": "2022-03-17T07:48:14.791Z"
   },
   {
    "duration": 12,
    "start_time": "2022-03-17T07:48:14.801Z"
   },
   {
    "duration": 30,
    "start_time": "2022-03-17T07:48:14.815Z"
   },
   {
    "duration": 6,
    "start_time": "2022-03-17T07:48:14.848Z"
   },
   {
    "duration": 25,
    "start_time": "2022-03-17T07:48:14.856Z"
   },
   {
    "duration": 20,
    "start_time": "2022-03-17T07:48:14.882Z"
   },
   {
    "duration": 43,
    "start_time": "2022-03-17T07:48:14.904Z"
   },
   {
    "duration": 5,
    "start_time": "2022-03-17T07:48:14.948Z"
   },
   {
    "duration": 6,
    "start_time": "2022-03-17T07:48:14.955Z"
   },
   {
    "duration": 562,
    "start_time": "2022-03-17T07:48:14.963Z"
   },
   {
    "duration": 602,
    "start_time": "2022-03-17T07:48:15.527Z"
   },
   {
    "duration": 506,
    "start_time": "2022-03-17T07:48:16.131Z"
   },
   {
    "duration": 702,
    "start_time": "2022-03-17T07:48:16.639Z"
   },
   {
    "duration": 598,
    "start_time": "2022-03-17T07:48:17.343Z"
   },
   {
    "duration": 265,
    "start_time": "2022-03-17T07:48:17.943Z"
   },
   {
    "duration": 6,
    "start_time": "2022-03-17T07:48:18.209Z"
   },
   {
    "duration": 644,
    "start_time": "2022-03-17T07:48:18.217Z"
   },
   {
    "duration": 8,
    "start_time": "2022-03-17T07:48:18.862Z"
   },
   {
    "duration": 8,
    "start_time": "2022-03-17T07:48:18.871Z"
   },
   {
    "duration": 7,
    "start_time": "2022-03-17T07:48:18.880Z"
   },
   {
    "duration": 490,
    "start_time": "2022-03-17T07:48:18.889Z"
   },
   {
    "duration": 26,
    "start_time": "2022-03-17T07:48:19.380Z"
   },
   {
    "duration": 37,
    "start_time": "2022-03-17T07:48:19.408Z"
   },
   {
    "duration": 59,
    "start_time": "2022-03-17T07:48:19.447Z"
   },
   {
    "duration": 39,
    "start_time": "2022-03-17T07:48:19.508Z"
   },
   {
    "duration": 5,
    "start_time": "2022-03-17T07:48:19.549Z"
   },
   {
    "duration": 7,
    "start_time": "2022-03-17T07:48:19.555Z"
   },
   {
    "duration": 18,
    "start_time": "2022-03-17T07:48:19.563Z"
   },
   {
    "duration": 4,
    "start_time": "2022-03-17T07:48:19.583Z"
   },
   {
    "duration": 9,
    "start_time": "2022-03-17T07:48:19.588Z"
   },
   {
    "duration": 13,
    "start_time": "2022-03-17T07:48:19.599Z"
   },
   {
    "duration": 33,
    "start_time": "2022-03-17T07:48:19.614Z"
   },
   {
    "duration": 5,
    "start_time": "2022-03-17T07:48:19.648Z"
   },
   {
    "duration": 29,
    "start_time": "2022-03-17T07:48:19.655Z"
   },
   {
    "duration": 4,
    "start_time": "2022-03-17T07:48:19.686Z"
   },
   {
    "duration": 10,
    "start_time": "2022-03-17T07:48:19.692Z"
   },
   {
    "duration": 3,
    "start_time": "2022-03-17T07:48:19.704Z"
   },
   {
    "duration": 31,
    "start_time": "2022-03-17T07:48:19.708Z"
   },
   {
    "duration": 5,
    "start_time": "2022-03-17T07:48:19.740Z"
   },
   {
    "duration": 5,
    "start_time": "2022-03-17T07:48:19.746Z"
   },
   {
    "duration": 9,
    "start_time": "2022-03-17T07:48:19.753Z"
   },
   {
    "duration": 1129,
    "start_time": "2022-03-17T07:48:19.763Z"
   },
   {
    "duration": 7847,
    "start_time": "2022-03-17T07:48:20.894Z"
   },
   {
    "duration": 1495,
    "start_time": "2022-03-17T07:48:28.744Z"
   },
   {
    "duration": 573,
    "start_time": "2022-03-17T07:48:30.242Z"
   },
   {
    "duration": 6,
    "start_time": "2022-03-17T07:48:30.817Z"
   },
   {
    "duration": 3339,
    "start_time": "2022-03-17T07:48:30.837Z"
   },
   {
    "duration": 6,
    "start_time": "2022-03-17T07:48:34.178Z"
   },
   {
    "duration": 358,
    "start_time": "2022-03-17T07:48:34.185Z"
   },
   {
    "duration": 95,
    "start_time": "2022-03-17T07:48:34.545Z"
   },
   {
    "duration": 96,
    "start_time": "2022-03-17T07:48:34.643Z"
   },
   {
    "duration": 22,
    "start_time": "2022-03-17T07:48:34.741Z"
   },
   {
    "duration": 8,
    "start_time": "2022-03-17T07:48:34.765Z"
   },
   {
    "duration": 47,
    "start_time": "2022-03-17T07:48:34.775Z"
   },
   {
    "duration": 33,
    "start_time": "2022-03-17T07:48:34.823Z"
   },
   {
    "duration": 19,
    "start_time": "2022-03-17T07:48:34.858Z"
   },
   {
    "duration": 27,
    "start_time": "2022-03-17T07:48:34.880Z"
   },
   {
    "duration": 17,
    "start_time": "2022-03-17T07:48:34.909Z"
   },
   {
    "duration": 31,
    "start_time": "2022-03-17T07:48:34.928Z"
   },
   {
    "duration": 490,
    "start_time": "2022-03-17T07:48:34.961Z"
   },
   {
    "duration": 3429,
    "start_time": "2022-03-17T07:48:35.453Z"
   },
   {
    "duration": 456,
    "start_time": "2022-03-17T07:48:38.884Z"
   },
   {
    "duration": 3,
    "start_time": "2022-03-17T15:39:51.479Z"
   },
   {
    "duration": 10,
    "start_time": "2022-03-17T15:39:51.484Z"
   },
   {
    "duration": 1728,
    "start_time": "2022-03-17T15:39:51.496Z"
   },
   {
    "duration": 879,
    "start_time": "2022-03-17T15:39:53.227Z"
   },
   {
    "duration": 23,
    "start_time": "2022-03-17T15:39:54.107Z"
   },
   {
    "duration": 20,
    "start_time": "2022-03-17T15:39:54.132Z"
   },
   {
    "duration": 33,
    "start_time": "2022-03-17T15:39:54.153Z"
   },
   {
    "duration": 20,
    "start_time": "2022-03-17T15:39:54.188Z"
   },
   {
    "duration": 16,
    "start_time": "2022-03-17T15:39:54.209Z"
   },
   {
    "duration": 11,
    "start_time": "2022-03-17T15:39:54.226Z"
   },
   {
    "duration": 7,
    "start_time": "2022-03-17T15:39:54.239Z"
   },
   {
    "duration": 7,
    "start_time": "2022-03-17T15:39:54.282Z"
   },
   {
    "duration": 6,
    "start_time": "2022-03-17T15:39:54.291Z"
   },
   {
    "duration": 6,
    "start_time": "2022-03-17T15:39:54.299Z"
   },
   {
    "duration": 6,
    "start_time": "2022-03-17T15:39:54.307Z"
   },
   {
    "duration": 138,
    "start_time": "2022-03-17T15:39:54.315Z"
   },
   {
    "duration": 2,
    "start_time": "2022-03-17T15:39:54.454Z"
   },
   {
    "duration": 4,
    "start_time": "2022-03-17T15:39:54.458Z"
   },
   {
    "duration": 6,
    "start_time": "2022-03-17T15:39:54.464Z"
   },
   {
    "duration": 2,
    "start_time": "2022-03-17T15:39:54.481Z"
   },
   {
    "duration": 7,
    "start_time": "2022-03-17T15:39:54.484Z"
   },
   {
    "duration": 11,
    "start_time": "2022-03-17T15:39:54.492Z"
   },
   {
    "duration": 5,
    "start_time": "2022-03-17T15:39:54.504Z"
   },
   {
    "duration": 12,
    "start_time": "2022-03-17T15:39:54.510Z"
   },
   {
    "duration": 9,
    "start_time": "2022-03-17T15:39:54.523Z"
   },
   {
    "duration": 6,
    "start_time": "2022-03-17T15:39:54.533Z"
   },
   {
    "duration": 58,
    "start_time": "2022-03-17T15:39:54.541Z"
   },
   {
    "duration": 16,
    "start_time": "2022-03-17T15:39:54.600Z"
   },
   {
    "duration": 8,
    "start_time": "2022-03-17T15:39:54.618Z"
   },
   {
    "duration": 3,
    "start_time": "2022-03-17T15:39:54.631Z"
   },
   {
    "duration": 13,
    "start_time": "2022-03-17T15:39:54.636Z"
   },
   {
    "duration": 789,
    "start_time": "2022-03-17T15:39:54.651Z"
   },
   {
    "duration": 544,
    "start_time": "2022-03-17T15:39:55.442Z"
   },
   {
    "duration": 458,
    "start_time": "2022-03-17T15:39:55.988Z"
   },
   {
    "duration": 665,
    "start_time": "2022-03-17T15:39:56.448Z"
   },
   {
    "duration": 524,
    "start_time": "2022-03-17T15:39:57.114Z"
   },
   {
    "duration": 235,
    "start_time": "2022-03-17T15:39:57.640Z"
   },
   {
    "duration": 6,
    "start_time": "2022-03-17T15:39:57.880Z"
   },
   {
    "duration": 588,
    "start_time": "2022-03-17T15:39:57.887Z"
   },
   {
    "duration": 7,
    "start_time": "2022-03-17T15:39:58.481Z"
   },
   {
    "duration": 7,
    "start_time": "2022-03-17T15:39:58.489Z"
   },
   {
    "duration": 8,
    "start_time": "2022-03-17T15:39:58.498Z"
   },
   {
    "duration": 455,
    "start_time": "2022-03-17T15:39:58.508Z"
   },
   {
    "duration": 29,
    "start_time": "2022-03-17T15:39:58.965Z"
   },
   {
    "duration": 29,
    "start_time": "2022-03-17T15:39:58.996Z"
   },
   {
    "duration": 78,
    "start_time": "2022-03-17T15:39:59.027Z"
   },
   {
    "duration": 21,
    "start_time": "2022-03-17T15:39:59.108Z"
   },
   {
    "duration": 5,
    "start_time": "2022-03-17T15:39:59.131Z"
   },
   {
    "duration": 6,
    "start_time": "2022-03-17T15:39:59.138Z"
   },
   {
    "duration": 14,
    "start_time": "2022-03-17T15:39:59.146Z"
   },
   {
    "duration": 5,
    "start_time": "2022-03-17T15:39:59.162Z"
   },
   {
    "duration": 12,
    "start_time": "2022-03-17T15:39:59.169Z"
   },
   {
    "duration": 6,
    "start_time": "2022-03-17T15:39:59.182Z"
   },
   {
    "duration": 17,
    "start_time": "2022-03-17T15:39:59.190Z"
   },
   {
    "duration": 5,
    "start_time": "2022-03-17T15:39:59.209Z"
   },
   {
    "duration": 27,
    "start_time": "2022-03-17T15:39:59.216Z"
   },
   {
    "duration": 4,
    "start_time": "2022-03-17T15:39:59.245Z"
   },
   {
    "duration": 35,
    "start_time": "2022-03-17T15:39:59.251Z"
   },
   {
    "duration": 4,
    "start_time": "2022-03-17T15:39:59.287Z"
   },
   {
    "duration": 13,
    "start_time": "2022-03-17T15:39:59.293Z"
   },
   {
    "duration": 5,
    "start_time": "2022-03-17T15:39:59.308Z"
   },
   {
    "duration": 4,
    "start_time": "2022-03-17T15:39:59.315Z"
   },
   {
    "duration": 11,
    "start_time": "2022-03-17T15:39:59.320Z"
   },
   {
    "duration": 3,
    "start_time": "2022-03-17T15:39:59.333Z"
   },
   {
    "duration": 4,
    "start_time": "2022-03-17T15:39:59.338Z"
   },
   {
    "duration": 3,
    "start_time": "2022-03-17T15:39:59.384Z"
   },
   {
    "duration": 8,
    "start_time": "2022-03-17T15:39:59.389Z"
   },
   {
    "duration": 6,
    "start_time": "2022-03-17T15:39:59.398Z"
   },
   {
    "duration": 7,
    "start_time": "2022-03-17T15:39:59.406Z"
   },
   {
    "duration": 1105,
    "start_time": "2022-03-17T15:39:59.414Z"
   },
   {
    "duration": 11337,
    "start_time": "2022-03-17T15:40:00.521Z"
   },
   {
    "duration": 2024,
    "start_time": "2022-03-17T15:40:11.860Z"
   },
   {
    "duration": 564,
    "start_time": "2022-03-17T15:40:13.886Z"
   },
   {
    "duration": 8,
    "start_time": "2022-03-17T15:40:14.452Z"
   },
   {
    "duration": 3601,
    "start_time": "2022-03-17T15:40:14.462Z"
   },
   {
    "duration": 6,
    "start_time": "2022-03-17T15:40:18.065Z"
   },
   {
    "duration": 410,
    "start_time": "2022-03-17T15:40:18.072Z"
   },
   {
    "duration": 103,
    "start_time": "2022-03-17T15:40:18.484Z"
   },
   {
    "duration": 9,
    "start_time": "2022-03-17T15:40:18.589Z"
   },
   {
    "duration": 16,
    "start_time": "2022-03-17T15:40:18.600Z"
   },
   {
    "duration": 7,
    "start_time": "2022-03-17T15:40:18.617Z"
   },
   {
    "duration": 6,
    "start_time": "2022-03-17T15:40:18.625Z"
   },
   {
    "duration": 8,
    "start_time": "2022-03-17T15:40:18.632Z"
   },
   {
    "duration": 15,
    "start_time": "2022-03-17T15:40:18.645Z"
   },
   {
    "duration": 6,
    "start_time": "2022-03-17T15:40:18.662Z"
   },
   {
    "duration": 4,
    "start_time": "2022-03-17T15:40:18.681Z"
   },
   {
    "duration": 18,
    "start_time": "2022-03-17T15:40:18.686Z"
   },
   {
    "duration": 480,
    "start_time": "2022-03-17T15:40:18.706Z"
   },
   {
    "duration": 3257,
    "start_time": "2022-03-17T15:40:19.188Z"
   },
   {
    "duration": 340,
    "start_time": "2022-03-17T15:40:22.446Z"
   },
   {
    "duration": 3,
    "start_time": "2022-03-17T17:14:12.321Z"
   },
   {
    "duration": 2,
    "start_time": "2022-03-17T17:14:12.335Z"
   },
   {
    "duration": 1849,
    "start_time": "2022-03-17T17:14:12.339Z"
   },
   {
    "duration": 1081,
    "start_time": "2022-03-17T17:14:14.190Z"
   },
   {
    "duration": 26,
    "start_time": "2022-03-17T17:14:15.273Z"
   },
   {
    "duration": 18,
    "start_time": "2022-03-17T17:14:15.301Z"
   },
   {
    "duration": 18,
    "start_time": "2022-03-17T17:14:15.321Z"
   },
   {
    "duration": 17,
    "start_time": "2022-03-17T17:14:15.341Z"
   },
   {
    "duration": 17,
    "start_time": "2022-03-17T17:14:15.380Z"
   },
   {
    "duration": 10,
    "start_time": "2022-03-17T17:14:15.399Z"
   },
   {
    "duration": 9,
    "start_time": "2022-03-17T17:14:15.412Z"
   },
   {
    "duration": 26,
    "start_time": "2022-03-17T17:14:15.423Z"
   },
   {
    "duration": 7,
    "start_time": "2022-03-17T17:14:15.451Z"
   },
   {
    "duration": 21,
    "start_time": "2022-03-17T17:14:15.460Z"
   },
   {
    "duration": 7,
    "start_time": "2022-03-17T17:14:15.482Z"
   },
   {
    "duration": 115,
    "start_time": "2022-03-17T17:14:15.490Z"
   },
   {
    "duration": 2,
    "start_time": "2022-03-17T17:14:15.607Z"
   },
   {
    "duration": 7,
    "start_time": "2022-03-17T17:14:15.610Z"
   },
   {
    "duration": 6,
    "start_time": "2022-03-17T17:14:15.618Z"
   },
   {
    "duration": 6,
    "start_time": "2022-03-17T17:14:15.625Z"
   },
   {
    "duration": 5,
    "start_time": "2022-03-17T17:14:15.632Z"
   },
   {
    "duration": 14,
    "start_time": "2022-03-17T17:14:15.638Z"
   },
   {
    "duration": 4,
    "start_time": "2022-03-17T17:14:15.653Z"
   },
   {
    "duration": 28,
    "start_time": "2022-03-17T17:14:15.659Z"
   },
   {
    "duration": 9,
    "start_time": "2022-03-17T17:14:15.689Z"
   },
   {
    "duration": 7,
    "start_time": "2022-03-17T17:14:15.700Z"
   },
   {
    "duration": 21,
    "start_time": "2022-03-17T17:14:15.708Z"
   },
   {
    "duration": 16,
    "start_time": "2022-03-17T17:14:15.731Z"
   },
   {
    "duration": 7,
    "start_time": "2022-03-17T17:14:15.784Z"
   },
   {
    "duration": 2,
    "start_time": "2022-03-17T17:14:15.793Z"
   },
   {
    "duration": 7,
    "start_time": "2022-03-17T17:14:15.797Z"
   },
   {
    "duration": 486,
    "start_time": "2022-03-17T17:14:15.806Z"
   },
   {
    "duration": 534,
    "start_time": "2022-03-17T17:14:16.293Z"
   },
   {
    "duration": 447,
    "start_time": "2022-03-17T17:14:16.829Z"
   },
   {
    "duration": 652,
    "start_time": "2022-03-17T17:14:17.278Z"
   },
   {
    "duration": 512,
    "start_time": "2022-03-17T17:14:17.932Z"
   },
   {
    "duration": 230,
    "start_time": "2022-03-17T17:14:18.446Z"
   },
   {
    "duration": 6,
    "start_time": "2022-03-17T17:14:18.680Z"
   },
   {
    "duration": 576,
    "start_time": "2022-03-17T17:14:18.687Z"
   },
   {
    "duration": 19,
    "start_time": "2022-03-17T17:14:19.264Z"
   },
   {
    "duration": 6,
    "start_time": "2022-03-17T17:14:19.285Z"
   },
   {
    "duration": 6,
    "start_time": "2022-03-17T17:14:19.292Z"
   },
   {
    "duration": 441,
    "start_time": "2022-03-17T17:14:19.299Z"
   },
   {
    "duration": 25,
    "start_time": "2022-03-17T17:14:19.741Z"
   },
   {
    "duration": 26,
    "start_time": "2022-03-17T17:14:19.780Z"
   },
   {
    "duration": 61,
    "start_time": "2022-03-17T17:14:19.808Z"
   },
   {
    "duration": 29,
    "start_time": "2022-03-17T17:14:19.871Z"
   },
   {
    "duration": 5,
    "start_time": "2022-03-17T17:14:19.902Z"
   },
   {
    "duration": 9,
    "start_time": "2022-03-17T17:14:19.909Z"
   },
   {
    "duration": 17,
    "start_time": "2022-03-17T17:14:19.920Z"
   },
   {
    "duration": 4,
    "start_time": "2022-03-17T17:14:19.939Z"
   },
   {
    "duration": 6,
    "start_time": "2022-03-17T17:14:19.944Z"
   },
   {
    "duration": 30,
    "start_time": "2022-03-17T17:14:19.952Z"
   },
   {
    "duration": 20,
    "start_time": "2022-03-17T17:14:19.983Z"
   },
   {
    "duration": 5,
    "start_time": "2022-03-17T17:14:20.005Z"
   },
   {
    "duration": 27,
    "start_time": "2022-03-17T17:14:20.011Z"
   },
   {
    "duration": 5,
    "start_time": "2022-03-17T17:14:20.040Z"
   },
   {
    "duration": 36,
    "start_time": "2022-03-17T17:14:20.046Z"
   },
   {
    "duration": 3,
    "start_time": "2022-03-17T17:14:20.084Z"
   },
   {
    "duration": 19,
    "start_time": "2022-03-17T17:14:20.089Z"
   },
   {
    "duration": 18,
    "start_time": "2022-03-17T17:14:20.110Z"
   },
   {
    "duration": 14,
    "start_time": "2022-03-17T17:14:20.130Z"
   },
   {
    "duration": 13,
    "start_time": "2022-03-17T17:14:20.146Z"
   },
   {
    "duration": 3,
    "start_time": "2022-03-17T17:14:20.161Z"
   },
   {
    "duration": 5,
    "start_time": "2022-03-17T17:14:20.166Z"
   },
   {
    "duration": 10,
    "start_time": "2022-03-17T17:14:20.173Z"
   },
   {
    "duration": 11,
    "start_time": "2022-03-17T17:14:20.185Z"
   },
   {
    "duration": 14,
    "start_time": "2022-03-17T17:14:20.197Z"
   },
   {
    "duration": 9,
    "start_time": "2022-03-17T17:14:20.213Z"
   },
   {
    "duration": 8,
    "start_time": "2022-03-17T17:14:20.224Z"
   },
   {
    "duration": 6,
    "start_time": "2022-03-17T17:14:20.234Z"
   },
   {
    "duration": 8,
    "start_time": "2022-03-17T17:14:20.241Z"
   },
   {
    "duration": 191,
    "start_time": "2022-03-17T17:14:20.250Z"
   },
   {
    "duration": 0,
    "start_time": "2022-03-17T17:14:20.445Z"
   },
   {
    "duration": 0,
    "start_time": "2022-03-17T17:14:20.446Z"
   },
   {
    "duration": 0,
    "start_time": "2022-03-17T17:14:20.448Z"
   },
   {
    "duration": 0,
    "start_time": "2022-03-17T17:14:20.449Z"
   },
   {
    "duration": 0,
    "start_time": "2022-03-17T17:14:20.451Z"
   },
   {
    "duration": 0,
    "start_time": "2022-03-17T17:14:20.452Z"
   },
   {
    "duration": 0,
    "start_time": "2022-03-17T17:14:20.453Z"
   },
   {
    "duration": 0,
    "start_time": "2022-03-17T17:14:20.455Z"
   },
   {
    "duration": 0,
    "start_time": "2022-03-17T17:14:20.456Z"
   },
   {
    "duration": 0,
    "start_time": "2022-03-17T17:14:20.458Z"
   },
   {
    "duration": 0,
    "start_time": "2022-03-17T17:14:20.459Z"
   },
   {
    "duration": 0,
    "start_time": "2022-03-17T17:14:20.460Z"
   },
   {
    "duration": 0,
    "start_time": "2022-03-17T17:14:20.461Z"
   },
   {
    "duration": 0,
    "start_time": "2022-03-17T17:14:20.463Z"
   },
   {
    "duration": 0,
    "start_time": "2022-03-17T17:14:20.464Z"
   },
   {
    "duration": 0,
    "start_time": "2022-03-17T17:14:20.465Z"
   },
   {
    "duration": 0,
    "start_time": "2022-03-17T17:14:20.467Z"
   },
   {
    "duration": 0,
    "start_time": "2022-03-17T17:14:20.468Z"
   },
   {
    "duration": 0,
    "start_time": "2022-03-17T17:14:20.469Z"
   },
   {
    "duration": 0,
    "start_time": "2022-03-17T17:14:20.471Z"
   },
   {
    "duration": 0,
    "start_time": "2022-03-17T17:14:20.472Z"
   },
   {
    "duration": 1,
    "start_time": "2022-03-17T17:14:20.473Z"
   },
   {
    "duration": 4,
    "start_time": "2022-03-17T17:17:38.887Z"
   },
   {
    "duration": 2,
    "start_time": "2022-03-17T17:17:38.895Z"
   },
   {
    "duration": 1766,
    "start_time": "2022-03-17T17:17:38.899Z"
   },
   {
    "duration": 869,
    "start_time": "2022-03-17T17:17:40.667Z"
   },
   {
    "duration": 22,
    "start_time": "2022-03-17T17:17:41.538Z"
   },
   {
    "duration": 36,
    "start_time": "2022-03-17T17:17:41.561Z"
   },
   {
    "duration": 27,
    "start_time": "2022-03-17T17:17:41.599Z"
   },
   {
    "duration": 22,
    "start_time": "2022-03-17T17:17:41.628Z"
   },
   {
    "duration": 41,
    "start_time": "2022-03-17T17:17:41.651Z"
   },
   {
    "duration": 12,
    "start_time": "2022-03-17T17:17:41.694Z"
   },
   {
    "duration": 12,
    "start_time": "2022-03-17T17:17:41.709Z"
   },
   {
    "duration": 6,
    "start_time": "2022-03-17T17:17:41.723Z"
   },
   {
    "duration": 10,
    "start_time": "2022-03-17T17:17:41.731Z"
   },
   {
    "duration": 7,
    "start_time": "2022-03-17T17:17:41.743Z"
   },
   {
    "duration": 32,
    "start_time": "2022-03-17T17:17:41.751Z"
   },
   {
    "duration": 124,
    "start_time": "2022-03-17T17:17:41.784Z"
   },
   {
    "duration": 2,
    "start_time": "2022-03-17T17:17:41.910Z"
   },
   {
    "duration": 5,
    "start_time": "2022-03-17T17:17:41.913Z"
   },
   {
    "duration": 4,
    "start_time": "2022-03-17T17:17:41.920Z"
   },
   {
    "duration": 5,
    "start_time": "2022-03-17T17:17:41.926Z"
   },
   {
    "duration": 4,
    "start_time": "2022-03-17T17:17:41.933Z"
   },
   {
    "duration": 10,
    "start_time": "2022-03-17T17:17:41.939Z"
   },
   {
    "duration": 4,
    "start_time": "2022-03-17T17:17:41.951Z"
   },
   {
    "duration": 32,
    "start_time": "2022-03-17T17:17:41.956Z"
   },
   {
    "duration": 9,
    "start_time": "2022-03-17T17:17:41.990Z"
   },
   {
    "duration": 7,
    "start_time": "2022-03-17T17:17:42.000Z"
   },
   {
    "duration": 22,
    "start_time": "2022-03-17T17:17:42.008Z"
   },
   {
    "duration": 15,
    "start_time": "2022-03-17T17:17:42.032Z"
   },
   {
    "duration": 8,
    "start_time": "2022-03-17T17:17:42.084Z"
   },
   {
    "duration": 3,
    "start_time": "2022-03-17T17:17:42.093Z"
   },
   {
    "duration": 6,
    "start_time": "2022-03-17T17:17:42.097Z"
   },
   {
    "duration": 483,
    "start_time": "2022-03-17T17:17:42.104Z"
   },
   {
    "duration": 540,
    "start_time": "2022-03-17T17:17:42.588Z"
   },
   {
    "duration": 452,
    "start_time": "2022-03-17T17:17:43.129Z"
   },
   {
    "duration": 622,
    "start_time": "2022-03-17T17:17:43.582Z"
   },
   {
    "duration": 544,
    "start_time": "2022-03-17T17:17:44.205Z"
   },
   {
    "duration": 237,
    "start_time": "2022-03-17T17:17:44.751Z"
   },
   {
    "duration": 6,
    "start_time": "2022-03-17T17:17:44.990Z"
   },
   {
    "duration": 577,
    "start_time": "2022-03-17T17:17:44.998Z"
   },
   {
    "duration": 7,
    "start_time": "2022-03-17T17:17:45.581Z"
   },
   {
    "duration": 23,
    "start_time": "2022-03-17T17:17:45.589Z"
   },
   {
    "duration": 8,
    "start_time": "2022-03-17T17:17:45.614Z"
   },
   {
    "duration": 442,
    "start_time": "2022-03-17T17:17:45.623Z"
   },
   {
    "duration": 37,
    "start_time": "2022-03-17T17:17:46.067Z"
   },
   {
    "duration": 37,
    "start_time": "2022-03-17T17:17:46.106Z"
   },
   {
    "duration": 132,
    "start_time": "2022-03-17T17:17:46.145Z"
   },
   {
    "duration": 28,
    "start_time": "2022-03-17T17:17:46.280Z"
   },
   {
    "duration": 5,
    "start_time": "2022-03-17T17:17:46.310Z"
   },
   {
    "duration": 9,
    "start_time": "2022-03-17T17:17:46.316Z"
   },
   {
    "duration": 22,
    "start_time": "2022-03-17T17:17:46.326Z"
   },
   {
    "duration": 11,
    "start_time": "2022-03-17T17:17:46.350Z"
   },
   {
    "duration": 19,
    "start_time": "2022-03-17T17:17:46.363Z"
   },
   {
    "duration": 30,
    "start_time": "2022-03-17T17:17:46.383Z"
   },
   {
    "duration": 32,
    "start_time": "2022-03-17T17:17:46.415Z"
   },
   {
    "duration": 5,
    "start_time": "2022-03-17T17:17:46.481Z"
   },
   {
    "duration": 38,
    "start_time": "2022-03-17T17:17:46.488Z"
   },
   {
    "duration": 4,
    "start_time": "2022-03-17T17:17:46.528Z"
   },
   {
    "duration": 17,
    "start_time": "2022-03-17T17:17:46.582Z"
   },
   {
    "duration": 23,
    "start_time": "2022-03-17T17:17:46.600Z"
   },
   {
    "duration": 57,
    "start_time": "2022-03-17T17:17:46.624Z"
   },
   {
    "duration": 4,
    "start_time": "2022-03-17T17:17:46.683Z"
   },
   {
    "duration": 6,
    "start_time": "2022-03-17T17:17:46.689Z"
   },
   {
    "duration": 25,
    "start_time": "2022-03-17T17:17:46.696Z"
   },
   {
    "duration": 10,
    "start_time": "2022-03-17T17:17:46.724Z"
   },
   {
    "duration": 45,
    "start_time": "2022-03-17T17:17:46.736Z"
   },
   {
    "duration": 3,
    "start_time": "2022-03-17T17:17:46.783Z"
   },
   {
    "duration": 7,
    "start_time": "2022-03-17T17:17:46.787Z"
   },
   {
    "duration": 16,
    "start_time": "2022-03-17T17:17:46.795Z"
   },
   {
    "duration": 29,
    "start_time": "2022-03-17T17:17:46.813Z"
   },
   {
    "duration": 38,
    "start_time": "2022-03-17T17:17:46.843Z"
   },
   {
    "duration": 3,
    "start_time": "2022-03-17T17:17:46.882Z"
   },
   {
    "duration": 16,
    "start_time": "2022-03-17T17:17:46.886Z"
   },
   {
    "duration": 3451,
    "start_time": "2022-03-17T17:17:46.903Z"
   },
   {
    "duration": 199,
    "start_time": "2022-03-17T17:17:50.355Z"
   },
   {
    "duration": 0,
    "start_time": "2022-03-17T17:17:50.557Z"
   },
   {
    "duration": 0,
    "start_time": "2022-03-17T17:17:50.558Z"
   },
   {
    "duration": 0,
    "start_time": "2022-03-17T17:17:50.559Z"
   },
   {
    "duration": 0,
    "start_time": "2022-03-17T17:17:50.560Z"
   },
   {
    "duration": 0,
    "start_time": "2022-03-17T17:17:50.562Z"
   },
   {
    "duration": 0,
    "start_time": "2022-03-17T17:17:50.563Z"
   },
   {
    "duration": 0,
    "start_time": "2022-03-17T17:17:50.564Z"
   },
   {
    "duration": 0,
    "start_time": "2022-03-17T17:17:50.565Z"
   },
   {
    "duration": 0,
    "start_time": "2022-03-17T17:17:50.566Z"
   },
   {
    "duration": 0,
    "start_time": "2022-03-17T17:17:50.568Z"
   },
   {
    "duration": 0,
    "start_time": "2022-03-17T17:17:50.569Z"
   },
   {
    "duration": 0,
    "start_time": "2022-03-17T17:17:50.570Z"
   },
   {
    "duration": 0,
    "start_time": "2022-03-17T17:17:50.571Z"
   },
   {
    "duration": 0,
    "start_time": "2022-03-17T17:17:50.573Z"
   },
   {
    "duration": 0,
    "start_time": "2022-03-17T17:17:50.576Z"
   },
   {
    "duration": 0,
    "start_time": "2022-03-17T17:17:50.577Z"
   },
   {
    "duration": 0,
    "start_time": "2022-03-17T17:17:50.578Z"
   },
   {
    "duration": 0,
    "start_time": "2022-03-17T17:17:50.579Z"
   },
   {
    "duration": 0,
    "start_time": "2022-03-17T17:17:50.580Z"
   },
   {
    "duration": 0,
    "start_time": "2022-03-17T17:17:50.581Z"
   },
   {
    "duration": 0,
    "start_time": "2022-03-17T17:17:50.583Z"
   },
   {
    "duration": 4,
    "start_time": "2022-03-17T17:18:23.828Z"
   },
   {
    "duration": 5,
    "start_time": "2022-03-17T17:18:23.833Z"
   },
   {
    "duration": 1623,
    "start_time": "2022-03-17T17:18:23.845Z"
   },
   {
    "duration": 1866,
    "start_time": "2022-03-17T17:18:25.470Z"
   },
   {
    "duration": 44,
    "start_time": "2022-03-17T17:18:27.337Z"
   },
   {
    "duration": 28,
    "start_time": "2022-03-17T17:18:27.383Z"
   },
   {
    "duration": 31,
    "start_time": "2022-03-17T17:18:27.413Z"
   },
   {
    "duration": 47,
    "start_time": "2022-03-17T17:18:27.446Z"
   },
   {
    "duration": 21,
    "start_time": "2022-03-17T17:18:27.495Z"
   },
   {
    "duration": 15,
    "start_time": "2022-03-17T17:18:27.518Z"
   },
   {
    "duration": 9,
    "start_time": "2022-03-17T17:18:27.535Z"
   },
   {
    "duration": 8,
    "start_time": "2022-03-17T17:18:27.547Z"
   },
   {
    "duration": 10,
    "start_time": "2022-03-17T17:18:27.581Z"
   },
   {
    "duration": 7,
    "start_time": "2022-03-17T17:18:27.592Z"
   },
   {
    "duration": 8,
    "start_time": "2022-03-17T17:18:27.601Z"
   },
   {
    "duration": 135,
    "start_time": "2022-03-17T17:18:27.610Z"
   },
   {
    "duration": 2,
    "start_time": "2022-03-17T17:18:27.746Z"
   },
   {
    "duration": 10,
    "start_time": "2022-03-17T17:18:27.750Z"
   },
   {
    "duration": 5,
    "start_time": "2022-03-17T17:18:27.762Z"
   },
   {
    "duration": 14,
    "start_time": "2022-03-17T17:18:27.768Z"
   },
   {
    "duration": 5,
    "start_time": "2022-03-17T17:18:27.783Z"
   },
   {
    "duration": 12,
    "start_time": "2022-03-17T17:18:27.790Z"
   },
   {
    "duration": 9,
    "start_time": "2022-03-17T17:18:27.803Z"
   },
   {
    "duration": 17,
    "start_time": "2022-03-17T17:18:27.813Z"
   },
   {
    "duration": 11,
    "start_time": "2022-03-17T17:18:27.831Z"
   },
   {
    "duration": 6,
    "start_time": "2022-03-17T17:18:27.843Z"
   },
   {
    "duration": 49,
    "start_time": "2022-03-17T17:18:27.851Z"
   },
   {
    "duration": 16,
    "start_time": "2022-03-17T17:18:27.901Z"
   },
   {
    "duration": 7,
    "start_time": "2022-03-17T17:18:27.918Z"
   },
   {
    "duration": 2,
    "start_time": "2022-03-17T17:18:27.929Z"
   },
   {
    "duration": 8,
    "start_time": "2022-03-17T17:18:27.933Z"
   },
   {
    "duration": 497,
    "start_time": "2022-03-17T17:18:27.942Z"
   },
   {
    "duration": 797,
    "start_time": "2022-03-17T17:18:28.441Z"
   },
   {
    "duration": 695,
    "start_time": "2022-03-17T17:18:29.240Z"
   },
   {
    "duration": 985,
    "start_time": "2022-03-17T17:18:29.937Z"
   },
   {
    "duration": 847,
    "start_time": "2022-03-17T17:18:30.924Z"
   },
   {
    "duration": 341,
    "start_time": "2022-03-17T17:18:31.773Z"
   },
   {
    "duration": 7,
    "start_time": "2022-03-17T17:18:32.116Z"
   },
   {
    "duration": 586,
    "start_time": "2022-03-17T17:18:32.124Z"
   },
   {
    "duration": 8,
    "start_time": "2022-03-17T17:18:32.711Z"
   },
   {
    "duration": 10,
    "start_time": "2022-03-17T17:18:32.720Z"
   },
   {
    "duration": 6,
    "start_time": "2022-03-17T17:18:32.732Z"
   },
   {
    "duration": 442,
    "start_time": "2022-03-17T17:18:32.739Z"
   },
   {
    "duration": 25,
    "start_time": "2022-03-17T17:18:33.183Z"
   },
   {
    "duration": 28,
    "start_time": "2022-03-17T17:18:33.209Z"
   },
   {
    "duration": 91,
    "start_time": "2022-03-17T17:18:33.238Z"
   },
   {
    "duration": 22,
    "start_time": "2022-03-17T17:18:33.331Z"
   },
   {
    "duration": 4,
    "start_time": "2022-03-17T17:18:33.355Z"
   },
   {
    "duration": 11,
    "start_time": "2022-03-17T17:18:33.361Z"
   },
   {
    "duration": 25,
    "start_time": "2022-03-17T17:18:33.373Z"
   },
   {
    "duration": 5,
    "start_time": "2022-03-17T17:18:33.400Z"
   },
   {
    "duration": 32,
    "start_time": "2022-03-17T17:18:33.407Z"
   },
   {
    "duration": 21,
    "start_time": "2022-03-17T17:18:33.441Z"
   },
   {
    "duration": 34,
    "start_time": "2022-03-17T17:18:33.463Z"
   },
   {
    "duration": 16,
    "start_time": "2022-03-17T17:18:33.499Z"
   },
   {
    "duration": 36,
    "start_time": "2022-03-17T17:18:33.516Z"
   },
   {
    "duration": 4,
    "start_time": "2022-03-17T17:18:33.554Z"
   },
   {
    "duration": 27,
    "start_time": "2022-03-17T17:18:33.559Z"
   },
   {
    "duration": 13,
    "start_time": "2022-03-17T17:18:33.588Z"
   },
   {
    "duration": 17,
    "start_time": "2022-03-17T17:18:33.602Z"
   },
   {
    "duration": 17,
    "start_time": "2022-03-17T17:18:33.621Z"
   },
   {
    "duration": 9,
    "start_time": "2022-03-17T17:18:33.639Z"
   },
   {
    "duration": 25,
    "start_time": "2022-03-17T17:18:33.649Z"
   },
   {
    "duration": 6,
    "start_time": "2022-03-17T17:18:33.675Z"
   },
   {
    "duration": 6,
    "start_time": "2022-03-17T17:18:33.682Z"
   },
   {
    "duration": 11,
    "start_time": "2022-03-17T17:18:33.689Z"
   },
   {
    "duration": 5,
    "start_time": "2022-03-17T17:18:33.702Z"
   },
   {
    "duration": 7,
    "start_time": "2022-03-17T17:18:33.708Z"
   },
   {
    "duration": 9,
    "start_time": "2022-03-17T17:18:33.717Z"
   },
   {
    "duration": 7,
    "start_time": "2022-03-17T17:18:33.728Z"
   },
   {
    "duration": 5,
    "start_time": "2022-03-17T17:18:33.737Z"
   },
   {
    "duration": 6,
    "start_time": "2022-03-17T17:18:33.744Z"
   },
   {
    "duration": 3559,
    "start_time": "2022-03-17T17:18:33.752Z"
   },
   {
    "duration": 2810,
    "start_time": "2022-03-17T17:18:37.312Z"
   },
   {
    "duration": 1115,
    "start_time": "2022-03-17T17:18:40.123Z"
   },
   {
    "duration": 9069,
    "start_time": "2022-03-17T17:18:41.240Z"
   },
   {
    "duration": 1370,
    "start_time": "2022-03-17T17:18:50.311Z"
   },
   {
    "duration": 731,
    "start_time": "2022-03-17T17:18:51.686Z"
   },
   {
    "duration": 7,
    "start_time": "2022-03-17T17:18:52.419Z"
   },
   {
    "duration": 4565,
    "start_time": "2022-03-17T17:18:52.428Z"
   },
   {
    "duration": 7,
    "start_time": "2022-03-17T17:18:56.995Z"
   },
   {
    "duration": 381,
    "start_time": "2022-03-17T17:18:57.004Z"
   },
   {
    "duration": 92,
    "start_time": "2022-03-17T17:18:57.390Z"
   },
   {
    "duration": 103,
    "start_time": "2022-03-17T17:18:57.490Z"
   },
   {
    "duration": 5,
    "start_time": "2022-03-17T17:18:57.595Z"
   },
   {
    "duration": 4,
    "start_time": "2022-03-17T17:18:57.602Z"
   },
   {
    "duration": 5,
    "start_time": "2022-03-17T17:18:57.607Z"
   },
   {
    "duration": 7,
    "start_time": "2022-03-17T17:18:57.614Z"
   },
   {
    "duration": 6,
    "start_time": "2022-03-17T17:18:57.622Z"
   },
   {
    "duration": 8,
    "start_time": "2022-03-17T17:18:57.629Z"
   },
   {
    "duration": 6,
    "start_time": "2022-03-17T17:18:57.638Z"
   },
   {
    "duration": 9,
    "start_time": "2022-03-17T17:18:57.645Z"
   },
   {
    "duration": 450,
    "start_time": "2022-03-17T17:18:57.656Z"
   },
   {
    "duration": 3317,
    "start_time": "2022-03-17T17:18:58.107Z"
   },
   {
    "duration": 555,
    "start_time": "2022-03-17T17:19:01.426Z"
   },
   {
    "duration": 6,
    "start_time": "2022-03-17T17:22:06.268Z"
   },
   {
    "duration": 552,
    "start_time": "2022-03-17T17:24:03.620Z"
   },
   {
    "duration": 555,
    "start_time": "2022-03-17T17:24:13.878Z"
   },
   {
    "duration": 1535,
    "start_time": "2022-03-17T17:24:37.889Z"
   },
   {
    "duration": 1500,
    "start_time": "2022-03-17T17:24:47.463Z"
   },
   {
    "duration": 3056,
    "start_time": "2022-03-17T17:35:06.370Z"
   },
   {
    "duration": 2752,
    "start_time": "2022-03-17T17:35:28.930Z"
   },
   {
    "duration": 2963,
    "start_time": "2022-03-17T17:36:02.451Z"
   },
   {
    "duration": 2808,
    "start_time": "2022-03-17T17:36:57.731Z"
   },
   {
    "duration": 2727,
    "start_time": "2022-03-17T17:37:02.691Z"
   },
   {
    "duration": 3,
    "start_time": "2022-03-17T17:37:44.157Z"
   },
   {
    "duration": 70924,
    "start_time": "2022-03-17T17:37:46.229Z"
   },
   {
    "duration": 2,
    "start_time": "2022-03-17T17:39:24.509Z"
   },
   {
    "duration": 13286,
    "start_time": "2022-03-17T17:39:26.700Z"
   },
   {
    "duration": 3,
    "start_time": "2022-03-17T17:40:14.030Z"
   },
   {
    "duration": 1146,
    "start_time": "2022-03-17T17:40:16.935Z"
   },
   {
    "duration": 4,
    "start_time": "2022-03-17T17:40:34.187Z"
   },
   {
    "duration": 7,
    "start_time": "2022-03-17T17:40:34.193Z"
   },
   {
    "duration": 1633,
    "start_time": "2022-03-17T17:40:34.201Z"
   },
   {
    "duration": 834,
    "start_time": "2022-03-17T17:40:35.836Z"
   },
   {
    "duration": 28,
    "start_time": "2022-03-17T17:40:36.672Z"
   },
   {
    "duration": 17,
    "start_time": "2022-03-17T17:40:36.702Z"
   },
   {
    "duration": 18,
    "start_time": "2022-03-17T17:40:36.720Z"
   },
   {
    "duration": 19,
    "start_time": "2022-03-17T17:40:36.739Z"
   },
   {
    "duration": 16,
    "start_time": "2022-03-17T17:40:36.781Z"
   },
   {
    "duration": 12,
    "start_time": "2022-03-17T17:40:36.798Z"
   },
   {
    "duration": 7,
    "start_time": "2022-03-17T17:40:36.812Z"
   },
   {
    "duration": 14,
    "start_time": "2022-03-17T17:40:36.821Z"
   },
   {
    "duration": 25,
    "start_time": "2022-03-17T17:40:36.836Z"
   },
   {
    "duration": 20,
    "start_time": "2022-03-17T17:40:36.863Z"
   },
   {
    "duration": 8,
    "start_time": "2022-03-17T17:40:36.885Z"
   },
   {
    "duration": 120,
    "start_time": "2022-03-17T17:40:36.895Z"
   },
   {
    "duration": 3,
    "start_time": "2022-03-17T17:40:37.017Z"
   },
   {
    "duration": 5,
    "start_time": "2022-03-17T17:40:37.022Z"
   },
   {
    "duration": 4,
    "start_time": "2022-03-17T17:40:37.029Z"
   },
   {
    "duration": 4,
    "start_time": "2022-03-17T17:40:37.035Z"
   },
   {
    "duration": 8,
    "start_time": "2022-03-17T17:40:37.041Z"
   },
   {
    "duration": 14,
    "start_time": "2022-03-17T17:40:37.050Z"
   },
   {
    "duration": 4,
    "start_time": "2022-03-17T17:40:37.081Z"
   },
   {
    "duration": 11,
    "start_time": "2022-03-17T17:40:37.089Z"
   },
   {
    "duration": 8,
    "start_time": "2022-03-17T17:40:37.101Z"
   },
   {
    "duration": 12,
    "start_time": "2022-03-17T17:40:37.110Z"
   },
   {
    "duration": 25,
    "start_time": "2022-03-17T17:40:37.124Z"
   },
   {
    "duration": 43,
    "start_time": "2022-03-17T17:40:37.151Z"
   },
   {
    "duration": 9,
    "start_time": "2022-03-17T17:40:37.196Z"
   },
   {
    "duration": 3,
    "start_time": "2022-03-17T17:40:37.207Z"
   },
   {
    "duration": 6,
    "start_time": "2022-03-17T17:40:37.211Z"
   },
   {
    "duration": 493,
    "start_time": "2022-03-17T17:40:37.219Z"
   },
   {
    "duration": 541,
    "start_time": "2022-03-17T17:40:37.713Z"
   },
   {
    "duration": 469,
    "start_time": "2022-03-17T17:40:38.255Z"
   },
   {
    "duration": 663,
    "start_time": "2022-03-17T17:40:38.725Z"
   },
   {
    "duration": 541,
    "start_time": "2022-03-17T17:40:39.390Z"
   },
   {
    "duration": 250,
    "start_time": "2022-03-17T17:40:39.933Z"
   },
   {
    "duration": 7,
    "start_time": "2022-03-17T17:40:40.185Z"
   },
   {
    "duration": 841,
    "start_time": "2022-03-17T17:40:40.194Z"
   },
   {
    "duration": 10,
    "start_time": "2022-03-17T17:40:41.037Z"
   },
   {
    "duration": 13,
    "start_time": "2022-03-17T17:40:41.049Z"
   },
   {
    "duration": 21,
    "start_time": "2022-03-17T17:40:41.064Z"
   },
   {
    "duration": 478,
    "start_time": "2022-03-17T17:40:41.086Z"
   },
   {
    "duration": 47,
    "start_time": "2022-03-17T17:40:41.566Z"
   },
   {
    "duration": 34,
    "start_time": "2022-03-17T17:40:41.614Z"
   },
   {
    "duration": 123,
    "start_time": "2022-03-17T17:40:41.651Z"
   },
   {
    "duration": 21,
    "start_time": "2022-03-17T17:40:41.775Z"
   },
   {
    "duration": 4,
    "start_time": "2022-03-17T17:40:41.798Z"
   },
   {
    "duration": 10,
    "start_time": "2022-03-17T17:40:41.804Z"
   },
   {
    "duration": 19,
    "start_time": "2022-03-17T17:40:41.816Z"
   },
   {
    "duration": 21,
    "start_time": "2022-03-17T17:40:41.836Z"
   },
   {
    "duration": 13,
    "start_time": "2022-03-17T17:40:41.859Z"
   },
   {
    "duration": 9,
    "start_time": "2022-03-17T17:40:41.873Z"
   },
   {
    "duration": 28,
    "start_time": "2022-03-17T17:40:41.884Z"
   },
   {
    "duration": 4,
    "start_time": "2022-03-17T17:40:41.914Z"
   },
   {
    "duration": 27,
    "start_time": "2022-03-17T17:40:41.920Z"
   },
   {
    "duration": 5,
    "start_time": "2022-03-17T17:40:41.948Z"
   },
   {
    "duration": 11,
    "start_time": "2022-03-17T17:40:41.955Z"
   },
   {
    "duration": 13,
    "start_time": "2022-03-17T17:40:41.968Z"
   },
   {
    "duration": 8,
    "start_time": "2022-03-17T17:40:41.983Z"
   },
   {
    "duration": 4,
    "start_time": "2022-03-17T17:40:41.993Z"
   },
   {
    "duration": 6,
    "start_time": "2022-03-17T17:40:41.999Z"
   },
   {
    "duration": 8,
    "start_time": "2022-03-17T17:40:42.007Z"
   },
   {
    "duration": 4,
    "start_time": "2022-03-17T17:40:42.016Z"
   },
   {
    "duration": 5,
    "start_time": "2022-03-17T17:40:42.021Z"
   },
   {
    "duration": 6,
    "start_time": "2022-03-17T17:40:42.028Z"
   },
   {
    "duration": 4,
    "start_time": "2022-03-17T17:40:42.036Z"
   },
   {
    "duration": 5,
    "start_time": "2022-03-17T17:40:42.041Z"
   },
   {
    "duration": 31,
    "start_time": "2022-03-17T17:40:42.051Z"
   },
   {
    "duration": 5,
    "start_time": "2022-03-17T17:40:42.084Z"
   },
   {
    "duration": 8,
    "start_time": "2022-03-17T17:40:42.090Z"
   },
   {
    "duration": 7,
    "start_time": "2022-03-17T17:40:42.100Z"
   },
   {
    "duration": 1559,
    "start_time": "2022-03-17T17:40:42.109Z"
   },
   {
    "duration": 1293,
    "start_time": "2022-03-17T17:40:43.670Z"
   },
   {
    "duration": 1536,
    "start_time": "2022-03-17T17:40:44.965Z"
   },
   {
    "duration": 1520,
    "start_time": "2022-03-17T17:40:46.503Z"
   },
   {
    "duration": 1466,
    "start_time": "2022-03-17T17:40:48.026Z"
   },
   {
    "duration": 10768,
    "start_time": "2022-03-17T17:40:49.494Z"
   },
   {
    "duration": 2023,
    "start_time": "2022-03-17T17:41:00.264Z"
   },
   {
    "duration": 662,
    "start_time": "2022-03-17T17:41:02.291Z"
   },
   {
    "duration": 8,
    "start_time": "2022-03-17T17:41:02.955Z"
   },
   {
    "duration": 3648,
    "start_time": "2022-03-17T17:41:02.965Z"
   },
   {
    "duration": 7,
    "start_time": "2022-03-17T17:41:06.615Z"
   },
   {
    "duration": 360,
    "start_time": "2022-03-17T17:41:06.624Z"
   },
   {
    "duration": 96,
    "start_time": "2022-03-17T17:41:06.987Z"
   },
   {
    "duration": 6,
    "start_time": "2022-03-17T17:41:07.085Z"
   },
   {
    "duration": 10,
    "start_time": "2022-03-17T17:41:07.093Z"
   },
   {
    "duration": 76,
    "start_time": "2022-03-17T17:41:07.105Z"
   },
   {
    "duration": 3,
    "start_time": "2022-03-17T17:41:07.183Z"
   },
   {
    "duration": 10,
    "start_time": "2022-03-17T17:41:07.188Z"
   },
   {
    "duration": 8,
    "start_time": "2022-03-17T17:41:07.199Z"
   },
   {
    "duration": 7,
    "start_time": "2022-03-17T17:41:07.210Z"
   },
   {
    "duration": 6,
    "start_time": "2022-03-17T17:41:07.218Z"
   },
   {
    "duration": 7,
    "start_time": "2022-03-17T17:41:07.226Z"
   },
   {
    "duration": 636,
    "start_time": "2022-03-17T17:41:07.234Z"
   },
   {
    "duration": 4535,
    "start_time": "2022-03-17T17:41:07.880Z"
   },
   {
    "duration": 276,
    "start_time": "2022-03-17T17:41:12.417Z"
   },
   {
    "duration": 3,
    "start_time": "2022-03-17T17:43:32.556Z"
   },
   {
    "duration": 1808,
    "start_time": "2022-03-17T17:43:34.689Z"
   },
   {
    "duration": 3,
    "start_time": "2022-03-17T17:43:52.656Z"
   },
   {
    "duration": 1928,
    "start_time": "2022-03-17T17:43:55.348Z"
   },
   {
    "duration": 3,
    "start_time": "2022-03-17T17:44:46.369Z"
   },
   {
    "duration": 13539,
    "start_time": "2022-03-17T17:44:48.548Z"
   },
   {
    "duration": 3,
    "start_time": "2022-03-17T17:45:11.150Z"
   },
   {
    "duration": 29837,
    "start_time": "2022-03-17T17:45:13.421Z"
   },
   {
    "duration": 31228,
    "start_time": "2022-03-17T17:45:58.476Z"
   },
   {
    "duration": 3,
    "start_time": "2022-03-17T17:46:50.998Z"
   },
   {
    "duration": 2,
    "start_time": "2022-03-17T17:47:01.729Z"
   },
   {
    "duration": 5364,
    "start_time": "2022-03-17T17:47:03.608Z"
   },
   {
    "duration": 6991,
    "start_time": "2022-03-17T17:47:13.248Z"
   },
   {
    "duration": 5119,
    "start_time": "2022-03-17T17:51:40.930Z"
   },
   {
    "duration": 5570,
    "start_time": "2022-03-17T17:51:48.930Z"
   },
   {
    "duration": 11794,
    "start_time": "2022-03-17T17:52:52.708Z"
   },
   {
    "duration": 12055,
    "start_time": "2022-03-17T17:53:09.100Z"
   },
   {
    "duration": 4,
    "start_time": "2022-03-17T18:03:52.541Z"
   },
   {
    "duration": 4,
    "start_time": "2022-03-17T18:03:52.547Z"
   },
   {
    "duration": 1675,
    "start_time": "2022-03-17T18:03:52.552Z"
   },
   {
    "duration": 917,
    "start_time": "2022-03-17T18:03:54.228Z"
   },
   {
    "duration": 23,
    "start_time": "2022-03-17T18:03:55.147Z"
   },
   {
    "duration": 33,
    "start_time": "2022-03-17T18:03:55.171Z"
   },
   {
    "duration": 19,
    "start_time": "2022-03-17T18:03:55.206Z"
   },
   {
    "duration": 17,
    "start_time": "2022-03-17T18:03:55.227Z"
   },
   {
    "duration": 41,
    "start_time": "2022-03-17T18:03:55.246Z"
   },
   {
    "duration": 15,
    "start_time": "2022-03-17T18:03:55.289Z"
   },
   {
    "duration": 9,
    "start_time": "2022-03-17T18:03:55.306Z"
   },
   {
    "duration": 9,
    "start_time": "2022-03-17T18:03:55.317Z"
   },
   {
    "duration": 11,
    "start_time": "2022-03-17T18:03:55.328Z"
   },
   {
    "duration": 7,
    "start_time": "2022-03-17T18:03:55.341Z"
   },
   {
    "duration": 40,
    "start_time": "2022-03-17T18:03:55.349Z"
   },
   {
    "duration": 138,
    "start_time": "2022-03-17T18:03:55.392Z"
   },
   {
    "duration": 2,
    "start_time": "2022-03-17T18:03:55.532Z"
   },
   {
    "duration": 4,
    "start_time": "2022-03-17T18:03:55.536Z"
   },
   {
    "duration": 4,
    "start_time": "2022-03-17T18:03:55.541Z"
   },
   {
    "duration": 6,
    "start_time": "2022-03-17T18:03:55.547Z"
   },
   {
    "duration": 4,
    "start_time": "2022-03-17T18:03:55.554Z"
   },
   {
    "duration": 11,
    "start_time": "2022-03-17T18:03:55.560Z"
   },
   {
    "duration": 9,
    "start_time": "2022-03-17T18:03:55.573Z"
   },
   {
    "duration": 22,
    "start_time": "2022-03-17T18:03:55.584Z"
   },
   {
    "duration": 10,
    "start_time": "2022-03-17T18:03:55.607Z"
   },
   {
    "duration": 7,
    "start_time": "2022-03-17T18:03:55.618Z"
   },
   {
    "duration": 20,
    "start_time": "2022-03-17T18:03:55.626Z"
   },
   {
    "duration": 42,
    "start_time": "2022-03-17T18:03:55.648Z"
   },
   {
    "duration": 9,
    "start_time": "2022-03-17T18:03:55.692Z"
   },
   {
    "duration": 3,
    "start_time": "2022-03-17T18:03:55.703Z"
   },
   {
    "duration": 5,
    "start_time": "2022-03-17T18:03:55.708Z"
   },
   {
    "duration": 722,
    "start_time": "2022-03-17T18:03:55.717Z"
   },
   {
    "duration": 783,
    "start_time": "2022-03-17T18:03:56.442Z"
   },
   {
    "duration": 689,
    "start_time": "2022-03-17T18:03:57.227Z"
   },
   {
    "duration": 963,
    "start_time": "2022-03-17T18:03:57.918Z"
   },
   {
    "duration": 741,
    "start_time": "2022-03-17T18:03:58.883Z"
   },
   {
    "duration": 261,
    "start_time": "2022-03-17T18:03:59.627Z"
   },
   {
    "duration": 7,
    "start_time": "2022-03-17T18:03:59.890Z"
   },
   {
    "duration": 632,
    "start_time": "2022-03-17T18:03:59.898Z"
   },
   {
    "duration": 8,
    "start_time": "2022-03-17T18:04:00.531Z"
   },
   {
    "duration": 7,
    "start_time": "2022-03-17T18:04:00.544Z"
   },
   {
    "duration": 14,
    "start_time": "2022-03-17T18:04:00.553Z"
   },
   {
    "duration": 477,
    "start_time": "2022-03-17T18:04:00.581Z"
   },
   {
    "duration": 37,
    "start_time": "2022-03-17T18:04:01.060Z"
   },
   {
    "duration": 33,
    "start_time": "2022-03-17T18:04:01.099Z"
   },
   {
    "duration": 92,
    "start_time": "2022-03-17T18:04:01.134Z"
   },
   {
    "duration": 23,
    "start_time": "2022-03-17T18:04:01.227Z"
   },
   {
    "duration": 4,
    "start_time": "2022-03-17T18:04:01.252Z"
   },
   {
    "duration": 11,
    "start_time": "2022-03-17T18:04:01.258Z"
   },
   {
    "duration": 34,
    "start_time": "2022-03-17T18:04:01.271Z"
   },
   {
    "duration": 19,
    "start_time": "2022-03-17T18:04:01.307Z"
   },
   {
    "duration": 28,
    "start_time": "2022-03-17T18:04:01.328Z"
   },
   {
    "duration": 29,
    "start_time": "2022-03-17T18:04:01.357Z"
   },
   {
    "duration": 73,
    "start_time": "2022-03-17T18:04:01.388Z"
   },
   {
    "duration": 7,
    "start_time": "2022-03-17T18:04:01.463Z"
   },
   {
    "duration": 47,
    "start_time": "2022-03-17T18:04:01.471Z"
   },
   {
    "duration": 7,
    "start_time": "2022-03-17T18:04:01.520Z"
   },
   {
    "duration": 14,
    "start_time": "2022-03-17T18:04:01.528Z"
   },
   {
    "duration": 9,
    "start_time": "2022-03-17T18:04:01.544Z"
   },
   {
    "duration": 11,
    "start_time": "2022-03-17T18:04:01.555Z"
   },
   {
    "duration": 7,
    "start_time": "2022-03-17T18:04:01.568Z"
   },
   {
    "duration": 26,
    "start_time": "2022-03-17T18:04:01.577Z"
   },
   {
    "duration": 13,
    "start_time": "2022-03-17T18:04:01.605Z"
   },
   {
    "duration": 5,
    "start_time": "2022-03-17T18:04:01.620Z"
   },
   {
    "duration": 8,
    "start_time": "2022-03-17T18:04:01.627Z"
   },
   {
    "duration": 20,
    "start_time": "2022-03-17T18:04:01.636Z"
   },
   {
    "duration": 26,
    "start_time": "2022-03-17T18:04:01.657Z"
   },
   {
    "duration": 33,
    "start_time": "2022-03-17T18:04:01.684Z"
   },
   {
    "duration": 15,
    "start_time": "2022-03-17T18:04:01.719Z"
   },
   {
    "duration": 21,
    "start_time": "2022-03-17T18:04:01.736Z"
   },
   {
    "duration": 20,
    "start_time": "2022-03-17T18:04:01.759Z"
   },
   {
    "duration": 34,
    "start_time": "2022-03-17T18:04:01.781Z"
   },
   {
    "duration": 5497,
    "start_time": "2022-03-17T18:04:01.817Z"
   },
   {
    "duration": 5415,
    "start_time": "2022-03-17T18:04:07.316Z"
   },
   {
    "duration": 13171,
    "start_time": "2022-03-17T18:04:12.733Z"
   },
   {
    "duration": 12836,
    "start_time": "2022-03-17T18:04:25.905Z"
   },
   {
    "duration": 1172,
    "start_time": "2022-03-17T18:04:38.743Z"
   },
   {
    "duration": 10786,
    "start_time": "2022-03-17T18:04:39.917Z"
   },
   {
    "duration": 1585,
    "start_time": "2022-03-17T18:04:50.705Z"
   },
   {
    "duration": 746,
    "start_time": "2022-03-17T18:04:52.295Z"
   },
   {
    "duration": 7,
    "start_time": "2022-03-17T18:04:53.043Z"
   },
   {
    "duration": 4560,
    "start_time": "2022-03-17T18:04:53.052Z"
   },
   {
    "duration": 7,
    "start_time": "2022-03-17T18:04:57.614Z"
   },
   {
    "duration": 371,
    "start_time": "2022-03-17T18:04:57.622Z"
   },
   {
    "duration": 90,
    "start_time": "2022-03-17T18:04:57.997Z"
   },
   {
    "duration": 14,
    "start_time": "2022-03-17T18:04:58.089Z"
   },
   {
    "duration": 5,
    "start_time": "2022-03-17T18:04:58.105Z"
   },
   {
    "duration": 6,
    "start_time": "2022-03-17T18:04:58.111Z"
   },
   {
    "duration": 8,
    "start_time": "2022-03-17T18:04:58.119Z"
   },
   {
    "duration": 5,
    "start_time": "2022-03-17T18:04:58.128Z"
   },
   {
    "duration": 7,
    "start_time": "2022-03-17T18:04:58.134Z"
   },
   {
    "duration": 4,
    "start_time": "2022-03-17T18:04:58.142Z"
   },
   {
    "duration": 18,
    "start_time": "2022-03-17T18:04:58.182Z"
   },
   {
    "duration": 5,
    "start_time": "2022-03-17T18:04:58.201Z"
   },
   {
    "duration": 497,
    "start_time": "2022-03-17T18:04:58.207Z"
   },
   {
    "duration": 3572,
    "start_time": "2022-03-17T18:04:58.706Z"
   },
   {
    "duration": 504,
    "start_time": "2022-03-17T18:05:02.282Z"
   },
   {
    "duration": 3,
    "start_time": "2022-03-17T18:05:15.534Z"
   },
   {
    "duration": 4,
    "start_time": "2022-03-17T18:05:15.539Z"
   },
   {
    "duration": 1661,
    "start_time": "2022-03-17T18:05:15.548Z"
   },
   {
    "duration": 1013,
    "start_time": "2022-03-17T18:05:17.211Z"
   },
   {
    "duration": 21,
    "start_time": "2022-03-17T18:05:18.225Z"
   },
   {
    "duration": 19,
    "start_time": "2022-03-17T18:05:18.248Z"
   },
   {
    "duration": 25,
    "start_time": "2022-03-17T18:05:18.281Z"
   },
   {
    "duration": 17,
    "start_time": "2022-03-17T18:05:18.307Z"
   },
   {
    "duration": 16,
    "start_time": "2022-03-17T18:05:18.325Z"
   },
   {
    "duration": 44,
    "start_time": "2022-03-17T18:05:18.342Z"
   },
   {
    "duration": 10,
    "start_time": "2022-03-17T18:05:18.388Z"
   },
   {
    "duration": 8,
    "start_time": "2022-03-17T18:05:18.402Z"
   },
   {
    "duration": 7,
    "start_time": "2022-03-17T18:05:18.412Z"
   },
   {
    "duration": 6,
    "start_time": "2022-03-17T18:05:18.420Z"
   },
   {
    "duration": 7,
    "start_time": "2022-03-17T18:05:18.428Z"
   },
   {
    "duration": 159,
    "start_time": "2022-03-17T18:05:18.436Z"
   },
   {
    "duration": 3,
    "start_time": "2022-03-17T18:05:18.597Z"
   },
   {
    "duration": 4,
    "start_time": "2022-03-17T18:05:18.602Z"
   },
   {
    "duration": 4,
    "start_time": "2022-03-17T18:05:18.607Z"
   },
   {
    "duration": 5,
    "start_time": "2022-03-17T18:05:18.613Z"
   },
   {
    "duration": 5,
    "start_time": "2022-03-17T18:05:18.619Z"
   },
   {
    "duration": 10,
    "start_time": "2022-03-17T18:05:18.625Z"
   },
   {
    "duration": 4,
    "start_time": "2022-03-17T18:05:18.636Z"
   },
   {
    "duration": 11,
    "start_time": "2022-03-17T18:05:18.642Z"
   },
   {
    "duration": 14,
    "start_time": "2022-03-17T18:05:18.682Z"
   },
   {
    "duration": 10,
    "start_time": "2022-03-17T18:05:18.697Z"
   },
   {
    "duration": 19,
    "start_time": "2022-03-17T18:05:18.709Z"
   },
   {
    "duration": 14,
    "start_time": "2022-03-17T18:05:18.729Z"
   },
   {
    "duration": 44,
    "start_time": "2022-03-17T18:05:18.745Z"
   },
   {
    "duration": 3,
    "start_time": "2022-03-17T18:05:18.795Z"
   },
   {
    "duration": 4,
    "start_time": "2022-03-17T18:05:18.800Z"
   },
   {
    "duration": 512,
    "start_time": "2022-03-17T18:05:18.806Z"
   },
   {
    "duration": 588,
    "start_time": "2022-03-17T18:05:19.319Z"
   },
   {
    "duration": 505,
    "start_time": "2022-03-17T18:05:19.909Z"
   },
   {
    "duration": 1487,
    "start_time": "2022-03-17T18:05:20.416Z"
   },
   {
    "duration": 1319,
    "start_time": "2022-03-17T18:05:21.905Z"
   },
   {
    "duration": 678,
    "start_time": "2022-03-17T18:05:23.225Z"
   },
   {
    "duration": 7,
    "start_time": "2022-03-17T18:05:23.905Z"
   },
   {
    "duration": 889,
    "start_time": "2022-03-17T18:05:23.914Z"
   },
   {
    "duration": 8,
    "start_time": "2022-03-17T18:05:24.805Z"
   },
   {
    "duration": 7,
    "start_time": "2022-03-17T18:05:24.814Z"
   },
   {
    "duration": 7,
    "start_time": "2022-03-17T18:05:24.823Z"
   },
   {
    "duration": 507,
    "start_time": "2022-03-17T18:05:24.832Z"
   },
   {
    "duration": 26,
    "start_time": "2022-03-17T18:05:25.341Z"
   },
   {
    "duration": 41,
    "start_time": "2022-03-17T18:05:25.369Z"
   },
   {
    "duration": 125,
    "start_time": "2022-03-17T18:05:25.412Z"
   },
   {
    "duration": 23,
    "start_time": "2022-03-17T18:05:25.539Z"
   },
   {
    "duration": 4,
    "start_time": "2022-03-17T18:05:25.563Z"
   },
   {
    "duration": 10,
    "start_time": "2022-03-17T18:05:25.569Z"
   },
   {
    "duration": 24,
    "start_time": "2022-03-17T18:05:25.581Z"
   },
   {
    "duration": 4,
    "start_time": "2022-03-17T18:05:25.607Z"
   },
   {
    "duration": 10,
    "start_time": "2022-03-17T18:05:25.613Z"
   },
   {
    "duration": 8,
    "start_time": "2022-03-17T18:05:25.625Z"
   },
   {
    "duration": 20,
    "start_time": "2022-03-17T18:05:25.635Z"
   },
   {
    "duration": 4,
    "start_time": "2022-03-17T18:05:25.657Z"
   },
   {
    "duration": 268,
    "start_time": "2022-03-17T18:05:25.663Z"
   },
   {
    "duration": 10,
    "start_time": "2022-03-17T18:05:25.935Z"
   },
   {
    "duration": 25,
    "start_time": "2022-03-17T18:05:25.947Z"
   },
   {
    "duration": 4,
    "start_time": "2022-03-17T18:05:25.975Z"
   },
   {
    "duration": 26,
    "start_time": "2022-03-17T18:05:25.980Z"
   },
   {
    "duration": 7,
    "start_time": "2022-03-17T18:05:26.009Z"
   },
   {
    "duration": 5,
    "start_time": "2022-03-17T18:05:26.018Z"
   },
   {
    "duration": 9,
    "start_time": "2022-03-17T18:05:26.024Z"
   },
   {
    "duration": 4,
    "start_time": "2022-03-17T18:05:26.034Z"
   },
   {
    "duration": 4,
    "start_time": "2022-03-17T18:05:26.040Z"
   },
   {
    "duration": 7,
    "start_time": "2022-03-17T18:05:26.045Z"
   },
   {
    "duration": 5,
    "start_time": "2022-03-17T18:05:26.053Z"
   },
   {
    "duration": 5,
    "start_time": "2022-03-17T18:05:26.059Z"
   },
   {
    "duration": 4,
    "start_time": "2022-03-17T18:05:26.066Z"
   },
   {
    "duration": 3,
    "start_time": "2022-03-17T18:05:26.080Z"
   },
   {
    "duration": 9,
    "start_time": "2022-03-17T18:05:26.084Z"
   },
   {
    "duration": 7,
    "start_time": "2022-03-17T18:05:26.095Z"
   },
   {
    "duration": 5344,
    "start_time": "2022-03-17T18:05:26.103Z"
   },
   {
    "duration": 5570,
    "start_time": "2022-03-17T18:05:31.448Z"
   },
   {
    "duration": 12326,
    "start_time": "2022-03-17T18:05:37.019Z"
   },
   {
    "duration": 12753,
    "start_time": "2022-03-17T18:05:49.346Z"
   },
   {
    "duration": 1275,
    "start_time": "2022-03-17T18:06:02.101Z"
   },
   {
    "duration": 8466,
    "start_time": "2022-03-17T18:06:03.378Z"
   },
   {
    "duration": 2143,
    "start_time": "2022-03-17T18:06:11.846Z"
   },
   {
    "duration": 1308,
    "start_time": "2022-03-17T18:06:13.990Z"
   },
   {
    "duration": 7,
    "start_time": "2022-03-17T18:06:15.300Z"
   },
   {
    "duration": 4809,
    "start_time": "2022-03-17T18:06:15.309Z"
   },
   {
    "duration": 6,
    "start_time": "2022-03-17T18:06:20.120Z"
   },
   {
    "duration": 549,
    "start_time": "2022-03-17T18:06:20.133Z"
   },
   {
    "duration": 11,
    "start_time": "2022-03-17T18:06:20.684Z"
   },
   {
    "duration": 18,
    "start_time": "2022-03-17T18:06:20.698Z"
   },
   {
    "duration": 4,
    "start_time": "2022-03-17T18:06:20.718Z"
   },
   {
    "duration": 17,
    "start_time": "2022-03-17T18:06:20.781Z"
   },
   {
    "duration": 6,
    "start_time": "2022-03-17T18:06:20.800Z"
   },
   {
    "duration": 6,
    "start_time": "2022-03-17T18:06:20.808Z"
   },
   {
    "duration": 9,
    "start_time": "2022-03-17T18:06:20.815Z"
   },
   {
    "duration": 7,
    "start_time": "2022-03-17T18:06:20.826Z"
   },
   {
    "duration": 15,
    "start_time": "2022-03-17T18:06:20.835Z"
   },
   {
    "duration": 5,
    "start_time": "2022-03-17T18:06:20.852Z"
   },
   {
    "duration": 505,
    "start_time": "2022-03-17T18:06:20.858Z"
   },
   {
    "duration": 3487,
    "start_time": "2022-03-17T18:06:21.364Z"
   },
   {
    "duration": 329,
    "start_time": "2022-03-17T18:06:24.853Z"
   },
   {
    "duration": 4,
    "start_time": "2022-03-17T18:06:48.080Z"
   },
   {
    "duration": 26,
    "start_time": "2022-03-17T18:06:48.087Z"
   },
   {
    "duration": 1560,
    "start_time": "2022-03-17T18:06:48.115Z"
   },
   {
    "duration": 5388,
    "start_time": "2022-03-17T18:06:49.677Z"
   },
   {
    "duration": 26,
    "start_time": "2022-03-17T18:06:55.067Z"
   },
   {
    "duration": 22,
    "start_time": "2022-03-17T18:06:55.094Z"
   },
   {
    "duration": 18,
    "start_time": "2022-03-17T18:06:55.117Z"
   },
   {
    "duration": 18,
    "start_time": "2022-03-17T18:06:55.136Z"
   },
   {
    "duration": 35,
    "start_time": "2022-03-17T18:06:55.156Z"
   },
   {
    "duration": 15,
    "start_time": "2022-03-17T18:06:55.193Z"
   },
   {
    "duration": 14,
    "start_time": "2022-03-17T18:06:55.210Z"
   },
   {
    "duration": 13,
    "start_time": "2022-03-17T18:06:55.225Z"
   },
   {
    "duration": 8,
    "start_time": "2022-03-17T18:06:55.240Z"
   },
   {
    "duration": 30,
    "start_time": "2022-03-17T18:06:55.251Z"
   },
   {
    "duration": 8,
    "start_time": "2022-03-17T18:06:55.282Z"
   },
   {
    "duration": 146,
    "start_time": "2022-03-17T18:06:55.292Z"
   },
   {
    "duration": 3,
    "start_time": "2022-03-17T18:06:55.439Z"
   },
   {
    "duration": 5,
    "start_time": "2022-03-17T18:06:55.443Z"
   },
   {
    "duration": 5,
    "start_time": "2022-03-17T18:06:55.449Z"
   },
   {
    "duration": 7,
    "start_time": "2022-03-17T18:06:55.455Z"
   },
   {
    "duration": 18,
    "start_time": "2022-03-17T18:06:55.463Z"
   },
   {
    "duration": 26,
    "start_time": "2022-03-17T18:06:55.483Z"
   },
   {
    "duration": 4,
    "start_time": "2022-03-17T18:06:55.511Z"
   },
   {
    "duration": 12,
    "start_time": "2022-03-17T18:06:55.516Z"
   },
   {
    "duration": 8,
    "start_time": "2022-03-17T18:06:55.529Z"
   },
   {
    "duration": 6,
    "start_time": "2022-03-17T18:06:55.538Z"
   },
   {
    "duration": 20,
    "start_time": "2022-03-17T18:06:55.545Z"
   },
   {
    "duration": 19,
    "start_time": "2022-03-17T18:06:55.581Z"
   },
   {
    "duration": 7,
    "start_time": "2022-03-17T18:06:55.602Z"
   },
   {
    "duration": 2,
    "start_time": "2022-03-17T18:06:55.611Z"
   },
   {
    "duration": 6,
    "start_time": "2022-03-17T18:06:55.614Z"
   },
   {
    "duration": 542,
    "start_time": "2022-03-17T18:06:55.621Z"
   },
   {
    "duration": 577,
    "start_time": "2022-03-17T18:06:56.164Z"
   },
   {
    "duration": 501,
    "start_time": "2022-03-17T18:06:56.742Z"
   },
   {
    "duration": 699,
    "start_time": "2022-03-17T18:06:57.244Z"
   },
   {
    "duration": 603,
    "start_time": "2022-03-17T18:06:57.945Z"
   },
   {
    "duration": 257,
    "start_time": "2022-03-17T18:06:58.550Z"
   },
   {
    "duration": 6,
    "start_time": "2022-03-17T18:06:58.808Z"
   },
   {
    "duration": 631,
    "start_time": "2022-03-17T18:06:58.817Z"
   },
   {
    "duration": 8,
    "start_time": "2022-03-17T18:06:59.449Z"
   },
   {
    "duration": 20,
    "start_time": "2022-03-17T18:06:59.463Z"
   },
   {
    "duration": 11,
    "start_time": "2022-03-17T18:06:59.484Z"
   },
   {
    "duration": 670,
    "start_time": "2022-03-17T18:06:59.496Z"
   },
   {
    "duration": 38,
    "start_time": "2022-03-17T18:07:00.169Z"
   },
   {
    "duration": 25,
    "start_time": "2022-03-17T18:07:00.208Z"
   },
   {
    "duration": 95,
    "start_time": "2022-03-17T18:07:00.234Z"
   },
   {
    "duration": 22,
    "start_time": "2022-03-17T18:07:00.331Z"
   },
   {
    "duration": 5,
    "start_time": "2022-03-17T18:07:00.354Z"
   },
   {
    "duration": 21,
    "start_time": "2022-03-17T18:07:00.361Z"
   },
   {
    "duration": 25,
    "start_time": "2022-03-17T18:07:00.383Z"
   },
   {
    "duration": 5,
    "start_time": "2022-03-17T18:07:00.409Z"
   },
   {
    "duration": 10,
    "start_time": "2022-03-17T18:07:00.416Z"
   },
   {
    "duration": 8,
    "start_time": "2022-03-17T18:07:00.428Z"
   },
   {
    "duration": 37,
    "start_time": "2022-03-17T18:07:00.438Z"
   },
   {
    "duration": 5,
    "start_time": "2022-03-17T18:07:00.477Z"
   },
   {
    "duration": 45,
    "start_time": "2022-03-17T18:07:00.484Z"
   },
   {
    "duration": 5,
    "start_time": "2022-03-17T18:07:00.531Z"
   },
   {
    "duration": 12,
    "start_time": "2022-03-17T18:07:00.537Z"
   },
   {
    "duration": 3,
    "start_time": "2022-03-17T18:07:00.552Z"
   },
   {
    "duration": 15,
    "start_time": "2022-03-17T18:07:00.556Z"
   },
   {
    "duration": 17,
    "start_time": "2022-03-17T18:07:00.572Z"
   },
   {
    "duration": 18,
    "start_time": "2022-03-17T18:07:00.591Z"
   },
   {
    "duration": 20,
    "start_time": "2022-03-17T18:07:00.611Z"
   },
   {
    "duration": 10,
    "start_time": "2022-03-17T18:07:00.632Z"
   },
   {
    "duration": 12,
    "start_time": "2022-03-17T18:07:00.644Z"
   },
   {
    "duration": 15,
    "start_time": "2022-03-17T18:07:00.658Z"
   },
   {
    "duration": 21,
    "start_time": "2022-03-17T18:07:00.675Z"
   },
   {
    "duration": 9,
    "start_time": "2022-03-17T18:07:00.698Z"
   },
   {
    "duration": 7,
    "start_time": "2022-03-17T18:07:00.709Z"
   },
   {
    "duration": 5,
    "start_time": "2022-03-17T18:07:00.718Z"
   },
   {
    "duration": 9,
    "start_time": "2022-03-17T18:07:00.724Z"
   },
   {
    "duration": 9,
    "start_time": "2022-03-17T18:07:00.735Z"
   },
   {
    "duration": 5231,
    "start_time": "2022-03-17T18:07:00.746Z"
   },
   {
    "duration": 5263,
    "start_time": "2022-03-17T18:07:05.981Z"
   },
   {
    "duration": 13983,
    "start_time": "2022-03-17T18:07:11.246Z"
   },
   {
    "duration": 13505,
    "start_time": "2022-03-17T18:07:25.231Z"
   },
   {
    "duration": 1186,
    "start_time": "2022-03-17T18:07:38.737Z"
   },
   {
    "duration": 9621,
    "start_time": "2022-03-17T18:07:39.925Z"
   },
   {
    "duration": 2235,
    "start_time": "2022-03-17T18:07:49.547Z"
   },
   {
    "duration": 705,
    "start_time": "2022-03-17T18:07:51.785Z"
   },
   {
    "duration": 7,
    "start_time": "2022-03-17T18:07:52.492Z"
   },
   {
    "duration": 3900,
    "start_time": "2022-03-17T18:07:52.501Z"
   },
   {
    "duration": 6,
    "start_time": "2022-03-17T18:07:56.403Z"
   },
   {
    "duration": 388,
    "start_time": "2022-03-17T18:07:56.411Z"
   },
   {
    "duration": 78,
    "start_time": "2022-03-17T18:07:56.804Z"
   },
   {
    "duration": 14,
    "start_time": "2022-03-17T18:07:56.886Z"
   },
   {
    "duration": 7,
    "start_time": "2022-03-17T18:07:56.902Z"
   },
   {
    "duration": 71,
    "start_time": "2022-03-17T18:07:56.911Z"
   },
   {
    "duration": 19,
    "start_time": "2022-03-17T18:07:56.984Z"
   },
   {
    "duration": 5,
    "start_time": "2022-03-17T18:07:57.005Z"
   },
   {
    "duration": 6,
    "start_time": "2022-03-17T18:07:57.012Z"
   },
   {
    "duration": 4,
    "start_time": "2022-03-17T18:07:57.020Z"
   },
   {
    "duration": 7,
    "start_time": "2022-03-17T18:07:57.026Z"
   },
   {
    "duration": 5,
    "start_time": "2022-03-17T18:07:57.034Z"
   },
   {
    "duration": 497,
    "start_time": "2022-03-17T18:07:57.040Z"
   },
   {
    "duration": 3551,
    "start_time": "2022-03-17T18:07:57.538Z"
   },
   {
    "duration": 499,
    "start_time": "2022-03-17T18:08:01.092Z"
   },
   {
    "duration": 4,
    "start_time": "2022-03-17T18:08:07.256Z"
   },
   {
    "duration": 2,
    "start_time": "2022-03-17T18:08:07.279Z"
   },
   {
    "duration": 1861,
    "start_time": "2022-03-17T18:08:07.283Z"
   },
   {
    "duration": 1165,
    "start_time": "2022-03-17T18:08:09.146Z"
   },
   {
    "duration": 24,
    "start_time": "2022-03-17T18:08:10.313Z"
   },
   {
    "duration": 18,
    "start_time": "2022-03-17T18:08:10.339Z"
   },
   {
    "duration": 36,
    "start_time": "2022-03-17T18:08:10.359Z"
   },
   {
    "duration": 17,
    "start_time": "2022-03-17T18:08:10.396Z"
   },
   {
    "duration": 16,
    "start_time": "2022-03-17T18:08:10.415Z"
   },
   {
    "duration": 13,
    "start_time": "2022-03-17T18:08:10.433Z"
   },
   {
    "duration": 37,
    "start_time": "2022-03-17T18:08:10.447Z"
   },
   {
    "duration": 8,
    "start_time": "2022-03-17T18:08:10.487Z"
   },
   {
    "duration": 7,
    "start_time": "2022-03-17T18:08:10.497Z"
   },
   {
    "duration": 8,
    "start_time": "2022-03-17T18:08:10.505Z"
   },
   {
    "duration": 7,
    "start_time": "2022-03-17T18:08:10.515Z"
   },
   {
    "duration": 142,
    "start_time": "2022-03-17T18:08:10.524Z"
   },
   {
    "duration": 2,
    "start_time": "2022-03-17T18:08:10.668Z"
   },
   {
    "duration": 10,
    "start_time": "2022-03-17T18:08:10.671Z"
   },
   {
    "duration": 5,
    "start_time": "2022-03-17T18:08:10.682Z"
   },
   {
    "duration": 5,
    "start_time": "2022-03-17T18:08:10.688Z"
   },
   {
    "duration": 5,
    "start_time": "2022-03-17T18:08:10.694Z"
   },
   {
    "duration": 10,
    "start_time": "2022-03-17T18:08:10.701Z"
   },
   {
    "duration": 5,
    "start_time": "2022-03-17T18:08:10.713Z"
   },
   {
    "duration": 14,
    "start_time": "2022-03-17T18:08:10.720Z"
   },
   {
    "duration": 46,
    "start_time": "2022-03-17T18:08:10.735Z"
   },
   {
    "duration": 8,
    "start_time": "2022-03-17T18:08:10.782Z"
   },
   {
    "duration": 25,
    "start_time": "2022-03-17T18:08:10.791Z"
   },
   {
    "duration": 15,
    "start_time": "2022-03-17T18:08:10.833Z"
   },
   {
    "duration": 13,
    "start_time": "2022-03-17T18:08:10.849Z"
   },
   {
    "duration": 2,
    "start_time": "2022-03-17T18:08:10.866Z"
   },
   {
    "duration": 13,
    "start_time": "2022-03-17T18:08:10.870Z"
   },
   {
    "duration": 471,
    "start_time": "2022-03-17T18:08:10.884Z"
   },
   {
    "duration": 825,
    "start_time": "2022-03-17T18:08:11.356Z"
   },
   {
    "duration": 682,
    "start_time": "2022-03-17T18:08:12.182Z"
   },
   {
    "duration": 996,
    "start_time": "2022-03-17T18:08:12.866Z"
   },
   {
    "duration": 865,
    "start_time": "2022-03-17T18:08:13.864Z"
   },
   {
    "duration": 379,
    "start_time": "2022-03-17T18:08:14.731Z"
   },
   {
    "duration": 8,
    "start_time": "2022-03-17T18:08:15.112Z"
   },
   {
    "duration": 871,
    "start_time": "2022-03-17T18:08:15.121Z"
   },
   {
    "duration": 8,
    "start_time": "2022-03-17T18:08:15.995Z"
   },
   {
    "duration": 8,
    "start_time": "2022-03-17T18:08:16.005Z"
   },
   {
    "duration": 6,
    "start_time": "2022-03-17T18:08:16.015Z"
   },
   {
    "duration": 496,
    "start_time": "2022-03-17T18:08:16.023Z"
   },
   {
    "duration": 27,
    "start_time": "2022-03-17T18:08:16.521Z"
   },
   {
    "duration": 42,
    "start_time": "2022-03-17T18:08:16.550Z"
   },
   {
    "duration": 76,
    "start_time": "2022-03-17T18:08:16.594Z"
   },
   {
    "duration": 25,
    "start_time": "2022-03-17T18:08:16.672Z"
   },
   {
    "duration": 5,
    "start_time": "2022-03-17T18:08:16.698Z"
   },
   {
    "duration": 7,
    "start_time": "2022-03-17T18:08:16.704Z"
   },
   {
    "duration": 15,
    "start_time": "2022-03-17T18:08:16.713Z"
   },
   {
    "duration": 4,
    "start_time": "2022-03-17T18:08:16.729Z"
   },
   {
    "duration": 6,
    "start_time": "2022-03-17T18:08:16.735Z"
   },
   {
    "duration": 8,
    "start_time": "2022-03-17T18:08:16.742Z"
   },
   {
    "duration": 46,
    "start_time": "2022-03-17T18:08:16.752Z"
   },
   {
    "duration": 5,
    "start_time": "2022-03-17T18:08:16.800Z"
   },
   {
    "duration": 27,
    "start_time": "2022-03-17T18:08:16.806Z"
   },
   {
    "duration": 4,
    "start_time": "2022-03-17T18:08:16.835Z"
   },
   {
    "duration": 10,
    "start_time": "2022-03-17T18:08:16.841Z"
   },
   {
    "duration": 3,
    "start_time": "2022-03-17T18:08:16.853Z"
   },
   {
    "duration": 6,
    "start_time": "2022-03-17T18:08:16.880Z"
   },
   {
    "duration": 8,
    "start_time": "2022-03-17T18:08:16.888Z"
   },
   {
    "duration": 6,
    "start_time": "2022-03-17T18:08:16.898Z"
   },
   {
    "duration": 13,
    "start_time": "2022-03-17T18:08:16.905Z"
   },
   {
    "duration": 5,
    "start_time": "2022-03-17T18:08:16.919Z"
   },
   {
    "duration": 5,
    "start_time": "2022-03-17T18:08:16.925Z"
   },
   {
    "duration": 9,
    "start_time": "2022-03-17T18:08:16.932Z"
   },
   {
    "duration": 7,
    "start_time": "2022-03-17T18:08:16.943Z"
   },
   {
    "duration": 4,
    "start_time": "2022-03-17T18:08:16.952Z"
   },
   {
    "duration": 26,
    "start_time": "2022-03-17T18:08:16.958Z"
   },
   {
    "duration": 5,
    "start_time": "2022-03-17T18:08:16.986Z"
   },
   {
    "duration": 7,
    "start_time": "2022-03-17T18:08:16.993Z"
   },
   {
    "duration": 7,
    "start_time": "2022-03-17T18:08:17.002Z"
   },
   {
    "duration": 6801,
    "start_time": "2022-03-17T18:08:17.011Z"
   },
   {
    "duration": 7873,
    "start_time": "2022-03-17T18:08:23.815Z"
   },
   {
    "duration": 15453,
    "start_time": "2022-03-17T18:08:31.690Z"
   },
   {
    "duration": 11861,
    "start_time": "2022-03-17T18:08:47.146Z"
   },
   {
    "duration": 1530,
    "start_time": "2022-03-17T18:08:59.009Z"
   },
   {
    "duration": 8744,
    "start_time": "2022-03-17T18:09:00.541Z"
   },
   {
    "duration": 1906,
    "start_time": "2022-03-17T18:09:09.287Z"
   },
   {
    "duration": 712,
    "start_time": "2022-03-17T18:09:11.197Z"
   },
   {
    "duration": 7,
    "start_time": "2022-03-17T18:09:11.911Z"
   },
   {
    "duration": 4576,
    "start_time": "2022-03-17T18:09:11.920Z"
   },
   {
    "duration": 7,
    "start_time": "2022-03-17T18:09:16.498Z"
   },
   {
    "duration": 376,
    "start_time": "2022-03-17T18:09:16.512Z"
   },
   {
    "duration": 93,
    "start_time": "2022-03-17T18:09:16.892Z"
   },
   {
    "duration": 6,
    "start_time": "2022-03-17T18:09:16.987Z"
   },
   {
    "duration": 4,
    "start_time": "2022-03-17T18:09:16.995Z"
   },
   {
    "duration": 7,
    "start_time": "2022-03-17T18:09:17.001Z"
   },
   {
    "duration": 7,
    "start_time": "2022-03-17T18:09:17.009Z"
   },
   {
    "duration": 4,
    "start_time": "2022-03-17T18:09:17.018Z"
   },
   {
    "duration": 6,
    "start_time": "2022-03-17T18:09:17.024Z"
   },
   {
    "duration": 5,
    "start_time": "2022-03-17T18:09:17.032Z"
   },
   {
    "duration": 5,
    "start_time": "2022-03-17T18:09:17.039Z"
   },
   {
    "duration": 4,
    "start_time": "2022-03-17T18:09:17.046Z"
   },
   {
    "duration": 675,
    "start_time": "2022-03-17T18:09:17.051Z"
   },
   {
    "duration": 4263,
    "start_time": "2022-03-17T18:09:17.728Z"
   },
   {
    "duration": 497,
    "start_time": "2022-03-17T18:09:21.993Z"
   },
   {
    "duration": 4,
    "start_time": "2022-03-17T18:10:54.688Z"
   },
   {
    "duration": 3,
    "start_time": "2022-03-17T18:10:56.658Z"
   },
   {
    "duration": 4,
    "start_time": "2022-03-17T18:17:45.621Z"
   },
   {
    "duration": 2,
    "start_time": "2022-03-17T18:17:45.629Z"
   },
   {
    "duration": 1734,
    "start_time": "2022-03-17T18:17:45.632Z"
   },
   {
    "duration": 911,
    "start_time": "2022-03-17T18:17:47.368Z"
   },
   {
    "duration": 21,
    "start_time": "2022-03-17T18:17:48.280Z"
   },
   {
    "duration": 18,
    "start_time": "2022-03-17T18:17:48.303Z"
   },
   {
    "duration": 22,
    "start_time": "2022-03-17T18:17:48.323Z"
   },
   {
    "duration": 34,
    "start_time": "2022-03-17T18:17:48.347Z"
   },
   {
    "duration": 17,
    "start_time": "2022-03-17T18:17:48.383Z"
   },
   {
    "duration": 15,
    "start_time": "2022-03-17T18:17:48.401Z"
   },
   {
    "duration": 9,
    "start_time": "2022-03-17T18:17:48.418Z"
   },
   {
    "duration": 7,
    "start_time": "2022-03-17T18:17:48.431Z"
   },
   {
    "duration": 8,
    "start_time": "2022-03-17T18:17:48.439Z"
   },
   {
    "duration": 8,
    "start_time": "2022-03-17T18:17:48.482Z"
   },
   {
    "duration": 9,
    "start_time": "2022-03-17T18:17:48.492Z"
   },
   {
    "duration": 175,
    "start_time": "2022-03-17T18:17:48.502Z"
   },
   {
    "duration": 3,
    "start_time": "2022-03-17T18:17:48.678Z"
   },
   {
    "duration": 4,
    "start_time": "2022-03-17T18:17:48.682Z"
   },
   {
    "duration": 7,
    "start_time": "2022-03-17T18:17:48.687Z"
   },
   {
    "duration": 6,
    "start_time": "2022-03-17T18:17:48.695Z"
   },
   {
    "duration": 5,
    "start_time": "2022-03-17T18:17:48.703Z"
   },
   {
    "duration": 12,
    "start_time": "2022-03-17T18:17:48.709Z"
   },
   {
    "duration": 5,
    "start_time": "2022-03-17T18:17:48.723Z"
   },
   {
    "duration": 11,
    "start_time": "2022-03-17T18:17:48.729Z"
   },
   {
    "duration": 8,
    "start_time": "2022-03-17T18:17:48.742Z"
   },
   {
    "duration": 35,
    "start_time": "2022-03-17T18:17:48.751Z"
   },
   {
    "duration": 26,
    "start_time": "2022-03-17T18:17:48.788Z"
   },
   {
    "duration": 15,
    "start_time": "2022-03-17T18:17:48.815Z"
   },
   {
    "duration": 7,
    "start_time": "2022-03-17T18:17:48.832Z"
   },
   {
    "duration": 2,
    "start_time": "2022-03-17T18:17:48.844Z"
   },
   {
    "duration": 34,
    "start_time": "2022-03-17T18:17:48.848Z"
   },
   {
    "duration": 460,
    "start_time": "2022-03-17T18:17:48.884Z"
   },
   {
    "duration": 548,
    "start_time": "2022-03-17T18:17:49.346Z"
   },
   {
    "duration": 461,
    "start_time": "2022-03-17T18:17:49.896Z"
   },
   {
    "duration": 736,
    "start_time": "2022-03-17T18:17:50.359Z"
   },
   {
    "duration": 741,
    "start_time": "2022-03-17T18:17:51.097Z"
   },
   {
    "duration": 254,
    "start_time": "2022-03-17T18:17:51.840Z"
   },
   {
    "duration": 6,
    "start_time": "2022-03-17T18:17:52.095Z"
   },
   {
    "duration": 760,
    "start_time": "2022-03-17T18:17:52.103Z"
   },
   {
    "duration": 7,
    "start_time": "2022-03-17T18:17:52.865Z"
   },
   {
    "duration": 6,
    "start_time": "2022-03-17T18:17:52.881Z"
   },
   {
    "duration": 7,
    "start_time": "2022-03-17T18:17:52.888Z"
   },
   {
    "duration": 453,
    "start_time": "2022-03-17T18:17:52.896Z"
   },
   {
    "duration": 42,
    "start_time": "2022-03-17T18:17:53.351Z"
   },
   {
    "duration": 34,
    "start_time": "2022-03-17T18:17:53.395Z"
   },
   {
    "duration": 115,
    "start_time": "2022-03-17T18:17:53.430Z"
   },
   {
    "duration": 29,
    "start_time": "2022-03-17T18:17:53.547Z"
   },
   {
    "duration": 5,
    "start_time": "2022-03-17T18:17:53.577Z"
   },
   {
    "duration": 7,
    "start_time": "2022-03-17T18:17:53.584Z"
   },
   {
    "duration": 19,
    "start_time": "2022-03-17T18:17:53.593Z"
   },
   {
    "duration": 3,
    "start_time": "2022-03-17T18:17:53.614Z"
   },
   {
    "duration": 4,
    "start_time": "2022-03-17T18:17:53.619Z"
   },
   {
    "duration": 7,
    "start_time": "2022-03-17T18:17:53.625Z"
   },
   {
    "duration": 24,
    "start_time": "2022-03-17T18:17:53.633Z"
   },
   {
    "duration": 23,
    "start_time": "2022-03-17T18:17:53.658Z"
   },
   {
    "duration": 30,
    "start_time": "2022-03-17T18:17:53.683Z"
   },
   {
    "duration": 4,
    "start_time": "2022-03-17T18:17:53.715Z"
   },
   {
    "duration": 11,
    "start_time": "2022-03-17T18:17:53.720Z"
   },
   {
    "duration": 3,
    "start_time": "2022-03-17T18:17:53.733Z"
   },
   {
    "duration": 7,
    "start_time": "2022-03-17T18:17:53.737Z"
   },
   {
    "duration": 7,
    "start_time": "2022-03-17T18:17:53.745Z"
   },
   {
    "duration": 5,
    "start_time": "2022-03-17T18:17:53.754Z"
   },
   {
    "duration": 8,
    "start_time": "2022-03-17T18:17:53.781Z"
   },
   {
    "duration": 5,
    "start_time": "2022-03-17T18:17:53.791Z"
   },
   {
    "duration": 5,
    "start_time": "2022-03-17T18:17:53.797Z"
   },
   {
    "duration": 9,
    "start_time": "2022-03-17T18:17:53.803Z"
   },
   {
    "duration": 4,
    "start_time": "2022-03-17T18:17:53.814Z"
   },
   {
    "duration": 7,
    "start_time": "2022-03-17T18:17:53.819Z"
   },
   {
    "duration": 10,
    "start_time": "2022-03-17T18:17:53.827Z"
   },
   {
    "duration": 5,
    "start_time": "2022-03-17T18:17:53.838Z"
   },
   {
    "duration": 6,
    "start_time": "2022-03-17T18:17:53.844Z"
   },
   {
    "duration": 5,
    "start_time": "2022-03-17T18:17:53.851Z"
   },
   {
    "duration": 4913,
    "start_time": "2022-03-17T18:17:53.857Z"
   },
   {
    "duration": 3,
    "start_time": "2022-03-17T18:17:58.771Z"
   },
   {
    "duration": 11785,
    "start_time": "2022-03-17T18:17:58.775Z"
   },
   {
    "duration": 3,
    "start_time": "2022-03-17T18:18:10.562Z"
   },
   {
    "duration": 15,
    "start_time": "2022-03-17T18:18:10.567Z"
   },
   {
    "duration": 4,
    "start_time": "2022-03-17T18:18:10.583Z"
   },
   {
    "duration": 6,
    "start_time": "2022-03-17T18:18:10.589Z"
   },
   {
    "duration": 5,
    "start_time": "2022-03-17T18:18:10.596Z"
   },
   {
    "duration": 8,
    "start_time": "2022-03-17T18:18:10.602Z"
   },
   {
    "duration": 6,
    "start_time": "2022-03-17T18:18:10.611Z"
   },
   {
    "duration": 8,
    "start_time": "2022-03-17T18:18:10.618Z"
   },
   {
    "duration": 3,
    "start_time": "2022-03-17T18:18:10.631Z"
   },
   {
    "duration": 5,
    "start_time": "2022-03-17T18:18:10.635Z"
   },
   {
    "duration": 4,
    "start_time": "2022-03-17T18:18:10.641Z"
   },
   {
    "duration": 5,
    "start_time": "2022-03-17T18:18:10.647Z"
   },
   {
    "duration": 5,
    "start_time": "2022-03-17T18:18:10.653Z"
   },
   {
    "duration": 7,
    "start_time": "2022-03-17T18:18:10.659Z"
   },
   {
    "duration": 2,
    "start_time": "2022-03-17T18:18:10.680Z"
   },
   {
    "duration": 5,
    "start_time": "2022-03-17T18:18:10.684Z"
   },
   {
    "duration": 5,
    "start_time": "2022-03-17T18:18:10.690Z"
   },
   {
    "duration": 6,
    "start_time": "2022-03-17T18:18:10.697Z"
   },
   {
    "duration": 9,
    "start_time": "2022-03-17T18:18:10.704Z"
   },
   {
    "duration": 7,
    "start_time": "2022-03-17T18:18:10.714Z"
   },
   {
    "duration": 4,
    "start_time": "2022-03-17T18:18:10.723Z"
   },
   {
    "duration": 5,
    "start_time": "2022-03-17T18:18:10.728Z"
   },
   {
    "duration": 6,
    "start_time": "2022-03-17T18:18:10.734Z"
   },
   {
    "duration": 4,
    "start_time": "2022-03-17T18:18:10.742Z"
   },
   {
    "duration": 4,
    "start_time": "2022-03-17T18:21:20.655Z"
   },
   {
    "duration": 8,
    "start_time": "2022-03-17T18:21:20.661Z"
   },
   {
    "duration": 1548,
    "start_time": "2022-03-17T18:21:20.671Z"
   },
   {
    "duration": 1183,
    "start_time": "2022-03-17T18:21:22.222Z"
   },
   {
    "duration": 22,
    "start_time": "2022-03-17T18:21:23.407Z"
   },
   {
    "duration": 18,
    "start_time": "2022-03-17T18:21:23.430Z"
   },
   {
    "duration": 40,
    "start_time": "2022-03-17T18:21:23.450Z"
   },
   {
    "duration": 18,
    "start_time": "2022-03-17T18:21:23.492Z"
   },
   {
    "duration": 16,
    "start_time": "2022-03-17T18:21:23.513Z"
   },
   {
    "duration": 15,
    "start_time": "2022-03-17T18:21:23.530Z"
   },
   {
    "duration": 37,
    "start_time": "2022-03-17T18:21:23.547Z"
   },
   {
    "duration": 8,
    "start_time": "2022-03-17T18:21:23.586Z"
   },
   {
    "duration": 10,
    "start_time": "2022-03-17T18:21:23.595Z"
   },
   {
    "duration": 9,
    "start_time": "2022-03-17T18:21:23.606Z"
   },
   {
    "duration": 7,
    "start_time": "2022-03-17T18:21:23.616Z"
   },
   {
    "duration": 136,
    "start_time": "2022-03-17T18:21:23.625Z"
   },
   {
    "duration": 2,
    "start_time": "2022-03-17T18:21:23.762Z"
   },
   {
    "duration": 6,
    "start_time": "2022-03-17T18:21:23.766Z"
   },
   {
    "duration": 8,
    "start_time": "2022-03-17T18:21:23.781Z"
   },
   {
    "duration": 9,
    "start_time": "2022-03-17T18:21:23.791Z"
   },
   {
    "duration": 4,
    "start_time": "2022-03-17T18:21:23.802Z"
   },
   {
    "duration": 12,
    "start_time": "2022-03-17T18:21:23.808Z"
   },
   {
    "duration": 12,
    "start_time": "2022-03-17T18:21:23.821Z"
   },
   {
    "duration": 15,
    "start_time": "2022-03-17T18:21:23.839Z"
   },
   {
    "duration": 11,
    "start_time": "2022-03-17T18:21:23.855Z"
   },
   {
    "duration": 8,
    "start_time": "2022-03-17T18:21:23.881Z"
   },
   {
    "duration": 30,
    "start_time": "2022-03-17T18:21:23.891Z"
   },
   {
    "duration": 18,
    "start_time": "2022-03-17T18:21:23.923Z"
   },
   {
    "duration": 10,
    "start_time": "2022-03-17T18:21:23.943Z"
   },
   {
    "duration": 27,
    "start_time": "2022-03-17T18:21:23.954Z"
   },
   {
    "duration": 5,
    "start_time": "2022-03-17T18:21:23.983Z"
   },
   {
    "duration": 740,
    "start_time": "2022-03-17T18:21:23.990Z"
   },
   {
    "duration": 544,
    "start_time": "2022-03-17T18:21:24.732Z"
   },
   {
    "duration": 452,
    "start_time": "2022-03-17T18:21:25.281Z"
   },
   {
    "duration": 637,
    "start_time": "2022-03-17T18:21:25.735Z"
   },
   {
    "duration": 543,
    "start_time": "2022-03-17T18:21:26.373Z"
   },
   {
    "duration": 243,
    "start_time": "2022-03-17T18:21:26.918Z"
   },
   {
    "duration": 6,
    "start_time": "2022-03-17T18:21:27.162Z"
   },
   {
    "duration": 583,
    "start_time": "2022-03-17T18:21:27.180Z"
   },
   {
    "duration": 19,
    "start_time": "2022-03-17T18:21:27.765Z"
   },
   {
    "duration": 7,
    "start_time": "2022-03-17T18:21:27.785Z"
   },
   {
    "duration": 6,
    "start_time": "2022-03-17T18:21:27.793Z"
   },
   {
    "duration": 434,
    "start_time": "2022-03-17T18:21:27.801Z"
   },
   {
    "duration": 27,
    "start_time": "2022-03-17T18:21:28.236Z"
   },
   {
    "duration": 49,
    "start_time": "2022-03-17T18:21:28.265Z"
   },
   {
    "duration": 113,
    "start_time": "2022-03-17T18:21:28.316Z"
   },
   {
    "duration": 27,
    "start_time": "2022-03-17T18:21:28.431Z"
   },
   {
    "duration": 5,
    "start_time": "2022-03-17T18:21:28.460Z"
   },
   {
    "duration": 6,
    "start_time": "2022-03-17T18:21:28.467Z"
   },
   {
    "duration": 14,
    "start_time": "2022-03-17T18:21:28.475Z"
   },
   {
    "duration": 5,
    "start_time": "2022-03-17T18:21:28.491Z"
   },
   {
    "duration": 6,
    "start_time": "2022-03-17T18:21:28.497Z"
   },
   {
    "duration": 8,
    "start_time": "2022-03-17T18:21:28.505Z"
   },
   {
    "duration": 21,
    "start_time": "2022-03-17T18:21:28.515Z"
   },
   {
    "duration": 4,
    "start_time": "2022-03-17T18:21:28.538Z"
   },
   {
    "duration": 46,
    "start_time": "2022-03-17T18:21:28.543Z"
   },
   {
    "duration": 4,
    "start_time": "2022-03-17T18:21:28.590Z"
   },
   {
    "duration": 8,
    "start_time": "2022-03-17T18:21:28.596Z"
   },
   {
    "duration": 3,
    "start_time": "2022-03-17T18:21:28.606Z"
   },
   {
    "duration": 7,
    "start_time": "2022-03-17T18:21:28.611Z"
   },
   {
    "duration": 7,
    "start_time": "2022-03-17T18:21:28.620Z"
   },
   {
    "duration": 6,
    "start_time": "2022-03-17T18:21:28.629Z"
   },
   {
    "duration": 113,
    "start_time": "2022-03-17T18:21:28.637Z"
   },
   {
    "duration": 0,
    "start_time": "2022-03-17T18:21:28.752Z"
   },
   {
    "duration": 0,
    "start_time": "2022-03-17T18:21:28.753Z"
   },
   {
    "duration": 0,
    "start_time": "2022-03-17T18:21:28.754Z"
   },
   {
    "duration": 0,
    "start_time": "2022-03-17T18:21:28.756Z"
   },
   {
    "duration": 0,
    "start_time": "2022-03-17T18:21:28.757Z"
   },
   {
    "duration": 0,
    "start_time": "2022-03-17T18:21:28.758Z"
   },
   {
    "duration": 0,
    "start_time": "2022-03-17T18:21:28.758Z"
   },
   {
    "duration": 0,
    "start_time": "2022-03-17T18:21:28.759Z"
   },
   {
    "duration": 0,
    "start_time": "2022-03-17T18:21:28.760Z"
   },
   {
    "duration": 0,
    "start_time": "2022-03-17T18:21:28.761Z"
   },
   {
    "duration": 0,
    "start_time": "2022-03-17T18:21:28.762Z"
   },
   {
    "duration": 0,
    "start_time": "2022-03-17T18:21:28.763Z"
   },
   {
    "duration": 0,
    "start_time": "2022-03-17T18:21:28.764Z"
   },
   {
    "duration": 0,
    "start_time": "2022-03-17T18:21:28.781Z"
   },
   {
    "duration": 0,
    "start_time": "2022-03-17T18:21:28.782Z"
   },
   {
    "duration": 0,
    "start_time": "2022-03-17T18:21:28.783Z"
   },
   {
    "duration": 0,
    "start_time": "2022-03-17T18:21:28.783Z"
   },
   {
    "duration": 0,
    "start_time": "2022-03-17T18:21:28.784Z"
   },
   {
    "duration": 0,
    "start_time": "2022-03-17T18:21:28.785Z"
   },
   {
    "duration": 0,
    "start_time": "2022-03-17T18:21:28.786Z"
   },
   {
    "duration": 0,
    "start_time": "2022-03-17T18:21:28.787Z"
   },
   {
    "duration": 0,
    "start_time": "2022-03-17T18:21:28.788Z"
   },
   {
    "duration": 1,
    "start_time": "2022-03-17T18:21:28.788Z"
   },
   {
    "duration": 0,
    "start_time": "2022-03-17T18:21:28.789Z"
   },
   {
    "duration": 0,
    "start_time": "2022-03-17T18:21:28.790Z"
   },
   {
    "duration": 0,
    "start_time": "2022-03-17T18:21:28.790Z"
   },
   {
    "duration": 0,
    "start_time": "2022-03-17T18:21:28.792Z"
   },
   {
    "duration": 0,
    "start_time": "2022-03-17T18:21:28.793Z"
   },
   {
    "duration": 0,
    "start_time": "2022-03-17T18:21:28.793Z"
   },
   {
    "duration": 0,
    "start_time": "2022-03-17T18:21:28.794Z"
   },
   {
    "duration": 0,
    "start_time": "2022-03-17T18:21:28.796Z"
   },
   {
    "duration": 0,
    "start_time": "2022-03-17T18:21:28.797Z"
   },
   {
    "duration": 0,
    "start_time": "2022-03-17T18:21:28.798Z"
   },
   {
    "duration": 0,
    "start_time": "2022-03-17T18:21:28.799Z"
   },
   {
    "duration": 0,
    "start_time": "2022-03-17T18:21:28.799Z"
   },
   {
    "duration": 0,
    "start_time": "2022-03-17T18:21:28.801Z"
   },
   {
    "duration": 3,
    "start_time": "2022-03-17T18:23:09.282Z"
   },
   {
    "duration": 2,
    "start_time": "2022-03-17T18:23:09.297Z"
   },
   {
    "duration": 1844,
    "start_time": "2022-03-17T18:23:09.301Z"
   },
   {
    "duration": 1229,
    "start_time": "2022-03-17T18:23:11.147Z"
   },
   {
    "duration": 31,
    "start_time": "2022-03-17T18:23:12.378Z"
   },
   {
    "duration": 25,
    "start_time": "2022-03-17T18:23:12.412Z"
   },
   {
    "duration": 19,
    "start_time": "2022-03-17T18:23:12.439Z"
   },
   {
    "duration": 37,
    "start_time": "2022-03-17T18:23:12.460Z"
   },
   {
    "duration": 15,
    "start_time": "2022-03-17T18:23:12.498Z"
   },
   {
    "duration": 13,
    "start_time": "2022-03-17T18:23:12.515Z"
   },
   {
    "duration": 8,
    "start_time": "2022-03-17T18:23:12.529Z"
   },
   {
    "duration": 43,
    "start_time": "2022-03-17T18:23:12.539Z"
   },
   {
    "duration": 7,
    "start_time": "2022-03-17T18:23:12.583Z"
   },
   {
    "duration": 7,
    "start_time": "2022-03-17T18:23:12.592Z"
   },
   {
    "duration": 7,
    "start_time": "2022-03-17T18:23:12.601Z"
   },
   {
    "duration": 149,
    "start_time": "2022-03-17T18:23:12.610Z"
   },
   {
    "duration": 3,
    "start_time": "2022-03-17T18:23:12.761Z"
   },
   {
    "duration": 15,
    "start_time": "2022-03-17T18:23:12.766Z"
   },
   {
    "duration": 9,
    "start_time": "2022-03-17T18:23:12.782Z"
   },
   {
    "duration": 6,
    "start_time": "2022-03-17T18:23:12.793Z"
   },
   {
    "duration": 5,
    "start_time": "2022-03-17T18:23:12.801Z"
   },
   {
    "duration": 10,
    "start_time": "2022-03-17T18:23:12.808Z"
   },
   {
    "duration": 5,
    "start_time": "2022-03-17T18:23:12.819Z"
   },
   {
    "duration": 10,
    "start_time": "2022-03-17T18:23:12.826Z"
   },
   {
    "duration": 9,
    "start_time": "2022-03-17T18:23:12.838Z"
   },
   {
    "duration": 36,
    "start_time": "2022-03-17T18:23:12.848Z"
   },
   {
    "duration": 22,
    "start_time": "2022-03-17T18:23:12.886Z"
   },
   {
    "duration": 20,
    "start_time": "2022-03-17T18:23:12.910Z"
   },
   {
    "duration": 8,
    "start_time": "2022-03-17T18:23:12.932Z"
   },
   {
    "duration": 3,
    "start_time": "2022-03-17T18:23:12.945Z"
   },
   {
    "duration": 33,
    "start_time": "2022-03-17T18:23:12.949Z"
   },
   {
    "duration": 481,
    "start_time": "2022-03-17T18:23:12.984Z"
   },
   {
    "duration": 530,
    "start_time": "2022-03-17T18:23:13.467Z"
   },
   {
    "duration": 471,
    "start_time": "2022-03-17T18:23:13.998Z"
   },
   {
    "duration": 665,
    "start_time": "2022-03-17T18:23:14.471Z"
   },
   {
    "duration": 543,
    "start_time": "2022-03-17T18:23:15.138Z"
   },
   {
    "duration": 232,
    "start_time": "2022-03-17T18:23:15.682Z"
   },
   {
    "duration": 6,
    "start_time": "2022-03-17T18:23:15.915Z"
   },
   {
    "duration": 588,
    "start_time": "2022-03-17T18:23:15.923Z"
   },
   {
    "duration": 8,
    "start_time": "2022-03-17T18:23:16.513Z"
   },
   {
    "duration": 8,
    "start_time": "2022-03-17T18:23:16.522Z"
   },
   {
    "duration": 9,
    "start_time": "2022-03-17T18:23:16.532Z"
   },
   {
    "duration": 448,
    "start_time": "2022-03-17T18:23:16.542Z"
   },
   {
    "duration": 26,
    "start_time": "2022-03-17T18:23:16.992Z"
   },
   {
    "duration": 30,
    "start_time": "2022-03-17T18:23:17.020Z"
   },
   {
    "duration": 98,
    "start_time": "2022-03-17T18:23:17.052Z"
   },
   {
    "duration": 24,
    "start_time": "2022-03-17T18:23:17.152Z"
   },
   {
    "duration": 5,
    "start_time": "2022-03-17T18:23:17.178Z"
   },
   {
    "duration": 24,
    "start_time": "2022-03-17T18:23:17.185Z"
   },
   {
    "duration": 37,
    "start_time": "2022-03-17T18:23:17.211Z"
   },
   {
    "duration": 4,
    "start_time": "2022-03-17T18:23:17.250Z"
   },
   {
    "duration": 16,
    "start_time": "2022-03-17T18:23:17.257Z"
   },
   {
    "duration": 9,
    "start_time": "2022-03-17T18:23:17.274Z"
   },
   {
    "duration": 27,
    "start_time": "2022-03-17T18:23:17.284Z"
   },
   {
    "duration": 8,
    "start_time": "2022-03-17T18:23:17.312Z"
   },
   {
    "duration": 33,
    "start_time": "2022-03-17T18:23:17.322Z"
   },
   {
    "duration": 3,
    "start_time": "2022-03-17T18:23:17.357Z"
   },
   {
    "duration": 22,
    "start_time": "2022-03-17T18:23:17.362Z"
   },
   {
    "duration": 11,
    "start_time": "2022-03-17T18:23:17.386Z"
   },
   {
    "duration": 16,
    "start_time": "2022-03-17T18:23:17.398Z"
   },
   {
    "duration": 10,
    "start_time": "2022-03-17T18:23:17.416Z"
   },
   {
    "duration": 19,
    "start_time": "2022-03-17T18:23:17.427Z"
   },
   {
    "duration": 18,
    "start_time": "2022-03-17T18:23:17.447Z"
   },
   {
    "duration": 18,
    "start_time": "2022-03-17T18:23:17.466Z"
   },
   {
    "duration": 18,
    "start_time": "2022-03-17T18:23:17.486Z"
   },
   {
    "duration": 26,
    "start_time": "2022-03-17T18:23:17.505Z"
   },
   {
    "duration": 13,
    "start_time": "2022-03-17T18:23:17.532Z"
   },
   {
    "duration": 13,
    "start_time": "2022-03-17T18:23:17.546Z"
   },
   {
    "duration": 4,
    "start_time": "2022-03-17T18:23:17.561Z"
   },
   {
    "duration": 9,
    "start_time": "2022-03-17T18:23:17.566Z"
   },
   {
    "duration": 10,
    "start_time": "2022-03-17T18:23:17.577Z"
   },
   {
    "duration": 11,
    "start_time": "2022-03-17T18:23:17.588Z"
   },
   {
    "duration": 319,
    "start_time": "2022-03-17T18:23:17.601Z"
   },
   {
    "duration": 3,
    "start_time": "2022-03-17T18:23:17.921Z"
   },
   {
    "duration": 213,
    "start_time": "2022-03-17T18:23:17.925Z"
   },
   {
    "duration": 3,
    "start_time": "2022-03-17T18:23:18.140Z"
   },
   {
    "duration": 11,
    "start_time": "2022-03-17T18:23:18.144Z"
   },
   {
    "duration": 0,
    "start_time": "2022-03-17T18:23:18.157Z"
   },
   {
    "duration": 0,
    "start_time": "2022-03-17T18:23:18.158Z"
   },
   {
    "duration": 0,
    "start_time": "2022-03-17T18:23:18.159Z"
   },
   {
    "duration": 0,
    "start_time": "2022-03-17T18:23:18.160Z"
   },
   {
    "duration": 0,
    "start_time": "2022-03-17T18:23:18.161Z"
   },
   {
    "duration": 0,
    "start_time": "2022-03-17T18:23:18.162Z"
   },
   {
    "duration": 0,
    "start_time": "2022-03-17T18:23:18.163Z"
   },
   {
    "duration": 0,
    "start_time": "2022-03-17T18:23:18.164Z"
   },
   {
    "duration": 0,
    "start_time": "2022-03-17T18:23:18.165Z"
   },
   {
    "duration": 0,
    "start_time": "2022-03-17T18:23:18.165Z"
   },
   {
    "duration": 0,
    "start_time": "2022-03-17T18:23:18.166Z"
   },
   {
    "duration": 0,
    "start_time": "2022-03-17T18:23:18.167Z"
   },
   {
    "duration": 0,
    "start_time": "2022-03-17T18:23:18.169Z"
   },
   {
    "duration": 0,
    "start_time": "2022-03-17T18:23:18.170Z"
   },
   {
    "duration": 0,
    "start_time": "2022-03-17T18:23:18.171Z"
   },
   {
    "duration": 0,
    "start_time": "2022-03-17T18:23:18.172Z"
   },
   {
    "duration": 0,
    "start_time": "2022-03-17T18:23:18.174Z"
   },
   {
    "duration": 0,
    "start_time": "2022-03-17T18:23:18.175Z"
   },
   {
    "duration": 0,
    "start_time": "2022-03-17T18:23:18.176Z"
   },
   {
    "duration": 0,
    "start_time": "2022-03-17T18:23:18.177Z"
   },
   {
    "duration": 0,
    "start_time": "2022-03-17T18:23:18.178Z"
   },
   {
    "duration": 0,
    "start_time": "2022-03-17T18:23:18.179Z"
   },
   {
    "duration": 4,
    "start_time": "2022-03-17T18:26:21.948Z"
   },
   {
    "duration": 2,
    "start_time": "2022-03-17T18:26:21.959Z"
   },
   {
    "duration": 1855,
    "start_time": "2022-03-17T18:26:21.964Z"
   },
   {
    "duration": 850,
    "start_time": "2022-03-17T18:26:23.821Z"
   },
   {
    "duration": 25,
    "start_time": "2022-03-17T18:26:24.673Z"
   },
   {
    "duration": 17,
    "start_time": "2022-03-17T18:26:24.700Z"
   },
   {
    "duration": 17,
    "start_time": "2022-03-17T18:26:24.719Z"
   },
   {
    "duration": 18,
    "start_time": "2022-03-17T18:26:24.737Z"
   },
   {
    "duration": 36,
    "start_time": "2022-03-17T18:26:24.757Z"
   },
   {
    "duration": 11,
    "start_time": "2022-03-17T18:26:24.794Z"
   },
   {
    "duration": 7,
    "start_time": "2022-03-17T18:26:24.807Z"
   },
   {
    "duration": 6,
    "start_time": "2022-03-17T18:26:24.815Z"
   },
   {
    "duration": 7,
    "start_time": "2022-03-17T18:26:24.823Z"
   },
   {
    "duration": 7,
    "start_time": "2022-03-17T18:26:24.832Z"
   },
   {
    "duration": 46,
    "start_time": "2022-03-17T18:26:24.841Z"
   },
   {
    "duration": 159,
    "start_time": "2022-03-17T18:26:24.891Z"
   },
   {
    "duration": 2,
    "start_time": "2022-03-17T18:26:25.052Z"
   },
   {
    "duration": 6,
    "start_time": "2022-03-17T18:26:25.056Z"
   },
   {
    "duration": 17,
    "start_time": "2022-03-17T18:26:25.064Z"
   },
   {
    "duration": 7,
    "start_time": "2022-03-17T18:26:25.082Z"
   },
   {
    "duration": 5,
    "start_time": "2022-03-17T18:26:25.090Z"
   },
   {
    "duration": 10,
    "start_time": "2022-03-17T18:26:25.096Z"
   },
   {
    "duration": 4,
    "start_time": "2022-03-17T18:26:25.107Z"
   },
   {
    "duration": 10,
    "start_time": "2022-03-17T18:26:25.113Z"
   },
   {
    "duration": 9,
    "start_time": "2022-03-17T18:26:25.125Z"
   },
   {
    "duration": 7,
    "start_time": "2022-03-17T18:26:25.136Z"
   },
   {
    "duration": 52,
    "start_time": "2022-03-17T18:26:25.145Z"
   },
   {
    "duration": 15,
    "start_time": "2022-03-17T18:26:25.199Z"
   },
   {
    "duration": 8,
    "start_time": "2022-03-17T18:26:25.216Z"
   },
   {
    "duration": 1,
    "start_time": "2022-03-17T18:26:25.226Z"
   },
   {
    "duration": 4,
    "start_time": "2022-03-17T18:26:25.229Z"
   },
   {
    "duration": 497,
    "start_time": "2022-03-17T18:26:25.234Z"
   },
   {
    "duration": 553,
    "start_time": "2022-03-17T18:26:25.733Z"
   },
   {
    "duration": 446,
    "start_time": "2022-03-17T18:26:26.288Z"
   },
   {
    "duration": 649,
    "start_time": "2022-03-17T18:26:26.736Z"
   },
   {
    "duration": 546,
    "start_time": "2022-03-17T18:26:27.387Z"
   },
   {
    "duration": 236,
    "start_time": "2022-03-17T18:26:27.934Z"
   },
   {
    "duration": 13,
    "start_time": "2022-03-17T18:26:28.171Z"
   },
   {
    "duration": 584,
    "start_time": "2022-03-17T18:26:28.185Z"
   },
   {
    "duration": 15,
    "start_time": "2022-03-17T18:26:28.772Z"
   },
   {
    "duration": 8,
    "start_time": "2022-03-17T18:26:28.789Z"
   },
   {
    "duration": 8,
    "start_time": "2022-03-17T18:26:28.798Z"
   },
   {
    "duration": 445,
    "start_time": "2022-03-17T18:26:28.811Z"
   },
   {
    "duration": 42,
    "start_time": "2022-03-17T18:26:29.258Z"
   },
   {
    "duration": 26,
    "start_time": "2022-03-17T18:26:29.302Z"
   },
   {
    "duration": 87,
    "start_time": "2022-03-17T18:26:29.330Z"
   },
   {
    "duration": 21,
    "start_time": "2022-03-17T18:26:29.419Z"
   },
   {
    "duration": 5,
    "start_time": "2022-03-17T18:26:29.442Z"
   },
   {
    "duration": 8,
    "start_time": "2022-03-17T18:26:29.449Z"
   },
   {
    "duration": 14,
    "start_time": "2022-03-17T18:26:29.459Z"
   },
   {
    "duration": 3,
    "start_time": "2022-03-17T18:26:29.481Z"
   },
   {
    "duration": 4,
    "start_time": "2022-03-17T18:26:29.485Z"
   },
   {
    "duration": 9,
    "start_time": "2022-03-17T18:26:29.491Z"
   },
   {
    "duration": 21,
    "start_time": "2022-03-17T18:26:29.501Z"
   },
   {
    "duration": 4,
    "start_time": "2022-03-17T18:26:29.524Z"
   },
   {
    "duration": 24,
    "start_time": "2022-03-17T18:26:29.530Z"
   },
   {
    "duration": 26,
    "start_time": "2022-03-17T18:26:29.556Z"
   },
   {
    "duration": 9,
    "start_time": "2022-03-17T18:26:29.584Z"
   },
   {
    "duration": 3,
    "start_time": "2022-03-17T18:26:29.595Z"
   },
   {
    "duration": 7,
    "start_time": "2022-03-17T18:26:29.599Z"
   },
   {
    "duration": 5,
    "start_time": "2022-03-17T18:26:29.607Z"
   },
   {
    "duration": 7,
    "start_time": "2022-03-17T18:26:29.614Z"
   },
   {
    "duration": 7,
    "start_time": "2022-03-17T18:26:29.623Z"
   },
   {
    "duration": 5,
    "start_time": "2022-03-17T18:26:29.631Z"
   },
   {
    "duration": 4,
    "start_time": "2022-03-17T18:26:29.637Z"
   },
   {
    "duration": 8,
    "start_time": "2022-03-17T18:26:29.642Z"
   },
   {
    "duration": 4,
    "start_time": "2022-03-17T18:26:29.651Z"
   },
   {
    "duration": 3,
    "start_time": "2022-03-17T18:26:29.681Z"
   },
   {
    "duration": 5,
    "start_time": "2022-03-17T18:26:29.685Z"
   },
   {
    "duration": 4,
    "start_time": "2022-03-17T18:26:29.691Z"
   },
   {
    "duration": 9,
    "start_time": "2022-03-17T18:26:29.696Z"
   },
   {
    "duration": 5,
    "start_time": "2022-03-17T18:26:29.706Z"
   },
   {
    "duration": 4978,
    "start_time": "2022-03-17T18:26:29.713Z"
   },
   {
    "duration": 3,
    "start_time": "2022-03-17T18:26:34.693Z"
   },
   {
    "duration": 11361,
    "start_time": "2022-03-17T18:26:34.697Z"
   },
   {
    "duration": 4,
    "start_time": "2022-03-17T18:26:46.060Z"
   },
   {
    "duration": 102,
    "start_time": "2022-03-17T18:26:46.081Z"
   },
   {
    "duration": 0,
    "start_time": "2022-03-17T18:26:46.185Z"
   },
   {
    "duration": 0,
    "start_time": "2022-03-17T18:26:46.186Z"
   },
   {
    "duration": 0,
    "start_time": "2022-03-17T18:26:46.187Z"
   },
   {
    "duration": 0,
    "start_time": "2022-03-17T18:26:46.188Z"
   },
   {
    "duration": 0,
    "start_time": "2022-03-17T18:26:46.189Z"
   },
   {
    "duration": 0,
    "start_time": "2022-03-17T18:26:46.190Z"
   },
   {
    "duration": 0,
    "start_time": "2022-03-17T18:26:46.191Z"
   },
   {
    "duration": 0,
    "start_time": "2022-03-17T18:26:46.192Z"
   },
   {
    "duration": 0,
    "start_time": "2022-03-17T18:26:46.193Z"
   },
   {
    "duration": 0,
    "start_time": "2022-03-17T18:26:46.194Z"
   },
   {
    "duration": 0,
    "start_time": "2022-03-17T18:26:46.195Z"
   },
   {
    "duration": 0,
    "start_time": "2022-03-17T18:26:46.196Z"
   },
   {
    "duration": 1,
    "start_time": "2022-03-17T18:26:46.197Z"
   },
   {
    "duration": 0,
    "start_time": "2022-03-17T18:26:46.198Z"
   },
   {
    "duration": 0,
    "start_time": "2022-03-17T18:26:46.199Z"
   },
   {
    "duration": 0,
    "start_time": "2022-03-17T18:26:46.200Z"
   },
   {
    "duration": 0,
    "start_time": "2022-03-17T18:26:46.202Z"
   },
   {
    "duration": 0,
    "start_time": "2022-03-17T18:26:46.202Z"
   },
   {
    "duration": 0,
    "start_time": "2022-03-17T18:26:46.204Z"
   },
   {
    "duration": 0,
    "start_time": "2022-03-17T18:26:46.204Z"
   },
   {
    "duration": 0,
    "start_time": "2022-03-17T18:26:46.205Z"
   },
   {
    "duration": 0,
    "start_time": "2022-03-17T18:26:46.207Z"
   },
   {
    "duration": 8,
    "start_time": "2022-03-17T18:28:24.830Z"
   },
   {
    "duration": 5,
    "start_time": "2022-03-17T18:28:44.898Z"
   },
   {
    "duration": 3,
    "start_time": "2022-03-17T18:41:40.610Z"
   },
   {
    "duration": 3,
    "start_time": "2022-03-17T18:42:12.369Z"
   },
   {
    "duration": 259,
    "start_time": "2022-03-17T18:42:25.012Z"
   },
   {
    "duration": 244,
    "start_time": "2022-03-17T18:42:57.969Z"
   },
   {
    "duration": 234,
    "start_time": "2022-03-17T18:47:32.974Z"
   },
   {
    "duration": 3,
    "start_time": "2022-03-17T18:47:37.889Z"
   },
   {
    "duration": 3,
    "start_time": "2022-03-17T18:47:42.549Z"
   },
   {
    "duration": 3,
    "start_time": "2022-03-17T18:56:36.820Z"
   },
   {
    "duration": 4,
    "start_time": "2022-03-17T18:56:36.825Z"
   },
   {
    "duration": 1938,
    "start_time": "2022-03-17T18:56:36.831Z"
   },
   {
    "duration": 1222,
    "start_time": "2022-03-17T18:56:38.771Z"
   },
   {
    "duration": 25,
    "start_time": "2022-03-17T18:56:39.997Z"
   },
   {
    "duration": 28,
    "start_time": "2022-03-17T18:56:40.024Z"
   },
   {
    "duration": 47,
    "start_time": "2022-03-17T18:56:40.054Z"
   },
   {
    "duration": 24,
    "start_time": "2022-03-17T18:56:40.103Z"
   },
   {
    "duration": 23,
    "start_time": "2022-03-17T18:56:40.129Z"
   },
   {
    "duration": 40,
    "start_time": "2022-03-17T18:56:40.154Z"
   },
   {
    "duration": 10,
    "start_time": "2022-03-17T18:56:40.196Z"
   },
   {
    "duration": 13,
    "start_time": "2022-03-17T18:56:40.208Z"
   },
   {
    "duration": 9,
    "start_time": "2022-03-17T18:56:40.225Z"
   },
   {
    "duration": 10,
    "start_time": "2022-03-17T18:56:40.235Z"
   },
   {
    "duration": 59,
    "start_time": "2022-03-17T18:56:40.247Z"
   },
   {
    "duration": 116,
    "start_time": "2022-03-17T18:56:40.308Z"
   },
   {
    "duration": 3,
    "start_time": "2022-03-17T18:56:40.426Z"
   },
   {
    "duration": 7,
    "start_time": "2022-03-17T18:56:40.430Z"
   },
   {
    "duration": 14,
    "start_time": "2022-03-17T18:56:40.439Z"
   },
   {
    "duration": 5,
    "start_time": "2022-03-17T18:56:40.455Z"
   },
   {
    "duration": 5,
    "start_time": "2022-03-17T18:56:40.462Z"
   },
   {
    "duration": 19,
    "start_time": "2022-03-17T18:56:40.469Z"
   },
   {
    "duration": 22,
    "start_time": "2022-03-17T18:56:40.490Z"
   },
   {
    "duration": 14,
    "start_time": "2022-03-17T18:56:40.513Z"
   },
   {
    "duration": 8,
    "start_time": "2022-03-17T18:56:40.529Z"
   },
   {
    "duration": 9,
    "start_time": "2022-03-17T18:56:40.539Z"
   },
   {
    "duration": 45,
    "start_time": "2022-03-17T18:56:40.549Z"
   },
   {
    "duration": 20,
    "start_time": "2022-03-17T18:56:40.596Z"
   },
   {
    "duration": 10,
    "start_time": "2022-03-17T18:56:40.618Z"
   },
   {
    "duration": 3,
    "start_time": "2022-03-17T18:56:40.630Z"
   },
   {
    "duration": 8,
    "start_time": "2022-03-17T18:56:40.634Z"
   },
   {
    "duration": 554,
    "start_time": "2022-03-17T18:56:40.643Z"
   },
   {
    "duration": 584,
    "start_time": "2022-03-17T18:56:41.199Z"
   },
   {
    "duration": 562,
    "start_time": "2022-03-17T18:56:41.785Z"
   },
   {
    "duration": 714,
    "start_time": "2022-03-17T18:56:42.349Z"
   },
   {
    "duration": 578,
    "start_time": "2022-03-17T18:56:43.065Z"
   },
   {
    "duration": 348,
    "start_time": "2022-03-17T18:56:43.650Z"
   },
   {
    "duration": 6,
    "start_time": "2022-03-17T18:56:44.001Z"
   },
   {
    "duration": 862,
    "start_time": "2022-03-17T18:56:44.009Z"
   },
   {
    "duration": 9,
    "start_time": "2022-03-17T18:56:44.881Z"
   },
   {
    "duration": 18,
    "start_time": "2022-03-17T18:56:44.891Z"
   },
   {
    "duration": 8,
    "start_time": "2022-03-17T18:56:44.910Z"
   },
   {
    "duration": 497,
    "start_time": "2022-03-17T18:56:44.919Z"
   },
   {
    "duration": 39,
    "start_time": "2022-03-17T18:56:45.418Z"
   },
   {
    "duration": 53,
    "start_time": "2022-03-17T18:56:45.459Z"
   },
   {
    "duration": 92,
    "start_time": "2022-03-17T18:56:45.514Z"
   },
   {
    "duration": 23,
    "start_time": "2022-03-17T18:56:45.608Z"
   },
   {
    "duration": 4,
    "start_time": "2022-03-17T18:56:45.634Z"
   },
   {
    "duration": 11,
    "start_time": "2022-03-17T18:56:45.640Z"
   },
   {
    "duration": 34,
    "start_time": "2022-03-17T18:56:45.652Z"
   },
   {
    "duration": 5,
    "start_time": "2022-03-17T18:56:45.688Z"
   },
   {
    "duration": 16,
    "start_time": "2022-03-17T18:56:45.695Z"
   },
   {
    "duration": 6,
    "start_time": "2022-03-17T18:56:45.712Z"
   },
   {
    "duration": 27,
    "start_time": "2022-03-17T18:56:45.720Z"
   },
   {
    "duration": 5,
    "start_time": "2022-03-17T18:56:45.749Z"
   },
   {
    "duration": 36,
    "start_time": "2022-03-17T18:56:45.756Z"
   },
   {
    "duration": 5,
    "start_time": "2022-03-17T18:56:45.794Z"
   },
   {
    "duration": 10,
    "start_time": "2022-03-17T18:56:45.801Z"
   },
   {
    "duration": 7,
    "start_time": "2022-03-17T18:56:45.813Z"
   },
   {
    "duration": 7,
    "start_time": "2022-03-17T18:56:45.822Z"
   },
   {
    "duration": 5,
    "start_time": "2022-03-17T18:56:45.831Z"
   },
   {
    "duration": 7,
    "start_time": "2022-03-17T18:56:45.838Z"
   },
   {
    "duration": 5,
    "start_time": "2022-03-17T18:56:45.847Z"
   },
   {
    "duration": 11,
    "start_time": "2022-03-17T18:56:45.882Z"
   },
   {
    "duration": 9,
    "start_time": "2022-03-17T18:56:45.895Z"
   },
   {
    "duration": 10,
    "start_time": "2022-03-17T18:56:45.905Z"
   },
   {
    "duration": 6,
    "start_time": "2022-03-17T18:56:45.917Z"
   },
   {
    "duration": 5,
    "start_time": "2022-03-17T18:56:45.925Z"
   },
   {
    "duration": 5,
    "start_time": "2022-03-17T18:56:45.932Z"
   },
   {
    "duration": 4,
    "start_time": "2022-03-17T18:56:45.939Z"
   },
   {
    "duration": 5,
    "start_time": "2022-03-17T18:56:45.945Z"
   },
   {
    "duration": 8,
    "start_time": "2022-03-17T18:56:45.951Z"
   },
   {
    "duration": 7933,
    "start_time": "2022-03-17T18:56:45.961Z"
   },
   {
    "duration": 4,
    "start_time": "2022-03-17T18:56:53.896Z"
   },
   {
    "duration": 13081,
    "start_time": "2022-03-17T18:56:53.902Z"
   },
   {
    "duration": 5,
    "start_time": "2022-03-17T18:57:06.985Z"
   },
   {
    "duration": 19,
    "start_time": "2022-03-17T18:57:06.992Z"
   },
   {
    "duration": 6,
    "start_time": "2022-03-17T18:57:07.013Z"
   },
   {
    "duration": 6,
    "start_time": "2022-03-17T18:57:07.020Z"
   },
   {
    "duration": 6,
    "start_time": "2022-03-17T18:57:07.027Z"
   },
   {
    "duration": 124429,
    "start_time": "2022-03-17T18:57:07.035Z"
   },
   {
    "duration": 3,
    "start_time": "2022-03-17T18:59:11.466Z"
   },
   {
    "duration": 3,
    "start_time": "2022-03-17T18:59:11.481Z"
   },
   {
    "duration": 18,
    "start_time": "2022-03-17T18:59:11.486Z"
   },
   {
    "duration": 6,
    "start_time": "2022-03-17T18:59:11.506Z"
   },
   {
    "duration": 8,
    "start_time": "2022-03-17T18:59:11.513Z"
   },
   {
    "duration": 8,
    "start_time": "2022-03-17T18:59:11.522Z"
   },
   {
    "duration": 5,
    "start_time": "2022-03-17T18:59:11.531Z"
   },
   {
    "duration": 5,
    "start_time": "2022-03-17T18:59:11.538Z"
   },
   {
    "duration": 6,
    "start_time": "2022-03-17T18:59:11.545Z"
   },
   {
    "duration": 6,
    "start_time": "2022-03-17T18:59:11.553Z"
   },
   {
    "duration": 5,
    "start_time": "2022-03-17T18:59:11.561Z"
   },
   {
    "duration": 8,
    "start_time": "2022-03-17T18:59:11.567Z"
   },
   {
    "duration": 7,
    "start_time": "2022-03-17T18:59:11.576Z"
   },
   {
    "duration": 8,
    "start_time": "2022-03-17T18:59:11.586Z"
   },
   {
    "duration": 11,
    "start_time": "2022-03-17T18:59:11.596Z"
   },
   {
    "duration": 9,
    "start_time": "2022-03-17T18:59:11.609Z"
   },
   {
    "duration": 6,
    "start_time": "2022-03-17T18:59:11.620Z"
   },
   {
    "duration": 5,
    "start_time": "2022-03-17T18:59:11.628Z"
   },
   {
    "duration": 6,
    "start_time": "2022-03-17T18:59:11.634Z"
   },
   {
    "duration": 6,
    "start_time": "2022-03-17T18:59:11.642Z"
   },
   {
    "duration": 5,
    "start_time": "2022-03-17T18:59:11.650Z"
   },
   {
    "duration": 271875,
    "start_time": "2022-03-17T19:00:44.695Z"
   },
   {
    "duration": 17,
    "start_time": "2022-03-17T19:13:16.107Z"
   },
   {
    "duration": 207,
    "start_time": "2022-03-17T19:16:34.162Z"
   },
   {
    "duration": 5,
    "start_time": "2022-03-17T19:26:44.370Z"
   },
   {
    "duration": 4,
    "start_time": "2022-03-17T19:30:06.452Z"
   },
   {
    "duration": 6,
    "start_time": "2022-03-17T19:30:19.351Z"
   },
   {
    "duration": 3,
    "start_time": "2022-03-17T19:35:36.892Z"
   },
   {
    "duration": 3,
    "start_time": "2022-03-17T19:35:53.880Z"
   },
   {
    "duration": 3,
    "start_time": "2022-03-17T19:37:19.305Z"
   },
   {
    "duration": 29,
    "start_time": "2022-03-17T19:37:19.310Z"
   },
   {
    "duration": 2122,
    "start_time": "2022-03-17T19:37:19.341Z"
   },
   {
    "duration": 1168,
    "start_time": "2022-03-17T19:37:21.465Z"
   },
   {
    "duration": 23,
    "start_time": "2022-03-17T19:37:22.636Z"
   },
   {
    "duration": 35,
    "start_time": "2022-03-17T19:37:22.661Z"
   },
   {
    "duration": 20,
    "start_time": "2022-03-17T19:37:22.698Z"
   },
   {
    "duration": 33,
    "start_time": "2022-03-17T19:37:22.720Z"
   },
   {
    "duration": 30,
    "start_time": "2022-03-17T19:37:22.755Z"
   },
   {
    "duration": 15,
    "start_time": "2022-03-17T19:37:22.787Z"
   },
   {
    "duration": 16,
    "start_time": "2022-03-17T19:37:22.804Z"
   },
   {
    "duration": 8,
    "start_time": "2022-03-17T19:37:22.822Z"
   },
   {
    "duration": 8,
    "start_time": "2022-03-17T19:37:22.834Z"
   },
   {
    "duration": 38,
    "start_time": "2022-03-17T19:37:22.844Z"
   },
   {
    "duration": 8,
    "start_time": "2022-03-17T19:37:22.884Z"
   },
   {
    "duration": 159,
    "start_time": "2022-03-17T19:37:22.894Z"
   },
   {
    "duration": 2,
    "start_time": "2022-03-17T19:37:23.055Z"
   },
   {
    "duration": 2,
    "start_time": "2022-03-17T19:37:23.058Z"
   },
   {
    "duration": 10,
    "start_time": "2022-03-17T19:37:23.062Z"
   },
   {
    "duration": 8,
    "start_time": "2022-03-17T19:37:23.073Z"
   },
   {
    "duration": 4,
    "start_time": "2022-03-17T19:37:23.082Z"
   },
   {
    "duration": 20,
    "start_time": "2022-03-17T19:37:23.087Z"
   },
   {
    "duration": 6,
    "start_time": "2022-03-17T19:37:23.109Z"
   },
   {
    "duration": 18,
    "start_time": "2022-03-17T19:37:23.117Z"
   },
   {
    "duration": 15,
    "start_time": "2022-03-17T19:37:23.137Z"
   },
   {
    "duration": 28,
    "start_time": "2022-03-17T19:37:23.153Z"
   },
   {
    "duration": 24,
    "start_time": "2022-03-17T19:37:23.183Z"
   },
   {
    "duration": 21,
    "start_time": "2022-03-17T19:37:23.209Z"
   },
   {
    "duration": 10,
    "start_time": "2022-03-17T19:37:23.231Z"
   },
   {
    "duration": 2,
    "start_time": "2022-03-17T19:37:23.243Z"
   },
   {
    "duration": 38,
    "start_time": "2022-03-17T19:37:23.247Z"
   },
   {
    "duration": 711,
    "start_time": "2022-03-17T19:37:23.286Z"
   },
   {
    "duration": 541,
    "start_time": "2022-03-17T19:37:23.999Z"
   },
   {
    "duration": 465,
    "start_time": "2022-03-17T19:37:24.542Z"
   },
   {
    "duration": 648,
    "start_time": "2022-03-17T19:37:25.009Z"
   },
   {
    "duration": 566,
    "start_time": "2022-03-17T19:37:25.659Z"
   },
   {
    "duration": 252,
    "start_time": "2022-03-17T19:37:26.230Z"
   },
   {
    "duration": 6,
    "start_time": "2022-03-17T19:37:26.484Z"
   },
   {
    "duration": 684,
    "start_time": "2022-03-17T19:37:26.491Z"
   },
   {
    "duration": 10,
    "start_time": "2022-03-17T19:37:27.181Z"
   },
   {
    "duration": 16,
    "start_time": "2022-03-17T19:37:27.193Z"
   },
   {
    "duration": 9,
    "start_time": "2022-03-17T19:37:27.211Z"
   },
   {
    "duration": 505,
    "start_time": "2022-03-17T19:37:27.222Z"
   },
   {
    "duration": 25,
    "start_time": "2022-03-17T19:37:27.728Z"
   },
   {
    "duration": 40,
    "start_time": "2022-03-17T19:37:27.754Z"
   },
   {
    "duration": 69,
    "start_time": "2022-03-17T19:37:27.796Z"
   },
   {
    "duration": 28,
    "start_time": "2022-03-17T19:37:27.868Z"
   },
   {
    "duration": 5,
    "start_time": "2022-03-17T19:37:27.898Z"
   },
   {
    "duration": 11,
    "start_time": "2022-03-17T19:37:27.905Z"
   },
   {
    "duration": 19,
    "start_time": "2022-03-17T19:37:27.918Z"
   },
   {
    "duration": 4,
    "start_time": "2022-03-17T19:37:27.939Z"
   },
   {
    "duration": 4,
    "start_time": "2022-03-17T19:37:27.945Z"
   },
   {
    "duration": 8,
    "start_time": "2022-03-17T19:37:27.951Z"
   },
   {
    "duration": 43,
    "start_time": "2022-03-17T19:37:27.961Z"
   },
   {
    "duration": 5,
    "start_time": "2022-03-17T19:37:28.006Z"
   },
   {
    "duration": 31,
    "start_time": "2022-03-17T19:37:28.012Z"
   },
   {
    "duration": 4,
    "start_time": "2022-03-17T19:37:28.045Z"
   },
   {
    "duration": 12,
    "start_time": "2022-03-17T19:37:28.051Z"
   },
   {
    "duration": 18,
    "start_time": "2022-03-17T19:37:28.064Z"
   },
   {
    "duration": 8,
    "start_time": "2022-03-17T19:37:28.083Z"
   },
   {
    "duration": 8,
    "start_time": "2022-03-17T19:37:28.092Z"
   },
   {
    "duration": 4,
    "start_time": "2022-03-17T19:37:28.102Z"
   },
   {
    "duration": 3,
    "start_time": "2022-03-17T19:37:28.109Z"
   },
   {
    "duration": 7,
    "start_time": "2022-03-17T19:37:28.114Z"
   },
   {
    "duration": 5,
    "start_time": "2022-03-17T19:37:28.122Z"
   },
   {
    "duration": 6,
    "start_time": "2022-03-17T19:37:28.128Z"
   },
   {
    "duration": 14,
    "start_time": "2022-03-17T19:37:28.137Z"
   },
   {
    "duration": 3,
    "start_time": "2022-03-17T19:37:28.152Z"
   },
   {
    "duration": 3,
    "start_time": "2022-03-17T19:37:28.180Z"
   },
   {
    "duration": 6,
    "start_time": "2022-03-17T19:37:28.186Z"
   },
   {
    "duration": 5138,
    "start_time": "2022-03-17T19:37:28.194Z"
   },
   {
    "duration": 11413,
    "start_time": "2022-03-17T19:37:33.334Z"
   },
   {
    "duration": 5,
    "start_time": "2022-03-17T19:37:44.750Z"
   },
   {
    "duration": 14,
    "start_time": "2022-03-17T19:37:44.756Z"
   },
   {
    "duration": 13,
    "start_time": "2022-03-17T19:37:44.772Z"
   },
   {
    "duration": 99918,
    "start_time": "2022-03-17T19:37:44.787Z"
   },
   {
    "duration": 247792,
    "start_time": "2022-03-17T19:39:24.707Z"
   },
   {
    "duration": 4,
    "start_time": "2022-03-17T19:43:32.502Z"
   },
   {
    "duration": 7,
    "start_time": "2022-03-17T19:43:32.507Z"
   },
   {
    "duration": 4,
    "start_time": "2022-03-17T19:43:32.516Z"
   },
   {
    "duration": 1166,
    "start_time": "2022-03-17T19:43:32.522Z"
   },
   {
    "duration": 2022,
    "start_time": "2022-03-17T19:43:33.690Z"
   },
   {
    "duration": 12,
    "start_time": "2022-03-17T19:43:35.788Z"
   },
   {
    "duration": 95,
    "start_time": "2022-03-17T19:43:35.807Z"
   },
   {
    "duration": 5,
    "start_time": "2022-03-17T19:43:35.904Z"
   },
   {
    "duration": 7,
    "start_time": "2022-03-17T19:43:35.910Z"
   },
   {
    "duration": 4,
    "start_time": "2022-03-17T19:43:35.918Z"
   },
   {
    "duration": 9,
    "start_time": "2022-03-17T19:43:35.924Z"
   },
   {
    "duration": 7,
    "start_time": "2022-03-17T19:43:35.934Z"
   },
   {
    "duration": 4,
    "start_time": "2022-03-17T19:43:35.943Z"
   },
   {
    "duration": 4,
    "start_time": "2022-03-17T19:43:35.949Z"
   },
   {
    "duration": 4,
    "start_time": "2022-03-17T19:43:35.955Z"
   },
   {
    "duration": 4,
    "start_time": "2022-03-17T19:43:35.961Z"
   },
   {
    "duration": 8,
    "start_time": "2022-03-17T19:43:35.967Z"
   },
   {
    "duration": 5,
    "start_time": "2022-03-17T19:43:35.977Z"
   },
   {
    "duration": 24,
    "start_time": "2022-03-17T19:43:35.984Z"
   },
   {
    "duration": 6,
    "start_time": "2022-03-17T19:43:36.010Z"
   },
   {
    "duration": 8,
    "start_time": "2022-03-17T19:43:36.018Z"
   },
   {
    "duration": 5,
    "start_time": "2022-03-17T19:43:36.027Z"
   },
   {
    "duration": 7,
    "start_time": "2022-03-17T19:43:36.033Z"
   },
   {
    "duration": 4,
    "start_time": "2022-03-17T19:43:36.041Z"
   },
   {
    "duration": 4,
    "start_time": "2022-03-17T19:43:36.047Z"
   },
   {
    "duration": 6,
    "start_time": "2022-03-17T19:43:36.053Z"
   },
   {
    "duration": 7,
    "start_time": "2022-03-17T19:43:36.061Z"
   },
   {
    "duration": 94,
    "start_time": "2022-03-17T20:17:25.416Z"
   },
   {
    "duration": 3,
    "start_time": "2022-03-17T20:17:52.185Z"
   },
   {
    "duration": 20,
    "start_time": "2022-03-17T20:17:54.376Z"
   },
   {
    "duration": 9,
    "start_time": "2022-03-17T20:19:32.535Z"
   },
   {
    "duration": 533,
    "start_time": "2022-03-17T20:28:53.976Z"
   },
   {
    "duration": 3685,
    "start_time": "2022-03-17T20:30:11.822Z"
   },
   {
    "duration": 288,
    "start_time": "2022-03-17T20:32:38.702Z"
   },
   {
    "duration": 3,
    "start_time": "2022-03-17T20:34:22.762Z"
   },
   {
    "duration": 6,
    "start_time": "2022-03-17T20:34:22.767Z"
   },
   {
    "duration": 1623,
    "start_time": "2022-03-17T20:34:22.775Z"
   },
   {
    "duration": 884,
    "start_time": "2022-03-17T20:34:24.400Z"
   },
   {
    "duration": 23,
    "start_time": "2022-03-17T20:34:25.286Z"
   },
   {
    "duration": 19,
    "start_time": "2022-03-17T20:34:25.311Z"
   },
   {
    "duration": 24,
    "start_time": "2022-03-17T20:34:25.332Z"
   },
   {
    "duration": 35,
    "start_time": "2022-03-17T20:34:25.358Z"
   },
   {
    "duration": 18,
    "start_time": "2022-03-17T20:34:25.395Z"
   },
   {
    "duration": 13,
    "start_time": "2022-03-17T20:34:25.415Z"
   },
   {
    "duration": 8,
    "start_time": "2022-03-17T20:34:25.431Z"
   },
   {
    "duration": 44,
    "start_time": "2022-03-17T20:34:25.440Z"
   },
   {
    "duration": 7,
    "start_time": "2022-03-17T20:34:25.486Z"
   },
   {
    "duration": 10,
    "start_time": "2022-03-17T20:34:25.495Z"
   },
   {
    "duration": 8,
    "start_time": "2022-03-17T20:34:25.506Z"
   },
   {
    "duration": 207,
    "start_time": "2022-03-17T20:34:25.515Z"
   },
   {
    "duration": 2,
    "start_time": "2022-03-17T20:34:25.725Z"
   },
   {
    "duration": 4,
    "start_time": "2022-03-17T20:34:25.730Z"
   },
   {
    "duration": 5,
    "start_time": "2022-03-17T20:34:25.736Z"
   },
   {
    "duration": 4,
    "start_time": "2022-03-17T20:34:25.743Z"
   },
   {
    "duration": 4,
    "start_time": "2022-03-17T20:34:25.749Z"
   },
   {
    "duration": 27,
    "start_time": "2022-03-17T20:34:25.754Z"
   },
   {
    "duration": 5,
    "start_time": "2022-03-17T20:34:25.782Z"
   },
   {
    "duration": 12,
    "start_time": "2022-03-17T20:34:25.788Z"
   },
   {
    "duration": 8,
    "start_time": "2022-03-17T20:34:25.802Z"
   },
   {
    "duration": 6,
    "start_time": "2022-03-17T20:34:25.812Z"
   },
   {
    "duration": 23,
    "start_time": "2022-03-17T20:34:25.819Z"
   },
   {
    "duration": 48,
    "start_time": "2022-03-17T20:34:25.844Z"
   },
   {
    "duration": 8,
    "start_time": "2022-03-17T20:34:25.896Z"
   },
   {
    "duration": 2,
    "start_time": "2022-03-17T20:34:25.906Z"
   },
   {
    "duration": 6,
    "start_time": "2022-03-17T20:34:25.909Z"
   },
   {
    "duration": 855,
    "start_time": "2022-03-17T20:34:25.917Z"
   },
   {
    "duration": 932,
    "start_time": "2022-03-17T20:34:26.780Z"
   },
   {
    "duration": 838,
    "start_time": "2022-03-17T20:34:27.714Z"
   },
   {
    "duration": 772,
    "start_time": "2022-03-17T20:34:28.554Z"
   },
   {
    "duration": 541,
    "start_time": "2022-03-17T20:34:29.328Z"
   },
   {
    "duration": 240,
    "start_time": "2022-03-17T20:34:29.871Z"
   },
   {
    "duration": 7,
    "start_time": "2022-03-17T20:34:30.112Z"
   },
   {
    "duration": 603,
    "start_time": "2022-03-17T20:34:30.120Z"
   },
   {
    "duration": 8,
    "start_time": "2022-03-17T20:34:30.726Z"
   },
   {
    "duration": 7,
    "start_time": "2022-03-17T20:34:30.736Z"
   },
   {
    "duration": 7,
    "start_time": "2022-03-17T20:34:30.745Z"
   },
   {
    "duration": 479,
    "start_time": "2022-03-17T20:34:30.754Z"
   },
   {
    "duration": 26,
    "start_time": "2022-03-17T20:34:31.235Z"
   },
   {
    "duration": 38,
    "start_time": "2022-03-17T20:34:31.262Z"
   },
   {
    "duration": 101,
    "start_time": "2022-03-17T20:34:31.301Z"
   },
   {
    "duration": 23,
    "start_time": "2022-03-17T20:34:31.404Z"
   },
   {
    "duration": 4,
    "start_time": "2022-03-17T20:34:31.429Z"
   },
   {
    "duration": 13,
    "start_time": "2022-03-17T20:34:31.435Z"
   },
   {
    "duration": 16,
    "start_time": "2022-03-17T20:34:31.450Z"
   },
   {
    "duration": 17,
    "start_time": "2022-03-17T20:34:31.467Z"
   },
   {
    "duration": 10,
    "start_time": "2022-03-17T20:34:31.486Z"
   },
   {
    "duration": 14,
    "start_time": "2022-03-17T20:34:31.498Z"
   },
   {
    "duration": 22,
    "start_time": "2022-03-17T20:34:31.513Z"
   },
   {
    "duration": 7,
    "start_time": "2022-03-17T20:34:31.537Z"
   },
   {
    "duration": 40,
    "start_time": "2022-03-17T20:34:31.545Z"
   },
   {
    "duration": 4,
    "start_time": "2022-03-17T20:34:31.586Z"
   },
   {
    "duration": 25,
    "start_time": "2022-03-17T20:34:31.591Z"
   },
   {
    "duration": 20,
    "start_time": "2022-03-17T20:34:31.618Z"
   },
   {
    "duration": 10,
    "start_time": "2022-03-17T20:34:31.639Z"
   },
   {
    "duration": 14,
    "start_time": "2022-03-17T20:34:31.651Z"
   },
   {
    "duration": 16,
    "start_time": "2022-03-17T20:34:31.666Z"
   },
   {
    "duration": 5,
    "start_time": "2022-03-17T20:34:31.683Z"
   },
   {
    "duration": 24,
    "start_time": "2022-03-17T20:34:31.690Z"
   },
   {
    "duration": 12,
    "start_time": "2022-03-17T20:34:31.716Z"
   },
   {
    "duration": 11,
    "start_time": "2022-03-17T20:34:31.730Z"
   },
   {
    "duration": 34,
    "start_time": "2022-03-17T20:34:31.744Z"
   },
   {
    "duration": 3,
    "start_time": "2022-03-17T20:34:31.780Z"
   },
   {
    "duration": 12,
    "start_time": "2022-03-17T20:34:31.784Z"
   },
   {
    "duration": 15,
    "start_time": "2022-03-17T20:34:31.798Z"
   },
   {
    "duration": 7051,
    "start_time": "2022-03-17T20:34:31.815Z"
   },
   {
    "duration": 11315,
    "start_time": "2022-03-17T20:34:38.868Z"
   },
   {
    "duration": 5,
    "start_time": "2022-03-17T20:34:50.185Z"
   },
   {
    "duration": 13,
    "start_time": "2022-03-17T20:34:50.191Z"
   },
   {
    "duration": 20,
    "start_time": "2022-03-17T20:34:50.205Z"
   },
   {
    "duration": 99386,
    "start_time": "2022-03-17T20:34:50.226Z"
   },
   {
    "duration": 225133,
    "start_time": "2022-03-17T20:36:29.614Z"
   },
   {
    "duration": 4,
    "start_time": "2022-03-17T20:40:14.749Z"
   },
   {
    "duration": 6,
    "start_time": "2022-03-17T20:40:14.755Z"
   },
   {
    "duration": 18,
    "start_time": "2022-03-17T20:40:14.763Z"
   },
   {
    "duration": 1006,
    "start_time": "2022-03-17T20:40:14.782Z"
   },
   {
    "duration": 2098,
    "start_time": "2022-03-17T20:40:15.790Z"
   },
   {
    "duration": 4,
    "start_time": "2022-03-17T20:40:18.081Z"
   },
   {
    "duration": 4,
    "start_time": "2022-03-17T20:40:18.086Z"
   },
   {
    "duration": 5,
    "start_time": "2022-03-17T20:40:18.091Z"
   },
   {
    "duration": 5,
    "start_time": "2022-03-17T20:40:18.097Z"
   },
   {
    "duration": 5,
    "start_time": "2022-03-17T20:40:18.103Z"
   },
   {
    "duration": 7,
    "start_time": "2022-03-17T20:40:18.109Z"
   },
   {
    "duration": 5,
    "start_time": "2022-03-17T20:40:18.117Z"
   },
   {
    "duration": 5,
    "start_time": "2022-03-17T20:40:18.123Z"
   },
   {
    "duration": 4,
    "start_time": "2022-03-17T20:40:18.129Z"
   },
   {
    "duration": 5,
    "start_time": "2022-03-17T20:40:18.135Z"
   },
   {
    "duration": 6,
    "start_time": "2022-03-17T20:40:18.141Z"
   },
   {
    "duration": 6,
    "start_time": "2022-03-17T20:40:18.148Z"
   },
   {
    "duration": 3,
    "start_time": "2022-03-17T20:40:18.180Z"
   },
   {
    "duration": 5,
    "start_time": "2022-03-17T20:40:18.185Z"
   },
   {
    "duration": 5,
    "start_time": "2022-03-17T20:40:18.191Z"
   },
   {
    "duration": 7,
    "start_time": "2022-03-17T20:40:18.197Z"
   },
   {
    "duration": 5,
    "start_time": "2022-03-17T20:40:18.206Z"
   },
   {
    "duration": 7,
    "start_time": "2022-03-17T20:40:18.212Z"
   },
   {
    "duration": 5,
    "start_time": "2022-03-17T20:40:18.220Z"
   },
   {
    "duration": 5,
    "start_time": "2022-03-17T20:40:18.226Z"
   },
   {
    "duration": 11,
    "start_time": "2022-03-17T20:40:18.233Z"
   },
   {
    "duration": 783,
    "start_time": "2022-03-17T20:40:18.246Z"
   },
   {
    "duration": 5163,
    "start_time": "2022-03-17T20:40:19.031Z"
   },
   {
    "duration": 385,
    "start_time": "2022-03-17T20:40:24.197Z"
   }
  ],
  "kernelspec": {
   "display_name": "Python 3 (ipykernel)",
   "language": "python",
   "name": "python3"
  },
  "language_info": {
   "codemirror_mode": {
    "name": "ipython",
    "version": 3
   },
   "file_extension": ".py",
   "mimetype": "text/x-python",
   "name": "python",
   "nbconvert_exporter": "python",
   "pygments_lexer": "ipython3",
   "version": "3.9.5"
  },
  "toc": {
   "base_numbering": 1,
   "nav_menu": {},
   "number_sections": true,
   "sideBar": true,
   "skip_h1_title": true,
   "title_cell": "Содержание",
   "title_sidebar": "Contents",
   "toc_cell": true,
   "toc_position": {
    "height": "calc(100% - 180px)",
    "left": "10px",
    "top": "150px",
    "width": "242.391px"
   },
   "toc_section_display": true,
   "toc_window_display": true
  }
 },
 "nbformat": 4,
 "nbformat_minor": 2
}
