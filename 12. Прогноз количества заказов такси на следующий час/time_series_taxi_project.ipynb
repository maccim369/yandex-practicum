{
 "cells": [
  {
   "cell_type": "markdown",
   "metadata": {},
   "source": [
    "#  План работы\n",
    "\n",
    "1. Подготовка данных\n",
    "2. Анализ данных\n",
    "3. Обучение моделей\n",
    "4. Тестирование\n",
    "5. Выводы"
   ]
  },
  {
   "cell_type": "markdown",
   "metadata": {},
   "source": [
    "## Подготовка"
   ]
  },
  {
   "cell_type": "markdown",
   "metadata": {},
   "source": [
    "<div style=\"border:solid blue 2px; padding: 20px\">\n",
    "\n",
    "Импортируем библиотеки\n",
    "</div>"
   ]
  },
  {
   "cell_type": "code",
   "execution_count": 1,
   "metadata": {},
   "outputs": [],
   "source": [
    "import pandas as pd\n",
    "import numpy as np\n",
    "import time\n",
    "import warnings\n",
    "import matplotlib.pyplot as plt\n",
    "from sklearn.model_selection import train_test_split\n",
    "from sklearn.model_selection import GridSearchCV\n",
    "from sklearn.metrics import mean_squared_error\n",
    "from sklearn.tree import DecisionTreeRegressor\n",
    "from sklearn.ensemble import RandomForestRegressor\n",
    "from sklearn.linear_model import LinearRegression\n",
    "from catboost import CatBoostRegressor\n",
    "from lightgbm import LGBMRegressor\n",
    "from statsmodels.tsa.seasonal import seasonal_decompose\n",
    "from statsmodels.tsa.stattools import adfuller\n",
    "from sklearn.model_selection import TimeSeriesSplit\n",
    "warnings.filterwarnings('ignore')"
   ]
  },
  {
   "cell_type": "markdown",
   "metadata": {},
   "source": [
    "<div style=\"border:solid blue 2px; padding: 20px\">\n",
    "\n",
    "Откроем и изучим файл\n",
    "    \n",
    "    \n",
    "</div>"
   ]
  },
  {
   "cell_type": "code",
   "execution_count": 2,
   "metadata": {},
   "outputs": [],
   "source": [
    "# чтение файла с данными и сохранение\n",
    "# метод try-except поможет загрузить данные локально или глобально\n",
    "try:\n",
    "    data = pd.read_csv('C:/Users/taxi.csv', index_col=[0], parse_dates=[0])  # Локальный путь\n",
    "except:\n",
    "    data = pd.read_csv('/datasets/taxi.csv', index_col=[0], parse_dates=[0])  # Серверный путь"
   ]
  },
  {
   "cell_type": "markdown",
   "metadata": {},
   "source": [
    "<div style=\"border:solid blue 2px; padding: 20px\">\n",
    "    \n",
    "`head()` выводим на экран первые пять строк таблицы:\n",
    "    </div>"
   ]
  },
  {
   "cell_type": "code",
   "execution_count": 3,
   "metadata": {},
   "outputs": [
    {
     "data": {
      "text/html": [
       "<div>\n",
       "<style scoped>\n",
       "    .dataframe tbody tr th:only-of-type {\n",
       "        vertical-align: middle;\n",
       "    }\n",
       "\n",
       "    .dataframe tbody tr th {\n",
       "        vertical-align: top;\n",
       "    }\n",
       "\n",
       "    .dataframe thead th {\n",
       "        text-align: right;\n",
       "    }\n",
       "</style>\n",
       "<table border=\"1\" class=\"dataframe\">\n",
       "  <thead>\n",
       "    <tr style=\"text-align: right;\">\n",
       "      <th></th>\n",
       "      <th>num_orders</th>\n",
       "    </tr>\n",
       "    <tr>\n",
       "      <th>datetime</th>\n",
       "      <th></th>\n",
       "    </tr>\n",
       "  </thead>\n",
       "  <tbody>\n",
       "    <tr>\n",
       "      <th>2018-03-01 00:00:00</th>\n",
       "      <td>9</td>\n",
       "    </tr>\n",
       "    <tr>\n",
       "      <th>2018-03-01 00:10:00</th>\n",
       "      <td>14</td>\n",
       "    </tr>\n",
       "    <tr>\n",
       "      <th>2018-03-01 00:20:00</th>\n",
       "      <td>28</td>\n",
       "    </tr>\n",
       "    <tr>\n",
       "      <th>2018-03-01 00:30:00</th>\n",
       "      <td>20</td>\n",
       "    </tr>\n",
       "    <tr>\n",
       "      <th>2018-03-01 00:40:00</th>\n",
       "      <td>32</td>\n",
       "    </tr>\n",
       "  </tbody>\n",
       "</table>\n",
       "</div>"
      ],
      "text/plain": [
       "                     num_orders\n",
       "datetime                       \n",
       "2018-03-01 00:00:00           9\n",
       "2018-03-01 00:10:00          14\n",
       "2018-03-01 00:20:00          28\n",
       "2018-03-01 00:30:00          20\n",
       "2018-03-01 00:40:00          32"
      ]
     },
     "execution_count": 3,
     "metadata": {},
     "output_type": "execute_result"
    }
   ],
   "source": [
    "# получение первых 5 строк таблицы\n",
    "data.head()"
   ]
  },
  {
   "cell_type": "markdown",
   "metadata": {},
   "source": [
    "<div style=\"border:solid blue 2px; padding: 20px\">\n",
    "    \n",
    "`info()` получим общую информацию о таблице:\n",
    "    </div>"
   ]
  },
  {
   "cell_type": "code",
   "execution_count": 4,
   "metadata": {},
   "outputs": [
    {
     "name": "stdout",
     "output_type": "stream",
     "text": [
      "<class 'pandas.core.frame.DataFrame'>\n",
      "DatetimeIndex: 26496 entries, 2018-03-01 00:00:00 to 2018-08-31 23:50:00\n",
      "Data columns (total 1 columns):\n",
      " #   Column      Non-Null Count  Dtype\n",
      "---  ------      --------------  -----\n",
      " 0   num_orders  26496 non-null  int64\n",
      "dtypes: int64(1)\n",
      "memory usage: 414.0 KB\n"
     ]
    }
   ],
   "source": [
    "# получение общей информации о данных в таблице\n",
    "data.info()"
   ]
  },
  {
   "cell_type": "markdown",
   "metadata": {},
   "source": [
    "<div style=\"border:solid blue 2px; padding: 20px\">\n",
    "    \n",
    " \n",
    "Методом `describe()` получим описание данных \n",
    "    \n",
    "    \n",
    "</div> "
   ]
  },
  {
   "cell_type": "code",
   "execution_count": 5,
   "metadata": {},
   "outputs": [
    {
     "data": {
      "text/html": [
       "<div>\n",
       "<style scoped>\n",
       "    .dataframe tbody tr th:only-of-type {\n",
       "        vertical-align: middle;\n",
       "    }\n",
       "\n",
       "    .dataframe tbody tr th {\n",
       "        vertical-align: top;\n",
       "    }\n",
       "\n",
       "    .dataframe thead th {\n",
       "        text-align: right;\n",
       "    }\n",
       "</style>\n",
       "<table border=\"1\" class=\"dataframe\">\n",
       "  <thead>\n",
       "    <tr style=\"text-align: right;\">\n",
       "      <th></th>\n",
       "      <th>num_orders</th>\n",
       "    </tr>\n",
       "  </thead>\n",
       "  <tbody>\n",
       "    <tr>\n",
       "      <th>count</th>\n",
       "      <td>26496.000000</td>\n",
       "    </tr>\n",
       "    <tr>\n",
       "      <th>mean</th>\n",
       "      <td>14.070463</td>\n",
       "    </tr>\n",
       "    <tr>\n",
       "      <th>std</th>\n",
       "      <td>9.211330</td>\n",
       "    </tr>\n",
       "    <tr>\n",
       "      <th>min</th>\n",
       "      <td>0.000000</td>\n",
       "    </tr>\n",
       "    <tr>\n",
       "      <th>25%</th>\n",
       "      <td>8.000000</td>\n",
       "    </tr>\n",
       "    <tr>\n",
       "      <th>50%</th>\n",
       "      <td>13.000000</td>\n",
       "    </tr>\n",
       "    <tr>\n",
       "      <th>75%</th>\n",
       "      <td>19.000000</td>\n",
       "    </tr>\n",
       "    <tr>\n",
       "      <th>max</th>\n",
       "      <td>119.000000</td>\n",
       "    </tr>\n",
       "  </tbody>\n",
       "</table>\n",
       "</div>"
      ],
      "text/plain": [
       "         num_orders\n",
       "count  26496.000000\n",
       "mean      14.070463\n",
       "std        9.211330\n",
       "min        0.000000\n",
       "25%        8.000000\n",
       "50%       13.000000\n",
       "75%       19.000000\n",
       "max      119.000000"
      ]
     },
     "execution_count": 5,
     "metadata": {},
     "output_type": "execute_result"
    }
   ],
   "source": [
    "# описание данных\n",
    "data.describe()"
   ]
  },
  {
   "cell_type": "markdown",
   "metadata": {},
   "source": [
    "<div style=\"border:solid blue 2px; padding: 20px\">\n",
    "    \n",
    " \n",
    "Методом `sort_index()` отсортируем индекс таблицы и \n",
    "    \n",
    "    \n",
    "`is_monotonic()` проверим, в хронологическом ли порядке расположены даты и время\n",
    "    \n",
    "    \n",
    "</div> "
   ]
  },
  {
   "cell_type": "code",
   "execution_count": 6,
   "metadata": {},
   "outputs": [],
   "source": [
    "# сортировка индексов\n",
    "data.sort_index(inplace=True)"
   ]
  },
  {
   "cell_type": "code",
   "execution_count": 7,
   "metadata": {},
   "outputs": [
    {
     "data": {
      "text/plain": [
       "True"
      ]
     },
     "execution_count": 7,
     "metadata": {},
     "output_type": "execute_result"
    }
   ],
   "source": [
    "# проверка монотонности\n",
    "data.index.is_monotonic"
   ]
  },
  {
   "cell_type": "markdown",
   "metadata": {},
   "source": [
    "<div style=\"border:solid blue 2px; padding: 20px\">\n",
    "    \n",
    " \n",
    "Методом `max()` `min()`получим начало и конец даты и время наблюдения\n",
    "    \n",
    "    \n",
    "</div> "
   ]
  },
  {
   "cell_type": "code",
   "execution_count": 8,
   "metadata": {},
   "outputs": [
    {
     "name": "stdout",
     "output_type": "stream",
     "text": [
      "Дата начала наблюдений: 2018-03-01 00:00:00\n",
      "Дата окончания наблюдений: 2018-08-31 23:50:00\n",
      "Временной отрезок: 183 days 23:50:00\n"
     ]
    }
   ],
   "source": [
    "# начальная и конечная даты наблюдений\n",
    "print('Дата начала наблюдений: {}'.format(data.index.min()))\n",
    "print('Дата окончания наблюдений: {}'.format(data.index.max()))\n",
    "print('Временной отрезок: {}'.format(data.index.max() - data.index.min()))"
   ]
  },
  {
   "cell_type": "markdown",
   "metadata": {},
   "source": [
    "<div style=\"border:solid blue 2px; padding: 20px\">\n",
    "\n",
    "### Вывод\n",
    "\n",
    "\n",
    "    \n",
    "    \n",
    "</div>"
   ]
  },
  {
   "cell_type": "markdown",
   "metadata": {},
   "source": [
    "<div style=\"border:solid blue 2px; padding: 20px\">\n",
    "    \n",
    "**Оценка полученных данных**\n",
    "\n",
    "Наблюдения, представленные в таблице описываются количественными значениями.\n",
    "    \n",
    "Дата начала наблюдений: `2018-03-01 00:00:00`\n",
    "    \n",
    "Дата окончания наблюдений: `2018-08-31 23:50:00`\n",
    "    \n",
    "Временной отрезок: `183 дня 23:50:00`\n",
    "    \n",
    "Данные можно исследовать для дальнейшего анализа:\n",
    "    \n",
    "`num_orders` - количество заказов - целевой признак\n",
    "    \n",
    "Привели данные к удобному формату, для их анализа:\n",
    "    \n",
    "аргументом `parse_dates` изменили тип данных `Datetime` с `object` на `datetime64`\n",
    "    \n",
    "аргументом `index_col` установили индекс таблицы равным столбцу `Datetime`\n",
    "    \n",
    "методом `sort_index` отсортировали индекс таблицы\n",
    "    \n",
    "аргументом `is_monotonic` проверили хронологический порядок расположения дат\n",
    "    \n",
    "    \n",
    "</div> "
   ]
  },
  {
   "cell_type": "markdown",
   "metadata": {},
   "source": [
    "## Анализ"
   ]
  },
  {
   "cell_type": "markdown",
   "metadata": {},
   "source": [
    "<div style=\"border:solid blue 2px; padding: 20px\">\n",
    "    \n",
    " \n",
    "Методом `resample()` поменяем интервал временного ряда с `10мин` на `1 час`\n",
    "    \n",
    "и `sum()` вычислим агрегированное значение ряда\n",
    "    \n",
    "    \n",
    "</div> "
   ]
  },
  {
   "cell_type": "code",
   "execution_count": 9,
   "metadata": {},
   "outputs": [],
   "source": [
    "# изменение интервала временного ряда\n",
    "data = data.resample('1H').sum()"
   ]
  },
  {
   "cell_type": "code",
   "execution_count": 10,
   "metadata": {
    "scrolled": false
   },
   "outputs": [
    {
     "data": {
      "text/plain": [
       "<AxesSubplot:title={'center':'График временного ряда интервал 1час'}, xlabel='datetime'>"
      ]
     },
     "execution_count": 10,
     "metadata": {},
     "output_type": "execute_result"
    },
    {
     "data": {
      "image/png": "[encoded data removed]",
      "text/plain": [
       "<Figure size 432x288 with 1 Axes>"
      ]
     },
     "metadata": {
      "needs_background": "light"
     },
     "output_type": "display_data"
    }
   ],
   "source": [
    "data.plot(title = 'График временного ряда интервал 1час')"
   ]
  },
  {
   "cell_type": "markdown",
   "metadata": {},
   "source": [
    "<div style=\"border:solid blue 2px; padding: 20px\">\n",
    "    \n",
    " \n",
    "Временной ряд необходимо разбить на составляющие `trend` `seasonal` `resid`\n",
    "\n",
    "    \n",
    "</div> "
   ]
  },
  {
   "cell_type": "markdown",
   "metadata": {},
   "source": [
    "<div style=\"border:solid blue 2px; padding: 20px\">\n",
    "    \n",
    " \n",
    "`seasonal_decompose()` разобъём временной ряд на `trend` `seasonal` `resid`\n",
    "\n",
    "    \n",
    "</div> "
   ]
  },
  {
   "cell_type": "code",
   "execution_count": 11,
   "metadata": {},
   "outputs": [],
   "source": [
    "decomposed = seasonal_decompose(data['num_orders'])"
   ]
  },
  {
   "cell_type": "code",
   "execution_count": 12,
   "metadata": {
    "scrolled": false
   },
   "outputs": [
    {
     "data": {
      "image/png": "[encoded data removed]",
      "text/plain": [
       "<Figure size 432x576 with 3 Axes>"
      ]
     },
     "metadata": {
      "needs_background": "light"
     },
     "output_type": "display_data"
    }
   ],
   "source": [
    "# графики составляющих временной ряд\n",
    "plt.figure(figsize=(6, 8))\n",
    "plt.subplot(311)\n",
    "decomposed.trend.plot(ax=plt.gca())\n",
    "plt.title('Тренд')\n",
    "plt.subplot(312)\n",
    "decomposed.seasonal.plot(ax=plt.gca()) \n",
    "plt.title('Сезонность')\n",
    "plt.subplot(313)\n",
    "decomposed.resid.plot(ax=plt.gca())\n",
    "plt.title('Остаток')\n",
    "plt.tight_layout()"
   ]
  },
  {
   "cell_type": "markdown",
   "metadata": {},
   "source": [
    "<div style=\"border:solid blue 2px; padding: 20px\">\n",
    "    \n",
    " \n",
    "`trend` показывает рост во времени\n",
    "    \n",
    "`seasonal` исследуем дальше - период месяц и неделя, итервал 1 день\n",
    "    \n",
    "`resid` не объяснимы)))\n",
    "\n",
    "    \n",
    "</div> "
   ]
  },
  {
   "cell_type": "markdown",
   "metadata": {},
   "source": [
    "<div style=\"border:solid blue 2px; padding: 20px\">\n",
    "    \n",
    " \n",
    "Построим график сезонной составляющей за один месяц\n",
    "\n",
    "    \n",
    "</div> "
   ]
  },
  {
   "cell_type": "code",
   "execution_count": 13,
   "metadata": {
    "scrolled": false
   },
   "outputs": [
    {
     "data": {
      "text/plain": [
       "<AxesSubplot:xlabel='datetime'>"
      ]
     },
     "execution_count": 13,
     "metadata": {},
     "output_type": "execute_result"
    },
    {
     "data": {
      "image/png": "[encoded data removed]",
      "text/plain": [
       "<Figure size 432x288 with 1 Axes>"
      ]
     },
     "metadata": {
      "needs_background": "light"
     },
     "output_type": "display_data"
    }
   ],
   "source": [
    "# график сезонности за один месяц с интервалом в 1день\n",
    "seasonal_decompose(data['num_orders'].resample('1D').sum()).seasonal['2018-03-01':'2018-03-31'].plot()"
   ]
  },
  {
   "cell_type": "markdown",
   "metadata": {},
   "source": [
    "<div style=\"border:solid blue 2px; padding: 20px\">\n",
    "    \n",
    " \n",
    "На графике сезонной составляющей за месяц наблюдаем сезонность по неделям\n",
    "\n",
    "\n",
    "    \n",
    "</div> "
   ]
  },
  {
   "cell_type": "markdown",
   "metadata": {},
   "source": [
    "<div style=\"border:solid blue 2px; padding: 20px\">\n",
    "    \n",
    " \n",
    "Построим график сезонной составляющей за одну неделю\n",
    "\n",
    "    \n",
    "</div> "
   ]
  },
  {
   "cell_type": "code",
   "execution_count": 14,
   "metadata": {
    "scrolled": false
   },
   "outputs": [
    {
     "data": {
      "text/plain": [
       "<AxesSubplot:xlabel='datetime'>"
      ]
     },
     "execution_count": 14,
     "metadata": {},
     "output_type": "execute_result"
    },
    {
     "data": {
      "image/png": "[encoded data removed]",
      "text/plain": [
       "<Figure size 432x288 with 1 Axes>"
      ]
     },
     "metadata": {
      "needs_background": "light"
     },
     "output_type": "display_data"
    }
   ],
   "source": [
    "# график сезонности за одну неделю с интервалом в 1день\n",
    "seasonal_decompose(data['num_orders'].resample('1D').sum()).seasonal['2018-03-01':'2018-03-07'].plot()"
   ]
  },
  {
   "cell_type": "markdown",
   "metadata": {},
   "source": [
    "<div style=\"border:solid blue 2px; padding: 20px\">\n",
    "    \n",
    " \n",
    "На графике сезонной составляющей за одну неделю наблюдаем\n",
    "    \n",
    "- увеличение количества заказов на 1-2 день и 5-день\n",
    "    \n",
    "- снижение количества заказов на 3-4 день и 6-день\n",
    "\n",
    "    \n",
    "</div> "
   ]
  },
  {
   "cell_type": "markdown",
   "metadata": {},
   "source": [
    "<div style=\"border:solid blue 2px; padding: 20px\">\n",
    "    \n",
    " \n",
    "`shift()` применим для получения сдвига\n",
    "    \n",
    "Сделаем ряд стационарным, найдём разности временного ряда\n",
    "\n",
    "    \n",
    "</div> "
   ]
  },
  {
   "cell_type": "code",
   "execution_count": 15,
   "metadata": {},
   "outputs": [],
   "source": [
    "# получение разности временного ряда\n",
    "data = data - data.shift(fill_value=0)"
   ]
  },
  {
   "cell_type": "markdown",
   "metadata": {},
   "source": [
    "<div style=\"border:solid blue 2px; padding: 20px\">\n",
    "    \n",
    " \n",
    "`rolling()` применим скользящее среднее и\n",
    "    \n",
    "    \n",
    "`mean()` для агрегации значений\n",
    "    \n",
    "\n",
    "`std()` для агрегации значений    \n",
    "    \n",
    "</div> "
   ]
  },
  {
   "cell_type": "code",
   "execution_count": 16,
   "metadata": {},
   "outputs": [],
   "source": [
    "# получение столбца с размером окна 10\n",
    "data['rolling_mean'] = data['num_orders'].rolling(7).mean()"
   ]
  },
  {
   "cell_type": "code",
   "execution_count": 17,
   "metadata": {},
   "outputs": [],
   "source": [
    "# получение столбца с размером окна 10\n",
    "data['rolling_std'] = data['num_orders'].rolling(7).std()"
   ]
  },
  {
   "cell_type": "code",
   "execution_count": 18,
   "metadata": {},
   "outputs": [
    {
     "data": {
      "text/plain": [
       "<AxesSubplot:title={'center':'График Временного ряда/Скользящего среднего/Скользящего стандартного отклонения'}, xlabel='datetime'>"
      ]
     },
     "execution_count": 18,
     "metadata": {},
     "output_type": "execute_result"
    },
    {
     "data": {
      "image/png": "[encoded data removed]",
      "text/plain": [
       "<Figure size 432x288 with 1 Axes>"
      ]
     },
     "metadata": {
      "needs_background": "light"
     },
     "output_type": "display_data"
    }
   ],
   "source": [
    "data.plot(title = 'График Временного ряда/Скользящего среднего/Скользящего стандартного отклонения')"
   ]
  },
  {
   "cell_type": "markdown",
   "metadata": {},
   "source": [
    "<div style=\"border:solid blue 2px; padding: 20px\">\n",
    "    \n",
    " \n",
    "Временной ряд стал более стационарным\n",
    "\n",
    "    \n",
    "</div> "
   ]
  },
  {
   "cell_type": "markdown",
   "metadata": {},
   "source": [
    "<div style=\"border:solid blue 2px; padding: 20px\">\n",
    "    \n",
    " \n",
    "Проведём статистический тест Дики-Фуллера. Сделаем предположения о данных.\n",
    "    \n",
    "Он определяет, насколько сильно временной ряд определяется трендом.\n",
    "\n",
    "    \n",
    "</div> "
   ]
  },
  {
   "cell_type": "markdown",
   "metadata": {},
   "source": [
    "<div style=\"border:solid blue 2px; padding: 20px\">\n",
    "    \n",
    " \n",
    "**Нулевая гипотеза (H0)**: Временной ряд является нестационарным\n",
    "    \n",
    " \n",
    "**Альтернативная гипотеза (H1)**: Временной ряд является стационарным\n",
    "\n",
    "    \n",
    "</div> "
   ]
  },
  {
   "cell_type": "markdown",
   "metadata": {},
   "source": [
    "<div style=\"border:solid blue 2px; padding: 20px\">\n",
    "    \n",
    "    \n",
    "Пороговое значение зададим `alpha` `=`  `0.05`\n",
    "    \n",
    "\n",
    "    \n",
    "</div> "
   ]
  },
  {
   "cell_type": "code",
   "execution_count": 19,
   "metadata": {},
   "outputs": [
    {
     "name": "stdout",
     "output_type": "stream",
     "text": [
      "ADF Statistic: -15.802772\n",
      "p-value: 1.8010703814638697e-24\n",
      "Critical Values:\n",
      "\t1%: -4.374\n",
      "\t5%: -3.834\n",
      "\t10%: -3.554\n",
      "Отвергаем нулевую гипотезу\n"
     ]
    }
   ],
   "source": [
    "# проверка гипотезы\n",
    "alpha = 0.05\n",
    "result = adfuller(data['num_orders'], regression='ctt')\n",
    "print('ADF Statistic: %f' % result[0])\n",
    "print('p-value:', result[1])\n",
    "print('Critical Values:')\n",
    "for key, value in result[4].items():\n",
    "    print('\\t%s: %.3f' % (key, value))\n",
    "if (result[1] < alpha):\n",
    "    print('Отвергаем нулевую гипотезу')\n",
    "else:\n",
    "    print('Не получилось отвергнуть нулевую гипотезу')"
   ]
  },
  {
   "cell_type": "markdown",
   "metadata": {},
   "source": [
    "<div style=\"border:solid blue 2px; padding: 20px\">\n",
    "    \n",
    "    \n",
    "Тестовое статистическое значение `adf` `-15.8`. \n",
    "    \n",
    "Чем более отрицательна эта статистика, тем больше вероятность того, \n",
    "    \n",
    "что мы отвергнем нулевую гипотезу, т.е. у нас есть стационарный набор данных.\n",
    "    \n",
    "\n",
    "    \n",
    "</div> "
   ]
  },
  {
   "cell_type": "code",
   "execution_count": 20,
   "metadata": {},
   "outputs": [
    {
     "data": {
      "image/png": "[encoded data removed]",
      "text/plain": [
       "<Figure size 432x576 with 3 Axes>"
      ]
     },
     "metadata": {
      "needs_background": "light"
     },
     "output_type": "display_data"
    }
   ],
   "source": [
    "# графики составляющих временной ряд\n",
    "decomposed = seasonal_decompose(data['num_orders'])\n",
    "plt.figure(figsize=(6, 8))\n",
    "plt.subplot(311)\n",
    "decomposed.trend.plot(ax=plt.gca())\n",
    "plt.title('Тренд')\n",
    "plt.subplot(312)\n",
    "decomposed.seasonal.plot(ax=plt.gca()) \n",
    "plt.title('Сезонность')\n",
    "plt.subplot(313)\n",
    "decomposed.resid.plot(ax=plt.gca())\n",
    "plt.title('Остаток')\n",
    "plt.tight_layout()"
   ]
  },
  {
   "cell_type": "code",
   "execution_count": 21,
   "metadata": {
    "scrolled": false
   },
   "outputs": [
    {
     "data": {
      "text/plain": [
       "<AxesSubplot:xlabel='datetime'>"
      ]
     },
     "execution_count": 21,
     "metadata": {},
     "output_type": "execute_result"
    },
    {
     "data": {
      "image/png": "[encoded data removed]",
      "text/plain": [
       "<Figure size 432x288 with 1 Axes>"
      ]
     },
     "metadata": {
      "needs_background": "light"
     },
     "output_type": "display_data"
    }
   ],
   "source": [
    "# график сезонности с интервалом в 1день\n",
    "seasonal_decompose(data['num_orders'].resample('1D').sum()).seasonal.plot()"
   ]
  },
  {
   "cell_type": "markdown",
   "metadata": {},
   "source": [
    "<div style=\"border:solid blue 2px; padding: 20px\">\n",
    "    \n",
    " \n",
    "Удалим из данных признаки `rolling_mean` и `rolling_std`\n",
    "    \n",
    "\n",
    "    \n",
    "</div> "
   ]
  },
  {
   "cell_type": "code",
   "execution_count": 22,
   "metadata": {},
   "outputs": [],
   "source": [
    "#удаление столбцов\n",
    "data = data.drop(columns=['rolling_mean','rolling_std'])"
   ]
  },
  {
   "cell_type": "markdown",
   "metadata": {},
   "source": [
    "<div style=\"border:solid blue 2px; padding: 20px\">\n",
    "    \n",
    "Создадим функцию `make_features()` c параметрами `data`, `max_lag`, `rolling_mean_size`\n",
    "    \n",
    "    \n",
    "</div> "
   ]
  },
  {
   "cell_type": "code",
   "execution_count": 23,
   "metadata": {},
   "outputs": [],
   "source": [
    "df = data.copy()"
   ]
  },
  {
   "cell_type": "code",
   "execution_count": 24,
   "metadata": {},
   "outputs": [],
   "source": [
    "# функция получения признаков\n",
    "def make_features(data, max_lag, rolling_mean_size):\n",
    "    data['hour'] = data.index.hour\n",
    "    data['dayofweek'] = data.index.dayofweek\n",
    "    \n",
    "    for lag in range(1, max_lag + 1):\n",
    "        data['lag_{}'.format(lag)] = data['num_orders'].shift(lag)\n",
    "\n",
    "    data['rolling_mean'] = data['num_orders'].shift().rolling(rolling_mean_size).mean()\n",
    "make_features(data, 15, 35)"
   ]
  },
  {
   "cell_type": "markdown",
   "metadata": {},
   "source": [
    "<div style=\"border:solid blue 2px; padding: 20px\">\n",
    "\n",
    "### Вывод\n",
    "\n",
    "\n",
    "    \n",
    "    \n",
    "</div>"
   ]
  },
  {
   "cell_type": "markdown",
   "metadata": {},
   "source": [
    "<div style=\"border:solid blue 2px; padding: 20px\">\n",
    "    \n",
    "Поменяли интервал временного ряда - выполнили его ресемплирование\n",
    "    \n",
    "Чтобы лучше понимать временной ряд, разобрали на тренд и сезонность\n",
    "    \n",
    "Применили скользящее среднее, чтобы во временном ряду снизить колебания\n",
    "    \n",
    "Получили разности временного ряда, чтобы ряд сделать стационарным и проверили статистическим тестом\n",
    "    \n",
    "Создали признаки для горизонта прогнозирования в один шаг функцией `make_features`\n",
    "\n",
    "    \n",
    "    \n",
    "</div> "
   ]
  },
  {
   "cell_type": "code",
   "execution_count": 25,
   "metadata": {
    "scrolled": false
   },
   "outputs": [
    {
     "name": "stdout",
     "output_type": "stream",
     "text": [
      "Learning rate set to 0.062113\n",
      "0:\tlearn: 34.1289878\ttest: 46.6023956\tbest: 46.6023956 (0)\ttotal: 52ms\tremaining: 52s\n",
      "100:\tlearn: 22.4127355\ttest: 36.3535039\tbest: 36.3535039 (100)\ttotal: 421ms\tremaining: 3.74s\n",
      "200:\tlearn: 19.5922932\ttest: 35.2926246\tbest: 35.2926246 (200)\ttotal: 769ms\tremaining: 3.06s\n",
      "300:\tlearn: 17.4337753\ttest: 34.9359241\tbest: 34.9359241 (300)\ttotal: 1.12s\tremaining: 2.59s\n",
      "400:\tlearn: 15.8104353\ttest: 34.5708578\tbest: 34.5708578 (400)\ttotal: 1.46s\tremaining: 2.18s\n",
      "500:\tlearn: 14.4762869\ttest: 34.4496899\tbest: 34.4458782 (485)\ttotal: 1.84s\tremaining: 1.83s\n",
      "600:\tlearn: 13.3112049\ttest: 34.3950725\tbest: 34.3923539 (598)\ttotal: 2.21s\tremaining: 1.47s\n",
      "700:\tlearn: 12.1936757\ttest: 34.3625213\tbest: 34.3391400 (695)\ttotal: 2.56s\tremaining: 1.09s\n",
      "800:\tlearn: 11.2743161\ttest: 34.4096684\tbest: 34.3391400 (695)\ttotal: 2.92s\tremaining: 724ms\n",
      "900:\tlearn: 10.4057386\ttest: 34.3192519\tbest: 34.3192519 (900)\ttotal: 3.28s\tremaining: 360ms\n",
      "999:\tlearn: 9.6773198\ttest: 34.2861180\tbest: 34.2751460 (967)\ttotal: 3.63s\tremaining: 0us\n",
      "\n",
      "bestTest = 34.27514602\n",
      "bestIteration = 967\n",
      "\n",
      "Shrink model to first 968 iterations.\n",
      "      Feature Id  Importances\n",
      "0           hour    27.284182\n",
      "1   rolling_mean    13.087765\n",
      "2          lag_1    11.290618\n",
      "3          lag_2     5.198798\n",
      "4          lag_8     4.536298\n",
      "5         lag_15     3.923267\n",
      "6          lag_3     3.619736\n",
      "7          lag_4     3.595290\n",
      "8         lag_12     3.201816\n",
      "9         lag_11     3.147020\n",
      "10         lag_6     3.041696\n",
      "11         lag_7     2.968644\n",
      "12        lag_13     2.966856\n",
      "13        lag_14     2.688406\n",
      "14         lag_5     2.410404\n",
      "15        lag_10     2.393701\n",
      "16     dayofweek     2.392790\n",
      "17         lag_9     2.252716\n",
      "Learning rate set to 0.050845\n",
      "0:\tlearn: 35.6893151\ttotal: 5.15ms\tremaining: 5.15s\n",
      "100:\tlearn: 24.4804900\ttotal: 376ms\tremaining: 3.34s\n",
      "200:\tlearn: 21.7715342\ttotal: 740ms\tremaining: 2.94s\n",
      "300:\tlearn: 19.7601555\ttotal: 1.11s\tremaining: 2.57s\n",
      "400:\tlearn: 18.1408106\ttotal: 1.47s\tremaining: 2.2s\n",
      "500:\tlearn: 16.8741093\ttotal: 1.84s\tremaining: 1.83s\n",
      "600:\tlearn: 15.7169365\ttotal: 2.2s\tremaining: 1.46s\n",
      "700:\tlearn: 14.7081440\ttotal: 2.57s\tremaining: 1.09s\n",
      "800:\tlearn: 13.8074132\ttotal: 2.94s\tremaining: 730ms\n",
      "900:\tlearn: 13.0297247\ttotal: 3.31s\tremaining: 363ms\n",
      "999:\tlearn: 12.2650935\ttotal: 3.67s\tremaining: 0us\n",
      "RMSE модели CatBoostRegressor на тестовой выборке: 42.84879832746725\n"
     ]
    },
    {
     "data": {
      "image/png": "[encoded data removed]",
      "text/plain": [
       "<Figure size 432x288 with 1 Axes>"
      ]
     },
     "metadata": {
      "needs_background": "light"
     },
     "output_type": "display_data"
    }
   ],
   "source": [
    "def m_f(df, max_lag, rolling_mean_size):\n",
    "    df['hour'] = df.index.hour\n",
    "    df['dayofweek'] = df.index.dayofweek\n",
    "   \n",
    "    for lag in range(1, max_lag + 1):\n",
    "        df['lag_{}'.format(lag)] = df['num_orders'].shift(lag)\n",
    "    df['rolling_mean'] = df['num_orders'].shift().rolling(rolling_mean_size).mean()\n",
    "\n",
    "m_f(df, 15, 35)\n",
    "\n",
    "df_part, df_test = train_test_split(df,test_size=0.1,random_state=42,shuffle=False)\n",
    "df_part = df_part.dropna()\n",
    "df_train, df_valid = train_test_split(df_part,test_size=0.1,random_state=42,shuffle=False)\n",
    "df_features_train = df_train.drop(columns=['num_orders'])\n",
    "df_target_train = df_train['num_orders']\n",
    "df_features_part = df_part.drop(columns=['num_orders'])\n",
    "df_target_part = df_part['num_orders']\n",
    "df_features_valid = df_valid.drop(columns=['num_orders'])\n",
    "df_target_valid = df_valid['num_orders']\n",
    "df_features_test = df_test.drop(columns=['num_orders'])\n",
    "df_target_test = df_test['num_orders']\n",
    "split_correct = TimeSeriesSplit(n_splits=8)\n",
    "par = {'random_state': 42,\n",
    "          'verbose': 100}\n",
    "cbr = CatBoostRegressor(**par)\n",
    "cbr.fit(df_features_train,df_target_train,eval_set=(df_features_valid,df_target_valid))\n",
    "print(cbr.get_feature_importance(prettified=True))\n",
    "cbr.fit(df_features_part,df_target_part)\n",
    "df_pred_cbr_test = cbr.predict(df_features_test) # предсказание модели CatBoostRegressor\n",
    "rmse_test = mean_squared_error(df_target_test, df_pred_cbr_test)**0.5\n",
    "print('RMSE модели CatBoostRegressor на тестовой выборке:', rmse_test)\n",
    "plt.plot(df_features_test[:48].index, df_target_test[:48], label='Фактические значения')\n",
    "plt.plot(df_features_test[:48].index, df_pred_cbr_test[:48], label='Предсказания')\n",
    "plt.legend()\n",
    "plt.show()"
   ]
  },
  {
   "cell_type": "markdown",
   "metadata": {},
   "source": [
    "## Обучение"
   ]
  },
  {
   "cell_type": "markdown",
   "metadata": {},
   "source": [
    "<div style=\"border:solid blue 2px; padding: 20px\">\n",
    "    \n",
    " \n",
    "`train_test_split()` разделим исходные данные на обучающую, валидационную и тестовую выборки\n",
    "    \n",
    "    \n",
    "</div> "
   ]
  },
  {
   "cell_type": "code",
   "execution_count": 26,
   "metadata": {},
   "outputs": [
    {
     "name": "stdout",
     "output_type": "stream",
     "text": [
      "Объектов тестовой выборки 442\n"
     ]
    }
   ],
   "source": [
    "# получение тестовой выборки\n",
    "data_part, data_test = train_test_split(data,test_size=0.1,random_state=42,shuffle=False)\n",
    "print('Объектов тестовой выборки', data_test.shape[0])"
   ]
  },
  {
   "cell_type": "markdown",
   "metadata": {},
   "source": [
    "<div style=\"border:solid blue 2px; padding: 20px\">\n",
    "    \n",
    " \n",
    "`data_part` содержат пропуски. Удалим их `dropna()`\n",
    "    \n",
    "\n",
    "    \n",
    "</div> "
   ]
  },
  {
   "cell_type": "code",
   "execution_count": 27,
   "metadata": {},
   "outputs": [],
   "source": [
    "# удаление пропусков\n",
    "data_part = data_part.dropna()"
   ]
  },
  {
   "cell_type": "code",
   "execution_count": 28,
   "metadata": {},
   "outputs": [
    {
     "name": "stdout",
     "output_type": "stream",
     "text": [
      "Объектов обучающей выборки 3545\n",
      "Объектов валидационной выборки 394\n"
     ]
    }
   ],
   "source": [
    "# получение валидационной и обучающей выборки\n",
    "data_train, data_valid = train_test_split(data_part,test_size=0.1,random_state=42,shuffle=False)\n",
    "print('Объектов обучающей выборки', data_train.shape[0])\n",
    "print('Объектов валидационной выборки', data_valid.shape[0])"
   ]
  },
  {
   "cell_type": "markdown",
   "metadata": {},
   "source": [
    "<div style=\"border:solid blue 2px; padding: 20px\">\n",
    "    \n",
    " \n",
    "Признаки обучающей, валидационной и тестовой выборки сохраним в отдельных переменных \n",
    "    \n",
    "    \n",
    "- `features`\n",
    "    \n",
    "    \n",
    "- `target` - целевой признак\n",
    "    \n",
    "    \n",
    "</div> "
   ]
  },
  {
   "cell_type": "code",
   "execution_count": 29,
   "metadata": {},
   "outputs": [],
   "source": [
    "# сохранение признаков обучающей выбороки в отдельных переменных\n",
    "features_train = data_train.drop(columns=['num_orders'])\n",
    "target_train = data_train['num_orders']"
   ]
  },
  {
   "cell_type": "code",
   "execution_count": 30,
   "metadata": {},
   "outputs": [],
   "source": [
    "# сохранение признаков  part-выбороки в отдельных переменных\n",
    "features_part = data_part.drop(columns=['num_orders'])\n",
    "target_part = data_part['num_orders']"
   ]
  },
  {
   "cell_type": "code",
   "execution_count": 31,
   "metadata": {},
   "outputs": [],
   "source": [
    "# сохранение признаков валидационной выбороки в отдельных переменных\n",
    "features_valid = data_valid.drop(columns=['num_orders'])\n",
    "target_valid = data_valid['num_orders']"
   ]
  },
  {
   "cell_type": "code",
   "execution_count": 32,
   "metadata": {},
   "outputs": [],
   "source": [
    "# сохранение признаков тестовой выбороки в отдельных переменных\n",
    "features_test = data_test.drop(columns=['num_orders'])\n",
    "target_test = data_test['num_orders']"
   ]
  },
  {
   "cell_type": "markdown",
   "metadata": {},
   "source": [
    "<div style=\"border:solid blue 2px; padding: 20px\">\n",
    "    \n",
    " \n",
    "`TimeSeriesSplit()` применим чтобы не нарушать порядок следования данных\n",
    "    \n",
    "    \n",
    "</div> "
   ]
  },
  {
   "cell_type": "code",
   "execution_count": 33,
   "metadata": {},
   "outputs": [],
   "source": [
    "split = TimeSeriesSplit(n_splits=8)"
   ]
  },
  {
   "cell_type": "markdown",
   "metadata": {},
   "source": [
    "<div style=\"border:solid blue 2px; padding: 20px\">\n",
    "    \n",
    " \n",
    "Исследуем качество на модели — решающее дерево.\n",
    "\n",
    "    \n",
    "    \n",
    "</div> "
   ]
  },
  {
   "cell_type": "code",
   "execution_count": 34,
   "metadata": {},
   "outputs": [],
   "source": [
    "tree = DecisionTreeRegressor(random_state=42)"
   ]
  },
  {
   "cell_type": "code",
   "execution_count": 35,
   "metadata": {},
   "outputs": [],
   "source": [
    "parametrs_dtr = {'criterion':['mse'],'max_depth': range(1,10)}"
   ]
  },
  {
   "cell_type": "code",
   "execution_count": 36,
   "metadata": {},
   "outputs": [
    {
     "name": "stdout",
     "output_type": "stream",
     "text": [
      "Модель DecisionTreeRegressor(max_depth=6, random_state=42)\n",
      "Оценка 28.994199427095506\n",
      "Время выполнения ячейки кода: 2.3068344593048096\n",
      "CPU times: user 1.2 s, sys: 0 ns, total: 1.2 s\n",
      "Wall time: 2.31 s\n"
     ]
    }
   ],
   "source": [
    "%%time\n",
    "time_start=time.time()\n",
    "model_dtr = GridSearchCV(tree, parametrs_dtr,scoring='neg_mean_squared_error', cv=split)\n",
    "model_dtr.fit(features_train, target_train)\n",
    "print('Модель', model_dtr.best_estimator_)\n",
    "print('Оценка', (model_dtr.best_score_ * -1)**0.5)\n",
    "time_model_dtr=time.time()-time_start\n",
    "print('Время выполнения ячейки кода:',time_model_dtr)"
   ]
  },
  {
   "cell_type": "code",
   "execution_count": 37,
   "metadata": {},
   "outputs": [
    {
     "name": "stdout",
     "output_type": "stream",
     "text": [
      "Время выполнения ячейки кода: 0.0033271312713623047\n",
      "RMSE модели DecisionTreeRegressor на валидационной выборке: 37.99220578348338\n",
      "CPU times: user 5.36 ms, sys: 0 ns, total: 5.36 ms\n",
      "Wall time: 4.24 ms\n"
     ]
    }
   ],
   "source": [
    "%%time\n",
    "time_start=time.time()\n",
    "predictions_dtr_valid = model_dtr.predict(features_valid) # предсказание модели DecisionTreeRegressor\n",
    "time_predict_model_dtr=time.time()-time_start\n",
    "rmse_dtr_valid = mean_squared_error(target_valid, predictions_dtr_valid)**0.5\n",
    "print('Время выполнения ячейки кода:',time_predict_model_dtr)\n",
    "print('RMSE модели DecisionTreeRegressor на валидационной выборке:', rmse_dtr_valid)"
   ]
  },
  {
   "cell_type": "code",
   "execution_count": 38,
   "metadata": {},
   "outputs": [],
   "source": [
    "forest = RandomForestRegressor(random_state=42)"
   ]
  },
  {
   "cell_type": "code",
   "execution_count": 39,
   "metadata": {},
   "outputs": [],
   "source": [
    "parametrs_rfr = {'n_estimators': range (1,5),'max_depth': range (1,5)}"
   ]
  },
  {
   "cell_type": "code",
   "execution_count": 40,
   "metadata": {},
   "outputs": [
    {
     "name": "stdout",
     "output_type": "stream",
     "text": [
      "Модель RandomForestRegressor(max_depth=4, n_estimators=4, random_state=42)\n",
      "Оценка 28.8179699742815\n",
      "Время выполнения ячейки кода: 1.6882755756378174\n",
      "CPU times: user 1.64 s, sys: 0 ns, total: 1.64 s\n",
      "Wall time: 1.69 s\n"
     ]
    }
   ],
   "source": [
    "%%time\n",
    "time_start=time.time()\n",
    "model_rfr = GridSearchCV(forest, parametrs_rfr,scoring='neg_mean_squared_error', cv=split)\n",
    "model_rfr.fit(features_train, target_train)\n",
    "print('Модель', model_rfr.best_estimator_)\n",
    "print('Оценка', (model_rfr.best_score_ * -1)**0.5)\n",
    "time_model_rfr=time.time()-time_start\n",
    "print('Время выполнения ячейки кода:',time_model_rfr)"
   ]
  },
  {
   "cell_type": "code",
   "execution_count": 41,
   "metadata": {},
   "outputs": [
    {
     "name": "stdout",
     "output_type": "stream",
     "text": [
      "Время выполнения ячейки кода: 0.003408193588256836\n",
      "RMSE модели RandomForestRegressor на валидационной выборке: 40.61500796858984\n",
      "CPU times: user 5.16 ms, sys: 0 ns, total: 5.16 ms\n",
      "Wall time: 4.22 ms\n"
     ]
    }
   ],
   "source": [
    "%%time\n",
    "time_start=time.time()\n",
    "predictions_rfr_valid = model_rfr.predict(features_valid) # предсказание модели RandomForestRegressor\n",
    "time_predict_model_rfr=time.time()-time_start               \n",
    "rmse_rfr_valid = mean_squared_error(target_valid, predictions_rfr_valid)**0.5\n",
    "print('Время выполнения ячейки кода:',time_predict_model_rfr)\n",
    "print('RMSE модели RandomForestRegressor на валидационной выборке:', rmse_rfr_valid)"
   ]
  },
  {
   "cell_type": "markdown",
   "metadata": {},
   "source": [
    "<div style=\"border:solid blue 2px; padding: 20px\">\n",
    "    \n",
    " \n",
    "Исследуем качество на модели — линейная регрессия.\n",
    "\n",
    "    \n",
    "    \n",
    "</div> "
   ]
  },
  {
   "cell_type": "code",
   "execution_count": 42,
   "metadata": {},
   "outputs": [],
   "source": [
    "model_lr = LinearRegression()"
   ]
  },
  {
   "cell_type": "code",
   "execution_count": 43,
   "metadata": {},
   "outputs": [],
   "source": [
    "parametrs_lr = {}"
   ]
  },
  {
   "cell_type": "code",
   "execution_count": 44,
   "metadata": {
    "scrolled": true
   },
   "outputs": [
    {
     "name": "stdout",
     "output_type": "stream",
     "text": [
      "Модель GridSearchCV(cv=TimeSeriesSplit(gap=0, max_train_size=None, n_splits=8, test_size=None),\n",
      "             estimator=LinearRegression(), param_grid={},\n",
      "             scoring='neg_mean_squared_error')\n",
      "Оценка 30.213063670441535\n",
      "Время выполнения ячейки кода: 0.13396549224853516\n",
      "CPU times: user 107 ms, sys: 90.4 ms, total: 198 ms\n",
      "Wall time: 134 ms\n"
     ]
    }
   ],
   "source": [
    "%%time\n",
    "time_start=time.time()\n",
    "model_lr = GridSearchCV(model_lr, parametrs_lr,scoring='neg_mean_squared_error', cv=split)\n",
    "model_lr.fit(features_train,target_train)\n",
    "print('Модель', model_lr)\n",
    "print('Оценка', (model_lr.best_score_ * -1)**0.5)\n",
    "time_model_lr=time.time()-time_start\n",
    "print('Время выполнения ячейки кода:',time_model_lr)"
   ]
  },
  {
   "cell_type": "code",
   "execution_count": 45,
   "metadata": {},
   "outputs": [
    {
     "name": "stdout",
     "output_type": "stream",
     "text": [
      "Время выполнения ячейки кода: 0.002033710479736328\n",
      "RMSE модели LinearRegression на валидационной выборке: 41.045467626131\n",
      "CPU times: user 8.19 ms, sys: 12 ms, total: 20.2 ms\n",
      "Wall time: 3.85 ms\n"
     ]
    }
   ],
   "source": [
    "%%time\n",
    "time_start=time.time()\n",
    "predictions_lr_valid = model_lr.predict(features_valid) # предсказание модели LinearRegression\n",
    "time_predict_model_lr=time.time()-time_start\n",
    "rmse_lr_valid = mean_squared_error(target_valid, predictions_lr_valid)**0.5\n",
    "print('Время выполнения ячейки кода:',time_predict_model_lr)\n",
    "print('RMSE модели LinearRegression на валидационной выборке:', rmse_lr_valid)"
   ]
  },
  {
   "cell_type": "markdown",
   "metadata": {},
   "source": [
    "<div style=\"border:solid blue 2px; padding: 20px\">\n",
    "    \n",
    " \n",
    "Исследуем качество на модели — бустинг для категориальных признаков.\n",
    "\n",
    "    \n",
    "    \n",
    "</div> "
   ]
  },
  {
   "cell_type": "code",
   "execution_count": 46,
   "metadata": {},
   "outputs": [],
   "source": [
    "params_crb = {'random_state': 42,\n",
    "          'verbose': 100}"
   ]
  },
  {
   "cell_type": "code",
   "execution_count": 47,
   "metadata": {},
   "outputs": [],
   "source": [
    "model_cbr = CatBoostRegressor(**params_crb)"
   ]
  },
  {
   "cell_type": "code",
   "execution_count": 48,
   "metadata": {},
   "outputs": [
    {
     "name": "stdout",
     "output_type": "stream",
     "text": [
      "Learning rate set to 0.062113\n",
      "0:\tlearn: 34.1289878\ttest: 46.6023956\tbest: 46.6023956 (0)\ttotal: 4.17ms\tremaining: 4.16s\n",
      "100:\tlearn: 22.4127355\ttest: 36.3535039\tbest: 36.3535039 (100)\ttotal: 371ms\tremaining: 3.3s\n",
      "200:\tlearn: 19.5922932\ttest: 35.2926246\tbest: 35.2926246 (200)\ttotal: 725ms\tremaining: 2.88s\n",
      "300:\tlearn: 17.4337753\ttest: 34.9359241\tbest: 34.9359241 (300)\ttotal: 1.08s\tremaining: 2.5s\n",
      "400:\tlearn: 15.8104353\ttest: 34.5708578\tbest: 34.5708578 (400)\ttotal: 1.44s\tremaining: 2.15s\n",
      "500:\tlearn: 14.4762869\ttest: 34.4496899\tbest: 34.4458782 (485)\ttotal: 1.79s\tremaining: 1.79s\n",
      "600:\tlearn: 13.3112049\ttest: 34.3950725\tbest: 34.3923539 (598)\ttotal: 2.15s\tremaining: 1.43s\n",
      "700:\tlearn: 12.1936757\ttest: 34.3625213\tbest: 34.3391400 (695)\ttotal: 2.52s\tremaining: 1.08s\n",
      "800:\tlearn: 11.2743161\ttest: 34.4096684\tbest: 34.3391400 (695)\ttotal: 2.9s\tremaining: 721ms\n",
      "900:\tlearn: 10.4057386\ttest: 34.3192519\tbest: 34.3192519 (900)\ttotal: 3.27s\tremaining: 359ms\n",
      "999:\tlearn: 9.6773198\ttest: 34.2861180\tbest: 34.2751460 (967)\ttotal: 3.63s\tremaining: 0us\n",
      "\n",
      "bestTest = 34.27514602\n",
      "bestIteration = 967\n",
      "\n",
      "Shrink model to first 968 iterations.\n",
      "Время выполнения ячейки кода: 5.969651460647583\n",
      "CPU times: user 3.76 s, sys: 49.6 ms, total: 3.81 s\n",
      "Wall time: 5.97 s\n"
     ]
    }
   ],
   "source": [
    "%%time\n",
    "time_start=time.time()\n",
    "model_cbr.fit(features_train,target_train,eval_set=(features_valid,target_valid))\n",
    "time_model_cbr=time.time()-time_start\n",
    "print('Время выполнения ячейки кода:',time_model_cbr)"
   ]
  },
  {
   "cell_type": "code",
   "execution_count": 49,
   "metadata": {},
   "outputs": [
    {
     "data": {
      "text/html": [
       "<div>\n",
       "<style scoped>\n",
       "    .dataframe tbody tr th:only-of-type {\n",
       "        vertical-align: middle;\n",
       "    }\n",
       "\n",
       "    .dataframe tbody tr th {\n",
       "        vertical-align: top;\n",
       "    }\n",
       "\n",
       "    .dataframe thead th {\n",
       "        text-align: right;\n",
       "    }\n",
       "</style>\n",
       "<table border=\"1\" class=\"dataframe\">\n",
       "  <thead>\n",
       "    <tr style=\"text-align: right;\">\n",
       "      <th></th>\n",
       "      <th>Feature Id</th>\n",
       "      <th>Importances</th>\n",
       "    </tr>\n",
       "  </thead>\n",
       "  <tbody>\n",
       "    <tr>\n",
       "      <th>0</th>\n",
       "      <td>hour</td>\n",
       "      <td>27.284182</td>\n",
       "    </tr>\n",
       "    <tr>\n",
       "      <th>1</th>\n",
       "      <td>rolling_mean</td>\n",
       "      <td>13.087765</td>\n",
       "    </tr>\n",
       "    <tr>\n",
       "      <th>2</th>\n",
       "      <td>lag_1</td>\n",
       "      <td>11.290618</td>\n",
       "    </tr>\n",
       "    <tr>\n",
       "      <th>3</th>\n",
       "      <td>lag_2</td>\n",
       "      <td>5.198798</td>\n",
       "    </tr>\n",
       "    <tr>\n",
       "      <th>4</th>\n",
       "      <td>lag_8</td>\n",
       "      <td>4.536298</td>\n",
       "    </tr>\n",
       "    <tr>\n",
       "      <th>5</th>\n",
       "      <td>lag_15</td>\n",
       "      <td>3.923267</td>\n",
       "    </tr>\n",
       "    <tr>\n",
       "      <th>6</th>\n",
       "      <td>lag_3</td>\n",
       "      <td>3.619736</td>\n",
       "    </tr>\n",
       "    <tr>\n",
       "      <th>7</th>\n",
       "      <td>lag_4</td>\n",
       "      <td>3.595290</td>\n",
       "    </tr>\n",
       "    <tr>\n",
       "      <th>8</th>\n",
       "      <td>lag_12</td>\n",
       "      <td>3.201816</td>\n",
       "    </tr>\n",
       "    <tr>\n",
       "      <th>9</th>\n",
       "      <td>lag_11</td>\n",
       "      <td>3.147020</td>\n",
       "    </tr>\n",
       "    <tr>\n",
       "      <th>10</th>\n",
       "      <td>lag_6</td>\n",
       "      <td>3.041696</td>\n",
       "    </tr>\n",
       "    <tr>\n",
       "      <th>11</th>\n",
       "      <td>lag_7</td>\n",
       "      <td>2.968644</td>\n",
       "    </tr>\n",
       "    <tr>\n",
       "      <th>12</th>\n",
       "      <td>lag_13</td>\n",
       "      <td>2.966856</td>\n",
       "    </tr>\n",
       "    <tr>\n",
       "      <th>13</th>\n",
       "      <td>lag_14</td>\n",
       "      <td>2.688406</td>\n",
       "    </tr>\n",
       "    <tr>\n",
       "      <th>14</th>\n",
       "      <td>lag_5</td>\n",
       "      <td>2.410404</td>\n",
       "    </tr>\n",
       "    <tr>\n",
       "      <th>15</th>\n",
       "      <td>lag_10</td>\n",
       "      <td>2.393701</td>\n",
       "    </tr>\n",
       "    <tr>\n",
       "      <th>16</th>\n",
       "      <td>dayofweek</td>\n",
       "      <td>2.392790</td>\n",
       "    </tr>\n",
       "    <tr>\n",
       "      <th>17</th>\n",
       "      <td>lag_9</td>\n",
       "      <td>2.252716</td>\n",
       "    </tr>\n",
       "  </tbody>\n",
       "</table>\n",
       "</div>"
      ],
      "text/plain": [
       "      Feature Id  Importances\n",
       "0           hour    27.284182\n",
       "1   rolling_mean    13.087765\n",
       "2          lag_1    11.290618\n",
       "3          lag_2     5.198798\n",
       "4          lag_8     4.536298\n",
       "5         lag_15     3.923267\n",
       "6          lag_3     3.619736\n",
       "7          lag_4     3.595290\n",
       "8         lag_12     3.201816\n",
       "9         lag_11     3.147020\n",
       "10         lag_6     3.041696\n",
       "11         lag_7     2.968644\n",
       "12        lag_13     2.966856\n",
       "13        lag_14     2.688406\n",
       "14         lag_5     2.410404\n",
       "15        lag_10     2.393701\n",
       "16     dayofweek     2.392790\n",
       "17         lag_9     2.252716"
      ]
     },
     "execution_count": 49,
     "metadata": {},
     "output_type": "execute_result"
    }
   ],
   "source": [
    "model_cbr.get_feature_importance(prettified=True)"
   ]
  },
  {
   "cell_type": "markdown",
   "metadata": {},
   "source": [
    "<div style=\"border:solid blue 2px; padding: 20px\">\n",
    "    \n",
    " \n",
    "Исследуем качество на модели — лёгкая машина градиентного бустинга.\n",
    "\n",
    "    \n",
    "    \n",
    "</div> "
   ]
  },
  {
   "cell_type": "code",
   "execution_count": 50,
   "metadata": {},
   "outputs": [],
   "source": [
    "params_lgbm = {'metric': 'rmse',\n",
    "          'random_state': 42,\n",
    "          'verbose': 100}"
   ]
  },
  {
   "cell_type": "code",
   "execution_count": 51,
   "metadata": {},
   "outputs": [],
   "source": [
    "model_lgbm = LGBMRegressor(**params_lgbm)"
   ]
  },
  {
   "cell_type": "code",
   "execution_count": 52,
   "metadata": {
    "scrolled": true
   },
   "outputs": [
    {
     "name": "stdout",
     "output_type": "stream",
     "text": [
      "[LightGBM] [Debug] Dataset::GetMultiBinFromAllFeatures: sparse rate 0.021282\n",
      "[LightGBM] [Debug] init for col-wise cost 0.000009 seconds, init for row-wise cost 0.000603 seconds\n",
      "[LightGBM] [Warning] Auto-choosing row-wise multi-threading, the overhead of testing was 0.000165 seconds.\n",
      "You can set `force_row_wise=true` to remove the overhead.\n",
      "And if memory is not enough, you can set `force_col_wise=true`.\n",
      "[LightGBM] [Debug] Using Dense Multi-Val Bin\n",
      "[LightGBM] [Info] Total Bins 2890\n",
      "[LightGBM] [Info] Number of data points in the train set: 3545, number of used features: 18\n",
      "[LightGBM] [Info] Start training from score 0.022003\n",
      "[LightGBM] [Debug] Trained a tree with leaves = 31 and depth = 8\n",
      "[1]\tvalid_0's rmse: 45.6736\n",
      "[LightGBM] [Debug] Trained a tree with leaves = 31 and depth = 9\n",
      "[2]\tvalid_0's rmse: 44.2425\n",
      "[LightGBM] [Debug] Trained a tree with leaves = 31 and depth = 9\n",
      "[3]\tvalid_0's rmse: 43.0748\n",
      "[LightGBM] [Debug] Trained a tree with leaves = 31 and depth = 8\n",
      "[4]\tvalid_0's rmse: 42.0589\n",
      "[LightGBM] [Debug] Trained a tree with leaves = 31 and depth = 8\n",
      "[5]\tvalid_0's rmse: 41.2603\n",
      "[LightGBM] [Debug] Trained a tree with leaves = 31 and depth = 9\n",
      "[6]\tvalid_0's rmse: 40.556\n",
      "[LightGBM] [Debug] Trained a tree with leaves = 31 and depth = 9\n",
      "[7]\tvalid_0's rmse: 39.995\n",
      "[LightGBM] [Debug] Trained a tree with leaves = 31 and depth = 11\n",
      "[8]\tvalid_0's rmse: 39.4276\n",
      "[LightGBM] [Debug] Trained a tree with leaves = 31 and depth = 9\n",
      "[9]\tvalid_0's rmse: 39.0608\n",
      "[LightGBM] [Debug] Trained a tree with leaves = 31 and depth = 9\n",
      "[10]\tvalid_0's rmse: 38.6996\n",
      "[LightGBM] [Debug] Trained a tree with leaves = 31 and depth = 8\n",
      "[11]\tvalid_0's rmse: 38.4465\n",
      "[LightGBM] [Debug] Trained a tree with leaves = 31 and depth = 9\n",
      "[12]\tvalid_0's rmse: 38.0763\n",
      "[LightGBM] [Debug] Trained a tree with leaves = 31 and depth = 8\n",
      "[13]\tvalid_0's rmse: 37.8003\n",
      "[LightGBM] [Debug] Trained a tree with leaves = 31 and depth = 9\n",
      "[14]\tvalid_0's rmse: 37.4881\n",
      "[LightGBM] [Debug] Trained a tree with leaves = 31 and depth = 9\n",
      "[15]\tvalid_0's rmse: 37.312\n",
      "[LightGBM] [Debug] Trained a tree with leaves = 31 and depth = 9\n",
      "[16]\tvalid_0's rmse: 37.1838\n",
      "[LightGBM] [Debug] Trained a tree with leaves = 31 and depth = 10\n",
      "[17]\tvalid_0's rmse: 37.0947\n",
      "[LightGBM] [Debug] Trained a tree with leaves = 31 and depth = 9\n",
      "[18]\tvalid_0's rmse: 36.8542\n",
      "[LightGBM] [Debug] Trained a tree with leaves = 31 and depth = 9\n",
      "[19]\tvalid_0's rmse: 36.739\n",
      "[LightGBM] [Debug] Trained a tree with leaves = 31 and depth = 10\n",
      "[20]\tvalid_0's rmse: 36.6024\n",
      "[LightGBM] [Debug] Trained a tree with leaves = 31 and depth = 9\n",
      "[21]\tvalid_0's rmse: 36.5226\n",
      "[LightGBM] [Debug] Trained a tree with leaves = 31 and depth = 8\n",
      "[22]\tvalid_0's rmse: 36.3833\n",
      "[LightGBM] [Debug] Trained a tree with leaves = 31 and depth = 9\n",
      "[23]\tvalid_0's rmse: 36.3414\n",
      "[LightGBM] [Debug] Trained a tree with leaves = 31 and depth = 9\n",
      "[24]\tvalid_0's rmse: 36.2482\n",
      "[LightGBM] [Debug] Trained a tree with leaves = 31 and depth = 10\n",
      "[25]\tvalid_0's rmse: 36.2448\n",
      "[LightGBM] [Debug] Trained a tree with leaves = 31 and depth = 9\n",
      "[26]\tvalid_0's rmse: 36.2106\n",
      "[LightGBM] [Debug] Trained a tree with leaves = 31 and depth = 12\n",
      "[27]\tvalid_0's rmse: 36.1996\n",
      "[LightGBM] [Debug] Trained a tree with leaves = 31 and depth = 13\n",
      "[28]\tvalid_0's rmse: 36.1589\n",
      "[LightGBM] [Debug] Trained a tree with leaves = 31 and depth = 9\n",
      "[29]\tvalid_0's rmse: 36.0834\n",
      "[LightGBM] [Debug] Trained a tree with leaves = 31 and depth = 11\n",
      "[30]\tvalid_0's rmse: 36.0257\n",
      "[LightGBM] [Debug] Trained a tree with leaves = 31 and depth = 13\n",
      "[31]\tvalid_0's rmse: 36.0491\n",
      "[LightGBM] [Debug] Trained a tree with leaves = 31 and depth = 10\n",
      "[32]\tvalid_0's rmse: 36.0543\n",
      "[LightGBM] [Debug] Trained a tree with leaves = 31 and depth = 11\n",
      "[33]\tvalid_0's rmse: 36.0735\n",
      "[LightGBM] [Debug] Trained a tree with leaves = 31 and depth = 11\n",
      "[34]\tvalid_0's rmse: 36.0068\n",
      "[LightGBM] [Debug] Trained a tree with leaves = 31 and depth = 10\n",
      "[35]\tvalid_0's rmse: 35.9882\n",
      "[LightGBM] [Debug] Trained a tree with leaves = 31 and depth = 14\n",
      "[36]\tvalid_0's rmse: 35.9975\n",
      "[LightGBM] [Debug] Trained a tree with leaves = 31 and depth = 11\n",
      "[37]\tvalid_0's rmse: 35.9345\n",
      "[LightGBM] [Debug] Trained a tree with leaves = 31 and depth = 10\n",
      "[38]\tvalid_0's rmse: 35.8775\n",
      "[LightGBM] [Debug] Trained a tree with leaves = 31 and depth = 10\n",
      "[39]\tvalid_0's rmse: 35.873\n",
      "[LightGBM] [Debug] Trained a tree with leaves = 31 and depth = 13\n",
      "[40]\tvalid_0's rmse: 35.876\n",
      "[LightGBM] [Debug] Trained a tree with leaves = 31 and depth = 14\n",
      "[41]\tvalid_0's rmse: 35.9048\n",
      "[LightGBM] [Debug] Trained a tree with leaves = 31 and depth = 9\n",
      "[42]\tvalid_0's rmse: 35.8649\n",
      "[LightGBM] [Debug] Trained a tree with leaves = 31 and depth = 7\n",
      "[43]\tvalid_0's rmse: 35.755\n",
      "[LightGBM] [Debug] Trained a tree with leaves = 31 and depth = 12\n",
      "[44]\tvalid_0's rmse: 35.726\n",
      "[LightGBM] [Debug] Trained a tree with leaves = 31 and depth = 9\n",
      "[45]\tvalid_0's rmse: 35.6879\n",
      "[LightGBM] [Debug] Trained a tree with leaves = 31 and depth = 13\n",
      "[46]\tvalid_0's rmse: 35.6562\n",
      "[LightGBM] [Debug] Trained a tree with leaves = 31 and depth = 12\n",
      "[47]\tvalid_0's rmse: 35.6281\n",
      "[LightGBM] [Debug] Trained a tree with leaves = 31 and depth = 11\n",
      "[48]\tvalid_0's rmse: 35.6347\n",
      "[LightGBM] [Debug] Trained a tree with leaves = 31 and depth = 11\n",
      "[49]\tvalid_0's rmse: 35.63\n",
      "[LightGBM] [Debug] Trained a tree with leaves = 31 and depth = 9\n",
      "[50]\tvalid_0's rmse: 35.571\n",
      "[LightGBM] [Debug] Trained a tree with leaves = 31 and depth = 11\n",
      "[51]\tvalid_0's rmse: 35.5789\n",
      "[LightGBM] [Debug] Trained a tree with leaves = 31 and depth = 12\n",
      "[52]\tvalid_0's rmse: 35.5418\n",
      "[LightGBM] [Debug] Trained a tree with leaves = 31 and depth = 9\n",
      "[53]\tvalid_0's rmse: 35.467\n",
      "[LightGBM] [Debug] Trained a tree with leaves = 31 and depth = 12\n",
      "[54]\tvalid_0's rmse: 35.4446\n",
      "[LightGBM] [Debug] Trained a tree with leaves = 31 and depth = 10\n",
      "[55]\tvalid_0's rmse: 35.4702\n",
      "[LightGBM] [Debug] Trained a tree with leaves = 31 and depth = 12\n",
      "[56]\tvalid_0's rmse: 35.4755\n",
      "[LightGBM] [Debug] Trained a tree with leaves = 31 and depth = 10\n",
      "[57]\tvalid_0's rmse: 35.4919\n",
      "[LightGBM] [Debug] Trained a tree with leaves = 31 and depth = 9\n",
      "[58]\tvalid_0's rmse: 35.4446\n",
      "[LightGBM] [Debug] Trained a tree with leaves = 31 and depth = 10\n",
      "[59]\tvalid_0's rmse: 35.4365\n",
      "[LightGBM] [Debug] Trained a tree with leaves = 31 and depth = 11\n",
      "[60]\tvalid_0's rmse: 35.459\n",
      "[LightGBM] [Debug] Trained a tree with leaves = 31 and depth = 11\n",
      "[61]\tvalid_0's rmse: 35.5257\n",
      "[LightGBM] [Debug] Trained a tree with leaves = 31 and depth = 14\n",
      "[62]\tvalid_0's rmse: 35.5253\n",
      "[LightGBM] [Debug] Trained a tree with leaves = 31 and depth = 13\n",
      "[63]\tvalid_0's rmse: 35.5481\n",
      "[LightGBM] [Debug] Trained a tree with leaves = 31 and depth = 14\n",
      "[64]\tvalid_0's rmse: 35.5713\n",
      "[LightGBM] [Debug] Trained a tree with leaves = 31 and depth = 14\n",
      "[65]\tvalid_0's rmse: 35.5443\n",
      "[LightGBM] [Debug] Trained a tree with leaves = 31 and depth = 12\n",
      "[66]\tvalid_0's rmse: 35.4847\n",
      "[LightGBM] [Debug] Trained a tree with leaves = 31 and depth = 12\n",
      "[67]\tvalid_0's rmse: 35.4884\n",
      "[LightGBM] [Debug] Trained a tree with leaves = 31 and depth = 15\n",
      "[68]\tvalid_0's rmse: 35.4782\n",
      "[LightGBM] [Debug] Trained a tree with leaves = 31 and depth = 16\n",
      "[69]\tvalid_0's rmse: 35.4651\n",
      "[LightGBM] [Debug] Trained a tree with leaves = 31 and depth = 9\n",
      "[70]\tvalid_0's rmse: 35.4094\n",
      "[LightGBM] [Debug] Trained a tree with leaves = 31 and depth = 12\n",
      "[71]\tvalid_0's rmse: 35.3954\n",
      "[LightGBM] [Debug] Trained a tree with leaves = 31 and depth = 11\n",
      "[72]\tvalid_0's rmse: 35.3701\n",
      "[LightGBM] [Debug] Trained a tree with leaves = 31 and depth = 11\n",
      "[73]\tvalid_0's rmse: 35.3428\n",
      "[LightGBM] [Debug] Trained a tree with leaves = 31 and depth = 15\n",
      "[74]\tvalid_0's rmse: 35.3211\n",
      "[LightGBM] [Debug] Trained a tree with leaves = 31 and depth = 13\n",
      "[75]\tvalid_0's rmse: 35.2935\n",
      "[LightGBM] [Debug] Trained a tree with leaves = 31 and depth = 9\n",
      "[76]\tvalid_0's rmse: 35.2351\n",
      "[LightGBM] [Debug] Trained a tree with leaves = 31 and depth = 12\n",
      "[77]\tvalid_0's rmse: 35.2251\n",
      "[LightGBM] [Debug] Trained a tree with leaves = 31 and depth = 15\n",
      "[78]\tvalid_0's rmse: 35.2146\n",
      "[LightGBM] [Debug] Trained a tree with leaves = 31 and depth = 13\n",
      "[79]\tvalid_0's rmse: 35.2341\n",
      "[LightGBM] [Debug] Trained a tree with leaves = 31 and depth = 10\n",
      "[80]\tvalid_0's rmse: 35.2291\n",
      "[LightGBM] [Debug] Trained a tree with leaves = 31 and depth = 10\n",
      "[81]\tvalid_0's rmse: 35.2358\n",
      "[LightGBM] [Debug] Trained a tree with leaves = 31 and depth = 12\n",
      "[82]\tvalid_0's rmse: 35.2389\n",
      "[LightGBM] [Debug] Trained a tree with leaves = 31 and depth = 9\n",
      "[83]\tvalid_0's rmse: 35.2122\n",
      "[LightGBM] [Debug] Trained a tree with leaves = 31 and depth = 13\n",
      "[84]\tvalid_0's rmse: 35.201\n",
      "[LightGBM] [Debug] Trained a tree with leaves = 31 and depth = 12\n",
      "[85]\tvalid_0's rmse: 35.211\n",
      "[LightGBM] [Debug] Trained a tree with leaves = 31 and depth = 16\n",
      "[86]\tvalid_0's rmse: 35.2155\n",
      "[LightGBM] [Debug] Trained a tree with leaves = 31 and depth = 11\n",
      "[87]\tvalid_0's rmse: 35.1735\n",
      "[LightGBM] [Debug] Trained a tree with leaves = 31 and depth = 9\n",
      "[88]\tvalid_0's rmse: 35.1916\n",
      "[LightGBM] [Debug] Trained a tree with leaves = 31 and depth = 11\n",
      "[89]\tvalid_0's rmse: 35.173\n",
      "[LightGBM] [Debug] Trained a tree with leaves = 31 and depth = 11\n",
      "[90]\tvalid_0's rmse: 35.1432\n",
      "[LightGBM] [Debug] Trained a tree with leaves = 31 and depth = 10\n",
      "[91]\tvalid_0's rmse: 35.1261\n",
      "[LightGBM] [Debug] Trained a tree with leaves = 31 and depth = 11\n",
      "[92]\tvalid_0's rmse: 35.1185\n",
      "[LightGBM] [Debug] Trained a tree with leaves = 31 and depth = 12\n",
      "[93]\tvalid_0's rmse: 35.1066\n",
      "[LightGBM] [Debug] Trained a tree with leaves = 31 and depth = 12\n",
      "[94]\tvalid_0's rmse: 35.1375\n",
      "[LightGBM] [Debug] Trained a tree with leaves = 31 and depth = 13\n",
      "[95]\tvalid_0's rmse: 35.1098\n",
      "[LightGBM] [Debug] Trained a tree with leaves = 31 and depth = 13\n",
      "[96]\tvalid_0's rmse: 35.1248\n",
      "[LightGBM] [Debug] Trained a tree with leaves = 31 and depth = 12\n",
      "[97]\tvalid_0's rmse: 35.1221\n",
      "[LightGBM] [Debug] Trained a tree with leaves = 31 and depth = 10\n",
      "[98]\tvalid_0's rmse: 35.0914\n",
      "[LightGBM] [Debug] Trained a tree with leaves = 31 and depth = 9\n",
      "[99]\tvalid_0's rmse: 35.0948\n",
      "[LightGBM] [Debug] Trained a tree with leaves = 31 and depth = 16\n",
      "[100]\tvalid_0's rmse: 35.1027\n",
      "Время выполнения ячейки кода: 1.861513376235962\n",
      "CPU times: user 1.84 s, sys: 40.5 ms, total: 1.88 s\n",
      "Wall time: 1.86 s\n"
     ]
    }
   ],
   "source": [
    "%%time\n",
    "time_start=time.time()\n",
    "model_lgbm.fit(features_train,target_train, eval_set=[(features_valid, target_valid)])\n",
    "time_model_lgbm=time.time()-time_start\n",
    "print('Время выполнения ячейки кода:',time_model_lgbm)"
   ]
  },
  {
   "cell_type": "markdown",
   "metadata": {},
   "source": [
    "<div style=\"border:solid blue 2px; padding: 20px\">\n",
    "\n",
    "### Вывод\n",
    "\n",
    "\n",
    "    \n",
    "    \n",
    "</div> "
   ]
  },
  {
   "cell_type": "markdown",
   "metadata": {},
   "source": [
    "<div style=\"border:solid blue 2px; padding: 20px\">\n",
    "    \n",
    " \n",
    "`RSME` для моделей на валидации\n",
    "    \n",
    "    \n",
    "    \n",
    "- `DecisionTreeRegressor` - `37.992`\n",
    "    \n",
    "    \n",
    "- `RandomForestRegressor` - `40.615`\n",
    "    \n",
    "    \n",
    "- `LinearRegression` - `41.045` \n",
    "    \n",
    "    \n",
    "- `CatBoostRegressor` - `34.275`\n",
    "    \n",
    "    \n",
    "- `LGBMRegressor` - `35.102`\n",
    "\n",
    "    \n",
    "    \n",
    "</div> "
   ]
  },
  {
   "cell_type": "markdown",
   "metadata": {},
   "source": [
    "## Тестирование"
   ]
  },
  {
   "cell_type": "markdown",
   "metadata": {},
   "source": [
    "<div style=\"border:solid blue 2px; padding: 20px\">\n",
    "    \n",
    " \n",
    "Проверим качество на тестовой выборке модели — решающее дерево.\n",
    "\n",
    "    \n",
    "    \n",
    "</div> "
   ]
  },
  {
   "cell_type": "code",
   "execution_count": 53,
   "metadata": {},
   "outputs": [
    {
     "name": "stdout",
     "output_type": "stream",
     "text": [
      "Модель DecisionTreeRegressor(max_depth=5, random_state=42)\n",
      "Оценка 30.662174840338192\n",
      "Время выполнения ячейки кода: 0.961280345916748\n",
      "CPU times: user 895 ms, sys: 4.25 ms, total: 899 ms\n",
      "Wall time: 962 ms\n"
     ]
    }
   ],
   "source": [
    "%%time\n",
    "time_start=time.time()\n",
    "model_dtr = GridSearchCV(tree, parametrs_dtr,scoring='neg_mean_squared_error', cv=split)\n",
    "model_dtr.fit(features_part, target_part)\n",
    "print('Модель', model_dtr.best_estimator_)\n",
    "print('Оценка', (model_dtr.best_score_ * -1)**0.5)\n",
    "time_model_dtr=time.time()-time_start\n",
    "print('Время выполнения ячейки кода:',time_model_dtr)"
   ]
  },
  {
   "cell_type": "code",
   "execution_count": 54,
   "metadata": {},
   "outputs": [
    {
     "name": "stdout",
     "output_type": "stream",
     "text": [
      "Время выполнения ячейки кода: 0.0020096302032470703\n",
      "RMSE модели DecisionTreeRegressor на тестовой выборке: 51.38624326768079\n",
      "CPU times: user 3.38 ms, sys: 0 ns, total: 3.38 ms\n",
      "Wall time: 2.67 ms\n"
     ]
    }
   ],
   "source": [
    "%%time\n",
    "time_start=time.time()\n",
    "predictions_dtr_test = model_dtr.predict(features_test) # предсказание модели DecisionTreeRegressor\n",
    "time_predict_model_dtr_test=time.time()-time_start\n",
    "rmse_dtr_test = mean_squared_error(target_test, predictions_dtr_test)**0.5\n",
    "print('Время выполнения ячейки кода:',time_predict_model_dtr_test)\n",
    "print('RMSE модели DecisionTreeRegressor на тестовой выборке:', rmse_dtr_test)"
   ]
  },
  {
   "cell_type": "code",
   "execution_count": 55,
   "metadata": {},
   "outputs": [
    {
     "data": {
      "image/png": "[encoded data removed]",
      "text/plain": [
       "<Figure size 432x288 with 1 Axes>"
      ]
     },
     "metadata": {
      "needs_background": "light"
     },
     "output_type": "display_data"
    }
   ],
   "source": [
    "plt.plot(features_test[:48].index, target_test[:48], label='Фактические значения')\n",
    "plt.plot(features_test[:48].index, predictions_dtr_test[:48], label='Предсказания')\n",
    "plt.legend()\n",
    "plt.show()"
   ]
  },
  {
   "cell_type": "markdown",
   "metadata": {},
   "source": [
    "<div style=\"border:solid blue 2px; padding: 20px\">\n",
    "    \n",
    " \n",
    "Проверим качество на тестовой выборке модели — случайный лес.\n",
    "    \n",
    "\n",
    "    \n",
    "</div> "
   ]
  },
  {
   "cell_type": "code",
   "execution_count": 56,
   "metadata": {},
   "outputs": [
    {
     "name": "stdout",
     "output_type": "stream",
     "text": [
      "Модель RandomForestRegressor(max_depth=4, n_estimators=4, random_state=42)\n",
      "Оценка 30.550725242546612\n",
      "Время выполнения ячейки кода: 1.7528691291809082\n",
      "CPU times: user 1.74 s, sys: 4.17 ms, total: 1.74 s\n",
      "Wall time: 1.75 s\n"
     ]
    }
   ],
   "source": [
    "%%time\n",
    "time_start=time.time()\n",
    "model_rfr = GridSearchCV(forest, parametrs_rfr,scoring='neg_mean_squared_error', cv=split)\n",
    "model_rfr.fit(features_part, target_part)\n",
    "print('Модель', model_rfr.best_estimator_)\n",
    "print('Оценка', (model_rfr.best_score_ * -1)**0.5)\n",
    "time_model_rfr=time.time()-time_start\n",
    "print('Время выполнения ячейки кода:',time_model_rfr)"
   ]
  },
  {
   "cell_type": "code",
   "execution_count": 57,
   "metadata": {},
   "outputs": [
    {
     "name": "stdout",
     "output_type": "stream",
     "text": [
      "Время выполнения ячейки кода: 0.0032258033752441406\n",
      "RMSE модели RandomForestRegressor на тестовой выборке: 49.91106949649767\n",
      "CPU times: user 4.73 ms, sys: 58 µs, total: 4.79 ms\n",
      "Wall time: 4.04 ms\n"
     ]
    }
   ],
   "source": [
    "%%time\n",
    "time_start=time.time()\n",
    "predictions_rfr_test = model_rfr.predict(features_test) # предсказание модели RandomForestRegressor\n",
    "time_predict_model_rfr_test=time.time()-time_start               \n",
    "rmse_rfr_test = mean_squared_error(target_test, predictions_rfr_test)**0.5\n",
    "print('Время выполнения ячейки кода:',time_predict_model_rfr_test)\n",
    "print('RMSE модели RandomForestRegressor на тестовой выборке:', rmse_rfr_test)"
   ]
  },
  {
   "cell_type": "code",
   "execution_count": 58,
   "metadata": {},
   "outputs": [
    {
     "data": {
      "image/png": "[encoded data removed]",
      "text/plain": [
       "<Figure size 432x288 with 1 Axes>"
      ]
     },
     "metadata": {
      "needs_background": "light"
     },
     "output_type": "display_data"
    }
   ],
   "source": [
    "plt.plot(features_test[:48].index, target_test[:48], label='Фактические значения')\n",
    "plt.plot(features_test[:48].index, predictions_rfr_test[:48], label='Предсказания')\n",
    "plt.legend()\n",
    "plt.show()"
   ]
  },
  {
   "cell_type": "markdown",
   "metadata": {},
   "source": [
    "<div style=\"border:solid blue 2px; padding: 20px\">\n",
    "    \n",
    " \n",
    "Проверим качество на тестовой выборке модели — линейная регрессия.\n",
    "\n",
    "    \n",
    "    \n",
    "</div> "
   ]
  },
  {
   "cell_type": "code",
   "execution_count": 59,
   "metadata": {
    "scrolled": true
   },
   "outputs": [
    {
     "name": "stdout",
     "output_type": "stream",
     "text": [
      "Модель GridSearchCV(cv=TimeSeriesSplit(gap=0, max_train_size=None, n_splits=8, test_size=None),\n",
      "             estimator=GridSearchCV(cv=TimeSeriesSplit(gap=0, max_train_size=None, n_splits=8, test_size=None),\n",
      "                                    estimator=LinearRegression(), param_grid={},\n",
      "                                    scoring='neg_mean_squared_error'),\n",
      "             param_grid={}, scoring='neg_mean_squared_error')\n",
      "Оценка 31.74493266489281\n",
      "Время выполнения ячейки кода: 2.357266664505005\n",
      "CPU times: user 1.34 s, sys: 1.08 s, total: 2.43 s\n",
      "Wall time: 2.36 s\n"
     ]
    }
   ],
   "source": [
    "%%time\n",
    "time_start=time.time()\n",
    "model_lr = GridSearchCV(model_lr, parametrs_lr,scoring='neg_mean_squared_error', cv=split)\n",
    "model_lr.fit(features_part,target_part)\n",
    "print('Модель', model_lr)\n",
    "print('Оценка', (model_lr.best_score_ * -1)**0.5)\n",
    "time_model_lr=time.time()-time_start\n",
    "print('Время выполнения ячейки кода:',time_model_lr)"
   ]
  },
  {
   "cell_type": "code",
   "execution_count": 60,
   "metadata": {},
   "outputs": [
    {
     "name": "stdout",
     "output_type": "stream",
     "text": [
      "Время выполнения ячейки кода: 0.005962848663330078\n",
      "RMSE модели LinearRegression на тестовой выборке: 51.32906182752819\n",
      "CPU times: user 13.2 ms, sys: 19.7 ms, total: 33 ms\n",
      "Wall time: 6.74 ms\n"
     ]
    }
   ],
   "source": [
    "%%time\n",
    "time_start=time.time()\n",
    "predictions_lr_test = model_lr.predict(features_test) # предсказание модели LinearRegression\n",
    "time_predict_model_lr_test=time.time()-time_start\n",
    "rmse_lr_test = mean_squared_error(target_test, predictions_lr_test)**0.5\n",
    "print('Время выполнения ячейки кода:',time_predict_model_lr_test)\n",
    "print('RMSE модели LinearRegression на тестовой выборке:', rmse_lr_test)"
   ]
  },
  {
   "cell_type": "code",
   "execution_count": 61,
   "metadata": {},
   "outputs": [
    {
     "data": {
      "image/png": "[encoded data removed]",
      "text/plain": [
       "<Figure size 432x288 with 1 Axes>"
      ]
     },
     "metadata": {
      "needs_background": "light"
     },
     "output_type": "display_data"
    }
   ],
   "source": [
    "plt.plot(features_test[:48].index, target_test[:48], label='Фактические значения')\n",
    "plt.plot(features_test[:48].index, predictions_lr_test[:48], label='Предсказания')\n",
    "plt.legend()\n",
    "plt.show()"
   ]
  },
  {
   "cell_type": "markdown",
   "metadata": {},
   "source": [
    "<div style=\"border:solid blue 2px; padding: 20px\">\n",
    "    \n",
    " \n",
    "Проверим качество на тестовой выборке модели — бустинг для категориальных признаков.\n",
    "\n",
    "    \n",
    "    \n",
    "</div> "
   ]
  },
  {
   "cell_type": "code",
   "execution_count": 62,
   "metadata": {},
   "outputs": [
    {
     "name": "stdout",
     "output_type": "stream",
     "text": [
      "Learning rate set to 0.050845\n",
      "0:\tlearn: 35.6893151\ttotal: 4.05ms\tremaining: 4.05s\n",
      "100:\tlearn: 24.4804900\ttotal: 413ms\tremaining: 3.67s\n",
      "200:\tlearn: 21.7715342\ttotal: 779ms\tremaining: 3.1s\n",
      "300:\tlearn: 19.7601555\ttotal: 1.15s\tremaining: 2.67s\n",
      "400:\tlearn: 18.1408106\ttotal: 1.53s\tremaining: 2.28s\n",
      "500:\tlearn: 16.8741093\ttotal: 1.91s\tremaining: 1.9s\n",
      "600:\tlearn: 15.7169365\ttotal: 2.34s\tremaining: 1.55s\n",
      "700:\tlearn: 14.7081440\ttotal: 2.74s\tremaining: 1.17s\n",
      "800:\tlearn: 13.8074132\ttotal: 3.15s\tremaining: 783ms\n",
      "900:\tlearn: 13.0297247\ttotal: 3.55s\tremaining: 390ms\n",
      "999:\tlearn: 12.2650935\ttotal: 3.92s\tremaining: 0us\n",
      "Время выполнения ячейки кода: 7.295276165008545\n",
      "CPU times: user 3.98 s, sys: 91.5 ms, total: 4.07 s\n",
      "Wall time: 7.3 s\n"
     ]
    }
   ],
   "source": [
    "%%time\n",
    "time_start=time.time()\n",
    "model_cbr.fit(features_part,target_part)\n",
    "time_model_cbr=time.time()-time_start\n",
    "print('Время выполнения ячейки кода:',time_model_cbr)"
   ]
  },
  {
   "cell_type": "code",
   "execution_count": 63,
   "metadata": {},
   "outputs": [
    {
     "name": "stdout",
     "output_type": "stream",
     "text": [
      "Время выполнения ячейки кода: 0.0028166770935058594\n",
      "RMSE модели CatBoostRegressor на тестовой выборке: 42.84879832746725\n",
      "CPU times: user 3.07 ms, sys: 1.96 ms, total: 5.03 ms\n",
      "Wall time: 3.68 ms\n"
     ]
    }
   ],
   "source": [
    "%%time\n",
    "time_start=time.time()\n",
    "predictions_cbr_test = model_cbr.predict(features_test) # предсказание модели CatBoostRegressor\n",
    "time_predict_model_cbr_test=time.time()-time_start\n",
    "rmse_cbr_test = mean_squared_error(target_test, predictions_cbr_test)**0.5\n",
    "print('Время выполнения ячейки кода:',time_predict_model_cbr_test)\n",
    "print('RMSE модели CatBoostRegressor на тестовой выборке:', rmse_cbr_test)"
   ]
  },
  {
   "cell_type": "code",
   "execution_count": 64,
   "metadata": {},
   "outputs": [
    {
     "data": {
      "image/png": "[encoded data removed]",
      "text/plain": [
       "<Figure size 432x288 with 1 Axes>"
      ]
     },
     "metadata": {
      "needs_background": "light"
     },
     "output_type": "display_data"
    }
   ],
   "source": [
    "plt.plot(features_test[:48].index, target_test[:48], label='Фактические значения')\n",
    "plt.plot(features_test[:48].index, predictions_cbr_test[:48], label='Предсказания')\n",
    "plt.legend()\n",
    "plt.show()"
   ]
  },
  {
   "cell_type": "markdown",
   "metadata": {},
   "source": [
    "<div style=\"border:solid blue 2px; padding: 20px\">\n",
    "    \n",
    " \n",
    "Проверим качество на тестовой выборке модели — лёгкая машина градиентного бустинга.\n",
    "\n",
    "    \n",
    "    \n",
    "</div> "
   ]
  },
  {
   "cell_type": "code",
   "execution_count": 65,
   "metadata": {
    "scrolled": false
   },
   "outputs": [
    {
     "name": "stdout",
     "output_type": "stream",
     "text": [
      "[LightGBM] [Debug] Dataset::GetMultiBinFromAllFeatures: sparse rate 0.021353\n",
      "[LightGBM] [Debug] init for col-wise cost 0.000007 seconds, init for row-wise cost 0.000467 seconds\n",
      "[LightGBM] [Warning] Auto-choosing col-wise multi-threading, the overhead of testing was 0.000642 seconds.\n",
      "You can set `force_col_wise=true` to remove the overhead.\n",
      "[LightGBM] [Info] Total Bins 3055\n",
      "[LightGBM] [Info] Number of data points in the train set: 3939, number of used features: 18\n",
      "[LightGBM] [Info] Start training from score 0.016502\n",
      "[LightGBM] [Debug] Trained a tree with leaves = 31 and depth = 9\n",
      "[LightGBM] [Debug] Trained a tree with leaves = 31 and depth = 9\n",
      "[LightGBM] [Debug] Trained a tree with leaves = 31 and depth = 9\n",
      "[LightGBM] [Debug] Trained a tree with leaves = 31 and depth = 8\n",
      "[LightGBM] [Debug] Trained a tree with leaves = 31 and depth = 7\n",
      "[LightGBM] [Debug] Trained a tree with leaves = 31 and depth = 9\n",
      "[LightGBM] [Debug] Trained a tree with leaves = 31 and depth = 8\n",
      "[LightGBM] [Debug] Trained a tree with leaves = 31 and depth = 9\n",
      "[LightGBM] [Debug] Trained a tree with leaves = 31 and depth = 8\n",
      "[LightGBM] [Debug] Trained a tree with leaves = 31 and depth = 10\n",
      "[LightGBM] [Debug] Trained a tree with leaves = 31 and depth = 9\n",
      "[LightGBM] [Debug] Trained a tree with leaves = 31 and depth = 9\n",
      "[LightGBM] [Debug] Trained a tree with leaves = 31 and depth = 10\n",
      "[LightGBM] [Debug] Trained a tree with leaves = 31 and depth = 9\n",
      "[LightGBM] [Debug] Trained a tree with leaves = 31 and depth = 10\n",
      "[LightGBM] [Debug] Trained a tree with leaves = 31 and depth = 8\n",
      "[LightGBM] [Debug] Trained a tree with leaves = 31 and depth = 8\n",
      "[LightGBM] [Debug] Trained a tree with leaves = 31 and depth = 7\n",
      "[LightGBM] [Debug] Trained a tree with leaves = 31 and depth = 10\n",
      "[LightGBM] [Debug] Trained a tree with leaves = 31 and depth = 8\n",
      "[LightGBM] [Debug] Trained a tree with leaves = 31 and depth = 10\n",
      "[LightGBM] [Debug] Trained a tree with leaves = 31 and depth = 10\n",
      "[LightGBM] [Debug] Trained a tree with leaves = 31 and depth = 9\n",
      "[LightGBM] [Debug] Trained a tree with leaves = 31 and depth = 9\n",
      "[LightGBM] [Debug] Trained a tree with leaves = 31 and depth = 9\n",
      "[LightGBM] [Debug] Trained a tree with leaves = 31 and depth = 9\n",
      "[LightGBM] [Debug] Trained a tree with leaves = 31 and depth = 9\n",
      "[LightGBM] [Debug] Trained a tree with leaves = 31 and depth = 11\n",
      "[LightGBM] [Debug] Trained a tree with leaves = 31 and depth = 12\n",
      "[LightGBM] [Debug] Trained a tree with leaves = 31 and depth = 11\n",
      "[LightGBM] [Debug] Trained a tree with leaves = 31 and depth = 9\n",
      "[LightGBM] [Debug] Trained a tree with leaves = 31 and depth = 13\n",
      "[LightGBM] [Debug] Trained a tree with leaves = 31 and depth = 11\n",
      "[LightGBM] [Debug] Trained a tree with leaves = 31 and depth = 8\n",
      "[LightGBM] [Debug] Trained a tree with leaves = 31 and depth = 12\n",
      "[LightGBM] [Debug] Trained a tree with leaves = 31 and depth = 13\n",
      "[LightGBM] [Debug] Trained a tree with leaves = 31 and depth = 13\n",
      "[LightGBM] [Debug] Trained a tree with leaves = 31 and depth = 13\n",
      "[LightGBM] [Debug] Trained a tree with leaves = 31 and depth = 11\n",
      "[LightGBM] [Debug] Trained a tree with leaves = 31 and depth = 12\n",
      "[LightGBM] [Debug] Trained a tree with leaves = 31 and depth = 13\n",
      "[LightGBM] [Debug] Trained a tree with leaves = 31 and depth = 12\n",
      "[LightGBM] [Debug] Trained a tree with leaves = 31 and depth = 12\n",
      "[LightGBM] [Debug] Trained a tree with leaves = 31 and depth = 10\n",
      "[LightGBM] [Debug] Trained a tree with leaves = 31 and depth = 9\n",
      "[LightGBM] [Debug] Trained a tree with leaves = 31 and depth = 12\n",
      "[LightGBM] [Debug] Trained a tree with leaves = 31 and depth = 11\n",
      "[LightGBM] [Debug] Trained a tree with leaves = 31 and depth = 12\n",
      "[LightGBM] [Debug] Trained a tree with leaves = 31 and depth = 13\n",
      "[LightGBM] [Debug] Trained a tree with leaves = 31 and depth = 8\n",
      "[LightGBM] [Debug] Trained a tree with leaves = 31 and depth = 10\n",
      "[LightGBM] [Debug] Trained a tree with leaves = 31 and depth = 12\n",
      "[LightGBM] [Debug] Trained a tree with leaves = 31 and depth = 11\n",
      "[LightGBM] [Debug] Trained a tree with leaves = 31 and depth = 16\n",
      "[LightGBM] [Debug] Trained a tree with leaves = 31 and depth = 8\n",
      "[LightGBM] [Debug] Trained a tree with leaves = 31 and depth = 11\n",
      "[LightGBM] [Debug] Trained a tree with leaves = 31 and depth = 9\n",
      "[LightGBM] [Debug] Trained a tree with leaves = 31 and depth = 11\n",
      "[LightGBM] [Debug] Trained a tree with leaves = 31 and depth = 8\n",
      "[LightGBM] [Debug] Trained a tree with leaves = 31 and depth = 10\n",
      "[LightGBM] [Debug] Trained a tree with leaves = 31 and depth = 12\n",
      "[LightGBM] [Debug] Trained a tree with leaves = 31 and depth = 12\n",
      "[LightGBM] [Debug] Trained a tree with leaves = 31 and depth = 11\n",
      "[LightGBM] [Debug] Trained a tree with leaves = 31 and depth = 10\n",
      "[LightGBM] [Debug] Trained a tree with leaves = 31 and depth = 15\n",
      "[LightGBM] [Debug] Trained a tree with leaves = 31 and depth = 13\n",
      "[LightGBM] [Debug] Trained a tree with leaves = 31 and depth = 10\n",
      "[LightGBM] [Debug] Trained a tree with leaves = 31 and depth = 10\n",
      "[LightGBM] [Debug] Trained a tree with leaves = 31 and depth = 10\n",
      "[LightGBM] [Debug] Trained a tree with leaves = 31 and depth = 11\n",
      "[LightGBM] [Debug] Trained a tree with leaves = 31 and depth = 9\n",
      "[LightGBM] [Debug] Trained a tree with leaves = 31 and depth = 10\n",
      "[LightGBM] [Debug] Trained a tree with leaves = 31 and depth = 10\n",
      "[LightGBM] [Debug] Trained a tree with leaves = 31 and depth = 13\n",
      "[LightGBM] [Debug] Trained a tree with leaves = 31 and depth = 11\n",
      "[LightGBM] [Debug] Trained a tree with leaves = 31 and depth = 12\n",
      "[LightGBM] [Debug] Trained a tree with leaves = 31 and depth = 12\n",
      "[LightGBM] [Debug] Trained a tree with leaves = 31 and depth = 13\n",
      "[LightGBM] [Debug] Trained a tree with leaves = 31 and depth = 11\n",
      "[LightGBM] [Debug] Trained a tree with leaves = 31 and depth = 10\n",
      "[LightGBM] [Debug] Trained a tree with leaves = 31 and depth = 15\n",
      "[LightGBM] [Debug] Trained a tree with leaves = 31 and depth = 16\n",
      "[LightGBM] [Debug] Trained a tree with leaves = 31 and depth = 15\n",
      "[LightGBM] [Debug] Trained a tree with leaves = 31 and depth = 13\n",
      "[LightGBM] [Debug] Trained a tree with leaves = 31 and depth = 10\n",
      "[LightGBM] [Debug] Trained a tree with leaves = 31 and depth = 10\n",
      "[LightGBM] [Debug] Trained a tree with leaves = 31 and depth = 11\n",
      "[LightGBM] [Debug] Trained a tree with leaves = 31 and depth = 12\n",
      "[LightGBM] [Debug] Trained a tree with leaves = 31 and depth = 9\n",
      "[LightGBM] [Debug] Trained a tree with leaves = 31 and depth = 19\n",
      "[LightGBM] [Debug] Trained a tree with leaves = 31 and depth = 9\n",
      "[LightGBM] [Debug] Trained a tree with leaves = 31 and depth = 15\n",
      "[LightGBM] [Debug] Trained a tree with leaves = 31 and depth = 19\n",
      "[LightGBM] [Debug] Trained a tree with leaves = 31 and depth = 9\n",
      "[LightGBM] [Debug] Trained a tree with leaves = 31 and depth = 13\n",
      "[LightGBM] [Debug] Trained a tree with leaves = 31 and depth = 15\n",
      "[LightGBM] [Debug] Trained a tree with leaves = 31 and depth = 14\n",
      "[LightGBM] [Debug] Trained a tree with leaves = 31 and depth = 10\n",
      "[LightGBM] [Debug] Trained a tree with leaves = 31 and depth = 10\n",
      "[LightGBM] [Debug] Trained a tree with leaves = 31 and depth = 12\n",
      "Время выполнения ячейки кода: 1.2952263355255127\n",
      "CPU times: user 1.29 s, sys: 17.1 ms, total: 1.31 s\n",
      "Wall time: 1.3 s\n"
     ]
    }
   ],
   "source": [
    "%%time\n",
    "time_start=time.time()\n",
    "model_lgbm.fit(features_part,target_part)\n",
    "time_model_lgbm=time.time()-time_start\n",
    "print('Время выполнения ячейки кода:',time_model_lgbm)"
   ]
  },
  {
   "cell_type": "code",
   "execution_count": 66,
   "metadata": {},
   "outputs": [
    {
     "name": "stdout",
     "output_type": "stream",
     "text": [
      "Время выполнения ячейки кода: 0.08761072158813477\n",
      "RMSE модели LGBMRegressor на тестовой выборке: 44.9350210512157\n",
      "CPU times: user 21.9 ms, sys: 1.01 ms, total: 22.9 ms\n",
      "Wall time: 88.7 ms\n"
     ]
    }
   ],
   "source": [
    "%%time\n",
    "time_start=time.time()\n",
    "predictions_lgbm_test = model_lgbm.predict(features_test) # предсказание модели LGBMRegressor\n",
    "time_predict_model_lgbm_test=time.time()-time_start\n",
    "rmse_lgbm_test = mean_squared_error(target_test, predictions_lgbm_test)**0.5\n",
    "print('Время выполнения ячейки кода:',time_predict_model_lgbm_test)\n",
    "print('RMSE модели LGBMRegressor на тестовой выборке:', rmse_lgbm_test)"
   ]
  },
  {
   "cell_type": "code",
   "execution_count": 67,
   "metadata": {},
   "outputs": [
    {
     "data": {
      "image/png": "[encoded data removed]",
      "text/plain": [
       "<Figure size 432x288 with 1 Axes>"
      ]
     },
     "metadata": {
      "needs_background": "light"
     },
     "output_type": "display_data"
    }
   ],
   "source": [
    "plt.plot(features_test[:48].index, target_test[:48], label='Фактические значения')\n",
    "plt.plot(features_test[:48].index, predictions_lgbm_test[:48], label='Предсказания')\n",
    "plt.legend()\n",
    "plt.show()"
   ]
  },
  {
   "cell_type": "markdown",
   "metadata": {},
   "source": [
    "<div style=\"border:solid blue 2px; padding: 20px\">\n",
    "\n",
    "### Вывод\n",
    "\n",
    "\n",
    "    \n",
    "    \n",
    "</div> "
   ]
  },
  {
   "cell_type": "code",
   "execution_count": 68,
   "metadata": {},
   "outputs": [
    {
     "data": {
      "text/html": [
       "<div>\n",
       "<style scoped>\n",
       "    .dataframe tbody tr th:only-of-type {\n",
       "        vertical-align: middle;\n",
       "    }\n",
       "\n",
       "    .dataframe tbody tr th {\n",
       "        vertical-align: top;\n",
       "    }\n",
       "\n",
       "    .dataframe thead th {\n",
       "        text-align: right;\n",
       "    }\n",
       "</style>\n",
       "<table border=\"1\" class=\"dataframe\">\n",
       "  <thead>\n",
       "    <tr style=\"text-align: right;\">\n",
       "      <th></th>\n",
       "      <th>model</th>\n",
       "      <th>time_model_fit</th>\n",
       "      <th>time_model_predict</th>\n",
       "      <th>rmse_model</th>\n",
       "    </tr>\n",
       "  </thead>\n",
       "  <tbody>\n",
       "    <tr>\n",
       "      <th>3</th>\n",
       "      <td>CatBoostRegressor</td>\n",
       "      <td>7.295276</td>\n",
       "      <td>0.002817</td>\n",
       "      <td>42.848798</td>\n",
       "    </tr>\n",
       "    <tr>\n",
       "      <th>4</th>\n",
       "      <td>LGBMRegressor</td>\n",
       "      <td>1.295226</td>\n",
       "      <td>0.087611</td>\n",
       "      <td>44.935021</td>\n",
       "    </tr>\n",
       "    <tr>\n",
       "      <th>1</th>\n",
       "      <td>RandomForestRegressor</td>\n",
       "      <td>1.752869</td>\n",
       "      <td>0.003226</td>\n",
       "      <td>49.911069</td>\n",
       "    </tr>\n",
       "    <tr>\n",
       "      <th>2</th>\n",
       "      <td>LinearRegression</td>\n",
       "      <td>2.357267</td>\n",
       "      <td>0.005963</td>\n",
       "      <td>51.329062</td>\n",
       "    </tr>\n",
       "    <tr>\n",
       "      <th>0</th>\n",
       "      <td>DecisionTreeRegressor</td>\n",
       "      <td>0.961280</td>\n",
       "      <td>0.002010</td>\n",
       "      <td>51.386243</td>\n",
       "    </tr>\n",
       "  </tbody>\n",
       "</table>\n",
       "</div>"
      ],
      "text/plain": [
       "                   model  time_model_fit  time_model_predict  rmse_model\n",
       "3      CatBoostRegressor        7.295276            0.002817   42.848798\n",
       "4          LGBMRegressor        1.295226            0.087611   44.935021\n",
       "1  RandomForestRegressor        1.752869            0.003226   49.911069\n",
       "2       LinearRegression        2.357267            0.005963   51.329062\n",
       "0  DecisionTreeRegressor        0.961280            0.002010   51.386243"
      ]
     },
     "execution_count": 68,
     "metadata": {},
     "output_type": "execute_result"
    }
   ],
   "source": [
    "# таблица времени обучения моделей\n",
    "d = {'model': ['DecisionTreeRegressor','RandomForestRegressor','LinearRegression','CatBoostRegressor','LGBMRegressor'],\n",
    "     'time_model_fit': [time_model_dtr,time_model_rfr,time_model_lr,time_model_cbr,time_model_lgbm],\n",
    "     'time_model_predict': [time_predict_model_dtr_test,time_predict_model_rfr_test,time_predict_model_lr_test,time_predict_model_cbr_test,time_predict_model_lgbm_test],\n",
    "     'rmse_model': [rmse_dtr_test,rmse_rfr_test,rmse_lr_test,rmse_cbr_test,rmse_lgbm_test]\n",
    "    }\n",
    "df = pd.DataFrame(data=d)\n",
    "df.sort_values(by='rmse_model')"
   ]
  },
  {
   "cell_type": "markdown",
   "metadata": {},
   "source": [
    "<div style=\"border:solid blue 2px; padding: 20px\">\n",
    "    \n",
    "Компания «Чётенькое такси», чтобы привлекать больше водителей в период пиковой нагрузки,\n",
    "    \n",
    "может применять модель `CatBoostRegressor`, которая показала\n",
    "    \n",
    "- время предсказания `time_model_predict` `0.002817`\n",
    "    \n",
    "-  качество предсказания `rmse_model` `42.848`, что является минимальным требованием,\n",
    "    \n",
    "которое было выполнено по заданию на исследование исторических данных о заказах такси в аэропортах:\n",
    "    \n",
    "`Значение метрики RMSE на тестовой выборке должно быть не больше 48`\n",
    "\n",
    "    \n",
    "    \n",
    "</div> "
   ]
  }
 ],
 "metadata": {
  "ExecuteTimeLog": [
   {
    "duration": 1495,
    "start_time": "2022-04-22T18:14:13.946Z"
   },
   {
    "duration": 103,
    "start_time": "2022-04-22T18:15:16.397Z"
   },
   {
    "duration": 15,
    "start_time": "2022-04-22T18:19:11.115Z"
   },
   {
    "duration": 13,
    "start_time": "2022-04-22T18:20:10.774Z"
   },
   {
    "duration": 13,
    "start_time": "2022-04-22T18:20:39.268Z"
   },
   {
    "duration": 1769,
    "start_time": "2022-04-22T18:22:57.768Z"
   },
   {
    "duration": 152,
    "start_time": "2022-04-22T18:22:59.539Z"
   },
   {
    "duration": 13,
    "start_time": "2022-04-22T18:22:59.693Z"
   },
   {
    "duration": 42,
    "start_time": "2022-04-22T18:22:59.708Z"
   },
   {
    "duration": 30,
    "start_time": "2022-04-22T18:22:59.751Z"
   },
   {
    "duration": 1476,
    "start_time": "2022-04-22T18:23:44.668Z"
   },
   {
    "duration": 100,
    "start_time": "2022-04-22T18:23:46.147Z"
   },
   {
    "duration": 15,
    "start_time": "2022-04-22T18:23:46.249Z"
   },
   {
    "duration": 15,
    "start_time": "2022-04-22T18:23:46.266Z"
   },
   {
    "duration": 12,
    "start_time": "2022-04-22T18:23:46.283Z"
   },
   {
    "duration": 13,
    "start_time": "2022-04-22T18:23:57.912Z"
   },
   {
    "duration": 1513,
    "start_time": "2022-04-22T18:24:19.686Z"
   },
   {
    "duration": 105,
    "start_time": "2022-04-22T18:24:21.202Z"
   },
   {
    "duration": 13,
    "start_time": "2022-04-22T18:24:21.309Z"
   },
   {
    "duration": 10,
    "start_time": "2022-04-22T18:24:21.324Z"
   },
   {
    "duration": 12,
    "start_time": "2022-04-22T18:24:21.336Z"
   },
   {
    "duration": 10,
    "start_time": "2022-04-22T18:24:58.455Z"
   },
   {
    "duration": 9,
    "start_time": "2022-04-22T18:30:14.768Z"
   },
   {
    "duration": 34381,
    "start_time": "2022-04-23T11:40:02.622Z"
   },
   {
    "duration": 2083,
    "start_time": "2022-04-23T11:40:37.006Z"
   },
   {
    "duration": 96,
    "start_time": "2022-04-23T11:40:39.092Z"
   },
   {
    "duration": 21,
    "start_time": "2022-04-23T11:40:39.190Z"
   },
   {
    "duration": 16,
    "start_time": "2022-04-23T11:40:39.215Z"
   },
   {
    "duration": 37,
    "start_time": "2022-04-23T11:40:39.233Z"
   },
   {
    "duration": 11,
    "start_time": "2022-04-23T11:40:39.273Z"
   },
   {
    "duration": 5,
    "start_time": "2022-04-23T11:42:55.996Z"
   },
   {
    "duration": 615,
    "start_time": "2022-04-23T11:42:56.005Z"
   },
   {
    "duration": 0,
    "start_time": "2022-04-23T11:42:56.623Z"
   },
   {
    "duration": 0,
    "start_time": "2022-04-23T11:42:56.625Z"
   },
   {
    "duration": 0,
    "start_time": "2022-04-23T11:42:56.627Z"
   },
   {
    "duration": 0,
    "start_time": "2022-04-23T11:42:56.628Z"
   },
   {
    "duration": 0,
    "start_time": "2022-04-23T11:42:56.630Z"
   },
   {
    "duration": 9814,
    "start_time": "2022-04-23T12:04:26.500Z"
   },
   {
    "duration": 923,
    "start_time": "2022-04-23T12:04:36.317Z"
   },
   {
    "duration": 0,
    "start_time": "2022-04-23T12:04:37.243Z"
   },
   {
    "duration": 0,
    "start_time": "2022-04-23T12:04:37.252Z"
   },
   {
    "duration": 0,
    "start_time": "2022-04-23T12:04:37.254Z"
   },
   {
    "duration": 0,
    "start_time": "2022-04-23T12:04:37.256Z"
   },
   {
    "duration": 0,
    "start_time": "2022-04-23T12:04:37.258Z"
   },
   {
    "duration": 9969,
    "start_time": "2022-04-23T12:04:50.860Z"
   },
   {
    "duration": 619,
    "start_time": "2022-04-23T12:05:00.833Z"
   },
   {
    "duration": 0,
    "start_time": "2022-04-23T12:05:01.455Z"
   },
   {
    "duration": 0,
    "start_time": "2022-04-23T12:05:01.457Z"
   },
   {
    "duration": 0,
    "start_time": "2022-04-23T12:05:01.459Z"
   },
   {
    "duration": 0,
    "start_time": "2022-04-23T12:05:01.461Z"
   },
   {
    "duration": 0,
    "start_time": "2022-04-23T12:05:01.463Z"
   },
   {
    "duration": 42831,
    "start_time": "2022-04-23T12:06:04.667Z"
   },
   {
    "duration": 607,
    "start_time": "2022-04-23T12:06:47.501Z"
   },
   {
    "duration": 0,
    "start_time": "2022-04-23T12:06:48.111Z"
   },
   {
    "duration": 0,
    "start_time": "2022-04-23T12:06:48.113Z"
   },
   {
    "duration": 0,
    "start_time": "2022-04-23T12:06:48.114Z"
   },
   {
    "duration": 0,
    "start_time": "2022-04-23T12:06:48.116Z"
   },
   {
    "duration": 0,
    "start_time": "2022-04-23T12:06:48.117Z"
   },
   {
    "duration": 4,
    "start_time": "2022-04-23T12:07:33.893Z"
   },
   {
    "duration": 586,
    "start_time": "2022-04-23T12:07:33.900Z"
   },
   {
    "duration": 0,
    "start_time": "2022-04-23T12:07:34.488Z"
   },
   {
    "duration": 0,
    "start_time": "2022-04-23T12:07:34.490Z"
   },
   {
    "duration": 0,
    "start_time": "2022-04-23T12:07:34.492Z"
   },
   {
    "duration": 0,
    "start_time": "2022-04-23T12:07:34.493Z"
   },
   {
    "duration": 0,
    "start_time": "2022-04-23T12:07:34.495Z"
   },
   {
    "duration": 1317,
    "start_time": "2022-04-23T12:09:14.829Z"
   },
   {
    "duration": 5,
    "start_time": "2022-04-23T12:09:21.129Z"
   },
   {
    "duration": 1807,
    "start_time": "2022-04-23T12:09:21.137Z"
   },
   {
    "duration": 115,
    "start_time": "2022-04-23T12:09:22.947Z"
   },
   {
    "duration": 19,
    "start_time": "2022-04-23T12:09:23.065Z"
   },
   {
    "duration": 18,
    "start_time": "2022-04-23T12:09:23.087Z"
   },
   {
    "duration": 47,
    "start_time": "2022-04-23T12:09:23.107Z"
   },
   {
    "duration": 13,
    "start_time": "2022-04-23T12:09:23.156Z"
   },
   {
    "duration": 5,
    "start_time": "2022-04-23T12:23:09.698Z"
   },
   {
    "duration": 1983,
    "start_time": "2022-04-23T12:23:09.706Z"
   },
   {
    "duration": 95,
    "start_time": "2022-04-23T12:23:11.692Z"
   },
   {
    "duration": 24,
    "start_time": "2022-04-23T12:23:11.790Z"
   },
   {
    "duration": 37,
    "start_time": "2022-04-23T12:23:11.817Z"
   },
   {
    "duration": 23,
    "start_time": "2022-04-23T12:23:11.857Z"
   },
   {
    "duration": 14,
    "start_time": "2022-04-23T12:23:11.883Z"
   },
   {
    "duration": 8,
    "start_time": "2022-04-23T12:31:36.910Z"
   },
   {
    "duration": 2250,
    "start_time": "2022-04-23T12:31:36.922Z"
   },
   {
    "duration": 90,
    "start_time": "2022-04-23T12:31:39.176Z"
   },
   {
    "duration": 24,
    "start_time": "2022-04-23T12:31:39.269Z"
   },
   {
    "duration": 40,
    "start_time": "2022-04-23T12:31:39.296Z"
   },
   {
    "duration": 33,
    "start_time": "2022-04-23T12:31:39.343Z"
   },
   {
    "duration": 11,
    "start_time": "2022-04-23T12:31:39.379Z"
   },
   {
    "duration": 14,
    "start_time": "2022-04-23T12:31:39.392Z"
   },
   {
    "duration": 17,
    "start_time": "2022-04-23T12:31:39.408Z"
   },
   {
    "duration": 4,
    "start_time": "2022-04-23T12:34:51.900Z"
   },
   {
    "duration": 618,
    "start_time": "2022-04-23T12:34:51.910Z"
   },
   {
    "duration": 0,
    "start_time": "2022-04-23T12:34:52.532Z"
   },
   {
    "duration": 0,
    "start_time": "2022-04-23T12:34:52.534Z"
   },
   {
    "duration": 0,
    "start_time": "2022-04-23T12:34:52.536Z"
   },
   {
    "duration": 0,
    "start_time": "2022-04-23T12:34:52.551Z"
   },
   {
    "duration": 0,
    "start_time": "2022-04-23T12:34:52.554Z"
   },
   {
    "duration": 0,
    "start_time": "2022-04-23T12:34:52.556Z"
   },
   {
    "duration": 0,
    "start_time": "2022-04-23T12:34:52.557Z"
   },
   {
    "duration": 5,
    "start_time": "2022-04-23T12:35:14.429Z"
   },
   {
    "duration": 1952,
    "start_time": "2022-04-23T12:35:14.437Z"
   },
   {
    "duration": 135,
    "start_time": "2022-04-23T12:35:16.391Z"
   },
   {
    "duration": 23,
    "start_time": "2022-04-23T12:35:16.529Z"
   },
   {
    "duration": 17,
    "start_time": "2022-04-23T12:35:16.556Z"
   },
   {
    "duration": 25,
    "start_time": "2022-04-23T12:35:16.576Z"
   },
   {
    "duration": 13,
    "start_time": "2022-04-23T12:35:16.604Z"
   },
   {
    "duration": 14,
    "start_time": "2022-04-23T12:35:16.620Z"
   },
   {
    "duration": 28,
    "start_time": "2022-04-23T12:35:16.636Z"
   },
   {
    "duration": 5,
    "start_time": "2022-04-23T12:47:41.459Z"
   },
   {
    "duration": 4,
    "start_time": "2022-04-23T12:50:48.919Z"
   },
   {
    "duration": 1002,
    "start_time": "2022-04-23T12:55:06.629Z"
   },
   {
    "duration": 291,
    "start_time": "2022-04-23T13:02:21.748Z"
   },
   {
    "duration": 6,
    "start_time": "2022-04-23T13:02:48.948Z"
   },
   {
    "duration": 1505,
    "start_time": "2022-04-23T13:02:52.528Z"
   },
   {
    "duration": 1457,
    "start_time": "2022-04-23T13:03:04.317Z"
   },
   {
    "duration": 11,
    "start_time": "2022-04-23T13:08:39.909Z"
   },
   {
    "duration": 22,
    "start_time": "2022-04-23T13:09:17.740Z"
   },
   {
    "duration": 59,
    "start_time": "2022-04-23T13:10:05.251Z"
   },
   {
    "duration": 2123,
    "start_time": "2022-04-23T13:10:45.635Z"
   },
   {
    "duration": 1409,
    "start_time": "2022-04-23T13:10:58.781Z"
   },
   {
    "duration": 1967,
    "start_time": "2022-04-23T13:11:40.510Z"
   },
   {
    "duration": 713,
    "start_time": "2022-04-23T13:12:19.588Z"
   },
   {
    "duration": 7,
    "start_time": "2022-04-23T13:12:59.977Z"
   },
   {
    "duration": 527,
    "start_time": "2022-04-23T13:13:46.478Z"
   },
   {
    "duration": 1814,
    "start_time": "2022-04-23T13:31:28.249Z"
   },
   {
    "duration": 16,
    "start_time": "2022-04-23T14:39:19.883Z"
   },
   {
    "duration": 11,
    "start_time": "2022-04-23T14:39:36.408Z"
   },
   {
    "duration": 17,
    "start_time": "2022-04-23T14:39:41.147Z"
   },
   {
    "duration": 6,
    "start_time": "2022-04-23T14:39:51.070Z"
   },
   {
    "duration": 2624,
    "start_time": "2022-04-23T14:39:51.083Z"
   },
   {
    "duration": 107,
    "start_time": "2022-04-23T14:39:53.711Z"
   },
   {
    "duration": 18,
    "start_time": "2022-04-23T14:39:53.821Z"
   },
   {
    "duration": 30,
    "start_time": "2022-04-23T14:39:53.842Z"
   },
   {
    "duration": 23,
    "start_time": "2022-04-23T14:39:53.875Z"
   },
   {
    "duration": 5,
    "start_time": "2022-04-23T14:39:53.900Z"
   },
   {
    "duration": 12,
    "start_time": "2022-04-23T14:39:53.908Z"
   },
   {
    "duration": 44,
    "start_time": "2022-04-23T14:39:53.923Z"
   },
   {
    "duration": 17,
    "start_time": "2022-04-23T14:39:53.970Z"
   },
   {
    "duration": 13,
    "start_time": "2022-04-23T14:39:53.991Z"
   },
   {
    "duration": 9,
    "start_time": "2022-04-23T14:39:54.007Z"
   },
   {
    "duration": 2889,
    "start_time": "2022-04-23T14:39:54.019Z"
   },
   {
    "duration": 610,
    "start_time": "2022-04-23T14:39:56.911Z"
   },
   {
    "duration": 530,
    "start_time": "2022-04-23T14:39:57.524Z"
   },
   {
    "duration": 527,
    "start_time": "2022-04-23T14:43:20.840Z"
   },
   {
    "duration": 1709,
    "start_time": "2022-04-23T14:47:25.702Z"
   },
   {
    "duration": 7,
    "start_time": "2022-04-23T14:47:34.171Z"
   },
   {
    "duration": 556,
    "start_time": "2022-04-23T14:47:58.772Z"
   },
   {
    "duration": 965,
    "start_time": "2022-04-23T14:48:22.501Z"
   },
   {
    "duration": 725,
    "start_time": "2022-04-23T14:48:36.690Z"
   },
   {
    "duration": 572,
    "start_time": "2022-04-23T14:48:43.032Z"
   },
   {
    "duration": 592,
    "start_time": "2022-04-23T14:48:49.881Z"
   },
   {
    "duration": 538,
    "start_time": "2022-04-23T14:48:53.992Z"
   },
   {
    "duration": 541,
    "start_time": "2022-04-23T14:49:01.442Z"
   },
   {
    "duration": 382,
    "start_time": "2022-04-23T14:49:07.152Z"
   },
   {
    "duration": 11,
    "start_time": "2022-04-23T14:49:27.943Z"
   },
   {
    "duration": 571,
    "start_time": "2022-04-23T14:49:29.733Z"
   },
   {
    "duration": 11,
    "start_time": "2022-04-23T14:49:40.439Z"
   },
   {
    "duration": 376,
    "start_time": "2022-04-23T14:49:41.932Z"
   },
   {
    "duration": 8,
    "start_time": "2022-04-23T14:50:39.962Z"
   },
   {
    "duration": 1570,
    "start_time": "2022-04-23T14:52:36.348Z"
   },
   {
    "duration": 583,
    "start_time": "2022-04-23T14:52:38.269Z"
   },
   {
    "duration": 20,
    "start_time": "2022-04-23T14:53:51.090Z"
   },
   {
    "duration": 8,
    "start_time": "2022-04-23T14:54:06.122Z"
   },
   {
    "duration": 520,
    "start_time": "2022-04-23T14:54:11.969Z"
   },
   {
    "duration": 642,
    "start_time": "2022-04-23T14:57:03.807Z"
   },
   {
    "duration": 744,
    "start_time": "2022-04-23T14:57:32.112Z"
   },
   {
    "duration": 2081,
    "start_time": "2022-04-23T15:06:23.163Z"
   },
   {
    "duration": 891,
    "start_time": "2022-04-23T15:06:44.619Z"
   },
   {
    "duration": 1077,
    "start_time": "2022-04-23T15:10:02.779Z"
   },
   {
    "duration": 290,
    "start_time": "2022-04-23T15:12:27.762Z"
   },
   {
    "duration": 2001,
    "start_time": "2022-04-23T15:12:34.912Z"
   },
   {
    "duration": 363,
    "start_time": "2022-04-23T15:12:39.811Z"
   },
   {
    "duration": 443,
    "start_time": "2022-04-23T15:12:50.823Z"
   },
   {
    "duration": 495,
    "start_time": "2022-04-23T15:13:23.722Z"
   },
   {
    "duration": 963,
    "start_time": "2022-04-23T15:14:28.699Z"
   },
   {
    "duration": 8,
    "start_time": "2022-04-23T15:14:41.475Z"
   },
   {
    "duration": 2445,
    "start_time": "2022-04-23T15:14:41.487Z"
   },
   {
    "duration": 107,
    "start_time": "2022-04-23T15:14:43.936Z"
   },
   {
    "duration": 18,
    "start_time": "2022-04-23T15:14:44.047Z"
   },
   {
    "duration": 34,
    "start_time": "2022-04-23T15:14:44.068Z"
   },
   {
    "duration": 23,
    "start_time": "2022-04-23T15:14:44.105Z"
   },
   {
    "duration": 5,
    "start_time": "2022-04-23T15:14:44.131Z"
   },
   {
    "duration": 12,
    "start_time": "2022-04-23T15:14:44.153Z"
   },
   {
    "duration": 19,
    "start_time": "2022-04-23T15:14:44.169Z"
   },
   {
    "duration": 556,
    "start_time": "2022-04-23T15:14:44.193Z"
   },
   {
    "duration": 10,
    "start_time": "2022-04-23T15:14:44.753Z"
   },
   {
    "duration": 17,
    "start_time": "2022-04-23T15:14:44.765Z"
   },
   {
    "duration": 771,
    "start_time": "2022-04-23T15:14:44.788Z"
   },
   {
    "duration": 1355,
    "start_time": "2022-04-23T15:14:45.562Z"
   },
   {
    "duration": 0,
    "start_time": "2022-04-23T15:14:46.922Z"
   },
   {
    "duration": 0,
    "start_time": "2022-04-23T15:14:46.924Z"
   },
   {
    "duration": 0,
    "start_time": "2022-04-23T15:14:46.926Z"
   },
   {
    "duration": 0,
    "start_time": "2022-04-23T15:14:46.928Z"
   },
   {
    "duration": 0,
    "start_time": "2022-04-23T15:14:46.929Z"
   },
   {
    "duration": 0,
    "start_time": "2022-04-23T15:14:46.931Z"
   },
   {
    "duration": 0,
    "start_time": "2022-04-23T15:14:46.933Z"
   },
   {
    "duration": 1222,
    "start_time": "2022-04-23T15:14:55.647Z"
   },
   {
    "duration": 23,
    "start_time": "2022-04-23T15:15:01.352Z"
   },
   {
    "duration": 547,
    "start_time": "2022-04-23T15:15:06.566Z"
   },
   {
    "duration": 329,
    "start_time": "2022-04-23T15:15:35.441Z"
   },
   {
    "duration": 451,
    "start_time": "2022-04-23T15:16:38.673Z"
   },
   {
    "duration": 296,
    "start_time": "2022-04-23T15:16:42.771Z"
   },
   {
    "duration": 300,
    "start_time": "2022-04-23T15:17:12.178Z"
   },
   {
    "duration": 242,
    "start_time": "2022-04-23T15:18:06.505Z"
   },
   {
    "duration": 294,
    "start_time": "2022-04-23T15:18:13.736Z"
   },
   {
    "duration": 298,
    "start_time": "2022-04-23T15:19:40.107Z"
   },
   {
    "duration": 101,
    "start_time": "2022-04-23T15:22:07.494Z"
   },
   {
    "duration": 26,
    "start_time": "2022-04-23T15:22:16.557Z"
   },
   {
    "duration": 22,
    "start_time": "2022-04-23T15:23:31.051Z"
   },
   {
    "duration": 36,
    "start_time": "2022-04-23T15:25:34.294Z"
   },
   {
    "duration": 7,
    "start_time": "2022-04-23T15:43:01.236Z"
   },
   {
    "duration": 483,
    "start_time": "2022-04-23T15:43:25.113Z"
   },
   {
    "duration": 18,
    "start_time": "2022-04-23T15:44:39.125Z"
   },
   {
    "duration": 6,
    "start_time": "2022-04-23T15:45:36.257Z"
   },
   {
    "duration": 2542,
    "start_time": "2022-04-23T15:45:36.266Z"
   },
   {
    "duration": 84,
    "start_time": "2022-04-23T15:45:38.812Z"
   },
   {
    "duration": 13,
    "start_time": "2022-04-23T15:45:38.899Z"
   },
   {
    "duration": 15,
    "start_time": "2022-04-23T15:45:38.915Z"
   },
   {
    "duration": 25,
    "start_time": "2022-04-23T15:45:38.932Z"
   },
   {
    "duration": 4,
    "start_time": "2022-04-23T15:45:38.959Z"
   },
   {
    "duration": 8,
    "start_time": "2022-04-23T15:45:38.965Z"
   },
   {
    "duration": 13,
    "start_time": "2022-04-23T15:45:38.975Z"
   },
   {
    "duration": 421,
    "start_time": "2022-04-23T15:45:38.990Z"
   },
   {
    "duration": 8,
    "start_time": "2022-04-23T15:45:39.415Z"
   },
   {
    "duration": 27,
    "start_time": "2022-04-23T15:45:39.425Z"
   },
   {
    "duration": 23,
    "start_time": "2022-04-23T15:45:39.455Z"
   },
   {
    "duration": 535,
    "start_time": "2022-04-23T15:45:39.480Z"
   },
   {
    "duration": 42,
    "start_time": "2022-04-23T15:45:40.018Z"
   },
   {
    "duration": 5,
    "start_time": "2022-04-23T15:45:40.063Z"
   },
   {
    "duration": 464,
    "start_time": "2022-04-23T15:45:40.070Z"
   },
   {
    "duration": 21,
    "start_time": "2022-04-23T15:45:40.536Z"
   },
   {
    "duration": 775,
    "start_time": "2022-04-23T15:45:40.559Z"
   },
   {
    "duration": 238,
    "start_time": "2022-04-23T15:45:41.336Z"
   },
   {
    "duration": 866,
    "start_time": "2022-04-23T15:45:41.576Z"
   },
   {
    "duration": 4,
    "start_time": "2022-04-23T15:45:42.453Z"
   },
   {
    "duration": 6,
    "start_time": "2022-04-23T15:45:42.460Z"
   },
   {
    "duration": 923,
    "start_time": "2022-04-23T15:45:42.468Z"
   },
   {
    "duration": 0,
    "start_time": "2022-04-23T15:45:43.394Z"
   },
   {
    "duration": 0,
    "start_time": "2022-04-23T15:45:43.396Z"
   },
   {
    "duration": 5,
    "start_time": "2022-04-23T15:49:08.435Z"
   },
   {
    "duration": 2075,
    "start_time": "2022-04-23T15:49:08.444Z"
   },
   {
    "duration": 109,
    "start_time": "2022-04-23T15:49:10.521Z"
   },
   {
    "duration": 15,
    "start_time": "2022-04-23T15:49:10.634Z"
   },
   {
    "duration": 19,
    "start_time": "2022-04-23T15:49:10.651Z"
   },
   {
    "duration": 17,
    "start_time": "2022-04-23T15:49:10.673Z"
   },
   {
    "duration": 8,
    "start_time": "2022-04-23T15:49:10.692Z"
   },
   {
    "duration": 13,
    "start_time": "2022-04-23T15:49:10.703Z"
   },
   {
    "duration": 44,
    "start_time": "2022-04-23T15:49:10.719Z"
   },
   {
    "duration": 388,
    "start_time": "2022-04-23T15:49:10.768Z"
   },
   {
    "duration": 3,
    "start_time": "2022-04-23T15:49:11.158Z"
   },
   {
    "duration": 6,
    "start_time": "2022-04-23T15:49:11.163Z"
   },
   {
    "duration": 16,
    "start_time": "2022-04-23T15:49:11.171Z"
   },
   {
    "duration": 6,
    "start_time": "2022-04-23T15:49:11.189Z"
   },
   {
    "duration": 56,
    "start_time": "2022-04-23T15:49:11.197Z"
   },
   {
    "duration": 4,
    "start_time": "2022-04-23T15:49:11.255Z"
   },
   {
    "duration": 13,
    "start_time": "2022-04-23T15:49:11.261Z"
   },
   {
    "duration": 568,
    "start_time": "2022-04-23T15:49:11.276Z"
   },
   {
    "duration": 21,
    "start_time": "2022-04-23T15:49:11.846Z"
   },
   {
    "duration": 35,
    "start_time": "2022-04-23T15:49:11.869Z"
   },
   {
    "duration": 819,
    "start_time": "2022-04-23T15:49:11.906Z"
   },
   {
    "duration": 248,
    "start_time": "2022-04-23T15:49:12.727Z"
   },
   {
    "duration": 838,
    "start_time": "2022-04-23T15:49:12.978Z"
   },
   {
    "duration": 7,
    "start_time": "2022-04-23T15:49:13.818Z"
   },
   {
    "duration": 25,
    "start_time": "2022-04-23T15:49:13.827Z"
   },
   {
    "duration": 742,
    "start_time": "2022-04-23T15:49:13.854Z"
   },
   {
    "duration": 0,
    "start_time": "2022-04-23T15:49:14.599Z"
   },
   {
    "duration": 0,
    "start_time": "2022-04-23T15:49:14.600Z"
   },
   {
    "duration": 6,
    "start_time": "2022-04-23T15:50:37.263Z"
   },
   {
    "duration": 2012,
    "start_time": "2022-04-23T15:50:37.274Z"
   },
   {
    "duration": 116,
    "start_time": "2022-04-23T15:50:39.288Z"
   },
   {
    "duration": 14,
    "start_time": "2022-04-23T15:50:39.406Z"
   },
   {
    "duration": 21,
    "start_time": "2022-04-23T15:50:39.422Z"
   },
   {
    "duration": 19,
    "start_time": "2022-04-23T15:50:39.445Z"
   },
   {
    "duration": 11,
    "start_time": "2022-04-23T15:50:39.466Z"
   },
   {
    "duration": 29,
    "start_time": "2022-04-23T15:50:39.479Z"
   },
   {
    "duration": 32,
    "start_time": "2022-04-23T15:50:39.511Z"
   },
   {
    "duration": 350,
    "start_time": "2022-04-23T15:50:39.545Z"
   },
   {
    "duration": 3,
    "start_time": "2022-04-23T15:50:39.899Z"
   },
   {
    "duration": 11,
    "start_time": "2022-04-23T15:50:39.904Z"
   },
   {
    "duration": 31,
    "start_time": "2022-04-23T15:50:39.917Z"
   },
   {
    "duration": 9,
    "start_time": "2022-04-23T15:50:39.951Z"
   },
   {
    "duration": 35,
    "start_time": "2022-04-23T15:50:39.962Z"
   },
   {
    "duration": 9,
    "start_time": "2022-04-23T15:50:40.000Z"
   },
   {
    "duration": 18,
    "start_time": "2022-04-23T15:50:40.011Z"
   },
   {
    "duration": 532,
    "start_time": "2022-04-23T15:50:40.031Z"
   },
   {
    "duration": 21,
    "start_time": "2022-04-23T15:50:40.565Z"
   },
   {
    "duration": 50,
    "start_time": "2022-04-23T15:50:40.588Z"
   },
   {
    "duration": 188,
    "start_time": "2022-04-23T15:50:40.653Z"
   },
   {
    "duration": 0,
    "start_time": "2022-04-23T15:50:40.844Z"
   },
   {
    "duration": 0,
    "start_time": "2022-04-23T15:50:40.851Z"
   },
   {
    "duration": 0,
    "start_time": "2022-04-23T15:50:40.852Z"
   },
   {
    "duration": 0,
    "start_time": "2022-04-23T15:50:40.853Z"
   },
   {
    "duration": 0,
    "start_time": "2022-04-23T15:50:40.855Z"
   },
   {
    "duration": 0,
    "start_time": "2022-04-23T15:50:40.857Z"
   },
   {
    "duration": 0,
    "start_time": "2022-04-23T15:50:40.858Z"
   },
   {
    "duration": 6,
    "start_time": "2022-04-23T15:52:52.668Z"
   },
   {
    "duration": 2620,
    "start_time": "2022-04-23T15:52:52.679Z"
   },
   {
    "duration": 104,
    "start_time": "2022-04-23T15:52:55.302Z"
   },
   {
    "duration": 17,
    "start_time": "2022-04-23T15:52:55.409Z"
   },
   {
    "duration": 27,
    "start_time": "2022-04-23T15:52:55.429Z"
   },
   {
    "duration": 22,
    "start_time": "2022-04-23T15:52:55.460Z"
   },
   {
    "duration": 4,
    "start_time": "2022-04-23T15:52:55.485Z"
   },
   {
    "duration": 10,
    "start_time": "2022-04-23T15:52:55.491Z"
   },
   {
    "duration": 52,
    "start_time": "2022-04-23T15:52:55.504Z"
   },
   {
    "duration": 358,
    "start_time": "2022-04-23T15:52:55.558Z"
   },
   {
    "duration": 4,
    "start_time": "2022-04-23T15:52:55.918Z"
   },
   {
    "duration": 32,
    "start_time": "2022-04-23T15:52:55.925Z"
   },
   {
    "duration": 7,
    "start_time": "2022-04-23T15:52:55.959Z"
   },
   {
    "duration": 23,
    "start_time": "2022-04-23T15:52:55.969Z"
   },
   {
    "duration": 755,
    "start_time": "2022-04-23T15:52:55.997Z"
   },
   {
    "duration": 25,
    "start_time": "2022-04-23T15:52:56.754Z"
   },
   {
    "duration": 6,
    "start_time": "2022-04-23T15:52:56.781Z"
   },
   {
    "duration": 11,
    "start_time": "2022-04-23T15:52:56.789Z"
   },
   {
    "duration": 483,
    "start_time": "2022-04-23T15:52:56.803Z"
   },
   {
    "duration": 21,
    "start_time": "2022-04-23T15:52:57.288Z"
   },
   {
    "duration": 27,
    "start_time": "2022-04-23T15:52:57.311Z"
   },
   {
    "duration": 256,
    "start_time": "2022-04-23T15:52:57.340Z"
   },
   {
    "duration": 0,
    "start_time": "2022-04-23T15:52:57.598Z"
   },
   {
    "duration": 0,
    "start_time": "2022-04-23T15:52:57.599Z"
   },
   {
    "duration": 0,
    "start_time": "2022-04-23T15:52:57.601Z"
   },
   {
    "duration": 0,
    "start_time": "2022-04-23T15:52:57.602Z"
   },
   {
    "duration": 0,
    "start_time": "2022-04-23T15:52:57.604Z"
   },
   {
    "duration": 0,
    "start_time": "2022-04-23T15:52:57.605Z"
   },
   {
    "duration": 76,
    "start_time": "2022-04-23T16:54:15.502Z"
   },
   {
    "duration": 39,
    "start_time": "2022-04-23T16:55:36.437Z"
   },
   {
    "duration": 2023,
    "start_time": "2022-04-23T16:56:05.154Z"
   },
   {
    "duration": 6,
    "start_time": "2022-04-23T16:56:31.151Z"
   },
   {
    "duration": 2799,
    "start_time": "2022-04-23T16:56:31.161Z"
   },
   {
    "duration": 97,
    "start_time": "2022-04-23T16:56:33.963Z"
   },
   {
    "duration": 18,
    "start_time": "2022-04-23T16:56:34.063Z"
   },
   {
    "duration": 19,
    "start_time": "2022-04-23T16:56:34.085Z"
   },
   {
    "duration": 59,
    "start_time": "2022-04-23T16:56:34.106Z"
   },
   {
    "duration": 5,
    "start_time": "2022-04-23T16:56:34.168Z"
   },
   {
    "duration": 12,
    "start_time": "2022-04-23T16:56:34.175Z"
   },
   {
    "duration": 14,
    "start_time": "2022-04-23T16:56:34.189Z"
   },
   {
    "duration": 390,
    "start_time": "2022-04-23T16:56:34.206Z"
   },
   {
    "duration": 5151,
    "start_time": "2022-04-23T16:56:34.600Z"
   },
   {
    "duration": 7,
    "start_time": "2022-04-23T16:56:39.757Z"
   },
   {
    "duration": 96,
    "start_time": "2022-04-23T16:56:39.769Z"
   },
   {
    "duration": 14,
    "start_time": "2022-04-23T16:56:39.868Z"
   },
   {
    "duration": 71,
    "start_time": "2022-04-23T16:56:39.885Z"
   },
   {
    "duration": 1198,
    "start_time": "2022-04-23T16:56:39.959Z"
   },
   {
    "duration": 31,
    "start_time": "2022-04-23T16:56:41.160Z"
   },
   {
    "duration": 60,
    "start_time": "2022-04-23T16:56:41.194Z"
   },
   {
    "duration": 12,
    "start_time": "2022-04-23T16:56:41.257Z"
   },
   {
    "duration": 1294,
    "start_time": "2022-04-23T16:56:41.272Z"
   },
   {
    "duration": 87,
    "start_time": "2022-04-23T16:56:42.569Z"
   },
   {
    "duration": 97,
    "start_time": "2022-04-23T16:56:42.659Z"
   },
   {
    "duration": 454,
    "start_time": "2022-04-23T16:56:42.759Z"
   },
   {
    "duration": 0,
    "start_time": "2022-04-23T16:56:43.216Z"
   },
   {
    "duration": 0,
    "start_time": "2022-04-23T16:56:43.218Z"
   },
   {
    "duration": 0,
    "start_time": "2022-04-23T16:56:43.220Z"
   },
   {
    "duration": 0,
    "start_time": "2022-04-23T16:56:43.222Z"
   },
   {
    "duration": 0,
    "start_time": "2022-04-23T16:56:43.224Z"
   },
   {
    "duration": 0,
    "start_time": "2022-04-23T16:56:43.226Z"
   },
   {
    "duration": 0,
    "start_time": "2022-04-23T16:56:43.257Z"
   },
   {
    "duration": 5,
    "start_time": "2022-04-23T17:10:29.502Z"
   },
   {
    "duration": 2648,
    "start_time": "2022-04-23T17:10:29.510Z"
   },
   {
    "duration": 105,
    "start_time": "2022-04-23T17:10:32.161Z"
   },
   {
    "duration": 16,
    "start_time": "2022-04-23T17:10:32.270Z"
   },
   {
    "duration": 17,
    "start_time": "2022-04-23T17:10:32.291Z"
   },
   {
    "duration": 49,
    "start_time": "2022-04-23T17:10:32.311Z"
   },
   {
    "duration": 4,
    "start_time": "2022-04-23T17:10:32.364Z"
   },
   {
    "duration": 8,
    "start_time": "2022-04-23T17:10:32.370Z"
   },
   {
    "duration": 15,
    "start_time": "2022-04-23T17:10:32.381Z"
   },
   {
    "duration": 548,
    "start_time": "2022-04-23T17:10:32.399Z"
   },
   {
    "duration": 1600,
    "start_time": "2022-04-23T17:10:32.953Z"
   },
   {
    "duration": 4,
    "start_time": "2022-04-23T17:10:34.562Z"
   },
   {
    "duration": 107,
    "start_time": "2022-04-23T17:10:34.569Z"
   },
   {
    "duration": 7,
    "start_time": "2022-04-23T17:10:34.683Z"
   },
   {
    "duration": 34,
    "start_time": "2022-04-23T17:10:34.693Z"
   },
   {
    "duration": 751,
    "start_time": "2022-04-23T17:10:34.731Z"
   },
   {
    "duration": 34,
    "start_time": "2022-04-23T17:10:35.484Z"
   },
   {
    "duration": 4,
    "start_time": "2022-04-23T17:10:35.521Z"
   },
   {
    "duration": 33,
    "start_time": "2022-04-23T17:10:35.528Z"
   },
   {
    "duration": 481,
    "start_time": "2022-04-23T17:10:35.563Z"
   },
   {
    "duration": 29,
    "start_time": "2022-04-23T17:10:36.051Z"
   },
   {
    "duration": 42,
    "start_time": "2022-04-23T17:10:36.084Z"
   },
   {
    "duration": 3002,
    "start_time": "2022-04-23T17:10:36.129Z"
   },
   {
    "duration": 0,
    "start_time": "2022-04-23T17:10:39.133Z"
   },
   {
    "duration": 0,
    "start_time": "2022-04-23T17:10:39.136Z"
   },
   {
    "duration": 0,
    "start_time": "2022-04-23T17:10:39.138Z"
   },
   {
    "duration": 0,
    "start_time": "2022-04-23T17:10:39.140Z"
   },
   {
    "duration": 0,
    "start_time": "2022-04-23T17:10:39.152Z"
   },
   {
    "duration": 0,
    "start_time": "2022-04-23T17:10:39.154Z"
   },
   {
    "duration": 0,
    "start_time": "2022-04-23T17:10:39.156Z"
   },
   {
    "duration": 0,
    "start_time": "2022-04-23T17:10:39.159Z"
   },
   {
    "duration": 5,
    "start_time": "2022-04-23T17:11:23.824Z"
   },
   {
    "duration": 2103,
    "start_time": "2022-04-23T17:11:23.832Z"
   },
   {
    "duration": 87,
    "start_time": "2022-04-23T17:11:25.937Z"
   },
   {
    "duration": 18,
    "start_time": "2022-04-23T17:11:26.026Z"
   },
   {
    "duration": 18,
    "start_time": "2022-04-23T17:11:26.048Z"
   },
   {
    "duration": 22,
    "start_time": "2022-04-23T17:11:26.069Z"
   },
   {
    "duration": 4,
    "start_time": "2022-04-23T17:11:26.093Z"
   },
   {
    "duration": 7,
    "start_time": "2022-04-23T17:11:26.100Z"
   },
   {
    "duration": 49,
    "start_time": "2022-04-23T17:11:26.109Z"
   },
   {
    "duration": 517,
    "start_time": "2022-04-23T17:11:26.160Z"
   },
   {
    "duration": 1287,
    "start_time": "2022-04-23T17:11:26.680Z"
   },
   {
    "duration": 6,
    "start_time": "2022-04-23T17:11:28.056Z"
   },
   {
    "duration": 96,
    "start_time": "2022-04-23T17:11:28.069Z"
   },
   {
    "duration": 7,
    "start_time": "2022-04-23T17:11:28.171Z"
   },
   {
    "duration": 24,
    "start_time": "2022-04-23T17:11:28.181Z"
   },
   {
    "duration": 752,
    "start_time": "2022-04-23T17:11:28.208Z"
   },
   {
    "duration": 33,
    "start_time": "2022-04-23T17:11:28.962Z"
   },
   {
    "duration": 5,
    "start_time": "2022-04-23T17:11:28.997Z"
   },
   {
    "duration": 12,
    "start_time": "2022-04-23T17:11:29.005Z"
   },
   {
    "duration": 490,
    "start_time": "2022-04-23T17:11:29.019Z"
   },
   {
    "duration": 17,
    "start_time": "2022-04-23T17:11:29.512Z"
   },
   {
    "duration": 53,
    "start_time": "2022-04-23T17:11:29.531Z"
   },
   {
    "duration": 2772,
    "start_time": "2022-04-23T17:11:29.586Z"
   },
   {
    "duration": 882,
    "start_time": "2022-04-23T17:11:32.362Z"
   },
   {
    "duration": 257,
    "start_time": "2022-04-23T17:11:33.247Z"
   },
   {
    "duration": 1375,
    "start_time": "2022-04-23T17:11:33.506Z"
   },
   {
    "duration": 4,
    "start_time": "2022-04-23T17:11:34.884Z"
   },
   {
    "duration": 833,
    "start_time": "2022-04-23T17:11:34.890Z"
   },
   {
    "duration": 0,
    "start_time": "2022-04-23T17:11:35.725Z"
   },
   {
    "duration": 0,
    "start_time": "2022-04-23T17:11:35.727Z"
   },
   {
    "duration": 0,
    "start_time": "2022-04-23T17:11:35.729Z"
   },
   {
    "duration": 5,
    "start_time": "2022-04-23T17:14:13.611Z"
   },
   {
    "duration": 2956,
    "start_time": "2022-04-23T17:14:13.626Z"
   },
   {
    "duration": 185,
    "start_time": "2022-04-23T17:14:16.585Z"
   },
   {
    "duration": 15,
    "start_time": "2022-04-23T17:14:16.772Z"
   },
   {
    "duration": 21,
    "start_time": "2022-04-23T17:14:16.790Z"
   },
   {
    "duration": 44,
    "start_time": "2022-04-23T17:14:16.816Z"
   },
   {
    "duration": 5,
    "start_time": "2022-04-23T17:14:16.863Z"
   },
   {
    "duration": 7,
    "start_time": "2022-04-23T17:14:16.871Z"
   },
   {
    "duration": 16,
    "start_time": "2022-04-23T17:14:16.882Z"
   },
   {
    "duration": 527,
    "start_time": "2022-04-23T17:14:16.901Z"
   },
   {
    "duration": 4,
    "start_time": "2022-04-23T17:14:17.431Z"
   },
   {
    "duration": 28,
    "start_time": "2022-04-23T17:14:17.438Z"
   },
   {
    "duration": 10,
    "start_time": "2022-04-23T17:14:17.469Z"
   },
   {
    "duration": 10,
    "start_time": "2022-04-23T17:14:17.481Z"
   },
   {
    "duration": 24,
    "start_time": "2022-04-23T17:14:17.497Z"
   },
   {
    "duration": 589,
    "start_time": "2022-04-23T17:14:17.524Z"
   },
   {
    "duration": 46,
    "start_time": "2022-04-23T17:14:18.116Z"
   },
   {
    "duration": 5,
    "start_time": "2022-04-23T17:14:18.165Z"
   },
   {
    "duration": 10,
    "start_time": "2022-04-23T17:14:18.172Z"
   },
   {
    "duration": 689,
    "start_time": "2022-04-23T17:14:18.184Z"
   },
   {
    "duration": 24,
    "start_time": "2022-04-23T17:14:18.876Z"
   },
   {
    "duration": 55,
    "start_time": "2022-04-23T17:14:18.903Z"
   },
   {
    "duration": 269,
    "start_time": "2022-04-23T17:14:18.961Z"
   },
   {
    "duration": 0,
    "start_time": "2022-04-23T17:14:19.232Z"
   },
   {
    "duration": 0,
    "start_time": "2022-04-23T17:14:19.235Z"
   },
   {
    "duration": 0,
    "start_time": "2022-04-23T17:14:19.236Z"
   },
   {
    "duration": 0,
    "start_time": "2022-04-23T17:14:19.238Z"
   },
   {
    "duration": 0,
    "start_time": "2022-04-23T17:14:19.252Z"
   },
   {
    "duration": 0,
    "start_time": "2022-04-23T17:14:19.254Z"
   },
   {
    "duration": 0,
    "start_time": "2022-04-23T17:14:19.255Z"
   },
   {
    "duration": 0,
    "start_time": "2022-04-23T17:14:19.257Z"
   },
   {
    "duration": 503,
    "start_time": "2022-04-23T17:21:06.930Z"
   },
   {
    "duration": 4,
    "start_time": "2022-04-23T17:25:40.480Z"
   },
   {
    "duration": 1982,
    "start_time": "2022-04-23T17:25:40.487Z"
   },
   {
    "duration": 95,
    "start_time": "2022-04-23T17:25:42.471Z"
   },
   {
    "duration": 13,
    "start_time": "2022-04-23T17:25:42.569Z"
   },
   {
    "duration": 34,
    "start_time": "2022-04-23T17:25:42.584Z"
   },
   {
    "duration": 25,
    "start_time": "2022-04-23T17:25:42.620Z"
   },
   {
    "duration": 23,
    "start_time": "2022-04-23T17:25:42.647Z"
   },
   {
    "duration": 13,
    "start_time": "2022-04-23T17:25:42.672Z"
   },
   {
    "duration": 27,
    "start_time": "2022-04-23T17:25:42.689Z"
   },
   {
    "duration": 365,
    "start_time": "2022-04-23T17:25:42.718Z"
   },
   {
    "duration": 5,
    "start_time": "2022-04-23T17:25:43.085Z"
   },
   {
    "duration": 32,
    "start_time": "2022-04-23T17:25:43.092Z"
   },
   {
    "duration": 23,
    "start_time": "2022-04-23T17:25:43.126Z"
   },
   {
    "duration": 567,
    "start_time": "2022-04-23T17:25:43.151Z"
   },
   {
    "duration": 185,
    "start_time": "2022-04-23T17:25:43.720Z"
   },
   {
    "duration": 0,
    "start_time": "2022-04-23T17:25:43.908Z"
   },
   {
    "duration": 0,
    "start_time": "2022-04-23T17:25:43.911Z"
   },
   {
    "duration": 0,
    "start_time": "2022-04-23T17:25:43.912Z"
   },
   {
    "duration": 0,
    "start_time": "2022-04-23T17:25:43.914Z"
   },
   {
    "duration": 0,
    "start_time": "2022-04-23T17:25:43.916Z"
   },
   {
    "duration": 0,
    "start_time": "2022-04-23T17:25:43.919Z"
   },
   {
    "duration": 0,
    "start_time": "2022-04-23T17:25:43.921Z"
   },
   {
    "duration": 0,
    "start_time": "2022-04-23T17:25:43.923Z"
   },
   {
    "duration": 169,
    "start_time": "2022-04-23T17:31:03.761Z"
   },
   {
    "duration": 13,
    "start_time": "2022-04-23T17:31:12.224Z"
   },
   {
    "duration": 1457,
    "start_time": "2022-04-23T17:31:13.910Z"
   },
   {
    "duration": 6,
    "start_time": "2022-04-23T17:32:05.129Z"
   },
   {
    "duration": 2387,
    "start_time": "2022-04-23T17:32:05.137Z"
   },
   {
    "duration": 110,
    "start_time": "2022-04-23T17:32:07.527Z"
   },
   {
    "duration": 18,
    "start_time": "2022-04-23T17:32:07.640Z"
   },
   {
    "duration": 25,
    "start_time": "2022-04-23T17:32:07.660Z"
   },
   {
    "duration": 21,
    "start_time": "2022-04-23T17:32:07.688Z"
   },
   {
    "duration": 4,
    "start_time": "2022-04-23T17:32:07.711Z"
   },
   {
    "duration": 36,
    "start_time": "2022-04-23T17:32:07.717Z"
   },
   {
    "duration": 20,
    "start_time": "2022-04-23T17:32:07.758Z"
   },
   {
    "duration": 375,
    "start_time": "2022-04-23T17:32:07.780Z"
   },
   {
    "duration": 12,
    "start_time": "2022-04-23T17:32:08.157Z"
   },
   {
    "duration": 1577,
    "start_time": "2022-04-23T17:32:08.172Z"
   },
   {
    "duration": 6,
    "start_time": "2022-04-23T17:32:09.752Z"
   },
   {
    "duration": 10,
    "start_time": "2022-04-23T17:32:09.760Z"
   },
   {
    "duration": 7,
    "start_time": "2022-04-23T17:32:09.773Z"
   },
   {
    "duration": 735,
    "start_time": "2022-04-23T17:32:09.783Z"
   },
   {
    "duration": 289,
    "start_time": "2022-04-23T17:32:10.521Z"
   },
   {
    "duration": 0,
    "start_time": "2022-04-23T17:32:10.813Z"
   },
   {
    "duration": 0,
    "start_time": "2022-04-23T17:32:10.815Z"
   },
   {
    "duration": 0,
    "start_time": "2022-04-23T17:32:10.817Z"
   },
   {
    "duration": 0,
    "start_time": "2022-04-23T17:32:10.819Z"
   },
   {
    "duration": 1,
    "start_time": "2022-04-23T17:32:10.820Z"
   },
   {
    "duration": 0,
    "start_time": "2022-04-23T17:32:10.822Z"
   },
   {
    "duration": 0,
    "start_time": "2022-04-23T17:32:10.824Z"
   },
   {
    "duration": 0,
    "start_time": "2022-04-23T17:32:10.825Z"
   },
   {
    "duration": 486,
    "start_time": "2022-04-23T17:34:58.488Z"
   },
   {
    "duration": 327,
    "start_time": "2022-04-23T17:35:41.710Z"
   },
   {
    "duration": 28,
    "start_time": "2022-04-23T17:36:39.760Z"
   },
   {
    "duration": 26,
    "start_time": "2022-04-23T17:36:48.891Z"
   },
   {
    "duration": 5,
    "start_time": "2022-04-23T17:37:08.018Z"
   },
   {
    "duration": 2671,
    "start_time": "2022-04-23T17:37:08.027Z"
   },
   {
    "duration": 289,
    "start_time": "2022-04-23T17:37:10.702Z"
   },
   {
    "duration": 18,
    "start_time": "2022-04-23T17:37:10.995Z"
   },
   {
    "duration": 37,
    "start_time": "2022-04-23T17:37:11.016Z"
   },
   {
    "duration": 21,
    "start_time": "2022-04-23T17:37:11.056Z"
   },
   {
    "duration": 5,
    "start_time": "2022-04-23T17:37:11.080Z"
   },
   {
    "duration": 9,
    "start_time": "2022-04-23T17:37:11.087Z"
   },
   {
    "duration": 57,
    "start_time": "2022-04-23T17:37:11.099Z"
   },
   {
    "duration": 535,
    "start_time": "2022-04-23T17:37:11.162Z"
   },
   {
    "duration": 14,
    "start_time": "2022-04-23T17:37:11.700Z"
   },
   {
    "duration": 1425,
    "start_time": "2022-04-23T17:37:11.717Z"
   },
   {
    "duration": 313,
    "start_time": "2022-04-23T17:37:13.151Z"
   },
   {
    "duration": 0,
    "start_time": "2022-04-23T17:37:13.467Z"
   },
   {
    "duration": 0,
    "start_time": "2022-04-23T17:37:13.469Z"
   },
   {
    "duration": 0,
    "start_time": "2022-04-23T17:37:13.471Z"
   },
   {
    "duration": 0,
    "start_time": "2022-04-23T17:37:13.473Z"
   },
   {
    "duration": 0,
    "start_time": "2022-04-23T17:37:13.476Z"
   },
   {
    "duration": 0,
    "start_time": "2022-04-23T17:37:13.478Z"
   },
   {
    "duration": 0,
    "start_time": "2022-04-23T17:37:13.480Z"
   },
   {
    "duration": 0,
    "start_time": "2022-04-23T17:37:13.482Z"
   },
   {
    "duration": 0,
    "start_time": "2022-04-23T17:37:13.484Z"
   },
   {
    "duration": 0,
    "start_time": "2022-04-23T17:37:13.486Z"
   },
   {
    "duration": 0,
    "start_time": "2022-04-23T17:37:13.489Z"
   },
   {
    "duration": 0,
    "start_time": "2022-04-23T17:37:13.491Z"
   },
   {
    "duration": 0,
    "start_time": "2022-04-23T17:37:13.493Z"
   },
   {
    "duration": 0,
    "start_time": "2022-04-23T17:37:13.495Z"
   },
   {
    "duration": 443,
    "start_time": "2022-04-23T17:38:30.683Z"
   },
   {
    "duration": 25,
    "start_time": "2022-04-23T17:39:13.327Z"
   },
   {
    "duration": 6,
    "start_time": "2022-04-23T17:39:19.822Z"
   },
   {
    "duration": 2781,
    "start_time": "2022-04-23T17:39:19.832Z"
   },
   {
    "duration": 106,
    "start_time": "2022-04-23T17:39:22.616Z"
   },
   {
    "duration": 19,
    "start_time": "2022-04-23T17:39:22.730Z"
   },
   {
    "duration": 21,
    "start_time": "2022-04-23T17:39:22.752Z"
   },
   {
    "duration": 22,
    "start_time": "2022-04-23T17:39:22.776Z"
   },
   {
    "duration": 5,
    "start_time": "2022-04-23T17:39:22.800Z"
   },
   {
    "duration": 9,
    "start_time": "2022-04-23T17:39:22.808Z"
   },
   {
    "duration": 14,
    "start_time": "2022-04-23T17:39:22.855Z"
   },
   {
    "duration": 528,
    "start_time": "2022-04-23T17:39:22.872Z"
   },
   {
    "duration": 12,
    "start_time": "2022-04-23T17:39:23.404Z"
   },
   {
    "duration": 1590,
    "start_time": "2022-04-23T17:39:23.419Z"
   },
   {
    "duration": 302,
    "start_time": "2022-04-23T17:39:25.011Z"
   },
   {
    "duration": 0,
    "start_time": "2022-04-23T17:39:25.316Z"
   },
   {
    "duration": 0,
    "start_time": "2022-04-23T17:39:25.318Z"
   },
   {
    "duration": 0,
    "start_time": "2022-04-23T17:39:25.320Z"
   },
   {
    "duration": 0,
    "start_time": "2022-04-23T17:39:25.321Z"
   },
   {
    "duration": 0,
    "start_time": "2022-04-23T17:39:25.323Z"
   },
   {
    "duration": 0,
    "start_time": "2022-04-23T17:39:25.324Z"
   },
   {
    "duration": 0,
    "start_time": "2022-04-23T17:39:25.326Z"
   },
   {
    "duration": 0,
    "start_time": "2022-04-23T17:39:25.351Z"
   },
   {
    "duration": 0,
    "start_time": "2022-04-23T17:39:25.353Z"
   },
   {
    "duration": 0,
    "start_time": "2022-04-23T17:39:25.355Z"
   },
   {
    "duration": 0,
    "start_time": "2022-04-23T17:39:25.356Z"
   },
   {
    "duration": 1,
    "start_time": "2022-04-23T17:39:25.358Z"
   },
   {
    "duration": 0,
    "start_time": "2022-04-23T17:39:25.360Z"
   },
   {
    "duration": 0,
    "start_time": "2022-04-23T17:39:25.362Z"
   },
   {
    "duration": 24,
    "start_time": "2022-04-23T17:39:37.443Z"
   },
   {
    "duration": 6,
    "start_time": "2022-04-23T17:39:45.873Z"
   },
   {
    "duration": 2009,
    "start_time": "2022-04-23T17:39:45.882Z"
   },
   {
    "duration": 107,
    "start_time": "2022-04-23T17:39:47.893Z"
   },
   {
    "duration": 15,
    "start_time": "2022-04-23T17:39:48.005Z"
   },
   {
    "duration": 15,
    "start_time": "2022-04-23T17:39:48.022Z"
   },
   {
    "duration": 24,
    "start_time": "2022-04-23T17:39:48.053Z"
   },
   {
    "duration": 5,
    "start_time": "2022-04-23T17:39:48.079Z"
   },
   {
    "duration": 10,
    "start_time": "2022-04-23T17:39:48.087Z"
   },
   {
    "duration": 14,
    "start_time": "2022-04-23T17:39:48.100Z"
   },
   {
    "duration": 380,
    "start_time": "2022-04-23T17:39:48.151Z"
   },
   {
    "duration": 24,
    "start_time": "2022-04-23T17:39:48.533Z"
   },
   {
    "duration": 1728,
    "start_time": "2022-04-23T17:39:48.559Z"
   },
   {
    "duration": 352,
    "start_time": "2022-04-23T17:39:50.289Z"
   },
   {
    "duration": 0,
    "start_time": "2022-04-23T17:39:50.652Z"
   },
   {
    "duration": 0,
    "start_time": "2022-04-23T17:39:50.654Z"
   },
   {
    "duration": 0,
    "start_time": "2022-04-23T17:39:50.656Z"
   },
   {
    "duration": 0,
    "start_time": "2022-04-23T17:39:50.658Z"
   },
   {
    "duration": 0,
    "start_time": "2022-04-23T17:39:50.660Z"
   },
   {
    "duration": 0,
    "start_time": "2022-04-23T17:39:50.662Z"
   },
   {
    "duration": 0,
    "start_time": "2022-04-23T17:39:50.664Z"
   },
   {
    "duration": 0,
    "start_time": "2022-04-23T17:39:50.665Z"
   },
   {
    "duration": 0,
    "start_time": "2022-04-23T17:39:50.667Z"
   },
   {
    "duration": 0,
    "start_time": "2022-04-23T17:39:50.669Z"
   },
   {
    "duration": 0,
    "start_time": "2022-04-23T17:39:50.671Z"
   },
   {
    "duration": 0,
    "start_time": "2022-04-23T17:39:50.672Z"
   },
   {
    "duration": 0,
    "start_time": "2022-04-23T17:39:50.674Z"
   },
   {
    "duration": 0,
    "start_time": "2022-04-23T17:39:50.675Z"
   },
   {
    "duration": 466,
    "start_time": "2022-04-23T17:40:10.985Z"
   },
   {
    "duration": 217,
    "start_time": "2022-04-23T17:48:40.097Z"
   },
   {
    "duration": 336,
    "start_time": "2022-04-23T17:49:20.563Z"
   },
   {
    "duration": 300,
    "start_time": "2022-04-23T17:50:32.408Z"
   },
   {
    "duration": 449,
    "start_time": "2022-04-23T17:58:48.284Z"
   },
   {
    "duration": 434,
    "start_time": "2022-04-23T17:59:13.803Z"
   },
   {
    "duration": 9,
    "start_time": "2022-04-23T17:59:33.471Z"
   },
   {
    "duration": 2678,
    "start_time": "2022-04-23T17:59:33.483Z"
   },
   {
    "duration": 110,
    "start_time": "2022-04-23T17:59:36.167Z"
   },
   {
    "duration": 17,
    "start_time": "2022-04-23T17:59:36.280Z"
   },
   {
    "duration": 20,
    "start_time": "2022-04-23T17:59:36.299Z"
   },
   {
    "duration": 44,
    "start_time": "2022-04-23T17:59:36.323Z"
   },
   {
    "duration": 4,
    "start_time": "2022-04-23T17:59:36.370Z"
   },
   {
    "duration": 15,
    "start_time": "2022-04-23T17:59:36.377Z"
   },
   {
    "duration": 21,
    "start_time": "2022-04-23T17:59:36.395Z"
   },
   {
    "duration": 564,
    "start_time": "2022-04-23T17:59:36.422Z"
   },
   {
    "duration": 13,
    "start_time": "2022-04-23T17:59:36.989Z"
   },
   {
    "duration": 1584,
    "start_time": "2022-04-23T17:59:37.005Z"
   },
   {
    "duration": 455,
    "start_time": "2022-04-23T17:59:38.592Z"
   },
   {
    "duration": 324,
    "start_time": "2022-04-23T17:59:39.053Z"
   },
   {
    "duration": 9,
    "start_time": "2022-04-23T17:59:39.380Z"
   },
   {
    "duration": 14,
    "start_time": "2022-04-23T17:59:39.392Z"
   },
   {
    "duration": 10,
    "start_time": "2022-04-23T17:59:39.409Z"
   },
   {
    "duration": 704,
    "start_time": "2022-04-23T17:59:39.422Z"
   },
   {
    "duration": 292,
    "start_time": "2022-04-23T17:59:40.129Z"
   },
   {
    "duration": 0,
    "start_time": "2022-04-23T17:59:40.424Z"
   },
   {
    "duration": 0,
    "start_time": "2022-04-23T17:59:40.426Z"
   },
   {
    "duration": 0,
    "start_time": "2022-04-23T17:59:40.428Z"
   },
   {
    "duration": 0,
    "start_time": "2022-04-23T17:59:40.430Z"
   },
   {
    "duration": 0,
    "start_time": "2022-04-23T17:59:40.431Z"
   },
   {
    "duration": 0,
    "start_time": "2022-04-23T17:59:40.433Z"
   },
   {
    "duration": 0,
    "start_time": "2022-04-23T17:59:40.435Z"
   },
   {
    "duration": 0,
    "start_time": "2022-04-23T17:59:40.452Z"
   },
   {
    "duration": 53,
    "start_time": "2022-04-23T18:09:09.323Z"
   },
   {
    "duration": 4598,
    "start_time": "2022-04-23T18:29:26.893Z"
   },
   {
    "duration": 19063,
    "start_time": "2022-04-23T18:47:36.456Z"
   },
   {
    "duration": 5528,
    "start_time": "2022-04-23T18:48:12.607Z"
   },
   {
    "duration": 2177,
    "start_time": "2022-04-23T18:48:18.138Z"
   },
   {
    "duration": 82,
    "start_time": "2022-04-23T18:48:20.318Z"
   },
   {
    "duration": 15,
    "start_time": "2022-04-23T18:48:20.404Z"
   },
   {
    "duration": 18,
    "start_time": "2022-04-23T18:48:20.421Z"
   },
   {
    "duration": 26,
    "start_time": "2022-04-23T18:48:20.441Z"
   },
   {
    "duration": 4,
    "start_time": "2022-04-23T18:48:20.469Z"
   },
   {
    "duration": 20,
    "start_time": "2022-04-23T18:48:20.475Z"
   },
   {
    "duration": 12,
    "start_time": "2022-04-23T18:48:20.498Z"
   },
   {
    "duration": 546,
    "start_time": "2022-04-23T18:48:20.514Z"
   },
   {
    "duration": 11,
    "start_time": "2022-04-23T18:48:21.063Z"
   },
   {
    "duration": 1148,
    "start_time": "2022-04-23T18:48:21.077Z"
   },
   {
    "duration": 326,
    "start_time": "2022-04-23T18:48:22.228Z"
   },
   {
    "duration": 244,
    "start_time": "2022-04-23T18:48:22.558Z"
   },
   {
    "duration": 5,
    "start_time": "2022-04-23T18:48:22.804Z"
   },
   {
    "duration": 8,
    "start_time": "2022-04-23T18:48:22.812Z"
   },
   {
    "duration": 29,
    "start_time": "2022-04-23T18:48:22.823Z"
   },
   {
    "duration": 605,
    "start_time": "2022-04-23T18:48:22.855Z"
   },
   {
    "duration": 1808,
    "start_time": "2022-04-23T18:48:23.462Z"
   },
   {
    "duration": 830,
    "start_time": "2022-04-23T18:48:25.353Z"
   },
   {
    "duration": 0,
    "start_time": "2022-04-23T18:48:26.185Z"
   },
   {
    "duration": 0,
    "start_time": "2022-04-23T18:48:26.187Z"
   },
   {
    "duration": 0,
    "start_time": "2022-04-23T18:48:26.189Z"
   },
   {
    "duration": 20,
    "start_time": "2022-04-23T18:49:04.694Z"
   },
   {
    "duration": 8137,
    "start_time": "2022-04-23T18:49:20.891Z"
   },
   {
    "duration": 66,
    "start_time": "2022-04-23T18:49:48.062Z"
   },
   {
    "duration": 32,
    "start_time": "2022-04-23T18:51:17.479Z"
   },
   {
    "duration": 4425,
    "start_time": "2022-04-23T18:51:27.000Z"
   },
   {
    "duration": 5370,
    "start_time": "2022-04-23T18:52:27.088Z"
   },
   {
    "duration": 2231,
    "start_time": "2022-04-23T18:52:32.461Z"
   },
   {
    "duration": 85,
    "start_time": "2022-04-23T18:52:34.695Z"
   },
   {
    "duration": 15,
    "start_time": "2022-04-23T18:52:34.785Z"
   },
   {
    "duration": 18,
    "start_time": "2022-04-23T18:52:34.803Z"
   },
   {
    "duration": 42,
    "start_time": "2022-04-23T18:52:34.823Z"
   },
   {
    "duration": 2116,
    "start_time": "2022-04-23T18:52:34.868Z"
   },
   {
    "duration": 5,
    "start_time": "2022-04-23T18:52:36.987Z"
   },
   {
    "duration": 14,
    "start_time": "2022-04-23T18:52:36.994Z"
   },
   {
    "duration": 12,
    "start_time": "2022-04-23T18:52:37.012Z"
   },
   {
    "duration": 491,
    "start_time": "2022-04-23T18:52:37.028Z"
   },
   {
    "duration": 13,
    "start_time": "2022-04-23T18:52:37.522Z"
   },
   {
    "duration": 1636,
    "start_time": "2022-04-23T18:52:37.552Z"
   },
   {
    "duration": 438,
    "start_time": "2022-04-23T18:52:39.190Z"
   },
   {
    "duration": 249,
    "start_time": "2022-04-23T18:52:39.632Z"
   },
   {
    "duration": 4,
    "start_time": "2022-04-23T18:52:39.884Z"
   },
   {
    "duration": 13,
    "start_time": "2022-04-23T18:52:39.891Z"
   },
   {
    "duration": 5,
    "start_time": "2022-04-23T18:52:39.907Z"
   },
   {
    "duration": 753,
    "start_time": "2022-04-23T18:52:39.915Z"
   },
   {
    "duration": 1386,
    "start_time": "2022-04-23T18:52:40.671Z"
   },
   {
    "duration": 956,
    "start_time": "2022-04-23T18:52:42.060Z"
   },
   {
    "duration": 0,
    "start_time": "2022-04-23T18:52:43.019Z"
   },
   {
    "duration": 0,
    "start_time": "2022-04-23T18:52:43.021Z"
   },
   {
    "duration": 0,
    "start_time": "2022-04-23T18:52:43.022Z"
   },
   {
    "duration": 2774,
    "start_time": "2022-04-23T18:55:33.169Z"
   },
   {
    "duration": 139,
    "start_time": "2022-04-23T18:55:35.947Z"
   },
   {
    "duration": 17,
    "start_time": "2022-04-23T18:55:36.091Z"
   },
   {
    "duration": 18,
    "start_time": "2022-04-23T18:55:36.111Z"
   },
   {
    "duration": 37,
    "start_time": "2022-04-23T18:55:36.131Z"
   },
   {
    "duration": 5,
    "start_time": "2022-04-23T18:55:36.173Z"
   },
   {
    "duration": 31,
    "start_time": "2022-04-23T18:55:36.181Z"
   },
   {
    "duration": 19,
    "start_time": "2022-04-23T18:55:36.215Z"
   },
   {
    "duration": 536,
    "start_time": "2022-04-23T18:55:36.236Z"
   },
   {
    "duration": 11,
    "start_time": "2022-04-23T18:55:36.777Z"
   },
   {
    "duration": 1258,
    "start_time": "2022-04-23T18:55:36.791Z"
   },
   {
    "duration": 432,
    "start_time": "2022-04-23T18:55:38.053Z"
   },
   {
    "duration": 307,
    "start_time": "2022-04-23T18:55:38.489Z"
   },
   {
    "duration": 9,
    "start_time": "2022-04-23T18:55:38.799Z"
   },
   {
    "duration": 7,
    "start_time": "2022-04-23T18:55:38.811Z"
   },
   {
    "duration": 38,
    "start_time": "2022-04-23T18:55:38.820Z"
   },
   {
    "duration": 688,
    "start_time": "2022-04-23T18:55:38.860Z"
   },
   {
    "duration": 3224,
    "start_time": "2022-04-23T18:55:39.552Z"
   },
   {
    "duration": 1103,
    "start_time": "2022-04-23T18:55:42.787Z"
   },
   {
    "duration": 0,
    "start_time": "2022-04-23T18:55:43.894Z"
   },
   {
    "duration": 0,
    "start_time": "2022-04-23T18:55:43.896Z"
   },
   {
    "duration": 0,
    "start_time": "2022-04-23T18:55:43.898Z"
   },
   {
    "duration": 2030,
    "start_time": "2022-04-23T19:00:59.999Z"
   },
   {
    "duration": 1161,
    "start_time": "2022-04-23T19:01:15.641Z"
   },
   {
    "duration": 5053,
    "start_time": "2022-04-23T19:05:37.299Z"
   },
   {
    "duration": 4424,
    "start_time": "2022-04-23T19:06:03.974Z"
   },
   {
    "duration": 2632,
    "start_time": "2022-04-23T19:06:36.491Z"
   },
   {
    "duration": 118,
    "start_time": "2022-04-23T19:06:39.126Z"
   },
   {
    "duration": 16,
    "start_time": "2022-04-23T19:06:39.247Z"
   },
   {
    "duration": 48,
    "start_time": "2022-04-23T19:06:39.269Z"
   },
   {
    "duration": 22,
    "start_time": "2022-04-23T19:06:39.320Z"
   },
   {
    "duration": 44,
    "start_time": "2022-04-23T19:06:39.345Z"
   },
   {
    "duration": 12,
    "start_time": "2022-04-23T19:06:39.393Z"
   },
   {
    "duration": 21,
    "start_time": "2022-04-23T19:06:39.408Z"
   },
   {
    "duration": 522,
    "start_time": "2022-04-23T19:06:39.432Z"
   },
   {
    "duration": 12,
    "start_time": "2022-04-23T19:06:39.959Z"
   },
   {
    "duration": 1229,
    "start_time": "2022-04-23T19:06:39.973Z"
   },
   {
    "duration": 340,
    "start_time": "2022-04-23T19:06:41.205Z"
   },
   {
    "duration": 241,
    "start_time": "2022-04-23T19:06:41.551Z"
   },
   {
    "duration": 6,
    "start_time": "2022-04-23T19:06:41.794Z"
   },
   {
    "duration": 17,
    "start_time": "2022-04-23T19:06:41.802Z"
   },
   {
    "duration": 11,
    "start_time": "2022-04-23T19:06:41.822Z"
   },
   {
    "duration": 581,
    "start_time": "2022-04-23T19:06:41.835Z"
   },
   {
    "duration": 5874,
    "start_time": "2022-04-23T19:06:42.421Z"
   },
   {
    "duration": 2087,
    "start_time": "2022-04-23T19:06:48.310Z"
   },
   {
    "duration": 214,
    "start_time": "2022-04-23T19:06:50.400Z"
   },
   {
    "duration": 880,
    "start_time": "2022-04-23T19:08:10.291Z"
   },
   {
    "duration": 1121,
    "start_time": "2022-04-23T19:08:31.726Z"
   },
   {
    "duration": 461,
    "start_time": "2022-04-23T19:09:03.406Z"
   },
   {
    "duration": 437,
    "start_time": "2022-04-23T19:09:16.530Z"
   },
   {
    "duration": 5075,
    "start_time": "2022-04-23T19:11:04.525Z"
   },
   {
    "duration": 4254,
    "start_time": "2022-04-23T19:11:16.645Z"
   },
   {
    "duration": 2415,
    "start_time": "2022-04-23T19:34:48.953Z"
   },
   {
    "duration": 109,
    "start_time": "2022-04-23T19:34:51.371Z"
   },
   {
    "duration": 19,
    "start_time": "2022-04-23T19:34:51.485Z"
   },
   {
    "duration": 17,
    "start_time": "2022-04-23T19:34:51.508Z"
   },
   {
    "duration": 42,
    "start_time": "2022-04-23T19:34:51.528Z"
   },
   {
    "duration": 28,
    "start_time": "2022-04-23T19:34:51.573Z"
   },
   {
    "duration": 11,
    "start_time": "2022-04-23T19:34:51.603Z"
   },
   {
    "duration": 17,
    "start_time": "2022-04-23T19:34:51.617Z"
   },
   {
    "duration": 404,
    "start_time": "2022-04-23T19:34:51.637Z"
   },
   {
    "duration": 14,
    "start_time": "2022-04-23T19:34:52.045Z"
   },
   {
    "duration": 1216,
    "start_time": "2022-04-23T19:34:52.061Z"
   },
   {
    "duration": 461,
    "start_time": "2022-04-23T19:34:53.279Z"
   },
   {
    "duration": 348,
    "start_time": "2022-04-23T19:34:53.743Z"
   },
   {
    "duration": 6,
    "start_time": "2022-04-23T19:34:54.094Z"
   },
   {
    "duration": 14,
    "start_time": "2022-04-23T19:34:54.107Z"
   },
   {
    "duration": 17,
    "start_time": "2022-04-23T19:34:54.124Z"
   },
   {
    "duration": 749,
    "start_time": "2022-04-23T19:34:54.145Z"
   },
   {
    "duration": 4387,
    "start_time": "2022-04-23T19:34:54.897Z"
   },
   {
    "duration": 1772,
    "start_time": "2022-04-23T19:34:59.302Z"
   },
   {
    "duration": 532,
    "start_time": "2022-04-23T19:35:01.077Z"
   },
   {
    "duration": 134,
    "start_time": "2022-04-23T19:35:01.612Z"
   },
   {
    "duration": 4188,
    "start_time": "2022-04-23T19:47:29.959Z"
   },
   {
    "duration": 241,
    "start_time": "2022-04-23T19:47:34.149Z"
   },
   {
    "duration": 44,
    "start_time": "2022-04-23T19:47:34.417Z"
   },
   {
    "duration": 162,
    "start_time": "2022-04-23T19:47:34.465Z"
   },
   {
    "duration": 148,
    "start_time": "2022-04-23T19:47:34.631Z"
   },
   {
    "duration": 157,
    "start_time": "2022-04-23T19:47:34.786Z"
   },
   {
    "duration": 100,
    "start_time": "2022-04-23T19:47:34.949Z"
   },
   {
    "duration": 100,
    "start_time": "2022-04-23T19:47:35.052Z"
   },
   {
    "duration": 199,
    "start_time": "2022-04-23T19:47:35.154Z"
   },
   {
    "duration": 700,
    "start_time": "2022-04-23T19:47:35.375Z"
   },
   {
    "duration": 16,
    "start_time": "2022-04-23T19:47:36.083Z"
   },
   {
    "duration": 1809,
    "start_time": "2022-04-23T19:47:36.108Z"
   },
   {
    "duration": 461,
    "start_time": "2022-04-23T19:47:37.925Z"
   },
   {
    "duration": 375,
    "start_time": "2022-04-23T19:47:38.395Z"
   },
   {
    "duration": 8,
    "start_time": "2022-04-23T19:47:38.778Z"
   },
   {
    "duration": 158,
    "start_time": "2022-04-23T19:47:38.798Z"
   },
   {
    "duration": 176,
    "start_time": "2022-04-23T19:47:38.965Z"
   },
   {
    "duration": 1166,
    "start_time": "2022-04-23T19:47:39.151Z"
   },
   {
    "duration": 4726,
    "start_time": "2022-04-23T19:47:40.325Z"
   },
   {
    "duration": 2044,
    "start_time": "2022-04-23T19:47:45.075Z"
   },
   {
    "duration": 471,
    "start_time": "2022-04-23T19:47:47.126Z"
   },
   {
    "duration": 219,
    "start_time": "2022-04-23T19:47:47.605Z"
   },
   {
    "duration": 10,
    "start_time": "2022-04-23T20:36:15.754Z"
   },
   {
    "duration": 10,
    "start_time": "2022-04-23T20:43:37.079Z"
   },
   {
    "duration": 9,
    "start_time": "2022-04-23T20:43:58.840Z"
   },
   {
    "duration": 6,
    "start_time": "2022-04-23T20:45:14.288Z"
   },
   {
    "duration": 6,
    "start_time": "2022-04-23T20:57:39.449Z"
   },
   {
    "duration": 21,
    "start_time": "2022-04-23T21:06:17.875Z"
   },
   {
    "duration": 5,
    "start_time": "2022-04-23T21:09:52.744Z"
   },
   {
    "duration": 20,
    "start_time": "2022-04-23T21:09:58.044Z"
   },
   {
    "duration": 328,
    "start_time": "2022-04-23T21:10:08.085Z"
   },
   {
    "duration": 2669,
    "start_time": "2022-04-23T21:10:43.337Z"
   },
   {
    "duration": 127,
    "start_time": "2022-04-23T21:10:46.009Z"
   },
   {
    "duration": 16,
    "start_time": "2022-04-23T21:10:46.139Z"
   },
   {
    "duration": 33,
    "start_time": "2022-04-23T21:10:46.159Z"
   },
   {
    "duration": 30,
    "start_time": "2022-04-23T21:10:46.196Z"
   },
   {
    "duration": 5,
    "start_time": "2022-04-23T21:10:46.230Z"
   },
   {
    "duration": 14,
    "start_time": "2022-04-23T21:10:46.239Z"
   },
   {
    "duration": 13,
    "start_time": "2022-04-23T21:10:46.257Z"
   },
   {
    "duration": 25,
    "start_time": "2022-04-23T21:10:46.275Z"
   },
   {
    "duration": 418,
    "start_time": "2022-04-23T21:10:46.306Z"
   },
   {
    "duration": 16,
    "start_time": "2022-04-23T21:10:46.726Z"
   },
   {
    "duration": 1582,
    "start_time": "2022-04-23T21:10:46.753Z"
   },
   {
    "duration": 462,
    "start_time": "2022-04-23T21:10:48.338Z"
   },
   {
    "duration": 333,
    "start_time": "2022-04-23T21:10:48.809Z"
   },
   {
    "duration": 19,
    "start_time": "2022-04-23T21:10:49.144Z"
   },
   {
    "duration": 18,
    "start_time": "2022-04-23T21:10:49.172Z"
   },
   {
    "duration": 40,
    "start_time": "2022-04-23T21:10:49.199Z"
   },
   {
    "duration": 785,
    "start_time": "2022-04-23T21:10:49.250Z"
   },
   {
    "duration": 4416,
    "start_time": "2022-04-23T21:10:50.038Z"
   },
   {
    "duration": 1687,
    "start_time": "2022-04-23T21:10:54.465Z"
   },
   {
    "duration": 462,
    "start_time": "2022-04-23T21:10:56.158Z"
   },
   {
    "duration": 6,
    "start_time": "2022-04-23T21:10:56.623Z"
   },
   {
    "duration": 27,
    "start_time": "2022-04-23T21:10:56.632Z"
   },
   {
    "duration": 24,
    "start_time": "2022-04-23T21:10:56.662Z"
   },
   {
    "duration": 15,
    "start_time": "2022-04-23T21:10:56.689Z"
   },
   {
    "duration": 11,
    "start_time": "2022-04-23T21:10:56.710Z"
   },
   {
    "duration": 320,
    "start_time": "2022-04-23T21:10:56.724Z"
   },
   {
    "duration": 0,
    "start_time": "2022-04-23T21:10:57.052Z"
   },
   {
    "duration": 0,
    "start_time": "2022-04-23T21:10:57.054Z"
   },
   {
    "duration": 6,
    "start_time": "2022-04-23T21:12:02.208Z"
   },
   {
    "duration": 7,
    "start_time": "2022-04-23T21:12:09.367Z"
   },
   {
    "duration": 8,
    "start_time": "2022-04-23T21:12:25.877Z"
   },
   {
    "duration": 20,
    "start_time": "2022-04-23T21:13:03.637Z"
   },
   {
    "duration": 9,
    "start_time": "2022-04-23T21:13:18.400Z"
   },
   {
    "duration": 18,
    "start_time": "2022-04-23T21:13:30.958Z"
   },
   {
    "duration": 11,
    "start_time": "2022-04-23T21:13:40.787Z"
   },
   {
    "duration": 13,
    "start_time": "2022-04-23T21:24:20.279Z"
   },
   {
    "duration": 17,
    "start_time": "2022-04-23T21:24:39.038Z"
   },
   {
    "duration": 15,
    "start_time": "2022-04-23T21:24:44.528Z"
   },
   {
    "duration": 7,
    "start_time": "2022-04-23T21:25:24.399Z"
   },
   {
    "duration": 6,
    "start_time": "2022-04-23T21:25:42.795Z"
   },
   {
    "duration": 2785,
    "start_time": "2022-04-23T21:27:03.106Z"
   },
   {
    "duration": 206,
    "start_time": "2022-04-23T21:27:05.895Z"
   },
   {
    "duration": 28,
    "start_time": "2022-04-23T21:27:06.109Z"
   },
   {
    "duration": 67,
    "start_time": "2022-04-23T21:27:06.146Z"
   },
   {
    "duration": 21,
    "start_time": "2022-04-23T21:27:06.218Z"
   },
   {
    "duration": 27,
    "start_time": "2022-04-23T21:27:06.242Z"
   },
   {
    "duration": 65,
    "start_time": "2022-04-23T21:27:06.271Z"
   },
   {
    "duration": 44,
    "start_time": "2022-04-23T21:27:06.339Z"
   },
   {
    "duration": 54,
    "start_time": "2022-04-23T21:27:06.386Z"
   },
   {
    "duration": 514,
    "start_time": "2022-04-23T21:27:06.448Z"
   },
   {
    "duration": 12,
    "start_time": "2022-04-23T21:27:06.969Z"
   },
   {
    "duration": 1201,
    "start_time": "2022-04-23T21:27:06.988Z"
   },
   {
    "duration": 330,
    "start_time": "2022-04-23T21:27:08.196Z"
   },
   {
    "duration": 252,
    "start_time": "2022-04-23T21:27:08.529Z"
   },
   {
    "duration": 10,
    "start_time": "2022-04-23T21:27:08.784Z"
   },
   {
    "duration": 17,
    "start_time": "2022-04-23T21:27:08.797Z"
   },
   {
    "duration": 6,
    "start_time": "2022-04-23T21:27:08.816Z"
   },
   {
    "duration": 564,
    "start_time": "2022-04-23T21:27:08.824Z"
   },
   {
    "duration": 3673,
    "start_time": "2022-04-23T21:27:09.390Z"
   },
   {
    "duration": 1577,
    "start_time": "2022-04-23T21:27:13.072Z"
   },
   {
    "duration": 453,
    "start_time": "2022-04-23T21:27:14.652Z"
   },
   {
    "duration": 8,
    "start_time": "2022-04-23T21:27:15.108Z"
   },
   {
    "duration": 38,
    "start_time": "2022-04-23T21:27:15.119Z"
   },
   {
    "duration": 38,
    "start_time": "2022-04-23T21:27:15.160Z"
   },
   {
    "duration": 19,
    "start_time": "2022-04-23T21:27:15.200Z"
   },
   {
    "duration": 27,
    "start_time": "2022-04-23T21:27:15.223Z"
   },
   {
    "duration": 61,
    "start_time": "2022-04-23T21:27:15.261Z"
   },
   {
    "duration": 51,
    "start_time": "2022-04-23T21:27:15.328Z"
   },
   {
    "duration": 21,
    "start_time": "2022-04-23T21:27:15.382Z"
   },
   {
    "duration": 12,
    "start_time": "2022-04-23T21:27:15.407Z"
   },
   {
    "duration": 8,
    "start_time": "2022-04-23T21:27:15.422Z"
   },
   {
    "duration": 54,
    "start_time": "2022-04-23T21:27:15.433Z"
   },
   {
    "duration": 18,
    "start_time": "2022-04-23T21:27:15.490Z"
   },
   {
    "duration": 314,
    "start_time": "2022-04-23T21:27:15.511Z"
   },
   {
    "duration": 0,
    "start_time": "2022-04-23T21:27:15.828Z"
   },
   {
    "duration": 10,
    "start_time": "2022-04-23T21:27:45.872Z"
   },
   {
    "duration": 7,
    "start_time": "2022-04-23T21:27:55.327Z"
   },
   {
    "duration": 7,
    "start_time": "2022-04-23T21:28:03.328Z"
   },
   {
    "duration": 6,
    "start_time": "2022-04-23T21:28:13.238Z"
   },
   {
    "duration": 7,
    "start_time": "2022-04-23T21:28:41.107Z"
   },
   {
    "duration": 3137,
    "start_time": "2022-04-23T22:13:36.874Z"
   },
   {
    "duration": 129,
    "start_time": "2022-04-23T22:13:40.023Z"
   },
   {
    "duration": 26,
    "start_time": "2022-04-23T22:13:40.162Z"
   },
   {
    "duration": 32,
    "start_time": "2022-04-23T22:13:40.199Z"
   },
   {
    "duration": 35,
    "start_time": "2022-04-23T22:13:40.240Z"
   },
   {
    "duration": 14,
    "start_time": "2022-04-23T22:13:40.284Z"
   },
   {
    "duration": 18,
    "start_time": "2022-04-23T22:13:40.307Z"
   },
   {
    "duration": 22,
    "start_time": "2022-04-23T22:13:40.335Z"
   },
   {
    "duration": 24,
    "start_time": "2022-04-23T22:13:40.366Z"
   },
   {
    "duration": 656,
    "start_time": "2022-04-23T22:13:40.403Z"
   },
   {
    "duration": 16,
    "start_time": "2022-04-23T22:13:41.069Z"
   },
   {
    "duration": 1877,
    "start_time": "2022-04-23T22:13:41.096Z"
   },
   {
    "duration": 530,
    "start_time": "2022-04-23T22:13:42.983Z"
   },
   {
    "duration": 350,
    "start_time": "2022-04-23T22:13:43.523Z"
   },
   {
    "duration": 8,
    "start_time": "2022-04-23T22:13:43.882Z"
   },
   {
    "duration": 21,
    "start_time": "2022-04-23T22:13:43.899Z"
   },
   {
    "duration": 23,
    "start_time": "2022-04-23T22:13:43.931Z"
   },
   {
    "duration": 833,
    "start_time": "2022-04-23T22:13:43.964Z"
   },
   {
    "duration": 7315,
    "start_time": "2022-04-23T22:13:44.807Z"
   },
   {
    "duration": 1681,
    "start_time": "2022-04-23T22:13:52.159Z"
   },
   {
    "duration": 516,
    "start_time": "2022-04-23T22:13:53.849Z"
   },
   {
    "duration": 9,
    "start_time": "2022-04-23T22:13:54.374Z"
   },
   {
    "duration": 16,
    "start_time": "2022-04-23T22:13:54.393Z"
   },
   {
    "duration": 20,
    "start_time": "2022-04-23T22:13:54.419Z"
   },
   {
    "duration": 23,
    "start_time": "2022-04-23T22:13:54.448Z"
   },
   {
    "duration": 17,
    "start_time": "2022-04-23T22:13:54.480Z"
   },
   {
    "duration": 17,
    "start_time": "2022-04-23T22:13:54.507Z"
   },
   {
    "duration": 17,
    "start_time": "2022-04-23T22:13:54.536Z"
   },
   {
    "duration": 13,
    "start_time": "2022-04-23T22:13:54.562Z"
   },
   {
    "duration": 111,
    "start_time": "2022-04-23T22:13:54.584Z"
   },
   {
    "duration": 316,
    "start_time": "2022-04-23T22:15:58.685Z"
   },
   {
    "duration": 34,
    "start_time": "2022-04-23T22:16:14.526Z"
   },
   {
    "duration": 21,
    "start_time": "2022-04-23T22:17:31.696Z"
   },
   {
    "duration": 6,
    "start_time": "2022-04-23T22:17:59.425Z"
   },
   {
    "duration": 31,
    "start_time": "2022-04-23T22:18:07.885Z"
   },
   {
    "duration": 34,
    "start_time": "2022-04-23T22:19:23.165Z"
   },
   {
    "duration": 31,
    "start_time": "2022-04-23T22:19:54.844Z"
   },
   {
    "duration": 90,
    "start_time": "2022-04-23T22:20:07.705Z"
   },
   {
    "duration": 20,
    "start_time": "2022-04-23T22:20:56.445Z"
   },
   {
    "duration": 2732,
    "start_time": "2022-04-23T22:22:23.674Z"
   },
   {
    "duration": 110,
    "start_time": "2022-04-23T22:22:26.409Z"
   },
   {
    "duration": 26,
    "start_time": "2022-04-23T22:22:26.526Z"
   },
   {
    "duration": 21,
    "start_time": "2022-04-23T22:22:26.555Z"
   },
   {
    "duration": 32,
    "start_time": "2022-04-23T22:22:26.581Z"
   },
   {
    "duration": 3,
    "start_time": "2022-04-23T22:22:26.617Z"
   },
   {
    "duration": 31,
    "start_time": "2022-04-23T22:22:26.627Z"
   },
   {
    "duration": 20,
    "start_time": "2022-04-23T22:22:26.663Z"
   },
   {
    "duration": 26,
    "start_time": "2022-04-23T22:22:26.687Z"
   },
   {
    "duration": 577,
    "start_time": "2022-04-23T22:22:26.716Z"
   },
   {
    "duration": 12,
    "start_time": "2022-04-23T22:22:27.297Z"
   },
   {
    "duration": 1611,
    "start_time": "2022-04-23T22:22:27.313Z"
   },
   {
    "duration": 446,
    "start_time": "2022-04-23T22:22:28.927Z"
   },
   {
    "duration": 308,
    "start_time": "2022-04-23T22:22:29.382Z"
   },
   {
    "duration": 9,
    "start_time": "2022-04-23T22:22:29.693Z"
   },
   {
    "duration": 23,
    "start_time": "2022-04-23T22:22:29.705Z"
   },
   {
    "duration": 14,
    "start_time": "2022-04-23T22:22:29.731Z"
   },
   {
    "duration": 743,
    "start_time": "2022-04-23T22:22:29.751Z"
   },
   {
    "duration": 1269,
    "start_time": "2022-04-23T22:22:30.497Z"
   },
   {
    "duration": 1744,
    "start_time": "2022-04-23T22:22:31.776Z"
   },
   {
    "duration": 486,
    "start_time": "2022-04-23T22:22:33.523Z"
   },
   {
    "duration": 7,
    "start_time": "2022-04-23T22:22:34.012Z"
   },
   {
    "duration": 52,
    "start_time": "2022-04-23T22:22:34.022Z"
   },
   {
    "duration": 13,
    "start_time": "2022-04-23T22:22:34.077Z"
   },
   {
    "duration": 33,
    "start_time": "2022-04-23T22:22:34.093Z"
   },
   {
    "duration": 33,
    "start_time": "2022-04-23T22:22:34.129Z"
   },
   {
    "duration": 29,
    "start_time": "2022-04-23T22:22:34.165Z"
   },
   {
    "duration": 16,
    "start_time": "2022-04-23T22:22:34.197Z"
   },
   {
    "duration": 16,
    "start_time": "2022-04-23T22:22:34.216Z"
   },
   {
    "duration": 111,
    "start_time": "2022-04-23T22:22:34.235Z"
   },
   {
    "duration": 4,
    "start_time": "2022-04-23T22:24:11.018Z"
   },
   {
    "duration": 5,
    "start_time": "2022-04-23T22:24:13.562Z"
   },
   {
    "duration": 627,
    "start_time": "2022-04-23T22:25:53.971Z"
   },
   {
    "duration": 11,
    "start_time": "2022-04-23T22:26:57.540Z"
   },
   {
    "duration": 15,
    "start_time": "2022-04-23T22:27:53.392Z"
   },
   {
    "duration": 7,
    "start_time": "2022-04-23T22:28:01.042Z"
   },
   {
    "duration": 11,
    "start_time": "2022-04-23T22:29:49.609Z"
   },
   {
    "duration": 12,
    "start_time": "2022-04-23T22:30:11.570Z"
   },
   {
    "duration": 11,
    "start_time": "2022-04-23T22:33:09.000Z"
   },
   {
    "duration": 2186,
    "start_time": "2022-04-23T22:33:31.139Z"
   },
   {
    "duration": 89,
    "start_time": "2022-04-23T22:33:33.328Z"
   },
   {
    "duration": 17,
    "start_time": "2022-04-23T22:33:33.419Z"
   },
   {
    "duration": 28,
    "start_time": "2022-04-23T22:33:33.439Z"
   },
   {
    "duration": 20,
    "start_time": "2022-04-23T22:33:33.472Z"
   },
   {
    "duration": 19,
    "start_time": "2022-04-23T22:33:33.495Z"
   },
   {
    "duration": 26,
    "start_time": "2022-04-23T22:33:33.516Z"
   },
   {
    "duration": 38,
    "start_time": "2022-04-23T22:33:33.546Z"
   },
   {
    "duration": 37,
    "start_time": "2022-04-23T22:33:33.587Z"
   },
   {
    "duration": 390,
    "start_time": "2022-04-23T22:33:33.633Z"
   },
   {
    "duration": 27,
    "start_time": "2022-04-23T22:33:34.027Z"
   },
   {
    "duration": 1206,
    "start_time": "2022-04-23T22:33:34.057Z"
   },
   {
    "duration": 331,
    "start_time": "2022-04-23T22:33:35.266Z"
   },
   {
    "duration": 358,
    "start_time": "2022-04-23T22:33:35.604Z"
   },
   {
    "duration": 5,
    "start_time": "2022-04-23T22:33:35.965Z"
   },
   {
    "duration": 17,
    "start_time": "2022-04-23T22:33:35.973Z"
   },
   {
    "duration": 20,
    "start_time": "2022-04-23T22:33:35.993Z"
   },
   {
    "duration": 501,
    "start_time": "2022-04-23T22:33:36.016Z"
   },
   {
    "duration": 2937,
    "start_time": "2022-04-23T22:33:36.520Z"
   },
   {
    "duration": 1223,
    "start_time": "2022-04-23T22:33:39.466Z"
   },
   {
    "duration": 355,
    "start_time": "2022-04-23T22:33:40.692Z"
   },
   {
    "duration": 8,
    "start_time": "2022-04-23T22:33:41.050Z"
   },
   {
    "duration": 36,
    "start_time": "2022-04-23T22:33:41.061Z"
   },
   {
    "duration": 11,
    "start_time": "2022-04-23T22:33:41.100Z"
   },
   {
    "duration": 37,
    "start_time": "2022-04-23T22:33:41.114Z"
   },
   {
    "duration": 16,
    "start_time": "2022-04-23T22:33:41.155Z"
   },
   {
    "duration": 28,
    "start_time": "2022-04-23T22:33:41.174Z"
   },
   {
    "duration": 11,
    "start_time": "2022-04-23T22:33:41.205Z"
   },
   {
    "duration": 13,
    "start_time": "2022-04-23T22:33:41.219Z"
   },
   {
    "duration": 8,
    "start_time": "2022-04-23T22:33:41.236Z"
   },
   {
    "duration": 17,
    "start_time": "2022-04-23T22:33:41.248Z"
   },
   {
    "duration": 16,
    "start_time": "2022-04-23T22:33:41.268Z"
   },
   {
    "duration": 379,
    "start_time": "2022-04-23T22:33:41.287Z"
   },
   {
    "duration": 2796,
    "start_time": "2022-04-23T22:35:14.835Z"
   },
   {
    "duration": 109,
    "start_time": "2022-04-23T22:35:17.638Z"
   },
   {
    "duration": 16,
    "start_time": "2022-04-23T22:35:17.750Z"
   },
   {
    "duration": 44,
    "start_time": "2022-04-23T22:35:17.770Z"
   },
   {
    "duration": 26,
    "start_time": "2022-04-23T22:35:17.816Z"
   },
   {
    "duration": 14,
    "start_time": "2022-04-23T22:35:17.845Z"
   },
   {
    "duration": 22,
    "start_time": "2022-04-23T22:35:17.862Z"
   },
   {
    "duration": 27,
    "start_time": "2022-04-23T22:35:17.886Z"
   },
   {
    "duration": 50,
    "start_time": "2022-04-23T22:35:17.915Z"
   },
   {
    "duration": 526,
    "start_time": "2022-04-23T22:35:17.975Z"
   },
   {
    "duration": 13,
    "start_time": "2022-04-23T22:35:18.504Z"
   },
   {
    "duration": 1544,
    "start_time": "2022-04-23T22:35:18.521Z"
   },
   {
    "duration": 438,
    "start_time": "2022-04-23T22:35:20.070Z"
   },
   {
    "duration": 308,
    "start_time": "2022-04-23T22:35:20.511Z"
   },
   {
    "duration": 5,
    "start_time": "2022-04-23T22:35:20.822Z"
   },
   {
    "duration": 37,
    "start_time": "2022-04-23T22:35:20.830Z"
   },
   {
    "duration": 45,
    "start_time": "2022-04-23T22:35:20.874Z"
   },
   {
    "duration": 717,
    "start_time": "2022-04-23T22:35:20.926Z"
   },
   {
    "duration": 4537,
    "start_time": "2022-04-23T22:35:21.652Z"
   },
   {
    "duration": 1626,
    "start_time": "2022-04-23T22:35:26.255Z"
   },
   {
    "duration": 494,
    "start_time": "2022-04-23T22:35:27.884Z"
   },
   {
    "duration": 9,
    "start_time": "2022-04-23T22:35:28.381Z"
   },
   {
    "duration": 40,
    "start_time": "2022-04-23T22:35:28.393Z"
   },
   {
    "duration": 11,
    "start_time": "2022-04-23T22:35:28.452Z"
   },
   {
    "duration": 306,
    "start_time": "2022-04-23T22:35:28.467Z"
   },
   {
    "duration": 0,
    "start_time": "2022-04-23T22:35:28.777Z"
   },
   {
    "duration": 0,
    "start_time": "2022-04-23T22:35:28.780Z"
   },
   {
    "duration": 0,
    "start_time": "2022-04-23T22:35:28.784Z"
   },
   {
    "duration": 0,
    "start_time": "2022-04-23T22:35:28.786Z"
   },
   {
    "duration": 1,
    "start_time": "2022-04-23T22:35:28.787Z"
   },
   {
    "duration": 0,
    "start_time": "2022-04-23T22:35:28.789Z"
   },
   {
    "duration": 0,
    "start_time": "2022-04-23T22:35:28.791Z"
   },
   {
    "duration": 0,
    "start_time": "2022-04-23T22:35:28.793Z"
   },
   {
    "duration": 10,
    "start_time": "2022-04-23T22:35:39.724Z"
   },
   {
    "duration": 10,
    "start_time": "2022-04-23T22:35:41.764Z"
   },
   {
    "duration": 5,
    "start_time": "2022-04-23T22:35:46.584Z"
   },
   {
    "duration": 6,
    "start_time": "2022-04-23T22:35:47.163Z"
   },
   {
    "duration": 6,
    "start_time": "2022-04-23T22:35:47.724Z"
   },
   {
    "duration": 4,
    "start_time": "2022-04-23T22:35:49.624Z"
   },
   {
    "duration": 6,
    "start_time": "2022-04-23T22:35:51.994Z"
   },
   {
    "duration": 4,
    "start_time": "2022-04-23T22:35:52.971Z"
   },
   {
    "duration": 501,
    "start_time": "2022-04-23T22:35:53.892Z"
   },
   {
    "duration": 4,
    "start_time": "2022-04-23T22:37:28.444Z"
   },
   {
    "duration": 4,
    "start_time": "2022-04-23T22:37:38.044Z"
   },
   {
    "duration": 1472,
    "start_time": "2022-04-23T22:38:09.884Z"
   },
   {
    "duration": 5,
    "start_time": "2022-04-23T22:38:53.825Z"
   },
   {
    "duration": 4,
    "start_time": "2022-04-23T22:39:03.284Z"
   },
   {
    "duration": 821,
    "start_time": "2022-04-23T22:39:30.845Z"
   },
   {
    "duration": 3,
    "start_time": "2022-04-23T22:40:52.595Z"
   },
   {
    "duration": 4,
    "start_time": "2022-04-23T22:41:02.793Z"
   },
   {
    "duration": 9755,
    "start_time": "2022-04-23T22:41:14.072Z"
   },
   {
    "duration": 19,
    "start_time": "2022-04-23T22:41:46.055Z"
   },
   {
    "duration": 4,
    "start_time": "2022-04-23T22:46:22.265Z"
   },
   {
    "duration": 5,
    "start_time": "2022-04-23T22:46:29.654Z"
   },
   {
    "duration": 455895,
    "start_time": "2022-04-23T22:46:40.256Z"
   },
   {
    "duration": 13,
    "start_time": "2022-04-23T22:55:25.334Z"
   },
   {
    "duration": 14,
    "start_time": "2022-04-23T22:55:59.626Z"
   },
   {
    "duration": 13,
    "start_time": "2022-04-23T22:56:06.805Z"
   },
   {
    "duration": 14,
    "start_time": "2022-04-23T23:04:30.685Z"
   },
   {
    "duration": 15,
    "start_time": "2022-04-23T23:04:33.727Z"
   },
   {
    "duration": 16,
    "start_time": "2022-04-23T23:04:36.367Z"
   },
   {
    "duration": 18,
    "start_time": "2022-04-23T23:04:59.545Z"
   },
   {
    "duration": 86,
    "start_time": "2022-04-23T23:05:38.366Z"
   },
   {
    "duration": 10,
    "start_time": "2022-04-23T23:10:05.256Z"
   },
   {
    "duration": 12,
    "start_time": "2022-04-23T23:10:42.605Z"
   },
   {
    "duration": 2674,
    "start_time": "2022-04-23T23:17:45.663Z"
   },
   {
    "duration": 112,
    "start_time": "2022-04-23T23:17:48.341Z"
   },
   {
    "duration": 20,
    "start_time": "2022-04-23T23:17:48.457Z"
   },
   {
    "duration": 24,
    "start_time": "2022-04-23T23:17:48.480Z"
   },
   {
    "duration": 45,
    "start_time": "2022-04-23T23:17:48.508Z"
   },
   {
    "duration": 4,
    "start_time": "2022-04-23T23:17:48.556Z"
   },
   {
    "duration": 18,
    "start_time": "2022-04-23T23:17:48.563Z"
   },
   {
    "duration": 16,
    "start_time": "2022-04-23T23:17:48.584Z"
   },
   {
    "duration": 25,
    "start_time": "2022-04-23T23:17:48.603Z"
   },
   {
    "duration": 572,
    "start_time": "2022-04-23T23:17:48.631Z"
   },
   {
    "duration": 14,
    "start_time": "2022-04-23T23:17:49.207Z"
   },
   {
    "duration": 1580,
    "start_time": "2022-04-23T23:17:49.225Z"
   },
   {
    "duration": 465,
    "start_time": "2022-04-23T23:17:50.808Z"
   },
   {
    "duration": 320,
    "start_time": "2022-04-23T23:17:51.279Z"
   },
   {
    "duration": 5,
    "start_time": "2022-04-23T23:17:51.602Z"
   },
   {
    "duration": 13,
    "start_time": "2022-04-23T23:17:51.610Z"
   },
   {
    "duration": 26,
    "start_time": "2022-04-23T23:17:51.629Z"
   },
   {
    "duration": 710,
    "start_time": "2022-04-23T23:17:51.658Z"
   },
   {
    "duration": 4303,
    "start_time": "2022-04-23T23:17:52.371Z"
   },
   {
    "duration": 1790,
    "start_time": "2022-04-23T23:17:56.680Z"
   },
   {
    "duration": 471,
    "start_time": "2022-04-23T23:17:58.474Z"
   },
   {
    "duration": 6,
    "start_time": "2022-04-23T23:17:58.953Z"
   },
   {
    "duration": 43,
    "start_time": "2022-04-23T23:17:58.962Z"
   },
   {
    "duration": 4,
    "start_time": "2022-04-23T23:17:59.008Z"
   },
   {
    "duration": 306,
    "start_time": "2022-04-23T23:17:59.017Z"
   },
   {
    "duration": 0,
    "start_time": "2022-04-23T23:17:59.327Z"
   },
   {
    "duration": 0,
    "start_time": "2022-04-23T23:17:59.329Z"
   },
   {
    "duration": 0,
    "start_time": "2022-04-23T23:17:59.331Z"
   },
   {
    "duration": 0,
    "start_time": "2022-04-23T23:17:59.333Z"
   },
   {
    "duration": 0,
    "start_time": "2022-04-23T23:17:59.335Z"
   },
   {
    "duration": 0,
    "start_time": "2022-04-23T23:17:59.337Z"
   },
   {
    "duration": 0,
    "start_time": "2022-04-23T23:17:59.352Z"
   },
   {
    "duration": 0,
    "start_time": "2022-04-23T23:17:59.355Z"
   },
   {
    "duration": 0,
    "start_time": "2022-04-23T23:17:59.356Z"
   },
   {
    "duration": 0,
    "start_time": "2022-04-23T23:17:59.359Z"
   },
   {
    "duration": 0,
    "start_time": "2022-04-23T23:17:59.361Z"
   },
   {
    "duration": 0,
    "start_time": "2022-04-23T23:17:59.363Z"
   },
   {
    "duration": 0,
    "start_time": "2022-04-23T23:17:59.365Z"
   },
   {
    "duration": 0,
    "start_time": "2022-04-23T23:17:59.367Z"
   },
   {
    "duration": 0,
    "start_time": "2022-04-23T23:17:59.369Z"
   },
   {
    "duration": 0,
    "start_time": "2022-04-23T23:17:59.371Z"
   },
   {
    "duration": 0,
    "start_time": "2022-04-23T23:17:59.373Z"
   },
   {
    "duration": 0,
    "start_time": "2022-04-23T23:17:59.376Z"
   },
   {
    "duration": 0,
    "start_time": "2022-04-23T23:17:59.378Z"
   },
   {
    "duration": 0,
    "start_time": "2022-04-23T23:17:59.380Z"
   },
   {
    "duration": 0,
    "start_time": "2022-04-23T23:17:59.382Z"
   },
   {
    "duration": 0,
    "start_time": "2022-04-23T23:17:59.384Z"
   },
   {
    "duration": 0,
    "start_time": "2022-04-23T23:17:59.386Z"
   },
   {
    "duration": 0,
    "start_time": "2022-04-23T23:17:59.388Z"
   },
   {
    "duration": 0,
    "start_time": "2022-04-23T23:17:59.390Z"
   },
   {
    "duration": 0,
    "start_time": "2022-04-23T23:17:59.392Z"
   },
   {
    "duration": 0,
    "start_time": "2022-04-23T23:17:59.395Z"
   },
   {
    "duration": 0,
    "start_time": "2022-04-23T23:17:59.398Z"
   },
   {
    "duration": 0,
    "start_time": "2022-04-23T23:17:59.400Z"
   },
   {
    "duration": 0,
    "start_time": "2022-04-23T23:17:59.402Z"
   },
   {
    "duration": 0,
    "start_time": "2022-04-23T23:17:59.452Z"
   },
   {
    "duration": 10,
    "start_time": "2022-04-23T23:18:40.160Z"
   },
   {
    "duration": 10,
    "start_time": "2022-04-23T23:18:46.383Z"
   },
   {
    "duration": 9,
    "start_time": "2022-04-23T23:19:17.562Z"
   },
   {
    "duration": 8,
    "start_time": "2022-04-23T23:19:29.773Z"
   },
   {
    "duration": 6,
    "start_time": "2022-04-23T23:19:32.562Z"
   },
   {
    "duration": 10,
    "start_time": "2022-04-23T23:19:34.620Z"
   },
   {
    "duration": 4,
    "start_time": "2022-04-23T23:19:37.083Z"
   },
   {
    "duration": 4,
    "start_time": "2022-04-23T23:19:39.710Z"
   },
   {
    "duration": 4,
    "start_time": "2022-04-23T23:19:41.552Z"
   },
   {
    "duration": 528,
    "start_time": "2022-04-23T23:19:45.636Z"
   },
   {
    "duration": 13,
    "start_time": "2022-04-23T23:19:50.123Z"
   },
   {
    "duration": 8,
    "start_time": "2022-04-23T23:19:54.733Z"
   },
   {
    "duration": 5,
    "start_time": "2022-04-23T23:19:56.603Z"
   },
   {
    "duration": 1377,
    "start_time": "2022-04-23T23:20:03.213Z"
   },
   {
    "duration": 12,
    "start_time": "2022-04-23T23:20:09.002Z"
   },
   {
    "duration": 5,
    "start_time": "2022-04-23T23:20:15.252Z"
   },
   {
    "duration": 8,
    "start_time": "2022-04-23T23:20:17.171Z"
   },
   {
    "duration": 786,
    "start_time": "2022-04-23T23:20:19.883Z"
   },
   {
    "duration": 15,
    "start_time": "2022-04-23T23:20:25.203Z"
   },
   {
    "duration": 6,
    "start_time": "2022-04-23T23:21:35.953Z"
   },
   {
    "duration": 5,
    "start_time": "2022-04-23T23:22:22.042Z"
   },
   {
    "duration": 4,
    "start_time": "2022-04-23T23:22:31.802Z"
   },
   {
    "duration": 9506,
    "start_time": "2022-04-23T23:22:34.522Z"
   },
   {
    "duration": 34,
    "start_time": "2022-04-23T23:22:50.042Z"
   },
   {
    "duration": 10,
    "start_time": "2022-04-23T23:24:06.071Z"
   },
   {
    "duration": 3,
    "start_time": "2022-04-23T23:24:09.212Z"
   },
   {
    "duration": 309044,
    "start_time": "2022-04-23T23:24:11.645Z"
   },
   {
    "duration": 7,
    "start_time": "2022-04-23T23:30:49.652Z"
   },
   {
    "duration": 9088,
    "start_time": "2022-04-23T23:32:40.292Z"
   },
   {
    "duration": 15,
    "start_time": "2022-04-23T23:33:02.003Z"
   },
   {
    "duration": 283647,
    "start_time": "2022-04-23T23:34:26.342Z"
   },
   {
    "duration": 80,
    "start_time": "2022-04-23T23:40:14.524Z"
   },
   {
    "duration": 814,
    "start_time": "2022-04-23T23:40:28.764Z"
   },
   {
    "duration": 17,
    "start_time": "2022-04-23T23:40:38.604Z"
   },
   {
    "duration": 2010,
    "start_time": "2022-04-23T23:40:52.715Z"
   },
   {
    "duration": 18,
    "start_time": "2022-04-23T23:41:00.304Z"
   },
   {
    "duration": 2958,
    "start_time": "2022-04-23T23:41:08.924Z"
   },
   {
    "duration": 17,
    "start_time": "2022-04-23T23:41:19.243Z"
   },
   {
    "duration": 9,
    "start_time": "2022-04-23T23:42:04.095Z"
   },
   {
    "duration": 8,
    "start_time": "2022-04-23T23:42:13.534Z"
   },
   {
    "duration": 8,
    "start_time": "2022-04-23T23:42:34.894Z"
   },
   {
    "duration": 9,
    "start_time": "2022-04-23T23:42:44.734Z"
   },
   {
    "duration": 8,
    "start_time": "2022-04-23T23:43:40.625Z"
   },
   {
    "duration": 14,
    "start_time": "2022-04-23T23:43:45.483Z"
   },
   {
    "duration": 7,
    "start_time": "2022-04-23T23:43:47.449Z"
   },
   {
    "duration": 8,
    "start_time": "2022-04-23T23:43:49.506Z"
   },
   {
    "duration": 2838,
    "start_time": "2022-04-23T23:53:53.461Z"
   },
   {
    "duration": 120,
    "start_time": "2022-04-23T23:53:56.302Z"
   },
   {
    "duration": 18,
    "start_time": "2022-04-23T23:53:56.425Z"
   },
   {
    "duration": 32,
    "start_time": "2022-04-23T23:53:56.446Z"
   },
   {
    "duration": 25,
    "start_time": "2022-04-23T23:53:56.482Z"
   },
   {
    "duration": 4,
    "start_time": "2022-04-23T23:53:56.511Z"
   },
   {
    "duration": 35,
    "start_time": "2022-04-23T23:53:56.518Z"
   },
   {
    "duration": 14,
    "start_time": "2022-04-23T23:53:56.556Z"
   },
   {
    "duration": 24,
    "start_time": "2022-04-23T23:53:56.574Z"
   },
   {
    "duration": 696,
    "start_time": "2022-04-23T23:53:56.603Z"
   },
   {
    "duration": 12,
    "start_time": "2022-04-23T23:53:57.303Z"
   },
   {
    "duration": 1595,
    "start_time": "2022-04-23T23:53:57.318Z"
   },
   {
    "duration": 476,
    "start_time": "2022-04-23T23:53:58.916Z"
   },
   {
    "duration": 350,
    "start_time": "2022-04-23T23:53:59.395Z"
   },
   {
    "duration": 5,
    "start_time": "2022-04-23T23:53:59.751Z"
   },
   {
    "duration": 18,
    "start_time": "2022-04-23T23:53:59.760Z"
   },
   {
    "duration": 14,
    "start_time": "2022-04-23T23:53:59.782Z"
   },
   {
    "duration": 893,
    "start_time": "2022-04-23T23:53:59.799Z"
   },
   {
    "duration": 4661,
    "start_time": "2022-04-23T23:54:00.694Z"
   },
   {
    "duration": 1826,
    "start_time": "2022-04-23T23:54:05.361Z"
   },
   {
    "duration": 490,
    "start_time": "2022-04-23T23:54:07.190Z"
   },
   {
    "duration": 5,
    "start_time": "2022-04-23T23:54:07.684Z"
   },
   {
    "duration": 60,
    "start_time": "2022-04-23T23:54:07.692Z"
   },
   {
    "duration": 19,
    "start_time": "2022-04-23T23:54:07.759Z"
   },
   {
    "duration": 13,
    "start_time": "2022-04-23T23:54:07.781Z"
   },
   {
    "duration": 36,
    "start_time": "2022-04-23T23:54:07.797Z"
   },
   {
    "duration": 18,
    "start_time": "2022-04-23T23:54:07.837Z"
   },
   {
    "duration": 9,
    "start_time": "2022-04-23T23:54:07.865Z"
   },
   {
    "duration": 14,
    "start_time": "2022-04-23T23:54:07.877Z"
   },
   {
    "duration": 7,
    "start_time": "2022-04-23T23:54:07.895Z"
   },
   {
    "duration": 12,
    "start_time": "2022-04-23T23:54:07.905Z"
   },
   {
    "duration": 5,
    "start_time": "2022-04-23T23:54:07.952Z"
   },
   {
    "duration": 11,
    "start_time": "2022-04-23T23:54:07.960Z"
   },
   {
    "duration": 759,
    "start_time": "2022-04-23T23:54:07.975Z"
   },
   {
    "duration": 20,
    "start_time": "2022-04-23T23:54:08.737Z"
   },
   {
    "duration": 14,
    "start_time": "2022-04-23T23:54:08.760Z"
   },
   {
    "duration": 12,
    "start_time": "2022-04-23T23:54:08.777Z"
   },
   {
    "duration": 1676,
    "start_time": "2022-04-23T23:54:08.793Z"
   },
   {
    "duration": 16,
    "start_time": "2022-04-23T23:54:10.473Z"
   },
   {
    "duration": 16,
    "start_time": "2022-04-23T23:54:10.495Z"
   },
   {
    "duration": 14,
    "start_time": "2022-04-23T23:54:10.514Z"
   },
   {
    "duration": 530,
    "start_time": "2022-04-23T23:54:10.531Z"
   },
   {
    "duration": 78,
    "start_time": "2022-04-23T23:54:11.074Z"
   },
   {
    "duration": 6,
    "start_time": "2022-04-23T23:54:11.159Z"
   },
   {
    "duration": 13,
    "start_time": "2022-04-23T23:54:11.168Z"
   },
   {
    "duration": 10335,
    "start_time": "2022-04-23T23:54:11.187Z"
   },
   {
    "duration": 28,
    "start_time": "2022-04-23T23:54:21.526Z"
   },
   {
    "duration": 4,
    "start_time": "2022-04-23T23:54:21.557Z"
   },
   {
    "duration": 24,
    "start_time": "2022-04-23T23:54:21.564Z"
   },
   {
    "duration": 385396,
    "start_time": "2022-04-23T23:54:21.591Z"
   },
   {
    "duration": 814,
    "start_time": "2022-04-24T00:00:46.991Z"
   },
   {
    "duration": 15,
    "start_time": "2022-04-24T00:00:47.808Z"
   },
   {
    "duration": 1678,
    "start_time": "2022-04-24T00:00:47.826Z"
   },
   {
    "duration": 17,
    "start_time": "2022-04-24T00:00:49.507Z"
   },
   {
    "duration": 3151,
    "start_time": "2022-04-24T00:00:49.527Z"
   },
   {
    "duration": 61,
    "start_time": "2022-04-24T00:00:52.692Z"
   },
   {
    "duration": 11949,
    "start_time": "2022-04-24T00:00:52.757Z"
   },
   {
    "duration": 16,
    "start_time": "2022-04-24T00:01:04.709Z"
   },
   {
    "duration": 382858,
    "start_time": "2022-04-24T00:01:04.727Z"
   },
   {
    "duration": 96,
    "start_time": "2022-04-24T00:07:27.589Z"
   },
   {
    "duration": 80,
    "start_time": "2022-04-24T00:07:27.694Z"
   },
   {
    "duration": 299,
    "start_time": "2022-04-24T00:10:46.182Z"
   },
   {
    "duration": 17,
    "start_time": "2022-04-24T00:11:39.927Z"
   },
   {
    "duration": 2444,
    "start_time": "2022-04-24T16:35:50.165Z"
   },
   {
    "duration": 98,
    "start_time": "2022-04-24T16:35:52.612Z"
   },
   {
    "duration": 16,
    "start_time": "2022-04-24T16:35:53.407Z"
   },
   {
    "duration": 18,
    "start_time": "2022-04-24T16:35:54.701Z"
   },
   {
    "duration": 18,
    "start_time": "2022-04-24T16:35:58.004Z"
   },
   {
    "duration": 3,
    "start_time": "2022-04-24T16:35:59.398Z"
   },
   {
    "duration": 5,
    "start_time": "2022-04-24T16:35:59.621Z"
   },
   {
    "duration": 6,
    "start_time": "2022-04-24T16:36:00.710Z"
   },
   {
    "duration": 13,
    "start_time": "2022-04-24T16:38:12.956Z"
   },
   {
    "duration": 379,
    "start_time": "2022-04-24T16:38:13.201Z"
   },
   {
    "duration": 10,
    "start_time": "2022-04-24T16:38:15.816Z"
   },
   {
    "duration": 1153,
    "start_time": "2022-04-24T16:38:16.037Z"
   },
   {
    "duration": 302,
    "start_time": "2022-04-24T16:38:17.193Z"
   },
   {
    "duration": 211,
    "start_time": "2022-04-24T16:38:17.628Z"
   },
   {
    "duration": 4,
    "start_time": "2022-04-24T16:38:19.154Z"
   },
   {
    "duration": 7,
    "start_time": "2022-04-24T16:38:20.543Z"
   },
   {
    "duration": 6,
    "start_time": "2022-04-24T16:38:21.236Z"
   },
   {
    "duration": 514,
    "start_time": "2022-04-24T16:38:21.633Z"
   },
   {
    "duration": 4115,
    "start_time": "2022-04-24T16:38:31.965Z"
   },
   {
    "duration": 934,
    "start_time": "2022-04-24T16:38:36.088Z"
   },
   {
    "duration": 260,
    "start_time": "2022-04-24T16:38:37.025Z"
   },
   {
    "duration": 5,
    "start_time": "2022-04-24T16:38:42.324Z"
   },
   {
    "duration": 28,
    "start_time": "2022-04-24T16:38:43.955Z"
   },
   {
    "duration": 1772,
    "start_time": "2022-04-25T09:40:07.777Z"
   },
   {
    "duration": 266,
    "start_time": "2022-04-25T09:40:09.551Z"
   },
   {
    "duration": 10,
    "start_time": "2022-04-25T09:40:09.819Z"
   },
   {
    "duration": 10,
    "start_time": "2022-04-25T09:40:09.830Z"
   },
   {
    "duration": 11,
    "start_time": "2022-04-25T09:40:09.843Z"
   },
   {
    "duration": 3,
    "start_time": "2022-04-25T09:40:09.856Z"
   },
   {
    "duration": 7,
    "start_time": "2022-04-25T09:40:09.860Z"
   },
   {
    "duration": 4,
    "start_time": "2022-04-25T09:40:09.901Z"
   },
   {
    "duration": 9,
    "start_time": "2022-04-25T09:40:09.907Z"
   },
   {
    "duration": 218,
    "start_time": "2022-04-25T09:40:09.917Z"
   },
   {
    "duration": 7,
    "start_time": "2022-04-25T09:40:10.137Z"
   },
   {
    "duration": 726,
    "start_time": "2022-04-25T09:40:10.145Z"
   },
   {
    "duration": 166,
    "start_time": "2022-04-25T09:40:10.873Z"
   },
   {
    "duration": 127,
    "start_time": "2022-04-25T09:40:11.043Z"
   },
   {
    "duration": 4,
    "start_time": "2022-04-25T09:40:11.172Z"
   },
   {
    "duration": 6,
    "start_time": "2022-04-25T09:40:11.177Z"
   },
   {
    "duration": 16,
    "start_time": "2022-04-25T09:40:11.185Z"
   },
   {
    "duration": 274,
    "start_time": "2022-04-25T09:40:11.203Z"
   },
   {
    "duration": 1830,
    "start_time": "2022-04-25T09:40:11.479Z"
   },
   {
    "duration": 772,
    "start_time": "2022-04-25T09:40:13.401Z"
   },
   {
    "duration": 206,
    "start_time": "2022-04-25T09:40:14.174Z"
   },
   {
    "duration": 4,
    "start_time": "2022-04-25T09:40:14.382Z"
   },
   {
    "duration": 26,
    "start_time": "2022-04-25T09:40:14.387Z"
   },
   {
    "duration": 141,
    "start_time": "2022-04-25T09:40:14.415Z"
   },
   {
    "duration": 0,
    "start_time": "2022-04-25T09:40:14.558Z"
   },
   {
    "duration": 0,
    "start_time": "2022-04-25T09:40:14.559Z"
   },
   {
    "duration": 0,
    "start_time": "2022-04-25T09:40:14.561Z"
   },
   {
    "duration": 0,
    "start_time": "2022-04-25T09:40:14.562Z"
   },
   {
    "duration": 0,
    "start_time": "2022-04-25T09:40:14.563Z"
   },
   {
    "duration": 0,
    "start_time": "2022-04-25T09:40:14.564Z"
   },
   {
    "duration": 0,
    "start_time": "2022-04-25T09:40:14.566Z"
   },
   {
    "duration": 0,
    "start_time": "2022-04-25T09:40:14.567Z"
   },
   {
    "duration": 0,
    "start_time": "2022-04-25T09:40:14.568Z"
   },
   {
    "duration": 0,
    "start_time": "2022-04-25T09:40:14.569Z"
   },
   {
    "duration": 0,
    "start_time": "2022-04-25T09:40:14.570Z"
   },
   {
    "duration": 0,
    "start_time": "2022-04-25T09:40:14.571Z"
   },
   {
    "duration": 0,
    "start_time": "2022-04-25T09:40:14.571Z"
   },
   {
    "duration": 0,
    "start_time": "2022-04-25T09:40:14.572Z"
   },
   {
    "duration": 0,
    "start_time": "2022-04-25T09:40:14.574Z"
   },
   {
    "duration": 0,
    "start_time": "2022-04-25T09:40:14.600Z"
   },
   {
    "duration": 0,
    "start_time": "2022-04-25T09:40:14.601Z"
   },
   {
    "duration": 0,
    "start_time": "2022-04-25T09:40:14.602Z"
   },
   {
    "duration": 0,
    "start_time": "2022-04-25T09:40:14.603Z"
   },
   {
    "duration": 0,
    "start_time": "2022-04-25T09:40:14.604Z"
   },
   {
    "duration": 0,
    "start_time": "2022-04-25T09:40:14.605Z"
   },
   {
    "duration": 0,
    "start_time": "2022-04-25T09:40:14.606Z"
   },
   {
    "duration": 0,
    "start_time": "2022-04-25T09:40:14.607Z"
   },
   {
    "duration": 0,
    "start_time": "2022-04-25T09:40:14.608Z"
   },
   {
    "duration": 0,
    "start_time": "2022-04-25T09:40:14.609Z"
   },
   {
    "duration": 0,
    "start_time": "2022-04-25T09:40:14.610Z"
   },
   {
    "duration": 0,
    "start_time": "2022-04-25T09:40:14.611Z"
   },
   {
    "duration": 0,
    "start_time": "2022-04-25T09:40:14.612Z"
   },
   {
    "duration": 0,
    "start_time": "2022-04-25T09:40:14.613Z"
   },
   {
    "duration": 0,
    "start_time": "2022-04-25T09:40:14.614Z"
   },
   {
    "duration": 0,
    "start_time": "2022-04-25T09:40:14.616Z"
   },
   {
    "duration": 0,
    "start_time": "2022-04-25T09:40:14.617Z"
   },
   {
    "duration": 0,
    "start_time": "2022-04-25T09:40:14.617Z"
   },
   {
    "duration": 0,
    "start_time": "2022-04-25T09:40:14.618Z"
   },
   {
    "duration": 0,
    "start_time": "2022-04-25T09:40:14.619Z"
   },
   {
    "duration": 0,
    "start_time": "2022-04-25T09:40:14.620Z"
   },
   {
    "duration": 0,
    "start_time": "2022-04-25T09:40:14.621Z"
   },
   {
    "duration": 0,
    "start_time": "2022-04-25T09:40:14.622Z"
   },
   {
    "duration": 0,
    "start_time": "2022-04-25T09:40:14.623Z"
   },
   {
    "duration": 24,
    "start_time": "2022-04-25T09:40:42.778Z"
   },
   {
    "duration": 23,
    "start_time": "2022-04-25T09:40:56.750Z"
   },
   {
    "duration": 6,
    "start_time": "2022-04-25T09:41:19.836Z"
   },
   {
    "duration": 53,
    "start_time": "2022-04-25T09:41:33.019Z"
   },
   {
    "duration": 1617,
    "start_time": "2022-04-25T09:45:49.726Z"
   },
   {
    "duration": 131,
    "start_time": "2022-04-25T09:45:51.345Z"
   },
   {
    "duration": 9,
    "start_time": "2022-04-25T09:45:51.477Z"
   },
   {
    "duration": 19,
    "start_time": "2022-04-25T09:45:51.487Z"
   },
   {
    "duration": 24,
    "start_time": "2022-04-25T09:45:51.508Z"
   },
   {
    "duration": 17,
    "start_time": "2022-04-25T09:45:51.533Z"
   },
   {
    "duration": 20,
    "start_time": "2022-04-25T09:45:51.552Z"
   },
   {
    "duration": 24,
    "start_time": "2022-04-25T09:45:51.574Z"
   },
   {
    "duration": 25,
    "start_time": "2022-04-25T09:45:51.599Z"
   },
   {
    "duration": 206,
    "start_time": "2022-04-25T09:45:51.625Z"
   },
   {
    "duration": 6,
    "start_time": "2022-04-25T09:45:51.833Z"
   },
   {
    "duration": 692,
    "start_time": "2022-04-25T09:45:51.841Z"
   },
   {
    "duration": 185,
    "start_time": "2022-04-25T09:45:52.535Z"
   },
   {
    "duration": 128,
    "start_time": "2022-04-25T09:45:52.724Z"
   },
   {
    "duration": 3,
    "start_time": "2022-04-25T09:45:52.854Z"
   },
   {
    "duration": 10,
    "start_time": "2022-04-25T09:45:52.858Z"
   },
   {
    "duration": 6,
    "start_time": "2022-04-25T09:45:52.869Z"
   },
   {
    "duration": 274,
    "start_time": "2022-04-25T09:45:52.876Z"
   },
   {
    "duration": 1957,
    "start_time": "2022-04-25T09:45:53.151Z"
   },
   {
    "duration": 1312,
    "start_time": "2022-04-25T09:45:55.201Z"
   },
   {
    "duration": 311,
    "start_time": "2022-04-25T09:45:56.514Z"
   },
   {
    "duration": 6,
    "start_time": "2022-04-25T09:45:56.826Z"
   },
   {
    "duration": 17,
    "start_time": "2022-04-25T09:45:56.834Z"
   },
   {
    "duration": 5,
    "start_time": "2022-04-25T09:45:56.853Z"
   },
   {
    "duration": 162,
    "start_time": "2022-04-25T09:45:56.860Z"
   },
   {
    "duration": 0,
    "start_time": "2022-04-25T09:45:57.024Z"
   },
   {
    "duration": 0,
    "start_time": "2022-04-25T09:45:57.025Z"
   },
   {
    "duration": 0,
    "start_time": "2022-04-25T09:45:57.026Z"
   },
   {
    "duration": 0,
    "start_time": "2022-04-25T09:45:57.027Z"
   },
   {
    "duration": 0,
    "start_time": "2022-04-25T09:45:57.028Z"
   },
   {
    "duration": 0,
    "start_time": "2022-04-25T09:45:57.029Z"
   },
   {
    "duration": 0,
    "start_time": "2022-04-25T09:45:57.030Z"
   },
   {
    "duration": 0,
    "start_time": "2022-04-25T09:45:57.031Z"
   },
   {
    "duration": 0,
    "start_time": "2022-04-25T09:45:57.032Z"
   },
   {
    "duration": 0,
    "start_time": "2022-04-25T09:45:57.033Z"
   },
   {
    "duration": 0,
    "start_time": "2022-04-25T09:45:57.034Z"
   },
   {
    "duration": 0,
    "start_time": "2022-04-25T09:45:57.035Z"
   },
   {
    "duration": 0,
    "start_time": "2022-04-25T09:45:57.036Z"
   },
   {
    "duration": 0,
    "start_time": "2022-04-25T09:45:57.037Z"
   },
   {
    "duration": 0,
    "start_time": "2022-04-25T09:45:57.038Z"
   },
   {
    "duration": 0,
    "start_time": "2022-04-25T09:45:57.038Z"
   },
   {
    "duration": 1,
    "start_time": "2022-04-25T09:45:57.039Z"
   },
   {
    "duration": 0,
    "start_time": "2022-04-25T09:45:57.040Z"
   },
   {
    "duration": 0,
    "start_time": "2022-04-25T09:45:57.041Z"
   },
   {
    "duration": 0,
    "start_time": "2022-04-25T09:45:57.042Z"
   },
   {
    "duration": 0,
    "start_time": "2022-04-25T09:45:57.044Z"
   },
   {
    "duration": 0,
    "start_time": "2022-04-25T09:45:57.045Z"
   },
   {
    "duration": 0,
    "start_time": "2022-04-25T09:45:57.046Z"
   },
   {
    "duration": 0,
    "start_time": "2022-04-25T09:45:57.047Z"
   },
   {
    "duration": 0,
    "start_time": "2022-04-25T09:45:57.048Z"
   },
   {
    "duration": 0,
    "start_time": "2022-04-25T09:45:57.050Z"
   },
   {
    "duration": 0,
    "start_time": "2022-04-25T09:45:57.051Z"
   },
   {
    "duration": 0,
    "start_time": "2022-04-25T09:45:57.052Z"
   },
   {
    "duration": 0,
    "start_time": "2022-04-25T09:45:57.054Z"
   },
   {
    "duration": 0,
    "start_time": "2022-04-25T09:45:57.100Z"
   },
   {
    "duration": 0,
    "start_time": "2022-04-25T09:45:57.101Z"
   },
   {
    "duration": 0,
    "start_time": "2022-04-25T09:45:57.102Z"
   },
   {
    "duration": 0,
    "start_time": "2022-04-25T09:45:57.103Z"
   },
   {
    "duration": 0,
    "start_time": "2022-04-25T09:45:57.105Z"
   },
   {
    "duration": 0,
    "start_time": "2022-04-25T09:45:57.106Z"
   },
   {
    "duration": 0,
    "start_time": "2022-04-25T09:45:57.107Z"
   },
   {
    "duration": 0,
    "start_time": "2022-04-25T09:45:57.108Z"
   },
   {
    "duration": 0,
    "start_time": "2022-04-25T09:45:57.110Z"
   },
   {
    "duration": 0,
    "start_time": "2022-04-25T09:45:57.111Z"
   },
   {
    "duration": 28,
    "start_time": "2022-04-25T09:48:07.354Z"
   },
   {
    "duration": 46,
    "start_time": "2022-04-25T09:48:47.288Z"
   },
   {
    "duration": 27,
    "start_time": "2022-04-25T09:49:15.417Z"
   },
   {
    "duration": 4,
    "start_time": "2022-04-25T09:49:43.527Z"
   },
   {
    "duration": 1598,
    "start_time": "2022-04-25T09:49:50.528Z"
   },
   {
    "duration": 187,
    "start_time": "2022-04-25T09:49:52.128Z"
   },
   {
    "duration": 10,
    "start_time": "2022-04-25T09:49:52.317Z"
   },
   {
    "duration": 13,
    "start_time": "2022-04-25T09:49:52.328Z"
   },
   {
    "duration": 12,
    "start_time": "2022-04-25T09:49:52.343Z"
   },
   {
    "duration": 8,
    "start_time": "2022-04-25T09:49:52.357Z"
   },
   {
    "duration": 12,
    "start_time": "2022-04-25T09:49:52.366Z"
   },
   {
    "duration": 6,
    "start_time": "2022-04-25T09:49:52.380Z"
   },
   {
    "duration": 24,
    "start_time": "2022-04-25T09:49:52.387Z"
   },
   {
    "duration": 227,
    "start_time": "2022-04-25T09:49:52.413Z"
   },
   {
    "duration": 6,
    "start_time": "2022-04-25T09:49:52.642Z"
   },
   {
    "duration": 687,
    "start_time": "2022-04-25T09:49:52.649Z"
   },
   {
    "duration": 167,
    "start_time": "2022-04-25T09:49:53.337Z"
   },
   {
    "duration": 126,
    "start_time": "2022-04-25T09:49:53.507Z"
   },
   {
    "duration": 4,
    "start_time": "2022-04-25T09:49:53.634Z"
   },
   {
    "duration": 8,
    "start_time": "2022-04-25T09:49:53.639Z"
   },
   {
    "duration": 5,
    "start_time": "2022-04-25T09:49:53.648Z"
   },
   {
    "duration": 280,
    "start_time": "2022-04-25T09:49:53.654Z"
   },
   {
    "duration": 1571,
    "start_time": "2022-04-25T09:49:53.936Z"
   },
   {
    "duration": 852,
    "start_time": "2022-04-25T09:49:55.509Z"
   },
   {
    "duration": 191,
    "start_time": "2022-04-25T09:49:56.363Z"
   },
   {
    "duration": 4,
    "start_time": "2022-04-25T09:49:56.556Z"
   },
   {
    "duration": 19,
    "start_time": "2022-04-25T09:49:56.562Z"
   },
   {
    "duration": 19,
    "start_time": "2022-04-25T09:49:56.582Z"
   },
   {
    "duration": 34,
    "start_time": "2022-04-25T09:49:56.603Z"
   },
   {
    "duration": 0,
    "start_time": "2022-04-25T09:49:56.639Z"
   },
   {
    "duration": 0,
    "start_time": "2022-04-25T09:49:56.640Z"
   },
   {
    "duration": 0,
    "start_time": "2022-04-25T09:49:56.641Z"
   },
   {
    "duration": 0,
    "start_time": "2022-04-25T09:49:56.642Z"
   },
   {
    "duration": 0,
    "start_time": "2022-04-25T09:49:56.643Z"
   },
   {
    "duration": 0,
    "start_time": "2022-04-25T09:49:56.644Z"
   },
   {
    "duration": 0,
    "start_time": "2022-04-25T09:49:56.645Z"
   },
   {
    "duration": 0,
    "start_time": "2022-04-25T09:49:56.645Z"
   },
   {
    "duration": 0,
    "start_time": "2022-04-25T09:49:56.646Z"
   },
   {
    "duration": 0,
    "start_time": "2022-04-25T09:49:56.647Z"
   },
   {
    "duration": 0,
    "start_time": "2022-04-25T09:49:56.648Z"
   },
   {
    "duration": 0,
    "start_time": "2022-04-25T09:49:56.648Z"
   },
   {
    "duration": 0,
    "start_time": "2022-04-25T09:49:56.649Z"
   },
   {
    "duration": 0,
    "start_time": "2022-04-25T09:49:56.650Z"
   },
   {
    "duration": 0,
    "start_time": "2022-04-25T09:49:56.651Z"
   },
   {
    "duration": 0,
    "start_time": "2022-04-25T09:49:56.652Z"
   },
   {
    "duration": 0,
    "start_time": "2022-04-25T09:49:56.653Z"
   },
   {
    "duration": 0,
    "start_time": "2022-04-25T09:49:56.654Z"
   },
   {
    "duration": 0,
    "start_time": "2022-04-25T09:49:56.655Z"
   },
   {
    "duration": 0,
    "start_time": "2022-04-25T09:49:56.656Z"
   },
   {
    "duration": 0,
    "start_time": "2022-04-25T09:49:56.657Z"
   },
   {
    "duration": 0,
    "start_time": "2022-04-25T09:49:56.658Z"
   },
   {
    "duration": 0,
    "start_time": "2022-04-25T09:49:56.659Z"
   },
   {
    "duration": 0,
    "start_time": "2022-04-25T09:49:56.660Z"
   },
   {
    "duration": 0,
    "start_time": "2022-04-25T09:49:56.661Z"
   },
   {
    "duration": 0,
    "start_time": "2022-04-25T09:49:56.700Z"
   },
   {
    "duration": 0,
    "start_time": "2022-04-25T09:49:56.701Z"
   },
   {
    "duration": 0,
    "start_time": "2022-04-25T09:49:56.702Z"
   },
   {
    "duration": 0,
    "start_time": "2022-04-25T09:49:56.703Z"
   },
   {
    "duration": 0,
    "start_time": "2022-04-25T09:49:56.704Z"
   },
   {
    "duration": 0,
    "start_time": "2022-04-25T09:49:56.706Z"
   },
   {
    "duration": 0,
    "start_time": "2022-04-25T09:49:56.706Z"
   },
   {
    "duration": 0,
    "start_time": "2022-04-25T09:49:56.707Z"
   },
   {
    "duration": 0,
    "start_time": "2022-04-25T09:49:56.709Z"
   },
   {
    "duration": 0,
    "start_time": "2022-04-25T09:49:56.710Z"
   },
   {
    "duration": 0,
    "start_time": "2022-04-25T09:49:56.711Z"
   },
   {
    "duration": 0,
    "start_time": "2022-04-25T09:49:56.712Z"
   },
   {
    "duration": 0,
    "start_time": "2022-04-25T09:49:56.712Z"
   },
   {
    "duration": 0,
    "start_time": "2022-04-25T09:49:56.714Z"
   },
   {
    "duration": 130,
    "start_time": "2022-04-25T09:53:00.588Z"
   },
   {
    "duration": 27,
    "start_time": "2022-04-25T09:53:28.576Z"
   },
   {
    "duration": 7,
    "start_time": "2022-04-25T09:53:37.548Z"
   },
   {
    "duration": 11,
    "start_time": "2022-04-25T09:53:46.457Z"
   },
   {
    "duration": 6,
    "start_time": "2022-04-25T09:54:07.387Z"
   },
   {
    "duration": 5,
    "start_time": "2022-04-25T09:54:43.827Z"
   },
   {
    "duration": 1737,
    "start_time": "2022-04-25T09:58:19.094Z"
   },
   {
    "duration": 147,
    "start_time": "2022-04-25T09:58:20.833Z"
   },
   {
    "duration": 9,
    "start_time": "2022-04-25T09:58:20.982Z"
   },
   {
    "duration": 10,
    "start_time": "2022-04-25T09:58:20.993Z"
   },
   {
    "duration": 11,
    "start_time": "2022-04-25T09:58:21.006Z"
   },
   {
    "duration": 3,
    "start_time": "2022-04-25T09:58:21.018Z"
   },
   {
    "duration": 6,
    "start_time": "2022-04-25T09:58:21.023Z"
   },
   {
    "duration": 7,
    "start_time": "2022-04-25T09:58:21.031Z"
   },
   {
    "duration": 9,
    "start_time": "2022-04-25T09:58:21.039Z"
   },
   {
    "duration": 228,
    "start_time": "2022-04-25T09:58:21.050Z"
   },
   {
    "duration": 7,
    "start_time": "2022-04-25T09:58:21.280Z"
   },
   {
    "duration": 669,
    "start_time": "2022-04-25T09:58:21.288Z"
   },
   {
    "duration": 179,
    "start_time": "2022-04-25T09:58:21.958Z"
   },
   {
    "duration": 121,
    "start_time": "2022-04-25T09:58:22.140Z"
   },
   {
    "duration": 3,
    "start_time": "2022-04-25T09:58:22.262Z"
   },
   {
    "duration": 7,
    "start_time": "2022-04-25T09:58:22.267Z"
   },
   {
    "duration": 6,
    "start_time": "2022-04-25T09:58:22.275Z"
   },
   {
    "duration": 283,
    "start_time": "2022-04-25T09:58:22.282Z"
   },
   {
    "duration": 1739,
    "start_time": "2022-04-25T09:58:22.567Z"
   },
   {
    "duration": 1246,
    "start_time": "2022-04-25T09:58:24.400Z"
   },
   {
    "duration": 328,
    "start_time": "2022-04-25T09:58:25.700Z"
   },
   {
    "duration": 4,
    "start_time": "2022-04-25T09:58:26.029Z"
   },
   {
    "duration": 67,
    "start_time": "2022-04-25T09:58:26.035Z"
   },
   {
    "duration": 6,
    "start_time": "2022-04-25T09:58:26.103Z"
   },
   {
    "duration": 4275,
    "start_time": "2022-04-25T09:58:26.111Z"
   },
   {
    "duration": 0,
    "start_time": "2022-04-25T09:58:30.388Z"
   },
   {
    "duration": 0,
    "start_time": "2022-04-25T09:58:30.390Z"
   },
   {
    "duration": 0,
    "start_time": "2022-04-25T09:58:30.391Z"
   },
   {
    "duration": 0,
    "start_time": "2022-04-25T09:58:30.392Z"
   },
   {
    "duration": 1,
    "start_time": "2022-04-25T09:58:30.392Z"
   },
   {
    "duration": 0,
    "start_time": "2022-04-25T09:58:30.393Z"
   },
   {
    "duration": 0,
    "start_time": "2022-04-25T09:58:30.394Z"
   },
   {
    "duration": 0,
    "start_time": "2022-04-25T09:58:30.396Z"
   },
   {
    "duration": 0,
    "start_time": "2022-04-25T09:58:30.397Z"
   },
   {
    "duration": 0,
    "start_time": "2022-04-25T09:58:30.398Z"
   },
   {
    "duration": 0,
    "start_time": "2022-04-25T09:58:30.399Z"
   },
   {
    "duration": 0,
    "start_time": "2022-04-25T09:58:30.400Z"
   },
   {
    "duration": 0,
    "start_time": "2022-04-25T09:58:30.401Z"
   },
   {
    "duration": 0,
    "start_time": "2022-04-25T09:58:30.402Z"
   },
   {
    "duration": 0,
    "start_time": "2022-04-25T09:58:30.404Z"
   },
   {
    "duration": 0,
    "start_time": "2022-04-25T09:58:30.404Z"
   },
   {
    "duration": 0,
    "start_time": "2022-04-25T09:58:30.405Z"
   },
   {
    "duration": 0,
    "start_time": "2022-04-25T09:58:30.407Z"
   },
   {
    "duration": 0,
    "start_time": "2022-04-25T09:58:30.408Z"
   },
   {
    "duration": 0,
    "start_time": "2022-04-25T09:58:30.409Z"
   },
   {
    "duration": 0,
    "start_time": "2022-04-25T09:58:30.410Z"
   },
   {
    "duration": 0,
    "start_time": "2022-04-25T09:58:30.411Z"
   },
   {
    "duration": 0,
    "start_time": "2022-04-25T09:58:30.412Z"
   },
   {
    "duration": 0,
    "start_time": "2022-04-25T09:58:30.413Z"
   },
   {
    "duration": 0,
    "start_time": "2022-04-25T09:58:30.414Z"
   },
   {
    "duration": 0,
    "start_time": "2022-04-25T09:58:30.415Z"
   },
   {
    "duration": 0,
    "start_time": "2022-04-25T09:58:30.416Z"
   },
   {
    "duration": 0,
    "start_time": "2022-04-25T09:58:30.417Z"
   },
   {
    "duration": 0,
    "start_time": "2022-04-25T09:58:30.418Z"
   },
   {
    "duration": 0,
    "start_time": "2022-04-25T09:58:30.419Z"
   },
   {
    "duration": 0,
    "start_time": "2022-04-25T09:58:30.420Z"
   },
   {
    "duration": 0,
    "start_time": "2022-04-25T09:58:30.421Z"
   },
   {
    "duration": 0,
    "start_time": "2022-04-25T09:58:30.422Z"
   },
   {
    "duration": 0,
    "start_time": "2022-04-25T09:58:30.423Z"
   },
   {
    "duration": 0,
    "start_time": "2022-04-25T09:58:30.424Z"
   },
   {
    "duration": 0,
    "start_time": "2022-04-25T09:58:30.425Z"
   },
   {
    "duration": 0,
    "start_time": "2022-04-25T09:58:30.426Z"
   },
   {
    "duration": 0,
    "start_time": "2022-04-25T09:58:30.427Z"
   },
   {
    "duration": 0,
    "start_time": "2022-04-25T09:58:30.428Z"
   },
   {
    "duration": 4,
    "start_time": "2022-04-25T10:00:01.866Z"
   },
   {
    "duration": 1572,
    "start_time": "2022-04-25T10:00:40.535Z"
   },
   {
    "duration": 174,
    "start_time": "2022-04-25T10:00:42.109Z"
   },
   {
    "duration": 10,
    "start_time": "2022-04-25T10:00:42.285Z"
   },
   {
    "duration": 10,
    "start_time": "2022-04-25T10:00:42.297Z"
   },
   {
    "duration": 10,
    "start_time": "2022-04-25T10:00:42.309Z"
   },
   {
    "duration": 2,
    "start_time": "2022-04-25T10:00:42.321Z"
   },
   {
    "duration": 5,
    "start_time": "2022-04-25T10:00:42.325Z"
   },
   {
    "duration": 4,
    "start_time": "2022-04-25T10:00:42.331Z"
   },
   {
    "duration": 10,
    "start_time": "2022-04-25T10:00:42.337Z"
   },
   {
    "duration": 228,
    "start_time": "2022-04-25T10:00:42.350Z"
   },
   {
    "duration": 6,
    "start_time": "2022-04-25T10:00:42.580Z"
   },
   {
    "duration": 645,
    "start_time": "2022-04-25T10:00:42.588Z"
   },
   {
    "duration": 167,
    "start_time": "2022-04-25T10:00:43.235Z"
   },
   {
    "duration": 125,
    "start_time": "2022-04-25T10:00:43.404Z"
   },
   {
    "duration": 3,
    "start_time": "2022-04-25T10:00:43.531Z"
   },
   {
    "duration": 9,
    "start_time": "2022-04-25T10:00:43.535Z"
   },
   {
    "duration": 5,
    "start_time": "2022-04-25T10:00:43.545Z"
   },
   {
    "duration": 278,
    "start_time": "2022-04-25T10:00:43.551Z"
   },
   {
    "duration": 1778,
    "start_time": "2022-04-25T10:00:43.830Z"
   },
   {
    "duration": 2193,
    "start_time": "2022-04-25T10:00:45.610Z"
   },
   {
    "duration": 298,
    "start_time": "2022-04-25T10:00:47.805Z"
   },
   {
    "duration": 4,
    "start_time": "2022-04-25T10:00:48.104Z"
   },
   {
    "duration": 6,
    "start_time": "2022-04-25T10:00:48.110Z"
   },
   {
    "duration": 18,
    "start_time": "2022-04-25T10:00:48.118Z"
   },
   {
    "duration": 7,
    "start_time": "2022-04-25T10:00:48.138Z"
   },
   {
    "duration": 11580,
    "start_time": "2022-04-25T10:00:48.147Z"
   },
   {
    "duration": 0,
    "start_time": "2022-04-25T10:00:59.729Z"
   },
   {
    "duration": 0,
    "start_time": "2022-04-25T10:00:59.730Z"
   },
   {
    "duration": 0,
    "start_time": "2022-04-25T10:00:59.732Z"
   },
   {
    "duration": 0,
    "start_time": "2022-04-25T10:00:59.733Z"
   },
   {
    "duration": 0,
    "start_time": "2022-04-25T10:00:59.733Z"
   },
   {
    "duration": 0,
    "start_time": "2022-04-25T10:00:59.735Z"
   },
   {
    "duration": 0,
    "start_time": "2022-04-25T10:00:59.735Z"
   },
   {
    "duration": 0,
    "start_time": "2022-04-25T10:00:59.736Z"
   },
   {
    "duration": 0,
    "start_time": "2022-04-25T10:00:59.737Z"
   },
   {
    "duration": 0,
    "start_time": "2022-04-25T10:00:59.738Z"
   },
   {
    "duration": 0,
    "start_time": "2022-04-25T10:00:59.739Z"
   },
   {
    "duration": 0,
    "start_time": "2022-04-25T10:00:59.740Z"
   },
   {
    "duration": 0,
    "start_time": "2022-04-25T10:00:59.740Z"
   },
   {
    "duration": 0,
    "start_time": "2022-04-25T10:00:59.741Z"
   },
   {
    "duration": 0,
    "start_time": "2022-04-25T10:00:59.742Z"
   },
   {
    "duration": 0,
    "start_time": "2022-04-25T10:00:59.743Z"
   },
   {
    "duration": 0,
    "start_time": "2022-04-25T10:00:59.744Z"
   },
   {
    "duration": 0,
    "start_time": "2022-04-25T10:00:59.745Z"
   },
   {
    "duration": 0,
    "start_time": "2022-04-25T10:00:59.746Z"
   },
   {
    "duration": 0,
    "start_time": "2022-04-25T10:00:59.747Z"
   },
   {
    "duration": 0,
    "start_time": "2022-04-25T10:00:59.748Z"
   },
   {
    "duration": 0,
    "start_time": "2022-04-25T10:00:59.749Z"
   },
   {
    "duration": 0,
    "start_time": "2022-04-25T10:00:59.750Z"
   },
   {
    "duration": 0,
    "start_time": "2022-04-25T10:00:59.751Z"
   },
   {
    "duration": 0,
    "start_time": "2022-04-25T10:00:59.752Z"
   },
   {
    "duration": 0,
    "start_time": "2022-04-25T10:00:59.753Z"
   },
   {
    "duration": 0,
    "start_time": "2022-04-25T10:00:59.754Z"
   },
   {
    "duration": 0,
    "start_time": "2022-04-25T10:00:59.754Z"
   },
   {
    "duration": 0,
    "start_time": "2022-04-25T10:00:59.755Z"
   },
   {
    "duration": 0,
    "start_time": "2022-04-25T10:00:59.756Z"
   },
   {
    "duration": 0,
    "start_time": "2022-04-25T10:00:59.757Z"
   },
   {
    "duration": 0,
    "start_time": "2022-04-25T10:00:59.801Z"
   },
   {
    "duration": 1,
    "start_time": "2022-04-25T10:00:59.801Z"
   },
   {
    "duration": 0,
    "start_time": "2022-04-25T10:00:59.802Z"
   },
   {
    "duration": 0,
    "start_time": "2022-04-25T10:00:59.803Z"
   },
   {
    "duration": 0,
    "start_time": "2022-04-25T10:00:59.804Z"
   },
   {
    "duration": 0,
    "start_time": "2022-04-25T10:00:59.805Z"
   },
   {
    "duration": 0,
    "start_time": "2022-04-25T10:00:59.806Z"
   },
   {
    "duration": 0,
    "start_time": "2022-04-25T10:00:59.807Z"
   },
   {
    "duration": 1598,
    "start_time": "2022-04-25T10:02:08.806Z"
   },
   {
    "duration": 150,
    "start_time": "2022-04-25T10:02:10.406Z"
   },
   {
    "duration": 10,
    "start_time": "2022-04-25T10:02:10.558Z"
   },
   {
    "duration": 10,
    "start_time": "2022-04-25T10:02:10.570Z"
   },
   {
    "duration": 12,
    "start_time": "2022-04-25T10:02:10.581Z"
   },
   {
    "duration": 3,
    "start_time": "2022-04-25T10:02:10.595Z"
   },
   {
    "duration": 7,
    "start_time": "2022-04-25T10:02:10.600Z"
   },
   {
    "duration": 8,
    "start_time": "2022-04-25T10:02:10.608Z"
   },
   {
    "duration": 16,
    "start_time": "2022-04-25T10:02:10.617Z"
   },
   {
    "duration": 324,
    "start_time": "2022-04-25T10:02:10.637Z"
   },
   {
    "duration": 6,
    "start_time": "2022-04-25T10:02:10.963Z"
   },
   {
    "duration": 1063,
    "start_time": "2022-04-25T10:02:10.970Z"
   },
   {
    "duration": 281,
    "start_time": "2022-04-25T10:02:12.035Z"
   },
   {
    "duration": 221,
    "start_time": "2022-04-25T10:02:12.318Z"
   },
   {
    "duration": 59,
    "start_time": "2022-04-25T10:02:12.541Z"
   },
   {
    "duration": 21,
    "start_time": "2022-04-25T10:02:12.602Z"
   },
   {
    "duration": 6,
    "start_time": "2022-04-25T10:02:12.625Z"
   },
   {
    "duration": 578,
    "start_time": "2022-04-25T10:02:12.632Z"
   },
   {
    "duration": 2889,
    "start_time": "2022-04-25T10:02:13.212Z"
   },
   {
    "duration": 821,
    "start_time": "2022-04-25T10:02:16.104Z"
   },
   {
    "duration": 196,
    "start_time": "2022-04-25T10:02:16.927Z"
   },
   {
    "duration": 3,
    "start_time": "2022-04-25T10:02:17.125Z"
   },
   {
    "duration": 5,
    "start_time": "2022-04-25T10:02:17.130Z"
   },
   {
    "duration": 19,
    "start_time": "2022-04-25T10:02:17.136Z"
   },
   {
    "duration": 7,
    "start_time": "2022-04-25T10:02:17.157Z"
   },
   {
    "duration": 14118,
    "start_time": "2022-04-25T10:02:17.165Z"
   },
   {
    "duration": 104,
    "start_time": "2022-04-25T10:02:31.285Z"
   },
   {
    "duration": 0,
    "start_time": "2022-04-25T10:02:31.401Z"
   },
   {
    "duration": 0,
    "start_time": "2022-04-25T10:02:31.402Z"
   },
   {
    "duration": 0,
    "start_time": "2022-04-25T10:02:31.404Z"
   },
   {
    "duration": 0,
    "start_time": "2022-04-25T10:02:31.406Z"
   },
   {
    "duration": 0,
    "start_time": "2022-04-25T10:02:31.407Z"
   },
   {
    "duration": 0,
    "start_time": "2022-04-25T10:02:31.408Z"
   },
   {
    "duration": 0,
    "start_time": "2022-04-25T10:02:31.410Z"
   },
   {
    "duration": 0,
    "start_time": "2022-04-25T10:02:31.411Z"
   },
   {
    "duration": 0,
    "start_time": "2022-04-25T10:02:31.412Z"
   },
   {
    "duration": 0,
    "start_time": "2022-04-25T10:02:31.413Z"
   },
   {
    "duration": 0,
    "start_time": "2022-04-25T10:02:31.415Z"
   },
   {
    "duration": 0,
    "start_time": "2022-04-25T10:02:31.416Z"
   },
   {
    "duration": 0,
    "start_time": "2022-04-25T10:02:31.418Z"
   },
   {
    "duration": 0,
    "start_time": "2022-04-25T10:02:31.419Z"
   },
   {
    "duration": 0,
    "start_time": "2022-04-25T10:02:31.420Z"
   },
   {
    "duration": 0,
    "start_time": "2022-04-25T10:02:31.422Z"
   },
   {
    "duration": 0,
    "start_time": "2022-04-25T10:02:31.423Z"
   },
   {
    "duration": 0,
    "start_time": "2022-04-25T10:02:31.424Z"
   },
   {
    "duration": 0,
    "start_time": "2022-04-25T10:02:31.426Z"
   },
   {
    "duration": 0,
    "start_time": "2022-04-25T10:02:31.427Z"
   },
   {
    "duration": 0,
    "start_time": "2022-04-25T10:02:31.428Z"
   },
   {
    "duration": 0,
    "start_time": "2022-04-25T10:02:31.429Z"
   },
   {
    "duration": 0,
    "start_time": "2022-04-25T10:02:31.431Z"
   },
   {
    "duration": 0,
    "start_time": "2022-04-25T10:02:31.432Z"
   },
   {
    "duration": 0,
    "start_time": "2022-04-25T10:02:31.433Z"
   },
   {
    "duration": 0,
    "start_time": "2022-04-25T10:02:31.434Z"
   },
   {
    "duration": 0,
    "start_time": "2022-04-25T10:02:31.436Z"
   },
   {
    "duration": 0,
    "start_time": "2022-04-25T10:02:31.437Z"
   },
   {
    "duration": 0,
    "start_time": "2022-04-25T10:02:31.438Z"
   },
   {
    "duration": 0,
    "start_time": "2022-04-25T10:02:31.439Z"
   },
   {
    "duration": 1,
    "start_time": "2022-04-25T10:02:31.440Z"
   },
   {
    "duration": 0,
    "start_time": "2022-04-25T10:02:31.442Z"
   },
   {
    "duration": 0,
    "start_time": "2022-04-25T10:02:31.443Z"
   },
   {
    "duration": 0,
    "start_time": "2022-04-25T10:02:31.501Z"
   },
   {
    "duration": 0,
    "start_time": "2022-04-25T10:02:31.503Z"
   },
   {
    "duration": 0,
    "start_time": "2022-04-25T10:02:31.504Z"
   },
   {
    "duration": 0,
    "start_time": "2022-04-25T10:02:31.505Z"
   },
   {
    "duration": 0,
    "start_time": "2022-04-25T10:02:31.508Z"
   },
   {
    "duration": 9,
    "start_time": "2022-04-25T10:14:55.151Z"
   },
   {
    "duration": 231,
    "start_time": "2022-04-25T10:15:42.592Z"
   },
   {
    "duration": 123,
    "start_time": "2022-04-25T10:18:20.672Z"
   },
   {
    "duration": 184,
    "start_time": "2022-04-25T10:18:32.292Z"
   },
   {
    "duration": 117,
    "start_time": "2022-04-25T10:18:43.649Z"
   },
   {
    "duration": 5,
    "start_time": "2022-04-25T10:20:10.944Z"
   },
   {
    "duration": 12,
    "start_time": "2022-04-25T10:20:51.320Z"
   },
   {
    "duration": 7,
    "start_time": "2022-04-25T10:21:08.462Z"
   },
   {
    "duration": 126,
    "start_time": "2022-04-25T10:21:31.743Z"
   },
   {
    "duration": 123,
    "start_time": "2022-04-25T10:21:42.909Z"
   },
   {
    "duration": 119,
    "start_time": "2022-04-25T10:22:12.832Z"
   },
   {
    "duration": 125,
    "start_time": "2022-04-25T10:22:36.991Z"
   },
   {
    "duration": 202,
    "start_time": "2022-04-25T10:23:11.522Z"
   },
   {
    "duration": 3,
    "start_time": "2022-04-25T10:23:18.271Z"
   },
   {
    "duration": 206,
    "start_time": "2022-04-25T10:23:22.474Z"
   },
   {
    "duration": 5,
    "start_time": "2022-04-25T10:23:27.472Z"
   },
   {
    "duration": 166,
    "start_time": "2022-04-25T10:23:59.361Z"
   },
   {
    "duration": 142,
    "start_time": "2022-04-25T10:24:15.952Z"
   },
   {
    "duration": 4,
    "start_time": "2022-04-25T10:28:50.341Z"
   },
   {
    "duration": 137,
    "start_time": "2022-04-25T10:28:58.834Z"
   },
   {
    "duration": 144,
    "start_time": "2022-04-25T10:29:21.190Z"
   },
   {
    "duration": 1824,
    "start_time": "2022-04-25T10:38:08.880Z"
   },
   {
    "duration": 153,
    "start_time": "2022-04-25T10:38:10.707Z"
   },
   {
    "duration": 12,
    "start_time": "2022-04-25T10:38:10.901Z"
   },
   {
    "duration": 23,
    "start_time": "2022-04-25T10:38:10.916Z"
   },
   {
    "duration": 61,
    "start_time": "2022-04-25T10:38:10.941Z"
   },
   {
    "duration": 3,
    "start_time": "2022-04-25T10:38:11.004Z"
   },
   {
    "duration": 6,
    "start_time": "2022-04-25T10:38:11.009Z"
   },
   {
    "duration": 6,
    "start_time": "2022-04-25T10:38:11.016Z"
   },
   {
    "duration": 13,
    "start_time": "2022-04-25T10:38:11.024Z"
   },
   {
    "duration": 673,
    "start_time": "2022-04-25T10:38:11.040Z"
   },
   {
    "duration": 7,
    "start_time": "2022-04-25T10:38:11.716Z"
   },
   {
    "duration": 990,
    "start_time": "2022-04-25T10:38:11.725Z"
   },
   {
    "duration": 173,
    "start_time": "2022-04-25T10:38:12.717Z"
   },
   {
    "duration": 130,
    "start_time": "2022-04-25T10:38:12.892Z"
   },
   {
    "duration": 3,
    "start_time": "2022-04-25T10:38:13.023Z"
   },
   {
    "duration": 15,
    "start_time": "2022-04-25T10:38:13.028Z"
   },
   {
    "duration": 6,
    "start_time": "2022-04-25T10:38:13.044Z"
   },
   {
    "duration": 265,
    "start_time": "2022-04-25T10:38:13.052Z"
   },
   {
    "duration": 2083,
    "start_time": "2022-04-25T10:38:13.318Z"
   },
   {
    "duration": 803,
    "start_time": "2022-04-25T10:38:15.406Z"
   },
   {
    "duration": 180,
    "start_time": "2022-04-25T10:38:16.211Z"
   },
   {
    "duration": 10,
    "start_time": "2022-04-25T10:38:16.392Z"
   },
   {
    "duration": 24,
    "start_time": "2022-04-25T10:38:16.403Z"
   },
   {
    "duration": 27,
    "start_time": "2022-04-25T10:38:16.428Z"
   },
   {
    "duration": 7,
    "start_time": "2022-04-25T10:38:16.457Z"
   },
   {
    "duration": 0,
    "start_time": "2022-04-25T10:38:16.466Z"
   },
   {
    "duration": 0,
    "start_time": "2022-04-25T10:38:16.467Z"
   },
   {
    "duration": 0,
    "start_time": "2022-04-25T10:38:16.467Z"
   },
   {
    "duration": 0,
    "start_time": "2022-04-25T10:38:16.468Z"
   },
   {
    "duration": 0,
    "start_time": "2022-04-25T10:38:16.469Z"
   },
   {
    "duration": 0,
    "start_time": "2022-04-25T10:38:16.469Z"
   },
   {
    "duration": 0,
    "start_time": "2022-04-25T10:38:16.470Z"
   },
   {
    "duration": 0,
    "start_time": "2022-04-25T10:38:16.471Z"
   },
   {
    "duration": 0,
    "start_time": "2022-04-25T10:38:16.472Z"
   },
   {
    "duration": 0,
    "start_time": "2022-04-25T10:38:16.473Z"
   },
   {
    "duration": 0,
    "start_time": "2022-04-25T10:38:16.474Z"
   },
   {
    "duration": 0,
    "start_time": "2022-04-25T10:38:16.475Z"
   },
   {
    "duration": 0,
    "start_time": "2022-04-25T10:38:16.476Z"
   },
   {
    "duration": 0,
    "start_time": "2022-04-25T10:38:16.477Z"
   },
   {
    "duration": 0,
    "start_time": "2022-04-25T10:38:16.478Z"
   },
   {
    "duration": 0,
    "start_time": "2022-04-25T10:38:16.479Z"
   },
   {
    "duration": 1,
    "start_time": "2022-04-25T10:38:16.479Z"
   },
   {
    "duration": 0,
    "start_time": "2022-04-25T10:38:16.480Z"
   },
   {
    "duration": 0,
    "start_time": "2022-04-25T10:38:16.481Z"
   },
   {
    "duration": 0,
    "start_time": "2022-04-25T10:38:16.482Z"
   },
   {
    "duration": 0,
    "start_time": "2022-04-25T10:38:16.482Z"
   },
   {
    "duration": 0,
    "start_time": "2022-04-25T10:38:16.483Z"
   },
   {
    "duration": 0,
    "start_time": "2022-04-25T10:38:16.484Z"
   },
   {
    "duration": 0,
    "start_time": "2022-04-25T10:38:16.485Z"
   },
   {
    "duration": 0,
    "start_time": "2022-04-25T10:38:16.486Z"
   },
   {
    "duration": 0,
    "start_time": "2022-04-25T10:38:16.500Z"
   },
   {
    "duration": 0,
    "start_time": "2022-04-25T10:38:16.501Z"
   },
   {
    "duration": 0,
    "start_time": "2022-04-25T10:38:16.502Z"
   },
   {
    "duration": 0,
    "start_time": "2022-04-25T10:38:16.503Z"
   },
   {
    "duration": 0,
    "start_time": "2022-04-25T10:38:16.503Z"
   },
   {
    "duration": 0,
    "start_time": "2022-04-25T10:38:16.504Z"
   },
   {
    "duration": 0,
    "start_time": "2022-04-25T10:38:16.505Z"
   },
   {
    "duration": 0,
    "start_time": "2022-04-25T10:38:16.506Z"
   },
   {
    "duration": 0,
    "start_time": "2022-04-25T10:38:16.507Z"
   },
   {
    "duration": 0,
    "start_time": "2022-04-25T10:38:16.508Z"
   },
   {
    "duration": 0,
    "start_time": "2022-04-25T10:38:16.509Z"
   },
   {
    "duration": 0,
    "start_time": "2022-04-25T10:38:16.510Z"
   },
   {
    "duration": 0,
    "start_time": "2022-04-25T10:38:16.511Z"
   },
   {
    "duration": 0,
    "start_time": "2022-04-25T10:38:16.511Z"
   },
   {
    "duration": 0,
    "start_time": "2022-04-25T10:38:16.512Z"
   },
   {
    "duration": 0,
    "start_time": "2022-04-25T10:38:16.513Z"
   },
   {
    "duration": 0,
    "start_time": "2022-04-25T10:38:16.514Z"
   },
   {
    "duration": 0,
    "start_time": "2022-04-25T10:38:16.515Z"
   },
   {
    "duration": 1570,
    "start_time": "2022-04-25T10:39:38.489Z"
   },
   {
    "duration": 123,
    "start_time": "2022-04-25T10:39:40.061Z"
   },
   {
    "duration": 9,
    "start_time": "2022-04-25T10:39:40.186Z"
   },
   {
    "duration": 9,
    "start_time": "2022-04-25T10:39:40.197Z"
   },
   {
    "duration": 11,
    "start_time": "2022-04-25T10:39:40.208Z"
   },
   {
    "duration": 3,
    "start_time": "2022-04-25T10:39:40.220Z"
   },
   {
    "duration": 6,
    "start_time": "2022-04-25T10:39:40.224Z"
   },
   {
    "duration": 4,
    "start_time": "2022-04-25T10:39:40.232Z"
   },
   {
    "duration": 9,
    "start_time": "2022-04-25T10:39:40.238Z"
   },
   {
    "duration": 195,
    "start_time": "2022-04-25T10:39:40.248Z"
   },
   {
    "duration": 6,
    "start_time": "2022-04-25T10:39:40.444Z"
   },
   {
    "duration": 726,
    "start_time": "2022-04-25T10:39:40.499Z"
   },
   {
    "duration": 166,
    "start_time": "2022-04-25T10:39:41.226Z"
   },
   {
    "duration": 114,
    "start_time": "2022-04-25T10:39:41.399Z"
   },
   {
    "duration": 3,
    "start_time": "2022-04-25T10:39:41.515Z"
   },
   {
    "duration": 8,
    "start_time": "2022-04-25T10:39:41.519Z"
   },
   {
    "duration": 6,
    "start_time": "2022-04-25T10:39:41.529Z"
   },
   {
    "duration": 266,
    "start_time": "2022-04-25T10:39:41.536Z"
   },
   {
    "duration": 1804,
    "start_time": "2022-04-25T10:39:41.803Z"
   },
   {
    "duration": 837,
    "start_time": "2022-04-25T10:39:43.610Z"
   },
   {
    "duration": 179,
    "start_time": "2022-04-25T10:39:44.449Z"
   },
   {
    "duration": 4,
    "start_time": "2022-04-25T10:39:44.630Z"
   },
   {
    "duration": 6,
    "start_time": "2022-04-25T10:39:44.635Z"
   },
   {
    "duration": 15,
    "start_time": "2022-04-25T10:39:44.642Z"
   },
   {
    "duration": 11556,
    "start_time": "2022-04-25T10:39:44.658Z"
   },
   {
    "duration": 6,
    "start_time": "2022-04-25T10:39:56.215Z"
   },
   {
    "duration": 21,
    "start_time": "2022-04-25T10:39:56.223Z"
   },
   {
    "duration": 31,
    "start_time": "2022-04-25T10:39:56.246Z"
   },
   {
    "duration": 21,
    "start_time": "2022-04-25T10:39:56.278Z"
   },
   {
    "duration": 18,
    "start_time": "2022-04-25T10:39:56.300Z"
   },
   {
    "duration": 6,
    "start_time": "2022-04-25T10:39:56.319Z"
   },
   {
    "duration": 7,
    "start_time": "2022-04-25T10:39:56.326Z"
   },
   {
    "duration": 15,
    "start_time": "2022-04-25T10:39:56.335Z"
   },
   {
    "duration": 12,
    "start_time": "2022-04-25T10:39:56.352Z"
   },
   {
    "duration": 28,
    "start_time": "2022-04-25T10:39:56.366Z"
   },
   {
    "duration": 2319,
    "start_time": "2022-04-25T10:39:56.396Z"
   },
   {
    "duration": 9,
    "start_time": "2022-04-25T10:39:58.717Z"
   },
   {
    "duration": 12,
    "start_time": "2022-04-25T10:39:58.727Z"
   },
   {
    "duration": 4,
    "start_time": "2022-04-25T10:39:58.741Z"
   },
   {
    "duration": 1695,
    "start_time": "2022-04-25T10:39:58.746Z"
   },
   {
    "duration": 8,
    "start_time": "2022-04-25T10:40:00.446Z"
   },
   {
    "duration": 7,
    "start_time": "2022-04-25T10:40:00.455Z"
   },
   {
    "duration": 7,
    "start_time": "2022-04-25T10:40:00.464Z"
   },
   {
    "duration": 228,
    "start_time": "2022-04-25T10:40:00.473Z"
   },
   {
    "duration": 8,
    "start_time": "2022-04-25T10:40:00.703Z"
   },
   {
    "duration": 89,
    "start_time": "2022-04-25T10:40:00.713Z"
   },
   {
    "duration": 91,
    "start_time": "2022-04-25T10:40:00.803Z"
   },
   {
    "duration": 5988,
    "start_time": "2022-04-25T10:40:00.896Z"
   },
   {
    "duration": 12,
    "start_time": "2022-04-25T10:40:06.885Z"
   },
   {
    "duration": 5,
    "start_time": "2022-04-25T10:40:06.898Z"
   },
   {
    "duration": 24,
    "start_time": "2022-04-25T10:40:06.904Z"
   },
   {
    "duration": 1878,
    "start_time": "2022-04-25T10:40:06.930Z"
   },
   {
    "duration": 965,
    "start_time": "2022-04-25T10:40:08.810Z"
   },
   {
    "duration": 7,
    "start_time": "2022-04-25T10:40:09.777Z"
   },
   {
    "duration": 149,
    "start_time": "2022-04-25T10:40:09.785Z"
   },
   {
    "duration": 1757,
    "start_time": "2022-04-25T10:40:09.936Z"
   },
   {
    "duration": 12,
    "start_time": "2022-04-25T10:40:11.695Z"
   },
   {
    "duration": 148,
    "start_time": "2022-04-25T10:40:11.709Z"
   },
   {
    "duration": 2444,
    "start_time": "2022-04-25T10:40:11.858Z"
   },
   {
    "duration": 12,
    "start_time": "2022-04-25T10:40:14.304Z"
   },
   {
    "duration": 161,
    "start_time": "2022-04-25T10:40:14.401Z"
   },
   {
    "duration": 7300,
    "start_time": "2022-04-25T10:40:14.564Z"
   },
   {
    "duration": 8,
    "start_time": "2022-04-25T10:40:21.865Z"
   },
   {
    "duration": 134,
    "start_time": "2022-04-25T10:40:21.874Z"
   },
   {
    "duration": 1299,
    "start_time": "2022-04-25T10:40:22.010Z"
   },
   {
    "duration": 94,
    "start_time": "2022-04-25T10:40:23.310Z"
   },
   {
    "duration": 177,
    "start_time": "2022-04-25T10:40:23.405Z"
   },
   {
    "duration": 10,
    "start_time": "2022-04-25T10:40:23.584Z"
   },
   {
    "duration": 50,
    "start_time": "2022-05-03T18:20:09.378Z"
   },
   {
    "duration": 2285,
    "start_time": "2022-07-10T10:06:45.131Z"
   },
   {
    "duration": 265,
    "start_time": "2022-07-10T10:06:51.050Z"
   },
   {
    "duration": 11,
    "start_time": "2022-07-10T10:06:53.866Z"
   }
  ],
  "kernelspec": {
   "display_name": "Python 3 (ipykernel)",
   "language": "python",
   "name": "python3"
  },
  "language_info": {
   "codemirror_mode": {
    "name": "ipython",
    "version": 3
   },
   "file_extension": ".py",
   "mimetype": "text/x-python",
   "name": "python",
   "nbconvert_exporter": "python",
   "pygments_lexer": "ipython3",
   "version": "3.9.5"
  },
  "toc": {
   "base_numbering": 1,
   "nav_menu": {},
   "number_sections": true,
   "sideBar": true,
   "skip_h1_title": true,
   "title_cell": "Содержание",
   "title_sidebar": "Contents",
   "toc_cell": true,
   "toc_position": {
    "height": "calc(100% - 180px)",
    "left": "10px",
    "top": "150px",
    "width": "245px"
   },
   "toc_section_display": true,
   "toc_window_display": true
  }
 },
 "nbformat": 4,
 "nbformat_minor": 2
}
