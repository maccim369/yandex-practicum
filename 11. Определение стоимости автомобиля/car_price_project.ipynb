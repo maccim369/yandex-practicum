{
 "cells": [
  {
   "cell_type": "markdown",
   "metadata": {},
   "source": [
    "# План работы\n",
    "\n",
    "1. Подготовка данных\n",
    "2. Обучение моделей\n",
    "3. Анализ моделей\n",
    "4. Выводы"
   ]
  },
  {
   "cell_type": "markdown",
   "metadata": {},
   "source": [
    "## Подготовка данных"
   ]
  },
  {
   "cell_type": "markdown",
   "metadata": {},
   "source": [
    "<div style=\"border:solid blue 2px; padding: 20px\">\n",
    "\n",
    "Импортируем библиотеки\n",
    "</div>"
   ]
  },
  {
   "cell_type": "code",
   "execution_count": 1,
   "metadata": {},
   "outputs": [],
   "source": [
    "import pandas as pd\n",
    "import numpy as np\n",
    "import time\n",
    "import warnings\n",
    "from sklearn.model_selection import train_test_split\n",
    "from sklearn.model_selection import GridSearchCV\n",
    "from sklearn.metrics import mean_squared_error\n",
    "from sklearn.tree import DecisionTreeRegressor\n",
    "from sklearn.ensemble import RandomForestRegressor\n",
    "from sklearn.linear_model import LinearRegression\n",
    "from catboost import CatBoostRegressor\n",
    "from lightgbm import LGBMRegressor\n",
    "warnings.filterwarnings('ignore')"
   ]
  },
  {
   "cell_type": "markdown",
   "metadata": {},
   "source": [
    "<div style=\"border:solid blue 2px; padding: 20px\">\n",
    "\n",
    "Откроем и изучим файл\n",
    "    \n",
    "    \n",
    "</div>"
   ]
  },
  {
   "cell_type": "code",
   "execution_count": 2,
   "metadata": {},
   "outputs": [],
   "source": [
    "# чтение файла с данными и сохранение\n",
    "# метод try-except поможет загрузить данные локально или глобально\n",
    "try:\n",
    "    data = pd.read_csv('C:/Users/autos.csv')  # Локальный путь\n",
    "except:\n",
    "    data = pd.read_csv('/datasets/autos.csv')  # Серверный путь"
   ]
  },
  {
   "cell_type": "markdown",
   "metadata": {},
   "source": [
    "<div style=\"border:solid blue 2px; padding: 20px\">\n",
    "    \n",
    "`head()` выводим на экран первые пять строк таблицы:\n",
    "    </div>"
   ]
  },
  {
   "cell_type": "code",
   "execution_count": 3,
   "metadata": {},
   "outputs": [
    {
     "data": {
      "text/html": [
       "<div>\n",
       "<style scoped>\n",
       "    .dataframe tbody tr th:only-of-type {\n",
       "        vertical-align: middle;\n",
       "    }\n",
       "\n",
       "    .dataframe tbody tr th {\n",
       "        vertical-align: top;\n",
       "    }\n",
       "\n",
       "    .dataframe thead th {\n",
       "        text-align: right;\n",
       "    }\n",
       "</style>\n",
       "<table border=\"1\" class=\"dataframe\">\n",
       "  <thead>\n",
       "    <tr style=\"text-align: right;\">\n",
       "      <th></th>\n",
       "      <th>DateCrawled</th>\n",
       "      <th>Price</th>\n",
       "      <th>VehicleType</th>\n",
       "      <th>RegistrationYear</th>\n",
       "      <th>Gearbox</th>\n",
       "      <th>Power</th>\n",
       "      <th>Model</th>\n",
       "      <th>Kilometer</th>\n",
       "      <th>RegistrationMonth</th>\n",
       "      <th>FuelType</th>\n",
       "      <th>Brand</th>\n",
       "      <th>NotRepaired</th>\n",
       "      <th>DateCreated</th>\n",
       "      <th>NumberOfPictures</th>\n",
       "      <th>PostalCode</th>\n",
       "      <th>LastSeen</th>\n",
       "    </tr>\n",
       "  </thead>\n",
       "  <tbody>\n",
       "    <tr>\n",
       "      <th>0</th>\n",
       "      <td>2016-03-24 11:52:17</td>\n",
       "      <td>480</td>\n",
       "      <td>NaN</td>\n",
       "      <td>1993</td>\n",
       "      <td>manual</td>\n",
       "      <td>0</td>\n",
       "      <td>golf</td>\n",
       "      <td>150000</td>\n",
       "      <td>0</td>\n",
       "      <td>petrol</td>\n",
       "      <td>volkswagen</td>\n",
       "      <td>NaN</td>\n",
       "      <td>2016-03-24 00:00:00</td>\n",
       "      <td>0</td>\n",
       "      <td>70435</td>\n",
       "      <td>2016-04-07 03:16:57</td>\n",
       "    </tr>\n",
       "    <tr>\n",
       "      <th>1</th>\n",
       "      <td>2016-03-24 10:58:45</td>\n",
       "      <td>18300</td>\n",
       "      <td>coupe</td>\n",
       "      <td>2011</td>\n",
       "      <td>manual</td>\n",
       "      <td>190</td>\n",
       "      <td>NaN</td>\n",
       "      <td>125000</td>\n",
       "      <td>5</td>\n",
       "      <td>gasoline</td>\n",
       "      <td>audi</td>\n",
       "      <td>yes</td>\n",
       "      <td>2016-03-24 00:00:00</td>\n",
       "      <td>0</td>\n",
       "      <td>66954</td>\n",
       "      <td>2016-04-07 01:46:50</td>\n",
       "    </tr>\n",
       "    <tr>\n",
       "      <th>2</th>\n",
       "      <td>2016-03-14 12:52:21</td>\n",
       "      <td>9800</td>\n",
       "      <td>suv</td>\n",
       "      <td>2004</td>\n",
       "      <td>auto</td>\n",
       "      <td>163</td>\n",
       "      <td>grand</td>\n",
       "      <td>125000</td>\n",
       "      <td>8</td>\n",
       "      <td>gasoline</td>\n",
       "      <td>jeep</td>\n",
       "      <td>NaN</td>\n",
       "      <td>2016-03-14 00:00:00</td>\n",
       "      <td>0</td>\n",
       "      <td>90480</td>\n",
       "      <td>2016-04-05 12:47:46</td>\n",
       "    </tr>\n",
       "    <tr>\n",
       "      <th>3</th>\n",
       "      <td>2016-03-17 16:54:04</td>\n",
       "      <td>1500</td>\n",
       "      <td>small</td>\n",
       "      <td>2001</td>\n",
       "      <td>manual</td>\n",
       "      <td>75</td>\n",
       "      <td>golf</td>\n",
       "      <td>150000</td>\n",
       "      <td>6</td>\n",
       "      <td>petrol</td>\n",
       "      <td>volkswagen</td>\n",
       "      <td>no</td>\n",
       "      <td>2016-03-17 00:00:00</td>\n",
       "      <td>0</td>\n",
       "      <td>91074</td>\n",
       "      <td>2016-03-17 17:40:17</td>\n",
       "    </tr>\n",
       "    <tr>\n",
       "      <th>4</th>\n",
       "      <td>2016-03-31 17:25:20</td>\n",
       "      <td>3600</td>\n",
       "      <td>small</td>\n",
       "      <td>2008</td>\n",
       "      <td>manual</td>\n",
       "      <td>69</td>\n",
       "      <td>fabia</td>\n",
       "      <td>90000</td>\n",
       "      <td>7</td>\n",
       "      <td>gasoline</td>\n",
       "      <td>skoda</td>\n",
       "      <td>no</td>\n",
       "      <td>2016-03-31 00:00:00</td>\n",
       "      <td>0</td>\n",
       "      <td>60437</td>\n",
       "      <td>2016-04-06 10:17:21</td>\n",
       "    </tr>\n",
       "  </tbody>\n",
       "</table>\n",
       "</div>"
      ],
      "text/plain": [
       "           DateCrawled  Price VehicleType  RegistrationYear Gearbox  Power  \\\n",
       "0  2016-03-24 11:52:17    480         NaN              1993  manual      0   \n",
       "1  2016-03-24 10:58:45  18300       coupe              2011  manual    190   \n",
       "2  2016-03-14 12:52:21   9800         suv              2004    auto    163   \n",
       "3  2016-03-17 16:54:04   1500       small              2001  manual     75   \n",
       "4  2016-03-31 17:25:20   3600       small              2008  manual     69   \n",
       "\n",
       "   Model  Kilometer  RegistrationMonth  FuelType       Brand NotRepaired  \\\n",
       "0   golf     150000                  0    petrol  volkswagen         NaN   \n",
       "1    NaN     125000                  5  gasoline        audi         yes   \n",
       "2  grand     125000                  8  gasoline        jeep         NaN   \n",
       "3   golf     150000                  6    petrol  volkswagen          no   \n",
       "4  fabia      90000                  7  gasoline       skoda          no   \n",
       "\n",
       "           DateCreated  NumberOfPictures  PostalCode             LastSeen  \n",
       "0  2016-03-24 00:00:00                 0       70435  2016-04-07 03:16:57  \n",
       "1  2016-03-24 00:00:00                 0       66954  2016-04-07 01:46:50  \n",
       "2  2016-03-14 00:00:00                 0       90480  2016-04-05 12:47:46  \n",
       "3  2016-03-17 00:00:00                 0       91074  2016-03-17 17:40:17  \n",
       "4  2016-03-31 00:00:00                 0       60437  2016-04-06 10:17:21  "
      ]
     },
     "execution_count": 3,
     "metadata": {},
     "output_type": "execute_result"
    }
   ],
   "source": [
    "# получение первых 5 строк таблицы\n",
    "data.head()"
   ]
  },
  {
   "cell_type": "markdown",
   "metadata": {},
   "source": [
    "<div style=\"border:solid blue 2px; padding: 20px\">\n",
    "    \n",
    "Приведём названия в соответствие с хорошим стилем\n",
    "    \n",
    "</div>"
   ]
  },
  {
   "cell_type": "markdown",
   "metadata": {},
   "source": [
    "<div style=\"border:solid blue 2px; padding: 20px\">\n",
    "    \n",
    "Методом `str.lower()` названия столбцов приведем к нижнему регистру.\n",
    "    \n",
    "    \n",
    "</div>"
   ]
  },
  {
   "cell_type": "code",
   "execution_count": 4,
   "metadata": {},
   "outputs": [],
   "source": [
    "# перевод названий к нижнему регистру\n",
    "data.columns = data.columns.str.lower()"
   ]
  },
  {
   "cell_type": "markdown",
   "metadata": {},
   "source": [
    "<div style=\"border:solid blue 2px; padding: 20px\">\n",
    "    \n",
    " \n",
    "Методом `describe()` получим описание данных \n",
    "    \n",
    "    \n",
    "</div> "
   ]
  },
  {
   "cell_type": "code",
   "execution_count": 6,
   "metadata": {
    "scrolled": true
   },
   "outputs": [
    {
     "data": {
      "text/html": [
       "<div>\n",
       "<style scoped>\n",
       "    .dataframe tbody tr th:only-of-type {\n",
       "        vertical-align: middle;\n",
       "    }\n",
       "\n",
       "    .dataframe tbody tr th {\n",
       "        vertical-align: top;\n",
       "    }\n",
       "\n",
       "    .dataframe thead th {\n",
       "        text-align: right;\n",
       "    }\n",
       "</style>\n",
       "<table border=\"1\" class=\"dataframe\">\n",
       "  <thead>\n",
       "    <tr style=\"text-align: right;\">\n",
       "      <th></th>\n",
       "      <th>price</th>\n",
       "      <th>registrationyear</th>\n",
       "      <th>power</th>\n",
       "      <th>kilometer</th>\n",
       "      <th>registrationmonth</th>\n",
       "      <th>numberofpictures</th>\n",
       "      <th>postalcode</th>\n",
       "    </tr>\n",
       "  </thead>\n",
       "  <tbody>\n",
       "    <tr>\n",
       "      <th>count</th>\n",
       "      <td>354369.000000</td>\n",
       "      <td>354369.000000</td>\n",
       "      <td>354369.000000</td>\n",
       "      <td>354369.000000</td>\n",
       "      <td>354369.000000</td>\n",
       "      <td>354369.0</td>\n",
       "      <td>354369.000000</td>\n",
       "    </tr>\n",
       "    <tr>\n",
       "      <th>mean</th>\n",
       "      <td>4416.656776</td>\n",
       "      <td>2004.234448</td>\n",
       "      <td>110.094337</td>\n",
       "      <td>128211.172535</td>\n",
       "      <td>5.714645</td>\n",
       "      <td>0.0</td>\n",
       "      <td>50508.689087</td>\n",
       "    </tr>\n",
       "    <tr>\n",
       "      <th>std</th>\n",
       "      <td>4514.158514</td>\n",
       "      <td>90.227958</td>\n",
       "      <td>189.850405</td>\n",
       "      <td>37905.341530</td>\n",
       "      <td>3.726421</td>\n",
       "      <td>0.0</td>\n",
       "      <td>25783.096248</td>\n",
       "    </tr>\n",
       "    <tr>\n",
       "      <th>min</th>\n",
       "      <td>0.000000</td>\n",
       "      <td>1000.000000</td>\n",
       "      <td>0.000000</td>\n",
       "      <td>5000.000000</td>\n",
       "      <td>0.000000</td>\n",
       "      <td>0.0</td>\n",
       "      <td>1067.000000</td>\n",
       "    </tr>\n",
       "    <tr>\n",
       "      <th>25%</th>\n",
       "      <td>1050.000000</td>\n",
       "      <td>1999.000000</td>\n",
       "      <td>69.000000</td>\n",
       "      <td>125000.000000</td>\n",
       "      <td>3.000000</td>\n",
       "      <td>0.0</td>\n",
       "      <td>30165.000000</td>\n",
       "    </tr>\n",
       "    <tr>\n",
       "      <th>50%</th>\n",
       "      <td>2700.000000</td>\n",
       "      <td>2003.000000</td>\n",
       "      <td>105.000000</td>\n",
       "      <td>150000.000000</td>\n",
       "      <td>6.000000</td>\n",
       "      <td>0.0</td>\n",
       "      <td>49413.000000</td>\n",
       "    </tr>\n",
       "    <tr>\n",
       "      <th>75%</th>\n",
       "      <td>6400.000000</td>\n",
       "      <td>2008.000000</td>\n",
       "      <td>143.000000</td>\n",
       "      <td>150000.000000</td>\n",
       "      <td>9.000000</td>\n",
       "      <td>0.0</td>\n",
       "      <td>71083.000000</td>\n",
       "    </tr>\n",
       "    <tr>\n",
       "      <th>max</th>\n",
       "      <td>20000.000000</td>\n",
       "      <td>9999.000000</td>\n",
       "      <td>20000.000000</td>\n",
       "      <td>150000.000000</td>\n",
       "      <td>12.000000</td>\n",
       "      <td>0.0</td>\n",
       "      <td>99998.000000</td>\n",
       "    </tr>\n",
       "  </tbody>\n",
       "</table>\n",
       "</div>"
      ],
      "text/plain": [
       "               price  registrationyear          power      kilometer  \\\n",
       "count  354369.000000     354369.000000  354369.000000  354369.000000   \n",
       "mean     4416.656776       2004.234448     110.094337  128211.172535   \n",
       "std      4514.158514         90.227958     189.850405   37905.341530   \n",
       "min         0.000000       1000.000000       0.000000    5000.000000   \n",
       "25%      1050.000000       1999.000000      69.000000  125000.000000   \n",
       "50%      2700.000000       2003.000000     105.000000  150000.000000   \n",
       "75%      6400.000000       2008.000000     143.000000  150000.000000   \n",
       "max     20000.000000       9999.000000   20000.000000  150000.000000   \n",
       "\n",
       "       registrationmonth  numberofpictures     postalcode  \n",
       "count      354369.000000          354369.0  354369.000000  \n",
       "mean            5.714645               0.0   50508.689087  \n",
       "std             3.726421               0.0   25783.096248  \n",
       "min             0.000000               0.0    1067.000000  \n",
       "25%             3.000000               0.0   30165.000000  \n",
       "50%             6.000000               0.0   49413.000000  \n",
       "75%             9.000000               0.0   71083.000000  \n",
       "max            12.000000               0.0   99998.000000  "
      ]
     },
     "execution_count": 6,
     "metadata": {},
     "output_type": "execute_result"
    }
   ],
   "source": [
    "# описание данных\n",
    "data.describe()"
   ]
  },
  {
   "cell_type": "markdown",
   "metadata": {},
   "source": [
    "<div style=\"border:solid blue 2px; padding: 20px\">\n",
    "    \n",
    "Методом `drop_duplicates()` удалим строки дубликаты и `reset_index(drop=True)` обновим индексацию.\n",
    "    \n",
    "    \n",
    "</div>"
   ]
  },
  {
   "cell_type": "code",
   "execution_count": 7,
   "metadata": {},
   "outputs": [
    {
     "data": {
      "text/plain": [
       "4"
      ]
     },
     "execution_count": 7,
     "metadata": {},
     "output_type": "execute_result"
    }
   ],
   "source": [
    "data.duplicated().sum()"
   ]
  },
  {
   "cell_type": "code",
   "execution_count": 8,
   "metadata": {},
   "outputs": [],
   "source": [
    "# удаление явных дубликатов (с удалением старых индексов и формированием новых)\n",
    "data = data.drop_duplicates().reset_index(drop=True)"
   ]
  },
  {
   "cell_type": "markdown",
   "metadata": {},
   "source": [
    "<div style=\"border:solid blue 2px; padding: 20px\">\n",
    "    \n",
    " \n",
    "`drop()` удалим лишние столбцы из таблицы \n",
    "    \n",
    "    \n",
    "</div> "
   ]
  },
  {
   "cell_type": "code",
   "execution_count": 9,
   "metadata": {},
   "outputs": [],
   "source": [
    "# удаление столбцов\n",
    "data = data.drop(['datecrawled','gearbox','registrationmonth','fueltype','datecreated','numberofpictures','postalcode','lastseen'],axis = 1)"
   ]
  },
  {
   "cell_type": "markdown",
   "metadata": {},
   "source": [
    "<div style=\"border:solid blue 2px; padding: 20px\">\n",
    "    \n",
    "\n",
    "Методом `fillna()` заменим в `model` и `vehicletype` пропуски `NaN` на `other`\n",
    "\n",
    "    \n",
    "    \n",
    "</div> "
   ]
  },
  {
   "cell_type": "code",
   "execution_count": 10,
   "metadata": {},
   "outputs": [],
   "source": [
    "# замена пропусков в названиях моделей автомобилей\n",
    "data['model'] = data['model'].fillna('other')"
   ]
  },
  {
   "cell_type": "code",
   "execution_count": 11,
   "metadata": {},
   "outputs": [],
   "source": [
    "# замена пропусков в типе автомобильного кузова\n",
    "data['vehicletype'] = data['vehicletype'].fillna('other')"
   ]
  },
  {
   "cell_type": "markdown",
   "metadata": {},
   "source": [
    "<div style=\"border:solid blue 2px; padding: 20px\">\n",
    "    \n",
    "\n",
    "Методом `fillna()` заменим в `notrepaired`  пропуски `NaN` на `no_info`\n",
    "\n",
    "    \n",
    "    \n",
    "</div> "
   ]
  },
  {
   "cell_type": "code",
   "execution_count": 12,
   "metadata": {},
   "outputs": [],
   "source": [
    "# замена пропусков в информации о ремонте\n",
    "data['notrepaired'] = data['notrepaired'].fillna('no_info')"
   ]
  },
  {
   "cell_type": "markdown",
   "metadata": {},
   "source": [
    "<div style=\"border:solid blue 2px; padding: 20px\">\n",
    "\n",
    "### Вывод\n",
    "\n",
    "\n",
    "    \n",
    "    \n",
    "</div> "
   ]
  },
  {
   "cell_type": "markdown",
   "metadata": {},
   "source": [
    "<div style=\"border:solid blue 2px; padding: 20px\">\n",
    "    \n",
    "**Оценка полученных данных**\n",
    "\n",
    "Наблюдения, представленные в таблице описываются количественными и категориальными значениями.\n",
    "    \n",
    "Данные можно использовать для разработки приложения.\n",
    "    \n",
    "    \n",
    "**Таблица `data` (информация об автомобилях)**:\n",
    "    \n",
    "`DateCrawled` — дата скачивания анкеты из базы\n",
    "    \n",
    "`VehicleType` — тип автомобильного кузова\n",
    "    \n",
    "`RegistrationYear` — год регистрации автомобиля\n",
    "    \n",
    "`Gearbox` — тип коробки передач\n",
    "    \n",
    "`Power` — мощность (л. с.)\n",
    "    \n",
    "`Model` — модель автомобиля\n",
    "    \n",
    "`Kilometer` — пробег (км)\n",
    "    \n",
    "`RegistrationMonth` — месяц регистрации автомобиля\n",
    "    \n",
    "`FuelType` — тип топлива\n",
    "    \n",
    "`Brand` — марка автомобиля\n",
    "    \n",
    "`NotRepaired` — была машина в ремонте или нет\n",
    "    \n",
    "`DateCreated` — дата создания анкеты\n",
    "    \n",
    "`NumberOfPictures` — количество фотографий автомобиля\n",
    "    \n",
    "`PostalCode` — почтовый индекс владельца анкеты (пользователя)\n",
    "    \n",
    "`LastSeen` — дата последней активности пользователя\n",
    "\n",
    "    \n",
    "\n",
    "**Количественный** - `Price` — цена (евро) - целевой признак\n",
    "    \n",
    "    \n",
    "\n",
    "Привели названия признаков к хорошему стилю\n",
    "    \n",
    "Удалили строки явные дубликаты\n",
    "    \n",
    "Выбрали из таблицы признаки для обучения моделей\n",
    "\n",
    "Заполнили пропуски в **Категориальных** переменных:\n",
    "    \n",
    "- Пропущенные значения по названиям `model` и типам `vehicletype`:\n",
    "\n",
    "  Причина появления: человеческий фактор. \n",
    "    \n",
    "  Возможно при заполнении информации об  автомобиле этот пункт не указали. \n",
    "    \n",
    "  Можно сделать выбор с помощью выпадающего списка, чтобы устранить пропуски.\n",
    "\n",
    "  Проблему решим заполнением на `other`, потому что они присутствуют в описании данных.\n",
    "    \n",
    "    \n",
    "- Пропущенные значения в информации о ремонте `notrepaired` по аналогии заменили на `no_info`.\n",
    " \n",
    "    \n",
    "</div>"
   ]
  },
  {
   "cell_type": "markdown",
   "metadata": {},
   "source": [
    "## Обучение моделей"
   ]
  },
  {
   "cell_type": "markdown",
   "metadata": {},
   "source": [
    "<div style=\"border:solid blue 2px; padding: 20px\">\n",
    "    \n",
    " \n",
    "`train_test_split()` разделим исходные данные на обучающую, валидационную и тестовую выборки\n",
    "    \n",
    "    \n",
    "</div> "
   ]
  },
  {
   "cell_type": "code",
   "execution_count": 13,
   "metadata": {},
   "outputs": [
    {
     "name": "stdout",
     "output_type": "stream",
     "text": [
      "Объектов обучающей выборки 212619\n"
     ]
    }
   ],
   "source": [
    "# получение обучающей выборки\n",
    "data_train, data_part = train_test_split(data,test_size=0.4,random_state=42)\n",
    "print('Объектов обучающей выборки', data_train.shape[0])"
   ]
  },
  {
   "cell_type": "code",
   "execution_count": 14,
   "metadata": {},
   "outputs": [
    {
     "name": "stdout",
     "output_type": "stream",
     "text": [
      "Объектов валидационной выборки 70873\n",
      "Объектов тестовой выборки 70873\n"
     ]
    }
   ],
   "source": [
    "# получение валидационной и тестовой выборки\n",
    "data_valid, data_test = train_test_split(data_part,test_size=0.5,random_state=42)\n",
    "print('Объектов валидационной выборки', data_valid.shape[0])\n",
    "print('Объектов тестовой выборки', data_test.shape[0])"
   ]
  },
  {
   "cell_type": "markdown",
   "metadata": {},
   "source": [
    "<div style=\"border:solid blue 2px; padding: 20px\">\n",
    "    \n",
    " \n",
    "`select_dtypes()` выделим категориальные признаки\n",
    "    \n",
    "    \n",
    "</div> "
   ]
  },
  {
   "cell_type": "code",
   "execution_count": 15,
   "metadata": {},
   "outputs": [
    {
     "data": {
      "text/plain": [
       "['vehicletype', 'model', 'brand', 'notrepaired']"
      ]
     },
     "execution_count": 15,
     "metadata": {},
     "output_type": "execute_result"
    }
   ],
   "source": [
    "# категориальные признаки\n",
    "cols_cat = data.select_dtypes(exclude='int64').columns\n",
    "cat_features = list(cols_cat)\n",
    "cat_features"
   ]
  },
  {
   "cell_type": "markdown",
   "metadata": {},
   "source": [
    "<div style=\"border:solid blue 2px; padding: 20px\">\n",
    "    \n",
    " \n",
    "Признаки обучающей, валидационной и тестовой выборки сохраним в отдельных переменных \n",
    "    \n",
    "    \n",
    "- `features`\n",
    "    \n",
    "    \n",
    "- `target` - целевой признак\n",
    "    \n",
    "    \n",
    "</div> "
   ]
  },
  {
   "cell_type": "code",
   "execution_count": 16,
   "metadata": {},
   "outputs": [],
   "source": [
    "# сохранение признаков обучающей выбороки в отдельных переменных\n",
    "features_train = data_train.drop(columns=['price'])\n",
    "target_train = data_train['price']"
   ]
  },
  {
   "cell_type": "code",
   "execution_count": 17,
   "metadata": {},
   "outputs": [],
   "source": [
    "# сохранение признаков валидационной выбороки в отдельных переменных\n",
    "features_valid = data_valid.drop(columns=['price'])\n",
    "target_valid = data_valid['price']"
   ]
  },
  {
   "cell_type": "code",
   "execution_count": 18,
   "metadata": {},
   "outputs": [],
   "source": [
    "# сохранение признаков тестовой выбороки в отдельных переменных\n",
    "features_test = data_test.drop(columns=['price'])\n",
    "target_test = data_test['price']"
   ]
  },
  {
   "cell_type": "markdown",
   "metadata": {},
   "source": [
    "<div style=\"border:solid blue 2px; padding: 20px\">\n",
    "    \n",
    "   \n",
    "\n",
    "Преобразуем категориальные признаки прямым кодированием\n",
    "    \n",
    "    \n",
    "</div>"
   ]
  },
  {
   "cell_type": "markdown",
   "metadata": {},
   "source": [
    "<div style=\"border:solid blue 2px; padding: 20px\">\n",
    "    \n",
    "   \n",
    "\n",
    "Функцией `pd.get_dummies()` с аргументом `drop_first=True` исключим попадание \n",
    "    \n",
    "в ловушку фиктивных признаков\n",
    "    \n",
    "Посмотрим данные в случайном порядке, используя метод `sample()`\n",
    "    \n",
    "    \n",
    "</div> "
   ]
  },
  {
   "cell_type": "code",
   "execution_count": 19,
   "metadata": {},
   "outputs": [
    {
     "data": {
      "text/html": [
       "<div>\n",
       "<style scoped>\n",
       "    .dataframe tbody tr th:only-of-type {\n",
       "        vertical-align: middle;\n",
       "    }\n",
       "\n",
       "    .dataframe tbody tr th {\n",
       "        vertical-align: top;\n",
       "    }\n",
       "\n",
       "    .dataframe thead th {\n",
       "        text-align: right;\n",
       "    }\n",
       "</style>\n",
       "<table border=\"1\" class=\"dataframe\">\n",
       "  <thead>\n",
       "    <tr style=\"text-align: right;\">\n",
       "      <th></th>\n",
       "      <th>price</th>\n",
       "      <th>registrationyear</th>\n",
       "      <th>power</th>\n",
       "      <th>kilometer</th>\n",
       "      <th>vehicletype_convertible</th>\n",
       "      <th>vehicletype_coupe</th>\n",
       "      <th>vehicletype_other</th>\n",
       "      <th>vehicletype_sedan</th>\n",
       "      <th>vehicletype_small</th>\n",
       "      <th>vehicletype_suv</th>\n",
       "      <th>...</th>\n",
       "      <th>brand_smart</th>\n",
       "      <th>brand_sonstige_autos</th>\n",
       "      <th>brand_subaru</th>\n",
       "      <th>brand_suzuki</th>\n",
       "      <th>brand_toyota</th>\n",
       "      <th>brand_trabant</th>\n",
       "      <th>brand_volkswagen</th>\n",
       "      <th>brand_volvo</th>\n",
       "      <th>notrepaired_no_info</th>\n",
       "      <th>notrepaired_yes</th>\n",
       "    </tr>\n",
       "  </thead>\n",
       "  <tbody>\n",
       "    <tr>\n",
       "      <th>203230</th>\n",
       "      <td>4900</td>\n",
       "      <td>2009</td>\n",
       "      <td>75</td>\n",
       "      <td>80000</td>\n",
       "      <td>0</td>\n",
       "      <td>0</td>\n",
       "      <td>0</td>\n",
       "      <td>0</td>\n",
       "      <td>1</td>\n",
       "      <td>0</td>\n",
       "      <td>...</td>\n",
       "      <td>0</td>\n",
       "      <td>0</td>\n",
       "      <td>0</td>\n",
       "      <td>0</td>\n",
       "      <td>0</td>\n",
       "      <td>0</td>\n",
       "      <td>0</td>\n",
       "      <td>0</td>\n",
       "      <td>0</td>\n",
       "      <td>0</td>\n",
       "    </tr>\n",
       "    <tr>\n",
       "      <th>257505</th>\n",
       "      <td>1000</td>\n",
       "      <td>2000</td>\n",
       "      <td>75</td>\n",
       "      <td>125000</td>\n",
       "      <td>0</td>\n",
       "      <td>0</td>\n",
       "      <td>0</td>\n",
       "      <td>0</td>\n",
       "      <td>1</td>\n",
       "      <td>0</td>\n",
       "      <td>...</td>\n",
       "      <td>0</td>\n",
       "      <td>0</td>\n",
       "      <td>0</td>\n",
       "      <td>0</td>\n",
       "      <td>0</td>\n",
       "      <td>0</td>\n",
       "      <td>0</td>\n",
       "      <td>0</td>\n",
       "      <td>0</td>\n",
       "      <td>0</td>\n",
       "    </tr>\n",
       "    <tr>\n",
       "      <th>82842</th>\n",
       "      <td>9999</td>\n",
       "      <td>2003</td>\n",
       "      <td>275</td>\n",
       "      <td>150000</td>\n",
       "      <td>0</td>\n",
       "      <td>0</td>\n",
       "      <td>0</td>\n",
       "      <td>1</td>\n",
       "      <td>0</td>\n",
       "      <td>0</td>\n",
       "      <td>...</td>\n",
       "      <td>0</td>\n",
       "      <td>0</td>\n",
       "      <td>0</td>\n",
       "      <td>0</td>\n",
       "      <td>0</td>\n",
       "      <td>0</td>\n",
       "      <td>0</td>\n",
       "      <td>0</td>\n",
       "      <td>0</td>\n",
       "      <td>0</td>\n",
       "    </tr>\n",
       "    <tr>\n",
       "      <th>77276</th>\n",
       "      <td>750</td>\n",
       "      <td>1996</td>\n",
       "      <td>125</td>\n",
       "      <td>150000</td>\n",
       "      <td>0</td>\n",
       "      <td>0</td>\n",
       "      <td>0</td>\n",
       "      <td>0</td>\n",
       "      <td>0</td>\n",
       "      <td>0</td>\n",
       "      <td>...</td>\n",
       "      <td>0</td>\n",
       "      <td>0</td>\n",
       "      <td>0</td>\n",
       "      <td>0</td>\n",
       "      <td>0</td>\n",
       "      <td>0</td>\n",
       "      <td>0</td>\n",
       "      <td>0</td>\n",
       "      <td>0</td>\n",
       "      <td>0</td>\n",
       "    </tr>\n",
       "    <tr>\n",
       "      <th>223006</th>\n",
       "      <td>9900</td>\n",
       "      <td>2009</td>\n",
       "      <td>0</td>\n",
       "      <td>60000</td>\n",
       "      <td>0</td>\n",
       "      <td>0</td>\n",
       "      <td>1</td>\n",
       "      <td>0</td>\n",
       "      <td>0</td>\n",
       "      <td>0</td>\n",
       "      <td>...</td>\n",
       "      <td>0</td>\n",
       "      <td>0</td>\n",
       "      <td>0</td>\n",
       "      <td>0</td>\n",
       "      <td>0</td>\n",
       "      <td>0</td>\n",
       "      <td>0</td>\n",
       "      <td>0</td>\n",
       "      <td>1</td>\n",
       "      <td>0</td>\n",
       "    </tr>\n",
       "  </tbody>\n",
       "</table>\n",
       "<p>5 rows × 301 columns</p>\n",
       "</div>"
      ],
      "text/plain": [
       "        price  registrationyear  power  kilometer  vehicletype_convertible  \\\n",
       "203230   4900              2009     75      80000                        0   \n",
       "257505   1000              2000     75     125000                        0   \n",
       "82842    9999              2003    275     150000                        0   \n",
       "77276     750              1996    125     150000                        0   \n",
       "223006   9900              2009      0      60000                        0   \n",
       "\n",
       "        vehicletype_coupe  vehicletype_other  vehicletype_sedan  \\\n",
       "203230                  0                  0                  0   \n",
       "257505                  0                  0                  0   \n",
       "82842                   0                  0                  1   \n",
       "77276                   0                  0                  0   \n",
       "223006                  0                  1                  0   \n",
       "\n",
       "        vehicletype_small  vehicletype_suv  ...  brand_smart  \\\n",
       "203230                  1                0  ...            0   \n",
       "257505                  1                0  ...            0   \n",
       "82842                   0                0  ...            0   \n",
       "77276                   0                0  ...            0   \n",
       "223006                  0                0  ...            0   \n",
       "\n",
       "        brand_sonstige_autos  brand_subaru  brand_suzuki  brand_toyota  \\\n",
       "203230                     0             0             0             0   \n",
       "257505                     0             0             0             0   \n",
       "82842                      0             0             0             0   \n",
       "77276                      0             0             0             0   \n",
       "223006                     0             0             0             0   \n",
       "\n",
       "        brand_trabant  brand_volkswagen  brand_volvo  notrepaired_no_info  \\\n",
       "203230              0                 0            0                    0   \n",
       "257505              0                 0            0                    0   \n",
       "82842               0                 0            0                    0   \n",
       "77276               0                 0            0                    0   \n",
       "223006              0                 0            0                    1   \n",
       "\n",
       "        notrepaired_yes  \n",
       "203230                0  \n",
       "257505                0  \n",
       "82842                 0  \n",
       "77276                 0  \n",
       "223006                0  \n",
       "\n",
       "[5 rows x 301 columns]"
      ]
     },
     "execution_count": 19,
     "metadata": {},
     "output_type": "execute_result"
    }
   ],
   "source": [
    "# вызов функций\n",
    "data_ohe = pd.get_dummies(data, drop_first=True)\n",
    "data_ohe.sample(5)"
   ]
  },
  {
   "cell_type": "code",
   "execution_count": 20,
   "metadata": {},
   "outputs": [],
   "source": [
    "# признаки\n",
    "features_ohe = data_ohe.drop(['price'], axis = 1)"
   ]
  },
  {
   "cell_type": "code",
   "execution_count": 21,
   "metadata": {},
   "outputs": [],
   "source": [
    "# целевой признак\n",
    "target_ohe = data_ohe['price']"
   ]
  },
  {
   "cell_type": "code",
   "execution_count": 22,
   "metadata": {},
   "outputs": [],
   "source": [
    "# получение обучающей и тестовой выборки\n",
    "features_train_ohe, features_test_ohe, target_train_ohe, target_test_ohe = train_test_split(features_ohe, target_ohe, test_size=.25, random_state=42)"
   ]
  },
  {
   "cell_type": "markdown",
   "metadata": {},
   "source": [
    "<div style=\"border:solid blue 2px; padding: 20px\">\n",
    "    \n",
    " \n",
    "Исследуем качество на модели — решающее дерево.\n",
    "\n",
    "    \n",
    "    \n",
    "</div> "
   ]
  },
  {
   "cell_type": "code",
   "execution_count": 23,
   "metadata": {},
   "outputs": [],
   "source": [
    "tree = DecisionTreeRegressor(random_state=42)"
   ]
  },
  {
   "cell_type": "code",
   "execution_count": 24,
   "metadata": {},
   "outputs": [],
   "source": [
    "parametrs_dtr = {'criterion':['mse'],'max_depth': range(1,10)}"
   ]
  },
  {
   "cell_type": "code",
   "execution_count": 25,
   "metadata": {},
   "outputs": [
    {
     "name": "stdout",
     "output_type": "stream",
     "text": [
      "Модель DecisionTreeRegressor(max_depth=9, random_state=42)\n",
      "Оценка 2183.541703577214\n",
      "Время выполнения ячейки кода: 110.25816226005554\n",
      "CPU times: user 1min 37s, sys: 12.9 s, total: 1min 49s\n",
      "Wall time: 1min 50s\n"
     ]
    }
   ],
   "source": [
    "%%time\n",
    "time_start=time.time()\n",
    "model_dtr = GridSearchCV(tree, parametrs_dtr,scoring='neg_mean_squared_error', cv=5)\n",
    "model_dtr.fit(features_train_ohe, target_train_ohe)\n",
    "print('Модель', model_dtr.best_estimator_)\n",
    "print('Оценка', (model_dtr.best_score_ * -1)**0.5)\n",
    "time_model_dtr=time.time()-time_start\n",
    "print('Время выполнения ячейки кода:',time_model_dtr)"
   ]
  },
  {
   "cell_type": "markdown",
   "metadata": {},
   "source": [
    "<div style=\"border:solid blue 2px; padding: 20px\">\n",
    "    \n",
    " \n",
    "Исследуем качество на модели — случайный лес.\n",
    "    \n",
    "\n",
    "    \n",
    "</div> "
   ]
  },
  {
   "cell_type": "code",
   "execution_count": 26,
   "metadata": {},
   "outputs": [],
   "source": [
    "forest = RandomForestRegressor(random_state=42)"
   ]
  },
  {
   "cell_type": "code",
   "execution_count": 27,
   "metadata": {},
   "outputs": [],
   "source": [
    "parametrs_rfr = {'n_estimators': range (1,5),'max_depth': range (1,5)}"
   ]
  },
  {
   "cell_type": "code",
   "execution_count": 28,
   "metadata": {},
   "outputs": [
    {
     "name": "stdout",
     "output_type": "stream",
     "text": [
      "Модель RandomForestRegressor(max_depth=4, n_estimators=4, random_state=42)\n",
      "Оценка 2697.068085964894\n",
      "Время выполнения ячейки кода: 167.29105305671692\n",
      "CPU times: user 2min 24s, sys: 22.2 s, total: 2min 46s\n",
      "Wall time: 2min 47s\n"
     ]
    }
   ],
   "source": [
    "%%time\n",
    "time_start=time.time()\n",
    "model_rfr = GridSearchCV(forest, parametrs_rfr,scoring='neg_mean_squared_error', cv=5)\n",
    "model_rfr.fit(features_train_ohe, target_train_ohe)\n",
    "print('Модель', model_rfr.best_estimator_)\n",
    "print('Оценка', (model_rfr.best_score_ * -1)**0.5)\n",
    "time_model_rfr=time.time()-time_start\n",
    "print('Время выполнения ячейки кода:',time_model_rfr)"
   ]
  },
  {
   "cell_type": "markdown",
   "metadata": {},
   "source": [
    "<div style=\"border:solid blue 2px; padding: 20px\">\n",
    "    \n",
    " \n",
    "Исследуем качество на модели — линейная регрессия.\n",
    "\n",
    "    \n",
    "    \n",
    "</div> "
   ]
  },
  {
   "cell_type": "code",
   "execution_count": 29,
   "metadata": {},
   "outputs": [],
   "source": [
    "model_lr = LinearRegression()"
   ]
  },
  {
   "cell_type": "code",
   "execution_count": 30,
   "metadata": {},
   "outputs": [],
   "source": [
    "parametrs_lr = {}"
   ]
  },
  {
   "cell_type": "code",
   "execution_count": 31,
   "metadata": {},
   "outputs": [
    {
     "name": "stdout",
     "output_type": "stream",
     "text": [
      "Модель GridSearchCV(cv=5, estimator=LinearRegression(), param_grid={},\n",
      "             scoring='neg_mean_squared_error')\n",
      "Оценка 3324.0259080366595\n",
      "Время выполнения ячейки кода: 142.9731261730194\n",
      "CPU times: user 1min 35s, sys: 47.5 s, total: 2min 22s\n",
      "Wall time: 2min 22s\n"
     ]
    }
   ],
   "source": [
    "%%time\n",
    "time_start=time.time()\n",
    "model_lr = GridSearchCV(model_lr, parametrs_lr,scoring='neg_mean_squared_error', cv=5)\n",
    "model_lr.fit(features_train_ohe,target_train_ohe)\n",
    "print('Модель', model_lr)\n",
    "print('Оценка', (model_lr.best_score_ * -1)**0.5)\n",
    "time_model_lr=time.time()-time_start\n",
    "print('Время выполнения ячейки кода:',time_model_lr)"
   ]
  },
  {
   "cell_type": "markdown",
   "metadata": {},
   "source": [
    "<div style=\"border:solid blue 2px; padding: 20px\">\n",
    "    \n",
    " \n",
    "Исследуем качество на модели — бустинг для категориальных признаков.\n",
    "\n",
    "    \n",
    "    \n",
    "</div> "
   ]
  },
  {
   "cell_type": "code",
   "execution_count": 32,
   "metadata": {},
   "outputs": [],
   "source": [
    "params_crb = {'cat_features': cat_features,\n",
    "          'random_state': 42,\n",
    "          'verbose': 100}"
   ]
  },
  {
   "cell_type": "code",
   "execution_count": 33,
   "metadata": {},
   "outputs": [],
   "source": [
    "model_cbr = CatBoostRegressor(**params_crb)"
   ]
  },
  {
   "cell_type": "code",
   "execution_count": 34,
   "metadata": {
    "scrolled": false
   },
   "outputs": [
    {
     "name": "stdout",
     "output_type": "stream",
     "text": [
      "Learning rate set to 0.118122\n",
      "0:\tlearn: 4183.9034471\ttest: 4189.9311568\tbest: 4189.9311568 (0)\ttotal: 398ms\tremaining: 6m 37s\n",
      "100:\tlearn: 1906.5275937\ttest: 1913.9662493\tbest: 1913.9662493 (100)\ttotal: 17.9s\tremaining: 2m 39s\n",
      "200:\tlearn: 1837.5050575\ttest: 1856.3429142\tbest: 1856.3429142 (200)\ttotal: 34.6s\tremaining: 2m 17s\n",
      "300:\tlearn: 1803.0374188\ttest: 1830.6210664\tbest: 1830.6210664 (300)\ttotal: 49.6s\tremaining: 1m 55s\n",
      "400:\tlearn: 1776.8951104\ttest: 1813.3956210\tbest: 1813.3956210 (400)\ttotal: 1m 4s\tremaining: 1m 36s\n",
      "500:\tlearn: 1756.6025320\ttest: 1802.0063210\tbest: 1802.0063210 (500)\ttotal: 1m 20s\tremaining: 1m 20s\n",
      "600:\tlearn: 1740.6973946\ttest: 1794.0502778\tbest: 1793.9778582 (599)\ttotal: 1m 38s\tremaining: 1m 5s\n",
      "700:\tlearn: 1728.2533555\ttest: 1788.7484632\tbest: 1788.7484632 (700)\ttotal: 1m 54s\tremaining: 48.8s\n",
      "800:\tlearn: 1716.6318596\ttest: 1784.0200009\tbest: 1784.0200009 (800)\ttotal: 2m 10s\tremaining: 32.3s\n",
      "900:\tlearn: 1706.2613487\ttest: 1779.7359963\tbest: 1779.7359963 (900)\ttotal: 2m 28s\tremaining: 16.3s\n",
      "999:\tlearn: 1696.2498897\ttest: 1776.1049932\tbest: 1776.1049932 (999)\ttotal: 2m 43s\tremaining: 0us\n",
      "\n",
      "bestTest = 1776.104993\n",
      "bestIteration = 999\n",
      "\n",
      "Время выполнения ячейки кода: 167.52190113067627\n",
      "CPU times: user 2min 44s, sys: 196 ms, total: 2min 45s\n",
      "Wall time: 2min 47s\n"
     ]
    }
   ],
   "source": [
    "%%time\n",
    "time_start=time.time()\n",
    "model_cbr.fit(features_train,target_train,eval_set=(features_valid,target_valid))\n",
    "time_model_cbr=time.time()-time_start\n",
    "print('Время выполнения ячейки кода:',time_model_cbr)"
   ]
  },
  {
   "cell_type": "code",
   "execution_count": 35,
   "metadata": {
    "scrolled": true
   },
   "outputs": [
    {
     "data": {
      "text/html": [
       "<div>\n",
       "<style scoped>\n",
       "    .dataframe tbody tr th:only-of-type {\n",
       "        vertical-align: middle;\n",
       "    }\n",
       "\n",
       "    .dataframe tbody tr th {\n",
       "        vertical-align: top;\n",
       "    }\n",
       "\n",
       "    .dataframe thead th {\n",
       "        text-align: right;\n",
       "    }\n",
       "</style>\n",
       "<table border=\"1\" class=\"dataframe\">\n",
       "  <thead>\n",
       "    <tr style=\"text-align: right;\">\n",
       "      <th></th>\n",
       "      <th>Feature Id</th>\n",
       "      <th>Importances</th>\n",
       "    </tr>\n",
       "  </thead>\n",
       "  <tbody>\n",
       "    <tr>\n",
       "      <th>0</th>\n",
       "      <td>registrationyear</td>\n",
       "      <td>37.562130</td>\n",
       "    </tr>\n",
       "    <tr>\n",
       "      <th>1</th>\n",
       "      <td>power</td>\n",
       "      <td>23.044510</td>\n",
       "    </tr>\n",
       "    <tr>\n",
       "      <th>2</th>\n",
       "      <td>vehicletype</td>\n",
       "      <td>12.225178</td>\n",
       "    </tr>\n",
       "    <tr>\n",
       "      <th>3</th>\n",
       "      <td>kilometer</td>\n",
       "      <td>10.327596</td>\n",
       "    </tr>\n",
       "    <tr>\n",
       "      <th>4</th>\n",
       "      <td>brand</td>\n",
       "      <td>8.925390</td>\n",
       "    </tr>\n",
       "    <tr>\n",
       "      <th>5</th>\n",
       "      <td>model</td>\n",
       "      <td>4.710669</td>\n",
       "    </tr>\n",
       "    <tr>\n",
       "      <th>6</th>\n",
       "      <td>notrepaired</td>\n",
       "      <td>3.204527</td>\n",
       "    </tr>\n",
       "  </tbody>\n",
       "</table>\n",
       "</div>"
      ],
      "text/plain": [
       "         Feature Id  Importances\n",
       "0  registrationyear    37.562130\n",
       "1             power    23.044510\n",
       "2       vehicletype    12.225178\n",
       "3         kilometer    10.327596\n",
       "4             brand     8.925390\n",
       "5             model     4.710669\n",
       "6       notrepaired     3.204527"
      ]
     },
     "execution_count": 35,
     "metadata": {},
     "output_type": "execute_result"
    }
   ],
   "source": [
    "model_cbr.get_feature_importance(prettified=True)"
   ]
  },
  {
   "cell_type": "markdown",
   "metadata": {},
   "source": [
    "<div style=\"border:solid blue 2px; padding: 20px\">\n",
    "    \n",
    " \n",
    "Исследуем качество на модели — лёгкая машина градиентного бустинга.\n",
    "\n",
    "    \n",
    "    \n",
    "</div> "
   ]
  },
  {
   "cell_type": "code",
   "execution_count": 36,
   "metadata": {},
   "outputs": [],
   "source": [
    "for i in cat_features:\n",
    "    features_train[i] = features_train[i].astype('category')\n",
    "    features_valid[i] = features_valid[i].astype('category')\n",
    "    features_test[i] = features_test[i].astype('category')"
   ]
  },
  {
   "cell_type": "code",
   "execution_count": 37,
   "metadata": {},
   "outputs": [],
   "source": [
    "params_lgbm = {'metric': 'rmse',\n",
    "          'random_state': 42,\n",
    "          'verbose': 100}"
   ]
  },
  {
   "cell_type": "code",
   "execution_count": 38,
   "metadata": {},
   "outputs": [],
   "source": [
    "model_lgbm = LGBMRegressor(**params_lgbm)"
   ]
  },
  {
   "cell_type": "code",
   "execution_count": 39,
   "metadata": {
    "scrolled": false
   },
   "outputs": [
    {
     "name": "stdout",
     "output_type": "stream",
     "text": [
      "[LightGBM] [Debug] Dataset::GetMultiBinFromAllFeatures: sparse rate 0.128987\n",
      "[LightGBM] [Debug] init for col-wise cost 0.003071 seconds, init for row-wise cost 0.108626 seconds\n",
      "[LightGBM] [Warning] Auto-choosing row-wise multi-threading, the overhead of testing was 0.100693 seconds.\n",
      "You can set `force_row_wise=true` to remove the overhead.\n",
      "And if memory is not enough, you can set `force_col_wise=true`.\n",
      "[LightGBM] [Debug] Using Dense Multi-Val Bin\n",
      "[LightGBM] [Info] Total Bins 671\n",
      "[LightGBM] [Info] Number of data points in the train set: 212619, number of used features: 7\n",
      "[LightGBM] [Info] Start training from score 4413.603225\n",
      "[LightGBM] [Debug] Trained a tree with leaves = 31 and depth = 6\n",
      "[1]\tvalid_0's rmse: 4203.86\n",
      "[LightGBM] [Debug] Trained a tree with leaves = 31 and depth = 7\n",
      "[2]\tvalid_0's rmse: 3932.21\n",
      "[LightGBM] [Debug] Trained a tree with leaves = 31 and depth = 8\n",
      "[3]\tvalid_0's rmse: 3688.05\n",
      "[LightGBM] [Debug] Trained a tree with leaves = 31 and depth = 7\n",
      "[4]\tvalid_0's rmse: 3477.7\n",
      "[LightGBM] [Debug] Trained a tree with leaves = 31 and depth = 6\n",
      "[5]\tvalid_0's rmse: 3289.2\n",
      "[LightGBM] [Debug] Trained a tree with leaves = 31 and depth = 9\n",
      "[6]\tvalid_0's rmse: 3125.27\n",
      "[LightGBM] [Debug] Trained a tree with leaves = 31 and depth = 6\n",
      "[7]\tvalid_0's rmse: 2976.25\n",
      "[LightGBM] [Debug] Trained a tree with leaves = 31 and depth = 9\n",
      "[8]\tvalid_0's rmse: 2848.76\n",
      "[LightGBM] [Debug] Trained a tree with leaves = 31 and depth = 7\n",
      "[9]\tvalid_0's rmse: 2732.51\n",
      "[LightGBM] [Debug] Trained a tree with leaves = 31 and depth = 8\n",
      "[10]\tvalid_0's rmse: 2632.29\n",
      "[LightGBM] [Debug] Trained a tree with leaves = 31 and depth = 8\n",
      "[11]\tvalid_0's rmse: 2544.93\n",
      "[LightGBM] [Debug] Trained a tree with leaves = 31 and depth = 9\n",
      "[12]\tvalid_0's rmse: 2466.68\n",
      "[LightGBM] [Debug] Trained a tree with leaves = 31 and depth = 7\n",
      "[13]\tvalid_0's rmse: 2398.16\n",
      "[LightGBM] [Debug] Trained a tree with leaves = 31 and depth = 9\n",
      "[14]\tvalid_0's rmse: 2337.52\n",
      "[LightGBM] [Debug] Trained a tree with leaves = 31 and depth = 9\n",
      "[15]\tvalid_0's rmse: 2284.5\n",
      "[LightGBM] [Debug] Trained a tree with leaves = 31 and depth = 7\n",
      "[16]\tvalid_0's rmse: 2238.62\n",
      "[LightGBM] [Debug] Trained a tree with leaves = 31 and depth = 7\n",
      "[17]\tvalid_0's rmse: 2197.86\n",
      "[LightGBM] [Debug] Trained a tree with leaves = 31 and depth = 8\n",
      "[18]\tvalid_0's rmse: 2161.8\n",
      "[LightGBM] [Debug] Trained a tree with leaves = 31 and depth = 8\n",
      "[19]\tvalid_0's rmse: 2129.18\n",
      "[LightGBM] [Debug] Trained a tree with leaves = 31 and depth = 8\n",
      "[20]\tvalid_0's rmse: 2098.69\n",
      "[LightGBM] [Debug] Trained a tree with leaves = 31 and depth = 7\n",
      "[21]\tvalid_0's rmse: 2072.31\n",
      "[LightGBM] [Debug] Trained a tree with leaves = 31 and depth = 8\n",
      "[22]\tvalid_0's rmse: 2049.38\n",
      "[LightGBM] [Debug] Trained a tree with leaves = 31 and depth = 9\n",
      "[23]\tvalid_0's rmse: 2028.18\n",
      "[LightGBM] [Debug] Trained a tree with leaves = 31 and depth = 8\n",
      "[24]\tvalid_0's rmse: 2010.64\n",
      "[LightGBM] [Debug] Trained a tree with leaves = 31 and depth = 8\n",
      "[25]\tvalid_0's rmse: 1993.1\n",
      "[LightGBM] [Debug] Trained a tree with leaves = 31 and depth = 9\n",
      "[26]\tvalid_0's rmse: 1978.96\n",
      "[LightGBM] [Debug] Trained a tree with leaves = 31 and depth = 8\n",
      "[27]\tvalid_0's rmse: 1965.73\n",
      "[LightGBM] [Debug] Trained a tree with leaves = 31 and depth = 8\n",
      "[28]\tvalid_0's rmse: 1954.25\n",
      "[LightGBM] [Debug] Trained a tree with leaves = 31 and depth = 9\n",
      "[29]\tvalid_0's rmse: 1944.59\n",
      "[LightGBM] [Debug] Trained a tree with leaves = 31 and depth = 8\n",
      "[30]\tvalid_0's rmse: 1935.01\n",
      "[LightGBM] [Debug] Trained a tree with leaves = 31 and depth = 8\n",
      "[31]\tvalid_0's rmse: 1926.65\n",
      "[LightGBM] [Debug] Trained a tree with leaves = 31 and depth = 12\n",
      "[32]\tvalid_0's rmse: 1919.61\n",
      "[LightGBM] [Debug] Trained a tree with leaves = 31 and depth = 9\n",
      "[33]\tvalid_0's rmse: 1912.71\n",
      "[LightGBM] [Debug] Trained a tree with leaves = 31 and depth = 9\n",
      "[34]\tvalid_0's rmse: 1905.52\n",
      "[LightGBM] [Debug] Trained a tree with leaves = 31 and depth = 8\n",
      "[35]\tvalid_0's rmse: 1900.09\n",
      "[LightGBM] [Debug] Trained a tree with leaves = 31 and depth = 9\n",
      "[36]\tvalid_0's rmse: 1894.64\n",
      "[LightGBM] [Debug] Trained a tree with leaves = 31 and depth = 13\n",
      "[37]\tvalid_0's rmse: 1889\n",
      "[LightGBM] [Debug] Trained a tree with leaves = 31 and depth = 11\n",
      "[38]\tvalid_0's rmse: 1884.1\n",
      "[LightGBM] [Debug] Trained a tree with leaves = 31 and depth = 8\n",
      "[39]\tvalid_0's rmse: 1879.8\n",
      "[LightGBM] [Debug] Trained a tree with leaves = 31 and depth = 9\n",
      "[40]\tvalid_0's rmse: 1876.01\n",
      "[LightGBM] [Debug] Trained a tree with leaves = 31 and depth = 10\n",
      "[41]\tvalid_0's rmse: 1871.85\n",
      "[LightGBM] [Debug] Trained a tree with leaves = 31 and depth = 9\n",
      "[42]\tvalid_0's rmse: 1868.63\n",
      "[LightGBM] [Debug] Trained a tree with leaves = 31 and depth = 10\n",
      "[43]\tvalid_0's rmse: 1865.13\n",
      "[LightGBM] [Debug] Trained a tree with leaves = 31 and depth = 12\n",
      "[44]\tvalid_0's rmse: 1862.17\n",
      "[LightGBM] [Debug] Trained a tree with leaves = 31 and depth = 10\n",
      "[45]\tvalid_0's rmse: 1859.34\n",
      "[LightGBM] [Debug] Trained a tree with leaves = 31 and depth = 10\n",
      "[46]\tvalid_0's rmse: 1856.84\n",
      "[LightGBM] [Debug] Trained a tree with leaves = 31 and depth = 10\n",
      "[47]\tvalid_0's rmse: 1854.24\n",
      "[LightGBM] [Debug] Trained a tree with leaves = 31 and depth = 11\n",
      "[48]\tvalid_0's rmse: 1852.07\n",
      "[LightGBM] [Debug] Trained a tree with leaves = 31 and depth = 9\n",
      "[49]\tvalid_0's rmse: 1850.01\n",
      "[LightGBM] [Debug] Trained a tree with leaves = 31 and depth = 10\n",
      "[50]\tvalid_0's rmse: 1848.15\n",
      "[LightGBM] [Debug] Trained a tree with leaves = 31 and depth = 12\n",
      "[51]\tvalid_0's rmse: 1845.83\n",
      "[LightGBM] [Debug] Trained a tree with leaves = 31 and depth = 10\n",
      "[52]\tvalid_0's rmse: 1844.61\n",
      "[LightGBM] [Debug] Trained a tree with leaves = 31 and depth = 10\n",
      "[53]\tvalid_0's rmse: 1842.07\n",
      "[LightGBM] [Debug] Trained a tree with leaves = 31 and depth = 9\n",
      "[54]\tvalid_0's rmse: 1839.42\n",
      "[LightGBM] [Debug] Trained a tree with leaves = 31 and depth = 11\n",
      "[55]\tvalid_0's rmse: 1837.32\n",
      "[LightGBM] [Debug] Trained a tree with leaves = 31 and depth = 8\n",
      "[56]\tvalid_0's rmse: 1836.19\n",
      "[LightGBM] [Debug] Trained a tree with leaves = 31 and depth = 11\n",
      "[57]\tvalid_0's rmse: 1834.61\n",
      "[LightGBM] [Debug] Trained a tree with leaves = 31 and depth = 10\n",
      "[58]\tvalid_0's rmse: 1832.83\n",
      "[LightGBM] [Debug] Trained a tree with leaves = 31 and depth = 9\n",
      "[59]\tvalid_0's rmse: 1831.38\n",
      "[LightGBM] [Debug] Trained a tree with leaves = 31 and depth = 12\n",
      "[60]\tvalid_0's rmse: 1829.36\n",
      "[LightGBM] [Debug] Trained a tree with leaves = 31 and depth = 9\n",
      "[61]\tvalid_0's rmse: 1828.24\n",
      "[LightGBM] [Debug] Trained a tree with leaves = 31 and depth = 11\n",
      "[62]\tvalid_0's rmse: 1827.07\n",
      "[LightGBM] [Debug] Trained a tree with leaves = 31 and depth = 13\n",
      "[63]\tvalid_0's rmse: 1825.51\n",
      "[LightGBM] [Debug] Trained a tree with leaves = 31 and depth = 12\n",
      "[64]\tvalid_0's rmse: 1824.66\n",
      "[LightGBM] [Debug] Trained a tree with leaves = 31 and depth = 10\n",
      "[65]\tvalid_0's rmse: 1823.59\n",
      "[LightGBM] [Debug] Trained a tree with leaves = 31 and depth = 10\n",
      "[66]\tvalid_0's rmse: 1821.94\n",
      "[LightGBM] [Debug] Trained a tree with leaves = 31 and depth = 12\n",
      "[67]\tvalid_0's rmse: 1821.19\n",
      "[LightGBM] [Debug] Trained a tree with leaves = 31 and depth = 12\n",
      "[68]\tvalid_0's rmse: 1819.99\n",
      "[LightGBM] [Debug] Trained a tree with leaves = 31 and depth = 10\n",
      "[69]\tvalid_0's rmse: 1818.91\n",
      "[LightGBM] [Debug] Trained a tree with leaves = 31 and depth = 9\n",
      "[70]\tvalid_0's rmse: 1818.19\n",
      "[LightGBM] [Debug] Trained a tree with leaves = 31 and depth = 11\n",
      "[71]\tvalid_0's rmse: 1817.02\n",
      "[LightGBM] [Debug] Trained a tree with leaves = 31 and depth = 8\n",
      "[72]\tvalid_0's rmse: 1815.85\n",
      "[LightGBM] [Debug] Trained a tree with leaves = 31 and depth = 12\n",
      "[73]\tvalid_0's rmse: 1815.41\n",
      "[LightGBM] [Debug] Trained a tree with leaves = 31 and depth = 10\n",
      "[74]\tvalid_0's rmse: 1814.71\n",
      "[LightGBM] [Debug] Trained a tree with leaves = 31 and depth = 11\n",
      "[75]\tvalid_0's rmse: 1813.98\n",
      "[LightGBM] [Debug] Trained a tree with leaves = 31 and depth = 9\n",
      "[76]\tvalid_0's rmse: 1813.04\n",
      "[LightGBM] [Debug] Trained a tree with leaves = 31 and depth = 10\n",
      "[77]\tvalid_0's rmse: 1812.08\n",
      "[LightGBM] [Debug] Trained a tree with leaves = 31 and depth = 9\n",
      "[78]\tvalid_0's rmse: 1811.41\n",
      "[LightGBM] [Debug] Trained a tree with leaves = 31 and depth = 11\n",
      "[79]\tvalid_0's rmse: 1810.81\n",
      "[LightGBM] [Debug] Trained a tree with leaves = 31 and depth = 11\n",
      "[80]\tvalid_0's rmse: 1810.13\n",
      "[LightGBM] [Debug] Trained a tree with leaves = 31 and depth = 10\n",
      "[81]\tvalid_0's rmse: 1808.91\n",
      "[LightGBM] [Debug] Trained a tree with leaves = 31 and depth = 9\n",
      "[82]\tvalid_0's rmse: 1807.94\n",
      "[LightGBM] [Debug] Trained a tree with leaves = 31 and depth = 10\n",
      "[83]\tvalid_0's rmse: 1807.18\n",
      "[LightGBM] [Debug] Trained a tree with leaves = 31 and depth = 12\n",
      "[84]\tvalid_0's rmse: 1806.65\n",
      "[LightGBM] [Debug] Trained a tree with leaves = 31 and depth = 10\n",
      "[85]\tvalid_0's rmse: 1806.12\n",
      "[LightGBM] [Debug] Trained a tree with leaves = 31 and depth = 10\n",
      "[86]\tvalid_0's rmse: 1805.8\n",
      "[LightGBM] [Debug] Trained a tree with leaves = 31 and depth = 9\n",
      "[87]\tvalid_0's rmse: 1805\n",
      "[LightGBM] [Debug] Trained a tree with leaves = 31 and depth = 10\n",
      "[88]\tvalid_0's rmse: 1804.61\n",
      "[LightGBM] [Debug] Trained a tree with leaves = 31 and depth = 9\n",
      "[89]\tvalid_0's rmse: 1804.02\n",
      "[LightGBM] [Debug] Trained a tree with leaves = 31 and depth = 11\n",
      "[90]\tvalid_0's rmse: 1803.45\n",
      "[LightGBM] [Debug] Trained a tree with leaves = 31 and depth = 12\n",
      "[91]\tvalid_0's rmse: 1802.2\n",
      "[LightGBM] [Debug] Trained a tree with leaves = 31 and depth = 9\n",
      "[92]\tvalid_0's rmse: 1801.98\n",
      "[LightGBM] [Debug] Trained a tree with leaves = 31 and depth = 12\n",
      "[93]\tvalid_0's rmse: 1801.61\n",
      "[LightGBM] [Debug] Trained a tree with leaves = 31 and depth = 10\n",
      "[94]\tvalid_0's rmse: 1800.9\n",
      "[LightGBM] [Debug] Trained a tree with leaves = 31 and depth = 9\n",
      "[95]\tvalid_0's rmse: 1799.85\n",
      "[LightGBM] [Debug] Trained a tree with leaves = 31 and depth = 10\n",
      "[96]\tvalid_0's rmse: 1799.34\n",
      "[LightGBM] [Debug] Trained a tree with leaves = 31 and depth = 10\n",
      "[97]\tvalid_0's rmse: 1798.73\n",
      "[LightGBM] [Debug] Trained a tree with leaves = 31 and depth = 13\n",
      "[98]\tvalid_0's rmse: 1797.96\n",
      "[LightGBM] [Debug] Trained a tree with leaves = 31 and depth = 15\n",
      "[99]\tvalid_0's rmse: 1797.29\n",
      "[LightGBM] [Debug] Trained a tree with leaves = 31 and depth = 10\n",
      "[100]\tvalid_0's rmse: 1796.62\n",
      "Время выполнения ячейки кода: 368.7363941669464\n",
      "CPU times: user 5min 56s, sys: 8.85 s, total: 6min 5s\n",
      "Wall time: 6min 8s\n"
     ]
    }
   ],
   "source": [
    "%%time\n",
    "time_start=time.time()\n",
    "model_lgbm.fit(features_train,target_train, eval_set=[(features_valid, target_valid)])\n",
    "time_model_lgbm=time.time()-time_start\n",
    "print('Время выполнения ячейки кода:',time_model_lgbm)"
   ]
  },
  {
   "cell_type": "markdown",
   "metadata": {},
   "source": [
    "<div style=\"border:solid blue 2px; padding: 20px\">\n",
    "\n",
    "### Вывод\n",
    "\n",
    "\n",
    "    \n",
    "    \n",
    "</div> "
   ]
  },
  {
   "cell_type": "markdown",
   "metadata": {},
   "source": [
    "<div style=\"border:solid blue 2px; padding: 20px\">\n",
    "    \n",
    " \n",
    "`RSME` для моделей на валидации\n",
    "    \n",
    "    \n",
    "    \n",
    "- `DecisionTreeRegressor` - `2183.541`\n",
    "    \n",
    "    \n",
    "- `RandomForestRegressor` - `2697.068`\n",
    "    \n",
    "    \n",
    "- `LinearRegression` - `3324.025` \n",
    "    \n",
    "    \n",
    "- `CatBoostRegressor` - `1776.10`\n",
    "    \n",
    "    \n",
    "- `LGBMRegressor` - `1796.62`\n",
    "\n",
    "    \n",
    "    \n",
    "</div> "
   ]
  },
  {
   "cell_type": "markdown",
   "metadata": {},
   "source": [
    "## Анализ моделей"
   ]
  },
  {
   "cell_type": "code",
   "execution_count": 40,
   "metadata": {},
   "outputs": [
    {
     "name": "stdout",
     "output_type": "stream",
     "text": [
      "Время выполнения ячейки кода: 0.21976304054260254\n",
      "Средняя предсказанная стоимость : 4435.24637751906\n",
      "RMSE модели DecisionTreeRegressor на тестовой выборке: 2187.7734007993563\n",
      "CPU times: user 60.5 ms, sys: 92.2 ms, total: 153 ms\n",
      "Wall time: 221 ms\n"
     ]
    }
   ],
   "source": [
    "%%time\n",
    "time_start=time.time()\n",
    "predictions_dtr_test = model_dtr.predict(features_test_ohe) # предсказание модели DecisionTreeRegressor\n",
    "time_predict_model_dtr=time.time()-time_start\n",
    "rmse_dtr_test = mean_squared_error(target_test_ohe, predictions_dtr_test)**0.5\n",
    "print('Время выполнения ячейки кода:',time_predict_model_dtr)\n",
    "print('Средняя предсказанная стоимость :', predictions_dtr_test.mean())\n",
    "print('RMSE модели DecisionTreeRegressor на тестовой выборке:', rmse_dtr_test)"
   ]
  },
  {
   "cell_type": "code",
   "execution_count": 42,
   "metadata": {
    "scrolled": true
   },
   "outputs": [
    {
     "name": "stdout",
     "output_type": "stream",
     "text": [
      "Время выполнения ячейки кода: 0.15121722221374512\n",
      "Средняя предсказанная стоимость : 4431.012712231336\n",
      "RMSE модели RandomForestRegressor на тестовой выборке: 2689.7369026179\n",
      "CPU times: user 59.9 ms, sys: 95.8 ms, total: 156 ms\n",
      "Wall time: 153 ms\n"
     ]
    }
   ],
   "source": [
    "%%time\n",
    "time_start=time.time()\n",
    "predictions_rfr_test = model_rfr.predict(features_test_ohe) # предсказание модели RandomForestRegressor\n",
    "time_predict_model_rfr=time.time()-time_start               \n",
    "rmse_rfr_test = mean_squared_error(target_test_ohe, predictions_rfr_test)**0.5\n",
    "print('Время выполнения ячейки кода:',time_predict_model_rfr)\n",
    "print('Средняя предсказанная стоимость :', predictions_rfr_test.mean())\n",
    "print('RMSE модели RandomForestRegressor на тестовой выборке:', rmse_rfr_test)"
   ]
  },
  {
   "cell_type": "code",
   "execution_count": 44,
   "metadata": {},
   "outputs": [
    {
     "name": "stdout",
     "output_type": "stream",
     "text": [
      "Время выполнения ячейки кода: 0.2313709259033203\n",
      "Средняя предсказанная стоимость : 4411.525934935162\n",
      "RMSE модели LinearRegression на тестовой выборке: 3335.6380474607017\n",
      "CPU times: user 140 ms, sys: 153 ms, total: 294 ms\n",
      "Wall time: 295 ms\n"
     ]
    }
   ],
   "source": [
    "%%time\n",
    "time_start=time.time()\n",
    "predictions_lr_test = model_lr.predict(features_test_ohe) # предсказание модели LinearRegression\n",
    "time_predict_model_lr=time.time()-time_start\n",
    "rmse_lr_test = mean_squared_error(target_test_ohe, predictions_lr_test)**0.5\n",
    "print('Время выполнения ячейки кода:',time_predict_model_lr)\n",
    "print('Средняя предсказанная стоимость :', predictions_lr_test.mean())\n",
    "print('RMSE модели LinearRegression на тестовой выборке:', rmse_lr_test)"
   ]
  },
  {
   "cell_type": "code",
   "execution_count": 43,
   "metadata": {},
   "outputs": [
    {
     "name": "stdout",
     "output_type": "stream",
     "text": [
      "Время выполнения ячейки кода: 0.5853285789489746\n",
      "Средняя предсказанная стоимость : 4427.627647566589\n",
      "RMSE модели CatBoostRegressor на тестовой выборке: 1782.234391120391\n",
      "CPU times: user 587 ms, sys: 1.37 ms, total: 589 ms\n",
      "Wall time: 587 ms\n"
     ]
    }
   ],
   "source": [
    "%%time\n",
    "time_start=time.time()\n",
    "predictions_cbr_test = model_cbr.predict(features_test) # предсказание модели CatBoostRegressor\n",
    "time_predict_model_cbr=time.time()-time_start\n",
    "rmse_cbr_test = mean_squared_error(target_test, predictions_cbr_test)**0.5\n",
    "print('Время выполнения ячейки кода:',time_predict_model_cbr)\n",
    "print('Средняя предсказанная стоимость :', predictions_cbr_test.mean())\n",
    "print('RMSE модели CatBoostRegressor на тестовой выборке:', rmse_cbr_test)"
   ]
  },
  {
   "cell_type": "code",
   "execution_count": 45,
   "metadata": {},
   "outputs": [
    {
     "name": "stdout",
     "output_type": "stream",
     "text": [
      "Время выполнения ячейки кода: 0.6604843139648438\n",
      "Средняя предсказанная стоимость : 4425.224546572326\n",
      "RMSE модели LGBMRegressor на тестовой выборке: 1799.2355366929091\n",
      "CPU times: user 727 ms, sys: 0 ns, total: 727 ms\n",
      "Wall time: 663 ms\n"
     ]
    }
   ],
   "source": [
    "%%time\n",
    "time_start=time.time()\n",
    "predictions_lgbm_test = model_lgbm.predict(features_test) # предсказание модели LGBMRegressor\n",
    "time_predict_model_lgbm=time.time()-time_start\n",
    "rmse_lgbm_test = mean_squared_error(target_test, predictions_lgbm_test)**0.5\n",
    "print('Время выполнения ячейки кода:',time_predict_model_lgbm)\n",
    "print('Средняя предсказанная стоимость :', predictions_lgbm_test.mean())\n",
    "print('RMSE модели LGBMRegressor на тестовой выборке:', rmse_lgbm_test)"
   ]
  },
  {
   "cell_type": "code",
   "execution_count": 47,
   "metadata": {
    "scrolled": true
   },
   "outputs": [
    {
     "data": {
      "text/html": [
       "<div>\n",
       "<style scoped>\n",
       "    .dataframe tbody tr th:only-of-type {\n",
       "        vertical-align: middle;\n",
       "    }\n",
       "\n",
       "    .dataframe tbody tr th {\n",
       "        vertical-align: top;\n",
       "    }\n",
       "\n",
       "    .dataframe thead th {\n",
       "        text-align: right;\n",
       "    }\n",
       "</style>\n",
       "<table border=\"1\" class=\"dataframe\">\n",
       "  <thead>\n",
       "    <tr style=\"text-align: right;\">\n",
       "      <th></th>\n",
       "      <th>model</th>\n",
       "      <th>time_model_fit</th>\n",
       "      <th>time_model_predict</th>\n",
       "      <th>rmse_model</th>\n",
       "    </tr>\n",
       "  </thead>\n",
       "  <tbody>\n",
       "    <tr>\n",
       "      <th>3</th>\n",
       "      <td>CatBoostRegressor</td>\n",
       "      <td>167.521901</td>\n",
       "      <td>0.585329</td>\n",
       "      <td>1782.234391</td>\n",
       "    </tr>\n",
       "    <tr>\n",
       "      <th>4</th>\n",
       "      <td>LGBMRegressor</td>\n",
       "      <td>368.736394</td>\n",
       "      <td>0.660484</td>\n",
       "      <td>1799.235537</td>\n",
       "    </tr>\n",
       "    <tr>\n",
       "      <th>0</th>\n",
       "      <td>DecisionTreeRegressor</td>\n",
       "      <td>110.258162</td>\n",
       "      <td>0.219763</td>\n",
       "      <td>2187.773401</td>\n",
       "    </tr>\n",
       "    <tr>\n",
       "      <th>1</th>\n",
       "      <td>RandomForestRegressor</td>\n",
       "      <td>167.291053</td>\n",
       "      <td>0.151217</td>\n",
       "      <td>2689.736903</td>\n",
       "    </tr>\n",
       "    <tr>\n",
       "      <th>2</th>\n",
       "      <td>LinearRegression</td>\n",
       "      <td>142.973126</td>\n",
       "      <td>0.231371</td>\n",
       "      <td>3335.638047</td>\n",
       "    </tr>\n",
       "  </tbody>\n",
       "</table>\n",
       "</div>"
      ],
      "text/plain": [
       "                   model  time_model_fit  time_model_predict   rmse_model\n",
       "3      CatBoostRegressor      167.521901            0.585329  1782.234391\n",
       "4          LGBMRegressor      368.736394            0.660484  1799.235537\n",
       "0  DecisionTreeRegressor      110.258162            0.219763  2187.773401\n",
       "1  RandomForestRegressor      167.291053            0.151217  2689.736903\n",
       "2       LinearRegression      142.973126            0.231371  3335.638047"
      ]
     },
     "execution_count": 47,
     "metadata": {},
     "output_type": "execute_result"
    }
   ],
   "source": [
    "# таблица времени обучения моделей\n",
    "d = {'model': ['DecisionTreeRegressor','RandomForestRegressor','LinearRegression','CatBoostRegressor','LGBMRegressor'],\n",
    "     'time_model_fit': [time_model_dtr,time_model_rfr,time_model_lr,time_model_cbr,time_model_lgbm],\n",
    "     'time_model_predict': [time_predict_model_dtr,time_predict_model_rfr,time_predict_model_lr,time_predict_model_cbr,time_predict_model_lgbm],\n",
    "     'rmse_model': [rmse_dtr_test,rmse_rfr_test,rmse_lr_test,rmse_cbr_test,rmse_lgbm_test]\n",
    "    }\n",
    "df = pd.DataFrame(data=d)\n",
    "df.sort_values(by='rmse_model')"
   ]
  },
  {
   "cell_type": "markdown",
   "metadata": {},
   "source": [
    "<div style=\"border:solid blue 2px; padding: 20px\">\n",
    "\n",
    "### Вывод\n",
    "\n",
    "\n",
    "    \n",
    "    \n",
    "</div> "
   ]
  },
  {
   "cell_type": "markdown",
   "metadata": {},
   "source": [
    "<div style=\"border:solid blue 2px; padding: 20px\">\n",
    "    \n",
    "Заказчику важны:\n",
    "\n",
    "* качество предсказания;\n",
    "* скорость предсказания;\n",
    "* время обучения. \n",
    "    \n",
    "`rmse_model` для модели `CatBoostRegressor` на тестовой выборке `1782.234`\n",
    "    \n",
    "`time_model_predict\t` время предсказания для модели `CatBoostRegressor` составляет `0.585`    \n",
    "\n",
    "`time_model_fit` время обучения для модели `CatBoostRegressor` составляет `167`\n",
    "\n",
    "Сервис по продаже автомобилей с пробегом «Не бит, не крашен»\n",
    "    \n",
    "в процессе разработки приложение для привлечения новых клиентов\n",
    "    \n",
    "может применять модель `CatBoostRegressor`.\n",
    "    \n",
    "В нём можно будет быстро и объективно узнать рыночную стоимость своего автомобиля.\n",
    "    \n",
    "\n",
    "    \n",
    "</div> "
   ]
  }
 ],
 "metadata": {
  "ExecuteTimeLog": [
   {
    "duration": 47,
    "start_time": "2022-04-17T15:27:56.393Z"
   },
   {
    "duration": 4,
    "start_time": "2022-04-17T15:28:26.159Z"
   },
   {
    "duration": 1117,
    "start_time": "2022-04-17T15:28:26.165Z"
   },
   {
    "duration": 939,
    "start_time": "2022-04-17T15:28:27.284Z"
   },
   {
    "duration": 19,
    "start_time": "2022-04-17T15:28:28.225Z"
   },
   {
    "duration": 132,
    "start_time": "2022-04-17T15:29:55.074Z"
   },
   {
    "duration": 97,
    "start_time": "2022-04-17T15:30:47.676Z"
   },
   {
    "duration": 459,
    "start_time": "2022-04-17T15:39:05.121Z"
   },
   {
    "duration": 444,
    "start_time": "2022-04-17T15:39:33.020Z"
   },
   {
    "duration": 451,
    "start_time": "2022-04-17T15:39:55.073Z"
   },
   {
    "duration": 527,
    "start_time": "2022-04-17T15:40:01.132Z"
   },
   {
    "duration": 572,
    "start_time": "2022-04-17T15:40:40.165Z"
   },
   {
    "duration": 449,
    "start_time": "2022-04-17T15:40:59.248Z"
   },
   {
    "duration": 473,
    "start_time": "2022-04-17T15:41:05.313Z"
   },
   {
    "duration": 472,
    "start_time": "2022-04-17T15:41:15.152Z"
   },
   {
    "duration": 468,
    "start_time": "2022-04-17T15:41:18.392Z"
   },
   {
    "duration": 460,
    "start_time": "2022-04-17T15:42:30.512Z"
   },
   {
    "duration": 473,
    "start_time": "2022-04-17T15:43:30.681Z"
   },
   {
    "duration": 9,
    "start_time": "2022-04-17T18:16:25.001Z"
   },
   {
    "duration": 4,
    "start_time": "2022-04-17T18:16:33.384Z"
   },
   {
    "duration": 123,
    "start_time": "2022-04-17T18:16:55.422Z"
   },
   {
    "duration": 5,
    "start_time": "2022-04-17T18:25:45.103Z"
   },
   {
    "duration": 5,
    "start_time": "2022-04-17T18:26:20.305Z"
   },
   {
    "duration": 12,
    "start_time": "2022-04-17T18:26:35.882Z"
   },
   {
    "duration": 5,
    "start_time": "2022-04-17T18:27:54.152Z"
   },
   {
    "duration": 4,
    "start_time": "2022-04-17T18:28:07.424Z"
   },
   {
    "duration": 9,
    "start_time": "2022-04-17T18:28:17.148Z"
   },
   {
    "duration": 5,
    "start_time": "2022-04-17T18:28:35.284Z"
   },
   {
    "duration": 6,
    "start_time": "2022-04-17T18:28:40.053Z"
   },
   {
    "duration": 4,
    "start_time": "2022-04-17T18:37:08.470Z"
   },
   {
    "duration": 1115,
    "start_time": "2022-04-17T18:37:08.475Z"
   },
   {
    "duration": 853,
    "start_time": "2022-04-17T18:37:09.592Z"
   },
   {
    "duration": 27,
    "start_time": "2022-04-17T18:37:10.447Z"
   },
   {
    "duration": 137,
    "start_time": "2022-04-17T18:37:10.476Z"
   },
   {
    "duration": 107,
    "start_time": "2022-04-17T18:37:10.615Z"
   },
   {
    "duration": 3,
    "start_time": "2022-04-17T18:37:10.724Z"
   },
   {
    "duration": 6,
    "start_time": "2022-04-17T18:37:10.729Z"
   },
   {
    "duration": 472,
    "start_time": "2022-04-17T18:37:10.737Z"
   },
   {
    "duration": 2,
    "start_time": "2022-04-17T18:37:11.211Z"
   },
   {
    "duration": 7,
    "start_time": "2022-04-17T18:37:11.215Z"
   },
   {
    "duration": 130,
    "start_time": "2022-04-17T18:37:11.224Z"
   },
   {
    "duration": 126,
    "start_time": "2022-04-17T18:39:23.282Z"
   },
   {
    "duration": 130,
    "start_time": "2022-04-17T18:41:22.281Z"
   },
   {
    "duration": 11,
    "start_time": "2022-04-17T18:41:40.862Z"
   },
   {
    "duration": 3,
    "start_time": "2022-04-17T18:41:51.582Z"
   },
   {
    "duration": 4,
    "start_time": "2022-04-17T18:41:58.310Z"
   },
   {
    "duration": 21,
    "start_time": "2022-04-17T18:42:16.303Z"
   },
   {
    "duration": 194,
    "start_time": "2022-04-17T18:43:29.943Z"
   },
   {
    "duration": 241,
    "start_time": "2022-04-17T18:43:44.222Z"
   },
   {
    "duration": 224,
    "start_time": "2022-04-17T18:43:52.562Z"
   },
   {
    "duration": 230,
    "start_time": "2022-04-17T18:44:00.231Z"
   },
   {
    "duration": 273,
    "start_time": "2022-04-17T18:44:11.065Z"
   },
   {
    "duration": 282,
    "start_time": "2022-04-17T18:44:23.662Z"
   },
   {
    "duration": 268,
    "start_time": "2022-04-17T18:44:41.341Z"
   },
   {
    "duration": 271,
    "start_time": "2022-04-17T18:44:58.143Z"
   },
   {
    "duration": 40,
    "start_time": "2022-04-17T18:57:28.064Z"
   },
   {
    "duration": 47,
    "start_time": "2022-04-17T18:58:17.913Z"
   },
   {
    "duration": 21,
    "start_time": "2022-04-17T19:00:16.472Z"
   },
   {
    "duration": 4,
    "start_time": "2022-04-17T19:00:51.880Z"
   },
   {
    "duration": 4,
    "start_time": "2022-04-17T19:01:06.962Z"
   },
   {
    "duration": 35,
    "start_time": "2022-04-17T19:01:45.803Z"
   },
   {
    "duration": 4,
    "start_time": "2022-04-17T19:02:18.893Z"
   },
   {
    "duration": 4,
    "start_time": "2022-04-17T19:02:34.771Z"
   },
   {
    "duration": 1123,
    "start_time": "2022-04-17T19:02:34.785Z"
   },
   {
    "duration": 895,
    "start_time": "2022-04-17T19:02:35.910Z"
   },
   {
    "duration": 19,
    "start_time": "2022-04-17T19:02:36.807Z"
   },
   {
    "duration": 145,
    "start_time": "2022-04-17T19:02:36.828Z"
   },
   {
    "duration": 107,
    "start_time": "2022-04-17T19:02:36.975Z"
   },
   {
    "duration": 3,
    "start_time": "2022-04-17T19:02:37.084Z"
   },
   {
    "duration": 10,
    "start_time": "2022-04-17T19:02:37.089Z"
   },
   {
    "duration": 509,
    "start_time": "2022-04-17T19:02:37.101Z"
   },
   {
    "duration": 3,
    "start_time": "2022-04-17T19:02:37.612Z"
   },
   {
    "duration": 12,
    "start_time": "2022-04-17T19:02:37.618Z"
   },
   {
    "duration": 142,
    "start_time": "2022-04-17T19:02:37.632Z"
   },
   {
    "duration": 135,
    "start_time": "2022-04-17T19:02:37.776Z"
   },
   {
    "duration": 146,
    "start_time": "2022-04-17T19:02:37.914Z"
   },
   {
    "duration": 13,
    "start_time": "2022-04-17T19:02:38.062Z"
   },
   {
    "duration": 4,
    "start_time": "2022-04-17T19:02:38.077Z"
   },
   {
    "duration": 28,
    "start_time": "2022-04-17T19:02:38.082Z"
   },
   {
    "duration": 205,
    "start_time": "2022-04-17T19:02:38.112Z"
   },
   {
    "duration": 257,
    "start_time": "2022-04-17T19:02:38.318Z"
   },
   {
    "duration": 229,
    "start_time": "2022-04-17T19:02:38.576Z"
   },
   {
    "duration": 227,
    "start_time": "2022-04-17T19:02:38.807Z"
   },
   {
    "duration": 283,
    "start_time": "2022-04-17T19:02:39.035Z"
   },
   {
    "duration": 43,
    "start_time": "2022-04-17T19:02:39.319Z"
   },
   {
    "duration": 4,
    "start_time": "2022-04-17T19:02:39.373Z"
   },
   {
    "duration": 54,
    "start_time": "2022-04-17T19:02:39.378Z"
   },
   {
    "duration": 52,
    "start_time": "2022-04-17T19:02:39.433Z"
   },
   {
    "duration": 4,
    "start_time": "2022-04-17T19:02:39.486Z"
   },
   {
    "duration": 22,
    "start_time": "2022-04-17T19:02:39.491Z"
   },
   {
    "duration": 42,
    "start_time": "2022-04-17T19:02:39.516Z"
   },
   {
    "duration": 126,
    "start_time": "2022-04-17T19:03:38.983Z"
   },
   {
    "duration": 101,
    "start_time": "2022-04-17T19:07:10.840Z"
   },
   {
    "duration": 43,
    "start_time": "2022-04-17T19:07:50.386Z"
   },
   {
    "duration": 48,
    "start_time": "2022-04-17T19:09:24.889Z"
   },
   {
    "duration": 68,
    "start_time": "2022-04-17T19:10:15.797Z"
   },
   {
    "duration": 54,
    "start_time": "2022-04-17T19:13:36.995Z"
   },
   {
    "duration": 53,
    "start_time": "2022-04-17T19:13:46.928Z"
   },
   {
    "duration": 54,
    "start_time": "2022-04-17T19:14:08.937Z"
   },
   {
    "duration": 50,
    "start_time": "2022-04-17T19:14:55.959Z"
   },
   {
    "duration": 24,
    "start_time": "2022-04-17T19:17:19.048Z"
   },
   {
    "duration": 22,
    "start_time": "2022-04-17T19:18:03.785Z"
   },
   {
    "duration": 51,
    "start_time": "2022-04-17T19:18:42.604Z"
   },
   {
    "duration": 24,
    "start_time": "2022-04-17T19:41:15.978Z"
   },
   {
    "duration": 21,
    "start_time": "2022-04-17T19:42:30.210Z"
   },
   {
    "duration": 3,
    "start_time": "2022-04-17T19:46:00.769Z"
   },
   {
    "duration": 1133,
    "start_time": "2022-04-17T19:46:00.774Z"
   },
   {
    "duration": 932,
    "start_time": "2022-04-17T19:46:01.909Z"
   },
   {
    "duration": 20,
    "start_time": "2022-04-17T19:46:02.842Z"
   },
   {
    "duration": 141,
    "start_time": "2022-04-17T19:46:02.872Z"
   },
   {
    "duration": 116,
    "start_time": "2022-04-17T19:46:03.014Z"
   },
   {
    "duration": 3,
    "start_time": "2022-04-17T19:46:03.132Z"
   },
   {
    "duration": 16,
    "start_time": "2022-04-17T19:46:03.136Z"
   },
   {
    "duration": 481,
    "start_time": "2022-04-17T19:46:03.154Z"
   },
   {
    "duration": 2,
    "start_time": "2022-04-17T19:46:03.637Z"
   },
   {
    "duration": 6,
    "start_time": "2022-04-17T19:46:03.641Z"
   },
   {
    "duration": 137,
    "start_time": "2022-04-17T19:46:03.648Z"
   },
   {
    "duration": 134,
    "start_time": "2022-04-17T19:46:03.787Z"
   },
   {
    "duration": 135,
    "start_time": "2022-04-17T19:46:03.924Z"
   },
   {
    "duration": 20,
    "start_time": "2022-04-17T19:46:04.061Z"
   },
   {
    "duration": 5,
    "start_time": "2022-04-17T19:46:04.083Z"
   },
   {
    "duration": 26,
    "start_time": "2022-04-17T19:46:04.090Z"
   },
   {
    "duration": 215,
    "start_time": "2022-04-17T19:46:04.117Z"
   },
   {
    "duration": 262,
    "start_time": "2022-04-17T19:46:04.333Z"
   },
   {
    "duration": 231,
    "start_time": "2022-04-17T19:46:04.597Z"
   },
   {
    "duration": 235,
    "start_time": "2022-04-17T19:46:04.830Z"
   },
   {
    "duration": 287,
    "start_time": "2022-04-17T19:46:05.067Z"
   },
   {
    "duration": 23,
    "start_time": "2022-04-17T19:46:05.355Z"
   },
   {
    "duration": 19,
    "start_time": "2022-04-17T19:46:05.380Z"
   },
   {
    "duration": 20,
    "start_time": "2022-04-17T19:46:05.401Z"
   },
   {
    "duration": 23,
    "start_time": "2022-04-17T19:46:05.422Z"
   },
   {
    "duration": 41,
    "start_time": "2022-04-17T19:46:05.447Z"
   },
   {
    "duration": 122,
    "start_time": "2022-04-17T19:47:27.499Z"
   },
   {
    "duration": 107,
    "start_time": "2022-04-17T19:49:34.434Z"
   },
   {
    "duration": 11,
    "start_time": "2022-04-17T19:49:52.183Z"
   },
   {
    "duration": 11,
    "start_time": "2022-04-17T19:49:57.121Z"
   },
   {
    "duration": 11,
    "start_time": "2022-04-17T19:50:01.067Z"
   },
   {
    "duration": 12,
    "start_time": "2022-04-17T19:50:03.929Z"
   },
   {
    "duration": 21,
    "start_time": "2022-04-17T19:50:10.130Z"
   },
   {
    "duration": 287,
    "start_time": "2022-04-17T19:53:59.749Z"
   },
   {
    "duration": 29,
    "start_time": "2022-04-17T19:54:39.288Z"
   },
   {
    "duration": 862,
    "start_time": "2022-04-17T19:55:10.449Z"
   },
   {
    "duration": 93,
    "start_time": "2022-04-17T20:06:40.059Z"
   },
   {
    "duration": 192,
    "start_time": "2022-04-17T20:06:56.539Z"
   },
   {
    "duration": 29,
    "start_time": "2022-04-17T20:07:02.159Z"
   },
   {
    "duration": 36,
    "start_time": "2022-04-17T20:11:06.589Z"
   },
   {
    "duration": 35,
    "start_time": "2022-04-17T20:12:13.661Z"
   },
   {
    "duration": 29,
    "start_time": "2022-04-17T20:15:25.689Z"
   },
   {
    "duration": 26,
    "start_time": "2022-04-17T20:17:25.048Z"
   },
   {
    "duration": 15,
    "start_time": "2022-04-17T20:18:00.070Z"
   },
   {
    "duration": 264,
    "start_time": "2022-04-17T20:23:04.289Z"
   },
   {
    "duration": 31,
    "start_time": "2022-04-17T20:23:49.166Z"
   },
   {
    "duration": 35,
    "start_time": "2022-04-17T20:27:52.607Z"
   },
   {
    "duration": 36,
    "start_time": "2022-04-17T20:28:43.328Z"
   },
   {
    "duration": 7,
    "start_time": "2022-04-17T20:34:58.342Z"
   },
   {
    "duration": 1130,
    "start_time": "2022-04-17T20:34:58.351Z"
   },
   {
    "duration": 888,
    "start_time": "2022-04-17T20:34:59.482Z"
   },
   {
    "duration": 20,
    "start_time": "2022-04-17T20:35:00.372Z"
   },
   {
    "duration": 150,
    "start_time": "2022-04-17T20:35:00.394Z"
   },
   {
    "duration": 108,
    "start_time": "2022-04-17T20:35:00.547Z"
   },
   {
    "duration": 3,
    "start_time": "2022-04-17T20:35:00.657Z"
   },
   {
    "duration": 5,
    "start_time": "2022-04-17T20:35:00.674Z"
   },
   {
    "duration": 524,
    "start_time": "2022-04-17T20:35:00.681Z"
   },
   {
    "duration": 2,
    "start_time": "2022-04-17T20:35:01.208Z"
   },
   {
    "duration": 9,
    "start_time": "2022-04-17T20:35:01.212Z"
   },
   {
    "duration": 144,
    "start_time": "2022-04-17T20:35:01.222Z"
   },
   {
    "duration": 137,
    "start_time": "2022-04-17T20:35:01.368Z"
   },
   {
    "duration": 146,
    "start_time": "2022-04-17T20:35:01.507Z"
   },
   {
    "duration": 24,
    "start_time": "2022-04-17T20:35:01.655Z"
   },
   {
    "duration": 5,
    "start_time": "2022-04-17T20:35:01.680Z"
   },
   {
    "duration": 38,
    "start_time": "2022-04-17T20:35:01.686Z"
   },
   {
    "duration": 242,
    "start_time": "2022-04-17T20:35:01.726Z"
   },
   {
    "duration": 425,
    "start_time": "2022-04-17T20:35:01.974Z"
   },
   {
    "duration": 284,
    "start_time": "2022-04-17T20:35:02.400Z"
   },
   {
    "duration": 268,
    "start_time": "2022-04-17T20:35:02.686Z"
   },
   {
    "duration": 323,
    "start_time": "2022-04-17T20:35:02.955Z"
   },
   {
    "duration": 20,
    "start_time": "2022-04-17T20:35:03.279Z"
   },
   {
    "duration": 20,
    "start_time": "2022-04-17T20:35:03.301Z"
   },
   {
    "duration": 21,
    "start_time": "2022-04-17T20:35:03.322Z"
   },
   {
    "duration": 20,
    "start_time": "2022-04-17T20:35:03.345Z"
   },
   {
    "duration": 21,
    "start_time": "2022-04-17T20:35:03.374Z"
   },
   {
    "duration": 129,
    "start_time": "2022-04-17T20:35:03.399Z"
   },
   {
    "duration": 319,
    "start_time": "2022-04-17T20:35:03.530Z"
   },
   {
    "duration": 44,
    "start_time": "2022-04-17T20:35:03.850Z"
   },
   {
    "duration": 31,
    "start_time": "2022-04-17T20:35:03.896Z"
   },
   {
    "duration": 213,
    "start_time": "2022-04-17T20:35:03.928Z"
   },
   {
    "duration": 44,
    "start_time": "2022-04-17T20:35:04.143Z"
   },
   {
    "duration": 36,
    "start_time": "2022-04-17T20:35:04.189Z"
   },
   {
    "duration": 103,
    "start_time": "2022-04-17T20:35:04.227Z"
   },
   {
    "duration": 3,
    "start_time": "2022-04-17T20:36:55.693Z"
   },
   {
    "duration": 1093,
    "start_time": "2022-04-17T20:36:55.698Z"
   },
   {
    "duration": 924,
    "start_time": "2022-04-17T20:36:56.793Z"
   },
   {
    "duration": 19,
    "start_time": "2022-04-17T20:36:57.719Z"
   },
   {
    "duration": 154,
    "start_time": "2022-04-17T20:36:57.740Z"
   },
   {
    "duration": 104,
    "start_time": "2022-04-17T20:36:57.896Z"
   },
   {
    "duration": 3,
    "start_time": "2022-04-17T20:36:58.001Z"
   },
   {
    "duration": 7,
    "start_time": "2022-04-17T20:36:58.005Z"
   },
   {
    "duration": 511,
    "start_time": "2022-04-17T20:36:58.015Z"
   },
   {
    "duration": 2,
    "start_time": "2022-04-17T20:36:58.528Z"
   },
   {
    "duration": 11,
    "start_time": "2022-04-17T20:36:58.531Z"
   },
   {
    "duration": 141,
    "start_time": "2022-04-17T20:36:58.543Z"
   },
   {
    "duration": 138,
    "start_time": "2022-04-17T20:36:58.686Z"
   },
   {
    "duration": 137,
    "start_time": "2022-04-17T20:36:58.826Z"
   },
   {
    "duration": 9,
    "start_time": "2022-04-17T20:36:58.985Z"
   },
   {
    "duration": 5,
    "start_time": "2022-04-17T20:36:58.995Z"
   },
   {
    "duration": 24,
    "start_time": "2022-04-17T20:36:59.001Z"
   },
   {
    "duration": 214,
    "start_time": "2022-04-17T20:36:59.027Z"
   },
   {
    "duration": 271,
    "start_time": "2022-04-17T20:36:59.243Z"
   },
   {
    "duration": 240,
    "start_time": "2022-04-17T20:36:59.516Z"
   },
   {
    "duration": 246,
    "start_time": "2022-04-17T20:36:59.758Z"
   },
   {
    "duration": 309,
    "start_time": "2022-04-17T20:37:00.005Z"
   },
   {
    "duration": 19,
    "start_time": "2022-04-17T20:37:00.315Z"
   },
   {
    "duration": 43,
    "start_time": "2022-04-17T20:37:00.337Z"
   },
   {
    "duration": 23,
    "start_time": "2022-04-17T20:37:00.383Z"
   },
   {
    "duration": 32,
    "start_time": "2022-04-17T20:37:00.407Z"
   },
   {
    "duration": 21,
    "start_time": "2022-04-17T20:37:00.441Z"
   },
   {
    "duration": 135,
    "start_time": "2022-04-17T20:37:00.464Z"
   },
   {
    "duration": 309,
    "start_time": "2022-04-17T20:37:00.601Z"
   },
   {
    "duration": 38,
    "start_time": "2022-04-17T20:37:00.911Z"
   },
   {
    "duration": 47,
    "start_time": "2022-04-17T20:37:00.951Z"
   },
   {
    "duration": 2,
    "start_time": "2022-04-17T20:37:01.000Z"
   },
   {
    "duration": 14,
    "start_time": "2022-04-17T20:37:01.004Z"
   },
   {
    "duration": 14,
    "start_time": "2022-04-17T20:37:01.020Z"
   },
   {
    "duration": 6,
    "start_time": "2022-04-17T20:37:01.036Z"
   },
   {
    "duration": 114,
    "start_time": "2022-04-17T20:39:04.906Z"
   },
   {
    "duration": 34,
    "start_time": "2022-04-17T20:39:19.585Z"
   },
   {
    "duration": 3,
    "start_time": "2022-04-17T20:39:53.217Z"
   },
   {
    "duration": 1131,
    "start_time": "2022-04-17T20:39:53.222Z"
   },
   {
    "duration": 963,
    "start_time": "2022-04-17T20:39:54.355Z"
   },
   {
    "duration": 18,
    "start_time": "2022-04-17T20:39:55.320Z"
   },
   {
    "duration": 154,
    "start_time": "2022-04-17T20:39:55.340Z"
   },
   {
    "duration": 100,
    "start_time": "2022-04-17T20:39:55.495Z"
   },
   {
    "duration": 2,
    "start_time": "2022-04-17T20:39:55.597Z"
   },
   {
    "duration": 8,
    "start_time": "2022-04-17T20:39:55.600Z"
   },
   {
    "duration": 544,
    "start_time": "2022-04-17T20:39:55.610Z"
   },
   {
    "duration": 2,
    "start_time": "2022-04-17T20:39:56.156Z"
   },
   {
    "duration": 7,
    "start_time": "2022-04-17T20:39:56.160Z"
   },
   {
    "duration": 148,
    "start_time": "2022-04-17T20:39:56.168Z"
   },
   {
    "duration": 129,
    "start_time": "2022-04-17T20:39:56.317Z"
   },
   {
    "duration": 144,
    "start_time": "2022-04-17T20:39:56.448Z"
   },
   {
    "duration": 9,
    "start_time": "2022-04-17T20:39:56.593Z"
   },
   {
    "duration": 3,
    "start_time": "2022-04-17T20:39:56.604Z"
   },
   {
    "duration": 27,
    "start_time": "2022-04-17T20:39:56.608Z"
   },
   {
    "duration": 230,
    "start_time": "2022-04-17T20:39:56.636Z"
   },
   {
    "duration": 276,
    "start_time": "2022-04-17T20:39:56.868Z"
   },
   {
    "duration": 259,
    "start_time": "2022-04-17T20:39:57.146Z"
   },
   {
    "duration": 239,
    "start_time": "2022-04-17T20:39:57.407Z"
   },
   {
    "duration": 314,
    "start_time": "2022-04-17T20:39:57.647Z"
   },
   {
    "duration": 28,
    "start_time": "2022-04-17T20:39:57.962Z"
   },
   {
    "duration": 20,
    "start_time": "2022-04-17T20:39:57.993Z"
   },
   {
    "duration": 22,
    "start_time": "2022-04-17T20:39:58.015Z"
   },
   {
    "duration": 38,
    "start_time": "2022-04-17T20:39:58.039Z"
   },
   {
    "duration": 23,
    "start_time": "2022-04-17T20:39:58.080Z"
   },
   {
    "duration": 142,
    "start_time": "2022-04-17T20:39:58.105Z"
   },
   {
    "duration": 303,
    "start_time": "2022-04-17T20:39:58.248Z"
   },
   {
    "duration": 45,
    "start_time": "2022-04-17T20:39:58.553Z"
   },
   {
    "duration": 30,
    "start_time": "2022-04-17T20:39:58.599Z"
   },
   {
    "duration": 2,
    "start_time": "2022-04-17T20:39:58.630Z"
   },
   {
    "duration": 5,
    "start_time": "2022-04-17T20:39:58.634Z"
   },
   {
    "duration": 8,
    "start_time": "2022-04-17T20:39:58.640Z"
   },
   {
    "duration": 6,
    "start_time": "2022-04-17T20:39:58.649Z"
   },
   {
    "duration": 89,
    "start_time": "2022-04-17T20:42:13.075Z"
   },
   {
    "duration": 30,
    "start_time": "2022-04-17T20:45:33.804Z"
   },
   {
    "duration": 30,
    "start_time": "2022-04-17T20:46:23.787Z"
   },
   {
    "duration": 29,
    "start_time": "2022-04-17T20:48:03.585Z"
   },
   {
    "duration": 16,
    "start_time": "2022-04-17T20:48:15.286Z"
   },
   {
    "duration": 21,
    "start_time": "2022-04-17T20:49:48.201Z"
   },
   {
    "duration": 109,
    "start_time": "2022-04-17T20:51:32.869Z"
   },
   {
    "duration": 78,
    "start_time": "2022-04-17T20:51:47.865Z"
   },
   {
    "duration": 126,
    "start_time": "2022-04-17T20:52:29.469Z"
   },
   {
    "duration": 170,
    "start_time": "2022-04-17T21:02:25.304Z"
   },
   {
    "duration": 25,
    "start_time": "2022-04-17T21:03:19.423Z"
   },
   {
    "duration": 19,
    "start_time": "2022-04-17T21:03:35.467Z"
   },
   {
    "duration": 43,
    "start_time": "2022-04-17T21:03:46.106Z"
   },
   {
    "duration": 4,
    "start_time": "2022-04-17T21:07:40.446Z"
   },
   {
    "duration": 1128,
    "start_time": "2022-04-17T21:07:40.452Z"
   },
   {
    "duration": 855,
    "start_time": "2022-04-17T21:07:41.582Z"
   },
   {
    "duration": 19,
    "start_time": "2022-04-17T21:07:42.439Z"
   },
   {
    "duration": 138,
    "start_time": "2022-04-17T21:07:42.460Z"
   },
   {
    "duration": 137,
    "start_time": "2022-04-17T21:07:42.600Z"
   },
   {
    "duration": 2,
    "start_time": "2022-04-17T21:07:42.739Z"
   },
   {
    "duration": 8,
    "start_time": "2022-04-17T21:07:42.742Z"
   },
   {
    "duration": 496,
    "start_time": "2022-04-17T21:07:42.752Z"
   },
   {
    "duration": 2,
    "start_time": "2022-04-17T21:07:43.249Z"
   },
   {
    "duration": 6,
    "start_time": "2022-04-17T21:07:43.253Z"
   },
   {
    "duration": 123,
    "start_time": "2022-04-17T21:07:43.273Z"
   },
   {
    "duration": 131,
    "start_time": "2022-04-17T21:07:43.397Z"
   },
   {
    "duration": 134,
    "start_time": "2022-04-17T21:07:43.531Z"
   },
   {
    "duration": 13,
    "start_time": "2022-04-17T21:07:43.667Z"
   },
   {
    "duration": 4,
    "start_time": "2022-04-17T21:07:43.681Z"
   },
   {
    "duration": 27,
    "start_time": "2022-04-17T21:07:43.686Z"
   },
   {
    "duration": 200,
    "start_time": "2022-04-17T21:07:43.715Z"
   },
   {
    "duration": 254,
    "start_time": "2022-04-17T21:07:43.916Z"
   },
   {
    "duration": 229,
    "start_time": "2022-04-17T21:07:44.173Z"
   },
   {
    "duration": 227,
    "start_time": "2022-04-17T21:07:44.403Z"
   },
   {
    "duration": 273,
    "start_time": "2022-04-17T21:07:44.632Z"
   },
   {
    "duration": 19,
    "start_time": "2022-04-17T21:07:44.907Z"
   },
   {
    "duration": 19,
    "start_time": "2022-04-17T21:07:44.927Z"
   },
   {
    "duration": 37,
    "start_time": "2022-04-17T21:07:44.948Z"
   },
   {
    "duration": 26,
    "start_time": "2022-04-17T21:07:44.987Z"
   },
   {
    "duration": 36,
    "start_time": "2022-04-17T21:07:45.015Z"
   },
   {
    "duration": 126,
    "start_time": "2022-04-17T21:07:45.053Z"
   },
   {
    "duration": 274,
    "start_time": "2022-04-17T21:07:45.182Z"
   },
   {
    "duration": 32,
    "start_time": "2022-04-17T21:07:45.458Z"
   },
   {
    "duration": 3,
    "start_time": "2022-04-17T21:07:45.492Z"
   },
   {
    "duration": 4,
    "start_time": "2022-04-17T21:07:45.497Z"
   },
   {
    "duration": 5,
    "start_time": "2022-04-17T21:07:45.502Z"
   },
   {
    "duration": 5,
    "start_time": "2022-04-17T21:07:45.508Z"
   },
   {
    "duration": 6,
    "start_time": "2022-04-17T21:07:45.515Z"
   },
   {
    "duration": 5,
    "start_time": "2022-04-17T21:07:45.522Z"
   },
   {
    "duration": 5,
    "start_time": "2022-04-17T21:07:45.529Z"
   },
   {
    "duration": 5,
    "start_time": "2022-04-17T21:07:45.536Z"
   },
   {
    "duration": 92,
    "start_time": "2022-04-17T21:07:45.542Z"
   },
   {
    "duration": 129,
    "start_time": "2022-04-17T21:07:45.636Z"
   },
   {
    "duration": 102,
    "start_time": "2022-04-17T21:07:45.773Z"
   },
   {
    "duration": 30,
    "start_time": "2022-04-17T21:11:35.729Z"
   },
   {
    "duration": 4,
    "start_time": "2022-04-17T21:13:05.437Z"
   },
   {
    "duration": 1119,
    "start_time": "2022-04-17T21:13:05.443Z"
   },
   {
    "duration": 883,
    "start_time": "2022-04-17T21:13:06.563Z"
   },
   {
    "duration": 27,
    "start_time": "2022-04-17T21:13:07.447Z"
   },
   {
    "duration": 131,
    "start_time": "2022-04-17T21:13:07.476Z"
   },
   {
    "duration": 146,
    "start_time": "2022-04-17T21:13:07.608Z"
   },
   {
    "duration": 5,
    "start_time": "2022-04-17T21:13:07.755Z"
   },
   {
    "duration": 13,
    "start_time": "2022-04-17T21:13:07.761Z"
   },
   {
    "duration": 480,
    "start_time": "2022-04-17T21:13:07.776Z"
   },
   {
    "duration": 3,
    "start_time": "2022-04-17T21:13:08.258Z"
   },
   {
    "duration": 14,
    "start_time": "2022-04-17T21:13:08.262Z"
   },
   {
    "duration": 133,
    "start_time": "2022-04-17T21:13:08.277Z"
   },
   {
    "duration": 133,
    "start_time": "2022-04-17T21:13:08.414Z"
   },
   {
    "duration": 135,
    "start_time": "2022-04-17T21:13:08.550Z"
   },
   {
    "duration": 9,
    "start_time": "2022-04-17T21:13:08.687Z"
   },
   {
    "duration": 7,
    "start_time": "2022-04-17T21:13:08.698Z"
   },
   {
    "duration": 29,
    "start_time": "2022-04-17T21:13:08.707Z"
   },
   {
    "duration": 209,
    "start_time": "2022-04-17T21:13:08.738Z"
   },
   {
    "duration": 261,
    "start_time": "2022-04-17T21:13:08.949Z"
   },
   {
    "duration": 231,
    "start_time": "2022-04-17T21:13:09.212Z"
   },
   {
    "duration": 234,
    "start_time": "2022-04-17T21:13:09.446Z"
   },
   {
    "duration": 288,
    "start_time": "2022-04-17T21:13:09.682Z"
   },
   {
    "duration": 20,
    "start_time": "2022-04-17T21:13:09.973Z"
   },
   {
    "duration": 28,
    "start_time": "2022-04-17T21:13:09.994Z"
   },
   {
    "duration": 23,
    "start_time": "2022-04-17T21:13:10.024Z"
   },
   {
    "duration": 42,
    "start_time": "2022-04-17T21:13:10.049Z"
   },
   {
    "duration": 21,
    "start_time": "2022-04-17T21:13:10.093Z"
   },
   {
    "duration": 139,
    "start_time": "2022-04-17T21:13:10.116Z"
   },
   {
    "duration": 278,
    "start_time": "2022-04-17T21:13:10.257Z"
   },
   {
    "duration": 41,
    "start_time": "2022-04-17T21:13:10.536Z"
   },
   {
    "duration": 2,
    "start_time": "2022-04-17T21:13:10.579Z"
   },
   {
    "duration": 6,
    "start_time": "2022-04-17T21:13:10.583Z"
   },
   {
    "duration": 8,
    "start_time": "2022-04-17T21:13:10.590Z"
   },
   {
    "duration": 7,
    "start_time": "2022-04-17T21:13:10.599Z"
   },
   {
    "duration": 5,
    "start_time": "2022-04-17T21:13:10.608Z"
   },
   {
    "duration": 5,
    "start_time": "2022-04-17T21:13:10.614Z"
   },
   {
    "duration": 2,
    "start_time": "2022-04-17T21:13:10.623Z"
   },
   {
    "duration": 4,
    "start_time": "2022-04-17T21:13:10.627Z"
   },
   {
    "duration": 85,
    "start_time": "2022-04-17T21:13:10.633Z"
   },
   {
    "duration": 126,
    "start_time": "2022-04-17T21:13:10.719Z"
   },
   {
    "duration": 42,
    "start_time": "2022-04-17T21:13:10.847Z"
   },
   {
    "duration": 95,
    "start_time": "2022-04-17T21:13:40.361Z"
   },
   {
    "duration": 4,
    "start_time": "2022-04-17T21:15:51.434Z"
   },
   {
    "duration": 1125,
    "start_time": "2022-04-17T21:15:51.440Z"
   },
   {
    "duration": 945,
    "start_time": "2022-04-17T21:15:52.568Z"
   },
   {
    "duration": 20,
    "start_time": "2022-04-17T21:15:53.514Z"
   },
   {
    "duration": 159,
    "start_time": "2022-04-17T21:15:53.536Z"
   },
   {
    "duration": 105,
    "start_time": "2022-04-17T21:15:53.697Z"
   },
   {
    "duration": 2,
    "start_time": "2022-04-17T21:15:53.804Z"
   },
   {
    "duration": 7,
    "start_time": "2022-04-17T21:15:53.807Z"
   },
   {
    "duration": 529,
    "start_time": "2022-04-17T21:15:53.816Z"
   },
   {
    "duration": 643,
    "start_time": "2022-04-17T21:15:54.347Z"
   },
   {
    "duration": 2,
    "start_time": "2022-04-17T21:15:54.994Z"
   },
   {
    "duration": 8,
    "start_time": "2022-04-17T21:15:54.998Z"
   },
   {
    "duration": 7,
    "start_time": "2022-04-17T21:15:55.008Z"
   },
   {
    "duration": 10,
    "start_time": "2022-04-17T21:15:55.017Z"
   },
   {
    "duration": 10,
    "start_time": "2022-04-17T21:15:55.029Z"
   },
   {
    "duration": 211,
    "start_time": "2022-04-17T21:15:55.041Z"
   },
   {
    "duration": 285,
    "start_time": "2022-04-17T21:15:55.254Z"
   },
   {
    "duration": 255,
    "start_time": "2022-04-17T21:15:55.541Z"
   },
   {
    "duration": 246,
    "start_time": "2022-04-17T21:15:55.797Z"
   },
   {
    "duration": 309,
    "start_time": "2022-04-17T21:15:56.044Z"
   },
   {
    "duration": 28,
    "start_time": "2022-04-17T21:15:56.355Z"
   },
   {
    "duration": 22,
    "start_time": "2022-04-17T21:15:56.386Z"
   },
   {
    "duration": 20,
    "start_time": "2022-04-17T21:15:56.410Z"
   },
   {
    "duration": 19,
    "start_time": "2022-04-17T21:15:56.432Z"
   },
   {
    "duration": 29,
    "start_time": "2022-04-17T21:15:56.474Z"
   },
   {
    "duration": 144,
    "start_time": "2022-04-17T21:15:56.505Z"
   },
   {
    "duration": 304,
    "start_time": "2022-04-17T21:15:56.651Z"
   },
   {
    "duration": 34,
    "start_time": "2022-04-17T21:15:56.957Z"
   },
   {
    "duration": 2,
    "start_time": "2022-04-17T21:15:56.995Z"
   },
   {
    "duration": 5,
    "start_time": "2022-04-17T21:15:56.999Z"
   },
   {
    "duration": 5,
    "start_time": "2022-04-17T21:15:57.005Z"
   },
   {
    "duration": 5,
    "start_time": "2022-04-17T21:15:57.011Z"
   },
   {
    "duration": 5,
    "start_time": "2022-04-17T21:15:57.017Z"
   },
   {
    "duration": 4,
    "start_time": "2022-04-17T21:15:57.024Z"
   },
   {
    "duration": 4,
    "start_time": "2022-04-17T21:15:57.030Z"
   },
   {
    "duration": 5,
    "start_time": "2022-04-17T21:15:57.036Z"
   },
   {
    "duration": 102,
    "start_time": "2022-04-17T21:15:57.042Z"
   },
   {
    "duration": 41,
    "start_time": "2022-04-17T21:15:57.145Z"
   },
   {
    "duration": 107,
    "start_time": "2022-04-17T21:15:57.188Z"
   },
   {
    "duration": 24,
    "start_time": "2022-04-17T21:17:33.874Z"
   },
   {
    "duration": 31,
    "start_time": "2022-04-17T21:19:33.085Z"
   },
   {
    "duration": 35,
    "start_time": "2022-04-17T21:20:01.345Z"
   },
   {
    "duration": 59,
    "start_time": "2022-04-17T21:22:12.524Z"
   },
   {
    "duration": 57,
    "start_time": "2022-04-17T21:22:43.834Z"
   },
   {
    "duration": 66,
    "start_time": "2022-04-17T21:24:34.073Z"
   },
   {
    "duration": 65,
    "start_time": "2022-04-17T21:24:58.646Z"
   },
   {
    "duration": 166,
    "start_time": "2022-04-17T21:26:56.236Z"
   },
   {
    "duration": 53,
    "start_time": "2022-04-17T21:27:14.696Z"
   },
   {
    "duration": 94,
    "start_time": "2022-04-17T21:30:59.283Z"
   },
   {
    "duration": 47,
    "start_time": "2022-04-17T21:31:37.981Z"
   },
   {
    "duration": 6,
    "start_time": "2022-04-17T21:31:51.705Z"
   },
   {
    "duration": 62,
    "start_time": "2022-04-17T21:35:54.186Z"
   },
   {
    "duration": 11,
    "start_time": "2022-04-17T21:35:55.945Z"
   },
   {
    "duration": 4,
    "start_time": "2022-04-17T21:37:37.811Z"
   },
   {
    "duration": 1076,
    "start_time": "2022-04-17T21:37:37.817Z"
   },
   {
    "duration": 891,
    "start_time": "2022-04-17T21:37:38.895Z"
   },
   {
    "duration": 18,
    "start_time": "2022-04-17T21:37:39.788Z"
   },
   {
    "duration": 148,
    "start_time": "2022-04-17T21:37:39.808Z"
   },
   {
    "duration": 129,
    "start_time": "2022-04-17T21:37:39.958Z"
   },
   {
    "duration": 2,
    "start_time": "2022-04-17T21:37:40.090Z"
   },
   {
    "duration": 11,
    "start_time": "2022-04-17T21:37:40.094Z"
   },
   {
    "duration": 493,
    "start_time": "2022-04-17T21:37:40.107Z"
   },
   {
    "duration": 613,
    "start_time": "2022-04-17T21:37:40.602Z"
   },
   {
    "duration": 2,
    "start_time": "2022-04-17T21:37:41.219Z"
   },
   {
    "duration": 24,
    "start_time": "2022-04-17T21:37:41.223Z"
   },
   {
    "duration": 23,
    "start_time": "2022-04-17T21:37:41.249Z"
   },
   {
    "duration": 24,
    "start_time": "2022-04-17T21:37:41.274Z"
   },
   {
    "duration": 10,
    "start_time": "2022-04-17T21:37:41.300Z"
   },
   {
    "duration": 206,
    "start_time": "2022-04-17T21:37:41.312Z"
   },
   {
    "duration": 267,
    "start_time": "2022-04-17T21:37:41.519Z"
   },
   {
    "duration": 243,
    "start_time": "2022-04-17T21:37:41.788Z"
   },
   {
    "duration": 244,
    "start_time": "2022-04-17T21:37:42.032Z"
   },
   {
    "duration": 301,
    "start_time": "2022-04-17T21:37:42.277Z"
   },
   {
    "duration": 24,
    "start_time": "2022-04-17T21:37:42.580Z"
   },
   {
    "duration": 20,
    "start_time": "2022-04-17T21:37:42.605Z"
   },
   {
    "duration": 20,
    "start_time": "2022-04-17T21:37:42.627Z"
   },
   {
    "duration": 26,
    "start_time": "2022-04-17T21:37:42.674Z"
   },
   {
    "duration": 21,
    "start_time": "2022-04-17T21:37:42.701Z"
   },
   {
    "duration": 161,
    "start_time": "2022-04-17T21:37:42.724Z"
   },
   {
    "duration": 295,
    "start_time": "2022-04-17T21:37:42.887Z"
   },
   {
    "duration": 23,
    "start_time": "2022-04-17T21:37:43.184Z"
   },
   {
    "duration": 2,
    "start_time": "2022-04-17T21:37:43.211Z"
   },
   {
    "duration": 7,
    "start_time": "2022-04-17T21:37:43.215Z"
   },
   {
    "duration": 4,
    "start_time": "2022-04-17T21:37:43.224Z"
   },
   {
    "duration": 10,
    "start_time": "2022-04-17T21:37:43.230Z"
   },
   {
    "duration": 5,
    "start_time": "2022-04-17T21:37:43.242Z"
   },
   {
    "duration": 5,
    "start_time": "2022-04-17T21:37:43.248Z"
   },
   {
    "duration": 8,
    "start_time": "2022-04-17T21:37:43.254Z"
   },
   {
    "duration": 13,
    "start_time": "2022-04-17T21:37:43.282Z"
   },
   {
    "duration": 74,
    "start_time": "2022-04-17T21:37:43.297Z"
   },
   {
    "duration": 28,
    "start_time": "2022-04-17T21:37:43.373Z"
   },
   {
    "duration": 100,
    "start_time": "2022-04-17T21:37:43.403Z"
   },
   {
    "duration": 87,
    "start_time": "2022-04-17T21:37:43.505Z"
   },
   {
    "duration": 11,
    "start_time": "2022-04-17T21:37:43.594Z"
   },
   {
    "duration": 19,
    "start_time": "2022-04-17T21:38:08.886Z"
   },
   {
    "duration": 4,
    "start_time": "2022-04-17T21:38:30.237Z"
   },
   {
    "duration": 4,
    "start_time": "2022-04-17T21:40:03.748Z"
   },
   {
    "duration": 1200,
    "start_time": "2022-04-17T21:40:03.755Z"
   },
   {
    "duration": 1073,
    "start_time": "2022-04-17T21:40:04.957Z"
   },
   {
    "duration": 20,
    "start_time": "2022-04-17T21:40:06.032Z"
   },
   {
    "duration": 170,
    "start_time": "2022-04-17T21:40:06.054Z"
   },
   {
    "duration": 114,
    "start_time": "2022-04-17T21:40:06.227Z"
   },
   {
    "duration": 2,
    "start_time": "2022-04-17T21:40:06.343Z"
   },
   {
    "duration": 10,
    "start_time": "2022-04-17T21:40:06.347Z"
   },
   {
    "duration": 603,
    "start_time": "2022-04-17T21:40:06.359Z"
   },
   {
    "duration": 707,
    "start_time": "2022-04-17T21:40:06.964Z"
   },
   {
    "duration": 6,
    "start_time": "2022-04-17T21:40:07.676Z"
   },
   {
    "duration": 14,
    "start_time": "2022-04-17T21:40:07.684Z"
   },
   {
    "duration": 5,
    "start_time": "2022-04-17T21:40:07.700Z"
   },
   {
    "duration": 6,
    "start_time": "2022-04-17T21:40:07.707Z"
   },
   {
    "duration": 10,
    "start_time": "2022-04-17T21:40:07.716Z"
   },
   {
    "duration": 217,
    "start_time": "2022-04-17T21:40:07.728Z"
   },
   {
    "duration": 288,
    "start_time": "2022-04-17T21:40:07.947Z"
   },
   {
    "duration": 259,
    "start_time": "2022-04-17T21:40:08.236Z"
   },
   {
    "duration": 251,
    "start_time": "2022-04-17T21:40:08.497Z"
   },
   {
    "duration": 315,
    "start_time": "2022-04-17T21:40:08.749Z"
   },
   {
    "duration": 26,
    "start_time": "2022-04-17T21:40:09.073Z"
   },
   {
    "duration": 22,
    "start_time": "2022-04-17T21:40:09.101Z"
   },
   {
    "duration": 33,
    "start_time": "2022-04-17T21:40:09.125Z"
   },
   {
    "duration": 33,
    "start_time": "2022-04-17T21:40:09.160Z"
   },
   {
    "duration": 26,
    "start_time": "2022-04-17T21:40:09.195Z"
   },
   {
    "duration": 158,
    "start_time": "2022-04-17T21:40:09.222Z"
   },
   {
    "duration": 315,
    "start_time": "2022-04-17T21:40:09.382Z"
   },
   {
    "duration": 25,
    "start_time": "2022-04-17T21:40:09.699Z"
   },
   {
    "duration": 3,
    "start_time": "2022-04-17T21:40:09.726Z"
   },
   {
    "duration": 5,
    "start_time": "2022-04-17T21:40:09.731Z"
   },
   {
    "duration": 7,
    "start_time": "2022-04-17T21:40:09.738Z"
   },
   {
    "duration": 10,
    "start_time": "2022-04-17T21:40:09.747Z"
   },
   {
    "duration": 18,
    "start_time": "2022-04-17T21:40:09.758Z"
   },
   {
    "duration": 15,
    "start_time": "2022-04-17T21:40:09.777Z"
   },
   {
    "duration": 6,
    "start_time": "2022-04-17T21:40:09.794Z"
   },
   {
    "duration": 5,
    "start_time": "2022-04-17T21:40:09.802Z"
   },
   {
    "duration": 80,
    "start_time": "2022-04-17T21:40:09.808Z"
   },
   {
    "duration": 27,
    "start_time": "2022-04-17T21:40:09.889Z"
   },
   {
    "duration": 113,
    "start_time": "2022-04-17T21:40:09.918Z"
   },
   {
    "duration": 71,
    "start_time": "2022-04-17T21:40:10.033Z"
   },
   {
    "duration": 54,
    "start_time": "2022-04-17T21:41:23.687Z"
   },
   {
    "duration": 26,
    "start_time": "2022-04-17T21:42:35.831Z"
   },
   {
    "duration": 24,
    "start_time": "2022-04-17T21:42:45.044Z"
   },
   {
    "duration": 4,
    "start_time": "2022-04-17T21:43:56.496Z"
   },
   {
    "duration": 1130,
    "start_time": "2022-04-17T21:43:56.503Z"
   },
   {
    "duration": 922,
    "start_time": "2022-04-17T21:43:57.635Z"
   },
   {
    "duration": 27,
    "start_time": "2022-04-17T21:43:58.559Z"
   },
   {
    "duration": 146,
    "start_time": "2022-04-17T21:43:58.589Z"
   },
   {
    "duration": 107,
    "start_time": "2022-04-17T21:43:58.736Z"
   },
   {
    "duration": 3,
    "start_time": "2022-04-17T21:43:58.844Z"
   },
   {
    "duration": 10,
    "start_time": "2022-04-17T21:43:58.848Z"
   },
   {
    "duration": 538,
    "start_time": "2022-04-17T21:43:58.859Z"
   },
   {
    "duration": 616,
    "start_time": "2022-04-17T21:43:59.400Z"
   },
   {
    "duration": 3,
    "start_time": "2022-04-17T21:44:00.020Z"
   },
   {
    "duration": 14,
    "start_time": "2022-04-17T21:44:00.025Z"
   },
   {
    "duration": 7,
    "start_time": "2022-04-17T21:44:00.040Z"
   },
   {
    "duration": 7,
    "start_time": "2022-04-17T21:44:00.049Z"
   },
   {
    "duration": 4,
    "start_time": "2022-04-17T21:44:00.058Z"
   },
   {
    "duration": 203,
    "start_time": "2022-04-17T21:44:00.064Z"
   },
   {
    "duration": 274,
    "start_time": "2022-04-17T21:44:00.269Z"
   },
   {
    "duration": 250,
    "start_time": "2022-04-17T21:44:00.545Z"
   },
   {
    "duration": 248,
    "start_time": "2022-04-17T21:44:00.796Z"
   },
   {
    "duration": 313,
    "start_time": "2022-04-17T21:44:01.046Z"
   },
   {
    "duration": 30,
    "start_time": "2022-04-17T21:44:01.361Z"
   },
   {
    "duration": 30,
    "start_time": "2022-04-17T21:44:01.393Z"
   },
   {
    "duration": 26,
    "start_time": "2022-04-17T21:44:01.425Z"
   },
   {
    "duration": 32,
    "start_time": "2022-04-17T21:44:01.453Z"
   },
   {
    "duration": 30,
    "start_time": "2022-04-17T21:44:01.487Z"
   },
   {
    "duration": 133,
    "start_time": "2022-04-17T21:44:01.519Z"
   },
   {
    "duration": 332,
    "start_time": "2022-04-17T21:44:01.654Z"
   },
   {
    "duration": 23,
    "start_time": "2022-04-17T21:44:01.988Z"
   },
   {
    "duration": 5,
    "start_time": "2022-04-17T21:44:02.015Z"
   },
   {
    "duration": 9,
    "start_time": "2022-04-17T21:44:02.021Z"
   },
   {
    "duration": 9,
    "start_time": "2022-04-17T21:44:02.032Z"
   },
   {
    "duration": 14,
    "start_time": "2022-04-17T21:44:02.043Z"
   },
   {
    "duration": 9,
    "start_time": "2022-04-17T21:44:02.059Z"
   },
   {
    "duration": 24,
    "start_time": "2022-04-17T21:44:02.070Z"
   },
   {
    "duration": 10,
    "start_time": "2022-04-17T21:44:02.096Z"
   },
   {
    "duration": 9,
    "start_time": "2022-04-17T21:44:02.107Z"
   },
   {
    "duration": 78,
    "start_time": "2022-04-17T21:44:02.118Z"
   },
   {
    "duration": 27,
    "start_time": "2022-04-17T21:44:02.198Z"
   },
   {
    "duration": 112,
    "start_time": "2022-04-17T21:44:02.227Z"
   },
   {
    "duration": 2,
    "start_time": "2022-04-17T21:44:02.341Z"
   },
   {
    "duration": 10,
    "start_time": "2022-04-17T21:44:02.345Z"
   },
   {
    "duration": 9,
    "start_time": "2022-04-17T21:45:42.369Z"
   },
   {
    "duration": 95,
    "start_time": "2022-04-17T21:49:53.956Z"
   },
   {
    "duration": 42,
    "start_time": "2022-04-17T21:50:08.253Z"
   },
   {
    "duration": 4,
    "start_time": "2022-04-17T21:50:24.824Z"
   },
   {
    "duration": 3,
    "start_time": "2022-04-17T21:52:20.697Z"
   },
   {
    "duration": 1135,
    "start_time": "2022-04-17T21:52:20.702Z"
   },
   {
    "duration": 994,
    "start_time": "2022-04-17T21:52:21.839Z"
   },
   {
    "duration": 19,
    "start_time": "2022-04-17T21:52:22.835Z"
   },
   {
    "duration": 146,
    "start_time": "2022-04-17T21:52:22.857Z"
   },
   {
    "duration": 151,
    "start_time": "2022-04-17T21:52:23.005Z"
   },
   {
    "duration": 2,
    "start_time": "2022-04-17T21:52:23.158Z"
   },
   {
    "duration": 17,
    "start_time": "2022-04-17T21:52:23.161Z"
   },
   {
    "duration": 520,
    "start_time": "2022-04-17T21:52:23.180Z"
   },
   {
    "duration": 672,
    "start_time": "2022-04-17T21:52:23.702Z"
   },
   {
    "duration": 2,
    "start_time": "2022-04-17T21:52:24.377Z"
   },
   {
    "duration": 7,
    "start_time": "2022-04-17T21:52:24.381Z"
   },
   {
    "duration": 4,
    "start_time": "2022-04-17T21:52:24.390Z"
   },
   {
    "duration": 5,
    "start_time": "2022-04-17T21:52:24.396Z"
   },
   {
    "duration": 6,
    "start_time": "2022-04-17T21:52:24.402Z"
   },
   {
    "duration": 230,
    "start_time": "2022-04-17T21:52:24.410Z"
   },
   {
    "duration": 271,
    "start_time": "2022-04-17T21:52:24.641Z"
   },
   {
    "duration": 249,
    "start_time": "2022-04-17T21:52:24.914Z"
   },
   {
    "duration": 249,
    "start_time": "2022-04-17T21:52:25.165Z"
   },
   {
    "duration": 303,
    "start_time": "2022-04-17T21:52:25.416Z"
   },
   {
    "duration": 19,
    "start_time": "2022-04-17T21:52:25.722Z"
   },
   {
    "duration": 42,
    "start_time": "2022-04-17T21:52:25.743Z"
   },
   {
    "duration": 21,
    "start_time": "2022-04-17T21:52:25.787Z"
   },
   {
    "duration": 19,
    "start_time": "2022-04-17T21:52:25.810Z"
   },
   {
    "duration": 20,
    "start_time": "2022-04-17T21:52:25.831Z"
   },
   {
    "duration": 150,
    "start_time": "2022-04-17T21:52:25.853Z"
   },
   {
    "duration": 310,
    "start_time": "2022-04-17T21:52:26.004Z"
   },
   {
    "duration": 22,
    "start_time": "2022-04-17T21:52:26.316Z"
   },
   {
    "duration": 2,
    "start_time": "2022-04-17T21:52:26.342Z"
   },
   {
    "duration": 5,
    "start_time": "2022-04-17T21:52:26.345Z"
   },
   {
    "duration": 5,
    "start_time": "2022-04-17T21:52:26.351Z"
   },
   {
    "duration": 24,
    "start_time": "2022-04-17T21:52:26.357Z"
   },
   {
    "duration": 10,
    "start_time": "2022-04-17T21:52:26.383Z"
   },
   {
    "duration": 4,
    "start_time": "2022-04-17T21:52:26.395Z"
   },
   {
    "duration": 5,
    "start_time": "2022-04-17T21:52:26.401Z"
   },
   {
    "duration": 7,
    "start_time": "2022-04-17T21:52:26.407Z"
   },
   {
    "duration": 8,
    "start_time": "2022-04-17T21:52:26.416Z"
   },
   {
    "duration": 5,
    "start_time": "2022-04-17T21:52:26.425Z"
   },
   {
    "duration": 4,
    "start_time": "2022-04-17T21:52:26.431Z"
   },
   {
    "duration": 5,
    "start_time": "2022-04-17T21:52:26.436Z"
   },
   {
    "duration": 12,
    "start_time": "2022-04-17T21:52:26.443Z"
   },
   {
    "duration": 200,
    "start_time": "2022-04-17T21:52:26.456Z"
   },
   {
    "duration": 75,
    "start_time": "2022-04-17T21:52:26.658Z"
   },
   {
    "duration": 4,
    "start_time": "2022-04-17T21:52:26.735Z"
   },
   {
    "duration": 4,
    "start_time": "2022-04-17T21:52:46.094Z"
   },
   {
    "duration": 3,
    "start_time": "2022-04-17T21:52:56.308Z"
   },
   {
    "duration": 48,
    "start_time": "2022-04-17T21:53:50.624Z"
   },
   {
    "duration": 5,
    "start_time": "2022-04-17T21:54:19.348Z"
   },
   {
    "duration": 3,
    "start_time": "2022-04-17T21:55:03.209Z"
   },
   {
    "duration": 51,
    "start_time": "2022-04-17T21:57:21.919Z"
   },
   {
    "duration": 3,
    "start_time": "2022-04-17T21:58:18.273Z"
   },
   {
    "duration": 3,
    "start_time": "2022-04-17T21:58:20.103Z"
   },
   {
    "duration": 2,
    "start_time": "2022-04-17T21:58:54.420Z"
   },
   {
    "duration": 3,
    "start_time": "2022-04-17T21:58:55.986Z"
   },
   {
    "duration": 3,
    "start_time": "2022-04-17T21:59:12.388Z"
   },
   {
    "duration": 3,
    "start_time": "2022-04-17T21:59:14.023Z"
   },
   {
    "duration": 3,
    "start_time": "2022-04-17T22:01:30.069Z"
   },
   {
    "duration": 3,
    "start_time": "2022-04-17T22:01:32.919Z"
   },
   {
    "duration": 580255,
    "start_time": "2022-04-17T22:01:35.386Z"
   },
   {
    "duration": 637,
    "start_time": "2022-04-17T22:12:50.750Z"
   },
   {
    "duration": 5,
    "start_time": "2022-04-17T22:13:08.322Z"
   },
   {
    "duration": 4,
    "start_time": "2022-04-17T22:13:44.039Z"
   },
   {
    "duration": 2159,
    "start_time": "2022-04-17T22:14:13.664Z"
   },
   {
    "duration": 3,
    "start_time": "2022-04-17T22:14:53.944Z"
   },
   {
    "duration": 7,
    "start_time": "2022-04-17T22:15:15.078Z"
   },
   {
    "duration": 18,
    "start_time": "2022-04-17T22:16:32.908Z"
   },
   {
    "duration": 14,
    "start_time": "2022-04-17T22:20:27.815Z"
   },
   {
    "duration": 155,
    "start_time": "2022-04-17T22:20:37.999Z"
   },
   {
    "duration": 19,
    "start_time": "2022-04-17T22:23:24.546Z"
   },
   {
    "duration": 59,
    "start_time": "2022-04-17T22:23:34.579Z"
   },
   {
    "duration": 4,
    "start_time": "2022-04-17T22:24:03.323Z"
   },
   {
    "duration": 1164,
    "start_time": "2022-04-17T22:24:03.329Z"
   },
   {
    "duration": 893,
    "start_time": "2022-04-17T22:24:04.495Z"
   },
   {
    "duration": 20,
    "start_time": "2022-04-17T22:24:05.390Z"
   },
   {
    "duration": 149,
    "start_time": "2022-04-17T22:24:05.412Z"
   },
   {
    "duration": 101,
    "start_time": "2022-04-17T22:24:05.562Z"
   },
   {
    "duration": 8,
    "start_time": "2022-04-17T22:24:05.665Z"
   },
   {
    "duration": 11,
    "start_time": "2022-04-17T22:24:05.675Z"
   },
   {
    "duration": 507,
    "start_time": "2022-04-17T22:24:05.688Z"
   },
   {
    "duration": 606,
    "start_time": "2022-04-17T22:24:06.197Z"
   },
   {
    "duration": 2,
    "start_time": "2022-04-17T22:24:06.806Z"
   },
   {
    "duration": 6,
    "start_time": "2022-04-17T22:24:06.809Z"
   },
   {
    "duration": 5,
    "start_time": "2022-04-17T22:24:06.817Z"
   },
   {
    "duration": 5,
    "start_time": "2022-04-17T22:24:06.823Z"
   },
   {
    "duration": 5,
    "start_time": "2022-04-17T22:24:06.829Z"
   },
   {
    "duration": 204,
    "start_time": "2022-04-17T22:24:06.835Z"
   },
   {
    "duration": 256,
    "start_time": "2022-04-17T22:24:07.040Z"
   },
   {
    "duration": 227,
    "start_time": "2022-04-17T22:24:07.297Z"
   },
   {
    "duration": 229,
    "start_time": "2022-04-17T22:24:07.526Z"
   },
   {
    "duration": 298,
    "start_time": "2022-04-17T22:24:07.757Z"
   },
   {
    "duration": 24,
    "start_time": "2022-04-17T22:24:08.057Z"
   },
   {
    "duration": 21,
    "start_time": "2022-04-17T22:24:08.083Z"
   },
   {
    "duration": 24,
    "start_time": "2022-04-17T22:24:08.106Z"
   },
   {
    "duration": 20,
    "start_time": "2022-04-17T22:24:08.132Z"
   },
   {
    "duration": 38,
    "start_time": "2022-04-17T22:24:08.154Z"
   },
   {
    "duration": 139,
    "start_time": "2022-04-17T22:24:08.193Z"
   },
   {
    "duration": 293,
    "start_time": "2022-04-17T22:24:08.333Z"
   },
   {
    "duration": 23,
    "start_time": "2022-04-17T22:24:08.628Z"
   },
   {
    "duration": 2,
    "start_time": "2022-04-17T22:24:08.656Z"
   },
   {
    "duration": 2,
    "start_time": "2022-04-17T22:24:08.673Z"
   },
   {
    "duration": 7,
    "start_time": "2022-04-17T22:24:08.676Z"
   },
   {
    "duration": 19,
    "start_time": "2022-04-17T22:24:08.684Z"
   },
   {
    "duration": 7,
    "start_time": "2022-04-17T22:24:08.704Z"
   },
   {
    "duration": 6,
    "start_time": "2022-04-17T22:24:08.713Z"
   },
   {
    "duration": 7,
    "start_time": "2022-04-17T22:24:08.720Z"
   },
   {
    "duration": 4,
    "start_time": "2022-04-17T22:24:08.728Z"
   },
   {
    "duration": 5,
    "start_time": "2022-04-17T22:24:08.734Z"
   },
   {
    "duration": 4,
    "start_time": "2022-04-17T22:24:08.741Z"
   },
   {
    "duration": 5,
    "start_time": "2022-04-17T22:24:08.746Z"
   },
   {
    "duration": 6,
    "start_time": "2022-04-17T22:24:08.753Z"
   },
   {
    "duration": 5,
    "start_time": "2022-04-17T22:24:08.760Z"
   },
   {
    "duration": 33,
    "start_time": "2022-04-17T22:24:08.767Z"
   },
   {
    "duration": 2,
    "start_time": "2022-04-17T22:24:08.802Z"
   },
   {
    "duration": 105,
    "start_time": "2022-04-17T22:24:08.806Z"
   },
   {
    "duration": 0,
    "start_time": "2022-04-17T22:24:08.912Z"
   },
   {
    "duration": 0,
    "start_time": "2022-04-17T22:24:08.914Z"
   },
   {
    "duration": 0,
    "start_time": "2022-04-17T22:24:08.915Z"
   },
   {
    "duration": 0,
    "start_time": "2022-04-17T22:24:08.916Z"
   },
   {
    "duration": 0,
    "start_time": "2022-04-17T22:24:08.917Z"
   },
   {
    "duration": 0,
    "start_time": "2022-04-17T22:24:08.918Z"
   },
   {
    "duration": 0,
    "start_time": "2022-04-17T22:24:08.919Z"
   },
   {
    "duration": 0,
    "start_time": "2022-04-17T22:24:08.921Z"
   },
   {
    "duration": 0,
    "start_time": "2022-04-17T22:24:08.921Z"
   },
   {
    "duration": 0,
    "start_time": "2022-04-17T22:24:08.922Z"
   },
   {
    "duration": 0,
    "start_time": "2022-04-17T22:24:08.923Z"
   },
   {
    "duration": 0,
    "start_time": "2022-04-17T22:24:08.924Z"
   },
   {
    "duration": 0,
    "start_time": "2022-04-17T22:24:08.925Z"
   },
   {
    "duration": 0,
    "start_time": "2022-04-17T22:24:08.926Z"
   },
   {
    "duration": 0,
    "start_time": "2022-04-17T22:24:08.927Z"
   },
   {
    "duration": 0,
    "start_time": "2022-04-17T22:24:08.928Z"
   },
   {
    "duration": 0,
    "start_time": "2022-04-17T22:24:08.929Z"
   },
   {
    "duration": 0,
    "start_time": "2022-04-17T22:24:08.930Z"
   },
   {
    "duration": 0,
    "start_time": "2022-04-17T22:24:08.931Z"
   },
   {
    "duration": 3,
    "start_time": "2022-04-17T22:24:50.734Z"
   },
   {
    "duration": 1218,
    "start_time": "2022-04-17T22:24:50.741Z"
   },
   {
    "duration": 951,
    "start_time": "2022-04-17T22:24:51.961Z"
   },
   {
    "duration": 20,
    "start_time": "2022-04-17T22:24:52.914Z"
   },
   {
    "duration": 138,
    "start_time": "2022-04-17T22:24:52.936Z"
   },
   {
    "duration": 139,
    "start_time": "2022-04-17T22:24:53.076Z"
   },
   {
    "duration": 3,
    "start_time": "2022-04-17T22:24:53.216Z"
   },
   {
    "duration": 9,
    "start_time": "2022-04-17T22:24:53.220Z"
   },
   {
    "duration": 517,
    "start_time": "2022-04-17T22:24:53.231Z"
   },
   {
    "duration": 606,
    "start_time": "2022-04-17T22:24:53.750Z"
   },
   {
    "duration": 2,
    "start_time": "2022-04-17T22:24:54.359Z"
   },
   {
    "duration": 10,
    "start_time": "2022-04-17T22:24:54.363Z"
   },
   {
    "duration": 5,
    "start_time": "2022-04-17T22:24:54.375Z"
   },
   {
    "duration": 8,
    "start_time": "2022-04-17T22:24:54.382Z"
   },
   {
    "duration": 6,
    "start_time": "2022-04-17T22:24:54.392Z"
   },
   {
    "duration": 194,
    "start_time": "2022-04-17T22:24:54.399Z"
   },
   {
    "duration": 257,
    "start_time": "2022-04-17T22:24:54.594Z"
   },
   {
    "duration": 235,
    "start_time": "2022-04-17T22:24:54.852Z"
   },
   {
    "duration": 232,
    "start_time": "2022-04-17T22:24:55.088Z"
   },
   {
    "duration": 295,
    "start_time": "2022-04-17T22:24:55.321Z"
   },
   {
    "duration": 20,
    "start_time": "2022-04-17T22:24:55.617Z"
   },
   {
    "duration": 34,
    "start_time": "2022-04-17T22:24:55.639Z"
   },
   {
    "duration": 22,
    "start_time": "2022-04-17T22:24:55.675Z"
   },
   {
    "duration": 20,
    "start_time": "2022-04-17T22:24:55.699Z"
   },
   {
    "duration": 23,
    "start_time": "2022-04-17T22:24:55.720Z"
   },
   {
    "duration": 150,
    "start_time": "2022-04-17T22:24:55.745Z"
   },
   {
    "duration": 291,
    "start_time": "2022-04-17T22:24:55.897Z"
   },
   {
    "duration": 23,
    "start_time": "2022-04-17T22:24:56.189Z"
   },
   {
    "duration": 2,
    "start_time": "2022-04-17T22:24:56.216Z"
   },
   {
    "duration": 5,
    "start_time": "2022-04-17T22:24:56.220Z"
   },
   {
    "duration": 5,
    "start_time": "2022-04-17T22:24:56.226Z"
   },
   {
    "duration": 5,
    "start_time": "2022-04-17T22:24:56.232Z"
   },
   {
    "duration": 5,
    "start_time": "2022-04-17T22:24:56.238Z"
   },
   {
    "duration": 5,
    "start_time": "2022-04-17T22:24:56.245Z"
   },
   {
    "duration": 2,
    "start_time": "2022-04-17T22:24:56.273Z"
   },
   {
    "duration": 5,
    "start_time": "2022-04-17T22:24:56.277Z"
   },
   {
    "duration": 5,
    "start_time": "2022-04-17T22:24:56.283Z"
   },
   {
    "duration": 6,
    "start_time": "2022-04-17T22:24:56.289Z"
   },
   {
    "duration": 5,
    "start_time": "2022-04-17T22:24:56.296Z"
   },
   {
    "duration": 6,
    "start_time": "2022-04-17T22:24:56.302Z"
   },
   {
    "duration": 7,
    "start_time": "2022-04-17T22:24:56.309Z"
   },
   {
    "duration": 35,
    "start_time": "2022-04-17T22:24:56.317Z"
   },
   {
    "duration": 2,
    "start_time": "2022-04-17T22:24:56.354Z"
   },
   {
    "duration": 2,
    "start_time": "2022-04-17T22:24:56.374Z"
   },
   {
    "duration": 73,
    "start_time": "2022-04-17T22:24:56.377Z"
   },
   {
    "duration": 48,
    "start_time": "2022-04-17T22:24:56.452Z"
   },
   {
    "duration": 4,
    "start_time": "2022-04-17T22:24:56.501Z"
   },
   {
    "duration": 6,
    "start_time": "2022-04-17T22:24:56.507Z"
   },
   {
    "duration": 6,
    "start_time": "2022-04-17T22:24:56.515Z"
   },
   {
    "duration": 23,
    "start_time": "2022-04-17T22:24:56.523Z"
   },
   {
    "duration": 26,
    "start_time": "2022-04-17T22:24:56.548Z"
   },
   {
    "duration": 5,
    "start_time": "2022-04-17T22:24:56.576Z"
   },
   {
    "duration": 5,
    "start_time": "2022-04-17T22:24:56.582Z"
   },
   {
    "duration": 6,
    "start_time": "2022-04-17T22:24:56.589Z"
   },
   {
    "duration": 6,
    "start_time": "2022-04-17T22:24:56.597Z"
   },
   {
    "duration": 6,
    "start_time": "2022-04-17T22:24:56.604Z"
   },
   {
    "duration": 108,
    "start_time": "2022-04-17T22:24:56.612Z"
   },
   {
    "duration": 0,
    "start_time": "2022-04-17T22:24:56.722Z"
   },
   {
    "duration": 0,
    "start_time": "2022-04-17T22:24:56.723Z"
   },
   {
    "duration": 0,
    "start_time": "2022-04-17T22:24:56.724Z"
   },
   {
    "duration": 0,
    "start_time": "2022-04-17T22:24:56.724Z"
   },
   {
    "duration": 0,
    "start_time": "2022-04-17T22:24:56.725Z"
   },
   {
    "duration": 0,
    "start_time": "2022-04-17T22:24:56.726Z"
   },
   {
    "duration": 13,
    "start_time": "2022-04-17T22:25:43.144Z"
   },
   {
    "duration": 3,
    "start_time": "2022-04-17T22:26:00.833Z"
   },
   {
    "duration": 2,
    "start_time": "2022-04-17T22:26:02.775Z"
   },
   {
    "duration": 28,
    "start_time": "2022-04-17T22:26:06.745Z"
   },
   {
    "duration": 4,
    "start_time": "2022-04-17T22:27:07.970Z"
   },
   {
    "duration": 1149,
    "start_time": "2022-04-17T22:27:07.976Z"
   },
   {
    "duration": 845,
    "start_time": "2022-04-17T22:27:09.126Z"
   },
   {
    "duration": 21,
    "start_time": "2022-04-17T22:27:09.973Z"
   },
   {
    "duration": 154,
    "start_time": "2022-04-17T22:27:09.998Z"
   },
   {
    "duration": 105,
    "start_time": "2022-04-17T22:27:10.154Z"
   },
   {
    "duration": 13,
    "start_time": "2022-04-17T22:27:10.261Z"
   },
   {
    "duration": 6,
    "start_time": "2022-04-17T22:27:10.277Z"
   },
   {
    "duration": 496,
    "start_time": "2022-04-17T22:27:10.285Z"
   },
   {
    "duration": 604,
    "start_time": "2022-04-17T22:27:10.784Z"
   },
   {
    "duration": 3,
    "start_time": "2022-04-17T22:27:11.390Z"
   },
   {
    "duration": 9,
    "start_time": "2022-04-17T22:27:11.394Z"
   },
   {
    "duration": 5,
    "start_time": "2022-04-17T22:27:11.405Z"
   },
   {
    "duration": 4,
    "start_time": "2022-04-17T22:27:11.413Z"
   },
   {
    "duration": 6,
    "start_time": "2022-04-17T22:27:11.419Z"
   },
   {
    "duration": 199,
    "start_time": "2022-04-17T22:27:11.427Z"
   },
   {
    "duration": 253,
    "start_time": "2022-04-17T22:27:11.628Z"
   },
   {
    "duration": 234,
    "start_time": "2022-04-17T22:27:11.883Z"
   },
   {
    "duration": 228,
    "start_time": "2022-04-17T22:27:12.119Z"
   },
   {
    "duration": 286,
    "start_time": "2022-04-17T22:27:12.349Z"
   },
   {
    "duration": 21,
    "start_time": "2022-04-17T22:27:12.638Z"
   },
   {
    "duration": 21,
    "start_time": "2022-04-17T22:27:12.674Z"
   },
   {
    "duration": 20,
    "start_time": "2022-04-17T22:27:12.697Z"
   },
   {
    "duration": 21,
    "start_time": "2022-04-17T22:27:12.719Z"
   },
   {
    "duration": 43,
    "start_time": "2022-04-17T22:27:12.742Z"
   },
   {
    "duration": 143,
    "start_time": "2022-04-17T22:27:12.787Z"
   },
   {
    "duration": 289,
    "start_time": "2022-04-17T22:27:12.932Z"
   },
   {
    "duration": 23,
    "start_time": "2022-04-17T22:27:13.223Z"
   },
   {
    "duration": 3,
    "start_time": "2022-04-17T22:27:13.248Z"
   },
   {
    "duration": 3,
    "start_time": "2022-04-17T22:27:13.273Z"
   },
   {
    "duration": 4,
    "start_time": "2022-04-17T22:27:13.278Z"
   },
   {
    "duration": 5,
    "start_time": "2022-04-17T22:27:13.283Z"
   },
   {
    "duration": 5,
    "start_time": "2022-04-17T22:27:13.290Z"
   },
   {
    "duration": 5,
    "start_time": "2022-04-17T22:27:13.296Z"
   },
   {
    "duration": 4,
    "start_time": "2022-04-17T22:27:13.303Z"
   },
   {
    "duration": 5,
    "start_time": "2022-04-17T22:27:13.308Z"
   },
   {
    "duration": 4,
    "start_time": "2022-04-17T22:27:13.315Z"
   },
   {
    "duration": 4,
    "start_time": "2022-04-17T22:27:13.321Z"
   },
   {
    "duration": 5,
    "start_time": "2022-04-17T22:27:13.327Z"
   },
   {
    "duration": 7,
    "start_time": "2022-04-17T22:27:13.333Z"
   },
   {
    "duration": 5,
    "start_time": "2022-04-17T22:27:13.344Z"
   },
   {
    "duration": 28,
    "start_time": "2022-04-17T22:27:13.372Z"
   },
   {
    "duration": 2,
    "start_time": "2022-04-17T22:27:13.402Z"
   },
   {
    "duration": 7,
    "start_time": "2022-04-17T22:27:13.405Z"
   },
   {
    "duration": 72,
    "start_time": "2022-04-17T22:27:13.414Z"
   },
   {
    "duration": 30,
    "start_time": "2022-04-17T22:27:13.488Z"
   },
   {
    "duration": 5,
    "start_time": "2022-04-17T22:27:13.520Z"
   },
   {
    "duration": 5,
    "start_time": "2022-04-17T22:27:13.526Z"
   },
   {
    "duration": 4,
    "start_time": "2022-04-17T22:27:13.533Z"
   },
   {
    "duration": 46,
    "start_time": "2022-04-17T22:27:13.539Z"
   },
   {
    "duration": 7,
    "start_time": "2022-04-17T22:27:13.586Z"
   },
   {
    "duration": 4,
    "start_time": "2022-04-17T22:27:13.595Z"
   },
   {
    "duration": 6,
    "start_time": "2022-04-17T22:27:13.601Z"
   },
   {
    "duration": 5,
    "start_time": "2022-04-17T22:27:13.608Z"
   },
   {
    "duration": 5,
    "start_time": "2022-04-17T22:27:13.615Z"
   },
   {
    "duration": 6,
    "start_time": "2022-04-17T22:27:13.622Z"
   },
   {
    "duration": 171469,
    "start_time": "2022-04-17T22:27:13.629Z"
   },
   {
    "duration": 433,
    "start_time": "2022-04-17T22:30:05.100Z"
   },
   {
    "duration": 5,
    "start_time": "2022-04-17T22:30:05.534Z"
   },
   {
    "duration": 13,
    "start_time": "2022-04-17T22:30:05.540Z"
   },
   {
    "duration": 680,
    "start_time": "2022-04-17T22:30:05.555Z"
   },
   {
    "duration": 6,
    "start_time": "2022-04-17T22:30:06.237Z"
   },
   {
    "duration": 30,
    "start_time": "2022-04-17T22:30:06.244Z"
   },
   {
    "duration": 52386,
    "start_time": "2022-04-17T22:30:42.211Z"
   },
   {
    "duration": 3,
    "start_time": "2022-04-17T22:35:25.268Z"
   },
   {
    "duration": 1426,
    "start_time": "2022-04-17T22:35:25.273Z"
   },
   {
    "duration": 844,
    "start_time": "2022-04-17T22:35:26.701Z"
   },
   {
    "duration": 17,
    "start_time": "2022-04-17T22:35:27.547Z"
   },
   {
    "duration": 134,
    "start_time": "2022-04-17T22:35:27.574Z"
   },
   {
    "duration": 102,
    "start_time": "2022-04-17T22:35:27.709Z"
   },
   {
    "duration": 5,
    "start_time": "2022-04-17T22:35:27.812Z"
   },
   {
    "duration": 24,
    "start_time": "2022-04-17T22:35:27.819Z"
   },
   {
    "duration": 9923,
    "start_time": "2022-04-17T22:35:27.844Z"
   },
   {
    "duration": 159,
    "start_time": "2022-04-17T22:35:37.772Z"
   },
   {
    "duration": 190,
    "start_time": "2022-04-17T22:35:37.934Z"
   },
   {
    "duration": 2,
    "start_time": "2022-04-17T22:35:38.126Z"
   },
   {
    "duration": 5,
    "start_time": "2022-04-17T22:35:38.130Z"
   },
   {
    "duration": 6,
    "start_time": "2022-04-17T22:35:38.136Z"
   },
   {
    "duration": 5,
    "start_time": "2022-04-17T22:35:38.143Z"
   },
   {
    "duration": 6,
    "start_time": "2022-04-17T22:35:38.149Z"
   },
   {
    "duration": 166,
    "start_time": "2022-04-17T22:35:38.156Z"
   },
   {
    "duration": 208,
    "start_time": "2022-04-17T22:35:38.323Z"
   },
   {
    "duration": 1841,
    "start_time": "2022-04-17T22:35:38.532Z"
   },
   {
    "duration": 0,
    "start_time": "2022-04-17T22:35:40.375Z"
   },
   {
    "duration": 0,
    "start_time": "2022-04-17T22:35:40.377Z"
   },
   {
    "duration": 0,
    "start_time": "2022-04-17T22:35:40.378Z"
   },
   {
    "duration": 0,
    "start_time": "2022-04-17T22:35:40.379Z"
   },
   {
    "duration": 1,
    "start_time": "2022-04-17T22:35:40.379Z"
   },
   {
    "duration": 0,
    "start_time": "2022-04-17T22:35:40.381Z"
   },
   {
    "duration": 0,
    "start_time": "2022-04-17T22:35:40.381Z"
   },
   {
    "duration": 0,
    "start_time": "2022-04-17T22:35:40.382Z"
   },
   {
    "duration": 0,
    "start_time": "2022-04-17T22:35:40.383Z"
   },
   {
    "duration": 0,
    "start_time": "2022-04-17T22:35:40.385Z"
   },
   {
    "duration": 0,
    "start_time": "2022-04-17T22:35:40.386Z"
   },
   {
    "duration": 0,
    "start_time": "2022-04-17T22:35:40.387Z"
   },
   {
    "duration": 0,
    "start_time": "2022-04-17T22:35:40.388Z"
   },
   {
    "duration": 0,
    "start_time": "2022-04-17T22:35:40.389Z"
   },
   {
    "duration": 0,
    "start_time": "2022-04-17T22:35:40.390Z"
   },
   {
    "duration": 0,
    "start_time": "2022-04-17T22:35:40.390Z"
   },
   {
    "duration": 0,
    "start_time": "2022-04-17T22:35:40.392Z"
   },
   {
    "duration": 0,
    "start_time": "2022-04-17T22:35:40.392Z"
   },
   {
    "duration": 0,
    "start_time": "2022-04-17T22:35:40.394Z"
   },
   {
    "duration": 1,
    "start_time": "2022-04-17T22:35:40.394Z"
   },
   {
    "duration": 0,
    "start_time": "2022-04-17T22:35:40.395Z"
   },
   {
    "duration": 0,
    "start_time": "2022-04-17T22:35:40.396Z"
   },
   {
    "duration": 0,
    "start_time": "2022-04-17T22:35:40.397Z"
   },
   {
    "duration": 0,
    "start_time": "2022-04-17T22:35:40.398Z"
   },
   {
    "duration": 0,
    "start_time": "2022-04-17T22:35:40.399Z"
   },
   {
    "duration": 0,
    "start_time": "2022-04-17T22:35:40.400Z"
   },
   {
    "duration": 0,
    "start_time": "2022-04-17T22:35:40.401Z"
   },
   {
    "duration": 0,
    "start_time": "2022-04-17T22:35:40.402Z"
   },
   {
    "duration": 0,
    "start_time": "2022-04-17T22:35:40.403Z"
   },
   {
    "duration": 0,
    "start_time": "2022-04-17T22:35:40.404Z"
   },
   {
    "duration": 0,
    "start_time": "2022-04-17T22:35:40.405Z"
   },
   {
    "duration": 0,
    "start_time": "2022-04-17T22:35:40.406Z"
   },
   {
    "duration": 0,
    "start_time": "2022-04-17T22:35:40.407Z"
   },
   {
    "duration": 0,
    "start_time": "2022-04-17T22:35:40.408Z"
   },
   {
    "duration": 0,
    "start_time": "2022-04-17T22:35:40.408Z"
   },
   {
    "duration": 0,
    "start_time": "2022-04-17T22:35:40.409Z"
   },
   {
    "duration": 0,
    "start_time": "2022-04-17T22:35:40.410Z"
   },
   {
    "duration": 0,
    "start_time": "2022-04-17T22:35:40.411Z"
   },
   {
    "duration": 0,
    "start_time": "2022-04-17T22:35:40.412Z"
   },
   {
    "duration": 0,
    "start_time": "2022-04-17T22:35:40.473Z"
   },
   {
    "duration": 0,
    "start_time": "2022-04-17T22:35:40.475Z"
   },
   {
    "duration": 0,
    "start_time": "2022-04-17T22:35:40.476Z"
   },
   {
    "duration": 0,
    "start_time": "2022-04-17T22:35:40.477Z"
   },
   {
    "duration": 0,
    "start_time": "2022-04-17T22:35:40.478Z"
   },
   {
    "duration": 0,
    "start_time": "2022-04-17T22:35:40.479Z"
   },
   {
    "duration": 236,
    "start_time": "2022-04-17T22:38:24.987Z"
   },
   {
    "duration": 17,
    "start_time": "2022-04-17T22:38:46.685Z"
   },
   {
    "duration": 17,
    "start_time": "2022-04-17T22:38:49.841Z"
   },
   {
    "duration": 18,
    "start_time": "2022-04-17T22:39:20.889Z"
   },
   {
    "duration": 215,
    "start_time": "2022-04-17T22:39:23.674Z"
   },
   {
    "duration": 19,
    "start_time": "2022-04-17T22:39:26.960Z"
   },
   {
    "duration": 3,
    "start_time": "2022-04-17T22:39:45.709Z"
   },
   {
    "duration": 1385,
    "start_time": "2022-04-17T22:39:45.715Z"
   },
   {
    "duration": 853,
    "start_time": "2022-04-17T22:39:47.102Z"
   },
   {
    "duration": 21,
    "start_time": "2022-04-17T22:39:47.957Z"
   },
   {
    "duration": 131,
    "start_time": "2022-04-17T22:39:47.980Z"
   },
   {
    "duration": 104,
    "start_time": "2022-04-17T22:39:48.113Z"
   },
   {
    "duration": 5,
    "start_time": "2022-04-17T22:39:48.219Z"
   },
   {
    "duration": 23,
    "start_time": "2022-04-17T22:39:48.225Z"
   },
   {
    "duration": 9540,
    "start_time": "2022-04-17T22:39:48.250Z"
   },
   {
    "duration": 161,
    "start_time": "2022-04-17T22:39:57.792Z"
   },
   {
    "duration": 197,
    "start_time": "2022-04-17T22:39:57.956Z"
   },
   {
    "duration": 2,
    "start_time": "2022-04-17T22:39:58.155Z"
   },
   {
    "duration": 5,
    "start_time": "2022-04-17T22:39:58.159Z"
   },
   {
    "duration": 5,
    "start_time": "2022-04-17T22:39:58.165Z"
   },
   {
    "duration": 6,
    "start_time": "2022-04-17T22:39:58.174Z"
   },
   {
    "duration": 5,
    "start_time": "2022-04-17T22:39:58.181Z"
   },
   {
    "duration": 163,
    "start_time": "2022-04-17T22:39:58.187Z"
   },
   {
    "duration": 210,
    "start_time": "2022-04-17T22:39:58.351Z"
   },
   {
    "duration": 2,
    "start_time": "2022-04-17T22:39:58.563Z"
   },
   {
    "duration": 8,
    "start_time": "2022-04-17T22:39:58.566Z"
   },
   {
    "duration": 242,
    "start_time": "2022-04-17T22:39:58.575Z"
   },
   {
    "duration": 17,
    "start_time": "2022-04-17T22:39:58.819Z"
   },
   {
    "duration": 24,
    "start_time": "2022-04-17T22:39:58.837Z"
   },
   {
    "duration": 12,
    "start_time": "2022-04-17T22:39:58.863Z"
   },
   {
    "duration": 7,
    "start_time": "2022-04-17T22:39:58.877Z"
   },
   {
    "duration": 25,
    "start_time": "2022-04-17T22:39:58.886Z"
   },
   {
    "duration": 52,
    "start_time": "2022-04-17T22:39:58.912Z"
   },
   {
    "duration": 230,
    "start_time": "2022-04-17T22:39:58.972Z"
   },
   {
    "duration": 19,
    "start_time": "2022-04-17T22:39:59.206Z"
   },
   {
    "duration": 5,
    "start_time": "2022-04-17T22:39:59.227Z"
   },
   {
    "duration": 11,
    "start_time": "2022-04-17T22:39:59.234Z"
   },
   {
    "duration": 12,
    "start_time": "2022-04-17T22:39:59.246Z"
   },
   {
    "duration": 14,
    "start_time": "2022-04-17T22:39:59.260Z"
   },
   {
    "duration": 10,
    "start_time": "2022-04-17T22:39:59.276Z"
   },
   {
    "duration": 10,
    "start_time": "2022-04-17T22:39:59.288Z"
   },
   {
    "duration": 6,
    "start_time": "2022-04-17T22:39:59.299Z"
   },
   {
    "duration": 9,
    "start_time": "2022-04-17T22:39:59.307Z"
   },
   {
    "duration": 8,
    "start_time": "2022-04-17T22:39:59.318Z"
   },
   {
    "duration": 12,
    "start_time": "2022-04-17T22:39:59.328Z"
   },
   {
    "duration": 9,
    "start_time": "2022-04-17T22:39:59.342Z"
   },
   {
    "duration": 7,
    "start_time": "2022-04-17T22:39:59.353Z"
   },
   {
    "duration": 7,
    "start_time": "2022-04-17T22:39:59.362Z"
   },
   {
    "duration": 10,
    "start_time": "2022-04-17T22:39:59.370Z"
   },
   {
    "duration": 5,
    "start_time": "2022-04-17T22:39:59.382Z"
   },
   {
    "duration": 7,
    "start_time": "2022-04-17T22:39:59.389Z"
   },
   {
    "duration": 56,
    "start_time": "2022-04-17T22:39:59.398Z"
   },
   {
    "duration": 21,
    "start_time": "2022-04-17T22:39:59.456Z"
   },
   {
    "duration": 3,
    "start_time": "2022-04-17T22:39:59.479Z"
   },
   {
    "duration": 12,
    "start_time": "2022-04-17T22:39:59.484Z"
   },
   {
    "duration": 11,
    "start_time": "2022-04-17T22:39:59.498Z"
   },
   {
    "duration": 26,
    "start_time": "2022-04-17T22:39:59.510Z"
   },
   {
    "duration": 8,
    "start_time": "2022-04-17T22:39:59.537Z"
   },
   {
    "duration": 12,
    "start_time": "2022-04-17T22:39:59.547Z"
   },
   {
    "duration": 12,
    "start_time": "2022-04-17T22:39:59.560Z"
   },
   {
    "duration": 6,
    "start_time": "2022-04-17T22:39:59.574Z"
   },
   {
    "duration": 5,
    "start_time": "2022-04-17T22:39:59.581Z"
   },
   {
    "duration": 5,
    "start_time": "2022-04-17T22:39:59.588Z"
   },
   {
    "duration": 145770,
    "start_time": "2022-04-17T22:39:59.595Z"
   },
   {
    "duration": 147,
    "start_time": "2022-04-17T22:42:25.366Z"
   },
   {
    "duration": 4,
    "start_time": "2022-04-17T22:42:25.515Z"
   },
   {
    "duration": 9,
    "start_time": "2022-04-17T22:42:25.520Z"
   },
   {
    "duration": 516,
    "start_time": "2022-04-17T22:42:25.531Z"
   },
   {
    "duration": 6,
    "start_time": "2022-04-17T22:42:26.049Z"
   },
   {
    "duration": 27,
    "start_time": "2022-04-17T22:42:26.057Z"
   },
   {
    "duration": 99245,
    "start_time": "2022-04-17T22:44:35.557Z"
   },
   {
    "duration": 26,
    "start_time": "2022-04-17T22:46:51.623Z"
   },
   {
    "duration": 227,
    "start_time": "2022-04-17T23:02:53.287Z"
   },
   {
    "duration": 105,
    "start_time": "2022-04-17T23:04:56.129Z"
   },
   {
    "duration": 4,
    "start_time": "2022-04-17T23:06:05.581Z"
   },
   {
    "duration": 1477,
    "start_time": "2022-04-17T23:06:05.587Z"
   },
   {
    "duration": 877,
    "start_time": "2022-04-17T23:06:07.066Z"
   },
   {
    "duration": 17,
    "start_time": "2022-04-17T23:06:07.944Z"
   },
   {
    "duration": 3,
    "start_time": "2022-04-17T23:06:07.973Z"
   },
   {
    "duration": 136,
    "start_time": "2022-04-17T23:06:07.978Z"
   },
   {
    "duration": 111,
    "start_time": "2022-04-17T23:06:08.116Z"
   },
   {
    "duration": 478,
    "start_time": "2022-04-17T23:06:08.229Z"
   },
   {
    "duration": 3,
    "start_time": "2022-04-17T23:06:08.709Z"
   },
   {
    "duration": 20,
    "start_time": "2022-04-17T23:06:08.713Z"
   },
   {
    "duration": 2,
    "start_time": "2022-04-17T23:06:08.735Z"
   },
   {
    "duration": 196,
    "start_time": "2022-04-17T23:06:08.739Z"
   },
   {
    "duration": 253,
    "start_time": "2022-04-17T23:06:08.937Z"
   },
   {
    "duration": 284,
    "start_time": "2022-04-17T23:06:09.193Z"
   },
   {
    "duration": 20,
    "start_time": "2022-04-17T23:06:09.479Z"
   },
   {
    "duration": 21,
    "start_time": "2022-04-17T23:06:09.500Z"
   },
   {
    "duration": 22,
    "start_time": "2022-04-17T23:06:09.523Z"
   },
   {
    "duration": 151,
    "start_time": "2022-04-17T23:06:09.547Z"
   },
   {
    "duration": 56,
    "start_time": "2022-04-17T23:06:09.699Z"
   },
   {
    "duration": 31,
    "start_time": "2022-04-17T23:06:09.757Z"
   },
   {
    "duration": 4,
    "start_time": "2022-04-17T23:06:09.790Z"
   },
   {
    "duration": 6,
    "start_time": "2022-04-17T23:06:09.796Z"
   },
   {
    "duration": 5,
    "start_time": "2022-04-17T23:06:09.803Z"
   },
   {
    "duration": 24,
    "start_time": "2022-04-17T23:06:09.809Z"
   },
   {
    "duration": 4,
    "start_time": "2022-04-17T23:06:09.834Z"
   },
   {
    "duration": 34,
    "start_time": "2022-04-17T23:06:09.840Z"
   },
   {
    "duration": 4,
    "start_time": "2022-04-17T23:06:09.876Z"
   },
   {
    "duration": 5,
    "start_time": "2022-04-17T23:06:09.882Z"
   },
   {
    "duration": 10,
    "start_time": "2022-04-17T23:06:09.888Z"
   },
   {
    "duration": 7,
    "start_time": "2022-04-17T23:06:09.899Z"
   },
   {
    "duration": 7,
    "start_time": "2022-04-17T23:06:09.908Z"
   },
   {
    "duration": 151,
    "start_time": "2022-04-17T23:06:09.916Z"
   },
   {
    "duration": 6,
    "start_time": "2022-04-17T23:06:10.069Z"
   },
   {
    "duration": 4,
    "start_time": "2022-04-17T23:06:10.076Z"
   },
   {
    "duration": 125,
    "start_time": "2022-04-17T23:06:10.081Z"
   },
   {
    "duration": 0,
    "start_time": "2022-04-17T23:06:10.208Z"
   },
   {
    "duration": 0,
    "start_time": "2022-04-17T23:06:10.209Z"
   },
   {
    "duration": 138,
    "start_time": "2022-04-17T23:07:46.749Z"
   },
   {
    "duration": 4,
    "start_time": "2022-04-17T23:09:02.276Z"
   },
   {
    "duration": 1472,
    "start_time": "2022-04-17T23:09:02.282Z"
   },
   {
    "duration": 881,
    "start_time": "2022-04-17T23:09:03.755Z"
   },
   {
    "duration": 17,
    "start_time": "2022-04-17T23:09:04.638Z"
   },
   {
    "duration": 16,
    "start_time": "2022-04-17T23:09:04.657Z"
   },
   {
    "duration": 140,
    "start_time": "2022-04-17T23:09:04.675Z"
   },
   {
    "duration": 105,
    "start_time": "2022-04-17T23:09:04.817Z"
   },
   {
    "duration": 500,
    "start_time": "2022-04-17T23:09:04.924Z"
   },
   {
    "duration": 610,
    "start_time": "2022-04-17T23:09:05.425Z"
   },
   {
    "duration": 28,
    "start_time": "2022-04-17T23:09:06.037Z"
   },
   {
    "duration": 2,
    "start_time": "2022-04-17T23:09:06.075Z"
   },
   {
    "duration": 195,
    "start_time": "2022-04-17T23:09:06.079Z"
   },
   {
    "duration": 251,
    "start_time": "2022-04-17T23:09:06.275Z"
   },
   {
    "duration": 276,
    "start_time": "2022-04-17T23:09:06.528Z"
   },
   {
    "duration": 20,
    "start_time": "2022-04-17T23:09:06.805Z"
   },
   {
    "duration": 20,
    "start_time": "2022-04-17T23:09:06.826Z"
   },
   {
    "duration": 41,
    "start_time": "2022-04-17T23:09:06.848Z"
   },
   {
    "duration": 125,
    "start_time": "2022-04-17T23:09:06.891Z"
   },
   {
    "duration": 131,
    "start_time": "2022-04-17T23:09:07.018Z"
   },
   {
    "duration": 66,
    "start_time": "2022-04-17T23:09:07.150Z"
   },
   {
    "duration": 28,
    "start_time": "2022-04-17T23:09:07.218Z"
   },
   {
    "duration": 4,
    "start_time": "2022-04-17T23:09:07.248Z"
   },
   {
    "duration": 21,
    "start_time": "2022-04-17T23:09:07.253Z"
   },
   {
    "duration": 4,
    "start_time": "2022-04-17T23:09:07.276Z"
   },
   {
    "duration": 22,
    "start_time": "2022-04-17T23:09:07.282Z"
   },
   {
    "duration": 5,
    "start_time": "2022-04-17T23:09:07.306Z"
   },
   {
    "duration": 17,
    "start_time": "2022-04-17T23:09:07.312Z"
   },
   {
    "duration": 7,
    "start_time": "2022-04-17T23:09:07.330Z"
   },
   {
    "duration": 4,
    "start_time": "2022-04-17T23:09:07.340Z"
   },
   {
    "duration": 5,
    "start_time": "2022-04-17T23:09:07.345Z"
   },
   {
    "duration": 5,
    "start_time": "2022-04-17T23:09:07.352Z"
   },
   {
    "duration": 2,
    "start_time": "2022-04-17T23:09:07.373Z"
   },
   {
    "duration": 148,
    "start_time": "2022-04-17T23:09:07.377Z"
   },
   {
    "duration": 5,
    "start_time": "2022-04-17T23:09:07.526Z"
   },
   {
    "duration": 6,
    "start_time": "2022-04-17T23:09:07.533Z"
   },
   {
    "duration": 129,
    "start_time": "2022-04-17T23:09:07.540Z"
   },
   {
    "duration": 0,
    "start_time": "2022-04-17T23:09:07.673Z"
   },
   {
    "duration": 0,
    "start_time": "2022-04-17T23:09:07.674Z"
   },
   {
    "duration": 51,
    "start_time": "2022-04-18T13:21:22.045Z"
   },
   {
    "duration": 0,
    "start_time": "2022-04-18T13:22:45.638Z"
   },
   {
    "duration": 0,
    "start_time": "2022-04-18T13:22:45.639Z"
   },
   {
    "duration": 0,
    "start_time": "2022-04-18T13:22:45.640Z"
   },
   {
    "duration": 0,
    "start_time": "2022-04-18T13:22:45.641Z"
   },
   {
    "duration": 0,
    "start_time": "2022-04-18T13:22:45.643Z"
   },
   {
    "duration": 0,
    "start_time": "2022-04-18T13:22:45.644Z"
   },
   {
    "duration": 0,
    "start_time": "2022-04-18T13:22:45.645Z"
   },
   {
    "duration": 0,
    "start_time": "2022-04-18T13:22:45.646Z"
   },
   {
    "duration": 0,
    "start_time": "2022-04-18T13:22:45.647Z"
   },
   {
    "duration": 0,
    "start_time": "2022-04-18T13:22:45.648Z"
   },
   {
    "duration": 0,
    "start_time": "2022-04-18T13:22:45.649Z"
   },
   {
    "duration": 0,
    "start_time": "2022-04-18T13:22:45.674Z"
   },
   {
    "duration": 0,
    "start_time": "2022-04-18T13:22:45.676Z"
   },
   {
    "duration": 0,
    "start_time": "2022-04-18T13:22:45.677Z"
   },
   {
    "duration": 0,
    "start_time": "2022-04-18T13:22:45.678Z"
   },
   {
    "duration": 0,
    "start_time": "2022-04-18T13:22:45.679Z"
   },
   {
    "duration": 0,
    "start_time": "2022-04-18T13:22:45.680Z"
   },
   {
    "duration": 0,
    "start_time": "2022-04-18T13:22:45.681Z"
   },
   {
    "duration": 0,
    "start_time": "2022-04-18T13:22:45.682Z"
   },
   {
    "duration": 0,
    "start_time": "2022-04-18T13:22:45.684Z"
   },
   {
    "duration": 0,
    "start_time": "2022-04-18T13:22:45.685Z"
   },
   {
    "duration": 0,
    "start_time": "2022-04-18T13:22:45.686Z"
   },
   {
    "duration": 0,
    "start_time": "2022-04-18T13:22:45.687Z"
   },
   {
    "duration": 0,
    "start_time": "2022-04-18T13:22:45.688Z"
   },
   {
    "duration": 0,
    "start_time": "2022-04-18T13:22:45.689Z"
   },
   {
    "duration": 0,
    "start_time": "2022-04-18T13:22:45.690Z"
   },
   {
    "duration": 0,
    "start_time": "2022-04-18T13:22:45.691Z"
   },
   {
    "duration": 0,
    "start_time": "2022-04-18T13:22:45.692Z"
   },
   {
    "duration": 0,
    "start_time": "2022-04-18T13:22:45.694Z"
   },
   {
    "duration": 0,
    "start_time": "2022-04-18T13:22:45.695Z"
   },
   {
    "duration": 0,
    "start_time": "2022-04-18T13:22:45.696Z"
   },
   {
    "duration": 0,
    "start_time": "2022-04-18T13:22:45.698Z"
   },
   {
    "duration": 1216,
    "start_time": "2022-04-18T13:22:58.571Z"
   },
   {
    "duration": 948,
    "start_time": "2022-04-18T13:22:59.790Z"
   },
   {
    "duration": 22,
    "start_time": "2022-04-18T13:23:00.741Z"
   },
   {
    "duration": 4,
    "start_time": "2022-04-18T13:23:00.775Z"
   },
   {
    "duration": 155,
    "start_time": "2022-04-18T13:23:00.781Z"
   },
   {
    "duration": 120,
    "start_time": "2022-04-18T13:23:00.938Z"
   },
   {
    "duration": 524,
    "start_time": "2022-04-18T13:23:01.060Z"
   },
   {
    "duration": 661,
    "start_time": "2022-04-18T13:23:01.586Z"
   },
   {
    "duration": 34,
    "start_time": "2022-04-18T13:23:02.249Z"
   },
   {
    "duration": 22,
    "start_time": "2022-04-18T13:23:02.287Z"
   },
   {
    "duration": 23,
    "start_time": "2022-04-18T13:23:02.311Z"
   },
   {
    "duration": 48,
    "start_time": "2022-04-18T13:23:02.335Z"
   },
   {
    "duration": 70,
    "start_time": "2022-04-18T13:23:02.384Z"
   },
   {
    "duration": 81,
    "start_time": "2022-04-18T13:23:02.455Z"
   },
   {
    "duration": 56,
    "start_time": "2022-04-18T13:23:02.538Z"
   },
   {
    "duration": 4,
    "start_time": "2022-04-18T13:23:02.596Z"
   },
   {
    "duration": 15,
    "start_time": "2022-04-18T13:23:02.602Z"
   },
   {
    "duration": 11,
    "start_time": "2022-04-18T13:23:02.619Z"
   },
   {
    "duration": 38,
    "start_time": "2022-04-18T13:23:02.632Z"
   },
   {
    "duration": 6,
    "start_time": "2022-04-18T13:23:02.674Z"
   },
   {
    "duration": 27,
    "start_time": "2022-04-18T13:23:02.682Z"
   },
   {
    "duration": 31,
    "start_time": "2022-04-18T13:23:02.712Z"
   },
   {
    "duration": 13,
    "start_time": "2022-04-18T13:23:02.746Z"
   },
   {
    "duration": 8,
    "start_time": "2022-04-18T13:23:02.761Z"
   },
   {
    "duration": 20,
    "start_time": "2022-04-18T13:23:02.771Z"
   },
   {
    "duration": 16,
    "start_time": "2022-04-18T13:23:02.794Z"
   },
   {
    "duration": 501,
    "start_time": "2022-04-18T13:23:02.813Z"
   },
   {
    "duration": 5,
    "start_time": "2022-04-18T13:23:03.318Z"
   },
   {
    "duration": 14,
    "start_time": "2022-04-18T13:23:03.325Z"
   },
   {
    "duration": 132,
    "start_time": "2022-04-18T13:23:03.341Z"
   },
   {
    "duration": 0,
    "start_time": "2022-04-18T13:23:03.475Z"
   },
   {
    "duration": 0,
    "start_time": "2022-04-18T13:23:03.477Z"
   },
   {
    "duration": 1220,
    "start_time": "2022-04-18T13:56:31.055Z"
   },
   {
    "duration": 886,
    "start_time": "2022-04-18T13:56:32.277Z"
   },
   {
    "duration": 21,
    "start_time": "2022-04-18T13:56:33.165Z"
   },
   {
    "duration": 10,
    "start_time": "2022-04-18T13:56:33.188Z"
   },
   {
    "duration": 145,
    "start_time": "2022-04-18T13:56:33.200Z"
   },
   {
    "duration": 100,
    "start_time": "2022-04-18T13:56:33.347Z"
   },
   {
    "duration": 496,
    "start_time": "2022-04-18T13:56:33.448Z"
   },
   {
    "duration": 623,
    "start_time": "2022-04-18T13:56:33.946Z"
   },
   {
    "duration": 26,
    "start_time": "2022-04-18T13:56:34.573Z"
   },
   {
    "duration": 22,
    "start_time": "2022-04-18T13:56:34.601Z"
   },
   {
    "duration": 21,
    "start_time": "2022-04-18T13:56:34.625Z"
   },
   {
    "duration": 23,
    "start_time": "2022-04-18T13:56:34.674Z"
   },
   {
    "duration": 175,
    "start_time": "2022-04-18T13:56:34.699Z"
   },
   {
    "duration": 0,
    "start_time": "2022-04-18T13:56:34.877Z"
   },
   {
    "duration": 0,
    "start_time": "2022-04-18T13:56:34.878Z"
   },
   {
    "duration": 0,
    "start_time": "2022-04-18T13:56:34.880Z"
   },
   {
    "duration": 0,
    "start_time": "2022-04-18T13:56:34.881Z"
   },
   {
    "duration": 0,
    "start_time": "2022-04-18T13:56:34.883Z"
   },
   {
    "duration": 0,
    "start_time": "2022-04-18T13:56:34.885Z"
   },
   {
    "duration": 0,
    "start_time": "2022-04-18T13:56:34.886Z"
   },
   {
    "duration": 0,
    "start_time": "2022-04-18T13:56:34.887Z"
   },
   {
    "duration": 0,
    "start_time": "2022-04-18T13:56:34.889Z"
   },
   {
    "duration": 0,
    "start_time": "2022-04-18T13:56:34.890Z"
   },
   {
    "duration": 0,
    "start_time": "2022-04-18T13:56:34.892Z"
   },
   {
    "duration": 0,
    "start_time": "2022-04-18T13:56:34.893Z"
   },
   {
    "duration": 0,
    "start_time": "2022-04-18T13:56:34.895Z"
   },
   {
    "duration": 0,
    "start_time": "2022-04-18T13:56:34.896Z"
   },
   {
    "duration": 0,
    "start_time": "2022-04-18T13:56:34.897Z"
   },
   {
    "duration": 0,
    "start_time": "2022-04-18T13:56:34.899Z"
   },
   {
    "duration": 1,
    "start_time": "2022-04-18T13:56:34.900Z"
   },
   {
    "duration": 1141,
    "start_time": "2022-04-18T13:56:52.216Z"
   },
   {
    "duration": 896,
    "start_time": "2022-04-18T13:56:53.359Z"
   },
   {
    "duration": 21,
    "start_time": "2022-04-18T13:56:54.257Z"
   },
   {
    "duration": 4,
    "start_time": "2022-04-18T13:56:54.280Z"
   },
   {
    "duration": 151,
    "start_time": "2022-04-18T13:56:54.287Z"
   },
   {
    "duration": 106,
    "start_time": "2022-04-18T13:56:54.440Z"
   },
   {
    "duration": 491,
    "start_time": "2022-04-18T13:56:54.548Z"
   },
   {
    "duration": 568,
    "start_time": "2022-04-18T13:56:55.041Z"
   },
   {
    "duration": 26,
    "start_time": "2022-04-18T13:56:55.610Z"
   },
   {
    "duration": 35,
    "start_time": "2022-04-18T13:56:55.638Z"
   },
   {
    "duration": 21,
    "start_time": "2022-04-18T13:56:55.675Z"
   },
   {
    "duration": 28,
    "start_time": "2022-04-18T13:56:55.697Z"
   },
   {
    "duration": 72,
    "start_time": "2022-04-18T13:56:55.727Z"
   },
   {
    "duration": 25,
    "start_time": "2022-04-18T13:56:55.802Z"
   },
   {
    "duration": 3,
    "start_time": "2022-04-18T13:56:55.829Z"
   },
   {
    "duration": 8,
    "start_time": "2022-04-18T13:56:55.834Z"
   },
   {
    "duration": 30,
    "start_time": "2022-04-18T13:56:55.844Z"
   },
   {
    "duration": 21,
    "start_time": "2022-04-18T13:56:55.876Z"
   },
   {
    "duration": 12,
    "start_time": "2022-04-18T13:56:55.899Z"
   },
   {
    "duration": 9,
    "start_time": "2022-04-18T13:56:55.912Z"
   },
   {
    "duration": 11,
    "start_time": "2022-04-18T13:56:55.923Z"
   },
   {
    "duration": 5,
    "start_time": "2022-04-18T13:56:55.936Z"
   },
   {
    "duration": 7,
    "start_time": "2022-04-18T13:56:55.943Z"
   },
   {
    "duration": 177077,
    "start_time": "2022-04-18T13:56:55.952Z"
   },
   {
    "duration": 450,
    "start_time": "2022-04-18T13:59:53.030Z"
   },
   {
    "duration": 6,
    "start_time": "2022-04-18T13:59:53.481Z"
   },
   {
    "duration": 23,
    "start_time": "2022-04-18T13:59:53.488Z"
   },
   {
    "duration": 677,
    "start_time": "2022-04-18T13:59:53.513Z"
   },
   {
    "duration": 7,
    "start_time": "2022-04-18T13:59:54.192Z"
   },
   {
    "duration": 21,
    "start_time": "2022-04-18T13:59:54.201Z"
   },
   {
    "duration": 1498,
    "start_time": "2022-04-18T14:08:06.291Z"
   },
   {
    "duration": 1352,
    "start_time": "2022-04-18T14:08:13.121Z"
   },
   {
    "duration": 26,
    "start_time": "2022-04-18T14:51:58.981Z"
   },
   {
    "duration": 4,
    "start_time": "2022-04-18T15:09:03.279Z"
   },
   {
    "duration": 4,
    "start_time": "2022-04-18T15:09:06.169Z"
   },
   {
    "duration": 7,
    "start_time": "2022-04-18T15:09:12.559Z"
   },
   {
    "duration": 124,
    "start_time": "2022-04-18T15:09:23.788Z"
   },
   {
    "duration": 3,
    "start_time": "2022-04-18T15:09:41.694Z"
   },
   {
    "duration": 563,
    "start_time": "2022-04-18T15:09:45.679Z"
   },
   {
    "duration": 3,
    "start_time": "2022-04-18T15:14:30.081Z"
   },
   {
    "duration": 3,
    "start_time": "2022-04-18T15:14:32.280Z"
   },
   {
    "duration": 140,
    "start_time": "2022-04-18T15:14:35.227Z"
   },
   {
    "duration": 2,
    "start_time": "2022-04-18T15:16:46.558Z"
   },
   {
    "duration": 2,
    "start_time": "2022-04-18T15:16:50.000Z"
   },
   {
    "duration": 1156,
    "start_time": "2022-04-18T15:16:55.804Z"
   },
   {
    "duration": 1283,
    "start_time": "2022-04-18T15:20:16.823Z"
   },
   {
    "duration": 976,
    "start_time": "2022-04-18T15:20:18.108Z"
   },
   {
    "duration": 20,
    "start_time": "2022-04-18T15:20:19.086Z"
   },
   {
    "duration": 5,
    "start_time": "2022-04-18T15:20:19.107Z"
   },
   {
    "duration": 147,
    "start_time": "2022-04-18T15:20:19.114Z"
   },
   {
    "duration": 114,
    "start_time": "2022-04-18T15:20:19.263Z"
   },
   {
    "duration": 530,
    "start_time": "2022-04-18T15:20:19.379Z"
   },
   {
    "duration": 584,
    "start_time": "2022-04-18T15:20:19.911Z"
   },
   {
    "duration": 31,
    "start_time": "2022-04-18T15:20:20.497Z"
   },
   {
    "duration": 19,
    "start_time": "2022-04-18T15:20:20.530Z"
   },
   {
    "duration": 37,
    "start_time": "2022-04-18T15:20:20.550Z"
   },
   {
    "duration": 22,
    "start_time": "2022-04-18T15:20:20.589Z"
   },
   {
    "duration": 77,
    "start_time": "2022-04-18T15:20:20.613Z"
   },
   {
    "duration": 130,
    "start_time": "2022-04-18T15:20:20.693Z"
   },
   {
    "duration": 0,
    "start_time": "2022-04-18T15:20:20.825Z"
   },
   {
    "duration": 1,
    "start_time": "2022-04-18T15:20:20.826Z"
   },
   {
    "duration": 0,
    "start_time": "2022-04-18T15:20:20.828Z"
   },
   {
    "duration": 0,
    "start_time": "2022-04-18T15:20:20.829Z"
   },
   {
    "duration": 0,
    "start_time": "2022-04-18T15:20:20.830Z"
   },
   {
    "duration": 0,
    "start_time": "2022-04-18T15:20:20.831Z"
   },
   {
    "duration": 1,
    "start_time": "2022-04-18T15:20:20.832Z"
   },
   {
    "duration": 0,
    "start_time": "2022-04-18T15:20:20.834Z"
   },
   {
    "duration": 0,
    "start_time": "2022-04-18T15:20:20.835Z"
   },
   {
    "duration": 0,
    "start_time": "2022-04-18T15:20:20.836Z"
   },
   {
    "duration": 0,
    "start_time": "2022-04-18T15:20:20.837Z"
   },
   {
    "duration": 0,
    "start_time": "2022-04-18T15:20:20.838Z"
   },
   {
    "duration": 0,
    "start_time": "2022-04-18T15:20:20.839Z"
   },
   {
    "duration": 0,
    "start_time": "2022-04-18T15:20:20.840Z"
   },
   {
    "duration": 1315,
    "start_time": "2022-04-18T15:20:42.858Z"
   },
   {
    "duration": 981,
    "start_time": "2022-04-18T15:20:44.175Z"
   },
   {
    "duration": 25,
    "start_time": "2022-04-18T15:20:45.158Z"
   },
   {
    "duration": 4,
    "start_time": "2022-04-18T15:20:45.185Z"
   },
   {
    "duration": 161,
    "start_time": "2022-04-18T15:20:45.191Z"
   },
   {
    "duration": 133,
    "start_time": "2022-04-18T15:20:45.354Z"
   },
   {
    "duration": 562,
    "start_time": "2022-04-18T15:20:45.489Z"
   },
   {
    "duration": 601,
    "start_time": "2022-04-18T15:20:46.053Z"
   },
   {
    "duration": 38,
    "start_time": "2022-04-18T15:20:46.655Z"
   },
   {
    "duration": 24,
    "start_time": "2022-04-18T15:20:46.694Z"
   },
   {
    "duration": 20,
    "start_time": "2022-04-18T15:20:46.720Z"
   },
   {
    "duration": 39,
    "start_time": "2022-04-18T15:20:46.742Z"
   },
   {
    "duration": 65,
    "start_time": "2022-04-18T15:20:46.782Z"
   },
   {
    "duration": 41,
    "start_time": "2022-04-18T15:20:46.850Z"
   },
   {
    "duration": 22,
    "start_time": "2022-04-18T15:20:46.893Z"
   },
   {
    "duration": 14,
    "start_time": "2022-04-18T15:20:46.917Z"
   },
   {
    "duration": 7,
    "start_time": "2022-04-18T15:20:46.933Z"
   },
   {
    "duration": 32,
    "start_time": "2022-04-18T15:20:46.941Z"
   },
   {
    "duration": 5,
    "start_time": "2022-04-18T15:20:46.975Z"
   },
   {
    "duration": 237,
    "start_time": "2022-04-18T15:20:46.981Z"
   },
   {
    "duration": 3,
    "start_time": "2022-04-18T15:20:47.220Z"
   },
   {
    "duration": 13,
    "start_time": "2022-04-18T15:20:47.224Z"
   },
   {
    "duration": 8,
    "start_time": "2022-04-18T15:20:47.239Z"
   },
   {
    "duration": 27,
    "start_time": "2022-04-18T15:20:47.249Z"
   },
   {
    "duration": 0,
    "start_time": "2022-04-18T15:20:47.278Z"
   },
   {
    "duration": 0,
    "start_time": "2022-04-18T15:20:47.279Z"
   },
   {
    "duration": 0,
    "start_time": "2022-04-18T15:20:47.280Z"
   },
   {
    "duration": 0,
    "start_time": "2022-04-18T15:20:47.281Z"
   },
   {
    "duration": 3,
    "start_time": "2022-04-18T15:27:14.407Z"
   },
   {
    "duration": 3,
    "start_time": "2022-04-18T15:27:27.851Z"
   },
   {
    "duration": 152,
    "start_time": "2022-04-18T15:27:33.272Z"
   },
   {
    "duration": 43,
    "start_time": "2022-04-18T15:28:03.303Z"
   },
   {
    "duration": 3,
    "start_time": "2022-04-18T15:45:06.800Z"
   },
   {
    "duration": 3,
    "start_time": "2022-04-18T15:45:36.173Z"
   },
   {
    "duration": 1151,
    "start_time": "2022-04-18T15:45:48.366Z"
   },
   {
    "duration": 101,
    "start_time": "2022-04-18T15:56:38.232Z"
   },
   {
    "duration": 3,
    "start_time": "2022-04-18T15:56:43.342Z"
   },
   {
    "duration": 11,
    "start_time": "2022-04-18T15:57:11.431Z"
   },
   {
    "duration": 9,
    "start_time": "2022-04-18T15:57:18.471Z"
   },
   {
    "duration": 9,
    "start_time": "2022-04-18T15:57:34.003Z"
   },
   {
    "duration": 3,
    "start_time": "2022-04-18T15:57:38.252Z"
   },
   {
    "duration": 20,
    "start_time": "2022-04-18T15:58:02.075Z"
   },
   {
    "duration": 43,
    "start_time": "2022-04-18T16:01:52.073Z"
   },
   {
    "duration": 108,
    "start_time": "2022-04-18T16:04:06.710Z"
   },
   {
    "duration": 18,
    "start_time": "2022-04-18T16:04:08.772Z"
   },
   {
    "duration": 1292,
    "start_time": "2022-04-18T16:04:29.416Z"
   },
   {
    "duration": 965,
    "start_time": "2022-04-18T16:04:30.710Z"
   },
   {
    "duration": 21,
    "start_time": "2022-04-18T16:04:31.676Z"
   },
   {
    "duration": 3,
    "start_time": "2022-04-18T16:04:31.700Z"
   },
   {
    "duration": 152,
    "start_time": "2022-04-18T16:04:31.705Z"
   },
   {
    "duration": 118,
    "start_time": "2022-04-18T16:04:31.859Z"
   },
   {
    "duration": 539,
    "start_time": "2022-04-18T16:04:31.979Z"
   },
   {
    "duration": 603,
    "start_time": "2022-04-18T16:04:32.520Z"
   },
   {
    "duration": 38,
    "start_time": "2022-04-18T16:04:33.125Z"
   },
   {
    "duration": 33,
    "start_time": "2022-04-18T16:04:33.172Z"
   },
   {
    "duration": 27,
    "start_time": "2022-04-18T16:04:33.208Z"
   },
   {
    "duration": 45,
    "start_time": "2022-04-18T16:04:33.237Z"
   },
   {
    "duration": 61,
    "start_time": "2022-04-18T16:04:33.284Z"
   },
   {
    "duration": 49,
    "start_time": "2022-04-18T16:04:33.347Z"
   },
   {
    "duration": 23,
    "start_time": "2022-04-18T16:04:33.398Z"
   },
   {
    "duration": 14,
    "start_time": "2022-04-18T16:04:33.423Z"
   },
   {
    "duration": 11,
    "start_time": "2022-04-18T16:04:33.439Z"
   },
   {
    "duration": 30,
    "start_time": "2022-04-18T16:04:33.452Z"
   },
   {
    "duration": 8,
    "start_time": "2022-04-18T16:04:33.484Z"
   },
   {
    "duration": 5,
    "start_time": "2022-04-18T16:04:33.494Z"
   },
   {
    "duration": 8,
    "start_time": "2022-04-18T16:04:33.501Z"
   },
   {
    "duration": 123,
    "start_time": "2022-04-18T16:04:33.511Z"
   },
   {
    "duration": 0,
    "start_time": "2022-04-18T16:04:33.635Z"
   },
   {
    "duration": 0,
    "start_time": "2022-04-18T16:04:33.637Z"
   },
   {
    "duration": 0,
    "start_time": "2022-04-18T16:04:33.638Z"
   },
   {
    "duration": 0,
    "start_time": "2022-04-18T16:04:33.640Z"
   },
   {
    "duration": 0,
    "start_time": "2022-04-18T16:04:33.640Z"
   },
   {
    "duration": 0,
    "start_time": "2022-04-18T16:04:33.642Z"
   },
   {
    "duration": 118,
    "start_time": "2022-04-18T16:05:21.348Z"
   },
   {
    "duration": 18,
    "start_time": "2022-04-18T16:05:24.644Z"
   },
   {
    "duration": 3,
    "start_time": "2022-04-18T16:05:28.076Z"
   },
   {
    "duration": 3,
    "start_time": "2022-04-18T16:05:29.874Z"
   },
   {
    "duration": 233547,
    "start_time": "2022-04-18T16:05:33.034Z"
   },
   {
    "duration": 3,
    "start_time": "2022-04-18T16:22:07.755Z"
   },
   {
    "duration": 2,
    "start_time": "2022-04-18T16:22:40.446Z"
   },
   {
    "duration": 3,
    "start_time": "2022-04-18T16:22:42.076Z"
   },
   {
    "duration": 120796,
    "start_time": "2022-04-18T16:22:45.195Z"
   },
   {
    "duration": 2,
    "start_time": "2022-04-18T16:27:44.589Z"
   },
   {
    "duration": 3,
    "start_time": "2022-04-18T16:27:48.620Z"
   },
   {
    "duration": 197614,
    "start_time": "2022-04-18T16:27:54.760Z"
   },
   {
    "duration": 3,
    "start_time": "2022-04-18T16:33:16.238Z"
   },
   {
    "duration": 3,
    "start_time": "2022-04-18T16:33:19.367Z"
   },
   {
    "duration": 60,
    "start_time": "2022-04-18T16:33:22.746Z"
   },
   {
    "duration": 111,
    "start_time": "2022-04-18T16:34:34.795Z"
   },
   {
    "duration": 3,
    "start_time": "2022-04-18T16:34:46.716Z"
   },
   {
    "duration": 3,
    "start_time": "2022-04-18T16:34:48.196Z"
   },
   {
    "duration": 147539,
    "start_time": "2022-04-18T16:34:49.835Z"
   },
   {
    "duration": 1336,
    "start_time": "2022-04-18T16:38:19.654Z"
   },
   {
    "duration": 918,
    "start_time": "2022-04-18T16:38:20.992Z"
   },
   {
    "duration": 19,
    "start_time": "2022-04-18T16:38:21.912Z"
   },
   {
    "duration": 3,
    "start_time": "2022-04-18T16:38:21.934Z"
   },
   {
    "duration": 148,
    "start_time": "2022-04-18T16:38:21.938Z"
   },
   {
    "duration": 109,
    "start_time": "2022-04-18T16:38:22.087Z"
   },
   {
    "duration": 506,
    "start_time": "2022-04-18T16:38:22.198Z"
   },
   {
    "duration": 578,
    "start_time": "2022-04-18T16:38:22.705Z"
   },
   {
    "duration": 25,
    "start_time": "2022-04-18T16:38:23.285Z"
   },
   {
    "duration": 20,
    "start_time": "2022-04-18T16:38:23.313Z"
   },
   {
    "duration": 38,
    "start_time": "2022-04-18T16:38:23.335Z"
   },
   {
    "duration": 21,
    "start_time": "2022-04-18T16:38:23.375Z"
   },
   {
    "duration": 64,
    "start_time": "2022-04-18T16:38:23.398Z"
   },
   {
    "duration": 27,
    "start_time": "2022-04-18T16:38:23.473Z"
   },
   {
    "duration": 19,
    "start_time": "2022-04-18T16:38:23.502Z"
   },
   {
    "duration": 12,
    "start_time": "2022-04-18T16:38:23.523Z"
   },
   {
    "duration": 37,
    "start_time": "2022-04-18T16:38:23.537Z"
   },
   {
    "duration": 12,
    "start_time": "2022-04-18T16:38:23.575Z"
   },
   {
    "duration": 7,
    "start_time": "2022-04-18T16:38:23.589Z"
   },
   {
    "duration": 6,
    "start_time": "2022-04-18T16:38:23.597Z"
   },
   {
    "duration": 7,
    "start_time": "2022-04-18T16:38:23.604Z"
   },
   {
    "duration": 125,
    "start_time": "2022-04-18T16:38:23.613Z"
   },
   {
    "duration": 0,
    "start_time": "2022-04-18T16:38:23.741Z"
   },
   {
    "duration": 0,
    "start_time": "2022-04-18T16:38:23.742Z"
   },
   {
    "duration": 0,
    "start_time": "2022-04-18T16:38:23.743Z"
   },
   {
    "duration": 0,
    "start_time": "2022-04-18T16:38:23.744Z"
   },
   {
    "duration": 1,
    "start_time": "2022-04-18T16:38:23.745Z"
   },
   {
    "duration": 0,
    "start_time": "2022-04-18T16:38:23.747Z"
   },
   {
    "duration": 115,
    "start_time": "2022-04-18T16:38:28.034Z"
   },
   {
    "duration": 3,
    "start_time": "2022-04-18T16:38:30.924Z"
   },
   {
    "duration": 4,
    "start_time": "2022-04-18T16:38:32.953Z"
   },
   {
    "duration": 1292,
    "start_time": "2022-04-18T16:41:35.423Z"
   },
   {
    "duration": 959,
    "start_time": "2022-04-18T16:41:36.720Z"
   },
   {
    "duration": 20,
    "start_time": "2022-04-18T16:41:37.681Z"
   },
   {
    "duration": 4,
    "start_time": "2022-04-18T16:41:37.702Z"
   },
   {
    "duration": 170,
    "start_time": "2022-04-18T16:41:37.709Z"
   },
   {
    "duration": 109,
    "start_time": "2022-04-18T16:41:37.882Z"
   },
   {
    "duration": 521,
    "start_time": "2022-04-18T16:41:37.993Z"
   },
   {
    "duration": 599,
    "start_time": "2022-04-18T16:41:38.515Z"
   },
   {
    "duration": 31,
    "start_time": "2022-04-18T16:41:39.115Z"
   },
   {
    "duration": 32,
    "start_time": "2022-04-18T16:41:39.148Z"
   },
   {
    "duration": 21,
    "start_time": "2022-04-18T16:41:39.182Z"
   },
   {
    "duration": 24,
    "start_time": "2022-04-18T16:41:39.205Z"
   },
   {
    "duration": 80,
    "start_time": "2022-04-18T16:41:39.231Z"
   },
   {
    "duration": 27,
    "start_time": "2022-04-18T16:41:39.314Z"
   },
   {
    "duration": 36,
    "start_time": "2022-04-18T16:41:39.343Z"
   },
   {
    "duration": 14,
    "start_time": "2022-04-18T16:41:39.381Z"
   },
   {
    "duration": 8,
    "start_time": "2022-04-18T16:41:39.397Z"
   },
   {
    "duration": 11,
    "start_time": "2022-04-18T16:41:39.407Z"
   },
   {
    "duration": 11,
    "start_time": "2022-04-18T16:41:39.420Z"
   },
   {
    "duration": 21,
    "start_time": "2022-04-18T16:41:39.433Z"
   },
   {
    "duration": 6,
    "start_time": "2022-04-18T16:41:39.455Z"
   },
   {
    "duration": 112,
    "start_time": "2022-04-18T16:41:39.463Z"
   },
   {
    "duration": 0,
    "start_time": "2022-04-18T16:41:39.577Z"
   },
   {
    "duration": 0,
    "start_time": "2022-04-18T16:41:39.578Z"
   },
   {
    "duration": 0,
    "start_time": "2022-04-18T16:41:39.579Z"
   },
   {
    "duration": 0,
    "start_time": "2022-04-18T16:41:39.580Z"
   },
   {
    "duration": 0,
    "start_time": "2022-04-18T16:41:39.580Z"
   },
   {
    "duration": 0,
    "start_time": "2022-04-18T16:41:39.582Z"
   },
   {
    "duration": 114,
    "start_time": "2022-04-18T16:48:28.050Z"
   },
   {
    "duration": 1304,
    "start_time": "2022-04-18T16:51:26.283Z"
   },
   {
    "duration": 137,
    "start_time": "2022-04-18T16:59:41.594Z"
   },
   {
    "duration": 3,
    "start_time": "2022-04-18T16:59:43.122Z"
   },
   {
    "duration": 370,
    "start_time": "2022-04-18T16:59:44.687Z"
   },
   {
    "duration": 3,
    "start_time": "2022-04-18T17:00:55.146Z"
   },
   {
    "duration": 3,
    "start_time": "2022-04-18T17:19:39.723Z"
   },
   {
    "duration": 1822,
    "start_time": "2022-04-18T17:21:10.145Z"
   },
   {
    "duration": 1174,
    "start_time": "2022-04-18T17:21:11.969Z"
   },
   {
    "duration": 21,
    "start_time": "2022-04-18T17:21:13.145Z"
   },
   {
    "duration": 17,
    "start_time": "2022-04-18T17:21:13.169Z"
   },
   {
    "duration": 163,
    "start_time": "2022-04-18T17:21:13.189Z"
   },
   {
    "duration": 105,
    "start_time": "2022-04-18T17:21:13.355Z"
   },
   {
    "duration": 587,
    "start_time": "2022-04-18T17:21:13.461Z"
   },
   {
    "duration": 660,
    "start_time": "2022-04-18T17:21:14.050Z"
   },
   {
    "duration": 36,
    "start_time": "2022-04-18T17:21:14.713Z"
   },
   {
    "duration": 46,
    "start_time": "2022-04-18T17:21:14.752Z"
   },
   {
    "duration": 28,
    "start_time": "2022-04-18T17:21:14.800Z"
   },
   {
    "duration": 35,
    "start_time": "2022-04-18T17:21:14.830Z"
   },
   {
    "duration": 94,
    "start_time": "2022-04-18T17:21:14.867Z"
   },
   {
    "duration": 37,
    "start_time": "2022-04-18T17:21:14.963Z"
   },
   {
    "duration": 39,
    "start_time": "2022-04-18T17:21:15.002Z"
   },
   {
    "duration": 37,
    "start_time": "2022-04-18T17:21:15.043Z"
   },
   {
    "duration": 32,
    "start_time": "2022-04-18T17:21:15.082Z"
   },
   {
    "duration": 12,
    "start_time": "2022-04-18T17:21:15.116Z"
   },
   {
    "duration": 1415,
    "start_time": "2022-04-18T17:21:15.130Z"
   },
   {
    "duration": 138,
    "start_time": "2022-04-18T17:21:16.547Z"
   },
   {
    "duration": 5,
    "start_time": "2022-04-18T17:21:16.691Z"
   },
   {
    "duration": 386,
    "start_time": "2022-04-18T17:21:16.697Z"
   },
   {
    "duration": 11,
    "start_time": "2022-04-18T17:21:17.086Z"
   },
   {
    "duration": 6,
    "start_time": "2022-04-18T17:21:17.098Z"
   },
   {
    "duration": 1430,
    "start_time": "2022-04-18T17:21:30.249Z"
   },
   {
    "duration": 1111,
    "start_time": "2022-04-18T17:21:31.682Z"
   },
   {
    "duration": 31,
    "start_time": "2022-04-18T17:21:32.795Z"
   },
   {
    "duration": 4,
    "start_time": "2022-04-18T17:21:32.829Z"
   },
   {
    "duration": 176,
    "start_time": "2022-04-18T17:21:32.836Z"
   },
   {
    "duration": 117,
    "start_time": "2022-04-18T17:21:33.015Z"
   },
   {
    "duration": 546,
    "start_time": "2022-04-18T17:21:33.133Z"
   },
   {
    "duration": 647,
    "start_time": "2022-04-18T17:21:33.682Z"
   },
   {
    "duration": 28,
    "start_time": "2022-04-18T17:21:34.331Z"
   },
   {
    "duration": 40,
    "start_time": "2022-04-18T17:21:34.361Z"
   },
   {
    "duration": 21,
    "start_time": "2022-04-18T17:21:34.403Z"
   },
   {
    "duration": 25,
    "start_time": "2022-04-18T17:21:34.426Z"
   },
   {
    "duration": 90,
    "start_time": "2022-04-18T17:21:34.453Z"
   },
   {
    "duration": 44,
    "start_time": "2022-04-18T17:21:34.546Z"
   },
   {
    "duration": 21,
    "start_time": "2022-04-18T17:21:34.593Z"
   },
   {
    "duration": 13,
    "start_time": "2022-04-18T17:21:34.617Z"
   },
   {
    "duration": 9,
    "start_time": "2022-04-18T17:21:34.633Z"
   },
   {
    "duration": 46,
    "start_time": "2022-04-18T17:21:34.643Z"
   },
   {
    "duration": 1307,
    "start_time": "2022-04-18T17:21:34.691Z"
   },
   {
    "duration": 140,
    "start_time": "2022-04-18T17:21:36.000Z"
   },
   {
    "duration": 3,
    "start_time": "2022-04-18T17:21:36.142Z"
   },
   {
    "duration": 380,
    "start_time": "2022-04-18T17:21:36.147Z"
   },
   {
    "duration": 3,
    "start_time": "2022-04-18T17:21:36.529Z"
   },
   {
    "duration": 10,
    "start_time": "2022-04-18T17:21:36.534Z"
   },
   {
    "duration": 46850,
    "start_time": "2022-04-18T17:21:36.546Z"
   },
   {
    "duration": 286,
    "start_time": "2022-04-18T17:22:23.398Z"
   },
   {
    "duration": 4,
    "start_time": "2022-04-18T17:22:23.688Z"
   },
   {
    "duration": 107,
    "start_time": "2022-04-18T17:22:23.693Z"
   },
   {
    "duration": 13,
    "start_time": "2022-04-18T17:22:23.802Z"
   },
   {
    "duration": 34,
    "start_time": "2022-04-18T17:22:23.817Z"
   },
   {
    "duration": 0,
    "start_time": "2022-04-18T17:22:23.853Z"
   },
   {
    "duration": 0,
    "start_time": "2022-04-18T17:22:23.855Z"
   },
   {
    "duration": 0,
    "start_time": "2022-04-18T17:22:23.856Z"
   },
   {
    "duration": 0,
    "start_time": "2022-04-18T17:22:23.858Z"
   },
   {
    "duration": 0,
    "start_time": "2022-04-18T17:22:23.859Z"
   },
   {
    "duration": 45268,
    "start_time": "2022-04-18T17:23:29.429Z"
   },
   {
    "duration": 257,
    "start_time": "2022-04-18T17:24:35.836Z"
   },
   {
    "duration": 5,
    "start_time": "2022-04-18T17:39:30.101Z"
   },
   {
    "duration": 7,
    "start_time": "2022-04-18T17:39:45.390Z"
   },
   {
    "duration": 102,
    "start_time": "2022-04-18T17:43:55.922Z"
   },
   {
    "duration": 3,
    "start_time": "2022-04-18T17:45:55.000Z"
   },
   {
    "duration": 3,
    "start_time": "2022-04-18T17:45:58.221Z"
   },
   {
    "duration": 129273,
    "start_time": "2022-04-18T17:46:51.162Z"
   },
   {
    "duration": 4,
    "start_time": "2022-04-18T17:57:06.089Z"
   },
   {
    "duration": 138,
    "start_time": "2022-04-18T17:57:09.933Z"
   },
   {
    "duration": 4,
    "start_time": "2022-04-18T17:57:56.604Z"
   },
   {
    "duration": 123,
    "start_time": "2022-04-18T17:58:22.332Z"
   },
   {
    "duration": 2,
    "start_time": "2022-04-18T17:58:34.405Z"
   },
   {
    "duration": 3,
    "start_time": "2022-04-18T17:58:39.504Z"
   },
   {
    "duration": 114,
    "start_time": "2022-04-18T17:58:49.091Z"
   },
   {
    "duration": 131526,
    "start_time": "2022-04-18T17:59:13.521Z"
   },
   {
    "duration": 4,
    "start_time": "2022-04-18T18:09:51.026Z"
   },
   {
    "duration": 3,
    "start_time": "2022-04-18T18:10:10.717Z"
   },
   {
    "duration": 1448,
    "start_time": "2022-04-18T18:19:40.587Z"
   },
   {
    "duration": 1541,
    "start_time": "2022-04-18T18:19:42.037Z"
   },
   {
    "duration": 24,
    "start_time": "2022-04-18T18:19:43.581Z"
   },
   {
    "duration": 4,
    "start_time": "2022-04-18T18:19:43.607Z"
   },
   {
    "duration": 169,
    "start_time": "2022-04-18T18:19:43.614Z"
   },
   {
    "duration": 122,
    "start_time": "2022-04-18T18:19:43.785Z"
   },
   {
    "duration": 565,
    "start_time": "2022-04-18T18:19:43.909Z"
   },
   {
    "duration": 718,
    "start_time": "2022-04-18T18:19:44.476Z"
   },
   {
    "duration": 27,
    "start_time": "2022-04-18T18:19:45.196Z"
   },
   {
    "duration": 23,
    "start_time": "2022-04-18T18:19:45.225Z"
   },
   {
    "duration": 47,
    "start_time": "2022-04-18T18:19:45.250Z"
   },
   {
    "duration": 25,
    "start_time": "2022-04-18T18:19:45.299Z"
   },
   {
    "duration": 96,
    "start_time": "2022-04-18T18:19:45.326Z"
   },
   {
    "duration": 48,
    "start_time": "2022-04-18T18:19:45.425Z"
   },
   {
    "duration": 23,
    "start_time": "2022-04-18T18:19:45.480Z"
   },
   {
    "duration": 16,
    "start_time": "2022-04-18T18:19:45.505Z"
   },
   {
    "duration": 13,
    "start_time": "2022-04-18T18:19:45.523Z"
   },
   {
    "duration": 17,
    "start_time": "2022-04-18T18:19:45.537Z"
   },
   {
    "duration": 1386,
    "start_time": "2022-04-18T18:19:45.556Z"
   },
   {
    "duration": 138,
    "start_time": "2022-04-18T18:19:46.944Z"
   },
   {
    "duration": 4,
    "start_time": "2022-04-18T18:19:47.083Z"
   },
   {
    "duration": 378,
    "start_time": "2022-04-18T18:19:47.089Z"
   },
   {
    "duration": 6,
    "start_time": "2022-04-18T18:19:47.470Z"
   },
   {
    "duration": 16,
    "start_time": "2022-04-18T18:19:47.479Z"
   },
   {
    "duration": 234,
    "start_time": "2022-04-18T18:19:47.497Z"
   },
   {
    "duration": 12,
    "start_time": "2022-04-18T18:19:47.733Z"
   },
   {
    "duration": 0,
    "start_time": "2022-04-18T18:19:47.747Z"
   },
   {
    "duration": 0,
    "start_time": "2022-04-18T18:19:47.749Z"
   },
   {
    "duration": 0,
    "start_time": "2022-04-18T18:19:47.750Z"
   },
   {
    "duration": 0,
    "start_time": "2022-04-18T18:19:47.752Z"
   },
   {
    "duration": 0,
    "start_time": "2022-04-18T18:19:47.754Z"
   },
   {
    "duration": 0,
    "start_time": "2022-04-18T18:19:47.755Z"
   },
   {
    "duration": 0,
    "start_time": "2022-04-18T18:19:47.757Z"
   },
   {
    "duration": 0,
    "start_time": "2022-04-18T18:19:47.758Z"
   },
   {
    "duration": 0,
    "start_time": "2022-04-18T18:19:47.759Z"
   },
   {
    "duration": 0,
    "start_time": "2022-04-18T18:19:47.760Z"
   },
   {
    "duration": 0,
    "start_time": "2022-04-18T18:19:47.761Z"
   },
   {
    "duration": 0,
    "start_time": "2022-04-18T18:19:47.762Z"
   },
   {
    "duration": 0,
    "start_time": "2022-04-18T18:19:47.763Z"
   },
   {
    "duration": 0,
    "start_time": "2022-04-18T18:19:47.765Z"
   },
   {
    "duration": 0,
    "start_time": "2022-04-18T18:19:47.766Z"
   },
   {
    "duration": 0,
    "start_time": "2022-04-18T18:19:47.767Z"
   },
   {
    "duration": 0,
    "start_time": "2022-04-18T18:19:47.768Z"
   },
   {
    "duration": 2,
    "start_time": "2022-04-18T18:22:57.301Z"
   },
   {
    "duration": 3,
    "start_time": "2022-04-18T18:23:04.891Z"
   },
   {
    "duration": 124,
    "start_time": "2022-04-18T18:23:07.583Z"
   },
   {
    "duration": 4,
    "start_time": "2022-04-18T18:24:23.162Z"
   },
   {
    "duration": 3,
    "start_time": "2022-04-18T18:24:47.484Z"
   },
   {
    "duration": 3,
    "start_time": "2022-04-18T18:24:49.700Z"
   },
   {
    "duration": 131697,
    "start_time": "2022-04-18T18:24:52.838Z"
   },
   {
    "duration": 179,
    "start_time": "2022-04-18T18:27:30.691Z"
   },
   {
    "duration": 3,
    "start_time": "2022-04-18T18:27:47.742Z"
   },
   {
    "duration": 4,
    "start_time": "2022-04-18T18:27:49.859Z"
   },
   {
    "duration": 3,
    "start_time": "2022-04-18T18:28:33.700Z"
   },
   {
    "duration": 197337,
    "start_time": "2022-04-18T18:28:36.317Z"
   },
   {
    "duration": 179,
    "start_time": "2022-04-18T18:32:01.060Z"
   },
   {
    "duration": 176,
    "start_time": "2022-04-18T18:32:27.389Z"
   },
   {
    "duration": 3,
    "start_time": "2022-04-18T18:33:32.598Z"
   },
   {
    "duration": 3,
    "start_time": "2022-04-18T18:33:34.519Z"
   },
   {
    "duration": 207802,
    "start_time": "2022-04-18T18:33:38.871Z"
   },
   {
    "duration": 335,
    "start_time": "2022-04-18T18:37:21.139Z"
   },
   {
    "duration": 3,
    "start_time": "2022-04-18T18:56:18.938Z"
   },
   {
    "duration": 10,
    "start_time": "2022-04-18T18:56:21.160Z"
   },
   {
    "duration": 10,
    "start_time": "2022-04-18T19:17:17.587Z"
   },
   {
    "duration": 13,
    "start_time": "2022-04-18T19:17:45.108Z"
   },
   {
    "duration": 1444,
    "start_time": "2022-04-18T19:18:57.162Z"
   },
   {
    "duration": 1669,
    "start_time": "2022-04-18T19:18:58.608Z"
   },
   {
    "duration": 22,
    "start_time": "2022-04-18T19:19:00.279Z"
   },
   {
    "duration": 22,
    "start_time": "2022-04-18T19:19:00.303Z"
   },
   {
    "duration": 140,
    "start_time": "2022-04-18T19:19:00.328Z"
   },
   {
    "duration": 115,
    "start_time": "2022-04-18T19:19:00.470Z"
   },
   {
    "duration": 552,
    "start_time": "2022-04-18T19:19:00.587Z"
   },
   {
    "duration": 645,
    "start_time": "2022-04-18T19:19:01.141Z"
   },
   {
    "duration": 35,
    "start_time": "2022-04-18T19:19:01.788Z"
   },
   {
    "duration": 39,
    "start_time": "2022-04-18T19:19:01.825Z"
   },
   {
    "duration": 30,
    "start_time": "2022-04-18T19:19:01.867Z"
   },
   {
    "duration": 27,
    "start_time": "2022-04-18T19:19:01.899Z"
   },
   {
    "duration": 92,
    "start_time": "2022-04-18T19:19:01.928Z"
   },
   {
    "duration": 34,
    "start_time": "2022-04-18T19:19:02.025Z"
   },
   {
    "duration": 21,
    "start_time": "2022-04-18T19:19:02.073Z"
   },
   {
    "duration": 28,
    "start_time": "2022-04-18T19:19:02.095Z"
   },
   {
    "duration": 7,
    "start_time": "2022-04-18T19:19:02.125Z"
   },
   {
    "duration": 15,
    "start_time": "2022-04-18T19:19:02.134Z"
   },
   {
    "duration": 1513,
    "start_time": "2022-04-18T19:19:02.152Z"
   },
   {
    "duration": 140,
    "start_time": "2022-04-18T19:19:03.667Z"
   },
   {
    "duration": 3,
    "start_time": "2022-04-18T19:19:03.809Z"
   },
   {
    "duration": 385,
    "start_time": "2022-04-18T19:19:03.814Z"
   },
   {
    "duration": 3,
    "start_time": "2022-04-18T19:19:04.201Z"
   },
   {
    "duration": 18,
    "start_time": "2022-04-18T19:19:04.206Z"
   },
   {
    "duration": 126896,
    "start_time": "2022-04-18T19:19:04.226Z"
   },
   {
    "duration": 181,
    "start_time": "2022-04-18T19:21:11.124Z"
   },
   {
    "duration": 3,
    "start_time": "2022-04-18T19:21:11.307Z"
   },
   {
    "duration": 7,
    "start_time": "2022-04-18T19:21:11.312Z"
   },
   {
    "duration": 190119,
    "start_time": "2022-04-18T19:21:11.320Z"
   },
   {
    "duration": 197,
    "start_time": "2022-04-18T19:24:21.441Z"
   },
   {
    "duration": 3,
    "start_time": "2022-04-18T19:24:21.640Z"
   },
   {
    "duration": 9,
    "start_time": "2022-04-18T19:24:21.646Z"
   },
   {
    "duration": 254215,
    "start_time": "2022-04-18T19:24:21.658Z"
   },
   {
    "duration": 315,
    "start_time": "2022-04-18T19:28:35.876Z"
   },
   {
    "duration": 4,
    "start_time": "2022-04-18T19:28:36.273Z"
   },
   {
    "duration": 25,
    "start_time": "2022-04-18T19:28:36.280Z"
   },
   {
    "duration": 198700,
    "start_time": "2022-04-18T19:28:36.307Z"
   },
   {
    "duration": 690,
    "start_time": "2022-04-18T19:31:55.009Z"
   },
   {
    "duration": 15,
    "start_time": "2022-04-18T19:31:55.701Z"
   },
   {
    "duration": 125,
    "start_time": "2022-04-18T19:31:55.717Z"
   },
   {
    "duration": 3,
    "start_time": "2022-04-18T19:31:55.846Z"
   },
   {
    "duration": 8,
    "start_time": "2022-04-18T19:31:55.850Z"
   },
   {
    "duration": 316721,
    "start_time": "2022-04-18T19:31:55.859Z"
   },
   {
    "duration": 791,
    "start_time": "2022-04-18T19:37:12.583Z"
   },
   {
    "duration": 19,
    "start_time": "2022-04-18T19:37:13.376Z"
   },
   {
    "duration": 246,
    "start_time": "2022-04-18T19:45:23.191Z"
   },
   {
    "duration": 3,
    "start_time": "2022-04-18T19:45:40.070Z"
   },
   {
    "duration": 1925,
    "start_time": "2022-04-18T19:45:41.910Z"
   },
   {
    "duration": 3,
    "start_time": "2022-04-18T19:46:58.994Z"
   },
   {
    "duration": 2,
    "start_time": "2022-04-18T19:47:01.270Z"
   },
   {
    "duration": 2168,
    "start_time": "2022-04-18T19:47:04.950Z"
   },
   {
    "duration": 6,
    "start_time": "2022-04-18T19:47:45.582Z"
   },
   {
    "duration": 3,
    "start_time": "2022-04-18T19:47:47.307Z"
   },
   {
    "duration": 2230,
    "start_time": "2022-04-18T19:47:50.197Z"
   },
   {
    "duration": 2302,
    "start_time": "2022-04-18T19:48:07.429Z"
   },
   {
    "duration": 344715,
    "start_time": "2022-04-18T19:49:08.069Z"
   },
   {
    "duration": 687,
    "start_time": "2022-04-18T19:54:59.631Z"
   },
   {
    "duration": 10,
    "start_time": "2022-04-18T20:05:52.269Z"
   },
   {
    "duration": 1905,
    "start_time": "2022-04-19T04:29:29.390Z"
   },
   {
    "duration": 1276,
    "start_time": "2022-04-19T04:29:31.298Z"
   },
   {
    "duration": 30,
    "start_time": "2022-04-19T04:29:32.577Z"
   },
   {
    "duration": 5,
    "start_time": "2022-04-19T04:29:32.625Z"
   },
   {
    "duration": 183,
    "start_time": "2022-04-19T04:29:32.632Z"
   },
   {
    "duration": 131,
    "start_time": "2022-04-19T04:29:32.818Z"
   },
   {
    "duration": 729,
    "start_time": "2022-04-19T04:29:32.951Z"
   },
   {
    "duration": 822,
    "start_time": "2022-04-19T04:29:33.682Z"
   },
   {
    "duration": 44,
    "start_time": "2022-04-19T04:29:34.506Z"
   },
   {
    "duration": 28,
    "start_time": "2022-04-19T04:29:34.555Z"
   },
   {
    "duration": 45,
    "start_time": "2022-04-19T04:29:34.585Z"
   },
   {
    "duration": 33,
    "start_time": "2022-04-19T04:29:34.632Z"
   },
   {
    "duration": 134,
    "start_time": "2022-04-19T04:29:34.668Z"
   },
   {
    "duration": 58,
    "start_time": "2022-04-19T04:29:34.804Z"
   },
   {
    "duration": 30,
    "start_time": "2022-04-19T04:29:34.864Z"
   },
   {
    "duration": 31,
    "start_time": "2022-04-19T04:29:34.896Z"
   },
   {
    "duration": 10,
    "start_time": "2022-04-19T04:29:34.929Z"
   },
   {
    "duration": 11,
    "start_time": "2022-04-19T04:29:34.941Z"
   },
   {
    "duration": 1644,
    "start_time": "2022-04-19T04:29:34.954Z"
   },
   {
    "duration": 134,
    "start_time": "2022-04-19T04:29:36.600Z"
   },
   {
    "duration": 4,
    "start_time": "2022-04-19T04:29:36.736Z"
   },
   {
    "duration": 487,
    "start_time": "2022-04-19T04:29:36.742Z"
   },
   {
    "duration": 4,
    "start_time": "2022-04-19T04:29:37.231Z"
   },
   {
    "duration": 7,
    "start_time": "2022-04-19T04:29:37.237Z"
   },
   {
    "duration": 157146,
    "start_time": "2022-04-19T04:29:37.246Z"
   },
   {
    "duration": 207,
    "start_time": "2022-04-19T04:32:14.394Z"
   },
   {
    "duration": 4,
    "start_time": "2022-04-19T04:32:14.604Z"
   },
   {
    "duration": 4,
    "start_time": "2022-04-19T04:32:14.628Z"
   },
   {
    "duration": 231569,
    "start_time": "2022-04-19T04:32:14.634Z"
   },
   {
    "duration": 206,
    "start_time": "2022-04-19T04:36:06.205Z"
   },
   {
    "duration": 3,
    "start_time": "2022-04-19T04:36:06.414Z"
   },
   {
    "duration": 7,
    "start_time": "2022-04-19T04:36:06.425Z"
   },
   {
    "duration": 147691,
    "start_time": "2022-04-19T04:36:06.435Z"
   },
   {
    "duration": 400,
    "start_time": "2022-04-19T04:38:34.128Z"
   },
   {
    "duration": 4,
    "start_time": "2022-04-19T04:38:34.531Z"
   },
   {
    "duration": 89,
    "start_time": "2022-04-19T04:38:34.537Z"
   },
   {
    "duration": 1820,
    "start_time": "2022-04-19T05:55:17.269Z"
   },
   {
    "duration": 1143,
    "start_time": "2022-04-19T05:55:19.092Z"
   },
   {
    "duration": 35,
    "start_time": "2022-04-19T05:55:20.237Z"
   },
   {
    "duration": 4,
    "start_time": "2022-04-19T05:55:20.275Z"
   },
   {
    "duration": 188,
    "start_time": "2022-04-19T05:55:20.281Z"
   },
   {
    "duration": 128,
    "start_time": "2022-04-19T05:55:20.471Z"
   },
   {
    "duration": 684,
    "start_time": "2022-04-19T05:55:20.602Z"
   },
   {
    "duration": 824,
    "start_time": "2022-04-19T05:55:21.289Z"
   },
   {
    "duration": 50,
    "start_time": "2022-04-19T05:55:22.115Z"
   },
   {
    "duration": 28,
    "start_time": "2022-04-19T05:55:22.168Z"
   },
   {
    "duration": 53,
    "start_time": "2022-04-19T05:55:22.199Z"
   },
   {
    "duration": 29,
    "start_time": "2022-04-19T05:55:22.254Z"
   },
   {
    "duration": 123,
    "start_time": "2022-04-19T05:55:22.285Z"
   },
   {
    "duration": 58,
    "start_time": "2022-04-19T05:55:22.410Z"
   },
   {
    "duration": 30,
    "start_time": "2022-04-19T05:55:22.470Z"
   },
   {
    "duration": 18,
    "start_time": "2022-04-19T05:55:22.501Z"
   },
   {
    "duration": 32,
    "start_time": "2022-04-19T05:55:22.522Z"
   },
   {
    "duration": 13,
    "start_time": "2022-04-19T05:55:22.557Z"
   },
   {
    "duration": 1535,
    "start_time": "2022-04-19T05:55:22.573Z"
   },
   {
    "duration": 132,
    "start_time": "2022-04-19T05:55:24.111Z"
   },
   {
    "duration": 7,
    "start_time": "2022-04-19T05:55:24.245Z"
   },
   {
    "duration": 521,
    "start_time": "2022-04-19T05:55:24.255Z"
   },
   {
    "duration": 4,
    "start_time": "2022-04-19T05:55:24.779Z"
   },
   {
    "duration": 20,
    "start_time": "2022-04-19T05:55:24.786Z"
   },
   {
    "duration": 144280,
    "start_time": "2022-04-19T05:55:24.809Z"
   },
   {
    "duration": 203,
    "start_time": "2022-04-19T05:57:49.092Z"
   },
   {
    "duration": 4,
    "start_time": "2022-04-19T05:57:49.297Z"
   },
   {
    "duration": 4,
    "start_time": "2022-04-19T05:57:49.306Z"
   },
   {
    "duration": 84537,
    "start_time": "2022-04-19T05:57:49.312Z"
   },
   {
    "duration": 1895,
    "start_time": "2022-04-19T05:59:17.902Z"
   },
   {
    "duration": 1127,
    "start_time": "2022-04-19T05:59:19.799Z"
   },
   {
    "duration": 35,
    "start_time": "2022-04-19T05:59:20.928Z"
   },
   {
    "duration": 4,
    "start_time": "2022-04-19T05:59:20.965Z"
   },
   {
    "duration": 187,
    "start_time": "2022-04-19T05:59:20.971Z"
   },
   {
    "duration": 126,
    "start_time": "2022-04-19T05:59:21.160Z"
   },
   {
    "duration": 680,
    "start_time": "2022-04-19T05:59:21.289Z"
   },
   {
    "duration": 808,
    "start_time": "2022-04-19T05:59:21.971Z"
   },
   {
    "duration": 46,
    "start_time": "2022-04-19T05:59:22.781Z"
   },
   {
    "duration": 42,
    "start_time": "2022-04-19T05:59:22.831Z"
   },
   {
    "duration": 27,
    "start_time": "2022-04-19T05:59:22.875Z"
   },
   {
    "duration": 47,
    "start_time": "2022-04-19T05:59:22.905Z"
   },
   {
    "duration": 113,
    "start_time": "2022-04-19T05:59:22.954Z"
   },
   {
    "duration": 48,
    "start_time": "2022-04-19T05:59:23.070Z"
   },
   {
    "duration": 49,
    "start_time": "2022-04-19T05:59:23.120Z"
   },
   {
    "duration": 15,
    "start_time": "2022-04-19T05:59:23.171Z"
   },
   {
    "duration": 9,
    "start_time": "2022-04-19T05:59:23.189Z"
   },
   {
    "duration": 13,
    "start_time": "2022-04-19T05:59:23.201Z"
   },
   {
    "duration": 1566,
    "start_time": "2022-04-19T05:59:23.216Z"
   },
   {
    "duration": 134,
    "start_time": "2022-04-19T05:59:24.784Z"
   },
   {
    "duration": 4,
    "start_time": "2022-04-19T05:59:24.920Z"
   },
   {
    "duration": 473,
    "start_time": "2022-04-19T05:59:24.926Z"
   },
   {
    "duration": 3,
    "start_time": "2022-04-19T05:59:25.401Z"
   },
   {
    "duration": 10,
    "start_time": "2022-04-19T05:59:25.406Z"
   },
   {
    "duration": 147241,
    "start_time": "2022-04-19T05:59:25.418Z"
   },
   {
    "duration": 196,
    "start_time": "2022-04-19T06:01:52.662Z"
   },
   {
    "duration": 3,
    "start_time": "2022-04-19T06:01:52.861Z"
   },
   {
    "duration": 11,
    "start_time": "2022-04-19T06:01:52.869Z"
   },
   {
    "duration": 227493,
    "start_time": "2022-04-19T06:01:52.882Z"
   },
   {
    "duration": 207,
    "start_time": "2022-04-19T06:05:40.377Z"
   },
   {
    "duration": 5,
    "start_time": "2022-04-19T06:05:40.586Z"
   },
   {
    "duration": 13,
    "start_time": "2022-04-19T06:05:40.593Z"
   },
   {
    "duration": 241946,
    "start_time": "2022-04-19T06:05:40.608Z"
   },
   {
    "duration": 305,
    "start_time": "2022-04-19T06:09:42.563Z"
   },
   {
    "duration": 81,
    "start_time": "2022-04-19T06:09:42.871Z"
   },
   {
    "duration": 100,
    "start_time": "2022-04-19T06:09:42.956Z"
   },
   {
    "duration": 440290,
    "start_time": "2022-04-19T06:09:43.059Z"
   },
   {
    "duration": 977,
    "start_time": "2022-04-19T06:17:03.352Z"
   },
   {
    "duration": 41,
    "start_time": "2022-04-19T06:17:04.332Z"
   },
   {
    "duration": 200,
    "start_time": "2022-04-19T06:17:04.375Z"
   },
   {
    "duration": 4,
    "start_time": "2022-04-19T06:17:04.577Z"
   },
   {
    "duration": 7,
    "start_time": "2022-04-19T06:17:04.583Z"
   },
   {
    "duration": 398568,
    "start_time": "2022-04-19T06:17:04.592Z"
   },
   {
    "duration": 1098,
    "start_time": "2022-04-19T06:23:43.168Z"
   },
   {
    "duration": 18,
    "start_time": "2022-04-19T06:23:44.268Z"
   },
   {
    "duration": 13,
    "start_time": "2022-04-19T11:27:26.800Z"
   },
   {
    "duration": 169,
    "start_time": "2022-04-19T11:27:49.858Z"
   },
   {
    "duration": 1716,
    "start_time": "2022-04-19T11:28:03.018Z"
   },
   {
    "duration": 201,
    "start_time": "2022-04-19T11:28:25.038Z"
   },
   {
    "duration": 1294,
    "start_time": "2022-04-19T11:28:41.169Z"
   },
   {
    "duration": 803,
    "start_time": "2022-04-19T11:28:42.465Z"
   },
   {
    "duration": 21,
    "start_time": "2022-04-19T11:28:43.270Z"
   },
   {
    "duration": 3,
    "start_time": "2022-04-19T11:28:43.292Z"
   },
   {
    "duration": 243,
    "start_time": "2022-04-19T11:28:43.298Z"
   },
   {
    "duration": 128,
    "start_time": "2022-04-19T11:28:43.543Z"
   },
   {
    "duration": 669,
    "start_time": "2022-04-19T11:28:43.673Z"
   },
   {
    "duration": 514,
    "start_time": "2022-04-19T11:28:44.347Z"
   },
   {
    "duration": 31,
    "start_time": "2022-04-19T11:28:44.863Z"
   },
   {
    "duration": 28,
    "start_time": "2022-04-19T11:28:44.895Z"
   },
   {
    "duration": 28,
    "start_time": "2022-04-19T11:28:44.925Z"
   },
   {
    "duration": 21,
    "start_time": "2022-04-19T11:28:44.954Z"
   },
   {
    "duration": 72,
    "start_time": "2022-04-19T11:28:44.977Z"
   },
   {
    "duration": 37,
    "start_time": "2022-04-19T11:28:45.053Z"
   },
   {
    "duration": 24,
    "start_time": "2022-04-19T11:28:45.092Z"
   },
   {
    "duration": 33,
    "start_time": "2022-04-19T11:28:45.118Z"
   },
   {
    "duration": 8,
    "start_time": "2022-04-19T11:28:45.154Z"
   },
   {
    "duration": 10,
    "start_time": "2022-04-19T11:28:45.164Z"
   },
   {
    "duration": 1102,
    "start_time": "2022-04-19T11:28:45.176Z"
   },
   {
    "duration": 136,
    "start_time": "2022-04-19T11:28:46.280Z"
   },
   {
    "duration": 3,
    "start_time": "2022-04-19T11:28:46.418Z"
   },
   {
    "duration": 325,
    "start_time": "2022-04-19T11:28:46.422Z"
   },
   {
    "duration": 2,
    "start_time": "2022-04-19T11:28:46.749Z"
   },
   {
    "duration": 5,
    "start_time": "2022-04-19T11:28:46.753Z"
   },
   {
    "duration": 110265,
    "start_time": "2022-04-19T11:28:46.760Z"
   },
   {
    "duration": 3,
    "start_time": "2022-04-19T11:30:37.027Z"
   },
   {
    "duration": 23,
    "start_time": "2022-04-19T11:30:37.032Z"
   },
   {
    "duration": 167302,
    "start_time": "2022-04-19T11:30:37.057Z"
   },
   {
    "duration": 2,
    "start_time": "2022-04-19T11:33:24.361Z"
   },
   {
    "duration": 9,
    "start_time": "2022-04-19T11:33:24.364Z"
   },
   {
    "duration": 142984,
    "start_time": "2022-04-19T11:33:24.375Z"
   },
   {
    "duration": 4,
    "start_time": "2022-04-19T11:35:47.448Z"
   },
   {
    "duration": 7,
    "start_time": "2022-04-19T11:35:47.453Z"
   },
   {
    "duration": 167528,
    "start_time": "2022-04-19T11:35:47.462Z"
   },
   {
    "duration": 14,
    "start_time": "2022-04-19T11:38:34.991Z"
   },
   {
    "duration": 99,
    "start_time": "2022-04-19T11:38:35.007Z"
   },
   {
    "duration": 3,
    "start_time": "2022-04-19T11:38:35.107Z"
   },
   {
    "duration": 4,
    "start_time": "2022-04-19T11:38:35.112Z"
   },
   {
    "duration": 368743,
    "start_time": "2022-04-19T11:38:35.118Z"
   },
   {
    "duration": 225,
    "start_time": "2022-04-19T11:44:43.862Z"
   },
   {
    "duration": 4,
    "start_time": "2022-04-19T11:44:44.091Z"
   },
   {
    "duration": 0,
    "start_time": "2022-04-19T11:44:44.096Z"
   },
   {
    "duration": 0,
    "start_time": "2022-04-19T11:44:44.097Z"
   },
   {
    "duration": 0,
    "start_time": "2022-04-19T11:44:44.098Z"
   },
   {
    "duration": 0,
    "start_time": "2022-04-19T11:44:44.099Z"
   },
   {
    "duration": 156,
    "start_time": "2022-04-19T11:46:17.372Z"
   },
   {
    "duration": 592,
    "start_time": "2022-04-19T11:46:45.611Z"
   },
   {
    "duration": 300,
    "start_time": "2022-04-19T11:46:52.049Z"
   },
   {
    "duration": 666,
    "start_time": "2022-04-19T11:47:35.624Z"
   },
   {
    "duration": 13,
    "start_time": "2022-04-19T11:47:40.811Z"
   },
   {
    "duration": 11,
    "start_time": "2022-04-19T11:48:47.891Z"
   },
   {
    "duration": 55,
    "start_time": "2022-04-22T18:20:04.314Z"
   }
  ],
  "kernelspec": {
   "display_name": "Python 3 (ipykernel)",
   "language": "python",
   "name": "python3"
  },
  "language_info": {
   "codemirror_mode": {
    "name": "ipython",
    "version": 3
   },
   "file_extension": ".py",
   "mimetype": "text/x-python",
   "name": "python",
   "nbconvert_exporter": "python",
   "pygments_lexer": "ipython3",
   "version": "3.9.5"
  },
  "toc": {
   "base_numbering": 1,
   "nav_menu": {},
   "number_sections": true,
   "sideBar": true,
   "skip_h1_title": true,
   "title_cell": "Table of Contents",
   "title_sidebar": "Contents",
   "toc_cell": false,
   "toc_position": {
    "height": "calc(100% - 180px)",
    "left": "10px",
    "top": "150px",
    "width": "232px"
   },
   "toc_section_display": true,
   "toc_window_display": true
  }
 },
 "nbformat": 4,
 "nbformat_minor": 2
}
