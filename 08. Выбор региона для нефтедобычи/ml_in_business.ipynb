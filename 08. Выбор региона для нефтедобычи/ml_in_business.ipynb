{
 "cells": [
  {
   "cell_type": "markdown",
   "metadata": {},
   "source": [
    "# План работы\n",
    "\n",
    "1. Загрузка и подготовка данных\n",
    "2. Обучениеи проверка модели\n",
    "3. Подготовка к расчёту прибыли\n",
    "4. Расчёт прибыли и рисков\n",
    "5. Выводы"
   ]
  },
  {
   "cell_type": "markdown",
   "metadata": {},
   "source": [
    "## Загрузка и подготовка данных"
   ]
  },
  {
   "cell_type": "markdown",
   "metadata": {},
   "source": [
    "<div style=\"border:solid blue 2px; padding: 20px\">\n",
    "\n",
    "Импортируем библиотеки\n",
    "</div>"
   ]
  },
  {
   "cell_type": "code",
   "execution_count": 1,
   "metadata": {
    "collapsed": true
   },
   "outputs": [
    {
     "name": "stdout",
     "output_type": "stream",
     "text": []
    }
   ],
   "source": [
    "pip install -U pandas-profiling[notebook]"
   ]
  },
  {
   "cell_type": "code",
   "execution_count": 2,
   "metadata": {},
   "outputs": [],
   "source": [
    "import matplotlib.pyplot as plt\n",
    "import numpy as np\n",
    "import pandas as pd\n",
    "from pandas_profiling import ProfileReport\n",
    "from sklearn.model_selection import train_test_split\n",
    "from sklearn.linear_model import LinearRegression\n",
    "from sklearn.metrics import mean_squared_error\n",
    "from sklearn.preprocessing import StandardScaler\n",
    "from sklearn.utils import shuffle\n",
    "import warnings\n",
    "warnings.filterwarnings('ignore')"
   ]
  },
  {
   "cell_type": "markdown",
   "metadata": {},
   "source": [
    "<div style=\"border:solid blue 2px; padding: 20px\">\n",
    "\n",
    "Откроем и изучим файл\n",
    "</div>"
   ]
  },
  {
   "cell_type": "code",
   "execution_count": 3,
   "metadata": {},
   "outputs": [],
   "source": [
    "# чтение файла с данными и сохранение в data_users\n",
    "# метод try-except поможет загрузить данные локально или глобально\n",
    "try:\n",
    "    geo_data_0 = pd.read_csv('C:/Users/geo_data_0.csv')  # Локальный путь\n",
    "    geo_data_1 = pd.read_csv('C:/Users/geo_data_1.csv')\n",
    "    geo_data_2 = pd.read_csv('C:/Users/geo_data_2.csv')\n",
    "except:\n",
    "    geo_data_0 = pd.read_csv('/datasets/geo_data_0.csv')  # Серверный путь\n",
    "    geo_data_1 = pd.read_csv('/datasets/geo_data_1.csv')\n",
    "    geo_data_2 = pd.read_csv('/datasets/geo_data_2.csv')"
   ]
  },
  {
   "cell_type": "markdown",
   "metadata": {},
   "source": [
    "<div style=\"border:solid blue 2px; padding: 20px\">\n",
    "    \n",
    "`head()` выводим на экран первые пять строк таблицы:\n",
    "    </div>"
   ]
  },
  {
   "cell_type": "code",
   "execution_count": 4,
   "metadata": {},
   "outputs": [
    {
     "data": {
      "text/html": [
       "<div>\n",
       "<style scoped>\n",
       "    .dataframe tbody tr th:only-of-type {\n",
       "        vertical-align: middle;\n",
       "    }\n",
       "\n",
       "    .dataframe tbody tr th {\n",
       "        vertical-align: top;\n",
       "    }\n",
       "\n",
       "    .dataframe thead th {\n",
       "        text-align: right;\n",
       "    }\n",
       "</style>\n",
       "<table border=\"1\" class=\"dataframe\">\n",
       "  <thead>\n",
       "    <tr style=\"text-align: right;\">\n",
       "      <th></th>\n",
       "      <th>id</th>\n",
       "      <th>f0</th>\n",
       "      <th>f1</th>\n",
       "      <th>f2</th>\n",
       "      <th>product</th>\n",
       "    </tr>\n",
       "  </thead>\n",
       "  <tbody>\n",
       "    <tr>\n",
       "      <th>0</th>\n",
       "      <td>txEyH</td>\n",
       "      <td>0.705745</td>\n",
       "      <td>-0.497823</td>\n",
       "      <td>1.221170</td>\n",
       "      <td>105.280062</td>\n",
       "    </tr>\n",
       "    <tr>\n",
       "      <th>1</th>\n",
       "      <td>2acmU</td>\n",
       "      <td>1.334711</td>\n",
       "      <td>-0.340164</td>\n",
       "      <td>4.365080</td>\n",
       "      <td>73.037750</td>\n",
       "    </tr>\n",
       "    <tr>\n",
       "      <th>2</th>\n",
       "      <td>409Wp</td>\n",
       "      <td>1.022732</td>\n",
       "      <td>0.151990</td>\n",
       "      <td>1.419926</td>\n",
       "      <td>85.265647</td>\n",
       "    </tr>\n",
       "    <tr>\n",
       "      <th>3</th>\n",
       "      <td>iJLyR</td>\n",
       "      <td>-0.032172</td>\n",
       "      <td>0.139033</td>\n",
       "      <td>2.978566</td>\n",
       "      <td>168.620776</td>\n",
       "    </tr>\n",
       "    <tr>\n",
       "      <th>4</th>\n",
       "      <td>Xdl7t</td>\n",
       "      <td>1.988431</td>\n",
       "      <td>0.155413</td>\n",
       "      <td>4.751769</td>\n",
       "      <td>154.036647</td>\n",
       "    </tr>\n",
       "  </tbody>\n",
       "</table>\n",
       "</div>"
      ],
      "text/plain": [
       "      id        f0        f1        f2     product\n",
       "0  txEyH  0.705745 -0.497823  1.221170  105.280062\n",
       "1  2acmU  1.334711 -0.340164  4.365080   73.037750\n",
       "2  409Wp  1.022732  0.151990  1.419926   85.265647\n",
       "3  iJLyR -0.032172  0.139033  2.978566  168.620776\n",
       "4  Xdl7t  1.988431  0.155413  4.751769  154.036647"
      ]
     },
     "execution_count": 4,
     "metadata": {},
     "output_type": "execute_result"
    }
   ],
   "source": [
    "# получение первых 5 строк таблицы geo_data_0\n",
    "geo_data_0.head()"
   ]
  },
  {
   "cell_type": "code",
   "execution_count": 5,
   "metadata": {},
   "outputs": [
    {
     "data": {
      "text/html": [
       "<div>\n",
       "<style scoped>\n",
       "    .dataframe tbody tr th:only-of-type {\n",
       "        vertical-align: middle;\n",
       "    }\n",
       "\n",
       "    .dataframe tbody tr th {\n",
       "        vertical-align: top;\n",
       "    }\n",
       "\n",
       "    .dataframe thead th {\n",
       "        text-align: right;\n",
       "    }\n",
       "</style>\n",
       "<table border=\"1\" class=\"dataframe\">\n",
       "  <thead>\n",
       "    <tr style=\"text-align: right;\">\n",
       "      <th></th>\n",
       "      <th>id</th>\n",
       "      <th>f0</th>\n",
       "      <th>f1</th>\n",
       "      <th>f2</th>\n",
       "      <th>product</th>\n",
       "    </tr>\n",
       "  </thead>\n",
       "  <tbody>\n",
       "    <tr>\n",
       "      <th>0</th>\n",
       "      <td>kBEdx</td>\n",
       "      <td>-15.001348</td>\n",
       "      <td>-8.276000</td>\n",
       "      <td>-0.005876</td>\n",
       "      <td>3.179103</td>\n",
       "    </tr>\n",
       "    <tr>\n",
       "      <th>1</th>\n",
       "      <td>62mP7</td>\n",
       "      <td>14.272088</td>\n",
       "      <td>-3.475083</td>\n",
       "      <td>0.999183</td>\n",
       "      <td>26.953261</td>\n",
       "    </tr>\n",
       "    <tr>\n",
       "      <th>2</th>\n",
       "      <td>vyE1P</td>\n",
       "      <td>6.263187</td>\n",
       "      <td>-5.948386</td>\n",
       "      <td>5.001160</td>\n",
       "      <td>134.766305</td>\n",
       "    </tr>\n",
       "    <tr>\n",
       "      <th>3</th>\n",
       "      <td>KcrkZ</td>\n",
       "      <td>-13.081196</td>\n",
       "      <td>-11.506057</td>\n",
       "      <td>4.999415</td>\n",
       "      <td>137.945408</td>\n",
       "    </tr>\n",
       "    <tr>\n",
       "      <th>4</th>\n",
       "      <td>AHL4O</td>\n",
       "      <td>12.702195</td>\n",
       "      <td>-8.147433</td>\n",
       "      <td>5.004363</td>\n",
       "      <td>134.766305</td>\n",
       "    </tr>\n",
       "  </tbody>\n",
       "</table>\n",
       "</div>"
      ],
      "text/plain": [
       "      id         f0         f1        f2     product\n",
       "0  kBEdx -15.001348  -8.276000 -0.005876    3.179103\n",
       "1  62mP7  14.272088  -3.475083  0.999183   26.953261\n",
       "2  vyE1P   6.263187  -5.948386  5.001160  134.766305\n",
       "3  KcrkZ -13.081196 -11.506057  4.999415  137.945408\n",
       "4  AHL4O  12.702195  -8.147433  5.004363  134.766305"
      ]
     },
     "execution_count": 5,
     "metadata": {},
     "output_type": "execute_result"
    }
   ],
   "source": [
    "# получение первых 5 строк таблицы geo_data_1\n",
    "geo_data_1.head()"
   ]
  },
  {
   "cell_type": "code",
   "execution_count": 6,
   "metadata": {},
   "outputs": [
    {
     "data": {
      "text/html": [
       "<div>\n",
       "<style scoped>\n",
       "    .dataframe tbody tr th:only-of-type {\n",
       "        vertical-align: middle;\n",
       "    }\n",
       "\n",
       "    .dataframe tbody tr th {\n",
       "        vertical-align: top;\n",
       "    }\n",
       "\n",
       "    .dataframe thead th {\n",
       "        text-align: right;\n",
       "    }\n",
       "</style>\n",
       "<table border=\"1\" class=\"dataframe\">\n",
       "  <thead>\n",
       "    <tr style=\"text-align: right;\">\n",
       "      <th></th>\n",
       "      <th>id</th>\n",
       "      <th>f0</th>\n",
       "      <th>f1</th>\n",
       "      <th>f2</th>\n",
       "      <th>product</th>\n",
       "    </tr>\n",
       "  </thead>\n",
       "  <tbody>\n",
       "    <tr>\n",
       "      <th>0</th>\n",
       "      <td>fwXo0</td>\n",
       "      <td>-1.146987</td>\n",
       "      <td>0.963328</td>\n",
       "      <td>-0.828965</td>\n",
       "      <td>27.758673</td>\n",
       "    </tr>\n",
       "    <tr>\n",
       "      <th>1</th>\n",
       "      <td>WJtFt</td>\n",
       "      <td>0.262778</td>\n",
       "      <td>0.269839</td>\n",
       "      <td>-2.530187</td>\n",
       "      <td>56.069697</td>\n",
       "    </tr>\n",
       "    <tr>\n",
       "      <th>2</th>\n",
       "      <td>ovLUW</td>\n",
       "      <td>0.194587</td>\n",
       "      <td>0.289035</td>\n",
       "      <td>-5.586433</td>\n",
       "      <td>62.871910</td>\n",
       "    </tr>\n",
       "    <tr>\n",
       "      <th>3</th>\n",
       "      <td>q6cA6</td>\n",
       "      <td>2.236060</td>\n",
       "      <td>-0.553760</td>\n",
       "      <td>0.930038</td>\n",
       "      <td>114.572842</td>\n",
       "    </tr>\n",
       "    <tr>\n",
       "      <th>4</th>\n",
       "      <td>WPMUX</td>\n",
       "      <td>-0.515993</td>\n",
       "      <td>1.716266</td>\n",
       "      <td>5.899011</td>\n",
       "      <td>149.600746</td>\n",
       "    </tr>\n",
       "  </tbody>\n",
       "</table>\n",
       "</div>"
      ],
      "text/plain": [
       "      id        f0        f1        f2     product\n",
       "0  fwXo0 -1.146987  0.963328 -0.828965   27.758673\n",
       "1  WJtFt  0.262778  0.269839 -2.530187   56.069697\n",
       "2  ovLUW  0.194587  0.289035 -5.586433   62.871910\n",
       "3  q6cA6  2.236060 -0.553760  0.930038  114.572842\n",
       "4  WPMUX -0.515993  1.716266  5.899011  149.600746"
      ]
     },
     "execution_count": 6,
     "metadata": {},
     "output_type": "execute_result"
    }
   ],
   "source": [
    "# получение первых 5 строк таблицы geo_data_2\n",
    "geo_data_2.head()"
   ]
  },
  {
   "cell_type": "markdown",
   "metadata": {},
   "source": [
    "<div style=\"border:solid blue 2px; padding: 20px\">\n",
    "    \n",
    "`info()` получим общую информацию о таблице:\n",
    "    </div>"
   ]
  },
  {
   "cell_type": "code",
   "execution_count": 7,
   "metadata": {},
   "outputs": [
    {
     "name": "stdout",
     "output_type": "stream",
     "text": [
      "<class 'pandas.core.frame.DataFrame'>\n",
      "RangeIndex: 100000 entries, 0 to 99999\n",
      "Data columns (total 5 columns):\n",
      " #   Column   Non-Null Count   Dtype  \n",
      "---  ------   --------------   -----  \n",
      " 0   id       100000 non-null  object \n",
      " 1   f0       100000 non-null  float64\n",
      " 2   f1       100000 non-null  float64\n",
      " 3   f2       100000 non-null  float64\n",
      " 4   product  100000 non-null  float64\n",
      "dtypes: float64(4), object(1)\n",
      "memory usage: 3.8+ MB\n"
     ]
    }
   ],
   "source": [
    "# получение общей информации о данных в таблице geo_data_0\n",
    "geo_data_0.info()"
   ]
  },
  {
   "cell_type": "code",
   "execution_count": 8,
   "metadata": {},
   "outputs": [
    {
     "name": "stdout",
     "output_type": "stream",
     "text": [
      "<class 'pandas.core.frame.DataFrame'>\n",
      "RangeIndex: 100000 entries, 0 to 99999\n",
      "Data columns (total 5 columns):\n",
      " #   Column   Non-Null Count   Dtype  \n",
      "---  ------   --------------   -----  \n",
      " 0   id       100000 non-null  object \n",
      " 1   f0       100000 non-null  float64\n",
      " 2   f1       100000 non-null  float64\n",
      " 3   f2       100000 non-null  float64\n",
      " 4   product  100000 non-null  float64\n",
      "dtypes: float64(4), object(1)\n",
      "memory usage: 3.8+ MB\n"
     ]
    }
   ],
   "source": [
    "# получение общей информации о данных в таблице geo_data_1\n",
    "geo_data_1.info()"
   ]
  },
  {
   "cell_type": "code",
   "execution_count": 9,
   "metadata": {},
   "outputs": [
    {
     "name": "stdout",
     "output_type": "stream",
     "text": [
      "<class 'pandas.core.frame.DataFrame'>\n",
      "RangeIndex: 100000 entries, 0 to 99999\n",
      "Data columns (total 5 columns):\n",
      " #   Column   Non-Null Count   Dtype  \n",
      "---  ------   --------------   -----  \n",
      " 0   id       100000 non-null  object \n",
      " 1   f0       100000 non-null  float64\n",
      " 2   f1       100000 non-null  float64\n",
      " 3   f2       100000 non-null  float64\n",
      " 4   product  100000 non-null  float64\n",
      "dtypes: float64(4), object(1)\n",
      "memory usage: 3.8+ MB\n"
     ]
    }
   ],
   "source": [
    "# получение общей информации о данных в таблице geo_data_2\n",
    "geo_data_2.info()"
   ]
  },
  {
   "cell_type": "markdown",
   "metadata": {},
   "source": [
    "<div style=\"border:solid blue 2px; padding: 20px\">\n",
    "    \n",
    " \n",
    "Методом `describe()` получим описание данных\n",
    "    \n",
    "    \n",
    "</div> "
   ]
  },
  {
   "cell_type": "code",
   "execution_count": 10,
   "metadata": {},
   "outputs": [
    {
     "data": {
      "text/html": [
       "<div>\n",
       "<style scoped>\n",
       "    .dataframe tbody tr th:only-of-type {\n",
       "        vertical-align: middle;\n",
       "    }\n",
       "\n",
       "    .dataframe tbody tr th {\n",
       "        vertical-align: top;\n",
       "    }\n",
       "\n",
       "    .dataframe thead th {\n",
       "        text-align: right;\n",
       "    }\n",
       "</style>\n",
       "<table border=\"1\" class=\"dataframe\">\n",
       "  <thead>\n",
       "    <tr style=\"text-align: right;\">\n",
       "      <th></th>\n",
       "      <th>f0</th>\n",
       "      <th>f1</th>\n",
       "      <th>f2</th>\n",
       "      <th>product</th>\n",
       "    </tr>\n",
       "  </thead>\n",
       "  <tbody>\n",
       "    <tr>\n",
       "      <th>count</th>\n",
       "      <td>100000.000000</td>\n",
       "      <td>100000.000000</td>\n",
       "      <td>100000.000000</td>\n",
       "      <td>100000.000000</td>\n",
       "    </tr>\n",
       "    <tr>\n",
       "      <th>mean</th>\n",
       "      <td>0.500419</td>\n",
       "      <td>0.250143</td>\n",
       "      <td>2.502647</td>\n",
       "      <td>92.500000</td>\n",
       "    </tr>\n",
       "    <tr>\n",
       "      <th>std</th>\n",
       "      <td>0.871832</td>\n",
       "      <td>0.504433</td>\n",
       "      <td>3.248248</td>\n",
       "      <td>44.288691</td>\n",
       "    </tr>\n",
       "    <tr>\n",
       "      <th>min</th>\n",
       "      <td>-1.408605</td>\n",
       "      <td>-0.848218</td>\n",
       "      <td>-12.088328</td>\n",
       "      <td>0.000000</td>\n",
       "    </tr>\n",
       "    <tr>\n",
       "      <th>25%</th>\n",
       "      <td>-0.072580</td>\n",
       "      <td>-0.200881</td>\n",
       "      <td>0.287748</td>\n",
       "      <td>56.497507</td>\n",
       "    </tr>\n",
       "    <tr>\n",
       "      <th>50%</th>\n",
       "      <td>0.502360</td>\n",
       "      <td>0.250252</td>\n",
       "      <td>2.515969</td>\n",
       "      <td>91.849972</td>\n",
       "    </tr>\n",
       "    <tr>\n",
       "      <th>75%</th>\n",
       "      <td>1.073581</td>\n",
       "      <td>0.700646</td>\n",
       "      <td>4.715088</td>\n",
       "      <td>128.564089</td>\n",
       "    </tr>\n",
       "    <tr>\n",
       "      <th>max</th>\n",
       "      <td>2.362331</td>\n",
       "      <td>1.343769</td>\n",
       "      <td>16.003790</td>\n",
       "      <td>185.364347</td>\n",
       "    </tr>\n",
       "  </tbody>\n",
       "</table>\n",
       "</div>"
      ],
      "text/plain": [
       "                  f0             f1             f2        product\n",
       "count  100000.000000  100000.000000  100000.000000  100000.000000\n",
       "mean        0.500419       0.250143       2.502647      92.500000\n",
       "std         0.871832       0.504433       3.248248      44.288691\n",
       "min        -1.408605      -0.848218     -12.088328       0.000000\n",
       "25%        -0.072580      -0.200881       0.287748      56.497507\n",
       "50%         0.502360       0.250252       2.515969      91.849972\n",
       "75%         1.073581       0.700646       4.715088     128.564089\n",
       "max         2.362331       1.343769      16.003790     185.364347"
      ]
     },
     "execution_count": 10,
     "metadata": {},
     "output_type": "execute_result"
    }
   ],
   "source": [
    "# описание данных geo_data_0\n",
    "geo_data_0.describe()"
   ]
  },
  {
   "cell_type": "code",
   "execution_count": 11,
   "metadata": {},
   "outputs": [
    {
     "data": {
      "text/html": [
       "<div>\n",
       "<style scoped>\n",
       "    .dataframe tbody tr th:only-of-type {\n",
       "        vertical-align: middle;\n",
       "    }\n",
       "\n",
       "    .dataframe tbody tr th {\n",
       "        vertical-align: top;\n",
       "    }\n",
       "\n",
       "    .dataframe thead th {\n",
       "        text-align: right;\n",
       "    }\n",
       "</style>\n",
       "<table border=\"1\" class=\"dataframe\">\n",
       "  <thead>\n",
       "    <tr style=\"text-align: right;\">\n",
       "      <th></th>\n",
       "      <th>f0</th>\n",
       "      <th>f1</th>\n",
       "      <th>f2</th>\n",
       "      <th>product</th>\n",
       "    </tr>\n",
       "  </thead>\n",
       "  <tbody>\n",
       "    <tr>\n",
       "      <th>count</th>\n",
       "      <td>100000.000000</td>\n",
       "      <td>100000.000000</td>\n",
       "      <td>100000.000000</td>\n",
       "      <td>100000.000000</td>\n",
       "    </tr>\n",
       "    <tr>\n",
       "      <th>mean</th>\n",
       "      <td>1.141296</td>\n",
       "      <td>-4.796579</td>\n",
       "      <td>2.494541</td>\n",
       "      <td>68.825000</td>\n",
       "    </tr>\n",
       "    <tr>\n",
       "      <th>std</th>\n",
       "      <td>8.965932</td>\n",
       "      <td>5.119872</td>\n",
       "      <td>1.703572</td>\n",
       "      <td>45.944423</td>\n",
       "    </tr>\n",
       "    <tr>\n",
       "      <th>min</th>\n",
       "      <td>-31.609576</td>\n",
       "      <td>-26.358598</td>\n",
       "      <td>-0.018144</td>\n",
       "      <td>0.000000</td>\n",
       "    </tr>\n",
       "    <tr>\n",
       "      <th>25%</th>\n",
       "      <td>-6.298551</td>\n",
       "      <td>-8.267985</td>\n",
       "      <td>1.000021</td>\n",
       "      <td>26.953261</td>\n",
       "    </tr>\n",
       "    <tr>\n",
       "      <th>50%</th>\n",
       "      <td>1.153055</td>\n",
       "      <td>-4.813172</td>\n",
       "      <td>2.011479</td>\n",
       "      <td>57.085625</td>\n",
       "    </tr>\n",
       "    <tr>\n",
       "      <th>75%</th>\n",
       "      <td>8.621015</td>\n",
       "      <td>-1.332816</td>\n",
       "      <td>3.999904</td>\n",
       "      <td>107.813044</td>\n",
       "    </tr>\n",
       "    <tr>\n",
       "      <th>max</th>\n",
       "      <td>29.421755</td>\n",
       "      <td>18.734063</td>\n",
       "      <td>5.019721</td>\n",
       "      <td>137.945408</td>\n",
       "    </tr>\n",
       "  </tbody>\n",
       "</table>\n",
       "</div>"
      ],
      "text/plain": [
       "                  f0             f1             f2        product\n",
       "count  100000.000000  100000.000000  100000.000000  100000.000000\n",
       "mean        1.141296      -4.796579       2.494541      68.825000\n",
       "std         8.965932       5.119872       1.703572      45.944423\n",
       "min       -31.609576     -26.358598      -0.018144       0.000000\n",
       "25%        -6.298551      -8.267985       1.000021      26.953261\n",
       "50%         1.153055      -4.813172       2.011479      57.085625\n",
       "75%         8.621015      -1.332816       3.999904     107.813044\n",
       "max        29.421755      18.734063       5.019721     137.945408"
      ]
     },
     "execution_count": 11,
     "metadata": {},
     "output_type": "execute_result"
    }
   ],
   "source": [
    "# описание данных geo_data_1\n",
    "geo_data_1.describe()"
   ]
  },
  {
   "cell_type": "code",
   "execution_count": 12,
   "metadata": {
    "scrolled": true
   },
   "outputs": [
    {
     "data": {
      "text/html": [
       "<div>\n",
       "<style scoped>\n",
       "    .dataframe tbody tr th:only-of-type {\n",
       "        vertical-align: middle;\n",
       "    }\n",
       "\n",
       "    .dataframe tbody tr th {\n",
       "        vertical-align: top;\n",
       "    }\n",
       "\n",
       "    .dataframe thead th {\n",
       "        text-align: right;\n",
       "    }\n",
       "</style>\n",
       "<table border=\"1\" class=\"dataframe\">\n",
       "  <thead>\n",
       "    <tr style=\"text-align: right;\">\n",
       "      <th></th>\n",
       "      <th>f0</th>\n",
       "      <th>f1</th>\n",
       "      <th>f2</th>\n",
       "      <th>product</th>\n",
       "    </tr>\n",
       "  </thead>\n",
       "  <tbody>\n",
       "    <tr>\n",
       "      <th>count</th>\n",
       "      <td>100000.000000</td>\n",
       "      <td>100000.000000</td>\n",
       "      <td>100000.000000</td>\n",
       "      <td>100000.000000</td>\n",
       "    </tr>\n",
       "    <tr>\n",
       "      <th>mean</th>\n",
       "      <td>0.002023</td>\n",
       "      <td>-0.002081</td>\n",
       "      <td>2.495128</td>\n",
       "      <td>95.000000</td>\n",
       "    </tr>\n",
       "    <tr>\n",
       "      <th>std</th>\n",
       "      <td>1.732045</td>\n",
       "      <td>1.730417</td>\n",
       "      <td>3.473445</td>\n",
       "      <td>44.749921</td>\n",
       "    </tr>\n",
       "    <tr>\n",
       "      <th>min</th>\n",
       "      <td>-8.760004</td>\n",
       "      <td>-7.084020</td>\n",
       "      <td>-11.970335</td>\n",
       "      <td>0.000000</td>\n",
       "    </tr>\n",
       "    <tr>\n",
       "      <th>25%</th>\n",
       "      <td>-1.162288</td>\n",
       "      <td>-1.174820</td>\n",
       "      <td>0.130359</td>\n",
       "      <td>59.450441</td>\n",
       "    </tr>\n",
       "    <tr>\n",
       "      <th>50%</th>\n",
       "      <td>0.009424</td>\n",
       "      <td>-0.009482</td>\n",
       "      <td>2.484236</td>\n",
       "      <td>94.925613</td>\n",
       "    </tr>\n",
       "    <tr>\n",
       "      <th>75%</th>\n",
       "      <td>1.158535</td>\n",
       "      <td>1.163678</td>\n",
       "      <td>4.858794</td>\n",
       "      <td>130.595027</td>\n",
       "    </tr>\n",
       "    <tr>\n",
       "      <th>max</th>\n",
       "      <td>7.238262</td>\n",
       "      <td>7.844801</td>\n",
       "      <td>16.739402</td>\n",
       "      <td>190.029838</td>\n",
       "    </tr>\n",
       "  </tbody>\n",
       "</table>\n",
       "</div>"
      ],
      "text/plain": [
       "                  f0             f1             f2        product\n",
       "count  100000.000000  100000.000000  100000.000000  100000.000000\n",
       "mean        0.002023      -0.002081       2.495128      95.000000\n",
       "std         1.732045       1.730417       3.473445      44.749921\n",
       "min        -8.760004      -7.084020     -11.970335       0.000000\n",
       "25%        -1.162288      -1.174820       0.130359      59.450441\n",
       "50%         0.009424      -0.009482       2.484236      94.925613\n",
       "75%         1.158535       1.163678       4.858794     130.595027\n",
       "max         7.238262       7.844801      16.739402     190.029838"
      ]
     },
     "execution_count": 12,
     "metadata": {},
     "output_type": "execute_result"
    }
   ],
   "source": [
    "# описание данных geo_data_2\n",
    "geo_data_2.describe()"
   ]
  },
  {
   "cell_type": "markdown",
   "metadata": {},
   "source": [
    "<div style=\"border:solid blue 2px; padding: 20px\">\n",
    "    \n",
    " \n",
    "`ProfileReport()` применим для исследовательского анализа данных\n",
    "    \n",
    "    \n",
    "</div> "
   ]
  },
  {
   "cell_type": "code",
   "execution_count": null,
   "metadata": {
    "scrolled": false
   },
   "outputs": [],
   "source": [
    "# презентация результатов анализа geo_data_0\n",
    "profile_0 = ProfileReport(geo_data_0, title='geo_data_0 Pandas Profiling Report', explorative = True)\n",
    "profile_0"
   ]
  },
  {
   "cell_type": "code",
   "execution_count": null,
   "metadata": {
    "scrolled": true
   },
   "outputs": [],
   "source": [
    "# презентация результатов анализа geo_data_1\n",
    "profile_1 = ProfileReport(geo_data_1, title='geo_data_1 Pandas Profiling Report', explorative = True)\n",
    "profile_1"
   ]
  },
  {
   "cell_type": "markdown",
   "metadata": {},
   "source": [
    "<div style=\"border:solid blue 2px; padding: 20px\">\n",
    "    \n",
    " \n",
    "Сильная корреляция целевого признака `product` и `f2` признака точки скважины для `geo_data_1`\n",
    "    \n",
    "</div> "
   ]
  },
  {
   "cell_type": "code",
   "execution_count": null,
   "metadata": {
    "scrolled": false
   },
   "outputs": [],
   "source": [
    "# презентация результатов анализа geo_data_2\n",
    "profile_2 = ProfileReport(geo_data_2, title='geo_data_2 Pandas Profiling Report', explorative = True)\n",
    "profile_2"
   ]
  },
  {
   "cell_type": "code",
   "execution_count": 16,
   "metadata": {},
   "outputs": [],
   "source": [
    "# удаление столбцов из таблиц\n",
    "geo_data_0 = geo_data_0.drop(['id'], axis=1)\n",
    "geo_data_1 = geo_data_1.drop(['id'], axis=1)\n",
    "geo_data_2 = geo_data_2.drop(['id'], axis=1)"
   ]
  },
  {
   "cell_type": "markdown",
   "metadata": {},
   "source": [
    "<div style=\"border:solid blue 2px; padding: 20px\">\n",
    "    \n",
    " \n",
    "Сохраним в переменную `random_state` значение параметра, чтобы результаты получились одинаковыми\n",
    "    \n",
    "    \n",
    "</div> "
   ]
  },
  {
   "cell_type": "code",
   "execution_count": 17,
   "metadata": {},
   "outputs": [],
   "source": [
    "# сохранение параметра\n",
    "random_state = 1234"
   ]
  },
  {
   "cell_type": "markdown",
   "metadata": {},
   "source": [
    "<div style=\"border:solid blue 2px; padding: 20px\">\n",
    "\n",
    "### Вывод\n",
    "\n",
    "\n",
    "    \n",
    "    \n",
    "</div> "
   ]
  },
  {
   "cell_type": "markdown",
   "metadata": {},
   "source": [
    "<div style=\"border:solid blue 2px; padding: 20px\">\n",
    "    \n",
    "**Оценка полученных данных**\n",
    "\n",
    "Наблюдения, представленные в таблице описываются категориальными и количественными значениями.\n",
    "    \n",
    "Данные можно исследовать для дальнейшего анализа.\n",
    "    \n",
    "Данные содержат категориальные признаки `id`, которые по условию задачи \n",
    "    \n",
    "не используются для обучения модели и соответственно удалены.\n",
    "    \n",
    "    \n",
    "Мультиколлинеарность факторов `f2` и `product` в `geo_data_1`. Принимаем решение оставить признак\n",
    "    \n",
    "    \n",
    "    \n",
    "**Таблицы `geo_data` (данные геологоразведки регионов )**:\n",
    "    \n",
    "`id` — уникальный идентификатор скважины\n",
    "    \n",
    "`f0` — `качество` признак точки скважины(неважно, что они означают, но сами признаки значимы)\n",
    "    \n",
    "`f1` — `качество` признак точки скважины(неважно, что они означают, но сами признаки значимы)\n",
    "    \n",
    "`f2` — `качество` признак точки скважины(неважно, что они означают, но сами признаки значимы)\n",
    "    \n",
    "`product` — объём запасов в скважине (тыс. баррелей).\n",
    "    \n",
    "\n",
    "    \n",
    "\n",
    "**Количественный целевой признак** - `product` - задача регрессии\n",
    "\n",
    "\n",
    "\n",
    "Данные таблицы `geo_data_0` содержат по объёму `0` запасов `product` в `1 скважине` это `< 0.1% `\n",
    "                                                                                               \n",
    "Данные таблицы `geo_data_1` содержат по объёму `0` запасов `product` в `8235 скважинах` это `8.2%`\n",
    "                                                                                               \n",
    "Данные таблицы `geo_data_2` содержат по объёму `0` запасов `product` в `1 скважине` это `< 0.1%`\n",
    "    \n",
    "</div>"
   ]
  },
  {
   "cell_type": "markdown",
   "metadata": {},
   "source": [
    "## Обучение и проверка модели"
   ]
  },
  {
   "cell_type": "markdown",
   "metadata": {},
   "source": [
    "<div style=\"border:solid blue 2px; padding: 20px\">\n",
    "    \n",
    " \n",
    "`geo_data` разделим на обучающую `train` выборку `3-и части` и \n",
    "    \n",
    "валидационную `valid` оставшуюся `1-у часть` выборки\n",
    "    \n",
    "    \n",
    "</div> "
   ]
  },
  {
   "cell_type": "markdown",
   "metadata": {},
   "source": [
    "<div style=\"border:solid blue 2px; padding: 20px\">\n",
    "    \n",
    " \n",
    "Создадим функцию с именем `test_split()` c параметрами `geo_data` `target`, в теле функции \n",
    "\n",
    "разделим `geo_data` на обучающую и валидационную выборки в соотношении 75:25\n",
    "    \n",
    "признаки обучающей и валидационной выборки сохраним в отдельных переменных\n",
    "    \n",
    "`StandardScaler()` стандартизируем данные\n",
    "    \n",
    "`transform()` преобразуем обучающую и валидационную выборки\n",
    "    \n",
    "</div> "
   ]
  },
  {
   "cell_type": "code",
   "execution_count": 18,
   "metadata": {},
   "outputs": [],
   "source": [
    "def test_split(geo_data, target):\n",
    "    geo_data_train, geo_data_valid = train_test_split(geo_data, test_size=0.25, random_state=random_state)\n",
    "    print('Объектов обучающей выборки', geo_data_train.shape[0])\n",
    "    print('Объектов валидационной выборки', geo_data_valid.shape[0])\n",
    "    features_train = geo_data_train.drop(columns=[target])\n",
    "    target_train = geo_data_train[target]\n",
    "    features_valid = geo_data_valid.drop(columns=[target])\n",
    "    target_valid = geo_data_valid[target]\n",
    "    numeric = list(geo_data.drop(columns=[target]).columns)\n",
    "    scaler = StandardScaler()\n",
    "    scaler.fit(features_train[numeric])\n",
    "    features_train[numeric] = scaler.transform(features_train[numeric])\n",
    "    features_valid[numeric] = scaler.transform(features_valid[numeric])\n",
    "    return features_train, features_valid, target_train, target_valid"
   ]
  },
  {
   "cell_type": "code",
   "execution_count": 19,
   "metadata": {
    "scrolled": true
   },
   "outputs": [
    {
     "name": "stdout",
     "output_type": "stream",
     "text": [
      "Объектов обучающей выборки 75000\n",
      "Объектов валидационной выборки 25000\n"
     ]
    },
    {
     "data": {
      "text/html": [
       "<div>\n",
       "<style scoped>\n",
       "    .dataframe tbody tr th:only-of-type {\n",
       "        vertical-align: middle;\n",
       "    }\n",
       "\n",
       "    .dataframe tbody tr th {\n",
       "        vertical-align: top;\n",
       "    }\n",
       "\n",
       "    .dataframe thead th {\n",
       "        text-align: right;\n",
       "    }\n",
       "</style>\n",
       "<table border=\"1\" class=\"dataframe\">\n",
       "  <thead>\n",
       "    <tr style=\"text-align: right;\">\n",
       "      <th></th>\n",
       "      <th>f0</th>\n",
       "      <th>f1</th>\n",
       "      <th>f2</th>\n",
       "    </tr>\n",
       "  </thead>\n",
       "  <tbody>\n",
       "    <tr>\n",
       "      <th>39682</th>\n",
       "      <td>0.769305</td>\n",
       "      <td>-1.412592</td>\n",
       "      <td>-1.787834</td>\n",
       "    </tr>\n",
       "    <tr>\n",
       "      <th>87490</th>\n",
       "      <td>-1.464535</td>\n",
       "      <td>0.998119</td>\n",
       "      <td>0.084362</td>\n",
       "    </tr>\n",
       "    <tr>\n",
       "      <th>12337</th>\n",
       "      <td>-1.613974</td>\n",
       "      <td>0.998325</td>\n",
       "      <td>-0.340144</td>\n",
       "    </tr>\n",
       "    <tr>\n",
       "      <th>9307</th>\n",
       "      <td>-1.399742</td>\n",
       "      <td>0.822198</td>\n",
       "      <td>0.840438</td>\n",
       "    </tr>\n",
       "    <tr>\n",
       "      <th>79863</th>\n",
       "      <td>0.501631</td>\n",
       "      <td>-0.089375</td>\n",
       "      <td>0.231547</td>\n",
       "    </tr>\n",
       "  </tbody>\n",
       "</table>\n",
       "</div>"
      ],
      "text/plain": [
       "             f0        f1        f2\n",
       "39682  0.769305 -1.412592 -1.787834\n",
       "87490 -1.464535  0.998119  0.084362\n",
       "12337 -1.613974  0.998325 -0.340144\n",
       "9307  -1.399742  0.822198  0.840438\n",
       "79863  0.501631 -0.089375  0.231547"
      ]
     },
     "execution_count": 19,
     "metadata": {},
     "output_type": "execute_result"
    }
   ],
   "source": [
    "# получение обучающей и валидационной выборки geo_data_0\n",
    "features_train_0, features_valid_0, target_train_0, target_valid_0 = test_split(geo_data_0, 'product')\n",
    "features_train_0.head()"
   ]
  },
  {
   "cell_type": "code",
   "execution_count": 20,
   "metadata": {
    "scrolled": true
   },
   "outputs": [
    {
     "name": "stdout",
     "output_type": "stream",
     "text": [
      "Объектов обучающей выборки 75000\n",
      "Объектов валидационной выборки 25000\n"
     ]
    },
    {
     "data": {
      "text/html": [
       "<div>\n",
       "<style scoped>\n",
       "    .dataframe tbody tr th:only-of-type {\n",
       "        vertical-align: middle;\n",
       "    }\n",
       "\n",
       "    .dataframe tbody tr th {\n",
       "        vertical-align: top;\n",
       "    }\n",
       "\n",
       "    .dataframe thead th {\n",
       "        text-align: right;\n",
       "    }\n",
       "</style>\n",
       "<table border=\"1\" class=\"dataframe\">\n",
       "  <thead>\n",
       "    <tr style=\"text-align: right;\">\n",
       "      <th></th>\n",
       "      <th>f0</th>\n",
       "      <th>f1</th>\n",
       "      <th>f2</th>\n",
       "    </tr>\n",
       "  </thead>\n",
       "  <tbody>\n",
       "    <tr>\n",
       "      <th>39682</th>\n",
       "      <td>1.133257</td>\n",
       "      <td>0.344924</td>\n",
       "      <td>-0.293558</td>\n",
       "    </tr>\n",
       "    <tr>\n",
       "      <th>87490</th>\n",
       "      <td>0.662928</td>\n",
       "      <td>-1.218405</td>\n",
       "      <td>-0.880318</td>\n",
       "    </tr>\n",
       "    <tr>\n",
       "      <th>12337</th>\n",
       "      <td>1.013283</td>\n",
       "      <td>-0.572276</td>\n",
       "      <td>0.889062</td>\n",
       "    </tr>\n",
       "    <tr>\n",
       "      <th>9307</th>\n",
       "      <td>1.295637</td>\n",
       "      <td>-0.336660</td>\n",
       "      <td>-0.290278</td>\n",
       "    </tr>\n",
       "    <tr>\n",
       "      <th>79863</th>\n",
       "      <td>-0.774638</td>\n",
       "      <td>0.626531</td>\n",
       "      <td>0.291585</td>\n",
       "    </tr>\n",
       "  </tbody>\n",
       "</table>\n",
       "</div>"
      ],
      "text/plain": [
       "             f0        f1        f2\n",
       "39682  1.133257  0.344924 -0.293558\n",
       "87490  0.662928 -1.218405 -0.880318\n",
       "12337  1.013283 -0.572276  0.889062\n",
       "9307   1.295637 -0.336660 -0.290278\n",
       "79863 -0.774638  0.626531  0.291585"
      ]
     },
     "execution_count": 20,
     "metadata": {},
     "output_type": "execute_result"
    }
   ],
   "source": [
    "# получение обучающей и валидационной выборки geo_data_1\n",
    "features_train_1, features_valid_1, target_train_1, target_valid_1 = test_split(geo_data_1, 'product')\n",
    "features_train_1.head()"
   ]
  },
  {
   "cell_type": "code",
   "execution_count": 21,
   "metadata": {
    "scrolled": true
   },
   "outputs": [
    {
     "name": "stdout",
     "output_type": "stream",
     "text": [
      "Объектов обучающей выборки 75000\n",
      "Объектов валидационной выборки 25000\n"
     ]
    },
    {
     "data": {
      "text/html": [
       "<div>\n",
       "<style scoped>\n",
       "    .dataframe tbody tr th:only-of-type {\n",
       "        vertical-align: middle;\n",
       "    }\n",
       "\n",
       "    .dataframe tbody tr th {\n",
       "        vertical-align: top;\n",
       "    }\n",
       "\n",
       "    .dataframe thead th {\n",
       "        text-align: right;\n",
       "    }\n",
       "</style>\n",
       "<table border=\"1\" class=\"dataframe\">\n",
       "  <thead>\n",
       "    <tr style=\"text-align: right;\">\n",
       "      <th></th>\n",
       "      <th>f0</th>\n",
       "      <th>f1</th>\n",
       "      <th>f2</th>\n",
       "    </tr>\n",
       "  </thead>\n",
       "  <tbody>\n",
       "    <tr>\n",
       "      <th>39682</th>\n",
       "      <td>-1.037200</td>\n",
       "      <td>0.345573</td>\n",
       "      <td>-1.759890</td>\n",
       "    </tr>\n",
       "    <tr>\n",
       "      <th>87490</th>\n",
       "      <td>0.106117</td>\n",
       "      <td>0.305196</td>\n",
       "      <td>1.887385</td>\n",
       "    </tr>\n",
       "    <tr>\n",
       "      <th>12337</th>\n",
       "      <td>0.496556</td>\n",
       "      <td>0.039489</td>\n",
       "      <td>2.124963</td>\n",
       "    </tr>\n",
       "    <tr>\n",
       "      <th>9307</th>\n",
       "      <td>-1.265815</td>\n",
       "      <td>-0.007693</td>\n",
       "      <td>-0.852643</td>\n",
       "    </tr>\n",
       "    <tr>\n",
       "      <th>79863</th>\n",
       "      <td>-0.260670</td>\n",
       "      <td>0.972462</td>\n",
       "      <td>0.085269</td>\n",
       "    </tr>\n",
       "  </tbody>\n",
       "</table>\n",
       "</div>"
      ],
      "text/plain": [
       "             f0        f1        f2\n",
       "39682 -1.037200  0.345573 -1.759890\n",
       "87490  0.106117  0.305196  1.887385\n",
       "12337  0.496556  0.039489  2.124963\n",
       "9307  -1.265815 -0.007693 -0.852643\n",
       "79863 -0.260670  0.972462  0.085269"
      ]
     },
     "execution_count": 21,
     "metadata": {},
     "output_type": "execute_result"
    }
   ],
   "source": [
    "# получение обучающей и валидационной выборки geo_data_2\n",
    "features_train_2, features_valid_2, target_train_2, target_valid_2 = test_split(geo_data_2, 'product')\n",
    "features_train_2.head()"
   ]
  },
  {
   "cell_type": "markdown",
   "metadata": {},
   "source": [
    "<div style=\"border:solid blue 2px; padding: 20px\">\n",
    "    \n",
    " \n",
    "Исследуем качество на модели — линейная регрессия.\n",
    "\n",
    "    \n",
    "    \n",
    "</div> "
   ]
  },
  {
   "cell_type": "code",
   "execution_count": 22,
   "metadata": {},
   "outputs": [
    {
     "name": "stdout",
     "output_type": "stream",
     "text": [
      "Средний запас предсказанного сырья: 92.43045952558441\n",
      "RMSE модели линейной регрессии на валидационной выборке: 37.562394183637785\n"
     ]
    }
   ],
   "source": [
    "model_0 = LinearRegression() # инициализируем модель\n",
    "model_0.fit(features_train_0, target_train_0) # обучение модели\n",
    "predictions_valid_0 = model_0.predict(features_valid_0)\n",
    "print('Средний запас предсказанного сырья:', predictions_valid_0.mean())\n",
    "print('RMSE модели линейной регрессии на валидационной выборке:', mean_squared_error(target_valid_0, predictions_valid_0)**0.5)"
   ]
  },
  {
   "cell_type": "code",
   "execution_count": 23,
   "metadata": {},
   "outputs": [
    {
     "data": {
      "text/html": [
       "<div>\n",
       "<style scoped>\n",
       "    .dataframe tbody tr th:only-of-type {\n",
       "        vertical-align: middle;\n",
       "    }\n",
       "\n",
       "    .dataframe tbody tr th {\n",
       "        vertical-align: top;\n",
       "    }\n",
       "\n",
       "    .dataframe thead th {\n",
       "        text-align: right;\n",
       "    }\n",
       "</style>\n",
       "<table border=\"1\" class=\"dataframe\">\n",
       "  <thead>\n",
       "    <tr style=\"text-align: right;\">\n",
       "      <th></th>\n",
       "      <th>target_geo_data_0</th>\n",
       "      <th>predictions_geo_data_0</th>\n",
       "    </tr>\n",
       "  </thead>\n",
       "  <tbody>\n",
       "    <tr>\n",
       "      <th>83731</th>\n",
       "      <td>63.150599</td>\n",
       "      <td>88.759477</td>\n",
       "    </tr>\n",
       "    <tr>\n",
       "      <th>92724</th>\n",
       "      <td>85.534132</td>\n",
       "      <td>84.454483</td>\n",
       "    </tr>\n",
       "    <tr>\n",
       "      <th>13486</th>\n",
       "      <td>22.580105</td>\n",
       "      <td>73.167566</td>\n",
       "    </tr>\n",
       "    <tr>\n",
       "      <th>82787</th>\n",
       "      <td>137.844560</td>\n",
       "      <td>113.291473</td>\n",
       "    </tr>\n",
       "    <tr>\n",
       "      <th>25644</th>\n",
       "      <td>153.949383</td>\n",
       "      <td>111.627029</td>\n",
       "    </tr>\n",
       "  </tbody>\n",
       "</table>\n",
       "</div>"
      ],
      "text/plain": [
       "       target_geo_data_0  predictions_geo_data_0\n",
       "83731          63.150599               88.759477\n",
       "92724          85.534132               84.454483\n",
       "13486          22.580105               73.167566\n",
       "82787         137.844560              113.291473\n",
       "25644         153.949383              111.627029"
      ]
     },
     "execution_count": 23,
     "metadata": {},
     "output_type": "execute_result"
    }
   ],
   "source": [
    "# сохранение предсказаний и правильных ответов на валидационной выборке\n",
    "df_0 = {'target_geo_data_0' : target_valid_0, 'predictions_geo_data_0' : pd.Series(predictions_valid_0, index=target_valid_0.index)}\n",
    "df_valid_0 = pd.DataFrame(df_0, columns = ['target_geo_data_0', 'predictions_geo_data_0'])\n",
    "df_valid_0.sample(5)"
   ]
  },
  {
   "cell_type": "markdown",
   "metadata": {},
   "source": [
    "<div style=\"border:solid blue 2px; padding: 20px\">\n",
    "    \n",
    "    \n",
    "`92.4304` Средний запас предсказанного сырья для региона `geo_data_0`\n",
    "    \n",
    "`37.5623` RMSE на модели — линейной регрессии с масштабированнием признаков\n",
    "\n",
    "    \n",
    "    \n",
    "</div> "
   ]
  },
  {
   "cell_type": "code",
   "execution_count": 24,
   "metadata": {},
   "outputs": [
    {
     "name": "stdout",
     "output_type": "stream",
     "text": [
      "Средний запас предсказанного сырья: 68.80248249798365\n",
      "RMSE модели линейной регрессии на валидационной выборке: 0.8939344738117703\n"
     ]
    }
   ],
   "source": [
    "model_1 = LinearRegression() # инициализируем модель\n",
    "model_1.fit(features_train_1, target_train_1) # обучение модели\n",
    "predictions_valid_1 = model_1.predict(features_valid_1)\n",
    "print('Средний запас предсказанного сырья:', predictions_valid_1.mean())\n",
    "print('RMSE модели линейной регрессии на валидационной выборке:', mean_squared_error(target_valid_1, predictions_valid_1)**0.5)"
   ]
  },
  {
   "cell_type": "code",
   "execution_count": 25,
   "metadata": {},
   "outputs": [
    {
     "data": {
      "text/html": [
       "<div>\n",
       "<style scoped>\n",
       "    .dataframe tbody tr th:only-of-type {\n",
       "        vertical-align: middle;\n",
       "    }\n",
       "\n",
       "    .dataframe tbody tr th {\n",
       "        vertical-align: top;\n",
       "    }\n",
       "\n",
       "    .dataframe thead th {\n",
       "        text-align: right;\n",
       "    }\n",
       "</style>\n",
       "<table border=\"1\" class=\"dataframe\">\n",
       "  <thead>\n",
       "    <tr style=\"text-align: right;\">\n",
       "      <th></th>\n",
       "      <th>target_geo_data_1</th>\n",
       "      <th>predictions_geo_data_1</th>\n",
       "    </tr>\n",
       "  </thead>\n",
       "  <tbody>\n",
       "    <tr>\n",
       "      <th>21548</th>\n",
       "      <td>57.085625</td>\n",
       "      <td>56.350678</td>\n",
       "    </tr>\n",
       "    <tr>\n",
       "      <th>67159</th>\n",
       "      <td>107.813044</td>\n",
       "      <td>108.630265</td>\n",
       "    </tr>\n",
       "    <tr>\n",
       "      <th>8184</th>\n",
       "      <td>0.000000</td>\n",
       "      <td>0.684735</td>\n",
       "    </tr>\n",
       "    <tr>\n",
       "      <th>5011</th>\n",
       "      <td>80.859783</td>\n",
       "      <td>81.289707</td>\n",
       "    </tr>\n",
       "    <tr>\n",
       "      <th>5093</th>\n",
       "      <td>134.766305</td>\n",
       "      <td>135.797899</td>\n",
       "    </tr>\n",
       "  </tbody>\n",
       "</table>\n",
       "</div>"
      ],
      "text/plain": [
       "       target_geo_data_1  predictions_geo_data_1\n",
       "21548          57.085625               56.350678\n",
       "67159         107.813044              108.630265\n",
       "8184            0.000000                0.684735\n",
       "5011           80.859783               81.289707\n",
       "5093          134.766305              135.797899"
      ]
     },
     "execution_count": 25,
     "metadata": {},
     "output_type": "execute_result"
    }
   ],
   "source": [
    "# сохранение предсказаний и правильных ответов на валидационной выборке\n",
    "df_1 = {'target_geo_data_1' : target_valid_1, 'predictions_geo_data_1' : pd.Series(predictions_valid_1, index=target_valid_1.index)}\n",
    "df_valid_1 = pd.DataFrame(df_1, columns = ['target_geo_data_1', 'predictions_geo_data_1'])\n",
    "df_valid_1.sample(5)"
   ]
  },
  {
   "cell_type": "markdown",
   "metadata": {},
   "source": [
    "<div style=\"border:solid blue 2px; padding: 20px\">\n",
    "    \n",
    "    \n",
    "`68.8024` Средний запас предсказанного сырья для региона `geo_data_1`\n",
    "    \n",
    "`0.8939` RMSE на модели — линейной регрессии с масштабированнием признаков\n",
    "\n",
    "    \n",
    "    \n",
    "</div> "
   ]
  },
  {
   "cell_type": "code",
   "execution_count": 26,
   "metadata": {
    "scrolled": true
   },
   "outputs": [
    {
     "name": "stdout",
     "output_type": "stream",
     "text": [
      "Средний запас предсказанного сырья: 94.91573817913459\n",
      "RMSE модели линейной регрессии на валидационной выборке: 40.10318099258418\n"
     ]
    }
   ],
   "source": [
    "model_2 = LinearRegression() # инициализируем модель\n",
    "model_2.fit(features_train_2, target_train_2) # обучение модели\n",
    "predictions_valid_2 = model_2.predict(features_valid_2)\n",
    "print('Средний запас предсказанного сырья:', predictions_valid_2.mean())\n",
    "print('RMSE модели линейной регрессии на валидационной выборке:', mean_squared_error(target_valid_2, predictions_valid_2)**0.5)"
   ]
  },
  {
   "cell_type": "code",
   "execution_count": 27,
   "metadata": {},
   "outputs": [
    {
     "data": {
      "text/html": [
       "<div>\n",
       "<style scoped>\n",
       "    .dataframe tbody tr th:only-of-type {\n",
       "        vertical-align: middle;\n",
       "    }\n",
       "\n",
       "    .dataframe tbody tr th {\n",
       "        vertical-align: top;\n",
       "    }\n",
       "\n",
       "    .dataframe thead th {\n",
       "        text-align: right;\n",
       "    }\n",
       "</style>\n",
       "<table border=\"1\" class=\"dataframe\">\n",
       "  <thead>\n",
       "    <tr style=\"text-align: right;\">\n",
       "      <th></th>\n",
       "      <th>target_geo_data_2</th>\n",
       "      <th>predictions_geo_data_2</th>\n",
       "    </tr>\n",
       "  </thead>\n",
       "  <tbody>\n",
       "    <tr>\n",
       "      <th>39107</th>\n",
       "      <td>124.994027</td>\n",
       "      <td>63.932149</td>\n",
       "    </tr>\n",
       "    <tr>\n",
       "      <th>27996</th>\n",
       "      <td>78.687491</td>\n",
       "      <td>105.298649</td>\n",
       "    </tr>\n",
       "    <tr>\n",
       "      <th>70284</th>\n",
       "      <td>81.526269</td>\n",
       "      <td>100.886030</td>\n",
       "    </tr>\n",
       "    <tr>\n",
       "      <th>53443</th>\n",
       "      <td>142.957230</td>\n",
       "      <td>74.175687</td>\n",
       "    </tr>\n",
       "    <tr>\n",
       "      <th>65710</th>\n",
       "      <td>102.583322</td>\n",
       "      <td>117.034213</td>\n",
       "    </tr>\n",
       "  </tbody>\n",
       "</table>\n",
       "</div>"
      ],
      "text/plain": [
       "       target_geo_data_2  predictions_geo_data_2\n",
       "39107         124.994027               63.932149\n",
       "27996          78.687491              105.298649\n",
       "70284          81.526269              100.886030\n",
       "53443         142.957230               74.175687\n",
       "65710         102.583322              117.034213"
      ]
     },
     "execution_count": 27,
     "metadata": {},
     "output_type": "execute_result"
    }
   ],
   "source": [
    "# сохранение предсказаний и правильных ответов на валидационной выборке\n",
    "df_2 = {'target_geo_data_2' : target_valid_2, 'predictions_geo_data_2' : pd.Series(predictions_valid_2, index=target_valid_2.index)}\n",
    "df_valid_2 = pd.DataFrame(df_2, columns = ['target_geo_data_2', 'predictions_geo_data_2'])\n",
    "df_valid_2.sample(5)"
   ]
  },
  {
   "cell_type": "markdown",
   "metadata": {},
   "source": [
    "<div style=\"border:solid blue 2px; padding: 20px\">\n",
    "    \n",
    "    \n",
    "`94.9157` Средний запас предсказанного сырья для региона `geo_data_2`\n",
    "    \n",
    "`40.1031` RMSE на модели — линейной регрессии с масштабированнием признаков\n",
    "\n",
    "    \n",
    "    \n",
    "</div> "
   ]
  },
  {
   "cell_type": "markdown",
   "metadata": {},
   "source": [
    "<div style=\"border:solid blue 2px; padding: 20px\">\n",
    "\n",
    "### Вывод\n",
    "\n",
    "\n",
    "    \n",
    "    \n",
    "</div> "
   ]
  },
  {
   "cell_type": "markdown",
   "metadata": {},
   "source": [
    "<div style=\"border:solid blue 2px; padding: 20px\">\n",
    "    \n",
    "    \n",
    "    \n",
    "Для региона `geo_data_1` получили наименьший средний запас предсказанного сырья.\n",
    "    \n",
    "Регионы `geo_data_0` и `geo_data_2` показали наибольший средний запас предсказанного сырья.\n",
    "\n",
    "    \n",
    "    \n",
    "</div> "
   ]
  },
  {
   "cell_type": "markdown",
   "metadata": {},
   "source": [
    "## Подготовка к расчёту прибыли"
   ]
  },
  {
   "cell_type": "markdown",
   "metadata": {},
   "source": [
    "<div style=\"border:solid blue 2px; padding: 20px\">\n",
    "    \n",
    "    \n",
    "Все ключевые значения для расчётов сохраним в отдельных переменных\n",
    "\n",
    "    \n",
    "    \n",
    "</div> "
   ]
  },
  {
   "cell_type": "markdown",
   "metadata": {},
   "source": [
    "<div style=\"border:solid blue 2px; padding: 20px\">\n",
    "    \n",
    "    \n",
    "По условию задачи\n",
    "    \n",
    "`product` объём запасов, тыс. баррелей\n",
    "    \n",
    "`points` 500\n",
    "    \n",
    "`best_points` 200    \n",
    "\n",
    "`budget` 10000000 тыс. рублей\n",
    "    \n",
    "`price_per_product` 450 тыс. рублей\n",
    "\n",
    "    \n",
    "    \n",
    "</div> "
   ]
  },
  {
   "cell_type": "code",
   "execution_count": 28,
   "metadata": {},
   "outputs": [],
   "source": [
    "# сохранение переменных\n",
    "points = 500\n",
    "best_points = 200\n",
    "budget = 10000000\n",
    "price_per_product = 450"
   ]
  },
  {
   "cell_type": "markdown",
   "metadata": {},
   "source": [
    "<div style=\"border:solid blue 2px; padding: 20px\">\n",
    "    \n",
    "    \n",
    "Рассчитаем достаточный объём сырья для безубыточной разработки новой скважины\n",
    "\n",
    "    \n",
    "    \n",
    "</div> "
   ]
  },
  {
   "cell_type": "code",
   "execution_count": 29,
   "metadata": {},
   "outputs": [
    {
     "name": "stdout",
     "output_type": "stream",
     "text": [
      "Минимальный средний объем нефти на регион: 22222.22 тыс. барелей\n"
     ]
    }
   ],
   "source": [
    "# расчёт объём сырья для разработки в регионе в рамках бюджета\n",
    "product_per_geo_data = budget / price_per_product\n",
    "print('Минимальный средний объем нефти на регион:',round(product_per_geo_data, 2), 'тыс. барелей')"
   ]
  },
  {
   "cell_type": "code",
   "execution_count": 30,
   "metadata": {},
   "outputs": [
    {
     "name": "stdout",
     "output_type": "stream",
     "text": [
      "Минимальный средний объем нефти на точку: 111.11 тыс. барелей\n"
     ]
    }
   ],
   "source": [
    "# расчёт объём сырья для безубыточной разработки новой скважины\n",
    "product_per_best_points = product_per_geo_data/best_points\n",
    "print('Минимальный средний объем нефти на точку:',round(product_per_best_points, 2), 'тыс. барелей')"
   ]
  },
  {
   "cell_type": "code",
   "execution_count": 31,
   "metadata": {},
   "outputs": [
    {
     "name": "stdout",
     "output_type": "stream",
     "text": [
      "Средний запас сырья регионе \"geo_data_0\" на скважину: 92.5 тыс. барелей\n",
      "Средний запас сырья регионе \"geo_data_1\" на скважину: 68.83 тыс. барелей\n",
      "Средний запас сырья регионе \"geo_data_2\" на скважину: 95.0 тыс. барелей\n"
     ]
    }
   ],
   "source": [
    "# расчёт среднего объёма запаса сырья в каждом регионе на скважину\n",
    "print('Средний запас сырья регионе \"geo_data_0\" на скважину:', round(geo_data_0['product'].mean(), 2), 'тыс. барелей')\n",
    "print('Средний запас сырья регионе \"geo_data_1\" на скважину:', round(geo_data_1['product'].mean(), 2), 'тыс. барелей')\n",
    "print('Средний запас сырья регионе \"geo_data_2\" на скважину:', round(geo_data_2['product'].mean(), 2), 'тыс. барелей')"
   ]
  },
  {
   "cell_type": "markdown",
   "metadata": {},
   "source": [
    "<div style=\"border:solid blue 2px; padding: 20px\">\n",
    "\n",
    "### Вывод\n",
    "\n",
    "\n",
    "    \n",
    "    \n",
    "</div> "
   ]
  },
  {
   "cell_type": "markdown",
   "metadata": {},
   "source": [
    "<div style=\"border:solid blue 2px; padding: 20px\">\n",
    "    \n",
    "    \n",
    "По условию задачи достаточный объём сырья для безубыточной разработки новой скважины\n",
    "    \n",
    "составляет `111.11 тыс. барелей`\n",
    "    \n",
    "К данному значению самый близкий регион \n",
    "    \n",
    "со средним запасом сырья регионе `geo_data_2` на скважину: `95.0 тыс. барелей`\n",
    "    \n",
    "Следующим является регион \n",
    "    \n",
    "со средним запасом сырья регионе `geo_data_0` на скважину: `92.5 тыс. барелей`\n",
    "    \n",
    "И последним является регион \n",
    "    \n",
    "со средним запасом сырья регионе `geo_data_1` на скважину: `68.83 тыс. барелей`\n",
    "    \n",
    "Исходя из описания данных и презентации результатов анализа\n",
    "    \n",
    "во всех регионах возможно выбрать скважины с самыми высокими значениями, \n",
    "\n",
    "подходящими для безубыточной разработки.    \n",
    "    \n",
    "</div> "
   ]
  },
  {
   "cell_type": "markdown",
   "metadata": {},
   "source": [
    "<div style=\"border:solid blue 2px; padding: 20px\">\n",
    "    \n",
    " \n",
    "Создадим функцию `profit_calculation()` c параметрами `target` `probabilities` `count`, в теле функции \n",
    "\n",
    "выберим скважины с максимальными значениями предсказаний\n",
    "    \n",
    "просуммируем целевое значение объёма сырья, соответствующее этим предсказаниям\n",
    "    \n",
    "рассчитаем прибыль для полученного объёма сырья\n",
    "    \n",
    "</div> "
   ]
  },
  {
   "cell_type": "code",
   "execution_count": 32,
   "metadata": {},
   "outputs": [
    {
     "name": "stdout",
     "output_type": "stream",
     "text": [
      "Прибыль для полученного объёма сырья региона \"geo_data_0\" на 200 скважин: 3424026.3202475384\n",
      "Прибыль для полученного объёма сырья региона \"geo_data_1\" на 200 скважин: 2415086.6966815125\n",
      "Прибыль для полученного объёма сырья региона \"geo_data_2\" на 200 скважин: 2554955.424433958\n"
     ]
    }
   ],
   "source": [
    "# функция рассчёта прибыли\n",
    "def profit_calculation(target, probabilities, count):\n",
    "    probabilities = pd.Series(probabilities, index=target.index)\n",
    "    probs_sorted = probabilities.sort_values(ascending=False)\n",
    "    selected = target[probs_sorted.index][:count]\n",
    "    return price_per_product * selected.sum() - budget\n",
    "print('Прибыль для полученного объёма сырья региона \"geo_data_0\" на 200 скважин:', profit_calculation(target_valid_0, predictions_valid_0, 200))\n",
    "print('Прибыль для полученного объёма сырья региона \"geo_data_1\" на 200 скважин:', profit_calculation(target_valid_1, predictions_valid_1, 200))\n",
    "print('Прибыль для полученного объёма сырья региона \"geo_data_2\" на 200 скважин:', profit_calculation(target_valid_2, predictions_valid_2, 200))"
   ]
  },
  {
   "cell_type": "markdown",
   "metadata": {},
   "source": [
    "## Расчёт прибыли и рисков "
   ]
  },
  {
   "cell_type": "markdown",
   "metadata": {},
   "source": [
    "<div style=\"border:solid blue 2px; padding: 20px\">\n",
    "    \n",
    "`bootstrap()` применим технику с 1000 выборок, чтобы найти распределение прибыли\n",
    "    </div>"
   ]
  },
  {
   "cell_type": "markdown",
   "metadata": {},
   "source": [
    "<div style=\"border:solid blue 2px; padding: 20px\">\n",
    "    \n",
    "    \n",
    "- Найдем среднюю прибыль `mean()`\n",
    "    \n",
    "- `95%-й`  доверительный интервал\n",
    "    \n",
    "- риск убытков, когда `profit_calculation()` отрицательная\n",
    "    \n",
    "    </div>"
   ]
  },
  {
   "cell_type": "markdown",
   "metadata": {},
   "source": [
    "<div style=\"border:solid blue 2px; padding: 20px\">\n",
    "    \n",
    "`RandomState()` создадим объект из модуля `numpy.random` и \n",
    "    \n",
    "при каждом новом вызове его состояние будет меняться на случайное, так получаем разные подвыборки\n",
    "    </div>"
   ]
  },
  {
   "cell_type": "code",
   "execution_count": 33,
   "metadata": {},
   "outputs": [],
   "source": [
    "# указываем state для воспроизводимости\n",
    "state = np.random.RandomState(1234)"
   ]
  },
  {
   "cell_type": "markdown",
   "metadata": {},
   "source": [
    "<div style=\"border:solid blue 2px; padding: 20px\">\n",
    "    \n",
    "Условие задачи: оставить регионы соответствующие условию\n",
    "    \n",
    "- вероятность убытков `< 2.5% `\n",
    "                           \n",
    "- из них выбрать с наибольшей прибыльностью\n",
    "                             \n",
    "    </div>"
   ]
  },
  {
   "cell_type": "code",
   "execution_count": 34,
   "metadata": {},
   "outputs": [],
   "source": [
    "def bootstrap_1000(target, probabilities):\n",
    "    values=[]\n",
    "    loss = 0\n",
    "    for i in range(1000):\n",
    "        target_subsample = target.sample(n=points, random_state=state, replace=True)\n",
    "        probs_subsample = probabilities[target_subsample.index]\n",
    "        profit = profit_calculation(target_subsample, probs_subsample, best_points)\n",
    "        values.append(profit)\n",
    "        if profit < 0:\n",
    "            loss +=1\n",
    "    values = pd.Series(values)\n",
    "    lower = values.quantile(0.025)\n",
    "    upper = values.quantile(0.975)\n",
    "    mean = values.mean()\n",
    "    risk = loss / 1000\n",
    "    return mean, lower, upper, risk"
   ]
  },
  {
   "cell_type": "code",
   "execution_count": 35,
   "metadata": {},
   "outputs": [
    {
     "name": "stdout",
     "output_type": "stream",
     "text": [
      "Данные по первому региону.\n",
      "Средняя прибыль по региону = 408945.00 тыс.руб.\n",
      "95% доверительный интервал от -116359.76 до 961049.51 тыс.руб.\n",
      "Процент риска 6.20%\n"
     ]
    }
   ],
   "source": [
    "mean_geo_data_0, lower_geo_data_0, upper_geo_data_0, risk_geo_data_0 = bootstrap_1000(df_valid_0['target_geo_data_0'], df_valid_0['predictions_geo_data_0'])\n",
    "print('Данные по первому региону.')\n",
    "print('Средняя прибыль по региону = {:.2f} тыс.руб.'.format(mean_geo_data_0))\n",
    "print('95% доверительный интервал от {:.2f} до {:.2f} тыс.руб.'.format(lower_geo_data_0, upper_geo_data_0))\n",
    "print('Процент риска {:.2%}'.format(risk_geo_data_0))"
   ]
  },
  {
   "cell_type": "code",
   "execution_count": 36,
   "metadata": {},
   "outputs": [
    {
     "name": "stdout",
     "output_type": "stream",
     "text": [
      "Данные по первому региону.\n",
      "Средняя прибыль по региону = 487659.29 тыс.руб.\n",
      "95% доверительный интервал от 82432.79 до 900138.23 тыс.руб.\n",
      "Процент риска 1.00%\n"
     ]
    }
   ],
   "source": [
    "mean_geo_data_1, lower_geo_data_1, upper_geo_data_1, risk_geo_data_1 = bootstrap_1000(df_valid_1['target_geo_data_1'], df_valid_1['predictions_geo_data_1'])\n",
    "print('Данные по первому региону.')\n",
    "print('Средняя прибыль по региону = {:.2f} тыс.руб.'.format(mean_geo_data_1))\n",
    "print('95% доверительный интервал от {:.2f} до {:.2f} тыс.руб.'.format(lower_geo_data_1, upper_geo_data_1))\n",
    "print('Процент риска {:.2%}'.format(risk_geo_data_1))"
   ]
  },
  {
   "cell_type": "code",
   "execution_count": 37,
   "metadata": {},
   "outputs": [
    {
     "name": "stdout",
     "output_type": "stream",
     "text": [
      "Данные по первому региону.\n",
      "Средняя прибыль по региону = 373761.09 тыс.руб.\n",
      "95% доверительный интервал от -181422.18 до 890927.92 тыс.руб.\n",
      "Процент риска 9.50%\n"
     ]
    }
   ],
   "source": [
    "mean_geo_data_2, lower_geo_data_2, upper_geo_data_2, risk_geo_data_2 = bootstrap_1000(df_valid_2['target_geo_data_2'], df_valid_2['predictions_geo_data_2'])\n",
    "print('Данные по первому региону.')\n",
    "print('Средняя прибыль по региону = {:.2f} тыс.руб.'.format(mean_geo_data_2))\n",
    "print('95% доверительный интервал от {:.2f} до {:.2f} тыс.руб.'.format(lower_geo_data_2, upper_geo_data_2))\n",
    "print('Процент риска {:.2%}'.format(risk_geo_data_2))"
   ]
  },
  {
   "cell_type": "markdown",
   "metadata": {},
   "source": [
    "<div style=\"border:solid blue 2px; padding: 20px\">\n",
    "\n",
    "### Вывод\n",
    "\n",
    "\n",
    "    \n",
    "    \n",
    "</div> "
   ]
  },
  {
   "cell_type": "markdown",
   "metadata": {},
   "source": [
    "<div style=\"border:solid blue 2px; padding: 20px\">\n",
    "    \n",
    "    \n",
    "    \n",
    "По условию задачи оставить регионы соответствующие условию\n",
    "    \n",
    "- вероятность убытков `< 2.5% `\n",
    "                           \n",
    "- из них выбрать с наибольшей прибыльностью\n",
    "    \n",
    "Данные по регионам `geo_data_0` и `geo_data_2` не соответсвуют этому условию\n",
    "                             \n",
    "Предположительно `geo_data_1` регион подходит для разработки месторождения                        \n",
    "                             \n",
    "    \n",
    "</div> "
   ]
  },
  {
   "cell_type": "markdown",
   "metadata": {},
   "source": [
    "<div style=\"border:solid blue 2px; padding: 20px\">\n",
    "\n",
    "## Итоговый Вывод\n",
    "\n",
    "\n",
    "    \n",
    "    \n",
    "</div> "
   ]
  },
  {
   "cell_type": "markdown",
   "metadata": {},
   "source": [
    "<div style=\"border:solid blue 2px; padding: 20px\">\n",
    "    \n",
    "    \n",
    "Так где же бурить новую скважину???\n",
    "    \n",
    "Пройдя по шагам для выбора локации, постоили модель линейной регрессии для определения региона,\n",
    "    \n",
    "где принесёт нибольшую прибыль.\n",
    "    \n",
    "Техникой `Bootstrap` проанализировали возможную прибыль и риски\n",
    "    \n",
    "Принимая во внимание условие поставленной задачи, \n",
    "    \n",
    "что бюджет на разработку скважин в регионе составляет — 10 млрд рублей\n",
    "    \n",
    "с вероятность убытков меньше `2.5%`\n",
    "    \n",
    "можно рекомедовать для дальнейших геолого-поисковых работ регион `geo_data_1`:\n",
    "    \n",
    "- провести сейсморазведки и обработать для интерпретации сейсмические данные\n",
    "    \n",
    "- сформировать геолого-геофизическую модель месторождений\n",
    "    \n",
    "- близость открытых месторождений к действующей инфраструктуре позволит вводить новые запасы в разработку в кратчайшие сроки\n",
    "\n",
    "    \n",
    "    \n",
    "    \n",
    "    \n",
    "    \n",
    "</div> "
   ]
  }
 ],
 "metadata": {
  "ExecuteTimeLog": [
   {
    "duration": 1108,
    "start_time": "2022-02-21T05:14:57.947Z"
   },
   {
    "duration": 575,
    "start_time": "2022-02-21T05:51:38.223Z"
   },
   {
    "duration": 11,
    "start_time": "2022-02-21T05:56:36.535Z"
   },
   {
    "duration": 8,
    "start_time": "2022-02-21T05:57:04.745Z"
   },
   {
    "duration": 8,
    "start_time": "2022-02-21T05:57:06.547Z"
   },
   {
    "duration": 8,
    "start_time": "2022-02-21T05:57:08.075Z"
   },
   {
    "duration": 10,
    "start_time": "2022-02-21T06:05:16.806Z"
   },
   {
    "duration": 9,
    "start_time": "2022-02-21T06:05:19.954Z"
   },
   {
    "duration": 10,
    "start_time": "2022-02-21T06:05:21.977Z"
   },
   {
    "duration": 37,
    "start_time": "2022-02-21T06:07:01.106Z"
   },
   {
    "duration": 34,
    "start_time": "2022-02-21T06:07:03.279Z"
   },
   {
    "duration": 31,
    "start_time": "2022-02-21T06:07:05.517Z"
   },
   {
    "duration": 576,
    "start_time": "2022-02-21T06:25:35.944Z"
   },
   {
    "duration": 18635,
    "start_time": "2022-02-21T06:28:28.819Z"
   },
   {
    "duration": 1758,
    "start_time": "2022-02-21T06:29:05.652Z"
   },
   {
    "duration": 448,
    "start_time": "2022-02-21T06:29:07.412Z"
   },
   {
    "duration": 12,
    "start_time": "2022-02-21T06:29:07.862Z"
   },
   {
    "duration": 9,
    "start_time": "2022-02-21T06:29:07.876Z"
   },
   {
    "duration": 11,
    "start_time": "2022-02-21T06:29:07.886Z"
   },
   {
    "duration": 15,
    "start_time": "2022-02-21T06:29:07.898Z"
   },
   {
    "duration": 33,
    "start_time": "2022-02-21T06:29:07.915Z"
   },
   {
    "duration": 10,
    "start_time": "2022-02-21T06:29:07.950Z"
   },
   {
    "duration": 32,
    "start_time": "2022-02-21T06:29:07.962Z"
   },
   {
    "duration": 29,
    "start_time": "2022-02-21T06:29:07.995Z"
   },
   {
    "duration": 28,
    "start_time": "2022-02-21T06:29:08.046Z"
   },
   {
    "duration": 2,
    "start_time": "2022-02-21T06:29:08.076Z"
   },
   {
    "duration": 1210,
    "start_time": "2022-02-21T06:29:08.079Z"
   },
   {
    "duration": 716,
    "start_time": "2022-02-21T06:29:18.759Z"
   },
   {
    "duration": 1105,
    "start_time": "2022-02-22T18:41:44.835Z"
   },
   {
    "duration": 7549,
    "start_time": "2022-02-22T18:41:45.942Z"
   },
   {
    "duration": 10,
    "start_time": "2022-02-22T18:41:53.493Z"
   },
   {
    "duration": 9,
    "start_time": "2022-02-22T18:41:53.505Z"
   },
   {
    "duration": 19,
    "start_time": "2022-02-22T18:41:53.516Z"
   },
   {
    "duration": 15,
    "start_time": "2022-02-22T18:41:53.537Z"
   },
   {
    "duration": 13,
    "start_time": "2022-02-22T18:41:53.553Z"
   },
   {
    "duration": 11,
    "start_time": "2022-02-22T18:41:53.567Z"
   },
   {
    "duration": 33,
    "start_time": "2022-02-22T18:41:53.580Z"
   },
   {
    "duration": 55,
    "start_time": "2022-02-22T18:41:53.614Z"
   },
   {
    "duration": 37,
    "start_time": "2022-02-22T18:41:53.671Z"
   },
   {
    "duration": 23,
    "start_time": "2022-02-22T18:41:53.710Z"
   },
   {
    "duration": 11,
    "start_time": "2022-02-22T18:41:53.735Z"
   },
   {
    "duration": 3,
    "start_time": "2022-02-22T18:41:53.748Z"
   },
   {
    "duration": 38309,
    "start_time": "2022-02-22T18:42:06.193Z"
   },
   {
    "duration": 1949,
    "start_time": "2022-02-22T18:42:57.848Z"
   },
   {
    "duration": 459,
    "start_time": "2022-02-22T18:42:59.799Z"
   },
   {
    "duration": 10,
    "start_time": "2022-02-22T18:43:00.260Z"
   },
   {
    "duration": 7,
    "start_time": "2022-02-22T18:43:00.271Z"
   },
   {
    "duration": 11,
    "start_time": "2022-02-22T18:43:00.280Z"
   },
   {
    "duration": 13,
    "start_time": "2022-02-22T18:43:00.293Z"
   },
   {
    "duration": 41,
    "start_time": "2022-02-22T18:43:00.308Z"
   },
   {
    "duration": 12,
    "start_time": "2022-02-22T18:43:00.351Z"
   },
   {
    "duration": 29,
    "start_time": "2022-02-22T18:43:00.365Z"
   },
   {
    "duration": 45,
    "start_time": "2022-02-22T18:43:00.395Z"
   },
   {
    "duration": 32,
    "start_time": "2022-02-22T18:43:00.441Z"
   },
   {
    "duration": 2,
    "start_time": "2022-02-22T18:43:00.475Z"
   },
   {
    "duration": 15,
    "start_time": "2022-02-22T18:43:00.479Z"
   },
   {
    "duration": 4,
    "start_time": "2022-02-22T18:43:00.496Z"
   },
   {
    "duration": 5,
    "start_time": "2022-02-22T18:43:00.502Z"
   },
   {
    "duration": 17179,
    "start_time": "2022-02-22T18:43:36.777Z"
   },
   {
    "duration": 456,
    "start_time": "2022-02-22T19:01:10.827Z"
   },
   {
    "duration": 485,
    "start_time": "2022-02-22T19:01:29.584Z"
   },
   {
    "duration": 11,
    "start_time": "2022-02-22T19:01:36.208Z"
   },
   {
    "duration": 47,
    "start_time": "2022-02-22T19:02:22.346Z"
   },
   {
    "duration": 41,
    "start_time": "2022-02-22T19:02:31.945Z"
   },
   {
    "duration": 12,
    "start_time": "2022-02-22T19:10:47.637Z"
   },
   {
    "duration": 11802,
    "start_time": "2022-02-22T19:16:43.139Z"
   },
   {
    "duration": 11226,
    "start_time": "2022-02-22T19:17:30.491Z"
   },
   {
    "duration": 11493,
    "start_time": "2022-02-22T19:18:22.390Z"
   },
   {
    "duration": 38,
    "start_time": "2022-02-22T19:21:48.377Z"
   },
   {
    "duration": 37,
    "start_time": "2022-02-22T19:21:56.037Z"
   },
   {
    "duration": 35,
    "start_time": "2022-02-22T19:22:18.986Z"
   },
   {
    "duration": 46,
    "start_time": "2022-02-22T19:23:00.561Z"
   },
   {
    "duration": 6727,
    "start_time": "2022-02-22T19:23:59.017Z"
   },
   {
    "duration": 1508,
    "start_time": "2022-02-22T19:25:03.035Z"
   },
   {
    "duration": 464,
    "start_time": "2022-02-22T19:25:04.545Z"
   },
   {
    "duration": 11,
    "start_time": "2022-02-22T19:25:05.011Z"
   },
   {
    "duration": 9,
    "start_time": "2022-02-22T19:25:05.024Z"
   },
   {
    "duration": 10,
    "start_time": "2022-02-22T19:25:05.034Z"
   },
   {
    "duration": 17,
    "start_time": "2022-02-22T19:25:05.045Z"
   },
   {
    "duration": 11,
    "start_time": "2022-02-22T19:25:05.064Z"
   },
   {
    "duration": 11,
    "start_time": "2022-02-22T19:25:05.077Z"
   },
   {
    "duration": 31,
    "start_time": "2022-02-22T19:25:05.091Z"
   },
   {
    "duration": 33,
    "start_time": "2022-02-22T19:25:05.124Z"
   },
   {
    "duration": 29,
    "start_time": "2022-02-22T19:25:05.159Z"
   },
   {
    "duration": 2,
    "start_time": "2022-02-22T19:25:05.190Z"
   },
   {
    "duration": 1790,
    "start_time": "2022-02-22T19:25:05.193Z"
   },
   {
    "duration": 2,
    "start_time": "2022-02-22T19:25:06.985Z"
   },
   {
    "duration": 16,
    "start_time": "2022-02-22T19:25:06.988Z"
   },
   {
    "duration": 52,
    "start_time": "2022-02-22T19:25:07.006Z"
   },
   {
    "duration": 2,
    "start_time": "2022-02-22T19:25:07.060Z"
   },
   {
    "duration": 68,
    "start_time": "2022-02-22T19:25:07.064Z"
   },
   {
    "duration": 2,
    "start_time": "2022-02-22T19:25:07.134Z"
   },
   {
    "duration": 43,
    "start_time": "2022-02-22T19:25:07.137Z"
   },
   {
    "duration": 2429,
    "start_time": "2022-02-22T19:25:07.181Z"
   },
   {
    "duration": 585,
    "start_time": "2022-02-22T19:25:09.611Z"
   },
   {
    "duration": 5778,
    "start_time": "2022-02-22T19:26:37.955Z"
   },
   {
    "duration": 5839,
    "start_time": "2022-02-22T19:27:13.661Z"
   },
   {
    "duration": 243,
    "start_time": "2022-02-22T19:34:59.334Z"
   },
   {
    "duration": 2656,
    "start_time": "2022-02-22T19:48:49.689Z"
   },
   {
    "duration": 434,
    "start_time": "2022-02-22T19:48:52.347Z"
   },
   {
    "duration": 12,
    "start_time": "2022-02-22T19:48:52.782Z"
   },
   {
    "duration": 8,
    "start_time": "2022-02-22T19:48:52.796Z"
   },
   {
    "duration": 30,
    "start_time": "2022-02-22T19:48:52.806Z"
   },
   {
    "duration": 18,
    "start_time": "2022-02-22T19:48:52.837Z"
   },
   {
    "duration": 12,
    "start_time": "2022-02-22T19:48:52.856Z"
   },
   {
    "duration": 14,
    "start_time": "2022-02-22T19:48:52.870Z"
   },
   {
    "duration": 57,
    "start_time": "2022-02-22T19:48:52.886Z"
   },
   {
    "duration": 31,
    "start_time": "2022-02-22T19:48:52.945Z"
   },
   {
    "duration": 30,
    "start_time": "2022-02-22T19:48:52.978Z"
   },
   {
    "duration": 2,
    "start_time": "2022-02-22T19:48:53.009Z"
   },
   {
    "duration": 12480,
    "start_time": "2022-02-22T19:48:53.013Z"
   },
   {
    "duration": 39,
    "start_time": "2022-02-22T19:49:05.494Z"
   },
   {
    "duration": 46,
    "start_time": "2022-02-22T19:49:05.535Z"
   },
   {
    "duration": 11213,
    "start_time": "2022-02-22T19:49:05.585Z"
   },
   {
    "duration": 79,
    "start_time": "2022-02-22T19:49:16.800Z"
   },
   {
    "duration": 12183,
    "start_time": "2022-02-22T19:49:16.880Z"
   },
   {
    "duration": 38,
    "start_time": "2022-02-22T19:49:29.065Z"
   },
   {
    "duration": 8,
    "start_time": "2022-02-22T20:24:48.670Z"
   },
   {
    "duration": 4,
    "start_time": "2022-02-23T09:27:20.457Z"
   },
   {
    "duration": 1107,
    "start_time": "2022-02-23T09:27:20.463Z"
   },
   {
    "duration": -3,
    "start_time": "2022-02-23T09:27:21.575Z"
   },
   {
    "duration": -107,
    "start_time": "2022-02-23T09:27:21.681Z"
   },
   {
    "duration": -106,
    "start_time": "2022-02-23T09:27:21.681Z"
   },
   {
    "duration": -105,
    "start_time": "2022-02-23T09:27:21.681Z"
   },
   {
    "duration": -104,
    "start_time": "2022-02-23T09:27:21.681Z"
   },
   {
    "duration": -104,
    "start_time": "2022-02-23T09:27:21.681Z"
   },
   {
    "duration": -102,
    "start_time": "2022-02-23T09:27:21.681Z"
   },
   {
    "duration": -101,
    "start_time": "2022-02-23T09:27:21.681Z"
   },
   {
    "duration": -100,
    "start_time": "2022-02-23T09:27:21.681Z"
   },
   {
    "duration": -115,
    "start_time": "2022-02-23T09:27:21.697Z"
   },
   {
    "duration": -114,
    "start_time": "2022-02-23T09:27:21.697Z"
   },
   {
    "duration": -113,
    "start_time": "2022-02-23T09:27:21.697Z"
   },
   {
    "duration": -112,
    "start_time": "2022-02-23T09:27:21.697Z"
   },
   {
    "duration": -111,
    "start_time": "2022-02-23T09:27:21.697Z"
   },
   {
    "duration": 89297,
    "start_time": "2022-02-23T09:38:56.591Z"
   },
   {
    "duration": 3032,
    "start_time": "2022-02-23T09:40:25.891Z"
   },
   {
    "duration": 512,
    "start_time": "2022-02-23T09:40:28.926Z"
   },
   {
    "duration": 27,
    "start_time": "2022-02-23T09:40:29.441Z"
   },
   {
    "duration": 10,
    "start_time": "2022-02-23T09:40:29.473Z"
   },
   {
    "duration": 11,
    "start_time": "2022-02-23T09:40:29.485Z"
   },
   {
    "duration": 19,
    "start_time": "2022-02-23T09:40:29.498Z"
   },
   {
    "duration": 20,
    "start_time": "2022-02-23T09:40:29.519Z"
   },
   {
    "duration": 22,
    "start_time": "2022-02-23T09:40:29.558Z"
   },
   {
    "duration": 43,
    "start_time": "2022-02-23T09:40:29.583Z"
   },
   {
    "duration": 60,
    "start_time": "2022-02-23T09:40:29.628Z"
   },
   {
    "duration": 33,
    "start_time": "2022-02-23T09:40:29.690Z"
   },
   {
    "duration": 13894,
    "start_time": "2022-02-23T09:40:29.724Z"
   },
   {
    "duration": 13814,
    "start_time": "2022-02-23T09:40:43.621Z"
   },
   {
    "duration": 13744,
    "start_time": "2022-02-23T09:40:57.437Z"
   },
   {
    "duration": 8,
    "start_time": "2022-02-23T09:41:11.182Z"
   },
   {
    "duration": 2,
    "start_time": "2022-02-23T09:56:35.005Z"
   },
   {
    "duration": 4,
    "start_time": "2022-02-23T10:18:14.444Z"
   },
   {
    "duration": 513,
    "start_time": "2022-02-23T10:18:36.293Z"
   },
   {
    "duration": 4,
    "start_time": "2022-02-23T10:19:20.933Z"
   },
   {
    "duration": 368,
    "start_time": "2022-02-23T10:19:25.863Z"
   },
   {
    "duration": 3,
    "start_time": "2022-02-23T10:19:59.404Z"
   },
   {
    "duration": 28,
    "start_time": "2022-02-23T10:20:02.293Z"
   },
   {
    "duration": 25,
    "start_time": "2022-02-23T10:20:21.844Z"
   },
   {
    "duration": 4,
    "start_time": "2022-02-23T10:24:10.232Z"
   },
   {
    "duration": 22,
    "start_time": "2022-02-23T10:26:12.578Z"
   },
   {
    "duration": 4,
    "start_time": "2022-02-23T10:40:34.363Z"
   },
   {
    "duration": 176,
    "start_time": "2022-02-23T10:41:08.660Z"
   },
   {
    "duration": 4,
    "start_time": "2022-02-23T10:41:19.202Z"
   },
   {
    "duration": 4,
    "start_time": "2022-02-23T10:41:28.762Z"
   },
   {
    "duration": 4,
    "start_time": "2022-02-23T10:42:27.243Z"
   },
   {
    "duration": 189,
    "start_time": "2022-02-23T10:43:17.351Z"
   },
   {
    "duration": 5,
    "start_time": "2022-02-23T10:44:28.563Z"
   },
   {
    "duration": 183,
    "start_time": "2022-02-23T10:44:32.203Z"
   },
   {
    "duration": 1080,
    "start_time": "2022-02-23T10:45:02.823Z"
   },
   {
    "duration": 6,
    "start_time": "2022-02-23T10:45:20.043Z"
   },
   {
    "duration": 214,
    "start_time": "2022-02-23T10:45:41.563Z"
   },
   {
    "duration": 6,
    "start_time": "2022-02-23T10:46:39.321Z"
   },
   {
    "duration": 26,
    "start_time": "2022-02-23T10:46:44.443Z"
   },
   {
    "duration": 33,
    "start_time": "2022-02-23T10:47:32.512Z"
   },
   {
    "duration": 28,
    "start_time": "2022-02-23T10:47:52.162Z"
   },
   {
    "duration": 33,
    "start_time": "2022-02-23T10:48:05.402Z"
   },
   {
    "duration": 31,
    "start_time": "2022-02-23T10:49:13.082Z"
   },
   {
    "duration": 5,
    "start_time": "2022-02-23T10:59:58.762Z"
   },
   {
    "duration": 39,
    "start_time": "2022-02-23T11:00:58.725Z"
   },
   {
    "duration": 33,
    "start_time": "2022-02-23T11:05:04.771Z"
   },
   {
    "duration": 12,
    "start_time": "2022-02-23T11:15:47.253Z"
   },
   {
    "duration": 13,
    "start_time": "2022-02-23T11:16:52.608Z"
   },
   {
    "duration": 289,
    "start_time": "2022-02-23T11:54:51.462Z"
   },
   {
    "duration": 21,
    "start_time": "2022-02-23T11:54:56.371Z"
   },
   {
    "duration": 23,
    "start_time": "2022-02-23T11:55:23.173Z"
   },
   {
    "duration": 35,
    "start_time": "2022-02-23T11:55:46.805Z"
   },
   {
    "duration": 33,
    "start_time": "2022-02-23T11:56:06.765Z"
   },
   {
    "duration": 12,
    "start_time": "2022-02-23T11:57:47.374Z"
   },
   {
    "duration": 12,
    "start_time": "2022-02-23T11:57:52.148Z"
   },
   {
    "duration": 66,
    "start_time": "2022-02-23T11:59:40.694Z"
   },
   {
    "duration": 30,
    "start_time": "2022-02-23T12:00:49.843Z"
   },
   {
    "duration": 3,
    "start_time": "2022-02-23T12:21:49.776Z"
   },
   {
    "duration": 2613,
    "start_time": "2022-02-23T12:21:49.782Z"
   },
   {
    "duration": 450,
    "start_time": "2022-02-23T12:21:52.397Z"
   },
   {
    "duration": 22,
    "start_time": "2022-02-23T12:21:52.850Z"
   },
   {
    "duration": 9,
    "start_time": "2022-02-23T12:21:52.875Z"
   },
   {
    "duration": 11,
    "start_time": "2022-02-23T12:21:52.887Z"
   },
   {
    "duration": 25,
    "start_time": "2022-02-23T12:21:52.900Z"
   },
   {
    "duration": 37,
    "start_time": "2022-02-23T12:21:52.928Z"
   },
   {
    "duration": 16,
    "start_time": "2022-02-23T12:21:52.968Z"
   },
   {
    "duration": 38,
    "start_time": "2022-02-23T12:21:52.986Z"
   },
   {
    "duration": 60,
    "start_time": "2022-02-23T12:21:53.026Z"
   },
   {
    "duration": 34,
    "start_time": "2022-02-23T12:21:53.088Z"
   },
   {
    "duration": 13290,
    "start_time": "2022-02-23T12:21:53.124Z"
   },
   {
    "duration": 12704,
    "start_time": "2022-02-23T12:22:06.416Z"
   },
   {
    "duration": 12985,
    "start_time": "2022-02-23T12:22:19.122Z"
   },
   {
    "duration": 10,
    "start_time": "2022-02-23T12:22:32.109Z"
   },
   {
    "duration": 38,
    "start_time": "2022-02-23T12:22:32.121Z"
   },
   {
    "duration": 18,
    "start_time": "2022-02-23T12:22:32.161Z"
   },
   {
    "duration": 26,
    "start_time": "2022-02-23T12:22:32.182Z"
   },
   {
    "duration": 15,
    "start_time": "2022-02-23T12:22:32.210Z"
   },
   {
    "duration": 7,
    "start_time": "2022-02-23T12:22:32.227Z"
   },
   {
    "duration": 11,
    "start_time": "2022-02-23T12:22:32.235Z"
   },
   {
    "duration": 46,
    "start_time": "2022-02-23T12:22:32.248Z"
   },
   {
    "duration": 362,
    "start_time": "2022-02-23T12:22:32.297Z"
   },
   {
    "duration": -103,
    "start_time": "2022-02-23T12:22:32.764Z"
   },
   {
    "duration": -104,
    "start_time": "2022-02-23T12:22:32.766Z"
   },
   {
    "duration": -104,
    "start_time": "2022-02-23T12:22:32.767Z"
   },
   {
    "duration": -105,
    "start_time": "2022-02-23T12:22:32.769Z"
   },
   {
    "duration": -105,
    "start_time": "2022-02-23T12:22:32.770Z"
   },
   {
    "duration": 32,
    "start_time": "2022-02-23T12:23:12.255Z"
   },
   {
    "duration": 42,
    "start_time": "2022-02-23T12:23:20.450Z"
   },
   {
    "duration": 83,
    "start_time": "2022-02-23T12:23:28.889Z"
   },
   {
    "duration": 22,
    "start_time": "2022-02-23T12:23:32.481Z"
   },
   {
    "duration": 14,
    "start_time": "2022-02-23T12:23:36.331Z"
   },
   {
    "duration": 95,
    "start_time": "2022-02-23T12:34:22.012Z"
   },
   {
    "duration": 21,
    "start_time": "2022-02-23T12:34:51.051Z"
   },
   {
    "duration": 14,
    "start_time": "2022-02-23T12:35:35.932Z"
   },
   {
    "duration": 14,
    "start_time": "2022-02-23T12:37:06.815Z"
   },
   {
    "duration": 18,
    "start_time": "2022-02-23T12:38:31.053Z"
   },
   {
    "duration": 4,
    "start_time": "2022-02-23T12:53:57.424Z"
   },
   {
    "duration": 2762,
    "start_time": "2022-02-23T12:53:57.430Z"
   },
   {
    "duration": 521,
    "start_time": "2022-02-23T12:54:00.194Z"
   },
   {
    "duration": 14,
    "start_time": "2022-02-23T12:54:00.717Z"
   },
   {
    "duration": 9,
    "start_time": "2022-02-23T12:54:00.732Z"
   },
   {
    "duration": 22,
    "start_time": "2022-02-23T12:54:00.743Z"
   },
   {
    "duration": 25,
    "start_time": "2022-02-23T12:54:00.768Z"
   },
   {
    "duration": 15,
    "start_time": "2022-02-23T12:54:00.796Z"
   },
   {
    "duration": 26,
    "start_time": "2022-02-23T12:54:00.814Z"
   },
   {
    "duration": 49,
    "start_time": "2022-02-23T12:54:00.843Z"
   },
   {
    "duration": 42,
    "start_time": "2022-02-23T12:54:00.894Z"
   },
   {
    "duration": 51,
    "start_time": "2022-02-23T12:54:00.938Z"
   },
   {
    "duration": 13984,
    "start_time": "2022-02-23T12:54:00.992Z"
   },
   {
    "duration": 12333,
    "start_time": "2022-02-23T12:54:14.978Z"
   },
   {
    "duration": 12864,
    "start_time": "2022-02-23T12:54:27.313Z"
   },
   {
    "duration": 8,
    "start_time": "2022-02-23T12:54:40.178Z"
   },
   {
    "duration": 7,
    "start_time": "2022-02-23T12:54:40.188Z"
   },
   {
    "duration": 9,
    "start_time": "2022-02-23T12:54:40.197Z"
   },
   {
    "duration": 4,
    "start_time": "2022-02-23T12:54:40.209Z"
   },
   {
    "duration": 44,
    "start_time": "2022-02-23T12:54:40.215Z"
   },
   {
    "duration": 6,
    "start_time": "2022-02-23T12:54:40.262Z"
   },
   {
    "duration": 9,
    "start_time": "2022-02-23T12:54:40.270Z"
   },
   {
    "duration": 47,
    "start_time": "2022-02-23T12:54:40.281Z"
   },
   {
    "duration": 55,
    "start_time": "2022-02-23T12:54:40.330Z"
   },
   {
    "duration": 34,
    "start_time": "2022-02-23T12:54:40.387Z"
   },
   {
    "duration": 139,
    "start_time": "2022-02-23T12:54:40.423Z"
   },
   {
    "duration": 15,
    "start_time": "2022-02-23T12:54:40.564Z"
   },
   {
    "duration": 110,
    "start_time": "2022-02-23T12:54:40.660Z"
   },
   {
    "duration": 21,
    "start_time": "2022-02-23T13:01:19.379Z"
   },
   {
    "duration": 17,
    "start_time": "2022-02-23T13:01:35.178Z"
   },
   {
    "duration": 13,
    "start_time": "2022-02-23T13:02:05.460Z"
   },
   {
    "duration": 13,
    "start_time": "2022-02-23T13:02:07.825Z"
   },
   {
    "duration": 53,
    "start_time": "2022-02-23T13:10:12.893Z"
   },
   {
    "duration": 62,
    "start_time": "2022-02-23T13:10:26.981Z"
   },
   {
    "duration": 6,
    "start_time": "2022-02-23T13:10:42.810Z"
   },
   {
    "duration": 5,
    "start_time": "2022-02-23T13:10:52.971Z"
   },
   {
    "duration": 5,
    "start_time": "2022-02-23T13:16:38.250Z"
   },
   {
    "duration": 5,
    "start_time": "2022-02-23T13:16:57.931Z"
   },
   {
    "duration": 29,
    "start_time": "2022-02-23T13:40:55.011Z"
   },
   {
    "duration": 342,
    "start_time": "2022-02-23T13:42:16.211Z"
   },
   {
    "duration": 179,
    "start_time": "2022-02-23T13:47:49.839Z"
   },
   {
    "duration": 185,
    "start_time": "2022-02-23T13:48:28.731Z"
   },
   {
    "duration": 9,
    "start_time": "2022-02-23T14:01:33.772Z"
   },
   {
    "duration": 31,
    "start_time": "2022-02-23T14:01:52.493Z"
   },
   {
    "duration": 11,
    "start_time": "2022-02-23T14:02:34.207Z"
   },
   {
    "duration": 4,
    "start_time": "2022-02-23T14:04:37.774Z"
   },
   {
    "duration": 2726,
    "start_time": "2022-02-23T14:04:37.781Z"
   },
   {
    "duration": 452,
    "start_time": "2022-02-23T14:04:40.509Z"
   },
   {
    "duration": 14,
    "start_time": "2022-02-23T14:04:40.964Z"
   },
   {
    "duration": 19,
    "start_time": "2022-02-23T14:04:40.981Z"
   },
   {
    "duration": 11,
    "start_time": "2022-02-23T14:04:41.001Z"
   },
   {
    "duration": 19,
    "start_time": "2022-02-23T14:04:41.014Z"
   },
   {
    "duration": 40,
    "start_time": "2022-02-23T14:04:41.035Z"
   },
   {
    "duration": 27,
    "start_time": "2022-02-23T14:04:41.078Z"
   },
   {
    "duration": 37,
    "start_time": "2022-02-23T14:04:41.107Z"
   },
   {
    "duration": 46,
    "start_time": "2022-02-23T14:04:41.146Z"
   },
   {
    "duration": 40,
    "start_time": "2022-02-23T14:04:41.194Z"
   },
   {
    "duration": 13946,
    "start_time": "2022-02-23T14:04:41.236Z"
   },
   {
    "duration": 13206,
    "start_time": "2022-02-23T14:04:55.185Z"
   },
   {
    "duration": 13749,
    "start_time": "2022-02-23T14:05:08.393Z"
   },
   {
    "duration": 21,
    "start_time": "2022-02-23T14:05:22.144Z"
   },
   {
    "duration": 16,
    "start_time": "2022-02-23T14:05:22.167Z"
   },
   {
    "duration": 6,
    "start_time": "2022-02-23T14:05:22.186Z"
   },
   {
    "duration": 86,
    "start_time": "2022-02-23T14:05:22.194Z"
   },
   {
    "duration": 32,
    "start_time": "2022-02-23T14:05:22.282Z"
   },
   {
    "duration": 65,
    "start_time": "2022-02-23T14:05:22.316Z"
   },
   {
    "duration": 12,
    "start_time": "2022-02-23T14:05:22.383Z"
   },
   {
    "duration": 201,
    "start_time": "2022-02-23T14:05:22.398Z"
   },
   {
    "duration": 14,
    "start_time": "2022-02-23T14:05:22.669Z"
   },
   {
    "duration": 103,
    "start_time": "2022-02-23T14:05:22.687Z"
   },
   {
    "duration": 43,
    "start_time": "2022-02-23T14:05:22.792Z"
   },
   {
    "duration": 97,
    "start_time": "2022-02-23T14:05:22.870Z"
   },
   {
    "duration": 4,
    "start_time": "2022-02-23T15:05:45.944Z"
   },
   {
    "duration": 2967,
    "start_time": "2022-02-23T15:05:45.949Z"
   },
   {
    "duration": 438,
    "start_time": "2022-02-23T15:05:48.918Z"
   },
   {
    "duration": 12,
    "start_time": "2022-02-23T15:05:49.359Z"
   },
   {
    "duration": 9,
    "start_time": "2022-02-23T15:05:49.373Z"
   },
   {
    "duration": 16,
    "start_time": "2022-02-23T15:05:49.383Z"
   },
   {
    "duration": 36,
    "start_time": "2022-02-23T15:05:49.401Z"
   },
   {
    "duration": 25,
    "start_time": "2022-02-23T15:05:49.440Z"
   },
   {
    "duration": 18,
    "start_time": "2022-02-23T15:05:49.468Z"
   },
   {
    "duration": 36,
    "start_time": "2022-02-23T15:05:49.488Z"
   },
   {
    "duration": 60,
    "start_time": "2022-02-23T15:05:49.526Z"
   },
   {
    "duration": 34,
    "start_time": "2022-02-23T15:05:49.588Z"
   },
   {
    "duration": 13766,
    "start_time": "2022-02-23T15:05:49.624Z"
   },
   {
    "duration": 12206,
    "start_time": "2022-02-23T15:06:03.392Z"
   },
   {
    "duration": 12482,
    "start_time": "2022-02-23T15:06:15.599Z"
   },
   {
    "duration": 8,
    "start_time": "2022-02-23T15:06:28.082Z"
   },
   {
    "duration": 5,
    "start_time": "2022-02-23T15:06:28.092Z"
   },
   {
    "duration": 6,
    "start_time": "2022-02-23T15:06:28.099Z"
   },
   {
    "duration": 74,
    "start_time": "2022-02-23T15:06:28.107Z"
   },
   {
    "duration": 29,
    "start_time": "2022-02-23T15:06:28.183Z"
   },
   {
    "duration": 63,
    "start_time": "2022-02-23T15:06:28.214Z"
   },
   {
    "duration": 12,
    "start_time": "2022-02-23T15:06:28.279Z"
   },
   {
    "duration": 109,
    "start_time": "2022-02-23T15:06:28.362Z"
   },
   {
    "duration": 91,
    "start_time": "2022-02-23T15:06:28.474Z"
   },
   {
    "duration": 105,
    "start_time": "2022-02-23T15:06:28.567Z"
   },
   {
    "duration": 85,
    "start_time": "2022-02-23T15:06:28.674Z"
   },
   {
    "duration": 103,
    "start_time": "2022-02-23T15:06:28.762Z"
   },
   {
    "duration": 329,
    "start_time": "2022-02-23T17:42:32.025Z"
   },
   {
    "duration": 3,
    "start_time": "2022-02-23T17:42:35.804Z"
   },
   {
    "duration": 4,
    "start_time": "2022-02-23T17:42:38.065Z"
   },
   {
    "duration": 3,
    "start_time": "2022-02-23T17:43:42.926Z"
   },
   {
    "duration": 4,
    "start_time": "2022-02-23T17:43:44.864Z"
   },
   {
    "duration": 2,
    "start_time": "2022-02-23T17:48:58.095Z"
   },
   {
    "duration": 3,
    "start_time": "2022-02-23T17:50:11.283Z"
   },
   {
    "duration": 4,
    "start_time": "2022-02-23T17:50:57.445Z"
   },
   {
    "duration": 4,
    "start_time": "2022-02-23T17:51:01.675Z"
   },
   {
    "duration": 4,
    "start_time": "2022-02-23T18:00:32.187Z"
   },
   {
    "duration": 5,
    "start_time": "2022-02-23T18:24:19.696Z"
   },
   {
    "duration": 6,
    "start_time": "2022-02-23T18:24:51.037Z"
   },
   {
    "duration": 7,
    "start_time": "2022-02-23T18:25:16.599Z"
   },
   {
    "duration": 4,
    "start_time": "2022-02-23T18:26:01.155Z"
   },
   {
    "duration": 3,
    "start_time": "2022-02-23T18:26:19.947Z"
   },
   {
    "duration": 4,
    "start_time": "2022-02-23T18:26:24.005Z"
   },
   {
    "duration": 4,
    "start_time": "2022-02-23T18:26:34.866Z"
   },
   {
    "duration": 4,
    "start_time": "2022-02-23T18:26:37.016Z"
   },
   {
    "duration": 5,
    "start_time": "2022-02-23T18:26:51.386Z"
   },
   {
    "duration": 4,
    "start_time": "2022-02-23T18:26:56.426Z"
   },
   {
    "duration": 4,
    "start_time": "2022-02-23T18:26:58.876Z"
   },
   {
    "duration": 7,
    "start_time": "2022-02-23T18:27:36.124Z"
   },
   {
    "duration": 3,
    "start_time": "2022-02-24T02:38:22.244Z"
   },
   {
    "duration": 906,
    "start_time": "2022-02-24T02:38:22.249Z"
   },
   {
    "duration": -256,
    "start_time": "2022-02-24T02:38:23.414Z"
   },
   {
    "duration": -255,
    "start_time": "2022-02-24T02:38:23.414Z"
   },
   {
    "duration": -327,
    "start_time": "2022-02-24T02:38:23.487Z"
   },
   {
    "duration": -341,
    "start_time": "2022-02-24T02:38:23.502Z"
   },
   {
    "duration": -340,
    "start_time": "2022-02-24T02:38:23.502Z"
   },
   {
    "duration": -339,
    "start_time": "2022-02-24T02:38:23.502Z"
   },
   {
    "duration": -338,
    "start_time": "2022-02-24T02:38:23.502Z"
   },
   {
    "duration": -337,
    "start_time": "2022-02-24T02:38:23.502Z"
   },
   {
    "duration": -336,
    "start_time": "2022-02-24T02:38:23.502Z"
   },
   {
    "duration": -335,
    "start_time": "2022-02-24T02:38:23.502Z"
   },
   {
    "duration": -334,
    "start_time": "2022-02-24T02:38:23.502Z"
   },
   {
    "duration": -333,
    "start_time": "2022-02-24T02:38:23.502Z"
   },
   {
    "duration": -348,
    "start_time": "2022-02-24T02:38:23.518Z"
   },
   {
    "duration": -347,
    "start_time": "2022-02-24T02:38:23.518Z"
   },
   {
    "duration": -346,
    "start_time": "2022-02-24T02:38:23.518Z"
   },
   {
    "duration": -345,
    "start_time": "2022-02-24T02:38:23.518Z"
   },
   {
    "duration": -344,
    "start_time": "2022-02-24T02:38:23.518Z"
   },
   {
    "duration": -343,
    "start_time": "2022-02-24T02:38:23.518Z"
   },
   {
    "duration": -342,
    "start_time": "2022-02-24T02:38:23.518Z"
   },
   {
    "duration": -341,
    "start_time": "2022-02-24T02:38:23.518Z"
   },
   {
    "duration": -340,
    "start_time": "2022-02-24T02:38:23.518Z"
   },
   {
    "duration": -339,
    "start_time": "2022-02-24T02:38:23.518Z"
   },
   {
    "duration": -338,
    "start_time": "2022-02-24T02:38:23.518Z"
   },
   {
    "duration": -388,
    "start_time": "2022-02-24T02:38:23.570Z"
   },
   {
    "duration": -387,
    "start_time": "2022-02-24T02:38:23.570Z"
   },
   {
    "duration": -397,
    "start_time": "2022-02-24T02:38:23.581Z"
   },
   {
    "duration": -397,
    "start_time": "2022-02-24T02:38:23.581Z"
   },
   {
    "duration": -396,
    "start_time": "2022-02-24T02:38:23.581Z"
   },
   {
    "duration": -401,
    "start_time": "2022-02-24T02:38:23.587Z"
   },
   {
    "duration": 104592,
    "start_time": "2022-02-24T02:38:40.259Z"
   },
   {
    "duration": 904,
    "start_time": "2022-02-24T02:40:24.854Z"
   },
   {
    "duration": -331,
    "start_time": "2022-02-24T02:40:26.092Z"
   },
   {
    "duration": -330,
    "start_time": "2022-02-24T02:40:26.092Z"
   },
   {
    "duration": -345,
    "start_time": "2022-02-24T02:40:26.108Z"
   },
   {
    "duration": -408,
    "start_time": "2022-02-24T02:40:26.172Z"
   },
   {
    "duration": -421,
    "start_time": "2022-02-24T02:40:26.186Z"
   },
   {
    "duration": -420,
    "start_time": "2022-02-24T02:40:26.186Z"
   },
   {
    "duration": -419,
    "start_time": "2022-02-24T02:40:26.186Z"
   },
   {
    "duration": -418,
    "start_time": "2022-02-24T02:40:26.186Z"
   },
   {
    "duration": -417,
    "start_time": "2022-02-24T02:40:26.186Z"
   },
   {
    "duration": -425,
    "start_time": "2022-02-24T02:40:26.195Z"
   },
   {
    "duration": -424,
    "start_time": "2022-02-24T02:40:26.195Z"
   },
   {
    "duration": -423,
    "start_time": "2022-02-24T02:40:26.195Z"
   },
   {
    "duration": -421,
    "start_time": "2022-02-24T02:40:26.195Z"
   },
   {
    "duration": -421,
    "start_time": "2022-02-24T02:40:26.195Z"
   },
   {
    "duration": -420,
    "start_time": "2022-02-24T02:40:26.195Z"
   },
   {
    "duration": -430,
    "start_time": "2022-02-24T02:40:26.206Z"
   },
   {
    "duration": -430,
    "start_time": "2022-02-24T02:40:26.207Z"
   },
   {
    "duration": -432,
    "start_time": "2022-02-24T02:40:26.210Z"
   },
   {
    "duration": -432,
    "start_time": "2022-02-24T02:40:26.211Z"
   },
   {
    "duration": -432,
    "start_time": "2022-02-24T02:40:26.212Z"
   },
   {
    "duration": -448,
    "start_time": "2022-02-24T02:40:26.229Z"
   },
   {
    "duration": -447,
    "start_time": "2022-02-24T02:40:26.229Z"
   },
   {
    "duration": -446,
    "start_time": "2022-02-24T02:40:26.229Z"
   },
   {
    "duration": -445,
    "start_time": "2022-02-24T02:40:26.229Z"
   },
   {
    "duration": -479,
    "start_time": "2022-02-24T02:40:26.264Z"
   },
   {
    "duration": -487,
    "start_time": "2022-02-24T02:40:26.273Z"
   },
   {
    "duration": -506,
    "start_time": "2022-02-24T02:40:26.293Z"
   },
   {
    "duration": -505,
    "start_time": "2022-02-24T02:40:26.293Z"
   },
   {
    "duration": -504,
    "start_time": "2022-02-24T02:40:26.293Z"
   },
   {
    "duration": 46230,
    "start_time": "2022-02-24T04:08:04.403Z"
   },
   {
    "duration": 5311,
    "start_time": "2022-02-24T04:08:50.635Z"
   },
   {
    "duration": 496,
    "start_time": "2022-02-24T04:08:55.948Z"
   },
   {
    "duration": 12,
    "start_time": "2022-02-24T04:08:56.446Z"
   },
   {
    "duration": 12,
    "start_time": "2022-02-24T04:08:56.459Z"
   },
   {
    "duration": 12,
    "start_time": "2022-02-24T04:08:56.472Z"
   },
   {
    "duration": 16,
    "start_time": "2022-02-24T04:08:56.485Z"
   },
   {
    "duration": 13,
    "start_time": "2022-02-24T04:08:56.519Z"
   },
   {
    "duration": 12,
    "start_time": "2022-02-24T04:08:56.533Z"
   },
   {
    "duration": 35,
    "start_time": "2022-02-24T04:08:56.546Z"
   },
   {
    "duration": 59,
    "start_time": "2022-02-24T04:08:56.583Z"
   },
   {
    "duration": 31,
    "start_time": "2022-02-24T04:08:56.644Z"
   },
   {
    "duration": 12898,
    "start_time": "2022-02-24T04:08:56.677Z"
   },
   {
    "duration": 12580,
    "start_time": "2022-02-24T04:09:09.577Z"
   },
   {
    "duration": 12624,
    "start_time": "2022-02-24T04:09:22.158Z"
   },
   {
    "duration": 7,
    "start_time": "2022-02-24T04:09:34.783Z"
   },
   {
    "duration": 27,
    "start_time": "2022-02-24T04:09:34.792Z"
   },
   {
    "duration": 5,
    "start_time": "2022-02-24T04:09:34.822Z"
   },
   {
    "duration": 30,
    "start_time": "2022-02-24T04:09:34.828Z"
   },
   {
    "duration": 66,
    "start_time": "2022-02-24T04:09:34.860Z"
   },
   {
    "duration": 30,
    "start_time": "2022-02-24T04:09:34.927Z"
   },
   {
    "duration": 63,
    "start_time": "2022-02-24T04:09:34.959Z"
   },
   {
    "duration": 105,
    "start_time": "2022-02-24T04:09:35.027Z"
   },
   {
    "duration": 87,
    "start_time": "2022-02-24T04:09:35.134Z"
   },
   {
    "duration": 100,
    "start_time": "2022-02-24T04:09:35.224Z"
   },
   {
    "duration": 31,
    "start_time": "2022-02-24T04:09:35.325Z"
   },
   {
    "duration": 104,
    "start_time": "2022-02-24T04:09:35.419Z"
   },
   {
    "duration": 4,
    "start_time": "2022-02-24T04:09:35.525Z"
   },
   {
    "duration": 95,
    "start_time": "2022-02-24T04:09:35.531Z"
   },
   {
    "duration": 4,
    "start_time": "2022-02-24T04:09:35.628Z"
   },
   {
    "duration": 7,
    "start_time": "2022-02-24T04:09:35.719Z"
   },
   {
    "duration": 5,
    "start_time": "2022-02-24T04:57:27.009Z"
   },
   {
    "duration": 6,
    "start_time": "2022-02-24T04:58:35.799Z"
   },
   {
    "duration": 366,
    "start_time": "2022-02-24T04:59:00.399Z"
   },
   {
    "duration": 6,
    "start_time": "2022-02-24T04:59:29.859Z"
   },
   {
    "duration": 331,
    "start_time": "2022-02-24T05:38:22.935Z"
   },
   {
    "duration": 6,
    "start_time": "2022-02-24T05:42:24.889Z"
   },
   {
    "duration": 5,
    "start_time": "2022-02-24T05:42:30.659Z"
   },
   {
    "duration": 10,
    "start_time": "2022-02-24T05:43:46.099Z"
   },
   {
    "duration": 10,
    "start_time": "2022-02-24T05:44:00.209Z"
   },
   {
    "duration": 12,
    "start_time": "2022-02-24T05:45:59.474Z"
   },
   {
    "duration": 15,
    "start_time": "2022-02-24T05:46:52.988Z"
   },
   {
    "duration": 2,
    "start_time": "2022-02-24T05:50:52.283Z"
   },
   {
    "duration": 2557,
    "start_time": "2022-02-24T05:50:52.287Z"
   },
   {
    "duration": 422,
    "start_time": "2022-02-24T05:50:54.846Z"
   },
   {
    "duration": 12,
    "start_time": "2022-02-24T05:50:55.269Z"
   },
   {
    "duration": 8,
    "start_time": "2022-02-24T05:50:55.283Z"
   },
   {
    "duration": 12,
    "start_time": "2022-02-24T05:50:55.293Z"
   },
   {
    "duration": 26,
    "start_time": "2022-02-24T05:50:55.307Z"
   },
   {
    "duration": 49,
    "start_time": "2022-02-24T05:50:55.335Z"
   },
   {
    "duration": 28,
    "start_time": "2022-02-24T05:50:55.386Z"
   },
   {
    "duration": 40,
    "start_time": "2022-02-24T05:50:55.416Z"
   },
   {
    "duration": 34,
    "start_time": "2022-02-24T05:50:55.458Z"
   },
   {
    "duration": 46,
    "start_time": "2022-02-24T05:50:55.494Z"
   },
   {
    "duration": 13004,
    "start_time": "2022-02-24T05:50:55.542Z"
   },
   {
    "duration": 12272,
    "start_time": "2022-02-24T05:51:08.547Z"
   },
   {
    "duration": 13331,
    "start_time": "2022-02-24T05:51:20.821Z"
   },
   {
    "duration": 7,
    "start_time": "2022-02-24T05:51:34.154Z"
   },
   {
    "duration": 11,
    "start_time": "2022-02-24T05:51:34.162Z"
   },
   {
    "duration": 5,
    "start_time": "2022-02-24T05:51:34.175Z"
   },
   {
    "duration": 64,
    "start_time": "2022-02-24T05:51:34.183Z"
   },
   {
    "duration": 29,
    "start_time": "2022-02-24T05:51:34.249Z"
   },
   {
    "duration": 67,
    "start_time": "2022-02-24T05:51:34.280Z"
   },
   {
    "duration": 73,
    "start_time": "2022-02-24T05:51:34.348Z"
   },
   {
    "duration": 101,
    "start_time": "2022-02-24T05:51:34.422Z"
   },
   {
    "duration": 98,
    "start_time": "2022-02-24T05:51:34.526Z"
   },
   {
    "duration": 100,
    "start_time": "2022-02-24T05:51:34.626Z"
   },
   {
    "duration": 91,
    "start_time": "2022-02-24T05:51:34.728Z"
   },
   {
    "duration": 101,
    "start_time": "2022-02-24T05:51:34.822Z"
   },
   {
    "duration": 94,
    "start_time": "2022-02-24T05:51:34.926Z"
   },
   {
    "duration": 5,
    "start_time": "2022-02-24T05:51:35.023Z"
   },
   {
    "duration": 95,
    "start_time": "2022-02-24T05:51:35.030Z"
   },
   {
    "duration": 7,
    "start_time": "2022-02-24T05:51:35.127Z"
   },
   {
    "duration": 14,
    "start_time": "2022-02-24T05:51:35.136Z"
   },
   {
    "duration": 10,
    "start_time": "2022-02-24T05:51:35.151Z"
   },
   {
    "duration": 21,
    "start_time": "2022-02-24T06:00:16.121Z"
   },
   {
    "duration": 19,
    "start_time": "2022-02-24T06:00:46.132Z"
   },
   {
    "duration": 20,
    "start_time": "2022-02-24T06:26:34.594Z"
   },
   {
    "duration": 6,
    "start_time": "2022-02-24T06:50:59.180Z"
   },
   {
    "duration": 371,
    "start_time": "2022-02-24T06:52:36.202Z"
   },
   {
    "duration": 9,
    "start_time": "2022-02-24T06:53:02.117Z"
   },
   {
    "duration": 207,
    "start_time": "2022-02-24T06:53:18.581Z"
   },
   {
    "duration": 13,
    "start_time": "2022-02-24T06:55:36.321Z"
   },
   {
    "duration": 12,
    "start_time": "2022-02-24T06:59:19.480Z"
   },
   {
    "duration": 11,
    "start_time": "2022-02-24T07:00:08.421Z"
   },
   {
    "duration": 10,
    "start_time": "2022-02-24T07:00:12.671Z"
   },
   {
    "duration": 11,
    "start_time": "2022-02-24T07:01:09.760Z"
   },
   {
    "duration": 11,
    "start_time": "2022-02-24T07:01:26.196Z"
   },
   {
    "duration": 10,
    "start_time": "2022-02-24T07:02:02.362Z"
   },
   {
    "duration": 11,
    "start_time": "2022-02-24T07:03:05.141Z"
   },
   {
    "duration": 9,
    "start_time": "2022-02-24T07:03:15.003Z"
   },
   {
    "duration": 10,
    "start_time": "2022-02-24T07:03:25.910Z"
   },
   {
    "duration": 3,
    "start_time": "2022-02-24T08:31:22.337Z"
   },
   {
    "duration": 4,
    "start_time": "2022-02-24T09:29:24.528Z"
   },
   {
    "duration": 210,
    "start_time": "2022-02-24T09:43:27.196Z"
   },
   {
    "duration": 402,
    "start_time": "2022-02-24T09:43:50.466Z"
   },
   {
    "duration": 7,
    "start_time": "2022-02-24T09:51:38.879Z"
   },
   {
    "duration": 1551,
    "start_time": "2022-02-24T09:51:44.185Z"
   },
   {
    "duration": 1354,
    "start_time": "2022-02-24T09:52:45.373Z"
   },
   {
    "duration": 5,
    "start_time": "2022-02-24T09:55:33.993Z"
   },
   {
    "duration": 641,
    "start_time": "2022-02-24T09:55:36.385Z"
   },
   {
    "duration": 4,
    "start_time": "2022-02-24T09:55:46.386Z"
   },
   {
    "duration": 1370,
    "start_time": "2022-02-24T09:55:49.505Z"
   },
   {
    "duration": 1344,
    "start_time": "2022-02-24T09:58:04.155Z"
   },
   {
    "duration": 4,
    "start_time": "2022-02-24T10:05:59.361Z"
   },
   {
    "duration": 6,
    "start_time": "2022-02-24T10:06:44.046Z"
   },
   {
    "duration": 407,
    "start_time": "2022-02-24T10:06:49.865Z"
   },
   {
    "duration": 4,
    "start_time": "2022-02-24T10:07:21.385Z"
   },
   {
    "duration": 650,
    "start_time": "2022-02-24T10:07:23.876Z"
   },
   {
    "duration": 5,
    "start_time": "2022-02-24T10:07:46.023Z"
   },
   {
    "duration": 1363,
    "start_time": "2022-02-24T10:07:49.486Z"
   },
   {
    "duration": 3,
    "start_time": "2022-02-24T10:10:03.993Z"
   },
   {
    "duration": 2665,
    "start_time": "2022-02-24T10:10:03.998Z"
   },
   {
    "duration": 446,
    "start_time": "2022-02-24T10:10:06.665Z"
   },
   {
    "duration": 12,
    "start_time": "2022-02-24T10:10:07.113Z"
   },
   {
    "duration": 11,
    "start_time": "2022-02-24T10:10:07.127Z"
   },
   {
    "duration": 21,
    "start_time": "2022-02-24T10:10:07.139Z"
   },
   {
    "duration": 25,
    "start_time": "2022-02-24T10:10:07.162Z"
   },
   {
    "duration": 12,
    "start_time": "2022-02-24T10:10:07.189Z"
   },
   {
    "duration": 21,
    "start_time": "2022-02-24T10:10:07.203Z"
   },
   {
    "duration": 38,
    "start_time": "2022-02-24T10:10:07.226Z"
   },
   {
    "duration": 54,
    "start_time": "2022-02-24T10:10:07.266Z"
   },
   {
    "duration": 34,
    "start_time": "2022-02-24T10:10:07.322Z"
   },
   {
    "duration": 13323,
    "start_time": "2022-02-24T10:10:07.358Z"
   },
   {
    "duration": 12675,
    "start_time": "2022-02-24T10:10:20.683Z"
   },
   {
    "duration": 12934,
    "start_time": "2022-02-24T10:10:33.360Z"
   },
   {
    "duration": 26,
    "start_time": "2022-02-24T10:10:46.295Z"
   },
   {
    "duration": 9,
    "start_time": "2022-02-24T10:10:46.323Z"
   },
   {
    "duration": 5,
    "start_time": "2022-02-24T10:10:46.334Z"
   },
   {
    "duration": 31,
    "start_time": "2022-02-24T10:10:46.342Z"
   },
   {
    "duration": 70,
    "start_time": "2022-02-24T10:10:46.375Z"
   },
   {
    "duration": 29,
    "start_time": "2022-02-24T10:10:46.446Z"
   },
   {
    "duration": 47,
    "start_time": "2022-02-24T10:10:46.477Z"
   },
   {
    "duration": 100,
    "start_time": "2022-02-24T10:10:46.526Z"
   },
   {
    "duration": 19,
    "start_time": "2022-02-24T10:10:46.627Z"
   },
   {
    "duration": 8,
    "start_time": "2022-02-24T10:10:46.720Z"
   },
   {
    "duration": 9,
    "start_time": "2022-02-24T10:10:46.820Z"
   },
   {
    "duration": 88,
    "start_time": "2022-02-24T10:10:46.831Z"
   },
   {
    "duration": 102,
    "start_time": "2022-02-24T10:10:46.922Z"
   },
   {
    "duration": 13,
    "start_time": "2022-02-24T10:10:47.026Z"
   },
   {
    "duration": 100,
    "start_time": "2022-02-24T10:10:47.120Z"
   },
   {
    "duration": 3,
    "start_time": "2022-02-24T10:10:47.222Z"
   },
   {
    "duration": 8,
    "start_time": "2022-02-24T10:10:47.226Z"
   },
   {
    "duration": 6,
    "start_time": "2022-02-24T10:10:47.236Z"
   },
   {
    "duration": 14,
    "start_time": "2022-02-24T10:10:47.243Z"
   },
   {
    "duration": 19,
    "start_time": "2022-02-24T10:10:47.258Z"
   },
   {
    "duration": 3,
    "start_time": "2022-02-24T10:10:47.279Z"
   },
   {
    "duration": 37,
    "start_time": "2022-02-24T10:10:47.284Z"
   },
   {
    "duration": 1377,
    "start_time": "2022-02-24T10:10:47.322Z"
   },
   {
    "duration": 1341,
    "start_time": "2022-02-24T10:10:48.701Z"
   },
   {
    "duration": 1396,
    "start_time": "2022-02-24T10:10:50.043Z"
   },
   {
    "duration": 3,
    "start_time": "2022-02-24T10:16:11.502Z"
   },
   {
    "duration": 2682,
    "start_time": "2022-02-24T10:16:11.507Z"
   },
   {
    "duration": 435,
    "start_time": "2022-02-24T10:16:14.192Z"
   },
   {
    "duration": 13,
    "start_time": "2022-02-24T10:16:14.629Z"
   },
   {
    "duration": 19,
    "start_time": "2022-02-24T10:16:14.643Z"
   },
   {
    "duration": 21,
    "start_time": "2022-02-24T10:16:14.663Z"
   },
   {
    "duration": 45,
    "start_time": "2022-02-24T10:16:14.685Z"
   },
   {
    "duration": 13,
    "start_time": "2022-02-24T10:16:14.732Z"
   },
   {
    "duration": 35,
    "start_time": "2022-02-24T10:16:14.748Z"
   },
   {
    "duration": 53,
    "start_time": "2022-02-24T10:16:14.785Z"
   },
   {
    "duration": 37,
    "start_time": "2022-02-24T10:16:14.840Z"
   },
   {
    "duration": 49,
    "start_time": "2022-02-24T10:16:14.879Z"
   },
   {
    "duration": 13842,
    "start_time": "2022-02-24T10:16:14.930Z"
   },
   {
    "duration": 12462,
    "start_time": "2022-02-24T10:16:28.774Z"
   },
   {
    "duration": 13028,
    "start_time": "2022-02-24T10:16:41.238Z"
   },
   {
    "duration": 7,
    "start_time": "2022-02-24T10:16:54.268Z"
   },
   {
    "duration": 5,
    "start_time": "2022-02-24T10:16:54.276Z"
   },
   {
    "duration": 36,
    "start_time": "2022-02-24T10:16:54.283Z"
   },
   {
    "duration": 33,
    "start_time": "2022-02-24T10:16:54.321Z"
   },
   {
    "duration": 72,
    "start_time": "2022-02-24T10:16:54.356Z"
   },
   {
    "duration": 32,
    "start_time": "2022-02-24T10:16:54.430Z"
   },
   {
    "duration": 57,
    "start_time": "2022-02-24T10:16:54.463Z"
   },
   {
    "duration": 101,
    "start_time": "2022-02-24T10:16:54.523Z"
   },
   {
    "duration": 14,
    "start_time": "2022-02-24T10:16:54.625Z"
   },
   {
    "duration": 9,
    "start_time": "2022-02-24T10:16:54.720Z"
   },
   {
    "duration": 9,
    "start_time": "2022-02-24T10:16:54.820Z"
   },
   {
    "duration": 86,
    "start_time": "2022-02-24T10:16:54.833Z"
   },
   {
    "duration": 103,
    "start_time": "2022-02-24T10:16:54.922Z"
   },
   {
    "duration": 14,
    "start_time": "2022-02-24T10:16:55.027Z"
   },
   {
    "duration": 177,
    "start_time": "2022-02-24T10:16:55.043Z"
   },
   {
    "duration": 3,
    "start_time": "2022-02-24T10:16:55.222Z"
   },
   {
    "duration": 5,
    "start_time": "2022-02-24T10:16:55.227Z"
   },
   {
    "duration": 6,
    "start_time": "2022-02-24T10:16:55.234Z"
   },
   {
    "duration": 9,
    "start_time": "2022-02-24T10:16:55.242Z"
   },
   {
    "duration": 22,
    "start_time": "2022-02-24T10:16:55.252Z"
   },
   {
    "duration": 3,
    "start_time": "2022-02-24T10:16:55.276Z"
   },
   {
    "duration": 43,
    "start_time": "2022-02-24T10:16:55.281Z"
   },
   {
    "duration": 1379,
    "start_time": "2022-02-24T10:16:55.325Z"
   },
   {
    "duration": 1309,
    "start_time": "2022-02-24T10:16:56.705Z"
   },
   {
    "duration": 1368,
    "start_time": "2022-02-24T10:16:58.015Z"
   },
   {
    "duration": 5,
    "start_time": "2022-02-24T10:19:10.425Z"
   },
   {
    "duration": 1378,
    "start_time": "2022-02-24T10:19:12.956Z"
   },
   {
    "duration": 1381,
    "start_time": "2022-02-24T10:19:30.042Z"
   },
   {
    "duration": 3,
    "start_time": "2022-02-24T10:24:03.712Z"
   },
   {
    "duration": 2729,
    "start_time": "2022-02-24T10:24:03.725Z"
   },
   {
    "duration": 440,
    "start_time": "2022-02-24T10:24:06.456Z"
   },
   {
    "duration": 13,
    "start_time": "2022-02-24T10:24:06.898Z"
   },
   {
    "duration": 13,
    "start_time": "2022-02-24T10:24:06.913Z"
   },
   {
    "duration": 10,
    "start_time": "2022-02-24T10:24:06.928Z"
   },
   {
    "duration": 17,
    "start_time": "2022-02-24T10:24:06.939Z"
   },
   {
    "duration": 13,
    "start_time": "2022-02-24T10:24:06.958Z"
   },
   {
    "duration": 12,
    "start_time": "2022-02-24T10:24:06.973Z"
   },
   {
    "duration": 36,
    "start_time": "2022-02-24T10:24:07.021Z"
   },
   {
    "duration": 34,
    "start_time": "2022-02-24T10:24:07.059Z"
   },
   {
    "duration": 54,
    "start_time": "2022-02-24T10:24:07.095Z"
   },
   {
    "duration": 13401,
    "start_time": "2022-02-24T10:24:07.150Z"
   },
   {
    "duration": 12723,
    "start_time": "2022-02-24T10:24:20.553Z"
   },
   {
    "duration": 12977,
    "start_time": "2022-02-24T10:24:33.277Z"
   },
   {
    "duration": 8,
    "start_time": "2022-02-24T10:24:46.256Z"
   },
   {
    "duration": 4,
    "start_time": "2022-02-24T10:24:46.266Z"
   },
   {
    "duration": 5,
    "start_time": "2022-02-24T10:24:46.272Z"
   },
   {
    "duration": 71,
    "start_time": "2022-02-24T10:24:46.279Z"
   },
   {
    "duration": 28,
    "start_time": "2022-02-24T10:24:46.352Z"
   },
   {
    "duration": 66,
    "start_time": "2022-02-24T10:24:46.382Z"
   },
   {
    "duration": 70,
    "start_time": "2022-02-24T10:24:46.450Z"
   },
   {
    "duration": 103,
    "start_time": "2022-02-24T10:24:46.523Z"
   },
   {
    "duration": 15,
    "start_time": "2022-02-24T10:24:46.627Z"
   },
   {
    "duration": 9,
    "start_time": "2022-02-24T10:24:46.719Z"
   },
   {
    "duration": 10,
    "start_time": "2022-02-24T10:24:46.820Z"
   },
   {
    "duration": 42,
    "start_time": "2022-02-24T10:24:46.832Z"
   },
   {
    "duration": 101,
    "start_time": "2022-02-24T10:24:46.924Z"
   },
   {
    "duration": 25,
    "start_time": "2022-02-24T10:24:47.027Z"
   },
   {
    "duration": 172,
    "start_time": "2022-02-24T10:24:47.055Z"
   },
   {
    "duration": 13,
    "start_time": "2022-02-24T10:24:47.228Z"
   },
   {
    "duration": 10,
    "start_time": "2022-02-24T10:24:47.243Z"
   },
   {
    "duration": 5,
    "start_time": "2022-02-24T10:24:47.255Z"
   },
   {
    "duration": 10,
    "start_time": "2022-02-24T10:24:47.262Z"
   },
   {
    "duration": 21,
    "start_time": "2022-02-24T10:24:47.274Z"
   },
   {
    "duration": 23,
    "start_time": "2022-02-24T10:24:47.297Z"
   },
   {
    "duration": 6,
    "start_time": "2022-02-24T10:24:47.322Z"
   },
   {
    "duration": 1398,
    "start_time": "2022-02-24T10:24:47.329Z"
   },
   {
    "duration": 1390,
    "start_time": "2022-02-24T10:24:48.729Z"
   },
   {
    "duration": 1420,
    "start_time": "2022-02-24T10:24:50.121Z"
   },
   {
    "duration": 3,
    "start_time": "2022-02-24T10:27:31.020Z"
   },
   {
    "duration": 2615,
    "start_time": "2022-02-24T10:27:31.025Z"
   },
   {
    "duration": 434,
    "start_time": "2022-02-24T10:27:33.642Z"
   },
   {
    "duration": 13,
    "start_time": "2022-02-24T10:27:34.078Z"
   },
   {
    "duration": 9,
    "start_time": "2022-02-24T10:27:34.093Z"
   },
   {
    "duration": 10,
    "start_time": "2022-02-24T10:27:34.120Z"
   },
   {
    "duration": 17,
    "start_time": "2022-02-24T10:27:34.132Z"
   },
   {
    "duration": 13,
    "start_time": "2022-02-24T10:27:34.152Z"
   },
   {
    "duration": 13,
    "start_time": "2022-02-24T10:27:34.168Z"
   },
   {
    "duration": 69,
    "start_time": "2022-02-24T10:27:34.182Z"
   },
   {
    "duration": 32,
    "start_time": "2022-02-24T10:27:34.253Z"
   },
   {
    "duration": 53,
    "start_time": "2022-02-24T10:27:34.286Z"
   },
   {
    "duration": 13284,
    "start_time": "2022-02-24T10:27:34.341Z"
   },
   {
    "duration": 12536,
    "start_time": "2022-02-24T10:27:47.627Z"
   },
   {
    "duration": 13102,
    "start_time": "2022-02-24T10:28:00.165Z"
   },
   {
    "duration": 10,
    "start_time": "2022-02-24T10:28:13.269Z"
   },
   {
    "duration": 5,
    "start_time": "2022-02-24T10:28:13.281Z"
   },
   {
    "duration": 6,
    "start_time": "2022-02-24T10:28:13.319Z"
   },
   {
    "duration": 40,
    "start_time": "2022-02-24T10:28:13.326Z"
   },
   {
    "duration": 71,
    "start_time": "2022-02-24T10:28:13.368Z"
   },
   {
    "duration": 30,
    "start_time": "2022-02-24T10:28:13.441Z"
   },
   {
    "duration": 52,
    "start_time": "2022-02-24T10:28:13.473Z"
   },
   {
    "duration": 11,
    "start_time": "2022-02-24T10:28:13.619Z"
   },
   {
    "duration": 20,
    "start_time": "2022-02-24T10:28:13.632Z"
   },
   {
    "duration": 73,
    "start_time": "2022-02-24T10:28:13.654Z"
   },
   {
    "duration": 11,
    "start_time": "2022-02-24T10:28:13.819Z"
   },
   {
    "duration": 86,
    "start_time": "2022-02-24T10:28:13.832Z"
   },
   {
    "duration": 99,
    "start_time": "2022-02-24T10:28:13.921Z"
   },
   {
    "duration": 20,
    "start_time": "2022-02-24T10:28:14.022Z"
   },
   {
    "duration": 104,
    "start_time": "2022-02-24T10:28:14.121Z"
   },
   {
    "duration": 3,
    "start_time": "2022-02-24T10:28:14.226Z"
   },
   {
    "duration": 4,
    "start_time": "2022-02-24T10:28:14.231Z"
   },
   {
    "duration": 9,
    "start_time": "2022-02-24T10:28:14.237Z"
   },
   {
    "duration": 11,
    "start_time": "2022-02-24T10:28:14.248Z"
   },
   {
    "duration": 20,
    "start_time": "2022-02-24T10:28:14.261Z"
   },
   {
    "duration": 36,
    "start_time": "2022-02-24T10:28:14.283Z"
   },
   {
    "duration": 6,
    "start_time": "2022-02-24T10:28:14.321Z"
   },
   {
    "duration": 1446,
    "start_time": "2022-02-24T10:28:14.328Z"
   },
   {
    "duration": 1433,
    "start_time": "2022-02-24T10:28:15.775Z"
   },
   {
    "duration": 1576,
    "start_time": "2022-02-24T10:28:17.209Z"
   },
   {
    "duration": 3,
    "start_time": "2022-02-24T10:30:32.127Z"
   },
   {
    "duration": 2596,
    "start_time": "2022-02-24T10:30:32.132Z"
   },
   {
    "duration": 436,
    "start_time": "2022-02-24T10:30:34.730Z"
   },
   {
    "duration": 13,
    "start_time": "2022-02-24T10:30:35.168Z"
   },
   {
    "duration": 8,
    "start_time": "2022-02-24T10:30:35.182Z"
   },
   {
    "duration": 28,
    "start_time": "2022-02-24T10:30:35.192Z"
   },
   {
    "duration": 15,
    "start_time": "2022-02-24T10:30:35.222Z"
   },
   {
    "duration": 12,
    "start_time": "2022-02-24T10:30:35.239Z"
   },
   {
    "duration": 12,
    "start_time": "2022-02-24T10:30:35.254Z"
   },
   {
    "duration": 64,
    "start_time": "2022-02-24T10:30:35.268Z"
   },
   {
    "duration": 33,
    "start_time": "2022-02-24T10:30:35.334Z"
   },
   {
    "duration": 51,
    "start_time": "2022-02-24T10:30:35.369Z"
   },
   {
    "duration": 13273,
    "start_time": "2022-02-24T10:30:35.422Z"
   },
   {
    "duration": 12329,
    "start_time": "2022-02-24T10:30:48.697Z"
   },
   {
    "duration": 13058,
    "start_time": "2022-02-24T10:31:01.028Z"
   },
   {
    "duration": 31,
    "start_time": "2022-02-24T10:31:14.088Z"
   },
   {
    "duration": 6,
    "start_time": "2022-02-24T10:31:14.121Z"
   },
   {
    "duration": 5,
    "start_time": "2022-02-24T10:31:14.129Z"
   },
   {
    "duration": 37,
    "start_time": "2022-02-24T10:31:14.136Z"
   },
   {
    "duration": 75,
    "start_time": "2022-02-24T10:31:14.175Z"
   },
   {
    "duration": 31,
    "start_time": "2022-02-24T10:31:14.251Z"
   },
   {
    "duration": 45,
    "start_time": "2022-02-24T10:31:14.284Z"
   },
   {
    "duration": 99,
    "start_time": "2022-02-24T10:31:14.421Z"
   },
   {
    "duration": 15,
    "start_time": "2022-02-24T10:31:14.523Z"
   },
   {
    "duration": 86,
    "start_time": "2022-02-24T10:31:14.541Z"
   },
   {
    "duration": 95,
    "start_time": "2022-02-24T10:31:14.628Z"
   },
   {
    "duration": 30,
    "start_time": "2022-02-24T10:31:14.726Z"
   },
   {
    "duration": 70,
    "start_time": "2022-02-24T10:31:14.758Z"
   },
   {
    "duration": 101,
    "start_time": "2022-02-24T10:31:14.830Z"
   },
   {
    "duration": 103,
    "start_time": "2022-02-24T10:31:15.020Z"
   },
   {
    "duration": 3,
    "start_time": "2022-02-24T10:31:15.125Z"
   },
   {
    "duration": 8,
    "start_time": "2022-02-24T10:31:15.130Z"
   },
   {
    "duration": 8,
    "start_time": "2022-02-24T10:31:15.139Z"
   },
   {
    "duration": 7,
    "start_time": "2022-02-24T10:31:15.148Z"
   },
   {
    "duration": 21,
    "start_time": "2022-02-24T10:31:15.157Z"
   },
   {
    "duration": 39,
    "start_time": "2022-02-24T10:31:15.180Z"
   },
   {
    "duration": 6,
    "start_time": "2022-02-24T10:31:15.222Z"
   },
   {
    "duration": 1445,
    "start_time": "2022-02-24T10:31:15.230Z"
   },
   {
    "duration": 1352,
    "start_time": "2022-02-24T10:31:16.677Z"
   },
   {
    "duration": 1463,
    "start_time": "2022-02-24T10:31:18.031Z"
   },
   {
    "duration": 4,
    "start_time": "2022-02-24T10:46:16.314Z"
   },
   {
    "duration": 2624,
    "start_time": "2022-02-24T10:46:16.320Z"
   },
   {
    "duration": 642,
    "start_time": "2022-02-24T10:46:18.946Z"
   },
   {
    "duration": 13,
    "start_time": "2022-02-24T10:46:19.590Z"
   },
   {
    "duration": 8,
    "start_time": "2022-02-24T10:46:19.604Z"
   },
   {
    "duration": 8,
    "start_time": "2022-02-24T10:46:19.619Z"
   },
   {
    "duration": 21,
    "start_time": "2022-02-24T10:46:19.628Z"
   },
   {
    "duration": 12,
    "start_time": "2022-02-24T10:46:19.651Z"
   },
   {
    "duration": 21,
    "start_time": "2022-02-24T10:46:19.665Z"
   },
   {
    "duration": 43,
    "start_time": "2022-02-24T10:46:19.688Z"
   },
   {
    "duration": 34,
    "start_time": "2022-02-24T10:46:19.732Z"
   },
   {
    "duration": 61,
    "start_time": "2022-02-24T10:46:19.768Z"
   },
   {
    "duration": 13173,
    "start_time": "2022-02-24T10:46:19.830Z"
   },
   {
    "duration": 12351,
    "start_time": "2022-02-24T10:46:33.005Z"
   },
   {
    "duration": 13001,
    "start_time": "2022-02-24T10:46:45.358Z"
   },
   {
    "duration": 7,
    "start_time": "2022-02-24T10:46:58.361Z"
   },
   {
    "duration": 5,
    "start_time": "2022-02-24T10:46:58.371Z"
   },
   {
    "duration": 5,
    "start_time": "2022-02-24T10:46:58.378Z"
   },
   {
    "duration": 69,
    "start_time": "2022-02-24T10:46:58.384Z"
   },
   {
    "duration": 73,
    "start_time": "2022-02-24T10:46:58.455Z"
   },
   {
    "duration": 36,
    "start_time": "2022-02-24T10:46:58.530Z"
   },
   {
    "duration": 56,
    "start_time": "2022-02-24T10:46:58.568Z"
   },
   {
    "duration": 98,
    "start_time": "2022-02-24T10:46:58.627Z"
   },
   {
    "duration": 17,
    "start_time": "2022-02-24T10:46:58.727Z"
   },
   {
    "duration": 173,
    "start_time": "2022-02-24T10:46:58.746Z"
   },
   {
    "duration": 3,
    "start_time": "2022-02-24T10:46:58.921Z"
   },
   {
    "duration": 7,
    "start_time": "2022-02-24T10:46:58.928Z"
   },
   {
    "duration": 12,
    "start_time": "2022-02-24T10:46:58.937Z"
   },
   {
    "duration": 6,
    "start_time": "2022-02-24T10:46:58.951Z"
   },
   {
    "duration": 63,
    "start_time": "2022-02-24T10:46:58.959Z"
   },
   {
    "duration": 100,
    "start_time": "2022-02-24T10:46:59.025Z"
   },
   {
    "duration": 2,
    "start_time": "2022-02-24T10:46:59.127Z"
   },
   {
    "duration": 7,
    "start_time": "2022-02-24T10:46:59.131Z"
   },
   {
    "duration": 5,
    "start_time": "2022-02-24T10:46:59.140Z"
   },
   {
    "duration": 9,
    "start_time": "2022-02-24T10:46:59.146Z"
   },
   {
    "duration": 24,
    "start_time": "2022-02-24T10:46:59.157Z"
   },
   {
    "duration": 3,
    "start_time": "2022-02-24T10:46:59.219Z"
   },
   {
    "duration": 6,
    "start_time": "2022-02-24T10:46:59.224Z"
   },
   {
    "duration": 1408,
    "start_time": "2022-02-24T10:46:59.231Z"
   },
   {
    "duration": 1449,
    "start_time": "2022-02-24T10:47:00.641Z"
   },
   {
    "duration": 1407,
    "start_time": "2022-02-24T10:47:02.092Z"
   },
   {
    "duration": 2887,
    "start_time": "2022-02-24T11:13:49.547Z"
   },
   {
    "duration": 2629,
    "start_time": "2022-02-24T11:13:52.436Z"
   },
   {
    "duration": 598,
    "start_time": "2022-02-24T11:13:55.067Z"
   },
   {
    "duration": 13,
    "start_time": "2022-02-24T11:13:55.667Z"
   },
   {
    "duration": 11,
    "start_time": "2022-02-24T11:13:55.681Z"
   },
   {
    "duration": 26,
    "start_time": "2022-02-24T11:13:55.694Z"
   },
   {
    "duration": 18,
    "start_time": "2022-02-24T11:13:55.721Z"
   },
   {
    "duration": 13,
    "start_time": "2022-02-24T11:13:55.741Z"
   },
   {
    "duration": 14,
    "start_time": "2022-02-24T11:13:55.756Z"
   },
   {
    "duration": 62,
    "start_time": "2022-02-24T11:13:55.772Z"
   },
   {
    "duration": 35,
    "start_time": "2022-02-24T11:13:55.836Z"
   },
   {
    "duration": 47,
    "start_time": "2022-02-24T11:13:55.873Z"
   },
   {
    "duration": 13154,
    "start_time": "2022-02-24T11:13:55.922Z"
   },
   {
    "duration": 12588,
    "start_time": "2022-02-24T11:14:09.078Z"
   },
   {
    "duration": 12933,
    "start_time": "2022-02-24T11:14:21.668Z"
   },
   {
    "duration": 9,
    "start_time": "2022-02-24T11:14:34.619Z"
   },
   {
    "duration": 4,
    "start_time": "2022-02-24T11:14:34.630Z"
   },
   {
    "duration": 6,
    "start_time": "2022-02-24T11:14:34.636Z"
   },
   {
    "duration": 81,
    "start_time": "2022-02-24T11:14:34.644Z"
   },
   {
    "duration": 31,
    "start_time": "2022-02-24T11:14:34.726Z"
   },
   {
    "duration": 71,
    "start_time": "2022-02-24T11:14:34.759Z"
   },
   {
    "duration": 92,
    "start_time": "2022-02-24T11:14:34.832Z"
   },
   {
    "duration": 100,
    "start_time": "2022-02-24T11:14:34.929Z"
   },
   {
    "duration": 13,
    "start_time": "2022-02-24T11:14:35.032Z"
   },
   {
    "duration": 172,
    "start_time": "2022-02-24T11:14:35.048Z"
   },
   {
    "duration": 17,
    "start_time": "2022-02-24T11:14:35.222Z"
   },
   {
    "duration": 178,
    "start_time": "2022-02-24T11:14:35.241Z"
   },
   {
    "duration": 3,
    "start_time": "2022-02-24T11:14:35.421Z"
   },
   {
    "duration": 6,
    "start_time": "2022-02-24T11:14:35.426Z"
   },
   {
    "duration": 5,
    "start_time": "2022-02-24T11:14:35.434Z"
   },
   {
    "duration": 9,
    "start_time": "2022-02-24T11:14:35.441Z"
   },
   {
    "duration": 22,
    "start_time": "2022-02-24T11:14:35.452Z"
   },
   {
    "duration": 42,
    "start_time": "2022-02-24T11:14:35.477Z"
   },
   {
    "duration": 7,
    "start_time": "2022-02-24T11:14:35.521Z"
   },
   {
    "duration": 1516,
    "start_time": "2022-02-24T11:14:35.530Z"
   },
   {
    "duration": 1421,
    "start_time": "2022-02-24T11:14:37.048Z"
   },
   {
    "duration": 1408,
    "start_time": "2022-02-24T11:14:38.471Z"
   }
  ],
  "kernelspec": {
   "display_name": "Python 3 (ipykernel)",
   "language": "python",
   "name": "python3"
  },
  "language_info": {
   "codemirror_mode": {
    "name": "ipython",
    "version": 3
   },
   "file_extension": ".py",
   "mimetype": "text/x-python",
   "name": "python",
   "nbconvert_exporter": "python",
   "pygments_lexer": "ipython3",
   "version": "3.9.5"
  },
  "toc": {
   "base_numbering": 1,
   "nav_menu": {},
   "number_sections": true,
   "sideBar": true,
   "skip_h1_title": true,
   "title_cell": "Table of Contents",
   "title_sidebar": "Contents",
   "toc_cell": false,
   "toc_position": {
    "height": "calc(100% - 180px)",
    "left": "10px",
    "top": "150px",
    "width": "242.391px"
   },
   "toc_section_display": true,
   "toc_window_display": true
  }
 },
 "nbformat": 4,
 "nbformat_minor": 2
}
