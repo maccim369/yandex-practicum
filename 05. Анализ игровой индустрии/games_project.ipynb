{
 "cells": [
  {
   "cell_type": "markdown",
   "metadata": {},
   "source": [
    "# План работы\n",
    "\n",
    "1. Изучение даных\n",
    "2. Подготовка данных\n",
    "3. Исследовательский анализ\n",
    "4. Сравнение регионов NA/EU/JP\n",
    "5. Гипотезы\n",
    "6. Выводы"
   ]
  },
  {
   "cell_type": "markdown",
   "metadata": {},
   "source": [
    "## Изучение данных из файлов"
   ]
  },
  {
   "cell_type": "markdown",
   "metadata": {},
   "source": [
    "<div style=\"border:solid blue 2px; padding: 20px\">\n",
    "\n",
    "Импортируем библиотеки\n",
    "</div>"
   ]
  },
  {
   "cell_type": "code",
   "execution_count": 1,
   "metadata": {},
   "outputs": [],
   "source": [
    "# импорт библиотек\n",
    "import pandas as pd\n",
    "import copy\n",
    "import matplotlib.pyplot as plt \n",
    "import seaborn as sns\n",
    "from scipy import stats as st\n",
    "import numpy as np\n",
    "import warnings\n",
    "warnings.filterwarnings('ignore')"
   ]
  },
  {
   "cell_type": "markdown",
   "metadata": {},
   "source": [
    "<div style=\"border:solid blue 2px; padding: 20px\">\n",
    "    \n",
    "Методом `read_csv()` прочитаем `users.csv` и сохраним в переменную `data_users`:\n",
    "    \n",
    "</div>"
   ]
  },
  {
   "cell_type": "code",
   "execution_count": 2,
   "metadata": {},
   "outputs": [],
   "source": [
    "# чтение файла с данными и сохранение в data_users\n",
    "# метод try-except поможет загрузить данные локально или глобально\n",
    "try:\n",
    "    df = pd.read_csv('C:/Users/games.csv')  # Локальный путь\n",
    "except:\n",
    "    df = pd.read_csv('/datasets/games.csv')  # Серверный путь"
   ]
  },
  {
   "cell_type": "code",
   "execution_count": 3,
   "metadata": {},
   "outputs": [
    {
     "data": {
      "text/html": [
       "<div>\n",
       "<style scoped>\n",
       "    .dataframe tbody tr th:only-of-type {\n",
       "        vertical-align: middle;\n",
       "    }\n",
       "\n",
       "    .dataframe tbody tr th {\n",
       "        vertical-align: top;\n",
       "    }\n",
       "\n",
       "    .dataframe thead th {\n",
       "        text-align: right;\n",
       "    }\n",
       "</style>\n",
       "<table border=\"1\" class=\"dataframe\">\n",
       "  <thead>\n",
       "    <tr style=\"text-align: right;\">\n",
       "      <th></th>\n",
       "      <th>Name</th>\n",
       "      <th>Platform</th>\n",
       "      <th>Year_of_Release</th>\n",
       "      <th>Genre</th>\n",
       "      <th>NA_sales</th>\n",
       "      <th>EU_sales</th>\n",
       "      <th>JP_sales</th>\n",
       "      <th>Other_sales</th>\n",
       "      <th>Critic_Score</th>\n",
       "      <th>User_Score</th>\n",
       "      <th>Rating</th>\n",
       "    </tr>\n",
       "  </thead>\n",
       "  <tbody>\n",
       "    <tr>\n",
       "      <td>2422</td>\n",
       "      <td>Guitar Hero: Warriors of Rock</td>\n",
       "      <td>X360</td>\n",
       "      <td>2010.0</td>\n",
       "      <td>Misc</td>\n",
       "      <td>0.47</td>\n",
       "      <td>0.31</td>\n",
       "      <td>0.00</td>\n",
       "      <td>0.08</td>\n",
       "      <td>72.0</td>\n",
       "      <td>6.5</td>\n",
       "      <td>T</td>\n",
       "    </tr>\n",
       "    <tr>\n",
       "      <td>10189</td>\n",
       "      <td>Karaoke Revolution Presents American Idol Encore</td>\n",
       "      <td>X360</td>\n",
       "      <td>2008.0</td>\n",
       "      <td>Misc</td>\n",
       "      <td>0.10</td>\n",
       "      <td>0.00</td>\n",
       "      <td>0.00</td>\n",
       "      <td>0.01</td>\n",
       "      <td>70.0</td>\n",
       "      <td>7</td>\n",
       "      <td>E</td>\n",
       "    </tr>\n",
       "    <tr>\n",
       "      <td>16014</td>\n",
       "      <td>Robopon 2: Ring Version</td>\n",
       "      <td>GBA</td>\n",
       "      <td>2001.0</td>\n",
       "      <td>Role-Playing</td>\n",
       "      <td>0.01</td>\n",
       "      <td>0.00</td>\n",
       "      <td>0.00</td>\n",
       "      <td>0.00</td>\n",
       "      <td>68.0</td>\n",
       "      <td>tbd</td>\n",
       "      <td>E</td>\n",
       "    </tr>\n",
       "    <tr>\n",
       "      <td>4125</td>\n",
       "      <td>World of Outlaws: Sprint Cars 2002</td>\n",
       "      <td>PS2</td>\n",
       "      <td>2002.0</td>\n",
       "      <td>Racing</td>\n",
       "      <td>0.23</td>\n",
       "      <td>0.18</td>\n",
       "      <td>0.00</td>\n",
       "      <td>0.06</td>\n",
       "      <td>80.0</td>\n",
       "      <td>9.1</td>\n",
       "      <td>E</td>\n",
       "    </tr>\n",
       "    <tr>\n",
       "      <td>987</td>\n",
       "      <td>Dead or Alive 3</td>\n",
       "      <td>XB</td>\n",
       "      <td>2001.0</td>\n",
       "      <td>Fighting</td>\n",
       "      <td>1.19</td>\n",
       "      <td>0.29</td>\n",
       "      <td>0.24</td>\n",
       "      <td>0.06</td>\n",
       "      <td>87.0</td>\n",
       "      <td>8.6</td>\n",
       "      <td>T</td>\n",
       "    </tr>\n",
       "  </tbody>\n",
       "</table>\n",
       "</div>"
      ],
      "text/plain": [
       "                                                   Name Platform  \\\n",
       "2422                      Guitar Hero: Warriors of Rock     X360   \n",
       "10189  Karaoke Revolution Presents American Idol Encore     X360   \n",
       "16014                           Robopon 2: Ring Version      GBA   \n",
       "4125                 World of Outlaws: Sprint Cars 2002      PS2   \n",
       "987                                     Dead or Alive 3       XB   \n",
       "\n",
       "       Year_of_Release         Genre  NA_sales  EU_sales  JP_sales  \\\n",
       "2422            2010.0          Misc      0.47      0.31      0.00   \n",
       "10189           2008.0          Misc      0.10      0.00      0.00   \n",
       "16014           2001.0  Role-Playing      0.01      0.00      0.00   \n",
       "4125            2002.0        Racing      0.23      0.18      0.00   \n",
       "987             2001.0      Fighting      1.19      0.29      0.24   \n",
       "\n",
       "       Other_sales  Critic_Score User_Score Rating  \n",
       "2422          0.08          72.0        6.5      T  \n",
       "10189         0.01          70.0          7      E  \n",
       "16014         0.00          68.0        tbd      E  \n",
       "4125          0.06          80.0        9.1      E  \n",
       "987           0.06          87.0        8.6      T  "
      ]
     },
     "execution_count": 3,
     "metadata": {},
     "output_type": "execute_result"
    }
   ],
   "source": [
    "# получение случайных 5 строк таблицы\n",
    "df.sample(5)"
   ]
  },
  {
   "cell_type": "markdown",
   "metadata": {},
   "source": [
    "<div style=\"border:solid blue 2px; padding: 20px\">\n",
    "    \n",
    "`head()` выводим на экран первые пять строк таблицы:\n",
    "    </div>"
   ]
  },
  {
   "cell_type": "code",
   "execution_count": 4,
   "metadata": {},
   "outputs": [
    {
     "data": {
      "text/html": [
       "<div>\n",
       "<style scoped>\n",
       "    .dataframe tbody tr th:only-of-type {\n",
       "        vertical-align: middle;\n",
       "    }\n",
       "\n",
       "    .dataframe tbody tr th {\n",
       "        vertical-align: top;\n",
       "    }\n",
       "\n",
       "    .dataframe thead th {\n",
       "        text-align: right;\n",
       "    }\n",
       "</style>\n",
       "<table border=\"1\" class=\"dataframe\">\n",
       "  <thead>\n",
       "    <tr style=\"text-align: right;\">\n",
       "      <th></th>\n",
       "      <th>Name</th>\n",
       "      <th>Platform</th>\n",
       "      <th>Year_of_Release</th>\n",
       "      <th>Genre</th>\n",
       "      <th>NA_sales</th>\n",
       "      <th>EU_sales</th>\n",
       "      <th>JP_sales</th>\n",
       "      <th>Other_sales</th>\n",
       "      <th>Critic_Score</th>\n",
       "      <th>User_Score</th>\n",
       "      <th>Rating</th>\n",
       "    </tr>\n",
       "  </thead>\n",
       "  <tbody>\n",
       "    <tr>\n",
       "      <td>0</td>\n",
       "      <td>Wii Sports</td>\n",
       "      <td>Wii</td>\n",
       "      <td>2006.0</td>\n",
       "      <td>Sports</td>\n",
       "      <td>41.36</td>\n",
       "      <td>28.96</td>\n",
       "      <td>3.77</td>\n",
       "      <td>8.45</td>\n",
       "      <td>76.0</td>\n",
       "      <td>8</td>\n",
       "      <td>E</td>\n",
       "    </tr>\n",
       "    <tr>\n",
       "      <td>1</td>\n",
       "      <td>Super Mario Bros.</td>\n",
       "      <td>NES</td>\n",
       "      <td>1985.0</td>\n",
       "      <td>Platform</td>\n",
       "      <td>29.08</td>\n",
       "      <td>3.58</td>\n",
       "      <td>6.81</td>\n",
       "      <td>0.77</td>\n",
       "      <td>NaN</td>\n",
       "      <td>NaN</td>\n",
       "      <td>NaN</td>\n",
       "    </tr>\n",
       "    <tr>\n",
       "      <td>2</td>\n",
       "      <td>Mario Kart Wii</td>\n",
       "      <td>Wii</td>\n",
       "      <td>2008.0</td>\n",
       "      <td>Racing</td>\n",
       "      <td>15.68</td>\n",
       "      <td>12.76</td>\n",
       "      <td>3.79</td>\n",
       "      <td>3.29</td>\n",
       "      <td>82.0</td>\n",
       "      <td>8.3</td>\n",
       "      <td>E</td>\n",
       "    </tr>\n",
       "    <tr>\n",
       "      <td>3</td>\n",
       "      <td>Wii Sports Resort</td>\n",
       "      <td>Wii</td>\n",
       "      <td>2009.0</td>\n",
       "      <td>Sports</td>\n",
       "      <td>15.61</td>\n",
       "      <td>10.93</td>\n",
       "      <td>3.28</td>\n",
       "      <td>2.95</td>\n",
       "      <td>80.0</td>\n",
       "      <td>8</td>\n",
       "      <td>E</td>\n",
       "    </tr>\n",
       "    <tr>\n",
       "      <td>4</td>\n",
       "      <td>Pokemon Red/Pokemon Blue</td>\n",
       "      <td>GB</td>\n",
       "      <td>1996.0</td>\n",
       "      <td>Role-Playing</td>\n",
       "      <td>11.27</td>\n",
       "      <td>8.89</td>\n",
       "      <td>10.22</td>\n",
       "      <td>1.00</td>\n",
       "      <td>NaN</td>\n",
       "      <td>NaN</td>\n",
       "      <td>NaN</td>\n",
       "    </tr>\n",
       "  </tbody>\n",
       "</table>\n",
       "</div>"
      ],
      "text/plain": [
       "                       Name Platform  Year_of_Release         Genre  NA_sales  \\\n",
       "0                Wii Sports      Wii           2006.0        Sports     41.36   \n",
       "1         Super Mario Bros.      NES           1985.0      Platform     29.08   \n",
       "2            Mario Kart Wii      Wii           2008.0        Racing     15.68   \n",
       "3         Wii Sports Resort      Wii           2009.0        Sports     15.61   \n",
       "4  Pokemon Red/Pokemon Blue       GB           1996.0  Role-Playing     11.27   \n",
       "\n",
       "   EU_sales  JP_sales  Other_sales  Critic_Score User_Score Rating  \n",
       "0     28.96      3.77         8.45          76.0          8      E  \n",
       "1      3.58      6.81         0.77           NaN        NaN    NaN  \n",
       "2     12.76      3.79         3.29          82.0        8.3      E  \n",
       "3     10.93      3.28         2.95          80.0          8      E  \n",
       "4      8.89     10.22         1.00           NaN        NaN    NaN  "
      ]
     },
     "execution_count": 4,
     "metadata": {},
     "output_type": "execute_result"
    }
   ],
   "source": [
    "# получение первых 5 строк таблицы\n",
    "df.head()"
   ]
  },
  {
   "cell_type": "markdown",
   "metadata": {},
   "source": [
    "<div style=\"border:solid blue 2px; padding: 20px\">\n",
    "    \n",
    "`info()` получим общую информацию о таблице:\n",
    "    </div>"
   ]
  },
  {
   "cell_type": "code",
   "execution_count": 5,
   "metadata": {
    "scrolled": true
   },
   "outputs": [
    {
     "name": "stdout",
     "output_type": "stream",
     "text": [
      "<class 'pandas.core.frame.DataFrame'>\n",
      "RangeIndex: 16715 entries, 0 to 16714\n",
      "Data columns (total 11 columns):\n",
      "Name               16713 non-null object\n",
      "Platform           16715 non-null object\n",
      "Year_of_Release    16446 non-null float64\n",
      "Genre              16713 non-null object\n",
      "NA_sales           16715 non-null float64\n",
      "EU_sales           16715 non-null float64\n",
      "JP_sales           16715 non-null float64\n",
      "Other_sales        16715 non-null float64\n",
      "Critic_Score       8137 non-null float64\n",
      "User_Score         10014 non-null object\n",
      "Rating             9949 non-null object\n",
      "dtypes: float64(6), object(5)\n",
      "memory usage: 1.4+ MB\n"
     ]
    }
   ],
   "source": [
    "# получение общей информации о данных в таблице\n",
    "df.info()"
   ]
  },
  {
   "cell_type": "markdown",
   "metadata": {},
   "source": [
    "<div style=\"border:solid blue 2px; padding: 20px\">\n",
    "    \n",
    " \n",
    "Методом `describe()` получим описание данных\n",
    "    \n",
    "    \n",
    "</div> "
   ]
  },
  {
   "cell_type": "code",
   "execution_count": 6,
   "metadata": {},
   "outputs": [
    {
     "data": {
      "text/html": [
       "<div>\n",
       "<style scoped>\n",
       "    .dataframe tbody tr th:only-of-type {\n",
       "        vertical-align: middle;\n",
       "    }\n",
       "\n",
       "    .dataframe tbody tr th {\n",
       "        vertical-align: top;\n",
       "    }\n",
       "\n",
       "    .dataframe thead th {\n",
       "        text-align: right;\n",
       "    }\n",
       "</style>\n",
       "<table border=\"1\" class=\"dataframe\">\n",
       "  <thead>\n",
       "    <tr style=\"text-align: right;\">\n",
       "      <th></th>\n",
       "      <th>Year_of_Release</th>\n",
       "      <th>NA_sales</th>\n",
       "      <th>EU_sales</th>\n",
       "      <th>JP_sales</th>\n",
       "      <th>Other_sales</th>\n",
       "      <th>Critic_Score</th>\n",
       "    </tr>\n",
       "  </thead>\n",
       "  <tbody>\n",
       "    <tr>\n",
       "      <td>count</td>\n",
       "      <td>16446.000000</td>\n",
       "      <td>16715.000000</td>\n",
       "      <td>16715.000000</td>\n",
       "      <td>16715.000000</td>\n",
       "      <td>16715.000000</td>\n",
       "      <td>8137.000000</td>\n",
       "    </tr>\n",
       "    <tr>\n",
       "      <td>mean</td>\n",
       "      <td>2006.484616</td>\n",
       "      <td>0.263377</td>\n",
       "      <td>0.145060</td>\n",
       "      <td>0.077617</td>\n",
       "      <td>0.047342</td>\n",
       "      <td>68.967679</td>\n",
       "    </tr>\n",
       "    <tr>\n",
       "      <td>std</td>\n",
       "      <td>5.877050</td>\n",
       "      <td>0.813604</td>\n",
       "      <td>0.503339</td>\n",
       "      <td>0.308853</td>\n",
       "      <td>0.186731</td>\n",
       "      <td>13.938165</td>\n",
       "    </tr>\n",
       "    <tr>\n",
       "      <td>min</td>\n",
       "      <td>1980.000000</td>\n",
       "      <td>0.000000</td>\n",
       "      <td>0.000000</td>\n",
       "      <td>0.000000</td>\n",
       "      <td>0.000000</td>\n",
       "      <td>13.000000</td>\n",
       "    </tr>\n",
       "    <tr>\n",
       "      <td>25%</td>\n",
       "      <td>2003.000000</td>\n",
       "      <td>0.000000</td>\n",
       "      <td>0.000000</td>\n",
       "      <td>0.000000</td>\n",
       "      <td>0.000000</td>\n",
       "      <td>60.000000</td>\n",
       "    </tr>\n",
       "    <tr>\n",
       "      <td>50%</td>\n",
       "      <td>2007.000000</td>\n",
       "      <td>0.080000</td>\n",
       "      <td>0.020000</td>\n",
       "      <td>0.000000</td>\n",
       "      <td>0.010000</td>\n",
       "      <td>71.000000</td>\n",
       "    </tr>\n",
       "    <tr>\n",
       "      <td>75%</td>\n",
       "      <td>2010.000000</td>\n",
       "      <td>0.240000</td>\n",
       "      <td>0.110000</td>\n",
       "      <td>0.040000</td>\n",
       "      <td>0.030000</td>\n",
       "      <td>79.000000</td>\n",
       "    </tr>\n",
       "    <tr>\n",
       "      <td>max</td>\n",
       "      <td>2016.000000</td>\n",
       "      <td>41.360000</td>\n",
       "      <td>28.960000</td>\n",
       "      <td>10.220000</td>\n",
       "      <td>10.570000</td>\n",
       "      <td>98.000000</td>\n",
       "    </tr>\n",
       "  </tbody>\n",
       "</table>\n",
       "</div>"
      ],
      "text/plain": [
       "       Year_of_Release      NA_sales      EU_sales      JP_sales  \\\n",
       "count     16446.000000  16715.000000  16715.000000  16715.000000   \n",
       "mean       2006.484616      0.263377      0.145060      0.077617   \n",
       "std           5.877050      0.813604      0.503339      0.308853   \n",
       "min        1980.000000      0.000000      0.000000      0.000000   \n",
       "25%        2003.000000      0.000000      0.000000      0.000000   \n",
       "50%        2007.000000      0.080000      0.020000      0.000000   \n",
       "75%        2010.000000      0.240000      0.110000      0.040000   \n",
       "max        2016.000000     41.360000     28.960000     10.220000   \n",
       "\n",
       "        Other_sales  Critic_Score  \n",
       "count  16715.000000   8137.000000  \n",
       "mean       0.047342     68.967679  \n",
       "std        0.186731     13.938165  \n",
       "min        0.000000     13.000000  \n",
       "25%        0.000000     60.000000  \n",
       "50%        0.010000     71.000000  \n",
       "75%        0.030000     79.000000  \n",
       "max       10.570000     98.000000  "
      ]
     },
     "execution_count": 6,
     "metadata": {},
     "output_type": "execute_result"
    }
   ],
   "source": [
    "# описание данных\n",
    "df.describe()"
   ]
  },
  {
   "cell_type": "markdown",
   "metadata": {},
   "source": [
    "<div style=\"border:solid blue 2px; padding: 20px\">\n",
    "\n",
    "    \n",
    "Создадим функцию с именем `show(df)` c параметром `df`,\n",
    "    \n",
    "в теле функции циклом проходим по всем колонкам.    \n",
    "    \n",
    "Методом `unique()` получаем уеикальные значения всех колонок и  \n",
    "    \n",
    "`value_counts()` смотрим на количество каждого признака .\n",
    "        \n",
    "    \n",
    "</div> "
   ]
  },
  {
   "cell_type": "code",
   "execution_count": 7,
   "metadata": {},
   "outputs": [],
   "source": [
    "# функция для вывода информации по признакам\n",
    "def show(df):\n",
    "    for column in df.columns:\n",
    "        print('Список уникальных', column)\n",
    "        print()\n",
    "        print(df[column].unique())\n",
    "        print()\n",
    "        print(df[column].value_counts())\n",
    "        print()\n",
    "        display(df[df[column].isna()])\n",
    "        print()"
   ]
  },
  {
   "cell_type": "code",
   "execution_count": 8,
   "metadata": {
    "scrolled": false
   },
   "outputs": [
    {
     "name": "stdout",
     "output_type": "stream",
     "text": [
      "Список уникальных Name\n",
      "\n",
      "['Wii Sports' 'Super Mario Bros.' 'Mario Kart Wii' ...\n",
      " 'Woody Woodpecker in Crazy Castle 5' 'LMA Manager 2007'\n",
      " 'Haitaka no Psychedelica']\n",
      "\n",
      "Need for Speed: Most Wanted                         12\n",
      "LEGO Marvel Super Heroes                             9\n",
      "Madden NFL 07                                        9\n",
      "FIFA 14                                              9\n",
      "Ratatouille                                          9\n",
      "                                                    ..\n",
      "Fatal Frame II: Crimson Butterfly Director's Cut     1\n",
      "DJ Star                                              1\n",
      "Uncharted: The Nathan Drake Collection               1\n",
      "Rocket: Robot on Wheels                              1\n",
      "Star Wars: Empire at War                             1\n",
      "Name: Name, Length: 11559, dtype: int64\n",
      "\n"
     ]
    },
    {
     "data": {
      "text/html": [
       "<div>\n",
       "<style scoped>\n",
       "    .dataframe tbody tr th:only-of-type {\n",
       "        vertical-align: middle;\n",
       "    }\n",
       "\n",
       "    .dataframe tbody tr th {\n",
       "        vertical-align: top;\n",
       "    }\n",
       "\n",
       "    .dataframe thead th {\n",
       "        text-align: right;\n",
       "    }\n",
       "</style>\n",
       "<table border=\"1\" class=\"dataframe\">\n",
       "  <thead>\n",
       "    <tr style=\"text-align: right;\">\n",
       "      <th></th>\n",
       "      <th>Name</th>\n",
       "      <th>Platform</th>\n",
       "      <th>Year_of_Release</th>\n",
       "      <th>Genre</th>\n",
       "      <th>NA_sales</th>\n",
       "      <th>EU_sales</th>\n",
       "      <th>JP_sales</th>\n",
       "      <th>Other_sales</th>\n",
       "      <th>Critic_Score</th>\n",
       "      <th>User_Score</th>\n",
       "      <th>Rating</th>\n",
       "    </tr>\n",
       "  </thead>\n",
       "  <tbody>\n",
       "    <tr>\n",
       "      <td>659</td>\n",
       "      <td>NaN</td>\n",
       "      <td>GEN</td>\n",
       "      <td>1993.0</td>\n",
       "      <td>NaN</td>\n",
       "      <td>1.78</td>\n",
       "      <td>0.53</td>\n",
       "      <td>0.00</td>\n",
       "      <td>0.08</td>\n",
       "      <td>NaN</td>\n",
       "      <td>NaN</td>\n",
       "      <td>NaN</td>\n",
       "    </tr>\n",
       "    <tr>\n",
       "      <td>14244</td>\n",
       "      <td>NaN</td>\n",
       "      <td>GEN</td>\n",
       "      <td>1993.0</td>\n",
       "      <td>NaN</td>\n",
       "      <td>0.00</td>\n",
       "      <td>0.00</td>\n",
       "      <td>0.03</td>\n",
       "      <td>0.00</td>\n",
       "      <td>NaN</td>\n",
       "      <td>NaN</td>\n",
       "      <td>NaN</td>\n",
       "    </tr>\n",
       "  </tbody>\n",
       "</table>\n",
       "</div>"
      ],
      "text/plain": [
       "      Name Platform  Year_of_Release Genre  NA_sales  EU_sales  JP_sales  \\\n",
       "659    NaN      GEN           1993.0   NaN      1.78      0.53      0.00   \n",
       "14244  NaN      GEN           1993.0   NaN      0.00      0.00      0.03   \n",
       "\n",
       "       Other_sales  Critic_Score User_Score Rating  \n",
       "659           0.08           NaN        NaN    NaN  \n",
       "14244         0.00           NaN        NaN    NaN  "
      ]
     },
     "metadata": {},
     "output_type": "display_data"
    },
    {
     "name": "stdout",
     "output_type": "stream",
     "text": [
      "\n",
      "Список уникальных Platform\n",
      "\n",
      "['Wii' 'NES' 'GB' 'DS' 'X360' 'PS3' 'PS2' 'SNES' 'GBA' 'PS4' '3DS' 'N64'\n",
      " 'PS' 'XB' 'PC' '2600' 'PSP' 'XOne' 'WiiU' 'GC' 'GEN' 'DC' 'PSV' 'SAT'\n",
      " 'SCD' 'WS' 'NG' 'TG16' '3DO' 'GG' 'PCFX']\n",
      "\n",
      "PS2     2161\n",
      "DS      2151\n",
      "PS3     1331\n",
      "Wii     1320\n",
      "X360    1262\n",
      "PSP     1209\n",
      "PS      1197\n",
      "PC       974\n",
      "XB       824\n",
      "GBA      822\n",
      "GC       556\n",
      "3DS      520\n",
      "PSV      430\n",
      "PS4      392\n",
      "N64      319\n",
      "XOne     247\n",
      "SNES     239\n",
      "SAT      173\n",
      "WiiU     147\n",
      "2600     133\n",
      "GB        98\n",
      "NES       98\n",
      "DC        52\n",
      "GEN       29\n",
      "NG        12\n",
      "WS         6\n",
      "SCD        6\n",
      "3DO        3\n",
      "TG16       2\n",
      "PCFX       1\n",
      "GG         1\n",
      "Name: Platform, dtype: int64\n",
      "\n"
     ]
    },
    {
     "data": {
      "text/html": [
       "<div>\n",
       "<style scoped>\n",
       "    .dataframe tbody tr th:only-of-type {\n",
       "        vertical-align: middle;\n",
       "    }\n",
       "\n",
       "    .dataframe tbody tr th {\n",
       "        vertical-align: top;\n",
       "    }\n",
       "\n",
       "    .dataframe thead th {\n",
       "        text-align: right;\n",
       "    }\n",
       "</style>\n",
       "<table border=\"1\" class=\"dataframe\">\n",
       "  <thead>\n",
       "    <tr style=\"text-align: right;\">\n",
       "      <th></th>\n",
       "      <th>Name</th>\n",
       "      <th>Platform</th>\n",
       "      <th>Year_of_Release</th>\n",
       "      <th>Genre</th>\n",
       "      <th>NA_sales</th>\n",
       "      <th>EU_sales</th>\n",
       "      <th>JP_sales</th>\n",
       "      <th>Other_sales</th>\n",
       "      <th>Critic_Score</th>\n",
       "      <th>User_Score</th>\n",
       "      <th>Rating</th>\n",
       "    </tr>\n",
       "  </thead>\n",
       "  <tbody>\n",
       "  </tbody>\n",
       "</table>\n",
       "</div>"
      ],
      "text/plain": [
       "Empty DataFrame\n",
       "Columns: [Name, Platform, Year_of_Release, Genre, NA_sales, EU_sales, JP_sales, Other_sales, Critic_Score, User_Score, Rating]\n",
       "Index: []"
      ]
     },
     "metadata": {},
     "output_type": "display_data"
    },
    {
     "name": "stdout",
     "output_type": "stream",
     "text": [
      "\n",
      "Список уникальных Year_of_Release\n",
      "\n",
      "[2006. 1985. 2008. 2009. 1996. 1989. 1984. 2005. 1999. 2007. 2010. 2013.\n",
      " 2004. 1990. 1988. 2002. 2001. 2011. 1998. 2015. 2012. 2014. 1992. 1997.\n",
      " 1993. 1994. 1982. 2016. 2003. 1986. 2000.   nan 1995. 1991. 1981. 1987.\n",
      " 1980. 1983.]\n",
      "\n",
      "2008.0    1427\n",
      "2009.0    1426\n",
      "2010.0    1255\n",
      "2007.0    1197\n",
      "2011.0    1136\n",
      "2006.0    1006\n",
      "2005.0     939\n",
      "2002.0     829\n",
      "2003.0     775\n",
      "2004.0     762\n",
      "2012.0     653\n",
      "2015.0     606\n",
      "2014.0     581\n",
      "2013.0     544\n",
      "2016.0     502\n",
      "2001.0     482\n",
      "1998.0     379\n",
      "2000.0     350\n",
      "1999.0     338\n",
      "1997.0     289\n",
      "1996.0     263\n",
      "1995.0     219\n",
      "1994.0     121\n",
      "1993.0      62\n",
      "1981.0      46\n",
      "1992.0      43\n",
      "1991.0      41\n",
      "1982.0      36\n",
      "1986.0      21\n",
      "1989.0      17\n",
      "1983.0      17\n",
      "1990.0      16\n",
      "1987.0      16\n",
      "1988.0      15\n",
      "1985.0      14\n",
      "1984.0      14\n",
      "1980.0       9\n",
      "Name: Year_of_Release, dtype: int64\n",
      "\n"
     ]
    },
    {
     "data": {
      "text/html": [
       "<div>\n",
       "<style scoped>\n",
       "    .dataframe tbody tr th:only-of-type {\n",
       "        vertical-align: middle;\n",
       "    }\n",
       "\n",
       "    .dataframe tbody tr th {\n",
       "        vertical-align: top;\n",
       "    }\n",
       "\n",
       "    .dataframe thead th {\n",
       "        text-align: right;\n",
       "    }\n",
       "</style>\n",
       "<table border=\"1\" class=\"dataframe\">\n",
       "  <thead>\n",
       "    <tr style=\"text-align: right;\">\n",
       "      <th></th>\n",
       "      <th>Name</th>\n",
       "      <th>Platform</th>\n",
       "      <th>Year_of_Release</th>\n",
       "      <th>Genre</th>\n",
       "      <th>NA_sales</th>\n",
       "      <th>EU_sales</th>\n",
       "      <th>JP_sales</th>\n",
       "      <th>Other_sales</th>\n",
       "      <th>Critic_Score</th>\n",
       "      <th>User_Score</th>\n",
       "      <th>Rating</th>\n",
       "    </tr>\n",
       "  </thead>\n",
       "  <tbody>\n",
       "    <tr>\n",
       "      <td>183</td>\n",
       "      <td>Madden NFL 2004</td>\n",
       "      <td>PS2</td>\n",
       "      <td>NaN</td>\n",
       "      <td>Sports</td>\n",
       "      <td>4.26</td>\n",
       "      <td>0.26</td>\n",
       "      <td>0.01</td>\n",
       "      <td>0.71</td>\n",
       "      <td>94.0</td>\n",
       "      <td>8.5</td>\n",
       "      <td>E</td>\n",
       "    </tr>\n",
       "    <tr>\n",
       "      <td>377</td>\n",
       "      <td>FIFA Soccer 2004</td>\n",
       "      <td>PS2</td>\n",
       "      <td>NaN</td>\n",
       "      <td>Sports</td>\n",
       "      <td>0.59</td>\n",
       "      <td>2.36</td>\n",
       "      <td>0.04</td>\n",
       "      <td>0.51</td>\n",
       "      <td>84.0</td>\n",
       "      <td>6.4</td>\n",
       "      <td>E</td>\n",
       "    </tr>\n",
       "    <tr>\n",
       "      <td>456</td>\n",
       "      <td>LEGO Batman: The Videogame</td>\n",
       "      <td>Wii</td>\n",
       "      <td>NaN</td>\n",
       "      <td>Action</td>\n",
       "      <td>1.80</td>\n",
       "      <td>0.97</td>\n",
       "      <td>0.00</td>\n",
       "      <td>0.29</td>\n",
       "      <td>74.0</td>\n",
       "      <td>7.9</td>\n",
       "      <td>E10+</td>\n",
       "    </tr>\n",
       "    <tr>\n",
       "      <td>475</td>\n",
       "      <td>wwe Smackdown vs. Raw 2006</td>\n",
       "      <td>PS2</td>\n",
       "      <td>NaN</td>\n",
       "      <td>Fighting</td>\n",
       "      <td>1.57</td>\n",
       "      <td>1.02</td>\n",
       "      <td>0.00</td>\n",
       "      <td>0.41</td>\n",
       "      <td>NaN</td>\n",
       "      <td>NaN</td>\n",
       "      <td>NaN</td>\n",
       "    </tr>\n",
       "    <tr>\n",
       "      <td>609</td>\n",
       "      <td>Space Invaders</td>\n",
       "      <td>2600</td>\n",
       "      <td>NaN</td>\n",
       "      <td>Shooter</td>\n",
       "      <td>2.36</td>\n",
       "      <td>0.14</td>\n",
       "      <td>0.00</td>\n",
       "      <td>0.03</td>\n",
       "      <td>NaN</td>\n",
       "      <td>NaN</td>\n",
       "      <td>NaN</td>\n",
       "    </tr>\n",
       "    <tr>\n",
       "      <td>...</td>\n",
       "      <td>...</td>\n",
       "      <td>...</td>\n",
       "      <td>...</td>\n",
       "      <td>...</td>\n",
       "      <td>...</td>\n",
       "      <td>...</td>\n",
       "      <td>...</td>\n",
       "      <td>...</td>\n",
       "      <td>...</td>\n",
       "      <td>...</td>\n",
       "      <td>...</td>\n",
       "    </tr>\n",
       "    <tr>\n",
       "      <td>16373</td>\n",
       "      <td>PDC World Championship Darts 2008</td>\n",
       "      <td>PSP</td>\n",
       "      <td>NaN</td>\n",
       "      <td>Sports</td>\n",
       "      <td>0.01</td>\n",
       "      <td>0.00</td>\n",
       "      <td>0.00</td>\n",
       "      <td>0.00</td>\n",
       "      <td>43.0</td>\n",
       "      <td>tbd</td>\n",
       "      <td>E10+</td>\n",
       "    </tr>\n",
       "    <tr>\n",
       "      <td>16405</td>\n",
       "      <td>Freaky Flyers</td>\n",
       "      <td>GC</td>\n",
       "      <td>NaN</td>\n",
       "      <td>Racing</td>\n",
       "      <td>0.01</td>\n",
       "      <td>0.00</td>\n",
       "      <td>0.00</td>\n",
       "      <td>0.00</td>\n",
       "      <td>69.0</td>\n",
       "      <td>6.5</td>\n",
       "      <td>T</td>\n",
       "    </tr>\n",
       "    <tr>\n",
       "      <td>16448</td>\n",
       "      <td>Inversion</td>\n",
       "      <td>PC</td>\n",
       "      <td>NaN</td>\n",
       "      <td>Shooter</td>\n",
       "      <td>0.01</td>\n",
       "      <td>0.00</td>\n",
       "      <td>0.00</td>\n",
       "      <td>0.00</td>\n",
       "      <td>59.0</td>\n",
       "      <td>6.7</td>\n",
       "      <td>M</td>\n",
       "    </tr>\n",
       "    <tr>\n",
       "      <td>16458</td>\n",
       "      <td>Hakuouki: Shinsengumi Kitan</td>\n",
       "      <td>PS3</td>\n",
       "      <td>NaN</td>\n",
       "      <td>Adventure</td>\n",
       "      <td>0.01</td>\n",
       "      <td>0.00</td>\n",
       "      <td>0.00</td>\n",
       "      <td>0.00</td>\n",
       "      <td>NaN</td>\n",
       "      <td>NaN</td>\n",
       "      <td>NaN</td>\n",
       "    </tr>\n",
       "    <tr>\n",
       "      <td>16522</td>\n",
       "      <td>Virtua Quest</td>\n",
       "      <td>GC</td>\n",
       "      <td>NaN</td>\n",
       "      <td>Role-Playing</td>\n",
       "      <td>0.01</td>\n",
       "      <td>0.00</td>\n",
       "      <td>0.00</td>\n",
       "      <td>0.00</td>\n",
       "      <td>55.0</td>\n",
       "      <td>5.5</td>\n",
       "      <td>T</td>\n",
       "    </tr>\n",
       "  </tbody>\n",
       "</table>\n",
       "<p>269 rows × 11 columns</p>\n",
       "</div>"
      ],
      "text/plain": [
       "                                    Name Platform  Year_of_Release  \\\n",
       "183                      Madden NFL 2004      PS2              NaN   \n",
       "377                     FIFA Soccer 2004      PS2              NaN   \n",
       "456           LEGO Batman: The Videogame      Wii              NaN   \n",
       "475           wwe Smackdown vs. Raw 2006      PS2              NaN   \n",
       "609                       Space Invaders     2600              NaN   \n",
       "...                                  ...      ...              ...   \n",
       "16373  PDC World Championship Darts 2008      PSP              NaN   \n",
       "16405                      Freaky Flyers       GC              NaN   \n",
       "16448                          Inversion       PC              NaN   \n",
       "16458        Hakuouki: Shinsengumi Kitan      PS3              NaN   \n",
       "16522                       Virtua Quest       GC              NaN   \n",
       "\n",
       "              Genre  NA_sales  EU_sales  JP_sales  Other_sales  Critic_Score  \\\n",
       "183          Sports      4.26      0.26      0.01         0.71          94.0   \n",
       "377          Sports      0.59      2.36      0.04         0.51          84.0   \n",
       "456          Action      1.80      0.97      0.00         0.29          74.0   \n",
       "475        Fighting      1.57      1.02      0.00         0.41           NaN   \n",
       "609         Shooter      2.36      0.14      0.00         0.03           NaN   \n",
       "...             ...       ...       ...       ...          ...           ...   \n",
       "16373        Sports      0.01      0.00      0.00         0.00          43.0   \n",
       "16405        Racing      0.01      0.00      0.00         0.00          69.0   \n",
       "16448       Shooter      0.01      0.00      0.00         0.00          59.0   \n",
       "16458     Adventure      0.01      0.00      0.00         0.00           NaN   \n",
       "16522  Role-Playing      0.01      0.00      0.00         0.00          55.0   \n",
       "\n",
       "      User_Score Rating  \n",
       "183          8.5      E  \n",
       "377          6.4      E  \n",
       "456          7.9   E10+  \n",
       "475          NaN    NaN  \n",
       "609          NaN    NaN  \n",
       "...          ...    ...  \n",
       "16373        tbd   E10+  \n",
       "16405        6.5      T  \n",
       "16448        6.7      M  \n",
       "16458        NaN    NaN  \n",
       "16522        5.5      T  \n",
       "\n",
       "[269 rows x 11 columns]"
      ]
     },
     "metadata": {},
     "output_type": "display_data"
    },
    {
     "name": "stdout",
     "output_type": "stream",
     "text": [
      "\n",
      "Список уникальных Genre\n",
      "\n",
      "['Sports' 'Platform' 'Racing' 'Role-Playing' 'Puzzle' 'Misc' 'Shooter'\n",
      " 'Simulation' 'Action' 'Fighting' 'Adventure' 'Strategy' nan]\n",
      "\n",
      "Action          3369\n",
      "Sports          2348\n",
      "Misc            1750\n",
      "Role-Playing    1498\n",
      "Shooter         1323\n",
      "Adventure       1303\n",
      "Racing          1249\n",
      "Platform         888\n",
      "Simulation       873\n",
      "Fighting         849\n",
      "Strategy         683\n",
      "Puzzle           580\n",
      "Name: Genre, dtype: int64\n",
      "\n"
     ]
    },
    {
     "data": {
      "text/html": [
       "<div>\n",
       "<style scoped>\n",
       "    .dataframe tbody tr th:only-of-type {\n",
       "        vertical-align: middle;\n",
       "    }\n",
       "\n",
       "    .dataframe tbody tr th {\n",
       "        vertical-align: top;\n",
       "    }\n",
       "\n",
       "    .dataframe thead th {\n",
       "        text-align: right;\n",
       "    }\n",
       "</style>\n",
       "<table border=\"1\" class=\"dataframe\">\n",
       "  <thead>\n",
       "    <tr style=\"text-align: right;\">\n",
       "      <th></th>\n",
       "      <th>Name</th>\n",
       "      <th>Platform</th>\n",
       "      <th>Year_of_Release</th>\n",
       "      <th>Genre</th>\n",
       "      <th>NA_sales</th>\n",
       "      <th>EU_sales</th>\n",
       "      <th>JP_sales</th>\n",
       "      <th>Other_sales</th>\n",
       "      <th>Critic_Score</th>\n",
       "      <th>User_Score</th>\n",
       "      <th>Rating</th>\n",
       "    </tr>\n",
       "  </thead>\n",
       "  <tbody>\n",
       "    <tr>\n",
       "      <td>659</td>\n",
       "      <td>NaN</td>\n",
       "      <td>GEN</td>\n",
       "      <td>1993.0</td>\n",
       "      <td>NaN</td>\n",
       "      <td>1.78</td>\n",
       "      <td>0.53</td>\n",
       "      <td>0.00</td>\n",
       "      <td>0.08</td>\n",
       "      <td>NaN</td>\n",
       "      <td>NaN</td>\n",
       "      <td>NaN</td>\n",
       "    </tr>\n",
       "    <tr>\n",
       "      <td>14244</td>\n",
       "      <td>NaN</td>\n",
       "      <td>GEN</td>\n",
       "      <td>1993.0</td>\n",
       "      <td>NaN</td>\n",
       "      <td>0.00</td>\n",
       "      <td>0.00</td>\n",
       "      <td>0.03</td>\n",
       "      <td>0.00</td>\n",
       "      <td>NaN</td>\n",
       "      <td>NaN</td>\n",
       "      <td>NaN</td>\n",
       "    </tr>\n",
       "  </tbody>\n",
       "</table>\n",
       "</div>"
      ],
      "text/plain": [
       "      Name Platform  Year_of_Release Genre  NA_sales  EU_sales  JP_sales  \\\n",
       "659    NaN      GEN           1993.0   NaN      1.78      0.53      0.00   \n",
       "14244  NaN      GEN           1993.0   NaN      0.00      0.00      0.03   \n",
       "\n",
       "       Other_sales  Critic_Score User_Score Rating  \n",
       "659           0.08           NaN        NaN    NaN  \n",
       "14244         0.00           NaN        NaN    NaN  "
      ]
     },
     "metadata": {},
     "output_type": "display_data"
    },
    {
     "name": "stdout",
     "output_type": "stream",
     "text": [
      "\n",
      "Список уникальных NA_sales\n",
      "\n",
      "[4.136e+01 2.908e+01 1.568e+01 1.561e+01 1.127e+01 2.320e+01 1.128e+01\n",
      " 1.396e+01 1.444e+01 2.693e+01 9.050e+00 9.710e+00 9.000e+00 8.920e+00\n",
      " 1.500e+01 9.010e+00 7.020e+00 9.430e+00 1.278e+01 4.740e+00 6.380e+00\n",
      " 1.083e+01 9.540e+00 9.660e+00 8.410e+00 6.060e+00 3.430e+00 5.510e+00\n",
      " 6.850e+00 9.040e+00 5.890e+00 6.030e+00 9.700e+00 5.280e+00 4.990e+00\n",
      " 8.250e+00 8.520e+00 5.540e+00 6.990e+00 6.620e+00 5.030e+00 5.990e+00\n",
      " 3.960e+00 2.500e+00 7.970e+00 6.910e+00 4.340e+00 4.350e+00 3.010e+00\n",
      " 6.160e+00 6.760e+00 4.020e+00 4.890e+00 2.960e+00 4.760e+00 5.010e+00\n",
      " 6.730e+00 5.950e+00 3.660e+00 5.550e+00 7.040e+00 6.650e+00 3.880e+00\n",
      " 5.800e+00 4.100e+00 5.930e+00 4.360e+00 5.700e+00 2.030e+00 4.400e+00\n",
      " 5.050e+00 3.540e+00 1.120e+00 6.820e+00 1.750e+00 3.740e+00 1.060e+00\n",
      " 2.790e+00 2.910e+00 9.900e-01 2.570e+00 2.990e+00 2.280e+00 7.280e+00\n",
      " 2.760e+00 2.900e+00 2.810e+00 6.600e-01 3.780e+00 3.270e+00 3.560e+00\n",
      " 5.390e+00 4.590e+00 4.810e+00 4.460e+00 3.480e+00 2.850e+00 2.530e+00\n",
      " 2.980e+00 3.680e+00 3.150e+00 4.410e+00 4.120e+00 2.710e+00 2.930e+00\n",
      " 3.230e+00 4.050e+00 4.150e+00 2.770e+00 3.450e+00 3.110e+00 8.400e-01\n",
      " 1.660e+00 7.800e-01 2.640e+00 3.170e+00 4.980e+00 2.550e+00 3.640e+00\n",
      " 3.700e+00 4.010e+00 2.470e+00 8.000e-02 3.920e+00 8.000e-01 2.450e+00\n",
      " 4.470e+00 3.180e+00 2.630e+00 1.880e+00 2.410e+00 2.800e+00 6.300e-01\n",
      " 2.260e+00 2.490e+00 3.570e+00 3.070e+00 2.970e+00 2.950e+00 2.540e+00\n",
      " 3.280e+00 3.140e+00 4.700e-01 2.620e+00 3.210e+00 2.070e+00 2.730e+00\n",
      " 1.850e+00 2.180e+00 1.740e+00 3.020e+00 1.620e+00 3.130e+00 1.920e+00\n",
      " 3.330e+00 3.220e+00 2.300e+00 4.260e+00 9.700e-01 6.500e-01 1.210e+00\n",
      " 1.090e+00 2.100e+00 2.440e+00 1.980e+00 3.810e+00 3.590e+00 1.630e+00\n",
      " 1.960e+00 3.400e+00 6.100e-01 2.050e+00 1.700e+00 3.420e+00 3.360e+00\n",
      " 3.490e+00 3.050e+00 1.830e+00 2.310e+00 3.980e+00 0.000e+00 2.600e+00\n",
      " 1.910e+00 2.740e+00 2.830e+00 2.360e+00 1.730e+00 1.940e+00 2.290e+00\n",
      " 1.820e+00 2.420e+00 3.040e+00 1.800e+00 2.080e+00 1.870e+00 4.180e+00\n",
      " 3.190e+00 4.210e+00 3.630e+00 2.780e+00 2.000e-01 1.610e+00 1.540e+00\n",
      " 2.520e+00 2.660e+00 1.000e-01 2.820e+00 2.190e+00 1.560e+00 3.030e+00\n",
      " 2.200e+00 2.090e+00 2.110e+00 1.480e+00 4.000e+00 5.800e-01 2.510e+00\n",
      " 3.000e+00 2.240e+00 1.460e+00 1.410e+00 9.200e-01 8.800e-01 1.280e+00\n",
      " 2.250e+00 3.380e+00 2.040e+00 3.790e+00 4.030e+00 1.650e+00 7.100e-01\n",
      " 1.420e+00 1.100e+00 2.320e+00 1.200e-01 2.350e+00 2.120e+00 1.400e+00\n",
      " 1.680e+00 1.130e+00 1.220e+00 2.670e+00 1.020e+00 1.190e+00 1.530e+00\n",
      " 2.150e+00 9.000e-01 1.970e+00 6.800e-01 1.160e+00 9.300e-01 1.440e+00\n",
      " 1.600e-01 2.130e+00 2.210e+00 1.780e+00 8.600e-01 1.350e+00 1.050e+00\n",
      " 2.230e+00 2.400e+00 1.370e+00 1.300e+00 1.950e+00 1.930e+00 1.330e+00\n",
      " 1.490e+00 1.580e+00 5.000e-02 6.000e-01 2.020e+00 2.380e+00 1.600e+00\n",
      " 2.010e+00 1.570e+00 1.230e+00 1.900e+00 2.140e+00 1.170e+00 2.270e+00\n",
      " 1.640e+00 5.900e-01 1.550e+00 4.600e-01 8.100e-01 1.450e+00 2.700e-01\n",
      " 1.470e+00 1.990e+00 1.500e+00 9.000e-02 2.610e+00 1.890e+00 5.000e-01\n",
      " 8.900e-01 9.500e-01 2.340e+00 7.200e-01 1.720e+00 1.180e+00 1.760e+00\n",
      " 7.300e-01 1.270e+00 2.060e+00 5.500e-01 1.520e+00 1.690e+00 2.170e+00\n",
      " 5.100e-01 1.000e+00 1.290e+00 1.380e+00 1.150e+00 1.670e+00 1.360e+00\n",
      " 1.010e+00 1.040e+00 1.840e+00 2.220e+00 7.900e-01 1.510e+00 1.070e+00\n",
      " 1.320e+00 1.590e+00 2.000e-02 2.900e-01 1.250e+00 2.560e+00 1.430e+00\n",
      " 1.200e+00 4.100e-01 2.800e-01 4.300e-01 6.900e-01 2.000e+00 7.600e-01\n",
      " 1.860e+00 4.800e-01 6.200e-01 1.310e+00 3.700e-01 1.500e-01 6.400e-01\n",
      " 2.600e-01 4.900e-01 1.110e+00 1.300e-01 1.810e+00 1.030e+00 1.260e+00\n",
      " 8.700e-01 7.700e-01 9.600e-01 1.390e+00 1.080e+00 8.500e-01 9.100e-01\n",
      " 3.000e-01 3.800e-01 9.400e-01 7.000e-02 1.340e+00 1.240e+00 3.400e-01\n",
      " 1.400e-01 1.000e-02 5.200e-01 8.200e-01 8.300e-01 1.100e-01 2.500e-01\n",
      " 1.770e+00 3.600e-01 7.500e-01 7.400e-01 1.800e-01 2.200e-01 5.300e-01\n",
      " 4.200e-01 3.200e-01 3.900e-01 2.400e-01 2.300e-01 6.000e-02 4.500e-01\n",
      " 7.000e-01 6.700e-01 3.500e-01 5.600e-01 1.140e+00 9.800e-01 5.700e-01\n",
      " 5.400e-01 4.000e-02 1.700e-01 4.400e-01 3.000e-02 3.300e-01 3.100e-01\n",
      " 4.000e-01 2.100e-01 1.900e-01]\n",
      "\n",
      "0.00    4508\n",
      "0.02     576\n",
      "0.03     561\n",
      "0.04     549\n",
      "0.01     545\n",
      "        ... \n",
      "4.98       1\n",
      "4.21       1\n",
      "6.82       1\n",
      "5.05       1\n",
      "9.00       1\n",
      "Name: NA_sales, Length: 402, dtype: int64\n",
      "\n"
     ]
    },
    {
     "data": {
      "text/html": [
       "<div>\n",
       "<style scoped>\n",
       "    .dataframe tbody tr th:only-of-type {\n",
       "        vertical-align: middle;\n",
       "    }\n",
       "\n",
       "    .dataframe tbody tr th {\n",
       "        vertical-align: top;\n",
       "    }\n",
       "\n",
       "    .dataframe thead th {\n",
       "        text-align: right;\n",
       "    }\n",
       "</style>\n",
       "<table border=\"1\" class=\"dataframe\">\n",
       "  <thead>\n",
       "    <tr style=\"text-align: right;\">\n",
       "      <th></th>\n",
       "      <th>Name</th>\n",
       "      <th>Platform</th>\n",
       "      <th>Year_of_Release</th>\n",
       "      <th>Genre</th>\n",
       "      <th>NA_sales</th>\n",
       "      <th>EU_sales</th>\n",
       "      <th>JP_sales</th>\n",
       "      <th>Other_sales</th>\n",
       "      <th>Critic_Score</th>\n",
       "      <th>User_Score</th>\n",
       "      <th>Rating</th>\n",
       "    </tr>\n",
       "  </thead>\n",
       "  <tbody>\n",
       "  </tbody>\n",
       "</table>\n",
       "</div>"
      ],
      "text/plain": [
       "Empty DataFrame\n",
       "Columns: [Name, Platform, Year_of_Release, Genre, NA_sales, EU_sales, JP_sales, Other_sales, Critic_Score, User_Score, Rating]\n",
       "Index: []"
      ]
     },
     "metadata": {},
     "output_type": "display_data"
    },
    {
     "name": "stdout",
     "output_type": "stream",
     "text": [
      "\n",
      "Список уникальных EU_sales\n",
      "\n",
      "[2.896e+01 3.580e+00 1.276e+01 1.093e+01 8.890e+00 2.260e+00 9.140e+00\n",
      " 9.180e+00 6.940e+00 6.300e-01 1.095e+01 7.470e+00 6.180e+00 8.030e+00\n",
      " 4.890e+00 8.490e+00 9.090e+00 4.000e-01 3.750e+00 9.200e+00 4.460e+00\n",
      " 2.710e+00 3.440e+00 5.140e+00 5.490e+00 3.900e+00 5.350e+00 3.170e+00\n",
      " 5.090e+00 4.240e+00 5.040e+00 5.860e+00 3.680e+00 4.190e+00 5.730e+00\n",
      " 3.590e+00 4.510e+00 2.550e+00 4.020e+00 4.370e+00 6.310e+00 3.450e+00\n",
      " 2.810e+00 2.850e+00 3.490e+00 1.000e-02 3.350e+00 2.040e+00 3.070e+00\n",
      " 3.870e+00 3.000e+00 4.820e+00 3.640e+00 2.150e+00 3.690e+00 2.650e+00\n",
      " 2.560e+00 3.110e+00 3.140e+00 1.940e+00 1.950e+00 2.470e+00 2.280e+00\n",
      " 3.420e+00 3.630e+00 2.360e+00 1.710e+00 1.850e+00 2.790e+00 1.240e+00\n",
      " 6.120e+00 1.530e+00 3.470e+00 2.240e+00 5.010e+00 2.010e+00 1.720e+00\n",
      " 2.070e+00 6.420e+00 3.860e+00 4.500e-01 3.480e+00 1.890e+00 5.750e+00\n",
      " 2.170e+00 1.370e+00 2.350e+00 1.180e+00 2.110e+00 1.880e+00 2.830e+00\n",
      " 2.990e+00 2.890e+00 3.270e+00 2.220e+00 2.140e+00 1.450e+00 1.750e+00\n",
      " 1.040e+00 1.770e+00 3.020e+00 2.750e+00 2.160e+00 1.900e+00 2.590e+00\n",
      " 2.200e+00 4.300e+00 9.300e-01 2.530e+00 2.520e+00 1.790e+00 1.300e+00\n",
      " 2.600e+00 1.580e+00 1.200e+00 1.560e+00 1.340e+00 1.260e+00 8.300e-01\n",
      " 6.210e+00 2.800e+00 1.590e+00 1.730e+00 4.330e+00 1.830e+00 0.000e+00\n",
      " 2.180e+00 1.980e+00 1.470e+00 6.700e-01 1.550e+00 1.910e+00 6.900e-01\n",
      " 6.000e-01 1.930e+00 1.640e+00 5.500e-01 2.190e+00 1.110e+00 2.290e+00\n",
      " 2.500e+00 9.600e-01 1.210e+00 1.120e+00 7.700e-01 1.690e+00 1.080e+00\n",
      " 7.900e-01 2.370e+00 2.460e+00 2.600e-01 7.500e-01 1.250e+00 2.430e+00\n",
      " 9.800e-01 7.400e-01 2.230e+00 6.100e-01 2.450e+00 1.410e+00 1.800e+00\n",
      " 3.280e+00 1.160e+00 1.990e+00 1.380e+00 1.360e+00 1.170e+00 1.190e+00\n",
      " 9.900e-01 1.680e+00 2.000e+00 1.330e+00 1.570e+00 1.480e+00 2.100e+00\n",
      " 1.270e+00 1.970e+00 9.100e-01 1.390e+00 1.960e+00 2.400e-01 1.510e+00\n",
      " 1.400e-01 1.290e+00 2.390e+00 1.030e+00 5.000e-01 5.800e-01 1.310e+00\n",
      " 2.020e+00 1.320e+00 1.010e+00 2.270e+00 2.300e+00 1.820e+00 2.780e+00\n",
      " 4.400e-01 4.800e-01 2.700e-01 2.100e-01 2.480e+00 5.100e-01 1.520e+00\n",
      " 4.000e-02 2.800e-01 1.350e+00 8.700e-01 2.130e+00 1.130e+00 1.760e+00\n",
      " 7.600e-01 2.120e+00 6.600e-01 1.600e+00 1.440e+00 1.430e+00 1.700e+00\n",
      " 4.700e-01 1.870e+00 8.600e-01 7.300e-01 1.280e+00 8.100e-01 1.090e+00\n",
      " 6.800e-01 1.220e+00 1.400e+00 1.020e+00 1.490e+00 1.140e+00 4.900e-01\n",
      " 9.000e-01 3.800e-01 1.420e+00 9.500e-01 1.620e+00 7.100e-01 1.050e+00\n",
      " 9.200e-01 3.300e-01 3.000e-01 1.670e+00 1.000e+00 8.900e-01 1.000e-01\n",
      " 7.200e-01 5.900e-01 5.600e-01 1.600e-01 9.700e-01 6.200e-01 8.500e-01\n",
      " 9.400e-01 8.800e-01 8.400e-01 1.060e+00 2.000e-01 1.150e+00 8.000e-01\n",
      " 1.100e+00 7.000e-01 1.920e+00 3.200e-01 1.500e-01 5.300e-01 9.000e-02\n",
      " 1.460e+00 2.900e-01 2.200e-01 1.230e+00 7.000e-02 1.700e-01 5.400e-01\n",
      " 3.600e-01 3.100e-01 1.840e+00 5.200e-01 1.100e-01 6.400e-01 1.200e-01\n",
      " 2.050e+00 1.630e+00 8.200e-01 8.000e-02 5.700e-01 1.650e+00 1.900e-01\n",
      " 2.000e-02 4.300e-01 2.500e-01 1.500e+00 1.800e-01 3.900e-01 1.300e-01\n",
      " 1.070e+00 4.600e-01 4.100e-01 6.000e-02 3.000e-02 3.700e-01 5.000e-02\n",
      " 2.300e-01 6.500e-01 4.200e-01 3.400e-01 3.500e-01 7.800e-01]\n",
      "\n",
      "0.00    5870\n",
      "0.01    1494\n",
      "0.02    1308\n",
      "0.03     926\n",
      "0.04     709\n",
      "        ... \n",
      "3.59       1\n",
      "4.02       1\n",
      "2.24       1\n",
      "2.27       1\n",
      "3.75       1\n",
      "Name: EU_sales, Length: 307, dtype: int64\n",
      "\n"
     ]
    },
    {
     "data": {
      "text/html": [
       "<div>\n",
       "<style scoped>\n",
       "    .dataframe tbody tr th:only-of-type {\n",
       "        vertical-align: middle;\n",
       "    }\n",
       "\n",
       "    .dataframe tbody tr th {\n",
       "        vertical-align: top;\n",
       "    }\n",
       "\n",
       "    .dataframe thead th {\n",
       "        text-align: right;\n",
       "    }\n",
       "</style>\n",
       "<table border=\"1\" class=\"dataframe\">\n",
       "  <thead>\n",
       "    <tr style=\"text-align: right;\">\n",
       "      <th></th>\n",
       "      <th>Name</th>\n",
       "      <th>Platform</th>\n",
       "      <th>Year_of_Release</th>\n",
       "      <th>Genre</th>\n",
       "      <th>NA_sales</th>\n",
       "      <th>EU_sales</th>\n",
       "      <th>JP_sales</th>\n",
       "      <th>Other_sales</th>\n",
       "      <th>Critic_Score</th>\n",
       "      <th>User_Score</th>\n",
       "      <th>Rating</th>\n",
       "    </tr>\n",
       "  </thead>\n",
       "  <tbody>\n",
       "  </tbody>\n",
       "</table>\n",
       "</div>"
      ],
      "text/plain": [
       "Empty DataFrame\n",
       "Columns: [Name, Platform, Year_of_Release, Genre, NA_sales, EU_sales, JP_sales, Other_sales, Critic_Score, User_Score, Rating]\n",
       "Index: []"
      ]
     },
     "metadata": {},
     "output_type": "display_data"
    },
    {
     "name": "stdout",
     "output_type": "stream",
     "text": [
      "\n",
      "Список уникальных JP_sales\n",
      "\n",
      "[3.770e+00 6.810e+00 3.790e+00 3.280e+00 1.022e+01 4.220e+00 6.500e+00\n",
      " 2.930e+00 4.700e+00 2.800e-01 1.930e+00 4.130e+00 7.200e+00 3.600e+00\n",
      " 2.400e-01 2.530e+00 9.800e-01 4.100e-01 3.540e+00 4.160e+00 6.040e+00\n",
      " 4.180e+00 3.840e+00 6.000e-02 4.700e-01 5.380e+00 5.320e+00 5.650e+00\n",
      " 1.870e+00 1.300e-01 3.120e+00 3.600e-01 1.100e-01 4.350e+00 6.500e-01\n",
      " 7.000e-02 8.000e-02 4.900e-01 3.000e-01 2.660e+00 2.690e+00 4.800e-01\n",
      " 3.800e-01 5.330e+00 1.910e+00 3.960e+00 3.100e+00 1.100e+00 1.200e+00\n",
      " 1.400e-01 2.540e+00 2.140e+00 8.100e-01 2.120e+00 4.400e-01 3.150e+00\n",
      " 1.250e+00 4.000e-02 0.000e+00 2.470e+00 2.230e+00 1.690e+00 1.000e-02\n",
      " 3.000e+00 2.000e-02 4.390e+00 1.980e+00 1.000e-01 3.810e+00 5.000e-02\n",
      " 2.490e+00 1.580e+00 3.140e+00 2.730e+00 6.600e-01 2.200e-01 3.630e+00\n",
      " 1.450e+00 1.310e+00 2.430e+00 7.000e-01 3.500e-01 1.400e+00 6.000e-01\n",
      " 2.260e+00 1.420e+00 1.280e+00 1.390e+00 8.700e-01 1.700e-01 9.400e-01\n",
      " 1.900e-01 2.100e-01 1.600e+00 1.600e-01 1.030e+00 2.500e-01 2.060e+00\n",
      " 1.490e+00 1.290e+00 9.000e-02 2.870e+00 3.000e-02 7.800e-01 8.300e-01\n",
      " 2.330e+00 2.020e+00 1.360e+00 1.810e+00 1.970e+00 9.100e-01 9.900e-01\n",
      " 9.500e-01 2.000e+00 1.010e+00 2.780e+00 2.110e+00 1.090e+00 2.000e-01\n",
      " 1.900e+00 1.270e+00 3.610e+00 1.570e+00 2.200e+00 1.700e+00 1.080e+00\n",
      " 1.500e-01 1.110e+00 2.900e-01 1.540e+00 1.200e-01 8.900e-01 4.870e+00\n",
      " 1.520e+00 1.320e+00 1.150e+00 4.100e+00 1.460e+00 4.600e-01 1.050e+00\n",
      " 1.610e+00 2.600e-01 1.380e+00 6.200e-01 7.300e-01 5.700e-01 3.100e-01\n",
      " 5.800e-01 1.760e+00 2.100e+00 9.000e-01 5.100e-01 6.400e-01 2.460e+00\n",
      " 2.300e-01 3.700e-01 9.200e-01 1.070e+00 2.620e+00 1.120e+00 5.400e-01\n",
      " 2.700e-01 5.900e-01 3.670e+00 5.500e-01 1.750e+00 3.440e+00 3.300e-01\n",
      " 2.550e+00 2.320e+00 2.790e+00 7.400e-01 3.180e+00 8.200e-01 7.700e-01\n",
      " 4.000e-01 2.350e+00 3.190e+00 8.000e-01 7.600e-01 3.030e+00 8.800e-01\n",
      " 4.500e-01 1.160e+00 3.400e-01 1.190e+00 1.130e+00 2.130e+00 1.960e+00\n",
      " 7.100e-01 1.040e+00 2.680e+00 6.800e-01 2.650e+00 9.600e-01 2.410e+00\n",
      " 5.200e-01 1.800e-01 1.340e+00 1.480e+00 2.340e+00 1.060e+00 1.210e+00\n",
      " 2.290e+00 1.630e+00 2.050e+00 2.170e+00 1.560e+00 1.350e+00 1.330e+00\n",
      " 6.300e-01 7.900e-01 7.500e-01 5.300e-01 1.530e+00 1.300e+00 3.900e-01\n",
      " 6.900e-01 4.200e-01 9.300e-01 5.600e-01 8.400e-01 7.200e-01 3.200e-01\n",
      " 1.710e+00 1.650e+00 6.100e-01 1.510e+00 1.500e+00 1.440e+00 1.240e+00\n",
      " 1.180e+00 1.370e+00 1.000e+00 1.260e+00 8.500e-01 4.300e-01 6.700e-01\n",
      " 1.140e+00 8.600e-01 1.170e+00 5.000e-01 1.020e+00 9.700e-01]\n",
      "\n",
      "0.00    10514\n",
      "0.02      741\n",
      "0.01      706\n",
      "0.03      546\n",
      "0.04      397\n",
      "        ...  \n",
      "1.16        1\n",
      "2.12        1\n",
      "7.20        1\n",
      "2.17        1\n",
      "6.50        1\n",
      "Name: JP_sales, Length: 244, dtype: int64\n",
      "\n"
     ]
    },
    {
     "data": {
      "text/html": [
       "<div>\n",
       "<style scoped>\n",
       "    .dataframe tbody tr th:only-of-type {\n",
       "        vertical-align: middle;\n",
       "    }\n",
       "\n",
       "    .dataframe tbody tr th {\n",
       "        vertical-align: top;\n",
       "    }\n",
       "\n",
       "    .dataframe thead th {\n",
       "        text-align: right;\n",
       "    }\n",
       "</style>\n",
       "<table border=\"1\" class=\"dataframe\">\n",
       "  <thead>\n",
       "    <tr style=\"text-align: right;\">\n",
       "      <th></th>\n",
       "      <th>Name</th>\n",
       "      <th>Platform</th>\n",
       "      <th>Year_of_Release</th>\n",
       "      <th>Genre</th>\n",
       "      <th>NA_sales</th>\n",
       "      <th>EU_sales</th>\n",
       "      <th>JP_sales</th>\n",
       "      <th>Other_sales</th>\n",
       "      <th>Critic_Score</th>\n",
       "      <th>User_Score</th>\n",
       "      <th>Rating</th>\n",
       "    </tr>\n",
       "  </thead>\n",
       "  <tbody>\n",
       "  </tbody>\n",
       "</table>\n",
       "</div>"
      ],
      "text/plain": [
       "Empty DataFrame\n",
       "Columns: [Name, Platform, Year_of_Release, Genre, NA_sales, EU_sales, JP_sales, Other_sales, Critic_Score, User_Score, Rating]\n",
       "Index: []"
      ]
     },
     "metadata": {},
     "output_type": "display_data"
    },
    {
     "name": "stdout",
     "output_type": "stream",
     "text": [
      "\n",
      "Список уникальных Other_sales\n",
      "\n",
      "[8.450e+00 7.700e-01 3.290e+00 2.950e+00 1.000e+00 5.800e-01 2.880e+00\n",
      " 2.840e+00 2.240e+00 4.700e-01 2.740e+00 1.900e+00 7.100e-01 2.150e+00\n",
      " 1.690e+00 1.770e+00 3.960e+00 1.057e+01 5.500e-01 2.040e+00 1.360e+00\n",
      " 4.200e-01 4.600e-01 1.410e+00 1.780e+00 5.000e-01 1.180e+00 8.000e-01\n",
      " 1.160e+00 1.320e+00 5.900e-01 2.380e+00 1.130e+00 7.800e-01 2.420e+00\n",
      " 1.120e+00 1.280e+00 1.570e+00 1.300e+00 1.010e+00 9.100e-01 1.790e+00\n",
      " 1.970e+00 8.600e-01 1.210e+00 2.300e-01 7.600e-01 7.400e-01 7.530e+00\n",
      " 2.900e-01 1.030e+00 5.200e-01 2.110e+00 1.600e+00 1.610e+00 3.500e-01\n",
      " 9.700e-01 1.060e+00 6.300e-01 1.500e-01 7.900e-01 9.600e-01 1.250e+00\n",
      " 9.000e-01 8.100e-01 3.900e-01 6.800e-01 8.500e-01 1.800e-01 8.000e-02\n",
      " 6.700e-01 7.000e-01 4.100e-01 3.300e-01 6.000e-01 5.400e-01 1.730e+00\n",
      " 1.230e+00 1.600e-01 1.110e+00 3.100e-01 4.800e-01 6.200e-01 1.900e-01\n",
      " 6.900e-01 1.020e+00 7.300e-01 1.080e+00 4.500e-01 2.800e-01 5.100e-01\n",
      " 2.200e-01 1.090e+00 9.900e-01 3.000e-01 6.400e-01 6.600e-01 9.800e-01\n",
      " 1.390e+00 1.400e-01 1.370e+00 7.000e-02 2.100e-01 6.100e-01 1.700e-01\n",
      " 1.200e-01 0.000e+00 7.200e-01 2.400e-01 8.200e-01 1.740e+00 8.700e-01\n",
      " 9.200e-01 5.700e-01 1.100e-01 4.000e-02 5.600e-01 2.000e-01 3.400e-01\n",
      " 9.000e-02 8.300e-01 4.400e-01 6.000e-02 3.200e-01 3.800e-01 1.480e+00\n",
      " 3.700e-01 1.000e-01 2.500e-01 3.600e-01 1.300e-01 4.300e-01 5.000e-02\n",
      " 2.000e-02 2.600e-01 4.000e-01 7.500e-01 1.930e+00 8.400e-01 5.300e-01\n",
      " 8.900e-01 1.670e+00 2.700e-01 2.930e+00 4.900e-01 1.000e-02 2.460e+00\n",
      " 3.000e-02 1.510e+00 2.050e+00 1.680e+00 1.820e+00 1.330e+00 9.400e-01\n",
      " 9.300e-01]\n",
      "\n",
      "0.00    6601\n",
      "0.01    3464\n",
      "0.02    1618\n",
      "0.03     926\n",
      "0.04     654\n",
      "        ... \n",
      "0.96       1\n",
      "1.93       1\n",
      "0.97       1\n",
      "1.37       1\n",
      "1.06       1\n",
      "Name: Other_sales, Length: 155, dtype: int64\n",
      "\n"
     ]
    },
    {
     "data": {
      "text/html": [
       "<div>\n",
       "<style scoped>\n",
       "    .dataframe tbody tr th:only-of-type {\n",
       "        vertical-align: middle;\n",
       "    }\n",
       "\n",
       "    .dataframe tbody tr th {\n",
       "        vertical-align: top;\n",
       "    }\n",
       "\n",
       "    .dataframe thead th {\n",
       "        text-align: right;\n",
       "    }\n",
       "</style>\n",
       "<table border=\"1\" class=\"dataframe\">\n",
       "  <thead>\n",
       "    <tr style=\"text-align: right;\">\n",
       "      <th></th>\n",
       "      <th>Name</th>\n",
       "      <th>Platform</th>\n",
       "      <th>Year_of_Release</th>\n",
       "      <th>Genre</th>\n",
       "      <th>NA_sales</th>\n",
       "      <th>EU_sales</th>\n",
       "      <th>JP_sales</th>\n",
       "      <th>Other_sales</th>\n",
       "      <th>Critic_Score</th>\n",
       "      <th>User_Score</th>\n",
       "      <th>Rating</th>\n",
       "    </tr>\n",
       "  </thead>\n",
       "  <tbody>\n",
       "  </tbody>\n",
       "</table>\n",
       "</div>"
      ],
      "text/plain": [
       "Empty DataFrame\n",
       "Columns: [Name, Platform, Year_of_Release, Genre, NA_sales, EU_sales, JP_sales, Other_sales, Critic_Score, User_Score, Rating]\n",
       "Index: []"
      ]
     },
     "metadata": {},
     "output_type": "display_data"
    },
    {
     "name": "stdout",
     "output_type": "stream",
     "text": [
      "\n",
      "Список уникальных Critic_Score\n",
      "\n",
      "[76. nan 82. 80. 89. 58. 87. 91. 61. 97. 95. 77. 88. 83. 94. 93. 85. 86.\n",
      " 98. 96. 90. 84. 73. 74. 78. 92. 71. 72. 68. 62. 49. 67. 81. 66. 56. 79.\n",
      " 70. 59. 64. 75. 60. 63. 69. 50. 25. 42. 44. 55. 48. 57. 29. 47. 65. 54.\n",
      " 20. 53. 37. 38. 33. 52. 30. 32. 43. 45. 51. 40. 46. 39. 34. 35. 41. 36.\n",
      " 28. 31. 27. 26. 19. 23. 24. 21. 17. 22. 13.]\n",
      "\n",
      "70.0    256\n",
      "71.0    254\n",
      "75.0    245\n",
      "78.0    240\n",
      "73.0    238\n",
      "       ... \n",
      "20.0      3\n",
      "17.0      1\n",
      "22.0      1\n",
      "13.0      1\n",
      "21.0      1\n",
      "Name: Critic_Score, Length: 82, dtype: int64\n",
      "\n"
     ]
    },
    {
     "data": {
      "text/html": [
       "<div>\n",
       "<style scoped>\n",
       "    .dataframe tbody tr th:only-of-type {\n",
       "        vertical-align: middle;\n",
       "    }\n",
       "\n",
       "    .dataframe tbody tr th {\n",
       "        vertical-align: top;\n",
       "    }\n",
       "\n",
       "    .dataframe thead th {\n",
       "        text-align: right;\n",
       "    }\n",
       "</style>\n",
       "<table border=\"1\" class=\"dataframe\">\n",
       "  <thead>\n",
       "    <tr style=\"text-align: right;\">\n",
       "      <th></th>\n",
       "      <th>Name</th>\n",
       "      <th>Platform</th>\n",
       "      <th>Year_of_Release</th>\n",
       "      <th>Genre</th>\n",
       "      <th>NA_sales</th>\n",
       "      <th>EU_sales</th>\n",
       "      <th>JP_sales</th>\n",
       "      <th>Other_sales</th>\n",
       "      <th>Critic_Score</th>\n",
       "      <th>User_Score</th>\n",
       "      <th>Rating</th>\n",
       "    </tr>\n",
       "  </thead>\n",
       "  <tbody>\n",
       "    <tr>\n",
       "      <td>1</td>\n",
       "      <td>Super Mario Bros.</td>\n",
       "      <td>NES</td>\n",
       "      <td>1985.0</td>\n",
       "      <td>Platform</td>\n",
       "      <td>29.08</td>\n",
       "      <td>3.58</td>\n",
       "      <td>6.81</td>\n",
       "      <td>0.77</td>\n",
       "      <td>NaN</td>\n",
       "      <td>NaN</td>\n",
       "      <td>NaN</td>\n",
       "    </tr>\n",
       "    <tr>\n",
       "      <td>4</td>\n",
       "      <td>Pokemon Red/Pokemon Blue</td>\n",
       "      <td>GB</td>\n",
       "      <td>1996.0</td>\n",
       "      <td>Role-Playing</td>\n",
       "      <td>11.27</td>\n",
       "      <td>8.89</td>\n",
       "      <td>10.22</td>\n",
       "      <td>1.00</td>\n",
       "      <td>NaN</td>\n",
       "      <td>NaN</td>\n",
       "      <td>NaN</td>\n",
       "    </tr>\n",
       "    <tr>\n",
       "      <td>5</td>\n",
       "      <td>Tetris</td>\n",
       "      <td>GB</td>\n",
       "      <td>1989.0</td>\n",
       "      <td>Puzzle</td>\n",
       "      <td>23.20</td>\n",
       "      <td>2.26</td>\n",
       "      <td>4.22</td>\n",
       "      <td>0.58</td>\n",
       "      <td>NaN</td>\n",
       "      <td>NaN</td>\n",
       "      <td>NaN</td>\n",
       "    </tr>\n",
       "    <tr>\n",
       "      <td>9</td>\n",
       "      <td>Duck Hunt</td>\n",
       "      <td>NES</td>\n",
       "      <td>1984.0</td>\n",
       "      <td>Shooter</td>\n",
       "      <td>26.93</td>\n",
       "      <td>0.63</td>\n",
       "      <td>0.28</td>\n",
       "      <td>0.47</td>\n",
       "      <td>NaN</td>\n",
       "      <td>NaN</td>\n",
       "      <td>NaN</td>\n",
       "    </tr>\n",
       "    <tr>\n",
       "      <td>10</td>\n",
       "      <td>Nintendogs</td>\n",
       "      <td>DS</td>\n",
       "      <td>2005.0</td>\n",
       "      <td>Simulation</td>\n",
       "      <td>9.05</td>\n",
       "      <td>10.95</td>\n",
       "      <td>1.93</td>\n",
       "      <td>2.74</td>\n",
       "      <td>NaN</td>\n",
       "      <td>NaN</td>\n",
       "      <td>NaN</td>\n",
       "    </tr>\n",
       "    <tr>\n",
       "      <td>...</td>\n",
       "      <td>...</td>\n",
       "      <td>...</td>\n",
       "      <td>...</td>\n",
       "      <td>...</td>\n",
       "      <td>...</td>\n",
       "      <td>...</td>\n",
       "      <td>...</td>\n",
       "      <td>...</td>\n",
       "      <td>...</td>\n",
       "      <td>...</td>\n",
       "      <td>...</td>\n",
       "    </tr>\n",
       "    <tr>\n",
       "      <td>16710</td>\n",
       "      <td>Samurai Warriors: Sanada Maru</td>\n",
       "      <td>PS3</td>\n",
       "      <td>2016.0</td>\n",
       "      <td>Action</td>\n",
       "      <td>0.00</td>\n",
       "      <td>0.00</td>\n",
       "      <td>0.01</td>\n",
       "      <td>0.00</td>\n",
       "      <td>NaN</td>\n",
       "      <td>NaN</td>\n",
       "      <td>NaN</td>\n",
       "    </tr>\n",
       "    <tr>\n",
       "      <td>16711</td>\n",
       "      <td>LMA Manager 2007</td>\n",
       "      <td>X360</td>\n",
       "      <td>2006.0</td>\n",
       "      <td>Sports</td>\n",
       "      <td>0.00</td>\n",
       "      <td>0.01</td>\n",
       "      <td>0.00</td>\n",
       "      <td>0.00</td>\n",
       "      <td>NaN</td>\n",
       "      <td>NaN</td>\n",
       "      <td>NaN</td>\n",
       "    </tr>\n",
       "    <tr>\n",
       "      <td>16712</td>\n",
       "      <td>Haitaka no Psychedelica</td>\n",
       "      <td>PSV</td>\n",
       "      <td>2016.0</td>\n",
       "      <td>Adventure</td>\n",
       "      <td>0.00</td>\n",
       "      <td>0.00</td>\n",
       "      <td>0.01</td>\n",
       "      <td>0.00</td>\n",
       "      <td>NaN</td>\n",
       "      <td>NaN</td>\n",
       "      <td>NaN</td>\n",
       "    </tr>\n",
       "    <tr>\n",
       "      <td>16713</td>\n",
       "      <td>Spirits &amp; Spells</td>\n",
       "      <td>GBA</td>\n",
       "      <td>2003.0</td>\n",
       "      <td>Platform</td>\n",
       "      <td>0.01</td>\n",
       "      <td>0.00</td>\n",
       "      <td>0.00</td>\n",
       "      <td>0.00</td>\n",
       "      <td>NaN</td>\n",
       "      <td>NaN</td>\n",
       "      <td>NaN</td>\n",
       "    </tr>\n",
       "    <tr>\n",
       "      <td>16714</td>\n",
       "      <td>Winning Post 8 2016</td>\n",
       "      <td>PSV</td>\n",
       "      <td>2016.0</td>\n",
       "      <td>Simulation</td>\n",
       "      <td>0.00</td>\n",
       "      <td>0.00</td>\n",
       "      <td>0.01</td>\n",
       "      <td>0.00</td>\n",
       "      <td>NaN</td>\n",
       "      <td>NaN</td>\n",
       "      <td>NaN</td>\n",
       "    </tr>\n",
       "  </tbody>\n",
       "</table>\n",
       "<p>8578 rows × 11 columns</p>\n",
       "</div>"
      ],
      "text/plain": [
       "                                Name Platform  Year_of_Release         Genre  \\\n",
       "1                  Super Mario Bros.      NES           1985.0      Platform   \n",
       "4           Pokemon Red/Pokemon Blue       GB           1996.0  Role-Playing   \n",
       "5                             Tetris       GB           1989.0        Puzzle   \n",
       "9                          Duck Hunt      NES           1984.0       Shooter   \n",
       "10                        Nintendogs       DS           2005.0    Simulation   \n",
       "...                              ...      ...              ...           ...   \n",
       "16710  Samurai Warriors: Sanada Maru      PS3           2016.0        Action   \n",
       "16711               LMA Manager 2007     X360           2006.0        Sports   \n",
       "16712        Haitaka no Psychedelica      PSV           2016.0     Adventure   \n",
       "16713               Spirits & Spells      GBA           2003.0      Platform   \n",
       "16714            Winning Post 8 2016      PSV           2016.0    Simulation   \n",
       "\n",
       "       NA_sales  EU_sales  JP_sales  Other_sales  Critic_Score User_Score  \\\n",
       "1         29.08      3.58      6.81         0.77           NaN        NaN   \n",
       "4         11.27      8.89     10.22         1.00           NaN        NaN   \n",
       "5         23.20      2.26      4.22         0.58           NaN        NaN   \n",
       "9         26.93      0.63      0.28         0.47           NaN        NaN   \n",
       "10         9.05     10.95      1.93         2.74           NaN        NaN   \n",
       "...         ...       ...       ...          ...           ...        ...   \n",
       "16710      0.00      0.00      0.01         0.00           NaN        NaN   \n",
       "16711      0.00      0.01      0.00         0.00           NaN        NaN   \n",
       "16712      0.00      0.00      0.01         0.00           NaN        NaN   \n",
       "16713      0.01      0.00      0.00         0.00           NaN        NaN   \n",
       "16714      0.00      0.00      0.01         0.00           NaN        NaN   \n",
       "\n",
       "      Rating  \n",
       "1        NaN  \n",
       "4        NaN  \n",
       "5        NaN  \n",
       "9        NaN  \n",
       "10       NaN  \n",
       "...      ...  \n",
       "16710    NaN  \n",
       "16711    NaN  \n",
       "16712    NaN  \n",
       "16713    NaN  \n",
       "16714    NaN  \n",
       "\n",
       "[8578 rows x 11 columns]"
      ]
     },
     "metadata": {},
     "output_type": "display_data"
    },
    {
     "name": "stdout",
     "output_type": "stream",
     "text": [
      "\n",
      "Список уникальных User_Score\n",
      "\n",
      "['8' nan '8.3' '8.5' '6.6' '8.4' '8.6' '7.7' '6.3' '7.4' '8.2' '9' '7.9'\n",
      " '8.1' '8.7' '7.1' '3.4' '5.3' '4.8' '3.2' '8.9' '6.4' '7.8' '7.5' '2.6'\n",
      " '7.2' '9.2' '7' '7.3' '4.3' '7.6' '5.7' '5' '9.1' '6.5' 'tbd' '8.8' '6.9'\n",
      " '9.4' '6.8' '6.1' '6.7' '5.4' '4' '4.9' '4.5' '9.3' '6.2' '4.2' '6' '3.7'\n",
      " '4.1' '5.8' '5.6' '5.5' '4.4' '4.6' '5.9' '3.9' '3.1' '2.9' '5.2' '3.3'\n",
      " '4.7' '5.1' '3.5' '2.5' '1.9' '3' '2.7' '2.2' '2' '9.5' '2.1' '3.6' '2.8'\n",
      " '1.8' '3.8' '0' '1.6' '9.6' '2.4' '1.7' '1.1' '0.3' '1.5' '0.7' '1.2'\n",
      " '2.3' '0.5' '1.3' '0.2' '0.6' '1.4' '0.9' '1' '9.7']\n",
      "\n",
      "tbd    2424\n",
      "7.8     324\n",
      "8       290\n",
      "8.2     282\n",
      "8.3     254\n",
      "       ... \n",
      "0.7       2\n",
      "2.3       2\n",
      "1.1       2\n",
      "0         1\n",
      "9.7       1\n",
      "Name: User_Score, Length: 96, dtype: int64\n",
      "\n"
     ]
    },
    {
     "data": {
      "text/html": [
       "<div>\n",
       "<style scoped>\n",
       "    .dataframe tbody tr th:only-of-type {\n",
       "        vertical-align: middle;\n",
       "    }\n",
       "\n",
       "    .dataframe tbody tr th {\n",
       "        vertical-align: top;\n",
       "    }\n",
       "\n",
       "    .dataframe thead th {\n",
       "        text-align: right;\n",
       "    }\n",
       "</style>\n",
       "<table border=\"1\" class=\"dataframe\">\n",
       "  <thead>\n",
       "    <tr style=\"text-align: right;\">\n",
       "      <th></th>\n",
       "      <th>Name</th>\n",
       "      <th>Platform</th>\n",
       "      <th>Year_of_Release</th>\n",
       "      <th>Genre</th>\n",
       "      <th>NA_sales</th>\n",
       "      <th>EU_sales</th>\n",
       "      <th>JP_sales</th>\n",
       "      <th>Other_sales</th>\n",
       "      <th>Critic_Score</th>\n",
       "      <th>User_Score</th>\n",
       "      <th>Rating</th>\n",
       "    </tr>\n",
       "  </thead>\n",
       "  <tbody>\n",
       "    <tr>\n",
       "      <td>1</td>\n",
       "      <td>Super Mario Bros.</td>\n",
       "      <td>NES</td>\n",
       "      <td>1985.0</td>\n",
       "      <td>Platform</td>\n",
       "      <td>29.08</td>\n",
       "      <td>3.58</td>\n",
       "      <td>6.81</td>\n",
       "      <td>0.77</td>\n",
       "      <td>NaN</td>\n",
       "      <td>NaN</td>\n",
       "      <td>NaN</td>\n",
       "    </tr>\n",
       "    <tr>\n",
       "      <td>4</td>\n",
       "      <td>Pokemon Red/Pokemon Blue</td>\n",
       "      <td>GB</td>\n",
       "      <td>1996.0</td>\n",
       "      <td>Role-Playing</td>\n",
       "      <td>11.27</td>\n",
       "      <td>8.89</td>\n",
       "      <td>10.22</td>\n",
       "      <td>1.00</td>\n",
       "      <td>NaN</td>\n",
       "      <td>NaN</td>\n",
       "      <td>NaN</td>\n",
       "    </tr>\n",
       "    <tr>\n",
       "      <td>5</td>\n",
       "      <td>Tetris</td>\n",
       "      <td>GB</td>\n",
       "      <td>1989.0</td>\n",
       "      <td>Puzzle</td>\n",
       "      <td>23.20</td>\n",
       "      <td>2.26</td>\n",
       "      <td>4.22</td>\n",
       "      <td>0.58</td>\n",
       "      <td>NaN</td>\n",
       "      <td>NaN</td>\n",
       "      <td>NaN</td>\n",
       "    </tr>\n",
       "    <tr>\n",
       "      <td>9</td>\n",
       "      <td>Duck Hunt</td>\n",
       "      <td>NES</td>\n",
       "      <td>1984.0</td>\n",
       "      <td>Shooter</td>\n",
       "      <td>26.93</td>\n",
       "      <td>0.63</td>\n",
       "      <td>0.28</td>\n",
       "      <td>0.47</td>\n",
       "      <td>NaN</td>\n",
       "      <td>NaN</td>\n",
       "      <td>NaN</td>\n",
       "    </tr>\n",
       "    <tr>\n",
       "      <td>10</td>\n",
       "      <td>Nintendogs</td>\n",
       "      <td>DS</td>\n",
       "      <td>2005.0</td>\n",
       "      <td>Simulation</td>\n",
       "      <td>9.05</td>\n",
       "      <td>10.95</td>\n",
       "      <td>1.93</td>\n",
       "      <td>2.74</td>\n",
       "      <td>NaN</td>\n",
       "      <td>NaN</td>\n",
       "      <td>NaN</td>\n",
       "    </tr>\n",
       "    <tr>\n",
       "      <td>...</td>\n",
       "      <td>...</td>\n",
       "      <td>...</td>\n",
       "      <td>...</td>\n",
       "      <td>...</td>\n",
       "      <td>...</td>\n",
       "      <td>...</td>\n",
       "      <td>...</td>\n",
       "      <td>...</td>\n",
       "      <td>...</td>\n",
       "      <td>...</td>\n",
       "      <td>...</td>\n",
       "    </tr>\n",
       "    <tr>\n",
       "      <td>16710</td>\n",
       "      <td>Samurai Warriors: Sanada Maru</td>\n",
       "      <td>PS3</td>\n",
       "      <td>2016.0</td>\n",
       "      <td>Action</td>\n",
       "      <td>0.00</td>\n",
       "      <td>0.00</td>\n",
       "      <td>0.01</td>\n",
       "      <td>0.00</td>\n",
       "      <td>NaN</td>\n",
       "      <td>NaN</td>\n",
       "      <td>NaN</td>\n",
       "    </tr>\n",
       "    <tr>\n",
       "      <td>16711</td>\n",
       "      <td>LMA Manager 2007</td>\n",
       "      <td>X360</td>\n",
       "      <td>2006.0</td>\n",
       "      <td>Sports</td>\n",
       "      <td>0.00</td>\n",
       "      <td>0.01</td>\n",
       "      <td>0.00</td>\n",
       "      <td>0.00</td>\n",
       "      <td>NaN</td>\n",
       "      <td>NaN</td>\n",
       "      <td>NaN</td>\n",
       "    </tr>\n",
       "    <tr>\n",
       "      <td>16712</td>\n",
       "      <td>Haitaka no Psychedelica</td>\n",
       "      <td>PSV</td>\n",
       "      <td>2016.0</td>\n",
       "      <td>Adventure</td>\n",
       "      <td>0.00</td>\n",
       "      <td>0.00</td>\n",
       "      <td>0.01</td>\n",
       "      <td>0.00</td>\n",
       "      <td>NaN</td>\n",
       "      <td>NaN</td>\n",
       "      <td>NaN</td>\n",
       "    </tr>\n",
       "    <tr>\n",
       "      <td>16713</td>\n",
       "      <td>Spirits &amp; Spells</td>\n",
       "      <td>GBA</td>\n",
       "      <td>2003.0</td>\n",
       "      <td>Platform</td>\n",
       "      <td>0.01</td>\n",
       "      <td>0.00</td>\n",
       "      <td>0.00</td>\n",
       "      <td>0.00</td>\n",
       "      <td>NaN</td>\n",
       "      <td>NaN</td>\n",
       "      <td>NaN</td>\n",
       "    </tr>\n",
       "    <tr>\n",
       "      <td>16714</td>\n",
       "      <td>Winning Post 8 2016</td>\n",
       "      <td>PSV</td>\n",
       "      <td>2016.0</td>\n",
       "      <td>Simulation</td>\n",
       "      <td>0.00</td>\n",
       "      <td>0.00</td>\n",
       "      <td>0.01</td>\n",
       "      <td>0.00</td>\n",
       "      <td>NaN</td>\n",
       "      <td>NaN</td>\n",
       "      <td>NaN</td>\n",
       "    </tr>\n",
       "  </tbody>\n",
       "</table>\n",
       "<p>6701 rows × 11 columns</p>\n",
       "</div>"
      ],
      "text/plain": [
       "                                Name Platform  Year_of_Release         Genre  \\\n",
       "1                  Super Mario Bros.      NES           1985.0      Platform   \n",
       "4           Pokemon Red/Pokemon Blue       GB           1996.0  Role-Playing   \n",
       "5                             Tetris       GB           1989.0        Puzzle   \n",
       "9                          Duck Hunt      NES           1984.0       Shooter   \n",
       "10                        Nintendogs       DS           2005.0    Simulation   \n",
       "...                              ...      ...              ...           ...   \n",
       "16710  Samurai Warriors: Sanada Maru      PS3           2016.0        Action   \n",
       "16711               LMA Manager 2007     X360           2006.0        Sports   \n",
       "16712        Haitaka no Psychedelica      PSV           2016.0     Adventure   \n",
       "16713               Spirits & Spells      GBA           2003.0      Platform   \n",
       "16714            Winning Post 8 2016      PSV           2016.0    Simulation   \n",
       "\n",
       "       NA_sales  EU_sales  JP_sales  Other_sales  Critic_Score User_Score  \\\n",
       "1         29.08      3.58      6.81         0.77           NaN        NaN   \n",
       "4         11.27      8.89     10.22         1.00           NaN        NaN   \n",
       "5         23.20      2.26      4.22         0.58           NaN        NaN   \n",
       "9         26.93      0.63      0.28         0.47           NaN        NaN   \n",
       "10         9.05     10.95      1.93         2.74           NaN        NaN   \n",
       "...         ...       ...       ...          ...           ...        ...   \n",
       "16710      0.00      0.00      0.01         0.00           NaN        NaN   \n",
       "16711      0.00      0.01      0.00         0.00           NaN        NaN   \n",
       "16712      0.00      0.00      0.01         0.00           NaN        NaN   \n",
       "16713      0.01      0.00      0.00         0.00           NaN        NaN   \n",
       "16714      0.00      0.00      0.01         0.00           NaN        NaN   \n",
       "\n",
       "      Rating  \n",
       "1        NaN  \n",
       "4        NaN  \n",
       "5        NaN  \n",
       "9        NaN  \n",
       "10       NaN  \n",
       "...      ...  \n",
       "16710    NaN  \n",
       "16711    NaN  \n",
       "16712    NaN  \n",
       "16713    NaN  \n",
       "16714    NaN  \n",
       "\n",
       "[6701 rows x 11 columns]"
      ]
     },
     "metadata": {},
     "output_type": "display_data"
    },
    {
     "name": "stdout",
     "output_type": "stream",
     "text": [
      "\n",
      "Список уникальных Rating\n",
      "\n",
      "['E' nan 'M' 'T' 'E10+' 'K-A' 'AO' 'EC' 'RP']\n",
      "\n",
      "E       3990\n",
      "T       2961\n",
      "M       1563\n",
      "E10+    1420\n",
      "EC         8\n",
      "K-A        3\n",
      "RP         3\n",
      "AO         1\n",
      "Name: Rating, dtype: int64\n",
      "\n"
     ]
    },
    {
     "data": {
      "text/html": [
       "<div>\n",
       "<style scoped>\n",
       "    .dataframe tbody tr th:only-of-type {\n",
       "        vertical-align: middle;\n",
       "    }\n",
       "\n",
       "    .dataframe tbody tr th {\n",
       "        vertical-align: top;\n",
       "    }\n",
       "\n",
       "    .dataframe thead th {\n",
       "        text-align: right;\n",
       "    }\n",
       "</style>\n",
       "<table border=\"1\" class=\"dataframe\">\n",
       "  <thead>\n",
       "    <tr style=\"text-align: right;\">\n",
       "      <th></th>\n",
       "      <th>Name</th>\n",
       "      <th>Platform</th>\n",
       "      <th>Year_of_Release</th>\n",
       "      <th>Genre</th>\n",
       "      <th>NA_sales</th>\n",
       "      <th>EU_sales</th>\n",
       "      <th>JP_sales</th>\n",
       "      <th>Other_sales</th>\n",
       "      <th>Critic_Score</th>\n",
       "      <th>User_Score</th>\n",
       "      <th>Rating</th>\n",
       "    </tr>\n",
       "  </thead>\n",
       "  <tbody>\n",
       "    <tr>\n",
       "      <td>1</td>\n",
       "      <td>Super Mario Bros.</td>\n",
       "      <td>NES</td>\n",
       "      <td>1985.0</td>\n",
       "      <td>Platform</td>\n",
       "      <td>29.08</td>\n",
       "      <td>3.58</td>\n",
       "      <td>6.81</td>\n",
       "      <td>0.77</td>\n",
       "      <td>NaN</td>\n",
       "      <td>NaN</td>\n",
       "      <td>NaN</td>\n",
       "    </tr>\n",
       "    <tr>\n",
       "      <td>4</td>\n",
       "      <td>Pokemon Red/Pokemon Blue</td>\n",
       "      <td>GB</td>\n",
       "      <td>1996.0</td>\n",
       "      <td>Role-Playing</td>\n",
       "      <td>11.27</td>\n",
       "      <td>8.89</td>\n",
       "      <td>10.22</td>\n",
       "      <td>1.00</td>\n",
       "      <td>NaN</td>\n",
       "      <td>NaN</td>\n",
       "      <td>NaN</td>\n",
       "    </tr>\n",
       "    <tr>\n",
       "      <td>5</td>\n",
       "      <td>Tetris</td>\n",
       "      <td>GB</td>\n",
       "      <td>1989.0</td>\n",
       "      <td>Puzzle</td>\n",
       "      <td>23.20</td>\n",
       "      <td>2.26</td>\n",
       "      <td>4.22</td>\n",
       "      <td>0.58</td>\n",
       "      <td>NaN</td>\n",
       "      <td>NaN</td>\n",
       "      <td>NaN</td>\n",
       "    </tr>\n",
       "    <tr>\n",
       "      <td>9</td>\n",
       "      <td>Duck Hunt</td>\n",
       "      <td>NES</td>\n",
       "      <td>1984.0</td>\n",
       "      <td>Shooter</td>\n",
       "      <td>26.93</td>\n",
       "      <td>0.63</td>\n",
       "      <td>0.28</td>\n",
       "      <td>0.47</td>\n",
       "      <td>NaN</td>\n",
       "      <td>NaN</td>\n",
       "      <td>NaN</td>\n",
       "    </tr>\n",
       "    <tr>\n",
       "      <td>10</td>\n",
       "      <td>Nintendogs</td>\n",
       "      <td>DS</td>\n",
       "      <td>2005.0</td>\n",
       "      <td>Simulation</td>\n",
       "      <td>9.05</td>\n",
       "      <td>10.95</td>\n",
       "      <td>1.93</td>\n",
       "      <td>2.74</td>\n",
       "      <td>NaN</td>\n",
       "      <td>NaN</td>\n",
       "      <td>NaN</td>\n",
       "    </tr>\n",
       "    <tr>\n",
       "      <td>...</td>\n",
       "      <td>...</td>\n",
       "      <td>...</td>\n",
       "      <td>...</td>\n",
       "      <td>...</td>\n",
       "      <td>...</td>\n",
       "      <td>...</td>\n",
       "      <td>...</td>\n",
       "      <td>...</td>\n",
       "      <td>...</td>\n",
       "      <td>...</td>\n",
       "      <td>...</td>\n",
       "    </tr>\n",
       "    <tr>\n",
       "      <td>16710</td>\n",
       "      <td>Samurai Warriors: Sanada Maru</td>\n",
       "      <td>PS3</td>\n",
       "      <td>2016.0</td>\n",
       "      <td>Action</td>\n",
       "      <td>0.00</td>\n",
       "      <td>0.00</td>\n",
       "      <td>0.01</td>\n",
       "      <td>0.00</td>\n",
       "      <td>NaN</td>\n",
       "      <td>NaN</td>\n",
       "      <td>NaN</td>\n",
       "    </tr>\n",
       "    <tr>\n",
       "      <td>16711</td>\n",
       "      <td>LMA Manager 2007</td>\n",
       "      <td>X360</td>\n",
       "      <td>2006.0</td>\n",
       "      <td>Sports</td>\n",
       "      <td>0.00</td>\n",
       "      <td>0.01</td>\n",
       "      <td>0.00</td>\n",
       "      <td>0.00</td>\n",
       "      <td>NaN</td>\n",
       "      <td>NaN</td>\n",
       "      <td>NaN</td>\n",
       "    </tr>\n",
       "    <tr>\n",
       "      <td>16712</td>\n",
       "      <td>Haitaka no Psychedelica</td>\n",
       "      <td>PSV</td>\n",
       "      <td>2016.0</td>\n",
       "      <td>Adventure</td>\n",
       "      <td>0.00</td>\n",
       "      <td>0.00</td>\n",
       "      <td>0.01</td>\n",
       "      <td>0.00</td>\n",
       "      <td>NaN</td>\n",
       "      <td>NaN</td>\n",
       "      <td>NaN</td>\n",
       "    </tr>\n",
       "    <tr>\n",
       "      <td>16713</td>\n",
       "      <td>Spirits &amp; Spells</td>\n",
       "      <td>GBA</td>\n",
       "      <td>2003.0</td>\n",
       "      <td>Platform</td>\n",
       "      <td>0.01</td>\n",
       "      <td>0.00</td>\n",
       "      <td>0.00</td>\n",
       "      <td>0.00</td>\n",
       "      <td>NaN</td>\n",
       "      <td>NaN</td>\n",
       "      <td>NaN</td>\n",
       "    </tr>\n",
       "    <tr>\n",
       "      <td>16714</td>\n",
       "      <td>Winning Post 8 2016</td>\n",
       "      <td>PSV</td>\n",
       "      <td>2016.0</td>\n",
       "      <td>Simulation</td>\n",
       "      <td>0.00</td>\n",
       "      <td>0.00</td>\n",
       "      <td>0.01</td>\n",
       "      <td>0.00</td>\n",
       "      <td>NaN</td>\n",
       "      <td>NaN</td>\n",
       "      <td>NaN</td>\n",
       "    </tr>\n",
       "  </tbody>\n",
       "</table>\n",
       "<p>6766 rows × 11 columns</p>\n",
       "</div>"
      ],
      "text/plain": [
       "                                Name Platform  Year_of_Release         Genre  \\\n",
       "1                  Super Mario Bros.      NES           1985.0      Platform   \n",
       "4           Pokemon Red/Pokemon Blue       GB           1996.0  Role-Playing   \n",
       "5                             Tetris       GB           1989.0        Puzzle   \n",
       "9                          Duck Hunt      NES           1984.0       Shooter   \n",
       "10                        Nintendogs       DS           2005.0    Simulation   \n",
       "...                              ...      ...              ...           ...   \n",
       "16710  Samurai Warriors: Sanada Maru      PS3           2016.0        Action   \n",
       "16711               LMA Manager 2007     X360           2006.0        Sports   \n",
       "16712        Haitaka no Psychedelica      PSV           2016.0     Adventure   \n",
       "16713               Spirits & Spells      GBA           2003.0      Platform   \n",
       "16714            Winning Post 8 2016      PSV           2016.0    Simulation   \n",
       "\n",
       "       NA_sales  EU_sales  JP_sales  Other_sales  Critic_Score User_Score  \\\n",
       "1         29.08      3.58      6.81         0.77           NaN        NaN   \n",
       "4         11.27      8.89     10.22         1.00           NaN        NaN   \n",
       "5         23.20      2.26      4.22         0.58           NaN        NaN   \n",
       "9         26.93      0.63      0.28         0.47           NaN        NaN   \n",
       "10         9.05     10.95      1.93         2.74           NaN        NaN   \n",
       "...         ...       ...       ...          ...           ...        ...   \n",
       "16710      0.00      0.00      0.01         0.00           NaN        NaN   \n",
       "16711      0.00      0.01      0.00         0.00           NaN        NaN   \n",
       "16712      0.00      0.00      0.01         0.00           NaN        NaN   \n",
       "16713      0.01      0.00      0.00         0.00           NaN        NaN   \n",
       "16714      0.00      0.00      0.01         0.00           NaN        NaN   \n",
       "\n",
       "      Rating  \n",
       "1        NaN  \n",
       "4        NaN  \n",
       "5        NaN  \n",
       "9        NaN  \n",
       "10       NaN  \n",
       "...      ...  \n",
       "16710    NaN  \n",
       "16711    NaN  \n",
       "16712    NaN  \n",
       "16713    NaN  \n",
       "16714    NaN  \n",
       "\n",
       "[6766 rows x 11 columns]"
      ]
     },
     "metadata": {},
     "output_type": "display_data"
    },
    {
     "name": "stdout",
     "output_type": "stream",
     "text": [
      "\n"
     ]
    }
   ],
   "source": [
    "# вывод данных\n",
    "show(df)"
   ]
  },
  {
   "cell_type": "markdown",
   "metadata": {},
   "source": [
    "<div style=\"border:solid blue 2px; padding: 20px\">\n",
    "    \n",
    "Посчитаем сколько строк являются дубликатами.\n",
    "    \n",
    "    \n",
    "</div>"
   ]
  },
  {
   "cell_type": "markdown",
   "metadata": {},
   "source": [
    "<div style=\"border:solid blue 2px; padding: 20px\">\n",
    "    \n",
    "Методом `duplicated()` проверим данные на наличие дубликатов и посчитаем их `sum()`\n",
    "    \n",
    "</div>"
   ]
  },
  {
   "cell_type": "code",
   "execution_count": 9,
   "metadata": {},
   "outputs": [
    {
     "name": "stdout",
     "output_type": "stream",
     "text": [
      "Всего строк дубликатов:  0\n"
     ]
    }
   ],
   "source": [
    "# подсчет явных дубликатов\n",
    "print('Всего строк дубликатов: ', df.duplicated().sum())"
   ]
  },
  {
   "cell_type": "markdown",
   "metadata": {},
   "source": [
    "### Вывод"
   ]
  },
  {
   "cell_type": "markdown",
   "metadata": {},
   "source": [
    "<div style=\"border:solid blue 2px; padding: 20px\">\n",
    "    \n",
    "    \n",
    "**Оценка полученных данных**\n",
    "\n",
    "Наблюдения, представленные в таблице описываются категориальными и количественными значениями.\n",
    "    \n",
    "Данные можно исследовать для дальнейшего анализа:\n",
    "    \n",
    "    \n",
    "`Name` — название игры\n",
    "    \n",
    "`Platform` — платформа\n",
    "    \n",
    "`Year_of_Release` — год выпуска\n",
    "    \n",
    "`Genre` — жанр игры\n",
    "    \n",
    "`NA_sales` — продажи в Северной Америке (миллионы проданных копий)\n",
    "    \n",
    "`EU_sales` — продажи в Европе (миллионы проданных копий)\n",
    "    \n",
    "`JP_sales` — продажи в Японии (миллионы проданных копий)\n",
    "    \n",
    "`Other_sales` — продажи в других странах (миллионы проданных копий)\n",
    "    \n",
    "`Critic_Score` — оценка критиков (максимум 100)\n",
    "    \n",
    "`User_Score` — оценка пользователей (максимум 10)\n",
    "    \n",
    "`Rating` — рейтинг от организации ESRB (англ. Entertainment Software Rating Board). \n",
    "    \n",
    "Эта ассоциация определяет рейтинг компьютерных игр и присваивает им подходящую возрастную категорию.\n",
    "    \n",
    "Данные содержат проблемы (ошибки), которые могут привести написанный алгоритм работы к искаженным результатам.\n",
    "    \n",
    "\n",
    "**Проблемы и их возможные причины появления:**\n",
    "    \n",
    "    \n",
    "    \n",
    "Пропуски в **Категориальных** переменных. \n",
    "    \n",
    "    \n",
    "- Пропуски `Name` обнаружены `NaN`. Причина появления технологическая. Решим удалением.\n",
    "    \n",
    "    \n",
    "- Пропуски `Genre` обнаружены `NaN`. Причина появления технологическая. Решим удалением.\n",
    "    \n",
    "    \n",
    "- Пропуски `Rating` обнаружены `NaN`. Причина появления человеческий фактор. \n",
    "    \n",
    "    \n",
    "Решим заменой на `unknown`, потому что не можем быстро уточнить данные и заменить их вручную.\n",
    "    \n",
    "Тип значения признака `Rating` оставляем `object`, потому что они описывают возрастную категорию.\n",
    "    \n",
    "    \n",
    "- Артефакт `Platform` обнаружен `DS` с несоответстием [даты начала выпуска платформы в 2004 году](https://ru.wikipedia.org/wiki/Nintendo_DS)\n",
    "    \n",
    "  для `Name` `Strongest Tokyo University Shogi DS` и годом `Year_of_Release` `1985`.  \n",
    "    \n",
    "  Причина появления человеческий фактор. Решим заменой на `NES`.  \n",
    "    \n",
    "    \n",
    "Уникальные значения в **Количественных** переменных.  \n",
    "    \n",
    "    \n",
    "- Пропуски `Year_of_Release` обнаружены `NaN`. Причина человеческий фактор. Решим удалением.\n",
    "    \n",
    "  Разработчик той или иной игры уже сообщил о том, что она готовится к выходу, \n",
    "    \n",
    "  но пока еще не может назвать точную дату.\n",
    "    \n",
    "    \n",
    "- Пропуски `Critic_score` обнаружены `NaN`. Причина появления человеческий фактор. \n",
    "    \n",
    "Решим заменой на `0`, потому что пропуск говорит об отсутствии оценки \n",
    "    \n",
    "и заменить характерным значением не получится.\n",
    "    \n",
    "    \n",
    "- Пропуски `User_score` обнаружены `NaN`. Причина появления человеческий фактор. \n",
    "    \n",
    "Решим заменой на `0`, потому что пропуск говорит об отсутствии оценки \n",
    "    \n",
    "и заменить характерным значением не получится.\n",
    "    \n",
    " \n",
    "- Артефакт `User_score` обнаружен `tbd` `to be defined` значит `будет определено`. \n",
    "    \n",
    "    \n",
    "  Причина появления человеческий фактор. Решим заменой на `0`.\n",
    "    \n",
    "    \n",
    "  `tbd` игроки часто не указывают оценку. Равноценно пропуску.\n",
    "    \n",
    "   \n",
    "**ОТСУТСТВИЕ ПРОПУЩЕННЫХ ЗНАЧЕНИЙ В ОСТАЛЬНЫХ ПРИЗНАКАХ ОБЛЕГЧАЕТ ПРЕДОБРАБОТКУ**\n",
    "    \n",
    "    \n",
    "</div>    "
   ]
  },
  {
   "cell_type": "markdown",
   "metadata": {},
   "source": [
    "## Подготовка данных"
   ]
  },
  {
   "cell_type": "markdown",
   "metadata": {},
   "source": [
    "<div style=\"border:solid blue 2px; padding: 20px\">\n",
    "    \n",
    "`str.lower()` приведём названия столбцов к нижнему регистру\n",
    "    </div>"
   ]
  },
  {
   "cell_type": "code",
   "execution_count": 10,
   "metadata": {
    "scrolled": true
   },
   "outputs": [
    {
     "data": {
      "text/plain": [
       "Index(['name', 'platform', 'year_of_release', 'genre', 'na_sales', 'eu_sales',\n",
       "       'jp_sales', 'other_sales', 'critic_score', 'user_score', 'rating'],\n",
       "      dtype='object')"
      ]
     },
     "execution_count": 10,
     "metadata": {},
     "output_type": "execute_result"
    }
   ],
   "source": [
    "# названия столбцов к нижнему регистру\n",
    "df.columns = df.columns.str.lower()\n",
    "df.columns"
   ]
  },
  {
   "cell_type": "markdown",
   "metadata": {},
   "source": [
    "<div style=\"border:solid blue 2px; padding: 20px\">\n",
    "    \n",
    "\n",
    "**Заменим типы данных в следующих признаках:**\n",
    "    \n",
    "`df['year_of_release']` `float64` на `int` - нужен именно год выпуска\n",
    "    \n",
    "`df['user_score']` `object` на `float64`\n",
    "    \n",
    "    \n",
    "    \n",
    "</div> "
   ]
  },
  {
   "cell_type": "markdown",
   "metadata": {},
   "source": [
    "<div style=\"border:solid blue 2px; padding: 20px\">\n",
    "    \n",
    "Удалим пропуски, чтобы изменить тип данных\n",
    "    \n",
    "</div>"
   ]
  },
  {
   "cell_type": "markdown",
   "metadata": {},
   "source": [
    "<div style=\"border:solid blue 2px; padding: 20px\">\n",
    "    \n",
    "Удалим пропуски в столбце `name`\n",
    "    \n",
    "</div>"
   ]
  },
  {
   "cell_type": "code",
   "execution_count": 11,
   "metadata": {},
   "outputs": [],
   "source": [
    "# удаление строк\n",
    "df.drop([659, 14244], inplace=True)"
   ]
  },
  {
   "cell_type": "markdown",
   "metadata": {},
   "source": [
    "<div style=\"border:solid blue 2px; padding: 20px\">\n",
    "    \n",
    "Удалим пропуски в столбце `year_of_release`, чтобы изменить тип данных\n",
    "    \n",
    "</div>"
   ]
  },
  {
   "cell_type": "code",
   "execution_count": 12,
   "metadata": {},
   "outputs": [],
   "source": [
    "# удаление пропусков\n",
    "df = df.dropna(subset=['year_of_release'])"
   ]
  },
  {
   "cell_type": "markdown",
   "metadata": {},
   "source": [
    "<div style=\"border:solid blue 2px; padding: 20px\">\n",
    "    \n",
    "Заменим пропуски в `rating` на `unknown`\n",
    "    \n",
    "</div>"
   ]
  },
  {
   "cell_type": "code",
   "execution_count": 13,
   "metadata": {},
   "outputs": [],
   "source": [
    "# замена пропусков\n",
    "df['rating'] = df['rating'].fillna(value='unknown')"
   ]
  },
  {
   "cell_type": "markdown",
   "metadata": {},
   "source": [
    "<div style=\"border:solid blue 2px; padding: 20px\">\n",
    "    \n",
    "Заменим уникальные значения в `user_score`, чтобы изменить тип данных\n",
    "    \n",
    "</div>"
   ]
  },
  {
   "cell_type": "code",
   "execution_count": 14,
   "metadata": {},
   "outputs": [],
   "source": [
    "# замена уникального значения для облегчения дальнейшей обработки\n",
    "df.loc[df['user_score'] == 'tbd','user_score'] = np.nan"
   ]
  },
  {
   "cell_type": "code",
   "execution_count": 15,
   "metadata": {},
   "outputs": [],
   "source": [
    "# замена пропусков\n",
    "df = df.fillna(0)"
   ]
  },
  {
   "cell_type": "markdown",
   "metadata": {},
   "source": [
    "<div style=\"border:solid blue 2px; padding: 20px\">\n",
    "    \n",
    "Заменим уникальные значения в `platform` в строке `15957` на `NES`\n",
    "    \n",
    "</div>"
   ]
  },
  {
   "cell_type": "code",
   "execution_count": 16,
   "metadata": {},
   "outputs": [],
   "source": [
    "# замена уникального значения\n",
    "df.loc[15957, 'platform'] = 'NES'"
   ]
  },
  {
   "cell_type": "markdown",
   "metadata": {},
   "source": [
    "<div style=\"border:solid blue 2px; padding: 20px\">\n",
    "    \n",
    "Методом `astype` заменим тип данных\n",
    "    \n",
    "</div>"
   ]
  },
  {
   "cell_type": "code",
   "execution_count": 17,
   "metadata": {},
   "outputs": [],
   "source": [
    "# замена типа данных\n",
    "df['year_of_release'] = df['year_of_release'].astype('int')"
   ]
  },
  {
   "cell_type": "code",
   "execution_count": 18,
   "metadata": {},
   "outputs": [],
   "source": [
    "# замена типа данных\n",
    "df['user_score'] = df['user_score'].astype('float')"
   ]
  },
  {
   "cell_type": "code",
   "execution_count": 19,
   "metadata": {},
   "outputs": [
    {
     "name": "stdout",
     "output_type": "stream",
     "text": [
      "<class 'pandas.core.frame.DataFrame'>\n",
      "Int64Index: 16444 entries, 0 to 16714\n",
      "Data columns (total 11 columns):\n",
      "name               16444 non-null object\n",
      "platform           16444 non-null object\n",
      "year_of_release    16444 non-null int64\n",
      "genre              16444 non-null object\n",
      "na_sales           16444 non-null float64\n",
      "eu_sales           16444 non-null float64\n",
      "jp_sales           16444 non-null float64\n",
      "other_sales        16444 non-null float64\n",
      "critic_score       16444 non-null float64\n",
      "user_score         16444 non-null float64\n",
      "rating             16444 non-null object\n",
      "dtypes: float64(6), int64(1), object(4)\n",
      "memory usage: 2.1+ MB\n"
     ]
    }
   ],
   "source": [
    "# получение общей информации о данных в таблице\n",
    "df.info()"
   ]
  },
  {
   "cell_type": "markdown",
   "metadata": {},
   "source": [
    "<div style=\"border:solid blue 2px; padding: 20px\">\n",
    "    \n",
    "    \n",
    "Добавим столбец с суммарными продажами во всех регионах `sum_sales`\n",
    "   \n",
    "    \n",
    "</div> "
   ]
  },
  {
   "cell_type": "code",
   "execution_count": 20,
   "metadata": {},
   "outputs": [
    {
     "data": {
      "text/plain": [
       "0        82.54\n",
       "1        40.24\n",
       "2        35.52\n",
       "3        32.77\n",
       "4        31.38\n",
       "         ...  \n",
       "16710     0.01\n",
       "16711     0.01\n",
       "16712     0.01\n",
       "16713     0.01\n",
       "16714     0.01\n",
       "Name: sales, Length: 16444, dtype: float64"
      ]
     },
     "execution_count": 20,
     "metadata": {},
     "output_type": "execute_result"
    }
   ],
   "source": [
    "# добавление столбца с суумой всех продаж\n",
    "df['sales'] = df['na_sales'] + df['eu_sales'] + df['jp_sales'] + df['other_sales']\n",
    "df['sales']"
   ]
  },
  {
   "cell_type": "markdown",
   "metadata": {},
   "source": [
    "<div style=\"border:solid blue 2px; padding: 20px\">\n",
    "    \n",
    "    \n",
    "Добавим столбец с категориями производителей платформ `platform_type`\n",
    "   \n",
    "    \n",
    "</div> "
   ]
  },
  {
   "cell_type": "code",
   "execution_count": 21,
   "metadata": {},
   "outputs": [
    {
     "data": {
      "text/plain": [
       "playstation    6637\n",
       "nintendo       6169\n",
       "microsoft      2282\n",
       "PC              957\n",
       "sega            258\n",
       "atari           116\n",
       "other            25\n",
       "Name: platform_type, dtype: int64"
      ]
     },
     "execution_count": 21,
     "metadata": {},
     "output_type": "execute_result"
    }
   ],
   "source": [
    "# обработка платформ по категориям\n",
    "def manufactur(platform):\n",
    "    playstation = ['PSV','PSP','PS','PS2','PS3','PS4']\n",
    "    microsoft = ['XB','XOne','X360']\n",
    "    nintendo = ['SNES','NES','N64','Wii','WiiU','DS','3DS','GB','GBA','GC']\n",
    "    sega = ['SAT','GEN','DC','SCD']\n",
    "    if platform in playstation:\n",
    "        return 'playstation'\n",
    "    if platform in microsoft:\n",
    "        return 'microsoft'\n",
    "    if platform in nintendo:\n",
    "        return 'nintendo'\n",
    "    if platform in sega:\n",
    "        return 'sega'\n",
    "    if platform == 'PC':\n",
    "        return 'PC'\n",
    "    if platform == '2600':\n",
    "        return 'atari'\n",
    "    return 'other'\n",
    "df['platform_type'] = df['platform'].apply(manufactur)\n",
    "df['platform_type'].value_counts()"
   ]
  },
  {
   "cell_type": "markdown",
   "metadata": {},
   "source": [
    "### Вывод"
   ]
  },
  {
   "cell_type": "markdown",
   "metadata": {},
   "source": [
    "<div style=\"border:solid blue 2px; padding: 20px\">\n",
    "    \n",
    "    \n",
    "- Применили хороший стиль в названии столбцов `df.columns`\n",
    "    \n",
    " \n",
    "- Заменили тип данных в столбцах `year_of_release` и `user_score`\n",
    "    \n",
    "    \n",
    "- Удалили строки с пропусками в столбцах `year_of_release` `name`\n",
    "    \n",
    "    \n",
    "- Заменили в столбце `rating`  пропуски на `unknown`\n",
    "    \n",
    "    \n",
    "- Заменили в столбцах `critic_score` и `user_score`  пропуски на `0`\n",
    "   \n",
    "    \n",
    "- Добавили столбец `sales`\n",
    "    \n",
    "    \n",
    "- Добавили столбец `platform_type` дальнейшего анализа\n",
    "    \n",
    "</div> "
   ]
  },
  {
   "cell_type": "markdown",
   "metadata": {},
   "source": [
    "## Исследовательский анализ данных"
   ]
  },
  {
   "cell_type": "markdown",
   "metadata": {},
   "source": [
    "<div style=\"border:solid blue 2px; padding: 20px\">\n",
    "    \n",
    "    \n",
    "Методом `pivot_table()` получим сводную таблицу по `year_of_release`   \n",
    "    \n",
    "и посчитаем `name` количество игр `count()`\n",
    "    \n",
    "сохраним в переменную `name_per_year`\n",
    "   \n",
    "    \n",
    "</div> "
   ]
  },
  {
   "cell_type": "code",
   "execution_count": 22,
   "metadata": {
    "scrolled": false
   },
   "outputs": [
    {
     "data": {
      "text/html": [
       "<div>\n",
       "<style scoped>\n",
       "    .dataframe tbody tr th:only-of-type {\n",
       "        vertical-align: middle;\n",
       "    }\n",
       "\n",
       "    .dataframe tbody tr th {\n",
       "        vertical-align: top;\n",
       "    }\n",
       "\n",
       "    .dataframe thead th {\n",
       "        text-align: right;\n",
       "    }\n",
       "</style>\n",
       "<table border=\"1\" class=\"dataframe\">\n",
       "  <thead>\n",
       "    <tr style=\"text-align: right;\">\n",
       "      <th></th>\n",
       "      <th>name</th>\n",
       "    </tr>\n",
       "    <tr>\n",
       "      <th>year_of_release</th>\n",
       "      <th></th>\n",
       "    </tr>\n",
       "  </thead>\n",
       "  <tbody>\n",
       "    <tr>\n",
       "      <td>2008</td>\n",
       "      <td>1427</td>\n",
       "    </tr>\n",
       "    <tr>\n",
       "      <td>2009</td>\n",
       "      <td>1426</td>\n",
       "    </tr>\n",
       "    <tr>\n",
       "      <td>2010</td>\n",
       "      <td>1255</td>\n",
       "    </tr>\n",
       "    <tr>\n",
       "      <td>2007</td>\n",
       "      <td>1197</td>\n",
       "    </tr>\n",
       "    <tr>\n",
       "      <td>2011</td>\n",
       "      <td>1136</td>\n",
       "    </tr>\n",
       "    <tr>\n",
       "      <td>2006</td>\n",
       "      <td>1006</td>\n",
       "    </tr>\n",
       "    <tr>\n",
       "      <td>2005</td>\n",
       "      <td>939</td>\n",
       "    </tr>\n",
       "    <tr>\n",
       "      <td>2002</td>\n",
       "      <td>829</td>\n",
       "    </tr>\n",
       "    <tr>\n",
       "      <td>2003</td>\n",
       "      <td>775</td>\n",
       "    </tr>\n",
       "    <tr>\n",
       "      <td>2004</td>\n",
       "      <td>762</td>\n",
       "    </tr>\n",
       "    <tr>\n",
       "      <td>2012</td>\n",
       "      <td>653</td>\n",
       "    </tr>\n",
       "    <tr>\n",
       "      <td>2015</td>\n",
       "      <td>606</td>\n",
       "    </tr>\n",
       "    <tr>\n",
       "      <td>2014</td>\n",
       "      <td>581</td>\n",
       "    </tr>\n",
       "    <tr>\n",
       "      <td>2013</td>\n",
       "      <td>544</td>\n",
       "    </tr>\n",
       "    <tr>\n",
       "      <td>2016</td>\n",
       "      <td>502</td>\n",
       "    </tr>\n",
       "    <tr>\n",
       "      <td>2001</td>\n",
       "      <td>482</td>\n",
       "    </tr>\n",
       "    <tr>\n",
       "      <td>1998</td>\n",
       "      <td>379</td>\n",
       "    </tr>\n",
       "    <tr>\n",
       "      <td>2000</td>\n",
       "      <td>350</td>\n",
       "    </tr>\n",
       "    <tr>\n",
       "      <td>1999</td>\n",
       "      <td>338</td>\n",
       "    </tr>\n",
       "    <tr>\n",
       "      <td>1997</td>\n",
       "      <td>289</td>\n",
       "    </tr>\n",
       "    <tr>\n",
       "      <td>1996</td>\n",
       "      <td>263</td>\n",
       "    </tr>\n",
       "    <tr>\n",
       "      <td>1995</td>\n",
       "      <td>219</td>\n",
       "    </tr>\n",
       "    <tr>\n",
       "      <td>1994</td>\n",
       "      <td>121</td>\n",
       "    </tr>\n",
       "    <tr>\n",
       "      <td>1993</td>\n",
       "      <td>60</td>\n",
       "    </tr>\n",
       "    <tr>\n",
       "      <td>1981</td>\n",
       "      <td>46</td>\n",
       "    </tr>\n",
       "    <tr>\n",
       "      <td>1992</td>\n",
       "      <td>43</td>\n",
       "    </tr>\n",
       "    <tr>\n",
       "      <td>1991</td>\n",
       "      <td>41</td>\n",
       "    </tr>\n",
       "    <tr>\n",
       "      <td>1982</td>\n",
       "      <td>36</td>\n",
       "    </tr>\n",
       "    <tr>\n",
       "      <td>1986</td>\n",
       "      <td>21</td>\n",
       "    </tr>\n",
       "    <tr>\n",
       "      <td>1989</td>\n",
       "      <td>17</td>\n",
       "    </tr>\n",
       "    <tr>\n",
       "      <td>1983</td>\n",
       "      <td>17</td>\n",
       "    </tr>\n",
       "    <tr>\n",
       "      <td>1990</td>\n",
       "      <td>16</td>\n",
       "    </tr>\n",
       "    <tr>\n",
       "      <td>1987</td>\n",
       "      <td>16</td>\n",
       "    </tr>\n",
       "    <tr>\n",
       "      <td>1988</td>\n",
       "      <td>15</td>\n",
       "    </tr>\n",
       "    <tr>\n",
       "      <td>1985</td>\n",
       "      <td>14</td>\n",
       "    </tr>\n",
       "    <tr>\n",
       "      <td>1984</td>\n",
       "      <td>14</td>\n",
       "    </tr>\n",
       "    <tr>\n",
       "      <td>1980</td>\n",
       "      <td>9</td>\n",
       "    </tr>\n",
       "  </tbody>\n",
       "</table>\n",
       "</div>"
      ],
      "text/plain": [
       "                 name\n",
       "year_of_release      \n",
       "2008             1427\n",
       "2009             1426\n",
       "2010             1255\n",
       "2007             1197\n",
       "2011             1136\n",
       "2006             1006\n",
       "2005              939\n",
       "2002              829\n",
       "2003              775\n",
       "2004              762\n",
       "2012              653\n",
       "2015              606\n",
       "2014              581\n",
       "2013              544\n",
       "2016              502\n",
       "2001              482\n",
       "1998              379\n",
       "2000              350\n",
       "1999              338\n",
       "1997              289\n",
       "1996              263\n",
       "1995              219\n",
       "1994              121\n",
       "1993               60\n",
       "1981               46\n",
       "1992               43\n",
       "1991               41\n",
       "1982               36\n",
       "1986               21\n",
       "1989               17\n",
       "1983               17\n",
       "1990               16\n",
       "1987               16\n",
       "1988               15\n",
       "1985               14\n",
       "1984               14\n",
       "1980                9"
      ]
     },
     "execution_count": 22,
     "metadata": {},
     "output_type": "execute_result"
    }
   ],
   "source": [
    "# сводная таблица\n",
    "name_per_year = df.pivot_table(index='year_of_release', values='name', aggfunc='count')\n",
    "name_per_year.sort_values(by='name', ascending=False)"
   ]
  },
  {
   "cell_type": "markdown",
   "metadata": {},
   "source": [
    "<div style=\"border:solid blue 2px; padding: 20px\">\n",
    "    \n",
    "    \n",
    "Методом `plot()` получим график по `year_of_release`   \n",
    "    \n",
    "и выделим данные не представляющие важности для анализа\n",
    "   \n",
    "    \n",
    "</div> "
   ]
  },
  {
   "cell_type": "code",
   "execution_count": 23,
   "metadata": {
    "scrolled": false
   },
   "outputs": [
    {
     "data": {
      "text/plain": [
       "<matplotlib.axes._subplots.AxesSubplot at 0x7f36b79ca550>"
      ]
     },
     "execution_count": 23,
     "metadata": {},
     "output_type": "execute_result"
    },
    {
     "data": {
      "image/png": "[encoded data removed]",
      "text/plain": [
       "<Figure size 720x360 with 1 Axes>"
      ]
     },
     "metadata": {
      "needs_background": "light"
     },
     "output_type": "display_data"
    }
   ],
   "source": [
    "# график выпуска игр по годам\n",
    "name_per_year.plot(style='o-' ,figsize=(10,5), grid=True, legend=True, title='график количества выпускаемых игр в год')"
   ]
  },
  {
   "cell_type": "markdown",
   "metadata": {},
   "source": [
    "<div style=\"border:solid blue 2px; padding: 20px\">\n",
    "    \n",
    "    \n",
    "- До `1990` года количество игр не увеличивалось -   **За этот период данные не важны для анализа**\n",
    "    \n",
    "    \n",
    "- С `1990` по `1998`года количество новых игр начало резко увеличиваться\n",
    "    \n",
    "    \n",
    "`1993` Выпуск микропроцессора Pentium компании Intel и Microsoft выпуск ОС Windows NT.\n",
    "    \n",
    "`1994` Apple выпуск рабочей станции Power Macintosh на базе микропроцессора PowerPC\n",
    "    \n",
    "`1995` Появление DVD, Microsoft выпуск ОС Windows 95, Разработан язык программирования Java\n",
    " \n",
    "    \n",
    "- С `1998` по `2000`года произошло небольшое замедление в хронологии игр  \n",
    "    \n",
    "    \n",
    "- С `2000` по `2002`года количество новых игр активно растёт\n",
    "    \n",
    "    \n",
    "`2000` запуск PS2\n",
    "    \n",
    "`2001` Microsoft выпустила Xbox \n",
    "    \n",
    "`2002` Резкое увеличение числа игр\n",
    "    \n",
    "    \n",
    "- С `2002` по `2004`года произошло небольшое замедление в хронологии игр \n",
    "    \n",
    "    \n",
    "`2003` Компания 3DO объявила себя банкротом\n",
    "    \n",
    "    \n",
    "- С `2004` по `2008`года количество новых игр активно растёт\n",
    "       \n",
    "    \n",
    "- С `2009` по `2016`года количество игр идё на спад   \n",
    "    \n",
    "    \n",
    "    \n",
    "    \n",
    "    \n",
    "   \n",
    "    \n",
    "</div> "
   ]
  },
  {
   "cell_type": "markdown",
   "metadata": {},
   "source": [
    "<div style=\"border:solid blue 2px; padding: 20px\">\n",
    "    \n",
    "    \n",
    "Методом `pivot_table()` получим сводную таблицу по `platform`   \n",
    "    \n",
    "и посчитаем `sum()` сумму `sales` продаж\n",
    "    \n",
    "сохраним в переменную `sales_per_platform`\n",
    "    \n",
    "и получим список `4-х` платформ с нибольшими суммарными продажами `top`\n",
    "   \n",
    "    \n",
    "</div> "
   ]
  },
  {
   "cell_type": "code",
   "execution_count": 24,
   "metadata": {},
   "outputs": [
    {
     "data": {
      "text/html": [
       "<div>\n",
       "<style scoped>\n",
       "    .dataframe tbody tr th:only-of-type {\n",
       "        vertical-align: middle;\n",
       "    }\n",
       "\n",
       "    .dataframe tbody tr th {\n",
       "        vertical-align: top;\n",
       "    }\n",
       "\n",
       "    .dataframe thead th {\n",
       "        text-align: right;\n",
       "    }\n",
       "</style>\n",
       "<table border=\"1\" class=\"dataframe\">\n",
       "  <thead>\n",
       "    <tr style=\"text-align: right;\">\n",
       "      <th></th>\n",
       "      <th>sales</th>\n",
       "    </tr>\n",
       "    <tr>\n",
       "      <th>platform</th>\n",
       "      <th></th>\n",
       "    </tr>\n",
       "  </thead>\n",
       "  <tbody>\n",
       "    <tr>\n",
       "      <td>PS2</td>\n",
       "      <td>1233.56</td>\n",
       "    </tr>\n",
       "    <tr>\n",
       "      <td>X360</td>\n",
       "      <td>961.24</td>\n",
       "    </tr>\n",
       "    <tr>\n",
       "      <td>PS3</td>\n",
       "      <td>931.34</td>\n",
       "    </tr>\n",
       "    <tr>\n",
       "      <td>Wii</td>\n",
       "      <td>891.18</td>\n",
       "    </tr>\n",
       "    <tr>\n",
       "      <td>DS</td>\n",
       "      <td>802.76</td>\n",
       "    </tr>\n",
       "    <tr>\n",
       "      <td>PS</td>\n",
       "      <td>727.58</td>\n",
       "    </tr>\n",
       "    <tr>\n",
       "      <td>PS4</td>\n",
       "      <td>314.14</td>\n",
       "    </tr>\n",
       "    <tr>\n",
       "      <td>GBA</td>\n",
       "      <td>312.88</td>\n",
       "    </tr>\n",
       "    <tr>\n",
       "      <td>PSP</td>\n",
       "      <td>289.53</td>\n",
       "    </tr>\n",
       "    <tr>\n",
       "      <td>3DS</td>\n",
       "      <td>257.81</td>\n",
       "    </tr>\n",
       "    <tr>\n",
       "      <td>PC</td>\n",
       "      <td>255.76</td>\n",
       "    </tr>\n",
       "    <tr>\n",
       "      <td>GB</td>\n",
       "      <td>254.43</td>\n",
       "    </tr>\n",
       "    <tr>\n",
       "      <td>XB</td>\n",
       "      <td>251.57</td>\n",
       "    </tr>\n",
       "    <tr>\n",
       "      <td>NES</td>\n",
       "      <td>251.07</td>\n",
       "    </tr>\n",
       "    <tr>\n",
       "      <td>N64</td>\n",
       "      <td>218.01</td>\n",
       "    </tr>\n",
       "    <tr>\n",
       "      <td>SNES</td>\n",
       "      <td>200.04</td>\n",
       "    </tr>\n",
       "    <tr>\n",
       "      <td>GC</td>\n",
       "      <td>196.73</td>\n",
       "    </tr>\n",
       "    <tr>\n",
       "      <td>XOne</td>\n",
       "      <td>159.32</td>\n",
       "    </tr>\n",
       "    <tr>\n",
       "      <td>2600</td>\n",
       "      <td>86.48</td>\n",
       "    </tr>\n",
       "    <tr>\n",
       "      <td>WiiU</td>\n",
       "      <td>82.19</td>\n",
       "    </tr>\n",
       "    <tr>\n",
       "      <td>PSV</td>\n",
       "      <td>53.81</td>\n",
       "    </tr>\n",
       "    <tr>\n",
       "      <td>SAT</td>\n",
       "      <td>33.59</td>\n",
       "    </tr>\n",
       "    <tr>\n",
       "      <td>GEN</td>\n",
       "      <td>28.35</td>\n",
       "    </tr>\n",
       "    <tr>\n",
       "      <td>DC</td>\n",
       "      <td>15.95</td>\n",
       "    </tr>\n",
       "    <tr>\n",
       "      <td>SCD</td>\n",
       "      <td>1.86</td>\n",
       "    </tr>\n",
       "    <tr>\n",
       "      <td>NG</td>\n",
       "      <td>1.44</td>\n",
       "    </tr>\n",
       "    <tr>\n",
       "      <td>WS</td>\n",
       "      <td>1.42</td>\n",
       "    </tr>\n",
       "    <tr>\n",
       "      <td>TG16</td>\n",
       "      <td>0.16</td>\n",
       "    </tr>\n",
       "    <tr>\n",
       "      <td>3DO</td>\n",
       "      <td>0.10</td>\n",
       "    </tr>\n",
       "    <tr>\n",
       "      <td>GG</td>\n",
       "      <td>0.04</td>\n",
       "    </tr>\n",
       "    <tr>\n",
       "      <td>PCFX</td>\n",
       "      <td>0.03</td>\n",
       "    </tr>\n",
       "  </tbody>\n",
       "</table>\n",
       "</div>"
      ],
      "text/plain": [
       "            sales\n",
       "platform         \n",
       "PS2       1233.56\n",
       "X360       961.24\n",
       "PS3        931.34\n",
       "Wii        891.18\n",
       "DS         802.76\n",
       "PS         727.58\n",
       "PS4        314.14\n",
       "GBA        312.88\n",
       "PSP        289.53\n",
       "3DS        257.81\n",
       "PC         255.76\n",
       "GB         254.43\n",
       "XB         251.57\n",
       "NES        251.07\n",
       "N64        218.01\n",
       "SNES       200.04\n",
       "GC         196.73\n",
       "XOne       159.32\n",
       "2600        86.48\n",
       "WiiU        82.19\n",
       "PSV         53.81\n",
       "SAT         33.59\n",
       "GEN         28.35\n",
       "DC          15.95\n",
       "SCD          1.86\n",
       "NG           1.44\n",
       "WS           1.42\n",
       "TG16         0.16\n",
       "3DO          0.10\n",
       "GG           0.04\n",
       "PCFX         0.03"
      ]
     },
     "metadata": {},
     "output_type": "display_data"
    }
   ],
   "source": [
    "# сводная таблица\n",
    "sales_per_platform = df.pivot_table(index='platform', values='sales', aggfunc='sum')\n",
    "sales_per_platform = sales_per_platform.sort_values(by='sales', ascending=False)\n",
    "display(sales_per_platform)\n",
    "top = list(sales_per_platform.index[:5])"
   ]
  },
  {
   "cell_type": "markdown",
   "metadata": {},
   "source": [
    "<div style=\"border:solid blue 2px; padding: 20px\">\n",
    "    \n",
    "    \n",
    "Самые востребованные платформы по продажам \n",
    "    \n",
    "    \n",
    "    \n",
    "- `PS2`\n",
    "\n",
    "    \n",
    "    \n",
    "- `X360`\n",
    "    \n",
    "    \n",
    "    \n",
    "- `PS3`\n",
    "    \n",
    "    \n",
    "    \n",
    "- `Wii`\n",
    "   \n",
    "    \n",
    "</div> "
   ]
  },
  {
   "cell_type": "markdown",
   "metadata": {},
   "source": [
    "<div style=\"border:solid blue 2px; padding: 20px\">\n",
    "    \n",
    "    \n",
    "Методом `pivot_table()` получим сводную таблицу по `year_of_release` для `top`\n",
    "    \n",
    "и методом `plot()` построим график `top` по годам\n",
    "    \n",
    "\n",
    "    \n",
    "</div> "
   ]
  },
  {
   "cell_type": "code",
   "execution_count": 25,
   "metadata": {
    "scrolled": false
   },
   "outputs": [
    {
     "data": {
      "text/plain": [
       "<matplotlib.axes._subplots.AxesSubplot at 0x7f36af26e110>"
      ]
     },
     "execution_count": 25,
     "metadata": {},
     "output_type": "execute_result"
    },
    {
     "data": {
      "image/png": "[encoded data removed]",
      "text/plain": [
       "<Figure size 720x360 with 1 Axes>"
      ]
     },
     "metadata": {
      "needs_background": "light"
     },
     "output_type": "display_data"
    }
   ],
   "source": [
    "# сводная таблица\n",
    "sales_top = df.query('platform in @top').pivot_table(index='year_of_release', columns='platform', values='sales', aggfunc='sum')\n",
    "sales_top.plot(style='o-', grid=True, xlim=(2000, 2016), figsize=(10,5), legend=True, title='Количество продаж по платформам за год')"
   ]
  },
  {
   "cell_type": "markdown",
   "metadata": {},
   "source": [
    "<div style=\"border:solid blue 2px; padding: 20px\">\n",
    "    \n",
    "    \n",
    "Пик продаж приходится со `2` по `4` года после выходы игровой платформы\n",
    "   \n",
    "    \n",
    "</div> "
   ]
  },
  {
   "cell_type": "markdown",
   "metadata": {},
   "source": [
    "<div style=\"border:solid blue 2px; padding: 20px\">\n",
    "    \n",
    "    \n",
    "Методом `pivot_table()` получим сводную таблицу по `year_of_release` для платформ `platform` \n",
    "    \n",
    "\n",
    "    \n",
    "</div> "
   ]
  },
  {
   "cell_type": "code",
   "execution_count": 26,
   "metadata": {},
   "outputs": [
    {
     "data": {
      "text/html": [
       "<div>\n",
       "<style scoped>\n",
       "    .dataframe tbody tr th:only-of-type {\n",
       "        vertical-align: middle;\n",
       "    }\n",
       "\n",
       "    .dataframe tbody tr th {\n",
       "        vertical-align: top;\n",
       "    }\n",
       "\n",
       "    .dataframe thead th {\n",
       "        text-align: right;\n",
       "    }\n",
       "</style>\n",
       "<table border=\"1\" class=\"dataframe\">\n",
       "  <thead>\n",
       "    <tr style=\"text-align: right;\">\n",
       "      <th>platform</th>\n",
       "      <th>PS</th>\n",
       "      <th>PS2</th>\n",
       "      <th>PS3</th>\n",
       "      <th>PS4</th>\n",
       "      <th>PSP</th>\n",
       "      <th>PSV</th>\n",
       "    </tr>\n",
       "    <tr>\n",
       "      <th>year_of_release</th>\n",
       "      <th></th>\n",
       "      <th></th>\n",
       "      <th></th>\n",
       "      <th></th>\n",
       "      <th></th>\n",
       "      <th></th>\n",
       "    </tr>\n",
       "  </thead>\n",
       "  <tbody>\n",
       "    <tr>\n",
       "      <td>1994</td>\n",
       "      <td>6.03</td>\n",
       "      <td>_</td>\n",
       "      <td>_</td>\n",
       "      <td>_</td>\n",
       "      <td>_</td>\n",
       "      <td>_</td>\n",
       "    </tr>\n",
       "    <tr>\n",
       "      <td>1995</td>\n",
       "      <td>35.96</td>\n",
       "      <td>_</td>\n",
       "      <td>_</td>\n",
       "      <td>_</td>\n",
       "      <td>_</td>\n",
       "      <td>_</td>\n",
       "    </tr>\n",
       "    <tr>\n",
       "      <td>1996</td>\n",
       "      <td>94.7</td>\n",
       "      <td>_</td>\n",
       "      <td>_</td>\n",
       "      <td>_</td>\n",
       "      <td>_</td>\n",
       "      <td>_</td>\n",
       "    </tr>\n",
       "    <tr>\n",
       "      <td>1997</td>\n",
       "      <td>136.17</td>\n",
       "      <td>_</td>\n",
       "      <td>_</td>\n",
       "      <td>_</td>\n",
       "      <td>_</td>\n",
       "      <td>_</td>\n",
       "    </tr>\n",
       "    <tr>\n",
       "      <td>1998</td>\n",
       "      <td>169.49</td>\n",
       "      <td>_</td>\n",
       "      <td>_</td>\n",
       "      <td>_</td>\n",
       "      <td>_</td>\n",
       "      <td>_</td>\n",
       "    </tr>\n",
       "    <tr>\n",
       "      <td>1999</td>\n",
       "      <td>144.53</td>\n",
       "      <td>_</td>\n",
       "      <td>_</td>\n",
       "      <td>_</td>\n",
       "      <td>_</td>\n",
       "      <td>_</td>\n",
       "    </tr>\n",
       "    <tr>\n",
       "      <td>2000</td>\n",
       "      <td>96.37</td>\n",
       "      <td>39.17</td>\n",
       "      <td>_</td>\n",
       "      <td>_</td>\n",
       "      <td>_</td>\n",
       "      <td>_</td>\n",
       "    </tr>\n",
       "    <tr>\n",
       "      <td>2001</td>\n",
       "      <td>35.59</td>\n",
       "      <td>166.43</td>\n",
       "      <td>_</td>\n",
       "      <td>_</td>\n",
       "      <td>_</td>\n",
       "      <td>_</td>\n",
       "    </tr>\n",
       "    <tr>\n",
       "      <td>2002</td>\n",
       "      <td>6.67</td>\n",
       "      <td>205.38</td>\n",
       "      <td>_</td>\n",
       "      <td>_</td>\n",
       "      <td>_</td>\n",
       "      <td>_</td>\n",
       "    </tr>\n",
       "    <tr>\n",
       "      <td>2003</td>\n",
       "      <td>2.07</td>\n",
       "      <td>184.31</td>\n",
       "      <td>_</td>\n",
       "      <td>_</td>\n",
       "      <td>_</td>\n",
       "      <td>_</td>\n",
       "    </tr>\n",
       "    <tr>\n",
       "      <td>2004</td>\n",
       "      <td>_</td>\n",
       "      <td>211.81</td>\n",
       "      <td>_</td>\n",
       "      <td>_</td>\n",
       "      <td>7.06</td>\n",
       "      <td>_</td>\n",
       "    </tr>\n",
       "    <tr>\n",
       "      <td>2005</td>\n",
       "      <td>_</td>\n",
       "      <td>160.66</td>\n",
       "      <td>_</td>\n",
       "      <td>_</td>\n",
       "      <td>43.84</td>\n",
       "      <td>_</td>\n",
       "    </tr>\n",
       "    <tr>\n",
       "      <td>2006</td>\n",
       "      <td>_</td>\n",
       "      <td>103.42</td>\n",
       "      <td>20.96</td>\n",
       "      <td>_</td>\n",
       "      <td>55.32</td>\n",
       "      <td>_</td>\n",
       "    </tr>\n",
       "    <tr>\n",
       "      <td>2007</td>\n",
       "      <td>_</td>\n",
       "      <td>75.99</td>\n",
       "      <td>73.19</td>\n",
       "      <td>_</td>\n",
       "      <td>46.93</td>\n",
       "      <td>_</td>\n",
       "    </tr>\n",
       "    <tr>\n",
       "      <td>2008</td>\n",
       "      <td>_</td>\n",
       "      <td>53.9</td>\n",
       "      <td>118.52</td>\n",
       "      <td>_</td>\n",
       "      <td>34.55</td>\n",
       "      <td>_</td>\n",
       "    </tr>\n",
       "    <tr>\n",
       "      <td>2009</td>\n",
       "      <td>_</td>\n",
       "      <td>26.4</td>\n",
       "      <td>130.93</td>\n",
       "      <td>_</td>\n",
       "      <td>37.78</td>\n",
       "      <td>_</td>\n",
       "    </tr>\n",
       "    <tr>\n",
       "      <td>2010</td>\n",
       "      <td>_</td>\n",
       "      <td>5.64</td>\n",
       "      <td>142.17</td>\n",
       "      <td>_</td>\n",
       "      <td>35.04</td>\n",
       "      <td>_</td>\n",
       "    </tr>\n",
       "    <tr>\n",
       "      <td>2011</td>\n",
       "      <td>_</td>\n",
       "      <td>0.45</td>\n",
       "      <td>156.78</td>\n",
       "      <td>_</td>\n",
       "      <td>17.82</td>\n",
       "      <td>4.63</td>\n",
       "    </tr>\n",
       "    <tr>\n",
       "      <td>2012</td>\n",
       "      <td>_</td>\n",
       "      <td>_</td>\n",
       "      <td>107.36</td>\n",
       "      <td>_</td>\n",
       "      <td>7.69</td>\n",
       "      <td>16.19</td>\n",
       "    </tr>\n",
       "    <tr>\n",
       "      <td>2013</td>\n",
       "      <td>_</td>\n",
       "      <td>_</td>\n",
       "      <td>113.25</td>\n",
       "      <td>25.99</td>\n",
       "      <td>3.14</td>\n",
       "      <td>10.59</td>\n",
       "    </tr>\n",
       "    <tr>\n",
       "      <td>2014</td>\n",
       "      <td>_</td>\n",
       "      <td>_</td>\n",
       "      <td>47.76</td>\n",
       "      <td>100</td>\n",
       "      <td>0.24</td>\n",
       "      <td>11.9</td>\n",
       "    </tr>\n",
       "    <tr>\n",
       "      <td>2015</td>\n",
       "      <td>_</td>\n",
       "      <td>_</td>\n",
       "      <td>16.82</td>\n",
       "      <td>118.9</td>\n",
       "      <td>0.12</td>\n",
       "      <td>6.25</td>\n",
       "    </tr>\n",
       "    <tr>\n",
       "      <td>2016</td>\n",
       "      <td>_</td>\n",
       "      <td>_</td>\n",
       "      <td>3.6</td>\n",
       "      <td>69.25</td>\n",
       "      <td>_</td>\n",
       "      <td>4.25</td>\n",
       "    </tr>\n",
       "  </tbody>\n",
       "</table>\n",
       "</div>"
      ],
      "text/plain": [
       "platform             PS     PS2     PS3    PS4    PSP    PSV\n",
       "year_of_release                                             \n",
       "1994               6.03       _       _      _      _      _\n",
       "1995              35.96       _       _      _      _      _\n",
       "1996               94.7       _       _      _      _      _\n",
       "1997             136.17       _       _      _      _      _\n",
       "1998             169.49       _       _      _      _      _\n",
       "1999             144.53       _       _      _      _      _\n",
       "2000              96.37   39.17       _      _      _      _\n",
       "2001              35.59  166.43       _      _      _      _\n",
       "2002               6.67  205.38       _      _      _      _\n",
       "2003               2.07  184.31       _      _      _      _\n",
       "2004                  _  211.81       _      _   7.06      _\n",
       "2005                  _  160.66       _      _  43.84      _\n",
       "2006                  _  103.42   20.96      _  55.32      _\n",
       "2007                  _   75.99   73.19      _  46.93      _\n",
       "2008                  _    53.9  118.52      _  34.55      _\n",
       "2009                  _    26.4  130.93      _  37.78      _\n",
       "2010                  _    5.64  142.17      _  35.04      _\n",
       "2011                  _    0.45  156.78      _  17.82   4.63\n",
       "2012                  _       _  107.36      _   7.69  16.19\n",
       "2013                  _       _  113.25  25.99   3.14  10.59\n",
       "2014                  _       _   47.76    100   0.24   11.9\n",
       "2015                  _       _   16.82  118.9   0.12   6.25\n",
       "2016                  _       _     3.6  69.25      _   4.25"
      ]
     },
     "metadata": {},
     "output_type": "display_data"
    }
   ],
   "source": [
    "# сводная таблица для всех playstation\n",
    "platform_playstation = df.query('platform_type == \"playstation\"').pivot_table(index='year_of_release', columns='platform', values='sales', aggfunc='sum')\n",
    "display(platform_playstation.fillna('_'))"
   ]
  },
  {
   "cell_type": "markdown",
   "metadata": {},
   "source": [
    "<div style=\"border:solid blue 2px; padding: 20px\">\n",
    "    \n",
    "    \n",
    "Платформы `playstation` имеют характерные особенности появления новых и окончания старых версий\n",
    "    \n",
    "- `PS` продавалась в течение `10` лет и обновилась на `PS2` через `6` лет\n",
    "    \n",
    "    \n",
    "- `PS2` продавалась в течение `12` лет и обновилась на `PS3` через `6` лет\n",
    "    \n",
    "    \n",
    "- `PS3` продавалась в течение `11` лет и обновилась на `PS4` через `7` лет\n",
    "    \n",
    "    \n",
    "- `PS4` продавалась с `2013` года\n",
    "    \n",
    "    \n",
    "- `PSP` продавалась в течение `12` лет и обновилась на `PSV` через `7` лет\n",
    "    \n",
    "    \n",
    "- `PSV` продавалась с `2011` года   \n",
    "    \n",
    "</div> "
   ]
  },
  {
   "cell_type": "code",
   "execution_count": 27,
   "metadata": {},
   "outputs": [
    {
     "data": {
      "text/html": [
       "<div>\n",
       "<style scoped>\n",
       "    .dataframe tbody tr th:only-of-type {\n",
       "        vertical-align: middle;\n",
       "    }\n",
       "\n",
       "    .dataframe tbody tr th {\n",
       "        vertical-align: top;\n",
       "    }\n",
       "\n",
       "    .dataframe thead th {\n",
       "        text-align: right;\n",
       "    }\n",
       "</style>\n",
       "<table border=\"1\" class=\"dataframe\">\n",
       "  <thead>\n",
       "    <tr style=\"text-align: right;\">\n",
       "      <th>platform</th>\n",
       "      <th>X360</th>\n",
       "      <th>XB</th>\n",
       "      <th>XOne</th>\n",
       "    </tr>\n",
       "    <tr>\n",
       "      <th>year_of_release</th>\n",
       "      <th></th>\n",
       "      <th></th>\n",
       "      <th></th>\n",
       "    </tr>\n",
       "  </thead>\n",
       "  <tbody>\n",
       "    <tr>\n",
       "      <td>2000</td>\n",
       "      <td>_</td>\n",
       "      <td>0.99</td>\n",
       "      <td>_</td>\n",
       "    </tr>\n",
       "    <tr>\n",
       "      <td>2001</td>\n",
       "      <td>_</td>\n",
       "      <td>22.26</td>\n",
       "      <td>_</td>\n",
       "    </tr>\n",
       "    <tr>\n",
       "      <td>2002</td>\n",
       "      <td>_</td>\n",
       "      <td>48.01</td>\n",
       "      <td>_</td>\n",
       "    </tr>\n",
       "    <tr>\n",
       "      <td>2003</td>\n",
       "      <td>_</td>\n",
       "      <td>55.04</td>\n",
       "      <td>_</td>\n",
       "    </tr>\n",
       "    <tr>\n",
       "      <td>2004</td>\n",
       "      <td>_</td>\n",
       "      <td>65.42</td>\n",
       "      <td>_</td>\n",
       "    </tr>\n",
       "    <tr>\n",
       "      <td>2005</td>\n",
       "      <td>8.25</td>\n",
       "      <td>49.08</td>\n",
       "      <td>_</td>\n",
       "    </tr>\n",
       "    <tr>\n",
       "      <td>2006</td>\n",
       "      <td>51.62</td>\n",
       "      <td>10.04</td>\n",
       "      <td>_</td>\n",
       "    </tr>\n",
       "    <tr>\n",
       "      <td>2007</td>\n",
       "      <td>95.41</td>\n",
       "      <td>0.55</td>\n",
       "      <td>_</td>\n",
       "    </tr>\n",
       "    <tr>\n",
       "      <td>2008</td>\n",
       "      <td>135.26</td>\n",
       "      <td>0.18</td>\n",
       "      <td>_</td>\n",
       "    </tr>\n",
       "    <tr>\n",
       "      <td>2009</td>\n",
       "      <td>120.29</td>\n",
       "      <td>_</td>\n",
       "      <td>_</td>\n",
       "    </tr>\n",
       "    <tr>\n",
       "      <td>2010</td>\n",
       "      <td>170.03</td>\n",
       "      <td>_</td>\n",
       "      <td>_</td>\n",
       "    </tr>\n",
       "    <tr>\n",
       "      <td>2011</td>\n",
       "      <td>143.84</td>\n",
       "      <td>_</td>\n",
       "      <td>_</td>\n",
       "    </tr>\n",
       "    <tr>\n",
       "      <td>2012</td>\n",
       "      <td>99.74</td>\n",
       "      <td>_</td>\n",
       "      <td>_</td>\n",
       "    </tr>\n",
       "    <tr>\n",
       "      <td>2013</td>\n",
       "      <td>88.58</td>\n",
       "      <td>_</td>\n",
       "      <td>18.96</td>\n",
       "    </tr>\n",
       "    <tr>\n",
       "      <td>2014</td>\n",
       "      <td>34.74</td>\n",
       "      <td>_</td>\n",
       "      <td>54.07</td>\n",
       "    </tr>\n",
       "    <tr>\n",
       "      <td>2015</td>\n",
       "      <td>11.96</td>\n",
       "      <td>_</td>\n",
       "      <td>60.14</td>\n",
       "    </tr>\n",
       "    <tr>\n",
       "      <td>2016</td>\n",
       "      <td>1.52</td>\n",
       "      <td>_</td>\n",
       "      <td>26.15</td>\n",
       "    </tr>\n",
       "  </tbody>\n",
       "</table>\n",
       "</div>"
      ],
      "text/plain": [
       "platform           X360     XB   XOne\n",
       "year_of_release                      \n",
       "2000                  _   0.99      _\n",
       "2001                  _  22.26      _\n",
       "2002                  _  48.01      _\n",
       "2003                  _  55.04      _\n",
       "2004                  _  65.42      _\n",
       "2005               8.25  49.08      _\n",
       "2006              51.62  10.04      _\n",
       "2007              95.41   0.55      _\n",
       "2008             135.26   0.18      _\n",
       "2009             120.29      _      _\n",
       "2010             170.03      _      _\n",
       "2011             143.84      _      _\n",
       "2012              99.74      _      _\n",
       "2013              88.58      _  18.96\n",
       "2014              34.74      _  54.07\n",
       "2015              11.96      _  60.14\n",
       "2016               1.52      _  26.15"
      ]
     },
     "metadata": {},
     "output_type": "display_data"
    }
   ],
   "source": [
    "# сводная таблица для всех microsoft\n",
    "platform_microsoft = df.query('platform_type == \"microsoft\"').pivot_table(index='year_of_release', columns='platform', values='sales', aggfunc='sum')\n",
    "display(platform_microsoft.fillna('_'))"
   ]
  },
  {
   "cell_type": "markdown",
   "metadata": {},
   "source": [
    "<div style=\"border:solid blue 2px; padding: 20px\">\n",
    "    \n",
    "    \n",
    "Платформы `microsoft` имеют характерные особенности появления новых и окончания старых версий\n",
    "    \n",
    "- `XB` продавалась в течение `9` лет и обновилась на `X360` через `5` лет\n",
    "    \n",
    "    \n",
    "- `X360` продавалась в течение `12` лет и обновилась на `PS3` через `8` лет\n",
    "   \n",
    "    \n",
    "- `XOne` продавалась с `2013` года\n",
    "    \n",
    "\n",
    "    \n",
    "</div> "
   ]
  },
  {
   "cell_type": "code",
   "execution_count": 28,
   "metadata": {},
   "outputs": [
    {
     "data": {
      "text/html": [
       "<div>\n",
       "<style scoped>\n",
       "    .dataframe tbody tr th:only-of-type {\n",
       "        vertical-align: middle;\n",
       "    }\n",
       "\n",
       "    .dataframe tbody tr th {\n",
       "        vertical-align: top;\n",
       "    }\n",
       "\n",
       "    .dataframe thead th {\n",
       "        text-align: right;\n",
       "    }\n",
       "</style>\n",
       "<table border=\"1\" class=\"dataframe\">\n",
       "  <thead>\n",
       "    <tr style=\"text-align: right;\">\n",
       "      <th>platform</th>\n",
       "      <th>3DS</th>\n",
       "      <th>DS</th>\n",
       "      <th>GB</th>\n",
       "      <th>GBA</th>\n",
       "      <th>GC</th>\n",
       "      <th>N64</th>\n",
       "      <th>NES</th>\n",
       "      <th>SNES</th>\n",
       "      <th>Wii</th>\n",
       "      <th>WiiU</th>\n",
       "    </tr>\n",
       "    <tr>\n",
       "      <th>year_of_release</th>\n",
       "      <th></th>\n",
       "      <th></th>\n",
       "      <th></th>\n",
       "      <th></th>\n",
       "      <th></th>\n",
       "      <th></th>\n",
       "      <th></th>\n",
       "      <th></th>\n",
       "      <th></th>\n",
       "      <th></th>\n",
       "    </tr>\n",
       "  </thead>\n",
       "  <tbody>\n",
       "    <tr>\n",
       "      <td>1983</td>\n",
       "      <td>_</td>\n",
       "      <td>_</td>\n",
       "      <td>_</td>\n",
       "      <td>_</td>\n",
       "      <td>_</td>\n",
       "      <td>_</td>\n",
       "      <td>10.96</td>\n",
       "      <td>_</td>\n",
       "      <td>_</td>\n",
       "      <td>_</td>\n",
       "    </tr>\n",
       "    <tr>\n",
       "      <td>1984</td>\n",
       "      <td>_</td>\n",
       "      <td>_</td>\n",
       "      <td>_</td>\n",
       "      <td>_</td>\n",
       "      <td>_</td>\n",
       "      <td>_</td>\n",
       "      <td>50.08</td>\n",
       "      <td>_</td>\n",
       "      <td>_</td>\n",
       "      <td>_</td>\n",
       "    </tr>\n",
       "    <tr>\n",
       "      <td>1985</td>\n",
       "      <td>_</td>\n",
       "      <td>_</td>\n",
       "      <td>_</td>\n",
       "      <td>_</td>\n",
       "      <td>_</td>\n",
       "      <td>_</td>\n",
       "      <td>53.46</td>\n",
       "      <td>_</td>\n",
       "      <td>_</td>\n",
       "      <td>_</td>\n",
       "    </tr>\n",
       "    <tr>\n",
       "      <td>1986</td>\n",
       "      <td>_</td>\n",
       "      <td>_</td>\n",
       "      <td>_</td>\n",
       "      <td>_</td>\n",
       "      <td>_</td>\n",
       "      <td>_</td>\n",
       "      <td>36.41</td>\n",
       "      <td>_</td>\n",
       "      <td>_</td>\n",
       "      <td>_</td>\n",
       "    </tr>\n",
       "    <tr>\n",
       "      <td>1987</td>\n",
       "      <td>_</td>\n",
       "      <td>_</td>\n",
       "      <td>_</td>\n",
       "      <td>_</td>\n",
       "      <td>_</td>\n",
       "      <td>_</td>\n",
       "      <td>19.76</td>\n",
       "      <td>_</td>\n",
       "      <td>_</td>\n",
       "      <td>_</td>\n",
       "    </tr>\n",
       "    <tr>\n",
       "      <td>1988</td>\n",
       "      <td>_</td>\n",
       "      <td>_</td>\n",
       "      <td>1.43</td>\n",
       "      <td>_</td>\n",
       "      <td>_</td>\n",
       "      <td>_</td>\n",
       "      <td>45.01</td>\n",
       "      <td>_</td>\n",
       "      <td>_</td>\n",
       "      <td>_</td>\n",
       "    </tr>\n",
       "    <tr>\n",
       "      <td>1989</td>\n",
       "      <td>_</td>\n",
       "      <td>_</td>\n",
       "      <td>64.97</td>\n",
       "      <td>_</td>\n",
       "      <td>_</td>\n",
       "      <td>_</td>\n",
       "      <td>7.85</td>\n",
       "      <td>_</td>\n",
       "      <td>_</td>\n",
       "      <td>_</td>\n",
       "    </tr>\n",
       "    <tr>\n",
       "      <td>1990</td>\n",
       "      <td>_</td>\n",
       "      <td>_</td>\n",
       "      <td>4.89</td>\n",
       "      <td>_</td>\n",
       "      <td>_</td>\n",
       "      <td>_</td>\n",
       "      <td>15.73</td>\n",
       "      <td>26.15</td>\n",
       "      <td>_</td>\n",
       "      <td>_</td>\n",
       "    </tr>\n",
       "    <tr>\n",
       "      <td>1991</td>\n",
       "      <td>_</td>\n",
       "      <td>_</td>\n",
       "      <td>5.57</td>\n",
       "      <td>_</td>\n",
       "      <td>_</td>\n",
       "      <td>_</td>\n",
       "      <td>6.11</td>\n",
       "      <td>16.22</td>\n",
       "      <td>_</td>\n",
       "      <td>_</td>\n",
       "    </tr>\n",
       "    <tr>\n",
       "      <td>1992</td>\n",
       "      <td>_</td>\n",
       "      <td>_</td>\n",
       "      <td>25.49</td>\n",
       "      <td>_</td>\n",
       "      <td>_</td>\n",
       "      <td>_</td>\n",
       "      <td>1.98</td>\n",
       "      <td>32.98</td>\n",
       "      <td>_</td>\n",
       "      <td>_</td>\n",
       "    </tr>\n",
       "    <tr>\n",
       "      <td>1993</td>\n",
       "      <td>_</td>\n",
       "      <td>_</td>\n",
       "      <td>_</td>\n",
       "      <td>_</td>\n",
       "      <td>_</td>\n",
       "      <td>_</td>\n",
       "      <td>3.61</td>\n",
       "      <td>40.02</td>\n",
       "      <td>_</td>\n",
       "      <td>_</td>\n",
       "    </tr>\n",
       "    <tr>\n",
       "      <td>1994</td>\n",
       "      <td>_</td>\n",
       "      <td>_</td>\n",
       "      <td>12.18</td>\n",
       "      <td>_</td>\n",
       "      <td>_</td>\n",
       "      <td>_</td>\n",
       "      <td>0.11</td>\n",
       "      <td>35.08</td>\n",
       "      <td>_</td>\n",
       "      <td>_</td>\n",
       "    </tr>\n",
       "    <tr>\n",
       "      <td>1995</td>\n",
       "      <td>_</td>\n",
       "      <td>_</td>\n",
       "      <td>3.6</td>\n",
       "      <td>_</td>\n",
       "      <td>_</td>\n",
       "      <td>_</td>\n",
       "      <td>_</td>\n",
       "      <td>32.2</td>\n",
       "      <td>_</td>\n",
       "      <td>_</td>\n",
       "    </tr>\n",
       "    <tr>\n",
       "      <td>1996</td>\n",
       "      <td>_</td>\n",
       "      <td>_</td>\n",
       "      <td>36.03</td>\n",
       "      <td>_</td>\n",
       "      <td>_</td>\n",
       "      <td>34.1</td>\n",
       "      <td>_</td>\n",
       "      <td>15.92</td>\n",
       "      <td>_</td>\n",
       "      <td>_</td>\n",
       "    </tr>\n",
       "    <tr>\n",
       "      <td>1997</td>\n",
       "      <td>_</td>\n",
       "      <td>_</td>\n",
       "      <td>6.37</td>\n",
       "      <td>_</td>\n",
       "      <td>_</td>\n",
       "      <td>39.5</td>\n",
       "      <td>_</td>\n",
       "      <td>0.99</td>\n",
       "      <td>_</td>\n",
       "      <td>_</td>\n",
       "    </tr>\n",
       "    <tr>\n",
       "      <td>1998</td>\n",
       "      <td>_</td>\n",
       "      <td>_</td>\n",
       "      <td>26.9</td>\n",
       "      <td>_</td>\n",
       "      <td>_</td>\n",
       "      <td>49.24</td>\n",
       "      <td>_</td>\n",
       "      <td>0.22</td>\n",
       "      <td>_</td>\n",
       "      <td>_</td>\n",
       "    </tr>\n",
       "    <tr>\n",
       "      <td>1999</td>\n",
       "      <td>_</td>\n",
       "      <td>_</td>\n",
       "      <td>38</td>\n",
       "      <td>_</td>\n",
       "      <td>_</td>\n",
       "      <td>57.87</td>\n",
       "      <td>_</td>\n",
       "      <td>0.26</td>\n",
       "      <td>_</td>\n",
       "      <td>_</td>\n",
       "    </tr>\n",
       "    <tr>\n",
       "      <td>2000</td>\n",
       "      <td>_</td>\n",
       "      <td>_</td>\n",
       "      <td>19.76</td>\n",
       "      <td>0.07</td>\n",
       "      <td>_</td>\n",
       "      <td>33.97</td>\n",
       "      <td>_</td>\n",
       "      <td>_</td>\n",
       "      <td>_</td>\n",
       "      <td>_</td>\n",
       "    </tr>\n",
       "    <tr>\n",
       "      <td>2001</td>\n",
       "      <td>_</td>\n",
       "      <td>_</td>\n",
       "      <td>9.24</td>\n",
       "      <td>61.53</td>\n",
       "      <td>26.34</td>\n",
       "      <td>3.25</td>\n",
       "      <td>_</td>\n",
       "      <td>_</td>\n",
       "      <td>_</td>\n",
       "      <td>_</td>\n",
       "    </tr>\n",
       "    <tr>\n",
       "      <td>2002</td>\n",
       "      <td>_</td>\n",
       "      <td>_</td>\n",
       "      <td>_</td>\n",
       "      <td>74.16</td>\n",
       "      <td>51.81</td>\n",
       "      <td>0.08</td>\n",
       "      <td>_</td>\n",
       "      <td>_</td>\n",
       "      <td>_</td>\n",
       "      <td>_</td>\n",
       "    </tr>\n",
       "    <tr>\n",
       "      <td>2003</td>\n",
       "      <td>_</td>\n",
       "      <td>_</td>\n",
       "      <td>_</td>\n",
       "      <td>56.67</td>\n",
       "      <td>50.61</td>\n",
       "      <td>_</td>\n",
       "      <td>_</td>\n",
       "      <td>_</td>\n",
       "      <td>_</td>\n",
       "      <td>_</td>\n",
       "    </tr>\n",
       "    <tr>\n",
       "      <td>2004</td>\n",
       "      <td>_</td>\n",
       "      <td>17.27</td>\n",
       "      <td>_</td>\n",
       "      <td>77.91</td>\n",
       "      <td>28.82</td>\n",
       "      <td>_</td>\n",
       "      <td>_</td>\n",
       "      <td>_</td>\n",
       "      <td>_</td>\n",
       "      <td>_</td>\n",
       "    </tr>\n",
       "    <tr>\n",
       "      <td>2005</td>\n",
       "      <td>_</td>\n",
       "      <td>130.14</td>\n",
       "      <td>_</td>\n",
       "      <td>33.86</td>\n",
       "      <td>27.62</td>\n",
       "      <td>_</td>\n",
       "      <td>_</td>\n",
       "      <td>_</td>\n",
       "      <td>_</td>\n",
       "      <td>_</td>\n",
       "    </tr>\n",
       "    <tr>\n",
       "      <td>2006</td>\n",
       "      <td>_</td>\n",
       "      <td>119.81</td>\n",
       "      <td>_</td>\n",
       "      <td>5.28</td>\n",
       "      <td>11.26</td>\n",
       "      <td>_</td>\n",
       "      <td>_</td>\n",
       "      <td>_</td>\n",
       "      <td>137.15</td>\n",
       "      <td>_</td>\n",
       "    </tr>\n",
       "    <tr>\n",
       "      <td>2007</td>\n",
       "      <td>_</td>\n",
       "      <td>146.94</td>\n",
       "      <td>_</td>\n",
       "      <td>3.4</td>\n",
       "      <td>0.27</td>\n",
       "      <td>_</td>\n",
       "      <td>_</td>\n",
       "      <td>_</td>\n",
       "      <td>152.77</td>\n",
       "      <td>_</td>\n",
       "    </tr>\n",
       "    <tr>\n",
       "      <td>2008</td>\n",
       "      <td>_</td>\n",
       "      <td>145.31</td>\n",
       "      <td>_</td>\n",
       "      <td>_</td>\n",
       "      <td>_</td>\n",
       "      <td>_</td>\n",
       "      <td>_</td>\n",
       "      <td>_</td>\n",
       "      <td>171.32</td>\n",
       "      <td>_</td>\n",
       "    </tr>\n",
       "    <tr>\n",
       "      <td>2009</td>\n",
       "      <td>_</td>\n",
       "      <td>119.54</td>\n",
       "      <td>_</td>\n",
       "      <td>_</td>\n",
       "      <td>_</td>\n",
       "      <td>_</td>\n",
       "      <td>_</td>\n",
       "      <td>_</td>\n",
       "      <td>206.97</td>\n",
       "      <td>_</td>\n",
       "    </tr>\n",
       "    <tr>\n",
       "      <td>2010</td>\n",
       "      <td>_</td>\n",
       "      <td>85.02</td>\n",
       "      <td>_</td>\n",
       "      <td>_</td>\n",
       "      <td>_</td>\n",
       "      <td>_</td>\n",
       "      <td>_</td>\n",
       "      <td>_</td>\n",
       "      <td>127.95</td>\n",
       "      <td>_</td>\n",
       "    </tr>\n",
       "    <tr>\n",
       "      <td>2011</td>\n",
       "      <td>63.2</td>\n",
       "      <td>26.18</td>\n",
       "      <td>_</td>\n",
       "      <td>_</td>\n",
       "      <td>_</td>\n",
       "      <td>_</td>\n",
       "      <td>_</td>\n",
       "      <td>_</td>\n",
       "      <td>59.65</td>\n",
       "      <td>_</td>\n",
       "    </tr>\n",
       "    <tr>\n",
       "      <td>2012</td>\n",
       "      <td>51.36</td>\n",
       "      <td>11.01</td>\n",
       "      <td>_</td>\n",
       "      <td>_</td>\n",
       "      <td>_</td>\n",
       "      <td>_</td>\n",
       "      <td>_</td>\n",
       "      <td>_</td>\n",
       "      <td>21.71</td>\n",
       "      <td>17.56</td>\n",
       "    </tr>\n",
       "    <tr>\n",
       "      <td>2013</td>\n",
       "      <td>56.57</td>\n",
       "      <td>1.54</td>\n",
       "      <td>_</td>\n",
       "      <td>_</td>\n",
       "      <td>_</td>\n",
       "      <td>_</td>\n",
       "      <td>_</td>\n",
       "      <td>_</td>\n",
       "      <td>8.59</td>\n",
       "      <td>21.65</td>\n",
       "    </tr>\n",
       "    <tr>\n",
       "      <td>2014</td>\n",
       "      <td>43.76</td>\n",
       "      <td>_</td>\n",
       "      <td>_</td>\n",
       "      <td>_</td>\n",
       "      <td>_</td>\n",
       "      <td>_</td>\n",
       "      <td>_</td>\n",
       "      <td>_</td>\n",
       "      <td>3.75</td>\n",
       "      <td>22.03</td>\n",
       "    </tr>\n",
       "    <tr>\n",
       "      <td>2015</td>\n",
       "      <td>27.78</td>\n",
       "      <td>_</td>\n",
       "      <td>_</td>\n",
       "      <td>_</td>\n",
       "      <td>_</td>\n",
       "      <td>_</td>\n",
       "      <td>_</td>\n",
       "      <td>_</td>\n",
       "      <td>1.14</td>\n",
       "      <td>16.35</td>\n",
       "    </tr>\n",
       "    <tr>\n",
       "      <td>2016</td>\n",
       "      <td>15.14</td>\n",
       "      <td>_</td>\n",
       "      <td>_</td>\n",
       "      <td>_</td>\n",
       "      <td>_</td>\n",
       "      <td>_</td>\n",
       "      <td>_</td>\n",
       "      <td>_</td>\n",
       "      <td>0.18</td>\n",
       "      <td>4.6</td>\n",
       "    </tr>\n",
       "  </tbody>\n",
       "</table>\n",
       "</div>"
      ],
      "text/plain": [
       "platform           3DS      DS     GB    GBA     GC    N64    NES   SNES  \\\n",
       "year_of_release                                                            \n",
       "1983                 _       _      _      _      _      _  10.96      _   \n",
       "1984                 _       _      _      _      _      _  50.08      _   \n",
       "1985                 _       _      _      _      _      _  53.46      _   \n",
       "1986                 _       _      _      _      _      _  36.41      _   \n",
       "1987                 _       _      _      _      _      _  19.76      _   \n",
       "1988                 _       _   1.43      _      _      _  45.01      _   \n",
       "1989                 _       _  64.97      _      _      _   7.85      _   \n",
       "1990                 _       _   4.89      _      _      _  15.73  26.15   \n",
       "1991                 _       _   5.57      _      _      _   6.11  16.22   \n",
       "1992                 _       _  25.49      _      _      _   1.98  32.98   \n",
       "1993                 _       _      _      _      _      _   3.61  40.02   \n",
       "1994                 _       _  12.18      _      _      _   0.11  35.08   \n",
       "1995                 _       _    3.6      _      _      _      _   32.2   \n",
       "1996                 _       _  36.03      _      _   34.1      _  15.92   \n",
       "1997                 _       _   6.37      _      _   39.5      _   0.99   \n",
       "1998                 _       _   26.9      _      _  49.24      _   0.22   \n",
       "1999                 _       _     38      _      _  57.87      _   0.26   \n",
       "2000                 _       _  19.76   0.07      _  33.97      _      _   \n",
       "2001                 _       _   9.24  61.53  26.34   3.25      _      _   \n",
       "2002                 _       _      _  74.16  51.81   0.08      _      _   \n",
       "2003                 _       _      _  56.67  50.61      _      _      _   \n",
       "2004                 _   17.27      _  77.91  28.82      _      _      _   \n",
       "2005                 _  130.14      _  33.86  27.62      _      _      _   \n",
       "2006                 _  119.81      _   5.28  11.26      _      _      _   \n",
       "2007                 _  146.94      _    3.4   0.27      _      _      _   \n",
       "2008                 _  145.31      _      _      _      _      _      _   \n",
       "2009                 _  119.54      _      _      _      _      _      _   \n",
       "2010                 _   85.02      _      _      _      _      _      _   \n",
       "2011              63.2   26.18      _      _      _      _      _      _   \n",
       "2012             51.36   11.01      _      _      _      _      _      _   \n",
       "2013             56.57    1.54      _      _      _      _      _      _   \n",
       "2014             43.76       _      _      _      _      _      _      _   \n",
       "2015             27.78       _      _      _      _      _      _      _   \n",
       "2016             15.14       _      _      _      _      _      _      _   \n",
       "\n",
       "platform            Wii   WiiU  \n",
       "year_of_release                 \n",
       "1983                  _      _  \n",
       "1984                  _      _  \n",
       "1985                  _      _  \n",
       "1986                  _      _  \n",
       "1987                  _      _  \n",
       "1988                  _      _  \n",
       "1989                  _      _  \n",
       "1990                  _      _  \n",
       "1991                  _      _  \n",
       "1992                  _      _  \n",
       "1993                  _      _  \n",
       "1994                  _      _  \n",
       "1995                  _      _  \n",
       "1996                  _      _  \n",
       "1997                  _      _  \n",
       "1998                  _      _  \n",
       "1999                  _      _  \n",
       "2000                  _      _  \n",
       "2001                  _      _  \n",
       "2002                  _      _  \n",
       "2003                  _      _  \n",
       "2004                  _      _  \n",
       "2005                  _      _  \n",
       "2006             137.15      _  \n",
       "2007             152.77      _  \n",
       "2008             171.32      _  \n",
       "2009             206.97      _  \n",
       "2010             127.95      _  \n",
       "2011              59.65      _  \n",
       "2012              21.71  17.56  \n",
       "2013               8.59  21.65  \n",
       "2014               3.75  22.03  \n",
       "2015               1.14  16.35  \n",
       "2016               0.18    4.6  "
      ]
     },
     "metadata": {},
     "output_type": "display_data"
    }
   ],
   "source": [
    "# сводная таблица для всех nintendo\n",
    "platform_nintendo = df.query('platform_type == \"nintendo\"').pivot_table(index='year_of_release', columns='platform', values='sales', aggfunc='sum')\n",
    "display(platform_nintendo.fillna('_'))"
   ]
  },
  {
   "cell_type": "markdown",
   "metadata": {},
   "source": [
    "<div style=\"border:solid blue 2px; padding: 20px\">\n",
    "    \n",
    "    \n",
    "Платформы `nintendo` имеют характерные особенности появления новых и окончания старых версий\n",
    "    \n",
    "- `NES` продавалась в течение `12` лет и обновилась на `SNES` через `7` лет\n",
    "    \n",
    "    \n",
    "- `SNES` продавалась в течение `10` лет и обновилась на `N64` через `6` лет\n",
    "    \n",
    "    \n",
    "- `N64` продавалась в течение `7` лет и обновилась на `GC` через `5` лет\n",
    "    \n",
    "\n",
    "- `GC` продавалась в течение `7` лет и обновилась на `Wii` через `5` лет\n",
    "\n",
    "    \n",
    "- `Wii` продавалась в течение `11` лет и обновилась на `WiiU` через `6` лет\n",
    "    \n",
    "    \n",
    "- `WiiU` продавалась с `2012` года\n",
    "    \n",
    "    \n",
    "- `GB` продавалась в течение `14` лет и обновилась на `GBA` через `12` лет\n",
    "    \n",
    "    \n",
    "- `GBA` продавалась в течение `8` лет и обновилась на `DS` через `4` года\n",
    "    \n",
    "    \n",
    "- `DS` продавалась в течение `10` лет и обновилась на `3DS` через `7` года\n",
    "    \n",
    "    \n",
    "- `3DS` продавалась с `2011` года   \n",
    "    \n",
    "</div> "
   ]
  },
  {
   "cell_type": "code",
   "execution_count": 29,
   "metadata": {},
   "outputs": [
    {
     "data": {
      "text/html": [
       "<div>\n",
       "<style scoped>\n",
       "    .dataframe tbody tr th:only-of-type {\n",
       "        vertical-align: middle;\n",
       "    }\n",
       "\n",
       "    .dataframe tbody tr th {\n",
       "        vertical-align: top;\n",
       "    }\n",
       "\n",
       "    .dataframe thead th {\n",
       "        text-align: right;\n",
       "    }\n",
       "</style>\n",
       "<table border=\"1\" class=\"dataframe\">\n",
       "  <thead>\n",
       "    <tr style=\"text-align: right;\">\n",
       "      <th>platform</th>\n",
       "      <th>DC</th>\n",
       "      <th>GEN</th>\n",
       "      <th>SAT</th>\n",
       "      <th>SCD</th>\n",
       "    </tr>\n",
       "    <tr>\n",
       "      <th>year_of_release</th>\n",
       "      <th></th>\n",
       "      <th></th>\n",
       "      <th></th>\n",
       "      <th></th>\n",
       "    </tr>\n",
       "  </thead>\n",
       "  <tbody>\n",
       "    <tr>\n",
       "      <td>1990</td>\n",
       "      <td>_</td>\n",
       "      <td>2.6</td>\n",
       "      <td>_</td>\n",
       "      <td>_</td>\n",
       "    </tr>\n",
       "    <tr>\n",
       "      <td>1991</td>\n",
       "      <td>_</td>\n",
       "      <td>4.33</td>\n",
       "      <td>_</td>\n",
       "      <td>_</td>\n",
       "    </tr>\n",
       "    <tr>\n",
       "      <td>1992</td>\n",
       "      <td>_</td>\n",
       "      <td>12.64</td>\n",
       "      <td>_</td>\n",
       "      <td>_</td>\n",
       "    </tr>\n",
       "    <tr>\n",
       "      <td>1993</td>\n",
       "      <td>_</td>\n",
       "      <td>0.65</td>\n",
       "      <td>_</td>\n",
       "      <td>1.5</td>\n",
       "    </tr>\n",
       "    <tr>\n",
       "      <td>1994</td>\n",
       "      <td>_</td>\n",
       "      <td>8.13</td>\n",
       "      <td>3.65</td>\n",
       "      <td>0.36</td>\n",
       "    </tr>\n",
       "    <tr>\n",
       "      <td>1995</td>\n",
       "      <td>_</td>\n",
       "      <td>_</td>\n",
       "      <td>11.57</td>\n",
       "      <td>_</td>\n",
       "    </tr>\n",
       "    <tr>\n",
       "      <td>1996</td>\n",
       "      <td>_</td>\n",
       "      <td>_</td>\n",
       "      <td>7.69</td>\n",
       "      <td>_</td>\n",
       "    </tr>\n",
       "    <tr>\n",
       "      <td>1997</td>\n",
       "      <td>_</td>\n",
       "      <td>_</td>\n",
       "      <td>6.77</td>\n",
       "      <td>_</td>\n",
       "    </tr>\n",
       "    <tr>\n",
       "      <td>1998</td>\n",
       "      <td>3.38</td>\n",
       "      <td>_</td>\n",
       "      <td>3.82</td>\n",
       "      <td>_</td>\n",
       "    </tr>\n",
       "    <tr>\n",
       "      <td>1999</td>\n",
       "      <td>5.16</td>\n",
       "      <td>_</td>\n",
       "      <td>0.09</td>\n",
       "      <td>_</td>\n",
       "    </tr>\n",
       "    <tr>\n",
       "      <td>2000</td>\n",
       "      <td>5.99</td>\n",
       "      <td>_</td>\n",
       "      <td>_</td>\n",
       "      <td>_</td>\n",
       "    </tr>\n",
       "    <tr>\n",
       "      <td>2001</td>\n",
       "      <td>1.07</td>\n",
       "      <td>_</td>\n",
       "      <td>_</td>\n",
       "      <td>_</td>\n",
       "    </tr>\n",
       "    <tr>\n",
       "      <td>2002</td>\n",
       "      <td>0.29</td>\n",
       "      <td>_</td>\n",
       "      <td>_</td>\n",
       "      <td>_</td>\n",
       "    </tr>\n",
       "    <tr>\n",
       "      <td>2007</td>\n",
       "      <td>0.02</td>\n",
       "      <td>_</td>\n",
       "      <td>_</td>\n",
       "      <td>_</td>\n",
       "    </tr>\n",
       "    <tr>\n",
       "      <td>2008</td>\n",
       "      <td>0.04</td>\n",
       "      <td>_</td>\n",
       "      <td>_</td>\n",
       "      <td>_</td>\n",
       "    </tr>\n",
       "  </tbody>\n",
       "</table>\n",
       "</div>"
      ],
      "text/plain": [
       "platform           DC    GEN    SAT   SCD\n",
       "year_of_release                          \n",
       "1990                _    2.6      _     _\n",
       "1991                _   4.33      _     _\n",
       "1992                _  12.64      _     _\n",
       "1993                _   0.65      _   1.5\n",
       "1994                _   8.13   3.65  0.36\n",
       "1995                _      _  11.57     _\n",
       "1996                _      _   7.69     _\n",
       "1997                _      _   6.77     _\n",
       "1998             3.38      _   3.82     _\n",
       "1999             5.16      _   0.09     _\n",
       "2000             5.99      _      _     _\n",
       "2001             1.07      _      _     _\n",
       "2002             0.29      _      _     _\n",
       "2007             0.02      _      _     _\n",
       "2008             0.04      _      _     _"
      ]
     },
     "metadata": {},
     "output_type": "display_data"
    }
   ],
   "source": [
    "# сводная таблица для всех sega\n",
    "platform_sega = df.query('platform_type == \"sega\"').pivot_table(index='year_of_release', columns='platform', values='sales', aggfunc='sum')\n",
    "display(platform_sega.fillna('_'))"
   ]
  },
  {
   "cell_type": "markdown",
   "metadata": {},
   "source": [
    "<div style=\"border:solid blue 2px; padding: 20px\">\n",
    "    \n",
    "    \n",
    "Платформы `sega` имеют характерные особенности появления новых и окончания старых версий\n",
    "    \n",
    "- `GEN` продавалась в течение `5` лет и обновилась на `SAT` через `4` года\n",
    "    \n",
    "    \n",
    "- `SAT` продавалась в течение `6` лет и обновилась на `DC` через `4` года\n",
    "    \n",
    "    \n",
    "- `SCD` была переходной платформой от `GEN` к `SAT`\n",
    "\n",
    "    \n",
    "</div> "
   ]
  },
  {
   "cell_type": "markdown",
   "metadata": {},
   "source": [
    "<div style=\"border:solid blue 2px; padding: 20px\">\n",
    "    \n",
    "    \n",
    "Все платформы имеют характерные сроки появления новых версий раз в `5` - `7` лет\n",
    "    \n",
    "    \n",
    "и после выхода новой платформы старые исчезают в течение `2` - `4` лет\n",
    "\n",
    "</div> "
   ]
  },
  {
   "cell_type": "markdown",
   "metadata": {},
   "source": [
    "<div style=\"border:solid blue 2px; padding: 20px\">\n",
    "    \n",
    "    \n",
    "`**Актуальный период**` следует взять за `2016`\n",
    "    \n",
    "    \n",
    "В этот период `playstation` уже несколько лет выпускает платформу `PS4`, а `microsoft` - `XOne`\n",
    "    \n",
    "Производители игр каждый создают более качественные релизы,\n",
    "    \n",
    "которые в дальнейшем продаются на более высоком уровне.\n",
    "    \n",
    "Получается что более интересные релизы многих игр, \n",
    "    \n",
    "которые пользовались спросом в `2016` года должны выйти в `2017`\n",
    "   \n",
    "    \n",
    "</div> "
   ]
  },
  {
   "cell_type": "markdown",
   "metadata": {},
   "source": [
    "<div style=\"border:solid blue 2px; padding: 20px\">\n",
    "    \n",
    "    \n",
    "Методом `query()` получим срез данных по `year_of_release` за `2016`\n",
    "    \n",
    "\n",
    "    \n",
    "</div> "
   ]
  },
  {
   "cell_type": "code",
   "execution_count": 30,
   "metadata": {},
   "outputs": [
    {
     "name": "stdout",
     "output_type": "stream",
     "text": [
      "<class 'pandas.core.frame.DataFrame'>\n",
      "Int64Index: 502 entries, 94 to 16714\n",
      "Data columns (total 13 columns):\n",
      "name               502 non-null object\n",
      "platform           502 non-null object\n",
      "year_of_release    502 non-null int64\n",
      "genre              502 non-null object\n",
      "na_sales           502 non-null float64\n",
      "eu_sales           502 non-null float64\n",
      "jp_sales           502 non-null float64\n",
      "other_sales        502 non-null float64\n",
      "critic_score       502 non-null float64\n",
      "user_score         502 non-null float64\n",
      "rating             502 non-null object\n",
      "sales              502 non-null float64\n",
      "platform_type      502 non-null object\n",
      "dtypes: float64(7), int64(1), object(5)\n",
      "memory usage: 54.9+ KB\n"
     ]
    }
   ],
   "source": [
    "# получение среза данных\n",
    "df_actual = df.query('year_of_release == 2016')\n",
    "df_actual.info()"
   ]
  },
  {
   "cell_type": "markdown",
   "metadata": {},
   "source": [
    "<div style=\"border:solid blue 2px; padding: 20px\">\n",
    "    \n",
    "    \n",
    "Методом `pivot_table()` получим сводную таблицу по `platform` c `sales`  <a id='leader'></a>  \n",
    "    \n",
    "\n",
    "    \n",
    "</div> "
   ]
  },
  {
   "cell_type": "code",
   "execution_count": 31,
   "metadata": {},
   "outputs": [
    {
     "data": {
      "text/html": [
       "<div>\n",
       "<style scoped>\n",
       "    .dataframe tbody tr th:only-of-type {\n",
       "        vertical-align: middle;\n",
       "    }\n",
       "\n",
       "    .dataframe tbody tr th {\n",
       "        vertical-align: top;\n",
       "    }\n",
       "\n",
       "    .dataframe thead th {\n",
       "        text-align: right;\n",
       "    }\n",
       "</style>\n",
       "<table border=\"1\" class=\"dataframe\">\n",
       "  <thead>\n",
       "    <tr style=\"text-align: right;\">\n",
       "      <th></th>\n",
       "      <th>sales</th>\n",
       "    </tr>\n",
       "    <tr>\n",
       "      <th>platform</th>\n",
       "      <th></th>\n",
       "    </tr>\n",
       "  </thead>\n",
       "  <tbody>\n",
       "    <tr>\n",
       "      <td>PS4</td>\n",
       "      <td>69.25</td>\n",
       "    </tr>\n",
       "    <tr>\n",
       "      <td>XOne</td>\n",
       "      <td>26.15</td>\n",
       "    </tr>\n",
       "    <tr>\n",
       "      <td>3DS</td>\n",
       "      <td>15.14</td>\n",
       "    </tr>\n",
       "    <tr>\n",
       "      <td>PC</td>\n",
       "      <td>5.25</td>\n",
       "    </tr>\n",
       "    <tr>\n",
       "      <td>WiiU</td>\n",
       "      <td>4.60</td>\n",
       "    </tr>\n",
       "    <tr>\n",
       "      <td>PSV</td>\n",
       "      <td>4.25</td>\n",
       "    </tr>\n",
       "    <tr>\n",
       "      <td>PS3</td>\n",
       "      <td>3.60</td>\n",
       "    </tr>\n",
       "    <tr>\n",
       "      <td>X360</td>\n",
       "      <td>1.52</td>\n",
       "    </tr>\n",
       "    <tr>\n",
       "      <td>Wii</td>\n",
       "      <td>0.18</td>\n",
       "    </tr>\n",
       "  </tbody>\n",
       "</table>\n",
       "</div>"
      ],
      "text/plain": [
       "          sales\n",
       "platform       \n",
       "PS4       69.25\n",
       "XOne      26.15\n",
       "3DS       15.14\n",
       "PC         5.25\n",
       "WiiU       4.60\n",
       "PSV        4.25\n",
       "PS3        3.60\n",
       "X360       1.52\n",
       "Wii        0.18"
      ]
     },
     "execution_count": 31,
     "metadata": {},
     "output_type": "execute_result"
    }
   ],
   "source": [
    "# сводная таблица\n",
    "lead_sales = df_actual.pivot_table(index='platform', values='sales', aggfunc='sum')\n",
    "lead_sales = lead_sales.sort_values(by='sales', ascending=False)\n",
    "lead_sales"
   ]
  },
  {
   "cell_type": "markdown",
   "metadata": {},
   "source": [
    "<div style=\"border:solid blue 2px; padding: 20px\">\n",
    "    \n",
    "Методом `plot()` построим диаграмму для продаж `sales` по платформам\n",
    "    \n",
    "и выделим лидеров по продажам\n",
    "    \n",
    "    \n",
    "</div> "
   ]
  },
  {
   "cell_type": "code",
   "execution_count": 32,
   "metadata": {},
   "outputs": [
    {
     "data": {
      "image/png": "[encoded data removed]",
      "text/plain": [
       "<Figure size 360x360 with 1 Axes>"
      ]
     },
     "metadata": {},
     "output_type": "display_data"
    }
   ],
   "source": [
    "# диаграмма прродаж по платформам\n",
    "explode = [0.1,0.1,0.1,0.1,0.1,0,0,0,0]\n",
    "lead_sales.plot(y='sales', kind='pie', figsize=(5, 5), explode=explode, legend=False)\n",
    "plt.title('диаграмма продаж по платформам');\n",
    "plt.ylabel(\"\");"
   ]
  },
  {
   "cell_type": "markdown",
   "metadata": {},
   "source": [
    "<div style=\"border:solid blue 2px; padding: 20px\">\n",
    "    \n",
    "    \n",
    "Лидеры продаж платформы\n",
    "    \n",
    "    \n",
    "- `PS4`\n",
    "    \n",
    "   \n",
    "- `XOne` \n",
    "    \n",
    "    \n",
    "- `3DS` \n",
    "    \n",
    "    \n",
    "- `PC` \n",
    "    \n",
    "    \n",
    "- `WiiU` \n",
    "    \n",
    " \n",
    "`PS4`  - наиболее потенциально прибыльная платформа `playstation` сменяет поколение `PS3` \n",
    "    \n",
    "    \n",
    "\n",
    "`XOne` - наиболее потенциально прибыльная платформа `microsoft` сменяет поколение `X360`\n",
    "    \n",
    "    \n",
    "    \n",
    "</div> "
   ]
  },
  {
   "cell_type": "markdown",
   "metadata": {},
   "source": [
    "<div style=\"border:solid blue 2px; padding: 20px\">\n",
    "    \n",
    " \n",
    "Методом `boxplot()` поcтроим диаграмму размаха\n",
    "    \n",
    "    \n",
    "</div> "
   ]
  },
  {
   "cell_type": "code",
   "execution_count": 33,
   "metadata": {},
   "outputs": [
    {
     "data": {
      "text/plain": [
       "Text(0.5, 1.0, 'диаграмма продаж по платформам')"
      ]
     },
     "execution_count": 33,
     "metadata": {},
     "output_type": "execute_result"
    },
    {
     "data": {
      "image/png": "[encoded data removed]",
      "text/plain": [
       "<Figure size 720x720 with 1 Axes>"
      ]
     },
     "metadata": {
      "needs_background": "light"
     },
     "output_type": "display_data"
    }
   ],
   "source": [
    "# диаграмма размаха\n",
    "df_actual.query('platform == (\"PS4\",\"XOne\",\"3DS\",\"PC\",\"WiiU\")').boxplot(column=['sales'], by='platform', figsize=(10,10), grid=True).set_ylim(0,8)\n",
    "plt.title('диаграмма продаж по платформам')"
   ]
  },
  {
   "cell_type": "code",
   "execution_count": 35,
   "metadata": {},
   "outputs": [
    {
     "data": {
      "text/plain": [
       "count    46.000000\n",
       "mean      0.329130\n",
       "std       1.058533\n",
       "min       0.010000\n",
       "25%       0.030000\n",
       "50%       0.080000\n",
       "75%       0.210000\n",
       "max       7.140000\n",
       "Name: sales, dtype: float64"
      ]
     },
     "execution_count": 35,
     "metadata": {},
     "output_type": "execute_result"
    }
   ],
   "source": [
    "# описание данных продаж платформы 3DS\n",
    "df_actual.query('platform == \"3DS\"')['sales'].describe()"
   ]
  },
  {
   "cell_type": "markdown",
   "metadata": {},
   "source": [
    "<div style=\"border:solid blue 2px; padding: 20px\">\n",
    "    \n",
    "Продажи `3DS` в среднем по `0.08 млн. копий`, `75% - 0.21 млн. копий`, `max - 7.14 млн. копий`\n",
    "    \n",
    "    \n",
    "Выбросы в небольшом объёме с малым количеством продаж\n",
    "   \n",
    "    \n",
    "</div> "
   ]
  },
  {
   "cell_type": "code",
   "execution_count": 36,
   "metadata": {
    "scrolled": true
   },
   "outputs": [
    {
     "data": {
      "text/plain": [
       "count    54.000000\n",
       "mean      0.097222\n",
       "std       0.135916\n",
       "min       0.010000\n",
       "25%       0.020000\n",
       "50%       0.035000\n",
       "75%       0.120000\n",
       "max       0.650000\n",
       "Name: sales, dtype: float64"
      ]
     },
     "execution_count": 36,
     "metadata": {},
     "output_type": "execute_result"
    }
   ],
   "source": [
    "# описание данных продаж платформы 3DS\n",
    "df_actual.query('platform == \"PC\"')['sales'].describe()"
   ]
  },
  {
   "cell_type": "markdown",
   "metadata": {},
   "source": [
    "<div style=\"border:solid blue 2px; padding: 20px\">\n",
    "    \n",
    "Продажи `PC` в среднем по `0.035 млн. копий`, `75% - 0.12 млн. копий`, `max - 0.65 млн. копий`\n",
    "    \n",
    "    \n",
    "Выбросы с малым количеством продаж\n",
    "    \n",
    "</div> "
   ]
  },
  {
   "cell_type": "code",
   "execution_count": 37,
   "metadata": {
    "scrolled": true
   },
   "outputs": [
    {
     "data": {
      "text/plain": [
       "count    164.000000\n",
       "mean       0.422256\n",
       "std        0.968877\n",
       "min        0.010000\n",
       "25%        0.030000\n",
       "50%        0.085000\n",
       "75%        0.352500\n",
       "max        7.600000\n",
       "Name: sales, dtype: float64"
      ]
     },
     "execution_count": 37,
     "metadata": {},
     "output_type": "execute_result"
    }
   ],
   "source": [
    "# описание данных продаж платформы 3DS\n",
    "df_actual.query('platform == \"PS4\"')['sales'].describe()"
   ]
  },
  {
   "cell_type": "markdown",
   "metadata": {},
   "source": [
    "<div style=\"border:solid blue 2px; padding: 20px\">\n",
    "    \n",
    "    \n",
    "Продажи `PS4` в среднем по `0.085 млн. копий`, `75% - 0.35 млн. копий`, `max - 7.6 млн. копий`\n",
    "    \n",
    "    \n",
    "Много выбросов с очень большим количеством продаж\n",
    "   \n",
    "   \n",
    "    \n",
    "</div> "
   ]
  },
  {
   "cell_type": "code",
   "execution_count": 38,
   "metadata": {
    "scrolled": true
   },
   "outputs": [
    {
     "data": {
      "text/plain": [
       "count    14.000000\n",
       "mean      0.328571\n",
       "std       0.348135\n",
       "min       0.010000\n",
       "25%       0.047500\n",
       "50%       0.215000\n",
       "75%       0.407500\n",
       "max       1.030000\n",
       "Name: sales, dtype: float64"
      ]
     },
     "execution_count": 38,
     "metadata": {},
     "output_type": "execute_result"
    }
   ],
   "source": [
    "# описание данных продаж платформы 3DS\n",
    "df_actual.query('platform == \"WiiU\"')['sales'].describe()"
   ]
  },
  {
   "cell_type": "markdown",
   "metadata": {},
   "source": [
    "<div style=\"border:solid blue 2px; padding: 20px\">\n",
    "    \n",
    "    \n",
    "Продажи `WiiU` в среднем по `0.215 млн. копий`, `75% - 0.4 млн. копий`, `max - 1.03 млн. копий`\n",
    "    \n",
    "    \n",
    "Минимально выбросов\n",
    "   \n",
    "    \n",
    "</div> "
   ]
  },
  {
   "cell_type": "code",
   "execution_count": 39,
   "metadata": {
    "scrolled": true
   },
   "outputs": [
    {
     "data": {
      "text/plain": [
       "count    87.000000\n",
       "mean      0.300575\n",
       "std       0.549133\n",
       "min       0.010000\n",
       "25%       0.020000\n",
       "50%       0.060000\n",
       "75%       0.275000\n",
       "max       2.650000\n",
       "Name: sales, dtype: float64"
      ]
     },
     "execution_count": 39,
     "metadata": {},
     "output_type": "execute_result"
    }
   ],
   "source": [
    "# описание данных продаж платформы 3DS\n",
    "df_actual.query('platform == \"XOne\"')['sales'].describe()"
   ]
  },
  {
   "cell_type": "markdown",
   "metadata": {},
   "source": [
    "<div style=\"border:solid blue 2px; padding: 20px\">\n",
    "    \n",
    "    \n",
    "Продажи `XOne` в среднем по `0.06 млн. копий`, `75% - 0.275 млн. копий`, `max - 2.65 млн. копий`\n",
    "    \n",
    "    \n",
    "Выбросы в небольшом объёме с малым количеством продаж\n",
    "   \n",
    "   \n",
    "    \n",
    "</div> "
   ]
  },
  {
   "cell_type": "markdown",
   "metadata": {},
   "source": [
    "<div style=\"border:solid blue 2px; padding: 20px\">\n",
    "    \n",
    "    \n",
    "Влияние отзывов на продажи для платформы `PS4`\n",
    "   \n",
    "    \n",
    "</div> "
   ]
  },
  {
   "cell_type": "code",
   "execution_count": 40,
   "metadata": {},
   "outputs": [
    {
     "data": {
      "text/html": [
       "<div>\n",
       "<style scoped>\n",
       "    .dataframe tbody tr th:only-of-type {\n",
       "        vertical-align: middle;\n",
       "    }\n",
       "\n",
       "    .dataframe tbody tr th {\n",
       "        vertical-align: top;\n",
       "    }\n",
       "\n",
       "    .dataframe thead th {\n",
       "        text-align: right;\n",
       "    }\n",
       "</style>\n",
       "<table border=\"1\" class=\"dataframe\">\n",
       "  <thead>\n",
       "    <tr style=\"text-align: right;\">\n",
       "      <th></th>\n",
       "      <th>critic_score</th>\n",
       "      <th>user_score</th>\n",
       "      <th>sales</th>\n",
       "    </tr>\n",
       "  </thead>\n",
       "  <tbody>\n",
       "    <tr>\n",
       "      <td>94</td>\n",
       "      <td>85.0</td>\n",
       "      <td>5.0</td>\n",
       "      <td>7.60</td>\n",
       "    </tr>\n",
       "    <tr>\n",
       "      <td>171</td>\n",
       "      <td>93.0</td>\n",
       "      <td>7.9</td>\n",
       "      <td>5.39</td>\n",
       "    </tr>\n",
       "    <tr>\n",
       "      <td>245</td>\n",
       "      <td>77.0</td>\n",
       "      <td>3.4</td>\n",
       "      <td>4.47</td>\n",
       "    </tr>\n",
       "    <tr>\n",
       "      <td>289</td>\n",
       "      <td>88.0</td>\n",
       "      <td>8.4</td>\n",
       "      <td>4.07</td>\n",
       "    </tr>\n",
       "    <tr>\n",
       "      <td>325</td>\n",
       "      <td>80.0</td>\n",
       "      <td>7.0</td>\n",
       "      <td>3.80</td>\n",
       "    </tr>\n",
       "    <tr>\n",
       "      <td>...</td>\n",
       "      <td>...</td>\n",
       "      <td>...</td>\n",
       "      <td>...</td>\n",
       "    </tr>\n",
       "    <tr>\n",
       "      <td>16500</td>\n",
       "      <td>69.0</td>\n",
       "      <td>7.5</td>\n",
       "      <td>0.01</td>\n",
       "    </tr>\n",
       "    <tr>\n",
       "      <td>16503</td>\n",
       "      <td>0.0</td>\n",
       "      <td>0.0</td>\n",
       "      <td>0.01</td>\n",
       "    </tr>\n",
       "    <tr>\n",
       "      <td>16526</td>\n",
       "      <td>61.0</td>\n",
       "      <td>7.9</td>\n",
       "      <td>0.01</td>\n",
       "    </tr>\n",
       "    <tr>\n",
       "      <td>16530</td>\n",
       "      <td>51.0</td>\n",
       "      <td>5.5</td>\n",
       "      <td>0.01</td>\n",
       "    </tr>\n",
       "    <tr>\n",
       "      <td>16585</td>\n",
       "      <td>0.0</td>\n",
       "      <td>0.0</td>\n",
       "      <td>0.01</td>\n",
       "    </tr>\n",
       "  </tbody>\n",
       "</table>\n",
       "<p>164 rows × 3 columns</p>\n",
       "</div>"
      ],
      "text/plain": [
       "       critic_score  user_score  sales\n",
       "94             85.0         5.0   7.60\n",
       "171            93.0         7.9   5.39\n",
       "245            77.0         3.4   4.47\n",
       "289            88.0         8.4   4.07\n",
       "325            80.0         7.0   3.80\n",
       "...             ...         ...    ...\n",
       "16500          69.0         7.5   0.01\n",
       "16503           0.0         0.0   0.01\n",
       "16526          61.0         7.9   0.01\n",
       "16530          51.0         5.5   0.01\n",
       "16585           0.0         0.0   0.01\n",
       "\n",
       "[164 rows x 3 columns]"
      ]
     },
     "execution_count": 40,
     "metadata": {},
     "output_type": "execute_result"
    }
   ],
   "source": [
    "# срез данных по платформе PS4\n",
    "df_actual_score = df_actual.query('platform == \"PS4\"').loc[:,['critic_score', 'user_score', 'sales']]\n",
    "df_actual_score"
   ]
  },
  {
   "cell_type": "markdown",
   "metadata": {},
   "source": [
    "<div style=\"border:solid blue 2px; padding: 20px\">\n",
    "    \n",
    "    \n",
    "Метедом `corr()` получим матрицу корреляции\n",
    "   \n",
    "    \n",
    "</div> "
   ]
  },
  {
   "cell_type": "code",
   "execution_count": 41,
   "metadata": {},
   "outputs": [
    {
     "data": {
      "text/html": [
       "<div>\n",
       "<style scoped>\n",
       "    .dataframe tbody tr th:only-of-type {\n",
       "        vertical-align: middle;\n",
       "    }\n",
       "\n",
       "    .dataframe tbody tr th {\n",
       "        vertical-align: top;\n",
       "    }\n",
       "\n",
       "    .dataframe thead th {\n",
       "        text-align: right;\n",
       "    }\n",
       "</style>\n",
       "<table border=\"1\" class=\"dataframe\">\n",
       "  <thead>\n",
       "    <tr style=\"text-align: right;\">\n",
       "      <th></th>\n",
       "      <th>critic_score</th>\n",
       "      <th>user_score</th>\n",
       "      <th>sales</th>\n",
       "    </tr>\n",
       "  </thead>\n",
       "  <tbody>\n",
       "    <tr>\n",
       "      <td>critic_score</td>\n",
       "      <td>1.000000</td>\n",
       "      <td>0.868078</td>\n",
       "      <td>0.292451</td>\n",
       "    </tr>\n",
       "    <tr>\n",
       "      <td>user_score</td>\n",
       "      <td>0.868078</td>\n",
       "      <td>1.000000</td>\n",
       "      <td>0.147090</td>\n",
       "    </tr>\n",
       "    <tr>\n",
       "      <td>sales</td>\n",
       "      <td>0.292451</td>\n",
       "      <td>0.147090</td>\n",
       "      <td>1.000000</td>\n",
       "    </tr>\n",
       "  </tbody>\n",
       "</table>\n",
       "</div>"
      ],
      "text/plain": [
       "              critic_score  user_score     sales\n",
       "critic_score      1.000000    0.868078  0.292451\n",
       "user_score        0.868078    1.000000  0.147090\n",
       "sales             0.292451    0.147090  1.000000"
      ]
     },
     "execution_count": 41,
     "metadata": {},
     "output_type": "execute_result"
    }
   ],
   "source": [
    "# матрица корреляции\n",
    "df_actual_score.corr()"
   ]
  },
  {
   "cell_type": "markdown",
   "metadata": {},
   "source": [
    "<div style=\"border:solid blue 2px; padding: 20px\">\n",
    "    \n",
    "    \n",
    "Метедом `plotting.scatter_matrix` получим матрицу диаграмм рассеяния\n",
    "   \n",
    "    \n",
    "</div> "
   ]
  },
  {
   "cell_type": "code",
   "execution_count": 42,
   "metadata": {},
   "outputs": [
    {
     "data": {
      "text/plain": [
       "array([[<matplotlib.axes._subplots.AxesSubplot object at 0x7f36aee2bf10>,\n",
       "        <matplotlib.axes._subplots.AxesSubplot object at 0x7f36af007cd0>,\n",
       "        <matplotlib.axes._subplots.AxesSubplot object at 0x7f36aefc6510>],\n",
       "       [<matplotlib.axes._subplots.AxesSubplot object at 0x7f36aef7dcd0>,\n",
       "        <matplotlib.axes._subplots.AxesSubplot object at 0x7f36aef3e510>,\n",
       "        <matplotlib.axes._subplots.AxesSubplot object at 0x7f36aeef1d10>],\n",
       "       [<matplotlib.axes._subplots.AxesSubplot object at 0x7f36aeeb2550>,\n",
       "        <matplotlib.axes._subplots.AxesSubplot object at 0x7f36aeee8d50>,\n",
       "        <matplotlib.axes._subplots.AxesSubplot object at 0x7f36aee728d0>]],\n",
       "      dtype=object)"
      ]
     },
     "execution_count": 42,
     "metadata": {},
     "output_type": "execute_result"
    },
    {
     "data": {
      "image/png": "[encoded data removed]",
      "text/plain": [
       "<Figure size 720x720 with 9 Axes>"
      ]
     },
     "metadata": {
      "needs_background": "light"
     },
     "output_type": "display_data"
    }
   ],
   "source": [
    "pd.plotting.scatter_matrix(df_actual_score, figsize=(10, 10))"
   ]
  },
  {
   "cell_type": "markdown",
   "metadata": {},
   "source": [
    "<div style=\"border:solid blue 2px; padding: 20px\">\n",
    "    \n",
    "    \n",
    "- `critic_score` показывают слабую взаимосвязь с продажами\n",
    "    \n",
    "при высоких оценках критиков продажи растут\n",
    "    \n",
    "    \n",
    "- `user_score` показывают слабую взаимосвязь с продажами \n",
    "    \n",
    "    \n",
    "- `critic_score` показывают взаимосвязь с `user_score`\n",
    "    \n",
    "    \n",
    "при высоких оценках критиков пользователи также дают высокие оценки\n",
    "    \n",
    "</div> "
   ]
  },
  {
   "cell_type": "markdown",
   "metadata": {},
   "source": [
    "<div style=\"border:solid blue 2px; padding: 20px\">\n",
    "    \n",
    "    \n",
    "Можно соотнести полученный вывод с продажами игр на других платформах\n",
    "    \n",
    "    \n",
    "там так же будет взимосвязь между оценками критиков и пользователей с продажами\n",
    "   \n",
    "    \n",
    "</div> "
   ]
  },
  {
   "cell_type": "markdown",
   "metadata": {},
   "source": [
    "<div style=\"border:solid blue 2px; padding: 20px\">\n",
    "    \n",
    "    \n",
    "Методом `pivot_table()` получим сводную таблицу по `genre` c `sales` \n",
    "    \n",
    "\n",
    "    \n",
    "</div> "
   ]
  },
  {
   "cell_type": "code",
   "execution_count": 43,
   "metadata": {},
   "outputs": [
    {
     "data": {
      "text/html": [
       "<div>\n",
       "<style scoped>\n",
       "    .dataframe tbody tr th:only-of-type {\n",
       "        vertical-align: middle;\n",
       "    }\n",
       "\n",
       "    .dataframe tbody tr th {\n",
       "        vertical-align: top;\n",
       "    }\n",
       "\n",
       "    .dataframe thead th {\n",
       "        text-align: right;\n",
       "    }\n",
       "</style>\n",
       "<table border=\"1\" class=\"dataframe\">\n",
       "  <thead>\n",
       "    <tr style=\"text-align: right;\">\n",
       "      <th></th>\n",
       "      <th>sales</th>\n",
       "    </tr>\n",
       "    <tr>\n",
       "      <th>genre</th>\n",
       "      <th></th>\n",
       "    </tr>\n",
       "  </thead>\n",
       "  <tbody>\n",
       "    <tr>\n",
       "      <td>Shooter</td>\n",
       "      <td>38.22</td>\n",
       "    </tr>\n",
       "    <tr>\n",
       "      <td>Action</td>\n",
       "      <td>30.11</td>\n",
       "    </tr>\n",
       "    <tr>\n",
       "      <td>Sports</td>\n",
       "      <td>23.49</td>\n",
       "    </tr>\n",
       "    <tr>\n",
       "      <td>Role-Playing</td>\n",
       "      <td>18.18</td>\n",
       "    </tr>\n",
       "    <tr>\n",
       "      <td>Fighting</td>\n",
       "      <td>4.47</td>\n",
       "    </tr>\n",
       "    <tr>\n",
       "      <td>Adventure</td>\n",
       "      <td>3.82</td>\n",
       "    </tr>\n",
       "    <tr>\n",
       "      <td>Platform</td>\n",
       "      <td>3.23</td>\n",
       "    </tr>\n",
       "    <tr>\n",
       "      <td>Racing</td>\n",
       "      <td>2.79</td>\n",
       "    </tr>\n",
       "    <tr>\n",
       "      <td>Misc</td>\n",
       "      <td>2.60</td>\n",
       "    </tr>\n",
       "    <tr>\n",
       "      <td>Simulation</td>\n",
       "      <td>1.89</td>\n",
       "    </tr>\n",
       "    <tr>\n",
       "      <td>Strategy</td>\n",
       "      <td>1.13</td>\n",
       "    </tr>\n",
       "    <tr>\n",
       "      <td>Puzzle</td>\n",
       "      <td>0.01</td>\n",
       "    </tr>\n",
       "  </tbody>\n",
       "</table>\n",
       "</div>"
      ],
      "text/plain": [
       "              sales\n",
       "genre              \n",
       "Shooter       38.22\n",
       "Action        30.11\n",
       "Sports        23.49\n",
       "Role-Playing  18.18\n",
       "Fighting       4.47\n",
       "Adventure      3.82\n",
       "Platform       3.23\n",
       "Racing         2.79\n",
       "Misc           2.60\n",
       "Simulation     1.89\n",
       "Strategy       1.13\n",
       "Puzzle         0.01"
      ]
     },
     "execution_count": 43,
     "metadata": {},
     "output_type": "execute_result"
    }
   ],
   "source": [
    "# сводная таблица\n",
    "genre_sales = df_actual.pivot_table(index='genre', values='sales', aggfunc='sum')\n",
    "genre_sales = genre_sales.sort_values(by='sales', ascending=False)\n",
    "genre_sales"
   ]
  },
  {
   "cell_type": "code",
   "execution_count": 44,
   "metadata": {
    "scrolled": true
   },
   "outputs": [
    {
     "data": {
      "image/png": "[encoded data removed]",
      "text/plain": [
       "<Figure size 360x360 with 1 Axes>"
      ]
     },
     "metadata": {},
     "output_type": "display_data"
    }
   ],
   "source": [
    "# диаграмма продаж по жанрам\n",
    "explode = [0.1,0.1,0.1,0.1,0,0,0,0,0,0,0,0]\n",
    "genre_sales.plot(y='sales', kind='pie', figsize=(5, 5), explode=explode, legend=False)\n",
    "plt.title('диаграмма продаж по жанрам');\n",
    "plt.ylabel(\"\");"
   ]
  },
  {
   "cell_type": "markdown",
   "metadata": {},
   "source": [
    "<div style=\"border:solid blue 2px; padding: 20px\">\n",
    "    \n",
    "    \n",
    "Выделяется несколько самых популярных жанров по продажам\n",
    "    \n",
    "\n",
    "- `Shooter` \n",
    "   \n",
    "  \n",
    "- `Action` \n",
    "   \n",
    "  \n",
    "- `Sports` \n",
    "   \n",
    "  \n",
    "- `Role-Playing` \n",
    "    \n",
    "    \n",
    "Эти жанры очень популярны во время соревнований и в дальнейшем должны получить большее развитие.\n",
    "    \n",
    "    \n",
    "\n",
    "- `Puzzle` практически становятся не актуальными\n",
    "    \n",
    "    \n",
    "- `Strategy` `Simulation` так же близки к уменьшению продаж\n",
    "    \n",
    "    \n",
    "- `Misc` `Platform` `Racing` `Fighting` `Adventure` пользуются средним спросом\n",
    "    \n",
    "    \n",
    "   \n",
    "  \n",
    "</div> "
   ]
  },
  {
   "cell_type": "markdown",
   "metadata": {},
   "source": [
    "### Вывод"
   ]
  },
  {
   "cell_type": "markdown",
   "metadata": {},
   "source": [
    "<div style=\"border:solid blue 2px; padding: 20px\">\n",
    "    \n",
    "    \n",
    "Потенциально популярный продукт должен появится на платформе `PS4` в жанре `Action` или `Shooter`\n",
    "   \n",
    "    \n",
    "</div> "
   ]
  },
  {
   "cell_type": "markdown",
   "metadata": {},
   "source": [
    "## Регионы NA/EU/JP"
   ]
  },
  {
   "cell_type": "markdown",
   "metadata": {},
   "source": [
    "<div style=\"border:solid blue 2px; padding: 20px\">\n",
    "    \n",
    "    \n",
    "Популярные платформы. Различия в долях\n",
    "   \n",
    "    \n",
    "</div> "
   ]
  },
  {
   "cell_type": "markdown",
   "metadata": {},
   "source": [
    "<div style=\"border:solid blue 2px; padding: 20px\">\n",
    "    \n",
    "    \n",
    "Методом `pivot_table()` получим сводную таблицу по `platform` c `na_sales` \n",
    "    \n",
    "\n",
    "    \n",
    "</div> "
   ]
  },
  {
   "cell_type": "code",
   "execution_count": 45,
   "metadata": {},
   "outputs": [
    {
     "data": {
      "text/html": [
       "<div>\n",
       "<style scoped>\n",
       "    .dataframe tbody tr th:only-of-type {\n",
       "        vertical-align: middle;\n",
       "    }\n",
       "\n",
       "    .dataframe tbody tr th {\n",
       "        vertical-align: top;\n",
       "    }\n",
       "\n",
       "    .dataframe thead th {\n",
       "        text-align: right;\n",
       "    }\n",
       "</style>\n",
       "<table border=\"1\" class=\"dataframe\">\n",
       "  <thead>\n",
       "    <tr style=\"text-align: right;\">\n",
       "      <th></th>\n",
       "      <th>na_sales</th>\n",
       "      <th>ratio</th>\n",
       "    </tr>\n",
       "    <tr>\n",
       "      <th>platform</th>\n",
       "      <th></th>\n",
       "      <th></th>\n",
       "    </tr>\n",
       "  </thead>\n",
       "  <tbody>\n",
       "    <tr>\n",
       "      <td>PS4</td>\n",
       "      <td>21.49</td>\n",
       "      <td>0.478300</td>\n",
       "    </tr>\n",
       "    <tr>\n",
       "      <td>XOne</td>\n",
       "      <td>14.27</td>\n",
       "      <td>0.317605</td>\n",
       "    </tr>\n",
       "    <tr>\n",
       "      <td>3DS</td>\n",
       "      <td>4.14</td>\n",
       "      <td>0.092143</td>\n",
       "    </tr>\n",
       "    <tr>\n",
       "      <td>WiiU</td>\n",
       "      <td>2.10</td>\n",
       "      <td>0.046739</td>\n",
       "    </tr>\n",
       "    <tr>\n",
       "      <td>PC</td>\n",
       "      <td>1.36</td>\n",
       "      <td>0.030269</td>\n",
       "    </tr>\n",
       "  </tbody>\n",
       "</table>\n",
       "</div>"
      ],
      "text/plain": [
       "          na_sales     ratio\n",
       "platform                    \n",
       "PS4          21.49  0.478300\n",
       "XOne         14.27  0.317605\n",
       "3DS           4.14  0.092143\n",
       "WiiU          2.10  0.046739\n",
       "PC            1.36  0.030269"
      ]
     },
     "execution_count": 45,
     "metadata": {},
     "output_type": "execute_result"
    }
   ],
   "source": [
    "# сводная таблица\n",
    "na_platform = df_actual.pivot_table(index='platform', values='na_sales', aggfunc='sum')\n",
    "na_platform['ratio'] = na_platform['na_sales'] / na_platform['na_sales'].sum()\n",
    "na_platform = na_platform.sort_values(by='na_sales', ascending=False).head(5)\n",
    "na_platform"
   ]
  },
  {
   "cell_type": "code",
   "execution_count": 46,
   "metadata": {},
   "outputs": [
    {
     "data": {
      "image/png": "[encoded data removed]",
      "text/plain": [
       "<Figure size 360x360 with 1 Axes>"
      ]
     },
     "metadata": {},
     "output_type": "display_data"
    }
   ],
   "source": [
    "# диаграмма прродаж по платформам в NA\n",
    "explode = [0.1,0,0,0,0]\n",
    "na_platform.plot(y='na_sales', kind='pie', figsize=(5, 5), explode=explode, legend=False)\n",
    "plt.title('диаграмма продаж по платформам в NA');\n",
    "plt.ylabel(\"\");"
   ]
  },
  {
   "cell_type": "markdown",
   "metadata": {},
   "source": [
    "<div style=\"border:solid blue 2px; padding: 20px\">\n",
    "    \n",
    "    \n",
    "Методом `pivot_table()` получим сводную таблицу по `platform` c `eu_sales` \n",
    "    \n",
    "\n",
    "    \n",
    "</div> "
   ]
  },
  {
   "cell_type": "code",
   "execution_count": 47,
   "metadata": {},
   "outputs": [
    {
     "data": {
      "text/html": [
       "<div>\n",
       "<style scoped>\n",
       "    .dataframe tbody tr th:only-of-type {\n",
       "        vertical-align: middle;\n",
       "    }\n",
       "\n",
       "    .dataframe tbody tr th {\n",
       "        vertical-align: top;\n",
       "    }\n",
       "\n",
       "    .dataframe thead th {\n",
       "        text-align: right;\n",
       "    }\n",
       "</style>\n",
       "<table border=\"1\" class=\"dataframe\">\n",
       "  <thead>\n",
       "    <tr style=\"text-align: right;\">\n",
       "      <th></th>\n",
       "      <th>eu_sales</th>\n",
       "      <th>ratio</th>\n",
       "    </tr>\n",
       "    <tr>\n",
       "      <th>platform</th>\n",
       "      <th></th>\n",
       "      <th></th>\n",
       "    </tr>\n",
       "  </thead>\n",
       "  <tbody>\n",
       "    <tr>\n",
       "      <td>PS4</td>\n",
       "      <td>31.78</td>\n",
       "      <td>0.620461</td>\n",
       "    </tr>\n",
       "    <tr>\n",
       "      <td>XOne</td>\n",
       "      <td>9.63</td>\n",
       "      <td>0.188012</td>\n",
       "    </tr>\n",
       "    <tr>\n",
       "      <td>PC</td>\n",
       "      <td>3.53</td>\n",
       "      <td>0.068918</td>\n",
       "    </tr>\n",
       "    <tr>\n",
       "      <td>3DS</td>\n",
       "      <td>2.33</td>\n",
       "      <td>0.045490</td>\n",
       "    </tr>\n",
       "    <tr>\n",
       "      <td>WiiU</td>\n",
       "      <td>1.48</td>\n",
       "      <td>0.028895</td>\n",
       "    </tr>\n",
       "  </tbody>\n",
       "</table>\n",
       "</div>"
      ],
      "text/plain": [
       "          eu_sales     ratio\n",
       "platform                    \n",
       "PS4          31.78  0.620461\n",
       "XOne          9.63  0.188012\n",
       "PC            3.53  0.068918\n",
       "3DS           2.33  0.045490\n",
       "WiiU          1.48  0.028895"
      ]
     },
     "execution_count": 47,
     "metadata": {},
     "output_type": "execute_result"
    }
   ],
   "source": [
    "# сводная таблица\n",
    "eu_platform = df_actual.pivot_table(index='platform', values='eu_sales', aggfunc='sum')\n",
    "eu_platform['ratio'] = eu_platform['eu_sales'] / eu_platform['eu_sales'].sum()\n",
    "eu_platform = eu_platform.sort_values(by='eu_sales', ascending=False).head()\n",
    "eu_platform"
   ]
  },
  {
   "cell_type": "code",
   "execution_count": 48,
   "metadata": {},
   "outputs": [
    {
     "data": {
      "image/png": "[encoded data removed]",
      "text/plain": [
       "<Figure size 360x360 with 1 Axes>"
      ]
     },
     "metadata": {},
     "output_type": "display_data"
    }
   ],
   "source": [
    "# диаграмма прродаж по платформам в EU\n",
    "explode = [0.1,0,0,0,0]\n",
    "eu_platform.plot(y='eu_sales', kind='pie', figsize=(5, 5), explode=explode, legend=False)\n",
    "plt.title('диаграмма продаж по платформам в EU');\n",
    "plt.ylabel(\"\");"
   ]
  },
  {
   "cell_type": "markdown",
   "metadata": {},
   "source": [
    "<div style=\"border:solid blue 2px; padding: 20px\">\n",
    "    \n",
    "    \n",
    "Методом `pivot_table()` получим сводную таблицу по `platform` c `jp_sales` \n",
    "    \n",
    "\n",
    "    \n",
    "</div> "
   ]
  },
  {
   "cell_type": "code",
   "execution_count": 49,
   "metadata": {},
   "outputs": [
    {
     "data": {
      "text/html": [
       "<div>\n",
       "<style scoped>\n",
       "    .dataframe tbody tr th:only-of-type {\n",
       "        vertical-align: middle;\n",
       "    }\n",
       "\n",
       "    .dataframe tbody tr th {\n",
       "        vertical-align: top;\n",
       "    }\n",
       "\n",
       "    .dataframe thead th {\n",
       "        text-align: right;\n",
       "    }\n",
       "</style>\n",
       "<table border=\"1\" class=\"dataframe\">\n",
       "  <thead>\n",
       "    <tr style=\"text-align: right;\">\n",
       "      <th></th>\n",
       "      <th>jp_sales</th>\n",
       "      <th>ratio</th>\n",
       "    </tr>\n",
       "    <tr>\n",
       "      <th>platform</th>\n",
       "      <th></th>\n",
       "      <th></th>\n",
       "    </tr>\n",
       "  </thead>\n",
       "  <tbody>\n",
       "    <tr>\n",
       "      <td>3DS</td>\n",
       "      <td>8.03</td>\n",
       "      <td>0.415847</td>\n",
       "    </tr>\n",
       "    <tr>\n",
       "      <td>PS4</td>\n",
       "      <td>5.74</td>\n",
       "      <td>0.297255</td>\n",
       "    </tr>\n",
       "    <tr>\n",
       "      <td>PSV</td>\n",
       "      <td>3.56</td>\n",
       "      <td>0.184360</td>\n",
       "    </tr>\n",
       "    <tr>\n",
       "      <td>PS3</td>\n",
       "      <td>1.30</td>\n",
       "      <td>0.067323</td>\n",
       "    </tr>\n",
       "    <tr>\n",
       "      <td>WiiU</td>\n",
       "      <td>0.67</td>\n",
       "      <td>0.034697</td>\n",
       "    </tr>\n",
       "  </tbody>\n",
       "</table>\n",
       "</div>"
      ],
      "text/plain": [
       "          jp_sales     ratio\n",
       "platform                    \n",
       "3DS           8.03  0.415847\n",
       "PS4           5.74  0.297255\n",
       "PSV           3.56  0.184360\n",
       "PS3           1.30  0.067323\n",
       "WiiU          0.67  0.034697"
      ]
     },
     "execution_count": 49,
     "metadata": {},
     "output_type": "execute_result"
    }
   ],
   "source": [
    "# сводная таблица\n",
    "jp_platform = df_actual.pivot_table(index='platform', values='jp_sales', aggfunc='sum')\n",
    "jp_platform['ratio'] = jp_platform['jp_sales'] / jp_platform['jp_sales'].sum()\n",
    "jp_platform = jp_platform.sort_values(by='jp_sales', ascending=False).head()\n",
    "jp_platform"
   ]
  },
  {
   "cell_type": "code",
   "execution_count": 50,
   "metadata": {},
   "outputs": [
    {
     "data": {
      "image/png": "[encoded data removed]",
      "text/plain": [
       "<Figure size 360x360 with 1 Axes>"
      ]
     },
     "metadata": {},
     "output_type": "display_data"
    }
   ],
   "source": [
    "# диаграмма прродаж по платформам в JP\n",
    "explode = [0.1,0,0,0,0]\n",
    "jp_platform.plot(y='jp_sales', kind='pie', figsize=(5, 5), explode=explode, legend=False)\n",
    "plt.title('диаграмма продаж по платформам в JP');\n",
    "plt.ylabel(\"\");"
   ]
  },
  {
   "cell_type": "markdown",
   "metadata": {},
   "source": [
    "<div style=\"border:solid blue 2px; padding: 20px\">\n",
    "    \n",
    "    \n",
    "- `NA` топ-5 популярных платформ : высокая доля продаж `PS4` и `XOne`\n",
    "    \n",
    "    `PS4` доля продаж `47%`\n",
    "    \n",
    "    `XOne` доля продаж `31%`\n",
    "    \n",
    "    `3DS` доля продаж `9%`\n",
    "    \n",
    "    `WiiU` доля продаж `4%`\n",
    "    \n",
    "    `PC` доля продаж `3%`\n",
    "   \n",
    "\n",
    "- `EU` топ-5 популярных платформ : самая высокая доля продаж `PS4`\n",
    "    \n",
    "    `PS4` доля продаж `62%`\n",
    "    \n",
    "    `XOne` доля продаж `18%`\n",
    "    \n",
    "    `PC` доля продаж `6%`\n",
    "    \n",
    "    `3DS` доля продаж `4%`\n",
    "    \n",
    "    `WiiU` доля продаж `2%`\n",
    "    \n",
    "   \n",
    "    \n",
    "- `JP` топ-5 популярных платформ : самая высокая доля продаж `3DS`.\n",
    "    \n",
    "    `3DS` доля продаж `41%`\n",
    "    \n",
    "    `PS4` доля продаж `29%`\n",
    "    \n",
    "    `PSV` доля продаж `18%`\n",
    "    \n",
    "    `PS3` доля продаж `6%`\n",
    "    \n",
    "    `WiiU` доля продаж `4%`\n",
    "    \n",
    "    \n",
    "    \n",
    " \n",
    "</div> "
   ]
  },
  {
   "cell_type": "markdown",
   "metadata": {},
   "source": [
    "<div style=\"border:solid blue 2px; padding: 20px\">\n",
    "    \n",
    "    \n",
    "Популярные жанры.\n",
    "   \n",
    "    \n",
    "</div> "
   ]
  },
  {
   "cell_type": "markdown",
   "metadata": {},
   "source": [
    "<div style=\"border:solid blue 2px; padding: 20px\">\n",
    "    \n",
    "    \n",
    "Методом `pivot_table()` получим сводную таблицу по `genre` c `na_sales` \n",
    "    \n",
    "\n",
    "    \n",
    "</div> "
   ]
  },
  {
   "cell_type": "code",
   "execution_count": 51,
   "metadata": {},
   "outputs": [
    {
     "data": {
      "text/html": [
       "<div>\n",
       "<style scoped>\n",
       "    .dataframe tbody tr th:only-of-type {\n",
       "        vertical-align: middle;\n",
       "    }\n",
       "\n",
       "    .dataframe tbody tr th {\n",
       "        vertical-align: top;\n",
       "    }\n",
       "\n",
       "    .dataframe thead th {\n",
       "        text-align: right;\n",
       "    }\n",
       "</style>\n",
       "<table border=\"1\" class=\"dataframe\">\n",
       "  <thead>\n",
       "    <tr style=\"text-align: right;\">\n",
       "      <th></th>\n",
       "      <th>na_sales</th>\n",
       "    </tr>\n",
       "    <tr>\n",
       "      <th>genre</th>\n",
       "      <th></th>\n",
       "    </tr>\n",
       "  </thead>\n",
       "  <tbody>\n",
       "    <tr>\n",
       "      <td>Shooter</td>\n",
       "      <td>16.24</td>\n",
       "    </tr>\n",
       "    <tr>\n",
       "      <td>Action</td>\n",
       "      <td>9.29</td>\n",
       "    </tr>\n",
       "    <tr>\n",
       "      <td>Sports</td>\n",
       "      <td>7.54</td>\n",
       "    </tr>\n",
       "    <tr>\n",
       "      <td>Role-Playing</td>\n",
       "      <td>5.89</td>\n",
       "    </tr>\n",
       "    <tr>\n",
       "      <td>Fighting</td>\n",
       "      <td>1.84</td>\n",
       "    </tr>\n",
       "  </tbody>\n",
       "</table>\n",
       "</div>"
      ],
      "text/plain": [
       "              na_sales\n",
       "genre                 \n",
       "Shooter          16.24\n",
       "Action            9.29\n",
       "Sports            7.54\n",
       "Role-Playing      5.89\n",
       "Fighting          1.84"
      ]
     },
     "execution_count": 51,
     "metadata": {},
     "output_type": "execute_result"
    }
   ],
   "source": [
    "# сводная таблица\n",
    "na_genre = df_actual.pivot_table(index='genre', values='na_sales', aggfunc='sum')\n",
    "na_genre = na_genre.sort_values(by='na_sales', ascending=False).head()\n",
    "na_genre"
   ]
  },
  {
   "cell_type": "code",
   "execution_count": 52,
   "metadata": {},
   "outputs": [
    {
     "data": {
      "image/png": "[encoded data removed]",
      "text/plain": [
       "<Figure size 360x360 with 1 Axes>"
      ]
     },
     "metadata": {},
     "output_type": "display_data"
    }
   ],
   "source": [
    "# диаграмма прродаж по жанрам в NA\n",
    "explode = [0.1,0,0,0,0]\n",
    "na_genre.plot(y='na_sales', kind='pie', figsize=(5, 5), explode=explode, legend=False)\n",
    "plt.title('диаграмма продаж по жанрам в NA');\n",
    "plt.ylabel(\"\");"
   ]
  },
  {
   "cell_type": "markdown",
   "metadata": {},
   "source": [
    "<div style=\"border:solid blue 2px; padding: 20px\">\n",
    "    \n",
    "    \n",
    "Методом `pivot_table()` получим сводную таблицу по `genre` c `eu_sales` \n",
    "    \n",
    "\n",
    "    \n",
    "</div> "
   ]
  },
  {
   "cell_type": "code",
   "execution_count": 53,
   "metadata": {},
   "outputs": [
    {
     "data": {
      "text/html": [
       "<div>\n",
       "<style scoped>\n",
       "    .dataframe tbody tr th:only-of-type {\n",
       "        vertical-align: middle;\n",
       "    }\n",
       "\n",
       "    .dataframe tbody tr th {\n",
       "        vertical-align: top;\n",
       "    }\n",
       "\n",
       "    .dataframe thead th {\n",
       "        text-align: right;\n",
       "    }\n",
       "</style>\n",
       "<table border=\"1\" class=\"dataframe\">\n",
       "  <thead>\n",
       "    <tr style=\"text-align: right;\">\n",
       "      <th></th>\n",
       "      <th>eu_sales</th>\n",
       "    </tr>\n",
       "    <tr>\n",
       "      <th>genre</th>\n",
       "      <th></th>\n",
       "    </tr>\n",
       "  </thead>\n",
       "  <tbody>\n",
       "    <tr>\n",
       "      <td>Shooter</td>\n",
       "      <td>15.90</td>\n",
       "    </tr>\n",
       "    <tr>\n",
       "      <td>Sports</td>\n",
       "      <td>12.01</td>\n",
       "    </tr>\n",
       "    <tr>\n",
       "      <td>Action</td>\n",
       "      <td>10.68</td>\n",
       "    </tr>\n",
       "    <tr>\n",
       "      <td>Role-Playing</td>\n",
       "      <td>4.28</td>\n",
       "    </tr>\n",
       "    <tr>\n",
       "      <td>Racing</td>\n",
       "      <td>1.77</td>\n",
       "    </tr>\n",
       "  </tbody>\n",
       "</table>\n",
       "</div>"
      ],
      "text/plain": [
       "              eu_sales\n",
       "genre                 \n",
       "Shooter          15.90\n",
       "Sports           12.01\n",
       "Action           10.68\n",
       "Role-Playing      4.28\n",
       "Racing            1.77"
      ]
     },
     "execution_count": 53,
     "metadata": {},
     "output_type": "execute_result"
    }
   ],
   "source": [
    "# сводная таблица\n",
    "eu_genre = df_actual.pivot_table(index='genre', values='eu_sales', aggfunc='sum')\n",
    "eu_genre = eu_genre.sort_values(by='eu_sales', ascending=False).head()\n",
    "eu_genre"
   ]
  },
  {
   "cell_type": "code",
   "execution_count": 54,
   "metadata": {},
   "outputs": [
    {
     "data": {
      "image/png": "[encoded data removed]",
      "text/plain": [
       "<Figure size 360x360 with 1 Axes>"
      ]
     },
     "metadata": {},
     "output_type": "display_data"
    }
   ],
   "source": [
    "# диаграмма прродаж по жанрам в EU\n",
    "explode = [0.1,0,0,0,0]\n",
    "eu_genre.plot(y='eu_sales', kind='pie', figsize=(5, 5), explode=explode, legend=False)\n",
    "plt.title('диаграмма продаж по жанрам в EU');\n",
    "plt.ylabel(\"\");"
   ]
  },
  {
   "cell_type": "markdown",
   "metadata": {},
   "source": [
    "<div style=\"border:solid blue 2px; padding: 20px\">\n",
    "    \n",
    "    \n",
    "Методом `pivot_table()` получим сводную таблицу по `genre` c `jp_sales` \n",
    "    \n",
    "\n",
    "    \n",
    "</div> "
   ]
  },
  {
   "cell_type": "code",
   "execution_count": 55,
   "metadata": {},
   "outputs": [
    {
     "data": {
      "text/html": [
       "<div>\n",
       "<style scoped>\n",
       "    .dataframe tbody tr th:only-of-type {\n",
       "        vertical-align: middle;\n",
       "    }\n",
       "\n",
       "    .dataframe tbody tr th {\n",
       "        vertical-align: top;\n",
       "    }\n",
       "\n",
       "    .dataframe thead th {\n",
       "        text-align: right;\n",
       "    }\n",
       "</style>\n",
       "<table border=\"1\" class=\"dataframe\">\n",
       "  <thead>\n",
       "    <tr style=\"text-align: right;\">\n",
       "      <th></th>\n",
       "      <th>jp_sales</th>\n",
       "    </tr>\n",
       "    <tr>\n",
       "      <th>genre</th>\n",
       "      <th></th>\n",
       "    </tr>\n",
       "  </thead>\n",
       "  <tbody>\n",
       "    <tr>\n",
       "      <td>Action</td>\n",
       "      <td>7.07</td>\n",
       "    </tr>\n",
       "    <tr>\n",
       "      <td>Role-Playing</td>\n",
       "      <td>6.61</td>\n",
       "    </tr>\n",
       "    <tr>\n",
       "      <td>Adventure</td>\n",
       "      <td>1.18</td>\n",
       "    </tr>\n",
       "    <tr>\n",
       "      <td>Shooter</td>\n",
       "      <td>1.06</td>\n",
       "    </tr>\n",
       "    <tr>\n",
       "      <td>Misc</td>\n",
       "      <td>1.04</td>\n",
       "    </tr>\n",
       "  </tbody>\n",
       "</table>\n",
       "</div>"
      ],
      "text/plain": [
       "              jp_sales\n",
       "genre                 \n",
       "Action            7.07\n",
       "Role-Playing      6.61\n",
       "Adventure         1.18\n",
       "Shooter           1.06\n",
       "Misc              1.04"
      ]
     },
     "execution_count": 55,
     "metadata": {},
     "output_type": "execute_result"
    }
   ],
   "source": [
    "# сводная таблица\n",
    "jp_genre = df_actual.pivot_table(index='genre', values='jp_sales', aggfunc='sum')\n",
    "jp_genre = jp_genre.sort_values(by='jp_sales', ascending=False).head()\n",
    "jp_genre"
   ]
  },
  {
   "cell_type": "code",
   "execution_count": 56,
   "metadata": {},
   "outputs": [
    {
     "data": {
      "image/png": "[encoded data removed]",
      "text/plain": [
       "<Figure size 360x360 with 1 Axes>"
      ]
     },
     "metadata": {},
     "output_type": "display_data"
    }
   ],
   "source": [
    "# диаграмма прродаж по жанрам в JP\n",
    "explode = [0.1,0,0,0,0]\n",
    "jp_genre.plot(y='jp_sales', kind='pie', figsize=(5, 5), explode=explode, legend=False)\n",
    "plt.title('диаграмма продаж по жанрам в JP');\n",
    "plt.ylabel(\"\");"
   ]
  },
  {
   "cell_type": "markdown",
   "metadata": {},
   "source": [
    "<div style=\"border:solid blue 2px; padding: 20px\">\n",
    "    \n",
    "    \n",
    "- `NA` топ-5 популярных жанров: `Shooter` `Action` `Sports` `Role-Playing` `Fighting`\n",
    "   \n",
    "\n",
    "- `EU` топ-5 популярных жанров: `Shooter` `Sports` `Action` `Role-Playing` `Racing`\n",
    "        \n",
    "    \n",
    "- `JP` топ-5 популярных жанров: `Action` `Role-Playing` `Adventure` `Shooter` `Misc` \n",
    "    \n",
    "     \n",
    " Жанры топ-5 очень схожи в  `NA` и `EU`, и отличаются от `JP`\n",
    " \n",
    "    \n",
    "  \n",
    "</div> "
   ]
  },
  {
   "cell_type": "markdown",
   "metadata": {},
   "source": [
    "<div style=\"border:solid blue 2px; padding: 20px\">\n",
    "    \n",
    "    \n",
    "Влияние рейтинга на регионы.\n",
    "   \n",
    "    \n",
    "</div> "
   ]
  },
  {
   "cell_type": "markdown",
   "metadata": {},
   "source": [
    "<div style=\"border:solid blue 2px; padding: 20px\">\n",
    "    \n",
    "    \n",
    "Методом `pivot_table()` получим сводную таблицу по `rating` c `na_sales` \n",
    "    \n",
    "\n",
    "    \n",
    "</div> "
   ]
  },
  {
   "cell_type": "code",
   "execution_count": 57,
   "metadata": {},
   "outputs": [
    {
     "data": {
      "text/html": [
       "<div>\n",
       "<style scoped>\n",
       "    .dataframe tbody tr th:only-of-type {\n",
       "        vertical-align: middle;\n",
       "    }\n",
       "\n",
       "    .dataframe tbody tr th {\n",
       "        vertical-align: top;\n",
       "    }\n",
       "\n",
       "    .dataframe thead th {\n",
       "        text-align: right;\n",
       "    }\n",
       "</style>\n",
       "<table border=\"1\" class=\"dataframe\">\n",
       "  <thead>\n",
       "    <tr style=\"text-align: right;\">\n",
       "      <th></th>\n",
       "      <th>na_sales</th>\n",
       "    </tr>\n",
       "    <tr>\n",
       "      <th>rating</th>\n",
       "      <th></th>\n",
       "    </tr>\n",
       "  </thead>\n",
       "  <tbody>\n",
       "    <tr>\n",
       "      <td>M</td>\n",
       "      <td>15.67</td>\n",
       "    </tr>\n",
       "    <tr>\n",
       "      <td>T</td>\n",
       "      <td>8.95</td>\n",
       "    </tr>\n",
       "    <tr>\n",
       "      <td>unknown</td>\n",
       "      <td>8.53</td>\n",
       "    </tr>\n",
       "    <tr>\n",
       "      <td>E</td>\n",
       "      <td>7.97</td>\n",
       "    </tr>\n",
       "    <tr>\n",
       "      <td>E10+</td>\n",
       "      <td>3.81</td>\n",
       "    </tr>\n",
       "  </tbody>\n",
       "</table>\n",
       "</div>"
      ],
      "text/plain": [
       "         na_sales\n",
       "rating           \n",
       "M           15.67\n",
       "T            8.95\n",
       "unknown      8.53\n",
       "E            7.97\n",
       "E10+         3.81"
      ]
     },
     "execution_count": 57,
     "metadata": {},
     "output_type": "execute_result"
    }
   ],
   "source": [
    "# сводная таблица\n",
    "na_rating = df_actual.pivot_table(index='rating', values='na_sales', aggfunc='sum')\n",
    "na_rating = na_rating.sort_values(by='na_sales', ascending=False)\n",
    "na_rating"
   ]
  },
  {
   "cell_type": "code",
   "execution_count": 58,
   "metadata": {},
   "outputs": [
    {
     "data": {
      "image/png": "[encoded data removed]",
      "text/plain": [
       "<Figure size 360x360 with 1 Axes>"
      ]
     },
     "metadata": {},
     "output_type": "display_data"
    }
   ],
   "source": [
    "# диаграмма прродаж по рейтингам в NA\n",
    "explode = [0.1,0,0,0,0]\n",
    "na_rating.plot(y='na_sales', kind='pie', figsize=(5, 5), explode=explode, legend=False)\n",
    "plt.title('диаграмма продаж по рейтингам в NA');\n",
    "plt.ylabel(\"\");"
   ]
  },
  {
   "cell_type": "markdown",
   "metadata": {},
   "source": [
    "<div style=\"border:solid blue 2px; padding: 20px\">\n",
    "    \n",
    "    \n",
    "Методом `pivot_table()` получим сводную таблицу по `rating` c `eu_sales` \n",
    "    \n",
    "\n",
    "    \n",
    "</div> "
   ]
  },
  {
   "cell_type": "code",
   "execution_count": 59,
   "metadata": {},
   "outputs": [
    {
     "data": {
      "text/html": [
       "<div>\n",
       "<style scoped>\n",
       "    .dataframe tbody tr th:only-of-type {\n",
       "        vertical-align: middle;\n",
       "    }\n",
       "\n",
       "    .dataframe tbody tr th {\n",
       "        vertical-align: top;\n",
       "    }\n",
       "\n",
       "    .dataframe thead th {\n",
       "        text-align: right;\n",
       "    }\n",
       "</style>\n",
       "<table border=\"1\" class=\"dataframe\">\n",
       "  <thead>\n",
       "    <tr style=\"text-align: right;\">\n",
       "      <th></th>\n",
       "      <th>eu_sales</th>\n",
       "    </tr>\n",
       "    <tr>\n",
       "      <th>rating</th>\n",
       "      <th></th>\n",
       "    </tr>\n",
       "  </thead>\n",
       "  <tbody>\n",
       "    <tr>\n",
       "      <td>M</td>\n",
       "      <td>16.54</td>\n",
       "    </tr>\n",
       "    <tr>\n",
       "      <td>E</td>\n",
       "      <td>13.61</td>\n",
       "    </tr>\n",
       "    <tr>\n",
       "      <td>T</td>\n",
       "      <td>9.79</td>\n",
       "    </tr>\n",
       "    <tr>\n",
       "      <td>unknown</td>\n",
       "      <td>7.47</td>\n",
       "    </tr>\n",
       "    <tr>\n",
       "      <td>E10+</td>\n",
       "      <td>3.81</td>\n",
       "    </tr>\n",
       "  </tbody>\n",
       "</table>\n",
       "</div>"
      ],
      "text/plain": [
       "         eu_sales\n",
       "rating           \n",
       "M           16.54\n",
       "E           13.61\n",
       "T            9.79\n",
       "unknown      7.47\n",
       "E10+         3.81"
      ]
     },
     "execution_count": 59,
     "metadata": {},
     "output_type": "execute_result"
    }
   ],
   "source": [
    "# сводная таблица\n",
    "eu_rating = df_actual.pivot_table(index='rating', values='eu_sales', aggfunc='sum')\n",
    "eu_rating = eu_rating.sort_values(by='eu_sales', ascending=False)\n",
    "eu_rating"
   ]
  },
  {
   "cell_type": "code",
   "execution_count": 60,
   "metadata": {},
   "outputs": [
    {
     "data": {
      "image/png": "[encoded data removed]",
      "text/plain": [
       "<Figure size 360x360 with 1 Axes>"
      ]
     },
     "metadata": {},
     "output_type": "display_data"
    }
   ],
   "source": [
    "# диаграмма прродаж по рейтингам в EU\n",
    "explode = [0.1,0,0,0,0]\n",
    "eu_rating.plot(y='eu_sales', kind='pie', figsize=(5, 5), explode=explode, legend=False)\n",
    "plt.title('диаграмма продаж по рейтингам в EU');\n",
    "plt.ylabel(\"\");"
   ]
  },
  {
   "cell_type": "markdown",
   "metadata": {},
   "source": [
    "<div style=\"border:solid blue 2px; padding: 20px\">\n",
    "    \n",
    "    \n",
    "Методом `pivot_table()` получим сводную таблицу по `rating` c `jp_sales` \n",
    "    \n",
    "\n",
    "    \n",
    "</div> "
   ]
  },
  {
   "cell_type": "code",
   "execution_count": 61,
   "metadata": {
    "scrolled": true
   },
   "outputs": [
    {
     "data": {
      "text/html": [
       "<div>\n",
       "<style scoped>\n",
       "    .dataframe tbody tr th:only-of-type {\n",
       "        vertical-align: middle;\n",
       "    }\n",
       "\n",
       "    .dataframe tbody tr th {\n",
       "        vertical-align: top;\n",
       "    }\n",
       "\n",
       "    .dataframe thead th {\n",
       "        text-align: right;\n",
       "    }\n",
       "</style>\n",
       "<table border=\"1\" class=\"dataframe\">\n",
       "  <thead>\n",
       "    <tr style=\"text-align: right;\">\n",
       "      <th></th>\n",
       "      <th>jp_sales</th>\n",
       "    </tr>\n",
       "    <tr>\n",
       "      <th>rating</th>\n",
       "      <th></th>\n",
       "    </tr>\n",
       "  </thead>\n",
       "  <tbody>\n",
       "    <tr>\n",
       "      <td>unknown</td>\n",
       "      <td>14.32</td>\n",
       "    </tr>\n",
       "    <tr>\n",
       "      <td>T</td>\n",
       "      <td>2.27</td>\n",
       "    </tr>\n",
       "    <tr>\n",
       "      <td>M</td>\n",
       "      <td>1.20</td>\n",
       "    </tr>\n",
       "    <tr>\n",
       "      <td>E</td>\n",
       "      <td>1.07</td>\n",
       "    </tr>\n",
       "    <tr>\n",
       "      <td>E10+</td>\n",
       "      <td>0.45</td>\n",
       "    </tr>\n",
       "  </tbody>\n",
       "</table>\n",
       "</div>"
      ],
      "text/plain": [
       "         jp_sales\n",
       "rating           \n",
       "unknown     14.32\n",
       "T            2.27\n",
       "M            1.20\n",
       "E            1.07\n",
       "E10+         0.45"
      ]
     },
     "execution_count": 61,
     "metadata": {},
     "output_type": "execute_result"
    }
   ],
   "source": [
    "# сводная таблица\n",
    "jp_rating = df_actual.pivot_table(index='rating', values='jp_sales', aggfunc='sum')\n",
    "jp_rating = jp_rating.sort_values(by='jp_sales', ascending=False)\n",
    "jp_rating"
   ]
  },
  {
   "cell_type": "code",
   "execution_count": 62,
   "metadata": {},
   "outputs": [
    {
     "data": {
      "image/png": "[encoded data removed]",
      "text/plain": [
       "<Figure size 360x360 with 1 Axes>"
      ]
     },
     "metadata": {},
     "output_type": "display_data"
    }
   ],
   "source": [
    "# диаграмма прродаж по рейтингам в JP\n",
    "explode = [0,0.1,0,0,0]\n",
    "jp_rating.plot(y='jp_sales', kind='pie', figsize=(5, 5), explode=explode, legend=False)\n",
    "plt.title('диаграмма продаж по рейтингам в JP');\n",
    "plt.ylabel(\"\");"
   ]
  },
  {
   "cell_type": "markdown",
   "metadata": {},
   "source": [
    "#### Вывод"
   ]
  },
  {
   "cell_type": "markdown",
   "metadata": {},
   "source": [
    "<div style=\"border:solid blue 2px; padding: 20px\">\n",
    "    \n",
    "    \n",
    "- `NA` и `EU` влияет рейтинг на продажи\n",
    "    \n",
    "    `M` - mature 17+\n",
    "    \n",
    "    `E` - everyone 6+\n",
    "    \n",
    "    `T` - teen 13+\n",
    "   \n",
    "    \n",
    "    \n",
    "- `JP` другие рейтинги влияют на продажи\n",
    "    \n",
    "    `T` - teen 13+\n",
    "   \n",
    "    \n",
    "    \n",
    " Игры рейтингом `M (mature 17+)` больше спросом в `NA` и `EU`, а в `JP` `T (teen 13+)` больше\n",
    " \n",
    "    \n",
    "  \n",
    "</div> "
   ]
  },
  {
   "cell_type": "markdown",
   "metadata": {},
   "source": [
    "## Гипотезы"
   ]
  },
  {
   "cell_type": "code",
   "execution_count": 63,
   "metadata": {},
   "outputs": [
    {
     "data": {
      "text/plain": [
       "count    87.000000\n",
       "mean      5.005747\n",
       "std       3.138929\n",
       "min       0.000000\n",
       "25%       2.350000\n",
       "50%       6.200000\n",
       "75%       7.450000\n",
       "max       8.800000\n",
       "Name: user_score, dtype: float64"
      ]
     },
     "execution_count": 63,
     "metadata": {},
     "output_type": "execute_result"
    }
   ],
   "source": [
    "# описание данных\n",
    "xone = df_actual.query('platform == \"XOne\"')\n",
    "xone_describe = xone['user_score'].describe()\n",
    "xone_describe"
   ]
  },
  {
   "cell_type": "code",
   "execution_count": 64,
   "metadata": {},
   "outputs": [
    {
     "data": {
      "text/plain": [
       "count    54.000000\n",
       "mean      5.248148\n",
       "std       2.850603\n",
       "min       0.000000\n",
       "25%       3.550000\n",
       "50%       6.250000\n",
       "75%       7.300000\n",
       "max       8.700000\n",
       "Name: user_score, dtype: float64"
      ]
     },
     "execution_count": 64,
     "metadata": {},
     "output_type": "execute_result"
    }
   ],
   "source": [
    "# описание данных\n",
    "pc = df_actual.query('platform == \"PC\"')\n",
    "pc_describe = pc['user_score'].describe()\n",
    "pc_describe"
   ]
  },
  {
   "cell_type": "markdown",
   "metadata": {},
   "source": [
    "<div style=\"border:solid blue 2px; padding: 20px\">\n",
    "    \n",
    "Методом `scipy.stats.ttest_ind` проверим гипотезу о различии среднего двух выборок\n",
    "    \n",
    "**Нулевая гипотеза `h0`** средние пользовательские рейтинги `XOne` и `PC` **`равны`**\n",
    "    \n",
    "    \n",
    "**Альтернативная гипотеза `h1`** средние пользовательские рейтинги `XOne` и `PC` **`различаются`**\n",
    "    \n",
    "    \n",
    "</div>"
   ]
  },
  {
   "cell_type": "markdown",
   "metadata": {},
   "source": [
    "<div style=\"border:solid blue 2px; padding: 20px\">\n",
    "    \n",
    "    \n",
    "Пороговое значение зададим `alpha` `=`  `0.05`\n",
    "    \n",
    "\n",
    "    \n",
    "</div> "
   ]
  },
  {
   "cell_type": "markdown",
   "metadata": {},
   "source": [
    "<div style=\"border:solid blue 2px; padding: 20px\">\n",
    "    \n",
    "Для фильтрации выбросов используем межквартильный метод\n",
    "\n",
    "    \n",
    "</div> "
   ]
  },
  {
   "cell_type": "code",
   "execution_count": 65,
   "metadata": {},
   "outputs": [],
   "source": [
    "# исключение выбросов\n",
    "def outliers(df, column, graphic=0, x = 10, y = 10):\n",
    "    q1 = df[column].quantile(0.25)                 \n",
    "    q3 = df[column].quantile(0.75)\n",
    "    iqr = q3 - q1\n",
    "    iqr_test = (df[column] >= (q1 - 1.5 * iqr)) & (df[column] <= (q3 + 1.5 * iqr))\n",
    "    if graphic == 1:\n",
    "        return df.loc[iqr_test].boxplot([column], figsize=(x,y))\n",
    "    else:\n",
    "        return df.loc[iqr_test]\n",
    "xone = outliers(xone, 'user_score', 0)\n",
    "pc = outliers(pc, 'user_score', 0)"
   ]
  },
  {
   "cell_type": "code",
   "execution_count": 66,
   "metadata": {},
   "outputs": [],
   "source": [
    "# получение массивов для теста\n",
    "xone_array = xone['user_score']\n",
    "pc_array = pc['user_score']"
   ]
  },
  {
   "cell_type": "code",
   "execution_count": 67,
   "metadata": {},
   "outputs": [
    {
     "name": "stdout",
     "output_type": "stream",
     "text": [
      "p-значение: 0.6452008993598133\n",
      "Не получилось отвергнуть нулевую гипотезу\n"
     ]
    }
   ],
   "source": [
    "# проверка гипотезы\n",
    "alpha = 0.05\n",
    "results = st.ttest_ind(xone_array, pc_array)\n",
    "print('p-значение:', results.pvalue)\n",
    "if (results.pvalue < alpha):\n",
    "    print(\"Отвергаем нулевую гипотезу\")\n",
    "else:\n",
    "    print(\"Не получилось отвергнуть нулевую гипотезу\")"
   ]
  },
  {
   "cell_type": "markdown",
   "metadata": {},
   "source": [
    "<div style=\"border:solid blue 2px; padding: 20px\">\n",
    "    \n",
    "    \n",
    "Получили ответ\n",
    "    \n",
    "    \n",
    "- **Нулевую гипотезу `h0`** не получилось отвергнуть\n",
    "    \n",
    "\n",
    "- `p-значение` `64%` это большая вероятность чтобы делать вывод о значимом различии\n",
    "   \n",
    "    \n",
    "</div>\n"
   ]
  },
  {
   "cell_type": "code",
   "execution_count": 68,
   "metadata": {},
   "outputs": [
    {
     "data": {
      "text/plain": [
       "count    178.000000\n",
       "mean       3.170225\n",
       "std        3.476647\n",
       "min        0.000000\n",
       "25%        0.000000\n",
       "50%        0.000000\n",
       "75%        6.800000\n",
       "max        8.800000\n",
       "Name: user_score, dtype: float64"
      ]
     },
     "execution_count": 68,
     "metadata": {},
     "output_type": "execute_result"
    }
   ],
   "source": [
    "# описание данных\n",
    "action = df_actual.query('genre == \"Action\"')\n",
    "action_describe = action['user_score'].describe()\n",
    "action_describe"
   ]
  },
  {
   "cell_type": "code",
   "execution_count": 69,
   "metadata": {},
   "outputs": [
    {
     "data": {
      "text/plain": [
       "count    48.000000\n",
       "mean      4.187500\n",
       "std       2.917783\n",
       "min       0.000000\n",
       "25%       0.575000\n",
       "50%       4.950000\n",
       "75%       6.525000\n",
       "max       8.700000\n",
       "Name: user_score, dtype: float64"
      ]
     },
     "execution_count": 69,
     "metadata": {},
     "output_type": "execute_result"
    }
   ],
   "source": [
    "# описание данных\n",
    "sports = df_actual.query('genre == \"Sports\"')\n",
    "sports_describe = sports['user_score'].describe()\n",
    "sports_describe"
   ]
  },
  {
   "cell_type": "markdown",
   "metadata": {},
   "source": [
    "<div style=\"border:solid blue 2px; padding: 20px\">\n",
    "    \n",
    "**Гипотеза о различии средних двух выборок независимых между собой**\n",
    "    \n",
    "средние пользовательские рейтинги жанров `Action` и `Sports` разные\n",
    "    \n",
    "    \n",
    "**Проведём статистический тест**\n",
    "    \n",
    "    \n",
    "</div> "
   ]
  },
  {
   "cell_type": "markdown",
   "metadata": {},
   "source": [
    "<div style=\"border:solid blue 2px; padding: 20px\">\n",
    "    \n",
    "Методом `scipy.stats.ttest_ind` проверим гипотезу о различии среднего двух выборок\n",
    "    \n",
    "**Нулевая гипотеза `h0`** средние пользовательские рейтинги жанров `Action` и `Sports` **`равны`**\n",
    "    \n",
    "    \n",
    "**Альтернативная гипотеза `h1`** средние пользовательские рейтинги жанров `Action`и`Sports` **`различаются`**\n",
    "    \n",
    "    \n",
    "</div> "
   ]
  },
  {
   "cell_type": "code",
   "execution_count": 70,
   "metadata": {},
   "outputs": [],
   "source": [
    "# исключение выбросов\n",
    "action = outliers(action, 'user_score', 0)\n",
    "sports = outliers(sports, 'user_score', 0)"
   ]
  },
  {
   "cell_type": "code",
   "execution_count": 71,
   "metadata": {},
   "outputs": [],
   "source": [
    "# получение массивов для теста\n",
    "action_array = action['user_score']\n",
    "sports_array = sports['user_score']"
   ]
  },
  {
   "cell_type": "code",
   "execution_count": 72,
   "metadata": {},
   "outputs": [
    {
     "name": "stdout",
     "output_type": "stream",
     "text": [
      "p-значение: 0.06453284495697292\n",
      "Не получилось отвергнуть нулевую гипотезу\n"
     ]
    }
   ],
   "source": [
    "# проверка гипотезы\n",
    "alpha = 0.05\n",
    "results = st.ttest_ind(action_array, sports_array)\n",
    "print('p-значение:', results.pvalue)\n",
    "if (results.pvalue < alpha):\n",
    "    print(\"Отвергаем нулевую гипотезу\")\n",
    "else:\n",
    "    print(\"Не получилось отвергнуть нулевую гипотезу\")"
   ]
  },
  {
   "cell_type": "markdown",
   "metadata": {},
   "source": [
    "<div style=\"border:solid blue 2px; padding: 20px\">\n",
    "    \n",
    "    \n",
    "Получили ответ\n",
    "    \n",
    "    \n",
    "- **Нулевую гипотезу `h0`** не получилось отвергнуть\n",
    "    \n",
    "\n",
    "- `p-значение` `6%` вероятность чтобы делать вывод о значимом различии\n",
    "   \n",
    "    \n",
    "</div> "
   ]
  },
  {
   "cell_type": "markdown",
   "metadata": {},
   "source": [
    "## Вывод"
   ]
  },
  {
   "cell_type": "markdown",
   "metadata": {},
   "source": [
    "<div style=\"border:solid blue 2px; padding: 20px\">\n",
    "    \n",
    "    \n",
    "**Платформа** - это один из основных параметров\n",
    "    \n",
    "Перспективные для продаж в `NA` и `EU` продукты нужны на  `PS4` и `XOne`,\n",
    "    \n",
    "а в `JP` c `40%` рекомендовать игры на платформе `3DS`\n",
    "    \n",
    "**Жанр** - сильно скажется на продажах игр: `Shooter`-будет популярен во всех регионах на `2017`год\n",
    "    \n",
    "**Рейтинг** ассоциации ESRB: стоит уделить внимание так же рейтингу `E` для всех регионов\n",
    "    \n",
    "Для `NA` и `EU` предпочтительно `M`,\n",
    "    \n",
    "а в `JP`  предпочтительно `T`\n",
    "    \n",
    "    \n",
    "**Оценка критиков** - может оказать влияние на продажу игр\n",
    "    \n",
    "    \n",
    "Зная, какие игры предположительно будут пользоваться спросом, следует также знать, \n",
    "    \n",
    "    \n",
    "как рекламировать и продвигать их. \n",
    "    \n",
    "    \n",
    "Нельзя просто положиться на качество игр, которое должно волшебным образом привлечь пользователя.\n",
    "    \n",
    "\n",
    "Каждый день в продажу выходит большое количество игр на разных платформах [лидеры продаж](#leader), \n",
    "    \n",
    "они различаются по качеству, но конкуренция очень высокая и трудно сделать так, чтобы игру заметили\n",
    "    \n",
    "    \n",
    "И чтобы добится поставленной цели выявить определяющие успешность игры закономерности\n",
    "    \n",
    "необходимо учитывать ещё две метрики: количество новых покупателей и их платёжеспособность\n",
    "    \n",
    "    \n",
    "Поэтому здесь важно правильно сделать ставку на как на предполагаемый популярный продукт, \n",
    "    \n",
    " так и на предполагаемых покупателей этого продукта.\n",
    "    \n",
    "    \n",
    "Спланировать рекламную кампанию необходимо в несколько этапов и на разные категории возрастов\n",
    "    \n",
    "    \n",
    "Первые результаты проанализировать и уже по ним выбирать каналы продвижения в разных регионах\n",
    "    \n",
    "    \n",
    "и правильно настроить таргетированную рекламу.\n",
    "\n",
    "</div> "
   ]
  }
 ],
 "metadata": {
  "ExecuteTimeLog": [
   {
    "duration": 1450,
    "start_time": "2021-12-28T04:45:40.796Z"
   },
   {
    "duration": 231,
    "start_time": "2021-12-28T04:48:17.672Z"
   },
   {
    "duration": 24,
    "start_time": "2021-12-28T04:50:01.528Z"
   },
   {
    "duration": 424,
    "start_time": "2021-12-28T04:50:47.236Z"
   },
   {
    "duration": 16,
    "start_time": "2021-12-28T04:50:53.240Z"
   },
   {
    "duration": 43,
    "start_time": "2021-12-28T04:52:58.795Z"
   },
   {
    "duration": 5,
    "start_time": "2021-12-28T04:59:27.080Z"
   },
   {
    "duration": 558,
    "start_time": "2021-12-28T04:59:44.891Z"
   },
   {
    "duration": 5,
    "start_time": "2021-12-28T05:00:08.114Z"
   },
   {
    "duration": 85,
    "start_time": "2021-12-28T05:00:09.193Z"
   },
   {
    "duration": 1191,
    "start_time": "2021-12-28T05:09:28.646Z"
   },
   {
    "duration": 1161,
    "start_time": "2021-12-28T05:10:35.418Z"
   },
   {
    "duration": 6,
    "start_time": "2021-12-28T05:10:50.625Z"
   },
   {
    "duration": 292,
    "start_time": "2021-12-28T05:11:26.319Z"
   },
   {
    "duration": 6,
    "start_time": "2021-12-28T05:11:51.376Z"
   },
   {
    "duration": 304,
    "start_time": "2021-12-28T05:12:27.575Z"
   },
   {
    "duration": 10,
    "start_time": "2021-12-28T05:16:10.134Z"
   },
   {
    "duration": 9,
    "start_time": "2021-12-28T05:25:55.980Z"
   },
   {
    "duration": 31,
    "start_time": "2021-12-28T05:26:04.783Z"
   },
   {
    "duration": 13,
    "start_time": "2021-12-28T05:26:26.924Z"
   },
   {
    "duration": 39,
    "start_time": "2021-12-28T05:27:14.541Z"
   },
   {
    "duration": 25,
    "start_time": "2021-12-28T05:28:49.696Z"
   },
   {
    "duration": 24,
    "start_time": "2021-12-28T05:28:55.886Z"
   },
   {
    "duration": 21,
    "start_time": "2021-12-28T05:38:29.481Z"
   },
   {
    "duration": 18,
    "start_time": "2021-12-28T05:38:49.131Z"
   },
   {
    "duration": 2359,
    "start_time": "2021-12-28T05:40:51.778Z"
   },
   {
    "duration": 2706,
    "start_time": "2021-12-28T05:43:22.091Z"
   },
   {
    "duration": 3428,
    "start_time": "2021-12-28T05:43:39.595Z"
   },
   {
    "duration": 1512,
    "start_time": "2021-12-28T05:44:04.830Z"
   },
   {
    "duration": 248,
    "start_time": "2021-12-28T05:44:06.345Z"
   },
   {
    "duration": 26,
    "start_time": "2021-12-28T05:44:06.602Z"
   },
   {
    "duration": 47,
    "start_time": "2021-12-28T05:44:06.631Z"
   },
   {
    "duration": 49,
    "start_time": "2021-12-28T05:44:06.681Z"
   },
   {
    "duration": 4,
    "start_time": "2021-12-28T05:44:06.733Z"
   },
   {
    "duration": 101,
    "start_time": "2021-12-28T05:44:06.765Z"
   },
   {
    "duration": 22,
    "start_time": "2021-12-28T05:44:06.869Z"
   },
   {
    "duration": 12,
    "start_time": "2021-12-28T05:44:06.894Z"
   },
   {
    "duration": 6,
    "start_time": "2021-12-28T05:44:06.909Z"
   },
   {
    "duration": 71,
    "start_time": "2021-12-28T05:44:06.917Z"
   },
   {
    "duration": 409,
    "start_time": "2021-12-28T05:44:06.990Z"
   },
   {
    "duration": 155,
    "start_time": "2021-12-28T05:44:07.247Z"
   },
   {
    "duration": 8,
    "start_time": "2021-12-28T05:51:55.429Z"
   },
   {
    "duration": 10,
    "start_time": "2021-12-28T05:51:59.597Z"
   },
   {
    "duration": 14,
    "start_time": "2021-12-28T05:52:18.571Z"
   },
   {
    "duration": 7,
    "start_time": "2021-12-28T05:52:31.155Z"
   },
   {
    "duration": 1466,
    "start_time": "2021-12-28T05:52:49.865Z"
   },
   {
    "duration": 227,
    "start_time": "2021-12-28T05:52:51.334Z"
   },
   {
    "duration": 24,
    "start_time": "2021-12-28T05:52:51.564Z"
   },
   {
    "duration": 14,
    "start_time": "2021-12-28T05:52:51.591Z"
   },
   {
    "duration": 75,
    "start_time": "2021-12-28T05:52:51.608Z"
   },
   {
    "duration": 4,
    "start_time": "2021-12-28T05:52:51.685Z"
   },
   {
    "duration": 101,
    "start_time": "2021-12-28T05:52:51.692Z"
   },
   {
    "duration": 22,
    "start_time": "2021-12-28T05:52:51.796Z"
   },
   {
    "duration": 6,
    "start_time": "2021-12-28T05:52:51.820Z"
   },
   {
    "duration": 57,
    "start_time": "2021-12-28T05:52:51.828Z"
   },
   {
    "duration": 5,
    "start_time": "2021-12-28T05:52:51.888Z"
   },
   {
    "duration": 5,
    "start_time": "2021-12-28T05:52:51.896Z"
   },
   {
    "duration": 14,
    "start_time": "2021-12-28T05:52:51.904Z"
   },
   {
    "duration": 20,
    "start_time": "2021-12-28T06:19:16.954Z"
   },
   {
    "duration": 8,
    "start_time": "2021-12-28T06:21:09.362Z"
   },
   {
    "duration": 21,
    "start_time": "2021-12-28T06:21:24.607Z"
   },
   {
    "duration": 13,
    "start_time": "2021-12-28T06:21:41.605Z"
   },
   {
    "duration": 14,
    "start_time": "2021-12-28T06:21:47.715Z"
   },
   {
    "duration": 432,
    "start_time": "2021-12-28T06:21:56.668Z"
   },
   {
    "duration": 14,
    "start_time": "2021-12-28T06:22:02.616Z"
   },
   {
    "duration": 20,
    "start_time": "2021-12-28T06:22:09.321Z"
   },
   {
    "duration": 11,
    "start_time": "2021-12-28T06:26:02.761Z"
   },
   {
    "duration": 22,
    "start_time": "2021-12-28T06:26:14.744Z"
   },
   {
    "duration": 485,
    "start_time": "2021-12-28T06:27:31.902Z"
   },
   {
    "duration": 37,
    "start_time": "2021-12-28T06:27:51.287Z"
   },
   {
    "duration": 20,
    "start_time": "2021-12-28T06:27:59.498Z"
   },
   {
    "duration": 1592,
    "start_time": "2021-12-28T06:28:06.060Z"
   },
   {
    "duration": 276,
    "start_time": "2021-12-28T06:28:07.655Z"
   },
   {
    "duration": 23,
    "start_time": "2021-12-28T06:28:07.934Z"
   },
   {
    "duration": 15,
    "start_time": "2021-12-28T06:28:07.960Z"
   },
   {
    "duration": 41,
    "start_time": "2021-12-28T06:28:07.978Z"
   },
   {
    "duration": 4,
    "start_time": "2021-12-28T06:28:08.022Z"
   },
   {
    "duration": 112,
    "start_time": "2021-12-28T06:28:08.028Z"
   },
   {
    "duration": 41,
    "start_time": "2021-12-28T06:28:08.143Z"
   },
   {
    "duration": 10590,
    "start_time": "2021-12-28T06:28:08.188Z"
   },
   {
    "duration": 233,
    "start_time": "2021-12-28T06:28:18.548Z"
   },
   {
    "duration": 233,
    "start_time": "2021-12-28T06:28:18.550Z"
   },
   {
    "duration": 233,
    "start_time": "2021-12-28T06:28:18.552Z"
   },
   {
    "duration": 232,
    "start_time": "2021-12-28T06:28:18.554Z"
   },
   {
    "duration": 232,
    "start_time": "2021-12-28T06:28:18.556Z"
   },
   {
    "duration": 232,
    "start_time": "2021-12-28T06:28:18.557Z"
   },
   {
    "duration": 232,
    "start_time": "2021-12-28T06:28:18.558Z"
   },
   {
    "duration": 1918,
    "start_time": "2021-12-28T06:29:06.025Z"
   },
   {
    "duration": 596,
    "start_time": "2021-12-28T06:29:07.945Z"
   },
   {
    "duration": 25,
    "start_time": "2021-12-28T06:29:08.544Z"
   },
   {
    "duration": 18,
    "start_time": "2021-12-28T06:29:08.572Z"
   },
   {
    "duration": 73,
    "start_time": "2021-12-28T06:29:08.592Z"
   },
   {
    "duration": 6,
    "start_time": "2021-12-28T06:29:08.668Z"
   },
   {
    "duration": 105,
    "start_time": "2021-12-28T06:29:08.677Z"
   },
   {
    "duration": 21,
    "start_time": "2021-12-28T06:29:08.785Z"
   },
   {
    "duration": 19,
    "start_time": "2021-12-28T06:29:08.809Z"
   },
   {
    "duration": 7,
    "start_time": "2021-12-28T06:29:08.863Z"
   },
   {
    "duration": 37,
    "start_time": "2021-12-28T06:29:08.872Z"
   },
   {
    "duration": 19,
    "start_time": "2021-12-28T06:29:08.911Z"
   },
   {
    "duration": 34,
    "start_time": "2021-12-28T06:29:08.933Z"
   },
   {
    "duration": 4,
    "start_time": "2021-12-28T06:29:08.969Z"
   },
   {
    "duration": 8,
    "start_time": "2021-12-28T06:29:08.976Z"
   },
   {
    "duration": 31,
    "start_time": "2021-12-28T06:29:08.986Z"
   },
   {
    "duration": 13,
    "start_time": "2021-12-28T06:30:15.172Z"
   },
   {
    "duration": 1575,
    "start_time": "2021-12-28T06:36:20.107Z"
   },
   {
    "duration": 345,
    "start_time": "2021-12-28T06:36:21.685Z"
   },
   {
    "duration": 25,
    "start_time": "2021-12-28T06:36:22.034Z"
   },
   {
    "duration": 16,
    "start_time": "2021-12-28T06:36:22.062Z"
   },
   {
    "duration": 46,
    "start_time": "2021-12-28T06:36:22.081Z"
   },
   {
    "duration": 33,
    "start_time": "2021-12-28T06:36:22.130Z"
   },
   {
    "duration": 103,
    "start_time": "2021-12-28T06:36:22.167Z"
   },
   {
    "duration": 15,
    "start_time": "2021-12-28T06:36:22.274Z"
   },
   {
    "duration": 11893,
    "start_time": "2021-12-28T06:36:22.292Z"
   },
   {
    "duration": 258,
    "start_time": "2021-12-28T06:36:33.930Z"
   },
   {
    "duration": 258,
    "start_time": "2021-12-28T06:36:33.932Z"
   },
   {
    "duration": 257,
    "start_time": "2021-12-28T06:36:33.935Z"
   },
   {
    "duration": 256,
    "start_time": "2021-12-28T06:36:33.938Z"
   },
   {
    "duration": 254,
    "start_time": "2021-12-28T06:36:33.942Z"
   },
   {
    "duration": 249,
    "start_time": "2021-12-28T06:36:33.949Z"
   },
   {
    "duration": 250,
    "start_time": "2021-12-28T06:36:33.950Z"
   },
   {
    "duration": 250,
    "start_time": "2021-12-28T06:36:33.952Z"
   },
   {
    "duration": 1556,
    "start_time": "2021-12-28T06:36:42.801Z"
   },
   {
    "duration": 235,
    "start_time": "2021-12-28T06:36:44.360Z"
   },
   {
    "duration": 25,
    "start_time": "2021-12-28T06:36:44.598Z"
   },
   {
    "duration": 14,
    "start_time": "2021-12-28T06:36:44.626Z"
   },
   {
    "duration": 63,
    "start_time": "2021-12-28T06:36:44.643Z"
   },
   {
    "duration": 5,
    "start_time": "2021-12-28T06:36:44.709Z"
   },
   {
    "duration": 120,
    "start_time": "2021-12-28T06:36:44.717Z"
   },
   {
    "duration": 34,
    "start_time": "2021-12-28T06:36:44.840Z"
   },
   {
    "duration": 21,
    "start_time": "2021-12-28T06:36:44.879Z"
   },
   {
    "duration": 8,
    "start_time": "2021-12-28T06:36:44.903Z"
   },
   {
    "duration": 81,
    "start_time": "2021-12-28T06:36:44.914Z"
   },
   {
    "duration": 23,
    "start_time": "2021-12-28T06:36:44.997Z"
   },
   {
    "duration": 9,
    "start_time": "2021-12-28T06:36:45.023Z"
   },
   {
    "duration": 3,
    "start_time": "2021-12-28T06:36:45.063Z"
   },
   {
    "duration": 9,
    "start_time": "2021-12-28T06:36:45.069Z"
   },
   {
    "duration": 29,
    "start_time": "2021-12-28T06:36:45.081Z"
   },
   {
    "duration": 26,
    "start_time": "2021-12-28T06:38:11.337Z"
   },
   {
    "duration": 257,
    "start_time": "2021-12-28T06:40:31.586Z"
   },
   {
    "duration": 20,
    "start_time": "2021-12-28T06:40:33.724Z"
   },
   {
    "duration": 1465,
    "start_time": "2021-12-28T10:00:38.780Z"
   },
   {
    "duration": 252,
    "start_time": "2021-12-28T10:00:40.247Z"
   },
   {
    "duration": 23,
    "start_time": "2021-12-28T10:00:40.502Z"
   },
   {
    "duration": 33,
    "start_time": "2021-12-28T10:00:40.527Z"
   },
   {
    "duration": 57,
    "start_time": "2021-12-28T10:00:40.562Z"
   },
   {
    "duration": 4,
    "start_time": "2021-12-28T10:00:40.622Z"
   },
   {
    "duration": 96,
    "start_time": "2021-12-28T10:00:40.629Z"
   },
   {
    "duration": 38,
    "start_time": "2021-12-28T10:00:40.729Z"
   },
   {
    "duration": 20,
    "start_time": "2021-12-28T10:00:40.770Z"
   },
   {
    "duration": 37,
    "start_time": "2021-12-28T10:00:40.792Z"
   },
   {
    "duration": 14,
    "start_time": "2021-12-28T10:00:40.832Z"
   },
   {
    "duration": 16,
    "start_time": "2021-12-28T10:00:40.848Z"
   },
   {
    "duration": 23,
    "start_time": "2021-12-28T10:00:40.867Z"
   },
   {
    "duration": 8,
    "start_time": "2021-12-28T10:00:40.893Z"
   },
   {
    "duration": 7,
    "start_time": "2021-12-28T10:00:40.904Z"
   },
   {
    "duration": 51,
    "start_time": "2021-12-28T10:00:40.913Z"
   },
   {
    "duration": 36,
    "start_time": "2021-12-28T10:00:40.967Z"
   },
   {
    "duration": 30,
    "start_time": "2021-12-28T10:18:40.998Z"
   },
   {
    "duration": 32,
    "start_time": "2021-12-28T10:20:08.667Z"
   },
   {
    "duration": 41,
    "start_time": "2021-12-28T10:20:18.717Z"
   },
   {
    "duration": 33,
    "start_time": "2021-12-28T10:28:45.679Z"
   },
   {
    "duration": 1765,
    "start_time": "2021-12-28T10:29:44.448Z"
   },
   {
    "duration": 229,
    "start_time": "2021-12-28T10:29:46.215Z"
   },
   {
    "duration": 23,
    "start_time": "2021-12-28T10:29:46.447Z"
   },
   {
    "duration": 15,
    "start_time": "2021-12-28T10:29:46.472Z"
   },
   {
    "duration": 44,
    "start_time": "2021-12-28T10:29:46.489Z"
   },
   {
    "duration": 5,
    "start_time": "2021-12-28T10:29:46.562Z"
   },
   {
    "duration": 100,
    "start_time": "2021-12-28T10:29:46.570Z"
   },
   {
    "duration": 22,
    "start_time": "2021-12-28T10:29:46.674Z"
   },
   {
    "duration": 18,
    "start_time": "2021-12-28T10:29:46.699Z"
   },
   {
    "duration": 53,
    "start_time": "2021-12-28T10:29:46.720Z"
   },
   {
    "duration": 7,
    "start_time": "2021-12-28T10:29:46.776Z"
   },
   {
    "duration": 22,
    "start_time": "2021-12-28T10:29:46.785Z"
   },
   {
    "duration": 7,
    "start_time": "2021-12-28T10:29:46.810Z"
   },
   {
    "duration": 69,
    "start_time": "2021-12-28T10:29:46.819Z"
   },
   {
    "duration": 425,
    "start_time": "2021-12-28T10:29:46.890Z"
   },
   {
    "duration": 743,
    "start_time": "2021-12-28T10:29:46.575Z"
   },
   {
    "duration": 745,
    "start_time": "2021-12-28T10:29:46.575Z"
   },
   {
    "duration": 746,
    "start_time": "2021-12-28T10:29:46.575Z"
   },
   {
    "duration": 748,
    "start_time": "2021-12-28T10:29:46.575Z"
   },
   {
    "duration": 299,
    "start_time": "2021-12-28T10:31:00.904Z"
   },
   {
    "duration": 12,
    "start_time": "2021-12-28T10:33:29.091Z"
   },
   {
    "duration": 11,
    "start_time": "2021-12-28T10:33:48.021Z"
   },
   {
    "duration": 12,
    "start_time": "2021-12-28T10:33:58.115Z"
   },
   {
    "duration": 14,
    "start_time": "2021-12-28T10:34:04.685Z"
   },
   {
    "duration": 13,
    "start_time": "2021-12-28T10:34:50.663Z"
   },
   {
    "duration": 1441,
    "start_time": "2021-12-28T10:38:27.897Z"
   },
   {
    "duration": 232,
    "start_time": "2021-12-28T10:38:29.341Z"
   },
   {
    "duration": 25,
    "start_time": "2021-12-28T10:38:29.576Z"
   },
   {
    "duration": 16,
    "start_time": "2021-12-28T10:38:29.603Z"
   },
   {
    "duration": 79,
    "start_time": "2021-12-28T10:38:29.622Z"
   },
   {
    "duration": 4,
    "start_time": "2021-12-28T10:38:29.704Z"
   },
   {
    "duration": 192,
    "start_time": "2021-12-28T10:38:29.711Z"
   },
   {
    "duration": 24,
    "start_time": "2021-12-28T10:38:29.907Z"
   },
   {
    "duration": 32,
    "start_time": "2021-12-28T10:38:29.933Z"
   },
   {
    "duration": 7,
    "start_time": "2021-12-28T10:38:29.967Z"
   },
   {
    "duration": 14,
    "start_time": "2021-12-28T10:38:29.977Z"
   },
   {
    "duration": 3,
    "start_time": "2021-12-28T10:38:29.994Z"
   },
   {
    "duration": 7,
    "start_time": "2021-12-28T10:38:30.000Z"
   },
   {
    "duration": 13,
    "start_time": "2021-12-28T10:38:30.010Z"
   },
   {
    "duration": 54,
    "start_time": "2021-12-28T10:38:30.026Z"
   },
   {
    "duration": 1450,
    "start_time": "2021-12-28T10:38:54.293Z"
   },
   {
    "duration": 246,
    "start_time": "2021-12-28T10:38:55.746Z"
   },
   {
    "duration": 24,
    "start_time": "2021-12-28T10:38:55.995Z"
   },
   {
    "duration": 16,
    "start_time": "2021-12-28T10:38:56.021Z"
   },
   {
    "duration": 60,
    "start_time": "2021-12-28T10:38:56.039Z"
   },
   {
    "duration": 5,
    "start_time": "2021-12-28T10:38:56.102Z"
   },
   {
    "duration": 355,
    "start_time": "2021-12-28T10:38:56.110Z"
   },
   {
    "duration": 22,
    "start_time": "2021-12-28T10:38:56.469Z"
   },
   {
    "duration": 7,
    "start_time": "2021-12-28T10:38:56.493Z"
   },
   {
    "duration": 4,
    "start_time": "2021-12-28T10:38:56.502Z"
   },
   {
    "duration": 11,
    "start_time": "2021-12-28T10:38:56.508Z"
   },
   {
    "duration": 3,
    "start_time": "2021-12-28T10:38:56.563Z"
   },
   {
    "duration": 8,
    "start_time": "2021-12-28T10:38:56.568Z"
   },
   {
    "duration": 8,
    "start_time": "2021-12-28T10:38:56.578Z"
   },
   {
    "duration": 30,
    "start_time": "2021-12-28T10:38:56.589Z"
   },
   {
    "duration": 26,
    "start_time": "2021-12-28T11:20:39.730Z"
   },
   {
    "duration": 22,
    "start_time": "2021-12-28T11:20:52.914Z"
   },
   {
    "duration": 22,
    "start_time": "2021-12-28T11:20:59.146Z"
   },
   {
    "duration": 1588,
    "start_time": "2021-12-28T11:21:33.442Z"
   },
   {
    "duration": 255,
    "start_time": "2021-12-28T11:21:35.033Z"
   },
   {
    "duration": 23,
    "start_time": "2021-12-28T11:21:35.294Z"
   },
   {
    "duration": 15,
    "start_time": "2021-12-28T11:21:35.320Z"
   },
   {
    "duration": 46,
    "start_time": "2021-12-28T11:21:35.363Z"
   },
   {
    "duration": 7,
    "start_time": "2021-12-28T11:21:35.412Z"
   },
   {
    "duration": 454,
    "start_time": "2021-12-28T11:21:35.423Z"
   },
   {
    "duration": 31,
    "start_time": "2021-12-28T11:21:35.881Z"
   },
   {
    "duration": 8,
    "start_time": "2021-12-28T11:21:35.915Z"
   },
   {
    "duration": 65,
    "start_time": "2021-12-28T11:21:35.926Z"
   },
   {
    "duration": 8,
    "start_time": "2021-12-28T11:21:35.994Z"
   },
   {
    "duration": 10,
    "start_time": "2021-12-28T11:21:36.005Z"
   },
   {
    "duration": 3,
    "start_time": "2021-12-28T11:21:36.017Z"
   },
   {
    "duration": 44,
    "start_time": "2021-12-28T11:21:36.023Z"
   },
   {
    "duration": 5,
    "start_time": "2021-12-28T11:21:36.069Z"
   },
   {
    "duration": 29,
    "start_time": "2021-12-28T11:21:36.077Z"
   },
   {
    "duration": 18,
    "start_time": "2021-12-28T11:25:38.493Z"
   },
   {
    "duration": 1436,
    "start_time": "2021-12-28T11:26:00.112Z"
   },
   {
    "duration": 227,
    "start_time": "2021-12-28T11:26:01.551Z"
   },
   {
    "duration": 24,
    "start_time": "2021-12-28T11:26:01.781Z"
   },
   {
    "duration": 18,
    "start_time": "2021-12-28T11:26:01.808Z"
   },
   {
    "duration": 67,
    "start_time": "2021-12-28T11:26:01.828Z"
   },
   {
    "duration": 5,
    "start_time": "2021-12-28T11:26:01.897Z"
   },
   {
    "duration": 359,
    "start_time": "2021-12-28T11:26:01.904Z"
   },
   {
    "duration": 23,
    "start_time": "2021-12-28T11:26:02.265Z"
   },
   {
    "duration": 7,
    "start_time": "2021-12-28T11:26:02.292Z"
   },
   {
    "duration": 26,
    "start_time": "2021-12-28T11:26:02.301Z"
   },
   {
    "duration": 8,
    "start_time": "2021-12-28T11:26:02.362Z"
   },
   {
    "duration": 12,
    "start_time": "2021-12-28T11:26:02.372Z"
   },
   {
    "duration": 3,
    "start_time": "2021-12-28T11:26:02.387Z"
   },
   {
    "duration": 6,
    "start_time": "2021-12-28T11:26:02.393Z"
   },
   {
    "duration": 17,
    "start_time": "2021-12-28T11:26:02.402Z"
   },
   {
    "duration": 62,
    "start_time": "2021-12-28T11:26:02.422Z"
   },
   {
    "duration": 1544,
    "start_time": "2021-12-28T11:26:47.545Z"
   },
   {
    "duration": 237,
    "start_time": "2021-12-28T11:26:49.092Z"
   },
   {
    "duration": 30,
    "start_time": "2021-12-28T11:26:49.333Z"
   },
   {
    "duration": 20,
    "start_time": "2021-12-28T11:26:49.367Z"
   },
   {
    "duration": 74,
    "start_time": "2021-12-28T11:26:49.390Z"
   },
   {
    "duration": 6,
    "start_time": "2021-12-28T11:26:49.468Z"
   },
   {
    "duration": 342,
    "start_time": "2021-12-28T11:26:49.478Z"
   },
   {
    "duration": 52,
    "start_time": "2021-12-28T11:26:49.822Z"
   },
   {
    "duration": 6,
    "start_time": "2021-12-28T11:26:49.877Z"
   },
   {
    "duration": 11,
    "start_time": "2021-12-28T11:26:49.886Z"
   },
   {
    "duration": 11,
    "start_time": "2021-12-28T11:26:49.900Z"
   },
   {
    "duration": 3,
    "start_time": "2021-12-28T11:26:49.914Z"
   },
   {
    "duration": 5,
    "start_time": "2021-12-28T11:26:49.920Z"
   },
   {
    "duration": 37,
    "start_time": "2021-12-28T11:26:49.927Z"
   },
   {
    "duration": 28,
    "start_time": "2021-12-28T11:26:49.966Z"
   },
   {
    "duration": 49,
    "start_time": "2021-12-28T11:26:59.192Z"
   },
   {
    "duration": 871,
    "start_time": "2021-12-28T11:27:17.657Z"
   },
   {
    "duration": 59,
    "start_time": "2021-12-28T11:27:24.520Z"
   },
   {
    "duration": 1737,
    "start_time": "2021-12-28T11:27:36.293Z"
   },
   {
    "duration": 501,
    "start_time": "2021-12-28T11:27:38.033Z"
   },
   {
    "duration": 25,
    "start_time": "2021-12-28T11:27:38.537Z"
   },
   {
    "duration": 15,
    "start_time": "2021-12-28T11:27:38.566Z"
   },
   {
    "duration": 47,
    "start_time": "2021-12-28T11:27:38.584Z"
   },
   {
    "duration": 7,
    "start_time": "2021-12-28T11:27:38.662Z"
   },
   {
    "duration": 404,
    "start_time": "2021-12-28T11:27:38.672Z"
   },
   {
    "duration": 24,
    "start_time": "2021-12-28T11:27:39.080Z"
   },
   {
    "duration": 12,
    "start_time": "2021-12-28T11:27:39.108Z"
   },
   {
    "duration": 46,
    "start_time": "2021-12-28T11:27:39.123Z"
   },
   {
    "duration": 26,
    "start_time": "2021-12-28T11:27:39.175Z"
   },
   {
    "duration": 6,
    "start_time": "2021-12-28T11:27:39.205Z"
   },
   {
    "duration": 15,
    "start_time": "2021-12-28T11:27:39.214Z"
   },
   {
    "duration": 27,
    "start_time": "2021-12-28T11:27:39.232Z"
   },
   {
    "duration": 76,
    "start_time": "2021-12-28T11:27:39.262Z"
   },
   {
    "duration": 1886,
    "start_time": "2021-12-28T11:27:50.922Z"
   },
   {
    "duration": 444,
    "start_time": "2021-12-28T11:27:52.812Z"
   },
   {
    "duration": 24,
    "start_time": "2021-12-28T11:27:53.259Z"
   },
   {
    "duration": 22,
    "start_time": "2021-12-28T11:27:53.287Z"
   },
   {
    "duration": 73,
    "start_time": "2021-12-28T11:27:53.312Z"
   },
   {
    "duration": 5,
    "start_time": "2021-12-28T11:27:53.388Z"
   },
   {
    "duration": 385,
    "start_time": "2021-12-28T11:27:53.396Z"
   },
   {
    "duration": 28,
    "start_time": "2021-12-28T11:27:53.784Z"
   },
   {
    "duration": 8,
    "start_time": "2021-12-28T11:27:53.817Z"
   },
   {
    "duration": 39,
    "start_time": "2021-12-28T11:27:53.828Z"
   },
   {
    "duration": 12,
    "start_time": "2021-12-28T11:27:53.871Z"
   },
   {
    "duration": 4,
    "start_time": "2021-12-28T11:27:53.887Z"
   },
   {
    "duration": 6,
    "start_time": "2021-12-28T11:27:53.893Z"
   },
   {
    "duration": 9,
    "start_time": "2021-12-28T11:27:53.901Z"
   },
   {
    "duration": 76,
    "start_time": "2021-12-28T11:27:53.913Z"
   },
   {
    "duration": 30,
    "start_time": "2021-12-28T11:28:26.584Z"
   },
   {
    "duration": 37,
    "start_time": "2021-12-28T11:29:10.324Z"
   },
   {
    "duration": 1543,
    "start_time": "2021-12-28T11:53:55.022Z"
   },
   {
    "duration": 275,
    "start_time": "2021-12-28T11:53:56.569Z"
   },
   {
    "duration": 32,
    "start_time": "2021-12-28T11:53:56.848Z"
   },
   {
    "duration": 16,
    "start_time": "2021-12-28T11:53:56.883Z"
   },
   {
    "duration": 72,
    "start_time": "2021-12-28T11:53:56.902Z"
   },
   {
    "duration": 5,
    "start_time": "2021-12-28T11:53:56.977Z"
   },
   {
    "duration": 380,
    "start_time": "2021-12-28T11:53:56.986Z"
   },
   {
    "duration": 27,
    "start_time": "2021-12-28T11:53:57.371Z"
   },
   {
    "duration": 7,
    "start_time": "2021-12-28T11:53:57.401Z"
   },
   {
    "duration": 52,
    "start_time": "2021-12-28T11:53:57.412Z"
   },
   {
    "duration": 10,
    "start_time": "2021-12-28T11:53:57.466Z"
   },
   {
    "duration": 9,
    "start_time": "2021-12-28T11:53:57.479Z"
   },
   {
    "duration": 4,
    "start_time": "2021-12-28T11:53:57.491Z"
   },
   {
    "duration": 6,
    "start_time": "2021-12-28T11:53:57.497Z"
   },
   {
    "duration": 4,
    "start_time": "2021-12-28T11:53:57.506Z"
   },
   {
    "duration": 4,
    "start_time": "2021-12-28T11:53:57.513Z"
   },
   {
    "duration": 33,
    "start_time": "2021-12-28T11:53:57.565Z"
   },
   {
    "duration": 19,
    "start_time": "2021-12-28T11:54:26.543Z"
   },
   {
    "duration": 17,
    "start_time": "2021-12-28T11:54:35.495Z"
   },
   {
    "duration": 13,
    "start_time": "2021-12-28T11:54:43.178Z"
   },
   {
    "duration": 13,
    "start_time": "2021-12-28T11:54:55.140Z"
   },
   {
    "duration": 1657,
    "start_time": "2021-12-28T11:56:11.176Z"
   },
   {
    "duration": 295,
    "start_time": "2021-12-28T11:56:12.836Z"
   },
   {
    "duration": 25,
    "start_time": "2021-12-28T11:56:13.134Z"
   },
   {
    "duration": 15,
    "start_time": "2021-12-28T11:56:13.162Z"
   },
   {
    "duration": 43,
    "start_time": "2021-12-28T11:56:13.180Z"
   },
   {
    "duration": 5,
    "start_time": "2021-12-28T11:56:13.226Z"
   },
   {
    "duration": 329,
    "start_time": "2021-12-28T11:56:13.262Z"
   },
   {
    "duration": 22,
    "start_time": "2021-12-28T11:56:13.594Z"
   },
   {
    "duration": 6,
    "start_time": "2021-12-28T11:56:13.620Z"
   },
   {
    "duration": 45,
    "start_time": "2021-12-28T11:56:13.629Z"
   },
   {
    "duration": 15,
    "start_time": "2021-12-28T11:56:13.677Z"
   },
   {
    "duration": 12,
    "start_time": "2021-12-28T11:56:13.695Z"
   },
   {
    "duration": 23,
    "start_time": "2021-12-28T11:56:13.709Z"
   },
   {
    "duration": 5,
    "start_time": "2021-12-28T11:56:13.762Z"
   },
   {
    "duration": 4,
    "start_time": "2021-12-28T11:56:13.770Z"
   },
   {
    "duration": 20,
    "start_time": "2021-12-28T11:56:13.777Z"
   },
   {
    "duration": 47,
    "start_time": "2021-12-28T11:56:36.281Z"
   },
   {
    "duration": 13,
    "start_time": "2021-12-28T11:56:56.284Z"
   },
   {
    "duration": 15,
    "start_time": "2021-12-28T11:57:07.285Z"
   },
   {
    "duration": 1501,
    "start_time": "2021-12-28T12:01:15.992Z"
   },
   {
    "duration": 231,
    "start_time": "2021-12-28T12:01:17.497Z"
   },
   {
    "duration": 23,
    "start_time": "2021-12-28T12:01:17.731Z"
   },
   {
    "duration": 19,
    "start_time": "2021-12-28T12:01:17.757Z"
   },
   {
    "duration": 44,
    "start_time": "2021-12-28T12:01:17.778Z"
   },
   {
    "duration": 5,
    "start_time": "2021-12-28T12:01:17.824Z"
   },
   {
    "duration": 351,
    "start_time": "2021-12-28T12:01:17.832Z"
   },
   {
    "duration": 22,
    "start_time": "2021-12-28T12:01:18.186Z"
   },
   {
    "duration": 6,
    "start_time": "2021-12-28T12:01:18.212Z"
   },
   {
    "duration": 44,
    "start_time": "2021-12-28T12:01:18.221Z"
   },
   {
    "duration": 11,
    "start_time": "2021-12-28T12:01:18.267Z"
   },
   {
    "duration": 10,
    "start_time": "2021-12-28T12:01:18.280Z"
   },
   {
    "duration": 9,
    "start_time": "2021-12-28T12:01:18.292Z"
   },
   {
    "duration": 19,
    "start_time": "2021-12-28T12:01:18.304Z"
   },
   {
    "duration": 44,
    "start_time": "2021-12-28T12:01:18.325Z"
   },
   {
    "duration": 13,
    "start_time": "2021-12-28T12:01:18.372Z"
   },
   {
    "duration": 13,
    "start_time": "2021-12-28T12:01:18.388Z"
   },
   {
    "duration": 5,
    "start_time": "2021-12-28T12:01:18.404Z"
   },
   {
    "duration": 52,
    "start_time": "2021-12-28T12:01:18.412Z"
   },
   {
    "duration": 1579,
    "start_time": "2021-12-28T12:02:51.770Z"
   },
   {
    "duration": 234,
    "start_time": "2021-12-28T12:02:53.352Z"
   },
   {
    "duration": 25,
    "start_time": "2021-12-28T12:02:53.589Z"
   },
   {
    "duration": 14,
    "start_time": "2021-12-28T12:02:53.617Z"
   },
   {
    "duration": 73,
    "start_time": "2021-12-28T12:02:53.634Z"
   },
   {
    "duration": 5,
    "start_time": "2021-12-28T12:02:53.711Z"
   },
   {
    "duration": 356,
    "start_time": "2021-12-28T12:02:53.722Z"
   },
   {
    "duration": 22,
    "start_time": "2021-12-28T12:02:54.080Z"
   },
   {
    "duration": 6,
    "start_time": "2021-12-28T12:02:54.105Z"
   },
   {
    "duration": 7,
    "start_time": "2021-12-28T12:02:54.113Z"
   },
   {
    "duration": 50,
    "start_time": "2021-12-28T12:02:54.123Z"
   },
   {
    "duration": 16,
    "start_time": "2021-12-28T12:02:54.176Z"
   },
   {
    "duration": 7,
    "start_time": "2021-12-28T12:02:54.198Z"
   },
   {
    "duration": 14,
    "start_time": "2021-12-28T12:02:54.208Z"
   },
   {
    "duration": 52,
    "start_time": "2021-12-28T12:02:54.225Z"
   },
   {
    "duration": 14,
    "start_time": "2021-12-28T12:02:54.282Z"
   },
   {
    "duration": 18,
    "start_time": "2021-12-28T12:02:54.299Z"
   },
   {
    "duration": 6,
    "start_time": "2021-12-28T12:02:54.320Z"
   },
   {
    "duration": 45,
    "start_time": "2021-12-28T12:02:54.329Z"
   },
   {
    "duration": 1523,
    "start_time": "2021-12-28T12:04:15.859Z"
   },
   {
    "duration": 271,
    "start_time": "2021-12-28T12:04:17.385Z"
   },
   {
    "duration": 26,
    "start_time": "2021-12-28T12:04:17.660Z"
   },
   {
    "duration": 16,
    "start_time": "2021-12-28T12:04:17.689Z"
   },
   {
    "duration": 79,
    "start_time": "2021-12-28T12:04:17.707Z"
   },
   {
    "duration": 5,
    "start_time": "2021-12-28T12:04:17.789Z"
   },
   {
    "duration": 393,
    "start_time": "2021-12-28T12:04:17.797Z"
   },
   {
    "duration": 28,
    "start_time": "2021-12-28T12:04:18.193Z"
   },
   {
    "duration": 7,
    "start_time": "2021-12-28T12:04:18.225Z"
   },
   {
    "duration": 9,
    "start_time": "2021-12-28T12:04:18.263Z"
   },
   {
    "duration": 12,
    "start_time": "2021-12-28T12:04:18.275Z"
   },
   {
    "duration": 8,
    "start_time": "2021-12-28T12:04:18.290Z"
   },
   {
    "duration": 7,
    "start_time": "2021-12-28T12:04:18.300Z"
   },
   {
    "duration": 58,
    "start_time": "2021-12-28T12:04:18.309Z"
   },
   {
    "duration": 21,
    "start_time": "2021-12-28T12:04:18.370Z"
   },
   {
    "duration": 12,
    "start_time": "2021-12-28T12:04:18.393Z"
   },
   {
    "duration": 14,
    "start_time": "2021-12-28T12:04:18.408Z"
   },
   {
    "duration": 4,
    "start_time": "2021-12-28T12:04:18.424Z"
   },
   {
    "duration": 17,
    "start_time": "2021-12-28T12:04:18.470Z"
   },
   {
    "duration": 1503,
    "start_time": "2021-12-28T12:07:04.141Z"
   },
   {
    "duration": 237,
    "start_time": "2021-12-28T12:07:05.647Z"
   },
   {
    "duration": 25,
    "start_time": "2021-12-28T12:07:05.887Z"
   },
   {
    "duration": 21,
    "start_time": "2021-12-28T12:07:05.915Z"
   },
   {
    "duration": 62,
    "start_time": "2021-12-28T12:07:05.939Z"
   },
   {
    "duration": 5,
    "start_time": "2021-12-28T12:07:06.003Z"
   },
   {
    "duration": 362,
    "start_time": "2021-12-28T12:07:06.011Z"
   },
   {
    "duration": 23,
    "start_time": "2021-12-28T12:07:06.376Z"
   },
   {
    "duration": 7,
    "start_time": "2021-12-28T12:07:06.402Z"
   },
   {
    "duration": 19,
    "start_time": "2021-12-28T12:07:06.412Z"
   },
   {
    "duration": 34,
    "start_time": "2021-12-28T12:07:06.434Z"
   },
   {
    "duration": 10,
    "start_time": "2021-12-28T12:07:06.470Z"
   },
   {
    "duration": 20,
    "start_time": "2021-12-28T12:07:06.483Z"
   },
   {
    "duration": 32,
    "start_time": "2021-12-28T12:07:06.506Z"
   },
   {
    "duration": 42,
    "start_time": "2021-12-28T12:07:06.542Z"
   },
   {
    "duration": 8,
    "start_time": "2021-12-28T12:07:06.587Z"
   },
   {
    "duration": 26,
    "start_time": "2021-12-28T12:07:06.598Z"
   },
   {
    "duration": 23,
    "start_time": "2021-12-28T12:07:06.626Z"
   },
   {
    "duration": 1722,
    "start_time": "2021-12-28T12:07:33.853Z"
   },
   {
    "duration": 226,
    "start_time": "2021-12-28T12:07:35.578Z"
   },
   {
    "duration": 22,
    "start_time": "2021-12-28T12:07:35.807Z"
   },
   {
    "duration": 17,
    "start_time": "2021-12-28T12:07:35.832Z"
   },
   {
    "duration": 42,
    "start_time": "2021-12-28T12:07:35.863Z"
   },
   {
    "duration": 5,
    "start_time": "2021-12-28T12:07:35.908Z"
   },
   {
    "duration": 326,
    "start_time": "2021-12-28T12:07:35.915Z"
   },
   {
    "duration": 22,
    "start_time": "2021-12-28T12:07:36.264Z"
   },
   {
    "duration": 7,
    "start_time": "2021-12-28T12:07:36.288Z"
   },
   {
    "duration": 8,
    "start_time": "2021-12-28T12:07:36.297Z"
   },
   {
    "duration": 9,
    "start_time": "2021-12-28T12:07:36.307Z"
   },
   {
    "duration": 50,
    "start_time": "2021-12-28T12:07:36.318Z"
   },
   {
    "duration": 8,
    "start_time": "2021-12-28T12:07:36.370Z"
   },
   {
    "duration": 23,
    "start_time": "2021-12-28T12:07:36.380Z"
   },
   {
    "duration": 15,
    "start_time": "2021-12-28T12:07:36.406Z"
   },
   {
    "duration": 5,
    "start_time": "2021-12-28T12:07:36.423Z"
   },
   {
    "duration": 39,
    "start_time": "2021-12-28T12:07:36.431Z"
   },
   {
    "duration": 16,
    "start_time": "2021-12-28T12:07:36.472Z"
   },
   {
    "duration": 1504,
    "start_time": "2021-12-28T12:09:09.491Z"
   },
   {
    "duration": 228,
    "start_time": "2021-12-28T12:09:10.998Z"
   },
   {
    "duration": 26,
    "start_time": "2021-12-28T12:09:11.230Z"
   },
   {
    "duration": 30,
    "start_time": "2021-12-28T12:09:11.259Z"
   },
   {
    "duration": 44,
    "start_time": "2021-12-28T12:09:11.291Z"
   },
   {
    "duration": 5,
    "start_time": "2021-12-28T12:09:11.338Z"
   },
   {
    "duration": 340,
    "start_time": "2021-12-28T12:09:11.345Z"
   },
   {
    "duration": 23,
    "start_time": "2021-12-28T12:09:11.689Z"
   },
   {
    "duration": 8,
    "start_time": "2021-12-28T12:09:11.715Z"
   },
   {
    "duration": 38,
    "start_time": "2021-12-28T12:09:11.726Z"
   },
   {
    "duration": 7,
    "start_time": "2021-12-28T12:09:11.766Z"
   },
   {
    "duration": 30,
    "start_time": "2021-12-28T12:09:11.775Z"
   },
   {
    "duration": 10,
    "start_time": "2021-12-28T12:09:11.808Z"
   },
   {
    "duration": 26,
    "start_time": "2021-12-28T12:09:11.820Z"
   },
   {
    "duration": 47,
    "start_time": "2021-12-28T12:09:11.848Z"
   },
   {
    "duration": 36,
    "start_time": "2021-12-28T12:09:11.898Z"
   },
   {
    "duration": 23,
    "start_time": "2021-12-28T12:09:11.936Z"
   },
   {
    "duration": 34,
    "start_time": "2021-12-28T12:09:11.961Z"
   },
   {
    "duration": 35,
    "start_time": "2021-12-28T12:09:11.997Z"
   },
   {
    "duration": 1463,
    "start_time": "2021-12-28T12:09:23.873Z"
   },
   {
    "duration": 229,
    "start_time": "2021-12-28T12:09:25.339Z"
   },
   {
    "duration": 23,
    "start_time": "2021-12-28T12:09:25.570Z"
   },
   {
    "duration": 13,
    "start_time": "2021-12-28T12:09:25.596Z"
   },
   {
    "duration": 68,
    "start_time": "2021-12-28T12:09:25.612Z"
   },
   {
    "duration": 5,
    "start_time": "2021-12-28T12:09:25.683Z"
   },
   {
    "duration": 341,
    "start_time": "2021-12-28T12:09:25.690Z"
   },
   {
    "duration": 45,
    "start_time": "2021-12-28T12:09:26.034Z"
   },
   {
    "duration": 6,
    "start_time": "2021-12-28T12:09:26.082Z"
   },
   {
    "duration": 440,
    "start_time": "2021-12-28T12:09:26.091Z"
   },
   {
    "duration": 949,
    "start_time": "2021-12-28T12:09:25.585Z"
   },
   {
    "duration": 948,
    "start_time": "2021-12-28T12:09:25.588Z"
   },
   {
    "duration": 940,
    "start_time": "2021-12-28T12:09:25.597Z"
   },
   {
    "duration": 940,
    "start_time": "2021-12-28T12:09:25.598Z"
   },
   {
    "duration": 939,
    "start_time": "2021-12-28T12:09:25.600Z"
   },
   {
    "duration": 940,
    "start_time": "2021-12-28T12:09:25.601Z"
   },
   {
    "duration": 939,
    "start_time": "2021-12-28T12:09:25.603Z"
   },
   {
    "duration": 939,
    "start_time": "2021-12-28T12:09:25.605Z"
   },
   {
    "duration": 937,
    "start_time": "2021-12-28T12:09:25.608Z"
   },
   {
    "duration": 1578,
    "start_time": "2021-12-28T12:09:49.769Z"
   },
   {
    "duration": 278,
    "start_time": "2021-12-28T12:09:51.351Z"
   },
   {
    "duration": 26,
    "start_time": "2021-12-28T12:09:51.633Z"
   },
   {
    "duration": 16,
    "start_time": "2021-12-28T12:09:51.662Z"
   },
   {
    "duration": 44,
    "start_time": "2021-12-28T12:09:51.681Z"
   },
   {
    "duration": 5,
    "start_time": "2021-12-28T12:09:51.728Z"
   },
   {
    "duration": 365,
    "start_time": "2021-12-28T12:09:51.764Z"
   },
   {
    "duration": 50,
    "start_time": "2021-12-28T12:09:52.133Z"
   },
   {
    "duration": 7,
    "start_time": "2021-12-28T12:09:52.187Z"
   },
   {
    "duration": 8,
    "start_time": "2021-12-28T12:09:52.197Z"
   },
   {
    "duration": 8,
    "start_time": "2021-12-28T12:09:52.208Z"
   },
   {
    "duration": 51,
    "start_time": "2021-12-28T12:09:52.219Z"
   },
   {
    "duration": 8,
    "start_time": "2021-12-28T12:09:52.273Z"
   },
   {
    "duration": 7,
    "start_time": "2021-12-28T12:09:52.284Z"
   },
   {
    "duration": 23,
    "start_time": "2021-12-28T12:09:52.294Z"
   },
   {
    "duration": 49,
    "start_time": "2021-12-28T12:09:52.319Z"
   },
   {
    "duration": 6,
    "start_time": "2021-12-28T12:09:52.371Z"
   },
   {
    "duration": 6,
    "start_time": "2021-12-28T12:09:52.380Z"
   },
   {
    "duration": 15,
    "start_time": "2021-12-28T12:09:52.388Z"
   },
   {
    "duration": 3101,
    "start_time": "2021-12-28T12:10:19.062Z"
   },
   {
    "duration": 239,
    "start_time": "2021-12-28T12:10:22.165Z"
   },
   {
    "duration": 24,
    "start_time": "2021-12-28T12:10:22.407Z"
   },
   {
    "duration": 13,
    "start_time": "2021-12-28T12:10:22.434Z"
   },
   {
    "duration": 43,
    "start_time": "2021-12-28T12:10:22.463Z"
   },
   {
    "duration": 4,
    "start_time": "2021-12-28T12:10:22.509Z"
   },
   {
    "duration": 362,
    "start_time": "2021-12-28T12:10:22.516Z"
   },
   {
    "duration": 23,
    "start_time": "2021-12-28T12:10:22.881Z"
   },
   {
    "duration": 6,
    "start_time": "2021-12-28T12:10:22.906Z"
   },
   {
    "duration": 8,
    "start_time": "2021-12-28T12:10:22.915Z"
   },
   {
    "duration": 41,
    "start_time": "2021-12-28T12:10:22.926Z"
   },
   {
    "duration": 12,
    "start_time": "2021-12-28T12:10:22.970Z"
   },
   {
    "duration": 12,
    "start_time": "2021-12-28T12:10:22.985Z"
   },
   {
    "duration": 9,
    "start_time": "2021-12-28T12:10:23.000Z"
   },
   {
    "duration": 60,
    "start_time": "2021-12-28T12:10:23.011Z"
   },
   {
    "duration": 17,
    "start_time": "2021-12-28T12:10:23.074Z"
   },
   {
    "duration": 6,
    "start_time": "2021-12-28T12:10:23.093Z"
   },
   {
    "duration": 9,
    "start_time": "2021-12-28T12:10:23.102Z"
   },
   {
    "duration": 59,
    "start_time": "2021-12-28T12:10:23.113Z"
   },
   {
    "duration": 1643,
    "start_time": "2021-12-28T12:10:53.742Z"
   },
   {
    "duration": 298,
    "start_time": "2021-12-28T12:10:55.388Z"
   },
   {
    "duration": 24,
    "start_time": "2021-12-28T12:10:55.689Z"
   },
   {
    "duration": 19,
    "start_time": "2021-12-28T12:10:55.716Z"
   },
   {
    "duration": 65,
    "start_time": "2021-12-28T12:10:55.737Z"
   },
   {
    "duration": 4,
    "start_time": "2021-12-28T12:10:55.805Z"
   },
   {
    "duration": 352,
    "start_time": "2021-12-28T12:10:55.811Z"
   },
   {
    "duration": 22,
    "start_time": "2021-12-28T12:10:56.165Z"
   },
   {
    "duration": 20,
    "start_time": "2021-12-28T12:10:56.190Z"
   },
   {
    "duration": 14,
    "start_time": "2021-12-28T12:10:56.213Z"
   },
   {
    "duration": 12,
    "start_time": "2021-12-28T12:10:56.230Z"
   },
   {
    "duration": 23,
    "start_time": "2021-12-28T12:10:56.244Z"
   },
   {
    "duration": 16,
    "start_time": "2021-12-28T12:10:56.269Z"
   },
   {
    "duration": 19,
    "start_time": "2021-12-28T12:10:56.287Z"
   },
   {
    "duration": 29,
    "start_time": "2021-12-28T12:10:56.309Z"
   },
   {
    "duration": 30,
    "start_time": "2021-12-28T12:10:56.341Z"
   },
   {
    "duration": 5,
    "start_time": "2021-12-28T12:10:56.373Z"
   },
   {
    "duration": 9,
    "start_time": "2021-12-28T12:10:56.381Z"
   },
   {
    "duration": 16,
    "start_time": "2021-12-28T12:10:56.392Z"
   },
   {
    "duration": 1605,
    "start_time": "2021-12-28T12:11:18.341Z"
   },
   {
    "duration": 227,
    "start_time": "2021-12-28T12:11:19.948Z"
   },
   {
    "duration": 25,
    "start_time": "2021-12-28T12:11:20.179Z"
   },
   {
    "duration": 17,
    "start_time": "2021-12-28T12:11:20.207Z"
   },
   {
    "duration": 73,
    "start_time": "2021-12-28T12:11:20.227Z"
   },
   {
    "duration": 7,
    "start_time": "2021-12-28T12:11:20.303Z"
   },
   {
    "duration": 362,
    "start_time": "2021-12-28T12:11:20.313Z"
   },
   {
    "duration": 23,
    "start_time": "2021-12-28T12:11:20.679Z"
   },
   {
    "duration": 9,
    "start_time": "2021-12-28T12:11:20.706Z"
   },
   {
    "duration": 47,
    "start_time": "2021-12-28T12:11:20.718Z"
   },
   {
    "duration": 5,
    "start_time": "2021-12-28T12:11:20.767Z"
   },
   {
    "duration": 9,
    "start_time": "2021-12-28T12:11:20.774Z"
   },
   {
    "duration": 17,
    "start_time": "2021-12-28T12:11:20.786Z"
   },
   {
    "duration": 12,
    "start_time": "2021-12-28T12:11:20.806Z"
   },
   {
    "duration": 9,
    "start_time": "2021-12-28T12:11:20.821Z"
   },
   {
    "duration": 47,
    "start_time": "2021-12-28T12:11:20.833Z"
   },
   {
    "duration": 15,
    "start_time": "2021-12-28T12:11:20.883Z"
   },
   {
    "duration": 5,
    "start_time": "2021-12-28T12:11:20.900Z"
   },
   {
    "duration": 15,
    "start_time": "2021-12-28T12:11:20.907Z"
   },
   {
    "duration": 45,
    "start_time": "2021-12-28T12:11:20.924Z"
   },
   {
    "duration": 1477,
    "start_time": "2021-12-28T12:13:02.055Z"
   },
   {
    "duration": 236,
    "start_time": "2021-12-28T12:13:03.535Z"
   },
   {
    "duration": 22,
    "start_time": "2021-12-28T12:13:03.774Z"
   },
   {
    "duration": 20,
    "start_time": "2021-12-28T12:13:03.799Z"
   },
   {
    "duration": 70,
    "start_time": "2021-12-28T12:13:03.822Z"
   },
   {
    "duration": 5,
    "start_time": "2021-12-28T12:13:03.894Z"
   },
   {
    "duration": 365,
    "start_time": "2021-12-28T12:13:03.901Z"
   },
   {
    "duration": 22,
    "start_time": "2021-12-28T12:13:04.270Z"
   },
   {
    "duration": 7,
    "start_time": "2021-12-28T12:13:04.295Z"
   },
   {
    "duration": 8,
    "start_time": "2021-12-28T12:13:04.305Z"
   },
   {
    "duration": 54,
    "start_time": "2021-12-28T12:13:04.315Z"
   },
   {
    "duration": 8,
    "start_time": "2021-12-28T12:13:04.372Z"
   },
   {
    "duration": 8,
    "start_time": "2021-12-28T12:13:04.383Z"
   },
   {
    "duration": 19,
    "start_time": "2021-12-28T12:13:04.394Z"
   },
   {
    "duration": 51,
    "start_time": "2021-12-28T12:13:04.415Z"
   },
   {
    "duration": 5,
    "start_time": "2021-12-28T12:13:04.469Z"
   },
   {
    "duration": 9,
    "start_time": "2021-12-28T12:13:04.476Z"
   },
   {
    "duration": 15,
    "start_time": "2021-12-28T12:13:04.487Z"
   },
   {
    "duration": 1830,
    "start_time": "2021-12-28T12:17:59.267Z"
   },
   {
    "duration": 669,
    "start_time": "2021-12-28T12:18:01.099Z"
   },
   {
    "duration": 28,
    "start_time": "2021-12-28T12:18:01.772Z"
   },
   {
    "duration": 23,
    "start_time": "2021-12-28T12:18:01.804Z"
   },
   {
    "duration": 79,
    "start_time": "2021-12-28T12:18:01.831Z"
   },
   {
    "duration": 6,
    "start_time": "2021-12-28T12:18:01.914Z"
   },
   {
    "duration": 391,
    "start_time": "2021-12-28T12:18:01.923Z"
   },
   {
    "duration": 51,
    "start_time": "2021-12-28T12:18:02.317Z"
   },
   {
    "duration": 7,
    "start_time": "2021-12-28T12:18:02.379Z"
   },
   {
    "duration": 8,
    "start_time": "2021-12-28T12:18:02.390Z"
   },
   {
    "duration": 10,
    "start_time": "2021-12-28T12:18:02.401Z"
   },
   {
    "duration": 6,
    "start_time": "2021-12-28T12:18:02.414Z"
   },
   {
    "duration": 58,
    "start_time": "2021-12-28T12:18:02.422Z"
   },
   {
    "duration": 25,
    "start_time": "2021-12-28T12:18:02.483Z"
   },
   {
    "duration": 15,
    "start_time": "2021-12-28T12:18:02.511Z"
   },
   {
    "duration": 7,
    "start_time": "2021-12-28T12:18:02.528Z"
   },
   {
    "duration": 12,
    "start_time": "2021-12-28T12:18:02.563Z"
   },
   {
    "duration": 17,
    "start_time": "2021-12-28T12:18:02.579Z"
   },
   {
    "duration": 1522,
    "start_time": "2021-12-28T12:20:08.517Z"
   },
   {
    "duration": 231,
    "start_time": "2021-12-28T12:20:10.042Z"
   },
   {
    "duration": 23,
    "start_time": "2021-12-28T12:20:10.277Z"
   },
   {
    "duration": 15,
    "start_time": "2021-12-28T12:20:10.304Z"
   },
   {
    "duration": 65,
    "start_time": "2021-12-28T12:20:10.322Z"
   },
   {
    "duration": 5,
    "start_time": "2021-12-28T12:20:10.390Z"
   },
   {
    "duration": 377,
    "start_time": "2021-12-28T12:20:10.397Z"
   },
   {
    "duration": 23,
    "start_time": "2021-12-28T12:20:10.776Z"
   },
   {
    "duration": 7,
    "start_time": "2021-12-28T12:20:10.802Z"
   },
   {
    "duration": 10,
    "start_time": "2021-12-28T12:20:10.811Z"
   },
   {
    "duration": 45,
    "start_time": "2021-12-28T12:20:10.824Z"
   },
   {
    "duration": 7,
    "start_time": "2021-12-28T12:20:10.871Z"
   },
   {
    "duration": 12,
    "start_time": "2021-12-28T12:20:10.881Z"
   },
   {
    "duration": 16,
    "start_time": "2021-12-28T12:20:10.895Z"
   },
   {
    "duration": 4,
    "start_time": "2021-12-28T12:20:10.914Z"
   },
   {
    "duration": 43,
    "start_time": "2021-12-28T12:20:10.920Z"
   },
   {
    "duration": 15,
    "start_time": "2021-12-28T12:20:10.966Z"
   },
   {
    "duration": 1670,
    "start_time": "2021-12-29T11:43:41.999Z"
   },
   {
    "duration": 322,
    "start_time": "2021-12-29T11:43:43.672Z"
   },
   {
    "duration": 26,
    "start_time": "2021-12-29T11:43:43.998Z"
   },
   {
    "duration": 36,
    "start_time": "2021-12-29T11:43:44.027Z"
   },
   {
    "duration": 49,
    "start_time": "2021-12-29T11:43:44.067Z"
   },
   {
    "duration": 6,
    "start_time": "2021-12-29T11:43:44.119Z"
   },
   {
    "duration": 449,
    "start_time": "2021-12-29T11:43:44.128Z"
   },
   {
    "duration": 27,
    "start_time": "2021-12-29T11:43:44.581Z"
   },
   {
    "duration": 7,
    "start_time": "2021-12-29T11:43:44.612Z"
   },
   {
    "duration": 43,
    "start_time": "2021-12-29T11:43:44.622Z"
   },
   {
    "duration": 15,
    "start_time": "2021-12-29T11:43:44.669Z"
   },
   {
    "duration": 9,
    "start_time": "2021-12-29T11:43:44.687Z"
   },
   {
    "duration": 9,
    "start_time": "2021-12-29T11:43:44.699Z"
   },
   {
    "duration": 14,
    "start_time": "2021-12-29T11:43:44.711Z"
   },
   {
    "duration": 6,
    "start_time": "2021-12-29T11:43:44.763Z"
   },
   {
    "duration": 11,
    "start_time": "2021-12-29T11:43:44.774Z"
   },
   {
    "duration": 20,
    "start_time": "2021-12-29T11:43:44.788Z"
   },
   {
    "duration": 85,
    "start_time": "2021-12-29T11:59:53.399Z"
   },
   {
    "duration": 14,
    "start_time": "2021-12-29T11:59:58.718Z"
   },
   {
    "duration": 18,
    "start_time": "2021-12-29T12:00:06.558Z"
   },
   {
    "duration": 528,
    "start_time": "2021-12-29T12:00:16.820Z"
   },
   {
    "duration": 341,
    "start_time": "2021-12-29T12:46:31.344Z"
   },
   {
    "duration": 1456,
    "start_time": "2021-12-29T12:46:47.280Z"
   },
   {
    "duration": 247,
    "start_time": "2021-12-29T12:46:48.739Z"
   },
   {
    "duration": 23,
    "start_time": "2021-12-29T12:46:48.989Z"
   },
   {
    "duration": 15,
    "start_time": "2021-12-29T12:46:49.015Z"
   },
   {
    "duration": 69,
    "start_time": "2021-12-29T12:46:49.033Z"
   },
   {
    "duration": 5,
    "start_time": "2021-12-29T12:46:49.105Z"
   },
   {
    "duration": 467,
    "start_time": "2021-12-29T12:46:49.113Z"
   },
   {
    "duration": 22,
    "start_time": "2021-12-29T12:46:49.585Z"
   },
   {
    "duration": 460,
    "start_time": "2021-12-29T12:46:49.609Z"
   },
   {
    "duration": 483,
    "start_time": "2021-12-29T12:46:49.589Z"
   },
   {
    "duration": 482,
    "start_time": "2021-12-29T12:46:49.592Z"
   },
   {
    "duration": 480,
    "start_time": "2021-12-29T12:46:49.596Z"
   },
   {
    "duration": 480,
    "start_time": "2021-12-29T12:46:49.598Z"
   },
   {
    "duration": 479,
    "start_time": "2021-12-29T12:46:49.600Z"
   },
   {
    "duration": 480,
    "start_time": "2021-12-29T12:46:49.601Z"
   },
   {
    "duration": 480,
    "start_time": "2021-12-29T12:46:49.603Z"
   },
   {
    "duration": 479,
    "start_time": "2021-12-29T12:46:49.606Z"
   },
   {
    "duration": 479,
    "start_time": "2021-12-29T12:46:49.607Z"
   },
   {
    "duration": 480,
    "start_time": "2021-12-29T12:47:04.038Z"
   },
   {
    "duration": 348,
    "start_time": "2021-12-29T12:47:16.785Z"
   },
   {
    "duration": 25,
    "start_time": "2021-12-29T12:47:34.614Z"
   },
   {
    "duration": 21,
    "start_time": "2021-12-29T12:47:50.815Z"
   },
   {
    "duration": 22,
    "start_time": "2021-12-29T12:48:05.785Z"
   },
   {
    "duration": 32,
    "start_time": "2021-12-29T12:48:46.062Z"
   },
   {
    "duration": 1885,
    "start_time": "2021-12-29T12:49:40.848Z"
   },
   {
    "duration": 265,
    "start_time": "2021-12-29T12:49:42.736Z"
   },
   {
    "duration": 35,
    "start_time": "2021-12-29T12:49:43.005Z"
   },
   {
    "duration": 35,
    "start_time": "2021-12-29T12:49:43.042Z"
   },
   {
    "duration": 83,
    "start_time": "2021-12-29T12:49:43.080Z"
   },
   {
    "duration": 5,
    "start_time": "2021-12-29T12:49:43.167Z"
   },
   {
    "duration": 494,
    "start_time": "2021-12-29T12:49:43.175Z"
   },
   {
    "duration": 22,
    "start_time": "2021-12-29T12:49:43.673Z"
   },
   {
    "duration": 8,
    "start_time": "2021-12-29T12:49:43.700Z"
   },
   {
    "duration": 10,
    "start_time": "2021-12-29T12:49:43.710Z"
   },
   {
    "duration": 49,
    "start_time": "2021-12-29T12:49:43.723Z"
   },
   {
    "duration": 8,
    "start_time": "2021-12-29T12:49:43.775Z"
   },
   {
    "duration": 12,
    "start_time": "2021-12-29T12:49:43.786Z"
   },
   {
    "duration": 30,
    "start_time": "2021-12-29T12:49:43.801Z"
   },
   {
    "duration": 31,
    "start_time": "2021-12-29T12:49:43.834Z"
   },
   {
    "duration": 16,
    "start_time": "2021-12-29T12:49:43.868Z"
   },
   {
    "duration": 28,
    "start_time": "2021-12-29T12:49:43.887Z"
   },
   {
    "duration": 13,
    "start_time": "2021-12-29T13:07:50.255Z"
   },
   {
    "duration": 10,
    "start_time": "2021-12-29T13:08:06.680Z"
   },
   {
    "duration": 17,
    "start_time": "2021-12-29T13:08:29.597Z"
   },
   {
    "duration": 9,
    "start_time": "2021-12-29T13:08:38.814Z"
   },
   {
    "duration": 16,
    "start_time": "2021-12-29T13:19:04.639Z"
   },
   {
    "duration": 35,
    "start_time": "2021-12-29T13:19:07.161Z"
   },
   {
    "duration": 597,
    "start_time": "2021-12-29T13:19:27.517Z"
   },
   {
    "duration": 21,
    "start_time": "2021-12-29T13:19:37.798Z"
   },
   {
    "duration": 27,
    "start_time": "2021-12-29T13:19:46.776Z"
   },
   {
    "duration": 23,
    "start_time": "2021-12-29T13:20:03.986Z"
   },
   {
    "duration": 26,
    "start_time": "2021-12-29T13:20:14.125Z"
   },
   {
    "duration": 22,
    "start_time": "2021-12-29T13:20:22.198Z"
   },
   {
    "duration": 380,
    "start_time": "2021-12-29T13:30:08.657Z"
   },
   {
    "duration": 605,
    "start_time": "2021-12-29T13:31:17.261Z"
   },
   {
    "duration": 342,
    "start_time": "2021-12-29T13:31:28.490Z"
   },
   {
    "duration": 355,
    "start_time": "2021-12-29T13:32:11.187Z"
   },
   {
    "duration": 350,
    "start_time": "2021-12-29T13:32:20.549Z"
   },
   {
    "duration": 479,
    "start_time": "2021-12-29T13:33:35.466Z"
   },
   {
    "duration": 1065,
    "start_time": "2021-12-29T13:33:43.836Z"
   },
   {
    "duration": 14,
    "start_time": "2021-12-29T14:19:58.716Z"
   },
   {
    "duration": 463,
    "start_time": "2021-12-29T14:23:34.363Z"
   },
   {
    "duration": 39,
    "start_time": "2021-12-29T14:23:40.247Z"
   },
   {
    "duration": 32,
    "start_time": "2021-12-29T14:24:09.973Z"
   },
   {
    "duration": 401,
    "start_time": "2021-12-29T14:31:43.422Z"
   },
   {
    "duration": 322,
    "start_time": "2021-12-29T14:32:19.500Z"
   },
   {
    "duration": 26,
    "start_time": "2021-12-29T14:33:56.284Z"
   },
   {
    "duration": 33,
    "start_time": "2021-12-29T14:34:45.837Z"
   },
   {
    "duration": 28,
    "start_time": "2021-12-29T14:35:02.683Z"
   },
   {
    "duration": 26,
    "start_time": "2021-12-29T14:39:49.362Z"
   },
   {
    "duration": 33,
    "start_time": "2021-12-29T14:39:55.479Z"
   },
   {
    "duration": 108,
    "start_time": "2021-12-29T14:45:20.553Z"
   },
   {
    "duration": 38,
    "start_time": "2021-12-29T14:45:30.256Z"
   },
   {
    "duration": 152,
    "start_time": "2021-12-29T14:46:37.644Z"
   },
   {
    "duration": 109,
    "start_time": "2021-12-29T14:47:12.912Z"
   },
   {
    "duration": 115,
    "start_time": "2021-12-29T14:47:29.449Z"
   },
   {
    "duration": 112,
    "start_time": "2021-12-29T14:47:38.738Z"
   },
   {
    "duration": 98,
    "start_time": "2021-12-29T14:47:45.602Z"
   },
   {
    "duration": 36,
    "start_time": "2021-12-29T14:48:01.759Z"
   },
   {
    "duration": 27,
    "start_time": "2021-12-29T14:48:13.848Z"
   },
   {
    "duration": 27,
    "start_time": "2021-12-29T14:48:27.633Z"
   },
   {
    "duration": 28,
    "start_time": "2021-12-29T14:50:11.851Z"
   },
   {
    "duration": 29,
    "start_time": "2021-12-29T14:50:20.255Z"
   },
   {
    "duration": 25,
    "start_time": "2021-12-29T14:51:35.325Z"
   },
   {
    "duration": 32,
    "start_time": "2021-12-29T14:51:42.020Z"
   },
   {
    "duration": 43,
    "start_time": "2021-12-29T14:52:16.234Z"
   },
   {
    "duration": 39,
    "start_time": "2021-12-29T14:53:28.400Z"
   },
   {
    "duration": 370,
    "start_time": "2021-12-29T14:56:52.813Z"
   },
   {
    "duration": 124,
    "start_time": "2021-12-29T14:57:02.516Z"
   },
   {
    "duration": 75,
    "start_time": "2021-12-29T14:58:46.873Z"
   },
   {
    "duration": 669,
    "start_time": "2021-12-29T15:10:53.851Z"
   },
   {
    "duration": 7,
    "start_time": "2021-12-29T15:11:20.212Z"
   },
   {
    "duration": 30,
    "start_time": "2021-12-29T15:11:56.390Z"
   },
   {
    "duration": 10,
    "start_time": "2021-12-29T15:12:02.623Z"
   },
   {
    "duration": 4,
    "start_time": "2021-12-29T15:13:33.522Z"
   },
   {
    "duration": 282,
    "start_time": "2021-12-29T15:13:37.773Z"
   },
   {
    "duration": 299,
    "start_time": "2021-12-29T15:13:46.660Z"
   },
   {
    "duration": 297,
    "start_time": "2021-12-29T15:13:59.635Z"
   },
   {
    "duration": 110,
    "start_time": "2021-12-29T15:14:10.538Z"
   },
   {
    "duration": 790,
    "start_time": "2021-12-29T15:14:15.346Z"
   },
   {
    "duration": 292,
    "start_time": "2021-12-29T15:14:23.956Z"
   },
   {
    "duration": 27,
    "start_time": "2021-12-29T15:14:39.324Z"
   },
   {
    "duration": 24,
    "start_time": "2021-12-29T15:14:56.347Z"
   },
   {
    "duration": 334,
    "start_time": "2021-12-29T15:14:58.040Z"
   },
   {
    "duration": 18,
    "start_time": "2021-12-29T15:15:17.312Z"
   },
   {
    "duration": 27,
    "start_time": "2021-12-29T15:15:29.732Z"
   },
   {
    "duration": 19,
    "start_time": "2021-12-29T15:15:39.543Z"
   },
   {
    "duration": 19,
    "start_time": "2021-12-29T15:15:47.454Z"
   },
   {
    "duration": 27,
    "start_time": "2021-12-29T15:15:52.338Z"
   },
   {
    "duration": 18,
    "start_time": "2021-12-29T15:16:12.249Z"
   },
   {
    "duration": 19,
    "start_time": "2021-12-29T15:16:22.787Z"
   },
   {
    "duration": 700,
    "start_time": "2021-12-29T15:16:35.222Z"
   },
   {
    "duration": 18,
    "start_time": "2021-12-29T15:17:51.183Z"
   },
   {
    "duration": 442,
    "start_time": "2021-12-29T15:18:05.174Z"
   },
   {
    "duration": 302,
    "start_time": "2021-12-29T15:18:13.409Z"
   },
   {
    "duration": 376,
    "start_time": "2021-12-29T15:18:20.246Z"
   },
   {
    "duration": 1492,
    "start_time": "2021-12-29T15:19:20.318Z"
   },
   {
    "duration": 272,
    "start_time": "2021-12-29T15:19:21.813Z"
   },
   {
    "duration": 23,
    "start_time": "2021-12-29T15:19:22.091Z"
   },
   {
    "duration": 17,
    "start_time": "2021-12-29T15:19:22.116Z"
   },
   {
    "duration": 45,
    "start_time": "2021-12-29T15:19:22.163Z"
   },
   {
    "duration": 6,
    "start_time": "2021-12-29T15:19:22.210Z"
   },
   {
    "duration": 369,
    "start_time": "2021-12-29T15:19:22.218Z"
   },
   {
    "duration": 22,
    "start_time": "2021-12-29T15:19:22.592Z"
   },
   {
    "duration": 6,
    "start_time": "2021-12-29T15:19:22.617Z"
   },
   {
    "duration": 41,
    "start_time": "2021-12-29T15:19:22.625Z"
   },
   {
    "duration": 11,
    "start_time": "2021-12-29T15:19:22.668Z"
   },
   {
    "duration": 6,
    "start_time": "2021-12-29T15:19:22.681Z"
   },
   {
    "duration": 12,
    "start_time": "2021-12-29T15:19:22.690Z"
   },
   {
    "duration": 15,
    "start_time": "2021-12-29T15:19:22.705Z"
   },
   {
    "duration": 5,
    "start_time": "2021-12-29T15:19:22.723Z"
   },
   {
    "duration": 7,
    "start_time": "2021-12-29T15:19:22.763Z"
   },
   {
    "duration": 29,
    "start_time": "2021-12-29T15:19:22.773Z"
   },
   {
    "duration": 18,
    "start_time": "2021-12-29T15:19:22.804Z"
   },
   {
    "duration": 53,
    "start_time": "2021-12-29T15:19:22.824Z"
   },
   {
    "duration": 1035,
    "start_time": "2021-12-29T15:19:22.879Z"
   },
   {
    "duration": 18,
    "start_time": "2021-12-29T15:19:23.916Z"
   },
   {
    "duration": 27,
    "start_time": "2021-12-29T15:19:23.936Z"
   },
   {
    "duration": 21,
    "start_time": "2021-12-29T15:19:29.567Z"
   },
   {
    "duration": 57,
    "start_time": "2021-12-29T15:19:58.133Z"
   },
   {
    "duration": 660,
    "start_time": "2021-12-29T15:20:08.763Z"
   },
   {
    "duration": 22,
    "start_time": "2021-12-29T15:20:50.915Z"
   },
   {
    "duration": 23,
    "start_time": "2021-12-29T15:20:57.563Z"
   },
   {
    "duration": 11322,
    "start_time": "2021-12-29T15:21:23.316Z"
   },
   {
    "duration": 58,
    "start_time": "2021-12-29T15:21:47.884Z"
   },
   {
    "duration": 1904,
    "start_time": "2021-12-29T15:22:44.778Z"
   },
   {
    "duration": 299,
    "start_time": "2021-12-29T15:22:46.685Z"
   },
   {
    "duration": 25,
    "start_time": "2021-12-29T15:22:46.992Z"
   },
   {
    "duration": 18,
    "start_time": "2021-12-29T15:22:47.020Z"
   },
   {
    "duration": 51,
    "start_time": "2021-12-29T15:22:47.064Z"
   },
   {
    "duration": 5,
    "start_time": "2021-12-29T15:22:47.117Z"
   },
   {
    "duration": 364,
    "start_time": "2021-12-29T15:22:47.126Z"
   },
   {
    "duration": 22,
    "start_time": "2021-12-29T15:22:47.494Z"
   },
   {
    "duration": 7,
    "start_time": "2021-12-29T15:22:47.519Z"
   },
   {
    "duration": 8,
    "start_time": "2021-12-29T15:22:47.563Z"
   },
   {
    "duration": 10,
    "start_time": "2021-12-29T15:22:47.574Z"
   },
   {
    "duration": 6,
    "start_time": "2021-12-29T15:22:47.586Z"
   },
   {
    "duration": 11,
    "start_time": "2021-12-29T15:22:47.595Z"
   },
   {
    "duration": 59,
    "start_time": "2021-12-29T15:22:47.609Z"
   },
   {
    "duration": 6,
    "start_time": "2021-12-29T15:22:47.671Z"
   },
   {
    "duration": 9,
    "start_time": "2021-12-29T15:22:47.679Z"
   },
   {
    "duration": 22,
    "start_time": "2021-12-29T15:22:47.690Z"
   },
   {
    "duration": 16,
    "start_time": "2021-12-29T15:22:47.715Z"
   },
   {
    "duration": 53,
    "start_time": "2021-12-29T15:22:47.733Z"
   },
   {
    "duration": 1025,
    "start_time": "2021-12-29T15:22:47.788Z"
   },
   {
    "duration": 25,
    "start_time": "2021-12-29T15:22:48.816Z"
   },
   {
    "duration": 25,
    "start_time": "2021-12-29T15:22:48.867Z"
   },
   {
    "duration": 300,
    "start_time": "2021-12-29T15:23:24.171Z"
   },
   {
    "duration": 295,
    "start_time": "2021-12-29T15:25:03.101Z"
   },
   {
    "duration": 24,
    "start_time": "2021-12-29T15:25:19.542Z"
   },
   {
    "duration": 30,
    "start_time": "2021-12-29T15:25:50.049Z"
   },
   {
    "duration": 263,
    "start_time": "2021-12-29T15:26:00.702Z"
   },
   {
    "duration": 314,
    "start_time": "2021-12-29T15:27:17.786Z"
   },
   {
    "duration": 1444,
    "start_time": "2021-12-29T15:29:15.103Z"
   },
   {
    "duration": 252,
    "start_time": "2021-12-29T15:29:16.551Z"
   },
   {
    "duration": 25,
    "start_time": "2021-12-29T15:29:16.807Z"
   },
   {
    "duration": 28,
    "start_time": "2021-12-29T15:29:16.835Z"
   },
   {
    "duration": 46,
    "start_time": "2021-12-29T15:29:16.865Z"
   },
   {
    "duration": 5,
    "start_time": "2021-12-29T15:29:16.913Z"
   },
   {
    "duration": 366,
    "start_time": "2021-12-29T15:29:16.920Z"
   },
   {
    "duration": 23,
    "start_time": "2021-12-29T15:29:17.289Z"
   },
   {
    "duration": 7,
    "start_time": "2021-12-29T15:29:17.316Z"
   },
   {
    "duration": 43,
    "start_time": "2021-12-29T15:29:17.326Z"
   },
   {
    "duration": 11,
    "start_time": "2021-12-29T15:29:17.375Z"
   },
   {
    "duration": 7,
    "start_time": "2021-12-29T15:29:17.389Z"
   },
   {
    "duration": 11,
    "start_time": "2021-12-29T15:29:17.398Z"
   },
   {
    "duration": 16,
    "start_time": "2021-12-29T15:29:17.411Z"
   },
   {
    "duration": 39,
    "start_time": "2021-12-29T15:29:17.429Z"
   },
   {
    "duration": 8,
    "start_time": "2021-12-29T15:29:17.470Z"
   },
   {
    "duration": 17,
    "start_time": "2021-12-29T15:29:17.481Z"
   },
   {
    "duration": 17,
    "start_time": "2021-12-29T15:29:17.501Z"
   },
   {
    "duration": 61,
    "start_time": "2021-12-29T15:29:17.522Z"
   },
   {
    "duration": 1027,
    "start_time": "2021-12-29T15:29:17.586Z"
   },
   {
    "duration": 16,
    "start_time": "2021-12-29T15:29:18.616Z"
   },
   {
    "duration": 554,
    "start_time": "2021-12-29T15:29:18.634Z"
   },
   {
    "duration": 632,
    "start_time": "2021-12-29T15:29:32.936Z"
   },
   {
    "duration": 405,
    "start_time": "2021-12-29T15:29:56.902Z"
   },
   {
    "duration": 1094,
    "start_time": "2021-12-29T15:37:08.321Z"
   },
   {
    "duration": 1955,
    "start_time": "2021-12-29T15:37:26.182Z"
   },
   {
    "duration": 729,
    "start_time": "2021-12-29T15:37:37.197Z"
   },
   {
    "duration": 1189,
    "start_time": "2021-12-29T15:41:43.890Z"
   },
   {
    "duration": 1568,
    "start_time": "2021-12-29T15:44:16.873Z"
   },
   {
    "duration": 372,
    "start_time": "2021-12-29T15:44:18.443Z"
   },
   {
    "duration": 22,
    "start_time": "2021-12-29T15:44:18.818Z"
   },
   {
    "duration": 36,
    "start_time": "2021-12-29T15:44:18.843Z"
   },
   {
    "duration": 43,
    "start_time": "2021-12-29T15:44:18.881Z"
   },
   {
    "duration": 5,
    "start_time": "2021-12-29T15:44:18.926Z"
   },
   {
    "duration": 373,
    "start_time": "2021-12-29T15:44:18.934Z"
   },
   {
    "duration": 22,
    "start_time": "2021-12-29T15:44:19.311Z"
   },
   {
    "duration": 7,
    "start_time": "2021-12-29T15:44:19.365Z"
   },
   {
    "duration": 7,
    "start_time": "2021-12-29T15:44:19.375Z"
   },
   {
    "duration": 11,
    "start_time": "2021-12-29T15:44:19.385Z"
   },
   {
    "duration": 6,
    "start_time": "2021-12-29T15:44:19.399Z"
   },
   {
    "duration": 11,
    "start_time": "2021-12-29T15:44:19.407Z"
   },
   {
    "duration": 16,
    "start_time": "2021-12-29T15:44:19.463Z"
   },
   {
    "duration": 5,
    "start_time": "2021-12-29T15:44:19.482Z"
   },
   {
    "duration": 8,
    "start_time": "2021-12-29T15:44:19.489Z"
   },
   {
    "duration": 15,
    "start_time": "2021-12-29T15:44:19.499Z"
   },
   {
    "duration": 49,
    "start_time": "2021-12-29T15:44:19.517Z"
   },
   {
    "duration": 23,
    "start_time": "2021-12-29T15:44:19.569Z"
   },
   {
    "duration": 1075,
    "start_time": "2021-12-29T15:44:19.595Z"
   },
   {
    "duration": 17,
    "start_time": "2021-12-29T15:44:20.672Z"
   },
   {
    "duration": 1046,
    "start_time": "2021-12-29T15:44:20.691Z"
   },
   {
    "duration": 1527,
    "start_time": "2021-12-29T15:45:09.804Z"
   },
   {
    "duration": 250,
    "start_time": "2021-12-29T15:45:11.335Z"
   },
   {
    "duration": 28,
    "start_time": "2021-12-29T15:45:11.589Z"
   },
   {
    "duration": 15,
    "start_time": "2021-12-29T15:45:11.620Z"
   },
   {
    "duration": 63,
    "start_time": "2021-12-29T15:45:11.638Z"
   },
   {
    "duration": 5,
    "start_time": "2021-12-29T15:45:11.703Z"
   },
   {
    "duration": 339,
    "start_time": "2021-12-29T15:45:11.711Z"
   },
   {
    "duration": 31,
    "start_time": "2021-12-29T15:45:12.065Z"
   },
   {
    "duration": 6,
    "start_time": "2021-12-29T15:45:12.100Z"
   },
   {
    "duration": 9,
    "start_time": "2021-12-29T15:45:12.108Z"
   },
   {
    "duration": 9,
    "start_time": "2021-12-29T15:45:12.120Z"
   },
   {
    "duration": 5,
    "start_time": "2021-12-29T15:45:12.132Z"
   },
   {
    "duration": 10,
    "start_time": "2021-12-29T15:45:12.140Z"
   },
   {
    "duration": 21,
    "start_time": "2021-12-29T15:45:12.162Z"
   },
   {
    "duration": 6,
    "start_time": "2021-12-29T15:45:12.187Z"
   },
   {
    "duration": 26,
    "start_time": "2021-12-29T15:45:12.196Z"
   },
   {
    "duration": 34,
    "start_time": "2021-12-29T15:45:12.225Z"
   },
   {
    "duration": 16,
    "start_time": "2021-12-29T15:45:12.262Z"
   },
   {
    "duration": 35,
    "start_time": "2021-12-29T15:45:12.281Z"
   },
   {
    "duration": 1249,
    "start_time": "2021-12-29T15:45:12.320Z"
   },
   {
    "duration": 22,
    "start_time": "2021-12-29T15:45:13.572Z"
   },
   {
    "duration": 1094,
    "start_time": "2021-12-29T15:45:13.597Z"
   },
   {
    "duration": 1985,
    "start_time": "2021-12-29T15:45:36.682Z"
   },
   {
    "duration": 228,
    "start_time": "2021-12-29T15:45:38.671Z"
   },
   {
    "duration": 25,
    "start_time": "2021-12-29T15:45:38.903Z"
   },
   {
    "duration": 32,
    "start_time": "2021-12-29T15:45:38.932Z"
   },
   {
    "duration": 49,
    "start_time": "2021-12-29T15:45:38.967Z"
   },
   {
    "duration": 6,
    "start_time": "2021-12-29T15:45:39.018Z"
   },
   {
    "duration": 449,
    "start_time": "2021-12-29T15:45:39.026Z"
   },
   {
    "duration": 30,
    "start_time": "2021-12-29T15:45:39.481Z"
   },
   {
    "duration": 8,
    "start_time": "2021-12-29T15:45:39.514Z"
   },
   {
    "duration": 41,
    "start_time": "2021-12-29T15:45:39.525Z"
   },
   {
    "duration": 12,
    "start_time": "2021-12-29T15:45:39.569Z"
   },
   {
    "duration": 6,
    "start_time": "2021-12-29T15:45:39.584Z"
   },
   {
    "duration": 11,
    "start_time": "2021-12-29T15:45:39.594Z"
   },
   {
    "duration": 56,
    "start_time": "2021-12-29T15:45:39.607Z"
   },
   {
    "duration": 5,
    "start_time": "2021-12-29T15:45:39.665Z"
   },
   {
    "duration": 11,
    "start_time": "2021-12-29T15:45:39.672Z"
   },
   {
    "duration": 17,
    "start_time": "2021-12-29T15:45:39.686Z"
   },
   {
    "duration": 30,
    "start_time": "2021-12-29T15:45:39.705Z"
   },
   {
    "duration": 44,
    "start_time": "2021-12-29T15:45:39.738Z"
   },
   {
    "duration": 1045,
    "start_time": "2021-12-29T15:45:39.785Z"
   },
   {
    "duration": 30,
    "start_time": "2021-12-29T15:45:40.833Z"
   },
   {
    "duration": 459,
    "start_time": "2021-12-29T15:45:40.865Z"
   },
   {
    "duration": 842,
    "start_time": "2021-12-29T15:45:46.387Z"
   },
   {
    "duration": 556,
    "start_time": "2021-12-29T15:46:57.501Z"
   },
   {
    "duration": 1650,
    "start_time": "2021-12-29T15:47:35.276Z"
   },
   {
    "duration": 243,
    "start_time": "2021-12-29T15:47:36.928Z"
   },
   {
    "duration": 23,
    "start_time": "2021-12-29T15:47:37.174Z"
   },
   {
    "duration": 14,
    "start_time": "2021-12-29T15:47:37.200Z"
   },
   {
    "duration": 72,
    "start_time": "2021-12-29T15:47:37.217Z"
   },
   {
    "duration": 5,
    "start_time": "2021-12-29T15:47:37.292Z"
   },
   {
    "duration": 336,
    "start_time": "2021-12-29T15:47:37.300Z"
   },
   {
    "duration": 43,
    "start_time": "2021-12-29T15:47:37.640Z"
   },
   {
    "duration": 6,
    "start_time": "2021-12-29T15:47:37.686Z"
   },
   {
    "duration": 8,
    "start_time": "2021-12-29T15:47:37.694Z"
   },
   {
    "duration": 11,
    "start_time": "2021-12-29T15:47:37.705Z"
   },
   {
    "duration": 44,
    "start_time": "2021-12-29T15:47:37.719Z"
   },
   {
    "duration": 11,
    "start_time": "2021-12-29T15:47:37.766Z"
   },
   {
    "duration": 15,
    "start_time": "2021-12-29T15:47:37.779Z"
   },
   {
    "duration": 5,
    "start_time": "2021-12-29T15:47:37.796Z"
   },
   {
    "duration": 9,
    "start_time": "2021-12-29T15:47:37.803Z"
   },
   {
    "duration": 48,
    "start_time": "2021-12-29T15:47:37.815Z"
   },
   {
    "duration": 22,
    "start_time": "2021-12-29T15:47:37.866Z"
   },
   {
    "duration": 25,
    "start_time": "2021-12-29T15:47:37.891Z"
   },
   {
    "duration": 1005,
    "start_time": "2021-12-29T15:47:37.918Z"
   },
   {
    "duration": 36,
    "start_time": "2021-12-29T15:47:38.927Z"
   },
   {
    "duration": 513,
    "start_time": "2021-12-29T15:47:38.965Z"
   },
   {
    "duration": 1022,
    "start_time": "2021-12-29T15:48:20.616Z"
   },
   {
    "duration": 945,
    "start_time": "2021-12-29T15:48:31.224Z"
   },
   {
    "duration": 800,
    "start_time": "2021-12-29T15:48:38.792Z"
   },
   {
    "duration": 688,
    "start_time": "2021-12-29T15:48:44.654Z"
   },
   {
    "duration": 512,
    "start_time": "2021-12-29T15:48:50.920Z"
   },
   {
    "duration": 1432,
    "start_time": "2021-12-29T15:49:44.710Z"
   },
   {
    "duration": 224,
    "start_time": "2021-12-29T15:49:46.145Z"
   },
   {
    "duration": 23,
    "start_time": "2021-12-29T15:49:46.372Z"
   },
   {
    "duration": 14,
    "start_time": "2021-12-29T15:49:46.398Z"
   },
   {
    "duration": 74,
    "start_time": "2021-12-29T15:49:46.414Z"
   },
   {
    "duration": 6,
    "start_time": "2021-12-29T15:49:46.490Z"
   },
   {
    "duration": 369,
    "start_time": "2021-12-29T15:49:46.498Z"
   },
   {
    "duration": 23,
    "start_time": "2021-12-29T15:49:46.871Z"
   },
   {
    "duration": 7,
    "start_time": "2021-12-29T15:49:46.896Z"
   },
   {
    "duration": 8,
    "start_time": "2021-12-29T15:49:46.905Z"
   },
   {
    "duration": 54,
    "start_time": "2021-12-29T15:49:46.915Z"
   },
   {
    "duration": 6,
    "start_time": "2021-12-29T15:49:46.972Z"
   },
   {
    "duration": 11,
    "start_time": "2021-12-29T15:49:46.980Z"
   },
   {
    "duration": 15,
    "start_time": "2021-12-29T15:49:46.993Z"
   },
   {
    "duration": 5,
    "start_time": "2021-12-29T15:49:47.010Z"
   },
   {
    "duration": 45,
    "start_time": "2021-12-29T15:49:47.018Z"
   },
   {
    "duration": 17,
    "start_time": "2021-12-29T15:49:47.066Z"
   },
   {
    "duration": 15,
    "start_time": "2021-12-29T15:49:47.085Z"
   },
   {
    "duration": 22,
    "start_time": "2021-12-29T15:49:47.103Z"
   },
   {
    "duration": 1010,
    "start_time": "2021-12-29T15:49:47.127Z"
   },
   {
    "duration": 25,
    "start_time": "2021-12-29T15:49:48.140Z"
   },
   {
    "duration": 737,
    "start_time": "2021-12-29T15:49:48.167Z"
   },
   {
    "duration": 1547,
    "start_time": "2021-12-29T15:55:59.307Z"
   },
   {
    "duration": 251,
    "start_time": "2021-12-29T15:56:00.857Z"
   },
   {
    "duration": 24,
    "start_time": "2021-12-29T15:56:01.111Z"
   },
   {
    "duration": 14,
    "start_time": "2021-12-29T15:56:01.138Z"
   },
   {
    "duration": 53,
    "start_time": "2021-12-29T15:56:01.154Z"
   },
   {
    "duration": 5,
    "start_time": "2021-12-29T15:56:01.210Z"
   },
   {
    "duration": 348,
    "start_time": "2021-12-29T15:56:01.218Z"
   },
   {
    "duration": 23,
    "start_time": "2021-12-29T15:56:01.570Z"
   },
   {
    "duration": 6,
    "start_time": "2021-12-29T15:56:01.597Z"
   },
   {
    "duration": 24,
    "start_time": "2021-12-29T15:56:01.606Z"
   },
   {
    "duration": 36,
    "start_time": "2021-12-29T15:56:01.633Z"
   },
   {
    "duration": 7,
    "start_time": "2021-12-29T15:56:01.671Z"
   },
   {
    "duration": 22,
    "start_time": "2021-12-29T15:56:01.681Z"
   },
   {
    "duration": 18,
    "start_time": "2021-12-29T15:56:01.706Z"
   },
   {
    "duration": 5,
    "start_time": "2021-12-29T15:56:01.727Z"
   },
   {
    "duration": 29,
    "start_time": "2021-12-29T15:56:01.734Z"
   },
   {
    "duration": 14,
    "start_time": "2021-12-29T15:56:01.765Z"
   },
   {
    "duration": 16,
    "start_time": "2021-12-29T15:56:01.781Z"
   },
   {
    "duration": 22,
    "start_time": "2021-12-29T15:56:01.800Z"
   },
   {
    "duration": 999,
    "start_time": "2021-12-29T15:56:01.824Z"
   },
   {
    "duration": 16,
    "start_time": "2021-12-29T15:56:02.825Z"
   },
   {
    "duration": 541,
    "start_time": "2021-12-29T15:56:02.843Z"
   },
   {
    "duration": 527,
    "start_time": "2021-12-29T15:57:55.675Z"
   },
   {
    "duration": 1545,
    "start_time": "2021-12-29T15:58:34.250Z"
   },
   {
    "duration": 282,
    "start_time": "2021-12-29T15:58:35.798Z"
   },
   {
    "duration": 24,
    "start_time": "2021-12-29T15:58:36.086Z"
   },
   {
    "duration": 17,
    "start_time": "2021-12-29T15:58:36.112Z"
   },
   {
    "duration": 68,
    "start_time": "2021-12-29T15:58:36.132Z"
   },
   {
    "duration": 6,
    "start_time": "2021-12-29T15:58:36.202Z"
   },
   {
    "duration": 337,
    "start_time": "2021-12-29T15:58:36.212Z"
   },
   {
    "duration": 25,
    "start_time": "2021-12-29T15:58:36.567Z"
   },
   {
    "duration": 8,
    "start_time": "2021-12-29T15:58:36.595Z"
   },
   {
    "duration": 9,
    "start_time": "2021-12-29T15:58:36.605Z"
   },
   {
    "duration": 51,
    "start_time": "2021-12-29T15:58:36.617Z"
   },
   {
    "duration": 6,
    "start_time": "2021-12-29T15:58:36.670Z"
   },
   {
    "duration": 13,
    "start_time": "2021-12-29T15:58:36.678Z"
   },
   {
    "duration": 17,
    "start_time": "2021-12-29T15:58:36.693Z"
   },
   {
    "duration": 5,
    "start_time": "2021-12-29T15:58:36.713Z"
   },
   {
    "duration": 51,
    "start_time": "2021-12-29T15:58:36.720Z"
   },
   {
    "duration": 18,
    "start_time": "2021-12-29T15:58:36.774Z"
   },
   {
    "duration": 17,
    "start_time": "2021-12-29T15:58:36.796Z"
   },
   {
    "duration": 59,
    "start_time": "2021-12-29T15:58:36.815Z"
   },
   {
    "duration": 971,
    "start_time": "2021-12-29T15:58:36.877Z"
   },
   {
    "duration": 26,
    "start_time": "2021-12-29T15:58:37.851Z"
   },
   {
    "duration": 605,
    "start_time": "2021-12-29T15:58:37.881Z"
   },
   {
    "duration": 580,
    "start_time": "2021-12-29T15:58:52.496Z"
   },
   {
    "duration": 1721,
    "start_time": "2021-12-29T15:59:28.751Z"
   },
   {
    "duration": 240,
    "start_time": "2021-12-29T15:59:30.476Z"
   },
   {
    "duration": 24,
    "start_time": "2021-12-29T15:59:30.723Z"
   },
   {
    "duration": 22,
    "start_time": "2021-12-29T15:59:30.750Z"
   },
   {
    "duration": 59,
    "start_time": "2021-12-29T15:59:30.775Z"
   },
   {
    "duration": 5,
    "start_time": "2021-12-29T15:59:30.837Z"
   },
   {
    "duration": 377,
    "start_time": "2021-12-29T15:59:30.844Z"
   },
   {
    "duration": 45,
    "start_time": "2021-12-29T15:59:31.225Z"
   },
   {
    "duration": 9,
    "start_time": "2021-12-29T15:59:31.274Z"
   },
   {
    "duration": 17,
    "start_time": "2021-12-29T15:59:31.285Z"
   },
   {
    "duration": 18,
    "start_time": "2021-12-29T15:59:31.304Z"
   },
   {
    "duration": 39,
    "start_time": "2021-12-29T15:59:31.324Z"
   },
   {
    "duration": 21,
    "start_time": "2021-12-29T15:59:31.365Z"
   },
   {
    "duration": 22,
    "start_time": "2021-12-29T15:59:31.388Z"
   },
   {
    "duration": 6,
    "start_time": "2021-12-29T15:59:31.413Z"
   },
   {
    "duration": 9,
    "start_time": "2021-12-29T15:59:31.422Z"
   },
   {
    "duration": 43,
    "start_time": "2021-12-29T15:59:31.433Z"
   },
   {
    "duration": 16,
    "start_time": "2021-12-29T15:59:31.478Z"
   },
   {
    "duration": 22,
    "start_time": "2021-12-29T15:59:31.497Z"
   },
   {
    "duration": 1025,
    "start_time": "2021-12-29T15:59:31.522Z"
   },
   {
    "duration": 24,
    "start_time": "2021-12-29T15:59:32.549Z"
   },
   {
    "duration": 603,
    "start_time": "2021-12-29T15:59:32.576Z"
   },
   {
    "duration": 1426,
    "start_time": "2021-12-29T15:59:55.512Z"
   },
   {
    "duration": 246,
    "start_time": "2021-12-29T15:59:56.941Z"
   },
   {
    "duration": 23,
    "start_time": "2021-12-29T15:59:57.190Z"
   },
   {
    "duration": 15,
    "start_time": "2021-12-29T15:59:57.216Z"
   },
   {
    "duration": 69,
    "start_time": "2021-12-29T15:59:57.233Z"
   },
   {
    "duration": 4,
    "start_time": "2021-12-29T15:59:57.304Z"
   },
   {
    "duration": 373,
    "start_time": "2021-12-29T15:59:57.311Z"
   },
   {
    "duration": 25,
    "start_time": "2021-12-29T15:59:57.689Z"
   },
   {
    "duration": 6,
    "start_time": "2021-12-29T15:59:57.718Z"
   },
   {
    "duration": 44,
    "start_time": "2021-12-29T15:59:57.727Z"
   },
   {
    "duration": 11,
    "start_time": "2021-12-29T15:59:57.774Z"
   },
   {
    "duration": 7,
    "start_time": "2021-12-29T15:59:57.787Z"
   },
   {
    "duration": 11,
    "start_time": "2021-12-29T15:59:57.797Z"
   },
   {
    "duration": 59,
    "start_time": "2021-12-29T15:59:57.811Z"
   },
   {
    "duration": 6,
    "start_time": "2021-12-29T15:59:57.873Z"
   },
   {
    "duration": 9,
    "start_time": "2021-12-29T15:59:57.881Z"
   },
   {
    "duration": 15,
    "start_time": "2021-12-29T15:59:57.893Z"
   },
   {
    "duration": 15,
    "start_time": "2021-12-29T15:59:57.910Z"
   },
   {
    "duration": 54,
    "start_time": "2021-12-29T15:59:57.927Z"
   },
   {
    "duration": 1012,
    "start_time": "2021-12-29T15:59:57.984Z"
   },
   {
    "duration": 16,
    "start_time": "2021-12-29T15:59:58.998Z"
   },
   {
    "duration": 570,
    "start_time": "2021-12-29T15:59:59.016Z"
   },
   {
    "duration": 1643,
    "start_time": "2021-12-29T16:01:14.840Z"
   },
   {
    "duration": 369,
    "start_time": "2021-12-29T16:01:16.487Z"
   },
   {
    "duration": 27,
    "start_time": "2021-12-29T16:01:16.860Z"
   },
   {
    "duration": 15,
    "start_time": "2021-12-29T16:01:16.890Z"
   },
   {
    "duration": 78,
    "start_time": "2021-12-29T16:01:16.908Z"
   },
   {
    "duration": 6,
    "start_time": "2021-12-29T16:01:16.989Z"
   },
   {
    "duration": 401,
    "start_time": "2021-12-29T16:01:16.998Z"
   },
   {
    "duration": 22,
    "start_time": "2021-12-29T16:01:17.402Z"
   },
   {
    "duration": 39,
    "start_time": "2021-12-29T16:01:17.428Z"
   },
   {
    "duration": 10,
    "start_time": "2021-12-29T16:01:17.471Z"
   },
   {
    "duration": 13,
    "start_time": "2021-12-29T16:01:17.485Z"
   },
   {
    "duration": 6,
    "start_time": "2021-12-29T16:01:17.501Z"
   },
   {
    "duration": 20,
    "start_time": "2021-12-29T16:01:17.510Z"
   },
   {
    "duration": 47,
    "start_time": "2021-12-29T16:01:17.532Z"
   },
   {
    "duration": 7,
    "start_time": "2021-12-29T16:01:17.582Z"
   },
   {
    "duration": 11,
    "start_time": "2021-12-29T16:01:17.592Z"
   },
   {
    "duration": 18,
    "start_time": "2021-12-29T16:01:17.606Z"
   },
   {
    "duration": 62,
    "start_time": "2021-12-29T16:01:17.626Z"
   },
   {
    "duration": 27,
    "start_time": "2021-12-29T16:01:17.691Z"
   },
   {
    "duration": 1166,
    "start_time": "2021-12-29T16:01:17.721Z"
   },
   {
    "duration": 19,
    "start_time": "2021-12-29T16:01:18.890Z"
   },
   {
    "duration": 643,
    "start_time": "2021-12-29T16:01:18.912Z"
   },
   {
    "duration": 834,
    "start_time": "2021-12-29T16:02:19.549Z"
   },
   {
    "duration": 23,
    "start_time": "2021-12-29T16:02:25.176Z"
   },
   {
    "duration": 1628,
    "start_time": "2021-12-29T16:02:46.328Z"
   },
   {
    "duration": 281,
    "start_time": "2021-12-29T16:02:47.958Z"
   },
   {
    "duration": 25,
    "start_time": "2021-12-29T16:02:48.241Z"
   },
   {
    "duration": 19,
    "start_time": "2021-12-29T16:02:48.269Z"
   },
   {
    "duration": 73,
    "start_time": "2021-12-29T16:02:48.291Z"
   },
   {
    "duration": 7,
    "start_time": "2021-12-29T16:02:48.368Z"
   },
   {
    "duration": 363,
    "start_time": "2021-12-29T16:02:48.380Z"
   },
   {
    "duration": 27,
    "start_time": "2021-12-29T16:02:48.763Z"
   },
   {
    "duration": 7,
    "start_time": "2021-12-29T16:02:48.793Z"
   },
   {
    "duration": 11,
    "start_time": "2021-12-29T16:02:48.802Z"
   },
   {
    "duration": 47,
    "start_time": "2021-12-29T16:02:48.816Z"
   },
   {
    "duration": 7,
    "start_time": "2021-12-29T16:02:48.867Z"
   },
   {
    "duration": 11,
    "start_time": "2021-12-29T16:02:48.877Z"
   },
   {
    "duration": 16,
    "start_time": "2021-12-29T16:02:48.890Z"
   },
   {
    "duration": 5,
    "start_time": "2021-12-29T16:02:48.909Z"
   },
   {
    "duration": 7,
    "start_time": "2021-12-29T16:02:48.917Z"
   },
   {
    "duration": 18,
    "start_time": "2021-12-29T16:02:48.964Z"
   },
   {
    "duration": 18,
    "start_time": "2021-12-29T16:02:48.985Z"
   },
   {
    "duration": 23,
    "start_time": "2021-12-29T16:02:49.006Z"
   },
   {
    "duration": 1074,
    "start_time": "2021-12-29T16:02:49.063Z"
   },
   {
    "duration": 46,
    "start_time": "2021-12-29T16:02:50.140Z"
   },
   {
    "duration": 582,
    "start_time": "2021-12-29T16:02:50.189Z"
   },
   {
    "duration": 23,
    "start_time": "2021-12-29T16:04:27.613Z"
   },
   {
    "duration": 1623,
    "start_time": "2021-12-29T16:04:46.758Z"
   },
   {
    "duration": 254,
    "start_time": "2021-12-29T16:04:48.384Z"
   },
   {
    "duration": 28,
    "start_time": "2021-12-29T16:04:48.642Z"
   },
   {
    "duration": 17,
    "start_time": "2021-12-29T16:04:48.674Z"
   },
   {
    "duration": 44,
    "start_time": "2021-12-29T16:04:48.694Z"
   },
   {
    "duration": 6,
    "start_time": "2021-12-29T16:04:48.764Z"
   },
   {
    "duration": 350,
    "start_time": "2021-12-29T16:04:48.773Z"
   },
   {
    "duration": 43,
    "start_time": "2021-12-29T16:04:49.127Z"
   },
   {
    "duration": 8,
    "start_time": "2021-12-29T16:04:49.172Z"
   },
   {
    "duration": 8,
    "start_time": "2021-12-29T16:04:49.183Z"
   },
   {
    "duration": 12,
    "start_time": "2021-12-29T16:04:49.194Z"
   },
   {
    "duration": 7,
    "start_time": "2021-12-29T16:04:49.209Z"
   },
   {
    "duration": 53,
    "start_time": "2021-12-29T16:04:49.219Z"
   },
   {
    "duration": 17,
    "start_time": "2021-12-29T16:04:49.275Z"
   },
   {
    "duration": 5,
    "start_time": "2021-12-29T16:04:49.295Z"
   },
   {
    "duration": 6,
    "start_time": "2021-12-29T16:04:49.303Z"
   },
   {
    "duration": 58,
    "start_time": "2021-12-29T16:04:49.311Z"
   },
   {
    "duration": 21,
    "start_time": "2021-12-29T16:04:49.372Z"
   },
   {
    "duration": 24,
    "start_time": "2021-12-29T16:04:49.396Z"
   },
   {
    "duration": 1047,
    "start_time": "2021-12-29T16:04:49.424Z"
   },
   {
    "duration": 28,
    "start_time": "2021-12-29T16:04:50.474Z"
   },
   {
    "duration": 565,
    "start_time": "2021-12-29T16:04:50.505Z"
   },
   {
    "duration": 1612,
    "start_time": "2021-12-29T16:07:34.960Z"
   },
   {
    "duration": 249,
    "start_time": "2021-12-29T16:07:36.575Z"
   },
   {
    "duration": 26,
    "start_time": "2021-12-29T16:07:36.827Z"
   },
   {
    "duration": 44,
    "start_time": "2021-12-29T16:07:36.857Z"
   },
   {
    "duration": 61,
    "start_time": "2021-12-29T16:07:36.904Z"
   },
   {
    "duration": 5,
    "start_time": "2021-12-29T16:07:36.967Z"
   },
   {
    "duration": 341,
    "start_time": "2021-12-29T16:07:36.974Z"
   },
   {
    "duration": 48,
    "start_time": "2021-12-29T16:07:37.319Z"
   },
   {
    "duration": 7,
    "start_time": "2021-12-29T16:07:37.370Z"
   },
   {
    "duration": 11,
    "start_time": "2021-12-29T16:07:37.380Z"
   },
   {
    "duration": 17,
    "start_time": "2021-12-29T16:07:37.394Z"
   },
   {
    "duration": 10,
    "start_time": "2021-12-29T16:07:37.413Z"
   },
   {
    "duration": 42,
    "start_time": "2021-12-29T16:07:37.425Z"
   },
   {
    "duration": 25,
    "start_time": "2021-12-29T16:07:37.470Z"
   },
   {
    "duration": 5,
    "start_time": "2021-12-29T16:07:37.497Z"
   },
   {
    "duration": 10,
    "start_time": "2021-12-29T16:07:37.505Z"
   },
   {
    "duration": 20,
    "start_time": "2021-12-29T16:07:37.518Z"
   },
   {
    "duration": 31,
    "start_time": "2021-12-29T16:07:37.540Z"
   },
   {
    "duration": 25,
    "start_time": "2021-12-29T16:07:37.573Z"
   },
   {
    "duration": 1039,
    "start_time": "2021-12-29T16:07:37.601Z"
   },
   {
    "duration": 41,
    "start_time": "2021-12-29T16:07:38.642Z"
   },
   {
    "duration": 639,
    "start_time": "2021-12-29T16:07:38.686Z"
   },
   {
    "duration": 449,
    "start_time": "2021-12-29T16:08:50.228Z"
   },
   {
    "duration": 614,
    "start_time": "2021-12-29T16:08:58.357Z"
   },
   {
    "duration": 618,
    "start_time": "2021-12-29T16:09:55.849Z"
   },
   {
    "duration": 1663,
    "start_time": "2021-12-29T16:12:08.126Z"
   },
   {
    "duration": 262,
    "start_time": "2021-12-29T16:12:09.792Z"
   },
   {
    "duration": 31,
    "start_time": "2021-12-29T16:12:10.057Z"
   },
   {
    "duration": 16,
    "start_time": "2021-12-29T16:12:10.091Z"
   },
   {
    "duration": 84,
    "start_time": "2021-12-29T16:12:10.111Z"
   },
   {
    "duration": 5,
    "start_time": "2021-12-29T16:12:10.197Z"
   },
   {
    "duration": 385,
    "start_time": "2021-12-29T16:12:10.205Z"
   },
   {
    "duration": 22,
    "start_time": "2021-12-29T16:12:10.594Z"
   },
   {
    "duration": 6,
    "start_time": "2021-12-29T16:12:10.619Z"
   },
   {
    "duration": 37,
    "start_time": "2021-12-29T16:12:10.628Z"
   },
   {
    "duration": 13,
    "start_time": "2021-12-29T16:12:10.669Z"
   },
   {
    "duration": 11,
    "start_time": "2021-12-29T16:12:10.685Z"
   },
   {
    "duration": 14,
    "start_time": "2021-12-29T16:12:10.698Z"
   },
   {
    "duration": 15,
    "start_time": "2021-12-29T16:12:10.714Z"
   },
   {
    "duration": 35,
    "start_time": "2021-12-29T16:12:10.731Z"
   },
   {
    "duration": 9,
    "start_time": "2021-12-29T16:12:10.770Z"
   },
   {
    "duration": 21,
    "start_time": "2021-12-29T16:12:10.781Z"
   },
   {
    "duration": 20,
    "start_time": "2021-12-29T16:12:10.804Z"
   },
   {
    "duration": 62,
    "start_time": "2021-12-29T16:12:10.827Z"
   },
   {
    "duration": 1165,
    "start_time": "2021-12-29T16:12:10.892Z"
   },
   {
    "duration": 29,
    "start_time": "2021-12-29T16:12:12.063Z"
   },
   {
    "duration": 738,
    "start_time": "2021-12-29T16:12:12.094Z"
   },
   {
    "duration": 24,
    "start_time": "2021-12-29T16:13:15.737Z"
   },
   {
    "duration": 1569,
    "start_time": "2021-12-29T16:13:39.489Z"
   },
   {
    "duration": 278,
    "start_time": "2021-12-29T16:13:41.061Z"
   },
   {
    "duration": 29,
    "start_time": "2021-12-29T16:13:41.345Z"
   },
   {
    "duration": 17,
    "start_time": "2021-12-29T16:13:41.377Z"
   },
   {
    "duration": 78,
    "start_time": "2021-12-29T16:13:41.397Z"
   },
   {
    "duration": 8,
    "start_time": "2021-12-29T16:13:41.478Z"
   },
   {
    "duration": 412,
    "start_time": "2021-12-29T16:13:41.490Z"
   },
   {
    "duration": 21,
    "start_time": "2021-12-29T16:13:41.906Z"
   },
   {
    "duration": 36,
    "start_time": "2021-12-29T16:13:41.929Z"
   },
   {
    "duration": 9,
    "start_time": "2021-12-29T16:13:41.968Z"
   },
   {
    "duration": 17,
    "start_time": "2021-12-29T16:13:41.983Z"
   },
   {
    "duration": 7,
    "start_time": "2021-12-29T16:13:42.004Z"
   },
   {
    "duration": 11,
    "start_time": "2021-12-29T16:13:42.013Z"
   },
   {
    "duration": 48,
    "start_time": "2021-12-29T16:13:42.027Z"
   },
   {
    "duration": 7,
    "start_time": "2021-12-29T16:13:42.078Z"
   },
   {
    "duration": 9,
    "start_time": "2021-12-29T16:13:42.088Z"
   },
   {
    "duration": 20,
    "start_time": "2021-12-29T16:13:42.100Z"
   },
   {
    "duration": 57,
    "start_time": "2021-12-29T16:13:42.123Z"
   },
   {
    "duration": 24,
    "start_time": "2021-12-29T16:13:42.182Z"
   },
   {
    "duration": 1030,
    "start_time": "2021-12-29T16:13:42.210Z"
   },
   {
    "duration": 35,
    "start_time": "2021-12-29T16:13:43.243Z"
   },
   {
    "duration": 731,
    "start_time": "2021-12-29T16:13:43.283Z"
   },
   {
    "duration": 28,
    "start_time": "2021-12-29T16:14:26.456Z"
   },
   {
    "duration": 683,
    "start_time": "2021-12-29T16:14:41.266Z"
   },
   {
    "duration": 653,
    "start_time": "2021-12-29T16:22:20.418Z"
   },
   {
    "duration": 682,
    "start_time": "2021-12-29T16:23:37.231Z"
   },
   {
    "duration": 658,
    "start_time": "2021-12-29T16:23:50.205Z"
   },
   {
    "duration": 738,
    "start_time": "2021-12-29T16:24:31.016Z"
   },
   {
    "duration": 25,
    "start_time": "2021-12-29T16:24:59.590Z"
   },
   {
    "duration": 688,
    "start_time": "2021-12-29T16:25:04.103Z"
   },
   {
    "duration": 36,
    "start_time": "2021-12-29T16:27:33.364Z"
   },
   {
    "duration": 24,
    "start_time": "2021-12-29T16:28:02.077Z"
   },
   {
    "duration": 570,
    "start_time": "2021-12-29T16:36:54.346Z"
   },
   {
    "duration": 595,
    "start_time": "2021-12-29T16:37:50.652Z"
   },
   {
    "duration": 625,
    "start_time": "2021-12-29T16:38:03.113Z"
   },
   {
    "duration": 36,
    "start_time": "2021-12-29T16:43:58.057Z"
   },
   {
    "duration": 470,
    "start_time": "2021-12-29T16:44:26.129Z"
   },
   {
    "duration": 36,
    "start_time": "2021-12-29T16:44:37.109Z"
   },
   {
    "duration": 41,
    "start_time": "2021-12-29T16:45:29.723Z"
   },
   {
    "duration": 42,
    "start_time": "2021-12-29T16:46:00.313Z"
   },
   {
    "duration": 34,
    "start_time": "2021-12-29T16:50:14.597Z"
   },
   {
    "duration": 28,
    "start_time": "2021-12-29T16:50:34.866Z"
   },
   {
    "duration": 5,
    "start_time": "2021-12-29T17:05:22.812Z"
   },
   {
    "duration": 8,
    "start_time": "2021-12-29T17:05:48.190Z"
   },
   {
    "duration": 1546,
    "start_time": "2021-12-29T17:06:21.419Z"
   },
   {
    "duration": 338,
    "start_time": "2021-12-29T17:06:22.968Z"
   },
   {
    "duration": 26,
    "start_time": "2021-12-29T17:06:23.309Z"
   },
   {
    "duration": 28,
    "start_time": "2021-12-29T17:06:23.338Z"
   },
   {
    "duration": 44,
    "start_time": "2021-12-29T17:06:23.368Z"
   },
   {
    "duration": 5,
    "start_time": "2021-12-29T17:06:23.415Z"
   },
   {
    "duration": 383,
    "start_time": "2021-12-29T17:06:23.422Z"
   },
   {
    "duration": 22,
    "start_time": "2021-12-29T17:06:23.808Z"
   },
   {
    "duration": 33,
    "start_time": "2021-12-29T17:06:23.834Z"
   },
   {
    "duration": 14,
    "start_time": "2021-12-29T17:06:23.871Z"
   },
   {
    "duration": 12,
    "start_time": "2021-12-29T17:06:23.887Z"
   },
   {
    "duration": 5,
    "start_time": "2021-12-29T17:06:23.902Z"
   },
   {
    "duration": 11,
    "start_time": "2021-12-29T17:06:23.910Z"
   },
   {
    "duration": 13,
    "start_time": "2021-12-29T17:06:23.963Z"
   },
   {
    "duration": 5,
    "start_time": "2021-12-29T17:06:23.979Z"
   },
   {
    "duration": 5,
    "start_time": "2021-12-29T17:06:23.986Z"
   },
   {
    "duration": 8,
    "start_time": "2021-12-29T17:06:23.993Z"
   },
   {
    "duration": 19,
    "start_time": "2021-12-29T17:06:24.003Z"
   },
   {
    "duration": 53,
    "start_time": "2021-12-29T17:06:24.025Z"
   },
   {
    "duration": 25,
    "start_time": "2021-12-29T17:06:24.080Z"
   },
   {
    "duration": 1033,
    "start_time": "2021-12-29T17:06:24.108Z"
   },
   {
    "duration": 59,
    "start_time": "2021-12-29T17:06:25.144Z"
   },
   {
    "duration": 23,
    "start_time": "2021-12-29T17:06:25.206Z"
   },
   {
    "duration": 643,
    "start_time": "2021-12-29T17:06:25.232Z"
   },
   {
    "duration": 443,
    "start_time": "2021-12-29T17:07:43.496Z"
   },
   {
    "duration": 1554,
    "start_time": "2021-12-29T17:08:00.113Z"
   },
   {
    "duration": 249,
    "start_time": "2021-12-29T17:08:01.670Z"
   },
   {
    "duration": 40,
    "start_time": "2021-12-29T17:08:01.924Z"
   },
   {
    "duration": 36,
    "start_time": "2021-12-29T17:08:01.969Z"
   },
   {
    "duration": 77,
    "start_time": "2021-12-29T17:08:02.008Z"
   },
   {
    "duration": 7,
    "start_time": "2021-12-29T17:08:02.088Z"
   },
   {
    "duration": 380,
    "start_time": "2021-12-29T17:08:02.097Z"
   },
   {
    "duration": 22,
    "start_time": "2021-12-29T17:08:02.481Z"
   },
   {
    "duration": 7,
    "start_time": "2021-12-29T17:08:02.506Z"
   },
   {
    "duration": 46,
    "start_time": "2021-12-29T17:08:02.516Z"
   },
   {
    "duration": 12,
    "start_time": "2021-12-29T17:08:02.565Z"
   },
   {
    "duration": 12,
    "start_time": "2021-12-29T17:08:02.580Z"
   },
   {
    "duration": 13,
    "start_time": "2021-12-29T17:08:02.595Z"
   },
   {
    "duration": 19,
    "start_time": "2021-12-29T17:08:02.610Z"
   },
   {
    "duration": 31,
    "start_time": "2021-12-29T17:08:02.632Z"
   },
   {
    "duration": 15,
    "start_time": "2021-12-29T17:08:02.667Z"
   },
   {
    "duration": 10,
    "start_time": "2021-12-29T17:08:02.685Z"
   },
   {
    "duration": 16,
    "start_time": "2021-12-29T17:08:02.698Z"
   },
   {
    "duration": 17,
    "start_time": "2021-12-29T17:08:02.717Z"
   },
   {
    "duration": 23,
    "start_time": "2021-12-29T17:08:02.763Z"
   },
   {
    "duration": 1007,
    "start_time": "2021-12-29T17:08:02.788Z"
   },
   {
    "duration": 456,
    "start_time": "2021-12-29T17:08:03.797Z"
   },
   {
    "duration": 68,
    "start_time": "2021-12-29T17:08:04.187Z"
   },
   {
    "duration": 68,
    "start_time": "2021-12-29T17:08:04.189Z"
   },
   {
    "duration": 323,
    "start_time": "2021-12-29T17:08:46.956Z"
   },
   {
    "duration": 1446,
    "start_time": "2021-12-29T17:09:03.097Z"
   },
   {
    "duration": 237,
    "start_time": "2021-12-29T17:09:04.546Z"
   },
   {
    "duration": 24,
    "start_time": "2021-12-29T17:09:04.787Z"
   },
   {
    "duration": 16,
    "start_time": "2021-12-29T17:09:04.813Z"
   },
   {
    "duration": 68,
    "start_time": "2021-12-29T17:09:04.831Z"
   },
   {
    "duration": 4,
    "start_time": "2021-12-29T17:09:04.902Z"
   },
   {
    "duration": 333,
    "start_time": "2021-12-29T17:09:04.909Z"
   },
   {
    "duration": 23,
    "start_time": "2021-12-29T17:09:05.264Z"
   },
   {
    "duration": 6,
    "start_time": "2021-12-29T17:09:05.289Z"
   },
   {
    "duration": 21,
    "start_time": "2021-12-29T17:09:05.298Z"
   },
   {
    "duration": 15,
    "start_time": "2021-12-29T17:09:05.321Z"
   },
   {
    "duration": 25,
    "start_time": "2021-12-29T17:09:05.338Z"
   },
   {
    "duration": 10,
    "start_time": "2021-12-29T17:09:05.366Z"
   },
   {
    "duration": 16,
    "start_time": "2021-12-29T17:09:05.378Z"
   },
   {
    "duration": 5,
    "start_time": "2021-12-29T17:09:05.397Z"
   },
   {
    "duration": 15,
    "start_time": "2021-12-29T17:09:05.405Z"
   },
   {
    "duration": 12,
    "start_time": "2021-12-29T17:09:05.423Z"
   },
   {
    "duration": 41,
    "start_time": "2021-12-29T17:09:05.438Z"
   },
   {
    "duration": 18,
    "start_time": "2021-12-29T17:09:05.481Z"
   },
   {
    "duration": 23,
    "start_time": "2021-12-29T17:09:05.501Z"
   },
   {
    "duration": 982,
    "start_time": "2021-12-29T17:09:05.527Z"
   },
   {
    "duration": 66,
    "start_time": "2021-12-29T17:09:06.512Z"
   },
   {
    "duration": 31,
    "start_time": "2021-12-29T17:09:06.584Z"
   },
   {
    "duration": 727,
    "start_time": "2021-12-29T17:09:06.618Z"
   },
   {
    "duration": 1453,
    "start_time": "2021-12-29T17:10:01.205Z"
   },
   {
    "duration": 232,
    "start_time": "2021-12-29T17:10:02.663Z"
   },
   {
    "duration": 23,
    "start_time": "2021-12-29T17:10:02.898Z"
   },
   {
    "duration": 16,
    "start_time": "2021-12-29T17:10:02.924Z"
   },
   {
    "duration": 61,
    "start_time": "2021-12-29T17:10:02.943Z"
   },
   {
    "duration": 6,
    "start_time": "2021-12-29T17:10:03.006Z"
   },
   {
    "duration": 351,
    "start_time": "2021-12-29T17:10:03.014Z"
   },
   {
    "duration": 24,
    "start_time": "2021-12-29T17:10:03.369Z"
   },
   {
    "duration": 6,
    "start_time": "2021-12-29T17:10:03.396Z"
   },
   {
    "duration": 8,
    "start_time": "2021-12-29T17:10:03.404Z"
   },
   {
    "duration": 53,
    "start_time": "2021-12-29T17:10:03.415Z"
   },
   {
    "duration": 6,
    "start_time": "2021-12-29T17:10:03.471Z"
   },
   {
    "duration": 13,
    "start_time": "2021-12-29T17:10:03.479Z"
   },
   {
    "duration": 17,
    "start_time": "2021-12-29T17:10:03.494Z"
   },
   {
    "duration": 5,
    "start_time": "2021-12-29T17:10:03.514Z"
   },
   {
    "duration": 5,
    "start_time": "2021-12-29T17:10:03.521Z"
   },
   {
    "duration": 36,
    "start_time": "2021-12-29T17:10:03.528Z"
   },
   {
    "duration": 14,
    "start_time": "2021-12-29T17:10:03.567Z"
   },
   {
    "duration": 16,
    "start_time": "2021-12-29T17:10:03.583Z"
   },
   {
    "duration": 22,
    "start_time": "2021-12-29T17:10:03.601Z"
   },
   {
    "duration": 1116,
    "start_time": "2021-12-29T17:10:03.626Z"
   },
   {
    "duration": 48,
    "start_time": "2021-12-29T17:10:04.744Z"
   },
   {
    "duration": 22,
    "start_time": "2021-12-29T17:10:04.796Z"
   },
   {
    "duration": 649,
    "start_time": "2021-12-29T17:10:04.820Z"
   },
   {
    "duration": 41,
    "start_time": "2021-12-29T17:10:17.373Z"
   },
   {
    "duration": 39,
    "start_time": "2021-12-29T17:11:01.758Z"
   },
   {
    "duration": 35,
    "start_time": "2021-12-29T17:11:15.355Z"
   },
   {
    "duration": 468,
    "start_time": "2021-12-29T17:12:09.066Z"
   },
   {
    "duration": 1065,
    "start_time": "2021-12-29T17:12:20.560Z"
   },
   {
    "duration": 40,
    "start_time": "2021-12-29T17:12:26.964Z"
   },
   {
    "duration": 42,
    "start_time": "2021-12-29T17:12:43.061Z"
   },
   {
    "duration": 615,
    "start_time": "2021-12-29T17:14:53.603Z"
   },
   {
    "duration": 23,
    "start_time": "2021-12-29T17:20:14.553Z"
   },
   {
    "duration": 609,
    "start_time": "2021-12-29T17:20:18.088Z"
   },
   {
    "duration": 43,
    "start_time": "2021-12-29T17:21:31.370Z"
   },
   {
    "duration": 40,
    "start_time": "2021-12-29T17:31:34.203Z"
   },
   {
    "duration": 41,
    "start_time": "2021-12-29T17:31:57.097Z"
   },
   {
    "duration": 36,
    "start_time": "2021-12-29T17:34:36.042Z"
   },
   {
    "duration": 36,
    "start_time": "2021-12-29T17:36:35.279Z"
   },
   {
    "duration": 12,
    "start_time": "2021-12-29T17:39:43.233Z"
   },
   {
    "duration": 55,
    "start_time": "2021-12-29T17:45:05.262Z"
   },
   {
    "duration": 10,
    "start_time": "2021-12-29T17:55:17.875Z"
   },
   {
    "duration": 14,
    "start_time": "2021-12-29T18:05:26.900Z"
   },
   {
    "duration": 19,
    "start_time": "2021-12-29T18:05:36.211Z"
   },
   {
    "duration": 1372,
    "start_time": "2021-12-29T18:06:47.935Z"
   },
   {
    "duration": 1414,
    "start_time": "2021-12-29T18:08:29.483Z"
   },
   {
    "duration": 1844,
    "start_time": "2021-12-29T18:09:18.928Z"
   },
   {
    "duration": 1380,
    "start_time": "2021-12-29T18:10:58.962Z"
   },
   {
    "duration": 15,
    "start_time": "2021-12-29T18:12:03.986Z"
   },
   {
    "duration": 18,
    "start_time": "2021-12-29T18:12:18.759Z"
   },
   {
    "duration": 20,
    "start_time": "2021-12-29T18:14:43.690Z"
   },
   {
    "duration": 23,
    "start_time": "2021-12-29T18:18:11.835Z"
   },
   {
    "duration": 22,
    "start_time": "2021-12-29T18:19:46.011Z"
   },
   {
    "duration": 24,
    "start_time": "2021-12-29T18:23:06.634Z"
   },
   {
    "duration": 23,
    "start_time": "2021-12-29T18:23:32.308Z"
   },
   {
    "duration": 24,
    "start_time": "2021-12-29T18:23:52.781Z"
   },
   {
    "duration": 26,
    "start_time": "2021-12-29T18:24:02.127Z"
   },
   {
    "duration": 29,
    "start_time": "2021-12-29T18:27:20.063Z"
   },
   {
    "duration": 30,
    "start_time": "2021-12-29T18:27:37.946Z"
   },
   {
    "duration": 38,
    "start_time": "2021-12-29T18:29:56.562Z"
   },
   {
    "duration": 43,
    "start_time": "2021-12-29T18:33:33.316Z"
   },
   {
    "duration": 520,
    "start_time": "2021-12-29T18:34:28.956Z"
   },
   {
    "duration": 34,
    "start_time": "2021-12-29T18:54:28.465Z"
   },
   {
    "duration": 52,
    "start_time": "2021-12-29T18:55:22.456Z"
   },
   {
    "duration": 37,
    "start_time": "2021-12-29T18:55:52.692Z"
   },
   {
    "duration": 38,
    "start_time": "2021-12-29T18:56:16.382Z"
   },
   {
    "duration": 793,
    "start_time": "2021-12-29T20:07:16.075Z"
   },
   {
    "duration": 1059,
    "start_time": "2021-12-29T20:07:32.893Z"
   },
   {
    "duration": 17,
    "start_time": "2021-12-29T20:29:59.673Z"
   },
   {
    "duration": 15,
    "start_time": "2021-12-29T20:31:13.600Z"
   },
   {
    "duration": 372,
    "start_time": "2021-12-29T20:35:57.696Z"
   },
   {
    "duration": 339,
    "start_time": "2021-12-29T20:36:37.666Z"
   },
   {
    "duration": 94,
    "start_time": "2021-12-29T20:37:11.899Z"
   },
   {
    "duration": 537,
    "start_time": "2021-12-29T20:52:37.589Z"
   },
   {
    "duration": 535,
    "start_time": "2021-12-29T20:52:43.041Z"
   },
   {
    "duration": 2028,
    "start_time": "2021-12-29T20:52:50.086Z"
   },
   {
    "duration": 280,
    "start_time": "2021-12-29T20:52:52.118Z"
   },
   {
    "duration": 26,
    "start_time": "2021-12-29T20:52:52.402Z"
   },
   {
    "duration": 32,
    "start_time": "2021-12-29T20:52:52.431Z"
   },
   {
    "duration": 69,
    "start_time": "2021-12-29T20:52:52.467Z"
   },
   {
    "duration": 26,
    "start_time": "2021-12-29T20:52:52.539Z"
   },
   {
    "duration": 508,
    "start_time": "2021-12-29T20:52:52.568Z"
   },
   {
    "duration": 24,
    "start_time": "2021-12-29T20:52:53.082Z"
   },
   {
    "duration": 8,
    "start_time": "2021-12-29T20:52:53.110Z"
   },
   {
    "duration": 44,
    "start_time": "2021-12-29T20:52:53.120Z"
   },
   {
    "duration": 9,
    "start_time": "2021-12-29T20:52:53.167Z"
   },
   {
    "duration": 7,
    "start_time": "2021-12-29T20:52:53.179Z"
   },
   {
    "duration": 12,
    "start_time": "2021-12-29T20:52:53.189Z"
   },
   {
    "duration": 23,
    "start_time": "2021-12-29T20:52:53.204Z"
   },
   {
    "duration": 35,
    "start_time": "2021-12-29T20:52:53.230Z"
   },
   {
    "duration": 6,
    "start_time": "2021-12-29T20:52:53.269Z"
   },
   {
    "duration": 9,
    "start_time": "2021-12-29T20:52:53.278Z"
   },
   {
    "duration": 16,
    "start_time": "2021-12-29T20:52:53.290Z"
   },
   {
    "duration": 56,
    "start_time": "2021-12-29T20:52:53.308Z"
   },
   {
    "duration": 32,
    "start_time": "2021-12-29T20:52:53.366Z"
   },
   {
    "duration": 36,
    "start_time": "2021-12-29T20:52:53.401Z"
   },
   {
    "duration": 1401,
    "start_time": "2021-12-29T20:52:53.464Z"
   },
   {
    "duration": 33,
    "start_time": "2021-12-29T20:52:54.870Z"
   },
   {
    "duration": 1573,
    "start_time": "2021-12-29T20:52:54.906Z"
   },
   {
    "duration": 83,
    "start_time": "2021-12-29T20:52:56.482Z"
   },
   {
    "duration": 35,
    "start_time": "2021-12-29T20:52:56.568Z"
   },
   {
    "duration": 112,
    "start_time": "2021-12-29T20:52:56.606Z"
   },
   {
    "duration": 58,
    "start_time": "2021-12-29T20:52:56.722Z"
   },
   {
    "duration": 17,
    "start_time": "2021-12-29T20:52:56.783Z"
   },
   {
    "duration": 21,
    "start_time": "2021-12-29T20:52:56.802Z"
   },
   {
    "duration": 706,
    "start_time": "2021-12-29T20:52:56.863Z"
   },
   {
    "duration": 900,
    "start_time": "2021-12-29T20:53:01.490Z"
   },
   {
    "duration": 906,
    "start_time": "2021-12-29T20:53:18.270Z"
   },
   {
    "duration": 27,
    "start_time": "2021-12-29T20:56:06.526Z"
   },
   {
    "duration": 2136,
    "start_time": "2021-12-29T20:56:14.018Z"
   },
   {
    "duration": 258,
    "start_time": "2021-12-29T20:56:16.158Z"
   },
   {
    "duration": 43,
    "start_time": "2021-12-29T20:56:16.421Z"
   },
   {
    "duration": 18,
    "start_time": "2021-12-29T20:56:16.468Z"
   },
   {
    "duration": 73,
    "start_time": "2021-12-29T20:56:16.489Z"
   },
   {
    "duration": 6,
    "start_time": "2021-12-29T20:56:16.565Z"
   },
   {
    "duration": 357,
    "start_time": "2021-12-29T20:56:16.575Z"
   },
   {
    "duration": 59,
    "start_time": "2021-12-29T20:56:16.936Z"
   },
   {
    "duration": 7,
    "start_time": "2021-12-29T20:56:16.998Z"
   },
   {
    "duration": 16,
    "start_time": "2021-12-29T20:56:17.007Z"
   },
   {
    "duration": 38,
    "start_time": "2021-12-29T20:56:17.026Z"
   },
   {
    "duration": 8,
    "start_time": "2021-12-29T20:56:17.068Z"
   },
   {
    "duration": 13,
    "start_time": "2021-12-29T20:56:17.079Z"
   },
   {
    "duration": 15,
    "start_time": "2021-12-29T20:56:17.096Z"
   },
   {
    "duration": 8,
    "start_time": "2021-12-29T20:56:17.114Z"
   },
   {
    "duration": 44,
    "start_time": "2021-12-29T20:56:17.124Z"
   },
   {
    "duration": 10,
    "start_time": "2021-12-29T20:56:17.171Z"
   },
   {
    "duration": 18,
    "start_time": "2021-12-29T20:56:17.184Z"
   },
   {
    "duration": 17,
    "start_time": "2021-12-29T20:56:17.205Z"
   },
   {
    "duration": 70,
    "start_time": "2021-12-29T20:56:17.225Z"
   },
   {
    "duration": 29,
    "start_time": "2021-12-29T20:56:17.298Z"
   },
   {
    "duration": 1021,
    "start_time": "2021-12-29T20:56:17.331Z"
   },
   {
    "duration": 25,
    "start_time": "2021-12-29T20:56:18.363Z"
   },
   {
    "duration": 1184,
    "start_time": "2021-12-29T20:56:18.392Z"
   },
   {
    "duration": 44,
    "start_time": "2021-12-29T20:56:19.579Z"
   },
   {
    "duration": 58,
    "start_time": "2021-12-29T20:56:19.626Z"
   },
   {
    "duration": 76,
    "start_time": "2021-12-29T20:56:19.687Z"
   },
   {
    "duration": 38,
    "start_time": "2021-12-29T20:56:19.766Z"
   },
   {
    "duration": 18,
    "start_time": "2021-12-29T20:56:19.807Z"
   },
   {
    "duration": 49,
    "start_time": "2021-12-29T20:56:19.828Z"
   },
   {
    "duration": 346,
    "start_time": "2021-12-29T20:56:19.879Z"
   },
   {
    "duration": 2106,
    "start_time": "2021-12-29T20:58:25.440Z"
   },
   {
    "duration": 263,
    "start_time": "2021-12-29T20:58:27.550Z"
   },
   {
    "duration": 46,
    "start_time": "2021-12-29T20:58:27.822Z"
   },
   {
    "duration": 23,
    "start_time": "2021-12-29T20:58:27.872Z"
   },
   {
    "duration": 91,
    "start_time": "2021-12-29T20:58:27.898Z"
   },
   {
    "duration": 6,
    "start_time": "2021-12-29T20:58:27.992Z"
   },
   {
    "duration": 335,
    "start_time": "2021-12-29T20:58:28.002Z"
   },
   {
    "duration": 42,
    "start_time": "2021-12-29T20:58:28.340Z"
   },
   {
    "duration": 6,
    "start_time": "2021-12-29T20:58:28.384Z"
   },
   {
    "duration": 8,
    "start_time": "2021-12-29T20:58:28.393Z"
   },
   {
    "duration": 10,
    "start_time": "2021-12-29T20:58:28.404Z"
   },
   {
    "duration": 46,
    "start_time": "2021-12-29T20:58:28.417Z"
   },
   {
    "duration": 10,
    "start_time": "2021-12-29T20:58:28.465Z"
   },
   {
    "duration": 16,
    "start_time": "2021-12-29T20:58:28.477Z"
   },
   {
    "duration": 6,
    "start_time": "2021-12-29T20:58:28.495Z"
   },
   {
    "duration": 4,
    "start_time": "2021-12-29T20:58:28.503Z"
   },
   {
    "duration": 11,
    "start_time": "2021-12-29T20:58:28.510Z"
   },
   {
    "duration": 57,
    "start_time": "2021-12-29T20:58:28.523Z"
   },
   {
    "duration": 16,
    "start_time": "2021-12-29T20:58:28.583Z"
   },
   {
    "duration": 30,
    "start_time": "2021-12-29T20:58:28.601Z"
   },
   {
    "duration": 63,
    "start_time": "2021-12-29T20:58:28.634Z"
   },
   {
    "duration": 991,
    "start_time": "2021-12-29T20:58:28.704Z"
   },
   {
    "duration": 25,
    "start_time": "2021-12-29T20:58:29.698Z"
   },
   {
    "duration": 1083,
    "start_time": "2021-12-29T20:58:29.726Z"
   },
   {
    "duration": 59,
    "start_time": "2021-12-29T20:58:30.811Z"
   },
   {
    "duration": 26,
    "start_time": "2021-12-29T20:58:30.872Z"
   },
   {
    "duration": 77,
    "start_time": "2021-12-29T20:58:30.900Z"
   },
   {
    "duration": 39,
    "start_time": "2021-12-29T20:58:30.981Z"
   },
   {
    "duration": 43,
    "start_time": "2021-12-29T20:58:31.023Z"
   },
   {
    "duration": 19,
    "start_time": "2021-12-29T20:58:31.069Z"
   },
   {
    "duration": 781,
    "start_time": "2021-12-29T20:58:31.091Z"
   },
   {
    "duration": 33,
    "start_time": "2021-12-29T21:00:12.932Z"
   },
   {
    "duration": 45,
    "start_time": "2021-12-29T21:00:54.510Z"
   },
   {
    "duration": 630,
    "start_time": "2021-12-29T21:02:05.482Z"
   },
   {
    "duration": 646,
    "start_time": "2021-12-29T21:02:32.859Z"
   },
   {
    "duration": 674,
    "start_time": "2021-12-29T21:02:48.288Z"
   },
   {
    "duration": 601,
    "start_time": "2021-12-29T21:03:04.579Z"
   },
   {
    "duration": 751,
    "start_time": "2021-12-29T21:03:25.593Z"
   },
   {
    "duration": 1520,
    "start_time": "2021-12-29T21:04:35.658Z"
   },
   {
    "duration": 2253,
    "start_time": "2021-12-29T21:04:49.372Z"
   },
   {
    "duration": 1317,
    "start_time": "2021-12-29T21:05:05.581Z"
   },
   {
    "duration": 856,
    "start_time": "2021-12-29T21:05:18.803Z"
   },
   {
    "duration": 52,
    "start_time": "2021-12-29T21:07:40.544Z"
   },
   {
    "duration": 630,
    "start_time": "2021-12-29T21:09:05.638Z"
   },
   {
    "duration": 598,
    "start_time": "2021-12-29T21:09:17.082Z"
   },
   {
    "duration": 53,
    "start_time": "2021-12-29T21:11:01.417Z"
   },
   {
    "duration": 516,
    "start_time": "2021-12-29T21:11:28.995Z"
   },
   {
    "duration": 71,
    "start_time": "2021-12-29T21:11:36.886Z"
   },
   {
    "duration": 15,
    "start_time": "2021-12-29T21:12:52.713Z"
   },
   {
    "duration": 14,
    "start_time": "2021-12-29T21:25:33.381Z"
   },
   {
    "duration": 14,
    "start_time": "2021-12-29T21:27:47.669Z"
   },
   {
    "duration": 14,
    "start_time": "2021-12-29T21:27:57.499Z"
   },
   {
    "duration": 38,
    "start_time": "2021-12-29T21:28:04.932Z"
   },
   {
    "duration": 14,
    "start_time": "2021-12-29T21:29:04.965Z"
   },
   {
    "duration": 19,
    "start_time": "2021-12-29T21:30:22.750Z"
   },
   {
    "duration": 18,
    "start_time": "2021-12-29T21:30:31.906Z"
   },
   {
    "duration": 15,
    "start_time": "2021-12-29T21:31:31.635Z"
   },
   {
    "duration": 8,
    "start_time": "2021-12-29T21:43:32.929Z"
   },
   {
    "duration": 19,
    "start_time": "2021-12-29T21:43:40.164Z"
   },
   {
    "duration": 12,
    "start_time": "2021-12-29T21:46:22.615Z"
   },
   {
    "duration": 1581,
    "start_time": "2021-12-29T21:48:12.534Z"
   },
   {
    "duration": 18,
    "start_time": "2021-12-29T21:52:18.222Z"
   },
   {
    "duration": 12,
    "start_time": "2021-12-29T21:52:22.585Z"
   },
   {
    "duration": 1463,
    "start_time": "2021-12-29T21:52:28.068Z"
   },
   {
    "duration": 20,
    "start_time": "2021-12-29T21:52:57.352Z"
   },
   {
    "duration": 14,
    "start_time": "2021-12-29T21:52:59.826Z"
   },
   {
    "duration": 1725,
    "start_time": "2021-12-29T21:53:02.154Z"
   },
   {
    "duration": 20,
    "start_time": "2021-12-29T21:53:19.793Z"
   },
   {
    "duration": 12,
    "start_time": "2021-12-29T21:53:22.346Z"
   },
   {
    "duration": 1408,
    "start_time": "2021-12-29T21:53:26.304Z"
   },
   {
    "duration": 21,
    "start_time": "2021-12-29T21:53:47.658Z"
   },
   {
    "duration": 12,
    "start_time": "2021-12-29T21:53:50.946Z"
   },
   {
    "duration": 1697,
    "start_time": "2021-12-29T21:53:53.555Z"
   },
   {
    "duration": 23,
    "start_time": "2021-12-29T22:07:40.085Z"
   },
   {
    "duration": 29,
    "start_time": "2021-12-29T22:07:58.450Z"
   },
   {
    "duration": 363,
    "start_time": "2021-12-29T22:32:59.463Z"
   },
   {
    "duration": 21,
    "start_time": "2021-12-29T22:33:03.781Z"
   },
   {
    "duration": 20,
    "start_time": "2021-12-29T22:33:53.436Z"
   },
   {
    "duration": 22,
    "start_time": "2021-12-29T22:34:47.407Z"
   },
   {
    "duration": 40,
    "start_time": "2021-12-29T22:44:29.563Z"
   },
   {
    "duration": 25,
    "start_time": "2021-12-29T22:45:10.020Z"
   },
   {
    "duration": 24,
    "start_time": "2021-12-29T22:45:17.026Z"
   },
   {
    "duration": 8225,
    "start_time": "2021-12-29T22:45:43.542Z"
   },
   {
    "duration": 24,
    "start_time": "2021-12-29T22:46:01.882Z"
   },
   {
    "duration": 25,
    "start_time": "2021-12-29T22:46:23.152Z"
   },
   {
    "duration": 22,
    "start_time": "2021-12-29T22:54:37.293Z"
   },
   {
    "duration": 30,
    "start_time": "2021-12-29T22:54:54.734Z"
   },
   {
    "duration": 23,
    "start_time": "2021-12-29T22:55:11.104Z"
   },
   {
    "duration": 22,
    "start_time": "2021-12-29T23:03:30.429Z"
   },
   {
    "duration": 20,
    "start_time": "2021-12-29T23:04:14.730Z"
   },
   {
    "duration": 22,
    "start_time": "2021-12-29T23:04:32.723Z"
   },
   {
    "duration": 10,
    "start_time": "2021-12-29T23:23:15.538Z"
   },
   {
    "duration": 543,
    "start_time": "2021-12-29T23:24:11.529Z"
   },
   {
    "duration": 430,
    "start_time": "2021-12-29T23:24:19.682Z"
   },
   {
    "duration": 15,
    "start_time": "2021-12-29T23:24:40.972Z"
   },
   {
    "duration": 16,
    "start_time": "2021-12-29T23:25:28.513Z"
   },
   {
    "duration": 18,
    "start_time": "2021-12-29T23:26:47.022Z"
   },
   {
    "duration": 5,
    "start_time": "2021-12-29T23:27:20.843Z"
   },
   {
    "duration": 7,
    "start_time": "2021-12-29T23:27:43.985Z"
   },
   {
    "duration": 7,
    "start_time": "2021-12-29T23:32:17.694Z"
   },
   {
    "duration": 6,
    "start_time": "2021-12-29T23:33:10.879Z"
   },
   {
    "duration": 13,
    "start_time": "2021-12-29T23:34:27.496Z"
   },
   {
    "duration": 14,
    "start_time": "2021-12-29T23:35:50.012Z"
   },
   {
    "duration": 10,
    "start_time": "2021-12-29T23:36:03.442Z"
   },
   {
    "duration": 1534,
    "start_time": "2021-12-29T23:36:12.920Z"
   },
   {
    "duration": 252,
    "start_time": "2021-12-29T23:36:14.457Z"
   },
   {
    "duration": 27,
    "start_time": "2021-12-29T23:36:14.715Z"
   },
   {
    "duration": 20,
    "start_time": "2021-12-29T23:36:14.745Z"
   },
   {
    "duration": 45,
    "start_time": "2021-12-29T23:36:14.769Z"
   },
   {
    "duration": 6,
    "start_time": "2021-12-29T23:36:14.817Z"
   },
   {
    "duration": 359,
    "start_time": "2021-12-29T23:36:14.865Z"
   },
   {
    "duration": 46,
    "start_time": "2021-12-29T23:36:15.228Z"
   },
   {
    "duration": 7,
    "start_time": "2021-12-29T23:36:15.277Z"
   },
   {
    "duration": 8,
    "start_time": "2021-12-29T23:36:15.287Z"
   },
   {
    "duration": 10,
    "start_time": "2021-12-29T23:36:15.298Z"
   },
   {
    "duration": 5,
    "start_time": "2021-12-29T23:36:15.310Z"
   },
   {
    "duration": 49,
    "start_time": "2021-12-29T23:36:15.318Z"
   },
   {
    "duration": 17,
    "start_time": "2021-12-29T23:36:15.369Z"
   },
   {
    "duration": 8,
    "start_time": "2021-12-29T23:36:15.388Z"
   },
   {
    "duration": 6,
    "start_time": "2021-12-29T23:36:15.399Z"
   },
   {
    "duration": 9,
    "start_time": "2021-12-29T23:36:15.408Z"
   },
   {
    "duration": 54,
    "start_time": "2021-12-29T23:36:15.419Z"
   },
   {
    "duration": 17,
    "start_time": "2021-12-29T23:36:15.475Z"
   },
   {
    "duration": 31,
    "start_time": "2021-12-29T23:36:15.495Z"
   },
   {
    "duration": 60,
    "start_time": "2021-12-29T23:36:15.529Z"
   },
   {
    "duration": 985,
    "start_time": "2021-12-29T23:36:15.595Z"
   },
   {
    "duration": 23,
    "start_time": "2021-12-29T23:36:16.583Z"
   },
   {
    "duration": 1071,
    "start_time": "2021-12-29T23:36:16.609Z"
   },
   {
    "duration": 41,
    "start_time": "2021-12-29T23:36:17.683Z"
   },
   {
    "duration": 62,
    "start_time": "2021-12-29T23:36:17.727Z"
   },
   {
    "duration": 73,
    "start_time": "2021-12-29T23:36:17.791Z"
   },
   {
    "duration": 43,
    "start_time": "2021-12-29T23:36:17.868Z"
   },
   {
    "duration": 17,
    "start_time": "2021-12-29T23:36:17.915Z"
   },
   {
    "duration": 22,
    "start_time": "2021-12-29T23:36:17.962Z"
   },
   {
    "duration": 812,
    "start_time": "2021-12-29T23:36:17.987Z"
   },
   {
    "duration": 14,
    "start_time": "2021-12-29T23:36:18.802Z"
   },
   {
    "duration": 14,
    "start_time": "2021-12-29T23:36:18.819Z"
   },
   {
    "duration": 13,
    "start_time": "2021-12-29T23:36:18.863Z"
   },
   {
    "duration": 12,
    "start_time": "2021-12-29T23:36:18.879Z"
   },
   {
    "duration": 14,
    "start_time": "2021-12-29T23:36:18.893Z"
   },
   {
    "duration": 56,
    "start_time": "2021-12-29T23:36:18.909Z"
   },
   {
    "duration": 23,
    "start_time": "2021-12-29T23:36:18.968Z"
   },
   {
    "duration": 15,
    "start_time": "2021-12-29T23:36:18.993Z"
   },
   {
    "duration": 1756,
    "start_time": "2021-12-29T23:36:19.010Z"
   },
   {
    "duration": 22,
    "start_time": "2021-12-29T23:36:20.769Z"
   },
   {
    "duration": 25,
    "start_time": "2021-12-29T23:36:20.793Z"
   },
   {
    "duration": 53,
    "start_time": "2021-12-29T23:36:20.820Z"
   },
   {
    "duration": 26,
    "start_time": "2021-12-29T23:36:20.876Z"
   },
   {
    "duration": 25,
    "start_time": "2021-12-29T23:36:20.905Z"
   },
   {
    "duration": 52,
    "start_time": "2021-12-29T23:36:20.932Z"
   },
   {
    "duration": 24,
    "start_time": "2021-12-29T23:36:20.986Z"
   },
   {
    "duration": 54,
    "start_time": "2021-12-29T23:36:21.012Z"
   },
   {
    "duration": 23,
    "start_time": "2021-12-29T23:36:21.069Z"
   },
   {
    "duration": 22,
    "start_time": "2021-12-29T23:36:21.095Z"
   },
   {
    "duration": 55,
    "start_time": "2021-12-29T23:36:21.120Z"
   },
   {
    "duration": 17,
    "start_time": "2021-12-29T23:36:21.178Z"
   },
   {
    "duration": 18,
    "start_time": "2021-12-29T23:36:21.198Z"
   },
   {
    "duration": 44,
    "start_time": "2021-12-29T23:36:21.219Z"
   },
   {
    "duration": 7,
    "start_time": "2021-12-29T23:36:21.265Z"
   },
   {
    "duration": 729,
    "start_time": "2021-12-29T23:36:21.274Z"
   },
   {
    "duration": 837,
    "start_time": "2021-12-29T23:36:21.169Z"
   },
   {
    "duration": 356,
    "start_time": "2021-12-29T23:36:31.956Z"
   },
   {
    "duration": 15,
    "start_time": "2021-12-29T23:36:36.894Z"
   },
   {
    "duration": 17,
    "start_time": "2021-12-29T23:36:53.588Z"
   },
   {
    "duration": 35,
    "start_time": "2021-12-29T23:37:02.420Z"
   },
   {
    "duration": 14,
    "start_time": "2021-12-29T23:37:25.143Z"
   },
   {
    "duration": 300,
    "start_time": "2021-12-29T23:37:30.914Z"
   },
   {
    "duration": 15,
    "start_time": "2021-12-29T23:37:34.817Z"
   },
   {
    "duration": 432,
    "start_time": "2021-12-29T23:41:36.984Z"
   },
   {
    "duration": 14,
    "start_time": "2021-12-29T23:42:31.704Z"
   },
   {
    "duration": 490,
    "start_time": "2021-12-29T23:43:06.389Z"
   },
   {
    "duration": 4,
    "start_time": "2021-12-29T23:43:47.090Z"
   },
   {
    "duration": 7,
    "start_time": "2021-12-29T23:43:49.510Z"
   },
   {
    "duration": 105,
    "start_time": "2021-12-30T00:33:39.287Z"
   },
   {
    "duration": 1535,
    "start_time": "2021-12-30T00:37:55.042Z"
   },
   {
    "duration": 240,
    "start_time": "2021-12-30T00:37:56.580Z"
   },
   {
    "duration": 23,
    "start_time": "2021-12-30T00:37:56.823Z"
   },
   {
    "duration": 13,
    "start_time": "2021-12-30T00:37:56.850Z"
   },
   {
    "duration": 43,
    "start_time": "2021-12-30T00:37:56.866Z"
   },
   {
    "duration": 5,
    "start_time": "2021-12-30T00:37:56.912Z"
   },
   {
    "duration": 374,
    "start_time": "2021-12-30T00:37:56.920Z"
   },
   {
    "duration": 21,
    "start_time": "2021-12-30T00:37:57.297Z"
   },
   {
    "duration": 44,
    "start_time": "2021-12-30T00:37:57.321Z"
   },
   {
    "duration": 8,
    "start_time": "2021-12-30T00:37:57.367Z"
   },
   {
    "duration": 10,
    "start_time": "2021-12-30T00:37:57.377Z"
   },
   {
    "duration": 6,
    "start_time": "2021-12-30T00:37:57.389Z"
   },
   {
    "duration": 15,
    "start_time": "2021-12-30T00:37:57.397Z"
   },
   {
    "duration": 54,
    "start_time": "2021-12-30T00:37:57.414Z"
   },
   {
    "duration": 5,
    "start_time": "2021-12-30T00:37:57.471Z"
   },
   {
    "duration": 5,
    "start_time": "2021-12-30T00:37:57.478Z"
   },
   {
    "duration": 7,
    "start_time": "2021-12-30T00:37:57.485Z"
   },
   {
    "duration": 15,
    "start_time": "2021-12-30T00:37:57.494Z"
   },
   {
    "duration": 16,
    "start_time": "2021-12-30T00:37:57.563Z"
   },
   {
    "duration": 30,
    "start_time": "2021-12-30T00:37:57.581Z"
   },
   {
    "duration": 55,
    "start_time": "2021-12-30T00:37:57.613Z"
   },
   {
    "duration": 1003,
    "start_time": "2021-12-30T00:37:57.671Z"
   },
   {
    "duration": 29,
    "start_time": "2021-12-30T00:37:58.684Z"
   },
   {
    "duration": 1516,
    "start_time": "2021-12-30T00:37:58.716Z"
   },
   {
    "duration": 57,
    "start_time": "2021-12-30T00:38:00.236Z"
   },
   {
    "duration": 34,
    "start_time": "2021-12-30T00:38:00.295Z"
   },
   {
    "duration": 72,
    "start_time": "2021-12-30T00:38:00.332Z"
   },
   {
    "duration": 60,
    "start_time": "2021-12-30T00:38:00.407Z"
   },
   {
    "duration": 22,
    "start_time": "2021-12-30T00:38:00.470Z"
   },
   {
    "duration": 32,
    "start_time": "2021-12-30T00:38:00.496Z"
   },
   {
    "duration": 799,
    "start_time": "2021-12-30T00:38:00.531Z"
   },
   {
    "duration": 30,
    "start_time": "2021-12-30T00:38:01.333Z"
   },
   {
    "duration": 14,
    "start_time": "2021-12-30T00:38:01.365Z"
   },
   {
    "duration": 29,
    "start_time": "2021-12-30T00:38:01.381Z"
   },
   {
    "duration": 27,
    "start_time": "2021-12-30T00:38:01.413Z"
   },
   {
    "duration": 45,
    "start_time": "2021-12-30T00:38:01.443Z"
   },
   {
    "duration": 31,
    "start_time": "2021-12-30T00:38:01.491Z"
   },
   {
    "duration": 35,
    "start_time": "2021-12-30T00:38:01.525Z"
   },
   {
    "duration": 14,
    "start_time": "2021-12-30T00:38:01.562Z"
   },
   {
    "duration": 1660,
    "start_time": "2021-12-30T00:38:01.578Z"
   },
   {
    "duration": 33,
    "start_time": "2021-12-30T00:38:03.241Z"
   },
   {
    "duration": 24,
    "start_time": "2021-12-30T00:38:03.276Z"
   },
   {
    "duration": 25,
    "start_time": "2021-12-30T00:38:03.302Z"
   },
   {
    "duration": 67,
    "start_time": "2021-12-30T00:38:03.330Z"
   },
   {
    "duration": 31,
    "start_time": "2021-12-30T00:38:03.400Z"
   },
   {
    "duration": 23,
    "start_time": "2021-12-30T00:38:03.462Z"
   },
   {
    "duration": 19,
    "start_time": "2021-12-30T00:38:03.488Z"
   },
   {
    "duration": 19,
    "start_time": "2021-12-30T00:38:03.510Z"
   },
   {
    "duration": 48,
    "start_time": "2021-12-30T00:38:03.532Z"
   },
   {
    "duration": 19,
    "start_time": "2021-12-30T00:38:03.582Z"
   },
   {
    "duration": 14,
    "start_time": "2021-12-30T00:38:03.604Z"
   },
   {
    "duration": 51,
    "start_time": "2021-12-30T00:38:03.620Z"
   },
   {
    "duration": 16,
    "start_time": "2021-12-30T00:38:03.673Z"
   },
   {
    "duration": 6,
    "start_time": "2021-12-30T00:38:03.691Z"
   },
   {
    "duration": 8,
    "start_time": "2021-12-30T00:38:03.699Z"
   },
   {
    "duration": 55,
    "start_time": "2021-12-30T00:38:03.709Z"
   },
   {
    "duration": 13,
    "start_time": "2021-12-30T00:38:03.767Z"
   },
   {
    "duration": 23,
    "start_time": "2021-12-30T00:38:03.783Z"
   },
   {
    "duration": 4,
    "start_time": "2021-12-30T00:38:03.808Z"
   },
   {
    "duration": 7,
    "start_time": "2021-12-30T00:38:03.815Z"
   },
   {
    "duration": 1151,
    "start_time": "2021-12-31T10:22:21.014Z"
   },
   {
    "duration": 203,
    "start_time": "2021-12-31T10:22:22.166Z"
   },
   {
    "duration": 14,
    "start_time": "2021-12-31T10:22:22.371Z"
   },
   {
    "duration": 12,
    "start_time": "2021-12-31T10:22:22.387Z"
   },
   {
    "duration": 25,
    "start_time": "2021-12-31T10:22:22.400Z"
   },
   {
    "duration": 16,
    "start_time": "2021-12-31T10:22:22.427Z"
   },
   {
    "duration": 208,
    "start_time": "2021-12-31T10:22:22.445Z"
   },
   {
    "duration": 15,
    "start_time": "2021-12-31T10:22:22.656Z"
   },
   {
    "duration": 10,
    "start_time": "2021-12-31T10:22:22.673Z"
   },
   {
    "duration": 17,
    "start_time": "2021-12-31T10:22:22.685Z"
   },
   {
    "duration": 20,
    "start_time": "2021-12-31T10:22:22.703Z"
   },
   {
    "duration": 21,
    "start_time": "2021-12-31T10:22:22.724Z"
   },
   {
    "duration": 21,
    "start_time": "2021-12-31T10:22:22.747Z"
   },
   {
    "duration": 31,
    "start_time": "2021-12-31T10:22:22.770Z"
   },
   {
    "duration": 9,
    "start_time": "2021-12-31T10:22:22.803Z"
   },
   {
    "duration": 29,
    "start_time": "2021-12-31T10:22:22.814Z"
   },
   {
    "duration": 17,
    "start_time": "2021-12-31T10:22:22.845Z"
   },
   {
    "duration": 27,
    "start_time": "2021-12-31T10:22:22.864Z"
   },
   {
    "duration": 14,
    "start_time": "2021-12-31T10:22:22.893Z"
   },
   {
    "duration": 20,
    "start_time": "2021-12-31T10:22:22.908Z"
   },
   {
    "duration": 16,
    "start_time": "2021-12-31T10:22:22.930Z"
   },
   {
    "duration": 563,
    "start_time": "2021-12-31T10:22:22.948Z"
   },
   {
    "duration": 27,
    "start_time": "2021-12-31T10:22:23.515Z"
   },
   {
    "duration": 649,
    "start_time": "2021-12-31T10:22:23.544Z"
   },
   {
    "duration": 26,
    "start_time": "2021-12-31T10:22:24.194Z"
   },
   {
    "duration": 37,
    "start_time": "2021-12-31T10:22:24.221Z"
   },
   {
    "duration": 29,
    "start_time": "2021-12-31T10:22:24.259Z"
   },
   {
    "duration": 25,
    "start_time": "2021-12-31T10:22:24.290Z"
   },
   {
    "duration": 24,
    "start_time": "2021-12-31T10:22:24.317Z"
   },
   {
    "duration": 12,
    "start_time": "2021-12-31T10:22:24.343Z"
   },
   {
    "duration": 457,
    "start_time": "2021-12-31T10:22:24.356Z"
   },
   {
    "duration": 9,
    "start_time": "2021-12-31T10:22:24.815Z"
   },
   {
    "duration": 32,
    "start_time": "2021-12-31T10:22:24.826Z"
   },
   {
    "duration": 35,
    "start_time": "2021-12-31T10:22:24.860Z"
   },
   {
    "duration": 11,
    "start_time": "2021-12-31T10:22:24.897Z"
   },
   {
    "duration": 7,
    "start_time": "2021-12-31T10:22:24.910Z"
   },
   {
    "duration": 7,
    "start_time": "2021-12-31T10:22:24.919Z"
   },
   {
    "duration": 11,
    "start_time": "2021-12-31T10:22:24.928Z"
   },
   {
    "duration": 8,
    "start_time": "2021-12-31T10:22:24.940Z"
   },
   {
    "duration": 880,
    "start_time": "2021-12-31T10:22:24.949Z"
   },
   {
    "duration": 19,
    "start_time": "2021-12-31T10:22:25.831Z"
   },
   {
    "duration": 40,
    "start_time": "2021-12-31T10:22:25.852Z"
   },
   {
    "duration": 24,
    "start_time": "2021-12-31T10:22:25.893Z"
   },
   {
    "duration": 29,
    "start_time": "2021-12-31T10:22:25.918Z"
   },
   {
    "duration": 31,
    "start_time": "2021-12-31T10:22:25.948Z"
   },
   {
    "duration": 12,
    "start_time": "2021-12-31T10:22:25.981Z"
   },
   {
    "duration": 21,
    "start_time": "2021-12-31T10:22:25.994Z"
   },
   {
    "duration": 24,
    "start_time": "2021-12-31T10:22:26.017Z"
   },
   {
    "duration": 17,
    "start_time": "2021-12-31T10:22:26.043Z"
   },
   {
    "duration": 27,
    "start_time": "2021-12-31T10:22:26.062Z"
   },
   {
    "duration": 19,
    "start_time": "2021-12-31T10:22:26.090Z"
   },
   {
    "duration": 16,
    "start_time": "2021-12-31T10:22:26.110Z"
   },
   {
    "duration": 20,
    "start_time": "2021-12-31T10:22:26.128Z"
   },
   {
    "duration": 27,
    "start_time": "2021-12-31T10:22:26.149Z"
   },
   {
    "duration": 27,
    "start_time": "2021-12-31T10:22:26.177Z"
   },
   {
    "duration": 24,
    "start_time": "2021-12-31T10:22:26.206Z"
   },
   {
    "duration": 31,
    "start_time": "2021-12-31T10:22:26.232Z"
   },
   {
    "duration": 19,
    "start_time": "2021-12-31T10:22:26.266Z"
   },
   {
    "duration": 11,
    "start_time": "2021-12-31T10:22:26.287Z"
   },
   {
    "duration": 27,
    "start_time": "2021-12-31T10:22:26.299Z"
   },
   {
    "duration": 276,
    "start_time": "2021-12-31T10:45:20.698Z"
   },
   {
    "duration": 318,
    "start_time": "2021-12-31T10:50:07.103Z"
   },
   {
    "duration": 318,
    "start_time": "2021-12-31T10:50:21.839Z"
   },
   {
    "duration": 1055,
    "start_time": "2021-12-31T11:21:48.425Z"
   },
   {
    "duration": 192,
    "start_time": "2021-12-31T11:21:49.482Z"
   },
   {
    "duration": 15,
    "start_time": "2021-12-31T11:21:49.676Z"
   },
   {
    "duration": 13,
    "start_time": "2021-12-31T11:21:49.692Z"
   },
   {
    "duration": 29,
    "start_time": "2021-12-31T11:21:49.707Z"
   },
   {
    "duration": 5,
    "start_time": "2021-12-31T11:21:49.738Z"
   },
   {
    "duration": 197,
    "start_time": "2021-12-31T11:21:49.745Z"
   },
   {
    "duration": 13,
    "start_time": "2021-12-31T11:21:49.945Z"
   },
   {
    "duration": 4,
    "start_time": "2021-12-31T11:21:49.960Z"
   },
   {
    "duration": 9,
    "start_time": "2021-12-31T11:21:49.966Z"
   },
   {
    "duration": 6,
    "start_time": "2021-12-31T11:21:49.977Z"
   },
   {
    "duration": 4,
    "start_time": "2021-12-31T11:21:49.984Z"
   },
   {
    "duration": 8,
    "start_time": "2021-12-31T11:21:49.990Z"
   },
   {
    "duration": 16,
    "start_time": "2021-12-31T11:21:50.000Z"
   },
   {
    "duration": 23,
    "start_time": "2021-12-31T11:21:50.018Z"
   },
   {
    "duration": 5,
    "start_time": "2021-12-31T11:21:50.043Z"
   },
   {
    "duration": 20,
    "start_time": "2021-12-31T11:21:50.049Z"
   },
   {
    "duration": 26,
    "start_time": "2021-12-31T11:21:50.071Z"
   },
   {
    "duration": 17,
    "start_time": "2021-12-31T11:21:50.099Z"
   },
   {
    "duration": 31,
    "start_time": "2021-12-31T11:21:50.117Z"
   },
   {
    "duration": 43,
    "start_time": "2021-12-31T11:21:50.150Z"
   },
   {
    "duration": 536,
    "start_time": "2021-12-31T11:21:50.194Z"
   },
   {
    "duration": 19,
    "start_time": "2021-12-31T11:21:50.733Z"
   },
   {
    "duration": 581,
    "start_time": "2021-12-31T11:21:50.754Z"
   },
   {
    "duration": 24,
    "start_time": "2021-12-31T11:21:51.340Z"
   },
   {
    "duration": 18,
    "start_time": "2021-12-31T11:21:51.366Z"
   },
   {
    "duration": 26,
    "start_time": "2021-12-31T11:21:51.386Z"
   },
   {
    "duration": 40,
    "start_time": "2021-12-31T11:21:51.414Z"
   },
   {
    "duration": 8,
    "start_time": "2021-12-31T11:21:51.455Z"
   },
   {
    "duration": 14,
    "start_time": "2021-12-31T11:21:51.464Z"
   },
   {
    "duration": 428,
    "start_time": "2021-12-31T11:21:51.479Z"
   },
   {
    "duration": 311,
    "start_time": "2021-12-31T11:21:51.909Z"
   },
   {
    "duration": 20,
    "start_time": "2021-12-31T11:21:52.222Z"
   },
   {
    "duration": 10,
    "start_time": "2021-12-31T11:21:52.243Z"
   },
   {
    "duration": 10,
    "start_time": "2021-12-31T11:21:52.254Z"
   },
   {
    "duration": 9,
    "start_time": "2021-12-31T11:21:52.266Z"
   },
   {
    "duration": 9,
    "start_time": "2021-12-31T11:21:52.276Z"
   },
   {
    "duration": 8,
    "start_time": "2021-12-31T11:21:52.287Z"
   },
   {
    "duration": 50,
    "start_time": "2021-12-31T11:21:52.297Z"
   },
   {
    "duration": 7,
    "start_time": "2021-12-31T11:21:52.349Z"
   },
   {
    "duration": 894,
    "start_time": "2021-12-31T11:21:52.358Z"
   },
   {
    "duration": 13,
    "start_time": "2021-12-31T11:21:53.253Z"
   },
   {
    "duration": 18,
    "start_time": "2021-12-31T11:21:53.267Z"
   },
   {
    "duration": 12,
    "start_time": "2021-12-31T11:21:53.287Z"
   },
   {
    "duration": 14,
    "start_time": "2021-12-31T11:21:53.300Z"
   },
   {
    "duration": 12,
    "start_time": "2021-12-31T11:21:53.341Z"
   },
   {
    "duration": 16,
    "start_time": "2021-12-31T11:21:53.355Z"
   },
   {
    "duration": 12,
    "start_time": "2021-12-31T11:21:53.372Z"
   },
   {
    "duration": 10,
    "start_time": "2021-12-31T11:21:53.385Z"
   },
   {
    "duration": 11,
    "start_time": "2021-12-31T11:21:53.397Z"
   },
   {
    "duration": 39,
    "start_time": "2021-12-31T11:21:53.409Z"
   },
   {
    "duration": 9,
    "start_time": "2021-12-31T11:21:53.449Z"
   },
   {
    "duration": 13,
    "start_time": "2021-12-31T11:21:53.459Z"
   },
   {
    "duration": 9,
    "start_time": "2021-12-31T11:21:53.473Z"
   },
   {
    "duration": 4,
    "start_time": "2021-12-31T11:21:53.484Z"
   },
   {
    "duration": 11,
    "start_time": "2021-12-31T11:21:53.489Z"
   },
   {
    "duration": 19,
    "start_time": "2021-12-31T11:21:53.501Z"
   },
   {
    "duration": 23,
    "start_time": "2021-12-31T11:21:53.521Z"
   },
   {
    "duration": 8,
    "start_time": "2021-12-31T11:21:53.546Z"
   },
   {
    "duration": 4,
    "start_time": "2021-12-31T11:21:53.555Z"
   },
   {
    "duration": 10,
    "start_time": "2021-12-31T11:21:53.561Z"
   },
   {
    "duration": 351,
    "start_time": "2022-01-08T17:58:12.827Z"
   },
   {
    "duration": 1531,
    "start_time": "2022-01-08T17:58:19.423Z"
   },
   {
    "duration": 239,
    "start_time": "2022-01-08T17:58:20.957Z"
   },
   {
    "duration": 24,
    "start_time": "2022-01-08T17:58:21.199Z"
   },
   {
    "duration": 20,
    "start_time": "2022-01-08T17:58:21.226Z"
   },
   {
    "duration": 15,
    "start_time": "2022-01-08T17:58:21.266Z"
   },
   {
    "duration": 45,
    "start_time": "2022-01-08T17:58:21.283Z"
   },
   {
    "duration": 5,
    "start_time": "2022-01-08T17:58:21.330Z"
   },
   {
    "duration": 355,
    "start_time": "2022-01-08T17:58:21.368Z"
   },
   {
    "duration": 41,
    "start_time": "2022-01-08T17:58:21.726Z"
   },
   {
    "duration": 7,
    "start_time": "2022-01-08T17:58:21.770Z"
   },
   {
    "duration": 11,
    "start_time": "2022-01-08T17:58:21.780Z"
   },
   {
    "duration": 13,
    "start_time": "2022-01-08T17:58:21.794Z"
   },
   {
    "duration": 6,
    "start_time": "2022-01-08T17:58:21.810Z"
   },
   {
    "duration": 11,
    "start_time": "2022-01-08T17:58:21.819Z"
   },
   {
    "duration": 47,
    "start_time": "2022-01-08T17:58:21.832Z"
   },
   {
    "duration": 6,
    "start_time": "2022-01-08T17:58:21.881Z"
   },
   {
    "duration": 5,
    "start_time": "2022-01-08T17:58:21.890Z"
   },
   {
    "duration": 7,
    "start_time": "2022-01-08T17:58:21.897Z"
   },
   {
    "duration": 15,
    "start_time": "2022-01-08T17:58:21.907Z"
   },
   {
    "duration": 51,
    "start_time": "2022-01-08T17:58:21.924Z"
   },
   {
    "duration": 33,
    "start_time": "2022-01-08T17:58:21.977Z"
   },
   {
    "duration": 64,
    "start_time": "2022-01-08T17:58:22.013Z"
   },
   {
    "duration": 990,
    "start_time": "2022-01-08T17:58:22.083Z"
   },
   {
    "duration": 23,
    "start_time": "2022-01-08T17:58:23.076Z"
   },
   {
    "duration": 1099,
    "start_time": "2022-01-08T17:58:23.102Z"
   },
   {
    "duration": 39,
    "start_time": "2022-01-08T17:58:24.204Z"
   },
   {
    "duration": 35,
    "start_time": "2022-01-08T17:58:24.266Z"
   },
   {
    "duration": 70,
    "start_time": "2022-01-08T17:58:24.304Z"
   },
   {
    "duration": 37,
    "start_time": "2022-01-08T17:58:24.377Z"
   },
   {
    "duration": 17,
    "start_time": "2022-01-08T17:58:24.417Z"
   },
   {
    "duration": 21,
    "start_time": "2022-01-08T17:58:24.468Z"
   },
   {
    "duration": 877,
    "start_time": "2022-01-08T17:58:24.492Z"
   },
   {
    "duration": 679,
    "start_time": "2022-01-08T17:58:25.372Z"
   },
   {
    "duration": 21,
    "start_time": "2022-01-08T17:58:26.053Z"
   },
   {
    "duration": 14,
    "start_time": "2022-01-08T17:58:26.076Z"
   },
   {
    "duration": 15,
    "start_time": "2022-01-08T17:58:26.092Z"
   },
   {
    "duration": 12,
    "start_time": "2022-01-08T17:58:26.109Z"
   },
   {
    "duration": 50,
    "start_time": "2022-01-08T17:58:26.124Z"
   },
   {
    "duration": 17,
    "start_time": "2022-01-08T17:58:26.177Z"
   },
   {
    "duration": 110,
    "start_time": "2022-01-08T17:58:26.196Z"
   },
   {
    "duration": 14,
    "start_time": "2022-01-08T17:58:26.308Z"
   },
   {
    "duration": 1430,
    "start_time": "2022-01-08T17:58:26.325Z"
   },
   {
    "duration": 27,
    "start_time": "2022-01-08T17:58:27.757Z"
   },
   {
    "duration": 24,
    "start_time": "2022-01-08T17:58:27.786Z"
   },
   {
    "duration": 59,
    "start_time": "2022-01-08T17:58:27.813Z"
   },
   {
    "duration": 33,
    "start_time": "2022-01-08T17:58:27.875Z"
   },
   {
    "duration": 21,
    "start_time": "2022-01-08T17:58:27.911Z"
   },
   {
    "duration": 46,
    "start_time": "2022-01-08T17:58:27.934Z"
   },
   {
    "duration": 19,
    "start_time": "2022-01-08T17:58:27.983Z"
   },
   {
    "duration": 22,
    "start_time": "2022-01-08T17:58:28.005Z"
   },
   {
    "duration": 20,
    "start_time": "2022-01-08T17:58:28.068Z"
   },
   {
    "duration": 22,
    "start_time": "2022-01-08T17:58:28.090Z"
   },
   {
    "duration": 14,
    "start_time": "2022-01-08T17:58:28.115Z"
   },
   {
    "duration": 47,
    "start_time": "2022-01-08T17:58:28.131Z"
   },
   {
    "duration": 17,
    "start_time": "2022-01-08T17:58:28.180Z"
   },
   {
    "duration": 3,
    "start_time": "2022-01-08T17:58:28.199Z"
   },
   {
    "duration": 9,
    "start_time": "2022-01-08T17:58:28.205Z"
   },
   {
    "duration": 53,
    "start_time": "2022-01-08T17:58:28.217Z"
   },
   {
    "duration": 14,
    "start_time": "2022-01-08T17:58:28.273Z"
   },
   {
    "duration": 16,
    "start_time": "2022-01-08T17:58:28.289Z"
   },
   {
    "duration": 4,
    "start_time": "2022-01-08T17:58:28.307Z"
   },
   {
    "duration": 8,
    "start_time": "2022-01-08T17:58:28.314Z"
   },
   {
    "duration": 456,
    "start_time": "2022-01-08T18:33:47.781Z"
   },
   {
    "duration": 380,
    "start_time": "2022-01-08T18:35:46.713Z"
   },
   {
    "duration": 339,
    "start_time": "2022-01-08T18:35:51.927Z"
   },
   {
    "duration": 402,
    "start_time": "2022-01-08T18:36:05.927Z"
   },
   {
    "duration": 451,
    "start_time": "2022-01-08T18:36:58.005Z"
   },
   {
    "duration": 526,
    "start_time": "2022-01-08T18:40:18.148Z"
   },
   {
    "duration": 384,
    "start_time": "2022-01-08T18:48:28.351Z"
   },
   {
    "duration": 464,
    "start_time": "2022-01-08T18:52:24.628Z"
   },
   {
    "duration": 372,
    "start_time": "2022-01-08T18:52:34.899Z"
   },
   {
    "duration": 372,
    "start_time": "2022-01-08T18:52:53.825Z"
   },
   {
    "duration": 269,
    "start_time": "2022-01-08T18:53:05.814Z"
   },
   {
    "duration": 264,
    "start_time": "2022-01-08T18:53:15.851Z"
   },
   {
    "duration": 303,
    "start_time": "2022-01-08T18:53:22.309Z"
   },
   {
    "duration": 328,
    "start_time": "2022-01-08T18:53:28.754Z"
   },
   {
    "duration": 364,
    "start_time": "2022-01-08T18:53:32.524Z"
   },
   {
    "duration": 810,
    "start_time": "2022-01-08T18:55:30.909Z"
   },
   {
    "duration": 377,
    "start_time": "2022-01-08T18:56:25.627Z"
   },
   {
    "duration": 369,
    "start_time": "2022-01-08T18:56:36.808Z"
   },
   {
    "duration": 383,
    "start_time": "2022-01-08T18:57:12.068Z"
   },
   {
    "duration": 370,
    "start_time": "2022-01-08T18:57:42.860Z"
   },
   {
    "duration": 499,
    "start_time": "2022-01-08T18:57:52.303Z"
   },
   {
    "duration": 561,
    "start_time": "2022-01-08T19:01:00.554Z"
   },
   {
    "duration": 14,
    "start_time": "2022-01-08T19:10:08.251Z"
   },
   {
    "duration": 14,
    "start_time": "2022-01-08T19:10:34.458Z"
   },
   {
    "duration": 21,
    "start_time": "2022-01-08T19:11:04.758Z"
   },
   {
    "duration": 20,
    "start_time": "2022-01-08T19:11:45.686Z"
   },
   {
    "duration": 644,
    "start_time": "2022-01-08T19:12:04.054Z"
   },
   {
    "duration": 405,
    "start_time": "2022-01-08T19:13:31.950Z"
   },
   {
    "duration": 479,
    "start_time": "2022-01-08T19:17:49.428Z"
   },
   {
    "duration": 491,
    "start_time": "2022-01-08T19:20:14.522Z"
   },
   {
    "duration": 489,
    "start_time": "2022-01-08T19:20:23.997Z"
   },
   {
    "duration": 509,
    "start_time": "2022-01-08T19:20:29.642Z"
   },
   {
    "duration": 521,
    "start_time": "2022-01-08T19:23:06.855Z"
   },
   {
    "duration": 528,
    "start_time": "2022-01-08T19:24:24.888Z"
   },
   {
    "duration": 590,
    "start_time": "2022-01-08T19:24:33.549Z"
   },
   {
    "duration": 1288,
    "start_time": "2022-01-08T19:24:41.326Z"
   },
   {
    "duration": 15,
    "start_time": "2022-01-08T19:32:35.963Z"
   },
   {
    "duration": 14,
    "start_time": "2022-01-08T19:36:15.583Z"
   },
   {
    "duration": 13,
    "start_time": "2022-01-08T19:39:21.298Z"
   },
   {
    "duration": 13,
    "start_time": "2022-01-08T19:41:09.060Z"
   },
   {
    "duration": 14,
    "start_time": "2022-01-08T19:42:42.671Z"
   },
   {
    "duration": 25,
    "start_time": "2022-01-08T19:44:27.838Z"
   },
   {
    "duration": 11,
    "start_time": "2022-01-08T19:45:03.181Z"
   },
   {
    "duration": 1404,
    "start_time": "2022-01-08T19:45:19.395Z"
   },
   {
    "duration": 21,
    "start_time": "2022-01-08T19:49:00.863Z"
   },
   {
    "duration": 506,
    "start_time": "2022-01-08T19:50:07.543Z"
   },
   {
    "duration": 22,
    "start_time": "2022-01-08T19:51:52.353Z"
   },
   {
    "duration": 397,
    "start_time": "2022-01-08T19:51:57.617Z"
   },
   {
    "duration": 24,
    "start_time": "2022-01-08T19:57:27.816Z"
   },
   {
    "duration": 377,
    "start_time": "2022-01-08T20:00:43.838Z"
   },
   {
    "duration": 484,
    "start_time": "2022-01-08T20:01:07.944Z"
   },
   {
    "duration": 24,
    "start_time": "2022-01-08T20:02:59.434Z"
   },
   {
    "duration": 7862,
    "start_time": "2022-01-08T20:03:14.012Z"
   },
   {
    "duration": 367,
    "start_time": "2022-01-08T20:03:26.389Z"
   },
   {
    "duration": 24,
    "start_time": "2022-01-08T20:04:14.714Z"
   },
   {
    "duration": 355,
    "start_time": "2022-01-08T20:04:50.795Z"
   },
   {
    "duration": 14,
    "start_time": "2022-01-08T20:12:08.910Z"
   },
   {
    "duration": 14,
    "start_time": "2022-01-08T20:12:27.601Z"
   },
   {
    "duration": 15,
    "start_time": "2022-01-08T20:17:30.930Z"
   },
   {
    "duration": 4,
    "start_time": "2022-01-08T20:17:40.605Z"
   },
   {
    "duration": 6,
    "start_time": "2022-01-08T20:17:53.341Z"
   },
   {
    "duration": 14,
    "start_time": "2022-01-08T20:19:11.048Z"
   },
   {
    "duration": 14,
    "start_time": "2022-01-08T20:19:29.609Z"
   },
   {
    "duration": 15,
    "start_time": "2022-01-08T20:19:49.248Z"
   },
   {
    "duration": 5,
    "start_time": "2022-01-08T20:20:04.381Z"
   },
   {
    "duration": 7,
    "start_time": "2022-01-08T20:20:24.606Z"
   },
   {
    "duration": 19,
    "start_time": "2022-01-08T20:23:44.590Z"
   },
   {
    "duration": 21,
    "start_time": "2022-01-08T20:24:04.873Z"
   },
   {
    "duration": 675,
    "start_time": "2022-01-08T20:24:26.413Z"
   },
   {
    "duration": 365,
    "start_time": "2022-01-08T20:24:56.664Z"
   },
   {
    "duration": 474,
    "start_time": "2022-01-08T20:26:31.831Z"
   },
   {
    "duration": 493,
    "start_time": "2022-01-08T20:26:46.812Z"
   },
   {
    "duration": 14,
    "start_time": "2022-01-08T20:27:55.633Z"
   },
   {
    "duration": 14,
    "start_time": "2022-01-08T20:28:37.649Z"
   },
   {
    "duration": 16,
    "start_time": "2022-01-08T20:50:59.785Z"
   },
   {
    "duration": 14,
    "start_time": "2022-01-08T20:51:56.171Z"
   },
   {
    "duration": 16,
    "start_time": "2022-01-08T20:52:32.645Z"
   },
   {
    "duration": 15,
    "start_time": "2022-01-08T20:53:02.378Z"
   },
   {
    "duration": 20,
    "start_time": "2022-01-08T20:53:22.676Z"
   },
   {
    "duration": 11,
    "start_time": "2022-01-08T20:53:42.374Z"
   },
   {
    "duration": 1675,
    "start_time": "2022-01-08T20:53:59.204Z"
   },
   {
    "duration": 21,
    "start_time": "2022-01-08T20:55:35.784Z"
   },
   {
    "duration": 457,
    "start_time": "2022-01-08T20:56:00.546Z"
   },
   {
    "duration": 459,
    "start_time": "2022-01-08T20:57:46.712Z"
   },
   {
    "duration": 470,
    "start_time": "2022-01-08T20:58:10.279Z"
   },
   {
    "duration": 452,
    "start_time": "2022-01-08T20:58:22.561Z"
   },
   {
    "duration": 849,
    "start_time": "2022-01-08T20:59:01.140Z"
   },
   {
    "duration": 448,
    "start_time": "2022-01-08T20:59:08.101Z"
   },
   {
    "duration": 434,
    "start_time": "2022-01-08T20:59:12.297Z"
   },
   {
    "duration": 420,
    "start_time": "2022-01-08T20:59:22.996Z"
   },
   {
    "duration": 431,
    "start_time": "2022-01-08T20:59:32.594Z"
   },
   {
    "duration": 24,
    "start_time": "2022-01-08T21:00:31.565Z"
   },
   {
    "duration": 543,
    "start_time": "2022-01-08T21:01:00.139Z"
   },
   {
    "duration": 355,
    "start_time": "2022-01-08T21:01:43.137Z"
   },
   {
    "duration": 389,
    "start_time": "2022-01-08T21:02:01.632Z"
   },
   {
    "duration": 355,
    "start_time": "2022-01-08T21:02:25.801Z"
   },
   {
    "duration": 24,
    "start_time": "2022-01-08T21:02:45.071Z"
   },
   {
    "duration": 374,
    "start_time": "2022-01-08T21:02:59.255Z"
   },
   {
    "duration": 360,
    "start_time": "2022-01-08T21:03:31.792Z"
   },
   {
    "duration": 399,
    "start_time": "2022-01-08T21:03:42.948Z"
   },
   {
    "duration": 28,
    "start_time": "2022-01-08T21:04:12.628Z"
   },
   {
    "duration": 384,
    "start_time": "2022-01-08T21:04:14.812Z"
   },
   {
    "duration": 23,
    "start_time": "2022-01-08T21:04:40.303Z"
   },
   {
    "duration": 343,
    "start_time": "2022-01-08T21:04:52.719Z"
   },
   {
    "duration": 22,
    "start_time": "2022-01-08T21:11:39.929Z"
   },
   {
    "duration": 847,
    "start_time": "2022-01-08T21:12:32.029Z"
   },
   {
    "duration": 425,
    "start_time": "2022-01-08T21:12:54.865Z"
   },
   {
    "duration": 23,
    "start_time": "2022-01-08T21:13:18.738Z"
   },
   {
    "duration": 406,
    "start_time": "2022-01-08T21:13:52.330Z"
   },
   {
    "duration": 22,
    "start_time": "2022-01-08T21:14:30.872Z"
   },
   {
    "duration": 410,
    "start_time": "2022-01-08T21:14:57.613Z"
   },
   {
    "duration": 20,
    "start_time": "2022-01-08T21:18:36.253Z"
   },
   {
    "duration": 20,
    "start_time": "2022-01-08T21:18:46.017Z"
   },
   {
    "duration": 19,
    "start_time": "2022-01-08T21:18:54.594Z"
   },
   {
    "duration": 328,
    "start_time": "2022-01-08T21:20:54.064Z"
   },
   {
    "duration": 313,
    "start_time": "2022-01-08T21:21:32.436Z"
   },
   {
    "duration": 431,
    "start_time": "2022-01-08T21:22:12.565Z"
   },
   {
    "duration": 15,
    "start_time": "2022-01-08T21:34:59.819Z"
   },
   {
    "duration": 14,
    "start_time": "2022-01-08T21:35:06.880Z"
   },
   {
    "duration": 20,
    "start_time": "2022-01-08T21:37:31.276Z"
   },
   {
    "duration": 4,
    "start_time": "2022-01-08T21:37:36.700Z"
   },
   {
    "duration": 7,
    "start_time": "2022-01-08T21:37:48.609Z"
   },
   {
    "duration": 16,
    "start_time": "2022-01-08T21:40:01.329Z"
   },
   {
    "duration": 14,
    "start_time": "2022-01-08T21:40:07.841Z"
   },
   {
    "duration": 17,
    "start_time": "2022-01-08T21:41:26.309Z"
   },
   {
    "duration": 14,
    "start_time": "2022-01-08T21:41:29.299Z"
   },
   {
    "duration": 15,
    "start_time": "2022-01-08T21:41:37.132Z"
   },
   {
    "duration": 14,
    "start_time": "2022-01-08T21:41:40.127Z"
   },
   {
    "duration": 14,
    "start_time": "2022-01-08T21:43:05.311Z"
   },
   {
    "duration": 4,
    "start_time": "2022-01-08T21:43:19.284Z"
   },
   {
    "duration": 7,
    "start_time": "2022-01-08T21:43:24.543Z"
   },
   {
    "duration": 534,
    "start_time": "2022-01-08T21:54:49.198Z"
   },
   {
    "duration": 1461,
    "start_time": "2022-01-08T22:04:54.901Z"
   },
   {
    "duration": 219,
    "start_time": "2022-01-08T22:04:56.365Z"
   },
   {
    "duration": 24,
    "start_time": "2022-01-08T22:04:56.586Z"
   },
   {
    "duration": 30,
    "start_time": "2022-01-08T22:04:56.613Z"
   },
   {
    "duration": 25,
    "start_time": "2022-01-08T22:04:56.645Z"
   },
   {
    "duration": 44,
    "start_time": "2022-01-08T22:04:56.673Z"
   },
   {
    "duration": 5,
    "start_time": "2022-01-08T22:04:56.720Z"
   },
   {
    "duration": 355,
    "start_time": "2022-01-08T22:04:56.729Z"
   },
   {
    "duration": 22,
    "start_time": "2022-01-08T22:04:57.087Z"
   },
   {
    "duration": 6,
    "start_time": "2022-01-08T22:04:57.111Z"
   },
   {
    "duration": 15,
    "start_time": "2022-01-08T22:04:57.120Z"
   },
   {
    "duration": 40,
    "start_time": "2022-01-08T22:04:57.137Z"
   },
   {
    "duration": 9,
    "start_time": "2022-01-08T22:04:57.179Z"
   },
   {
    "duration": 21,
    "start_time": "2022-01-08T22:04:57.190Z"
   },
   {
    "duration": 23,
    "start_time": "2022-01-08T22:04:57.215Z"
   },
   {
    "duration": 26,
    "start_time": "2022-01-08T22:04:57.241Z"
   },
   {
    "duration": 4,
    "start_time": "2022-01-08T22:04:57.270Z"
   },
   {
    "duration": 9,
    "start_time": "2022-01-08T22:04:57.277Z"
   },
   {
    "duration": 18,
    "start_time": "2022-01-08T22:04:57.289Z"
   },
   {
    "duration": 24,
    "start_time": "2022-01-08T22:04:57.310Z"
   },
   {
    "duration": 53,
    "start_time": "2022-01-08T22:04:57.336Z"
   },
   {
    "duration": 26,
    "start_time": "2022-01-08T22:04:57.393Z"
   },
   {
    "duration": 433,
    "start_time": "2022-01-08T22:04:57.426Z"
   },
   {
    "duration": 21,
    "start_time": "2022-01-08T22:04:57.867Z"
   },
   {
    "duration": 471,
    "start_time": "2022-01-08T22:04:57.891Z"
   },
   {
    "duration": 39,
    "start_time": "2022-01-08T22:04:58.365Z"
   },
   {
    "duration": 31,
    "start_time": "2022-01-08T22:04:58.407Z"
   },
   {
    "duration": 51,
    "start_time": "2022-01-08T22:04:58.468Z"
   },
   {
    "duration": 56,
    "start_time": "2022-01-08T22:04:58.521Z"
   },
   {
    "duration": 18,
    "start_time": "2022-01-08T22:04:58.579Z"
   },
   {
    "duration": 27,
    "start_time": "2022-01-08T22:04:58.600Z"
   },
   {
    "duration": 410,
    "start_time": "2022-01-08T22:04:58.630Z"
   },
   {
    "duration": 547,
    "start_time": "2022-01-08T22:04:59.044Z"
   },
   {
    "duration": 3,
    "start_time": "2022-01-08T22:04:59.593Z"
   },
   {
    "duration": 30,
    "start_time": "2022-01-08T22:04:59.599Z"
   },
   {
    "duration": 15,
    "start_time": "2022-01-08T22:04:59.632Z"
   },
   {
    "duration": 14,
    "start_time": "2022-01-08T22:04:59.667Z"
   },
   {
    "duration": 15,
    "start_time": "2022-01-08T22:04:59.684Z"
   },
   {
    "duration": 18,
    "start_time": "2022-01-08T22:04:59.702Z"
   },
   {
    "duration": 58,
    "start_time": "2022-01-08T22:04:59.723Z"
   },
   {
    "duration": 20,
    "start_time": "2022-01-08T22:04:59.784Z"
   },
   {
    "duration": 1654,
    "start_time": "2022-01-08T22:04:59.806Z"
   },
   {
    "duration": 22,
    "start_time": "2022-01-08T22:05:01.462Z"
   },
   {
    "duration": 447,
    "start_time": "2022-01-08T22:05:01.486Z"
   },
   {
    "duration": 33,
    "start_time": "2022-01-08T22:05:01.936Z"
   },
   {
    "duration": 371,
    "start_time": "2022-01-08T22:05:01.972Z"
   },
   {
    "duration": 35,
    "start_time": "2022-01-08T22:05:02.345Z"
   },
   {
    "duration": 395,
    "start_time": "2022-01-08T22:05:02.383Z"
   },
   {
    "duration": 24,
    "start_time": "2022-01-08T22:05:02.780Z"
   },
   {
    "duration": 364,
    "start_time": "2022-01-08T22:05:02.806Z"
   },
   {
    "duration": 22,
    "start_time": "2022-01-08T22:05:03.172Z"
   },
   {
    "duration": 436,
    "start_time": "2022-01-08T22:05:03.197Z"
   },
   {
    "duration": 34,
    "start_time": "2022-01-08T22:05:03.635Z"
   },
   {
    "duration": 435,
    "start_time": "2022-01-08T22:05:03.671Z"
   },
   {
    "duration": 22,
    "start_time": "2022-01-08T22:05:04.109Z"
   },
   {
    "duration": 441,
    "start_time": "2022-01-08T22:05:04.134Z"
   },
   {
    "duration": 20,
    "start_time": "2022-01-08T22:05:04.577Z"
   },
   {
    "duration": 339,
    "start_time": "2022-01-08T22:05:04.600Z"
   },
   {
    "duration": 36,
    "start_time": "2022-01-08T22:05:04.941Z"
   },
   {
    "duration": 356,
    "start_time": "2022-01-08T22:05:04.979Z"
   },
   {
    "duration": 31,
    "start_time": "2022-01-08T22:05:05.338Z"
   },
   {
    "duration": 429,
    "start_time": "2022-01-08T22:05:05.372Z"
   },
   {
    "duration": 14,
    "start_time": "2022-01-08T22:05:05.803Z"
   },
   {
    "duration": 15,
    "start_time": "2022-01-08T22:05:05.819Z"
   },
   {
    "duration": 42,
    "start_time": "2022-01-08T22:05:05.836Z"
   },
   {
    "duration": 4,
    "start_time": "2022-01-08T22:05:05.880Z"
   },
   {
    "duration": 10,
    "start_time": "2022-01-08T22:05:05.886Z"
   },
   {
    "duration": 16,
    "start_time": "2022-01-08T22:05:05.903Z"
   },
   {
    "duration": 47,
    "start_time": "2022-01-08T22:05:05.922Z"
   },
   {
    "duration": 15,
    "start_time": "2022-01-08T22:05:05.971Z"
   },
   {
    "duration": 10,
    "start_time": "2022-01-08T22:05:05.989Z"
   },
   {
    "duration": 21,
    "start_time": "2022-01-08T22:05:06.001Z"
   },
   {
    "duration": 552,
    "start_time": "2022-01-09T09:49:54.112Z"
   },
   {
    "duration": 1407,
    "start_time": "2022-01-09T09:50:06.174Z"
   },
   {
    "duration": 286,
    "start_time": "2022-01-09T09:50:07.584Z"
   },
   {
    "duration": 23,
    "start_time": "2022-01-09T09:50:07.873Z"
   },
   {
    "duration": 19,
    "start_time": "2022-01-09T09:50:07.899Z"
   },
   {
    "duration": 12,
    "start_time": "2022-01-09T09:50:07.923Z"
   },
   {
    "duration": 43,
    "start_time": "2022-01-09T09:50:07.937Z"
   },
   {
    "duration": 4,
    "start_time": "2022-01-09T09:50:07.983Z"
   },
   {
    "duration": 347,
    "start_time": "2022-01-09T09:50:07.992Z"
   },
   {
    "duration": 21,
    "start_time": "2022-01-09T09:50:08.342Z"
   },
   {
    "duration": 6,
    "start_time": "2022-01-09T09:50:08.365Z"
   },
   {
    "duration": 6,
    "start_time": "2022-01-09T09:50:08.374Z"
   },
   {
    "duration": 47,
    "start_time": "2022-01-09T09:50:08.383Z"
   },
   {
    "duration": 5,
    "start_time": "2022-01-09T09:50:08.432Z"
   },
   {
    "duration": 12,
    "start_time": "2022-01-09T09:50:08.440Z"
   },
   {
    "duration": 14,
    "start_time": "2022-01-09T09:50:08.454Z"
   },
   {
    "duration": 5,
    "start_time": "2022-01-09T09:50:08.471Z"
   },
   {
    "duration": 5,
    "start_time": "2022-01-09T09:50:08.478Z"
   },
   {
    "duration": 40,
    "start_time": "2022-01-09T09:50:08.485Z"
   },
   {
    "duration": 12,
    "start_time": "2022-01-09T09:50:08.527Z"
   },
   {
    "duration": 15,
    "start_time": "2022-01-09T09:50:08.541Z"
   },
   {
    "duration": 29,
    "start_time": "2022-01-09T09:50:08.558Z"
   },
   {
    "duration": 25,
    "start_time": "2022-01-09T09:50:08.624Z"
   },
   {
    "duration": 391,
    "start_time": "2022-01-09T09:50:08.656Z"
   },
   {
    "duration": 24,
    "start_time": "2022-01-09T09:50:09.052Z"
   },
   {
    "duration": 439,
    "start_time": "2022-01-09T09:50:09.078Z"
   },
   {
    "duration": 41,
    "start_time": "2022-01-09T09:50:09.523Z"
   },
   {
    "duration": 57,
    "start_time": "2022-01-09T09:50:09.566Z"
   },
   {
    "duration": 55,
    "start_time": "2022-01-09T09:50:09.625Z"
   },
   {
    "duration": 57,
    "start_time": "2022-01-09T09:50:09.682Z"
   },
   {
    "duration": 13,
    "start_time": "2022-01-09T09:50:09.742Z"
   },
   {
    "duration": 19,
    "start_time": "2022-01-09T09:50:09.757Z"
   },
   {
    "duration": 364,
    "start_time": "2022-01-09T09:50:09.778Z"
   },
   {
    "duration": 485,
    "start_time": "2022-01-09T09:50:10.144Z"
   },
   {
    "duration": 3,
    "start_time": "2022-01-09T09:50:10.631Z"
   },
   {
    "duration": 16,
    "start_time": "2022-01-09T09:50:10.636Z"
   },
   {
    "duration": 12,
    "start_time": "2022-01-09T09:50:10.654Z"
   },
   {
    "duration": 13,
    "start_time": "2022-01-09T09:50:10.668Z"
   },
   {
    "duration": 13,
    "start_time": "2022-01-09T09:50:10.723Z"
   },
   {
    "duration": 15,
    "start_time": "2022-01-09T09:50:10.738Z"
   },
   {
    "duration": 19,
    "start_time": "2022-01-09T09:50:10.755Z"
   },
   {
    "duration": 14,
    "start_time": "2022-01-09T09:50:10.776Z"
   },
   {
    "duration": 1726,
    "start_time": "2022-01-09T09:50:10.822Z"
   },
   {
    "duration": 20,
    "start_time": "2022-01-09T09:50:12.550Z"
   },
   {
    "duration": 408,
    "start_time": "2022-01-09T09:50:12.572Z"
   },
   {
    "duration": 26,
    "start_time": "2022-01-09T09:50:12.983Z"
   },
   {
    "duration": 380,
    "start_time": "2022-01-09T09:50:13.024Z"
   },
   {
    "duration": 34,
    "start_time": "2022-01-09T09:50:13.406Z"
   },
   {
    "duration": 358,
    "start_time": "2022-01-09T09:50:13.442Z"
   },
   {
    "duration": 32,
    "start_time": "2022-01-09T09:50:13.802Z"
   },
   {
    "duration": 344,
    "start_time": "2022-01-09T09:50:13.837Z"
   },
   {
    "duration": 22,
    "start_time": "2022-01-09T09:50:14.184Z"
   },
   {
    "duration": 399,
    "start_time": "2022-01-09T09:50:14.224Z"
   },
   {
    "duration": 20,
    "start_time": "2022-01-09T09:50:14.625Z"
   },
   {
    "duration": 401,
    "start_time": "2022-01-09T09:50:14.648Z"
   },
   {
    "duration": 21,
    "start_time": "2022-01-09T09:50:15.052Z"
   },
   {
    "duration": 415,
    "start_time": "2022-01-09T09:50:15.076Z"
   },
   {
    "duration": 31,
    "start_time": "2022-01-09T09:50:15.494Z"
   },
   {
    "duration": 299,
    "start_time": "2022-01-09T09:50:15.527Z"
   },
   {
    "duration": 20,
    "start_time": "2022-01-09T09:50:15.828Z"
   },
   {
    "duration": 316,
    "start_time": "2022-01-09T09:50:15.850Z"
   },
   {
    "duration": 20,
    "start_time": "2022-01-09T09:50:16.169Z"
   },
   {
    "duration": 396,
    "start_time": "2022-01-09T09:50:16.192Z"
   },
   {
    "duration": 14,
    "start_time": "2022-01-09T09:50:16.591Z"
   },
   {
    "duration": 25,
    "start_time": "2022-01-09T09:50:16.608Z"
   },
   {
    "duration": 16,
    "start_time": "2022-01-09T09:50:16.635Z"
   },
   {
    "duration": 3,
    "start_time": "2022-01-09T09:50:16.653Z"
   },
   {
    "duration": 12,
    "start_time": "2022-01-09T09:50:16.659Z"
   },
   {
    "duration": 47,
    "start_time": "2022-01-09T09:50:16.678Z"
   },
   {
    "duration": 14,
    "start_time": "2022-01-09T09:50:16.728Z"
   },
   {
    "duration": 15,
    "start_time": "2022-01-09T09:50:16.744Z"
   },
   {
    "duration": 3,
    "start_time": "2022-01-09T09:50:16.761Z"
   },
   {
    "duration": 8,
    "start_time": "2022-01-09T09:50:16.767Z"
   },
   {
    "duration": 24,
    "start_time": "2022-01-09T09:58:59.888Z"
   },
   {
    "duration": 880,
    "start_time": "2022-01-09T09:59:02.456Z"
   },
   {
    "duration": 292,
    "start_time": "2022-01-09T09:59:41.308Z"
   },
   {
    "duration": 243,
    "start_time": "2022-01-09T10:00:58.803Z"
   },
   {
    "duration": 244,
    "start_time": "2022-01-09T10:01:03.536Z"
   },
   {
    "duration": 747,
    "start_time": "2022-01-09T10:01:25.592Z"
   },
   {
    "duration": 242,
    "start_time": "2022-01-09T10:01:50.336Z"
   },
   {
    "duration": 113,
    "start_time": "2022-01-09T10:02:04.422Z"
   },
   {
    "duration": 137,
    "start_time": "2022-01-09T10:32:56.980Z"
   },
   {
    "duration": 2044,
    "start_time": "2022-01-09T10:51:32.100Z"
   },
   {
    "duration": 312,
    "start_time": "2022-01-09T10:51:34.148Z"
   },
   {
    "duration": 37,
    "start_time": "2022-01-09T10:51:34.464Z"
   },
   {
    "duration": 32,
    "start_time": "2022-01-09T10:51:34.504Z"
   },
   {
    "duration": 15,
    "start_time": "2022-01-09T10:51:34.538Z"
   },
   {
    "duration": 67,
    "start_time": "2022-01-09T10:51:34.556Z"
   },
   {
    "duration": 6,
    "start_time": "2022-01-09T10:51:34.627Z"
   },
   {
    "duration": 349,
    "start_time": "2022-01-09T10:51:34.639Z"
   },
   {
    "duration": 46,
    "start_time": "2022-01-09T10:51:34.991Z"
   },
   {
    "duration": 7,
    "start_time": "2022-01-09T10:51:35.039Z"
   },
   {
    "duration": 19,
    "start_time": "2022-01-09T10:51:35.049Z"
   },
   {
    "duration": 14,
    "start_time": "2022-01-09T10:51:35.072Z"
   },
   {
    "duration": 34,
    "start_time": "2022-01-09T10:51:35.089Z"
   },
   {
    "duration": 13,
    "start_time": "2022-01-09T10:51:35.127Z"
   },
   {
    "duration": 22,
    "start_time": "2022-01-09T10:51:35.143Z"
   },
   {
    "duration": 7,
    "start_time": "2022-01-09T10:51:35.168Z"
   },
   {
    "duration": 14,
    "start_time": "2022-01-09T10:51:35.179Z"
   },
   {
    "duration": 36,
    "start_time": "2022-01-09T10:51:35.196Z"
   },
   {
    "duration": 13,
    "start_time": "2022-01-09T10:51:35.235Z"
   },
   {
    "duration": 15,
    "start_time": "2022-01-09T10:51:35.251Z"
   },
   {
    "duration": 56,
    "start_time": "2022-01-09T10:51:35.269Z"
   },
   {
    "duration": 26,
    "start_time": "2022-01-09T10:51:35.328Z"
   },
   {
    "duration": 404,
    "start_time": "2022-01-09T10:51:35.360Z"
   },
   {
    "duration": 23,
    "start_time": "2022-01-09T10:51:35.768Z"
   },
   {
    "duration": 649,
    "start_time": "2022-01-09T10:51:35.793Z"
   },
   {
    "duration": 77,
    "start_time": "2022-01-09T10:51:36.446Z"
   },
   {
    "duration": 48,
    "start_time": "2022-01-09T10:51:36.526Z"
   },
   {
    "duration": 97,
    "start_time": "2022-01-09T10:51:36.577Z"
   },
   {
    "duration": 61,
    "start_time": "2022-01-09T10:51:36.677Z"
   },
   {
    "duration": 14,
    "start_time": "2022-01-09T10:51:36.741Z"
   },
   {
    "duration": 19,
    "start_time": "2022-01-09T10:51:36.757Z"
   },
   {
    "duration": 390,
    "start_time": "2022-01-09T10:51:36.779Z"
   },
   {
    "duration": 496,
    "start_time": "2022-01-09T10:51:37.172Z"
   },
   {
    "duration": 3,
    "start_time": "2022-01-09T10:51:37.670Z"
   },
   {
    "duration": 17,
    "start_time": "2022-01-09T10:51:37.676Z"
   },
   {
    "duration": 36,
    "start_time": "2022-01-09T10:51:37.695Z"
   },
   {
    "duration": 19,
    "start_time": "2022-01-09T10:51:37.734Z"
   },
   {
    "duration": 12,
    "start_time": "2022-01-09T10:51:37.756Z"
   },
   {
    "duration": 12,
    "start_time": "2022-01-09T10:51:37.771Z"
   },
   {
    "duration": 52,
    "start_time": "2022-01-09T10:51:37.785Z"
   },
   {
    "duration": 11,
    "start_time": "2022-01-09T10:51:37.840Z"
   },
   {
    "duration": 1723,
    "start_time": "2022-01-09T10:51:37.854Z"
   },
   {
    "duration": 23,
    "start_time": "2022-01-09T10:51:39.580Z"
   },
   {
    "duration": 422,
    "start_time": "2022-01-09T10:51:39.623Z"
   },
   {
    "duration": 24,
    "start_time": "2022-01-09T10:51:40.047Z"
   },
   {
    "duration": 157,
    "start_time": "2022-01-09T10:51:40.074Z"
   },
   {
    "duration": 24,
    "start_time": "2022-01-09T10:51:40.233Z"
   },
   {
    "duration": 551,
    "start_time": "2022-01-09T10:51:40.260Z"
   },
   {
    "duration": 39,
    "start_time": "2022-01-09T10:51:40.815Z"
   },
   {
    "duration": 360,
    "start_time": "2022-01-09T10:51:40.857Z"
   },
   {
    "duration": 22,
    "start_time": "2022-01-09T10:51:41.223Z"
   },
   {
    "duration": 417,
    "start_time": "2022-01-09T10:51:41.247Z"
   },
   {
    "duration": 20,
    "start_time": "2022-01-09T10:51:41.667Z"
   },
   {
    "duration": 528,
    "start_time": "2022-01-09T10:51:41.689Z"
   },
   {
    "duration": 22,
    "start_time": "2022-01-09T10:51:42.223Z"
   },
   {
    "duration": 433,
    "start_time": "2022-01-09T10:51:42.248Z"
   },
   {
    "duration": 21,
    "start_time": "2022-01-09T10:51:42.685Z"
   },
   {
    "duration": 306,
    "start_time": "2022-01-09T10:51:42.725Z"
   },
   {
    "duration": 19,
    "start_time": "2022-01-09T10:51:43.033Z"
   },
   {
    "duration": 357,
    "start_time": "2022-01-09T10:51:43.055Z"
   },
   {
    "duration": 25,
    "start_time": "2022-01-09T10:51:43.414Z"
   },
   {
    "duration": 316,
    "start_time": "2022-01-09T10:51:43.442Z"
   },
   {
    "duration": 20,
    "start_time": "2022-01-09T10:51:43.762Z"
   },
   {
    "duration": 39,
    "start_time": "2022-01-09T10:51:43.785Z"
   },
   {
    "duration": 110,
    "start_time": "2022-01-09T10:51:43.827Z"
   },
   {
    "duration": 10,
    "start_time": "2022-01-09T10:51:43.940Z"
   },
   {
    "duration": 10,
    "start_time": "2022-01-09T10:51:43.953Z"
   },
   {
    "duration": 13,
    "start_time": "2022-01-09T10:51:43.971Z"
   },
   {
    "duration": 48,
    "start_time": "2022-01-09T10:51:43.988Z"
   },
   {
    "duration": 16,
    "start_time": "2022-01-09T10:51:44.040Z"
   },
   {
    "duration": 4,
    "start_time": "2022-01-09T10:51:44.059Z"
   },
   {
    "duration": 8,
    "start_time": "2022-01-09T10:51:44.067Z"
   },
   {
    "duration": 1558,
    "start_time": "2022-01-09T18:28:41.883Z"
   },
   {
    "duration": 276,
    "start_time": "2022-01-09T18:28:43.444Z"
   },
   {
    "duration": 26,
    "start_time": "2022-01-09T18:28:43.728Z"
   },
   {
    "duration": 20,
    "start_time": "2022-01-09T18:28:43.757Z"
   },
   {
    "duration": 15,
    "start_time": "2022-01-09T18:28:43.779Z"
   },
   {
    "duration": 74,
    "start_time": "2022-01-09T18:28:43.796Z"
   },
   {
    "duration": 5,
    "start_time": "2022-01-09T18:28:43.873Z"
   },
   {
    "duration": 341,
    "start_time": "2022-01-09T18:28:43.881Z"
   },
   {
    "duration": 44,
    "start_time": "2022-01-09T18:28:44.225Z"
   },
   {
    "duration": 8,
    "start_time": "2022-01-09T18:28:44.272Z"
   },
   {
    "duration": 9,
    "start_time": "2022-01-09T18:28:44.283Z"
   },
   {
    "duration": 12,
    "start_time": "2022-01-09T18:28:44.295Z"
   },
   {
    "duration": 8,
    "start_time": "2022-01-09T18:28:44.309Z"
   },
   {
    "duration": 56,
    "start_time": "2022-01-09T18:28:44.320Z"
   },
   {
    "duration": 19,
    "start_time": "2022-01-09T18:28:44.378Z"
   },
   {
    "duration": 7,
    "start_time": "2022-01-09T18:28:44.400Z"
   },
   {
    "duration": 5,
    "start_time": "2022-01-09T18:28:44.410Z"
   },
   {
    "duration": 9,
    "start_time": "2022-01-09T18:28:44.418Z"
   },
   {
    "duration": 16,
    "start_time": "2022-01-09T18:28:44.468Z"
   },
   {
    "duration": 16,
    "start_time": "2022-01-09T18:28:44.487Z"
   },
   {
    "duration": 76,
    "start_time": "2022-01-09T18:28:44.505Z"
   },
   {
    "duration": 26,
    "start_time": "2022-01-09T18:28:44.589Z"
   },
   {
    "duration": 419,
    "start_time": "2022-01-09T18:28:44.619Z"
   },
   {
    "duration": 36,
    "start_time": "2022-01-09T18:28:45.041Z"
   },
   {
    "duration": 504,
    "start_time": "2022-01-09T18:28:45.079Z"
   },
   {
    "duration": 41,
    "start_time": "2022-01-09T18:28:45.585Z"
   },
   {
    "duration": 59,
    "start_time": "2022-01-09T18:28:45.628Z"
   },
   {
    "duration": 52,
    "start_time": "2022-01-09T18:28:45.690Z"
   },
   {
    "duration": 74,
    "start_time": "2022-01-09T18:28:45.744Z"
   },
   {
    "duration": 18,
    "start_time": "2022-01-09T18:28:45.821Z"
   },
   {
    "duration": 31,
    "start_time": "2022-01-09T18:28:45.868Z"
   },
   {
    "duration": 476,
    "start_time": "2022-01-09T18:28:45.903Z"
   },
   {
    "duration": 589,
    "start_time": "2022-01-09T18:28:46.381Z"
   },
   {
    "duration": 4,
    "start_time": "2022-01-09T18:28:46.973Z"
   },
   {
    "duration": 16,
    "start_time": "2022-01-09T18:28:46.980Z"
   },
   {
    "duration": 24,
    "start_time": "2022-01-09T18:28:47.000Z"
   },
   {
    "duration": 223,
    "start_time": "2022-01-09T18:28:47.028Z"
   },
   {
    "duration": 22,
    "start_time": "2022-01-09T18:28:47.255Z"
   },
   {
    "duration": 15,
    "start_time": "2022-01-09T18:28:47.280Z"
   },
   {
    "duration": 18,
    "start_time": "2022-01-09T18:28:47.298Z"
   },
   {
    "duration": 12,
    "start_time": "2022-01-09T18:28:47.319Z"
   },
   {
    "duration": 1707,
    "start_time": "2022-01-09T18:28:47.333Z"
   },
   {
    "duration": 41,
    "start_time": "2022-01-09T18:28:49.043Z"
   },
   {
    "duration": 435,
    "start_time": "2022-01-09T18:28:49.086Z"
   },
   {
    "duration": 23,
    "start_time": "2022-01-09T18:28:49.524Z"
   },
   {
    "duration": 145,
    "start_time": "2022-01-09T18:28:49.567Z"
   },
   {
    "duration": 23,
    "start_time": "2022-01-09T18:28:49.715Z"
   },
   {
    "duration": 394,
    "start_time": "2022-01-09T18:28:49.742Z"
   },
   {
    "duration": 34,
    "start_time": "2022-01-09T18:28:50.138Z"
   },
   {
    "duration": 400,
    "start_time": "2022-01-09T18:28:50.175Z"
   },
   {
    "duration": 22,
    "start_time": "2022-01-09T18:28:50.578Z"
   },
   {
    "duration": 538,
    "start_time": "2022-01-09T18:28:50.603Z"
   },
   {
    "duration": 33,
    "start_time": "2022-01-09T18:28:51.144Z"
   },
   {
    "duration": 612,
    "start_time": "2022-01-09T18:28:51.180Z"
   },
   {
    "duration": 30,
    "start_time": "2022-01-09T18:28:51.796Z"
   },
   {
    "duration": 454,
    "start_time": "2022-01-09T18:28:51.828Z"
   },
   {
    "duration": 26,
    "start_time": "2022-01-09T18:28:52.285Z"
   },
   {
    "duration": 357,
    "start_time": "2022-01-09T18:28:52.314Z"
   },
   {
    "duration": 26,
    "start_time": "2022-01-09T18:28:52.674Z"
   },
   {
    "duration": 407,
    "start_time": "2022-01-09T18:28:52.704Z"
   },
   {
    "duration": 33,
    "start_time": "2022-01-09T18:28:53.114Z"
   },
   {
    "duration": 392,
    "start_time": "2022-01-09T18:28:53.167Z"
   },
   {
    "duration": 24,
    "start_time": "2022-01-09T18:28:53.561Z"
   },
   {
    "duration": 15,
    "start_time": "2022-01-09T18:28:53.588Z"
   },
   {
    "duration": 149,
    "start_time": "2022-01-09T18:28:53.605Z"
   },
   {
    "duration": 10,
    "start_time": "2022-01-09T18:28:53.757Z"
   },
   {
    "duration": 14,
    "start_time": "2022-01-09T18:28:53.776Z"
   },
   {
    "duration": 35,
    "start_time": "2022-01-09T18:28:53.798Z"
   },
   {
    "duration": 35,
    "start_time": "2022-01-09T18:28:53.836Z"
   },
   {
    "duration": 23,
    "start_time": "2022-01-09T18:28:53.874Z"
   },
   {
    "duration": 5,
    "start_time": "2022-01-09T18:28:53.900Z"
   },
   {
    "duration": 14,
    "start_time": "2022-01-09T18:28:53.909Z"
   },
   {
    "duration": 23,
    "start_time": "2022-01-09T18:32:14.285Z"
   },
   {
    "duration": 152,
    "start_time": "2022-01-09T18:33:18.560Z"
   },
   {
    "duration": 128,
    "start_time": "2022-01-09T18:33:47.641Z"
   },
   {
    "duration": 23,
    "start_time": "2022-01-09T18:34:04.834Z"
   },
   {
    "duration": 356,
    "start_time": "2022-01-09T18:34:40.978Z"
   },
   {
    "duration": 134,
    "start_time": "2022-01-09T18:34:46.814Z"
   },
   {
    "duration": 24,
    "start_time": "2022-01-09T18:35:48.088Z"
   },
   {
    "duration": 181,
    "start_time": "2022-01-09T18:36:23.892Z"
   },
   {
    "duration": 158,
    "start_time": "2022-01-09T18:36:43.750Z"
   },
   {
    "duration": 22,
    "start_time": "2022-01-09T18:37:00.838Z"
   },
   {
    "duration": 25,
    "start_time": "2022-01-09T18:37:08.657Z"
   },
   {
    "duration": 24,
    "start_time": "2022-01-09T18:37:13.943Z"
   },
   {
    "duration": 20,
    "start_time": "2022-01-09T18:38:30.628Z"
   },
   {
    "duration": 134,
    "start_time": "2022-01-09T18:39:09.403Z"
   },
   {
    "duration": 20,
    "start_time": "2022-01-09T18:39:24.117Z"
   },
   {
    "duration": 178,
    "start_time": "2022-01-09T18:40:01.964Z"
   },
   {
    "duration": 180,
    "start_time": "2022-01-09T18:46:34.475Z"
   },
   {
    "duration": 129,
    "start_time": "2022-01-09T18:47:03.016Z"
   },
   {
    "duration": 138,
    "start_time": "2022-01-09T18:47:23.424Z"
   },
   {
    "duration": 128,
    "start_time": "2022-01-09T18:47:33.904Z"
   },
   {
    "duration": 135,
    "start_time": "2022-01-09T18:47:59.229Z"
   },
   {
    "duration": 1475,
    "start_time": "2022-01-09T19:14:07.014Z"
   },
   {
    "duration": 202,
    "start_time": "2022-01-09T19:14:08.492Z"
   },
   {
    "duration": 25,
    "start_time": "2022-01-09T19:14:08.697Z"
   },
   {
    "duration": 19,
    "start_time": "2022-01-09T19:14:08.724Z"
   },
   {
    "duration": 16,
    "start_time": "2022-01-09T19:14:08.767Z"
   },
   {
    "duration": 45,
    "start_time": "2022-01-09T19:14:08.786Z"
   },
   {
    "duration": 35,
    "start_time": "2022-01-09T19:14:08.834Z"
   },
   {
    "duration": 354,
    "start_time": "2022-01-09T19:14:08.874Z"
   },
   {
    "duration": 44,
    "start_time": "2022-01-09T19:14:09.231Z"
   },
   {
    "duration": 6,
    "start_time": "2022-01-09T19:14:09.277Z"
   },
   {
    "duration": 10,
    "start_time": "2022-01-09T19:14:09.285Z"
   },
   {
    "duration": 10,
    "start_time": "2022-01-09T19:14:09.298Z"
   },
   {
    "duration": 6,
    "start_time": "2022-01-09T19:14:09.310Z"
   },
   {
    "duration": 51,
    "start_time": "2022-01-09T19:14:09.319Z"
   },
   {
    "duration": 14,
    "start_time": "2022-01-09T19:14:09.373Z"
   },
   {
    "duration": 6,
    "start_time": "2022-01-09T19:14:09.390Z"
   },
   {
    "duration": 6,
    "start_time": "2022-01-09T19:14:09.399Z"
   },
   {
    "duration": 7,
    "start_time": "2022-01-09T19:14:09.408Z"
   },
   {
    "duration": 53,
    "start_time": "2022-01-09T19:14:09.418Z"
   },
   {
    "duration": 16,
    "start_time": "2022-01-09T19:14:09.473Z"
   },
   {
    "duration": 36,
    "start_time": "2022-01-09T19:14:09.492Z"
   },
   {
    "duration": 54,
    "start_time": "2022-01-09T19:14:09.532Z"
   },
   {
    "duration": 418,
    "start_time": "2022-01-09T19:14:09.592Z"
   },
   {
    "duration": 26,
    "start_time": "2022-01-09T19:14:10.014Z"
   },
   {
    "duration": 476,
    "start_time": "2022-01-09T19:14:10.043Z"
   },
   {
    "duration": 61,
    "start_time": "2022-01-09T19:14:10.522Z"
   },
   {
    "duration": 33,
    "start_time": "2022-01-09T19:14:10.586Z"
   },
   {
    "duration": 77,
    "start_time": "2022-01-09T19:14:10.621Z"
   },
   {
    "duration": 39,
    "start_time": "2022-01-09T19:14:10.701Z"
   },
   {
    "duration": 35,
    "start_time": "2022-01-09T19:14:10.743Z"
   },
   {
    "duration": 21,
    "start_time": "2022-01-09T19:14:10.780Z"
   },
   {
    "duration": 388,
    "start_time": "2022-01-09T19:14:10.803Z"
   },
   {
    "duration": 536,
    "start_time": "2022-01-09T19:14:11.194Z"
   },
   {
    "duration": 3,
    "start_time": "2022-01-09T19:14:11.733Z"
   },
   {
    "duration": 37,
    "start_time": "2022-01-09T19:14:11.738Z"
   },
   {
    "duration": 19,
    "start_time": "2022-01-09T19:14:11.778Z"
   },
   {
    "duration": 17,
    "start_time": "2022-01-09T19:14:11.799Z"
   },
   {
    "duration": 13,
    "start_time": "2022-01-09T19:14:11.820Z"
   },
   {
    "duration": 43,
    "start_time": "2022-01-09T19:14:11.836Z"
   },
   {
    "duration": 20,
    "start_time": "2022-01-09T19:14:11.882Z"
   },
   {
    "duration": 13,
    "start_time": "2022-01-09T19:14:11.905Z"
   },
   {
    "duration": 1680,
    "start_time": "2022-01-09T19:14:11.921Z"
   },
   {
    "duration": 22,
    "start_time": "2022-01-09T19:14:13.604Z"
   },
   {
    "duration": 466,
    "start_time": "2022-01-09T19:14:13.629Z"
   },
   {
    "duration": 25,
    "start_time": "2022-01-09T19:14:14.098Z"
   },
   {
    "duration": 153,
    "start_time": "2022-01-09T19:14:14.125Z"
   },
   {
    "duration": 24,
    "start_time": "2022-01-09T19:14:14.280Z"
   },
   {
    "duration": 162,
    "start_time": "2022-01-09T19:14:14.306Z"
   },
   {
    "duration": 24,
    "start_time": "2022-01-09T19:14:14.470Z"
   },
   {
    "duration": 170,
    "start_time": "2022-01-09T19:14:14.497Z"
   },
   {
    "duration": 22,
    "start_time": "2022-01-09T19:14:14.669Z"
   },
   {
    "duration": 167,
    "start_time": "2022-01-09T19:14:14.694Z"
   },
   {
    "duration": 23,
    "start_time": "2022-01-09T19:14:14.868Z"
   },
   {
    "duration": 161,
    "start_time": "2022-01-09T19:14:14.894Z"
   },
   {
    "duration": 26,
    "start_time": "2022-01-09T19:14:15.057Z"
   },
   {
    "duration": 156,
    "start_time": "2022-01-09T19:14:15.086Z"
   },
   {
    "duration": 36,
    "start_time": "2022-01-09T19:14:15.245Z"
   },
   {
    "duration": 156,
    "start_time": "2022-01-09T19:14:15.283Z"
   },
   {
    "duration": 29,
    "start_time": "2022-01-09T19:14:15.441Z"
   },
   {
    "duration": 154,
    "start_time": "2022-01-09T19:14:15.473Z"
   },
   {
    "duration": 20,
    "start_time": "2022-01-09T19:14:15.630Z"
   },
   {
    "duration": 152,
    "start_time": "2022-01-09T19:14:15.667Z"
   },
   {
    "duration": 16,
    "start_time": "2022-01-09T19:14:15.821Z"
   },
   {
    "duration": 30,
    "start_time": "2022-01-09T19:14:15.840Z"
   },
   {
    "duration": 19,
    "start_time": "2022-01-09T19:14:15.873Z"
   },
   {
    "duration": 25,
    "start_time": "2022-01-09T19:14:15.895Z"
   },
   {
    "duration": 16,
    "start_time": "2022-01-09T19:14:15.923Z"
   },
   {
    "duration": 24,
    "start_time": "2022-01-09T19:14:15.946Z"
   },
   {
    "duration": 25,
    "start_time": "2022-01-09T19:14:15.973Z"
   },
   {
    "duration": 15,
    "start_time": "2022-01-09T19:14:16.001Z"
   },
   {
    "duration": 4,
    "start_time": "2022-01-09T19:14:16.018Z"
   },
   {
    "duration": 8,
    "start_time": "2022-01-09T19:14:16.025Z"
   },
   {
    "duration": 92,
    "start_time": "2022-01-09T19:17:38.637Z"
   },
   {
    "duration": 237,
    "start_time": "2022-01-09T19:17:47.734Z"
   },
   {
    "duration": 308,
    "start_time": "2022-01-09T19:18:18.755Z"
   },
   {
    "duration": 168,
    "start_time": "2022-01-09T19:18:31.452Z"
   },
   {
    "duration": 255,
    "start_time": "2022-01-09T19:19:03.177Z"
   },
   {
    "duration": 1596,
    "start_time": "2022-01-09T19:22:47.446Z"
   },
   {
    "duration": 313,
    "start_time": "2022-01-09T19:22:49.045Z"
   },
   {
    "duration": 26,
    "start_time": "2022-01-09T19:22:49.362Z"
   },
   {
    "duration": 21,
    "start_time": "2022-01-09T19:22:49.391Z"
   },
   {
    "duration": 18,
    "start_time": "2022-01-09T19:22:49.415Z"
   },
   {
    "duration": 68,
    "start_time": "2022-01-09T19:22:49.436Z"
   },
   {
    "duration": 5,
    "start_time": "2022-01-09T19:22:49.507Z"
   },
   {
    "duration": 383,
    "start_time": "2022-01-09T19:22:49.516Z"
   },
   {
    "duration": 25,
    "start_time": "2022-01-09T19:22:49.903Z"
   },
   {
    "duration": 40,
    "start_time": "2022-01-09T19:22:49.931Z"
   },
   {
    "duration": 11,
    "start_time": "2022-01-09T19:22:49.974Z"
   },
   {
    "duration": 11,
    "start_time": "2022-01-09T19:22:49.988Z"
   },
   {
    "duration": 7,
    "start_time": "2022-01-09T19:22:50.001Z"
   },
   {
    "duration": 18,
    "start_time": "2022-01-09T19:22:50.010Z"
   },
   {
    "duration": 49,
    "start_time": "2022-01-09T19:22:50.030Z"
   },
   {
    "duration": 5,
    "start_time": "2022-01-09T19:22:50.082Z"
   },
   {
    "duration": 5,
    "start_time": "2022-01-09T19:22:50.090Z"
   },
   {
    "duration": 9,
    "start_time": "2022-01-09T19:22:50.098Z"
   },
   {
    "duration": 60,
    "start_time": "2022-01-09T19:22:50.109Z"
   },
   {
    "duration": 15,
    "start_time": "2022-01-09T19:22:50.172Z"
   },
   {
    "duration": 34,
    "start_time": "2022-01-09T19:22:50.190Z"
   },
   {
    "duration": 60,
    "start_time": "2022-01-09T19:22:50.227Z"
   },
   {
    "duration": 420,
    "start_time": "2022-01-09T19:22:50.295Z"
   },
   {
    "duration": 23,
    "start_time": "2022-01-09T19:22:50.721Z"
   },
   {
    "duration": 462,
    "start_time": "2022-01-09T19:22:50.766Z"
   },
   {
    "duration": 53,
    "start_time": "2022-01-09T19:22:51.230Z"
   },
   {
    "duration": 35,
    "start_time": "2022-01-09T19:22:51.286Z"
   },
   {
    "duration": 81,
    "start_time": "2022-01-09T19:22:51.323Z"
   },
   {
    "duration": 73,
    "start_time": "2022-01-09T19:22:51.407Z"
   },
   {
    "duration": 14,
    "start_time": "2022-01-09T19:22:51.483Z"
   },
   {
    "duration": 26,
    "start_time": "2022-01-09T19:22:51.500Z"
   },
   {
    "duration": 198,
    "start_time": "2022-01-09T19:22:51.529Z"
   },
   {
    "duration": 558,
    "start_time": "2022-01-09T19:22:51.730Z"
   },
   {
    "duration": 3,
    "start_time": "2022-01-09T19:22:52.290Z"
   },
   {
    "duration": 16,
    "start_time": "2022-01-09T19:22:52.296Z"
   },
   {
    "duration": 53,
    "start_time": "2022-01-09T19:22:52.314Z"
   },
   {
    "duration": 20,
    "start_time": "2022-01-09T19:22:52.370Z"
   },
   {
    "duration": 19,
    "start_time": "2022-01-09T19:22:52.393Z"
   },
   {
    "duration": 51,
    "start_time": "2022-01-09T19:22:52.416Z"
   },
   {
    "duration": 19,
    "start_time": "2022-01-09T19:22:52.469Z"
   },
   {
    "duration": 11,
    "start_time": "2022-01-09T19:22:52.491Z"
   },
   {
    "duration": 1633,
    "start_time": "2022-01-09T19:22:52.505Z"
   },
   {
    "duration": 37,
    "start_time": "2022-01-09T19:22:54.141Z"
   },
   {
    "duration": 191,
    "start_time": "2022-01-09T19:22:54.182Z"
   },
   {
    "duration": 23,
    "start_time": "2022-01-09T19:22:54.377Z"
   },
   {
    "duration": 162,
    "start_time": "2022-01-09T19:22:54.403Z"
   },
   {
    "duration": 26,
    "start_time": "2022-01-09T19:22:54.567Z"
   },
   {
    "duration": 154,
    "start_time": "2022-01-09T19:22:54.596Z"
   },
   {
    "duration": 29,
    "start_time": "2022-01-09T19:22:54.752Z"
   },
   {
    "duration": 160,
    "start_time": "2022-01-09T19:22:54.783Z"
   },
   {
    "duration": 32,
    "start_time": "2022-01-09T19:22:54.945Z"
   },
   {
    "duration": 156,
    "start_time": "2022-01-09T19:22:54.980Z"
   },
   {
    "duration": 43,
    "start_time": "2022-01-09T19:22:55.140Z"
   },
   {
    "duration": 215,
    "start_time": "2022-01-09T19:22:55.186Z"
   },
   {
    "duration": 31,
    "start_time": "2022-01-09T19:22:55.404Z"
   },
   {
    "duration": 229,
    "start_time": "2022-01-09T19:22:55.438Z"
   },
   {
    "duration": 31,
    "start_time": "2022-01-09T19:22:55.670Z"
   },
   {
    "duration": 215,
    "start_time": "2022-01-09T19:22:55.705Z"
   },
   {
    "duration": 21,
    "start_time": "2022-01-09T19:22:55.922Z"
   },
   {
    "duration": 192,
    "start_time": "2022-01-09T19:22:55.946Z"
   },
   {
    "duration": 42,
    "start_time": "2022-01-09T19:22:56.141Z"
   },
   {
    "duration": 204,
    "start_time": "2022-01-09T19:22:56.186Z"
   },
   {
    "duration": 19,
    "start_time": "2022-01-09T19:22:56.394Z"
   },
   {
    "duration": 19,
    "start_time": "2022-01-09T19:22:56.416Z"
   },
   {
    "duration": 17,
    "start_time": "2022-01-09T19:22:56.468Z"
   },
   {
    "duration": 6,
    "start_time": "2022-01-09T19:22:56.488Z"
   },
   {
    "duration": 11,
    "start_time": "2022-01-09T19:22:56.497Z"
   },
   {
    "duration": 15,
    "start_time": "2022-01-09T19:22:56.516Z"
   },
   {
    "duration": 20,
    "start_time": "2022-01-09T19:22:56.569Z"
   },
   {
    "duration": 17,
    "start_time": "2022-01-09T19:22:56.592Z"
   },
   {
    "duration": 6,
    "start_time": "2022-01-09T19:22:56.612Z"
   },
   {
    "duration": 48,
    "start_time": "2022-01-09T19:22:56.621Z"
   },
   {
    "duration": 1122,
    "start_time": "2022-01-10T06:02:55.120Z"
   },
   {
    "duration": 583,
    "start_time": "2022-01-10T06:02:56.244Z"
   },
   {
    "duration": 16,
    "start_time": "2022-01-10T06:02:56.830Z"
   },
   {
    "duration": 15,
    "start_time": "2022-01-10T06:02:56.848Z"
   },
   {
    "duration": 11,
    "start_time": "2022-01-10T06:02:56.864Z"
   },
   {
    "duration": 36,
    "start_time": "2022-01-10T06:02:56.877Z"
   },
   {
    "duration": 4,
    "start_time": "2022-01-10T06:02:56.914Z"
   },
   {
    "duration": 216,
    "start_time": "2022-01-10T06:02:56.920Z"
   },
   {
    "duration": 17,
    "start_time": "2022-01-10T06:02:57.139Z"
   },
   {
    "duration": 35,
    "start_time": "2022-01-10T06:02:57.157Z"
   },
   {
    "duration": 5,
    "start_time": "2022-01-10T06:02:57.194Z"
   },
   {
    "duration": 7,
    "start_time": "2022-01-10T06:02:57.200Z"
   },
   {
    "duration": 6,
    "start_time": "2022-01-10T06:02:57.208Z"
   },
   {
    "duration": 8,
    "start_time": "2022-01-10T06:02:57.215Z"
   },
   {
    "duration": 11,
    "start_time": "2022-01-10T06:02:57.225Z"
   },
   {
    "duration": 3,
    "start_time": "2022-01-10T06:02:57.238Z"
   },
   {
    "duration": 6,
    "start_time": "2022-01-10T06:02:57.243Z"
   },
   {
    "duration": 6,
    "start_time": "2022-01-10T06:02:57.250Z"
   },
   {
    "duration": 40,
    "start_time": "2022-01-10T06:02:57.257Z"
   },
   {
    "duration": 8,
    "start_time": "2022-01-10T06:02:57.298Z"
   },
   {
    "duration": 18,
    "start_time": "2022-01-10T06:02:57.308Z"
   },
   {
    "duration": 17,
    "start_time": "2022-01-10T06:02:57.328Z"
   },
   {
    "duration": 272,
    "start_time": "2022-01-10T06:02:57.349Z"
   },
   {
    "duration": 15,
    "start_time": "2022-01-10T06:02:57.624Z"
   },
   {
    "duration": 301,
    "start_time": "2022-01-10T06:02:57.641Z"
   },
   {
    "duration": 25,
    "start_time": "2022-01-10T06:02:57.944Z"
   },
   {
    "duration": 35,
    "start_time": "2022-01-10T06:02:57.971Z"
   },
   {
    "duration": 31,
    "start_time": "2022-01-10T06:02:58.008Z"
   },
   {
    "duration": 21,
    "start_time": "2022-01-10T06:02:58.041Z"
   },
   {
    "duration": 34,
    "start_time": "2022-01-10T06:02:58.063Z"
   },
   {
    "duration": 13,
    "start_time": "2022-01-10T06:02:58.098Z"
   },
   {
    "duration": 109,
    "start_time": "2022-01-10T06:02:58.113Z"
   },
   {
    "duration": 319,
    "start_time": "2022-01-10T06:02:58.223Z"
   },
   {
    "duration": 2,
    "start_time": "2022-01-10T06:02:58.543Z"
   },
   {
    "duration": 13,
    "start_time": "2022-01-10T06:02:58.547Z"
   },
   {
    "duration": 9,
    "start_time": "2022-01-10T06:02:58.561Z"
   },
   {
    "duration": 24,
    "start_time": "2022-01-10T06:02:58.571Z"
   },
   {
    "duration": 9,
    "start_time": "2022-01-10T06:02:58.596Z"
   },
   {
    "duration": 9,
    "start_time": "2022-01-10T06:02:58.607Z"
   },
   {
    "duration": 15,
    "start_time": "2022-01-10T06:02:58.618Z"
   },
   {
    "duration": 7,
    "start_time": "2022-01-10T06:02:58.634Z"
   },
   {
    "duration": 1127,
    "start_time": "2022-01-10T06:02:58.642Z"
   },
   {
    "duration": 21,
    "start_time": "2022-01-10T06:02:59.770Z"
   },
   {
    "duration": 118,
    "start_time": "2022-01-10T06:02:59.793Z"
   },
   {
    "duration": 16,
    "start_time": "2022-01-10T06:02:59.913Z"
   },
   {
    "duration": 99,
    "start_time": "2022-01-10T06:02:59.930Z"
   },
   {
    "duration": 16,
    "start_time": "2022-01-10T06:03:00.031Z"
   },
   {
    "duration": 97,
    "start_time": "2022-01-10T06:03:00.049Z"
   },
   {
    "duration": 16,
    "start_time": "2022-01-10T06:03:00.147Z"
   },
   {
    "duration": 100,
    "start_time": "2022-01-10T06:03:00.165Z"
   },
   {
    "duration": 24,
    "start_time": "2022-01-10T06:03:00.267Z"
   },
   {
    "duration": 94,
    "start_time": "2022-01-10T06:03:00.293Z"
   },
   {
    "duration": 14,
    "start_time": "2022-01-10T06:03:00.389Z"
   },
   {
    "duration": 97,
    "start_time": "2022-01-10T06:03:00.405Z"
   },
   {
    "duration": 14,
    "start_time": "2022-01-10T06:03:00.504Z"
   },
   {
    "duration": 98,
    "start_time": "2022-01-10T06:03:00.520Z"
   },
   {
    "duration": 14,
    "start_time": "2022-01-10T06:03:00.620Z"
   },
   {
    "duration": 97,
    "start_time": "2022-01-10T06:03:00.635Z"
   },
   {
    "duration": 15,
    "start_time": "2022-01-10T06:03:00.734Z"
   },
   {
    "duration": 95,
    "start_time": "2022-01-10T06:03:00.750Z"
   },
   {
    "duration": 14,
    "start_time": "2022-01-10T06:03:00.846Z"
   },
   {
    "duration": 95,
    "start_time": "2022-01-10T06:03:00.862Z"
   },
   {
    "duration": 11,
    "start_time": "2022-01-10T06:03:00.959Z"
   },
   {
    "duration": 24,
    "start_time": "2022-01-10T06:03:00.972Z"
   },
   {
    "duration": 21,
    "start_time": "2022-01-10T06:03:00.997Z"
   },
   {
    "duration": 19,
    "start_time": "2022-01-10T06:03:01.020Z"
   },
   {
    "duration": 25,
    "start_time": "2022-01-10T06:03:01.041Z"
   },
   {
    "duration": 32,
    "start_time": "2022-01-10T06:03:01.071Z"
   },
   {
    "duration": 28,
    "start_time": "2022-01-10T06:03:01.105Z"
   },
   {
    "duration": 21,
    "start_time": "2022-01-10T06:03:01.135Z"
   },
   {
    "duration": 19,
    "start_time": "2022-01-10T06:03:01.158Z"
   },
   {
    "duration": 22,
    "start_time": "2022-01-10T06:03:01.179Z"
   }
  ],
  "kernelspec": {
   "display_name": "Python 3 (ipykernel)",
   "language": "python",
   "name": "python3"
  },
  "language_info": {
   "codemirror_mode": {
    "name": "ipython",
    "version": 3
   },
   "file_extension": ".py",
   "mimetype": "text/x-python",
   "name": "python",
   "nbconvert_exporter": "python",
   "pygments_lexer": "ipython3",
   "version": "3.9.5"
  },
  "toc": {
   "base_numbering": 1,
   "nav_menu": {},
   "number_sections": true,
   "sideBar": true,
   "skip_h1_title": true,
   "title_cell": "Table of Contents",
   "title_sidebar": "Contents",
   "toc_cell": false,
   "toc_position": {
    "height": "calc(100% - 180px)",
    "left": "10px",
    "top": "150px",
    "width": "245.594px"
   },
   "toc_section_display": true,
   "toc_window_display": true
  }
 },
 "nbformat": 4,
 "nbformat_minor": 2
}
