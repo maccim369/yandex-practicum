{
 "cells": [
  {
   "cell_type": "markdown",
   "metadata": {},
   "source": [
    "# План работы\n",
    "\n",
    "1. Обзор данных.\n",
    "2. Предобработка данных.\n",
    "3. Ответы на поставленные вопросы.\n",
    "4. Общий вывод\n"
   ]
  },
  {
   "cell_type": "markdown",
   "metadata": {},
   "source": [
    "## Откройте файл с данными и изучите общую информацию"
   ]
  },
  {
   "cell_type": "markdown",
   "metadata": {},
   "source": [
    "<div style=\"border:solid blue 2px; padding: 20px\">\n",
    "\n",
    "Импортируем библиотеку `pandas`.\n",
    "</div>"
   ]
  },
  {
   "cell_type": "code",
   "execution_count": 1,
   "metadata": {},
   "outputs": [],
   "source": [
    "# импорт библиотеки pandas\n",
    "import pandas as pd"
   ]
  },
  {
   "cell_type": "markdown",
   "metadata": {},
   "source": [
    "<div style=\"border:solid blue 2px; padding: 20px\">\n",
    "    \n",
    "Методом `read_csv()` прочитаем файл `data.csv` и сохраним в переменную `df`:\n",
    "    \n",
    "</div>"
   ]
  },
  {
   "cell_type": "code",
   "execution_count": 2,
   "metadata": {},
   "outputs": [],
   "source": [
    "# чтение файла с данными и сохранение в df\n",
    "# метод try-except поможет загрузить данные локально или глобально\n",
    "try:\n",
    "    df = pd.read_csv('C:/Users/datasets/data.csv')  # Локальный путь\n",
    "except:\n",
    "    df = pd.read_csv('/datasets/data.csv')  # Серверный путь"
   ]
  },
  {
   "cell_type": "markdown",
   "metadata": {},
   "source": [
    "<div style=\"border:solid blue 2px; padding: 20px\">\n",
    "    \n",
    "`head()` выводим на экран первые десять строк таблицы:\n",
    "    </div>"
   ]
  },
  {
   "cell_type": "code",
   "execution_count": 3,
   "metadata": {
    "scrolled": false
   },
   "outputs": [
    {
     "data": {
      "text/html": [
       "<div>\n",
       "<style scoped>\n",
       "    .dataframe tbody tr th:only-of-type {\n",
       "        vertical-align: middle;\n",
       "    }\n",
       "\n",
       "    .dataframe tbody tr th {\n",
       "        vertical-align: top;\n",
       "    }\n",
       "\n",
       "    .dataframe thead th {\n",
       "        text-align: right;\n",
       "    }\n",
       "</style>\n",
       "<table border=\"1\" class=\"dataframe\">\n",
       "  <thead>\n",
       "    <tr style=\"text-align: right;\">\n",
       "      <th></th>\n",
       "      <th>children</th>\n",
       "      <th>days_employed</th>\n",
       "      <th>dob_years</th>\n",
       "      <th>education</th>\n",
       "      <th>education_id</th>\n",
       "      <th>family_status</th>\n",
       "      <th>family_status_id</th>\n",
       "      <th>gender</th>\n",
       "      <th>income_type</th>\n",
       "      <th>debt</th>\n",
       "      <th>total_income</th>\n",
       "      <th>purpose</th>\n",
       "    </tr>\n",
       "  </thead>\n",
       "  <tbody>\n",
       "    <tr>\n",
       "      <td>0</td>\n",
       "      <td>1</td>\n",
       "      <td>-8437.673028</td>\n",
       "      <td>42</td>\n",
       "      <td>высшее</td>\n",
       "      <td>0</td>\n",
       "      <td>женат / замужем</td>\n",
       "      <td>0</td>\n",
       "      <td>F</td>\n",
       "      <td>сотрудник</td>\n",
       "      <td>0</td>\n",
       "      <td>253875.639453</td>\n",
       "      <td>покупка жилья</td>\n",
       "    </tr>\n",
       "    <tr>\n",
       "      <td>1</td>\n",
       "      <td>1</td>\n",
       "      <td>-4024.803754</td>\n",
       "      <td>36</td>\n",
       "      <td>среднее</td>\n",
       "      <td>1</td>\n",
       "      <td>женат / замужем</td>\n",
       "      <td>0</td>\n",
       "      <td>F</td>\n",
       "      <td>сотрудник</td>\n",
       "      <td>0</td>\n",
       "      <td>112080.014102</td>\n",
       "      <td>приобретение автомобиля</td>\n",
       "    </tr>\n",
       "    <tr>\n",
       "      <td>2</td>\n",
       "      <td>0</td>\n",
       "      <td>-5623.422610</td>\n",
       "      <td>33</td>\n",
       "      <td>Среднее</td>\n",
       "      <td>1</td>\n",
       "      <td>женат / замужем</td>\n",
       "      <td>0</td>\n",
       "      <td>M</td>\n",
       "      <td>сотрудник</td>\n",
       "      <td>0</td>\n",
       "      <td>145885.952297</td>\n",
       "      <td>покупка жилья</td>\n",
       "    </tr>\n",
       "    <tr>\n",
       "      <td>3</td>\n",
       "      <td>3</td>\n",
       "      <td>-4124.747207</td>\n",
       "      <td>32</td>\n",
       "      <td>среднее</td>\n",
       "      <td>1</td>\n",
       "      <td>женат / замужем</td>\n",
       "      <td>0</td>\n",
       "      <td>M</td>\n",
       "      <td>сотрудник</td>\n",
       "      <td>0</td>\n",
       "      <td>267628.550329</td>\n",
       "      <td>дополнительное образование</td>\n",
       "    </tr>\n",
       "    <tr>\n",
       "      <td>4</td>\n",
       "      <td>0</td>\n",
       "      <td>340266.072047</td>\n",
       "      <td>53</td>\n",
       "      <td>среднее</td>\n",
       "      <td>1</td>\n",
       "      <td>гражданский брак</td>\n",
       "      <td>1</td>\n",
       "      <td>F</td>\n",
       "      <td>пенсионер</td>\n",
       "      <td>0</td>\n",
       "      <td>158616.077870</td>\n",
       "      <td>сыграть свадьбу</td>\n",
       "    </tr>\n",
       "    <tr>\n",
       "      <td>5</td>\n",
       "      <td>0</td>\n",
       "      <td>-926.185831</td>\n",
       "      <td>27</td>\n",
       "      <td>высшее</td>\n",
       "      <td>0</td>\n",
       "      <td>гражданский брак</td>\n",
       "      <td>1</td>\n",
       "      <td>M</td>\n",
       "      <td>компаньон</td>\n",
       "      <td>0</td>\n",
       "      <td>255763.565419</td>\n",
       "      <td>покупка жилья</td>\n",
       "    </tr>\n",
       "    <tr>\n",
       "      <td>6</td>\n",
       "      <td>0</td>\n",
       "      <td>-2879.202052</td>\n",
       "      <td>43</td>\n",
       "      <td>высшее</td>\n",
       "      <td>0</td>\n",
       "      <td>женат / замужем</td>\n",
       "      <td>0</td>\n",
       "      <td>F</td>\n",
       "      <td>компаньон</td>\n",
       "      <td>0</td>\n",
       "      <td>240525.971920</td>\n",
       "      <td>операции с жильем</td>\n",
       "    </tr>\n",
       "    <tr>\n",
       "      <td>7</td>\n",
       "      <td>0</td>\n",
       "      <td>-152.779569</td>\n",
       "      <td>50</td>\n",
       "      <td>СРЕДНЕЕ</td>\n",
       "      <td>1</td>\n",
       "      <td>женат / замужем</td>\n",
       "      <td>0</td>\n",
       "      <td>M</td>\n",
       "      <td>сотрудник</td>\n",
       "      <td>0</td>\n",
       "      <td>135823.934197</td>\n",
       "      <td>образование</td>\n",
       "    </tr>\n",
       "    <tr>\n",
       "      <td>8</td>\n",
       "      <td>2</td>\n",
       "      <td>-6929.865299</td>\n",
       "      <td>35</td>\n",
       "      <td>ВЫСШЕЕ</td>\n",
       "      <td>0</td>\n",
       "      <td>гражданский брак</td>\n",
       "      <td>1</td>\n",
       "      <td>F</td>\n",
       "      <td>сотрудник</td>\n",
       "      <td>0</td>\n",
       "      <td>95856.832424</td>\n",
       "      <td>на проведение свадьбы</td>\n",
       "    </tr>\n",
       "    <tr>\n",
       "      <td>9</td>\n",
       "      <td>0</td>\n",
       "      <td>-2188.756445</td>\n",
       "      <td>41</td>\n",
       "      <td>среднее</td>\n",
       "      <td>1</td>\n",
       "      <td>женат / замужем</td>\n",
       "      <td>0</td>\n",
       "      <td>M</td>\n",
       "      <td>сотрудник</td>\n",
       "      <td>0</td>\n",
       "      <td>144425.938277</td>\n",
       "      <td>покупка жилья для семьи</td>\n",
       "    </tr>\n",
       "  </tbody>\n",
       "</table>\n",
       "</div>"
      ],
      "text/plain": [
       "   children  days_employed  dob_years education  education_id  \\\n",
       "0         1   -8437.673028         42    высшее             0   \n",
       "1         1   -4024.803754         36   среднее             1   \n",
       "2         0   -5623.422610         33   Среднее             1   \n",
       "3         3   -4124.747207         32   среднее             1   \n",
       "4         0  340266.072047         53   среднее             1   \n",
       "5         0    -926.185831         27    высшее             0   \n",
       "6         0   -2879.202052         43    высшее             0   \n",
       "7         0    -152.779569         50   СРЕДНЕЕ             1   \n",
       "8         2   -6929.865299         35    ВЫСШЕЕ             0   \n",
       "9         0   -2188.756445         41   среднее             1   \n",
       "\n",
       "      family_status  family_status_id gender income_type  debt   total_income  \\\n",
       "0   женат / замужем                 0      F   сотрудник     0  253875.639453   \n",
       "1   женат / замужем                 0      F   сотрудник     0  112080.014102   \n",
       "2   женат / замужем                 0      M   сотрудник     0  145885.952297   \n",
       "3   женат / замужем                 0      M   сотрудник     0  267628.550329   \n",
       "4  гражданский брак                 1      F   пенсионер     0  158616.077870   \n",
       "5  гражданский брак                 1      M   компаньон     0  255763.565419   \n",
       "6   женат / замужем                 0      F   компаньон     0  240525.971920   \n",
       "7   женат / замужем                 0      M   сотрудник     0  135823.934197   \n",
       "8  гражданский брак                 1      F   сотрудник     0   95856.832424   \n",
       "9   женат / замужем                 0      M   сотрудник     0  144425.938277   \n",
       "\n",
       "                      purpose  \n",
       "0               покупка жилья  \n",
       "1     приобретение автомобиля  \n",
       "2               покупка жилья  \n",
       "3  дополнительное образование  \n",
       "4             сыграть свадьбу  \n",
       "5               покупка жилья  \n",
       "6           операции с жильем  \n",
       "7                 образование  \n",
       "8       на проведение свадьбы  \n",
       "9     покупка жилья для семьи  "
      ]
     },
     "execution_count": 3,
     "metadata": {},
     "output_type": "execute_result"
    }
   ],
   "source": [
    "# получение первых 10 строк таблицы df\n",
    "df.head(10)"
   ]
  },
  {
   "cell_type": "markdown",
   "metadata": {},
   "source": [
    "<div style=\"border:solid blue 2px; padding: 20px\">\n",
    "    \n",
    "`info()` получим общую информацию о таблице:\n",
    "    </div>"
   ]
  },
  {
   "cell_type": "code",
   "execution_count": 4,
   "metadata": {
    "scrolled": false
   },
   "outputs": [
    {
     "name": "stdout",
     "output_type": "stream",
     "text": [
      "<class 'pandas.core.frame.DataFrame'>\n",
      "RangeIndex: 21525 entries, 0 to 21524\n",
      "Data columns (total 12 columns):\n",
      "children            21525 non-null int64\n",
      "days_employed       19351 non-null float64\n",
      "dob_years           21525 non-null int64\n",
      "education           21525 non-null object\n",
      "education_id        21525 non-null int64\n",
      "family_status       21525 non-null object\n",
      "family_status_id    21525 non-null int64\n",
      "gender              21525 non-null object\n",
      "income_type         21525 non-null object\n",
      "debt                21525 non-null int64\n",
      "total_income        19351 non-null float64\n",
      "purpose             21525 non-null object\n",
      "dtypes: float64(2), int64(5), object(5)\n",
      "memory usage: 2.0+ MB\n"
     ]
    }
   ],
   "source": [
    "# получение общей информации о данных в таблице df\n",
    "df.info()"
   ]
  },
  {
   "cell_type": "markdown",
   "metadata": {},
   "source": [
    "<div style=\"border:solid blue 2px; padding: 20px\">\n",
    "    \n",
    "    \n",
    "**Категориальные** - `education`,`education_id`,`family_status`,`family_status_id`,`gender`,`income_type`,`debt`,`purpose`.\n",
    "    \n",
    "**Количественные** - `children`,`days_employed`,`dob_years`,`total_income`.\n",
    "    \n",
    "\n",
    "* `children` — количество детей в семье;\n",
    "* `days_employed` — общий трудовой стаж;\n",
    "* `dob_years` — возраст клиента;\n",
    "* `education` — уровень образования клиента;\n",
    "* `education_id` — идентификатор уровня образования;\n",
    "* `family_status` — семейное положение;\n",
    "* `family_status_id` — идентификатор семейного положения;\n",
    "* `gender` — пол клиента;\n",
    "* `income_type` — тип занятости;\n",
    "* `debt` — имел ли задолженность по возврату кредитов;\n",
    "* `total_income` — ежемесячный доход;\n",
    "* `purpose` — цель получения кредита.\n",
    "\n",
    "    \n",
    " </div>   \n"
   ]
  },
  {
   "cell_type": "code",
   "execution_count": 5,
   "metadata": {},
   "outputs": [
    {
     "data": {
      "text/plain": [
       "array([-1,  0,  1,  2,  3,  4,  5, 20])"
      ]
     },
     "execution_count": 5,
     "metadata": {},
     "output_type": "execute_result"
    }
   ],
   "source": [
    "# просмотр уникальных названий children\n",
    "df['children'].sort_values().unique()"
   ]
  },
  {
   "cell_type": "markdown",
   "metadata": {},
   "source": [
    "<div style=\"border:solid blue 2px; padding: 20px\">\n",
    "    \n",
    "Артефакты `children` обнаружены `-1` и `20`\n",
    "    </div>"
   ]
  },
  {
   "cell_type": "code",
   "execution_count": 6,
   "metadata": {},
   "outputs": [
    {
     "data": {
      "text/plain": [
       "array([-18388.94990057, -17615.56326563, -16593.47281726, ...,\n",
       "       401715.81174889, 401755.40047533,             nan])"
      ]
     },
     "execution_count": 6,
     "metadata": {},
     "output_type": "execute_result"
    }
   ],
   "source": [
    "# просмотр уникальных названий days_employed\n",
    "df['days_employed'].sort_values().unique()"
   ]
  },
  {
   "cell_type": "markdown",
   "metadata": {},
   "source": [
    "<div style=\"border:solid blue 2px; padding: 20px\">\n",
    "    \n",
    "Пропуски `days_employed` обнаружены `NaN`\n",
    "    \n",
    "</div>"
   ]
  },
  {
   "cell_type": "code",
   "execution_count": 7,
   "metadata": {},
   "outputs": [
    {
     "data": {
      "text/plain": [
       "array([ 0, 19, 20, 21, 22, 23, 24, 25, 26, 27, 28, 29, 30, 31, 32, 33, 34,\n",
       "       35, 36, 37, 38, 39, 40, 41, 42, 43, 44, 45, 46, 47, 48, 49, 50, 51,\n",
       "       52, 53, 54, 55, 56, 57, 58, 59, 60, 61, 62, 63, 64, 65, 66, 67, 68,\n",
       "       69, 70, 71, 72, 73, 74, 75])"
      ]
     },
     "execution_count": 7,
     "metadata": {},
     "output_type": "execute_result"
    }
   ],
   "source": [
    "# просмотр уникальных названий dob_years\n",
    "df['dob_years'].sort_values().unique()"
   ]
  },
  {
   "cell_type": "markdown",
   "metadata": {},
   "source": [
    "<div style=\"border:solid blue 2px; padding: 20px\">\n",
    "    \n",
    "Пропуски `dob_years` обнаружены `0`\n",
    " </div>"
   ]
  },
  {
   "cell_type": "code",
   "execution_count": 8,
   "metadata": {
    "scrolled": true
   },
   "outputs": [
    {
     "data": {
      "text/plain": [
       "array(['ВЫСШЕЕ', 'Высшее', 'НАЧАЛЬНОЕ', 'НЕОКОНЧЕННОЕ ВЫСШЕЕ',\n",
       "       'Начальное', 'Неоконченное высшее', 'СРЕДНЕЕ', 'Среднее',\n",
       "       'УЧЕНАЯ СТЕПЕНЬ', 'Ученая степень', 'высшее', 'начальное',\n",
       "       'неоконченное высшее', 'среднее', 'ученая степень'], dtype=object)"
      ]
     },
     "execution_count": 8,
     "metadata": {},
     "output_type": "execute_result"
    }
   ],
   "source": [
    "# просмотр уникальных названий education\n",
    "df['education'].sort_values().unique()"
   ]
  },
  {
   "cell_type": "markdown",
   "metadata": {},
   "source": [
    "<div style=\"border:solid blue 2px; padding: 20px\">\n",
    "    \n",
    "BodyShaming `education` обнаружены отклонения от стандартов\n",
    "    </div>"
   ]
  },
  {
   "cell_type": "code",
   "execution_count": 9,
   "metadata": {},
   "outputs": [
    {
     "data": {
      "text/plain": [
       "array(['Не женат / не замужем', 'в разводе', 'вдовец / вдова',\n",
       "       'гражданский брак', 'женат / замужем'], dtype=object)"
      ]
     },
     "execution_count": 9,
     "metadata": {},
     "output_type": "execute_result"
    }
   ],
   "source": [
    "# просмотр уникальных названий family_status\n",
    "df['family_status'].sort_values().unique()"
   ]
  },
  {
   "cell_type": "markdown",
   "metadata": {},
   "source": [
    "<div style=\"border:solid blue 2px; padding: 20px\">\n",
    "    \n",
    "Исправим `family_status` на нижний регистр у `Не женат / не замужем`\n",
    "   \n",
    "\n",
    "</div>"
   ]
  },
  {
   "cell_type": "code",
   "execution_count": 10,
   "metadata": {},
   "outputs": [
    {
     "data": {
      "text/plain": [
       "array(['F', 'M', 'XNA'], dtype=object)"
      ]
     },
     "execution_count": 10,
     "metadata": {},
     "output_type": "execute_result"
    }
   ],
   "source": [
    "# просмотр уникальных названий gender\n",
    "df['gender'].sort_values().unique()"
   ]
  },
  {
   "cell_type": "markdown",
   "metadata": {},
   "source": [
    "<div style=\"border:solid blue 2px; padding: 20px\">\n",
    "    \n",
    "Артефакты `gender` обнаружены `XNA`\n",
    "    </div>"
   ]
  },
  {
   "cell_type": "code",
   "execution_count": 11,
   "metadata": {},
   "outputs": [
    {
     "data": {
      "text/plain": [
       "array(['безработный', 'в декрете', 'госслужащий', 'компаньон',\n",
       "       'пенсионер', 'предприниматель', 'сотрудник', 'студент'],\n",
       "      dtype=object)"
      ]
     },
     "execution_count": 11,
     "metadata": {},
     "output_type": "execute_result"
    }
   ],
   "source": [
    "# просмотр уникальных названий income_type\n",
    "df['income_type'].sort_values().unique()"
   ]
  },
  {
   "cell_type": "code",
   "execution_count": 12,
   "metadata": {},
   "outputs": [
    {
     "data": {
      "text/plain": [
       "array([0, 1])"
      ]
     },
     "execution_count": 12,
     "metadata": {},
     "output_type": "execute_result"
    }
   ],
   "source": [
    "# просмотр уникальных названий debt\n",
    "df['debt'].sort_values().unique()"
   ]
  },
  {
   "cell_type": "code",
   "execution_count": 13,
   "metadata": {
    "scrolled": true
   },
   "outputs": [
    {
     "data": {
      "text/plain": [
       "array([  20667.26379327,   21205.28056622,   21367.64835649, ...,\n",
       "       2200852.2102589 , 2265604.02872274,              nan])"
      ]
     },
     "execution_count": 13,
     "metadata": {},
     "output_type": "execute_result"
    }
   ],
   "source": [
    "# просмотр уникальных названий total_income\n",
    "df['total_income'].sort_values().unique()"
   ]
  },
  {
   "cell_type": "markdown",
   "metadata": {},
   "source": [
    "<div style=\"border:solid blue 2px; padding: 20px\">\n",
    "    \n",
    "Пропуски `total_income` обнаружены `NaN`\n",
    "    </div>"
   ]
  },
  {
   "cell_type": "code",
   "execution_count": 14,
   "metadata": {
    "scrolled": false
   },
   "outputs": [
    {
     "data": {
      "text/plain": [
       "array(['автомобили', 'автомобиль', 'высшее образование',\n",
       "       'дополнительное образование', 'жилье',\n",
       "       'заняться высшим образованием', 'заняться образованием',\n",
       "       'на покупку автомобиля', 'на покупку подержанного автомобиля',\n",
       "       'на покупку своего автомобиля', 'на проведение свадьбы',\n",
       "       'недвижимость', 'образование', 'операции с жильем',\n",
       "       'операции с коммерческой недвижимостью',\n",
       "       'операции с недвижимостью', 'операции со своей недвижимостью',\n",
       "       'покупка жилой недвижимости', 'покупка жилья',\n",
       "       'покупка жилья для сдачи', 'покупка жилья для семьи',\n",
       "       'покупка коммерческой недвижимости', 'покупка недвижимости',\n",
       "       'покупка своего жилья', 'получение высшего образования',\n",
       "       'получение дополнительного образования', 'получение образования',\n",
       "       'приобретение автомобиля', 'профильное образование',\n",
       "       'ремонт жилью', 'свадьба', 'свой автомобиль',\n",
       "       'сделка с автомобилем', 'сделка с подержанным автомобилем',\n",
       "       'строительство жилой недвижимости', 'строительство недвижимости',\n",
       "       'строительство собственной недвижимости', 'сыграть свадьбу'],\n",
       "      dtype=object)"
      ]
     },
     "execution_count": 14,
     "metadata": {},
     "output_type": "execute_result"
    }
   ],
   "source": [
    "# просмотр уникальных названий purpose\n",
    "df['purpose'].sort_values().unique()"
   ]
  },
  {
   "cell_type": "markdown",
   "metadata": {},
   "source": [
    "<div style=\"border:solid blue 2px; padding: 20px\">\n",
    "    \n",
    "Информация по `purpose` состоит из значений - неявных дубликатов. Применим лемматизацию.\n",
    "</div>"
   ]
  },
  {
   "cell_type": "markdown",
   "metadata": {},
   "source": [
    "<div style=\"border:solid blue 2px; padding: 20px\">\n",
    "    \n",
    "\n",
    "\n",
    "**Оценка полученных данных**\n",
    "\n",
    "Наблюдения, представленные в таблице описываются категориальными и количественными значениями.\n",
    "    \n",
    "Полученные данные можно исследовать для проверки **гипотезы**:\n",
    "    \n",
    "Данные содержат проблемы (ошибки), которые могут привести написанный алгоритм работы к искаженным результатам.\n",
    "    \n",
    "\n",
    "**Проблемы и их возможные причины появления:**\n",
    "    \n",
    "\n",
    "- Уникальные значения в количестве детей в семье `children` содержат `-1` и `20`.   Причина появления: человеческий фактор. Возможно опечатка. Решим проблему заменой на корректные `1` и `2`.\n",
    "\n",
    "    \n",
    "    \n",
    "- Пропущенные значения по общему трудовому стажу `days_employed`:\n",
    "\n",
    "    отрицательные отражают значения до пенсионного возраста `gender` для женщин - 55 лет, мужчин – 60 лет;    \n",
    "    \n",
    "    положительные отражают значения после пенсионного возраста `gender` для женщин - 55 лет, мужчин – 60 лет.\n",
    "        \n",
    "    Причина появления: технологическая. Видимо происходит смена формата. Решим заполнением по группам для до и после пенсионного возраста.    \n",
    "\n",
    "    \n",
    "- Пропущенные значения по ежемесячному доходу `total_income`.\n",
    "    \n",
    "    \n",
    "    Причина появления: технологическая. Возможно во время записи данных. Проблему решим заполнением.    \n",
    "    \n",
    "- Уникальные значения в возрасте клиента `dob_years` содержат `0`. \n",
    "    \n",
    "    \n",
    "    Причина появления: технологическая. Можно предположить, что это какой-нибудь спец символ. Решим проблему заменой.\n",
    "    \n",
    "- Значения уровня образования клиента `education` и `family_status`записаны в разных регистрах.\n",
    "    \n",
    "     \n",
    "    Причина появления: человеческий фактор. Вероятно заполнялись оператором. Приведем к нижнему регистру.     \n",
    "    \n",
    "- Уникальные значения пола клиента `gender` содержат `'XNA'`.                                     Причина появления: технологическая. Какой-нибудь спец символ аналог `'n/a'` или `'NN'`. Решим проблему заменой.\n",
    "    \n",
    "    \n",
    "  \n",
    " </div>  "
   ]
  },
  {
   "cell_type": "markdown",
   "metadata": {},
   "source": [
    "## Предобработка данных"
   ]
  },
  {
   "cell_type": "markdown",
   "metadata": {},
   "source": [
    "### Обработка пропусков"
   ]
  },
  {
   "cell_type": "markdown",
   "metadata": {},
   "source": [
    "<div style=\"border:solid blue 2px; padding: 20px\">\n",
    "    \n",
    "Пропуски в количественных значениях `income_type` и `days_employed` заполним характерными значениями `median()`.\n",
    "\n",
    "\n",
    "    \n",
    "    \n",
    "</div>  "
   ]
  },
  {
   "cell_type": "markdown",
   "metadata": {},
   "source": [
    "<div style=\"border:solid blue 2px; padding: 20px\">\n",
    "    \n",
    "\n",
    "Методом `pivot_table()` сделаем сводную таблицу по типу занятости с медианными значениями ежемесячного дохода\n",
    "\n",
    "    \n",
    "    \n",
    "</div> \n",
    "\n",
    "<a id=\"general_conclusion\"></a>"
   ]
  },
  {
   "cell_type": "code",
   "execution_count": 15,
   "metadata": {},
   "outputs": [
    {
     "data": {
      "text/html": [
       "<div>\n",
       "<style scoped>\n",
       "    .dataframe tbody tr th:only-of-type {\n",
       "        vertical-align: middle;\n",
       "    }\n",
       "\n",
       "    .dataframe tbody tr th {\n",
       "        vertical-align: top;\n",
       "    }\n",
       "\n",
       "    .dataframe thead th {\n",
       "        text-align: right;\n",
       "    }\n",
       "</style>\n",
       "<table border=\"1\" class=\"dataframe\">\n",
       "  <thead>\n",
       "    <tr style=\"text-align: right;\">\n",
       "      <th></th>\n",
       "      <th>total_income</th>\n",
       "    </tr>\n",
       "    <tr>\n",
       "      <th>income_type</th>\n",
       "      <th></th>\n",
       "    </tr>\n",
       "  </thead>\n",
       "  <tbody>\n",
       "    <tr>\n",
       "      <td>безработный</td>\n",
       "      <td>131339.751676</td>\n",
       "    </tr>\n",
       "    <tr>\n",
       "      <td>в декрете</td>\n",
       "      <td>53829.130729</td>\n",
       "    </tr>\n",
       "    <tr>\n",
       "      <td>госслужащий</td>\n",
       "      <td>150447.935283</td>\n",
       "    </tr>\n",
       "    <tr>\n",
       "      <td>компаньон</td>\n",
       "      <td>172357.950966</td>\n",
       "    </tr>\n",
       "    <tr>\n",
       "      <td>пенсионер</td>\n",
       "      <td>118514.486412</td>\n",
       "    </tr>\n",
       "    <tr>\n",
       "      <td>предприниматель</td>\n",
       "      <td>499163.144947</td>\n",
       "    </tr>\n",
       "    <tr>\n",
       "      <td>сотрудник</td>\n",
       "      <td>142594.396847</td>\n",
       "    </tr>\n",
       "    <tr>\n",
       "      <td>студент</td>\n",
       "      <td>98201.625314</td>\n",
       "    </tr>\n",
       "  </tbody>\n",
       "</table>\n",
       "</div>"
      ],
      "text/plain": [
       "                  total_income\n",
       "income_type                   \n",
       "безработный      131339.751676\n",
       "в декрете         53829.130729\n",
       "госслужащий      150447.935283\n",
       "компаньон        172357.950966\n",
       "пенсионер        118514.486412\n",
       "предприниматель  499163.144947\n",
       "сотрудник        142594.396847\n",
       "студент           98201.625314"
      ]
     },
     "execution_count": 15,
     "metadata": {},
     "output_type": "execute_result"
    }
   ],
   "source": [
    "# сделаем сводную таблицу\n",
    "income_type_pivot_table = df.pivot_table(index=['income_type'], values='total_income', aggfunc='median')\n",
    "income_type_pivot_table"
   ]
  },
  {
   "cell_type": "markdown",
   "metadata": {},
   "source": [
    "<div style=\"border:solid blue 2px; padding: 20px\">\n",
    "    \n",
    "\n",
    "Методом `unique()` составим список типов занятости\n",
    "\n",
    "    \n",
    "    \n",
    "</div> "
   ]
  },
  {
   "cell_type": "code",
   "execution_count": 16,
   "metadata": {},
   "outputs": [
    {
     "name": "stdout",
     "output_type": "stream",
     "text": [
      "Список типов занятости - ['безработный', 'в декрете', 'госслужащий', 'компаньон', 'пенсионер', 'предприниматель', 'сотрудник', 'студент']\n"
     ]
    }
   ],
   "source": [
    "# составим список типов занятости\n",
    "income_type_unique = df['income_type'].sort_values().unique()\n",
    "print('Список типов занятости -', list(income_type_unique))"
   ]
  },
  {
   "cell_type": "markdown",
   "metadata": {},
   "source": [
    "<div style=\"border:solid blue 2px; padding: 20px\">\n",
    "    \n",
    "Циклом переберем все элементы списка `income_type_unique`.\n",
    "В теле цикла логической индексацией проверяем условия:\n",
    "Если в таблице находим пропуски `NaN` методом `isna()`,\n",
    "то заменяем на меданное значение соответствующее типу занятости \n",
    "\n",
    "    \n",
    "    \n",
    "</div> "
   ]
  },
  {
   "cell_type": "code",
   "execution_count": 17,
   "metadata": {},
   "outputs": [],
   "source": [
    "# замена пропусков в ежемесячном доходе\n",
    "for i in income_type_unique:\n",
    "    df.loc[(df['total_income'].isna()) & (df['income_type'] == i), 'total_income'] = income_type_pivot_table['total_income'][i]"
   ]
  },
  {
   "cell_type": "markdown",
   "metadata": {},
   "source": [
    "<div style=\"border:solid blue 2px; padding: 20px\">\n",
    "    \n",
    "\n",
    "Сделаем сводную таблицу для разделения положительных и отрицательных значений  в трудовом стаже `days_employed`\n",
    "    \n",
    "Выделим для корректной замены 4 варианта значений:\n",
    "    \n",
    "* положительные у женщин после 55 лет\n",
    "* положительные у мужчин после 60 лет\n",
    "* отрицательные у женщин до 55 лет\n",
    "* отрицательные у мужчин до 60 лет\n",
    "\n",
    "По этим вариантам произведем замену пропусков.    \n",
    "    \n",
    "</div> "
   ]
  },
  {
   "cell_type": "code",
   "execution_count": 18,
   "metadata": {
    "scrolled": true
   },
   "outputs": [
    {
     "data": {
      "text/html": [
       "<div>\n",
       "<style scoped>\n",
       "    .dataframe tbody tr th:only-of-type {\n",
       "        vertical-align: middle;\n",
       "    }\n",
       "\n",
       "    .dataframe tbody tr th {\n",
       "        vertical-align: top;\n",
       "    }\n",
       "\n",
       "    .dataframe thead th {\n",
       "        text-align: right;\n",
       "    }\n",
       "</style>\n",
       "<table border=\"1\" class=\"dataframe\">\n",
       "  <thead>\n",
       "    <tr style=\"text-align: right;\">\n",
       "      <th>gender</th>\n",
       "      <th>F</th>\n",
       "      <th>M</th>\n",
       "      <th>XNA</th>\n",
       "    </tr>\n",
       "    <tr>\n",
       "      <th>dob_years</th>\n",
       "      <th></th>\n",
       "      <th></th>\n",
       "      <th></th>\n",
       "    </tr>\n",
       "  </thead>\n",
       "  <tbody>\n",
       "    <tr>\n",
       "      <td>0</td>\n",
       "      <td>-1327.579211</td>\n",
       "      <td>-1015.395451</td>\n",
       "      <td>NaN</td>\n",
       "    </tr>\n",
       "    <tr>\n",
       "      <td>19</td>\n",
       "      <td>-710.230781</td>\n",
       "      <td>-885.268574</td>\n",
       "      <td>NaN</td>\n",
       "    </tr>\n",
       "    <tr>\n",
       "      <td>20</td>\n",
       "      <td>-595.559207</td>\n",
       "      <td>-880.528819</td>\n",
       "      <td>NaN</td>\n",
       "    </tr>\n",
       "    <tr>\n",
       "      <td>21</td>\n",
       "      <td>-608.003610</td>\n",
       "      <td>-627.185770</td>\n",
       "      <td>NaN</td>\n",
       "    </tr>\n",
       "    <tr>\n",
       "      <td>22</td>\n",
       "      <td>-691.825293</td>\n",
       "      <td>-740.851560</td>\n",
       "      <td>NaN</td>\n",
       "    </tr>\n",
       "    <tr>\n",
       "      <td>23</td>\n",
       "      <td>-634.611807</td>\n",
       "      <td>-727.699529</td>\n",
       "      <td>NaN</td>\n",
       "    </tr>\n",
       "    <tr>\n",
       "      <td>24</td>\n",
       "      <td>-964.894524</td>\n",
       "      <td>-901.549138</td>\n",
       "      <td>-2358.600502</td>\n",
       "    </tr>\n",
       "    <tr>\n",
       "      <td>25</td>\n",
       "      <td>-951.181756</td>\n",
       "      <td>-869.061319</td>\n",
       "      <td>NaN</td>\n",
       "    </tr>\n",
       "    <tr>\n",
       "      <td>26</td>\n",
       "      <td>-1173.584347</td>\n",
       "      <td>-957.617546</td>\n",
       "      <td>NaN</td>\n",
       "    </tr>\n",
       "    <tr>\n",
       "      <td>27</td>\n",
       "      <td>-1195.389362</td>\n",
       "      <td>-1118.968259</td>\n",
       "      <td>NaN</td>\n",
       "    </tr>\n",
       "    <tr>\n",
       "      <td>28</td>\n",
       "      <td>-1289.487398</td>\n",
       "      <td>-935.430693</td>\n",
       "      <td>NaN</td>\n",
       "    </tr>\n",
       "    <tr>\n",
       "      <td>29</td>\n",
       "      <td>-1450.847696</td>\n",
       "      <td>-1218.859260</td>\n",
       "      <td>NaN</td>\n",
       "    </tr>\n",
       "    <tr>\n",
       "      <td>30</td>\n",
       "      <td>-1421.449054</td>\n",
       "      <td>-1420.586863</td>\n",
       "      <td>NaN</td>\n",
       "    </tr>\n",
       "    <tr>\n",
       "      <td>31</td>\n",
       "      <td>-1315.077457</td>\n",
       "      <td>-1260.378990</td>\n",
       "      <td>NaN</td>\n",
       "    </tr>\n",
       "    <tr>\n",
       "      <td>32</td>\n",
       "      <td>-1536.208255</td>\n",
       "      <td>-1293.207605</td>\n",
       "      <td>NaN</td>\n",
       "    </tr>\n",
       "    <tr>\n",
       "      <td>33</td>\n",
       "      <td>-1561.965657</td>\n",
       "      <td>-1254.494830</td>\n",
       "      <td>NaN</td>\n",
       "    </tr>\n",
       "    <tr>\n",
       "      <td>34</td>\n",
       "      <td>-1631.262559</td>\n",
       "      <td>-1518.397082</td>\n",
       "      <td>NaN</td>\n",
       "    </tr>\n",
       "    <tr>\n",
       "      <td>35</td>\n",
       "      <td>-1722.672507</td>\n",
       "      <td>-1489.511688</td>\n",
       "      <td>NaN</td>\n",
       "    </tr>\n",
       "    <tr>\n",
       "      <td>36</td>\n",
       "      <td>-1848.502185</td>\n",
       "      <td>-1702.586346</td>\n",
       "      <td>NaN</td>\n",
       "    </tr>\n",
       "    <tr>\n",
       "      <td>37</td>\n",
       "      <td>-1847.731652</td>\n",
       "      <td>-1636.482076</td>\n",
       "      <td>NaN</td>\n",
       "    </tr>\n",
       "    <tr>\n",
       "      <td>38</td>\n",
       "      <td>-1803.053103</td>\n",
       "      <td>-1623.108469</td>\n",
       "      <td>NaN</td>\n",
       "    </tr>\n",
       "    <tr>\n",
       "      <td>39</td>\n",
       "      <td>-2045.033856</td>\n",
       "      <td>-1659.363127</td>\n",
       "      <td>NaN</td>\n",
       "    </tr>\n",
       "    <tr>\n",
       "      <td>40</td>\n",
       "      <td>-1752.092971</td>\n",
       "      <td>-1469.385339</td>\n",
       "      <td>NaN</td>\n",
       "    </tr>\n",
       "    <tr>\n",
       "      <td>41</td>\n",
       "      <td>-1825.570497</td>\n",
       "      <td>-1858.556909</td>\n",
       "      <td>NaN</td>\n",
       "    </tr>\n",
       "    <tr>\n",
       "      <td>42</td>\n",
       "      <td>-2290.335114</td>\n",
       "      <td>-1904.180624</td>\n",
       "      <td>NaN</td>\n",
       "    </tr>\n",
       "    <tr>\n",
       "      <td>43</td>\n",
       "      <td>-2083.934423</td>\n",
       "      <td>-1418.881856</td>\n",
       "      <td>NaN</td>\n",
       "    </tr>\n",
       "    <tr>\n",
       "      <td>44</td>\n",
       "      <td>-2184.310078</td>\n",
       "      <td>-1580.036725</td>\n",
       "      <td>NaN</td>\n",
       "    </tr>\n",
       "    <tr>\n",
       "      <td>45</td>\n",
       "      <td>-2289.796688</td>\n",
       "      <td>-1523.553348</td>\n",
       "      <td>NaN</td>\n",
       "    </tr>\n",
       "    <tr>\n",
       "      <td>46</td>\n",
       "      <td>-2041.666104</td>\n",
       "      <td>-1797.853959</td>\n",
       "      <td>NaN</td>\n",
       "    </tr>\n",
       "    <tr>\n",
       "      <td>47</td>\n",
       "      <td>-2314.306068</td>\n",
       "      <td>-1673.921576</td>\n",
       "      <td>NaN</td>\n",
       "    </tr>\n",
       "    <tr>\n",
       "      <td>48</td>\n",
       "      <td>-2044.399299</td>\n",
       "      <td>-2082.256286</td>\n",
       "      <td>NaN</td>\n",
       "    </tr>\n",
       "    <tr>\n",
       "      <td>49</td>\n",
       "      <td>-2406.381752</td>\n",
       "      <td>-1620.816859</td>\n",
       "      <td>NaN</td>\n",
       "    </tr>\n",
       "    <tr>\n",
       "      <td>50</td>\n",
       "      <td>-2005.219883</td>\n",
       "      <td>-1586.197974</td>\n",
       "      <td>NaN</td>\n",
       "    </tr>\n",
       "    <tr>\n",
       "      <td>51</td>\n",
       "      <td>-1581.211673</td>\n",
       "      <td>-1251.237069</td>\n",
       "      <td>NaN</td>\n",
       "    </tr>\n",
       "    <tr>\n",
       "      <td>52</td>\n",
       "      <td>-1403.080830</td>\n",
       "      <td>-1653.920926</td>\n",
       "      <td>NaN</td>\n",
       "    </tr>\n",
       "    <tr>\n",
       "      <td>53</td>\n",
       "      <td>-1442.996662</td>\n",
       "      <td>-1184.842230</td>\n",
       "      <td>NaN</td>\n",
       "    </tr>\n",
       "    <tr>\n",
       "      <td>54</td>\n",
       "      <td>-648.397041</td>\n",
       "      <td>-1487.616937</td>\n",
       "      <td>NaN</td>\n",
       "    </tr>\n",
       "    <tr>\n",
       "      <td>55</td>\n",
       "      <td>-148.867038</td>\n",
       "      <td>-1369.396126</td>\n",
       "      <td>NaN</td>\n",
       "    </tr>\n",
       "    <tr>\n",
       "      <td>56</td>\n",
       "      <td>332245.835073</td>\n",
       "      <td>-1588.384846</td>\n",
       "      <td>NaN</td>\n",
       "    </tr>\n",
       "    <tr>\n",
       "      <td>57</td>\n",
       "      <td>346062.271843</td>\n",
       "      <td>-688.644502</td>\n",
       "      <td>NaN</td>\n",
       "    </tr>\n",
       "    <tr>\n",
       "      <td>58</td>\n",
       "      <td>340298.410068</td>\n",
       "      <td>-1227.862921</td>\n",
       "      <td>NaN</td>\n",
       "    </tr>\n",
       "    <tr>\n",
       "      <td>59</td>\n",
       "      <td>351913.372108</td>\n",
       "      <td>-1022.214873</td>\n",
       "      <td>NaN</td>\n",
       "    </tr>\n",
       "    <tr>\n",
       "      <td>60</td>\n",
       "      <td>352450.930489</td>\n",
       "      <td>-478.456463</td>\n",
       "      <td>NaN</td>\n",
       "    </tr>\n",
       "    <tr>\n",
       "      <td>61</td>\n",
       "      <td>346602.453782</td>\n",
       "      <td>166255.469197</td>\n",
       "      <td>NaN</td>\n",
       "    </tr>\n",
       "    <tr>\n",
       "      <td>62</td>\n",
       "      <td>355583.234032</td>\n",
       "      <td>343080.264048</td>\n",
       "      <td>NaN</td>\n",
       "    </tr>\n",
       "    <tr>\n",
       "      <td>63</td>\n",
       "      <td>362864.993022</td>\n",
       "      <td>337738.712122</td>\n",
       "      <td>NaN</td>\n",
       "    </tr>\n",
       "    <tr>\n",
       "      <td>64</td>\n",
       "      <td>358068.243799</td>\n",
       "      <td>345637.319160</td>\n",
       "      <td>NaN</td>\n",
       "    </tr>\n",
       "    <tr>\n",
       "      <td>65</td>\n",
       "      <td>361989.769975</td>\n",
       "      <td>340411.408837</td>\n",
       "      <td>NaN</td>\n",
       "    </tr>\n",
       "    <tr>\n",
       "      <td>66</td>\n",
       "      <td>361812.912667</td>\n",
       "      <td>371228.000467</td>\n",
       "      <td>NaN</td>\n",
       "    </tr>\n",
       "    <tr>\n",
       "      <td>67</td>\n",
       "      <td>358704.192577</td>\n",
       "      <td>343374.947426</td>\n",
       "      <td>NaN</td>\n",
       "    </tr>\n",
       "    <tr>\n",
       "      <td>68</td>\n",
       "      <td>364688.917160</td>\n",
       "      <td>365867.472003</td>\n",
       "      <td>NaN</td>\n",
       "    </tr>\n",
       "    <tr>\n",
       "      <td>69</td>\n",
       "      <td>363411.852104</td>\n",
       "      <td>359090.237053</td>\n",
       "      <td>NaN</td>\n",
       "    </tr>\n",
       "    <tr>\n",
       "      <td>70</td>\n",
       "      <td>367343.110634</td>\n",
       "      <td>352201.039378</td>\n",
       "      <td>NaN</td>\n",
       "    </tr>\n",
       "    <tr>\n",
       "      <td>71</td>\n",
       "      <td>364089.653490</td>\n",
       "      <td>356204.886439</td>\n",
       "      <td>NaN</td>\n",
       "    </tr>\n",
       "    <tr>\n",
       "      <td>72</td>\n",
       "      <td>367378.973169</td>\n",
       "      <td>363929.636328</td>\n",
       "      <td>NaN</td>\n",
       "    </tr>\n",
       "    <tr>\n",
       "      <td>73</td>\n",
       "      <td>364291.049263</td>\n",
       "      <td>NaN</td>\n",
       "      <td>NaN</td>\n",
       "    </tr>\n",
       "    <tr>\n",
       "      <td>74</td>\n",
       "      <td>357194.615058</td>\n",
       "      <td>171447.101787</td>\n",
       "      <td>NaN</td>\n",
       "    </tr>\n",
       "    <tr>\n",
       "      <td>75</td>\n",
       "      <td>-1678.969771</td>\n",
       "      <td>NaN</td>\n",
       "      <td>NaN</td>\n",
       "    </tr>\n",
       "  </tbody>\n",
       "</table>\n",
       "</div>"
      ],
      "text/plain": [
       "gender                 F              M          XNA\n",
       "dob_years                                           \n",
       "0           -1327.579211   -1015.395451          NaN\n",
       "19           -710.230781    -885.268574          NaN\n",
       "20           -595.559207    -880.528819          NaN\n",
       "21           -608.003610    -627.185770          NaN\n",
       "22           -691.825293    -740.851560          NaN\n",
       "23           -634.611807    -727.699529          NaN\n",
       "24           -964.894524    -901.549138 -2358.600502\n",
       "25           -951.181756    -869.061319          NaN\n",
       "26          -1173.584347    -957.617546          NaN\n",
       "27          -1195.389362   -1118.968259          NaN\n",
       "28          -1289.487398    -935.430693          NaN\n",
       "29          -1450.847696   -1218.859260          NaN\n",
       "30          -1421.449054   -1420.586863          NaN\n",
       "31          -1315.077457   -1260.378990          NaN\n",
       "32          -1536.208255   -1293.207605          NaN\n",
       "33          -1561.965657   -1254.494830          NaN\n",
       "34          -1631.262559   -1518.397082          NaN\n",
       "35          -1722.672507   -1489.511688          NaN\n",
       "36          -1848.502185   -1702.586346          NaN\n",
       "37          -1847.731652   -1636.482076          NaN\n",
       "38          -1803.053103   -1623.108469          NaN\n",
       "39          -2045.033856   -1659.363127          NaN\n",
       "40          -1752.092971   -1469.385339          NaN\n",
       "41          -1825.570497   -1858.556909          NaN\n",
       "42          -2290.335114   -1904.180624          NaN\n",
       "43          -2083.934423   -1418.881856          NaN\n",
       "44          -2184.310078   -1580.036725          NaN\n",
       "45          -2289.796688   -1523.553348          NaN\n",
       "46          -2041.666104   -1797.853959          NaN\n",
       "47          -2314.306068   -1673.921576          NaN\n",
       "48          -2044.399299   -2082.256286          NaN\n",
       "49          -2406.381752   -1620.816859          NaN\n",
       "50          -2005.219883   -1586.197974          NaN\n",
       "51          -1581.211673   -1251.237069          NaN\n",
       "52          -1403.080830   -1653.920926          NaN\n",
       "53          -1442.996662   -1184.842230          NaN\n",
       "54           -648.397041   -1487.616937          NaN\n",
       "55           -148.867038   -1369.396126          NaN\n",
       "56         332245.835073   -1588.384846          NaN\n",
       "57         346062.271843    -688.644502          NaN\n",
       "58         340298.410068   -1227.862921          NaN\n",
       "59         351913.372108   -1022.214873          NaN\n",
       "60         352450.930489    -478.456463          NaN\n",
       "61         346602.453782  166255.469197          NaN\n",
       "62         355583.234032  343080.264048          NaN\n",
       "63         362864.993022  337738.712122          NaN\n",
       "64         358068.243799  345637.319160          NaN\n",
       "65         361989.769975  340411.408837          NaN\n",
       "66         361812.912667  371228.000467          NaN\n",
       "67         358704.192577  343374.947426          NaN\n",
       "68         364688.917160  365867.472003          NaN\n",
       "69         363411.852104  359090.237053          NaN\n",
       "70         367343.110634  352201.039378          NaN\n",
       "71         364089.653490  356204.886439          NaN\n",
       "72         367378.973169  363929.636328          NaN\n",
       "73         364291.049263            NaN          NaN\n",
       "74         357194.615058  171447.101787          NaN\n",
       "75          -1678.969771            NaN          NaN"
      ]
     },
     "execution_count": 18,
     "metadata": {},
     "output_type": "execute_result"
    }
   ],
   "source": [
    "# сделаем сводную таблицу\n",
    "df.pivot_table(index=['dob_years'], columns='gender', values='days_employed', aggfunc='median')"
   ]
  },
  {
   "cell_type": "markdown",
   "metadata": {},
   "source": [
    "<div style=\"border:solid blue 2px; padding: 20px\">\n",
    "    \n",
    "\n",
    "Логической индексацией проверяем условия для подсчета медианы по 4-м вариантам:\n",
    "\n",
    "положительное значение `days_employed` отражает после пенсионный возраст gender для женщин - 55 лет;\n",
    "    \n",
    "положительное значение `days_employed` отражает после пенсионный возраст gender для мужчин - 60 лет;\n",
    "    \n",
    "отрицательное значение `days_employed` отражает до пенсионный возраст gender для женщин - 55 лет;\n",
    "    \n",
    "отрицательное значение `days_employed` отражает до пенсионный возраст gender для мужчин - 60 лет;\n",
    "        \n",
    "    \n",
    "</div> "
   ]
  },
  {
   "cell_type": "markdown",
   "metadata": {},
   "source": [
    "<div style=\"border:solid blue 2px; padding: 20px\">\n",
    "    \n",
    "Логической индексацией расчитываем значения медианы трудового стажа по 4-м вариантам:   \n",
    "    \n",
    "</div> "
   ]
  },
  {
   "cell_type": "code",
   "execution_count": 19,
   "metadata": {},
   "outputs": [
    {
     "name": "stdout",
     "output_type": "stream",
     "text": [
      "Медианное значение трудового стажа для женщин после 55 лет: 360955.5328254813\n",
      "Медианное значение трудового стажа для мужчин после 60 лет: 371665.2786224553\n",
      "Медианное значение трудового стажа для женщин до 55 лет: -1687.4198574217746\n",
      "Медианное значение трудового стажа для мужчин до 60 лет: -1026.019725542658\n"
     ]
    }
   ],
   "source": [
    "# расчет медианы трудового стажа и вывод на экран полученных значений\n",
    "f_median_after_pension = df.loc[(df['dob_years'] == 0) & (df['days_employed'] > 0) & (df['gender'] == 'F'), 'days_employed'].median()\n",
    "m_median_after_pension = df.loc[(df['dob_years'] == 0) & (df['days_employed'] > 0) & (df['gender'] == 'M'), 'days_employed'].median()\n",
    "f_median_before_pension = df.loc[(df['dob_years'] == 0) & (df['days_employed'] < 0) & (df['gender'] == 'F'), 'days_employed'].median()\n",
    "m_median_before_pension = df.loc[(df['dob_years'] == 0) & (df['days_employed'] < 0) & (df['gender'] == 'M'), 'days_employed'].median()\n",
    "print('Медианное значение трудового стажа для женщин после 55 лет:', f_median_after_pension)\n",
    "print('Медианное значение трудового стажа для мужчин после 60 лет:', m_median_after_pension)\n",
    "print('Медианное значение трудового стажа для женщин до 55 лет:', f_median_before_pension)\n",
    "print('Медианное значение трудового стажа для мужчин до 60 лет:', m_median_before_pension)"
   ]
  },
  {
   "cell_type": "markdown",
   "metadata": {},
   "source": [
    "<div style=\"border:solid blue 2px; padding: 20px\">\n",
    "    \n",
    "Логической индексацией проверяем условия для замены в трудовом стаже пропусков на значения медианы по 4-м вариантам:   \n",
    "    \n",
    "</div> "
   ]
  },
  {
   "cell_type": "code",
   "execution_count": 20,
   "metadata": {},
   "outputs": [],
   "source": [
    "# замена пропусков в трудовом стаже\n",
    "df.loc[(df['days_employed'].isna()) & (df['gender'] == 'F') & (df['income_type'] == 'пенсионер'), 'days_employed'] = f_median_after_pension\n",
    "df.loc[(df['days_employed'].isna()) & (df['gender'] == 'M') & (df['income_type'] == 'пенсионер'), 'days_employed'] = m_median_after_pension\n",
    "df.loc[(df['days_employed'].isna()) & (df['gender'] == 'F') & (df['income_type'] != 'пенсионер'), 'days_employed'] = f_median_before_pension\n",
    "df.loc[(df['days_employed'].isna()) & (df['gender'] == 'M') & (df['income_type'] != 'пенсионер'), 'days_employed'] = m_median_before_pension"
   ]
  },
  {
   "cell_type": "markdown",
   "metadata": {},
   "source": [
    "<div style=\"border:solid blue 2px; padding: 20px\">\n",
    "    \n",
    "Проверим таблицу на исправления от пропусков \n",
    "    \n",
    "</div> "
   ]
  },
  {
   "cell_type": "code",
   "execution_count": 21,
   "metadata": {},
   "outputs": [
    {
     "name": "stdout",
     "output_type": "stream",
     "text": [
      "<class 'pandas.core.frame.DataFrame'>\n",
      "RangeIndex: 21525 entries, 0 to 21524\n",
      "Data columns (total 12 columns):\n",
      "children            21525 non-null int64\n",
      "days_employed       21525 non-null float64\n",
      "dob_years           21525 non-null int64\n",
      "education           21525 non-null object\n",
      "education_id        21525 non-null int64\n",
      "family_status       21525 non-null object\n",
      "family_status_id    21525 non-null int64\n",
      "gender              21525 non-null object\n",
      "income_type         21525 non-null object\n",
      "debt                21525 non-null int64\n",
      "total_income        21525 non-null float64\n",
      "purpose             21525 non-null object\n",
      "dtypes: float64(2), int64(5), object(5)\n",
      "memory usage: 2.0+ MB\n"
     ]
    }
   ],
   "source": [
    "# получение общей информации о данных в таблице df\n",
    "df.info()"
   ]
  },
  {
   "cell_type": "markdown",
   "metadata": {},
   "source": [
    "<div style=\"border:solid blue 2px; padding: 20px\">\n",
    "    \n",
    "Заменим значения в `dob_years`равные `0` на `median` по типу занятости.\n",
    "    \n",
    "Сделаем сводную таблицу по типу занятости с медианными значениями возраста.\n",
    "    \n",
    "</div> \n"
   ]
  },
  {
   "cell_type": "code",
   "execution_count": 22,
   "metadata": {},
   "outputs": [
    {
     "data": {
      "text/html": [
       "<div>\n",
       "<style scoped>\n",
       "    .dataframe tbody tr th:only-of-type {\n",
       "        vertical-align: middle;\n",
       "    }\n",
       "\n",
       "    .dataframe tbody tr th {\n",
       "        vertical-align: top;\n",
       "    }\n",
       "\n",
       "    .dataframe thead th {\n",
       "        text-align: right;\n",
       "    }\n",
       "</style>\n",
       "<table border=\"1\" class=\"dataframe\">\n",
       "  <thead>\n",
       "    <tr style=\"text-align: right;\">\n",
       "      <th></th>\n",
       "      <th>dob_years</th>\n",
       "    </tr>\n",
       "    <tr>\n",
       "      <th>income_type</th>\n",
       "      <th></th>\n",
       "    </tr>\n",
       "  </thead>\n",
       "  <tbody>\n",
       "    <tr>\n",
       "      <td>безработный</td>\n",
       "      <td>38.0</td>\n",
       "    </tr>\n",
       "    <tr>\n",
       "      <td>в декрете</td>\n",
       "      <td>39.0</td>\n",
       "    </tr>\n",
       "    <tr>\n",
       "      <td>госслужащий</td>\n",
       "      <td>40.0</td>\n",
       "    </tr>\n",
       "    <tr>\n",
       "      <td>компаньон</td>\n",
       "      <td>39.0</td>\n",
       "    </tr>\n",
       "    <tr>\n",
       "      <td>пенсионер</td>\n",
       "      <td>60.0</td>\n",
       "    </tr>\n",
       "    <tr>\n",
       "      <td>предприниматель</td>\n",
       "      <td>42.5</td>\n",
       "    </tr>\n",
       "    <tr>\n",
       "      <td>сотрудник</td>\n",
       "      <td>39.0</td>\n",
       "    </tr>\n",
       "    <tr>\n",
       "      <td>студент</td>\n",
       "      <td>22.0</td>\n",
       "    </tr>\n",
       "  </tbody>\n",
       "</table>\n",
       "</div>"
      ],
      "text/plain": [
       "                 dob_years\n",
       "income_type               \n",
       "безработный           38.0\n",
       "в декрете             39.0\n",
       "госслужащий           40.0\n",
       "компаньон             39.0\n",
       "пенсионер             60.0\n",
       "предприниматель       42.5\n",
       "сотрудник             39.0\n",
       "студент               22.0"
      ]
     },
     "execution_count": 22,
     "metadata": {},
     "output_type": "execute_result"
    }
   ],
   "source": [
    "# сделаем сводную таблицу\n",
    "income_type_pivot_table_year = df.pivot_table(index=['income_type'], values='dob_years', aggfunc='median')\n",
    "income_type_pivot_table_year"
   ]
  },
  {
   "cell_type": "markdown",
   "metadata": {},
   "source": [
    "<div style=\"border:solid blue 2px; padding: 20px\">\n",
    "    \n",
    "Циклом переберем все элементы списка `income_type_unique`.\n",
    "В теле цикла логической индексацией проверяем условия:\n",
    "Если в `dob_years` находим значения `0` ,\n",
    "то заменяем на меданное значение соответствующее типу занятости \n",
    "\n",
    "    \n",
    "    \n",
    "</div> "
   ]
  },
  {
   "cell_type": "code",
   "execution_count": 23,
   "metadata": {},
   "outputs": [],
   "source": [
    "# замена в возрасте клиента значений равных 0\n",
    "for i in income_type_unique:\n",
    "    df.loc[(df['dob_years'] == 0) & (df['income_type'] == i), 'dob_years'] = income_type_pivot_table_year['dob_years'][i]"
   ]
  },
  {
   "cell_type": "markdown",
   "metadata": {},
   "source": [
    "<div style=\"border:solid blue 2px; padding: 20px\">\n",
    "    \n",
    "Методом `value_counts()` посмотрим на значения `XNA` для  `gender`\n",
    "    \n",
    "</div> "
   ]
  },
  {
   "cell_type": "code",
   "execution_count": 24,
   "metadata": {},
   "outputs": [
    {
     "data": {
      "text/plain": [
       "XNA    1\n",
       "Name: gender, dtype: int64"
      ]
     },
     "execution_count": 24,
     "metadata": {},
     "output_type": "execute_result"
    }
   ],
   "source": [
    "# подсчет количества значений пола клиента с ошибочным значением\n",
    "df.loc[df['gender'] == 'XNA', 'gender'].value_counts()"
   ]
  },
  {
   "cell_type": "markdown",
   "metadata": {},
   "source": [
    "<div style=\"border:solid blue 2px; padding: 20px\">\n",
    "    \n",
    "Один клиент описан не корректно, поэтому заменим его на `F` или `M`.\n",
    "    \n",
    "</div> "
   ]
  },
  {
   "cell_type": "code",
   "execution_count": 25,
   "metadata": {},
   "outputs": [],
   "source": [
    "df.loc[df['gender'] == 'XNA', 'gender'] = 'F'"
   ]
  },
  {
   "cell_type": "markdown",
   "metadata": {},
   "source": [
    "<div style=\"border:solid blue 2px; padding: 20px\">\n",
    "    \n",
    "Заменим в `children` значения  `-1` и `20` на корректные `1` и `2`\n",
    "    \n",
    "</div> "
   ]
  },
  {
   "cell_type": "code",
   "execution_count": 26,
   "metadata": {},
   "outputs": [],
   "source": [
    "# замена значений в количестве детей в семье на корректные\n",
    "df.loc[df['children'] == 20, 'children'] = 2\n",
    "df.loc[df['children'] == -1, 'children'] = 1"
   ]
  },
  {
   "cell_type": "markdown",
   "metadata": {},
   "source": [
    "**Вывод**"
   ]
  },
  {
   "cell_type": "markdown",
   "metadata": {},
   "source": [
    "<div style=\"border:solid blue 2px; padding: 20px\">\n",
    "    \n",
    "**Итоги по пропущенным значениям** \n",
    "    \n",
    "- Пропущенные значения ежемесячного дохода `total_income` заполены на медианы по каждому типу занаятости `income_type`;\n",
    "    \n",
    "    \n",
    "- Пропущенные значения трудового стажа `days_employed` заполены на медианы до и после для женщин - 55 лет, мужчин – 60 лет;\n",
    "    \n",
    "    \n",
    "- Значения `0` для возраста клиента `dob_years` заполены на медианы по каждому типу занаятости `income_type`;\n",
    "    \n",
    "    \n",
    "- Значение `XNA` в единственом наблюдении для пола клиента `gender` заполено на `F`.\n",
    "    \n",
    "</div> "
   ]
  },
  {
   "cell_type": "markdown",
   "metadata": {},
   "source": [
    "### Замена типа данных"
   ]
  },
  {
   "cell_type": "markdown",
   "metadata": {},
   "source": [
    "<div style=\"border:solid blue 2px; padding: 20px\">\n",
    "    \n",
    "Тип данных был изменен только для возраста клиента при замене значения `0` на медиану.  \n",
    "    \n",
    "</div>          "
   ]
  },
  {
   "cell_type": "code",
   "execution_count": 27,
   "metadata": {
    "scrolled": true
   },
   "outputs": [
    {
     "data": {
      "text/plain": [
       "children              int64\n",
       "days_employed       float64\n",
       "dob_years           float64\n",
       "education            object\n",
       "education_id          int64\n",
       "family_status        object\n",
       "family_status_id      int64\n",
       "gender               object\n",
       "income_type          object\n",
       "debt                  int64\n",
       "total_income        float64\n",
       "purpose              object\n",
       "dtype: object"
      ]
     },
     "execution_count": 27,
     "metadata": {},
     "output_type": "execute_result"
    }
   ],
   "source": [
    "# получение информации по типам данных в df\n",
    "df.dtypes"
   ]
  },
  {
   "cell_type": "markdown",
   "metadata": {},
   "source": [
    "<div style=\"border:solid blue 2px; padding: 20px\">\n",
    "    \n",
    "Методом `astype()` заменим вещественные `float` числа в `dob_years` на целые `int`. \n",
    "    \n",
    "</div> "
   ]
  },
  {
   "cell_type": "code",
   "execution_count": 28,
   "metadata": {},
   "outputs": [],
   "source": [
    "# замена вещественных типов на целые\n",
    "df['dob_years'] = df['dob_years'].astype('int')"
   ]
  },
  {
   "cell_type": "markdown",
   "metadata": {},
   "source": [
    "**Вывод**"
   ]
  },
  {
   "cell_type": "markdown",
   "metadata": {},
   "source": [
    "<div style=\"border:solid blue 2px; padding: 20px\">\n",
    "\n",
    "**Итоги по замене типов данных**    \n",
    "    \n",
    "Для замены типа данных используем метод `astype`.\n",
    "    \n",
    "    \n",
    "</div>"
   ]
  },
  {
   "cell_type": "markdown",
   "metadata": {},
   "source": [
    "### Обработка дубликатов"
   ]
  },
  {
   "cell_type": "markdown",
   "metadata": {},
   "source": [
    "<div style=\"border:solid blue 2px; padding: 20px\">\n",
    "    \n",
    "Методом `str.lower()` категории по уровню образования клиента `education` приведем к нижнему регистру.\n",
    "    \n",
    "    \n",
    "</div>"
   ]
  },
  {
   "cell_type": "code",
   "execution_count": 29,
   "metadata": {},
   "outputs": [],
   "source": [
    "# перевод значений к нижнему регистру\n",
    "df['education'] = df['education'].str.lower()"
   ]
  },
  {
   "cell_type": "markdown",
   "metadata": {},
   "source": [
    "<div style=\"border:solid blue 2px; padding: 20px\">\n",
    "    \n",
    "Методом `str.lower()` категории по семейному положению `family_status` приведем к нижнему регистру.\n",
    "    \n",
    "    \n",
    "</div>"
   ]
  },
  {
   "cell_type": "code",
   "execution_count": 30,
   "metadata": {},
   "outputs": [],
   "source": [
    "# перевод значений к нижнему регистру\n",
    "df['family_status'] = df['family_status'].str.lower()"
   ]
  },
  {
   "cell_type": "markdown",
   "metadata": {},
   "source": [
    "<div style=\"border:solid blue 2px; padding: 20px\">\n",
    "    \n",
    "Посчитаем сколько строк являются дубликатами.\n",
    "    \n",
    "    \n",
    "</div>"
   ]
  },
  {
   "cell_type": "code",
   "execution_count": 31,
   "metadata": {
    "scrolled": false
   },
   "outputs": [
    {
     "name": "stdout",
     "output_type": "stream",
     "text": [
      "Всего строк дубликатов:  71\n"
     ]
    }
   ],
   "source": [
    "# подсчет явных дубликатов\n",
    "print('Всего строк дубликатов: ', df.duplicated().sum())"
   ]
  },
  {
   "cell_type": "markdown",
   "metadata": {},
   "source": [
    "<div style=\"border:solid blue 2px; padding: 20px\">\n",
    "    \n",
    "Методом `drop_duplicates()` удалим строки дубликаты и `reset_index(drop=True)` обновим индексацию.\n",
    "    \n",
    "    \n",
    "</div>"
   ]
  },
  {
   "cell_type": "code",
   "execution_count": 32,
   "metadata": {},
   "outputs": [],
   "source": [
    "# удаление строк дубликатов и обновление индексации\n",
    "df = df.drop_duplicates().reset_index(drop=True)"
   ]
  },
  {
   "cell_type": "markdown",
   "metadata": {},
   "source": [
    "<div style=\"border:solid blue 2px; padding: 20px\">\n",
    "    \n",
    "Проверим отсутствие дубликатов\n",
    "    \n",
    "    \n",
    "</div>"
   ]
  },
  {
   "cell_type": "code",
   "execution_count": 33,
   "metadata": {},
   "outputs": [
    {
     "name": "stdout",
     "output_type": "stream",
     "text": [
      "Всего строк дубликатов:  0\n"
     ]
    }
   ],
   "source": [
    "# проверка на отсутствие дубликатов\n",
    "print('Всего строк дубликатов: ', df.duplicated().sum())"
   ]
  },
  {
   "cell_type": "markdown",
   "metadata": {},
   "source": [
    "<div style=\"border:solid blue 2px; padding: 20px\">\n",
    "\n",
    "Обработаем данные от неявных дубликатов в описании цели получения кредита `purpose`. \n",
    "    \n",
    "Название одной и той же цели получения кредита может быть записано немного по-разному.\n",
    "    \n",
    "Такие ошибки тоже повлияют на результат исследования.\n",
    "    \n",
    "    \n",
    "Посмотрим на список уникальных названий целей получения кредита, отсортированный в алфавитном порядке    \n",
    "    \n",
    "</div>  "
   ]
  },
  {
   "cell_type": "code",
   "execution_count": 34,
   "metadata": {
    "scrolled": false
   },
   "outputs": [
    {
     "data": {
      "text/plain": [
       "'Список целей кредита -'"
      ]
     },
     "metadata": {},
     "output_type": "display_data"
    },
    {
     "data": {
      "text/plain": [
       "['автомобили',\n",
       " 'автомобиль',\n",
       " 'высшее образование',\n",
       " 'дополнительное образование',\n",
       " 'жилье',\n",
       " 'заняться высшим образованием',\n",
       " 'заняться образованием',\n",
       " 'на покупку автомобиля',\n",
       " 'на покупку подержанного автомобиля',\n",
       " 'на покупку своего автомобиля',\n",
       " 'на проведение свадьбы',\n",
       " 'недвижимость',\n",
       " 'образование',\n",
       " 'операции с жильем',\n",
       " 'операции с коммерческой недвижимостью',\n",
       " 'операции с недвижимостью',\n",
       " 'операции со своей недвижимостью',\n",
       " 'покупка жилой недвижимости',\n",
       " 'покупка жилья',\n",
       " 'покупка жилья для сдачи',\n",
       " 'покупка жилья для семьи',\n",
       " 'покупка коммерческой недвижимости',\n",
       " 'покупка недвижимости',\n",
       " 'покупка своего жилья',\n",
       " 'получение высшего образования',\n",
       " 'получение дополнительного образования',\n",
       " 'получение образования',\n",
       " 'приобретение автомобиля',\n",
       " 'профильное образование',\n",
       " 'ремонт жилью',\n",
       " 'свадьба',\n",
       " 'свой автомобиль',\n",
       " 'сделка с автомобилем',\n",
       " 'сделка с подержанным автомобилем',\n",
       " 'строительство жилой недвижимости',\n",
       " 'строительство недвижимости',\n",
       " 'строительство собственной недвижимости',\n",
       " 'сыграть свадьбу']"
      ]
     },
     "metadata": {},
     "output_type": "display_data"
    }
   ],
   "source": [
    "# составим список целей кредита\n",
    "display('Список целей кредита -', list(df['purpose'].sort_values().unique()))"
   ]
  },
  {
   "cell_type": "markdown",
   "metadata": {},
   "source": [
    "**Вывод**"
   ]
  },
  {
   "cell_type": "markdown",
   "metadata": {},
   "source": [
    "<div style=\"border:solid blue 2px; padding: 20px\">\n",
    " \n",
    "**Итоги по обработке дубликатов**\n",
    "    \n",
    "Для обработки явных дубликатов используем метод `drop_duplicates()` для поиска и удаления строк.\n",
    "    \n",
    "Применим лемматизацию для выявление неявных дубликатов в описании цели получения кредита `purpose`.\n",
    "    \n",
    "    \n",
    "</div>\n",
    "\n"
   ]
  },
  {
   "cell_type": "markdown",
   "metadata": {},
   "source": [
    "### Лемматизация"
   ]
  },
  {
   "cell_type": "markdown",
   "metadata": {},
   "source": [
    "<div style=\"border:solid blue 2px; padding: 20px\">\n",
    " \n",
    "    \n",
    "Для дальнейших ислледований необходимо обработать значения в описании цели получения кредита `purpose`.\n",
    "    \n",
    "Для проведения процесса лемматизации импортируем библиотеку для русского языка `pymystem3`.\n",
    "    \n",
    "    \n",
    "</div>"
   ]
  },
  {
   "cell_type": "code",
   "execution_count": 35,
   "metadata": {},
   "outputs": [],
   "source": [
    "# вызов библиотеки\n",
    "from pymystem3 import Mystem\n",
    "m = Mystem()"
   ]
  },
  {
   "cell_type": "markdown",
   "metadata": {},
   "source": [
    "<div style=\"border:solid blue 2px; padding: 20px\">\n",
    " \n",
    "    \n",
    "Методом `value_counts()` посмотрим на наиболее часто встречающийся запрос на кредит.\n",
    "    \n",
    "    \n",
    "</div>"
   ]
  },
  {
   "cell_type": "code",
   "execution_count": 36,
   "metadata": {
    "scrolled": false
   },
   "outputs": [
    {
     "data": {
      "text/plain": [
       "свадьба                                   791\n",
       "на проведение свадьбы                     768\n",
       "сыграть свадьбу                           765\n",
       "операции с недвижимостью                  675\n",
       "покупка коммерческой недвижимости         661\n",
       "операции с жильем                         652\n",
       "покупка жилья для сдачи                   651\n",
       "операции с коммерческой недвижимостью     650\n",
       "покупка жилья                             646\n",
       "жилье                                     646\n",
       "покупка жилья для семьи                   638\n",
       "строительство собственной недвижимости    635\n",
       "недвижимость                              633\n",
       "операции со своей недвижимостью           627\n",
       "строительство жилой недвижимости          624\n",
       "покупка недвижимости                      621\n",
       "покупка своего жилья                      620\n",
       "строительство недвижимости                619\n",
       "ремонт жилью                              607\n",
       "покупка жилой недвижимости                606\n",
       "на покупку своего автомобиля              505\n",
       "заняться высшим образованием              496\n",
       "автомобиль                                494\n",
       "сделка с подержанным автомобилем          486\n",
       "на покупку подержанного автомобиля        478\n",
       "свой автомобиль                           478\n",
       "автомобили                                478\n",
       "на покупку автомобиля                     471\n",
       "приобретение автомобиля                   461\n",
       "дополнительное образование                460\n",
       "сделка с автомобилем                      455\n",
       "высшее образование                        452\n",
       "образование                               447\n",
       "получение дополнительного образования     446\n",
       "получение образования                     442\n",
       "профильное образование                    436\n",
       "получение высшего образования             426\n",
       "заняться образованием                     408\n",
       "Name: purpose, dtype: int64"
      ]
     },
     "execution_count": 36,
     "metadata": {},
     "output_type": "execute_result"
    }
   ],
   "source": [
    "# подсчет наиболее часто встречающийся запросов\n",
    "df['purpose'].value_counts()"
   ]
  },
  {
   "cell_type": "markdown",
   "metadata": {},
   "source": [
    "<div style=\"border:solid blue 2px; padding: 20px\">\n",
    " \n",
    "    \n",
    "Основные цели кредита:\n",
    "    \n",
    "- свадьба\n",
    "    \n",
    "- жилье \n",
    "    \n",
    "- недвижимость\n",
    "    \n",
    "- автомобиль\n",
    "    \n",
    "- образование\n",
    "    \n",
    "    \n",
    "    \n",
    "    \n",
    "</div>"
   ]
  },
  {
   "cell_type": "code",
   "execution_count": 37,
   "metadata": {},
   "outputs": [],
   "source": [
    "# создание списока основных целей кредита. Рассмотрим жилье и недвижимость по отдельности для исследования всех целей.\n",
    "main_purpose = ['автомобиль','свадьба','недвижимость','жилье','образование']"
   ]
  },
  {
   "cell_type": "markdown",
   "metadata": {},
   "source": [
    "<div style=\"border:solid blue 2px; padding: 20px\">\n",
    " \n",
    "    \n",
    "Создадим функцию с именем `find_purpose(words)` c параметром `words`,\n",
    "    \n",
    "в теле функции проведем лемматизацию, и \n",
    "    \n",
    "цикл, который сравнивает содержание получившихся леммы с основными целями из списка `main_purpose` и\n",
    "    \n",
    "меняет лемму на основную цель, если она содержится в лемме, и\n",
    "    \n",
    "возвращаем измененную лемму.\n",
    "    \n",
    "Методом `apply` применим функцию к значениям `purpose` и сохраним результат работы функции в новом столбце `purpose_name`.\n",
    "    \n",
    "    \n",
    "    \n",
    "    \n",
    "    \n",
    "    \n",
    "</div>"
   ]
  },
  {
   "cell_type": "code",
   "execution_count": 38,
   "metadata": {},
   "outputs": [],
   "source": [
    "# лемматицация и замена лемм на главные цели кредита при совпадении\n",
    "def find_purpose(words):\n",
    "    lemma = m.lemmatize(words)\n",
    "    for purpose in main_purpose:\n",
    "        if purpose in lemma:\n",
    "             lemma = purpose\n",
    "    return lemma\n",
    "df['purpose_name'] = df['purpose'].apply(find_purpose)"
   ]
  },
  {
   "cell_type": "markdown",
   "metadata": {},
   "source": [
    "<div style=\"border:solid blue 2px; padding: 20px\">\n",
    " \n",
    "Заменим значения в `purpose_name` `жилье` на `недвижимость`, потому что они выражают общую цель.\n",
    "    \n",
    "    \n",
    "    \n",
    "    \n",
    "</div>"
   ]
  },
  {
   "cell_type": "code",
   "execution_count": 39,
   "metadata": {},
   "outputs": [],
   "source": [
    "# замена после лемматизации категории жилье на недвижимость, потому что они выражают общую цель.\n",
    "df.loc[df['purpose_name'] == 'жилье', 'purpose_name'] = 'недвижимость'"
   ]
  },
  {
   "cell_type": "markdown",
   "metadata": {},
   "source": [
    "<div style=\"border:solid blue 2px; padding: 20px\">\n",
    " \n",
    "Методом `value_counts()` посмотрим на наиболее часто встречающийся основной запрос на кредит\n",
    "    \n",
    "    \n",
    "    \n",
    "    \n",
    "</div>"
   ]
  },
  {
   "cell_type": "code",
   "execution_count": 40,
   "metadata": {
    "scrolled": false
   },
   "outputs": [
    {
     "data": {
      "text/plain": [
       "недвижимость    10811\n",
       "автомобиль       4306\n",
       "образование      4013\n",
       "свадьба          2324\n",
       "Name: purpose_name, dtype: int64"
      ]
     },
     "execution_count": 40,
     "metadata": {},
     "output_type": "execute_result"
    }
   ],
   "source": [
    "# подсчет наиболее часто встречающихся основных запросов\n",
    "df['purpose_name'].value_counts()"
   ]
  },
  {
   "cell_type": "markdown",
   "metadata": {},
   "source": [
    "<div style=\"border:solid blue 2px; padding: 20px\">\n",
    " \n",
    "    \n",
    "Из целей получения кредита `purpose` получили после лемматизации основные категории:\n",
    "    \n",
    "- недвижимость    10811\n",
    "- автомобиль       4306\n",
    "- образование      4013\n",
    "- свадьба          2324\n",
    "    \n",
    "Лемматизация целей получения кредита `purpose` облегчит категоризацию данных в дальнейшем.    \n",
    "    \n",
    "    \n",
    "</div>"
   ]
  },
  {
   "cell_type": "markdown",
   "metadata": {},
   "source": [
    "### Категоризация данных"
   ]
  },
  {
   "cell_type": "markdown",
   "metadata": {},
   "source": [
    "<div style=\"border:solid blue 2px; padding: 20px\">\n",
    "    \n",
    "Выделим категории по возрасту клиента `dob_years`.\n",
    "    \n",
    "Создадим функцию с именем `age_group(age)` c параметром `age`,\n",
    "    \n",
    "в теле функции условная конструкция, которая сравнивает возраст клиента по категориям,\n",
    "    \n",
    "и возвращает категорию.    \n",
    "    \n",
    "Методом `apply` применим функцию к значениям `dob_years` и сохраним результат работы функции в новом столбце `age_group`.\n",
    "    \n",
    "</div>    "
   ]
  },
  {
   "cell_type": "code",
   "execution_count": 41,
   "metadata": {},
   "outputs": [],
   "source": [
    "# обработка возрастов клиентов по категориям\n",
    "def age_group(age):\n",
    "    if age <= 34:\n",
    "        return '19-34'\n",
    "    if 34 < age <= 54:\n",
    "        return '35-54'\n",
    "    return '55-75'\n",
    "df['age_group'] = df['dob_years'].apply(age_group)"
   ]
  },
  {
   "cell_type": "markdown",
   "metadata": {},
   "source": [
    "<div style=\"border:solid blue 2px; padding: 20px\">\n",
    " \n",
    "Методом `value_counts()` посмотрим на наиболее часто встречающиеся категорий возрастов `age_group`\n",
    "    \n",
    "    \n",
    "    \n",
    "    \n",
    "</div>"
   ]
  },
  {
   "cell_type": "code",
   "execution_count": 42,
   "metadata": {
    "scrolled": true
   },
   "outputs": [
    {
     "data": {
      "text/plain": [
       "35-54    10688\n",
       "19-34     5967\n",
       "55-75     4799\n",
       "Name: age_group, dtype: int64"
      ]
     },
     "execution_count": 42,
     "metadata": {},
     "output_type": "execute_result"
    }
   ],
   "source": [
    "# подсчет наиболее часто встречающихся категорий возрастов\n",
    "df['age_group'].value_counts()"
   ]
  },
  {
   "cell_type": "markdown",
   "metadata": {},
   "source": [
    "<div style=\"border:solid blue 2px; padding: 20px\">\n",
    "    \n",
    "Выделим категории по ежемесячному доходу клиента `total_income`.\n",
    "    \n",
    "    \n",
    "Создадим функцию с именем `total_income_group(total_income)` c параметром `total_income`,\n",
    "    \n",
    "в теле функции условная конструкция, которая сравнивает ежемесячный доход клиента по категориям,\n",
    "    \n",
    "и возвращает категорию.    \n",
    "    \n",
    "Методом `apply` применим функцию к значениям `total_income` и \n",
    "    \n",
    "сохраним результат работы функции в новом столбце `total_income_group`.\n",
    "    \n",
    "</div> "
   ]
  },
  {
   "cell_type": "code",
   "execution_count": 43,
   "metadata": {},
   "outputs": [],
   "source": [
    "# обработка ежемесячного дохода клиентов по категориям\n",
    "def total_income_group(total_income):\n",
    "    if total_income <= 50000:\n",
    "        return 0\n",
    "    if 50000 < total_income <= 100000:\n",
    "        return 1\n",
    "    if 100000 < total_income <= 200000:\n",
    "        return 2\n",
    "    return 3\n",
    "df['total_income_group'] = df['total_income'].apply(total_income_group)"
   ]
  },
  {
   "cell_type": "markdown",
   "metadata": {},
   "source": [
    "<div style=\"border:solid blue 2px; padding: 20px\">\n",
    " \n",
    "Методом `value_counts()` посмотрим на наиболее часто встречающиеся категорий ежемесячного дохода `total_income_group`\n",
    "    \n",
    "    \n",
    "    \n",
    "    \n",
    "</div>"
   ]
  },
  {
   "cell_type": "code",
   "execution_count": 44,
   "metadata": {},
   "outputs": [
    {
     "data": {
      "text/plain": [
       "2    11924\n",
       "3     5067\n",
       "1     4091\n",
       "0      372\n",
       "Name: total_income_group, dtype: int64"
      ]
     },
     "execution_count": 44,
     "metadata": {},
     "output_type": "execute_result"
    }
   ],
   "source": [
    "# подсчет наиболее часто встречающихся категорий ежемесячного дохода\n",
    "df['total_income_group'].value_counts()"
   ]
  },
  {
   "cell_type": "markdown",
   "metadata": {},
   "source": [
    "<div style=\"border:solid blue 2px; padding: 20px\">\n",
    "    \n",
    "**В данных есть словари.** \n",
    "    \n",
    "`groupby()` метод заменит стандартные числовые индексы на значения столбца, по которому выполним группировку.\n",
    "    \n",
    "Выделим словарь по образованию `education`\t`education_id`\t\n",
    "</div>    "
   ]
  },
  {
   "cell_type": "code",
   "execution_count": 45,
   "metadata": {},
   "outputs": [
    {
     "data": {
      "text/html": [
       "<div>\n",
       "<style scoped>\n",
       "    .dataframe tbody tr th:only-of-type {\n",
       "        vertical-align: middle;\n",
       "    }\n",
       "\n",
       "    .dataframe tbody tr th {\n",
       "        vertical-align: top;\n",
       "    }\n",
       "\n",
       "    .dataframe thead tr th {\n",
       "        text-align: left;\n",
       "    }\n",
       "\n",
       "    .dataframe thead tr:last-of-type th {\n",
       "        text-align: right;\n",
       "    }\n",
       "</style>\n",
       "<table border=\"1\" class=\"dataframe\">\n",
       "  <thead>\n",
       "    <tr>\n",
       "      <th></th>\n",
       "      <th colspan=\"2\" halign=\"left\">education_id</th>\n",
       "    </tr>\n",
       "    <tr>\n",
       "      <th></th>\n",
       "      <th>unique</th>\n",
       "      <th>count</th>\n",
       "    </tr>\n",
       "    <tr>\n",
       "      <th>education</th>\n",
       "      <th></th>\n",
       "      <th></th>\n",
       "    </tr>\n",
       "  </thead>\n",
       "  <tbody>\n",
       "    <tr>\n",
       "      <td>высшее</td>\n",
       "      <td>[0]</td>\n",
       "      <td>5250</td>\n",
       "    </tr>\n",
       "    <tr>\n",
       "      <td>начальное</td>\n",
       "      <td>[3]</td>\n",
       "      <td>282</td>\n",
       "    </tr>\n",
       "    <tr>\n",
       "      <td>неоконченное высшее</td>\n",
       "      <td>[2]</td>\n",
       "      <td>744</td>\n",
       "    </tr>\n",
       "    <tr>\n",
       "      <td>среднее</td>\n",
       "      <td>[1]</td>\n",
       "      <td>15172</td>\n",
       "    </tr>\n",
       "    <tr>\n",
       "      <td>ученая степень</td>\n",
       "      <td>[4]</td>\n",
       "      <td>6</td>\n",
       "    </tr>\n",
       "  </tbody>\n",
       "</table>\n",
       "</div>"
      ],
      "text/plain": [
       "                    education_id       \n",
       "                          unique  count\n",
       "education                              \n",
       "высшее                       [0]   5250\n",
       "начальное                    [3]    282\n",
       "неоконченное высшее          [2]    744\n",
       "среднее                      [1]  15172\n",
       "ученая степень               [4]      6"
      ]
     },
     "execution_count": 45,
     "metadata": {},
     "output_type": "execute_result"
    }
   ],
   "source": [
    "# группировка по уровню образования\n",
    "df.groupby('education').agg({'education_id':['unique','count']})"
   ]
  },
  {
   "cell_type": "markdown",
   "metadata": {},
   "source": [
    "<div style=\"border:solid blue 2px; padding: 20px\">\n",
    "    \n",
    "\n",
    "Выделим словарь по семейному положению `family_status`\t`family_status_id`\t\n",
    "    \n",
    "</div>    "
   ]
  },
  {
   "cell_type": "code",
   "execution_count": 46,
   "metadata": {},
   "outputs": [
    {
     "data": {
      "text/html": [
       "<div>\n",
       "<style scoped>\n",
       "    .dataframe tbody tr th:only-of-type {\n",
       "        vertical-align: middle;\n",
       "    }\n",
       "\n",
       "    .dataframe tbody tr th {\n",
       "        vertical-align: top;\n",
       "    }\n",
       "\n",
       "    .dataframe thead tr th {\n",
       "        text-align: left;\n",
       "    }\n",
       "\n",
       "    .dataframe thead tr:last-of-type th {\n",
       "        text-align: right;\n",
       "    }\n",
       "</style>\n",
       "<table border=\"1\" class=\"dataframe\">\n",
       "  <thead>\n",
       "    <tr>\n",
       "      <th></th>\n",
       "      <th colspan=\"2\" halign=\"left\">family_status_id</th>\n",
       "    </tr>\n",
       "    <tr>\n",
       "      <th></th>\n",
       "      <th>unique</th>\n",
       "      <th>count</th>\n",
       "    </tr>\n",
       "    <tr>\n",
       "      <th>family_status</th>\n",
       "      <th></th>\n",
       "      <th></th>\n",
       "    </tr>\n",
       "  </thead>\n",
       "  <tbody>\n",
       "    <tr>\n",
       "      <td>в разводе</td>\n",
       "      <td>[3]</td>\n",
       "      <td>1195</td>\n",
       "    </tr>\n",
       "    <tr>\n",
       "      <td>вдовец / вдова</td>\n",
       "      <td>[2]</td>\n",
       "      <td>959</td>\n",
       "    </tr>\n",
       "    <tr>\n",
       "      <td>гражданский брак</td>\n",
       "      <td>[1]</td>\n",
       "      <td>4151</td>\n",
       "    </tr>\n",
       "    <tr>\n",
       "      <td>женат / замужем</td>\n",
       "      <td>[0]</td>\n",
       "      <td>12339</td>\n",
       "    </tr>\n",
       "    <tr>\n",
       "      <td>не женат / не замужем</td>\n",
       "      <td>[4]</td>\n",
       "      <td>2810</td>\n",
       "    </tr>\n",
       "  </tbody>\n",
       "</table>\n",
       "</div>"
      ],
      "text/plain": [
       "                      family_status_id       \n",
       "                                unique  count\n",
       "family_status                                \n",
       "в разводе                          [3]   1195\n",
       "вдовец / вдова                     [2]    959\n",
       "гражданский брак                   [1]   4151\n",
       "женат / замужем                    [0]  12339\n",
       "не женат / не замужем              [4]   2810"
      ]
     },
     "execution_count": 46,
     "metadata": {},
     "output_type": "execute_result"
    }
   ],
   "source": [
    "# группировка по семейному положению\n",
    "df.groupby('family_status').agg({'family_status_id':['unique','count']})"
   ]
  },
  {
   "cell_type": "markdown",
   "metadata": {},
   "source": [
    "<div style=\"border:solid blue 2px; padding: 20px\">\n",
    "    \n",
    "**Итоги по категоризации данных**    \n",
    "    \n",
    "Категоризацию по основным целям кредита `purpose_name` провели при лемматизации: `недвижимость` - на первом месте.\n",
    "\n",
    "Категоризируем данные по принципу наличия леммы в каждом запросе на кредит.    \n",
    "    \n",
    "- `недвижимость` 10811\n",
    "- `автомобиль` 4306\n",
    "- `образование` 4013\n",
    "- `свадьба` 2324    \n",
    "\n",
    "    \n",
    "Категоризация по по возрасту клиента `dob_years`: возраст в диапазоне `от 35` `до 54` - на первом месте.  \n",
    "\n",
    "Категоризируем данные по принципу трудовой занятости, люди среднего возраста по логике в основном трудоустроены.    \n",
    "    \n",
    "- `35-54`    10688\n",
    "- `19-34`     5967\n",
    "- `55-75`     4799    \n",
    "      \n",
    "    \n",
    "Категоризация по ежемесячному доходу клиента `total_income`: доход в диапазоне `от 100000` `до 200000` - на первом месте.  \n",
    "\n",
    "Категоризируем данные по принципу наиболее распространенной *зарплатной вилки*.    \n",
    "    \n",
    "- `2`    11924\n",
    "- `3`     5067\n",
    "- `1`     4091\n",
    "- `0`     372\n",
    "    \n",
    "**В данных присутствует словари**\n",
    "\n",
    "Категоризируем данные по принципу `ключ:значение` поэтому выделили `словари` с идентификаторами. \n",
    "    \n",
    "Словари выделяют 2 группы:\n",
    "    \n",
    "По образованию `education`\t`education_id`: `среднее` - на первом месте.\n",
    "    \n",
    "- `высшее`                  5250\n",
    "- `начальное`                282\n",
    "- `неоконченное высшее`      744\n",
    "- `среднее`                15172\n",
    "- `ученая степень`             6   \n",
    "\n",
    "    \n",
    "По семейному положению `family_status`\t`family_status_id`: `женат / замужем` - на первом месте.\n",
    "    \n",
    "    \n",
    "- `в разводе`\t            \t1195\n",
    "- `вдовец / вдова`\t        \t959\n",
    "- `гражданский брак`    \t\t4151\n",
    "- `женат / замужем`\t        \t12339\n",
    "- `не женат / не замужем`\t\t2810\n",
    "   \n",
    "    \n",
    "    \n",
    "</div>    "
   ]
  },
  {
   "cell_type": "markdown",
   "metadata": {},
   "source": [
    "## Ответы на вопросы"
   ]
  },
  {
   "cell_type": "markdown",
   "metadata": {},
   "source": [
    "### Есть ли зависимость между наличием детей и возвратом кредита в срок?"
   ]
  },
  {
   "cell_type": "markdown",
   "metadata": {},
   "source": [
    "<div style=\"border:solid blue 2px; padding: 20px\">\n",
    "    \n",
    "\n",
    "Подготовим сводную таблицу со статистикой наличия и отсутствия задолженности по возврату кредита методом `pivot_table()`\n",
    "    \n",
    "</div>  "
   ]
  },
  {
   "cell_type": "code",
   "execution_count": 47,
   "metadata": {},
   "outputs": [
    {
     "data": {
      "text/html": [
       "<div>\n",
       "<style scoped>\n",
       "    .dataframe tbody tr th:only-of-type {\n",
       "        vertical-align: middle;\n",
       "    }\n",
       "\n",
       "    .dataframe tbody tr th {\n",
       "        vertical-align: top;\n",
       "    }\n",
       "\n",
       "    .dataframe thead th {\n",
       "        text-align: right;\n",
       "    }\n",
       "</style>\n",
       "<table border=\"1\" class=\"dataframe\">\n",
       "  <thead>\n",
       "    <tr style=\"text-align: right;\">\n",
       "      <th>debt</th>\n",
       "      <th>0</th>\n",
       "      <th>1</th>\n",
       "      <th>share_of _total</th>\n",
       "    </tr>\n",
       "    <tr>\n",
       "      <th>children</th>\n",
       "      <th></th>\n",
       "      <th></th>\n",
       "      <th></th>\n",
       "    </tr>\n",
       "  </thead>\n",
       "  <tbody>\n",
       "    <tr>\n",
       "      <td>0</td>\n",
       "      <td>13028.0</td>\n",
       "      <td>1063.0</td>\n",
       "      <td>0.075438</td>\n",
       "    </tr>\n",
       "    <tr>\n",
       "      <td>1</td>\n",
       "      <td>4410.0</td>\n",
       "      <td>445.0</td>\n",
       "      <td>0.091658</td>\n",
       "    </tr>\n",
       "    <tr>\n",
       "      <td>2</td>\n",
       "      <td>1926.0</td>\n",
       "      <td>202.0</td>\n",
       "      <td>0.094925</td>\n",
       "    </tr>\n",
       "    <tr>\n",
       "      <td>3</td>\n",
       "      <td>303.0</td>\n",
       "      <td>27.0</td>\n",
       "      <td>0.081818</td>\n",
       "    </tr>\n",
       "    <tr>\n",
       "      <td>4</td>\n",
       "      <td>37.0</td>\n",
       "      <td>4.0</td>\n",
       "      <td>0.097561</td>\n",
       "    </tr>\n",
       "    <tr>\n",
       "      <td>5</td>\n",
       "      <td>9.0</td>\n",
       "      <td>NaN</td>\n",
       "      <td>NaN</td>\n",
       "    </tr>\n",
       "  </tbody>\n",
       "</table>\n",
       "</div>"
      ],
      "text/plain": [
       "debt            0       1  share_of _total\n",
       "children                                  \n",
       "0         13028.0  1063.0         0.075438\n",
       "1          4410.0   445.0         0.091658\n",
       "2          1926.0   202.0         0.094925\n",
       "3           303.0    27.0         0.081818\n",
       "4            37.0     4.0         0.097561\n",
       "5             9.0     NaN              NaN"
      ]
     },
     "execution_count": 47,
     "metadata": {},
     "output_type": "execute_result"
    }
   ],
   "source": [
    "# составление сводной таблицы и получение доли по просрочке кредита\n",
    "children_pivot_table_debt = df.pivot_table(index=['children'], columns= 'debt', values='dob_years', aggfunc='count')\n",
    "children_pivot_table_debt['share_of _total'] = children_pivot_table_debt[1]/(children_pivot_table_debt[0]+children_pivot_table_debt[1])\n",
    "children_pivot_table_debt"
   ]
  },
  {
   "cell_type": "markdown",
   "metadata": {},
   "source": [
    "<div style=\"border:solid blue 2px; padding: 20px\">\n",
    "    \n",
    "\n",
    "По сводной таблице `children_pivot_table_debt` можно точно сказать, что \n",
    "    \n",
    "связь между рождением детей и своевременным погашением кредита слабая.\n",
    "    \n",
    "Большинство клиентов, у которых нет детей, имеют меньше проблем со своевременным погашением кредита.\n",
    "    \n",
    "Да, есть разница между заемщиками с разным количеством детей в семье, \n",
    "    \n",
    "но их доля от общего числа по каждой группе имеет равное распределение.\n",
    "    \n",
    "С рождением детей в семье меняется сознание родителей. Большая ответственности помогает переосмыслить жизненные ценности.\n",
    "    \n",
    "И результаты исследования подтверждают факт своевременного возврата кредита в срок.\n",
    "    \n",
    "Конечно нельзя не учитывать финансовую нагрузку на семью с рождением детей, поэтому в данных появляются просрочки по возврату.\n",
    "    \n",
    "Далее рассмортим взаимосвязь между семейным положением.\n",
    "    \n",
    "</div>  "
   ]
  },
  {
   "cell_type": "markdown",
   "metadata": {},
   "source": [
    "### Есть ли зависимость между семейным положением и возвратом кредита в срок?"
   ]
  },
  {
   "cell_type": "markdown",
   "metadata": {},
   "source": [
    "<div style=\"border:solid blue 2px; padding: 20px\">\n",
    "    \n",
    "\n",
    "Подготовим сводную таблицу со статистикой наличия и отсутствия задолженности по возврату кредита методом `pivot_table()`\n",
    "    \n",
    "</div>  "
   ]
  },
  {
   "cell_type": "code",
   "execution_count": 48,
   "metadata": {},
   "outputs": [
    {
     "data": {
      "text/html": [
       "<div>\n",
       "<style scoped>\n",
       "    .dataframe tbody tr th:only-of-type {\n",
       "        vertical-align: middle;\n",
       "    }\n",
       "\n",
       "    .dataframe tbody tr th {\n",
       "        vertical-align: top;\n",
       "    }\n",
       "\n",
       "    .dataframe thead th {\n",
       "        text-align: right;\n",
       "    }\n",
       "</style>\n",
       "<table border=\"1\" class=\"dataframe\">\n",
       "  <thead>\n",
       "    <tr style=\"text-align: right;\">\n",
       "      <th>debt</th>\n",
       "      <th>0</th>\n",
       "      <th>1</th>\n",
       "      <th>share_of _total</th>\n",
       "    </tr>\n",
       "    <tr>\n",
       "      <th>family_status</th>\n",
       "      <th></th>\n",
       "      <th></th>\n",
       "      <th></th>\n",
       "    </tr>\n",
       "  </thead>\n",
       "  <tbody>\n",
       "    <tr>\n",
       "      <td>не женат / не замужем</td>\n",
       "      <td>2536</td>\n",
       "      <td>274</td>\n",
       "      <td>0.097509</td>\n",
       "    </tr>\n",
       "    <tr>\n",
       "      <td>гражданский брак</td>\n",
       "      <td>3763</td>\n",
       "      <td>388</td>\n",
       "      <td>0.093471</td>\n",
       "    </tr>\n",
       "    <tr>\n",
       "      <td>женат / замужем</td>\n",
       "      <td>11408</td>\n",
       "      <td>931</td>\n",
       "      <td>0.075452</td>\n",
       "    </tr>\n",
       "    <tr>\n",
       "      <td>в разводе</td>\n",
       "      <td>1110</td>\n",
       "      <td>85</td>\n",
       "      <td>0.071130</td>\n",
       "    </tr>\n",
       "    <tr>\n",
       "      <td>вдовец / вдова</td>\n",
       "      <td>896</td>\n",
       "      <td>63</td>\n",
       "      <td>0.065693</td>\n",
       "    </tr>\n",
       "  </tbody>\n",
       "</table>\n",
       "</div>"
      ],
      "text/plain": [
       "debt                       0    1  share_of _total\n",
       "family_status                                     \n",
       "не женат / не замужем   2536  274         0.097509\n",
       "гражданский брак        3763  388         0.093471\n",
       "женат / замужем        11408  931         0.075452\n",
       "в разводе               1110   85         0.071130\n",
       "вдовец / вдова           896   63         0.065693"
      ]
     },
     "execution_count": 48,
     "metadata": {},
     "output_type": "execute_result"
    }
   ],
   "source": [
    "# составление сводной таблицы и получение доли по просрочке кредита\n",
    "family_status_pivot_table_debt = df.pivot_table(index=['family_status'], columns='debt', values='dob_years', aggfunc='count')\n",
    "family_status_pivot_table_debt['share_of _total'] = family_status_pivot_table_debt[1]/(family_status_pivot_table_debt[0]+family_status_pivot_table_debt[1])\n",
    "family_status_pivot_table_debt.sort_values('share_of _total', ascending=False)"
   ]
  },
  {
   "cell_type": "markdown",
   "metadata": {},
   "source": [
    "**Вывод**"
   ]
  },
  {
   "cell_type": "markdown",
   "metadata": {},
   "source": [
    "<div style=\"border:solid blue 2px; padding: 20px\">\n",
    "    \n",
    "По сводной таблице `family_status_pivot_table_debt` можно точно сказать, что у нас та же картина, что и раньше.\n",
    "    \n",
    "Существует слабая связь между семейным положением и возвратом кредита в срок, \n",
    "    \n",
    "похоже, что группы `вдовец / вдова` и `в разводе` имеют хорошие показатели относительно `не женат / не замужем`.\n",
    "    \n",
    "Наблюдаем похожие результаты группе `женат / замужем` с предыдущей таблицей в группе `children` `0`.\n",
    "    \n",
    "Вероятно в семье, у которых нет детей, финансовая нагрузка меньше, поэтому они чаще возвращают кредит в срок.\n",
    "    \n",
    "Существует ли связь между уровнем дохода и своевременным погашением кредита?\n",
    "    \n",
    "</div>    "
   ]
  },
  {
   "cell_type": "markdown",
   "metadata": {},
   "source": [
    "### Есть ли зависимость между уровнем дохода и возвратом кредита в срок?"
   ]
  },
  {
   "cell_type": "markdown",
   "metadata": {},
   "source": [
    "<div style=\"border:solid blue 2px; padding: 20px\">\n",
    "    \n",
    "\n",
    "Подготовим сводную таблицу со статистикой наличия и отсутствия задолженности по возврату кредита методом `pivot_table()`\n",
    "    \n",
    "</div>  "
   ]
  },
  {
   "cell_type": "code",
   "execution_count": 49,
   "metadata": {},
   "outputs": [
    {
     "data": {
      "text/html": [
       "<div>\n",
       "<style scoped>\n",
       "    .dataframe tbody tr th:only-of-type {\n",
       "        vertical-align: middle;\n",
       "    }\n",
       "\n",
       "    .dataframe tbody tr th {\n",
       "        vertical-align: top;\n",
       "    }\n",
       "\n",
       "    .dataframe thead th {\n",
       "        text-align: right;\n",
       "    }\n",
       "</style>\n",
       "<table border=\"1\" class=\"dataframe\">\n",
       "  <thead>\n",
       "    <tr style=\"text-align: right;\">\n",
       "      <th>debt</th>\n",
       "      <th>0</th>\n",
       "      <th>1</th>\n",
       "      <th>share_of _total</th>\n",
       "    </tr>\n",
       "    <tr>\n",
       "      <th>total_income_group</th>\n",
       "      <th></th>\n",
       "      <th></th>\n",
       "      <th></th>\n",
       "    </tr>\n",
       "  </thead>\n",
       "  <tbody>\n",
       "    <tr>\n",
       "      <td>0</td>\n",
       "      <td>349</td>\n",
       "      <td>23</td>\n",
       "      <td>0.061828</td>\n",
       "    </tr>\n",
       "    <tr>\n",
       "      <td>1</td>\n",
       "      <td>3760</td>\n",
       "      <td>331</td>\n",
       "      <td>0.080909</td>\n",
       "    </tr>\n",
       "    <tr>\n",
       "      <td>2</td>\n",
       "      <td>10895</td>\n",
       "      <td>1029</td>\n",
       "      <td>0.086297</td>\n",
       "    </tr>\n",
       "    <tr>\n",
       "      <td>3</td>\n",
       "      <td>4709</td>\n",
       "      <td>358</td>\n",
       "      <td>0.070653</td>\n",
       "    </tr>\n",
       "  </tbody>\n",
       "</table>\n",
       "</div>"
      ],
      "text/plain": [
       "debt                    0     1  share_of _total\n",
       "total_income_group                              \n",
       "0                     349    23         0.061828\n",
       "1                    3760   331         0.080909\n",
       "2                   10895  1029         0.086297\n",
       "3                    4709   358         0.070653"
      ]
     },
     "execution_count": 49,
     "metadata": {},
     "output_type": "execute_result"
    }
   ],
   "source": [
    "# составление сводной таблицы и получение доли по просрочке кредита\n",
    "total_income_group_pivot_table_debt = df.pivot_table(index=['total_income_group'], columns='debt', values='dob_years', aggfunc='count')\n",
    "total_income_group_pivot_table_debt['share_of _total'] = total_income_group_pivot_table_debt[1]/(total_income_group_pivot_table_debt[0]+total_income_group_pivot_table_debt[1])\n",
    "total_income_group_pivot_table_debt"
   ]
  },
  {
   "cell_type": "markdown",
   "metadata": {},
   "source": [
    "**Вывод**"
   ]
  },
  {
   "cell_type": "markdown",
   "metadata": {},
   "source": [
    "<div style=\"border:solid blue 2px; padding: 20px\">\n",
    "    \n",
    "По сводной таблице `total_income_group_pivot_table_debt` можно увидеть показатели по группам доходов клиентов.\n",
    "    \n",
    "Группа `0`, где доход до `50000`самая малочисленная, но с лучшими показателями по доле невозврата кредита в срок.\n",
    "    \n",
    "Группа `1`, где доход в диапазоне от `50000` до `100000`, пользуются кредитом чаще, но и возвращают с задержками.\n",
    "    \n",
    "Группа `2`, где доход в диапазоне от `100000` до `200000`, **основная группа** клиентов, но и доля просрочек больше.    \n",
    "    \n",
    "Группа `3`, где доход выше `200000`, вовремя возвращают кредит, он иногда задерживают, вероятно готовы оплачивать просрочку.    \n",
    "    \n",
    "И наконец самое интересное **как разные цели кредита влияют на его возврат в срок?**\n",
    "    \n",
    "</div>   "
   ]
  },
  {
   "cell_type": "markdown",
   "metadata": {},
   "source": [
    "### Как разные цели кредита влияют на его возврат в срок?"
   ]
  },
  {
   "cell_type": "markdown",
   "metadata": {},
   "source": [
    "<div style=\"border:solid blue 2px; padding: 20px\">\n",
    "    \n",
    "\n",
    "Подготовим сводную таблицу со статистикой наличия и отсутствия задолженности по возврату кредита методом `pivot_table()`\n",
    "    \n",
    "</div>  "
   ]
  },
  {
   "cell_type": "code",
   "execution_count": 50,
   "metadata": {},
   "outputs": [
    {
     "data": {
      "text/html": [
       "<div>\n",
       "<style scoped>\n",
       "    .dataframe tbody tr th:only-of-type {\n",
       "        vertical-align: middle;\n",
       "    }\n",
       "\n",
       "    .dataframe tbody tr th {\n",
       "        vertical-align: top;\n",
       "    }\n",
       "\n",
       "    .dataframe thead th {\n",
       "        text-align: right;\n",
       "    }\n",
       "</style>\n",
       "<table border=\"1\" class=\"dataframe\">\n",
       "  <thead>\n",
       "    <tr style=\"text-align: right;\">\n",
       "      <th>debt</th>\n",
       "      <th>0</th>\n",
       "      <th>1</th>\n",
       "      <th>share_of _total</th>\n",
       "    </tr>\n",
       "    <tr>\n",
       "      <th>purpose_name</th>\n",
       "      <th></th>\n",
       "      <th></th>\n",
       "      <th></th>\n",
       "    </tr>\n",
       "  </thead>\n",
       "  <tbody>\n",
       "    <tr>\n",
       "      <td>автомобиль</td>\n",
       "      <td>3903</td>\n",
       "      <td>403</td>\n",
       "      <td>0.093590</td>\n",
       "    </tr>\n",
       "    <tr>\n",
       "      <td>образование</td>\n",
       "      <td>3643</td>\n",
       "      <td>370</td>\n",
       "      <td>0.092200</td>\n",
       "    </tr>\n",
       "    <tr>\n",
       "      <td>свадьба</td>\n",
       "      <td>2138</td>\n",
       "      <td>186</td>\n",
       "      <td>0.080034</td>\n",
       "    </tr>\n",
       "    <tr>\n",
       "      <td>недвижимость</td>\n",
       "      <td>10029</td>\n",
       "      <td>782</td>\n",
       "      <td>0.072334</td>\n",
       "    </tr>\n",
       "  </tbody>\n",
       "</table>\n",
       "</div>"
      ],
      "text/plain": [
       "debt              0    1  share_of _total\n",
       "purpose_name                             \n",
       "автомобиль     3903  403         0.093590\n",
       "образование    3643  370         0.092200\n",
       "свадьба        2138  186         0.080034\n",
       "недвижимость  10029  782         0.072334"
      ]
     },
     "execution_count": 50,
     "metadata": {},
     "output_type": "execute_result"
    }
   ],
   "source": [
    "# составление сводной таблицы и получение доли по просрочке кредита\n",
    "purpose_name_pivot_table_debt = df.pivot_table(index=['purpose_name'], columns='debt', values='dob_years', aggfunc='count')\n",
    "purpose_name_pivot_table_debt['share_of _total'] = purpose_name_pivot_table_debt[1]/(purpose_name_pivot_table_debt[0]+purpose_name_pivot_table_debt[1])\n",
    "purpose_name_pivot_table_debt.sort_values('share_of _total', ascending=False)"
   ]
  },
  {
   "cell_type": "markdown",
   "metadata": {},
   "source": [
    "<div style=\"border:solid blue 2px; padding: 20px\">\n",
    "    \n",
    "\n",
    "По сводной таблице `purpose_name_pivot_table_debt` можно точно сказать, что \n",
    "    \n",
    "Большинство клиентов, у которых операции с `недвижимостью`, имеют лучшие показатели по возврату кредита в срок.\n",
    "\n",
    "`Свадьба` - это создание новой ячейки общества. ГОРКО!!!ГОРЬКО!!!ГОРЬКО!!!ГОРКО!!! Много поцелуев - хороший результат.\n",
    "\n",
    "Почему больше должников по `автокредитам`: видимо клиенты предпочитают оплатить просрочку, чем погасить тело кредита.\n",
    "    \n",
    "Рассмотрим проблему `образования в кредит`: почему не возвращают в срок? Потому что условия по кредиту спецефические:\n",
    "    \n",
    "4-х летнее образование при стоимости `200000` в год переплата за весь срок составит около `80000`. Итого `920000`.\n",
    "    \n",
    "Заемщик - сам студент. Просрочка `20% годовых`. Решение проблемы - пересмотреть условия кредитования!!!\n",
    "    \n",
    "Информация на сегодняшний день: образовательный кредит с господдержкой всего `3%` - проблему решили на уровне государства!!!\n",
    "     \n",
    "</div>  "
   ]
  },
  {
   "cell_type": "markdown",
   "metadata": {},
   "source": [
    "## Общий вывод"
   ]
  },
  {
   "cell_type": "markdown",
   "metadata": {},
   "source": [
    "<div style=\"border:solid blue 2px; padding: 20px\">\n",
    "\n",
    "Мы выявили сильные и слабые места для всех категорий клиентов. \n",
    "    \n",
    "Можем порекомендовать специалистам уделить особое внимание на уровень дохода клиентов при выдаче кредитов,\n",
    "    \n",
    "потому что клиенты относящиеся к группе с самым высоким уровнем дохода скорее всего это юр.лица.\n",
    "\n",
    "[Сводная таблица](#general_conclusion)\n",
    "    \n",
    "**total_income**\n",
    "* `income_type\t\n",
    "* `безработный`\t    131339.751676\n",
    "* `в декрете`\t     53829.130729\n",
    "* `госслужащий`\t    150447.935283\n",
    "* `компаньон`\t    172357.950966 - `юр.лицо` \n",
    "* `пенсионер`\t    118514.486412\n",
    "* `предприниматель`\t499163.144947 - `юр.лицо`   \n",
    "* `сотрудник`\t    142594.396847\n",
    "* `студент`\t         98201.625314\n",
    "    \n",
    "    \n",
    "Так например физ.лицо с действующим ИП - это предприниматель, или\n",
    "    \n",
    "ООО или АО с большим коллективом в штате - это уже компаньон (в лице учредителя или акционера)\n",
    "    \n",
    "Они не должны учитвыаться при построении модели, \n",
    "    \n",
    "поскольку на их доход, получаемый от деятельности организации, влияют совершенно другие факторы,\n",
    "    \n",
    "чем на оклад (гарантированные ежемесячные выплаты) у сортудника или госслужащего,\n",
    "    \n",
    "где уровень дохода в основном зависит от должности, которую они занимают.\n",
    "     \n",
    "\n",
    "    \n",
    "</div>  "
   ]
  },
  {
   "cell_type": "markdown",
   "metadata": {},
   "source": [
    "## Чек-лист готовности проекта"
   ]
  },
  {
   "cell_type": "markdown",
   "metadata": {},
   "source": [
    "- [x]  открыт файл;\n",
    "- [x]  файл изучен;\n",
    "- [x]  определены пропущенные значения;\n",
    "- [x]  заполнены пропущенные значения;\n",
    "- [x]  есть пояснение, какие пропущенные значения обнаружены;\n",
    "- [x]  описаны возможные причины появления пропусков в данных;\n",
    "- [x]  объяснено, по какому принципу заполнены пропуски;\n",
    "- [x]  заменен вещественный тип данных на целочисленный;\n",
    "- [x]  есть пояснение, какой метод используется для изменения типа данных и почему;\n",
    "- [x]  удалены дубликаты;\n",
    "- [x]  есть пояснение, какой метод используется для поиска и удаления дубликатов;\n",
    "- [x]  описаны возможные причины появления дубликатов в данных;\n",
    "- [x]  выделены леммы в значениях столбца с целями получения кредита;\n",
    "- [x]  описан процесс лемматизации;\n",
    "- [x]  данные категоризированы;\n",
    "- [x]  есть объяснение принципа категоризации данных;\n",
    "- [x]  есть ответ на вопрос: \"Есть ли зависимость между наличием детей и возвратом кредита в срок?\";\n",
    "- [x]  есть ответ на вопрос: \"Есть ли зависимость между семейным положением и возвратом кредита в срок?\";\n",
    "- [x]  есть ответ на вопрос: \"Есть ли зависимость между уровнем дохода и возвратом кредита в срок?\";\n",
    "- [x]  есть ответ на вопрос: \"Как разные цели кредита влияют на его возврат в срок?\";\n",
    "- [x]  в каждом этапе есть выводы;\n",
    "- [x]  есть общий вывод."
   ]
  }
 ],
 "metadata": {
  "ExecuteTimeLog": [
   {
    "duration": 599,
    "start_time": "2021-11-16T11:12:07.984Z"
   },
   {
    "duration": 216,
    "start_time": "2021-11-16T11:12:08.585Z"
   },
   {
    "duration": 23,
    "start_time": "2021-11-16T11:12:08.804Z"
   },
   {
    "duration": 14,
    "start_time": "2021-11-16T11:12:08.829Z"
   },
   {
    "duration": 3,
    "start_time": "2021-11-16T11:27:46.870Z"
   },
   {
    "duration": 2349,
    "start_time": "2021-11-16T11:27:46.875Z"
   },
   {
    "duration": 150,
    "start_time": "2021-11-16T11:27:49.076Z"
   },
   {
    "duration": 150,
    "start_time": "2021-11-16T11:27:49.077Z"
   },
   {
    "duration": 2,
    "start_time": "2021-11-16T11:28:27.933Z"
   },
   {
    "duration": 225,
    "start_time": "2021-11-16T11:28:27.937Z"
   },
   {
    "duration": 13,
    "start_time": "2021-11-16T11:28:28.164Z"
   },
   {
    "duration": 16,
    "start_time": "2021-11-16T11:28:28.178Z"
   },
   {
    "duration": 3,
    "start_time": "2021-11-16T11:29:09.703Z"
   },
   {
    "duration": 54,
    "start_time": "2021-11-16T11:29:09.708Z"
   },
   {
    "duration": 14,
    "start_time": "2021-11-16T11:29:09.764Z"
   },
   {
    "duration": 11,
    "start_time": "2021-11-16T11:29:09.780Z"
   },
   {
    "duration": 592,
    "start_time": "2021-11-16T11:33:21.385Z"
   },
   {
    "duration": 54,
    "start_time": "2021-11-16T11:33:22.296Z"
   },
   {
    "duration": 21,
    "start_time": "2021-11-16T11:33:22.522Z"
   },
   {
    "duration": 13,
    "start_time": "2021-11-16T11:33:26.042Z"
   },
   {
    "duration": 607,
    "start_time": "2021-11-16T11:33:39.823Z"
   },
   {
    "duration": 58,
    "start_time": "2021-11-16T11:33:40.432Z"
   },
   {
    "duration": 22,
    "start_time": "2021-11-16T11:33:40.493Z"
   },
   {
    "duration": 23,
    "start_time": "2021-11-16T11:33:40.518Z"
   },
   {
    "duration": 304,
    "start_time": "2021-11-16T14:06:05.021Z"
   },
   {
    "duration": 269,
    "start_time": "2021-11-16T14:07:46.247Z"
   },
   {
    "duration": 264,
    "start_time": "2021-11-16T14:10:24.782Z"
   },
   {
    "duration": 6,
    "start_time": "2021-11-16T14:10:58.799Z"
   },
   {
    "duration": 100,
    "start_time": "2021-11-16T14:13:51.979Z"
   },
   {
    "duration": 95,
    "start_time": "2021-11-16T14:15:20.034Z"
   },
   {
    "duration": 266,
    "start_time": "2021-11-16T14:15:38.025Z"
   },
   {
    "duration": 86,
    "start_time": "2021-11-16T14:16:05.954Z"
   },
   {
    "duration": 257,
    "start_time": "2021-11-16T14:16:12.404Z"
   },
   {
    "duration": 256,
    "start_time": "2021-11-16T14:16:25.781Z"
   },
   {
    "duration": 7,
    "start_time": "2021-11-16T14:23:26.108Z"
   },
   {
    "duration": 8,
    "start_time": "2021-11-16T14:24:46.266Z"
   },
   {
    "duration": 7,
    "start_time": "2021-11-16T14:25:15.047Z"
   },
   {
    "duration": 16,
    "start_time": "2021-11-16T14:27:23.090Z"
   },
   {
    "duration": 7,
    "start_time": "2021-11-16T14:28:31.670Z"
   },
   {
    "duration": 17,
    "start_time": "2021-11-16T14:28:42.192Z"
   },
   {
    "duration": 6,
    "start_time": "2021-11-16T14:29:03.946Z"
   },
   {
    "duration": 15,
    "start_time": "2021-11-16T14:29:15.061Z"
   },
   {
    "duration": 17,
    "start_time": "2021-11-16T14:29:56.291Z"
   },
   {
    "duration": 6,
    "start_time": "2021-11-16T14:30:11.477Z"
   },
   {
    "duration": 8,
    "start_time": "2021-11-16T14:30:22.210Z"
   },
   {
    "duration": 20,
    "start_time": "2021-11-16T14:30:34.508Z"
   },
   {
    "duration": 10,
    "start_time": "2021-11-16T14:59:30.826Z"
   },
   {
    "duration": 22,
    "start_time": "2021-11-16T15:00:43.311Z"
   },
   {
    "duration": 267,
    "start_time": "2021-11-16T15:01:15.288Z"
   },
   {
    "duration": 32,
    "start_time": "2021-11-16T15:01:22.868Z"
   },
   {
    "duration": 10,
    "start_time": "2021-11-16T15:01:40.968Z"
   },
   {
    "duration": 14,
    "start_time": "2021-11-16T15:03:32.253Z"
   },
   {
    "duration": 6,
    "start_time": "2021-11-16T15:05:13.774Z"
   },
   {
    "duration": 7,
    "start_time": "2021-11-16T22:11:30.801Z"
   },
   {
    "duration": 6,
    "start_time": "2021-11-16T22:22:05.895Z"
   },
   {
    "duration": 15,
    "start_time": "2021-11-16T22:30:29.871Z"
   },
   {
    "duration": 355,
    "start_time": "2021-11-17T11:15:22.510Z"
   },
   {
    "duration": 556,
    "start_time": "2021-11-17T11:15:34.020Z"
   },
   {
    "duration": 51,
    "start_time": "2021-11-17T11:15:34.578Z"
   },
   {
    "duration": 19,
    "start_time": "2021-11-17T11:15:34.631Z"
   },
   {
    "duration": 19,
    "start_time": "2021-11-17T11:15:34.651Z"
   },
   {
    "duration": 16,
    "start_time": "2021-11-17T11:15:34.672Z"
   },
   {
    "duration": 15,
    "start_time": "2021-11-17T11:15:34.689Z"
   },
   {
    "duration": 16,
    "start_time": "2021-11-17T11:40:54.088Z"
   },
   {
    "duration": 8,
    "start_time": "2021-11-17T11:41:12.490Z"
   },
   {
    "duration": 7,
    "start_time": "2021-11-17T11:41:28.862Z"
   },
   {
    "duration": 5,
    "start_time": "2021-11-17T11:41:52.698Z"
   },
   {
    "duration": 18,
    "start_time": "2021-11-17T11:42:28.132Z"
   },
   {
    "duration": 631,
    "start_time": "2021-11-17T11:43:28.045Z"
   },
   {
    "duration": 52,
    "start_time": "2021-11-17T11:43:28.678Z"
   },
   {
    "duration": 20,
    "start_time": "2021-11-17T11:43:28.733Z"
   },
   {
    "duration": 17,
    "start_time": "2021-11-17T11:43:28.763Z"
   },
   {
    "duration": 27,
    "start_time": "2021-11-17T11:43:28.782Z"
   },
   {
    "duration": 14,
    "start_time": "2021-11-17T11:43:28.810Z"
   },
   {
    "duration": 11,
    "start_time": "2021-11-17T11:43:28.826Z"
   },
   {
    "duration": 26,
    "start_time": "2021-11-17T11:43:28.838Z"
   },
   {
    "duration": 20,
    "start_time": "2021-11-17T12:00:47.358Z"
   },
   {
    "duration": 10,
    "start_time": "2021-11-17T12:00:55.343Z"
   },
   {
    "duration": 14,
    "start_time": "2021-11-17T12:01:03.854Z"
   },
   {
    "duration": 368,
    "start_time": "2021-11-17T12:01:49.322Z"
   },
   {
    "duration": 21,
    "start_time": "2021-11-17T12:03:18.816Z"
   },
   {
    "duration": 12,
    "start_time": "2021-11-17T12:03:42.758Z"
   },
   {
    "duration": 18,
    "start_time": "2021-11-17T12:04:00.892Z"
   },
   {
    "duration": 9,
    "start_time": "2021-11-17T12:06:35.154Z"
   },
   {
    "duration": 9,
    "start_time": "2021-11-17T12:14:27.191Z"
   },
   {
    "duration": 7302,
    "start_time": "2021-11-17T12:28:18.141Z"
   },
   {
    "duration": 6694,
    "start_time": "2021-11-17T12:29:23.551Z"
   },
   {
    "duration": 8299,
    "start_time": "2021-11-17T12:29:41.090Z"
   },
   {
    "duration": 8292,
    "start_time": "2021-11-17T12:31:19.994Z"
   },
   {
    "duration": 22,
    "start_time": "2021-11-17T12:39:29.358Z"
   },
   {
    "duration": 12,
    "start_time": "2021-11-17T12:39:51.612Z"
   },
   {
    "duration": 387,
    "start_time": "2021-11-17T12:41:55.515Z"
   },
   {
    "duration": 13,
    "start_time": "2021-11-17T12:44:45.886Z"
   },
   {
    "duration": 16,
    "start_time": "2021-11-17T12:45:02.907Z"
   },
   {
    "duration": 11,
    "start_time": "2021-11-17T12:45:23.020Z"
   },
   {
    "duration": 8,
    "start_time": "2021-11-17T12:48:29.128Z"
   },
   {
    "duration": 8,
    "start_time": "2021-11-17T12:48:38.252Z"
   },
   {
    "duration": 278,
    "start_time": "2021-11-17T12:48:54.375Z"
   },
   {
    "duration": 260,
    "start_time": "2021-11-17T12:50:00.782Z"
   },
   {
    "duration": 8,
    "start_time": "2021-11-17T13:06:03.279Z"
   },
   {
    "duration": 10,
    "start_time": "2021-11-17T13:06:12.948Z"
   },
   {
    "duration": 43,
    "start_time": "2021-11-17T13:09:27.946Z"
   },
   {
    "duration": 29,
    "start_time": "2021-11-17T13:10:13.156Z"
   },
   {
    "duration": 10,
    "start_time": "2021-11-17T13:10:19.185Z"
   },
   {
    "duration": 30,
    "start_time": "2021-11-17T13:10:36.253Z"
   },
   {
    "duration": 12,
    "start_time": "2021-11-17T13:10:39.517Z"
   },
   {
    "duration": 628,
    "start_time": "2021-11-17T13:12:02.395Z"
   },
   {
    "duration": 58,
    "start_time": "2021-11-17T13:12:03.025Z"
   },
   {
    "duration": 19,
    "start_time": "2021-11-17T13:12:03.088Z"
   },
   {
    "duration": 16,
    "start_time": "2021-11-17T13:12:03.109Z"
   },
   {
    "duration": 17,
    "start_time": "2021-11-17T13:12:03.127Z"
   },
   {
    "duration": 33,
    "start_time": "2021-11-17T13:12:03.146Z"
   },
   {
    "duration": 6,
    "start_time": "2021-11-17T13:12:03.181Z"
   },
   {
    "duration": 29,
    "start_time": "2021-11-17T13:12:03.190Z"
   },
   {
    "duration": 9,
    "start_time": "2021-11-17T13:13:47.585Z"
   },
   {
    "duration": 332,
    "start_time": "2021-11-17T13:13:58.260Z"
   },
   {
    "duration": 6,
    "start_time": "2021-11-17T13:14:21.758Z"
   },
   {
    "duration": 9,
    "start_time": "2021-11-17T13:14:36.248Z"
   },
   {
    "duration": 6,
    "start_time": "2021-11-17T13:15:16.740Z"
   },
   {
    "duration": 7504,
    "start_time": "2021-11-17T13:16:32.583Z"
   },
   {
    "duration": 8,
    "start_time": "2021-11-17T13:16:56.133Z"
   },
   {
    "duration": 9,
    "start_time": "2021-11-17T13:17:12.646Z"
   },
   {
    "duration": 8,
    "start_time": "2021-11-17T13:17:33.062Z"
   },
   {
    "duration": 271,
    "start_time": "2021-11-17T13:17:42.884Z"
   },
   {
    "duration": 6,
    "start_time": "2021-11-17T13:17:54.115Z"
   },
   {
    "duration": 9,
    "start_time": "2021-11-17T13:18:04.495Z"
   },
   {
    "duration": 17,
    "start_time": "2021-11-17T13:59:32.456Z"
   },
   {
    "duration": 16,
    "start_time": "2021-11-17T14:00:08.927Z"
   },
   {
    "duration": 13,
    "start_time": "2021-11-17T14:03:17.598Z"
   },
   {
    "duration": 19,
    "start_time": "2021-11-17T14:06:53.771Z"
   },
   {
    "duration": 22,
    "start_time": "2021-11-17T14:07:11.221Z"
   },
   {
    "duration": 21,
    "start_time": "2021-11-17T14:08:08.788Z"
   },
   {
    "duration": 14,
    "start_time": "2021-11-17T14:13:27.275Z"
   },
   {
    "duration": 23,
    "start_time": "2021-11-17T14:20:25.942Z"
   },
   {
    "duration": 13,
    "start_time": "2021-11-17T14:21:34.835Z"
   },
   {
    "duration": 14,
    "start_time": "2021-11-17T14:22:50.998Z"
   },
   {
    "duration": 16,
    "start_time": "2021-11-17T14:46:28.016Z"
   },
   {
    "duration": 14,
    "start_time": "2021-11-17T14:46:39.031Z"
   },
   {
    "duration": 14,
    "start_time": "2021-11-17T14:46:56.025Z"
   },
   {
    "duration": 5,
    "start_time": "2021-11-17T15:13:10.270Z"
   },
   {
    "duration": 6555,
    "start_time": "2021-11-17T15:15:42.483Z"
   },
   {
    "duration": 8145,
    "start_time": "2021-11-17T15:15:53.719Z"
   },
   {
    "duration": 7,
    "start_time": "2021-11-17T15:21:20.322Z"
   },
   {
    "duration": 10,
    "start_time": "2021-11-17T15:21:30.174Z"
   },
   {
    "duration": 6626,
    "start_time": "2021-11-17T15:23:54.104Z"
   },
   {
    "duration": 6481,
    "start_time": "2021-11-17T15:24:16.294Z"
   },
   {
    "duration": 7255,
    "start_time": "2021-11-17T15:24:28.463Z"
   },
   {
    "duration": 7,
    "start_time": "2021-11-17T15:25:20.953Z"
   },
   {
    "duration": 6,
    "start_time": "2021-11-17T15:27:10.286Z"
   },
   {
    "duration": 8,
    "start_time": "2021-11-17T15:27:18.746Z"
   },
   {
    "duration": 7,
    "start_time": "2021-11-17T15:27:59.378Z"
   },
   {
    "duration": 9,
    "start_time": "2021-11-17T15:28:15.723Z"
   },
   {
    "duration": 7018,
    "start_time": "2021-11-17T15:35:34.820Z"
   },
   {
    "duration": 8,
    "start_time": "2021-11-17T15:35:53.127Z"
   },
   {
    "duration": 8,
    "start_time": "2021-11-17T15:36:12.955Z"
   },
   {
    "duration": 8,
    "start_time": "2021-11-17T15:36:21.249Z"
   },
   {
    "duration": 8,
    "start_time": "2021-11-17T15:36:26.739Z"
   },
   {
    "duration": 8,
    "start_time": "2021-11-17T15:36:30.521Z"
   },
   {
    "duration": 9,
    "start_time": "2021-11-17T15:56:24.704Z"
   },
   {
    "duration": 7,
    "start_time": "2021-11-17T16:09:43.130Z"
   },
   {
    "duration": 8,
    "start_time": "2021-11-17T16:09:50.564Z"
   },
   {
    "duration": 16,
    "start_time": "2021-11-17T16:10:19.055Z"
   },
   {
    "duration": 15,
    "start_time": "2021-11-17T16:10:40.668Z"
   },
   {
    "duration": 262,
    "start_time": "2021-11-17T16:11:09.207Z"
   },
   {
    "duration": 283,
    "start_time": "2021-11-17T16:11:51.965Z"
   },
   {
    "duration": 262,
    "start_time": "2021-11-17T16:13:27.764Z"
   },
   {
    "duration": 301,
    "start_time": "2021-11-17T16:13:34.262Z"
   },
   {
    "duration": 263,
    "start_time": "2021-11-17T16:13:55.663Z"
   },
   {
    "duration": 17,
    "start_time": "2021-11-17T16:14:19.692Z"
   },
   {
    "duration": 18,
    "start_time": "2021-11-17T16:14:31.638Z"
   },
   {
    "duration": 16,
    "start_time": "2021-11-17T16:14:39.188Z"
   },
   {
    "duration": 17,
    "start_time": "2021-11-17T16:14:46.364Z"
   },
   {
    "duration": 16,
    "start_time": "2021-11-17T16:14:51.920Z"
   },
   {
    "duration": 92,
    "start_time": "2021-11-17T16:26:30.102Z"
   },
   {
    "duration": 97,
    "start_time": "2021-11-17T16:26:37.294Z"
   },
   {
    "duration": 80,
    "start_time": "2021-11-17T16:26:52.788Z"
   },
   {
    "duration": 438,
    "start_time": "2021-11-17T16:27:33.925Z"
   },
   {
    "duration": 293,
    "start_time": "2021-11-17T16:32:44.653Z"
   },
   {
    "duration": 294,
    "start_time": "2021-11-17T16:34:45.342Z"
   },
   {
    "duration": 340,
    "start_time": "2021-11-17T16:36:53.619Z"
   },
   {
    "duration": 355,
    "start_time": "2021-11-17T16:37:39.120Z"
   },
   {
    "duration": 8,
    "start_time": "2021-11-17T16:38:13.648Z"
   },
   {
    "duration": 7,
    "start_time": "2021-11-17T16:38:21.585Z"
   },
   {
    "duration": 264,
    "start_time": "2021-11-17T16:49:14.649Z"
   },
   {
    "duration": 8,
    "start_time": "2021-11-17T16:49:26.224Z"
   },
   {
    "duration": 263,
    "start_time": "2021-11-17T16:49:51.123Z"
   },
   {
    "duration": 275,
    "start_time": "2021-11-17T16:50:13.070Z"
   },
   {
    "duration": 258,
    "start_time": "2021-11-17T16:50:24.354Z"
   },
   {
    "duration": 335,
    "start_time": "2021-11-17T16:50:35.131Z"
   },
   {
    "duration": 253,
    "start_time": "2021-11-17T16:50:42.477Z"
   },
   {
    "duration": 276,
    "start_time": "2021-11-17T16:50:48.574Z"
   },
   {
    "duration": 261,
    "start_time": "2021-11-17T16:51:02.311Z"
   },
   {
    "duration": 278,
    "start_time": "2021-11-17T16:51:07.163Z"
   },
   {
    "duration": 247,
    "start_time": "2021-11-17T16:51:39.176Z"
   },
   {
    "duration": 1301,
    "start_time": "2021-11-17T16:52:15.704Z"
   },
   {
    "duration": 555,
    "start_time": "2021-11-17T16:52:31.418Z"
   },
   {
    "duration": 52,
    "start_time": "2021-11-17T16:52:31.975Z"
   },
   {
    "duration": 19,
    "start_time": "2021-11-17T16:52:32.029Z"
   },
   {
    "duration": 16,
    "start_time": "2021-11-17T16:52:32.049Z"
   },
   {
    "duration": 17,
    "start_time": "2021-11-17T16:52:32.067Z"
   },
   {
    "duration": 16,
    "start_time": "2021-11-17T16:52:32.086Z"
   },
   {
    "duration": 8,
    "start_time": "2021-11-17T16:52:32.103Z"
   },
   {
    "duration": 21,
    "start_time": "2021-11-17T16:52:32.113Z"
   },
   {
    "duration": 32,
    "start_time": "2021-11-17T16:52:32.136Z"
   },
   {
    "duration": 10,
    "start_time": "2021-11-17T16:52:32.169Z"
   },
   {
    "duration": 21,
    "start_time": "2021-11-17T16:52:32.181Z"
   },
   {
    "duration": 6838,
    "start_time": "2021-11-17T16:52:59.608Z"
   },
   {
    "duration": 11,
    "start_time": "2021-11-17T16:53:09.328Z"
   },
   {
    "duration": 9,
    "start_time": "2021-11-17T16:53:42.739Z"
   },
   {
    "duration": 401,
    "start_time": "2021-11-17T17:06:28.111Z"
   },
   {
    "duration": 24,
    "start_time": "2021-11-17T17:07:08.680Z"
   },
   {
    "duration": 7780,
    "start_time": "2021-11-17T17:07:48.663Z"
   },
   {
    "duration": 281,
    "start_time": "2021-11-17T17:08:02.745Z"
   },
   {
    "duration": 13795,
    "start_time": "2021-11-17T17:08:36.844Z"
   },
   {
    "duration": 23,
    "start_time": "2021-11-17T17:10:19.816Z"
   },
   {
    "duration": 5,
    "start_time": "2021-11-17T19:17:51.488Z"
   },
   {
    "duration": 12,
    "start_time": "2021-11-17T19:18:12.276Z"
   },
   {
    "duration": 97,
    "start_time": "2021-11-17T19:21:17.916Z"
   },
   {
    "duration": 21,
    "start_time": "2021-11-17T19:21:30.665Z"
   },
   {
    "duration": 18,
    "start_time": "2021-11-17T19:29:54.128Z"
   },
   {
    "duration": 8,
    "start_time": "2021-11-17T19:30:10.085Z"
   },
   {
    "duration": 6,
    "start_time": "2021-11-17T19:30:40.427Z"
   },
   {
    "duration": 6,
    "start_time": "2021-11-17T19:30:50.149Z"
   },
   {
    "duration": 5,
    "start_time": "2021-11-17T19:31:09.002Z"
   },
   {
    "duration": 291,
    "start_time": "2021-11-17T19:34:32.764Z"
   },
   {
    "duration": 344,
    "start_time": "2021-11-17T19:35:25.472Z"
   },
   {
    "duration": 6,
    "start_time": "2021-11-17T19:36:07.972Z"
   },
   {
    "duration": 274,
    "start_time": "2021-11-17T19:40:39.491Z"
   },
   {
    "duration": 261,
    "start_time": "2021-11-17T19:40:55.918Z"
   },
   {
    "duration": 473,
    "start_time": "2021-11-17T19:41:58.502Z"
   },
   {
    "duration": 272,
    "start_time": "2021-11-17T19:42:06.174Z"
   },
   {
    "duration": 20,
    "start_time": "2021-11-17T19:42:21.290Z"
   },
   {
    "duration": 19,
    "start_time": "2021-11-17T19:43:35.883Z"
   },
   {
    "duration": 5,
    "start_time": "2021-11-17T19:43:48.197Z"
   },
   {
    "duration": 4,
    "start_time": "2021-11-17T19:44:13.817Z"
   },
   {
    "duration": 12,
    "start_time": "2021-11-17T19:44:15.072Z"
   },
   {
    "duration": 15,
    "start_time": "2021-11-17T19:44:17.597Z"
   },
   {
    "duration": 5,
    "start_time": "2021-11-17T19:44:19.853Z"
   },
   {
    "duration": 4,
    "start_time": "2021-11-17T19:44:23.055Z"
   },
   {
    "duration": 11,
    "start_time": "2021-11-17T19:47:32.115Z"
   },
   {
    "duration": 25,
    "start_time": "2021-11-17T19:49:17.800Z"
   },
   {
    "duration": 59,
    "start_time": "2021-11-17T19:50:22.702Z"
   },
   {
    "duration": 44,
    "start_time": "2021-11-17T19:51:17.060Z"
   },
   {
    "duration": 78,
    "start_time": "2021-11-17T19:51:47.577Z"
   },
   {
    "duration": 32,
    "start_time": "2021-11-17T19:52:46.174Z"
   },
   {
    "duration": 21,
    "start_time": "2021-11-17T19:53:05.467Z"
   },
   {
    "duration": 13,
    "start_time": "2021-11-17T19:54:58.012Z"
   },
   {
    "duration": 15,
    "start_time": "2021-11-17T19:55:25.245Z"
   },
   {
    "duration": 21,
    "start_time": "2021-11-17T19:55:38.994Z"
   },
   {
    "duration": 29,
    "start_time": "2021-11-17T19:55:59.662Z"
   },
   {
    "duration": 28,
    "start_time": "2021-11-17T19:56:37.876Z"
   },
   {
    "duration": 31,
    "start_time": "2021-11-17T19:56:47.958Z"
   },
   {
    "duration": 31,
    "start_time": "2021-11-17T19:57:00.562Z"
   },
   {
    "duration": 30,
    "start_time": "2021-11-17T19:57:25.958Z"
   },
   {
    "duration": 23,
    "start_time": "2021-11-17T19:57:57.123Z"
   },
   {
    "duration": 910,
    "start_time": "2021-11-17T19:59:48.674Z"
   },
   {
    "duration": 73,
    "start_time": "2021-11-17T19:59:49.587Z"
   },
   {
    "duration": 33,
    "start_time": "2021-11-17T19:59:49.663Z"
   },
   {
    "duration": 17,
    "start_time": "2021-11-17T19:59:49.698Z"
   },
   {
    "duration": 23,
    "start_time": "2021-11-17T19:59:49.718Z"
   },
   {
    "duration": 10,
    "start_time": "2021-11-17T19:59:49.764Z"
   },
   {
    "duration": 9,
    "start_time": "2021-11-17T19:59:49.776Z"
   },
   {
    "duration": 24,
    "start_time": "2021-11-17T19:59:49.788Z"
   },
   {
    "duration": 2,
    "start_time": "2021-11-17T19:59:49.815Z"
   },
   {
    "duration": 6,
    "start_time": "2021-11-17T19:59:49.820Z"
   },
   {
    "duration": 13,
    "start_time": "2021-11-17T19:59:49.863Z"
   },
   {
    "duration": 18,
    "start_time": "2021-11-17T19:59:49.879Z"
   },
   {
    "duration": 6,
    "start_time": "2021-11-17T19:59:49.899Z"
   },
   {
    "duration": 15,
    "start_time": "2021-11-17T19:59:49.908Z"
   },
   {
    "duration": 47,
    "start_time": "2021-11-17T19:59:49.925Z"
   },
   {
    "duration": 8,
    "start_time": "2021-11-17T19:59:49.974Z"
   },
   {
    "duration": 3,
    "start_time": "2021-11-17T19:59:49.984Z"
   },
   {
    "duration": 21,
    "start_time": "2021-11-17T19:59:49.989Z"
   },
   {
    "duration": 2411,
    "start_time": "2021-11-17T20:03:17.029Z"
   },
   {
    "duration": 640,
    "start_time": "2021-11-17T20:04:18.325Z"
   },
   {
    "duration": 52,
    "start_time": "2021-11-17T20:04:18.967Z"
   },
   {
    "duration": 18,
    "start_time": "2021-11-17T20:04:19.023Z"
   },
   {
    "duration": 11,
    "start_time": "2021-11-17T20:04:19.043Z"
   },
   {
    "duration": 17,
    "start_time": "2021-11-17T20:04:19.064Z"
   },
   {
    "duration": 9,
    "start_time": "2021-11-17T20:04:19.083Z"
   },
   {
    "duration": 6,
    "start_time": "2021-11-17T20:04:19.094Z"
   },
   {
    "duration": 15,
    "start_time": "2021-11-17T20:04:19.103Z"
   },
   {
    "duration": 8,
    "start_time": "2021-11-17T20:04:19.120Z"
   },
   {
    "duration": 12,
    "start_time": "2021-11-17T20:04:19.164Z"
   },
   {
    "duration": 17,
    "start_time": "2021-11-17T20:04:19.178Z"
   },
   {
    "duration": 6,
    "start_time": "2021-11-17T20:04:19.197Z"
   },
   {
    "duration": 21,
    "start_time": "2021-11-17T20:04:19.204Z"
   },
   {
    "duration": 44,
    "start_time": "2021-11-17T20:04:19.227Z"
   },
   {
    "duration": 7,
    "start_time": "2021-11-17T20:04:19.273Z"
   },
   {
    "duration": 5,
    "start_time": "2021-11-17T20:04:19.282Z"
   },
   {
    "duration": 19,
    "start_time": "2021-11-17T20:04:19.288Z"
   },
   {
    "duration": 14,
    "start_time": "2021-11-17T20:14:46.733Z"
   },
   {
    "duration": 24,
    "start_time": "2021-11-17T20:15:51.211Z"
   },
   {
    "duration": 301,
    "start_time": "2021-11-17T20:37:21.979Z"
   },
   {
    "duration": 6,
    "start_time": "2021-11-17T20:37:29.616Z"
   },
   {
    "duration": 254,
    "start_time": "2021-11-17T20:38:40.832Z"
   },
   {
    "duration": 8,
    "start_time": "2021-11-17T20:39:14.559Z"
   },
   {
    "duration": 15,
    "start_time": "2021-11-17T20:40:02.813Z"
   },
   {
    "duration": 266,
    "start_time": "2021-11-18T18:19:33.838Z"
   },
   {
    "duration": 269,
    "start_time": "2021-11-18T18:19:37.609Z"
   },
   {
    "duration": 228,
    "start_time": "2021-11-18T18:19:46.566Z"
   },
   {
    "duration": 242,
    "start_time": "2021-11-18T18:20:53.210Z"
   },
   {
    "duration": 671,
    "start_time": "2021-11-18T18:21:26.221Z"
   },
   {
    "duration": 65,
    "start_time": "2021-11-18T18:21:26.894Z"
   },
   {
    "duration": 26,
    "start_time": "2021-11-18T18:21:26.961Z"
   },
   {
    "duration": 14,
    "start_time": "2021-11-18T18:21:26.990Z"
   },
   {
    "duration": 21,
    "start_time": "2021-11-18T18:21:27.006Z"
   },
   {
    "duration": 7,
    "start_time": "2021-11-18T18:21:27.029Z"
   },
   {
    "duration": 6,
    "start_time": "2021-11-18T18:21:27.038Z"
   },
   {
    "duration": 46,
    "start_time": "2021-11-18T18:21:27.047Z"
   },
   {
    "duration": 5,
    "start_time": "2021-11-18T18:21:27.095Z"
   },
   {
    "duration": 4,
    "start_time": "2021-11-18T18:21:27.102Z"
   },
   {
    "duration": 22,
    "start_time": "2021-11-18T18:21:27.108Z"
   },
   {
    "duration": 296,
    "start_time": "2021-11-18T18:21:27.131Z"
   },
   {
    "duration": 451,
    "start_time": "2021-11-18T18:21:26.977Z"
   },
   {
    "duration": 450,
    "start_time": "2021-11-18T18:21:26.979Z"
   },
   {
    "duration": 450,
    "start_time": "2021-11-18T18:21:26.980Z"
   },
   {
    "duration": 449,
    "start_time": "2021-11-18T18:21:26.982Z"
   },
   {
    "duration": 433,
    "start_time": "2021-11-18T18:21:26.999Z"
   },
   {
    "duration": 431,
    "start_time": "2021-11-18T18:21:27.002Z"
   },
   {
    "duration": 429,
    "start_time": "2021-11-18T18:21:27.005Z"
   },
   {
    "duration": 5,
    "start_time": "2021-11-18T18:22:53.718Z"
   },
   {
    "duration": 4,
    "start_time": "2021-11-18T18:23:01.096Z"
   },
   {
    "duration": 228,
    "start_time": "2021-11-18T18:24:08.315Z"
   },
   {
    "duration": 19,
    "start_time": "2021-11-18T18:25:33.014Z"
   },
   {
    "duration": 4,
    "start_time": "2021-11-18T18:26:21.104Z"
   },
   {
    "duration": 233,
    "start_time": "2021-11-18T18:26:40.648Z"
   },
   {
    "duration": 4,
    "start_time": "2021-11-18T18:26:52.165Z"
   },
   {
    "duration": 533,
    "start_time": "2021-11-18T18:30:01.709Z"
   },
   {
    "duration": 45,
    "start_time": "2021-11-18T18:30:02.244Z"
   },
   {
    "duration": 17,
    "start_time": "2021-11-18T18:30:02.291Z"
   },
   {
    "duration": 17,
    "start_time": "2021-11-18T18:30:02.309Z"
   },
   {
    "duration": 14,
    "start_time": "2021-11-18T18:30:02.327Z"
   },
   {
    "duration": 8,
    "start_time": "2021-11-18T18:30:02.342Z"
   },
   {
    "duration": 7,
    "start_time": "2021-11-18T18:30:02.351Z"
   },
   {
    "duration": 12,
    "start_time": "2021-11-18T18:30:02.361Z"
   },
   {
    "duration": 15,
    "start_time": "2021-11-18T18:30:02.374Z"
   },
   {
    "duration": 9,
    "start_time": "2021-11-18T18:30:02.390Z"
   },
   {
    "duration": 5,
    "start_time": "2021-11-18T18:30:02.400Z"
   },
   {
    "duration": 5,
    "start_time": "2021-11-18T18:30:02.407Z"
   },
   {
    "duration": 6,
    "start_time": "2021-11-18T18:30:02.413Z"
   },
   {
    "duration": 6,
    "start_time": "2021-11-18T18:30:02.420Z"
   },
   {
    "duration": 5,
    "start_time": "2021-11-18T18:30:02.427Z"
   },
   {
    "duration": 14,
    "start_time": "2021-11-18T18:30:02.433Z"
   },
   {
    "duration": 13,
    "start_time": "2021-11-18T18:30:02.448Z"
   },
   {
    "duration": 5,
    "start_time": "2021-11-18T18:30:02.462Z"
   },
   {
    "duration": 6,
    "start_time": "2021-11-18T18:30:02.469Z"
   },
   {
    "duration": 12,
    "start_time": "2021-11-18T18:30:02.487Z"
   },
   {
    "duration": 5,
    "start_time": "2021-11-18T18:31:20.978Z"
   },
   {
    "duration": 14,
    "start_time": "2021-11-18T18:31:58.438Z"
   },
   {
    "duration": 365,
    "start_time": "2021-11-18T18:32:16.482Z"
   },
   {
    "duration": 9,
    "start_time": "2021-11-18T18:33:06.533Z"
   },
   {
    "duration": 503,
    "start_time": "2021-11-18T18:34:05.427Z"
   },
   {
    "duration": 45,
    "start_time": "2021-11-18T18:34:05.932Z"
   },
   {
    "duration": 17,
    "start_time": "2021-11-18T18:34:05.978Z"
   },
   {
    "duration": 27,
    "start_time": "2021-11-18T18:34:05.996Z"
   },
   {
    "duration": 31,
    "start_time": "2021-11-18T18:34:06.025Z"
   },
   {
    "duration": 10,
    "start_time": "2021-11-18T18:34:06.058Z"
   },
   {
    "duration": 32,
    "start_time": "2021-11-18T18:34:06.070Z"
   },
   {
    "duration": 32,
    "start_time": "2021-11-18T18:34:06.104Z"
   },
   {
    "duration": 7,
    "start_time": "2021-11-18T18:34:06.138Z"
   },
   {
    "duration": 22,
    "start_time": "2021-11-18T18:34:06.147Z"
   },
   {
    "duration": 18,
    "start_time": "2021-11-18T18:34:06.171Z"
   },
   {
    "duration": 16,
    "start_time": "2021-11-18T18:34:06.190Z"
   },
   {
    "duration": 19,
    "start_time": "2021-11-18T18:34:06.207Z"
   },
   {
    "duration": 12,
    "start_time": "2021-11-18T18:34:06.228Z"
   },
   {
    "duration": 25,
    "start_time": "2021-11-18T18:34:06.241Z"
   },
   {
    "duration": 23,
    "start_time": "2021-11-18T18:34:06.267Z"
   },
   {
    "duration": 16,
    "start_time": "2021-11-18T18:34:06.291Z"
   },
   {
    "duration": 18,
    "start_time": "2021-11-18T18:34:06.308Z"
   },
   {
    "duration": 11,
    "start_time": "2021-11-18T18:34:06.328Z"
   },
   {
    "duration": 29,
    "start_time": "2021-11-18T18:34:06.340Z"
   },
   {
    "duration": 11,
    "start_time": "2021-11-18T18:34:15.112Z"
   },
   {
    "duration": 17,
    "start_time": "2021-11-18T18:35:17.162Z"
   },
   {
    "duration": 25,
    "start_time": "2021-11-18T18:35:31.993Z"
   },
   {
    "duration": 8,
    "start_time": "2021-11-18T18:36:02.165Z"
   },
   {
    "duration": 6,
    "start_time": "2021-11-18T18:38:57.032Z"
   },
   {
    "duration": 287,
    "start_time": "2021-11-18T18:39:27.722Z"
   },
   {
    "duration": 34,
    "start_time": "2021-11-18T18:39:40.454Z"
   },
   {
    "duration": 28,
    "start_time": "2021-11-18T18:40:25.591Z"
   },
   {
    "duration": 513,
    "start_time": "2021-11-18T18:42:39.320Z"
   },
   {
    "duration": 46,
    "start_time": "2021-11-18T18:42:39.835Z"
   },
   {
    "duration": 16,
    "start_time": "2021-11-18T18:42:39.884Z"
   },
   {
    "duration": 35,
    "start_time": "2021-11-18T18:42:39.901Z"
   },
   {
    "duration": 25,
    "start_time": "2021-11-18T18:42:39.937Z"
   },
   {
    "duration": 7,
    "start_time": "2021-11-18T18:42:39.963Z"
   },
   {
    "duration": 5,
    "start_time": "2021-11-18T18:42:39.972Z"
   },
   {
    "duration": 15,
    "start_time": "2021-11-18T18:42:39.979Z"
   },
   {
    "duration": 5,
    "start_time": "2021-11-18T18:42:39.995Z"
   },
   {
    "duration": 11,
    "start_time": "2021-11-18T18:42:40.001Z"
   },
   {
    "duration": 5,
    "start_time": "2021-11-18T18:42:40.014Z"
   },
   {
    "duration": 6,
    "start_time": "2021-11-18T18:42:40.021Z"
   },
   {
    "duration": 4,
    "start_time": "2021-11-18T18:42:40.029Z"
   },
   {
    "duration": 4,
    "start_time": "2021-11-18T18:42:40.035Z"
   },
   {
    "duration": 7,
    "start_time": "2021-11-18T18:42:40.041Z"
   },
   {
    "duration": 16,
    "start_time": "2021-11-18T18:42:40.049Z"
   },
   {
    "duration": 8,
    "start_time": "2021-11-18T18:42:40.066Z"
   },
   {
    "duration": 13,
    "start_time": "2021-11-18T18:42:40.075Z"
   },
   {
    "duration": 2,
    "start_time": "2021-11-18T18:42:40.090Z"
   },
   {
    "duration": 6,
    "start_time": "2021-11-18T18:42:40.093Z"
   },
   {
    "duration": 12,
    "start_time": "2021-11-18T18:42:40.101Z"
   },
   {
    "duration": 7,
    "start_time": "2021-11-18T18:43:34.627Z"
   },
   {
    "duration": 13,
    "start_time": "2021-11-18T18:59:02.017Z"
   },
   {
    "duration": 14,
    "start_time": "2021-11-18T18:59:08.040Z"
   },
   {
    "duration": 114,
    "start_time": "2021-11-18T20:47:05.701Z"
   },
   {
    "duration": 79,
    "start_time": "2021-11-18T20:47:25.115Z"
   },
   {
    "duration": 14,
    "start_time": "2021-11-18T20:47:38.291Z"
   },
   {
    "duration": 51,
    "start_time": "2021-11-18T20:48:10.468Z"
   },
   {
    "duration": 76,
    "start_time": "2021-11-18T20:48:58.175Z"
   },
   {
    "duration": 73,
    "start_time": "2021-11-18T20:49:25.681Z"
   },
   {
    "duration": 80,
    "start_time": "2021-11-18T20:49:35.545Z"
   },
   {
    "duration": 81,
    "start_time": "2021-11-18T20:49:40.430Z"
   },
   {
    "duration": 74,
    "start_time": "2021-11-18T20:49:50.567Z"
   },
   {
    "duration": 77,
    "start_time": "2021-11-18T20:50:08.366Z"
   },
   {
    "duration": 551,
    "start_time": "2021-11-18T20:50:52.393Z"
   },
   {
    "duration": 47,
    "start_time": "2021-11-18T20:50:52.946Z"
   },
   {
    "duration": 18,
    "start_time": "2021-11-18T20:50:52.995Z"
   },
   {
    "duration": 21,
    "start_time": "2021-11-18T20:50:53.015Z"
   },
   {
    "duration": 40,
    "start_time": "2021-11-18T20:50:53.038Z"
   },
   {
    "duration": 14,
    "start_time": "2021-11-18T20:50:53.080Z"
   },
   {
    "duration": 18,
    "start_time": "2021-11-18T20:50:53.096Z"
   },
   {
    "duration": 15,
    "start_time": "2021-11-18T20:50:53.117Z"
   },
   {
    "duration": 24,
    "start_time": "2021-11-18T20:50:53.134Z"
   },
   {
    "duration": 10,
    "start_time": "2021-11-18T20:50:53.160Z"
   },
   {
    "duration": 30,
    "start_time": "2021-11-18T20:50:53.172Z"
   },
   {
    "duration": 23,
    "start_time": "2021-11-18T20:50:53.204Z"
   },
   {
    "duration": 28,
    "start_time": "2021-11-18T20:50:53.229Z"
   },
   {
    "duration": 27,
    "start_time": "2021-11-18T20:50:53.258Z"
   },
   {
    "duration": 35,
    "start_time": "2021-11-18T20:50:53.286Z"
   },
   {
    "duration": 56,
    "start_time": "2021-11-18T20:50:53.323Z"
   },
   {
    "duration": 28,
    "start_time": "2021-11-18T20:50:53.381Z"
   },
   {
    "duration": 23,
    "start_time": "2021-11-18T20:50:53.410Z"
   },
   {
    "duration": 4,
    "start_time": "2021-11-18T20:50:53.435Z"
   },
   {
    "duration": 16,
    "start_time": "2021-11-18T20:50:53.441Z"
   },
   {
    "duration": 34,
    "start_time": "2021-11-18T20:50:53.458Z"
   },
   {
    "duration": 18,
    "start_time": "2021-11-18T20:50:53.493Z"
   },
   {
    "duration": 16,
    "start_time": "2021-11-18T20:50:53.513Z"
   },
   {
    "duration": 49,
    "start_time": "2021-11-18T20:50:53.531Z"
   },
   {
    "duration": 284,
    "start_time": "2021-11-18T20:55:41.416Z"
   },
   {
    "duration": 573,
    "start_time": "2021-11-18T20:58:22.788Z"
   },
   {
    "duration": 48,
    "start_time": "2021-11-18T20:58:23.363Z"
   },
   {
    "duration": 18,
    "start_time": "2021-11-18T20:58:23.415Z"
   },
   {
    "duration": 12,
    "start_time": "2021-11-18T20:58:23.434Z"
   },
   {
    "duration": 13,
    "start_time": "2021-11-18T20:58:23.447Z"
   },
   {
    "duration": 27,
    "start_time": "2021-11-18T20:58:23.461Z"
   },
   {
    "duration": 5,
    "start_time": "2021-11-18T20:58:23.490Z"
   },
   {
    "duration": 12,
    "start_time": "2021-11-18T20:58:23.497Z"
   },
   {
    "duration": 2,
    "start_time": "2021-11-18T20:58:23.510Z"
   },
   {
    "duration": 4,
    "start_time": "2021-11-18T20:58:23.514Z"
   },
   {
    "duration": 4,
    "start_time": "2021-11-18T20:58:23.519Z"
   },
   {
    "duration": 4,
    "start_time": "2021-11-18T20:58:23.524Z"
   },
   {
    "duration": 5,
    "start_time": "2021-11-18T20:58:23.529Z"
   },
   {
    "duration": 4,
    "start_time": "2021-11-18T20:58:23.535Z"
   },
   {
    "duration": 5,
    "start_time": "2021-11-18T20:58:23.540Z"
   },
   {
    "duration": 43,
    "start_time": "2021-11-18T20:58:23.547Z"
   },
   {
    "duration": 8,
    "start_time": "2021-11-18T20:58:23.592Z"
   },
   {
    "duration": 6,
    "start_time": "2021-11-18T20:58:23.602Z"
   },
   {
    "duration": 3,
    "start_time": "2021-11-18T20:58:23.609Z"
   },
   {
    "duration": 6,
    "start_time": "2021-11-18T20:58:23.613Z"
   },
   {
    "duration": 5,
    "start_time": "2021-11-18T20:58:23.621Z"
   },
   {
    "duration": 5,
    "start_time": "2021-11-18T20:58:23.628Z"
   },
   {
    "duration": 5,
    "start_time": "2021-11-18T20:58:23.634Z"
   },
   {
    "duration": 16,
    "start_time": "2021-11-18T20:58:23.640Z"
   },
   {
    "duration": 45,
    "start_time": "2021-11-18T21:00:41.835Z"
   },
   {
    "duration": 293,
    "start_time": "2021-11-18T21:01:52.255Z"
   },
   {
    "duration": 47,
    "start_time": "2021-11-18T21:02:20.414Z"
   },
   {
    "duration": 52,
    "start_time": "2021-11-18T21:03:21.637Z"
   },
   {
    "duration": 14,
    "start_time": "2021-11-18T21:10:08.193Z"
   },
   {
    "duration": 60,
    "start_time": "2021-11-18T21:11:04.904Z"
   },
   {
    "duration": 60,
    "start_time": "2021-11-18T21:13:01.623Z"
   },
   {
    "duration": 12,
    "start_time": "2021-11-18T21:13:58.897Z"
   },
   {
    "duration": 12,
    "start_time": "2021-11-18T21:14:04.227Z"
   },
   {
    "duration": 12,
    "start_time": "2021-11-18T21:14:41.487Z"
   },
   {
    "duration": 12,
    "start_time": "2021-11-18T21:14:54.515Z"
   },
   {
    "duration": 12,
    "start_time": "2021-11-18T21:15:00.860Z"
   },
   {
    "duration": 12,
    "start_time": "2021-11-18T21:15:07.545Z"
   },
   {
    "duration": 13,
    "start_time": "2021-11-18T21:15:12.167Z"
   },
   {
    "duration": 15,
    "start_time": "2021-11-18T21:15:17.510Z"
   },
   {
    "duration": 17,
    "start_time": "2021-11-18T21:15:29.368Z"
   },
   {
    "duration": 19,
    "start_time": "2021-11-18T21:15:37.515Z"
   },
   {
    "duration": 11,
    "start_time": "2021-11-18T21:15:45.383Z"
   },
   {
    "duration": 557,
    "start_time": "2021-11-18T21:16:23.785Z"
   },
   {
    "duration": 48,
    "start_time": "2021-11-18T21:16:24.344Z"
   },
   {
    "duration": 20,
    "start_time": "2021-11-18T21:16:24.394Z"
   },
   {
    "duration": 10,
    "start_time": "2021-11-18T21:16:24.416Z"
   },
   {
    "duration": 14,
    "start_time": "2021-11-18T21:16:24.428Z"
   },
   {
    "duration": 6,
    "start_time": "2021-11-18T21:16:24.444Z"
   },
   {
    "duration": 5,
    "start_time": "2021-11-18T21:16:24.451Z"
   },
   {
    "duration": 40,
    "start_time": "2021-11-18T21:16:24.458Z"
   },
   {
    "duration": 2,
    "start_time": "2021-11-18T21:16:24.500Z"
   },
   {
    "duration": 6,
    "start_time": "2021-11-18T21:16:24.503Z"
   },
   {
    "duration": 5,
    "start_time": "2021-11-18T21:16:24.510Z"
   },
   {
    "duration": 6,
    "start_time": "2021-11-18T21:16:24.516Z"
   },
   {
    "duration": 5,
    "start_time": "2021-11-18T21:16:24.523Z"
   },
   {
    "duration": 5,
    "start_time": "2021-11-18T21:16:24.529Z"
   },
   {
    "duration": 5,
    "start_time": "2021-11-18T21:16:24.535Z"
   },
   {
    "duration": 15,
    "start_time": "2021-11-18T21:16:24.541Z"
   },
   {
    "duration": 7,
    "start_time": "2021-11-18T21:16:24.558Z"
   },
   {
    "duration": 7,
    "start_time": "2021-11-18T21:16:24.587Z"
   },
   {
    "duration": 6,
    "start_time": "2021-11-18T21:16:24.597Z"
   },
   {
    "duration": 10,
    "start_time": "2021-11-18T21:16:24.605Z"
   },
   {
    "duration": 7,
    "start_time": "2021-11-18T21:16:24.617Z"
   },
   {
    "duration": 4,
    "start_time": "2021-11-18T21:16:24.626Z"
   },
   {
    "duration": 3,
    "start_time": "2021-11-18T21:16:24.633Z"
   },
   {
    "duration": 15,
    "start_time": "2021-11-18T21:16:24.638Z"
   },
   {
    "duration": 281,
    "start_time": "2021-11-18T21:23:04.683Z"
   },
   {
    "duration": 231,
    "start_time": "2021-11-18T21:23:56.654Z"
   },
   {
    "duration": 268,
    "start_time": "2021-11-18T21:24:15.719Z"
   },
   {
    "duration": 249,
    "start_time": "2021-11-18T21:24:27.097Z"
   },
   {
    "duration": 525,
    "start_time": "2021-11-18T21:25:17.418Z"
   },
   {
    "duration": 49,
    "start_time": "2021-11-18T21:25:17.945Z"
   },
   {
    "duration": 18,
    "start_time": "2021-11-18T21:25:17.999Z"
   },
   {
    "duration": 10,
    "start_time": "2021-11-18T21:25:18.019Z"
   },
   {
    "duration": 14,
    "start_time": "2021-11-18T21:25:18.030Z"
   },
   {
    "duration": 5,
    "start_time": "2021-11-18T21:25:18.045Z"
   },
   {
    "duration": 36,
    "start_time": "2021-11-18T21:25:18.052Z"
   },
   {
    "duration": 13,
    "start_time": "2021-11-18T21:25:18.090Z"
   },
   {
    "duration": 2,
    "start_time": "2021-11-18T21:25:18.105Z"
   },
   {
    "duration": 5,
    "start_time": "2021-11-18T21:25:18.108Z"
   },
   {
    "duration": 5,
    "start_time": "2021-11-18T21:25:18.114Z"
   },
   {
    "duration": 4,
    "start_time": "2021-11-18T21:25:18.121Z"
   },
   {
    "duration": 13,
    "start_time": "2021-11-18T21:25:18.127Z"
   },
   {
    "duration": 4,
    "start_time": "2021-11-18T21:25:18.141Z"
   },
   {
    "duration": 5,
    "start_time": "2021-11-18T21:25:18.146Z"
   },
   {
    "duration": 18,
    "start_time": "2021-11-18T21:25:18.152Z"
   },
   {
    "duration": 17,
    "start_time": "2021-11-18T21:25:18.171Z"
   },
   {
    "duration": 6,
    "start_time": "2021-11-18T21:25:18.190Z"
   },
   {
    "duration": 2,
    "start_time": "2021-11-18T21:25:18.197Z"
   },
   {
    "duration": 5,
    "start_time": "2021-11-18T21:25:18.201Z"
   },
   {
    "duration": 9,
    "start_time": "2021-11-18T21:25:18.207Z"
   },
   {
    "duration": 3,
    "start_time": "2021-11-18T21:25:18.218Z"
   },
   {
    "duration": 5,
    "start_time": "2021-11-18T21:25:18.222Z"
   },
   {
    "duration": 13,
    "start_time": "2021-11-18T21:25:18.229Z"
   },
   {
    "duration": 15,
    "start_time": "2021-11-18T21:25:49.141Z"
   },
   {
    "duration": 26,
    "start_time": "2021-11-18T21:25:59.189Z"
   },
   {
    "duration": 21,
    "start_time": "2021-11-18T21:30:00.612Z"
   },
   {
    "duration": 18,
    "start_time": "2021-11-18T21:30:36.588Z"
   },
   {
    "duration": 20,
    "start_time": "2021-11-18T21:30:45.184Z"
   },
   {
    "duration": 295,
    "start_time": "2021-11-18T21:31:30.387Z"
   },
   {
    "duration": 25,
    "start_time": "2021-11-18T21:32:20.738Z"
   },
   {
    "duration": 27,
    "start_time": "2021-11-18T21:32:41.743Z"
   },
   {
    "duration": 18,
    "start_time": "2021-11-18T21:35:56.038Z"
   },
   {
    "duration": 27,
    "start_time": "2021-11-18T21:36:42.242Z"
   },
   {
    "duration": 29,
    "start_time": "2021-11-18T21:37:36.658Z"
   },
   {
    "duration": 34,
    "start_time": "2021-11-18T21:38:07.599Z"
   },
   {
    "duration": 34,
    "start_time": "2021-11-18T21:40:36.985Z"
   },
   {
    "duration": 518,
    "start_time": "2021-11-18T21:42:20.930Z"
   },
   {
    "duration": 49,
    "start_time": "2021-11-18T21:42:21.450Z"
   },
   {
    "duration": 20,
    "start_time": "2021-11-18T21:42:21.501Z"
   },
   {
    "duration": 13,
    "start_time": "2021-11-18T21:42:21.523Z"
   },
   {
    "duration": 15,
    "start_time": "2021-11-18T21:42:21.537Z"
   },
   {
    "duration": 5,
    "start_time": "2021-11-18T21:42:21.554Z"
   },
   {
    "duration": 22,
    "start_time": "2021-11-18T21:42:21.561Z"
   },
   {
    "duration": 33,
    "start_time": "2021-11-18T21:42:21.585Z"
   },
   {
    "duration": 6,
    "start_time": "2021-11-18T21:42:21.620Z"
   },
   {
    "duration": 6,
    "start_time": "2021-11-18T21:42:21.627Z"
   },
   {
    "duration": 8,
    "start_time": "2021-11-18T21:42:21.634Z"
   },
   {
    "duration": 6,
    "start_time": "2021-11-18T21:42:21.643Z"
   },
   {
    "duration": 6,
    "start_time": "2021-11-18T21:42:21.650Z"
   },
   {
    "duration": 6,
    "start_time": "2021-11-18T21:42:21.657Z"
   },
   {
    "duration": 6,
    "start_time": "2021-11-18T21:42:21.665Z"
   },
   {
    "duration": 21,
    "start_time": "2021-11-18T21:42:21.672Z"
   },
   {
    "duration": 8,
    "start_time": "2021-11-18T21:42:21.694Z"
   },
   {
    "duration": 5,
    "start_time": "2021-11-18T21:42:21.704Z"
   },
   {
    "duration": 2,
    "start_time": "2021-11-18T21:42:21.711Z"
   },
   {
    "duration": 7,
    "start_time": "2021-11-18T21:42:21.715Z"
   },
   {
    "duration": 13,
    "start_time": "2021-11-18T21:42:21.724Z"
   },
   {
    "duration": 8,
    "start_time": "2021-11-18T21:42:21.738Z"
   },
   {
    "duration": 7,
    "start_time": "2021-11-18T21:42:21.748Z"
   },
   {
    "duration": 8,
    "start_time": "2021-11-18T21:42:21.756Z"
   },
   {
    "duration": 5,
    "start_time": "2021-11-18T21:42:21.765Z"
   },
   {
    "duration": 14,
    "start_time": "2021-11-18T21:42:21.771Z"
   },
   {
    "duration": 615,
    "start_time": "2021-11-18T21:44:51.957Z"
   },
   {
    "duration": 52,
    "start_time": "2021-11-18T21:44:52.574Z"
   },
   {
    "duration": 20,
    "start_time": "2021-11-18T21:44:52.631Z"
   },
   {
    "duration": 29,
    "start_time": "2021-11-18T21:44:52.653Z"
   },
   {
    "duration": 23,
    "start_time": "2021-11-18T21:44:52.687Z"
   },
   {
    "duration": 12,
    "start_time": "2021-11-18T21:44:52.712Z"
   },
   {
    "duration": 25,
    "start_time": "2021-11-18T21:44:52.726Z"
   },
   {
    "duration": 37,
    "start_time": "2021-11-18T21:44:52.754Z"
   },
   {
    "duration": 7,
    "start_time": "2021-11-18T21:44:52.792Z"
   },
   {
    "duration": 6,
    "start_time": "2021-11-18T21:44:52.801Z"
   },
   {
    "duration": 5,
    "start_time": "2021-11-18T21:44:52.809Z"
   },
   {
    "duration": 5,
    "start_time": "2021-11-18T21:44:52.816Z"
   },
   {
    "duration": 4,
    "start_time": "2021-11-18T21:44:52.823Z"
   },
   {
    "duration": 8,
    "start_time": "2021-11-18T21:44:52.828Z"
   },
   {
    "duration": 4,
    "start_time": "2021-11-18T21:44:52.838Z"
   },
   {
    "duration": 21,
    "start_time": "2021-11-18T21:44:52.844Z"
   },
   {
    "duration": 9,
    "start_time": "2021-11-18T21:44:52.866Z"
   },
   {
    "duration": 16,
    "start_time": "2021-11-18T21:44:52.876Z"
   },
   {
    "duration": 2,
    "start_time": "2021-11-18T21:44:52.894Z"
   },
   {
    "duration": 4,
    "start_time": "2021-11-18T21:44:52.898Z"
   },
   {
    "duration": 18,
    "start_time": "2021-11-18T21:44:52.904Z"
   },
   {
    "duration": 6,
    "start_time": "2021-11-18T21:44:52.925Z"
   },
   {
    "duration": 8,
    "start_time": "2021-11-18T21:44:52.933Z"
   },
   {
    "duration": 16,
    "start_time": "2021-11-18T21:44:52.943Z"
   },
   {
    "duration": 5,
    "start_time": "2021-11-18T21:44:52.961Z"
   },
   {
    "duration": 15,
    "start_time": "2021-11-18T21:44:52.968Z"
   },
   {
    "duration": 14,
    "start_time": "2021-11-18T21:44:52.984Z"
   },
   {
    "duration": 28,
    "start_time": "2021-11-18T21:44:53.000Z"
   },
   {
    "duration": 27,
    "start_time": "2021-11-18T21:44:53.030Z"
   },
   {
    "duration": 39,
    "start_time": "2021-11-18T21:44:53.059Z"
   },
   {
    "duration": 16,
    "start_time": "2021-11-18T21:44:53.100Z"
   },
   {
    "duration": 29,
    "start_time": "2021-11-18T21:44:53.117Z"
   },
   {
    "duration": 14,
    "start_time": "2021-11-18T21:44:53.147Z"
   },
   {
    "duration": 35,
    "start_time": "2021-11-18T21:44:53.163Z"
   },
   {
    "duration": 8,
    "start_time": "2021-11-18T21:46:16.994Z"
   },
   {
    "duration": 12,
    "start_time": "2021-11-18T21:46:27.714Z"
   },
   {
    "duration": 317,
    "start_time": "2021-11-18T21:47:46.228Z"
   },
   {
    "duration": 13,
    "start_time": "2021-11-18T21:48:01.226Z"
   },
   {
    "duration": 241,
    "start_time": "2021-11-18T21:50:48.837Z"
   },
   {
    "duration": 10,
    "start_time": "2021-11-18T21:51:22.623Z"
   },
   {
    "duration": 1536,
    "start_time": "2021-11-18T21:53:39.341Z"
   },
   {
    "duration": 6,
    "start_time": "2021-11-18T21:53:56.428Z"
   },
   {
    "duration": 3,
    "start_time": "2021-11-18T22:27:13.947Z"
   },
   {
    "duration": 8,
    "start_time": "2021-11-18T22:27:48.980Z"
   },
   {
    "duration": 11,
    "start_time": "2021-11-18T22:28:04.828Z"
   },
   {
    "duration": 82,
    "start_time": "2021-11-18T22:28:48.381Z"
   },
   {
    "duration": 75,
    "start_time": "2021-11-18T22:28:57.094Z"
   },
   {
    "duration": 79,
    "start_time": "2021-11-18T22:29:12.046Z"
   },
   {
    "duration": 85,
    "start_time": "2021-11-18T22:29:29.103Z"
   },
   {
    "duration": 11,
    "start_time": "2021-11-18T22:29:38.347Z"
   },
   {
    "duration": 14,
    "start_time": "2021-11-18T22:30:15.163Z"
   },
   {
    "duration": 33,
    "start_time": "2021-11-18T22:30:49.660Z"
   },
   {
    "duration": 382,
    "start_time": "2021-11-18T22:31:26.663Z"
   },
   {
    "duration": 530,
    "start_time": "2021-11-18T22:32:04.121Z"
   },
   {
    "duration": 49,
    "start_time": "2021-11-18T22:32:04.653Z"
   },
   {
    "duration": 18,
    "start_time": "2021-11-18T22:32:04.706Z"
   },
   {
    "duration": 11,
    "start_time": "2021-11-18T22:32:04.726Z"
   },
   {
    "duration": 14,
    "start_time": "2021-11-18T22:32:04.738Z"
   },
   {
    "duration": 35,
    "start_time": "2021-11-18T22:32:04.754Z"
   },
   {
    "duration": 7,
    "start_time": "2021-11-18T22:32:04.793Z"
   },
   {
    "duration": 19,
    "start_time": "2021-11-18T22:32:04.803Z"
   },
   {
    "duration": 3,
    "start_time": "2021-11-18T22:32:04.824Z"
   },
   {
    "duration": 4,
    "start_time": "2021-11-18T22:32:04.829Z"
   },
   {
    "duration": 4,
    "start_time": "2021-11-18T22:32:04.836Z"
   },
   {
    "duration": 5,
    "start_time": "2021-11-18T22:32:04.841Z"
   },
   {
    "duration": 4,
    "start_time": "2021-11-18T22:32:04.847Z"
   },
   {
    "duration": 35,
    "start_time": "2021-11-18T22:32:04.853Z"
   },
   {
    "duration": 3,
    "start_time": "2021-11-18T22:32:04.890Z"
   },
   {
    "duration": 14,
    "start_time": "2021-11-18T22:32:04.894Z"
   },
   {
    "duration": 8,
    "start_time": "2021-11-18T22:32:04.910Z"
   },
   {
    "duration": 6,
    "start_time": "2021-11-18T22:32:04.919Z"
   },
   {
    "duration": 2,
    "start_time": "2021-11-18T22:32:04.927Z"
   },
   {
    "duration": 6,
    "start_time": "2021-11-18T22:32:04.931Z"
   },
   {
    "duration": 7,
    "start_time": "2021-11-18T22:32:04.938Z"
   },
   {
    "duration": 4,
    "start_time": "2021-11-18T22:32:04.947Z"
   },
   {
    "duration": 35,
    "start_time": "2021-11-18T22:32:04.953Z"
   },
   {
    "duration": 5,
    "start_time": "2021-11-18T22:32:04.989Z"
   },
   {
    "duration": 5,
    "start_time": "2021-11-18T22:32:04.996Z"
   },
   {
    "duration": 11,
    "start_time": "2021-11-18T22:32:05.003Z"
   },
   {
    "duration": 2,
    "start_time": "2021-11-18T22:32:05.016Z"
   },
   {
    "duration": 27,
    "start_time": "2021-11-18T22:32:05.020Z"
   },
   {
    "duration": 41,
    "start_time": "2021-11-18T22:32:05.049Z"
   },
   {
    "duration": 25,
    "start_time": "2021-11-18T22:32:05.091Z"
   },
   {
    "duration": 13,
    "start_time": "2021-11-18T22:32:05.118Z"
   },
   {
    "duration": 25,
    "start_time": "2021-11-18T22:32:05.132Z"
   },
   {
    "duration": 835,
    "start_time": "2021-11-18T22:32:05.159Z"
   },
   {
    "duration": 921,
    "start_time": "2021-11-18T22:32:05.074Z"
   },
   {
    "duration": 417,
    "start_time": "2021-11-18T22:32:24.601Z"
   },
   {
    "duration": 575,
    "start_time": "2021-11-18T22:33:47.983Z"
   },
   {
    "duration": 49,
    "start_time": "2021-11-18T22:33:48.559Z"
   },
   {
    "duration": 28,
    "start_time": "2021-11-18T22:33:48.612Z"
   },
   {
    "duration": 20,
    "start_time": "2021-11-18T22:33:48.642Z"
   },
   {
    "duration": 33,
    "start_time": "2021-11-18T22:33:48.665Z"
   },
   {
    "duration": 8,
    "start_time": "2021-11-18T22:33:48.700Z"
   },
   {
    "duration": 6,
    "start_time": "2021-11-18T22:33:48.712Z"
   },
   {
    "duration": 18,
    "start_time": "2021-11-18T22:33:48.721Z"
   },
   {
    "duration": 2,
    "start_time": "2021-11-18T22:33:48.741Z"
   },
   {
    "duration": 4,
    "start_time": "2021-11-18T22:33:48.745Z"
   },
   {
    "duration": 4,
    "start_time": "2021-11-18T22:33:48.751Z"
   },
   {
    "duration": 3,
    "start_time": "2021-11-18T22:33:48.788Z"
   },
   {
    "duration": 4,
    "start_time": "2021-11-18T22:33:48.793Z"
   },
   {
    "duration": 6,
    "start_time": "2021-11-18T22:33:48.799Z"
   },
   {
    "duration": 4,
    "start_time": "2021-11-18T22:33:48.807Z"
   },
   {
    "duration": 15,
    "start_time": "2021-11-18T22:33:48.812Z"
   },
   {
    "duration": 9,
    "start_time": "2021-11-18T22:33:48.828Z"
   },
   {
    "duration": 7,
    "start_time": "2021-11-18T22:33:48.839Z"
   },
   {
    "duration": 2,
    "start_time": "2021-11-18T22:33:48.847Z"
   },
   {
    "duration": 7,
    "start_time": "2021-11-18T22:33:48.851Z"
   },
   {
    "duration": 30,
    "start_time": "2021-11-18T22:33:48.859Z"
   },
   {
    "duration": 5,
    "start_time": "2021-11-18T22:33:48.891Z"
   },
   {
    "duration": 4,
    "start_time": "2021-11-18T22:33:48.898Z"
   },
   {
    "duration": 6,
    "start_time": "2021-11-18T22:33:48.903Z"
   },
   {
    "duration": 5,
    "start_time": "2021-11-18T22:33:48.911Z"
   },
   {
    "duration": 11,
    "start_time": "2021-11-18T22:33:48.917Z"
   },
   {
    "duration": 2,
    "start_time": "2021-11-18T22:33:48.929Z"
   },
   {
    "duration": 57,
    "start_time": "2021-11-18T22:33:48.932Z"
   },
   {
    "duration": 21,
    "start_time": "2021-11-18T22:33:48.990Z"
   },
   {
    "duration": 21,
    "start_time": "2021-11-18T22:33:49.012Z"
   },
   {
    "duration": 11,
    "start_time": "2021-11-18T22:33:49.034Z"
   },
   {
    "duration": 55,
    "start_time": "2021-11-18T22:33:49.046Z"
   },
   {
    "duration": 298,
    "start_time": "2021-11-18T22:33:49.103Z"
   },
   {
    "duration": 930,
    "start_time": "2021-11-18T22:33:48.472Z"
   },
   {
    "duration": 238,
    "start_time": "2021-11-18T22:38:42.050Z"
   },
   {
    "duration": 231,
    "start_time": "2021-11-18T22:39:04.652Z"
   },
   {
    "duration": 79,
    "start_time": "2021-11-18T22:39:26.352Z"
   },
   {
    "duration": 245,
    "start_time": "2021-11-18T22:39:33.007Z"
   },
   {
    "duration": 850,
    "start_time": "2021-11-18T22:41:42.630Z"
   },
   {
    "duration": 238,
    "start_time": "2021-11-18T22:42:57.500Z"
   },
   {
    "duration": 34,
    "start_time": "2021-11-18T22:44:40.529Z"
   },
   {
    "duration": 581,
    "start_time": "2021-11-18T22:53:17.676Z"
   },
   {
    "duration": 48,
    "start_time": "2021-11-18T22:53:18.259Z"
   },
   {
    "duration": 17,
    "start_time": "2021-11-18T22:53:18.309Z"
   },
   {
    "duration": 28,
    "start_time": "2021-11-18T22:53:18.328Z"
   },
   {
    "duration": 17,
    "start_time": "2021-11-18T22:53:18.358Z"
   },
   {
    "duration": 22,
    "start_time": "2021-11-18T22:53:18.377Z"
   },
   {
    "duration": 23,
    "start_time": "2021-11-18T22:53:18.401Z"
   },
   {
    "duration": 30,
    "start_time": "2021-11-18T22:53:18.428Z"
   },
   {
    "duration": 17,
    "start_time": "2021-11-18T22:53:18.461Z"
   },
   {
    "duration": 27,
    "start_time": "2021-11-18T22:53:18.480Z"
   },
   {
    "duration": 29,
    "start_time": "2021-11-18T22:53:18.509Z"
   },
   {
    "duration": 22,
    "start_time": "2021-11-18T22:53:18.540Z"
   },
   {
    "duration": 18,
    "start_time": "2021-11-18T22:53:18.565Z"
   },
   {
    "duration": 20,
    "start_time": "2021-11-18T22:53:18.585Z"
   },
   {
    "duration": 32,
    "start_time": "2021-11-18T22:53:18.607Z"
   },
   {
    "duration": 38,
    "start_time": "2021-11-18T22:53:18.641Z"
   },
   {
    "duration": 18,
    "start_time": "2021-11-18T22:53:18.681Z"
   },
   {
    "duration": 13,
    "start_time": "2021-11-18T22:53:18.702Z"
   },
   {
    "duration": 18,
    "start_time": "2021-11-18T22:53:18.717Z"
   },
   {
    "duration": 45,
    "start_time": "2021-11-18T22:53:18.737Z"
   },
   {
    "duration": 17,
    "start_time": "2021-11-18T22:53:18.784Z"
   },
   {
    "duration": 24,
    "start_time": "2021-11-18T22:53:18.803Z"
   },
   {
    "duration": 25,
    "start_time": "2021-11-18T22:53:18.829Z"
   },
   {
    "duration": 13,
    "start_time": "2021-11-18T22:53:18.855Z"
   },
   {
    "duration": 19,
    "start_time": "2021-11-18T22:53:18.869Z"
   },
   {
    "duration": 40,
    "start_time": "2021-11-18T22:53:18.890Z"
   },
   {
    "duration": 17,
    "start_time": "2021-11-18T22:53:18.932Z"
   },
   {
    "duration": 35,
    "start_time": "2021-11-18T22:53:18.951Z"
   },
   {
    "duration": 21,
    "start_time": "2021-11-18T22:53:18.988Z"
   },
   {
    "duration": 22,
    "start_time": "2021-11-18T22:53:19.011Z"
   },
   {
    "duration": 41,
    "start_time": "2021-11-18T22:53:19.035Z"
   },
   {
    "duration": 29,
    "start_time": "2021-11-18T22:53:19.078Z"
   },
   {
    "duration": 2,
    "start_time": "2021-11-18T22:53:19.110Z"
   },
   {
    "duration": 43,
    "start_time": "2021-11-18T22:53:19.114Z"
   },
   {
    "duration": 508,
    "start_time": "2021-11-18T23:03:32.826Z"
   },
   {
    "duration": 660,
    "start_time": "2021-11-18T23:05:27.869Z"
   },
   {
    "duration": 397,
    "start_time": "2021-11-18T23:06:11.312Z"
   },
   {
    "duration": 531,
    "start_time": "2021-11-18T23:06:52.510Z"
   },
   {
    "duration": 54,
    "start_time": "2021-11-18T23:06:53.043Z"
   },
   {
    "duration": 19,
    "start_time": "2021-11-18T23:06:53.102Z"
   },
   {
    "duration": 16,
    "start_time": "2021-11-18T23:06:53.123Z"
   },
   {
    "duration": 16,
    "start_time": "2021-11-18T23:06:53.141Z"
   },
   {
    "duration": 7,
    "start_time": "2021-11-18T23:06:53.159Z"
   },
   {
    "duration": 6,
    "start_time": "2021-11-18T23:06:53.189Z"
   },
   {
    "duration": 15,
    "start_time": "2021-11-18T23:06:53.197Z"
   },
   {
    "duration": 3,
    "start_time": "2021-11-18T23:06:53.213Z"
   },
   {
    "duration": 4,
    "start_time": "2021-11-18T23:06:53.217Z"
   },
   {
    "duration": 4,
    "start_time": "2021-11-18T23:06:53.222Z"
   },
   {
    "duration": 4,
    "start_time": "2021-11-18T23:06:53.228Z"
   },
   {
    "duration": 5,
    "start_time": "2021-11-18T23:06:53.233Z"
   },
   {
    "duration": 4,
    "start_time": "2021-11-18T23:06:53.239Z"
   },
   {
    "duration": 5,
    "start_time": "2021-11-18T23:06:53.244Z"
   },
   {
    "duration": 47,
    "start_time": "2021-11-18T23:06:53.250Z"
   },
   {
    "duration": 9,
    "start_time": "2021-11-18T23:06:53.299Z"
   },
   {
    "duration": 7,
    "start_time": "2021-11-18T23:06:53.310Z"
   },
   {
    "duration": 5,
    "start_time": "2021-11-18T23:06:53.319Z"
   },
   {
    "duration": 11,
    "start_time": "2021-11-18T23:06:53.325Z"
   },
   {
    "duration": 7,
    "start_time": "2021-11-18T23:06:53.338Z"
   },
   {
    "duration": 3,
    "start_time": "2021-11-18T23:06:53.348Z"
   },
   {
    "duration": 6,
    "start_time": "2021-11-18T23:06:53.353Z"
   },
   {
    "duration": 28,
    "start_time": "2021-11-18T23:06:53.360Z"
   },
   {
    "duration": 5,
    "start_time": "2021-11-18T23:06:53.389Z"
   },
   {
    "duration": 10,
    "start_time": "2021-11-18T23:06:53.395Z"
   },
   {
    "duration": 2,
    "start_time": "2021-11-18T23:06:53.407Z"
   },
   {
    "duration": 22,
    "start_time": "2021-11-18T23:06:53.411Z"
   },
   {
    "duration": 22,
    "start_time": "2021-11-18T23:06:53.434Z"
   },
   {
    "duration": 49,
    "start_time": "2021-11-18T23:06:53.458Z"
   },
   {
    "duration": 12,
    "start_time": "2021-11-18T23:06:53.509Z"
   },
   {
    "duration": 23,
    "start_time": "2021-11-18T23:06:53.523Z"
   },
   {
    "duration": 2,
    "start_time": "2021-11-18T23:06:53.548Z"
   },
   {
    "duration": 43,
    "start_time": "2021-11-18T23:06:53.552Z"
   },
   {
    "duration": 754,
    "start_time": "2021-11-19T10:49:01.688Z"
   },
   {
    "duration": 65,
    "start_time": "2021-11-19T10:49:02.445Z"
   },
   {
    "duration": 31,
    "start_time": "2021-11-19T10:49:02.512Z"
   },
   {
    "duration": 30,
    "start_time": "2021-11-19T10:49:02.545Z"
   },
   {
    "duration": 22,
    "start_time": "2021-11-19T10:49:02.578Z"
   },
   {
    "duration": 11,
    "start_time": "2021-11-19T10:49:02.602Z"
   },
   {
    "duration": 10,
    "start_time": "2021-11-19T10:49:02.615Z"
   },
   {
    "duration": 21,
    "start_time": "2021-11-19T10:49:02.666Z"
   },
   {
    "duration": 4,
    "start_time": "2021-11-19T10:49:02.691Z"
   },
   {
    "duration": 11,
    "start_time": "2021-11-19T10:49:02.697Z"
   },
   {
    "duration": 11,
    "start_time": "2021-11-19T10:49:02.710Z"
   },
   {
    "duration": 11,
    "start_time": "2021-11-19T10:49:02.723Z"
   },
   {
    "duration": 10,
    "start_time": "2021-11-19T10:49:02.737Z"
   },
   {
    "duration": 4,
    "start_time": "2021-11-19T10:49:02.766Z"
   },
   {
    "duration": 8,
    "start_time": "2021-11-19T10:49:02.773Z"
   },
   {
    "duration": 26,
    "start_time": "2021-11-19T10:49:02.783Z"
   },
   {
    "duration": 14,
    "start_time": "2021-11-19T10:49:02.812Z"
   },
   {
    "duration": 43,
    "start_time": "2021-11-19T10:49:02.828Z"
   },
   {
    "duration": 4,
    "start_time": "2021-11-19T10:49:02.873Z"
   },
   {
    "duration": 15,
    "start_time": "2021-11-19T10:49:02.880Z"
   },
   {
    "duration": 22,
    "start_time": "2021-11-19T10:49:02.898Z"
   },
   {
    "duration": 6,
    "start_time": "2021-11-19T10:49:02.923Z"
   },
   {
    "duration": 7,
    "start_time": "2021-11-19T10:49:02.933Z"
   },
   {
    "duration": 13,
    "start_time": "2021-11-19T10:49:02.943Z"
   },
   {
    "duration": 9,
    "start_time": "2021-11-19T10:49:02.959Z"
   },
   {
    "duration": 18,
    "start_time": "2021-11-19T10:49:02.970Z"
   },
   {
    "duration": 5,
    "start_time": "2021-11-19T10:49:02.990Z"
   },
   {
    "duration": 43,
    "start_time": "2021-11-19T10:49:02.998Z"
   },
   {
    "duration": 38,
    "start_time": "2021-11-19T10:49:03.068Z"
   },
   {
    "duration": 59,
    "start_time": "2021-11-19T10:49:03.108Z"
   },
   {
    "duration": 19,
    "start_time": "2021-11-19T10:49:03.169Z"
   },
   {
    "duration": 44,
    "start_time": "2021-11-19T10:49:03.191Z"
   },
   {
    "duration": 53,
    "start_time": "2021-11-19T10:49:03.238Z"
   },
   {
    "duration": 20,
    "start_time": "2021-11-19T10:49:03.294Z"
   },
   {
    "duration": 390,
    "start_time": "2021-11-19T10:50:03.891Z"
   },
   {
    "duration": 312,
    "start_time": "2021-11-19T10:52:02.249Z"
   },
   {
    "duration": 302,
    "start_time": "2021-11-19T10:52:10.088Z"
   },
   {
    "duration": 308,
    "start_time": "2021-11-19T10:52:22.260Z"
   },
   {
    "duration": 8076,
    "start_time": "2021-11-19T10:58:00.674Z"
   },
   {
    "duration": 322,
    "start_time": "2021-11-19T11:01:56.852Z"
   },
   {
    "duration": 309,
    "start_time": "2021-11-19T11:02:13.503Z"
   },
   {
    "duration": 461,
    "start_time": "2021-11-19T11:02:21.590Z"
   },
   {
    "duration": 335,
    "start_time": "2021-11-19T11:02:49.431Z"
   },
   {
    "duration": 313,
    "start_time": "2021-11-19T11:04:06.999Z"
   },
   {
    "duration": 319,
    "start_time": "2021-11-19T11:04:45.193Z"
   },
   {
    "duration": 355,
    "start_time": "2021-11-19T11:04:53.361Z"
   },
   {
    "duration": 34,
    "start_time": "2021-11-19T11:05:11.067Z"
   },
   {
    "duration": 326,
    "start_time": "2021-11-19T11:11:46.745Z"
   },
   {
    "duration": 300,
    "start_time": "2021-11-19T11:18:01.757Z"
   },
   {
    "duration": 734,
    "start_time": "2021-11-19T11:18:21.506Z"
   },
   {
    "duration": 70,
    "start_time": "2021-11-19T11:18:22.243Z"
   },
   {
    "duration": 32,
    "start_time": "2021-11-19T11:18:22.316Z"
   },
   {
    "duration": 30,
    "start_time": "2021-11-19T11:18:22.351Z"
   },
   {
    "duration": 23,
    "start_time": "2021-11-19T11:18:22.384Z"
   },
   {
    "duration": 8,
    "start_time": "2021-11-19T11:18:22.409Z"
   },
   {
    "duration": 7,
    "start_time": "2021-11-19T11:18:22.420Z"
   },
   {
    "duration": 21,
    "start_time": "2021-11-19T11:18:22.470Z"
   },
   {
    "duration": 3,
    "start_time": "2021-11-19T11:18:22.494Z"
   },
   {
    "duration": 6,
    "start_time": "2021-11-19T11:18:22.500Z"
   },
   {
    "duration": 5,
    "start_time": "2021-11-19T11:18:22.509Z"
   },
   {
    "duration": 11,
    "start_time": "2021-11-19T11:18:22.517Z"
   },
   {
    "duration": 37,
    "start_time": "2021-11-19T11:18:22.531Z"
   },
   {
    "duration": 15,
    "start_time": "2021-11-19T11:18:22.571Z"
   },
   {
    "duration": 9,
    "start_time": "2021-11-19T11:18:22.588Z"
   },
   {
    "duration": 23,
    "start_time": "2021-11-19T11:18:22.599Z"
   },
   {
    "duration": 14,
    "start_time": "2021-11-19T11:18:22.624Z"
   },
   {
    "duration": 35,
    "start_time": "2021-11-19T11:18:22.640Z"
   },
   {
    "duration": 4,
    "start_time": "2021-11-19T11:18:22.677Z"
   },
   {
    "duration": 9,
    "start_time": "2021-11-19T11:18:22.683Z"
   },
   {
    "duration": 14,
    "start_time": "2021-11-19T11:18:22.695Z"
   },
   {
    "duration": 6,
    "start_time": "2021-11-19T11:18:22.711Z"
   },
   {
    "duration": 4,
    "start_time": "2021-11-19T11:18:22.722Z"
   },
   {
    "duration": 14,
    "start_time": "2021-11-19T11:18:22.729Z"
   },
   {
    "duration": 21,
    "start_time": "2021-11-19T11:18:22.746Z"
   },
   {
    "duration": 17,
    "start_time": "2021-11-19T11:18:22.770Z"
   },
   {
    "duration": 3,
    "start_time": "2021-11-19T11:18:22.789Z"
   },
   {
    "duration": 45,
    "start_time": "2021-11-19T11:18:22.794Z"
   },
   {
    "duration": 40,
    "start_time": "2021-11-19T11:18:22.867Z"
   },
   {
    "duration": 63,
    "start_time": "2021-11-19T11:18:22.909Z"
   },
   {
    "duration": 21,
    "start_time": "2021-11-19T11:18:22.974Z"
   },
   {
    "duration": 41,
    "start_time": "2021-11-19T11:18:22.997Z"
   },
   {
    "duration": 28,
    "start_time": "2021-11-19T11:18:23.041Z"
   },
   {
    "duration": 24,
    "start_time": "2021-11-19T11:18:23.071Z"
   },
   {
    "duration": 19,
    "start_time": "2021-11-19T11:18:56.791Z"
   },
   {
    "duration": 29,
    "start_time": "2021-11-19T11:22:43.031Z"
   },
   {
    "duration": 20,
    "start_time": "2021-11-19T11:22:59.000Z"
   },
   {
    "duration": 28,
    "start_time": "2021-11-19T11:23:51.537Z"
   },
   {
    "duration": 459,
    "start_time": "2021-11-19T11:24:13.556Z"
   },
   {
    "duration": 285,
    "start_time": "2021-11-19T11:24:19.684Z"
   },
   {
    "duration": 803,
    "start_time": "2021-11-19T11:24:48.656Z"
   },
   {
    "duration": 70,
    "start_time": "2021-11-19T11:24:49.461Z"
   },
   {
    "duration": 34,
    "start_time": "2021-11-19T11:24:49.534Z"
   },
   {
    "duration": 17,
    "start_time": "2021-11-19T11:24:49.572Z"
   },
   {
    "duration": 41,
    "start_time": "2021-11-19T11:24:49.592Z"
   },
   {
    "duration": 9,
    "start_time": "2021-11-19T11:24:49.635Z"
   },
   {
    "duration": 8,
    "start_time": "2021-11-19T11:24:49.667Z"
   },
   {
    "duration": 20,
    "start_time": "2021-11-19T11:24:49.679Z"
   },
   {
    "duration": 3,
    "start_time": "2021-11-19T11:24:49.703Z"
   },
   {
    "duration": 9,
    "start_time": "2021-11-19T11:24:49.709Z"
   },
   {
    "duration": 14,
    "start_time": "2021-11-19T11:24:49.721Z"
   },
   {
    "duration": 32,
    "start_time": "2021-11-19T11:24:49.737Z"
   },
   {
    "duration": 5,
    "start_time": "2021-11-19T11:24:49.773Z"
   },
   {
    "duration": 6,
    "start_time": "2021-11-19T11:24:49.781Z"
   },
   {
    "duration": 12,
    "start_time": "2021-11-19T11:24:49.789Z"
   },
   {
    "duration": 34,
    "start_time": "2021-11-19T11:24:49.803Z"
   },
   {
    "duration": 17,
    "start_time": "2021-11-19T11:24:49.868Z"
   },
   {
    "duration": 12,
    "start_time": "2021-11-19T11:24:49.888Z"
   },
   {
    "duration": 5,
    "start_time": "2021-11-19T11:24:49.903Z"
   },
   {
    "duration": 9,
    "start_time": "2021-11-19T11:24:49.911Z"
   },
   {
    "duration": 45,
    "start_time": "2021-11-19T11:24:49.922Z"
   },
   {
    "duration": 3,
    "start_time": "2021-11-19T11:24:49.970Z"
   },
   {
    "duration": 14,
    "start_time": "2021-11-19T11:24:49.978Z"
   },
   {
    "duration": 27,
    "start_time": "2021-11-19T11:24:49.995Z"
   },
   {
    "duration": 15,
    "start_time": "2021-11-19T11:24:50.025Z"
   },
   {
    "duration": 40,
    "start_time": "2021-11-19T11:24:50.042Z"
   },
   {
    "duration": 4,
    "start_time": "2021-11-19T11:24:50.084Z"
   },
   {
    "duration": 41,
    "start_time": "2021-11-19T11:24:50.091Z"
   },
   {
    "duration": 99,
    "start_time": "2021-11-19T11:24:50.136Z"
   },
   {
    "duration": 60,
    "start_time": "2021-11-19T11:24:50.239Z"
   },
   {
    "duration": 21,
    "start_time": "2021-11-19T11:24:50.301Z"
   },
   {
    "duration": 70,
    "start_time": "2021-11-19T11:24:50.325Z"
   },
   {
    "duration": 4,
    "start_time": "2021-11-19T11:24:50.397Z"
   },
   {
    "duration": 31,
    "start_time": "2021-11-19T11:24:50.403Z"
   },
   {
    "duration": 23,
    "start_time": "2021-11-19T12:45:47.978Z"
   },
   {
    "duration": 15,
    "start_time": "2021-11-19T12:46:28.777Z"
   },
   {
    "duration": 33,
    "start_time": "2021-11-19T12:46:40.433Z"
   },
   {
    "duration": 464,
    "start_time": "2021-11-19T12:46:48.257Z"
   },
   {
    "duration": 336,
    "start_time": "2021-11-19T12:47:01.844Z"
   },
   {
    "duration": 768,
    "start_time": "2021-11-19T12:47:14.841Z"
   },
   {
    "duration": 64,
    "start_time": "2021-11-19T12:47:15.611Z"
   },
   {
    "duration": 30,
    "start_time": "2021-11-19T12:47:15.679Z"
   },
   {
    "duration": 15,
    "start_time": "2021-11-19T12:47:15.712Z"
   },
   {
    "duration": 55,
    "start_time": "2021-11-19T12:47:15.729Z"
   },
   {
    "duration": 9,
    "start_time": "2021-11-19T12:47:15.787Z"
   },
   {
    "duration": 11,
    "start_time": "2021-11-19T12:47:15.799Z"
   },
   {
    "duration": 58,
    "start_time": "2021-11-19T12:47:15.814Z"
   },
   {
    "duration": 3,
    "start_time": "2021-11-19T12:47:15.875Z"
   },
   {
    "duration": 9,
    "start_time": "2021-11-19T12:47:15.880Z"
   },
   {
    "duration": 7,
    "start_time": "2021-11-19T12:47:15.892Z"
   },
   {
    "duration": 7,
    "start_time": "2021-11-19T12:47:15.902Z"
   },
   {
    "duration": 9,
    "start_time": "2021-11-19T12:47:15.912Z"
   },
   {
    "duration": 6,
    "start_time": "2021-11-19T12:47:15.923Z"
   },
   {
    "duration": 37,
    "start_time": "2021-11-19T12:47:15.932Z"
   },
   {
    "duration": 26,
    "start_time": "2021-11-19T12:47:15.971Z"
   },
   {
    "duration": 14,
    "start_time": "2021-11-19T12:47:15.999Z"
   },
   {
    "duration": 11,
    "start_time": "2021-11-19T12:47:16.015Z"
   },
   {
    "duration": 4,
    "start_time": "2021-11-19T12:47:16.029Z"
   },
   {
    "duration": 3,
    "start_time": "2021-11-19T12:47:16.068Z"
   },
   {
    "duration": 10,
    "start_time": "2021-11-19T12:47:16.074Z"
   },
   {
    "duration": 6,
    "start_time": "2021-11-19T12:47:16.087Z"
   },
   {
    "duration": 5,
    "start_time": "2021-11-19T12:47:16.098Z"
   },
   {
    "duration": 13,
    "start_time": "2021-11-19T12:47:16.106Z"
   },
   {
    "duration": 9,
    "start_time": "2021-11-19T12:47:16.121Z"
   },
   {
    "duration": 44,
    "start_time": "2021-11-19T12:47:16.133Z"
   },
   {
    "duration": 3,
    "start_time": "2021-11-19T12:47:16.179Z"
   },
   {
    "duration": 42,
    "start_time": "2021-11-19T12:47:16.185Z"
   },
   {
    "duration": 62,
    "start_time": "2021-11-19T12:47:16.229Z"
   },
   {
    "duration": 39,
    "start_time": "2021-11-19T12:47:16.294Z"
   },
   {
    "duration": 46,
    "start_time": "2021-11-19T12:47:16.335Z"
   },
   {
    "duration": 43,
    "start_time": "2021-11-19T12:47:16.384Z"
   },
   {
    "duration": 3,
    "start_time": "2021-11-19T12:47:16.429Z"
   },
   {
    "duration": 46,
    "start_time": "2021-11-19T12:47:16.434Z"
   },
   {
    "duration": 8,
    "start_time": "2021-11-19T12:48:29.204Z"
   },
   {
    "duration": 25,
    "start_time": "2021-11-19T12:49:02.124Z"
   },
   {
    "duration": 19,
    "start_time": "2021-11-19T12:49:11.832Z"
   },
   {
    "duration": 22,
    "start_time": "2021-11-19T12:49:32.609Z"
   },
   {
    "duration": 385,
    "start_time": "2021-11-19T12:49:52.332Z"
   },
   {
    "duration": 731,
    "start_time": "2021-11-19T12:50:27.291Z"
   },
   {
    "duration": 67,
    "start_time": "2021-11-19T12:50:28.025Z"
   },
   {
    "duration": 29,
    "start_time": "2021-11-19T12:50:28.095Z"
   },
   {
    "duration": 17,
    "start_time": "2021-11-19T12:50:28.127Z"
   },
   {
    "duration": 39,
    "start_time": "2021-11-19T12:50:28.147Z"
   },
   {
    "duration": 9,
    "start_time": "2021-11-19T12:50:28.188Z"
   },
   {
    "duration": 8,
    "start_time": "2021-11-19T12:50:28.200Z"
   },
   {
    "duration": 60,
    "start_time": "2021-11-19T12:50:28.212Z"
   },
   {
    "duration": 3,
    "start_time": "2021-11-19T12:50:28.275Z"
   },
   {
    "duration": 5,
    "start_time": "2021-11-19T12:50:28.281Z"
   },
   {
    "duration": 6,
    "start_time": "2021-11-19T12:50:28.289Z"
   },
   {
    "duration": 7,
    "start_time": "2021-11-19T12:50:28.297Z"
   },
   {
    "duration": 10,
    "start_time": "2021-11-19T12:50:28.306Z"
   },
   {
    "duration": 5,
    "start_time": "2021-11-19T12:50:28.319Z"
   },
   {
    "duration": 7,
    "start_time": "2021-11-19T12:50:28.327Z"
   },
   {
    "duration": 51,
    "start_time": "2021-11-19T12:50:28.337Z"
   },
   {
    "duration": 14,
    "start_time": "2021-11-19T12:50:28.390Z"
   },
   {
    "duration": 10,
    "start_time": "2021-11-19T12:50:28.407Z"
   },
   {
    "duration": 3,
    "start_time": "2021-11-19T12:50:28.420Z"
   },
   {
    "duration": 42,
    "start_time": "2021-11-19T12:50:28.426Z"
   },
   {
    "duration": 9,
    "start_time": "2021-11-19T12:50:28.471Z"
   },
   {
    "duration": 6,
    "start_time": "2021-11-19T12:50:28.483Z"
   },
   {
    "duration": 4,
    "start_time": "2021-11-19T12:50:28.494Z"
   },
   {
    "duration": 9,
    "start_time": "2021-11-19T12:50:28.501Z"
   },
   {
    "duration": 7,
    "start_time": "2021-11-19T12:50:28.513Z"
   },
   {
    "duration": 47,
    "start_time": "2021-11-19T12:50:28.522Z"
   },
   {
    "duration": 3,
    "start_time": "2021-11-19T12:50:28.571Z"
   },
   {
    "duration": 42,
    "start_time": "2021-11-19T12:50:28.577Z"
   },
   {
    "duration": 62,
    "start_time": "2021-11-19T12:50:28.621Z"
   },
   {
    "duration": 36,
    "start_time": "2021-11-19T12:50:28.686Z"
   },
   {
    "duration": 43,
    "start_time": "2021-11-19T12:50:28.724Z"
   },
   {
    "duration": 37,
    "start_time": "2021-11-19T12:50:28.770Z"
   },
   {
    "duration": 4,
    "start_time": "2021-11-19T12:50:28.809Z"
   },
   {
    "duration": 16,
    "start_time": "2021-11-19T12:50:28.815Z"
   },
   {
    "duration": 51,
    "start_time": "2021-11-19T12:50:28.834Z"
   },
   {
    "duration": 19,
    "start_time": "2021-11-19T12:50:28.888Z"
   },
   {
    "duration": 24,
    "start_time": "2021-11-19T12:50:28.909Z"
   },
   {
    "duration": 417,
    "start_time": "2021-11-19T12:50:28.935Z"
   },
   {
    "duration": 608,
    "start_time": "2021-11-19T12:50:28.746Z"
   },
   {
    "duration": 742,
    "start_time": "2021-11-19T12:50:44.286Z"
   },
   {
    "duration": 66,
    "start_time": "2021-11-19T12:50:45.030Z"
   },
   {
    "duration": 31,
    "start_time": "2021-11-19T12:50:45.099Z"
   },
   {
    "duration": 34,
    "start_time": "2021-11-19T12:50:45.133Z"
   },
   {
    "duration": 22,
    "start_time": "2021-11-19T12:50:45.170Z"
   },
   {
    "duration": 10,
    "start_time": "2021-11-19T12:50:45.195Z"
   },
   {
    "duration": 10,
    "start_time": "2021-11-19T12:50:45.208Z"
   },
   {
    "duration": 23,
    "start_time": "2021-11-19T12:50:45.267Z"
   },
   {
    "duration": 4,
    "start_time": "2021-11-19T12:50:45.294Z"
   },
   {
    "duration": 11,
    "start_time": "2021-11-19T12:50:45.301Z"
   },
   {
    "duration": 12,
    "start_time": "2021-11-19T12:50:45.314Z"
   },
   {
    "duration": 11,
    "start_time": "2021-11-19T12:50:45.329Z"
   },
   {
    "duration": 24,
    "start_time": "2021-11-19T12:50:45.343Z"
   },
   {
    "duration": 3,
    "start_time": "2021-11-19T12:50:45.371Z"
   },
   {
    "duration": 8,
    "start_time": "2021-11-19T12:50:45.377Z"
   },
   {
    "duration": 25,
    "start_time": "2021-11-19T12:50:45.387Z"
   },
   {
    "duration": 53,
    "start_time": "2021-11-19T12:50:45.415Z"
   },
   {
    "duration": 10,
    "start_time": "2021-11-19T12:50:45.471Z"
   },
   {
    "duration": 5,
    "start_time": "2021-11-19T12:50:45.484Z"
   },
   {
    "duration": 9,
    "start_time": "2021-11-19T12:50:45.492Z"
   },
   {
    "duration": 12,
    "start_time": "2021-11-19T12:50:45.503Z"
   },
   {
    "duration": 7,
    "start_time": "2021-11-19T12:50:45.517Z"
   },
   {
    "duration": 6,
    "start_time": "2021-11-19T12:50:45.529Z"
   },
   {
    "duration": 4,
    "start_time": "2021-11-19T12:50:45.566Z"
   },
   {
    "duration": 12,
    "start_time": "2021-11-19T12:50:45.572Z"
   },
   {
    "duration": 18,
    "start_time": "2021-11-19T12:50:45.586Z"
   },
   {
    "duration": 3,
    "start_time": "2021-11-19T12:50:45.606Z"
   },
   {
    "duration": 64,
    "start_time": "2021-11-19T12:50:45.611Z"
   },
   {
    "duration": 38,
    "start_time": "2021-11-19T12:50:45.678Z"
   },
   {
    "duration": 63,
    "start_time": "2021-11-19T12:50:45.718Z"
   },
   {
    "duration": 23,
    "start_time": "2021-11-19T12:50:45.784Z"
   },
   {
    "duration": 64,
    "start_time": "2021-11-19T12:50:45.810Z"
   },
   {
    "duration": 3,
    "start_time": "2021-11-19T12:50:45.876Z"
   },
   {
    "duration": 16,
    "start_time": "2021-11-19T12:50:45.881Z"
   },
   {
    "duration": 23,
    "start_time": "2021-11-19T12:50:45.900Z"
   },
   {
    "duration": 41,
    "start_time": "2021-11-19T12:50:45.926Z"
   },
   {
    "duration": 21,
    "start_time": "2021-11-19T12:50:45.971Z"
   },
   {
    "duration": 362,
    "start_time": "2021-11-19T12:50:45.994Z"
   },
   {
    "duration": 583,
    "start_time": "2021-11-19T12:50:45.775Z"
   },
   {
    "duration": 7,
    "start_time": "2021-11-19T12:51:15.551Z"
   },
   {
    "duration": 780,
    "start_time": "2021-11-19T12:53:01.747Z"
   },
   {
    "duration": 65,
    "start_time": "2021-11-19T12:53:02.529Z"
   },
   {
    "duration": 31,
    "start_time": "2021-11-19T12:53:02.597Z"
   },
   {
    "duration": 37,
    "start_time": "2021-11-19T12:53:02.630Z"
   },
   {
    "duration": 22,
    "start_time": "2021-11-19T12:53:02.670Z"
   },
   {
    "duration": 8,
    "start_time": "2021-11-19T12:53:02.695Z"
   },
   {
    "duration": 8,
    "start_time": "2021-11-19T12:53:02.706Z"
   },
   {
    "duration": 61,
    "start_time": "2021-11-19T12:53:02.719Z"
   },
   {
    "duration": 4,
    "start_time": "2021-11-19T12:53:02.784Z"
   },
   {
    "duration": 6,
    "start_time": "2021-11-19T12:53:02.791Z"
   },
   {
    "duration": 6,
    "start_time": "2021-11-19T12:53:02.800Z"
   },
   {
    "duration": 6,
    "start_time": "2021-11-19T12:53:02.809Z"
   },
   {
    "duration": 6,
    "start_time": "2021-11-19T12:53:02.818Z"
   },
   {
    "duration": 41,
    "start_time": "2021-11-19T12:53:02.826Z"
   },
   {
    "duration": 20,
    "start_time": "2021-11-19T12:53:02.870Z"
   },
   {
    "duration": 27,
    "start_time": "2021-11-19T12:53:02.893Z"
   },
   {
    "duration": 15,
    "start_time": "2021-11-19T12:53:02.922Z"
   },
   {
    "duration": 33,
    "start_time": "2021-11-19T12:53:02.940Z"
   },
   {
    "duration": 5,
    "start_time": "2021-11-19T12:53:02.976Z"
   },
   {
    "duration": 14,
    "start_time": "2021-11-19T12:53:02.984Z"
   },
   {
    "duration": 11,
    "start_time": "2021-11-19T12:53:03.000Z"
   },
   {
    "duration": 8,
    "start_time": "2021-11-19T12:53:03.013Z"
   },
   {
    "duration": 9,
    "start_time": "2021-11-19T12:53:03.026Z"
   },
   {
    "duration": 11,
    "start_time": "2021-11-19T12:53:03.037Z"
   },
   {
    "duration": 54,
    "start_time": "2021-11-19T12:53:03.050Z"
   },
   {
    "duration": 14,
    "start_time": "2021-11-19T12:53:03.106Z"
   },
   {
    "duration": 2,
    "start_time": "2021-11-19T12:53:03.123Z"
   },
   {
    "duration": 73,
    "start_time": "2021-11-19T12:53:03.127Z"
   },
   {
    "duration": 38,
    "start_time": "2021-11-19T12:53:03.203Z"
   },
   {
    "duration": 59,
    "start_time": "2021-11-19T12:53:03.243Z"
   },
   {
    "duration": 19,
    "start_time": "2021-11-19T12:53:03.304Z"
   },
   {
    "duration": 69,
    "start_time": "2021-11-19T12:53:03.326Z"
   },
   {
    "duration": 3,
    "start_time": "2021-11-19T12:53:03.398Z"
   },
   {
    "duration": 27,
    "start_time": "2021-11-19T12:53:03.404Z"
   },
   {
    "duration": 43,
    "start_time": "2021-11-19T12:54:34.880Z"
   },
   {
    "duration": 779,
    "start_time": "2021-11-19T12:59:14.179Z"
   },
   {
    "duration": 67,
    "start_time": "2021-11-19T12:59:14.961Z"
   },
   {
    "duration": 47,
    "start_time": "2021-11-19T12:59:15.032Z"
   },
   {
    "duration": 22,
    "start_time": "2021-11-19T12:59:15.082Z"
   },
   {
    "duration": 60,
    "start_time": "2021-11-19T12:59:15.107Z"
   },
   {
    "duration": 10,
    "start_time": "2021-11-19T12:59:15.170Z"
   },
   {
    "duration": 16,
    "start_time": "2021-11-19T12:59:15.183Z"
   },
   {
    "duration": 22,
    "start_time": "2021-11-19T12:59:15.206Z"
   },
   {
    "duration": 37,
    "start_time": "2021-11-19T12:59:15.232Z"
   },
   {
    "duration": 10,
    "start_time": "2021-11-19T12:59:15.272Z"
   },
   {
    "duration": 9,
    "start_time": "2021-11-19T12:59:15.284Z"
   },
   {
    "duration": 14,
    "start_time": "2021-11-19T12:59:15.295Z"
   },
   {
    "duration": 10,
    "start_time": "2021-11-19T12:59:15.311Z"
   },
   {
    "duration": 10,
    "start_time": "2021-11-19T12:59:15.323Z"
   },
   {
    "duration": 7,
    "start_time": "2021-11-19T12:59:15.336Z"
   },
   {
    "duration": 42,
    "start_time": "2021-11-19T12:59:15.345Z"
   },
   {
    "duration": 14,
    "start_time": "2021-11-19T12:59:15.389Z"
   },
   {
    "duration": 406,
    "start_time": "2021-11-19T12:59:15.406Z"
   },
   {
    "duration": 607,
    "start_time": "2021-11-19T12:59:15.209Z"
   },
   {
    "duration": 605,
    "start_time": "2021-11-19T12:59:15.212Z"
   },
   {
    "duration": 604,
    "start_time": "2021-11-19T12:59:15.215Z"
   },
   {
    "duration": 599,
    "start_time": "2021-11-19T12:59:15.222Z"
   },
   {
    "duration": 597,
    "start_time": "2021-11-19T12:59:15.225Z"
   },
   {
    "duration": 597,
    "start_time": "2021-11-19T12:59:15.227Z"
   },
   {
    "duration": 596,
    "start_time": "2021-11-19T12:59:15.229Z"
   },
   {
    "duration": 596,
    "start_time": "2021-11-19T12:59:15.231Z"
   },
   {
    "duration": 596,
    "start_time": "2021-11-19T12:59:15.233Z"
   },
   {
    "duration": 595,
    "start_time": "2021-11-19T12:59:15.235Z"
   },
   {
    "duration": 595,
    "start_time": "2021-11-19T12:59:15.237Z"
   },
   {
    "duration": 594,
    "start_time": "2021-11-19T12:59:15.239Z"
   },
   {
    "duration": 593,
    "start_time": "2021-11-19T12:59:15.241Z"
   },
   {
    "duration": 590,
    "start_time": "2021-11-19T12:59:15.246Z"
   },
   {
    "duration": 588,
    "start_time": "2021-11-19T12:59:15.249Z"
   },
   {
    "duration": 588,
    "start_time": "2021-11-19T12:59:15.250Z"
   },
   {
    "duration": 30,
    "start_time": "2021-11-19T12:59:34.800Z"
   },
   {
    "duration": 30,
    "start_time": "2021-11-19T13:02:15.032Z"
   },
   {
    "duration": 7773,
    "start_time": "2021-11-19T13:03:54.135Z"
   },
   {
    "duration": 7840,
    "start_time": "2021-11-19T13:04:17.265Z"
   },
   {
    "duration": 8106,
    "start_time": "2021-11-19T13:05:18.066Z"
   },
   {
    "duration": 272,
    "start_time": "2021-11-19T13:05:39.832Z"
   },
   {
    "duration": 7499,
    "start_time": "2021-11-19T13:05:51.203Z"
   },
   {
    "duration": 8456,
    "start_time": "2021-11-19T13:06:03.844Z"
   },
   {
    "duration": 749,
    "start_time": "2021-11-19T13:12:12.088Z"
   },
   {
    "duration": 63,
    "start_time": "2021-11-19T13:12:12.840Z"
   },
   {
    "duration": 29,
    "start_time": "2021-11-19T13:12:12.906Z"
   },
   {
    "duration": 37,
    "start_time": "2021-11-19T13:12:12.938Z"
   },
   {
    "duration": 22,
    "start_time": "2021-11-19T13:12:12.977Z"
   },
   {
    "duration": 9,
    "start_time": "2021-11-19T13:12:13.002Z"
   },
   {
    "duration": 7,
    "start_time": "2021-11-19T13:12:13.013Z"
   },
   {
    "duration": 60,
    "start_time": "2021-11-19T13:12:13.022Z"
   },
   {
    "duration": 3,
    "start_time": "2021-11-19T13:12:13.086Z"
   },
   {
    "duration": 13,
    "start_time": "2021-11-19T13:12:13.092Z"
   },
   {
    "duration": 8,
    "start_time": "2021-11-19T13:12:13.108Z"
   },
   {
    "duration": 6,
    "start_time": "2021-11-19T13:12:13.119Z"
   },
   {
    "duration": 9,
    "start_time": "2021-11-19T13:12:13.128Z"
   },
   {
    "duration": 7,
    "start_time": "2021-11-19T13:12:13.139Z"
   },
   {
    "duration": 3,
    "start_time": "2021-11-19T13:12:13.168Z"
   },
   {
    "duration": 26,
    "start_time": "2021-11-19T13:12:13.173Z"
   },
   {
    "duration": 13,
    "start_time": "2021-11-19T13:12:13.201Z"
   },
   {
    "duration": 3,
    "start_time": "2021-11-19T13:12:13.217Z"
   },
   {
    "duration": 54,
    "start_time": "2021-11-19T13:12:13.223Z"
   },
   {
    "duration": 3,
    "start_time": "2021-11-19T13:12:13.280Z"
   },
   {
    "duration": 8,
    "start_time": "2021-11-19T13:12:13.286Z"
   },
   {
    "duration": 7,
    "start_time": "2021-11-19T13:12:13.296Z"
   },
   {
    "duration": 7,
    "start_time": "2021-11-19T13:12:13.306Z"
   },
   {
    "duration": 9,
    "start_time": "2021-11-19T13:12:13.316Z"
   },
   {
    "duration": 7,
    "start_time": "2021-11-19T13:12:13.327Z"
   },
   {
    "duration": 33,
    "start_time": "2021-11-19T13:12:13.337Z"
   },
   {
    "duration": 3,
    "start_time": "2021-11-19T13:12:13.374Z"
   },
   {
    "duration": 43,
    "start_time": "2021-11-19T13:12:13.380Z"
   },
   {
    "duration": 90,
    "start_time": "2021-11-19T13:12:13.426Z"
   },
   {
    "duration": 72,
    "start_time": "2021-11-19T13:12:13.519Z"
   },
   {
    "duration": 20,
    "start_time": "2021-11-19T13:12:13.593Z"
   },
   {
    "duration": 80,
    "start_time": "2021-11-19T13:12:13.616Z"
   },
   {
    "duration": 4,
    "start_time": "2021-11-19T13:12:13.699Z"
   },
   {
    "duration": 27,
    "start_time": "2021-11-19T13:12:13.705Z"
   },
   {
    "duration": 109,
    "start_time": "2021-11-19T13:12:39.337Z"
   },
   {
    "duration": 7502,
    "start_time": "2021-11-19T13:12:46.530Z"
   },
   {
    "duration": 13,
    "start_time": "2021-11-19T13:13:03.703Z"
   },
   {
    "duration": 11,
    "start_time": "2021-11-19T13:13:25.483Z"
   },
   {
    "duration": 11,
    "start_time": "2021-11-19T13:13:43.011Z"
   },
   {
    "duration": 894,
    "start_time": "2021-11-19T13:14:03.151Z"
   },
   {
    "duration": 71,
    "start_time": "2021-11-19T13:14:04.048Z"
   },
   {
    "duration": 30,
    "start_time": "2021-11-19T13:14:04.122Z"
   },
   {
    "duration": 29,
    "start_time": "2021-11-19T13:14:04.155Z"
   },
   {
    "duration": 21,
    "start_time": "2021-11-19T13:14:04.186Z"
   },
   {
    "duration": 8,
    "start_time": "2021-11-19T13:14:04.210Z"
   },
   {
    "duration": 48,
    "start_time": "2021-11-19T13:14:04.220Z"
   },
   {
    "duration": 20,
    "start_time": "2021-11-19T13:14:04.273Z"
   },
   {
    "duration": 3,
    "start_time": "2021-11-19T13:14:04.296Z"
   },
   {
    "duration": 6,
    "start_time": "2021-11-19T13:14:04.302Z"
   },
   {
    "duration": 7,
    "start_time": "2021-11-19T13:14:04.310Z"
   },
   {
    "duration": 7,
    "start_time": "2021-11-19T13:14:04.319Z"
   },
   {
    "duration": 38,
    "start_time": "2021-11-19T13:14:04.329Z"
   },
   {
    "duration": 5,
    "start_time": "2021-11-19T13:14:04.370Z"
   },
   {
    "duration": 13,
    "start_time": "2021-11-19T13:14:04.378Z"
   },
   {
    "duration": 26,
    "start_time": "2021-11-19T13:14:04.393Z"
   },
   {
    "duration": 15,
    "start_time": "2021-11-19T13:14:04.422Z"
   },
   {
    "duration": 29,
    "start_time": "2021-11-19T13:14:04.440Z"
   },
   {
    "duration": 12,
    "start_time": "2021-11-19T13:14:04.472Z"
   },
   {
    "duration": 7,
    "start_time": "2021-11-19T13:14:04.487Z"
   },
   {
    "duration": 8,
    "start_time": "2021-11-19T13:14:04.497Z"
   },
   {
    "duration": 8,
    "start_time": "2021-11-19T13:14:04.508Z"
   },
   {
    "duration": 16,
    "start_time": "2021-11-19T13:14:04.520Z"
   },
   {
    "duration": 13,
    "start_time": "2021-11-19T13:14:04.538Z"
   },
   {
    "duration": 3,
    "start_time": "2021-11-19T13:14:04.568Z"
   },
   {
    "duration": 22,
    "start_time": "2021-11-19T13:14:04.574Z"
   },
   {
    "duration": 3,
    "start_time": "2021-11-19T13:14:04.598Z"
   },
   {
    "duration": 66,
    "start_time": "2021-11-19T13:14:04.603Z"
   },
   {
    "duration": 39,
    "start_time": "2021-11-19T13:14:04.671Z"
   },
   {
    "duration": 64,
    "start_time": "2021-11-19T13:14:04.713Z"
   },
   {
    "duration": 23,
    "start_time": "2021-11-19T13:14:04.779Z"
   },
   {
    "duration": 65,
    "start_time": "2021-11-19T13:14:04.805Z"
   },
   {
    "duration": 3,
    "start_time": "2021-11-19T13:14:04.872Z"
   },
   {
    "duration": 26,
    "start_time": "2021-11-19T13:14:04.878Z"
   },
   {
    "duration": 21,
    "start_time": "2021-11-19T13:14:12.618Z"
   },
   {
    "duration": 808,
    "start_time": "2021-11-19T13:14:24.694Z"
   },
   {
    "duration": 64,
    "start_time": "2021-11-19T13:14:25.505Z"
   },
   {
    "duration": 29,
    "start_time": "2021-11-19T13:14:25.572Z"
   },
   {
    "duration": 16,
    "start_time": "2021-11-19T13:14:25.604Z"
   },
   {
    "duration": 49,
    "start_time": "2021-11-19T13:14:25.623Z"
   },
   {
    "duration": 11,
    "start_time": "2021-11-19T13:14:25.675Z"
   },
   {
    "duration": 9,
    "start_time": "2021-11-19T13:14:25.689Z"
   },
   {
    "duration": 23,
    "start_time": "2021-11-19T13:14:25.701Z"
   },
   {
    "duration": 5,
    "start_time": "2021-11-19T13:14:25.770Z"
   },
   {
    "duration": 9,
    "start_time": "2021-11-19T13:14:25.778Z"
   },
   {
    "duration": 7,
    "start_time": "2021-11-19T13:14:25.789Z"
   },
   {
    "duration": 11,
    "start_time": "2021-11-19T13:14:25.798Z"
   },
   {
    "duration": 6,
    "start_time": "2021-11-19T13:14:25.811Z"
   },
   {
    "duration": 13,
    "start_time": "2021-11-19T13:14:25.820Z"
   },
   {
    "duration": 31,
    "start_time": "2021-11-19T13:14:25.836Z"
   },
   {
    "duration": 23,
    "start_time": "2021-11-19T13:14:25.870Z"
   },
   {
    "duration": 14,
    "start_time": "2021-11-19T13:14:25.895Z"
   },
   {
    "duration": 3,
    "start_time": "2021-11-19T13:14:25.912Z"
   },
   {
    "duration": 8,
    "start_time": "2021-11-19T13:14:25.917Z"
   },
   {
    "duration": 45,
    "start_time": "2021-11-19T13:14:25.927Z"
   },
   {
    "duration": 9,
    "start_time": "2021-11-19T13:14:25.974Z"
   },
   {
    "duration": 6,
    "start_time": "2021-11-19T13:14:25.986Z"
   },
   {
    "duration": 8,
    "start_time": "2021-11-19T13:14:25.994Z"
   },
   {
    "duration": 12,
    "start_time": "2021-11-19T13:14:26.004Z"
   },
   {
    "duration": 7,
    "start_time": "2021-11-19T13:14:26.019Z"
   },
   {
    "duration": 19,
    "start_time": "2021-11-19T13:14:26.028Z"
   },
   {
    "duration": 3,
    "start_time": "2021-11-19T13:14:26.072Z"
   },
   {
    "duration": 43,
    "start_time": "2021-11-19T13:14:26.078Z"
   },
   {
    "duration": 66,
    "start_time": "2021-11-19T13:14:26.124Z"
   },
   {
    "duration": 41,
    "start_time": "2021-11-19T13:14:26.193Z"
   },
   {
    "duration": 46,
    "start_time": "2021-11-19T13:14:26.236Z"
   },
   {
    "duration": 42,
    "start_time": "2021-11-19T13:14:26.284Z"
   },
   {
    "duration": 4,
    "start_time": "2021-11-19T13:14:26.328Z"
   },
   {
    "duration": 45,
    "start_time": "2021-11-19T13:14:26.335Z"
   },
   {
    "duration": 23,
    "start_time": "2021-11-19T13:16:51.383Z"
   },
   {
    "duration": 20,
    "start_time": "2021-11-19T13:16:57.002Z"
   },
   {
    "duration": 16,
    "start_time": "2021-11-19T13:17:10.107Z"
   },
   {
    "duration": 60,
    "start_time": "2021-11-19T13:20:31.393Z"
   },
   {
    "duration": 22,
    "start_time": "2021-11-19T13:20:45.844Z"
   },
   {
    "duration": 39,
    "start_time": "2021-11-19T13:21:11.207Z"
   },
   {
    "duration": 841,
    "start_time": "2021-11-19T13:28:07.729Z"
   },
   {
    "duration": 66,
    "start_time": "2021-11-19T13:28:08.572Z"
   },
   {
    "duration": 35,
    "start_time": "2021-11-19T13:28:08.641Z"
   },
   {
    "duration": 20,
    "start_time": "2021-11-19T13:28:08.679Z"
   },
   {
    "duration": 21,
    "start_time": "2021-11-19T13:28:08.702Z"
   },
   {
    "duration": 43,
    "start_time": "2021-11-19T13:28:08.725Z"
   },
   {
    "duration": 7,
    "start_time": "2021-11-19T13:28:08.771Z"
   },
   {
    "duration": 22,
    "start_time": "2021-11-19T13:28:08.782Z"
   },
   {
    "duration": 21,
    "start_time": "2021-11-19T13:28:08.807Z"
   },
   {
    "duration": 49,
    "start_time": "2021-11-19T13:28:08.830Z"
   },
   {
    "duration": 4,
    "start_time": "2021-11-19T13:28:08.882Z"
   },
   {
    "duration": 8,
    "start_time": "2021-11-19T13:28:08.888Z"
   },
   {
    "duration": 8,
    "start_time": "2021-11-19T13:28:08.899Z"
   },
   {
    "duration": 9,
    "start_time": "2021-11-19T13:28:08.909Z"
   },
   {
    "duration": 10,
    "start_time": "2021-11-19T13:28:08.920Z"
   },
   {
    "duration": 11,
    "start_time": "2021-11-19T13:28:08.932Z"
   },
   {
    "duration": 24,
    "start_time": "2021-11-19T13:28:08.945Z"
   },
   {
    "duration": 8,
    "start_time": "2021-11-19T13:28:08.972Z"
   },
   {
    "duration": 7,
    "start_time": "2021-11-19T13:28:08.982Z"
   },
   {
    "duration": 11,
    "start_time": "2021-11-19T13:28:08.992Z"
   },
   {
    "duration": 6,
    "start_time": "2021-11-19T13:28:09.006Z"
   },
   {
    "duration": 7,
    "start_time": "2021-11-19T13:28:09.015Z"
   },
   {
    "duration": 5,
    "start_time": "2021-11-19T13:28:09.026Z"
   },
   {
    "duration": 33,
    "start_time": "2021-11-19T13:28:09.034Z"
   },
   {
    "duration": 10,
    "start_time": "2021-11-19T13:28:09.070Z"
   },
   {
    "duration": 8,
    "start_time": "2021-11-19T13:28:09.083Z"
   },
   {
    "duration": 13,
    "start_time": "2021-11-19T13:28:09.094Z"
   },
   {
    "duration": 11,
    "start_time": "2021-11-19T13:28:09.110Z"
   },
   {
    "duration": 13,
    "start_time": "2021-11-19T13:28:09.124Z"
   },
   {
    "duration": 37,
    "start_time": "2021-11-19T13:28:09.140Z"
   },
   {
    "duration": 76,
    "start_time": "2021-11-19T13:28:53.652Z"
   },
   {
    "duration": 753,
    "start_time": "2021-11-19T13:29:34.270Z"
   },
   {
    "duration": 65,
    "start_time": "2021-11-19T13:29:35.025Z"
   },
   {
    "duration": 32,
    "start_time": "2021-11-19T13:29:35.094Z"
   },
   {
    "duration": 39,
    "start_time": "2021-11-19T13:29:35.129Z"
   },
   {
    "duration": 23,
    "start_time": "2021-11-19T13:29:35.171Z"
   },
   {
    "duration": 8,
    "start_time": "2021-11-19T13:29:35.196Z"
   },
   {
    "duration": 12,
    "start_time": "2021-11-19T13:29:35.207Z"
   },
   {
    "duration": 61,
    "start_time": "2021-11-19T13:29:35.223Z"
   },
   {
    "duration": 21,
    "start_time": "2021-11-19T13:29:35.287Z"
   },
   {
    "duration": 21,
    "start_time": "2021-11-19T13:29:35.310Z"
   },
   {
    "duration": 73,
    "start_time": "2021-11-19T13:29:35.333Z"
   },
   {
    "duration": 3,
    "start_time": "2021-11-19T13:29:35.408Z"
   },
   {
    "duration": 6,
    "start_time": "2021-11-19T13:29:35.414Z"
   },
   {
    "duration": 5,
    "start_time": "2021-11-19T13:29:35.423Z"
   },
   {
    "duration": 37,
    "start_time": "2021-11-19T13:29:35.430Z"
   },
   {
    "duration": 10,
    "start_time": "2021-11-19T13:29:35.470Z"
   },
   {
    "duration": 11,
    "start_time": "2021-11-19T13:29:35.482Z"
   },
   {
    "duration": 6,
    "start_time": "2021-11-19T13:29:35.495Z"
   },
   {
    "duration": 11,
    "start_time": "2021-11-19T13:29:35.504Z"
   },
   {
    "duration": 14,
    "start_time": "2021-11-19T13:29:35.517Z"
   },
   {
    "duration": 6,
    "start_time": "2021-11-19T13:29:35.533Z"
   },
   {
    "duration": 24,
    "start_time": "2021-11-19T13:29:35.542Z"
   },
   {
    "duration": 3,
    "start_time": "2021-11-19T13:29:35.572Z"
   },
   {
    "duration": 7,
    "start_time": "2021-11-19T13:29:35.578Z"
   },
   {
    "duration": 7,
    "start_time": "2021-11-19T13:29:35.587Z"
   },
   {
    "duration": 6,
    "start_time": "2021-11-19T13:29:35.596Z"
   },
   {
    "duration": 8,
    "start_time": "2021-11-19T13:29:35.604Z"
   },
   {
    "duration": 9,
    "start_time": "2021-11-19T13:29:35.614Z"
   },
   {
    "duration": 42,
    "start_time": "2021-11-19T13:29:35.625Z"
   },
   {
    "duration": 25,
    "start_time": "2021-11-19T13:29:35.669Z"
   },
   {
    "duration": 792,
    "start_time": "2021-11-19T13:33:34.285Z"
   },
   {
    "duration": 71,
    "start_time": "2021-11-19T13:33:35.079Z"
   },
   {
    "duration": 29,
    "start_time": "2021-11-19T13:33:35.153Z"
   },
   {
    "duration": 17,
    "start_time": "2021-11-19T13:33:35.185Z"
   },
   {
    "duration": 23,
    "start_time": "2021-11-19T13:33:35.205Z"
   },
   {
    "duration": 40,
    "start_time": "2021-11-19T13:33:35.231Z"
   },
   {
    "duration": 8,
    "start_time": "2021-11-19T13:33:35.273Z"
   },
   {
    "duration": 21,
    "start_time": "2021-11-19T13:33:35.285Z"
   },
   {
    "duration": 20,
    "start_time": "2021-11-19T13:33:35.310Z"
   },
   {
    "duration": 46,
    "start_time": "2021-11-19T13:33:35.333Z"
   },
   {
    "duration": 40,
    "start_time": "2021-11-19T13:33:35.382Z"
   },
   {
    "duration": 2,
    "start_time": "2021-11-19T13:33:35.425Z"
   },
   {
    "duration": 9,
    "start_time": "2021-11-19T13:33:35.429Z"
   },
   {
    "duration": 28,
    "start_time": "2021-11-19T13:33:35.440Z"
   },
   {
    "duration": 11,
    "start_time": "2021-11-19T13:33:35.471Z"
   },
   {
    "duration": 17,
    "start_time": "2021-11-19T13:33:35.484Z"
   },
   {
    "duration": 14,
    "start_time": "2021-11-19T13:33:35.503Z"
   },
   {
    "duration": 7,
    "start_time": "2021-11-19T13:33:35.519Z"
   },
   {
    "duration": 10,
    "start_time": "2021-11-19T13:33:35.528Z"
   },
   {
    "duration": 14,
    "start_time": "2021-11-19T13:33:35.540Z"
   },
   {
    "duration": 7,
    "start_time": "2021-11-19T13:33:35.557Z"
   },
   {
    "duration": 6,
    "start_time": "2021-11-19T13:33:35.567Z"
   },
   {
    "duration": 4,
    "start_time": "2021-11-19T13:33:35.577Z"
   },
   {
    "duration": 8,
    "start_time": "2021-11-19T13:33:35.583Z"
   },
   {
    "duration": 7,
    "start_time": "2021-11-19T13:33:35.594Z"
   },
   {
    "duration": 11,
    "start_time": "2021-11-19T13:33:35.604Z"
   },
   {
    "duration": 12,
    "start_time": "2021-11-19T13:33:35.617Z"
   },
   {
    "duration": 13,
    "start_time": "2021-11-19T13:33:35.632Z"
   },
   {
    "duration": 24,
    "start_time": "2021-11-19T13:33:35.648Z"
   },
   {
    "duration": 36,
    "start_time": "2021-11-19T13:33:35.674Z"
   },
   {
    "duration": 14,
    "start_time": "2021-11-19T13:39:45.558Z"
   },
   {
    "duration": 738,
    "start_time": "2021-11-19T13:41:41.378Z"
   },
   {
    "duration": 62,
    "start_time": "2021-11-19T13:41:42.119Z"
   },
   {
    "duration": 29,
    "start_time": "2021-11-19T13:41:42.187Z"
   },
   {
    "duration": 18,
    "start_time": "2021-11-19T13:41:42.218Z"
   },
   {
    "duration": 45,
    "start_time": "2021-11-19T13:41:42.239Z"
   },
   {
    "duration": 11,
    "start_time": "2021-11-19T13:41:42.287Z"
   },
   {
    "duration": 8,
    "start_time": "2021-11-19T13:41:42.302Z"
   },
   {
    "duration": 57,
    "start_time": "2021-11-19T13:41:42.313Z"
   },
   {
    "duration": 21,
    "start_time": "2021-11-19T13:41:42.372Z"
   },
   {
    "duration": 16,
    "start_time": "2021-11-19T13:41:42.395Z"
   },
   {
    "duration": 70,
    "start_time": "2021-11-19T13:41:42.414Z"
   },
   {
    "duration": 3,
    "start_time": "2021-11-19T13:41:42.486Z"
   },
   {
    "duration": 9,
    "start_time": "2021-11-19T13:41:42.492Z"
   },
   {
    "duration": 13,
    "start_time": "2021-11-19T13:41:42.503Z"
   },
   {
    "duration": 8,
    "start_time": "2021-11-19T13:41:42.519Z"
   },
   {
    "duration": 12,
    "start_time": "2021-11-19T13:41:42.530Z"
   },
   {
    "duration": 23,
    "start_time": "2021-11-19T13:41:42.544Z"
   },
   {
    "duration": 11,
    "start_time": "2021-11-19T13:41:42.570Z"
   },
   {
    "duration": 8,
    "start_time": "2021-11-19T13:41:42.583Z"
   },
   {
    "duration": 9,
    "start_time": "2021-11-19T13:41:42.593Z"
   },
   {
    "duration": 5,
    "start_time": "2021-11-19T13:41:42.605Z"
   },
   {
    "duration": 3,
    "start_time": "2021-11-19T13:41:42.617Z"
   },
   {
    "duration": 45,
    "start_time": "2021-11-19T13:41:42.623Z"
   },
   {
    "duration": 5,
    "start_time": "2021-11-19T13:41:42.670Z"
   },
   {
    "duration": 6,
    "start_time": "2021-11-19T13:41:42.678Z"
   },
   {
    "duration": 5,
    "start_time": "2021-11-19T13:41:42.687Z"
   },
   {
    "duration": 6,
    "start_time": "2021-11-19T13:41:42.694Z"
   },
   {
    "duration": 6,
    "start_time": "2021-11-19T13:41:42.703Z"
   },
   {
    "duration": 12,
    "start_time": "2021-11-19T13:41:42.712Z"
   },
   {
    "duration": 48,
    "start_time": "2021-11-19T13:41:42.726Z"
   },
   {
    "duration": 462,
    "start_time": "2021-11-19T13:46:41.853Z"
   },
   {
    "duration": 766,
    "start_time": "2021-11-19T13:47:40.895Z"
   },
   {
    "duration": 64,
    "start_time": "2021-11-19T13:47:41.663Z"
   },
   {
    "duration": 29,
    "start_time": "2021-11-19T13:47:41.730Z"
   },
   {
    "duration": 15,
    "start_time": "2021-11-19T13:47:41.767Z"
   },
   {
    "duration": 22,
    "start_time": "2021-11-19T13:47:41.784Z"
   },
   {
    "duration": 8,
    "start_time": "2021-11-19T13:47:41.809Z"
   },
   {
    "duration": 8,
    "start_time": "2021-11-19T13:47:41.819Z"
   },
   {
    "duration": 21,
    "start_time": "2021-11-19T13:47:41.868Z"
   },
   {
    "duration": 29,
    "start_time": "2021-11-19T13:47:41.893Z"
   },
   {
    "duration": 19,
    "start_time": "2021-11-19T13:47:41.925Z"
   },
   {
    "duration": 58,
    "start_time": "2021-11-19T13:47:41.947Z"
   },
   {
    "duration": 3,
    "start_time": "2021-11-19T13:47:42.007Z"
   },
   {
    "duration": 10,
    "start_time": "2021-11-19T13:47:42.013Z"
   },
   {
    "duration": 6,
    "start_time": "2021-11-19T13:47:42.026Z"
   },
   {
    "duration": 33,
    "start_time": "2021-11-19T13:47:42.034Z"
   },
   {
    "duration": 14,
    "start_time": "2021-11-19T13:47:42.069Z"
   },
   {
    "duration": 12,
    "start_time": "2021-11-19T13:47:42.085Z"
   },
   {
    "duration": 10,
    "start_time": "2021-11-19T13:47:42.100Z"
   },
   {
    "duration": 7,
    "start_time": "2021-11-19T13:47:42.112Z"
   },
   {
    "duration": 16,
    "start_time": "2021-11-19T13:47:42.122Z"
   },
   {
    "duration": 7,
    "start_time": "2021-11-19T13:47:42.141Z"
   },
   {
    "duration": 6,
    "start_time": "2021-11-19T13:47:42.151Z"
   },
   {
    "duration": 9,
    "start_time": "2021-11-19T13:47:42.160Z"
   },
   {
    "duration": 6,
    "start_time": "2021-11-19T13:47:42.172Z"
   },
   {
    "duration": 8,
    "start_time": "2021-11-19T13:47:42.180Z"
   },
   {
    "duration": 12,
    "start_time": "2021-11-19T13:47:42.190Z"
   },
   {
    "duration": 12,
    "start_time": "2021-11-19T13:47:42.207Z"
   },
   {
    "duration": 6,
    "start_time": "2021-11-19T13:47:42.222Z"
   },
   {
    "duration": 7,
    "start_time": "2021-11-19T13:47:42.230Z"
   },
   {
    "duration": 25,
    "start_time": "2021-11-19T13:47:42.267Z"
   },
   {
    "duration": 45,
    "start_time": "2021-11-19T13:50:45.344Z"
   },
   {
    "duration": 35,
    "start_time": "2021-11-19T13:51:53.339Z"
   },
   {
    "duration": 21,
    "start_time": "2021-11-19T13:56:44.261Z"
   },
   {
    "duration": 35,
    "start_time": "2021-11-19T14:01:14.865Z"
   },
   {
    "duration": 790,
    "start_time": "2021-11-19T14:04:13.179Z"
   },
   {
    "duration": 67,
    "start_time": "2021-11-19T14:04:13.972Z"
   },
   {
    "duration": 35,
    "start_time": "2021-11-19T14:04:14.043Z"
   },
   {
    "duration": 19,
    "start_time": "2021-11-19T14:04:14.081Z"
   },
   {
    "duration": 25,
    "start_time": "2021-11-19T14:04:14.103Z"
   },
   {
    "duration": 37,
    "start_time": "2021-11-19T14:04:14.130Z"
   },
   {
    "duration": 8,
    "start_time": "2021-11-19T14:04:14.170Z"
   },
   {
    "duration": 23,
    "start_time": "2021-11-19T14:04:14.183Z"
   },
   {
    "duration": 24,
    "start_time": "2021-11-19T14:04:14.209Z"
   },
   {
    "duration": 45,
    "start_time": "2021-11-19T14:04:14.236Z"
   },
   {
    "duration": 42,
    "start_time": "2021-11-19T14:04:14.283Z"
   },
   {
    "duration": 73,
    "start_time": "2021-11-19T14:04:14.327Z"
   },
   {
    "duration": 3,
    "start_time": "2021-11-19T14:04:14.402Z"
   },
   {
    "duration": 8,
    "start_time": "2021-11-19T14:04:14.407Z"
   },
   {
    "duration": 8,
    "start_time": "2021-11-19T14:04:14.417Z"
   },
   {
    "duration": 18,
    "start_time": "2021-11-19T14:04:14.427Z"
   },
   {
    "duration": 28,
    "start_time": "2021-11-19T14:04:14.448Z"
   },
   {
    "duration": 22,
    "start_time": "2021-11-19T14:04:14.479Z"
   },
   {
    "duration": 11,
    "start_time": "2021-11-19T14:04:14.504Z"
   },
   {
    "duration": 19,
    "start_time": "2021-11-19T14:04:14.517Z"
   },
   {
    "duration": 20,
    "start_time": "2021-11-19T14:04:14.539Z"
   },
   {
    "duration": 27,
    "start_time": "2021-11-19T14:04:14.561Z"
   },
   {
    "duration": 16,
    "start_time": "2021-11-19T14:04:14.592Z"
   },
   {
    "duration": 16,
    "start_time": "2021-11-19T14:04:14.611Z"
   },
   {
    "duration": 14,
    "start_time": "2021-11-19T14:04:14.629Z"
   },
   {
    "duration": 13,
    "start_time": "2021-11-19T14:04:14.645Z"
   },
   {
    "duration": 13,
    "start_time": "2021-11-19T14:04:14.660Z"
   },
   {
    "duration": 22,
    "start_time": "2021-11-19T14:04:14.675Z"
   },
   {
    "duration": 11,
    "start_time": "2021-11-19T14:04:14.699Z"
   },
   {
    "duration": 19,
    "start_time": "2021-11-19T14:04:14.713Z"
   },
   {
    "duration": 30,
    "start_time": "2021-11-19T14:04:14.735Z"
   },
   {
    "duration": 22,
    "start_time": "2021-11-19T14:06:09.045Z"
   },
   {
    "duration": 43,
    "start_time": "2021-11-19T14:08:24.475Z"
   },
   {
    "duration": 10,
    "start_time": "2021-11-19T14:08:52.284Z"
   },
   {
    "duration": 431,
    "start_time": "2021-11-19T14:21:30.507Z"
   },
   {
    "duration": 325,
    "start_time": "2021-11-19T14:21:54.843Z"
   },
   {
    "duration": 787,
    "start_time": "2021-11-19T14:22:35.548Z"
   },
   {
    "duration": 67,
    "start_time": "2021-11-19T14:22:36.338Z"
   },
   {
    "duration": 36,
    "start_time": "2021-11-19T14:22:36.408Z"
   },
   {
    "duration": 32,
    "start_time": "2021-11-19T14:22:36.447Z"
   },
   {
    "duration": 6,
    "start_time": "2021-11-19T14:22:36.482Z"
   },
   {
    "duration": 17,
    "start_time": "2021-11-19T14:22:36.490Z"
   },
   {
    "duration": 11,
    "start_time": "2021-11-19T14:22:36.510Z"
   },
   {
    "duration": 52,
    "start_time": "2021-11-19T14:22:36.524Z"
   },
   {
    "duration": 27,
    "start_time": "2021-11-19T14:22:36.579Z"
   },
   {
    "duration": 17,
    "start_time": "2021-11-19T14:22:36.608Z"
   },
   {
    "duration": 70,
    "start_time": "2021-11-19T14:22:36.628Z"
   },
   {
    "duration": 45,
    "start_time": "2021-11-19T14:22:36.700Z"
   },
   {
    "duration": 34,
    "start_time": "2021-11-19T14:22:36.748Z"
   },
   {
    "duration": 45,
    "start_time": "2021-11-19T14:22:36.784Z"
   },
   {
    "duration": 35,
    "start_time": "2021-11-19T14:22:36.832Z"
   },
   {
    "duration": 3,
    "start_time": "2021-11-19T14:22:36.870Z"
   },
   {
    "duration": 8,
    "start_time": "2021-11-19T14:22:36.876Z"
   },
   {
    "duration": 48,
    "start_time": "2021-11-19T14:22:36.887Z"
   },
   {
    "duration": 24,
    "start_time": "2021-11-19T14:22:36.939Z"
   },
   {
    "duration": 11,
    "start_time": "2021-11-19T14:22:36.972Z"
   },
   {
    "duration": 11,
    "start_time": "2021-11-19T14:22:36.992Z"
   },
   {
    "duration": 4,
    "start_time": "2021-11-19T14:22:37.012Z"
   },
   {
    "duration": 17,
    "start_time": "2021-11-19T14:22:37.031Z"
   },
   {
    "duration": 18,
    "start_time": "2021-11-19T14:22:37.059Z"
   },
   {
    "duration": 9,
    "start_time": "2021-11-19T14:22:37.079Z"
   },
   {
    "duration": 15,
    "start_time": "2021-11-19T14:22:37.090Z"
   },
   {
    "duration": 9,
    "start_time": "2021-11-19T14:22:37.108Z"
   },
   {
    "duration": 31,
    "start_time": "2021-11-19T14:22:37.119Z"
   },
   {
    "duration": 8,
    "start_time": "2021-11-19T14:22:37.153Z"
   },
   {
    "duration": 8,
    "start_time": "2021-11-19T14:22:37.163Z"
   },
   {
    "duration": 14,
    "start_time": "2021-11-19T14:22:37.174Z"
   },
   {
    "duration": 13,
    "start_time": "2021-11-19T14:22:37.191Z"
   },
   {
    "duration": 11,
    "start_time": "2021-11-19T14:22:37.207Z"
   },
   {
    "duration": 38,
    "start_time": "2021-11-19T14:22:37.220Z"
   },
   {
    "duration": 23,
    "start_time": "2021-11-19T14:36:27.568Z"
   },
   {
    "duration": 42,
    "start_time": "2021-11-19T14:36:44.070Z"
   },
   {
    "duration": 70,
    "start_time": "2021-11-19T14:51:31.640Z"
   },
   {
    "duration": 44,
    "start_time": "2021-11-19T14:54:39.337Z"
   },
   {
    "duration": 61,
    "start_time": "2021-11-19T14:55:06.122Z"
   },
   {
    "duration": 66,
    "start_time": "2021-11-19T14:55:12.247Z"
   },
   {
    "duration": 50,
    "start_time": "2021-11-19T14:59:59.724Z"
   },
   {
    "duration": 11963,
    "start_time": "2021-11-19T15:09:03.253Z"
   },
   {
    "duration": 7438,
    "start_time": "2021-11-19T15:09:24.927Z"
   },
   {
    "duration": 7347,
    "start_time": "2021-11-19T15:10:06.350Z"
   },
   {
    "duration": 7816,
    "start_time": "2021-11-19T15:10:19.378Z"
   },
   {
    "duration": 7236,
    "start_time": "2021-11-19T15:10:36.569Z"
   },
   {
    "duration": 7444,
    "start_time": "2021-11-19T15:10:53.061Z"
   },
   {
    "duration": 16693,
    "start_time": "2021-11-19T15:11:03.981Z"
   },
   {
    "duration": 7757,
    "start_time": "2021-11-19T15:14:10.720Z"
   },
   {
    "duration": 37,
    "start_time": "2021-11-19T15:15:55.593Z"
   },
   {
    "duration": 7387,
    "start_time": "2021-11-19T15:16:43.651Z"
   },
   {
    "duration": 34,
    "start_time": "2021-11-19T15:18:39.481Z"
   },
   {
    "duration": 6729,
    "start_time": "2021-11-19T15:19:53.696Z"
   },
   {
    "duration": 39,
    "start_time": "2021-11-19T15:20:05.115Z"
   },
   {
    "duration": 66,
    "start_time": "2021-11-19T15:34:43.588Z"
   },
   {
    "duration": 6482,
    "start_time": "2021-11-19T15:38:28.135Z"
   },
   {
    "duration": 5401,
    "start_time": "2021-11-19T15:38:46.570Z"
   },
   {
    "duration": 53,
    "start_time": "2021-11-19T15:39:23.294Z"
   },
   {
    "duration": 33,
    "start_time": "2021-11-19T15:41:14.646Z"
   },
   {
    "duration": 5709,
    "start_time": "2021-11-19T15:43:05.037Z"
   },
   {
    "duration": 5722,
    "start_time": "2021-11-19T15:43:13.581Z"
   },
   {
    "duration": 117,
    "start_time": "2021-11-19T15:43:38.766Z"
   },
   {
    "duration": 123,
    "start_time": "2021-11-19T15:43:44.795Z"
   },
   {
    "duration": 318,
    "start_time": "2021-11-19T15:43:50.991Z"
   },
   {
    "duration": 94,
    "start_time": "2021-11-19T15:43:59.330Z"
   },
   {
    "duration": 94,
    "start_time": "2021-11-19T15:44:22.034Z"
   },
   {
    "duration": 303,
    "start_time": "2021-11-19T15:44:28.873Z"
   },
   {
    "duration": 34,
    "start_time": "2021-11-19T15:44:35.396Z"
   },
   {
    "duration": 298,
    "start_time": "2021-11-19T15:45:38.292Z"
   },
   {
    "duration": 318,
    "start_time": "2021-11-19T15:46:04.687Z"
   },
   {
    "duration": 33,
    "start_time": "2021-11-19T15:46:34.859Z"
   },
   {
    "duration": 57,
    "start_time": "2021-11-19T15:46:39.992Z"
   },
   {
    "duration": 66,
    "start_time": "2021-11-19T15:46:44.494Z"
   },
   {
    "duration": 55,
    "start_time": "2021-11-19T15:46:50.776Z"
   },
   {
    "duration": 54,
    "start_time": "2021-11-19T15:46:55.718Z"
   },
   {
    "duration": 32,
    "start_time": "2021-11-19T15:47:58.322Z"
   },
   {
    "duration": 23,
    "start_time": "2021-11-19T15:51:55.964Z"
   },
   {
    "duration": 16,
    "start_time": "2021-11-19T16:19:30.901Z"
   },
   {
    "duration": 32,
    "start_time": "2021-11-19T16:19:49.657Z"
   },
   {
    "duration": 26,
    "start_time": "2021-11-19T16:20:04.182Z"
   },
   {
    "duration": 27,
    "start_time": "2021-11-19T17:11:45.301Z"
   },
   {
    "duration": 798,
    "start_time": "2021-11-19T17:13:49.431Z"
   },
   {
    "duration": 64,
    "start_time": "2021-11-19T17:13:50.231Z"
   },
   {
    "duration": 30,
    "start_time": "2021-11-19T17:13:50.301Z"
   },
   {
    "duration": 42,
    "start_time": "2021-11-19T17:13:50.334Z"
   },
   {
    "duration": 7,
    "start_time": "2021-11-19T17:13:50.378Z"
   },
   {
    "duration": 25,
    "start_time": "2021-11-19T17:13:50.388Z"
   },
   {
    "duration": 7,
    "start_time": "2021-11-19T17:13:50.418Z"
   },
   {
    "duration": 65,
    "start_time": "2021-11-19T17:13:50.428Z"
   },
   {
    "duration": 28,
    "start_time": "2021-11-19T17:13:50.496Z"
   },
   {
    "duration": 26,
    "start_time": "2021-11-19T17:13:50.527Z"
   },
   {
    "duration": 47,
    "start_time": "2021-11-19T17:13:50.555Z"
   },
   {
    "duration": 43,
    "start_time": "2021-11-19T17:13:50.605Z"
   },
   {
    "duration": 32,
    "start_time": "2021-11-19T17:13:50.651Z"
   },
   {
    "duration": 42,
    "start_time": "2021-11-19T17:13:50.686Z"
   },
   {
    "duration": 8,
    "start_time": "2021-11-19T17:13:50.731Z"
   },
   {
    "duration": 29,
    "start_time": "2021-11-19T17:13:50.742Z"
   },
   {
    "duration": 10,
    "start_time": "2021-11-19T17:13:50.773Z"
   },
   {
    "duration": 40,
    "start_time": "2021-11-19T17:13:50.785Z"
   },
   {
    "duration": 2,
    "start_time": "2021-11-19T17:13:50.828Z"
   },
   {
    "duration": 19,
    "start_time": "2021-11-19T17:13:50.833Z"
   },
   {
    "duration": 12,
    "start_time": "2021-11-19T17:13:50.855Z"
   },
   {
    "duration": 12,
    "start_time": "2021-11-19T17:13:50.872Z"
   },
   {
    "duration": 18,
    "start_time": "2021-11-19T17:13:50.887Z"
   },
   {
    "duration": 28,
    "start_time": "2021-11-19T17:13:50.907Z"
   },
   {
    "duration": 19,
    "start_time": "2021-11-19T17:13:50.938Z"
   },
   {
    "duration": 20,
    "start_time": "2021-11-19T17:13:50.960Z"
   },
   {
    "duration": 16,
    "start_time": "2021-11-19T17:13:50.983Z"
   },
   {
    "duration": 17,
    "start_time": "2021-11-19T17:13:51.001Z"
   },
   {
    "duration": 17,
    "start_time": "2021-11-19T17:13:51.020Z"
   },
   {
    "duration": 16,
    "start_time": "2021-11-19T17:13:51.040Z"
   },
   {
    "duration": 12,
    "start_time": "2021-11-19T17:13:51.059Z"
   },
   {
    "duration": 8,
    "start_time": "2021-11-19T17:13:51.073Z"
   },
   {
    "duration": 14,
    "start_time": "2021-11-19T17:13:51.083Z"
   },
   {
    "duration": 13,
    "start_time": "2021-11-19T17:13:51.099Z"
   },
   {
    "duration": 24,
    "start_time": "2021-11-19T17:13:51.114Z"
   },
   {
    "duration": 15,
    "start_time": "2021-11-19T17:13:51.140Z"
   },
   {
    "duration": 41,
    "start_time": "2021-11-19T17:13:51.158Z"
   },
   {
    "duration": 790,
    "start_time": "2021-11-19T17:14:20.508Z"
   },
   {
    "duration": 68,
    "start_time": "2021-11-19T17:14:21.300Z"
   },
   {
    "duration": 30,
    "start_time": "2021-11-19T17:14:21.371Z"
   },
   {
    "duration": 16,
    "start_time": "2021-11-19T17:14:21.404Z"
   },
   {
    "duration": 2,
    "start_time": "2021-11-19T17:14:21.423Z"
   },
   {
    "duration": 44,
    "start_time": "2021-11-19T17:14:21.428Z"
   },
   {
    "duration": 10,
    "start_time": "2021-11-19T17:14:21.475Z"
   },
   {
    "duration": 21,
    "start_time": "2021-11-19T17:14:21.490Z"
   },
   {
    "duration": 57,
    "start_time": "2021-11-19T17:14:21.515Z"
   },
   {
    "duration": 16,
    "start_time": "2021-11-19T17:14:21.575Z"
   },
   {
    "duration": 43,
    "start_time": "2021-11-19T17:14:21.594Z"
   },
   {
    "duration": 28,
    "start_time": "2021-11-19T17:14:21.640Z"
   },
   {
    "duration": 26,
    "start_time": "2021-11-19T17:14:21.670Z"
   },
   {
    "duration": 44,
    "start_time": "2021-11-19T17:14:21.698Z"
   },
   {
    "duration": 8,
    "start_time": "2021-11-19T17:14:21.767Z"
   },
   {
    "duration": 7,
    "start_time": "2021-11-19T17:14:21.778Z"
   },
   {
    "duration": 6,
    "start_time": "2021-11-19T17:14:21.788Z"
   },
   {
    "duration": 30,
    "start_time": "2021-11-19T17:14:21.797Z"
   },
   {
    "duration": 2,
    "start_time": "2021-11-19T17:14:21.830Z"
   },
   {
    "duration": 6,
    "start_time": "2021-11-19T17:14:21.835Z"
   },
   {
    "duration": 6,
    "start_time": "2021-11-19T17:14:21.868Z"
   },
   {
    "duration": 9,
    "start_time": "2021-11-19T17:14:21.876Z"
   },
   {
    "duration": 7,
    "start_time": "2021-11-19T17:14:21.890Z"
   },
   {
    "duration": 12,
    "start_time": "2021-11-19T17:14:21.899Z"
   },
   {
    "duration": 11,
    "start_time": "2021-11-19T17:14:21.913Z"
   },
   {
    "duration": 8,
    "start_time": "2021-11-19T17:14:21.926Z"
   },
   {
    "duration": 10,
    "start_time": "2021-11-19T17:14:21.936Z"
   },
   {
    "duration": 19,
    "start_time": "2021-11-19T17:14:21.948Z"
   },
   {
    "duration": 13,
    "start_time": "2021-11-19T17:14:21.969Z"
   },
   {
    "duration": 11,
    "start_time": "2021-11-19T17:14:21.984Z"
   },
   {
    "duration": 6,
    "start_time": "2021-11-19T17:14:21.997Z"
   },
   {
    "duration": 5,
    "start_time": "2021-11-19T17:14:22.006Z"
   },
   {
    "duration": 12,
    "start_time": "2021-11-19T17:14:22.013Z"
   },
   {
    "duration": 8,
    "start_time": "2021-11-19T17:14:22.028Z"
   },
   {
    "duration": 9,
    "start_time": "2021-11-19T17:14:22.038Z"
   },
   {
    "duration": 22,
    "start_time": "2021-11-19T17:14:22.049Z"
   },
   {
    "duration": 29,
    "start_time": "2021-11-19T17:14:22.073Z"
   },
   {
    "duration": 39,
    "start_time": "2021-11-19T17:16:17.387Z"
   },
   {
    "duration": 10,
    "start_time": "2021-11-19T17:20:17.313Z"
   },
   {
    "duration": 37,
    "start_time": "2021-11-19T17:20:32.604Z"
   },
   {
    "duration": 37,
    "start_time": "2021-11-19T17:20:36.325Z"
   },
   {
    "duration": 9,
    "start_time": "2021-11-19T17:21:07.635Z"
   },
   {
    "duration": 10,
    "start_time": "2021-11-19T17:21:10.735Z"
   },
   {
    "duration": 11,
    "start_time": "2021-11-19T17:21:19.432Z"
   },
   {
    "duration": 402,
    "start_time": "2021-11-19T17:21:34.349Z"
   },
   {
    "duration": 11,
    "start_time": "2021-11-19T17:21:42.606Z"
   },
   {
    "duration": 776,
    "start_time": "2021-11-19T18:02:05.557Z"
   },
   {
    "duration": 71,
    "start_time": "2021-11-19T18:02:06.336Z"
   },
   {
    "duration": 31,
    "start_time": "2021-11-19T18:02:06.410Z"
   },
   {
    "duration": 34,
    "start_time": "2021-11-19T18:02:06.445Z"
   },
   {
    "duration": 3,
    "start_time": "2021-11-19T18:02:06.483Z"
   },
   {
    "duration": 11,
    "start_time": "2021-11-19T18:02:06.489Z"
   },
   {
    "duration": 8,
    "start_time": "2021-11-19T18:02:06.503Z"
   },
   {
    "duration": 64,
    "start_time": "2021-11-19T18:02:06.515Z"
   },
   {
    "duration": 24,
    "start_time": "2021-11-19T18:02:06.583Z"
   },
   {
    "duration": 17,
    "start_time": "2021-11-19T18:02:06.610Z"
   },
   {
    "duration": 79,
    "start_time": "2021-11-19T18:02:06.629Z"
   },
   {
    "duration": 3,
    "start_time": "2021-11-19T18:02:06.711Z"
   },
   {
    "duration": 24,
    "start_time": "2021-11-19T18:02:06.716Z"
   },
   {
    "duration": 26,
    "start_time": "2021-11-19T18:02:06.743Z"
   },
   {
    "duration": 8,
    "start_time": "2021-11-19T18:02:06.772Z"
   },
   {
    "duration": 8,
    "start_time": "2021-11-19T18:02:06.783Z"
   },
   {
    "duration": 38,
    "start_time": "2021-11-19T18:02:06.794Z"
   },
   {
    "duration": 436,
    "start_time": "2021-11-19T18:02:06.835Z"
   },
   {
    "duration": 161,
    "start_time": "2021-11-19T18:02:07.115Z"
   },
   {
    "duration": 160,
    "start_time": "2021-11-19T18:02:07.118Z"
   },
   {
    "duration": 160,
    "start_time": "2021-11-19T18:02:07.120Z"
   },
   {
    "duration": 160,
    "start_time": "2021-11-19T18:02:07.122Z"
   },
   {
    "duration": 160,
    "start_time": "2021-11-19T18:02:07.124Z"
   },
   {
    "duration": 160,
    "start_time": "2021-11-19T18:02:07.126Z"
   },
   {
    "duration": 161,
    "start_time": "2021-11-19T18:02:07.127Z"
   },
   {
    "duration": 157,
    "start_time": "2021-11-19T18:02:07.133Z"
   },
   {
    "duration": 156,
    "start_time": "2021-11-19T18:02:07.136Z"
   },
   {
    "duration": 155,
    "start_time": "2021-11-19T18:02:07.138Z"
   },
   {
    "duration": 113,
    "start_time": "2021-11-19T18:02:07.182Z"
   },
   {
    "duration": 98,
    "start_time": "2021-11-19T18:02:07.198Z"
   },
   {
    "duration": 93,
    "start_time": "2021-11-19T18:02:07.204Z"
   },
   {
    "duration": 93,
    "start_time": "2021-11-19T18:02:07.206Z"
   },
   {
    "duration": 93,
    "start_time": "2021-11-19T18:02:07.208Z"
   },
   {
    "duration": 93,
    "start_time": "2021-11-19T18:02:07.209Z"
   },
   {
    "duration": 94,
    "start_time": "2021-11-19T18:02:07.210Z"
   },
   {
    "duration": 93,
    "start_time": "2021-11-19T18:02:07.212Z"
   },
   {
    "duration": 89,
    "start_time": "2021-11-19T18:02:07.217Z"
   },
   {
    "duration": 10,
    "start_time": "2021-11-19T18:02:49.917Z"
   },
   {
    "duration": 9,
    "start_time": "2021-11-19T18:03:10.001Z"
   },
   {
    "duration": 13,
    "start_time": "2021-11-19T18:03:29.782Z"
   },
   {
    "duration": 9,
    "start_time": "2021-11-19T18:03:45.377Z"
   },
   {
    "duration": 36,
    "start_time": "2021-11-19T18:04:04.095Z"
   },
   {
    "duration": 30,
    "start_time": "2021-11-19T18:16:50.800Z"
   },
   {
    "duration": 38,
    "start_time": "2021-11-19T18:18:00.075Z"
   },
   {
    "duration": 40,
    "start_time": "2021-11-19T18:30:23.276Z"
   },
   {
    "duration": 23,
    "start_time": "2021-11-19T18:35:10.195Z"
   },
   {
    "duration": 1954,
    "start_time": "2021-11-19T18:38:58.352Z"
   },
   {
    "duration": 2234,
    "start_time": "2021-11-19T18:39:28.942Z"
   },
   {
    "duration": 737,
    "start_time": "2021-11-19T18:40:24.289Z"
   },
   {
    "duration": 67,
    "start_time": "2021-11-19T18:40:25.028Z"
   },
   {
    "duration": 30,
    "start_time": "2021-11-19T18:40:25.102Z"
   },
   {
    "duration": 39,
    "start_time": "2021-11-19T18:40:25.135Z"
   },
   {
    "duration": 3,
    "start_time": "2021-11-19T18:40:25.177Z"
   },
   {
    "duration": 12,
    "start_time": "2021-11-19T18:40:25.182Z"
   },
   {
    "duration": 7,
    "start_time": "2021-11-19T18:40:25.198Z"
   },
   {
    "duration": 66,
    "start_time": "2021-11-19T18:40:25.209Z"
   },
   {
    "duration": 33,
    "start_time": "2021-11-19T18:40:25.278Z"
   },
   {
    "duration": 25,
    "start_time": "2021-11-19T18:40:25.314Z"
   },
   {
    "duration": 79,
    "start_time": "2021-11-19T18:40:25.342Z"
   },
   {
    "duration": 4,
    "start_time": "2021-11-19T18:40:25.424Z"
   },
   {
    "duration": 6,
    "start_time": "2021-11-19T18:40:25.430Z"
   },
   {
    "duration": 29,
    "start_time": "2021-11-19T18:40:25.439Z"
   },
   {
    "duration": 6,
    "start_time": "2021-11-19T18:40:25.471Z"
   },
   {
    "duration": 4,
    "start_time": "2021-11-19T18:40:25.480Z"
   },
   {
    "duration": 8,
    "start_time": "2021-11-19T18:40:25.487Z"
   },
   {
    "duration": 7,
    "start_time": "2021-11-19T18:40:25.498Z"
   },
   {
    "duration": 8,
    "start_time": "2021-11-19T18:40:25.507Z"
   },
   {
    "duration": 10,
    "start_time": "2021-11-19T18:40:25.518Z"
   },
   {
    "duration": 37,
    "start_time": "2021-11-19T18:40:25.530Z"
   },
   {
    "duration": 4,
    "start_time": "2021-11-19T18:40:25.574Z"
   },
   {
    "duration": 6,
    "start_time": "2021-11-19T18:40:25.581Z"
   },
   {
    "duration": 6,
    "start_time": "2021-11-19T18:40:25.589Z"
   },
   {
    "duration": 10,
    "start_time": "2021-11-19T18:40:25.598Z"
   },
   {
    "duration": 6,
    "start_time": "2021-11-19T18:40:25.611Z"
   },
   {
    "duration": 10,
    "start_time": "2021-11-19T18:40:25.620Z"
   },
   {
    "duration": 36,
    "start_time": "2021-11-19T18:40:25.632Z"
   },
   {
    "duration": 7,
    "start_time": "2021-11-19T18:40:25.670Z"
   },
   {
    "duration": 10,
    "start_time": "2021-11-19T18:40:25.679Z"
   },
   {
    "duration": 6,
    "start_time": "2021-11-19T18:40:25.692Z"
   },
   {
    "duration": 8,
    "start_time": "2021-11-19T18:40:25.701Z"
   },
   {
    "duration": 5,
    "start_time": "2021-11-19T18:40:25.712Z"
   },
   {
    "duration": 5,
    "start_time": "2021-11-19T18:40:25.720Z"
   },
   {
    "duration": 6,
    "start_time": "2021-11-19T18:40:25.727Z"
   },
   {
    "duration": 3,
    "start_time": "2021-11-19T18:40:25.768Z"
   },
   {
    "duration": 11,
    "start_time": "2021-11-19T18:40:25.774Z"
   },
   {
    "duration": 6,
    "start_time": "2021-11-19T18:40:25.788Z"
   },
   {
    "duration": 6,
    "start_time": "2021-11-19T18:40:25.797Z"
   },
   {
    "duration": 26,
    "start_time": "2021-11-19T18:40:25.805Z"
   },
   {
    "duration": 2141,
    "start_time": "2021-11-19T18:40:50.255Z"
   },
   {
    "duration": 10,
    "start_time": "2021-11-19T18:40:58.582Z"
   },
   {
    "duration": 89,
    "start_time": "2021-11-19T18:42:05.202Z"
   },
   {
    "duration": 115,
    "start_time": "2021-11-19T18:42:14.548Z"
   },
   {
    "duration": 88,
    "start_time": "2021-11-19T18:42:19.645Z"
   },
   {
    "duration": 23,
    "start_time": "2021-11-19T18:44:04.346Z"
   },
   {
    "duration": 22,
    "start_time": "2021-11-19T18:44:18.304Z"
   },
   {
    "duration": 23,
    "start_time": "2021-11-19T18:44:37.639Z"
   },
   {
    "duration": 54,
    "start_time": "2021-11-19T18:53:53.563Z"
   },
   {
    "duration": 40,
    "start_time": "2021-11-19T18:55:33.231Z"
   },
   {
    "duration": 29,
    "start_time": "2021-11-19T18:56:37.306Z"
   },
   {
    "duration": 15,
    "start_time": "2021-11-19T18:57:58.271Z"
   },
   {
    "duration": 16,
    "start_time": "2021-11-19T18:58:06.483Z"
   },
   {
    "duration": 16,
    "start_time": "2021-11-19T18:58:45.889Z"
   },
   {
    "duration": 23,
    "start_time": "2021-11-19T19:00:15.460Z"
   },
   {
    "duration": 325,
    "start_time": "2021-11-19T19:01:51.833Z"
   },
   {
    "duration": 327,
    "start_time": "2021-11-19T19:02:07.870Z"
   },
   {
    "duration": 288,
    "start_time": "2021-11-19T19:02:18.059Z"
   },
   {
    "duration": 59,
    "start_time": "2021-11-19T19:02:21.695Z"
   },
   {
    "duration": 299,
    "start_time": "2021-11-19T19:02:49.585Z"
   },
   {
    "duration": 276,
    "start_time": "2021-11-19T19:03:05.334Z"
   },
   {
    "duration": 39,
    "start_time": "2021-11-19T19:03:13.741Z"
   },
   {
    "duration": 18,
    "start_time": "2021-11-19T19:04:04.422Z"
   },
   {
    "duration": 19,
    "start_time": "2021-11-19T19:04:10.901Z"
   },
   {
    "duration": 19,
    "start_time": "2021-11-19T19:04:29.826Z"
   },
   {
    "duration": 36,
    "start_time": "2021-11-19T19:04:43.221Z"
   },
   {
    "duration": 33,
    "start_time": "2021-11-19T19:22:05.826Z"
   },
   {
    "duration": 50,
    "start_time": "2021-11-19T19:22:22.015Z"
   },
   {
    "duration": 83,
    "start_time": "2021-11-19T19:22:44.917Z"
   },
   {
    "duration": 136,
    "start_time": "2021-11-19T19:23:56.501Z"
   },
   {
    "duration": 46,
    "start_time": "2021-11-19T19:42:54.155Z"
   },
   {
    "duration": 57,
    "start_time": "2021-11-19T19:45:03.368Z"
   },
   {
    "duration": 64,
    "start_time": "2021-11-19T19:45:20.087Z"
   },
   {
    "duration": 13,
    "start_time": "2021-11-19T19:48:55.667Z"
   },
   {
    "duration": 12,
    "start_time": "2021-11-19T19:49:12.932Z"
   },
   {
    "duration": 787,
    "start_time": "2021-11-19T19:51:47.365Z"
   },
   {
    "duration": 72,
    "start_time": "2021-11-19T19:51:48.155Z"
   },
   {
    "duration": 39,
    "start_time": "2021-11-19T19:51:48.230Z"
   },
   {
    "duration": 19,
    "start_time": "2021-11-19T19:51:48.272Z"
   },
   {
    "duration": 4,
    "start_time": "2021-11-19T19:51:48.294Z"
   },
   {
    "duration": 15,
    "start_time": "2021-11-19T19:51:48.301Z"
   },
   {
    "duration": 50,
    "start_time": "2021-11-19T19:51:48.318Z"
   },
   {
    "duration": 28,
    "start_time": "2021-11-19T19:51:48.375Z"
   },
   {
    "duration": 30,
    "start_time": "2021-11-19T19:51:48.407Z"
   },
   {
    "duration": 49,
    "start_time": "2021-11-19T19:51:48.440Z"
   },
   {
    "duration": 41,
    "start_time": "2021-11-19T19:51:48.492Z"
   },
   {
    "duration": 4,
    "start_time": "2021-11-19T19:51:48.535Z"
   },
   {
    "duration": 12,
    "start_time": "2021-11-19T19:51:48.570Z"
   },
   {
    "duration": 5,
    "start_time": "2021-11-19T19:51:48.585Z"
   },
   {
    "duration": 5,
    "start_time": "2021-11-19T19:51:48.593Z"
   },
   {
    "duration": 5,
    "start_time": "2021-11-19T19:51:48.601Z"
   },
   {
    "duration": 6,
    "start_time": "2021-11-19T19:51:48.609Z"
   },
   {
    "duration": 7,
    "start_time": "2021-11-19T19:51:48.618Z"
   },
   {
    "duration": 7,
    "start_time": "2021-11-19T19:51:48.628Z"
   },
   {
    "duration": 3,
    "start_time": "2021-11-19T19:51:48.668Z"
   },
   {
    "duration": 10,
    "start_time": "2021-11-19T19:51:48.675Z"
   },
   {
    "duration": 8,
    "start_time": "2021-11-19T19:51:48.687Z"
   },
   {
    "duration": 10,
    "start_time": "2021-11-19T19:51:48.702Z"
   },
   {
    "duration": 15,
    "start_time": "2021-11-19T19:51:48.715Z"
   },
   {
    "duration": 10,
    "start_time": "2021-11-19T19:51:48.733Z"
   },
   {
    "duration": 6,
    "start_time": "2021-11-19T19:51:48.745Z"
   },
   {
    "duration": 6,
    "start_time": "2021-11-19T19:51:48.768Z"
   },
   {
    "duration": 5,
    "start_time": "2021-11-19T19:51:48.780Z"
   },
   {
    "duration": 10,
    "start_time": "2021-11-19T19:51:48.787Z"
   },
   {
    "duration": 11,
    "start_time": "2021-11-19T19:51:48.799Z"
   },
   {
    "duration": 6,
    "start_time": "2021-11-19T19:51:48.813Z"
   },
   {
    "duration": 8,
    "start_time": "2021-11-19T19:51:48.821Z"
   },
   {
    "duration": 14,
    "start_time": "2021-11-19T19:51:48.832Z"
   },
   {
    "duration": 22,
    "start_time": "2021-11-19T19:51:48.849Z"
   },
   {
    "duration": 14,
    "start_time": "2021-11-19T19:51:48.874Z"
   },
   {
    "duration": 7,
    "start_time": "2021-11-19T19:51:48.890Z"
   },
   {
    "duration": 6,
    "start_time": "2021-11-19T19:51:48.900Z"
   },
   {
    "duration": 10,
    "start_time": "2021-11-19T19:51:48.908Z"
   },
   {
    "duration": 7,
    "start_time": "2021-11-19T19:51:48.920Z"
   },
   {
    "duration": 6,
    "start_time": "2021-11-19T19:51:48.929Z"
   },
   {
    "duration": 35,
    "start_time": "2021-11-19T19:51:48.937Z"
   },
   {
    "duration": 10,
    "start_time": "2021-11-19T19:51:48.975Z"
   },
   {
    "duration": 27,
    "start_time": "2021-11-19T19:51:48.987Z"
   },
   {
    "duration": 25,
    "start_time": "2021-11-19T20:05:11.105Z"
   },
   {
    "duration": 39,
    "start_time": "2021-11-19T20:05:16.363Z"
   },
   {
    "duration": 16,
    "start_time": "2021-11-19T20:05:58.020Z"
   },
   {
    "duration": 17,
    "start_time": "2021-11-19T20:06:23.130Z"
   },
   {
    "duration": 26,
    "start_time": "2021-11-19T20:07:06.081Z"
   },
   {
    "duration": 39,
    "start_time": "2021-11-19T20:07:08.506Z"
   },
   {
    "duration": 17,
    "start_time": "2021-11-19T20:07:10.601Z"
   },
   {
    "duration": 30,
    "start_time": "2021-11-19T20:07:37.894Z"
   },
   {
    "duration": 31,
    "start_time": "2021-11-19T20:08:53.917Z"
   },
   {
    "duration": 43,
    "start_time": "2021-11-19T20:10:19.180Z"
   },
   {
    "duration": 26,
    "start_time": "2021-11-19T20:10:57.537Z"
   },
   {
    "duration": 36,
    "start_time": "2021-11-19T20:11:00.899Z"
   },
   {
    "duration": 17,
    "start_time": "2021-11-19T20:11:04.779Z"
   },
   {
    "duration": 17,
    "start_time": "2021-11-19T20:11:15.656Z"
   },
   {
    "duration": 378,
    "start_time": "2021-11-20T14:14:34.211Z"
   },
   {
    "duration": 611,
    "start_time": "2021-11-20T14:14:44.849Z"
   },
   {
    "duration": 54,
    "start_time": "2021-11-20T14:14:45.462Z"
   },
   {
    "duration": 27,
    "start_time": "2021-11-20T14:14:45.518Z"
   },
   {
    "duration": 11,
    "start_time": "2021-11-20T14:14:45.548Z"
   },
   {
    "duration": 3,
    "start_time": "2021-11-20T14:14:45.561Z"
   },
   {
    "duration": 8,
    "start_time": "2021-11-20T14:14:45.566Z"
   },
   {
    "duration": 6,
    "start_time": "2021-11-20T14:14:45.575Z"
   },
   {
    "duration": 14,
    "start_time": "2021-11-20T14:14:45.585Z"
   },
   {
    "duration": 53,
    "start_time": "2021-11-20T14:14:45.602Z"
   },
   {
    "duration": 11,
    "start_time": "2021-11-20T14:14:45.657Z"
   },
   {
    "duration": 28,
    "start_time": "2021-11-20T14:14:45.670Z"
   },
   {
    "duration": 18,
    "start_time": "2021-11-20T14:14:45.699Z"
   },
   {
    "duration": 47,
    "start_time": "2021-11-20T14:14:45.719Z"
   },
   {
    "duration": 2,
    "start_time": "2021-11-20T14:14:45.767Z"
   },
   {
    "duration": 8,
    "start_time": "2021-11-20T14:14:45.771Z"
   },
   {
    "duration": 4,
    "start_time": "2021-11-20T14:14:45.781Z"
   },
   {
    "duration": 4,
    "start_time": "2021-11-20T14:14:45.787Z"
   },
   {
    "duration": 5,
    "start_time": "2021-11-20T14:14:45.793Z"
   },
   {
    "duration": 4,
    "start_time": "2021-11-20T14:14:45.799Z"
   },
   {
    "duration": 4,
    "start_time": "2021-11-20T14:14:45.805Z"
   },
   {
    "duration": 4,
    "start_time": "2021-11-20T14:14:45.811Z"
   },
   {
    "duration": 28,
    "start_time": "2021-11-20T14:14:45.817Z"
   },
   {
    "duration": 2,
    "start_time": "2021-11-20T14:14:45.849Z"
   },
   {
    "duration": 4,
    "start_time": "2021-11-20T14:14:45.854Z"
   },
   {
    "duration": 5,
    "start_time": "2021-11-20T14:14:45.860Z"
   },
   {
    "duration": 6,
    "start_time": "2021-11-20T14:14:45.867Z"
   },
   {
    "duration": 4,
    "start_time": "2021-11-20T14:14:45.874Z"
   },
   {
    "duration": 23,
    "start_time": "2021-11-20T14:14:45.880Z"
   },
   {
    "duration": 4,
    "start_time": "2021-11-20T14:14:45.905Z"
   },
   {
    "duration": 5,
    "start_time": "2021-11-20T14:14:45.910Z"
   },
   {
    "duration": 6,
    "start_time": "2021-11-20T14:14:45.945Z"
   },
   {
    "duration": 7,
    "start_time": "2021-11-20T14:14:45.953Z"
   },
   {
    "duration": 3,
    "start_time": "2021-11-20T14:14:45.962Z"
   },
   {
    "duration": 4,
    "start_time": "2021-11-20T14:14:45.967Z"
   },
   {
    "duration": 6,
    "start_time": "2021-11-20T14:14:45.972Z"
   },
   {
    "duration": 4,
    "start_time": "2021-11-20T14:14:45.980Z"
   },
   {
    "duration": 4,
    "start_time": "2021-11-20T14:14:45.986Z"
   },
   {
    "duration": 4,
    "start_time": "2021-11-20T14:14:45.992Z"
   },
   {
    "duration": 4,
    "start_time": "2021-11-20T14:14:45.997Z"
   },
   {
    "duration": 4,
    "start_time": "2021-11-20T14:14:46.003Z"
   },
   {
    "duration": 5,
    "start_time": "2021-11-20T14:14:46.008Z"
   },
   {
    "duration": 3,
    "start_time": "2021-11-20T14:14:46.045Z"
   },
   {
    "duration": 5,
    "start_time": "2021-11-20T14:14:46.050Z"
   },
   {
    "duration": 4,
    "start_time": "2021-11-20T14:14:46.057Z"
   },
   {
    "duration": 19,
    "start_time": "2021-11-20T14:14:46.062Z"
   },
   {
    "duration": 5,
    "start_time": "2021-11-20T14:17:01.644Z"
   },
   {
    "duration": 7,
    "start_time": "2021-11-20T14:17:10.276Z"
   },
   {
    "duration": 24,
    "start_time": "2021-11-20T14:17:54.471Z"
   },
   {
    "duration": 12,
    "start_time": "2021-11-20T14:19:00.263Z"
   },
   {
    "duration": 17,
    "start_time": "2021-11-20T14:19:07.289Z"
   },
   {
    "duration": 18,
    "start_time": "2021-11-20T14:19:54.295Z"
   },
   {
    "duration": 9,
    "start_time": "2021-11-20T14:23:20.613Z"
   },
   {
    "duration": 2217,
    "start_time": "2021-11-20T14:25:44.272Z"
   },
   {
    "duration": 537,
    "start_time": "2021-11-20T14:25:59.386Z"
   },
   {
    "duration": 51,
    "start_time": "2021-11-20T14:25:59.925Z"
   },
   {
    "duration": 19,
    "start_time": "2021-11-20T14:25:59.978Z"
   },
   {
    "duration": 20,
    "start_time": "2021-11-20T14:25:59.999Z"
   },
   {
    "duration": 16,
    "start_time": "2021-11-20T14:26:00.021Z"
   },
   {
    "duration": 17,
    "start_time": "2021-11-20T14:26:00.038Z"
   },
   {
    "duration": 20,
    "start_time": "2021-11-20T14:26:00.057Z"
   },
   {
    "duration": 28,
    "start_time": "2021-11-20T14:26:00.080Z"
   },
   {
    "duration": 18,
    "start_time": "2021-11-20T14:26:00.110Z"
   },
   {
    "duration": 12,
    "start_time": "2021-11-20T14:26:00.129Z"
   },
   {
    "duration": 25,
    "start_time": "2021-11-20T14:26:00.143Z"
   },
   {
    "duration": 15,
    "start_time": "2021-11-20T14:26:00.170Z"
   },
   {
    "duration": 25,
    "start_time": "2021-11-20T14:26:00.187Z"
   },
   {
    "duration": 2,
    "start_time": "2021-11-20T14:26:00.214Z"
   },
   {
    "duration": 13,
    "start_time": "2021-11-20T14:26:00.217Z"
   },
   {
    "duration": 5,
    "start_time": "2021-11-20T14:26:00.232Z"
   },
   {
    "duration": 7,
    "start_time": "2021-11-20T14:26:00.238Z"
   },
   {
    "duration": 9,
    "start_time": "2021-11-20T14:26:00.246Z"
   },
   {
    "duration": 7,
    "start_time": "2021-11-20T14:26:00.256Z"
   },
   {
    "duration": 7,
    "start_time": "2021-11-20T14:26:00.264Z"
   },
   {
    "duration": 8,
    "start_time": "2021-11-20T14:26:00.273Z"
   },
   {
    "duration": 15,
    "start_time": "2021-11-20T14:26:00.282Z"
   },
   {
    "duration": 5,
    "start_time": "2021-11-20T14:26:00.300Z"
   },
   {
    "duration": 6,
    "start_time": "2021-11-20T14:26:00.307Z"
   },
   {
    "duration": 12,
    "start_time": "2021-11-20T14:26:00.315Z"
   },
   {
    "duration": 6,
    "start_time": "2021-11-20T14:26:00.328Z"
   },
   {
    "duration": 5,
    "start_time": "2021-11-20T14:26:00.336Z"
   },
   {
    "duration": 1748,
    "start_time": "2021-11-20T14:26:00.343Z"
   },
   {
    "duration": 17,
    "start_time": "2021-11-20T14:26:02.076Z"
   },
   {
    "duration": 3,
    "start_time": "2021-11-20T14:26:02.091Z"
   },
   {
    "duration": 1,
    "start_time": "2021-11-20T14:26:02.095Z"
   },
   {
    "duration": -3,
    "start_time": "2021-11-20T14:26:02.100Z"
   },
   {
    "duration": -19,
    "start_time": "2021-11-20T14:26:02.118Z"
   },
   {
    "duration": -42,
    "start_time": "2021-11-20T14:26:02.142Z"
   },
   {
    "duration": -58,
    "start_time": "2021-11-20T14:26:02.159Z"
   },
   {
    "duration": -69,
    "start_time": "2021-11-20T14:26:02.172Z"
   },
   {
    "duration": -79,
    "start_time": "2021-11-20T14:26:02.183Z"
   },
   {
    "duration": -88,
    "start_time": "2021-11-20T14:26:02.194Z"
   },
   {
    "duration": -97,
    "start_time": "2021-11-20T14:26:02.204Z"
   },
   {
    "duration": -99,
    "start_time": "2021-11-20T14:26:02.207Z"
   },
   {
    "duration": -100,
    "start_time": "2021-11-20T14:26:02.210Z"
   },
   {
    "duration": -110,
    "start_time": "2021-11-20T14:26:02.221Z"
   },
   {
    "duration": -111,
    "start_time": "2021-11-20T14:26:02.223Z"
   },
   {
    "duration": -112,
    "start_time": "2021-11-20T14:26:02.226Z"
   },
   {
    "duration": -122,
    "start_time": "2021-11-20T14:26:02.237Z"
   },
   {
    "duration": -123,
    "start_time": "2021-11-20T14:26:02.239Z"
   },
   {
    "duration": 10,
    "start_time": "2021-11-20T14:26:12.027Z"
   },
   {
    "duration": 18,
    "start_time": "2021-11-20T14:26:49.074Z"
   },
   {
    "duration": 16,
    "start_time": "2021-11-20T15:06:02.012Z"
   },
   {
    "duration": 23,
    "start_time": "2021-11-20T15:06:27.956Z"
   },
   {
    "duration": 27,
    "start_time": "2021-11-20T15:06:43.952Z"
   },
   {
    "duration": 20,
    "start_time": "2021-11-20T15:07:59.000Z"
   },
   {
    "duration": 4,
    "start_time": "2021-11-20T15:10:34.105Z"
   },
   {
    "duration": 9,
    "start_time": "2021-11-20T15:11:26.156Z"
   },
   {
    "duration": 10,
    "start_time": "2021-11-20T15:11:33.525Z"
   },
   {
    "duration": 7,
    "start_time": "2021-11-20T15:12:07.206Z"
   },
   {
    "duration": 5,
    "start_time": "2021-11-20T15:12:48.359Z"
   },
   {
    "duration": 23,
    "start_time": "2021-11-20T15:14:37.896Z"
   },
   {
    "duration": 13,
    "start_time": "2021-11-20T15:15:02.647Z"
   },
   {
    "duration": 24,
    "start_time": "2021-11-20T15:15:14.529Z"
   },
   {
    "duration": 16,
    "start_time": "2021-11-20T15:19:21.485Z"
   },
   {
    "duration": 11,
    "start_time": "2021-11-20T15:21:03.364Z"
   },
   {
    "duration": 29,
    "start_time": "2021-11-20T15:22:19.594Z"
   },
   {
    "duration": 9,
    "start_time": "2021-11-20T15:22:32.810Z"
   },
   {
    "duration": 26,
    "start_time": "2021-11-20T15:24:48.742Z"
   },
   {
    "duration": 27,
    "start_time": "2021-11-20T15:25:02.196Z"
   },
   {
    "duration": 24,
    "start_time": "2021-11-20T15:30:17.579Z"
   },
   {
    "duration": 25,
    "start_time": "2021-11-20T15:30:57.022Z"
   },
   {
    "duration": 98,
    "start_time": "2021-11-20T15:31:27.521Z"
   },
   {
    "duration": 27,
    "start_time": "2021-11-20T15:31:33.839Z"
   },
   {
    "duration": 12,
    "start_time": "2021-11-20T15:53:05.018Z"
   },
   {
    "duration": 22,
    "start_time": "2021-11-20T15:53:44.804Z"
   },
   {
    "duration": 14,
    "start_time": "2021-11-20T15:56:22.174Z"
   },
   {
    "duration": 9,
    "start_time": "2021-11-20T15:57:39.495Z"
   },
   {
    "duration": 6,
    "start_time": "2021-11-20T16:05:16.319Z"
   },
   {
    "duration": 9,
    "start_time": "2021-11-20T16:05:17.405Z"
   },
   {
    "duration": 599,
    "start_time": "2021-11-20T16:09:44.168Z"
   },
   {
    "duration": 54,
    "start_time": "2021-11-20T16:09:44.769Z"
   },
   {
    "duration": 20,
    "start_time": "2021-11-20T16:09:44.826Z"
   },
   {
    "duration": 15,
    "start_time": "2021-11-20T16:09:44.849Z"
   },
   {
    "duration": 2,
    "start_time": "2021-11-20T16:09:44.865Z"
   },
   {
    "duration": 9,
    "start_time": "2021-11-20T16:09:44.868Z"
   },
   {
    "duration": 5,
    "start_time": "2021-11-20T16:09:44.879Z"
   },
   {
    "duration": 14,
    "start_time": "2021-11-20T16:09:44.885Z"
   },
   {
    "duration": 48,
    "start_time": "2021-11-20T16:09:44.901Z"
   },
   {
    "duration": 14,
    "start_time": "2021-11-20T16:09:44.951Z"
   },
   {
    "duration": 26,
    "start_time": "2021-11-20T16:09:44.967Z"
   },
   {
    "duration": 17,
    "start_time": "2021-11-20T16:09:44.995Z"
   },
   {
    "duration": 59,
    "start_time": "2021-11-20T16:09:45.014Z"
   },
   {
    "duration": 10,
    "start_time": "2021-11-20T16:09:45.075Z"
   },
   {
    "duration": 28,
    "start_time": "2021-11-20T16:09:45.087Z"
   },
   {
    "duration": 6,
    "start_time": "2021-11-20T16:09:45.117Z"
   },
   {
    "duration": 3,
    "start_time": "2021-11-20T16:09:45.144Z"
   },
   {
    "duration": 5,
    "start_time": "2021-11-20T16:09:45.149Z"
   },
   {
    "duration": 6,
    "start_time": "2021-11-20T16:09:45.157Z"
   },
   {
    "duration": 5,
    "start_time": "2021-11-20T16:09:45.165Z"
   },
   {
    "duration": 5,
    "start_time": "2021-11-20T16:09:45.171Z"
   },
   {
    "duration": 5,
    "start_time": "2021-11-20T16:09:45.178Z"
   },
   {
    "duration": 4,
    "start_time": "2021-11-20T16:09:45.184Z"
   },
   {
    "duration": 4,
    "start_time": "2021-11-20T16:09:45.190Z"
   },
   {
    "duration": 4,
    "start_time": "2021-11-20T16:09:45.196Z"
   },
   {
    "duration": 6,
    "start_time": "2021-11-20T16:09:45.201Z"
   },
   {
    "duration": 3,
    "start_time": "2021-11-20T16:09:45.210Z"
   },
   {
    "duration": 5,
    "start_time": "2021-11-20T16:09:45.214Z"
   },
   {
    "duration": 11,
    "start_time": "2021-11-20T16:09:45.245Z"
   },
   {
    "duration": 5,
    "start_time": "2021-11-20T16:09:45.258Z"
   },
   {
    "duration": 4,
    "start_time": "2021-11-20T16:09:45.264Z"
   },
   {
    "duration": 5,
    "start_time": "2021-11-20T16:09:45.270Z"
   },
   {
    "duration": 4,
    "start_time": "2021-11-20T16:09:45.276Z"
   },
   {
    "duration": 11,
    "start_time": "2021-11-20T16:09:45.282Z"
   },
   {
    "duration": 7,
    "start_time": "2021-11-20T16:09:45.294Z"
   },
   {
    "duration": 4,
    "start_time": "2021-11-20T16:09:45.302Z"
   },
   {
    "duration": 4,
    "start_time": "2021-11-20T16:09:45.307Z"
   },
   {
    "duration": 9,
    "start_time": "2021-11-20T16:09:45.313Z"
   },
   {
    "duration": 8,
    "start_time": "2021-11-20T16:09:45.324Z"
   },
   {
    "duration": 10,
    "start_time": "2021-11-20T16:09:45.334Z"
   },
   {
    "duration": 3,
    "start_time": "2021-11-20T16:09:45.346Z"
   },
   {
    "duration": 6,
    "start_time": "2021-11-20T16:09:45.351Z"
   },
   {
    "duration": 6,
    "start_time": "2021-11-20T16:09:45.359Z"
   },
   {
    "duration": 11,
    "start_time": "2021-11-20T16:09:45.366Z"
   },
   {
    "duration": 5,
    "start_time": "2021-11-20T16:09:45.378Z"
   },
   {
    "duration": 5,
    "start_time": "2021-11-20T16:09:45.384Z"
   },
   {
    "duration": 4,
    "start_time": "2021-11-20T16:09:45.390Z"
   },
   {
    "duration": 11,
    "start_time": "2021-11-20T16:45:16.633Z"
   },
   {
    "duration": 5,
    "start_time": "2021-11-20T16:46:06.874Z"
   },
   {
    "duration": 4,
    "start_time": "2021-11-20T16:59:48.680Z"
   },
   {
    "duration": 5,
    "start_time": "2021-11-20T17:28:06.257Z"
   },
   {
    "duration": 603,
    "start_time": "2021-11-20T17:28:17.009Z"
   },
   {
    "duration": 54,
    "start_time": "2021-11-20T17:28:17.614Z"
   },
   {
    "duration": 20,
    "start_time": "2021-11-20T17:28:17.670Z"
   },
   {
    "duration": 10,
    "start_time": "2021-11-20T17:28:17.692Z"
   },
   {
    "duration": 3,
    "start_time": "2021-11-20T17:28:17.704Z"
   },
   {
    "duration": 10,
    "start_time": "2021-11-20T17:28:17.709Z"
   },
   {
    "duration": 28,
    "start_time": "2021-11-20T17:28:17.721Z"
   },
   {
    "duration": 18,
    "start_time": "2021-11-20T17:28:17.753Z"
   },
   {
    "duration": 29,
    "start_time": "2021-11-20T17:28:17.774Z"
   },
   {
    "duration": 18,
    "start_time": "2021-11-20T17:28:17.804Z"
   },
   {
    "duration": 44,
    "start_time": "2021-11-20T17:28:17.823Z"
   },
   {
    "duration": 17,
    "start_time": "2021-11-20T17:28:17.868Z"
   },
   {
    "duration": 29,
    "start_time": "2021-11-20T17:28:17.887Z"
   },
   {
    "duration": 14,
    "start_time": "2021-11-20T17:28:17.918Z"
   },
   {
    "duration": 42,
    "start_time": "2021-11-20T17:28:17.934Z"
   },
   {
    "duration": 5,
    "start_time": "2021-11-20T17:28:17.978Z"
   },
   {
    "duration": 12,
    "start_time": "2021-11-20T17:28:17.985Z"
   },
   {
    "duration": 20,
    "start_time": "2021-11-20T17:28:17.999Z"
   },
   {
    "duration": 20,
    "start_time": "2021-11-20T17:28:18.020Z"
   },
   {
    "duration": 9,
    "start_time": "2021-11-20T17:28:18.041Z"
   },
   {
    "duration": 5,
    "start_time": "2021-11-20T17:28:18.052Z"
   },
   {
    "duration": 7,
    "start_time": "2021-11-20T17:28:18.059Z"
   },
   {
    "duration": 7,
    "start_time": "2021-11-20T17:28:18.069Z"
   },
   {
    "duration": 5,
    "start_time": "2021-11-20T17:28:18.078Z"
   },
   {
    "duration": 8,
    "start_time": "2021-11-20T17:28:18.084Z"
   },
   {
    "duration": 9,
    "start_time": "2021-11-20T17:28:18.094Z"
   },
   {
    "duration": 5,
    "start_time": "2021-11-20T17:28:18.105Z"
   },
   {
    "duration": 6,
    "start_time": "2021-11-20T17:28:18.112Z"
   },
   {
    "duration": 10,
    "start_time": "2021-11-20T17:28:18.119Z"
   },
   {
    "duration": 5,
    "start_time": "2021-11-20T17:28:18.131Z"
   },
   {
    "duration": 7,
    "start_time": "2021-11-20T17:28:18.137Z"
   },
   {
    "duration": 12,
    "start_time": "2021-11-20T17:28:18.146Z"
   },
   {
    "duration": 5,
    "start_time": "2021-11-20T17:28:18.161Z"
   },
   {
    "duration": 14,
    "start_time": "2021-11-20T17:28:18.167Z"
   },
   {
    "duration": 8,
    "start_time": "2021-11-20T17:28:18.183Z"
   },
   {
    "duration": 5,
    "start_time": "2021-11-20T17:28:18.193Z"
   },
   {
    "duration": 14,
    "start_time": "2021-11-20T17:28:18.200Z"
   },
   {
    "duration": 11,
    "start_time": "2021-11-20T17:28:18.215Z"
   },
   {
    "duration": 10,
    "start_time": "2021-11-20T17:28:18.228Z"
   },
   {
    "duration": 5,
    "start_time": "2021-11-20T17:28:18.240Z"
   },
   {
    "duration": 9,
    "start_time": "2021-11-20T17:28:18.247Z"
   },
   {
    "duration": 5,
    "start_time": "2021-11-20T17:28:18.259Z"
   },
   {
    "duration": 5,
    "start_time": "2021-11-20T17:28:18.265Z"
   },
   {
    "duration": 5,
    "start_time": "2021-11-20T17:28:18.271Z"
   },
   {
    "duration": 4,
    "start_time": "2021-11-20T17:28:18.277Z"
   },
   {
    "duration": 4,
    "start_time": "2021-11-20T17:28:18.283Z"
   },
   {
    "duration": 4,
    "start_time": "2021-11-20T17:28:18.288Z"
   },
   {
    "duration": 12,
    "start_time": "2021-11-20T17:28:18.293Z"
   },
   {
    "duration": 5,
    "start_time": "2021-11-20T17:28:18.307Z"
   },
   {
    "duration": 13,
    "start_time": "2021-11-20T17:53:52.400Z"
   },
   {
    "duration": 21,
    "start_time": "2021-11-20T18:12:38.526Z"
   },
   {
    "duration": 17,
    "start_time": "2021-11-20T18:13:07.368Z"
   },
   {
    "duration": 16,
    "start_time": "2021-11-20T18:13:21.158Z"
   },
   {
    "duration": 34,
    "start_time": "2021-11-20T18:39:05.605Z"
   },
   {
    "duration": 32,
    "start_time": "2021-11-20T18:39:21.262Z"
   },
   {
    "duration": 34,
    "start_time": "2021-11-20T18:39:33.947Z"
   },
   {
    "duration": 53,
    "start_time": "2021-11-20T18:41:55.236Z"
   },
   {
    "duration": 348,
    "start_time": "2021-11-20T19:18:32.336Z"
   },
   {
    "duration": 33,
    "start_time": "2021-11-20T19:19:17.624Z"
   },
   {
    "duration": 31,
    "start_time": "2021-11-20T19:21:00.528Z"
   },
   {
    "duration": 19,
    "start_time": "2021-11-20T19:23:06.345Z"
   },
   {
    "duration": 21,
    "start_time": "2021-11-20T19:23:10.958Z"
   },
   {
    "duration": 19,
    "start_time": "2021-11-20T19:23:24.911Z"
   },
   {
    "duration": 544,
    "start_time": "2021-11-20T19:24:32.770Z"
   },
   {
    "duration": 50,
    "start_time": "2021-11-20T19:24:33.316Z"
   },
   {
    "duration": 18,
    "start_time": "2021-11-20T19:24:33.367Z"
   },
   {
    "duration": 41,
    "start_time": "2021-11-20T19:24:33.387Z"
   },
   {
    "duration": 20,
    "start_time": "2021-11-20T19:24:33.429Z"
   },
   {
    "duration": 24,
    "start_time": "2021-11-20T19:24:33.451Z"
   },
   {
    "duration": 27,
    "start_time": "2021-11-20T19:24:33.476Z"
   },
   {
    "duration": 22,
    "start_time": "2021-11-20T19:24:33.506Z"
   },
   {
    "duration": 32,
    "start_time": "2021-11-20T19:24:33.530Z"
   },
   {
    "duration": 19,
    "start_time": "2021-11-20T19:24:33.564Z"
   },
   {
    "duration": 32,
    "start_time": "2021-11-20T19:24:33.584Z"
   },
   {
    "duration": 15,
    "start_time": "2021-11-20T19:24:33.617Z"
   },
   {
    "duration": 39,
    "start_time": "2021-11-20T19:24:33.634Z"
   },
   {
    "duration": 15,
    "start_time": "2021-11-20T19:24:33.674Z"
   },
   {
    "duration": 29,
    "start_time": "2021-11-20T19:24:33.691Z"
   },
   {
    "duration": 7,
    "start_time": "2021-11-20T19:24:33.722Z"
   },
   {
    "duration": 23,
    "start_time": "2021-11-20T19:24:33.730Z"
   },
   {
    "duration": 20,
    "start_time": "2021-11-20T19:24:33.755Z"
   },
   {
    "duration": 23,
    "start_time": "2021-11-20T19:24:33.776Z"
   },
   {
    "duration": 19,
    "start_time": "2021-11-20T19:24:33.800Z"
   },
   {
    "duration": 32,
    "start_time": "2021-11-20T19:24:33.821Z"
   },
   {
    "duration": 24,
    "start_time": "2021-11-20T19:24:33.854Z"
   },
   {
    "duration": 6,
    "start_time": "2021-11-20T19:24:33.883Z"
   },
   {
    "duration": 14,
    "start_time": "2021-11-20T19:24:33.891Z"
   },
   {
    "duration": 10,
    "start_time": "2021-11-20T19:24:33.906Z"
   },
   {
    "duration": 37,
    "start_time": "2021-11-20T19:24:33.917Z"
   },
   {
    "duration": 18,
    "start_time": "2021-11-20T19:24:33.956Z"
   },
   {
    "duration": 26,
    "start_time": "2021-11-20T19:24:33.976Z"
   },
   {
    "duration": 22,
    "start_time": "2021-11-20T19:24:34.003Z"
   },
   {
    "duration": 25,
    "start_time": "2021-11-20T19:24:34.026Z"
   },
   {
    "duration": 37,
    "start_time": "2021-11-20T19:24:34.052Z"
   },
   {
    "duration": 21,
    "start_time": "2021-11-20T19:24:34.091Z"
   },
   {
    "duration": 20,
    "start_time": "2021-11-20T19:24:34.114Z"
   },
   {
    "duration": 31,
    "start_time": "2021-11-20T19:24:34.136Z"
   },
   {
    "duration": 43,
    "start_time": "2021-11-20T19:24:34.169Z"
   },
   {
    "duration": 16,
    "start_time": "2021-11-20T19:24:34.213Z"
   },
   {
    "duration": 17,
    "start_time": "2021-11-20T19:24:34.231Z"
   },
   {
    "duration": 23,
    "start_time": "2021-11-20T19:24:34.250Z"
   },
   {
    "duration": 22,
    "start_time": "2021-11-20T19:24:34.275Z"
   },
   {
    "duration": 10,
    "start_time": "2021-11-20T19:24:34.299Z"
   },
   {
    "duration": 21,
    "start_time": "2021-11-20T19:24:34.311Z"
   },
   {
    "duration": 19,
    "start_time": "2021-11-20T19:24:34.334Z"
   },
   {
    "duration": 18,
    "start_time": "2021-11-20T19:24:34.355Z"
   },
   {
    "duration": 25,
    "start_time": "2021-11-20T19:24:34.375Z"
   },
   {
    "duration": 15,
    "start_time": "2021-11-20T19:24:34.402Z"
   },
   {
    "duration": 24,
    "start_time": "2021-11-20T19:24:34.419Z"
   },
   {
    "duration": 17,
    "start_time": "2021-11-20T19:24:34.445Z"
   },
   {
    "duration": 45,
    "start_time": "2021-11-20T19:24:34.464Z"
   },
   {
    "duration": 15,
    "start_time": "2021-11-20T19:24:34.510Z"
   },
   {
    "duration": 15,
    "start_time": "2021-11-20T19:24:34.527Z"
   },
   {
    "duration": 21,
    "start_time": "2021-11-20T19:24:34.544Z"
   },
   {
    "duration": 12,
    "start_time": "2021-11-20T19:24:34.567Z"
   },
   {
    "duration": 36,
    "start_time": "2021-11-20T19:24:45.515Z"
   },
   {
    "duration": 17,
    "start_time": "2021-11-20T19:25:08.388Z"
   },
   {
    "duration": 14,
    "start_time": "2021-11-20T19:25:30.211Z"
   },
   {
    "duration": 11,
    "start_time": "2021-11-20T19:26:34.564Z"
   },
   {
    "duration": 17,
    "start_time": "2021-11-20T19:26:36.628Z"
   },
   {
    "duration": 19,
    "start_time": "2021-11-20T19:26:42.017Z"
   },
   {
    "duration": 16,
    "start_time": "2021-11-20T19:28:17.372Z"
   },
   {
    "duration": 23,
    "start_time": "2021-11-20T19:42:39.993Z"
   },
   {
    "duration": 9,
    "start_time": "2021-11-20T20:02:08.364Z"
   },
   {
    "duration": 8,
    "start_time": "2021-11-20T20:02:47.360Z"
   },
   {
    "duration": 89,
    "start_time": "2021-11-20T20:28:01.968Z"
   },
   {
    "duration": 328,
    "start_time": "2021-11-20T20:28:11.952Z"
   },
   {
    "duration": 271,
    "start_time": "2021-11-20T20:28:58.297Z"
   },
   {
    "duration": 269,
    "start_time": "2021-11-20T20:29:12.319Z"
   },
   {
    "duration": 648,
    "start_time": "2021-11-20T20:34:31.102Z"
   },
   {
    "duration": 6,
    "start_time": "2021-11-20T20:34:43.524Z"
   },
   {
    "duration": 630,
    "start_time": "2021-11-20T20:38:03.402Z"
   },
   {
    "duration": 52,
    "start_time": "2021-11-20T20:38:04.034Z"
   },
   {
    "duration": 20,
    "start_time": "2021-11-20T20:38:04.089Z"
   },
   {
    "duration": 12,
    "start_time": "2021-11-20T20:38:04.111Z"
   },
   {
    "duration": 19,
    "start_time": "2021-11-20T20:38:04.125Z"
   },
   {
    "duration": 9,
    "start_time": "2021-11-20T20:38:04.146Z"
   },
   {
    "duration": 7,
    "start_time": "2021-11-20T20:38:04.157Z"
   },
   {
    "duration": 26,
    "start_time": "2021-11-20T20:38:04.168Z"
   },
   {
    "duration": 52,
    "start_time": "2021-11-20T20:38:04.196Z"
   },
   {
    "duration": 13,
    "start_time": "2021-11-20T20:38:04.251Z"
   },
   {
    "duration": 28,
    "start_time": "2021-11-20T20:38:04.266Z"
   },
   {
    "duration": 17,
    "start_time": "2021-11-20T20:38:04.296Z"
   },
   {
    "duration": 50,
    "start_time": "2021-11-20T20:38:04.315Z"
   },
   {
    "duration": 13,
    "start_time": "2021-11-20T20:38:04.367Z"
   },
   {
    "duration": 34,
    "start_time": "2021-11-20T20:38:04.382Z"
   },
   {
    "duration": 29,
    "start_time": "2021-11-20T20:38:04.418Z"
   },
   {
    "duration": 6,
    "start_time": "2021-11-20T20:38:04.450Z"
   },
   {
    "duration": 12,
    "start_time": "2021-11-20T20:38:04.459Z"
   },
   {
    "duration": 5,
    "start_time": "2021-11-20T20:38:04.474Z"
   },
   {
    "duration": 5,
    "start_time": "2021-11-20T20:38:04.481Z"
   },
   {
    "duration": 4,
    "start_time": "2021-11-20T20:38:04.489Z"
   },
   {
    "duration": 10,
    "start_time": "2021-11-20T20:38:04.496Z"
   },
   {
    "duration": 5,
    "start_time": "2021-11-20T20:38:04.510Z"
   },
   {
    "duration": 27,
    "start_time": "2021-11-20T20:38:04.518Z"
   },
   {
    "duration": 2,
    "start_time": "2021-11-20T20:38:04.547Z"
   },
   {
    "duration": 15,
    "start_time": "2021-11-20T20:38:04.552Z"
   },
   {
    "duration": 7,
    "start_time": "2021-11-20T20:38:04.569Z"
   },
   {
    "duration": 7,
    "start_time": "2021-11-20T20:38:04.578Z"
   },
   {
    "duration": 6,
    "start_time": "2021-11-20T20:38:04.588Z"
   },
   {
    "duration": 4,
    "start_time": "2021-11-20T20:38:04.596Z"
   },
   {
    "duration": 4,
    "start_time": "2021-11-20T20:38:04.602Z"
   },
   {
    "duration": 5,
    "start_time": "2021-11-20T20:38:04.609Z"
   },
   {
    "duration": 27,
    "start_time": "2021-11-20T20:38:04.616Z"
   },
   {
    "duration": 3,
    "start_time": "2021-11-20T20:38:04.647Z"
   },
   {
    "duration": 7,
    "start_time": "2021-11-20T20:38:04.652Z"
   },
   {
    "duration": 4,
    "start_time": "2021-11-20T20:38:04.661Z"
   },
   {
    "duration": 4,
    "start_time": "2021-11-20T20:38:04.668Z"
   },
   {
    "duration": 7,
    "start_time": "2021-11-20T20:38:04.674Z"
   },
   {
    "duration": 4,
    "start_time": "2021-11-20T20:38:04.683Z"
   },
   {
    "duration": 4,
    "start_time": "2021-11-20T20:38:04.689Z"
   },
   {
    "duration": 3,
    "start_time": "2021-11-20T20:38:04.695Z"
   },
   {
    "duration": 44,
    "start_time": "2021-11-20T20:38:04.700Z"
   },
   {
    "duration": 4,
    "start_time": "2021-11-20T20:38:04.747Z"
   },
   {
    "duration": 4,
    "start_time": "2021-11-20T20:38:04.753Z"
   },
   {
    "duration": 2,
    "start_time": "2021-11-20T20:38:04.761Z"
   },
   {
    "duration": 4,
    "start_time": "2021-11-20T20:38:04.765Z"
   },
   {
    "duration": 5,
    "start_time": "2021-11-20T20:38:04.771Z"
   },
   {
    "duration": 8,
    "start_time": "2021-11-20T20:38:04.778Z"
   },
   {
    "duration": 4,
    "start_time": "2021-11-20T20:38:04.788Z"
   },
   {
    "duration": 52,
    "start_time": "2021-11-20T20:38:04.794Z"
   },
   {
    "duration": 29,
    "start_time": "2021-11-20T20:38:04.848Z"
   },
   {
    "duration": 29,
    "start_time": "2021-11-20T20:38:04.879Z"
   },
   {
    "duration": 45,
    "start_time": "2021-11-20T20:38:04.911Z"
   },
   {
    "duration": 22,
    "start_time": "2021-11-20T20:38:04.958Z"
   },
   {
    "duration": 9,
    "start_time": "2021-11-20T20:38:04.982Z"
   },
   {
    "duration": 8,
    "start_time": "2021-11-20T20:38:04.993Z"
   },
   {
    "duration": 4,
    "start_time": "2021-11-20T20:38:05.003Z"
   },
   {
    "duration": 411,
    "start_time": "2021-11-21T12:39:20.888Z"
   },
   {
    "duration": 785,
    "start_time": "2021-11-21T12:39:29.996Z"
   },
   {
    "duration": 64,
    "start_time": "2021-11-21T12:39:30.783Z"
   },
   {
    "duration": 33,
    "start_time": "2021-11-21T12:39:30.850Z"
   },
   {
    "duration": 16,
    "start_time": "2021-11-21T12:39:30.886Z"
   },
   {
    "duration": 16,
    "start_time": "2021-11-21T12:39:30.904Z"
   },
   {
    "duration": 35,
    "start_time": "2021-11-21T12:39:30.922Z"
   },
   {
    "duration": 30,
    "start_time": "2021-11-21T12:39:30.959Z"
   },
   {
    "duration": 32,
    "start_time": "2021-11-21T12:39:30.992Z"
   },
   {
    "duration": 28,
    "start_time": "2021-11-21T12:39:31.027Z"
   },
   {
    "duration": 29,
    "start_time": "2021-11-21T12:39:31.057Z"
   },
   {
    "duration": 47,
    "start_time": "2021-11-21T12:39:31.089Z"
   },
   {
    "duration": 26,
    "start_time": "2021-11-21T12:39:31.138Z"
   },
   {
    "duration": 58,
    "start_time": "2021-11-21T12:39:31.167Z"
   },
   {
    "duration": 19,
    "start_time": "2021-11-21T12:39:31.228Z"
   },
   {
    "duration": 73,
    "start_time": "2021-11-21T12:39:31.249Z"
   },
   {
    "duration": 10,
    "start_time": "2021-11-21T12:39:31.325Z"
   },
   {
    "duration": 13,
    "start_time": "2021-11-21T12:39:31.338Z"
   },
   {
    "duration": 9,
    "start_time": "2021-11-21T12:39:31.353Z"
   },
   {
    "duration": 15,
    "start_time": "2021-11-21T12:39:31.383Z"
   },
   {
    "duration": 20,
    "start_time": "2021-11-21T12:39:31.401Z"
   },
   {
    "duration": 13,
    "start_time": "2021-11-21T12:39:31.423Z"
   },
   {
    "duration": 7,
    "start_time": "2021-11-21T12:39:31.439Z"
   },
   {
    "duration": 9,
    "start_time": "2021-11-21T12:39:31.454Z"
   },
   {
    "duration": 8,
    "start_time": "2021-11-21T12:39:31.467Z"
   },
   {
    "duration": 16,
    "start_time": "2021-11-21T12:39:31.477Z"
   },
   {
    "duration": 23,
    "start_time": "2021-11-21T12:39:31.496Z"
   },
   {
    "duration": 9,
    "start_time": "2021-11-21T12:39:31.521Z"
   },
   {
    "duration": 11,
    "start_time": "2021-11-21T12:39:31.533Z"
   },
   {
    "duration": 13,
    "start_time": "2021-11-21T12:39:31.546Z"
   },
   {
    "duration": 10,
    "start_time": "2021-11-21T12:39:31.561Z"
   },
   {
    "duration": 18,
    "start_time": "2021-11-21T12:39:31.573Z"
   },
   {
    "duration": 13,
    "start_time": "2021-11-21T12:39:31.594Z"
   },
   {
    "duration": 8,
    "start_time": "2021-11-21T12:39:31.610Z"
   },
   {
    "duration": 25,
    "start_time": "2021-11-21T12:39:31.621Z"
   },
   {
    "duration": 18,
    "start_time": "2021-11-21T12:39:31.649Z"
   },
   {
    "duration": 8,
    "start_time": "2021-11-21T12:39:31.669Z"
   },
   {
    "duration": 7,
    "start_time": "2021-11-21T12:39:31.679Z"
   },
   {
    "duration": 12,
    "start_time": "2021-11-21T12:39:31.688Z"
   },
   {
    "duration": 6,
    "start_time": "2021-11-21T12:39:31.703Z"
   },
   {
    "duration": 7,
    "start_time": "2021-11-21T12:39:31.711Z"
   },
   {
    "duration": 7,
    "start_time": "2021-11-21T12:39:31.720Z"
   },
   {
    "duration": 9,
    "start_time": "2021-11-21T12:39:31.729Z"
   },
   {
    "duration": 5,
    "start_time": "2021-11-21T12:39:31.741Z"
   },
   {
    "duration": 7,
    "start_time": "2021-11-21T12:39:31.748Z"
   },
   {
    "duration": 25,
    "start_time": "2021-11-21T12:39:31.757Z"
   },
   {
    "duration": 9,
    "start_time": "2021-11-21T12:39:31.784Z"
   },
   {
    "duration": 11,
    "start_time": "2021-11-21T12:39:31.795Z"
   },
   {
    "duration": 15,
    "start_time": "2021-11-21T12:39:31.809Z"
   },
   {
    "duration": 9,
    "start_time": "2021-11-21T12:39:31.827Z"
   },
   {
    "duration": 29,
    "start_time": "2021-11-21T12:39:31.839Z"
   },
   {
    "duration": 38,
    "start_time": "2021-11-21T12:39:31.883Z"
   },
   {
    "duration": 58,
    "start_time": "2021-11-21T12:39:31.924Z"
   },
   {
    "duration": 27,
    "start_time": "2021-11-21T12:39:31.986Z"
   },
   {
    "duration": 27,
    "start_time": "2021-11-21T12:39:32.016Z"
   },
   {
    "duration": 36,
    "start_time": "2021-11-21T12:39:32.046Z"
   },
   {
    "duration": 14,
    "start_time": "2021-11-21T12:39:32.085Z"
   },
   {
    "duration": 4,
    "start_time": "2021-11-21T12:39:32.102Z"
   },
   {
    "duration": 402,
    "start_time": "2021-11-21T12:39:32.109Z"
   },
   {
    "duration": 308,
    "start_time": "2021-11-21T12:41:22.367Z"
   },
   {
    "duration": 5,
    "start_time": "2021-11-21T12:41:26.415Z"
   },
   {
    "duration": 886,
    "start_time": "2021-11-21T12:42:33.966Z"
   },
   {
    "duration": 7,
    "start_time": "2021-11-21T12:43:28.657Z"
   },
   {
    "duration": 5484,
    "start_time": "2021-11-21T12:53:48.360Z"
   },
   {
    "duration": 5794,
    "start_time": "2021-11-21T12:54:35.598Z"
   },
   {
    "duration": 6742,
    "start_time": "2021-11-21T12:54:48.917Z"
   },
   {
    "duration": 6,
    "start_time": "2021-11-21T12:55:19.383Z"
   },
   {
    "duration": 7,
    "start_time": "2021-11-21T12:55:30.645Z"
   },
   {
    "duration": 15584,
    "start_time": "2021-11-21T12:55:54.005Z"
   },
   {
    "duration": 1049,
    "start_time": "2021-11-21T12:57:52.161Z"
   },
   {
    "duration": 92,
    "start_time": "2021-11-21T12:57:53.213Z"
   },
   {
    "duration": 45,
    "start_time": "2021-11-21T12:57:53.313Z"
   },
   {
    "duration": 36,
    "start_time": "2021-11-21T12:57:53.361Z"
   },
   {
    "duration": 3,
    "start_time": "2021-11-21T12:57:53.400Z"
   },
   {
    "duration": 14,
    "start_time": "2021-11-21T12:57:53.406Z"
   },
   {
    "duration": 10,
    "start_time": "2021-11-21T12:57:53.426Z"
   },
   {
    "duration": 73,
    "start_time": "2021-11-21T12:57:53.440Z"
   },
   {
    "duration": 32,
    "start_time": "2021-11-21T12:57:53.516Z"
   },
   {
    "duration": 42,
    "start_time": "2021-11-21T12:57:53.550Z"
   },
   {
    "duration": 40,
    "start_time": "2021-11-21T12:57:53.595Z"
   },
   {
    "duration": 56,
    "start_time": "2021-11-21T12:57:53.638Z"
   },
   {
    "duration": 34,
    "start_time": "2021-11-21T12:57:53.697Z"
   },
   {
    "duration": 17,
    "start_time": "2021-11-21T12:57:53.733Z"
   },
   {
    "duration": 69,
    "start_time": "2021-11-21T12:57:53.752Z"
   },
   {
    "duration": 11,
    "start_time": "2021-11-21T12:57:53.823Z"
   },
   {
    "duration": 7,
    "start_time": "2021-11-21T12:57:53.837Z"
   },
   {
    "duration": 36,
    "start_time": "2021-11-21T12:57:53.846Z"
   },
   {
    "duration": 3,
    "start_time": "2021-11-21T12:57:53.885Z"
   },
   {
    "duration": 5,
    "start_time": "2021-11-21T12:57:53.892Z"
   },
   {
    "duration": 5,
    "start_time": "2021-11-21T12:57:53.900Z"
   },
   {
    "duration": 3,
    "start_time": "2021-11-21T12:57:53.912Z"
   },
   {
    "duration": 3,
    "start_time": "2021-11-21T12:57:53.919Z"
   },
   {
    "duration": 5,
    "start_time": "2021-11-21T12:57:53.925Z"
   },
   {
    "duration": 3,
    "start_time": "2021-11-21T12:57:53.981Z"
   },
   {
    "duration": 12,
    "start_time": "2021-11-21T12:57:53.987Z"
   },
   {
    "duration": 5,
    "start_time": "2021-11-21T12:57:54.001Z"
   },
   {
    "duration": 4,
    "start_time": "2021-11-21T12:57:54.009Z"
   },
   {
    "duration": 6,
    "start_time": "2021-11-21T12:57:54.016Z"
   },
   {
    "duration": 7,
    "start_time": "2021-11-21T12:57:54.024Z"
   },
   {
    "duration": 6,
    "start_time": "2021-11-21T12:57:54.033Z"
   },
   {
    "duration": 4,
    "start_time": "2021-11-21T12:57:54.042Z"
   },
   {
    "duration": 9,
    "start_time": "2021-11-21T12:57:54.086Z"
   },
   {
    "duration": 12,
    "start_time": "2021-11-21T12:57:54.097Z"
   },
   {
    "duration": 10,
    "start_time": "2021-11-21T12:57:54.111Z"
   },
   {
    "duration": 8,
    "start_time": "2021-11-21T12:57:54.123Z"
   },
   {
    "duration": 8,
    "start_time": "2021-11-21T12:57:54.133Z"
   },
   {
    "duration": 8,
    "start_time": "2021-11-21T12:57:54.143Z"
   },
   {
    "duration": 8,
    "start_time": "2021-11-21T12:57:54.154Z"
   },
   {
    "duration": 19,
    "start_time": "2021-11-21T12:57:54.164Z"
   },
   {
    "duration": 8,
    "start_time": "2021-11-21T12:57:54.186Z"
   },
   {
    "duration": 17,
    "start_time": "2021-11-21T12:57:54.197Z"
   },
   {
    "duration": 7,
    "start_time": "2021-11-21T12:57:54.216Z"
   },
   {
    "duration": 7,
    "start_time": "2021-11-21T12:57:54.226Z"
   },
   {
    "duration": 5,
    "start_time": "2021-11-21T12:57:54.235Z"
   },
   {
    "duration": 5,
    "start_time": "2021-11-21T12:57:54.242Z"
   },
   {
    "duration": 32,
    "start_time": "2021-11-21T12:57:54.250Z"
   },
   {
    "duration": 14,
    "start_time": "2021-11-21T12:57:54.285Z"
   },
   {
    "duration": 6,
    "start_time": "2021-11-21T12:57:54.302Z"
   },
   {
    "duration": 17,
    "start_time": "2021-11-21T12:57:54.310Z"
   },
   {
    "duration": 53,
    "start_time": "2021-11-21T12:57:54.330Z"
   },
   {
    "duration": 27,
    "start_time": "2021-11-21T12:57:54.386Z"
   },
   {
    "duration": 23,
    "start_time": "2021-11-21T12:57:54.416Z"
   },
   {
    "duration": 57,
    "start_time": "2021-11-21T12:57:54.442Z"
   },
   {
    "duration": 15,
    "start_time": "2021-11-21T12:57:54.502Z"
   },
   {
    "duration": 10,
    "start_time": "2021-11-21T12:57:54.520Z"
   },
   {
    "duration": 12,
    "start_time": "2021-11-21T12:57:54.533Z"
   },
   {
    "duration": 17,
    "start_time": "2021-11-21T12:57:54.548Z"
   },
   {
    "duration": 881,
    "start_time": "2021-11-21T12:59:28.472Z"
   },
   {
    "duration": 7,
    "start_time": "2021-11-21T12:59:55.557Z"
   },
   {
    "duration": 524,
    "start_time": "2021-11-21T13:00:26.382Z"
   },
   {
    "duration": 439,
    "start_time": "2021-11-21T13:00:42.362Z"
   },
   {
    "duration": 780,
    "start_time": "2021-11-21T13:01:35.847Z"
   },
   {
    "duration": 62,
    "start_time": "2021-11-21T13:01:36.630Z"
   },
   {
    "duration": 29,
    "start_time": "2021-11-21T13:01:36.695Z"
   },
   {
    "duration": 20,
    "start_time": "2021-11-21T13:01:36.727Z"
   },
   {
    "duration": 7,
    "start_time": "2021-11-21T13:01:36.749Z"
   },
   {
    "duration": 27,
    "start_time": "2021-11-21T13:01:36.758Z"
   },
   {
    "duration": 13,
    "start_time": "2021-11-21T13:01:36.787Z"
   },
   {
    "duration": 21,
    "start_time": "2021-11-21T13:01:36.805Z"
   },
   {
    "duration": 54,
    "start_time": "2021-11-21T13:01:36.829Z"
   },
   {
    "duration": 15,
    "start_time": "2021-11-21T13:01:36.886Z"
   },
   {
    "duration": 39,
    "start_time": "2021-11-21T13:01:36.903Z"
   },
   {
    "duration": 52,
    "start_time": "2021-11-21T13:01:36.944Z"
   },
   {
    "duration": 32,
    "start_time": "2021-11-21T13:01:36.998Z"
   },
   {
    "duration": 15,
    "start_time": "2021-11-21T13:01:37.033Z"
   },
   {
    "duration": 66,
    "start_time": "2021-11-21T13:01:37.050Z"
   },
   {
    "duration": 12,
    "start_time": "2021-11-21T13:01:37.119Z"
   },
   {
    "duration": 5,
    "start_time": "2021-11-21T13:01:37.134Z"
   },
   {
    "duration": 5,
    "start_time": "2021-11-21T13:01:37.142Z"
   },
   {
    "duration": 5,
    "start_time": "2021-11-21T13:01:37.150Z"
   },
   {
    "duration": 6,
    "start_time": "2021-11-21T13:01:37.183Z"
   },
   {
    "duration": 6,
    "start_time": "2021-11-21T13:01:37.192Z"
   },
   {
    "duration": 8,
    "start_time": "2021-11-21T13:01:37.201Z"
   },
   {
    "duration": 3,
    "start_time": "2021-11-21T13:01:37.217Z"
   },
   {
    "duration": 7,
    "start_time": "2021-11-21T13:01:37.224Z"
   },
   {
    "duration": 6,
    "start_time": "2021-11-21T13:01:37.233Z"
   },
   {
    "duration": 7,
    "start_time": "2021-11-21T13:01:37.241Z"
   },
   {
    "duration": 32,
    "start_time": "2021-11-21T13:01:37.251Z"
   },
   {
    "duration": 13,
    "start_time": "2021-11-21T13:01:37.286Z"
   },
   {
    "duration": 6,
    "start_time": "2021-11-21T13:01:37.302Z"
   },
   {
    "duration": 8,
    "start_time": "2021-11-21T13:01:37.311Z"
   },
   {
    "duration": 5,
    "start_time": "2021-11-21T13:01:37.322Z"
   },
   {
    "duration": 10,
    "start_time": "2021-11-21T13:01:37.330Z"
   },
   {
    "duration": 11,
    "start_time": "2021-11-21T13:01:37.342Z"
   },
   {
    "duration": 27,
    "start_time": "2021-11-21T13:01:37.356Z"
   },
   {
    "duration": 9,
    "start_time": "2021-11-21T13:01:37.386Z"
   },
   {
    "duration": 9,
    "start_time": "2021-11-21T13:01:37.397Z"
   },
   {
    "duration": 13,
    "start_time": "2021-11-21T13:01:37.408Z"
   },
   {
    "duration": 8,
    "start_time": "2021-11-21T13:01:37.424Z"
   },
   {
    "duration": 5,
    "start_time": "2021-11-21T13:01:37.435Z"
   },
   {
    "duration": 9,
    "start_time": "2021-11-21T13:01:37.443Z"
   },
   {
    "duration": 9,
    "start_time": "2021-11-21T13:01:37.454Z"
   },
   {
    "duration": 3,
    "start_time": "2021-11-21T13:01:37.482Z"
   },
   {
    "duration": 7,
    "start_time": "2021-11-21T13:01:37.488Z"
   },
   {
    "duration": 6,
    "start_time": "2021-11-21T13:01:37.497Z"
   },
   {
    "duration": 10,
    "start_time": "2021-11-21T13:01:37.505Z"
   },
   {
    "duration": 12,
    "start_time": "2021-11-21T13:01:37.517Z"
   },
   {
    "duration": 11,
    "start_time": "2021-11-21T13:01:37.532Z"
   },
   {
    "duration": 39,
    "start_time": "2021-11-21T13:01:37.545Z"
   },
   {
    "duration": 8,
    "start_time": "2021-11-21T13:01:37.586Z"
   },
   {
    "duration": 28,
    "start_time": "2021-11-21T13:01:37.596Z"
   },
   {
    "duration": 35,
    "start_time": "2021-11-21T13:01:37.627Z"
   },
   {
    "duration": 42,
    "start_time": "2021-11-21T13:01:37.664Z"
   },
   {
    "duration": 24,
    "start_time": "2021-11-21T13:01:37.708Z"
   },
   {
    "duration": 51,
    "start_time": "2021-11-21T13:01:37.735Z"
   },
   {
    "duration": 10,
    "start_time": "2021-11-21T13:01:37.789Z"
   },
   {
    "duration": 22,
    "start_time": "2021-11-21T13:01:37.802Z"
   },
   {
    "duration": 12,
    "start_time": "2021-11-21T13:01:37.826Z"
   },
   {
    "duration": 20,
    "start_time": "2021-11-21T13:01:37.840Z"
   },
   {
    "duration": 26,
    "start_time": "2021-11-21T13:01:57.647Z"
   },
   {
    "duration": 25,
    "start_time": "2021-11-21T13:03:27.981Z"
   },
   {
    "duration": 418,
    "start_time": "2021-11-21T13:03:56.293Z"
   },
   {
    "duration": 358,
    "start_time": "2021-11-21T13:04:05.170Z"
   },
   {
    "duration": 24,
    "start_time": "2021-11-21T13:04:15.465Z"
   },
   {
    "duration": 327,
    "start_time": "2021-11-21T13:07:08.873Z"
   },
   {
    "duration": 334,
    "start_time": "2021-11-21T13:07:36.356Z"
   },
   {
    "duration": 890,
    "start_time": "2021-11-21T13:07:57.225Z"
   },
   {
    "duration": 3894,
    "start_time": "2021-11-21T13:23:38.133Z"
   },
   {
    "duration": 9281,
    "start_time": "2021-11-21T15:54:46.546Z"
   },
   {
    "duration": 8494,
    "start_time": "2021-11-21T15:55:00.024Z"
   },
   {
    "duration": 771,
    "start_time": "2021-11-21T15:55:19.538Z"
   },
   {
    "duration": 69,
    "start_time": "2021-11-21T15:55:20.313Z"
   },
   {
    "duration": 30,
    "start_time": "2021-11-21T15:55:20.386Z"
   },
   {
    "duration": 24,
    "start_time": "2021-11-21T15:55:20.420Z"
   },
   {
    "duration": 39,
    "start_time": "2021-11-21T15:55:20.447Z"
   },
   {
    "duration": 20,
    "start_time": "2021-11-21T15:55:20.490Z"
   },
   {
    "duration": 9,
    "start_time": "2021-11-21T15:55:20.513Z"
   },
   {
    "duration": 65,
    "start_time": "2021-11-21T15:55:20.528Z"
   },
   {
    "duration": 32,
    "start_time": "2021-11-21T15:55:20.597Z"
   },
   {
    "duration": 50,
    "start_time": "2021-11-21T15:55:20.632Z"
   },
   {
    "duration": 51,
    "start_time": "2021-11-21T15:55:20.686Z"
   },
   {
    "duration": 56,
    "start_time": "2021-11-21T15:55:20.740Z"
   },
   {
    "duration": 56,
    "start_time": "2021-11-21T15:55:20.799Z"
   },
   {
    "duration": 40,
    "start_time": "2021-11-21T15:55:20.858Z"
   },
   {
    "duration": 86,
    "start_time": "2021-11-21T15:55:20.901Z"
   },
   {
    "duration": 12,
    "start_time": "2021-11-21T15:55:20.990Z"
   },
   {
    "duration": 13,
    "start_time": "2021-11-21T15:55:21.006Z"
   },
   {
    "duration": 8,
    "start_time": "2021-11-21T15:55:21.022Z"
   },
   {
    "duration": 11,
    "start_time": "2021-11-21T15:55:21.033Z"
   },
   {
    "duration": 8,
    "start_time": "2021-11-21T15:55:21.048Z"
   },
   {
    "duration": 28,
    "start_time": "2021-11-21T15:55:21.059Z"
   },
   {
    "duration": 17,
    "start_time": "2021-11-21T15:55:21.091Z"
   },
   {
    "duration": 7,
    "start_time": "2021-11-21T15:55:21.118Z"
   },
   {
    "duration": 5,
    "start_time": "2021-11-21T15:55:21.130Z"
   },
   {
    "duration": 9,
    "start_time": "2021-11-21T15:55:21.138Z"
   },
   {
    "duration": 36,
    "start_time": "2021-11-21T15:55:21.151Z"
   },
   {
    "duration": 14,
    "start_time": "2021-11-21T15:55:21.190Z"
   },
   {
    "duration": 11,
    "start_time": "2021-11-21T15:55:21.207Z"
   },
   {
    "duration": 14,
    "start_time": "2021-11-21T15:55:21.221Z"
   },
   {
    "duration": 16,
    "start_time": "2021-11-21T15:55:21.237Z"
   },
   {
    "duration": 8,
    "start_time": "2021-11-21T15:55:21.256Z"
   },
   {
    "duration": 16,
    "start_time": "2021-11-21T15:55:21.267Z"
   },
   {
    "duration": 18,
    "start_time": "2021-11-21T15:55:21.286Z"
   },
   {
    "duration": 27,
    "start_time": "2021-11-21T15:55:21.307Z"
   },
   {
    "duration": 11,
    "start_time": "2021-11-21T15:55:21.337Z"
   },
   {
    "duration": 6,
    "start_time": "2021-11-21T15:55:21.351Z"
   },
   {
    "duration": 7,
    "start_time": "2021-11-21T15:55:21.360Z"
   },
   {
    "duration": 13,
    "start_time": "2021-11-21T15:55:21.370Z"
   },
   {
    "duration": 6,
    "start_time": "2021-11-21T15:55:21.386Z"
   },
   {
    "duration": 10,
    "start_time": "2021-11-21T15:55:21.394Z"
   },
   {
    "duration": 7,
    "start_time": "2021-11-21T15:55:21.407Z"
   },
   {
    "duration": 10,
    "start_time": "2021-11-21T15:55:21.416Z"
   },
   {
    "duration": 5,
    "start_time": "2021-11-21T15:55:21.430Z"
   },
   {
    "duration": 44,
    "start_time": "2021-11-21T15:55:21.439Z"
   },
   {
    "duration": 3,
    "start_time": "2021-11-21T15:55:21.487Z"
   },
   {
    "duration": 8,
    "start_time": "2021-11-21T15:55:21.494Z"
   },
   {
    "duration": 7,
    "start_time": "2021-11-21T15:55:21.505Z"
   },
   {
    "duration": 12,
    "start_time": "2021-11-21T15:55:21.514Z"
   },
   {
    "duration": 9,
    "start_time": "2021-11-21T15:55:21.529Z"
   },
   {
    "duration": 21,
    "start_time": "2021-11-21T15:55:21.581Z"
   },
   {
    "duration": 28,
    "start_time": "2021-11-21T15:55:21.606Z"
   },
   {
    "duration": 61,
    "start_time": "2021-11-21T15:55:21.637Z"
   },
   {
    "duration": 27,
    "start_time": "2021-11-21T15:55:21.701Z"
   },
   {
    "duration": 54,
    "start_time": "2021-11-21T15:55:21.732Z"
   },
   {
    "duration": 12,
    "start_time": "2021-11-21T15:55:21.790Z"
   },
   {
    "duration": 15,
    "start_time": "2021-11-21T15:55:21.805Z"
   },
   {
    "duration": 11,
    "start_time": "2021-11-21T15:55:21.823Z"
   },
   {
    "duration": 43,
    "start_time": "2021-11-21T15:55:21.838Z"
   },
   {
    "duration": 31,
    "start_time": "2021-11-21T15:55:21.885Z"
   },
   {
    "duration": 1146,
    "start_time": "2021-11-21T15:55:21.919Z"
   },
   {
    "duration": 4264,
    "start_time": "2021-11-21T15:55:23.068Z"
   },
   {
    "duration": 8,
    "start_time": "2021-11-21T15:55:27.335Z"
   },
   {
    "duration": 100,
    "start_time": "2021-11-21T15:56:27.589Z"
   },
   {
    "duration": 44,
    "start_time": "2021-11-21T16:17:01.378Z"
   },
   {
    "duration": 120,
    "start_time": "2021-11-21T16:17:32.189Z"
   },
   {
    "duration": 4809,
    "start_time": "2021-11-21T16:17:40.409Z"
   },
   {
    "duration": 4462,
    "start_time": "2021-11-21T16:18:08.244Z"
   },
   {
    "duration": 128,
    "start_time": "2021-11-21T16:18:52.576Z"
   },
   {
    "duration": 2291,
    "start_time": "2021-11-21T16:18:58.017Z"
   },
   {
    "duration": 2331,
    "start_time": "2021-11-21T16:19:18.785Z"
   },
   {
    "duration": 351,
    "start_time": "2021-11-21T16:19:30.379Z"
   },
   {
    "duration": 22,
    "start_time": "2021-11-21T16:20:01.405Z"
   },
   {
    "duration": 8,
    "start_time": "2021-11-21T16:20:40.586Z"
   },
   {
    "duration": 7,
    "start_time": "2021-11-21T16:20:49.365Z"
   },
   {
    "duration": 7,
    "start_time": "2021-11-21T16:21:31.803Z"
   },
   {
    "duration": 5,
    "start_time": "2021-11-21T16:23:30.374Z"
   },
   {
    "duration": 4193,
    "start_time": "2021-11-21T16:24:13.336Z"
   },
   {
    "duration": 497,
    "start_time": "2021-11-21T16:24:53.199Z"
   },
   {
    "duration": 2312,
    "start_time": "2021-11-21T16:25:04.324Z"
   },
   {
    "duration": 447,
    "start_time": "2021-11-21T16:25:39.599Z"
   },
   {
    "duration": 21,
    "start_time": "2021-11-21T16:25:48.634Z"
   },
   {
    "duration": 969,
    "start_time": "2021-11-21T16:26:47.379Z"
   },
   {
    "duration": 65,
    "start_time": "2021-11-21T16:26:48.351Z"
   },
   {
    "duration": 32,
    "start_time": "2021-11-21T16:26:48.419Z"
   },
   {
    "duration": 35,
    "start_time": "2021-11-21T16:26:48.454Z"
   },
   {
    "duration": 3,
    "start_time": "2021-11-21T16:26:48.492Z"
   },
   {
    "duration": 14,
    "start_time": "2021-11-21T16:26:48.498Z"
   },
   {
    "duration": 10,
    "start_time": "2021-11-21T16:26:48.515Z"
   },
   {
    "duration": 68,
    "start_time": "2021-11-21T16:26:48.530Z"
   },
   {
    "duration": 32,
    "start_time": "2021-11-21T16:26:48.602Z"
   },
   {
    "duration": 46,
    "start_time": "2021-11-21T16:26:48.638Z"
   },
   {
    "duration": 63,
    "start_time": "2021-11-21T16:26:48.687Z"
   },
   {
    "duration": 43,
    "start_time": "2021-11-21T16:26:48.753Z"
   },
   {
    "duration": 36,
    "start_time": "2021-11-21T16:26:48.798Z"
   },
   {
    "duration": 46,
    "start_time": "2021-11-21T16:26:48.836Z"
   },
   {
    "duration": 44,
    "start_time": "2021-11-21T16:26:48.884Z"
   },
   {
    "duration": 9,
    "start_time": "2021-11-21T16:26:48.931Z"
   },
   {
    "duration": 6,
    "start_time": "2021-11-21T16:26:48.943Z"
   },
   {
    "duration": 30,
    "start_time": "2021-11-21T16:26:48.952Z"
   },
   {
    "duration": 3,
    "start_time": "2021-11-21T16:26:48.986Z"
   },
   {
    "duration": 8,
    "start_time": "2021-11-21T16:26:48.992Z"
   },
   {
    "duration": 15,
    "start_time": "2021-11-21T16:26:49.004Z"
   },
   {
    "duration": 7,
    "start_time": "2021-11-21T16:26:49.022Z"
   },
   {
    "duration": 3,
    "start_time": "2021-11-21T16:26:49.037Z"
   },
   {
    "duration": 6,
    "start_time": "2021-11-21T16:26:49.043Z"
   },
   {
    "duration": 4,
    "start_time": "2021-11-21T16:26:49.083Z"
   },
   {
    "duration": 7,
    "start_time": "2021-11-21T16:26:49.089Z"
   },
   {
    "duration": 5,
    "start_time": "2021-11-21T16:26:49.099Z"
   },
   {
    "duration": 5,
    "start_time": "2021-11-21T16:26:49.107Z"
   },
   {
    "duration": 5,
    "start_time": "2021-11-21T16:26:49.115Z"
   },
   {
    "duration": 5,
    "start_time": "2021-11-21T16:26:49.123Z"
   },
   {
    "duration": 7,
    "start_time": "2021-11-21T16:26:49.132Z"
   },
   {
    "duration": 42,
    "start_time": "2021-11-21T16:26:49.142Z"
   },
   {
    "duration": 9,
    "start_time": "2021-11-21T16:26:49.187Z"
   },
   {
    "duration": 5,
    "start_time": "2021-11-21T16:26:49.199Z"
   },
   {
    "duration": 12,
    "start_time": "2021-11-21T16:26:49.207Z"
   },
   {
    "duration": 6,
    "start_time": "2021-11-21T16:26:49.222Z"
   },
   {
    "duration": 6,
    "start_time": "2021-11-21T16:26:49.231Z"
   },
   {
    "duration": 47,
    "start_time": "2021-11-21T16:26:49.240Z"
   },
   {
    "duration": 9,
    "start_time": "2021-11-21T16:26:49.289Z"
   },
   {
    "duration": 6,
    "start_time": "2021-11-21T16:26:49.301Z"
   },
   {
    "duration": 5,
    "start_time": "2021-11-21T16:26:49.310Z"
   },
   {
    "duration": 7,
    "start_time": "2021-11-21T16:26:49.318Z"
   },
   {
    "duration": 8,
    "start_time": "2021-11-21T16:26:49.327Z"
   },
   {
    "duration": 7,
    "start_time": "2021-11-21T16:26:49.338Z"
   },
   {
    "duration": 6,
    "start_time": "2021-11-21T16:26:49.347Z"
   },
   {
    "duration": 12,
    "start_time": "2021-11-21T16:26:49.384Z"
   },
   {
    "duration": 8,
    "start_time": "2021-11-21T16:26:49.400Z"
   },
   {
    "duration": 14,
    "start_time": "2021-11-21T16:26:49.411Z"
   },
   {
    "duration": 7,
    "start_time": "2021-11-21T16:26:49.428Z"
   },
   {
    "duration": 55,
    "start_time": "2021-11-21T16:26:49.438Z"
   },
   {
    "duration": 38,
    "start_time": "2021-11-21T16:26:49.496Z"
   },
   {
    "duration": 54,
    "start_time": "2021-11-21T16:26:49.536Z"
   },
   {
    "duration": 24,
    "start_time": "2021-11-21T16:26:49.592Z"
   },
   {
    "duration": 25,
    "start_time": "2021-11-21T16:26:49.618Z"
   },
   {
    "duration": 36,
    "start_time": "2021-11-21T16:26:49.646Z"
   },
   {
    "duration": 17,
    "start_time": "2021-11-21T16:26:49.685Z"
   },
   {
    "duration": 4,
    "start_time": "2021-11-21T16:26:49.705Z"
   },
   {
    "duration": 9,
    "start_time": "2021-11-21T16:26:49.712Z"
   },
   {
    "duration": 39,
    "start_time": "2021-11-21T16:26:49.723Z"
   },
   {
    "duration": 17,
    "start_time": "2021-11-21T16:26:49.765Z"
   },
   {
    "duration": 5648,
    "start_time": "2021-11-21T16:26:49.785Z"
   },
   {
    "duration": 4,
    "start_time": "2021-11-21T16:26:55.435Z"
   },
   {
    "duration": 462,
    "start_time": "2021-11-21T16:26:55.442Z"
   },
   {
    "duration": 21,
    "start_time": "2021-11-21T16:26:55.907Z"
   },
   {
    "duration": 447,
    "start_time": "2021-11-21T16:27:46.960Z"
   },
   {
    "duration": 21,
    "start_time": "2021-11-21T16:27:49.135Z"
   },
   {
    "duration": 11023,
    "start_time": "2021-11-21T16:30:46.850Z"
   },
   {
    "duration": 23,
    "start_time": "2021-11-21T16:30:59.789Z"
   },
   {
    "duration": 12833,
    "start_time": "2021-11-21T16:31:39.389Z"
   },
   {
    "duration": 39,
    "start_time": "2021-11-21T16:31:53.999Z"
   },
   {
    "duration": 65,
    "start_time": "2021-11-21T16:32:05.114Z"
   },
   {
    "duration": 875,
    "start_time": "2021-11-21T16:32:33.912Z"
   },
   {
    "duration": 66,
    "start_time": "2021-11-21T16:32:34.793Z"
   },
   {
    "duration": 32,
    "start_time": "2021-11-21T16:32:34.862Z"
   },
   {
    "duration": 17,
    "start_time": "2021-11-21T16:32:34.897Z"
   },
   {
    "duration": 7,
    "start_time": "2021-11-21T16:32:34.917Z"
   },
   {
    "duration": 18,
    "start_time": "2021-11-21T16:32:34.927Z"
   },
   {
    "duration": 37,
    "start_time": "2021-11-21T16:32:34.947Z"
   },
   {
    "duration": 22,
    "start_time": "2021-11-21T16:32:34.988Z"
   },
   {
    "duration": 20,
    "start_time": "2021-11-21T16:32:35.014Z"
   },
   {
    "duration": 62,
    "start_time": "2021-11-21T16:32:35.037Z"
   },
   {
    "duration": 51,
    "start_time": "2021-11-21T16:32:35.102Z"
   },
   {
    "duration": 56,
    "start_time": "2021-11-21T16:32:35.157Z"
   },
   {
    "duration": 75,
    "start_time": "2021-11-21T16:32:35.216Z"
   },
   {
    "duration": 20,
    "start_time": "2021-11-21T16:32:35.294Z"
   },
   {
    "duration": 67,
    "start_time": "2021-11-21T16:32:35.318Z"
   },
   {
    "duration": 11,
    "start_time": "2021-11-21T16:32:35.387Z"
   },
   {
    "duration": 7,
    "start_time": "2021-11-21T16:32:35.401Z"
   },
   {
    "duration": 9,
    "start_time": "2021-11-21T16:32:35.411Z"
   },
   {
    "duration": 11,
    "start_time": "2021-11-21T16:32:35.423Z"
   },
   {
    "duration": 7,
    "start_time": "2021-11-21T16:32:35.437Z"
   },
   {
    "duration": 35,
    "start_time": "2021-11-21T16:32:35.447Z"
   },
   {
    "duration": 3,
    "start_time": "2021-11-21T16:32:35.485Z"
   },
   {
    "duration": 38,
    "start_time": "2021-11-21T16:32:35.495Z"
   },
   {
    "duration": 3,
    "start_time": "2021-11-21T16:32:35.537Z"
   },
   {
    "duration": 8,
    "start_time": "2021-11-21T16:32:35.543Z"
   },
   {
    "duration": 8,
    "start_time": "2021-11-21T16:32:35.554Z"
   },
   {
    "duration": 7,
    "start_time": "2021-11-21T16:32:35.564Z"
   },
   {
    "duration": 9,
    "start_time": "2021-11-21T16:32:35.573Z"
   },
   {
    "duration": 8,
    "start_time": "2021-11-21T16:32:35.585Z"
   },
   {
    "duration": 46,
    "start_time": "2021-11-21T16:32:35.595Z"
   },
   {
    "duration": 22,
    "start_time": "2021-11-21T16:32:35.643Z"
   },
   {
    "duration": 17,
    "start_time": "2021-11-21T16:32:35.668Z"
   },
   {
    "duration": 10,
    "start_time": "2021-11-21T16:32:35.689Z"
   },
   {
    "duration": 29,
    "start_time": "2021-11-21T16:32:35.702Z"
   },
   {
    "duration": 12,
    "start_time": "2021-11-21T16:32:35.733Z"
   },
   {
    "duration": 10,
    "start_time": "2021-11-21T16:32:35.748Z"
   },
   {
    "duration": 6,
    "start_time": "2021-11-21T16:32:35.763Z"
   },
   {
    "duration": 12,
    "start_time": "2021-11-21T16:32:35.771Z"
   },
   {
    "duration": 11,
    "start_time": "2021-11-21T16:32:35.786Z"
   },
   {
    "duration": 6,
    "start_time": "2021-11-21T16:32:35.800Z"
   },
   {
    "duration": 6,
    "start_time": "2021-11-21T16:32:35.809Z"
   },
   {
    "duration": 7,
    "start_time": "2021-11-21T16:32:35.817Z"
   },
   {
    "duration": 7,
    "start_time": "2021-11-21T16:32:35.827Z"
   },
   {
    "duration": 10,
    "start_time": "2021-11-21T16:32:35.837Z"
   },
   {
    "duration": 31,
    "start_time": "2021-11-21T16:32:35.851Z"
   },
   {
    "duration": 15,
    "start_time": "2021-11-21T16:32:35.885Z"
   },
   {
    "duration": 8,
    "start_time": "2021-11-21T16:32:35.903Z"
   },
   {
    "duration": 23,
    "start_time": "2021-11-21T16:32:35.913Z"
   },
   {
    "duration": 23,
    "start_time": "2021-11-21T16:32:35.939Z"
   },
   {
    "duration": 27,
    "start_time": "2021-11-21T16:32:35.964Z"
   },
   {
    "duration": 30,
    "start_time": "2021-11-21T16:32:35.995Z"
   },
   {
    "duration": 29,
    "start_time": "2021-11-21T16:32:36.027Z"
   },
   {
    "duration": 46,
    "start_time": "2021-11-21T16:32:36.058Z"
   },
   {
    "duration": 29,
    "start_time": "2021-11-21T16:32:36.107Z"
   },
   {
    "duration": 12,
    "start_time": "2021-11-21T16:32:36.138Z"
   },
   {
    "duration": 11,
    "start_time": "2021-11-21T16:32:36.183Z"
   },
   {
    "duration": 6,
    "start_time": "2021-11-21T16:32:36.196Z"
   },
   {
    "duration": 9,
    "start_time": "2021-11-21T16:32:36.204Z"
   },
   {
    "duration": 28,
    "start_time": "2021-11-21T16:32:36.215Z"
   },
   {
    "duration": 52,
    "start_time": "2021-11-21T16:32:36.246Z"
   },
   {
    "duration": 5231,
    "start_time": "2021-11-21T16:32:36.301Z"
   },
   {
    "duration": 4,
    "start_time": "2021-11-21T16:32:41.536Z"
   },
   {
    "duration": 78,
    "start_time": "2021-11-21T16:32:41.542Z"
   },
   {
    "duration": 1426,
    "start_time": "2021-11-21T16:33:27.407Z"
   },
   {
    "duration": 4696,
    "start_time": "2021-11-21T16:33:33.968Z"
   },
   {
    "duration": 66,
    "start_time": "2021-11-21T16:33:42.691Z"
   },
   {
    "duration": 1035,
    "start_time": "2021-11-21T16:33:51.182Z"
   },
   {
    "duration": 100,
    "start_time": "2021-11-21T16:33:52.220Z"
   },
   {
    "duration": 61,
    "start_time": "2021-11-21T16:33:52.324Z"
   },
   {
    "duration": 22,
    "start_time": "2021-11-21T16:33:52.389Z"
   },
   {
    "duration": 4,
    "start_time": "2021-11-21T16:33:52.414Z"
   },
   {
    "duration": 20,
    "start_time": "2021-11-21T16:33:52.421Z"
   },
   {
    "duration": 58,
    "start_time": "2021-11-21T16:33:52.444Z"
   },
   {
    "duration": 26,
    "start_time": "2021-11-21T16:33:52.508Z"
   },
   {
    "duration": 53,
    "start_time": "2021-11-21T16:33:52.538Z"
   },
   {
    "duration": 23,
    "start_time": "2021-11-21T16:33:52.595Z"
   },
   {
    "duration": 83,
    "start_time": "2021-11-21T16:33:52.622Z"
   },
   {
    "duration": 34,
    "start_time": "2021-11-21T16:33:52.708Z"
   },
   {
    "duration": 71,
    "start_time": "2021-11-21T16:33:52.748Z"
   },
   {
    "duration": 20,
    "start_time": "2021-11-21T16:33:52.822Z"
   },
   {
    "duration": 86,
    "start_time": "2021-11-21T16:33:52.845Z"
   },
   {
    "duration": 24,
    "start_time": "2021-11-21T16:33:52.934Z"
   },
   {
    "duration": 4,
    "start_time": "2021-11-21T16:33:52.962Z"
   },
   {
    "duration": 5,
    "start_time": "2021-11-21T16:33:52.983Z"
   },
   {
    "duration": 11,
    "start_time": "2021-11-21T16:33:52.991Z"
   },
   {
    "duration": 11,
    "start_time": "2021-11-21T16:33:53.008Z"
   },
   {
    "duration": 5,
    "start_time": "2021-11-21T16:33:53.023Z"
   },
   {
    "duration": 21,
    "start_time": "2021-11-21T16:33:53.032Z"
   },
   {
    "duration": 32,
    "start_time": "2021-11-21T16:33:53.059Z"
   },
   {
    "duration": 13,
    "start_time": "2021-11-21T16:33:53.096Z"
   },
   {
    "duration": 7,
    "start_time": "2021-11-21T16:33:53.112Z"
   },
   {
    "duration": 6,
    "start_time": "2021-11-21T16:33:53.122Z"
   },
   {
    "duration": 6,
    "start_time": "2021-11-21T16:33:53.131Z"
   },
   {
    "duration": 4,
    "start_time": "2021-11-21T16:33:53.141Z"
   },
   {
    "duration": 35,
    "start_time": "2021-11-21T16:33:53.148Z"
   },
   {
    "duration": 5,
    "start_time": "2021-11-21T16:33:53.187Z"
   },
   {
    "duration": 9,
    "start_time": "2021-11-21T16:33:53.194Z"
   },
   {
    "duration": 9,
    "start_time": "2021-11-21T16:33:53.208Z"
   },
   {
    "duration": 6,
    "start_time": "2021-11-21T16:33:53.221Z"
   },
   {
    "duration": 58,
    "start_time": "2021-11-21T16:33:53.230Z"
   },
   {
    "duration": 26,
    "start_time": "2021-11-21T16:33:53.291Z"
   },
   {
    "duration": 15,
    "start_time": "2021-11-21T16:33:53.320Z"
   },
   {
    "duration": 8,
    "start_time": "2021-11-21T16:33:53.338Z"
   },
   {
    "duration": 12,
    "start_time": "2021-11-21T16:33:53.349Z"
   },
   {
    "duration": 11,
    "start_time": "2021-11-21T16:33:53.364Z"
   },
   {
    "duration": 7,
    "start_time": "2021-11-21T16:33:53.377Z"
   },
   {
    "duration": 8,
    "start_time": "2021-11-21T16:33:53.388Z"
   },
   {
    "duration": 12,
    "start_time": "2021-11-21T16:33:53.400Z"
   },
   {
    "duration": 9,
    "start_time": "2021-11-21T16:33:53.416Z"
   },
   {
    "duration": 11,
    "start_time": "2021-11-21T16:33:53.429Z"
   },
   {
    "duration": 4,
    "start_time": "2021-11-21T16:33:53.451Z"
   },
   {
    "duration": 26,
    "start_time": "2021-11-21T16:33:53.458Z"
   },
   {
    "duration": 9,
    "start_time": "2021-11-21T16:33:53.488Z"
   },
   {
    "duration": 27,
    "start_time": "2021-11-21T16:33:53.500Z"
   },
   {
    "duration": 6,
    "start_time": "2021-11-21T16:33:53.531Z"
   },
   {
    "duration": 54,
    "start_time": "2021-11-21T16:33:53.540Z"
   },
   {
    "duration": 41,
    "start_time": "2021-11-21T16:33:53.598Z"
   },
   {
    "duration": 66,
    "start_time": "2021-11-21T16:33:53.642Z"
   },
   {
    "duration": 28,
    "start_time": "2021-11-21T16:33:53.711Z"
   },
   {
    "duration": 40,
    "start_time": "2021-11-21T16:33:53.742Z"
   },
   {
    "duration": 11,
    "start_time": "2021-11-21T16:33:53.786Z"
   },
   {
    "duration": 30,
    "start_time": "2021-11-21T16:33:53.800Z"
   },
   {
    "duration": 4,
    "start_time": "2021-11-21T16:33:53.834Z"
   },
   {
    "duration": 6,
    "start_time": "2021-11-21T16:33:53.840Z"
   },
   {
    "duration": 65,
    "start_time": "2021-11-21T16:33:53.849Z"
   },
   {
    "duration": 7,
    "start_time": "2021-11-21T16:33:53.917Z"
   },
   {
    "duration": 6504,
    "start_time": "2021-11-21T16:33:53.928Z"
   },
   {
    "duration": 4,
    "start_time": "2021-11-21T16:34:00.435Z"
   },
   {
    "duration": 59,
    "start_time": "2021-11-21T16:34:00.442Z"
   },
   {
    "duration": 4695,
    "start_time": "2021-11-21T16:34:46.631Z"
   },
   {
    "duration": 7367,
    "start_time": "2021-11-21T16:35:10.006Z"
   },
   {
    "duration": 4675,
    "start_time": "2021-11-21T16:35:25.066Z"
   },
   {
    "duration": 4873,
    "start_time": "2021-11-21T16:37:19.411Z"
   },
   {
    "duration": 4818,
    "start_time": "2021-11-21T16:37:34.202Z"
   },
   {
    "duration": 975,
    "start_time": "2021-11-21T16:37:53.801Z"
   },
   {
    "duration": 70,
    "start_time": "2021-11-21T16:37:54.779Z"
   },
   {
    "duration": 61,
    "start_time": "2021-11-21T16:37:54.858Z"
   },
   {
    "duration": 17,
    "start_time": "2021-11-21T16:37:54.923Z"
   },
   {
    "duration": 9,
    "start_time": "2021-11-21T16:37:54.942Z"
   },
   {
    "duration": 39,
    "start_time": "2021-11-21T16:37:54.954Z"
   },
   {
    "duration": 13,
    "start_time": "2021-11-21T16:37:54.998Z"
   },
   {
    "duration": 79,
    "start_time": "2021-11-21T16:37:55.015Z"
   },
   {
    "duration": 36,
    "start_time": "2021-11-21T16:37:55.097Z"
   },
   {
    "duration": 23,
    "start_time": "2021-11-21T16:37:55.137Z"
   },
   {
    "duration": 63,
    "start_time": "2021-11-21T16:37:55.164Z"
   },
   {
    "duration": 54,
    "start_time": "2021-11-21T16:37:55.230Z"
   },
   {
    "duration": 39,
    "start_time": "2021-11-21T16:37:55.287Z"
   },
   {
    "duration": 17,
    "start_time": "2021-11-21T16:37:55.328Z"
   },
   {
    "duration": 79,
    "start_time": "2021-11-21T16:37:55.347Z"
   },
   {
    "duration": 10,
    "start_time": "2021-11-21T16:37:55.428Z"
   },
   {
    "duration": 17,
    "start_time": "2021-11-21T16:37:55.440Z"
   },
   {
    "duration": 13,
    "start_time": "2021-11-21T16:37:55.460Z"
   },
   {
    "duration": 14,
    "start_time": "2021-11-21T16:37:55.476Z"
   },
   {
    "duration": 11,
    "start_time": "2021-11-21T16:37:55.495Z"
   },
   {
    "duration": 10,
    "start_time": "2021-11-21T16:37:55.509Z"
   },
   {
    "duration": 10,
    "start_time": "2021-11-21T16:37:55.527Z"
   },
   {
    "duration": 10,
    "start_time": "2021-11-21T16:37:55.542Z"
   },
   {
    "duration": 18,
    "start_time": "2021-11-21T16:37:55.554Z"
   },
   {
    "duration": 18,
    "start_time": "2021-11-21T16:37:55.575Z"
   },
   {
    "duration": 18,
    "start_time": "2021-11-21T16:37:55.596Z"
   },
   {
    "duration": 15,
    "start_time": "2021-11-21T16:37:55.616Z"
   },
   {
    "duration": 14,
    "start_time": "2021-11-21T16:37:55.634Z"
   },
   {
    "duration": 11,
    "start_time": "2021-11-21T16:37:55.650Z"
   },
   {
    "duration": 10,
    "start_time": "2021-11-21T16:37:55.664Z"
   },
   {
    "duration": 24,
    "start_time": "2021-11-21T16:37:55.677Z"
   },
   {
    "duration": 15,
    "start_time": "2021-11-21T16:37:55.704Z"
   },
   {
    "duration": 17,
    "start_time": "2021-11-21T16:37:55.722Z"
   },
   {
    "duration": 16,
    "start_time": "2021-11-21T16:37:55.742Z"
   },
   {
    "duration": 10,
    "start_time": "2021-11-21T16:37:55.760Z"
   },
   {
    "duration": 6,
    "start_time": "2021-11-21T16:37:55.773Z"
   },
   {
    "duration": 15,
    "start_time": "2021-11-21T16:37:55.782Z"
   },
   {
    "duration": 9,
    "start_time": "2021-11-21T16:37:55.800Z"
   },
   {
    "duration": 7,
    "start_time": "2021-11-21T16:37:55.812Z"
   },
   {
    "duration": 6,
    "start_time": "2021-11-21T16:37:55.822Z"
   },
   {
    "duration": 5,
    "start_time": "2021-11-21T16:37:55.831Z"
   },
   {
    "duration": 6,
    "start_time": "2021-11-21T16:37:55.839Z"
   },
   {
    "duration": 39,
    "start_time": "2021-11-21T16:37:55.847Z"
   },
   {
    "duration": 4,
    "start_time": "2021-11-21T16:37:55.888Z"
   },
   {
    "duration": 6,
    "start_time": "2021-11-21T16:37:55.894Z"
   },
   {
    "duration": 7,
    "start_time": "2021-11-21T16:37:55.902Z"
   },
   {
    "duration": 6,
    "start_time": "2021-11-21T16:37:55.911Z"
   },
   {
    "duration": 21,
    "start_time": "2021-11-21T16:37:55.919Z"
   },
   {
    "duration": 43,
    "start_time": "2021-11-21T16:37:55.942Z"
   },
   {
    "duration": 40,
    "start_time": "2021-11-21T16:37:55.994Z"
   },
   {
    "duration": 55,
    "start_time": "2021-11-21T16:37:56.038Z"
   },
   {
    "duration": 32,
    "start_time": "2021-11-21T16:37:56.096Z"
   },
   {
    "duration": 26,
    "start_time": "2021-11-21T16:37:56.130Z"
   },
   {
    "duration": 54,
    "start_time": "2021-11-21T16:37:56.158Z"
   },
   {
    "duration": 12,
    "start_time": "2021-11-21T16:37:56.216Z"
   },
   {
    "duration": 21,
    "start_time": "2021-11-21T16:37:56.231Z"
   },
   {
    "duration": 28,
    "start_time": "2021-11-21T16:37:56.255Z"
   },
   {
    "duration": 17,
    "start_time": "2021-11-21T16:37:56.286Z"
   },
   {
    "duration": 36,
    "start_time": "2021-11-21T16:37:56.306Z"
   },
   {
    "duration": 4,
    "start_time": "2021-11-21T16:37:56.344Z"
   },
   {
    "duration": 5764,
    "start_time": "2021-11-21T16:37:56.351Z"
   },
   {
    "duration": 4,
    "start_time": "2021-11-21T16:38:02.118Z"
   },
   {
    "duration": 47,
    "start_time": "2021-11-21T16:38:02.124Z"
   },
   {
    "duration": 8791,
    "start_time": "2021-11-21T16:47:12.506Z"
   },
   {
    "duration": 9772,
    "start_time": "2021-11-21T16:47:39.789Z"
   },
   {
    "duration": 8208,
    "start_time": "2021-11-21T16:48:55.264Z"
   },
   {
    "duration": 8713,
    "start_time": "2021-11-21T16:49:08.334Z"
   },
   {
    "duration": 4866,
    "start_time": "2021-11-21T16:50:19.007Z"
   },
   {
    "duration": 974,
    "start_time": "2021-11-21T16:50:49.766Z"
   },
   {
    "duration": 95,
    "start_time": "2021-11-21T16:50:50.744Z"
   },
   {
    "duration": 52,
    "start_time": "2021-11-21T16:50:50.843Z"
   },
   {
    "duration": 23,
    "start_time": "2021-11-21T16:50:50.899Z"
   },
   {
    "duration": 4,
    "start_time": "2021-11-21T16:50:50.924Z"
   },
   {
    "duration": 54,
    "start_time": "2021-11-21T16:50:50.930Z"
   },
   {
    "duration": 9,
    "start_time": "2021-11-21T16:50:50.988Z"
   },
   {
    "duration": 21,
    "start_time": "2021-11-21T16:50:51.001Z"
   },
   {
    "duration": 57,
    "start_time": "2021-11-21T16:50:51.026Z"
   },
   {
    "duration": 18,
    "start_time": "2021-11-21T16:50:51.086Z"
   },
   {
    "duration": 43,
    "start_time": "2021-11-21T16:50:51.106Z"
   },
   {
    "duration": 64,
    "start_time": "2021-11-21T16:50:51.152Z"
   },
   {
    "duration": 65,
    "start_time": "2021-11-21T16:50:51.220Z"
   },
   {
    "duration": 18,
    "start_time": "2021-11-21T16:50:51.287Z"
   },
   {
    "duration": 79,
    "start_time": "2021-11-21T16:50:51.307Z"
   },
   {
    "duration": 9,
    "start_time": "2021-11-21T16:50:51.389Z"
   },
   {
    "duration": 16,
    "start_time": "2021-11-21T16:50:51.401Z"
   },
   {
    "duration": 6,
    "start_time": "2021-11-21T16:50:51.420Z"
   },
   {
    "duration": 7,
    "start_time": "2021-11-21T16:50:51.429Z"
   },
   {
    "duration": 6,
    "start_time": "2021-11-21T16:50:51.439Z"
   },
   {
    "duration": 34,
    "start_time": "2021-11-21T16:50:51.448Z"
   },
   {
    "duration": 7,
    "start_time": "2021-11-21T16:50:51.485Z"
   },
   {
    "duration": 5,
    "start_time": "2021-11-21T16:50:51.504Z"
   },
   {
    "duration": 10,
    "start_time": "2021-11-21T16:50:51.514Z"
   },
   {
    "duration": 5,
    "start_time": "2021-11-21T16:50:51.527Z"
   },
   {
    "duration": 8,
    "start_time": "2021-11-21T16:50:51.534Z"
   },
   {
    "duration": 40,
    "start_time": "2021-11-21T16:50:51.545Z"
   },
   {
    "duration": 7,
    "start_time": "2021-11-21T16:50:51.588Z"
   },
   {
    "duration": 6,
    "start_time": "2021-11-21T16:50:51.598Z"
   },
   {
    "duration": 5,
    "start_time": "2021-11-21T16:50:51.607Z"
   },
   {
    "duration": 3,
    "start_time": "2021-11-21T16:50:51.620Z"
   },
   {
    "duration": 5,
    "start_time": "2021-11-21T16:50:51.626Z"
   },
   {
    "duration": 4,
    "start_time": "2021-11-21T16:50:51.682Z"
   },
   {
    "duration": 8,
    "start_time": "2021-11-21T16:50:51.689Z"
   },
   {
    "duration": 9,
    "start_time": "2021-11-21T16:50:51.700Z"
   },
   {
    "duration": 6,
    "start_time": "2021-11-21T16:50:51.712Z"
   },
   {
    "duration": 6,
    "start_time": "2021-11-21T16:50:51.722Z"
   },
   {
    "duration": 11,
    "start_time": "2021-11-21T16:50:51.730Z"
   },
   {
    "duration": 4,
    "start_time": "2021-11-21T16:50:51.784Z"
   },
   {
    "duration": 5,
    "start_time": "2021-11-21T16:50:51.792Z"
   },
   {
    "duration": 33,
    "start_time": "2021-11-21T16:50:51.800Z"
   },
   {
    "duration": 11,
    "start_time": "2021-11-21T16:50:51.836Z"
   },
   {
    "duration": 7,
    "start_time": "2021-11-21T16:50:51.851Z"
   },
   {
    "duration": 20,
    "start_time": "2021-11-21T16:50:51.861Z"
   },
   {
    "duration": 4,
    "start_time": "2021-11-21T16:50:51.887Z"
   },
   {
    "duration": 9,
    "start_time": "2021-11-21T16:50:51.895Z"
   },
   {
    "duration": 8,
    "start_time": "2021-11-21T16:50:51.907Z"
   },
   {
    "duration": 14,
    "start_time": "2021-11-21T16:50:51.918Z"
   },
   {
    "duration": 21,
    "start_time": "2021-11-21T16:50:51.935Z"
   },
   {
    "duration": 51,
    "start_time": "2021-11-21T16:50:51.959Z"
   },
   {
    "duration": 38,
    "start_time": "2021-11-21T16:50:52.015Z"
   },
   {
    "duration": 57,
    "start_time": "2021-11-21T16:50:52.056Z"
   },
   {
    "duration": 35,
    "start_time": "2021-11-21T16:50:52.116Z"
   },
   {
    "duration": 29,
    "start_time": "2021-11-21T16:50:52.182Z"
   },
   {
    "duration": 28,
    "start_time": "2021-11-21T16:50:52.214Z"
   },
   {
    "duration": 15,
    "start_time": "2021-11-21T16:50:52.245Z"
   },
   {
    "duration": 20,
    "start_time": "2021-11-21T16:50:52.263Z"
   },
   {
    "duration": 5,
    "start_time": "2021-11-21T16:50:52.288Z"
   },
   {
    "duration": 42,
    "start_time": "2021-11-21T16:50:52.296Z"
   },
   {
    "duration": 10,
    "start_time": "2021-11-21T16:50:52.341Z"
   },
   {
    "duration": 6855,
    "start_time": "2021-11-21T16:50:52.383Z"
   },
   {
    "duration": 4,
    "start_time": "2021-11-21T16:50:59.242Z"
   },
   {
    "duration": 17,
    "start_time": "2021-11-21T16:50:59.249Z"
   },
   {
    "duration": 106,
    "start_time": "2021-11-21T16:50:59.268Z"
   },
   {
    "duration": 9446,
    "start_time": "2021-11-21T16:51:34.540Z"
   },
   {
    "duration": 782,
    "start_time": "2021-11-21T16:52:04.100Z"
   },
   {
    "duration": 68,
    "start_time": "2021-11-21T16:52:04.885Z"
   },
   {
    "duration": 36,
    "start_time": "2021-11-21T16:52:04.955Z"
   },
   {
    "duration": 23,
    "start_time": "2021-11-21T16:52:04.994Z"
   },
   {
    "duration": 9,
    "start_time": "2021-11-21T16:52:05.020Z"
   },
   {
    "duration": 18,
    "start_time": "2021-11-21T16:52:05.032Z"
   },
   {
    "duration": 31,
    "start_time": "2021-11-21T16:52:05.053Z"
   },
   {
    "duration": 21,
    "start_time": "2021-11-21T16:52:05.090Z"
   },
   {
    "duration": 20,
    "start_time": "2021-11-21T16:52:05.115Z"
   },
   {
    "duration": 48,
    "start_time": "2021-11-21T16:52:05.138Z"
   },
   {
    "duration": 56,
    "start_time": "2021-11-21T16:52:05.188Z"
   },
   {
    "duration": 35,
    "start_time": "2021-11-21T16:52:05.247Z"
   },
   {
    "duration": 39,
    "start_time": "2021-11-21T16:52:05.284Z"
   },
   {
    "duration": 18,
    "start_time": "2021-11-21T16:52:05.325Z"
   },
   {
    "duration": 72,
    "start_time": "2021-11-21T16:52:05.345Z"
   },
   {
    "duration": 8,
    "start_time": "2021-11-21T16:52:05.419Z"
   },
   {
    "duration": 8,
    "start_time": "2021-11-21T16:52:05.430Z"
   },
   {
    "duration": 15,
    "start_time": "2021-11-21T16:52:05.440Z"
   },
   {
    "duration": 11,
    "start_time": "2021-11-21T16:52:05.458Z"
   },
   {
    "duration": 3,
    "start_time": "2021-11-21T16:52:05.483Z"
   },
   {
    "duration": 7,
    "start_time": "2021-11-21T16:52:05.490Z"
   },
   {
    "duration": 12,
    "start_time": "2021-11-21T16:52:05.500Z"
   },
   {
    "duration": 4,
    "start_time": "2021-11-21T16:52:05.523Z"
   },
   {
    "duration": 6,
    "start_time": "2021-11-21T16:52:05.531Z"
   },
   {
    "duration": 18,
    "start_time": "2021-11-21T16:52:05.539Z"
   },
   {
    "duration": 3,
    "start_time": "2021-11-21T16:52:05.584Z"
   },
   {
    "duration": 10,
    "start_time": "2021-11-21T16:52:05.590Z"
   },
   {
    "duration": 15,
    "start_time": "2021-11-21T16:52:05.602Z"
   },
   {
    "duration": 8,
    "start_time": "2021-11-21T16:52:05.620Z"
   },
   {
    "duration": 12,
    "start_time": "2021-11-21T16:52:05.630Z"
   },
   {
    "duration": 10,
    "start_time": "2021-11-21T16:52:05.645Z"
   },
   {
    "duration": 9,
    "start_time": "2021-11-21T16:52:05.660Z"
   },
   {
    "duration": 12,
    "start_time": "2021-11-21T16:52:05.672Z"
   },
   {
    "duration": 13,
    "start_time": "2021-11-21T16:52:05.687Z"
   },
   {
    "duration": 10,
    "start_time": "2021-11-21T16:52:05.703Z"
   },
   {
    "duration": 10,
    "start_time": "2021-11-21T16:52:05.716Z"
   },
   {
    "duration": 16,
    "start_time": "2021-11-21T16:52:05.729Z"
   },
   {
    "duration": 12,
    "start_time": "2021-11-21T16:52:05.748Z"
   },
   {
    "duration": 7,
    "start_time": "2021-11-21T16:52:05.763Z"
   },
   {
    "duration": 9,
    "start_time": "2021-11-21T16:52:05.772Z"
   },
   {
    "duration": 7,
    "start_time": "2021-11-21T16:52:05.783Z"
   },
   {
    "duration": 17,
    "start_time": "2021-11-21T16:52:05.792Z"
   },
   {
    "duration": 15,
    "start_time": "2021-11-21T16:52:05.812Z"
   },
   {
    "duration": 16,
    "start_time": "2021-11-21T16:52:05.830Z"
   },
   {
    "duration": 10,
    "start_time": "2021-11-21T16:52:05.849Z"
   },
   {
    "duration": 7,
    "start_time": "2021-11-21T16:52:05.861Z"
   },
   {
    "duration": 16,
    "start_time": "2021-11-21T16:52:05.871Z"
   },
   {
    "duration": 26,
    "start_time": "2021-11-21T16:52:05.890Z"
   },
   {
    "duration": 14,
    "start_time": "2021-11-21T16:52:05.919Z"
   },
   {
    "duration": 28,
    "start_time": "2021-11-21T16:52:05.936Z"
   },
   {
    "duration": 49,
    "start_time": "2021-11-21T16:52:05.967Z"
   },
   {
    "duration": 30,
    "start_time": "2021-11-21T16:52:06.018Z"
   },
   {
    "duration": 47,
    "start_time": "2021-11-21T16:52:06.051Z"
   },
   {
    "duration": 39,
    "start_time": "2021-11-21T16:52:06.101Z"
   },
   {
    "duration": 11,
    "start_time": "2021-11-21T16:52:06.144Z"
   },
   {
    "duration": 33,
    "start_time": "2021-11-21T16:52:06.157Z"
   },
   {
    "duration": 13,
    "start_time": "2021-11-21T16:52:06.193Z"
   },
   {
    "duration": 16,
    "start_time": "2021-11-21T16:52:06.208Z"
   },
   {
    "duration": 30,
    "start_time": "2021-11-21T16:52:06.226Z"
   },
   {
    "duration": 3,
    "start_time": "2021-11-21T16:52:06.260Z"
   },
   {
    "duration": 5554,
    "start_time": "2021-11-21T16:52:06.266Z"
   },
   {
    "duration": 7,
    "start_time": "2021-11-21T16:52:11.826Z"
   },
   {
    "duration": 4,
    "start_time": "2021-11-21T16:52:11.837Z"
   },
   {
    "duration": 9,
    "start_time": "2021-11-21T16:53:03.204Z"
   },
   {
    "duration": 7987,
    "start_time": "2021-11-21T16:53:11.274Z"
   },
   {
    "duration": 7,
    "start_time": "2021-11-21T16:53:26.609Z"
   },
   {
    "duration": 7520,
    "start_time": "2021-11-21T16:53:59.019Z"
   },
   {
    "duration": 10,
    "start_time": "2021-11-21T16:54:20.091Z"
   },
   {
    "duration": 332,
    "start_time": "2021-11-21T16:56:08.021Z"
   },
   {
    "duration": 790,
    "start_time": "2021-11-21T16:57:21.408Z"
   },
   {
    "duration": 66,
    "start_time": "2021-11-21T16:57:22.201Z"
   },
   {
    "duration": 38,
    "start_time": "2021-11-21T16:57:22.271Z"
   },
   {
    "duration": 16,
    "start_time": "2021-11-21T16:57:22.312Z"
   },
   {
    "duration": 4,
    "start_time": "2021-11-21T16:57:22.331Z"
   },
   {
    "duration": 52,
    "start_time": "2021-11-21T16:57:22.337Z"
   },
   {
    "duration": 10,
    "start_time": "2021-11-21T16:57:22.391Z"
   },
   {
    "duration": 23,
    "start_time": "2021-11-21T16:57:22.406Z"
   },
   {
    "duration": 54,
    "start_time": "2021-11-21T16:57:22.434Z"
   },
   {
    "duration": 17,
    "start_time": "2021-11-21T16:57:22.491Z"
   },
   {
    "duration": 41,
    "start_time": "2021-11-21T16:57:22.511Z"
   },
   {
    "duration": 27,
    "start_time": "2021-11-21T16:57:22.582Z"
   },
   {
    "duration": 36,
    "start_time": "2021-11-21T16:57:22.612Z"
   },
   {
    "duration": 46,
    "start_time": "2021-11-21T16:57:22.651Z"
   },
   {
    "duration": 44,
    "start_time": "2021-11-21T16:57:22.700Z"
   },
   {
    "duration": 36,
    "start_time": "2021-11-21T16:57:22.747Z"
   },
   {
    "duration": 8,
    "start_time": "2021-11-21T16:57:22.785Z"
   },
   {
    "duration": 8,
    "start_time": "2021-11-21T16:57:22.795Z"
   },
   {
    "duration": 7,
    "start_time": "2021-11-21T16:57:22.806Z"
   },
   {
    "duration": 6,
    "start_time": "2021-11-21T16:57:22.815Z"
   },
   {
    "duration": 7,
    "start_time": "2021-11-21T16:57:22.824Z"
   },
   {
    "duration": 12,
    "start_time": "2021-11-21T16:57:22.834Z"
   },
   {
    "duration": 4,
    "start_time": "2021-11-21T16:57:22.886Z"
   },
   {
    "duration": 14,
    "start_time": "2021-11-21T16:57:22.894Z"
   },
   {
    "duration": 5,
    "start_time": "2021-11-21T16:57:22.911Z"
   },
   {
    "duration": 6,
    "start_time": "2021-11-21T16:57:22.919Z"
   },
   {
    "duration": 5,
    "start_time": "2021-11-21T16:57:22.928Z"
   },
   {
    "duration": 5,
    "start_time": "2021-11-21T16:57:22.936Z"
   },
   {
    "duration": 50,
    "start_time": "2021-11-21T16:57:22.944Z"
   },
   {
    "duration": 5,
    "start_time": "2021-11-21T16:57:22.997Z"
   },
   {
    "duration": 6,
    "start_time": "2021-11-21T16:57:23.005Z"
   },
   {
    "duration": 6,
    "start_time": "2021-11-21T16:57:23.013Z"
   },
   {
    "duration": 7,
    "start_time": "2021-11-21T16:57:23.022Z"
   },
   {
    "duration": 50,
    "start_time": "2021-11-21T16:57:23.032Z"
   },
   {
    "duration": 3,
    "start_time": "2021-11-21T16:57:23.085Z"
   },
   {
    "duration": 5,
    "start_time": "2021-11-21T16:57:23.091Z"
   },
   {
    "duration": 7,
    "start_time": "2021-11-21T16:57:23.099Z"
   },
   {
    "duration": 8,
    "start_time": "2021-11-21T16:57:23.109Z"
   },
   {
    "duration": 7,
    "start_time": "2021-11-21T16:57:23.120Z"
   },
   {
    "duration": 6,
    "start_time": "2021-11-21T16:57:23.130Z"
   },
   {
    "duration": 6,
    "start_time": "2021-11-21T16:57:23.139Z"
   },
   {
    "duration": 10,
    "start_time": "2021-11-21T16:57:23.184Z"
   },
   {
    "duration": 7,
    "start_time": "2021-11-21T16:57:23.197Z"
   },
   {
    "duration": 4,
    "start_time": "2021-11-21T16:57:23.207Z"
   },
   {
    "duration": 5,
    "start_time": "2021-11-21T16:57:23.214Z"
   },
   {
    "duration": 43,
    "start_time": "2021-11-21T16:57:23.221Z"
   },
   {
    "duration": 4,
    "start_time": "2021-11-21T16:57:23.267Z"
   },
   {
    "duration": 14,
    "start_time": "2021-11-21T16:57:23.273Z"
   },
   {
    "duration": 7,
    "start_time": "2021-11-21T16:57:23.290Z"
   },
   {
    "duration": 19,
    "start_time": "2021-11-21T16:57:23.300Z"
   },
   {
    "duration": 61,
    "start_time": "2021-11-21T16:57:23.322Z"
   },
   {
    "duration": 67,
    "start_time": "2021-11-21T16:57:23.387Z"
   },
   {
    "duration": 42,
    "start_time": "2021-11-21T16:57:23.458Z"
   },
   {
    "duration": 40,
    "start_time": "2021-11-21T16:57:23.503Z"
   },
   {
    "duration": 10,
    "start_time": "2021-11-21T16:57:23.546Z"
   },
   {
    "duration": 11,
    "start_time": "2021-11-21T16:57:23.583Z"
   },
   {
    "duration": 4,
    "start_time": "2021-11-21T16:57:23.597Z"
   },
   {
    "duration": 12,
    "start_time": "2021-11-21T16:57:23.605Z"
   },
   {
    "duration": 29,
    "start_time": "2021-11-21T16:57:23.619Z"
   },
   {
    "duration": 4,
    "start_time": "2021-11-21T16:57:23.683Z"
   },
   {
    "duration": 5113,
    "start_time": "2021-11-21T16:57:23.690Z"
   },
   {
    "duration": 3,
    "start_time": "2021-11-21T16:57:28.805Z"
   },
   {
    "duration": 7,
    "start_time": "2021-11-21T16:57:28.811Z"
   },
   {
    "duration": 1097,
    "start_time": "2021-11-21T16:57:41.207Z"
   },
   {
    "duration": 113,
    "start_time": "2021-11-21T16:57:42.308Z"
   },
   {
    "duration": 31,
    "start_time": "2021-11-21T16:57:42.424Z"
   },
   {
    "duration": 34,
    "start_time": "2021-11-21T16:57:42.457Z"
   },
   {
    "duration": 4,
    "start_time": "2021-11-21T16:57:42.494Z"
   },
   {
    "duration": 12,
    "start_time": "2021-11-21T16:57:42.501Z"
   },
   {
    "duration": 8,
    "start_time": "2021-11-21T16:57:42.515Z"
   },
   {
    "duration": 68,
    "start_time": "2021-11-21T16:57:42.528Z"
   },
   {
    "duration": 22,
    "start_time": "2021-11-21T16:57:42.599Z"
   },
   {
    "duration": 16,
    "start_time": "2021-11-21T16:57:42.623Z"
   },
   {
    "duration": 96,
    "start_time": "2021-11-21T16:57:42.643Z"
   },
   {
    "duration": 56,
    "start_time": "2021-11-21T16:57:42.742Z"
   },
   {
    "duration": 60,
    "start_time": "2021-11-21T16:57:42.801Z"
   },
   {
    "duration": 43,
    "start_time": "2021-11-21T16:57:42.864Z"
   },
   {
    "duration": 91,
    "start_time": "2021-11-21T16:57:42.911Z"
   },
   {
    "duration": 13,
    "start_time": "2021-11-21T16:57:43.005Z"
   },
   {
    "duration": 6,
    "start_time": "2021-11-21T16:57:43.021Z"
   },
   {
    "duration": 5,
    "start_time": "2021-11-21T16:57:43.030Z"
   },
   {
    "duration": 6,
    "start_time": "2021-11-21T16:57:43.039Z"
   },
   {
    "duration": 36,
    "start_time": "2021-11-21T16:57:43.047Z"
   },
   {
    "duration": 8,
    "start_time": "2021-11-21T16:57:43.086Z"
   },
   {
    "duration": 8,
    "start_time": "2021-11-21T16:57:43.097Z"
   },
   {
    "duration": 3,
    "start_time": "2021-11-21T16:57:43.111Z"
   },
   {
    "duration": 5,
    "start_time": "2021-11-21T16:57:43.117Z"
   },
   {
    "duration": 7,
    "start_time": "2021-11-21T16:57:43.125Z"
   },
   {
    "duration": 8,
    "start_time": "2021-11-21T16:57:43.135Z"
   },
   {
    "duration": 36,
    "start_time": "2021-11-21T16:57:43.146Z"
   },
   {
    "duration": 10,
    "start_time": "2021-11-21T16:57:43.184Z"
   },
   {
    "duration": 11,
    "start_time": "2021-11-21T16:57:43.197Z"
   },
   {
    "duration": 9,
    "start_time": "2021-11-21T16:57:43.211Z"
   },
   {
    "duration": 18,
    "start_time": "2021-11-21T16:57:43.223Z"
   },
   {
    "duration": 8,
    "start_time": "2021-11-21T16:57:43.244Z"
   },
   {
    "duration": 7,
    "start_time": "2021-11-21T16:57:43.255Z"
   },
   {
    "duration": 26,
    "start_time": "2021-11-21T16:57:43.265Z"
   },
   {
    "duration": 17,
    "start_time": "2021-11-21T16:57:43.294Z"
   },
   {
    "duration": 15,
    "start_time": "2021-11-21T16:57:43.314Z"
   },
   {
    "duration": 9,
    "start_time": "2021-11-21T16:57:43.332Z"
   },
   {
    "duration": 15,
    "start_time": "2021-11-21T16:57:43.343Z"
   },
   {
    "duration": 39,
    "start_time": "2021-11-21T16:57:43.360Z"
   },
   {
    "duration": 71,
    "start_time": "2021-11-21T16:57:43.401Z"
   },
   {
    "duration": 54,
    "start_time": "2021-11-21T16:57:43.474Z"
   },
   {
    "duration": 9,
    "start_time": "2021-11-21T16:57:43.531Z"
   },
   {
    "duration": 10,
    "start_time": "2021-11-21T16:57:43.544Z"
   },
   {
    "duration": 8,
    "start_time": "2021-11-21T16:57:43.557Z"
   },
   {
    "duration": 12,
    "start_time": "2021-11-21T16:57:43.568Z"
   },
   {
    "duration": 9,
    "start_time": "2021-11-21T16:57:43.584Z"
   },
   {
    "duration": 20,
    "start_time": "2021-11-21T16:57:43.596Z"
   },
   {
    "duration": 26,
    "start_time": "2021-11-21T16:57:43.619Z"
   },
   {
    "duration": 6,
    "start_time": "2021-11-21T16:57:43.648Z"
   },
   {
    "duration": 22,
    "start_time": "2021-11-21T16:57:43.656Z"
   },
   {
    "duration": 39,
    "start_time": "2021-11-21T16:57:43.680Z"
   },
   {
    "duration": 30,
    "start_time": "2021-11-21T16:57:43.722Z"
   },
   {
    "duration": 38,
    "start_time": "2021-11-21T16:57:43.755Z"
   },
   {
    "duration": 41,
    "start_time": "2021-11-21T16:57:43.796Z"
   },
   {
    "duration": 10,
    "start_time": "2021-11-21T16:57:43.840Z"
   },
   {
    "duration": 33,
    "start_time": "2021-11-21T16:57:43.853Z"
   },
   {
    "duration": 5,
    "start_time": "2021-11-21T16:57:43.889Z"
   },
   {
    "duration": 8,
    "start_time": "2021-11-21T16:57:43.896Z"
   },
   {
    "duration": 29,
    "start_time": "2021-11-21T16:57:43.907Z"
   },
   {
    "duration": 6,
    "start_time": "2021-11-21T16:57:43.939Z"
   },
   {
    "duration": 47,
    "start_time": "2021-11-21T16:57:43.947Z"
   },
   {
    "duration": 11,
    "start_time": "2021-11-21T16:57:43.996Z"
   },
   {
    "duration": 13,
    "start_time": "2021-11-21T16:57:44.010Z"
   },
   {
    "duration": 5014,
    "start_time": "2021-11-21T16:58:43.214Z"
   },
   {
    "duration": 41,
    "start_time": "2021-11-21T16:58:56.883Z"
   },
   {
    "duration": 3910,
    "start_time": "2021-11-21T16:59:46.516Z"
   },
   {
    "duration": 42,
    "start_time": "2021-11-21T17:00:11.708Z"
   },
   {
    "duration": 1156,
    "start_time": "2021-11-21T17:00:39.884Z"
   },
   {
    "duration": 95,
    "start_time": "2021-11-21T17:00:41.046Z"
   },
   {
    "duration": 53,
    "start_time": "2021-11-21T17:00:41.145Z"
   },
   {
    "duration": 23,
    "start_time": "2021-11-21T17:00:41.202Z"
   },
   {
    "duration": 4,
    "start_time": "2021-11-21T17:00:41.228Z"
   },
   {
    "duration": 51,
    "start_time": "2021-11-21T17:00:41.236Z"
   },
   {
    "duration": 15,
    "start_time": "2021-11-21T17:00:41.290Z"
   },
   {
    "duration": 36,
    "start_time": "2021-11-21T17:00:41.315Z"
   },
   {
    "duration": 33,
    "start_time": "2021-11-21T17:00:41.391Z"
   },
   {
    "duration": 23,
    "start_time": "2021-11-21T17:00:41.428Z"
   },
   {
    "duration": 84,
    "start_time": "2021-11-21T17:00:41.454Z"
   },
   {
    "duration": 60,
    "start_time": "2021-11-21T17:00:41.541Z"
   },
   {
    "duration": 54,
    "start_time": "2021-11-21T17:00:41.604Z"
   },
   {
    "duration": 39,
    "start_time": "2021-11-21T17:00:41.662Z"
   },
   {
    "duration": 95,
    "start_time": "2021-11-21T17:00:41.705Z"
   },
   {
    "duration": 13,
    "start_time": "2021-11-21T17:00:41.804Z"
   },
   {
    "duration": 4,
    "start_time": "2021-11-21T17:00:41.822Z"
   },
   {
    "duration": 7,
    "start_time": "2021-11-21T17:00:41.829Z"
   },
   {
    "duration": 42,
    "start_time": "2021-11-21T17:00:41.840Z"
   },
   {
    "duration": 8,
    "start_time": "2021-11-21T17:00:41.890Z"
   },
   {
    "duration": 9,
    "start_time": "2021-11-21T17:00:41.901Z"
   },
   {
    "duration": 7,
    "start_time": "2021-11-21T17:00:41.914Z"
   },
   {
    "duration": 8,
    "start_time": "2021-11-21T17:00:41.931Z"
   },
   {
    "duration": 4,
    "start_time": "2021-11-21T17:00:41.945Z"
   },
   {
    "duration": 4,
    "start_time": "2021-11-21T17:00:41.984Z"
   },
   {
    "duration": 6,
    "start_time": "2021-11-21T17:00:41.991Z"
   },
   {
    "duration": 8,
    "start_time": "2021-11-21T17:00:42.000Z"
   },
   {
    "duration": 6,
    "start_time": "2021-11-21T17:00:42.012Z"
   },
   {
    "duration": 15,
    "start_time": "2021-11-21T17:00:42.022Z"
   },
   {
    "duration": 43,
    "start_time": "2021-11-21T17:00:42.041Z"
   },
   {
    "duration": 9,
    "start_time": "2021-11-21T17:00:42.087Z"
   },
   {
    "duration": 7,
    "start_time": "2021-11-21T17:00:42.102Z"
   },
   {
    "duration": 6,
    "start_time": "2021-11-21T17:00:42.112Z"
   },
   {
    "duration": 10,
    "start_time": "2021-11-21T17:00:42.121Z"
   },
   {
    "duration": 10,
    "start_time": "2021-11-21T17:00:42.135Z"
   },
   {
    "duration": 5,
    "start_time": "2021-11-21T17:00:42.181Z"
   },
   {
    "duration": 14,
    "start_time": "2021-11-21T17:00:42.189Z"
   },
   {
    "duration": 40,
    "start_time": "2021-11-21T17:00:42.207Z"
   },
   {
    "duration": 6,
    "start_time": "2021-11-21T17:00:42.251Z"
   },
   {
    "duration": 7,
    "start_time": "2021-11-21T17:00:42.260Z"
   },
   {
    "duration": 27,
    "start_time": "2021-11-21T17:00:42.270Z"
   },
   {
    "duration": 5,
    "start_time": "2021-11-21T17:00:42.301Z"
   },
   {
    "duration": 8,
    "start_time": "2021-11-21T17:00:42.310Z"
   },
   {
    "duration": 8,
    "start_time": "2021-11-21T17:00:42.321Z"
   },
   {
    "duration": 10,
    "start_time": "2021-11-21T17:00:42.333Z"
   },
   {
    "duration": 36,
    "start_time": "2021-11-21T17:00:42.347Z"
   },
   {
    "duration": 19,
    "start_time": "2021-11-21T17:00:42.386Z"
   },
   {
    "duration": 18,
    "start_time": "2021-11-21T17:00:42.409Z"
   },
   {
    "duration": 9,
    "start_time": "2021-11-21T17:00:42.430Z"
   },
   {
    "duration": 56,
    "start_time": "2021-11-21T17:00:42.442Z"
   },
   {
    "duration": 46,
    "start_time": "2021-11-21T17:00:42.501Z"
   },
   {
    "duration": 54,
    "start_time": "2021-11-21T17:00:42.550Z"
   },
   {
    "duration": 25,
    "start_time": "2021-11-21T17:00:42.606Z"
   },
   {
    "duration": 63,
    "start_time": "2021-11-21T17:00:42.635Z"
   },
   {
    "duration": 14,
    "start_time": "2021-11-21T17:00:42.702Z"
   },
   {
    "duration": 21,
    "start_time": "2021-11-21T17:00:42.719Z"
   },
   {
    "duration": 7,
    "start_time": "2021-11-21T17:00:42.744Z"
   },
   {
    "duration": 3,
    "start_time": "2021-11-21T17:00:42.784Z"
   },
   {
    "duration": 51,
    "start_time": "2021-11-21T17:00:42.790Z"
   },
   {
    "duration": 5,
    "start_time": "2021-11-21T17:00:42.844Z"
   },
   {
    "duration": 35,
    "start_time": "2021-11-21T17:00:42.852Z"
   },
   {
    "duration": 11,
    "start_time": "2021-11-21T17:00:42.890Z"
   },
   {
    "duration": 6,
    "start_time": "2021-11-21T17:00:42.905Z"
   },
   {
    "duration": 6211,
    "start_time": "2021-11-21T17:00:42.914Z"
   },
   {
    "duration": 64,
    "start_time": "2021-11-21T17:00:49.128Z"
   },
   {
    "duration": 20,
    "start_time": "2021-11-21T17:01:23.232Z"
   },
   {
    "duration": 55,
    "start_time": "2021-11-21T17:01:55.576Z"
   },
   {
    "duration": 9,
    "start_time": "2021-11-21T17:10:01.538Z"
   },
   {
    "duration": 12,
    "start_time": "2021-11-21T17:10:34.052Z"
   },
   {
    "duration": 15,
    "start_time": "2021-11-21T17:18:14.275Z"
   },
   {
    "duration": 925,
    "start_time": "2021-11-21T17:26:31.476Z"
   },
   {
    "duration": 75,
    "start_time": "2021-11-21T17:26:32.405Z"
   },
   {
    "duration": 39,
    "start_time": "2021-11-21T17:26:32.483Z"
   },
   {
    "duration": 23,
    "start_time": "2021-11-21T17:26:32.525Z"
   },
   {
    "duration": 3,
    "start_time": "2021-11-21T17:26:32.551Z"
   },
   {
    "duration": 33,
    "start_time": "2021-11-21T17:26:32.557Z"
   },
   {
    "duration": 17,
    "start_time": "2021-11-21T17:26:32.594Z"
   },
   {
    "duration": 22,
    "start_time": "2021-11-21T17:26:32.616Z"
   },
   {
    "duration": 68,
    "start_time": "2021-11-21T17:26:32.641Z"
   },
   {
    "duration": 15,
    "start_time": "2021-11-21T17:26:32.712Z"
   },
   {
    "duration": 65,
    "start_time": "2021-11-21T17:26:32.729Z"
   },
   {
    "duration": 35,
    "start_time": "2021-11-21T17:26:32.796Z"
   },
   {
    "duration": 75,
    "start_time": "2021-11-21T17:26:32.834Z"
   },
   {
    "duration": 16,
    "start_time": "2021-11-21T17:26:32.913Z"
   },
   {
    "duration": 70,
    "start_time": "2021-11-21T17:26:32.931Z"
   },
   {
    "duration": 10,
    "start_time": "2021-11-21T17:26:33.004Z"
   },
   {
    "duration": 6,
    "start_time": "2021-11-21T17:26:33.016Z"
   },
   {
    "duration": 6,
    "start_time": "2021-11-21T17:26:33.024Z"
   },
   {
    "duration": 8,
    "start_time": "2021-11-21T17:26:33.032Z"
   },
   {
    "duration": 6,
    "start_time": "2021-11-21T17:26:33.042Z"
   },
   {
    "duration": 37,
    "start_time": "2021-11-21T17:26:33.050Z"
   },
   {
    "duration": 10,
    "start_time": "2021-11-21T17:26:33.090Z"
   },
   {
    "duration": 4,
    "start_time": "2021-11-21T17:26:33.112Z"
   },
   {
    "duration": 12,
    "start_time": "2021-11-21T17:26:33.121Z"
   },
   {
    "duration": 10,
    "start_time": "2021-11-21T17:26:33.136Z"
   },
   {
    "duration": 12,
    "start_time": "2021-11-21T17:26:33.148Z"
   },
   {
    "duration": 22,
    "start_time": "2021-11-21T17:26:33.163Z"
   },
   {
    "duration": 4,
    "start_time": "2021-11-21T17:26:33.190Z"
   },
   {
    "duration": 5,
    "start_time": "2021-11-21T17:26:33.196Z"
   },
   {
    "duration": 12,
    "start_time": "2021-11-21T17:26:33.204Z"
   },
   {
    "duration": 5,
    "start_time": "2021-11-21T17:26:33.219Z"
   },
   {
    "duration": 6,
    "start_time": "2021-11-21T17:26:33.227Z"
   },
   {
    "duration": 5,
    "start_time": "2021-11-21T17:26:33.236Z"
   },
   {
    "duration": 40,
    "start_time": "2021-11-21T17:26:33.244Z"
   },
   {
    "duration": 11,
    "start_time": "2021-11-21T17:26:33.287Z"
   },
   {
    "duration": 7,
    "start_time": "2021-11-21T17:26:33.302Z"
   },
   {
    "duration": 6,
    "start_time": "2021-11-21T17:26:33.312Z"
   },
   {
    "duration": 9,
    "start_time": "2021-11-21T17:26:33.321Z"
   },
   {
    "duration": 5,
    "start_time": "2021-11-21T17:26:33.333Z"
   },
   {
    "duration": 5,
    "start_time": "2021-11-21T17:26:33.341Z"
   },
   {
    "duration": 33,
    "start_time": "2021-11-21T17:26:33.349Z"
   },
   {
    "duration": 13,
    "start_time": "2021-11-21T17:26:33.384Z"
   },
   {
    "duration": 16,
    "start_time": "2021-11-21T17:26:33.400Z"
   },
   {
    "duration": 6,
    "start_time": "2021-11-21T17:26:33.419Z"
   },
   {
    "duration": 5,
    "start_time": "2021-11-21T17:26:33.428Z"
   },
   {
    "duration": 10,
    "start_time": "2021-11-21T17:26:33.436Z"
   },
   {
    "duration": 9,
    "start_time": "2021-11-21T17:26:33.448Z"
   },
   {
    "duration": 25,
    "start_time": "2021-11-21T17:26:33.459Z"
   },
   {
    "duration": 6,
    "start_time": "2021-11-21T17:26:33.486Z"
   },
   {
    "duration": 24,
    "start_time": "2021-11-21T17:26:33.495Z"
   },
   {
    "duration": 36,
    "start_time": "2021-11-21T17:26:33.525Z"
   },
   {
    "duration": 33,
    "start_time": "2021-11-21T17:26:33.582Z"
   },
   {
    "duration": 23,
    "start_time": "2021-11-21T17:26:33.618Z"
   },
   {
    "duration": 56,
    "start_time": "2021-11-21T17:26:33.643Z"
   },
   {
    "duration": 12,
    "start_time": "2021-11-21T17:26:33.703Z"
   },
   {
    "duration": 14,
    "start_time": "2021-11-21T17:26:33.717Z"
   },
   {
    "duration": 14,
    "start_time": "2021-11-21T17:26:33.734Z"
   },
   {
    "duration": 32,
    "start_time": "2021-11-21T17:26:33.751Z"
   },
   {
    "duration": 34,
    "start_time": "2021-11-21T17:26:33.788Z"
   },
   {
    "duration": 3,
    "start_time": "2021-11-21T17:26:33.824Z"
   },
   {
    "duration": 6,
    "start_time": "2021-11-21T17:26:33.829Z"
   },
   {
    "duration": 9,
    "start_time": "2021-11-21T17:26:33.837Z"
   },
   {
    "duration": 38,
    "start_time": "2021-11-21T17:26:33.848Z"
   },
   {
    "duration": 5,
    "start_time": "2021-11-21T17:26:33.889Z"
   },
   {
    "duration": 7,
    "start_time": "2021-11-21T17:26:33.896Z"
   },
   {
    "duration": 6,
    "start_time": "2021-11-21T17:26:33.906Z"
   },
   {
    "duration": 5,
    "start_time": "2021-11-21T17:26:33.915Z"
   },
   {
    "duration": 1012,
    "start_time": "2021-11-21T17:46:30.459Z"
   },
   {
    "duration": 681,
    "start_time": "2021-11-21T17:47:08.582Z"
   },
   {
    "duration": 7,
    "start_time": "2021-11-21T17:47:42.041Z"
   },
   {
    "duration": 5,
    "start_time": "2021-11-21T17:50:09.087Z"
   },
   {
    "duration": 464,
    "start_time": "2021-11-21T17:51:51.377Z"
   },
   {
    "duration": 17,
    "start_time": "2021-11-21T17:56:48.141Z"
   },
   {
    "duration": 322,
    "start_time": "2021-11-21T17:57:26.157Z"
   },
   {
    "duration": 101,
    "start_time": "2021-11-21T17:57:49.277Z"
   },
   {
    "duration": 6,
    "start_time": "2021-11-21T17:57:58.625Z"
   },
   {
    "duration": 358,
    "start_time": "2021-11-21T18:03:39.679Z"
   },
   {
    "duration": 312,
    "start_time": "2021-11-21T18:03:57.438Z"
   },
   {
    "duration": 31,
    "start_time": "2021-11-21T18:11:47.804Z"
   },
   {
    "duration": 51,
    "start_time": "2021-11-21T18:12:20.074Z"
   },
   {
    "duration": 40,
    "start_time": "2021-11-21T18:12:23.031Z"
   },
   {
    "duration": 350,
    "start_time": "2021-11-21T18:12:37.238Z"
   },
   {
    "duration": 25,
    "start_time": "2021-11-21T18:14:00.252Z"
   },
   {
    "duration": 14,
    "start_time": "2021-11-21T18:14:14.628Z"
   },
   {
    "duration": 970,
    "start_time": "2021-11-21T18:23:47.373Z"
   },
   {
    "duration": 499,
    "start_time": "2021-11-21T18:23:48.346Z"
   },
   {
    "duration": 29,
    "start_time": "2021-11-21T18:23:48.848Z"
   },
   {
    "duration": 37,
    "start_time": "2021-11-21T18:23:48.880Z"
   },
   {
    "duration": 4,
    "start_time": "2021-11-21T18:23:48.920Z"
   },
   {
    "duration": 13,
    "start_time": "2021-11-21T18:23:48.926Z"
   },
   {
    "duration": 8,
    "start_time": "2021-11-21T18:23:48.942Z"
   },
   {
    "duration": 81,
    "start_time": "2021-11-21T18:23:48.956Z"
   },
   {
    "duration": 30,
    "start_time": "2021-11-21T18:23:49.040Z"
   },
   {
    "duration": 28,
    "start_time": "2021-11-21T18:23:49.072Z"
   },
   {
    "duration": 81,
    "start_time": "2021-11-21T18:23:49.105Z"
   },
   {
    "duration": 36,
    "start_time": "2021-11-21T18:23:49.192Z"
   },
   {
    "duration": 35,
    "start_time": "2021-11-21T18:23:49.230Z"
   },
   {
    "duration": 37,
    "start_time": "2021-11-21T18:23:49.268Z"
   },
   {
    "duration": 49,
    "start_time": "2021-11-21T18:23:49.309Z"
   },
   {
    "duration": 29,
    "start_time": "2021-11-21T18:23:49.360Z"
   },
   {
    "duration": 8,
    "start_time": "2021-11-21T18:23:49.391Z"
   },
   {
    "duration": 4,
    "start_time": "2021-11-21T18:23:49.402Z"
   },
   {
    "duration": 17,
    "start_time": "2021-11-21T18:23:49.409Z"
   },
   {
    "duration": 4,
    "start_time": "2021-11-21T18:23:49.429Z"
   },
   {
    "duration": 5,
    "start_time": "2021-11-21T18:23:49.435Z"
   },
   {
    "duration": 49,
    "start_time": "2021-11-21T18:23:49.443Z"
   },
   {
    "duration": 6,
    "start_time": "2021-11-21T18:23:49.504Z"
   },
   {
    "duration": 5,
    "start_time": "2021-11-21T18:23:49.514Z"
   },
   {
    "duration": 8,
    "start_time": "2021-11-21T18:23:49.521Z"
   },
   {
    "duration": 12,
    "start_time": "2021-11-21T18:23:49.531Z"
   },
   {
    "duration": 6,
    "start_time": "2021-11-21T18:23:49.545Z"
   },
   {
    "duration": 8,
    "start_time": "2021-11-21T18:23:49.554Z"
   },
   {
    "duration": 22,
    "start_time": "2021-11-21T18:23:49.564Z"
   },
   {
    "duration": 4,
    "start_time": "2021-11-21T18:23:49.589Z"
   },
   {
    "duration": 7,
    "start_time": "2021-11-21T18:23:49.596Z"
   },
   {
    "duration": 9,
    "start_time": "2021-11-21T18:23:49.607Z"
   },
   {
    "duration": 6,
    "start_time": "2021-11-21T18:23:49.620Z"
   },
   {
    "duration": 9,
    "start_time": "2021-11-21T18:23:49.629Z"
   },
   {
    "duration": 14,
    "start_time": "2021-11-21T18:23:49.640Z"
   },
   {
    "duration": 28,
    "start_time": "2021-11-21T18:23:49.656Z"
   },
   {
    "duration": 6,
    "start_time": "2021-11-21T18:23:49.686Z"
   },
   {
    "duration": 4,
    "start_time": "2021-11-21T18:23:49.703Z"
   },
   {
    "duration": 14,
    "start_time": "2021-11-21T18:23:49.710Z"
   },
   {
    "duration": 7,
    "start_time": "2021-11-21T18:23:49.727Z"
   },
   {
    "duration": 6,
    "start_time": "2021-11-21T18:23:49.737Z"
   },
   {
    "duration": 5,
    "start_time": "2021-11-21T18:23:49.746Z"
   },
   {
    "duration": 4,
    "start_time": "2021-11-21T18:23:49.755Z"
   },
   {
    "duration": 7,
    "start_time": "2021-11-21T18:23:49.791Z"
   },
   {
    "duration": 15,
    "start_time": "2021-11-21T18:23:49.801Z"
   },
   {
    "duration": 14,
    "start_time": "2021-11-21T18:23:49.819Z"
   },
   {
    "duration": 18,
    "start_time": "2021-11-21T18:23:49.836Z"
   },
   {
    "duration": 65,
    "start_time": "2021-11-21T18:23:49.857Z"
   },
   {
    "duration": 29,
    "start_time": "2021-11-21T18:23:49.928Z"
   },
   {
    "duration": 54,
    "start_time": "2021-11-21T18:23:49.959Z"
   },
   {
    "duration": 78,
    "start_time": "2021-11-21T18:23:50.016Z"
   },
   {
    "duration": 18,
    "start_time": "2021-11-21T18:23:50.097Z"
   },
   {
    "duration": 13,
    "start_time": "2021-11-21T18:23:50.120Z"
   },
   {
    "duration": 8,
    "start_time": "2021-11-21T18:23:50.135Z"
   },
   {
    "duration": 7,
    "start_time": "2021-11-21T18:23:50.145Z"
   },
   {
    "duration": 36,
    "start_time": "2021-11-21T18:23:50.154Z"
   },
   {
    "duration": 4,
    "start_time": "2021-11-21T18:23:50.193Z"
   },
   {
    "duration": 12,
    "start_time": "2021-11-21T18:23:50.200Z"
   },
   {
    "duration": 5,
    "start_time": "2021-11-21T18:23:50.215Z"
   },
   {
    "duration": 6,
    "start_time": "2021-11-21T18:23:50.223Z"
   },
   {
    "duration": 5,
    "start_time": "2021-11-21T18:23:50.233Z"
   },
   {
    "duration": 9,
    "start_time": "2021-11-21T18:23:50.240Z"
   },
   {
    "duration": 35,
    "start_time": "2021-11-21T18:23:50.252Z"
   },
   {
    "duration": 11,
    "start_time": "2021-11-21T18:23:50.290Z"
   },
   {
    "duration": 6,
    "start_time": "2021-11-21T18:23:50.303Z"
   },
   {
    "duration": 16,
    "start_time": "2021-11-21T18:23:50.316Z"
   },
   {
    "duration": 464,
    "start_time": "2021-11-21T18:39:26.381Z"
   },
   {
    "duration": 122,
    "start_time": "2021-11-21T18:40:00.296Z"
   },
   {
    "duration": 306,
    "start_time": "2021-11-21T18:40:22.429Z"
   },
   {
    "duration": 1010,
    "start_time": "2021-11-21T18:40:34.384Z"
   },
   {
    "duration": 98,
    "start_time": "2021-11-21T18:40:35.397Z"
   },
   {
    "duration": 48,
    "start_time": "2021-11-21T18:40:35.499Z"
   },
   {
    "duration": 42,
    "start_time": "2021-11-21T18:40:35.551Z"
   },
   {
    "duration": 4,
    "start_time": "2021-11-21T18:40:35.596Z"
   },
   {
    "duration": 16,
    "start_time": "2021-11-21T18:40:35.608Z"
   },
   {
    "duration": 11,
    "start_time": "2021-11-21T18:40:35.626Z"
   },
   {
    "duration": 47,
    "start_time": "2021-11-21T18:40:35.641Z"
   },
   {
    "duration": 38,
    "start_time": "2021-11-21T18:40:35.695Z"
   },
   {
    "duration": 22,
    "start_time": "2021-11-21T18:40:35.736Z"
   },
   {
    "duration": 60,
    "start_time": "2021-11-21T18:40:35.783Z"
   },
   {
    "duration": 52,
    "start_time": "2021-11-21T18:40:35.846Z"
   },
   {
    "duration": 42,
    "start_time": "2021-11-21T18:40:35.901Z"
   },
   {
    "duration": 16,
    "start_time": "2021-11-21T18:40:35.945Z"
   },
   {
    "duration": 75,
    "start_time": "2021-11-21T18:40:35.963Z"
   },
   {
    "duration": 12,
    "start_time": "2021-11-21T18:40:36.041Z"
   },
   {
    "duration": 8,
    "start_time": "2021-11-21T18:40:36.056Z"
   },
   {
    "duration": 24,
    "start_time": "2021-11-21T18:40:36.067Z"
   },
   {
    "duration": 6,
    "start_time": "2021-11-21T18:40:36.093Z"
   },
   {
    "duration": 6,
    "start_time": "2021-11-21T18:40:36.102Z"
   },
   {
    "duration": 7,
    "start_time": "2021-11-21T18:40:36.111Z"
   },
   {
    "duration": 16,
    "start_time": "2021-11-21T18:40:36.121Z"
   },
   {
    "duration": 6,
    "start_time": "2021-11-21T18:40:36.146Z"
   },
   {
    "duration": 27,
    "start_time": "2021-11-21T18:40:36.157Z"
   },
   {
    "duration": 4,
    "start_time": "2021-11-21T18:40:36.187Z"
   },
   {
    "duration": 9,
    "start_time": "2021-11-21T18:40:36.195Z"
   },
   {
    "duration": 17,
    "start_time": "2021-11-21T18:40:36.207Z"
   },
   {
    "duration": 17,
    "start_time": "2021-11-21T18:40:36.227Z"
   },
   {
    "duration": 11,
    "start_time": "2021-11-21T18:40:36.247Z"
   },
   {
    "duration": 10,
    "start_time": "2021-11-21T18:40:36.261Z"
   },
   {
    "duration": 3,
    "start_time": "2021-11-21T18:40:36.282Z"
   },
   {
    "duration": 8,
    "start_time": "2021-11-21T18:40:36.290Z"
   },
   {
    "duration": 5,
    "start_time": "2021-11-21T18:40:36.301Z"
   },
   {
    "duration": 6,
    "start_time": "2021-11-21T18:40:36.308Z"
   },
   {
    "duration": 7,
    "start_time": "2021-11-21T18:40:36.318Z"
   },
   {
    "duration": 5,
    "start_time": "2021-11-21T18:40:36.331Z"
   },
   {
    "duration": 5,
    "start_time": "2021-11-21T18:40:36.339Z"
   },
   {
    "duration": 11,
    "start_time": "2021-11-21T18:40:36.383Z"
   },
   {
    "duration": 7,
    "start_time": "2021-11-21T18:40:36.397Z"
   },
   {
    "duration": 4,
    "start_time": "2021-11-21T18:40:36.409Z"
   },
   {
    "duration": 5,
    "start_time": "2021-11-21T18:40:36.416Z"
   },
   {
    "duration": 7,
    "start_time": "2021-11-21T18:40:36.424Z"
   },
   {
    "duration": 4,
    "start_time": "2021-11-21T18:40:36.434Z"
   },
   {
    "duration": 43,
    "start_time": "2021-11-21T18:40:36.441Z"
   },
   {
    "duration": 12,
    "start_time": "2021-11-21T18:40:36.486Z"
   },
   {
    "duration": 8,
    "start_time": "2021-11-21T18:40:36.500Z"
   },
   {
    "duration": 27,
    "start_time": "2021-11-21T18:40:36.511Z"
   },
   {
    "duration": 64,
    "start_time": "2021-11-21T18:40:36.541Z"
   },
   {
    "duration": 35,
    "start_time": "2021-11-21T18:40:36.607Z"
   },
   {
    "duration": 48,
    "start_time": "2021-11-21T18:40:36.645Z"
   },
   {
    "duration": 45,
    "start_time": "2021-11-21T18:40:36.697Z"
   },
   {
    "duration": 10,
    "start_time": "2021-11-21T18:40:36.744Z"
   },
   {
    "duration": 30,
    "start_time": "2021-11-21T18:40:36.756Z"
   },
   {
    "duration": 4,
    "start_time": "2021-11-21T18:40:36.790Z"
   },
   {
    "duration": 11,
    "start_time": "2021-11-21T18:40:36.796Z"
   },
   {
    "duration": 14,
    "start_time": "2021-11-21T18:40:36.809Z"
   },
   {
    "duration": 7,
    "start_time": "2021-11-21T18:40:36.826Z"
   },
   {
    "duration": 8,
    "start_time": "2021-11-21T18:40:36.835Z"
   },
   {
    "duration": 45,
    "start_time": "2021-11-21T18:40:36.846Z"
   },
   {
    "duration": 16,
    "start_time": "2021-11-21T18:40:36.899Z"
   },
   {
    "duration": 13,
    "start_time": "2021-11-21T18:40:36.918Z"
   },
   {
    "duration": 10,
    "start_time": "2021-11-21T18:40:36.934Z"
   },
   {
    "duration": 6,
    "start_time": "2021-11-21T18:40:36.947Z"
   },
   {
    "duration": 16,
    "start_time": "2021-11-21T18:40:36.955Z"
   },
   {
    "duration": 3,
    "start_time": "2021-11-21T18:40:36.974Z"
   },
   {
    "duration": 1051,
    "start_time": "2021-11-21T18:40:50.257Z"
   },
   {
    "duration": 1060,
    "start_time": "2021-11-21T18:42:18.368Z"
   },
   {
    "duration": 90,
    "start_time": "2021-11-21T18:42:19.432Z"
   },
   {
    "duration": 46,
    "start_time": "2021-11-21T18:42:19.527Z"
   },
   {
    "duration": 39,
    "start_time": "2021-11-21T18:42:19.585Z"
   },
   {
    "duration": 7,
    "start_time": "2021-11-21T18:42:19.628Z"
   },
   {
    "duration": 17,
    "start_time": "2021-11-21T18:42:19.638Z"
   },
   {
    "duration": 33,
    "start_time": "2021-11-21T18:42:19.658Z"
   },
   {
    "duration": 40,
    "start_time": "2021-11-21T18:42:19.697Z"
   },
   {
    "duration": 27,
    "start_time": "2021-11-21T18:42:19.741Z"
   },
   {
    "duration": 27,
    "start_time": "2021-11-21T18:42:19.786Z"
   },
   {
    "duration": 55,
    "start_time": "2021-11-21T18:42:19.816Z"
   },
   {
    "duration": 37,
    "start_time": "2021-11-21T18:42:19.883Z"
   },
   {
    "duration": 62,
    "start_time": "2021-11-21T18:42:19.923Z"
   },
   {
    "duration": 25,
    "start_time": "2021-11-21T18:42:19.990Z"
   },
   {
    "duration": 46,
    "start_time": "2021-11-21T18:42:20.018Z"
   },
   {
    "duration": 26,
    "start_time": "2021-11-21T18:42:20.066Z"
   },
   {
    "duration": 12,
    "start_time": "2021-11-21T18:42:20.097Z"
   },
   {
    "duration": 18,
    "start_time": "2021-11-21T18:42:20.112Z"
   },
   {
    "duration": 14,
    "start_time": "2021-11-21T18:42:20.133Z"
   },
   {
    "duration": 14,
    "start_time": "2021-11-21T18:42:20.149Z"
   },
   {
    "duration": 12,
    "start_time": "2021-11-21T18:42:20.165Z"
   },
   {
    "duration": 15,
    "start_time": "2021-11-21T18:42:20.179Z"
   },
   {
    "duration": 7,
    "start_time": "2021-11-21T18:42:20.203Z"
   },
   {
    "duration": 8,
    "start_time": "2021-11-21T18:42:20.219Z"
   },
   {
    "duration": 22,
    "start_time": "2021-11-21T18:42:20.230Z"
   },
   {
    "duration": 12,
    "start_time": "2021-11-21T18:42:20.254Z"
   },
   {
    "duration": 7,
    "start_time": "2021-11-21T18:42:20.269Z"
   },
   {
    "duration": 17,
    "start_time": "2021-11-21T18:42:20.278Z"
   },
   {
    "duration": 9,
    "start_time": "2021-11-21T18:42:20.299Z"
   },
   {
    "duration": 12,
    "start_time": "2021-11-21T18:42:20.311Z"
   },
   {
    "duration": 25,
    "start_time": "2021-11-21T18:42:20.325Z"
   },
   {
    "duration": 15,
    "start_time": "2021-11-21T18:42:20.352Z"
   },
   {
    "duration": 11,
    "start_time": "2021-11-21T18:42:20.370Z"
   },
   {
    "duration": 5,
    "start_time": "2021-11-21T18:42:20.387Z"
   },
   {
    "duration": 17,
    "start_time": "2021-11-21T18:42:20.395Z"
   },
   {
    "duration": 12,
    "start_time": "2021-11-21T18:42:20.415Z"
   },
   {
    "duration": 15,
    "start_time": "2021-11-21T18:42:20.431Z"
   },
   {
    "duration": 10,
    "start_time": "2021-11-21T18:42:20.449Z"
   },
   {
    "duration": 13,
    "start_time": "2021-11-21T18:42:20.461Z"
   },
   {
    "duration": 18,
    "start_time": "2021-11-21T18:42:20.476Z"
   },
   {
    "duration": 15,
    "start_time": "2021-11-21T18:42:20.496Z"
   },
   {
    "duration": 8,
    "start_time": "2021-11-21T18:42:20.516Z"
   },
   {
    "duration": 15,
    "start_time": "2021-11-21T18:42:20.527Z"
   },
   {
    "duration": 10,
    "start_time": "2021-11-21T18:42:20.544Z"
   },
   {
    "duration": 27,
    "start_time": "2021-11-21T18:42:20.556Z"
   },
   {
    "duration": 15,
    "start_time": "2021-11-21T18:42:20.586Z"
   },
   {
    "duration": 33,
    "start_time": "2021-11-21T18:42:20.604Z"
   },
   {
    "duration": 66,
    "start_time": "2021-11-21T18:42:20.639Z"
   },
   {
    "duration": 37,
    "start_time": "2021-11-21T18:42:20.709Z"
   },
   {
    "duration": 43,
    "start_time": "2021-11-21T18:42:20.750Z"
   },
   {
    "duration": 38,
    "start_time": "2021-11-21T18:42:20.796Z"
   },
   {
    "duration": 10,
    "start_time": "2021-11-21T18:42:20.837Z"
   },
   {
    "duration": 40,
    "start_time": "2021-11-21T18:42:20.850Z"
   },
   {
    "duration": 11,
    "start_time": "2021-11-21T18:42:20.893Z"
   },
   {
    "duration": 20,
    "start_time": "2021-11-21T18:42:20.906Z"
   },
   {
    "duration": 19,
    "start_time": "2021-11-21T18:42:20.929Z"
   },
   {
    "duration": 5,
    "start_time": "2021-11-21T18:42:20.951Z"
   },
   {
    "duration": 10,
    "start_time": "2021-11-21T18:42:20.959Z"
   },
   {
    "duration": 10,
    "start_time": "2021-11-21T18:42:20.971Z"
   },
   {
    "duration": 5,
    "start_time": "2021-11-21T18:42:20.991Z"
   },
   {
    "duration": 8,
    "start_time": "2021-11-21T18:42:20.998Z"
   },
   {
    "duration": 9,
    "start_time": "2021-11-21T18:42:21.008Z"
   },
   {
    "duration": 20,
    "start_time": "2021-11-21T18:42:21.020Z"
   },
   {
    "duration": 18,
    "start_time": "2021-11-21T18:42:21.043Z"
   },
   {
    "duration": 12,
    "start_time": "2021-11-21T18:42:21.064Z"
   },
   {
    "duration": 13,
    "start_time": "2021-11-21T18:42:21.080Z"
   },
   {
    "duration": 1368,
    "start_time": "2021-11-21T18:42:28.330Z"
   },
   {
    "duration": 8,
    "start_time": "2021-11-21T18:45:24.859Z"
   },
   {
    "duration": 9,
    "start_time": "2021-11-21T18:45:43.461Z"
   },
   {
    "duration": 8,
    "start_time": "2021-11-21T18:45:54.727Z"
   },
   {
    "duration": 417,
    "start_time": "2021-11-21T18:52:03.496Z"
   },
   {
    "duration": 313,
    "start_time": "2021-11-21T18:52:23.814Z"
   },
   {
    "duration": 309,
    "start_time": "2021-11-21T18:52:37.145Z"
   },
   {
    "duration": 505,
    "start_time": "2021-11-21T18:53:10.282Z"
   },
   {
    "duration": 290,
    "start_time": "2021-11-21T18:53:33.855Z"
   },
   {
    "duration": 358,
    "start_time": "2021-11-21T18:53:46.914Z"
   },
   {
    "duration": 386,
    "start_time": "2021-11-21T18:54:10.121Z"
   },
   {
    "duration": 99,
    "start_time": "2021-11-21T18:54:59.096Z"
   },
   {
    "duration": 3199,
    "start_time": "2021-11-21T18:55:44.127Z"
   },
   {
    "duration": 3107,
    "start_time": "2021-11-21T18:55:52.216Z"
   },
   {
    "duration": 2658,
    "start_time": "2021-11-21T18:56:14.186Z"
   },
   {
    "duration": 477,
    "start_time": "2021-11-21T18:56:58.092Z"
   },
   {
    "duration": 41,
    "start_time": "2021-11-21T18:57:03.484Z"
   },
   {
    "duration": 802,
    "start_time": "2021-11-21T19:09:43.469Z"
   },
   {
    "duration": 71,
    "start_time": "2021-11-21T19:09:44.273Z"
   },
   {
    "duration": 45,
    "start_time": "2021-11-21T19:09:44.347Z"
   },
   {
    "duration": 23,
    "start_time": "2021-11-21T19:09:44.395Z"
   },
   {
    "duration": 4,
    "start_time": "2021-11-21T19:09:44.421Z"
   },
   {
    "duration": 14,
    "start_time": "2021-11-21T19:09:44.428Z"
   },
   {
    "duration": 45,
    "start_time": "2021-11-21T19:09:44.445Z"
   },
   {
    "duration": 23,
    "start_time": "2021-11-21T19:09:44.496Z"
   },
   {
    "duration": 59,
    "start_time": "2021-11-21T19:09:44.523Z"
   },
   {
    "duration": 22,
    "start_time": "2021-11-21T19:09:44.585Z"
   },
   {
    "duration": 75,
    "start_time": "2021-11-21T19:09:44.610Z"
   },
   {
    "duration": 33,
    "start_time": "2021-11-21T19:09:44.690Z"
   },
   {
    "duration": 71,
    "start_time": "2021-11-21T19:09:44.726Z"
   },
   {
    "duration": 23,
    "start_time": "2021-11-21T19:09:44.799Z"
   },
   {
    "duration": 69,
    "start_time": "2021-11-21T19:09:44.825Z"
   },
   {
    "duration": 9,
    "start_time": "2021-11-21T19:09:44.897Z"
   },
   {
    "duration": 6,
    "start_time": "2021-11-21T19:09:44.908Z"
   },
   {
    "duration": 6,
    "start_time": "2021-11-21T19:09:44.916Z"
   },
   {
    "duration": 8,
    "start_time": "2021-11-21T19:09:44.924Z"
   },
   {
    "duration": 5,
    "start_time": "2021-11-21T19:09:44.934Z"
   },
   {
    "duration": 6,
    "start_time": "2021-11-21T19:09:44.941Z"
   },
   {
    "duration": 12,
    "start_time": "2021-11-21T19:09:44.988Z"
   },
   {
    "duration": 3,
    "start_time": "2021-11-21T19:09:45.007Z"
   },
   {
    "duration": 8,
    "start_time": "2021-11-21T19:09:45.014Z"
   },
   {
    "duration": 15,
    "start_time": "2021-11-21T19:09:45.025Z"
   },
   {
    "duration": 17,
    "start_time": "2021-11-21T19:09:45.043Z"
   },
   {
    "duration": 18,
    "start_time": "2021-11-21T19:09:45.062Z"
   },
   {
    "duration": 9,
    "start_time": "2021-11-21T19:09:45.083Z"
   },
   {
    "duration": 12,
    "start_time": "2021-11-21T19:09:45.095Z"
   },
   {
    "duration": 17,
    "start_time": "2021-11-21T19:09:45.110Z"
   },
   {
    "duration": 15,
    "start_time": "2021-11-21T19:09:45.130Z"
   },
   {
    "duration": 14,
    "start_time": "2021-11-21T19:09:45.147Z"
   },
   {
    "duration": 8,
    "start_time": "2021-11-21T19:09:45.164Z"
   },
   {
    "duration": 17,
    "start_time": "2021-11-21T19:09:45.174Z"
   },
   {
    "duration": 10,
    "start_time": "2021-11-21T19:09:45.194Z"
   },
   {
    "duration": 6,
    "start_time": "2021-11-21T19:09:45.207Z"
   },
   {
    "duration": 4,
    "start_time": "2021-11-21T19:09:45.216Z"
   },
   {
    "duration": 4,
    "start_time": "2021-11-21T19:09:45.224Z"
   },
   {
    "duration": 9,
    "start_time": "2021-11-21T19:09:45.231Z"
   },
   {
    "duration": 5,
    "start_time": "2021-11-21T19:09:45.243Z"
   },
   {
    "duration": 5,
    "start_time": "2021-11-21T19:09:45.251Z"
   },
   {
    "duration": 10,
    "start_time": "2021-11-21T19:09:45.282Z"
   },
   {
    "duration": 6,
    "start_time": "2021-11-21T19:09:45.295Z"
   },
   {
    "duration": 7,
    "start_time": "2021-11-21T19:09:45.303Z"
   },
   {
    "duration": 17,
    "start_time": "2021-11-21T19:09:45.313Z"
   },
   {
    "duration": 5,
    "start_time": "2021-11-21T19:09:45.333Z"
   },
   {
    "duration": 60,
    "start_time": "2021-11-21T19:09:45.340Z"
   },
   {
    "duration": 28,
    "start_time": "2021-11-21T19:09:45.402Z"
   },
   {
    "duration": 36,
    "start_time": "2021-11-21T19:09:45.482Z"
   },
   {
    "duration": 24,
    "start_time": "2021-11-21T19:09:45.520Z"
   },
   {
    "duration": 42,
    "start_time": "2021-11-21T19:09:45.547Z"
   },
   {
    "duration": 19,
    "start_time": "2021-11-21T19:09:45.596Z"
   },
   {
    "duration": 14,
    "start_time": "2021-11-21T19:09:45.618Z"
   },
   {
    "duration": 8,
    "start_time": "2021-11-21T19:09:45.635Z"
   },
   {
    "duration": 14,
    "start_time": "2021-11-21T19:09:45.646Z"
   },
   {
    "duration": 11,
    "start_time": "2021-11-21T19:09:45.662Z"
   },
   {
    "duration": 15,
    "start_time": "2021-11-21T19:09:45.675Z"
   },
   {
    "duration": 11,
    "start_time": "2021-11-21T19:09:45.692Z"
   },
   {
    "duration": 18,
    "start_time": "2021-11-21T19:09:45.705Z"
   },
   {
    "duration": 11,
    "start_time": "2021-11-21T19:09:45.725Z"
   },
   {
    "duration": 7,
    "start_time": "2021-11-21T19:09:45.739Z"
   },
   {
    "duration": 9,
    "start_time": "2021-11-21T19:09:45.749Z"
   },
   {
    "duration": 5,
    "start_time": "2021-11-21T19:09:45.761Z"
   },
   {
    "duration": 12,
    "start_time": "2021-11-21T19:09:45.769Z"
   },
   {
    "duration": 11,
    "start_time": "2021-11-21T19:09:45.784Z"
   },
   {
    "duration": 10,
    "start_time": "2021-11-21T19:09:45.797Z"
   },
   {
    "duration": 281,
    "start_time": "2021-11-21T19:09:45.809Z"
   },
   {
    "duration": 3815,
    "start_time": "2021-11-21T19:09:51.445Z"
   },
   {
    "duration": 842,
    "start_time": "2021-11-21T19:12:15.758Z"
   },
   {
    "duration": 64,
    "start_time": "2021-11-21T19:12:16.606Z"
   },
   {
    "duration": 37,
    "start_time": "2021-11-21T19:12:16.674Z"
   },
   {
    "duration": 23,
    "start_time": "2021-11-21T19:12:16.714Z"
   },
   {
    "duration": 6,
    "start_time": "2021-11-21T19:12:16.740Z"
   },
   {
    "duration": 16,
    "start_time": "2021-11-21T19:12:16.791Z"
   },
   {
    "duration": 10,
    "start_time": "2021-11-21T19:12:16.809Z"
   },
   {
    "duration": 34,
    "start_time": "2021-11-21T19:12:16.826Z"
   },
   {
    "duration": 33,
    "start_time": "2021-11-21T19:12:16.891Z"
   },
   {
    "duration": 16,
    "start_time": "2021-11-21T19:12:16.926Z"
   },
   {
    "duration": 78,
    "start_time": "2021-11-21T19:12:16.945Z"
   },
   {
    "duration": 38,
    "start_time": "2021-11-21T19:12:17.026Z"
   },
   {
    "duration": 69,
    "start_time": "2021-11-21T19:12:17.067Z"
   },
   {
    "duration": 22,
    "start_time": "2021-11-21T19:12:17.139Z"
   },
   {
    "duration": 79,
    "start_time": "2021-11-21T19:12:17.164Z"
   },
   {
    "duration": 12,
    "start_time": "2021-11-21T19:12:17.246Z"
   },
   {
    "duration": 23,
    "start_time": "2021-11-21T19:12:17.261Z"
   },
   {
    "duration": 10,
    "start_time": "2021-11-21T19:12:17.289Z"
   },
   {
    "duration": 5,
    "start_time": "2021-11-21T19:12:17.305Z"
   },
   {
    "duration": 5,
    "start_time": "2021-11-21T19:12:17.312Z"
   },
   {
    "duration": 4,
    "start_time": "2021-11-21T19:12:17.321Z"
   },
   {
    "duration": 3,
    "start_time": "2021-11-21T19:12:17.329Z"
   },
   {
    "duration": 3,
    "start_time": "2021-11-21T19:12:17.338Z"
   },
   {
    "duration": 7,
    "start_time": "2021-11-21T19:12:17.394Z"
   },
   {
    "duration": 6,
    "start_time": "2021-11-21T19:12:17.404Z"
   },
   {
    "duration": 6,
    "start_time": "2021-11-21T19:12:17.412Z"
   },
   {
    "duration": 8,
    "start_time": "2021-11-21T19:12:17.420Z"
   },
   {
    "duration": 18,
    "start_time": "2021-11-21T19:12:17.431Z"
   },
   {
    "duration": 7,
    "start_time": "2021-11-21T19:12:17.451Z"
   },
   {
    "duration": 41,
    "start_time": "2021-11-21T19:12:17.461Z"
   },
   {
    "duration": 5,
    "start_time": "2021-11-21T19:12:17.515Z"
   },
   {
    "duration": 9,
    "start_time": "2021-11-21T19:12:17.523Z"
   },
   {
    "duration": 3,
    "start_time": "2021-11-21T19:12:17.535Z"
   },
   {
    "duration": 29,
    "start_time": "2021-11-21T19:12:17.541Z"
   },
   {
    "duration": 10,
    "start_time": "2021-11-21T19:12:17.574Z"
   },
   {
    "duration": 6,
    "start_time": "2021-11-21T19:12:17.586Z"
   },
   {
    "duration": 14,
    "start_time": "2021-11-21T19:12:17.594Z"
   },
   {
    "duration": 3,
    "start_time": "2021-11-21T19:12:17.613Z"
   },
   {
    "duration": 9,
    "start_time": "2021-11-21T19:12:17.620Z"
   },
   {
    "duration": 13,
    "start_time": "2021-11-21T19:12:17.632Z"
   },
   {
    "duration": 6,
    "start_time": "2021-11-21T19:12:17.648Z"
   },
   {
    "duration": 32,
    "start_time": "2021-11-21T19:12:17.657Z"
   },
   {
    "duration": 8,
    "start_time": "2021-11-21T19:12:17.692Z"
   },
   {
    "duration": 16,
    "start_time": "2021-11-21T19:12:17.703Z"
   },
   {
    "duration": 21,
    "start_time": "2021-11-21T19:12:17.721Z"
   },
   {
    "duration": 7,
    "start_time": "2021-11-21T19:12:17.745Z"
   },
   {
    "duration": 36,
    "start_time": "2021-11-21T19:12:17.755Z"
   },
   {
    "duration": 45,
    "start_time": "2021-11-21T19:12:17.793Z"
   },
   {
    "duration": 54,
    "start_time": "2021-11-21T19:12:17.841Z"
   },
   {
    "duration": 34,
    "start_time": "2021-11-21T19:12:17.898Z"
   },
   {
    "duration": 58,
    "start_time": "2021-11-21T19:12:17.934Z"
   },
   {
    "duration": 24,
    "start_time": "2021-11-21T19:12:17.994Z"
   },
   {
    "duration": 14,
    "start_time": "2021-11-21T19:12:18.021Z"
   },
   {
    "duration": 4,
    "start_time": "2021-11-21T19:12:18.038Z"
   },
   {
    "duration": 13,
    "start_time": "2021-11-21T19:12:18.045Z"
   },
   {
    "duration": 32,
    "start_time": "2021-11-21T19:12:18.060Z"
   },
   {
    "duration": 8,
    "start_time": "2021-11-21T19:12:18.095Z"
   },
   {
    "duration": 18,
    "start_time": "2021-11-21T19:12:18.105Z"
   },
   {
    "duration": 6,
    "start_time": "2021-11-21T19:12:18.126Z"
   },
   {
    "duration": 5,
    "start_time": "2021-11-21T19:12:18.135Z"
   },
   {
    "duration": 9,
    "start_time": "2021-11-21T19:12:18.142Z"
   },
   {
    "duration": 30,
    "start_time": "2021-11-21T19:12:18.153Z"
   },
   {
    "duration": 10,
    "start_time": "2021-11-21T19:12:18.190Z"
   },
   {
    "duration": 9,
    "start_time": "2021-11-21T19:12:18.205Z"
   },
   {
    "duration": 8,
    "start_time": "2021-11-21T19:12:18.217Z"
   },
   {
    "duration": 6,
    "start_time": "2021-11-21T19:12:18.228Z"
   },
   {
    "duration": 6,
    "start_time": "2021-11-21T19:12:18.237Z"
   },
   {
    "duration": 5083,
    "start_time": "2021-11-21T19:17:24.817Z"
   },
   {
    "duration": 20,
    "start_time": "2021-11-21T19:17:36.659Z"
   },
   {
    "duration": 1024,
    "start_time": "2021-11-21T19:18:00.754Z"
   },
   {
    "duration": 529,
    "start_time": "2021-11-21T19:18:01.781Z"
   },
   {
    "duration": 42,
    "start_time": "2021-11-21T19:18:02.314Z"
   },
   {
    "duration": 37,
    "start_time": "2021-11-21T19:18:02.359Z"
   },
   {
    "duration": 3,
    "start_time": "2021-11-21T19:18:02.403Z"
   },
   {
    "duration": 22,
    "start_time": "2021-11-21T19:18:02.410Z"
   },
   {
    "duration": 22,
    "start_time": "2021-11-21T19:18:02.436Z"
   },
   {
    "duration": 53,
    "start_time": "2021-11-21T19:18:02.461Z"
   },
   {
    "duration": 53,
    "start_time": "2021-11-21T19:18:02.517Z"
   },
   {
    "duration": 34,
    "start_time": "2021-11-21T19:18:02.573Z"
   },
   {
    "duration": 41,
    "start_time": "2021-11-21T19:18:02.610Z"
   },
   {
    "duration": 53,
    "start_time": "2021-11-21T19:18:02.653Z"
   },
   {
    "duration": 35,
    "start_time": "2021-11-21T19:18:02.709Z"
   },
   {
    "duration": 43,
    "start_time": "2021-11-21T19:18:02.746Z"
   },
   {
    "duration": 44,
    "start_time": "2021-11-21T19:18:02.793Z"
   },
   {
    "duration": 8,
    "start_time": "2021-11-21T19:18:02.840Z"
   },
   {
    "duration": 25,
    "start_time": "2021-11-21T19:18:02.851Z"
   },
   {
    "duration": 12,
    "start_time": "2021-11-21T19:18:02.884Z"
   },
   {
    "duration": 13,
    "start_time": "2021-11-21T19:18:02.900Z"
   },
   {
    "duration": 29,
    "start_time": "2021-11-21T19:18:02.916Z"
   },
   {
    "duration": 11,
    "start_time": "2021-11-21T19:18:02.947Z"
   },
   {
    "duration": 17,
    "start_time": "2021-11-21T19:18:02.961Z"
   },
   {
    "duration": 8,
    "start_time": "2021-11-21T19:18:02.981Z"
   },
   {
    "duration": 16,
    "start_time": "2021-11-21T19:18:02.992Z"
   },
   {
    "duration": 10,
    "start_time": "2021-11-21T19:18:03.011Z"
   },
   {
    "duration": 8,
    "start_time": "2021-11-21T19:18:03.024Z"
   },
   {
    "duration": 7,
    "start_time": "2021-11-21T19:18:03.034Z"
   },
   {
    "duration": 11,
    "start_time": "2021-11-21T19:18:03.043Z"
   },
   {
    "duration": 10,
    "start_time": "2021-11-21T19:18:03.056Z"
   },
   {
    "duration": 15,
    "start_time": "2021-11-21T19:18:03.068Z"
   },
   {
    "duration": 20,
    "start_time": "2021-11-21T19:18:03.086Z"
   },
   {
    "duration": 10,
    "start_time": "2021-11-21T19:18:03.108Z"
   },
   {
    "duration": 7,
    "start_time": "2021-11-21T19:18:03.121Z"
   },
   {
    "duration": 9,
    "start_time": "2021-11-21T19:18:03.131Z"
   },
   {
    "duration": 9,
    "start_time": "2021-11-21T19:18:03.142Z"
   },
   {
    "duration": 8,
    "start_time": "2021-11-21T19:18:03.153Z"
   },
   {
    "duration": 23,
    "start_time": "2021-11-21T19:18:03.164Z"
   },
   {
    "duration": 9,
    "start_time": "2021-11-21T19:18:03.190Z"
   },
   {
    "duration": 11,
    "start_time": "2021-11-21T19:18:03.201Z"
   },
   {
    "duration": 10,
    "start_time": "2021-11-21T19:18:03.214Z"
   },
   {
    "duration": 8,
    "start_time": "2021-11-21T19:18:03.226Z"
   },
   {
    "duration": 8,
    "start_time": "2021-11-21T19:18:03.237Z"
   },
   {
    "duration": 15,
    "start_time": "2021-11-21T19:18:03.248Z"
   },
   {
    "duration": 15,
    "start_time": "2021-11-21T19:18:03.266Z"
   },
   {
    "duration": 9,
    "start_time": "2021-11-21T19:18:03.293Z"
   },
   {
    "duration": 18,
    "start_time": "2021-11-21T19:18:03.305Z"
   },
   {
    "duration": 18,
    "start_time": "2021-11-21T19:18:03.326Z"
   },
   {
    "duration": 47,
    "start_time": "2021-11-21T19:18:03.346Z"
   },
   {
    "duration": 30,
    "start_time": "2021-11-21T19:18:03.396Z"
   },
   {
    "duration": 34,
    "start_time": "2021-11-21T19:18:03.429Z"
   },
   {
    "duration": 32,
    "start_time": "2021-11-21T19:18:03.491Z"
   },
   {
    "duration": 95,
    "start_time": "2021-11-21T19:18:03.526Z"
   },
   {
    "duration": 12,
    "start_time": "2021-11-21T19:18:03.623Z"
   },
   {
    "duration": 3,
    "start_time": "2021-11-21T19:18:03.643Z"
   },
   {
    "duration": 7,
    "start_time": "2021-11-21T19:18:03.649Z"
   },
   {
    "duration": 8,
    "start_time": "2021-11-21T19:18:03.659Z"
   },
   {
    "duration": 6,
    "start_time": "2021-11-21T19:18:03.669Z"
   },
   {
    "duration": 17,
    "start_time": "2021-11-21T19:18:03.678Z"
   },
   {
    "duration": 5,
    "start_time": "2021-11-21T19:18:03.698Z"
   },
   {
    "duration": 8,
    "start_time": "2021-11-21T19:18:03.705Z"
   },
   {
    "duration": 7,
    "start_time": "2021-11-21T19:18:03.716Z"
   },
   {
    "duration": 6,
    "start_time": "2021-11-21T19:18:03.725Z"
   },
   {
    "duration": 7,
    "start_time": "2021-11-21T19:18:03.733Z"
   },
   {
    "duration": 10,
    "start_time": "2021-11-21T19:18:03.742Z"
   },
   {
    "duration": 10,
    "start_time": "2021-11-21T19:18:03.754Z"
   },
   {
    "duration": 20,
    "start_time": "2021-11-21T19:18:03.766Z"
   },
   {
    "duration": 8,
    "start_time": "2021-11-21T19:18:03.788Z"
   },
   {
    "duration": 5126,
    "start_time": "2021-11-21T19:18:03.801Z"
   },
   {
    "duration": 20,
    "start_time": "2021-11-21T19:18:08.929Z"
   },
   {
    "duration": 4232,
    "start_time": "2021-11-21T19:18:23.392Z"
   },
   {
    "duration": 20,
    "start_time": "2021-11-21T19:18:29.331Z"
   },
   {
    "duration": 800,
    "start_time": "2021-11-21T19:20:31.409Z"
   },
   {
    "duration": 70,
    "start_time": "2021-11-21T19:20:32.212Z"
   },
   {
    "duration": 33,
    "start_time": "2021-11-21T19:20:32.288Z"
   },
   {
    "duration": 23,
    "start_time": "2021-11-21T19:20:32.325Z"
   },
   {
    "duration": 34,
    "start_time": "2021-11-21T19:20:32.352Z"
   },
   {
    "duration": 27,
    "start_time": "2021-11-21T19:20:32.389Z"
   },
   {
    "duration": 11,
    "start_time": "2021-11-21T19:20:32.420Z"
   },
   {
    "duration": 56,
    "start_time": "2021-11-21T19:20:32.437Z"
   },
   {
    "duration": 29,
    "start_time": "2021-11-21T19:20:32.497Z"
   },
   {
    "duration": 18,
    "start_time": "2021-11-21T19:20:32.528Z"
   },
   {
    "duration": 81,
    "start_time": "2021-11-21T19:20:32.549Z"
   },
   {
    "duration": 42,
    "start_time": "2021-11-21T19:20:32.632Z"
   },
   {
    "duration": 52,
    "start_time": "2021-11-21T19:20:32.681Z"
   },
   {
    "duration": 22,
    "start_time": "2021-11-21T19:20:32.736Z"
   },
   {
    "duration": 50,
    "start_time": "2021-11-21T19:20:32.784Z"
   },
   {
    "duration": 8,
    "start_time": "2021-11-21T19:20:32.837Z"
   },
   {
    "duration": 16,
    "start_time": "2021-11-21T19:20:32.848Z"
   },
   {
    "duration": 23,
    "start_time": "2021-11-21T19:20:32.867Z"
   },
   {
    "duration": 14,
    "start_time": "2021-11-21T19:20:32.893Z"
   },
   {
    "duration": 13,
    "start_time": "2021-11-21T19:20:32.909Z"
   },
   {
    "duration": 24,
    "start_time": "2021-11-21T19:20:32.925Z"
   },
   {
    "duration": 18,
    "start_time": "2021-11-21T19:20:32.952Z"
   },
   {
    "duration": 15,
    "start_time": "2021-11-21T19:20:32.976Z"
   },
   {
    "duration": 17,
    "start_time": "2021-11-21T19:20:32.996Z"
   },
   {
    "duration": 16,
    "start_time": "2021-11-21T19:20:33.016Z"
   },
   {
    "duration": 15,
    "start_time": "2021-11-21T19:20:33.035Z"
   },
   {
    "duration": 10,
    "start_time": "2021-11-21T19:20:33.053Z"
   },
   {
    "duration": 16,
    "start_time": "2021-11-21T19:20:33.065Z"
   },
   {
    "duration": 11,
    "start_time": "2021-11-21T19:20:33.084Z"
   },
   {
    "duration": 11,
    "start_time": "2021-11-21T19:20:33.098Z"
   },
   {
    "duration": 7,
    "start_time": "2021-11-21T19:20:33.111Z"
   },
   {
    "duration": 12,
    "start_time": "2021-11-21T19:20:33.122Z"
   },
   {
    "duration": 15,
    "start_time": "2021-11-21T19:20:33.136Z"
   },
   {
    "duration": 7,
    "start_time": "2021-11-21T19:20:33.154Z"
   },
   {
    "duration": 22,
    "start_time": "2021-11-21T19:20:33.164Z"
   },
   {
    "duration": 18,
    "start_time": "2021-11-21T19:20:33.189Z"
   },
   {
    "duration": 15,
    "start_time": "2021-11-21T19:20:33.210Z"
   },
   {
    "duration": 11,
    "start_time": "2021-11-21T19:20:33.227Z"
   },
   {
    "duration": 15,
    "start_time": "2021-11-21T19:20:33.241Z"
   },
   {
    "duration": 5,
    "start_time": "2021-11-21T19:20:33.258Z"
   },
   {
    "duration": 16,
    "start_time": "2021-11-21T19:20:33.265Z"
   },
   {
    "duration": 11,
    "start_time": "2021-11-21T19:20:33.286Z"
   },
   {
    "duration": 18,
    "start_time": "2021-11-21T19:20:33.299Z"
   },
   {
    "duration": 16,
    "start_time": "2021-11-21T19:20:33.320Z"
   },
   {
    "duration": 17,
    "start_time": "2021-11-21T19:20:33.339Z"
   },
   {
    "duration": 11,
    "start_time": "2021-11-21T19:20:33.358Z"
   },
   {
    "duration": 37,
    "start_time": "2021-11-21T19:20:33.371Z"
   },
   {
    "duration": 40,
    "start_time": "2021-11-21T19:20:33.410Z"
   },
   {
    "duration": 48,
    "start_time": "2021-11-21T19:20:33.453Z"
   },
   {
    "duration": 25,
    "start_time": "2021-11-21T19:20:33.504Z"
   },
   {
    "duration": 55,
    "start_time": "2021-11-21T19:20:33.532Z"
   },
   {
    "duration": 10,
    "start_time": "2021-11-21T19:20:33.590Z"
   },
   {
    "duration": 21,
    "start_time": "2021-11-21T19:20:33.603Z"
   },
   {
    "duration": 6,
    "start_time": "2021-11-21T19:20:33.627Z"
   },
   {
    "duration": 8,
    "start_time": "2021-11-21T19:20:33.636Z"
   },
   {
    "duration": 13,
    "start_time": "2021-11-21T19:20:33.647Z"
   },
   {
    "duration": 24,
    "start_time": "2021-11-21T19:20:33.663Z"
   },
   {
    "duration": 10,
    "start_time": "2021-11-21T19:20:33.691Z"
   },
   {
    "duration": 14,
    "start_time": "2021-11-21T19:20:33.704Z"
   },
   {
    "duration": 12,
    "start_time": "2021-11-21T19:20:33.721Z"
   },
   {
    "duration": 15,
    "start_time": "2021-11-21T19:20:33.736Z"
   },
   {
    "duration": 10,
    "start_time": "2021-11-21T19:20:33.753Z"
   },
   {
    "duration": 7,
    "start_time": "2021-11-21T19:20:33.766Z"
   },
   {
    "duration": 10,
    "start_time": "2021-11-21T19:20:33.776Z"
   },
   {
    "duration": 18,
    "start_time": "2021-11-21T19:20:33.788Z"
   },
   {
    "duration": 3,
    "start_time": "2021-11-21T19:20:33.812Z"
   },
   {
    "duration": 9,
    "start_time": "2021-11-21T19:20:33.818Z"
   },
   {
    "duration": 487,
    "start_time": "2021-11-21T19:20:33.833Z"
   },
   {
    "duration": 775,
    "start_time": "2021-11-21T19:20:33.548Z"
   },
   {
    "duration": 4978,
    "start_time": "2021-11-21T19:20:58.087Z"
   },
   {
    "duration": 31,
    "start_time": "2021-11-21T19:21:08.272Z"
   },
   {
    "duration": 740,
    "start_time": "2021-11-21T19:22:57.524Z"
   },
   {
    "duration": 70,
    "start_time": "2021-11-21T19:22:58.268Z"
   },
   {
    "duration": 45,
    "start_time": "2021-11-21T19:22:58.341Z"
   },
   {
    "duration": 16,
    "start_time": "2021-11-21T19:22:58.393Z"
   },
   {
    "duration": 3,
    "start_time": "2021-11-21T19:22:58.411Z"
   },
   {
    "duration": 9,
    "start_time": "2021-11-21T19:22:58.417Z"
   },
   {
    "duration": 7,
    "start_time": "2021-11-21T19:22:58.429Z"
   },
   {
    "duration": 60,
    "start_time": "2021-11-21T19:22:58.440Z"
   },
   {
    "duration": 34,
    "start_time": "2021-11-21T19:22:58.505Z"
   },
   {
    "duration": 48,
    "start_time": "2021-11-21T19:22:58.542Z"
   },
   {
    "duration": 41,
    "start_time": "2021-11-21T19:22:58.592Z"
   },
   {
    "duration": 25,
    "start_time": "2021-11-21T19:22:58.635Z"
   },
   {
    "duration": 67,
    "start_time": "2021-11-21T19:22:58.662Z"
   },
   {
    "duration": 23,
    "start_time": "2021-11-21T19:22:58.732Z"
   },
   {
    "duration": 72,
    "start_time": "2021-11-21T19:22:58.758Z"
   },
   {
    "duration": 8,
    "start_time": "2021-11-21T19:22:58.832Z"
   },
   {
    "duration": 9,
    "start_time": "2021-11-21T19:22:58.843Z"
   },
   {
    "duration": 28,
    "start_time": "2021-11-21T19:22:58.854Z"
   },
   {
    "duration": 3,
    "start_time": "2021-11-21T19:22:58.884Z"
   },
   {
    "duration": 5,
    "start_time": "2021-11-21T19:22:58.890Z"
   },
   {
    "duration": 12,
    "start_time": "2021-11-21T19:22:58.897Z"
   },
   {
    "duration": 5,
    "start_time": "2021-11-21T19:22:58.913Z"
   },
   {
    "duration": 3,
    "start_time": "2021-11-21T19:22:58.924Z"
   },
   {
    "duration": 5,
    "start_time": "2021-11-21T19:22:58.932Z"
   },
   {
    "duration": 51,
    "start_time": "2021-11-21T19:22:58.939Z"
   },
   {
    "duration": 7,
    "start_time": "2021-11-21T19:22:58.993Z"
   },
   {
    "duration": 11,
    "start_time": "2021-11-21T19:22:59.002Z"
   },
   {
    "duration": 9,
    "start_time": "2021-11-21T19:22:59.015Z"
   },
   {
    "duration": 7,
    "start_time": "2021-11-21T19:22:59.026Z"
   },
   {
    "duration": 8,
    "start_time": "2021-11-21T19:22:59.035Z"
   },
   {
    "duration": 6,
    "start_time": "2021-11-21T19:22:59.045Z"
   },
   {
    "duration": 10,
    "start_time": "2021-11-21T19:22:59.053Z"
   },
   {
    "duration": 18,
    "start_time": "2021-11-21T19:22:59.066Z"
   },
   {
    "duration": 13,
    "start_time": "2021-11-21T19:22:59.089Z"
   },
   {
    "duration": 10,
    "start_time": "2021-11-21T19:22:59.104Z"
   },
   {
    "duration": 7,
    "start_time": "2021-11-21T19:22:59.116Z"
   },
   {
    "duration": 6,
    "start_time": "2021-11-21T19:22:59.126Z"
   },
   {
    "duration": 7,
    "start_time": "2021-11-21T19:22:59.134Z"
   },
   {
    "duration": 6,
    "start_time": "2021-11-21T19:22:59.143Z"
   },
   {
    "duration": 31,
    "start_time": "2021-11-21T19:22:59.151Z"
   },
   {
    "duration": 7,
    "start_time": "2021-11-21T19:22:59.185Z"
   },
   {
    "duration": 9,
    "start_time": "2021-11-21T19:22:59.194Z"
   },
   {
    "duration": 6,
    "start_time": "2021-11-21T19:22:59.206Z"
   },
   {
    "duration": 5,
    "start_time": "2021-11-21T19:22:59.215Z"
   },
   {
    "duration": 12,
    "start_time": "2021-11-21T19:22:59.222Z"
   },
   {
    "duration": 6,
    "start_time": "2021-11-21T19:22:59.237Z"
   },
   {
    "duration": 59,
    "start_time": "2021-11-21T19:22:59.245Z"
   },
   {
    "duration": 28,
    "start_time": "2021-11-21T19:22:59.306Z"
   },
   {
    "duration": 59,
    "start_time": "2021-11-21T19:22:59.337Z"
   },
   {
    "duration": 25,
    "start_time": "2021-11-21T19:22:59.399Z"
   },
   {
    "duration": 24,
    "start_time": "2021-11-21T19:22:59.427Z"
   },
   {
    "duration": 32,
    "start_time": "2021-11-21T19:22:59.454Z"
   },
   {
    "duration": 18,
    "start_time": "2021-11-21T19:22:59.495Z"
   },
   {
    "duration": 5187,
    "start_time": "2021-11-21T19:22:59.517Z"
   },
   {
    "duration": 3,
    "start_time": "2021-11-21T19:23:04.708Z"
   },
   {
    "duration": 12,
    "start_time": "2021-11-21T19:23:04.714Z"
   },
   {
    "duration": 9,
    "start_time": "2021-11-21T19:23:04.728Z"
   },
   {
    "duration": 8,
    "start_time": "2021-11-21T19:23:04.740Z"
   },
   {
    "duration": 5,
    "start_time": "2021-11-21T19:23:04.751Z"
   },
   {
    "duration": 4,
    "start_time": "2021-11-21T19:23:04.786Z"
   },
   {
    "duration": 10,
    "start_time": "2021-11-21T19:23:04.792Z"
   },
   {
    "duration": 7,
    "start_time": "2021-11-21T19:23:04.805Z"
   },
   {
    "duration": 5,
    "start_time": "2021-11-21T19:23:04.814Z"
   },
   {
    "duration": 7,
    "start_time": "2021-11-21T19:23:04.822Z"
   },
   {
    "duration": 9,
    "start_time": "2021-11-21T19:23:04.831Z"
   },
   {
    "duration": 6,
    "start_time": "2021-11-21T19:23:04.843Z"
   },
   {
    "duration": 31,
    "start_time": "2021-11-21T19:23:04.852Z"
   },
   {
    "duration": 3,
    "start_time": "2021-11-21T19:23:04.898Z"
   },
   {
    "duration": 9,
    "start_time": "2021-11-21T19:23:04.904Z"
   },
   {
    "duration": 5,
    "start_time": "2021-11-21T19:23:04.915Z"
   },
   {
    "duration": 21,
    "start_time": "2021-11-21T19:23:16.632Z"
   },
   {
    "duration": 4004,
    "start_time": "2021-11-21T19:24:24.535Z"
   },
   {
    "duration": 20,
    "start_time": "2021-11-21T19:24:30.117Z"
   },
   {
    "duration": 1029,
    "start_time": "2021-11-21T19:24:41.333Z"
   },
   {
    "duration": 93,
    "start_time": "2021-11-21T19:24:42.365Z"
   },
   {
    "duration": 46,
    "start_time": "2021-11-21T19:24:42.462Z"
   },
   {
    "duration": 14,
    "start_time": "2021-11-21T19:24:42.511Z"
   },
   {
    "duration": 5,
    "start_time": "2021-11-21T19:24:42.528Z"
   },
   {
    "duration": 15,
    "start_time": "2021-11-21T19:24:42.535Z"
   },
   {
    "duration": 13,
    "start_time": "2021-11-21T19:24:42.584Z"
   },
   {
    "duration": 25,
    "start_time": "2021-11-21T19:24:42.601Z"
   },
   {
    "duration": 22,
    "start_time": "2021-11-21T19:24:42.629Z"
   },
   {
    "duration": 47,
    "start_time": "2021-11-21T19:24:42.654Z"
   },
   {
    "duration": 39,
    "start_time": "2021-11-21T19:24:42.704Z"
   },
   {
    "duration": 48,
    "start_time": "2021-11-21T19:24:42.745Z"
   },
   {
    "duration": 34,
    "start_time": "2021-11-21T19:24:42.796Z"
   },
   {
    "duration": 15,
    "start_time": "2021-11-21T19:24:42.832Z"
   },
   {
    "duration": 68,
    "start_time": "2021-11-21T19:24:42.850Z"
   },
   {
    "duration": 8,
    "start_time": "2021-11-21T19:24:42.921Z"
   },
   {
    "duration": 7,
    "start_time": "2021-11-21T19:24:42.931Z"
   },
   {
    "duration": 5,
    "start_time": "2021-11-21T19:24:42.941Z"
   },
   {
    "duration": 6,
    "start_time": "2021-11-21T19:24:42.948Z"
   },
   {
    "duration": 44,
    "start_time": "2021-11-21T19:24:42.956Z"
   },
   {
    "duration": 8,
    "start_time": "2021-11-21T19:24:43.002Z"
   },
   {
    "duration": 18,
    "start_time": "2021-11-21T19:24:43.012Z"
   },
   {
    "duration": 5,
    "start_time": "2021-11-21T19:24:43.037Z"
   },
   {
    "duration": 7,
    "start_time": "2021-11-21T19:24:43.046Z"
   },
   {
    "duration": 13,
    "start_time": "2021-11-21T19:24:43.055Z"
   },
   {
    "duration": 9,
    "start_time": "2021-11-21T19:24:43.070Z"
   },
   {
    "duration": 5,
    "start_time": "2021-11-21T19:24:43.083Z"
   },
   {
    "duration": 17,
    "start_time": "2021-11-21T19:24:43.090Z"
   },
   {
    "duration": 8,
    "start_time": "2021-11-21T19:24:43.109Z"
   },
   {
    "duration": 8,
    "start_time": "2021-11-21T19:24:43.120Z"
   },
   {
    "duration": 10,
    "start_time": "2021-11-21T19:24:43.130Z"
   },
   {
    "duration": 12,
    "start_time": "2021-11-21T19:24:43.142Z"
   },
   {
    "duration": 9,
    "start_time": "2021-11-21T19:24:43.156Z"
   },
   {
    "duration": 25,
    "start_time": "2021-11-21T19:24:43.167Z"
   },
   {
    "duration": 9,
    "start_time": "2021-11-21T19:24:43.194Z"
   },
   {
    "duration": 10,
    "start_time": "2021-11-21T19:24:43.206Z"
   },
   {
    "duration": 8,
    "start_time": "2021-11-21T19:24:43.219Z"
   },
   {
    "duration": 6,
    "start_time": "2021-11-21T19:24:43.230Z"
   },
   {
    "duration": 7,
    "start_time": "2021-11-21T19:24:43.239Z"
   },
   {
    "duration": 8,
    "start_time": "2021-11-21T19:24:43.248Z"
   },
   {
    "duration": 14,
    "start_time": "2021-11-21T19:24:43.258Z"
   },
   {
    "duration": 12,
    "start_time": "2021-11-21T19:24:43.275Z"
   },
   {
    "duration": 3,
    "start_time": "2021-11-21T19:24:43.292Z"
   },
   {
    "duration": 17,
    "start_time": "2021-11-21T19:24:43.297Z"
   },
   {
    "duration": 15,
    "start_time": "2021-11-21T19:24:43.317Z"
   },
   {
    "duration": 11,
    "start_time": "2021-11-21T19:24:43.335Z"
   },
   {
    "duration": 42,
    "start_time": "2021-11-21T19:24:43.348Z"
   },
   {
    "duration": 29,
    "start_time": "2021-11-21T19:24:43.393Z"
   },
   {
    "duration": 26,
    "start_time": "2021-11-21T19:24:43.425Z"
   },
   {
    "duration": 46,
    "start_time": "2021-11-21T19:24:43.454Z"
   },
   {
    "duration": 26,
    "start_time": "2021-11-21T19:24:43.504Z"
   },
   {
    "duration": 10,
    "start_time": "2021-11-21T19:24:43.533Z"
   },
   {
    "duration": 51,
    "start_time": "2021-11-21T19:24:43.545Z"
   },
   {
    "duration": 5556,
    "start_time": "2021-11-21T19:24:43.599Z"
   },
   {
    "duration": 32,
    "start_time": "2021-11-21T19:24:49.157Z"
   },
   {
    "duration": 5,
    "start_time": "2021-11-21T19:24:49.193Z"
   },
   {
    "duration": 7,
    "start_time": "2021-11-21T19:24:49.202Z"
   },
   {
    "duration": 6,
    "start_time": "2021-11-21T19:24:49.212Z"
   },
   {
    "duration": 6,
    "start_time": "2021-11-21T19:24:49.220Z"
   },
   {
    "duration": 7,
    "start_time": "2021-11-21T19:24:49.228Z"
   },
   {
    "duration": 7,
    "start_time": "2021-11-21T19:24:49.237Z"
   },
   {
    "duration": 48,
    "start_time": "2021-11-21T19:24:49.246Z"
   },
   {
    "duration": 9,
    "start_time": "2021-11-21T19:24:49.297Z"
   },
   {
    "duration": 7,
    "start_time": "2021-11-21T19:24:49.309Z"
   },
   {
    "duration": 6,
    "start_time": "2021-11-21T19:24:49.319Z"
   },
   {
    "duration": 7,
    "start_time": "2021-11-21T19:24:49.327Z"
   },
   {
    "duration": 6,
    "start_time": "2021-11-21T19:24:49.337Z"
   },
   {
    "duration": 31,
    "start_time": "2021-11-21T19:24:49.353Z"
   },
   {
    "duration": 4,
    "start_time": "2021-11-21T19:24:49.394Z"
   },
   {
    "duration": 7,
    "start_time": "2021-11-21T19:24:49.400Z"
   },
   {
    "duration": 7,
    "start_time": "2021-11-21T19:24:49.409Z"
   },
   {
    "duration": 19,
    "start_time": "2021-11-21T19:25:17.558Z"
   },
   {
    "duration": 866,
    "start_time": "2021-11-21T19:27:40.550Z"
   },
   {
    "duration": 72,
    "start_time": "2021-11-21T19:27:41.419Z"
   },
   {
    "duration": 35,
    "start_time": "2021-11-21T19:27:41.499Z"
   },
   {
    "duration": 19,
    "start_time": "2021-11-21T19:27:41.536Z"
   },
   {
    "duration": 30,
    "start_time": "2021-11-21T19:27:41.558Z"
   },
   {
    "duration": 17,
    "start_time": "2021-11-21T19:27:41.591Z"
   },
   {
    "duration": 9,
    "start_time": "2021-11-21T19:27:41.614Z"
   },
   {
    "duration": 61,
    "start_time": "2021-11-21T19:27:41.627Z"
   },
   {
    "duration": 35,
    "start_time": "2021-11-21T19:27:41.690Z"
   },
   {
    "duration": 23,
    "start_time": "2021-11-21T19:27:41.728Z"
   },
   {
    "duration": 75,
    "start_time": "2021-11-21T19:27:41.754Z"
   },
   {
    "duration": 29,
    "start_time": "2021-11-21T19:27:41.831Z"
   },
   {
    "duration": 55,
    "start_time": "2021-11-21T19:27:41.882Z"
   },
   {
    "duration": 18,
    "start_time": "2021-11-21T19:27:41.939Z"
   },
   {
    "duration": 84,
    "start_time": "2021-11-21T19:27:41.959Z"
   },
   {
    "duration": 12,
    "start_time": "2021-11-21T19:27:42.046Z"
   },
   {
    "duration": 8,
    "start_time": "2021-11-21T19:27:42.088Z"
   },
   {
    "duration": 6,
    "start_time": "2021-11-21T19:27:42.099Z"
   },
   {
    "duration": 4,
    "start_time": "2021-11-21T19:27:42.108Z"
   },
   {
    "duration": 9,
    "start_time": "2021-11-21T19:27:42.114Z"
   },
   {
    "duration": 6,
    "start_time": "2021-11-21T19:27:42.127Z"
   },
   {
    "duration": 3,
    "start_time": "2021-11-21T19:27:42.143Z"
   },
   {
    "duration": 8,
    "start_time": "2021-11-21T19:27:42.188Z"
   },
   {
    "duration": 8,
    "start_time": "2021-11-21T19:27:42.200Z"
   },
   {
    "duration": 8,
    "start_time": "2021-11-21T19:27:42.211Z"
   },
   {
    "duration": 6,
    "start_time": "2021-11-21T19:27:42.222Z"
   },
   {
    "duration": 6,
    "start_time": "2021-11-21T19:27:42.231Z"
   },
   {
    "duration": 6,
    "start_time": "2021-11-21T19:27:42.240Z"
   },
   {
    "duration": 40,
    "start_time": "2021-11-21T19:27:42.249Z"
   },
   {
    "duration": 6,
    "start_time": "2021-11-21T19:27:42.296Z"
   },
   {
    "duration": 5,
    "start_time": "2021-11-21T19:27:42.306Z"
   },
   {
    "duration": 10,
    "start_time": "2021-11-21T19:27:42.315Z"
   },
   {
    "duration": 7,
    "start_time": "2021-11-21T19:27:42.328Z"
   },
   {
    "duration": 6,
    "start_time": "2021-11-21T19:27:42.338Z"
   },
   {
    "duration": 42,
    "start_time": "2021-11-21T19:27:42.347Z"
   },
   {
    "duration": 6,
    "start_time": "2021-11-21T19:27:42.392Z"
   },
   {
    "duration": 7,
    "start_time": "2021-11-21T19:27:42.401Z"
   },
   {
    "duration": 6,
    "start_time": "2021-11-21T19:27:42.412Z"
   },
   {
    "duration": 5,
    "start_time": "2021-11-21T19:27:42.421Z"
   },
   {
    "duration": 5,
    "start_time": "2021-11-21T19:27:42.429Z"
   },
   {
    "duration": 49,
    "start_time": "2021-11-21T19:27:42.437Z"
   },
   {
    "duration": 4,
    "start_time": "2021-11-21T19:27:42.489Z"
   },
   {
    "duration": 5,
    "start_time": "2021-11-21T19:27:42.495Z"
   },
   {
    "duration": 8,
    "start_time": "2021-11-21T19:27:42.502Z"
   },
   {
    "duration": 20,
    "start_time": "2021-11-21T19:27:42.515Z"
   },
   {
    "duration": 7,
    "start_time": "2021-11-21T19:27:42.538Z"
   },
   {
    "duration": 58,
    "start_time": "2021-11-21T19:27:42.548Z"
   },
   {
    "duration": 27,
    "start_time": "2021-11-21T19:27:42.608Z"
   },
   {
    "duration": 60,
    "start_time": "2021-11-21T19:27:42.637Z"
   },
   {
    "duration": 29,
    "start_time": "2021-11-21T19:27:42.700Z"
   },
   {
    "duration": 26,
    "start_time": "2021-11-21T19:27:42.731Z"
   },
   {
    "duration": 33,
    "start_time": "2021-11-21T19:27:42.760Z"
   },
   {
    "duration": 17,
    "start_time": "2021-11-21T19:27:42.797Z"
   },
   {
    "duration": 6365,
    "start_time": "2021-11-21T19:27:42.816Z"
   },
   {
    "duration": 21,
    "start_time": "2021-11-21T19:27:49.184Z"
   },
   {
    "duration": 3,
    "start_time": "2021-11-21T19:27:49.208Z"
   },
   {
    "duration": 5,
    "start_time": "2021-11-21T19:27:49.215Z"
   },
   {
    "duration": 6,
    "start_time": "2021-11-21T19:27:49.223Z"
   },
   {
    "duration": 6,
    "start_time": "2021-11-21T19:27:49.232Z"
   },
   {
    "duration": 47,
    "start_time": "2021-11-21T19:27:49.241Z"
   },
   {
    "duration": 6,
    "start_time": "2021-11-21T19:27:49.291Z"
   },
   {
    "duration": 12,
    "start_time": "2021-11-21T19:27:49.301Z"
   },
   {
    "duration": 9,
    "start_time": "2021-11-21T19:27:49.316Z"
   },
   {
    "duration": 7,
    "start_time": "2021-11-21T19:27:49.329Z"
   },
   {
    "duration": 5,
    "start_time": "2021-11-21T19:27:49.340Z"
   },
   {
    "duration": 11,
    "start_time": "2021-11-21T19:27:49.348Z"
   },
   {
    "duration": 9,
    "start_time": "2021-11-21T19:27:49.396Z"
   },
   {
    "duration": 7,
    "start_time": "2021-11-21T19:27:49.409Z"
   },
   {
    "duration": 7,
    "start_time": "2021-11-21T19:27:49.419Z"
   },
   {
    "duration": 7,
    "start_time": "2021-11-21T19:27:49.429Z"
   },
   {
    "duration": 5,
    "start_time": "2021-11-21T19:27:49.439Z"
   },
   {
    "duration": 15,
    "start_time": "2021-11-21T19:29:59.363Z"
   },
   {
    "duration": 11,
    "start_time": "2021-11-21T19:30:12.557Z"
   },
   {
    "duration": 15,
    "start_time": "2021-11-21T19:31:17.101Z"
   },
   {
    "duration": 19,
    "start_time": "2021-11-21T19:31:19.634Z"
   },
   {
    "duration": 559,
    "start_time": "2021-11-21T19:33:59.232Z"
   },
   {
    "duration": 4,
    "start_time": "2021-11-21T19:34:18.043Z"
   },
   {
    "duration": 30,
    "start_time": "2021-11-21T19:34:21.860Z"
   },
   {
    "duration": 321,
    "start_time": "2021-11-21T19:36:12.951Z"
   },
   {
    "duration": 10,
    "start_time": "2021-11-21T19:36:29.718Z"
   },
   {
    "duration": 17,
    "start_time": "2021-11-21T19:36:32.512Z"
   },
   {
    "duration": 4,
    "start_time": "2021-11-21T19:40:49.683Z"
   },
   {
    "duration": 12,
    "start_time": "2021-11-21T19:40:52.337Z"
   },
   {
    "duration": 278,
    "start_time": "2021-11-21T19:44:14.247Z"
   },
   {
    "duration": 210,
    "start_time": "2021-11-21T19:44:25.066Z"
   },
   {
    "duration": 17,
    "start_time": "2021-11-21T19:44:27.833Z"
   },
   {
    "duration": 385,
    "start_time": "2021-11-21T19:45:22.362Z"
   },
   {
    "duration": 2418,
    "start_time": "2021-11-21T19:45:46.952Z"
   },
   {
    "duration": 945,
    "start_time": "2021-11-21T19:46:16.891Z"
   },
   {
    "duration": 90,
    "start_time": "2021-11-21T19:46:17.840Z"
   },
   {
    "duration": 32,
    "start_time": "2021-11-21T19:46:17.934Z"
   },
   {
    "duration": 42,
    "start_time": "2021-11-21T19:46:17.969Z"
   },
   {
    "duration": 3,
    "start_time": "2021-11-21T19:46:18.015Z"
   },
   {
    "duration": 12,
    "start_time": "2021-11-21T19:46:18.021Z"
   },
   {
    "duration": 7,
    "start_time": "2021-11-21T19:46:18.036Z"
   },
   {
    "duration": 73,
    "start_time": "2021-11-21T19:46:18.046Z"
   },
   {
    "duration": 32,
    "start_time": "2021-11-21T19:46:18.124Z"
   },
   {
    "duration": 40,
    "start_time": "2021-11-21T19:46:18.161Z"
   },
   {
    "duration": 49,
    "start_time": "2021-11-21T19:46:18.204Z"
   },
   {
    "duration": 45,
    "start_time": "2021-11-21T19:46:18.255Z"
   },
   {
    "duration": 55,
    "start_time": "2021-11-21T19:46:18.303Z"
   },
   {
    "duration": 44,
    "start_time": "2021-11-21T19:46:18.361Z"
   },
   {
    "duration": 73,
    "start_time": "2021-11-21T19:46:18.409Z"
   },
   {
    "duration": 13,
    "start_time": "2021-11-21T19:46:18.487Z"
   },
   {
    "duration": 4,
    "start_time": "2021-11-21T19:46:18.503Z"
   },
   {
    "duration": 5,
    "start_time": "2021-11-21T19:46:18.510Z"
   },
   {
    "duration": 4,
    "start_time": "2021-11-21T19:46:18.521Z"
   },
   {
    "duration": 5,
    "start_time": "2021-11-21T19:46:18.529Z"
   },
   {
    "duration": 48,
    "start_time": "2021-11-21T19:46:18.537Z"
   },
   {
    "duration": 16,
    "start_time": "2021-11-21T19:46:18.593Z"
   },
   {
    "duration": 5,
    "start_time": "2021-11-21T19:46:18.614Z"
   },
   {
    "duration": 7,
    "start_time": "2021-11-21T19:46:18.622Z"
   },
   {
    "duration": 6,
    "start_time": "2021-11-21T19:46:18.631Z"
   },
   {
    "duration": 7,
    "start_time": "2021-11-21T19:46:18.639Z"
   },
   {
    "duration": 3,
    "start_time": "2021-11-21T19:46:18.653Z"
   },
   {
    "duration": 27,
    "start_time": "2021-11-21T19:46:18.659Z"
   },
   {
    "duration": 9,
    "start_time": "2021-11-21T19:46:18.698Z"
   },
   {
    "duration": 13,
    "start_time": "2021-11-21T19:46:18.710Z"
   },
   {
    "duration": 9,
    "start_time": "2021-11-21T19:46:18.726Z"
   },
   {
    "duration": 14,
    "start_time": "2021-11-21T19:46:18.738Z"
   },
   {
    "duration": 7,
    "start_time": "2021-11-21T19:46:18.754Z"
   },
   {
    "duration": 7,
    "start_time": "2021-11-21T19:46:18.764Z"
   },
   {
    "duration": 6,
    "start_time": "2021-11-21T19:46:18.782Z"
   },
   {
    "duration": 6,
    "start_time": "2021-11-21T19:46:18.792Z"
   },
   {
    "duration": 10,
    "start_time": "2021-11-21T19:46:18.800Z"
   },
   {
    "duration": 10,
    "start_time": "2021-11-21T19:46:18.812Z"
   },
   {
    "duration": 8,
    "start_time": "2021-11-21T19:46:18.824Z"
   },
   {
    "duration": 6,
    "start_time": "2021-11-21T19:46:18.834Z"
   },
   {
    "duration": 10,
    "start_time": "2021-11-21T19:46:18.842Z"
   },
   {
    "duration": 4,
    "start_time": "2021-11-21T19:46:18.856Z"
   },
   {
    "duration": 6,
    "start_time": "2021-11-21T19:46:18.887Z"
   },
   {
    "duration": 7,
    "start_time": "2021-11-21T19:46:18.896Z"
   },
   {
    "duration": 24,
    "start_time": "2021-11-21T19:46:18.909Z"
   },
   {
    "duration": 9,
    "start_time": "2021-11-21T19:46:18.935Z"
   },
   {
    "duration": 44,
    "start_time": "2021-11-21T19:46:18.946Z"
   },
   {
    "duration": 43,
    "start_time": "2021-11-21T19:46:18.993Z"
   },
   {
    "duration": 57,
    "start_time": "2021-11-21T19:46:19.039Z"
   },
   {
    "duration": 33,
    "start_time": "2021-11-21T19:46:19.099Z"
   },
   {
    "duration": 26,
    "start_time": "2021-11-21T19:46:19.135Z"
   },
   {
    "duration": 13,
    "start_time": "2021-11-21T19:46:19.188Z"
   },
   {
    "duration": 14,
    "start_time": "2021-11-21T19:46:19.205Z"
   },
   {
    "duration": 5300,
    "start_time": "2021-11-21T19:46:19.221Z"
   },
   {
    "duration": 16,
    "start_time": "2021-11-21T19:46:24.524Z"
   },
   {
    "duration": 52,
    "start_time": "2021-11-21T19:46:24.543Z"
   },
   {
    "duration": 4,
    "start_time": "2021-11-21T19:46:24.598Z"
   },
   {
    "duration": 19,
    "start_time": "2021-11-21T19:46:24.605Z"
   },
   {
    "duration": 7,
    "start_time": "2021-11-21T19:46:24.626Z"
   },
   {
    "duration": 5,
    "start_time": "2021-11-21T19:46:24.636Z"
   },
   {
    "duration": 11,
    "start_time": "2021-11-21T19:46:24.644Z"
   },
   {
    "duration": 31,
    "start_time": "2021-11-21T19:46:24.658Z"
   },
   {
    "duration": 11,
    "start_time": "2021-11-21T19:46:24.692Z"
   },
   {
    "duration": 11,
    "start_time": "2021-11-21T19:46:24.706Z"
   },
   {
    "duration": 5,
    "start_time": "2021-11-21T19:46:24.720Z"
   },
   {
    "duration": 6,
    "start_time": "2021-11-21T19:46:24.728Z"
   },
   {
    "duration": 7,
    "start_time": "2021-11-21T19:46:24.736Z"
   },
   {
    "duration": 5,
    "start_time": "2021-11-21T19:46:24.746Z"
   },
   {
    "duration": 34,
    "start_time": "2021-11-21T19:46:24.753Z"
   },
   {
    "duration": 11,
    "start_time": "2021-11-21T19:46:24.790Z"
   },
   {
    "duration": 6,
    "start_time": "2021-11-21T19:46:24.805Z"
   },
   {
    "duration": 5,
    "start_time": "2021-11-21T19:46:24.814Z"
   },
   {
    "duration": 6,
    "start_time": "2021-11-21T19:47:27.710Z"
   },
   {
    "duration": 8,
    "start_time": "2021-11-21T19:52:26.971Z"
   },
   {
    "duration": 7,
    "start_time": "2021-11-21T19:52:35.305Z"
   },
   {
    "duration": 28,
    "start_time": "2021-11-21T19:54:25.427Z"
   },
   {
    "duration": 182,
    "start_time": "2021-11-21T19:56:59.487Z"
   },
   {
    "duration": 13,
    "start_time": "2021-11-21T19:57:55.767Z"
   },
   {
    "duration": 18,
    "start_time": "2021-11-21T20:06:14.518Z"
   },
   {
    "duration": 20,
    "start_time": "2021-11-21T20:17:12.897Z"
   },
   {
    "duration": 10,
    "start_time": "2021-11-21T20:17:15.369Z"
   },
   {
    "duration": 812,
    "start_time": "2021-11-21T20:18:13.669Z"
   },
   {
    "duration": 65,
    "start_time": "2021-11-21T20:18:14.484Z"
   },
   {
    "duration": 34,
    "start_time": "2021-11-21T20:18:14.552Z"
   },
   {
    "duration": 22,
    "start_time": "2021-11-21T20:18:14.589Z"
   },
   {
    "duration": 3,
    "start_time": "2021-11-21T20:18:14.614Z"
   },
   {
    "duration": 14,
    "start_time": "2021-11-21T20:18:14.620Z"
   },
   {
    "duration": 8,
    "start_time": "2021-11-21T20:18:14.637Z"
   },
   {
    "duration": 21,
    "start_time": "2021-11-21T20:18:14.682Z"
   },
   {
    "duration": 20,
    "start_time": "2021-11-21T20:18:14.706Z"
   },
   {
    "duration": 16,
    "start_time": "2021-11-21T20:18:14.728Z"
   },
   {
    "duration": 99,
    "start_time": "2021-11-21T20:18:14.747Z"
   },
   {
    "duration": 55,
    "start_time": "2021-11-21T20:18:14.849Z"
   },
   {
    "duration": 78,
    "start_time": "2021-11-21T20:18:14.908Z"
   },
   {
    "duration": 25,
    "start_time": "2021-11-21T20:18:14.989Z"
   },
   {
    "duration": 85,
    "start_time": "2021-11-21T20:18:15.017Z"
   },
   {
    "duration": 13,
    "start_time": "2021-11-21T20:18:15.105Z"
   },
   {
    "duration": 7,
    "start_time": "2021-11-21T20:18:15.121Z"
   },
   {
    "duration": 4,
    "start_time": "2021-11-21T20:18:15.131Z"
   },
   {
    "duration": 5,
    "start_time": "2021-11-21T20:18:15.138Z"
   },
   {
    "duration": 36,
    "start_time": "2021-11-21T20:18:15.146Z"
   },
   {
    "duration": 7,
    "start_time": "2021-11-21T20:18:15.184Z"
   },
   {
    "duration": 5,
    "start_time": "2021-11-21T20:18:15.194Z"
   },
   {
    "duration": 3,
    "start_time": "2021-11-21T20:18:15.205Z"
   },
   {
    "duration": 4,
    "start_time": "2021-11-21T20:18:15.212Z"
   },
   {
    "duration": 8,
    "start_time": "2021-11-21T20:18:15.218Z"
   },
   {
    "duration": 8,
    "start_time": "2021-11-21T20:18:15.228Z"
   },
   {
    "duration": 6,
    "start_time": "2021-11-21T20:18:15.238Z"
   },
   {
    "duration": 36,
    "start_time": "2021-11-21T20:18:15.247Z"
   },
   {
    "duration": 9,
    "start_time": "2021-11-21T20:18:15.285Z"
   },
   {
    "duration": 5,
    "start_time": "2021-11-21T20:18:15.296Z"
   },
   {
    "duration": 8,
    "start_time": "2021-11-21T20:18:15.304Z"
   },
   {
    "duration": 8,
    "start_time": "2021-11-21T20:18:15.314Z"
   },
   {
    "duration": 8,
    "start_time": "2021-11-21T20:18:15.325Z"
   },
   {
    "duration": 5,
    "start_time": "2021-11-21T20:18:15.335Z"
   },
   {
    "duration": 45,
    "start_time": "2021-11-21T20:18:15.343Z"
   },
   {
    "duration": 5,
    "start_time": "2021-11-21T20:18:15.391Z"
   },
   {
    "duration": 5,
    "start_time": "2021-11-21T20:18:15.399Z"
   },
   {
    "duration": 6,
    "start_time": "2021-11-21T20:18:15.406Z"
   },
   {
    "duration": 6,
    "start_time": "2021-11-21T20:18:15.414Z"
   },
   {
    "duration": 5,
    "start_time": "2021-11-21T20:18:15.422Z"
   },
   {
    "duration": 6,
    "start_time": "2021-11-21T20:18:15.430Z"
   },
   {
    "duration": 43,
    "start_time": "2021-11-21T20:18:15.438Z"
   },
   {
    "duration": 8,
    "start_time": "2021-11-21T20:18:15.484Z"
   },
   {
    "duration": 7,
    "start_time": "2021-11-21T20:18:15.495Z"
   },
   {
    "duration": 12,
    "start_time": "2021-11-21T20:18:15.504Z"
   },
   {
    "duration": 6,
    "start_time": "2021-11-21T20:18:15.519Z"
   },
   {
    "duration": 18,
    "start_time": "2021-11-21T20:18:15.527Z"
   },
   {
    "duration": 57,
    "start_time": "2021-11-21T20:18:15.547Z"
   },
   {
    "duration": 29,
    "start_time": "2021-11-21T20:18:15.606Z"
   },
   {
    "duration": 50,
    "start_time": "2021-11-21T20:18:15.637Z"
   },
   {
    "duration": 27,
    "start_time": "2021-11-21T20:18:15.689Z"
   },
   {
    "duration": 10,
    "start_time": "2021-11-21T20:18:15.719Z"
   },
   {
    "duration": 11,
    "start_time": "2021-11-21T20:18:15.732Z"
   },
   {
    "duration": 5536,
    "start_time": "2021-11-21T20:18:15.746Z"
   },
   {
    "duration": 14,
    "start_time": "2021-11-21T20:18:21.285Z"
   },
   {
    "duration": 16,
    "start_time": "2021-11-21T20:18:21.302Z"
   },
   {
    "duration": 17,
    "start_time": "2021-11-21T20:18:21.320Z"
   },
   {
    "duration": 6,
    "start_time": "2021-11-21T20:18:21.339Z"
   },
   {
    "duration": 37,
    "start_time": "2021-11-21T20:18:21.348Z"
   },
   {
    "duration": 6,
    "start_time": "2021-11-21T20:18:21.388Z"
   },
   {
    "duration": 11,
    "start_time": "2021-11-21T20:18:21.397Z"
   },
   {
    "duration": 6,
    "start_time": "2021-11-21T20:18:21.411Z"
   },
   {
    "duration": 6,
    "start_time": "2021-11-21T20:18:21.419Z"
   },
   {
    "duration": 5,
    "start_time": "2021-11-21T20:18:21.427Z"
   },
   {
    "duration": 5,
    "start_time": "2021-11-21T20:18:21.435Z"
   },
   {
    "duration": 38,
    "start_time": "2021-11-21T20:18:21.443Z"
   },
   {
    "duration": 8,
    "start_time": "2021-11-21T20:18:21.484Z"
   },
   {
    "duration": 3,
    "start_time": "2021-11-21T20:18:21.499Z"
   },
   {
    "duration": 7,
    "start_time": "2021-11-21T20:18:21.506Z"
   },
   {
    "duration": 9,
    "start_time": "2021-11-21T20:18:21.516Z"
   },
   {
    "duration": 5,
    "start_time": "2021-11-21T20:18:21.527Z"
   },
   {
    "duration": 9,
    "start_time": "2021-11-21T20:18:21.535Z"
   },
   {
    "duration": 36,
    "start_time": "2021-11-21T20:18:21.547Z"
   },
   {
    "duration": 815,
    "start_time": "2021-11-21T20:21:05.462Z"
   },
   {
    "duration": 66,
    "start_time": "2021-11-21T20:21:06.279Z"
   },
   {
    "duration": 28,
    "start_time": "2021-11-21T20:21:06.348Z"
   },
   {
    "duration": 16,
    "start_time": "2021-11-21T20:21:06.383Z"
   },
   {
    "duration": 3,
    "start_time": "2021-11-21T20:21:06.402Z"
   },
   {
    "duration": 12,
    "start_time": "2021-11-21T20:21:06.407Z"
   },
   {
    "duration": 12,
    "start_time": "2021-11-21T20:21:06.421Z"
   },
   {
    "duration": 55,
    "start_time": "2021-11-21T20:21:06.437Z"
   },
   {
    "duration": 31,
    "start_time": "2021-11-21T20:21:06.496Z"
   },
   {
    "duration": 21,
    "start_time": "2021-11-21T20:21:06.530Z"
   },
   {
    "duration": 61,
    "start_time": "2021-11-21T20:21:06.583Z"
   },
   {
    "duration": 48,
    "start_time": "2021-11-21T20:21:06.647Z"
   },
   {
    "duration": 35,
    "start_time": "2021-11-21T20:21:06.698Z"
   },
   {
    "duration": 18,
    "start_time": "2021-11-21T20:21:06.735Z"
   },
   {
    "duration": 45,
    "start_time": "2021-11-21T20:21:06.783Z"
   },
   {
    "duration": 10,
    "start_time": "2021-11-21T20:21:06.830Z"
   },
   {
    "duration": 8,
    "start_time": "2021-11-21T20:21:06.843Z"
   },
   {
    "duration": 7,
    "start_time": "2021-11-21T20:21:06.882Z"
   },
   {
    "duration": 7,
    "start_time": "2021-11-21T20:21:06.892Z"
   },
   {
    "duration": 6,
    "start_time": "2021-11-21T20:21:06.902Z"
   },
   {
    "duration": 11,
    "start_time": "2021-11-21T20:21:06.910Z"
   },
   {
    "duration": 13,
    "start_time": "2021-11-21T20:21:06.924Z"
   },
   {
    "duration": 3,
    "start_time": "2021-11-21T20:21:06.944Z"
   },
   {
    "duration": 31,
    "start_time": "2021-11-21T20:21:06.951Z"
   },
   {
    "duration": 4,
    "start_time": "2021-11-21T20:21:06.984Z"
   },
   {
    "duration": 6,
    "start_time": "2021-11-21T20:21:06.990Z"
   },
   {
    "duration": 7,
    "start_time": "2021-11-21T20:21:06.998Z"
   },
   {
    "duration": 11,
    "start_time": "2021-11-21T20:21:07.007Z"
   },
   {
    "duration": 7,
    "start_time": "2021-11-21T20:21:07.020Z"
   },
   {
    "duration": 7,
    "start_time": "2021-11-21T20:21:07.029Z"
   },
   {
    "duration": 10,
    "start_time": "2021-11-21T20:21:07.038Z"
   },
   {
    "duration": 9,
    "start_time": "2021-11-21T20:21:07.051Z"
   },
   {
    "duration": 11,
    "start_time": "2021-11-21T20:21:07.083Z"
   },
   {
    "duration": 8,
    "start_time": "2021-11-21T20:21:07.097Z"
   },
   {
    "duration": 9,
    "start_time": "2021-11-21T20:21:07.107Z"
   },
   {
    "duration": 6,
    "start_time": "2021-11-21T20:21:07.119Z"
   },
   {
    "duration": 5,
    "start_time": "2021-11-21T20:21:07.130Z"
   },
   {
    "duration": 6,
    "start_time": "2021-11-21T20:21:07.138Z"
   },
   {
    "duration": 39,
    "start_time": "2021-11-21T20:21:07.147Z"
   },
   {
    "duration": 10,
    "start_time": "2021-11-21T20:21:07.189Z"
   },
   {
    "duration": 15,
    "start_time": "2021-11-21T20:21:07.202Z"
   },
   {
    "duration": 10,
    "start_time": "2021-11-21T20:21:07.219Z"
   },
   {
    "duration": 8,
    "start_time": "2021-11-21T20:21:07.232Z"
   },
   {
    "duration": 7,
    "start_time": "2021-11-21T20:21:07.243Z"
   },
   {
    "duration": 34,
    "start_time": "2021-11-21T20:21:07.253Z"
   },
   {
    "duration": 7,
    "start_time": "2021-11-21T20:21:07.290Z"
   },
   {
    "duration": 28,
    "start_time": "2021-11-21T20:21:07.300Z"
   },
   {
    "duration": 69,
    "start_time": "2021-11-21T20:21:07.331Z"
   },
   {
    "duration": 30,
    "start_time": "2021-11-21T20:21:07.403Z"
   },
   {
    "duration": 49,
    "start_time": "2021-11-21T20:21:07.435Z"
   },
   {
    "duration": 25,
    "start_time": "2021-11-21T20:21:07.486Z"
   },
   {
    "duration": 9,
    "start_time": "2021-11-21T20:21:07.513Z"
   },
   {
    "duration": 11,
    "start_time": "2021-11-21T20:21:07.525Z"
   },
   {
    "duration": 5287,
    "start_time": "2021-11-21T20:21:07.539Z"
   },
   {
    "duration": 13,
    "start_time": "2021-11-21T20:21:12.829Z"
   },
   {
    "duration": 40,
    "start_time": "2021-11-21T20:21:12.844Z"
   },
   {
    "duration": 27,
    "start_time": "2021-11-21T20:21:12.887Z"
   },
   {
    "duration": 18,
    "start_time": "2021-11-21T20:21:12.916Z"
   },
   {
    "duration": 14,
    "start_time": "2021-11-21T20:21:12.937Z"
   },
   {
    "duration": 19,
    "start_time": "2021-11-21T20:21:12.954Z"
   },
   {
    "duration": 16,
    "start_time": "2021-11-21T20:21:12.976Z"
   },
   {
    "duration": 14,
    "start_time": "2021-11-21T20:21:12.995Z"
   },
   {
    "duration": 14,
    "start_time": "2021-11-21T20:21:13.012Z"
   },
   {
    "duration": 9,
    "start_time": "2021-11-21T20:21:13.030Z"
   },
   {
    "duration": 6,
    "start_time": "2021-11-21T20:21:13.042Z"
   },
   {
    "duration": 18,
    "start_time": "2021-11-21T20:21:13.051Z"
   },
   {
    "duration": 16,
    "start_time": "2021-11-21T20:21:13.072Z"
   },
   {
    "duration": 12,
    "start_time": "2021-11-21T20:21:13.095Z"
   },
   {
    "duration": 15,
    "start_time": "2021-11-21T20:21:13.110Z"
   },
   {
    "duration": 17,
    "start_time": "2021-11-21T20:21:13.127Z"
   },
   {
    "duration": 27,
    "start_time": "2021-11-21T20:21:13.147Z"
   },
   {
    "duration": 26,
    "start_time": "2021-11-21T20:21:13.176Z"
   },
   {
    "duration": 16,
    "start_time": "2021-11-21T20:21:13.204Z"
   },
   {
    "duration": 481,
    "start_time": "2021-11-21T20:31:14.884Z"
   },
   {
    "duration": 326,
    "start_time": "2021-11-21T20:32:02.393Z"
   },
   {
    "duration": 1398,
    "start_time": "2021-11-21T20:32:28.008Z"
   },
   {
    "duration": 73,
    "start_time": "2021-11-21T20:32:29.408Z"
   },
   {
    "duration": 29,
    "start_time": "2021-11-21T20:32:29.484Z"
   },
   {
    "duration": 16,
    "start_time": "2021-11-21T20:32:29.516Z"
   },
   {
    "duration": 3,
    "start_time": "2021-11-21T20:32:29.535Z"
   },
   {
    "duration": 43,
    "start_time": "2021-11-21T20:32:29.541Z"
   },
   {
    "duration": 7,
    "start_time": "2021-11-21T20:32:29.587Z"
   },
   {
    "duration": 21,
    "start_time": "2021-11-21T20:32:29.598Z"
   },
   {
    "duration": 20,
    "start_time": "2021-11-21T20:32:29.622Z"
   },
   {
    "duration": 51,
    "start_time": "2021-11-21T20:32:29.644Z"
   },
   {
    "duration": 42,
    "start_time": "2021-11-21T20:32:29.698Z"
   },
   {
    "duration": 61,
    "start_time": "2021-11-21T20:32:29.743Z"
   },
   {
    "duration": 55,
    "start_time": "2021-11-21T20:32:29.807Z"
   },
   {
    "duration": 22,
    "start_time": "2021-11-21T20:32:29.882Z"
   },
   {
    "duration": 46,
    "start_time": "2021-11-21T20:32:29.907Z"
   },
   {
    "duration": 29,
    "start_time": "2021-11-21T20:32:29.956Z"
   },
   {
    "duration": 10,
    "start_time": "2021-11-21T20:32:29.987Z"
   },
   {
    "duration": 8,
    "start_time": "2021-11-21T20:32:30.000Z"
   },
   {
    "duration": 13,
    "start_time": "2021-11-21T20:32:30.011Z"
   },
   {
    "duration": 11,
    "start_time": "2021-11-21T20:32:30.027Z"
   },
   {
    "duration": 9,
    "start_time": "2021-11-21T20:32:30.041Z"
   },
   {
    "duration": 30,
    "start_time": "2021-11-21T20:32:30.053Z"
   },
   {
    "duration": 10,
    "start_time": "2021-11-21T20:32:30.089Z"
   },
   {
    "duration": 16,
    "start_time": "2021-11-21T20:32:30.103Z"
   },
   {
    "duration": 13,
    "start_time": "2021-11-21T20:32:30.122Z"
   },
   {
    "duration": 10,
    "start_time": "2021-11-21T20:32:30.138Z"
   },
   {
    "duration": 8,
    "start_time": "2021-11-21T20:32:30.151Z"
   },
   {
    "duration": 21,
    "start_time": "2021-11-21T20:32:30.161Z"
   },
   {
    "duration": 4,
    "start_time": "2021-11-21T20:32:30.185Z"
   },
   {
    "duration": 14,
    "start_time": "2021-11-21T20:32:30.192Z"
   },
   {
    "duration": 14,
    "start_time": "2021-11-21T20:32:30.209Z"
   },
   {
    "duration": 15,
    "start_time": "2021-11-21T20:32:30.226Z"
   },
   {
    "duration": 16,
    "start_time": "2021-11-21T20:32:30.244Z"
   },
   {
    "duration": 13,
    "start_time": "2021-11-21T20:32:30.262Z"
   },
   {
    "duration": 18,
    "start_time": "2021-11-21T20:32:30.277Z"
   },
   {
    "duration": 6,
    "start_time": "2021-11-21T20:32:30.303Z"
   },
   {
    "duration": 22,
    "start_time": "2021-11-21T20:32:30.311Z"
   },
   {
    "duration": 14,
    "start_time": "2021-11-21T20:32:30.336Z"
   },
   {
    "duration": 19,
    "start_time": "2021-11-21T20:32:30.353Z"
   },
   {
    "duration": 17,
    "start_time": "2021-11-21T20:32:30.375Z"
   },
   {
    "duration": 23,
    "start_time": "2021-11-21T20:32:30.395Z"
   },
   {
    "duration": 16,
    "start_time": "2021-11-21T20:32:30.421Z"
   },
   {
    "duration": 22,
    "start_time": "2021-11-21T20:32:30.439Z"
   },
   {
    "duration": 11,
    "start_time": "2021-11-21T20:32:30.464Z"
   },
   {
    "duration": 25,
    "start_time": "2021-11-21T20:32:30.478Z"
   },
   {
    "duration": 16,
    "start_time": "2021-11-21T20:32:30.506Z"
   },
   {
    "duration": 30,
    "start_time": "2021-11-21T20:32:30.525Z"
   },
   {
    "duration": 37,
    "start_time": "2021-11-21T20:32:30.558Z"
   },
   {
    "duration": 32,
    "start_time": "2021-11-21T20:32:30.598Z"
   },
   {
    "duration": 54,
    "start_time": "2021-11-21T20:32:30.633Z"
   },
   {
    "duration": 40,
    "start_time": "2021-11-21T20:32:30.690Z"
   },
   {
    "duration": 11,
    "start_time": "2021-11-21T20:32:30.733Z"
   },
   {
    "duration": 56,
    "start_time": "2021-11-21T20:32:30.746Z"
   },
   {
    "duration": 5233,
    "start_time": "2021-11-21T20:32:30.804Z"
   },
   {
    "duration": 15,
    "start_time": "2021-11-21T20:32:36.039Z"
   },
   {
    "duration": 476,
    "start_time": "2021-11-21T20:32:36.057Z"
   },
   {
    "duration": 925,
    "start_time": "2021-11-21T20:32:35.611Z"
   },
   {
    "duration": 920,
    "start_time": "2021-11-21T20:32:35.617Z"
   },
   {
    "duration": 917,
    "start_time": "2021-11-21T20:32:35.621Z"
   },
   {
    "duration": 916,
    "start_time": "2021-11-21T20:32:35.624Z"
   },
   {
    "duration": 915,
    "start_time": "2021-11-21T20:32:35.626Z"
   },
   {
    "duration": 913,
    "start_time": "2021-11-21T20:32:35.629Z"
   },
   {
    "duration": 913,
    "start_time": "2021-11-21T20:32:35.631Z"
   },
   {
    "duration": 912,
    "start_time": "2021-11-21T20:32:35.633Z"
   },
   {
    "duration": 911,
    "start_time": "2021-11-21T20:32:35.636Z"
   },
   {
    "duration": 909,
    "start_time": "2021-11-21T20:32:35.639Z"
   },
   {
    "duration": 901,
    "start_time": "2021-11-21T20:32:35.648Z"
   },
   {
    "duration": 900,
    "start_time": "2021-11-21T20:32:35.651Z"
   },
   {
    "duration": 899,
    "start_time": "2021-11-21T20:32:35.654Z"
   },
   {
    "duration": 899,
    "start_time": "2021-11-21T20:32:35.656Z"
   },
   {
    "duration": 897,
    "start_time": "2021-11-21T20:32:35.659Z"
   },
   {
    "duration": 896,
    "start_time": "2021-11-21T20:32:35.661Z"
   },
   {
    "duration": 896,
    "start_time": "2021-11-21T20:32:35.663Z"
   },
   {
    "duration": 1773,
    "start_time": "2021-11-21T20:32:55.816Z"
   },
   {
    "duration": 14,
    "start_time": "2021-11-21T20:33:19.295Z"
   },
   {
    "duration": 13,
    "start_time": "2021-11-21T20:33:40.097Z"
   },
   {
    "duration": 17,
    "start_time": "2021-11-21T20:34:10.548Z"
   },
   {
    "duration": 14,
    "start_time": "2021-11-21T20:34:24.468Z"
   },
   {
    "duration": 22,
    "start_time": "2021-11-21T20:34:46.327Z"
   },
   {
    "duration": 22,
    "start_time": "2021-11-21T20:35:39.538Z"
   },
   {
    "duration": 13,
    "start_time": "2021-11-21T20:36:36.778Z"
   },
   {
    "duration": 14,
    "start_time": "2021-11-21T20:37:06.387Z"
   },
   {
    "duration": 14,
    "start_time": "2021-11-21T20:38:03.493Z"
   },
   {
    "duration": 13,
    "start_time": "2021-11-21T20:38:15.508Z"
   },
   {
    "duration": 13,
    "start_time": "2021-11-21T20:38:33.133Z"
   },
   {
    "duration": 7,
    "start_time": "2021-11-21T20:39:57.441Z"
   },
   {
    "duration": 12,
    "start_time": "2021-11-21T20:41:40.660Z"
   },
   {
    "duration": 298,
    "start_time": "2021-11-21T20:51:22.680Z"
   },
   {
    "duration": 4,
    "start_time": "2021-11-21T20:51:33.481Z"
   },
   {
    "duration": 579,
    "start_time": "2021-11-21T20:51:35.696Z"
   },
   {
    "duration": 789,
    "start_time": "2021-11-21T20:53:57.978Z"
   },
   {
    "duration": 69,
    "start_time": "2021-11-21T20:53:58.770Z"
   },
   {
    "duration": 46,
    "start_time": "2021-11-21T20:53:58.843Z"
   },
   {
    "duration": 16,
    "start_time": "2021-11-21T20:53:58.892Z"
   },
   {
    "duration": 3,
    "start_time": "2021-11-21T20:53:58.911Z"
   },
   {
    "duration": 12,
    "start_time": "2021-11-21T20:53:58.916Z"
   },
   {
    "duration": 8,
    "start_time": "2021-11-21T20:53:58.930Z"
   },
   {
    "duration": 21,
    "start_time": "2021-11-21T20:53:58.984Z"
   },
   {
    "duration": 21,
    "start_time": "2021-11-21T20:53:59.008Z"
   },
   {
    "duration": 16,
    "start_time": "2021-11-21T20:53:59.031Z"
   },
   {
    "duration": 69,
    "start_time": "2021-11-21T20:53:59.050Z"
   },
   {
    "duration": 24,
    "start_time": "2021-11-21T20:53:59.122Z"
   },
   {
    "duration": 59,
    "start_time": "2021-11-21T20:53:59.148Z"
   },
   {
    "duration": 18,
    "start_time": "2021-11-21T20:53:59.209Z"
   },
   {
    "duration": 93,
    "start_time": "2021-11-21T20:53:59.230Z"
   },
   {
    "duration": 12,
    "start_time": "2021-11-21T20:53:59.327Z"
   },
   {
    "duration": 6,
    "start_time": "2021-11-21T20:53:59.342Z"
   },
   {
    "duration": 9,
    "start_time": "2021-11-21T20:53:59.351Z"
   },
   {
    "duration": 4,
    "start_time": "2021-11-21T20:53:59.383Z"
   },
   {
    "duration": 8,
    "start_time": "2021-11-21T20:53:59.390Z"
   },
   {
    "duration": 7,
    "start_time": "2021-11-21T20:53:59.401Z"
   },
   {
    "duration": 5,
    "start_time": "2021-11-21T20:53:59.412Z"
   },
   {
    "duration": 3,
    "start_time": "2021-11-21T20:53:59.427Z"
   },
   {
    "duration": 4,
    "start_time": "2021-11-21T20:53:59.436Z"
   },
   {
    "duration": 4,
    "start_time": "2021-11-21T20:53:59.481Z"
   },
   {
    "duration": 7,
    "start_time": "2021-11-21T20:53:59.488Z"
   },
   {
    "duration": 6,
    "start_time": "2021-11-21T20:53:59.498Z"
   },
   {
    "duration": 5,
    "start_time": "2021-11-21T20:53:59.507Z"
   },
   {
    "duration": 10,
    "start_time": "2021-11-21T20:53:59.515Z"
   },
   {
    "duration": 8,
    "start_time": "2021-11-21T20:53:59.528Z"
   },
   {
    "duration": 12,
    "start_time": "2021-11-21T20:53:59.539Z"
   },
   {
    "duration": 3,
    "start_time": "2021-11-21T20:53:59.582Z"
   },
   {
    "duration": 12,
    "start_time": "2021-11-21T20:53:59.589Z"
   },
   {
    "duration": 11,
    "start_time": "2021-11-21T20:53:59.604Z"
   },
   {
    "duration": 10,
    "start_time": "2021-11-21T20:53:59.618Z"
   },
   {
    "duration": 7,
    "start_time": "2021-11-21T20:53:59.630Z"
   },
   {
    "duration": 7,
    "start_time": "2021-11-21T20:53:59.639Z"
   },
   {
    "duration": 14,
    "start_time": "2021-11-21T20:53:59.648Z"
   },
   {
    "duration": 15,
    "start_time": "2021-11-21T20:53:59.683Z"
   },
   {
    "duration": 7,
    "start_time": "2021-11-21T20:53:59.701Z"
   },
   {
    "duration": 8,
    "start_time": "2021-11-21T20:53:59.710Z"
   },
   {
    "duration": 7,
    "start_time": "2021-11-21T20:53:59.720Z"
   },
   {
    "duration": 9,
    "start_time": "2021-11-21T20:53:59.729Z"
   },
   {
    "duration": 6,
    "start_time": "2021-11-21T20:53:59.740Z"
   },
   {
    "duration": 37,
    "start_time": "2021-11-21T20:53:59.748Z"
   },
   {
    "duration": 14,
    "start_time": "2021-11-21T20:53:59.787Z"
   },
   {
    "duration": 21,
    "start_time": "2021-11-21T20:53:59.804Z"
   },
   {
    "duration": 57,
    "start_time": "2021-11-21T20:53:59.827Z"
   },
   {
    "duration": 27,
    "start_time": "2021-11-21T20:53:59.886Z"
   },
   {
    "duration": 23,
    "start_time": "2021-11-21T20:53:59.916Z"
   },
   {
    "duration": 53,
    "start_time": "2021-11-21T20:53:59.941Z"
   },
   {
    "duration": 9,
    "start_time": "2021-11-21T20:53:59.997Z"
   },
   {
    "duration": 22,
    "start_time": "2021-11-21T20:54:00.009Z"
   },
   {
    "duration": 15,
    "start_time": "2021-11-21T20:54:00.033Z"
   },
   {
    "duration": 14,
    "start_time": "2021-11-21T20:54:00.051Z"
   },
   {
    "duration": 16,
    "start_time": "2021-11-21T20:54:00.068Z"
   },
   {
    "duration": 8,
    "start_time": "2021-11-21T20:54:00.088Z"
   },
   {
    "duration": 15,
    "start_time": "2021-11-21T20:54:00.099Z"
   },
   {
    "duration": 12,
    "start_time": "2021-11-21T20:54:00.116Z"
   },
   {
    "duration": 25,
    "start_time": "2021-11-21T20:54:00.131Z"
   },
   {
    "duration": 16,
    "start_time": "2021-11-21T20:54:00.159Z"
   },
   {
    "duration": 19,
    "start_time": "2021-11-21T20:54:00.177Z"
   },
   {
    "duration": 14,
    "start_time": "2021-11-21T20:54:00.198Z"
   },
   {
    "duration": 18,
    "start_time": "2021-11-21T20:54:00.215Z"
   },
   {
    "duration": 8,
    "start_time": "2021-11-21T20:54:00.235Z"
   },
   {
    "duration": 11,
    "start_time": "2021-11-21T20:54:00.245Z"
   },
   {
    "duration": 10,
    "start_time": "2021-11-21T20:54:00.259Z"
   },
   {
    "duration": 10,
    "start_time": "2021-11-21T20:54:00.277Z"
   },
   {
    "duration": 18,
    "start_time": "2021-11-21T20:54:00.290Z"
   },
   {
    "duration": 24,
    "start_time": "2021-11-21T20:54:00.311Z"
   },
   {
    "duration": 19,
    "start_time": "2021-11-21T20:54:00.338Z"
   },
   {
    "duration": 18,
    "start_time": "2021-11-21T20:54:00.360Z"
   },
   {
    "duration": 18,
    "start_time": "2021-11-21T20:54:00.380Z"
   },
   {
    "duration": 16,
    "start_time": "2021-11-21T20:54:00.400Z"
   },
   {
    "duration": 961,
    "start_time": "2021-11-21T20:57:37.978Z"
   },
   {
    "duration": 105,
    "start_time": "2021-11-21T20:57:43.819Z"
   },
   {
    "duration": 98,
    "start_time": "2021-11-21T20:57:54.344Z"
   },
   {
    "duration": 802,
    "start_time": "2021-11-21T20:58:32.396Z"
   },
   {
    "duration": 68,
    "start_time": "2021-11-21T20:58:33.201Z"
   },
   {
    "duration": 41,
    "start_time": "2021-11-21T20:58:33.272Z"
   },
   {
    "duration": 23,
    "start_time": "2021-11-21T20:58:33.317Z"
   },
   {
    "duration": 3,
    "start_time": "2021-11-21T20:58:33.345Z"
   },
   {
    "duration": 8,
    "start_time": "2021-11-21T20:58:33.383Z"
   },
   {
    "duration": 9,
    "start_time": "2021-11-21T20:58:33.395Z"
   },
   {
    "duration": 29,
    "start_time": "2021-11-21T20:58:33.407Z"
   },
   {
    "duration": 55,
    "start_time": "2021-11-21T20:58:33.439Z"
   },
   {
    "duration": 30,
    "start_time": "2021-11-21T20:58:33.496Z"
   },
   {
    "duration": 66,
    "start_time": "2021-11-21T20:58:33.529Z"
   },
   {
    "duration": 30,
    "start_time": "2021-11-21T20:58:33.598Z"
   },
   {
    "duration": 64,
    "start_time": "2021-11-21T20:58:33.631Z"
   },
   {
    "duration": 19,
    "start_time": "2021-11-21T20:58:33.698Z"
   },
   {
    "duration": 91,
    "start_time": "2021-11-21T20:58:33.719Z"
   },
   {
    "duration": 12,
    "start_time": "2021-11-21T20:58:33.814Z"
   },
   {
    "duration": 5,
    "start_time": "2021-11-21T20:58:33.829Z"
   },
   {
    "duration": 6,
    "start_time": "2021-11-21T20:58:33.837Z"
   },
   {
    "duration": 5,
    "start_time": "2021-11-21T20:58:33.846Z"
   },
   {
    "duration": 30,
    "start_time": "2021-11-21T20:58:33.854Z"
   },
   {
    "duration": 7,
    "start_time": "2021-11-21T20:58:33.887Z"
   },
   {
    "duration": 8,
    "start_time": "2021-11-21T20:58:33.897Z"
   },
   {
    "duration": 3,
    "start_time": "2021-11-21T20:58:33.913Z"
   },
   {
    "duration": 11,
    "start_time": "2021-11-21T20:58:33.922Z"
   },
   {
    "duration": 8,
    "start_time": "2021-11-21T20:58:33.935Z"
   },
   {
    "duration": 7,
    "start_time": "2021-11-21T20:58:33.945Z"
   },
   {
    "duration": 6,
    "start_time": "2021-11-21T20:58:33.983Z"
   },
   {
    "duration": 8,
    "start_time": "2021-11-21T20:58:33.992Z"
   },
   {
    "duration": 7,
    "start_time": "2021-11-21T20:58:34.002Z"
   },
   {
    "duration": 11,
    "start_time": "2021-11-21T20:58:34.011Z"
   },
   {
    "duration": 6,
    "start_time": "2021-11-21T20:58:34.024Z"
   },
   {
    "duration": 11,
    "start_time": "2021-11-21T20:58:34.032Z"
   },
   {
    "duration": 10,
    "start_time": "2021-11-21T20:58:34.045Z"
   },
   {
    "duration": 4,
    "start_time": "2021-11-21T20:58:34.081Z"
   },
   {
    "duration": 10,
    "start_time": "2021-11-21T20:58:34.087Z"
   },
   {
    "duration": 6,
    "start_time": "2021-11-21T20:58:34.100Z"
   },
   {
    "duration": 6,
    "start_time": "2021-11-21T20:58:34.108Z"
   },
   {
    "duration": 7,
    "start_time": "2021-11-21T20:58:34.116Z"
   },
   {
    "duration": 6,
    "start_time": "2021-11-21T20:58:34.125Z"
   },
   {
    "duration": 8,
    "start_time": "2021-11-21T20:58:34.133Z"
   },
   {
    "duration": 6,
    "start_time": "2021-11-21T20:58:34.144Z"
   },
   {
    "duration": 32,
    "start_time": "2021-11-21T20:58:34.152Z"
   },
   {
    "duration": 12,
    "start_time": "2021-11-21T20:58:34.187Z"
   },
   {
    "duration": 6,
    "start_time": "2021-11-21T20:58:34.202Z"
   },
   {
    "duration": 15,
    "start_time": "2021-11-21T20:58:34.210Z"
   },
   {
    "duration": 8,
    "start_time": "2021-11-21T20:58:34.228Z"
   },
   {
    "duration": 45,
    "start_time": "2021-11-21T20:58:34.238Z"
   },
   {
    "duration": 31,
    "start_time": "2021-11-21T20:58:34.286Z"
   },
   {
    "duration": 28,
    "start_time": "2021-11-21T20:58:34.319Z"
   },
   {
    "duration": 45,
    "start_time": "2021-11-21T20:58:34.349Z"
   },
   {
    "duration": 27,
    "start_time": "2021-11-21T20:58:34.396Z"
   },
   {
    "duration": 23,
    "start_time": "2021-11-21T20:58:34.426Z"
   },
   {
    "duration": 32,
    "start_time": "2021-11-21T20:58:34.451Z"
   },
   {
    "duration": 5,
    "start_time": "2021-11-21T20:58:34.487Z"
   },
   {
    "duration": 135,
    "start_time": "2021-11-21T20:58:34.495Z"
   },
   {
    "duration": 951,
    "start_time": "2021-11-21T20:58:33.683Z"
   },
   {
    "duration": 950,
    "start_time": "2021-11-21T20:58:33.686Z"
   },
   {
    "duration": 950,
    "start_time": "2021-11-21T20:58:33.689Z"
   },
   {
    "duration": 950,
    "start_time": "2021-11-21T20:58:33.691Z"
   },
   {
    "duration": 949,
    "start_time": "2021-11-21T20:58:33.694Z"
   },
   {
    "duration": 943,
    "start_time": "2021-11-21T20:58:33.702Z"
   },
   {
    "duration": 936,
    "start_time": "2021-11-21T20:58:33.711Z"
   },
   {
    "duration": 923,
    "start_time": "2021-11-21T20:58:33.726Z"
   },
   {
    "duration": 912,
    "start_time": "2021-11-21T20:58:33.739Z"
   },
   {
    "duration": 911,
    "start_time": "2021-11-21T20:58:33.742Z"
   },
   {
    "duration": 899,
    "start_time": "2021-11-21T20:58:33.756Z"
   },
   {
    "duration": 898,
    "start_time": "2021-11-21T20:58:33.758Z"
   },
   {
    "duration": 897,
    "start_time": "2021-11-21T20:58:33.761Z"
   },
   {
    "duration": 884,
    "start_time": "2021-11-21T20:58:33.775Z"
   },
   {
    "duration": 882,
    "start_time": "2021-11-21T20:58:33.779Z"
   },
   {
    "duration": 866,
    "start_time": "2021-11-21T20:58:33.796Z"
   },
   {
    "duration": 851,
    "start_time": "2021-11-21T20:58:33.812Z"
   },
   {
    "duration": 839,
    "start_time": "2021-11-21T20:58:33.826Z"
   },
   {
    "duration": 839,
    "start_time": "2021-11-21T20:58:33.828Z"
   },
   {
    "duration": 729,
    "start_time": "2021-11-21T21:01:28.836Z"
   },
   {
    "duration": 66,
    "start_time": "2021-11-21T21:01:29.567Z"
   },
   {
    "duration": 29,
    "start_time": "2021-11-21T21:01:29.636Z"
   },
   {
    "duration": 18,
    "start_time": "2021-11-21T21:01:29.682Z"
   },
   {
    "duration": 4,
    "start_time": "2021-11-21T21:01:29.703Z"
   },
   {
    "duration": 12,
    "start_time": "2021-11-21T21:01:29.709Z"
   },
   {
    "duration": 8,
    "start_time": "2021-11-21T21:01:29.723Z"
   },
   {
    "duration": 63,
    "start_time": "2021-11-21T21:01:29.735Z"
   },
   {
    "duration": 21,
    "start_time": "2021-11-21T21:01:29.801Z"
   },
   {
    "duration": 16,
    "start_time": "2021-11-21T21:01:29.824Z"
   },
   {
    "duration": 72,
    "start_time": "2021-11-21T21:01:29.843Z"
   },
   {
    "duration": 26,
    "start_time": "2021-11-21T21:01:29.917Z"
   },
   {
    "duration": 59,
    "start_time": "2021-11-21T21:01:29.946Z"
   },
   {
    "duration": 17,
    "start_time": "2021-11-21T21:01:30.007Z"
   },
   {
    "duration": 65,
    "start_time": "2021-11-21T21:01:30.027Z"
   },
   {
    "duration": 9,
    "start_time": "2021-11-21T21:01:30.095Z"
   },
   {
    "duration": 8,
    "start_time": "2021-11-21T21:01:30.107Z"
   },
   {
    "duration": 10,
    "start_time": "2021-11-21T21:01:30.117Z"
   },
   {
    "duration": 11,
    "start_time": "2021-11-21T21:01:30.130Z"
   },
   {
    "duration": 13,
    "start_time": "2021-11-21T21:01:30.144Z"
   },
   {
    "duration": 24,
    "start_time": "2021-11-21T21:01:30.160Z"
   },
   {
    "duration": 12,
    "start_time": "2021-11-21T21:01:30.189Z"
   },
   {
    "duration": 14,
    "start_time": "2021-11-21T21:01:30.207Z"
   },
   {
    "duration": 10,
    "start_time": "2021-11-21T21:01:30.225Z"
   },
   {
    "duration": 20,
    "start_time": "2021-11-21T21:01:30.237Z"
   },
   {
    "duration": 21,
    "start_time": "2021-11-21T21:01:30.260Z"
   },
   {
    "duration": 25,
    "start_time": "2021-11-21T21:01:30.283Z"
   },
   {
    "duration": 35,
    "start_time": "2021-11-21T21:01:30.310Z"
   },
   {
    "duration": 25,
    "start_time": "2021-11-21T21:01:30.347Z"
   },
   {
    "duration": 22,
    "start_time": "2021-11-21T21:01:30.375Z"
   },
   {
    "duration": 19,
    "start_time": "2021-11-21T21:01:30.400Z"
   },
   {
    "duration": 28,
    "start_time": "2021-11-21T21:01:30.421Z"
   },
   {
    "duration": 33,
    "start_time": "2021-11-21T21:01:30.451Z"
   },
   {
    "duration": 12,
    "start_time": "2021-11-21T21:01:30.487Z"
   },
   {
    "duration": 21,
    "start_time": "2021-11-21T21:01:30.502Z"
   },
   {
    "duration": 21,
    "start_time": "2021-11-21T21:01:30.526Z"
   },
   {
    "duration": 22,
    "start_time": "2021-11-21T21:01:30.549Z"
   },
   {
    "duration": 9,
    "start_time": "2021-11-21T21:01:30.574Z"
   },
   {
    "duration": 19,
    "start_time": "2021-11-21T21:01:30.585Z"
   },
   {
    "duration": 18,
    "start_time": "2021-11-21T21:01:30.607Z"
   },
   {
    "duration": 13,
    "start_time": "2021-11-21T21:01:30.627Z"
   },
   {
    "duration": 13,
    "start_time": "2021-11-21T21:01:30.643Z"
   },
   {
    "duration": 8,
    "start_time": "2021-11-21T21:01:30.658Z"
   },
   {
    "duration": 21,
    "start_time": "2021-11-21T21:01:30.669Z"
   },
   {
    "duration": 22,
    "start_time": "2021-11-21T21:01:30.692Z"
   },
   {
    "duration": 22,
    "start_time": "2021-11-21T21:01:30.717Z"
   },
   {
    "duration": 28,
    "start_time": "2021-11-21T21:01:30.741Z"
   },
   {
    "duration": 57,
    "start_time": "2021-11-21T21:01:30.772Z"
   },
   {
    "duration": 29,
    "start_time": "2021-11-21T21:01:30.832Z"
   },
   {
    "duration": 25,
    "start_time": "2021-11-21T21:01:30.863Z"
   },
   {
    "duration": 34,
    "start_time": "2021-11-21T21:01:30.891Z"
   },
   {
    "duration": 13,
    "start_time": "2021-11-21T21:01:30.927Z"
   },
   {
    "duration": 55,
    "start_time": "2021-11-21T21:01:30.942Z"
   },
   {
    "duration": 40,
    "start_time": "2021-11-21T21:01:30.999Z"
   },
   {
    "duration": 5379,
    "start_time": "2021-11-21T21:01:31.042Z"
   },
   {
    "duration": 3,
    "start_time": "2021-11-21T21:01:36.424Z"
   },
   {
    "duration": 6,
    "start_time": "2021-11-21T21:01:36.436Z"
   },
   {
    "duration": 7,
    "start_time": "2021-11-21T21:01:36.444Z"
   },
   {
    "duration": 28,
    "start_time": "2021-11-21T21:01:36.454Z"
   },
   {
    "duration": 4,
    "start_time": "2021-11-21T21:01:36.485Z"
   },
   {
    "duration": 8,
    "start_time": "2021-11-21T21:01:36.491Z"
   },
   {
    "duration": 7,
    "start_time": "2021-11-21T21:01:36.502Z"
   },
   {
    "duration": 5,
    "start_time": "2021-11-21T21:01:36.512Z"
   },
   {
    "duration": 7,
    "start_time": "2021-11-21T21:01:36.520Z"
   },
   {
    "duration": 5,
    "start_time": "2021-11-21T21:01:36.530Z"
   },
   {
    "duration": 43,
    "start_time": "2021-11-21T21:01:36.538Z"
   },
   {
    "duration": 5,
    "start_time": "2021-11-21T21:01:36.584Z"
   },
   {
    "duration": 4,
    "start_time": "2021-11-21T21:01:36.599Z"
   },
   {
    "duration": 6,
    "start_time": "2021-11-21T21:01:36.606Z"
   },
   {
    "duration": 8,
    "start_time": "2021-11-21T21:01:36.614Z"
   },
   {
    "duration": 5,
    "start_time": "2021-11-21T21:01:36.625Z"
   },
   {
    "duration": 6,
    "start_time": "2021-11-21T21:01:36.633Z"
   },
   {
    "duration": 6,
    "start_time": "2021-11-21T21:01:36.641Z"
   },
   {
    "duration": 9,
    "start_time": "2021-11-21T21:01:36.683Z"
   },
   {
    "duration": 1072,
    "start_time": "2021-11-21T21:04:40.342Z"
   },
   {
    "duration": 94,
    "start_time": "2021-11-21T21:04:41.417Z"
   },
   {
    "duration": 46,
    "start_time": "2021-11-21T21:04:41.516Z"
   },
   {
    "duration": 36,
    "start_time": "2021-11-21T21:04:41.566Z"
   },
   {
    "duration": 7,
    "start_time": "2021-11-21T21:04:41.605Z"
   },
   {
    "duration": 19,
    "start_time": "2021-11-21T21:04:41.615Z"
   },
   {
    "duration": 20,
    "start_time": "2021-11-21T21:04:41.637Z"
   },
   {
    "duration": 39,
    "start_time": "2021-11-21T21:04:41.660Z"
   },
   {
    "duration": 21,
    "start_time": "2021-11-21T21:04:41.704Z"
   },
   {
    "duration": 17,
    "start_time": "2021-11-21T21:04:41.728Z"
   },
   {
    "duration": 48,
    "start_time": "2021-11-21T21:04:41.781Z"
   },
   {
    "duration": 58,
    "start_time": "2021-11-21T21:04:41.831Z"
   },
   {
    "duration": 40,
    "start_time": "2021-11-21T21:04:41.892Z"
   },
   {
    "duration": 19,
    "start_time": "2021-11-21T21:04:41.934Z"
   },
   {
    "duration": 47,
    "start_time": "2021-11-21T21:04:41.982Z"
   },
   {
    "duration": 11,
    "start_time": "2021-11-21T21:04:42.031Z"
   },
   {
    "duration": 36,
    "start_time": "2021-11-21T21:04:42.045Z"
   },
   {
    "duration": 9,
    "start_time": "2021-11-21T21:04:42.084Z"
   },
   {
    "duration": 5,
    "start_time": "2021-11-21T21:04:42.096Z"
   },
   {
    "duration": 7,
    "start_time": "2021-11-21T21:04:42.104Z"
   },
   {
    "duration": 6,
    "start_time": "2021-11-21T21:04:42.114Z"
   },
   {
    "duration": 7,
    "start_time": "2021-11-21T21:04:42.123Z"
   },
   {
    "duration": 3,
    "start_time": "2021-11-21T21:04:42.138Z"
   },
   {
    "duration": 37,
    "start_time": "2021-11-21T21:04:42.145Z"
   },
   {
    "duration": 8,
    "start_time": "2021-11-21T21:04:42.186Z"
   },
   {
    "duration": 13,
    "start_time": "2021-11-21T21:04:42.197Z"
   },
   {
    "duration": 7,
    "start_time": "2021-11-21T21:04:42.213Z"
   },
   {
    "duration": 11,
    "start_time": "2021-11-21T21:04:42.222Z"
   },
   {
    "duration": 19,
    "start_time": "2021-11-21T21:04:42.236Z"
   },
   {
    "duration": 14,
    "start_time": "2021-11-21T21:04:42.258Z"
   },
   {
    "duration": 16,
    "start_time": "2021-11-21T21:04:42.275Z"
   },
   {
    "duration": 14,
    "start_time": "2021-11-21T21:04:42.294Z"
   },
   {
    "duration": 7,
    "start_time": "2021-11-21T21:04:42.311Z"
   },
   {
    "duration": 7,
    "start_time": "2021-11-21T21:04:42.321Z"
   },
   {
    "duration": 8,
    "start_time": "2021-11-21T21:04:42.330Z"
   },
   {
    "duration": 8,
    "start_time": "2021-11-21T21:04:42.341Z"
   },
   {
    "duration": 6,
    "start_time": "2021-11-21T21:04:42.352Z"
   },
   {
    "duration": 21,
    "start_time": "2021-11-21T21:04:42.361Z"
   },
   {
    "duration": 7,
    "start_time": "2021-11-21T21:04:42.385Z"
   },
   {
    "duration": 8,
    "start_time": "2021-11-21T21:04:42.395Z"
   },
   {
    "duration": 7,
    "start_time": "2021-11-21T21:04:42.406Z"
   },
   {
    "duration": 7,
    "start_time": "2021-11-21T21:04:42.415Z"
   },
   {
    "duration": 7,
    "start_time": "2021-11-21T21:04:42.425Z"
   },
   {
    "duration": 8,
    "start_time": "2021-11-21T21:04:42.434Z"
   },
   {
    "duration": 41,
    "start_time": "2021-11-21T21:04:42.445Z"
   },
   {
    "duration": 8,
    "start_time": "2021-11-21T21:04:42.488Z"
   },
   {
    "duration": 22,
    "start_time": "2021-11-21T21:04:42.498Z"
   },
   {
    "duration": 61,
    "start_time": "2021-11-21T21:04:42.522Z"
   },
   {
    "duration": 31,
    "start_time": "2021-11-21T21:04:42.586Z"
   },
   {
    "duration": 25,
    "start_time": "2021-11-21T21:04:42.620Z"
   },
   {
    "duration": 55,
    "start_time": "2021-11-21T21:04:42.647Z"
   },
   {
    "duration": 11,
    "start_time": "2021-11-21T21:04:42.704Z"
   },
   {
    "duration": 16,
    "start_time": "2021-11-21T21:04:42.717Z"
   },
   {
    "duration": 9,
    "start_time": "2021-11-21T21:04:42.736Z"
   },
   {
    "duration": 5416,
    "start_time": "2021-11-21T21:04:42.747Z"
   },
   {
    "duration": 17,
    "start_time": "2021-11-21T21:04:48.166Z"
   },
   {
    "duration": 5,
    "start_time": "2021-11-21T21:04:48.186Z"
   },
   {
    "duration": 7,
    "start_time": "2021-11-21T21:04:48.194Z"
   },
   {
    "duration": 6,
    "start_time": "2021-11-21T21:04:48.204Z"
   },
   {
    "duration": 5,
    "start_time": "2021-11-21T21:04:48.213Z"
   },
   {
    "duration": 8,
    "start_time": "2021-11-21T21:04:48.221Z"
   },
   {
    "duration": 9,
    "start_time": "2021-11-21T21:04:48.232Z"
   },
   {
    "duration": 40,
    "start_time": "2021-11-21T21:04:48.244Z"
   },
   {
    "duration": 16,
    "start_time": "2021-11-21T21:04:48.287Z"
   },
   {
    "duration": 9,
    "start_time": "2021-11-21T21:04:48.306Z"
   },
   {
    "duration": 10,
    "start_time": "2021-11-21T21:04:48.318Z"
   },
   {
    "duration": 8,
    "start_time": "2021-11-21T21:04:48.331Z"
   },
   {
    "duration": 7,
    "start_time": "2021-11-21T21:04:48.346Z"
   },
   {
    "duration": 26,
    "start_time": "2021-11-21T21:04:48.356Z"
   },
   {
    "duration": 12,
    "start_time": "2021-11-21T21:04:48.385Z"
   },
   {
    "duration": 6,
    "start_time": "2021-11-21T21:04:48.400Z"
   },
   {
    "duration": 6,
    "start_time": "2021-11-21T21:04:48.409Z"
   },
   {
    "duration": 12,
    "start_time": "2021-11-21T21:04:48.418Z"
   },
   {
    "duration": 8,
    "start_time": "2021-11-21T21:04:48.433Z"
   },
   {
    "duration": 60,
    "start_time": "2021-11-21T21:05:18.602Z"
   },
   {
    "duration": 11,
    "start_time": "2021-11-21T21:06:41.807Z"
   },
   {
    "duration": 4,
    "start_time": "2021-11-21T21:17:39.611Z"
   },
   {
    "duration": 3924,
    "start_time": "2021-11-21T21:17:42.668Z"
   },
   {
    "duration": 15,
    "start_time": "2021-11-21T21:17:53.648Z"
   },
   {
    "duration": 821,
    "start_time": "2021-11-21T21:18:40.057Z"
   },
   {
    "duration": 66,
    "start_time": "2021-11-21T21:18:40.880Z"
   },
   {
    "duration": 35,
    "start_time": "2021-11-21T21:18:40.949Z"
   },
   {
    "duration": 15,
    "start_time": "2021-11-21T21:18:40.987Z"
   },
   {
    "duration": 4,
    "start_time": "2021-11-21T21:18:41.005Z"
   },
   {
    "duration": 13,
    "start_time": "2021-11-21T21:18:41.011Z"
   },
   {
    "duration": 10,
    "start_time": "2021-11-21T21:18:41.027Z"
   },
   {
    "duration": 22,
    "start_time": "2021-11-21T21:18:41.083Z"
   },
   {
    "duration": 32,
    "start_time": "2021-11-21T21:18:41.109Z"
   },
   {
    "duration": 52,
    "start_time": "2021-11-21T21:18:41.144Z"
   },
   {
    "duration": 62,
    "start_time": "2021-11-21T21:18:41.199Z"
   },
   {
    "duration": 53,
    "start_time": "2021-11-21T21:18:41.264Z"
   },
   {
    "duration": 75,
    "start_time": "2021-11-21T21:18:41.320Z"
   },
   {
    "duration": 19,
    "start_time": "2021-11-21T21:18:41.398Z"
   },
   {
    "duration": 63,
    "start_time": "2021-11-21T21:18:41.419Z"
   },
   {
    "duration": 8,
    "start_time": "2021-11-21T21:18:41.484Z"
   },
   {
    "duration": 5,
    "start_time": "2021-11-21T21:18:41.495Z"
   },
   {
    "duration": 9,
    "start_time": "2021-11-21T21:18:41.503Z"
   },
   {
    "duration": 5,
    "start_time": "2021-11-21T21:18:41.514Z"
   },
   {
    "duration": 6,
    "start_time": "2021-11-21T21:18:41.522Z"
   },
   {
    "duration": 4,
    "start_time": "2021-11-21T21:18:41.531Z"
   },
   {
    "duration": 11,
    "start_time": "2021-11-21T21:18:41.537Z"
   },
   {
    "duration": 4,
    "start_time": "2021-11-21T21:18:41.586Z"
   },
   {
    "duration": 3,
    "start_time": "2021-11-21T21:18:41.595Z"
   },
   {
    "duration": 5,
    "start_time": "2021-11-21T21:18:41.601Z"
   },
   {
    "duration": 9,
    "start_time": "2021-11-21T21:18:41.608Z"
   },
   {
    "duration": 7,
    "start_time": "2021-11-21T21:18:41.620Z"
   },
   {
    "duration": 9,
    "start_time": "2021-11-21T21:18:41.629Z"
   },
   {
    "duration": 41,
    "start_time": "2021-11-21T21:18:41.640Z"
   },
   {
    "duration": 4,
    "start_time": "2021-11-21T21:18:41.684Z"
   },
   {
    "duration": 6,
    "start_time": "2021-11-21T21:18:41.691Z"
   },
   {
    "duration": 14,
    "start_time": "2021-11-21T21:18:41.700Z"
   },
   {
    "duration": 6,
    "start_time": "2021-11-21T21:18:41.716Z"
   },
   {
    "duration": 9,
    "start_time": "2021-11-21T21:18:41.725Z"
   },
   {
    "duration": 9,
    "start_time": "2021-11-21T21:18:41.736Z"
   },
   {
    "duration": 6,
    "start_time": "2021-11-21T21:18:41.748Z"
   },
   {
    "duration": 27,
    "start_time": "2021-11-21T21:18:41.756Z"
   },
   {
    "duration": 5,
    "start_time": "2021-11-21T21:18:41.786Z"
   },
   {
    "duration": 6,
    "start_time": "2021-11-21T21:18:41.793Z"
   },
   {
    "duration": 6,
    "start_time": "2021-11-21T21:18:41.802Z"
   },
   {
    "duration": 5,
    "start_time": "2021-11-21T21:18:41.811Z"
   },
   {
    "duration": 8,
    "start_time": "2021-11-21T21:18:41.819Z"
   },
   {
    "duration": 6,
    "start_time": "2021-11-21T21:18:41.829Z"
   },
   {
    "duration": 7,
    "start_time": "2021-11-21T21:18:41.837Z"
   },
   {
    "duration": 7,
    "start_time": "2021-11-21T21:18:41.882Z"
   },
   {
    "duration": 5,
    "start_time": "2021-11-21T21:18:41.892Z"
   },
   {
    "duration": 24,
    "start_time": "2021-11-21T21:18:41.900Z"
   },
   {
    "duration": 30,
    "start_time": "2021-11-21T21:18:41.926Z"
   },
   {
    "duration": 48,
    "start_time": "2021-11-21T21:18:41.958Z"
   },
   {
    "duration": 23,
    "start_time": "2021-11-21T21:18:42.008Z"
   },
   {
    "duration": 54,
    "start_time": "2021-11-21T21:18:42.033Z"
   },
   {
    "duration": 9,
    "start_time": "2021-11-21T21:18:42.090Z"
   },
   {
    "duration": 10,
    "start_time": "2021-11-21T21:18:42.101Z"
   },
   {
    "duration": 4,
    "start_time": "2021-11-21T21:18:42.114Z"
   },
   {
    "duration": 4947,
    "start_time": "2021-11-21T21:18:42.120Z"
   },
   {
    "duration": 19,
    "start_time": "2021-11-21T21:18:47.070Z"
   },
   {
    "duration": 20,
    "start_time": "2021-11-21T21:18:47.092Z"
   },
   {
    "duration": 14,
    "start_time": "2021-11-21T21:18:47.114Z"
   },
   {
    "duration": 29,
    "start_time": "2021-11-21T21:18:47.130Z"
   },
   {
    "duration": 22,
    "start_time": "2021-11-21T21:18:47.161Z"
   },
   {
    "duration": 23,
    "start_time": "2021-11-21T21:18:47.185Z"
   },
   {
    "duration": 8,
    "start_time": "2021-11-21T21:18:47.210Z"
   },
   {
    "duration": 15,
    "start_time": "2021-11-21T21:18:47.221Z"
   },
   {
    "duration": 7,
    "start_time": "2021-11-21T21:18:47.239Z"
   },
   {
    "duration": 12,
    "start_time": "2021-11-21T21:18:47.249Z"
   },
   {
    "duration": 19,
    "start_time": "2021-11-21T21:18:47.264Z"
   },
   {
    "duration": 22,
    "start_time": "2021-11-21T21:18:47.285Z"
   },
   {
    "duration": 3,
    "start_time": "2021-11-21T21:18:47.317Z"
   },
   {
    "duration": 14,
    "start_time": "2021-11-21T21:18:47.323Z"
   },
   {
    "duration": 15,
    "start_time": "2021-11-21T21:18:47.340Z"
   },
   {
    "duration": 9,
    "start_time": "2021-11-21T21:18:47.358Z"
   },
   {
    "duration": 11,
    "start_time": "2021-11-21T21:18:47.369Z"
   },
   {
    "duration": 15,
    "start_time": "2021-11-21T21:18:47.382Z"
   },
   {
    "duration": 800,
    "start_time": "2021-11-21T21:19:22.580Z"
   },
   {
    "duration": 65,
    "start_time": "2021-11-21T21:19:23.383Z"
   },
   {
    "duration": 41,
    "start_time": "2021-11-21T21:19:23.451Z"
   },
   {
    "duration": 15,
    "start_time": "2021-11-21T21:19:23.495Z"
   },
   {
    "duration": 3,
    "start_time": "2021-11-21T21:19:23.513Z"
   },
   {
    "duration": 12,
    "start_time": "2021-11-21T21:19:23.519Z"
   },
   {
    "duration": 54,
    "start_time": "2021-11-21T21:19:23.533Z"
   },
   {
    "duration": 21,
    "start_time": "2021-11-21T21:19:23.591Z"
   },
   {
    "duration": 20,
    "start_time": "2021-11-21T21:19:23.615Z"
   },
   {
    "duration": 56,
    "start_time": "2021-11-21T21:19:23.638Z"
   },
   {
    "duration": 40,
    "start_time": "2021-11-21T21:19:23.697Z"
   },
   {
    "duration": 58,
    "start_time": "2021-11-21T21:19:23.739Z"
   },
   {
    "duration": 36,
    "start_time": "2021-11-21T21:19:23.799Z"
   },
   {
    "duration": 44,
    "start_time": "2021-11-21T21:19:23.838Z"
   },
   {
    "duration": 45,
    "start_time": "2021-11-21T21:19:23.885Z"
   },
   {
    "duration": 10,
    "start_time": "2021-11-21T21:19:23.933Z"
   },
   {
    "duration": 6,
    "start_time": "2021-11-21T21:19:23.945Z"
   },
   {
    "duration": 3,
    "start_time": "2021-11-21T21:19:23.982Z"
   },
   {
    "duration": 7,
    "start_time": "2021-11-21T21:19:23.988Z"
   },
   {
    "duration": 6,
    "start_time": "2021-11-21T21:19:23.997Z"
   },
   {
    "duration": 6,
    "start_time": "2021-11-21T21:19:24.005Z"
   },
   {
    "duration": 7,
    "start_time": "2021-11-21T21:19:24.014Z"
   },
   {
    "duration": 3,
    "start_time": "2021-11-21T21:19:24.029Z"
   },
   {
    "duration": 5,
    "start_time": "2021-11-21T21:19:24.037Z"
   },
   {
    "duration": 4,
    "start_time": "2021-11-21T21:19:24.083Z"
   },
   {
    "duration": 10,
    "start_time": "2021-11-21T21:19:24.090Z"
   },
   {
    "duration": 5,
    "start_time": "2021-11-21T21:19:24.103Z"
   },
   {
    "duration": 14,
    "start_time": "2021-11-21T21:19:24.111Z"
   },
   {
    "duration": 11,
    "start_time": "2021-11-21T21:19:24.128Z"
   },
   {
    "duration": 12,
    "start_time": "2021-11-21T21:19:24.142Z"
   },
   {
    "duration": 30,
    "start_time": "2021-11-21T21:19:24.156Z"
   },
   {
    "duration": 10,
    "start_time": "2021-11-21T21:19:24.189Z"
   },
   {
    "duration": 6,
    "start_time": "2021-11-21T21:19:24.202Z"
   },
   {
    "duration": 7,
    "start_time": "2021-11-21T21:19:24.212Z"
   },
   {
    "duration": 9,
    "start_time": "2021-11-21T21:19:24.222Z"
   },
   {
    "duration": 8,
    "start_time": "2021-11-21T21:19:24.234Z"
   },
   {
    "duration": 8,
    "start_time": "2021-11-21T21:19:24.245Z"
   },
   {
    "duration": 33,
    "start_time": "2021-11-21T21:19:24.255Z"
   },
   {
    "duration": 6,
    "start_time": "2021-11-21T21:19:24.291Z"
   },
   {
    "duration": 6,
    "start_time": "2021-11-21T21:19:24.300Z"
   },
   {
    "duration": 7,
    "start_time": "2021-11-21T21:19:24.308Z"
   },
   {
    "duration": 5,
    "start_time": "2021-11-21T21:19:24.318Z"
   },
   {
    "duration": 9,
    "start_time": "2021-11-21T21:19:24.326Z"
   },
   {
    "duration": 9,
    "start_time": "2021-11-21T21:19:24.338Z"
   },
   {
    "duration": 10,
    "start_time": "2021-11-21T21:19:24.383Z"
   },
   {
    "duration": 7,
    "start_time": "2021-11-21T21:19:24.396Z"
   },
   {
    "duration": 26,
    "start_time": "2021-11-21T21:19:24.406Z"
   },
   {
    "duration": 78,
    "start_time": "2021-11-21T21:19:24.436Z"
   },
   {
    "duration": 30,
    "start_time": "2021-11-21T21:19:24.516Z"
   },
   {
    "duration": 45,
    "start_time": "2021-11-21T21:19:24.549Z"
   },
   {
    "duration": 26,
    "start_time": "2021-11-21T21:19:24.596Z"
   },
   {
    "duration": 9,
    "start_time": "2021-11-21T21:19:24.626Z"
   },
   {
    "duration": 11,
    "start_time": "2021-11-21T21:19:24.638Z"
   },
   {
    "duration": 3,
    "start_time": "2021-11-21T21:19:24.684Z"
   },
   {
    "duration": 4879,
    "start_time": "2021-11-21T21:19:24.689Z"
   },
   {
    "duration": 20,
    "start_time": "2021-11-21T21:19:29.571Z"
   },
   {
    "duration": 6,
    "start_time": "2021-11-21T21:19:29.594Z"
   },
   {
    "duration": 5,
    "start_time": "2021-11-21T21:19:29.602Z"
   },
   {
    "duration": 5,
    "start_time": "2021-11-21T21:19:29.610Z"
   },
   {
    "duration": 8,
    "start_time": "2021-11-21T21:19:29.618Z"
   },
   {
    "duration": 5,
    "start_time": "2021-11-21T21:19:29.629Z"
   },
   {
    "duration": 3,
    "start_time": "2021-11-21T21:19:29.682Z"
   },
   {
    "duration": 11,
    "start_time": "2021-11-21T21:19:29.687Z"
   },
   {
    "duration": 8,
    "start_time": "2021-11-21T21:19:29.700Z"
   },
   {
    "duration": 6,
    "start_time": "2021-11-21T21:19:29.711Z"
   },
   {
    "duration": 7,
    "start_time": "2021-11-21T21:19:29.719Z"
   },
   {
    "duration": 5,
    "start_time": "2021-11-21T21:19:29.728Z"
   },
   {
    "duration": 3,
    "start_time": "2021-11-21T21:19:29.741Z"
   },
   {
    "duration": 10,
    "start_time": "2021-11-21T21:19:29.783Z"
   },
   {
    "duration": 14,
    "start_time": "2021-11-21T21:19:29.795Z"
   },
   {
    "duration": 6,
    "start_time": "2021-11-21T21:19:29.811Z"
   },
   {
    "duration": 7,
    "start_time": "2021-11-21T21:19:29.819Z"
   },
   {
    "duration": 11,
    "start_time": "2021-11-21T21:19:29.828Z"
   },
   {
    "duration": 405,
    "start_time": "2021-11-21T21:21:03.765Z"
   },
   {
    "duration": 14,
    "start_time": "2021-11-21T21:21:10.921Z"
   },
   {
    "duration": 11,
    "start_time": "2021-11-21T21:21:14.714Z"
   },
   {
    "duration": 776,
    "start_time": "2021-11-21T21:38:55.194Z"
   },
   {
    "duration": 65,
    "start_time": "2021-11-21T21:38:55.973Z"
   },
   {
    "duration": 41,
    "start_time": "2021-11-21T21:38:56.042Z"
   },
   {
    "duration": 16,
    "start_time": "2021-11-21T21:38:56.086Z"
   },
   {
    "duration": 8,
    "start_time": "2021-11-21T21:38:56.105Z"
   },
   {
    "duration": 22,
    "start_time": "2021-11-21T21:38:56.115Z"
   },
   {
    "duration": 17,
    "start_time": "2021-11-21T21:38:56.140Z"
   },
   {
    "duration": 20,
    "start_time": "2021-11-21T21:38:56.183Z"
   },
   {
    "duration": 28,
    "start_time": "2021-11-21T21:38:56.206Z"
   },
   {
    "duration": 20,
    "start_time": "2021-11-21T21:38:56.236Z"
   },
   {
    "duration": 60,
    "start_time": "2021-11-21T21:38:56.258Z"
   },
   {
    "duration": 24,
    "start_time": "2021-11-21T21:38:56.320Z"
   },
   {
    "duration": 62,
    "start_time": "2021-11-21T21:38:56.346Z"
   },
   {
    "duration": 17,
    "start_time": "2021-11-21T21:38:56.410Z"
   },
   {
    "duration": 69,
    "start_time": "2021-11-21T21:38:56.429Z"
   },
   {
    "duration": 8,
    "start_time": "2021-11-21T21:38:56.500Z"
   },
   {
    "duration": 12,
    "start_time": "2021-11-21T21:38:56.511Z"
   },
   {
    "duration": 15,
    "start_time": "2021-11-21T21:38:56.525Z"
   },
   {
    "duration": 11,
    "start_time": "2021-11-21T21:38:56.542Z"
   },
   {
    "duration": 15,
    "start_time": "2021-11-21T21:38:56.555Z"
   },
   {
    "duration": 24,
    "start_time": "2021-11-21T21:38:56.572Z"
   },
   {
    "duration": 20,
    "start_time": "2021-11-21T21:38:56.599Z"
   },
   {
    "duration": 20,
    "start_time": "2021-11-21T21:38:56.625Z"
   },
   {
    "duration": 17,
    "start_time": "2021-11-21T21:38:56.649Z"
   },
   {
    "duration": 18,
    "start_time": "2021-11-21T21:38:56.668Z"
   },
   {
    "duration": 15,
    "start_time": "2021-11-21T21:38:56.689Z"
   },
   {
    "duration": 17,
    "start_time": "2021-11-21T21:38:56.707Z"
   },
   {
    "duration": 13,
    "start_time": "2021-11-21T21:38:56.726Z"
   },
   {
    "duration": 14,
    "start_time": "2021-11-21T21:38:56.742Z"
   },
   {
    "duration": 16,
    "start_time": "2021-11-21T21:38:56.759Z"
   },
   {
    "duration": 24,
    "start_time": "2021-11-21T21:38:56.777Z"
   },
   {
    "duration": 23,
    "start_time": "2021-11-21T21:38:56.803Z"
   },
   {
    "duration": 17,
    "start_time": "2021-11-21T21:38:56.829Z"
   },
   {
    "duration": 11,
    "start_time": "2021-11-21T21:38:56.848Z"
   },
   {
    "duration": 21,
    "start_time": "2021-11-21T21:38:56.862Z"
   },
   {
    "duration": 18,
    "start_time": "2021-11-21T21:38:56.886Z"
   },
   {
    "duration": 11,
    "start_time": "2021-11-21T21:38:56.907Z"
   },
   {
    "duration": 15,
    "start_time": "2021-11-21T21:38:56.920Z"
   },
   {
    "duration": 13,
    "start_time": "2021-11-21T21:38:56.937Z"
   },
   {
    "duration": 15,
    "start_time": "2021-11-21T21:38:56.953Z"
   },
   {
    "duration": 15,
    "start_time": "2021-11-21T21:38:56.971Z"
   },
   {
    "duration": 13,
    "start_time": "2021-11-21T21:38:56.989Z"
   },
   {
    "duration": 6,
    "start_time": "2021-11-21T21:38:57.004Z"
   },
   {
    "duration": 14,
    "start_time": "2021-11-21T21:38:57.013Z"
   },
   {
    "duration": 22,
    "start_time": "2021-11-21T21:38:57.030Z"
   },
   {
    "duration": 8,
    "start_time": "2021-11-21T21:38:57.055Z"
   },
   {
    "duration": 25,
    "start_time": "2021-11-21T21:38:57.066Z"
   },
   {
    "duration": 44,
    "start_time": "2021-11-21T21:38:57.094Z"
   },
   {
    "duration": 29,
    "start_time": "2021-11-21T21:38:57.141Z"
   },
   {
    "duration": 30,
    "start_time": "2021-11-21T21:38:57.172Z"
   },
   {
    "duration": 26,
    "start_time": "2021-11-21T21:38:57.205Z"
   },
   {
    "duration": 12,
    "start_time": "2021-11-21T21:38:57.234Z"
   },
   {
    "duration": 37,
    "start_time": "2021-11-21T21:38:57.248Z"
   },
   {
    "duration": 7,
    "start_time": "2021-11-21T21:38:57.288Z"
   },
   {
    "duration": 4998,
    "start_time": "2021-11-21T21:38:57.297Z"
   },
   {
    "duration": 15,
    "start_time": "2021-11-21T21:39:02.298Z"
   },
   {
    "duration": 20,
    "start_time": "2021-11-21T21:39:02.316Z"
   },
   {
    "duration": 19,
    "start_time": "2021-11-21T21:39:02.338Z"
   },
   {
    "duration": 16,
    "start_time": "2021-11-21T21:39:02.359Z"
   },
   {
    "duration": 26,
    "start_time": "2021-11-21T21:39:02.377Z"
   },
   {
    "duration": 6,
    "start_time": "2021-11-21T21:39:02.406Z"
   },
   {
    "duration": 11,
    "start_time": "2021-11-21T21:39:02.415Z"
   },
   {
    "duration": 14,
    "start_time": "2021-11-21T21:39:02.428Z"
   },
   {
    "duration": 14,
    "start_time": "2021-11-21T21:39:02.444Z"
   },
   {
    "duration": 12,
    "start_time": "2021-11-21T21:39:02.461Z"
   },
   {
    "duration": 12,
    "start_time": "2021-11-21T21:39:02.476Z"
   },
   {
    "duration": 19,
    "start_time": "2021-11-21T21:39:02.491Z"
   },
   {
    "duration": 3,
    "start_time": "2021-11-21T21:39:02.520Z"
   },
   {
    "duration": 18,
    "start_time": "2021-11-21T21:39:02.527Z"
   },
   {
    "duration": 14,
    "start_time": "2021-11-21T21:39:02.548Z"
   },
   {
    "duration": 15,
    "start_time": "2021-11-21T21:39:02.565Z"
   },
   {
    "duration": 18,
    "start_time": "2021-11-21T21:39:02.582Z"
   },
   {
    "duration": 10,
    "start_time": "2021-11-21T21:39:02.603Z"
   },
   {
    "duration": 11,
    "start_time": "2021-11-21T21:39:02.616Z"
   },
   {
    "duration": 9,
    "start_time": "2021-11-21T21:39:33.723Z"
   },
   {
    "duration": 11,
    "start_time": "2021-11-21T21:41:25.244Z"
   },
   {
    "duration": 10,
    "start_time": "2021-11-21T21:42:06.407Z"
   },
   {
    "duration": 862,
    "start_time": "2021-11-21T21:47:07.056Z"
   },
   {
    "duration": 67,
    "start_time": "2021-11-21T21:47:07.920Z"
   },
   {
    "duration": 30,
    "start_time": "2021-11-21T21:47:07.991Z"
   },
   {
    "duration": 17,
    "start_time": "2021-11-21T21:47:08.024Z"
   },
   {
    "duration": 4,
    "start_time": "2021-11-21T21:47:08.043Z"
   },
   {
    "duration": 11,
    "start_time": "2021-11-21T21:47:08.081Z"
   },
   {
    "duration": 9,
    "start_time": "2021-11-21T21:47:08.095Z"
   },
   {
    "duration": 21,
    "start_time": "2021-11-21T21:47:08.109Z"
   },
   {
    "duration": 57,
    "start_time": "2021-11-21T21:47:08.133Z"
   },
   {
    "duration": 18,
    "start_time": "2021-11-21T21:47:08.193Z"
   },
   {
    "duration": 40,
    "start_time": "2021-11-21T21:47:08.213Z"
   },
   {
    "duration": 52,
    "start_time": "2021-11-21T21:47:08.256Z"
   },
   {
    "duration": 37,
    "start_time": "2021-11-21T21:47:08.311Z"
   },
   {
    "duration": 47,
    "start_time": "2021-11-21T21:47:08.350Z"
   },
   {
    "duration": 43,
    "start_time": "2021-11-21T21:47:08.399Z"
   },
   {
    "duration": 38,
    "start_time": "2021-11-21T21:47:08.445Z"
   },
   {
    "duration": 16,
    "start_time": "2021-11-21T21:47:08.486Z"
   },
   {
    "duration": 4,
    "start_time": "2021-11-21T21:47:08.504Z"
   },
   {
    "duration": 7,
    "start_time": "2021-11-21T21:47:08.510Z"
   },
   {
    "duration": 7,
    "start_time": "2021-11-21T21:47:08.519Z"
   },
   {
    "duration": 6,
    "start_time": "2021-11-21T21:47:08.529Z"
   },
   {
    "duration": 12,
    "start_time": "2021-11-21T21:47:08.538Z"
   },
   {
    "duration": 3,
    "start_time": "2021-11-21T21:47:08.582Z"
   },
   {
    "duration": 10,
    "start_time": "2021-11-21T21:47:08.588Z"
   },
   {
    "duration": 8,
    "start_time": "2021-11-21T21:47:08.600Z"
   },
   {
    "duration": 6,
    "start_time": "2021-11-21T21:47:08.610Z"
   },
   {
    "duration": 7,
    "start_time": "2021-11-21T21:47:08.618Z"
   },
   {
    "duration": 5,
    "start_time": "2021-11-21T21:47:08.628Z"
   },
   {
    "duration": 7,
    "start_time": "2021-11-21T21:47:08.635Z"
   },
   {
    "duration": 6,
    "start_time": "2021-11-21T21:47:08.644Z"
   },
   {
    "duration": 4,
    "start_time": "2021-11-21T21:47:08.682Z"
   },
   {
    "duration": 8,
    "start_time": "2021-11-21T21:47:08.688Z"
   },
   {
    "duration": 8,
    "start_time": "2021-11-21T21:47:08.699Z"
   },
   {
    "duration": 11,
    "start_time": "2021-11-21T21:47:08.709Z"
   },
   {
    "duration": 12,
    "start_time": "2021-11-21T21:47:08.723Z"
   },
   {
    "duration": 10,
    "start_time": "2021-11-21T21:47:08.738Z"
   },
   {
    "duration": 6,
    "start_time": "2021-11-21T21:47:08.751Z"
   },
   {
    "duration": 23,
    "start_time": "2021-11-21T21:47:08.759Z"
   },
   {
    "duration": 6,
    "start_time": "2021-11-21T21:47:08.785Z"
   },
   {
    "duration": 5,
    "start_time": "2021-11-21T21:47:08.794Z"
   },
   {
    "duration": 5,
    "start_time": "2021-11-21T21:47:08.802Z"
   },
   {
    "duration": 7,
    "start_time": "2021-11-21T21:47:08.809Z"
   },
   {
    "duration": 5,
    "start_time": "2021-11-21T21:47:08.818Z"
   },
   {
    "duration": 6,
    "start_time": "2021-11-21T21:47:08.825Z"
   },
   {
    "duration": 56,
    "start_time": "2021-11-21T21:47:08.833Z"
   },
   {
    "duration": 13,
    "start_time": "2021-11-21T21:47:08.891Z"
   },
   {
    "duration": 8,
    "start_time": "2021-11-21T21:47:08.906Z"
   },
   {
    "duration": 17,
    "start_time": "2021-11-21T21:47:08.917Z"
   },
   {
    "duration": 58,
    "start_time": "2021-11-21T21:47:08.936Z"
   },
   {
    "duration": 28,
    "start_time": "2021-11-21T21:47:08.996Z"
   },
   {
    "duration": 25,
    "start_time": "2021-11-21T21:47:09.026Z"
   },
   {
    "duration": 50,
    "start_time": "2021-11-21T21:47:09.053Z"
   },
   {
    "duration": 10,
    "start_time": "2021-11-21T21:47:09.105Z"
   },
   {
    "duration": 10,
    "start_time": "2021-11-21T21:47:09.117Z"
   },
   {
    "duration": 5,
    "start_time": "2021-11-21T21:47:09.129Z"
   },
   {
    "duration": 4857,
    "start_time": "2021-11-21T21:47:09.136Z"
   },
   {
    "duration": 19,
    "start_time": "2021-11-21T21:47:13.997Z"
   },
   {
    "duration": 15,
    "start_time": "2021-11-21T21:47:14.018Z"
   },
   {
    "duration": 3,
    "start_time": "2021-11-21T21:47:14.035Z"
   },
   {
    "duration": 5,
    "start_time": "2021-11-21T21:47:14.041Z"
   },
   {
    "duration": 3,
    "start_time": "2021-11-21T21:47:14.083Z"
   },
   {
    "duration": 5,
    "start_time": "2021-11-21T21:47:14.089Z"
   },
   {
    "duration": 6,
    "start_time": "2021-11-21T21:47:14.097Z"
   },
   {
    "duration": 8,
    "start_time": "2021-11-21T21:47:14.106Z"
   },
   {
    "duration": 4,
    "start_time": "2021-11-21T21:47:14.117Z"
   },
   {
    "duration": 4,
    "start_time": "2021-11-21T21:47:14.124Z"
   },
   {
    "duration": 6,
    "start_time": "2021-11-21T21:47:14.130Z"
   },
   {
    "duration": 3,
    "start_time": "2021-11-21T21:47:14.185Z"
   },
   {
    "duration": 6,
    "start_time": "2021-11-21T21:47:14.191Z"
   },
   {
    "duration": 13,
    "start_time": "2021-11-21T21:47:14.199Z"
   },
   {
    "duration": 3,
    "start_time": "2021-11-21T21:47:14.214Z"
   },
   {
    "duration": 8,
    "start_time": "2021-11-21T21:47:14.219Z"
   },
   {
    "duration": 7,
    "start_time": "2021-11-21T21:47:14.229Z"
   },
   {
    "duration": 45,
    "start_time": "2021-11-21T21:47:14.238Z"
   },
   {
    "duration": 5,
    "start_time": "2021-11-21T21:47:14.286Z"
   },
   {
    "duration": 16,
    "start_time": "2021-11-21T21:47:14.294Z"
   },
   {
    "duration": 14,
    "start_time": "2021-11-21T21:47:14.313Z"
   },
   {
    "duration": 12,
    "start_time": "2021-11-21T21:47:14.330Z"
   },
   {
    "duration": 19,
    "start_time": "2021-11-21T21:51:13.841Z"
   },
   {
    "duration": 20,
    "start_time": "2021-11-21T21:51:22.610Z"
   },
   {
    "duration": 9,
    "start_time": "2021-11-21T22:03:40.934Z"
   },
   {
    "duration": 9,
    "start_time": "2021-11-21T22:24:27.183Z"
   },
   {
    "duration": 10,
    "start_time": "2021-11-21T22:24:44.880Z"
   },
   {
    "duration": 6,
    "start_time": "2021-11-21T22:25:18.665Z"
   },
   {
    "duration": 9,
    "start_time": "2021-11-21T22:26:39.842Z"
   },
   {
    "duration": 438,
    "start_time": "2021-11-21T22:31:39.507Z"
   },
   {
    "duration": 15,
    "start_time": "2021-11-21T22:32:06.792Z"
   },
   {
    "duration": 18,
    "start_time": "2021-11-21T22:32:16.312Z"
   },
   {
    "duration": 351,
    "start_time": "2021-11-21T22:32:47.075Z"
   },
   {
    "duration": 43,
    "start_time": "2021-11-21T22:34:52.225Z"
   },
   {
    "duration": 24,
    "start_time": "2021-11-21T22:35:23.648Z"
   },
   {
    "duration": 114,
    "start_time": "2021-11-21T22:36:34.129Z"
   },
   {
    "duration": 20,
    "start_time": "2021-11-21T22:36:38.155Z"
   },
   {
    "duration": 312,
    "start_time": "2021-11-21T22:38:04.002Z"
   },
   {
    "duration": 28,
    "start_time": "2021-11-21T22:38:33.240Z"
   },
   {
    "duration": 14,
    "start_time": "2021-11-21T22:39:54.500Z"
   },
   {
    "duration": 12,
    "start_time": "2021-11-21T22:42:14.429Z"
   },
   {
    "duration": 20,
    "start_time": "2021-11-21T22:42:36.791Z"
   },
   {
    "duration": 13,
    "start_time": "2021-11-21T22:51:16.700Z"
   },
   {
    "duration": 41,
    "start_time": "2021-11-21T22:51:26.650Z"
   },
   {
    "duration": 16,
    "start_time": "2021-11-21T22:52:28.049Z"
   },
   {
    "duration": 637,
    "start_time": "2021-11-22T11:04:04.822Z"
   },
   {
    "duration": 56,
    "start_time": "2021-11-22T11:04:05.462Z"
   },
   {
    "duration": 20,
    "start_time": "2021-11-22T11:04:05.523Z"
   },
   {
    "duration": 22,
    "start_time": "2021-11-22T11:04:05.546Z"
   },
   {
    "duration": 3,
    "start_time": "2021-11-22T11:04:05.570Z"
   },
   {
    "duration": 17,
    "start_time": "2021-11-22T11:04:05.575Z"
   },
   {
    "duration": 7,
    "start_time": "2021-11-22T11:04:05.596Z"
   },
   {
    "duration": 21,
    "start_time": "2021-11-22T11:04:05.606Z"
   },
   {
    "duration": 44,
    "start_time": "2021-11-22T11:04:05.629Z"
   },
   {
    "duration": 22,
    "start_time": "2021-11-22T11:04:05.674Z"
   },
   {
    "duration": 30,
    "start_time": "2021-11-22T11:04:05.697Z"
   },
   {
    "duration": 41,
    "start_time": "2021-11-22T11:04:05.729Z"
   },
   {
    "duration": 26,
    "start_time": "2021-11-22T11:04:05.772Z"
   },
   {
    "duration": 16,
    "start_time": "2021-11-22T11:04:05.799Z"
   },
   {
    "duration": 48,
    "start_time": "2021-11-22T11:04:05.817Z"
   },
   {
    "duration": 6,
    "start_time": "2021-11-22T11:04:05.867Z"
   },
   {
    "duration": 15,
    "start_time": "2021-11-22T11:04:05.876Z"
   },
   {
    "duration": 19,
    "start_time": "2021-11-22T11:04:05.893Z"
   },
   {
    "duration": 14,
    "start_time": "2021-11-22T11:04:05.914Z"
   },
   {
    "duration": 8,
    "start_time": "2021-11-22T11:04:05.930Z"
   },
   {
    "duration": 39,
    "start_time": "2021-11-22T11:04:05.939Z"
   },
   {
    "duration": 11,
    "start_time": "2021-11-22T11:04:05.982Z"
   },
   {
    "duration": 4,
    "start_time": "2021-11-22T11:04:05.996Z"
   },
   {
    "duration": 7,
    "start_time": "2021-11-22T11:04:06.002Z"
   },
   {
    "duration": 10,
    "start_time": "2021-11-22T11:04:06.011Z"
   },
   {
    "duration": 13,
    "start_time": "2021-11-22T11:04:06.023Z"
   },
   {
    "duration": 22,
    "start_time": "2021-11-22T11:04:06.038Z"
   },
   {
    "duration": 14,
    "start_time": "2021-11-22T11:04:06.062Z"
   },
   {
    "duration": 10,
    "start_time": "2021-11-22T11:04:06.077Z"
   },
   {
    "duration": 25,
    "start_time": "2021-11-22T11:04:06.089Z"
   },
   {
    "duration": 10,
    "start_time": "2021-11-22T11:04:06.116Z"
   },
   {
    "duration": 26,
    "start_time": "2021-11-22T11:04:06.128Z"
   },
   {
    "duration": 20,
    "start_time": "2021-11-22T11:04:06.156Z"
   },
   {
    "duration": 13,
    "start_time": "2021-11-22T11:04:06.177Z"
   },
   {
    "duration": 12,
    "start_time": "2021-11-22T11:04:06.192Z"
   },
   {
    "duration": 16,
    "start_time": "2021-11-22T11:04:06.207Z"
   },
   {
    "duration": 9,
    "start_time": "2021-11-22T11:04:06.226Z"
   },
   {
    "duration": 12,
    "start_time": "2021-11-22T11:04:06.237Z"
   },
   {
    "duration": 8,
    "start_time": "2021-11-22T11:04:06.250Z"
   },
   {
    "duration": 11,
    "start_time": "2021-11-22T11:04:06.260Z"
   },
   {
    "duration": 8,
    "start_time": "2021-11-22T11:04:06.272Z"
   },
   {
    "duration": 10,
    "start_time": "2021-11-22T11:04:06.282Z"
   },
   {
    "duration": 12,
    "start_time": "2021-11-22T11:04:06.293Z"
   },
   {
    "duration": 7,
    "start_time": "2021-11-22T11:04:06.307Z"
   },
   {
    "duration": 12,
    "start_time": "2021-11-22T11:04:06.316Z"
   },
   {
    "duration": 18,
    "start_time": "2021-11-22T11:04:06.330Z"
   },
   {
    "duration": 9,
    "start_time": "2021-11-22T11:04:06.350Z"
   },
   {
    "duration": 17,
    "start_time": "2021-11-22T11:04:06.361Z"
   },
   {
    "duration": 39,
    "start_time": "2021-11-22T11:04:06.380Z"
   },
   {
    "duration": 20,
    "start_time": "2021-11-22T11:04:06.421Z"
   },
   {
    "duration": 24,
    "start_time": "2021-11-22T11:04:06.443Z"
   },
   {
    "duration": 18,
    "start_time": "2021-11-22T11:04:06.468Z"
   },
   {
    "duration": 6,
    "start_time": "2021-11-22T11:04:06.488Z"
   },
   {
    "duration": 11,
    "start_time": "2021-11-22T11:04:06.496Z"
   },
   {
    "duration": 7,
    "start_time": "2021-11-22T11:04:06.509Z"
   },
   {
    "duration": 3915,
    "start_time": "2021-11-22T11:04:06.518Z"
   },
   {
    "duration": 27,
    "start_time": "2021-11-22T11:04:10.436Z"
   },
   {
    "duration": 11,
    "start_time": "2021-11-22T11:04:10.466Z"
   },
   {
    "duration": 4,
    "start_time": "2021-11-22T11:04:10.479Z"
   },
   {
    "duration": 4,
    "start_time": "2021-11-22T11:04:10.486Z"
   },
   {
    "duration": 5,
    "start_time": "2021-11-22T11:04:10.492Z"
   },
   {
    "duration": 6,
    "start_time": "2021-11-22T11:04:10.498Z"
   },
   {
    "duration": 6,
    "start_time": "2021-11-22T11:04:10.506Z"
   },
   {
    "duration": 8,
    "start_time": "2021-11-22T11:04:10.513Z"
   },
   {
    "duration": 7,
    "start_time": "2021-11-22T11:04:10.523Z"
   },
   {
    "duration": 10,
    "start_time": "2021-11-22T11:04:10.532Z"
   },
   {
    "duration": 2,
    "start_time": "2021-11-22T11:04:10.564Z"
   },
   {
    "duration": 8,
    "start_time": "2021-11-22T11:04:10.568Z"
   },
   {
    "duration": 8,
    "start_time": "2021-11-22T11:04:10.578Z"
   },
   {
    "duration": 6,
    "start_time": "2021-11-22T11:04:10.588Z"
   },
   {
    "duration": 12,
    "start_time": "2021-11-22T11:04:10.596Z"
   },
   {
    "duration": 8,
    "start_time": "2021-11-22T11:04:10.610Z"
   },
   {
    "duration": 13,
    "start_time": "2021-11-22T11:04:10.619Z"
   },
   {
    "duration": 8,
    "start_time": "2021-11-22T11:04:10.634Z"
   },
   {
    "duration": 8,
    "start_time": "2021-11-22T11:04:10.644Z"
   },
   {
    "duration": 25,
    "start_time": "2021-11-22T11:04:10.653Z"
   },
   {
    "duration": 7,
    "start_time": "2021-11-22T11:04:10.680Z"
   },
   {
    "duration": 10,
    "start_time": "2021-11-22T11:04:10.688Z"
   },
   {
    "duration": 89,
    "start_time": "2021-11-22T11:04:10.700Z"
   },
   {
    "duration": 491,
    "start_time": "2021-11-22T11:04:10.300Z"
   },
   {
    "duration": 84,
    "start_time": "2021-11-22T11:04:54.540Z"
   },
   {
    "duration": 142,
    "start_time": "2021-11-22T11:06:21.946Z"
   },
   {
    "duration": 178,
    "start_time": "2021-11-22T11:06:28.143Z"
   },
   {
    "duration": 14,
    "start_time": "2021-11-22T11:06:57.230Z"
   },
   {
    "duration": 6,
    "start_time": "2021-11-22T11:07:13.627Z"
   },
   {
    "duration": 651,
    "start_time": "2021-11-22T11:08:36.173Z"
   },
   {
    "duration": 54,
    "start_time": "2021-11-22T11:08:36.826Z"
   },
   {
    "duration": 20,
    "start_time": "2021-11-22T11:08:36.882Z"
   },
   {
    "duration": 17,
    "start_time": "2021-11-22T11:08:36.903Z"
   },
   {
    "duration": 2,
    "start_time": "2021-11-22T11:08:36.922Z"
   },
   {
    "duration": 10,
    "start_time": "2021-11-22T11:08:36.925Z"
   },
   {
    "duration": 6,
    "start_time": "2021-11-22T11:08:36.937Z"
   },
   {
    "duration": 14,
    "start_time": "2021-11-22T11:08:36.965Z"
   },
   {
    "duration": 14,
    "start_time": "2021-11-22T11:08:36.981Z"
   },
   {
    "duration": 10,
    "start_time": "2021-11-22T11:08:36.997Z"
   },
   {
    "duration": 26,
    "start_time": "2021-11-22T11:08:37.009Z"
   },
   {
    "duration": 41,
    "start_time": "2021-11-22T11:08:37.037Z"
   },
   {
    "duration": 23,
    "start_time": "2021-11-22T11:08:37.080Z"
   },
   {
    "duration": 11,
    "start_time": "2021-11-22T11:08:37.105Z"
   },
   {
    "duration": 53,
    "start_time": "2021-11-22T11:08:37.117Z"
   },
   {
    "duration": 6,
    "start_time": "2021-11-22T11:08:37.172Z"
   },
   {
    "duration": 10,
    "start_time": "2021-11-22T11:08:37.179Z"
   },
   {
    "duration": 3,
    "start_time": "2021-11-22T11:08:37.191Z"
   },
   {
    "duration": 7,
    "start_time": "2021-11-22T11:08:37.195Z"
   },
   {
    "duration": 17,
    "start_time": "2021-11-22T11:08:37.204Z"
   },
   {
    "duration": 12,
    "start_time": "2021-11-22T11:08:37.223Z"
   },
   {
    "duration": 12,
    "start_time": "2021-11-22T11:08:37.237Z"
   },
   {
    "duration": 8,
    "start_time": "2021-11-22T11:08:37.253Z"
   },
   {
    "duration": 29,
    "start_time": "2021-11-22T11:08:37.263Z"
   },
   {
    "duration": 8,
    "start_time": "2021-11-22T11:08:37.294Z"
   },
   {
    "duration": 7,
    "start_time": "2021-11-22T11:08:37.304Z"
   },
   {
    "duration": 13,
    "start_time": "2021-11-22T11:08:37.313Z"
   },
   {
    "duration": 8,
    "start_time": "2021-11-22T11:08:37.328Z"
   },
   {
    "duration": 8,
    "start_time": "2021-11-22T11:08:37.338Z"
   },
   {
    "duration": 8,
    "start_time": "2021-11-22T11:08:37.347Z"
   },
   {
    "duration": 8,
    "start_time": "2021-11-22T11:08:37.357Z"
   },
   {
    "duration": 15,
    "start_time": "2021-11-22T11:08:37.367Z"
   },
   {
    "duration": 15,
    "start_time": "2021-11-22T11:08:37.384Z"
   },
   {
    "duration": 7,
    "start_time": "2021-11-22T11:08:37.401Z"
   },
   {
    "duration": 7,
    "start_time": "2021-11-22T11:08:37.410Z"
   },
   {
    "duration": 11,
    "start_time": "2021-11-22T11:08:37.419Z"
   },
   {
    "duration": 11,
    "start_time": "2021-11-22T11:08:37.431Z"
   },
   {
    "duration": 9,
    "start_time": "2021-11-22T11:08:37.444Z"
   },
   {
    "duration": 8,
    "start_time": "2021-11-22T11:08:37.454Z"
   },
   {
    "duration": 7,
    "start_time": "2021-11-22T11:08:37.464Z"
   },
   {
    "duration": 16,
    "start_time": "2021-11-22T11:08:37.473Z"
   },
   {
    "duration": 30,
    "start_time": "2021-11-22T11:08:37.491Z"
   },
   {
    "duration": 27,
    "start_time": "2021-11-22T11:08:37.523Z"
   },
   {
    "duration": 15,
    "start_time": "2021-11-22T11:08:37.552Z"
   },
   {
    "duration": 19,
    "start_time": "2021-11-22T11:08:37.568Z"
   },
   {
    "duration": 30,
    "start_time": "2021-11-22T11:08:37.588Z"
   },
   {
    "duration": 11,
    "start_time": "2021-11-22T11:08:37.619Z"
   },
   {
    "duration": 28,
    "start_time": "2021-11-22T11:08:37.631Z"
   },
   {
    "duration": 29,
    "start_time": "2021-11-22T11:08:37.660Z"
   },
   {
    "duration": 21,
    "start_time": "2021-11-22T11:08:37.691Z"
   },
   {
    "duration": 21,
    "start_time": "2021-11-22T11:08:37.714Z"
   },
   {
    "duration": 33,
    "start_time": "2021-11-22T11:08:37.736Z"
   },
   {
    "duration": 16,
    "start_time": "2021-11-22T11:08:37.770Z"
   },
   {
    "duration": 11,
    "start_time": "2021-11-22T11:08:37.788Z"
   },
   {
    "duration": 12,
    "start_time": "2021-11-22T11:08:37.801Z"
   },
   {
    "duration": 3484,
    "start_time": "2021-11-22T11:08:37.815Z"
   },
   {
    "duration": 13,
    "start_time": "2021-11-22T11:08:41.301Z"
   },
   {
    "duration": 11,
    "start_time": "2021-11-22T11:08:41.316Z"
   },
   {
    "duration": 6,
    "start_time": "2021-11-22T11:08:41.329Z"
   },
   {
    "duration": 6,
    "start_time": "2021-11-22T11:08:41.336Z"
   },
   {
    "duration": 3,
    "start_time": "2021-11-22T11:08:41.363Z"
   },
   {
    "duration": 4,
    "start_time": "2021-11-22T11:08:41.368Z"
   },
   {
    "duration": 4,
    "start_time": "2021-11-22T11:08:41.374Z"
   },
   {
    "duration": 8,
    "start_time": "2021-11-22T11:08:41.380Z"
   },
   {
    "duration": 8,
    "start_time": "2021-11-22T11:08:41.390Z"
   },
   {
    "duration": 11,
    "start_time": "2021-11-22T11:08:41.400Z"
   },
   {
    "duration": 8,
    "start_time": "2021-11-22T11:08:41.412Z"
   },
   {
    "duration": 8,
    "start_time": "2021-11-22T11:08:41.424Z"
   },
   {
    "duration": 8,
    "start_time": "2021-11-22T11:08:41.434Z"
   },
   {
    "duration": 9,
    "start_time": "2021-11-22T11:08:41.444Z"
   },
   {
    "duration": 9,
    "start_time": "2021-11-22T11:08:41.455Z"
   },
   {
    "duration": 12,
    "start_time": "2021-11-22T11:08:41.466Z"
   },
   {
    "duration": 10,
    "start_time": "2021-11-22T11:08:41.480Z"
   },
   {
    "duration": 8,
    "start_time": "2021-11-22T11:08:41.492Z"
   },
   {
    "duration": 8,
    "start_time": "2021-11-22T11:08:41.501Z"
   },
   {
    "duration": 27,
    "start_time": "2021-11-22T11:08:41.510Z"
   },
   {
    "duration": 8,
    "start_time": "2021-11-22T11:08:41.539Z"
   },
   {
    "duration": 12,
    "start_time": "2021-11-22T11:08:41.549Z"
   },
   {
    "duration": 20,
    "start_time": "2021-11-22T11:08:41.562Z"
   },
   {
    "duration": 5,
    "start_time": "2021-11-22T11:08:41.584Z"
   },
   {
    "duration": 30,
    "start_time": "2021-11-22T11:08:41.590Z"
   },
   {
    "duration": 16,
    "start_time": "2021-11-22T11:10:58.159Z"
   },
   {
    "duration": 663,
    "start_time": "2021-11-22T11:12:07.946Z"
   },
   {
    "duration": 55,
    "start_time": "2021-11-22T11:12:08.611Z"
   },
   {
    "duration": 20,
    "start_time": "2021-11-22T11:12:08.668Z"
   },
   {
    "duration": 34,
    "start_time": "2021-11-22T11:12:08.690Z"
   },
   {
    "duration": 20,
    "start_time": "2021-11-22T11:12:08.726Z"
   },
   {
    "duration": 37,
    "start_time": "2021-11-22T11:12:08.748Z"
   },
   {
    "duration": 42,
    "start_time": "2021-11-22T11:12:08.786Z"
   },
   {
    "duration": 47,
    "start_time": "2021-11-22T11:12:08.831Z"
   },
   {
    "duration": 31,
    "start_time": "2021-11-22T11:12:08.881Z"
   },
   {
    "duration": 28,
    "start_time": "2021-11-22T11:12:08.914Z"
   },
   {
    "duration": 49,
    "start_time": "2021-11-22T11:12:08.944Z"
   },
   {
    "duration": 19,
    "start_time": "2021-11-22T11:12:08.995Z"
   },
   {
    "duration": 72,
    "start_time": "2021-11-22T11:12:09.016Z"
   },
   {
    "duration": 42,
    "start_time": "2021-11-22T11:12:09.090Z"
   },
   {
    "duration": 51,
    "start_time": "2021-11-22T11:12:09.133Z"
   },
   {
    "duration": 6,
    "start_time": "2021-11-22T11:12:09.186Z"
   },
   {
    "duration": 20,
    "start_time": "2021-11-22T11:12:09.194Z"
   },
   {
    "duration": 15,
    "start_time": "2021-11-22T11:12:09.216Z"
   },
   {
    "duration": 19,
    "start_time": "2021-11-22T11:12:09.232Z"
   },
   {
    "duration": 19,
    "start_time": "2021-11-22T11:12:09.253Z"
   },
   {
    "duration": 22,
    "start_time": "2021-11-22T11:12:09.274Z"
   },
   {
    "duration": 14,
    "start_time": "2021-11-22T11:12:09.298Z"
   },
   {
    "duration": 2,
    "start_time": "2021-11-22T11:12:09.317Z"
   },
   {
    "duration": 4,
    "start_time": "2021-11-22T11:12:09.321Z"
   },
   {
    "duration": 127,
    "start_time": "2021-11-22T11:12:09.327Z"
   },
   {
    "duration": 7,
    "start_time": "2021-11-22T11:12:09.455Z"
   },
   {
    "duration": 5,
    "start_time": "2021-11-22T11:12:09.463Z"
   },
   {
    "duration": 4,
    "start_time": "2021-11-22T11:12:09.469Z"
   },
   {
    "duration": 5,
    "start_time": "2021-11-22T11:12:09.475Z"
   },
   {
    "duration": 10,
    "start_time": "2021-11-22T11:12:09.481Z"
   },
   {
    "duration": 8,
    "start_time": "2021-11-22T11:12:09.492Z"
   },
   {
    "duration": 12,
    "start_time": "2021-11-22T11:12:09.501Z"
   },
   {
    "duration": 12,
    "start_time": "2021-11-22T11:12:09.515Z"
   },
   {
    "duration": 22,
    "start_time": "2021-11-22T11:12:09.529Z"
   },
   {
    "duration": 9,
    "start_time": "2021-11-22T11:12:09.553Z"
   },
   {
    "duration": 11,
    "start_time": "2021-11-22T11:12:09.564Z"
   },
   {
    "duration": 8,
    "start_time": "2021-11-22T11:12:09.577Z"
   },
   {
    "duration": 12,
    "start_time": "2021-11-22T11:12:09.587Z"
   },
   {
    "duration": 10,
    "start_time": "2021-11-22T11:12:09.601Z"
   },
   {
    "duration": 9,
    "start_time": "2021-11-22T11:12:09.612Z"
   },
   {
    "duration": 8,
    "start_time": "2021-11-22T11:12:09.622Z"
   },
   {
    "duration": 8,
    "start_time": "2021-11-22T11:12:09.631Z"
   },
   {
    "duration": 9,
    "start_time": "2021-11-22T11:12:09.641Z"
   },
   {
    "duration": 8,
    "start_time": "2021-11-22T11:12:09.651Z"
   },
   {
    "duration": 9,
    "start_time": "2021-11-22T11:12:09.660Z"
   },
   {
    "duration": 17,
    "start_time": "2021-11-22T11:12:09.670Z"
   },
   {
    "duration": 6,
    "start_time": "2021-11-22T11:12:09.689Z"
   },
   {
    "duration": 15,
    "start_time": "2021-11-22T11:12:09.697Z"
   },
   {
    "duration": 22,
    "start_time": "2021-11-22T11:12:09.713Z"
   },
   {
    "duration": 20,
    "start_time": "2021-11-22T11:12:09.737Z"
   },
   {
    "duration": 15,
    "start_time": "2021-11-22T11:12:09.758Z"
   },
   {
    "duration": 17,
    "start_time": "2021-11-22T11:12:09.775Z"
   },
   {
    "duration": 6,
    "start_time": "2021-11-22T11:12:09.793Z"
   },
   {
    "duration": 11,
    "start_time": "2021-11-22T11:12:09.801Z"
   },
   {
    "duration": 6,
    "start_time": "2021-11-22T11:12:09.814Z"
   },
   {
    "duration": 3649,
    "start_time": "2021-11-22T11:12:09.821Z"
   },
   {
    "duration": 12,
    "start_time": "2021-11-22T11:12:13.472Z"
   },
   {
    "duration": 7,
    "start_time": "2021-11-22T11:12:13.486Z"
   },
   {
    "duration": 6,
    "start_time": "2021-11-22T11:12:13.495Z"
   },
   {
    "duration": 9,
    "start_time": "2021-11-22T11:12:13.503Z"
   },
   {
    "duration": 4,
    "start_time": "2021-11-22T11:12:13.514Z"
   },
   {
    "duration": 5,
    "start_time": "2021-11-22T11:12:13.520Z"
   },
   {
    "duration": 13,
    "start_time": "2021-11-22T11:12:13.526Z"
   },
   {
    "duration": 15,
    "start_time": "2021-11-22T11:12:13.542Z"
   },
   {
    "duration": 18,
    "start_time": "2021-11-22T11:12:13.559Z"
   },
   {
    "duration": 19,
    "start_time": "2021-11-22T11:12:13.579Z"
   },
   {
    "duration": 8,
    "start_time": "2021-11-22T11:12:13.600Z"
   },
   {
    "duration": 7,
    "start_time": "2021-11-22T11:12:13.612Z"
   },
   {
    "duration": 9,
    "start_time": "2021-11-22T11:12:13.621Z"
   },
   {
    "duration": 8,
    "start_time": "2021-11-22T11:12:13.631Z"
   },
   {
    "duration": 14,
    "start_time": "2021-11-22T11:12:13.641Z"
   },
   {
    "duration": 11,
    "start_time": "2021-11-22T11:12:13.657Z"
   },
   {
    "duration": 6,
    "start_time": "2021-11-22T11:12:13.670Z"
   },
   {
    "duration": 8,
    "start_time": "2021-11-22T11:12:13.678Z"
   },
   {
    "duration": 8,
    "start_time": "2021-11-22T11:12:13.688Z"
   },
   {
    "duration": 32,
    "start_time": "2021-11-22T11:12:13.698Z"
   },
   {
    "duration": 7,
    "start_time": "2021-11-22T11:12:13.732Z"
   },
   {
    "duration": 11,
    "start_time": "2021-11-22T11:12:13.741Z"
   },
   {
    "duration": 19,
    "start_time": "2021-11-22T11:12:13.754Z"
   },
   {
    "duration": 12,
    "start_time": "2021-11-22T11:12:13.775Z"
   },
   {
    "duration": 35,
    "start_time": "2021-11-22T11:12:13.789Z"
   },
   {
    "duration": 12,
    "start_time": "2021-11-22T11:12:13.827Z"
   },
   {
    "duration": 596,
    "start_time": "2021-11-22T11:14:01.211Z"
   },
   {
    "duration": 55,
    "start_time": "2021-11-22T11:14:01.809Z"
   },
   {
    "duration": 20,
    "start_time": "2021-11-22T11:14:01.866Z"
   },
   {
    "duration": 12,
    "start_time": "2021-11-22T11:14:01.889Z"
   },
   {
    "duration": 8,
    "start_time": "2021-11-22T11:14:01.903Z"
   },
   {
    "duration": 20,
    "start_time": "2021-11-22T11:14:01.913Z"
   },
   {
    "duration": 15,
    "start_time": "2021-11-22T11:14:01.935Z"
   },
   {
    "duration": 50,
    "start_time": "2021-11-22T11:14:01.953Z"
   },
   {
    "duration": 28,
    "start_time": "2021-11-22T11:14:02.005Z"
   },
   {
    "duration": 88,
    "start_time": "2021-11-22T11:14:02.035Z"
   },
   {
    "duration": 130,
    "start_time": "2021-11-22T11:14:02.125Z"
   },
   {
    "duration": 47,
    "start_time": "2021-11-22T11:14:02.257Z"
   },
   {
    "duration": 38,
    "start_time": "2021-11-22T11:14:02.306Z"
   },
   {
    "duration": 30,
    "start_time": "2021-11-22T11:14:02.346Z"
   },
   {
    "duration": 79,
    "start_time": "2021-11-22T11:14:02.378Z"
   },
   {
    "duration": 10,
    "start_time": "2021-11-22T11:14:02.459Z"
   },
   {
    "duration": 54,
    "start_time": "2021-11-22T11:14:02.471Z"
   },
   {
    "duration": 10,
    "start_time": "2021-11-22T11:14:02.526Z"
   },
   {
    "duration": 41,
    "start_time": "2021-11-22T11:14:02.538Z"
   },
   {
    "duration": 19,
    "start_time": "2021-11-22T11:14:02.581Z"
   },
   {
    "duration": 41,
    "start_time": "2021-11-22T11:14:02.602Z"
   },
   {
    "duration": 15,
    "start_time": "2021-11-22T11:14:02.645Z"
   },
   {
    "duration": 21,
    "start_time": "2021-11-22T11:14:02.665Z"
   },
   {
    "duration": 24,
    "start_time": "2021-11-22T11:14:02.689Z"
   },
   {
    "duration": 27,
    "start_time": "2021-11-22T11:14:02.716Z"
   },
   {
    "duration": 42,
    "start_time": "2021-11-22T11:14:02.745Z"
   },
   {
    "duration": 35,
    "start_time": "2021-11-22T11:14:02.789Z"
   },
   {
    "duration": 28,
    "start_time": "2021-11-22T11:14:02.825Z"
   },
   {
    "duration": 53,
    "start_time": "2021-11-22T11:14:02.855Z"
   },
   {
    "duration": 72,
    "start_time": "2021-11-22T11:14:02.910Z"
   },
   {
    "duration": 45,
    "start_time": "2021-11-22T11:14:02.984Z"
   },
   {
    "duration": 48,
    "start_time": "2021-11-22T11:14:03.031Z"
   },
   {
    "duration": 67,
    "start_time": "2021-11-22T11:14:03.080Z"
   },
   {
    "duration": 49,
    "start_time": "2021-11-22T11:14:03.149Z"
   },
   {
    "duration": 9,
    "start_time": "2021-11-22T11:14:03.199Z"
   },
   {
    "duration": 15,
    "start_time": "2021-11-22T11:14:03.210Z"
   },
   {
    "duration": 6,
    "start_time": "2021-11-22T11:14:03.227Z"
   },
   {
    "duration": 9,
    "start_time": "2021-11-22T11:14:03.235Z"
   },
   {
    "duration": 19,
    "start_time": "2021-11-22T11:14:03.246Z"
   },
   {
    "duration": 23,
    "start_time": "2021-11-22T11:14:03.267Z"
   },
   {
    "duration": 27,
    "start_time": "2021-11-22T11:14:03.292Z"
   },
   {
    "duration": 65,
    "start_time": "2021-11-22T11:14:03.321Z"
   },
   {
    "duration": 31,
    "start_time": "2021-11-22T11:14:03.388Z"
   },
   {
    "duration": 22,
    "start_time": "2021-11-22T11:14:03.422Z"
   },
   {
    "duration": 24,
    "start_time": "2021-11-22T11:14:03.446Z"
   },
   {
    "duration": 37,
    "start_time": "2021-11-22T11:14:03.472Z"
   },
   {
    "duration": 18,
    "start_time": "2021-11-22T11:14:03.511Z"
   },
   {
    "duration": 37,
    "start_time": "2021-11-22T11:14:03.531Z"
   },
   {
    "duration": 49,
    "start_time": "2021-11-22T11:14:03.569Z"
   },
   {
    "duration": 20,
    "start_time": "2021-11-22T11:14:03.620Z"
   },
   {
    "duration": 17,
    "start_time": "2021-11-22T11:14:03.641Z"
   },
   {
    "duration": 28,
    "start_time": "2021-11-22T11:14:03.660Z"
   },
   {
    "duration": 18,
    "start_time": "2021-11-22T11:14:03.690Z"
   },
   {
    "duration": 23,
    "start_time": "2021-11-22T11:14:03.709Z"
   },
   {
    "duration": 17,
    "start_time": "2021-11-22T11:14:03.733Z"
   },
   {
    "duration": 3451,
    "start_time": "2021-11-22T11:14:03.752Z"
   },
   {
    "duration": 11,
    "start_time": "2021-11-22T11:14:07.206Z"
   },
   {
    "duration": 13,
    "start_time": "2021-11-22T11:14:07.219Z"
   },
   {
    "duration": 4,
    "start_time": "2021-11-22T11:14:07.234Z"
   },
   {
    "duration": 9,
    "start_time": "2021-11-22T11:14:07.240Z"
   },
   {
    "duration": 13,
    "start_time": "2021-11-22T11:14:07.251Z"
   },
   {
    "duration": 5,
    "start_time": "2021-11-22T11:14:07.266Z"
   },
   {
    "duration": 8,
    "start_time": "2021-11-22T11:14:07.272Z"
   },
   {
    "duration": 8,
    "start_time": "2021-11-22T11:14:07.281Z"
   },
   {
    "duration": 9,
    "start_time": "2021-11-22T11:14:07.290Z"
   },
   {
    "duration": 9,
    "start_time": "2021-11-22T11:14:07.301Z"
   },
   {
    "duration": 8,
    "start_time": "2021-11-22T11:14:07.311Z"
   },
   {
    "duration": 6,
    "start_time": "2021-11-22T11:14:07.325Z"
   },
   {
    "duration": 8,
    "start_time": "2021-11-22T11:14:07.333Z"
   },
   {
    "duration": 9,
    "start_time": "2021-11-22T11:14:07.342Z"
   },
   {
    "duration": 14,
    "start_time": "2021-11-22T11:14:07.353Z"
   },
   {
    "duration": 6,
    "start_time": "2021-11-22T11:14:07.369Z"
   },
   {
    "duration": 9,
    "start_time": "2021-11-22T11:14:07.377Z"
   },
   {
    "duration": 7,
    "start_time": "2021-11-22T11:14:07.387Z"
   },
   {
    "duration": 9,
    "start_time": "2021-11-22T11:14:07.396Z"
   },
   {
    "duration": 29,
    "start_time": "2021-11-22T11:14:07.407Z"
   },
   {
    "duration": 7,
    "start_time": "2021-11-22T11:14:07.438Z"
   },
   {
    "duration": 17,
    "start_time": "2021-11-22T11:14:07.447Z"
   },
   {
    "duration": 32,
    "start_time": "2021-11-22T11:14:07.466Z"
   },
   {
    "duration": 29,
    "start_time": "2021-11-22T11:14:07.500Z"
   },
   {
    "duration": 22,
    "start_time": "2021-11-22T11:14:07.530Z"
   },
   {
    "duration": 15,
    "start_time": "2021-11-22T11:14:07.554Z"
   },
   {
    "duration": 26,
    "start_time": "2021-11-22T11:16:01.236Z"
   },
   {
    "duration": 582,
    "start_time": "2021-11-22T11:17:21.494Z"
   },
   {
    "duration": 55,
    "start_time": "2021-11-22T11:17:22.077Z"
   },
   {
    "duration": 19,
    "start_time": "2021-11-22T11:17:22.136Z"
   },
   {
    "duration": 38,
    "start_time": "2021-11-22T11:17:22.156Z"
   },
   {
    "duration": 5,
    "start_time": "2021-11-22T11:17:22.196Z"
   },
   {
    "duration": 27,
    "start_time": "2021-11-22T11:17:22.202Z"
   },
   {
    "duration": 20,
    "start_time": "2021-11-22T11:17:22.232Z"
   },
   {
    "duration": 13,
    "start_time": "2021-11-22T11:17:22.254Z"
   },
   {
    "duration": 44,
    "start_time": "2021-11-22T11:17:22.269Z"
   },
   {
    "duration": 11,
    "start_time": "2021-11-22T11:17:22.315Z"
   },
   {
    "duration": 26,
    "start_time": "2021-11-22T11:17:22.327Z"
   },
   {
    "duration": 16,
    "start_time": "2021-11-22T11:17:22.354Z"
   },
   {
    "duration": 40,
    "start_time": "2021-11-22T11:17:22.372Z"
   },
   {
    "duration": 12,
    "start_time": "2021-11-22T11:17:22.414Z"
   },
   {
    "duration": 38,
    "start_time": "2021-11-22T11:17:22.427Z"
   },
   {
    "duration": 6,
    "start_time": "2021-11-22T11:17:22.467Z"
   },
   {
    "duration": 15,
    "start_time": "2021-11-22T11:17:22.475Z"
   },
   {
    "duration": 3,
    "start_time": "2021-11-22T11:17:22.492Z"
   },
   {
    "duration": 16,
    "start_time": "2021-11-22T11:17:22.496Z"
   },
   {
    "duration": 14,
    "start_time": "2021-11-22T11:17:22.513Z"
   },
   {
    "duration": 11,
    "start_time": "2021-11-22T11:17:22.528Z"
   },
   {
    "duration": 9,
    "start_time": "2021-11-22T11:17:22.543Z"
   },
   {
    "duration": 20,
    "start_time": "2021-11-22T11:17:22.555Z"
   },
   {
    "duration": 25,
    "start_time": "2021-11-22T11:17:22.577Z"
   },
   {
    "duration": 20,
    "start_time": "2021-11-22T11:17:22.604Z"
   },
   {
    "duration": 51,
    "start_time": "2021-11-22T11:17:22.626Z"
   },
   {
    "duration": 18,
    "start_time": "2021-11-22T11:17:22.678Z"
   },
   {
    "duration": 8,
    "start_time": "2021-11-22T11:17:22.698Z"
   },
   {
    "duration": 10,
    "start_time": "2021-11-22T11:17:22.708Z"
   },
   {
    "duration": 11,
    "start_time": "2021-11-22T11:17:22.720Z"
   },
   {
    "duration": 13,
    "start_time": "2021-11-22T11:17:22.732Z"
   },
   {
    "duration": 14,
    "start_time": "2021-11-22T11:17:22.747Z"
   },
   {
    "duration": 20,
    "start_time": "2021-11-22T11:17:22.762Z"
   },
   {
    "duration": 20,
    "start_time": "2021-11-22T11:17:22.784Z"
   },
   {
    "duration": 10,
    "start_time": "2021-11-22T11:17:22.806Z"
   },
   {
    "duration": 18,
    "start_time": "2021-11-22T11:17:22.818Z"
   },
   {
    "duration": 13,
    "start_time": "2021-11-22T11:17:22.838Z"
   },
   {
    "duration": 9,
    "start_time": "2021-11-22T11:17:22.852Z"
   },
   {
    "duration": 9,
    "start_time": "2021-11-22T11:17:22.863Z"
   },
   {
    "duration": 12,
    "start_time": "2021-11-22T11:17:22.873Z"
   },
   {
    "duration": 20,
    "start_time": "2021-11-22T11:17:22.886Z"
   },
   {
    "duration": 16,
    "start_time": "2021-11-22T11:17:22.908Z"
   },
   {
    "duration": 13,
    "start_time": "2021-11-22T11:17:22.926Z"
   },
   {
    "duration": 22,
    "start_time": "2021-11-22T11:17:22.941Z"
   },
   {
    "duration": 9,
    "start_time": "2021-11-22T11:17:22.965Z"
   },
   {
    "duration": 21,
    "start_time": "2021-11-22T11:17:22.976Z"
   },
   {
    "duration": 10,
    "start_time": "2021-11-22T11:17:22.999Z"
   },
   {
    "duration": 22,
    "start_time": "2021-11-22T11:17:23.011Z"
   },
   {
    "duration": 25,
    "start_time": "2021-11-22T11:17:23.034Z"
   },
   {
    "duration": 23,
    "start_time": "2021-11-22T11:17:23.061Z"
   },
   {
    "duration": 26,
    "start_time": "2021-11-22T11:17:23.085Z"
   },
   {
    "duration": 18,
    "start_time": "2021-11-22T11:17:23.113Z"
   },
   {
    "duration": 8,
    "start_time": "2021-11-22T11:17:23.132Z"
   },
   {
    "duration": 19,
    "start_time": "2021-11-22T11:17:23.142Z"
   },
   {
    "duration": 6,
    "start_time": "2021-11-22T11:17:23.163Z"
   },
   {
    "duration": 3555,
    "start_time": "2021-11-22T11:17:23.171Z"
   },
   {
    "duration": 12,
    "start_time": "2021-11-22T11:17:26.728Z"
   },
   {
    "duration": 22,
    "start_time": "2021-11-22T11:17:26.742Z"
   },
   {
    "duration": 4,
    "start_time": "2021-11-22T11:17:26.766Z"
   },
   {
    "duration": 6,
    "start_time": "2021-11-22T11:17:26.771Z"
   },
   {
    "duration": 5,
    "start_time": "2021-11-22T11:17:26.779Z"
   },
   {
    "duration": 9,
    "start_time": "2021-11-22T11:17:26.785Z"
   },
   {
    "duration": 6,
    "start_time": "2021-11-22T11:17:26.796Z"
   },
   {
    "duration": 5,
    "start_time": "2021-11-22T11:17:26.803Z"
   },
   {
    "duration": 6,
    "start_time": "2021-11-22T11:17:26.810Z"
   },
   {
    "duration": 10,
    "start_time": "2021-11-22T11:17:26.818Z"
   },
   {
    "duration": 3,
    "start_time": "2021-11-22T11:17:26.833Z"
   },
   {
    "duration": 7,
    "start_time": "2021-11-22T11:17:26.837Z"
   },
   {
    "duration": 6,
    "start_time": "2021-11-22T11:17:26.846Z"
   },
   {
    "duration": 32,
    "start_time": "2021-11-22T11:17:26.854Z"
   },
   {
    "duration": 22,
    "start_time": "2021-11-22T11:17:26.888Z"
   },
   {
    "duration": 7,
    "start_time": "2021-11-22T11:17:26.912Z"
   },
   {
    "duration": 7,
    "start_time": "2021-11-22T11:17:26.921Z"
   },
   {
    "duration": 9,
    "start_time": "2021-11-22T11:17:26.930Z"
   },
   {
    "duration": 11,
    "start_time": "2021-11-22T11:17:26.941Z"
   },
   {
    "duration": 28,
    "start_time": "2021-11-22T11:17:26.954Z"
   },
   {
    "duration": 9,
    "start_time": "2021-11-22T11:17:26.984Z"
   },
   {
    "duration": 13,
    "start_time": "2021-11-22T11:17:26.994Z"
   },
   {
    "duration": 23,
    "start_time": "2021-11-22T11:17:27.008Z"
   },
   {
    "duration": 12,
    "start_time": "2021-11-22T11:17:27.033Z"
   },
   {
    "duration": 22,
    "start_time": "2021-11-22T11:17:27.046Z"
   },
   {
    "duration": 11,
    "start_time": "2021-11-22T11:17:27.070Z"
   },
   {
    "duration": 310,
    "start_time": "2021-11-22T12:30:59.122Z"
   },
   {
    "duration": 8,
    "start_time": "2021-11-22T12:31:09.905Z"
   },
   {
    "duration": 8,
    "start_time": "2021-11-22T12:31:31.865Z"
   },
   {
    "duration": 8,
    "start_time": "2021-11-22T12:32:09.631Z"
   },
   {
    "duration": 9,
    "start_time": "2021-11-22T12:32:40.862Z"
   },
   {
    "duration": 18,
    "start_time": "2021-11-22T12:47:27.677Z"
   },
   {
    "duration": 19,
    "start_time": "2021-11-22T12:48:21.930Z"
   },
   {
    "duration": 250,
    "start_time": "2021-11-22T12:50:48.278Z"
   },
   {
    "duration": 4741,
    "start_time": "2021-11-22T12:50:53.421Z"
   },
   {
    "duration": 4718,
    "start_time": "2021-11-22T12:51:09.395Z"
   },
   {
    "duration": 16,
    "start_time": "2021-11-22T12:51:19.666Z"
   },
   {
    "duration": 18,
    "start_time": "2021-11-22T12:51:31.028Z"
   },
   {
    "duration": 15,
    "start_time": "2021-11-22T12:51:43.629Z"
   },
   {
    "duration": 17,
    "start_time": "2021-11-22T12:52:07.668Z"
   },
   {
    "duration": 255,
    "start_time": "2021-11-22T12:56:02.273Z"
   },
   {
    "duration": 94,
    "start_time": "2021-11-22T12:56:11.208Z"
   },
   {
    "duration": 16,
    "start_time": "2021-11-22T12:56:17.385Z"
   },
   {
    "duration": 20,
    "start_time": "2021-11-22T12:56:21.715Z"
   },
   {
    "duration": 5,
    "start_time": "2021-11-22T14:21:06.472Z"
   },
   {
    "duration": 8,
    "start_time": "2021-11-22T14:21:12.722Z"
   },
   {
    "duration": 606,
    "start_time": "2021-11-22T14:21:18.897Z"
   },
   {
    "duration": 56,
    "start_time": "2021-11-22T14:21:19.505Z"
   },
   {
    "duration": 20,
    "start_time": "2021-11-22T14:21:19.566Z"
   },
   {
    "duration": 23,
    "start_time": "2021-11-22T14:21:19.588Z"
   },
   {
    "duration": 2,
    "start_time": "2021-11-22T14:21:19.613Z"
   },
   {
    "duration": 19,
    "start_time": "2021-11-22T14:21:19.617Z"
   },
   {
    "duration": 11,
    "start_time": "2021-11-22T14:21:19.638Z"
   },
   {
    "duration": 16,
    "start_time": "2021-11-22T14:21:19.663Z"
   },
   {
    "duration": 18,
    "start_time": "2021-11-22T14:21:19.681Z"
   },
   {
    "duration": 16,
    "start_time": "2021-11-22T14:21:19.701Z"
   },
   {
    "duration": 47,
    "start_time": "2021-11-22T14:21:19.719Z"
   },
   {
    "duration": 19,
    "start_time": "2021-11-22T14:21:19.768Z"
   },
   {
    "duration": 25,
    "start_time": "2021-11-22T14:21:19.789Z"
   },
   {
    "duration": 12,
    "start_time": "2021-11-22T14:21:19.816Z"
   },
   {
    "duration": 58,
    "start_time": "2021-11-22T14:21:19.830Z"
   },
   {
    "duration": 6,
    "start_time": "2021-11-22T14:21:19.890Z"
   },
   {
    "duration": 25,
    "start_time": "2021-11-22T14:21:19.898Z"
   },
   {
    "duration": 14,
    "start_time": "2021-11-22T14:21:19.925Z"
   },
   {
    "duration": 20,
    "start_time": "2021-11-22T14:21:19.940Z"
   },
   {
    "duration": 24,
    "start_time": "2021-11-22T14:21:19.962Z"
   },
   {
    "duration": 15,
    "start_time": "2021-11-22T14:21:19.988Z"
   },
   {
    "duration": 28,
    "start_time": "2021-11-22T14:21:20.008Z"
   },
   {
    "duration": 16,
    "start_time": "2021-11-22T14:21:20.039Z"
   },
   {
    "duration": 6,
    "start_time": "2021-11-22T14:21:20.057Z"
   },
   {
    "duration": 27,
    "start_time": "2021-11-22T14:21:20.065Z"
   },
   {
    "duration": 29,
    "start_time": "2021-11-22T14:21:20.093Z"
   },
   {
    "duration": 8,
    "start_time": "2021-11-22T14:21:20.124Z"
   },
   {
    "duration": 19,
    "start_time": "2021-11-22T14:21:20.134Z"
   },
   {
    "duration": 10,
    "start_time": "2021-11-22T14:21:20.155Z"
   },
   {
    "duration": 17,
    "start_time": "2021-11-22T14:21:20.167Z"
   },
   {
    "duration": 15,
    "start_time": "2021-11-22T14:21:20.186Z"
   },
   {
    "duration": 27,
    "start_time": "2021-11-22T14:21:20.203Z"
   },
   {
    "duration": 29,
    "start_time": "2021-11-22T14:21:20.231Z"
   },
   {
    "duration": 18,
    "start_time": "2021-11-22T14:21:20.262Z"
   },
   {
    "duration": 13,
    "start_time": "2021-11-22T14:21:20.282Z"
   },
   {
    "duration": 24,
    "start_time": "2021-11-22T14:21:20.296Z"
   },
   {
    "duration": 10,
    "start_time": "2021-11-22T14:21:20.322Z"
   },
   {
    "duration": 20,
    "start_time": "2021-11-22T14:21:20.334Z"
   },
   {
    "duration": 21,
    "start_time": "2021-11-22T14:21:20.356Z"
   },
   {
    "duration": 13,
    "start_time": "2021-11-22T14:21:20.379Z"
   },
   {
    "duration": 10,
    "start_time": "2021-11-22T14:21:20.394Z"
   },
   {
    "duration": 11,
    "start_time": "2021-11-22T14:21:20.406Z"
   },
   {
    "duration": 11,
    "start_time": "2021-11-22T14:21:20.419Z"
   },
   {
    "duration": 9,
    "start_time": "2021-11-22T14:21:20.432Z"
   },
   {
    "duration": 20,
    "start_time": "2021-11-22T14:21:20.443Z"
   },
   {
    "duration": 31,
    "start_time": "2021-11-22T14:21:20.465Z"
   },
   {
    "duration": 22,
    "start_time": "2021-11-22T14:21:20.498Z"
   },
   {
    "duration": 19,
    "start_time": "2021-11-22T14:21:20.522Z"
   },
   {
    "duration": 41,
    "start_time": "2021-11-22T14:21:20.543Z"
   },
   {
    "duration": 23,
    "start_time": "2021-11-22T14:21:20.586Z"
   },
   {
    "duration": 19,
    "start_time": "2021-11-22T14:21:20.611Z"
   },
   {
    "duration": 35,
    "start_time": "2021-11-22T14:21:20.632Z"
   },
   {
    "duration": 7,
    "start_time": "2021-11-22T14:21:20.669Z"
   },
   {
    "duration": 57,
    "start_time": "2021-11-22T14:21:20.678Z"
   },
   {
    "duration": 27,
    "start_time": "2021-11-22T14:21:20.736Z"
   },
   {
    "duration": 3779,
    "start_time": "2021-11-22T14:21:20.765Z"
   },
   {
    "duration": 21,
    "start_time": "2021-11-22T14:21:24.546Z"
   },
   {
    "duration": 24,
    "start_time": "2021-11-22T14:21:24.569Z"
   },
   {
    "duration": 26,
    "start_time": "2021-11-22T14:21:24.595Z"
   },
   {
    "duration": 5,
    "start_time": "2021-11-22T14:21:24.623Z"
   },
   {
    "duration": 10,
    "start_time": "2021-11-22T14:21:24.630Z"
   },
   {
    "duration": 14,
    "start_time": "2021-11-22T14:21:24.642Z"
   },
   {
    "duration": 13,
    "start_time": "2021-11-22T14:21:24.658Z"
   },
   {
    "duration": 22,
    "start_time": "2021-11-22T14:21:24.673Z"
   },
   {
    "duration": 9,
    "start_time": "2021-11-22T14:21:24.697Z"
   },
   {
    "duration": 26,
    "start_time": "2021-11-22T14:21:24.708Z"
   },
   {
    "duration": 19,
    "start_time": "2021-11-22T14:21:24.739Z"
   },
   {
    "duration": 11,
    "start_time": "2021-11-22T14:21:24.760Z"
   },
   {
    "duration": 24,
    "start_time": "2021-11-22T14:21:24.773Z"
   },
   {
    "duration": 23,
    "start_time": "2021-11-22T14:21:24.799Z"
   },
   {
    "duration": 26,
    "start_time": "2021-11-22T14:21:24.824Z"
   },
   {
    "duration": 13,
    "start_time": "2021-11-22T14:21:24.852Z"
   },
   {
    "duration": 25,
    "start_time": "2021-11-22T14:21:24.867Z"
   },
   {
    "duration": 34,
    "start_time": "2021-11-22T14:21:24.894Z"
   },
   {
    "duration": 25,
    "start_time": "2021-11-22T14:21:24.930Z"
   },
   {
    "duration": 30,
    "start_time": "2021-11-22T14:21:24.957Z"
   },
   {
    "duration": 25,
    "start_time": "2021-11-22T14:21:24.989Z"
   },
   {
    "duration": 46,
    "start_time": "2021-11-22T14:21:25.016Z"
   },
   {
    "duration": 24,
    "start_time": "2021-11-22T14:21:25.064Z"
   },
   {
    "duration": 40,
    "start_time": "2021-11-22T14:21:25.090Z"
   },
   {
    "duration": 24,
    "start_time": "2021-11-22T14:21:25.131Z"
   },
   {
    "duration": 20,
    "start_time": "2021-11-22T14:21:25.156Z"
   },
   {
    "duration": 27,
    "start_time": "2021-11-22T14:21:25.177Z"
   },
   {
    "duration": 30,
    "start_time": "2021-11-22T14:21:25.206Z"
   },
   {
    "duration": 8,
    "start_time": "2021-11-22T14:22:55.388Z"
   },
   {
    "duration": 11,
    "start_time": "2021-11-22T14:23:49.650Z"
   },
   {
    "duration": 352,
    "start_time": "2021-11-22T14:24:17.714Z"
   },
   {
    "duration": 9,
    "start_time": "2021-11-22T14:24:48.720Z"
   },
   {
    "duration": 16,
    "start_time": "2021-11-22T14:25:22.537Z"
   },
   {
    "duration": 8,
    "start_time": "2021-11-22T14:25:49.872Z"
   },
   {
    "duration": 8,
    "start_time": "2021-11-22T14:25:58.604Z"
   },
   {
    "duration": 18,
    "start_time": "2021-11-22T14:26:23.129Z"
   },
   {
    "duration": 18,
    "start_time": "2021-11-22T14:26:44.671Z"
   },
   {
    "duration": 19,
    "start_time": "2021-11-22T14:27:39.951Z"
   },
   {
    "duration": 7,
    "start_time": "2021-11-22T14:46:43.022Z"
   },
   {
    "duration": 63,
    "start_time": "2021-11-22T15:01:25.691Z"
   },
   {
    "duration": 13,
    "start_time": "2021-11-22T15:19:03.567Z"
   },
   {
    "duration": 15,
    "start_time": "2021-11-22T15:19:41.033Z"
   },
   {
    "duration": 19,
    "start_time": "2021-11-22T15:30:14.760Z"
   },
   {
    "duration": 18,
    "start_time": "2021-11-22T16:02:10.666Z"
   },
   {
    "duration": 289,
    "start_time": "2021-11-22T16:04:30.916Z"
   },
   {
    "duration": 42,
    "start_time": "2021-11-22T16:05:08.681Z"
   },
   {
    "duration": 50,
    "start_time": "2021-11-22T16:07:12.249Z"
   },
   {
    "duration": 19,
    "start_time": "2021-11-22T16:08:59.314Z"
   },
   {
    "duration": 19,
    "start_time": "2021-11-22T16:09:20.794Z"
   },
   {
    "duration": 19,
    "start_time": "2021-11-22T16:10:41.612Z"
   },
   {
    "duration": 19,
    "start_time": "2021-11-22T17:20:57.850Z"
   },
   {
    "duration": 6,
    "start_time": "2021-11-22T17:23:38.541Z"
   },
   {
    "duration": 7,
    "start_time": "2021-11-22T17:26:16.022Z"
   },
   {
    "duration": 19,
    "start_time": "2021-11-22T17:26:51.706Z"
   },
   {
    "duration": 558,
    "start_time": "2021-11-22T17:27:13.810Z"
   },
   {
    "duration": 55,
    "start_time": "2021-11-22T17:27:14.370Z"
   },
   {
    "duration": 18,
    "start_time": "2021-11-22T17:27:14.427Z"
   },
   {
    "duration": 15,
    "start_time": "2021-11-22T17:27:14.447Z"
   },
   {
    "duration": 2,
    "start_time": "2021-11-22T17:27:14.463Z"
   },
   {
    "duration": 8,
    "start_time": "2021-11-22T17:27:14.467Z"
   },
   {
    "duration": 21,
    "start_time": "2021-11-22T17:27:14.476Z"
   },
   {
    "duration": 14,
    "start_time": "2021-11-22T17:27:14.500Z"
   },
   {
    "duration": 13,
    "start_time": "2021-11-22T17:27:14.516Z"
   },
   {
    "duration": 10,
    "start_time": "2021-11-22T17:27:14.531Z"
   },
   {
    "duration": 44,
    "start_time": "2021-11-22T17:27:14.543Z"
   },
   {
    "duration": 17,
    "start_time": "2021-11-22T17:27:14.589Z"
   },
   {
    "duration": 24,
    "start_time": "2021-11-22T17:27:14.608Z"
   },
   {
    "duration": 32,
    "start_time": "2021-11-22T17:27:14.634Z"
   },
   {
    "duration": 28,
    "start_time": "2021-11-22T17:27:14.668Z"
   },
   {
    "duration": 7,
    "start_time": "2021-11-22T17:27:14.697Z"
   },
   {
    "duration": 16,
    "start_time": "2021-11-22T17:27:14.705Z"
   },
   {
    "duration": 7,
    "start_time": "2021-11-22T17:27:14.723Z"
   },
   {
    "duration": 16,
    "start_time": "2021-11-22T17:27:14.732Z"
   },
   {
    "duration": 15,
    "start_time": "2021-11-22T17:27:14.750Z"
   },
   {
    "duration": 21,
    "start_time": "2021-11-22T17:27:14.766Z"
   },
   {
    "duration": 15,
    "start_time": "2021-11-22T17:27:14.788Z"
   },
   {
    "duration": 8,
    "start_time": "2021-11-22T17:27:14.807Z"
   },
   {
    "duration": 19,
    "start_time": "2021-11-22T17:27:14.818Z"
   },
   {
    "duration": 10,
    "start_time": "2021-11-22T17:27:14.839Z"
   },
   {
    "duration": 21,
    "start_time": "2021-11-22T17:27:14.851Z"
   },
   {
    "duration": 16,
    "start_time": "2021-11-22T17:27:14.874Z"
   },
   {
    "duration": 9,
    "start_time": "2021-11-22T17:27:14.891Z"
   },
   {
    "duration": 15,
    "start_time": "2021-11-22T17:27:14.902Z"
   },
   {
    "duration": 20,
    "start_time": "2021-11-22T17:27:14.919Z"
   },
   {
    "duration": 12,
    "start_time": "2021-11-22T17:27:14.940Z"
   },
   {
    "duration": 23,
    "start_time": "2021-11-22T17:27:14.953Z"
   },
   {
    "duration": 22,
    "start_time": "2021-11-22T17:27:14.977Z"
   },
   {
    "duration": 26,
    "start_time": "2021-11-22T17:27:15.001Z"
   },
   {
    "duration": 18,
    "start_time": "2021-11-22T17:27:15.029Z"
   },
   {
    "duration": 25,
    "start_time": "2021-11-22T17:27:15.049Z"
   },
   {
    "duration": 13,
    "start_time": "2021-11-22T17:27:15.076Z"
   },
   {
    "duration": 13,
    "start_time": "2021-11-22T17:27:15.091Z"
   },
   {
    "duration": 14,
    "start_time": "2021-11-22T17:27:15.105Z"
   },
   {
    "duration": 13,
    "start_time": "2021-11-22T17:27:15.121Z"
   },
   {
    "duration": 14,
    "start_time": "2021-11-22T17:27:15.136Z"
   },
   {
    "duration": 13,
    "start_time": "2021-11-22T17:27:15.152Z"
   },
   {
    "duration": 7,
    "start_time": "2021-11-22T17:27:15.167Z"
   },
   {
    "duration": 11,
    "start_time": "2021-11-22T17:27:15.176Z"
   },
   {
    "duration": 14,
    "start_time": "2021-11-22T17:27:15.188Z"
   },
   {
    "duration": 23,
    "start_time": "2021-11-22T17:27:15.203Z"
   },
   {
    "duration": 16,
    "start_time": "2021-11-22T17:27:15.227Z"
   },
   {
    "duration": 23,
    "start_time": "2021-11-22T17:27:15.245Z"
   },
   {
    "duration": 26,
    "start_time": "2021-11-22T17:27:15.270Z"
   },
   {
    "duration": 21,
    "start_time": "2021-11-22T17:27:15.297Z"
   },
   {
    "duration": 15,
    "start_time": "2021-11-22T17:27:15.319Z"
   },
   {
    "duration": 29,
    "start_time": "2021-11-22T17:27:15.336Z"
   },
   {
    "duration": 7,
    "start_time": "2021-11-22T17:27:15.367Z"
   },
   {
    "duration": 24,
    "start_time": "2021-11-22T17:27:15.375Z"
   },
   {
    "duration": 10,
    "start_time": "2021-11-22T17:27:15.401Z"
   },
   {
    "duration": 3607,
    "start_time": "2021-11-22T17:27:15.413Z"
   },
   {
    "duration": 11,
    "start_time": "2021-11-22T17:27:19.022Z"
   },
   {
    "duration": 8,
    "start_time": "2021-11-22T17:27:19.034Z"
   },
   {
    "duration": 2,
    "start_time": "2021-11-22T17:27:19.063Z"
   },
   {
    "duration": 4,
    "start_time": "2021-11-22T17:27:19.067Z"
   },
   {
    "duration": 6,
    "start_time": "2021-11-22T17:27:19.073Z"
   },
   {
    "duration": 5,
    "start_time": "2021-11-22T17:27:19.081Z"
   },
   {
    "duration": 5,
    "start_time": "2021-11-22T17:27:19.087Z"
   },
   {
    "duration": 9,
    "start_time": "2021-11-22T17:27:19.094Z"
   },
   {
    "duration": 7,
    "start_time": "2021-11-22T17:27:19.105Z"
   },
   {
    "duration": 8,
    "start_time": "2021-11-22T17:27:19.114Z"
   },
   {
    "duration": 14,
    "start_time": "2021-11-22T17:27:19.124Z"
   },
   {
    "duration": 4,
    "start_time": "2021-11-22T17:27:19.142Z"
   },
   {
    "duration": 9,
    "start_time": "2021-11-22T17:27:19.148Z"
   },
   {
    "duration": 9,
    "start_time": "2021-11-22T17:27:19.158Z"
   },
   {
    "duration": 18,
    "start_time": "2021-11-22T17:27:19.168Z"
   },
   {
    "duration": 14,
    "start_time": "2021-11-22T17:27:19.187Z"
   },
   {
    "duration": 7,
    "start_time": "2021-11-22T17:27:19.203Z"
   },
   {
    "duration": 10,
    "start_time": "2021-11-22T17:27:19.211Z"
   },
   {
    "duration": 9,
    "start_time": "2021-11-22T17:27:19.223Z"
   },
   {
    "duration": 14,
    "start_time": "2021-11-22T17:27:19.233Z"
   },
   {
    "duration": 17,
    "start_time": "2021-11-22T17:27:19.249Z"
   },
   {
    "duration": 17,
    "start_time": "2021-11-22T17:27:19.268Z"
   },
   {
    "duration": 5,
    "start_time": "2021-11-22T17:27:19.287Z"
   },
   {
    "duration": 30,
    "start_time": "2021-11-22T17:27:19.293Z"
   },
   {
    "duration": 16,
    "start_time": "2021-11-22T17:27:19.325Z"
   },
   {
    "duration": 21,
    "start_time": "2021-11-22T17:27:19.343Z"
   },
   {
    "duration": 12,
    "start_time": "2021-11-22T17:27:19.366Z"
   },
   {
    "duration": 35,
    "start_time": "2021-11-22T17:27:19.380Z"
   },
   {
    "duration": 20,
    "start_time": "2021-11-22T17:27:56.087Z"
   },
   {
    "duration": 19,
    "start_time": "2021-11-22T17:30:26.899Z"
   },
   {
    "duration": 23,
    "start_time": "2021-11-22T17:55:24.169Z"
   },
   {
    "duration": 24,
    "start_time": "2021-11-22T17:55:53.547Z"
   },
   {
    "duration": 29,
    "start_time": "2021-11-22T17:58:41.473Z"
   },
   {
    "duration": 21,
    "start_time": "2021-11-22T18:00:13.556Z"
   },
   {
    "duration": 20,
    "start_time": "2021-11-22T18:19:13.304Z"
   },
   {
    "duration": 24,
    "start_time": "2021-11-22T18:20:23.231Z"
   },
   {
    "duration": 19,
    "start_time": "2021-11-22T18:20:47.495Z"
   },
   {
    "duration": 311,
    "start_time": "2021-11-22T18:22:14.717Z"
   },
   {
    "duration": 25,
    "start_time": "2021-11-22T18:22:28.172Z"
   },
   {
    "duration": 288,
    "start_time": "2021-11-22T18:23:08.016Z"
   },
   {
    "duration": 260,
    "start_time": "2021-11-22T18:23:18.929Z"
   },
   {
    "duration": 21,
    "start_time": "2021-11-22T18:23:28.718Z"
   },
   {
    "duration": 93,
    "start_time": "2021-11-22T18:50:10.629Z"
   },
   {
    "duration": 77,
    "start_time": "2021-11-22T18:50:15.719Z"
   },
   {
    "duration": 22,
    "start_time": "2021-11-22T18:50:19.703Z"
   },
   {
    "duration": 23,
    "start_time": "2021-11-22T18:51:39.555Z"
   },
   {
    "duration": 25,
    "start_time": "2021-11-22T18:53:35.953Z"
   },
   {
    "duration": 22,
    "start_time": "2021-11-22T18:56:08.128Z"
   },
   {
    "duration": 22,
    "start_time": "2021-11-22T18:56:18.418Z"
   },
   {
    "duration": 305,
    "start_time": "2021-11-22T19:21:19.919Z"
   },
   {
    "duration": 21,
    "start_time": "2021-11-22T19:22:04.991Z"
   },
   {
    "duration": 22,
    "start_time": "2021-11-22T19:26:36.324Z"
   },
   {
    "duration": 21,
    "start_time": "2021-11-22T19:26:43.579Z"
   },
   {
    "duration": 520,
    "start_time": "2021-11-23T14:58:46.349Z"
   },
   {
    "duration": 795,
    "start_time": "2021-11-23T14:58:56.987Z"
   },
   {
    "duration": 88,
    "start_time": "2021-11-23T14:58:57.786Z"
   },
   {
    "duration": 43,
    "start_time": "2021-11-23T14:58:57.878Z"
   },
   {
    "duration": 15,
    "start_time": "2021-11-23T14:58:57.924Z"
   },
   {
    "duration": 7,
    "start_time": "2021-11-23T14:58:57.941Z"
   },
   {
    "duration": 10,
    "start_time": "2021-11-23T14:58:57.983Z"
   },
   {
    "duration": 3,
    "start_time": "2021-11-23T14:58:57.995Z"
   },
   {
    "duration": 12,
    "start_time": "2021-11-23T14:58:58.001Z"
   },
   {
    "duration": 7,
    "start_time": "2021-11-23T14:58:58.017Z"
   },
   {
    "duration": 60,
    "start_time": "2021-11-23T14:58:58.028Z"
   },
   {
    "duration": 20,
    "start_time": "2021-11-23T14:58:58.090Z"
   },
   {
    "duration": 15,
    "start_time": "2021-11-23T14:58:58.112Z"
   },
   {
    "duration": 73,
    "start_time": "2021-11-23T14:58:58.129Z"
   },
   {
    "duration": 24,
    "start_time": "2021-11-23T14:58:58.204Z"
   },
   {
    "duration": 52,
    "start_time": "2021-11-23T14:58:58.231Z"
   },
   {
    "duration": 15,
    "start_time": "2021-11-23T14:58:58.285Z"
   },
   {
    "duration": 40,
    "start_time": "2021-11-23T14:58:58.302Z"
   },
   {
    "duration": 9,
    "start_time": "2021-11-23T14:58:58.344Z"
   },
   {
    "duration": 11,
    "start_time": "2021-11-23T14:58:58.383Z"
   },
   {
    "duration": 6,
    "start_time": "2021-11-23T14:58:58.397Z"
   },
   {
    "duration": 7,
    "start_time": "2021-11-23T14:58:58.405Z"
   },
   {
    "duration": 6,
    "start_time": "2021-11-23T14:58:58.415Z"
   },
   {
    "duration": 3,
    "start_time": "2021-11-23T14:58:58.427Z"
   },
   {
    "duration": 4,
    "start_time": "2021-11-23T14:58:58.434Z"
   },
   {
    "duration": 6,
    "start_time": "2021-11-23T14:58:58.440Z"
   },
   {
    "duration": 3,
    "start_time": "2021-11-23T14:58:58.483Z"
   },
   {
    "duration": 18,
    "start_time": "2021-11-23T14:58:58.489Z"
   },
   {
    "duration": 14,
    "start_time": "2021-11-23T14:58:58.509Z"
   },
   {
    "duration": 7,
    "start_time": "2021-11-23T14:58:58.525Z"
   },
   {
    "duration": 10,
    "start_time": "2021-11-23T14:58:58.535Z"
   },
   {
    "duration": 8,
    "start_time": "2021-11-23T14:58:58.548Z"
   },
   {
    "duration": 12,
    "start_time": "2021-11-23T14:58:58.558Z"
   },
   {
    "duration": 6,
    "start_time": "2021-11-23T14:58:58.573Z"
   },
   {
    "duration": 11,
    "start_time": "2021-11-23T14:58:58.583Z"
   },
   {
    "duration": 8,
    "start_time": "2021-11-23T14:58:58.597Z"
   },
   {
    "duration": 5,
    "start_time": "2021-11-23T14:58:58.608Z"
   },
   {
    "duration": 4,
    "start_time": "2021-11-23T14:58:58.615Z"
   },
   {
    "duration": 7,
    "start_time": "2021-11-23T14:58:58.622Z"
   },
   {
    "duration": 4,
    "start_time": "2021-11-23T14:58:58.631Z"
   },
   {
    "duration": 4,
    "start_time": "2021-11-23T14:58:58.638Z"
   },
   {
    "duration": 36,
    "start_time": "2021-11-23T14:58:58.645Z"
   },
   {
    "duration": 6,
    "start_time": "2021-11-23T14:58:58.684Z"
   },
   {
    "duration": 7,
    "start_time": "2021-11-23T14:58:58.692Z"
   },
   {
    "duration": 6,
    "start_time": "2021-11-23T14:58:58.701Z"
   },
   {
    "duration": 8,
    "start_time": "2021-11-23T14:58:58.709Z"
   },
   {
    "duration": 6,
    "start_time": "2021-11-23T14:58:58.719Z"
   },
   {
    "duration": 9,
    "start_time": "2021-11-23T14:58:58.728Z"
   },
   {
    "duration": 42,
    "start_time": "2021-11-23T14:58:58.739Z"
   },
   {
    "duration": 6,
    "start_time": "2021-11-23T14:58:58.783Z"
   },
   {
    "duration": 17,
    "start_time": "2021-11-23T14:58:58.791Z"
   },
   {
    "duration": 29,
    "start_time": "2021-11-23T14:58:58.810Z"
   },
   {
    "duration": 58,
    "start_time": "2021-11-23T14:58:58.842Z"
   },
   {
    "duration": 22,
    "start_time": "2021-11-23T14:58:58.903Z"
   },
   {
    "duration": 24,
    "start_time": "2021-11-23T14:58:58.928Z"
   },
   {
    "duration": 28,
    "start_time": "2021-11-23T14:58:58.954Z"
   },
   {
    "duration": 12,
    "start_time": "2021-11-23T14:58:58.985Z"
   },
   {
    "duration": 5,
    "start_time": "2021-11-23T14:58:58.999Z"
   },
   {
    "duration": 5014,
    "start_time": "2021-11-23T14:58:59.007Z"
   },
   {
    "duration": 15,
    "start_time": "2021-11-23T14:59:04.024Z"
   },
   {
    "duration": 12,
    "start_time": "2021-11-23T14:59:04.042Z"
   },
   {
    "duration": 4,
    "start_time": "2021-11-23T14:59:04.083Z"
   },
   {
    "duration": 6,
    "start_time": "2021-11-23T14:59:04.090Z"
   },
   {
    "duration": 5,
    "start_time": "2021-11-23T14:59:04.099Z"
   },
   {
    "duration": 6,
    "start_time": "2021-11-23T14:59:04.107Z"
   },
   {
    "duration": 8,
    "start_time": "2021-11-23T14:59:04.115Z"
   },
   {
    "duration": 6,
    "start_time": "2021-11-23T14:59:04.125Z"
   },
   {
    "duration": 5,
    "start_time": "2021-11-23T14:59:04.134Z"
   },
   {
    "duration": 3,
    "start_time": "2021-11-23T14:59:04.185Z"
   },
   {
    "duration": 6,
    "start_time": "2021-11-23T14:59:04.191Z"
   },
   {
    "duration": 8,
    "start_time": "2021-11-23T14:59:04.199Z"
   },
   {
    "duration": 6,
    "start_time": "2021-11-23T14:59:04.210Z"
   },
   {
    "duration": 10,
    "start_time": "2021-11-23T14:59:04.219Z"
   },
   {
    "duration": 17,
    "start_time": "2021-11-23T14:59:04.232Z"
   },
   {
    "duration": 31,
    "start_time": "2021-11-23T14:59:04.252Z"
   },
   {
    "duration": 8,
    "start_time": "2021-11-23T14:59:04.285Z"
   },
   {
    "duration": 8,
    "start_time": "2021-11-23T14:59:04.295Z"
   },
   {
    "duration": 12,
    "start_time": "2021-11-23T14:59:04.306Z"
   },
   {
    "duration": 26,
    "start_time": "2021-11-23T14:59:04.321Z"
   },
   {
    "duration": 10,
    "start_time": "2021-11-23T14:59:04.350Z"
   },
   {
    "duration": 40,
    "start_time": "2021-11-23T14:59:04.362Z"
   },
   {
    "duration": 9,
    "start_time": "2021-11-23T14:59:04.405Z"
   },
   {
    "duration": 68,
    "start_time": "2021-11-23T14:59:04.416Z"
   },
   {
    "duration": 25,
    "start_time": "2021-11-23T14:59:04.486Z"
   },
   {
    "duration": 35,
    "start_time": "2021-11-23T14:59:04.514Z"
   },
   {
    "duration": 56,
    "start_time": "2021-11-23T14:59:04.551Z"
   },
   {
    "duration": 41,
    "start_time": "2021-11-23T14:59:04.610Z"
   },
   {
    "duration": 69,
    "start_time": "2021-11-23T14:59:04.654Z"
   },
   {
    "duration": 10,
    "start_time": "2021-11-23T15:01:48.844Z"
   },
   {
    "duration": 30,
    "start_time": "2021-11-23T15:02:31.543Z"
   },
   {
    "duration": 23,
    "start_time": "2021-11-23T15:02:48.571Z"
   },
   {
    "duration": 21,
    "start_time": "2021-11-23T15:03:21.116Z"
   },
   {
    "duration": 20,
    "start_time": "2021-11-23T15:03:38.164Z"
   },
   {
    "duration": 8,
    "start_time": "2021-11-23T15:03:57.014Z"
   },
   {
    "duration": 10,
    "start_time": "2021-11-23T15:04:11.694Z"
   },
   {
    "duration": 812,
    "start_time": "2021-11-23T15:04:53.550Z"
   },
   {
    "duration": 63,
    "start_time": "2021-11-23T15:04:54.365Z"
   },
   {
    "duration": 30,
    "start_time": "2021-11-23T15:04:54.431Z"
   },
   {
    "duration": 30,
    "start_time": "2021-11-23T15:04:54.464Z"
   },
   {
    "duration": 7,
    "start_time": "2021-11-23T15:04:54.496Z"
   },
   {
    "duration": 12,
    "start_time": "2021-11-23T15:04:54.506Z"
   },
   {
    "duration": 16,
    "start_time": "2021-11-23T15:04:54.520Z"
   },
   {
    "duration": 59,
    "start_time": "2021-11-23T15:04:54.540Z"
   },
   {
    "duration": 21,
    "start_time": "2021-11-23T15:04:54.603Z"
   },
   {
    "duration": 20,
    "start_time": "2021-11-23T15:04:54.627Z"
   },
   {
    "duration": 54,
    "start_time": "2021-11-23T15:04:54.650Z"
   },
   {
    "duration": 10,
    "start_time": "2021-11-23T15:04:54.707Z"
   },
   {
    "duration": 13,
    "start_time": "2021-11-23T15:04:54.720Z"
   },
   {
    "duration": 62,
    "start_time": "2021-11-23T15:04:54.736Z"
   },
   {
    "duration": 19,
    "start_time": "2021-11-23T15:04:54.800Z"
   },
   {
    "duration": 15,
    "start_time": "2021-11-23T15:04:54.822Z"
   },
   {
    "duration": 73,
    "start_time": "2021-11-23T15:04:54.839Z"
   },
   {
    "duration": 25,
    "start_time": "2021-11-23T15:04:54.914Z"
   },
   {
    "duration": 54,
    "start_time": "2021-11-23T15:04:54.941Z"
   },
   {
    "duration": 18,
    "start_time": "2021-11-23T15:04:54.998Z"
   },
   {
    "duration": 64,
    "start_time": "2021-11-23T15:04:55.018Z"
   },
   {
    "duration": 12,
    "start_time": "2021-11-23T15:04:55.084Z"
   },
   {
    "duration": 13,
    "start_time": "2021-11-23T15:04:55.104Z"
   },
   {
    "duration": 3,
    "start_time": "2021-11-23T15:04:55.122Z"
   },
   {
    "duration": 9,
    "start_time": "2021-11-23T15:04:55.128Z"
   },
   {
    "duration": 5,
    "start_time": "2021-11-23T15:04:55.140Z"
   },
   {
    "duration": 4,
    "start_time": "2021-11-23T15:04:55.182Z"
   },
   {
    "duration": 8,
    "start_time": "2021-11-23T15:04:55.189Z"
   },
   {
    "duration": 8,
    "start_time": "2021-11-23T15:04:55.200Z"
   },
   {
    "duration": 8,
    "start_time": "2021-11-23T15:04:55.211Z"
   },
   {
    "duration": 7,
    "start_time": "2021-11-23T15:04:55.221Z"
   },
   {
    "duration": 6,
    "start_time": "2021-11-23T15:04:55.231Z"
   },
   {
    "duration": 6,
    "start_time": "2021-11-23T15:04:55.239Z"
   },
   {
    "duration": 3,
    "start_time": "2021-11-23T15:04:55.283Z"
   },
   {
    "duration": 7,
    "start_time": "2021-11-23T15:04:55.288Z"
   },
   {
    "duration": 6,
    "start_time": "2021-11-23T15:04:55.298Z"
   },
   {
    "duration": 20,
    "start_time": "2021-11-23T15:04:55.306Z"
   },
   {
    "duration": 19,
    "start_time": "2021-11-23T15:04:55.329Z"
   },
   {
    "duration": 20,
    "start_time": "2021-11-23T15:04:55.350Z"
   },
   {
    "duration": 7,
    "start_time": "2021-11-23T15:04:55.372Z"
   },
   {
    "duration": 9,
    "start_time": "2021-11-23T15:04:55.382Z"
   },
   {
    "duration": 18,
    "start_time": "2021-11-23T15:04:55.393Z"
   },
   {
    "duration": 12,
    "start_time": "2021-11-23T15:04:55.414Z"
   },
   {
    "duration": 6,
    "start_time": "2021-11-23T15:04:55.429Z"
   },
   {
    "duration": 6,
    "start_time": "2021-11-23T15:04:55.438Z"
   },
   {
    "duration": 6,
    "start_time": "2021-11-23T15:04:55.447Z"
   },
   {
    "duration": 6,
    "start_time": "2021-11-23T15:04:55.456Z"
   },
   {
    "duration": 21,
    "start_time": "2021-11-23T15:04:55.465Z"
   },
   {
    "duration": 6,
    "start_time": "2021-11-23T15:04:55.488Z"
   },
   {
    "duration": 13,
    "start_time": "2021-11-23T15:04:55.496Z"
   },
   {
    "duration": 8,
    "start_time": "2021-11-23T15:04:55.511Z"
   },
   {
    "duration": 13,
    "start_time": "2021-11-23T15:04:55.522Z"
   },
   {
    "duration": 7,
    "start_time": "2021-11-23T15:04:55.537Z"
   },
   {
    "duration": 47,
    "start_time": "2021-11-23T15:04:55.546Z"
   },
   {
    "duration": 28,
    "start_time": "2021-11-23T15:04:55.596Z"
   },
   {
    "duration": 30,
    "start_time": "2021-11-23T15:04:55.626Z"
   },
   {
    "duration": 45,
    "start_time": "2021-11-23T15:04:55.658Z"
   },
   {
    "duration": 25,
    "start_time": "2021-11-23T15:04:55.706Z"
   },
   {
    "duration": 10,
    "start_time": "2021-11-23T15:04:55.733Z"
   },
   {
    "duration": 40,
    "start_time": "2021-11-23T15:04:55.746Z"
   },
   {
    "duration": 4,
    "start_time": "2021-11-23T15:04:55.789Z"
   },
   {
    "duration": 4774,
    "start_time": "2021-11-23T15:04:55.795Z"
   },
   {
    "duration": 24,
    "start_time": "2021-11-23T15:05:00.572Z"
   },
   {
    "duration": 14,
    "start_time": "2021-11-23T15:05:00.599Z"
   },
   {
    "duration": 29,
    "start_time": "2021-11-23T15:05:00.616Z"
   },
   {
    "duration": 15,
    "start_time": "2021-11-23T15:05:00.647Z"
   },
   {
    "duration": 30,
    "start_time": "2021-11-23T15:05:00.665Z"
   },
   {
    "duration": 7,
    "start_time": "2021-11-23T15:05:00.703Z"
   },
   {
    "duration": 21,
    "start_time": "2021-11-23T15:05:00.713Z"
   },
   {
    "duration": 23,
    "start_time": "2021-11-23T15:05:00.737Z"
   },
   {
    "duration": 13,
    "start_time": "2021-11-23T15:05:00.763Z"
   },
   {
    "duration": 34,
    "start_time": "2021-11-23T15:05:00.779Z"
   },
   {
    "duration": 31,
    "start_time": "2021-11-23T15:05:00.816Z"
   },
   {
    "duration": 23,
    "start_time": "2021-11-23T15:05:00.850Z"
   },
   {
    "duration": 40,
    "start_time": "2021-11-23T15:05:00.876Z"
   },
   {
    "duration": 38,
    "start_time": "2021-11-23T15:05:00.919Z"
   },
   {
    "duration": 41,
    "start_time": "2021-11-23T15:05:00.960Z"
   },
   {
    "duration": 19,
    "start_time": "2021-11-23T15:05:01.003Z"
   },
   {
    "duration": 29,
    "start_time": "2021-11-23T15:05:01.025Z"
   },
   {
    "duration": 11,
    "start_time": "2021-11-23T15:05:01.056Z"
   },
   {
    "duration": 9,
    "start_time": "2021-11-23T15:05:01.069Z"
   },
   {
    "duration": 41,
    "start_time": "2021-11-23T15:05:01.081Z"
   },
   {
    "duration": 35,
    "start_time": "2021-11-23T15:05:01.124Z"
   },
   {
    "duration": 44,
    "start_time": "2021-11-23T15:05:01.162Z"
   },
   {
    "duration": 9,
    "start_time": "2021-11-23T15:05:01.209Z"
   },
   {
    "duration": 63,
    "start_time": "2021-11-23T15:05:01.220Z"
   },
   {
    "duration": 36,
    "start_time": "2021-11-23T15:05:01.286Z"
   },
   {
    "duration": 52,
    "start_time": "2021-11-23T15:05:01.324Z"
   },
   {
    "duration": 33,
    "start_time": "2021-11-23T15:05:01.381Z"
   },
   {
    "duration": 30,
    "start_time": "2021-11-23T15:05:01.417Z"
   },
   {
    "duration": 59,
    "start_time": "2021-11-23T15:05:01.450Z"
   },
   {
    "duration": 788,
    "start_time": "2021-11-23T15:52:55.502Z"
   },
   {
    "duration": 66,
    "start_time": "2021-11-23T15:52:56.292Z"
   },
   {
    "duration": 38,
    "start_time": "2021-11-23T15:52:56.361Z"
   },
   {
    "duration": 18,
    "start_time": "2021-11-23T15:52:56.402Z"
   },
   {
    "duration": 7,
    "start_time": "2021-11-23T15:52:56.423Z"
   },
   {
    "duration": 48,
    "start_time": "2021-11-23T15:52:56.434Z"
   },
   {
    "duration": 10,
    "start_time": "2021-11-23T15:52:56.485Z"
   },
   {
    "duration": 21,
    "start_time": "2021-11-23T15:52:56.499Z"
   },
   {
    "duration": 21,
    "start_time": "2021-11-23T15:52:56.523Z"
   },
   {
    "duration": 65,
    "start_time": "2021-11-23T15:52:56.546Z"
   },
   {
    "duration": 35,
    "start_time": "2021-11-23T15:52:56.615Z"
   },
   {
    "duration": 36,
    "start_time": "2021-11-23T15:52:56.653Z"
   },
   {
    "duration": 12,
    "start_time": "2021-11-23T15:52:56.691Z"
   },
   {
    "duration": 25,
    "start_time": "2021-11-23T15:52:56.705Z"
   },
   {
    "duration": 57,
    "start_time": "2021-11-23T15:52:56.732Z"
   },
   {
    "duration": 21,
    "start_time": "2021-11-23T15:52:56.791Z"
   },
   {
    "duration": 67,
    "start_time": "2021-11-23T15:52:56.815Z"
   },
   {
    "duration": 32,
    "start_time": "2021-11-23T15:52:56.885Z"
   },
   {
    "duration": 74,
    "start_time": "2021-11-23T15:52:56.920Z"
   },
   {
    "duration": 21,
    "start_time": "2021-11-23T15:52:56.997Z"
   },
   {
    "duration": 40,
    "start_time": "2021-11-23T15:52:57.021Z"
   },
   {
    "duration": 11,
    "start_time": "2021-11-23T15:52:57.082Z"
   },
   {
    "duration": 13,
    "start_time": "2021-11-23T15:52:57.102Z"
   },
   {
    "duration": 7,
    "start_time": "2021-11-23T15:52:57.121Z"
   },
   {
    "duration": 10,
    "start_time": "2021-11-23T15:52:57.131Z"
   },
   {
    "duration": 10,
    "start_time": "2021-11-23T15:52:57.143Z"
   },
   {
    "duration": 3,
    "start_time": "2021-11-23T15:52:57.183Z"
   },
   {
    "duration": 9,
    "start_time": "2021-11-23T15:52:57.188Z"
   },
   {
    "duration": 6,
    "start_time": "2021-11-23T15:52:57.200Z"
   },
   {
    "duration": 8,
    "start_time": "2021-11-23T15:52:57.208Z"
   },
   {
    "duration": 6,
    "start_time": "2021-11-23T15:52:57.218Z"
   },
   {
    "duration": 14,
    "start_time": "2021-11-23T15:52:57.226Z"
   },
   {
    "duration": 7,
    "start_time": "2021-11-23T15:52:57.243Z"
   },
   {
    "duration": 30,
    "start_time": "2021-11-23T15:52:57.252Z"
   },
   {
    "duration": 3,
    "start_time": "2021-11-23T15:52:57.284Z"
   },
   {
    "duration": 8,
    "start_time": "2021-11-23T15:52:57.290Z"
   },
   {
    "duration": 8,
    "start_time": "2021-11-23T15:52:57.300Z"
   },
   {
    "duration": 12,
    "start_time": "2021-11-23T15:52:57.310Z"
   },
   {
    "duration": 10,
    "start_time": "2021-11-23T15:52:57.324Z"
   },
   {
    "duration": 7,
    "start_time": "2021-11-23T15:52:57.336Z"
   },
   {
    "duration": 9,
    "start_time": "2021-11-23T15:52:57.346Z"
   },
   {
    "duration": 17,
    "start_time": "2021-11-23T15:52:57.357Z"
   },
   {
    "duration": 3,
    "start_time": "2021-11-23T15:52:57.382Z"
   },
   {
    "duration": 9,
    "start_time": "2021-11-23T15:52:57.387Z"
   },
   {
    "duration": 10,
    "start_time": "2021-11-23T15:52:57.398Z"
   },
   {
    "duration": 8,
    "start_time": "2021-11-23T15:52:57.410Z"
   },
   {
    "duration": 9,
    "start_time": "2021-11-23T15:52:57.420Z"
   },
   {
    "duration": 8,
    "start_time": "2021-11-23T15:52:57.432Z"
   },
   {
    "duration": 12,
    "start_time": "2021-11-23T15:52:57.442Z"
   },
   {
    "duration": 12,
    "start_time": "2021-11-23T15:52:57.456Z"
   },
   {
    "duration": 13,
    "start_time": "2021-11-23T15:52:57.470Z"
   },
   {
    "duration": 16,
    "start_time": "2021-11-23T15:52:57.486Z"
   },
   {
    "duration": 13,
    "start_time": "2021-11-23T15:52:57.505Z"
   },
   {
    "duration": 22,
    "start_time": "2021-11-23T15:52:57.521Z"
   },
   {
    "duration": 47,
    "start_time": "2021-11-23T15:52:57.546Z"
   },
   {
    "duration": 32,
    "start_time": "2021-11-23T15:52:57.596Z"
   },
   {
    "duration": 52,
    "start_time": "2021-11-23T15:52:57.631Z"
   },
   {
    "duration": 26,
    "start_time": "2021-11-23T15:52:57.686Z"
   },
   {
    "duration": 9,
    "start_time": "2021-11-23T15:52:57.715Z"
   },
   {
    "duration": 14,
    "start_time": "2021-11-23T15:52:57.726Z"
   },
   {
    "duration": 10,
    "start_time": "2021-11-23T15:52:57.742Z"
   },
   {
    "duration": 4849,
    "start_time": "2021-11-23T15:52:57.754Z"
   },
   {
    "duration": 15,
    "start_time": "2021-11-23T15:53:02.606Z"
   },
   {
    "duration": 11,
    "start_time": "2021-11-23T15:53:02.624Z"
   },
   {
    "duration": 16,
    "start_time": "2021-11-23T15:53:02.638Z"
   },
   {
    "duration": 26,
    "start_time": "2021-11-23T15:53:02.656Z"
   },
   {
    "duration": 13,
    "start_time": "2021-11-23T15:53:02.685Z"
   },
   {
    "duration": 3,
    "start_time": "2021-11-23T15:53:02.707Z"
   },
   {
    "duration": 9,
    "start_time": "2021-11-23T15:53:02.713Z"
   },
   {
    "duration": 15,
    "start_time": "2021-11-23T15:53:02.724Z"
   },
   {
    "duration": 10,
    "start_time": "2021-11-23T15:53:02.741Z"
   },
   {
    "duration": 13,
    "start_time": "2021-11-23T15:53:02.754Z"
   },
   {
    "duration": 16,
    "start_time": "2021-11-23T15:53:02.770Z"
   },
   {
    "duration": 11,
    "start_time": "2021-11-23T15:53:02.789Z"
   },
   {
    "duration": 6,
    "start_time": "2021-11-23T15:53:02.802Z"
   },
   {
    "duration": 16,
    "start_time": "2021-11-23T15:53:02.810Z"
   },
   {
    "duration": 24,
    "start_time": "2021-11-23T15:53:02.828Z"
   },
   {
    "duration": 13,
    "start_time": "2021-11-23T15:53:02.855Z"
   },
   {
    "duration": 13,
    "start_time": "2021-11-23T15:53:02.871Z"
   },
   {
    "duration": 17,
    "start_time": "2021-11-23T15:53:02.887Z"
   },
   {
    "duration": 12,
    "start_time": "2021-11-23T15:53:02.907Z"
   },
   {
    "duration": 20,
    "start_time": "2021-11-23T15:53:02.921Z"
   },
   {
    "duration": 17,
    "start_time": "2021-11-23T15:53:02.944Z"
   },
   {
    "duration": 28,
    "start_time": "2021-11-23T15:53:02.963Z"
   },
   {
    "duration": 17,
    "start_time": "2021-11-23T15:53:02.994Z"
   },
   {
    "duration": 38,
    "start_time": "2021-11-23T15:53:03.014Z"
   },
   {
    "duration": 38,
    "start_time": "2021-11-23T15:53:03.054Z"
   },
   {
    "duration": 37,
    "start_time": "2021-11-23T15:53:03.094Z"
   },
   {
    "duration": 51,
    "start_time": "2021-11-23T15:53:03.133Z"
   },
   {
    "duration": 29,
    "start_time": "2021-11-23T15:53:03.187Z"
   },
   {
    "duration": 28,
    "start_time": "2021-11-23T15:53:03.219Z"
   },
   {
    "duration": 812,
    "start_time": "2021-11-23T15:57:10.547Z"
   },
   {
    "duration": 261,
    "start_time": "2021-11-23T15:57:11.361Z"
   },
   {
    "duration": 30,
    "start_time": "2021-11-23T15:57:11.626Z"
   },
   {
    "duration": 32,
    "start_time": "2021-11-23T15:57:11.659Z"
   },
   {
    "duration": 7,
    "start_time": "2021-11-23T15:57:11.693Z"
   },
   {
    "duration": 10,
    "start_time": "2021-11-23T15:57:11.703Z"
   },
   {
    "duration": 8,
    "start_time": "2021-11-23T15:57:11.715Z"
   },
   {
    "duration": 66,
    "start_time": "2021-11-23T15:57:11.726Z"
   },
   {
    "duration": 25,
    "start_time": "2021-11-23T15:57:11.795Z"
   },
   {
    "duration": 60,
    "start_time": "2021-11-23T15:57:11.823Z"
   },
   {
    "duration": 26,
    "start_time": "2021-11-23T15:57:11.886Z"
   },
   {
    "duration": 7,
    "start_time": "2021-11-23T15:57:11.914Z"
   },
   {
    "duration": 9,
    "start_time": "2021-11-23T15:57:11.923Z"
   },
   {
    "duration": 70,
    "start_time": "2021-11-23T15:57:11.935Z"
   },
   {
    "duration": 20,
    "start_time": "2021-11-23T15:57:12.008Z"
   },
   {
    "duration": 26,
    "start_time": "2021-11-23T15:57:12.030Z"
   },
   {
    "duration": 55,
    "start_time": "2021-11-23T15:57:12.058Z"
   },
   {
    "duration": 25,
    "start_time": "2021-11-23T15:57:12.115Z"
   },
   {
    "duration": 59,
    "start_time": "2021-11-23T15:57:12.142Z"
   },
   {
    "duration": 16,
    "start_time": "2021-11-23T15:57:12.204Z"
   },
   {
    "duration": 59,
    "start_time": "2021-11-23T15:57:12.223Z"
   },
   {
    "duration": 9,
    "start_time": "2021-11-23T15:57:12.284Z"
   },
   {
    "duration": 18,
    "start_time": "2021-11-23T15:57:12.299Z"
   },
   {
    "duration": 3,
    "start_time": "2021-11-23T15:57:12.321Z"
   },
   {
    "duration": 7,
    "start_time": "2021-11-23T15:57:12.327Z"
   },
   {
    "duration": 14,
    "start_time": "2021-11-23T15:57:12.336Z"
   },
   {
    "duration": 6,
    "start_time": "2021-11-23T15:57:12.352Z"
   },
   {
    "duration": 27,
    "start_time": "2021-11-23T15:57:12.361Z"
   },
   {
    "duration": 7,
    "start_time": "2021-11-23T15:57:12.390Z"
   },
   {
    "duration": 8,
    "start_time": "2021-11-23T15:57:12.399Z"
   },
   {
    "duration": 5,
    "start_time": "2021-11-23T15:57:12.409Z"
   },
   {
    "duration": 8,
    "start_time": "2021-11-23T15:57:12.416Z"
   },
   {
    "duration": 9,
    "start_time": "2021-11-23T15:57:12.426Z"
   },
   {
    "duration": 7,
    "start_time": "2021-11-23T15:57:12.437Z"
   },
   {
    "duration": 5,
    "start_time": "2021-11-23T15:57:12.446Z"
   },
   {
    "duration": 7,
    "start_time": "2021-11-23T15:57:12.483Z"
   },
   {
    "duration": 6,
    "start_time": "2021-11-23T15:57:12.493Z"
   },
   {
    "duration": 14,
    "start_time": "2021-11-23T15:57:12.501Z"
   },
   {
    "duration": 8,
    "start_time": "2021-11-23T15:57:12.517Z"
   },
   {
    "duration": 5,
    "start_time": "2021-11-23T15:57:12.527Z"
   },
   {
    "duration": 6,
    "start_time": "2021-11-23T15:57:12.535Z"
   },
   {
    "duration": 5,
    "start_time": "2021-11-23T15:57:12.581Z"
   },
   {
    "duration": 5,
    "start_time": "2021-11-23T15:57:12.589Z"
   },
   {
    "duration": 6,
    "start_time": "2021-11-23T15:57:12.597Z"
   },
   {
    "duration": 6,
    "start_time": "2021-11-23T15:57:12.605Z"
   },
   {
    "duration": 7,
    "start_time": "2021-11-23T15:57:12.613Z"
   },
   {
    "duration": 7,
    "start_time": "2021-11-23T15:57:12.623Z"
   },
   {
    "duration": 11,
    "start_time": "2021-11-23T15:57:12.632Z"
   },
   {
    "duration": 4,
    "start_time": "2021-11-23T15:57:12.682Z"
   },
   {
    "duration": 6,
    "start_time": "2021-11-23T15:57:12.688Z"
   },
   {
    "duration": 6,
    "start_time": "2021-11-23T15:57:12.696Z"
   },
   {
    "duration": 11,
    "start_time": "2021-11-23T15:57:12.704Z"
   },
   {
    "duration": 9,
    "start_time": "2021-11-23T15:57:12.718Z"
   },
   {
    "duration": 57,
    "start_time": "2021-11-23T15:57:12.729Z"
   },
   {
    "duration": 27,
    "start_time": "2021-11-23T15:57:12.789Z"
   },
   {
    "duration": 30,
    "start_time": "2021-11-23T15:57:12.819Z"
   },
   {
    "duration": 51,
    "start_time": "2021-11-23T15:57:12.851Z"
   },
   {
    "duration": 25,
    "start_time": "2021-11-23T15:57:12.904Z"
   },
   {
    "duration": 10,
    "start_time": "2021-11-23T15:57:12.931Z"
   },
   {
    "duration": 44,
    "start_time": "2021-11-23T15:57:12.943Z"
   },
   {
    "duration": 6,
    "start_time": "2021-11-23T15:57:12.990Z"
   },
   {
    "duration": 5238,
    "start_time": "2021-11-23T15:57:12.999Z"
   },
   {
    "duration": 20,
    "start_time": "2021-11-23T15:57:18.240Z"
   },
   {
    "duration": 32,
    "start_time": "2021-11-23T15:57:18.263Z"
   },
   {
    "duration": 6,
    "start_time": "2021-11-23T15:57:18.297Z"
   },
   {
    "duration": 9,
    "start_time": "2021-11-23T15:57:18.305Z"
   },
   {
    "duration": 12,
    "start_time": "2021-11-23T15:57:18.318Z"
   },
   {
    "duration": 6,
    "start_time": "2021-11-23T15:57:18.339Z"
   },
   {
    "duration": 12,
    "start_time": "2021-11-23T15:57:18.347Z"
   },
   {
    "duration": 21,
    "start_time": "2021-11-23T15:57:18.362Z"
   },
   {
    "duration": 8,
    "start_time": "2021-11-23T15:57:18.386Z"
   },
   {
    "duration": 20,
    "start_time": "2021-11-23T15:57:18.397Z"
   },
   {
    "duration": 31,
    "start_time": "2021-11-23T15:57:18.420Z"
   },
   {
    "duration": 29,
    "start_time": "2021-11-23T15:57:18.454Z"
   },
   {
    "duration": 19,
    "start_time": "2021-11-23T15:57:18.486Z"
   },
   {
    "duration": 19,
    "start_time": "2021-11-23T15:57:18.508Z"
   },
   {
    "duration": 30,
    "start_time": "2021-11-23T15:57:18.529Z"
   },
   {
    "duration": 5,
    "start_time": "2021-11-23T15:57:18.562Z"
   },
   {
    "duration": 8,
    "start_time": "2021-11-23T15:57:18.570Z"
   },
   {
    "duration": 18,
    "start_time": "2021-11-23T15:57:18.580Z"
   },
   {
    "duration": 7,
    "start_time": "2021-11-23T15:57:18.601Z"
   },
   {
    "duration": 15,
    "start_time": "2021-11-23T15:57:18.610Z"
   },
   {
    "duration": 14,
    "start_time": "2021-11-23T15:57:18.627Z"
   },
   {
    "duration": 31,
    "start_time": "2021-11-23T15:57:18.644Z"
   },
   {
    "duration": 8,
    "start_time": "2021-11-23T15:57:18.678Z"
   },
   {
    "duration": 42,
    "start_time": "2021-11-23T15:57:18.688Z"
   },
   {
    "duration": 49,
    "start_time": "2021-11-23T15:57:18.733Z"
   },
   {
    "duration": 37,
    "start_time": "2021-11-23T15:57:18.784Z"
   },
   {
    "duration": 30,
    "start_time": "2021-11-23T15:57:18.823Z"
   },
   {
    "duration": 49,
    "start_time": "2021-11-23T15:57:18.855Z"
   },
   {
    "duration": 28,
    "start_time": "2021-11-23T15:57:18.906Z"
   },
   {
    "duration": 23,
    "start_time": "2021-11-23T17:44:19.265Z"
   },
   {
    "duration": 22,
    "start_time": "2021-11-23T17:58:36.964Z"
   },
   {
    "duration": 24,
    "start_time": "2021-11-23T17:58:49.633Z"
   },
   {
    "duration": 21,
    "start_time": "2021-11-23T17:58:57.844Z"
   },
   {
    "duration": 25,
    "start_time": "2021-11-23T17:59:38.871Z"
   },
   {
    "duration": 22,
    "start_time": "2021-11-23T17:59:54.391Z"
   },
   {
    "duration": 25,
    "start_time": "2021-11-23T18:00:14.055Z"
   },
   {
    "duration": 109,
    "start_time": "2021-11-23T18:00:29.018Z"
   },
   {
    "duration": 106,
    "start_time": "2021-11-23T18:00:43.110Z"
   },
   {
    "duration": 28,
    "start_time": "2021-11-23T18:00:47.735Z"
   },
   {
    "duration": 24,
    "start_time": "2021-11-23T18:01:07.818Z"
   },
   {
    "duration": 24,
    "start_time": "2021-11-23T18:01:24.611Z"
   },
   {
    "duration": 9,
    "start_time": "2021-11-23T18:02:49.145Z"
   },
   {
    "duration": 24,
    "start_time": "2021-11-23T18:03:13.333Z"
   },
   {
    "duration": 28,
    "start_time": "2021-11-23T18:29:16.375Z"
   },
   {
    "duration": 34,
    "start_time": "2021-11-23T18:29:49.841Z"
   },
   {
    "duration": 879,
    "start_time": "2021-11-23T18:30:02.361Z"
   },
   {
    "duration": 297,
    "start_time": "2021-11-23T18:30:03.243Z"
   },
   {
    "duration": 29,
    "start_time": "2021-11-23T18:30:03.543Z"
   },
   {
    "duration": 20,
    "start_time": "2021-11-23T18:30:03.575Z"
   },
   {
    "duration": 12,
    "start_time": "2021-11-23T18:30:03.598Z"
   },
   {
    "duration": 9,
    "start_time": "2021-11-23T18:30:03.612Z"
   },
   {
    "duration": 8,
    "start_time": "2021-11-23T18:30:03.624Z"
   },
   {
    "duration": 63,
    "start_time": "2021-11-23T18:30:03.636Z"
   },
   {
    "duration": 24,
    "start_time": "2021-11-23T18:30:03.703Z"
   },
   {
    "duration": 58,
    "start_time": "2021-11-23T18:30:03.730Z"
   },
   {
    "duration": 23,
    "start_time": "2021-11-23T18:30:03.791Z"
   },
   {
    "duration": 11,
    "start_time": "2021-11-23T18:30:03.817Z"
   },
   {
    "duration": 52,
    "start_time": "2021-11-23T18:30:03.831Z"
   },
   {
    "duration": 27,
    "start_time": "2021-11-23T18:30:03.886Z"
   },
   {
    "duration": 22,
    "start_time": "2021-11-23T18:30:03.916Z"
   },
   {
    "duration": 60,
    "start_time": "2021-11-23T18:30:03.941Z"
   },
   {
    "duration": 44,
    "start_time": "2021-11-23T18:30:04.004Z"
   },
   {
    "duration": 43,
    "start_time": "2021-11-23T18:30:04.050Z"
   },
   {
    "duration": 33,
    "start_time": "2021-11-23T18:30:04.096Z"
   },
   {
    "duration": 16,
    "start_time": "2021-11-23T18:30:04.132Z"
   },
   {
    "duration": 71,
    "start_time": "2021-11-23T18:30:04.150Z"
   },
   {
    "duration": 9,
    "start_time": "2021-11-23T18:30:04.223Z"
   },
   {
    "duration": 16,
    "start_time": "2021-11-23T18:30:04.239Z"
   },
   {
    "duration": 3,
    "start_time": "2021-11-23T18:30:04.284Z"
   },
   {
    "duration": 7,
    "start_time": "2021-11-23T18:30:04.289Z"
   },
   {
    "duration": 6,
    "start_time": "2021-11-23T18:30:04.298Z"
   },
   {
    "duration": 8,
    "start_time": "2021-11-23T18:30:04.307Z"
   },
   {
    "duration": 6,
    "start_time": "2021-11-23T18:30:04.317Z"
   },
   {
    "duration": 9,
    "start_time": "2021-11-23T18:30:04.325Z"
   },
   {
    "duration": 10,
    "start_time": "2021-11-23T18:30:04.336Z"
   },
   {
    "duration": 33,
    "start_time": "2021-11-23T18:30:04.349Z"
   },
   {
    "duration": 6,
    "start_time": "2021-11-23T18:30:04.385Z"
   },
   {
    "duration": 6,
    "start_time": "2021-11-23T18:30:04.393Z"
   },
   {
    "duration": 11,
    "start_time": "2021-11-23T18:30:04.402Z"
   },
   {
    "duration": 30,
    "start_time": "2021-11-23T18:30:04.415Z"
   },
   {
    "duration": 6,
    "start_time": "2021-11-23T18:30:04.447Z"
   },
   {
    "duration": 8,
    "start_time": "2021-11-23T18:30:04.455Z"
   },
   {
    "duration": 16,
    "start_time": "2021-11-23T18:30:04.466Z"
   },
   {
    "duration": 11,
    "start_time": "2021-11-23T18:30:04.485Z"
   },
   {
    "duration": 10,
    "start_time": "2021-11-23T18:30:04.498Z"
   },
   {
    "duration": 6,
    "start_time": "2021-11-23T18:30:04.510Z"
   },
   {
    "duration": 7,
    "start_time": "2021-11-23T18:30:04.519Z"
   },
   {
    "duration": 9,
    "start_time": "2021-11-23T18:30:04.528Z"
   },
   {
    "duration": 5,
    "start_time": "2021-11-23T18:30:04.541Z"
   },
   {
    "duration": 4,
    "start_time": "2021-11-23T18:30:04.549Z"
   },
   {
    "duration": 4,
    "start_time": "2021-11-23T18:30:04.583Z"
   },
   {
    "duration": 6,
    "start_time": "2021-11-23T18:30:04.590Z"
   },
   {
    "duration": 6,
    "start_time": "2021-11-23T18:30:04.599Z"
   },
   {
    "duration": 6,
    "start_time": "2021-11-23T18:30:04.608Z"
   },
   {
    "duration": 7,
    "start_time": "2021-11-23T18:30:04.616Z"
   },
   {
    "duration": 5,
    "start_time": "2021-11-23T18:30:04.625Z"
   },
   {
    "duration": 50,
    "start_time": "2021-11-23T18:30:04.633Z"
   },
   {
    "duration": 5,
    "start_time": "2021-11-23T18:30:04.686Z"
   },
   {
    "duration": 18,
    "start_time": "2021-11-23T18:30:04.694Z"
   },
   {
    "duration": 30,
    "start_time": "2021-11-23T18:30:04.715Z"
   },
   {
    "duration": 59,
    "start_time": "2021-11-23T18:30:04.747Z"
   },
   {
    "duration": 23,
    "start_time": "2021-11-23T18:30:04.809Z"
   },
   {
    "duration": 49,
    "start_time": "2021-11-23T18:30:04.835Z"
   },
   {
    "duration": 11,
    "start_time": "2021-11-23T18:30:04.886Z"
   },
   {
    "duration": 12,
    "start_time": "2021-11-23T18:30:04.899Z"
   },
   {
    "duration": 6,
    "start_time": "2021-11-23T18:30:04.913Z"
   },
   {
    "duration": 4790,
    "start_time": "2021-11-23T18:30:04.921Z"
   },
   {
    "duration": 13,
    "start_time": "2021-11-23T18:30:09.714Z"
   },
   {
    "duration": 9,
    "start_time": "2021-11-23T18:30:09.730Z"
   },
   {
    "duration": 4,
    "start_time": "2021-11-23T18:30:09.742Z"
   },
   {
    "duration": 33,
    "start_time": "2021-11-23T18:30:09.748Z"
   },
   {
    "duration": 7,
    "start_time": "2021-11-23T18:30:09.784Z"
   },
   {
    "duration": 4,
    "start_time": "2021-11-23T18:30:09.799Z"
   },
   {
    "duration": 5,
    "start_time": "2021-11-23T18:30:09.806Z"
   },
   {
    "duration": 11,
    "start_time": "2021-11-23T18:30:09.813Z"
   },
   {
    "duration": 9,
    "start_time": "2021-11-23T18:30:09.826Z"
   },
   {
    "duration": 10,
    "start_time": "2021-11-23T18:30:09.838Z"
   },
   {
    "duration": 8,
    "start_time": "2021-11-23T18:30:09.850Z"
   },
   {
    "duration": 3,
    "start_time": "2021-11-23T18:30:09.882Z"
   },
   {
    "duration": 9,
    "start_time": "2021-11-23T18:30:09.887Z"
   },
   {
    "duration": 10,
    "start_time": "2021-11-23T18:30:09.898Z"
   },
   {
    "duration": 23,
    "start_time": "2021-11-23T18:30:09.910Z"
   },
   {
    "duration": 11,
    "start_time": "2021-11-23T18:30:09.936Z"
   },
   {
    "duration": 8,
    "start_time": "2021-11-23T18:30:09.949Z"
   },
   {
    "duration": 9,
    "start_time": "2021-11-23T18:30:09.959Z"
   },
   {
    "duration": 11,
    "start_time": "2021-11-23T18:30:09.970Z"
   },
   {
    "duration": 14,
    "start_time": "2021-11-23T18:30:09.984Z"
   },
   {
    "duration": 24,
    "start_time": "2021-11-23T18:30:10.000Z"
   },
   {
    "duration": 36,
    "start_time": "2021-11-23T18:30:10.027Z"
   },
   {
    "duration": 17,
    "start_time": "2021-11-23T18:30:10.065Z"
   },
   {
    "duration": 44,
    "start_time": "2021-11-23T18:30:10.085Z"
   },
   {
    "duration": 24,
    "start_time": "2021-11-23T18:30:10.132Z"
   },
   {
    "duration": 51,
    "start_time": "2021-11-23T18:30:10.159Z"
   },
   {
    "duration": 43,
    "start_time": "2021-11-23T18:30:10.213Z"
   },
   {
    "duration": 58,
    "start_time": "2021-11-23T18:30:10.259Z"
   },
   {
    "duration": 62,
    "start_time": "2021-11-23T18:30:10.320Z"
   },
   {
    "duration": 41,
    "start_time": "2021-11-23T18:31:42.858Z"
   },
   {
    "duration": 912,
    "start_time": "2021-11-23T18:31:54.960Z"
   },
   {
    "duration": 276,
    "start_time": "2021-11-23T18:31:55.874Z"
   },
   {
    "duration": 33,
    "start_time": "2021-11-23T18:31:56.153Z"
   },
   {
    "duration": 25,
    "start_time": "2021-11-23T18:31:56.189Z"
   },
   {
    "duration": 10,
    "start_time": "2021-11-23T18:31:56.217Z"
   },
   {
    "duration": 12,
    "start_time": "2021-11-23T18:31:56.231Z"
   },
   {
    "duration": 47,
    "start_time": "2021-11-23T18:31:56.246Z"
   },
   {
    "duration": 32,
    "start_time": "2021-11-23T18:31:56.298Z"
   },
   {
    "duration": 52,
    "start_time": "2021-11-23T18:31:56.334Z"
   },
   {
    "duration": 29,
    "start_time": "2021-11-23T18:31:56.389Z"
   },
   {
    "duration": 27,
    "start_time": "2021-11-23T18:31:56.421Z"
   },
   {
    "duration": 45,
    "start_time": "2021-11-23T18:31:56.451Z"
   },
   {
    "duration": 11,
    "start_time": "2021-11-23T18:31:56.501Z"
   },
   {
    "duration": 27,
    "start_time": "2021-11-23T18:31:56.515Z"
   },
   {
    "duration": 58,
    "start_time": "2021-11-23T18:31:56.545Z"
   },
   {
    "duration": 26,
    "start_time": "2021-11-23T18:31:56.606Z"
   },
   {
    "duration": 85,
    "start_time": "2021-11-23T18:31:56.636Z"
   },
   {
    "duration": 31,
    "start_time": "2021-11-23T18:31:56.724Z"
   },
   {
    "duration": 37,
    "start_time": "2021-11-23T18:31:56.789Z"
   },
   {
    "duration": 20,
    "start_time": "2021-11-23T18:31:56.828Z"
   },
   {
    "duration": 88,
    "start_time": "2021-11-23T18:31:56.851Z"
   },
   {
    "duration": 13,
    "start_time": "2021-11-23T18:31:56.942Z"
   },
   {
    "duration": 32,
    "start_time": "2021-11-23T18:31:56.965Z"
   },
   {
    "duration": 7,
    "start_time": "2021-11-23T18:31:57.002Z"
   },
   {
    "duration": 21,
    "start_time": "2021-11-23T18:31:57.012Z"
   },
   {
    "duration": 8,
    "start_time": "2021-11-23T18:31:57.036Z"
   },
   {
    "duration": 10,
    "start_time": "2021-11-23T18:31:57.047Z"
   },
   {
    "duration": 6,
    "start_time": "2021-11-23T18:31:57.059Z"
   },
   {
    "duration": 22,
    "start_time": "2021-11-23T18:31:57.068Z"
   },
   {
    "duration": 9,
    "start_time": "2021-11-23T18:31:57.094Z"
   },
   {
    "duration": 5,
    "start_time": "2021-11-23T18:31:57.106Z"
   },
   {
    "duration": 7,
    "start_time": "2021-11-23T18:31:57.115Z"
   },
   {
    "duration": 8,
    "start_time": "2021-11-23T18:31:57.125Z"
   },
   {
    "duration": 7,
    "start_time": "2021-11-23T18:31:57.136Z"
   },
   {
    "duration": 36,
    "start_time": "2021-11-23T18:31:57.146Z"
   },
   {
    "duration": 17,
    "start_time": "2021-11-23T18:31:57.197Z"
   },
   {
    "duration": 7,
    "start_time": "2021-11-23T18:31:57.217Z"
   },
   {
    "duration": 15,
    "start_time": "2021-11-23T18:31:57.227Z"
   },
   {
    "duration": 9,
    "start_time": "2021-11-23T18:31:57.245Z"
   },
   {
    "duration": 8,
    "start_time": "2021-11-23T18:31:57.257Z"
   },
   {
    "duration": 10,
    "start_time": "2021-11-23T18:31:57.269Z"
   },
   {
    "duration": 11,
    "start_time": "2021-11-23T18:31:57.292Z"
   },
   {
    "duration": 7,
    "start_time": "2021-11-23T18:31:57.306Z"
   },
   {
    "duration": 10,
    "start_time": "2021-11-23T18:31:57.316Z"
   },
   {
    "duration": 6,
    "start_time": "2021-11-23T18:31:57.329Z"
   },
   {
    "duration": 7,
    "start_time": "2021-11-23T18:31:57.339Z"
   },
   {
    "duration": 6,
    "start_time": "2021-11-23T18:31:57.349Z"
   },
   {
    "duration": 11,
    "start_time": "2021-11-23T18:31:57.386Z"
   },
   {
    "duration": 9,
    "start_time": "2021-11-23T18:31:57.403Z"
   },
   {
    "duration": 7,
    "start_time": "2021-11-23T18:31:57.415Z"
   },
   {
    "duration": 5,
    "start_time": "2021-11-23T18:31:57.425Z"
   },
   {
    "duration": 15,
    "start_time": "2021-11-23T18:31:57.433Z"
   },
   {
    "duration": 40,
    "start_time": "2021-11-23T18:31:57.451Z"
   },
   {
    "duration": 20,
    "start_time": "2021-11-23T18:31:57.495Z"
   },
   {
    "duration": 30,
    "start_time": "2021-11-23T18:31:57.518Z"
   },
   {
    "duration": 58,
    "start_time": "2021-11-23T18:31:57.550Z"
   },
   {
    "duration": 25,
    "start_time": "2021-11-23T18:31:57.611Z"
   },
   {
    "duration": 54,
    "start_time": "2021-11-23T18:31:57.639Z"
   },
   {
    "duration": 10,
    "start_time": "2021-11-23T18:31:57.696Z"
   },
   {
    "duration": 12,
    "start_time": "2021-11-23T18:31:57.709Z"
   },
   {
    "duration": 8,
    "start_time": "2021-11-23T18:31:57.724Z"
   },
   {
    "duration": 5779,
    "start_time": "2021-11-23T18:31:57.735Z"
   },
   {
    "duration": 22,
    "start_time": "2021-11-23T18:32:03.517Z"
   },
   {
    "duration": 16,
    "start_time": "2021-11-23T18:32:03.542Z"
   },
   {
    "duration": 4,
    "start_time": "2021-11-23T18:32:03.581Z"
   },
   {
    "duration": 11,
    "start_time": "2021-11-23T18:32:03.590Z"
   },
   {
    "duration": 8,
    "start_time": "2021-11-23T18:32:03.604Z"
   },
   {
    "duration": 3,
    "start_time": "2021-11-23T18:32:03.624Z"
   },
   {
    "duration": 8,
    "start_time": "2021-11-23T18:32:03.631Z"
   },
   {
    "duration": 40,
    "start_time": "2021-11-23T18:32:03.642Z"
   },
   {
    "duration": 10,
    "start_time": "2021-11-23T18:32:03.698Z"
   },
   {
    "duration": 17,
    "start_time": "2021-11-23T18:32:03.711Z"
   },
   {
    "duration": 21,
    "start_time": "2021-11-23T18:32:03.733Z"
   },
   {
    "duration": 20,
    "start_time": "2021-11-23T18:32:03.756Z"
   },
   {
    "duration": 24,
    "start_time": "2021-11-23T18:32:03.779Z"
   },
   {
    "duration": 13,
    "start_time": "2021-11-23T18:32:03.806Z"
   },
   {
    "duration": 9,
    "start_time": "2021-11-23T18:32:03.823Z"
   },
   {
    "duration": 17,
    "start_time": "2021-11-23T18:32:03.837Z"
   },
   {
    "duration": 9,
    "start_time": "2021-11-23T18:32:03.857Z"
   },
   {
    "duration": 8,
    "start_time": "2021-11-23T18:32:03.870Z"
   },
   {
    "duration": 21,
    "start_time": "2021-11-23T18:32:03.881Z"
   },
   {
    "duration": 30,
    "start_time": "2021-11-23T18:32:03.905Z"
   },
   {
    "duration": 15,
    "start_time": "2021-11-23T18:32:03.940Z"
   },
   {
    "duration": 53,
    "start_time": "2021-11-23T18:32:03.958Z"
   },
   {
    "duration": 13,
    "start_time": "2021-11-23T18:32:04.015Z"
   },
   {
    "duration": 63,
    "start_time": "2021-11-23T18:32:04.031Z"
   },
   {
    "duration": 40,
    "start_time": "2021-11-23T18:32:04.098Z"
   },
   {
    "duration": 91,
    "start_time": "2021-11-23T18:32:04.142Z"
   },
   {
    "duration": 37,
    "start_time": "2021-11-23T18:32:04.237Z"
   },
   {
    "duration": 59,
    "start_time": "2021-11-23T18:32:04.277Z"
   },
   {
    "duration": 54,
    "start_time": "2021-11-23T18:32:04.340Z"
   },
   {
    "duration": 34,
    "start_time": "2021-11-23T18:34:31.453Z"
   },
   {
    "duration": 831,
    "start_time": "2021-11-23T18:35:31.981Z"
   },
   {
    "duration": 262,
    "start_time": "2021-11-23T18:35:32.815Z"
   },
   {
    "duration": 30,
    "start_time": "2021-11-23T18:35:33.081Z"
   },
   {
    "duration": 15,
    "start_time": "2021-11-23T18:35:33.114Z"
   },
   {
    "duration": 11,
    "start_time": "2021-11-23T18:35:33.132Z"
   },
   {
    "duration": 45,
    "start_time": "2021-11-23T18:35:33.146Z"
   },
   {
    "duration": 11,
    "start_time": "2021-11-23T18:35:33.194Z"
   },
   {
    "duration": 23,
    "start_time": "2021-11-23T18:35:33.210Z"
   },
   {
    "duration": 60,
    "start_time": "2021-11-23T18:35:33.237Z"
   },
   {
    "duration": 19,
    "start_time": "2021-11-23T18:35:33.300Z"
   },
   {
    "duration": 22,
    "start_time": "2021-11-23T18:35:33.322Z"
   },
   {
    "duration": 10,
    "start_time": "2021-11-23T18:35:33.383Z"
   },
   {
    "duration": 12,
    "start_time": "2021-11-23T18:35:33.396Z"
   },
   {
    "duration": 27,
    "start_time": "2021-11-23T18:35:33.411Z"
   },
   {
    "duration": 21,
    "start_time": "2021-11-23T18:35:33.482Z"
   },
   {
    "duration": 24,
    "start_time": "2021-11-23T18:35:33.505Z"
   },
   {
    "duration": 73,
    "start_time": "2021-11-23T18:35:33.531Z"
   },
   {
    "duration": 34,
    "start_time": "2021-11-23T18:35:33.607Z"
   },
   {
    "duration": 49,
    "start_time": "2021-11-23T18:35:33.643Z"
   },
   {
    "duration": 34,
    "start_time": "2021-11-23T18:35:33.694Z"
   },
   {
    "duration": 16,
    "start_time": "2021-11-23T18:35:33.731Z"
   },
   {
    "duration": 66,
    "start_time": "2021-11-23T18:35:33.749Z"
   },
   {
    "duration": 8,
    "start_time": "2021-11-23T18:35:33.821Z"
   },
   {
    "duration": 15,
    "start_time": "2021-11-23T18:35:33.834Z"
   },
   {
    "duration": 32,
    "start_time": "2021-11-23T18:35:33.852Z"
   },
   {
    "duration": 9,
    "start_time": "2021-11-23T18:35:33.886Z"
   },
   {
    "duration": 11,
    "start_time": "2021-11-23T18:35:33.897Z"
   },
   {
    "duration": 14,
    "start_time": "2021-11-23T18:35:33.911Z"
   },
   {
    "duration": 6,
    "start_time": "2021-11-23T18:35:33.928Z"
   },
   {
    "duration": 5,
    "start_time": "2021-11-23T18:35:33.937Z"
   },
   {
    "duration": 7,
    "start_time": "2021-11-23T18:35:33.944Z"
   },
   {
    "duration": 29,
    "start_time": "2021-11-23T18:35:33.954Z"
   },
   {
    "duration": 12,
    "start_time": "2021-11-23T18:35:33.986Z"
   },
   {
    "duration": 10,
    "start_time": "2021-11-23T18:35:34.001Z"
   },
   {
    "duration": 8,
    "start_time": "2021-11-23T18:35:34.014Z"
   },
   {
    "duration": 11,
    "start_time": "2021-11-23T18:35:34.024Z"
   },
   {
    "duration": 6,
    "start_time": "2021-11-23T18:35:34.037Z"
   },
   {
    "duration": 9,
    "start_time": "2021-11-23T18:35:34.046Z"
   },
   {
    "duration": 4,
    "start_time": "2021-11-23T18:35:34.082Z"
   },
   {
    "duration": 8,
    "start_time": "2021-11-23T18:35:34.089Z"
   },
   {
    "duration": 7,
    "start_time": "2021-11-23T18:35:34.100Z"
   },
   {
    "duration": 6,
    "start_time": "2021-11-23T18:35:34.109Z"
   },
   {
    "duration": 8,
    "start_time": "2021-11-23T18:35:34.117Z"
   },
   {
    "duration": 7,
    "start_time": "2021-11-23T18:35:34.127Z"
   },
   {
    "duration": 46,
    "start_time": "2021-11-23T18:35:34.136Z"
   },
   {
    "duration": 9,
    "start_time": "2021-11-23T18:35:34.185Z"
   },
   {
    "duration": 6,
    "start_time": "2021-11-23T18:35:34.197Z"
   },
   {
    "duration": 7,
    "start_time": "2021-11-23T18:35:34.205Z"
   },
   {
    "duration": 8,
    "start_time": "2021-11-23T18:35:34.214Z"
   },
   {
    "duration": 7,
    "start_time": "2021-11-23T18:35:34.224Z"
   },
   {
    "duration": 12,
    "start_time": "2021-11-23T18:35:34.233Z"
   },
   {
    "duration": 5,
    "start_time": "2021-11-23T18:35:34.248Z"
   },
   {
    "duration": 32,
    "start_time": "2021-11-23T18:35:34.255Z"
   },
   {
    "duration": 7,
    "start_time": "2021-11-23T18:35:34.289Z"
   },
   {
    "duration": 22,
    "start_time": "2021-11-23T18:35:34.298Z"
   },
   {
    "duration": 60,
    "start_time": "2021-11-23T18:35:34.322Z"
   },
   {
    "duration": 30,
    "start_time": "2021-11-23T18:35:34.384Z"
   },
   {
    "duration": 25,
    "start_time": "2021-11-23T18:35:34.417Z"
   },
   {
    "duration": 51,
    "start_time": "2021-11-23T18:35:34.444Z"
   },
   {
    "duration": 11,
    "start_time": "2021-11-23T18:35:34.498Z"
   },
   {
    "duration": 12,
    "start_time": "2021-11-23T18:35:34.511Z"
   },
   {
    "duration": 6,
    "start_time": "2021-11-23T18:35:34.525Z"
   },
   {
    "duration": 4806,
    "start_time": "2021-11-23T18:35:34.534Z"
   },
   {
    "duration": 17,
    "start_time": "2021-11-23T18:35:39.343Z"
   },
   {
    "duration": 29,
    "start_time": "2021-11-23T18:35:39.362Z"
   },
   {
    "duration": 16,
    "start_time": "2021-11-23T18:35:39.394Z"
   },
   {
    "duration": 6,
    "start_time": "2021-11-23T18:35:39.413Z"
   },
   {
    "duration": 4,
    "start_time": "2021-11-23T18:35:39.431Z"
   },
   {
    "duration": 5,
    "start_time": "2021-11-23T18:35:39.439Z"
   },
   {
    "duration": 35,
    "start_time": "2021-11-23T18:35:39.447Z"
   },
   {
    "duration": 9,
    "start_time": "2021-11-23T18:35:39.485Z"
   },
   {
    "duration": 8,
    "start_time": "2021-11-23T18:35:39.497Z"
   },
   {
    "duration": 14,
    "start_time": "2021-11-23T18:35:39.508Z"
   },
   {
    "duration": 8,
    "start_time": "2021-11-23T18:35:39.525Z"
   },
   {
    "duration": 20,
    "start_time": "2021-11-23T18:35:39.535Z"
   },
   {
    "duration": 6,
    "start_time": "2021-11-23T18:35:39.557Z"
   },
   {
    "duration": 7,
    "start_time": "2021-11-23T18:35:39.565Z"
   },
   {
    "duration": 8,
    "start_time": "2021-11-23T18:35:39.582Z"
   },
   {
    "duration": 12,
    "start_time": "2021-11-23T18:35:39.592Z"
   },
   {
    "duration": 10,
    "start_time": "2021-11-23T18:35:39.606Z"
   },
   {
    "duration": 9,
    "start_time": "2021-11-23T18:35:39.618Z"
   },
   {
    "duration": 15,
    "start_time": "2021-11-23T18:35:39.629Z"
   },
   {
    "duration": 21,
    "start_time": "2021-11-23T18:35:39.647Z"
   },
   {
    "duration": 12,
    "start_time": "2021-11-23T18:35:39.671Z"
   },
   {
    "duration": 21,
    "start_time": "2021-11-23T18:35:39.686Z"
   },
   {
    "duration": 8,
    "start_time": "2021-11-23T18:35:39.709Z"
   },
   {
    "duration": 62,
    "start_time": "2021-11-23T18:35:39.719Z"
   },
   {
    "duration": 25,
    "start_time": "2021-11-23T18:35:39.784Z"
   },
   {
    "duration": 70,
    "start_time": "2021-11-23T18:35:39.811Z"
   },
   {
    "duration": 33,
    "start_time": "2021-11-23T18:35:39.884Z"
   },
   {
    "duration": 64,
    "start_time": "2021-11-23T18:35:39.920Z"
   },
   {
    "duration": 44,
    "start_time": "2021-11-23T18:35:39.987Z"
   },
   {
    "duration": 22,
    "start_time": "2021-11-23T18:48:37.700Z"
   },
   {
    "duration": 8565,
    "start_time": "2021-11-23T18:48:43.137Z"
   },
   {
    "duration": 944,
    "start_time": "2021-11-23T18:48:55.947Z"
   },
   {
    "duration": 276,
    "start_time": "2021-11-23T18:48:56.894Z"
   },
   {
    "duration": 28,
    "start_time": "2021-11-23T18:48:57.173Z"
   },
   {
    "duration": 23,
    "start_time": "2021-11-23T18:48:57.204Z"
   },
   {
    "duration": 8,
    "start_time": "2021-11-23T18:48:57.229Z"
   },
   {
    "duration": 14,
    "start_time": "2021-11-23T18:48:57.240Z"
   },
   {
    "duration": 9,
    "start_time": "2021-11-23T18:48:57.282Z"
   },
   {
    "duration": 22,
    "start_time": "2021-11-23T18:48:57.294Z"
   },
   {
    "duration": 24,
    "start_time": "2021-11-23T18:48:57.319Z"
   },
   {
    "duration": 49,
    "start_time": "2021-11-23T18:48:57.346Z"
   },
   {
    "duration": 21,
    "start_time": "2021-11-23T18:48:57.398Z"
   },
   {
    "duration": 7,
    "start_time": "2021-11-23T18:48:57.421Z"
   },
   {
    "duration": 11,
    "start_time": "2021-11-23T18:48:57.431Z"
   },
   {
    "duration": 25,
    "start_time": "2021-11-23T18:48:57.482Z"
   },
   {
    "duration": 21,
    "start_time": "2021-11-23T18:48:57.509Z"
   },
   {
    "duration": 56,
    "start_time": "2021-11-23T18:48:57.533Z"
   },
   {
    "duration": 40,
    "start_time": "2021-11-23T18:48:57.591Z"
   },
   {
    "duration": 49,
    "start_time": "2021-11-23T18:48:57.633Z"
   },
   {
    "duration": 8124,
    "start_time": "2021-11-23T18:48:57.685Z"
   },
   {
    "duration": 254,
    "start_time": "2021-11-23T18:49:05.566Z"
   },
   {
    "duration": 222,
    "start_time": "2021-11-23T18:49:05.600Z"
   },
   {
    "duration": 201,
    "start_time": "2021-11-23T18:49:05.624Z"
   },
   {
    "duration": 183,
    "start_time": "2021-11-23T18:49:05.644Z"
   },
   {
    "duration": 164,
    "start_time": "2021-11-23T18:49:05.664Z"
   },
   {
    "duration": 146,
    "start_time": "2021-11-23T18:49:05.684Z"
   },
   {
    "duration": 128,
    "start_time": "2021-11-23T18:49:05.703Z"
   },
   {
    "duration": 124,
    "start_time": "2021-11-23T18:49:05.709Z"
   },
   {
    "duration": 120,
    "start_time": "2021-11-23T18:49:05.714Z"
   },
   {
    "duration": 117,
    "start_time": "2021-11-23T18:49:05.718Z"
   },
   {
    "duration": 117,
    "start_time": "2021-11-23T18:49:05.720Z"
   },
   {
    "duration": 113,
    "start_time": "2021-11-23T18:49:05.726Z"
   },
   {
    "duration": 111,
    "start_time": "2021-11-23T18:49:05.730Z"
   },
   {
    "duration": 110,
    "start_time": "2021-11-23T18:49:05.733Z"
   },
   {
    "duration": 108,
    "start_time": "2021-11-23T18:49:05.736Z"
   },
   {
    "duration": 106,
    "start_time": "2021-11-23T18:49:05.740Z"
   },
   {
    "duration": 101,
    "start_time": "2021-11-23T18:49:05.747Z"
   },
   {
    "duration": 98,
    "start_time": "2021-11-23T18:49:05.751Z"
   },
   {
    "duration": 97,
    "start_time": "2021-11-23T18:49:05.754Z"
   },
   {
    "duration": 93,
    "start_time": "2021-11-23T18:49:05.759Z"
   },
   {
    "duration": 89,
    "start_time": "2021-11-23T18:49:05.765Z"
   },
   {
    "duration": 86,
    "start_time": "2021-11-23T18:49:05.769Z"
   },
   {
    "duration": 84,
    "start_time": "2021-11-23T18:49:05.772Z"
   },
   {
    "duration": 105,
    "start_time": "2021-11-23T18:49:05.777Z"
   },
   {
    "duration": 102,
    "start_time": "2021-11-23T18:49:05.781Z"
   },
   {
    "duration": 100,
    "start_time": "2021-11-23T18:49:05.784Z"
   },
   {
    "duration": 99,
    "start_time": "2021-11-23T18:49:05.787Z"
   },
   {
    "duration": 95,
    "start_time": "2021-11-23T18:49:05.792Z"
   },
   {
    "duration": 29,
    "start_time": "2021-11-23T18:49:05.860Z"
   },
   {
    "duration": 23,
    "start_time": "2021-11-23T18:49:05.867Z"
   },
   {
    "duration": 21,
    "start_time": "2021-11-23T18:49:05.870Z"
   },
   {
    "duration": 17,
    "start_time": "2021-11-23T18:49:05.875Z"
   },
   {
    "duration": 13,
    "start_time": "2021-11-23T18:49:05.881Z"
   },
   {
    "duration": 12,
    "start_time": "2021-11-23T18:49:05.884Z"
   },
   {
    "duration": 11,
    "start_time": "2021-11-23T18:49:05.886Z"
   },
   {
    "duration": 8,
    "start_time": "2021-11-23T18:49:05.890Z"
   },
   {
    "duration": 1,
    "start_time": "2021-11-23T18:49:05.898Z"
   },
   {
    "duration": -3,
    "start_time": "2021-11-23T18:49:05.904Z"
   },
   {
    "duration": -8,
    "start_time": "2021-11-23T18:49:05.910Z"
   },
   {
    "duration": -11,
    "start_time": "2021-11-23T18:49:05.915Z"
   },
   {
    "duration": -13,
    "start_time": "2021-11-23T18:49:05.918Z"
   },
   {
    "duration": -15,
    "start_time": "2021-11-23T18:49:05.921Z"
   },
   {
    "duration": -63,
    "start_time": "2021-11-23T18:49:05.970Z"
   },
   {
    "duration": -68,
    "start_time": "2021-11-23T18:49:05.977Z"
   },
   {
    "duration": -104,
    "start_time": "2021-11-23T18:49:06.014Z"
   },
   {
    "duration": -105,
    "start_time": "2021-11-23T18:49:06.017Z"
   },
   {
    "duration": -107,
    "start_time": "2021-11-23T18:49:06.020Z"
   },
   {
    "duration": -109,
    "start_time": "2021-11-23T18:49:06.024Z"
   },
   {
    "duration": -113,
    "start_time": "2021-11-23T18:49:06.029Z"
   },
   {
    "duration": -115,
    "start_time": "2021-11-23T18:49:06.033Z"
   },
   {
    "duration": -116,
    "start_time": "2021-11-23T18:49:06.035Z"
   },
   {
    "duration": -118,
    "start_time": "2021-11-23T18:49:06.038Z"
   },
   {
    "duration": -64,
    "start_time": "2021-11-23T18:49:06.053Z"
   },
   {
    "duration": -66,
    "start_time": "2021-11-23T18:49:06.056Z"
   },
   {
    "duration": -68,
    "start_time": "2021-11-23T18:49:06.060Z"
   },
   {
    "duration": -72,
    "start_time": "2021-11-23T18:49:06.065Z"
   },
   {
    "duration": -92,
    "start_time": "2021-11-23T18:49:06.086Z"
   },
   {
    "duration": -97,
    "start_time": "2021-11-23T18:49:06.092Z"
   },
   {
    "duration": -98,
    "start_time": "2021-11-23T18:49:06.095Z"
   },
   {
    "duration": -107,
    "start_time": "2021-11-23T18:49:06.105Z"
   },
   {
    "duration": -110,
    "start_time": "2021-11-23T18:49:06.109Z"
   },
   {
    "duration": -114,
    "start_time": "2021-11-23T18:49:06.114Z"
   },
   {
    "duration": -116,
    "start_time": "2021-11-23T18:49:06.117Z"
   },
   {
    "duration": -117,
    "start_time": "2021-11-23T18:49:06.120Z"
   },
   {
    "duration": -119,
    "start_time": "2021-11-23T18:49:06.123Z"
   },
   {
    "duration": -123,
    "start_time": "2021-11-23T18:49:06.128Z"
   },
   {
    "duration": -201,
    "start_time": "2021-11-23T18:49:06.208Z"
   },
   {
    "duration": -204,
    "start_time": "2021-11-23T18:49:06.212Z"
   },
   {
    "duration": -206,
    "start_time": "2021-11-23T18:49:06.215Z"
   },
   {
    "duration": -207,
    "start_time": "2021-11-23T18:49:06.218Z"
   },
   {
    "duration": -208,
    "start_time": "2021-11-23T18:49:06.220Z"
   },
   {
    "duration": -211,
    "start_time": "2021-11-23T18:49:06.224Z"
   },
   {
    "duration": -213,
    "start_time": "2021-11-23T18:49:06.228Z"
   },
   {
    "duration": -216,
    "start_time": "2021-11-23T18:49:06.232Z"
   },
   {
    "duration": 7671,
    "start_time": "2021-11-23T18:49:17.642Z"
   },
   {
    "duration": 325,
    "start_time": "2021-11-23T18:49:26.283Z"
   },
   {
    "duration": 316,
    "start_time": "2021-11-23T18:49:40.348Z"
   },
   {
    "duration": 318,
    "start_time": "2021-11-23T18:49:45.837Z"
   },
   {
    "duration": 315,
    "start_time": "2021-11-23T18:49:55.027Z"
   },
   {
    "duration": 305,
    "start_time": "2021-11-23T18:50:06.160Z"
   },
   {
    "duration": 737,
    "start_time": "2021-11-23T18:50:12.715Z"
   },
   {
    "duration": 8441,
    "start_time": "2021-11-23T18:50:19.444Z"
   },
   {
    "duration": 6073,
    "start_time": "2021-11-23T18:50:30.836Z"
   },
   {
    "duration": 8279,
    "start_time": "2021-11-23T18:50:37.687Z"
   },
   {
    "duration": 762,
    "start_time": "2021-11-23T18:50:52.509Z"
   },
   {
    "duration": 362,
    "start_time": "2021-11-23T18:50:53.274Z"
   },
   {
    "duration": 29,
    "start_time": "2021-11-23T18:50:53.640Z"
   },
   {
    "duration": 22,
    "start_time": "2021-11-23T18:50:53.672Z"
   },
   {
    "duration": 7,
    "start_time": "2021-11-23T18:50:53.697Z"
   },
   {
    "duration": 12,
    "start_time": "2021-11-23T18:50:53.707Z"
   },
   {
    "duration": 10,
    "start_time": "2021-11-23T18:50:53.722Z"
   },
   {
    "duration": 75,
    "start_time": "2021-11-23T18:50:53.736Z"
   },
   {
    "duration": 34,
    "start_time": "2021-11-23T18:50:53.815Z"
   },
   {
    "duration": 57,
    "start_time": "2021-11-23T18:50:53.852Z"
   },
   {
    "duration": 34,
    "start_time": "2021-11-23T18:50:53.912Z"
   },
   {
    "duration": 34,
    "start_time": "2021-11-23T18:50:53.949Z"
   },
   {
    "duration": 13,
    "start_time": "2021-11-23T18:50:53.986Z"
   },
   {
    "duration": 40,
    "start_time": "2021-11-23T18:50:54.002Z"
   },
   {
    "duration": 52,
    "start_time": "2021-11-23T18:50:54.044Z"
   },
   {
    "duration": 24,
    "start_time": "2021-11-23T18:50:54.098Z"
   },
   {
    "duration": 69,
    "start_time": "2021-11-23T18:50:54.124Z"
   },
   {
    "duration": 22,
    "start_time": "2021-11-23T18:50:54.196Z"
   },
   {
    "duration": 8335,
    "start_time": "2021-11-23T18:50:54.221Z"
   },
   {
    "duration": 266,
    "start_time": "2021-11-23T18:51:02.298Z"
   },
   {
    "duration": 260,
    "start_time": "2021-11-23T18:51:02.306Z"
   },
   {
    "duration": 258,
    "start_time": "2021-11-23T18:51:02.311Z"
   },
   {
    "duration": 254,
    "start_time": "2021-11-23T18:51:02.317Z"
   },
   {
    "duration": 251,
    "start_time": "2021-11-23T18:51:02.322Z"
   },
   {
    "duration": 248,
    "start_time": "2021-11-23T18:51:02.327Z"
   },
   {
    "duration": 247,
    "start_time": "2021-11-23T18:51:02.330Z"
   },
   {
    "duration": 245,
    "start_time": "2021-11-23T18:51:02.334Z"
   },
   {
    "duration": 245,
    "start_time": "2021-11-23T18:51:02.337Z"
   },
   {
    "duration": 245,
    "start_time": "2021-11-23T18:51:02.339Z"
   },
   {
    "duration": 243,
    "start_time": "2021-11-23T18:51:02.343Z"
   },
   {
    "duration": 242,
    "start_time": "2021-11-23T18:51:02.346Z"
   },
   {
    "duration": 241,
    "start_time": "2021-11-23T18:51:02.349Z"
   },
   {
    "duration": 230,
    "start_time": "2021-11-23T18:51:02.363Z"
   },
   {
    "duration": 230,
    "start_time": "2021-11-23T18:51:02.365Z"
   },
   {
    "duration": 228,
    "start_time": "2021-11-23T18:51:02.369Z"
   },
   {
    "duration": 226,
    "start_time": "2021-11-23T18:51:02.372Z"
   },
   {
    "duration": 224,
    "start_time": "2021-11-23T18:51:02.376Z"
   },
   {
    "duration": 221,
    "start_time": "2021-11-23T18:51:02.381Z"
   },
   {
    "duration": 218,
    "start_time": "2021-11-23T18:51:02.385Z"
   },
   {
    "duration": 217,
    "start_time": "2021-11-23T18:51:02.388Z"
   },
   {
    "duration": 207,
    "start_time": "2021-11-23T18:51:02.400Z"
   },
   {
    "duration": 203,
    "start_time": "2021-11-23T18:51:02.406Z"
   },
   {
    "duration": 200,
    "start_time": "2021-11-23T18:51:02.410Z"
   },
   {
    "duration": 201,
    "start_time": "2021-11-23T18:51:02.411Z"
   },
   {
    "duration": 179,
    "start_time": "2021-11-23T18:51:02.435Z"
   },
   {
    "duration": 177,
    "start_time": "2021-11-23T18:51:02.438Z"
   },
   {
    "duration": 176,
    "start_time": "2021-11-23T18:51:02.441Z"
   },
   {
    "duration": 177,
    "start_time": "2021-11-23T18:51:02.442Z"
   },
   {
    "duration": 175,
    "start_time": "2021-11-23T18:51:02.446Z"
   },
   {
    "duration": 174,
    "start_time": "2021-11-23T18:51:02.449Z"
   },
   {
    "duration": 174,
    "start_time": "2021-11-23T18:51:02.451Z"
   },
   {
    "duration": 8,
    "start_time": "2021-11-23T18:51:02.618Z"
   },
   {
    "duration": -74,
    "start_time": "2021-11-23T18:51:02.702Z"
   },
   {
    "duration": -70,
    "start_time": "2021-11-23T18:51:02.753Z"
   },
   {
    "duration": -85,
    "start_time": "2021-11-23T18:51:02.769Z"
   },
   {
    "duration": -127,
    "start_time": "2021-11-23T18:51:02.813Z"
   },
   {
    "duration": -142,
    "start_time": "2021-11-23T18:51:02.829Z"
   },
   {
    "duration": -624,
    "start_time": "2021-11-23T18:51:03.313Z"
   },
   {
    "duration": -627,
    "start_time": "2021-11-23T18:51:03.317Z"
   },
   {
    "duration": -628,
    "start_time": "2021-11-23T18:51:03.320Z"
   },
   {
    "duration": -630,
    "start_time": "2021-11-23T18:51:03.323Z"
   },
   {
    "duration": -632,
    "start_time": "2021-11-23T18:51:03.327Z"
   },
   {
    "duration": -633,
    "start_time": "2021-11-23T18:51:03.329Z"
   },
   {
    "duration": -635,
    "start_time": "2021-11-23T18:51:03.333Z"
   },
   {
    "duration": -635,
    "start_time": "2021-11-23T18:51:03.335Z"
   },
   {
    "duration": -634,
    "start_time": "2021-11-23T18:51:03.338Z"
   },
   {
    "duration": -637,
    "start_time": "2021-11-23T18:51:03.342Z"
   },
   {
    "duration": -638,
    "start_time": "2021-11-23T18:51:03.345Z"
   },
   {
    "duration": -647,
    "start_time": "2021-11-23T18:51:03.356Z"
   },
   {
    "duration": -651,
    "start_time": "2021-11-23T18:51:03.361Z"
   },
   {
    "duration": -652,
    "start_time": "2021-11-23T18:51:03.364Z"
   },
   {
    "duration": -652,
    "start_time": "2021-11-23T18:51:03.366Z"
   },
   {
    "duration": -654,
    "start_time": "2021-11-23T18:51:03.369Z"
   },
   {
    "duration": -656,
    "start_time": "2021-11-23T18:51:03.373Z"
   },
   {
    "duration": -657,
    "start_time": "2021-11-23T18:51:03.376Z"
   },
   {
    "duration": -657,
    "start_time": "2021-11-23T18:51:03.378Z"
   },
   {
    "duration": -599,
    "start_time": "2021-11-23T18:51:03.381Z"
   },
   {
    "duration": -601,
    "start_time": "2021-11-23T18:51:03.385Z"
   },
   {
    "duration": -602,
    "start_time": "2021-11-23T18:51:03.387Z"
   },
   {
    "duration": -602,
    "start_time": "2021-11-23T18:51:03.390Z"
   },
   {
    "duration": -603,
    "start_time": "2021-11-23T18:51:03.393Z"
   },
   {
    "duration": -605,
    "start_time": "2021-11-23T18:51:03.396Z"
   },
   {
    "duration": -606,
    "start_time": "2021-11-23T18:51:03.399Z"
   },
   {
    "duration": -607,
    "start_time": "2021-11-23T18:51:03.401Z"
   },
   {
    "duration": -608,
    "start_time": "2021-11-23T18:51:03.404Z"
   },
   {
    "duration": -610,
    "start_time": "2021-11-23T18:51:03.407Z"
   },
   {
    "duration": -611,
    "start_time": "2021-11-23T18:51:03.410Z"
   },
   {
    "duration": -612,
    "start_time": "2021-11-23T18:51:03.412Z"
   },
   {
    "duration": -613,
    "start_time": "2021-11-23T18:51:03.415Z"
   },
   {
    "duration": -615,
    "start_time": "2021-11-23T18:51:03.418Z"
   },
   {
    "duration": -615,
    "start_time": "2021-11-23T18:51:03.420Z"
   },
   {
    "duration": -616,
    "start_time": "2021-11-23T18:51:03.423Z"
   },
   {
    "duration": -616,
    "start_time": "2021-11-23T18:51:03.425Z"
   },
   {
    "duration": 866,
    "start_time": "2021-11-23T18:51:25.862Z"
   },
   {
    "duration": 535,
    "start_time": "2021-11-23T18:51:26.731Z"
   },
   {
    "duration": 30,
    "start_time": "2021-11-23T18:51:27.269Z"
   },
   {
    "duration": 16,
    "start_time": "2021-11-23T18:51:27.303Z"
   },
   {
    "duration": 9,
    "start_time": "2021-11-23T18:51:27.322Z"
   },
   {
    "duration": 48,
    "start_time": "2021-11-23T18:51:27.338Z"
   },
   {
    "duration": 11,
    "start_time": "2021-11-23T18:51:27.389Z"
   },
   {
    "duration": 22,
    "start_time": "2021-11-23T18:51:27.404Z"
   },
   {
    "duration": 59,
    "start_time": "2021-11-23T18:51:27.430Z"
   },
   {
    "duration": 22,
    "start_time": "2021-11-23T18:51:27.492Z"
   },
   {
    "duration": 24,
    "start_time": "2021-11-23T18:51:27.516Z"
   },
   {
    "duration": 43,
    "start_time": "2021-11-23T18:51:27.544Z"
   },
   {
    "duration": 11,
    "start_time": "2021-11-23T18:51:27.589Z"
   },
   {
    "duration": 25,
    "start_time": "2021-11-23T18:51:27.603Z"
   },
   {
    "duration": 54,
    "start_time": "2021-11-23T18:51:27.630Z"
   },
   {
    "duration": 24,
    "start_time": "2021-11-23T18:51:27.686Z"
   },
   {
    "duration": 73,
    "start_time": "2021-11-23T18:51:27.712Z"
   },
   {
    "duration": 35,
    "start_time": "2021-11-23T18:51:27.787Z"
   },
   {
    "duration": 32,
    "start_time": "2021-11-23T18:51:27.825Z"
   },
   {
    "duration": 35,
    "start_time": "2021-11-23T18:51:27.883Z"
   },
   {
    "duration": 26,
    "start_time": "2021-11-23T18:51:27.920Z"
   },
   {
    "duration": 66,
    "start_time": "2021-11-23T18:51:27.949Z"
   },
   {
    "duration": 8,
    "start_time": "2021-11-23T18:51:28.022Z"
   },
   {
    "duration": 14,
    "start_time": "2021-11-23T18:51:28.034Z"
   },
   {
    "duration": 8,
    "start_time": "2021-11-23T18:51:28.051Z"
   },
   {
    "duration": 24,
    "start_time": "2021-11-23T18:51:28.062Z"
   },
   {
    "duration": 6,
    "start_time": "2021-11-23T18:51:28.089Z"
   },
   {
    "duration": 4,
    "start_time": "2021-11-23T18:51:28.098Z"
   },
   {
    "duration": 6,
    "start_time": "2021-11-23T18:51:28.105Z"
   },
   {
    "duration": 7,
    "start_time": "2021-11-23T18:51:28.114Z"
   },
   {
    "duration": 6,
    "start_time": "2021-11-23T18:51:28.123Z"
   },
   {
    "duration": 50,
    "start_time": "2021-11-23T18:51:28.132Z"
   },
   {
    "duration": 8,
    "start_time": "2021-11-23T18:51:28.185Z"
   },
   {
    "duration": 7,
    "start_time": "2021-11-23T18:51:28.197Z"
   },
   {
    "duration": 11,
    "start_time": "2021-11-23T18:51:28.206Z"
   },
   {
    "duration": 11,
    "start_time": "2021-11-23T18:51:28.219Z"
   },
   {
    "duration": 7,
    "start_time": "2021-11-23T18:51:28.233Z"
   },
   {
    "duration": 7,
    "start_time": "2021-11-23T18:51:28.242Z"
   },
   {
    "duration": 34,
    "start_time": "2021-11-23T18:51:28.252Z"
   },
   {
    "duration": 7,
    "start_time": "2021-11-23T18:51:28.290Z"
   },
   {
    "duration": 8,
    "start_time": "2021-11-23T18:51:28.299Z"
   },
   {
    "duration": 5,
    "start_time": "2021-11-23T18:51:28.310Z"
   },
   {
    "duration": 19,
    "start_time": "2021-11-23T18:51:28.318Z"
   },
   {
    "duration": 6,
    "start_time": "2021-11-23T18:51:28.340Z"
   },
   {
    "duration": 38,
    "start_time": "2021-11-23T18:51:28.348Z"
   },
   {
    "duration": 7,
    "start_time": "2021-11-23T18:51:28.389Z"
   },
   {
    "duration": 4,
    "start_time": "2021-11-23T18:51:28.401Z"
   },
   {
    "duration": 9,
    "start_time": "2021-11-23T18:51:28.409Z"
   },
   {
    "duration": 5,
    "start_time": "2021-11-23T18:51:28.421Z"
   },
   {
    "duration": 10,
    "start_time": "2021-11-23T18:51:28.429Z"
   },
   {
    "duration": 5,
    "start_time": "2021-11-23T18:51:28.442Z"
   },
   {
    "duration": 4,
    "start_time": "2021-11-23T18:51:28.483Z"
   },
   {
    "duration": 13,
    "start_time": "2021-11-23T18:51:28.490Z"
   },
   {
    "duration": 7,
    "start_time": "2021-11-23T18:51:28.505Z"
   },
   {
    "duration": 17,
    "start_time": "2021-11-23T18:51:28.514Z"
   },
   {
    "duration": 63,
    "start_time": "2021-11-23T18:51:28.534Z"
   },
   {
    "duration": 29,
    "start_time": "2021-11-23T18:51:28.600Z"
   },
   {
    "duration": 24,
    "start_time": "2021-11-23T18:51:28.632Z"
   },
   {
    "duration": 45,
    "start_time": "2021-11-23T18:51:28.659Z"
   },
   {
    "duration": 10,
    "start_time": "2021-11-23T18:51:28.706Z"
   },
   {
    "duration": 10,
    "start_time": "2021-11-23T18:51:28.718Z"
   },
   {
    "duration": 5,
    "start_time": "2021-11-23T18:51:28.730Z"
   },
   {
    "duration": 5021,
    "start_time": "2021-11-23T18:51:28.737Z"
   },
   {
    "duration": 23,
    "start_time": "2021-11-23T18:51:33.760Z"
   },
   {
    "duration": 11,
    "start_time": "2021-11-23T18:51:33.786Z"
   },
   {
    "duration": 7,
    "start_time": "2021-11-23T18:51:33.800Z"
   },
   {
    "duration": 12,
    "start_time": "2021-11-23T18:51:33.809Z"
   },
   {
    "duration": 3,
    "start_time": "2021-11-23T18:51:33.830Z"
   },
   {
    "duration": 45,
    "start_time": "2021-11-23T18:51:33.836Z"
   },
   {
    "duration": 8,
    "start_time": "2021-11-23T18:51:33.884Z"
   },
   {
    "duration": 6,
    "start_time": "2021-11-23T18:51:33.894Z"
   },
   {
    "duration": 13,
    "start_time": "2021-11-23T18:51:33.902Z"
   },
   {
    "duration": 8,
    "start_time": "2021-11-23T18:51:33.917Z"
   },
   {
    "duration": 5,
    "start_time": "2021-11-23T18:51:33.927Z"
   },
   {
    "duration": 8,
    "start_time": "2021-11-23T18:51:33.935Z"
   },
   {
    "duration": 9,
    "start_time": "2021-11-23T18:51:33.945Z"
   },
   {
    "duration": 3,
    "start_time": "2021-11-23T18:51:33.981Z"
   },
   {
    "duration": 18,
    "start_time": "2021-11-23T18:51:33.986Z"
   },
   {
    "duration": 7,
    "start_time": "2021-11-23T18:51:34.007Z"
   },
   {
    "duration": 8,
    "start_time": "2021-11-23T18:51:34.016Z"
   },
   {
    "duration": 5,
    "start_time": "2021-11-23T18:51:34.027Z"
   },
   {
    "duration": 6,
    "start_time": "2021-11-23T18:51:34.035Z"
   },
   {
    "duration": 17,
    "start_time": "2021-11-23T18:51:34.044Z"
   },
   {
    "duration": 34,
    "start_time": "2021-11-23T18:51:34.063Z"
   },
   {
    "duration": 24,
    "start_time": "2021-11-23T18:51:34.100Z"
   },
   {
    "duration": 10,
    "start_time": "2021-11-23T18:51:34.126Z"
   },
   {
    "duration": 64,
    "start_time": "2021-11-23T18:51:34.138Z"
   },
   {
    "duration": 26,
    "start_time": "2021-11-23T18:51:34.205Z"
   },
   {
    "duration": 63,
    "start_time": "2021-11-23T18:51:34.234Z"
   },
   {
    "duration": 32,
    "start_time": "2021-11-23T18:51:34.300Z"
   },
   {
    "duration": 48,
    "start_time": "2021-11-23T18:51:34.334Z"
   },
   {
    "duration": 31,
    "start_time": "2021-11-23T18:51:34.385Z"
   },
   {
    "duration": 19,
    "start_time": "2021-11-23T18:57:23.355Z"
   },
   {
    "duration": 399,
    "start_time": "2021-11-23T18:59:35.746Z"
   },
   {
    "duration": 4,
    "start_time": "2021-11-23T18:59:44.159Z"
   },
   {
    "duration": 6,
    "start_time": "2021-11-23T18:59:50.617Z"
   },
   {
    "duration": 793,
    "start_time": "2021-11-23T19:00:28.805Z"
   },
   {
    "duration": 253,
    "start_time": "2021-11-23T19:00:29.601Z"
   },
   {
    "duration": 28,
    "start_time": "2021-11-23T19:00:29.860Z"
   },
   {
    "duration": 16,
    "start_time": "2021-11-23T19:00:29.891Z"
   },
   {
    "duration": 5,
    "start_time": "2021-11-23T19:00:29.910Z"
   },
   {
    "duration": 11,
    "start_time": "2021-11-23T19:00:29.918Z"
   },
   {
    "duration": 11,
    "start_time": "2021-11-23T19:00:29.932Z"
   },
   {
    "duration": 41,
    "start_time": "2021-11-23T19:00:29.948Z"
   },
   {
    "duration": 23,
    "start_time": "2021-11-23T19:00:29.992Z"
   },
   {
    "duration": 25,
    "start_time": "2021-11-23T19:00:30.017Z"
   },
   {
    "duration": 53,
    "start_time": "2021-11-23T19:00:30.045Z"
   },
   {
    "duration": 25,
    "start_time": "2021-11-23T19:00:30.100Z"
   },
   {
    "duration": 18,
    "start_time": "2021-11-23T19:00:30.128Z"
   },
   {
    "duration": 18,
    "start_time": "2021-11-23T19:00:30.149Z"
   },
   {
    "duration": 24,
    "start_time": "2021-11-23T19:00:30.182Z"
   },
   {
    "duration": 21,
    "start_time": "2021-11-23T19:00:30.209Z"
   },
   {
    "duration": 50,
    "start_time": "2021-11-23T19:00:30.233Z"
   },
   {
    "duration": 40,
    "start_time": "2021-11-23T19:00:30.285Z"
   },
   {
    "duration": 55,
    "start_time": "2021-11-23T19:00:30.328Z"
   },
   {
    "duration": 27,
    "start_time": "2021-11-23T19:00:30.386Z"
   },
   {
    "duration": 35,
    "start_time": "2021-11-23T19:00:30.415Z"
   },
   {
    "duration": 7,
    "start_time": "2021-11-23T19:00:30.481Z"
   },
   {
    "duration": 19,
    "start_time": "2021-11-23T19:00:30.496Z"
   },
   {
    "duration": 73,
    "start_time": "2021-11-23T19:00:30.520Z"
   },
   {
    "duration": 8,
    "start_time": "2021-11-23T19:00:30.595Z"
   },
   {
    "duration": 30,
    "start_time": "2021-11-23T19:00:30.606Z"
   },
   {
    "duration": 16,
    "start_time": "2021-11-23T19:00:30.639Z"
   },
   {
    "duration": 40,
    "start_time": "2021-11-23T19:00:30.657Z"
   },
   {
    "duration": 32,
    "start_time": "2021-11-23T19:00:30.699Z"
   },
   {
    "duration": 31,
    "start_time": "2021-11-23T19:00:30.733Z"
   },
   {
    "duration": 34,
    "start_time": "2021-11-23T19:00:30.766Z"
   },
   {
    "duration": 32,
    "start_time": "2021-11-23T19:00:30.802Z"
   },
   {
    "duration": 32,
    "start_time": "2021-11-23T19:00:30.836Z"
   },
   {
    "duration": 36,
    "start_time": "2021-11-23T19:00:30.870Z"
   },
   {
    "duration": 32,
    "start_time": "2021-11-23T19:00:30.909Z"
   },
   {
    "duration": 27,
    "start_time": "2021-11-23T19:00:30.943Z"
   },
   {
    "duration": 30,
    "start_time": "2021-11-23T19:00:30.972Z"
   },
   {
    "duration": 30,
    "start_time": "2021-11-23T19:00:31.005Z"
   },
   {
    "duration": 17,
    "start_time": "2021-11-23T19:00:31.038Z"
   },
   {
    "duration": 25,
    "start_time": "2021-11-23T19:00:31.058Z"
   },
   {
    "duration": 52,
    "start_time": "2021-11-23T19:00:31.086Z"
   },
   {
    "duration": 28,
    "start_time": "2021-11-23T19:00:31.140Z"
   },
   {
    "duration": 28,
    "start_time": "2021-11-23T19:00:31.170Z"
   },
   {
    "duration": 17,
    "start_time": "2021-11-23T19:00:31.200Z"
   },
   {
    "duration": 21,
    "start_time": "2021-11-23T19:00:31.219Z"
   },
   {
    "duration": 17,
    "start_time": "2021-11-23T19:00:31.243Z"
   },
   {
    "duration": 26,
    "start_time": "2021-11-23T19:00:31.263Z"
   },
   {
    "duration": 17,
    "start_time": "2021-11-23T19:00:31.292Z"
   },
   {
    "duration": 11,
    "start_time": "2021-11-23T19:00:31.312Z"
   },
   {
    "duration": 20,
    "start_time": "2021-11-23T19:00:31.326Z"
   },
   {
    "duration": 12,
    "start_time": "2021-11-23T19:00:31.349Z"
   },
   {
    "duration": 40,
    "start_time": "2021-11-23T19:00:31.363Z"
   },
   {
    "duration": 42,
    "start_time": "2021-11-23T19:00:31.406Z"
   },
   {
    "duration": 11,
    "start_time": "2021-11-23T19:00:31.451Z"
   },
   {
    "duration": 17,
    "start_time": "2021-11-23T19:00:31.464Z"
   },
   {
    "duration": 17,
    "start_time": "2021-11-23T19:00:31.483Z"
   },
   {
    "duration": 28,
    "start_time": "2021-11-23T19:00:31.503Z"
   },
   {
    "duration": 41,
    "start_time": "2021-11-23T19:00:31.534Z"
   },
   {
    "duration": 41,
    "start_time": "2021-11-23T19:00:31.583Z"
   },
   {
    "duration": 33,
    "start_time": "2021-11-23T19:00:31.627Z"
   },
   {
    "duration": 40,
    "start_time": "2021-11-23T19:00:31.683Z"
   },
   {
    "duration": 11,
    "start_time": "2021-11-23T19:00:31.726Z"
   },
   {
    "duration": 40,
    "start_time": "2021-11-23T19:00:31.741Z"
   },
   {
    "duration": 4,
    "start_time": "2021-11-23T19:00:31.784Z"
   },
   {
    "duration": 4566,
    "start_time": "2021-11-23T19:00:31.790Z"
   },
   {
    "duration": 28,
    "start_time": "2021-11-23T19:00:36.358Z"
   },
   {
    "duration": 10,
    "start_time": "2021-11-23T19:00:36.388Z"
   },
   {
    "duration": 3,
    "start_time": "2021-11-23T19:00:36.406Z"
   },
   {
    "duration": 7,
    "start_time": "2021-11-23T19:00:36.412Z"
   },
   {
    "duration": 9,
    "start_time": "2021-11-23T19:00:36.421Z"
   },
   {
    "duration": 10,
    "start_time": "2021-11-23T19:00:36.432Z"
   },
   {
    "duration": 11,
    "start_time": "2021-11-23T19:00:36.444Z"
   },
   {
    "duration": 12,
    "start_time": "2021-11-23T19:00:36.483Z"
   },
   {
    "duration": 6,
    "start_time": "2021-11-23T19:00:36.498Z"
   },
   {
    "duration": 6,
    "start_time": "2021-11-23T19:00:36.507Z"
   },
   {
    "duration": 4,
    "start_time": "2021-11-23T19:00:36.516Z"
   },
   {
    "duration": 6,
    "start_time": "2021-11-23T19:00:36.523Z"
   },
   {
    "duration": 5,
    "start_time": "2021-11-23T19:00:36.532Z"
   },
   {
    "duration": 47,
    "start_time": "2021-11-23T19:00:36.540Z"
   },
   {
    "duration": 4,
    "start_time": "2021-11-23T19:00:36.590Z"
   },
   {
    "duration": 6,
    "start_time": "2021-11-23T19:00:36.596Z"
   },
   {
    "duration": 4,
    "start_time": "2021-11-23T19:00:36.605Z"
   },
   {
    "duration": 9,
    "start_time": "2021-11-23T19:00:36.611Z"
   },
   {
    "duration": 10,
    "start_time": "2021-11-23T19:00:36.622Z"
   },
   {
    "duration": 16,
    "start_time": "2021-11-23T19:00:36.634Z"
   },
   {
    "duration": 38,
    "start_time": "2021-11-23T19:00:36.652Z"
   },
   {
    "duration": 23,
    "start_time": "2021-11-23T19:00:36.692Z"
   },
   {
    "duration": 18,
    "start_time": "2021-11-23T19:00:36.717Z"
   },
   {
    "duration": 61,
    "start_time": "2021-11-23T19:00:36.737Z"
   },
   {
    "duration": 25,
    "start_time": "2021-11-23T19:00:36.801Z"
   },
   {
    "duration": 59,
    "start_time": "2021-11-23T19:00:36.829Z"
   },
   {
    "duration": 45,
    "start_time": "2021-11-23T19:00:36.892Z"
   },
   {
    "duration": 52,
    "start_time": "2021-11-23T19:00:36.939Z"
   },
   {
    "duration": 29,
    "start_time": "2021-11-23T19:00:36.993Z"
   },
   {
    "duration": 32,
    "start_time": "2021-11-23T19:02:46.946Z"
   },
   {
    "duration": 963,
    "start_time": "2021-11-23T19:10:05.724Z"
   },
   {
    "duration": 328,
    "start_time": "2021-11-23T19:10:06.691Z"
   },
   {
    "duration": 29,
    "start_time": "2021-11-23T19:10:07.022Z"
   },
   {
    "duration": 36,
    "start_time": "2021-11-23T19:10:07.055Z"
   },
   {
    "duration": 8,
    "start_time": "2021-11-23T19:10:07.094Z"
   },
   {
    "duration": 12,
    "start_time": "2021-11-23T19:10:07.106Z"
   },
   {
    "duration": 9,
    "start_time": "2021-11-23T19:10:07.121Z"
   },
   {
    "duration": 76,
    "start_time": "2021-11-23T19:10:07.134Z"
   },
   {
    "duration": 24,
    "start_time": "2021-11-23T19:10:07.214Z"
   },
   {
    "duration": 45,
    "start_time": "2021-11-23T19:10:07.241Z"
   },
   {
    "duration": 22,
    "start_time": "2021-11-23T19:10:07.289Z"
   },
   {
    "duration": 7,
    "start_time": "2021-11-23T19:10:07.314Z"
   },
   {
    "duration": 14,
    "start_time": "2021-11-23T19:10:07.324Z"
   },
   {
    "duration": 66,
    "start_time": "2021-11-23T19:10:07.341Z"
   },
   {
    "duration": 25,
    "start_time": "2021-11-23T19:10:07.410Z"
   },
   {
    "duration": 48,
    "start_time": "2021-11-23T19:10:07.438Z"
   },
   {
    "duration": 42,
    "start_time": "2021-11-23T19:10:07.488Z"
   },
   {
    "duration": 64,
    "start_time": "2021-11-23T19:10:07.533Z"
   },
   {
    "duration": 27,
    "start_time": "2021-11-23T19:10:07.599Z"
   },
   {
    "duration": 64,
    "start_time": "2021-11-23T19:10:07.628Z"
   },
   {
    "duration": 14,
    "start_time": "2021-11-23T19:10:07.694Z"
   },
   {
    "duration": 25,
    "start_time": "2021-11-23T19:10:07.711Z"
   },
   {
    "duration": 66,
    "start_time": "2021-11-23T19:10:07.742Z"
   },
   {
    "duration": 10,
    "start_time": "2021-11-23T19:10:07.812Z"
   },
   {
    "duration": 9,
    "start_time": "2021-11-23T19:10:07.824Z"
   },
   {
    "duration": 15,
    "start_time": "2021-11-23T19:10:07.835Z"
   },
   {
    "duration": 3,
    "start_time": "2021-11-23T19:10:07.852Z"
   },
   {
    "duration": 3,
    "start_time": "2021-11-23T19:10:07.883Z"
   },
   {
    "duration": 9,
    "start_time": "2021-11-23T19:10:07.889Z"
   },
   {
    "duration": 9,
    "start_time": "2021-11-23T19:10:07.901Z"
   },
   {
    "duration": 7,
    "start_time": "2021-11-23T19:10:07.912Z"
   },
   {
    "duration": 6,
    "start_time": "2021-11-23T19:10:07.921Z"
   },
   {
    "duration": 6,
    "start_time": "2021-11-23T19:10:07.929Z"
   },
   {
    "duration": 7,
    "start_time": "2021-11-23T19:10:07.937Z"
   },
   {
    "duration": 4,
    "start_time": "2021-11-23T19:10:07.981Z"
   },
   {
    "duration": 7,
    "start_time": "2021-11-23T19:10:07.987Z"
   },
   {
    "duration": 8,
    "start_time": "2021-11-23T19:10:07.997Z"
   },
   {
    "duration": 6,
    "start_time": "2021-11-23T19:10:08.007Z"
   },
   {
    "duration": 5,
    "start_time": "2021-11-23T19:10:08.015Z"
   },
   {
    "duration": 7,
    "start_time": "2021-11-23T19:10:08.023Z"
   },
   {
    "duration": 5,
    "start_time": "2021-11-23T19:10:08.032Z"
   },
   {
    "duration": 7,
    "start_time": "2021-11-23T19:10:08.040Z"
   },
   {
    "duration": 6,
    "start_time": "2021-11-23T19:10:08.083Z"
   },
   {
    "duration": 10,
    "start_time": "2021-11-23T19:10:08.091Z"
   },
   {
    "duration": 8,
    "start_time": "2021-11-23T19:10:08.103Z"
   },
   {
    "duration": 9,
    "start_time": "2021-11-23T19:10:08.114Z"
   },
   {
    "duration": 9,
    "start_time": "2021-11-23T19:10:08.126Z"
   },
   {
    "duration": 6,
    "start_time": "2021-11-23T19:10:08.137Z"
   },
   {
    "duration": 5,
    "start_time": "2021-11-23T19:10:08.146Z"
   },
   {
    "duration": 29,
    "start_time": "2021-11-23T19:10:08.154Z"
   },
   {
    "duration": 7,
    "start_time": "2021-11-23T19:10:08.186Z"
   },
   {
    "duration": 9,
    "start_time": "2021-11-23T19:10:08.196Z"
   },
   {
    "duration": 8,
    "start_time": "2021-11-23T19:10:08.208Z"
   },
   {
    "duration": 13,
    "start_time": "2021-11-23T19:10:08.219Z"
   },
   {
    "duration": 16,
    "start_time": "2021-11-23T19:10:08.235Z"
   },
   {
    "duration": 8,
    "start_time": "2021-11-23T19:10:08.254Z"
   },
   {
    "duration": 16,
    "start_time": "2021-11-23T19:10:08.282Z"
   },
   {
    "duration": 30,
    "start_time": "2021-11-23T19:10:08.301Z"
   },
   {
    "duration": 49,
    "start_time": "2021-11-23T19:10:08.333Z"
   },
   {
    "duration": 24,
    "start_time": "2021-11-23T19:10:08.385Z"
   },
   {
    "duration": 28,
    "start_time": "2021-11-23T19:10:08.412Z"
   },
   {
    "duration": 40,
    "start_time": "2021-11-23T19:10:08.442Z"
   },
   {
    "duration": 12,
    "start_time": "2021-11-23T19:10:08.485Z"
   },
   {
    "duration": 4,
    "start_time": "2021-11-23T19:10:08.500Z"
   },
   {
    "duration": 5429,
    "start_time": "2021-11-23T19:10:08.507Z"
   },
   {
    "duration": 14,
    "start_time": "2021-11-23T19:10:13.939Z"
   },
   {
    "duration": 29,
    "start_time": "2021-11-23T19:10:13.956Z"
   },
   {
    "duration": 4,
    "start_time": "2021-11-23T19:10:13.993Z"
   },
   {
    "duration": 10,
    "start_time": "2021-11-23T19:10:14.000Z"
   },
   {
    "duration": 10,
    "start_time": "2021-11-23T19:10:14.012Z"
   },
   {
    "duration": 11,
    "start_time": "2021-11-23T19:10:14.024Z"
   },
   {
    "duration": 7,
    "start_time": "2021-11-23T19:10:14.037Z"
   },
   {
    "duration": 9,
    "start_time": "2021-11-23T19:10:14.046Z"
   },
   {
    "duration": 16,
    "start_time": "2021-11-23T19:10:14.057Z"
   },
   {
    "duration": 19,
    "start_time": "2021-11-23T19:10:14.082Z"
   },
   {
    "duration": 9,
    "start_time": "2021-11-23T19:10:14.103Z"
   },
   {
    "duration": 7,
    "start_time": "2021-11-23T19:10:14.115Z"
   },
   {
    "duration": 9,
    "start_time": "2021-11-23T19:10:14.124Z"
   },
   {
    "duration": 6,
    "start_time": "2021-11-23T19:10:14.136Z"
   },
   {
    "duration": 11,
    "start_time": "2021-11-23T19:10:14.145Z"
   },
   {
    "duration": 24,
    "start_time": "2021-11-23T19:10:14.158Z"
   },
   {
    "duration": 8,
    "start_time": "2021-11-23T19:10:14.185Z"
   },
   {
    "duration": 7,
    "start_time": "2021-11-23T19:10:14.196Z"
   },
   {
    "duration": 6,
    "start_time": "2021-11-23T19:10:14.205Z"
   },
   {
    "duration": 19,
    "start_time": "2021-11-23T19:10:14.214Z"
   },
   {
    "duration": 13,
    "start_time": "2021-11-23T19:10:14.235Z"
   },
   {
    "duration": 38,
    "start_time": "2021-11-23T19:10:14.283Z"
   },
   {
    "duration": 10,
    "start_time": "2021-11-23T19:10:14.323Z"
   },
   {
    "duration": 70,
    "start_time": "2021-11-23T19:10:14.336Z"
   },
   {
    "duration": 35,
    "start_time": "2021-11-23T19:10:14.409Z"
   },
   {
    "duration": 59,
    "start_time": "2021-11-23T19:10:14.447Z"
   },
   {
    "duration": 32,
    "start_time": "2021-11-23T19:10:14.508Z"
   },
   {
    "duration": 54,
    "start_time": "2021-11-23T19:10:14.543Z"
   },
   {
    "duration": 43,
    "start_time": "2021-11-23T19:10:14.600Z"
   },
   {
    "duration": 1037,
    "start_time": "2021-11-23T19:32:15.159Z"
   },
   {
    "duration": 283,
    "start_time": "2021-11-23T19:32:16.199Z"
   },
   {
    "duration": 32,
    "start_time": "2021-11-23T19:32:16.485Z"
   },
   {
    "duration": 16,
    "start_time": "2021-11-23T19:32:16.521Z"
   },
   {
    "duration": 41,
    "start_time": "2021-11-23T19:32:16.540Z"
   },
   {
    "duration": 12,
    "start_time": "2021-11-23T19:32:16.584Z"
   },
   {
    "duration": 11,
    "start_time": "2021-11-23T19:32:16.599Z"
   },
   {
    "duration": 68,
    "start_time": "2021-11-23T19:32:16.615Z"
   },
   {
    "duration": 25,
    "start_time": "2021-11-23T19:32:16.688Z"
   },
   {
    "duration": 26,
    "start_time": "2021-11-23T19:32:16.716Z"
   },
   {
    "duration": 58,
    "start_time": "2021-11-23T19:32:16.745Z"
   },
   {
    "duration": 9,
    "start_time": "2021-11-23T19:32:16.806Z"
   },
   {
    "duration": 13,
    "start_time": "2021-11-23T19:32:16.817Z"
   },
   {
    "duration": 76,
    "start_time": "2021-11-23T19:32:16.833Z"
   },
   {
    "duration": 23,
    "start_time": "2021-11-23T19:32:16.912Z"
   },
   {
    "duration": 54,
    "start_time": "2021-11-23T19:32:16.937Z"
   },
   {
    "duration": 63,
    "start_time": "2021-11-23T19:32:16.993Z"
   },
   {
    "duration": 51,
    "start_time": "2021-11-23T19:32:17.083Z"
   },
   {
    "duration": 50,
    "start_time": "2021-11-23T19:32:17.136Z"
   },
   {
    "duration": 34,
    "start_time": "2021-11-23T19:32:17.189Z"
   },
   {
    "duration": 15,
    "start_time": "2021-11-23T19:32:17.226Z"
   },
   {
    "duration": 54,
    "start_time": "2021-11-23T19:32:17.245Z"
   },
   {
    "duration": 42,
    "start_time": "2021-11-23T19:32:17.305Z"
   },
   {
    "duration": 31,
    "start_time": "2021-11-23T19:32:17.351Z"
   },
   {
    "duration": 9,
    "start_time": "2021-11-23T19:32:17.385Z"
   },
   {
    "duration": 15,
    "start_time": "2021-11-23T19:32:17.397Z"
   },
   {
    "duration": 8,
    "start_time": "2021-11-23T19:32:17.415Z"
   },
   {
    "duration": 8,
    "start_time": "2021-11-23T19:32:17.425Z"
   },
   {
    "duration": 53,
    "start_time": "2021-11-23T19:32:17.435Z"
   },
   {
    "duration": 25,
    "start_time": "2021-11-23T19:32:17.491Z"
   },
   {
    "duration": 67,
    "start_time": "2021-11-23T19:32:17.519Z"
   },
   {
    "duration": 31,
    "start_time": "2021-11-23T19:32:17.589Z"
   },
   {
    "duration": 26,
    "start_time": "2021-11-23T19:32:17.623Z"
   },
   {
    "duration": 76,
    "start_time": "2021-11-23T19:32:17.651Z"
   },
   {
    "duration": 11,
    "start_time": "2021-11-23T19:32:17.730Z"
   },
   {
    "duration": 14,
    "start_time": "2021-11-23T19:32:17.743Z"
   },
   {
    "duration": 7,
    "start_time": "2021-11-23T19:32:17.783Z"
   },
   {
    "duration": 5412,
    "start_time": "2021-11-23T19:32:17.792Z"
   },
   {
    "duration": 15,
    "start_time": "2021-11-23T19:32:23.207Z"
   },
   {
    "duration": 11,
    "start_time": "2021-11-23T19:32:23.225Z"
   },
   {
    "duration": 7,
    "start_time": "2021-11-23T19:32:23.238Z"
   },
   {
    "duration": 35,
    "start_time": "2021-11-23T19:32:23.247Z"
   },
   {
    "duration": 4,
    "start_time": "2021-11-23T19:32:23.284Z"
   },
   {
    "duration": 9,
    "start_time": "2021-11-23T19:32:23.290Z"
   },
   {
    "duration": 6,
    "start_time": "2021-11-23T19:32:23.302Z"
   },
   {
    "duration": 5,
    "start_time": "2021-11-23T19:32:23.310Z"
   },
   {
    "duration": 6,
    "start_time": "2021-11-23T19:32:23.317Z"
   },
   {
    "duration": 5,
    "start_time": "2021-11-23T19:32:23.326Z"
   },
   {
    "duration": 49,
    "start_time": "2021-11-23T19:32:23.334Z"
   },
   {
    "duration": 7,
    "start_time": "2021-11-23T19:32:23.386Z"
   },
   {
    "duration": 8,
    "start_time": "2021-11-23T19:32:23.395Z"
   },
   {
    "duration": 7,
    "start_time": "2021-11-23T19:32:23.406Z"
   },
   {
    "duration": 6,
    "start_time": "2021-11-23T19:32:23.416Z"
   },
   {
    "duration": 8,
    "start_time": "2021-11-23T19:32:23.425Z"
   },
   {
    "duration": 5,
    "start_time": "2021-11-23T19:32:23.435Z"
   },
   {
    "duration": 39,
    "start_time": "2021-11-23T19:32:23.443Z"
   },
   {
    "duration": 6,
    "start_time": "2021-11-23T19:32:23.486Z"
   },
   {
    "duration": 19,
    "start_time": "2021-11-23T19:32:23.494Z"
   },
   {
    "duration": 13,
    "start_time": "2021-11-23T19:32:23.516Z"
   },
   {
    "duration": 71,
    "start_time": "2021-11-23T19:32:23.532Z"
   },
   {
    "duration": 9,
    "start_time": "2021-11-23T19:32:23.607Z"
   },
   {
    "duration": 33,
    "start_time": "2021-11-23T19:32:23.618Z"
   },
   {
    "duration": 49,
    "start_time": "2021-11-23T19:32:23.654Z"
   },
   {
    "duration": 34,
    "start_time": "2021-11-23T19:32:23.705Z"
   },
   {
    "duration": 63,
    "start_time": "2021-11-23T19:32:23.742Z"
   },
   {
    "duration": 37,
    "start_time": "2021-11-23T19:32:23.808Z"
   },
   {
    "duration": 59,
    "start_time": "2021-11-23T19:32:23.848Z"
   },
   {
    "duration": 32,
    "start_time": "2021-11-23T19:40:31.060Z"
   },
   {
    "duration": 41,
    "start_time": "2021-11-23T19:40:49.135Z"
   },
   {
    "duration": 27,
    "start_time": "2021-11-23T19:41:02.804Z"
   },
   {
    "duration": 30,
    "start_time": "2021-11-23T19:50:10.703Z"
   },
   {
    "duration": 38,
    "start_time": "2021-11-23T19:52:25.488Z"
   },
   {
    "duration": 25,
    "start_time": "2021-11-23T19:52:38.126Z"
   },
   {
    "duration": 137,
    "start_time": "2021-11-23T19:54:00.604Z"
   },
   {
    "duration": 92,
    "start_time": "2021-11-23T19:54:10.055Z"
   },
   {
    "duration": 768,
    "start_time": "2021-11-23T19:54:16.391Z"
   },
   {
    "duration": 258,
    "start_time": "2021-11-23T19:54:17.161Z"
   },
   {
    "duration": 31,
    "start_time": "2021-11-23T19:54:17.422Z"
   },
   {
    "duration": 27,
    "start_time": "2021-11-23T19:54:17.456Z"
   },
   {
    "duration": 17,
    "start_time": "2021-11-23T19:54:17.486Z"
   },
   {
    "duration": 12,
    "start_time": "2021-11-23T19:54:17.507Z"
   },
   {
    "duration": 14,
    "start_time": "2021-11-23T19:54:17.522Z"
   },
   {
    "duration": 56,
    "start_time": "2021-11-23T19:54:17.540Z"
   },
   {
    "duration": 22,
    "start_time": "2021-11-23T19:54:17.600Z"
   },
   {
    "duration": 59,
    "start_time": "2021-11-23T19:54:17.625Z"
   },
   {
    "duration": 23,
    "start_time": "2021-11-23T19:54:17.687Z"
   },
   {
    "duration": 17,
    "start_time": "2021-11-23T19:54:17.713Z"
   },
   {
    "duration": 11,
    "start_time": "2021-11-23T19:54:17.733Z"
   },
   {
    "duration": 25,
    "start_time": "2021-11-23T19:54:17.782Z"
   },
   {
    "duration": 23,
    "start_time": "2021-11-23T19:54:17.809Z"
   },
   {
    "duration": 50,
    "start_time": "2021-11-23T19:54:17.834Z"
   },
   {
    "duration": 39,
    "start_time": "2021-11-23T19:54:17.887Z"
   },
   {
    "duration": 62,
    "start_time": "2021-11-23T19:54:17.928Z"
   },
   {
    "duration": 28,
    "start_time": "2021-11-23T19:54:17.993Z"
   },
   {
    "duration": 63,
    "start_time": "2021-11-23T19:54:18.024Z"
   },
   {
    "duration": 17,
    "start_time": "2021-11-23T19:54:18.089Z"
   },
   {
    "duration": 30,
    "start_time": "2021-11-23T19:54:18.109Z"
   },
   {
    "duration": 65,
    "start_time": "2021-11-23T19:54:18.145Z"
   },
   {
    "duration": 11,
    "start_time": "2021-11-23T19:54:18.215Z"
   },
   {
    "duration": 14,
    "start_time": "2021-11-23T19:54:18.228Z"
   },
   {
    "duration": 38,
    "start_time": "2021-11-23T19:54:18.244Z"
   },
   {
    "duration": 9,
    "start_time": "2021-11-23T19:54:18.285Z"
   },
   {
    "duration": 12,
    "start_time": "2021-11-23T19:54:18.296Z"
   },
   {
    "duration": 27,
    "start_time": "2021-11-23T19:54:18.310Z"
   },
   {
    "duration": 37,
    "start_time": "2021-11-23T19:54:18.339Z"
   },
   {
    "duration": 41,
    "start_time": "2021-11-23T19:54:18.378Z"
   },
   {
    "duration": 32,
    "start_time": "2021-11-23T19:54:18.422Z"
   },
   {
    "duration": 39,
    "start_time": "2021-11-23T19:54:18.456Z"
   },
   {
    "duration": 116,
    "start_time": "2021-11-23T19:54:18.498Z"
   },
   {
    "duration": 418,
    "start_time": "2021-11-23T19:54:18.199Z"
   },
   {
    "duration": 415,
    "start_time": "2021-11-23T19:54:18.203Z"
   },
   {
    "duration": 415,
    "start_time": "2021-11-23T19:54:18.205Z"
   },
   {
    "duration": 414,
    "start_time": "2021-11-23T19:54:18.208Z"
   },
   {
    "duration": 413,
    "start_time": "2021-11-23T19:54:18.210Z"
   },
   {
    "duration": 411,
    "start_time": "2021-11-23T19:54:18.213Z"
   },
   {
    "duration": 410,
    "start_time": "2021-11-23T19:54:18.216Z"
   },
   {
    "duration": 408,
    "start_time": "2021-11-23T19:54:18.219Z"
   },
   {
    "duration": 408,
    "start_time": "2021-11-23T19:54:18.221Z"
   },
   {
    "duration": 406,
    "start_time": "2021-11-23T19:54:18.224Z"
   },
   {
    "duration": 404,
    "start_time": "2021-11-23T19:54:18.227Z"
   },
   {
    "duration": 404,
    "start_time": "2021-11-23T19:54:18.229Z"
   },
   {
    "duration": 402,
    "start_time": "2021-11-23T19:54:18.232Z"
   },
   {
    "duration": 401,
    "start_time": "2021-11-23T19:54:18.234Z"
   },
   {
    "duration": 400,
    "start_time": "2021-11-23T19:54:18.237Z"
   },
   {
    "duration": 398,
    "start_time": "2021-11-23T19:54:18.240Z"
   },
   {
    "duration": 369,
    "start_time": "2021-11-23T19:54:18.270Z"
   },
   {
    "duration": 365,
    "start_time": "2021-11-23T19:54:18.276Z"
   },
   {
    "duration": 360,
    "start_time": "2021-11-23T19:54:18.282Z"
   },
   {
    "duration": 356,
    "start_time": "2021-11-23T19:54:18.287Z"
   },
   {
    "duration": 354,
    "start_time": "2021-11-23T19:54:18.291Z"
   },
   {
    "duration": 352,
    "start_time": "2021-11-23T19:54:18.294Z"
   },
   {
    "duration": 350,
    "start_time": "2021-11-23T19:54:18.297Z"
   },
   {
    "duration": 348,
    "start_time": "2021-11-23T19:54:18.300Z"
   },
   {
    "duration": 347,
    "start_time": "2021-11-23T19:54:18.303Z"
   },
   {
    "duration": 344,
    "start_time": "2021-11-23T19:54:18.307Z"
   },
   {
    "duration": 343,
    "start_time": "2021-11-23T19:54:18.309Z"
   },
   {
    "duration": 341,
    "start_time": "2021-11-23T19:54:18.312Z"
   },
   {
    "duration": 341,
    "start_time": "2021-11-23T19:54:18.314Z"
   },
   {
    "duration": 337,
    "start_time": "2021-11-23T19:54:18.319Z"
   },
   {
    "duration": 360,
    "start_time": "2021-11-23T19:54:18.322Z"
   },
   {
    "duration": 359,
    "start_time": "2021-11-23T19:54:18.324Z"
   },
   {
    "duration": 358,
    "start_time": "2021-11-23T19:54:18.327Z"
   },
   {
    "duration": 119,
    "start_time": "2021-11-23T19:57:06.351Z"
   },
   {
    "duration": 779,
    "start_time": "2021-11-23T19:57:15.437Z"
   },
   {
    "duration": 303,
    "start_time": "2021-11-23T19:57:16.218Z"
   },
   {
    "duration": 29,
    "start_time": "2021-11-23T19:57:16.525Z"
   },
   {
    "duration": 32,
    "start_time": "2021-11-23T19:57:16.558Z"
   },
   {
    "duration": 9,
    "start_time": "2021-11-23T19:57:16.592Z"
   },
   {
    "duration": 19,
    "start_time": "2021-11-23T19:57:16.604Z"
   },
   {
    "duration": 11,
    "start_time": "2021-11-23T19:57:16.626Z"
   },
   {
    "duration": 59,
    "start_time": "2021-11-23T19:57:16.641Z"
   },
   {
    "duration": 22,
    "start_time": "2021-11-23T19:57:16.704Z"
   },
   {
    "duration": 20,
    "start_time": "2021-11-23T19:57:16.728Z"
   },
   {
    "duration": 50,
    "start_time": "2021-11-23T19:57:16.750Z"
   },
   {
    "duration": 32,
    "start_time": "2021-11-23T19:57:16.803Z"
   },
   {
    "duration": 13,
    "start_time": "2021-11-23T19:57:16.838Z"
   },
   {
    "duration": 48,
    "start_time": "2021-11-23T19:57:16.854Z"
   },
   {
    "duration": 19,
    "start_time": "2021-11-23T19:57:16.905Z"
   },
   {
    "duration": 21,
    "start_time": "2021-11-23T19:57:16.927Z"
   },
   {
    "duration": 69,
    "start_time": "2021-11-23T19:57:16.950Z"
   },
   {
    "duration": 34,
    "start_time": "2021-11-23T19:57:17.021Z"
   },
   {
    "duration": 28,
    "start_time": "2021-11-23T19:57:17.082Z"
   },
   {
    "duration": 36,
    "start_time": "2021-11-23T19:57:17.113Z"
   },
   {
    "duration": 41,
    "start_time": "2021-11-23T19:57:17.152Z"
   },
   {
    "duration": 39,
    "start_time": "2021-11-23T19:57:17.196Z"
   },
   {
    "duration": 70,
    "start_time": "2021-11-23T19:57:17.245Z"
   },
   {
    "duration": 13,
    "start_time": "2021-11-23T19:57:17.321Z"
   },
   {
    "duration": 14,
    "start_time": "2021-11-23T19:57:17.338Z"
   },
   {
    "duration": 30,
    "start_time": "2021-11-23T19:57:17.354Z"
   },
   {
    "duration": 15,
    "start_time": "2021-11-23T19:57:17.387Z"
   },
   {
    "duration": 12,
    "start_time": "2021-11-23T19:57:17.405Z"
   },
   {
    "duration": 28,
    "start_time": "2021-11-23T19:57:17.420Z"
   },
   {
    "duration": 44,
    "start_time": "2021-11-23T19:57:17.451Z"
   },
   {
    "duration": 33,
    "start_time": "2021-11-23T19:57:17.498Z"
   },
   {
    "duration": 63,
    "start_time": "2021-11-23T19:57:17.534Z"
   },
   {
    "duration": 23,
    "start_time": "2021-11-23T19:57:17.599Z"
   },
   {
    "duration": 163,
    "start_time": "2021-11-23T19:57:17.625Z"
   },
   {
    "duration": 421,
    "start_time": "2021-11-23T19:57:17.370Z"
   },
   {
    "duration": 420,
    "start_time": "2021-11-23T19:57:17.372Z"
   },
   {
    "duration": 418,
    "start_time": "2021-11-23T19:57:17.376Z"
   },
   {
    "duration": 416,
    "start_time": "2021-11-23T19:57:17.379Z"
   },
   {
    "duration": 414,
    "start_time": "2021-11-23T19:57:17.382Z"
   },
   {
    "duration": 407,
    "start_time": "2021-11-23T19:57:17.391Z"
   },
   {
    "duration": 404,
    "start_time": "2021-11-23T19:57:17.395Z"
   },
   {
    "duration": 402,
    "start_time": "2021-11-23T19:57:17.398Z"
   },
   {
    "duration": 401,
    "start_time": "2021-11-23T19:57:17.401Z"
   },
   {
    "duration": 400,
    "start_time": "2021-11-23T19:57:17.403Z"
   },
   {
    "duration": 383,
    "start_time": "2021-11-23T19:57:17.421Z"
   },
   {
    "duration": 376,
    "start_time": "2021-11-23T19:57:17.430Z"
   },
   {
    "duration": 370,
    "start_time": "2021-11-23T19:57:17.438Z"
   },
   {
    "duration": 361,
    "start_time": "2021-11-23T19:57:17.448Z"
   },
   {
    "duration": 359,
    "start_time": "2021-11-23T19:57:17.451Z"
   },
   {
    "duration": 358,
    "start_time": "2021-11-23T19:57:17.453Z"
   },
   {
    "duration": 351,
    "start_time": "2021-11-23T19:57:17.462Z"
   },
   {
    "duration": 349,
    "start_time": "2021-11-23T19:57:17.465Z"
   },
   {
    "duration": 347,
    "start_time": "2021-11-23T19:57:17.468Z"
   },
   {
    "duration": 346,
    "start_time": "2021-11-23T19:57:17.471Z"
   },
   {
    "duration": 345,
    "start_time": "2021-11-23T19:57:17.473Z"
   },
   {
    "duration": 332,
    "start_time": "2021-11-23T19:57:17.488Z"
   },
   {
    "duration": 326,
    "start_time": "2021-11-23T19:57:17.495Z"
   },
   {
    "duration": 324,
    "start_time": "2021-11-23T19:57:17.498Z"
   },
   {
    "duration": 301,
    "start_time": "2021-11-23T19:57:17.522Z"
   },
   {
    "duration": 300,
    "start_time": "2021-11-23T19:57:17.525Z"
   },
   {
    "duration": 299,
    "start_time": "2021-11-23T19:57:17.527Z"
   },
   {
    "duration": 298,
    "start_time": "2021-11-23T19:57:17.529Z"
   },
   {
    "duration": 297,
    "start_time": "2021-11-23T19:57:17.532Z"
   },
   {
    "duration": 343,
    "start_time": "2021-11-23T19:57:17.539Z"
   },
   {
    "duration": 341,
    "start_time": "2021-11-23T19:57:17.542Z"
   },
   {
    "duration": 341,
    "start_time": "2021-11-23T19:57:17.544Z"
   },
   {
    "duration": 329,
    "start_time": "2021-11-23T19:57:17.557Z"
   },
   {
    "duration": 25,
    "start_time": "2021-11-23T19:58:19.042Z"
   },
   {
    "duration": 26,
    "start_time": "2021-11-23T19:58:44.020Z"
   },
   {
    "duration": 47,
    "start_time": "2021-11-23T19:59:10.403Z"
   },
   {
    "duration": 851,
    "start_time": "2021-11-23T19:59:30.017Z"
   },
   {
    "duration": 269,
    "start_time": "2021-11-23T19:59:30.870Z"
   },
   {
    "duration": 39,
    "start_time": "2021-11-23T19:59:31.145Z"
   },
   {
    "duration": 33,
    "start_time": "2021-11-23T19:59:31.187Z"
   },
   {
    "duration": 7,
    "start_time": "2021-11-23T19:59:31.223Z"
   },
   {
    "duration": 21,
    "start_time": "2021-11-23T19:59:31.233Z"
   },
   {
    "duration": 28,
    "start_time": "2021-11-23T19:59:31.260Z"
   },
   {
    "duration": 22,
    "start_time": "2021-11-23T19:59:31.292Z"
   },
   {
    "duration": 23,
    "start_time": "2021-11-23T19:59:31.318Z"
   },
   {
    "duration": 62,
    "start_time": "2021-11-23T19:59:31.344Z"
   },
   {
    "duration": 23,
    "start_time": "2021-11-23T19:59:31.409Z"
   },
   {
    "duration": 47,
    "start_time": "2021-11-23T19:59:31.435Z"
   },
   {
    "duration": 13,
    "start_time": "2021-11-23T19:59:31.485Z"
   },
   {
    "duration": 33,
    "start_time": "2021-11-23T19:59:31.501Z"
   },
   {
    "duration": 55,
    "start_time": "2021-11-23T19:59:31.537Z"
   },
   {
    "duration": 22,
    "start_time": "2021-11-23T19:59:31.594Z"
   },
   {
    "duration": 65,
    "start_time": "2021-11-23T19:59:31.618Z"
   },
   {
    "duration": 36,
    "start_time": "2021-11-23T19:59:31.686Z"
   },
   {
    "duration": 29,
    "start_time": "2021-11-23T19:59:31.725Z"
   },
   {
    "duration": 62,
    "start_time": "2021-11-23T19:59:31.756Z"
   },
   {
    "duration": 16,
    "start_time": "2021-11-23T19:59:31.820Z"
   },
   {
    "duration": 57,
    "start_time": "2021-11-23T19:59:31.843Z"
   },
   {
    "duration": 44,
    "start_time": "2021-11-23T19:59:31.904Z"
   },
   {
    "duration": 33,
    "start_time": "2021-11-23T19:59:31.951Z"
   },
   {
    "duration": 9,
    "start_time": "2021-11-23T19:59:31.987Z"
   },
   {
    "duration": 13,
    "start_time": "2021-11-23T19:59:31.999Z"
   },
   {
    "duration": 7,
    "start_time": "2021-11-23T19:59:32.014Z"
   },
   {
    "duration": 5,
    "start_time": "2021-11-23T19:59:32.024Z"
   },
   {
    "duration": 58,
    "start_time": "2021-11-23T19:59:32.032Z"
   },
   {
    "duration": 21,
    "start_time": "2021-11-23T19:59:32.093Z"
   },
   {
    "duration": 32,
    "start_time": "2021-11-23T19:59:32.116Z"
   },
   {
    "duration": 56,
    "start_time": "2021-11-23T19:59:32.151Z"
   },
   {
    "duration": 27,
    "start_time": "2021-11-23T19:59:32.210Z"
   },
   {
    "duration": 56,
    "start_time": "2021-11-23T19:59:32.240Z"
   },
   {
    "duration": 11,
    "start_time": "2021-11-23T19:59:32.299Z"
   },
   {
    "duration": 11,
    "start_time": "2021-11-23T19:59:32.312Z"
   },
   {
    "duration": 5,
    "start_time": "2021-11-23T19:59:32.326Z"
   },
   {
    "duration": 5233,
    "start_time": "2021-11-23T19:59:32.335Z"
   },
   {
    "duration": 26,
    "start_time": "2021-11-23T19:59:37.571Z"
   },
   {
    "duration": 11,
    "start_time": "2021-11-23T19:59:37.599Z"
   },
   {
    "duration": 9,
    "start_time": "2021-11-23T19:59:37.613Z"
   },
   {
    "duration": 10,
    "start_time": "2021-11-23T19:59:37.624Z"
   },
   {
    "duration": 5,
    "start_time": "2021-11-23T19:59:37.637Z"
   },
   {
    "duration": 38,
    "start_time": "2021-11-23T19:59:37.646Z"
   },
   {
    "duration": 7,
    "start_time": "2021-11-23T19:59:37.687Z"
   },
   {
    "duration": 7,
    "start_time": "2021-11-23T19:59:37.697Z"
   },
   {
    "duration": 6,
    "start_time": "2021-11-23T19:59:37.707Z"
   },
   {
    "duration": 6,
    "start_time": "2021-11-23T19:59:37.715Z"
   },
   {
    "duration": 5,
    "start_time": "2021-11-23T19:59:37.724Z"
   },
   {
    "duration": 4,
    "start_time": "2021-11-23T19:59:37.732Z"
   },
   {
    "duration": 45,
    "start_time": "2021-11-23T19:59:37.739Z"
   },
   {
    "duration": 6,
    "start_time": "2021-11-23T19:59:37.787Z"
   },
   {
    "duration": 8,
    "start_time": "2021-11-23T19:59:37.797Z"
   },
   {
    "duration": 6,
    "start_time": "2021-11-23T19:59:37.808Z"
   },
   {
    "duration": 6,
    "start_time": "2021-11-23T19:59:37.816Z"
   },
   {
    "duration": 13,
    "start_time": "2021-11-23T19:59:37.824Z"
   },
   {
    "duration": 5,
    "start_time": "2021-11-23T19:59:37.839Z"
   },
   {
    "duration": 51,
    "start_time": "2021-11-23T19:59:37.846Z"
   },
   {
    "duration": 13,
    "start_time": "2021-11-23T19:59:37.899Z"
   },
   {
    "duration": 23,
    "start_time": "2021-11-23T19:59:37.914Z"
   },
   {
    "duration": 45,
    "start_time": "2021-11-23T19:59:37.939Z"
   },
   {
    "duration": 36,
    "start_time": "2021-11-23T19:59:37.987Z"
   },
   {
    "duration": 26,
    "start_time": "2021-11-23T19:59:38.025Z"
   },
   {
    "duration": 64,
    "start_time": "2021-11-23T19:59:38.053Z"
   },
   {
    "duration": 35,
    "start_time": "2021-11-23T19:59:38.119Z"
   },
   {
    "duration": 29,
    "start_time": "2021-11-23T19:59:38.181Z"
   },
   {
    "duration": 32,
    "start_time": "2021-11-23T19:59:38.219Z"
   },
   {
    "duration": 11,
    "start_time": "2021-11-23T20:29:50.576Z"
   },
   {
    "duration": 728,
    "start_time": "2021-11-23T21:56:16.331Z"
   },
   {
    "duration": 418,
    "start_time": "2021-11-23T21:56:17.062Z"
   },
   {
    "duration": 33,
    "start_time": "2021-11-23T21:56:17.483Z"
   },
   {
    "duration": 18,
    "start_time": "2021-11-23T21:56:17.519Z"
   },
   {
    "duration": 42,
    "start_time": "2021-11-23T21:56:17.540Z"
   },
   {
    "duration": 12,
    "start_time": "2021-11-23T21:56:17.585Z"
   },
   {
    "duration": 9,
    "start_time": "2021-11-23T21:56:17.600Z"
   },
   {
    "duration": 22,
    "start_time": "2021-11-23T21:56:17.611Z"
   },
   {
    "duration": 58,
    "start_time": "2021-11-23T21:56:17.636Z"
   },
   {
    "duration": 20,
    "start_time": "2021-11-23T21:56:17.698Z"
   },
   {
    "duration": 22,
    "start_time": "2021-11-23T21:56:17.721Z"
   },
   {
    "duration": 41,
    "start_time": "2021-11-23T21:56:17.745Z"
   },
   {
    "duration": 11,
    "start_time": "2021-11-23T21:56:17.788Z"
   },
   {
    "duration": 25,
    "start_time": "2021-11-23T21:56:17.802Z"
   },
   {
    "duration": 56,
    "start_time": "2021-11-23T21:56:17.830Z"
   },
   {
    "duration": 22,
    "start_time": "2021-11-23T21:56:17.889Z"
   },
   {
    "duration": 68,
    "start_time": "2021-11-23T21:56:17.914Z"
   },
   {
    "duration": 35,
    "start_time": "2021-11-23T21:56:17.984Z"
   },
   {
    "duration": 28,
    "start_time": "2021-11-23T21:56:18.021Z"
   },
   {
    "duration": 77,
    "start_time": "2021-11-23T21:56:18.051Z"
   },
   {
    "duration": 14,
    "start_time": "2021-11-23T21:56:18.131Z"
   },
   {
    "duration": 34,
    "start_time": "2021-11-23T21:56:18.147Z"
   },
   {
    "duration": 41,
    "start_time": "2021-11-23T21:56:18.183Z"
   },
   {
    "duration": 10,
    "start_time": "2021-11-23T21:56:18.226Z"
   },
   {
    "duration": 14,
    "start_time": "2021-11-23T21:56:18.238Z"
   },
   {
    "duration": 35,
    "start_time": "2021-11-23T21:56:18.255Z"
   },
   {
    "duration": 7,
    "start_time": "2021-11-23T21:56:18.295Z"
   },
   {
    "duration": 6,
    "start_time": "2021-11-23T21:56:18.305Z"
   },
   {
    "duration": 20,
    "start_time": "2021-11-23T21:56:18.313Z"
   },
   {
    "duration": 53,
    "start_time": "2021-11-23T21:56:18.336Z"
   },
   {
    "duration": 34,
    "start_time": "2021-11-23T21:56:18.391Z"
   },
   {
    "duration": 54,
    "start_time": "2021-11-23T21:56:18.428Z"
   },
   {
    "duration": 25,
    "start_time": "2021-11-23T21:56:18.485Z"
   },
   {
    "duration": 29,
    "start_time": "2021-11-23T21:56:18.513Z"
   },
   {
    "duration": 41,
    "start_time": "2021-11-23T21:56:18.545Z"
   },
   {
    "duration": 11,
    "start_time": "2021-11-23T21:56:18.589Z"
   },
   {
    "duration": 7,
    "start_time": "2021-11-23T21:56:18.603Z"
   },
   {
    "duration": 4756,
    "start_time": "2021-11-23T21:56:18.613Z"
   },
   {
    "duration": 22,
    "start_time": "2021-11-23T21:56:23.371Z"
   },
   {
    "duration": 10,
    "start_time": "2021-11-23T21:56:23.396Z"
   },
   {
    "duration": 13,
    "start_time": "2021-11-23T21:56:23.409Z"
   },
   {
    "duration": 10,
    "start_time": "2021-11-23T21:56:23.424Z"
   },
   {
    "duration": 24,
    "start_time": "2021-11-23T21:56:23.482Z"
   },
   {
    "duration": 12,
    "start_time": "2021-11-23T21:56:23.509Z"
   },
   {
    "duration": 63,
    "start_time": "2021-11-23T21:56:23.523Z"
   },
   {
    "duration": 26,
    "start_time": "2021-11-23T21:56:23.588Z"
   },
   {
    "duration": 35,
    "start_time": "2021-11-23T21:56:23.616Z"
   },
   {
    "duration": 59,
    "start_time": "2021-11-23T21:56:23.653Z"
   },
   {
    "duration": 27,
    "start_time": "2021-11-23T21:56:23.714Z"
   },
   {
    "duration": 57,
    "start_time": "2021-11-23T21:56:23.744Z"
   },
   {
    "duration": 797,
    "start_time": "2021-11-23T22:13:56.340Z"
   },
   {
    "duration": 266,
    "start_time": "2021-11-23T22:13:57.140Z"
   },
   {
    "duration": 28,
    "start_time": "2021-11-23T22:13:57.409Z"
   },
   {
    "duration": 17,
    "start_time": "2021-11-23T22:13:57.440Z"
   },
   {
    "duration": 8,
    "start_time": "2021-11-23T22:13:57.482Z"
   },
   {
    "duration": 10,
    "start_time": "2021-11-23T22:13:57.492Z"
   },
   {
    "duration": 7,
    "start_time": "2021-11-23T22:13:57.505Z"
   },
   {
    "duration": 21,
    "start_time": "2021-11-23T22:13:57.516Z"
   },
   {
    "duration": 22,
    "start_time": "2021-11-23T22:13:57.582Z"
   },
   {
    "duration": 20,
    "start_time": "2021-11-23T22:13:57.607Z"
   },
   {
    "duration": 54,
    "start_time": "2021-11-23T22:13:57.630Z"
   },
   {
    "duration": 10,
    "start_time": "2021-11-23T22:13:57.687Z"
   },
   {
    "duration": 14,
    "start_time": "2021-11-23T22:13:57.700Z"
   },
   {
    "duration": 73,
    "start_time": "2021-11-23T22:13:57.717Z"
   },
   {
    "duration": 30,
    "start_time": "2021-11-23T22:13:57.794Z"
   },
   {
    "duration": 57,
    "start_time": "2021-11-23T22:13:57.827Z"
   },
   {
    "duration": 62,
    "start_time": "2021-11-23T22:13:57.887Z"
   },
   {
    "duration": 66,
    "start_time": "2021-11-23T22:13:57.952Z"
   },
   {
    "duration": 40,
    "start_time": "2021-11-23T22:13:58.021Z"
   },
   {
    "duration": 52,
    "start_time": "2021-11-23T22:13:58.083Z"
   },
   {
    "duration": 21,
    "start_time": "2021-11-23T22:13:58.137Z"
   },
   {
    "duration": 30,
    "start_time": "2021-11-23T22:13:58.183Z"
   },
   {
    "duration": 85,
    "start_time": "2021-11-23T22:13:58.221Z"
   },
   {
    "duration": 13,
    "start_time": "2021-11-23T22:13:58.311Z"
   },
   {
    "duration": 14,
    "start_time": "2021-11-23T22:13:58.327Z"
   },
   {
    "duration": 43,
    "start_time": "2021-11-23T22:13:58.344Z"
   },
   {
    "duration": 11,
    "start_time": "2021-11-23T22:13:58.390Z"
   },
   {
    "duration": 13,
    "start_time": "2021-11-23T22:13:58.403Z"
   },
   {
    "duration": 17,
    "start_time": "2021-11-23T22:13:58.418Z"
   },
   {
    "duration": 21,
    "start_time": "2021-11-23T22:13:58.438Z"
   },
   {
    "duration": 48,
    "start_time": "2021-11-23T22:13:58.462Z"
   },
   {
    "duration": 31,
    "start_time": "2021-11-23T22:13:58.513Z"
   },
   {
    "duration": 54,
    "start_time": "2021-11-23T22:13:58.546Z"
   },
   {
    "duration": 31,
    "start_time": "2021-11-23T22:13:58.602Z"
   },
   {
    "duration": 11,
    "start_time": "2021-11-23T22:13:58.636Z"
   },
   {
    "duration": 39,
    "start_time": "2021-11-23T22:13:58.650Z"
   },
   {
    "duration": 19,
    "start_time": "2021-11-23T22:13:58.691Z"
   },
   {
    "duration": 4806,
    "start_time": "2021-11-23T22:13:58.712Z"
   },
   {
    "duration": 16,
    "start_time": "2021-11-23T22:14:03.521Z"
   },
   {
    "duration": 10,
    "start_time": "2021-11-23T22:14:03.540Z"
   },
   {
    "duration": 36,
    "start_time": "2021-11-23T22:14:03.552Z"
   },
   {
    "duration": 20,
    "start_time": "2021-11-23T22:14:03.591Z"
   },
   {
    "duration": 22,
    "start_time": "2021-11-23T22:14:03.614Z"
   },
   {
    "duration": 7,
    "start_time": "2021-11-23T22:14:03.639Z"
   },
   {
    "duration": 74,
    "start_time": "2021-11-23T22:14:03.649Z"
   },
   {
    "duration": 25,
    "start_time": "2021-11-23T22:14:03.726Z"
   },
   {
    "duration": 58,
    "start_time": "2021-11-23T22:14:03.754Z"
   },
   {
    "duration": 29,
    "start_time": "2021-11-23T22:14:03.814Z"
   },
   {
    "duration": 51,
    "start_time": "2021-11-23T22:14:03.846Z"
   },
   {
    "duration": 31,
    "start_time": "2021-11-23T22:14:03.899Z"
   },
   {
    "duration": 750,
    "start_time": "2021-11-23T22:16:04.713Z"
   },
   {
    "duration": 250,
    "start_time": "2021-11-23T22:16:05.465Z"
   },
   {
    "duration": 41,
    "start_time": "2021-11-23T22:16:05.722Z"
   },
   {
    "duration": 34,
    "start_time": "2021-11-23T22:16:05.766Z"
   },
   {
    "duration": 7,
    "start_time": "2021-11-23T22:16:05.802Z"
   },
   {
    "duration": 11,
    "start_time": "2021-11-23T22:16:05.812Z"
   },
   {
    "duration": 7,
    "start_time": "2021-11-23T22:16:05.827Z"
   },
   {
    "duration": 65,
    "start_time": "2021-11-23T22:16:05.837Z"
   },
   {
    "duration": 32,
    "start_time": "2021-11-23T22:16:05.904Z"
   },
   {
    "duration": 21,
    "start_time": "2021-11-23T22:16:05.938Z"
   },
   {
    "duration": 39,
    "start_time": "2021-11-23T22:16:05.962Z"
   },
   {
    "duration": 9,
    "start_time": "2021-11-23T22:16:06.003Z"
   },
   {
    "duration": 12,
    "start_time": "2021-11-23T22:16:06.015Z"
   },
   {
    "duration": 55,
    "start_time": "2021-11-23T22:16:06.030Z"
   },
   {
    "duration": 20,
    "start_time": "2021-11-23T22:16:06.087Z"
   },
   {
    "duration": 20,
    "start_time": "2021-11-23T22:16:06.110Z"
   },
   {
    "duration": 73,
    "start_time": "2021-11-23T22:16:06.132Z"
   },
   {
    "duration": 34,
    "start_time": "2021-11-23T22:16:06.207Z"
   },
   {
    "duration": 48,
    "start_time": "2021-11-23T22:16:06.243Z"
   },
   {
    "duration": 36,
    "start_time": "2021-11-23T22:16:06.293Z"
   },
   {
    "duration": 13,
    "start_time": "2021-11-23T22:16:06.331Z"
   },
   {
    "duration": 48,
    "start_time": "2021-11-23T22:16:06.349Z"
   },
   {
    "duration": 40,
    "start_time": "2021-11-23T22:16:06.400Z"
   },
   {
    "duration": 9,
    "start_time": "2021-11-23T22:16:06.442Z"
   },
   {
    "duration": 36,
    "start_time": "2021-11-23T22:16:06.453Z"
   },
   {
    "duration": 21,
    "start_time": "2021-11-23T22:16:06.492Z"
   },
   {
    "duration": 11,
    "start_time": "2021-11-23T22:16:06.515Z"
   },
   {
    "duration": 17,
    "start_time": "2021-11-23T22:16:06.529Z"
   },
   {
    "duration": 24,
    "start_time": "2021-11-23T22:16:06.548Z"
   },
   {
    "duration": 21,
    "start_time": "2021-11-23T22:16:06.574Z"
   },
   {
    "duration": 41,
    "start_time": "2021-11-23T22:16:06.597Z"
   },
   {
    "duration": 53,
    "start_time": "2021-11-23T22:16:06.641Z"
   },
   {
    "duration": 32,
    "start_time": "2021-11-23T22:16:06.697Z"
   },
   {
    "duration": 56,
    "start_time": "2021-11-23T22:16:06.732Z"
   },
   {
    "duration": 12,
    "start_time": "2021-11-23T22:16:06.791Z"
   },
   {
    "duration": 14,
    "start_time": "2021-11-23T22:16:06.806Z"
   },
   {
    "duration": 8,
    "start_time": "2021-11-23T22:16:06.823Z"
   },
   {
    "duration": 4695,
    "start_time": "2021-11-23T22:16:06.834Z"
   },
   {
    "duration": 16,
    "start_time": "2021-11-23T22:16:11.532Z"
   },
   {
    "duration": 10,
    "start_time": "2021-11-23T22:16:11.550Z"
   },
   {
    "duration": 12,
    "start_time": "2021-11-23T22:16:11.583Z"
   },
   {
    "duration": 14,
    "start_time": "2021-11-23T22:16:11.597Z"
   },
   {
    "duration": 23,
    "start_time": "2021-11-23T22:16:11.613Z"
   },
   {
    "duration": 7,
    "start_time": "2021-11-23T22:16:11.638Z"
   },
   {
    "duration": 32,
    "start_time": "2021-11-23T22:16:11.683Z"
   },
   {
    "duration": 25,
    "start_time": "2021-11-23T22:16:11.717Z"
   },
   {
    "duration": 62,
    "start_time": "2021-11-23T22:16:11.744Z"
   },
   {
    "duration": 32,
    "start_time": "2021-11-23T22:16:11.809Z"
   },
   {
    "duration": 51,
    "start_time": "2021-11-23T22:16:11.843Z"
   },
   {
    "duration": 28,
    "start_time": "2021-11-23T22:16:11.897Z"
   },
   {
    "duration": 753,
    "start_time": "2021-11-24T08:30:54.809Z"
   },
   {
    "duration": 312,
    "start_time": "2021-11-24T08:30:55.564Z"
   },
   {
    "duration": 32,
    "start_time": "2021-11-24T08:30:55.880Z"
   },
   {
    "duration": 16,
    "start_time": "2021-11-24T08:30:55.916Z"
   },
   {
    "duration": 40,
    "start_time": "2021-11-24T08:30:55.934Z"
   },
   {
    "duration": 11,
    "start_time": "2021-11-24T08:30:55.977Z"
   },
   {
    "duration": 12,
    "start_time": "2021-11-24T08:30:55.990Z"
   },
   {
    "duration": 22,
    "start_time": "2021-11-24T08:30:56.005Z"
   },
   {
    "duration": 23,
    "start_time": "2021-11-24T08:30:56.068Z"
   },
   {
    "duration": 23,
    "start_time": "2021-11-24T08:30:56.094Z"
   },
   {
    "duration": 51,
    "start_time": "2021-11-24T08:30:56.119Z"
   },
   {
    "duration": 7,
    "start_time": "2021-11-24T08:30:56.172Z"
   },
   {
    "duration": 10,
    "start_time": "2021-11-24T08:30:56.182Z"
   },
   {
    "duration": 25,
    "start_time": "2021-11-24T08:30:56.194Z"
   },
   {
    "duration": 57,
    "start_time": "2021-11-24T08:30:56.222Z"
   },
   {
    "duration": 21,
    "start_time": "2021-11-24T08:30:56.281Z"
   },
   {
    "duration": 70,
    "start_time": "2021-11-24T08:30:56.304Z"
   },
   {
    "duration": 37,
    "start_time": "2021-11-24T08:30:56.377Z"
   },
   {
    "duration": 60,
    "start_time": "2021-11-24T08:30:56.417Z"
   },
   {
    "duration": 35,
    "start_time": "2021-11-24T08:30:56.480Z"
   },
   {
    "duration": 14,
    "start_time": "2021-11-24T08:30:56.517Z"
   },
   {
    "duration": 49,
    "start_time": "2021-11-24T08:30:56.534Z"
   },
   {
    "duration": 42,
    "start_time": "2021-11-24T08:30:56.585Z"
   },
   {
    "duration": 9,
    "start_time": "2021-11-24T08:30:56.629Z"
   },
   {
    "duration": 9,
    "start_time": "2021-11-24T08:30:56.667Z"
   },
   {
    "duration": 16,
    "start_time": "2021-11-24T08:30:56.678Z"
   },
   {
    "duration": 9,
    "start_time": "2021-11-24T08:30:56.700Z"
   },
   {
    "duration": 16,
    "start_time": "2021-11-24T08:30:56.712Z"
   },
   {
    "duration": 38,
    "start_time": "2021-11-24T08:30:56.730Z"
   },
   {
    "duration": 21,
    "start_time": "2021-11-24T08:30:56.771Z"
   },
   {
    "duration": 39,
    "start_time": "2021-11-24T08:30:56.795Z"
   },
   {
    "duration": 43,
    "start_time": "2021-11-24T08:30:56.836Z"
   },
   {
    "duration": 24,
    "start_time": "2021-11-24T08:30:56.881Z"
   },
   {
    "duration": 28,
    "start_time": "2021-11-24T08:30:56.907Z"
   },
   {
    "duration": 38,
    "start_time": "2021-11-24T08:30:56.937Z"
   },
   {
    "duration": 12,
    "start_time": "2021-11-24T08:30:56.977Z"
   },
   {
    "duration": 9,
    "start_time": "2021-11-24T08:30:56.992Z"
   },
   {
    "duration": 4647,
    "start_time": "2021-11-24T08:30:57.003Z"
   },
   {
    "duration": 24,
    "start_time": "2021-11-24T08:31:01.652Z"
   },
   {
    "duration": 10,
    "start_time": "2021-11-24T08:31:01.679Z"
   },
   {
    "duration": 27,
    "start_time": "2021-11-24T08:31:01.692Z"
   },
   {
    "duration": 10,
    "start_time": "2021-11-24T08:31:01.721Z"
   },
   {
    "duration": 51,
    "start_time": "2021-11-24T08:31:01.733Z"
   },
   {
    "duration": 8,
    "start_time": "2021-11-24T08:31:01.786Z"
   },
   {
    "duration": 41,
    "start_time": "2021-11-24T08:31:01.796Z"
   },
   {
    "duration": 46,
    "start_time": "2021-11-24T08:31:01.839Z"
   },
   {
    "duration": 36,
    "start_time": "2021-11-24T08:31:01.888Z"
   },
   {
    "duration": 52,
    "start_time": "2021-11-24T08:31:01.927Z"
   },
   {
    "duration": 26,
    "start_time": "2021-11-24T08:31:01.982Z"
   },
   {
    "duration": 56,
    "start_time": "2021-11-24T08:31:02.011Z"
   }
  ],
  "kernelspec": {
   "display_name": "Python 3 (ipykernel)",
   "language": "python",
   "name": "python3"
  },
  "language_info": {
   "codemirror_mode": {
    "name": "ipython",
    "version": 3
   },
   "file_extension": ".py",
   "mimetype": "text/x-python",
   "name": "python",
   "nbconvert_exporter": "python",
   "pygments_lexer": "ipython3",
   "version": "3.9.5"
  },
  "toc": {
   "base_numbering": 1,
   "nav_menu": {},
   "number_sections": true,
   "sideBar": true,
   "skip_h1_title": true,
   "title_cell": "Table of Contents",
   "title_sidebar": "Contents",
   "toc_cell": false,
   "toc_position": {
    "height": "calc(100% - 180px)",
    "left": "10px",
    "top": "150px",
    "width": "259px"
   },
   "toc_section_display": true,
   "toc_window_display": true
  }
 },
 "nbformat": 4,
 "nbformat_minor": 2
}
